{
 "cells": [
  {
   "cell_type": "code",
   "execution_count": 1,
   "metadata": {
    "collapsed": true
   },
   "outputs": [],
   "source": [
    "import cPickle as pickle\n",
    "import string\n",
    "import os\n",
    "\n",
    "%matplotlib inline\n",
    "import numpy as np\n",
    "import random\n",
    "import time\n",
    "\n",
    "import logging\n",
    "from logging import info\n",
    "\n",
    "from multiprocessing import Pool as ThreadPool\n",
    "import itertools"
   ]
  },
  {
   "cell_type": "code",
   "execution_count": 2,
   "metadata": {
    "collapsed": true
   },
   "outputs": [],
   "source": [
    "root = logging.getLogger()\n",
    "for handler in root.handlers[:]:\n",
    "    root.removeHandler(handler)\n",
    "logging.basicConfig(format='%(asctime)s : %(levelname)s : %(message)s', level=logging.INFO) # adds a default StreamHanlder\n",
    "#root.addHandler(logging.StreamHandler())"
   ]
  },
  {
   "cell_type": "code",
   "execution_count": 6,
   "metadata": {
    "collapsed": true
   },
   "outputs": [],
   "source": [
    "root_location = \"/home/shalaby/data/\"\n",
    "exports_location = root_location + \"exported_data/\"\n",
    "preprocessed_data_location = root_location + \"preprocessed_data/extended_pv_abs_desc_claims_full_chunks/\"\n",
    "new_preprocessed_data_location = root_location + \"preprocessed_data/extended_pv_abs_desc_claims_full_chunks_merged/\"\n",
    "\n",
    "if not os.path.exists(new_preprocessed_data_location):\n",
    "    os.makedirs(new_preprocessed_data_location)\n",
    "    \n",
    "doc_classifications_map_file = exports_location + \"doc_classification_map.pkl\"\n",
    "sections_file = exports_location + \"sections.pkl\"\n",
    "classes_file = exports_location + \"classes.pkl\"\n",
    "subclasses_file = exports_location + \"subclasses.pkl\"\n",
    "classifications_output = exports_location + \"classifications.pkl\"\n",
    "training_docs_list_file = exports_location + \"training_docs_list.pkl\"\n",
    "validation_docs_list_file = exports_location + \"validation_docs_list.pkl\"\n",
    "test_docs_list_file = exports_location + \"test_docs_list.pkl\""
   ]
  },
  {
   "cell_type": "code",
   "execution_count": 4,
   "metadata": {
    "collapsed": false
   },
   "outputs": [
    {
     "name": "stdout",
     "output_type": "stream",
     "text": [
      "CPU times: user 36.7 s, sys: 28.9 s, total: 1min 5s\n",
      "Wall time: 1min 14s\n"
     ]
    }
   ],
   "source": [
    "%%time\n",
    "doc_classification_map = pickle.load(open(doc_classifications_map_file))\n",
    "sections = pickle.load(open(sections_file))\n",
    "classes = pickle.load(open(classes_file))\n",
    "subclasses = pickle.load(open(subclasses_file))\n",
    "training_docs_list = pickle.load(open(training_docs_list_file))\n",
    "validation_docs_list = pickle.load(open(validation_docs_list_file))\n",
    "test_docs_list = pickle.load(open(test_docs_list_file))"
   ]
  },
  {
   "cell_type": "code",
   "execution_count": 11,
   "metadata": {
    "collapsed": true
   },
   "outputs": [],
   "source": [
    "LINES_PER_DOCUMENT = 34\n",
    "BATCH_DOCS_SIZE = 10000\n",
    "NEW_BATCH_DOCS_SIZE = 50000\n",
    "BATCH_SIZE_LINES = LINES_PER_DOCUMENT * BATCH_DOCS_SIZE\n",
    "NEW_BATCH_SIZE_LINES = LINES_PER_DOCUMENT * NEW_BATCH_DOCS_SIZE\n",
    "\n",
    "\n",
    "TRAINING_PREPROCESSED_FILES_PREFIX = preprocessed_data_location + \"extended_pv_training_docs_data_preprocessed-\"\n",
    "VALIDATION_PREPROCESSED_FILES_PREFIX = preprocessed_data_location + \"validation_docs_data_preprocessed-\"\n",
    "TEST_PREPROCESSED_FILES_PREFIX = preprocessed_data_location + \"test_docs_data_preprocessed-\"\n",
    "\n",
    "\n",
    "TRAINING_NEW_PREPROCESSED_FILES_PREFIX = new_preprocessed_data_location + \"extended_pv_training_docs_data_preprocessed-\"\n",
    "VALIDATION_NEW_PREPROCESSED_FILES_PREFIX = new_preprocessed_data_location + \"validation_docs_data_preprocessed-\"\n",
    "TEST_NEW_PREPROCESSED_FILES_PREFIX = new_preprocessed_data_location + \"test_docs_data_preprocessed-\"\n"
   ]
  },
  {
   "cell_type": "code",
   "execution_count": null,
   "metadata": {
    "collapsed": true
   },
   "outputs": [],
   "source": [
    "FILE_PREFIX_TO_READ = TRAINING_PREPROCESSED_FILES_PREFIX\n",
    "FILE_PREFIX_TO_WRITE = TRAINING_NEW_PREPROCESSED_FILES_PREFIX"
   ]
  },
  {
   "cell_type": "code",
   "execution_count": null,
   "metadata": {
    "collapsed": false
   },
   "outputs": [
    {
     "name": "stderr",
     "output_type": "stream",
     "text": [
      "2017-04-05 00:39:57,471 : INFO : Reading new file for batch 0\n",
      "2017-04-05 00:39:57,472 : INFO : Writing to a new file for batch 0\n",
      "2017-04-05 00:40:00,669 : INFO : Reading new file for batch 10000\n",
      "2017-04-05 00:41:19,586 : INFO : Reading new file for batch 20000\n",
      "2017-04-05 00:42:31,064 : INFO : Reading new file for batch 30000\n",
      "2017-04-05 00:43:38,942 : INFO : Reading new file for batch 40000\n",
      "2017-04-05 00:44:23,691 : INFO : Reading new file for batch 50000\n",
      "2017-04-05 00:44:24,414 : INFO : Writing to a new file for batch 50000\n",
      "2017-04-05 00:45:10,363 : INFO : Reading new file for batch 60000\n",
      "2017-04-05 00:46:36,739 : INFO : Reading new file for batch 70000\n",
      "2017-04-05 00:47:47,464 : INFO : Reading new file for batch 80000\n",
      "2017-04-05 00:48:36,094 : INFO : Reading new file for batch 90000\n",
      "2017-04-05 00:49:38,031 : INFO : Reading new file for batch 100000\n",
      "2017-04-05 00:49:38,084 : INFO : Writing to a new file for batch 100000\n",
      "2017-04-05 00:50:22,543 : INFO : Reading new file for batch 110000\n",
      "2017-04-05 00:51:39,967 : INFO : Reading new file for batch 120000\n",
      "2017-04-05 00:53:48,762 : INFO : Reading new file for batch 130000\n",
      "2017-04-05 00:55:43,513 : INFO : Reading new file for batch 140000\n",
      "2017-04-05 00:56:56,458 : INFO : Reading new file for batch 150000\n",
      "2017-04-05 00:56:56,717 : INFO : Writing to a new file for batch 150000\n",
      "2017-04-05 00:57:49,680 : INFO : Reading new file for batch 160000\n",
      "2017-04-05 00:58:59,073 : INFO : Reading new file for batch 170000\n",
      "2017-04-05 00:59:48,173 : INFO : Reading new file for batch 180000\n",
      "2017-04-05 01:00:57,529 : INFO : Reading new file for batch 190000\n",
      "2017-04-05 01:01:46,118 : INFO : Reading new file for batch 200000\n",
      "2017-04-05 01:01:46,300 : INFO : Writing to a new file for batch 200000\n",
      "2017-04-05 01:02:33,697 : INFO : Reading new file for batch 210000\n"
     ]
    }
   ],
   "source": [
    "curr_index = 0\n",
    "curr_read_file_index = 0\n",
    "curr_write_file_index = 0\n",
    "\n",
    "read_file = None\n",
    "write_file = None\n",
    "\n",
    "def read_line():\n",
    "    global read_file, curr_read_file_index\n",
    "    while True:\n",
    "        if read_file is None:\n",
    "            info(\"Reading new file for batch {}\".format(curr_read_file_index))\n",
    "            if os.path.exists(FILE_PREFIX_TO_READ + str(curr_read_file_index)):\n",
    "                read_file = open(FILE_PREFIX_TO_READ + str(curr_read_file_index), \"r\")\n",
    "            else: \n",
    "                raise StopIteration()\n",
    "        for line in read_file:\n",
    "            yield line\n",
    "            \n",
    "        curr_read_file_index += BATCH_DOCS_SIZE\n",
    "        read_file.close()\n",
    "        read_file = None\n",
    "\n",
    "def write_line(line):\n",
    "    global write_file, curr_write_file_index, curr_index\n",
    "    if write_file is None:\n",
    "        info(\"Writing to a new file for batch {}\".format(curr_write_file_index))\n",
    "        write_file = open(FILE_PREFIX_TO_WRITE + str(curr_write_file_index), \"w\")\n",
    "    write_file.write(line)\n",
    "    curr_index += 1\n",
    "    if curr_index % NEW_BATCH_SIZE_LINES == 0:\n",
    "        curr_write_file_index += NEW_BATCH_DOCS_SIZE\n",
    "        write_file.close()\n",
    "        write_file = None\n",
    "    \n",
    "\n",
    "for line in read_line():\n",
    "    write_line(line)"
   ]
  },
  {
   "cell_type": "code",
   "execution_count": null,
   "metadata": {
    "collapsed": true
   },
   "outputs": [],
   "source": []
  }
 ],
 "metadata": {
  "kernelspec": {
   "display_name": "Python 2",
   "language": "python",
   "name": "python2"
  },
  "language_info": {
   "codemirror_mode": {
    "name": "ipython",
    "version": 2
   },
   "file_extension": ".py",
   "mimetype": "text/x-python",
   "name": "python",
   "nbconvert_exporter": "python",
   "pygments_lexer": "ipython2",
   "version": "2.7.12"
  }
 },
 "nbformat": 4,
 "nbformat_minor": 2
}
