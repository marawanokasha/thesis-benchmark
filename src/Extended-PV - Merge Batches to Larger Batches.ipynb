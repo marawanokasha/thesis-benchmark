{
 "cells": [
  {
   "cell_type": "code",
   "execution_count": 1,
   "metadata": {
    "collapsed": true
   },
   "outputs": [],
   "source": [
    "import cPickle as pickle\n",
    "import string\n",
    "import os\n",
    "\n",
    "%matplotlib inline\n",
    "import numpy as np\n",
    "import random\n",
    "import time\n",
    "\n",
    "import logging\n",
    "from logging import info\n",
    "\n",
    "from multiprocessing import Pool as ThreadPool\n",
    "import itertools"
   ]
  },
  {
   "cell_type": "code",
   "execution_count": 2,
   "metadata": {
    "collapsed": true
   },
   "outputs": [],
   "source": [
    "root = logging.getLogger()\n",
    "for handler in root.handlers[:]:\n",
    "    root.removeHandler(handler)\n",
    "logging.basicConfig(format='%(asctime)s : %(levelname)s : %(message)s', level=logging.INFO) # adds a default StreamHanlder\n",
    "#root.addHandler(logging.StreamHandler())"
   ]
  },
  {
   "cell_type": "code",
   "execution_count": 14,
   "metadata": {
    "collapsed": false
   },
   "outputs": [],
   "source": [
    "root_location = \"/mnt/data/shalaby/\"\n",
    "preprocessed_data_location = root_location + \"extended_pv_abs_desc_claims_full_chunks/\"\n",
    "new_preprocessed_data_location = root_location + \"preprocessed_data/extended_pv_abs_desc_claims_full_chunks_merged/\"\n",
    "\n",
    "if not os.path.exists(new_preprocessed_data_location):\n",
    "    os.makedirs(new_preprocessed_data_location)"
   ]
  },
  {
   "cell_type": "code",
   "execution_count": 15,
   "metadata": {
    "collapsed": true
   },
   "outputs": [],
   "source": [
    "LINES_PER_DOCUMENT = 34\n",
    "BATCH_DOCS_SIZE = 10000\n",
    "NEW_BATCH_DOCS_SIZE = 50000\n",
    "BATCH_SIZE_LINES = LINES_PER_DOCUMENT * BATCH_DOCS_SIZE\n",
    "NEW_BATCH_SIZE_LINES = LINES_PER_DOCUMENT * NEW_BATCH_DOCS_SIZE\n",
    "\n",
    "\n",
    "TRAINING_PREPROCESSED_FILES_PREFIX = preprocessed_data_location + \"extended_pv_training_docs_data_preprocessed-\"\n",
    "VALIDATION_PREPROCESSED_FILES_PREFIX = preprocessed_data_location + \"validation_docs_data_preprocessed-\"\n",
    "TEST_PREPROCESSED_FILES_PREFIX = preprocessed_data_location + \"test_docs_data_preprocessed-\"\n",
    "\n",
    "\n",
    "TRAINING_NEW_PREPROCESSED_FILES_PREFIX = new_preprocessed_data_location + \"extended_pv_training_docs_data_preprocessed-\"\n",
    "VALIDATION_NEW_PREPROCESSED_FILES_PREFIX = new_preprocessed_data_location + \"validation_docs_data_preprocessed-\"\n",
    "TEST_NEW_PREPROCESSED_FILES_PREFIX = new_preprocessed_data_location + \"test_docs_data_preprocessed-\"\n"
   ]
  },
  {
   "cell_type": "code",
   "execution_count": 16,
   "metadata": {
    "collapsed": true
   },
   "outputs": [],
   "source": [
    "FILE_PREFIX_TO_READ = TRAINING_PREPROCESSED_FILES_PREFIX\n",
    "FILE_PREFIX_TO_WRITE = TRAINING_NEW_PREPROCESSED_FILES_PREFIX"
   ]
  },
  {
   "cell_type": "code",
   "execution_count": 17,
   "metadata": {
    "collapsed": false
   },
   "outputs": [
    {
     "data": {
      "text/plain": [
       "'/mnt/data/shalaby/extended_pv_abs_desc_claims_full_chunks/extended_pv_training_docs_data_preprocessed-'"
      ]
     },
     "execution_count": 17,
     "metadata": {},
     "output_type": "execute_result"
    }
   ],
   "source": [
    "FILE_PREFIX_TO_READ"
   ]
  },
  {
   "cell_type": "code",
   "execution_count": 19,
   "metadata": {
    "collapsed": false
   },
   "outputs": [
    {
     "name": "stderr",
     "output_type": "stream",
     "text": [
      "2017-04-05 01:20:57,925 : INFO : Reading new file for batch 0\n",
      "2017-04-05 01:20:57,943 : INFO : Writing to a new file for batch 0\n",
      "2017-04-05 01:21:03,189 : INFO : Reading new file for batch 10000\n",
      "2017-04-05 01:21:04,952 : INFO : Reading new file for batch 20000\n",
      "2017-04-05 01:21:06,762 : INFO : Reading new file for batch 30000\n"
     ]
    }
   ],
   "source": [
    "curr_index = 0\n",
    "curr_read_file_index = 0\n",
    "curr_write_file_index = 0\n",
    "\n",
    "read_file = None\n",
    "write_file = None\n",
    "\n",
    "def read_line():\n",
    "    global read_file, curr_read_file_index\n",
    "    while True:\n",
    "        if read_file is None:\n",
    "            info(\"Reading new file for batch {}\".format(curr_read_file_index))\n",
    "            if os.path.exists(FILE_PREFIX_TO_READ + str(curr_read_file_index)):\n",
    "                read_file = open(FILE_PREFIX_TO_READ + str(curr_read_file_index), \"r\")\n",
    "            else: \n",
    "                raise StopIteration()\n",
    "        for line in read_file:\n",
    "            yield line\n",
    "            \n",
    "        curr_read_file_index += BATCH_DOCS_SIZE\n",
    "        read_file.close()\n",
    "        read_file = None\n",
    "\n",
    "def write_line(line):\n",
    "    global write_file, curr_write_file_index, curr_index\n",
    "    if write_file is None:\n",
    "        info(\"Writing to a new file for batch {}\".format(curr_write_file_index))\n",
    "        write_file = open(FILE_PREFIX_TO_WRITE + str(curr_write_file_index), \"w\")\n",
    "    write_file.write(line)\n",
    "    curr_index += 1\n",
    "    if curr_index % NEW_BATCH_SIZE_LINES == 0:\n",
    "        curr_write_file_index += NEW_BATCH_DOCS_SIZE\n",
    "        write_file.close()\n",
    "        write_file = None\n",
    "    \n",
    "\n",
    "for line in read_line():\n",
    "    write_line(line)"
   ]
  },
  {
   "cell_type": "code",
   "execution_count": null,
   "metadata": {
    "collapsed": true
   },
   "outputs": [],
   "source": []
  }
 ],
 "metadata": {
  "kernelspec": {
   "display_name": "Python 2",
   "language": "python",
   "name": "python2"
  },
  "language_info": {
   "codemirror_mode": {
    "name": "ipython",
    "version": 2
   },
   "file_extension": ".py",
   "mimetype": "text/x-python",
   "name": "python",
   "nbconvert_exporter": "python",
   "pygments_lexer": "ipython2",
   "version": "2.7.12"
  }
 },
 "nbformat": 4,
 "nbformat_minor": 2
}
