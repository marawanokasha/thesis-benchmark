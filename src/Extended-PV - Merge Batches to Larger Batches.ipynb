{
 "cells": [
  {
   "cell_type": "code",
   "execution_count": 1,
   "metadata": {
    "collapsed": true,
    "deletable": true,
    "editable": true
   },
   "outputs": [],
   "source": [
    "import cPickle as pickle\n",
    "import string\n",
    "import os\n",
    "\n",
    "%matplotlib inline\n",
    "import numpy as np\n",
    "import random\n",
    "import time\n",
    "\n",
    "import logging\n",
    "from logging import info\n",
    "\n",
    "from multiprocessing import Pool as ThreadPool\n",
    "import itertools"
   ]
  },
  {
   "cell_type": "code",
   "execution_count": 2,
   "metadata": {
    "collapsed": true,
    "deletable": true,
    "editable": true
   },
   "outputs": [],
   "source": [
    "root = logging.getLogger()\n",
    "for handler in root.handlers[:]:\n",
    "    root.removeHandler(handler)\n",
    "logging.basicConfig(format='%(asctime)s : %(levelname)s : %(message)s', level=logging.INFO) # adds a default StreamHanlder\n",
    "#root.addHandler(logging.StreamHandler())"
   ]
  },
  {
   "cell_type": "code",
   "execution_count": 5,
   "metadata": {
    "collapsed": false,
    "deletable": true,
    "editable": true
   },
   "outputs": [],
   "source": [
    "root_location = \"/home/shalaby/data/\"\n",
    "preprocessed_data_location = root_location + \"preprocessed_data/exstended_pv_abs_desc_claims_full_chunks/\"\n",
    "new_preprocessed_data_location = root_location + \"preprocessed_data/extended_pv_abs_desc_claims_full_chunks_merged/\"\n",
    "\n",
    "if not os.path.exists(new_preprocessed_data_location):\n",
    "    os.makedirs(new_preprocessed_data_location)"
   ]
  },
  {
   "cell_type": "code",
   "execution_count": 6,
   "metadata": {
    "collapsed": true,
    "deletable": true,
    "editable": true
   },
   "outputs": [],
   "source": [
    "LINES_PER_DOCUMENT = 34\n",
    "BATCH_DOCS_SIZE = 10000\n",
    "NEW_BATCH_DOCS_SIZE = 50000\n",
    "BATCH_SIZE_LINES = LINES_PER_DOCUMENT * BATCH_DOCS_SIZE\n",
    "NEW_BATCH_SIZE_LINES = LINES_PER_DOCUMENT * NEW_BATCH_DOCS_SIZE\n",
    "\n",
    "\n",
    "TRAINING_PREPROCESSED_FILES_PREFIX = preprocessed_data_location + \"extended_pv_training_docs_data_preprocessed-\"\n",
    "VALIDATION_PREPROCESSED_FILES_PREFIX = preprocessed_data_location + \"validation_docs_data_preprocessed-\"\n",
    "TEST_PREPROCESSED_FILES_PREFIX = preprocessed_data_location + \"test_docs_data_preprocessed-\"\n",
    "\n",
    "\n",
    "TRAINING_NEW_PREPROCESSED_FILES_PREFIX = new_preprocessed_data_location + \"extended_pv_training_docs_data_preprocessed-\"\n",
    "VALIDATION_NEW_PREPROCESSED_FILES_PREFIX = new_preprocessed_data_location + \"validation_docs_data_preprocessed-\"\n",
    "TEST_NEW_PREPROCESSED_FILES_PREFIX = new_preprocessed_data_location + \"test_docs_data_preprocessed-\"\n"
   ]
  },
  {
   "cell_type": "code",
   "execution_count": 7,
   "metadata": {
    "collapsed": true,
    "deletable": true,
    "editable": true
   },
   "outputs": [],
   "source": [
    "FILE_PREFIX_TO_READ = TRAINING_PREPROCESSED_FILES_PREFIX\n",
    "FILE_PREFIX_TO_WRITE = TRAINING_NEW_PREPROCESSED_FILES_PREFIX"
   ]
  },
  {
   "cell_type": "code",
   "execution_count": 8,
   "metadata": {
    "collapsed": false,
    "deletable": true,
    "editable": true
   },
   "outputs": [
    {
     "data": {
      "text/plain": [
       "'/home/shalaby/data/preprocessed_data/extended_pv_abs_desc_claims_full_chunks/extended_pv_training_docs_data_preprocessed-'"
      ]
     },
     "execution_count": 8,
     "metadata": {},
     "output_type": "execute_result"
    }
   ],
   "source": [
    "FILE_PREFIX_TO_READ"
   ]
  },
  {
   "cell_type": "code",
   "execution_count": 9,
   "metadata": {
    "collapsed": false,
    "deletable": true,
    "editable": true
   },
   "outputs": [
    {
     "name": "stderr",
     "output_type": "stream",
     "text": [
      "2017-04-05 01:25:04,402 : INFO : Reading new file for batch 0\n",
      "2017-04-05 01:25:04,569 : INFO : Writing to a new file for batch 0\n",
      "2017-04-05 01:26:06,713 : INFO : Reading new file for batch 10000\n"
     ]
    },
    {
     "ename": "KeyboardInterrupt",
     "evalue": "",
     "output_type": "error",
     "traceback": [
      "\u001b[1;31m---------------------------------------------------------------------------\u001b[0m",
      "\u001b[1;31mKeyboardInterrupt\u001b[0m                         Traceback (most recent call last)",
      "\u001b[1;32m<ipython-input-9-7064f7ca90c2>\u001b[0m in \u001b[0;36m<module>\u001b[1;34m()\u001b[0m\n\u001b[0;32m     35\u001b[0m \u001b[1;33m\u001b[0m\u001b[0m\n\u001b[0;32m     36\u001b[0m \u001b[1;33m\u001b[0m\u001b[0m\n\u001b[1;32m---> 37\u001b[1;33m \u001b[1;32mfor\u001b[0m \u001b[0mline\u001b[0m \u001b[1;32min\u001b[0m \u001b[0mread_line\u001b[0m\u001b[1;33m(\u001b[0m\u001b[1;33m)\u001b[0m\u001b[1;33m:\u001b[0m\u001b[1;33m\u001b[0m\u001b[0m\n\u001b[0m\u001b[0;32m     38\u001b[0m     \u001b[0mwrite_line\u001b[0m\u001b[1;33m(\u001b[0m\u001b[0mline\u001b[0m\u001b[1;33m)\u001b[0m\u001b[1;33m\u001b[0m\u001b[0m\n",
      "\u001b[1;32m<ipython-input-9-7064f7ca90c2>\u001b[0m in \u001b[0;36mread_line\u001b[1;34m()\u001b[0m\n\u001b[0;32m     15\u001b[0m             \u001b[1;32melse\u001b[0m\u001b[1;33m:\u001b[0m\u001b[1;33m\u001b[0m\u001b[0m\n\u001b[0;32m     16\u001b[0m                 \u001b[1;32mraise\u001b[0m \u001b[0mStopIteration\u001b[0m\u001b[1;33m(\u001b[0m\u001b[1;33m)\u001b[0m\u001b[1;33m\u001b[0m\u001b[0m\n\u001b[1;32m---> 17\u001b[1;33m         \u001b[1;32mfor\u001b[0m \u001b[0mline\u001b[0m \u001b[1;32min\u001b[0m \u001b[0mread_file\u001b[0m\u001b[1;33m:\u001b[0m\u001b[1;33m\u001b[0m\u001b[0m\n\u001b[0m\u001b[0;32m     18\u001b[0m             \u001b[1;32myield\u001b[0m \u001b[0mline\u001b[0m\u001b[1;33m\u001b[0m\u001b[0m\n\u001b[0;32m     19\u001b[0m \u001b[1;33m\u001b[0m\u001b[0m\n",
      "\u001b[1;31mKeyboardInterrupt\u001b[0m: "
     ]
    }
   ],
   "source": [
    "curr_index = 0\n",
    "curr_read_file_index = 0\n",
    "curr_write_file_index = 0\n",
    "\n",
    "read_file = None\n",
    "write_file = None\n",
    "\n",
    "def read_line():\n",
    "    global read_file, curr_read_file_index\n",
    "    while True:\n",
    "        if read_file is None:\n",
    "            info(\"Reading new file for batch {}\".format(curr_read_file_index))\n",
    "            if os.path.exists(FILE_PREFIX_TO_READ + str(curr_read_file_index)):\n",
    "                read_file = open(FILE_PREFIX_TO_READ + str(curr_read_file_index), \"r\")\n",
    "            else: \n",
    "                raise StopIteration()\n",
    "        for line in read_file:\n",
    "            yield line\n",
    "            \n",
    "        curr_read_file_index += BATCH_DOCS_SIZE\n",
    "        read_file.close()\n",
    "        read_file = None\n",
    "\n",
    "def write_line(line):\n",
    "    global write_file, curr_write_file_index, curr_index\n",
    "    if write_file is None:\n",
    "        info(\"Writing to a new file for batch {}\".format(curr_write_file_index))\n",
    "        write_file = open(FILE_PREFIX_TO_WRITE + str(curr_write_file_index), \"w\")\n",
    "    write_file.write(line)\n",
    "    curr_index += 1\n",
    "    if curr_index % NEW_BATCH_SIZE_LINES == 0:\n",
    "        curr_write_file_index += NEW_BATCH_DOCS_SIZE\n",
    "        write_file.close()\n",
    "        write_file = None\n",
    "    \n",
    "\n",
    "for line in read_line():\n",
    "    write_line(line)"
   ]
  },
  {
   "cell_type": "code",
   "execution_count": null,
   "metadata": {
    "collapsed": true,
    "deletable": true,
    "editable": true
   },
   "outputs": [],
   "source": []
  }
 ],
 "metadata": {
  "kernelspec": {
   "display_name": "Python 2",
   "language": "python",
   "name": "python2"
  },
  "language_info": {
   "codemirror_mode": {
    "name": "ipython",
    "version": 2
   },
   "file_extension": ".py",
   "mimetype": "text/x-python",
   "name": "python",
   "nbconvert_exporter": "python",
   "pygments_lexer": "ipython2",
   "version": "2.7.12"
  }
 },
 "nbformat": 4,
 "nbformat_minor": 2
}
