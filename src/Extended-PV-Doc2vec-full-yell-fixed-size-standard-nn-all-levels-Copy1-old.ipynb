{
 "cells": [
  {
   "cell_type": "markdown",
   "metadata": {},
   "source": [
    "## Classification of fixed size paragraph vectors using standard nn\n",
    "should be able to deal with all levels using the PARTS_LEVEL param"
   ]
  },
  {
   "cell_type": "code",
   "execution_count": 1,
   "metadata": {
    "collapsed": false
   },
   "outputs": [
    {
     "name": "stderr",
     "output_type": "stream",
     "text": [
      "Using gpu device 0: TITAN X (Pascal) (CNMeM is disabled, cuDNN 5105)\n",
      "/home/stud/shalaby/.virtualenv/thesis-env/local/lib/python2.7/site-packages/theano/sandbox/cuda/__init__.py:600: UserWarning: Your cuDNN version is more recent than the one Theano officially supports. If you see any problems, try updating Theano or downgrading cuDNN to version 5.\n",
      "  warnings.warn(warn)\n",
      "Using Theano backend.\n"
     ]
    }
   ],
   "source": [
    "import json\n",
    "import nltk\n",
    "from nltk.tokenize import RegexpTokenizer\n",
    "import string\n",
    "import math\n",
    "import os\n",
    "import time\n",
    "from collections import namedtuple, defaultdict\n",
    "import cPickle as pickle\n",
    "import pandas as pd\n",
    "\n",
    "%matplotlib inline\n",
    "import matplotlib.pyplot as plt\n",
    "import matplotlib as mpl\n",
    "import numpy as np\n",
    "import random\n",
    "\n",
    "from multiprocessing.dummy import Pool as ThreadPool\n",
    "import itertools\n",
    "\n",
    "from sklearn.metrics import coverage_error\n",
    "import sklearn.metrics\n",
    "from sklearn.multiclass import OneVsRestClassifier\n",
    "from sklearn import linear_model\n",
    "from sklearn.preprocessing import MultiLabelBinarizer\n",
    "\n",
    "from gensim.models.doc2vec import Doc2Vec, LabeledSentence\n",
    "\n",
    "import logging\n",
    "from logging import info\n",
    "from functools import partial\n",
    "\n",
    "import keras\n",
    "from keras.layers import Input, Dense, Dropout, Masking\n",
    "from keras.models import Model, Sequential\n",
    "from keras.layers import Input, Masking\n",
    "from keras.layers.pooling import GlobalAveragePooling1D\n",
    "\n",
    "from sklearn.model_selection import ParameterSampler\n",
    "\n",
    "from thesis.utils.metrics import *"
   ]
  },
  {
   "cell_type": "code",
   "execution_count": 2,
   "metadata": {
    "collapsed": true
   },
   "outputs": [],
   "source": [
    "root = logging.getLogger()\n",
    "for handler in root.handlers[:]:\n",
    "    root.removeHandler(handler)\n",
    "logging.basicConfig(format='%(asctime)s : %(levelname)s : %(message)s', level=logging.INFO) # adds a default StreamHanlder\n",
    "#root.addHandler(logging.StreamHandler())"
   ]
  },
  {
   "cell_type": "code",
   "execution_count": 3,
   "metadata": {
    "collapsed": true
   },
   "outputs": [],
   "source": [
    "SVM_SEED = 1234\n",
    "DOC2VEC_SEED = 1234\n",
    "WORD2VEC_SEED = 1234\n",
    "NN_SEED = 1234"
   ]
  },
  {
   "cell_type": "code",
   "execution_count": 4,
   "metadata": {
    "collapsed": true
   },
   "outputs": [],
   "source": [
    "MIN_WORD_COUNT = 50\n",
    "MIN_SIZE = 0\n",
    "NUM_CORES = 16"
   ]
  },
  {
   "cell_type": "code",
   "execution_count": 35,
   "metadata": {
    "collapsed": true
   },
   "outputs": [],
   "source": [
    "LEVEL_DOC = 0\n",
    "LEVEL_DIVISIONS = 1\n",
    "LEVEL_CHUNKS = 2\n",
    "\n",
    "PARTS_LEVEL = LEVEL_DIVISIONS"
   ]
  },
  {
   "cell_type": "code",
   "execution_count": 6,
   "metadata": {
    "collapsed": false
   },
   "outputs": [],
   "source": [
    "GLOBAL_VARS = namedtuple('GLOBAL_VARS', ['MODEL_NAME', 'DOC2VEC_MODEL_NAME', 'DOC2VEC_MODEL', \n",
    "                                         'SVM_MODEL_NAME', 'NN_MODEL_NAME'])"
   ]
  },
  {
   "cell_type": "code",
   "execution_count": 33,
   "metadata": {
    "collapsed": true
   },
   "outputs": [],
   "source": [
    "VOCAB_MODEL = \"vocab_model\"\n",
    "MODEL_PREFIX = \"model\"\n",
    "VALIDATION_MATRIX = \"validation_matrix.pkl\"\n",
    "VALIDATION_DICT = \"validation_dict.pkl\"\n",
    "TEST_MATRIX = \"test_matrix.pkl\"\n",
    "TEST_DICT = \"test_dict.pkl\"\n",
    "METRICS = \"metrics.pkl\"\n",
    "CLASSIFIER = \"classifier.pkl\"\n",
    "TYPE_CLASSIFIER= \"{}_classifier.pkl\"\n",
    "\n",
    "TRAINING_DATA_MATRIX = \"X_level_{}.npy\"\n",
    "TRAINING_LABELS_MATRIX = \"y_{}.npy\"\n",
    "VALIDATION_DATA_MATRIX = \"Xv_level_{}.npy\"\n",
    "VALIDATION_LABELS_MATRIX = \"yv_{}.npy\""
   ]
  },
  {
   "cell_type": "code",
   "execution_count": 8,
   "metadata": {
    "collapsed": true
   },
   "outputs": [],
   "source": [
    "NN_PARAMETER_SEARCH_PREFIX = \"standard_nn_{}_level_{}_batch_{}_nn_parameter_searches.pkl\""
   ]
  },
  {
   "cell_type": "code",
   "execution_count": 9,
   "metadata": {
    "collapsed": false
   },
   "outputs": [],
   "source": [
    "root_location = \"/mnt/data2/shalaby/\"\n",
    "big_data_location = \"/mnt/data/shalaby/\"\n",
    "\n",
    "doc_vec_types = \"extended_abs_desc_claims_all_levels_2\"\n",
    "doc_vec_preprocessed_data_types = \"extended_pv_abs_desc_claims_all_levels_2\"\n",
    "\n",
    "exports_location = root_location + \"exported_data/\"\n",
    "\n",
    "doc2vec_model_save_location = os.path.join(big_data_location, \"parameter_search_doc2vec_models_\" + doc_vec_types, \"full\")\n",
    "nn_parameter_search_location = os.path.join(root_location, \"nn_parameter_search_\" + doc_vec_types)\n",
    "if not os.path.exists(doc2vec_model_save_location):\n",
    "    os.makedirs(doc2vec_model_save_location)\n",
    "if not os.path.exists(os.path.join(doc2vec_model_save_location, VOCAB_MODEL)):\n",
    "    os.makedirs(os.path.join(doc2vec_model_save_location, VOCAB_MODEL))\n",
    "\n",
    "#training_file = root_location + \"docs_output.json\"\n",
    "training_file = root_location + 'docs_output.json'\n",
    "\n",
    "doc_classifications_map_file = exports_location + \"doc_classification_map.pkl\"\n",
    "sections_file = exports_location + \"sections.pkl\"\n",
    "classes_file = exports_location + \"classes.pkl\"\n",
    "subclasses_file = exports_location + \"subclasses.pkl\"\n",
    "valid_classes_file = exports_location + \"valid_classes.pkl\"\n",
    "valid_subclasses_file = exports_location + \"valid_subclasses.pkl\"\n",
    "classifications_output = exports_location + \"classifications.pkl\"\n",
    "training_docs_list_file = exports_location + \"extended_pv_training_docs_list.pkl\"\n",
    "validation_docs_list_file = exports_location + \"extended_pv_validation_docs_list.pkl\"\n",
    "test_docs_list_file = exports_location + \"extended_pv_test_docs_list.pkl\"\n",
    "\n",
    "preprocessed_location = os.path.join(big_data_location, \"preprocessed_data\", doc_vec_preprocessed_data_types) + \"/\"\n",
    "\n",
    "training_preprocessed_files_prefix = preprocessed_location + \"extended_pv_training_docs_data_preprocessed-\"\n",
    "validation_preprocessed_files_prefix = preprocessed_location + \"extended_pv_validation_docs_data_preprocessed-\"\n",
    "test_preprocessed_files_prefix = preprocessed_location + \"extended_pv_test_docs_data_preprocessed-\"\n",
    "\n",
    "word2vec_questions_file = result = root_location + 'tensorflow/word2vec/questions-words.txt'"
   ]
  },
  {
   "cell_type": "code",
   "execution_count": 10,
   "metadata": {
    "collapsed": false
   },
   "outputs": [
    {
     "name": "stdout",
     "output_type": "stream",
     "text": [
      "CPU times: user 18 s, sys: 2.54 s, total: 20.5 s\n",
      "Wall time: 20.5 s\n"
     ]
    }
   ],
   "source": [
    "%%time\n",
    "doc_classification_map = pickle.load(open(doc_classifications_map_file))\n",
    "sections = pickle.load(open(sections_file))\n",
    "classes = pickle.load(open(classes_file))\n",
    "subclasses = pickle.load(open(subclasses_file))\n",
    "valid_classes = pickle.load(open(valid_classes_file))\n",
    "valid_subclasses = pickle.load(open(valid_subclasses_file))\n",
    "training_docs_list = pickle.load(open(training_docs_list_file))\n",
    "validation_docs_list = pickle.load(open(validation_docs_list_file))\n",
    "test_docs_list = pickle.load(open(test_docs_list_file))"
   ]
  },
  {
   "cell_type": "code",
   "execution_count": 11,
   "metadata": {
    "collapsed": false
   },
   "outputs": [
    {
     "data": {
      "text/plain": [
       "120156"
      ]
     },
     "execution_count": 11,
     "metadata": {},
     "output_type": "execute_result"
    }
   ],
   "source": [
    "len(training_docs_list)"
   ]
  },
  {
   "cell_type": "code",
   "execution_count": 12,
   "metadata": {
    "collapsed": false
   },
   "outputs": [
    {
     "data": {
      "text/plain": [
       "29675"
      ]
     },
     "execution_count": 12,
     "metadata": {},
     "output_type": "execute_result"
    }
   ],
   "source": [
    "len(validation_docs_list)"
   ]
  },
  {
   "cell_type": "code",
   "execution_count": 13,
   "metadata": {
    "collapsed": false
   },
   "outputs": [
    {
     "data": {
      "text/plain": [
       "37771"
      ]
     },
     "execution_count": 13,
     "metadata": {},
     "output_type": "execute_result"
    }
   ],
   "source": [
    "len(test_docs_list)"
   ]
  },
  {
   "cell_type": "code",
   "execution_count": 14,
   "metadata": {
    "collapsed": false
   },
   "outputs": [],
   "source": [
    "def ensure_disk_location_exists(location):\n",
    "    if not os.path.exists(location):\n",
    "        os.makedirs(location)"
   ]
  },
  {
   "cell_type": "code",
   "execution_count": 15,
   "metadata": {
    "collapsed": true
   },
   "outputs": [],
   "source": [
    "class OneHotEncoder():\n",
    "    \n",
    "    def __init__(self, classifications):\n",
    "        self.classifications = classifications\n",
    "        self.one_hot_indices = {}\n",
    "\n",
    "        # convert character classifications to bit vectors\n",
    "        for i, clssf in enumerate(classifications):\n",
    "            bits = [0] * len(classifications)\n",
    "            bits[i] = 1\n",
    "            self.one_hot_indices[clssf] = i\n",
    "    \n",
    "    def get_label_vector(self, labels):\n",
    "        \"\"\"\n",
    "        classes: array of string with the classes assigned to the instance\n",
    "        \"\"\"\n",
    "        output_vector = [0] * len(self.classifications)\n",
    "        for label in labels:\n",
    "            index = self.one_hot_indices[label]\n",
    "            output_vector[index] = 1\n",
    "            \n",
    "        return output_vector\n"
   ]
  },
  {
   "cell_type": "markdown",
   "metadata": {},
   "source": [
    "## Get Document, Paragraph and Sentence Stats"
   ]
  },
  {
   "cell_type": "code",
   "execution_count": 16,
   "metadata": {
    "collapsed": true
   },
   "outputs": [],
   "source": [
    "class FixedDocumentsStatsGenerator(object):\n",
    "    def __init__(self, filename_prefix):\n",
    "        self.filename_prefix = filename_prefix\n",
    "        self.docids = []\n",
    "        self.doc_parts = defaultdict(list)\n",
    "        self.doc_part_chunks = defaultdict(list)\n",
    "        self.curr_doc_index = 0\n",
    "        self.batch_end = -1\n",
    "    def load_new_batch_in_memory(self):\n",
    "        info(\"Loading new batch for index: {}\".format(self.curr_doc_index))\n",
    "        true_docs_count = 0\n",
    "        try:\n",
    "            with open(self.filename_prefix + str(self.curr_doc_index)) as preproc_file:\n",
    "                for line in preproc_file:\n",
    "                    line_array = line.split(\" \", 1)\n",
    "                    entity_id = line_array[0].strip()\n",
    "                    if self.is_doc(entity_id):\n",
    "                        self.docids.append(entity_id)\n",
    "                        true_docs_count+= 1\n",
    "                    elif self.is_doc_part(entity_id):\n",
    "                        self.doc_parts[self.get_doc_id(entity_id)].append(entity_id)\n",
    "                    elif self.is_doc_part_chunk(entity_id):\n",
    "                        self.doc_part_chunks[self.get_doc_id(entity_id)].append(entity_id)\n",
    "            self.batch_end = self.curr_doc_index + true_docs_count - 1 \n",
    "            info(\"Finished loading new batch of {} documents\".format(true_docs_count))\n",
    "        except IOError:\n",
    "            info(\"No more batches to load, exiting at index: {}\".format(self.curr_doc_index))\n",
    "            raise StopIteration()\n",
    "    def get_stats(self):\n",
    "        try:\n",
    "            while True:\n",
    "                if self.curr_doc_index > self.batch_end:\n",
    "                    self.load_new_batch_in_memory()\n",
    "                self.curr_doc_index = self.batch_end + 1\n",
    "        except StopIteration:\n",
    "            pass\n",
    "            \n",
    "    def get_doc_id(self, entity_id):\n",
    "        return entity_id.split(\"_\")[0]\n",
    "    def get_entity_parts(self, entity_id):\n",
    "        return entity_id.split(\"_\")\n",
    "    def is_doc(self, entity_id):\n",
    "        parts = self.get_entity_parts(entity_id)\n",
    "        if len(parts) == 1:\n",
    "            return True\n",
    "        return False\n",
    "    def is_doc_part(self, entity_id):\n",
    "        parts = self.get_entity_parts(entity_id)\n",
    "        if len(parts) == 2:\n",
    "            return True\n",
    "        return False\n",
    "    def is_doc_part_chunk(self, entity_id):\n",
    "        parts = self.get_entity_parts(entity_id)\n",
    "        if len(parts) == 3:\n",
    "            return True\n",
    "        return False"
   ]
  },
  {
   "cell_type": "code",
   "execution_count": 17,
   "metadata": {
    "collapsed": false
   },
   "outputs": [],
   "source": [
    "def get_doc_vector(entity_id):\n",
    "    if entity_id in doc2vec_model.docvecs:\n",
    "        if DOC2VEC_MMAP:\n",
    "            normal_array = []\n",
    "            normal_array[:] = doc2vec_model.docvecs[entity_id][:]\n",
    "            return normal_array\n",
    "        else:\n",
    "            return doc2vec_model.docvecs[entity_id]\n",
    "    else:\n",
    "        # some claims have low token count, so they cant fill out the whole 16 spots\n",
    "        return ZERO_VECTOR\n",
    "\n",
    "def data_generator(doc_stats, doc_id):\n",
    "    yield get_doc_vector(doc_id)\n",
    "    if PARTS_LEVEL >= LEVEL_DIVISIONS:\n",
    "        for part_id in doc_stats.doc_parts[doc_id]:\n",
    "            yield get_doc_vector(part_id)\n",
    "    if PARTS_LEVEL >= LEVEL_CHUNKS:\n",
    "        for part_id in doc_stats.doc_part_chunks[doc_id]:\n",
    "            yield get_doc_vector(part_id)\n",
    "    yield ZERO_VECTOR\n",
    "\n",
    "def validation_data_generator(doc_stats, validation_dict, doc_id):\n",
    "    yield validation_dict[doc_id]\n",
    "    if PARTS_LEVEL >= LEVEL_DIVISIONS:\n",
    "        for part_id in doc_stats.doc_parts[doc_id]:\n",
    "            yield validation_dict[part_id]\n",
    "    if PARTS_LEVEL >= LEVEL_CHUNKS:\n",
    "        for part_id in doc_stats.doc_part_chunks[doc_id]:\n",
    "            yield get_doc_vector(part_id)\n",
    "    yield ZERO_VECTOR\n",
    "        "
   ]
  },
  {
   "cell_type": "code",
   "execution_count": 34,
   "metadata": {
    "collapsed": true
   },
   "outputs": [],
   "source": [
    "def get_training_data(doc2vec_model, classifications, classifications_type, doc_stats, sequence_size, embedding_size):\n",
    "    \n",
    "    def get_training_y_labels():\n",
    "        if not os.path.exists(os.path.join(doc2vec_model_save_location, GLOBAL_VARS.MODEL_NAME, \n",
    "                                       TRAINING_LABELS_MATRIX.format(classifications_type))):\n",
    "            info(\"Creating Training Labels\")\n",
    "            one_hot_encoder = OneHotEncoder(classifications)\n",
    "            classifications_set = set(classifications)\n",
    "            training_labels_mat = np.zeros((len(training_docs_list), len(classifications)), dtype=np.int8)\n",
    "            for i, doc_id in enumerate(training_docs_list):\n",
    "                eligible_classifications = set(doc_classification_map[doc_id]) & classifications_set\n",
    "                training_labels_mat[i][:] = one_hot_encoder.get_label_vector(eligible_classifications)\n",
    "        else:    \n",
    "            training_labels_mat = np.load(open(os.path.join(doc2vec_model_save_location, GLOBAL_VARS.MODEL_NAME, \n",
    "                                                            TRAINING_LABELS_MATRIX.format(classifications_type))))\n",
    "        return training_labels_mat\n",
    "\n",
    "    \n",
    "    \n",
    "    if not os.path.exists(os.path.join(doc2vec_model_save_location, GLOBAL_VARS.MODEL_NAME, \n",
    "                                       TRAINING_DATA_MATRIX.format(PARTS_LEVEL))):\n",
    "        info(\"Creating Training Data\")\n",
    "        one_hot_encoder = OneHotEncoder(classifications)\n",
    "        classifications_set = set(classifications)\n",
    "        # 1st level: document level\n",
    "        training_data = np.ndarray((len(training_docs_list), sequence_size, embedding_size), dtype=np.float32)\n",
    "        info(\"Training Data shape: {}\".format(training_data.shape))\n",
    "        training_labels_mat = np.zeros((len(training_docs_list), len(classifications)), dtype=np.int8)\n",
    "        for i, doc_id in enumerate(training_docs_list):\n",
    "            data_gen = data_generator(doc_stats, doc_id)\n",
    "            # 2nd level: constituents\n",
    "            for j in range(sequence_size):\n",
    "                #3rd level: feature vectors\n",
    "                training_data[i][j] = data_gen.next()\n",
    "            eligible_classifications = set(doc_classification_map[doc_id]) & classifications_set\n",
    "            training_labels_mat[i][:] = one_hot_encoder.get_label_vector(eligible_classifications)\n",
    "            if i % 10000 == 0:\n",
    "                info(\"Finished {} in training\".format(i))\n",
    "        \n",
    "        info(\"Saving Training Data to file...\")\n",
    "        np.save(open(os.path.join(doc2vec_model_save_location, GLOBAL_VARS.MODEL_NAME, \n",
    "                                  TRAINING_DATA_MATRIX.format(PARTS_LEVEL)), \"w\"), training_data)\n",
    "        np.save(open(os.path.join(doc2vec_model_save_location, GLOBAL_VARS.MODEL_NAME, \n",
    "                                  TRAINING_LABELS_MATRIX.format(classifications_type)), \"w\"), training_labels_mat)\n",
    "    else:\n",
    "        info(\"Loading Training Data from file\")\n",
    "        training_data = np.load(open(os.path.join(doc2vec_model_save_location, GLOBAL_VARS.MODEL_NAME, \n",
    "                                                  TRAINING_DATA_MATRIX.format(PARTS_LEVEL))))\n",
    "        training_labels_mat = get_training_y_labels()\n",
    "        \n",
    "    return training_data, training_labels_mat"
   ]
  },
  {
   "cell_type": "code",
   "execution_count": 19,
   "metadata": {
    "collapsed": true
   },
   "outputs": [],
   "source": [
    "def get_validation_data(validation_dict, classifications, classifications_type, doc_stats, sequence_size, embedding_size):\n",
    "    \n",
    "    def get_validation_y_labels():\n",
    "        if not os.path.exists(os.path.join(doc2vec_model_save_location, GLOBAL_VARS.MODEL_NAME, \n",
    "                                       VALIDATION_LABELS_MATRIX.format(classifications_type))):\n",
    "            info(\"Creating Validation Labels\")\n",
    "            one_hot_encoder = OneHotEncoder(classifications)\n",
    "            classifications_set = set(classifications)\n",
    "            validation_labels_mat = np.zeros((len(validation_docs_list), len(classifications)), dtype=np.int8)\n",
    "            for i, doc_id in enumerate(validation_docs_list):\n",
    "                eligible_classifications = set(doc_classification_map[doc_id]) & classifications_set\n",
    "                validation_labels_mat[i][:] = one_hot_encoder.get_label_vector(eligible_classifications)\n",
    "        else:    \n",
    "            info(\"Loading Validation Labels\")\n",
    "            validation_labels_mat = np.load(open(os.path.join(doc2vec_model_save_location, GLOBAL_VARS.MODEL_NAME, \n",
    "                                                        VALIDATION_LABELS_MATRIX.format(classifications_type))))\n",
    "        return validation_labels_mat\n",
    "\n",
    "    \n",
    "    if not os.path.exists(os.path.join(doc2vec_model_save_location, GLOBAL_VARS.MODEL_NAME, \n",
    "                                       VALIDATION_DATA_MATRIX.format(PARTS_LEVEL))):\n",
    "        info(\"Creating Validation Data\")\n",
    "        one_hot_encoder = OneHotEncoder(classifications)\n",
    "        classifications_set = set(classifications)\n",
    "        # 1st level: document level\n",
    "        validation_data = np.ndarray((len(validation_docs_list), sequence_size, embedding_size), dtype=np.float32)\n",
    "        info(\"Validation Data shape: {}\".format(validation_data.shape))\n",
    "        validation_labels_mat = np.zeros((len(validation_docs_list), len(classifications)), dtype=np.int8)\n",
    "        for i, doc_id in enumerate(validation_docs_list):\n",
    "            data_gen = validation_data_generator(doc_stats, validation_dict, doc_id)\n",
    "            # 2nd level: constituents\n",
    "            for j in range(sequence_size):\n",
    "                #3d level: feature vectors\n",
    "                validation_data[i][j] = data_gen.next()\n",
    "            eligible_classifications = set(doc_classification_map[doc_id]) & classifications_set\n",
    "            validation_labels_mat[i][:] = one_hot_encoder.get_label_vector(eligible_classifications)\n",
    "            if i % 10000 == 0:\n",
    "                info(\"Finished {} in validation\".format(i))\n",
    "        \n",
    "        info(\"Saving Validation Data to file...\")\n",
    "        np.save(open(os.path.join(doc2vec_model_save_location, GLOBAL_VARS.MODEL_NAME, \n",
    "                                  VALIDATION_DATA_MATRIX.format(PARTS_LEVEL)), \"w\"), validation_data)\n",
    "        np.save(open(os.path.join(doc2vec_model_save_location, GLOBAL_VARS.MODEL_NAME, \n",
    "                                  VALIDATION_LABELS_MATRIX.format(classifications_type)), \"w\"), validation_labels_mat)\n",
    "    else:\n",
    "        info(\"Loading Validation Data from file\")\n",
    "        validation_data = np.load(open(os.path.join(doc2vec_model_save_location, GLOBAL_VARS.MODEL_NAME, \n",
    "                                                  VALIDATION_DATA_MATRIX.format(PARTS_LEVEL))))\n",
    "        validation_labels_mat = get_validation_y_labels()\n",
    "        \n",
    "    return validation_data, validation_labels_mat"
   ]
  },
  {
   "cell_type": "markdown",
   "metadata": {},
   "source": [
    "## Actual Training, validation and Metrics Loop"
   ]
  },
  {
   "cell_type": "code",
   "execution_count": 20,
   "metadata": {
    "collapsed": true
   },
   "outputs": [],
   "source": [
    "classifications = valid_classes\n",
    "classifications_type = 'classes'\n",
    "classifier_file = TYPE_CLASSIFIER.format(classifications_type)"
   ]
  },
  {
   "cell_type": "code",
   "execution_count": 21,
   "metadata": {
    "collapsed": false
   },
   "outputs": [],
   "source": [
    "VALIDATION_METRICS_FILENAME= '{}_validation_metrics.pkl'.format(classifications_type)\n",
    "TRAINING_METRICS_FILENAME = '{}_training_metrics.pkl'.format(classifications_type)"
   ]
  },
  {
   "cell_type": "markdown",
   "metadata": {},
   "source": [
    "#### Load the Doc2vec model"
   ]
  },
  {
   "cell_type": "code",
   "execution_count": 22,
   "metadata": {
    "collapsed": true
   },
   "outputs": [],
   "source": [
    "DOC2VEC_SIZE = 200\n",
    "DOC2VEC_WINDOW = 2\n",
    "DOC2VEC_MAX_VOCAB_SIZE = None\n",
    "DOC2VEC_SAMPLE = 1e-3\n",
    "DOC2VEC_TYPE = 1\n",
    "DOC2VEC_HIERARCHICAL_SAMPLE = 0\n",
    "DOC2VEC_NEGATIVE_SAMPLE_SIZE = 10\n",
    "DOC2VEC_CONCAT = 0\n",
    "DOC2VEC_MEAN = 1\n",
    "DOC2VEC_TRAIN_WORDS = 0\n",
    "DOC2VEC_EPOCHS = 1 # we do our training manually one epoch at a time\n",
    "DOC2VEC_MAX_EPOCHS = 8\n",
    "REPORT_DELAY = 20 # report the progress every x seconds\n",
    "REPORT_VOCAB_PROGRESS = 100000 # report vocab progress every x documents\n",
    "\n",
    "DOC2VEC_MMAP = 'r'\n",
    "# DOC2VEC_MMAP = None\n",
    "\n",
    "ZERO_VECTOR = [0] * DOC2VEC_SIZE"
   ]
  },
  {
   "cell_type": "code",
   "execution_count": 23,
   "metadata": {
    "collapsed": false
   },
   "outputs": [
    {
     "name": "stdout",
     "output_type": "stream",
     "text": [
      "doc2vec_size_200_w_2_type_dm_concat_0_mean_1_trainwords_0_hs_0_neg_10_vocabsize_None/epoch_8\n"
     ]
    }
   ],
   "source": [
    "placeholder_model_name = 'doc2vec_size_{}_w_{}_type_{}_concat_{}_mean_{}_trainwords_{}_hs_{}_neg_{}_vocabsize_{}'.format(DOC2VEC_SIZE, \n",
    "                                                                DOC2VEC_WINDOW, \n",
    "                                                                'dm' if DOC2VEC_TYPE == 1 else 'pv-dbow',\n",
    "                                                                DOC2VEC_CONCAT, DOC2VEC_MEAN,\n",
    "                                                                DOC2VEC_TRAIN_WORDS,\n",
    "                                                                DOC2VEC_HIERARCHICAL_SAMPLE,DOC2VEC_NEGATIVE_SAMPLE_SIZE,\n",
    "                                                                str(DOC2VEC_MAX_VOCAB_SIZE))\n",
    "GLOBAL_VARS.DOC2VEC_MODEL_NAME = placeholder_model_name\n",
    "placeholder_model_name = os.path.join(placeholder_model_name, \"epoch_{}\")\n",
    "\n",
    "epoch = 8\n",
    "\n",
    "GLOBAL_VARS.MODEL_NAME = placeholder_model_name.format(epoch)\n",
    "doc2vec_model = None\n",
    "print GLOBAL_VARS.MODEL_NAME"
   ]
  },
  {
   "cell_type": "code",
   "execution_count": 24,
   "metadata": {
    "collapsed": false,
    "scrolled": false
   },
   "outputs": [
    {
     "name": "stderr",
     "output_type": "stream",
     "text": [
      "2017-03-21 02:12:55,930 : INFO : loading Doc2Vec object from /mnt/data/shalaby/parameter_search_doc2vec_models_extended_abs_desc_claims_all_levels_2/full/doc2vec_size_200_w_2_type_dm_concat_0_mean_1_trainwords_0_hs_0_neg_10_vocabsize_None/epoch_8/model\n"
     ]
    },
    {
     "name": "stdout",
     "output_type": "stream",
     "text": [
      "/mnt/data/shalaby/parameter_search_doc2vec_models_extended_abs_desc_claims_all_levels_2/full/doc2vec_size_200_w_2_type_dm_concat_0_mean_1_trainwords_0_hs_0_neg_10_vocabsize_None/epoch_8/model\n"
     ]
    },
    {
     "name": "stderr",
     "output_type": "stream",
     "text": [
      "2017-03-21 02:13:32,241 : INFO : loading docvecs recursively from /mnt/data/shalaby/parameter_search_doc2vec_models_extended_abs_desc_claims_all_levels_2/full/doc2vec_size_200_w_2_type_dm_concat_0_mean_1_trainwords_0_hs_0_neg_10_vocabsize_None/epoch_8/model.docvecs.* with mmap=r\n",
      "2017-03-21 02:13:32,243 : INFO : loading doctag_syn0 from /mnt/data/shalaby/parameter_search_doc2vec_models_extended_abs_desc_claims_all_levels_2/full/doc2vec_size_200_w_2_type_dm_concat_0_mean_1_trainwords_0_hs_0_neg_10_vocabsize_None/epoch_8/model.docvecs.doctag_syn0.npy with mmap=r\n",
      "2017-03-21 02:13:32,245 : INFO : loading syn1neg from /mnt/data/shalaby/parameter_search_doc2vec_models_extended_abs_desc_claims_all_levels_2/full/doc2vec_size_200_w_2_type_dm_concat_0_mean_1_trainwords_0_hs_0_neg_10_vocabsize_None/epoch_8/model.syn1neg.npy with mmap=r\n",
      "2017-03-21 02:13:32,247 : INFO : loading syn0 from /mnt/data/shalaby/parameter_search_doc2vec_models_extended_abs_desc_claims_all_levels_2/full/doc2vec_size_200_w_2_type_dm_concat_0_mean_1_trainwords_0_hs_0_neg_10_vocabsize_None/epoch_8/model.syn0.npy with mmap=r\n",
      "2017-03-21 02:13:32,248 : INFO : setting ignored attribute syn0norm to None\n",
      "2017-03-21 02:13:32,249 : INFO : setting ignored attribute cum_table to None\n"
     ]
    },
    {
     "name": "stdout",
     "output_type": "stream",
     "text": [
      "CPU times: user 30.2 s, sys: 7.44 s, total: 37.6 s\n",
      "Wall time: 37 s\n"
     ]
    }
   ],
   "source": [
    "%%time\n",
    "print os.path.join(doc2vec_model_save_location, GLOBAL_VARS.MODEL_NAME, MODEL_PREFIX)\n",
    "if os.path.exists(os.path.join(doc2vec_model_save_location, GLOBAL_VARS.MODEL_NAME, MODEL_PREFIX)):\n",
    "    doc2vec_model = Doc2Vec.load(os.path.join(doc2vec_model_save_location, GLOBAL_VARS.MODEL_NAME, MODEL_PREFIX), mmap=DOC2VEC_MMAP)\n",
    "    doc2vec_model.workers = NUM_CORES\n",
    "    GLOBAL_VARS.DOC2VEC_MODEL = doc2vec_model\n",
    "else:\n",
    "    info(\"Couldnt find the doc2vec model with epoch {}\".format(epoch))\n",
    "    raise Exception()"
   ]
  },
  {
   "cell_type": "code",
   "execution_count": 25,
   "metadata": {
    "collapsed": true
   },
   "outputs": [],
   "source": [
    "training_doc_stats_file = os.path.join(doc2vec_model_save_location, GLOBAL_VARS.MODEL_NAME, \"extended_pv_training_doc_stats.pkl\")\n",
    "validation_doc_stats_file = os.path.join(doc2vec_model_save_location, GLOBAL_VARS.MODEL_NAME, \"extended_pv_validation_doc_stats.pkl\")"
   ]
  },
  {
   "cell_type": "markdown",
   "metadata": {},
   "source": [
    "### Create/Load Training Document Stats"
   ]
  },
  {
   "cell_type": "code",
   "execution_count": 26,
   "metadata": {
    "collapsed": false,
    "scrolled": false
   },
   "outputs": [
    {
     "name": "stderr",
     "output_type": "stream",
     "text": [
      "2017-03-21 02:13:32,932 : INFO : Loading Training Document Stats\n"
     ]
    },
    {
     "name": "stdout",
     "output_type": "stream",
     "text": [
      "CPU times: user 17.6 s, sys: 1.89 s, total: 19.4 s\n",
      "Wall time: 19.7 s\n"
     ]
    }
   ],
   "source": [
    "%%time\n",
    "if not os.path.exists(training_doc_stats_file):\n",
    "    info(\"Creating Training Document Stats\")\n",
    "    doc_stats = FixedDocumentsStatsGenerator(training_preprocessed_files_prefix)\n",
    "    doc_stats.get_stats()\n",
    "    pickle.dump(doc_stats, open(training_doc_stats_file, \"w\"))\n",
    "else:\n",
    "    info(\"Loading Training Document Stats\")\n",
    "    doc_stats = pickle.load(open(training_doc_stats_file, \"r\"))"
   ]
  },
  {
   "cell_type": "code",
   "execution_count": 27,
   "metadata": {
    "collapsed": false
   },
   "outputs": [
    {
     "name": "stdout",
     "output_type": "stream",
     "text": [
      "Max Size: 4\n"
     ]
    }
   ],
   "source": [
    "MAX_SIZE = 1 # for document vector\n",
    "if PARTS_LEVEL >= LEVEL_DIVISIONS:\n",
    "    MAX_PARTS = int(np.max([len(doc_stats.doc_parts[d]) for d in doc_stats.docids]))\n",
    "    MAX_SIZE += MAX_PARTS\n",
    "\n",
    "if PARTS_LEVEL >= LEVEL_CHUNKS:\n",
    "    MAX_PART_CHUNKS = int(np.max([len(doc_stats.doc_part_chunks[d]) for d in doc_stats.docids]))\n",
    "    MAX_SIZE += MAX_PART_CHUNKS\n",
    "    \n",
    "print \"Max Size: {}\".format(MAX_SIZE)"
   ]
  },
  {
   "cell_type": "markdown",
   "metadata": {},
   "source": [
    "### Get Training Data Matrices"
   ]
  },
  {
   "cell_type": "code",
   "execution_count": 36,
   "metadata": {
    "collapsed": false
   },
   "outputs": [
    {
     "name": "stderr",
     "output_type": "stream",
     "text": [
      "2017-03-21 02:22:38,568 : INFO : Creating Training Data\n",
      "2017-03-21 02:22:38,571 : INFO : Training Data shape: (120156, 4, 200)\n",
      "2017-03-21 02:22:38,574 : INFO : Finished 0 in training\n",
      "2017-03-21 02:22:40,793 : INFO : Finished 10000 in training\n",
      "2017-03-21 02:22:42,749 : INFO : Finished 20000 in training\n",
      "2017-03-21 02:22:44,750 : INFO : Finished 30000 in training\n",
      "2017-03-21 02:22:46,754 : INFO : Finished 40000 in training\n",
      "2017-03-21 02:22:48,723 : INFO : Finished 50000 in training\n",
      "2017-03-21 02:22:50,695 : INFO : Finished 60000 in training\n",
      "2017-03-21 02:22:52,673 : INFO : Finished 70000 in training\n",
      "2017-03-21 02:22:54,633 : INFO : Finished 80000 in training\n",
      "2017-03-21 02:22:56,579 : INFO : Finished 90000 in training\n",
      "2017-03-21 02:22:58,506 : INFO : Finished 100000 in training\n",
      "2017-03-21 02:23:00,438 : INFO : Finished 110000 in training\n",
      "2017-03-21 02:23:02,377 : INFO : Finished 120000 in training\n",
      "2017-03-21 02:23:02,408 : INFO : Saving Training Data to file...\n"
     ]
    },
    {
     "name": "stdout",
     "output_type": "stream",
     "text": [
      "CPU times: user 22.6 s, sys: 1.59 s, total: 24.2 s\n",
      "Wall time: 24.3 s\n"
     ]
    }
   ],
   "source": [
    "%%time\n",
    "X, y = get_training_data(doc2vec_model, classifications, classifications_type, doc_stats, MAX_SIZE, DOC2VEC_SIZE)"
   ]
  },
  {
   "cell_type": "code",
   "execution_count": 37,
   "metadata": {
    "collapsed": false
   },
   "outputs": [
    {
     "name": "stdout",
     "output_type": "stream",
     "text": [
      "384499328\n",
      "(120156, 4, 200)\n",
      "(120156, 244)\n"
     ]
    }
   ],
   "source": [
    "import sys\n",
    "print sys.getsizeof(X)\n",
    "print X.shape\n",
    "print y.shape"
   ]
  },
  {
   "cell_type": "markdown",
   "metadata": {},
   "source": [
    "## Create Validation Matrix"
   ]
  },
  {
   "cell_type": "code",
   "execution_count": 38,
   "metadata": {
    "collapsed": true
   },
   "outputs": [],
   "source": [
    "validation_dict = None"
   ]
  },
  {
   "cell_type": "markdown",
   "metadata": {},
   "source": [
    "### Create/Load Validation Doc Stats"
   ]
  },
  {
   "cell_type": "markdown",
   "metadata": {},
   "source": [
    "Load Validation Dict"
   ]
  },
  {
   "cell_type": "code",
   "execution_count": 39,
   "metadata": {
    "collapsed": false
   },
   "outputs": [
    {
     "name": "stdout",
     "output_type": "stream",
     "text": [
      "CPU times: user 3min 17s, sys: 4.82 s, total: 3min 22s\n",
      "Wall time: 3min 27s\n"
     ]
    }
   ],
   "source": [
    "%%time\n",
    "validation_dict = pickle.load(open(os.path.join(doc2vec_model_save_location, GLOBAL_VARS.MODEL_NAME, VALIDATION_DICT)))"
   ]
  },
  {
   "cell_type": "code",
   "execution_count": 40,
   "metadata": {
    "collapsed": false
   },
   "outputs": [
    {
     "name": "stderr",
     "output_type": "stream",
     "text": [
      "2017-03-21 02:27:01,284 : INFO : Loading Validation Document Stats\n"
     ]
    },
    {
     "name": "stdout",
     "output_type": "stream",
     "text": [
      "CPU times: user 4.9 s, sys: 692 ms, total: 5.59 s\n",
      "Wall time: 5.58 s\n"
     ]
    }
   ],
   "source": [
    "%%time\n",
    "if not os.path.exists(validation_doc_stats_file):\n",
    "    validation_doc_stats = FixedDocumentsStatsGenerator(validation_preprocessed_files_prefix)\n",
    "    validation_doc_stats.get_stats()\n",
    "    pickle.dump(validation_doc_stats, open(validation_doc_stats_file, \"w\"))\n",
    "else:\n",
    "    info(\"Loading Validation Document Stats\")\n",
    "    validation_doc_stats = pickle.load(open(validation_doc_stats_file, \"r\"))"
   ]
  },
  {
   "cell_type": "markdown",
   "metadata": {},
   "source": [
    "### Get Validation Data Matrices"
   ]
  },
  {
   "cell_type": "code",
   "execution_count": 41,
   "metadata": {
    "collapsed": false
   },
   "outputs": [
    {
     "name": "stderr",
     "output_type": "stream",
     "text": [
      "2017-03-21 02:27:06,873 : INFO : Creating Validation Data\n",
      "2017-03-21 02:27:06,876 : INFO : Validation Data shape: (29675, 4, 200)\n",
      "2017-03-21 02:27:06,879 : INFO : Finished 0 in validation\n",
      "2017-03-21 02:27:07,417 : INFO : Finished 10000 in validation\n",
      "2017-03-21 02:27:07,785 : INFO : Finished 20000 in validation\n",
      "2017-03-21 02:27:08,126 : INFO : Saving Validation Data to file...\n"
     ]
    },
    {
     "name": "stdout",
     "output_type": "stream",
     "text": [
      "CPU times: user 656 ms, sys: 676 ms, total: 1.33 s\n",
      "Wall time: 1.33 s\n"
     ]
    }
   ],
   "source": [
    "%%time\n",
    "Xv, yv = get_validation_data(validation_dict, classifications, classifications_type, validation_doc_stats, \n",
    "                             MAX_SIZE, DOC2VEC_SIZE)"
   ]
  },
  {
   "cell_type": "code",
   "execution_count": 44,
   "metadata": {
    "collapsed": true
   },
   "outputs": [],
   "source": [
    "del validation_dict"
   ]
  },
  {
   "cell_type": "markdown",
   "metadata": {},
   "source": [
    "## Reshaping Training and Validation Matrices"
   ]
  },
  {
   "cell_type": "code",
   "execution_count": 42,
   "metadata": {
    "collapsed": false
   },
   "outputs": [
    {
     "name": "stdout",
     "output_type": "stream",
     "text": [
      "(120156, 4, 200)\n",
      "(29675, 4, 200)\n",
      "(120156, 244)\n",
      "(29675, 244)\n"
     ]
    }
   ],
   "source": [
    "print X.shape\n",
    "print Xv.shape\n",
    "print y.shape\n",
    "print yv.shape"
   ]
  },
  {
   "cell_type": "code",
   "execution_count": 43,
   "metadata": {
    "collapsed": false
   },
   "outputs": [],
   "source": [
    "X = np.reshape(X, (X.shape[0], X.shape[1]* X.shape[2]))\n",
    "Xv = np.reshape(Xv, (Xv.shape[0], Xv.shape[1]* Xv.shape[2]))"
   ]
  },
  {
   "cell_type": "code",
   "execution_count": 44,
   "metadata": {
    "collapsed": false
   },
   "outputs": [
    {
     "name": "stdout",
     "output_type": "stream",
     "text": [
      "(120156, 800)\n",
      "(29675, 800)\n",
      "(120156, 244)\n",
      "(29675, 244)\n"
     ]
    }
   ],
   "source": [
    "print X.shape\n",
    "print Xv.shape\n",
    "print y.shape\n",
    "print yv.shape"
   ]
  },
  {
   "cell_type": "markdown",
   "metadata": {},
   "source": [
    "# Actual Training"
   ]
  },
  {
   "cell_type": "code",
   "execution_count": 45,
   "metadata": {
    "collapsed": true
   },
   "outputs": [],
   "source": [
    "def create_keras_nn_model(input_size, output_size, \n",
    "                          first_hidden_layer_size, first_hidden_layer_activation, \n",
    "                          second_hidden_layer_size, second_hidden_layer_activation, \n",
    "                          input_dropout_do, hidden_dropout_do, second_hidden_dropout_do=False):\n",
    "    \n",
    "    doc_input = Input(shape=(input_size,), name='doc_input')\n",
    "    if input_dropout_do:\n",
    "        hidden = Dropout(0.7)(doc_input)\n",
    "    hidden = Dense(first_hidden_layer_size, activation=first_hidden_layer_activation, \n",
    "                   name='hidden_layer_{}'.format(first_hidden_layer_activation))(doc_input if not input_dropout_do else hidden)\n",
    "    if hidden_dropout_do:\n",
    "        hidden = Dropout(0.5)(hidden)\n",
    "    if second_hidden_layer_size is not None:\n",
    "        hidden = Dense(second_hidden_layer_size, activation=second_hidden_layer_activation, \n",
    "                       name='hidden_layer2_{}'.format(second_hidden_layer_activation))(hidden)\n",
    "    if second_hidden_dropout_do:\n",
    "        hidden = Dropout(0.5)(hidden)\n",
    "    softmax_output = Dense(output_size, activation='sigmoid', name='softmax_output')(hidden)\n",
    "\n",
    "    model = Model(input=doc_input, output=softmax_output)\n",
    "    model.compile(optimizer='rmsprop', loss='binary_crossentropy')\n",
    "    \n",
    "    return model"
   ]
  },
  {
   "cell_type": "code",
   "execution_count": 46,
   "metadata": {
    "collapsed": true
   },
   "outputs": [],
   "source": [
    "early_stopper_deltas = {\n",
    "    'sections': 0.0001,\n",
    "    'classes': 0.00001,\n",
    "    'subclasses': 0.00001\n",
    "}\n",
    "early_stopper_patience = {\n",
    "    'sections': 10,\n",
    "    'classes': 10,\n",
    "    'subclasses': 10\n",
    "}\n",
    "epochs_before_validation = {\n",
    "    'sections': 20,\n",
    "    'classes': 20,\n",
    "    'subclasses': 20\n",
    "}"
   ]
  },
  {
   "cell_type": "code",
   "execution_count": 47,
   "metadata": {
    "collapsed": true
   },
   "outputs": [],
   "source": [
    "NN_OUTPUT_NEURONS = len(classifications)\n",
    "NN_INPUT_NEURONS = X.shape[1]\n",
    "# NN_INPUT_NEURONS = DOC2VEC_SIZE\n",
    "\n",
    "EARLY_STOPPER_MIN_DELTA = early_stopper_deltas[classifications_type]\n",
    "EARLY_STOPPER_PATIENCE = early_stopper_patience[classifications_type]\n",
    "\n",
    "NN_MAX_EPOCHS = 200\n",
    "NN_RANDOM_SEARCH_BUDGET = 30\n",
    "NN_PARAM_SAMPLE_SEED = 1234\n",
    "\n",
    "NN_BATCH_SIZE = 2048\n",
    "\n",
    "MODEL_VERBOSITY = 0\n",
    "\n",
    "to_skip = []\n",
    "\n",
    "load_existing_results = True\n",
    "save_results = True\n",
    "\n",
    "\n",
    "first_hidden_layer_sizes = [100,200,500]\n",
    "# first_hidden_layer_sizes = [1000,2000]\n",
    "# second_hidden_layer_sizes = [1000,2000,3000,4000]\n",
    "second_hidden_layer_sizes = [None,500,1000,2000]\n",
    "first_hidden_layer_activations = ['relu','sigmoid', 'tanh']\n",
    "second_hidden_layer_activations = ['relu','sigmoid', 'tanh']\n",
    "# first_hidden_layer_activations = ['relu']\n",
    "# second_hidden_layer_activations = ['relu']\n",
    "# input_dropout_options = [False, True]\n",
    "# hidden_dropout_options = [False, True]\n",
    "input_dropout_options = [False]\n",
    "hidden_dropout_options = [True]\n",
    "second_hidden_dropout_options = [False]\n",
    "\n",
    "\n",
    "np.random.seed(NN_SEED)\n",
    "\n",
    "\n",
    "# # Uncomment for Specific Configuration\n",
    "# NN_RANDOM_SEARCH_BUDGET = 1\n",
    "# first_hidden_layer_sizes = [200]\n",
    "# second_hidden_layer_sizes = [1000]\n",
    "# first_hidden_layer_activations = ['tanh']\n",
    "# second_hidden_layer_activations = ['relu']\n",
    "# input_dropout_options = [False]\n",
    "# hidden_dropout_options = [True]\n",
    "# second_hidden_dropout_options = [False]"
   ]
  },
  {
   "cell_type": "code",
   "execution_count": 48,
   "metadata": {
    "collapsed": false
   },
   "outputs": [],
   "source": [
    "class MetricsCallback(keras.callbacks.Callback):\n",
    "    \n",
    "    EPOCHS_BEFORE_VALIDATION = epochs_before_validation[classifications_type]\n",
    "    \n",
    "    def on_train_begin(self, logs={}):\n",
    "        self.epoch_index = 0\n",
    "        self.val_loss_reductions = 0\n",
    "        self.metrics_dict = {}\n",
    "        self.best_val_loss = np.iinfo(np.int32).max\n",
    "        self.best_weights = None\n",
    "        self.best_validation_metrics = None\n",
    "    def on_epoch_end(self, epoch, logs={}):\n",
    "        self.epoch_index += 1\n",
    "        if logs['val_loss'] < self.best_val_loss:\n",
    "            self.val_loss_reductions += 1\n",
    "            self.best_val_loss = logs['val_loss']\n",
    "            self.best_weights = self.model.get_weights()\n",
    "            #print '\\r    \\r' # to remove the previous line of verbose output of model fit\n",
    "            #time.sleep(0.2)\n",
    "            info('Found lower val loss for epoch {} => {}'.format(self.epoch_index, round(logs['val_loss'], 5)))\n",
    "            if self.val_loss_reductions % MetricsCallback.EPOCHS_BEFORE_VALIDATION == 0:\n",
    "                \n",
    "                info('Validation Loss Reduced {} times'.format(self.val_loss_reductions))\n",
    "                info('Evaluating on Validation Data')\n",
    "                yvp = self.model.predict(Xv)\n",
    "                yvp_binary = get_binary_0_5(yvp)\n",
    "                info('Generating Validation Metrics')\n",
    "                validation_metrics = get_metrics(yv, yvp, yvp_binary)\n",
    "                print \"****** Validation Metrics: Cov Err: {:.3f} | Top 3: {:.3f} | Top 5: {:.3f} | F1 Micro: {:.3f} | F1 Macro: {:.3f}\".format(\n",
    "                    validation_metrics['coverage_error'], validation_metrics['top_3'], validation_metrics['top_5'], \n",
    "                    validation_metrics['f1_micro'], validation_metrics['f1_macro'])\n",
    "                self.metrics_dict[self.epoch_index] = validation_metrics\n",
    "#                 self.best_validation_metrics = validation_metrics"
   ]
  },
  {
   "cell_type": "code",
   "execution_count": 49,
   "metadata": {
    "collapsed": false
   },
   "outputs": [
    {
     "name": "stderr",
     "output_type": "stream",
     "text": [
      "2017-03-21 02:28:32,294 : INFO : No Previous results exist in /mnt/data2/shalaby/nn_parameter_search_extended_abs_desc_claims_all_levels_2/doc2vec_size_200_w_2_type_dm_concat_0_mean_1_trainwords_0_hs_0_neg_10_vocabsize_None/epoch_8/standard_nn_classes_level_1_batch_2048_nn_parameter_searches.pkl\n",
      "2017-03-21 02:28:32,299 : INFO : ***************************************************************************************\n",
      "2017-03-21 02:28:32,300 : INFO : nn_1st-size_500_1st-act_relu_2nd-size_500_2nd-act_tanh_in-drop_False_hid-drop_True\n"
     ]
    },
    {
     "name": "stdout",
     "output_type": "stream",
     "text": [
      "____________________________________________________________________________________________________\n",
      "Layer (type)                     Output Shape          Param #     Connected to                     \n",
      "====================================================================================================\n",
      "doc_input (InputLayer)           (None, 800)           0                                            \n",
      "____________________________________________________________________________________________________\n",
      "hidden_layer_relu (Dense)        (None, 500)           400500      doc_input[0][0]                  \n",
      "____________________________________________________________________________________________________\n",
      "dropout_1 (Dropout)              (None, 500)           0           hidden_layer_relu[0][0]          \n",
      "____________________________________________________________________________________________________\n",
      "hidden_layer2_tanh (Dense)       (None, 500)           250500      dropout_1[0][0]                  \n",
      "____________________________________________________________________________________________________\n",
      "softmax_output (Dense)           (None, 244)           122244      hidden_layer2_tanh[0][0]         \n",
      "====================================================================================================\n",
      "Total params: 773244\n",
      "____________________________________________________________________________________________________\n"
     ]
    },
    {
     "name": "stderr",
     "output_type": "stream",
     "text": [
      "2017-03-21 02:28:37,621 : INFO : Found lower val loss for epoch 1 => 0.02194\n",
      "2017-03-21 02:28:39,627 : INFO : Found lower val loss for epoch 2 => 0.01866\n",
      "2017-03-21 02:28:43,279 : INFO : Found lower val loss for epoch 3 => 0.01641\n",
      "2017-03-21 02:28:47,085 : INFO : Found lower val loss for epoch 4 => 0.01573\n",
      "2017-03-21 02:28:50,858 : INFO : Found lower val loss for epoch 5 => 0.01547\n",
      "2017-03-21 02:29:02,312 : INFO : Found lower val loss for epoch 8 => 0.01515\n",
      "2017-03-21 02:29:09,709 : INFO : Found lower val loss for epoch 10 => 0.01505\n",
      "2017-03-21 02:29:13,621 : INFO : Found lower val loss for epoch 11 => 0.01476\n",
      "2017-03-21 02:29:24,868 : INFO : Found lower val loss for epoch 14 => 0.01457\n",
      "2017-03-21 02:29:36,444 : INFO : Found lower val loss for epoch 17 => 0.01453\n",
      "2017-03-21 02:29:40,240 : INFO : Found lower val loss for epoch 18 => 0.01437\n",
      "2017-03-21 02:30:13,568 : INFO : Evaluating on Validation Data using saved best weights\n"
     ]
    },
    {
     "name": "stdout",
     "output_type": "stream",
     "text": [
      "Epoch 00028: early stopping\n",
      "CPU times: user 30.4 s, sys: 40.6 s, total: 1min 11s\n",
      "Wall time: 1min 39s\n"
     ]
    },
    {
     "name": "stderr",
     "output_type": "stream",
     "text": [
      "2017-03-21 02:30:17,066 : INFO : Generating Validation Metrics\n",
      "/home/stud/shalaby/.virtualenv/thesis-env/local/lib/python2.7/site-packages/sklearn/metrics/classification.py:1113: UndefinedMetricWarning: Precision is ill-defined and being set to 0.0 in labels with no predicted samples.\n",
      "  'precision', 'predicted', average, warn_for)\n",
      "/home/stud/shalaby/.virtualenv/thesis-env/local/lib/python2.7/site-packages/sklearn/metrics/classification.py:1115: UndefinedMetricWarning: Recall is ill-defined and being set to 0.0 in labels with no true samples.\n",
      "  'recall', 'true', average, warn_for)\n",
      "/home/stud/shalaby/.virtualenv/thesis-env/local/lib/python2.7/site-packages/sklearn/metrics/classification.py:1113: UndefinedMetricWarning: F-score is ill-defined and being set to 0.0 in labels with no predicted samples.\n",
      "  'precision', 'predicted', average, warn_for)\n",
      "/home/stud/shalaby/.virtualenv/thesis-env/local/lib/python2.7/site-packages/sklearn/metrics/classification.py:1115: UndefinedMetricWarning: F-score is ill-defined and being set to 0.0 in labels with no true samples.\n",
      "  'recall', 'true', average, warn_for)\n"
     ]
    },
    {
     "name": "stdout",
     "output_type": "stream",
     "text": [
      "****** Validation Metrics: Cov Err: 5.992 | Top 3: 0.697 | Top 5: 0.788 | F1 Micro: 0.447 | F1 Macro: 0.090\n"
     ]
    },
    {
     "name": "stderr",
     "output_type": "stream",
     "text": [
      "2017-03-21 02:30:21,009 : INFO : ***************************************************************************************\n",
      "2017-03-21 02:30:21,011 : INFO : nn_1st-size_200_1st-act_sigmoid_2nd-size_500_2nd-act_tanh_in-drop_False_hid-drop_True\n"
     ]
    },
    {
     "name": "stdout",
     "output_type": "stream",
     "text": [
      "____________________________________________________________________________________________________\n",
      "Layer (type)                     Output Shape          Param #     Connected to                     \n",
      "====================================================================================================\n",
      "doc_input (InputLayer)           (None, 800)           0                                            \n",
      "____________________________________________________________________________________________________\n",
      "hidden_layer_sigmoid (Dense)     (None, 200)           160200      doc_input[0][0]                  \n",
      "____________________________________________________________________________________________________\n",
      "dropout_2 (Dropout)              (None, 200)           0           hidden_layer_sigmoid[0][0]       \n",
      "____________________________________________________________________________________________________\n",
      "hidden_layer2_tanh (Dense)       (None, 500)           100500      dropout_2[0][0]                  \n",
      "____________________________________________________________________________________________________\n",
      "softmax_output (Dense)           (None, 244)           122244      hidden_layer2_tanh[0][0]         \n",
      "====================================================================================================\n",
      "Total params: 382944\n",
      "____________________________________________________________________________________________________\n"
     ]
    },
    {
     "name": "stderr",
     "output_type": "stream",
     "text": [
      "2017-03-21 02:30:26,077 : INFO : Found lower val loss for epoch 1 => 0.0226\n",
      "2017-03-21 02:30:29,449 : INFO : Found lower val loss for epoch 2 => 0.02166\n",
      "2017-03-21 02:30:32,781 : INFO : Found lower val loss for epoch 3 => 0.02081\n",
      "2017-03-21 02:30:36,028 : INFO : Found lower val loss for epoch 4 => 0.02003\n",
      "2017-03-21 02:30:39,398 : INFO : Found lower val loss for epoch 5 => 0.01994\n",
      "2017-03-21 02:30:42,896 : INFO : Found lower val loss for epoch 6 => 0.01973\n",
      "2017-03-21 02:30:46,160 : INFO : Found lower val loss for epoch 7 => 0.0194\n",
      "2017-03-21 02:30:49,718 : INFO : Found lower val loss for epoch 8 => 0.0178\n",
      "2017-03-21 02:30:56,851 : INFO : Found lower val loss for epoch 10 => 0.01775\n",
      "2017-03-21 02:31:03,328 : INFO : Found lower val loss for epoch 12 => 0.01773\n",
      "2017-03-21 02:31:09,901 : INFO : Found lower val loss for epoch 14 => 0.01684\n",
      "2017-03-21 02:31:20,502 : INFO : Found lower val loss for epoch 17 => 0.01673\n",
      "2017-03-21 02:31:27,398 : INFO : Found lower val loss for epoch 19 => 0.01657\n",
      "2017-03-21 02:31:30,699 : INFO : Found lower val loss for epoch 20 => 0.01635\n",
      "2017-03-21 02:31:36,802 : INFO : Found lower val loss for epoch 23 => 0.0163\n",
      "2017-03-21 02:31:40,002 : INFO : Found lower val loss for epoch 25 => 0.01582\n",
      "2017-03-21 02:31:52,425 : INFO : Found lower val loss for epoch 29 => 0.01562\n",
      "2017-03-21 02:32:07,775 : INFO : Found lower val loss for epoch 34 => 0.01537\n",
      "2017-03-21 02:32:16,717 : INFO : Found lower val loss for epoch 41 => 0.01521\n",
      "2017-03-21 02:32:17,814 : INFO : Found lower val loss for epoch 42 => 0.01509\n",
      "2017-03-21 02:32:17,815 : INFO : Validation Loss Reduced 20 times\n",
      "2017-03-21 02:32:17,816 : INFO : Evaluating on Validation Data\n",
      "2017-03-21 02:32:21,122 : INFO : Generating Validation Metrics\n"
     ]
    },
    {
     "name": "stdout",
     "output_type": "stream",
     "text": [
      "****** Validation Metrics: Cov Err: 7.102 | Top 3: 0.651 | Top 5: 0.746 | F1 Micro: 0.408 | F1 Macro: 0.077\n"
     ]
    },
    {
     "name": "stderr",
     "output_type": "stream",
     "text": [
      "2017-03-21 02:32:27,804 : INFO : Found lower val loss for epoch 44 => 0.01504\n",
      "2017-03-21 02:32:32,615 : INFO : Found lower val loss for epoch 47 => 0.01498\n",
      "2017-03-21 02:32:34,148 : INFO : Found lower val loss for epoch 48 => 0.01498\n",
      "2017-03-21 02:32:36,766 : INFO : Found lower val loss for epoch 50 => 0.01485\n",
      "2017-03-21 02:32:42,503 : INFO : Found lower val loss for epoch 55 => 0.01478\n",
      "2017-03-21 02:32:53,243 : INFO : Found lower val loss for epoch 62 => 0.01476\n",
      "2017-03-21 02:32:57,124 : INFO : Found lower val loss for epoch 64 => 0.01464\n",
      "2017-03-21 02:33:07,403 : INFO : Found lower val loss for epoch 71 => 0.01462\n",
      "2017-03-21 02:33:19,579 : INFO : Found lower val loss for epoch 80 => 0.0145\n",
      "2017-03-21 02:33:45,949 : INFO : Evaluating on Validation Data using saved best weights\n"
     ]
    },
    {
     "name": "stdout",
     "output_type": "stream",
     "text": [
      "Epoch 00090: early stopping\n",
      "CPU times: user 1min 12s, sys: 1min 28s, total: 2min 41s\n",
      "Wall time: 3min 24s\n"
     ]
    },
    {
     "name": "stderr",
     "output_type": "stream",
     "text": [
      "2017-03-21 02:33:51,187 : INFO : Generating Validation Metrics\n"
     ]
    },
    {
     "name": "stdout",
     "output_type": "stream",
     "text": [
      "****** Validation Metrics: Cov Err: 6.567 | Top 3: 0.670 | Top 5: 0.764 | F1 Micro: 0.423 | F1 Macro: 0.083\n"
     ]
    },
    {
     "name": "stderr",
     "output_type": "stream",
     "text": [
      "2017-03-21 02:33:55,063 : INFO : ***************************************************************************************\n",
      "2017-03-21 02:33:55,065 : INFO : nn_1st-size_200_1st-act_sigmoid_2nd-size_2000_2nd-act_tanh_in-drop_False_hid-drop_True\n"
     ]
    },
    {
     "name": "stdout",
     "output_type": "stream",
     "text": [
      "____________________________________________________________________________________________________\n",
      "Layer (type)                     Output Shape          Param #     Connected to                     \n",
      "====================================================================================================\n",
      "doc_input (InputLayer)           (None, 800)           0                                            \n",
      "____________________________________________________________________________________________________\n",
      "hidden_layer_sigmoid (Dense)     (None, 200)           160200      doc_input[0][0]                  \n",
      "____________________________________________________________________________________________________\n",
      "dropout_3 (Dropout)              (None, 200)           0           hidden_layer_sigmoid[0][0]       \n",
      "____________________________________________________________________________________________________\n",
      "hidden_layer2_tanh (Dense)       (None, 2000)          402000      dropout_3[0][0]                  \n",
      "____________________________________________________________________________________________________\n",
      "softmax_output (Dense)           (None, 244)           488244      hidden_layer2_tanh[0][0]         \n",
      "====================================================================================================\n",
      "Total params: 1050444\n",
      "____________________________________________________________________________________________________\n"
     ]
    },
    {
     "name": "stderr",
     "output_type": "stream",
     "text": [
      "2017-03-21 02:34:00,451 : INFO : Found lower val loss for epoch 1 => 0.02293\n",
      "2017-03-21 02:34:07,706 : INFO : Found lower val loss for epoch 3 => 0.02252\n",
      "2017-03-21 02:34:11,162 : INFO : Found lower val loss for epoch 4 => 0.02006\n",
      "2017-03-21 02:34:17,735 : INFO : Found lower val loss for epoch 6 => 0.01962\n",
      "2017-03-21 02:34:25,028 : INFO : Found lower val loss for epoch 8 => 0.01776\n",
      "2017-03-21 02:34:39,323 : INFO : Found lower val loss for epoch 13 => 0.01723\n",
      "2017-03-21 02:34:54,520 : INFO : Found lower val loss for epoch 17 => 0.01632\n",
      "2017-03-21 02:35:14,924 : INFO : Found lower val loss for epoch 22 => 0.01613\n",
      "2017-03-21 02:35:27,011 : INFO : Found lower val loss for epoch 25 => 0.01612\n",
      "2017-03-21 02:35:47,106 : INFO : Found lower val loss for epoch 30 => 0.01588\n",
      "2017-03-21 02:35:52,305 : INFO : Found lower val loss for epoch 32 => 0.0158\n",
      "2017-03-21 02:35:54,565 : INFO : Found lower val loss for epoch 33 => 0.01539\n",
      "2017-03-21 02:36:38,317 : INFO : Evaluating on Validation Data using saved best weights\n"
     ]
    },
    {
     "name": "stdout",
     "output_type": "stream",
     "text": [
      "Epoch 00043: early stopping\n",
      "CPU times: user 49.1 s, sys: 1min 3s, total: 1min 52s\n",
      "Wall time: 2min 42s\n"
     ]
    },
    {
     "name": "stderr",
     "output_type": "stream",
     "text": [
      "2017-03-21 02:36:46,301 : INFO : Generating Validation Metrics\n"
     ]
    },
    {
     "name": "stdout",
     "output_type": "stream",
     "text": [
      "****** Validation Metrics: Cov Err: 7.074 | Top 3: 0.650 | Top 5: 0.747 | F1 Micro: 0.418 | F1 Macro: 0.085\n"
     ]
    },
    {
     "name": "stderr",
     "output_type": "stream",
     "text": [
      "2017-03-21 02:36:49,806 : INFO : ***************************************************************************************\n",
      "2017-03-21 02:36:49,807 : INFO : nn_1st-size_500_1st-act_sigmoid_2nd-size_None_2nd-act_sigmoid_in-drop_False_hid-drop_True\n"
     ]
    },
    {
     "name": "stdout",
     "output_type": "stream",
     "text": [
      "____________________________________________________________________________________________________\n",
      "Layer (type)                     Output Shape          Param #     Connected to                     \n",
      "====================================================================================================\n",
      "doc_input (InputLayer)           (None, 800)           0                                            \n",
      "____________________________________________________________________________________________________\n",
      "hidden_layer_sigmoid (Dense)     (None, 500)           400500      doc_input[0][0]                  \n",
      "____________________________________________________________________________________________________\n",
      "dropout_4 (Dropout)              (None, 500)           0           hidden_layer_sigmoid[0][0]       \n",
      "____________________________________________________________________________________________________\n",
      "softmax_output (Dense)           (None, 244)           122244      dropout_4[0][0]                  \n",
      "====================================================================================================\n",
      "Total params: 522744\n",
      "____________________________________________________________________________________________________\n"
     ]
    },
    {
     "name": "stderr",
     "output_type": "stream",
     "text": [
      "2017-03-21 02:36:54,670 : INFO : Found lower val loss for epoch 1 => 0.02228\n",
      "2017-03-21 02:36:58,034 : INFO : Found lower val loss for epoch 2 => 0.02014\n",
      "2017-03-21 02:37:01,410 : INFO : Found lower val loss for epoch 3 => 0.01895\n",
      "2017-03-21 02:37:04,798 : INFO : Found lower val loss for epoch 4 => 0.01834\n",
      "2017-03-21 02:37:08,245 : INFO : Found lower val loss for epoch 5 => 0.01823\n",
      "2017-03-21 02:37:11,543 : INFO : Found lower val loss for epoch 6 => 0.01775\n",
      "2017-03-21 02:37:14,994 : INFO : Found lower val loss for epoch 7 => 0.01752\n",
      "2017-03-21 02:37:18,218 : INFO : Found lower val loss for epoch 8 => 0.01736\n",
      "2017-03-21 02:37:21,502 : INFO : Found lower val loss for epoch 9 => 0.01731\n",
      "2017-03-21 02:37:24,738 : INFO : Found lower val loss for epoch 10 => 0.017\n",
      "2017-03-21 02:37:26,417 : INFO : Found lower val loss for epoch 11 => 0.01672\n",
      "2017-03-21 02:37:36,967 : INFO : Found lower val loss for epoch 15 => 0.01659\n",
      "2017-03-21 02:37:40,441 : INFO : Found lower val loss for epoch 16 => 0.01642\n",
      "2017-03-21 02:37:47,212 : INFO : Found lower val loss for epoch 18 => 0.01625\n",
      "2017-03-21 02:37:50,525 : INFO : Found lower val loss for epoch 19 => 0.0162\n",
      "2017-03-21 02:37:57,574 : INFO : Found lower val loss for epoch 21 => 0.0162\n",
      "2017-03-21 02:38:01,048 : INFO : Found lower val loss for epoch 22 => 0.01606\n",
      "2017-03-21 02:38:04,367 : INFO : Found lower val loss for epoch 23 => 0.01597\n",
      "2017-03-21 02:38:11,102 : INFO : Found lower val loss for epoch 25 => 0.0159\n",
      "2017-03-21 02:38:14,681 : INFO : Found lower val loss for epoch 26 => 0.01577\n",
      "2017-03-21 02:38:14,683 : INFO : Validation Loss Reduced 20 times\n",
      "2017-03-21 02:38:14,684 : INFO : Evaluating on Validation Data\n",
      "2017-03-21 02:38:19,922 : INFO : Generating Validation Metrics\n"
     ]
    },
    {
     "name": "stdout",
     "output_type": "stream",
     "text": [
      "****** Validation Metrics: Cov Err: 7.351 | Top 3: 0.652 | Top 5: 0.746 | F1 Micro: 0.435 | F1 Macro: 0.101\n"
     ]
    },
    {
     "name": "stderr",
     "output_type": "stream",
     "text": [
      "2017-03-21 02:38:37,053 : INFO : Found lower val loss for epoch 30 => 0.01566\n",
      "2017-03-21 02:38:44,007 : INFO : Found lower val loss for epoch 32 => 0.0156\n",
      "2017-03-21 02:38:47,405 : INFO : Found lower val loss for epoch 33 => 0.01556\n",
      "2017-03-21 02:38:50,553 : INFO : Found lower val loss for epoch 34 => 0.01547\n",
      "2017-03-21 02:39:00,567 : INFO : Found lower val loss for epoch 37 => 0.01543\n",
      "2017-03-21 02:39:03,948 : INFO : Found lower val loss for epoch 38 => 0.01542\n",
      "2017-03-21 02:39:07,389 : INFO : Found lower val loss for epoch 39 => 0.01537\n",
      "2017-03-21 02:39:12,976 : INFO : Found lower val loss for epoch 41 => 0.01534\n",
      "2017-03-21 02:39:16,442 : INFO : Found lower val loss for epoch 43 => 0.01521\n",
      "2017-03-21 02:39:49,435 : INFO : Evaluating on Validation Data using saved best weights\n"
     ]
    },
    {
     "name": "stdout",
     "output_type": "stream",
     "text": [
      "Epoch 00053: early stopping\n",
      "CPU times: user 58 s, sys: 1min 7s, total: 2min 5s\n",
      "Wall time: 2min 59s\n"
     ]
    },
    {
     "name": "stderr",
     "output_type": "stream",
     "text": [
      "2017-03-21 02:39:54,254 : INFO : Generating Validation Metrics\n"
     ]
    },
    {
     "name": "stdout",
     "output_type": "stream",
     "text": [
      "****** Validation Metrics: Cov Err: 7.021 | Top 3: 0.669 | Top 5: 0.761 | F1 Micro: 0.441 | F1 Macro: 0.109\n"
     ]
    },
    {
     "name": "stderr",
     "output_type": "stream",
     "text": [
      "2017-03-21 02:39:57,727 : INFO : ***************************************************************************************\n",
      "2017-03-21 02:39:57,729 : INFO : nn_1st-size_100_1st-act_tanh_2nd-size_1000_2nd-act_tanh_in-drop_False_hid-drop_True\n"
     ]
    },
    {
     "name": "stdout",
     "output_type": "stream",
     "text": [
      "____________________________________________________________________________________________________\n",
      "Layer (type)                     Output Shape          Param #     Connected to                     \n",
      "====================================================================================================\n",
      "doc_input (InputLayer)           (None, 800)           0                                            \n",
      "____________________________________________________________________________________________________\n",
      "hidden_layer_tanh (Dense)        (None, 100)           80100       doc_input[0][0]                  \n",
      "____________________________________________________________________________________________________\n",
      "dropout_5 (Dropout)              (None, 100)           0           hidden_layer_tanh[0][0]          \n",
      "____________________________________________________________________________________________________\n",
      "hidden_layer2_tanh (Dense)       (None, 1000)          101000      dropout_5[0][0]                  \n",
      "____________________________________________________________________________________________________\n",
      "softmax_output (Dense)           (None, 244)           244244      hidden_layer2_tanh[0][0]         \n",
      "====================================================================================================\n",
      "Total params: 425344\n",
      "____________________________________________________________________________________________________\n"
     ]
    },
    {
     "name": "stderr",
     "output_type": "stream",
     "text": [
      "2017-03-21 02:40:02,760 : INFO : Found lower val loss for epoch 1 => 0.02257\n",
      "2017-03-21 02:40:06,095 : INFO : Found lower val loss for epoch 2 => 0.02065\n",
      "2017-03-21 02:40:09,367 : INFO : Found lower val loss for epoch 3 => 0.01995\n",
      "2017-03-21 02:40:12,870 : INFO : Found lower val loss for epoch 4 => 0.01747\n",
      "2017-03-21 02:40:19,422 : INFO : Found lower val loss for epoch 6 => 0.01739\n",
      "2017-03-21 02:40:25,863 : INFO : Found lower val loss for epoch 8 => 0.01718\n",
      "2017-03-21 02:40:29,154 : INFO : Found lower val loss for epoch 9 => 0.01699\n",
      "2017-03-21 02:40:31,192 : INFO : Found lower val loss for epoch 10 => 0.0169\n",
      "2017-03-21 02:40:47,893 : INFO : Found lower val loss for epoch 16 => 0.01634\n",
      "2017-03-21 02:41:11,420 : INFO : Found lower val loss for epoch 23 => 0.01618\n",
      "2017-03-21 02:41:24,858 : INFO : Found lower val loss for epoch 27 => 0.01608\n",
      "2017-03-21 02:42:01,041 : INFO : Evaluating on Validation Data using saved best weights\n"
     ]
    },
    {
     "name": "stdout",
     "output_type": "stream",
     "text": [
      "Epoch 00037: early stopping\n",
      "CPU times: user 41 s, sys: 44.3 s, total: 1min 25s\n",
      "Wall time: 2min 2s\n"
     ]
    },
    {
     "name": "stderr",
     "output_type": "stream",
     "text": [
      "2017-03-21 02:42:09,329 : INFO : Generating Validation Metrics\n"
     ]
    },
    {
     "name": "stdout",
     "output_type": "stream",
     "text": [
      "****** Validation Metrics: Cov Err: 8.029 | Top 3: 0.621 | Top 5: 0.716 | F1 Micro: 0.386 | F1 Macro: 0.091\n"
     ]
    },
    {
     "name": "stderr",
     "output_type": "stream",
     "text": [
      "2017-03-21 02:42:12,857 : INFO : ***************************************************************************************\n",
      "2017-03-21 02:42:12,859 : INFO : nn_1st-size_100_1st-act_tanh_2nd-size_500_2nd-act_tanh_in-drop_False_hid-drop_True\n"
     ]
    },
    {
     "name": "stdout",
     "output_type": "stream",
     "text": [
      "____________________________________________________________________________________________________\n",
      "Layer (type)                     Output Shape          Param #     Connected to                     \n",
      "====================================================================================================\n",
      "doc_input (InputLayer)           (None, 800)           0                                            \n",
      "____________________________________________________________________________________________________\n",
      "hidden_layer_tanh (Dense)        (None, 100)           80100       doc_input[0][0]                  \n",
      "____________________________________________________________________________________________________\n",
      "dropout_6 (Dropout)              (None, 100)           0           hidden_layer_tanh[0][0]          \n",
      "____________________________________________________________________________________________________\n",
      "hidden_layer2_tanh (Dense)       (None, 500)           50500       dropout_6[0][0]                  \n",
      "____________________________________________________________________________________________________\n",
      "softmax_output (Dense)           (None, 244)           122244      hidden_layer2_tanh[0][0]         \n",
      "====================================================================================================\n",
      "Total params: 252844\n",
      "____________________________________________________________________________________________________\n"
     ]
    },
    {
     "name": "stderr",
     "output_type": "stream",
     "text": [
      "2017-03-21 02:42:18,035 : INFO : Found lower val loss for epoch 1 => 0.02251\n",
      "2017-03-21 02:42:21,271 : INFO : Found lower val loss for epoch 2 => 0.022\n",
      "2017-03-21 02:42:24,465 : INFO : Found lower val loss for epoch 3 => 0.01984\n",
      "2017-03-21 02:42:27,595 : INFO : Found lower val loss for epoch 4 => 0.01926\n",
      "2017-03-21 02:42:30,867 : INFO : Found lower val loss for epoch 5 => 0.01763\n",
      "2017-03-21 02:42:33,902 : INFO : Found lower val loss for epoch 6 => 0.01735\n",
      "2017-03-21 02:42:36,712 : INFO : Found lower val loss for epoch 7 => 0.01721\n",
      "2017-03-21 02:42:42,739 : INFO : Found lower val loss for epoch 9 => 0.01713\n",
      "2017-03-21 02:42:51,072 : INFO : Found lower val loss for epoch 12 => 0.01709\n",
      "2017-03-21 02:42:52,787 : INFO : Found lower val loss for epoch 13 => 0.01684\n",
      "2017-03-21 02:42:59,232 : INFO : Found lower val loss for epoch 16 => 0.0166\n",
      "2017-03-21 02:43:23,399 : INFO : Found lower val loss for epoch 24 => 0.01652\n",
      "2017-03-21 02:43:38,728 : INFO : Found lower val loss for epoch 29 => 0.01646\n",
      "2017-03-21 02:43:41,602 : INFO : Found lower val loss for epoch 30 => 0.01646\n",
      "2017-03-21 02:43:53,384 : INFO : Found lower val loss for epoch 34 => 0.01645\n",
      "2017-03-21 02:44:05,868 : INFO : Found lower val loss for epoch 38 => 0.0162\n",
      "2017-03-21 02:44:11,838 : INFO : Found lower val loss for epoch 40 => 0.01608\n",
      "2017-03-21 02:44:14,560 : INFO : Found lower val loss for epoch 41 => 0.01608\n",
      "2017-03-21 02:44:25,648 : INFO : Found lower val loss for epoch 46 => 0.01587\n",
      "2017-03-21 02:44:59,773 : INFO : Evaluating on Validation Data using saved best weights\n"
     ]
    },
    {
     "name": "stdout",
     "output_type": "stream",
     "text": [
      "Epoch 00056: early stopping\n",
      "CPU times: user 57 s, sys: 1min, total: 1min 57s\n",
      "Wall time: 2min 46s\n"
     ]
    },
    {
     "name": "stderr",
     "output_type": "stream",
     "text": [
      "2017-03-21 02:45:02,214 : INFO : Generating Validation Metrics\n"
     ]
    },
    {
     "name": "stdout",
     "output_type": "stream",
     "text": [
      "****** Validation Metrics: Cov Err: 7.771 | Top 3: 0.625 | Top 5: 0.723 | F1 Micro: 0.387 | F1 Macro: 0.083\n"
     ]
    },
    {
     "name": "stderr",
     "output_type": "stream",
     "text": [
      "2017-03-21 02:45:05,737 : INFO : ***************************************************************************************\n",
      "2017-03-21 02:45:05,740 : INFO : nn_1st-size_500_1st-act_sigmoid_2nd-size_1000_2nd-act_relu_in-drop_False_hid-drop_True\n"
     ]
    },
    {
     "name": "stdout",
     "output_type": "stream",
     "text": [
      "____________________________________________________________________________________________________\n",
      "Layer (type)                     Output Shape          Param #     Connected to                     \n",
      "====================================================================================================\n",
      "doc_input (InputLayer)           (None, 800)           0                                            \n",
      "____________________________________________________________________________________________________\n",
      "hidden_layer_sigmoid (Dense)     (None, 500)           400500      doc_input[0][0]                  \n",
      "____________________________________________________________________________________________________\n",
      "dropout_7 (Dropout)              (None, 500)           0           hidden_layer_sigmoid[0][0]       \n",
      "____________________________________________________________________________________________________\n",
      "hidden_layer2_relu (Dense)       (None, 1000)          501000      dropout_7[0][0]                  \n",
      "____________________________________________________________________________________________________\n",
      "softmax_output (Dense)           (None, 244)           244244      hidden_layer2_relu[0][0]         \n",
      "====================================================================================================\n",
      "Total params: 1145744\n",
      "____________________________________________________________________________________________________\n"
     ]
    },
    {
     "name": "stderr",
     "output_type": "stream",
     "text": [
      "2017-03-21 02:45:17,410 : INFO : Found lower val loss for epoch 1 => 0.02342\n",
      "2017-03-21 02:45:19,557 : INFO : Found lower val loss for epoch 2 => 0.02295\n",
      "2017-03-21 02:45:28,692 : INFO : Found lower val loss for epoch 4 => 0.02254\n",
      "2017-03-21 02:45:38,000 : INFO : Found lower val loss for epoch 6 => 0.0193\n",
      "2017-03-21 02:45:47,105 : INFO : Found lower val loss for epoch 8 => 0.01836\n",
      "2017-03-21 02:45:55,607 : INFO : Found lower val loss for epoch 10 => 0.01696\n",
      "2017-03-21 02:46:13,791 : INFO : Found lower val loss for epoch 14 => 0.0164\n",
      "2017-03-21 02:46:22,762 : INFO : Found lower val loss for epoch 16 => 0.01608\n",
      "2017-03-21 02:46:33,823 : INFO : Found lower val loss for epoch 18 => 0.01573\n",
      "2017-03-21 02:46:37,816 : INFO : Found lower val loss for epoch 19 => 0.01558\n",
      "2017-03-21 02:46:49,316 : INFO : Found lower val loss for epoch 21 => 0.01552\n",
      "2017-03-21 02:46:55,298 : INFO : Found lower val loss for epoch 22 => 0.01549\n",
      "2017-03-21 02:46:57,496 : INFO : Found lower val loss for epoch 23 => 0.01516\n",
      "2017-03-21 02:47:08,611 : INFO : Found lower val loss for epoch 26 => 0.01502\n",
      "2017-03-21 02:47:12,796 : INFO : Found lower val loss for epoch 27 => 0.01482\n",
      "2017-03-21 02:47:21,761 : INFO : Found lower val loss for epoch 29 => 0.01468\n",
      "2017-03-21 02:47:35,503 : INFO : Found lower val loss for epoch 32 => 0.01439\n",
      "2017-03-21 02:48:06,906 : INFO : Found lower val loss for epoch 39 => 0.01409\n",
      "2017-03-21 02:48:33,623 : INFO : Found lower val loss for epoch 46 => 0.01409\n",
      "2017-03-21 02:48:49,379 : INFO : Evaluating on Validation Data using saved best weights\n"
     ]
    },
    {
     "name": "stdout",
     "output_type": "stream",
     "text": [
      "Epoch 00049: early stopping\n",
      "CPU times: user 58.7 s, sys: 1min 20s, total: 2min 18s\n",
      "Wall time: 3min 36s\n"
     ]
    },
    {
     "name": "stderr",
     "output_type": "stream",
     "text": [
      "2017-03-21 02:48:51,992 : INFO : Generating Validation Metrics\n"
     ]
    },
    {
     "name": "stdout",
     "output_type": "stream",
     "text": [
      "****** Validation Metrics: Cov Err: 5.951 | Top 3: 0.704 | Top 5: 0.793 | F1 Micro: 0.488 | F1 Macro: 0.121\n"
     ]
    },
    {
     "name": "stderr",
     "output_type": "stream",
     "text": [
      "2017-03-21 02:48:55,331 : INFO : ***************************************************************************************\n",
      "2017-03-21 02:48:55,333 : INFO : nn_1st-size_200_1st-act_sigmoid_2nd-size_None_2nd-act_sigmoid_in-drop_False_hid-drop_True\n"
     ]
    },
    {
     "name": "stdout",
     "output_type": "stream",
     "text": [
      "____________________________________________________________________________________________________\n",
      "Layer (type)                     Output Shape          Param #     Connected to                     \n",
      "====================================================================================================\n",
      "doc_input (InputLayer)           (None, 800)           0                                            \n",
      "____________________________________________________________________________________________________\n",
      "hidden_layer_sigmoid (Dense)     (None, 200)           160200      doc_input[0][0]                  \n",
      "____________________________________________________________________________________________________\n",
      "dropout_8 (Dropout)              (None, 200)           0           hidden_layer_sigmoid[0][0]       \n",
      "____________________________________________________________________________________________________\n",
      "softmax_output (Dense)           (None, 244)           49044       dropout_8[0][0]                  \n",
      "====================================================================================================\n",
      "Total params: 209244\n",
      "____________________________________________________________________________________________________\n"
     ]
    },
    {
     "name": "stderr",
     "output_type": "stream",
     "text": [
      "2017-03-21 02:48:59,868 : INFO : Found lower val loss for epoch 1 => 0.02412\n",
      "2017-03-21 02:49:02,855 : INFO : Found lower val loss for epoch 2 => 0.02199\n",
      "2017-03-21 02:49:05,980 : INFO : Found lower val loss for epoch 3 => 0.02092\n",
      "2017-03-21 02:49:08,833 : INFO : Found lower val loss for epoch 4 => 0.02029\n",
      "2017-03-21 02:49:11,951 : INFO : Found lower val loss for epoch 5 => 0.01952\n",
      "2017-03-21 02:49:14,776 : INFO : Found lower val loss for epoch 6 => 0.01889\n",
      "2017-03-21 02:49:17,882 : INFO : Found lower val loss for epoch 7 => 0.01837\n",
      "2017-03-21 02:49:20,889 : INFO : Found lower val loss for epoch 8 => 0.01813\n",
      "2017-03-21 02:49:23,902 : INFO : Found lower val loss for epoch 9 => 0.0177\n",
      "2017-03-21 02:49:26,664 : INFO : Found lower val loss for epoch 10 => 0.01729\n",
      "2017-03-21 02:49:29,678 : INFO : Found lower val loss for epoch 11 => 0.01722\n",
      "2017-03-21 02:49:32,690 : INFO : Found lower val loss for epoch 12 => 0.0171\n",
      "2017-03-21 02:49:35,776 : INFO : Found lower val loss for epoch 13 => 0.01686\n",
      "2017-03-21 02:49:38,704 : INFO : Found lower val loss for epoch 14 => 0.01675\n",
      "2017-03-21 02:49:41,808 : INFO : Found lower val loss for epoch 15 => 0.01654\n",
      "2017-03-21 02:49:44,751 : INFO : Found lower val loss for epoch 16 => 0.01644\n",
      "2017-03-21 02:49:47,843 : INFO : Found lower val loss for epoch 17 => 0.01642\n",
      "2017-03-21 02:49:50,774 : INFO : Found lower val loss for epoch 18 => 0.01634\n",
      "2017-03-21 02:49:53,887 : INFO : Found lower val loss for epoch 19 => 0.01628\n",
      "2017-03-21 02:49:56,007 : INFO : Found lower val loss for epoch 20 => 0.01611\n",
      "2017-03-21 02:49:56,008 : INFO : Validation Loss Reduced 20 times\n",
      "2017-03-21 02:49:56,008 : INFO : Evaluating on Validation Data\n",
      "2017-03-21 02:49:58,139 : INFO : Generating Validation Metrics\n"
     ]
    },
    {
     "name": "stdout",
     "output_type": "stream",
     "text": [
      "****** Validation Metrics: Cov Err: 8.479 | Top 3: 0.613 | Top 5: 0.712 | F1 Micro: 0.347 | F1 Macro: 0.038\n"
     ]
    },
    {
     "name": "stderr",
     "output_type": "stream",
     "text": [
      "2017-03-21 02:50:06,385 : INFO : Found lower val loss for epoch 22 => 0.01605\n",
      "2017-03-21 02:50:08,944 : INFO : Found lower val loss for epoch 23 => 0.01599\n",
      "2017-03-21 02:50:11,434 : INFO : Found lower val loss for epoch 24 => 0.01599\n",
      "2017-03-21 02:50:13,950 : INFO : Found lower val loss for epoch 25 => 0.01589\n",
      "2017-03-21 02:50:20,179 : INFO : Found lower val loss for epoch 27 => 0.01585\n",
      "2017-03-21 02:50:23,152 : INFO : Found lower val loss for epoch 28 => 0.01583\n",
      "2017-03-21 02:50:26,001 : INFO : Found lower val loss for epoch 29 => 0.01579\n",
      "2017-03-21 02:50:40,792 : INFO : Found lower val loss for epoch 34 => 0.01579\n",
      "2017-03-21 02:50:43,782 : INFO : Found lower val loss for epoch 35 => 0.01573\n",
      "2017-03-21 02:50:46,760 : INFO : Found lower val loss for epoch 36 => 0.0157\n",
      "2017-03-21 02:50:58,827 : INFO : Found lower val loss for epoch 40 => 0.01568\n",
      "2017-03-21 02:51:31,498 : INFO : Evaluating on Validation Data using saved best weights\n"
     ]
    },
    {
     "name": "stdout",
     "output_type": "stream",
     "text": [
      "Epoch 00050: early stopping\n",
      "CPU times: user 55.7 s, sys: 52.1 s, total: 1min 47s\n",
      "Wall time: 2min 35s\n"
     ]
    },
    {
     "name": "stderr",
     "output_type": "stream",
     "text": [
      "2017-03-21 02:51:33,627 : INFO : Generating Validation Metrics\n"
     ]
    },
    {
     "name": "stdout",
     "output_type": "stream",
     "text": [
      "****** Validation Metrics: Cov Err: 7.906 | Top 3: 0.638 | Top 5: 0.733 | F1 Micro: 0.362 | F1 Macro: 0.052\n"
     ]
    },
    {
     "name": "stderr",
     "output_type": "stream",
     "text": [
      "2017-03-21 02:51:36,709 : INFO : ***************************************************************************************\n",
      "2017-03-21 02:51:36,711 : INFO : nn_1st-size_100_1st-act_sigmoid_2nd-size_None_2nd-act_sigmoid_in-drop_False_hid-drop_True\n"
     ]
    },
    {
     "name": "stdout",
     "output_type": "stream",
     "text": [
      "____________________________________________________________________________________________________\n",
      "Layer (type)                     Output Shape          Param #     Connected to                     \n",
      "====================================================================================================\n",
      "doc_input (InputLayer)           (None, 800)           0                                            \n",
      "____________________________________________________________________________________________________\n",
      "hidden_layer_sigmoid (Dense)     (None, 100)           80100       doc_input[0][0]                  \n",
      "____________________________________________________________________________________________________\n",
      "dropout_9 (Dropout)              (None, 100)           0           hidden_layer_sigmoid[0][0]       \n",
      "____________________________________________________________________________________________________\n",
      "softmax_output (Dense)           (None, 244)           24644       dropout_9[0][0]                  \n",
      "====================================================================================================\n",
      "Total params: 104744\n",
      "____________________________________________________________________________________________________\n"
     ]
    },
    {
     "name": "stderr",
     "output_type": "stream",
     "text": [
      "2017-03-21 02:51:40,814 : INFO : Found lower val loss for epoch 1 => 0.03261\n",
      "2017-03-21 02:51:43,314 : INFO : Found lower val loss for epoch 2 => 0.02267\n",
      "2017-03-21 02:51:44,855 : INFO : Found lower val loss for epoch 3 => 0.02219\n",
      "2017-03-21 02:51:46,374 : INFO : Found lower val loss for epoch 4 => 0.02196\n",
      "2017-03-21 02:51:47,821 : INFO : Found lower val loss for epoch 5 => 0.02151\n",
      "2017-03-21 02:51:49,378 : INFO : Found lower val loss for epoch 6 => 0.02105\n",
      "2017-03-21 02:51:51,510 : INFO : Found lower val loss for epoch 7 => 0.02047\n",
      "2017-03-21 02:51:54,270 : INFO : Found lower val loss for epoch 8 => 0.0201\n",
      "2017-03-21 02:51:57,047 : INFO : Found lower val loss for epoch 9 => 0.0197\n",
      "2017-03-21 02:51:59,739 : INFO : Found lower val loss for epoch 10 => 0.0193\n",
      "2017-03-21 02:52:02,308 : INFO : Found lower val loss for epoch 11 => 0.01898\n",
      "2017-03-21 02:52:04,964 : INFO : Found lower val loss for epoch 12 => 0.01869\n",
      "2017-03-21 02:52:07,498 : INFO : Found lower val loss for epoch 13 => 0.01845\n",
      "2017-03-21 02:52:10,097 : INFO : Found lower val loss for epoch 14 => 0.01826\n",
      "2017-03-21 02:52:12,701 : INFO : Found lower val loss for epoch 15 => 0.01798\n",
      "2017-03-21 02:52:17,997 : INFO : Found lower val loss for epoch 17 => 0.01775\n",
      "2017-03-21 02:52:20,602 : INFO : Found lower val loss for epoch 18 => 0.01759\n",
      "2017-03-21 02:52:23,459 : INFO : Found lower val loss for epoch 19 => 0.01756\n",
      "2017-03-21 02:52:26,160 : INFO : Found lower val loss for epoch 20 => 0.01737\n",
      "2017-03-21 02:52:28,848 : INFO : Found lower val loss for epoch 21 => 0.01727\n",
      "2017-03-21 02:52:28,850 : INFO : Validation Loss Reduced 20 times\n",
      "2017-03-21 02:52:28,851 : INFO : Evaluating on Validation Data\n",
      "2017-03-21 02:52:31,075 : INFO : Generating Validation Metrics\n"
     ]
    },
    {
     "name": "stdout",
     "output_type": "stream",
     "text": [
      "****** Validation Metrics: Cov Err: 10.174 | Top 3: 0.557 | Top 5: 0.654 | F1 Micro: 0.252 | F1 Macro: 0.013\n"
     ]
    },
    {
     "name": "stderr",
     "output_type": "stream",
     "text": [
      "2017-03-21 02:52:36,700 : INFO : Found lower val loss for epoch 22 => 0.01716\n",
      "2017-03-21 02:52:39,383 : INFO : Found lower val loss for epoch 23 => 0.01715\n",
      "2017-03-21 02:52:41,470 : INFO : Found lower val loss for epoch 24 => 0.01699\n",
      "2017-03-21 02:52:44,172 : INFO : Found lower val loss for epoch 26 => 0.0169\n",
      "2017-03-21 02:52:45,929 : INFO : Found lower val loss for epoch 27 => 0.01685\n",
      "2017-03-21 02:52:47,913 : INFO : Found lower val loss for epoch 28 => 0.01682\n",
      "2017-03-21 02:52:49,785 : INFO : Found lower val loss for epoch 29 => 0.01682\n",
      "2017-03-21 02:52:51,799 : INFO : Found lower val loss for epoch 30 => 0.01677\n",
      "2017-03-21 02:52:53,802 : INFO : Found lower val loss for epoch 31 => 0.01667\n",
      "2017-03-21 02:52:55,564 : INFO : Found lower val loss for epoch 32 => 0.01662\n",
      "2017-03-21 02:53:05,168 : INFO : Found lower val loss for epoch 37 => 0.01662\n",
      "2017-03-21 02:53:09,983 : INFO : Found lower val loss for epoch 39 => 0.01655\n",
      "2017-03-21 02:53:12,609 : INFO : Found lower val loss for epoch 40 => 0.01655\n",
      "2017-03-21 02:53:14,172 : INFO : Found lower val loss for epoch 41 => 0.01653\n",
      "2017-03-21 02:53:16,889 : INFO : Found lower val loss for epoch 43 => 0.0165\n",
      "2017-03-21 02:53:29,386 : INFO : Found lower val loss for epoch 49 => 0.01645\n",
      "2017-03-21 02:53:52,049 : INFO : Found lower val loss for epoch 58 => 0.01642\n",
      "2017-03-21 02:54:20,143 : INFO : Evaluating on Validation Data using saved best weights\n"
     ]
    },
    {
     "name": "stdout",
     "output_type": "stream",
     "text": [
      "Epoch 00068: early stopping\n",
      "CPU times: user 1min 4s, sys: 55.5 s, total: 2min\n",
      "Wall time: 2min 43s\n"
     ]
    },
    {
     "name": "stderr",
     "output_type": "stream",
     "text": [
      "2017-03-21 02:54:22,226 : INFO : Generating Validation Metrics\n"
     ]
    },
    {
     "name": "stdout",
     "output_type": "stream",
     "text": [
      "****** Validation Metrics: Cov Err: 8.614 | Top 3: 0.611 | Top 5: 0.707 | F1 Micro: 0.288 | F1 Macro: 0.024\n"
     ]
    },
    {
     "name": "stderr",
     "output_type": "stream",
     "text": [
      "2017-03-21 02:54:25,339 : INFO : ***************************************************************************************\n",
      "2017-03-21 02:54:25,341 : INFO : nn_1st-size_100_1st-act_sigmoid_2nd-size_1000_2nd-act_sigmoid_in-drop_False_hid-drop_True\n"
     ]
    },
    {
     "name": "stdout",
     "output_type": "stream",
     "text": [
      "____________________________________________________________________________________________________\n",
      "Layer (type)                     Output Shape          Param #     Connected to                     \n",
      "====================================================================================================\n",
      "doc_input (InputLayer)           (None, 800)           0                                            \n",
      "____________________________________________________________________________________________________\n",
      "hidden_layer_sigmoid (Dense)     (None, 100)           80100       doc_input[0][0]                  \n",
      "____________________________________________________________________________________________________\n",
      "dropout_10 (Dropout)             (None, 100)           0           hidden_layer_sigmoid[0][0]       \n",
      "____________________________________________________________________________________________________\n",
      "hidden_layer2_sigmoid (Dense)    (None, 1000)          101000      dropout_10[0][0]                 \n",
      "____________________________________________________________________________________________________\n",
      "softmax_output (Dense)           (None, 244)           244244      hidden_layer2_sigmoid[0][0]      \n",
      "====================================================================================================\n",
      "Total params: 425344\n",
      "____________________________________________________________________________________________________\n"
     ]
    },
    {
     "name": "stderr",
     "output_type": "stream",
     "text": [
      "2017-03-21 02:54:28,989 : INFO : Found lower val loss for epoch 1 => 0.02265\n",
      "2017-03-21 02:54:30,569 : INFO : Found lower val loss for epoch 2 => 0.02244\n",
      "2017-03-21 02:54:32,303 : INFO : Found lower val loss for epoch 3 => 0.02189\n",
      "2017-03-21 02:54:35,497 : INFO : Found lower val loss for epoch 4 => 0.02144\n",
      "2017-03-21 02:54:41,820 : INFO : Found lower val loss for epoch 6 => 0.02066\n",
      "2017-03-21 02:54:48,406 : INFO : Found lower val loss for epoch 8 => 0.02065\n",
      "2017-03-21 02:54:51,695 : INFO : Found lower val loss for epoch 9 => 0.01985\n",
      "2017-03-21 02:54:58,200 : INFO : Found lower val loss for epoch 11 => 0.01983\n",
      "2017-03-21 02:55:01,509 : INFO : Found lower val loss for epoch 12 => 0.01945\n",
      "2017-03-21 02:55:04,567 : INFO : Found lower val loss for epoch 13 => 0.01896\n",
      "2017-03-21 02:55:07,814 : INFO : Found lower val loss for epoch 14 => 0.01889\n",
      "2017-03-21 02:55:10,915 : INFO : Found lower val loss for epoch 15 => 0.01867\n",
      "2017-03-21 02:55:13,805 : INFO : Found lower val loss for epoch 16 => 0.01865\n",
      "2017-03-21 02:55:20,001 : INFO : Found lower val loss for epoch 18 => 0.01832\n",
      "2017-03-21 02:55:26,468 : INFO : Found lower val loss for epoch 20 => 0.01824\n",
      "2017-03-21 02:55:29,779 : INFO : Found lower val loss for epoch 21 => 0.01754\n",
      "2017-03-21 02:55:46,593 : INFO : Found lower val loss for epoch 26 => 0.01726\n",
      "2017-03-21 02:55:55,980 : INFO : Found lower val loss for epoch 29 => 0.01702\n",
      "2017-03-21 02:56:02,689 : INFO : Found lower val loss for epoch 31 => 0.01677\n",
      "2017-03-21 02:56:12,120 : INFO : Found lower val loss for epoch 34 => 0.01676\n",
      "2017-03-21 02:56:12,123 : INFO : Validation Loss Reduced 20 times\n",
      "2017-03-21 02:56:12,124 : INFO : Evaluating on Validation Data\n",
      "2017-03-21 02:56:14,782 : INFO : Generating Validation Metrics\n"
     ]
    },
    {
     "name": "stdout",
     "output_type": "stream",
     "text": [
      "****** Validation Metrics: Cov Err: 9.531 | Top 3: 0.583 | Top 5: 0.680 | F1 Micro: 0.328 | F1 Macro: 0.026\n"
     ]
    },
    {
     "name": "stderr",
     "output_type": "stream",
     "text": [
      "2017-03-21 02:56:30,308 : INFO : Found lower val loss for epoch 38 => 0.01666\n",
      "2017-03-21 02:56:33,300 : INFO : Found lower val loss for epoch 39 => 0.01652\n",
      "2017-03-21 02:56:36,522 : INFO : Found lower val loss for epoch 40 => 0.01639\n",
      "2017-03-21 02:56:46,456 : INFO : Found lower val loss for epoch 43 => 0.01633\n",
      "2017-03-21 02:56:50,610 : INFO : Found lower val loss for epoch 45 => 0.01628\n",
      "2017-03-21 02:56:56,549 : INFO : Found lower val loss for epoch 48 => 0.01607\n",
      "2017-03-21 02:57:09,347 : INFO : Found lower val loss for epoch 52 => 0.01582\n",
      "2017-03-21 02:57:25,848 : INFO : Found lower val loss for epoch 57 => 0.01581\n",
      "2017-03-21 02:57:32,369 : INFO : Found lower val loss for epoch 59 => 0.0157\n",
      "2017-03-21 02:57:55,128 : INFO : Found lower val loss for epoch 66 => 0.01568\n",
      "2017-03-21 02:58:01,715 : INFO : Found lower val loss for epoch 68 => 0.01565\n",
      "2017-03-21 02:58:14,793 : INFO : Found lower val loss for epoch 72 => 0.01561\n",
      "2017-03-21 02:58:31,328 : INFO : Found lower val loss for epoch 77 => 0.0155\n",
      "2017-03-21 02:58:56,987 : INFO : Found lower val loss for epoch 85 => 0.01533\n",
      "2017-03-21 02:59:31,348 : INFO : Evaluating on Validation Data using saved best weights\n"
     ]
    },
    {
     "name": "stdout",
     "output_type": "stream",
     "text": [
      "Epoch 00095: early stopping\n",
      "CPU times: user 1min 45s, sys: 1min 47s, total: 3min 33s\n",
      "Wall time: 5min 5s\n"
     ]
    },
    {
     "name": "stderr",
     "output_type": "stream",
     "text": [
      "2017-03-21 02:59:33,402 : INFO : Generating Validation Metrics\n"
     ]
    },
    {
     "name": "stdout",
     "output_type": "stream",
     "text": [
      "****** Validation Metrics: Cov Err: 7.490 | Top 3: 0.632 | Top 5: 0.731 | F1 Micro: 0.345 | F1 Macro: 0.036\n"
     ]
    },
    {
     "name": "stderr",
     "output_type": "stream",
     "text": [
      "2017-03-21 02:59:36,498 : INFO : ***************************************************************************************\n",
      "2017-03-21 02:59:36,500 : INFO : nn_1st-size_500_1st-act_relu_2nd-size_500_2nd-act_sigmoid_in-drop_False_hid-drop_True\n"
     ]
    },
    {
     "name": "stdout",
     "output_type": "stream",
     "text": [
      "____________________________________________________________________________________________________\n",
      "Layer (type)                     Output Shape          Param #     Connected to                     \n",
      "====================================================================================================\n",
      "doc_input (InputLayer)           (None, 800)           0                                            \n",
      "____________________________________________________________________________________________________\n",
      "hidden_layer_relu (Dense)        (None, 500)           400500      doc_input[0][0]                  \n",
      "____________________________________________________________________________________________________\n",
      "dropout_11 (Dropout)             (None, 500)           0           hidden_layer_relu[0][0]          \n",
      "____________________________________________________________________________________________________\n",
      "hidden_layer2_sigmoid (Dense)    (None, 500)           250500      dropout_11[0][0]                 \n",
      "____________________________________________________________________________________________________\n",
      "softmax_output (Dense)           (None, 244)           122244      hidden_layer2_sigmoid[0][0]      \n",
      "====================================================================================================\n",
      "Total params: 773244\n",
      "____________________________________________________________________________________________________\n"
     ]
    },
    {
     "name": "stderr",
     "output_type": "stream",
     "text": [
      "2017-03-21 02:59:42,674 : INFO : Found lower val loss for epoch 1 => 0.02268\n",
      "2017-03-21 02:59:46,653 : INFO : Found lower val loss for epoch 2 => 0.0203\n",
      "2017-03-21 02:59:50,943 : INFO : Found lower val loss for epoch 3 => 0.0197\n",
      "2017-03-21 02:59:55,346 : INFO : Found lower val loss for epoch 4 => 0.01719\n",
      "2017-03-21 02:59:59,480 : INFO : Found lower val loss for epoch 5 => 0.01686\n",
      "2017-03-21 03:00:21,011 : INFO : Found lower val loss for epoch 10 => 0.01582\n",
      "2017-03-21 03:00:46,473 : INFO : Found lower val loss for epoch 16 => 0.01567\n",
      "2017-03-21 03:00:50,830 : INFO : Found lower val loss for epoch 17 => 0.01521\n",
      "2017-03-21 03:00:59,033 : INFO : Found lower val loss for epoch 19 => 0.01505\n",
      "2017-03-21 03:01:03,148 : INFO : Found lower val loss for epoch 20 => 0.01496\n",
      "2017-03-21 03:01:07,391 : INFO : Found lower val loss for epoch 21 => 0.01487\n",
      "2017-03-21 03:01:20,207 : INFO : Found lower val loss for epoch 24 => 0.01451\n",
      "2017-03-21 03:01:45,329 : INFO : Found lower val loss for epoch 30 => 0.01424\n",
      "2017-03-21 03:02:26,526 : INFO : Found lower val loss for epoch 40 => 0.01395\n",
      "2017-03-21 03:02:55,464 : INFO : Evaluating on Validation Data using saved best weights\n"
     ]
    },
    {
     "name": "stdout",
     "output_type": "stream",
     "text": [
      "Epoch 00050: early stopping\n",
      "CPU times: user 58.5 s, sys: 1min 15s, total: 2min 14s\n",
      "Wall time: 3min 18s\n"
     ]
    },
    {
     "name": "stderr",
     "output_type": "stream",
     "text": [
      "2017-03-21 03:02:58,052 : INFO : Generating Validation Metrics\n"
     ]
    },
    {
     "name": "stdout",
     "output_type": "stream",
     "text": [
      "****** Validation Metrics: Cov Err: 6.426 | Top 3: 0.699 | Top 5: 0.784 | F1 Micro: 0.481 | F1 Macro: 0.112\n"
     ]
    },
    {
     "name": "stderr",
     "output_type": "stream",
     "text": [
      "2017-03-21 03:03:01,142 : INFO : ***************************************************************************************\n",
      "2017-03-21 03:03:01,145 : INFO : nn_1st-size_500_1st-act_sigmoid_2nd-size_None_2nd-act_tanh_in-drop_False_hid-drop_True\n"
     ]
    },
    {
     "name": "stdout",
     "output_type": "stream",
     "text": [
      "____________________________________________________________________________________________________\n",
      "Layer (type)                     Output Shape          Param #     Connected to                     \n",
      "====================================================================================================\n",
      "doc_input (InputLayer)           (None, 800)           0                                            \n",
      "____________________________________________________________________________________________________\n",
      "hidden_layer_sigmoid (Dense)     (None, 500)           400500      doc_input[0][0]                  \n",
      "____________________________________________________________________________________________________\n",
      "dropout_12 (Dropout)             (None, 500)           0           hidden_layer_sigmoid[0][0]       \n",
      "____________________________________________________________________________________________________\n",
      "softmax_output (Dense)           (None, 244)           122244      dropout_12[0][0]                 \n",
      "====================================================================================================\n",
      "Total params: 522744\n",
      "____________________________________________________________________________________________________\n"
     ]
    },
    {
     "name": "stderr",
     "output_type": "stream",
     "text": [
      "2017-03-21 03:03:05,639 : INFO : Found lower val loss for epoch 1 => 0.02219\n",
      "2017-03-21 03:03:07,980 : INFO : Found lower val loss for epoch 2 => 0.02031\n",
      "2017-03-21 03:03:10,807 : INFO : Found lower val loss for epoch 3 => 0.01904\n",
      "2017-03-21 03:03:13,850 : INFO : Found lower val loss for epoch 4 => 0.01826\n",
      "2017-03-21 03:03:16,594 : INFO : Found lower val loss for epoch 5 => 0.01812\n",
      "2017-03-21 03:03:19,100 : INFO : Found lower val loss for epoch 6 => 0.0178\n",
      "2017-03-21 03:03:21,778 : INFO : Found lower val loss for epoch 7 => 0.01771\n",
      "2017-03-21 03:03:27,503 : INFO : Found lower val loss for epoch 9 => 0.01763\n",
      "2017-03-21 03:03:30,189 : INFO : Found lower val loss for epoch 10 => 0.01733\n",
      "2017-03-21 03:03:33,110 : INFO : Found lower val loss for epoch 11 => 0.01701\n",
      "2017-03-21 03:03:38,614 : INFO : Found lower val loss for epoch 13 => 0.01684\n",
      "2017-03-21 03:03:41,184 : INFO : Found lower val loss for epoch 14 => 0.01678\n",
      "2017-03-21 03:03:43,296 : INFO : Found lower val loss for epoch 15 => 0.01666\n",
      "2017-03-21 03:03:45,239 : INFO : Found lower val loss for epoch 16 => 0.01664\n",
      "2017-03-21 03:03:47,449 : INFO : Found lower val loss for epoch 17 => 0.01652\n",
      "2017-03-21 03:03:49,642 : INFO : Found lower val loss for epoch 18 => 0.01638\n",
      "2017-03-21 03:03:56,272 : INFO : Found lower val loss for epoch 21 => 0.01628\n",
      "2017-03-21 03:03:58,254 : INFO : Found lower val loss for epoch 22 => 0.01618\n",
      "2017-03-21 03:04:05,345 : INFO : Found lower val loss for epoch 25 => 0.01615\n",
      "2017-03-21 03:04:06,975 : INFO : Found lower val loss for epoch 26 => 0.016\n",
      "2017-03-21 03:04:06,976 : INFO : Validation Loss Reduced 20 times\n",
      "2017-03-21 03:04:06,977 : INFO : Evaluating on Validation Data\n",
      "2017-03-21 03:04:09,321 : INFO : Generating Validation Metrics\n"
     ]
    },
    {
     "name": "stdout",
     "output_type": "stream",
     "text": [
      "****** Validation Metrics: Cov Err: 7.542 | Top 3: 0.645 | Top 5: 0.741 | F1 Micro: 0.424 | F1 Macro: 0.100\n"
     ]
    },
    {
     "name": "stderr",
     "output_type": "stream",
     "text": [
      "2017-03-21 03:04:14,309 : INFO : Found lower val loss for epoch 27 => 0.01587\n",
      "2017-03-21 03:04:16,348 : INFO : Found lower val loss for epoch 28 => 0.01587\n",
      "2017-03-21 03:04:19,721 : INFO : Found lower val loss for epoch 30 => 0.01577\n",
      "2017-03-21 03:04:23,473 : INFO : Found lower val loss for epoch 32 => 0.01568\n",
      "2017-03-21 03:04:25,219 : INFO : Found lower val loss for epoch 33 => 0.01564\n",
      "2017-03-21 03:04:29,025 : INFO : Found lower val loss for epoch 35 => 0.01557\n",
      "2017-03-21 03:04:31,250 : INFO : Found lower val loss for epoch 37 => 0.01553\n",
      "2017-03-21 03:04:33,873 : INFO : Found lower val loss for epoch 39 => 0.0154\n",
      "2017-03-21 03:04:49,501 : INFO : Found lower val loss for epoch 45 => 0.0154\n",
      "2017-03-21 03:04:52,640 : INFO : Found lower val loss for epoch 46 => 0.01535\n",
      "2017-03-21 03:04:58,839 : INFO : Found lower val loss for epoch 48 => 0.01528\n",
      "2017-03-21 03:05:34,789 : INFO : Evaluating on Validation Data using saved best weights\n"
     ]
    },
    {
     "name": "stdout",
     "output_type": "stream",
     "text": [
      "Epoch 00058: early stopping\n",
      "CPU times: user 53.5 s, sys: 1min 1s, total: 1min 54s\n",
      "Wall time: 2min 33s\n"
     ]
    },
    {
     "name": "stderr",
     "output_type": "stream",
     "text": [
      "2017-03-21 03:05:37,186 : INFO : Generating Validation Metrics\n"
     ]
    },
    {
     "name": "stdout",
     "output_type": "stream",
     "text": [
      "****** Validation Metrics: Cov Err: 6.982 | Top 3: 0.670 | Top 5: 0.762 | F1 Micro: 0.440 | F1 Macro: 0.109\n"
     ]
    },
    {
     "name": "stderr",
     "output_type": "stream",
     "text": [
      "2017-03-21 03:05:40,455 : INFO : ***************************************************************************************\n",
      "2017-03-21 03:05:40,459 : INFO : nn_1st-size_500_1st-act_tanh_2nd-size_1000_2nd-act_sigmoid_in-drop_False_hid-drop_True\n"
     ]
    },
    {
     "name": "stdout",
     "output_type": "stream",
     "text": [
      "____________________________________________________________________________________________________\n",
      "Layer (type)                     Output Shape          Param #     Connected to                     \n",
      "====================================================================================================\n",
      "doc_input (InputLayer)           (None, 800)           0                                            \n",
      "____________________________________________________________________________________________________\n",
      "hidden_layer_tanh (Dense)        (None, 500)           400500      doc_input[0][0]                  \n",
      "____________________________________________________________________________________________________\n",
      "dropout_13 (Dropout)             (None, 500)           0           hidden_layer_tanh[0][0]          \n",
      "____________________________________________________________________________________________________\n",
      "hidden_layer2_sigmoid (Dense)    (None, 1000)          501000      dropout_13[0][0]                 \n",
      "____________________________________________________________________________________________________\n",
      "softmax_output (Dense)           (None, 244)           244244      hidden_layer2_sigmoid[0][0]      \n",
      "====================================================================================================\n",
      "Total params: 1145744\n",
      "____________________________________________________________________________________________________\n"
     ]
    },
    {
     "name": "stderr",
     "output_type": "stream",
     "text": [
      "2017-03-21 03:05:46,598 : INFO : Found lower val loss for epoch 1 => 0.02206\n",
      "2017-03-21 03:05:50,736 : INFO : Found lower val loss for epoch 2 => 0.01948\n",
      "2017-03-21 03:05:54,581 : INFO : Found lower val loss for epoch 3 => 0.01944\n",
      "2017-03-21 03:05:58,749 : INFO : Found lower val loss for epoch 4 => 0.01735\n",
      "2017-03-21 03:06:14,325 : INFO : Found lower val loss for epoch 8 => 0.01693\n",
      "2017-03-21 03:06:23,268 : INFO : Found lower val loss for epoch 12 => 0.01686\n",
      "2017-03-21 03:06:35,439 : INFO : Found lower val loss for epoch 15 => 0.01597\n",
      "2017-03-21 03:06:59,063 : INFO : Found lower val loss for epoch 21 => 0.01529\n",
      "2017-03-21 03:07:39,241 : INFO : Found lower val loss for epoch 31 => 0.01516\n",
      "2017-03-21 03:08:15,846 : INFO : Found lower val loss for epoch 40 => 0.01494\n",
      "2017-03-21 03:08:35,603 : INFO : Found lower val loss for epoch 47 => 0.01493\n",
      "2017-03-21 03:09:00,920 : INFO : Found lower val loss for epoch 54 => 0.0149\n",
      "2017-03-21 03:09:44,112 : INFO : Evaluating on Validation Data using saved best weights\n"
     ]
    },
    {
     "name": "stdout",
     "output_type": "stream",
     "text": [
      "Epoch 00064: early stopping\n",
      "CPU times: user 1min 10s, sys: 1min 36s, total: 2min 47s\n",
      "Wall time: 4min 3s\n"
     ]
    },
    {
     "name": "stderr",
     "output_type": "stream",
     "text": [
      "2017-03-21 03:09:47,063 : INFO : Generating Validation Metrics\n"
     ]
    },
    {
     "name": "stdout",
     "output_type": "stream",
     "text": [
      "****** Validation Metrics: Cov Err: 6.796 | Top 3: 0.665 | Top 5: 0.756 | F1 Micro: 0.442 | F1 Macro: 0.112\n"
     ]
    },
    {
     "name": "stderr",
     "output_type": "stream",
     "text": [
      "2017-03-21 03:09:50,149 : INFO : ***************************************************************************************\n",
      "2017-03-21 03:09:50,150 : INFO : nn_1st-size_500_1st-act_relu_2nd-size_2000_2nd-act_relu_in-drop_False_hid-drop_True\n"
     ]
    },
    {
     "name": "stdout",
     "output_type": "stream",
     "text": [
      "____________________________________________________________________________________________________\n",
      "Layer (type)                     Output Shape          Param #     Connected to                     \n",
      "====================================================================================================\n",
      "doc_input (InputLayer)           (None, 800)           0                                            \n",
      "____________________________________________________________________________________________________\n",
      "hidden_layer_relu (Dense)        (None, 500)           400500      doc_input[0][0]                  \n",
      "____________________________________________________________________________________________________\n",
      "dropout_14 (Dropout)             (None, 500)           0           hidden_layer_relu[0][0]          \n",
      "____________________________________________________________________________________________________\n",
      "hidden_layer2_relu (Dense)       (None, 2000)          1002000     dropout_14[0][0]                 \n",
      "____________________________________________________________________________________________________\n",
      "softmax_output (Dense)           (None, 244)           488244      hidden_layer2_relu[0][0]         \n",
      "====================================================================================================\n",
      "Total params: 1890744\n",
      "____________________________________________________________________________________________________\n"
     ]
    },
    {
     "name": "stderr",
     "output_type": "stream",
     "text": [
      "2017-03-21 03:09:57,000 : INFO : Found lower val loss for epoch 1 => 0.02078\n",
      "2017-03-21 03:10:05,112 : INFO : Found lower val loss for epoch 3 => 0.0178\n",
      "2017-03-21 03:10:09,149 : INFO : Found lower val loss for epoch 4 => 0.01751\n",
      "2017-03-21 03:10:13,232 : INFO : Found lower val loss for epoch 5 => 0.01559\n",
      "2017-03-21 03:10:22,139 : INFO : Found lower val loss for epoch 7 => 0.0154\n",
      "2017-03-21 03:10:26,469 : INFO : Found lower val loss for epoch 8 => 0.01503\n",
      "2017-03-21 03:10:31,021 : INFO : Found lower val loss for epoch 9 => 0.01497\n",
      "2017-03-21 03:10:35,474 : INFO : Found lower val loss for epoch 10 => 0.01461\n",
      "2017-03-21 03:10:39,974 : INFO : Found lower val loss for epoch 11 => 0.01438\n",
      "2017-03-21 03:10:44,261 : INFO : Found lower val loss for epoch 12 => 0.01409\n",
      "2017-03-21 03:11:25,300 : INFO : Evaluating on Validation Data using saved best weights\n"
     ]
    },
    {
     "name": "stdout",
     "output_type": "stream",
     "text": [
      "Epoch 00022: early stopping\n",
      "CPU times: user 26.9 s, sys: 37.4 s, total: 1min 4s\n",
      "Wall time: 1min 34s\n"
     ]
    },
    {
     "name": "stderr",
     "output_type": "stream",
     "text": [
      "2017-03-21 03:11:28,104 : INFO : Generating Validation Metrics\n"
     ]
    },
    {
     "name": "stdout",
     "output_type": "stream",
     "text": [
      "****** Validation Metrics: Cov Err: 5.705 | Top 3: 0.712 | Top 5: 0.801 | F1 Micro: 0.504 | F1 Macro: 0.111\n"
     ]
    },
    {
     "name": "stderr",
     "output_type": "stream",
     "text": [
      "2017-03-21 03:11:31,208 : INFO : ***************************************************************************************\n",
      "2017-03-21 03:11:31,209 : INFO : nn_1st-size_200_1st-act_sigmoid_2nd-size_1000_2nd-act_sigmoid_in-drop_False_hid-drop_True\n"
     ]
    },
    {
     "name": "stdout",
     "output_type": "stream",
     "text": [
      "____________________________________________________________________________________________________\n",
      "Layer (type)                     Output Shape          Param #     Connected to                     \n",
      "====================================================================================================\n",
      "doc_input (InputLayer)           (None, 800)           0                                            \n",
      "____________________________________________________________________________________________________\n",
      "hidden_layer_sigmoid (Dense)     (None, 200)           160200      doc_input[0][0]                  \n",
      "____________________________________________________________________________________________________\n",
      "dropout_15 (Dropout)             (None, 200)           0           hidden_layer_sigmoid[0][0]       \n",
      "____________________________________________________________________________________________________\n",
      "hidden_layer2_sigmoid (Dense)    (None, 1000)          201000      dropout_15[0][0]                 \n",
      "____________________________________________________________________________________________________\n",
      "softmax_output (Dense)           (None, 244)           244244      hidden_layer2_sigmoid[0][0]      \n",
      "====================================================================================================\n",
      "Total params: 605444\n",
      "____________________________________________________________________________________________________\n"
     ]
    },
    {
     "name": "stderr",
     "output_type": "stream",
     "text": [
      "2017-03-21 03:11:36,974 : INFO : Found lower val loss for epoch 1 => 0.02268\n",
      "2017-03-21 03:11:40,452 : INFO : Found lower val loss for epoch 2 => 0.02228\n",
      "2017-03-21 03:11:44,073 : INFO : Found lower val loss for epoch 3 => 0.02188\n",
      "2017-03-21 03:11:47,442 : INFO : Found lower val loss for epoch 4 => 0.0215\n",
      "2017-03-21 03:11:54,628 : INFO : Found lower val loss for epoch 6 => 0.02067\n",
      "2017-03-21 03:11:58,107 : INFO : Found lower val loss for epoch 7 => 0.01981\n",
      "2017-03-21 03:12:05,059 : INFO : Found lower val loss for epoch 9 => 0.01913\n",
      "2017-03-21 03:12:08,358 : INFO : Found lower val loss for epoch 10 => 0.01874\n",
      "2017-03-21 03:12:15,230 : INFO : Found lower val loss for epoch 12 => 0.01802\n",
      "2017-03-21 03:12:22,314 : INFO : Found lower val loss for epoch 14 => 0.01798\n",
      "2017-03-21 03:12:25,897 : INFO : Found lower val loss for epoch 15 => 0.01782\n",
      "2017-03-21 03:12:32,987 : INFO : Found lower val loss for epoch 17 => 0.0174\n",
      "2017-03-21 03:12:50,176 : INFO : Found lower val loss for epoch 22 => 0.01738\n",
      "2017-03-21 03:12:57,154 : INFO : Found lower val loss for epoch 24 => 0.01687\n",
      "2017-03-21 03:13:07,770 : INFO : Found lower val loss for epoch 27 => 0.01665\n",
      "2017-03-21 03:13:14,750 : INFO : Found lower val loss for epoch 29 => 0.01653\n",
      "2017-03-21 03:13:21,806 : INFO : Found lower val loss for epoch 31 => 0.01642\n",
      "2017-03-21 03:13:23,534 : INFO : Found lower val loss for epoch 32 => 0.01638\n",
      "2017-03-21 03:13:25,264 : INFO : Found lower val loss for epoch 33 => 0.01626\n",
      "2017-03-21 03:13:29,084 : INFO : Found lower val loss for epoch 35 => 0.01618\n",
      "2017-03-21 03:13:29,087 : INFO : Validation Loss Reduced 20 times\n",
      "2017-03-21 03:13:29,088 : INFO : Evaluating on Validation Data\n",
      "2017-03-21 03:13:31,578 : INFO : Generating Validation Metrics\n"
     ]
    },
    {
     "name": "stdout",
     "output_type": "stream",
     "text": [
      "****** Validation Metrics: Cov Err: 8.501 | Top 3: 0.614 | Top 5: 0.710 | F1 Micro: 0.378 | F1 Macro: 0.047\n"
     ]
    },
    {
     "name": "stderr",
     "output_type": "stream",
     "text": [
      "2017-03-21 03:13:38,085 : INFO : Found lower val loss for epoch 36 => 0.01593\n",
      "2017-03-21 03:13:44,936 : INFO : Found lower val loss for epoch 38 => 0.0159\n",
      "2017-03-21 03:13:55,747 : INFO : Found lower val loss for epoch 41 => 0.0158\n",
      "2017-03-21 03:13:59,213 : INFO : Found lower val loss for epoch 42 => 0.01573\n",
      "2017-03-21 03:14:09,392 : INFO : Found lower val loss for epoch 45 => 0.01552\n",
      "2017-03-21 03:14:13,085 : INFO : Found lower val loss for epoch 46 => 0.0155\n",
      "2017-03-21 03:14:20,213 : INFO : Found lower val loss for epoch 48 => 0.0154\n",
      "2017-03-21 03:14:37,849 : INFO : Found lower val loss for epoch 53 => 0.01527\n",
      "2017-03-21 03:14:41,332 : INFO : Found lower val loss for epoch 54 => 0.01526\n",
      "2017-03-21 03:14:44,801 : INFO : Found lower val loss for epoch 55 => 0.01521\n",
      "2017-03-21 03:14:54,847 : INFO : Found lower val loss for epoch 59 => 0.01514\n",
      "2017-03-21 03:14:58,478 : INFO : Found lower val loss for epoch 61 => 0.01512\n",
      "2017-03-21 03:15:04,275 : INFO : Found lower val loss for epoch 64 => 0.01503\n",
      "2017-03-21 03:15:06,171 : INFO : Found lower val loss for epoch 65 => 0.01485\n",
      "2017-03-21 03:15:19,884 : INFO : Found lower val loss for epoch 74 => 0.01485\n",
      "2017-03-21 03:15:22,617 : INFO : Evaluating on Validation Data using saved best weights\n"
     ]
    },
    {
     "name": "stdout",
     "output_type": "stream",
     "text": [
      "Epoch 00075: early stopping\n",
      "CPU times: user 1min 19s, sys: 1min 29s, total: 2min 49s\n",
      "Wall time: 3min 51s\n"
     ]
    },
    {
     "name": "stderr",
     "output_type": "stream",
     "text": [
      "2017-03-21 03:15:24,590 : INFO : Generating Validation Metrics\n"
     ]
    },
    {
     "name": "stdout",
     "output_type": "stream",
     "text": [
      "****** Validation Metrics: Cov Err: 6.989 | Top 3: 0.658 | Top 5: 0.752 | F1 Micro: 0.402 | F1 Macro: 0.060\n"
     ]
    },
    {
     "name": "stderr",
     "output_type": "stream",
     "text": [
      "2017-03-21 03:15:27,649 : INFO : ***************************************************************************************\n",
      "2017-03-21 03:15:27,650 : INFO : nn_1st-size_500_1st-act_sigmoid_2nd-size_2000_2nd-act_relu_in-drop_False_hid-drop_True\n"
     ]
    },
    {
     "name": "stdout",
     "output_type": "stream",
     "text": [
      "____________________________________________________________________________________________________\n",
      "Layer (type)                     Output Shape          Param #     Connected to                     \n",
      "====================================================================================================\n",
      "doc_input (InputLayer)           (None, 800)           0                                            \n",
      "____________________________________________________________________________________________________\n",
      "hidden_layer_sigmoid (Dense)     (None, 500)           400500      doc_input[0][0]                  \n",
      "____________________________________________________________________________________________________\n",
      "dropout_16 (Dropout)             (None, 500)           0           hidden_layer_sigmoid[0][0]       \n",
      "____________________________________________________________________________________________________\n",
      "hidden_layer2_relu (Dense)       (None, 2000)          1002000     dropout_16[0][0]                 \n",
      "____________________________________________________________________________________________________\n",
      "softmax_output (Dense)           (None, 244)           488244      hidden_layer2_relu[0][0]         \n",
      "====================================================================================================\n",
      "Total params: 1890744\n",
      "____________________________________________________________________________________________________\n"
     ]
    },
    {
     "name": "stderr",
     "output_type": "stream",
     "text": [
      "2017-03-21 03:15:31,425 : INFO : Found lower val loss for epoch 1 => 0.02445\n",
      "2017-03-21 03:15:33,412 : INFO : Found lower val loss for epoch 2 => 0.02193\n",
      "2017-03-21 03:15:35,679 : INFO : Found lower val loss for epoch 3 => 0.02068\n",
      "2017-03-21 03:15:45,306 : INFO : Found lower val loss for epoch 7 => 0.01838\n",
      "2017-03-21 03:15:54,087 : INFO : Found lower val loss for epoch 9 => 0.01763\n",
      "2017-03-21 03:16:06,902 : INFO : Found lower val loss for epoch 12 => 0.01663\n",
      "2017-03-21 03:16:19,921 : INFO : Found lower val loss for epoch 15 => 0.01649\n",
      "2017-03-21 03:16:23,739 : INFO : Found lower val loss for epoch 16 => 0.01602\n",
      "2017-03-21 03:16:34,549 : INFO : Found lower val loss for epoch 20 => 0.01582\n",
      "2017-03-21 03:16:43,105 : INFO : Found lower val loss for epoch 22 => 0.01535\n",
      "2017-03-21 03:16:51,779 : INFO : Found lower val loss for epoch 24 => 0.0149\n",
      "2017-03-21 03:17:00,492 : INFO : Found lower val loss for epoch 26 => 0.01478\n",
      "2017-03-21 03:17:13,530 : INFO : Found lower val loss for epoch 29 => 0.01446\n",
      "2017-03-21 03:17:21,950 : INFO : Found lower val loss for epoch 31 => 0.01429\n",
      "2017-03-21 03:18:09,878 : INFO : Evaluating on Validation Data using saved best weights\n"
     ]
    },
    {
     "name": "stdout",
     "output_type": "stream",
     "text": [
      "Epoch 00041: early stopping\n",
      "CPU times: user 48.1 s, sys: 1min 6s, total: 1min 54s\n",
      "Wall time: 2min 41s\n"
     ]
    },
    {
     "name": "stderr",
     "output_type": "stream",
     "text": [
      "2017-03-21 03:18:12,562 : INFO : Generating Validation Metrics\n"
     ]
    },
    {
     "name": "stdout",
     "output_type": "stream",
     "text": [
      "****** Validation Metrics: Cov Err: 6.097 | Top 3: 0.692 | Top 5: 0.784 | F1 Micro: 0.470 | F1 Macro: 0.103\n"
     ]
    },
    {
     "name": "stderr",
     "output_type": "stream",
     "text": [
      "2017-03-21 03:18:15,652 : INFO : ***************************************************************************************\n",
      "2017-03-21 03:18:15,653 : INFO : nn_1st-size_200_1st-act_sigmoid_2nd-size_2000_2nd-act_sigmoid_in-drop_False_hid-drop_True\n"
     ]
    },
    {
     "name": "stdout",
     "output_type": "stream",
     "text": [
      "____________________________________________________________________________________________________\n",
      "Layer (type)                     Output Shape          Param #     Connected to                     \n",
      "====================================================================================================\n",
      "doc_input (InputLayer)           (None, 800)           0                                            \n",
      "____________________________________________________________________________________________________\n",
      "hidden_layer_sigmoid (Dense)     (None, 200)           160200      doc_input[0][0]                  \n",
      "____________________________________________________________________________________________________\n",
      "dropout_17 (Dropout)             (None, 200)           0           hidden_layer_sigmoid[0][0]       \n",
      "____________________________________________________________________________________________________\n",
      "hidden_layer2_sigmoid (Dense)    (None, 2000)          402000      dropout_17[0][0]                 \n",
      "____________________________________________________________________________________________________\n",
      "softmax_output (Dense)           (None, 244)           488244      hidden_layer2_sigmoid[0][0]      \n",
      "====================================================================================================\n",
      "Total params: 1050444\n",
      "____________________________________________________________________________________________________\n"
     ]
    },
    {
     "name": "stderr",
     "output_type": "stream",
     "text": [
      "2017-03-21 03:18:21,367 : INFO : Found lower val loss for epoch 1 => 0.02321\n",
      "2017-03-21 03:18:25,199 : INFO : Found lower val loss for epoch 2 => 0.02266\n",
      "2017-03-21 03:18:32,433 : INFO : Found lower val loss for epoch 4 => 0.02105\n",
      "2017-03-21 03:18:36,041 : INFO : Found lower val loss for epoch 5 => 0.02099\n",
      "2017-03-21 03:18:39,575 : INFO : Found lower val loss for epoch 6 => 0.02019\n",
      "2017-03-21 03:18:43,402 : INFO : Found lower val loss for epoch 7 => 0.01992\n",
      "2017-03-21 03:18:51,658 : INFO : Found lower val loss for epoch 10 => 0.01874\n",
      "2017-03-21 03:19:12,455 : INFO : Found lower val loss for epoch 17 => 0.01857\n",
      "2017-03-21 03:19:15,935 : INFO : Found lower val loss for epoch 18 => 0.01844\n",
      "2017-03-21 03:19:23,259 : INFO : Found lower val loss for epoch 20 => 0.01737\n",
      "2017-03-21 03:19:37,636 : INFO : Found lower val loss for epoch 24 => 0.01718\n",
      "2017-03-21 03:19:48,724 : INFO : Found lower val loss for epoch 27 => 0.01674\n",
      "2017-03-21 03:20:01,969 : INFO : Found lower val loss for epoch 31 => 0.0167\n",
      "2017-03-21 03:20:05,449 : INFO : Found lower val loss for epoch 32 => 0.01619\n",
      "2017-03-21 03:20:09,174 : INFO : Found lower val loss for epoch 33 => 0.01618\n",
      "2017-03-21 03:20:12,672 : INFO : Found lower val loss for epoch 34 => 0.01604\n",
      "2017-03-21 03:20:19,763 : INFO : Found lower val loss for epoch 36 => 0.016\n",
      "2017-03-21 03:20:27,246 : INFO : Found lower val loss for epoch 38 => 0.01594\n",
      "2017-03-21 03:20:34,794 : INFO : Found lower val loss for epoch 40 => 0.01594\n",
      "2017-03-21 03:20:38,555 : INFO : Found lower val loss for epoch 41 => 0.01593\n",
      "2017-03-21 03:20:38,558 : INFO : Validation Loss Reduced 20 times\n",
      "2017-03-21 03:20:38,559 : INFO : Evaluating on Validation Data\n",
      "2017-03-21 03:20:41,147 : INFO : Generating Validation Metrics\n"
     ]
    },
    {
     "name": "stdout",
     "output_type": "stream",
     "text": [
      "****** Validation Metrics: Cov Err: 7.989 | Top 3: 0.612 | Top 5: 0.713 | F1 Micro: 0.352 | F1 Macro: 0.039\n"
     ]
    },
    {
     "name": "stderr",
     "output_type": "stream",
     "text": [
      "2017-03-21 03:20:47,627 : INFO : Found lower val loss for epoch 42 => 0.0157\n",
      "2017-03-21 03:20:58,273 : INFO : Found lower val loss for epoch 45 => 0.01545\n",
      "2017-03-21 03:21:05,524 : INFO : Found lower val loss for epoch 47 => 0.01542\n",
      "2017-03-21 03:21:19,807 : INFO : Found lower val loss for epoch 53 => 0.01529\n",
      "2017-03-21 03:21:33,395 : INFO : Found lower val loss for epoch 57 => 0.01527\n",
      "2017-03-21 03:21:37,039 : INFO : Found lower val loss for epoch 58 => 0.01522\n",
      "2017-03-21 03:21:54,771 : INFO : Found lower val loss for epoch 63 => 0.01515\n",
      "2017-03-21 03:22:05,708 : INFO : Found lower val loss for epoch 66 => 0.01508\n",
      "2017-03-21 03:22:13,031 : INFO : Found lower val loss for epoch 68 => 0.01505\n",
      "2017-03-21 03:22:20,220 : INFO : Found lower val loss for epoch 70 => 0.01504\n",
      "2017-03-21 03:22:30,623 : INFO : Found lower val loss for epoch 74 => 0.01499\n",
      "2017-03-21 03:22:43,676 : INFO : Found lower val loss for epoch 78 => 0.01498\n",
      "2017-03-21 03:22:58,223 : INFO : Found lower val loss for epoch 82 => 0.01497\n",
      "2017-03-21 03:23:01,975 : INFO : Found lower val loss for epoch 83 => 0.01474\n",
      "2017-03-21 03:23:36,311 : INFO : Evaluating on Validation Data using saved best weights\n"
     ]
    },
    {
     "name": "stdout",
     "output_type": "stream",
     "text": [
      "Epoch 00093: early stopping\n",
      "CPU times: user 1min 41s, sys: 2min 7s, total: 3min 48s\n",
      "Wall time: 5min 20s\n"
     ]
    },
    {
     "name": "stderr",
     "output_type": "stream",
     "text": [
      "2017-03-21 03:23:38,655 : INFO : Generating Validation Metrics\n"
     ]
    },
    {
     "name": "stdout",
     "output_type": "stream",
     "text": [
      "****** Validation Metrics: Cov Err: 6.756 | Top 3: 0.660 | Top 5: 0.756 | F1 Micro: 0.382 | F1 Macro: 0.055\n"
     ]
    },
    {
     "name": "stderr",
     "output_type": "stream",
     "text": [
      "2017-03-21 03:23:41,916 : INFO : ***************************************************************************************\n",
      "2017-03-21 03:23:41,919 : INFO : nn_1st-size_200_1st-act_tanh_2nd-size_2000_2nd-act_relu_in-drop_False_hid-drop_True\n"
     ]
    },
    {
     "name": "stdout",
     "output_type": "stream",
     "text": [
      "____________________________________________________________________________________________________\n",
      "Layer (type)                     Output Shape          Param #     Connected to                     \n",
      "====================================================================================================\n",
      "doc_input (InputLayer)           (None, 800)           0                                            \n",
      "____________________________________________________________________________________________________\n",
      "hidden_layer_tanh (Dense)        (None, 200)           160200      doc_input[0][0]                  \n",
      "____________________________________________________________________________________________________\n",
      "dropout_18 (Dropout)             (None, 200)           0           hidden_layer_tanh[0][0]          \n",
      "____________________________________________________________________________________________________\n",
      "hidden_layer2_relu (Dense)       (None, 2000)          402000      dropout_18[0][0]                 \n",
      "____________________________________________________________________________________________________\n",
      "softmax_output (Dense)           (None, 244)           488244      hidden_layer2_relu[0][0]         \n",
      "====================================================================================================\n",
      "Total params: 1050444\n",
      "____________________________________________________________________________________________________\n"
     ]
    },
    {
     "name": "stderr",
     "output_type": "stream",
     "text": [
      "2017-03-21 03:23:46,948 : INFO : Found lower val loss for epoch 1 => 0.02451\n",
      "2017-03-21 03:23:49,754 : INFO : Found lower val loss for epoch 2 => 0.01937\n",
      "2017-03-21 03:23:52,717 : INFO : Found lower val loss for epoch 3 => 0.01918\n",
      "2017-03-21 03:23:56,208 : INFO : Found lower val loss for epoch 4 => 0.01728\n",
      "2017-03-21 03:24:03,448 : INFO : Found lower val loss for epoch 6 => 0.01648\n",
      "2017-03-21 03:24:06,240 : INFO : Found lower val loss for epoch 7 => 0.01628\n",
      "2017-03-21 03:24:08,578 : INFO : Found lower val loss for epoch 8 => 0.01548\n",
      "2017-03-21 03:24:11,569 : INFO : Found lower val loss for epoch 9 => 0.01517\n",
      "2017-03-21 03:24:17,036 : INFO : Found lower val loss for epoch 11 => 0.01491\n",
      "2017-03-21 03:24:34,109 : INFO : Found lower val loss for epoch 16 => 0.01488\n",
      "2017-03-21 03:24:36,034 : INFO : Found lower val loss for epoch 17 => 0.01479\n",
      "2017-03-21 03:24:42,590 : INFO : Found lower val loss for epoch 20 => 0.0147\n",
      "2017-03-21 03:24:54,465 : INFO : Found lower val loss for epoch 23 => 0.01463\n",
      "2017-03-21 03:25:30,524 : INFO : Found lower val loss for epoch 32 => 0.01458\n",
      "2017-03-21 03:26:13,557 : INFO : Evaluating on Validation Data using saved best weights\n"
     ]
    },
    {
     "name": "stdout",
     "output_type": "stream",
     "text": [
      "Epoch 00042: early stopping\n",
      "CPU times: user 46 s, sys: 1min 1s, total: 1min 47s\n",
      "Wall time: 2min 31s\n"
     ]
    },
    {
     "name": "stderr",
     "output_type": "stream",
     "text": [
      "2017-03-21 03:26:16,340 : INFO : Generating Validation Metrics\n"
     ]
    },
    {
     "name": "stdout",
     "output_type": "stream",
     "text": [
      "****** Validation Metrics: Cov Err: 6.066 | Top 3: 0.704 | Top 5: 0.790 | F1 Micro: 0.488 | F1 Macro: 0.134\n"
     ]
    },
    {
     "name": "stderr",
     "output_type": "stream",
     "text": [
      "2017-03-21 03:26:19,650 : INFO : ***************************************************************************************\n",
      "2017-03-21 03:26:19,653 : INFO : nn_1st-size_500_1st-act_tanh_2nd-size_None_2nd-act_tanh_in-drop_False_hid-drop_True\n"
     ]
    },
    {
     "name": "stdout",
     "output_type": "stream",
     "text": [
      "____________________________________________________________________________________________________\n",
      "Layer (type)                     Output Shape          Param #     Connected to                     \n",
      "====================================================================================================\n",
      "doc_input (InputLayer)           (None, 800)           0                                            \n",
      "____________________________________________________________________________________________________\n",
      "hidden_layer_tanh (Dense)        (None, 500)           400500      doc_input[0][0]                  \n",
      "____________________________________________________________________________________________________\n",
      "dropout_19 (Dropout)             (None, 500)           0           hidden_layer_tanh[0][0]          \n",
      "____________________________________________________________________________________________________\n",
      "softmax_output (Dense)           (None, 244)           122244      dropout_19[0][0]                 \n",
      "====================================================================================================\n",
      "Total params: 522744\n",
      "____________________________________________________________________________________________________\n"
     ]
    },
    {
     "name": "stderr",
     "output_type": "stream",
     "text": [
      "2017-03-21 03:26:24,557 : INFO : Found lower val loss for epoch 1 => 0.02151\n",
      "2017-03-21 03:26:27,700 : INFO : Found lower val loss for epoch 2 => 0.01818\n",
      "2017-03-21 03:26:30,962 : INFO : Found lower val loss for epoch 3 => 0.01724\n",
      "2017-03-21 03:26:56,468 : INFO : Found lower val loss for epoch 14 => 0.01676\n",
      "2017-03-21 03:27:29,088 : INFO : Evaluating on Validation Data using saved best weights\n"
     ]
    },
    {
     "name": "stdout",
     "output_type": "stream",
     "text": [
      "Epoch 00024: early stopping\n",
      "CPU times: user 24.2 s, sys: 27 s, total: 51.2 s\n",
      "Wall time: 1min 9s\n"
     ]
    },
    {
     "name": "stderr",
     "output_type": "stream",
     "text": [
      "2017-03-21 03:27:31,512 : INFO : Generating Validation Metrics\n"
     ]
    },
    {
     "name": "stdout",
     "output_type": "stream",
     "text": [
      "****** Validation Metrics: Cov Err: 7.087 | Top 3: 0.647 | Top 5: 0.744 | F1 Micro: 0.431 | F1 Macro: 0.125\n"
     ]
    },
    {
     "name": "stderr",
     "output_type": "stream",
     "text": [
      "2017-03-21 03:27:34,576 : INFO : ***************************************************************************************\n",
      "2017-03-21 03:27:34,578 : INFO : nn_1st-size_500_1st-act_tanh_2nd-size_None_2nd-act_relu_in-drop_False_hid-drop_True\n"
     ]
    },
    {
     "name": "stdout",
     "output_type": "stream",
     "text": [
      "____________________________________________________________________________________________________\n",
      "Layer (type)                     Output Shape          Param #     Connected to                     \n",
      "====================================================================================================\n",
      "doc_input (InputLayer)           (None, 800)           0                                            \n",
      "____________________________________________________________________________________________________\n",
      "hidden_layer_tanh (Dense)        (None, 500)           400500      doc_input[0][0]                  \n",
      "____________________________________________________________________________________________________\n",
      "dropout_20 (Dropout)             (None, 500)           0           hidden_layer_tanh[0][0]          \n",
      "____________________________________________________________________________________________________\n",
      "softmax_output (Dense)           (None, 244)           122244      dropout_20[0][0]                 \n",
      "====================================================================================================\n",
      "Total params: 522744\n",
      "____________________________________________________________________________________________________\n"
     ]
    },
    {
     "name": "stderr",
     "output_type": "stream",
     "text": [
      "2017-03-21 03:27:39,260 : INFO : Found lower val loss for epoch 1 => 0.02154\n",
      "2017-03-21 03:27:42,375 : INFO : Found lower val loss for epoch 2 => 0.01882\n",
      "2017-03-21 03:27:45,530 : INFO : Found lower val loss for epoch 3 => 0.01815\n",
      "2017-03-21 03:27:51,293 : INFO : Found lower val loss for epoch 5 => 0.01729\n",
      "2017-03-21 03:28:05,641 : INFO : Found lower val loss for epoch 10 => 0.01715\n",
      "2017-03-21 03:28:12,022 : INFO : Found lower val loss for epoch 12 => 0.01708\n",
      "2017-03-21 03:28:45,068 : INFO : Evaluating on Validation Data using saved best weights\n"
     ]
    },
    {
     "name": "stdout",
     "output_type": "stream",
     "text": [
      "Epoch 00022: early stopping\n",
      "CPU times: user 24.3 s, sys: 26.4 s, total: 50.6 s\n",
      "Wall time: 1min 10s\n"
     ]
    },
    {
     "name": "stderr",
     "output_type": "stream",
     "text": [
      "2017-03-21 03:28:47,684 : INFO : Generating Validation Metrics\n"
     ]
    },
    {
     "name": "stdout",
     "output_type": "stream",
     "text": [
      "****** Validation Metrics: Cov Err: 7.259 | Top 3: 0.651 | Top 5: 0.745 | F1 Micro: 0.429 | F1 Macro: 0.121\n"
     ]
    },
    {
     "name": "stderr",
     "output_type": "stream",
     "text": [
      "2017-03-21 03:28:50,805 : INFO : ***************************************************************************************\n",
      "2017-03-21 03:28:50,808 : INFO : nn_1st-size_200_1st-act_tanh_2nd-size_500_2nd-act_tanh_in-drop_False_hid-drop_True\n"
     ]
    },
    {
     "name": "stdout",
     "output_type": "stream",
     "text": [
      "____________________________________________________________________________________________________\n",
      "Layer (type)                     Output Shape          Param #     Connected to                     \n",
      "====================================================================================================\n",
      "doc_input (InputLayer)           (None, 800)           0                                            \n",
      "____________________________________________________________________________________________________\n",
      "hidden_layer_tanh (Dense)        (None, 200)           160200      doc_input[0][0]                  \n",
      "____________________________________________________________________________________________________\n",
      "dropout_21 (Dropout)             (None, 200)           0           hidden_layer_tanh[0][0]          \n",
      "____________________________________________________________________________________________________\n",
      "hidden_layer2_tanh (Dense)       (None, 500)           100500      dropout_21[0][0]                 \n",
      "____________________________________________________________________________________________________\n",
      "softmax_output (Dense)           (None, 244)           122244      hidden_layer2_tanh[0][0]         \n",
      "====================================================================================================\n",
      "Total params: 382944\n",
      "____________________________________________________________________________________________________\n"
     ]
    },
    {
     "name": "stderr",
     "output_type": "stream",
     "text": [
      "2017-03-21 03:28:56,138 : INFO : Found lower val loss for epoch 1 => 0.02229\n",
      "2017-03-21 03:28:59,193 : INFO : Found lower val loss for epoch 2 => 0.02121\n",
      "2017-03-21 03:29:02,340 : INFO : Found lower val loss for epoch 3 => 0.01771\n",
      "2017-03-21 03:29:05,560 : INFO : Found lower val loss for epoch 4 => 0.01717\n",
      "2017-03-21 03:29:13,888 : INFO : Found lower val loss for epoch 7 => 0.01689\n",
      "2017-03-21 03:29:23,171 : INFO : Found lower val loss for epoch 12 => 0.01687\n",
      "2017-03-21 03:29:32,481 : INFO : Found lower val loss for epoch 15 => 0.01686\n",
      "2017-03-21 03:29:35,507 : INFO : Found lower val loss for epoch 16 => 0.01677\n",
      "2017-03-21 03:29:38,468 : INFO : Found lower val loss for epoch 17 => 0.01632\n",
      "2017-03-21 03:29:41,397 : INFO : Found lower val loss for epoch 18 => 0.01624\n",
      "2017-03-21 03:29:44,140 : INFO : Found lower val loss for epoch 19 => 0.01598\n",
      "2017-03-21 03:29:49,725 : INFO : Found lower val loss for epoch 21 => 0.01583\n",
      "2017-03-21 03:29:52,669 : INFO : Found lower val loss for epoch 22 => 0.01576\n",
      "2017-03-21 03:30:24,090 : INFO : Evaluating on Validation Data using saved best weights\n"
     ]
    },
    {
     "name": "stdout",
     "output_type": "stream",
     "text": [
      "Epoch 00032: early stopping\n",
      "CPU times: user 33 s, sys: 35 s, total: 1min 7s\n",
      "Wall time: 1min 32s\n"
     ]
    },
    {
     "name": "stderr",
     "output_type": "stream",
     "text": [
      "2017-03-21 03:30:26,496 : INFO : Generating Validation Metrics\n"
     ]
    },
    {
     "name": "stdout",
     "output_type": "stream",
     "text": [
      "****** Validation Metrics: Cov Err: 7.607 | Top 3: 0.643 | Top 5: 0.734 | F1 Micro: 0.423 | F1 Macro: 0.105\n"
     ]
    },
    {
     "name": "stderr",
     "output_type": "stream",
     "text": [
      "2017-03-21 03:30:29,812 : INFO : ***************************************************************************************\n",
      "2017-03-21 03:30:29,814 : INFO : nn_1st-size_200_1st-act_relu_2nd-size_500_2nd-act_sigmoid_in-drop_False_hid-drop_True\n"
     ]
    },
    {
     "name": "stdout",
     "output_type": "stream",
     "text": [
      "____________________________________________________________________________________________________\n",
      "Layer (type)                     Output Shape          Param #     Connected to                     \n",
      "====================================================================================================\n",
      "doc_input (InputLayer)           (None, 800)           0                                            \n",
      "____________________________________________________________________________________________________\n",
      "hidden_layer_relu (Dense)        (None, 200)           160200      doc_input[0][0]                  \n",
      "____________________________________________________________________________________________________\n",
      "dropout_22 (Dropout)             (None, 200)           0           hidden_layer_relu[0][0]          \n",
      "____________________________________________________________________________________________________\n",
      "hidden_layer2_sigmoid (Dense)    (None, 500)           100500      dropout_22[0][0]                 \n",
      "____________________________________________________________________________________________________\n",
      "softmax_output (Dense)           (None, 244)           122244      hidden_layer2_sigmoid[0][0]      \n",
      "====================================================================================================\n",
      "Total params: 382944\n",
      "____________________________________________________________________________________________________\n"
     ]
    },
    {
     "name": "stderr",
     "output_type": "stream",
     "text": [
      "2017-03-21 03:30:34,943 : INFO : Found lower val loss for epoch 1 => 0.02257\n",
      "2017-03-21 03:30:37,857 : INFO : Found lower val loss for epoch 2 => 0.0213\n",
      "2017-03-21 03:30:41,146 : INFO : Found lower val loss for epoch 3 => 0.01977\n",
      "2017-03-21 03:30:44,036 : INFO : Found lower val loss for epoch 4 => 0.01866\n",
      "2017-03-21 03:30:50,223 : INFO : Found lower val loss for epoch 6 => 0.01782\n",
      "2017-03-21 03:30:53,358 : INFO : Found lower val loss for epoch 7 => 0.01727\n",
      "2017-03-21 03:30:56,303 : INFO : Found lower val loss for epoch 8 => 0.01702\n",
      "2017-03-21 03:31:03,597 : INFO : Found lower val loss for epoch 11 => 0.01673\n",
      "2017-03-21 03:31:04,936 : INFO : Found lower val loss for epoch 12 => 0.01641\n",
      "2017-03-21 03:31:07,906 : INFO : Found lower val loss for epoch 14 => 0.01611\n",
      "2017-03-21 03:31:12,004 : INFO : Found lower val loss for epoch 16 => 0.01589\n",
      "2017-03-21 03:31:17,283 : INFO : Found lower val loss for epoch 18 => 0.01564\n",
      "2017-03-21 03:31:25,409 : INFO : Found lower val loss for epoch 21 => 0.01539\n",
      "2017-03-21 03:31:39,845 : INFO : Found lower val loss for epoch 26 => 0.01533\n",
      "2017-03-21 03:31:45,203 : INFO : Found lower val loss for epoch 28 => 0.01519\n",
      "2017-03-21 03:31:50,715 : INFO : Found lower val loss for epoch 30 => 0.01517\n",
      "2017-03-21 03:31:53,523 : INFO : Found lower val loss for epoch 31 => 0.01512\n",
      "2017-03-21 03:31:59,049 : INFO : Found lower val loss for epoch 33 => 0.01508\n",
      "2017-03-21 03:32:10,200 : INFO : Found lower val loss for epoch 37 => 0.015\n",
      "2017-03-21 03:32:34,562 : INFO : Evaluating on Validation Data using saved best weights\n"
     ]
    },
    {
     "name": "stdout",
     "output_type": "stream",
     "text": [
      "Epoch 00047: early stopping\n",
      "CPU times: user 45.2 s, sys: 49.2 s, total: 1min 34s\n",
      "Wall time: 2min 4s\n"
     ]
    },
    {
     "name": "stderr",
     "output_type": "stream",
     "text": [
      "2017-03-21 03:32:38,307 : INFO : Generating Validation Metrics\n"
     ]
    },
    {
     "name": "stdout",
     "output_type": "stream",
     "text": [
      "****** Validation Metrics: Cov Err: 7.555 | Top 3: 0.654 | Top 5: 0.746 | F1 Micro: 0.401 | F1 Macro: 0.059\n"
     ]
    },
    {
     "name": "stderr",
     "output_type": "stream",
     "text": [
      "2017-03-21 03:32:41,555 : INFO : ***************************************************************************************\n",
      "2017-03-21 03:32:41,557 : INFO : nn_1st-size_500_1st-act_sigmoid_2nd-size_1000_2nd-act_sigmoid_in-drop_False_hid-drop_True\n"
     ]
    },
    {
     "name": "stdout",
     "output_type": "stream",
     "text": [
      "____________________________________________________________________________________________________\n",
      "Layer (type)                     Output Shape          Param #     Connected to                     \n",
      "====================================================================================================\n",
      "doc_input (InputLayer)           (None, 800)           0                                            \n",
      "____________________________________________________________________________________________________\n",
      "hidden_layer_sigmoid (Dense)     (None, 500)           400500      doc_input[0][0]                  \n",
      "____________________________________________________________________________________________________\n",
      "dropout_23 (Dropout)             (None, 500)           0           hidden_layer_sigmoid[0][0]       \n",
      "____________________________________________________________________________________________________\n",
      "hidden_layer2_sigmoid (Dense)    (None, 1000)          501000      dropout_23[0][0]                 \n",
      "____________________________________________________________________________________________________\n",
      "softmax_output (Dense)           (None, 244)           244244      hidden_layer2_sigmoid[0][0]      \n",
      "====================================================================================================\n",
      "Total params: 1145744\n",
      "____________________________________________________________________________________________________\n"
     ]
    },
    {
     "name": "stderr",
     "output_type": "stream",
     "text": [
      "2017-03-21 03:32:45,829 : INFO : Found lower val loss for epoch 1 => 0.02287\n",
      "2017-03-21 03:32:48,335 : INFO : Found lower val loss for epoch 2 => 0.02248\n",
      "2017-03-21 03:32:51,230 : INFO : Found lower val loss for epoch 3 => 0.02178\n",
      "2017-03-21 03:32:54,150 : INFO : Found lower val loss for epoch 4 => 0.02035\n",
      "2017-03-21 03:33:00,164 : INFO : Found lower val loss for epoch 6 => 0.01933\n",
      "2017-03-21 03:33:05,569 : INFO : Found lower val loss for epoch 8 => 0.01808\n",
      "2017-03-21 03:33:12,330 : INFO : Found lower val loss for epoch 12 => 0.01788\n",
      "2017-03-21 03:33:15,096 : INFO : Found lower val loss for epoch 14 => 0.01768\n",
      "2017-03-21 03:33:16,267 : INFO : Found lower val loss for epoch 15 => 0.01709\n",
      "2017-03-21 03:33:23,554 : INFO : Found lower val loss for epoch 18 => 0.01705\n",
      "2017-03-21 03:33:30,249 : INFO : Found lower val loss for epoch 21 => 0.01676\n",
      "2017-03-21 03:33:32,081 : INFO : Found lower val loss for epoch 22 => 0.01636\n",
      "2017-03-21 03:33:35,602 : INFO : Found lower val loss for epoch 24 => 0.01608\n",
      "2017-03-21 03:33:39,220 : INFO : Found lower val loss for epoch 26 => 0.01603\n",
      "2017-03-21 03:33:44,938 : INFO : Found lower val loss for epoch 29 => 0.01602\n",
      "2017-03-21 03:33:48,638 : INFO : Found lower val loss for epoch 30 => 0.01579\n",
      "2017-03-21 03:33:59,594 : INFO : Found lower val loss for epoch 34 => 0.01569\n",
      "2017-03-21 03:34:02,246 : INFO : Found lower val loss for epoch 35 => 0.01517\n",
      "2017-03-21 03:34:16,818 : INFO : Found lower val loss for epoch 39 => 0.01516\n",
      "2017-03-21 03:34:20,467 : INFO : Found lower val loss for epoch 40 => 0.015\n",
      "2017-03-21 03:34:20,469 : INFO : Validation Loss Reduced 20 times\n",
      "2017-03-21 03:34:20,472 : INFO : Evaluating on Validation Data\n",
      "2017-03-21 03:34:23,030 : INFO : Generating Validation Metrics\n"
     ]
    },
    {
     "name": "stdout",
     "output_type": "stream",
     "text": [
      "****** Validation Metrics: Cov Err: 6.937 | Top 3: 0.662 | Top 5: 0.753 | F1 Micro: 0.434 | F1 Macro: 0.088\n"
     ]
    },
    {
     "name": "stderr",
     "output_type": "stream",
     "text": [
      "2017-03-21 03:34:29,605 : INFO : Found lower val loss for epoch 41 => 0.01498\n",
      "2017-03-21 03:34:33,346 : INFO : Found lower val loss for epoch 42 => 0.01477\n",
      "2017-03-21 03:34:55,096 : INFO : Found lower val loss for epoch 48 => 0.01459\n",
      "2017-03-21 03:34:58,913 : INFO : Found lower val loss for epoch 49 => 0.01458\n",
      "2017-03-21 03:35:10,107 : INFO : Found lower val loss for epoch 52 => 0.01447\n",
      "2017-03-21 03:35:25,102 : INFO : Found lower val loss for epoch 56 => 0.01437\n",
      "2017-03-21 03:35:28,952 : INFO : Found lower val loss for epoch 57 => 0.01424\n",
      "2017-03-21 03:35:40,198 : INFO : Found lower val loss for epoch 60 => 0.01411\n",
      "2017-03-21 03:36:02,254 : INFO : Found lower val loss for epoch 67 => 0.01407\n",
      "2017-03-21 03:36:12,164 : INFO : Found lower val loss for epoch 70 => 0.01404\n",
      "2017-03-21 03:36:23,648 : INFO : Found lower val loss for epoch 73 => 0.01404\n",
      "2017-03-21 03:36:27,123 : INFO : Found lower val loss for epoch 74 => 0.01402\n",
      "2017-03-21 03:36:34,495 : INFO : Found lower val loss for epoch 76 => 0.01397\n",
      "2017-03-21 03:37:04,374 : INFO : Found lower val loss for epoch 84 => 0.0139\n",
      "2017-03-21 03:37:29,919 : INFO : Found lower val loss for epoch 91 => 0.01384\n",
      "2017-03-21 03:38:05,855 : INFO : Evaluating on Validation Data using saved best weights\n"
     ]
    },
    {
     "name": "stdout",
     "output_type": "stream",
     "text": [
      "Epoch 00101: early stopping\n",
      "CPU times: user 1min 44s, sys: 2min 16s, total: 4min 1s\n",
      "Wall time: 5min 24s\n"
     ]
    },
    {
     "name": "stderr",
     "output_type": "stream",
     "text": [
      "2017-03-21 03:38:08,561 : INFO : Generating Validation Metrics\n"
     ]
    },
    {
     "name": "stdout",
     "output_type": "stream",
     "text": [
      "****** Validation Metrics: Cov Err: 6.081 | Top 3: 0.693 | Top 5: 0.785 | F1 Micro: 0.459 | F1 Macro: 0.101\n"
     ]
    },
    {
     "name": "stderr",
     "output_type": "stream",
     "text": [
      "2017-03-21 03:38:11,682 : INFO : ***************************************************************************************\n",
      "2017-03-21 03:38:11,685 : INFO : nn_1st-size_100_1st-act_relu_2nd-size_500_2nd-act_relu_in-drop_False_hid-drop_True\n"
     ]
    },
    {
     "name": "stdout",
     "output_type": "stream",
     "text": [
      "____________________________________________________________________________________________________\n",
      "Layer (type)                     Output Shape          Param #     Connected to                     \n",
      "====================================================================================================\n",
      "doc_input (InputLayer)           (None, 800)           0                                            \n",
      "____________________________________________________________________________________________________\n",
      "hidden_layer_relu (Dense)        (None, 100)           80100       doc_input[0][0]                  \n",
      "____________________________________________________________________________________________________\n",
      "dropout_24 (Dropout)             (None, 100)           0           hidden_layer_relu[0][0]          \n",
      "____________________________________________________________________________________________________\n",
      "hidden_layer2_relu (Dense)       (None, 500)           50500       dropout_24[0][0]                 \n",
      "____________________________________________________________________________________________________\n",
      "softmax_output (Dense)           (None, 244)           122244      hidden_layer2_relu[0][0]         \n",
      "====================================================================================================\n",
      "Total params: 252844\n",
      "____________________________________________________________________________________________________\n"
     ]
    },
    {
     "name": "stderr",
     "output_type": "stream",
     "text": [
      "2017-03-21 03:38:16,873 : INFO : Found lower val loss for epoch 1 => 0.02335\n",
      "2017-03-21 03:38:19,854 : INFO : Found lower val loss for epoch 2 => 0.02163\n",
      "2017-03-21 03:38:22,828 : INFO : Found lower val loss for epoch 3 => 0.02044\n",
      "2017-03-21 03:38:25,753 : INFO : Found lower val loss for epoch 4 => 0.01924\n",
      "2017-03-21 03:38:32,044 : INFO : Found lower val loss for epoch 6 => 0.01775\n",
      "2017-03-21 03:38:37,735 : INFO : Found lower val loss for epoch 8 => 0.01735\n",
      "2017-03-21 03:38:39,268 : INFO : Found lower val loss for epoch 9 => 0.01729\n",
      "2017-03-21 03:38:40,704 : INFO : Found lower val loss for epoch 10 => 0.01683\n",
      "2017-03-21 03:38:43,573 : INFO : Found lower val loss for epoch 12 => 0.01654\n",
      "2017-03-21 03:38:45,840 : INFO : Found lower val loss for epoch 13 => 0.016\n",
      "2017-03-21 03:38:51,844 : INFO : Found lower val loss for epoch 15 => 0.01598\n",
      "2017-03-21 03:38:54,754 : INFO : Found lower val loss for epoch 16 => 0.01575\n",
      "2017-03-21 03:39:00,356 : INFO : Found lower val loss for epoch 18 => 0.01565\n",
      "2017-03-21 03:39:08,714 : INFO : Found lower val loss for epoch 21 => 0.01549\n",
      "2017-03-21 03:39:39,410 : INFO : Found lower val loss for epoch 32 => 0.01532\n",
      "2017-03-21 03:40:10,680 : INFO : Found lower val loss for epoch 43 => 0.01526\n",
      "2017-03-21 03:40:38,073 : INFO : Evaluating on Validation Data using saved best weights\n"
     ]
    },
    {
     "name": "stdout",
     "output_type": "stream",
     "text": [
      "Epoch 00053: early stopping\n",
      "CPU times: user 52.8 s, sys: 57.3 s, total: 1min 50s\n",
      "Wall time: 2min 25s\n"
     ]
    },
    {
     "name": "stderr",
     "output_type": "stream",
     "text": [
      "2017-03-21 03:40:41,753 : INFO : Generating Validation Metrics\n"
     ]
    },
    {
     "name": "stdout",
     "output_type": "stream",
     "text": [
      "****** Validation Metrics: Cov Err: 7.660 | Top 3: 0.642 | Top 5: 0.737 | F1 Micro: 0.386 | F1 Macro: 0.063\n"
     ]
    },
    {
     "name": "stderr",
     "output_type": "stream",
     "text": [
      "2017-03-21 03:40:44,845 : INFO : ***************************************************************************************\n",
      "2017-03-21 03:40:44,847 : INFO : nn_1st-size_100_1st-act_tanh_2nd-size_500_2nd-act_sigmoid_in-drop_False_hid-drop_True\n"
     ]
    },
    {
     "name": "stdout",
     "output_type": "stream",
     "text": [
      "____________________________________________________________________________________________________\n",
      "Layer (type)                     Output Shape          Param #     Connected to                     \n",
      "====================================================================================================\n",
      "doc_input (InputLayer)           (None, 800)           0                                            \n",
      "____________________________________________________________________________________________________\n",
      "hidden_layer_tanh (Dense)        (None, 100)           80100       doc_input[0][0]                  \n",
      "____________________________________________________________________________________________________\n",
      "dropout_25 (Dropout)             (None, 100)           0           hidden_layer_tanh[0][0]          \n",
      "____________________________________________________________________________________________________\n",
      "hidden_layer2_sigmoid (Dense)    (None, 500)           50500       dropout_25[0][0]                 \n",
      "____________________________________________________________________________________________________\n",
      "softmax_output (Dense)           (None, 244)           122244      hidden_layer2_sigmoid[0][0]      \n",
      "====================================================================================================\n",
      "Total params: 252844\n",
      "____________________________________________________________________________________________________\n"
     ]
    },
    {
     "name": "stderr",
     "output_type": "stream",
     "text": [
      "2017-03-21 03:40:49,779 : INFO : Found lower val loss for epoch 1 => 0.02265\n",
      "2017-03-21 03:40:52,519 : INFO : Found lower val loss for epoch 2 => 0.02239\n",
      "2017-03-21 03:40:55,239 : INFO : Found lower val loss for epoch 3 => 0.02138\n",
      "2017-03-21 03:40:57,959 : INFO : Found lower val loss for epoch 4 => 0.0211\n",
      "2017-03-21 03:40:59,592 : INFO : Found lower val loss for epoch 5 => 0.01918\n",
      "2017-03-21 03:41:01,150 : INFO : Found lower val loss for epoch 6 => 0.01852\n",
      "2017-03-21 03:41:02,636 : INFO : Found lower val loss for epoch 7 => 0.01847\n",
      "2017-03-21 03:41:04,021 : INFO : Found lower val loss for epoch 8 => 0.01733\n",
      "2017-03-21 03:41:10,195 : INFO : Found lower val loss for epoch 11 => 0.01732\n",
      "2017-03-21 03:41:15,789 : INFO : Found lower val loss for epoch 13 => 0.01707\n",
      "2017-03-21 03:41:21,142 : INFO : Found lower val loss for epoch 15 => 0.01705\n",
      "2017-03-21 03:41:24,036 : INFO : Found lower val loss for epoch 16 => 0.01701\n",
      "2017-03-21 03:41:26,839 : INFO : Found lower val loss for epoch 17 => 0.01675\n",
      "2017-03-21 03:41:32,528 : INFO : Found lower val loss for epoch 19 => 0.01658\n",
      "2017-03-21 03:41:51,808 : INFO : Found lower val loss for epoch 26 => 0.01616\n",
      "2017-03-21 03:42:22,246 : INFO : Evaluating on Validation Data using saved best weights\n"
     ]
    },
    {
     "name": "stdout",
     "output_type": "stream",
     "text": [
      "Epoch 00036: early stopping\n",
      "CPU times: user 35.6 s, sys: 38.2 s, total: 1min 13s\n",
      "Wall time: 1min 37s\n"
     ]
    },
    {
     "name": "stderr",
     "output_type": "stream",
     "text": [
      "2017-03-21 03:42:24,689 : INFO : Generating Validation Metrics\n"
     ]
    },
    {
     "name": "stdout",
     "output_type": "stream",
     "text": [
      "****** Validation Metrics: Cov Err: 8.456 | Top 3: 0.617 | Top 5: 0.710 | F1 Micro: 0.380 | F1 Macro: 0.059\n"
     ]
    },
    {
     "name": "stderr",
     "output_type": "stream",
     "text": [
      "2017-03-21 03:42:27,983 : INFO : ***************************************************************************************\n",
      "2017-03-21 03:42:27,986 : INFO : nn_1st-size_200_1st-act_tanh_2nd-size_2000_2nd-act_tanh_in-drop_False_hid-drop_True\n"
     ]
    },
    {
     "name": "stdout",
     "output_type": "stream",
     "text": [
      "____________________________________________________________________________________________________\n",
      "Layer (type)                     Output Shape          Param #     Connected to                     \n",
      "====================================================================================================\n",
      "doc_input (InputLayer)           (None, 800)           0                                            \n",
      "____________________________________________________________________________________________________\n",
      "hidden_layer_tanh (Dense)        (None, 200)           160200      doc_input[0][0]                  \n",
      "____________________________________________________________________________________________________\n",
      "dropout_26 (Dropout)             (None, 200)           0           hidden_layer_tanh[0][0]          \n",
      "____________________________________________________________________________________________________\n",
      "hidden_layer2_tanh (Dense)       (None, 2000)          402000      dropout_26[0][0]                 \n",
      "____________________________________________________________________________________________________\n",
      "softmax_output (Dense)           (None, 244)           488244      hidden_layer2_tanh[0][0]         \n",
      "====================================================================================================\n",
      "Total params: 1050444\n",
      "____________________________________________________________________________________________________\n"
     ]
    },
    {
     "name": "stderr",
     "output_type": "stream",
     "text": [
      "2017-03-21 03:42:32,373 : INFO : Found lower val loss for epoch 1 => 0.02223\n",
      "2017-03-21 03:42:35,925 : INFO : Found lower val loss for epoch 2 => 0.01897\n",
      "2017-03-21 03:42:39,609 : INFO : Found lower val loss for epoch 3 => 0.01676\n",
      "2017-03-21 03:42:50,407 : INFO : Found lower val loss for epoch 6 => 0.01635\n",
      "2017-03-21 03:43:25,233 : INFO : Evaluating on Validation Data using saved best weights\n"
     ]
    },
    {
     "name": "stdout",
     "output_type": "stream",
     "text": [
      "Epoch 00016: early stopping\n",
      "CPU times: user 18.5 s, sys: 22.7 s, total: 41.2 s\n",
      "Wall time: 56.9 s\n"
     ]
    },
    {
     "name": "stderr",
     "output_type": "stream",
     "text": [
      "2017-03-21 03:43:27,923 : INFO : Generating Validation Metrics\n"
     ]
    },
    {
     "name": "stdout",
     "output_type": "stream",
     "text": [
      "****** Validation Metrics: Cov Err: 7.446 | Top 3: 0.632 | Top 5: 0.730 | F1 Micro: 0.406 | F1 Macro: 0.085\n"
     ]
    },
    {
     "name": "stderr",
     "output_type": "stream",
     "text": [
      "2017-03-21 03:43:31,025 : INFO : ***************************************************************************************\n",
      "2017-03-21 03:43:31,027 : INFO : nn_1st-size_200_1st-act_tanh_2nd-size_1000_2nd-act_sigmoid_in-drop_False_hid-drop_True\n"
     ]
    },
    {
     "name": "stdout",
     "output_type": "stream",
     "text": [
      "____________________________________________________________________________________________________\n",
      "Layer (type)                     Output Shape          Param #     Connected to                     \n",
      "====================================================================================================\n",
      "doc_input (InputLayer)           (None, 800)           0                                            \n",
      "____________________________________________________________________________________________________\n",
      "hidden_layer_tanh (Dense)        (None, 200)           160200      doc_input[0][0]                  \n",
      "____________________________________________________________________________________________________\n",
      "dropout_27 (Dropout)             (None, 200)           0           hidden_layer_tanh[0][0]          \n",
      "____________________________________________________________________________________________________\n",
      "hidden_layer2_sigmoid (Dense)    (None, 1000)          201000      dropout_27[0][0]                 \n",
      "____________________________________________________________________________________________________\n",
      "softmax_output (Dense)           (None, 244)           244244      hidden_layer2_sigmoid[0][0]      \n",
      "====================================================================================================\n",
      "Total params: 605444\n",
      "____________________________________________________________________________________________________\n"
     ]
    },
    {
     "name": "stderr",
     "output_type": "stream",
     "text": [
      "2017-03-21 03:43:36,215 : INFO : Found lower val loss for epoch 1 => 0.02275\n",
      "2017-03-21 03:43:39,276 : INFO : Found lower val loss for epoch 2 => 0.02177\n",
      "2017-03-21 03:43:42,370 : INFO : Found lower val loss for epoch 3 => 0.01896\n",
      "2017-03-21 03:43:45,476 : INFO : Found lower val loss for epoch 4 => 0.01887\n",
      "2017-03-21 03:43:51,813 : INFO : Found lower val loss for epoch 6 => 0.01844\n",
      "2017-03-21 03:44:01,114 : INFO : Found lower val loss for epoch 9 => 0.0182\n",
      "2017-03-21 03:44:04,196 : INFO : Found lower val loss for epoch 10 => 0.01769\n",
      "2017-03-21 03:44:07,189 : INFO : Found lower val loss for epoch 11 => 0.01757\n",
      "2017-03-21 03:44:13,117 : INFO : Found lower val loss for epoch 13 => 0.01696\n",
      "2017-03-21 03:44:35,768 : INFO : Found lower val loss for epoch 22 => 0.0165\n",
      "2017-03-21 03:44:39,047 : INFO : Found lower val loss for epoch 23 => 0.01618\n",
      "2017-03-21 03:45:00,656 : INFO : Found lower val loss for epoch 30 => 0.01607\n",
      "2017-03-21 03:45:09,668 : INFO : Found lower val loss for epoch 33 => 0.01592\n",
      "2017-03-21 03:45:37,732 : INFO : Found lower val loss for epoch 42 => 0.01565\n",
      "2017-03-21 03:45:40,903 : INFO : Found lower val loss for epoch 43 => 0.01563\n",
      "2017-03-21 03:45:59,305 : INFO : Found lower val loss for epoch 49 => 0.01507\n",
      "2017-03-21 03:46:33,847 : INFO : Evaluating on Validation Data using saved best weights\n"
     ]
    },
    {
     "name": "stdout",
     "output_type": "stream",
     "text": [
      "Epoch 00059: early stopping\n",
      "CPU times: user 1min 1s, sys: 1min 14s, total: 2min 15s\n",
      "Wall time: 3min 2s\n"
     ]
    },
    {
     "name": "stderr",
     "output_type": "stream",
     "text": [
      "2017-03-21 03:46:36,316 : INFO : Generating Validation Metrics\n"
     ]
    },
    {
     "name": "stdout",
     "output_type": "stream",
     "text": [
      "****** Validation Metrics: Cov Err: 7.033 | Top 3: 0.652 | Top 5: 0.748 | F1 Micro: 0.423 | F1 Macro: 0.101\n"
     ]
    },
    {
     "name": "stderr",
     "output_type": "stream",
     "text": [
      "2017-03-21 03:46:39,520 : INFO : ***************************************************************************************\n",
      "2017-03-21 03:46:39,523 : INFO : nn_1st-size_100_1st-act_relu_2nd-size_500_2nd-act_tanh_in-drop_False_hid-drop_True\n"
     ]
    },
    {
     "name": "stdout",
     "output_type": "stream",
     "text": [
      "____________________________________________________________________________________________________\n",
      "Layer (type)                     Output Shape          Param #     Connected to                     \n",
      "====================================================================================================\n",
      "doc_input (InputLayer)           (None, 800)           0                                            \n",
      "____________________________________________________________________________________________________\n",
      "hidden_layer_relu (Dense)        (None, 100)           80100       doc_input[0][0]                  \n",
      "____________________________________________________________________________________________________\n",
      "dropout_28 (Dropout)             (None, 100)           0           hidden_layer_relu[0][0]          \n",
      "____________________________________________________________________________________________________\n",
      "hidden_layer2_tanh (Dense)       (None, 500)           50500       dropout_28[0][0]                 \n",
      "____________________________________________________________________________________________________\n",
      "softmax_output (Dense)           (None, 244)           122244      hidden_layer2_tanh[0][0]         \n",
      "====================================================================================================\n",
      "Total params: 252844\n",
      "____________________________________________________________________________________________________\n"
     ]
    },
    {
     "name": "stderr",
     "output_type": "stream",
     "text": [
      "2017-03-21 03:46:43,852 : INFO : Found lower val loss for epoch 1 => 0.02236\n",
      "2017-03-21 03:46:46,404 : INFO : Found lower val loss for epoch 2 => 0.02057\n",
      "2017-03-21 03:46:48,936 : INFO : Found lower val loss for epoch 3 => 0.01897\n",
      "2017-03-21 03:46:51,406 : INFO : Found lower val loss for epoch 4 => 0.01822\n",
      "2017-03-21 03:46:53,896 : INFO : Found lower val loss for epoch 5 => 0.01735\n",
      "2017-03-21 03:46:55,436 : INFO : Found lower val loss for epoch 6 => 0.01727\n",
      "2017-03-21 03:46:56,939 : INFO : Found lower val loss for epoch 7 => 0.01663\n",
      "2017-03-21 03:46:58,415 : INFO : Found lower val loss for epoch 8 => 0.01634\n",
      "2017-03-21 03:47:06,361 : INFO : Found lower val loss for epoch 12 => 0.01592\n",
      "2017-03-21 03:47:08,862 : INFO : Found lower val loss for epoch 13 => 0.01567\n",
      "2017-03-21 03:47:37,348 : INFO : Evaluating on Validation Data using saved best weights\n"
     ]
    },
    {
     "name": "stdout",
     "output_type": "stream",
     "text": [
      "Epoch 00023: early stopping\n",
      "CPU times: user 22.6 s, sys: 22.5 s, total: 45.1 s\n",
      "Wall time: 57.5 s\n"
     ]
    },
    {
     "name": "stderr",
     "output_type": "stream",
     "text": [
      "2017-03-21 03:47:39,860 : INFO : Generating Validation Metrics\n"
     ]
    },
    {
     "name": "stdout",
     "output_type": "stream",
     "text": [
      "****** Validation Metrics: Cov Err: 7.598 | Top 3: 0.634 | Top 5: 0.731 | F1 Micro: 0.352 | F1 Macro: 0.034\n"
     ]
    },
    {
     "name": "stderr",
     "output_type": "stream",
     "text": [
      "2017-03-21 03:47:43,029 : INFO : ***************************************************************************************\n",
      "2017-03-21 03:47:43,032 : INFO : nn_1st-size_200_1st-act_relu_2nd-size_None_2nd-act_tanh_in-drop_False_hid-drop_True\n"
     ]
    },
    {
     "name": "stdout",
     "output_type": "stream",
     "text": [
      "____________________________________________________________________________________________________\n",
      "Layer (type)                     Output Shape          Param #     Connected to                     \n",
      "====================================================================================================\n",
      "doc_input (InputLayer)           (None, 800)           0                                            \n",
      "____________________________________________________________________________________________________\n",
      "hidden_layer_relu (Dense)        (None, 200)           160200      doc_input[0][0]                  \n",
      "____________________________________________________________________________________________________\n",
      "dropout_29 (Dropout)             (None, 200)           0           hidden_layer_relu[0][0]          \n",
      "____________________________________________________________________________________________________\n",
      "softmax_output (Dense)           (None, 244)           49044       dropout_29[0][0]                 \n",
      "====================================================================================================\n",
      "Total params: 209244\n",
      "____________________________________________________________________________________________________\n"
     ]
    },
    {
     "name": "stderr",
     "output_type": "stream",
     "text": [
      "2017-03-21 03:47:47,030 : INFO : Found lower val loss for epoch 1 => 0.02387\n",
      "2017-03-21 03:47:49,197 : INFO : Found lower val loss for epoch 2 => 0.02031\n",
      "2017-03-21 03:47:51,350 : INFO : Found lower val loss for epoch 3 => 0.01839\n",
      "2017-03-21 03:47:53,683 : INFO : Found lower val loss for epoch 4 => 0.01736\n",
      "2017-03-21 03:47:55,967 : INFO : Found lower val loss for epoch 5 => 0.01682\n",
      "2017-03-21 03:48:06,218 : INFO : Found lower val loss for epoch 10 => 0.01642\n",
      "2017-03-21 03:48:28,293 : INFO : Evaluating on Validation Data using saved best weights\n"
     ]
    },
    {
     "name": "stdout",
     "output_type": "stream",
     "text": [
      "Epoch 00020: early stopping\n",
      "CPU times: user 18.2 s, sys: 17.3 s, total: 35.5 s\n",
      "Wall time: 45 s\n"
     ]
    },
    {
     "name": "stderr",
     "output_type": "stream",
     "text": [
      "2017-03-21 03:48:30,493 : INFO : Generating Validation Metrics\n"
     ]
    },
    {
     "name": "stdout",
     "output_type": "stream",
     "text": [
      "****** Validation Metrics: Cov Err: 7.927 | Top 3: 0.627 | Top 5: 0.726 | F1 Micro: 0.313 | F1 Macro: 0.031\n"
     ]
    },
    {
     "name": "stderr",
     "output_type": "stream",
     "text": [
      "2017-03-21 03:48:33,657 : INFO : ***************************************************************************************\n",
      "2017-03-21 03:48:33,659 : INFO : nn_1st-size_500_1st-act_relu_2nd-size_None_2nd-act_tanh_in-drop_False_hid-drop_True\n"
     ]
    },
    {
     "name": "stdout",
     "output_type": "stream",
     "text": [
      "____________________________________________________________________________________________________\n",
      "Layer (type)                     Output Shape          Param #     Connected to                     \n",
      "====================================================================================================\n",
      "doc_input (InputLayer)           (None, 800)           0                                            \n",
      "____________________________________________________________________________________________________\n",
      "hidden_layer_relu (Dense)        (None, 500)           400500      doc_input[0][0]                  \n",
      "____________________________________________________________________________________________________\n",
      "dropout_30 (Dropout)             (None, 500)           0           hidden_layer_relu[0][0]          \n",
      "____________________________________________________________________________________________________\n",
      "softmax_output (Dense)           (None, 244)           122244      dropout_30[0][0]                 \n",
      "====================================================================================================\n",
      "Total params: 522744\n",
      "____________________________________________________________________________________________________\n"
     ]
    },
    {
     "name": "stderr",
     "output_type": "stream",
     "text": [
      "2017-03-21 03:48:37,644 : INFO : Found lower val loss for epoch 1 => 0.02185\n",
      "2017-03-21 03:48:40,425 : INFO : Found lower val loss for epoch 2 => 0.01901\n",
      "2017-03-21 03:48:43,105 : INFO : Found lower val loss for epoch 3 => 0.01672\n",
      "2017-03-21 03:48:48,142 : INFO : Found lower val loss for epoch 5 => 0.01638\n",
      "2017-03-21 03:48:50,652 : INFO : Found lower val loss for epoch 6 => 0.01593\n",
      "2017-03-21 03:49:07,800 : INFO : Evaluating on Validation Data using saved best weights\n"
     ]
    },
    {
     "name": "stdout",
     "output_type": "stream",
     "text": [
      "Epoch 00016: early stopping\n",
      "CPU times: user 13.6 s, sys: 13.8 s, total: 27.4 s\n",
      "Wall time: 33.9 s\n"
     ]
    },
    {
     "name": "stderr",
     "output_type": "stream",
     "text": [
      "2017-03-21 03:49:10,285 : INFO : Generating Validation Metrics\n"
     ]
    },
    {
     "name": "stdout",
     "output_type": "stream",
     "text": [
      "****** Validation Metrics: Cov Err: 7.663 | Top 3: 0.635 | Top 5: 0.734 | F1 Micro: 0.354 | F1 Macro: 0.048\n"
     ]
    }
   ],
   "source": [
    "param_sampler = ParameterSampler({\n",
    "    'first_hidden_layer_size':first_hidden_layer_sizes,\n",
    "    'first_hidden_layer_activation':first_hidden_layer_activations,\n",
    "    'second_hidden_layer_size':second_hidden_layer_sizes,\n",
    "    'second_hidden_layer_activation':second_hidden_layer_activations,\n",
    "    'input_dropout':input_dropout_options,\n",
    "    'hidden_dropout':hidden_dropout_options,\n",
    "    'second_hidden_dropout':second_hidden_dropout_options\n",
    "}, n_iter=NN_RANDOM_SEARCH_BUDGET, random_state=NN_PARAM_SAMPLE_SEED)\n",
    "\n",
    "param_results_dict = {}\n",
    "if load_existing_results:\n",
    "    param_results_path = os.path.join(os.path.join(nn_parameter_search_location, GLOBAL_VARS.MODEL_NAME, \n",
    "                                       NN_PARAMETER_SEARCH_PREFIX.format(classifications_type, PARTS_LEVEL, NN_BATCH_SIZE)))\n",
    "    if os.path.exists(param_results_path):\n",
    "        info('Loading Previous results in {}'.format(param_results_path))\n",
    "        param_results_dict = pickle.load(open(param_results_path))\n",
    "    else:\n",
    "        info('No Previous results exist in {}'.format(param_results_path))\n",
    "\n",
    "# create nn parameter search directory\n",
    "if not os.path.exists(os.path.join(nn_parameter_search_location, GLOBAL_VARS.MODEL_NAME)):\n",
    "    os.makedirs(os.path.join(nn_parameter_search_location, GLOBAL_VARS.MODEL_NAME))\n",
    "        \n",
    "for parameters in param_sampler:\n",
    "    start_time = time.time()\n",
    "    first_hidden_layer_size = parameters['first_hidden_layer_size']\n",
    "    first_hidden_layer_activation = parameters['first_hidden_layer_activation']\n",
    "    second_hidden_layer_size = parameters['second_hidden_layer_size']\n",
    "    second_hidden_layer_activation = parameters['second_hidden_layer_activation']\n",
    "    input_dropout_do = parameters['input_dropout']\n",
    "    hidden_dropout_do = parameters['hidden_dropout']\n",
    "    second_hidden_dropout_do = parameters['second_hidden_dropout']\n",
    "\n",
    "    GLOBAL_VARS.NN_MODEL_NAME = 'nn_1st-size_{}_1st-act_{}_2nd-size_{}_2nd-act_{}_in-drop_{}_hid-drop_{}'.format(\n",
    "        first_hidden_layer_size, first_hidden_layer_activation, second_hidden_layer_size, \n",
    "        second_hidden_layer_activation, input_dropout_do, hidden_dropout_do\n",
    "    )\n",
    "    if second_hidden_dropout_do:\n",
    "        GLOBAL_VARS.NN_MODEL_NAME = GLOBAL_VARS.NN_MODEL_NAME + '_2nd-hid-drop_{}'.format(str(second_hidden_dropout_do))\n",
    "\n",
    "    if GLOBAL_VARS.NN_MODEL_NAME in param_results_dict.keys() or GLOBAL_VARS.NN_MODEL_NAME in to_skip:\n",
    "        print \"skipping: {}\".format(GLOBAL_VARS.NN_MODEL_NAME)\n",
    "        continue\n",
    "#         if first_hidden_layer_size < DOC2VEC_SIZE or second_hidden_layer_size < NN_OUTPUT_NEURONS:\n",
    "#             print \"skipping: {} due to 1st layer size {} < {} or 2nd layer size {} < {}\".format(GLOBAL_VARS.NN_MODEL_NAME,\n",
    "#                                                                                                 first_hidden_layer_size, DOC2VEC_SIZE, \n",
    "#                                                                                                 second_hidden_layer_size, NN_OUTPUT_NEURONS)\n",
    "#             continue\n",
    "\n",
    "\n",
    "    info('***************************************************************************************')\n",
    "    info(GLOBAL_VARS.NN_MODEL_NAME)\n",
    "\n",
    "    model = create_keras_nn_model(NN_INPUT_NEURONS, NN_OUTPUT_NEURONS, \n",
    "                                  first_hidden_layer_size, first_hidden_layer_activation, \n",
    "                                  second_hidden_layer_size, second_hidden_layer_activation, \n",
    "                                  input_dropout_do, hidden_dropout_do, second_hidden_dropout_do)\n",
    "    model.summary()\n",
    "\n",
    "    early_stopper = keras.callbacks.EarlyStopping(monitor='val_loss', min_delta=EARLY_STOPPER_MIN_DELTA, \\\n",
    "                                                  patience=EARLY_STOPPER_PATIENCE, verbose=1, mode='auto')\n",
    "    metrics_callback = MetricsCallback()\n",
    "\n",
    "    # Model Fitting\n",
    "    %time history = model.fit(x=X, y=y, validation_data=(Xv,yv), batch_size=NN_BATCH_SIZE, \\\n",
    "                              nb_epoch=NN_MAX_EPOCHS, verbose=MODEL_VERBOSITY, callbacks=[early_stopper, metrics_callback])\n",
    "\n",
    "\n",
    "    # using the recorded weights of the best recorded validation loss\n",
    "    last_model_weights = model.get_weights()\n",
    "    info('Evaluating on Validation Data using saved best weights')\n",
    "    model.set_weights(metrics_callback.best_weights)\n",
    "    yvp = model.predict(Xv)\n",
    "    yvp_binary = get_binary_0_5(yvp)\n",
    "    #print yvp\n",
    "    info('Generating Validation Metrics')\n",
    "    validation_metrics = get_metrics(yv, yvp, yvp_binary)\n",
    "    print \"****** Validation Metrics: Cov Err: {:.3f} | Top 3: {:.3f} | Top 5: {:.3f} | F1 Micro: {:.3f} | F1 Macro: {:.3f}\".format(\n",
    "        validation_metrics['coverage_error'], validation_metrics['top_3'], validation_metrics['top_5'], \n",
    "        validation_metrics['f1_micro'], validation_metrics['f1_macro'])\n",
    "    best_validation_metrics = validation_metrics\n",
    "    time.sleep(0.2)\n",
    "\n",
    "    param_results_dict[GLOBAL_VARS.NN_MODEL_NAME] = dict()\n",
    "    param_results_dict[GLOBAL_VARS.NN_MODEL_NAME]['best_validation_metrics'] = best_validation_metrics\n",
    "    param_results_dict[GLOBAL_VARS.NN_MODEL_NAME]['epochs'] = len(history.history['val_loss'])\n",
    "    param_results_dict[GLOBAL_VARS.NN_MODEL_NAME]['best_weights'] = metrics_callback.best_weights\n",
    "#         param_results_dict[GLOBAL_VARS.NN_MODEL_NAME]['last_weights'] = last_model_weights\n",
    "\n",
    "    duration = time.time() - start_time\n",
    "    param_results_dict[GLOBAL_VARS.NN_MODEL_NAME]['duration'] =  duration\n",
    "\n",
    "    del history, last_model_weights, metrics_callback\n",
    "\n",
    "if save_results:\n",
    "    pickle.dump(param_results_dict, open(os.path.join(os.path.join(nn_parameter_search_location, GLOBAL_VARS.MODEL_NAME, \n",
    "                                                                   NN_PARAMETER_SEARCH_PREFIX.format(classifications_type, PARTS_LEVEL, NN_BATCH_SIZE))), 'w'))\n"
   ]
  },
  {
   "cell_type": "code",
   "execution_count": 51,
   "metadata": {
    "collapsed": false
   },
   "outputs": [
    {
     "name": "stdout",
     "output_type": "stream",
     "text": [
      "NameError: name 'model' is not defined\n"
     ]
    }
   ],
   "source": [
    "%xdel model\n",
    "import gc\n",
    "for i in range(3): gc.collect()"
   ]
  },
  {
   "cell_type": "code",
   "execution_count": 50,
   "metadata": {
    "collapsed": false
   },
   "outputs": [
    {
     "data": {
      "text/plain": [
       "['lstm_optimizer_rmsprop_size_200_w-drop_0.4_u-drop_0.2',\n",
       " 'lstm_optimizer_adam_size_300_w-drop_0.2_u-drop_0.3',\n",
       " 'lstm_optimizer_adam_size_200_w-drop_0.3_u-drop_0.2',\n",
       " 'lstm_optimizer_adam_size_200_w-drop_0.2_u-drop_0.3',\n",
       " 'lstm_optimizer_adam_size_200_w-drop_0.2_u-drop_0.2',\n",
       " 'lstm_optimizer_rmsprop_size_200_w-drop_0.2_u-drop_0.4']"
      ]
     },
     "execution_count": 50,
     "metadata": {},
     "output_type": "execute_result"
    }
   ],
   "source": [
    "param_results_dict.keys()"
   ]
  },
  {
   "cell_type": "code",
   "execution_count": 51,
   "metadata": {
    "collapsed": false
   },
   "outputs": [],
   "source": [
    "pickle.dump(param_results_dict, open(os.path.join(os.path.join(nn_parameter_search_location, GLOBAL_VARS.MODEL_NAME, \n",
    "                                                                   NN_PARAMETER_SEARCH_PREFIX.format(classifications_type, NN_BATCH_SIZE))), 'w'))"
   ]
  },
  {
   "cell_type": "code",
   "execution_count": 52,
   "metadata": {
    "collapsed": true
   },
   "outputs": [],
   "source": [
    "    # create nn parameter search directory\n",
    "    if not os.path.exists(os.path.join(nn_parameter_search_location, GLOBAL_VARS.MODEL_NAME)):\n",
    "        os.makedirs(os.path.join(nn_parameter_search_location, GLOBAL_VARS.MODEL_NAME))\n",
    "        "
   ]
  },
  {
   "cell_type": "code",
   "execution_count": 45,
   "metadata": {
    "collapsed": true
   },
   "outputs": [],
   "source": [
    "pickle.dump(param_results_dict, open(os.path.join(os.path.join(nn_parameter_search_location, GLOBAL_VARS.MODEL_NAME, \n",
    "                                                                   NN_PARAMETER_SEARCH_PREFIX.format(classifications_type, NN_BATCH_SIZE))), 'w'))"
   ]
  },
  {
   "cell_type": "code",
   "execution_count": 44,
   "metadata": {
    "collapsed": false
   },
   "outputs": [
    {
     "name": "stderr",
     "output_type": "stream",
     "text": [
      "2017-03-09 03:51:31,120 : INFO : Generating Training Metrics\n"
     ]
    },
    {
     "name": "stdout",
     "output_type": "stream",
     "text": [
      "CPU times: user 4min 6s, sys: 1min 35s, total: 5min 41s\n",
      "Wall time: 5min 41s\n",
      "CPU times: user 136 ms, sys: 40 ms, total: 176 ms\n",
      "Wall time: 172 ms\n"
     ]
    },
    {
     "name": "stderr",
     "output_type": "stream",
     "text": [
      "/home/stud/shalaby/.virtualenv/thesis-env/local/lib/python2.7/site-packages/sklearn/metrics/classification.py:1113: UndefinedMetricWarning: Precision is ill-defined and being set to 0.0 due to no predicted samples.\n",
      "  'precision', 'predicted', average, warn_for)\n",
      "/home/stud/shalaby/.virtualenv/thesis-env/local/lib/python2.7/site-packages/sklearn/metrics/classification.py:1113: UndefinedMetricWarning: Precision is ill-defined and being set to 0.0 in labels with no predicted samples.\n",
      "  'precision', 'predicted', average, warn_for)\n",
      "/home/stud/shalaby/.virtualenv/thesis-env/local/lib/python2.7/site-packages/sklearn/metrics/classification.py:1113: UndefinedMetricWarning: F-score is ill-defined and being set to 0.0 due to no predicted samples.\n",
      "  'precision', 'predicted', average, warn_for)\n",
      "/home/stud/shalaby/.virtualenv/thesis-env/local/lib/python2.7/site-packages/sklearn/metrics/classification.py:1113: UndefinedMetricWarning: F-score is ill-defined and being set to 0.0 in labels with no predicted samples.\n",
      "  'precision', 'predicted', average, warn_for)\n"
     ]
    },
    {
     "name": "stdout",
     "output_type": "stream",
     "text": [
      "****** Training Metrics: Cov Err: 2.940 | Top 3: 0.705 | Top 5: 0.910 | F1 Micro: 0.000 | F1 Macro: 0.000\n",
      "CPU times: user 4min 9s, sys: 1min 35s, total: 5min 44s\n",
      "Wall time: 5min 44s\n"
     ]
    }
   ],
   "source": [
    "%%time\n",
    "%time yp = model.predict(X)\n",
    "%time yp_binary = get_binary_0_5(yp)\n",
    "#print yvp\n",
    "info('Generating Training Metrics')\n",
    "training_metrics = get_metrics(y, yp, yp_binary)\n",
    "print \"****** Training Metrics: Cov Err: {:.3f} | Top 3: {:.3f} | Top 5: {:.3f} | F1 Micro: {:.3f} | F1 Macro: {:.3f}\".format(\n",
    "    training_metrics['coverage_error'], training_metrics['top_3'], training_metrics['top_5'], \n",
    "    training_metrics['f1_micro'], training_metrics['f1_macro'])"
   ]
  },
  {
   "cell_type": "code",
   "execution_count": 71,
   "metadata": {
    "collapsed": false
   },
   "outputs": [
    {
     "name": "stdout",
     "output_type": "stream",
     "text": [
      "Epoch 1/10\n",
      "20000/20000 [==============================] - 44s - loss: 0.2937    \n",
      "Epoch 2/10\n",
      "20000/20000 [==============================] - 44s - loss: 0.2882    \n",
      "Epoch 3/10\n",
      "20000/20000 [==============================] - 44s - loss: 0.2843    \n",
      "Epoch 4/10\n",
      "20000/20000 [==============================] - 44s - loss: 0.2808    \n",
      "Epoch 5/10\n",
      "20000/20000 [==============================] - 44s - loss: 0.2779    \n",
      "Epoch 6/10\n",
      "20000/20000 [==============================] - 44s - loss: 0.2743    \n",
      "Epoch 7/10\n",
      "20000/20000 [==============================] - 44s - loss: 0.2729    \n",
      "Epoch 8/10\n",
      "20000/20000 [==============================] - 44s - loss: 0.2684    \n",
      "Epoch 9/10\n",
      "20000/20000 [==============================] - 44s - loss: 0.2687    \n",
      "Epoch 10/10\n",
      "20000/20000 [==============================] - 44s - loss: 0.2713    \n"
     ]
    },
    {
     "data": {
      "text/plain": [
       "<keras.callbacks.History at 0x7f253497d250>"
      ]
     },
     "execution_count": 71,
     "metadata": {},
     "output_type": "execute_result"
    }
   ],
   "source": [
    "model.fit(x=X, y=y, batch_size=NN_BATCH_SIZE, \\\n",
    "                              nb_epoch=10, verbose=MODEL_VERBOSITY)"
   ]
  },
  {
   "cell_type": "code",
   "execution_count": 72,
   "metadata": {
    "collapsed": false
   },
   "outputs": [
    {
     "name": "stderr",
     "output_type": "stream",
     "text": [
      "2017-03-07 15:30:31,828 : INFO : Generating Training Metrics\n"
     ]
    },
    {
     "name": "stdout",
     "output_type": "stream",
     "text": [
      "CPU times: user 38.9 s, sys: 17.3 s, total: 56.2 s\n",
      "Wall time: 56.2 s\n",
      "CPU times: user 20 ms, sys: 4 ms, total: 24 ms\n",
      "Wall time: 23.7 ms\n",
      "****** Validation Metrics: Cov Err: 2.181 | Top 3: 0.853 | Top 5: 0.954 | F1 Micro: 0.541 | F1 Macro: 0.403\n",
      "CPU times: user 39.3 s, sys: 17.3 s, total: 56.7 s\n",
      "Wall time: 56.6 s\n"
     ]
    }
   ],
   "source": [
    "%%time\n",
    "%time yp = model.predict(X)\n",
    "%time yp_binary = get_binary_0_5(yp)\n",
    "#print yvp\n",
    "info('Generating Training Metrics')\n",
    "training_metrics = get_metrics(y, yp, yp_binary)\n",
    "print \"****** Training Metrics: Cov Err: {:.3f} | Top 3: {:.3f} | Top 5: {:.3f} | F1 Micro: {:.3f} | F1 Macro: {:.3f}\".format(\n",
    "    training_metrics['coverage_error'], training_metrics['top_3'], training_metrics['top_5'], \n",
    "    training_metrics['f1_micro'], training_metrics['f1_macro'])"
   ]
  },
  {
   "cell_type": "code",
   "execution_count": 73,
   "metadata": {
    "collapsed": false
   },
   "outputs": [
    {
     "name": "stdout",
     "output_type": "stream",
     "text": [
      "Epoch 1/20\n",
      "20000/20000 [==============================] - 44s - loss: 0.2643    \n",
      "Epoch 2/20\n",
      "20000/20000 [==============================] - 44s - loss: 0.2611    \n",
      "Epoch 3/20\n",
      "20000/20000 [==============================] - 44s - loss: 0.2612    \n",
      "Epoch 4/20\n",
      "20000/20000 [==============================] - 44s - loss: 0.2650    \n",
      "Epoch 5/20\n",
      "20000/20000 [==============================] - 44s - loss: 0.2597    \n",
      "Epoch 6/20\n",
      "20000/20000 [==============================] - 44s - loss: 0.2572    \n",
      "Epoch 7/20\n",
      "20000/20000 [==============================] - 44s - loss: 0.2551    \n",
      "Epoch 8/20\n",
      "20000/20000 [==============================] - 44s - loss: 0.2519    \n",
      "Epoch 9/20\n",
      "20000/20000 [==============================] - 44s - loss: 0.2484    \n",
      "Epoch 10/20\n",
      "20000/20000 [==============================] - 44s - loss: 0.2497    \n",
      "Epoch 11/20\n",
      "20000/20000 [==============================] - 44s - loss: 0.2501    \n",
      "Epoch 12/20\n",
      "20000/20000 [==============================] - 44s - loss: 0.2461    \n",
      "Epoch 13/20\n",
      "20000/20000 [==============================] - 44s - loss: 0.2460    \n",
      "Epoch 14/20\n",
      "20000/20000 [==============================] - 44s - loss: 0.2423    \n",
      "Epoch 15/20\n",
      "20000/20000 [==============================] - 44s - loss: 0.2408    \n",
      "Epoch 16/20\n",
      "20000/20000 [==============================] - 44s - loss: 0.2403    \n",
      "Epoch 17/20\n",
      "20000/20000 [==============================] - 44s - loss: 0.2477    \n",
      "Epoch 18/20\n",
      "20000/20000 [==============================] - 44s - loss: 0.2427    \n",
      "Epoch 19/20\n",
      "20000/20000 [==============================] - 44s - loss: 0.2396    \n",
      "Epoch 20/20\n",
      "20000/20000 [==============================] - 44s - loss: 0.2371    \n"
     ]
    },
    {
     "data": {
      "text/plain": [
       "<keras.callbacks.History at 0x7f2534933d90>"
      ]
     },
     "execution_count": 73,
     "metadata": {},
     "output_type": "execute_result"
    }
   ],
   "source": [
    "model.fit(x=X, y=y, batch_size=NN_BATCH_SIZE, \\\n",
    "                              nb_epoch=20, verbose=MODEL_VERBOSITY)"
   ]
  },
  {
   "cell_type": "code",
   "execution_count": 74,
   "metadata": {
    "collapsed": false
   },
   "outputs": [
    {
     "name": "stderr",
     "output_type": "stream",
     "text": [
      "2017-03-07 16:05:49,006 : INFO : Generating Training Metrics\n"
     ]
    },
    {
     "name": "stdout",
     "output_type": "stream",
     "text": [
      "CPU times: user 38 s, sys: 18.4 s, total: 56.4 s\n",
      "Wall time: 56.4 s\n",
      "CPU times: user 24 ms, sys: 0 ns, total: 24 ms\n",
      "Wall time: 23.7 ms\n",
      "****** Validation Metrics: Cov Err: 1.980 | Top 3: 0.887 | Top 5: 0.963 | F1 Micro: 0.628 | F1 Macro: 0.467\n",
      "CPU times: user 38.4 s, sys: 18.4 s, total: 56.9 s\n",
      "Wall time: 56.9 s\n"
     ]
    }
   ],
   "source": [
    "%%time\n",
    "%time yp = model.predict(X)\n",
    "%time yp_binary = get_binary_0_5(yp)\n",
    "#print yvp\n",
    "info('Generating Training Metrics')\n",
    "training_metrics = get_metrics(y, yp, yp_binary)\n",
    "print \"****** Validation Metrics: Cov Err: {:.3f} | Top 3: {:.3f} | Top 5: {:.3f} | F1 Micro: {:.3f} | F1 Macro: {:.3f}\".format(\n",
    "    training_metrics['coverage_error'], training_metrics['top_3'], training_metrics['top_5'], \n",
    "    training_metrics['f1_micro'], training_metrics['f1_macro'])"
   ]
  },
  {
   "cell_type": "code",
   "execution_count": null,
   "metadata": {
    "collapsed": true
   },
   "outputs": [],
   "source": []
  }
 ],
 "metadata": {
  "kernelspec": {
   "display_name": "Python 2",
   "language": "python",
   "name": "python2"
  },
  "language_info": {
   "codemirror_mode": {
    "name": "ipython",
    "version": 2
   },
   "file_extension": ".py",
   "mimetype": "text/x-python",
   "name": "python",
   "nbconvert_exporter": "python",
   "pygments_lexer": "ipython2",
   "version": "2.7.12"
  }
 },
 "nbformat": 4,
 "nbformat_minor": 0
}
