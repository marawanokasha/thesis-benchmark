{
 "cells": [
  {
   "cell_type": "markdown",
   "metadata": {},
   "source": [
    "# Classification of fixed size paragraph vectors using LSTM\n",
    "should be able to deal with all levels using the PARTS_LEVEL param"
   ]
  },
  {
   "cell_type": "code",
   "execution_count": 1,
   "metadata": {
    "collapsed": false
   },
   "outputs": [
    {
     "name": "stderr",
     "output_type": "stream",
     "text": [
      "Using Theano backend.\n",
      "Using gpu device 0: TITAN X (Pascal) (CNMeM is disabled, cuDNN 5105)\n",
      "/home/stud/shalaby/.virtualenv/thesis-env/local/lib/python2.7/site-packages/theano/sandbox/cuda/__init__.py:600: UserWarning: Your cuDNN version is more recent than the one Theano officially supports. If you see any problems, try updating Theano or downgrading cuDNN to version 5.\n",
      "  warnings.warn(warn)\n"
     ]
    }
   ],
   "source": [
    "import json\n",
    "import nltk\n",
    "from nltk.tokenize import RegexpTokenizer\n",
    "import string\n",
    "import math\n",
    "import os\n",
    "import time\n",
    "from collections import namedtuple, defaultdict\n",
    "import cPickle as pickle\n",
    "import pandas as pd\n",
    "\n",
    "%matplotlib inline\n",
    "import matplotlib.pyplot as plt\n",
    "import matplotlib as mpl\n",
    "import numpy as np\n",
    "import random\n",
    "\n",
    "from multiprocessing.dummy import Pool as ThreadPool\n",
    "import itertools\n",
    "\n",
    "from sklearn.metrics import coverage_error\n",
    "import sklearn.metrics\n",
    "from sklearn.multiclass import OneVsRestClassifier\n",
    "from sklearn import linear_model\n",
    "from sklearn.preprocessing import MultiLabelBinarizer\n",
    "\n",
    "from gensim.models.doc2vec import Doc2Vec, LabeledSentence\n",
    "\n",
    "import logging\n",
    "from logging import info\n",
    "from functools import partial\n",
    "\n",
    "import seaborn\n",
    "\n",
    "import keras\n",
    "from keras.layers import Input, Dense, Dropout, Masking\n",
    "from keras.models import Model, Sequential\n",
    "from keras.layers import Input, Masking\n",
    "from keras.layers.convolutional import MaxPooling1D, Convolution1D\n",
    "from keras.layers.pooling import GlobalAveragePooling1D\n",
    "from keras.layers.recurrent import LSTM\n",
    "\n",
    "from sklearn.model_selection import ParameterSampler\n",
    "\n",
    "from thesis.utils.metrics import *\n",
    "from thesis.utils.file import *"
   ]
  },
  {
   "cell_type": "markdown",
   "metadata": {},
   "source": [
    "# Global variables used throughout the script"
   ]
  },
  {
   "cell_type": "code",
   "execution_count": 2,
   "metadata": {
    "collapsed": true
   },
   "outputs": [],
   "source": [
    "root = logging.getLogger()\n",
    "for handler in root.handlers[:]:\n",
    "    root.removeHandler(handler)\n",
    "logging.basicConfig(format='%(asctime)s : %(levelname)s : %(message)s', level=logging.INFO) # adds a default StreamHanlder\n",
    "#root.addHandler(logging.StreamHandler())"
   ]
  },
  {
   "cell_type": "code",
   "execution_count": 3,
   "metadata": {
    "collapsed": true
   },
   "outputs": [],
   "source": [
    "SVM_SEED = 1234\n",
    "DOC2VEC_SEED = 1234\n",
    "WORD2VEC_SEED = 1234\n",
    "NN_SEED = 1234"
   ]
  },
  {
   "cell_type": "code",
   "execution_count": 4,
   "metadata": {
    "collapsed": true
   },
   "outputs": [],
   "source": [
    "NUM_CORES = 16"
   ]
  },
  {
   "cell_type": "code",
   "execution_count": 5,
   "metadata": {
    "collapsed": false
   },
   "outputs": [],
   "source": [
    "GLOBAL_VARS = namedtuple('GLOBAL_VARS', ['MODEL_NAME', 'DOC2VEC_MODEL_NAME', 'DOC2VEC_MODEL', \n",
    "                                         'SVM_MODEL_NAME', 'NN_MODEL_NAME'])"
   ]
  },
  {
   "cell_type": "code",
   "execution_count": 6,
   "metadata": {
    "collapsed": true
   },
   "outputs": [],
   "source": [
    "VOCAB_MODEL = \"vocab_model\"\n",
    "MODEL_PREFIX = \"model\"\n",
    "VALIDATION_MATRIX = \"validation_matrix.pkl\"\n",
    "VALIDATION_DICT = \"validation_dict.pkl\"\n",
    "TEST_MATRIX = \"test_matrix.pkl\"\n",
    "TEST_DICT = \"test_dict.pkl\"\n",
    "METRICS = \"metrics.pkl\"\n",
    "CLASSIFIER = \"classifier.pkl\"\n",
    "TYPE_CLASSIFIER= \"{}_classifier.pkl\"\n",
    "\n",
    "TRAINING_DATA_MATRIX = \"X_level_{}.npy\"\n",
    "TRAINING_LABELS_MATRIX = \"y_{}.npy\"\n",
    "VALIDATION_DATA_MATRIX = \"Xv_level_{}.npy\"\n",
    "VALIDATION_LABELS_MATRIX = \"yv_{}.npy\"\n",
    "TEST_DATA_MATRIX = \"Xt_level_{}.npy\"\n",
    "TEST_LABELS_MATRIX = \"yt_{}.npy\""
   ]
  },
  {
   "cell_type": "code",
   "execution_count": 7,
   "metadata": {
    "collapsed": true
   },
   "outputs": [],
   "source": [
    "NN_PARAMETER_SEARCH_PREFIX = \"lstm_{}_level_{}_batch_{}_nn_parameter_searches.pkl\""
   ]
  },
  {
   "cell_type": "code",
   "execution_count": 8,
   "metadata": {
    "collapsed": false
   },
   "outputs": [],
   "source": [
    "root_location = \"/mnt/data2/shalaby/\"\n",
    "big_data_location = \"/mnt/data/shalaby/\"\n",
    "\n",
    "matrices_save_location = big_data_location + \"extended_pv_matrices/\"\n",
    "# matrices_save_location = big_data_location + \"extended_pv_matrices/one_model/\"\n",
    "exports_location = root_location + \"exported_data/\"\n",
    "\n",
    "nn_parameter_search_location = os.path.join(root_location, \"nn_parameter_search_extended_abs_desc_claims_full_chunks\")\n",
    "\n",
    "doc_classifications_map_file = exports_location + \"doc_classification_map.pkl\"\n",
    "sections_file = exports_location + \"sections.pkl\"\n",
    "classes_file = exports_location + \"classes.pkl\"\n",
    "subclasses_file = exports_location + \"subclasses.pkl\"\n",
    "valid_classes_file = exports_location + \"valid_classes.pkl\"\n",
    "valid_subclasses_file = exports_location + \"valid_subclasses.pkl\"\n",
    "classifications_output = exports_location + \"classifications.pkl\"\n",
    "training_docs_list_file = exports_location + \"training_docs_list.pkl\"\n",
    "validation_docs_list_file = exports_location + \"validation_docs_list.pkl\"\n",
    "test_docs_list_file = exports_location + \"test_docs_list.pkl\""
   ]
  },
  {
   "cell_type": "markdown",
   "metadata": {},
   "source": [
    "# Load general data required for classification"
   ]
  },
  {
   "cell_type": "code",
   "execution_count": 9,
   "metadata": {
    "collapsed": false
   },
   "outputs": [
    {
     "name": "stdout",
     "output_type": "stream",
     "text": [
      "CPU times: user 21 s, sys: 1.91 s, total: 22.9 s\n",
      "Wall time: 23 s\n"
     ]
    }
   ],
   "source": [
    "%%time\n",
    "doc_classification_map = pickle.load(open(doc_classifications_map_file))\n",
    "sections = pickle.load(open(sections_file))\n",
    "classes = pickle.load(open(classes_file))\n",
    "subclasses = pickle.load(open(subclasses_file))\n",
    "valid_classes = pickle.load(open(valid_classes_file))\n",
    "valid_subclasses = pickle.load(open(valid_subclasses_file))\n",
    "training_docs_list = pickle.load(open(training_docs_list_file))\n",
    "validation_docs_list = pickle.load(open(validation_docs_list_file))\n",
    "test_docs_list = pickle.load(open(test_docs_list_file))"
   ]
  },
  {
   "cell_type": "code",
   "execution_count": 10,
   "metadata": {
    "collapsed": false
   },
   "outputs": [
    {
     "data": {
      "text/plain": [
       "1286325"
      ]
     },
     "execution_count": 10,
     "metadata": {},
     "output_type": "execute_result"
    }
   ],
   "source": [
    "len(training_docs_list)"
   ]
  },
  {
   "cell_type": "code",
   "execution_count": 11,
   "metadata": {
    "collapsed": false
   },
   "outputs": [
    {
     "data": {
      "text/plain": [
       "321473"
      ]
     },
     "execution_count": 11,
     "metadata": {},
     "output_type": "execute_result"
    }
   ],
   "source": [
    "len(validation_docs_list)"
   ]
  },
  {
   "cell_type": "code",
   "execution_count": 12,
   "metadata": {
    "collapsed": false
   },
   "outputs": [
    {
     "data": {
      "text/plain": [
       "401877"
      ]
     },
     "execution_count": 12,
     "metadata": {},
     "output_type": "execute_result"
    }
   ],
   "source": [
    "len(test_docs_list)"
   ]
  },
  {
   "cell_type": "markdown",
   "metadata": {},
   "source": [
    "# Utility Functions for data loading"
   ]
  },
  {
   "cell_type": "code",
   "execution_count": 13,
   "metadata": {
    "collapsed": false
   },
   "outputs": [],
   "source": [
    "def get_training_data(classifications_type, level):\n",
    "    info(\"Loading Training Data from file\")\n",
    "    training_data = np.load(open(os.path.join(matrices_save_location, GLOBAL_VARS.MODEL_NAME, \n",
    "                                              TRAINING_DATA_MATRIX.format(level))))\n",
    "    training_labels = np.load(open(os.path.join(matrices_save_location, GLOBAL_VARS.MODEL_NAME, \n",
    "                                                TRAINING_LABELS_MATRIX.format(classifications_type))))\n",
    "    return training_data, training_labels\n",
    "\n",
    "def get_validation_data(classifications_type, level):\n",
    "    info(\"Loading Validation Data from file\")\n",
    "    validation_data = np.load(open(os.path.join(matrices_save_location, GLOBAL_VARS.MODEL_NAME, \n",
    "                                                VALIDATION_DATA_MATRIX.format(level))))\n",
    "    validation_labels = np.load(open(os.path.join(matrices_save_location, GLOBAL_VARS.MODEL_NAME, \n",
    "                                                  VALIDATION_LABELS_MATRIX.format(classifications_type))))\n",
    "    return validation_data, validation_labels\n",
    "\n",
    "def get_test_data(classifications_type, level):\n",
    "    info(\"Loading Test Data from file\")\n",
    "    test_data = np.load(open(os.path.join(matrices_save_location, GLOBAL_VARS.MODEL_NAME, \n",
    "                                                TEST_DATA_MATRIX.format(level))))\n",
    "    test_labels = np.load(open(os.path.join(matrices_save_location, GLOBAL_VARS.MODEL_NAME, \n",
    "                                                  TEST_LABELS_MATRIX.format(classifications_type))))\n",
    "    return test_data, test_labels"
   ]
  },
  {
   "cell_type": "code",
   "execution_count": 14,
   "metadata": {
    "collapsed": true
   },
   "outputs": [],
   "source": [
    "class MetricsCallback(keras.callbacks.Callback):\n",
    "    \"\"\"\n",
    "    Callback called by keras after each epoch. Records the best validation loss and periodically checks the \n",
    "    validation metrics\n",
    "    \"\"\"\n",
    "    def __init__(self):\n",
    "        MetricsCallback.EPOCHS_BEFORE_VALIDATION = epochs_before_validation[classifications_type]\n",
    "        MetricsCallback.GRAPH_MIN = metrics_graph_ranges[classifications_type]['min']\n",
    "        MetricsCallback.GRAPH_MAX = metrics_graph_ranges[classifications_type]['max']\n",
    "    \n",
    "    def on_train_begin(self, logs={}):\n",
    "        self.epoch_index = 0\n",
    "        self.val_loss_reductions = 0\n",
    "        self.metrics_dict = {}\n",
    "        self.best_val_loss = np.iinfo(np.int32).max\n",
    "        self.best_weights = None\n",
    "        self.best_validation_metrics = None\n",
    "        \n",
    "        self.losses = []\n",
    "        self.val_losses = []\n",
    "        self.fig = plt.figure(figsize=(12,6), dpi=80)\n",
    "        self.ax = plt.subplot(111)\n",
    "    def on_epoch_end(self, epoch, logs={}):\n",
    "        self.epoch_index += 1\n",
    "        self.losses.append(logs['loss'])\n",
    "        self.val_losses.append(logs['val_loss'])\n",
    "        loss_line, = self.ax.plot(range(1,self.epoch_index+1), self.losses, 'g-', label='Training Loss')\n",
    "        val_loss_line, = self.ax.plot(range(1,self.epoch_index+1), self.val_losses, 'r-', label='Validation Loss')\n",
    "        self.ax.legend(handles=[loss_line, val_loss_line])\n",
    "        self.ax.set_ylim((MetricsCallback.GRAPH_MIN, MetricsCallback.GRAPH_MAX))\n",
    "        self.fig.canvas.draw()\n",
    "        if logs['val_loss'] < self.best_val_loss:\n",
    "            self.val_loss_reductions += 1\n",
    "            self.best_val_loss = logs['val_loss']\n",
    "            self.best_weights = self.model.get_weights()\n",
    "            print '\\r    \\r' # to remove the previous line of verbose output of model fit\n",
    "            #time.sleep(0.1)\n",
    "            info('Found lower val loss for epoch {} => {}'.format(self.epoch_index, round(logs['val_loss'], 5)))\n",
    "            if self.val_loss_reductions % MetricsCallback.EPOCHS_BEFORE_VALIDATION == 0:\n",
    "                \n",
    "                info('Validation Loss Reduced {} times'.format(self.val_loss_reductions))\n",
    "                info('Evaluating on Validation Data')\n",
    "                yvp = self.model.predict(Xv)\n",
    "                yvp_binary = get_binary_0_5(yvp)\n",
    "                info('Generating Validation Metrics')\n",
    "                validation_metrics = get_metrics(yv, yvp, yvp_binary)\n",
    "                print \"****** Validation Metrics: Cov Err: {:.3f} | Top 3: {:.3f} | Top 5: {:.3f} | F1 Micro: {:.3f} | F1 Macro: {:.3f}\".format(\n",
    "                    validation_metrics['coverage_error'], validation_metrics['top_3'], validation_metrics['top_5'], \n",
    "                    validation_metrics['f1_micro'], validation_metrics['f1_macro'])\n",
    "                self.metrics_dict[self.epoch_index] = validation_metrics\n",
    "#                 self.best_validation_metrics = validation_metrics"
   ]
  },
  {
   "cell_type": "code",
   "execution_count": 15,
   "metadata": {
    "collapsed": true
   },
   "outputs": [],
   "source": [
    "def create_keras_rnn_model(input_size, output_size, lstm_output_size, w_dropout_do, u_dropout_do, \n",
    "                           stack_layers=1, conv_size=None, conv_filter_length=3, max_pooling_length=None):\n",
    "    \n",
    "    model= Sequential()\n",
    "#     model.add(Masking(mask_value=0., input_shape=(MAX_SIZE, input_size)))\n",
    "    if conv_size:\n",
    "        model.add(Convolution1D(nb_filter=conv_size, input_shape=(MAX_SIZE, input_size), filter_length=conv_filter_length, \n",
    "                                border_mode='same', activation='relu'))\n",
    "        if max_pooling_length is not None:\n",
    "            model.add(MaxPooling1D(pool_length=max_pooling_length))\n",
    "    for i in range(stack_layers):\n",
    "        model.add(LSTM(lstm_output_size, input_dim=input_size, dropout_W=w_dropout_do, dropout_U=u_dropout_do,\n",
    "                       return_sequences=False if i+1 == stack_layers else True,\n",
    "                  name='lstm_{}_w-drop_{}_u-drop_{}_layer_{}'.format(lstm_output_size, str(u_dropout_do), str(w_dropout_do), str(i+1))))\n",
    "    model.add(Dense(output_size, activation='sigmoid', name='sigmoid_output'))\n",
    "    model.compile(optimizer=NN_OPTIMIZER, loss='binary_crossentropy')\n",
    "    return model"
   ]
  },
  {
   "cell_type": "markdown",
   "metadata": {},
   "source": [
    "# Global Param Loop"
   ]
  },
  {
   "cell_type": "code",
   "execution_count": 16,
   "metadata": {
    "collapsed": true
   },
   "outputs": [],
   "source": [
    "# minimum change in val_loss from previous epoch to register as a decrease\n",
    "early_stopper_deltas = {\n",
    "    'sections': 0.00001,\n",
    "    'classes': 0.00001,\n",
    "    'subclasses': 0.00001\n",
    "}\n",
    "# how many epochs to wait when there is no decrease in val_loss before early stopping\n",
    "early_stopper_patience = {\n",
    "    'sections': 15,\n",
    "    'classes': 15,\n",
    "    'subclasses': 15\n",
    "}\n",
    "# number of epochs after which we do periodic evaluation of validation metrics\n",
    "epochs_before_validation = {\n",
    "    'sections': 10,\n",
    "    'classes': 20,\n",
    "    'subclasses': 20\n",
    "}\n",
    "\n",
    "# ranges for learning graph shown\n",
    "metrics_graph_ranges = {\n",
    "    'sections': {'min':0, 'max': 0.3},\n",
    "    'classes': {'min':0, 'max': 0.05},\n",
    "    'subclasses': {'min':0, 'max': 0.05}\n",
    "}"
   ]
  },
  {
   "cell_type": "code",
   "execution_count": 17,
   "metadata": {
    "collapsed": true
   },
   "outputs": [],
   "source": [
    "LEVEL_DOC = 1\n",
    "LEVEL_DIVISIONS = 2\n",
    "LEVEL_CHUNKS = 3"
   ]
  },
  {
   "cell_type": "code",
   "execution_count": 18,
   "metadata": {
    "collapsed": true
   },
   "outputs": [],
   "source": [
    "DOC2VEC_SIZE = 200\n",
    "DOC2VEC_WINDOW = 2\n",
    "DOC2VEC_MAX_VOCAB_SIZE = None\n",
    "DOC2VEC_SAMPLE = 1e-3\n",
    "DOC2VEC_TYPE = 1\n",
    "DOC2VEC_HIERARCHICAL_SAMPLE = 0\n",
    "DOC2VEC_NEGATIVE_SAMPLE_SIZE = 10\n",
    "DOC2VEC_CONCAT = 0\n",
    "DOC2VEC_MEAN = 1\n",
    "DOC2VEC_TRAIN_WORDS = 0\n",
    "DOC2VEC_EPOCHS = 1 # we do our training manually one epoch at a time\n",
    "DOC2VEC_MAX_EPOCHS = 8\n",
    "REPORT_DELAY = 20 # report the progress every x seconds\n",
    "REPORT_VOCAB_PROGRESS = 100000 # report vocab progress every x documents\n",
    "\n",
    "DOC2VEC_EPOCH = 8"
   ]
  },
  {
   "cell_type": "code",
   "execution_count": 19,
   "metadata": {
    "collapsed": false
   },
   "outputs": [],
   "source": [
    "GLOBAL_PARMS_TO_RUN = [\n",
    "    {\n",
    "        'doc2vec_epoch': DOC2VEC_EPOCH,\n",
    "        'classifications': sections,\n",
    "        'classifications_type': 'sections',\n",
    "        'parts_level': LEVEL_CHUNKS,\n",
    "        'nn_batch_size': 2048,\n",
    "        'lstm_output_size': 1000,\n",
    "        'lstm_w_dropout': 0.5,\n",
    "        'lstm_u_dropout': 0.5,\n",
    "        'lstm_stack_layers': 1,\n",
    "        'lstm_conv_size': None,\n",
    "        'lstm_conv_filter_length': None,\n",
    "        'lstm_max_pooling_length': None\n",
    "    },\n",
    "#     {\n",
    "#         'doc2vec_epoch': DOC2VEC_EPOCH,\n",
    "#         'classifications': valid_classes,\n",
    "#         'classifications_type': 'classes',\n",
    "#         'parts_level': LEVEL_DOC,\n",
    "#         'nn_batch_size': 4096,\n",
    "#         'lstm_output_size': 1000,\n",
    "#         'lstm_w_dropout': 0.5,\n",
    "#         'lstm_u_dropout': 0.5,\n",
    "#         'lstm_stack_layers': 1,\n",
    "#         'lstm_conv_size': None,\n",
    "#         'lstm_conv_filter_length': None,\n",
    "#         'lstm_max_pooling_length': None\n",
    "#     },\n",
    "#     {\n",
    "#         'doc2vec_epoch': DOC2VEC_EPOCH,\n",
    "#         'classifications': valid_classes,\n",
    "#         'classifications_type': 'classes',\n",
    "#         'parts_level': LEVEL_DIVISIONS,\n",
    "#         'nn_batch_size': 4096,\n",
    "#         'lstm_output_size': 1000,\n",
    "#         'lstm_w_dropout': 0.5,\n",
    "#         'lstm_u_dropout': 0.5,\n",
    "#         'lstm_stack_layers': 1,\n",
    "#         'lstm_conv_size': None,\n",
    "#         'lstm_conv_filter_length': None,\n",
    "#         'lstm_max_pooling_length': None\n",
    "#     },\n",
    "    {\n",
    "        'doc2vec_epoch': DOC2VEC_EPOCH,\n",
    "        'classifications': valid_classes,\n",
    "        'classifications_type': 'classes',\n",
    "        'parts_level': LEVEL_CHUNKS,\n",
    "        'nn_batch_size': 2048,\n",
    "        'lstm_output_size': 1000,\n",
    "        'lstm_w_dropout': 0.5,\n",
    "        'lstm_u_dropout': 0.5,\n",
    "        'lstm_stack_layers': 1,\n",
    "        'lstm_conv_size': None,\n",
    "        'lstm_conv_filter_length': None,\n",
    "        'lstm_max_pooling_length': None\n",
    "    },\n",
    "]\n"
   ]
  },
  {
   "cell_type": "code",
   "execution_count": null,
   "metadata": {
    "collapsed": false,
    "scrolled": false
   },
   "outputs": [
    {
     "name": "stdout",
     "output_type": "stream",
     "text": [
      "==================================== NEW PARAM SET ============================================\n",
      "{'lstm_conv_filter_length': None, 'lstm_stack_layers': 1, 'nn_batch_size': 2048, 'classifications_type': 'sections', 'lstm_w_dropout': 0.5, 'lstm_max_pooling_length': None, 'lstm_u_dropout': 0.5, 'parts_level': 3, 'lstm_output_size': 1000, 'doc2vec_epoch': 8, 'lstm_conv_size': None}\n",
      "doc2vec_size_200_w_2_type_dm_concat_0_mean_1_trainwords_0_hs_0_neg_10_vocabsize_None/epoch_8\n"
     ]
    },
    {
     "name": "stderr",
     "output_type": "stream",
     "text": [
      "2017-04-13 05:05:12,124 : INFO : Loading Training Documents\n",
      "2017-04-13 05:05:12,125 : INFO : Loading Training Data from file\n",
      "2017-04-13 05:09:08,717 : INFO : Loading Validation Documents\n",
      "2017-04-13 05:09:08,720 : INFO : Loading Validation Data from file\n"
     ]
    },
    {
     "name": "stdout",
     "output_type": "stream",
     "text": [
      "(1286325, 34, 200)\n",
      "(1286325, 8)\n"
     ]
    },
    {
     "name": "stderr",
     "output_type": "stream",
     "text": [
      "2017-04-13 05:10:26,654 : INFO : No Previous results exist in /mnt/data2/shalaby/nn_parameter_search_extended_abs_desc_claims_full_chunks/doc2vec_size_200_w_2_type_dm_concat_0_mean_1_trainwords_0_hs_0_neg_10_vocabsize_None/epoch_8/lstm_sections_level_3_batch_2048_nn_parameter_searches.pkl\n",
      "2017-04-13 05:10:26,755 : INFO : ***************************************************************************************\n",
      "2017-04-13 05:10:26,767 : INFO : lstm_optimizer_rmsprop_size_1000_w-drop_0.5_u-drop_0.5_stack_1_conv_None\n"
     ]
    },
    {
     "name": "stdout",
     "output_type": "stream",
     "text": [
      "(321473, 34, 200)\n",
      "(321473, 8)\n",
      "____________________________________________________________________________________________________\n",
      "Layer (type)                     Output Shape          Param #     Connected to                     \n",
      "====================================================================================================\n",
      "lstm_1000_w-drop_0.5_u-drop_0.5_ (None, 1000)          4804000     lstm_input_1[0][0]               \n",
      "____________________________________________________________________________________________________\n",
      "sigmoid_output (Dense)           (None, 8)             8008        lstm_1000_w-drop_0.5_u-drop_0.5_l\n",
      "====================================================================================================\n",
      "Total params: 4812008\n",
      "____________________________________________________________________________________________________\n",
      "Train on 1286325 samples, validate on 321473 samples\n"
     ]
    },
    {
     "data": {
      "application/javascript": [
       "/* Put everything inside the global mpl namespace */\n",
       "window.mpl = {};\n",
       "\n",
       "mpl.get_websocket_type = function() {\n",
       "    if (typeof(WebSocket) !== 'undefined') {\n",
       "        return WebSocket;\n",
       "    } else if (typeof(MozWebSocket) !== 'undefined') {\n",
       "        return MozWebSocket;\n",
       "    } else {\n",
       "        alert('Your browser does not have WebSocket support.' +\n",
       "              'Please try Chrome, Safari or Firefox ≥ 6. ' +\n",
       "              'Firefox 4 and 5 are also supported but you ' +\n",
       "              'have to enable WebSockets in about:config.');\n",
       "    };\n",
       "}\n",
       "\n",
       "mpl.figure = function(figure_id, websocket, ondownload, parent_element) {\n",
       "    this.id = figure_id;\n",
       "\n",
       "    this.ws = websocket;\n",
       "\n",
       "    this.supports_binary = (this.ws.binaryType != undefined);\n",
       "\n",
       "    if (!this.supports_binary) {\n",
       "        var warnings = document.getElementById(\"mpl-warnings\");\n",
       "        if (warnings) {\n",
       "            warnings.style.display = 'block';\n",
       "            warnings.textContent = (\n",
       "                \"This browser does not support binary websocket messages. \" +\n",
       "                    \"Performance may be slow.\");\n",
       "        }\n",
       "    }\n",
       "\n",
       "    this.imageObj = new Image();\n",
       "\n",
       "    this.context = undefined;\n",
       "    this.message = undefined;\n",
       "    this.canvas = undefined;\n",
       "    this.rubberband_canvas = undefined;\n",
       "    this.rubberband_context = undefined;\n",
       "    this.format_dropdown = undefined;\n",
       "\n",
       "    this.image_mode = 'full';\n",
       "\n",
       "    this.root = $('<div/>');\n",
       "    this._root_extra_style(this.root)\n",
       "    this.root.attr('style', 'display: inline-block');\n",
       "\n",
       "    $(parent_element).append(this.root);\n",
       "\n",
       "    this._init_header(this);\n",
       "    this._init_canvas(this);\n",
       "    this._init_toolbar(this);\n",
       "\n",
       "    var fig = this;\n",
       "\n",
       "    this.waiting = false;\n",
       "\n",
       "    this.ws.onopen =  function () {\n",
       "            fig.send_message(\"supports_binary\", {value: fig.supports_binary});\n",
       "            fig.send_message(\"send_image_mode\", {});\n",
       "            fig.send_message(\"refresh\", {});\n",
       "        }\n",
       "\n",
       "    this.imageObj.onload = function() {\n",
       "            if (fig.image_mode == 'full') {\n",
       "                // Full images could contain transparency (where diff images\n",
       "                // almost always do), so we need to clear the canvas so that\n",
       "                // there is no ghosting.\n",
       "                fig.context.clearRect(0, 0, fig.canvas.width, fig.canvas.height);\n",
       "            }\n",
       "            fig.context.drawImage(fig.imageObj, 0, 0);\n",
       "        };\n",
       "\n",
       "    this.imageObj.onunload = function() {\n",
       "        this.ws.close();\n",
       "    }\n",
       "\n",
       "    this.ws.onmessage = this._make_on_message_function(this);\n",
       "\n",
       "    this.ondownload = ondownload;\n",
       "}\n",
       "\n",
       "mpl.figure.prototype._init_header = function() {\n",
       "    var titlebar = $(\n",
       "        '<div class=\"ui-dialog-titlebar ui-widget-header ui-corner-all ' +\n",
       "        'ui-helper-clearfix\"/>');\n",
       "    var titletext = $(\n",
       "        '<div class=\"ui-dialog-title\" style=\"width: 100%; ' +\n",
       "        'text-align: center; padding: 3px;\"/>');\n",
       "    titlebar.append(titletext)\n",
       "    this.root.append(titlebar);\n",
       "    this.header = titletext[0];\n",
       "}\n",
       "\n",
       "\n",
       "\n",
       "mpl.figure.prototype._canvas_extra_style = function(canvas_div) {\n",
       "\n",
       "}\n",
       "\n",
       "\n",
       "mpl.figure.prototype._root_extra_style = function(canvas_div) {\n",
       "\n",
       "}\n",
       "\n",
       "mpl.figure.prototype._init_canvas = function() {\n",
       "    var fig = this;\n",
       "\n",
       "    var canvas_div = $('<div/>');\n",
       "\n",
       "    canvas_div.attr('style', 'position: relative; clear: both; outline: 0');\n",
       "\n",
       "    function canvas_keyboard_event(event) {\n",
       "        return fig.key_event(event, event['data']);\n",
       "    }\n",
       "\n",
       "    canvas_div.keydown('key_press', canvas_keyboard_event);\n",
       "    canvas_div.keyup('key_release', canvas_keyboard_event);\n",
       "    this.canvas_div = canvas_div\n",
       "    this._canvas_extra_style(canvas_div)\n",
       "    this.root.append(canvas_div);\n",
       "\n",
       "    var canvas = $('<canvas/>');\n",
       "    canvas.addClass('mpl-canvas');\n",
       "    canvas.attr('style', \"left: 0; top: 0; z-index: 0; outline: 0\")\n",
       "\n",
       "    this.canvas = canvas[0];\n",
       "    this.context = canvas[0].getContext(\"2d\");\n",
       "\n",
       "    var rubberband = $('<canvas/>');\n",
       "    rubberband.attr('style', \"position: absolute; left: 0; top: 0; z-index: 1;\")\n",
       "\n",
       "    var pass_mouse_events = true;\n",
       "\n",
       "    canvas_div.resizable({\n",
       "        start: function(event, ui) {\n",
       "            pass_mouse_events = false;\n",
       "        },\n",
       "        resize: function(event, ui) {\n",
       "            fig.request_resize(ui.size.width, ui.size.height);\n",
       "        },\n",
       "        stop: function(event, ui) {\n",
       "            pass_mouse_events = true;\n",
       "            fig.request_resize(ui.size.width, ui.size.height);\n",
       "        },\n",
       "    });\n",
       "\n",
       "    function mouse_event_fn(event) {\n",
       "        if (pass_mouse_events)\n",
       "            return fig.mouse_event(event, event['data']);\n",
       "    }\n",
       "\n",
       "    rubberband.mousedown('button_press', mouse_event_fn);\n",
       "    rubberband.mouseup('button_release', mouse_event_fn);\n",
       "    // Throttle sequential mouse events to 1 every 20ms.\n",
       "    rubberband.mousemove('motion_notify', mouse_event_fn);\n",
       "\n",
       "    rubberband.mouseenter('figure_enter', mouse_event_fn);\n",
       "    rubberband.mouseleave('figure_leave', mouse_event_fn);\n",
       "\n",
       "    canvas_div.on(\"wheel\", function (event) {\n",
       "        event = event.originalEvent;\n",
       "        event['data'] = 'scroll'\n",
       "        if (event.deltaY < 0) {\n",
       "            event.step = 1;\n",
       "        } else {\n",
       "            event.step = -1;\n",
       "        }\n",
       "        mouse_event_fn(event);\n",
       "    });\n",
       "\n",
       "    canvas_div.append(canvas);\n",
       "    canvas_div.append(rubberband);\n",
       "\n",
       "    this.rubberband = rubberband;\n",
       "    this.rubberband_canvas = rubberband[0];\n",
       "    this.rubberband_context = rubberband[0].getContext(\"2d\");\n",
       "    this.rubberband_context.strokeStyle = \"#000000\";\n",
       "\n",
       "    this._resize_canvas = function(width, height) {\n",
       "        // Keep the size of the canvas, canvas container, and rubber band\n",
       "        // canvas in synch.\n",
       "        canvas_div.css('width', width)\n",
       "        canvas_div.css('height', height)\n",
       "\n",
       "        canvas.attr('width', width);\n",
       "        canvas.attr('height', height);\n",
       "\n",
       "        rubberband.attr('width', width);\n",
       "        rubberband.attr('height', height);\n",
       "    }\n",
       "\n",
       "    // Set the figure to an initial 600x600px, this will subsequently be updated\n",
       "    // upon first draw.\n",
       "    this._resize_canvas(600, 600);\n",
       "\n",
       "    // Disable right mouse context menu.\n",
       "    $(this.rubberband_canvas).bind(\"contextmenu\",function(e){\n",
       "        return false;\n",
       "    });\n",
       "\n",
       "    function set_focus () {\n",
       "        canvas.focus();\n",
       "        canvas_div.focus();\n",
       "    }\n",
       "\n",
       "    window.setTimeout(set_focus, 100);\n",
       "}\n",
       "\n",
       "mpl.figure.prototype._init_toolbar = function() {\n",
       "    var fig = this;\n",
       "\n",
       "    var nav_element = $('<div/>')\n",
       "    nav_element.attr('style', 'width: 100%');\n",
       "    this.root.append(nav_element);\n",
       "\n",
       "    // Define a callback function for later on.\n",
       "    function toolbar_event(event) {\n",
       "        return fig.toolbar_button_onclick(event['data']);\n",
       "    }\n",
       "    function toolbar_mouse_event(event) {\n",
       "        return fig.toolbar_button_onmouseover(event['data']);\n",
       "    }\n",
       "\n",
       "    for(var toolbar_ind in mpl.toolbar_items) {\n",
       "        var name = mpl.toolbar_items[toolbar_ind][0];\n",
       "        var tooltip = mpl.toolbar_items[toolbar_ind][1];\n",
       "        var image = mpl.toolbar_items[toolbar_ind][2];\n",
       "        var method_name = mpl.toolbar_items[toolbar_ind][3];\n",
       "\n",
       "        if (!name) {\n",
       "            // put a spacer in here.\n",
       "            continue;\n",
       "        }\n",
       "        var button = $('<button/>');\n",
       "        button.addClass('ui-button ui-widget ui-state-default ui-corner-all ' +\n",
       "                        'ui-button-icon-only');\n",
       "        button.attr('role', 'button');\n",
       "        button.attr('aria-disabled', 'false');\n",
       "        button.click(method_name, toolbar_event);\n",
       "        button.mouseover(tooltip, toolbar_mouse_event);\n",
       "\n",
       "        var icon_img = $('<span/>');\n",
       "        icon_img.addClass('ui-button-icon-primary ui-icon');\n",
       "        icon_img.addClass(image);\n",
       "        icon_img.addClass('ui-corner-all');\n",
       "\n",
       "        var tooltip_span = $('<span/>');\n",
       "        tooltip_span.addClass('ui-button-text');\n",
       "        tooltip_span.html(tooltip);\n",
       "\n",
       "        button.append(icon_img);\n",
       "        button.append(tooltip_span);\n",
       "\n",
       "        nav_element.append(button);\n",
       "    }\n",
       "\n",
       "    var fmt_picker_span = $('<span/>');\n",
       "\n",
       "    var fmt_picker = $('<select/>');\n",
       "    fmt_picker.addClass('mpl-toolbar-option ui-widget ui-widget-content');\n",
       "    fmt_picker_span.append(fmt_picker);\n",
       "    nav_element.append(fmt_picker_span);\n",
       "    this.format_dropdown = fmt_picker[0];\n",
       "\n",
       "    for (var ind in mpl.extensions) {\n",
       "        var fmt = mpl.extensions[ind];\n",
       "        var option = $(\n",
       "            '<option/>', {selected: fmt === mpl.default_extension}).html(fmt);\n",
       "        fmt_picker.append(option)\n",
       "    }\n",
       "\n",
       "    // Add hover states to the ui-buttons\n",
       "    $( \".ui-button\" ).hover(\n",
       "        function() { $(this).addClass(\"ui-state-hover\");},\n",
       "        function() { $(this).removeClass(\"ui-state-hover\");}\n",
       "    );\n",
       "\n",
       "    var status_bar = $('<span class=\"mpl-message\"/>');\n",
       "    nav_element.append(status_bar);\n",
       "    this.message = status_bar[0];\n",
       "}\n",
       "\n",
       "mpl.figure.prototype.request_resize = function(x_pixels, y_pixels) {\n",
       "    // Request matplotlib to resize the figure. Matplotlib will then trigger a resize in the client,\n",
       "    // which will in turn request a refresh of the image.\n",
       "    this.send_message('resize', {'width': x_pixels, 'height': y_pixels});\n",
       "}\n",
       "\n",
       "mpl.figure.prototype.send_message = function(type, properties) {\n",
       "    properties['type'] = type;\n",
       "    properties['figure_id'] = this.id;\n",
       "    this.ws.send(JSON.stringify(properties));\n",
       "}\n",
       "\n",
       "mpl.figure.prototype.send_draw_message = function() {\n",
       "    if (!this.waiting) {\n",
       "        this.waiting = true;\n",
       "        this.ws.send(JSON.stringify({type: \"draw\", figure_id: this.id}));\n",
       "    }\n",
       "}\n",
       "\n",
       "\n",
       "mpl.figure.prototype.handle_save = function(fig, msg) {\n",
       "    var format_dropdown = fig.format_dropdown;\n",
       "    var format = format_dropdown.options[format_dropdown.selectedIndex].value;\n",
       "    fig.ondownload(fig, format);\n",
       "}\n",
       "\n",
       "\n",
       "mpl.figure.prototype.handle_resize = function(fig, msg) {\n",
       "    var size = msg['size'];\n",
       "    if (size[0] != fig.canvas.width || size[1] != fig.canvas.height) {\n",
       "        fig._resize_canvas(size[0], size[1]);\n",
       "        fig.send_message(\"refresh\", {});\n",
       "    };\n",
       "}\n",
       "\n",
       "mpl.figure.prototype.handle_rubberband = function(fig, msg) {\n",
       "    var x0 = msg['x0'];\n",
       "    var y0 = fig.canvas.height - msg['y0'];\n",
       "    var x1 = msg['x1'];\n",
       "    var y1 = fig.canvas.height - msg['y1'];\n",
       "    x0 = Math.floor(x0) + 0.5;\n",
       "    y0 = Math.floor(y0) + 0.5;\n",
       "    x1 = Math.floor(x1) + 0.5;\n",
       "    y1 = Math.floor(y1) + 0.5;\n",
       "    var min_x = Math.min(x0, x1);\n",
       "    var min_y = Math.min(y0, y1);\n",
       "    var width = Math.abs(x1 - x0);\n",
       "    var height = Math.abs(y1 - y0);\n",
       "\n",
       "    fig.rubberband_context.clearRect(\n",
       "        0, 0, fig.canvas.width, fig.canvas.height);\n",
       "\n",
       "    fig.rubberband_context.strokeRect(min_x, min_y, width, height);\n",
       "}\n",
       "\n",
       "mpl.figure.prototype.handle_figure_label = function(fig, msg) {\n",
       "    // Updates the figure title.\n",
       "    fig.header.textContent = msg['label'];\n",
       "}\n",
       "\n",
       "mpl.figure.prototype.handle_cursor = function(fig, msg) {\n",
       "    var cursor = msg['cursor'];\n",
       "    switch(cursor)\n",
       "    {\n",
       "    case 0:\n",
       "        cursor = 'pointer';\n",
       "        break;\n",
       "    case 1:\n",
       "        cursor = 'default';\n",
       "        break;\n",
       "    case 2:\n",
       "        cursor = 'crosshair';\n",
       "        break;\n",
       "    case 3:\n",
       "        cursor = 'move';\n",
       "        break;\n",
       "    }\n",
       "    fig.rubberband_canvas.style.cursor = cursor;\n",
       "}\n",
       "\n",
       "mpl.figure.prototype.handle_message = function(fig, msg) {\n",
       "    fig.message.textContent = msg['message'];\n",
       "}\n",
       "\n",
       "mpl.figure.prototype.handle_draw = function(fig, msg) {\n",
       "    // Request the server to send over a new figure.\n",
       "    fig.send_draw_message();\n",
       "}\n",
       "\n",
       "mpl.figure.prototype.handle_image_mode = function(fig, msg) {\n",
       "    fig.image_mode = msg['mode'];\n",
       "}\n",
       "\n",
       "mpl.figure.prototype.updated_canvas_event = function() {\n",
       "    // Called whenever the canvas gets updated.\n",
       "    this.send_message(\"ack\", {});\n",
       "}\n",
       "\n",
       "// A function to construct a web socket function for onmessage handling.\n",
       "// Called in the figure constructor.\n",
       "mpl.figure.prototype._make_on_message_function = function(fig) {\n",
       "    return function socket_on_message(evt) {\n",
       "        if (evt.data instanceof Blob) {\n",
       "            /* FIXME: We get \"Resource interpreted as Image but\n",
       "             * transferred with MIME type text/plain:\" errors on\n",
       "             * Chrome.  But how to set the MIME type?  It doesn't seem\n",
       "             * to be part of the websocket stream */\n",
       "            evt.data.type = \"image/png\";\n",
       "\n",
       "            /* Free the memory for the previous frames */\n",
       "            if (fig.imageObj.src) {\n",
       "                (window.URL || window.webkitURL).revokeObjectURL(\n",
       "                    fig.imageObj.src);\n",
       "            }\n",
       "\n",
       "            fig.imageObj.src = (window.URL || window.webkitURL).createObjectURL(\n",
       "                evt.data);\n",
       "            fig.updated_canvas_event();\n",
       "            fig.waiting = false;\n",
       "            return;\n",
       "        }\n",
       "        else if (typeof evt.data === 'string' && evt.data.slice(0, 21) == \"data:image/png;base64\") {\n",
       "            fig.imageObj.src = evt.data;\n",
       "            fig.updated_canvas_event();\n",
       "            fig.waiting = false;\n",
       "            return;\n",
       "        }\n",
       "\n",
       "        var msg = JSON.parse(evt.data);\n",
       "        var msg_type = msg['type'];\n",
       "\n",
       "        // Call the  \"handle_{type}\" callback, which takes\n",
       "        // the figure and JSON message as its only arguments.\n",
       "        try {\n",
       "            var callback = fig[\"handle_\" + msg_type];\n",
       "        } catch (e) {\n",
       "            console.log(\"No handler for the '\" + msg_type + \"' message type: \", msg);\n",
       "            return;\n",
       "        }\n",
       "\n",
       "        if (callback) {\n",
       "            try {\n",
       "                // console.log(\"Handling '\" + msg_type + \"' message: \", msg);\n",
       "                callback(fig, msg);\n",
       "            } catch (e) {\n",
       "                console.log(\"Exception inside the 'handler_\" + msg_type + \"' callback:\", e, e.stack, msg);\n",
       "            }\n",
       "        }\n",
       "    };\n",
       "}\n",
       "\n",
       "// from http://stackoverflow.com/questions/1114465/getting-mouse-location-in-canvas\n",
       "mpl.findpos = function(e) {\n",
       "    //this section is from http://www.quirksmode.org/js/events_properties.html\n",
       "    var targ;\n",
       "    if (!e)\n",
       "        e = window.event;\n",
       "    if (e.target)\n",
       "        targ = e.target;\n",
       "    else if (e.srcElement)\n",
       "        targ = e.srcElement;\n",
       "    if (targ.nodeType == 3) // defeat Safari bug\n",
       "        targ = targ.parentNode;\n",
       "\n",
       "    // jQuery normalizes the pageX and pageY\n",
       "    // pageX,Y are the mouse positions relative to the document\n",
       "    // offset() returns the position of the element relative to the document\n",
       "    var x = e.pageX - $(targ).offset().left;\n",
       "    var y = e.pageY - $(targ).offset().top;\n",
       "\n",
       "    return {\"x\": x, \"y\": y};\n",
       "};\n",
       "\n",
       "/*\n",
       " * return a copy of an object with only non-object keys\n",
       " * we need this to avoid circular references\n",
       " * http://stackoverflow.com/a/24161582/3208463\n",
       " */\n",
       "function simpleKeys (original) {\n",
       "  return Object.keys(original).reduce(function (obj, key) {\n",
       "    if (typeof original[key] !== 'object')\n",
       "        obj[key] = original[key]\n",
       "    return obj;\n",
       "  }, {});\n",
       "}\n",
       "\n",
       "mpl.figure.prototype.mouse_event = function(event, name) {\n",
       "    var canvas_pos = mpl.findpos(event)\n",
       "\n",
       "    if (name === 'button_press')\n",
       "    {\n",
       "        this.canvas.focus();\n",
       "        this.canvas_div.focus();\n",
       "    }\n",
       "\n",
       "    var x = canvas_pos.x;\n",
       "    var y = canvas_pos.y;\n",
       "\n",
       "    this.send_message(name, {x: x, y: y, button: event.button,\n",
       "                             step: event.step,\n",
       "                             guiEvent: simpleKeys(event)});\n",
       "\n",
       "    /* This prevents the web browser from automatically changing to\n",
       "     * the text insertion cursor when the button is pressed.  We want\n",
       "     * to control all of the cursor setting manually through the\n",
       "     * 'cursor' event from matplotlib */\n",
       "    event.preventDefault();\n",
       "    return false;\n",
       "}\n",
       "\n",
       "mpl.figure.prototype._key_event_extra = function(event, name) {\n",
       "    // Handle any extra behaviour associated with a key event\n",
       "}\n",
       "\n",
       "mpl.figure.prototype.key_event = function(event, name) {\n",
       "\n",
       "    // Prevent repeat events\n",
       "    if (name == 'key_press')\n",
       "    {\n",
       "        if (event.which === this._key)\n",
       "            return;\n",
       "        else\n",
       "            this._key = event.which;\n",
       "    }\n",
       "    if (name == 'key_release')\n",
       "        this._key = null;\n",
       "\n",
       "    var value = '';\n",
       "    if (event.ctrlKey && event.which != 17)\n",
       "        value += \"ctrl+\";\n",
       "    if (event.altKey && event.which != 18)\n",
       "        value += \"alt+\";\n",
       "    if (event.shiftKey && event.which != 16)\n",
       "        value += \"shift+\";\n",
       "\n",
       "    value += 'k';\n",
       "    value += event.which.toString();\n",
       "\n",
       "    this._key_event_extra(event, name);\n",
       "\n",
       "    this.send_message(name, {key: value,\n",
       "                             guiEvent: simpleKeys(event)});\n",
       "    return false;\n",
       "}\n",
       "\n",
       "mpl.figure.prototype.toolbar_button_onclick = function(name) {\n",
       "    if (name == 'download') {\n",
       "        this.handle_save(this, null);\n",
       "    } else {\n",
       "        this.send_message(\"toolbar_button\", {name: name});\n",
       "    }\n",
       "};\n",
       "\n",
       "mpl.figure.prototype.toolbar_button_onmouseover = function(tooltip) {\n",
       "    this.message.textContent = tooltip;\n",
       "};\n",
       "mpl.toolbar_items = [[\"Home\", \"Reset original view\", \"fa fa-home icon-home\", \"home\"], [\"Back\", \"Back to  previous view\", \"fa fa-arrow-left icon-arrow-left\", \"back\"], [\"Forward\", \"Forward to next view\", \"fa fa-arrow-right icon-arrow-right\", \"forward\"], [\"\", \"\", \"\", \"\"], [\"Pan\", \"Pan axes with left mouse, zoom with right\", \"fa fa-arrows icon-move\", \"pan\"], [\"Zoom\", \"Zoom to rectangle\", \"fa fa-square-o icon-check-empty\", \"zoom\"], [\"\", \"\", \"\", \"\"], [\"Download\", \"Download plot\", \"fa fa-floppy-o icon-save\", \"download\"]];\n",
       "\n",
       "mpl.extensions = [\"eps\", \"pdf\", \"png\", \"ps\", \"raw\", \"svg\"];\n",
       "\n",
       "mpl.default_extension = \"png\";var comm_websocket_adapter = function(comm) {\n",
       "    // Create a \"websocket\"-like object which calls the given IPython comm\n",
       "    // object with the appropriate methods. Currently this is a non binary\n",
       "    // socket, so there is still some room for performance tuning.\n",
       "    var ws = {};\n",
       "\n",
       "    ws.close = function() {\n",
       "        comm.close()\n",
       "    };\n",
       "    ws.send = function(m) {\n",
       "        //console.log('sending', m);\n",
       "        comm.send(m);\n",
       "    };\n",
       "    // Register the callback with on_msg.\n",
       "    comm.on_msg(function(msg) {\n",
       "        //console.log('receiving', msg['content']['data'], msg);\n",
       "        // Pass the mpl event to the overriden (by mpl) onmessage function.\n",
       "        ws.onmessage(msg['content']['data'])\n",
       "    });\n",
       "    return ws;\n",
       "}\n",
       "\n",
       "mpl.mpl_figure_comm = function(comm, msg) {\n",
       "    // This is the function which gets called when the mpl process\n",
       "    // starts-up an IPython Comm through the \"matplotlib\" channel.\n",
       "\n",
       "    var id = msg.content.data.id;\n",
       "    // Get hold of the div created by the display call when the Comm\n",
       "    // socket was opened in Python.\n",
       "    var element = $(\"#\" + id);\n",
       "    var ws_proxy = comm_websocket_adapter(comm)\n",
       "\n",
       "    function ondownload(figure, format) {\n",
       "        window.open(figure.imageObj.src);\n",
       "    }\n",
       "\n",
       "    var fig = new mpl.figure(id, ws_proxy,\n",
       "                           ondownload,\n",
       "                           element.get(0));\n",
       "\n",
       "    // Call onopen now - mpl needs it, as it is assuming we've passed it a real\n",
       "    // web socket which is closed, not our websocket->open comm proxy.\n",
       "    ws_proxy.onopen();\n",
       "\n",
       "    fig.parent_element = element.get(0);\n",
       "    fig.cell_info = mpl.find_output_cell(\"<div id='\" + id + \"'></div>\");\n",
       "    if (!fig.cell_info) {\n",
       "        console.error(\"Failed to find cell for figure\", id, fig);\n",
       "        return;\n",
       "    }\n",
       "\n",
       "    var output_index = fig.cell_info[2]\n",
       "    var cell = fig.cell_info[0];\n",
       "\n",
       "};\n",
       "\n",
       "mpl.figure.prototype.handle_close = function(fig, msg) {\n",
       "    fig.root.unbind('remove')\n",
       "\n",
       "    // Update the output cell to use the data from the current canvas.\n",
       "    fig.push_to_output();\n",
       "    var dataURL = fig.canvas.toDataURL();\n",
       "    // Re-enable the keyboard manager in IPython - without this line, in FF,\n",
       "    // the notebook keyboard shortcuts fail.\n",
       "    IPython.keyboard_manager.enable()\n",
       "    $(fig.parent_element).html('<img src=\"' + dataURL + '\">');\n",
       "    fig.close_ws(fig, msg);\n",
       "}\n",
       "\n",
       "mpl.figure.prototype.close_ws = function(fig, msg){\n",
       "    fig.send_message('closing', msg);\n",
       "    // fig.ws.close()\n",
       "}\n",
       "\n",
       "mpl.figure.prototype.push_to_output = function(remove_interactive) {\n",
       "    // Turn the data on the canvas into data in the output cell.\n",
       "    var dataURL = this.canvas.toDataURL();\n",
       "    this.cell_info[1]['text/html'] = '<img src=\"' + dataURL + '\">';\n",
       "}\n",
       "\n",
       "mpl.figure.prototype.updated_canvas_event = function() {\n",
       "    // Tell IPython that the notebook contents must change.\n",
       "    IPython.notebook.set_dirty(true);\n",
       "    this.send_message(\"ack\", {});\n",
       "    var fig = this;\n",
       "    // Wait a second, then push the new image to the DOM so\n",
       "    // that it is saved nicely (might be nice to debounce this).\n",
       "    setTimeout(function () { fig.push_to_output() }, 1000);\n",
       "}\n",
       "\n",
       "mpl.figure.prototype._init_toolbar = function() {\n",
       "    var fig = this;\n",
       "\n",
       "    var nav_element = $('<div/>')\n",
       "    nav_element.attr('style', 'width: 100%');\n",
       "    this.root.append(nav_element);\n",
       "\n",
       "    // Define a callback function for later on.\n",
       "    function toolbar_event(event) {\n",
       "        return fig.toolbar_button_onclick(event['data']);\n",
       "    }\n",
       "    function toolbar_mouse_event(event) {\n",
       "        return fig.toolbar_button_onmouseover(event['data']);\n",
       "    }\n",
       "\n",
       "    for(var toolbar_ind in mpl.toolbar_items){\n",
       "        var name = mpl.toolbar_items[toolbar_ind][0];\n",
       "        var tooltip = mpl.toolbar_items[toolbar_ind][1];\n",
       "        var image = mpl.toolbar_items[toolbar_ind][2];\n",
       "        var method_name = mpl.toolbar_items[toolbar_ind][3];\n",
       "\n",
       "        if (!name) { continue; };\n",
       "\n",
       "        var button = $('<button class=\"btn btn-default\" href=\"#\" title=\"' + name + '\"><i class=\"fa ' + image + ' fa-lg\"></i></button>');\n",
       "        button.click(method_name, toolbar_event);\n",
       "        button.mouseover(tooltip, toolbar_mouse_event);\n",
       "        nav_element.append(button);\n",
       "    }\n",
       "\n",
       "    // Add the status bar.\n",
       "    var status_bar = $('<span class=\"mpl-message\" style=\"text-align:right; float: right;\"/>');\n",
       "    nav_element.append(status_bar);\n",
       "    this.message = status_bar[0];\n",
       "\n",
       "    // Add the close button to the window.\n",
       "    var buttongrp = $('<div class=\"btn-group inline pull-right\"></div>');\n",
       "    var button = $('<button class=\"btn btn-mini btn-primary\" href=\"#\" title=\"Stop Interaction\"><i class=\"fa fa-power-off icon-remove icon-large\"></i></button>');\n",
       "    button.click(function (evt) { fig.handle_close(fig, {}); } );\n",
       "    button.mouseover('Stop Interaction', toolbar_mouse_event);\n",
       "    buttongrp.append(button);\n",
       "    var titlebar = this.root.find($('.ui-dialog-titlebar'));\n",
       "    titlebar.prepend(buttongrp);\n",
       "}\n",
       "\n",
       "mpl.figure.prototype._root_extra_style = function(el){\n",
       "    var fig = this\n",
       "    el.on(\"remove\", function(){\n",
       "\tfig.close_ws(fig, {});\n",
       "    });\n",
       "}\n",
       "\n",
       "mpl.figure.prototype._canvas_extra_style = function(el){\n",
       "    // this is important to make the div 'focusable\n",
       "    el.attr('tabindex', 0)\n",
       "    // reach out to IPython and tell the keyboard manager to turn it's self\n",
       "    // off when our div gets focus\n",
       "\n",
       "    // location in version 3\n",
       "    if (IPython.notebook.keyboard_manager) {\n",
       "        IPython.notebook.keyboard_manager.register_events(el);\n",
       "    }\n",
       "    else {\n",
       "        // location in version 2\n",
       "        IPython.keyboard_manager.register_events(el);\n",
       "    }\n",
       "\n",
       "}\n",
       "\n",
       "mpl.figure.prototype._key_event_extra = function(event, name) {\n",
       "    var manager = IPython.notebook.keyboard_manager;\n",
       "    if (!manager)\n",
       "        manager = IPython.keyboard_manager;\n",
       "\n",
       "    // Check for shift+enter\n",
       "    if (event.shiftKey && event.which == 13) {\n",
       "        this.canvas_div.blur();\n",
       "        event.shiftKey = false;\n",
       "        // Send a \"J\" for go to next cell\n",
       "        event.which = 74;\n",
       "        event.keyCode = 74;\n",
       "        manager.command_mode();\n",
       "        manager.handle_keydown(event);\n",
       "    }\n",
       "}\n",
       "\n",
       "mpl.figure.prototype.handle_save = function(fig, msg) {\n",
       "    fig.ondownload(fig, null);\n",
       "}\n",
       "\n",
       "\n",
       "mpl.find_output_cell = function(html_output) {\n",
       "    // Return the cell and output element which can be found *uniquely* in the notebook.\n",
       "    // Note - this is a bit hacky, but it is done because the \"notebook_saving.Notebook\"\n",
       "    // IPython event is triggered only after the cells have been serialised, which for\n",
       "    // our purposes (turning an active figure into a static one), is too late.\n",
       "    var cells = IPython.notebook.get_cells();\n",
       "    var ncells = cells.length;\n",
       "    for (var i=0; i<ncells; i++) {\n",
       "        var cell = cells[i];\n",
       "        if (cell.cell_type === 'code'){\n",
       "            for (var j=0; j<cell.output_area.outputs.length; j++) {\n",
       "                var data = cell.output_area.outputs[j];\n",
       "                if (data.data) {\n",
       "                    // IPython >= 3 moved mimebundle to data attribute of output\n",
       "                    data = data.data;\n",
       "                }\n",
       "                if (data['text/html'] == html_output) {\n",
       "                    return [cell, data, j];\n",
       "                }\n",
       "            }\n",
       "        }\n",
       "    }\n",
       "}\n",
       "\n",
       "// Register the function which deals with the matplotlib target/channel.\n",
       "// The kernel may be null if the page has been refreshed.\n",
       "if (IPython.notebook.kernel != null) {\n",
       "    IPython.notebook.kernel.comm_manager.register_target('matplotlib', mpl.mpl_figure_comm);\n",
       "}\n"
      ],
      "text/plain": [
       "<IPython.core.display.Javascript object>"
      ]
     },
     "metadata": {},
     "output_type": "display_data"
    },
    {
     "data": {
      "text/html": [
       "<img src=\"data:image/png;base64,iVBORw0KGgoAAAANSUhEUgAAA8AAAAHgCAYAAABq5QSEAAAgAElEQVR4nOydeXiU5dm377ArolhRKqAkM891g9paRO0r1ta6s1VQEMLi0mq12ip1q+CKaF2oVq27Vlv9qli1rb5WELUgKCq4VHG3vC6gqEO0GncBr++PZxIDsiSQxwn5nedxnIdOMmQGTrhurllCCAAAAAAAAAAAAAAAAAAAAAAAAAAAAAAAAAAAAAAAAAAAAAAAAAAAAAAAAAAAAAAAAAAAAAAAAAAAAAAAAAAAAAAAAAAAAAAAAAAAAAAAAAAAAAAAAAAAAAAAAAAAAAAAAAAAAAAAAAAAAAAAAAAAAAAAAAAAAAAAAAAAAAAAAAAAAAAAAAAAAAAAAAAAAAAAAAAAAAAAAAAAAAAAAAAAAAAAAAAAAAAAAAAAAAAAAAAAAAAAAAAAAAAAAAAAAAAAAAAAAAAAAAAAAAAAAAAAAAAAAAAAAAAAAAAAAAAAAAAAAAAAAAAAAAAAAAAAAAAAAAAAAAAAAAAAAAAAAAAAAAAAAAAAAAAAAAAAAAAAAAAAAAAAAAAAAAAAAAAAAAAAAAAAAAAAAAAAAAAAAAAAAAAAAAAAAAAAAAAAAAAAAAAA0FSJMY4zs9kxxllmdtHynzez35jZo2Y2PcY4JcbYNYQQcrncDjHGh8zsgRjj/blcbstv/t4DAAAAAAAA1INcLrejmT0VQmgTQigzs3vz+fzgms937969wszuCyG0CCGEGOOZZvaHEEIws+eSJOkTQghJkhxoZneW4KcAAAAAAAAAsHqSJDnDzCbUuXxYjPHalVy9hZldH2M8vqKioruZza/zuTZm9nEoLsoAAAAAAAAATQozuzpJkqPqXB4QY5yy/PWSJDk2xvhajPHWEEKLJEn6xBjnLPe1ChUVFZ2/gbsNAAAAAAAA0DBWsAAPjDFOXsnVy8zsd2b2hxUtwDHGqnw+v1mmdxgAAAAAAABgTTCzU83s7JrLSZIcaWZX1VyuqKjoXvM+3+Lne5vZMzHGrjHGN2s+3qVLl/VjjB+GEMpWd5tLliz1QqEaRaS3lvTWkt5a0ltLemvZiOsFQNPGzHqZ2TPl5eXtQgitzGxGPp/vW/P54jfJerlbt27rFa9/TIzxluL/P2lmPyr+/xE1H18d7u6LFpX+Dzpm76JF1U5vHemtJb21pLeW9NZy0SIWYBDDzMaY2WwzezjGeGbxY5OSJOlW/P+ji59/wMym1ny8oqJi2xjjg2Y2I8Y4ub7v/2Wg6sgBqiW9taS3lvTWkt5asgADZAwDVUcOUC3prSW9taS3lvTWkgUYIGMYqDpygGpJby3prSW9taS3lizAABnDQNWRA1RLemtJby3prSW9tWQBBsgYBqqOHKBa0ltLemtJby3prSULMEDGMFB15ADVkt5a0ltLemtJby1ZgAEyhoGqIweolvTWkt5a0ltLemvJAgyQMQxUHTlAtaS3lvTWkt5a0ltLFmCAjGGg6sgBqiW9taS3lvTWsin3PvXUM7yycqTvt98Q32abbbyycqRXVo706667sd5f44Ybbl7t9U899QyfOfPRtb6/5513gZ911rkl/3VbXe9S7wcAzZqmOlAxm4FKbx3prSW9taS3lutC77lzX/I+fXYu+f1YnSzAAMACLOS6cIAivZHeSG9c93qvaAE+77wL/JhjjvXKypE+ffrDPn36wz5kyAE+cuRoHzRoP58y5V+116tZSr/3vV5+2WVX+4gRo32vvfb2++6b6YVCtQ8fPsL/+c97ferU6T569MF+4oljfejQYT5o0H7+0kuve6FQ7ddff6P37dvPR4060M85Z6IPHz7ia/dzZQvwggUFP+aYY/2AA4b70KHD/IILLvZCodpfeOEVHzFilA8fPsL322+IX3XVdV4oVPuVV17rgwYN9srKkT569EH+4ouvNmrvUu8HAM2apj5QsfFcFw5QpDfSG+mN9e898MZB3mZCm0wceOOget/HlS3AQ4YcUHv5b3/7X3/ooTleKFT7fffN8H33HVx7vZqltEePHv6Pf9zthUK1X3vtn/3ww4/0QmHZBXi77bbzF154xQuFaj/qqKP9yiv/6K+99pbvsMOO/vLL871QqPZf/OKXXlk58mv3c2UL8EUXXeq/+c04LxSq/a23/usDBgz0adNm+WWXXe0nnHCSFwrVvnDhe3755dd4oVDtvXtv788/n96HqVOn+8yZsxu1d6n3A4BmDQeojvyFSUt6a0lvLemt5bq8AJ9++oTayzNnzvaDDjrEhw2r9EGD9vNdd92t9np1F+D58wteKFT7XXdN9REjRnmhsOwCPGjQ4NqvOWHCOT5x4u995szZ3r//wNqPT5p0e4MW4EMPPdxvu+2O2svjxp3ql19+jT/++DO+++57+pgxx/mkSbf7m2++64VCtZ9++gTv33+gT5z4e58z5+lG713q/QCgWcMBqiN/YdKS3lrSW0t6a7ku9F7ZAlx32dxzz7387rvv9UKh2mfNenylC3DNknnXXVNrl9i6C/D++w+t/ZoTJpzj559/oc+Y8YgPGLDmC/Bhhx2xzAI8duwpfsUV6bO9b731X7/nnmk+duwpPmDAQH/nnQ+8UKj2Z5/9j//xjzd43779/JZb/t6ovUu9HwA0a5r6QMXGc104QJHeSG+kN657vdMFuM8yH1t+2ezdu3fty4bHjz/bd975B1+73pouwPPmLfDtt9/BX3lloRcK6UujG7IAX3zxZbUvdX7jjSrv27efz5w522+++Ta///6Ztdfbffc9/JVXFvq55/6udhG+4Yab/bTTzmzU3qXeDwCaNU19oGLjuS4coEhvpDfSG9e93vV5Bvjiiy/zvffu6wceeIhPmfIv33vvvn7aaeP9/PMvrL1ez549V7gAV1aOXOUCXChU+yWXXOH77NPXDznkZ37WWef6qFEHfu1+nnfeBf6jH+3qlZUjffjwEV5ZOdLvvHOKL1iwyMeMOc4POGC477ffEL/00iu9UEifqd5//6E+fPgIHzas0i+++DIvFKr9jDPO8p/8ZJCPHDnaR48+yJ9++sVG7V3q/QCgWdPUByo2nuvCAYr0RnojvZHea+L/+3+3+Lx5C7xQqPYLL7zEx407teT3aU17l3o/AGjWMFB15ADVkt5a0ltLemtJ7/p5zTXXe//+A33YsEofPfqg2pdbr2uyAANkDANVRw5QLemtJb21pLeW9NaSBRggYxioOnKAaklvLemtJb21pLeWLMAAGcNA1ZEDVEt6a0lvLemtJb21ZAEGyBgGqo4coFrSW0t6a0lvLemtJQswQMYwUHXkANWS3lrSW0t6a0lvLVmAATKGgaojB6iW9NaS3lrSW0t6a8kCDJAxDFQdOUC1pLeW9NaS3lo25d7DhlX6bbfdsczH3n77fd9llx/6o48+udIf9+tfH+/XXvtnf/HFV/3ww3+xwuv06dPH5859eZW3f9NNt/rbb7/vhUK1V1aO9IUL31vrn9Pw4SP8n/+8t6S9S70fADRrmupAxWwGKr11pLeW9NaS3lo25d433jjJDznk0GU+dtddU33w4P1X+eNqFuBVXadPn51XuwDvvvue/uab7zbqz4kFGKCZ01QHKmYzUOmtI721pLeW9NayKfdesGCRf//7/+MvvfRa7ceOPPJXft11N3qhUO3/+Mfdvv/+Q33EiNE+ZMhQf/jhJ7xQ+GoBnjv3Je/Tp48XCtX+738/74MH7+/DhlX6aaeNr12AFyxY5Ece+UsfMWKUDx68v59++gQvFKr93HN/5z169PBhwyr95Zfne48ePfzNN9/1BQsKfswxx/oBBwz3oUOH+QUXXOyFQrVPnTrdR48+2E88cawPHTrMBw3az1966fWv/ZxWtgD/+9/P+8iRo72ycqQPGXKA33nn5NqvO3jw/j5ixCgfMmSo33ffTH/77ff92GNP8CFDhvrQocP8+ON/4++880G9e5d6PwBo1jTVgYqNb1M+QJHeSG+kNza892cDB/mXbdpk4mcDB9Xr/o0de4pffPHlXihU+6uvLvTvf/9//PXX3/FCodpvuOFmf/rpF71QSJ8tPuKIo7xQWH4B3tkLhWo/+ugxfuWVf/RCodqnTZvlPXv29LlzX/ann37R//znm2pvb/fd9/DZs5/yQqHae/ToUfuy5549e/qbb77rF110qf/mN+O8UKj2t976rw8YMNCnTZvlU6dO9+22285feOEVLxSq/aijjq69vbqubAE+6KBDfNKkv3mhUO3PP/9/3qdPH1+woOCHHnq433TTrV4oVPvcuS/7X//6d58163Hfffc9a3/sDTfc7C+/PL/evUu9HwA0azhAdeQvTFrSW0t6a0lvLZv6AvzQQ3O8b99+XihU+zXX/MmPO+7E2s/dffe9PmLEaB82rNL79RvglZUjvVBY8QLcr19/nzXr8dof+73v9ap9Bnjs2FN8yJChPnz4CO/du7ffe+8DXihU1z7rWyh8tQAfeujhy7wvedy4U/3yy6/xqVOn+6BBg2s/PmHCOT5x4u+/9vNZ2QLcu/f2Pm/egtrL/fr194cffsJvueXv/uMf7+annXam33PPNC8Uqv2NN6r8gAOG+0EHHeJXXvnHFT7TvKrepd4PAJo1HKA68hcmLemtJb21pLeW60Lvn/xkkM+c+agPGTLUp02b5YVCtS9c+J5vt912/vjjc71QqPa//e1/V7kA9+3bzx955KtvnLXtttv63Lkv+4UX/sGPPnpM7ccHDBi4zAK8/DPAhx12xDIL8Nixp/gVV6QL8P77D639+IQJ5/j551/4tZ/LyhbgHXbYcZkFeJ99+tbe31dfXei33XaHH3zwT/2kk06pvc6sWY/7BRdc7Lvu+mP/97+fr3fvUu8HAM2apj5QsfFcFw5QpDfSG+mN617va6653n/1qzHer1//2o/Nm/eG9+q1nS9c+J4vXPie//KXx/iQIekCuqIF+Mgjf+lXX329FwrVfu+9D9S+BPrkk0/3Cy+8xAuFap827SHv3Xt7v/vudEHt2bOnz59f8ELhq2eDL774Mj/hhJO8UEifie3bt5/PnDl7rRfgQw75mf/lL+lLnZ966gX/wQ928TfeqPJzz/1d7cub58592QcO3NcffHCO/+lPf6n9sb/+9fH+97//s969S70fADRrmvpAxcZzXThAkd5Ib6Q3rnu9X311oX/ve9/zyy67epmPn3zyad6//0A/5JCf+X33zfBddvmhX3rplStcgB97bK7vu+9gHzXqQD/llDN8111387lzX/ZHHnnS99mnr48YMcrPPfd3PnHi732vvfb2efMW+CGH/Mz79u3njz02t/YZ4AULFvmYMcf5AQcM9/32G+KXXnqlFwrVDVqA+/cf6JWVI3348BFeWTnSn3/+FX/qqRd81KgDffjwET5kyFCfPPl+LxSq/S9/udUHDtzXR4wY5cOGVfpdd031V15Z6Ice+nMfMmSojxgxyo8++tf1/m7VLMAAGdPUByo2nuvCAYr0RnojvZHeyrIAA2QMA1VHDlAt6a0lvbWkt5b01pIFGCBjGKg6coBqSW8t6a0lvbWkt5YswAAZw0DVkQNUS3prSW8t6a0lvbVkAQbIGAaqjhygWtJbS3prSW8t6a0lCzBAxjBQdeQA1ZLeWtJbS3prSW8tWYABMoaBqiMHqJb01pLeWtJbS3pryQIMkDEMVB05QLWkt5b01pLeWtJbSxZggIxhoOrIAaolvbWkt5b01pLeWrIAA2QMA1VHDlAt6a0lvbWkt5b01pIFGCBjGKg6coBqSW8t6a0lvbWkt5YswAAZw0DVkQNUS3prSW8t6a0lvbVkAQbIGAaqjhygWtJbS3prSW8t6a0lCzBAxjBQdeQA1ZLeWtJbS3prSW8tWYABMoaBqiMHqJb01pLeWtJbS3pryQIMkDEMVB05QLWkt5b01pLeWtJbSxZggIxhoOrIAaolvbWkt5b01pLeWrIAA2QMA1VHDlAt6a0lvbWkt5b01pIFGCBjGKg6coBqSW8t6a0lvbWkt5YswAAZw0DVkQNUS3prSW8t6a0lvbVkAQbIGAaqjhygWtJbS3prSW8t6a0lCzBAxjBQdeQA1ZLeWtJbS3prSW8tWYABMoaBqiMHqJb01pLeWtJbS3pryQIMcsQYx5nZ7BjjLDO7aAWfPzjGOMfMZprZXeXl5R2LH3/NzB42s+kxxmlmdnR9bo+BqiMHqJb01pLeWtJbS3pryQIMUuRyuR3N7KkQQpsQQpmZ3ZvP5wfXfD6fz29hZm9suummG4QQQozxwhjjmcX/fzWfz2/R0NtkoOrIAaolvbWkt5b01pLeWrIAgxRJkpxhZhPqXD4sxnht3evULL/Fz58UY7w8hHQBzuVyWzb0NhmoOnKAaklvLemtJb21pLeWLMAghZldnSTJUXUuD4gxTlnRdbt27bqJmf0nl8vtGEK6AJvZpOJLoO/I5XJWn9tkoOrIAaolvbWkt5b01pLeWrIAgxQrWIAHxhgnL3+9fD6/RYxxbpIko2s+liTJ6IqKiu7FH3dIjHFOfW7T3b2qKv3Dhs3bqqr0AKW3hvTWkt5a0ltLemtZVcUCDEKY2almdnbN5SRJjjSzq+peJ5fLbRljfMHMBqzs63Tp0mX9GOPn9blNBwAAAACAJsOabxMA6xhm1svMnikvL28XQmhlZjPy+XzfOlcpizHOyeVye9T9ceXl5R1jjA926tSpQwghJEkyyMxm1+c23XlEUUUeQdaS3lrSW0t6a0lvLXkGGOQwszFmNtvMHq75Ds9mNilJkm4xxj1jjB8W/5mjmn/u6JLidY4wsyeLH/9XeXl5z/rcnjvvKVFx0SLeQ6QkvbWkt5b01pLeWi5axAIMkCkMVB05QLWkt5b01pLeWtJbSxZggIxhoOrIAaolvbWkt5b01pLeWrIAA2QMA1VHDlAt6a0lvbWkt5b01pIFGCBjGKg6coBqSW8t6a0lvbWkt5YswAAZw0DVkQNUS3prSW8t6a0lvbVkAQbIGAaqjhygWtJbS3prSW8t6a0lCzBAxjBQdeQA1ZLeWtJbS3prSW8tWYABMoaBqiMHqJb01pLeWtJbS3pryQIMkDEMVB05QLWkt5b01pLeWtJbSxZggIxhoOrIAaolvbWkt5b01pLeWrIAA2QMA1VHDlAt6a0lvbWkt5b01pIFGCBjGKg6coBqSW8t6a0lvbWkt5YswAAZw0DVkQNUS3prSW8t6a0lvbVkAQbIGAaqjhygWtJbS3prSW8t6a0lCzBAxjBQdeQA1ZLeWtJbS3prSW8tWYABMoaBqiMHqJb01pLeWtJbS3pryQIMkDEMVB05QLWkt5b01pLeWtJbSxZggIxhoOrIAaolvbWkt5b01pLeWrIAA2QMA1VHDlAt6a0lvbWkt5b01pIFGCBjGKg6coBqSW8t6a0lvbWkt5YswAAZw0DVkQNUS3prSW8t6a0lvbVkAQbIGAaqjhygWtJbS3prSW8t6a0lCzBAxjBQdeQA1ZLeWtJbS3prSW8tWYABMoaBqiMHqJb01pLeWtJbS3pryQIMkDEMVB05QLWkt5b01pLeWtJbSxZggIxhoOrIAaolvbWkt5b01pLeWrIAA2QMA1VHDlAt6a0lvbWkt5b01pIFGCBjGKg6coBqSW8t6a0lvbWkt5YswAAZw0DVkQNUS3prSW8t6a0lvbVkAQbIGAaqjhygWtJbS3prSW8t6a0lCzBAxjBQdeQA1ZLeWtJbS3prSW8tWYABMoaBqiMHqJb01pLeWtJbS3pryQIMkDEMVB05QLWkt5b01pLeWtJbSxZggIxhoOrIAaolvbWkt5b01pLeWrIAA2QMA1VHDlAt6a0lvbWkt5b01pIFGCBjGKg6coBqSW8t6a0lvbWkt5YswAAZw0DVkQNUS3prSW8t6a0lvbVkAQbIGAaqjhygWtJbS3prSW8t6a0lCzBAxjBQdeQA1ZLeWtJbS3prSW8tWYABMoaBqiMHqJb01pLeWtJbS3pryQIMkDEMVB05QLWkt5b01pLeWtJbSxZggIxhoOrIAaolvbWkt5b01pLeWrIAA2QMA1VHDlAt6a0lvbWkt5b01pIFGCBjGKg6coBqSW8t6a0lvbWkt5YswAAZw0DVkQNUS3prSW8t6a0lvbVkAQbIGAaqjhygWtJbS3prSW8t6a0lCzBAxjBQdeQA1ZLeWtJbS3prSW8tWYABMoaBqiMHqJb01pLeWtJbS3pryQIMkDEMVB05QLWkt5b01pLeWtJbSxZggIxhoOrIAaolvbWkt5b01pLeWrIAA2QMA1VHDlAt6a0lvbWkt5b01pIFGCBjGKg6coBqSW8t6a0lvbWkt5YswAAZw0DVkQNUS3prSW8t6a0lvbVkAQbIGAaqjhygWtJbS3prSW8t6a0lCzDIEWMcZ2azY4yzzOyiFXz+4BjjHDObaWZ3lZeXdwwhhFwut0OM8SEzeyDGeH8ul9uyPrfHQNWRA1RLemtJby3prSW9tWQBBilyudyOZvZUCKFNCKHMzO7N5/ODaz6fz+e3MLM3Nt100w1CCCHGeGGM8cwQQjCz55Ik6RNCCEmSHGhmd9bnNhmoOnKAaklvLemtJb21pLeWLMAgRZIkZ5jZhDqXD4sxXlv3OjXLb/HzJ8UYL6+oqOhuZvPrXK2NmX0cQmixuttkoOrIAaolvbWkt5b01pLeWrIAgxRmdnWSJEfVuTwgxjhlRdft2rXrJmb2nxjj95Mk6RNjnLPc1ypUVFR0Xt1tMlB15ADVkt5a0ltLemtJby1ZgEGKFSzAA2OMk5e/Xj6f3yLGODdJktEhhLCiBTjGWJXP5zdb3W26u1dVpX/YsHlbVZUeoPTWkN5a0ltLemtJby2rqliAQQgzO9XMzq65nCTJkWZ2Vd3r5HK5LWOML5jZgDrX62Zmb9Rc7tKly/oxxg9DCGWru00HAAAAAIAmQyOtFgBNHzPrZWbPlJeXtwshtDKzGfl8vm+dq5TFGOfkcrk9VvBjnzSzHxX//4gY4y31uU13HlFUkUeQtaS3lvTWkt5a0ltLngEGOcxsjJnNNrOH63yH50lJknSLMe4ZY/wwxjjNzKYX/3tJCCFUVFRsG2N80MxmxBgn1+f9vyE07D3AYXyotdTvj8A1e09JQ3rjui29taS3lvTWkt5aLlrEAgyQKSzAOnKAaklvLemtJb21pLeWLMAAGcMCrCMHqJb01pLeWtJbS3pryQIMkDENGaibnNmpdgHueeE2JR8Q2PCBygGqI721pLeW9NaS3lqyAANkTEMHKs8Cr7tygGpJby3prSW9taS3lizAABnDAqwjB6iW9NaS3lrSW0t6a8kCDJAxLMA6coBqSW8t6a0lvbWkt5YswAAZ09CB2nZ8u9oFeK+r+5Z8SGDDBioHqI701pLeWtJbS3pryQIMkDFrMlB5FnjdlANUS3prSW8t6a0lvbVkAQbIGBZgHTlAtaS3lvTWkt5a0ltLFmCAjGEB1pEDVEt6a0lvLemtJb21ZAEGyJg1GagtxreoXYCH/3lUyQcF1n+gcoDqSG8t6a0lvbWkt5YswAAZs6YDlWeB1z05QLWkt5b01pLeWtJbSxZggIxhAdaRA1RLemtJby3prSW9tWQBBsgYFmAdOUC1pLeW9NaS3lrSW0sWYICMaYwF+Fe3HVfyYYH1G6gcoDrSW0t6a0lvLemtJQswQMaszUDlWeB1Sw5QLemtJb21pLeW9NaSBRggY1iAdeQA1ZLeWtJbS3prSW8tWYABMoYFWEcOUC3prSW9taS3lvTWkgUYIGMaawGeMHliyQcGrn6gcoDqSG8t6a0lvbWkt5YswAAZs7YDlWeB1x05QLWkt5b01pLeWtJbSxZggIxhAdaRA1RLemtJby3prSW9tWQBBsgYFmAdOUC1pLeW9NaS3lrSW0sWYICMacwFePLkaSUfGrjqgcoBqiO9taS3lvTWkt5asgADZExjDFSeBV435ADVkt5a0ltLemtJby1ZgAEyhgVYRw5QLemtJb21pLeW9NaSBRggY1iAdeQA1ZLeWtJbS3prSW8tWYABMqaxF2DeB9x05QDVkt5a0ltLemtJby1ZgAEyprEGKs8CN305QLWkt5b01pLeWtJbSxZggIxhAdaRA1RLemtJby3prSW9tWQBBsgYFmAdOUC1pLeW9NaS3lrSW0sWYICMYQHWkQNUS3prSW8t6a0lvbVkAQbImMYaqJMnT2MJbuJygGpJby3prSW9taS3lizAABnTmAOVBbhpywGqJb21pLeW9NaS3lqyAANkDAuwjhygWtJbS3prSW8t6a0lCzBAxrAA68gBqiW9taS3lvTWkt5asgADZExjDlTeB9y05QDVkt5a0ltLemtJby1ZgAEyprEHKgtw05UDVEt6a0lvLemtJb21ZAEGyBgWYB05QLWkt5b01pLeWtJbSxZggIxhAdaRA1RLemtJby3prSW9tWQBBsiYxh6ovA+46coBqiW9taS3lvTWkt5asgADZEwWA5UFuGnKAaolvbWkt5b01pLeWrIAA2QMC7COHKBa0ltLemtJby3prSULMEDGsADryAGqJb21pLeW9NaS3lqyAANkTBYDdcLkiSzBTVAOUC3prSW9taS3lvTWkgUYIGOyGqgswE1PDlAt6a0lvbWkt5b01pIFGCBjWIB15ADVkt5a0ltLemtJby1ZgAEyhgVYRw5QLemtJb21pLeW9NaSBRggYxoyUJeE4F+G4F+E1S+1v7rtOJbgJiYHqJb01pLeWtJbS3pryQIMkDENGahLQ3AvLsGFzTdf7fVZgJuWHKBa0ltLemtJby3prSULMEDGNGig7tXXv6y7BK/m+izATUsOUC3prSW9taS3lvTWkgUYIGMaOlA/Ly6/HoIvWc0SXHcBZgkuvRygWtJbS3prSW8t6a0lCzBAxqzJQK37UugPVrEET5kynSW4CckBqiW9taS3lvTWkt5asgADZMwaDdTJ05Z9KfTkaSu97tlTLlDWVfAAACAASURBVGAJbiJygGpJby3prSW9taS3lizAABmzpgP14zovhV66mpdCH3P7CSzBTUAOUC3prSW9taS3lvTWkgUY5IgxjjOz2THGWWZ20fKfT5KkrZn9wcy+DCG0qfPjXjOzh81seoxxmpkdXZ/bW5uBuqTOs8CfsgQ3eTlAtaS3lvTWkt5a0ltLFmCQIpfL7WhmT4V0sS0zs3vz+fzgutcxsz8nSXKgmS0Nyy7Ar+Tz+S0aeptrO1CXeSn0hImrvO6IGw5kCS7xQOUA1ZHeWtJbS3prSW8tWYBBiiRJzjCzCXUuHxZjvLbudTp16tQhhBBW8Azwq7lcbsuG3ubaDtT3WrSo90uhC4Vq3+ea/izBJRyoHKA60ltLemtJby3prSULMEhhZlcnSXJUncsDYoxTVnLd5Z8BftXMJhVfAn1HLpez+txmYwzUxcVngL8Mwb+oxxK89e+/yxJcooHKAaojvbWkt5b01pLeWrIAgxQrWIAHxhgnr+S6yyzASZKMrqio6F783CExxjn1uU1396qq9A/b2lj3pdCLttpmtdevOD/3tSV4be8DrtqqqvQAbYze2PSlt5b01pLeWtJby6oqFmAQwsxONbOzay4nSXKkmV21kususwDXpUuXLuvHGD+vz216Y7Httu7FJdjr+WW7Tez2tSUYAAAAAECZNVokANZFzKyXmT1TXl7eLoTQysxm5PP5viu5bu17gMvLyzvGGB+seX9wkiSDzGx2fW7TvfEeUfyizkuhF4f6PaPbcfzGPBP8DT6i2Ji9sWlLby3prSW9taS3ljwDDHKY2Rgzm21mD8cYzyx+bFKSJN2K/z/VzKab2VIzeyDG+Nfix48wsyeL7wH+V3l5ec/63J57476nZGmdl0K/26p1vX5Mu/Hr8Z7gb+g9JY3dG5uu9NaS3lrSW0t6a7loEQswQKY0+kCdMHHZfxqpnj+u5fiWLMHfwEDlANWR3lrSW0t6a0lvLVmAATImi4H6aXH59RB8SQOW4OUXYBbhxh+oHKA60ltLemtJby3prSULMEDGZDVQ674U+uMGLMG5iQmLcIYDlQNUR3prSW8t6a0lvbVkAQbImMwG6uRpy7wU+rMGLMGFQrV3GN+BRTiDgcoBqiO9taS3lvTWkt5asgADZEyWA/WDOi+F/rKBL4eusWx8GYtwIw5UDlAd6a0lvbWkt5b01pIFGCBjMh+oHTeuXYJrvzFWly4N/jorW4JZhBs2UDlAdaS3lvTWkt5a0ltLFmCAjPmmBurS5Z4N/mINng0uFFiE13agcoDqSG8t6a0lvbWkt5YswAAZ800O1M+WW4KXhuCFKdPX6GutahFmGV75QOUA1ZHeWtJbS3prSW8tWYABMuYbH6g7/eBrL4l+r2XLNf56q1uEWYaXHagcoDrSW0t6a0lvLemtJQswQMaUaqAuWe7Z4MVr+JLoGg/8fz9lGa7HQOUA1ZHeWtJbS3prSW8tWYABMqaUA/WTFb0k+uwL1vrrHvf3sfVahg/+y6ElH3Lf9EDlANWR3lrSW0t6a0lvLVmAATKm5AP1mBO+9g2yPlrLZ4Pret7Ui+u1DIfxwbc8r3vJh17WA7XkvZHeSG+kN9IbV9m71PsBQLOmqQzUxSt6NnjjbzXqbUydOqPey3AYH7zl+DV/b3JTlANUS3prSW8t6a0lvbVkAQbImKY0UD+oswRnuQjX2H78Bg1aiMP44L+549SS/zqtzUBtSr2R3khvpDfSG7/eu9T7AUCzpikO1MUrW4Q7dMj0dntdsn2DF+IwPnir8a1K/mtW34HaFHsjvZHeSG+kN37Vu9T7AUCzpikP1JUtwlXrrf+N3P4J/zh5jRbiGn928+El/zVcfqA25d5Ib6Q30hvprS4LMEDGrAsDtdSLcF17Xrj1Wi3FNd5//0MlGajrQm+kN9Ib6Y30VpUFGCBj1qWBurJF+N02bUt6v+6778FGWYprvPhfV2U2UNel3khvpDfSG+mtJgswQMasiwN1RYvwl3UW4sUheGHDDUt+P8feeXqjLsY1rjd+PX/nnQ/WaKCui71xzaS3lvTWkt5a0ltLFmCAjFmXB+oXyy3Cy7uixbg6NN6/Mbw2bv3772SyHC/vATdULjNQ1+Xe2DDprSW9taS3lvTWkgUYIGOaw0D9JARfUlxy6y69JVmMe+/onxfvz+cheGEN3ut78b+u+kaW4xV55F+PLnlPbBz5C5OW9NaS3lrSW0sWYICMabYDdeoM/6gRFuP3W7Zc9uv+9Of+2Uq+7oq+ft2vt6YL8Yrc8+p9SrYk13Wz327mDzzwaOl749fkL0xa0ltLemtJby1ZgAEyRnGgvh/KfPEaLsarul59rpvVQrwq4wU9Sr4or8iNJnT0q2b8ueS/H5qr/IVJS3prSW8t6a0lCzBAxjBQv7K6+Kzvqhbj5RfcpSF9Nrj2ZdT3PbjM1/xkua+3qoX4i6Kfh+CfheCfhuCfhOAfFb/2e+ut54XNOnvh+328cPJ4L/xrVoMHan1673zFD0u+HNfXduPb+cE3/6zkv3eaovyFSUt6a0lvLemtJQswQMYwUFfvh8XF9KMVLLgNdXULcUNc0cuvl4avXr79aQheOCD7b4J15QN/8rbj25V8Gc7KNuPbuF3Ywyfee3HJfy82RP7CpCW9taS3lvTWkgUYIGMYqKX107Dy9xLXx4YuyXX//eS6z15/FoK/1769F6Y/kv3Pe8C+/mFZmX9WfGChqk3wZzsFf3CL4JNzwe+IwW/vGfzWrYPfsnXwSduk//3r1unHbtsq+HW9gk/sE/ykPYIfNjD4fsOC73Fg8B1+Htx+FXyzE4K3PaX0y3NDbD2+tW989sbe6w+9fdydp/kjj/x7rX6d+QuTlvTWkt5a0ltLFmCAjGGgrsNOe9jfW399/yLU/5tyrcmzyo3t2jzr3VCXlAX/pFXwqvWC/1/H4I9vHvyefPA/fy/4ObsE/0X/4P1GBO9x1Lq3MGfh+me2967nd/Nef9jeD735CL91zv+W/vc51kv+gqwlvbWkt5YswAAZw0Bt5k5/ZJkl2cPqn3HOciFt6LK8dDU29sK9qvtQ82x5oU3wE3ZN33+80mXytOC5XwXfe1Twg/cNfuIewc/7QfCre6fPZE/NBX+ge/A7egT/0/eC/36n4KfsFvzI/sErhwTfc3Tw7X8evOKY4B1PCt7i9NIvx6Vws+OCH9E/+N4jgodx6cdajG/hbce39Y6/3dgrLsh5/2sH+nlTfu9PPPFc6f+81fjUi/5Rx45fe2Cq5vfRp23aeOHplxr1NvkLspb01pLeWrIAA2QMA1XHeh2g0x/xwuZd/dMQapfmFbm6xbTmeotD+k29Pg7BC0n0wozZ3+zP+8HHvNBrO/+keF/q3vesny3P4sGDxcVntN9rG3x+h+BPbxb8nlzwa7YLfuxewXc9MHi7k1e8TLY+NXj5mOD/c2jwAZXBDxwc/Jh9gp/+4+AX7hT82u2C3/yd4DdsG/ya3sEv2zH9+Lk/CH7mj4KfvHvwE/YKfkzfdFE/9Cfp19i3MvjOP0tfet7xpOBlDVzWW54WPH908L6jgh/dN/gfvh98Sj74vI3Tn2/Nz/+zlsFf2yj4I12D/6NH8Ct2SO/7zwcG/0ll8B0OC9712PTn+U0u6d3HBD9wUPCL/id9YOPlbwX/qPXqe37WMvgbHYI/tnnwv24V/MQ9g3c9ZtW3VTa+hbcc39LbntnWNzhrA+90bifv/rty/85F3/E9rtnLj7/7eJ80+28r/rNwwcX+8cYbL/OKkboP7HzespW/t1MfLzw7r3RzauJF/vHmXf3DrbbxqsFDvHDV9V544dWSz86mKAuRlvTWkgUYIGMYqDpygNbDnXfxT+u5LK9qyV3dM9orejChsRbqFb3n+5t86fnSEPzTlsH/2zb4gg7Bn+sU/KFu6dJ6VXGxvsuC/7tz8Lfapy9TX9nX+qRV8Fc6ptf7okX978N77dIF+rHNg9+bS591v3L79GXvJ+6ZLu/7Dwu+20HBex2RLuBbH5W+h/yHhwTfZ1T6vvKR+wc/7CfpYn7SHukDARN3Tpfvqbl0gV3ZfXh9w+B3J+n1DxocfPDw4Kf9OPjtWwX/z8Yr/jFLyoK/sEnwW7ZJXxEwZp/0tn/VL/hR/dMHHo4YEPzwgen9OvQnwX+6b/BDBqW3cWT/4Gfsmt6/23um76t/6Vvpr0d9f+0+axl84QbBn900+PTu6Xvur9g+/bpHDAg+ar/gw4YGHzQseP8R6asVdj04+E4/C77d4cG3PjJ4+dHBv31c8A5jg296QvBdDgk+anDwcbsHv+T76fv676tI+/xn4+DvrB/841Yr//30RYvgn7QM/mHr4O+3Df5uu/THvNU+/T32+obBX90ofZvDfzYO/uImwZ/vlH5vgac3S3+vPf7t4HM2D/5o1+APdwn+SJfgj3YJPrtL+vEnvh38yc7p9ed2Cv78JsFf2jj4/20YfMEGwd9sH3zh+sHf2aDMCx3b+vvf3tQ/2mEHf3fEgV74y61rP3vmveGFGyd51S/H+Ie77+Wf9tzKP9t8c/9iw418cdt2vrhlK1/SosUyc6Pm16ehr45Z5sHKsjJf0rq1L95gA/98i+7+8W67eeG3E73wysKv7tvsp/29E8b6pz/4kX++5Za+eMMNfUmbNr6kRYuV3uZXHy/zpS1a+JJWrX3Jeuv54o4b+xddu/nn3/muf7J3X68+aox/+Ktj/cODDvGPB+3vn+y5l3+60w/8s169/fOeW/sXubwv7raFL+78bV+8ySa+ZKOOvmSTTr64Sxf/orzCP+/R0z/rtZ1/uvMu/sle+/hHQ4b5h4cd4dW/OcXfu/ASL9x8uxceeMQLd031qj/d5O//4Qr/4Jzz/YOTT/fqX/7aP/zZ4f7RyFH+8X5D/JN+A/2TH+/un/5oV//wkMP8/auvW/bXQfH8fucDL7z2ti96/hWveuJZf/fBOf7e1On+3zsm+/s33+bvTmvYv0aB9e9d6v0AoFnDQqQjC3Aje+I4/zh89Ux5zbPd72+0kRcefrLxb++oMf5JWdnXnsGr77Jcn78Q1+fZ/axfdl5zPz5p1coLjz3z1c//jnu8epNOa/zzz8qPWqeL14wt05e4HzYw+Ja/Xv0zx5ucGHz/A9Jn2O+M6QMFn6xkCWwM/9s2XYYf2iL433sGv2r74L/rE/z6XsEnJ+kC+EaHZZ91/6Z9r136DPq8jdP7UrVe+uu7tET3pyEuLgte3SZ4Yb3g8zdMf0+8tlH6/29uEPzt9sEXrZf+HD9oky7zH7dKH3Ao5a/5ylwavrp/pb4vpbTmlTeftkz7vtsubTm/Q/pgy9zNynz2Fi18Vq6NP1be1p/u1sZf6NzK/9Oppb++cQt/c8Myf6d9mVfVaf9R6/QBnc9aBl/cIn3gq75ztSFvHVpSFnxJizJf0rJF0Za+tFVLX9qqlS9t3cqXtmntX7Zp41+2betftm3nX7Zbz5d8e3NfssWWvnSTTfzL9ddf/a9Pixa+6KXXSn8eNzNZgAEyhoVIRxZgIWP0z4p/Qflw/fW9cNqEb+62H3vGC9t/3z8LK38mvfa9sC1aeOHvkxv/Pow53j/acEP/fAX3YU2/6/ryDwQsDsE/3Kxz497vex7wz4rP8q3J/fSw7IMZn4Tgr3yrlZ/10+96nyt28dwFed/knE7e/qz23np8G285vqW3HN/KW4xv4WXjy7xsfJm3Pjn4vgcEn7BL8D9/N/iUXPpM6XOdigtdh/RZ1zc2SJ8pfqt9uhAU1g+1f8l/v226LHzUKl303mqfLraPbZ4+8ztpm/SZ4LG7Bx+5X/qy/A4nreIBg9ODr3dy8M7HB8//Kvi2RwTf6afB9zwwffn70KHpM9M/3Td9lvrovsGP2yv9+qf/OPjZPwx+/s7Bf/8/wS/dMV3+r+6dvuz/ul7p+/Bv2Db4//tu8Ju+U/zO89uk33X+9q2C/61n8H9a8Psr0lczPPHt9BnyeRuny+277dbswYslZcE/b5H+2A9bp79+b3RIv+5zndLbmdUt+L/K0wcp/t4zfZvC9b3SVzRc8v3gF/RJv7/AWT9Mf64n756+yuHYvdNXDvxiQPpKgYOLrxI4qn/wsXukr4a4bMf05/2PHultPLZ5+iDJW+2/ehn/0pD2XNAhfVZ9dpf01+EfPYLfuG3wy3dIH8Q5eff01/0XA9LbPmW34L/dJX1rwNW901/bv/VM394wY8v0tp7v9NUz9y99K/05P9U5/WaFj3ZNH6x5oHt6e/fk0wZ39EgfMJqcpL+XHuie/hrN6ZI+0//spunXeqVjep9rHnh4u33aan7x1QI1rxR4rlPwuZsFf/Lb6X16tGvwh7ul92P+hmmXUi/hNb9XvmiRLuNLyr6ZB4WWlAWvblvm72zQwl/9Vkt/4dut/Ikt2/ispJ3/a5v2fvd2HfzG/Xv4wrfeLf2Z18xkAQbIGBYiHVmAtaS3lvRuAr483wvn/M7f7zvA39mhly/cfRd/Yd89fU5lX5925BD/x8kH+/W//6VfOmm8/+6Os/2sKef6yf88w4+/c6wf/Y/jfeTNo33v6/v5Tlfs5D0v2sq3vKDcO5//be94Tkdvf3YHX++s9bz1ma295ZnpgxYtz2zpLce39FZntvLWZ7b21me29jYT2nrbou3OaufrnbWeb3D2BkU7+AZnb+Drn7W+tz2rnbeZ0Kb267Uc33KZB0LC+OL3Ezit9N8Mr9S2OSV4t2PTl/jvOTr48CHpAwmn7Bb8gp2C/7FX8L98N31g4vId0u+d8Ntdgp+6W/Dj9wr+y37Bf/aT4CP2Dz54WPoWi5q3DWz/8+DfOTJ4/GX6PRq6HJu+baDjScHbjwve5tR6fF+F09PrtDwteKtT0++D0PaU9EGjDie38I3GtfBvjS3zTU4q801PDN75hOBdjg/e9bjgWxybvmKl4pj0rSBbHpder82pwcMZq/+12fCcjXzeggWl/7PXzGQBBsgY/sKkI39B1pLeWtJbS3o3X+cvLPi/X3ne7392pt/+5F3+x1k3+kUPXOq3P3e7/+2Ju/zeZ2f4Iy894c++Ns8XLFyUyX14550PfOHb7/mCtxb5a2++7f/3xhv+8vzX/YXXX/VnX5vnc199yZ/8v+f81TffKvmvV3OUBRggYzhAdeQvTFrSW0t6a0lvLemtJQswQMYwUHXkANWS3lrSW0t6a0lvLVmAATKGgaojB6iW9NaS3lrSW0t6a8kCDJAxDFQdOUC1pLeW9NaS3lrSW0sWYICMYaDqyAGqJb21pLeW9NaS3lqyAANkDANVRw5QLemtJb21pLeW9NaSBRggYxioOnKAaklvLemtJb21pLeWLMAAGcNA1ZEDVEt6a0lvLemtJb21ZAEGyBgGqo4coFrSW0t6a0lvLemtJQswQMYwUHXkANWS3lrSW0t6a0lvLVmAATKGgaojB6iW9NaS3lrSW0t6a8kCDJAxDFQdOUC1pLeW9NaS3lrSW0sWYICMYaDqyAGqJb21pLeW9NaS3lqyAANkDANVRw5QLemtJb21pLeW9NaSBRggYxioOnKAaklvLemtJb21pLeWLMAAGcNA1ZEDVEt6a0lvLemtJb21ZAEGyBgGqo4coFrSW0t6a0lvLemtJQswQMYwUHXkANWS3lrSW0t6a0lvLVmAATKGgaojB6iW9NaS3lrSW0t6a8kCDJAxDFQdOUC1pLeW9NaS3lrSW0sWYJAjxjjOzGbHGGeZ2UXLfz5JkrZm9gcz+zKE0Kbm47lcbocY40Nm9kCM8f5cLrdlfW6PgaojB6iW9NaS3lrSW0t6a8kCDFLkcrkdzeypkC62ZWZ2bz6fH1z3Omb25yRJDjSzpaHOAmxmzyVJ0ieEEIqfv7M+t8lA1ZEDVEt6a0lvLemtJb21ZAEGKZIkOcPMJtS5fFiM8dq61+nUqVOHEEKo+wxwRUVFdzObX+dqbczs4xBCi9XdJgNVRw5QLemtJb21pLeW9NaSBRikMLOrkyQ5qs7lATHGKSu5bu0CnCRJnxjjnOU+X6ioqOi8uttkoOrIAaolvbWkt5b01pLeWrIAgxQrWIAHxhgnr+S6q1yAY4xV+Xx+s9Xdprt7VVX6hw2bt1VV6QFKbw3prSW9taS3lvTWsqqKBRiEMLNTzezsmstJkhxpZlet5Lq17wFOkqSbmb1R87kuXbqsH2P8MIRQtrrbdAAAAAAAaDKs/VYBsI5gZr3M7Jny8vJ2IYRWZjYjn8/3Xcl1l/ku0Gb2pJn9qPj/R8QYb6nPbbrziKKKPIKsJb21pLeW9NaS3lryDDDIYWZjzGy2mT0cYzyz+LFJSZJ0K/7/VDObbmZLi//k0V9DCKGiomLbGOODZjYjxji5Pu//DYH3ACu5aBHvIVKS3lrSW0t6a0lvLRctYgEGyBQGqo4coFrSW0t6a0lvLemtJQswQMYwUHXkANWS3lrSW0t6a0lvLVmAATKGgaojB6iW9NaS3lrSW0t6a8kCDJAxDFQdOUC1pLeW9NaS3lrSW0sWYICMYaDqyAGqJb21pLeW9NaS3lqyAANkDANVRw5QLemtJb21pLeW9NaSBRggYxioOnKAaklvLemtJb21pLeWLMAAGcNA1ZEDVEt6a0lvLemtJb21ZAEGyBgGqo4coFrSW0t6a0lvLemtJQswQMYwUHXkANWS3lrSW0t6a0lvLVmAATKGgaojB6iW9NaS3lrSW0t6a8kCDJAxDFQdOUC1pLeW9NaS3lrSW0sWYICMYaDqyAGqJb21pLeW9NaS3lqyAANkDANVRw5QLemtJb21pLeW9NaSBRggYxioOnKAaklvLemtJb21pLeWLMAAGcNA1ZEDVEt6a0lvLemtJb21ZAEGyBgGqo4coFrSW0t6a0lvLemtJQswQMYwUHXkANWS3lrSW0t6a0lvLVmAATKGgaojB6iW9NaS3lrSW0t6a8kCDJAxDFQdOUC1pLeW9NaS3lrSW0sWYICMYaDqyAGqJb21pLeW9NaS3lqyAANkDANVRw5QLemtJb21pLeW9NaSBRggYxioOnKAaklvLemtJb21pLeWLMAAGcNA1ZEDVEt6a0lvLemtJb21ZAEGyBgGqo4coFrSW0t6a0lvLemtJQswQMYwUHXkANWS3lrSW0t6a0lvLVmAATKGgaojB6iW9NaS3lrSW0t6a8kCDJAxDFQdOUC1pLeW9NaS3lrSW0sWYICMYaDqyAGqJb21pLeW9NaS3lqyAANkDANVRw5QLemtJb21pLeW9NaSBRggYxioOnKAaklvLemtJb21pLeWLMAAGcNA1ZEDVEt6a0lvLemtJb21ZAEGyBgGqo4coFrSW0t6a0lvLemtJQswQMYwUHXkANWS3lrSW0t6a0lvLVmAATKGgaojB6iW9NaS3lrSW0t6a8kCDJAxDFQdOUC1pLeW9NaS3lrSW0sWYICMYaDqyAGqJb21pLeW9NaS3lqyAANkDANVRw5QLemtJb21pLeW9NaSBRggYxioOnKAaklvLemtJb21pLeWLMAAGcNA1ZEDVEt6a0lvLemtJb21ZAEGyBgGqo4coFrSW0t6a0lvLemtJQswQMYwUHXkANWS3lrSW0t6a0lvLVmAATKGgaojB6iW9NaS3lrSW0t6a8kCDJAxDFQdOUC1pLeW9NaS3lrSW0sWYICMYaDqyAGqJb21pLeW9NaS3lqyAANkDANVRw5QLemtJb21pLeW9NaSBRggYxioOnKAaklvLemtJb21pLeWLMAAGcNA1ZEDVEt6a0lvLemtJb21ZAEGyBgGqo4coFrSW0t6a0lvLemtJQswQMYwUHXkANWS3lrSW0t6a0lvLVmAATKGgaojB6iW9NaS3lrSW0t6a8kCDJAxDFQdOUC1pLeW9NaS3lrSW0sWYICMYaDqyAGqJb21pLeW9NaS3lqyAANkDANVRw5QLemtJb21pLeW9NaSBRjkiDGOM7PZMcZZZnbRCj5/cPHzD8YYbwwhtA4hBDP7MsY4zcymxxinJUlyQH1uj4GqIweolvTWkt5a0ltLemvJAgxS5HK5Hc3sqRBCmxBCmZndm8/nB9d8PsbY1czml5eXdwwhBDO7LkmSXxf/f+ma3CYDVUcOUC3prSW9taS3lvTWkgUYpEiS5Awzm1Dn8mExxmtrLscYDy4+61tzeU8zuy+E9BngNblNBqqOHKBa0ltLemtJby3prSULMEhhZlcnSXJUncsDYoxTai4XXx49seZykiTbxBhfKF73SzO7zsxmmtlfKioqOtfnNhmoOnKAaklvLemtJb21pLeWLMAgxQoW4IExxsk1l5dfgPP5/HfM7PnidX/RtWvXTYrXGx9jvLU+t+nuXlWV/mHD5m1VVXqA0ltDemtJby3prSW9tayqYgEGIczsVDM7u+ZykiRHmtlVdS6PNrObai7n8/l+ZnbP8l8nSZKtzezl+tymAwAAAABAk2FtdwqAdQYz62Vmz5SXl7cLIbQysxn5fL5vzecrKio6xxhfq3mm18xuMrNfmNlWZvbPEEKr4sfHxBj/Wp/bdOcRRRV5BFlLemtJby3prSW9teQZYJDDzMaY2WwzezjGeGbxY5OSJOkWQgj5fH54jHFOjPHB4rPDLUKo/QZaT5jZdDO7q3v37pvX5/bceU+JiosW8R4iJemtJb21pLeW9NZy0SIWYIBMYaDqyAGqJb21pLeW9NaS3lqyAANkDANVRw5QLemtJb21pLeW9NaSBRggYxioOnKAaklvLemtJb21pLeWLMAAGcNA1ZEDVEt6a0lvLemtJb21ZAEGyBgGqo4coFrSW0t6a0lvLemtJQswQMYwUHXkANWS3lrSW0t6a0lvLVmAATKGgaojB6iW9NaS3lrSW0t6a8kCDJAxDFQdOUC1pLeW9NaS3lrSW0sWYICMYaDqyAGqJb21pLeW9NaS3lqyAANkDANVRw5QLemtJb21pLeW9NaSuwA/ygAAC4FJREFUBRggYxioOnKAaklvLemtJb21pLeWLMAAGcNA1ZEDVEt6a0lvLemtJb21ZAEGyBgGqo4coFrSW0t6a0lvLemtJQswQMYwUHXkANWS3lrSW0t6a0lvLVmAATKGgaojB6iW9NaS3lrSW0t6a8kCDJAxDFQdOUC1pLeW9NaS3lrSW0sWYICMYaDqyAGqJb21pLeW9NaS3lqyAANkDANVRw5QLemtJb21pLeW9NaSBRggYxioOnKAaklvLemtJb21pLeWLMAAGcNA1ZEDVEt6a0lvLemtJb21ZAEGyBgGqo4coFrSW0t6a0lvLemtJQswQMYwUHXkANWS3lrSW0t6a0lvLVmAATKGgaojB6iW9NaS3lrSW0t6a8kCDJAxDFQdOUC1pLeW9NaS3lrSW0sWYICMYaDqyAGqJb21pLeW9NaS3lqyAANkDANVRw5QLemtJb21pLeW9NaSBRggYxioOnKAaklvLemtJb21pLeWLMAAGcNA1ZEDVEt6a0lvLemtJb21ZAEGyBgGqo4coFrSW0t6a0lvLemtJQswQMYwUHXkANWS3lrSW0t6a0lvLVmAATKGgaojB6iW9NaS3lrSW0t6a8kCDJAxDFQdOUC1pLeW9NaS3lrSW0sWYICMYaDqyAGqJb21pLeW9NaS3lqyAANkDANVRw5QLemtJb21pLeW9NaSBRggYxioOnKAaklvLemtJb21pLeWLMAAGcNA1ZEDVEt6a0lvLemtJb21ZAEGyBgGqo4coFrSW0t6a0lvLemtJQswQMYwUHXkANWS3lrSW0t6a0lvLVmAATKGgaojB6iW9NaS3lrSW0t6a8kCDJAxDFQdOUC1pLeW9NaS3lrSW0sWYICMYaDqyAGqJb21pLeW9NaS3lqyAANkDANVRw5QLemtJb21pLeW9NaSBRggYxioOnKAaklvLemtJb21pLeWLMAAGcNA1ZEDVEt6a0lvLemtJb21ZAEGyBgGqo4coFrSW0t6a0lvLemtJQswQMYwUHXkANWS3lrSW0t6a0lvLVmAATKGgaojB6iW9NaS3lrSW0t6a8kCDJAxDFQdOUC1pLeW9NaS3lrSW0sWYICMYaDqyAGqJb21pLeW9NaS3lqyAANkDANVRw5QLemtJb21pLeW9NaSBRggYxioOnKAaklvLemtJb21pLeWLMAAGcNA1ZEDVEt6a0lvLemtJb21ZAEGyBgGqo4coFrSW0t6a0lvLemtJQswQMYwUHXkANWS3lrSW0t6a0lvLVmAQY4Y4zgzmx1jnGVmF63g8wcXP/9gjPHGEELrEELI5/P9zOxRM5thZv+by+U2qs/tMVB15ADVkt5a0ltLemtJby1ZgEGKXC63o5k9FUJoE0IoM7N78/n84JrPxxi7mtn88vLyjiGEYGbXJUny6yRJ2sYY3ywvLy8vfvw0M7ukPrfJQNWRA1RLemtJby3prSW9tWQBBimSJDnDzCbUuXxYjPHamssxxoOLz/rWXN4zxnh/kiS7mtnMmo/n8/nEzObV5zYZqDpygGpJby3prSW9taS3lizAIIWZXZ0kyVF1Lg+IMU6puVx8efTEmstJkmwTY3wxxlgZY7y15uOdO3dub2af1uc2Gag6coBqSW8t6a0lvbWkt5YswCDFChbggTHGyTWXl1+A8/n8d8zs+eUX4E033XQDM/ukPrfp7l5Vlf5hw+ZtVVV6gNJbQ3prSW8t6a0lvbWsqmIBBiHM7FQzO7vmcpIkR5rZVXUujzazm2ouF7/x1T35fP4HMcZZdb7OVjHGF7+5ew4AAAAAAADQAMysl5k9U15e3i6E0MrMZuTz+b41n6+oqOgcY3yta9eumxSvf5OZHRFCaG1mr+fz+SSEEJIkOSfGeF5pfhYAAAAAAAAA9cDMxpjZbDN7OMZ4ZvFjk5Ik6RZCCPl8fniMcU6M8cHis8Mtih/fzcweMbOZMcZbO3fu3L6EPw0AAAAAAAAAAAAAAAAAAAAAAAAAAAAAAAAAAAAAAAAAAAAAAAAAAAAAAAAAAFFijOPMbHaMcZaZXVTq+wPZkMvlNoox3hJjfKvmY8V/P/pRM5thZv+by+U2KuV9hMYhSZKxMcY5xe8gf2MIoRWtmy1lZva7mu/8b2a3derUqQO9mz8xxstijNOK/39w8Rx/sPhnvnWJ7x40AkmS7Gpm/40xTjOz6THGablczujdfMnlcjsUz+9HYoyTN9100w2Y5wCNTC6X29HMngohtAnpX6Tuzefzg0t9v6DxiTFOjjEeHmNcGEIISZK0jTG+WV5eXh5CCGZ2mpldUtI7CWtNPp/fufhnukUIIZjZbUmSHEXr5kkul9vFzP5SczlJkhvM7BR6N29ijHua2YwY47QYY1czm19eXt4xhBDM7LokSX5d6vsIa0+SJLvWPMhRA72bNWVmNi9Jkj4h1D5BNZB5DtDIJElyhplNqHP5sBjjtaW8T5ANnTp16lBRUdG9zgK8q5nNrPl8Pp9PzGxe6e4hNBJldf/tbzO70sx+Q2sJ2pjZfUmSDKV386X4ap7HkiTpXXxW8ODis4AhhNrl+L5S3kdoHFayANO7mZIkSe8Y49zlPsbf1QAaGzO7OkmSo+pcHhBjnFLK+wTZUXcBNrMRMcZbaz7XuXPn9mb2aenuHTQ2xYNyfvEl0bRuxpjZ+THGN83sIv5sN2+SJLkhSZJ9KyoqupvZ9CRJxprZxDqf3ybG+EIp7yM0DsUF+BUzuy3GOCvGeF7xGUB6N0OSJBlmZveY2R+Kb0u8PsZ4EPMcoJFZwQI8MMY4uZT3CbJjVQvwpptuuoGZfVK6eweNSUVFxbZm9p9cLrcHrWVobWaTYown07t5Ymb7J0lyQwghlJeXlxefAR5XdyHK5/PfMbPnS3cvobHYYostuiRJMjqE0Cqkr/C4J8Z4Mr2bJ8UFeEGXLl06FS9fE2N8hXkO0MiY2almdnbN5SRJjjSzq0p5nyA76i7AuVxulxjjrJrPmdlWMcYXS3fvoLFIkmS7GONLuVxuxxBo3ZxJkmTrioqKbWsum9n+Mcb7Y4wP1fkYvZsJxW9k+LiZPWxmT5rZBzHGxXXfB178hjn3lPJ+QjYkSXKUmc2jd/OkeFbXvgozn8/3Y54DZICZ9TKzZ8rLy9uFEFqZ2Yx8Pt+31PcLsqG8vLy8zneBbmNmr+fz+SSEEJIkOSfGeF4J7x40Al26dFk/xvhikiTb1Plwa1o3T+q837dlCCHEGC9MkuQCejd/ig9oTsvn85vFGF/r2rXrJiGEYGY3mdkvSn3/YO1JkuTAJEl+W7xYZma3xxjH0bvZ0srMnsvn85uFEIKZncU8B8gIMxtjZrMt/SdTziz1/YHGZ8stt9zYzKYXnzX4rPhPKlySz+d3s+I/nxJjvLXuN0+CdZPiN7JbVPefzYgxjqN18yVJknPM7NEY44Nmdnsul9uI3s2fmgU4hBBijJUxxjnF3wNXheJ3gYd1m86dO7ePMd5afD/ow0mSXBpCaJnP54fTu3mSJMlOxb+TzzCzv5WXl3dkngMAAAAAAAAAAAAAAAAAAAAAAAAAAAAAAAAAAAAAAAAAAAAAAAAAAAAAAAAAAAAAAAAAAAAAAAAAAAAAAAAAAAAAAAAAAAAAAAAAAAAAAAAAAAAAAAAAAAAAAAAAAAAAAAAAAAAAAAAAAAAAAAAAAAAAAAAAAAAAAAAAAAAAAAAAAAAAAAAAAAAAAAAAAAAAAAAAAAAAAAAAAAAAAAAAAAAAAAAAAAAAAAAAAAAAAAAAAAAAAAAAAAAAAAAAAAAAAAAAAAAAAAAAAAAAAAAAAAAAAAAAAAAAAAAAAAAAAAAAAAAAAAAAAAAAAAAAAAAAAAAAAAAAAAAAAMD/bw8OCQAAAAAE/X/tDQMAAAAAAAAAAAAAAAAAAAAAAAAAAAAAAAAAAAAAAAAAAAAAAAAAAABwEmLpreDBvK13AAAAAElFTkSuQmCC\">"
      ],
      "text/plain": [
       "<IPython.core.display.HTML object>"
      ]
     },
     "metadata": {},
     "output_type": "display_data"
    },
    {
     "name": "stdout",
     "output_type": "stream",
     "text": [
      "Epoch 1/200\n",
      "1286144/1286325 [============================>.] - ETA: 0s - loss: 0.1975"
     ]
    },
    {
     "name": "stderr",
     "output_type": "stream",
     "text": [
      "2017-04-13 05:23:47,815 : INFO : Found lower val loss for epoch 1 => 0.1588\n"
     ]
    },
    {
     "name": "stdout",
     "output_type": "stream",
     "text": [
      "    \n",
      "1286325/1286325 [==============================] - 704s - loss: 0.1975 - val_loss: 0.1588\n",
      "Epoch 2/200\n",
      "1286144/1286325 [============================>.] - ETA: 0s - loss: 0.1568"
     ]
    },
    {
     "name": "stderr",
     "output_type": "stream",
     "text": [
      "2017-04-13 05:35:30,758 : INFO : Found lower val loss for epoch 2 => 0.14444\n"
     ]
    },
    {
     "name": "stdout",
     "output_type": "stream",
     "text": [
      "    \n",
      "1286325/1286325 [==============================] - 702s - loss: 0.1568 - val_loss: 0.1444\n",
      "Epoch 3/200\n",
      "1286144/1286325 [============================>.] - ETA: 0s - loss: 0.1466"
     ]
    },
    {
     "name": "stderr",
     "output_type": "stream",
     "text": [
      "2017-04-13 05:47:23,575 : INFO : Found lower val loss for epoch 3 => 0.1371\n"
     ]
    },
    {
     "name": "stdout",
     "output_type": "stream",
     "text": [
      "    \n",
      "1286325/1286325 [==============================] - 712s - loss: 0.1466 - val_loss: 0.1371\n",
      "Epoch 4/200\n",
      "1286144/1286325 [============================>.] - ETA: 0s - loss: 0.1414"
     ]
    },
    {
     "name": "stderr",
     "output_type": "stream",
     "text": [
      "2017-04-13 05:59:06,421 : INFO : Found lower val loss for epoch 4 => 0.13213\n"
     ]
    },
    {
     "name": "stdout",
     "output_type": "stream",
     "text": [
      "    \n",
      "1286325/1286325 [==============================] - 702s - loss: 0.1414 - val_loss: 0.1321\n",
      "Epoch 5/200\n",
      "1286144/1286325 [============================>.] - ETA: 0s - loss: 0.1382"
     ]
    },
    {
     "name": "stderr",
     "output_type": "stream",
     "text": [
      "2017-04-13 06:10:52,799 : INFO : Found lower val loss for epoch 5 => 0.13052\n"
     ]
    },
    {
     "name": "stdout",
     "output_type": "stream",
     "text": [
      "    \n",
      "1286325/1286325 [==============================] - 706s - loss: 0.1382 - val_loss: 0.1305\n",
      "Epoch 6/200\n",
      "1286144/1286325 [============================>.] - ETA: 0s - loss: 0.1358"
     ]
    },
    {
     "name": "stderr",
     "output_type": "stream",
     "text": [
      "2017-04-13 06:22:35,557 : INFO : Found lower val loss for epoch 6 => 0.12883\n"
     ]
    },
    {
     "name": "stdout",
     "output_type": "stream",
     "text": [
      "    \n",
      "1286325/1286325 [==============================] - 702s - loss: 0.1358 - val_loss: 0.1288\n",
      "Epoch 7/200\n",
      "1286325/1286325 [==============================] - 706s - loss: 0.1340 - val_loss: 0.1301\n",
      "Epoch 8/200\n",
      "1286144/1286325 [============================>.] - ETA: 0s - loss: 0.1325"
     ]
    },
    {
     "name": "stderr",
     "output_type": "stream",
     "text": [
      "2017-04-13 06:46:11,504 : INFO : Found lower val loss for epoch 8 => 0.12759\n"
     ]
    },
    {
     "name": "stdout",
     "output_type": "stream",
     "text": [
      "    \n",
      "1286325/1286325 [==============================] - 709s - loss: 0.1325 - val_loss: 0.1276\n",
      "Epoch 9/200\n",
      "1286144/1286325 [============================>.] - ETA: 0s - loss: 0.1313"
     ]
    },
    {
     "name": "stderr",
     "output_type": "stream",
     "text": [
      "2017-04-13 06:57:56,174 : INFO : Found lower val loss for epoch 9 => 0.12744\n"
     ]
    },
    {
     "name": "stdout",
     "output_type": "stream",
     "text": [
      "    \n",
      "1286325/1286325 [==============================] - 704s - loss: 0.1313 - val_loss: 0.1274\n",
      "Epoch 10/200\n",
      "1286144/1286325 [============================>.] - ETA: 0s - loss: 0.1304"
     ]
    },
    {
     "name": "stderr",
     "output_type": "stream",
     "text": [
      "2017-04-13 07:09:45,347 : INFO : Found lower val loss for epoch 10 => 0.12632\n"
     ]
    },
    {
     "name": "stdout",
     "output_type": "stream",
     "text": [
      "    \n",
      "1286325/1286325 [==============================] - 709s - loss: 0.1304 - val_loss: 0.1263\n",
      "Epoch 11/200\n",
      "1286144/1286325 [============================>.] - ETA: 0s - loss: 0.1296"
     ]
    },
    {
     "name": "stderr",
     "output_type": "stream",
     "text": [
      "2017-04-13 07:21:27,586 : INFO : Found lower val loss for epoch 11 => 0.12558\n",
      "2017-04-13 07:21:27,588 : INFO : Validation Loss Reduced 10 times\n",
      "2017-04-13 07:21:27,589 : INFO : Evaluating on Validation Data\n"
     ]
    },
    {
     "name": "stdout",
     "output_type": "stream",
     "text": [
      "\r",
      "    \r\n"
     ]
    },
    {
     "name": "stderr",
     "output_type": "stream",
     "text": [
      "2017-04-13 07:27:04,072 : INFO : Generating Validation Metrics\n"
     ]
    },
    {
     "name": "stdout",
     "output_type": "stream",
     "text": [
      "****** Validation Metrics: Cov Err: 1.373 | Top 3: 0.980 | Top 5: 0.997 | F1 Micro: 0.818 | F1 Macro: 0.771\n",
      "1286325/1286325 [==============================] - 1046s - loss: 0.1296 - val_loss: 0.1256\n",
      "Epoch 12/200\n",
      "1286144/1286325 [============================>.] - ETA: 0s - loss: 0.1288"
     ]
    },
    {
     "name": "stderr",
     "output_type": "stream",
     "text": [
      "2017-04-13 07:39:15,507 : INFO : Found lower val loss for epoch 12 => 0.12544\n"
     ]
    },
    {
     "name": "stdout",
     "output_type": "stream",
     "text": [
      "    \n",
      "1286325/1286325 [==============================] - 723s - loss: 0.1288 - val_loss: 0.1254\n",
      "Epoch 13/200\n",
      "1286325/1286325 [==============================] - 717s - loss: 0.1282 - val_loss: 0.1260\n",
      "Epoch 14/200\n",
      "1286325/1286325 [==============================] - 721s - loss: 0.1276 - val_loss: 0.1263\n",
      "Epoch 15/200\n",
      "1286325/1286325 [==============================] - 720s - loss: 0.1271 - val_loss: 0.1257\n",
      "Epoch 16/200\n",
      "1286144/1286325 [============================>.] - ETA: 0s - loss: 0.1268"
     ]
    },
    {
     "name": "stderr",
     "output_type": "stream",
     "text": [
      "2017-04-13 08:27:17,979 : INFO : Found lower val loss for epoch 16 => 0.12482\n"
     ]
    },
    {
     "name": "stdout",
     "output_type": "stream",
     "text": [
      "    \n",
      "1286325/1286325 [==============================] - 722s - loss: 0.1268 - val_loss: 0.1248\n",
      "Epoch 17/200\n",
      "1286144/1286325 [============================>.] - ETA: 0s - loss: 0.1264"
     ]
    },
    {
     "name": "stderr",
     "output_type": "stream",
     "text": [
      "2017-04-13 08:39:18,949 : INFO : Found lower val loss for epoch 17 => 0.12394\n"
     ]
    },
    {
     "name": "stdout",
     "output_type": "stream",
     "text": [
      "    \n",
      "1286325/1286325 [==============================] - 720s - loss: 0.1264 - val_loss: 0.1239\n",
      "Epoch 18/200\n",
      "1286325/1286325 [==============================] - 722s - loss: 0.1260 - val_loss: 0.1248\n",
      "Epoch 19/200\n",
      "1286325/1286325 [==============================] - 720s - loss: 0.1257 - val_loss: 0.1242\n",
      "Epoch 20/200\n",
      "1286144/1286325 [============================>.] - ETA: 0s - loss: 0.1254"
     ]
    },
    {
     "name": "stderr",
     "output_type": "stream",
     "text": [
      "2017-04-13 09:15:22,460 : INFO : Found lower val loss for epoch 20 => 0.12322\n"
     ]
    },
    {
     "name": "stdout",
     "output_type": "stream",
     "text": [
      "    \n",
      "1286325/1286325 [==============================] - 720s - loss: 0.1254 - val_loss: 0.1232\n",
      "Epoch 21/200\n",
      "1286325/1286325 [==============================] - 722s - loss: 0.1251 - val_loss: 0.1239\n",
      "Epoch 22/200\n",
      "1286325/1286325 [==============================] - 718s - loss: 0.1249 - val_loss: 0.1237\n",
      "Epoch 23/200\n",
      "1286144/1286325 [============================>.] - ETA: 0s - loss: 0.1246"
     ]
    },
    {
     "name": "stderr",
     "output_type": "stream",
     "text": [
      "2017-04-13 09:51:24,633 : INFO : Found lower val loss for epoch 23 => 0.1229\n"
     ]
    },
    {
     "name": "stdout",
     "output_type": "stream",
     "text": [
      "    \n",
      "1286325/1286325 [==============================] - 721s - loss: 0.1246 - val_loss: 0.1229\n",
      "Epoch 24/200\n",
      "1286325/1286325 [==============================] - 721s - loss: 0.1244 - val_loss: 0.1243\n",
      "Epoch 25/200\n",
      "1286325/1286325 [==============================] - 689s - loss: 0.1242 - val_loss: 0.1234\n",
      "Epoch 26/200\n",
      "1286144/1286325 [============================>.] - ETA: 0s - loss: 0.1240"
     ]
    },
    {
     "name": "stderr",
     "output_type": "stream",
     "text": [
      "2017-04-13 10:26:24,050 : INFO : Found lower val loss for epoch 26 => 0.1227\n"
     ]
    },
    {
     "name": "stdout",
     "output_type": "stream",
     "text": [
      "    \n",
      "1286325/1286325 [==============================] - 688s - loss: 0.1240 - val_loss: 0.1227\n",
      "Epoch 27/200\n",
      "1286325/1286325 [==============================] - 687s - loss: 0.1239 - val_loss: 0.1231\n",
      "Epoch 28/200\n",
      "1286325/1286325 [==============================] - 687s - loss: 0.1238 - val_loss: 0.1248\n",
      "Epoch 29/200\n",
      "1286325/1286325 [==============================] - 687s - loss: 0.1236 - val_loss: 0.1230\n",
      "Epoch 30/200\n",
      "1286325/1286325 [==============================] - 688s - loss: 0.1234 - val_loss: 0.1229\n",
      "Epoch 31/200\n",
      "1286325/1286325 [==============================] - 704s - loss: 0.1232 - val_loss: 0.1238\n",
      "Epoch 32/200\n",
      "1286325/1286325 [==============================] - 721s - loss: 0.1232 - val_loss: 0.1228\n",
      "Epoch 33/200\n",
      "1286144/1286325 [============================>.] - ETA: 0s - loss: 0.1230"
     ]
    },
    {
     "name": "stderr",
     "output_type": "stream",
     "text": [
      "2017-04-13 11:47:59,126 : INFO : Found lower val loss for epoch 33 => 0.12261\n"
     ]
    },
    {
     "name": "stdout",
     "output_type": "stream",
     "text": [
      "    \n",
      "1286325/1286325 [==============================] - 718s - loss: 0.1230 - val_loss: 0.1226\n",
      "Epoch 34/200\n",
      "1286325/1286325 [==============================] - 720s - loss: 0.1230 - val_loss: 0.1235\n",
      "Epoch 35/200\n",
      "1286325/1286325 [==============================] - 721s - loss: 0.1229 - val_loss: 0.1232\n",
      "Epoch 36/200\n",
      "1286325/1286325 [==============================] - 718s - loss: 0.1228 - val_loss: 0.1229\n",
      "Epoch 37/200\n",
      "1286325/1286325 [==============================] - 719s - loss: 0.1226 - val_loss: 0.1228\n",
      "Epoch 38/200\n",
      "1286144/1286325 [============================>.] - ETA: 0s - loss: 0.1226"
     ]
    },
    {
     "name": "stderr",
     "output_type": "stream",
     "text": [
      "2017-04-13 12:48:01,630 : INFO : Found lower val loss for epoch 38 => 0.12249\n"
     ]
    },
    {
     "name": "stdout",
     "output_type": "stream",
     "text": [
      "    \n",
      "1286325/1286325 [==============================] - 721s - loss: 0.1226 - val_loss: 0.1225\n",
      "Epoch 39/200\n",
      "1286325/1286325 [==============================] - 729s - loss: 0.1225 - val_loss: 0.1226\n",
      "Epoch 40/200\n",
      "1286325/1286325 [==============================] - 728s - loss: 0.1223 - val_loss: 0.1229\n",
      "Epoch 41/200\n",
      "1286325/1286325 [==============================] - 840s - loss: 0.1224 - val_loss: 0.1231\n",
      "Epoch 42/200\n",
      "1286325/1286325 [==============================] - 718s - loss: 0.1223 - val_loss: 0.1225\n",
      "Epoch 43/200\n",
      "1286325/1286325 [==============================] - 719s - loss: 0.1222 - val_loss: 0.1230\n",
      "Epoch 44/200\n",
      "1286325/1286325 [==============================] - 722s - loss: 0.1221 - val_loss: 0.1227\n",
      "Epoch 45/200\n",
      "1286325/1286325 [==============================] - 720s - loss: 0.1220 - val_loss: 0.1228\n",
      "Epoch 46/200\n",
      "1286325/1286325 [==============================] - 718s - loss: 0.1220 - val_loss: 0.1226\n",
      "Epoch 47/200\n",
      "1286325/1286325 [==============================] - 720s - loss: 0.1220 - val_loss: 0.1227\n",
      "Epoch 48/200\n",
      "1286144/1286325 [============================>.] - ETA: 0s - loss: 0.1219"
     ]
    },
    {
     "name": "stderr",
     "output_type": "stream",
     "text": [
      "2017-04-13 14:50:22,472 : INFO : Found lower val loss for epoch 48 => 0.12207\n"
     ]
    },
    {
     "name": "stdout",
     "output_type": "stream",
     "text": [
      "    \n",
      "1286325/1286325 [==============================] - 721s - loss: 0.1219 - val_loss: 0.1221\n",
      "Epoch 49/200\n",
      "1286325/1286325 [==============================] - 717s - loss: 0.1219 - val_loss: 0.1224\n",
      "Epoch 50/200\n",
      "1286325/1286325 [==============================] - 723s - loss: 0.1217 - val_loss: 0.1226\n",
      "Epoch 51/200\n",
      "1286325/1286325 [==============================] - 720s - loss: 0.1219 - val_loss: 0.1225\n",
      "Epoch 52/200\n",
      "1286325/1286325 [==============================] - 718s - loss: 0.1218 - val_loss: 0.1224\n",
      "Epoch 53/200\n",
      "1286325/1286325 [==============================] - 719s - loss: 0.1217 - val_loss: 0.1229\n",
      "Epoch 54/200\n",
      "1179648/1286325 [==========================>...] - ETA: 55s - loss: 0.1215"
     ]
    }
   ],
   "source": [
    "%matplotlib notebook\n",
    "\n",
    "for GLOBAL_PARAMS in GLOBAL_PARMS_TO_RUN:\n",
    "    \n",
    "    print '==================================== NEW PARAM SET ============================================'\n",
    "    print {k:v for k,v in GLOBAL_PARAMS.items() if k != 'classifications'}\n",
    "    \n",
    "    classifications = GLOBAL_PARAMS['classifications']\n",
    "    classifications_type = GLOBAL_PARAMS['classifications_type']\n",
    "    classifier_file = TYPE_CLASSIFIER.format(classifications_type)\n",
    "    \n",
    "    PARTS_LEVEL = GLOBAL_PARAMS['parts_level']\n",
    "    \n",
    "    \n",
    "    placeholder_model_name = 'doc2vec_size_{}_w_{}_type_{}_concat_{}_mean_{}_trainwords_{}_hs_{}_neg_{}_vocabsize_{}'.format(DOC2VEC_SIZE, \n",
    "                                                                DOC2VEC_WINDOW, \n",
    "                                                                'dm' if DOC2VEC_TYPE == 1 else 'pv-dbow',\n",
    "                                                                DOC2VEC_CONCAT, DOC2VEC_MEAN,\n",
    "                                                                DOC2VEC_TRAIN_WORDS,\n",
    "                                                                DOC2VEC_HIERARCHICAL_SAMPLE,DOC2VEC_NEGATIVE_SAMPLE_SIZE,\n",
    "                                                                str(DOC2VEC_MAX_VOCAB_SIZE))\n",
    "    GLOBAL_VARS.DOC2VEC_MODEL_NAME = placeholder_model_name\n",
    "    placeholder_model_name = os.path.join(placeholder_model_name, \"epoch_{}\")\n",
    "\n",
    "    epoch = GLOBAL_PARAMS['doc2vec_epoch']\n",
    "\n",
    "    GLOBAL_VARS.MODEL_NAME = placeholder_model_name.format(epoch)\n",
    "    print GLOBAL_VARS.MODEL_NAME\n",
    "    \n",
    "    time.sleep(0.2)\n",
    "    \n",
    "    info(\"Loading Training Documents\")\n",
    "    X, y = get_training_data(classifications_type, PARTS_LEVEL)\n",
    "    print X.shape\n",
    "    print y.shape\n",
    "    \n",
    "    info(\"Loading Validation Documents\")\n",
    "    Xv, yv = get_validation_data(classifications_type, PARTS_LEVEL)\n",
    "    print Xv.shape\n",
    "    print yv.shape\n",
    "    \n",
    "    \n",
    "    NN_OUTPUT_NEURONS = len(classifications)\n",
    "    EARLY_STOPPER_MIN_DELTA = early_stopper_deltas[classifications_type]\n",
    "    EARLY_STOPPER_PATIENCE = early_stopper_patience[classifications_type]\n",
    "\n",
    "    NN_MAX_EPOCHS = 200\n",
    "    NN_PARAM_SAMPLE_SEED = 1234\n",
    "\n",
    "    NN_BATCH_SIZE = GLOBAL_PARAMS['nn_batch_size']\n",
    "\n",
    "    MODEL_VERBOSITY = 1\n",
    "\n",
    "    NN_OPTIMIZER = 'rmsprop'\n",
    "    # NN_OPTIMIZER = 'adam'\n",
    "\n",
    "    to_skip = []\n",
    "\n",
    "    load_existing_results = True\n",
    "    save_results = True\n",
    "\n",
    "\n",
    "    np.random.seed(NN_SEED)\n",
    "    \n",
    "    \n",
    "    \n",
    "    ################################################################################\n",
    "    ############### Actual Training\n",
    "\n",
    "\n",
    "    # load previous finshed results so we dont redo them\n",
    "    param_results_dict = {}\n",
    "    \n",
    "    param_results_path = os.path.join(os.path.join(nn_parameter_search_location, GLOBAL_VARS.MODEL_NAME, \n",
    "                                                   NN_PARAMETER_SEARCH_PREFIX.format(classifications_type, PARTS_LEVEL, NN_BATCH_SIZE)))\n",
    "        \n",
    "    if load_existing_results:\n",
    "        if os.path.exists(param_results_path):\n",
    "            info('Loading Previous results from {}'.format(param_results_path))\n",
    "            param_results_dict = pickle.load(open(param_results_path))\n",
    "        else:\n",
    "            info('No Previous results exist in {}'.format(param_results_path))\n",
    "\n",
    "    ensure_disk_location_exists(os.path.join(nn_parameter_search_location, GLOBAL_VARS.MODEL_NAME))\n",
    "\n",
    "    start_time = time.time()\n",
    "    lstm_output_size = GLOBAL_PARAMS['lstm_output_size']\n",
    "    w_dropout_do = GLOBAL_PARAMS['lstm_w_dropout']\n",
    "    u_dropout_do = GLOBAL_PARAMS['lstm_u_dropout']\n",
    "    stack_layers = GLOBAL_PARAMS['lstm_stack_layers']\n",
    "    conv_size = GLOBAL_PARAMS['lstm_conv_size']\n",
    "    conv_filter_length = GLOBAL_PARAMS['lstm_conv_filter_length']\n",
    "    conv_max_pooling_length = GLOBAL_PARAMS['lstm_max_pooling_length']\n",
    "\n",
    "    GLOBAL_VARS.NN_MODEL_NAME = 'lstm_optimizer_{}_size_{}_w-drop_{}_u-drop_{}_stack_{}_conv_{}'.format(NN_OPTIMIZER,\n",
    "        lstm_output_size,  w_dropout_do, u_dropout_do, stack_layers, str(conv_size)\n",
    "    )\n",
    "    if conv_size:\n",
    "        GLOBAL_VARS.NN_MODEL_NAME += '_conv-filter-length_{}_max-pooling-size_{}'.format(conv_filter_length, \n",
    "                                                                                         conv_max_pooling_length)\n",
    "\n",
    "    if GLOBAL_VARS.NN_MODEL_NAME in param_results_dict.keys() or GLOBAL_VARS.NN_MODEL_NAME in to_skip:\n",
    "        print \"skipping: {}\".format(GLOBAL_VARS.NN_MODEL_NAME)\n",
    "        continue\n",
    "\n",
    "    info('***************************************************************************************')\n",
    "    info(GLOBAL_VARS.NN_MODEL_NAME)\n",
    "\n",
    "    # creating the actual keras model\n",
    "    model = create_keras_rnn_model(DOC2VEC_SIZE, NN_OUTPUT_NEURONS, \n",
    "                                  lstm_output_size, w_dropout_do, u_dropout_do, stack_layers, conv_size, \n",
    "                                   conv_filter_length, conv_max_pooling_length)\n",
    "    model.summary()\n",
    "\n",
    "    # callbacks for early stopping and for generating validation metrics\n",
    "    early_stopper = keras.callbacks.EarlyStopping(monitor='val_loss', min_delta=EARLY_STOPPER_MIN_DELTA, \\\n",
    "                                                  patience=EARLY_STOPPER_PATIENCE, verbose=1, mode='auto')\n",
    "    metrics_callback = MetricsCallback()\n",
    "\n",
    "\n",
    "    # Model Fitting\n",
    "    %time history = model.fit(x=X, y=y, validation_data=(Xv,yv), batch_size=NN_BATCH_SIZE, \\\n",
    "                              nb_epoch=NN_MAX_EPOCHS, verbose=MODEL_VERBOSITY, \\\n",
    "                              callbacks=[early_stopper, metrics_callback])\n",
    "    \n",
    "    \n",
    "    time.sleep(0.2)\n",
    "    info('Evaluating on Training Data')\n",
    "    yp = model.predict(X) # get raw probability for predicted labels\n",
    "    yp_binary = get_binary_0_5(yp) # use 0.5 as threshold for setting labels to 0 or 1\n",
    "    #print yvp\n",
    "    info('Generating Training Metrics')\n",
    "    training_metrics = get_metrics(y, yp, yp_binary)\n",
    "    print \"****** Training Metrics: Cov Err: {:.3f} | Top 3: {:.3f} | Top 5: {:.3f} | F1 Micro: {:.3f} | F1 Macro: {:.3f}\".format(\n",
    "    training_metrics['coverage_error'], training_metrics['top_3'], training_metrics['top_5'], \n",
    "    training_metrics['f1_micro'], training_metrics['f1_macro'])\n",
    "    \n",
    "    \n",
    "    time.sleep(0.2)\n",
    "    info('Evaluating on Validation Data using saved best weights')\n",
    "    model.set_weights(metrics_callback.best_weights)\n",
    "    yvp = model.predict(Xv) # get raw probability for predicted labels\n",
    "    yvp_binary = get_binary_0_5(yvp) # use 0.5 as threshold for setting labels to 0 or 1\n",
    "    #print yvp\n",
    "    info('Generating Validation Metrics')\n",
    "    validation_metrics = get_metrics(yv, yvp, yvp_binary)\n",
    "    print \"****** Validation Metrics: Cov Err: {:.3f} | Top 3: {:.3f} | Top 5: {:.3f} | F1 Micro: {:.3f} | F1 Macro: {:.3f}\".format(\n",
    "        validation_metrics['coverage_error'], validation_metrics['top_3'], validation_metrics['top_5'], \n",
    "        validation_metrics['f1_micro'], validation_metrics['f1_macro'])\n",
    "    best_validation_metrics = validation_metrics\n",
    "    \n",
    "    time.sleep(0.2)\n",
    "    param_results_dict[GLOBAL_VARS.NN_MODEL_NAME] = dict()\n",
    "    param_results_dict[GLOBAL_VARS.NN_MODEL_NAME]['best_validation_metrics'] = best_validation_metrics\n",
    "    param_results_dict[GLOBAL_VARS.NN_MODEL_NAME]['epochs'] = len(history.history['val_loss'])\n",
    "    param_results_dict[GLOBAL_VARS.NN_MODEL_NAME]['best_weights'] = metrics_callback.best_weights\n",
    "    param_results_dict[GLOBAL_VARS.NN_MODEL_NAME]['best_val_loss'] = metrics_callback.best_val_loss\n",
    "    param_results_dict[GLOBAL_VARS.NN_MODEL_NAME]['training_loss'] = metrics_callback.losses\n",
    "    param_results_dict[GLOBAL_VARS.NN_MODEL_NAME]['validation_loss'] = metrics_callback.val_losses\n",
    "\n",
    "    duration = time.time() - start_time\n",
    "    param_results_dict[GLOBAL_VARS.NN_MODEL_NAME]['duration'] =  duration\n",
    "\n",
    "    del history, metrics_callback, model\n",
    "\n",
    "    if save_results:\n",
    "        if load_existing_results:\n",
    "            if os.path.exists(param_results_path):\n",
    "                info('Loading Previous results from {}'.format(param_results_path))\n",
    "                loaded_param_results_dict = pickle.load(open(param_results_path))\n",
    "                param_results_dict.update(loaded_param_results_dict)\n",
    "\n",
    "        pickle.dump(param_results_dict, open(param_results_path, 'w'))\n",
    "        "
   ]
  },
  {
   "cell_type": "code",
   "execution_count": null,
   "metadata": {
    "collapsed": true
   },
   "outputs": [],
   "source": []
  },
  {
   "cell_type": "markdown",
   "metadata": {
    "collapsed": true
   },
   "source": [
    "## Testing"
   ]
  },
  {
   "cell_type": "code",
   "execution_count": 47,
   "metadata": {
    "collapsed": true
   },
   "outputs": [],
   "source": [
    "classifications = valid_classes\n",
    "classifications_type = 'classes'"
   ]
  },
  {
   "cell_type": "code",
   "execution_count": 48,
   "metadata": {
    "collapsed": true
   },
   "outputs": [],
   "source": [
    "TEST_METRICS_FILENAME = '{}_level_{}_test_metrics.pkl'"
   ]
  },
  {
   "cell_type": "code",
   "execution_count": 49,
   "metadata": {
    "collapsed": false
   },
   "outputs": [
    {
     "name": "stdout",
     "output_type": "stream",
     "text": [
      "doc2vec_size_200_w_2_type_dm_concat_0_mean_1_trainwords_0_hs_0_neg_10_vocabsize_None/epoch_8\n"
     ]
    }
   ],
   "source": [
    "placeholder_model_name = 'doc2vec_size_{}_w_{}_type_{}_concat_{}_mean_{}_trainwords_{}_hs_{}_neg_{}_vocabsize_{}'.format(DOC2VEC_SIZE, \n",
    "                                                            DOC2VEC_WINDOW, \n",
    "                                                            'dm' if DOC2VEC_TYPE == 1 else 'pv-dbow',\n",
    "                                                            DOC2VEC_CONCAT, DOC2VEC_MEAN,\n",
    "                                                            DOC2VEC_TRAIN_WORDS,\n",
    "                                                            DOC2VEC_HIERARCHICAL_SAMPLE,DOC2VEC_NEGATIVE_SAMPLE_SIZE,\n",
    "                                                            str(DOC2VEC_MAX_VOCAB_SIZE))\n",
    "GLOBAL_VARS.DOC2VEC_MODEL_NAME = placeholder_model_name\n",
    "placeholder_model_name = os.path.join(placeholder_model_name, \"epoch_{}\")\n",
    "\n",
    "epoch = DOC2VEC_EPOCH\n",
    "\n",
    "GLOBAL_VARS.MODEL_NAME = placeholder_model_name.format(epoch)\n",
    "print GLOBAL_VARS.MODEL_NAME"
   ]
  },
  {
   "cell_type": "code",
   "execution_count": 50,
   "metadata": {
    "collapsed": true
   },
   "outputs": [],
   "source": [
    "NN_BATCH_SIZE = 4096"
   ]
  },
  {
   "cell_type": "code",
   "execution_count": 57,
   "metadata": {
    "collapsed": true
   },
   "outputs": [],
   "source": [
    "PARTS_LEVEL = 2"
   ]
  },
  {
   "cell_type": "code",
   "execution_count": 58,
   "metadata": {
    "collapsed": true
   },
   "outputs": [],
   "source": [
    "param_results_path = os.path.join(os.path.join(nn_parameter_search_location, GLOBAL_VARS.MODEL_NAME, \n",
    "                                           NN_PARAMETER_SEARCH_PREFIX.format(classifications_type, PARTS_LEVEL, NN_BATCH_SIZE)))\n",
    "param_results_dict = pickle.load(open(param_results_path))"
   ]
  },
  {
   "cell_type": "code",
   "execution_count": 59,
   "metadata": {
    "collapsed": false
   },
   "outputs": [
    {
     "name": "stderr",
     "output_type": "stream",
     "text": [
      "2017-04-13 02:51:02,761 : INFO : Loading Test Data from file\n"
     ]
    }
   ],
   "source": [
    "Xt, yt = get_test_data(classifications_type, PARTS_LEVEL)"
   ]
  },
  {
   "cell_type": "code",
   "execution_count": 60,
   "metadata": {
    "collapsed": true
   },
   "outputs": [],
   "source": [
    "NN_OUTPUT_NEURONS = len(classifications)\n",
    "NN_INPUT_NEURONS = Xt.shape[1]"
   ]
  },
  {
   "cell_type": "code",
   "execution_count": 61,
   "metadata": {
    "collapsed": false
   },
   "outputs": [
    {
     "data": {
      "text/plain": [
       "['lstm_optimizer_rmsprop_size_1000_w-drop_0.5_u-drop_0.5_stack_1_conv_None']"
      ]
     },
     "execution_count": 61,
     "metadata": {},
     "output_type": "execute_result"
    }
   ],
   "source": [
    "param_results_dict.keys()"
   ]
  },
  {
   "cell_type": "code",
   "execution_count": 62,
   "metadata": {
    "collapsed": false
   },
   "outputs": [
    {
     "name": "stderr",
     "output_type": "stream",
     "text": [
      "2017-04-13 02:51:05,964 : INFO : ***************************************************************************************\n",
      "2017-04-13 02:51:05,966 : INFO : lstm_optimizer_rmsprop_size_1000_w-drop_0.5_u-drop_0.5_stack_1_conv_None\n"
     ]
    },
    {
     "name": "stdout",
     "output_type": "stream",
     "text": [
      "____________________________________________________________________________________________________\n",
      "Layer (type)                     Output Shape          Param #     Connected to                     \n",
      "====================================================================================================\n",
      "lstm_1000_w-drop_0.5_u-drop_0.5_ (None, 1000)          4804000     lstm_input_9[0][0]               \n",
      "____________________________________________________________________________________________________\n",
      "sigmoid_output (Dense)           (None, 244)           244244      lstm_1000_w-drop_0.5_u-drop_0.5_l\n",
      "====================================================================================================\n"
     ]
    },
    {
     "name": "stderr",
     "output_type": "stream",
     "text": [
      "2017-04-13 02:51:10,178 : INFO : Evaluating on Test Data using best weights\n"
     ]
    },
    {
     "name": "stdout",
     "output_type": "stream",
     "text": [
      "Total params: 5048244\n",
      "____________________________________________________________________________________________________\n"
     ]
    },
    {
     "name": "stderr",
     "output_type": "stream",
     "text": [
      "2017-04-13 02:53:12,221 : INFO : Generating Test Metrics\n"
     ]
    },
    {
     "name": "stdout",
     "output_type": "stream",
     "text": [
      "** Test Metrics: Cov Err: 2.438, Avg Labels: 1.240, \n",
      "\t\t Top 1: 0.748, Top 3: 0.885, Top 5: 0.937, \n",
      "\t\t F1 Micro: 0.712, F1 Macro: 0.255, Total Pos: 427,300\n"
     ]
    }
   ],
   "source": [
    "lstm_output_size = 1000\n",
    "w_dropout_do = 0.5\n",
    "u_dropout_do = 0.5\n",
    "stack_layers = 1\n",
    "conv_size = None\n",
    "conv_filter_length = None\n",
    "conv_max_pooling_length = None\n",
    "\n",
    "GLOBAL_VARS.NN_MODEL_NAME = 'lstm_optimizer_{}_size_{}_w-drop_{}_u-drop_{}_stack_{}_conv_{}'.format(NN_OPTIMIZER,\n",
    "    lstm_output_size,  w_dropout_do, u_dropout_do, stack_layers, str(conv_size)\n",
    ")\n",
    "if conv_size:\n",
    "    GLOBAL_VARS.NN_MODEL_NAME += '_conv-filter-length_{}_max-pooling-size_{}'.format(conv_filter_length, \n",
    "                                                                                     conv_max_pooling_length)\n",
    "                                                                                     \n",
    "if GLOBAL_VARS.NN_MODEL_NAME not in param_results_dict.keys():\n",
    "    print \"Can't find model: {}\".format(GLOBAL_VARS.NN_MODEL_NAME)\n",
    "    raise Exception()\n",
    "\n",
    "info('***************************************************************************************')\n",
    "info(GLOBAL_VARS.NN_MODEL_NAME)\n",
    "\n",
    "# creating the actual keras model\n",
    "model = create_keras_rnn_model(DOC2VEC_SIZE, NN_OUTPUT_NEURONS, \n",
    "                              lstm_output_size, w_dropout_do, u_dropout_do, stack_layers, conv_size, \n",
    "                               conv_filter_length, conv_max_pooling_length)\n",
    "model.summary()\n",
    "\n",
    "# get model best weights\n",
    "# weights = param_results_dict[GLOBAL_VARS.NN_MODEL_NAME]['metrics_callback'].best_weights\n",
    "weights = param_results_dict[GLOBAL_VARS.NN_MODEL_NAME]['best_weights']\n",
    "model.set_weights(weights)\n",
    "\n",
    "info('Evaluating on Test Data using best weights')\n",
    "ytp = model.predict(Xt)\n",
    "ytp_binary = get_binary_0_5(ytp)\n",
    "#print yvp\n",
    "info('Generating Test Metrics')\n",
    "test_metrics = get_metrics(yt, ytp, ytp_binary)\n",
    "print \"** Test Metrics: Cov Err: {:.3f}, Avg Labels: {:.3f}, \\n\\t\\t Top 1: {:.3f}, Top 3: {:.3f}, Top 5: {:.3f}, \\n\\t\\t F1 Micro: {:.3f}, F1 Macro: {:.3f}, Total Pos: {:,d}\".format(\n",
    "    test_metrics['coverage_error'], test_metrics['average_num_of_labels'], \n",
    "    test_metrics['top_1'], test_metrics['top_3'], test_metrics['top_5'], \n",
    "    test_metrics['f1_micro'], test_metrics['f1_macro'], test_metrics['total_positive'])\n",
    "\n",
    "ensure_disk_location_exists(os.path.join(nn_parameter_search_location, GLOBAL_VARS.MODEL_NAME))\n",
    "    \n",
    "pickle.dump(test_metrics, open(os.path.join(nn_parameter_search_location, GLOBAL_VARS.MODEL_NAME, \n",
    "                                            TEST_METRICS_FILENAME.format(classifications_type, PARTS_LEVEL)), 'w'))\n"
   ]
  },
  {
   "cell_type": "code",
   "execution_count": null,
   "metadata": {
    "collapsed": true
   },
   "outputs": [],
   "source": []
  }
 ],
 "metadata": {
  "kernelspec": {
   "display_name": "Python 2",
   "language": "python",
   "name": "python2"
  },
  "language_info": {
   "codemirror_mode": {
    "name": "ipython",
    "version": 2
   },
   "file_extension": ".py",
   "mimetype": "text/x-python",
   "name": "python",
   "nbconvert_exporter": "python",
   "pygments_lexer": "ipython2",
   "version": "2.7.12"
  }
 },
 "nbformat": 4,
 "nbformat_minor": 0
}
