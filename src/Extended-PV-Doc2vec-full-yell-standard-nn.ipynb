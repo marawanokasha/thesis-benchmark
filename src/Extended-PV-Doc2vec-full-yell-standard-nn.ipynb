{
 "cells": [
  {
   "cell_type": "code",
   "execution_count": 1,
   "metadata": {
    "collapsed": false
   },
   "outputs": [
    {
     "name": "stderr",
     "output_type": "stream",
     "text": [
      "Using gpu device 0: TITAN X (Pascal) (CNMeM is disabled, cuDNN 5105)\n",
      "/home/stud/shalaby/.virtualenv/thesis-env/local/lib/python2.7/site-packages/theano/sandbox/cuda/__init__.py:600: UserWarning: Your cuDNN version is more recent than the one Theano officially supports. If you see any problems, try updating Theano or downgrading cuDNN to version 5.\n",
      "  warnings.warn(warn)\n",
      "Using Theano backend.\n"
     ]
    }
   ],
   "source": [
    "import json\n",
    "import nltk\n",
    "from nltk.tokenize import RegexpTokenizer\n",
    "import string\n",
    "import math\n",
    "import os\n",
    "import time\n",
    "from collections import namedtuple, defaultdict\n",
    "import cPickle as pickle\n",
    "import pandas as pd\n",
    "\n",
    "%matplotlib inline\n",
    "import matplotlib.pyplot as plt\n",
    "import matplotlib as mpl\n",
    "import numpy as np\n",
    "import random\n",
    "\n",
    "from multiprocessing.dummy import Pool as ThreadPool\n",
    "import itertools\n",
    "\n",
    "from sklearn.metrics import coverage_error\n",
    "import sklearn.metrics\n",
    "from sklearn.multiclass import OneVsRestClassifier\n",
    "from sklearn import linear_model\n",
    "from sklearn.preprocessing import MultiLabelBinarizer\n",
    "\n",
    "from gensim.models.doc2vec import Doc2Vec, LabeledSentence\n",
    "\n",
    "import logging\n",
    "from logging import info\n",
    "from functools import partial\n",
    "\n",
    "from keras.layers import Input, Dense, Dropout\n",
    "from keras.models import Model, Sequential\n",
    "\n",
    "from sklearn.model_selection import ParameterSampler\n",
    "\n",
    "from thesis.utils.metrics import *"
   ]
  },
  {
   "cell_type": "code",
   "execution_count": 2,
   "metadata": {
    "collapsed": true
   },
   "outputs": [],
   "source": [
    "root = logging.getLogger()\n",
    "for handler in root.handlers[:]:\n",
    "    root.removeHandler(handler)\n",
    "logging.basicConfig(format='%(asctime)s : %(levelname)s : %(message)s', level=logging.INFO) # adds a default StreamHanlder\n",
    "#root.addHandler(logging.StreamHandler())"
   ]
  },
  {
   "cell_type": "code",
   "execution_count": 3,
   "metadata": {
    "collapsed": true
   },
   "outputs": [],
   "source": [
    "IS_SAMPLE = False"
   ]
  },
  {
   "cell_type": "code",
   "execution_count": 4,
   "metadata": {
    "collapsed": true
   },
   "outputs": [],
   "source": [
    "SVM_SEED = 1234\n",
    "DOC2VEC_SEED = 1234\n",
    "WORD2VEC_SEED = 1234\n",
    "NN_SEED = 1234"
   ]
  },
  {
   "cell_type": "code",
   "execution_count": 5,
   "metadata": {
    "collapsed": true
   },
   "outputs": [],
   "source": [
    "MIN_WORD_COUNT = 50\n",
    "MIN_SIZE = 0\n",
    "NUM_CORES = 16"
   ]
  },
  {
   "cell_type": "code",
   "execution_count": 6,
   "metadata": {
    "collapsed": false
   },
   "outputs": [],
   "source": [
    "GLOBAL_VARS = namedtuple('GLOBAL_VARS', ['MODEL_NAME', 'DOC2VEC_MODEL_NAME', 'DOC2VEC_MODEL', \n",
    "                                         'SVM_MODEL_NAME', 'NN_MODEL_NAME'])"
   ]
  },
  {
   "cell_type": "code",
   "execution_count": 7,
   "metadata": {
    "collapsed": true
   },
   "outputs": [],
   "source": [
    "VOCAB_MODEL = \"vocab_model\"\n",
    "MODEL_PREFIX = \"model\"\n",
    "VALIDATION_MATRIX = \"validation_matrix.pkl\"\n",
    "VALIDATION_DICT = \"validation_dict.pkl\"\n",
    "TEST_MATRIX = \"test_matrix.pkl\"\n",
    "TEST_DICT = \"test_dict.pkl\"\n",
    "METRICS = \"metrics.pkl\"\n",
    "CLASSIFIER = \"classifier.pkl\"\n",
    "TYPE_CLASSIFIER= \"{}_classifier.pkl\"\n",
    "\n",
    "TRAINING_DATA_MATRIX = \"X.npy\"\n",
    "TRAINING_LABELS_MATRIX = \"y_{}.npy\"\n",
    "VALIDATION_DATA_MATRIX = \"Xv.npy\"\n",
    "VALIDATION_LABELS_MATRIX = \"yv_{}.npy\""
   ]
  },
  {
   "cell_type": "code",
   "execution_count": 8,
   "metadata": {
    "collapsed": true
   },
   "outputs": [],
   "source": [
    "NN_PARAMETER_SEARCH_PREFIX = \"standard_nn_{}_batch_{}_nn_parameter_searches.pkl\""
   ]
  },
  {
   "cell_type": "code",
   "execution_count": 9,
   "metadata": {
    "collapsed": false
   },
   "outputs": [],
   "source": [
    "root_location = \"/mnt/data2/shalaby/\"\n",
    "exports_location = root_location + \"exported_data/\"\n",
    "\n",
    "doc2vec_model_save_location = os.path.join(\"/mnt/data/shalaby/\", \"parameter_search_doc2vec_models_extended\", \"full\")\n",
    "nn_parameter_search_location = os.path.join(root_location, \"nn_parameter_search_extended\")\n",
    "if not os.path.exists(doc2vec_model_save_location):\n",
    "    os.makedirs(doc2vec_model_save_location)\n",
    "if not os.path.exists(os.path.join(doc2vec_model_save_location, VOCAB_MODEL)):\n",
    "    os.makedirs(os.path.join(doc2vec_model_save_location, VOCAB_MODEL))\n",
    "\n",
    "#training_file = root_location + \"docs_output.json\"\n",
    "training_file = root_location + 'docs_output.json'\n",
    "\n",
    "doc_classifications_map_file = exports_location + \"doc_classification_map.pkl\"\n",
    "sections_file = exports_location + \"sections.pkl\"\n",
    "classes_file = exports_location + \"classes.pkl\"\n",
    "subclasses_file = exports_location + \"subclasses.pkl\"\n",
    "valid_classes_file = exports_location + \"valid_classes.pkl\"\n",
    "valid_subclasses_file = exports_location + \"valid_subclasses.pkl\"\n",
    "classifications_output = exports_location + \"classifications.pkl\"\n",
    "training_docs_list_file = exports_location + \"extended_pv_training_docs_list.pkl\"\n",
    "validation_docs_list_file = exports_location + \"extended_pv_validation_docs_list.pkl\"\n",
    "test_docs_list_file = exports_location + \"extended_pv_test_docs_list.pkl\"\n",
    "\n",
    "\n",
    "training_doc_stats_file = exports_location + \"extended_pv_training_doc_stats.pkl\"\n",
    "validation_doc_stats_file = exports_location + \"extended_pv_validation_doc_stats.pkl\"\n",
    "\n",
    "preprocessed_location = root_location + \"preprocessed_data/\"\n",
    "\n",
    "training_preprocessed_files_prefix = preprocessed_location + \"extended_pv_training_docs_data_preprocessed-\"\n",
    "validation_preprocessed_files_prefix = preprocessed_location + \"extended_pv_validation_docs_data_preprocessed-\"\n",
    "test_preprocessed_files_prefix = preprocessed_location + \"extended_pv_test_docs_data_preprocessed-\"\n",
    "\n",
    "word2vec_questions_file = result = root_location + 'tensorflow/word2vec/questions-words.txt'"
   ]
  },
  {
   "cell_type": "code",
   "execution_count": 10,
   "metadata": {
    "collapsed": false
   },
   "outputs": [
    {
     "name": "stdout",
     "output_type": "stream",
     "text": [
      "CPU times: user 15.4 s, sys: 692 ms, total: 16.1 s\n",
      "Wall time: 16.1 s\n"
     ]
    }
   ],
   "source": [
    "%%time\n",
    "doc_classification_map = pickle.load(open(doc_classifications_map_file))\n",
    "sections = pickle.load(open(sections_file))\n",
    "classes = pickle.load(open(classes_file))\n",
    "subclasses = pickle.load(open(subclasses_file))\n",
    "valid_classes = pickle.load(open(valid_classes_file))\n",
    "valid_subclasses = pickle.load(open(valid_subclasses_file))\n",
    "training_docs_list = pickle.load(open(training_docs_list_file))\n",
    "validation_docs_list = pickle.load(open(validation_docs_list_file))\n",
    "test_docs_list = pickle.load(open(test_docs_list_file))"
   ]
  },
  {
   "cell_type": "code",
   "execution_count": 11,
   "metadata": {
    "collapsed": false
   },
   "outputs": [
    {
     "data": {
      "text/plain": [
       "120156"
      ]
     },
     "execution_count": 11,
     "metadata": {},
     "output_type": "execute_result"
    }
   ],
   "source": [
    "len(training_docs_list)"
   ]
  },
  {
   "cell_type": "code",
   "execution_count": 12,
   "metadata": {
    "collapsed": false
   },
   "outputs": [
    {
     "data": {
      "text/plain": [
       "29675"
      ]
     },
     "execution_count": 12,
     "metadata": {},
     "output_type": "execute_result"
    }
   ],
   "source": [
    "len(validation_docs_list)"
   ]
  },
  {
   "cell_type": "code",
   "execution_count": 13,
   "metadata": {
    "collapsed": false
   },
   "outputs": [
    {
     "data": {
      "text/plain": [
       "37771"
      ]
     },
     "execution_count": 13,
     "metadata": {},
     "output_type": "execute_result"
    }
   ],
   "source": [
    "len(test_docs_list)"
   ]
  },
  {
   "cell_type": "code",
   "execution_count": 14,
   "metadata": {
    "collapsed": false
   },
   "outputs": [],
   "source": [
    "def ensure_disk_location_exists(location):\n",
    "    if not os.path.exists(location):\n",
    "        os.makedirs(location)"
   ]
  },
  {
   "cell_type": "code",
   "execution_count": 15,
   "metadata": {
    "collapsed": true
   },
   "outputs": [],
   "source": [
    "VALIDATION_MINI_BATCH_SIZE = 10000\n",
    "def get_extended_docs_with_inference(doc2vec_model, doc_classification_map, classifications,\n",
    "                                           docs_list, file_to_write, preprocessed_files_prefix):\n",
    "    \"\"\"\n",
    "    Use the trained doc2vec model to get the paragraph vector representations of the validation or test documents\n",
    "    \"\"\"\n",
    "\n",
    "    def infer_one_doc(doc_tuple):\n",
    "        # doc2vec_model.random = np.random.RandomState(DOC2VEC_SEED)\n",
    "        doc_id, doc_tokens = doc_tuple\n",
    "        rep = doc2vec_model.infer_vector(doc_tokens)\n",
    "        return (doc_id, rep)\n",
    "\n",
    "\n",
    "    one_hot_encoder = OneHotEncoder(classifications)\n",
    "    classifications_set = set(classifications)\n",
    "    if os.path.exists(os.path.join(doc2vec_model_save_location, GLOBAL_VARS.MODEL_NAME, file_to_write)):\n",
    "        info(\"===== Loading inference vectors\")\n",
    "        inference_labels = []\n",
    "        inference_vectors_matrix = pickle.load(open(os.path.join(doc2vec_model_save_location, GLOBAL_VARS.MODEL_NAME, file_to_write)))\n",
    "        info(\"Loaded inference vectors matrix\")\n",
    "        for i, doc_id in enumerate(docs_list):\n",
    "            curr_doc_labels = set(doc_classification_map[doc_id]) & classifications_set\n",
    "            inference_labels.append(one_hot_encoder.get_label_vector(curr_doc_labels))\n",
    "            if i % 100000 == 0:\n",
    "                info(\"Finished {} in validation loading\".format(i))\n",
    "        inference_labels = np.array(inference_labels, dtype=np.int8)\n",
    "    else:\n",
    "        inference_documents_reps = {}\n",
    "        inference_vectors = []\n",
    "        inference_labels = []\n",
    "        info(\"===== Getting vectors with inference\")\n",
    "\n",
    "        # Multi-threaded inference\n",
    "        inference_docs_iterator = ExtendedPVDocumentBatchGenerator(preprocessed_files_prefix, batch_size=None)\n",
    "        generator_func = inference_docs_iterator.__iter__()\n",
    "        pool = ThreadPool(NUM_CORES)\n",
    "        # map consumes the whole iterator on the spot, so we have to use itertools.islice to fake mini-batching\n",
    "        mini_batch_size = VALIDATION_MINI_BATCH_SIZE\n",
    "        while True:\n",
    "            threaded_reps_partial = pool.map(infer_one_doc, itertools.islice(generator_func, mini_batch_size))\n",
    "            info(\"Finished: {} tags\".format(str(inference_docs_iterator.curr_index + 1)))\n",
    "            if threaded_reps_partial:\n",
    "                # threaded_reps.extend(threaded_reps_partial)\n",
    "                inference_documents_reps.update(threaded_reps_partial)\n",
    "            else:\n",
    "                break\n",
    "\n",
    "        # create matrix for the inferred vectors\n",
    "        for doc_id in docs_list:\n",
    "            inference_vectors.append(inference_documents_reps[doc_id])\n",
    "            curr_doc_labels = set(doc_classification_map[doc_id]) & classifications_set\n",
    "            inference_labels.append(one_hot_encoder.get_label_vector(curr_doc_labels))\n",
    "        inference_vectors_matrix = np.array(inference_vectors)\n",
    "        inference_labels = np.array(inference_labels, dtype=np.int8)\n",
    "        pickle.dump(inference_vectors_matrix,\n",
    "                    open(os.path.join(doc2vec_model_save_location, GLOBAL_VARS.MODEL_NAME, file_to_write), 'w'))\n",
    "\n",
    "    return inference_vectors_matrix, inference_labels"
   ]
  },
  {
   "cell_type": "code",
   "execution_count": 16,
   "metadata": {
    "collapsed": true
   },
   "outputs": [],
   "source": [
    "class OneHotEncoder():\n",
    "    \n",
    "    def __init__(self, classifications):\n",
    "        self.classifications = classifications\n",
    "        self.one_hot_indices = {}\n",
    "\n",
    "        # convert character classifications to bit vectors\n",
    "        for i, clssf in enumerate(classifications):\n",
    "            bits = [0] * len(classifications)\n",
    "            bits[i] = 1\n",
    "            self.one_hot_indices[clssf] = i\n",
    "    \n",
    "    def get_label_vector(self, labels):\n",
    "        \"\"\"\n",
    "        classes: array of string with the classes assigned to the instance\n",
    "        \"\"\"\n",
    "        output_vector = [0] * len(self.classifications)\n",
    "        for label in labels:\n",
    "            index = self.one_hot_indices[label]\n",
    "            output_vector[index] = 1\n",
    "            \n",
    "        return output_vector\n"
   ]
  },
  {
   "cell_type": "code",
   "execution_count": 17,
   "metadata": {
    "collapsed": false
   },
   "outputs": [],
   "source": [
    "class DocsOnlyExtendedPVDocumentBatchGenerator(object):\n",
    "    def __init__(self, filename_prefix, batch_size=10000 ):\n",
    "        \"\"\"\n",
    "        batch_size cant be > 10,000 due to a limitation in doc2vec training, \n",
    "        None means no batching (only use for inference)\n",
    "        \"\"\"\n",
    "        assert batch_size <= 10000 or batch_size is None\n",
    "        self.filename_prefix = filename_prefix\n",
    "        self.curr_lines = []\n",
    "        self.curr_docids = []\n",
    "        self.batch_size = batch_size\n",
    "        self.curr_index = 0\n",
    "        self.batch_end = -1\n",
    "    def load_new_batch_in_memory(self):\n",
    "        del self.curr_lines, self.curr_docids\n",
    "        self.curr_lines, self.curr_docids = [], []\n",
    "        info(\"Loading new batch for index: {}\".format(self.curr_index))\n",
    "        true_docs_count = 0\n",
    "        try:\n",
    "            with open(self.filename_prefix + str(self.curr_index)) as preproc_file:\n",
    "                for line in preproc_file:\n",
    "                    line_array = line.split(\" \")\n",
    "                    if is_real_doc(doc_id):\n",
    "                        doc_id = line_array[0]\n",
    "                        doc_tokens = line_array[1:]\n",
    "                        self.curr_lines.append(doc_tokens)\n",
    "                        self.curr_docids.append(doc_id)\n",
    "                        true_docs_count+= 1\n",
    "            self.batch_end = self.curr_index + true_docs_count - 1 \n",
    "            info(true_docs_count)\n",
    "            info(\"Finished loading new batch\")\n",
    "        except IOError:\n",
    "            info(\"No more batches to load, exiting at index: {}\".format(self.curr_index))\n",
    "            raise StopIteration()\n",
    "    def __iter__(self):\n",
    "        while True:\n",
    "            if self.curr_index > self.batch_end:\n",
    "                self.load_new_batch_in_memory()\n",
    "            for (doc_id, tokens) in zip(self.curr_docids, self.curr_lines):\n",
    "                if self.batch_size is not None:\n",
    "                    curr_batch_iter = 0\n",
    "                    # divide the document to batches according to the batch size\n",
    "                    while curr_batch_iter < len(tokens):\n",
    "                        yield LabeledSentence(words=tokens[curr_batch_iter: curr_batch_iter + self.batch_size], tags=[doc_id])\n",
    "                        curr_batch_iter += self.batch_size\n",
    "                else:\n",
    "                    yield doc_id, tokens\n",
    "                self.curr_index += 1\n",
    "                if self.curr_index % 1000 == 0:\n",
    "                    info(\"New Doc: {:5}, Batch End: {:5}\".format(self.curr_index, self.batch_end))\n",
    "\n",
    "def is_real_doc(doc_id):\n",
    "    return doc_id.find(\"_\") == -1"
   ]
  },
  {
   "cell_type": "markdown",
   "metadata": {},
   "source": [
    "## Get Document, Paragraph and Sentence Stats"
   ]
  },
  {
   "cell_type": "code",
   "execution_count": 18,
   "metadata": {
    "collapsed": true
   },
   "outputs": [],
   "source": [
    "class DocumentsStatsGenerator(object):\n",
    "    def __init__(self, filename_prefix):\n",
    "        self.filename_prefix = filename_prefix\n",
    "        self.docids = []\n",
    "        self.doc_paragraphs = defaultdict(list)\n",
    "        self.doc_sentences = defaultdict(list)\n",
    "        self.curr_doc_index = 0\n",
    "        self.batch_end = -1\n",
    "    def load_new_batch_in_memory(self):\n",
    "        info(\"Loading new batch for index: {}\".format(self.curr_doc_index))\n",
    "        true_docs_count = 0\n",
    "        try:\n",
    "            with open(self.filename_prefix + str(self.curr_doc_index)) as preproc_file:\n",
    "                for line in preproc_file:\n",
    "                    line_array = line.split(\" \", 1)\n",
    "                    entity_id = line_array[0].strip()\n",
    "                    if self.is_doc(entity_id):\n",
    "                        self.docids.append(entity_id)\n",
    "                        true_docs_count+= 1\n",
    "                    elif self.is_paragraph(entity_id):\n",
    "                        self.doc_paragraphs[self.get_doc_id(entity_id)].append(entity_id)\n",
    "                    elif self.is_sentence(entity_id):\n",
    "                        self.doc_sentences[self.get_doc_id(entity_id)].append(entity_id)\n",
    "            self.batch_end = self.curr_doc_index + true_docs_count - 1 \n",
    "            info(\"Finished loading new batch of {} documents\".format(true_docs_count))\n",
    "        except IOError:\n",
    "            info(\"No more batches to load, exiting at index: {}\".format(self.curr_doc_index))\n",
    "            raise StopIteration()\n",
    "    def get_stats(self):\n",
    "        try:\n",
    "            while True:\n",
    "                if self.curr_doc_index > self.batch_end:\n",
    "                    self.load_new_batch_in_memory()\n",
    "                self.curr_doc_index = self.batch_end + 1\n",
    "        except StopIteration:\n",
    "            pass\n",
    "            \n",
    "    def get_doc_id(self, entity_id):\n",
    "        return entity_id.split(\"_\")[0]\n",
    "    def get_entity_parts(self, entity_id):\n",
    "        return entity_id.split(\"_\")\n",
    "    def is_doc(self, entity_id):\n",
    "        parts = self.get_entity_parts(entity_id)\n",
    "        if len(parts) == 1:\n",
    "            return True\n",
    "        return False\n",
    "    def is_paragraph(self, entity_id):\n",
    "        parts = self.get_entity_parts(entity_id)\n",
    "        if len(parts) == 2:\n",
    "            return True\n",
    "        return False\n",
    "    def is_sentence(self, entity_id):\n",
    "        parts = self.get_entity_parts(entity_id)\n",
    "        if len(parts) == 3:\n",
    "            return True\n",
    "        return False"
   ]
  },
  {
   "cell_type": "code",
   "execution_count": 19,
   "metadata": {
    "collapsed": false
   },
   "outputs": [],
   "source": [
    "def get_doc_vector(entity_id):\n",
    "    if DOC2VEC_MMAP:\n",
    "        normal_array = []\n",
    "        normal_array[:] = doc2vec_model.docvecs[entity_id][:]\n",
    "        return normal_array\n",
    "    else:\n",
    "        return doc2vec_model.docvecs[entity_id]\n",
    "\n",
    "def data_generator(doc_stats, doc_id):\n",
    "    yield get_doc_vector(doc_id)\n",
    "    for paragraph_id in doc_stats.doc_paragraphs[doc_id]:\n",
    "        yield get_doc_vector(paragraph_id)\n",
    "    for sentence_id in doc_stats.doc_sentences[doc_id]:\n",
    "        yield get_doc_vector(sentence_id)\n",
    "    while True:\n",
    "        yield ZERO_VECTOR\n",
    "\n",
    "\n",
    "def validation_data_generator(doc_stats, validation_dict, doc_id):\n",
    "    yield validation_dict[doc_id]\n",
    "    for paragraph_id in doc_stats.doc_paragraphs[doc_id]:\n",
    "        yield validation_dict[paragraph_id]\n",
    "    for sentence_id in doc_stats.doc_sentences[doc_id]:\n",
    "        yield validation_dict[sentence_id]\n",
    "    while True:\n",
    "        yield ZERO_VECTOR\n",
    "        "
   ]
  },
  {
   "cell_type": "code",
   "execution_count": 20,
   "metadata": {
    "collapsed": true
   },
   "outputs": [],
   "source": [
    "def get_training_data(doc2vec_model, classifications):\n",
    "    one_hot_encoder = OneHotEncoder(classifications)\n",
    "    classifications_set = set(classifications)\n",
    "    training_data = []\n",
    "    training_labels_mat = np.zeros((len(training_docs_list), len(classifications)), dtype=np.int8)\n",
    "#     training_data_mat = np.zeros((len(training_docs_list), DOC2VEC_SIZE), dtype=np.float32)\n",
    "    for i,doc_id in enumerate(training_docs_list):\n",
    "        # converting from memmap to a normal array\n",
    "#         normal_array = []\n",
    "#         normal_array[:] = doc2vec_model.docvecs[doc_id][:]\n",
    "        normal_array = doc2vec_model.docvecs[doc_id]\n",
    "        training_data.append(normal_array)\n",
    "#         eligible_classifications = [clssf for clssf in doc_classification_map[doc_id] if clssf in classifications]\n",
    "        eligible_classifications = set(doc_classification_map[doc_id]) & classifications_set\n",
    "        training_labels_mat[i][:] = one_hot_encoder.get_label_vector(eligible_classifications)\n",
    "        if i % 100000 == 0:\n",
    "            info(\"Finished {} in training\".format(i))\n",
    "    info(\"doing matrix creation\")\n",
    "    training_data_mat = np.array(training_data)\n",
    "#     training_labels_mat = np.array(training_labels, dtype=np.int8)\n",
    "    del training_data\n",
    "    return training_data_mat, training_labels_mat"
   ]
  },
  {
   "cell_type": "code",
   "execution_count": 21,
   "metadata": {
    "collapsed": true
   },
   "outputs": [],
   "source": [
    "def get_validation_data(validation_dict, classifications, docs_list):\n",
    "    \n",
    "    one_hot_encoder = OneHotEncoder(classifications)\n",
    "    classifications_set = set(classifications)\n",
    "    inference_vectors = []\n",
    "    inference_labels = []\n",
    "    info(\"===== Getting vectors with inference\")\n",
    "\n",
    "    # create matrix for the inferred vectors\n",
    "    for doc_id in docs_list:\n",
    "        inference_vectors.append(validation_dict[doc_id])\n",
    "        curr_doc_labels = set(doc_classification_map[doc_id]) & classifications_set\n",
    "        inference_labels.append(one_hot_encoder.get_label_vector(curr_doc_labels))\n",
    "    inference_vectors_matrix = np.array(inference_vectors)\n",
    "    inference_labels = np.array(inference_labels, dtype=np.int8)\n",
    "\n",
    "    return inference_vectors_matrix, inference_labels"
   ]
  },
  {
   "cell_type": "markdown",
   "metadata": {},
   "source": [
    "## Actual Training, validation and Metrics Loop"
   ]
  },
  {
   "cell_type": "code",
   "execution_count": 22,
   "metadata": {
    "collapsed": false
   },
   "outputs": [],
   "source": [
    "from keras.layers import Input, Masking\n",
    "from keras.models import Model\n",
    "from keras.layers.recurrent import LSTM\n",
    "from keras.layers.pooling import GlobalAveragePooling1D\n",
    "from keras.datasets import imdb\n",
    "from keras.preprocessing import sequence\n",
    "import keras"
   ]
  },
  {
   "cell_type": "code",
   "execution_count": 23,
   "metadata": {
    "collapsed": true
   },
   "outputs": [],
   "source": [
    "classifications = sections\n",
    "classifications_type = 'sections'\n",
    "classifier_file = TYPE_CLASSIFIER.format(classifications_type)"
   ]
  },
  {
   "cell_type": "code",
   "execution_count": 24,
   "metadata": {
    "collapsed": false
   },
   "outputs": [],
   "source": [
    "VALIDATION_METRICS_FILENAME= '{}_validation_metrics.pkl'.format(classifications_type)\n",
    "TRAINING_METRICS_FILENAME = '{}_training_metrics.pkl'.format(classifications_type)"
   ]
  },
  {
   "cell_type": "markdown",
   "metadata": {},
   "source": [
    "#### Load the Doc2vec model"
   ]
  },
  {
   "cell_type": "code",
   "execution_count": 25,
   "metadata": {
    "collapsed": true
   },
   "outputs": [],
   "source": [
    "DOC2VEC_SIZE = 200\n",
    "DOC2VEC_WINDOW = 2\n",
    "DOC2VEC_MAX_VOCAB_SIZE = None\n",
    "DOC2VEC_SAMPLE = 1e-3\n",
    "DOC2VEC_TYPE = 1\n",
    "DOC2VEC_HIERARCHICAL_SAMPLE = 0\n",
    "DOC2VEC_NEGATIVE_SAMPLE_SIZE = 10\n",
    "DOC2VEC_CONCAT = 0\n",
    "DOC2VEC_MEAN = 1\n",
    "DOC2VEC_TRAIN_WORDS = 0\n",
    "DOC2VEC_EPOCHS = 1 # we do our training manually one epoch at a time\n",
    "DOC2VEC_MAX_EPOCHS = 8\n",
    "REPORT_DELAY = 20 # report the progress every x seconds\n",
    "REPORT_VOCAB_PROGRESS = 100000 # report vocab progress every x documents\n",
    "\n",
    "DOC2VEC_MMAP = 'r'\n",
    "# DOC2VEC_MMAP = None\n",
    "\n",
    "ZERO_VECTOR = [0] * DOC2VEC_SIZE"
   ]
  },
  {
   "cell_type": "code",
   "execution_count": 26,
   "metadata": {
    "collapsed": false
   },
   "outputs": [
    {
     "name": "stdout",
     "output_type": "stream",
     "text": [
      "doc2vec_size_200_w_2_type_dm_concat_0_mean_1_trainwords_0_hs_0_neg_10_vocabsize_None/epoch_8\n"
     ]
    }
   ],
   "source": [
    "placeholder_model_name = 'doc2vec_size_{}_w_{}_type_{}_concat_{}_mean_{}_trainwords_{}_hs_{}_neg_{}_vocabsize_{}'.format(DOC2VEC_SIZE, \n",
    "                                                                DOC2VEC_WINDOW, \n",
    "                                                                'dm' if DOC2VEC_TYPE == 1 else 'pv-dbow',\n",
    "                                                                DOC2VEC_CONCAT, DOC2VEC_MEAN,\n",
    "                                                                DOC2VEC_TRAIN_WORDS,\n",
    "                                                                DOC2VEC_HIERARCHICAL_SAMPLE,DOC2VEC_NEGATIVE_SAMPLE_SIZE,\n",
    "                                                                str(DOC2VEC_MAX_VOCAB_SIZE))\n",
    "GLOBAL_VARS.DOC2VEC_MODEL_NAME = placeholder_model_name\n",
    "placeholder_model_name = os.path.join(placeholder_model_name, \"epoch_{}\")\n",
    "\n",
    "epoch = 8\n",
    "\n",
    "GLOBAL_VARS.MODEL_NAME = placeholder_model_name.format(epoch)\n",
    "doc2vec_model = None\n",
    "print GLOBAL_VARS.MODEL_NAME"
   ]
  },
  {
   "cell_type": "code",
   "execution_count": 27,
   "metadata": {
    "collapsed": false,
    "scrolled": true
   },
   "outputs": [
    {
     "name": "stderr",
     "output_type": "stream",
     "text": [
      "2017-03-20 20:29:32,661 : INFO : loading Doc2Vec object from /mnt/data/shalaby/parameter_search_doc2vec_models_extended/full/doc2vec_size_200_w_2_type_dm_concat_0_mean_1_trainwords_0_hs_0_neg_10_vocabsize_None/epoch_8/model\n"
     ]
    },
    {
     "name": "stdout",
     "output_type": "stream",
     "text": [
      "/mnt/data/shalaby/parameter_search_doc2vec_models_extended/full/doc2vec_size_200_w_2_type_dm_concat_0_mean_1_trainwords_0_hs_0_neg_10_vocabsize_None/epoch_8/model\n"
     ]
    },
    {
     "name": "stderr",
     "output_type": "stream",
     "text": [
      "2017-03-20 20:32:10,419 : INFO : loading docvecs recursively from /mnt/data/shalaby/parameter_search_doc2vec_models_extended/full/doc2vec_size_200_w_2_type_dm_concat_0_mean_1_trainwords_0_hs_0_neg_10_vocabsize_None/epoch_8/model.docvecs.* with mmap=r\n",
      "2017-03-20 20:32:10,420 : INFO : loading doctag_syn0 from /mnt/data/shalaby/parameter_search_doc2vec_models_extended/full/doc2vec_size_200_w_2_type_dm_concat_0_mean_1_trainwords_0_hs_0_neg_10_vocabsize_None/epoch_8/model.docvecs.doctag_syn0.npy with mmap=r\n",
      "2017-03-20 20:32:10,476 : INFO : loading doctag_syn0_lockf from /mnt/data/shalaby/parameter_search_doc2vec_models_extended/full/doc2vec_size_200_w_2_type_dm_concat_0_mean_1_trainwords_0_hs_0_neg_10_vocabsize_None/epoch_8/model.docvecs.doctag_syn0_lockf.npy with mmap=r\n",
      "2017-03-20 20:32:10,487 : INFO : loading syn1neg from /mnt/data/shalaby/parameter_search_doc2vec_models_extended/full/doc2vec_size_200_w_2_type_dm_concat_0_mean_1_trainwords_0_hs_0_neg_10_vocabsize_None/epoch_8/model.syn1neg.npy with mmap=r\n",
      "2017-03-20 20:32:10,499 : INFO : loading syn0 from /mnt/data/shalaby/parameter_search_doc2vec_models_extended/full/doc2vec_size_200_w_2_type_dm_concat_0_mean_1_trainwords_0_hs_0_neg_10_vocabsize_None/epoch_8/model.syn0.npy with mmap=r\n",
      "2017-03-20 20:32:10,513 : INFO : setting ignored attribute syn0norm to None\n",
      "2017-03-20 20:32:10,514 : INFO : setting ignored attribute cum_table to None\n"
     ]
    },
    {
     "name": "stdout",
     "output_type": "stream",
     "text": [
      "CPU times: user 1min 59s, sys: 25.9 s, total: 2min 25s\n",
      "Wall time: 2min 38s\n"
     ]
    }
   ],
   "source": [
    "%%time\n",
    "print os.path.join(doc2vec_model_save_location, GLOBAL_VARS.MODEL_NAME, MODEL_PREFIX)\n",
    "if os.path.exists(os.path.join(doc2vec_model_save_location, GLOBAL_VARS.MODEL_NAME, MODEL_PREFIX)):\n",
    "    doc2vec_model = Doc2Vec.load(os.path.join(doc2vec_model_save_location, GLOBAL_VARS.MODEL_NAME, MODEL_PREFIX), mmap=DOC2VEC_MMAP)\n",
    "    doc2vec_model.workers = NUM_CORES\n",
    "    GLOBAL_VARS.DOC2VEC_MODEL = doc2vec_model\n",
    "else:\n",
    "    info(\"Couldnt find the doc2vec model with epoch {}\".format(epoch))\n",
    "    raise Exception()"
   ]
  },
  {
   "cell_type": "markdown",
   "metadata": {},
   "source": [
    "### Create/Load Training Document Stats"
   ]
  },
  {
   "cell_type": "code",
   "execution_count": 28,
   "metadata": {
    "collapsed": false,
    "scrolled": true
   },
   "outputs": [
    {
     "name": "stderr",
     "output_type": "stream",
     "text": [
      "2017-03-20 20:32:11,159 : INFO : Loading Training Document Stats\n"
     ]
    },
    {
     "name": "stdout",
     "output_type": "stream",
     "text": [
      "CPU times: user 59.3 s, sys: 5.18 s, total: 1min 4s\n",
      "Wall time: 1min 4s\n"
     ]
    }
   ],
   "source": [
    "%%time\n",
    "if not os.path.exists(training_doc_stats_file):\n",
    "    info(\"Creating Training Document Stats\")\n",
    "    doc_stats = DocumentsStatsGenerator(training_preprocessed_files_prefix)\n",
    "    doc_stats.get_stats()\n",
    "    pickle.dump(doc_stats, open(training_doc_stats_file, \"w\"))\n",
    "else:\n",
    "    info(\"Loading Training Document Stats\")\n",
    "    doc_stats = pickle.load(open(training_doc_stats_file, \"r\"))"
   ]
  },
  {
   "cell_type": "code",
   "execution_count": 31,
   "metadata": {
    "collapsed": false
   },
   "outputs": [
    {
     "name": "stdout",
     "output_type": "stream",
     "text": [
      "Paragraphs: 47\n",
      "Sentences: 196\n",
      "Max Size: 244\n"
     ]
    }
   ],
   "source": [
    "MAX_PARAGRAPHS = int(np.percentile([len(doc_stats.doc_paragraphs[d]) for d in doc_stats.docids], 50))\n",
    "print \"Paragraphs: {}\".format(MAX_PARAGRAPHS)\n",
    "MAX_SENTENCES = int(np.percentile([len(doc_stats.doc_sentences[d]) for d in doc_stats.docids], 50))\n",
    "print \"Sentences: {}\".format(MAX_SENTENCES)\n",
    "# +1 is for the document vector\n",
    "MAX_SIZE = MAX_PARAGRAPHS + MAX_SENTENCES + 1\n",
    "print \"Max Size: {}\".format(MAX_SIZE)"
   ]
  },
  {
   "cell_type": "code",
   "execution_count": 32,
   "metadata": {
    "collapsed": true
   },
   "outputs": [],
   "source": [
    "MAX_SIZE = 244"
   ]
  },
  {
   "cell_type": "code",
   "execution_count": 33,
   "metadata": {
    "collapsed": false
   },
   "outputs": [
    {
     "data": {
      "text/plain": [
       "20368"
      ]
     },
     "execution_count": 33,
     "metadata": {},
     "output_type": "execute_result"
    }
   ],
   "source": [
    "max([len(doc_stats.doc_sentences[d]) for d in doc_stats.docids])"
   ]
  },
  {
   "cell_type": "code",
   "execution_count": 34,
   "metadata": {
    "collapsed": false
   },
   "outputs": [
    {
     "data": {
      "text/plain": [
       "4686"
      ]
     },
     "execution_count": 34,
     "metadata": {},
     "output_type": "execute_result"
    }
   ],
   "source": [
    "max([len(doc_stats.doc_paragraphs[d]) for d in doc_stats.docids])"
   ]
  },
  {
   "cell_type": "markdown",
   "metadata": {},
   "source": [
    "### Get Training Data Matrices"
   ]
  },
  {
   "cell_type": "code",
   "execution_count": 29,
   "metadata": {
    "collapsed": false
   },
   "outputs": [
    {
     "name": "stderr",
     "output_type": "stream",
     "text": [
      "2017-03-20 20:33:15,616 : INFO : Finished 0 in training\n",
      "2017-03-20 20:33:16,839 : INFO : Finished 100000 in training\n",
      "2017-03-20 20:33:17,030 : INFO : doing matrix creation\n"
     ]
    },
    {
     "name": "stdout",
     "output_type": "stream",
     "text": [
      "CPU times: user 3.2 s, sys: 7.12 s, total: 10.3 s\n",
      "Wall time: 3min 26s\n"
     ]
    }
   ],
   "source": [
    "%%time\n",
    "X, y = get_training_data(doc2vec_model, classifications)"
   ]
  },
  {
   "cell_type": "code",
   "execution_count": 30,
   "metadata": {
    "collapsed": false
   },
   "outputs": [
    {
     "name": "stdout",
     "output_type": "stream",
     "text": [
      "96124912\n",
      "(120156, 200)\n"
     ]
    }
   ],
   "source": [
    "import sys\n",
    "print sys.getsizeof(X)\n",
    "print X.shape"
   ]
  },
  {
   "cell_type": "markdown",
   "metadata": {},
   "source": [
    "## Create Validation Matrix"
   ]
  },
  {
   "cell_type": "code",
   "execution_count": 31,
   "metadata": {
    "collapsed": true
   },
   "outputs": [],
   "source": [
    "validation_dict = None"
   ]
  },
  {
   "cell_type": "markdown",
   "metadata": {},
   "source": [
    "Load Validation Dict"
   ]
  },
  {
   "cell_type": "code",
   "execution_count": 32,
   "metadata": {
    "collapsed": false
   },
   "outputs": [
    {
     "name": "stdout",
     "output_type": "stream",
     "text": [
      "CPU times: user 17min 27s, sys: 37.8 s, total: 18min 4s\n",
      "Wall time: 18min 8s\n"
     ]
    }
   ],
   "source": [
    "%%time\n",
    "validation_dict = pickle.load(open(os.path.join(doc2vec_model_save_location, GLOBAL_VARS.MODEL_NAME, VALIDATION_DICT)))"
   ]
  },
  {
   "cell_type": "markdown",
   "metadata": {},
   "source": [
    "### Get Validation Data Matrices"
   ]
  },
  {
   "cell_type": "code",
   "execution_count": 33,
   "metadata": {
    "collapsed": false
   },
   "outputs": [
    {
     "name": "stderr",
     "output_type": "stream",
     "text": [
      "2017-03-20 20:55:11,785 : INFO : ===== Getting vectors with inference\n"
     ]
    },
    {
     "name": "stdout",
     "output_type": "stream",
     "text": [
      "CPU times: user 280 ms, sys: 512 ms, total: 792 ms\n",
      "Wall time: 758 ms\n"
     ]
    }
   ],
   "source": [
    "%%time\n",
    "Xv, yv = get_validation_data(validation_dict, classifications, validation_docs_list)"
   ]
  },
  {
   "cell_type": "markdown",
   "metadata": {},
   "source": [
    "# Actual Training"
   ]
  },
  {
   "cell_type": "code",
   "execution_count": 34,
   "metadata": {
    "collapsed": true
   },
   "outputs": [],
   "source": [
    "def create_keras_nn_model(input_size, output_size, \n",
    "                          first_hidden_layer_size, first_hidden_layer_activation, \n",
    "                          second_hidden_layer_size, second_hidden_layer_activation, \n",
    "                          input_dropout_do, hidden_dropout_do, second_hidden_dropout_do=False):\n",
    "    \n",
    "    doc_input = Input(shape=(input_size,), name='doc_input')\n",
    "    if input_dropout_do:\n",
    "        hidden = Dropout(0.7)(doc_input)\n",
    "    hidden = Dense(first_hidden_layer_size, activation=first_hidden_layer_activation, \n",
    "                   name='hidden_layer_{}'.format(first_hidden_layer_activation))(doc_input if not input_dropout_do else hidden)\n",
    "    if hidden_dropout_do:\n",
    "        hidden = Dropout(0.5)(hidden)\n",
    "    if second_hidden_layer_size is not None:\n",
    "        hidden = Dense(second_hidden_layer_size, activation=second_hidden_layer_activation, \n",
    "                       name='hidden_layer2_{}'.format(second_hidden_layer_activation))(hidden)\n",
    "    if second_hidden_dropout_do:\n",
    "        hidden = Dropout(0.5)(hidden)\n",
    "    softmax_output = Dense(output_size, activation='sigmoid', name='softmax_output')(hidden)\n",
    "\n",
    "    model = Model(input=doc_input, output=softmax_output)\n",
    "    model.compile(optimizer='rmsprop', loss='binary_crossentropy')\n",
    "    \n",
    "    return model"
   ]
  },
  {
   "cell_type": "code",
   "execution_count": 36,
   "metadata": {
    "collapsed": true
   },
   "outputs": [],
   "source": [
    "early_stopper_deltas = {\n",
    "    'sections': 0.0001,\n",
    "    'classes': 0.00001,\n",
    "    'subclasses': 0.00001\n",
    "}\n",
    "early_stopper_patience = {\n",
    "    'sections': 10,\n",
    "    'classes': 10,\n",
    "    'subclasses': 10\n",
    "}\n",
    "epochs_before_validation = {\n",
    "    'sections': 10,\n",
    "    'classes': 10,\n",
    "    'subclasses': 10\n",
    "}"
   ]
  },
  {
   "cell_type": "code",
   "execution_count": 37,
   "metadata": {
    "collapsed": true
   },
   "outputs": [],
   "source": [
    "NN_OUTPUT_NEURONS = len(classifications)\n",
    "\n",
    "EARLY_STOPPER_MIN_DELTA = early_stopper_deltas[classifications_type]\n",
    "EARLY_STOPPER_PATIENCE = early_stopper_patience[classifications_type]\n",
    "\n",
    "NN_MAX_EPOCHS = 100\n",
    "NN_RANDOM_SEARCH_BUDGET = 30\n",
    "NN_PARAM_SAMPLE_SEED = 1234\n",
    "\n",
    "NN_BATCH_SIZE = 2048\n",
    "\n",
    "MODEL_VERBOSITY = 0\n",
    "\n",
    "to_skip = []\n",
    "\n",
    "load_existing_results = True\n",
    "save_results = True\n",
    "\n",
    "\n",
    "first_hidden_layer_sizes = [100,200,500]\n",
    "# first_hidden_layer_sizes = [1000,2000]\n",
    "# second_hidden_layer_sizes = [1000,2000,3000,4000]\n",
    "second_hidden_layer_sizes = [None,500,1000,2000]\n",
    "first_hidden_layer_activations = ['relu','sigmoid', 'tanh']\n",
    "second_hidden_layer_activations = ['relu','sigmoid', 'tanh']\n",
    "# first_hidden_layer_activations = ['relu']\n",
    "# second_hidden_layer_activations = ['relu']\n",
    "# input_dropout_options = [False, True]\n",
    "# hidden_dropout_options = [False, True]\n",
    "input_dropout_options = [False]\n",
    "hidden_dropout_options = [True]\n",
    "second_hidden_dropout_options = [False]\n",
    "\n",
    "\n",
    "np.random.seed(NN_SEED)\n",
    "\n",
    "\n",
    "# # Uncomment for Specific Configuration\n",
    "# NN_RANDOM_SEARCH_BUDGET = 1\n",
    "# first_hidden_layer_sizes = [100]\n",
    "# second_hidden_layer_sizes = [1000]\n",
    "# first_hidden_layer_activations = ['tanh']\n",
    "# second_hidden_layer_activations = ['relu']\n",
    "# input_dropout_options = [False]\n",
    "# hidden_dropout_options = [True]\n",
    "# second_hidden_dropout_options = [False]"
   ]
  },
  {
   "cell_type": "code",
   "execution_count": 38,
   "metadata": {
    "collapsed": false
   },
   "outputs": [],
   "source": [
    "class MetricsCallback(keras.callbacks.Callback):\n",
    "    \n",
    "    EPOCHS_BEFORE_VALIDATION = epochs_before_validation[classifications_type]\n",
    "    \n",
    "    def on_train_begin(self, logs={}):\n",
    "        self.epoch_index = 0\n",
    "        self.val_loss_reductions = 0\n",
    "        self.metrics_dict = {}\n",
    "        self.best_val_loss = np.iinfo(np.int32).max\n",
    "        self.best_weights = None\n",
    "        self.best_validation_metrics = None\n",
    "    def on_epoch_end(self, epoch, logs={}):\n",
    "        self.epoch_index += 1\n",
    "        if logs['val_loss'] < self.best_val_loss:\n",
    "            self.val_loss_reductions += 1\n",
    "            self.best_val_loss = logs['val_loss']\n",
    "            self.best_weights = self.model.get_weights()\n",
    "            #print '\\r    \\r' # to remove the previous line of verbose output of model fit\n",
    "            #time.sleep(0.2)\n",
    "            info('Found lower val loss for epoch {} => {}'.format(self.epoch_index, round(logs['val_loss'], 5)))\n",
    "            if self.val_loss_reductions % MetricsCallback.EPOCHS_BEFORE_VALIDATION == 0:\n",
    "                \n",
    "                info('Validation Loss Reduced {} times'.format(self.val_loss_reductions))\n",
    "                info('Evaluating on Validation Data')\n",
    "                yvp = self.model.predict(Xv)\n",
    "                yvp_binary = get_binary_0_5(yvp)\n",
    "                info('Generating Validation Metrics')\n",
    "                validation_metrics = get_metrics(yv, yvp, yvp_binary)\n",
    "                print \"****** Validation Metrics: Cov Err: {:.3f} | Top 3: {:.3f} | Top 5: {:.3f} | F1 Micro: {:.3f} | F1 Macro: {:.3f}\".format(\n",
    "                    validation_metrics['coverage_error'], validation_metrics['top_3'], validation_metrics['top_5'], \n",
    "                    validation_metrics['f1_micro'], validation_metrics['f1_macro'])\n",
    "                self.metrics_dict[self.epoch_index] = validation_metrics\n",
    "#                 self.best_validation_metrics = validation_metrics"
   ]
  },
  {
   "cell_type": "code",
   "execution_count": 39,
   "metadata": {
    "collapsed": false
   },
   "outputs": [
    {
     "name": "stderr",
     "output_type": "stream",
     "text": [
      "2017-03-20 21:06:26,707 : INFO : No Previous results exist in /mnt/data2/shalaby/nn_parameter_search_extended/doc2vec_size_200_w_2_type_dm_concat_0_mean_1_trainwords_0_hs_0_neg_10_vocabsize_None/epoch_8/standard_nn_sections_batch_2048_nn_parameter_searches.pkl\n",
      "2017-03-20 21:06:26,710 : INFO : ***************************************************************************************\n",
      "2017-03-20 21:06:26,711 : INFO : nn_1st-size_500_1st-act_relu_2nd-size_500_2nd-act_tanh_in-drop_False_hid-drop_True\n"
     ]
    },
    {
     "name": "stdout",
     "output_type": "stream",
     "text": [
      "____________________________________________________________________________________________________\n",
      "Layer (type)                     Output Shape          Param #     Connected to                     \n",
      "====================================================================================================\n",
      "doc_input (InputLayer)           (None, 200)           0                                            \n",
      "____________________________________________________________________________________________________\n",
      "hidden_layer_relu (Dense)        (None, 500)           100500      doc_input[0][0]                  \n",
      "____________________________________________________________________________________________________\n",
      "dropout_1 (Dropout)              (None, 500)           0           hidden_layer_relu[0][0]          \n",
      "____________________________________________________________________________________________________\n",
      "hidden_layer2_tanh (Dense)       (None, 500)           250500      dropout_1[0][0]                  \n",
      "____________________________________________________________________________________________________\n",
      "softmax_output (Dense)           (None, 8)             4008        hidden_layer2_tanh[0][0]         \n",
      "====================================================================================================\n",
      "Total params: 355008\n",
      "____________________________________________________________________________________________________\n"
     ]
    },
    {
     "name": "stderr",
     "output_type": "stream",
     "text": [
      "2017-03-20 21:06:32,603 : INFO : Found lower val loss for epoch 1 => 0.30382\n",
      "2017-03-20 21:06:33,621 : INFO : Found lower val loss for epoch 2 => 0.28485\n",
      "2017-03-20 21:06:34,610 : INFO : Found lower val loss for epoch 3 => 0.26726\n",
      "2017-03-20 21:06:35,958 : INFO : Found lower val loss for epoch 4 => 0.26076\n",
      "2017-03-20 21:06:37,984 : INFO : Found lower val loss for epoch 6 => 0.25115\n",
      "2017-03-20 21:06:39,682 : INFO : Found lower val loss for epoch 8 => 0.25052\n",
      "2017-03-20 21:06:40,605 : INFO : Found lower val loss for epoch 9 => 0.248\n",
      "2017-03-20 21:06:51,563 : INFO : Evaluating on Validation Data using saved best weights\n"
     ]
    },
    {
     "name": "stdout",
     "output_type": "stream",
     "text": [
      "Epoch 00019: early stopping\n",
      "CPU times: user 8 s, sys: 10.4 s, total: 18.4 s\n",
      "Wall time: 21.7 s\n"
     ]
    },
    {
     "name": "stderr",
     "output_type": "stream",
     "text": [
      "2017-03-20 21:06:52,328 : INFO : Generating Validation Metrics\n"
     ]
    },
    {
     "name": "stdout",
     "output_type": "stream",
     "text": [
      "****** Validation Metrics: Cov Err: 1.827 | Top 3: 0.912 | Top 5: 0.982 | F1 Micro: 0.614 | F1 Macro: 0.560\n"
     ]
    },
    {
     "name": "stderr",
     "output_type": "stream",
     "text": [
      "2017-03-20 21:06:53,230 : INFO : ***************************************************************************************\n",
      "2017-03-20 21:06:53,232 : INFO : nn_1st-size_200_1st-act_sigmoid_2nd-size_500_2nd-act_tanh_in-drop_False_hid-drop_True\n"
     ]
    },
    {
     "name": "stdout",
     "output_type": "stream",
     "text": [
      "____________________________________________________________________________________________________\n",
      "Layer (type)                     Output Shape          Param #     Connected to                     \n",
      "====================================================================================================\n",
      "doc_input (InputLayer)           (None, 200)           0                                            \n",
      "____________________________________________________________________________________________________\n",
      "hidden_layer_sigmoid (Dense)     (None, 200)           40200       doc_input[0][0]                  \n",
      "____________________________________________________________________________________________________\n",
      "dropout_2 (Dropout)              (None, 200)           0           hidden_layer_sigmoid[0][0]       \n",
      "____________________________________________________________________________________________________\n",
      "hidden_layer2_tanh (Dense)       (None, 500)           100500      dropout_2[0][0]                  \n",
      "____________________________________________________________________________________________________\n",
      "softmax_output (Dense)           (None, 8)             4008        hidden_layer2_tanh[0][0]         \n",
      "====================================================================================================\n",
      "Total params: 144708\n",
      "____________________________________________________________________________________________________\n"
     ]
    },
    {
     "name": "stderr",
     "output_type": "stream",
     "text": [
      "2017-03-20 21:06:55,877 : INFO : Found lower val loss for epoch 1 => 0.35142\n",
      "2017-03-20 21:06:56,776 : INFO : Found lower val loss for epoch 2 => 0.33793\n",
      "2017-03-20 21:06:58,498 : INFO : Found lower val loss for epoch 4 => 0.3278\n",
      "2017-03-20 21:06:59,402 : INFO : Found lower val loss for epoch 5 => 0.31309\n",
      "2017-03-20 21:07:01,182 : INFO : Found lower val loss for epoch 7 => 0.31023\n",
      "2017-03-20 21:07:02,320 : INFO : Found lower val loss for epoch 8 => 0.29593\n",
      "2017-03-20 21:07:03,272 : INFO : Found lower val loss for epoch 9 => 0.29308\n",
      "2017-03-20 21:07:04,093 : INFO : Found lower val loss for epoch 10 => 0.291\n",
      "2017-03-20 21:07:06,166 : INFO : Found lower val loss for epoch 12 => 0.28541\n",
      "2017-03-20 21:07:09,305 : INFO : Found lower val loss for epoch 15 => 0.28073\n",
      "2017-03-20 21:07:09,307 : INFO : Validation Loss Reduced 10 times\n",
      "2017-03-20 21:07:09,309 : INFO : Evaluating on Validation Data\n",
      "2017-03-20 21:07:10,050 : INFO : Generating Validation Metrics\n",
      "/home/stud/shalaby/.virtualenv/thesis-env/local/lib/python2.7/site-packages/sklearn/metrics/classification.py:1113: UndefinedMetricWarning: Precision is ill-defined and being set to 0.0 in labels with no predicted samples.\n",
      "  'precision', 'predicted', average, warn_for)\n",
      "/home/stud/shalaby/.virtualenv/thesis-env/local/lib/python2.7/site-packages/sklearn/metrics/classification.py:1113: UndefinedMetricWarning: F-score is ill-defined and being set to 0.0 in labels with no predicted samples.\n",
      "  'precision', 'predicted', average, warn_for)\n",
      "/home/stud/shalaby/.virtualenv/thesis-env/local/lib/python2.7/site-packages/sklearn/metrics/classification.py:1113: UndefinedMetricWarning: Precision is ill-defined and being set to 0.0 due to no predicted samples.\n",
      "  'precision', 'predicted', average, warn_for)\n",
      "/home/stud/shalaby/.virtualenv/thesis-env/local/lib/python2.7/site-packages/sklearn/metrics/classification.py:1113: UndefinedMetricWarning: F-score is ill-defined and being set to 0.0 due to no predicted samples.\n",
      "  'precision', 'predicted', average, warn_for)\n"
     ]
    },
    {
     "name": "stdout",
     "output_type": "stream",
     "text": [
      "****** Validation Metrics: Cov Err: 2.144 | Top 3: 0.854 | Top 5: 0.957 | F1 Micro: 0.537 | F1 Macro: 0.361\n"
     ]
    },
    {
     "name": "stderr",
     "output_type": "stream",
     "text": [
      "2017-03-20 21:07:13,097 : INFO : Found lower val loss for epoch 18 => 0.2794\n",
      "2017-03-20 21:07:15,201 : INFO : Found lower val loss for epoch 20 => 0.27924\n",
      "2017-03-20 21:07:17,809 : INFO : Found lower val loss for epoch 23 => 0.27721\n",
      "2017-03-20 21:07:21,731 : INFO : Found lower val loss for epoch 27 => 0.27592\n",
      "2017-03-20 21:07:22,623 : INFO : Found lower val loss for epoch 28 => 0.27512\n",
      "2017-03-20 21:07:25,725 : INFO : Found lower val loss for epoch 31 => 0.27339\n",
      "2017-03-20 21:07:26,664 : INFO : Found lower val loss for epoch 32 => 0.27333\n",
      "2017-03-20 21:07:28,434 : INFO : Found lower val loss for epoch 34 => 0.27221\n",
      "2017-03-20 21:07:29,415 : INFO : Found lower val loss for epoch 35 => 0.27142\n",
      "2017-03-20 21:07:32,141 : INFO : Found lower val loss for epoch 38 => 0.2709\n",
      "2017-03-20 21:07:32,142 : INFO : Validation Loss Reduced 20 times\n",
      "2017-03-20 21:07:32,143 : INFO : Evaluating on Validation Data\n",
      "2017-03-20 21:07:32,715 : INFO : Generating Validation Metrics\n"
     ]
    },
    {
     "name": "stdout",
     "output_type": "stream",
     "text": [
      "****** Validation Metrics: Cov Err: 2.066 | Top 3: 0.870 | Top 5: 0.965 | F1 Micro: 0.535 | F1 Macro: 0.459\n"
     ]
    },
    {
     "name": "stderr",
     "output_type": "stream",
     "text": [
      "2017-03-20 21:07:34,457 : INFO : Found lower val loss for epoch 39 => 0.27071\n",
      "2017-03-20 21:07:35,513 : INFO : Found lower val loss for epoch 40 => 0.27012\n",
      "2017-03-20 21:07:36,417 : INFO : Found lower val loss for epoch 41 => 0.26868\n",
      "2017-03-20 21:07:38,217 : INFO : Found lower val loss for epoch 43 => 0.26812\n",
      "2017-03-20 21:07:44,441 : INFO : Found lower val loss for epoch 49 => 0.26703\n",
      "2017-03-20 21:07:48,088 : INFO : Found lower val loss for epoch 53 => 0.26589\n",
      "2017-03-20 21:07:53,477 : INFO : Found lower val loss for epoch 58 => 0.26428\n",
      "2017-03-20 21:07:55,540 : INFO : Found lower val loss for epoch 60 => 0.26309\n",
      "2017-03-20 21:08:00,227 : INFO : Found lower val loss for epoch 65 => 0.26245\n",
      "2017-03-20 21:08:03,836 : INFO : Found lower val loss for epoch 69 => 0.26066\n",
      "2017-03-20 21:08:03,838 : INFO : Validation Loss Reduced 30 times\n",
      "2017-03-20 21:08:03,839 : INFO : Evaluating on Validation Data\n",
      "2017-03-20 21:08:04,422 : INFO : Generating Validation Metrics\n"
     ]
    },
    {
     "name": "stdout",
     "output_type": "stream",
     "text": [
      "****** Validation Metrics: Cov Err: 1.975 | Top 3: 0.885 | Top 5: 0.972 | F1 Micro: 0.571 | F1 Macro: 0.510\n"
     ]
    },
    {
     "name": "stderr",
     "output_type": "stream",
     "text": [
      "2017-03-20 21:08:07,503 : INFO : Found lower val loss for epoch 72 => 0.25959\n",
      "2017-03-20 21:08:09,209 : INFO : Found lower val loss for epoch 74 => 0.25868\n",
      "2017-03-20 21:08:15,648 : INFO : Found lower val loss for epoch 80 => 0.25792\n",
      "2017-03-20 21:08:17,469 : INFO : Found lower val loss for epoch 82 => 0.25781\n",
      "2017-03-20 21:08:20,351 : INFO : Found lower val loss for epoch 85 => 0.25746\n",
      "2017-03-20 21:08:21,539 : INFO : Found lower val loss for epoch 86 => 0.25583\n",
      "2017-03-20 21:08:27,562 : INFO : Found lower val loss for epoch 92 => 0.25498\n",
      "2017-03-20 21:08:29,636 : INFO : Found lower val loss for epoch 94 => 0.25377\n",
      "2017-03-20 21:08:33,047 : INFO : Found lower val loss for epoch 98 => 0.25336\n",
      "2017-03-20 21:08:33,951 : INFO : Found lower val loss for epoch 99 => 0.24994\n",
      "2017-03-20 21:08:33,952 : INFO : Validation Loss Reduced 40 times\n",
      "2017-03-20 21:08:33,953 : INFO : Evaluating on Validation Data\n",
      "2017-03-20 21:08:34,510 : INFO : Generating Validation Metrics\n"
     ]
    },
    {
     "name": "stdout",
     "output_type": "stream",
     "text": [
      "****** Validation Metrics: Cov Err: 1.921 | Top 3: 0.896 | Top 5: 0.976 | F1 Micro: 0.578 | F1 Macro: 0.523\n"
     ]
    },
    {
     "name": "stderr",
     "output_type": "stream",
     "text": [
      "2017-03-20 21:08:36,243 : INFO : Evaluating on Validation Data using saved best weights\n"
     ]
    },
    {
     "name": "stdout",
     "output_type": "stream",
     "text": [
      "CPU times: user 39 s, sys: 47.4 s, total: 1min 26s\n",
      "Wall time: 1min 42s\n"
     ]
    },
    {
     "name": "stderr",
     "output_type": "stream",
     "text": [
      "2017-03-20 21:08:36,803 : INFO : Generating Validation Metrics\n"
     ]
    },
    {
     "name": "stdout",
     "output_type": "stream",
     "text": [
      "****** Validation Metrics: Cov Err: 1.921 | Top 3: 0.896 | Top 5: 0.976 | F1 Micro: 0.578 | F1 Macro: 0.523\n"
     ]
    },
    {
     "name": "stderr",
     "output_type": "stream",
     "text": [
      "2017-03-20 21:08:37,792 : INFO : ***************************************************************************************\n",
      "2017-03-20 21:08:37,794 : INFO : nn_1st-size_200_1st-act_sigmoid_2nd-size_2000_2nd-act_tanh_in-drop_False_hid-drop_True\n"
     ]
    },
    {
     "name": "stdout",
     "output_type": "stream",
     "text": [
      "____________________________________________________________________________________________________\n",
      "Layer (type)                     Output Shape          Param #     Connected to                     \n",
      "====================================================================================================\n",
      "doc_input (InputLayer)           (None, 200)           0                                            \n",
      "____________________________________________________________________________________________________\n",
      "hidden_layer_sigmoid (Dense)     (None, 200)           40200       doc_input[0][0]                  \n",
      "____________________________________________________________________________________________________\n",
      "dropout_3 (Dropout)              (None, 200)           0           hidden_layer_sigmoid[0][0]       \n",
      "____________________________________________________________________________________________________\n",
      "hidden_layer2_tanh (Dense)       (None, 2000)          402000      dropout_3[0][0]                  \n",
      "____________________________________________________________________________________________________\n",
      "softmax_output (Dense)           (None, 8)             16008       hidden_layer2_tanh[0][0]         \n",
      "====================================================================================================\n",
      "Total params: 458208\n",
      "____________________________________________________________________________________________________\n"
     ]
    },
    {
     "name": "stderr",
     "output_type": "stream",
     "text": [
      "2017-03-20 21:08:40,598 : INFO : Found lower val loss for epoch 1 => 0.42091\n",
      "2017-03-20 21:08:41,794 : INFO : Found lower val loss for epoch 2 => 0.35394\n",
      "2017-03-20 21:08:43,166 : INFO : Found lower val loss for epoch 3 => 0.33507\n",
      "2017-03-20 21:08:44,605 : INFO : Found lower val loss for epoch 4 => 0.32855\n",
      "2017-03-20 21:08:45,743 : INFO : Found lower val loss for epoch 5 => 0.32386\n",
      "2017-03-20 21:08:46,847 : INFO : Found lower val loss for epoch 6 => 0.31531\n",
      "2017-03-20 21:08:48,098 : INFO : Found lower val loss for epoch 7 => 0.30992\n",
      "2017-03-20 21:08:49,542 : INFO : Found lower val loss for epoch 8 => 0.30782\n",
      "2017-03-20 21:08:52,210 : INFO : Found lower val loss for epoch 10 => 0.3005\n",
      "2017-03-20 21:08:53,493 : INFO : Found lower val loss for epoch 11 => 0.29082\n",
      "2017-03-20 21:08:53,496 : INFO : Validation Loss Reduced 10 times\n",
      "2017-03-20 21:08:53,497 : INFO : Evaluating on Validation Data\n",
      "2017-03-20 21:08:54,266 : INFO : Generating Validation Metrics\n"
     ]
    },
    {
     "name": "stdout",
     "output_type": "stream",
     "text": [
      "****** Validation Metrics: Cov Err: 2.227 | Top 3: 0.839 | Top 5: 0.952 | F1 Micro: 0.467 | F1 Macro: 0.263\n"
     ]
    },
    {
     "name": "stderr",
     "output_type": "stream",
     "text": [
      "2017-03-20 21:08:57,522 : INFO : Found lower val loss for epoch 13 => 0.29008\n",
      "2017-03-20 21:08:58,771 : INFO : Found lower val loss for epoch 14 => 0.28564\n",
      "2017-03-20 21:09:01,546 : INFO : Found lower val loss for epoch 16 => 0.28283\n",
      "2017-03-20 21:09:04,705 : INFO : Found lower val loss for epoch 18 => 0.2822\n",
      "2017-03-20 21:09:05,727 : INFO : Found lower val loss for epoch 19 => 0.27883\n",
      "2017-03-20 21:09:12,437 : INFO : Found lower val loss for epoch 24 => 0.27846\n",
      "2017-03-20 21:09:13,958 : INFO : Found lower val loss for epoch 25 => 0.27823\n",
      "2017-03-20 21:09:19,245 : INFO : Found lower val loss for epoch 29 => 0.27501\n",
      "2017-03-20 21:09:23,517 : INFO : Found lower val loss for epoch 32 => 0.27465\n",
      "2017-03-20 21:09:27,186 : INFO : Found lower val loss for epoch 35 => 0.27198\n",
      "2017-03-20 21:09:27,189 : INFO : Validation Loss Reduced 20 times\n",
      "2017-03-20 21:09:27,190 : INFO : Evaluating on Validation Data\n",
      "2017-03-20 21:09:27,806 : INFO : Generating Validation Metrics\n"
     ]
    },
    {
     "name": "stdout",
     "output_type": "stream",
     "text": [
      "****** Validation Metrics: Cov Err: 2.071 | Top 3: 0.869 | Top 5: 0.966 | F1 Micro: 0.539 | F1 Macro: 0.408\n"
     ]
    },
    {
     "name": "stderr",
     "output_type": "stream",
     "text": [
      "2017-03-20 21:09:31,110 : INFO : Found lower val loss for epoch 37 => 0.27112\n",
      "2017-03-20 21:09:33,751 : INFO : Found lower val loss for epoch 39 => 0.27029\n",
      "2017-03-20 21:09:40,437 : INFO : Found lower val loss for epoch 44 => 0.26737\n",
      "2017-03-20 21:09:50,005 : INFO : Found lower val loss for epoch 51 => 0.26645\n",
      "2017-03-20 21:09:55,331 : INFO : Found lower val loss for epoch 55 => 0.26513\n",
      "2017-03-20 21:09:56,891 : INFO : Found lower val loss for epoch 56 => 0.26357\n",
      "2017-03-20 21:10:06,022 : INFO : Found lower val loss for epoch 63 => 0.26235\n",
      "2017-03-20 21:10:10,363 : INFO : Found lower val loss for epoch 67 => 0.26212\n",
      "2017-03-20 21:10:13,105 : INFO : Found lower val loss for epoch 69 => 0.26144\n",
      "2017-03-20 21:10:14,740 : INFO : Found lower val loss for epoch 70 => 0.26058\n",
      "2017-03-20 21:10:14,741 : INFO : Validation Loss Reduced 30 times\n",
      "2017-03-20 21:10:14,742 : INFO : Evaluating on Validation Data\n",
      "2017-03-20 21:10:15,352 : INFO : Generating Validation Metrics\n"
     ]
    },
    {
     "name": "stdout",
     "output_type": "stream",
     "text": [
      "****** Validation Metrics: Cov Err: 1.989 | Top 3: 0.883 | Top 5: 0.973 | F1 Micro: 0.558 | F1 Macro: 0.496\n"
     ]
    },
    {
     "name": "stderr",
     "output_type": "stream",
     "text": [
      "2017-03-20 21:10:19,831 : INFO : Found lower val loss for epoch 73 => 0.25993\n",
      "2017-03-20 21:10:22,260 : INFO : Found lower val loss for epoch 75 => 0.25954\n",
      "2017-03-20 21:10:24,958 : INFO : Found lower val loss for epoch 77 => 0.25785\n",
      "2017-03-20 21:10:28,586 : INFO : Found lower val loss for epoch 80 => 0.25549\n",
      "2017-03-20 21:10:39,875 : INFO : Found lower val loss for epoch 88 => 0.25463\n",
      "2017-03-20 21:10:46,663 : INFO : Found lower val loss for epoch 93 => 0.25372\n",
      "2017-03-20 21:10:49,398 : INFO : Found lower val loss for epoch 95 => 0.25329\n",
      "2017-03-20 21:10:51,829 : INFO : Found lower val loss for epoch 97 => 0.25293\n",
      "2017-03-20 21:10:54,762 : INFO : Found lower val loss for epoch 99 => 0.25268\n",
      "2017-03-20 21:10:56,106 : INFO : Found lower val loss for epoch 100 => 0.25258\n",
      "2017-03-20 21:10:56,108 : INFO : Validation Loss Reduced 40 times\n",
      "2017-03-20 21:10:56,109 : INFO : Evaluating on Validation Data\n",
      "2017-03-20 21:10:56,701 : INFO : Generating Validation Metrics\n",
      "2017-03-20 21:10:57,471 : INFO : Evaluating on Validation Data using saved best weights\n"
     ]
    },
    {
     "name": "stdout",
     "output_type": "stream",
     "text": [
      "****** Validation Metrics: Cov Err: 1.934 | Top 3: 0.894 | Top 5: 0.976 | F1 Micro: 0.580 | F1 Macro: 0.527\n",
      "CPU times: user 47.5 s, sys: 1min 2s, total: 1min 49s\n",
      "Wall time: 2min 19s\n"
     ]
    },
    {
     "name": "stderr",
     "output_type": "stream",
     "text": [
      "2017-03-20 21:10:58,011 : INFO : Generating Validation Metrics\n"
     ]
    },
    {
     "name": "stdout",
     "output_type": "stream",
     "text": [
      "****** Validation Metrics: Cov Err: 1.934 | Top 3: 0.894 | Top 5: 0.976 | F1 Micro: 0.580 | F1 Macro: 0.527\n"
     ]
    },
    {
     "name": "stderr",
     "output_type": "stream",
     "text": [
      "2017-03-20 21:10:58,939 : INFO : ***************************************************************************************\n",
      "2017-03-20 21:10:58,941 : INFO : nn_1st-size_500_1st-act_sigmoid_2nd-size_None_2nd-act_sigmoid_in-drop_False_hid-drop_True\n"
     ]
    },
    {
     "name": "stdout",
     "output_type": "stream",
     "text": [
      "____________________________________________________________________________________________________\n",
      "Layer (type)                     Output Shape          Param #     Connected to                     \n",
      "====================================================================================================\n",
      "doc_input (InputLayer)           (None, 200)           0                                            \n",
      "____________________________________________________________________________________________________\n",
      "hidden_layer_sigmoid (Dense)     (None, 500)           100500      doc_input[0][0]                  \n",
      "____________________________________________________________________________________________________\n",
      "dropout_4 (Dropout)              (None, 500)           0           hidden_layer_sigmoid[0][0]       \n",
      "____________________________________________________________________________________________________\n",
      "softmax_output (Dense)           (None, 8)             4008        dropout_4[0][0]                  \n",
      "====================================================================================================\n",
      "Total params: 104508\n",
      "____________________________________________________________________________________________________\n"
     ]
    },
    {
     "name": "stderr",
     "output_type": "stream",
     "text": [
      "2017-03-20 21:11:00,934 : INFO : Found lower val loss for epoch 1 => 0.32267\n",
      "2017-03-20 21:11:01,734 : INFO : Found lower val loss for epoch 2 => 0.30813\n",
      "2017-03-20 21:11:02,510 : INFO : Found lower val loss for epoch 3 => 0.29731\n",
      "2017-03-20 21:11:03,261 : INFO : Found lower val loss for epoch 4 => 0.29172\n",
      "2017-03-20 21:11:03,981 : INFO : Found lower val loss for epoch 5 => 0.2902\n",
      "2017-03-20 21:11:04,880 : INFO : Found lower val loss for epoch 6 => 0.28411\n",
      "2017-03-20 21:11:05,784 : INFO : Found lower val loss for epoch 7 => 0.28171\n",
      "2017-03-20 21:11:06,633 : INFO : Found lower val loss for epoch 8 => 0.27965\n",
      "2017-03-20 21:11:07,503 : INFO : Found lower val loss for epoch 9 => 0.27957\n",
      "2017-03-20 21:11:08,155 : INFO : Found lower val loss for epoch 10 => 0.27751\n",
      "2017-03-20 21:11:08,157 : INFO : Validation Loss Reduced 10 times\n",
      "2017-03-20 21:11:08,158 : INFO : Evaluating on Validation Data\n",
      "2017-03-20 21:11:08,781 : INFO : Generating Validation Metrics\n"
     ]
    },
    {
     "name": "stdout",
     "output_type": "stream",
     "text": [
      "****** Validation Metrics: Cov Err: 2.119 | Top 3: 0.857 | Top 5: 0.961 | F1 Micro: 0.503 | F1 Macro: 0.337\n"
     ]
    },
    {
     "name": "stderr",
     "output_type": "stream",
     "text": [
      "2017-03-20 21:11:10,239 : INFO : Found lower val loss for epoch 11 => 0.27647\n",
      "2017-03-20 21:11:12,274 : INFO : Found lower val loss for epoch 14 => 0.27621\n",
      "2017-03-20 21:11:13,913 : INFO : Found lower val loss for epoch 16 => 0.27576\n",
      "2017-03-20 21:11:14,749 : INFO : Found lower val loss for epoch 17 => 0.27523\n",
      "2017-03-20 21:11:15,443 : INFO : Found lower val loss for epoch 18 => 0.27397\n",
      "2017-03-20 21:11:19,418 : INFO : Found lower val loss for epoch 23 => 0.27349\n",
      "2017-03-20 21:11:22,479 : INFO : Found lower val loss for epoch 27 => 0.27308\n",
      "2017-03-20 21:11:24,575 : INFO : Found lower val loss for epoch 30 => 0.27107\n",
      "2017-03-20 21:11:30,203 : INFO : Found lower val loss for epoch 38 => 0.27081\n",
      "2017-03-20 21:11:30,973 : INFO : Found lower val loss for epoch 39 => 0.26991\n",
      "2017-03-20 21:11:30,975 : INFO : Validation Loss Reduced 20 times\n",
      "2017-03-20 21:11:30,976 : INFO : Evaluating on Validation Data\n",
      "2017-03-20 21:11:31,474 : INFO : Generating Validation Metrics\n"
     ]
    },
    {
     "name": "stdout",
     "output_type": "stream",
     "text": [
      "****** Validation Metrics: Cov Err: 2.063 | Top 3: 0.868 | Top 5: 0.968 | F1 Micro: 0.544 | F1 Macro: 0.469\n"
     ]
    },
    {
     "name": "stderr",
     "output_type": "stream",
     "text": [
      "2017-03-20 21:11:32,839 : INFO : Found lower val loss for epoch 40 => 0.26913\n",
      "2017-03-20 21:11:37,392 : INFO : Found lower val loss for epoch 46 => 0.26895\n",
      "2017-03-20 21:11:38,086 : INFO : Found lower val loss for epoch 47 => 0.26816\n",
      "2017-03-20 21:11:40,579 : INFO : Found lower val loss for epoch 50 => 0.26809\n",
      "2017-03-20 21:11:41,258 : INFO : Found lower val loss for epoch 51 => 0.26709\n",
      "2017-03-20 21:11:42,602 : INFO : Found lower val loss for epoch 53 => 0.26672\n",
      "2017-03-20 21:11:44,809 : INFO : Found lower val loss for epoch 56 => 0.26599\n",
      "2017-03-20 21:11:49,722 : INFO : Found lower val loss for epoch 62 => 0.26576\n",
      "2017-03-20 21:11:50,537 : INFO : Found lower val loss for epoch 63 => 0.26477\n",
      "2017-03-20 21:11:51,241 : INFO : Found lower val loss for epoch 64 => 0.26423\n",
      "2017-03-20 21:11:51,243 : INFO : Validation Loss Reduced 30 times\n",
      "2017-03-20 21:11:51,245 : INFO : Evaluating on Validation Data\n",
      "2017-03-20 21:11:51,664 : INFO : Generating Validation Metrics\n"
     ]
    },
    {
     "name": "stdout",
     "output_type": "stream",
     "text": [
      "****** Validation Metrics: Cov Err: 2.013 | Top 3: 0.878 | Top 5: 0.973 | F1 Micro: 0.555 | F1 Macro: 0.490\n"
     ]
    },
    {
     "name": "stderr",
     "output_type": "stream",
     "text": [
      "2017-03-20 21:11:53,094 : INFO : Found lower val loss for epoch 65 => 0.26407\n",
      "2017-03-20 21:11:55,887 : INFO : Found lower val loss for epoch 69 => 0.26354\n",
      "2017-03-20 21:12:02,111 : INFO : Found lower val loss for epoch 77 => 0.26285\n",
      "2017-03-20 21:12:02,775 : INFO : Found lower val loss for epoch 78 => 0.26154\n",
      "2017-03-20 21:12:06,221 : INFO : Found lower val loss for epoch 82 => 0.26122\n",
      "2017-03-20 21:12:10,343 : INFO : Found lower val loss for epoch 87 => 0.26088\n",
      "2017-03-20 21:12:11,059 : INFO : Found lower val loss for epoch 88 => 0.26041\n",
      "2017-03-20 21:12:13,927 : INFO : Found lower val loss for epoch 92 => 0.26038\n",
      "2017-03-20 21:12:18,603 : INFO : Found lower val loss for epoch 99 => 0.25884\n",
      "2017-03-20 21:12:19,050 : INFO : Evaluating on Validation Data using saved best weights\n"
     ]
    },
    {
     "name": "stdout",
     "output_type": "stream",
     "text": [
      "CPU times: user 32.4 s, sys: 34.6 s, total: 1min 6s\n",
      "Wall time: 1min 19s\n"
     ]
    },
    {
     "name": "stderr",
     "output_type": "stream",
     "text": [
      "2017-03-20 21:12:19,311 : INFO : Generating Validation Metrics\n"
     ]
    },
    {
     "name": "stdout",
     "output_type": "stream",
     "text": [
      "****** Validation Metrics: Cov Err: 1.963 | Top 3: 0.888 | Top 5: 0.976 | F1 Micro: 0.557 | F1 Macro: 0.498\n"
     ]
    },
    {
     "name": "stderr",
     "output_type": "stream",
     "text": [
      "2017-03-20 21:12:20,211 : INFO : ***************************************************************************************\n",
      "2017-03-20 21:12:20,213 : INFO : nn_1st-size_100_1st-act_tanh_2nd-size_1000_2nd-act_tanh_in-drop_False_hid-drop_True\n"
     ]
    },
    {
     "name": "stdout",
     "output_type": "stream",
     "text": [
      "____________________________________________________________________________________________________\n",
      "Layer (type)                     Output Shape          Param #     Connected to                     \n",
      "====================================================================================================\n",
      "doc_input (InputLayer)           (None, 200)           0                                            \n",
      "____________________________________________________________________________________________________\n",
      "hidden_layer_tanh (Dense)        (None, 100)           20100       doc_input[0][0]                  \n",
      "____________________________________________________________________________________________________\n",
      "dropout_5 (Dropout)              (None, 100)           0           hidden_layer_tanh[0][0]          \n",
      "____________________________________________________________________________________________________\n",
      "hidden_layer2_tanh (Dense)       (None, 1000)          101000      dropout_5[0][0]                  \n",
      "____________________________________________________________________________________________________\n",
      "softmax_output (Dense)           (None, 8)             8008        hidden_layer2_tanh[0][0]         \n",
      "====================================================================================================\n",
      "Total params: 129108"
     ]
    },
    {
     "name": "stderr",
     "output_type": "stream",
     "text": [
      "2017-03-20 21:12:22,354 : INFO : Found lower val loss for epoch 1 => 0.29491\n",
      "2017-03-20 21:12:22,880 : INFO : Found lower val loss for epoch 2 => 0.28775\n",
      "2017-03-20 21:12:23,353 : INFO : Found lower val loss for epoch 3 => 0.28192\n",
      "2017-03-20 21:12:28,044 : INFO : Found lower val loss for epoch 13 => 0.28148\n",
      "2017-03-20 21:12:30,660 : INFO : Found lower val loss for epoch 18 => 0.2814\n",
      "2017-03-20 21:12:33,785 : INFO : Evaluating on Validation Data using saved best weights\n"
     ]
    },
    {
     "name": "stdout",
     "output_type": "stream",
     "text": [
      "\n",
      "____________________________________________________________________________________________________\n",
      "Epoch 00023: early stopping\n",
      "CPU times: user 6.61 s, sys: 6.62 s, total: 13.2 s\n",
      "Wall time: 13.3 s\n"
     ]
    },
    {
     "name": "stderr",
     "output_type": "stream",
     "text": [
      "2017-03-20 21:12:34,473 : INFO : Generating Validation Metrics\n"
     ]
    },
    {
     "name": "stdout",
     "output_type": "stream",
     "text": [
      "****** Validation Metrics: Cov Err: 2.098 | Top 3: 0.860 | Top 5: 0.966 | F1 Micro: 0.523 | F1 Macro: 0.464\n"
     ]
    },
    {
     "name": "stderr",
     "output_type": "stream",
     "text": [
      "2017-03-20 21:12:35,407 : INFO : ***************************************************************************************\n",
      "2017-03-20 21:12:35,409 : INFO : nn_1st-size_100_1st-act_tanh_2nd-size_500_2nd-act_tanh_in-drop_False_hid-drop_True\n"
     ]
    },
    {
     "name": "stdout",
     "output_type": "stream",
     "text": [
      "____________________________________________________________________________________________________\n",
      "Layer (type)                     Output Shape          Param #     Connected to                     \n",
      "====================================================================================================\n",
      "doc_input (InputLayer)           (None, 200)           0                                            \n",
      "____________________________________________________________________________________________________\n",
      "hidden_layer_tanh (Dense)        (None, 100)           20100       doc_input[0][0]                  \n",
      "____________________________________________________________________________________________________\n",
      "dropout_6 (Dropout)              (None, 100)           0           hidden_layer_tanh[0][0]          \n",
      "____________________________________________________________________________________________________\n",
      "hidden_layer2_tanh (Dense)       (None, 500)           50500       dropout_6[0][0]                  \n",
      "____________________________________________________________________________________________________\n",
      "softmax_output (Dense)           (None, 8)             4008        hidden_layer2_tanh[0][0]         \n",
      "====================================================================================================\n",
      "Total params: 74608\n",
      "____________________________________________________________________________________________________\n"
     ]
    },
    {
     "name": "stderr",
     "output_type": "stream",
     "text": [
      "2017-03-20 21:12:37,447 : INFO : Found lower val loss for epoch 1 => 0.3003\n",
      "2017-03-20 21:12:37,912 : INFO : Found lower val loss for epoch 2 => 0.28073\n",
      "2017-03-20 21:12:41,005 : INFO : Found lower val loss for epoch 9 => 0.27913\n",
      "2017-03-20 21:12:41,820 : INFO : Found lower val loss for epoch 11 => 0.2791\n",
      "2017-03-20 21:12:43,056 : INFO : Found lower val loss for epoch 14 => 0.27506\n",
      "2017-03-20 21:12:44,249 : INFO : Found lower val loss for epoch 17 => 0.27444\n",
      "2017-03-20 21:12:48,326 : INFO : Found lower val loss for epoch 27 => 0.27297\n",
      "2017-03-20 21:12:50,742 : INFO : Found lower val loss for epoch 33 => 0.27202\n",
      "2017-03-20 21:12:51,527 : INFO : Found lower val loss for epoch 35 => 0.2711\n",
      "2017-03-20 21:12:51,923 : INFO : Found lower val loss for epoch 36 => 0.26807\n",
      "2017-03-20 21:12:51,925 : INFO : Validation Loss Reduced 10 times\n",
      "2017-03-20 21:12:51,926 : INFO : Evaluating on Validation Data\n",
      "2017-03-20 21:12:52,338 : INFO : Generating Validation Metrics\n"
     ]
    },
    {
     "name": "stdout",
     "output_type": "stream",
     "text": [
      "****** Validation Metrics: Cov Err: 2.013 | Top 3: 0.877 | Top 5: 0.972 | F1 Micro: 0.562 | F1 Macro: 0.510\n"
     ]
    },
    {
     "name": "stderr",
     "output_type": "stream",
     "text": [
      "2017-03-20 21:12:54,700 : INFO : Found lower val loss for epoch 40 => 0.26786\n",
      "2017-03-20 21:13:00,503 : INFO : Found lower val loss for epoch 50 => 0.26709\n",
      "2017-03-20 21:13:02,820 : INFO : Found lower val loss for epoch 53 => 0.26632\n",
      "2017-03-20 21:13:04,789 : INFO : Found lower val loss for epoch 56 => 0.26536\n",
      "2017-03-20 21:13:06,370 : INFO : Found lower val loss for epoch 58 => 0.26466\n",
      "2017-03-20 21:13:07,734 : INFO : Found lower val loss for epoch 60 => 0.26342\n",
      "2017-03-20 21:13:15,344 : INFO : Evaluating on Validation Data using saved best weights\n"
     ]
    },
    {
     "name": "stdout",
     "output_type": "stream",
     "text": [
      "Epoch 00070: early stopping\n",
      "CPU times: user 19.2 s, sys: 17.9 s, total: 37.1 s\n",
      "Wall time: 39.6 s\n"
     ]
    },
    {
     "name": "stderr",
     "output_type": "stream",
     "text": [
      "2017-03-20 21:13:15,906 : INFO : Generating Validation Metrics\n"
     ]
    },
    {
     "name": "stdout",
     "output_type": "stream",
     "text": [
      "****** Validation Metrics: Cov Err: 1.976 | Top 3: 0.885 | Top 5: 0.976 | F1 Micro: 0.557 | F1 Macro: 0.494\n"
     ]
    },
    {
     "name": "stderr",
     "output_type": "stream",
     "text": [
      "2017-03-20 21:13:16,877 : INFO : ***************************************************************************************\n",
      "2017-03-20 21:13:16,880 : INFO : nn_1st-size_500_1st-act_sigmoid_2nd-size_1000_2nd-act_relu_in-drop_False_hid-drop_True\n"
     ]
    },
    {
     "name": "stdout",
     "output_type": "stream",
     "text": [
      "____________________________________________________________________________________________________\n",
      "Layer (type)                     Output Shape          Param #     Connected to                     \n",
      "====================================================================================================\n",
      "doc_input (InputLayer)           (None, 200)           0                                            \n",
      "____________________________________________________________________________________________________\n",
      "hidden_layer_sigmoid (Dense)     (None, 500)           100500      doc_input[0][0]                  \n",
      "____________________________________________________________________________________________________\n",
      "dropout_7 (Dropout)              (None, 500)           0           hidden_layer_sigmoid[0][0]       \n",
      "____________________________________________________________________________________________________\n",
      "hidden_layer2_relu (Dense)       (None, 1000)          501000      dropout_7[0][0]                  \n",
      "____________________________________________________________________________________________________\n",
      "softmax_output (Dense)           (None, 8)             8008        hidden_layer2_relu[0][0]         \n",
      "====================================================================================================\n",
      "Total params: 609508"
     ]
    },
    {
     "name": "stderr",
     "output_type": "stream",
     "text": [
      "2017-03-20 21:13:20,056 : INFO : Found lower val loss for epoch 1 => 0.35563\n",
      "2017-03-20 21:13:21,278 : INFO : Found lower val loss for epoch 2 => 0.33779\n",
      "2017-03-20 21:13:22,413 : INFO : Found lower val loss for epoch 3 => 0.33153\n",
      "2017-03-20 21:13:23,477 : INFO : Found lower val loss for epoch 4 => 0.32487\n",
      "2017-03-20 21:13:24,553 : INFO : Found lower val loss for epoch 5 => 0.31249\n",
      "2017-03-20 21:13:25,635 : INFO : Found lower val loss for epoch 6 => 0.30323\n",
      "2017-03-20 21:13:26,645 : INFO : Found lower val loss for epoch 7 => 0.29622\n",
      "2017-03-20 21:13:27,690 : INFO : Found lower val loss for epoch 8 => 0.29326\n",
      "2017-03-20 21:13:28,781 : INFO : Found lower val loss for epoch 9 => 0.28803\n",
      "2017-03-20 21:13:29,867 : INFO : Found lower val loss for epoch 10 => 0.2876\n",
      "2017-03-20 21:13:29,869 : INFO : Validation Loss Reduced 10 times\n",
      "2017-03-20 21:13:29,870 : INFO : Evaluating on Validation Data\n",
      "2017-03-20 21:13:30,685 : INFO : Generating Validation Metrics\n"
     ]
    },
    {
     "name": "stdout",
     "output_type": "stream",
     "text": [
      "\n",
      "____________________________________________________________________________________________________\n",
      "****** Validation Metrics: Cov Err: 2.186 | Top 3: 0.845 | Top 5: 0.950 | F1 Micro: 0.529 | F1 Macro: 0.356\n"
     ]
    },
    {
     "name": "stderr",
     "output_type": "stream",
     "text": [
      "2017-03-20 21:13:32,490 : INFO : Found lower val loss for epoch 11 => 0.28609\n",
      "2017-03-20 21:13:37,719 : INFO : Found lower val loss for epoch 15 => 0.28578\n",
      "2017-03-20 21:13:39,223 : INFO : Found lower val loss for epoch 16 => 0.28327\n",
      "2017-03-20 21:13:44,979 : INFO : Found lower val loss for epoch 20 => 0.27773\n",
      "2017-03-20 21:13:48,206 : INFO : Found lower val loss for epoch 22 => 0.27469\n",
      "2017-03-20 21:13:52,785 : INFO : Found lower val loss for epoch 25 => 0.27185\n",
      "2017-03-20 21:13:59,790 : INFO : Found lower val loss for epoch 30 => 0.2708\n",
      "2017-03-20 21:14:06,772 : INFO : Found lower val loss for epoch 35 => 0.26987\n",
      "2017-03-20 21:14:08,173 : INFO : Found lower val loss for epoch 36 => 0.26896\n",
      "2017-03-20 21:14:09,431 : INFO : Found lower val loss for epoch 37 => 0.26686\n",
      "2017-03-20 21:14:09,432 : INFO : Validation Loss Reduced 20 times\n",
      "2017-03-20 21:14:09,433 : INFO : Evaluating on Validation Data\n",
      "2017-03-20 21:14:10,090 : INFO : Generating Validation Metrics\n"
     ]
    },
    {
     "name": "stdout",
     "output_type": "stream",
     "text": [
      "****** Validation Metrics: Cov Err: 2.019 | Top 3: 0.874 | Top 5: 0.971 | F1 Micro: 0.548 | F1 Macro: 0.478\n"
     ]
    },
    {
     "name": "stderr",
     "output_type": "stream",
     "text": [
      "2017-03-20 21:14:21,577 : INFO : Found lower val loss for epoch 44 => 0.26458\n",
      "2017-03-20 21:14:26,921 : INFO : Found lower val loss for epoch 48 => 0.26184\n",
      "2017-03-20 21:14:31,466 : INFO : Found lower val loss for epoch 51 => 0.25858\n",
      "2017-03-20 21:14:47,335 : INFO : Evaluating on Validation Data using saved best weights\n"
     ]
    },
    {
     "name": "stdout",
     "output_type": "stream",
     "text": [
      "Epoch 00061: early stopping\n",
      "CPU times: user 30 s, sys: 41.5 s, total: 1min 11s\n",
      "Wall time: 1min 30s\n"
     ]
    },
    {
     "name": "stderr",
     "output_type": "stream",
     "text": [
      "2017-03-20 21:14:47,971 : INFO : Generating Validation Metrics\n"
     ]
    },
    {
     "name": "stdout",
     "output_type": "stream",
     "text": [
      "****** Validation Metrics: Cov Err: 1.971 | Top 3: 0.884 | Top 5: 0.974 | F1 Micro: 0.556 | F1 Macro: 0.507\n"
     ]
    },
    {
     "name": "stderr",
     "output_type": "stream",
     "text": [
      "2017-03-20 21:14:48,957 : INFO : ***************************************************************************************\n",
      "2017-03-20 21:14:48,959 : INFO : nn_1st-size_200_1st-act_sigmoid_2nd-size_None_2nd-act_sigmoid_in-drop_False_hid-drop_True\n"
     ]
    },
    {
     "name": "stdout",
     "output_type": "stream",
     "text": [
      "____________________________________________________________________________________________________\n",
      "Layer (type)                     Output Shape          Param #     Connected to                     \n",
      "====================================================================================================\n",
      "doc_input (InputLayer)           (None, 200)           0                                            \n",
      "____________________________________________________________________________________________________\n",
      "hidden_layer_sigmoid (Dense)     (None, 200)           40200       doc_input[0][0]                  \n",
      "____________________________________________________________________________________________________\n",
      "dropout_8 (Dropout)              (None, 200)           0           hidden_layer_sigmoid[0][0]       \n",
      "____________________________________________________________________________________________________\n",
      "softmax_output (Dense)           (None, 8)             1608        dropout_8[0][0]                  \n",
      "====================================================================================================\n",
      "Total params: 41808\n",
      "____________________________________________________________________________________________________\n"
     ]
    },
    {
     "name": "stderr",
     "output_type": "stream",
     "text": [
      "2017-03-20 21:14:50,963 : INFO : Found lower val loss for epoch 1 => 0.33609\n",
      "2017-03-20 21:14:51,643 : INFO : Found lower val loss for epoch 2 => 0.32219\n",
      "2017-03-20 21:14:52,459 : INFO : Found lower val loss for epoch 3 => 0.31431\n",
      "2017-03-20 21:14:53,248 : INFO : Found lower val loss for epoch 4 => 0.30777\n",
      "2017-03-20 21:14:54,117 : INFO : Found lower val loss for epoch 5 => 0.30168\n",
      "2017-03-20 21:14:54,955 : INFO : Found lower val loss for epoch 6 => 0.29631\n",
      "2017-03-20 21:14:55,552 : INFO : Found lower val loss for epoch 7 => 0.29281\n",
      "2017-03-20 21:14:56,161 : INFO : Found lower val loss for epoch 8 => 0.28901\n",
      "2017-03-20 21:14:56,749 : INFO : Found lower val loss for epoch 9 => 0.28693\n",
      "2017-03-20 21:14:57,319 : INFO : Found lower val loss for epoch 10 => 0.28434\n",
      "2017-03-20 21:14:57,321 : INFO : Validation Loss Reduced 10 times\n",
      "2017-03-20 21:14:57,322 : INFO : Evaluating on Validation Data\n",
      "2017-03-20 21:14:57,924 : INFO : Generating Validation Metrics\n"
     ]
    },
    {
     "name": "stdout",
     "output_type": "stream",
     "text": [
      "****** Validation Metrics: Cov Err: 2.175 | Top 3: 0.847 | Top 5: 0.957 | F1 Micro: 0.470 | F1 Macro: 0.268\n"
     ]
    },
    {
     "name": "stderr",
     "output_type": "stream",
     "text": [
      "2017-03-20 21:14:59,414 : INFO : Found lower val loss for epoch 11 => 0.28352\n",
      "2017-03-20 21:15:00,072 : INFO : Found lower val loss for epoch 12 => 0.28015\n",
      "2017-03-20 21:15:00,799 : INFO : Found lower val loss for epoch 13 => 0.27972\n",
      "2017-03-20 21:15:01,462 : INFO : Found lower val loss for epoch 14 => 0.27925\n",
      "2017-03-20 21:15:02,074 : INFO : Found lower val loss for epoch 15 => 0.27786\n",
      "2017-03-20 21:15:02,704 : INFO : Found lower val loss for epoch 16 => 0.27722\n",
      "2017-03-20 21:15:03,419 : INFO : Found lower val loss for epoch 17 => 0.27614\n",
      "2017-03-20 21:15:04,080 : INFO : Found lower val loss for epoch 18 => 0.27554\n",
      "2017-03-20 21:15:04,730 : INFO : Found lower val loss for epoch 19 => 0.27524\n",
      "2017-03-20 21:15:05,394 : INFO : Found lower val loss for epoch 20 => 0.27455\n",
      "2017-03-20 21:15:05,396 : INFO : Validation Loss Reduced 20 times\n",
      "2017-03-20 21:15:05,397 : INFO : Evaluating on Validation Data\n",
      "2017-03-20 21:15:05,846 : INFO : Generating Validation Metrics\n"
     ]
    },
    {
     "name": "stdout",
     "output_type": "stream",
     "text": [
      "****** Validation Metrics: Cov Err: 2.106 | Top 3: 0.858 | Top 5: 0.965 | F1 Micro: 0.519 | F1 Macro: 0.340\n"
     ]
    },
    {
     "name": "stderr",
     "output_type": "stream",
     "text": [
      "2017-03-20 21:15:08,271 : INFO : Found lower val loss for epoch 22 => 0.27395\n",
      "2017-03-20 21:15:09,639 : INFO : Found lower val loss for epoch 24 => 0.27274\n",
      "2017-03-20 21:15:11,953 : INFO : Found lower val loss for epoch 27 => 0.27204\n",
      "2017-03-20 21:15:13,436 : INFO : Found lower val loss for epoch 29 => 0.27183\n",
      "2017-03-20 21:15:14,849 : INFO : Found lower val loss for epoch 31 => 0.27182\n",
      "2017-03-20 21:15:15,498 : INFO : Found lower val loss for epoch 32 => 0.27105\n",
      "2017-03-20 21:15:16,810 : INFO : Found lower val loss for epoch 34 => 0.27092\n",
      "2017-03-20 21:15:17,545 : INFO : Found lower val loss for epoch 35 => 0.27012\n",
      "2017-03-20 21:15:18,184 : INFO : Found lower val loss for epoch 36 => 0.27\n",
      "2017-03-20 21:15:18,846 : INFO : Found lower val loss for epoch 37 => 0.2695\n",
      "2017-03-20 21:15:18,847 : INFO : Validation Loss Reduced 30 times\n",
      "2017-03-20 21:15:18,848 : INFO : Evaluating on Validation Data\n",
      "2017-03-20 21:15:19,292 : INFO : Generating Validation Metrics\n"
     ]
    },
    {
     "name": "stdout",
     "output_type": "stream",
     "text": [
      "****** Validation Metrics: Cov Err: 2.073 | Top 3: 0.867 | Top 5: 0.968 | F1 Micro: 0.524 | F1 Macro: 0.374\n"
     ]
    },
    {
     "name": "stderr",
     "output_type": "stream",
     "text": [
      "2017-03-20 21:15:20,598 : INFO : Found lower val loss for epoch 38 => 0.26899\n",
      "2017-03-20 21:15:25,056 : INFO : Found lower val loss for epoch 44 => 0.2689\n",
      "2017-03-20 21:15:25,801 : INFO : Found lower val loss for epoch 45 => 0.26824\n",
      "2017-03-20 21:15:27,168 : INFO : Found lower val loss for epoch 47 => 0.2682\n",
      "2017-03-20 21:15:27,853 : INFO : Found lower val loss for epoch 48 => 0.26718\n",
      "2017-03-20 21:15:31,294 : INFO : Found lower val loss for epoch 53 => 0.26685\n",
      "2017-03-20 21:15:32,782 : INFO : Found lower val loss for epoch 55 => 0.26679\n",
      "2017-03-20 21:15:34,934 : INFO : Found lower val loss for epoch 58 => 0.26678\n",
      "2017-03-20 21:15:38,514 : INFO : Found lower val loss for epoch 63 => 0.26593\n",
      "2017-03-20 21:15:46,707 : INFO : Evaluating on Validation Data using saved best weights\n"
     ]
    },
    {
     "name": "stdout",
     "output_type": "stream",
     "text": [
      "Epoch 00073: early stopping\n",
      "CPU times: user 24.4 s, sys: 25.2 s, total: 49.6 s\n",
      "Wall time: 57.5 s\n"
     ]
    },
    {
     "name": "stderr",
     "output_type": "stream",
     "text": [
      "2017-03-20 21:15:47,190 : INFO : Generating Validation Metrics\n"
     ]
    },
    {
     "name": "stdout",
     "output_type": "stream",
     "text": [
      "****** Validation Metrics: Cov Err: 2.029 | Top 3: 0.875 | Top 5: 0.971 | F1 Micro: 0.536 | F1 Macro: 0.437\n"
     ]
    },
    {
     "name": "stderr",
     "output_type": "stream",
     "text": [
      "2017-03-20 21:15:48,209 : INFO : ***************************************************************************************\n",
      "2017-03-20 21:15:48,211 : INFO : nn_1st-size_100_1st-act_sigmoid_2nd-size_None_2nd-act_sigmoid_in-drop_False_hid-drop_True\n"
     ]
    },
    {
     "name": "stdout",
     "output_type": "stream",
     "text": [
      "____________________________________________________________________________________________________\n",
      "Layer (type)                     Output Shape          Param #     Connected to                     \n",
      "====================================================================================================\n",
      "doc_input (InputLayer)           (None, 200)           0                                            \n",
      "____________________________________________________________________________________________________\n",
      "hidden_layer_sigmoid (Dense)     (None, 100)           20100       doc_input[0][0]                  \n",
      "____________________________________________________________________________________________________\n",
      "dropout_9 (Dropout)              (None, 100)           0           hidden_layer_sigmoid[0][0]       \n",
      "____________________________________________________________________________________________________\n",
      "softmax_output (Dense)           (None, 8)             808         dropout_9[0][0]                  \n",
      "====================================================================================================\n",
      "Total params: 20908\n",
      "____________________________________________________________________________________________________\n"
     ]
    },
    {
     "name": "stderr",
     "output_type": "stream",
     "text": [
      "2017-03-20 21:15:49,862 : INFO : Found lower val loss for epoch 1 => 0.34574\n",
      "2017-03-20 21:15:50,178 : INFO : Found lower val loss for epoch 2 => 0.33349\n",
      "2017-03-20 21:15:50,596 : INFO : Found lower val loss for epoch 3 => 0.32544\n",
      "2017-03-20 21:15:51,018 : INFO : Found lower val loss for epoch 4 => 0.31849\n",
      "2017-03-20 21:15:51,469 : INFO : Found lower val loss for epoch 5 => 0.31308\n",
      "2017-03-20 21:15:51,902 : INFO : Found lower val loss for epoch 6 => 0.30792\n",
      "2017-03-20 21:15:52,328 : INFO : Found lower val loss for epoch 7 => 0.30314\n",
      "2017-03-20 21:15:52,752 : INFO : Found lower val loss for epoch 8 => 0.29962\n",
      "2017-03-20 21:15:53,177 : INFO : Found lower val loss for epoch 9 => 0.29613\n",
      "2017-03-20 21:15:53,630 : INFO : Found lower val loss for epoch 10 => 0.29322\n",
      "2017-03-20 21:15:53,631 : INFO : Validation Loss Reduced 10 times\n",
      "2017-03-20 21:15:53,632 : INFO : Evaluating on Validation Data\n",
      "2017-03-20 21:15:54,152 : INFO : Generating Validation Metrics\n"
     ]
    },
    {
     "name": "stdout",
     "output_type": "stream",
     "text": [
      "****** Validation Metrics: Cov Err: 2.260 | Top 3: 0.832 | Top 5: 0.952 | F1 Micro: 0.416 | F1 Macro: 0.185\n"
     ]
    },
    {
     "name": "stderr",
     "output_type": "stream",
     "text": [
      "2017-03-20 21:15:55,316 : INFO : Found lower val loss for epoch 11 => 0.29022\n",
      "2017-03-20 21:15:55,814 : INFO : Found lower val loss for epoch 12 => 0.28828\n",
      "2017-03-20 21:15:56,264 : INFO : Found lower val loss for epoch 13 => 0.28568\n",
      "2017-03-20 21:15:56,688 : INFO : Found lower val loss for epoch 14 => 0.28404\n",
      "2017-03-20 21:15:57,119 : INFO : Found lower val loss for epoch 15 => 0.28203\n",
      "2017-03-20 21:15:57,566 : INFO : Found lower val loss for epoch 16 => 0.28087\n",
      "2017-03-20 21:15:58,030 : INFO : Found lower val loss for epoch 17 => 0.28002\n",
      "2017-03-20 21:15:58,475 : INFO : Found lower val loss for epoch 18 => 0.27909\n",
      "2017-03-20 21:15:58,958 : INFO : Found lower val loss for epoch 19 => 0.27872\n",
      "2017-03-20 21:15:59,394 : INFO : Found lower val loss for epoch 20 => 0.27744\n",
      "2017-03-20 21:15:59,396 : INFO : Validation Loss Reduced 20 times\n",
      "2017-03-20 21:15:59,397 : INFO : Evaluating on Validation Data\n",
      "2017-03-20 21:15:59,787 : INFO : Generating Validation Metrics\n"
     ]
    },
    {
     "name": "stdout",
     "output_type": "stream",
     "text": [
      "****** Validation Metrics: Cov Err: 2.141 | Top 3: 0.852 | Top 5: 0.960 | F1 Micro: 0.484 | F1 Macro: 0.286\n"
     ]
    },
    {
     "name": "stderr",
     "output_type": "stream",
     "text": [
      "2017-03-20 21:16:00,945 : INFO : Found lower val loss for epoch 21 => 0.27694\n",
      "2017-03-20 21:16:01,373 : INFO : Found lower val loss for epoch 22 => 0.27613\n",
      "2017-03-20 21:16:01,844 : INFO : Found lower val loss for epoch 23 => 0.27576\n",
      "2017-03-20 21:16:02,269 : INFO : Found lower val loss for epoch 24 => 0.2749\n",
      "2017-03-20 21:16:02,691 : INFO : Found lower val loss for epoch 25 => 0.27447\n",
      "2017-03-20 21:16:03,123 : INFO : Found lower val loss for epoch 26 => 0.2741\n",
      "2017-03-20 21:16:03,691 : INFO : Found lower val loss for epoch 27 => 0.27336\n",
      "2017-03-20 21:16:04,492 : INFO : Found lower val loss for epoch 29 => 0.27294\n",
      "2017-03-20 21:16:05,175 : INFO : Found lower val loss for epoch 31 => 0.27267\n",
      "2017-03-20 21:16:05,519 : INFO : Found lower val loss for epoch 32 => 0.2724\n",
      "2017-03-20 21:16:05,520 : INFO : Validation Loss Reduced 30 times\n",
      "2017-03-20 21:16:05,522 : INFO : Evaluating on Validation Data\n",
      "2017-03-20 21:16:05,966 : INFO : Generating Validation Metrics\n"
     ]
    },
    {
     "name": "stdout",
     "output_type": "stream",
     "text": [
      "****** Validation Metrics: Cov Err: 2.103 | Top 3: 0.859 | Top 5: 0.965 | F1 Micro: 0.511 | F1 Macro: 0.328\n"
     ]
    },
    {
     "name": "stderr",
     "output_type": "stream",
     "text": [
      "2017-03-20 21:16:07,028 : INFO : Found lower val loss for epoch 33 => 0.27192\n",
      "2017-03-20 21:16:07,754 : INFO : Found lower val loss for epoch 35 => 0.27175\n",
      "2017-03-20 21:16:08,100 : INFO : Found lower val loss for epoch 36 => 0.2716\n",
      "2017-03-20 21:16:08,440 : INFO : Found lower val loss for epoch 37 => 0.27116\n",
      "2017-03-20 21:16:08,777 : INFO : Found lower val loss for epoch 38 => 0.27071\n",
      "2017-03-20 21:16:10,137 : INFO : Found lower val loss for epoch 42 => 0.27009\n",
      "2017-03-20 21:16:11,182 : INFO : Found lower val loss for epoch 45 => 0.26979\n",
      "2017-03-20 21:16:11,523 : INFO : Found lower val loss for epoch 46 => 0.2695\n",
      "2017-03-20 21:16:11,860 : INFO : Found lower val loss for epoch 47 => 0.26924\n",
      "2017-03-20 21:16:12,889 : INFO : Found lower val loss for epoch 50 => 0.26877\n",
      "2017-03-20 21:16:12,890 : INFO : Validation Loss Reduced 40 times\n",
      "2017-03-20 21:16:12,891 : INFO : Evaluating on Validation Data\n",
      "2017-03-20 21:16:13,343 : INFO : Generating Validation Metrics\n"
     ]
    },
    {
     "name": "stdout",
     "output_type": "stream",
     "text": [
      "****** Validation Metrics: Cov Err: 2.066 | Top 3: 0.867 | Top 5: 0.969 | F1 Micro: 0.518 | F1 Macro: 0.357\n"
     ]
    },
    {
     "name": "stderr",
     "output_type": "stream",
     "text": [
      "2017-03-20 21:16:15,802 : INFO : Found lower val loss for epoch 55 => 0.26811\n",
      "2017-03-20 21:16:19,537 : INFO : Evaluating on Validation Data using saved best weights\n"
     ]
    },
    {
     "name": "stdout",
     "output_type": "stream",
     "text": [
      "Epoch 00065: early stopping\n",
      "CPU times: user 17.4 s, sys: 12.4 s, total: 29.8 s\n",
      "Wall time: 31.1 s\n"
     ]
    },
    {
     "name": "stderr",
     "output_type": "stream",
     "text": [
      "2017-03-20 21:16:19,983 : INFO : Generating Validation Metrics\n"
     ]
    },
    {
     "name": "stdout",
     "output_type": "stream",
     "text": [
      "****** Validation Metrics: Cov Err: 2.056 | Top 3: 0.869 | Top 5: 0.969 | F1 Micro: 0.521 | F1 Macro: 0.368\n"
     ]
    },
    {
     "name": "stderr",
     "output_type": "stream",
     "text": [
      "2017-03-20 21:16:20,881 : INFO : ***************************************************************************************\n",
      "2017-03-20 21:16:20,883 : INFO : nn_1st-size_100_1st-act_sigmoid_2nd-size_1000_2nd-act_sigmoid_in-drop_False_hid-drop_True\n"
     ]
    },
    {
     "name": "stdout",
     "output_type": "stream",
     "text": [
      "____________________________________________________________________________________________________\n",
      "Layer (type)                     Output Shape          Param #     Connected to                     \n",
      "====================================================================================================\n",
      "doc_input (InputLayer)           (None, 200)           0                                            \n",
      "____________________________________________________________________________________________________\n",
      "hidden_layer_sigmoid (Dense)     (None, 100)           20100       doc_input[0][0]                  \n",
      "____________________________________________________________________________________________________\n",
      "dropout_10 (Dropout)             (None, 100)           0           hidden_layer_sigmoid[0][0]       \n",
      "____________________________________________________________________________________________________\n",
      "hidden_layer2_sigmoid (Dense)    (None, 1000)          101000      dropout_10[0][0]                 \n",
      "____________________________________________________________________________________________________\n",
      "softmax_output (Dense)           (None, 8)             8008        hidden_layer2_sigmoid[0][0]      \n",
      "====================================================================================================\n",
      "Total params: 129108\n",
      "____________________________________________________________________________________________________\n"
     ]
    },
    {
     "name": "stderr",
     "output_type": "stream",
     "text": [
      "2017-03-20 21:16:22,970 : INFO : Found lower val loss for epoch 1 => 0.35989\n",
      "2017-03-20 21:16:23,508 : INFO : Found lower val loss for epoch 2 => 0.34732\n",
      "2017-03-20 21:16:24,040 : INFO : Found lower val loss for epoch 3 => 0.34626\n",
      "2017-03-20 21:16:24,577 : INFO : Found lower val loss for epoch 4 => 0.34001\n",
      "2017-03-20 21:16:25,138 : INFO : Found lower val loss for epoch 5 => 0.33396\n",
      "2017-03-20 21:16:25,669 : INFO : Found lower val loss for epoch 6 => 0.31968\n",
      "2017-03-20 21:16:26,716 : INFO : Found lower val loss for epoch 8 => 0.31162\n",
      "2017-03-20 21:16:27,759 : INFO : Found lower val loss for epoch 10 => 0.30464\n",
      "2017-03-20 21:16:28,288 : INFO : Found lower val loss for epoch 11 => 0.30317\n",
      "2017-03-20 21:16:28,825 : INFO : Found lower val loss for epoch 12 => 0.29978\n",
      "2017-03-20 21:16:28,826 : INFO : Validation Loss Reduced 10 times\n",
      "2017-03-20 21:16:28,827 : INFO : Evaluating on Validation Data\n",
      "2017-03-20 21:16:29,958 : INFO : Generating Validation Metrics\n"
     ]
    },
    {
     "name": "stdout",
     "output_type": "stream",
     "text": [
      "****** Validation Metrics: Cov Err: 2.303 | Top 3: 0.825 | Top 5: 0.952 | F1 Micro: 0.431 | F1 Macro: 0.193\n"
     ]
    },
    {
     "name": "stderr",
     "output_type": "stream",
     "text": [
      "2017-03-20 21:16:31,202 : INFO : Found lower val loss for epoch 13 => 0.2981\n",
      "2017-03-20 21:16:31,729 : INFO : Found lower val loss for epoch 14 => 0.2924\n",
      "2017-03-20 21:16:32,782 : INFO : Found lower val loss for epoch 16 => 0.28809\n",
      "2017-03-20 21:16:33,311 : INFO : Found lower val loss for epoch 17 => 0.28743\n",
      "2017-03-20 21:16:33,843 : INFO : Found lower val loss for epoch 18 => 0.28655\n",
      "2017-03-20 21:16:34,906 : INFO : Found lower val loss for epoch 20 => 0.28309\n",
      "2017-03-20 21:16:36,038 : INFO : Found lower val loss for epoch 22 => 0.28056\n",
      "2017-03-20 21:16:37,096 : INFO : Found lower val loss for epoch 24 => 0.28014\n",
      "2017-03-20 21:16:39,222 : INFO : Found lower val loss for epoch 28 => 0.27803\n",
      "2017-03-20 21:16:41,345 : INFO : Found lower val loss for epoch 32 => 0.27623\n",
      "2017-03-20 21:16:41,347 : INFO : Validation Loss Reduced 20 times\n",
      "2017-03-20 21:16:41,348 : INFO : Evaluating on Validation Data\n",
      "2017-03-20 21:16:42,379 : INFO : Generating Validation Metrics\n"
     ]
    },
    {
     "name": "stdout",
     "output_type": "stream",
     "text": [
      "****** Validation Metrics: Cov Err: 2.134 | Top 3: 0.859 | Top 5: 0.955 | F1 Micro: 0.525 | F1 Macro: 0.351\n"
     ]
    },
    {
     "name": "stderr",
     "output_type": "stream",
     "text": [
      "2017-03-20 21:16:48,925 : INFO : Evaluating on Validation Data using saved best weights\n"
     ]
    },
    {
     "name": "stdout",
     "output_type": "stream",
     "text": [
      "Epoch 00042: early stopping\n",
      "CPU times: user 13 s, sys: 14.8 s, total: 27.7 s\n",
      "Wall time: 27.7 s\n"
     ]
    },
    {
     "name": "stderr",
     "output_type": "stream",
     "text": [
      "2017-03-20 21:16:50,009 : INFO : Generating Validation Metrics\n"
     ]
    },
    {
     "name": "stdout",
     "output_type": "stream",
     "text": [
      "****** Validation Metrics: Cov Err: 2.134 | Top 3: 0.859 | Top 5: 0.955 | F1 Micro: 0.525 | F1 Macro: 0.351\n"
     ]
    },
    {
     "name": "stderr",
     "output_type": "stream",
     "text": [
      "2017-03-20 21:16:50,909 : INFO : ***************************************************************************************\n",
      "2017-03-20 21:16:50,911 : INFO : nn_1st-size_500_1st-act_relu_2nd-size_500_2nd-act_sigmoid_in-drop_False_hid-drop_True\n"
     ]
    },
    {
     "name": "stdout",
     "output_type": "stream",
     "text": [
      "____________________________________________________________________________________________________\n",
      "Layer (type)                     Output Shape          Param #     Connected to                     \n",
      "====================================================================================================\n",
      "doc_input (InputLayer)           (None, 200)           0                                            \n",
      "____________________________________________________________________________________________________\n",
      "hidden_layer_relu (Dense)        (None, 500)           100500      doc_input[0][0]                  \n",
      "____________________________________________________________________________________________________\n",
      "dropout_11 (Dropout)             (None, 500)           0           hidden_layer_relu[0][0]          \n",
      "____________________________________________________________________________________________________\n",
      "hidden_layer2_sigmoid (Dense)    (None, 500)           250500      dropout_11[0][0]                 \n",
      "____________________________________________________________________________________________________\n",
      "softmax_output (Dense)           (None, 8)             4008        hidden_layer2_sigmoid[0][0]      \n",
      "====================================================================================================\n",
      "Total params: 355008\n",
      "____________________________________________________________________________________________________\n"
     ]
    },
    {
     "name": "stderr",
     "output_type": "stream",
     "text": [
      "2017-03-20 21:16:52,990 : INFO : Found lower val loss for epoch 1 => 0.29276\n",
      "2017-03-20 21:16:53,616 : INFO : Found lower val loss for epoch 2 => 0.28026\n",
      "2017-03-20 21:16:54,240 : INFO : Found lower val loss for epoch 3 => 0.27991\n",
      "2017-03-20 21:16:54,847 : INFO : Found lower val loss for epoch 4 => 0.2769\n",
      "2017-03-20 21:16:55,401 : INFO : Found lower val loss for epoch 5 => 0.27595\n",
      "2017-03-20 21:16:55,953 : INFO : Found lower val loss for epoch 6 => 0.26719\n",
      "2017-03-20 21:16:57,058 : INFO : Found lower val loss for epoch 8 => 0.25892\n",
      "2017-03-20 21:16:57,618 : INFO : Found lower val loss for epoch 9 => 0.25559\n",
      "2017-03-20 21:16:58,196 : INFO : Found lower val loss for epoch 10 => 0.25181\n",
      "2017-03-20 21:16:59,346 : INFO : Found lower val loss for epoch 12 => 0.25059\n",
      "2017-03-20 21:16:59,347 : INFO : Validation Loss Reduced 10 times\n",
      "2017-03-20 21:16:59,348 : INFO : Evaluating on Validation Data\n",
      "2017-03-20 21:16:59,823 : INFO : Generating Validation Metrics\n"
     ]
    },
    {
     "name": "stdout",
     "output_type": "stream",
     "text": [
      "****** Validation Metrics: Cov Err: 1.871 | Top 3: 0.907 | Top 5: 0.979 | F1 Micro: 0.604 | F1 Macro: 0.536\n"
     ]
    },
    {
     "name": "stderr",
     "output_type": "stream",
     "text": [
      "2017-03-20 21:17:01,670 : INFO : Found lower val loss for epoch 14 => 0.24911\n",
      "2017-03-20 21:17:02,252 : INFO : Found lower val loss for epoch 15 => 0.24465\n",
      "2017-03-20 21:17:02,856 : INFO : Found lower val loss for epoch 16 => 0.24281\n",
      "2017-03-20 21:17:03,443 : INFO : Found lower val loss for epoch 17 => 0.23941\n",
      "2017-03-20 21:17:04,030 : INFO : Found lower val loss for epoch 18 => 0.23475\n",
      "2017-03-20 21:17:05,932 : INFO : Found lower val loss for epoch 21 => 0.23341\n",
      "2017-03-20 21:17:09,485 : INFO : Found lower val loss for epoch 27 => 0.23286\n",
      "2017-03-20 21:17:11,922 : INFO : Found lower val loss for epoch 31 => 0.23053\n",
      "2017-03-20 21:17:18,453 : INFO : Evaluating on Validation Data using saved best weights\n"
     ]
    },
    {
     "name": "stdout",
     "output_type": "stream",
     "text": [
      "Epoch 00041: early stopping\n",
      "CPU times: user 11.4 s, sys: 15.8 s, total: 27.3 s\n",
      "Wall time: 27.3 s\n"
     ]
    },
    {
     "name": "stderr",
     "output_type": "stream",
     "text": [
      "2017-03-20 21:17:18,846 : INFO : Generating Validation Metrics\n"
     ]
    },
    {
     "name": "stdout",
     "output_type": "stream",
     "text": [
      "****** Validation Metrics: Cov Err: 1.742 | Top 3: 0.927 | Top 5: 0.983 | F1 Micro: 0.652 | F1 Macro: 0.586\n"
     ]
    },
    {
     "name": "stderr",
     "output_type": "stream",
     "text": [
      "2017-03-20 21:17:19,758 : INFO : ***************************************************************************************\n",
      "2017-03-20 21:17:19,761 : INFO : nn_1st-size_500_1st-act_sigmoid_2nd-size_None_2nd-act_tanh_in-drop_False_hid-drop_True\n"
     ]
    },
    {
     "name": "stdout",
     "output_type": "stream",
     "text": [
      "____________________________________________________________________________________________________\n",
      "Layer (type)                     Output Shape          Param #     Connected to                     \n",
      "====================================================================================================\n",
      "doc_input (InputLayer)           (None, 200)           0                                            \n",
      "____________________________________________________________________________________________________\n",
      "hidden_layer_sigmoid (Dense)     (None, 500)           100500      doc_input[0][0]                  \n",
      "____________________________________________________________________________________________________\n",
      "dropout_12 (Dropout)             (None, 500)           0           hidden_layer_sigmoid[0][0]       \n",
      "____________________________________________________________________________________________________\n",
      "softmax_output (Dense)           (None, 8)             4008        dropout_12[0][0]                 \n",
      "====================================================================================================\n",
      "Total params: 104508\n",
      "____________________________________________________________________________________________________\n"
     ]
    },
    {
     "name": "stderr",
     "output_type": "stream",
     "text": [
      "2017-03-20 21:17:21,296 : INFO : Found lower val loss for epoch 1 => 0.3224\n",
      "2017-03-20 21:17:21,704 : INFO : Found lower val loss for epoch 2 => 0.30974\n",
      "2017-03-20 21:17:22,141 : INFO : Found lower val loss for epoch 3 => 0.29654\n",
      "2017-03-20 21:17:22,552 : INFO : Found lower val loss for epoch 4 => 0.28976\n",
      "2017-03-20 21:17:22,962 : INFO : Found lower val loss for epoch 5 => 0.28574\n",
      "2017-03-20 21:17:23,373 : INFO : Found lower val loss for epoch 6 => 0.28302\n",
      "2017-03-20 21:17:24,191 : INFO : Found lower val loss for epoch 8 => 0.2783\n",
      "2017-03-20 21:17:25,009 : INFO : Found lower val loss for epoch 10 => 0.27704\n",
      "2017-03-20 21:17:25,874 : INFO : Found lower val loss for epoch 12 => 0.27689\n",
      "2017-03-20 21:17:26,284 : INFO : Found lower val loss for epoch 13 => 0.2765\n",
      "2017-03-20 21:17:26,285 : INFO : Validation Loss Reduced 10 times\n",
      "2017-03-20 21:17:26,286 : INFO : Evaluating on Validation Data\n",
      "2017-03-20 21:17:26,649 : INFO : Generating Validation Metrics\n"
     ]
    },
    {
     "name": "stdout",
     "output_type": "stream",
     "text": [
      "****** Validation Metrics: Cov Err: 2.106 | Top 3: 0.859 | Top 5: 0.965 | F1 Micro: 0.508 | F1 Macro: 0.347\n"
     ]
    },
    {
     "name": "stderr",
     "output_type": "stream",
     "text": [
      "2017-03-20 21:17:27,767 : INFO : Found lower val loss for epoch 14 => 0.27591\n",
      "2017-03-20 21:17:28,196 : INFO : Found lower val loss for epoch 15 => 0.27425\n",
      "2017-03-20 21:17:31,962 : INFO : Found lower val loss for epoch 24 => 0.27326\n",
      "2017-03-20 21:17:33,193 : INFO : Found lower val loss for epoch 27 => 0.27316\n",
      "2017-03-20 21:17:34,448 : INFO : Found lower val loss for epoch 30 => 0.2723\n",
      "2017-03-20 21:17:35,752 : INFO : Found lower val loss for epoch 33 => 0.27228\n",
      "2017-03-20 21:17:36,163 : INFO : Found lower val loss for epoch 34 => 0.27068\n",
      "2017-03-20 21:17:38,678 : INFO : Found lower val loss for epoch 40 => 0.26905\n",
      "2017-03-20 21:17:40,810 : INFO : Found lower val loss for epoch 45 => 0.26845\n",
      "2017-03-20 21:17:41,683 : INFO : Found lower val loss for epoch 47 => 0.26777\n",
      "2017-03-20 21:17:41,684 : INFO : Validation Loss Reduced 20 times\n",
      "2017-03-20 21:17:41,685 : INFO : Evaluating on Validation Data\n",
      "2017-03-20 21:17:41,963 : INFO : Generating Validation Metrics\n"
     ]
    },
    {
     "name": "stdout",
     "output_type": "stream",
     "text": [
      "****** Validation Metrics: Cov Err: 2.045 | Top 3: 0.870 | Top 5: 0.970 | F1 Micro: 0.547 | F1 Macro: 0.478\n"
     ]
    },
    {
     "name": "stderr",
     "output_type": "stream",
     "text": [
      "2017-03-20 21:17:44,333 : INFO : Found lower val loss for epoch 51 => 0.26747\n",
      "2017-03-20 21:17:44,748 : INFO : Found lower val loss for epoch 52 => 0.26713\n",
      "2017-03-20 21:17:45,574 : INFO : Found lower val loss for epoch 54 => 0.26709\n",
      "2017-03-20 21:17:45,989 : INFO : Found lower val loss for epoch 55 => 0.26586\n",
      "2017-03-20 21:17:46,853 : INFO : Found lower val loss for epoch 57 => 0.26462\n",
      "2017-03-20 21:17:48,545 : INFO : Found lower val loss for epoch 61 => 0.26453\n",
      "2017-03-20 21:17:51,447 : INFO : Evaluating on Validation Data using saved best weights\n"
     ]
    },
    {
     "name": "stdout",
     "output_type": "stream",
     "text": [
      "Epoch 00067: early stopping\n",
      "CPU times: user 15.5 s, sys: 16 s, total: 31.5 s\n",
      "Wall time: 31.5 s\n"
     ]
    },
    {
     "name": "stderr",
     "output_type": "stream",
     "text": [
      "2017-03-20 21:17:51,729 : INFO : Generating Validation Metrics\n"
     ]
    },
    {
     "name": "stdout",
     "output_type": "stream",
     "text": [
      "****** Validation Metrics: Cov Err: 2.020 | Top 3: 0.875 | Top 5: 0.972 | F1 Micro: 0.555 | F1 Macro: 0.488\n"
     ]
    },
    {
     "name": "stderr",
     "output_type": "stream",
     "text": [
      "2017-03-20 21:17:52,628 : INFO : ***************************************************************************************\n",
      "2017-03-20 21:17:52,629 : INFO : nn_1st-size_500_1st-act_tanh_2nd-size_1000_2nd-act_sigmoid_in-drop_False_hid-drop_True\n"
     ]
    },
    {
     "name": "stdout",
     "output_type": "stream",
     "text": [
      "____________________________________________________________________________________________________\n",
      "Layer (type)                     Output Shape          Param #     Connected to                     \n",
      "====================================================================================================\n",
      "doc_input (InputLayer)           (None, 200)           0                                            \n",
      "____________________________________________________________________________________________________\n",
      "hidden_layer_tanh (Dense)        (None, 500)           100500      doc_input[0][0]                  \n",
      "____________________________________________________________________________________________________\n",
      "dropout_13 (Dropout)             (None, 500)           0           hidden_layer_tanh[0][0]          \n",
      "____________________________________________________________________________________________________\n",
      "hidden_layer2_sigmoid (Dense)    (None, 1000)          501000      dropout_13[0][0]                 \n",
      "____________________________________________________________________________________________________\n",
      "softmax_output (Dense)           (None, 8)             8008        hidden_layer2_sigmoid[0][0]      \n",
      "====================================================================================================\n",
      "Total params: 609508\n",
      "____________________________________________________________________________________________________\n"
     ]
    },
    {
     "name": "stderr",
     "output_type": "stream",
     "text": [
      "2017-03-20 21:17:54,700 : INFO : Found lower val loss for epoch 1 => 0.29467\n",
      "2017-03-20 21:17:55,367 : INFO : Found lower val loss for epoch 2 => 0.29119\n",
      "2017-03-20 21:17:56,714 : INFO : Found lower val loss for epoch 4 => 0.28789\n",
      "2017-03-20 21:17:57,414 : INFO : Found lower val loss for epoch 5 => 0.28663\n",
      "2017-03-20 21:18:02,815 : INFO : Found lower val loss for epoch 13 => 0.28159\n",
      "2017-03-20 21:18:03,484 : INFO : Found lower val loss for epoch 14 => 0.27456\n",
      "2017-03-20 21:18:06,180 : INFO : Found lower val loss for epoch 18 => 0.2687\n",
      "2017-03-20 21:18:10,264 : INFO : Found lower val loss for epoch 24 => 0.26802\n",
      "2017-03-20 21:18:12,408 : INFO : Found lower val loss for epoch 27 => 0.26498\n",
      "2017-03-20 21:18:15,315 : INFO : Found lower val loss for epoch 31 => 0.26114\n",
      "2017-03-20 21:18:15,317 : INFO : Validation Loss Reduced 10 times\n",
      "2017-03-20 21:18:15,318 : INFO : Evaluating on Validation Data\n",
      "2017-03-20 21:18:16,543 : INFO : Generating Validation Metrics\n"
     ]
    },
    {
     "name": "stdout",
     "output_type": "stream",
     "text": [
      "****** Validation Metrics: Cov Err: 1.983 | Top 3: 0.884 | Top 5: 0.973 | F1 Micro: 0.559 | F1 Macro: 0.497\n"
     ]
    },
    {
     "name": "stderr",
     "output_type": "stream",
     "text": [
      "2017-03-20 21:18:20,458 : INFO : Found lower val loss for epoch 35 => 0.25882\n",
      "2017-03-20 21:18:27,092 : INFO : Found lower val loss for epoch 40 => 0.25747\n",
      "2017-03-20 21:18:27,824 : INFO : Found lower val loss for epoch 41 => 0.25513\n",
      "2017-03-20 21:18:28,518 : INFO : Found lower val loss for epoch 42 => 0.25429\n",
      "2017-03-20 21:18:32,058 : INFO : Found lower val loss for epoch 47 => 0.25362\n",
      "2017-03-20 21:18:32,704 : INFO : Found lower val loss for epoch 48 => 0.25077\n",
      "2017-03-20 21:18:34,007 : INFO : Found lower val loss for epoch 50 => 0.24809\n",
      "2017-03-20 21:18:35,963 : INFO : Found lower val loss for epoch 53 => 0.24599\n",
      "2017-03-20 21:18:42,865 : INFO : Found lower val loss for epoch 63 => 0.2438\n",
      "2017-03-20 21:18:45,556 : INFO : Found lower val loss for epoch 67 => 0.24286\n",
      "2017-03-20 21:18:45,557 : INFO : Validation Loss Reduced 20 times\n",
      "2017-03-20 21:18:45,558 : INFO : Evaluating on Validation Data\n",
      "2017-03-20 21:18:46,435 : INFO : Generating Validation Metrics\n"
     ]
    },
    {
     "name": "stdout",
     "output_type": "stream",
     "text": [
      "****** Validation Metrics: Cov Err: 1.857 | Top 3: 0.906 | Top 5: 0.979 | F1 Micro: 0.608 | F1 Macro: 0.541\n"
     ]
    },
    {
     "name": "stderr",
     "output_type": "stream",
     "text": [
      "2017-03-20 21:18:49,918 : INFO : Found lower val loss for epoch 71 => 0.24233\n",
      "2017-03-20 21:18:51,284 : INFO : Found lower val loss for epoch 73 => 0.24212\n",
      "2017-03-20 21:19:00,811 : INFO : Found lower val loss for epoch 82 => 0.24136\n",
      "2017-03-20 21:19:01,503 : INFO : Found lower val loss for epoch 83 => 0.24037\n",
      "2017-03-20 21:19:09,388 : INFO : Evaluating on Validation Data using saved best weights\n"
     ]
    },
    {
     "name": "stdout",
     "output_type": "stream",
     "text": [
      "Epoch 00093: early stopping\n",
      "CPU times: user 27.5 s, sys: 43.3 s, total: 1min 10s\n",
      "Wall time: 1min 16s\n"
     ]
    },
    {
     "name": "stderr",
     "output_type": "stream",
     "text": [
      "2017-03-20 21:19:10,380 : INFO : Generating Validation Metrics\n"
     ]
    },
    {
     "name": "stdout",
     "output_type": "stream",
     "text": [
      "****** Validation Metrics: Cov Err: 1.825 | Top 3: 0.914 | Top 5: 0.981 | F1 Micro: 0.613 | F1 Macro: 0.528\n"
     ]
    },
    {
     "name": "stderr",
     "output_type": "stream",
     "text": [
      "2017-03-20 21:19:11,318 : INFO : ***************************************************************************************\n",
      "2017-03-20 21:19:11,320 : INFO : nn_1st-size_500_1st-act_relu_2nd-size_2000_2nd-act_relu_in-drop_False_hid-drop_True\n"
     ]
    },
    {
     "name": "stdout",
     "output_type": "stream",
     "text": [
      "____________________________________________________________________________________________________\n",
      "Layer (type)                     Output Shape          Param #     Connected to                     \n",
      "====================================================================================================\n",
      "doc_input (InputLayer)           (None, 200)           0                                            \n",
      "____________________________________________________________________________________________________\n",
      "hidden_layer_relu (Dense)        (None, 500)           100500      doc_input[0][0]                  \n",
      "____________________________________________________________________________________________________\n",
      "dropout_14 (Dropout)             (None, 500)           0           hidden_layer_relu[0][0]          \n",
      "____________________________________________________________________________________________________\n",
      "hidden_layer2_relu (Dense)       (None, 2000)          1002000     dropout_14[0][0]                 \n",
      "____________________________________________________________________________________________________\n",
      "softmax_output (Dense)           (None, 8)             16008       hidden_layer2_relu[0][0]         \n",
      "====================================================================================================\n",
      "Total params: 1118508\n",
      "____________________________________________________________________________________________________\n"
     ]
    },
    {
     "name": "stderr",
     "output_type": "stream",
     "text": [
      "2017-03-20 21:19:14,643 : INFO : Found lower val loss for epoch 1 => 0.2799\n",
      "2017-03-20 21:19:15,947 : INFO : Found lower val loss for epoch 2 => 0.2768\n",
      "2017-03-20 21:19:17,290 : INFO : Found lower val loss for epoch 3 => 0.2699\n",
      "2017-03-20 21:19:18,415 : INFO : Found lower val loss for epoch 4 => 0.26463\n",
      "2017-03-20 21:19:20,790 : INFO : Found lower val loss for epoch 6 => 0.25789\n",
      "2017-03-20 21:19:22,053 : INFO : Found lower val loss for epoch 7 => 0.24247\n",
      "2017-03-20 21:19:28,109 : INFO : Found lower val loss for epoch 12 => 0.23948\n",
      "2017-03-20 21:19:30,490 : INFO : Found lower val loss for epoch 14 => 0.23899\n",
      "2017-03-20 21:19:31,824 : INFO : Found lower val loss for epoch 15 => 0.23826\n",
      "2017-03-20 21:19:45,719 : INFO : Evaluating on Validation Data using saved best weights\n"
     ]
    },
    {
     "name": "stdout",
     "output_type": "stream",
     "text": [
      "Epoch 00025: early stopping\n",
      "CPU times: user 11.8 s, sys: 17.8 s, total: 29.6 s\n",
      "Wall time: 34.2 s\n"
     ]
    },
    {
     "name": "stderr",
     "output_type": "stream",
     "text": [
      "2017-03-20 21:19:47,500 : INFO : Generating Validation Metrics\n"
     ]
    },
    {
     "name": "stdout",
     "output_type": "stream",
     "text": [
      "****** Validation Metrics: Cov Err: 1.756 | Top 3: 0.924 | Top 5: 0.983 | F1 Micro: 0.661 | F1 Macro: 0.598\n"
     ]
    },
    {
     "name": "stderr",
     "output_type": "stream",
     "text": [
      "2017-03-20 21:19:48,580 : INFO : ***************************************************************************************\n",
      "2017-03-20 21:19:48,582 : INFO : nn_1st-size_200_1st-act_sigmoid_2nd-size_1000_2nd-act_sigmoid_in-drop_False_hid-drop_True\n"
     ]
    },
    {
     "name": "stdout",
     "output_type": "stream",
     "text": [
      "____________________________________________________________________________________________________\n",
      "Layer (type)                     Output Shape          Param #     Connected to                     \n",
      "====================================================================================================\n",
      "doc_input (InputLayer)           (None, 200)           0                                            \n",
      "____________________________________________________________________________________________________\n",
      "hidden_layer_sigmoid (Dense)     (None, 200)           40200       doc_input[0][0]                  \n",
      "____________________________________________________________________________________________________\n",
      "dropout_15 (Dropout)             (None, 200)           0           hidden_layer_sigmoid[0][0]       \n",
      "____________________________________________________________________________________________________\n",
      "hidden_layer2_sigmoid (Dense)    (None, 1000)          201000      dropout_15[0][0]                 \n",
      "____________________________________________________________________________________________________\n",
      "softmax_output (Dense)           (None, 8)             8008        hidden_layer2_sigmoid[0][0]      \n",
      "====================================================================================================\n",
      "Total params: 249208\n",
      "____________________________________________________________________________________________________\n"
     ]
    },
    {
     "name": "stderr",
     "output_type": "stream",
     "text": [
      "2017-03-20 21:19:51,398 : INFO : Found lower val loss for epoch 1 => 0.36699\n",
      "2017-03-20 21:19:52,636 : INFO : Found lower val loss for epoch 2 => 0.34448\n",
      "2017-03-20 21:19:53,845 : INFO : Found lower val loss for epoch 3 => 0.3345\n",
      "2017-03-20 21:19:54,938 : INFO : Found lower val loss for epoch 4 => 0.33347\n",
      "2017-03-20 21:19:59,133 : INFO : Found lower val loss for epoch 5 => 0.31386\n",
      "2017-03-20 21:20:00,196 : INFO : Found lower val loss for epoch 6 => 0.31319\n",
      "2017-03-20 21:20:01,204 : INFO : Found lower val loss for epoch 7 => 0.30732\n",
      "2017-03-20 21:20:02,222 : INFO : Found lower val loss for epoch 8 => 0.30546\n",
      "2017-03-20 21:20:03,223 : INFO : Found lower val loss for epoch 9 => 0.30126\n",
      "2017-03-20 21:20:04,463 : INFO : Found lower val loss for epoch 10 => 0.29618\n",
      "2017-03-20 21:20:04,465 : INFO : Validation Loss Reduced 10 times\n",
      "2017-03-20 21:20:04,466 : INFO : Evaluating on Validation Data\n",
      "2017-03-20 21:20:05,290 : INFO : Generating Validation Metrics\n"
     ]
    },
    {
     "name": "stdout",
     "output_type": "stream",
     "text": [
      "****** Validation Metrics: Cov Err: 2.279 | Top 3: 0.833 | Top 5: 0.949 | F1 Micro: 0.464 | F1 Macro: 0.228\n"
     ]
    },
    {
     "name": "stderr",
     "output_type": "stream",
     "text": [
      "2017-03-20 21:20:07,092 : INFO : Found lower val loss for epoch 11 => 0.2951\n",
      "2017-03-20 21:20:08,414 : INFO : Found lower val loss for epoch 12 => 0.28959\n",
      "2017-03-20 21:20:09,712 : INFO : Found lower val loss for epoch 13 => 0.28261\n",
      "2017-03-20 21:20:11,920 : INFO : Found lower val loss for epoch 15 => 0.28218\n",
      "2017-03-20 21:20:13,205 : INFO : Found lower val loss for epoch 16 => 0.28087\n",
      "2017-03-20 21:20:25,139 : INFO : Found lower val loss for epoch 25 => 0.27983\n",
      "2017-03-20 21:20:26,347 : INFO : Found lower val loss for epoch 26 => 0.27696\n",
      "2017-03-20 21:20:35,591 : INFO : Found lower val loss for epoch 34 => 0.27519\n",
      "2017-03-20 21:20:36,935 : INFO : Found lower val loss for epoch 35 => 0.27509\n",
      "2017-03-20 21:20:38,103 : INFO : Found lower val loss for epoch 36 => 0.27453\n",
      "2017-03-20 21:20:38,107 : INFO : Validation Loss Reduced 20 times\n",
      "2017-03-20 21:20:38,108 : INFO : Evaluating on Validation Data\n",
      "2017-03-20 21:20:38,755 : INFO : Generating Validation Metrics\n"
     ]
    },
    {
     "name": "stdout",
     "output_type": "stream",
     "text": [
      "****** Validation Metrics: Cov Err: 2.098 | Top 3: 0.861 | Top 5: 0.960 | F1 Micro: 0.525 | F1 Macro: 0.445\n"
     ]
    },
    {
     "name": "stderr",
     "output_type": "stream",
     "text": [
      "2017-03-20 21:20:40,648 : INFO : Found lower val loss for epoch 37 => 0.27447\n",
      "2017-03-20 21:20:44,146 : INFO : Found lower val loss for epoch 40 => 0.27347\n",
      "2017-03-20 21:20:47,884 : INFO : Found lower val loss for epoch 43 => 0.27326\n",
      "2017-03-20 21:20:50,344 : INFO : Found lower val loss for epoch 45 => 0.26936\n",
      "2017-03-20 21:20:59,604 : INFO : Found lower val loss for epoch 52 => 0.2692\n",
      "2017-03-20 21:21:06,126 : INFO : Found lower val loss for epoch 57 => 0.26572\n",
      "2017-03-20 21:21:20,091 : INFO : Evaluating on Validation Data using saved best weights\n"
     ]
    },
    {
     "name": "stdout",
     "output_type": "stream",
     "text": [
      "Epoch 00067: early stopping\n",
      "CPU times: user 31 s, sys: 40.6 s, total: 1min 11s\n",
      "Wall time: 1min 31s\n"
     ]
    },
    {
     "name": "stderr",
     "output_type": "stream",
     "text": [
      "2017-03-20 21:21:20,678 : INFO : Generating Validation Metrics\n"
     ]
    },
    {
     "name": "stdout",
     "output_type": "stream",
     "text": [
      "****** Validation Metrics: Cov Err: 2.026 | Top 3: 0.875 | Top 5: 0.969 | F1 Micro: 0.541 | F1 Macro: 0.475\n"
     ]
    },
    {
     "name": "stderr",
     "output_type": "stream",
     "text": [
      "2017-03-20 21:21:21,678 : INFO : ***************************************************************************************\n",
      "2017-03-20 21:21:21,680 : INFO : nn_1st-size_500_1st-act_sigmoid_2nd-size_2000_2nd-act_relu_in-drop_False_hid-drop_True\n"
     ]
    },
    {
     "name": "stdout",
     "output_type": "stream",
     "text": [
      "____________________________________________________________________________________________________\n",
      "Layer (type)                     Output Shape          Param #     Connected to                     \n",
      "====================================================================================================\n",
      "doc_input (InputLayer)           (None, 200)           0                                            \n",
      "____________________________________________________________________________________________________\n",
      "hidden_layer_sigmoid (Dense)     (None, 500)           100500      doc_input[0][0]                  \n",
      "____________________________________________________________________________________________________\n",
      "dropout_16 (Dropout)             (None, 500)           0           hidden_layer_sigmoid[0][0]       \n",
      "____________________________________________________________________________________________________\n",
      "hidden_layer2_relu (Dense)       (None, 2000)          1002000     dropout_16[0][0]                 \n",
      "____________________________________________________________________________________________________\n",
      "softmax_output (Dense)           (None, 8)             16008       hidden_layer2_relu[0][0]         \n",
      "====================================================================================================\n",
      "Total params: 1118508\n",
      "____________________________________________________________________________________________________\n"
     ]
    },
    {
     "name": "stderr",
     "output_type": "stream",
     "text": [
      "2017-03-20 21:21:24,645 : INFO : Found lower val loss for epoch 1 => 0.35783\n",
      "2017-03-20 21:21:26,327 : INFO : Found lower val loss for epoch 2 => 0.34236\n",
      "2017-03-20 21:21:28,053 : INFO : Found lower val loss for epoch 3 => 0.32522\n",
      "2017-03-20 21:21:31,414 : INFO : Found lower val loss for epoch 5 => 0.30735\n",
      "2017-03-20 21:21:33,143 : INFO : Found lower val loss for epoch 6 => 0.30661\n",
      "2017-03-20 21:21:34,651 : INFO : Found lower val loss for epoch 7 => 0.30112\n",
      "2017-03-20 21:21:36,490 : INFO : Found lower val loss for epoch 8 => 0.29423\n",
      "2017-03-20 21:21:38,018 : INFO : Found lower val loss for epoch 9 => 0.29319\n",
      "2017-03-20 21:21:41,071 : INFO : Found lower val loss for epoch 11 => 0.2914\n",
      "2017-03-20 21:21:42,785 : INFO : Found lower val loss for epoch 12 => 0.28437\n",
      "2017-03-20 21:21:42,786 : INFO : Validation Loss Reduced 10 times\n",
      "2017-03-20 21:21:42,787 : INFO : Evaluating on Validation Data\n",
      "2017-03-20 21:21:43,625 : INFO : Generating Validation Metrics\n"
     ]
    },
    {
     "name": "stdout",
     "output_type": "stream",
     "text": [
      "****** Validation Metrics: Cov Err: 2.148 | Top 3: 0.852 | Top 5: 0.953 | F1 Micro: 0.528 | F1 Macro: 0.346\n"
     ]
    },
    {
     "name": "stderr",
     "output_type": "stream",
     "text": [
      "2017-03-20 21:21:51,899 : INFO : Found lower val loss for epoch 17 => 0.2821\n",
      "2017-03-20 21:21:58,120 : INFO : Found lower val loss for epoch 21 => 0.27613\n",
      "2017-03-20 21:22:02,906 : INFO : Found lower val loss for epoch 24 => 0.27557\n",
      "2017-03-20 21:22:04,387 : INFO : Found lower val loss for epoch 25 => 0.27466\n",
      "2017-03-20 21:22:05,886 : INFO : Found lower val loss for epoch 26 => 0.27177\n",
      "2017-03-20 21:22:07,294 : INFO : Found lower val loss for epoch 27 => 0.27144\n",
      "2017-03-20 21:22:14,868 : INFO : Found lower val loss for epoch 32 => 0.26943\n",
      "2017-03-20 21:22:20,854 : INFO : Found lower val loss for epoch 36 => 0.26647\n",
      "2017-03-20 21:22:33,550 : INFO : Found lower val loss for epoch 44 => 0.26637\n",
      "2017-03-20 21:22:35,074 : INFO : Found lower val loss for epoch 45 => 0.26442\n",
      "2017-03-20 21:22:35,076 : INFO : Validation Loss Reduced 20 times\n",
      "2017-03-20 21:22:35,077 : INFO : Evaluating on Validation Data\n",
      "2017-03-20 21:22:35,857 : INFO : Generating Validation Metrics\n"
     ]
    },
    {
     "name": "stdout",
     "output_type": "stream",
     "text": [
      "****** Validation Metrics: Cov Err: 1.997 | Top 3: 0.879 | Top 5: 0.972 | F1 Micro: 0.559 | F1 Macro: 0.506\n"
     ]
    },
    {
     "name": "stderr",
     "output_type": "stream",
     "text": [
      "2017-03-20 21:22:52,716 : INFO : Found lower val loss for epoch 55 => 0.26351\n",
      "2017-03-20 21:22:57,653 : INFO : Found lower val loss for epoch 58 => 0.25985\n",
      "2017-03-20 21:23:02,132 : INFO : Found lower val loss for epoch 61 => 0.25982\n",
      "2017-03-20 21:23:06,836 : INFO : Found lower val loss for epoch 64 => 0.25745\n",
      "2017-03-20 21:23:11,362 : INFO : Found lower val loss for epoch 67 => 0.25627\n",
      "2017-03-20 21:23:12,961 : INFO : Found lower val loss for epoch 68 => 0.25519\n",
      "2017-03-20 21:23:18,775 : INFO : Found lower val loss for epoch 72 => 0.25255\n",
      "2017-03-20 21:23:23,409 : INFO : Found lower val loss for epoch 75 => 0.25122\n",
      "2017-03-20 21:23:25,036 : INFO : Found lower val loss for epoch 76 => 0.24673\n",
      "2017-03-20 21:23:32,826 : INFO : Found lower val loss for epoch 81 => 0.2464\n",
      "2017-03-20 21:23:32,828 : INFO : Validation Loss Reduced 30 times\n",
      "2017-03-20 21:23:32,829 : INFO : Evaluating on Validation Data\n",
      "2017-03-20 21:23:33,574 : INFO : Generating Validation Metrics\n"
     ]
    },
    {
     "name": "stdout",
     "output_type": "stream",
     "text": [
      "****** Validation Metrics: Cov Err: 1.874 | Top 3: 0.902 | Top 5: 0.979 | F1 Micro: 0.578 | F1 Macro: 0.529\n"
     ]
    },
    {
     "name": "stderr",
     "output_type": "stream",
     "text": [
      "2017-03-20 21:23:41,396 : INFO : Found lower val loss for epoch 86 => 0.24551\n",
      "2017-03-20 21:23:47,436 : INFO : Found lower val loss for epoch 90 => 0.24428\n",
      "2017-03-20 21:24:00,603 : INFO : Found lower val loss for epoch 98 => 0.23983\n",
      "2017-03-20 21:24:03,767 : INFO : Evaluating on Validation Data using saved best weights\n"
     ]
    },
    {
     "name": "stdout",
     "output_type": "stream",
     "text": [
      "CPU times: user 51.1 s, sys: 1min 16s, total: 2min 7s\n",
      "Wall time: 2min 41s\n"
     ]
    },
    {
     "name": "stderr",
     "output_type": "stream",
     "text": [
      "2017-03-20 21:24:04,455 : INFO : Generating Validation Metrics\n"
     ]
    },
    {
     "name": "stdout",
     "output_type": "stream",
     "text": [
      "****** Validation Metrics: Cov Err: 1.820 | Top 3: 0.912 | Top 5: 0.982 | F1 Micro: 0.605 | F1 Macro: 0.540\n"
     ]
    },
    {
     "name": "stderr",
     "output_type": "stream",
     "text": [
      "2017-03-20 21:24:05,446 : INFO : ***************************************************************************************\n",
      "2017-03-20 21:24:05,448 : INFO : nn_1st-size_200_1st-act_sigmoid_2nd-size_2000_2nd-act_sigmoid_in-drop_False_hid-drop_True\n"
     ]
    },
    {
     "name": "stdout",
     "output_type": "stream",
     "text": [
      "____________________________________________________________________________________________________\n",
      "Layer (type)                     Output Shape          Param #     Connected to                     \n",
      "====================================================================================================\n",
      "doc_input (InputLayer)           (None, 200)           0                                            \n",
      "____________________________________________________________________________________________________\n",
      "hidden_layer_sigmoid (Dense)     (None, 200)           40200       doc_input[0][0]                  \n",
      "____________________________________________________________________________________________________\n",
      "dropout_17 (Dropout)             (None, 200)           0           hidden_layer_sigmoid[0][0]       \n",
      "____________________________________________________________________________________________________\n",
      "hidden_layer2_sigmoid (Dense)    (None, 2000)          402000      dropout_17[0][0]                 \n",
      "____________________________________________________________________________________________________\n",
      "softmax_output (Dense)           (None, 8)             16008       hidden_layer2_sigmoid[0][0]      \n",
      "====================================================================================================\n",
      "Total params: 458208\n",
      "____________________________________________________________________________________________________\n"
     ]
    },
    {
     "name": "stderr",
     "output_type": "stream",
     "text": [
      "2017-03-20 21:24:08,340 : INFO : Found lower val loss for epoch 1 => 0.36415\n",
      "2017-03-20 21:24:11,599 : INFO : Found lower val loss for epoch 3 => 0.35288\n",
      "2017-03-20 21:24:12,861 : INFO : Found lower val loss for epoch 4 => 0.33967\n",
      "2017-03-20 21:24:14,355 : INFO : Found lower val loss for epoch 5 => 0.32737\n",
      "2017-03-20 21:24:17,124 : INFO : Found lower val loss for epoch 7 => 0.31759\n",
      "2017-03-20 21:24:18,664 : INFO : Found lower val loss for epoch 8 => 0.31113\n",
      "2017-03-20 21:24:20,050 : INFO : Found lower val loss for epoch 9 => 0.31082\n",
      "2017-03-20 21:24:21,708 : INFO : Found lower val loss for epoch 10 => 0.30053\n",
      "2017-03-20 21:24:23,242 : INFO : Found lower val loss for epoch 11 => 0.30034\n",
      "2017-03-20 21:24:24,969 : INFO : Found lower val loss for epoch 12 => 0.29958\n",
      "2017-03-20 21:24:24,971 : INFO : Validation Loss Reduced 10 times\n",
      "2017-03-20 21:24:24,972 : INFO : Evaluating on Validation Data\n",
      "2017-03-20 21:24:25,822 : INFO : Generating Validation Metrics\n"
     ]
    },
    {
     "name": "stdout",
     "output_type": "stream",
     "text": [
      "****** Validation Metrics: Cov Err: 2.298 | Top 3: 0.827 | Top 5: 0.943 | F1 Micro: 0.476 | F1 Macro: 0.298\n"
     ]
    },
    {
     "name": "stderr",
     "output_type": "stream",
     "text": [
      "2017-03-20 21:24:28,226 : INFO : Found lower val loss for epoch 13 => 0.29284\n",
      "2017-03-20 21:24:32,912 : INFO : Found lower val loss for epoch 16 => 0.29151\n",
      "2017-03-20 21:24:45,019 : INFO : Found lower val loss for epoch 25 => 0.29001\n",
      "2017-03-20 21:24:49,645 : INFO : Found lower val loss for epoch 28 => 0.2897\n",
      "2017-03-20 21:24:56,974 : INFO : Found lower val loss for epoch 33 => 0.28807\n",
      "2017-03-20 21:25:01,486 : INFO : Found lower val loss for epoch 36 => 0.28515\n",
      "2017-03-20 21:25:06,257 : INFO : Found lower val loss for epoch 39 => 0.28414\n",
      "2017-03-20 21:25:12,064 : INFO : Found lower val loss for epoch 43 => 0.2822\n",
      "2017-03-20 21:25:18,333 : INFO : Found lower val loss for epoch 47 => 0.27985\n",
      "2017-03-20 21:25:20,020 : INFO : Found lower val loss for epoch 48 => 0.27519\n",
      "2017-03-20 21:25:20,022 : INFO : Validation Loss Reduced 20 times\n",
      "2017-03-20 21:25:20,023 : INFO : Evaluating on Validation Data\n",
      "2017-03-20 21:25:20,666 : INFO : Generating Validation Metrics\n"
     ]
    },
    {
     "name": "stdout",
     "output_type": "stream",
     "text": [
      "****** Validation Metrics: Cov Err: 2.101 | Top 3: 0.862 | Top 5: 0.962 | F1 Micro: 0.534 | F1 Macro: 0.461\n"
     ]
    },
    {
     "name": "stderr",
     "output_type": "stream",
     "text": [
      "2017-03-20 21:25:35,782 : INFO : Found lower val loss for epoch 58 => 0.27507\n",
      "2017-03-20 21:25:41,658 : INFO : Found lower val loss for epoch 62 => 0.26789\n",
      "2017-03-20 21:25:58,744 : INFO : Evaluating on Validation Data using saved best weights\n"
     ]
    },
    {
     "name": "stdout",
     "output_type": "stream",
     "text": [
      "Epoch 00072: early stopping\n",
      "CPU times: user 37 s, sys: 50.5 s, total: 1min 27s\n",
      "Wall time: 1min 53s\n"
     ]
    },
    {
     "name": "stderr",
     "output_type": "stream",
     "text": [
      "2017-03-20 21:25:59,394 : INFO : Generating Validation Metrics\n"
     ]
    },
    {
     "name": "stdout",
     "output_type": "stream",
     "text": [
      "****** Validation Metrics: Cov Err: 2.027 | Top 3: 0.878 | Top 5: 0.970 | F1 Micro: 0.545 | F1 Macro: 0.469\n"
     ]
    },
    {
     "name": "stderr",
     "output_type": "stream",
     "text": [
      "2017-03-20 21:26:00,384 : INFO : ***************************************************************************************\n",
      "2017-03-20 21:26:00,386 : INFO : nn_1st-size_200_1st-act_tanh_2nd-size_2000_2nd-act_relu_in-drop_False_hid-drop_True\n"
     ]
    },
    {
     "name": "stdout",
     "output_type": "stream",
     "text": [
      "____________________________________________________________________________________________________\n",
      "Layer (type)                     Output Shape          Param #     Connected to                     \n",
      "====================================================================================================\n",
      "doc_input (InputLayer)           (None, 200)           0                                            \n",
      "____________________________________________________________________________________________________\n",
      "hidden_layer_tanh (Dense)        (None, 200)           40200       doc_input[0][0]                  \n",
      "____________________________________________________________________________________________________\n",
      "dropout_18 (Dropout)             (None, 200)           0           hidden_layer_tanh[0][0]          \n",
      "____________________________________________________________________________________________________\n",
      "hidden_layer2_relu (Dense)       (None, 2000)          402000      dropout_18[0][0]                 \n",
      "____________________________________________________________________________________________________\n",
      "softmax_output (Dense)           (None, 8)             16008       hidden_layer2_relu[0][0]         \n",
      "====================================================================================================\n",
      "Total params: 458208\n",
      "____________________________________________________________________________________________________\n"
     ]
    },
    {
     "name": "stderr",
     "output_type": "stream",
     "text": [
      "2017-03-20 21:26:03,601 : INFO : Found lower val loss for epoch 1 => 0.28435\n",
      "2017-03-20 21:26:05,286 : INFO : Found lower val loss for epoch 2 => 0.27622\n",
      "2017-03-20 21:26:06,983 : INFO : Found lower val loss for epoch 3 => 0.27202\n",
      "2017-03-20 21:26:10,625 : INFO : Found lower val loss for epoch 5 => 0.26642\n",
      "2017-03-20 21:26:12,371 : INFO : Found lower val loss for epoch 6 => 0.26545\n",
      "2017-03-20 21:26:14,068 : INFO : Found lower val loss for epoch 7 => 0.26503\n",
      "2017-03-20 21:26:15,826 : INFO : Found lower val loss for epoch 8 => 0.26091\n",
      "2017-03-20 21:26:17,438 : INFO : Found lower val loss for epoch 9 => 0.25397\n",
      "2017-03-20 21:26:19,044 : INFO : Found lower val loss for epoch 10 => 0.25374\n",
      "2017-03-20 21:26:23,503 : INFO : Found lower val loss for epoch 13 => 0.25298\n",
      "2017-03-20 21:26:23,505 : INFO : Validation Loss Reduced 10 times\n",
      "2017-03-20 21:26:23,507 : INFO : Evaluating on Validation Data\n",
      "2017-03-20 21:26:24,349 : INFO : Generating Validation Metrics\n"
     ]
    },
    {
     "name": "stdout",
     "output_type": "stream",
     "text": [
      "****** Validation Metrics: Cov Err: 1.834 | Top 3: 0.910 | Top 5: 0.980 | F1 Micro: 0.629 | F1 Macro: 0.570\n"
     ]
    },
    {
     "name": "stderr",
     "output_type": "stream",
     "text": [
      "2017-03-20 21:26:29,599 : INFO : Found lower val loss for epoch 16 => 0.25187\n",
      "2017-03-20 21:26:31,313 : INFO : Found lower val loss for epoch 17 => 0.25042\n",
      "2017-03-20 21:26:34,355 : INFO : Found lower val loss for epoch 19 => 0.2499\n",
      "2017-03-20 21:26:35,695 : INFO : Found lower val loss for epoch 20 => 0.24604\n",
      "2017-03-20 21:26:52,665 : INFO : Evaluating on Validation Data using saved best weights\n"
     ]
    },
    {
     "name": "stdout",
     "output_type": "stream",
     "text": [
      "Epoch 00030: early stopping\n",
      "CPU times: user 17.1 s, sys: 23.2 s, total: 40.2 s\n",
      "Wall time: 51.9 s\n"
     ]
    },
    {
     "name": "stderr",
     "output_type": "stream",
     "text": [
      "2017-03-20 21:26:53,294 : INFO : Generating Validation Metrics\n"
     ]
    },
    {
     "name": "stdout",
     "output_type": "stream",
     "text": [
      "****** Validation Metrics: Cov Err: 1.785 | Top 3: 0.918 | Top 5: 0.981 | F1 Micro: 0.648 | F1 Macro: 0.585\n"
     ]
    },
    {
     "name": "stderr",
     "output_type": "stream",
     "text": [
      "2017-03-20 21:26:54,294 : INFO : ***************************************************************************************\n",
      "2017-03-20 21:26:54,296 : INFO : nn_1st-size_500_1st-act_tanh_2nd-size_None_2nd-act_tanh_in-drop_False_hid-drop_True\n"
     ]
    },
    {
     "name": "stdout",
     "output_type": "stream",
     "text": [
      "____________________________________________________________________________________________________\n",
      "Layer (type)                     Output Shape          Param #     Connected to                     \n",
      "====================================================================================================\n",
      "doc_input (InputLayer)           (None, 200)           0                                            \n",
      "____________________________________________________________________________________________________\n",
      "hidden_layer_tanh (Dense)        (None, 500)           100500      doc_input[0][0]                  \n",
      "____________________________________________________________________________________________________\n",
      "dropout_19 (Dropout)             (None, 500)           0           hidden_layer_tanh[0][0]          \n",
      "____________________________________________________________________________________________________\n",
      "softmax_output (Dense)           (None, 8)             4008        dropout_19[0][0]                 \n",
      "====================================================================================================\n",
      "Total params: 104508\n",
      "____________________________________________________________________________________________________\n"
     ]
    },
    {
     "name": "stderr",
     "output_type": "stream",
     "text": [
      "2017-03-20 21:26:56,859 : INFO : Found lower val loss for epoch 1 => 0.2892\n",
      "2017-03-20 21:27:06,811 : INFO : Evaluating on Validation Data using saved best weights\n"
     ]
    },
    {
     "name": "stdout",
     "output_type": "stream",
     "text": [
      "Epoch 00011: early stopping\n",
      "CPU times: user 5.09 s, sys: 4.79 s, total: 9.88 s\n",
      "Wall time: 12.2 s\n"
     ]
    },
    {
     "name": "stderr",
     "output_type": "stream",
     "text": [
      "2017-03-20 21:27:07,417 : INFO : Generating Validation Metrics\n"
     ]
    },
    {
     "name": "stdout",
     "output_type": "stream",
     "text": [
      "****** Validation Metrics: Cov Err: 2.196 | Top 3: 0.842 | Top 5: 0.952 | F1 Micro: 0.472 | F1 Macro: 0.267\n"
     ]
    },
    {
     "name": "stderr",
     "output_type": "stream",
     "text": [
      "2017-03-20 21:27:08,393 : INFO : ***************************************************************************************\n",
      "2017-03-20 21:27:08,395 : INFO : nn_1st-size_500_1st-act_tanh_2nd-size_None_2nd-act_relu_in-drop_False_hid-drop_True\n"
     ]
    },
    {
     "name": "stdout",
     "output_type": "stream",
     "text": [
      "____________________________________________________________________________________________________\n",
      "Layer (type)                     Output Shape          Param #     Connected to                     \n",
      "====================================================================================================\n",
      "doc_input (InputLayer)           (None, 200)           0                                            \n",
      "____________________________________________________________________________________________________\n",
      "hidden_layer_tanh (Dense)        (None, 500)           100500      doc_input[0][0]                  \n",
      "____________________________________________________________________________________________________\n",
      "dropout_20 (Dropout)             (None, 500)           0           hidden_layer_tanh[0][0]          \n",
      "____________________________________________________________________________________________________\n",
      "softmax_output (Dense)           (None, 8)             4008        dropout_20[0][0]                 \n",
      "====================================================================================================\n",
      "Total params: 104508\n",
      "____________________________________________________________________________________________________\n"
     ]
    },
    {
     "name": "stderr",
     "output_type": "stream",
     "text": [
      "2017-03-20 21:27:11,033 : INFO : Found lower val loss for epoch 1 => 0.2892\n",
      "2017-03-20 21:27:11,950 : INFO : Found lower val loss for epoch 2 => 0.28715\n",
      "2017-03-20 21:27:22,063 : INFO : Evaluating on Validation Data using saved best weights\n"
     ]
    },
    {
     "name": "stdout",
     "output_type": "stream",
     "text": [
      "Epoch 00012: early stopping\n",
      "CPU times: user 5.25 s, sys: 5.64 s, total: 10.9 s\n",
      "Wall time: 13.4 s\n"
     ]
    },
    {
     "name": "stderr",
     "output_type": "stream",
     "text": [
      "2017-03-20 21:27:22,686 : INFO : Generating Validation Metrics\n"
     ]
    },
    {
     "name": "stdout",
     "output_type": "stream",
     "text": [
      "****** Validation Metrics: Cov Err: 2.144 | Top 3: 0.850 | Top 5: 0.959 | F1 Micro: 0.515 | F1 Macro: 0.378\n"
     ]
    },
    {
     "name": "stderr",
     "output_type": "stream",
     "text": [
      "2017-03-20 21:27:23,666 : INFO : ***************************************************************************************\n",
      "2017-03-20 21:27:23,668 : INFO : nn_1st-size_200_1st-act_tanh_2nd-size_500_2nd-act_tanh_in-drop_False_hid-drop_True\n"
     ]
    },
    {
     "name": "stdout",
     "output_type": "stream",
     "text": [
      "____________________________________________________________________________________________________\n",
      "Layer (type)                     Output Shape          Param #     Connected to                     \n",
      "====================================================================================================\n",
      "doc_input (InputLayer)           (None, 200)           0                                            \n",
      "____________________________________________________________________________________________________\n",
      "hidden_layer_tanh (Dense)        (None, 200)           40200       doc_input[0][0]                  \n",
      "____________________________________________________________________________________________________\n",
      "dropout_21 (Dropout)             (None, 200)           0           hidden_layer_tanh[0][0]          \n",
      "____________________________________________________________________________________________________\n",
      "hidden_layer2_tanh (Dense)       (None, 500)           100500      dropout_21[0][0]                 \n",
      "____________________________________________________________________________________________________\n",
      "softmax_output (Dense)           (None, 8)             4008        hidden_layer2_tanh[0][0]         \n",
      "====================================================================================================\n",
      "Total params: 144708\n",
      "____________________________________________________________________________________________________\n"
     ]
    },
    {
     "name": "stderr",
     "output_type": "stream",
     "text": [
      "2017-03-20 21:27:26,657 : INFO : Found lower val loss for epoch 1 => 0.28988\n",
      "2017-03-20 21:27:27,754 : INFO : Found lower val loss for epoch 2 => 0.28792\n",
      "2017-03-20 21:27:28,837 : INFO : Found lower val loss for epoch 3 => 0.28247\n",
      "2017-03-20 21:27:37,350 : INFO : Found lower val loss for epoch 10 => 0.28071\n",
      "2017-03-20 21:27:39,602 : INFO : Found lower val loss for epoch 12 => 0.28062\n",
      "2017-03-20 21:27:40,639 : INFO : Found lower val loss for epoch 13 => 0.27615\n",
      "2017-03-20 21:27:46,461 : INFO : Found lower val loss for epoch 18 => 0.27416\n",
      "2017-03-20 21:27:52,037 : INFO : Found lower val loss for epoch 23 => 0.27126\n",
      "2017-03-20 21:27:55,930 : INFO : Found lower val loss for epoch 26 => 0.26816\n",
      "2017-03-20 21:27:59,492 : INFO : Found lower val loss for epoch 29 => 0.26723\n",
      "2017-03-20 21:27:59,494 : INFO : Validation Loss Reduced 10 times\n",
      "2017-03-20 21:27:59,495 : INFO : Evaluating on Validation Data\n",
      "2017-03-20 21:28:00,206 : INFO : Generating Validation Metrics\n"
     ]
    },
    {
     "name": "stdout",
     "output_type": "stream",
     "text": [
      "****** Validation Metrics: Cov Err: 2.007 | Top 3: 0.879 | Top 5: 0.974 | F1 Micro: 0.547 | F1 Macro: 0.491\n"
     ]
    },
    {
     "name": "stderr",
     "output_type": "stream",
     "text": [
      "2017-03-20 21:28:11,704 : INFO : Found lower val loss for epoch 38 => 0.26417\n",
      "2017-03-20 21:28:13,088 : INFO : Found lower val loss for epoch 39 => 0.26319\n",
      "2017-03-20 21:28:14,424 : INFO : Found lower val loss for epoch 40 => 0.2628\n",
      "2017-03-20 21:28:19,267 : INFO : Found lower val loss for epoch 44 => 0.25943\n",
      "2017-03-20 21:28:22,931 : INFO : Found lower val loss for epoch 47 => 0.25763\n",
      "2017-03-20 21:28:25,307 : INFO : Found lower val loss for epoch 49 => 0.25702\n",
      "2017-03-20 21:28:35,613 : INFO : Found lower val loss for epoch 58 => 0.25626\n",
      "2017-03-20 21:28:38,106 : INFO : Found lower val loss for epoch 60 => 0.25572\n",
      "2017-03-20 21:28:39,297 : INFO : Found lower val loss for epoch 61 => 0.25499\n",
      "2017-03-20 21:28:41,947 : INFO : Found lower val loss for epoch 63 => 0.25439\n",
      "2017-03-20 21:28:41,949 : INFO : Validation Loss Reduced 20 times\n",
      "2017-03-20 21:28:41,950 : INFO : Evaluating on Validation Data\n",
      "2017-03-20 21:28:42,471 : INFO : Generating Validation Metrics\n"
     ]
    },
    {
     "name": "stdout",
     "output_type": "stream",
     "text": [
      "****** Validation Metrics: Cov Err: 1.912 | Top 3: 0.900 | Top 5: 0.976 | F1 Micro: 0.588 | F1 Macro: 0.505\n"
     ]
    },
    {
     "name": "stderr",
     "output_type": "stream",
     "text": [
      "2017-03-20 21:28:50,419 : INFO : Found lower val loss for epoch 69 => 0.25425\n",
      "2017-03-20 21:28:51,651 : INFO : Found lower val loss for epoch 70 => 0.25044\n",
      "2017-03-20 21:29:02,103 : INFO : Found lower val loss for epoch 79 => 0.24788\n",
      "2017-03-20 21:29:14,837 : INFO : Evaluating on Validation Data using saved best weights\n"
     ]
    },
    {
     "name": "stdout",
     "output_type": "stream",
     "text": [
      "Epoch 00089: early stopping\n",
      "CPU times: user 39.1 s, sys: 48.6 s, total: 1min 27s\n",
      "Wall time: 1min 50s\n"
     ]
    },
    {
     "name": "stderr",
     "output_type": "stream",
     "text": [
      "2017-03-20 21:29:15,398 : INFO : Generating Validation Metrics\n"
     ]
    },
    {
     "name": "stdout",
     "output_type": "stream",
     "text": [
      "****** Validation Metrics: Cov Err: 1.883 | Top 3: 0.903 | Top 5: 0.977 | F1 Micro: 0.603 | F1 Macro: 0.542\n"
     ]
    },
    {
     "name": "stderr",
     "output_type": "stream",
     "text": [
      "2017-03-20 21:29:16,393 : INFO : ***************************************************************************************\n",
      "2017-03-20 21:29:16,394 : INFO : nn_1st-size_200_1st-act_relu_2nd-size_500_2nd-act_sigmoid_in-drop_False_hid-drop_True\n"
     ]
    },
    {
     "name": "stdout",
     "output_type": "stream",
     "text": [
      "____________________________________________________________________________________________________\n",
      "Layer (type)                     Output Shape          Param #     Connected to                     \n",
      "====================================================================================================\n",
      "doc_input (InputLayer)           (None, 200)           0                                            \n",
      "____________________________________________________________________________________________________\n",
      "hidden_layer_relu (Dense)        (None, 200)           40200       doc_input[0][0]                  \n",
      "____________________________________________________________________________________________________\n",
      "dropout_22 (Dropout)             (None, 200)           0           hidden_layer_relu[0][0]          \n",
      "____________________________________________________________________________________________________\n",
      "hidden_layer2_sigmoid (Dense)    (None, 500)           100500      dropout_22[0][0]                 \n",
      "____________________________________________________________________________________________________\n",
      "softmax_output (Dense)           (None, 8)             4008        hidden_layer2_sigmoid[0][0]      \n",
      "====================================================================================================\n",
      "Total params: 144708\n",
      "____________________________________________________________________________________________________\n"
     ]
    },
    {
     "name": "stderr",
     "output_type": "stream",
     "text": [
      "2017-03-20 21:29:19,163 : INFO : Found lower val loss for epoch 1 => 0.3044\n",
      "2017-03-20 21:29:20,447 : INFO : Found lower val loss for epoch 2 => 0.28376\n",
      "2017-03-20 21:29:22,718 : INFO : Found lower val loss for epoch 4 => 0.27551\n",
      "2017-03-20 21:29:26,581 : INFO : Found lower val loss for epoch 8 => 0.26976\n",
      "2017-03-20 21:29:29,862 : INFO : Found lower val loss for epoch 11 => 0.26857\n",
      "2017-03-20 21:29:31,018 : INFO : Found lower val loss for epoch 12 => 0.26449\n",
      "2017-03-20 21:29:31,997 : INFO : Found lower val loss for epoch 13 => 0.26191\n",
      "2017-03-20 21:29:33,296 : INFO : Found lower val loss for epoch 14 => 0.25972\n",
      "2017-03-20 21:29:34,397 : INFO : Found lower val loss for epoch 15 => 0.25795\n",
      "2017-03-20 21:29:36,394 : INFO : Found lower val loss for epoch 17 => 0.25366\n",
      "2017-03-20 21:29:36,396 : INFO : Validation Loss Reduced 10 times\n",
      "2017-03-20 21:29:36,397 : INFO : Evaluating on Validation Data\n",
      "2017-03-20 21:29:36,967 : INFO : Generating Validation Metrics\n"
     ]
    },
    {
     "name": "stdout",
     "output_type": "stream",
     "text": [
      "****** Validation Metrics: Cov Err: 1.903 | Top 3: 0.901 | Top 5: 0.977 | F1 Micro: 0.591 | F1 Macro: 0.530\n"
     ]
    },
    {
     "name": "stderr",
     "output_type": "stream",
     "text": [
      "2017-03-20 21:29:38,228 : INFO : Found lower val loss for epoch 18 => 0.25162\n",
      "2017-03-20 21:29:39,510 : INFO : Found lower val loss for epoch 20 => 0.25106\n",
      "2017-03-20 21:29:40,183 : INFO : Found lower val loss for epoch 21 => 0.25041\n",
      "2017-03-20 21:29:41,383 : INFO : Found lower val loss for epoch 23 => 0.24765\n",
      "2017-03-20 21:29:41,953 : INFO : Found lower val loss for epoch 24 => 0.24616\n",
      "2017-03-20 21:29:43,694 : INFO : Found lower val loss for epoch 27 => 0.24409\n",
      "2017-03-20 21:29:44,274 : INFO : Found lower val loss for epoch 28 => 0.24262\n",
      "2017-03-20 21:29:47,781 : INFO : Found lower val loss for epoch 34 => 0.24114\n",
      "2017-03-20 21:29:48,381 : INFO : Found lower val loss for epoch 35 => 0.23891\n",
      "2017-03-20 21:29:48,950 : INFO : Found lower val loss for epoch 36 => 0.23849\n",
      "2017-03-20 21:29:48,951 : INFO : Validation Loss Reduced 20 times\n",
      "2017-03-20 21:29:48,952 : INFO : Evaluating on Validation Data\n",
      "2017-03-20 21:29:49,494 : INFO : Generating Validation Metrics\n"
     ]
    },
    {
     "name": "stdout",
     "output_type": "stream",
     "text": [
      "****** Validation Metrics: Cov Err: 1.804 | Top 3: 0.917 | Top 5: 0.981 | F1 Micro: 0.621 | F1 Macro: 0.552\n"
     ]
    },
    {
     "name": "stderr",
     "output_type": "stream",
     "text": [
      "2017-03-20 21:29:51,347 : INFO : Found lower val loss for epoch 38 => 0.23833\n",
      "2017-03-20 21:29:56,710 : INFO : Found lower val loss for epoch 47 => 0.23577\n",
      "2017-03-20 21:30:03,205 : INFO : Evaluating on Validation Data using saved best weights\n"
     ]
    },
    {
     "name": "stdout",
     "output_type": "stream",
     "text": [
      "Epoch 00057: early stopping\n",
      "CPU times: user 20.3 s, sys: 21.9 s, total: 42.2 s\n",
      "Wall time: 46.6 s\n"
     ]
    },
    {
     "name": "stderr",
     "output_type": "stream",
     "text": [
      "2017-03-20 21:30:03,775 : INFO : Generating Validation Metrics\n"
     ]
    },
    {
     "name": "stdout",
     "output_type": "stream",
     "text": [
      "****** Validation Metrics: Cov Err: 1.787 | Top 3: 0.920 | Top 5: 0.983 | F1 Micro: 0.619 | F1 Macro: 0.536\n"
     ]
    },
    {
     "name": "stderr",
     "output_type": "stream",
     "text": [
      "2017-03-20 21:30:04,712 : INFO : ***************************************************************************************\n",
      "2017-03-20 21:30:04,715 : INFO : nn_1st-size_500_1st-act_sigmoid_2nd-size_1000_2nd-act_sigmoid_in-drop_False_hid-drop_True\n"
     ]
    },
    {
     "name": "stdout",
     "output_type": "stream",
     "text": [
      "____________________________________________________________________________________________________\n",
      "Layer (type)                     Output Shape          Param #     Connected to                     \n",
      "====================================================================================================\n",
      "doc_input (InputLayer)           (None, 200)           0                                            \n",
      "____________________________________________________________________________________________________\n",
      "hidden_layer_sigmoid (Dense)     (None, 500)           100500      doc_input[0][0]                  \n",
      "____________________________________________________________________________________________________\n",
      "dropout_23 (Dropout)             (None, 500)           0           hidden_layer_sigmoid[0][0]       \n",
      "____________________________________________________________________________________________________\n",
      "hidden_layer2_sigmoid (Dense)    (None, 1000)          501000      dropout_23[0][0]                 \n",
      "____________________________________________________________________________________________________\n",
      "softmax_output (Dense)           (None, 8)             8008        hidden_layer2_sigmoid[0][0]      \n",
      "====================================================================================================\n",
      "Total params: 609508\n",
      "____________________________________________________________________________________________________\n"
     ]
    },
    {
     "name": "stderr",
     "output_type": "stream",
     "text": [
      "2017-03-20 21:30:06,829 : INFO : Found lower val loss for epoch 1 => 0.36627\n",
      "2017-03-20 21:30:07,463 : INFO : Found lower val loss for epoch 2 => 0.35176\n",
      "2017-03-20 21:30:08,094 : INFO : Found lower val loss for epoch 3 => 0.32772\n",
      "2017-03-20 21:30:08,734 : INFO : Found lower val loss for epoch 4 => 0.32015\n",
      "2017-03-20 21:30:09,382 : INFO : Found lower val loss for epoch 5 => 0.31462\n",
      "2017-03-20 21:30:10,652 : INFO : Found lower val loss for epoch 7 => 0.29531\n",
      "2017-03-20 21:30:12,592 : INFO : Found lower val loss for epoch 10 => 0.28938\n",
      "2017-03-20 21:30:20,101 : INFO : Evaluating on Validation Data using saved best weights\n"
     ]
    },
    {
     "name": "stdout",
     "output_type": "stream",
     "text": [
      "Epoch 00020: early stopping\n",
      "CPU times: user 6.35 s, sys: 8.52 s, total: 14.9 s\n",
      "Wall time: 15.1 s\n"
     ]
    },
    {
     "name": "stderr",
     "output_type": "stream",
     "text": [
      "2017-03-20 21:30:20,598 : INFO : Generating Validation Metrics\n"
     ]
    },
    {
     "name": "stdout",
     "output_type": "stream",
     "text": [
      "****** Validation Metrics: Cov Err: 2.172 | Top 3: 0.849 | Top 5: 0.952 | F1 Micro: 0.524 | F1 Macro: 0.348\n"
     ]
    },
    {
     "name": "stderr",
     "output_type": "stream",
     "text": [
      "2017-03-20 21:30:21,504 : INFO : ***************************************************************************************\n",
      "2017-03-20 21:30:21,506 : INFO : nn_1st-size_100_1st-act_relu_2nd-size_500_2nd-act_relu_in-drop_False_hid-drop_True\n"
     ]
    },
    {
     "name": "stdout",
     "output_type": "stream",
     "text": [
      "____________________________________________________________________________________________________\n",
      "Layer (type)                     Output Shape          Param #     Connected to                     \n",
      "====================================================================================================\n",
      "doc_input (InputLayer)           (None, 200)           0                                            \n",
      "____________________________________________________________________________________________________\n",
      "hidden_layer_relu (Dense)        (None, 100)           20100       doc_input[0][0]                  \n",
      "____________________________________________________________________________________________________\n",
      "dropout_24 (Dropout)             (None, 100)           0           hidden_layer_relu[0][0]          \n",
      "____________________________________________________________________________________________________\n",
      "hidden_layer2_relu (Dense)       (None, 500)           50500       dropout_24[0][0]                 \n",
      "____________________________________________________________________________________________________\n",
      "softmax_output (Dense)           (None, 8)             4008        hidden_layer2_relu[0][0]         \n",
      "====================================================================================================\n",
      "Total params: 74608\n",
      "____________________________________________________________________________________________________\n"
     ]
    },
    {
     "name": "stderr",
     "output_type": "stream",
     "text": [
      "2017-03-20 21:30:23,617 : INFO : Found lower val loss for epoch 1 => 0.31928\n",
      "2017-03-20 21:30:24,173 : INFO : Found lower val loss for epoch 2 => 0.29178\n",
      "2017-03-20 21:30:24,716 : INFO : Found lower val loss for epoch 3 => 0.28047\n",
      "2017-03-20 21:30:25,259 : INFO : Found lower val loss for epoch 4 => 0.27686\n",
      "2017-03-20 21:30:25,799 : INFO : Found lower val loss for epoch 5 => 0.27089\n",
      "2017-03-20 21:30:26,935 : INFO : Found lower val loss for epoch 7 => 0.26457\n",
      "2017-03-20 21:30:27,490 : INFO : Found lower val loss for epoch 8 => 0.26394\n",
      "2017-03-20 21:30:28,551 : INFO : Found lower val loss for epoch 10 => 0.25805\n",
      "2017-03-20 21:30:29,628 : INFO : Found lower val loss for epoch 12 => 0.25496\n",
      "2017-03-20 21:30:30,162 : INFO : Found lower val loss for epoch 13 => 0.25482\n",
      "2017-03-20 21:30:30,164 : INFO : Validation Loss Reduced 10 times\n",
      "2017-03-20 21:30:30,165 : INFO : Evaluating on Validation Data\n",
      "2017-03-20 21:30:30,618 : INFO : Generating Validation Metrics\n"
     ]
    },
    {
     "name": "stdout",
     "output_type": "stream",
     "text": [
      "****** Validation Metrics: Cov Err: 1.911 | Top 3: 0.898 | Top 5: 0.975 | F1 Micro: 0.594 | F1 Macro: 0.471\n"
     ]
    },
    {
     "name": "stderr",
     "output_type": "stream",
     "text": [
      "2017-03-20 21:30:31,859 : INFO : Found lower val loss for epoch 14 => 0.25383\n",
      "2017-03-20 21:30:32,401 : INFO : Found lower val loss for epoch 15 => 0.25312\n",
      "2017-03-20 21:30:32,937 : INFO : Found lower val loss for epoch 16 => 0.25312\n",
      "2017-03-20 21:30:34,008 : INFO : Found lower val loss for epoch 18 => 0.24746\n",
      "2017-03-20 21:30:35,086 : INFO : Found lower val loss for epoch 20 => 0.24402\n",
      "2017-03-20 21:30:37,289 : INFO : Found lower val loss for epoch 24 => 0.24389\n",
      "2017-03-20 21:30:39,439 : INFO : Found lower val loss for epoch 28 => 0.24387\n",
      "2017-03-20 21:30:40,531 : INFO : Found lower val loss for epoch 30 => 0.2424\n",
      "2017-03-20 21:30:41,079 : INFO : Found lower val loss for epoch 31 => 0.23862\n",
      "2017-03-20 21:30:42,710 : INFO : Found lower val loss for epoch 34 => 0.23839\n",
      "2017-03-20 21:30:42,712 : INFO : Validation Loss Reduced 20 times\n",
      "2017-03-20 21:30:42,713 : INFO : Evaluating on Validation Data\n",
      "2017-03-20 21:30:43,045 : INFO : Generating Validation Metrics\n"
     ]
    },
    {
     "name": "stdout",
     "output_type": "stream",
     "text": [
      "****** Validation Metrics: Cov Err: 1.824 | Top 3: 0.912 | Top 5: 0.980 | F1 Micro: 0.623 | F1 Macro: 0.537\n"
     ]
    },
    {
     "name": "stderr",
     "output_type": "stream",
     "text": [
      "2017-03-20 21:30:49,813 : INFO : Evaluating on Validation Data using saved best weights\n"
     ]
    },
    {
     "name": "stdout",
     "output_type": "stream",
     "text": [
      "Epoch 00044: early stopping\n",
      "CPU times: user 13.6 s, sys: 14.5 s, total: 28.1 s\n",
      "Wall time: 28.1 s\n"
     ]
    },
    {
     "name": "stderr",
     "output_type": "stream",
     "text": [
      "2017-03-20 21:30:50,142 : INFO : Generating Validation Metrics\n"
     ]
    },
    {
     "name": "stdout",
     "output_type": "stream",
     "text": [
      "****** Validation Metrics: Cov Err: 1.824 | Top 3: 0.912 | Top 5: 0.980 | F1 Micro: 0.623 | F1 Macro: 0.537\n"
     ]
    },
    {
     "name": "stderr",
     "output_type": "stream",
     "text": [
      "2017-03-20 21:30:51,072 : INFO : ***************************************************************************************\n",
      "2017-03-20 21:30:51,074 : INFO : nn_1st-size_100_1st-act_tanh_2nd-size_500_2nd-act_sigmoid_in-drop_False_hid-drop_True\n"
     ]
    },
    {
     "name": "stdout",
     "output_type": "stream",
     "text": [
      "____________________________________________________________________________________________________\n",
      "Layer (type)                     Output Shape          Param #     Connected to                     \n",
      "====================================================================================================\n",
      "doc_input (InputLayer)           (None, 200)           0                                            \n",
      "____________________________________________________________________________________________________\n",
      "hidden_layer_tanh (Dense)        (None, 100)           20100       doc_input[0][0]                  \n",
      "____________________________________________________________________________________________________\n",
      "dropout_25 (Dropout)             (None, 100)           0           hidden_layer_tanh[0][0]          \n",
      "____________________________________________________________________________________________________\n",
      "hidden_layer2_sigmoid (Dense)    (None, 500)           50500       dropout_25[0][0]                 \n",
      "____________________________________________________________________________________________________\n",
      "softmax_output (Dense)           (None, 8)             4008        hidden_layer2_sigmoid[0][0]      \n",
      "====================================================================================================\n",
      "Total params: 74608\n",
      "____________________________________________________________________________________________________\n"
     ]
    },
    {
     "name": "stderr",
     "output_type": "stream",
     "text": [
      "2017-03-20 21:30:53,254 : INFO : Found lower val loss for epoch 1 => 0.31274\n",
      "2017-03-20 21:30:53,689 : INFO : Found lower val loss for epoch 2 => 0.28669\n",
      "2017-03-20 21:30:54,111 : INFO : Found lower val loss for epoch 3 => 0.28307\n",
      "2017-03-20 21:30:54,928 : INFO : Found lower val loss for epoch 5 => 0.28287\n",
      "2017-03-20 21:30:56,574 : INFO : Found lower val loss for epoch 9 => 0.2807\n",
      "2017-03-20 21:30:59,495 : INFO : Found lower val loss for epoch 16 => 0.28026\n",
      "2017-03-20 21:31:01,129 : INFO : Found lower val loss for epoch 20 => 0.27856\n",
      "2017-03-20 21:31:01,530 : INFO : Found lower val loss for epoch 21 => 0.2748\n",
      "2017-03-20 21:31:04,819 : INFO : Found lower val loss for epoch 29 => 0.27323\n",
      "2017-03-20 21:31:05,247 : INFO : Found lower val loss for epoch 30 => 0.27291\n",
      "2017-03-20 21:31:05,249 : INFO : Validation Loss Reduced 10 times\n",
      "2017-03-20 21:31:05,250 : INFO : Evaluating on Validation Data\n",
      "2017-03-20 21:31:05,691 : INFO : Generating Validation Metrics\n"
     ]
    },
    {
     "name": "stdout",
     "output_type": "stream",
     "text": [
      "****** Validation Metrics: Cov Err: 2.077 | Top 3: 0.865 | Top 5: 0.969 | F1 Micro: 0.541 | F1 Macro: 0.464\n"
     ]
    },
    {
     "name": "stderr",
     "output_type": "stream",
     "text": [
      "2017-03-20 21:31:09,251 : INFO : Found lower val loss for epoch 37 => 0.27107\n",
      "2017-03-20 21:31:09,652 : INFO : Found lower val loss for epoch 38 => 0.27055\n",
      "2017-03-20 21:31:10,060 : INFO : Found lower val loss for epoch 39 => 0.27038\n",
      "2017-03-20 21:31:10,468 : INFO : Found lower val loss for epoch 40 => 0.26978\n",
      "2017-03-20 21:31:13,313 : INFO : Found lower val loss for epoch 47 => 0.26972\n",
      "2017-03-20 21:31:13,721 : INFO : Found lower val loss for epoch 48 => 0.26908\n",
      "2017-03-20 21:31:15,011 : INFO : Found lower val loss for epoch 51 => 0.26738\n",
      "2017-03-20 21:31:18,686 : INFO : Found lower val loss for epoch 60 => 0.26611\n",
      "2017-03-20 21:31:19,087 : INFO : Found lower val loss for epoch 61 => 0.26469\n",
      "2017-03-20 21:31:20,311 : INFO : Found lower val loss for epoch 64 => 0.26359\n",
      "2017-03-20 21:31:20,312 : INFO : Validation Loss Reduced 20 times\n",
      "2017-03-20 21:31:20,313 : INFO : Evaluating on Validation Data\n",
      "2017-03-20 21:31:20,648 : INFO : Generating Validation Metrics\n"
     ]
    },
    {
     "name": "stdout",
     "output_type": "stream",
     "text": [
      "****** Validation Metrics: Cov Err: 2.007 | Top 3: 0.879 | Top 5: 0.973 | F1 Micro: 0.555 | F1 Macro: 0.496\n"
     ]
    },
    {
     "name": "stderr",
     "output_type": "stream",
     "text": [
      "2017-03-20 21:31:26,445 : INFO : Found lower val loss for epoch 74 => 0.26221\n",
      "2017-03-20 21:31:28,467 : INFO : Found lower val loss for epoch 78 => 0.26164\n",
      "2017-03-20 21:31:28,987 : INFO : Found lower val loss for epoch 79 => 0.26128\n",
      "2017-03-20 21:31:31,709 : INFO : Found lower val loss for epoch 86 => 0.25948\n",
      "2017-03-20 21:31:35,378 : INFO : Found lower val loss for epoch 95 => 0.25921\n",
      "2017-03-20 21:31:35,787 : INFO : Found lower val loss for epoch 96 => 0.25866\n",
      "2017-03-20 21:31:37,489 : INFO : Evaluating on Validation Data using saved best weights\n"
     ]
    },
    {
     "name": "stdout",
     "output_type": "stream",
     "text": [
      "CPU times: user 24.5 s, sys: 21.5 s, total: 46 s\n",
      "Wall time: 46.1 s\n"
     ]
    },
    {
     "name": "stderr",
     "output_type": "stream",
     "text": [
      "2017-03-20 21:31:37,816 : INFO : Generating Validation Metrics\n"
     ]
    },
    {
     "name": "stdout",
     "output_type": "stream",
     "text": [
      "****** Validation Metrics: Cov Err: 1.973 | Top 3: 0.887 | Top 5: 0.976 | F1 Micro: 0.554 | F1 Macro: 0.493\n"
     ]
    },
    {
     "name": "stderr",
     "output_type": "stream",
     "text": [
      "2017-03-20 21:31:38,717 : INFO : ***************************************************************************************\n",
      "2017-03-20 21:31:38,719 : INFO : nn_1st-size_200_1st-act_tanh_2nd-size_2000_2nd-act_tanh_in-drop_False_hid-drop_True\n"
     ]
    },
    {
     "name": "stdout",
     "output_type": "stream",
     "text": [
      "____________________________________________________________________________________________________\n",
      "Layer (type)                     Output Shape          Param #     Connected to                     \n",
      "====================================================================================================\n",
      "doc_input (InputLayer)           (None, 200)           0                                            \n",
      "____________________________________________________________________________________________________\n",
      "hidden_layer_tanh (Dense)        (None, 200)           40200       doc_input[0][0]                  \n",
      "____________________________________________________________________________________________________\n",
      "dropout_26 (Dropout)             (None, 200)           0           hidden_layer_tanh[0][0]          \n",
      "____________________________________________________________________________________________________\n",
      "hidden_layer2_tanh (Dense)       (None, 2000)          402000      dropout_26[0][0]                 \n",
      "____________________________________________________________________________________________________\n",
      "softmax_output (Dense)           (None, 8)             16008       hidden_layer2_tanh[0][0]         \n",
      "====================================================================================================\n",
      "Total params: 458208\n",
      "____________________________________________________________________________________________________\n"
     ]
    },
    {
     "name": "stderr",
     "output_type": "stream",
     "text": [
      "2017-03-20 21:31:40,707 : INFO : Found lower val loss for epoch 1 => 0.29393\n",
      "2017-03-20 21:31:41,354 : INFO : Found lower val loss for epoch 2 => 0.29067\n",
      "2017-03-20 21:31:43,302 : INFO : Found lower val loss for epoch 5 => 0.28955\n",
      "2017-03-20 21:31:48,805 : INFO : Found lower val loss for epoch 12 => 0.28899\n",
      "2017-03-20 21:31:51,421 : INFO : Found lower val loss for epoch 16 => 0.28426\n",
      "2017-03-20 21:31:54,763 : INFO : Found lower val loss for epoch 21 => 0.28103\n",
      "2017-03-20 21:31:56,717 : INFO : Found lower val loss for epoch 24 => 0.27891\n",
      "2017-03-20 21:31:57,366 : INFO : Found lower val loss for epoch 25 => 0.27621\n",
      "2017-03-20 21:31:59,395 : INFO : Found lower val loss for epoch 28 => 0.27611\n",
      "2017-03-20 21:32:04,820 : INFO : Evaluating on Validation Data using saved best weights\n"
     ]
    },
    {
     "name": "stdout",
     "output_type": "stream",
     "text": [
      "Epoch 00035: early stopping\n",
      "CPU times: user 10.2 s, sys: 15.3 s, total: 25.5 s\n",
      "Wall time: 25.9 s\n"
     ]
    },
    {
     "name": "stderr",
     "output_type": "stream",
     "text": [
      "2017-03-20 21:32:05,321 : INFO : Generating Validation Metrics\n"
     ]
    },
    {
     "name": "stdout",
     "output_type": "stream",
     "text": [
      "****** Validation Metrics: Cov Err: 2.080 | Top 3: 0.863 | Top 5: 0.970 | F1 Micro: 0.511 | F1 Macro: 0.459\n"
     ]
    },
    {
     "name": "stderr",
     "output_type": "stream",
     "text": [
      "2017-03-20 21:32:06,235 : INFO : ***************************************************************************************\n",
      "2017-03-20 21:32:06,237 : INFO : nn_1st-size_200_1st-act_tanh_2nd-size_1000_2nd-act_sigmoid_in-drop_False_hid-drop_True\n"
     ]
    },
    {
     "name": "stdout",
     "output_type": "stream",
     "text": [
      "____________________________________________________________________________________________________\n",
      "Layer (type)                     Output Shape          Param #     Connected to                     \n",
      "====================================================================================================\n",
      "doc_input (InputLayer)           (None, 200)           0                                            \n",
      "____________________________________________________________________________________________________\n",
      "hidden_layer_tanh (Dense)        (None, 200)           40200       doc_input[0][0]                  \n",
      "____________________________________________________________________________________________________\n",
      "dropout_27 (Dropout)             (None, 200)           0           hidden_layer_tanh[0][0]          \n",
      "____________________________________________________________________________________________________\n",
      "hidden_layer2_sigmoid (Dense)    (None, 1000)          201000      dropout_27[0][0]                 \n",
      "____________________________________________________________________________________________________\n",
      "softmax_output (Dense)           (None, 8)             8008        hidden_layer2_sigmoid[0][0]      \n",
      "====================================================================================================\n",
      "Total params: 249208\n",
      "____________________________________________________________________________________________________\n"
     ]
    },
    {
     "name": "stderr",
     "output_type": "stream",
     "text": [
      "2017-03-20 21:32:08,268 : INFO : Found lower val loss for epoch 1 => 0.31132\n",
      "2017-03-20 21:32:08,845 : INFO : Found lower val loss for epoch 2 => 0.28879\n",
      "2017-03-20 21:32:11,721 : INFO : Found lower val loss for epoch 7 => 0.2877\n",
      "2017-03-20 21:32:13,477 : INFO : Found lower val loss for epoch 10 => 0.28633\n",
      "2017-03-20 21:32:14,686 : INFO : Found lower val loss for epoch 12 => 0.28503\n",
      "2017-03-20 21:32:15,255 : INFO : Found lower val loss for epoch 13 => 0.28227\n",
      "2017-03-20 21:32:16,389 : INFO : Found lower val loss for epoch 15 => 0.28043\n",
      "2017-03-20 21:32:18,102 : INFO : Found lower val loss for epoch 18 => 0.27658\n",
      "2017-03-20 21:32:19,258 : INFO : Found lower val loss for epoch 20 => 0.27537\n",
      "2017-03-20 21:32:21,565 : INFO : Found lower val loss for epoch 24 => 0.27491\n",
      "2017-03-20 21:32:21,566 : INFO : Validation Loss Reduced 10 times\n",
      "2017-03-20 21:32:21,567 : INFO : Evaluating on Validation Data\n",
      "2017-03-20 21:32:22,056 : INFO : Generating Validation Metrics\n"
     ]
    },
    {
     "name": "stdout",
     "output_type": "stream",
     "text": [
      "****** Validation Metrics: Cov Err: 2.080 | Top 3: 0.862 | Top 5: 0.969 | F1 Micro: 0.541 | F1 Macro: 0.481\n"
     ]
    },
    {
     "name": "stderr",
     "output_type": "stream",
     "text": [
      "2017-03-20 21:32:23,386 : INFO : Found lower val loss for epoch 25 => 0.27393\n",
      "2017-03-20 21:32:24,514 : INFO : Found lower val loss for epoch 27 => 0.27152\n",
      "2017-03-20 21:32:25,077 : INFO : Found lower val loss for epoch 28 => 0.27099\n",
      "2017-03-20 21:32:25,649 : INFO : Found lower val loss for epoch 29 => 0.26814\n",
      "2017-03-20 21:32:30,790 : INFO : Found lower val loss for epoch 38 => 0.26696\n",
      "2017-03-20 21:32:34,242 : INFO : Found lower val loss for epoch 44 => 0.26616\n",
      "2017-03-20 21:32:37,713 : INFO : Found lower val loss for epoch 50 => 0.26365\n",
      "2017-03-20 21:32:38,279 : INFO : Found lower val loss for epoch 51 => 0.26221\n",
      "2017-03-20 21:32:39,998 : INFO : Found lower val loss for epoch 54 => 0.26099\n",
      "2017-03-20 21:32:41,130 : INFO : Found lower val loss for epoch 56 => 0.26073\n",
      "2017-03-20 21:32:41,131 : INFO : Validation Loss Reduced 20 times\n",
      "2017-03-20 21:32:41,132 : INFO : Evaluating on Validation Data\n",
      "2017-03-20 21:32:41,496 : INFO : Generating Validation Metrics\n"
     ]
    },
    {
     "name": "stdout",
     "output_type": "stream",
     "text": [
      "****** Validation Metrics: Cov Err: 1.975 | Top 3: 0.886 | Top 5: 0.974 | F1 Micro: 0.554 | F1 Macro: 0.494\n"
     ]
    },
    {
     "name": "stderr",
     "output_type": "stream",
     "text": [
      "2017-03-20 21:32:44,461 : INFO : Found lower val loss for epoch 60 => 0.26028\n",
      "2017-03-20 21:32:46,195 : INFO : Found lower val loss for epoch 63 => 0.25968\n",
      "2017-03-20 21:32:49,762 : INFO : Found lower val loss for epoch 69 => 0.25897\n",
      "2017-03-20 21:32:51,081 : INFO : Found lower val loss for epoch 71 => 0.25872\n",
      "2017-03-20 21:32:52,418 : INFO : Found lower val loss for epoch 73 => 0.2579\n",
      "2017-03-20 21:32:54,200 : INFO : Found lower val loss for epoch 76 => 0.2567\n",
      "2017-03-20 21:32:59,058 : INFO : Found lower val loss for epoch 82 => 0.2532\n",
      "2017-03-20 21:33:05,053 : INFO : Found lower val loss for epoch 88 => 0.24956\n",
      "2017-03-20 21:33:15,274 : INFO : Evaluating on Validation Data using saved best weights\n"
     ]
    },
    {
     "name": "stdout",
     "output_type": "stream",
     "text": [
      "Epoch 00098: early stopping\n",
      "CPU times: user 28.1 s, sys: 37.5 s, total: 1min 5s\n",
      "Wall time: 1min 8s\n"
     ]
    },
    {
     "name": "stderr",
     "output_type": "stream",
     "text": [
      "2017-03-20 21:33:15,846 : INFO : Generating Validation Metrics\n"
     ]
    },
    {
     "name": "stdout",
     "output_type": "stream",
     "text": [
      "****** Validation Metrics: Cov Err: 1.906 | Top 3: 0.897 | Top 5: 0.978 | F1 Micro: 0.595 | F1 Macro: 0.521\n"
     ]
    },
    {
     "name": "stderr",
     "output_type": "stream",
     "text": [
      "2017-03-20 21:33:16,758 : INFO : ***************************************************************************************\n",
      "2017-03-20 21:33:16,760 : INFO : nn_1st-size_100_1st-act_relu_2nd-size_500_2nd-act_tanh_in-drop_False_hid-drop_True\n"
     ]
    },
    {
     "name": "stdout",
     "output_type": "stream",
     "text": [
      "____________________________________________________________________________________________________\n",
      "Layer (type)                     Output Shape          Param #     Connected to                     \n",
      "====================================================================================================\n",
      "doc_input (InputLayer)           (None, 200)           0                                            \n",
      "____________________________________________________________________________________________________\n",
      "hidden_layer_relu (Dense)        (None, 100)           20100       doc_input[0][0]                  \n",
      "____________________________________________________________________________________________________\n",
      "dropout_28 (Dropout)             (None, 100)           0           hidden_layer_relu[0][0]          \n",
      "____________________________________________________________________________________________________\n",
      "hidden_layer2_tanh (Dense)       (None, 500)           50500       dropout_28[0][0]                 \n",
      "____________________________________________________________________________________________________\n",
      "softmax_output (Dense)           (None, 8)             4008        hidden_layer2_tanh[0][0]         \n",
      "====================================================================================================\n",
      "Total params: 74608\n",
      "____________________________________________________________________________________________________\n"
     ]
    },
    {
     "name": "stderr",
     "output_type": "stream",
     "text": [
      "2017-03-20 21:33:19,209 : INFO : Found lower val loss for epoch 1 => 0.31069\n",
      "2017-03-20 21:33:20,014 : INFO : Found lower val loss for epoch 2 => 0.28495\n",
      "2017-03-20 21:33:20,714 : INFO : Found lower val loss for epoch 3 => 0.27517\n",
      "2017-03-20 21:33:22,273 : INFO : Found lower val loss for epoch 5 => 0.27098\n",
      "2017-03-20 21:33:22,972 : INFO : Found lower val loss for epoch 6 => 0.26656\n",
      "2017-03-20 21:33:23,639 : INFO : Found lower val loss for epoch 7 => 0.26531\n",
      "2017-03-20 21:33:24,344 : INFO : Found lower val loss for epoch 8 => 0.26528\n",
      "2017-03-20 21:33:24,984 : INFO : Found lower val loss for epoch 9 => 0.26374\n",
      "2017-03-20 21:33:25,691 : INFO : Found lower val loss for epoch 10 => 0.26213\n",
      "2017-03-20 21:33:27,262 : INFO : Found lower val loss for epoch 12 => 0.25998\n",
      "2017-03-20 21:33:27,263 : INFO : Validation Loss Reduced 10 times\n",
      "2017-03-20 21:33:27,264 : INFO : Evaluating on Validation Data\n",
      "2017-03-20 21:33:28,175 : INFO : Generating Validation Metrics\n"
     ]
    },
    {
     "name": "stdout",
     "output_type": "stream",
     "text": [
      "****** Validation Metrics: Cov Err: 1.926 | Top 3: 0.895 | Top 5: 0.976 | F1 Micro: 0.571 | F1 Macro: 0.482\n"
     ]
    },
    {
     "name": "stderr",
     "output_type": "stream",
     "text": [
      "2017-03-20 21:33:32,992 : INFO : Found lower val loss for epoch 17 => 0.25922\n",
      "2017-03-20 21:33:33,769 : INFO : Found lower val loss for epoch 18 => 0.25852\n",
      "2017-03-20 21:33:37,771 : INFO : Found lower val loss for epoch 23 => 0.25602\n",
      "2017-03-20 21:33:38,538 : INFO : Found lower val loss for epoch 24 => 0.25361\n",
      "2017-03-20 21:33:46,783 : INFO : Evaluating on Validation Data using saved best weights\n"
     ]
    },
    {
     "name": "stdout",
     "output_type": "stream",
     "text": [
      "Epoch 00034: early stopping\n",
      "CPU times: user 12.9 s, sys: 13.5 s, total: 26.3 s\n",
      "Wall time: 29.7 s\n"
     ]
    },
    {
     "name": "stderr",
     "output_type": "stream",
     "text": [
      "2017-03-20 21:33:47,388 : INFO : Generating Validation Metrics\n"
     ]
    },
    {
     "name": "stdout",
     "output_type": "stream",
     "text": [
      "****** Validation Metrics: Cov Err: 1.869 | Top 3: 0.906 | Top 5: 0.978 | F1 Micro: 0.589 | F1 Macro: 0.529\n"
     ]
    },
    {
     "name": "stderr",
     "output_type": "stream",
     "text": [
      "2017-03-20 21:33:48,298 : INFO : ***************************************************************************************\n",
      "2017-03-20 21:33:48,300 : INFO : nn_1st-size_200_1st-act_relu_2nd-size_None_2nd-act_tanh_in-drop_False_hid-drop_True\n"
     ]
    },
    {
     "name": "stdout",
     "output_type": "stream",
     "text": [
      "____________________________________________________________________________________________________\n",
      "Layer (type)                     Output Shape          Param #     Connected to                     \n",
      "====================================================================================================\n",
      "doc_input (InputLayer)           (None, 200)           0                                            \n",
      "____________________________________________________________________________________________________\n",
      "hidden_layer_relu (Dense)        (None, 200)           40200       doc_input[0][0]                  \n",
      "____________________________________________________________________________________________________\n",
      "dropout_29 (Dropout)             (None, 200)           0           hidden_layer_relu[0][0]          \n",
      "____________________________________________________________________________________________________\n",
      "softmax_output (Dense)           (None, 8)             1608        dropout_29[0][0]                 \n",
      "====================================================================================================\n",
      "Total params: 41808\n",
      "____________________________________________________________________________________________________\n"
     ]
    },
    {
     "name": "stderr",
     "output_type": "stream",
     "text": [
      "2017-03-20 21:33:50,705 : INFO : Found lower val loss for epoch 1 => 0.35452\n",
      "2017-03-20 21:33:51,478 : INFO : Found lower val loss for epoch 2 => 0.2955\n",
      "2017-03-20 21:33:52,240 : INFO : Found lower val loss for epoch 3 => 0.27967\n",
      "2017-03-20 21:33:52,997 : INFO : Found lower val loss for epoch 4 => 0.27608\n",
      "2017-03-20 21:33:53,787 : INFO : Found lower val loss for epoch 5 => 0.27529\n",
      "2017-03-20 21:33:54,603 : INFO : Found lower val loss for epoch 6 => 0.27299\n",
      "2017-03-20 21:33:56,296 : INFO : Found lower val loss for epoch 8 => 0.27064\n",
      "2017-03-20 21:33:57,143 : INFO : Found lower val loss for epoch 9 => 0.2692\n",
      "2017-03-20 21:33:58,951 : INFO : Found lower val loss for epoch 11 => 0.26741\n",
      "2017-03-20 21:34:00,873 : INFO : Found lower val loss for epoch 13 => 0.26707\n",
      "2017-03-20 21:34:00,875 : INFO : Validation Loss Reduced 10 times\n",
      "2017-03-20 21:34:00,876 : INFO : Evaluating on Validation Data\n",
      "2017-03-20 21:34:01,687 : INFO : Generating Validation Metrics\n"
     ]
    },
    {
     "name": "stdout",
     "output_type": "stream",
     "text": [
      "****** Validation Metrics: Cov Err: 1.968 | Top 3: 0.887 | Top 5: 0.976 | F1 Micro: 0.542 | F1 Macro: 0.437\n"
     ]
    },
    {
     "name": "stderr",
     "output_type": "stream",
     "text": [
      "2017-03-20 21:34:03,285 : INFO : Found lower val loss for epoch 14 => 0.26678\n",
      "2017-03-20 21:34:04,878 : INFO : Found lower val loss for epoch 16 => 0.26419\n",
      "2017-03-20 21:34:07,440 : INFO : Found lower val loss for epoch 19 => 0.26136\n",
      "2017-03-20 21:34:12,393 : INFO : Found lower val loss for epoch 25 => 0.25884\n",
      "2017-03-20 21:34:13,608 : INFO : Found lower val loss for epoch 26 => 0.25814\n",
      "2017-03-20 21:34:14,757 : INFO : Found lower val loss for epoch 27 => 0.25766\n",
      "2017-03-20 21:34:19,682 : INFO : Found lower val loss for epoch 32 => 0.25622\n",
      "2017-03-20 21:34:29,373 : INFO : Evaluating on Validation Data using saved best weights\n"
     ]
    },
    {
     "name": "stdout",
     "output_type": "stream",
     "text": [
      "Epoch 00042: early stopping\n",
      "CPU times: user 16.1 s, sys: 17.7 s, total: 33.9 s\n",
      "Wall time: 40.8 s\n"
     ]
    },
    {
     "name": "stderr",
     "output_type": "stream",
     "text": [
      "2017-03-20 21:34:29,895 : INFO : Generating Validation Metrics\n"
     ]
    },
    {
     "name": "stdout",
     "output_type": "stream",
     "text": [
      "****** Validation Metrics: Cov Err: 1.843 | Top 3: 0.910 | Top 5: 0.981 | F1 Micro: 0.595 | F1 Macro: 0.521\n"
     ]
    },
    {
     "name": "stderr",
     "output_type": "stream",
     "text": [
      "2017-03-20 21:34:30,900 : INFO : ***************************************************************************************\n",
      "2017-03-20 21:34:30,902 : INFO : nn_1st-size_500_1st-act_relu_2nd-size_None_2nd-act_tanh_in-drop_False_hid-drop_True\n"
     ]
    },
    {
     "name": "stdout",
     "output_type": "stream",
     "text": [
      "____________________________________________________________________________________________________\n",
      "Layer (type)                     Output Shape          Param #     Connected to                     \n",
      "====================================================================================================\n",
      "doc_input (InputLayer)           (None, 200)           0                                            \n",
      "____________________________________________________________________________________________________\n",
      "hidden_layer_relu (Dense)        (None, 500)           100500      doc_input[0][0]                  \n",
      "____________________________________________________________________________________________________\n",
      "dropout_30 (Dropout)             (None, 500)           0           hidden_layer_relu[0][0]          \n",
      "____________________________________________________________________________________________________\n",
      "softmax_output (Dense)           (None, 8)             4008        dropout_30[0][0]                 \n",
      "====================================================================================================\n",
      "Total params: 104508\n",
      "____________________________________________________________________________________________________\n"
     ]
    },
    {
     "name": "stderr",
     "output_type": "stream",
     "text": [
      "2017-03-20 21:34:33,308 : INFO : Found lower val loss for epoch 1 => 0.31214\n",
      "2017-03-20 21:34:34,349 : INFO : Found lower val loss for epoch 2 => 0.28135\n",
      "2017-03-20 21:34:35,515 : INFO : Found lower val loss for epoch 3 => 0.28044\n",
      "2017-03-20 21:34:36,563 : INFO : Found lower val loss for epoch 4 => 0.27827\n",
      "2017-03-20 21:34:37,561 : INFO : Found lower val loss for epoch 5 => 0.27804\n",
      "2017-03-20 21:34:38,744 : INFO : Found lower val loss for epoch 6 => 0.27425\n",
      "2017-03-20 21:34:39,711 : INFO : Found lower val loss for epoch 7 => 0.27273\n",
      "2017-03-20 21:34:41,510 : INFO : Found lower val loss for epoch 9 => 0.26734\n",
      "2017-03-20 21:34:42,352 : INFO : Found lower val loss for epoch 10 => 0.26269\n",
      "2017-03-20 21:34:46,292 : INFO : Found lower val loss for epoch 14 => 0.26167\n",
      "2017-03-20 21:34:46,294 : INFO : Validation Loss Reduced 10 times\n",
      "2017-03-20 21:34:46,295 : INFO : Evaluating on Validation Data\n",
      "2017-03-20 21:34:47,008 : INFO : Generating Validation Metrics\n"
     ]
    },
    {
     "name": "stdout",
     "output_type": "stream",
     "text": [
      "****** Validation Metrics: Cov Err: 1.889 | Top 3: 0.901 | Top 5: 0.979 | F1 Micro: 0.570 | F1 Macro: 0.506\n"
     ]
    },
    {
     "name": "stderr",
     "output_type": "stream",
     "text": [
      "2017-03-20 21:34:48,807 : INFO : Found lower val loss for epoch 15 => 0.26088\n",
      "2017-03-20 21:34:49,849 : INFO : Found lower val loss for epoch 16 => 0.25831\n",
      "2017-03-20 21:34:50,792 : INFO : Found lower val loss for epoch 17 => 0.25704\n",
      "2017-03-20 21:34:53,569 : INFO : Found lower val loss for epoch 20 => 0.2565\n",
      "2017-03-20 21:34:54,504 : INFO : Found lower val loss for epoch 21 => 0.25478\n",
      "2017-03-20 21:34:55,351 : INFO : Found lower val loss for epoch 22 => 0.25311\n",
      "2017-03-20 21:35:00,180 : INFO : Found lower val loss for epoch 27 => 0.25243\n",
      "2017-03-20 21:35:11,567 : INFO : Evaluating on Validation Data using saved best weights\n"
     ]
    },
    {
     "name": "stdout",
     "output_type": "stream",
     "text": [
      "Epoch 00037: early stopping\n",
      "CPU times: user 15.4 s, sys: 16.7 s, total: 32 s\n",
      "Wall time: 40.5 s\n"
     ]
    },
    {
     "name": "stderr",
     "output_type": "stream",
     "text": [
      "2017-03-20 21:35:12,066 : INFO : Generating Validation Metrics\n"
     ]
    },
    {
     "name": "stdout",
     "output_type": "stream",
     "text": [
      "****** Validation Metrics: Cov Err: 1.793 | Top 3: 0.917 | Top 5: 0.983 | F1 Micro: 0.610 | F1 Macro: 0.554\n"
     ]
    }
   ],
   "source": [
    "param_sampler = ParameterSampler({\n",
    "    'first_hidden_layer_size':first_hidden_layer_sizes,\n",
    "    'first_hidden_layer_activation':first_hidden_layer_activations,\n",
    "    'second_hidden_layer_size':second_hidden_layer_sizes,\n",
    "    'second_hidden_layer_activation':second_hidden_layer_activations,\n",
    "    'input_dropout':input_dropout_options,\n",
    "    'hidden_dropout':hidden_dropout_options,\n",
    "    'second_hidden_dropout':second_hidden_dropout_options\n",
    "}, n_iter=NN_RANDOM_SEARCH_BUDGET, random_state=NN_PARAM_SAMPLE_SEED)\n",
    "\n",
    "param_results_dict = {}\n",
    "if load_existing_results:\n",
    "    param_results_path = os.path.join(os.path.join(nn_parameter_search_location, GLOBAL_VARS.MODEL_NAME, \n",
    "                                       NN_PARAMETER_SEARCH_PREFIX.format(classifications_type, NN_BATCH_SIZE)))\n",
    "    if os.path.exists(param_results_path):\n",
    "        info('Loading Previous results in {}'.format(param_results_path))\n",
    "        param_results_dict = pickle.load(open(param_results_path))\n",
    "    else:\n",
    "        info('No Previous results exist in {}'.format(param_results_path))\n",
    "\n",
    "# create nn parameter search directory\n",
    "if not os.path.exists(os.path.join(nn_parameter_search_location, GLOBAL_VARS.MODEL_NAME)):\n",
    "    os.makedirs(os.path.join(nn_parameter_search_location, GLOBAL_VARS.MODEL_NAME))\n",
    "        \n",
    "for parameters in param_sampler:\n",
    "    start_time = time.time()\n",
    "    first_hidden_layer_size = parameters['first_hidden_layer_size']\n",
    "    first_hidden_layer_activation = parameters['first_hidden_layer_activation']\n",
    "    second_hidden_layer_size = parameters['second_hidden_layer_size']\n",
    "    second_hidden_layer_activation = parameters['second_hidden_layer_activation']\n",
    "    input_dropout_do = parameters['input_dropout']\n",
    "    hidden_dropout_do = parameters['hidden_dropout']\n",
    "    second_hidden_dropout_do = parameters['second_hidden_dropout']\n",
    "\n",
    "    GLOBAL_VARS.NN_MODEL_NAME = 'nn_1st-size_{}_1st-act_{}_2nd-size_{}_2nd-act_{}_in-drop_{}_hid-drop_{}'.format(\n",
    "        first_hidden_layer_size, first_hidden_layer_activation, second_hidden_layer_size, \n",
    "        second_hidden_layer_activation, input_dropout_do, hidden_dropout_do\n",
    "    )\n",
    "    if second_hidden_dropout_do:\n",
    "        GLOBAL_VARS.NN_MODEL_NAME = GLOBAL_VARS.NN_MODEL_NAME + '_2nd-hid-drop_{}'.format(str(second_hidden_dropout_do))\n",
    "\n",
    "    if GLOBAL_VARS.NN_MODEL_NAME in param_results_dict.keys() or GLOBAL_VARS.NN_MODEL_NAME in to_skip:\n",
    "        print \"skipping: {}\".format(GLOBAL_VARS.NN_MODEL_NAME)\n",
    "        continue\n",
    "#         if first_hidden_layer_size < DOC2VEC_SIZE or second_hidden_layer_size < NN_OUTPUT_NEURONS:\n",
    "#             print \"skipping: {} due to 1st layer size {} < {} or 2nd layer size {} < {}\".format(GLOBAL_VARS.NN_MODEL_NAME,\n",
    "#                                                                                                 first_hidden_layer_size, DOC2VEC_SIZE, \n",
    "#                                                                                                 second_hidden_layer_size, NN_OUTPUT_NEURONS)\n",
    "#             continue\n",
    "\n",
    "\n",
    "    info('***************************************************************************************')\n",
    "    info(GLOBAL_VARS.NN_MODEL_NAME)\n",
    "\n",
    "    model = create_keras_nn_model(DOC2VEC_SIZE, NN_OUTPUT_NEURONS, \n",
    "                                  first_hidden_layer_size, first_hidden_layer_activation, \n",
    "                                  second_hidden_layer_size, second_hidden_layer_activation, \n",
    "                                  input_dropout_do, hidden_dropout_do, second_hidden_dropout_do)\n",
    "    model.summary()\n",
    "\n",
    "    early_stopper = keras.callbacks.EarlyStopping(monitor='val_loss', min_delta=EARLY_STOPPER_MIN_DELTA, \\\n",
    "                                                  patience=EARLY_STOPPER_PATIENCE, verbose=1, mode='auto')\n",
    "    metrics_callback = MetricsCallback()\n",
    "\n",
    "    # Model Fitting\n",
    "    %time history = model.fit(x=X, y=y, validation_data=(Xv,yv), batch_size=NN_BATCH_SIZE, \\\n",
    "                              nb_epoch=NN_MAX_EPOCHS, verbose=MODEL_VERBOSITY, callbacks=[early_stopper, metrics_callback])\n",
    "\n",
    "\n",
    "    # using the recorded weights of the best recorded validation loss\n",
    "    last_model_weights = model.get_weights()\n",
    "    info('Evaluating on Validation Data using saved best weights')\n",
    "    model.set_weights(metrics_callback.best_weights)\n",
    "    yvp = model.predict(Xv)\n",
    "    yvp_binary = get_binary_0_5(yvp)\n",
    "    #print yvp\n",
    "    info('Generating Validation Metrics')\n",
    "    validation_metrics = get_metrics(yv, yvp, yvp_binary)\n",
    "    print \"****** Validation Metrics: Cov Err: {:.3f} | Top 3: {:.3f} | Top 5: {:.3f} | F1 Micro: {:.3f} | F1 Macro: {:.3f}\".format(\n",
    "        validation_metrics['coverage_error'], validation_metrics['top_3'], validation_metrics['top_5'], \n",
    "        validation_metrics['f1_micro'], validation_metrics['f1_macro'])\n",
    "    best_validation_metrics = validation_metrics\n",
    "    time.sleep(0.2)\n",
    "\n",
    "    param_results_dict[GLOBAL_VARS.NN_MODEL_NAME] = dict()\n",
    "    param_results_dict[GLOBAL_VARS.NN_MODEL_NAME]['best_validation_metrics'] = best_validation_metrics\n",
    "    param_results_dict[GLOBAL_VARS.NN_MODEL_NAME]['epochs'] = len(history.history['val_loss'])\n",
    "    param_results_dict[GLOBAL_VARS.NN_MODEL_NAME]['best_weights'] = metrics_callback.best_weights\n",
    "#         param_results_dict[GLOBAL_VARS.NN_MODEL_NAME]['last_weights'] = last_model_weights\n",
    "\n",
    "    duration = time.time() - start_time\n",
    "    param_results_dict[GLOBAL_VARS.NN_MODEL_NAME]['duration'] =  duration\n",
    "\n",
    "    del history, last_model_weights, metrics_callback\n",
    "\n",
    "if save_results:\n",
    "    pickle.dump(param_results_dict, open(os.path.join(os.path.join(nn_parameter_search_location, GLOBAL_VARS.MODEL_NAME, \n",
    "                                                                   NN_PARAMETER_SEARCH_PREFIX.format(classifications_type, NN_BATCH_SIZE))), 'w'))\n"
   ]
  },
  {
   "cell_type": "code",
   "execution_count": 71,
   "metadata": {
    "collapsed": false
   },
   "outputs": [
    {
     "name": "stdout",
     "output_type": "stream",
     "text": [
      "CPU times: user 1.86 s, sys: 620 ms, total: 2.48 s\n",
      "Wall time: 2.49 s\n"
     ]
    },
    {
     "name": "stderr",
     "output_type": "stream",
     "text": [
      "2017-03-13 00:01:30,344 : INFO : Generating Training Metrics\n"
     ]
    },
    {
     "name": "stdout",
     "output_type": "stream",
     "text": [
      "CPU times: user 6.32 s, sys: 3.08 s, total: 9.4 s\n",
      "Wall time: 9.47 s\n",
      "****** Training Metrics: Cov Err: 11.998 | Top 3: 0.540 | Top 5: 0.636 | F1 Micro: 0.315 | F1 Macro: 0.068\n",
      "CPU times: user 21.3 s, sys: 7.25 s, total: 28.6 s\n",
      "Wall time: 28.6 s\n"
     ]
    }
   ],
   "source": [
    "%%time\n",
    "%time yp = model.predict(X)\n",
    "%time yp_binary = get_binary_0_5(yp)\n",
    "#print yvp\n",
    "info('Generating Training Metrics')\n",
    "training_metrics = get_metrics(y, yp, yp_binary)\n",
    "print \"****** Training Metrics: Cov Err: {:.3f} | Top 3: {:.3f} | Top 5: {:.3f} | F1 Micro: {:.3f} | F1 Macro: {:.3f}\".format(\n",
    "    training_metrics['coverage_error'], training_metrics['top_3'], training_metrics['top_5'], \n",
    "    training_metrics['f1_micro'], training_metrics['f1_macro'])"
   ]
  },
  {
   "cell_type": "code",
   "execution_count": null,
   "metadata": {
    "collapsed": true
   },
   "outputs": [],
   "source": [
    "del validation_dict"
   ]
  },
  {
   "cell_type": "code",
   "execution_count": 71,
   "metadata": {
    "collapsed": false
   },
   "outputs": [
    {
     "name": "stdout",
     "output_type": "stream",
     "text": [
      "Epoch 1/10\n",
      "20000/20000 [==============================] - 44s - loss: 0.2937    \n",
      "Epoch 2/10\n",
      "20000/20000 [==============================] - 44s - loss: 0.2882    \n",
      "Epoch 3/10\n",
      "20000/20000 [==============================] - 44s - loss: 0.2843    \n",
      "Epoch 4/10\n",
      "20000/20000 [==============================] - 44s - loss: 0.2808    \n",
      "Epoch 5/10\n",
      "20000/20000 [==============================] - 44s - loss: 0.2779    \n",
      "Epoch 6/10\n",
      "20000/20000 [==============================] - 44s - loss: 0.2743    \n",
      "Epoch 7/10\n",
      "20000/20000 [==============================] - 44s - loss: 0.2729    \n",
      "Epoch 8/10\n",
      "20000/20000 [==============================] - 44s - loss: 0.2684    \n",
      "Epoch 9/10\n",
      "20000/20000 [==============================] - 44s - loss: 0.2687    \n",
      "Epoch 10/10\n",
      "20000/20000 [==============================] - 44s - loss: 0.2713    \n"
     ]
    },
    {
     "data": {
      "text/plain": [
       "<keras.callbacks.History at 0x7f253497d250>"
      ]
     },
     "execution_count": 71,
     "metadata": {},
     "output_type": "execute_result"
    }
   ],
   "source": [
    "model.fit(x=X, y=y, batch_size=NN_BATCH_SIZE, \\\n",
    "                              nb_epoch=10, verbose=MODEL_VERBOSITY)"
   ]
  },
  {
   "cell_type": "code",
   "execution_count": 72,
   "metadata": {
    "collapsed": false
   },
   "outputs": [
    {
     "name": "stderr",
     "output_type": "stream",
     "text": [
      "2017-03-07 15:30:31,828 : INFO : Generating Training Metrics\n"
     ]
    },
    {
     "name": "stdout",
     "output_type": "stream",
     "text": [
      "CPU times: user 38.9 s, sys: 17.3 s, total: 56.2 s\n",
      "Wall time: 56.2 s\n",
      "CPU times: user 20 ms, sys: 4 ms, total: 24 ms\n",
      "Wall time: 23.7 ms\n",
      "****** Validation Metrics: Cov Err: 2.181 | Top 3: 0.853 | Top 5: 0.954 | F1 Micro: 0.541 | F1 Macro: 0.403\n",
      "CPU times: user 39.3 s, sys: 17.3 s, total: 56.7 s\n",
      "Wall time: 56.6 s\n"
     ]
    }
   ],
   "source": [
    "%%time\n",
    "%time yp = model.predict(X)\n",
    "%time yp_binary = get_binary_0_5(yp)\n",
    "#print yvp\n",
    "info('Generating Training Metrics')\n",
    "training_metrics = get_metrics(y, yp, yp_binary)\n",
    "print \"****** Training Metrics: Cov Err: {:.3f} | Top 3: {:.3f} | Top 5: {:.3f} | F1 Micro: {:.3f} | F1 Macro: {:.3f}\".format(\n",
    "    training_metrics['coverage_error'], training_metrics['top_3'], training_metrics['top_5'], \n",
    "    training_metrics['f1_micro'], training_metrics['f1_macro'])"
   ]
  },
  {
   "cell_type": "code",
   "execution_count": 73,
   "metadata": {
    "collapsed": false
   },
   "outputs": [
    {
     "name": "stdout",
     "output_type": "stream",
     "text": [
      "Epoch 1/20\n",
      "20000/20000 [==============================] - 44s - loss: 0.2643    \n",
      "Epoch 2/20\n",
      "20000/20000 [==============================] - 44s - loss: 0.2611    \n",
      "Epoch 3/20\n",
      "20000/20000 [==============================] - 44s - loss: 0.2612    \n",
      "Epoch 4/20\n",
      "20000/20000 [==============================] - 44s - loss: 0.2650    \n",
      "Epoch 5/20\n",
      "20000/20000 [==============================] - 44s - loss: 0.2597    \n",
      "Epoch 6/20\n",
      "20000/20000 [==============================] - 44s - loss: 0.2572    \n",
      "Epoch 7/20\n",
      "20000/20000 [==============================] - 44s - loss: 0.2551    \n",
      "Epoch 8/20\n",
      "20000/20000 [==============================] - 44s - loss: 0.2519    \n",
      "Epoch 9/20\n",
      "20000/20000 [==============================] - 44s - loss: 0.2484    \n",
      "Epoch 10/20\n",
      "20000/20000 [==============================] - 44s - loss: 0.2497    \n",
      "Epoch 11/20\n",
      "20000/20000 [==============================] - 44s - loss: 0.2501    \n",
      "Epoch 12/20\n",
      "20000/20000 [==============================] - 44s - loss: 0.2461    \n",
      "Epoch 13/20\n",
      "20000/20000 [==============================] - 44s - loss: 0.2460    \n",
      "Epoch 14/20\n",
      "20000/20000 [==============================] - 44s - loss: 0.2423    \n",
      "Epoch 15/20\n",
      "20000/20000 [==============================] - 44s - loss: 0.2408    \n",
      "Epoch 16/20\n",
      "20000/20000 [==============================] - 44s - loss: 0.2403    \n",
      "Epoch 17/20\n",
      "20000/20000 [==============================] - 44s - loss: 0.2477    \n",
      "Epoch 18/20\n",
      "20000/20000 [==============================] - 44s - loss: 0.2427    \n",
      "Epoch 19/20\n",
      "20000/20000 [==============================] - 44s - loss: 0.2396    \n",
      "Epoch 20/20\n",
      "20000/20000 [==============================] - 44s - loss: 0.2371    \n"
     ]
    },
    {
     "data": {
      "text/plain": [
       "<keras.callbacks.History at 0x7f2534933d90>"
      ]
     },
     "execution_count": 73,
     "metadata": {},
     "output_type": "execute_result"
    }
   ],
   "source": [
    "model.fit(x=X, y=y, batch_size=NN_BATCH_SIZE, \\\n",
    "                              nb_epoch=20, verbose=MODEL_VERBOSITY)"
   ]
  },
  {
   "cell_type": "code",
   "execution_count": 74,
   "metadata": {
    "collapsed": false
   },
   "outputs": [
    {
     "name": "stderr",
     "output_type": "stream",
     "text": [
      "2017-03-07 16:05:49,006 : INFO : Generating Training Metrics\n"
     ]
    },
    {
     "name": "stdout",
     "output_type": "stream",
     "text": [
      "CPU times: user 38 s, sys: 18.4 s, total: 56.4 s\n",
      "Wall time: 56.4 s\n",
      "CPU times: user 24 ms, sys: 0 ns, total: 24 ms\n",
      "Wall time: 23.7 ms\n",
      "****** Validation Metrics: Cov Err: 1.980 | Top 3: 0.887 | Top 5: 0.963 | F1 Micro: 0.628 | F1 Macro: 0.467\n",
      "CPU times: user 38.4 s, sys: 18.4 s, total: 56.9 s\n",
      "Wall time: 56.9 s\n"
     ]
    }
   ],
   "source": [
    "%%time\n",
    "%time yp = model.predict(X)\n",
    "%time yp_binary = get_binary_0_5(yp)\n",
    "#print yvp\n",
    "info('Generating Training Metrics')\n",
    "training_metrics = get_metrics(y, yp, yp_binary)\n",
    "print \"****** Validation Metrics: Cov Err: {:.3f} | Top 3: {:.3f} | Top 5: {:.3f} | F1 Micro: {:.3f} | F1 Macro: {:.3f}\".format(\n",
    "    training_metrics['coverage_error'], training_metrics['top_3'], training_metrics['top_5'], \n",
    "    training_metrics['f1_micro'], training_metrics['f1_macro'])"
   ]
  },
  {
   "cell_type": "code",
   "execution_count": null,
   "metadata": {
    "collapsed": false,
    "scrolled": false
   },
   "outputs": [
    {
     "name": "stderr",
     "output_type": "stream",
     "text": [
      "2017-03-06 01:24:19,997 : INFO : ****************** Epoch 1 --- Working on doc2vec_size_200_w_2_type_dm_concat_0_mean_1_trainwords_0_hs_0_neg_10_vocabsize_None/epoch_1 *******************\n",
      "2017-03-06 01:24:20,042 : INFO : loading Doc2Vec object from /big/s/shalaby/parameter_search_doc2vec_models_extended/full/doc2vec_size_200_w_2_type_dm_concat_0_mean_1_trainwords_0_hs_0_neg_10_vocabsize_None/epoch_1/model\n"
     ]
    }
   ],
   "source": [
    "%%time\n",
    "# when resuming, resume from an epoch with a previously created doc2vec model to get the learning rate right\n",
    "start_from = 1\n",
    "for epoch in range(start_from, DOC2VEC_MAX_EPOCHS+1):\n",
    "    GLOBAL_VARS.MODEL_NAME = placeholder_model_name.format(epoch)\n",
    "    info(\"****************** Epoch {} --- Working on {} *******************\".format(epoch, GLOBAL_VARS.MODEL_NAME))\n",
    "    \n",
    "    # if we have the model, just load it, otherwise train the previous model\n",
    "    if os.path.exists(os.path.join(doc2vec_model_save_location, GLOBAL_VARS.MODEL_NAME, MODEL_PREFIX)):\n",
    "        doc2vec_model = Doc2Vec.load(os.path.join(doc2vec_model_save_location, GLOBAL_VARS.MODEL_NAME, MODEL_PREFIX))\n",
    "        doc2vec_model.workers = NUM_CORES\n",
    "        GLOBAL_VARS.DOC2VEC_MODEL = doc2vec_model\n",
    "    else:\n",
    "        # train the doc2vec model\n",
    "        training_docs_iterator = ExtendedPVDocumentBatchGenerator(training_preprocessed_files_prefix, batch_size=10000)\n",
    "        doc2vec_model.train(sentences=training_docs_iterator, report_delay=REPORT_DELAY)\n",
    "        doc2vec_model.alpha -= DOC2VEC_ALPHA_DECREASE  # decrease the learning rate\n",
    "        doc2vec_model.min_alpha = doc2vec_model.alpha  # fix the learning rate, no decay\n",
    "        ensure_disk_location_exists(os.path.join(doc2vec_model_save_location, GLOBAL_VARS.MODEL_NAME))\n",
    "        doc2vec_model.save(os.path.join(doc2vec_model_save_location, GLOBAL_VARS.MODEL_NAME, MODEL_PREFIX))\n",
    "        GLOBAL_VARS.DOC2VEC_MODEL = doc2vec_model\n",
    "        \n",
    "        # get the word2vec analogy accuracy score\n",
    "#         word2vec_result = doc2vec_model.accuracy(word2vec_questions_file, restrict_vocab=None)\n",
    "#         epoch_word2vec_metrics.append(word2vec_result)\n",
    "#         pickle.dump(word2vec_result, open(os.path.join(doc2vec_model_save_location, GLOBAL_VARS.MODEL_NAME,\n",
    "#                                                        WORD2VEC_METRICS_FILENAME), 'w'))\n",
    "\n",
    "    # Validation Embeddings\n",
    "    info('Getting Validation Embeddings')\n",
    "    Xv, yv = get_extended_docs_with_inference(doc2vec_model, doc_classification_map, classifications, \n",
    "                                     validation_docs_list, VALIDATION_MATRIX, \n",
    "                                     validation_preprocessed_files_prefix)"
   ]
  },
  {
   "cell_type": "code",
   "execution_count": null,
   "metadata": {
    "collapsed": true
   },
   "outputs": [],
   "source": []
  }
 ],
 "metadata": {
  "kernelspec": {
   "display_name": "Python 2",
   "language": "python",
   "name": "python2"
  },
  "language_info": {
   "codemirror_mode": {
    "name": "ipython",
    "version": 2
   },
   "file_extension": ".py",
   "mimetype": "text/x-python",
   "name": "python",
   "nbconvert_exporter": "python",
   "pygments_lexer": "ipython2",
   "version": "2.7.12"
  }
 },
 "nbformat": 4,
 "nbformat_minor": 0
}
