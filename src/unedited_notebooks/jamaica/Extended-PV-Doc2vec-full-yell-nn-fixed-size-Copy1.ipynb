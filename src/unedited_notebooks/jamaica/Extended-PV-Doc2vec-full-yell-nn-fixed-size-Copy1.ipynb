{
 "cells": [
  {
   "cell_type": "code",
   "execution_count": 1,
   "metadata": {
    "collapsed": false
   },
   "outputs": [
    {
     "name": "stderr",
     "output_type": "stream",
     "text": [
      "Using gpu device 0: TITAN X (Pascal) (CNMeM is disabled, cuDNN 5105)\n",
      "/home/stud/shalaby/.virtualenv/thesis-env/local/lib/python2.7/site-packages/theano/sandbox/cuda/__init__.py:600: UserWarning: Your cuDNN version is more recent than the one Theano officially supports. If you see any problems, try updating Theano or downgrading cuDNN to version 5.\n",
      "  warnings.warn(warn)\n",
      "Using Theano backend.\n"
     ]
    }
   ],
   "source": [
    "import json\n",
    "import nltk\n",
    "from nltk.tokenize import RegexpTokenizer\n",
    "import string\n",
    "import math\n",
    "import os\n",
    "import time\n",
    "from collections import namedtuple, defaultdict\n",
    "import cPickle as pickle\n",
    "import pandas as pd\n",
    "\n",
    "%matplotlib inline\n",
    "import matplotlib.pyplot as plt\n",
    "import matplotlib as mpl\n",
    "import numpy as np\n",
    "import random\n",
    "\n",
    "from multiprocessing.dummy import Pool as ThreadPool\n",
    "import itertools\n",
    "\n",
    "from sklearn.metrics import coverage_error\n",
    "import sklearn.metrics\n",
    "from sklearn.multiclass import OneVsRestClassifier\n",
    "from sklearn import linear_model\n",
    "from sklearn.preprocessing import MultiLabelBinarizer\n",
    "\n",
    "from gensim.models.doc2vec import Doc2Vec, LabeledSentence\n",
    "\n",
    "import logging\n",
    "from logging import info\n",
    "from functools import partial\n",
    "\n",
    "from keras.layers import Input, Dense, Dropout\n",
    "from keras.models import Model, Sequential\n",
    "\n",
    "from sklearn.model_selection import ParameterSampler\n",
    "\n",
    "from thesis.utils.metrics import *"
   ]
  },
  {
   "cell_type": "code",
   "execution_count": 2,
   "metadata": {
    "collapsed": true
   },
   "outputs": [],
   "source": [
    "root = logging.getLogger()\n",
    "for handler in root.handlers[:]:\n",
    "    root.removeHandler(handler)\n",
    "logging.basicConfig(format='%(asctime)s : %(levelname)s : %(message)s', level=logging.INFO) # adds a default StreamHanlder\n",
    "#root.addHandler(logging.StreamHandler())"
   ]
  },
  {
   "cell_type": "code",
   "execution_count": 3,
   "metadata": {
    "collapsed": true
   },
   "outputs": [],
   "source": [
    "SVM_SEED = 1234\n",
    "DOC2VEC_SEED = 1234\n",
    "WORD2VEC_SEED = 1234\n",
    "NN_SEED = 1234"
   ]
  },
  {
   "cell_type": "code",
   "execution_count": 4,
   "metadata": {
    "collapsed": true
   },
   "outputs": [],
   "source": [
    "MIN_WORD_COUNT = 50\n",
    "MIN_SIZE = 0\n",
    "NUM_CORES = 16"
   ]
  },
  {
   "cell_type": "code",
   "execution_count": 5,
   "metadata": {
    "collapsed": false
   },
   "outputs": [],
   "source": [
    "GLOBAL_VARS = namedtuple('GLOBAL_VARS', ['MODEL_NAME', 'DOC2VEC_MODEL_NAME', 'DOC2VEC_MODEL', \n",
    "                                         'SVM_MODEL_NAME', 'NN_MODEL_NAME'])"
   ]
  },
  {
   "cell_type": "code",
   "execution_count": 6,
   "metadata": {
    "collapsed": true
   },
   "outputs": [],
   "source": [
    "VOCAB_MODEL = \"vocab_model\"\n",
    "MODEL_PREFIX = \"model\"\n",
    "VALIDATION_MATRIX = \"validation_matrix.pkl\"\n",
    "VALIDATION_DICT = \"validation_dict.pkl\"\n",
    "TEST_MATRIX = \"test_matrix.pkl\"\n",
    "TEST_DICT = \"test_dict.pkl\"\n",
    "METRICS = \"metrics.pkl\"\n",
    "CLASSIFIER = \"classifier.pkl\"\n",
    "TYPE_CLASSIFIER= \"{}_classifier.pkl\"\n",
    "\n",
    "TRAINING_DATA_MATRIX = \"X.npy\"\n",
    "TRAINING_LABELS_MATRIX = \"y_{}.npy\"\n",
    "VALIDATION_DATA_MATRIX = \"Xv.npy\"\n",
    "VALIDATION_LABELS_MATRIX = \"yv_{}.npy\""
   ]
  },
  {
   "cell_type": "code",
   "execution_count": 39,
   "metadata": {
    "collapsed": true
   },
   "outputs": [],
   "source": [
    "NN_PARAMETER_SEARCH_PREFIX = \"lstm_{}_level_{}_batch_{}_nn_parameter_searches.pkl\""
   ]
  },
  {
   "cell_type": "code",
   "execution_count": 9,
   "metadata": {
    "collapsed": false
   },
   "outputs": [],
   "source": [
    "root_location = \"/mnt/data2/shalaby/\"\n",
    "exports_location = root_location + \"exported_data/\"\n",
    "\n",
    "doc2vec_model_save_location = os.path.join(\"/mnt/data/shalaby/\", \"parameter_search_doc2vec_models_extended_abs_desc_claims\", \"full\")\n",
    "nn_parameter_search_location = os.path.join(root_location, \"nn_parameter_search_extended_abs_desc_claims\")\n",
    "if not os.path.exists(doc2vec_model_save_location):\n",
    "    os.makedirs(doc2vec_model_save_location)\n",
    "if not os.path.exists(os.path.join(doc2vec_model_save_location, VOCAB_MODEL)):\n",
    "    os.makedirs(os.path.join(doc2vec_model_save_location, VOCAB_MODEL))\n",
    "if not os.path.exists(nn_parameter_search_location):\n",
    "    os.makedirs(nn_parameter_search_location)\n",
    "\n",
    "#training_file = root_location + \"docs_output.json\"\n",
    "training_file = root_location + 'docs_output.json'\n",
    "\n",
    "doc_classifications_map_file = exports_location + \"doc_classification_map.pkl\"\n",
    "sections_file = exports_location + \"sections.pkl\"\n",
    "classes_file = exports_location + \"classes.pkl\"\n",
    "subclasses_file = exports_location + \"subclasses.pkl\"\n",
    "valid_classes_file = exports_location + \"valid_classes.pkl\"\n",
    "valid_subclasses_file = exports_location + \"valid_subclasses.pkl\"\n",
    "classifications_output = exports_location + \"classifications.pkl\"\n",
    "training_docs_list_file = exports_location + \"extended_pv_training_docs_list.pkl\"\n",
    "validation_docs_list_file = exports_location + \"extended_pv_validation_docs_list.pkl\"\n",
    "test_docs_list_file = exports_location + \"extended_pv_test_docs_list.pkl\"\n",
    "\n",
    "preprocessed_location = \"/mnt/data/shalaby/\" + \"preprocessed_data/extended_pv_abs_desc_claims/\"\n",
    "\n",
    "training_preprocessed_files_prefix = preprocessed_location + \"extended_pv_training_docs_data_preprocessed-\"\n",
    "validation_preprocessed_files_prefix = preprocessed_location + \"extended_pv_validation_docs_data_preprocessed-\"\n",
    "test_preprocessed_files_prefix = preprocessed_location + \"extended_pv_test_docs_data_preprocessed-\"\n",
    "\n",
    "word2vec_questions_file = result = root_location + 'tensorflow/word2vec/questions-words.txt'"
   ]
  },
  {
   "cell_type": "code",
   "execution_count": 10,
   "metadata": {
    "collapsed": false
   },
   "outputs": [
    {
     "name": "stdout",
     "output_type": "stream",
     "text": [
      "CPU times: user 19.2 s, sys: 4.84 s, total: 24 s\n",
      "Wall time: 24.2 s\n"
     ]
    }
   ],
   "source": [
    "%%time\n",
    "doc_classification_map = pickle.load(open(doc_classifications_map_file))\n",
    "sections = pickle.load(open(sections_file))\n",
    "classes = pickle.load(open(classes_file))\n",
    "subclasses = pickle.load(open(subclasses_file))\n",
    "valid_classes = pickle.load(open(valid_classes_file))\n",
    "valid_subclasses = pickle.load(open(valid_subclasses_file))\n",
    "training_docs_list = pickle.load(open(training_docs_list_file))\n",
    "validation_docs_list = pickle.load(open(validation_docs_list_file))\n",
    "test_docs_list = pickle.load(open(test_docs_list_file))"
   ]
  },
  {
   "cell_type": "code",
   "execution_count": 11,
   "metadata": {
    "collapsed": false
   },
   "outputs": [
    {
     "data": {
      "text/plain": [
       "120156"
      ]
     },
     "execution_count": 11,
     "metadata": {},
     "output_type": "execute_result"
    }
   ],
   "source": [
    "len(training_docs_list)"
   ]
  },
  {
   "cell_type": "code",
   "execution_count": 12,
   "metadata": {
    "collapsed": false
   },
   "outputs": [
    {
     "data": {
      "text/plain": [
       "29675"
      ]
     },
     "execution_count": 12,
     "metadata": {},
     "output_type": "execute_result"
    }
   ],
   "source": [
    "len(validation_docs_list)"
   ]
  },
  {
   "cell_type": "code",
   "execution_count": 13,
   "metadata": {
    "collapsed": false
   },
   "outputs": [
    {
     "data": {
      "text/plain": [
       "37771"
      ]
     },
     "execution_count": 13,
     "metadata": {},
     "output_type": "execute_result"
    }
   ],
   "source": [
    "len(test_docs_list)"
   ]
  },
  {
   "cell_type": "code",
   "execution_count": 14,
   "metadata": {
    "collapsed": false
   },
   "outputs": [],
   "source": [
    "def ensure_disk_location_exists(location):\n",
    "    if not os.path.exists(location):\n",
    "        os.makedirs(location)"
   ]
  },
  {
   "cell_type": "code",
   "execution_count": 15,
   "metadata": {
    "collapsed": true
   },
   "outputs": [],
   "source": [
    "class OneHotEncoder():\n",
    "    \n",
    "    def __init__(self, classifications):\n",
    "        self.classifications = classifications\n",
    "        self.one_hot_indices = {}\n",
    "\n",
    "        # convert character classifications to bit vectors\n",
    "        for i, clssf in enumerate(classifications):\n",
    "            bits = [0] * len(classifications)\n",
    "            bits[i] = 1\n",
    "            self.one_hot_indices[clssf] = i\n",
    "    \n",
    "    def get_label_vector(self, labels):\n",
    "        \"\"\"\n",
    "        labels: array of string with the classes assigned to the instance\n",
    "        \"\"\"\n",
    "        output_vector = [0] * len(self.classifications)\n",
    "        for label in labels:\n",
    "            index = self.one_hot_indices[label]\n",
    "            output_vector[index] = 1\n",
    "            \n",
    "        return output_vector\n"
   ]
  },
  {
   "cell_type": "markdown",
   "metadata": {},
   "source": [
    "## Get Document, Paragraph and Sentence Stats"
   ]
  },
  {
   "cell_type": "code",
   "execution_count": 16,
   "metadata": {
    "collapsed": true
   },
   "outputs": [],
   "source": [
    "class FixedDocumentsStatsGenerator(object):\n",
    "    def __init__(self, filename_prefix):\n",
    "        self.filename_prefix = filename_prefix\n",
    "        self.docids = []\n",
    "        self.doc_parts = defaultdict(list)\n",
    "        self.doc_part_chunks = defaultdict(list)\n",
    "        self.curr_doc_index = 0\n",
    "        self.batch_end = -1\n",
    "    def load_new_batch_in_memory(self):\n",
    "        info(\"Loading new batch for index: {}\".format(self.curr_doc_index))\n",
    "        true_docs_count = 0\n",
    "        try:\n",
    "            with open(self.filename_prefix + str(self.curr_doc_index)) as preproc_file:\n",
    "                for line in preproc_file:\n",
    "                    line_array = line.split(\" \", 1)\n",
    "                    entity_id = line_array[0].strip()\n",
    "                    if self.is_doc(entity_id):\n",
    "                        self.docids.append(entity_id)\n",
    "                        true_docs_count+= 1\n",
    "                    elif self.is_doc_part(entity_id):\n",
    "                        self.doc_parts[self.get_doc_id(entity_id)].append(entity_id)\n",
    "                    elif self.is_doc_part_chunk(entity_id):\n",
    "                        self.doc_part_chunks[self.get_doc_id(entity_id)].append(entity_id)\n",
    "            self.batch_end = self.curr_doc_index + true_docs_count - 1 \n",
    "            info(\"Finished loading new batch of {} documents\".format(true_docs_count))\n",
    "        except IOError:\n",
    "            info(\"No more batches to load, exiting at index: {}\".format(self.curr_doc_index))\n",
    "            raise StopIteration()\n",
    "    def get_stats(self):\n",
    "        try:\n",
    "            while True:\n",
    "                if self.curr_doc_index > self.batch_end:\n",
    "                    self.load_new_batch_in_memory()\n",
    "                self.curr_doc_index = self.batch_end + 1\n",
    "        except StopIteration:\n",
    "            pass\n",
    "            \n",
    "    def get_doc_id(self, entity_id):\n",
    "        return entity_id.split(\"_\")[0]\n",
    "    def get_entity_parts(self, entity_id):\n",
    "        return entity_id.split(\"_\")\n",
    "    def is_doc(self, entity_id):\n",
    "        parts = self.get_entity_parts(entity_id)\n",
    "        if len(parts) == 1:\n",
    "            return True\n",
    "        return False\n",
    "    def is_doc_part(self, entity_id):\n",
    "        parts = self.get_entity_parts(entity_id)\n",
    "        if len(parts) == 2:\n",
    "            return True\n",
    "        return False\n",
    "    def is_doc_part_chunk(self, entity_id):\n",
    "        parts = self.get_entity_parts(entity_id)\n",
    "        if len(parts) == 3:\n",
    "            return True\n",
    "        return False"
   ]
  },
  {
   "cell_type": "code",
   "execution_count": 17,
   "metadata": {
    "collapsed": false
   },
   "outputs": [],
   "source": [
    "def get_doc_vector(entity_id):\n",
    "    if entity_id in doc2vec_model.docvecs:\n",
    "        if DOC2VEC_MMAP:\n",
    "            normal_array = []\n",
    "            normal_array[:] = doc2vec_model.docvecs[entity_id][:]\n",
    "            return normal_array\n",
    "        else:\n",
    "            return doc2vec_model.docvecs[entity_id]\n",
    "    else:\n",
    "        # some claims have low token count, so they cant fill out the whole 16 spots\n",
    "        return ZERO_VECTOR\n",
    "\n",
    "def data_generator(doc_stats, doc_id):\n",
    "    yield get_doc_vector(doc_id)\n",
    "    for part_id in doc_stats.doc_parts[doc_id]:\n",
    "        yield get_doc_vector(part_id)\n",
    "    for part_id in doc_stats.doc_part_chunks[doc_id]:\n",
    "        yield get_doc_vector(part_id)\n",
    "\n",
    "def validation_data_generator(doc_stats, validation_dict, doc_id):\n",
    "    yield validation_dict[doc_id]\n",
    "    for part_id in doc_stats.doc_parts[doc_id]:\n",
    "        yield validation_dict[part_id]\n",
    "    for part_id in doc_stats.doc_part_chunks[doc_id]:\n",
    "        yield get_doc_vector(part_id)\n",
    "        "
   ]
  },
  {
   "cell_type": "code",
   "execution_count": 18,
   "metadata": {
    "collapsed": true
   },
   "outputs": [],
   "source": [
    "def get_training_data(doc2vec_model, classifications, classifications_type, doc_stats, sequence_size, embedding_size):\n",
    "    \n",
    "    def get_training_y_labels():\n",
    "        if not os.path.exists(os.path.join(doc2vec_model_save_location, GLOBAL_VARS.MODEL_NAME, \n",
    "                                       TRAINING_LABELS_MATRIX.format(classifications_type))):\n",
    "            info(\"Creating Training Labels\")\n",
    "            one_hot_encoder = OneHotEncoder(classifications)\n",
    "            classifications_set = set(classifications)\n",
    "            training_labels_mat = np.zeros((len(training_docs_list), len(classifications)), dtype=np.int8)\n",
    "            for i, doc_id in enumerate(training_docs_list):\n",
    "                eligible_classifications = set(doc_classification_map[doc_id]) & classifications_set\n",
    "                training_labels_mat[i][:] = one_hot_encoder.get_label_vector(eligible_classifications)\n",
    "        else:    \n",
    "            training_labels_mat = np.load(open(os.path.join(doc2vec_model_save_location, GLOBAL_VARS.MODEL_NAME, \n",
    "                                                            TRAINING_LABELS_MATRIX.format(classifications_type))))\n",
    "        return training_labels_mat\n",
    "\n",
    "    \n",
    "    \n",
    "    if not os.path.exists(os.path.join(doc2vec_model_save_location, GLOBAL_VARS.MODEL_NAME, TRAINING_DATA_MATRIX)):\n",
    "        info(\"Creating Training Data\")\n",
    "        one_hot_encoder = OneHotEncoder(classifications)\n",
    "        classifications_set = set(classifications)\n",
    "        # 1st level: document level\n",
    "        training_data = np.ndarray((len(training_docs_list), sequence_size, embedding_size), dtype=np.float32)\n",
    "        info(\"Training Data shape: {}\".format(training_data.shape))\n",
    "        training_labels_mat = np.zeros((len(training_docs_list), len(classifications)), dtype=np.int8)\n",
    "        for i, doc_id in enumerate(training_docs_list):\n",
    "            data_gen = data_generator(doc_stats, doc_id)\n",
    "            # 2nd level: constituents\n",
    "            for j in range(sequence_size):\n",
    "                #3rd level: feature vectors\n",
    "                training_data[i][j] = data_gen.next()\n",
    "            eligible_classifications = set(doc_classification_map[doc_id]) & classifications_set\n",
    "            training_labels_mat[i][:] = one_hot_encoder.get_label_vector(eligible_classifications)\n",
    "            if i % 10000 == 0:\n",
    "                info(\"Finished {} in training\".format(i))\n",
    "        \n",
    "        info(\"Saving Training Data to file...\")\n",
    "        np.save(open(os.path.join(doc2vec_model_save_location, GLOBAL_VARS.MODEL_NAME, \n",
    "                                  TRAINING_DATA_MATRIX), \"w\"), training_data)\n",
    "        np.save(open(os.path.join(doc2vec_model_save_location, GLOBAL_VARS.MODEL_NAME, \n",
    "                                  TRAINING_LABELS_MATRIX.format(classifications_type)), \"w\"), training_labels_mat)\n",
    "    else:\n",
    "        info(\"Loading Training Data from file\")\n",
    "        training_data = np.load(open(os.path.join(doc2vec_model_save_location, GLOBAL_VARS.MODEL_NAME, \n",
    "                                                  TRAINING_DATA_MATRIX)))\n",
    "        training_labels_mat = get_training_y_labels()\n",
    "        \n",
    "    return training_data, training_labels_mat"
   ]
  },
  {
   "cell_type": "code",
   "execution_count": 19,
   "metadata": {
    "collapsed": true
   },
   "outputs": [],
   "source": [
    "def get_validation_data(validation_dict, classifications, classifications_type, doc_stats, sequence_size, embedding_size):\n",
    "    \n",
    "    def get_validation_y_labels():\n",
    "        if not os.path.exists(os.path.join(doc2vec_model_save_location, GLOBAL_VARS.MODEL_NAME, \n",
    "                                       VALIDATION_LABELS_MATRIX.format(classifications_type))):\n",
    "            info(\"Creating Validation Labels\")\n",
    "            one_hot_encoder = OneHotEncoder(classifications)\n",
    "            classifications_set = set(classifications)\n",
    "            validation_labels_mat = np.zeros((len(validation_docs_list), len(classifications)), dtype=np.int8)\n",
    "            for i, doc_id in enumerate(validation_docs_list):\n",
    "                eligible_classifications = set(doc_classification_map[doc_id]) & classifications_set\n",
    "                validation_labels_mat[i][:] = one_hot_encoder.get_label_vector(eligible_classifications)\n",
    "        else:    \n",
    "            validation_labels_mat = np.load(open(os.path.join(doc2vec_model_save_location, GLOBAL_VARS.MODEL_NAME, \n",
    "                                                        VALIDATION_LABELS_MATRIX.format(classifications_type))))\n",
    "        return validation_labels_mat\n",
    "\n",
    "    \n",
    "    if not os.path.exists(os.path.join(doc2vec_model_save_location, GLOBAL_VARS.MODEL_NAME, VALIDATION_DATA_MATRIX)):\n",
    "        info(\"Creating Validation Data\")\n",
    "        one_hot_encoder = OneHotEncoder(classifications)\n",
    "        classifications_set = set(classifications)\n",
    "        # 1st level: document level\n",
    "        validation_data = np.ndarray((len(validation_docs_list), sequence_size, embedding_size), dtype=np.float32)\n",
    "        info(\"Validation Data shape: {}\".format(validation_data.shape))\n",
    "        validation_labels_mat = np.zeros((len(validation_docs_list), len(classifications)), dtype=np.int8)\n",
    "        for i, doc_id in enumerate(validation_docs_list):\n",
    "            data_gen = validation_data_generator(doc_stats, validation_dict, doc_id)\n",
    "            # 2nd level: constituents\n",
    "            for j in range(sequence_size):\n",
    "                #3d level: feature vectors\n",
    "                validation_data[i][j]= data_gen.next()\n",
    "            eligible_classifications = set(doc_classification_map[doc_id]) & classifications_set\n",
    "            validation_labels_mat[i][:] = one_hot_encoder.get_label_vector(eligible_classifications)\n",
    "            if i % 10000 == 0:\n",
    "                info(\"Finished {} in validation\".format(i))\n",
    "        \n",
    "        info(\"Saving Validation Data to file...\")\n",
    "        np.save(open(os.path.join(doc2vec_model_save_location, GLOBAL_VARS.MODEL_NAME, \n",
    "                                  VALIDATION_DATA_MATRIX), \"w\"), validation_data)\n",
    "        np.save(open(os.path.join(doc2vec_model_save_location, GLOBAL_VARS.MODEL_NAME, \n",
    "                                  VALIDATION_LABELS_MATRIX.format(classifications_type)), \"w\"), validation_labels_mat)\n",
    "    else:\n",
    "        info(\"Loading Validation Data from file\")\n",
    "        validation_data = np.load(open(os.path.join(doc2vec_model_save_location, GLOBAL_VARS.MODEL_NAME, \n",
    "                                                  VALIDATION_DATA_MATRIX)))\n",
    "        validation_labels_mat = get_validation_y_labels()\n",
    "        \n",
    "    return validation_data, validation_labels_mat"
   ]
  },
  {
   "cell_type": "markdown",
   "metadata": {},
   "source": [
    "## Loading Data"
   ]
  },
  {
   "cell_type": "code",
   "execution_count": 20,
   "metadata": {
    "collapsed": false
   },
   "outputs": [],
   "source": [
    "from keras.layers import Input, Masking\n",
    "from keras.models import Model\n",
    "from keras.layers.recurrent import LSTM\n",
    "from keras.layers.pooling import GlobalAveragePooling1D\n",
    "from keras.preprocessing import sequence\n",
    "from keras.layers.convolutional import Convolution1D\n",
    "from keras.layers.convolutional import MaxPooling1D\n",
    "import keras"
   ]
  },
  {
   "cell_type": "code",
   "execution_count": 74,
   "metadata": {
    "collapsed": true
   },
   "outputs": [],
   "source": [
    "classifications = valid_subclasses\n",
    "classifications_type = 'subclasses'\n",
    "classifier_file = TYPE_CLASSIFIER.format(classifications_type)"
   ]
  },
  {
   "cell_type": "code",
   "execution_count": 75,
   "metadata": {
    "collapsed": false
   },
   "outputs": [],
   "source": [
    "VALIDATION_METRICS_FILENAME= '{}_validation_metrics.pkl'.format(classifications_type)\n",
    "TRAINING_METRICS_FILENAME = '{}_training_metrics.pkl'.format(classifications_type)"
   ]
  },
  {
   "cell_type": "markdown",
   "metadata": {},
   "source": [
    "#### Load the Doc2vec model"
   ]
  },
  {
   "cell_type": "code",
   "execution_count": 76,
   "metadata": {
    "collapsed": true
   },
   "outputs": [],
   "source": [
    "DOC2VEC_SIZE = 200\n",
    "DOC2VEC_WINDOW = 2\n",
    "DOC2VEC_MAX_VOCAB_SIZE = None\n",
    "DOC2VEC_SAMPLE = 1e-3\n",
    "DOC2VEC_TYPE = 1\n",
    "DOC2VEC_HIERARCHICAL_SAMPLE = 0\n",
    "DOC2VEC_NEGATIVE_SAMPLE_SIZE = 10\n",
    "DOC2VEC_CONCAT = 0\n",
    "DOC2VEC_MEAN = 1\n",
    "DOC2VEC_TRAIN_WORDS = 0\n",
    "DOC2VEC_EPOCHS = 1 # we do our training manually one epoch at a time\n",
    "DOC2VEC_MAX_EPOCHS = 8\n",
    "REPORT_DELAY = 20 # report the progress every x seconds\n",
    "REPORT_VOCAB_PROGRESS = 100000 # report vocab progress every x documents\n",
    "\n",
    "DOC2VEC_MMAP = 'r'\n",
    "# DOC2VEC_MMAP = None\n",
    "\n",
    "ZERO_VECTOR = [0] * DOC2VEC_SIZE"
   ]
  },
  {
   "cell_type": "code",
   "execution_count": 77,
   "metadata": {
    "collapsed": false
   },
   "outputs": [
    {
     "name": "stdout",
     "output_type": "stream",
     "text": [
      "doc2vec_size_200_w_2_type_dm_concat_0_mean_1_trainwords_0_hs_0_neg_10_vocabsize_None/epoch_8\n"
     ]
    }
   ],
   "source": [
    "placeholder_model_name = 'doc2vec_size_{}_w_{}_type_{}_concat_{}_mean_{}_trainwords_{}_hs_{}_neg_{}_vocabsize_{}'.format(DOC2VEC_SIZE, \n",
    "                                                                DOC2VEC_WINDOW, \n",
    "                                                                'dm' if DOC2VEC_TYPE == 1 else 'pv-dbow',\n",
    "                                                                DOC2VEC_CONCAT, DOC2VEC_MEAN,\n",
    "                                                                DOC2VEC_TRAIN_WORDS,\n",
    "                                                                DOC2VEC_HIERARCHICAL_SAMPLE,DOC2VEC_NEGATIVE_SAMPLE_SIZE,\n",
    "                                                                str(DOC2VEC_MAX_VOCAB_SIZE))\n",
    "GLOBAL_VARS.DOC2VEC_MODEL_NAME = placeholder_model_name\n",
    "placeholder_model_name = os.path.join(placeholder_model_name, \"epoch_{}\")\n",
    "\n",
    "epoch = 8\n",
    "\n",
    "GLOBAL_VARS.MODEL_NAME = placeholder_model_name.format(epoch)\n",
    "doc2vec_model = None\n",
    "print GLOBAL_VARS.MODEL_NAME"
   ]
  },
  {
   "cell_type": "code",
   "execution_count": 78,
   "metadata": {
    "collapsed": false,
    "scrolled": false
   },
   "outputs": [
    {
     "name": "stderr",
     "output_type": "stream",
     "text": [
      "2017-03-20 16:51:20,702 : INFO : loading Doc2Vec object from /mnt/data/shalaby/parameter_search_doc2vec_models_extended_abs_desc_claims/full/doc2vec_size_200_w_2_type_dm_concat_0_mean_1_trainwords_0_hs_0_neg_10_vocabsize_None/epoch_8/model\n"
     ]
    },
    {
     "name": "stdout",
     "output_type": "stream",
     "text": [
      "/mnt/data/shalaby/parameter_search_doc2vec_models_extended_abs_desc_claims/full/doc2vec_size_200_w_2_type_dm_concat_0_mean_1_trainwords_0_hs_0_neg_10_vocabsize_None/epoch_8/model\n"
     ]
    },
    {
     "name": "stderr",
     "output_type": "stream",
     "text": [
      "2017-03-20 16:51:24,643 : INFO : loading docvecs recursively from /mnt/data/shalaby/parameter_search_doc2vec_models_extended_abs_desc_claims/full/doc2vec_size_200_w_2_type_dm_concat_0_mean_1_trainwords_0_hs_0_neg_10_vocabsize_None/epoch_8/model.docvecs.* with mmap=r\n",
      "2017-03-20 16:51:24,644 : INFO : loading doctag_syn0 from /mnt/data/shalaby/parameter_search_doc2vec_models_extended_abs_desc_claims/full/doc2vec_size_200_w_2_type_dm_concat_0_mean_1_trainwords_0_hs_0_neg_10_vocabsize_None/epoch_8/model.docvecs.doctag_syn0.npy with mmap=r\n",
      "2017-03-20 16:51:24,646 : INFO : loading syn1neg from /mnt/data/shalaby/parameter_search_doc2vec_models_extended_abs_desc_claims/full/doc2vec_size_200_w_2_type_dm_concat_0_mean_1_trainwords_0_hs_0_neg_10_vocabsize_None/epoch_8/model.syn1neg.npy with mmap=r\n",
      "2017-03-20 16:51:24,647 : INFO : loading syn0 from /mnt/data/shalaby/parameter_search_doc2vec_models_extended_abs_desc_claims/full/doc2vec_size_200_w_2_type_dm_concat_0_mean_1_trainwords_0_hs_0_neg_10_vocabsize_None/epoch_8/model.syn0.npy with mmap=r\n",
      "2017-03-20 16:51:24,648 : INFO : setting ignored attribute syn0norm to None\n",
      "2017-03-20 16:51:24,649 : INFO : setting ignored attribute cum_table to None\n"
     ]
    },
    {
     "name": "stdout",
     "output_type": "stream",
     "text": [
      "CPU times: user 4.22 s, sys: 596 ms, total: 4.82 s\n",
      "Wall time: 4.64 s\n"
     ]
    }
   ],
   "source": [
    "%%time\n",
    "print os.path.join(doc2vec_model_save_location, GLOBAL_VARS.MODEL_NAME, MODEL_PREFIX)\n",
    "if os.path.exists(os.path.join(doc2vec_model_save_location, GLOBAL_VARS.MODEL_NAME, MODEL_PREFIX)):\n",
    "    doc2vec_model = Doc2Vec.load(os.path.join(doc2vec_model_save_location, GLOBAL_VARS.MODEL_NAME, MODEL_PREFIX), mmap=DOC2VEC_MMAP)\n",
    "    doc2vec_model.workers = NUM_CORES\n",
    "    GLOBAL_VARS.DOC2VEC_MODEL = doc2vec_model\n",
    "else:\n",
    "    info(\"Couldnt find the doc2vec model with epoch {}\".format(epoch))\n",
    "    raise Exception()"
   ]
  },
  {
   "cell_type": "code",
   "execution_count": 79,
   "metadata": {
    "collapsed": true
   },
   "outputs": [],
   "source": [
    "training_doc_stats_file = os.path.join(doc2vec_model_save_location, GLOBAL_VARS.MODEL_NAME, \"extended_pv_training_doc_stats.pkl\")\n",
    "validation_doc_stats_file = os.path.join(doc2vec_model_save_location, GLOBAL_VARS.MODEL_NAME, \"extended_pv_validation_doc_stats.pkl\")"
   ]
  },
  {
   "cell_type": "markdown",
   "metadata": {},
   "source": [
    "### Create/Load Training Document Stats"
   ]
  },
  {
   "cell_type": "code",
   "execution_count": 80,
   "metadata": {
    "collapsed": true
   },
   "outputs": [],
   "source": [
    "PARTS_LEVEL = 1"
   ]
  },
  {
   "cell_type": "code",
   "execution_count": 81,
   "metadata": {
    "collapsed": false,
    "scrolled": false
   },
   "outputs": [
    {
     "name": "stderr",
     "output_type": "stream",
     "text": [
      "2017-03-20 16:51:29,938 : INFO : Loading Training Document Stats\n"
     ]
    },
    {
     "name": "stdout",
     "output_type": "stream",
     "text": [
      "CPU times: user 1.24 s, sys: 88 ms, total: 1.32 s\n",
      "Wall time: 1.32 s\n"
     ]
    }
   ],
   "source": [
    "%%time\n",
    "if not os.path.exists(training_doc_stats_file):\n",
    "    info(\"Creating Training Document Stats\")\n",
    "    doc_stats = FixedDocumentsStatsGenerator(training_preprocessed_files_prefix)\n",
    "    doc_stats.get_stats()\n",
    "    pickle.dump(doc_stats, open(training_doc_stats_file, \"w\"))\n",
    "else:\n",
    "    info(\"Loading Training Document Stats\")\n",
    "    doc_stats = pickle.load(open(training_doc_stats_file, \"r\"))"
   ]
  },
  {
   "cell_type": "code",
   "execution_count": 82,
   "metadata": {
    "collapsed": false
   },
   "outputs": [
    {
     "name": "stdout",
     "output_type": "stream",
     "text": [
      "Parts: 3\n",
      "Chunks: 0\n",
      "Max Size: 4\n"
     ]
    }
   ],
   "source": [
    "MAX_PARTS = int(np.max([len(doc_stats.doc_parts[d]) for d in doc_stats.docids]))\n",
    "print \"Parts: {}\".format(MAX_PARTS)\n",
    "MAX_PART_CHUNKS = int(np.max([len(doc_stats.doc_part_chunks[d]) for d in doc_stats.docids]))\n",
    "print \"Chunks: {}\".format(MAX_PART_CHUNKS)\n",
    "# +1 is for the document vector\n",
    "MAX_SIZE = MAX_PARTS + MAX_PART_CHUNKS + 1\n",
    "print \"Max Size: {}\".format(MAX_SIZE)"
   ]
  },
  {
   "cell_type": "markdown",
   "metadata": {},
   "source": [
    "### Get Training Data Matrices"
   ]
  },
  {
   "cell_type": "code",
   "execution_count": 83,
   "metadata": {
    "collapsed": false
   },
   "outputs": [
    {
     "name": "stderr",
     "output_type": "stream",
     "text": [
      "2017-03-20 16:51:38,595 : INFO : Loading Training Data from file\n",
      "2017-03-20 16:51:48,024 : INFO : Creating Training Labels\n"
     ]
    },
    {
     "name": "stdout",
     "output_type": "stream",
     "text": [
      "CPU times: user 4.77 s, sys: 8.18 s, total: 12.9 s\n",
      "Wall time: 14.4 s\n"
     ]
    }
   ],
   "source": [
    "%%time\n",
    "X, y = get_training_data(doc2vec_model, classifications, classifications_type, doc_stats, MAX_SIZE, DOC2VEC_SIZE)"
   ]
  },
  {
   "cell_type": "code",
   "execution_count": 84,
   "metadata": {
    "collapsed": false
   },
   "outputs": [
    {
     "name": "stdout",
     "output_type": "stream",
     "text": [
      "384499328\n",
      "(120156, 4, 200)\n",
      "(120156, 940)\n"
     ]
    }
   ],
   "source": [
    "import sys\n",
    "print sys.getsizeof(X)\n",
    "print X.shape\n",
    "print y.shape"
   ]
  },
  {
   "cell_type": "markdown",
   "metadata": {},
   "source": [
    "## Create Validation Matrix"
   ]
  },
  {
   "cell_type": "code",
   "execution_count": 85,
   "metadata": {
    "collapsed": true
   },
   "outputs": [],
   "source": [
    "validation_dict = None"
   ]
  },
  {
   "cell_type": "markdown",
   "metadata": {},
   "source": [
    "### Create/Load Validation Doc Stats"
   ]
  },
  {
   "cell_type": "markdown",
   "metadata": {},
   "source": [
    "Load Validation Dict"
   ]
  },
  {
   "cell_type": "code",
   "execution_count": 86,
   "metadata": {
    "collapsed": false
   },
   "outputs": [
    {
     "name": "stdout",
     "output_type": "stream",
     "text": [
      "CPU times: user 10.5 s, sys: 176 ms, total: 10.6 s\n",
      "Wall time: 10.7 s\n"
     ]
    }
   ],
   "source": [
    "%%time\n",
    "validation_dict = pickle.load(open(os.path.join(doc2vec_model_save_location, GLOBAL_VARS.MODEL_NAME, VALIDATION_DICT)))"
   ]
  },
  {
   "cell_type": "code",
   "execution_count": 87,
   "metadata": {
    "collapsed": false
   },
   "outputs": [
    {
     "name": "stderr",
     "output_type": "stream",
     "text": [
      "2017-03-20 16:52:03,771 : INFO : Loading new batch for index: 0\n",
      "2017-03-20 16:52:09,685 : INFO : Finished loading new batch of 10000 documents\n",
      "2017-03-20 16:52:09,689 : INFO : Loading new batch for index: 10000\n",
      "2017-03-20 16:52:15,851 : INFO : Finished loading new batch of 10000 documents\n",
      "2017-03-20 16:52:15,852 : INFO : Loading new batch for index: 20000\n",
      "2017-03-20 16:52:21,368 : INFO : Finished loading new batch of 9675 documents\n",
      "2017-03-20 16:52:21,370 : INFO : Loading new batch for index: 29675\n",
      "2017-03-20 16:52:21,371 : INFO : No more batches to load, exiting at index: 29675\n"
     ]
    },
    {
     "name": "stdout",
     "output_type": "stream",
     "text": [
      "CPU times: user 4.65 s, sys: 2.23 s, total: 6.88 s\n",
      "Wall time: 19.8 s\n"
     ]
    }
   ],
   "source": [
    "%%time\n",
    "if not os.path.exists(validation_doc_stats_file) or True:\n",
    "    validation_doc_stats = FixedDocumentsStatsGenerator(validation_preprocessed_files_prefix)\n",
    "    validation_doc_stats.get_stats()\n",
    "    pickle.dump(validation_doc_stats, open(validation_doc_stats_file, \"w\"))\n",
    "else:\n",
    "    info(\"Loading Validation Document Stats\")\n",
    "    validation_doc_stats = pickle.load(open(validation_doc_stats_file, \"r\"))"
   ]
  },
  {
   "cell_type": "markdown",
   "metadata": {},
   "source": [
    "### Get Validation Data Matrices"
   ]
  },
  {
   "cell_type": "code",
   "execution_count": 88,
   "metadata": {
    "collapsed": false
   },
   "outputs": [
    {
     "name": "stderr",
     "output_type": "stream",
     "text": [
      "2017-03-20 16:52:23,578 : INFO : Loading Validation Data from file\n",
      "2017-03-20 16:52:24,103 : INFO : Creating Validation Labels\n"
     ]
    },
    {
     "name": "stdout",
     "output_type": "stream",
     "text": [
      "CPU times: user 1.42 s, sys: 148 ms, total: 1.57 s\n",
      "Wall time: 1.97 s\n"
     ]
    }
   ],
   "source": [
    "%%time\n",
    "Xv, yv = get_validation_data(validation_dict, classifications, classifications_type, validation_doc_stats, \n",
    "                             MAX_SIZE, DOC2VEC_SIZE)"
   ]
  },
  {
   "cell_type": "code",
   "execution_count": 126,
   "metadata": {
    "collapsed": true
   },
   "outputs": [],
   "source": [
    "del validation_dict"
   ]
  },
  {
   "cell_type": "markdown",
   "metadata": {},
   "source": [
    "# Actual Training"
   ]
  },
  {
   "cell_type": "code",
   "execution_count": 89,
   "metadata": {
    "collapsed": true
   },
   "outputs": [],
   "source": [
    "def create_keras_rnn_model(input_size, output_size, lstm_output_size, w_dropout_do, u_dropout_do, \n",
    "                           stack_layers=1, conv_size=None):\n",
    "    \n",
    "    model= Sequential()\n",
    "#     model.add(Masking(mask_value=0., input_shape=(MAX_SIZE, input_size)))\n",
    "    if conv_size:\n",
    "        model.add(Convolution1D(nb_filter=conv_size, input_shape=(MAX_SIZE, input_size), filter_length=3, \n",
    "                                border_mode='same', activation='relu'))\n",
    "#         model.add(MaxPooling1D(pool_length=2))\n",
    "    for i in range(stack_layers):\n",
    "        model.add(LSTM(lstm_output_size, input_dim=input_size, dropout_W=w_dropout_do, dropout_U=u_dropout_do,\n",
    "                       return_sequences=False if i+1 == stack_layers else True,\n",
    "                  name='lstm_{}_u-drop_{}_w-drop_{}_layer_{}'.format(lstm_output_size, str(u_dropout_do), str(w_dropout_do), str(i+1))))\n",
    "    model.add(Dense(output_size, activation='sigmoid', name='sigmoid_output'))\n",
    "    model.compile(optimizer=NN_OPTIMIZER, loss='binary_crossentropy')\n",
    "    return model\n",
    "    \n",
    "#     lstm = LSTM(lstm_output_size, input_dim=input_size, dropout_W=w_dropout_do, dropout_U=u_dropout_do)\n",
    "    \n",
    "#     pooling = GlobalAveragePooling1D()(lstm)\n",
    "    \n",
    "#     sigmoid_output = Dense(output_size, activation='sigmoid', name='sigmoid_output')(pooling)\n",
    "\n",
    "#     model = Model(input=doc_input, output=sigmoid_output)\n",
    "#     model.compile(optimizer='rmsprop', loss='binary_crossentropy')\n",
    "    \n",
    "#     return model"
   ]
  },
  {
   "cell_type": "code",
   "execution_count": 90,
   "metadata": {
    "collapsed": true
   },
   "outputs": [],
   "source": [
    "early_stopper_deltas = {\n",
    "    'sections': 0.0001,\n",
    "    'classes': 0.00001,\n",
    "    'subclasses': 0.00001\n",
    "}\n",
    "early_stopper_patience = {\n",
    "    'sections': 10,\n",
    "    'classes': 10,\n",
    "    'subclasses': 10\n",
    "}\n",
    "epochs_before_validation = {\n",
    "    'sections': 10,\n",
    "    'classes': 50,\n",
    "    'subclasses': 50\n",
    "}"
   ]
  },
  {
   "cell_type": "code",
   "execution_count": 95,
   "metadata": {
    "collapsed": true
   },
   "outputs": [],
   "source": [
    "NN_OUTPUT_NEURONS = len(classifications)\n",
    "\n",
    "EARLY_STOPPER_MIN_DELTA = early_stopper_deltas[classifications_type]\n",
    "EARLY_STOPPER_PATIENCE = early_stopper_patience[classifications_type]\n",
    "\n",
    "NN_MAX_EPOCHS = 200\n",
    "NN_RANDOM_SEARCH_BUDGET = 20\n",
    "NN_PARAM_SAMPLE_SEED = 1234\n",
    "\n",
    "NN_BATCH_SIZE = 2048\n",
    "\n",
    "MODEL_VERBOSITY = 1\n",
    "\n",
    "NN_OPTIMIZER = 'rmsprop'\n",
    "# NN_OPTIMIZER = 'adam'\n",
    "\n",
    "to_skip = []\n",
    "\n",
    "load_existing_results = True\n",
    "save_results = True\n",
    "\n",
    "\n",
    "lstm_output_sizes = [200,300,500]\n",
    "w_dropout_options = [0.4,0.5,0.6]\n",
    "u_dropout_options = [0.4,0.5,0.6]\n",
    "stack_layers_options = [1,2,3]\n",
    "conv_size_options = [None]\n",
    "\n",
    "\n",
    "\n",
    "# # Uncomment for Specific Configuration\n",
    "# NN_RANDOM_SEARCH_BUDGET = 1\n",
    "# lstm_output_sizes = [200]\n",
    "# w_dropout_options = [0.6]\n",
    "# u_dropout_options = [0.4]\n",
    "# stack_layers_options = [1]\n",
    "# conv_size_options = [200]\n",
    "# # conv_size_options = [None, 32,100,200,300]\n",
    "\n",
    "\n",
    "np.random.seed(NN_SEED)"
   ]
  },
  {
   "cell_type": "code",
   "execution_count": 96,
   "metadata": {
    "collapsed": false
   },
   "outputs": [],
   "source": [
    "class MetricsCallback(keras.callbacks.Callback):\n",
    "    \n",
    "    EPOCHS_BEFORE_VALIDATION = epochs_before_validation[classifications_type]\n",
    "    \n",
    "    def on_train_begin(self, logs={}):\n",
    "        self.epoch_index = 0\n",
    "        self.val_loss_reductions = 0\n",
    "        self.metrics_dict = {}\n",
    "        self.best_val_loss = np.iinfo(np.int32).max\n",
    "        self.best_weights = None\n",
    "        self.best_validation_metrics = None\n",
    "    def on_epoch_end(self, epoch, logs={}):\n",
    "        self.epoch_index += 1\n",
    "        if logs['val_loss'] < self.best_val_loss:\n",
    "            self.val_loss_reductions += 1\n",
    "            self.best_val_loss = logs['val_loss']\n",
    "            self.best_weights = self.model.get_weights()\n",
    "            print '\\r    \\r' # to remove the previous line of verbose output of model fit\n",
    "            time.sleep(0.2)\n",
    "            info('Found lower val loss for epoch {} => {}'.format(self.epoch_index, round(logs['val_loss'], 5)))\n",
    "            if self.val_loss_reductions % MetricsCallback.EPOCHS_BEFORE_VALIDATION == 0:\n",
    "                \n",
    "                info('Validation Loss Reduced {} times'.format(self.val_loss_reductions))\n",
    "                info('Evaluating on Validation Data')\n",
    "                yvp = self.model.predict(Xv)\n",
    "                yvp_binary = get_binary_0_5(yvp)\n",
    "                info('Generating Validation Metrics')\n",
    "                validation_metrics = get_metrics(yv, yvp, yvp_binary)\n",
    "                print \"****** Validation Metrics: Cov Err: {:.3f} | Top 3: {:.3f} | Top 5: {:.3f} | F1 Micro: {:.3f} | F1 Macro: {:.3f}\".format(\n",
    "                    validation_metrics['coverage_error'], validation_metrics['top_3'], validation_metrics['top_5'], \n",
    "                    validation_metrics['f1_micro'], validation_metrics['f1_macro'])\n",
    "                self.metrics_dict[self.epoch_index] = validation_metrics\n",
    "#                 self.best_validation_metrics = validation_metrics"
   ]
  },
  {
   "cell_type": "code",
   "execution_count": 97,
   "metadata": {
    "collapsed": false
   },
   "outputs": [
    {
     "name": "stderr",
     "output_type": "stream",
     "text": [
      "2017-03-20 17:14:58,053 : INFO : ***************************************************************************************\n",
      "2017-03-20 17:14:58,054 : INFO : lstm_optimizer_rmsprop_size_500_w-drop_0.6_u-drop_0.4_stack_3_conv_None\n"
     ]
    },
    {
     "name": "stdout",
     "output_type": "stream",
     "text": [
      "____________________________________________________________________________________________________\n",
      "Layer (type)                     Output Shape          Param #     Connected to                     \n",
      "====================================================================================================\n",
      "lstm_500_u-drop_0.4_w-drop_0.6_l (None, None, 500)     1402000     lstm_input_2[0][0]               \n",
      "____________________________________________________________________________________________________\n",
      "lstm_500_u-drop_0.4_w-drop_0.6_l (None, None, 500)     2002000     lstm_500_u-drop_0.4_w-drop_0.6_la\n",
      "____________________________________________________________________________________________________\n",
      "lstm_500_u-drop_0.4_w-drop_0.6_l (None, 500)           2002000     lstm_500_u-drop_0.4_w-drop_0.6_la\n",
      "____________________________________________________________________________________________________\n",
      "sigmoid_output (Dense)           (None, 940)           470940      lstm_500_u-drop_0.4_w-drop_0.6_la\n",
      "====================================================================================================\n",
      "Total params: 5876940\n",
      "____________________________________________________________________________________________________\n",
      "Train on 120156 samples, validate on 29675 samples\n",
      "Epoch 1/200\n",
      "    \n"
     ]
    },
    {
     "name": "stderr",
     "output_type": "stream",
     "text": [
      "2017-03-20 17:16:24,368 : INFO : Found lower val loss for epoch 1 => 0.00841\n"
     ]
    },
    {
     "name": "stdout",
     "output_type": "stream",
     "text": [
      "120156/120156 [==============================] - 21s - loss: 0.0447 - val_loss: 0.0084\n",
      "Epoch 2/200\n",
      "    \n"
     ]
    },
    {
     "name": "stderr",
     "output_type": "stream",
     "text": [
      "2017-03-20 17:16:55,880 : INFO : Found lower val loss for epoch 2 => 0.00839\n"
     ]
    },
    {
     "name": "stdout",
     "output_type": "stream",
     "text": [
      "120156/120156 [==============================] - 31s - loss: 0.0102 - val_loss: 0.0084\n",
      "Epoch 3/200\n",
      "    \n"
     ]
    },
    {
     "name": "stderr",
     "output_type": "stream",
     "text": [
      "2017-03-20 17:17:28,727 : INFO : Found lower val loss for epoch 3 => 0.00774\n"
     ]
    },
    {
     "name": "stdout",
     "output_type": "stream",
     "text": [
      "120156/120156 [==============================] - 32s - loss: 0.0100 - val_loss: 0.0077\n",
      "Epoch 4/200\n",
      "    \n"
     ]
    },
    {
     "name": "stderr",
     "output_type": "stream",
     "text": [
      "2017-03-20 17:18:07,135 : INFO : Found lower val loss for epoch 4 => 0.00714\n"
     ]
    },
    {
     "name": "stdout",
     "output_type": "stream",
     "text": [
      "120156/120156 [==============================] - 38s - loss: 0.0092 - val_loss: 0.0071\n",
      "Epoch 5/200\n",
      "    \n"
     ]
    },
    {
     "name": "stderr",
     "output_type": "stream",
     "text": [
      "2017-03-20 17:18:48,256 : INFO : Found lower val loss for epoch 5 => 0.00681\n"
     ]
    },
    {
     "name": "stdout",
     "output_type": "stream",
     "text": [
      "120156/120156 [==============================] - 41s - loss: 0.0088 - val_loss: 0.0068\n",
      "Epoch 6/200\n",
      "    \n"
     ]
    },
    {
     "name": "stderr",
     "output_type": "stream",
     "text": [
      "2017-03-20 17:19:27,728 : INFO : Found lower val loss for epoch 6 => 0.00632\n"
     ]
    },
    {
     "name": "stdout",
     "output_type": "stream",
     "text": [
      "120156/120156 [==============================] - 39s - loss: 0.0084 - val_loss: 0.0063\n",
      "Epoch 7/200\n",
      "    \n"
     ]
    },
    {
     "name": "stderr",
     "output_type": "stream",
     "text": [
      "2017-03-20 17:19:50,486 : INFO : Found lower val loss for epoch 7 => 0.00595\n"
     ]
    },
    {
     "name": "stdout",
     "output_type": "stream",
     "text": [
      "120156/120156 [==============================] - 22s - loss: 0.0079 - val_loss: 0.0059\n",
      "Epoch 8/200\n",
      "    \n"
     ]
    },
    {
     "name": "stderr",
     "output_type": "stream",
     "text": [
      "2017-03-20 17:20:27,232 : INFO : Found lower val loss for epoch 8 => 0.00563\n"
     ]
    },
    {
     "name": "stdout",
     "output_type": "stream",
     "text": [
      "120156/120156 [==============================] - 36s - loss: 0.0076 - val_loss: 0.0056\n",
      "Epoch 9/200\n",
      "    \n"
     ]
    },
    {
     "name": "stderr",
     "output_type": "stream",
     "text": [
      "2017-03-20 17:21:03,212 : INFO : Found lower val loss for epoch 9 => 0.00543\n"
     ]
    },
    {
     "name": "stdout",
     "output_type": "stream",
     "text": [
      "120156/120156 [==============================] - 35s - loss: 0.0074 - val_loss: 0.0054\n",
      "Epoch 10/200\n",
      "    \n"
     ]
    },
    {
     "name": "stderr",
     "output_type": "stream",
     "text": [
      "2017-03-20 17:21:35,490 : INFO : Found lower val loss for epoch 10 => 0.00531\n"
     ]
    },
    {
     "name": "stdout",
     "output_type": "stream",
     "text": [
      "120156/120156 [==============================] - 32s - loss: 0.0072 - val_loss: 0.0053\n",
      "Epoch 11/200\n",
      "    \n"
     ]
    },
    {
     "name": "stderr",
     "output_type": "stream",
     "text": [
      "2017-03-20 17:22:03,685 : INFO : Found lower val loss for epoch 11 => 0.00519\n"
     ]
    },
    {
     "name": "stdout",
     "output_type": "stream",
     "text": [
      "120156/120156 [==============================] - 28s - loss: 0.0070 - val_loss: 0.0052\n",
      "Epoch 12/200\n",
      "    \n"
     ]
    },
    {
     "name": "stderr",
     "output_type": "stream",
     "text": [
      "2017-03-20 17:22:41,170 : INFO : Found lower val loss for epoch 12 => 0.00502\n"
     ]
    },
    {
     "name": "stdout",
     "output_type": "stream",
     "text": [
      "120156/120156 [==============================] - 37s - loss: 0.0068 - val_loss: 0.0050\n",
      "Epoch 13/200\n",
      "    \n"
     ]
    },
    {
     "name": "stderr",
     "output_type": "stream",
     "text": [
      "2017-03-20 17:23:18,157 : INFO : Found lower val loss for epoch 13 => 0.00498\n"
     ]
    },
    {
     "name": "stdout",
     "output_type": "stream",
     "text": [
      "120156/120156 [==============================] - 36s - loss: 0.0067 - val_loss: 0.0050\n",
      "Epoch 14/200\n",
      "    \n"
     ]
    },
    {
     "name": "stderr",
     "output_type": "stream",
     "text": [
      "2017-03-20 17:23:57,451 : INFO : Found lower val loss for epoch 14 => 0.00491\n"
     ]
    },
    {
     "name": "stdout",
     "output_type": "stream",
     "text": [
      "120156/120156 [==============================] - 39s - loss: 0.0066 - val_loss: 0.0049\n",
      "Epoch 15/200\n",
      "    \n"
     ]
    },
    {
     "name": "stderr",
     "output_type": "stream",
     "text": [
      "2017-03-20 17:24:35,514 : INFO : Found lower val loss for epoch 15 => 0.0048\n"
     ]
    },
    {
     "name": "stdout",
     "output_type": "stream",
     "text": [
      "120156/120156 [==============================] - 38s - loss: 0.0065 - val_loss: 0.0048\n",
      "Epoch 16/200\n",
      "    \n"
     ]
    },
    {
     "name": "stderr",
     "output_type": "stream",
     "text": [
      "2017-03-20 17:25:02,061 : INFO : Found lower val loss for epoch 16 => 0.00473\n"
     ]
    },
    {
     "name": "stdout",
     "output_type": "stream",
     "text": [
      "120156/120156 [==============================] - 26s - loss: 0.0064 - val_loss: 0.0047\n",
      "Epoch 17/200\n",
      "    \n"
     ]
    },
    {
     "name": "stderr",
     "output_type": "stream",
     "text": [
      "2017-03-20 17:25:36,502 : INFO : Found lower val loss for epoch 17 => 0.00464\n"
     ]
    },
    {
     "name": "stdout",
     "output_type": "stream",
     "text": [
      "120156/120156 [==============================] - 34s - loss: 0.0063 - val_loss: 0.0046\n",
      "Epoch 18/200\n",
      "    \n"
     ]
    },
    {
     "name": "stderr",
     "output_type": "stream",
     "text": [
      "2017-03-20 17:26:12,212 : INFO : Found lower val loss for epoch 18 => 0.0046\n"
     ]
    },
    {
     "name": "stdout",
     "output_type": "stream",
     "text": [
      "120156/120156 [==============================] - 35s - loss: 0.0062 - val_loss: 0.0046\n",
      "Epoch 19/200\n",
      "    \n"
     ]
    },
    {
     "name": "stderr",
     "output_type": "stream",
     "text": [
      "2017-03-20 17:26:47,809 : INFO : Found lower val loss for epoch 19 => 0.00445\n"
     ]
    },
    {
     "name": "stdout",
     "output_type": "stream",
     "text": [
      "120156/120156 [==============================] - 35s - loss: 0.0062 - val_loss: 0.0044\n",
      "Epoch 20/200\n",
      "    \n"
     ]
    },
    {
     "name": "stderr",
     "output_type": "stream",
     "text": [
      "2017-03-20 17:27:25,782 : INFO : Found lower val loss for epoch 20 => 0.00444\n"
     ]
    },
    {
     "name": "stdout",
     "output_type": "stream",
     "text": [
      "120156/120156 [==============================] - 37s - loss: 0.0061 - val_loss: 0.0044\n",
      "Epoch 21/200\n",
      "120156/120156 [==============================] - 25s - loss: 0.0060 - val_loss: 0.0045\n",
      "Epoch 22/200\n",
      "    \n"
     ]
    },
    {
     "name": "stderr",
     "output_type": "stream",
     "text": [
      "2017-03-20 17:28:34,157 : INFO : Found lower val loss for epoch 22 => 0.00441\n"
     ]
    },
    {
     "name": "stdout",
     "output_type": "stream",
     "text": [
      "120156/120156 [==============================] - 42s - loss: 0.0060 - val_loss: 0.0044\n",
      "Epoch 23/200\n",
      "    \n"
     ]
    },
    {
     "name": "stderr",
     "output_type": "stream",
     "text": [
      "2017-03-20 17:29:16,162 : INFO : Found lower val loss for epoch 23 => 0.00427\n"
     ]
    },
    {
     "name": "stdout",
     "output_type": "stream",
     "text": [
      "120156/120156 [==============================] - 42s - loss: 0.0059 - val_loss: 0.0043\n",
      "Epoch 24/200\n",
      "120156/120156 [==============================] - 42s - loss: 0.0059 - val_loss: 0.0043\n",
      "Epoch 25/200\n",
      "120156/120156 [==============================] - 33s - loss: 0.0058 - val_loss: 0.0044\n",
      "Epoch 26/200\n",
      "    \n"
     ]
    },
    {
     "name": "stderr",
     "output_type": "stream",
     "text": [
      "2017-03-20 17:30:59,313 : INFO : Found lower val loss for epoch 26 => 0.00424\n"
     ]
    },
    {
     "name": "stdout",
     "output_type": "stream",
     "text": [
      "120156/120156 [==============================] - 27s - loss: 0.0058 - val_loss: 0.0042\n",
      "Epoch 27/200\n",
      "120156/120156 [==============================] - 34s - loss: 0.0057 - val_loss: 0.0045\n",
      "Epoch 28/200\n",
      "    \n"
     ]
    },
    {
     "name": "stderr",
     "output_type": "stream",
     "text": [
      "2017-03-20 17:32:10,010 : INFO : Found lower val loss for epoch 28 => 0.00418\n"
     ]
    },
    {
     "name": "stdout",
     "output_type": "stream",
     "text": [
      "120156/120156 [==============================] - 35s - loss: 0.0057 - val_loss: 0.0042\n",
      "Epoch 29/200\n",
      "    \n"
     ]
    },
    {
     "name": "stderr",
     "output_type": "stream",
     "text": [
      "2017-03-20 17:32:46,483 : INFO : Found lower val loss for epoch 29 => 0.00413\n"
     ]
    },
    {
     "name": "stdout",
     "output_type": "stream",
     "text": [
      "120156/120156 [==============================] - 36s - loss: 0.0057 - val_loss: 0.0041\n",
      "Epoch 30/200\n",
      "120156/120156 [==============================] - 27s - loss: 0.0056 - val_loss: 0.0042\n",
      "Epoch 31/200\n",
      "120156/120156 [==============================] - 31s - loss: 0.0056 - val_loss: 0.0042\n",
      "Epoch 32/200\n",
      "    \n"
     ]
    },
    {
     "name": "stderr",
     "output_type": "stream",
     "text": [
      "2017-03-20 17:34:20,662 : INFO : Found lower val loss for epoch 32 => 0.00405\n"
     ]
    },
    {
     "name": "stdout",
     "output_type": "stream",
     "text": [
      "120156/120156 [==============================] - 35s - loss: 0.0056 - val_loss: 0.0040\n",
      "Epoch 33/200\n",
      "120156/120156 [==============================] - 34s - loss: 0.0055 - val_loss: 0.0041\n",
      "Epoch 34/200\n",
      "120156/120156 [==============================] - 27s - loss: 0.0055 - val_loss: 0.0041\n",
      "Epoch 35/200\n",
      "120156/120156 [==============================] - 33s - loss: 0.0055 - val_loss: 0.0041\n",
      "Epoch 36/200\n",
      "    \n"
     ]
    },
    {
     "name": "stderr",
     "output_type": "stream",
     "text": [
      "2017-03-20 17:36:22,936 : INFO : Found lower val loss for epoch 36 => 0.00402\n"
     ]
    },
    {
     "name": "stdout",
     "output_type": "stream",
     "text": [
      "120156/120156 [==============================] - 26s - loss: 0.0055 - val_loss: 0.0040\n",
      "Epoch 37/200\n",
      "120156/120156 [==============================] - 37s - loss: 0.0054 - val_loss: 0.0041\n",
      "Epoch 38/200\n",
      "    \n"
     ]
    },
    {
     "name": "stderr",
     "output_type": "stream",
     "text": [
      "2017-03-20 17:37:37,630 : INFO : Found lower val loss for epoch 38 => 0.00397\n"
     ]
    },
    {
     "name": "stdout",
     "output_type": "stream",
     "text": [
      "120156/120156 [==============================] - 37s - loss: 0.0054 - val_loss: 0.0040\n",
      "Epoch 39/200\n",
      "120156/120156 [==============================] - 36s - loss: 0.0054 - val_loss: 0.0041\n",
      "Epoch 40/200\n",
      "120156/120156 [==============================] - 35s - loss: 0.0054 - val_loss: 0.0041\n",
      "Epoch 41/200\n",
      "120156/120156 [==============================] - 25s - loss: 0.0053 - val_loss: 0.0041\n",
      "Epoch 42/200\n",
      "    \n"
     ]
    },
    {
     "name": "stderr",
     "output_type": "stream",
     "text": [
      "2017-03-20 17:39:52,565 : INFO : Found lower val loss for epoch 42 => 0.00397\n"
     ]
    },
    {
     "name": "stdout",
     "output_type": "stream",
     "text": [
      "120156/120156 [==============================] - 37s - loss: 0.0053 - val_loss: 0.0040\n",
      "Epoch 43/200\n",
      "120156/120156 [==============================] - 37s - loss: 0.0053 - val_loss: 0.0040\n",
      "Epoch 44/200\n",
      "120156/120156 [==============================] - 24s - loss: 0.0053 - val_loss: 0.0041\n",
      "Epoch 45/200\n",
      "    \n"
     ]
    },
    {
     "name": "stderr",
     "output_type": "stream",
     "text": [
      "2017-03-20 17:41:31,685 : INFO : Found lower val loss for epoch 45 => 0.00395\n"
     ]
    },
    {
     "name": "stdout",
     "output_type": "stream",
     "text": [
      "120156/120156 [==============================] - 37s - loss: 0.0053 - val_loss: 0.0039\n",
      "Epoch 46/200\n",
      "120156/120156 [==============================] - 38s - loss: 0.0053 - val_loss: 0.0040\n",
      "Epoch 47/200\n",
      "120156/120156 [==============================] - 36s - loss: 0.0052 - val_loss: 0.0040\n",
      "Epoch 48/200\n",
      "120156/120156 [==============================] - 28s - loss: 0.0052 - val_loss: 0.0040\n",
      "Epoch 49/200\n",
      "120156/120156 [==============================] - 33s - loss: 0.0052 - val_loss: 0.0040\n",
      "Epoch 50/200\n",
      "120156/120156 [==============================] - 35s - loss: 0.0052 - val_loss: 0.0040\n",
      "Epoch 51/200\n",
      "120156/120156 [==============================] - 26s - loss: 0.0052 - val_loss: 0.0040\n",
      "Epoch 52/200\n",
      "120156/120156 [==============================] - 34s - loss: 0.0052 - val_loss: 0.0040\n",
      "Epoch 53/200\n",
      "    \n"
     ]
    },
    {
     "name": "stderr",
     "output_type": "stream",
     "text": [
      "2017-03-20 17:46:03,750 : INFO : Found lower val loss for epoch 53 => 0.00392\n"
     ]
    },
    {
     "name": "stdout",
     "output_type": "stream",
     "text": [
      "120156/120156 [==============================] - 38s - loss: 0.0051 - val_loss: 0.0039\n",
      "Epoch 54/200\n",
      "    \n"
     ]
    },
    {
     "name": "stderr",
     "output_type": "stream",
     "text": [
      "2017-03-20 17:46:44,344 : INFO : Found lower val loss for epoch 54 => 0.0039\n"
     ]
    },
    {
     "name": "stdout",
     "output_type": "stream",
     "text": [
      "120156/120156 [==============================] - 40s - loss: 0.0051 - val_loss: 0.0039\n",
      "Epoch 55/200\n",
      "120156/120156 [==============================] - 41s - loss: 0.0051 - val_loss: 0.0039\n",
      "Epoch 56/200\n",
      "120156/120156 [==============================] - 27s - loss: 0.0051 - val_loss: 0.0039\n",
      "Epoch 57/200\n",
      "    \n"
     ]
    },
    {
     "name": "stderr",
     "output_type": "stream",
     "text": [
      "2017-03-20 17:48:32,939 : INFO : Found lower val loss for epoch 57 => 0.00389\n"
     ]
    },
    {
     "name": "stdout",
     "output_type": "stream",
     "text": [
      "120156/120156 [==============================] - 39s - loss: 0.0051 - val_loss: 0.0039\n",
      "Epoch 58/200\n",
      "120156/120156 [==============================] - 41s - loss: 0.0051 - val_loss: 0.0040\n",
      "Epoch 59/200\n",
      "120156/120156 [==============================] - 25s - loss: 0.0051 - val_loss: 0.0040\n",
      "Epoch 60/200\n",
      "    \n"
     ]
    },
    {
     "name": "stderr",
     "output_type": "stream",
     "text": [
      "2017-03-20 17:50:14,312 : INFO : Found lower val loss for epoch 60 => 0.00386\n"
     ]
    },
    {
     "name": "stdout",
     "output_type": "stream",
     "text": [
      "120156/120156 [==============================] - 34s - loss: 0.0050 - val_loss: 0.0039\n",
      "Epoch 61/200\n",
      "120156/120156 [==============================] - 37s - loss: 0.0050 - val_loss: 0.0039\n",
      "Epoch 62/200\n",
      "    \n"
     ]
    },
    {
     "name": "stderr",
     "output_type": "stream",
     "text": [
      "2017-03-20 17:51:32,455 : INFO : Found lower val loss for epoch 62 => 0.00386\n"
     ]
    },
    {
     "name": "stdout",
     "output_type": "stream",
     "text": [
      "120156/120156 [==============================] - 40s - loss: 0.0050 - val_loss: 0.0039\n",
      "Epoch 63/200\n",
      "120156/120156 [==============================] - 40s - loss: 0.0050 - val_loss: 0.0039\n",
      "Epoch 64/200\n",
      "120156/120156 [==============================] - 36s - loss: 0.0050 - val_loss: 0.0039\n",
      "Epoch 65/200\n",
      "120156/120156 [==============================] - 29s - loss: 0.0050 - val_loss: 0.0039\n",
      "Epoch 66/200\n",
      "120156/120156 [==============================] - 43s - loss: 0.0050 - val_loss: 0.0039\n",
      "Epoch 67/200\n",
      "120156/120156 [==============================] - 41s - loss: 0.0050 - val_loss: 0.0039\n",
      "Epoch 68/200\n",
      "120156/120156 [==============================] - 38s - loss: 0.0050 - val_loss: 0.0039\n",
      "Epoch 69/200\n",
      "120156/120156 [==============================] - 28s - loss: 0.0050 - val_loss: 0.0039\n",
      "Epoch 70/200\n",
      "120156/120156 [==============================] - 38s - loss: 0.0050 - val_loss: 0.0039\n",
      "Epoch 71/200\n",
      "    \n"
     ]
    },
    {
     "name": "stderr",
     "output_type": "stream",
     "text": [
      "2017-03-20 17:57:14,551 : INFO : Found lower val loss for epoch 71 => 0.00385\n"
     ]
    },
    {
     "name": "stdout",
     "output_type": "stream",
     "text": [
      "120156/120156 [==============================] - 42s - loss: 0.0049 - val_loss: 0.0038\n",
      "Epoch 72/200\n",
      "120156/120156 [==============================] - 42s - loss: 0.0049 - val_loss: 0.0039\n",
      "Epoch 73/200\n",
      "120156/120156 [==============================] - 40s - loss: 0.0049 - val_loss: 0.0039\n",
      "Epoch 74/200\n",
      "120156/120156 [==============================] - 41s - loss: 0.0049 - val_loss: 0.0039\n",
      "Epoch 75/200\n",
      "    \n"
     ]
    },
    {
     "name": "stderr",
     "output_type": "stream",
     "text": [
      "2017-03-20 17:59:47,319 : INFO : Found lower val loss for epoch 75 => 0.00379\n"
     ]
    },
    {
     "name": "stdout",
     "output_type": "stream",
     "text": [
      "120156/120156 [==============================] - 28s - loss: 0.0049 - val_loss: 0.0038\n",
      "Epoch 76/200\n",
      "120156/120156 [==============================] - 37s - loss: 0.0049 - val_loss: 0.0039\n",
      "Epoch 77/200\n",
      "120156/120156 [==============================] - 34s - loss: 0.0049 - val_loss: 0.0039\n",
      "Epoch 78/200\n",
      "120156/120156 [==============================] - 33s - loss: 0.0049 - val_loss: 0.0039\n",
      "Epoch 79/200\n",
      "120156/120156 [==============================] - 27s - loss: 0.0049 - val_loss: 0.0038\n",
      "Epoch 80/200\n",
      "120156/120156 [==============================] - 38s - loss: 0.0049 - val_loss: 0.0039\n",
      "Epoch 81/200\n",
      "120156/120156 [==============================] - 31s - loss: 0.0048 - val_loss: 0.0039\n",
      "Epoch 82/200\n",
      "120156/120156 [==============================] - 29s - loss: 0.0048 - val_loss: 0.0038\n",
      "Epoch 83/200\n",
      "120156/120156 [==============================] - 38s - loss: 0.0048 - val_loss: 0.0038\n",
      "Epoch 84/200\n",
      "120156/120156 [==============================] - 37s - loss: 0.0048 - val_loss: 0.0039\n",
      "Epoch 85/200\n",
      "120156/120156 [==============================] - 25s - loss: 0.0048 - val_loss: 0.0038\n",
      "Epoch 86/200\n",
      "120156/120156 [==============================] - 36s - loss: 0.0048 - val_loss: 0.0038"
     ]
    },
    {
     "name": "stderr",
     "output_type": "stream",
     "text": [
      "2017-03-20 18:05:57,391 : INFO : Evaluating on Training Data\n"
     ]
    },
    {
     "name": "stdout",
     "output_type": "stream",
     "text": [
      "\n",
      "Epoch 00085: early stopping\n",
      "CPU times: user 15min 15s, sys: 27min 5s, total: 42min 20s\n",
      "Wall time: 50min 54s\n"
     ]
    },
    {
     "name": "stderr",
     "output_type": "stream",
     "text": [
      "2017-03-20 18:08:12,013 : INFO : Generating Training Metrics\n",
      "2017-03-20 18:08:58,029 : INFO : Evaluating on Validation Data using saved best weights\n"
     ]
    },
    {
     "name": "stdout",
     "output_type": "stream",
     "text": [
      "****** Training Metrics: Cov Err: 6.376 | Top 3: 0.716 | Top 5: 0.802 | F1 Micro: 0.535 | F1 Macro: 0.157\n"
     ]
    },
    {
     "name": "stderr",
     "output_type": "stream",
     "text": [
      "2017-03-20 18:09:21,643 : INFO : Generating Validation Metrics\n"
     ]
    },
    {
     "name": "stdout",
     "output_type": "stream",
     "text": [
      "****** Validation Metrics: Cov Err: 10.112 | Top 3: 0.699 | Top 5: 0.786 | F1 Micro: 0.518 | F1 Macro: 0.097\n"
     ]
    },
    {
     "name": "stderr",
     "output_type": "stream",
     "text": [
      "2017-03-20 18:09:32,409 : INFO : ***************************************************************************************\n",
      "2017-03-20 18:09:32,412 : INFO : lstm_optimizer_rmsprop_size_300_w-drop_0.5_u-drop_0.5_stack_2_conv_None\n"
     ]
    },
    {
     "name": "stdout",
     "output_type": "stream",
     "text": [
      "____________________________________________________________________________________________________\n",
      "Layer (type)                     Output Shape          Param #     Connected to                     \n",
      "====================================================================================================\n",
      "lstm_300_u-drop_0.5_w-drop_0.5_l (None, None, 300)     601200      lstm_input_3[0][0]               \n",
      "____________________________________________________________________________________________________\n",
      "lstm_300_u-drop_0.5_w-drop_0.5_l (None, 300)           721200      lstm_300_u-drop_0.5_w-drop_0.5_la\n",
      "____________________________________________________________________________________________________\n",
      "sigmoid_output (Dense)           (None, 940)           282940      lstm_300_u-drop_0.5_w-drop_0.5_la\n",
      "====================================================================================================\n",
      "Total params: 1605340\n",
      "____________________________________________________________________________________________________\n",
      "Train on 120156 samples, validate on 29675 samples\n",
      "Epoch 1/200\n",
      "    \n"
     ]
    },
    {
     "name": "stderr",
     "output_type": "stream",
     "text": [
      "2017-03-20 18:10:20,809 : INFO : Found lower val loss for epoch 1 => 0.00853\n"
     ]
    },
    {
     "name": "stdout",
     "output_type": "stream",
     "text": [
      "120156/120156 [==============================] - 11s - loss: 0.0579 - val_loss: 0.0085\n",
      "Epoch 2/200\n",
      "    \n"
     ]
    },
    {
     "name": "stderr",
     "output_type": "stream",
     "text": [
      "2017-03-20 18:10:36,266 : INFO : Found lower val loss for epoch 2 => 0.00835\n"
     ]
    },
    {
     "name": "stdout",
     "output_type": "stream",
     "text": [
      "120156/120156 [==============================] - 15s - loss: 0.0102 - val_loss: 0.0083\n",
      "Epoch 3/200\n",
      "    \n"
     ]
    },
    {
     "name": "stderr",
     "output_type": "stream",
     "text": [
      "2017-03-20 18:10:51,694 : INFO : Found lower val loss for epoch 3 => 0.00745\n"
     ]
    },
    {
     "name": "stdout",
     "output_type": "stream",
     "text": [
      "120156/120156 [==============================] - 15s - loss: 0.0098 - val_loss: 0.0075\n",
      "Epoch 4/200\n",
      "    \n"
     ]
    },
    {
     "name": "stderr",
     "output_type": "stream",
     "text": [
      "2017-03-20 18:11:09,642 : INFO : Found lower val loss for epoch 4 => 0.00687\n"
     ]
    },
    {
     "name": "stdout",
     "output_type": "stream",
     "text": [
      "120156/120156 [==============================] - 17s - loss: 0.0089 - val_loss: 0.0069\n",
      "Epoch 5/200\n",
      "    \n"
     ]
    },
    {
     "name": "stderr",
     "output_type": "stream",
     "text": [
      "2017-03-20 18:11:22,492 : INFO : Found lower val loss for epoch 5 => 0.00628\n"
     ]
    },
    {
     "name": "stdout",
     "output_type": "stream",
     "text": [
      "120156/120156 [==============================] - 12s - loss: 0.0084 - val_loss: 0.0063\n",
      "Epoch 6/200\n",
      "    \n"
     ]
    },
    {
     "name": "stderr",
     "output_type": "stream",
     "text": [
      "2017-03-20 18:11:33,412 : INFO : Found lower val loss for epoch 6 => 0.00585\n"
     ]
    },
    {
     "name": "stdout",
     "output_type": "stream",
     "text": [
      "120156/120156 [==============================] - 10s - loss: 0.0078 - val_loss: 0.0059\n",
      "Epoch 7/200\n",
      "    \n"
     ]
    },
    {
     "name": "stderr",
     "output_type": "stream",
     "text": [
      "2017-03-20 18:11:51,677 : INFO : Found lower val loss for epoch 7 => 0.00549\n"
     ]
    },
    {
     "name": "stdout",
     "output_type": "stream",
     "text": [
      "120156/120156 [==============================] - 18s - loss: 0.0074 - val_loss: 0.0055\n",
      "Epoch 8/200\n",
      "    \n"
     ]
    },
    {
     "name": "stderr",
     "output_type": "stream",
     "text": [
      "2017-03-20 18:12:09,644 : INFO : Found lower val loss for epoch 8 => 0.00533\n"
     ]
    },
    {
     "name": "stdout",
     "output_type": "stream",
     "text": [
      "120156/120156 [==============================] - 17s - loss: 0.0072 - val_loss: 0.0053\n",
      "Epoch 9/200\n",
      "    \n"
     ]
    },
    {
     "name": "stderr",
     "output_type": "stream",
     "text": [
      "2017-03-20 18:12:28,210 : INFO : Found lower val loss for epoch 9 => 0.00522\n"
     ]
    },
    {
     "name": "stdout",
     "output_type": "stream",
     "text": [
      "120156/120156 [==============================] - 18s - loss: 0.0070 - val_loss: 0.0052\n",
      "Epoch 10/200\n",
      "    \n"
     ]
    },
    {
     "name": "stderr",
     "output_type": "stream",
     "text": [
      "2017-03-20 18:12:47,351 : INFO : Found lower val loss for epoch 10 => 0.00514\n"
     ]
    },
    {
     "name": "stdout",
     "output_type": "stream",
     "text": [
      "120156/120156 [==============================] - 19s - loss: 0.0068 - val_loss: 0.0051\n",
      "Epoch 11/200\n",
      "    \n"
     ]
    },
    {
     "name": "stderr",
     "output_type": "stream",
     "text": [
      "2017-03-20 18:13:05,706 : INFO : Found lower val loss for epoch 11 => 0.00494\n"
     ]
    },
    {
     "name": "stdout",
     "output_type": "stream",
     "text": [
      "120156/120156 [==============================] - 18s - loss: 0.0066 - val_loss: 0.0049\n",
      "Epoch 12/200\n",
      "    \n"
     ]
    },
    {
     "name": "stderr",
     "output_type": "stream",
     "text": [
      "2017-03-20 18:13:23,850 : INFO : Found lower val loss for epoch 12 => 0.00482\n"
     ]
    },
    {
     "name": "stdout",
     "output_type": "stream",
     "text": [
      "120156/120156 [==============================] - 18s - loss: 0.0065 - val_loss: 0.0048\n",
      "Epoch 13/200\n",
      "120156/120156 [==============================] - 11s - loss: 0.0064 - val_loss: 0.0048\n",
      "Epoch 14/200\n",
      "    \n"
     ]
    },
    {
     "name": "stderr",
     "output_type": "stream",
     "text": [
      "2017-03-20 18:13:46,436 : INFO : Found lower val loss for epoch 14 => 0.0048\n"
     ]
    },
    {
     "name": "stdout",
     "output_type": "stream",
     "text": [
      "120156/120156 [==============================] - 10s - loss: 0.0063 - val_loss: 0.0048\n",
      "Epoch 15/200\n",
      "    \n"
     ]
    },
    {
     "name": "stderr",
     "output_type": "stream",
     "text": [
      "2017-03-20 18:14:07,026 : INFO : Found lower val loss for epoch 15 => 0.0046\n"
     ]
    },
    {
     "name": "stdout",
     "output_type": "stream",
     "text": [
      "120156/120156 [==============================] - 20s - loss: 0.0062 - val_loss: 0.0046\n",
      "Epoch 16/200\n",
      "120156/120156 [==============================] - 21s - loss: 0.0061 - val_loss: 0.0046\n",
      "Epoch 17/200\n",
      "    \n"
     ]
    },
    {
     "name": "stderr",
     "output_type": "stream",
     "text": [
      "2017-03-20 18:14:50,226 : INFO : Found lower val loss for epoch 17 => 0.00452\n"
     ]
    },
    {
     "name": "stdout",
     "output_type": "stream",
     "text": [
      "120156/120156 [==============================] - 21s - loss: 0.0060 - val_loss: 0.0045\n",
      "Epoch 18/200\n",
      "120156/120156 [==============================] - 22s - loss: 0.0060 - val_loss: 0.0045\n",
      "Epoch 19/200\n",
      "    \n"
     ]
    },
    {
     "name": "stderr",
     "output_type": "stream",
     "text": [
      "2017-03-20 18:15:34,007 : INFO : Found lower val loss for epoch 19 => 0.0044\n"
     ]
    },
    {
     "name": "stdout",
     "output_type": "stream",
     "text": [
      "120156/120156 [==============================] - 21s - loss: 0.0059 - val_loss: 0.0044\n",
      "Epoch 20/200\n",
      "    \n"
     ]
    },
    {
     "name": "stderr",
     "output_type": "stream",
     "text": [
      "2017-03-20 18:15:52,272 : INFO : Found lower val loss for epoch 20 => 0.00434\n"
     ]
    },
    {
     "name": "stdout",
     "output_type": "stream",
     "text": [
      "120156/120156 [==============================] - 18s - loss: 0.0059 - val_loss: 0.0043\n",
      "Epoch 21/200\n",
      "    \n"
     ]
    },
    {
     "name": "stderr",
     "output_type": "stream",
     "text": [
      "2017-03-20 18:16:03,166 : INFO : Found lower val loss for epoch 21 => 0.00434\n"
     ]
    },
    {
     "name": "stdout",
     "output_type": "stream",
     "text": [
      "120156/120156 [==============================] - 10s - loss: 0.0058 - val_loss: 0.0043\n",
      "Epoch 22/200\n",
      "    \n"
     ]
    },
    {
     "name": "stderr",
     "output_type": "stream",
     "text": [
      "2017-03-20 18:16:17,242 : INFO : Found lower val loss for epoch 22 => 0.00431\n"
     ]
    },
    {
     "name": "stdout",
     "output_type": "stream",
     "text": [
      "120156/120156 [==============================] - 14s - loss: 0.0058 - val_loss: 0.0043\n",
      "Epoch 23/200\n",
      "    \n"
     ]
    },
    {
     "name": "stderr",
     "output_type": "stream",
     "text": [
      "2017-03-20 18:16:36,593 : INFO : Found lower val loss for epoch 23 => 0.00427\n"
     ]
    },
    {
     "name": "stdout",
     "output_type": "stream",
     "text": [
      "120156/120156 [==============================] - 19s - loss: 0.0057 - val_loss: 0.0043\n",
      "Epoch 24/200\n",
      "120156/120156 [==============================] - 19s - loss: 0.0057 - val_loss: 0.0044\n",
      "Epoch 25/200\n",
      "    \n"
     ]
    },
    {
     "name": "stderr",
     "output_type": "stream",
     "text": [
      "2017-03-20 18:17:15,670 : INFO : Found lower val loss for epoch 25 => 0.00416\n"
     ]
    },
    {
     "name": "stdout",
     "output_type": "stream",
     "text": [
      "120156/120156 [==============================] - 19s - loss: 0.0056 - val_loss: 0.0042\n",
      "Epoch 26/200\n",
      "120156/120156 [==============================] - 18s - loss: 0.0056 - val_loss: 0.0043\n",
      "Epoch 27/200\n",
      "    \n"
     ]
    },
    {
     "name": "stderr",
     "output_type": "stream",
     "text": [
      "2017-03-20 18:17:54,443 : INFO : Found lower val loss for epoch 27 => 0.00413\n"
     ]
    },
    {
     "name": "stdout",
     "output_type": "stream",
     "text": [
      "120156/120156 [==============================] - 19s - loss: 0.0056 - val_loss: 0.0041\n",
      "Epoch 28/200\n",
      "    \n"
     ]
    },
    {
     "name": "stderr",
     "output_type": "stream",
     "text": [
      "2017-03-20 18:18:14,769 : INFO : Found lower val loss for epoch 28 => 0.00413\n"
     ]
    },
    {
     "name": "stdout",
     "output_type": "stream",
     "text": [
      "120156/120156 [==============================] - 20s - loss: 0.0055 - val_loss: 0.0041\n",
      "Epoch 29/200\n",
      "120156/120156 [==============================] - 20s - loss: 0.0055 - val_loss: 0.0042\n",
      "Epoch 30/200\n",
      "    \n"
     ]
    },
    {
     "name": "stderr",
     "output_type": "stream",
     "text": [
      "2017-03-20 18:18:49,119 : INFO : Found lower val loss for epoch 30 => 0.00412\n"
     ]
    },
    {
     "name": "stdout",
     "output_type": "stream",
     "text": [
      "120156/120156 [==============================] - 14s - loss: 0.0055 - val_loss: 0.0041\n",
      "Epoch 31/200\n",
      "120156/120156 [==============================] - 10s - loss: 0.0054 - val_loss: 0.0042\n",
      "Epoch 32/200\n",
      "    \n"
     ]
    },
    {
     "name": "stderr",
     "output_type": "stream",
     "text": [
      "2017-03-20 18:19:16,545 : INFO : Found lower val loss for epoch 32 => 0.00412\n"
     ]
    },
    {
     "name": "stdout",
     "output_type": "stream",
     "text": [
      "120156/120156 [==============================] - 16s - loss: 0.0054 - val_loss: 0.0041\n",
      "Epoch 33/200\n",
      "    \n"
     ]
    },
    {
     "name": "stderr",
     "output_type": "stream",
     "text": [
      "2017-03-20 18:19:34,492 : INFO : Found lower val loss for epoch 33 => 0.00403\n"
     ]
    },
    {
     "name": "stdout",
     "output_type": "stream",
     "text": [
      "120156/120156 [==============================] - 17s - loss: 0.0054 - val_loss: 0.0040\n",
      "Epoch 34/200\n",
      "120156/120156 [==============================] - 18s - loss: 0.0054 - val_loss: 0.0041\n",
      "Epoch 35/200\n",
      "    \n"
     ]
    },
    {
     "name": "stderr",
     "output_type": "stream",
     "text": [
      "2017-03-20 18:20:11,073 : INFO : Found lower val loss for epoch 35 => 0.004\n"
     ]
    },
    {
     "name": "stdout",
     "output_type": "stream",
     "text": [
      "120156/120156 [==============================] - 18s - loss: 0.0053 - val_loss: 0.0040\n",
      "Epoch 36/200\n",
      "120156/120156 [==============================] - 18s - loss: 0.0053 - val_loss: 0.0040\n",
      "Epoch 37/200\n",
      "120156/120156 [==============================] - 18s - loss: 0.0053 - val_loss: 0.0041\n",
      "Epoch 38/200\n",
      "120156/120156 [==============================] - 18s - loss: 0.0053 - val_loss: 0.0041\n",
      "Epoch 39/200\n",
      "120156/120156 [==============================] - 10s - loss: 0.0053 - val_loss: 0.0041\n",
      "Epoch 40/200\n",
      "120156/120156 [==============================] - 11s - loss: 0.0052 - val_loss: 0.0041\n",
      "Epoch 41/200\n",
      "120156/120156 [==============================] - 17s - loss: 0.0052 - val_loss: 0.0040\n",
      "Epoch 42/200\n",
      "120156/120156 [==============================] - 18s - loss: 0.0052 - val_loss: 0.0040\n",
      "Epoch 43/200\n",
      "120156/120156 [==============================] - 18s - loss: 0.0052 - val_loss: 0.0041\n",
      "Epoch 44/200\n",
      "120156/120156 [==============================] - 17s - loss: 0.0052 - val_loss: 0.0040\n",
      "Epoch 45/200\n",
      "    \n"
     ]
    },
    {
     "name": "stderr",
     "output_type": "stream",
     "text": [
      "2017-03-20 18:22:51,679 : INFO : Found lower val loss for epoch 45 => 0.00398\n"
     ]
    },
    {
     "name": "stdout",
     "output_type": "stream",
     "text": [
      "120156/120156 [==============================] - 11s - loss: 0.0052 - val_loss: 0.0040\n",
      "Epoch 46/200\n",
      "120156/120156 [==============================] - 13s - loss: 0.0051 - val_loss: 0.0041\n",
      "Epoch 47/200\n",
      "120156/120156 [==============================] - 19s - loss: 0.0051 - val_loss: 0.0040\n",
      "Epoch 48/200\n",
      "    \n"
     ]
    },
    {
     "name": "stderr",
     "output_type": "stream",
     "text": [
      "2017-03-20 18:23:43,125 : INFO : Found lower val loss for epoch 48 => 0.00392\n"
     ]
    },
    {
     "name": "stdout",
     "output_type": "stream",
     "text": [
      "120156/120156 [==============================] - 19s - loss: 0.0051 - val_loss: 0.0039\n",
      "Epoch 49/200\n",
      "120156/120156 [==============================] - 20s - loss: 0.0051 - val_loss: 0.0040\n",
      "Epoch 50/200\n",
      "120156/120156 [==============================] - 13s - loss: 0.0051 - val_loss: 0.0040\n",
      "Epoch 51/200\n",
      "120156/120156 [==============================] - 11s - loss: 0.0051 - val_loss: 0.0040\n",
      "Epoch 52/200\n",
      "    \n"
     ]
    },
    {
     "name": "stderr",
     "output_type": "stream",
     "text": [
      "2017-03-20 18:24:38,697 : INFO : Found lower val loss for epoch 52 => 0.0039\n"
     ]
    },
    {
     "name": "stdout",
     "output_type": "stream",
     "text": [
      "120156/120156 [==============================] - 11s - loss: 0.0051 - val_loss: 0.0039\n",
      "Epoch 53/200\n",
      "    \n"
     ]
    },
    {
     "name": "stderr",
     "output_type": "stream",
     "text": [
      "2017-03-20 18:24:49,785 : INFO : Found lower val loss for epoch 53 => 0.00389\n"
     ]
    },
    {
     "name": "stdout",
     "output_type": "stream",
     "text": [
      "120156/120156 [==============================] - 11s - loss: 0.0050 - val_loss: 0.0039\n",
      "Epoch 54/200\n",
      "120156/120156 [==============================] - 11s - loss: 0.0050 - val_loss: 0.0040\n",
      "Epoch 55/200\n",
      "    \n"
     ]
    },
    {
     "name": "stderr",
     "output_type": "stream",
     "text": [
      "2017-03-20 18:25:12,223 : INFO : Found lower val loss for epoch 55 => 0.00387\n"
     ]
    },
    {
     "name": "stdout",
     "output_type": "stream",
     "text": [
      "120156/120156 [==============================] - 11s - loss: 0.0050 - val_loss: 0.0039\n",
      "Epoch 56/200\n",
      "120156/120156 [==============================] - 11s - loss: 0.0050 - val_loss: 0.0039\n",
      "Epoch 57/200\n",
      "120156/120156 [==============================] - 10s - loss: 0.0050 - val_loss: 0.0040\n",
      "Epoch 58/200\n",
      "    \n"
     ]
    },
    {
     "name": "stderr",
     "output_type": "stream",
     "text": [
      "2017-03-20 18:25:45,319 : INFO : Found lower val loss for epoch 58 => 0.00383\n"
     ]
    },
    {
     "name": "stdout",
     "output_type": "stream",
     "text": [
      "120156/120156 [==============================] - 10s - loss: 0.0050 - val_loss: 0.0038\n",
      "Epoch 59/200\n",
      "120156/120156 [==============================] - 10s - loss: 0.0050 - val_loss: 0.0038\n",
      "Epoch 60/200\n",
      "120156/120156 [==============================] - 10s - loss: 0.0050 - val_loss: 0.0039\n",
      "Epoch 61/200\n",
      "120156/120156 [==============================] - 10s - loss: 0.0050 - val_loss: 0.0039\n",
      "Epoch 62/200\n",
      "120156/120156 [==============================] - 11s - loss: 0.0050 - val_loss: 0.0039\n",
      "Epoch 63/200\n",
      "120156/120156 [==============================] - 10s - loss: 0.0049 - val_loss: 0.0039\n",
      "Epoch 64/200\n",
      "    \n"
     ]
    },
    {
     "name": "stderr",
     "output_type": "stream",
     "text": [
      "2017-03-20 18:26:50,444 : INFO : Found lower val loss for epoch 64 => 0.00383\n"
     ]
    },
    {
     "name": "stdout",
     "output_type": "stream",
     "text": [
      "120156/120156 [==============================] - 10s - loss: 0.0049 - val_loss: 0.0038\n",
      "Epoch 65/200\n",
      "    \n"
     ]
    },
    {
     "name": "stderr",
     "output_type": "stream",
     "text": [
      "2017-03-20 18:27:01,481 : INFO : Found lower val loss for epoch 65 => 0.00382\n"
     ]
    },
    {
     "name": "stdout",
     "output_type": "stream",
     "text": [
      "120156/120156 [==============================] - 11s - loss: 0.0049 - val_loss: 0.0038\n",
      "Epoch 66/200\n",
      "120156/120156 [==============================] - 11s - loss: 0.0049 - val_loss: 0.0039\n",
      "Epoch 67/200\n",
      "120156/120156 [==============================] - 11s - loss: 0.0049 - val_loss: 0.0038\n",
      "Epoch 68/200\n",
      "120156/120156 [==============================] - 10s - loss: 0.0049 - val_loss: 0.0039\n",
      "Epoch 69/200\n",
      "    \n"
     ]
    },
    {
     "name": "stderr",
     "output_type": "stream",
     "text": [
      "2017-03-20 18:27:45,772 : INFO : Found lower val loss for epoch 69 => 0.00381\n"
     ]
    },
    {
     "name": "stdout",
     "output_type": "stream",
     "text": [
      "120156/120156 [==============================] - 10s - loss: 0.0049 - val_loss: 0.0038\n",
      "Epoch 70/200\n",
      "120156/120156 [==============================] - 10s - loss: 0.0049 - val_loss: 0.0039\n",
      "Epoch 71/200\n",
      "120156/120156 [==============================] - 10s - loss: 0.0049 - val_loss: 0.0039\n",
      "Epoch 72/200\n",
      "    \n"
     ]
    },
    {
     "name": "stderr",
     "output_type": "stream",
     "text": [
      "2017-03-20 18:28:18,083 : INFO : Found lower val loss for epoch 72 => 0.00376\n"
     ]
    },
    {
     "name": "stdout",
     "output_type": "stream",
     "text": [
      "120156/120156 [==============================] - 10s - loss: 0.0049 - val_loss: 0.0038\n",
      "Epoch 73/200\n",
      "120156/120156 [==============================] - 10s - loss: 0.0049 - val_loss: 0.0038\n",
      "Epoch 74/200\n",
      "120156/120156 [==============================] - 11s - loss: 0.0048 - val_loss: 0.0038\n",
      "Epoch 75/200\n",
      "120156/120156 [==============================] - 10s - loss: 0.0048 - val_loss: 0.0038\n",
      "Epoch 76/200\n",
      "120156/120156 [==============================] - 11s - loss: 0.0048 - val_loss: 0.0039\n",
      "Epoch 77/200\n",
      "120156/120156 [==============================] - 10s - loss: 0.0048 - val_loss: 0.0038\n",
      "Epoch 78/200\n",
      "120156/120156 [==============================] - 11s - loss: 0.0048 - val_loss: 0.0039\n",
      "Epoch 79/200\n",
      "120156/120156 [==============================] - 10s - loss: 0.0048 - val_loss: 0.0038\n",
      "Epoch 80/200\n",
      "120156/120156 [==============================] - 11s - loss: 0.0048 - val_loss: 0.0039\n",
      "Epoch 81/200\n",
      "120156/120156 [==============================] - 10s - loss: 0.0048 - val_loss: 0.0038\n",
      "Epoch 82/200\n",
      "120156/120156 [==============================] - 10s - loss: 0.0048 - val_loss: 0.0038\n",
      "Epoch 83/200\n",
      "120156/120156 [==============================] - 11s - loss: 0.0048 - val_loss: 0.0038"
     ]
    },
    {
     "name": "stderr",
     "output_type": "stream",
     "text": [
      "2017-03-20 18:30:18,359 : INFO : Evaluating on Training Data\n"
     ]
    },
    {
     "name": "stdout",
     "output_type": "stream",
     "text": [
      "\n",
      "Epoch 00082: early stopping\n",
      "CPU times: user 6min 52s, sys: 11min 31s, total: 18min 23s\n",
      "Wall time: 20min 43s\n"
     ]
    },
    {
     "name": "stderr",
     "output_type": "stream",
     "text": [
      "2017-03-20 18:31:12,848 : INFO : Generating Training Metrics\n",
      "2017-03-20 18:32:02,840 : INFO : Evaluating on Validation Data using saved best weights\n"
     ]
    },
    {
     "name": "stdout",
     "output_type": "stream",
     "text": [
      "****** Training Metrics: Cov Err: 7.460 | Top 3: 0.706 | Top 5: 0.793 | F1 Micro: 0.523 | F1 Macro: 0.133\n"
     ]
    },
    {
     "name": "stderr",
     "output_type": "stream",
     "text": [
      "2017-03-20 18:32:13,798 : INFO : Generating Validation Metrics\n"
     ]
    },
    {
     "name": "stdout",
     "output_type": "stream",
     "text": [
      "****** Validation Metrics: Cov Err: 10.141 | Top 3: 0.696 | Top 5: 0.784 | F1 Micro: 0.500 | F1 Macro: 0.085\n"
     ]
    },
    {
     "name": "stderr",
     "output_type": "stream",
     "text": [
      "2017-03-20 18:32:24,502 : INFO : ***************************************************************************************\n",
      "2017-03-20 18:32:24,504 : INFO : lstm_optimizer_rmsprop_size_200_w-drop_0.5_u-drop_0.4_stack_2_conv_None\n"
     ]
    },
    {
     "name": "stdout",
     "output_type": "stream",
     "text": [
      "____________________________________________________________________________________________________\n",
      "Layer (type)                     Output Shape          Param #     Connected to                     \n",
      "====================================================================================================\n",
      "lstm_200_u-drop_0.4_w-drop_0.5_l (None, None, 200)     320800      lstm_input_4[0][0]               \n",
      "____________________________________________________________________________________________________\n",
      "lstm_200_u-drop_0.4_w-drop_0.5_l (None, 200)           320800      lstm_200_u-drop_0.4_w-drop_0.5_la\n",
      "____________________________________________________________________________________________________\n",
      "sigmoid_output (Dense)           (None, 940)           188940      lstm_200_u-drop_0.4_w-drop_0.5_la\n",
      "====================================================================================================\n",
      "Total params: 830540\n",
      "____________________________________________________________________________________________________\n",
      "Train on 120156 samples, validate on 29675 samples\n",
      "Epoch 1/200\n",
      "    \n"
     ]
    },
    {
     "name": "stderr",
     "output_type": "stream",
     "text": [
      "2017-03-20 18:33:09,315 : INFO : Found lower val loss for epoch 1 => 0.00908\n"
     ]
    },
    {
     "name": "stdout",
     "output_type": "stream",
     "text": [
      "120156/120156 [==============================] - 8s - loss: 0.0727 - val_loss: 0.0091\n",
      "Epoch 2/200\n",
      "    \n"
     ]
    },
    {
     "name": "stderr",
     "output_type": "stream",
     "text": [
      "2017-03-20 18:33:16,351 : INFO : Found lower val loss for epoch 2 => 0.00835\n"
     ]
    },
    {
     "name": "stdout",
     "output_type": "stream",
     "text": [
      "120156/120156 [==============================] - 7s - loss: 0.0104 - val_loss: 0.0084\n",
      "Epoch 3/200\n",
      "    \n"
     ]
    },
    {
     "name": "stderr",
     "output_type": "stream",
     "text": [
      "2017-03-20 18:33:23,290 : INFO : Found lower val loss for epoch 3 => 0.00814\n"
     ]
    },
    {
     "name": "stdout",
     "output_type": "stream",
     "text": [
      "120156/120156 [==============================] - 6s - loss: 0.0102 - val_loss: 0.0081\n",
      "Epoch 4/200\n",
      "    \n"
     ]
    },
    {
     "name": "stderr",
     "output_type": "stream",
     "text": [
      "2017-03-20 18:33:30,180 : INFO : Found lower val loss for epoch 4 => 0.00751\n"
     ]
    },
    {
     "name": "stdout",
     "output_type": "stream",
     "text": [
      "120156/120156 [==============================] - 6s - loss: 0.0097 - val_loss: 0.0075\n",
      "Epoch 5/200\n",
      "    \n"
     ]
    },
    {
     "name": "stderr",
     "output_type": "stream",
     "text": [
      "2017-03-20 18:33:37,349 : INFO : Found lower val loss for epoch 5 => 0.00706\n"
     ]
    },
    {
     "name": "stdout",
     "output_type": "stream",
     "text": [
      "120156/120156 [==============================] - 7s - loss: 0.0090 - val_loss: 0.0071\n",
      "Epoch 6/200\n",
      "    \n"
     ]
    },
    {
     "name": "stderr",
     "output_type": "stream",
     "text": [
      "2017-03-20 18:33:44,426 : INFO : Found lower val loss for epoch 6 => 0.00662\n"
     ]
    },
    {
     "name": "stdout",
     "output_type": "stream",
     "text": [
      "120156/120156 [==============================] - 7s - loss: 0.0085 - val_loss: 0.0066\n",
      "Epoch 7/200\n",
      "    \n"
     ]
    },
    {
     "name": "stderr",
     "output_type": "stream",
     "text": [
      "2017-03-20 18:33:51,281 : INFO : Found lower val loss for epoch 7 => 0.00622\n"
     ]
    },
    {
     "name": "stdout",
     "output_type": "stream",
     "text": [
      "120156/120156 [==============================] - 6s - loss: 0.0081 - val_loss: 0.0062\n",
      "Epoch 8/200\n",
      "    \n"
     ]
    },
    {
     "name": "stderr",
     "output_type": "stream",
     "text": [
      "2017-03-20 18:33:58,324 : INFO : Found lower val loss for epoch 8 => 0.00596\n"
     ]
    },
    {
     "name": "stdout",
     "output_type": "stream",
     "text": [
      "120156/120156 [==============================] - 7s - loss: 0.0078 - val_loss: 0.0060\n",
      "Epoch 9/200\n",
      "    \n"
     ]
    },
    {
     "name": "stderr",
     "output_type": "stream",
     "text": [
      "2017-03-20 18:34:05,219 : INFO : Found lower val loss for epoch 9 => 0.00569\n"
     ]
    },
    {
     "name": "stdout",
     "output_type": "stream",
     "text": [
      "120156/120156 [==============================] - 6s - loss: 0.0075 - val_loss: 0.0057\n",
      "Epoch 10/200\n",
      "    \n"
     ]
    },
    {
     "name": "stderr",
     "output_type": "stream",
     "text": [
      "2017-03-20 18:34:12,340 : INFO : Found lower val loss for epoch 10 => 0.00552\n"
     ]
    },
    {
     "name": "stdout",
     "output_type": "stream",
     "text": [
      "120156/120156 [==============================] - 7s - loss: 0.0073 - val_loss: 0.0055\n",
      "Epoch 11/200\n",
      "    \n"
     ]
    },
    {
     "name": "stderr",
     "output_type": "stream",
     "text": [
      "2017-03-20 18:34:19,317 : INFO : Found lower val loss for epoch 11 => 0.00536\n"
     ]
    },
    {
     "name": "stdout",
     "output_type": "stream",
     "text": [
      "120156/120156 [==============================] - 6s - loss: 0.0071 - val_loss: 0.0054\n",
      "Epoch 12/200\n",
      "    \n"
     ]
    },
    {
     "name": "stderr",
     "output_type": "stream",
     "text": [
      "2017-03-20 18:34:26,535 : INFO : Found lower val loss for epoch 12 => 0.00522\n"
     ]
    },
    {
     "name": "stdout",
     "output_type": "stream",
     "text": [
      "120156/120156 [==============================] - 7s - loss: 0.0070 - val_loss: 0.0052\n",
      "Epoch 13/200\n",
      "    \n"
     ]
    },
    {
     "name": "stderr",
     "output_type": "stream",
     "text": [
      "2017-03-20 18:34:33,553 : INFO : Found lower val loss for epoch 13 => 0.00514\n"
     ]
    },
    {
     "name": "stdout",
     "output_type": "stream",
     "text": [
      "120156/120156 [==============================] - 7s - loss: 0.0068 - val_loss: 0.0051\n",
      "Epoch 14/200\n",
      "120156/120156 [==============================] - 6s - loss: 0.0067 - val_loss: 0.0051\n",
      "Epoch 15/200\n",
      "    \n"
     ]
    },
    {
     "name": "stderr",
     "output_type": "stream",
     "text": [
      "2017-03-20 18:34:47,037 : INFO : Found lower val loss for epoch 15 => 0.00498\n"
     ]
    },
    {
     "name": "stdout",
     "output_type": "stream",
     "text": [
      "120156/120156 [==============================] - 6s - loss: 0.0066 - val_loss: 0.0050\n",
      "Epoch 16/200\n",
      "    \n"
     ]
    },
    {
     "name": "stderr",
     "output_type": "stream",
     "text": [
      "2017-03-20 18:34:53,910 : INFO : Found lower val loss for epoch 16 => 0.00492\n"
     ]
    },
    {
     "name": "stdout",
     "output_type": "stream",
     "text": [
      "120156/120156 [==============================] - 6s - loss: 0.0065 - val_loss: 0.0049\n",
      "Epoch 17/200\n",
      "    \n"
     ]
    },
    {
     "name": "stderr",
     "output_type": "stream",
     "text": [
      "2017-03-20 18:35:01,112 : INFO : Found lower val loss for epoch 17 => 0.00482\n"
     ]
    },
    {
     "name": "stdout",
     "output_type": "stream",
     "text": [
      "120156/120156 [==============================] - 7s - loss: 0.0064 - val_loss: 0.0048\n",
      "Epoch 18/200\n",
      "120156/120156 [==============================] - 6s - loss: 0.0063 - val_loss: 0.0048\n",
      "Epoch 19/200\n",
      "    \n"
     ]
    },
    {
     "name": "stderr",
     "output_type": "stream",
     "text": [
      "2017-03-20 18:35:14,908 : INFO : Found lower val loss for epoch 19 => 0.00471\n"
     ]
    },
    {
     "name": "stdout",
     "output_type": "stream",
     "text": [
      "120156/120156 [==============================] - 7s - loss: 0.0063 - val_loss: 0.0047\n",
      "Epoch 20/200\n",
      "    \n"
     ]
    },
    {
     "name": "stderr",
     "output_type": "stream",
     "text": [
      "2017-03-20 18:35:22,037 : INFO : Found lower val loss for epoch 20 => 0.00469\n"
     ]
    },
    {
     "name": "stdout",
     "output_type": "stream",
     "text": [
      "120156/120156 [==============================] - 7s - loss: 0.0062 - val_loss: 0.0047\n",
      "Epoch 21/200\n",
      "    \n"
     ]
    },
    {
     "name": "stderr",
     "output_type": "stream",
     "text": [
      "2017-03-20 18:35:28,956 : INFO : Found lower val loss for epoch 21 => 0.00466\n"
     ]
    },
    {
     "name": "stdout",
     "output_type": "stream",
     "text": [
      "120156/120156 [==============================] - 6s - loss: 0.0062 - val_loss: 0.0047\n",
      "Epoch 22/200\n",
      "    \n"
     ]
    },
    {
     "name": "stderr",
     "output_type": "stream",
     "text": [
      "2017-03-20 18:35:35,902 : INFO : Found lower val loss for epoch 22 => 0.00456\n"
     ]
    },
    {
     "name": "stdout",
     "output_type": "stream",
     "text": [
      "120156/120156 [==============================] - 6s - loss: 0.0061 - val_loss: 0.0046\n",
      "Epoch 23/200\n",
      "120156/120156 [==============================] - 6s - loss: 0.0061 - val_loss: 0.0046\n",
      "Epoch 24/200\n",
      "    \n"
     ]
    },
    {
     "name": "stderr",
     "output_type": "stream",
     "text": [
      "2017-03-20 18:35:49,492 : INFO : Found lower val loss for epoch 24 => 0.00452\n"
     ]
    },
    {
     "name": "stdout",
     "output_type": "stream",
     "text": [
      "120156/120156 [==============================] - 6s - loss: 0.0060 - val_loss: 0.0045\n",
      "Epoch 25/200\n",
      "120156/120156 [==============================] - 6s - loss: 0.0060 - val_loss: 0.0045\n",
      "Epoch 26/200\n",
      "    \n"
     ]
    },
    {
     "name": "stderr",
     "output_type": "stream",
     "text": [
      "2017-03-20 18:36:03,164 : INFO : Found lower val loss for epoch 26 => 0.0045\n"
     ]
    },
    {
     "name": "stdout",
     "output_type": "stream",
     "text": [
      "120156/120156 [==============================] - 6s - loss: 0.0059 - val_loss: 0.0045\n",
      "Epoch 27/200\n",
      "    \n"
     ]
    },
    {
     "name": "stderr",
     "output_type": "stream",
     "text": [
      "2017-03-20 18:36:10,052 : INFO : Found lower val loss for epoch 27 => 0.00445\n"
     ]
    },
    {
     "name": "stdout",
     "output_type": "stream",
     "text": [
      "120156/120156 [==============================] - 6s - loss: 0.0059 - val_loss: 0.0044\n",
      "Epoch 28/200\n",
      "120156/120156 [==============================] - 6s - loss: 0.0058 - val_loss: 0.0045\n",
      "Epoch 29/200\n",
      "    \n"
     ]
    },
    {
     "name": "stderr",
     "output_type": "stream",
     "text": [
      "2017-03-20 18:36:23,944 : INFO : Found lower val loss for epoch 29 => 0.00437\n"
     ]
    },
    {
     "name": "stdout",
     "output_type": "stream",
     "text": [
      "120156/120156 [==============================] - 6s - loss: 0.0058 - val_loss: 0.0044\n",
      "Epoch 30/200\n",
      "120156/120156 [==============================] - 6s - loss: 0.0058 - val_loss: 0.0044\n",
      "Epoch 31/200\n",
      "    \n"
     ]
    },
    {
     "name": "stderr",
     "output_type": "stream",
     "text": [
      "2017-03-20 18:36:37,886 : INFO : Found lower val loss for epoch 31 => 0.0043\n"
     ]
    },
    {
     "name": "stdout",
     "output_type": "stream",
     "text": [
      "120156/120156 [==============================] - 7s - loss: 0.0057 - val_loss: 0.0043\n",
      "Epoch 32/200\n",
      "120156/120156 [==============================] - 6s - loss: 0.0057 - val_loss: 0.0043\n",
      "Epoch 33/200\n",
      "120156/120156 [==============================] - 6s - loss: 0.0057 - val_loss: 0.0043\n",
      "Epoch 34/200\n",
      "    \n"
     ]
    },
    {
     "name": "stderr",
     "output_type": "stream",
     "text": [
      "2017-03-20 18:36:58,872 : INFO : Found lower val loss for epoch 34 => 0.00429\n"
     ]
    },
    {
     "name": "stdout",
     "output_type": "stream",
     "text": [
      "120156/120156 [==============================] - 7s - loss: 0.0057 - val_loss: 0.0043\n",
      "Epoch 35/200\n",
      "    \n"
     ]
    },
    {
     "name": "stderr",
     "output_type": "stream",
     "text": [
      "2017-03-20 18:37:06,246 : INFO : Found lower val loss for epoch 35 => 0.00423\n"
     ]
    },
    {
     "name": "stdout",
     "output_type": "stream",
     "text": [
      "120156/120156 [==============================] - 7s - loss: 0.0056 - val_loss: 0.0042\n",
      "Epoch 36/200\n",
      "120156/120156 [==============================] - 7s - loss: 0.0056 - val_loss: 0.0042\n",
      "Epoch 37/200\n",
      "120156/120156 [==============================] - 6s - loss: 0.0056 - val_loss: 0.0043\n",
      "Epoch 38/200\n",
      "    \n"
     ]
    },
    {
     "name": "stderr",
     "output_type": "stream",
     "text": [
      "2017-03-20 18:37:27,431 : INFO : Found lower val loss for epoch 38 => 0.0042\n"
     ]
    },
    {
     "name": "stdout",
     "output_type": "stream",
     "text": [
      "120156/120156 [==============================] - 7s - loss: 0.0056 - val_loss: 0.0042\n",
      "Epoch 39/200\n",
      "    \n"
     ]
    },
    {
     "name": "stderr",
     "output_type": "stream",
     "text": [
      "2017-03-20 18:37:34,564 : INFO : Found lower val loss for epoch 39 => 0.00418\n"
     ]
    },
    {
     "name": "stdout",
     "output_type": "stream",
     "text": [
      "120156/120156 [==============================] - 7s - loss: 0.0055 - val_loss: 0.0042\n",
      "Epoch 40/200\n",
      "    \n"
     ]
    },
    {
     "name": "stderr",
     "output_type": "stream",
     "text": [
      "2017-03-20 18:37:41,691 : INFO : Found lower val loss for epoch 40 => 0.00411\n"
     ]
    },
    {
     "name": "stdout",
     "output_type": "stream",
     "text": [
      "120156/120156 [==============================] - 7s - loss: 0.0055 - val_loss: 0.0041\n",
      "Epoch 41/200\n",
      "120156/120156 [==============================] - 7s - loss: 0.0055 - val_loss: 0.0042\n",
      "Epoch 42/200\n",
      "120156/120156 [==============================] - 6s - loss: 0.0055 - val_loss: 0.0042\n",
      "Epoch 43/200\n",
      "120156/120156 [==============================] - 7s - loss: 0.0055 - val_loss: 0.0042\n",
      "Epoch 44/200\n",
      "120156/120156 [==============================] - 7s - loss: 0.0055 - val_loss: 0.0041\n",
      "Epoch 45/200\n",
      "120156/120156 [==============================] - 7s - loss: 0.0054 - val_loss: 0.0041\n",
      "Epoch 46/200\n",
      "120156/120156 [==============================] - 7s - loss: 0.0054 - val_loss: 0.0041\n",
      "Epoch 47/200\n",
      "120156/120156 [==============================] - 6s - loss: 0.0054 - val_loss: 0.0041\n",
      "Epoch 48/200\n",
      "120156/120156 [==============================] - 7s - loss: 0.0054 - val_loss: 0.0042\n",
      "Epoch 49/200\n",
      "    \n"
     ]
    },
    {
     "name": "stderr",
     "output_type": "stream",
     "text": [
      "2017-03-20 18:38:46,372 : INFO : Found lower val loss for epoch 49 => 0.00407\n"
     ]
    },
    {
     "name": "stdout",
     "output_type": "stream",
     "text": [
      "120156/120156 [==============================] - 7s - loss: 0.0054 - val_loss: 0.0041\n",
      "Epoch 50/200\n",
      "120156/120156 [==============================] - 7s - loss: 0.0054 - val_loss: 0.0041\n",
      "Epoch 51/200\n",
      "    \n"
     ]
    },
    {
     "name": "stderr",
     "output_type": "stream",
     "text": [
      "2017-03-20 18:39:00,774 : INFO : Found lower val loss for epoch 51 => 0.00406\n"
     ]
    },
    {
     "name": "stdout",
     "output_type": "stream",
     "text": [
      "120156/120156 [==============================] - 7s - loss: 0.0054 - val_loss: 0.0041\n",
      "Epoch 52/200\n",
      "    \n"
     ]
    },
    {
     "name": "stderr",
     "output_type": "stream",
     "text": [
      "2017-03-20 18:39:08,232 : INFO : Found lower val loss for epoch 52 => 0.00403\n"
     ]
    },
    {
     "name": "stdout",
     "output_type": "stream",
     "text": [
      "120156/120156 [==============================] - 7s - loss: 0.0053 - val_loss: 0.0040\n",
      "Epoch 53/200\n",
      "    \n"
     ]
    },
    {
     "name": "stderr",
     "output_type": "stream",
     "text": [
      "2017-03-20 18:39:15,487 : INFO : Found lower val loss for epoch 53 => 0.00403\n"
     ]
    },
    {
     "name": "stdout",
     "output_type": "stream",
     "text": [
      "120156/120156 [==============================] - 7s - loss: 0.0053 - val_loss: 0.0040\n",
      "Epoch 54/200\n",
      "120156/120156 [==============================] - 7s - loss: 0.0053 - val_loss: 0.0041\n",
      "Epoch 55/200\n",
      "    \n"
     ]
    },
    {
     "name": "stderr",
     "output_type": "stream",
     "text": [
      "2017-03-20 18:39:29,808 : INFO : Found lower val loss for epoch 55 => 0.00397\n"
     ]
    },
    {
     "name": "stdout",
     "output_type": "stream",
     "text": [
      "120156/120156 [==============================] - 7s - loss: 0.0053 - val_loss: 0.0040\n",
      "Epoch 56/200\n",
      "    \n"
     ]
    },
    {
     "name": "stderr",
     "output_type": "stream",
     "text": [
      "2017-03-20 18:39:36,978 : INFO : Found lower val loss for epoch 56 => 0.00397\n"
     ]
    },
    {
     "name": "stdout",
     "output_type": "stream",
     "text": [
      "120156/120156 [==============================] - 7s - loss: 0.0053 - val_loss: 0.0040\n",
      "Epoch 57/200\n",
      "120156/120156 [==============================] - 7s - loss: 0.0053 - val_loss: 0.0041\n",
      "Epoch 58/200\n",
      "120156/120156 [==============================] - 6s - loss: 0.0053 - val_loss: 0.0041\n",
      "Epoch 59/200\n",
      "120156/120156 [==============================] - 7s - loss: 0.0053 - val_loss: 0.0041\n",
      "Epoch 60/200\n",
      "120156/120156 [==============================] - 7s - loss: 0.0053 - val_loss: 0.0040\n",
      "Epoch 61/200\n",
      "120156/120156 [==============================] - 7s - loss: 0.0052 - val_loss: 0.0040\n",
      "Epoch 62/200\n",
      "120156/120156 [==============================] - 7s - loss: 0.0052 - val_loss: 0.0041\n",
      "Epoch 63/200\n",
      "120156/120156 [==============================] - 7s - loss: 0.0052 - val_loss: 0.0040\n",
      "Epoch 64/200\n",
      "120156/120156 [==============================] - 7s - loss: 0.0052 - val_loss: 0.0040\n",
      "Epoch 65/200\n",
      "120156/120156 [==============================] - 7s - loss: 0.0052 - val_loss: 0.0040\n",
      "Epoch 66/200\n",
      "    \n"
     ]
    },
    {
     "name": "stderr",
     "output_type": "stream",
     "text": [
      "2017-03-20 18:40:49,652 : INFO : Found lower val loss for epoch 66 => 0.00394\n"
     ]
    },
    {
     "name": "stdout",
     "output_type": "stream",
     "text": [
      "120156/120156 [==============================] - 7s - loss: 0.0052 - val_loss: 0.0039\n",
      "Epoch 67/200\n",
      "120156/120156 [==============================] - 7s - loss: 0.0052 - val_loss: 0.0040\n",
      "Epoch 68/200\n",
      "120156/120156 [==============================] - 6s - loss: 0.0052 - val_loss: 0.0040\n",
      "Epoch 69/200\n",
      "120156/120156 [==============================] - 7s - loss: 0.0052 - val_loss: 0.0040\n",
      "Epoch 70/200\n",
      "    \n"
     ]
    },
    {
     "name": "stderr",
     "output_type": "stream",
     "text": [
      "2017-03-20 18:41:18,895 : INFO : Found lower val loss for epoch 70 => 0.00392\n"
     ]
    },
    {
     "name": "stdout",
     "output_type": "stream",
     "text": [
      "120156/120156 [==============================] - 7s - loss: 0.0052 - val_loss: 0.0039\n",
      "Epoch 71/200\n",
      "120156/120156 [==============================] - 7s - loss: 0.0051 - val_loss: 0.0040\n",
      "Epoch 72/200\n",
      "    \n"
     ]
    },
    {
     "name": "stderr",
     "output_type": "stream",
     "text": [
      "2017-03-20 18:41:33,675 : INFO : Found lower val loss for epoch 72 => 0.0039\n"
     ]
    },
    {
     "name": "stdout",
     "output_type": "stream",
     "text": [
      "120156/120156 [==============================] - 7s - loss: 0.0051 - val_loss: 0.0039\n",
      "Epoch 73/200\n",
      "120156/120156 [==============================] - 7s - loss: 0.0051 - val_loss: 0.0039\n",
      "Epoch 74/200\n",
      "120156/120156 [==============================] - 7s - loss: 0.0051 - val_loss: 0.0040\n",
      "Epoch 75/200\n",
      "120156/120156 [==============================] - 7s - loss: 0.0051 - val_loss: 0.0039\n",
      "Epoch 76/200\n",
      "120156/120156 [==============================] - 7s - loss: 0.0051 - val_loss: 0.0039\n",
      "Epoch 77/200\n",
      "120156/120156 [==============================] - 7s - loss: 0.0051 - val_loss: 0.0039\n",
      "Epoch 78/200\n",
      "120156/120156 [==============================] - 7s - loss: 0.0051 - val_loss: 0.0040\n",
      "Epoch 79/200\n",
      "120156/120156 [==============================] - 7s - loss: 0.0051 - val_loss: 0.0039\n",
      "Epoch 80/200\n",
      "120156/120156 [==============================] - 7s - loss: 0.0051 - val_loss: 0.0039\n",
      "Epoch 81/200\n",
      "120156/120156 [==============================] - 7s - loss: 0.0051 - val_loss: 0.0040\n",
      "Epoch 82/200\n",
      "120156/120156 [==============================] - 7s - loss: 0.0051 - val_loss: 0.0039\n",
      "Epoch 83/200\n",
      "120156/120156 [==============================] - 7s - loss: 0.0051 - val_loss: 0.0040"
     ]
    },
    {
     "name": "stderr",
     "output_type": "stream",
     "text": [
      "2017-03-20 18:42:54,661 : INFO : Evaluating on Training Data\n"
     ]
    },
    {
     "name": "stdout",
     "output_type": "stream",
     "text": [
      "\n",
      "Epoch 00082: early stopping\n",
      "CPU times: user 4min 37s, sys: 5min 42s, total: 10min 20s\n",
      "Wall time: 10min 28s\n"
     ]
    },
    {
     "name": "stderr",
     "output_type": "stream",
     "text": [
      "2017-03-20 18:43:43,437 : INFO : Generating Training Metrics\n",
      "2017-03-20 18:44:36,526 : INFO : Evaluating on Validation Data using saved best weights\n"
     ]
    },
    {
     "name": "stdout",
     "output_type": "stream",
     "text": [
      "****** Training Metrics: Cov Err: 9.173 | Top 3: 0.678 | Top 5: 0.765 | F1 Micro: 0.500 | F1 Macro: 0.096\n"
     ]
    },
    {
     "name": "stderr",
     "output_type": "stream",
     "text": [
      "2017-03-20 18:44:45,942 : INFO : Generating Validation Metrics\n"
     ]
    },
    {
     "name": "stdout",
     "output_type": "stream",
     "text": [
      "****** Validation Metrics: Cov Err: 11.008 | Top 3: 0.681 | Top 5: 0.767 | F1 Micro: 0.487 | F1 Macro: 0.064\n"
     ]
    },
    {
     "name": "stderr",
     "output_type": "stream",
     "text": [
      "2017-03-20 18:44:56,572 : INFO : ***************************************************************************************\n",
      "2017-03-20 18:44:56,574 : INFO : lstm_optimizer_rmsprop_size_500_w-drop_0.4_u-drop_0.5_stack_1_conv_None\n"
     ]
    },
    {
     "name": "stdout",
     "output_type": "stream",
     "text": [
      "____________________________________________________________________________________________________\n",
      "Layer (type)                     Output Shape          Param #     Connected to                     \n",
      "====================================================================================================\n",
      "lstm_500_u-drop_0.5_w-drop_0.4_l (None, 500)           1402000     lstm_input_5[0][0]               \n",
      "____________________________________________________________________________________________________\n",
      "sigmoid_output (Dense)           (None, 940)           470940      lstm_500_u-drop_0.5_w-drop_0.4_la\n",
      "====================================================================================================\n",
      "Total params: 1872940\n",
      "____________________________________________________________________________________________________\n",
      "Train on 120156 samples, validate on 29675 samples\n",
      "Epoch 1/200\n",
      "    \n"
     ]
    },
    {
     "name": "stderr",
     "output_type": "stream",
     "text": [
      "2017-03-20 18:45:21,416 : INFO : Found lower val loss for epoch 1 => 0.00838\n"
     ]
    },
    {
     "name": "stdout",
     "output_type": "stream",
     "text": [
      "120156/120156 [==============================] - 6s - loss: 0.0473 - val_loss: 0.0084\n",
      "Epoch 2/200\n",
      "    \n"
     ]
    },
    {
     "name": "stderr",
     "output_type": "stream",
     "text": [
      "2017-03-20 18:45:28,017 : INFO : Found lower val loss for epoch 2 => 0.00732\n"
     ]
    },
    {
     "name": "stdout",
     "output_type": "stream",
     "text": [
      "120156/120156 [==============================] - 6s - loss: 0.0099 - val_loss: 0.0073\n",
      "Epoch 3/200\n",
      "    \n"
     ]
    },
    {
     "name": "stderr",
     "output_type": "stream",
     "text": [
      "2017-03-20 18:45:34,487 : INFO : Found lower val loss for epoch 3 => 0.00608\n"
     ]
    },
    {
     "name": "stdout",
     "output_type": "stream",
     "text": [
      "120156/120156 [==============================] - 6s - loss: 0.0085 - val_loss: 0.0061\n",
      "Epoch 4/200\n",
      "    \n"
     ]
    },
    {
     "name": "stderr",
     "output_type": "stream",
     "text": [
      "2017-03-20 18:45:40,899 : INFO : Found lower val loss for epoch 4 => 0.00542\n"
     ]
    },
    {
     "name": "stdout",
     "output_type": "stream",
     "text": [
      "120156/120156 [==============================] - 6s - loss: 0.0075 - val_loss: 0.0054\n",
      "Epoch 5/200\n",
      "    \n"
     ]
    },
    {
     "name": "stderr",
     "output_type": "stream",
     "text": [
      "2017-03-20 18:45:47,349 : INFO : Found lower val loss for epoch 5 => 0.00534\n"
     ]
    },
    {
     "name": "stdout",
     "output_type": "stream",
     "text": [
      "120156/120156 [==============================] - 6s - loss: 0.0070 - val_loss: 0.0053\n",
      "Epoch 6/200\n",
      "    \n"
     ]
    },
    {
     "name": "stderr",
     "output_type": "stream",
     "text": [
      "2017-03-20 18:45:53,741 : INFO : Found lower val loss for epoch 6 => 0.00522\n"
     ]
    },
    {
     "name": "stdout",
     "output_type": "stream",
     "text": [
      "120156/120156 [==============================] - 6s - loss: 0.0067 - val_loss: 0.0052\n",
      "Epoch 7/200\n",
      "    \n"
     ]
    },
    {
     "name": "stderr",
     "output_type": "stream",
     "text": [
      "2017-03-20 18:46:00,138 : INFO : Found lower val loss for epoch 7 => 0.00475\n"
     ]
    },
    {
     "name": "stdout",
     "output_type": "stream",
     "text": [
      "120156/120156 [==============================] - 6s - loss: 0.0064 - val_loss: 0.0047\n",
      "Epoch 8/200\n",
      "    \n"
     ]
    },
    {
     "name": "stderr",
     "output_type": "stream",
     "text": [
      "2017-03-20 18:46:06,648 : INFO : Found lower val loss for epoch 8 => 0.00461\n"
     ]
    },
    {
     "name": "stdout",
     "output_type": "stream",
     "text": [
      "120156/120156 [==============================] - 6s - loss: 0.0062 - val_loss: 0.0046\n",
      "Epoch 9/200\n",
      "    \n"
     ]
    },
    {
     "name": "stderr",
     "output_type": "stream",
     "text": [
      "2017-03-20 18:46:13,027 : INFO : Found lower val loss for epoch 9 => 0.0044\n"
     ]
    },
    {
     "name": "stdout",
     "output_type": "stream",
     "text": [
      "120156/120156 [==============================] - 6s - loss: 0.0061 - val_loss: 0.0044\n",
      "Epoch 10/200\n",
      "120156/120156 [==============================] - 6s - loss: 0.0060 - val_loss: 0.0047\n",
      "Epoch 11/200\n",
      "120156/120156 [==============================] - 6s - loss: 0.0059 - val_loss: 0.0045\n",
      "Epoch 12/200\n",
      "120156/120156 [==============================] - 6s - loss: 0.0058 - val_loss: 0.0046\n",
      "Epoch 13/200\n",
      "    \n"
     ]
    },
    {
     "name": "stderr",
     "output_type": "stream",
     "text": [
      "2017-03-20 18:46:37,966 : INFO : Found lower val loss for epoch 13 => 0.00434\n"
     ]
    },
    {
     "name": "stdout",
     "output_type": "stream",
     "text": [
      "120156/120156 [==============================] - 6s - loss: 0.0057 - val_loss: 0.0043\n",
      "Epoch 14/200\n",
      "120156/120156 [==============================] - 7s - loss: 0.0056 - val_loss: 0.0045\n",
      "Epoch 15/200\n",
      "    \n"
     ]
    },
    {
     "name": "stderr",
     "output_type": "stream",
     "text": [
      "2017-03-20 18:46:52,641 : INFO : Found lower val loss for epoch 15 => 0.00434\n"
     ]
    },
    {
     "name": "stdout",
     "output_type": "stream",
     "text": [
      "120156/120156 [==============================] - 7s - loss: 0.0056 - val_loss: 0.0043\n",
      "Epoch 16/200\n",
      "120156/120156 [==============================] - 7s - loss: 0.0055 - val_loss: 0.0046\n",
      "Epoch 17/200\n",
      "    \n"
     ]
    },
    {
     "name": "stderr",
     "output_type": "stream",
     "text": [
      "2017-03-20 18:47:07,677 : INFO : Found lower val loss for epoch 17 => 0.00421\n"
     ]
    },
    {
     "name": "stdout",
     "output_type": "stream",
     "text": [
      "120156/120156 [==============================] - 7s - loss: 0.0054 - val_loss: 0.0042\n",
      "Epoch 18/200\n",
      "120156/120156 [==============================] - 6s - loss: 0.0054 - val_loss: 0.0043\n",
      "Epoch 19/200\n",
      "    \n"
     ]
    },
    {
     "name": "stderr",
     "output_type": "stream",
     "text": [
      "2017-03-20 18:47:21,729 : INFO : Found lower val loss for epoch 19 => 0.00419\n"
     ]
    },
    {
     "name": "stdout",
     "output_type": "stream",
     "text": [
      "120156/120156 [==============================] - 7s - loss: 0.0053 - val_loss: 0.0042\n",
      "Epoch 20/200\n",
      "    \n"
     ]
    },
    {
     "name": "stderr",
     "output_type": "stream",
     "text": [
      "2017-03-20 18:47:29,879 : INFO : Found lower val loss for epoch 20 => 0.00409\n"
     ]
    },
    {
     "name": "stdout",
     "output_type": "stream",
     "text": [
      "120156/120156 [==============================] - 8s - loss: 0.0053 - val_loss: 0.0041\n",
      "Epoch 21/200\n",
      "    \n"
     ]
    },
    {
     "name": "stderr",
     "output_type": "stream",
     "text": [
      "2017-03-20 18:47:38,002 : INFO : Found lower val loss for epoch 21 => 0.00409\n"
     ]
    },
    {
     "name": "stdout",
     "output_type": "stream",
     "text": [
      "120156/120156 [==============================] - 8s - loss: 0.0052 - val_loss: 0.0041\n",
      "Epoch 22/200\n",
      "120156/120156 [==============================] - 7s - loss: 0.0052 - val_loss: 0.0041\n",
      "Epoch 23/200\n",
      "120156/120156 [==============================] - 7s - loss: 0.0052 - val_loss: 0.0042\n",
      "Epoch 24/200\n",
      "120156/120156 [==============================] - 7s - loss: 0.0051 - val_loss: 0.0043\n",
      "Epoch 25/200\n",
      "120156/120156 [==============================] - 7s - loss: 0.0051 - val_loss: 0.0042\n",
      "Epoch 26/200\n",
      "    \n"
     ]
    },
    {
     "name": "stderr",
     "output_type": "stream",
     "text": [
      "2017-03-20 18:48:15,070 : INFO : Found lower val loss for epoch 26 => 0.00393\n"
     ]
    },
    {
     "name": "stdout",
     "output_type": "stream",
     "text": [
      "120156/120156 [==============================] - 7s - loss: 0.0051 - val_loss: 0.0039\n",
      "Epoch 27/200\n",
      "120156/120156 [==============================] - 7s - loss: 0.0050 - val_loss: 0.0040\n",
      "Epoch 28/200\n",
      "120156/120156 [==============================] - 7s - loss: 0.0050 - val_loss: 0.0041\n",
      "Epoch 29/200\n",
      "120156/120156 [==============================] - 7s - loss: 0.0050 - val_loss: 0.0041\n",
      "Epoch 30/200\n",
      "120156/120156 [==============================] - 7s - loss: 0.0049 - val_loss: 0.0042\n",
      "Epoch 31/200\n",
      "120156/120156 [==============================] - 6s - loss: 0.0049 - val_loss: 0.0043\n",
      "Epoch 32/200\n",
      "120156/120156 [==============================] - 6s - loss: 0.0049 - val_loss: 0.0040\n",
      "Epoch 33/200\n",
      "120156/120156 [==============================] - 7s - loss: 0.0049 - val_loss: 0.0042\n",
      "Epoch 34/200\n",
      "120156/120156 [==============================] - 7s - loss: 0.0048 - val_loss: 0.0041\n",
      "Epoch 35/200\n",
      "120156/120156 [==============================] - 7s - loss: 0.0048 - val_loss: 0.0041\n",
      "Epoch 36/200\n",
      "120156/120156 [==============================] - 7s - loss: 0.0048 - val_loss: 0.0039\n",
      "Epoch 37/200\n",
      "120156/120156 [==============================] - 6s - loss: 0.0048 - val_loss: 0.0040"
     ]
    },
    {
     "name": "stderr",
     "output_type": "stream",
     "text": [
      "2017-03-20 18:49:35,119 : INFO : Evaluating on Training Data\n"
     ]
    },
    {
     "name": "stdout",
     "output_type": "stream",
     "text": [
      "\n",
      "Epoch 00036: early stopping\n",
      "CPU times: user 1min 52s, sys: 2min 36s, total: 4min 28s\n",
      "Wall time: 4min 36s\n"
     ]
    },
    {
     "name": "stderr",
     "output_type": "stream",
     "text": [
      "2017-03-20 18:50:13,998 : INFO : Generating Training Metrics\n",
      "2017-03-20 18:51:05,405 : INFO : Evaluating on Validation Data using saved best weights\n"
     ]
    },
    {
     "name": "stdout",
     "output_type": "stream",
     "text": [
      "****** Training Metrics: Cov Err: 8.054 | Top 3: 0.700 | Top 5: 0.787 | F1 Micro: 0.511 | F1 Macro: 0.154\n"
     ]
    },
    {
     "name": "stderr",
     "output_type": "stream",
     "text": [
      "2017-03-20 18:51:13,285 : INFO : Generating Validation Metrics\n"
     ]
    },
    {
     "name": "stdout",
     "output_type": "stream",
     "text": [
      "****** Validation Metrics: Cov Err: 10.988 | Top 3: 0.689 | Top 5: 0.776 | F1 Micro: 0.483 | F1 Macro: 0.084\n"
     ]
    },
    {
     "name": "stderr",
     "output_type": "stream",
     "text": [
      "2017-03-20 18:51:23,958 : INFO : ***************************************************************************************\n",
      "2017-03-20 18:51:23,961 : INFO : lstm_optimizer_rmsprop_size_300_w-drop_0.6_u-drop_0.4_stack_1_conv_None\n"
     ]
    },
    {
     "name": "stdout",
     "output_type": "stream",
     "text": [
      "____________________________________________________________________________________________________\n",
      "Layer (type)                     Output Shape          Param #     Connected to                     \n",
      "====================================================================================================\n",
      "lstm_300_u-drop_0.4_w-drop_0.6_l (None, 300)           601200      lstm_input_6[0][0]               \n",
      "____________________________________________________________________________________________________\n",
      "sigmoid_output (Dense)           (None, 940)           282940      lstm_300_u-drop_0.4_w-drop_0.6_la\n",
      "====================================================================================================\n",
      "Total params: 884140\n",
      "____________________________________________________________________________________________________\n",
      "Train on 120156 samples, validate on 29675 samples\n",
      "Epoch 1/200\n",
      "    \n"
     ]
    },
    {
     "name": "stderr",
     "output_type": "stream",
     "text": [
      "2017-03-20 18:51:48,566 : INFO : Found lower val loss for epoch 1 => 0.0085\n"
     ]
    },
    {
     "name": "stdout",
     "output_type": "stream",
     "text": [
      "120156/120156 [==============================] - 5s - loss: 0.0631 - val_loss: 0.0085\n",
      "Epoch 2/200\n",
      "    \n"
     ]
    },
    {
     "name": "stderr",
     "output_type": "stream",
     "text": [
      "2017-03-20 18:51:53,954 : INFO : Found lower val loss for epoch 2 => 0.00835\n"
     ]
    },
    {
     "name": "stdout",
     "output_type": "stream",
     "text": [
      "120156/120156 [==============================] - 5s - loss: 0.0102 - val_loss: 0.0083\n",
      "Epoch 3/200\n",
      "    \n"
     ]
    },
    {
     "name": "stderr",
     "output_type": "stream",
     "text": [
      "2017-03-20 18:51:59,539 : INFO : Found lower val loss for epoch 3 => 0.00746\n"
     ]
    },
    {
     "name": "stdout",
     "output_type": "stream",
     "text": [
      "120156/120156 [==============================] - 5s - loss: 0.0099 - val_loss: 0.0075\n",
      "Epoch 4/200\n",
      "    \n"
     ]
    },
    {
     "name": "stderr",
     "output_type": "stream",
     "text": [
      "2017-03-20 18:52:04,852 : INFO : Found lower val loss for epoch 4 => 0.00668\n"
     ]
    },
    {
     "name": "stdout",
     "output_type": "stream",
     "text": [
      "120156/120156 [==============================] - 5s - loss: 0.0089 - val_loss: 0.0067\n",
      "Epoch 5/200\n",
      "    \n"
     ]
    },
    {
     "name": "stderr",
     "output_type": "stream",
     "text": [
      "2017-03-20 18:52:10,305 : INFO : Found lower val loss for epoch 5 => 0.00604\n"
     ]
    },
    {
     "name": "stdout",
     "output_type": "stream",
     "text": [
      "120156/120156 [==============================] - 5s - loss: 0.0082 - val_loss: 0.0060\n",
      "Epoch 6/200\n",
      "    \n"
     ]
    },
    {
     "name": "stderr",
     "output_type": "stream",
     "text": [
      "2017-03-20 18:52:15,722 : INFO : Found lower val loss for epoch 6 => 0.00571\n"
     ]
    },
    {
     "name": "stdout",
     "output_type": "stream",
     "text": [
      "120156/120156 [==============================] - 5s - loss: 0.0077 - val_loss: 0.0057\n",
      "Epoch 7/200\n",
      "    \n"
     ]
    },
    {
     "name": "stderr",
     "output_type": "stream",
     "text": [
      "2017-03-20 18:52:21,001 : INFO : Found lower val loss for epoch 7 => 0.00549\n"
     ]
    },
    {
     "name": "stdout",
     "output_type": "stream",
     "text": [
      "120156/120156 [==============================] - 5s - loss: 0.0073 - val_loss: 0.0055\n",
      "Epoch 8/200\n",
      "    \n"
     ]
    },
    {
     "name": "stderr",
     "output_type": "stream",
     "text": [
      "2017-03-20 18:52:26,279 : INFO : Found lower val loss for epoch 8 => 0.00521\n"
     ]
    },
    {
     "name": "stdout",
     "output_type": "stream",
     "text": [
      "120156/120156 [==============================] - 5s - loss: 0.0071 - val_loss: 0.0052\n",
      "Epoch 9/200\n",
      "    \n"
     ]
    },
    {
     "name": "stderr",
     "output_type": "stream",
     "text": [
      "2017-03-20 18:52:31,580 : INFO : Found lower val loss for epoch 9 => 0.00498\n"
     ]
    },
    {
     "name": "stdout",
     "output_type": "stream",
     "text": [
      "120156/120156 [==============================] - 5s - loss: 0.0068 - val_loss: 0.0050\n",
      "Epoch 10/200\n",
      "120156/120156 [==============================] - 5s - loss: 0.0067 - val_loss: 0.0051\n",
      "Epoch 11/200\n",
      "    \n"
     ]
    },
    {
     "name": "stderr",
     "output_type": "stream",
     "text": [
      "2017-03-20 18:52:41,873 : INFO : Found lower val loss for epoch 11 => 0.00492\n"
     ]
    },
    {
     "name": "stdout",
     "output_type": "stream",
     "text": [
      "120156/120156 [==============================] - 5s - loss: 0.0065 - val_loss: 0.0049\n",
      "Epoch 12/200\n",
      "120156/120156 [==============================] - 5s - loss: 0.0064 - val_loss: 0.0050\n",
      "Epoch 13/200\n",
      "    \n"
     ]
    },
    {
     "name": "stderr",
     "output_type": "stream",
     "text": [
      "2017-03-20 18:52:52,520 : INFO : Found lower val loss for epoch 13 => 0.00488\n"
     ]
    },
    {
     "name": "stdout",
     "output_type": "stream",
     "text": [
      "120156/120156 [==============================] - 5s - loss: 0.0063 - val_loss: 0.0049\n",
      "Epoch 14/200\n",
      "    \n"
     ]
    },
    {
     "name": "stderr",
     "output_type": "stream",
     "text": [
      "2017-03-20 18:52:57,854 : INFO : Found lower val loss for epoch 14 => 0.00481\n"
     ]
    },
    {
     "name": "stdout",
     "output_type": "stream",
     "text": [
      "120156/120156 [==============================] - 5s - loss: 0.0062 - val_loss: 0.0048\n",
      "Epoch 15/200\n",
      "    \n"
     ]
    },
    {
     "name": "stderr",
     "output_type": "stream",
     "text": [
      "2017-03-20 18:53:03,133 : INFO : Found lower val loss for epoch 15 => 0.00466\n"
     ]
    },
    {
     "name": "stdout",
     "output_type": "stream",
     "text": [
      "120156/120156 [==============================] - 5s - loss: 0.0061 - val_loss: 0.0047\n",
      "Epoch 16/200\n",
      "120156/120156 [==============================] - 5s - loss: 0.0060 - val_loss: 0.0047\n",
      "Epoch 17/200\n",
      "    \n"
     ]
    },
    {
     "name": "stderr",
     "output_type": "stream",
     "text": [
      "2017-03-20 18:53:13,424 : INFO : Found lower val loss for epoch 17 => 0.00462\n"
     ]
    },
    {
     "name": "stdout",
     "output_type": "stream",
     "text": [
      "120156/120156 [==============================] - 5s - loss: 0.0060 - val_loss: 0.0046\n",
      "Epoch 18/200\n",
      "    \n"
     ]
    },
    {
     "name": "stderr",
     "output_type": "stream",
     "text": [
      "2017-03-20 18:53:18,693 : INFO : Found lower val loss for epoch 18 => 0.00442\n"
     ]
    },
    {
     "name": "stdout",
     "output_type": "stream",
     "text": [
      "120156/120156 [==============================] - 5s - loss: 0.0059 - val_loss: 0.0044\n",
      "Epoch 19/200\n",
      "120156/120156 [==============================] - 5s - loss: 0.0059 - val_loss: 0.0047\n",
      "Epoch 20/200\n",
      "    \n"
     ]
    },
    {
     "name": "stderr",
     "output_type": "stream",
     "text": [
      "2017-03-20 18:53:29,062 : INFO : Found lower val loss for epoch 20 => 0.00433\n"
     ]
    },
    {
     "name": "stdout",
     "output_type": "stream",
     "text": [
      "120156/120156 [==============================] - 5s - loss: 0.0058 - val_loss: 0.0043\n",
      "Epoch 21/200\n",
      "120156/120156 [==============================] - 5s - loss: 0.0058 - val_loss: 0.0044\n",
      "Epoch 22/200\n",
      "120156/120156 [==============================] - 5s - loss: 0.0057 - val_loss: 0.0046\n",
      "Epoch 23/200\n",
      "120156/120156 [==============================] - 5s - loss: 0.0057 - val_loss: 0.0045\n",
      "Epoch 24/200\n",
      "    \n"
     ]
    },
    {
     "name": "stderr",
     "output_type": "stream",
     "text": [
      "2017-03-20 18:53:49,811 : INFO : Found lower val loss for epoch 24 => 0.00433\n"
     ]
    },
    {
     "name": "stdout",
     "output_type": "stream",
     "text": [
      "120156/120156 [==============================] - 5s - loss: 0.0056 - val_loss: 0.0043\n",
      "Epoch 25/200\n",
      "120156/120156 [==============================] - 5s - loss: 0.0056 - val_loss: 0.0046\n",
      "Epoch 26/200\n",
      "    \n"
     ]
    },
    {
     "name": "stderr",
     "output_type": "stream",
     "text": [
      "2017-03-20 18:54:00,238 : INFO : Found lower val loss for epoch 26 => 0.00414\n"
     ]
    },
    {
     "name": "stdout",
     "output_type": "stream",
     "text": [
      "120156/120156 [==============================] - 5s - loss: 0.0056 - val_loss: 0.0041\n",
      "Epoch 27/200\n",
      "120156/120156 [==============================] - 5s - loss: 0.0056 - val_loss: 0.0044\n",
      "Epoch 28/200\n",
      "120156/120156 [==============================] - 5s - loss: 0.0055 - val_loss: 0.0043\n",
      "Epoch 29/200\n",
      "120156/120156 [==============================] - 5s - loss: 0.0055 - val_loss: 0.0044\n",
      "Epoch 30/200\n",
      "120156/120156 [==============================] - 5s - loss: 0.0055 - val_loss: 0.0043\n",
      "Epoch 31/200\n",
      "120156/120156 [==============================] - 5s - loss: 0.0055 - val_loss: 0.0042\n",
      "Epoch 32/200\n",
      "120156/120156 [==============================] - 5s - loss: 0.0054 - val_loss: 0.0042\n",
      "Epoch 33/200\n",
      "120156/120156 [==============================] - 5s - loss: 0.0054 - val_loss: 0.0044\n",
      "Epoch 34/200\n",
      "120156/120156 [==============================] - 5s - loss: 0.0054 - val_loss: 0.0044\n",
      "Epoch 35/200\n",
      "    \n"
     ]
    },
    {
     "name": "stderr",
     "output_type": "stream",
     "text": [
      "2017-03-20 18:54:47,038 : INFO : Found lower val loss for epoch 35 => 0.00412\n"
     ]
    },
    {
     "name": "stdout",
     "output_type": "stream",
     "text": [
      "120156/120156 [==============================] - 5s - loss: 0.0054 - val_loss: 0.0041\n",
      "Epoch 36/200\n",
      "    \n"
     ]
    },
    {
     "name": "stderr",
     "output_type": "stream",
     "text": [
      "2017-03-20 18:54:52,508 : INFO : Found lower val loss for epoch 36 => 0.00411\n"
     ]
    },
    {
     "name": "stdout",
     "output_type": "stream",
     "text": [
      "120156/120156 [==============================] - 5s - loss: 0.0053 - val_loss: 0.0041\n",
      "Epoch 37/200\n",
      "120156/120156 [==============================] - 5s - loss: 0.0053 - val_loss: 0.0041\n",
      "Epoch 38/200\n",
      "120156/120156 [==============================] - 5s - loss: 0.0053 - val_loss: 0.0043\n",
      "Epoch 39/200\n",
      "    \n"
     ]
    },
    {
     "name": "stderr",
     "output_type": "stream",
     "text": [
      "2017-03-20 18:55:09,095 : INFO : Found lower val loss for epoch 39 => 0.0041\n"
     ]
    },
    {
     "name": "stdout",
     "output_type": "stream",
     "text": [
      "120156/120156 [==============================] - 5s - loss: 0.0053 - val_loss: 0.0041\n",
      "Epoch 40/200\n",
      "    \n"
     ]
    },
    {
     "name": "stderr",
     "output_type": "stream",
     "text": [
      "2017-03-20 18:55:14,711 : INFO : Found lower val loss for epoch 40 => 0.00406\n"
     ]
    },
    {
     "name": "stdout",
     "output_type": "stream",
     "text": [
      "120156/120156 [==============================] - 5s - loss: 0.0053 - val_loss: 0.0041\n",
      "Epoch 41/200\n",
      "    \n"
     ]
    },
    {
     "name": "stderr",
     "output_type": "stream",
     "text": [
      "2017-03-20 18:55:20,090 : INFO : Found lower val loss for epoch 41 => 0.00403\n"
     ]
    },
    {
     "name": "stdout",
     "output_type": "stream",
     "text": [
      "120156/120156 [==============================] - 5s - loss: 0.0053 - val_loss: 0.0040\n",
      "Epoch 42/200\n",
      "120156/120156 [==============================] - 5s - loss: 0.0053 - val_loss: 0.0040\n",
      "Epoch 43/200\n",
      "120156/120156 [==============================] - 5s - loss: 0.0052 - val_loss: 0.0042\n",
      "Epoch 44/200\n",
      "    \n"
     ]
    },
    {
     "name": "stderr",
     "output_type": "stream",
     "text": [
      "2017-03-20 18:55:36,079 : INFO : Found lower val loss for epoch 44 => 0.00397\n"
     ]
    },
    {
     "name": "stdout",
     "output_type": "stream",
     "text": [
      "120156/120156 [==============================] - 5s - loss: 0.0052 - val_loss: 0.0040\n",
      "Epoch 45/200\n",
      "120156/120156 [==============================] - 5s - loss: 0.0052 - val_loss: 0.0041\n",
      "Epoch 46/200\n",
      "120156/120156 [==============================] - 5s - loss: 0.0052 - val_loss: 0.0040\n",
      "Epoch 47/200\n",
      "120156/120156 [==============================] - 5s - loss: 0.0052 - val_loss: 0.0041\n",
      "Epoch 48/200\n",
      "120156/120156 [==============================] - 5s - loss: 0.0052 - val_loss: 0.0040\n",
      "Epoch 49/200\n",
      "120156/120156 [==============================] - 5s - loss: 0.0052 - val_loss: 0.0042\n",
      "Epoch 50/200\n",
      "120156/120156 [==============================] - 5s - loss: 0.0052 - val_loss: 0.0041\n",
      "Epoch 51/200\n",
      "    \n"
     ]
    },
    {
     "name": "stderr",
     "output_type": "stream",
     "text": [
      "2017-03-20 18:56:13,771 : INFO : Found lower val loss for epoch 51 => 0.00396\n"
     ]
    },
    {
     "name": "stdout",
     "output_type": "stream",
     "text": [
      "120156/120156 [==============================] - 5s - loss: 0.0051 - val_loss: 0.0040\n",
      "Epoch 52/200\n",
      "120156/120156 [==============================] - 5s - loss: 0.0051 - val_loss: 0.0040\n",
      "Epoch 53/200\n",
      "120156/120156 [==============================] - 5s - loss: 0.0051 - val_loss: 0.0041\n",
      "Epoch 54/200\n",
      "120156/120156 [==============================] - 5s - loss: 0.0051 - val_loss: 0.0040\n",
      "Epoch 55/200\n",
      "    \n"
     ]
    },
    {
     "name": "stderr",
     "output_type": "stream",
     "text": [
      "2017-03-20 18:56:35,654 : INFO : Found lower val loss for epoch 55 => 0.00387\n"
     ]
    },
    {
     "name": "stdout",
     "output_type": "stream",
     "text": [
      "120156/120156 [==============================] - 5s - loss: 0.0051 - val_loss: 0.0039\n",
      "Epoch 56/200\n",
      "120156/120156 [==============================] - 5s - loss: 0.0051 - val_loss: 0.0041\n",
      "Epoch 57/200\n",
      "120156/120156 [==============================] - 5s - loss: 0.0051 - val_loss: 0.0040\n",
      "Epoch 58/200\n",
      "120156/120156 [==============================] - 5s - loss: 0.0051 - val_loss: 0.0040\n",
      "Epoch 59/200\n",
      "120156/120156 [==============================] - 5s - loss: 0.0051 - val_loss: 0.0041\n",
      "Epoch 60/200\n",
      "120156/120156 [==============================] - 5s - loss: 0.0051 - val_loss: 0.0039\n",
      "Epoch 61/200\n",
      "120156/120156 [==============================] - 5s - loss: 0.0051 - val_loss: 0.0040\n",
      "Epoch 62/200\n",
      "120156/120156 [==============================] - 5s - loss: 0.0050 - val_loss: 0.0041\n",
      "Epoch 63/200\n",
      "    \n"
     ]
    },
    {
     "name": "stderr",
     "output_type": "stream",
     "text": [
      "2017-03-20 18:57:18,227 : INFO : Found lower val loss for epoch 63 => 0.00385\n"
     ]
    },
    {
     "name": "stdout",
     "output_type": "stream",
     "text": [
      "120156/120156 [==============================] - 5s - loss: 0.0050 - val_loss: 0.0038\n",
      "Epoch 64/200\n",
      "120156/120156 [==============================] - 5s - loss: 0.0050 - val_loss: 0.0040\n",
      "Epoch 65/200\n",
      "120156/120156 [==============================] - 5s - loss: 0.0050 - val_loss: 0.0039\n",
      "Epoch 66/200\n",
      "120156/120156 [==============================] - 5s - loss: 0.0050 - val_loss: 0.0039\n",
      "Epoch 67/200\n",
      "120156/120156 [==============================] - 5s - loss: 0.0050 - val_loss: 0.0040\n",
      "Epoch 68/200\n",
      "120156/120156 [==============================] - 5s - loss: 0.0050 - val_loss: 0.0039\n",
      "Epoch 69/200\n",
      "120156/120156 [==============================] - 5s - loss: 0.0050 - val_loss: 0.0039\n",
      "Epoch 70/200\n",
      "120156/120156 [==============================] - 5s - loss: 0.0050 - val_loss: 0.0039\n",
      "Epoch 71/200\n",
      "120156/120156 [==============================] - 5s - loss: 0.0050 - val_loss: 0.0040\n",
      "Epoch 72/200\n",
      "120156/120156 [==============================] - 5s - loss: 0.0050 - val_loss: 0.0039\n",
      "Epoch 73/200\n",
      "120156/120156 [==============================] - 5s - loss: 0.0050 - val_loss: 0.0039\n",
      "Epoch 74/200\n",
      "    \n"
     ]
    },
    {
     "name": "stderr",
     "output_type": "stream",
     "text": [
      "2017-03-20 18:58:18,546 : INFO : Found lower val loss for epoch 74 => 0.00384\n"
     ]
    },
    {
     "name": "stdout",
     "output_type": "stream",
     "text": [
      "\b\b\b\b\b\b\b\b\b\b\b\b\b\b\b\b\b\b\b\b\b\b\b\b\b\b\b\b\b\b\b\b\b\b\b\b\b\b\b\b\b\b\b\b\b\b\b\b\b\b\b\b\b\b\b\b\b\b\b\b\b\b\b\b\b\b\b\b\b\b\b\r",
      "120156/120156 [==============================] - 5s - loss: 0.0050 - val_loss: 0.0038"
     ]
    },
    {
     "name": "stderr",
     "output_type": "stream",
     "text": [
      "2017-03-20 18:58:18,550 : INFO : Evaluating on Training Data\n"
     ]
    },
    {
     "name": "stdout",
     "output_type": "stream",
     "text": [
      "\n",
      "Epoch 00073: early stopping\n",
      "CPU times: user 2min 51s, sys: 3min 59s, total: 6min 51s\n",
      "Wall time: 6min 53s\n"
     ]
    },
    {
     "name": "stderr",
     "output_type": "stream",
     "text": [
      "2017-03-20 18:58:55,627 : INFO : Generating Training Metrics\n",
      "2017-03-20 18:59:49,379 : INFO : Evaluating on Validation Data using saved best weights\n"
     ]
    },
    {
     "name": "stdout",
     "output_type": "stream",
     "text": [
      "****** Training Metrics: Cov Err: 8.009 | Top 3: 0.698 | Top 5: 0.785 | F1 Micro: 0.490 | F1 Macro: 0.142\n"
     ]
    },
    {
     "name": "stderr",
     "output_type": "stream",
     "text": [
      "2017-03-20 18:59:56,792 : INFO : Generating Validation Metrics\n"
     ]
    },
    {
     "name": "stdout",
     "output_type": "stream",
     "text": [
      "****** Validation Metrics: Cov Err: 10.241 | Top 3: 0.699 | Top 5: 0.784 | F1 Micro: 0.498 | F1 Macro: 0.106\n"
     ]
    },
    {
     "name": "stderr",
     "output_type": "stream",
     "text": [
      "2017-03-20 19:00:07,478 : INFO : ***************************************************************************************\n",
      "2017-03-20 19:00:07,480 : INFO : lstm_optimizer_rmsprop_size_500_w-drop_0.4_u-drop_0.6_stack_2_conv_None\n"
     ]
    },
    {
     "name": "stdout",
     "output_type": "stream",
     "text": [
      "____________________________________________________________________________________________________\n",
      "Layer (type)                     Output Shape          Param #     Connected to                     \n",
      "====================================================================================================\n",
      "lstm_500_u-drop_0.6_w-drop_0.4_l (None, None, 500)     1402000     lstm_input_7[0][0]               \n",
      "____________________________________________________________________________________________________\n",
      "lstm_500_u-drop_0.6_w-drop_0.4_l (None, 500)           2002000     lstm_500_u-drop_0.6_w-drop_0.4_la\n",
      "____________________________________________________________________________________________________\n",
      "sigmoid_output (Dense)           (None, 940)           470940      lstm_500_u-drop_0.6_w-drop_0.4_la\n",
      "====================================================================================================\n",
      "Total params: 3874940\n",
      "____________________________________________________________________________________________________\n",
      "Train on 120156 samples, validate on 29675 samples\n",
      "Epoch 1/200\n",
      "    \n"
     ]
    },
    {
     "name": "stderr",
     "output_type": "stream",
     "text": [
      "2017-03-20 19:00:58,512 : INFO : Found lower val loss for epoch 1 => 0.00841\n"
     ]
    },
    {
     "name": "stdout",
     "output_type": "stream",
     "text": [
      "120156/120156 [==============================] - 13s - loss: 0.0445 - val_loss: 0.0084\n",
      "Epoch 2/200\n",
      "    \n"
     ]
    },
    {
     "name": "stderr",
     "output_type": "stream",
     "text": [
      "2017-03-20 19:01:11,347 : INFO : Found lower val loss for epoch 2 => 0.00767\n"
     ]
    },
    {
     "name": "stdout",
     "output_type": "stream",
     "text": [
      "120156/120156 [==============================] - 12s - loss: 0.0101 - val_loss: 0.0077\n",
      "Epoch 3/200\n",
      "    \n"
     ]
    },
    {
     "name": "stderr",
     "output_type": "stream",
     "text": [
      "2017-03-20 19:01:24,242 : INFO : Found lower val loss for epoch 3 => 0.00673\n"
     ]
    },
    {
     "name": "stdout",
     "output_type": "stream",
     "text": [
      "120156/120156 [==============================] - 12s - loss: 0.0089 - val_loss: 0.0067\n",
      "Epoch 4/200\n",
      "    \n"
     ]
    },
    {
     "name": "stderr",
     "output_type": "stream",
     "text": [
      "2017-03-20 19:01:37,113 : INFO : Found lower val loss for epoch 4 => 0.00587\n"
     ]
    },
    {
     "name": "stdout",
     "output_type": "stream",
     "text": [
      "120156/120156 [==============================] - 12s - loss: 0.0079 - val_loss: 0.0059\n",
      "Epoch 5/200\n",
      "    \n"
     ]
    },
    {
     "name": "stderr",
     "output_type": "stream",
     "text": [
      "2017-03-20 19:01:49,800 : INFO : Found lower val loss for epoch 5 => 0.00531\n"
     ]
    },
    {
     "name": "stdout",
     "output_type": "stream",
     "text": [
      "120156/120156 [==============================] - 12s - loss: 0.0073 - val_loss: 0.0053\n",
      "Epoch 6/200\n",
      "    \n"
     ]
    },
    {
     "name": "stderr",
     "output_type": "stream",
     "text": [
      "2017-03-20 19:02:02,785 : INFO : Found lower val loss for epoch 6 => 0.00519\n"
     ]
    },
    {
     "name": "stdout",
     "output_type": "stream",
     "text": [
      "120156/120156 [==============================] - 12s - loss: 0.0069 - val_loss: 0.0052\n",
      "Epoch 7/200\n",
      "    \n"
     ]
    },
    {
     "name": "stderr",
     "output_type": "stream",
     "text": [
      "2017-03-20 19:02:18,504 : INFO : Found lower val loss for epoch 7 => 0.00487\n"
     ]
    },
    {
     "name": "stdout",
     "output_type": "stream",
     "text": [
      "120156/120156 [==============================] - 15s - loss: 0.0066 - val_loss: 0.0049\n",
      "Epoch 8/200\n",
      "    \n"
     ]
    },
    {
     "name": "stderr",
     "output_type": "stream",
     "text": [
      "2017-03-20 19:02:34,019 : INFO : Found lower val loss for epoch 8 => 0.00468\n"
     ]
    },
    {
     "name": "stdout",
     "output_type": "stream",
     "text": [
      "120156/120156 [==============================] - 15s - loss: 0.0064 - val_loss: 0.0047\n",
      "Epoch 9/200\n",
      "    \n"
     ]
    },
    {
     "name": "stderr",
     "output_type": "stream",
     "text": [
      "2017-03-20 19:02:49,984 : INFO : Found lower val loss for epoch 9 => 0.00468\n"
     ]
    },
    {
     "name": "stdout",
     "output_type": "stream",
     "text": [
      "120156/120156 [==============================] - 15s - loss: 0.0062 - val_loss: 0.0047\n",
      "Epoch 10/200\n",
      "    \n"
     ]
    },
    {
     "name": "stderr",
     "output_type": "stream",
     "text": [
      "2017-03-20 19:03:05,439 : INFO : Found lower val loss for epoch 10 => 0.00465\n"
     ]
    },
    {
     "name": "stdout",
     "output_type": "stream",
     "text": [
      "120156/120156 [==============================] - 15s - loss: 0.0061 - val_loss: 0.0047\n",
      "Epoch 11/200\n",
      "    \n"
     ]
    },
    {
     "name": "stderr",
     "output_type": "stream",
     "text": [
      "2017-03-20 19:03:21,361 : INFO : Found lower val loss for epoch 11 => 0.00439\n"
     ]
    },
    {
     "name": "stdout",
     "output_type": "stream",
     "text": [
      "120156/120156 [==============================] - 15s - loss: 0.0060 - val_loss: 0.0044\n",
      "Epoch 12/200\n",
      "    \n"
     ]
    },
    {
     "name": "stderr",
     "output_type": "stream",
     "text": [
      "2017-03-20 19:03:37,523 : INFO : Found lower val loss for epoch 12 => 0.00438\n"
     ]
    },
    {
     "name": "stdout",
     "output_type": "stream",
     "text": [
      "120156/120156 [==============================] - 16s - loss: 0.0058 - val_loss: 0.0044\n",
      "Epoch 13/200\n",
      "    \n"
     ]
    },
    {
     "name": "stderr",
     "output_type": "stream",
     "text": [
      "2017-03-20 19:03:53,851 : INFO : Found lower val loss for epoch 13 => 0.00423\n"
     ]
    },
    {
     "name": "stdout",
     "output_type": "stream",
     "text": [
      "120156/120156 [==============================] - 16s - loss: 0.0058 - val_loss: 0.0042\n",
      "Epoch 14/200\n",
      "120156/120156 [==============================] - 15s - loss: 0.0057 - val_loss: 0.0043\n",
      "Epoch 15/200\n",
      "120156/120156 [==============================] - 14s - loss: 0.0056 - val_loss: 0.0043\n",
      "Epoch 16/200\n",
      "    \n"
     ]
    },
    {
     "name": "stderr",
     "output_type": "stream",
     "text": [
      "2017-03-20 19:04:38,561 : INFO : Found lower val loss for epoch 16 => 0.00422\n"
     ]
    },
    {
     "name": "stdout",
     "output_type": "stream",
     "text": [
      "120156/120156 [==============================] - 14s - loss: 0.0055 - val_loss: 0.0042\n",
      "Epoch 17/200\n",
      "120156/120156 [==============================] - 16s - loss: 0.0055 - val_loss: 0.0043\n",
      "Epoch 18/200\n",
      "120156/120156 [==============================] - 16s - loss: 0.0054 - val_loss: 0.0043\n",
      "Epoch 19/200\n",
      "    \n"
     ]
    },
    {
     "name": "stderr",
     "output_type": "stream",
     "text": [
      "2017-03-20 19:05:28,076 : INFO : Found lower val loss for epoch 19 => 0.00407\n"
     ]
    },
    {
     "name": "stdout",
     "output_type": "stream",
     "text": [
      "120156/120156 [==============================] - 16s - loss: 0.0054 - val_loss: 0.0041\n",
      "Epoch 20/200\n",
      "120156/120156 [==============================] - 15s - loss: 0.0053 - val_loss: 0.0041\n",
      "Epoch 21/200\n",
      "    \n"
     ]
    },
    {
     "name": "stderr",
     "output_type": "stream",
     "text": [
      "2017-03-20 19:05:58,553 : INFO : Found lower val loss for epoch 21 => 0.00397\n"
     ]
    },
    {
     "name": "stdout",
     "output_type": "stream",
     "text": [
      "120156/120156 [==============================] - 14s - loss: 0.0053 - val_loss: 0.0040\n",
      "Epoch 22/200\n",
      "120156/120156 [==============================] - 15s - loss: 0.0052 - val_loss: 0.0041\n",
      "Epoch 23/200\n",
      "    \n"
     ]
    },
    {
     "name": "stderr",
     "output_type": "stream",
     "text": [
      "2017-03-20 19:06:29,905 : INFO : Found lower val loss for epoch 23 => 0.00393\n"
     ]
    },
    {
     "name": "stdout",
     "output_type": "stream",
     "text": [
      "120156/120156 [==============================] - 16s - loss: 0.0052 - val_loss: 0.0039\n",
      "Epoch 24/200\n",
      "    \n"
     ]
    },
    {
     "name": "stderr",
     "output_type": "stream",
     "text": [
      "2017-03-20 19:06:45,002 : INFO : Found lower val loss for epoch 24 => 0.00393\n"
     ]
    },
    {
     "name": "stdout",
     "output_type": "stream",
     "text": [
      "120156/120156 [==============================] - 15s - loss: 0.0052 - val_loss: 0.0039\n",
      "Epoch 25/200\n",
      "120156/120156 [==============================] - 15s - loss: 0.0051 - val_loss: 0.0040\n",
      "Epoch 26/200\n",
      "120156/120156 [==============================] - 15s - loss: 0.0051 - val_loss: 0.0041\n",
      "Epoch 27/200\n",
      "120156/120156 [==============================] - 16s - loss: 0.0050 - val_loss: 0.0040\n",
      "Epoch 28/200\n",
      "120156/120156 [==============================] - 13s - loss: 0.0050 - val_loss: 0.0039\n",
      "Epoch 29/200\n",
      "    \n"
     ]
    },
    {
     "name": "stderr",
     "output_type": "stream",
     "text": [
      "2017-03-20 19:07:59,717 : INFO : Found lower val loss for epoch 29 => 0.00384\n"
     ]
    },
    {
     "name": "stdout",
     "output_type": "stream",
     "text": [
      "120156/120156 [==============================] - 14s - loss: 0.0050 - val_loss: 0.0038\n",
      "Epoch 30/200\n",
      "120156/120156 [==============================] - 16s - loss: 0.0050 - val_loss: 0.0039\n",
      "Epoch 31/200\n",
      "    \n"
     ]
    },
    {
     "name": "stderr",
     "output_type": "stream",
     "text": [
      "2017-03-20 19:08:31,204 : INFO : Found lower val loss for epoch 31 => 0.00384\n"
     ]
    },
    {
     "name": "stdout",
     "output_type": "stream",
     "text": [
      "120156/120156 [==============================] - 15s - loss: 0.0049 - val_loss: 0.0038\n",
      "Epoch 32/200\n",
      "120156/120156 [==============================] - 15s - loss: 0.0049 - val_loss: 0.0038\n",
      "Epoch 33/200\n",
      "    \n"
     ]
    },
    {
     "name": "stderr",
     "output_type": "stream",
     "text": [
      "2017-03-20 19:09:03,282 : INFO : Found lower val loss for epoch 33 => 0.0038\n"
     ]
    },
    {
     "name": "stdout",
     "output_type": "stream",
     "text": [
      "120156/120156 [==============================] - 16s - loss: 0.0049 - val_loss: 0.0038\n",
      "Epoch 34/200\n",
      "120156/120156 [==============================] - 13s - loss: 0.0049 - val_loss: 0.0040\n",
      "Epoch 35/200\n",
      "120156/120156 [==============================] - 16s - loss: 0.0048 - val_loss: 0.0040\n",
      "Epoch 36/200\n",
      "120156/120156 [==============================] - 13s - loss: 0.0048 - val_loss: 0.0038\n",
      "Epoch 37/200\n",
      "120156/120156 [==============================] - 16s - loss: 0.0048 - val_loss: 0.0040\n",
      "Epoch 38/200\n",
      "120156/120156 [==============================] - 14s - loss: 0.0048 - val_loss: 0.0039\n",
      "Epoch 39/200\n",
      "120156/120156 [==============================] - 15s - loss: 0.0048 - val_loss: 0.0040\n",
      "Epoch 40/200\n",
      "120156/120156 [==============================] - 15s - loss: 0.0047 - val_loss: 0.0039\n",
      "Epoch 41/200\n",
      "    \n"
     ]
    },
    {
     "name": "stderr",
     "output_type": "stream",
     "text": [
      "2017-03-20 19:11:03,914 : INFO : Found lower val loss for epoch 41 => 0.00376\n"
     ]
    },
    {
     "name": "stdout",
     "output_type": "stream",
     "text": [
      "120156/120156 [==============================] - 15s - loss: 0.0047 - val_loss: 0.0038\n",
      "Epoch 42/200\n",
      "120156/120156 [==============================] - 15s - loss: 0.0047 - val_loss: 0.0038\n",
      "Epoch 43/200\n",
      "120156/120156 [==============================] - 14s - loss: 0.0047 - val_loss: 0.0040\n",
      "Epoch 44/200\n",
      "120156/120156 [==============================] - 16s - loss: 0.0047 - val_loss: 0.0039\n",
      "Epoch 45/200\n",
      "120156/120156 [==============================] - 15s - loss: 0.0046 - val_loss: 0.0038\n",
      "Epoch 46/200\n",
      "    \n"
     ]
    },
    {
     "name": "stderr",
     "output_type": "stream",
     "text": [
      "2017-03-20 19:12:22,581 : INFO : Found lower val loss for epoch 46 => 0.00375\n"
     ]
    },
    {
     "name": "stdout",
     "output_type": "stream",
     "text": [
      "120156/120156 [==============================] - 16s - loss: 0.0046 - val_loss: 0.0037\n",
      "Epoch 47/200\n",
      "120156/120156 [==============================] - 14s - loss: 0.0046 - val_loss: 0.0038\n",
      "Epoch 48/200\n",
      "120156/120156 [==============================] - 16s - loss: 0.0046 - val_loss: 0.0039\n",
      "Epoch 49/200\n",
      "120156/120156 [==============================] - 15s - loss: 0.0046 - val_loss: 0.0040\n",
      "Epoch 50/200\n",
      "120156/120156 [==============================] - 16s - loss: 0.0046 - val_loss: 0.0038\n",
      "Epoch 51/200\n",
      "120156/120156 [==============================] - 14s - loss: 0.0045 - val_loss: 0.0038\n",
      "Epoch 52/200\n",
      "120156/120156 [==============================] - 15s - loss: 0.0045 - val_loss: 0.0039\n",
      "Epoch 53/200\n",
      "120156/120156 [==============================] - 15s - loss: 0.0045 - val_loss: 0.0039\n",
      "Epoch 54/200\n",
      "120156/120156 [==============================] - 14s - loss: 0.0045 - val_loss: 0.0040\n",
      "Epoch 55/200\n",
      "120156/120156 [==============================] - 13s - loss: 0.0045 - val_loss: 0.0039\n",
      "Epoch 56/200\n",
      "    \n"
     ]
    },
    {
     "name": "stderr",
     "output_type": "stream",
     "text": [
      "2017-03-20 19:14:54,586 : INFO : Found lower val loss for epoch 56 => 0.00371\n"
     ]
    },
    {
     "name": "stdout",
     "output_type": "stream",
     "text": [
      "120156/120156 [==============================] - 15s - loss: 0.0045 - val_loss: 0.0037\n",
      "Epoch 57/200\n",
      "    \n"
     ]
    },
    {
     "name": "stderr",
     "output_type": "stream",
     "text": [
      "2017-03-20 19:15:09,811 : INFO : Found lower val loss for epoch 57 => 0.00371\n"
     ]
    },
    {
     "name": "stdout",
     "output_type": "stream",
     "text": [
      "120156/120156 [==============================] - 15s - loss: 0.0044 - val_loss: 0.0037\n",
      "Epoch 58/200\n",
      "120156/120156 [==============================] - 15s - loss: 0.0044 - val_loss: 0.0039\n",
      "Epoch 59/200\n",
      "120156/120156 [==============================] - 15s - loss: 0.0044 - val_loss: 0.0038\n",
      "Epoch 60/200\n",
      "120156/120156 [==============================] - 16s - loss: 0.0044 - val_loss: 0.0037\n",
      "Epoch 61/200\n",
      "120156/120156 [==============================] - 16s - loss: 0.0044 - val_loss: 0.0037\n",
      "Epoch 62/200\n",
      "120156/120156 [==============================] - 16s - loss: 0.0044 - val_loss: 0.0039\n",
      "Epoch 63/200\n",
      "120156/120156 [==============================] - 16s - loss: 0.0044 - val_loss: 0.0038\n",
      "Epoch 64/200\n",
      "120156/120156 [==============================] - 15s - loss: 0.0044 - val_loss: 0.0038\n",
      "Epoch 65/200\n",
      "120156/120156 [==============================] - 15s - loss: 0.0043 - val_loss: 0.0038\n",
      "Epoch 66/200\n",
      "120156/120156 [==============================] - 13s - loss: 0.0043 - val_loss: 0.0038\n",
      "Epoch 67/200\n",
      "120156/120156 [==============================] - 15s - loss: 0.0043 - val_loss: 0.0039"
     ]
    },
    {
     "name": "stderr",
     "output_type": "stream",
     "text": [
      "2017-03-20 19:17:47,170 : INFO : Evaluating on Training Data\n"
     ]
    },
    {
     "name": "stdout",
     "output_type": "stream",
     "text": [
      "\n",
      "Epoch 00066: early stopping\n",
      "CPU times: user 6min 23s, sys: 10min 22s, total: 16min 46s\n",
      "Wall time: 17min 36s\n"
     ]
    },
    {
     "name": "stderr",
     "output_type": "stream",
     "text": [
      "2017-03-20 19:18:52,488 : INFO : Generating Training Metrics\n",
      "2017-03-20 19:19:47,325 : INFO : Evaluating on Validation Data using saved best weights\n"
     ]
    },
    {
     "name": "stdout",
     "output_type": "stream",
     "text": [
      "****** Training Metrics: Cov Err: 5.567 | Top 3: 0.751 | Top 5: 0.834 | F1 Micro: 0.590 | F1 Macro: 0.269\n"
     ]
    },
    {
     "name": "stderr",
     "output_type": "stream",
     "text": [
      "2017-03-20 19:20:01,898 : INFO : Generating Validation Metrics\n"
     ]
    },
    {
     "name": "stdout",
     "output_type": "stream",
     "text": [
      "****** Validation Metrics: Cov Err: 9.896 | Top 3: 0.706 | Top 5: 0.793 | F1 Micro: 0.515 | F1 Macro: 0.114\n"
     ]
    },
    {
     "name": "stderr",
     "output_type": "stream",
     "text": [
      "2017-03-20 19:20:13,110 : INFO : ***************************************************************************************\n",
      "2017-03-20 19:20:13,113 : INFO : lstm_optimizer_rmsprop_size_500_w-drop_0.4_u-drop_0.5_stack_2_conv_None\n"
     ]
    },
    {
     "name": "stdout",
     "output_type": "stream",
     "text": [
      "____________________________________________________________________________________________________\n",
      "Layer (type)                     Output Shape          Param #     Connected to                     \n",
      "====================================================================================================\n",
      "lstm_500_u-drop_0.5_w-drop_0.4_l (None, None, 500)     1402000     lstm_input_8[0][0]               \n",
      "____________________________________________________________________________________________________\n",
      "lstm_500_u-drop_0.5_w-drop_0.4_l (None, 500)           2002000     lstm_500_u-drop_0.5_w-drop_0.4_la\n",
      "____________________________________________________________________________________________________\n",
      "sigmoid_output (Dense)           (None, 940)           470940      lstm_500_u-drop_0.5_w-drop_0.4_la\n",
      "====================================================================================================\n",
      "Total params: 3874940\n",
      "____________________________________________________________________________________________________\n",
      "Train on 120156 samples, validate on 29675 samples\n",
      "Epoch 1/200\n",
      "    \n"
     ]
    },
    {
     "name": "stderr",
     "output_type": "stream",
     "text": [
      "2017-03-20 19:21:01,554 : INFO : Found lower val loss for epoch 1 => 0.00843\n"
     ]
    },
    {
     "name": "stdout",
     "output_type": "stream",
     "text": [
      "120156/120156 [==============================] - 12s - loss: 0.0431 - val_loss: 0.0084\n",
      "Epoch 2/200\n",
      "    \n"
     ]
    },
    {
     "name": "stderr",
     "output_type": "stream",
     "text": [
      "2017-03-20 19:21:13,801 : INFO : Found lower val loss for epoch 2 => 0.00775\n"
     ]
    },
    {
     "name": "stdout",
     "output_type": "stream",
     "text": [
      "120156/120156 [==============================] - 12s - loss: 0.0102 - val_loss: 0.0078\n",
      "Epoch 3/200\n",
      "    \n"
     ]
    },
    {
     "name": "stderr",
     "output_type": "stream",
     "text": [
      "2017-03-20 19:21:26,178 : INFO : Found lower val loss for epoch 3 => 0.00661\n"
     ]
    },
    {
     "name": "stdout",
     "output_type": "stream",
     "text": [
      "120156/120156 [==============================] - 12s - loss: 0.0090 - val_loss: 0.0066\n",
      "Epoch 4/200\n",
      "    \n"
     ]
    },
    {
     "name": "stderr",
     "output_type": "stream",
     "text": [
      "2017-03-20 19:21:38,289 : INFO : Found lower val loss for epoch 4 => 0.00593\n"
     ]
    },
    {
     "name": "stdout",
     "output_type": "stream",
     "text": [
      "120156/120156 [==============================] - 12s - loss: 0.0079 - val_loss: 0.0059\n",
      "Epoch 5/200\n",
      "    \n"
     ]
    },
    {
     "name": "stderr",
     "output_type": "stream",
     "text": [
      "2017-03-20 19:21:50,586 : INFO : Found lower val loss for epoch 5 => 0.00535\n"
     ]
    },
    {
     "name": "stdout",
     "output_type": "stream",
     "text": [
      "120156/120156 [==============================] - 12s - loss: 0.0072 - val_loss: 0.0053\n",
      "Epoch 6/200\n",
      "    \n"
     ]
    },
    {
     "name": "stderr",
     "output_type": "stream",
     "text": [
      "2017-03-20 19:22:03,341 : INFO : Found lower val loss for epoch 6 => 0.00497\n"
     ]
    },
    {
     "name": "stdout",
     "output_type": "stream",
     "text": [
      "120156/120156 [==============================] - 12s - loss: 0.0068 - val_loss: 0.0050\n",
      "Epoch 7/200\n",
      "    \n"
     ]
    },
    {
     "name": "stderr",
     "output_type": "stream",
     "text": [
      "2017-03-20 19:22:18,203 : INFO : Found lower val loss for epoch 7 => 0.00488\n"
     ]
    },
    {
     "name": "stdout",
     "output_type": "stream",
     "text": [
      "120156/120156 [==============================] - 14s - loss: 0.0065 - val_loss: 0.0049\n",
      "Epoch 8/200\n",
      "    \n"
     ]
    },
    {
     "name": "stderr",
     "output_type": "stream",
     "text": [
      "2017-03-20 19:22:33,098 : INFO : Found lower val loss for epoch 8 => 0.00459\n"
     ]
    },
    {
     "name": "stdout",
     "output_type": "stream",
     "text": [
      "120156/120156 [==============================] - 14s - loss: 0.0063 - val_loss: 0.0046\n",
      "Epoch 9/200\n",
      "120156/120156 [==============================] - 14s - loss: 0.0061 - val_loss: 0.0047\n",
      "Epoch 10/200\n",
      "    \n"
     ]
    },
    {
     "name": "stderr",
     "output_type": "stream",
     "text": [
      "2017-03-20 19:23:02,119 : INFO : Found lower val loss for epoch 10 => 0.00446\n"
     ]
    },
    {
     "name": "stdout",
     "output_type": "stream",
     "text": [
      "120156/120156 [==============================] - 14s - loss: 0.0060 - val_loss: 0.0045\n",
      "Epoch 11/200\n",
      "    \n"
     ]
    },
    {
     "name": "stderr",
     "output_type": "stream",
     "text": [
      "2017-03-20 19:23:17,634 : INFO : Found lower val loss for epoch 11 => 0.00444\n"
     ]
    },
    {
     "name": "stdout",
     "output_type": "stream",
     "text": [
      "120156/120156 [==============================] - 15s - loss: 0.0059 - val_loss: 0.0044\n",
      "Epoch 12/200\n",
      "    \n"
     ]
    },
    {
     "name": "stderr",
     "output_type": "stream",
     "text": [
      "2017-03-20 19:23:31,696 : INFO : Found lower val loss for epoch 12 => 0.00429\n"
     ]
    },
    {
     "name": "stdout",
     "output_type": "stream",
     "text": [
      "120156/120156 [==============================] - 14s - loss: 0.0058 - val_loss: 0.0043\n",
      "Epoch 13/200\n",
      "    \n"
     ]
    },
    {
     "name": "stderr",
     "output_type": "stream",
     "text": [
      "2017-03-20 19:23:46,405 : INFO : Found lower val loss for epoch 13 => 0.00428\n"
     ]
    },
    {
     "name": "stdout",
     "output_type": "stream",
     "text": [
      "120156/120156 [==============================] - 14s - loss: 0.0057 - val_loss: 0.0043\n",
      "Epoch 14/200\n",
      "    \n"
     ]
    },
    {
     "name": "stderr",
     "output_type": "stream",
     "text": [
      "2017-03-20 19:24:00,256 : INFO : Found lower val loss for epoch 14 => 0.00416\n"
     ]
    },
    {
     "name": "stdout",
     "output_type": "stream",
     "text": [
      "120156/120156 [==============================] - 13s - loss: 0.0056 - val_loss: 0.0042\n",
      "Epoch 15/200\n",
      "120156/120156 [==============================] - 14s - loss: 0.0055 - val_loss: 0.0042\n",
      "Epoch 16/200\n",
      "    \n"
     ]
    },
    {
     "name": "stderr",
     "output_type": "stream",
     "text": [
      "2017-03-20 19:24:28,473 : INFO : Found lower val loss for epoch 16 => 0.00404\n"
     ]
    },
    {
     "name": "stdout",
     "output_type": "stream",
     "text": [
      "120156/120156 [==============================] - 13s - loss: 0.0055 - val_loss: 0.0040\n",
      "Epoch 17/200\n",
      "120156/120156 [==============================] - 14s - loss: 0.0054 - val_loss: 0.0041\n",
      "Epoch 18/200\n",
      "120156/120156 [==============================] - 14s - loss: 0.0054 - val_loss: 0.0041\n",
      "Epoch 19/200\n",
      "120156/120156 [==============================] - 14s - loss: 0.0053 - val_loss: 0.0042\n",
      "Epoch 20/200\n",
      "    \n"
     ]
    },
    {
     "name": "stderr",
     "output_type": "stream",
     "text": [
      "2017-03-20 19:25:25,588 : INFO : Found lower val loss for epoch 20 => 0.00399\n"
     ]
    },
    {
     "name": "stdout",
     "output_type": "stream",
     "text": [
      "120156/120156 [==============================] - 14s - loss: 0.0053 - val_loss: 0.0040\n",
      "Epoch 21/200\n",
      "120156/120156 [==============================] - 14s - loss: 0.0052 - val_loss: 0.0040\n",
      "Epoch 22/200\n",
      "120156/120156 [==============================] - 14s - loss: 0.0052 - val_loss: 0.0041\n",
      "Epoch 23/200\n",
      "120156/120156 [==============================] - 13s - loss: 0.0051 - val_loss: 0.0040\n",
      "Epoch 24/200\n",
      "    \n"
     ]
    },
    {
     "name": "stderr",
     "output_type": "stream",
     "text": [
      "2017-03-20 19:26:22,521 : INFO : Found lower val loss for epoch 24 => 0.00395\n"
     ]
    },
    {
     "name": "stdout",
     "output_type": "stream",
     "text": [
      "120156/120156 [==============================] - 14s - loss: 0.0051 - val_loss: 0.0039\n",
      "Epoch 25/200\n",
      "120156/120156 [==============================] - 13s - loss: 0.0051 - val_loss: 0.0040\n",
      "Epoch 26/200\n",
      "    \n"
     ]
    },
    {
     "name": "stderr",
     "output_type": "stream",
     "text": [
      "2017-03-20 19:26:48,622 : INFO : Found lower val loss for epoch 26 => 0.0039\n"
     ]
    },
    {
     "name": "stdout",
     "output_type": "stream",
     "text": [
      "120156/120156 [==============================] - 13s - loss: 0.0050 - val_loss: 0.0039\n",
      "Epoch 27/200\n",
      "    \n"
     ]
    },
    {
     "name": "stderr",
     "output_type": "stream",
     "text": [
      "2017-03-20 19:27:01,561 : INFO : Found lower val loss for epoch 27 => 0.00385\n"
     ]
    },
    {
     "name": "stdout",
     "output_type": "stream",
     "text": [
      "120156/120156 [==============================] - 12s - loss: 0.0050 - val_loss: 0.0038\n",
      "Epoch 28/200\n",
      "    \n"
     ]
    },
    {
     "name": "stderr",
     "output_type": "stream",
     "text": [
      "2017-03-20 19:27:14,530 : INFO : Found lower val loss for epoch 28 => 0.00384\n"
     ]
    },
    {
     "name": "stdout",
     "output_type": "stream",
     "text": [
      "120156/120156 [==============================] - 12s - loss: 0.0050 - val_loss: 0.0038\n",
      "Epoch 29/200\n",
      "120156/120156 [==============================] - 12s - loss: 0.0049 - val_loss: 0.0041\n",
      "Epoch 30/200\n",
      "120156/120156 [==============================] - 12s - loss: 0.0049 - val_loss: 0.0039\n",
      "Epoch 31/200\n",
      "120156/120156 [==============================] - 12s - loss: 0.0049 - val_loss: 0.0039\n",
      "Epoch 32/200\n",
      "120156/120156 [==============================] - 12s - loss: 0.0049 - val_loss: 0.0039\n",
      "Epoch 33/200\n",
      "    \n"
     ]
    },
    {
     "name": "stderr",
     "output_type": "stream",
     "text": [
      "2017-03-20 19:28:18,773 : INFO : Found lower val loss for epoch 33 => 0.0038\n"
     ]
    },
    {
     "name": "stdout",
     "output_type": "stream",
     "text": [
      "120156/120156 [==============================] - 12s - loss: 0.0048 - val_loss: 0.0038\n",
      "Epoch 34/200\n",
      "120156/120156 [==============================] - 13s - loss: 0.0048 - val_loss: 0.0039\n",
      "Epoch 35/200\n",
      "120156/120156 [==============================] - 12s - loss: 0.0048 - val_loss: 0.0040\n",
      "Epoch 36/200\n",
      "120156/120156 [==============================] - 12s - loss: 0.0048 - val_loss: 0.0039\n",
      "Epoch 37/200\n",
      "120156/120156 [==============================] - 13s - loss: 0.0047 - val_loss: 0.0039\n",
      "Epoch 38/200\n",
      "120156/120156 [==============================] - 13s - loss: 0.0047 - val_loss: 0.0040\n",
      "Epoch 39/200\n",
      "120156/120156 [==============================] - 12s - loss: 0.0047 - val_loss: 0.0039\n",
      "Epoch 40/200\n",
      "120156/120156 [==============================] - 12s - loss: 0.0047 - val_loss: 0.0039\n",
      "Epoch 41/200\n",
      "120156/120156 [==============================] - 13s - loss: 0.0047 - val_loss: 0.0039\n",
      "Epoch 42/200\n",
      "120156/120156 [==============================] - 12s - loss: 0.0046 - val_loss: 0.0039\n",
      "Epoch 43/200\n",
      "120156/120156 [==============================] - 12s - loss: 0.0046 - val_loss: 0.0038\n",
      "Epoch 44/200\n",
      "120156/120156 [==============================] - 12s - loss: 0.0046 - val_loss: 0.0040"
     ]
    },
    {
     "name": "stderr",
     "output_type": "stream",
     "text": [
      "2017-03-20 19:30:41,000 : INFO : Evaluating on Training Data\n"
     ]
    },
    {
     "name": "stdout",
     "output_type": "stream",
     "text": [
      "\n",
      "Epoch 00043: early stopping\n",
      "CPU times: user 3min 56s, sys: 5min 59s, total: 9min 56s\n",
      "Wall time: 10min 25s\n"
     ]
    },
    {
     "name": "stderr",
     "output_type": "stream",
     "text": [
      "2017-03-20 19:31:44,411 : INFO : Generating Training Metrics\n",
      "2017-03-20 19:32:39,025 : INFO : Evaluating on Validation Data using saved best weights\n"
     ]
    },
    {
     "name": "stdout",
     "output_type": "stream",
     "text": [
      "****** Training Metrics: Cov Err: 6.820 | Top 3: 0.720 | Top 5: 0.805 | F1 Micro: 0.555 | F1 Macro: 0.197\n"
     ]
    },
    {
     "name": "stderr",
     "output_type": "stream",
     "text": [
      "2017-03-20 19:32:52,754 : INFO : Generating Validation Metrics\n"
     ]
    },
    {
     "name": "stdout",
     "output_type": "stream",
     "text": [
      "****** Validation Metrics: Cov Err: 10.364 | Top 3: 0.693 | Top 5: 0.782 | F1 Micro: 0.494 | F1 Macro: 0.086\n"
     ]
    },
    {
     "name": "stderr",
     "output_type": "stream",
     "text": [
      "2017-03-20 19:33:03,524 : INFO : ***************************************************************************************\n",
      "2017-03-20 19:33:03,526 : INFO : lstm_optimizer_rmsprop_size_300_w-drop_0.4_u-drop_0.5_stack_3_conv_None\n"
     ]
    },
    {
     "name": "stdout",
     "output_type": "stream",
     "text": [
      "____________________________________________________________________________________________________\n",
      "Layer (type)                     Output Shape          Param #     Connected to                     \n",
      "====================================================================================================\n",
      "lstm_300_u-drop_0.5_w-drop_0.4_l (None, None, 300)     601200      lstm_input_9[0][0]               \n",
      "____________________________________________________________________________________________________\n",
      "lstm_300_u-drop_0.5_w-drop_0.4_l (None, None, 300)     721200      lstm_300_u-drop_0.5_w-drop_0.4_la\n",
      "____________________________________________________________________________________________________\n",
      "lstm_300_u-drop_0.5_w-drop_0.4_l (None, 300)           721200      lstm_300_u-drop_0.5_w-drop_0.4_la\n",
      "____________________________________________________________________________________________________\n",
      "sigmoid_output (Dense)           (None, 940)           282940      lstm_300_u-drop_0.5_w-drop_0.4_la\n",
      "====================================================================================================\n",
      "Total params: 2326540\n",
      "____________________________________________________________________________________________________\n",
      "Train on 120156 samples, validate on 29675 samples\n",
      "Epoch 1/200\n",
      "    \n"
     ]
    },
    {
     "name": "stderr",
     "output_type": "stream",
     "text": [
      "2017-03-20 19:34:21,579 : INFO : Found lower val loss for epoch 1 => 0.00857\n"
     ]
    },
    {
     "name": "stdout",
     "output_type": "stream",
     "text": [
      "120156/120156 [==============================] - 14s - loss: 0.0549 - val_loss: 0.0086\n",
      "Epoch 2/200\n",
      "    \n"
     ]
    },
    {
     "name": "stderr",
     "output_type": "stream",
     "text": [
      "2017-03-20 19:34:35,730 : INFO : Found lower val loss for epoch 2 => 0.00835\n"
     ]
    },
    {
     "name": "stdout",
     "output_type": "stream",
     "text": [
      "120156/120156 [==============================] - 14s - loss: 0.0103 - val_loss: 0.0083\n",
      "Epoch 3/200\n",
      "    \n"
     ]
    },
    {
     "name": "stderr",
     "output_type": "stream",
     "text": [
      "2017-03-20 19:34:50,096 : INFO : Found lower val loss for epoch 3 => 0.00794\n"
     ]
    },
    {
     "name": "stdout",
     "output_type": "stream",
     "text": [
      "120156/120156 [==============================] - 14s - loss: 0.0101 - val_loss: 0.0079\n",
      "Epoch 4/200\n",
      "    \n"
     ]
    },
    {
     "name": "stderr",
     "output_type": "stream",
     "text": [
      "2017-03-20 19:35:04,582 : INFO : Found lower val loss for epoch 4 => 0.00726\n"
     ]
    },
    {
     "name": "stdout",
     "output_type": "stream",
     "text": [
      "120156/120156 [==============================] - 14s - loss: 0.0094 - val_loss: 0.0073\n",
      "Epoch 5/200\n",
      "    \n"
     ]
    },
    {
     "name": "stderr",
     "output_type": "stream",
     "text": [
      "2017-03-20 19:35:18,949 : INFO : Found lower val loss for epoch 5 => 0.00683\n"
     ]
    },
    {
     "name": "stdout",
     "output_type": "stream",
     "text": [
      "120156/120156 [==============================] - 14s - loss: 0.0088 - val_loss: 0.0068\n",
      "Epoch 6/200\n",
      "    \n"
     ]
    },
    {
     "name": "stderr",
     "output_type": "stream",
     "text": [
      "2017-03-20 19:35:33,728 : INFO : Found lower val loss for epoch 6 => 0.00638\n"
     ]
    },
    {
     "name": "stdout",
     "output_type": "stream",
     "text": [
      "120156/120156 [==============================] - 14s - loss: 0.0083 - val_loss: 0.0064\n",
      "Epoch 7/200\n",
      "    \n"
     ]
    },
    {
     "name": "stderr",
     "output_type": "stream",
     "text": [
      "2017-03-20 19:35:48,551 : INFO : Found lower val loss for epoch 7 => 0.00595\n"
     ]
    },
    {
     "name": "stdout",
     "output_type": "stream",
     "text": [
      "120156/120156 [==============================] - 14s - loss: 0.0078 - val_loss: 0.0059\n",
      "Epoch 8/200\n",
      "    \n"
     ]
    },
    {
     "name": "stderr",
     "output_type": "stream",
     "text": [
      "2017-03-20 19:36:03,283 : INFO : Found lower val loss for epoch 8 => 0.00564\n"
     ]
    },
    {
     "name": "stdout",
     "output_type": "stream",
     "text": [
      "120156/120156 [==============================] - 14s - loss: 0.0075 - val_loss: 0.0056\n",
      "Epoch 9/200\n",
      "    \n"
     ]
    },
    {
     "name": "stderr",
     "output_type": "stream",
     "text": [
      "2017-03-20 19:36:17,660 : INFO : Found lower val loss for epoch 9 => 0.00538\n"
     ]
    },
    {
     "name": "stdout",
     "output_type": "stream",
     "text": [
      "120156/120156 [==============================] - 14s - loss: 0.0072 - val_loss: 0.0054\n",
      "Epoch 10/200\n",
      "    \n"
     ]
    },
    {
     "name": "stderr",
     "output_type": "stream",
     "text": [
      "2017-03-20 19:36:32,586 : INFO : Found lower val loss for epoch 10 => 0.00524\n"
     ]
    },
    {
     "name": "stdout",
     "output_type": "stream",
     "text": [
      "120156/120156 [==============================] - 14s - loss: 0.0070 - val_loss: 0.0052\n",
      "Epoch 11/200\n",
      "    \n"
     ]
    },
    {
     "name": "stderr",
     "output_type": "stream",
     "text": [
      "2017-03-20 19:36:47,425 : INFO : Found lower val loss for epoch 11 => 0.00518\n"
     ]
    },
    {
     "name": "stdout",
     "output_type": "stream",
     "text": [
      "120156/120156 [==============================] - 14s - loss: 0.0068 - val_loss: 0.0052\n",
      "Epoch 12/200\n",
      "    \n"
     ]
    },
    {
     "name": "stderr",
     "output_type": "stream",
     "text": [
      "2017-03-20 19:37:01,765 : INFO : Found lower val loss for epoch 12 => 0.00498\n"
     ]
    },
    {
     "name": "stdout",
     "output_type": "stream",
     "text": [
      "120156/120156 [==============================] - 14s - loss: 0.0066 - val_loss: 0.0050\n",
      "Epoch 13/200\n",
      "    \n"
     ]
    },
    {
     "name": "stderr",
     "output_type": "stream",
     "text": [
      "2017-03-20 19:37:16,079 : INFO : Found lower val loss for epoch 13 => 0.00488\n"
     ]
    },
    {
     "name": "stdout",
     "output_type": "stream",
     "text": [
      "120156/120156 [==============================] - 14s - loss: 0.0065 - val_loss: 0.0049\n",
      "Epoch 14/200\n",
      "    \n"
     ]
    },
    {
     "name": "stderr",
     "output_type": "stream",
     "text": [
      "2017-03-20 19:37:30,529 : INFO : Found lower val loss for epoch 14 => 0.0048\n"
     ]
    },
    {
     "name": "stdout",
     "output_type": "stream",
     "text": [
      "120156/120156 [==============================] - 14s - loss: 0.0064 - val_loss: 0.0048\n",
      "Epoch 15/200\n",
      "    \n"
     ]
    },
    {
     "name": "stderr",
     "output_type": "stream",
     "text": [
      "2017-03-20 19:37:44,822 : INFO : Found lower val loss for epoch 15 => 0.00471\n"
     ]
    },
    {
     "name": "stdout",
     "output_type": "stream",
     "text": [
      "120156/120156 [==============================] - 14s - loss: 0.0063 - val_loss: 0.0047\n",
      "Epoch 16/200\n",
      "120156/120156 [==============================] - 14s - loss: 0.0062 - val_loss: 0.0047\n",
      "Epoch 17/200\n",
      "    \n"
     ]
    },
    {
     "name": "stderr",
     "output_type": "stream",
     "text": [
      "2017-03-20 19:38:17,501 : INFO : Found lower val loss for epoch 17 => 0.00459\n"
     ]
    },
    {
     "name": "stdout",
     "output_type": "stream",
     "text": [
      "120156/120156 [==============================] - 18s - loss: 0.0061 - val_loss: 0.0046\n",
      "Epoch 18/200\n",
      "    \n"
     ]
    },
    {
     "name": "stderr",
     "output_type": "stream",
     "text": [
      "2017-03-20 19:38:32,039 : INFO : Found lower val loss for epoch 18 => 0.00457\n"
     ]
    },
    {
     "name": "stdout",
     "output_type": "stream",
     "text": [
      "120156/120156 [==============================] - 14s - loss: 0.0060 - val_loss: 0.0046\n",
      "Epoch 19/200\n",
      "    \n"
     ]
    },
    {
     "name": "stderr",
     "output_type": "stream",
     "text": [
      "2017-03-20 19:38:46,502 : INFO : Found lower val loss for epoch 19 => 0.00449\n"
     ]
    },
    {
     "name": "stdout",
     "output_type": "stream",
     "text": [
      "120156/120156 [==============================] - 14s - loss: 0.0060 - val_loss: 0.0045\n",
      "Epoch 20/200\n",
      "    \n"
     ]
    },
    {
     "name": "stderr",
     "output_type": "stream",
     "text": [
      "2017-03-20 19:39:01,026 : INFO : Found lower val loss for epoch 20 => 0.00441\n"
     ]
    },
    {
     "name": "stdout",
     "output_type": "stream",
     "text": [
      "120156/120156 [==============================] - 14s - loss: 0.0059 - val_loss: 0.0044\n",
      "Epoch 21/200\n",
      "    \n"
     ]
    },
    {
     "name": "stderr",
     "output_type": "stream",
     "text": [
      "2017-03-20 19:39:15,637 : INFO : Found lower val loss for epoch 21 => 0.00438\n"
     ]
    },
    {
     "name": "stdout",
     "output_type": "stream",
     "text": [
      "120156/120156 [==============================] - 14s - loss: 0.0058 - val_loss: 0.0044\n",
      "Epoch 22/200\n",
      "120156/120156 [==============================] - 14s - loss: 0.0058 - val_loss: 0.0044\n",
      "Epoch 23/200\n",
      "    \n"
     ]
    },
    {
     "name": "stderr",
     "output_type": "stream",
     "text": [
      "2017-03-20 19:39:44,764 : INFO : Found lower val loss for epoch 23 => 0.00433\n"
     ]
    },
    {
     "name": "stdout",
     "output_type": "stream",
     "text": [
      "120156/120156 [==============================] - 14s - loss: 0.0057 - val_loss: 0.0043\n",
      "Epoch 24/200\n",
      "    \n"
     ]
    },
    {
     "name": "stderr",
     "output_type": "stream",
     "text": [
      "2017-03-20 19:39:59,409 : INFO : Found lower val loss for epoch 24 => 0.00429\n"
     ]
    },
    {
     "name": "stdout",
     "output_type": "stream",
     "text": [
      "120156/120156 [==============================] - 14s - loss: 0.0057 - val_loss: 0.0043\n",
      "Epoch 25/200\n",
      "    \n"
     ]
    },
    {
     "name": "stderr",
     "output_type": "stream",
     "text": [
      "2017-03-20 19:40:15,385 : INFO : Found lower val loss for epoch 25 => 0.00424\n"
     ]
    },
    {
     "name": "stdout",
     "output_type": "stream",
     "text": [
      "120156/120156 [==============================] - 15s - loss: 0.0056 - val_loss: 0.0042\n",
      "Epoch 26/200\n",
      "    \n"
     ]
    },
    {
     "name": "stderr",
     "output_type": "stream",
     "text": [
      "2017-03-20 19:40:30,082 : INFO : Found lower val loss for epoch 26 => 0.00423\n"
     ]
    },
    {
     "name": "stdout",
     "output_type": "stream",
     "text": [
      "120156/120156 [==============================] - 14s - loss: 0.0056 - val_loss: 0.0042\n",
      "Epoch 27/200\n",
      "120156/120156 [==============================] - 14s - loss: 0.0056 - val_loss: 0.0043\n",
      "Epoch 28/200\n",
      "120156/120156 [==============================] - 14s - loss: 0.0055 - val_loss: 0.0042\n",
      "Epoch 29/200\n",
      "    \n"
     ]
    },
    {
     "name": "stderr",
     "output_type": "stream",
     "text": [
      "2017-03-20 19:41:13,726 : INFO : Found lower val loss for epoch 29 => 0.00418\n"
     ]
    },
    {
     "name": "stdout",
     "output_type": "stream",
     "text": [
      "120156/120156 [==============================] - 14s - loss: 0.0055 - val_loss: 0.0042\n",
      "Epoch 30/200\n",
      "120156/120156 [==============================] - 14s - loss: 0.0055 - val_loss: 0.0042\n",
      "Epoch 31/200\n",
      "120156/120156 [==============================] - 14s - loss: 0.0054 - val_loss: 0.0042\n",
      "Epoch 32/200\n",
      "    \n"
     ]
    },
    {
     "name": "stderr",
     "output_type": "stream",
     "text": [
      "2017-03-20 19:41:57,067 : INFO : Found lower val loss for epoch 32 => 0.00414\n"
     ]
    },
    {
     "name": "stdout",
     "output_type": "stream",
     "text": [
      "120156/120156 [==============================] - 14s - loss: 0.0054 - val_loss: 0.0041\n",
      "Epoch 33/200\n",
      "    \n"
     ]
    },
    {
     "name": "stderr",
     "output_type": "stream",
     "text": [
      "2017-03-20 19:42:11,948 : INFO : Found lower val loss for epoch 33 => 0.00411\n"
     ]
    },
    {
     "name": "stdout",
     "output_type": "stream",
     "text": [
      "120156/120156 [==============================] - 14s - loss: 0.0054 - val_loss: 0.0041\n",
      "Epoch 34/200\n",
      "    \n"
     ]
    },
    {
     "name": "stderr",
     "output_type": "stream",
     "text": [
      "2017-03-20 19:42:26,512 : INFO : Found lower val loss for epoch 34 => 0.00411\n"
     ]
    },
    {
     "name": "stdout",
     "output_type": "stream",
     "text": [
      "120156/120156 [==============================] - 14s - loss: 0.0053 - val_loss: 0.0041\n",
      "Epoch 35/200\n",
      "120156/120156 [==============================] - 15s - loss: 0.0053 - val_loss: 0.0042\n",
      "Epoch 36/200\n",
      "    \n"
     ]
    },
    {
     "name": "stderr",
     "output_type": "stream",
     "text": [
      "2017-03-20 19:42:56,955 : INFO : Found lower val loss for epoch 36 => 0.00406\n"
     ]
    },
    {
     "name": "stdout",
     "output_type": "stream",
     "text": [
      "120156/120156 [==============================] - 15s - loss: 0.0053 - val_loss: 0.0041\n",
      "Epoch 37/200\n",
      "120156/120156 [==============================] - 17s - loss: 0.0053 - val_loss: 0.0041\n",
      "Epoch 38/200\n",
      "    \n"
     ]
    },
    {
     "name": "stderr",
     "output_type": "stream",
     "text": [
      "2017-03-20 19:43:30,160 : INFO : Found lower val loss for epoch 38 => 0.00404\n"
     ]
    },
    {
     "name": "stdout",
     "output_type": "stream",
     "text": [
      "120156/120156 [==============================] - 15s - loss: 0.0052 - val_loss: 0.0040\n",
      "Epoch 39/200\n",
      "    \n"
     ]
    },
    {
     "name": "stderr",
     "output_type": "stream",
     "text": [
      "2017-03-20 19:43:47,098 : INFO : Found lower val loss for epoch 39 => 0.00401\n"
     ]
    },
    {
     "name": "stdout",
     "output_type": "stream",
     "text": [
      "120156/120156 [==============================] - 16s - loss: 0.0052 - val_loss: 0.0040\n",
      "Epoch 40/200\n",
      "120156/120156 [==============================] - 14s - loss: 0.0052 - val_loss: 0.0040\n",
      "Epoch 41/200\n",
      "    \n"
     ]
    },
    {
     "name": "stderr",
     "output_type": "stream",
     "text": [
      "2017-03-20 19:44:16,878 : INFO : Found lower val loss for epoch 41 => 0.00399\n"
     ]
    },
    {
     "name": "stdout",
     "output_type": "stream",
     "text": [
      "120156/120156 [==============================] - 14s - loss: 0.0052 - val_loss: 0.0040\n",
      "Epoch 42/200\n",
      "120156/120156 [==============================] - 14s - loss: 0.0052 - val_loss: 0.0040\n",
      "Epoch 43/200\n",
      "120156/120156 [==============================] - 14s - loss: 0.0051 - val_loss: 0.0040\n",
      "Epoch 44/200\n",
      "120156/120156 [==============================] - 14s - loss: 0.0051 - val_loss: 0.0040\n",
      "Epoch 45/200\n",
      "    \n"
     ]
    },
    {
     "name": "stderr",
     "output_type": "stream",
     "text": [
      "2017-03-20 19:45:15,845 : INFO : Found lower val loss for epoch 45 => 0.00393\n"
     ]
    },
    {
     "name": "stdout",
     "output_type": "stream",
     "text": [
      "120156/120156 [==============================] - 15s - loss: 0.0051 - val_loss: 0.0039\n",
      "Epoch 46/200\n",
      "120156/120156 [==============================] - 14s - loss: 0.0051 - val_loss: 0.0040\n",
      "Epoch 47/200\n",
      "120156/120156 [==============================] - 14s - loss: 0.0051 - val_loss: 0.0039\n",
      "Epoch 48/200\n",
      "120156/120156 [==============================] - 14s - loss: 0.0050 - val_loss: 0.0040\n",
      "Epoch 49/200\n",
      "120156/120156 [==============================] - 17s - loss: 0.0050 - val_loss: 0.0040\n",
      "Epoch 50/200\n",
      " 88064/120156 [====================>.........] - ETA: 22s - loss: 0.0050"
     ]
    },
    {
     "name": "stderr",
     "output_type": "stream",
     "text": [
      "/home/stud/shalaby/.virtualenv/thesis-env/local/lib/python2.7/site-packages/keras/callbacks.py:70: UserWarning: Method on_batch_end() is slow compared to the batch update (0.340087). Check your callbacks.\n",
      "  % delta_t_median)\n"
     ]
    },
    {
     "name": "stdout",
     "output_type": "stream",
     "text": [
      "120156/120156 [==============================] - 70s - loss: 0.0050 - val_loss: 0.0040\n",
      "Epoch 51/200\n",
      "120156/120156 [==============================] - 34s - loss: 0.0050 - val_loss: 0.0039\n",
      "Epoch 52/200\n",
      "  4096/120156 [>.............................] - ETA: 309s - loss: 0.0050"
     ]
    },
    {
     "name": "stderr",
     "output_type": "stream",
     "text": [
      "/home/stud/shalaby/.virtualenv/thesis-env/local/lib/python2.7/site-packages/keras/callbacks.py:70: UserWarning: Method on_batch_end() is slow compared to the batch update (1.138400). Check your callbacks.\n",
      "  % delta_t_median)\n"
     ]
    },
    {
     "name": "stdout",
     "output_type": "stream",
     "text": [
      "    \n"
     ]
    },
    {
     "name": "stderr",
     "output_type": "stream",
     "text": [
      "2017-03-20 19:50:11,032 : INFO : Found lower val loss for epoch 52 => 0.00388\n"
     ]
    },
    {
     "name": "stdout",
     "output_type": "stream",
     "text": [
      "120156/120156 [==============================] - 130s - loss: 0.0050 - val_loss: 0.0039\n",
      "Epoch 53/200\n",
      "  4096/120156 [>.............................] - ETA: 375s - loss: 0.0048"
     ]
    },
    {
     "name": "stderr",
     "output_type": "stream",
     "text": [
      "/home/stud/shalaby/.virtualenv/thesis-env/local/lib/python2.7/site-packages/keras/callbacks.py:70: UserWarning: Method on_batch_end() is slow compared to the batch update (1.629456). Check your callbacks.\n",
      "  % delta_t_median)\n"
     ]
    },
    {
     "name": "stdout",
     "output_type": "stream",
     "text": [
      "120156/120156 [==============================] - 908s - loss: 0.0050 - val_loss: 0.0040\n",
      "Epoch 54/200\n",
      "120156/120156 [==============================] - 73s - loss: 0.0050 - val_loss: 0.0040\n",
      "Epoch 55/200\n",
      "    \n"
     ]
    },
    {
     "name": "stderr",
     "output_type": "stream",
     "text": [
      "2017-03-20 20:07:11,167 : INFO : Found lower val loss for epoch 55 => 0.00387\n"
     ]
    },
    {
     "name": "stdout",
     "output_type": "stream",
     "text": [
      "120156/120156 [==============================] - 29s - loss: 0.0049 - val_loss: 0.0039\n",
      "Epoch 56/200\n",
      "120156/120156 [==============================] - 14s - loss: 0.0049 - val_loss: 0.0040\n",
      "Epoch 57/200\n",
      "120156/120156 [==============================] - 14s - loss: 0.0049 - val_loss: 0.0039\n",
      "Epoch 58/200\n",
      "120156/120156 [==============================] - 14s - loss: 0.0049 - val_loss: 0.0040\n",
      "Epoch 59/200\n",
      "    \n"
     ]
    },
    {
     "name": "stderr",
     "output_type": "stream",
     "text": [
      "2017-03-20 20:08:26,129 : INFO : Found lower val loss for epoch 59 => 0.00384\n"
     ]
    },
    {
     "name": "stdout",
     "output_type": "stream",
     "text": [
      "120156/120156 [==============================] - 30s - loss: 0.0049 - val_loss: 0.0038\n",
      "Epoch 60/200\n",
      "120156/120156 [==============================] - 14s - loss: 0.0049 - val_loss: 0.0039\n",
      "Epoch 61/200\n",
      "120156/120156 [==============================] - 14s - loss: 0.0049 - val_loss: 0.0039\n",
      "Epoch 62/200\n",
      "120156/120156 [==============================] - 14s - loss: 0.0049 - val_loss: 0.0040\n",
      "Epoch 63/200\n",
      "120156/120156 [==============================] - 14s - loss: 0.0048 - val_loss: 0.0039\n",
      "Epoch 64/200\n",
      "120156/120156 [==============================] - 14s - loss: 0.0048 - val_loss: 0.0039\n",
      "Epoch 65/200\n",
      "    \n"
     ]
    },
    {
     "name": "stderr",
     "output_type": "stream",
     "text": [
      "2017-03-20 20:09:54,360 : INFO : Found lower val loss for epoch 65 => 0.00384\n"
     ]
    },
    {
     "name": "stdout",
     "output_type": "stream",
     "text": [
      "120156/120156 [==============================] - 14s - loss: 0.0048 - val_loss: 0.0038\n",
      "Epoch 66/200\n",
      "120156/120156 [==============================] - 15s - loss: 0.0048 - val_loss: 0.0039\n",
      "Epoch 67/200\n",
      "120156/120156 [==============================] - 14s - loss: 0.0048 - val_loss: 0.0039\n",
      "Epoch 68/200\n",
      "120156/120156 [==============================] - 14s - loss: 0.0048 - val_loss: 0.0040\n",
      "Epoch 69/200\n",
      "120156/120156 [==============================] - 14s - loss: 0.0048 - val_loss: 0.0039\n",
      "Epoch 70/200\n",
      "120156/120156 [==============================] - 14s - loss: 0.0048 - val_loss: 0.0039"
     ]
    },
    {
     "name": "stderr",
     "output_type": "stream",
     "text": [
      "2017-03-20 20:11:10,289 : INFO : Evaluating on Training Data\n"
     ]
    },
    {
     "name": "stdout",
     "output_type": "stream",
     "text": [
      "\n",
      "Epoch 00069: early stopping\n",
      "CPU times: user 6min 57s, sys: 11min 2s, total: 17min 59s\n",
      "Wall time: 38min 2s\n"
     ]
    },
    {
     "name": "stderr",
     "output_type": "stream",
     "text": [
      "2017-03-20 20:24:27,873 : INFO : Generating Training Metrics\n",
      "2017-03-20 20:26:29,549 : INFO : Evaluating on Validation Data using saved best weights\n"
     ]
    },
    {
     "name": "stdout",
     "output_type": "stream",
     "text": [
      "****** Training Metrics: Cov Err: 7.783 | Top 3: 0.700 | Top 5: 0.787 | F1 Micro: 0.514 | F1 Macro: 0.114\n"
     ]
    },
    {
     "name": "stderr",
     "output_type": "stream",
     "text": [
      "2017-03-20 20:26:46,116 : INFO : Generating Validation Metrics\n"
     ]
    },
    {
     "name": "stdout",
     "output_type": "stream",
     "text": [
      "****** Validation Metrics: Cov Err: 10.627 | Top 3: 0.688 | Top 5: 0.777 | F1 Micro: 0.504 | F1 Macro: 0.081\n"
     ]
    },
    {
     "name": "stderr",
     "output_type": "stream",
     "text": [
      "2017-03-20 20:27:24,065 : INFO : ***************************************************************************************\n",
      "2017-03-20 20:27:24,068 : INFO : lstm_optimizer_rmsprop_size_200_w-drop_0.4_u-drop_0.5_stack_3_conv_None\n"
     ]
    },
    {
     "name": "stdout",
     "output_type": "stream",
     "text": [
      "____________________________________________________________________________________________________\n",
      "Layer (type)                     Output Shape          Param #     Connected to                     \n",
      "====================================================================================================\n",
      "lstm_200_u-drop_0.5_w-drop_0.4_l (None, None, 200)     320800      lstm_input_10[0][0]              \n",
      "____________________________________________________________________________________________________\n",
      "lstm_200_u-drop_0.5_w-drop_0.4_l (None, None, 200)     320800      lstm_200_u-drop_0.5_w-drop_0.4_la\n",
      "____________________________________________________________________________________________________\n",
      "lstm_200_u-drop_0.5_w-drop_0.4_l (None, 200)           320800      lstm_200_u-drop_0.5_w-drop_0.4_la\n",
      "____________________________________________________________________________________________________\n",
      "sigmoid_output (Dense)           (None, 940)           188940      lstm_200_u-drop_0.5_w-drop_0.4_la\n",
      "====================================================================================================\n",
      "Total params: 1151340\n",
      "____________________________________________________________________________________________________\n",
      "Train on 120156 samples, validate on 29675 samples\n",
      "Epoch 1/200\n",
      "    \n"
     ]
    },
    {
     "name": "stderr",
     "output_type": "stream",
     "text": [
      "2017-03-20 20:57:21,800 : INFO : Found lower val loss for epoch 1 => 0.00906\n"
     ]
    },
    {
     "name": "stdout",
     "output_type": "stream",
     "text": [
      "120156/120156 [==============================] - 12s - loss: 0.0681 - val_loss: 0.0091\n",
      "Epoch 2/200\n",
      "    \n"
     ]
    },
    {
     "name": "stderr",
     "output_type": "stream",
     "text": [
      "2017-03-20 20:57:32,842 : INFO : Found lower val loss for epoch 2 => 0.00834\n"
     ]
    },
    {
     "name": "stdout",
     "output_type": "stream",
     "text": [
      "120156/120156 [==============================] - 11s - loss: 0.0104 - val_loss: 0.0083\n",
      "Epoch 3/200\n",
      "    \n"
     ]
    },
    {
     "name": "stderr",
     "output_type": "stream",
     "text": [
      "2017-03-20 20:57:43,348 : INFO : Found lower val loss for epoch 3 => 0.00826\n"
     ]
    },
    {
     "name": "stdout",
     "output_type": "stream",
     "text": [
      "120156/120156 [==============================] - 10s - loss: 0.0102 - val_loss: 0.0083\n",
      "Epoch 4/200\n",
      "    \n"
     ]
    },
    {
     "name": "stderr",
     "output_type": "stream",
     "text": [
      "2017-03-20 20:57:54,005 : INFO : Found lower val loss for epoch 4 => 0.00766\n"
     ]
    },
    {
     "name": "stdout",
     "output_type": "stream",
     "text": [
      "120156/120156 [==============================] - 10s - loss: 0.0098 - val_loss: 0.0077\n",
      "Epoch 5/200\n",
      "    \n"
     ]
    },
    {
     "name": "stderr",
     "output_type": "stream",
     "text": [
      "2017-03-20 20:58:04,250 : INFO : Found lower val loss for epoch 5 => 0.00725\n"
     ]
    },
    {
     "name": "stdout",
     "output_type": "stream",
     "text": [
      "120156/120156 [==============================] - 10s - loss: 0.0092 - val_loss: 0.0073\n",
      "Epoch 6/200\n",
      "    \n"
     ]
    },
    {
     "name": "stderr",
     "output_type": "stream",
     "text": [
      "2017-03-20 20:58:14,851 : INFO : Found lower val loss for epoch 6 => 0.00694\n"
     ]
    },
    {
     "name": "stdout",
     "output_type": "stream",
     "text": [
      "120156/120156 [==============================] - 10s - loss: 0.0088 - val_loss: 0.0069\n",
      "Epoch 7/200\n",
      "    \n"
     ]
    },
    {
     "name": "stderr",
     "output_type": "stream",
     "text": [
      "2017-03-20 20:58:25,268 : INFO : Found lower val loss for epoch 7 => 0.00659\n"
     ]
    },
    {
     "name": "stdout",
     "output_type": "stream",
     "text": [
      "120156/120156 [==============================] - 10s - loss: 0.0084 - val_loss: 0.0066\n",
      "Epoch 8/200\n",
      "    \n"
     ]
    },
    {
     "name": "stderr",
     "output_type": "stream",
     "text": [
      "2017-03-20 20:58:35,636 : INFO : Found lower val loss for epoch 8 => 0.00634\n"
     ]
    },
    {
     "name": "stdout",
     "output_type": "stream",
     "text": [
      "120156/120156 [==============================] - 10s - loss: 0.0081 - val_loss: 0.0063\n",
      "Epoch 9/200\n",
      "    \n"
     ]
    },
    {
     "name": "stderr",
     "output_type": "stream",
     "text": [
      "2017-03-20 20:58:46,034 : INFO : Found lower val loss for epoch 9 => 0.00607\n"
     ]
    },
    {
     "name": "stdout",
     "output_type": "stream",
     "text": [
      "120156/120156 [==============================] - 10s - loss: 0.0078 - val_loss: 0.0061\n",
      "Epoch 10/200\n",
      "    \n"
     ]
    },
    {
     "name": "stderr",
     "output_type": "stream",
     "text": [
      "2017-03-20 20:58:56,543 : INFO : Found lower val loss for epoch 10 => 0.00579\n"
     ]
    },
    {
     "name": "stdout",
     "output_type": "stream",
     "text": [
      "120156/120156 [==============================] - 10s - loss: 0.0076 - val_loss: 0.0058\n",
      "Epoch 11/200\n",
      "    \n"
     ]
    },
    {
     "name": "stderr",
     "output_type": "stream",
     "text": [
      "2017-03-20 20:59:07,020 : INFO : Found lower val loss for epoch 11 => 0.00563\n"
     ]
    },
    {
     "name": "stdout",
     "output_type": "stream",
     "text": [
      "120156/120156 [==============================] - 10s - loss: 0.0073 - val_loss: 0.0056\n",
      "Epoch 12/200\n",
      "    \n"
     ]
    },
    {
     "name": "stderr",
     "output_type": "stream",
     "text": [
      "2017-03-20 20:59:17,536 : INFO : Found lower val loss for epoch 12 => 0.00544\n"
     ]
    },
    {
     "name": "stdout",
     "output_type": "stream",
     "text": [
      "120156/120156 [==============================] - 10s - loss: 0.0072 - val_loss: 0.0054\n",
      "Epoch 13/200\n",
      "    \n"
     ]
    },
    {
     "name": "stderr",
     "output_type": "stream",
     "text": [
      "2017-03-20 20:59:27,796 : INFO : Found lower val loss for epoch 13 => 0.00532\n"
     ]
    },
    {
     "name": "stdout",
     "output_type": "stream",
     "text": [
      "120156/120156 [==============================] - 10s - loss: 0.0070 - val_loss: 0.0053\n",
      "Epoch 14/200\n",
      "    \n"
     ]
    },
    {
     "name": "stderr",
     "output_type": "stream",
     "text": [
      "2017-03-20 20:59:38,130 : INFO : Found lower val loss for epoch 14 => 0.00526\n"
     ]
    },
    {
     "name": "stdout",
     "output_type": "stream",
     "text": [
      "120156/120156 [==============================] - 10s - loss: 0.0069 - val_loss: 0.0053\n",
      "Epoch 15/200\n",
      "    \n"
     ]
    },
    {
     "name": "stderr",
     "output_type": "stream",
     "text": [
      "2017-03-20 20:59:48,721 : INFO : Found lower val loss for epoch 15 => 0.00514\n"
     ]
    },
    {
     "name": "stdout",
     "output_type": "stream",
     "text": [
      "120156/120156 [==============================] - 10s - loss: 0.0068 - val_loss: 0.0051\n",
      "Epoch 16/200\n",
      "    \n"
     ]
    },
    {
     "name": "stderr",
     "output_type": "stream",
     "text": [
      "2017-03-20 20:59:58,973 : INFO : Found lower val loss for epoch 16 => 0.00507\n"
     ]
    },
    {
     "name": "stdout",
     "output_type": "stream",
     "text": [
      "120156/120156 [==============================] - 10s - loss: 0.0067 - val_loss: 0.0051\n",
      "Epoch 17/200\n",
      "    \n"
     ]
    },
    {
     "name": "stderr",
     "output_type": "stream",
     "text": [
      "2017-03-20 21:00:09,429 : INFO : Found lower val loss for epoch 17 => 0.00501\n"
     ]
    },
    {
     "name": "stdout",
     "output_type": "stream",
     "text": [
      "120156/120156 [==============================] - 10s - loss: 0.0066 - val_loss: 0.0050\n",
      "Epoch 18/200\n",
      "    \n"
     ]
    },
    {
     "name": "stderr",
     "output_type": "stream",
     "text": [
      "2017-03-20 21:00:19,861 : INFO : Found lower val loss for epoch 18 => 0.00494\n"
     ]
    },
    {
     "name": "stdout",
     "output_type": "stream",
     "text": [
      "120156/120156 [==============================] - 10s - loss: 0.0065 - val_loss: 0.0049\n",
      "Epoch 19/200\n",
      "    \n"
     ]
    },
    {
     "name": "stderr",
     "output_type": "stream",
     "text": [
      "2017-03-20 21:00:30,217 : INFO : Found lower val loss for epoch 19 => 0.00489\n"
     ]
    },
    {
     "name": "stdout",
     "output_type": "stream",
     "text": [
      "120156/120156 [==============================] - 10s - loss: 0.0064 - val_loss: 0.0049\n",
      "Epoch 20/200\n",
      "    \n"
     ]
    },
    {
     "name": "stderr",
     "output_type": "stream",
     "text": [
      "2017-03-20 21:00:40,625 : INFO : Found lower val loss for epoch 20 => 0.00482\n"
     ]
    },
    {
     "name": "stdout",
     "output_type": "stream",
     "text": [
      "120156/120156 [==============================] - 10s - loss: 0.0063 - val_loss: 0.0048\n",
      "Epoch 21/200\n",
      "    \n"
     ]
    },
    {
     "name": "stderr",
     "output_type": "stream",
     "text": [
      "2017-03-20 21:00:50,907 : INFO : Found lower val loss for epoch 21 => 0.00475\n"
     ]
    },
    {
     "name": "stdout",
     "output_type": "stream",
     "text": [
      "120156/120156 [==============================] - 10s - loss: 0.0063 - val_loss: 0.0047\n",
      "Epoch 22/200\n",
      "    \n"
     ]
    },
    {
     "name": "stderr",
     "output_type": "stream",
     "text": [
      "2017-03-20 21:01:01,209 : INFO : Found lower val loss for epoch 22 => 0.00467\n"
     ]
    },
    {
     "name": "stdout",
     "output_type": "stream",
     "text": [
      "120156/120156 [==============================] - 10s - loss: 0.0062 - val_loss: 0.0047\n",
      "Epoch 23/200\n",
      "    \n"
     ]
    },
    {
     "name": "stderr",
     "output_type": "stream",
     "text": [
      "2017-03-20 21:01:11,491 : INFO : Found lower val loss for epoch 23 => 0.00464\n"
     ]
    },
    {
     "name": "stdout",
     "output_type": "stream",
     "text": [
      "120156/120156 [==============================] - 10s - loss: 0.0061 - val_loss: 0.0046\n",
      "Epoch 24/200\n",
      "    \n"
     ]
    },
    {
     "name": "stderr",
     "output_type": "stream",
     "text": [
      "2017-03-20 21:01:21,805 : INFO : Found lower val loss for epoch 24 => 0.00459\n"
     ]
    },
    {
     "name": "stdout",
     "output_type": "stream",
     "text": [
      "120156/120156 [==============================] - 10s - loss: 0.0061 - val_loss: 0.0046\n",
      "Epoch 25/200\n",
      "    \n"
     ]
    },
    {
     "name": "stderr",
     "output_type": "stream",
     "text": [
      "2017-03-20 21:01:32,304 : INFO : Found lower val loss for epoch 25 => 0.00459\n"
     ]
    },
    {
     "name": "stdout",
     "output_type": "stream",
     "text": [
      "120156/120156 [==============================] - 10s - loss: 0.0060 - val_loss: 0.0046\n",
      "Epoch 26/200\n",
      "    \n"
     ]
    },
    {
     "name": "stderr",
     "output_type": "stream",
     "text": [
      "2017-03-20 21:01:42,730 : INFO : Found lower val loss for epoch 26 => 0.00455\n"
     ]
    },
    {
     "name": "stdout",
     "output_type": "stream",
     "text": [
      "120156/120156 [==============================] - 10s - loss: 0.0060 - val_loss: 0.0046\n",
      "Epoch 27/200\n",
      "    \n"
     ]
    },
    {
     "name": "stderr",
     "output_type": "stream",
     "text": [
      "2017-03-20 21:01:53,012 : INFO : Found lower val loss for epoch 27 => 0.00453\n"
     ]
    },
    {
     "name": "stdout",
     "output_type": "stream",
     "text": [
      "120156/120156 [==============================] - 10s - loss: 0.0059 - val_loss: 0.0045\n",
      "Epoch 28/200\n",
      "    \n"
     ]
    },
    {
     "name": "stderr",
     "output_type": "stream",
     "text": [
      "2017-03-20 21:02:03,274 : INFO : Found lower val loss for epoch 28 => 0.00448\n"
     ]
    },
    {
     "name": "stdout",
     "output_type": "stream",
     "text": [
      "120156/120156 [==============================] - 10s - loss: 0.0059 - val_loss: 0.0045\n",
      "Epoch 29/200\n",
      "    \n"
     ]
    },
    {
     "name": "stderr",
     "output_type": "stream",
     "text": [
      "2017-03-20 21:02:13,553 : INFO : Found lower val loss for epoch 29 => 0.00444\n"
     ]
    },
    {
     "name": "stdout",
     "output_type": "stream",
     "text": [
      "120156/120156 [==============================] - 10s - loss: 0.0059 - val_loss: 0.0044\n",
      "Epoch 30/200\n",
      "120156/120156 [==============================] - 10s - loss: 0.0058 - val_loss: 0.0044\n",
      "Epoch 31/200\n",
      "    \n"
     ]
    },
    {
     "name": "stderr",
     "output_type": "stream",
     "text": [
      "2017-03-20 21:02:33,937 : INFO : Found lower val loss for epoch 31 => 0.00441\n"
     ]
    },
    {
     "name": "stdout",
     "output_type": "stream",
     "text": [
      "120156/120156 [==============================] - 10s - loss: 0.0058 - val_loss: 0.0044\n",
      "Epoch 32/200\n",
      "    \n"
     ]
    },
    {
     "name": "stderr",
     "output_type": "stream",
     "text": [
      "2017-03-20 21:02:44,215 : INFO : Found lower val loss for epoch 32 => 0.0044\n"
     ]
    },
    {
     "name": "stdout",
     "output_type": "stream",
     "text": [
      "120156/120156 [==============================] - 10s - loss: 0.0058 - val_loss: 0.0044\n",
      "Epoch 33/200\n",
      "    \n"
     ]
    },
    {
     "name": "stderr",
     "output_type": "stream",
     "text": [
      "2017-03-20 21:02:54,524 : INFO : Found lower val loss for epoch 33 => 0.00439\n"
     ]
    },
    {
     "name": "stdout",
     "output_type": "stream",
     "text": [
      "120156/120156 [==============================] - 10s - loss: 0.0057 - val_loss: 0.0044\n",
      "Epoch 34/200\n",
      "    \n"
     ]
    },
    {
     "name": "stderr",
     "output_type": "stream",
     "text": [
      "2017-03-20 21:03:04,801 : INFO : Found lower val loss for epoch 34 => 0.00433\n"
     ]
    },
    {
     "name": "stdout",
     "output_type": "stream",
     "text": [
      "120156/120156 [==============================] - 10s - loss: 0.0057 - val_loss: 0.0043\n",
      "Epoch 35/200\n",
      "    \n"
     ]
    },
    {
     "name": "stderr",
     "output_type": "stream",
     "text": [
      "2017-03-20 21:03:15,412 : INFO : Found lower val loss for epoch 35 => 0.00431\n"
     ]
    },
    {
     "name": "stdout",
     "output_type": "stream",
     "text": [
      "120156/120156 [==============================] - 10s - loss: 0.0057 - val_loss: 0.0043\n",
      "Epoch 36/200\n",
      "120156/120156 [==============================] - 10s - loss: 0.0056 - val_loss: 0.0043\n",
      "Epoch 37/200\n",
      "120156/120156 [==============================] - 10s - loss: 0.0056 - val_loss: 0.0043\n",
      "Epoch 38/200\n",
      "    \n"
     ]
    },
    {
     "name": "stderr",
     "output_type": "stream",
     "text": [
      "2017-03-20 21:03:46,052 : INFO : Found lower val loss for epoch 38 => 0.0043\n"
     ]
    },
    {
     "name": "stdout",
     "output_type": "stream",
     "text": [
      "120156/120156 [==============================] - 10s - loss: 0.0056 - val_loss: 0.0043\n",
      "Epoch 39/200\n",
      "    \n"
     ]
    },
    {
     "name": "stderr",
     "output_type": "stream",
     "text": [
      "2017-03-20 21:03:56,538 : INFO : Found lower val loss for epoch 39 => 0.00423\n"
     ]
    },
    {
     "name": "stdout",
     "output_type": "stream",
     "text": [
      "120156/120156 [==============================] - 10s - loss: 0.0056 - val_loss: 0.0042\n",
      "Epoch 40/200\n",
      "    \n"
     ]
    },
    {
     "name": "stderr",
     "output_type": "stream",
     "text": [
      "2017-03-20 21:04:06,848 : INFO : Found lower val loss for epoch 40 => 0.00422\n"
     ]
    },
    {
     "name": "stdout",
     "output_type": "stream",
     "text": [
      "120156/120156 [==============================] - 10s - loss: 0.0055 - val_loss: 0.0042\n",
      "Epoch 41/200\n",
      "120156/120156 [==============================] - 10s - loss: 0.0055 - val_loss: 0.0043\n",
      "Epoch 42/200\n",
      "120156/120156 [==============================] - 10s - loss: 0.0055 - val_loss: 0.0043\n",
      "Epoch 43/200\n",
      "    \n"
     ]
    },
    {
     "name": "stderr",
     "output_type": "stream",
     "text": [
      "2017-03-20 21:04:37,751 : INFO : Found lower val loss for epoch 43 => 0.00418\n"
     ]
    },
    {
     "name": "stdout",
     "output_type": "stream",
     "text": [
      "120156/120156 [==============================] - 10s - loss: 0.0055 - val_loss: 0.0042\n",
      "Epoch 44/200\n",
      "    \n"
     ]
    },
    {
     "name": "stderr",
     "output_type": "stream",
     "text": [
      "2017-03-20 21:04:48,300 : INFO : Found lower val loss for epoch 44 => 0.00417\n"
     ]
    },
    {
     "name": "stdout",
     "output_type": "stream",
     "text": [
      "120156/120156 [==============================] - 10s - loss: 0.0055 - val_loss: 0.0042\n",
      "Epoch 45/200\n",
      "    \n"
     ]
    },
    {
     "name": "stderr",
     "output_type": "stream",
     "text": [
      "2017-03-20 21:04:58,759 : INFO : Found lower val loss for epoch 45 => 0.00415\n"
     ]
    },
    {
     "name": "stdout",
     "output_type": "stream",
     "text": [
      "120156/120156 [==============================] - 10s - loss: 0.0054 - val_loss: 0.0041\n",
      "Epoch 46/200\n",
      "120156/120156 [==============================] - 10s - loss: 0.0054 - val_loss: 0.0042\n",
      "Epoch 47/200\n",
      "120156/120156 [==============================] - 10s - loss: 0.0054 - val_loss: 0.0042\n",
      "Epoch 48/200\n",
      "    \n"
     ]
    },
    {
     "name": "stderr",
     "output_type": "stream",
     "text": [
      "2017-03-20 21:05:29,520 : INFO : Found lower val loss for epoch 48 => 0.00411\n"
     ]
    },
    {
     "name": "stdout",
     "output_type": "stream",
     "text": [
      "120156/120156 [==============================] - 10s - loss: 0.0054 - val_loss: 0.0041\n",
      "Epoch 49/200\n",
      "120156/120156 [==============================] - 10s - loss: 0.0054 - val_loss: 0.0042\n",
      "Epoch 50/200\n",
      "120156/120156 [==============================] - 10s - loss: 0.0054 - val_loss: 0.0041\n",
      "Epoch 51/200\n",
      "    \n"
     ]
    },
    {
     "name": "stderr",
     "output_type": "stream",
     "text": [
      "2017-03-20 21:06:00,247 : INFO : Found lower val loss for epoch 51 => 0.0041\n"
     ]
    },
    {
     "name": "stdout",
     "output_type": "stream",
     "text": [
      "120156/120156 [==============================] - 10s - loss: 0.0053 - val_loss: 0.0041\n",
      "Epoch 52/200\n",
      "    \n"
     ]
    },
    {
     "name": "stderr",
     "output_type": "stream",
     "text": [
      "2017-03-20 21:06:10,743 : INFO : Found lower val loss for epoch 52 => 0.00408\n"
     ]
    },
    {
     "name": "stdout",
     "output_type": "stream",
     "text": [
      "120156/120156 [==============================] - 10s - loss: 0.0053 - val_loss: 0.0041\n",
      "Epoch 53/200\n",
      "120156/120156 [==============================] - 10s - loss: 0.0053 - val_loss: 0.0041\n",
      "Epoch 54/200\n",
      "    \n"
     ]
    },
    {
     "name": "stderr",
     "output_type": "stream",
     "text": [
      "2017-03-20 21:06:31,776 : INFO : Found lower val loss for epoch 54 => 0.00408\n"
     ]
    },
    {
     "name": "stdout",
     "output_type": "stream",
     "text": [
      "120156/120156 [==============================] - 10s - loss: 0.0053 - val_loss: 0.0041\n",
      "Epoch 55/200\n",
      "    \n"
     ]
    },
    {
     "name": "stderr",
     "output_type": "stream",
     "text": [
      "2017-03-20 21:06:49,042 : INFO : Found lower val loss for epoch 55 => 0.00404\n"
     ]
    },
    {
     "name": "stdout",
     "output_type": "stream",
     "text": [
      "120156/120156 [==============================] - 17s - loss: 0.0053 - val_loss: 0.0040\n",
      "Epoch 56/200\n",
      "120156/120156 [==============================] - 15s - loss: 0.0053 - val_loss: 0.0041\n",
      "Epoch 57/200\n",
      "120156/120156 [==============================] - 16s - loss: 0.0053 - val_loss: 0.0041\n",
      "Epoch 58/200\n",
      "120156/120156 [==============================] - 16s - loss: 0.0052 - val_loss: 0.0041\n",
      "Epoch 59/200\n",
      "    \n"
     ]
    },
    {
     "name": "stderr",
     "output_type": "stream",
     "text": [
      "2017-03-20 21:07:55,862 : INFO : Found lower val loss for epoch 59 => 0.00403\n"
     ]
    },
    {
     "name": "stdout",
     "output_type": "stream",
     "text": [
      "120156/120156 [==============================] - 18s - loss: 0.0052 - val_loss: 0.0040\n",
      "Epoch 60/200\n",
      "120156/120156 [==============================] - 15s - loss: 0.0052 - val_loss: 0.0040\n",
      "Epoch 61/200\n",
      "    \n"
     ]
    },
    {
     "name": "stderr",
     "output_type": "stream",
     "text": [
      "2017-03-20 21:08:30,272 : INFO : Found lower val loss for epoch 61 => 0.00401\n"
     ]
    },
    {
     "name": "stdout",
     "output_type": "stream",
     "text": [
      "120156/120156 [==============================] - 18s - loss: 0.0052 - val_loss: 0.0040\n",
      "Epoch 62/200\n",
      "120156/120156 [==============================] - 15s - loss: 0.0052 - val_loss: 0.0040\n",
      "Epoch 63/200\n",
      "    \n"
     ]
    },
    {
     "name": "stderr",
     "output_type": "stream",
     "text": [
      "2017-03-20 21:09:06,042 : INFO : Found lower val loss for epoch 63 => 0.004\n"
     ]
    },
    {
     "name": "stdout",
     "output_type": "stream",
     "text": [
      "120156/120156 [==============================] - 20s - loss: 0.0052 - val_loss: 0.0040\n",
      "Epoch 64/200\n",
      "120156/120156 [==============================] - 21s - loss: 0.0052 - val_loss: 0.0041\n",
      "Epoch 65/200\n",
      "120156/120156 [==============================] - 20s - loss: 0.0052 - val_loss: 0.0040\n",
      "Epoch 66/200\n",
      "120156/120156 [==============================] - 21s - loss: 0.0051 - val_loss: 0.0040\n",
      "Epoch 67/200\n",
      "120156/120156 [==============================] - 19s - loss: 0.0051 - val_loss: 0.0040\n",
      "Epoch 68/200\n",
      "120156/120156 [==============================] - 22s - loss: 0.0051 - val_loss: 0.0040\n",
      "Epoch 69/200\n",
      "120156/120156 [==============================] - 17s - loss: 0.0051 - val_loss: 0.0040\n",
      "Epoch 70/200\n",
      "    \n"
     ]
    },
    {
     "name": "stderr",
     "output_type": "stream",
     "text": [
      "2017-03-20 21:11:25,556 : INFO : Found lower val loss for epoch 70 => 0.00396\n"
     ]
    },
    {
     "name": "stdout",
     "output_type": "stream",
     "text": [
      "120156/120156 [==============================] - 17s - loss: 0.0051 - val_loss: 0.0040\n",
      "Epoch 71/200\n",
      "120156/120156 [==============================] - 16s - loss: 0.0051 - val_loss: 0.0040\n",
      "Epoch 72/200\n",
      "120156/120156 [==============================] - 17s - loss: 0.0051 - val_loss: 0.0040\n",
      "Epoch 73/200\n",
      "    \n"
     ]
    },
    {
     "name": "stderr",
     "output_type": "stream",
     "text": [
      "2017-03-20 21:12:17,933 : INFO : Found lower val loss for epoch 73 => 0.00393\n",
      "2017-03-20 21:12:17,936 : INFO : Validation Loss Reduced 50 times\n",
      "2017-03-20 21:12:17,938 : INFO : Evaluating on Validation Data\n",
      "2017-03-20 21:12:44,442 : INFO : Generating Validation Metrics\n"
     ]
    },
    {
     "name": "stdout",
     "output_type": "stream",
     "text": [
      "****** Validation Metrics: Cov Err: 11.317 | Top 3: 0.673 | Top 5: 0.760 | F1 Micro: 0.480 | F1 Macro: 0.059\n",
      "120156/120156 [==============================] - 55s - loss: 0.0051 - val_loss: 0.0039\n",
      "Epoch 74/200\n",
      "120156/120156 [==============================] - 16s - loss: 0.0051 - val_loss: 0.0040\n",
      "Epoch 75/200\n",
      "120156/120156 [==============================] - 14s - loss: 0.0051 - val_loss: 0.0040\n",
      "Epoch 76/200\n",
      "120156/120156 [==============================] - 17s - loss: 0.0051 - val_loss: 0.0039\n",
      "Epoch 77/200\n",
      "120156/120156 [==============================] - 21s - loss: 0.0051 - val_loss: 0.0040\n",
      "Epoch 78/200\n",
      "120156/120156 [==============================] - 21s - loss: 0.0050 - val_loss: 0.0040\n",
      "Epoch 79/200\n",
      "120156/120156 [==============================] - 21s - loss: 0.0050 - val_loss: 0.0040\n",
      "Epoch 80/200\n",
      "120156/120156 [==============================] - 14s - loss: 0.0050 - val_loss: 0.0040\n",
      "Epoch 81/200\n",
      "120156/120156 [==============================] - 15s - loss: 0.0050 - val_loss: 0.0040\n",
      "Epoch 82/200\n",
      "    \n"
     ]
    },
    {
     "name": "stderr",
     "output_type": "stream",
     "text": [
      "2017-03-20 21:15:34,460 : INFO : Found lower val loss for epoch 82 => 0.00392\n"
     ]
    },
    {
     "name": "stdout",
     "output_type": "stream",
     "text": [
      "120156/120156 [==============================] - 16s - loss: 0.0050 - val_loss: 0.0039\n",
      "Epoch 83/200\n",
      "    \n"
     ]
    },
    {
     "name": "stderr",
     "output_type": "stream",
     "text": [
      "2017-03-20 21:15:50,224 : INFO : Found lower val loss for epoch 83 => 0.00392\n"
     ]
    },
    {
     "name": "stdout",
     "output_type": "stream",
     "text": [
      "120156/120156 [==============================] - 15s - loss: 0.0050 - val_loss: 0.0039\n",
      "Epoch 84/200\n",
      "120156/120156 [==============================] - 14s - loss: 0.0050 - val_loss: 0.0040"
     ]
    },
    {
     "name": "stderr",
     "output_type": "stream",
     "text": [
      "2017-03-20 21:16:04,325 : INFO : Evaluating on Training Data\n"
     ]
    },
    {
     "name": "stdout",
     "output_type": "stream",
     "text": [
      "\n",
      "Epoch 00083: early stopping\n",
      "CPU times: user 8min 30s, sys: 10min 29s, total: 18min 59s\n",
      "Wall time: 48min 2s\n"
     ]
    },
    {
     "name": "stderr",
     "output_type": "stream",
     "text": [
      "2017-03-20 21:17:17,127 : INFO : Generating Training Metrics\n",
      "2017-03-20 21:18:10,881 : INFO : Evaluating on Validation Data using saved best weights\n"
     ]
    },
    {
     "name": "stdout",
     "output_type": "stream",
     "text": [
      "****** Training Metrics: Cov Err: 9.319 | Top 3: 0.676 | Top 5: 0.763 | F1 Micro: 0.501 | F1 Macro: 0.085\n"
     ]
    },
    {
     "name": "stderr",
     "output_type": "stream",
     "text": [
      "2017-03-20 21:18:43,133 : INFO : Generating Validation Metrics\n"
     ]
    },
    {
     "name": "stdout",
     "output_type": "stream",
     "text": [
      "****** Validation Metrics: Cov Err: 11.110 | Top 3: 0.678 | Top 5: 0.764 | F1 Micro: 0.491 | F1 Macro: 0.066\n"
     ]
    },
    {
     "name": "stderr",
     "output_type": "stream",
     "text": [
      "2017-03-20 21:18:53,901 : INFO : ***************************************************************************************\n",
      "2017-03-20 21:18:53,903 : INFO : lstm_optimizer_rmsprop_size_500_w-drop_0.6_u-drop_0.6_stack_1_conv_None\n"
     ]
    },
    {
     "name": "stdout",
     "output_type": "stream",
     "text": [
      "____________________________________________________________________________________________________\n",
      "Layer (type)                     Output Shape          Param #     Connected to                     \n",
      "====================================================================================================\n",
      "lstm_500_u-drop_0.6_w-drop_0.6_l (None, 500)           1402000     lstm_input_11[0][0]              \n",
      "____________________________________________________________________________________________________\n",
      "sigmoid_output (Dense)           (None, 940)           470940      lstm_500_u-drop_0.6_w-drop_0.6_la\n",
      "====================================================================================================\n",
      "Total params: 1872940\n",
      "____________________________________________________________________________________________________\n",
      "Train on 120156 samples, validate on 29675 samples\n",
      "Epoch 1/200\n",
      "    \n"
     ]
    },
    {
     "name": "stderr",
     "output_type": "stream",
     "text": [
      "2017-03-20 21:19:24,388 : INFO : Found lower val loss for epoch 1 => 0.00843\n"
     ]
    },
    {
     "name": "stdout",
     "output_type": "stream",
     "text": [
      "120156/120156 [==============================] - 11s - loss: 0.0495 - val_loss: 0.0084\n",
      "Epoch 2/200\n",
      "    \n"
     ]
    },
    {
     "name": "stderr",
     "output_type": "stream",
     "text": [
      "2017-03-20 21:19:35,739 : INFO : Found lower val loss for epoch 2 => 0.00762\n"
     ]
    },
    {
     "name": "stdout",
     "output_type": "stream",
     "text": [
      "120156/120156 [==============================] - 11s - loss: 0.0100 - val_loss: 0.0076\n",
      "Epoch 3/200\n",
      "    \n"
     ]
    },
    {
     "name": "stderr",
     "output_type": "stream",
     "text": [
      "2017-03-20 21:19:46,948 : INFO : Found lower val loss for epoch 3 => 0.00659\n"
     ]
    },
    {
     "name": "stdout",
     "output_type": "stream",
     "text": [
      "120156/120156 [==============================] - 11s - loss: 0.0091 - val_loss: 0.0066\n",
      "Epoch 4/200\n",
      "    \n"
     ]
    },
    {
     "name": "stderr",
     "output_type": "stream",
     "text": [
      "2017-03-20 21:20:00,073 : INFO : Found lower val loss for epoch 4 => 0.00594\n"
     ]
    },
    {
     "name": "stdout",
     "output_type": "stream",
     "text": [
      "120156/120156 [==============================] - 13s - loss: 0.0081 - val_loss: 0.0059\n",
      "Epoch 5/200\n",
      "    \n"
     ]
    },
    {
     "name": "stderr",
     "output_type": "stream",
     "text": [
      "2017-03-20 21:20:10,793 : INFO : Found lower val loss for epoch 5 => 0.00552\n"
     ]
    },
    {
     "name": "stdout",
     "output_type": "stream",
     "text": [
      "120156/120156 [==============================] - 10s - loss: 0.0076 - val_loss: 0.0055\n",
      "Epoch 6/200\n",
      "    \n"
     ]
    },
    {
     "name": "stderr",
     "output_type": "stream",
     "text": [
      "2017-03-20 21:20:24,411 : INFO : Found lower val loss for epoch 6 => 0.00519\n"
     ]
    },
    {
     "name": "stdout",
     "output_type": "stream",
     "text": [
      "120156/120156 [==============================] - 13s - loss: 0.0072 - val_loss: 0.0052\n",
      "Epoch 7/200\n",
      "120156/120156 [==============================] - 10s - loss: 0.0069 - val_loss: 0.0053\n",
      "Epoch 8/200\n",
      "    \n"
     ]
    },
    {
     "name": "stderr",
     "output_type": "stream",
     "text": [
      "2017-03-20 21:20:46,094 : INFO : Found lower val loss for epoch 8 => 0.00511\n"
     ]
    },
    {
     "name": "stdout",
     "output_type": "stream",
     "text": [
      "120156/120156 [==============================] - 11s - loss: 0.0067 - val_loss: 0.0051\n",
      "Epoch 9/200\n",
      "120156/120156 [==============================] - 12s - loss: 0.0065 - val_loss: 0.0052\n",
      "Epoch 10/200\n",
      "    \n"
     ]
    },
    {
     "name": "stderr",
     "output_type": "stream",
     "text": [
      "2017-03-20 21:21:12,131 : INFO : Found lower val loss for epoch 10 => 0.0046\n"
     ]
    },
    {
     "name": "stdout",
     "output_type": "stream",
     "text": [
      "120156/120156 [==============================] - 13s - loss: 0.0064 - val_loss: 0.0046\n",
      "Epoch 11/200\n",
      "120156/120156 [==============================] - 10s - loss: 0.0063 - val_loss: 0.0050\n",
      "Epoch 12/200\n",
      "120156/120156 [==============================] - 14s - loss: 0.0062 - val_loss: 0.0046\n",
      "Epoch 13/200\n",
      "    \n"
     ]
    },
    {
     "name": "stderr",
     "output_type": "stream",
     "text": [
      "2017-03-20 21:21:50,794 : INFO : Found lower val loss for epoch 13 => 0.00445\n"
     ]
    },
    {
     "name": "stdout",
     "output_type": "stream",
     "text": [
      "120156/120156 [==============================] - 13s - loss: 0.0061 - val_loss: 0.0044\n",
      "Epoch 14/200\n",
      "120156/120156 [==============================] - 14s - loss: 0.0060 - val_loss: 0.0050\n",
      "Epoch 15/200\n",
      "120156/120156 [==============================] - 13s - loss: 0.0059 - val_loss: 0.0045\n",
      "Epoch 16/200\n",
      "120156/120156 [==============================] - 13s - loss: 0.0059 - val_loss: 0.0045\n",
      "Epoch 17/200\n",
      "    \n"
     ]
    },
    {
     "name": "stderr",
     "output_type": "stream",
     "text": [
      "2017-03-20 21:22:44,953 : INFO : Found lower val loss for epoch 17 => 0.00429\n"
     ]
    },
    {
     "name": "stdout",
     "output_type": "stream",
     "text": [
      "120156/120156 [==============================] - 13s - loss: 0.0058 - val_loss: 0.0043\n",
      "Epoch 18/200\n",
      "120156/120156 [==============================] - 13s - loss: 0.0057 - val_loss: 0.0044\n",
      "Epoch 19/200\n",
      "120156/120156 [==============================] - 12s - loss: 0.0057 - val_loss: 0.0043\n",
      "Epoch 20/200\n",
      "120156/120156 [==============================] - 12s - loss: 0.0056 - val_loss: 0.0047\n",
      "Epoch 21/200\n",
      "120156/120156 [==============================] - 12s - loss: 0.0056 - val_loss: 0.0046\n",
      "Epoch 22/200\n",
      "120156/120156 [==============================] - 13s - loss: 0.0056 - val_loss: 0.0044\n",
      "Epoch 23/200\n",
      "120156/120156 [==============================] - 14s - loss: 0.0055 - val_loss: 0.0045\n",
      "Epoch 24/200\n",
      "120156/120156 [==============================] - 11s - loss: 0.0055 - val_loss: 0.0044\n",
      "Epoch 25/200\n",
      "120156/120156 [==============================] - 13s - loss: 0.0055 - val_loss: 0.0043\n",
      "Epoch 26/200\n",
      "    \n"
     ]
    },
    {
     "name": "stderr",
     "output_type": "stream",
     "text": [
      "2017-03-20 21:24:42,247 : INFO : Found lower val loss for epoch 26 => 0.00411\n"
     ]
    },
    {
     "name": "stdout",
     "output_type": "stream",
     "text": [
      "120156/120156 [==============================] - 12s - loss: 0.0054 - val_loss: 0.0041\n",
      "Epoch 27/200\n",
      "120156/120156 [==============================] - 14s - loss: 0.0054 - val_loss: 0.0042\n",
      "Epoch 28/200\n",
      "120156/120156 [==============================] - 14s - loss: 0.0054 - val_loss: 0.0043\n",
      "Epoch 29/200\n",
      "    \n"
     ]
    },
    {
     "name": "stderr",
     "output_type": "stream",
     "text": [
      "2017-03-20 21:25:24,305 : INFO : Found lower val loss for epoch 29 => 0.00409\n"
     ]
    },
    {
     "name": "stdout",
     "output_type": "stream",
     "text": [
      "120156/120156 [==============================] - 13s - loss: 0.0053 - val_loss: 0.0041\n",
      "Epoch 30/200\n",
      "120156/120156 [==============================] - 14s - loss: 0.0053 - val_loss: 0.0044\n",
      "Epoch 31/200\n",
      "120156/120156 [==============================] - 14s - loss: 0.0053 - val_loss: 0.0044\n",
      "Epoch 32/200\n",
      "120156/120156 [==============================] - 11s - loss: 0.0053 - val_loss: 0.0043\n",
      "Epoch 33/200\n",
      "    \n"
     ]
    },
    {
     "name": "stderr",
     "output_type": "stream",
     "text": [
      "2017-03-20 21:26:19,352 : INFO : Found lower val loss for epoch 33 => 0.004\n"
     ]
    },
    {
     "name": "stdout",
     "output_type": "stream",
     "text": [
      "120156/120156 [==============================] - 14s - loss: 0.0053 - val_loss: 0.0040\n",
      "Epoch 34/200\n",
      "120156/120156 [==============================] - 13s - loss: 0.0052 - val_loss: 0.0041\n",
      "Epoch 35/200\n",
      "120156/120156 [==============================] - 13s - loss: 0.0052 - val_loss: 0.0043\n",
      "Epoch 36/200\n",
      "120156/120156 [==============================] - 11s - loss: 0.0052 - val_loss: 0.0041\n",
      "Epoch 37/200\n",
      "120156/120156 [==============================] - 11s - loss: 0.0052 - val_loss: 0.0041\n",
      "Epoch 38/200\n",
      "    \n"
     ]
    },
    {
     "name": "stderr",
     "output_type": "stream",
     "text": [
      "2017-03-20 21:27:20,996 : INFO : Found lower val loss for epoch 38 => 0.00395\n"
     ]
    },
    {
     "name": "stdout",
     "output_type": "stream",
     "text": [
      "120156/120156 [==============================] - 11s - loss: 0.0052 - val_loss: 0.0040\n",
      "Epoch 39/200\n",
      "120156/120156 [==============================] - 10s - loss: 0.0052 - val_loss: 0.0040\n",
      "Epoch 40/200\n",
      "120156/120156 [==============================] - 12s - loss: 0.0051 - val_loss: 0.0041\n",
      "Epoch 41/200\n",
      "120156/120156 [==============================] - 12s - loss: 0.0051 - val_loss: 0.0042\n",
      "Epoch 42/200\n",
      "120156/120156 [==============================] - 12s - loss: 0.0051 - val_loss: 0.0042\n",
      "Epoch 43/200\n",
      "120156/120156 [==============================] - 13s - loss: 0.0051 - val_loss: 0.0043\n",
      "Epoch 44/200\n",
      "120156/120156 [==============================] - 12s - loss: 0.0051 - val_loss: 0.0041\n",
      "Epoch 45/200\n",
      "120156/120156 [==============================] - 12s - loss: 0.0051 - val_loss: 0.0040\n",
      "Epoch 46/200\n",
      "120156/120156 [==============================] - 13s - loss: 0.0050 - val_loss: 0.0042\n",
      "Epoch 47/200\n",
      "120156/120156 [==============================] - 12s - loss: 0.0050 - val_loss: 0.0040\n",
      "Epoch 48/200\n",
      "120156/120156 [==============================] - 11s - loss: 0.0050 - val_loss: 0.0041\n",
      "Epoch 49/200\n",
      "120156/120156 [==============================] - 12s - loss: 0.0050 - val_loss: 0.0042"
     ]
    },
    {
     "name": "stderr",
     "output_type": "stream",
     "text": [
      "2017-03-20 21:29:36,484 : INFO : Evaluating on Training Data\n"
     ]
    },
    {
     "name": "stdout",
     "output_type": "stream",
     "text": [
      "\n",
      "Epoch 00048: early stopping\n",
      "CPU times: user 3min 27s, sys: 5min 15s, total: 8min 42s\n",
      "Wall time: 10min 37s\n"
     ]
    },
    {
     "name": "stderr",
     "output_type": "stream",
     "text": [
      "2017-03-20 21:30:27,211 : INFO : Generating Training Metrics\n",
      "2017-03-20 21:31:21,852 : INFO : Evaluating on Validation Data using saved best weights\n"
     ]
    },
    {
     "name": "stdout",
     "output_type": "stream",
     "text": [
      "****** Training Metrics: Cov Err: 8.220 | Top 3: 0.695 | Top 5: 0.782 | F1 Micro: 0.525 | F1 Macro: 0.182\n"
     ]
    },
    {
     "name": "stderr",
     "output_type": "stream",
     "text": [
      "2017-03-20 21:31:34,042 : INFO : Generating Validation Metrics\n"
     ]
    },
    {
     "name": "stdout",
     "output_type": "stream",
     "text": [
      "****** Validation Metrics: Cov Err: 10.672 | Top 3: 0.691 | Top 5: 0.777 | F1 Micro: 0.489 | F1 Macro: 0.095\n"
     ]
    },
    {
     "name": "stderr",
     "output_type": "stream",
     "text": [
      "2017-03-20 21:31:44,756 : INFO : ***************************************************************************************\n",
      "2017-03-20 21:31:44,758 : INFO : lstm_optimizer_rmsprop_size_500_w-drop_0.4_u-drop_0.6_stack_3_conv_None\n"
     ]
    },
    {
     "name": "stdout",
     "output_type": "stream",
     "text": [
      "____________________________________________________________________________________________________\n",
      "Layer (type)                     Output Shape          Param #     Connected to                     \n",
      "====================================================================================================\n",
      "lstm_500_u-drop_0.6_w-drop_0.4_l (None, None, 500)     1402000     lstm_input_12[0][0]              \n",
      "____________________________________________________________________________________________________\n",
      "lstm_500_u-drop_0.6_w-drop_0.4_l (None, None, 500)     2002000     lstm_500_u-drop_0.6_w-drop_0.4_la\n",
      "____________________________________________________________________________________________________\n",
      "lstm_500_u-drop_0.6_w-drop_0.4_l (None, 500)           2002000     lstm_500_u-drop_0.6_w-drop_0.4_la\n",
      "____________________________________________________________________________________________________\n",
      "sigmoid_output (Dense)           (None, 940)           470940      lstm_500_u-drop_0.6_w-drop_0.4_la\n",
      "====================================================================================================\n",
      "Total params: 5876940\n",
      "____________________________________________________________________________________________________\n",
      "Train on 120156 samples, validate on 29675 samples\n",
      "Epoch 1/200\n",
      "    \n"
     ]
    },
    {
     "name": "stderr",
     "output_type": "stream",
     "text": [
      "2017-03-20 21:33:25,063 : INFO : Found lower val loss for epoch 1 => 0.00841\n"
     ]
    },
    {
     "name": "stdout",
     "output_type": "stream",
     "text": [
      "120156/120156 [==============================] - 29s - loss: 0.0435 - val_loss: 0.0084\n",
      "Epoch 2/200\n",
      "    \n"
     ]
    },
    {
     "name": "stderr",
     "output_type": "stream",
     "text": [
      "2017-03-20 21:33:51,158 : INFO : Found lower val loss for epoch 2 => 0.00835\n"
     ]
    },
    {
     "name": "stdout",
     "output_type": "stream",
     "text": [
      "120156/120156 [==============================] - 26s - loss: 0.0102 - val_loss: 0.0083\n",
      "Epoch 3/200\n",
      "    \n"
     ]
    },
    {
     "name": "stderr",
     "output_type": "stream",
     "text": [
      "2017-03-20 21:34:23,648 : INFO : Found lower val loss for epoch 3 => 0.00744\n"
     ]
    },
    {
     "name": "stdout",
     "output_type": "stream",
     "text": [
      "120156/120156 [==============================] - 32s - loss: 0.0099 - val_loss: 0.0074\n",
      "Epoch 4/200\n",
      "    \n"
     ]
    },
    {
     "name": "stderr",
     "output_type": "stream",
     "text": [
      "2017-03-20 21:34:58,083 : INFO : Found lower val loss for epoch 4 => 0.00681\n"
     ]
    },
    {
     "name": "stdout",
     "output_type": "stream",
     "text": [
      "120156/120156 [==============================] - 34s - loss: 0.0089 - val_loss: 0.0068\n",
      "Epoch 5/200\n",
      "    \n"
     ]
    },
    {
     "name": "stderr",
     "output_type": "stream",
     "text": [
      "2017-03-20 21:35:28,965 : INFO : Found lower val loss for epoch 5 => 0.00635\n"
     ]
    },
    {
     "name": "stdout",
     "output_type": "stream",
     "text": [
      "120156/120156 [==============================] - 30s - loss: 0.0083 - val_loss: 0.0064\n",
      "Epoch 6/200\n",
      "    \n"
     ]
    },
    {
     "name": "stderr",
     "output_type": "stream",
     "text": [
      "2017-03-20 21:35:53,391 : INFO : Found lower val loss for epoch 6 => 0.00582\n"
     ]
    },
    {
     "name": "stdout",
     "output_type": "stream",
     "text": [
      "120156/120156 [==============================] - 24s - loss: 0.0077 - val_loss: 0.0058\n",
      "Epoch 7/200\n",
      "    \n"
     ]
    },
    {
     "name": "stderr",
     "output_type": "stream",
     "text": [
      "2017-03-20 21:36:18,359 : INFO : Found lower val loss for epoch 7 => 0.00546\n"
     ]
    },
    {
     "name": "stdout",
     "output_type": "stream",
     "text": [
      "120156/120156 [==============================] - 24s - loss: 0.0073 - val_loss: 0.0055\n",
      "Epoch 8/200\n",
      "    \n"
     ]
    },
    {
     "name": "stderr",
     "output_type": "stream",
     "text": [
      "2017-03-20 21:36:41,945 : INFO : Found lower val loss for epoch 8 => 0.00518\n"
     ]
    },
    {
     "name": "stdout",
     "output_type": "stream",
     "text": [
      "120156/120156 [==============================] - 23s - loss: 0.0069 - val_loss: 0.0052\n",
      "Epoch 9/200\n",
      "    \n"
     ]
    },
    {
     "name": "stderr",
     "output_type": "stream",
     "text": [
      "2017-03-20 21:37:06,160 : INFO : Found lower val loss for epoch 9 => 0.00492\n"
     ]
    },
    {
     "name": "stdout",
     "output_type": "stream",
     "text": [
      "120156/120156 [==============================] - 24s - loss: 0.0067 - val_loss: 0.0049\n",
      "Epoch 10/200\n",
      "    \n"
     ]
    },
    {
     "name": "stderr",
     "output_type": "stream",
     "text": [
      "2017-03-20 21:37:30,148 : INFO : Found lower val loss for epoch 10 => 0.00483\n"
     ]
    },
    {
     "name": "stdout",
     "output_type": "stream",
     "text": [
      "120156/120156 [==============================] - 23s - loss: 0.0065 - val_loss: 0.0048\n",
      "Epoch 11/200\n",
      "    \n"
     ]
    },
    {
     "name": "stderr",
     "output_type": "stream",
     "text": [
      "2017-03-20 21:37:54,317 : INFO : Found lower val loss for epoch 11 => 0.00464\n"
     ]
    },
    {
     "name": "stdout",
     "output_type": "stream",
     "text": [
      "120156/120156 [==============================] - 24s - loss: 0.0063 - val_loss: 0.0046\n",
      "Epoch 12/200\n",
      "    \n"
     ]
    },
    {
     "name": "stderr",
     "output_type": "stream",
     "text": [
      "2017-03-20 21:38:17,544 : INFO : Found lower val loss for epoch 12 => 0.0046\n"
     ]
    },
    {
     "name": "stdout",
     "output_type": "stream",
     "text": [
      "120156/120156 [==============================] - 23s - loss: 0.0062 - val_loss: 0.0046\n",
      "Epoch 13/200\n",
      "    \n"
     ]
    },
    {
     "name": "stderr",
     "output_type": "stream",
     "text": [
      "2017-03-20 21:38:41,705 : INFO : Found lower val loss for epoch 13 => 0.00444\n"
     ]
    },
    {
     "name": "stdout",
     "output_type": "stream",
     "text": [
      "120156/120156 [==============================] - 24s - loss: 0.0061 - val_loss: 0.0044\n",
      "Epoch 14/200\n",
      "120156/120156 [==============================] - 22s - loss: 0.0060 - val_loss: 0.0045\n",
      "Epoch 15/200\n",
      "    \n"
     ]
    },
    {
     "name": "stderr",
     "output_type": "stream",
     "text": [
      "2017-03-20 21:39:27,227 : INFO : Found lower val loss for epoch 15 => 0.0044\n"
     ]
    },
    {
     "name": "stdout",
     "output_type": "stream",
     "text": [
      "120156/120156 [==============================] - 22s - loss: 0.0059 - val_loss: 0.0044\n",
      "Epoch 16/200\n",
      "120156/120156 [==============================] - 23s - loss: 0.0058 - val_loss: 0.0044\n",
      "Epoch 17/200\n",
      "    \n"
     ]
    },
    {
     "name": "stderr",
     "output_type": "stream",
     "text": [
      "2017-03-20 21:40:15,140 : INFO : Found lower val loss for epoch 17 => 0.00431\n"
     ]
    },
    {
     "name": "stdout",
     "output_type": "stream",
     "text": [
      "120156/120156 [==============================] - 23s - loss: 0.0057 - val_loss: 0.0043\n",
      "Epoch 18/200\n",
      "    \n"
     ]
    },
    {
     "name": "stderr",
     "output_type": "stream",
     "text": [
      "2017-03-20 21:40:39,679 : INFO : Found lower val loss for epoch 18 => 0.00424\n"
     ]
    },
    {
     "name": "stdout",
     "output_type": "stream",
     "text": [
      "120156/120156 [==============================] - 24s - loss: 0.0056 - val_loss: 0.0042\n",
      "Epoch 19/200\n",
      "    \n"
     ]
    },
    {
     "name": "stderr",
     "output_type": "stream",
     "text": [
      "2017-03-20 21:41:04,222 : INFO : Found lower val loss for epoch 19 => 0.00414\n"
     ]
    },
    {
     "name": "stdout",
     "output_type": "stream",
     "text": [
      "120156/120156 [==============================] - 24s - loss: 0.0056 - val_loss: 0.0041\n",
      "Epoch 20/200\n",
      "120156/120156 [==============================] - 22s - loss: 0.0055 - val_loss: 0.0042\n",
      "Epoch 21/200\n",
      "120156/120156 [==============================] - 22s - loss: 0.0055 - val_loss: 0.0042\n",
      "Epoch 22/200\n",
      "    \n"
     ]
    },
    {
     "name": "stderr",
     "output_type": "stream",
     "text": [
      "2017-03-20 21:42:13,052 : INFO : Found lower val loss for epoch 22 => 0.00414\n"
     ]
    },
    {
     "name": "stdout",
     "output_type": "stream",
     "text": [
      "120156/120156 [==============================] - 23s - loss: 0.0054 - val_loss: 0.0041\n",
      "Epoch 23/200\n",
      "    \n"
     ]
    },
    {
     "name": "stderr",
     "output_type": "stream",
     "text": [
      "2017-03-20 21:42:36,259 : INFO : Found lower val loss for epoch 23 => 0.00411\n"
     ]
    },
    {
     "name": "stdout",
     "output_type": "stream",
     "text": [
      "120156/120156 [==============================] - 23s - loss: 0.0054 - val_loss: 0.0041\n",
      "Epoch 24/200\n",
      "    \n"
     ]
    },
    {
     "name": "stderr",
     "output_type": "stream",
     "text": [
      "2017-03-20 21:42:59,922 : INFO : Found lower val loss for epoch 24 => 0.00404\n"
     ]
    },
    {
     "name": "stdout",
     "output_type": "stream",
     "text": [
      "120156/120156 [==============================] - 23s - loss: 0.0053 - val_loss: 0.0040\n",
      "Epoch 25/200\n",
      "    \n"
     ]
    },
    {
     "name": "stderr",
     "output_type": "stream",
     "text": [
      "2017-03-20 21:43:23,074 : INFO : Found lower val loss for epoch 25 => 0.00397\n"
     ]
    },
    {
     "name": "stdout",
     "output_type": "stream",
     "text": [
      "120156/120156 [==============================] - 23s - loss: 0.0053 - val_loss: 0.0040\n",
      "Epoch 26/200\n",
      "120156/120156 [==============================] - 24s - loss: 0.0052 - val_loss: 0.0040\n",
      "Epoch 27/200\n",
      "    \n"
     ]
    },
    {
     "name": "stderr",
     "output_type": "stream",
     "text": [
      "2017-03-20 21:44:20,940 : INFO : Found lower val loss for epoch 27 => 0.00394\n"
     ]
    },
    {
     "name": "stdout",
     "output_type": "stream",
     "text": [
      "120156/120156 [==============================] - 31s - loss: 0.0052 - val_loss: 0.0039\n",
      "Epoch 28/200\n",
      "120156/120156 [==============================] - 23s - loss: 0.0052 - val_loss: 0.0041\n",
      "Epoch 29/200\n",
      "120156/120156 [==============================] - 24s - loss: 0.0051 - val_loss: 0.0040\n",
      "Epoch 30/200\n",
      "120156/120156 [==============================] - 24s - loss: 0.0051 - val_loss: 0.0040\n",
      "Epoch 31/200\n",
      "    \n"
     ]
    },
    {
     "name": "stderr",
     "output_type": "stream",
     "text": [
      "2017-03-20 21:45:56,306 : INFO : Found lower val loss for epoch 31 => 0.0039\n"
     ]
    },
    {
     "name": "stdout",
     "output_type": "stream",
     "text": [
      "120156/120156 [==============================] - 23s - loss: 0.0051 - val_loss: 0.0039\n",
      "Epoch 32/200\n",
      "    \n"
     ]
    },
    {
     "name": "stderr",
     "output_type": "stream",
     "text": [
      "2017-03-20 21:46:20,217 : INFO : Found lower val loss for epoch 32 => 0.00388\n"
     ]
    },
    {
     "name": "stdout",
     "output_type": "stream",
     "text": [
      "120156/120156 [==============================] - 23s - loss: 0.0050 - val_loss: 0.0039\n",
      "Epoch 33/200\n",
      "120156/120156 [==============================] - 23s - loss: 0.0050 - val_loss: 0.0039\n",
      "Epoch 34/200\n",
      "120156/120156 [==============================] - 24s - loss: 0.0050 - val_loss: 0.0039\n",
      "Epoch 35/200\n",
      "120156/120156 [==============================] - 25s - loss: 0.0050 - val_loss: 0.0039\n",
      "Epoch 36/200\n",
      "120156/120156 [==============================] - 25s - loss: 0.0049 - val_loss: 0.0039\n",
      "Epoch 37/200\n",
      "120156/120156 [==============================] - 26s - loss: 0.0049 - val_loss: 0.0039\n",
      "Epoch 38/200\n",
      "    \n"
     ]
    },
    {
     "name": "stderr",
     "output_type": "stream",
     "text": [
      "2017-03-20 21:48:52,399 : INFO : Found lower val loss for epoch 38 => 0.00386\n"
     ]
    },
    {
     "name": "stdout",
     "output_type": "stream",
     "text": [
      "120156/120156 [==============================] - 26s - loss: 0.0049 - val_loss: 0.0039\n",
      "Epoch 39/200\n",
      "120156/120156 [==============================] - 26s - loss: 0.0049 - val_loss: 0.0039\n",
      "Epoch 40/200\n",
      "    \n"
     ]
    },
    {
     "name": "stderr",
     "output_type": "stream",
     "text": [
      "2017-03-20 21:49:43,485 : INFO : Found lower val loss for epoch 40 => 0.00381\n"
     ]
    },
    {
     "name": "stdout",
     "output_type": "stream",
     "text": [
      "120156/120156 [==============================] - 24s - loss: 0.0048 - val_loss: 0.0038\n",
      "Epoch 41/200\n",
      "120156/120156 [==============================] - 23s - loss: 0.0048 - val_loss: 0.0040\n",
      "Epoch 42/200\n",
      "120156/120156 [==============================] - 22s - loss: 0.0048 - val_loss: 0.0039\n",
      "Epoch 43/200\n",
      "120156/120156 [==============================] - 25s - loss: 0.0048 - val_loss: 0.0039\n",
      "Epoch 44/200\n",
      "120156/120156 [==============================] - 25s - loss: 0.0048 - val_loss: 0.0039\n",
      "Epoch 45/200\n",
      "120156/120156 [==============================] - 26s - loss: 0.0047 - val_loss: 0.0039\n",
      "Epoch 46/200\n",
      "120156/120156 [==============================] - 26s - loss: 0.0047 - val_loss: 0.0038\n",
      "Epoch 47/200\n",
      "120156/120156 [==============================] - 26s - loss: 0.0047 - val_loss: 0.0039\n",
      "Epoch 48/200\n",
      "120156/120156 [==============================] - 24s - loss: 0.0047 - val_loss: 0.0039\n",
      "Epoch 49/200\n",
      "120156/120156 [==============================] - 26s - loss: 0.0047 - val_loss: 0.0039\n",
      "Epoch 50/200\n",
      "120156/120156 [==============================] - 25s - loss: 0.0046 - val_loss: 0.0039\n",
      "Epoch 51/200\n",
      "120156/120156 [==============================] - 25s - loss: 0.0046 - val_loss: 0.0038"
     ]
    },
    {
     "name": "stderr",
     "output_type": "stream",
     "text": [
      "2017-03-20 21:54:21,615 : INFO : Evaluating on Training Data\n"
     ]
    },
    {
     "name": "stdout",
     "output_type": "stream",
     "text": [
      "\n",
      "Epoch 00050: early stopping\n",
      "CPU times: user 7min 52s, sys: 12min 56s, total: 20min 49s\n",
      "Wall time: 22min 31s\n"
     ]
    },
    {
     "name": "stderr",
     "output_type": "stream",
     "text": [
      "2017-03-20 21:55:46,019 : INFO : Generating Training Metrics\n",
      "2017-03-20 21:56:34,776 : INFO : Evaluating on Validation Data using saved best weights\n"
     ]
    },
    {
     "name": "stdout",
     "output_type": "stream",
     "text": [
      "****** Training Metrics: Cov Err: 6.753 | Top 3: 0.715 | Top 5: 0.801 | F1 Micro: 0.528 | F1 Macro: 0.152\n"
     ]
    },
    {
     "name": "stderr",
     "output_type": "stream",
     "text": [
      "2017-03-20 21:56:53,005 : INFO : Generating Validation Metrics\n"
     ]
    },
    {
     "name": "stdout",
     "output_type": "stream",
     "text": [
      "****** Validation Metrics: Cov Err: 10.423 | Top 3: 0.689 | Top 5: 0.777 | F1 Micro: 0.494 | F1 Macro: 0.082\n"
     ]
    },
    {
     "name": "stderr",
     "output_type": "stream",
     "text": [
      "2017-03-20 21:57:03,761 : INFO : ***************************************************************************************\n",
      "2017-03-20 21:57:03,763 : INFO : lstm_optimizer_rmsprop_size_200_w-drop_0.5_u-drop_0.5_stack_1_conv_None\n"
     ]
    },
    {
     "name": "stdout",
     "output_type": "stream",
     "text": [
      "____________________________________________________________________________________________________\n",
      "Layer (type)                     Output Shape          Param #     Connected to                     \n",
      "====================================================================================================\n",
      "lstm_200_u-drop_0.5_w-drop_0.5_l (None, 200)           320800      lstm_input_13[0][0]              \n",
      "____________________________________________________________________________________________________\n",
      "sigmoid_output (Dense)           (None, 940)           188940      lstm_200_u-drop_0.5_w-drop_0.5_la\n",
      "====================================================================================================\n",
      "Total params: 509740\n",
      "____________________________________________________________________________________________________\n",
      "Train on 120156 samples, validate on 29675 samples\n",
      "Epoch 1/200\n",
      "    \n"
     ]
    },
    {
     "name": "stderr",
     "output_type": "stream",
     "text": [
      "2017-03-20 21:57:29,694 : INFO : Found lower val loss for epoch 1 => 0.00901\n"
     ]
    },
    {
     "name": "stdout",
     "output_type": "stream",
     "text": [
      "120156/120156 [==============================] - 4s - loss: 0.0814 - val_loss: 0.0090\n",
      "Epoch 2/200\n",
      "    \n"
     ]
    },
    {
     "name": "stderr",
     "output_type": "stream",
     "text": [
      "2017-03-20 21:57:34,924 : INFO : Found lower val loss for epoch 2 => 0.00833\n"
     ]
    },
    {
     "name": "stdout",
     "output_type": "stream",
     "text": [
      "120156/120156 [==============================] - 5s - loss: 0.0104 - val_loss: 0.0083\n",
      "Epoch 3/200\n",
      "    \n"
     ]
    },
    {
     "name": "stderr",
     "output_type": "stream",
     "text": [
      "2017-03-20 21:57:39,535 : INFO : Found lower val loss for epoch 3 => 0.00795\n"
     ]
    },
    {
     "name": "stdout",
     "output_type": "stream",
     "text": [
      "120156/120156 [==============================] - 4s - loss: 0.0101 - val_loss: 0.0079\n",
      "Epoch 4/200\n",
      "    \n"
     ]
    },
    {
     "name": "stderr",
     "output_type": "stream",
     "text": [
      "2017-03-20 21:57:44,069 : INFO : Found lower val loss for epoch 4 => 0.00718\n"
     ]
    },
    {
     "name": "stdout",
     "output_type": "stream",
     "text": [
      "120156/120156 [==============================] - 4s - loss: 0.0094 - val_loss: 0.0072\n",
      "Epoch 5/200\n",
      "    \n"
     ]
    },
    {
     "name": "stderr",
     "output_type": "stream",
     "text": [
      "2017-03-20 21:57:48,467 : INFO : Found lower val loss for epoch 5 => 0.00652\n"
     ]
    },
    {
     "name": "stdout",
     "output_type": "stream",
     "text": [
      "120156/120156 [==============================] - 4s - loss: 0.0086 - val_loss: 0.0065\n",
      "Epoch 6/200\n",
      "    \n"
     ]
    },
    {
     "name": "stderr",
     "output_type": "stream",
     "text": [
      "2017-03-20 21:57:52,916 : INFO : Found lower val loss for epoch 6 => 0.00605\n"
     ]
    },
    {
     "name": "stdout",
     "output_type": "stream",
     "text": [
      "120156/120156 [==============================] - 4s - loss: 0.0081 - val_loss: 0.0060\n",
      "Epoch 7/200\n",
      "    \n"
     ]
    },
    {
     "name": "stderr",
     "output_type": "stream",
     "text": [
      "2017-03-20 21:57:57,353 : INFO : Found lower val loss for epoch 7 => 0.00572\n"
     ]
    },
    {
     "name": "stdout",
     "output_type": "stream",
     "text": [
      "120156/120156 [==============================] - 4s - loss: 0.0076 - val_loss: 0.0057\n",
      "Epoch 8/200\n",
      "    \n"
     ]
    },
    {
     "name": "stderr",
     "output_type": "stream",
     "text": [
      "2017-03-20 21:58:01,719 : INFO : Found lower val loss for epoch 8 => 0.00552\n"
     ]
    },
    {
     "name": "stdout",
     "output_type": "stream",
     "text": [
      "120156/120156 [==============================] - 4s - loss: 0.0073 - val_loss: 0.0055\n",
      "Epoch 9/200\n",
      "    \n"
     ]
    },
    {
     "name": "stderr",
     "output_type": "stream",
     "text": [
      "2017-03-20 21:58:06,165 : INFO : Found lower val loss for epoch 9 => 0.00532\n"
     ]
    },
    {
     "name": "stdout",
     "output_type": "stream",
     "text": [
      "120156/120156 [==============================] - 4s - loss: 0.0071 - val_loss: 0.0053\n",
      "Epoch 10/200\n",
      "    \n"
     ]
    },
    {
     "name": "stderr",
     "output_type": "stream",
     "text": [
      "2017-03-20 21:58:10,443 : INFO : Found lower val loss for epoch 10 => 0.00512\n"
     ]
    },
    {
     "name": "stdout",
     "output_type": "stream",
     "text": [
      "120156/120156 [==============================] - 4s - loss: 0.0069 - val_loss: 0.0051\n",
      "Epoch 11/200\n",
      "    \n"
     ]
    },
    {
     "name": "stderr",
     "output_type": "stream",
     "text": [
      "2017-03-20 21:58:15,022 : INFO : Found lower val loss for epoch 11 => 0.00501\n"
     ]
    },
    {
     "name": "stdout",
     "output_type": "stream",
     "text": [
      "120156/120156 [==============================] - 4s - loss: 0.0067 - val_loss: 0.0050\n",
      "Epoch 12/200\n",
      "    \n"
     ]
    },
    {
     "name": "stderr",
     "output_type": "stream",
     "text": [
      "2017-03-20 21:58:19,664 : INFO : Found lower val loss for epoch 12 => 0.00498\n"
     ]
    },
    {
     "name": "stdout",
     "output_type": "stream",
     "text": [
      "120156/120156 [==============================] - 4s - loss: 0.0066 - val_loss: 0.0050\n",
      "Epoch 13/200\n",
      "    \n"
     ]
    },
    {
     "name": "stderr",
     "output_type": "stream",
     "text": [
      "2017-03-20 21:58:24,167 : INFO : Found lower val loss for epoch 13 => 0.00486\n"
     ]
    },
    {
     "name": "stdout",
     "output_type": "stream",
     "text": [
      "120156/120156 [==============================] - 4s - loss: 0.0065 - val_loss: 0.0049\n",
      "Epoch 14/200\n",
      "    \n"
     ]
    },
    {
     "name": "stderr",
     "output_type": "stream",
     "text": [
      "2017-03-20 21:58:28,340 : INFO : Found lower val loss for epoch 14 => 0.00478\n"
     ]
    },
    {
     "name": "stdout",
     "output_type": "stream",
     "text": [
      "120156/120156 [==============================] - 4s - loss: 0.0064 - val_loss: 0.0048\n",
      "Epoch 15/200\n",
      "120156/120156 [==============================] - 4s - loss: 0.0063 - val_loss: 0.0049\n",
      "Epoch 16/200\n",
      "120156/120156 [==============================] - 3s - loss: 0.0062 - val_loss: 0.0048\n",
      "Epoch 17/200\n",
      "    \n"
     ]
    },
    {
     "name": "stderr",
     "output_type": "stream",
     "text": [
      "2017-03-20 21:58:40,611 : INFO : Found lower val loss for epoch 17 => 0.00474\n"
     ]
    },
    {
     "name": "stdout",
     "output_type": "stream",
     "text": [
      "120156/120156 [==============================] - 4s - loss: 0.0061 - val_loss: 0.0047\n",
      "Epoch 18/200\n",
      "    \n"
     ]
    },
    {
     "name": "stderr",
     "output_type": "stream",
     "text": [
      "2017-03-20 21:58:44,815 : INFO : Found lower val loss for epoch 18 => 0.00465\n"
     ]
    },
    {
     "name": "stdout",
     "output_type": "stream",
     "text": [
      "120156/120156 [==============================] - 4s - loss: 0.0061 - val_loss: 0.0046\n",
      "Epoch 19/200\n",
      "    \n"
     ]
    },
    {
     "name": "stderr",
     "output_type": "stream",
     "text": [
      "2017-03-20 21:58:48,992 : INFO : Found lower val loss for epoch 19 => 0.00454\n"
     ]
    },
    {
     "name": "stdout",
     "output_type": "stream",
     "text": [
      "120156/120156 [==============================] - 4s - loss: 0.0060 - val_loss: 0.0045\n",
      "Epoch 20/200\n",
      "120156/120156 [==============================] - 4s - loss: 0.0059 - val_loss: 0.0046\n",
      "Epoch 21/200\n",
      "    \n"
     ]
    },
    {
     "name": "stderr",
     "output_type": "stream",
     "text": [
      "2017-03-20 21:58:57,193 : INFO : Found lower val loss for epoch 21 => 0.0045\n"
     ]
    },
    {
     "name": "stdout",
     "output_type": "stream",
     "text": [
      "120156/120156 [==============================] - 4s - loss: 0.0059 - val_loss: 0.0045\n",
      "Epoch 22/200\n",
      "    \n"
     ]
    },
    {
     "name": "stderr",
     "output_type": "stream",
     "text": [
      "2017-03-20 21:59:01,746 : INFO : Found lower val loss for epoch 22 => 0.00445\n"
     ]
    },
    {
     "name": "stdout",
     "output_type": "stream",
     "text": [
      "120156/120156 [==============================] - 4s - loss: 0.0058 - val_loss: 0.0044\n",
      "Epoch 23/200\n",
      "120156/120156 [==============================] - 4s - loss: 0.0058 - val_loss: 0.0045\n",
      "Epoch 24/200\n",
      "120156/120156 [==============================] - 3s - loss: 0.0057 - val_loss: 0.0045\n",
      "Epoch 25/200\n",
      "120156/120156 [==============================] - 3s - loss: 0.0057 - val_loss: 0.0045\n",
      "Epoch 26/200\n",
      "    \n"
     ]
    },
    {
     "name": "stderr",
     "output_type": "stream",
     "text": [
      "2017-03-20 21:59:17,580 : INFO : Found lower val loss for epoch 26 => 0.00434\n"
     ]
    },
    {
     "name": "stdout",
     "output_type": "stream",
     "text": [
      "120156/120156 [==============================] - 4s - loss: 0.0057 - val_loss: 0.0043\n",
      "Epoch 27/200\n",
      "    \n"
     ]
    },
    {
     "name": "stderr",
     "output_type": "stream",
     "text": [
      "2017-03-20 21:59:21,689 : INFO : Found lower val loss for epoch 27 => 0.00429\n"
     ]
    },
    {
     "name": "stdout",
     "output_type": "stream",
     "text": [
      "120156/120156 [==============================] - 4s - loss: 0.0056 - val_loss: 0.0043\n",
      "Epoch 28/200\n",
      "120156/120156 [==============================] - 3s - loss: 0.0056 - val_loss: 0.0044\n",
      "Epoch 29/200\n",
      "120156/120156 [==============================] - 3s - loss: 0.0056 - val_loss: 0.0044\n",
      "Epoch 30/200\n",
      "120156/120156 [==============================] - 3s - loss: 0.0055 - val_loss: 0.0044\n",
      "Epoch 31/200\n",
      "    \n"
     ]
    },
    {
     "name": "stderr",
     "output_type": "stream",
     "text": [
      "2017-03-20 21:59:37,687 : INFO : Found lower val loss for epoch 31 => 0.00425\n"
     ]
    },
    {
     "name": "stdout",
     "output_type": "stream",
     "text": [
      "120156/120156 [==============================] - 4s - loss: 0.0055 - val_loss: 0.0043\n",
      "Epoch 32/200\n",
      "    \n"
     ]
    },
    {
     "name": "stderr",
     "output_type": "stream",
     "text": [
      "2017-03-20 21:59:41,762 : INFO : Found lower val loss for epoch 32 => 0.00425\n"
     ]
    },
    {
     "name": "stdout",
     "output_type": "stream",
     "text": [
      "120156/120156 [==============================] - 4s - loss: 0.0055 - val_loss: 0.0043\n",
      "Epoch 33/200\n",
      "    \n"
     ]
    },
    {
     "name": "stderr",
     "output_type": "stream",
     "text": [
      "2017-03-20 21:59:45,930 : INFO : Found lower val loss for epoch 33 => 0.00421\n"
     ]
    },
    {
     "name": "stdout",
     "output_type": "stream",
     "text": [
      "120156/120156 [==============================] - 4s - loss: 0.0055 - val_loss: 0.0042\n",
      "Epoch 34/200\n",
      "120156/120156 [==============================] - 3s - loss: 0.0054 - val_loss: 0.0045\n",
      "Epoch 35/200\n",
      "    \n"
     ]
    },
    {
     "name": "stderr",
     "output_type": "stream",
     "text": [
      "2017-03-20 21:59:53,877 : INFO : Found lower val loss for epoch 35 => 0.00419\n"
     ]
    },
    {
     "name": "stdout",
     "output_type": "stream",
     "text": [
      "120156/120156 [==============================] - 4s - loss: 0.0054 - val_loss: 0.0042\n",
      "Epoch 36/200\n",
      "120156/120156 [==============================] - 3s - loss: 0.0054 - val_loss: 0.0042\n",
      "Epoch 37/200\n",
      "    \n"
     ]
    },
    {
     "name": "stderr",
     "output_type": "stream",
     "text": [
      "2017-03-20 22:00:01,821 : INFO : Found lower val loss for epoch 37 => 0.00419\n"
     ]
    },
    {
     "name": "stdout",
     "output_type": "stream",
     "text": [
      "120156/120156 [==============================] - 4s - loss: 0.0054 - val_loss: 0.0042\n",
      "Epoch 38/200\n",
      "    \n"
     ]
    },
    {
     "name": "stderr",
     "output_type": "stream",
     "text": [
      "2017-03-20 22:00:05,917 : INFO : Found lower val loss for epoch 38 => 0.00415\n"
     ]
    },
    {
     "name": "stdout",
     "output_type": "stream",
     "text": [
      "120156/120156 [==============================] - 4s - loss: 0.0054 - val_loss: 0.0042\n",
      "Epoch 39/200\n",
      "120156/120156 [==============================] - 3s - loss: 0.0053 - val_loss: 0.0043\n",
      "Epoch 40/200\n",
      "120156/120156 [==============================] - 3s - loss: 0.0053 - val_loss: 0.0042\n",
      "Epoch 41/200\n",
      "120156/120156 [==============================] - 3s - loss: 0.0053 - val_loss: 0.0042\n",
      "Epoch 42/200\n",
      "120156/120156 [==============================] - 3s - loss: 0.0053 - val_loss: 0.0042\n",
      "Epoch 43/200\n",
      "120156/120156 [==============================] - 3s - loss: 0.0053 - val_loss: 0.0043\n",
      "Epoch 44/200\n",
      "120156/120156 [==============================] - 3s - loss: 0.0053 - val_loss: 0.0043\n",
      "Epoch 45/200\n",
      "    \n"
     ]
    },
    {
     "name": "stderr",
     "output_type": "stream",
     "text": [
      "2017-03-20 22:00:33,296 : INFO : Found lower val loss for epoch 45 => 0.0041\n"
     ]
    },
    {
     "name": "stdout",
     "output_type": "stream",
     "text": [
      "120156/120156 [==============================] - 4s - loss: 0.0053 - val_loss: 0.0041\n",
      "Epoch 46/200\n",
      "120156/120156 [==============================] - 4s - loss: 0.0052 - val_loss: 0.0041\n",
      "Epoch 47/200\n",
      "120156/120156 [==============================] - 3s - loss: 0.0052 - val_loss: 0.0041\n",
      "Epoch 48/200\n",
      "120156/120156 [==============================] - 3s - loss: 0.0052 - val_loss: 0.0043\n",
      "Epoch 49/200\n",
      "120156/120156 [==============================] - 4s - loss: 0.0052 - val_loss: 0.0041\n",
      "Epoch 50/200\n",
      "120156/120156 [==============================] - 4s - loss: 0.0052 - val_loss: 0.0041\n",
      "Epoch 51/200\n",
      "120156/120156 [==============================] - 4s - loss: 0.0052 - val_loss: 0.0041\n",
      "Epoch 52/200\n",
      "    \n"
     ]
    },
    {
     "name": "stderr",
     "output_type": "stream",
     "text": [
      "2017-03-20 22:01:03,185 : INFO : Found lower val loss for epoch 52 => 0.00409\n"
     ]
    },
    {
     "name": "stdout",
     "output_type": "stream",
     "text": [
      "120156/120156 [==============================] - 4s - loss: 0.0052 - val_loss: 0.0041\n",
      "Epoch 53/200\n",
      "120156/120156 [==============================] - 4s - loss: 0.0052 - val_loss: 0.0042\n",
      "Epoch 54/200\n",
      "120156/120156 [==============================] - 4s - loss: 0.0052 - val_loss: 0.0042\n",
      "Epoch 55/200\n",
      "    \n"
     ]
    },
    {
     "name": "stderr",
     "output_type": "stream",
     "text": [
      "2017-03-20 22:01:16,418 : INFO : Found lower val loss for epoch 55 => 0.00407\n"
     ]
    },
    {
     "name": "stdout",
     "output_type": "stream",
     "text": [
      "120156/120156 [==============================] - 4s - loss: 0.0051 - val_loss: 0.0041\n",
      "Epoch 56/200\n",
      "    \n"
     ]
    },
    {
     "name": "stderr",
     "output_type": "stream",
     "text": [
      "2017-03-20 22:01:20,749 : INFO : Found lower val loss for epoch 56 => 0.00402\n"
     ]
    },
    {
     "name": "stdout",
     "output_type": "stream",
     "text": [
      "120156/120156 [==============================] - 4s - loss: 0.0051 - val_loss: 0.0040\n",
      "Epoch 57/200\n",
      "120156/120156 [==============================] - 4s - loss: 0.0051 - val_loss: 0.0041\n",
      "Epoch 58/200\n",
      "120156/120156 [==============================] - 4s - loss: 0.0051 - val_loss: 0.0041\n",
      "Epoch 59/200\n",
      "    \n"
     ]
    },
    {
     "name": "stderr",
     "output_type": "stream",
     "text": [
      "2017-03-20 22:01:35,085 : INFO : Found lower val loss for epoch 59 => 0.004\n"
     ]
    },
    {
     "name": "stdout",
     "output_type": "stream",
     "text": [
      "120156/120156 [==============================] - 4s - loss: 0.0051 - val_loss: 0.0040\n",
      "Epoch 60/200\n",
      "120156/120156 [==============================] - 4s - loss: 0.0051 - val_loss: 0.0041\n",
      "Epoch 61/200\n",
      "120156/120156 [==============================] - 4s - loss: 0.0051 - val_loss: 0.0040\n",
      "Epoch 62/200\n",
      "120156/120156 [==============================] - 4s - loss: 0.0051 - val_loss: 0.0041\n",
      "Epoch 63/200\n",
      "120156/120156 [==============================] - 4s - loss: 0.0051 - val_loss: 0.0041\n",
      "Epoch 64/200\n",
      "120156/120156 [==============================] - 4s - loss: 0.0051 - val_loss: 0.0042\n",
      "Epoch 65/200\n",
      "120156/120156 [==============================] - 4s - loss: 0.0051 - val_loss: 0.0040\n",
      "Epoch 66/200\n",
      "120156/120156 [==============================] - 4s - loss: 0.0050 - val_loss: 0.0040\n",
      "Epoch 67/200\n",
      "120156/120156 [==============================] - 4s - loss: 0.0050 - val_loss: 0.0040\n",
      "Epoch 68/200\n",
      "120156/120156 [==============================] - 4s - loss: 0.0050 - val_loss: 0.0040\n",
      "Epoch 69/200\n",
      "120156/120156 [==============================] - 4s - loss: 0.0050 - val_loss: 0.0041\n",
      "Epoch 70/200\n",
      "120156/120156 [==============================] - 4s - loss: 0.0050 - val_loss: 0.0041"
     ]
    },
    {
     "name": "stderr",
     "output_type": "stream",
     "text": [
      "2017-03-20 22:02:25,853 : INFO : Evaluating on Training Data\n"
     ]
    },
    {
     "name": "stdout",
     "output_type": "stream",
     "text": [
      "\n",
      "Epoch 00069: early stopping\n",
      "CPU times: user 2min 33s, sys: 2min 47s, total: 5min 20s\n",
      "Wall time: 5min 20s\n"
     ]
    },
    {
     "name": "stderr",
     "output_type": "stream",
     "text": [
      "2017-03-20 22:03:00,807 : INFO : Generating Training Metrics\n",
      "2017-03-20 22:03:46,655 : INFO : Evaluating on Validation Data using saved best weights\n"
     ]
    },
    {
     "name": "stdout",
     "output_type": "stream",
     "text": [
      "****** Training Metrics: Cov Err: 9.152 | Top 3: 0.681 | Top 5: 0.768 | F1 Micro: 0.489 | F1 Macro: 0.121\n"
     ]
    },
    {
     "name": "stderr",
     "output_type": "stream",
     "text": [
      "2017-03-20 22:03:53,983 : INFO : Generating Validation Metrics\n"
     ]
    },
    {
     "name": "stdout",
     "output_type": "stream",
     "text": [
      "****** Validation Metrics: Cov Err: 11.049 | Top 3: 0.684 | Top 5: 0.770 | F1 Micro: 0.482 | F1 Macro: 0.085\n"
     ]
    },
    {
     "name": "stderr",
     "output_type": "stream",
     "text": [
      "2017-03-20 22:04:04,726 : INFO : ***************************************************************************************\n",
      "2017-03-20 22:04:04,728 : INFO : lstm_optimizer_rmsprop_size_300_w-drop_0.6_u-drop_0.6_stack_2_conv_None\n"
     ]
    },
    {
     "name": "stdout",
     "output_type": "stream",
     "text": [
      "____________________________________________________________________________________________________\n",
      "Layer (type)                     Output Shape          Param #     Connected to                     \n",
      "====================================================================================================\n",
      "lstm_300_u-drop_0.6_w-drop_0.6_l (None, None, 300)     601200      lstm_input_14[0][0]              \n",
      "____________________________________________________________________________________________________\n",
      "lstm_300_u-drop_0.6_w-drop_0.6_l (None, 300)           721200      lstm_300_u-drop_0.6_w-drop_0.6_la\n",
      "____________________________________________________________________________________________________\n",
      "sigmoid_output (Dense)           (None, 940)           282940      lstm_300_u-drop_0.6_w-drop_0.6_la\n",
      "====================================================================================================\n",
      "Total params: 1605340\n",
      "____________________________________________________________________________________________________\n",
      "Train on 120156 samples, validate on 29675 samples\n",
      "Epoch 1/200\n",
      "    \n"
     ]
    },
    {
     "name": "stderr",
     "output_type": "stream",
     "text": [
      "2017-03-20 22:04:50,960 : INFO : Found lower val loss for epoch 1 => 0.00856\n"
     ]
    },
    {
     "name": "stdout",
     "output_type": "stream",
     "text": [
      "120156/120156 [==============================] - 11s - loss: 0.0569 - val_loss: 0.0086\n",
      "Epoch 2/200\n",
      "    \n"
     ]
    },
    {
     "name": "stderr",
     "output_type": "stream",
     "text": [
      "2017-03-20 22:05:01,734 : INFO : Found lower val loss for epoch 2 => 0.00836\n"
     ]
    },
    {
     "name": "stdout",
     "output_type": "stream",
     "text": [
      "120156/120156 [==============================] - 10s - loss: 0.0102 - val_loss: 0.0084\n",
      "Epoch 3/200\n",
      "    \n"
     ]
    },
    {
     "name": "stderr",
     "output_type": "stream",
     "text": [
      "2017-03-20 22:05:12,767 : INFO : Found lower val loss for epoch 3 => 0.00792\n"
     ]
    },
    {
     "name": "stdout",
     "output_type": "stream",
     "text": [
      "120156/120156 [==============================] - 11s - loss: 0.0101 - val_loss: 0.0079\n",
      "Epoch 4/200\n",
      "    \n"
     ]
    },
    {
     "name": "stderr",
     "output_type": "stream",
     "text": [
      "2017-03-20 22:05:23,260 : INFO : Found lower val loss for epoch 4 => 0.00729\n"
     ]
    },
    {
     "name": "stdout",
     "output_type": "stream",
     "text": [
      "120156/120156 [==============================] - 10s - loss: 0.0094 - val_loss: 0.0073\n",
      "Epoch 5/200\n",
      "    \n"
     ]
    },
    {
     "name": "stderr",
     "output_type": "stream",
     "text": [
      "2017-03-20 22:05:33,922 : INFO : Found lower val loss for epoch 5 => 0.00689\n"
     ]
    },
    {
     "name": "stdout",
     "output_type": "stream",
     "text": [
      "120156/120156 [==============================] - 10s - loss: 0.0089 - val_loss: 0.0069\n",
      "Epoch 6/200\n",
      "    \n"
     ]
    },
    {
     "name": "stderr",
     "output_type": "stream",
     "text": [
      "2017-03-20 22:05:44,363 : INFO : Found lower val loss for epoch 6 => 0.00651\n"
     ]
    },
    {
     "name": "stdout",
     "output_type": "stream",
     "text": [
      "120156/120156 [==============================] - 10s - loss: 0.0085 - val_loss: 0.0065\n",
      "Epoch 7/200\n",
      "    \n"
     ]
    },
    {
     "name": "stderr",
     "output_type": "stream",
     "text": [
      "2017-03-20 22:05:54,985 : INFO : Found lower val loss for epoch 7 => 0.00607\n"
     ]
    },
    {
     "name": "stdout",
     "output_type": "stream",
     "text": [
      "120156/120156 [==============================] - 10s - loss: 0.0081 - val_loss: 0.0061\n",
      "Epoch 8/200\n",
      "    \n"
     ]
    },
    {
     "name": "stderr",
     "output_type": "stream",
     "text": [
      "2017-03-20 22:06:05,310 : INFO : Found lower val loss for epoch 8 => 0.00576\n"
     ]
    },
    {
     "name": "stdout",
     "output_type": "stream",
     "text": [
      "120156/120156 [==============================] - 10s - loss: 0.0077 - val_loss: 0.0058\n",
      "Epoch 9/200\n",
      "    \n"
     ]
    },
    {
     "name": "stderr",
     "output_type": "stream",
     "text": [
      "2017-03-20 22:06:16,067 : INFO : Found lower val loss for epoch 9 => 0.00566\n"
     ]
    },
    {
     "name": "stdout",
     "output_type": "stream",
     "text": [
      "120156/120156 [==============================] - 10s - loss: 0.0075 - val_loss: 0.0057\n",
      "Epoch 10/200\n",
      "    \n"
     ]
    },
    {
     "name": "stderr",
     "output_type": "stream",
     "text": [
      "2017-03-20 22:06:26,656 : INFO : Found lower val loss for epoch 10 => 0.00547\n"
     ]
    },
    {
     "name": "stdout",
     "output_type": "stream",
     "text": [
      "120156/120156 [==============================] - 10s - loss: 0.0073 - val_loss: 0.0055\n",
      "Epoch 11/200\n",
      "    \n"
     ]
    },
    {
     "name": "stderr",
     "output_type": "stream",
     "text": [
      "2017-03-20 22:06:36,994 : INFO : Found lower val loss for epoch 11 => 0.00534\n"
     ]
    },
    {
     "name": "stdout",
     "output_type": "stream",
     "text": [
      "120156/120156 [==============================] - 10s - loss: 0.0071 - val_loss: 0.0053\n",
      "Epoch 12/200\n",
      "    \n"
     ]
    },
    {
     "name": "stderr",
     "output_type": "stream",
     "text": [
      "2017-03-20 22:06:47,366 : INFO : Found lower val loss for epoch 12 => 0.00526\n"
     ]
    },
    {
     "name": "stdout",
     "output_type": "stream",
     "text": [
      "120156/120156 [==============================] - 10s - loss: 0.0070 - val_loss: 0.0053\n",
      "Epoch 13/200\n",
      "    \n"
     ]
    },
    {
     "name": "stderr",
     "output_type": "stream",
     "text": [
      "2017-03-20 22:06:57,734 : INFO : Found lower val loss for epoch 13 => 0.00508\n"
     ]
    },
    {
     "name": "stdout",
     "output_type": "stream",
     "text": [
      "120156/120156 [==============================] - 10s - loss: 0.0069 - val_loss: 0.0051\n",
      "Epoch 14/200\n",
      "120156/120156 [==============================] - 10s - loss: 0.0067 - val_loss: 0.0051\n",
      "Epoch 15/200\n",
      "    \n"
     ]
    },
    {
     "name": "stderr",
     "output_type": "stream",
     "text": [
      "2017-03-20 22:07:18,511 : INFO : Found lower val loss for epoch 15 => 0.0049\n"
     ]
    },
    {
     "name": "stdout",
     "output_type": "stream",
     "text": [
      "120156/120156 [==============================] - 10s - loss: 0.0066 - val_loss: 0.0049\n",
      "Epoch 16/200\n",
      "120156/120156 [==============================] - 10s - loss: 0.0065 - val_loss: 0.0049\n",
      "Epoch 17/200\n",
      "    \n"
     ]
    },
    {
     "name": "stderr",
     "output_type": "stream",
     "text": [
      "2017-03-20 22:07:38,917 : INFO : Found lower val loss for epoch 17 => 0.00486\n"
     ]
    },
    {
     "name": "stdout",
     "output_type": "stream",
     "text": [
      "120156/120156 [==============================] - 10s - loss: 0.0065 - val_loss: 0.0049\n",
      "Epoch 18/200\n",
      "    \n"
     ]
    },
    {
     "name": "stderr",
     "output_type": "stream",
     "text": [
      "2017-03-20 22:07:49,285 : INFO : Found lower val loss for epoch 18 => 0.00471\n"
     ]
    },
    {
     "name": "stdout",
     "output_type": "stream",
     "text": [
      "120156/120156 [==============================] - 10s - loss: 0.0064 - val_loss: 0.0047\n",
      "Epoch 19/200\n",
      "    \n"
     ]
    },
    {
     "name": "stderr",
     "output_type": "stream",
     "text": [
      "2017-03-20 22:08:00,168 : INFO : Found lower val loss for epoch 19 => 0.0047\n"
     ]
    },
    {
     "name": "stdout",
     "output_type": "stream",
     "text": [
      "120156/120156 [==============================] - 10s - loss: 0.0063 - val_loss: 0.0047\n",
      "Epoch 20/200\n",
      "    \n"
     ]
    },
    {
     "name": "stderr",
     "output_type": "stream",
     "text": [
      "2017-03-20 22:08:10,931 : INFO : Found lower val loss for epoch 20 => 0.00466\n"
     ]
    },
    {
     "name": "stdout",
     "output_type": "stream",
     "text": [
      "120156/120156 [==============================] - 10s - loss: 0.0063 - val_loss: 0.0047\n",
      "Epoch 21/200\n",
      "    \n"
     ]
    },
    {
     "name": "stderr",
     "output_type": "stream",
     "text": [
      "2017-03-20 22:08:21,703 : INFO : Found lower val loss for epoch 21 => 0.00462\n"
     ]
    },
    {
     "name": "stdout",
     "output_type": "stream",
     "text": [
      "120156/120156 [==============================] - 10s - loss: 0.0062 - val_loss: 0.0046\n",
      "Epoch 22/200\n",
      "    \n"
     ]
    },
    {
     "name": "stderr",
     "output_type": "stream",
     "text": [
      "2017-03-20 22:08:32,807 : INFO : Found lower val loss for epoch 22 => 0.00449\n"
     ]
    },
    {
     "name": "stdout",
     "output_type": "stream",
     "text": [
      "120156/120156 [==============================] - 11s - loss: 0.0062 - val_loss: 0.0045\n",
      "Epoch 23/200\n",
      "    \n"
     ]
    },
    {
     "name": "stderr",
     "output_type": "stream",
     "text": [
      "2017-03-20 22:08:43,454 : INFO : Found lower val loss for epoch 23 => 0.00447\n"
     ]
    },
    {
     "name": "stdout",
     "output_type": "stream",
     "text": [
      "120156/120156 [==============================] - 10s - loss: 0.0061 - val_loss: 0.0045\n",
      "Epoch 24/200\n",
      "120156/120156 [==============================] - 10s - loss: 0.0061 - val_loss: 0.0045\n",
      "Epoch 25/200\n",
      "    \n"
     ]
    },
    {
     "name": "stderr",
     "output_type": "stream",
     "text": [
      "2017-03-20 22:09:04,904 : INFO : Found lower val loss for epoch 25 => 0.00445\n"
     ]
    },
    {
     "name": "stdout",
     "output_type": "stream",
     "text": [
      "120156/120156 [==============================] - 11s - loss: 0.0060 - val_loss: 0.0044\n",
      "Epoch 26/200\n",
      "    \n"
     ]
    },
    {
     "name": "stderr",
     "output_type": "stream",
     "text": [
      "2017-03-20 22:09:15,674 : INFO : Found lower val loss for epoch 26 => 0.00443\n"
     ]
    },
    {
     "name": "stdout",
     "output_type": "stream",
     "text": [
      "120156/120156 [==============================] - 10s - loss: 0.0060 - val_loss: 0.0044\n",
      "Epoch 27/200\n",
      "120156/120156 [==============================] - 10s - loss: 0.0059 - val_loss: 0.0045\n",
      "Epoch 28/200\n",
      "    \n"
     ]
    },
    {
     "name": "stderr",
     "output_type": "stream",
     "text": [
      "2017-03-20 22:09:37,081 : INFO : Found lower val loss for epoch 28 => 0.00433\n"
     ]
    },
    {
     "name": "stdout",
     "output_type": "stream",
     "text": [
      "120156/120156 [==============================] - 11s - loss: 0.0059 - val_loss: 0.0043\n",
      "Epoch 29/200\n",
      "120156/120156 [==============================] - 10s - loss: 0.0059 - val_loss: 0.0044\n",
      "Epoch 30/200\n",
      "120156/120156 [==============================] - 10s - loss: 0.0058 - val_loss: 0.0044\n",
      "Epoch 31/200\n",
      "    \n"
     ]
    },
    {
     "name": "stderr",
     "output_type": "stream",
     "text": [
      "2017-03-20 22:10:09,802 : INFO : Found lower val loss for epoch 31 => 0.00423\n"
     ]
    },
    {
     "name": "stdout",
     "output_type": "stream",
     "text": [
      "120156/120156 [==============================] - 10s - loss: 0.0058 - val_loss: 0.0042\n",
      "Epoch 32/200\n",
      "120156/120156 [==============================] - 10s - loss: 0.0058 - val_loss: 0.0042\n",
      "Epoch 33/200\n",
      "120156/120156 [==============================] - 10s - loss: 0.0058 - val_loss: 0.0043\n",
      "Epoch 34/200\n",
      "    \n"
     ]
    },
    {
     "name": "stderr",
     "output_type": "stream",
     "text": [
      "2017-03-20 22:10:42,750 : INFO : Found lower val loss for epoch 34 => 0.00421\n"
     ]
    },
    {
     "name": "stdout",
     "output_type": "stream",
     "text": [
      "120156/120156 [==============================] - 11s - loss: 0.0057 - val_loss: 0.0042\n",
      "Epoch 35/200\n",
      "    \n"
     ]
    },
    {
     "name": "stderr",
     "output_type": "stream",
     "text": [
      "2017-03-20 22:10:53,562 : INFO : Found lower val loss for epoch 35 => 0.00416\n"
     ]
    },
    {
     "name": "stdout",
     "output_type": "stream",
     "text": [
      "120156/120156 [==============================] - 10s - loss: 0.0057 - val_loss: 0.0042\n",
      "Epoch 36/200\n",
      "120156/120156 [==============================] - 11s - loss: 0.0057 - val_loss: 0.0043\n",
      "Epoch 37/200\n",
      "    \n"
     ]
    },
    {
     "name": "stderr",
     "output_type": "stream",
     "text": [
      "2017-03-20 22:11:16,064 : INFO : Found lower val loss for epoch 37 => 0.00416\n"
     ]
    },
    {
     "name": "stdout",
     "output_type": "stream",
     "text": [
      "120156/120156 [==============================] - 11s - loss: 0.0056 - val_loss: 0.0042\n",
      "Epoch 38/200\n",
      "    \n"
     ]
    },
    {
     "name": "stderr",
     "output_type": "stream",
     "text": [
      "2017-03-20 22:11:26,758 : INFO : Found lower val loss for epoch 38 => 0.00413\n"
     ]
    },
    {
     "name": "stdout",
     "output_type": "stream",
     "text": [
      "120156/120156 [==============================] - 10s - loss: 0.0056 - val_loss: 0.0041\n",
      "Epoch 39/200\n",
      "120156/120156 [==============================] - 10s - loss: 0.0056 - val_loss: 0.0042\n",
      "Epoch 40/200\n",
      "120156/120156 [==============================] - 10s - loss: 0.0056 - val_loss: 0.0042\n",
      "Epoch 41/200\n",
      "    \n"
     ]
    },
    {
     "name": "stderr",
     "output_type": "stream",
     "text": [
      "2017-03-20 22:11:58,770 : INFO : Found lower val loss for epoch 41 => 0.00412\n"
     ]
    },
    {
     "name": "stdout",
     "output_type": "stream",
     "text": [
      "120156/120156 [==============================] - 10s - loss: 0.0056 - val_loss: 0.0041\n",
      "Epoch 42/200\n",
      "    \n"
     ]
    },
    {
     "name": "stderr",
     "output_type": "stream",
     "text": [
      "2017-03-20 22:12:10,828 : INFO : Found lower val loss for epoch 42 => 0.00405\n"
     ]
    },
    {
     "name": "stdout",
     "output_type": "stream",
     "text": [
      "120156/120156 [==============================] - 12s - loss: 0.0055 - val_loss: 0.0041\n",
      "Epoch 43/200\n",
      "120156/120156 [==============================] - 14s - loss: 0.0055 - val_loss: 0.0042\n",
      "Epoch 44/200\n",
      "120156/120156 [==============================] - 15s - loss: 0.0055 - val_loss: 0.0042\n",
      "Epoch 45/200\n",
      "120156/120156 [==============================] - 14s - loss: 0.0055 - val_loss: 0.0041\n",
      "Epoch 46/200\n",
      "120156/120156 [==============================] - 15s - loss: 0.0055 - val_loss: 0.0041\n",
      "Epoch 47/200\n",
      "120156/120156 [==============================] - 15s - loss: 0.0055 - val_loss: 0.0041\n",
      "Epoch 48/200\n",
      "    \n"
     ]
    },
    {
     "name": "stderr",
     "output_type": "stream",
     "text": [
      "2017-03-20 22:13:42,799 : INFO : Found lower val loss for epoch 48 => 0.00403\n"
     ]
    },
    {
     "name": "stdout",
     "output_type": "stream",
     "text": [
      "120156/120156 [==============================] - 16s - loss: 0.0054 - val_loss: 0.0040\n",
      "Epoch 49/200\n",
      "120156/120156 [==============================] - 15s - loss: 0.0054 - val_loss: 0.0041\n",
      "Epoch 50/200\n",
      "120156/120156 [==============================] - 10s - loss: 0.0054 - val_loss: 0.0041\n",
      "Epoch 51/200\n",
      "120156/120156 [==============================] - 10s - loss: 0.0054 - val_loss: 0.0040\n",
      "Epoch 52/200\n",
      "120156/120156 [==============================] - 10s - loss: 0.0054 - val_loss: 0.0041\n",
      "Epoch 53/200\n",
      "120156/120156 [==============================] - 10s - loss: 0.0054 - val_loss: 0.0041\n",
      "Epoch 54/200\n",
      "    \n"
     ]
    },
    {
     "name": "stderr",
     "output_type": "stream",
     "text": [
      "2017-03-20 22:14:50,978 : INFO : Found lower val loss for epoch 54 => 0.00397\n"
     ]
    },
    {
     "name": "stdout",
     "output_type": "stream",
     "text": [
      "120156/120156 [==============================] - 10s - loss: 0.0054 - val_loss: 0.0040\n",
      "Epoch 55/200\n",
      "120156/120156 [==============================] - 10s - loss: 0.0054 - val_loss: 0.0040\n",
      "Epoch 56/200\n",
      "120156/120156 [==============================] - 10s - loss: 0.0054 - val_loss: 0.0040\n",
      "Epoch 57/200\n",
      "120156/120156 [==============================] - 10s - loss: 0.0053 - val_loss: 0.0041\n",
      "Epoch 58/200\n",
      "    \n"
     ]
    },
    {
     "name": "stderr",
     "output_type": "stream",
     "text": [
      "2017-03-20 22:15:34,341 : INFO : Found lower val loss for epoch 58 => 0.00393\n"
     ]
    },
    {
     "name": "stdout",
     "output_type": "stream",
     "text": [
      "120156/120156 [==============================] - 10s - loss: 0.0053 - val_loss: 0.0039\n",
      "Epoch 59/200\n",
      "120156/120156 [==============================] - 11s - loss: 0.0053 - val_loss: 0.0040\n",
      "Epoch 60/200\n",
      "    \n"
     ]
    },
    {
     "name": "stderr",
     "output_type": "stream",
     "text": [
      "2017-03-20 22:15:56,289 : INFO : Found lower val loss for epoch 60 => 0.00392\n"
     ]
    },
    {
     "name": "stdout",
     "output_type": "stream",
     "text": [
      "120156/120156 [==============================] - 10s - loss: 0.0053 - val_loss: 0.0039\n",
      "Epoch 61/200\n",
      "120156/120156 [==============================] - 10s - loss: 0.0053 - val_loss: 0.0040\n",
      "Epoch 62/200\n",
      "120156/120156 [==============================] - 13s - loss: 0.0053 - val_loss: 0.0040\n",
      "Epoch 63/200\n",
      "120156/120156 [==============================] - 10s - loss: 0.0053 - val_loss: 0.0039\n",
      "Epoch 64/200\n",
      "120156/120156 [==============================] - 10s - loss: 0.0053 - val_loss: 0.0039\n",
      "Epoch 65/200\n",
      "120156/120156 [==============================] - 11s - loss: 0.0053 - val_loss: 0.0040\n",
      "Epoch 66/200\n",
      "120156/120156 [==============================] - 11s - loss: 0.0052 - val_loss: 0.0040\n",
      "Epoch 67/200\n",
      "120156/120156 [==============================] - 10s - loss: 0.0052 - val_loss: 0.0039\n",
      "Epoch 68/200\n",
      "    \n"
     ]
    },
    {
     "name": "stderr",
     "output_type": "stream",
     "text": [
      "2017-03-20 22:17:26,203 : INFO : Found lower val loss for epoch 68 => 0.0039\n"
     ]
    },
    {
     "name": "stdout",
     "output_type": "stream",
     "text": [
      "120156/120156 [==============================] - 11s - loss: 0.0052 - val_loss: 0.0039\n",
      "Epoch 69/200\n",
      "    \n"
     ]
    },
    {
     "name": "stderr",
     "output_type": "stream",
     "text": [
      "2017-03-20 22:17:37,275 : INFO : Found lower val loss for epoch 69 => 0.00386\n"
     ]
    },
    {
     "name": "stdout",
     "output_type": "stream",
     "text": [
      "120156/120156 [==============================] - 11s - loss: 0.0052 - val_loss: 0.0039\n",
      "Epoch 70/200\n",
      "120156/120156 [==============================] - 11s - loss: 0.0052 - val_loss: 0.0039\n",
      "Epoch 71/200\n",
      "120156/120156 [==============================] - 11s - loss: 0.0052 - val_loss: 0.0039\n",
      "Epoch 72/200\n",
      "120156/120156 [==============================] - 11s - loss: 0.0052 - val_loss: 0.0039\n",
      "Epoch 73/200\n",
      "120156/120156 [==============================] - 10s - loss: 0.0052 - val_loss: 0.0039\n",
      "Epoch 74/200\n",
      "120156/120156 [==============================] - 10s - loss: 0.0052 - val_loss: 0.0039\n",
      "Epoch 75/200\n",
      "120156/120156 [==============================] - 10s - loss: 0.0052 - val_loss: 0.0039\n",
      "Epoch 76/200\n",
      "    \n"
     ]
    },
    {
     "name": "stderr",
     "output_type": "stream",
     "text": [
      "2017-03-20 22:18:53,841 : INFO : Found lower val loss for epoch 76 => 0.00386\n"
     ]
    },
    {
     "name": "stdout",
     "output_type": "stream",
     "text": [
      "120156/120156 [==============================] - 10s - loss: 0.0052 - val_loss: 0.0039\n",
      "Epoch 77/200\n",
      "    \n"
     ]
    },
    {
     "name": "stderr",
     "output_type": "stream",
     "text": [
      "2017-03-20 22:19:05,184 : INFO : Found lower val loss for epoch 77 => 0.00385\n"
     ]
    },
    {
     "name": "stdout",
     "output_type": "stream",
     "text": [
      "120156/120156 [==============================] - 11s - loss: 0.0052 - val_loss: 0.0038\n",
      "Epoch 78/200\n",
      "120156/120156 [==============================] - 10s - loss: 0.0052 - val_loss: 0.0039\n",
      "Epoch 79/200\n",
      "120156/120156 [==============================] - 11s - loss: 0.0052 - val_loss: 0.0039\n",
      "Epoch 80/200\n",
      "120156/120156 [==============================] - 10s - loss: 0.0052 - val_loss: 0.0039\n",
      "Epoch 81/200\n",
      "120156/120156 [==============================] - 10s - loss: 0.0051 - val_loss: 0.0039\n",
      "Epoch 82/200\n",
      "120156/120156 [==============================] - 10s - loss: 0.0051 - val_loss: 0.0039\n",
      "Epoch 83/200\n",
      "120156/120156 [==============================] - 10s - loss: 0.0051 - val_loss: 0.0039\n",
      "Epoch 84/200\n",
      "120156/120156 [==============================] - 10s - loss: 0.0051 - val_loss: 0.0040\n",
      "Epoch 85/200\n",
      "120156/120156 [==============================] - 10s - loss: 0.0051 - val_loss: 0.0039\n",
      "Epoch 86/200\n",
      "120156/120156 [==============================] - 10s - loss: 0.0051 - val_loss: 0.0039\n",
      "Epoch 87/200\n",
      "    \n"
     ]
    },
    {
     "name": "stderr",
     "output_type": "stream",
     "text": [
      "2017-03-20 22:20:51,998 : INFO : Found lower val loss for epoch 87 => 0.00384\n"
     ]
    },
    {
     "name": "stdout",
     "output_type": "stream",
     "text": [
      "120156/120156 [==============================] - 10s - loss: 0.0051 - val_loss: 0.0038\n",
      "Epoch 88/200\n",
      "120156/120156 [==============================] - 10s - loss: 0.0051 - val_loss: 0.0038"
     ]
    },
    {
     "name": "stderr",
     "output_type": "stream",
     "text": [
      "2017-03-20 22:21:02,450 : INFO : Evaluating on Training Data\n"
     ]
    },
    {
     "name": "stdout",
     "output_type": "stream",
     "text": [
      "\n",
      "Epoch 00087: early stopping\n",
      "CPU times: user 6min 8s, sys: 10min 24s, total: 16min 33s\n",
      "Wall time: 16min 55s\n"
     ]
    },
    {
     "name": "stderr",
     "output_type": "stream",
     "text": [
      "2017-03-20 22:21:47,717 : INFO : Generating Training Metrics\n",
      "2017-03-20 22:22:33,018 : INFO : Evaluating on Validation Data using saved best weights\n"
     ]
    },
    {
     "name": "stdout",
     "output_type": "stream",
     "text": [
      "****** Training Metrics: Cov Err: 8.460 | Top 3: 0.683 | Top 5: 0.772 | F1 Micro: 0.493 | F1 Macro: 0.099\n"
     ]
    },
    {
     "name": "stderr",
     "output_type": "stream",
     "text": [
      "2017-03-20 22:22:43,129 : INFO : Generating Validation Metrics\n"
     ]
    },
    {
     "name": "stdout",
     "output_type": "stream",
     "text": [
      "****** Validation Metrics: Cov Err: 10.248 | Top 3: 0.693 | Top 5: 0.778 | F1 Micro: 0.504 | F1 Macro: 0.086\n"
     ]
    },
    {
     "name": "stderr",
     "output_type": "stream",
     "text": [
      "2017-03-20 22:22:53,774 : INFO : ***************************************************************************************\n",
      "2017-03-20 22:22:53,776 : INFO : lstm_optimizer_rmsprop_size_300_w-drop_0.4_u-drop_0.6_stack_1_conv_None\n"
     ]
    },
    {
     "name": "stdout",
     "output_type": "stream",
     "text": [
      "____________________________________________________________________________________________________\n",
      "Layer (type)                     Output Shape          Param #     Connected to                     \n",
      "====================================================================================================\n",
      "lstm_300_u-drop_0.6_w-drop_0.4_l (None, 300)           601200      lstm_input_15[0][0]              \n",
      "____________________________________________________________________________________________________\n",
      "sigmoid_output (Dense)           (None, 940)           282940      lstm_300_u-drop_0.6_w-drop_0.4_la\n",
      "====================================================================================================\n",
      "Total params: 884140\n",
      "____________________________________________________________________________________________________\n",
      "Train on 120156 samples, validate on 29675 samples\n",
      "Epoch 1/200\n",
      "    \n"
     ]
    },
    {
     "name": "stderr",
     "output_type": "stream",
     "text": [
      "2017-03-20 22:23:17,889 : INFO : Found lower val loss for epoch 1 => 0.0085\n"
     ]
    },
    {
     "name": "stdout",
     "output_type": "stream",
     "text": [
      "120156/120156 [==============================] - 6s - loss: 0.0616 - val_loss: 0.0085\n",
      "Epoch 2/200\n",
      "    \n"
     ]
    },
    {
     "name": "stderr",
     "output_type": "stream",
     "text": [
      "2017-03-20 22:23:23,811 : INFO : Found lower val loss for epoch 2 => 0.00828\n"
     ]
    },
    {
     "name": "stdout",
     "output_type": "stream",
     "text": [
      "120156/120156 [==============================] - 5s - loss: 0.0102 - val_loss: 0.0083\n",
      "Epoch 3/200\n",
      "    \n"
     ]
    },
    {
     "name": "stderr",
     "output_type": "stream",
     "text": [
      "2017-03-20 22:23:29,661 : INFO : Found lower val loss for epoch 3 => 0.00725\n"
     ]
    },
    {
     "name": "stdout",
     "output_type": "stream",
     "text": [
      "120156/120156 [==============================] - 5s - loss: 0.0096 - val_loss: 0.0072\n",
      "Epoch 4/200\n",
      "    \n"
     ]
    },
    {
     "name": "stderr",
     "output_type": "stream",
     "text": [
      "2017-03-20 22:23:35,535 : INFO : Found lower val loss for epoch 4 => 0.00652\n"
     ]
    },
    {
     "name": "stdout",
     "output_type": "stream",
     "text": [
      "120156/120156 [==============================] - 5s - loss: 0.0086 - val_loss: 0.0065\n",
      "Epoch 5/200\n",
      "    \n"
     ]
    },
    {
     "name": "stderr",
     "output_type": "stream",
     "text": [
      "2017-03-20 22:23:41,307 : INFO : Found lower val loss for epoch 5 => 0.00579\n"
     ]
    },
    {
     "name": "stdout",
     "output_type": "stream",
     "text": [
      "120156/120156 [==============================] - 5s - loss: 0.0078 - val_loss: 0.0058\n",
      "Epoch 6/200\n",
      "    \n"
     ]
    },
    {
     "name": "stderr",
     "output_type": "stream",
     "text": [
      "2017-03-20 22:23:47,145 : INFO : Found lower val loss for epoch 6 => 0.00548\n"
     ]
    },
    {
     "name": "stdout",
     "output_type": "stream",
     "text": [
      "120156/120156 [==============================] - 5s - loss: 0.0073 - val_loss: 0.0055\n",
      "Epoch 7/200\n",
      "    \n"
     ]
    },
    {
     "name": "stderr",
     "output_type": "stream",
     "text": [
      "2017-03-20 22:23:52,876 : INFO : Found lower val loss for epoch 7 => 0.00522\n"
     ]
    },
    {
     "name": "stdout",
     "output_type": "stream",
     "text": [
      "120156/120156 [==============================] - 5s - loss: 0.0070 - val_loss: 0.0052\n",
      "Epoch 8/200\n",
      "    \n"
     ]
    },
    {
     "name": "stderr",
     "output_type": "stream",
     "text": [
      "2017-03-20 22:23:58,648 : INFO : Found lower val loss for epoch 8 => 0.00512\n"
     ]
    },
    {
     "name": "stdout",
     "output_type": "stream",
     "text": [
      "120156/120156 [==============================] - 5s - loss: 0.0067 - val_loss: 0.0051\n",
      "Epoch 9/200\n",
      "    \n"
     ]
    },
    {
     "name": "stderr",
     "output_type": "stream",
     "text": [
      "2017-03-20 22:24:04,576 : INFO : Found lower val loss for epoch 9 => 0.00492\n"
     ]
    },
    {
     "name": "stdout",
     "output_type": "stream",
     "text": [
      "120156/120156 [==============================] - 5s - loss: 0.0065 - val_loss: 0.0049\n",
      "Epoch 10/200\n",
      "    \n"
     ]
    },
    {
     "name": "stderr",
     "output_type": "stream",
     "text": [
      "2017-03-20 22:24:10,333 : INFO : Found lower val loss for epoch 10 => 0.00485\n"
     ]
    },
    {
     "name": "stdout",
     "output_type": "stream",
     "text": [
      "120156/120156 [==============================] - 5s - loss: 0.0064 - val_loss: 0.0048\n",
      "Epoch 11/200\n",
      "    \n"
     ]
    },
    {
     "name": "stderr",
     "output_type": "stream",
     "text": [
      "2017-03-20 22:24:16,265 : INFO : Found lower val loss for epoch 11 => 0.0048\n"
     ]
    },
    {
     "name": "stdout",
     "output_type": "stream",
     "text": [
      "120156/120156 [==============================] - 5s - loss: 0.0062 - val_loss: 0.0048\n",
      "Epoch 12/200\n",
      "120156/120156 [==============================] - 5s - loss: 0.0061 - val_loss: 0.0048\n",
      "Epoch 13/200\n",
      "    \n"
     ]
    },
    {
     "name": "stderr",
     "output_type": "stream",
     "text": [
      "2017-03-20 22:24:28,141 : INFO : Found lower val loss for epoch 13 => 0.00479\n"
     ]
    },
    {
     "name": "stdout",
     "output_type": "stream",
     "text": [
      "120156/120156 [==============================] - 5s - loss: 0.0060 - val_loss: 0.0048\n",
      "Epoch 14/200\n",
      "    \n"
     ]
    },
    {
     "name": "stderr",
     "output_type": "stream",
     "text": [
      "2017-03-20 22:24:34,152 : INFO : Found lower val loss for epoch 14 => 0.00471\n"
     ]
    },
    {
     "name": "stdout",
     "output_type": "stream",
     "text": [
      "120156/120156 [==============================] - 6s - loss: 0.0059 - val_loss: 0.0047\n",
      "Epoch 15/200\n",
      "120156/120156 [==============================] - 5s - loss: 0.0059 - val_loss: 0.0048\n",
      "Epoch 16/200\n",
      "    \n"
     ]
    },
    {
     "name": "stderr",
     "output_type": "stream",
     "text": [
      "2017-03-20 22:24:45,849 : INFO : Found lower val loss for epoch 16 => 0.0044\n"
     ]
    },
    {
     "name": "stdout",
     "output_type": "stream",
     "text": [
      "120156/120156 [==============================] - 5s - loss: 0.0058 - val_loss: 0.0044\n",
      "Epoch 17/200\n",
      "    \n"
     ]
    },
    {
     "name": "stderr",
     "output_type": "stream",
     "text": [
      "2017-03-20 22:24:51,775 : INFO : Found lower val loss for epoch 17 => 0.00428\n"
     ]
    },
    {
     "name": "stdout",
     "output_type": "stream",
     "text": [
      "120156/120156 [==============================] - 5s - loss: 0.0057 - val_loss: 0.0043\n",
      "Epoch 18/200\n",
      "120156/120156 [==============================] - 5s - loss: 0.0057 - val_loss: 0.0046\n",
      "Epoch 19/200\n",
      "120156/120156 [==============================] - 5s - loss: 0.0056 - val_loss: 0.0044\n",
      "Epoch 20/200\n",
      "120156/120156 [==============================] - 5s - loss: 0.0056 - val_loss: 0.0044\n",
      "Epoch 21/200\n",
      "120156/120156 [==============================] - 5s - loss: 0.0055 - val_loss: 0.0043\n",
      "Epoch 22/200\n",
      "    \n"
     ]
    },
    {
     "name": "stderr",
     "output_type": "stream",
     "text": [
      "2017-03-20 22:25:20,239 : INFO : Found lower val loss for epoch 22 => 0.00426\n"
     ]
    },
    {
     "name": "stdout",
     "output_type": "stream",
     "text": [
      "120156/120156 [==============================] - 5s - loss: 0.0055 - val_loss: 0.0043\n",
      "Epoch 23/200\n",
      "120156/120156 [==============================] - 5s - loss: 0.0055 - val_loss: 0.0045\n",
      "Epoch 24/200\n",
      "120156/120156 [==============================] - 5s - loss: 0.0054 - val_loss: 0.0044\n",
      "Epoch 25/200\n",
      "120156/120156 [==============================] - 5s - loss: 0.0054 - val_loss: 0.0043\n",
      "Epoch 26/200\n",
      "120156/120156 [==============================] - 5s - loss: 0.0054 - val_loss: 0.0044\n",
      "Epoch 27/200\n",
      "    \n"
     ]
    },
    {
     "name": "stderr",
     "output_type": "stream",
     "text": [
      "2017-03-20 22:25:48,563 : INFO : Found lower val loss for epoch 27 => 0.00423\n"
     ]
    },
    {
     "name": "stdout",
     "output_type": "stream",
     "text": [
      "120156/120156 [==============================] - 5s - loss: 0.0053 - val_loss: 0.0042\n",
      "Epoch 28/200\n",
      "120156/120156 [==============================] - 5s - loss: 0.0053 - val_loss: 0.0043\n",
      "Epoch 29/200\n",
      "    \n"
     ]
    },
    {
     "name": "stderr",
     "output_type": "stream",
     "text": [
      "2017-03-20 22:25:59,814 : INFO : Found lower val loss for epoch 29 => 0.00416\n"
     ]
    },
    {
     "name": "stdout",
     "output_type": "stream",
     "text": [
      "120156/120156 [==============================] - 5s - loss: 0.0053 - val_loss: 0.0042\n",
      "Epoch 30/200\n",
      "120156/120156 [==============================] - 5s - loss: 0.0052 - val_loss: 0.0042\n",
      "Epoch 31/200\n",
      "120156/120156 [==============================] - 5s - loss: 0.0052 - val_loss: 0.0044\n",
      "Epoch 32/200\n",
      "120156/120156 [==============================] - 5s - loss: 0.0052 - val_loss: 0.0042\n",
      "Epoch 33/200\n",
      "120156/120156 [==============================] - 5s - loss: 0.0052 - val_loss: 0.0043\n",
      "Epoch 34/200\n",
      "120156/120156 [==============================] - 5s - loss: 0.0051 - val_loss: 0.0043\n",
      "Epoch 35/200\n",
      "120156/120156 [==============================] - 5s - loss: 0.0051 - val_loss: 0.0042\n",
      "Epoch 36/200\n",
      "    \n"
     ]
    },
    {
     "name": "stderr",
     "output_type": "stream",
     "text": [
      "2017-03-20 22:26:38,606 : INFO : Found lower val loss for epoch 36 => 0.00414\n"
     ]
    },
    {
     "name": "stdout",
     "output_type": "stream",
     "text": [
      "120156/120156 [==============================] - 5s - loss: 0.0051 - val_loss: 0.0041\n",
      "Epoch 37/200\n",
      "    \n"
     ]
    },
    {
     "name": "stderr",
     "output_type": "stream",
     "text": [
      "2017-03-20 22:26:44,367 : INFO : Found lower val loss for epoch 37 => 0.00402\n"
     ]
    },
    {
     "name": "stdout",
     "output_type": "stream",
     "text": [
      "120156/120156 [==============================] - 5s - loss: 0.0051 - val_loss: 0.0040\n",
      "Epoch 38/200\n",
      "120156/120156 [==============================] - 5s - loss: 0.0051 - val_loss: 0.0043\n",
      "Epoch 39/200\n",
      "120156/120156 [==============================] - 5s - loss: 0.0050 - val_loss: 0.0041\n",
      "Epoch 40/200\n",
      "120156/120156 [==============================] - 5s - loss: 0.0050 - val_loss: 0.0041\n",
      "Epoch 41/200\n",
      "120156/120156 [==============================] - 5s - loss: 0.0050 - val_loss: 0.0043\n",
      "Epoch 42/200\n",
      "120156/120156 [==============================] - 5s - loss: 0.0050 - val_loss: 0.0042\n",
      "Epoch 43/200\n",
      "120156/120156 [==============================] - 5s - loss: 0.0050 - val_loss: 0.0041\n",
      "Epoch 44/200\n",
      "120156/120156 [==============================] - 5s - loss: 0.0050 - val_loss: 0.0041\n",
      "Epoch 45/200\n",
      "    \n"
     ]
    },
    {
     "name": "stderr",
     "output_type": "stream",
     "text": [
      "2017-03-20 22:27:28,173 : INFO : Found lower val loss for epoch 45 => 0.004\n"
     ]
    },
    {
     "name": "stdout",
     "output_type": "stream",
     "text": [
      "120156/120156 [==============================] - 5s - loss: 0.0049 - val_loss: 0.0040\n",
      "Epoch 46/200\n",
      "120156/120156 [==============================] - 5s - loss: 0.0049 - val_loss: 0.0040\n",
      "Epoch 47/200\n",
      "120156/120156 [==============================] - 5s - loss: 0.0049 - val_loss: 0.0041\n",
      "Epoch 48/200\n",
      "120156/120156 [==============================] - 5s - loss: 0.0049 - val_loss: 0.0042\n",
      "Epoch 49/200\n",
      "120156/120156 [==============================] - 5s - loss: 0.0049 - val_loss: 0.0040\n",
      "Epoch 50/200\n",
      "    \n"
     ]
    },
    {
     "name": "stderr",
     "output_type": "stream",
     "text": [
      "2017-03-20 22:27:55,759 : INFO : Found lower val loss for epoch 50 => 0.00395\n"
     ]
    },
    {
     "name": "stdout",
     "output_type": "stream",
     "text": [
      "120156/120156 [==============================] - 5s - loss: 0.0049 - val_loss: 0.0040\n",
      "Epoch 51/200\n",
      "120156/120156 [==============================] - 5s - loss: 0.0049 - val_loss: 0.0040\n",
      "Epoch 52/200\n",
      "120156/120156 [==============================] - 5s - loss: 0.0049 - val_loss: 0.0041\n",
      "Epoch 53/200\n",
      "120156/120156 [==============================] - 5s - loss: 0.0048 - val_loss: 0.0040\n",
      "Epoch 54/200\n",
      "120156/120156 [==============================] - 5s - loss: 0.0048 - val_loss: 0.0041\n",
      "Epoch 55/200\n",
      "    \n"
     ]
    },
    {
     "name": "stderr",
     "output_type": "stream",
     "text": [
      "2017-03-20 22:28:22,983 : INFO : Found lower val loss for epoch 55 => 0.00389\n"
     ]
    },
    {
     "name": "stdout",
     "output_type": "stream",
     "text": [
      "120156/120156 [==============================] - 5s - loss: 0.0048 - val_loss: 0.0039\n",
      "Epoch 56/200\n",
      "120156/120156 [==============================] - 5s - loss: 0.0048 - val_loss: 0.0039\n",
      "Epoch 57/200\n",
      "120156/120156 [==============================] - 5s - loss: 0.0048 - val_loss: 0.0040\n",
      "Epoch 58/200\n",
      "120156/120156 [==============================] - 5s - loss: 0.0048 - val_loss: 0.0040\n",
      "Epoch 59/200\n",
      "120156/120156 [==============================] - 5s - loss: 0.0048 - val_loss: 0.0040\n",
      "Epoch 60/200\n",
      "120156/120156 [==============================] - 5s - loss: 0.0048 - val_loss: 0.0040\n",
      "Epoch 61/200\n",
      "120156/120156 [==============================] - 5s - loss: 0.0048 - val_loss: 0.0040\n",
      "Epoch 62/200\n",
      "120156/120156 [==============================] - 5s - loss: 0.0048 - val_loss: 0.0040\n",
      "Epoch 63/200\n",
      "120156/120156 [==============================] - 5s - loss: 0.0047 - val_loss: 0.0041\n",
      "Epoch 64/200\n",
      "120156/120156 [==============================] - 5s - loss: 0.0047 - val_loss: 0.0041\n",
      "Epoch 65/200\n",
      "120156/120156 [==============================] - 5s - loss: 0.0047 - val_loss: 0.0039\n",
      "Epoch 66/200\n",
      "120156/120156 [==============================] - 5s - loss: 0.0047 - val_loss: 0.0040"
     ]
    },
    {
     "name": "stderr",
     "output_type": "stream",
     "text": [
      "2017-03-20 22:29:22,177 : INFO : Evaluating on Training Data\n"
     ]
    },
    {
     "name": "stdout",
     "output_type": "stream",
     "text": [
      "\n",
      "Epoch 00065: early stopping\n",
      "CPU times: user 2min 35s, sys: 3min 53s, total: 6min 29s\n",
      "Wall time: 6min 27s\n"
     ]
    },
    {
     "name": "stderr",
     "output_type": "stream",
     "text": [
      "2017-03-20 22:29:56,975 : INFO : Generating Training Metrics\n",
      "2017-03-20 22:30:42,609 : INFO : Evaluating on Validation Data using saved best weights\n"
     ]
    },
    {
     "name": "stdout",
     "output_type": "stream",
     "text": [
      "****** Training Metrics: Cov Err: 7.873 | Top 3: 0.705 | Top 5: 0.790 | F1 Micro: 0.517 | F1 Macro: 0.173\n"
     ]
    },
    {
     "name": "stderr",
     "output_type": "stream",
     "text": [
      "2017-03-20 22:30:50,467 : INFO : Generating Validation Metrics\n"
     ]
    },
    {
     "name": "stdout",
     "output_type": "stream",
     "text": [
      "****** Validation Metrics: Cov Err: 10.744 | Top 3: 0.693 | Top 5: 0.781 | F1 Micro: 0.489 | F1 Macro: 0.102\n"
     ]
    },
    {
     "name": "stderr",
     "output_type": "stream",
     "text": [
      "2017-03-20 22:31:01,202 : INFO : ***************************************************************************************\n",
      "2017-03-20 22:31:01,204 : INFO : lstm_optimizer_rmsprop_size_500_w-drop_0.4_u-drop_0.4_stack_2_conv_None\n"
     ]
    },
    {
     "name": "stdout",
     "output_type": "stream",
     "text": [
      "____________________________________________________________________________________________________\n",
      "Layer (type)                     Output Shape          Param #     Connected to                     \n",
      "====================================================================================================\n",
      "lstm_500_u-drop_0.4_w-drop_0.4_l (None, None, 500)     1402000     lstm_input_16[0][0]              \n",
      "____________________________________________________________________________________________________\n",
      "lstm_500_u-drop_0.4_w-drop_0.4_l (None, 500)           2002000     lstm_500_u-drop_0.4_w-drop_0.4_la\n",
      "____________________________________________________________________________________________________\n",
      "sigmoid_output (Dense)           (None, 940)           470940      lstm_500_u-drop_0.4_w-drop_0.4_la\n",
      "====================================================================================================\n",
      "Total params: 3874940\n",
      "____________________________________________________________________________________________________\n",
      "Train on 120156 samples, validate on 29675 samples\n",
      "Epoch 1/200\n",
      "    \n"
     ]
    },
    {
     "name": "stderr",
     "output_type": "stream",
     "text": [
      "2017-03-20 22:31:49,024 : INFO : Found lower val loss for epoch 1 => 0.0084\n"
     ]
    },
    {
     "name": "stdout",
     "output_type": "stream",
     "text": [
      "120156/120156 [==============================] - 12s - loss: 0.0438 - val_loss: 0.0084\n",
      "Epoch 2/200\n",
      "    \n"
     ]
    },
    {
     "name": "stderr",
     "output_type": "stream",
     "text": [
      "2017-03-20 22:32:00,973 : INFO : Found lower val loss for epoch 2 => 0.0078\n"
     ]
    },
    {
     "name": "stdout",
     "output_type": "stream",
     "text": [
      "120156/120156 [==============================] - 11s - loss: 0.0101 - val_loss: 0.0078\n",
      "Epoch 3/200\n",
      "    \n"
     ]
    },
    {
     "name": "stderr",
     "output_type": "stream",
     "text": [
      "2017-03-20 22:32:12,880 : INFO : Found lower val loss for epoch 3 => 0.00663\n"
     ]
    },
    {
     "name": "stdout",
     "output_type": "stream",
     "text": [
      "120156/120156 [==============================] - 11s - loss: 0.0089 - val_loss: 0.0066\n",
      "Epoch 4/200\n",
      "    \n"
     ]
    },
    {
     "name": "stderr",
     "output_type": "stream",
     "text": [
      "2017-03-20 22:32:24,725 : INFO : Found lower val loss for epoch 4 => 0.00588\n"
     ]
    },
    {
     "name": "stdout",
     "output_type": "stream",
     "text": [
      "120156/120156 [==============================] - 11s - loss: 0.0078 - val_loss: 0.0059\n",
      "Epoch 5/200\n",
      "    \n"
     ]
    },
    {
     "name": "stderr",
     "output_type": "stream",
     "text": [
      "2017-03-20 22:32:36,917 : INFO : Found lower val loss for epoch 5 => 0.00535\n"
     ]
    },
    {
     "name": "stdout",
     "output_type": "stream",
     "text": [
      "120156/120156 [==============================] - 12s - loss: 0.0072 - val_loss: 0.0054\n",
      "Epoch 6/200\n",
      "    \n"
     ]
    },
    {
     "name": "stderr",
     "output_type": "stream",
     "text": [
      "2017-03-20 22:32:48,908 : INFO : Found lower val loss for epoch 6 => 0.00498\n"
     ]
    },
    {
     "name": "stdout",
     "output_type": "stream",
     "text": [
      "120156/120156 [==============================] - 11s - loss: 0.0068 - val_loss: 0.0050\n",
      "Epoch 7/200\n",
      "    \n"
     ]
    },
    {
     "name": "stderr",
     "output_type": "stream",
     "text": [
      "2017-03-20 22:33:01,772 : INFO : Found lower val loss for epoch 7 => 0.00471\n"
     ]
    },
    {
     "name": "stdout",
     "output_type": "stream",
     "text": [
      "120156/120156 [==============================] - 12s - loss: 0.0065 - val_loss: 0.0047\n",
      "Epoch 8/200\n",
      "    \n"
     ]
    },
    {
     "name": "stderr",
     "output_type": "stream",
     "text": [
      "2017-03-20 22:33:16,414 : INFO : Found lower val loss for epoch 8 => 0.00466\n"
     ]
    },
    {
     "name": "stdout",
     "output_type": "stream",
     "text": [
      "120156/120156 [==============================] - 14s - loss: 0.0063 - val_loss: 0.0047\n",
      "Epoch 9/200\n",
      "    \n"
     ]
    },
    {
     "name": "stderr",
     "output_type": "stream",
     "text": [
      "2017-03-20 22:33:30,805 : INFO : Found lower val loss for epoch 9 => 0.00458\n"
     ]
    },
    {
     "name": "stdout",
     "output_type": "stream",
     "text": [
      "120156/120156 [==============================] - 14s - loss: 0.0061 - val_loss: 0.0046\n",
      "Epoch 10/200\n",
      "    \n"
     ]
    },
    {
     "name": "stderr",
     "output_type": "stream",
     "text": [
      "2017-03-20 22:33:46,029 : INFO : Found lower val loss for epoch 10 => 0.00436\n"
     ]
    },
    {
     "name": "stdout",
     "output_type": "stream",
     "text": [
      "120156/120156 [==============================] - 15s - loss: 0.0060 - val_loss: 0.0044\n",
      "Epoch 11/200\n",
      "    \n"
     ]
    },
    {
     "name": "stderr",
     "output_type": "stream",
     "text": [
      "2017-03-20 22:34:00,973 : INFO : Found lower val loss for epoch 11 => 0.00427\n"
     ]
    },
    {
     "name": "stdout",
     "output_type": "stream",
     "text": [
      "120156/120156 [==============================] - 14s - loss: 0.0058 - val_loss: 0.0043\n",
      "Epoch 12/200\n",
      "120156/120156 [==============================] - 15s - loss: 0.0057 - val_loss: 0.0043\n",
      "Epoch 13/200\n",
      "    \n"
     ]
    },
    {
     "name": "stderr",
     "output_type": "stream",
     "text": [
      "2017-03-20 22:34:30,894 : INFO : Found lower val loss for epoch 13 => 0.0042\n"
     ]
    },
    {
     "name": "stdout",
     "output_type": "stream",
     "text": [
      "120156/120156 [==============================] - 14s - loss: 0.0056 - val_loss: 0.0042\n",
      "Epoch 14/200\n",
      "120156/120156 [==============================] - 14s - loss: 0.0056 - val_loss: 0.0043\n",
      "Epoch 15/200\n",
      "120156/120156 [==============================] - 13s - loss: 0.0055 - val_loss: 0.0043\n",
      "Epoch 16/200\n",
      "120156/120156 [==============================] - 14s - loss: 0.0054 - val_loss: 0.0043\n",
      "Epoch 17/200\n",
      "    \n"
     ]
    },
    {
     "name": "stderr",
     "output_type": "stream",
     "text": [
      "2017-03-20 22:35:27,194 : INFO : Found lower val loss for epoch 17 => 0.00407\n"
     ]
    },
    {
     "name": "stdout",
     "output_type": "stream",
     "text": [
      "120156/120156 [==============================] - 14s - loss: 0.0054 - val_loss: 0.0041\n",
      "Epoch 18/200\n",
      "    \n"
     ]
    },
    {
     "name": "stderr",
     "output_type": "stream",
     "text": [
      "2017-03-20 22:35:41,844 : INFO : Found lower val loss for epoch 18 => 0.00398\n"
     ]
    },
    {
     "name": "stdout",
     "output_type": "stream",
     "text": [
      "120156/120156 [==============================] - 14s - loss: 0.0053 - val_loss: 0.0040\n",
      "Epoch 19/200\n",
      "120156/120156 [==============================] - 14s - loss: 0.0053 - val_loss: 0.0042\n",
      "Epoch 20/200\n",
      "120156/120156 [==============================] - 14s - loss: 0.0052 - val_loss: 0.0040\n",
      "Epoch 21/200\n",
      "    \n"
     ]
    },
    {
     "name": "stderr",
     "output_type": "stream",
     "text": [
      "2017-03-20 22:36:25,414 : INFO : Found lower val loss for epoch 21 => 0.00393\n"
     ]
    },
    {
     "name": "stdout",
     "output_type": "stream",
     "text": [
      "120156/120156 [==============================] - 14s - loss: 0.0052 - val_loss: 0.0039\n",
      "Epoch 22/200\n",
      "120156/120156 [==============================] - 14s - loss: 0.0051 - val_loss: 0.0041\n",
      "Epoch 23/200\n",
      "120156/120156 [==============================] - 14s - loss: 0.0051 - val_loss: 0.0041\n",
      "Epoch 24/200\n",
      "120156/120156 [==============================] - 14s - loss: 0.0051 - val_loss: 0.0041\n",
      "Epoch 25/200\n",
      "    \n"
     ]
    },
    {
     "name": "stderr",
     "output_type": "stream",
     "text": [
      "2017-03-20 22:37:24,592 : INFO : Found lower val loss for epoch 25 => 0.00388\n"
     ]
    },
    {
     "name": "stdout",
     "output_type": "stream",
     "text": [
      "120156/120156 [==============================] - 15s - loss: 0.0050 - val_loss: 0.0039\n",
      "Epoch 26/200\n",
      "120156/120156 [==============================] - 14s - loss: 0.0050 - val_loss: 0.0040\n",
      "Epoch 27/200\n",
      "120156/120156 [==============================] - 14s - loss: 0.0050 - val_loss: 0.0039\n",
      "Epoch 28/200\n",
      "    \n"
     ]
    },
    {
     "name": "stderr",
     "output_type": "stream",
     "text": [
      "2017-03-20 22:38:08,876 : INFO : Found lower val loss for epoch 28 => 0.00383\n"
     ]
    },
    {
     "name": "stdout",
     "output_type": "stream",
     "text": [
      "120156/120156 [==============================] - 15s - loss: 0.0049 - val_loss: 0.0038\n",
      "Epoch 29/200\n",
      "120156/120156 [==============================] - 14s - loss: 0.0049 - val_loss: 0.0039\n",
      "Epoch 30/200\n",
      "    \n"
     ]
    },
    {
     "name": "stderr",
     "output_type": "stream",
     "text": [
      "2017-03-20 22:38:38,485 : INFO : Found lower val loss for epoch 30 => 0.00382\n"
     ]
    },
    {
     "name": "stdout",
     "output_type": "stream",
     "text": [
      "120156/120156 [==============================] - 14s - loss: 0.0049 - val_loss: 0.0038\n",
      "Epoch 31/200\n",
      "120156/120156 [==============================] - 14s - loss: 0.0048 - val_loss: 0.0039\n",
      "Epoch 32/200\n",
      "120156/120156 [==============================] - 14s - loss: 0.0048 - val_loss: 0.0039\n",
      "Epoch 33/200\n",
      "120156/120156 [==============================] - 15s - loss: 0.0048 - val_loss: 0.0039\n",
      "Epoch 34/200\n",
      "120156/120156 [==============================] - 21s - loss: 0.0048 - val_loss: 0.0040\n",
      "Epoch 35/200\n",
      "    \n"
     ]
    },
    {
     "name": "stderr",
     "output_type": "stream",
     "text": [
      "2017-03-20 22:40:06,707 : INFO : Found lower val loss for epoch 35 => 0.00381\n"
     ]
    },
    {
     "name": "stdout",
     "output_type": "stream",
     "text": [
      "120156/120156 [==============================] - 22s - loss: 0.0048 - val_loss: 0.0038\n",
      "Epoch 36/200\n",
      "120156/120156 [==============================] - 21s - loss: 0.0047 - val_loss: 0.0039\n",
      "Epoch 37/200\n",
      "    \n"
     ]
    },
    {
     "name": "stderr",
     "output_type": "stream",
     "text": [
      "2017-03-20 22:40:52,131 : INFO : Found lower val loss for epoch 37 => 0.00375\n"
     ]
    },
    {
     "name": "stdout",
     "output_type": "stream",
     "text": [
      "120156/120156 [==============================] - 23s - loss: 0.0047 - val_loss: 0.0037\n",
      "Epoch 38/200\n",
      "    \n"
     ]
    },
    {
     "name": "stderr",
     "output_type": "stream",
     "text": [
      "2017-03-20 22:41:14,252 : INFO : Found lower val loss for epoch 38 => 0.00375\n"
     ]
    },
    {
     "name": "stdout",
     "output_type": "stream",
     "text": [
      "120156/120156 [==============================] - 22s - loss: 0.0047 - val_loss: 0.0037\n",
      "Epoch 39/200\n",
      "120156/120156 [==============================] - 22s - loss: 0.0047 - val_loss: 0.0038\n",
      "Epoch 40/200\n",
      "120156/120156 [==============================] - 21s - loss: 0.0046 - val_loss: 0.0037\n",
      "Epoch 41/200\n",
      "120156/120156 [==============================] - 21s - loss: 0.0046 - val_loss: 0.0038\n",
      "Epoch 42/200\n",
      "120156/120156 [==============================] - 20s - loss: 0.0046 - val_loss: 0.0038\n",
      "Epoch 43/200\n",
      "    \n"
     ]
    },
    {
     "name": "stderr",
     "output_type": "stream",
     "text": [
      "2017-03-20 22:43:03,645 : INFO : Found lower val loss for epoch 43 => 0.00374\n"
     ]
    },
    {
     "name": "stdout",
     "output_type": "stream",
     "text": [
      "120156/120156 [==============================] - 23s - loss: 0.0046 - val_loss: 0.0037\n",
      "Epoch 44/200\n",
      "    \n"
     ]
    },
    {
     "name": "stderr",
     "output_type": "stream",
     "text": [
      "2017-03-20 22:43:24,841 : INFO : Found lower val loss for epoch 44 => 0.00372\n"
     ]
    },
    {
     "name": "stdout",
     "output_type": "stream",
     "text": [
      "120156/120156 [==============================] - 21s - loss: 0.0045 - val_loss: 0.0037\n",
      "Epoch 45/200\n",
      "120156/120156 [==============================] - 22s - loss: 0.0045 - val_loss: 0.0040\n",
      "Epoch 46/200\n",
      "120156/120156 [==============================] - 23s - loss: 0.0045 - val_loss: 0.0040\n",
      "Epoch 47/200\n",
      "120156/120156 [==============================] - 23s - loss: 0.0045 - val_loss: 0.0039\n",
      "Epoch 48/200\n",
      "120156/120156 [==============================] - 24s - loss: 0.0045 - val_loss: 0.0038\n",
      "Epoch 49/200\n",
      "120156/120156 [==============================] - 23s - loss: 0.0045 - val_loss: 0.0038\n",
      "Epoch 50/200\n",
      "120156/120156 [==============================] - 19s - loss: 0.0044 - val_loss: 0.0038\n",
      "Epoch 51/200\n",
      "120156/120156 [==============================] - 17s - loss: 0.0044 - val_loss: 0.0038\n",
      "Epoch 52/200\n",
      "120156/120156 [==============================] - 23s - loss: 0.0044 - val_loss: 0.0038\n",
      "Epoch 53/200\n",
      "    \n"
     ]
    },
    {
     "name": "stderr",
     "output_type": "stream",
     "text": [
      "2017-03-20 22:46:45,468 : INFO : Found lower val loss for epoch 53 => 0.00369\n"
     ]
    },
    {
     "name": "stdout",
     "output_type": "stream",
     "text": [
      "120156/120156 [==============================] - 22s - loss: 0.0044 - val_loss: 0.0037\n",
      "Epoch 54/200\n",
      "120156/120156 [==============================] - 22s - loss: 0.0044 - val_loss: 0.0039\n",
      "Epoch 55/200\n",
      "120156/120156 [==============================] - 22s - loss: 0.0044 - val_loss: 0.0038\n",
      "Epoch 56/200\n",
      "120156/120156 [==============================] - 21s - loss: 0.0043 - val_loss: 0.0038\n",
      "Epoch 57/200\n",
      "120156/120156 [==============================] - 22s - loss: 0.0043 - val_loss: 0.0037\n",
      "Epoch 58/200\n",
      "120156/120156 [==============================] - 22s - loss: 0.0043 - val_loss: 0.0039\n",
      "Epoch 59/200\n",
      "120156/120156 [==============================] - 21s - loss: 0.0043 - val_loss: 0.0038\n",
      "Epoch 60/200\n",
      "120156/120156 [==============================] - 24s - loss: 0.0043 - val_loss: 0.0038\n",
      "Epoch 61/200\n",
      "120156/120156 [==============================] - 23s - loss: 0.0043 - val_loss: 0.0038\n",
      "Epoch 62/200\n",
      "120156/120156 [==============================] - 19s - loss: 0.0043 - val_loss: 0.0038\n",
      "Epoch 63/200\n",
      "120156/120156 [==============================] - 25s - loss: 0.0042 - val_loss: 0.0039\n",
      "Epoch 64/200\n",
      "120156/120156 [==============================] - 23s - loss: 0.0042 - val_loss: 0.0037"
     ]
    },
    {
     "name": "stderr",
     "output_type": "stream",
     "text": [
      "2017-03-20 22:50:54,127 : INFO : Evaluating on Training Data\n"
     ]
    },
    {
     "name": "stdout",
     "output_type": "stream",
     "text": [
      "\n",
      "Epoch 00063: early stopping\n",
      "CPU times: user 6min 52s, sys: 10min 22s, total: 17min 15s\n",
      "Wall time: 19min 49s\n"
     ]
    },
    {
     "name": "stderr",
     "output_type": "stream",
     "text": [
      "2017-03-20 22:52:18,117 : INFO : Generating Training Metrics\n",
      "2017-03-20 22:53:03,327 : INFO : Evaluating on Validation Data using saved best weights\n"
     ]
    },
    {
     "name": "stdout",
     "output_type": "stream",
     "text": [
      "****** Training Metrics: Cov Err: 5.166 | Top 3: 0.761 | Top 5: 0.843 | F1 Micro: 0.583 | F1 Macro: 0.279\n"
     ]
    },
    {
     "name": "stderr",
     "output_type": "stream",
     "text": [
      "2017-03-20 22:53:21,538 : INFO : Generating Validation Metrics\n"
     ]
    },
    {
     "name": "stdout",
     "output_type": "stream",
     "text": [
      "****** Validation Metrics: Cov Err: 10.002 | Top 3: 0.710 | Top 5: 0.795 | F1 Micro: 0.519 | F1 Macro: 0.113\n"
     ]
    },
    {
     "name": "stderr",
     "output_type": "stream",
     "text": [
      "2017-03-20 22:53:32,370 : INFO : ***************************************************************************************\n",
      "2017-03-20 22:53:32,373 : INFO : lstm_optimizer_rmsprop_size_300_w-drop_0.4_u-drop_0.4_stack_2_conv_None\n"
     ]
    },
    {
     "name": "stdout",
     "output_type": "stream",
     "text": [
      "____________________________________________________________________________________________________\n",
      "Layer (type)                     Output Shape          Param #     Connected to                     \n",
      "====================================================================================================\n",
      "lstm_300_u-drop_0.4_w-drop_0.4_l (None, None, 300)     601200      lstm_input_17[0][0]              \n",
      "____________________________________________________________________________________________________\n",
      "lstm_300_u-drop_0.4_w-drop_0.4_l (None, 300)           721200      lstm_300_u-drop_0.4_w-drop_0.4_la\n",
      "____________________________________________________________________________________________________\n",
      "sigmoid_output (Dense)           (None, 940)           282940      lstm_300_u-drop_0.4_w-drop_0.4_la\n",
      "====================================================================================================\n",
      "Total params: 1605340\n",
      "____________________________________________________________________________________________________\n",
      "Train on 120156 samples, validate on 29675 samples\n",
      "Epoch 1/200\n",
      "    \n"
     ]
    },
    {
     "name": "stderr",
     "output_type": "stream",
     "text": [
      "2017-03-20 22:54:18,779 : INFO : Found lower val loss for epoch 1 => 0.00855\n"
     ]
    },
    {
     "name": "stdout",
     "output_type": "stream",
     "text": [
      "120156/120156 [==============================] - 12s - loss: 0.0558 - val_loss: 0.0086\n",
      "Epoch 2/200\n",
      "    \n"
     ]
    },
    {
     "name": "stderr",
     "output_type": "stream",
     "text": [
      "2017-03-20 22:54:31,513 : INFO : Found lower val loss for epoch 2 => 0.00835\n"
     ]
    },
    {
     "name": "stdout",
     "output_type": "stream",
     "text": [
      "120156/120156 [==============================] - 12s - loss: 0.0102 - val_loss: 0.0084\n",
      "Epoch 3/200\n",
      "    \n"
     ]
    },
    {
     "name": "stderr",
     "output_type": "stream",
     "text": [
      "2017-03-20 22:54:44,874 : INFO : Found lower val loss for epoch 3 => 0.00748\n"
     ]
    },
    {
     "name": "stdout",
     "output_type": "stream",
     "text": [
      "120156/120156 [==============================] - 13s - loss: 0.0098 - val_loss: 0.0075\n",
      "Epoch 4/200\n",
      "    \n"
     ]
    },
    {
     "name": "stderr",
     "output_type": "stream",
     "text": [
      "2017-03-20 22:54:58,785 : INFO : Found lower val loss for epoch 4 => 0.00671\n"
     ]
    },
    {
     "name": "stdout",
     "output_type": "stream",
     "text": [
      "120156/120156 [==============================] - 13s - loss: 0.0088 - val_loss: 0.0067\n",
      "Epoch 5/200\n",
      "    \n"
     ]
    },
    {
     "name": "stderr",
     "output_type": "stream",
     "text": [
      "2017-03-20 22:55:13,617 : INFO : Found lower val loss for epoch 5 => 0.00601\n"
     ]
    },
    {
     "name": "stdout",
     "output_type": "stream",
     "text": [
      "120156/120156 [==============================] - 14s - loss: 0.0080 - val_loss: 0.0060\n",
      "Epoch 6/200\n",
      "    \n"
     ]
    },
    {
     "name": "stderr",
     "output_type": "stream",
     "text": [
      "2017-03-20 22:55:28,530 : INFO : Found lower val loss for epoch 6 => 0.00567\n"
     ]
    },
    {
     "name": "stdout",
     "output_type": "stream",
     "text": [
      "120156/120156 [==============================] - 14s - loss: 0.0074 - val_loss: 0.0057\n",
      "Epoch 7/200\n",
      "    \n"
     ]
    },
    {
     "name": "stderr",
     "output_type": "stream",
     "text": [
      "2017-03-20 22:55:43,047 : INFO : Found lower val loss for epoch 7 => 0.00541\n"
     ]
    },
    {
     "name": "stdout",
     "output_type": "stream",
     "text": [
      "120156/120156 [==============================] - 14s - loss: 0.0071 - val_loss: 0.0054\n",
      "Epoch 8/200\n",
      "    \n"
     ]
    },
    {
     "name": "stderr",
     "output_type": "stream",
     "text": [
      "2017-03-20 22:55:58,997 : INFO : Found lower val loss for epoch 8 => 0.00511\n"
     ]
    },
    {
     "name": "stdout",
     "output_type": "stream",
     "text": [
      "120156/120156 [==============================] - 15s - loss: 0.0068 - val_loss: 0.0051\n",
      "Epoch 9/200\n",
      "    \n"
     ]
    },
    {
     "name": "stderr",
     "output_type": "stream",
     "text": [
      "2017-03-20 22:56:15,151 : INFO : Found lower val loss for epoch 9 => 0.00491\n"
     ]
    },
    {
     "name": "stdout",
     "output_type": "stream",
     "text": [
      "120156/120156 [==============================] - 16s - loss: 0.0066 - val_loss: 0.0049\n",
      "Epoch 10/200\n",
      "    \n"
     ]
    },
    {
     "name": "stderr",
     "output_type": "stream",
     "text": [
      "2017-03-20 22:56:31,073 : INFO : Found lower val loss for epoch 10 => 0.00488\n"
     ]
    },
    {
     "name": "stdout",
     "output_type": "stream",
     "text": [
      "120156/120156 [==============================] - 15s - loss: 0.0064 - val_loss: 0.0049\n",
      "Epoch 11/200\n",
      "    \n"
     ]
    },
    {
     "name": "stderr",
     "output_type": "stream",
     "text": [
      "2017-03-20 22:56:47,885 : INFO : Found lower val loss for epoch 11 => 0.00479\n"
     ]
    },
    {
     "name": "stdout",
     "output_type": "stream",
     "text": [
      "120156/120156 [==============================] - 16s - loss: 0.0063 - val_loss: 0.0048\n",
      "Epoch 12/200\n",
      "    \n"
     ]
    },
    {
     "name": "stderr",
     "output_type": "stream",
     "text": [
      "2017-03-20 22:57:06,317 : INFO : Found lower val loss for epoch 12 => 0.00468\n"
     ]
    },
    {
     "name": "stdout",
     "output_type": "stream",
     "text": [
      "120156/120156 [==============================] - 18s - loss: 0.0062 - val_loss: 0.0047\n",
      "Epoch 13/200\n",
      "    \n"
     ]
    },
    {
     "name": "stderr",
     "output_type": "stream",
     "text": [
      "2017-03-20 22:57:25,517 : INFO : Found lower val loss for epoch 13 => 0.00456\n"
     ]
    },
    {
     "name": "stdout",
     "output_type": "stream",
     "text": [
      "120156/120156 [==============================] - 19s - loss: 0.0061 - val_loss: 0.0046\n",
      "Epoch 14/200\n",
      "    \n"
     ]
    },
    {
     "name": "stderr",
     "output_type": "stream",
     "text": [
      "2017-03-20 22:57:43,203 : INFO : Found lower val loss for epoch 14 => 0.00446\n"
     ]
    },
    {
     "name": "stdout",
     "output_type": "stream",
     "text": [
      "120156/120156 [==============================] - 17s - loss: 0.0060 - val_loss: 0.0045\n",
      "Epoch 15/200\n",
      "120156/120156 [==============================] - 18s - loss: 0.0059 - val_loss: 0.0045\n",
      "Epoch 16/200\n",
      "    \n"
     ]
    },
    {
     "name": "stderr",
     "output_type": "stream",
     "text": [
      "2017-03-20 22:58:22,929 : INFO : Found lower val loss for epoch 16 => 0.00436\n"
     ]
    },
    {
     "name": "stdout",
     "output_type": "stream",
     "text": [
      "120156/120156 [==============================] - 20s - loss: 0.0058 - val_loss: 0.0044\n",
      "Epoch 17/200\n",
      "    \n"
     ]
    },
    {
     "name": "stderr",
     "output_type": "stream",
     "text": [
      "2017-03-20 22:58:41,514 : INFO : Found lower val loss for epoch 17 => 0.00436\n"
     ]
    },
    {
     "name": "stdout",
     "output_type": "stream",
     "text": [
      "120156/120156 [==============================] - 18s - loss: 0.0057 - val_loss: 0.0044\n",
      "Epoch 18/200\n",
      "    \n"
     ]
    },
    {
     "name": "stderr",
     "output_type": "stream",
     "text": [
      "2017-03-20 22:58:53,028 : INFO : Found lower val loss for epoch 18 => 0.0043\n"
     ]
    },
    {
     "name": "stdout",
     "output_type": "stream",
     "text": [
      "120156/120156 [==============================] - 11s - loss: 0.0057 - val_loss: 0.0043\n",
      "Epoch 19/200\n",
      "    \n"
     ]
    },
    {
     "name": "stderr",
     "output_type": "stream",
     "text": [
      "2017-03-20 22:59:04,343 : INFO : Found lower val loss for epoch 19 => 0.00429\n"
     ]
    },
    {
     "name": "stdout",
     "output_type": "stream",
     "text": [
      "120156/120156 [==============================] - 11s - loss: 0.0056 - val_loss: 0.0043\n",
      "Epoch 20/200\n",
      "    \n"
     ]
    },
    {
     "name": "stderr",
     "output_type": "stream",
     "text": [
      "2017-03-20 22:59:15,731 : INFO : Found lower val loss for epoch 20 => 0.00421\n"
     ]
    },
    {
     "name": "stdout",
     "output_type": "stream",
     "text": [
      "120156/120156 [==============================] - 11s - loss: 0.0056 - val_loss: 0.0042\n",
      "Epoch 21/200\n",
      "120156/120156 [==============================] - 11s - loss: 0.0055 - val_loss: 0.0043\n",
      "Epoch 22/200\n",
      "120156/120156 [==============================] - 10s - loss: 0.0055 - val_loss: 0.0042\n",
      "Epoch 23/200\n",
      "    \n"
     ]
    },
    {
     "name": "stderr",
     "output_type": "stream",
     "text": [
      "2017-03-20 22:59:48,715 : INFO : Found lower val loss for epoch 23 => 0.00413\n"
     ]
    },
    {
     "name": "stdout",
     "output_type": "stream",
     "text": [
      "120156/120156 [==============================] - 11s - loss: 0.0054 - val_loss: 0.0041\n",
      "Epoch 24/200\n",
      "    \n"
     ]
    },
    {
     "name": "stderr",
     "output_type": "stream",
     "text": [
      "2017-03-20 23:00:00,134 : INFO : Found lower val loss for epoch 24 => 0.00411\n"
     ]
    },
    {
     "name": "stdout",
     "output_type": "stream",
     "text": [
      "120156/120156 [==============================] - 11s - loss: 0.0054 - val_loss: 0.0041\n",
      "Epoch 25/200\n",
      "    \n"
     ]
    },
    {
     "name": "stderr",
     "output_type": "stream",
     "text": [
      "2017-03-20 23:00:11,421 : INFO : Found lower val loss for epoch 25 => 0.00406\n"
     ]
    },
    {
     "name": "stdout",
     "output_type": "stream",
     "text": [
      "120156/120156 [==============================] - 11s - loss: 0.0054 - val_loss: 0.0041\n",
      "Epoch 26/200\n",
      "120156/120156 [==============================] - 11s - loss: 0.0053 - val_loss: 0.0041\n",
      "Epoch 27/200\n",
      "120156/120156 [==============================] - 10s - loss: 0.0053 - val_loss: 0.0041\n",
      "Epoch 28/200\n",
      "    \n"
     ]
    },
    {
     "name": "stderr",
     "output_type": "stream",
     "text": [
      "2017-03-20 23:00:44,400 : INFO : Found lower val loss for epoch 28 => 0.004\n"
     ]
    },
    {
     "name": "stdout",
     "output_type": "stream",
     "text": [
      "120156/120156 [==============================] - 11s - loss: 0.0053 - val_loss: 0.0040\n",
      "Epoch 29/200\n",
      "    \n"
     ]
    },
    {
     "name": "stderr",
     "output_type": "stream",
     "text": [
      "2017-03-20 23:00:55,789 : INFO : Found lower val loss for epoch 29 => 0.00399\n"
     ]
    },
    {
     "name": "stdout",
     "output_type": "stream",
     "text": [
      "120156/120156 [==============================] - 11s - loss: 0.0052 - val_loss: 0.0040\n",
      "Epoch 30/200\n",
      "    \n"
     ]
    },
    {
     "name": "stderr",
     "output_type": "stream",
     "text": [
      "2017-03-20 23:01:07,013 : INFO : Found lower val loss for epoch 30 => 0.00398\n"
     ]
    },
    {
     "name": "stdout",
     "output_type": "stream",
     "text": [
      "120156/120156 [==============================] - 11s - loss: 0.0052 - val_loss: 0.0040\n",
      "Epoch 31/200\n",
      "120156/120156 [==============================] - 10s - loss: 0.0052 - val_loss: 0.0041\n",
      "Epoch 32/200\n",
      "120156/120156 [==============================] - 10s - loss: 0.0052 - val_loss: 0.0040\n",
      "Epoch 33/200\n",
      "120156/120156 [==============================] - 10s - loss: 0.0051 - val_loss: 0.0040\n",
      "Epoch 34/200\n",
      "120156/120156 [==============================] - 10s - loss: 0.0051 - val_loss: 0.0040\n",
      "Epoch 35/200\n",
      "    \n"
     ]
    },
    {
     "name": "stderr",
     "output_type": "stream",
     "text": [
      "2017-03-20 23:02:01,259 : INFO : Found lower val loss for epoch 35 => 0.00391\n"
     ]
    },
    {
     "name": "stdout",
     "output_type": "stream",
     "text": [
      "120156/120156 [==============================] - 10s - loss: 0.0051 - val_loss: 0.0039\n",
      "Epoch 36/200\n",
      "120156/120156 [==============================] - 10s - loss: 0.0051 - val_loss: 0.0040\n",
      "Epoch 37/200\n",
      "120156/120156 [==============================] - 10s - loss: 0.0050 - val_loss: 0.0040\n",
      "Epoch 38/200\n",
      "120156/120156 [==============================] - 11s - loss: 0.0050 - val_loss: 0.0040\n",
      "Epoch 39/200\n",
      "    \n"
     ]
    },
    {
     "name": "stderr",
     "output_type": "stream",
     "text": [
      "2017-03-20 23:02:44,946 : INFO : Found lower val loss for epoch 39 => 0.00389\n"
     ]
    },
    {
     "name": "stdout",
     "output_type": "stream",
     "text": [
      "120156/120156 [==============================] - 10s - loss: 0.0050 - val_loss: 0.0039\n",
      "Epoch 40/200\n",
      "120156/120156 [==============================] - 11s - loss: 0.0050 - val_loss: 0.0039\n",
      "Epoch 41/200\n",
      "120156/120156 [==============================] - 11s - loss: 0.0050 - val_loss: 0.0040\n",
      "Epoch 42/200\n",
      "120156/120156 [==============================] - 10s - loss: 0.0049 - val_loss: 0.0040\n",
      "Epoch 43/200\n",
      "120156/120156 [==============================] - 10s - loss: 0.0049 - val_loss: 0.0039\n",
      "Epoch 44/200\n",
      "    \n"
     ]
    },
    {
     "name": "stderr",
     "output_type": "stream",
     "text": [
      "2017-03-20 23:03:40,175 : INFO : Found lower val loss for epoch 44 => 0.00385\n"
     ]
    },
    {
     "name": "stdout",
     "output_type": "stream",
     "text": [
      "120156/120156 [==============================] - 11s - loss: 0.0049 - val_loss: 0.0039\n",
      "Epoch 45/200\n",
      "120156/120156 [==============================] - 10s - loss: 0.0049 - val_loss: 0.0041\n",
      "Epoch 46/200\n",
      "120156/120156 [==============================] - 10s - loss: 0.0049 - val_loss: 0.0039\n",
      "Epoch 47/200\n",
      "120156/120156 [==============================] - 11s - loss: 0.0049 - val_loss: 0.0039\n",
      "Epoch 48/200\n",
      "120156/120156 [==============================] - 10s - loss: 0.0048 - val_loss: 0.0039\n",
      "Epoch 49/200\n",
      "120156/120156 [==============================] - 10s - loss: 0.0048 - val_loss: 0.0040\n",
      "Epoch 50/200\n",
      "120156/120156 [==============================] - 10s - loss: 0.0048 - val_loss: 0.0040\n",
      "Epoch 51/200\n",
      "120156/120156 [==============================] - 10s - loss: 0.0048 - val_loss: 0.0040\n",
      "Epoch 52/200\n",
      "120156/120156 [==============================] - 10s - loss: 0.0048 - val_loss: 0.0039\n",
      "Epoch 53/200\n",
      "120156/120156 [==============================] - 11s - loss: 0.0048 - val_loss: 0.0039\n",
      "Epoch 54/200\n",
      "120156/120156 [==============================] - 11s - loss: 0.0048 - val_loss: 0.0039\n",
      "Epoch 55/200\n",
      "120156/120156 [==============================] - 10s - loss: 0.0047 - val_loss: 0.0039"
     ]
    },
    {
     "name": "stderr",
     "output_type": "stream",
     "text": [
      "2017-03-20 23:05:40,029 : INFO : Evaluating on Training Data\n"
     ]
    },
    {
     "name": "stdout",
     "output_type": "stream",
     "text": [
      "\n",
      "Epoch 00054: early stopping\n",
      "CPU times: user 4min 22s, sys: 6min 46s, total: 11min 9s\n",
      "Wall time: 12min 5s\n"
     ]
    },
    {
     "name": "stderr",
     "output_type": "stream",
     "text": [
      "2017-03-20 23:06:34,130 : INFO : Generating Training Metrics\n",
      "2017-03-20 23:07:19,378 : INFO : Evaluating on Validation Data using saved best weights\n"
     ]
    },
    {
     "name": "stdout",
     "output_type": "stream",
     "text": [
      "****** Training Metrics: Cov Err: 7.993 | Top 3: 0.700 | Top 5: 0.787 | F1 Micro: 0.526 | F1 Macro: 0.136\n"
     ]
    },
    {
     "name": "stderr",
     "output_type": "stream",
     "text": [
      "2017-03-20 23:07:30,825 : INFO : Generating Validation Metrics\n"
     ]
    },
    {
     "name": "stdout",
     "output_type": "stream",
     "text": [
      "****** Validation Metrics: Cov Err: 10.739 | Top 3: 0.687 | Top 5: 0.773 | F1 Micro: 0.488 | F1 Macro: 0.078\n"
     ]
    },
    {
     "name": "stderr",
     "output_type": "stream",
     "text": [
      "2017-03-20 23:07:41,493 : INFO : ***************************************************************************************\n",
      "2017-03-20 23:07:41,495 : INFO : lstm_optimizer_rmsprop_size_300_w-drop_0.5_u-drop_0.6_stack_3_conv_None\n"
     ]
    },
    {
     "name": "stdout",
     "output_type": "stream",
     "text": [
      "____________________________________________________________________________________________________\n",
      "Layer (type)                     Output Shape          Param #     Connected to                     \n",
      "====================================================================================================\n",
      "lstm_300_u-drop_0.6_w-drop_0.5_l (None, None, 300)     601200      lstm_input_18[0][0]              \n",
      "____________________________________________________________________________________________________\n",
      "lstm_300_u-drop_0.6_w-drop_0.5_l (None, None, 300)     721200      lstm_300_u-drop_0.6_w-drop_0.5_la\n",
      "____________________________________________________________________________________________________\n",
      "lstm_300_u-drop_0.6_w-drop_0.5_l (None, 300)           721200      lstm_300_u-drop_0.6_w-drop_0.5_la\n",
      "____________________________________________________________________________________________________\n",
      "sigmoid_output (Dense)           (None, 940)           282940      lstm_300_u-drop_0.6_w-drop_0.5_la\n",
      "====================================================================================================\n",
      "Total params: 2326540\n",
      "____________________________________________________________________________________________________\n",
      "Train on 120156 samples, validate on 29675 samples\n",
      "Epoch 1/200\n",
      "    \n"
     ]
    },
    {
     "name": "stderr",
     "output_type": "stream",
     "text": [
      "2017-03-20 23:09:01,014 : INFO : Found lower val loss for epoch 1 => 0.00854\n"
     ]
    },
    {
     "name": "stdout",
     "output_type": "stream",
     "text": [
      "120156/120156 [==============================] - 14s - loss: 0.0580 - val_loss: 0.0085\n",
      "Epoch 2/200\n",
      "    \n"
     ]
    },
    {
     "name": "stderr",
     "output_type": "stream",
     "text": [
      "2017-03-20 23:09:15,314 : INFO : Found lower val loss for epoch 2 => 0.00834\n"
     ]
    },
    {
     "name": "stdout",
     "output_type": "stream",
     "text": [
      "120156/120156 [==============================] - 14s - loss: 0.0102 - val_loss: 0.0083\n",
      "Epoch 3/200\n",
      "    \n"
     ]
    },
    {
     "name": "stderr",
     "output_type": "stream",
     "text": [
      "2017-03-20 23:09:29,609 : INFO : Found lower val loss for epoch 3 => 0.00808\n"
     ]
    },
    {
     "name": "stdout",
     "output_type": "stream",
     "text": [
      "120156/120156 [==============================] - 14s - loss: 0.0102 - val_loss: 0.0081\n",
      "Epoch 4/200\n",
      "    \n"
     ]
    },
    {
     "name": "stderr",
     "output_type": "stream",
     "text": [
      "2017-03-20 23:09:44,217 : INFO : Found lower val loss for epoch 4 => 0.00748\n"
     ]
    },
    {
     "name": "stdout",
     "output_type": "stream",
     "text": [
      "120156/120156 [==============================] - 14s - loss: 0.0096 - val_loss: 0.0075\n",
      "Epoch 5/200\n",
      "    \n"
     ]
    },
    {
     "name": "stderr",
     "output_type": "stream",
     "text": [
      "2017-03-20 23:09:58,726 : INFO : Found lower val loss for epoch 5 => 0.00707\n"
     ]
    },
    {
     "name": "stdout",
     "output_type": "stream",
     "text": [
      "120156/120156 [==============================] - 14s - loss: 0.0090 - val_loss: 0.0071\n",
      "Epoch 6/200\n",
      "    \n"
     ]
    },
    {
     "name": "stderr",
     "output_type": "stream",
     "text": [
      "2017-03-20 23:10:12,889 : INFO : Found lower val loss for epoch 6 => 0.00684\n"
     ]
    },
    {
     "name": "stdout",
     "output_type": "stream",
     "text": [
      "120156/120156 [==============================] - 14s - loss: 0.0087 - val_loss: 0.0068\n",
      "Epoch 7/200\n",
      "    \n"
     ]
    },
    {
     "name": "stderr",
     "output_type": "stream",
     "text": [
      "2017-03-20 23:10:27,463 : INFO : Found lower val loss for epoch 7 => 0.00645\n"
     ]
    },
    {
     "name": "stdout",
     "output_type": "stream",
     "text": [
      "120156/120156 [==============================] - 14s - loss: 0.0084 - val_loss: 0.0065\n",
      "Epoch 8/200\n",
      "    \n"
     ]
    },
    {
     "name": "stderr",
     "output_type": "stream",
     "text": [
      "2017-03-20 23:10:41,694 : INFO : Found lower val loss for epoch 8 => 0.00611\n"
     ]
    },
    {
     "name": "stdout",
     "output_type": "stream",
     "text": [
      "120156/120156 [==============================] - 14s - loss: 0.0080 - val_loss: 0.0061\n",
      "Epoch 9/200\n",
      "    \n"
     ]
    },
    {
     "name": "stderr",
     "output_type": "stream",
     "text": [
      "2017-03-20 23:10:57,621 : INFO : Found lower val loss for epoch 9 => 0.00584\n"
     ]
    },
    {
     "name": "stdout",
     "output_type": "stream",
     "text": [
      "120156/120156 [==============================] - 15s - loss: 0.0077 - val_loss: 0.0058\n",
      "Epoch 10/200\n",
      "    \n"
     ]
    },
    {
     "name": "stderr",
     "output_type": "stream",
     "text": [
      "2017-03-20 23:11:13,499 : INFO : Found lower val loss for epoch 10 => 0.00566\n"
     ]
    },
    {
     "name": "stdout",
     "output_type": "stream",
     "text": [
      "120156/120156 [==============================] - 15s - loss: 0.0075 - val_loss: 0.0057\n",
      "Epoch 11/200\n",
      "    \n"
     ]
    },
    {
     "name": "stderr",
     "output_type": "stream",
     "text": [
      "2017-03-20 23:11:29,185 : INFO : Found lower val loss for epoch 11 => 0.00544\n"
     ]
    },
    {
     "name": "stdout",
     "output_type": "stream",
     "text": [
      "120156/120156 [==============================] - 15s - loss: 0.0072 - val_loss: 0.0054\n",
      "Epoch 12/200\n",
      "    \n"
     ]
    },
    {
     "name": "stderr",
     "output_type": "stream",
     "text": [
      "2017-03-20 23:11:45,503 : INFO : Found lower val loss for epoch 12 => 0.00531\n"
     ]
    },
    {
     "name": "stdout",
     "output_type": "stream",
     "text": [
      "120156/120156 [==============================] - 16s - loss: 0.0071 - val_loss: 0.0053\n",
      "Epoch 13/200\n",
      "    \n"
     ]
    },
    {
     "name": "stderr",
     "output_type": "stream",
     "text": [
      "2017-03-20 23:12:01,933 : INFO : Found lower val loss for epoch 13 => 0.00525\n"
     ]
    },
    {
     "name": "stdout",
     "output_type": "stream",
     "text": [
      "120156/120156 [==============================] - 16s - loss: 0.0069 - val_loss: 0.0053\n",
      "Epoch 14/200\n",
      "    \n"
     ]
    },
    {
     "name": "stderr",
     "output_type": "stream",
     "text": [
      "2017-03-20 23:12:18,342 : INFO : Found lower val loss for epoch 14 => 0.00512\n"
     ]
    },
    {
     "name": "stdout",
     "output_type": "stream",
     "text": [
      "120156/120156 [==============================] - 16s - loss: 0.0068 - val_loss: 0.0051\n",
      "Epoch 15/200\n",
      "    \n"
     ]
    },
    {
     "name": "stderr",
     "output_type": "stream",
     "text": [
      "2017-03-20 23:12:34,614 : INFO : Found lower val loss for epoch 15 => 0.00502\n"
     ]
    },
    {
     "name": "stdout",
     "output_type": "stream",
     "text": [
      "120156/120156 [==============================] - 16s - loss: 0.0067 - val_loss: 0.0050\n",
      "Epoch 16/200\n",
      "    \n"
     ]
    },
    {
     "name": "stderr",
     "output_type": "stream",
     "text": [
      "2017-03-20 23:12:50,997 : INFO : Found lower val loss for epoch 16 => 0.00494\n"
     ]
    },
    {
     "name": "stdout",
     "output_type": "stream",
     "text": [
      "120156/120156 [==============================] - 16s - loss: 0.0066 - val_loss: 0.0049\n",
      "Epoch 17/200\n",
      "    \n"
     ]
    },
    {
     "name": "stderr",
     "output_type": "stream",
     "text": [
      "2017-03-20 23:13:07,322 : INFO : Found lower val loss for epoch 17 => 0.0049\n"
     ]
    },
    {
     "name": "stdout",
     "output_type": "stream",
     "text": [
      "120156/120156 [==============================] - 16s - loss: 0.0065 - val_loss: 0.0049\n",
      "Epoch 18/200\n",
      "    \n"
     ]
    },
    {
     "name": "stderr",
     "output_type": "stream",
     "text": [
      "2017-03-20 23:13:23,948 : INFO : Found lower val loss for epoch 18 => 0.00481\n"
     ]
    },
    {
     "name": "stdout",
     "output_type": "stream",
     "text": [
      "120156/120156 [==============================] - 16s - loss: 0.0064 - val_loss: 0.0048\n",
      "Epoch 19/200\n",
      "    \n"
     ]
    },
    {
     "name": "stderr",
     "output_type": "stream",
     "text": [
      "2017-03-20 23:13:39,853 : INFO : Found lower val loss for epoch 19 => 0.00478\n"
     ]
    },
    {
     "name": "stdout",
     "output_type": "stream",
     "text": [
      "120156/120156 [==============================] - 15s - loss: 0.0064 - val_loss: 0.0048\n",
      "Epoch 20/200\n",
      "    \n"
     ]
    },
    {
     "name": "stderr",
     "output_type": "stream",
     "text": [
      "2017-03-20 23:13:55,648 : INFO : Found lower val loss for epoch 20 => 0.00473\n"
     ]
    },
    {
     "name": "stdout",
     "output_type": "stream",
     "text": [
      "120156/120156 [==============================] - 15s - loss: 0.0063 - val_loss: 0.0047\n",
      "Epoch 21/200\n",
      "    \n"
     ]
    },
    {
     "name": "stderr",
     "output_type": "stream",
     "text": [
      "2017-03-20 23:14:11,757 : INFO : Found lower val loss for epoch 21 => 0.00469\n"
     ]
    },
    {
     "name": "stdout",
     "output_type": "stream",
     "text": [
      "120156/120156 [==============================] - 16s - loss: 0.0062 - val_loss: 0.0047\n",
      "Epoch 22/200\n",
      "    \n"
     ]
    },
    {
     "name": "stderr",
     "output_type": "stream",
     "text": [
      "2017-03-20 23:14:27,408 : INFO : Found lower val loss for epoch 22 => 0.00465\n"
     ]
    },
    {
     "name": "stdout",
     "output_type": "stream",
     "text": [
      "120156/120156 [==============================] - 15s - loss: 0.0062 - val_loss: 0.0046\n",
      "Epoch 23/200\n",
      "    \n"
     ]
    },
    {
     "name": "stderr",
     "output_type": "stream",
     "text": [
      "2017-03-20 23:14:43,455 : INFO : Found lower val loss for epoch 23 => 0.00463\n"
     ]
    },
    {
     "name": "stdout",
     "output_type": "stream",
     "text": [
      "120156/120156 [==============================] - 16s - loss: 0.0061 - val_loss: 0.0046\n",
      "Epoch 24/200\n",
      "    \n"
     ]
    },
    {
     "name": "stderr",
     "output_type": "stream",
     "text": [
      "2017-03-20 23:14:59,478 : INFO : Found lower val loss for epoch 24 => 0.0045\n"
     ]
    },
    {
     "name": "stdout",
     "output_type": "stream",
     "text": [
      "120156/120156 [==============================] - 16s - loss: 0.0061 - val_loss: 0.0045\n",
      "Epoch 25/200\n",
      "120156/120156 [==============================] - 16s - loss: 0.0060 - val_loss: 0.0046\n",
      "Epoch 26/200\n",
      "    \n"
     ]
    },
    {
     "name": "stderr",
     "output_type": "stream",
     "text": [
      "2017-03-20 23:15:32,696 : INFO : Found lower val loss for epoch 26 => 0.0045\n"
     ]
    },
    {
     "name": "stdout",
     "output_type": "stream",
     "text": [
      "120156/120156 [==============================] - 16s - loss: 0.0060 - val_loss: 0.0045\n",
      "Epoch 27/200\n",
      "    \n"
     ]
    },
    {
     "name": "stderr",
     "output_type": "stream",
     "text": [
      "2017-03-20 23:15:48,840 : INFO : Found lower val loss for epoch 27 => 0.00445\n"
     ]
    },
    {
     "name": "stdout",
     "output_type": "stream",
     "text": [
      "120156/120156 [==============================] - 16s - loss: 0.0059 - val_loss: 0.0044\n",
      "Epoch 28/200\n",
      "120156/120156 [==============================] - 16s - loss: 0.0059 - val_loss: 0.0044\n",
      "Epoch 29/200\n",
      "    \n"
     ]
    },
    {
     "name": "stderr",
     "output_type": "stream",
     "text": [
      "2017-03-20 23:16:21,961 : INFO : Found lower val loss for epoch 29 => 0.00435\n"
     ]
    },
    {
     "name": "stdout",
     "output_type": "stream",
     "text": [
      "120156/120156 [==============================] - 16s - loss: 0.0059 - val_loss: 0.0044\n",
      "Epoch 30/200\n",
      "120156/120156 [==============================] - 16s - loss: 0.0058 - val_loss: 0.0044\n",
      "Epoch 31/200\n",
      "    \n"
     ]
    },
    {
     "name": "stderr",
     "output_type": "stream",
     "text": [
      "2017-03-20 23:16:54,739 : INFO : Found lower val loss for epoch 31 => 0.00428\n"
     ]
    },
    {
     "name": "stdout",
     "output_type": "stream",
     "text": [
      "120156/120156 [==============================] - 16s - loss: 0.0058 - val_loss: 0.0043\n",
      "Epoch 32/200\n",
      "120156/120156 [==============================] - 16s - loss: 0.0057 - val_loss: 0.0044\n",
      "Epoch 33/200\n",
      "    \n"
     ]
    },
    {
     "name": "stderr",
     "output_type": "stream",
     "text": [
      "2017-03-20 23:17:28,182 : INFO : Found lower val loss for epoch 33 => 0.00428\n"
     ]
    },
    {
     "name": "stdout",
     "output_type": "stream",
     "text": [
      "120156/120156 [==============================] - 17s - loss: 0.0057 - val_loss: 0.0043\n",
      "Epoch 34/200\n",
      "    \n"
     ]
    },
    {
     "name": "stderr",
     "output_type": "stream",
     "text": [
      "2017-03-20 23:17:44,942 : INFO : Found lower val loss for epoch 34 => 0.00425\n"
     ]
    },
    {
     "name": "stdout",
     "output_type": "stream",
     "text": [
      "120156/120156 [==============================] - 16s - loss: 0.0057 - val_loss: 0.0043\n",
      "Epoch 35/200\n",
      "    \n"
     ]
    },
    {
     "name": "stderr",
     "output_type": "stream",
     "text": [
      "2017-03-20 23:18:01,919 : INFO : Found lower val loss for epoch 35 => 0.00422\n"
     ]
    },
    {
     "name": "stdout",
     "output_type": "stream",
     "text": [
      "120156/120156 [==============================] - 16s - loss: 0.0057 - val_loss: 0.0042\n",
      "Epoch 36/200\n",
      "120156/120156 [==============================] - 16s - loss: 0.0056 - val_loss: 0.0043\n",
      "Epoch 37/200\n",
      "120156/120156 [==============================] - 16s - loss: 0.0056 - val_loss: 0.0042\n",
      "Epoch 38/200\n",
      "    \n"
     ]
    },
    {
     "name": "stderr",
     "output_type": "stream",
     "text": [
      "2017-03-20 23:18:51,463 : INFO : Found lower val loss for epoch 38 => 0.00413\n"
     ]
    },
    {
     "name": "stdout",
     "output_type": "stream",
     "text": [
      "120156/120156 [==============================] - 17s - loss: 0.0056 - val_loss: 0.0041\n",
      "Epoch 39/200\n",
      "120156/120156 [==============================] - 16s - loss: 0.0056 - val_loss: 0.0042\n",
      "Epoch 40/200\n",
      "120156/120156 [==============================] - 16s - loss: 0.0055 - val_loss: 0.0042\n",
      "Epoch 41/200\n",
      "    \n"
     ]
    },
    {
     "name": "stderr",
     "output_type": "stream",
     "text": [
      "2017-03-20 23:19:41,380 : INFO : Found lower val loss for epoch 41 => 0.00411\n"
     ]
    },
    {
     "name": "stdout",
     "output_type": "stream",
     "text": [
      "120156/120156 [==============================] - 16s - loss: 0.0055 - val_loss: 0.0041\n",
      "Epoch 42/200\n",
      "120156/120156 [==============================] - 16s - loss: 0.0055 - val_loss: 0.0042\n",
      "Epoch 43/200\n",
      "    \n"
     ]
    },
    {
     "name": "stderr",
     "output_type": "stream",
     "text": [
      "2017-03-20 23:20:13,957 : INFO : Found lower val loss for epoch 43 => 0.0041\n"
     ]
    },
    {
     "name": "stdout",
     "output_type": "stream",
     "text": [
      "120156/120156 [==============================] - 16s - loss: 0.0055 - val_loss: 0.0041\n",
      "Epoch 44/200\n",
      "120156/120156 [==============================] - 16s - loss: 0.0054 - val_loss: 0.0041\n",
      "Epoch 45/200\n",
      "    \n"
     ]
    },
    {
     "name": "stderr",
     "output_type": "stream",
     "text": [
      "2017-03-20 23:20:47,291 : INFO : Found lower val loss for epoch 45 => 0.00407\n"
     ]
    },
    {
     "name": "stdout",
     "output_type": "stream",
     "text": [
      "120156/120156 [==============================] - 16s - loss: 0.0054 - val_loss: 0.0041\n",
      "Epoch 46/200\n",
      "    \n"
     ]
    },
    {
     "name": "stderr",
     "output_type": "stream",
     "text": [
      "2017-03-20 23:21:04,194 : INFO : Found lower val loss for epoch 46 => 0.00404\n"
     ]
    },
    {
     "name": "stdout",
     "output_type": "stream",
     "text": [
      "120156/120156 [==============================] - 16s - loss: 0.0054 - val_loss: 0.0040\n",
      "Epoch 47/200\n",
      "120156/120156 [==============================] - 16s - loss: 0.0054 - val_loss: 0.0041\n",
      "Epoch 48/200\n",
      "120156/120156 [==============================] - 16s - loss: 0.0054 - val_loss: 0.0041\n",
      "Epoch 49/200\n",
      "    \n"
     ]
    },
    {
     "name": "stderr",
     "output_type": "stream",
     "text": [
      "2017-03-20 23:21:54,495 : INFO : Found lower val loss for epoch 49 => 0.00402\n"
     ]
    },
    {
     "name": "stdout",
     "output_type": "stream",
     "text": [
      "120156/120156 [==============================] - 16s - loss: 0.0054 - val_loss: 0.0040\n",
      "Epoch 50/200\n",
      "    \n"
     ]
    },
    {
     "name": "stderr",
     "output_type": "stream",
     "text": [
      "2017-03-20 23:22:11,433 : INFO : Found lower val loss for epoch 50 => 0.00402\n"
     ]
    },
    {
     "name": "stdout",
     "output_type": "stream",
     "text": [
      "120156/120156 [==============================] - 16s - loss: 0.0053 - val_loss: 0.0040\n",
      "Epoch 51/200\n",
      "    \n"
     ]
    },
    {
     "name": "stderr",
     "output_type": "stream",
     "text": [
      "2017-03-20 23:22:28,274 : INFO : Found lower val loss for epoch 51 => 0.004\n"
     ]
    },
    {
     "name": "stdout",
     "output_type": "stream",
     "text": [
      "120156/120156 [==============================] - 16s - loss: 0.0053 - val_loss: 0.0040\n",
      "Epoch 52/200\n",
      "120156/120156 [==============================] - 16s - loss: 0.0053 - val_loss: 0.0040\n",
      "Epoch 53/200\n",
      "120156/120156 [==============================] - 16s - loss: 0.0053 - val_loss: 0.0040\n",
      "Epoch 54/200\n",
      "    \n"
     ]
    },
    {
     "name": "stderr",
     "output_type": "stream",
     "text": [
      "2017-03-20 23:23:18,762 : INFO : Found lower val loss for epoch 54 => 0.00397\n"
     ]
    },
    {
     "name": "stdout",
     "output_type": "stream",
     "text": [
      "120156/120156 [==============================] - 17s - loss: 0.0053 - val_loss: 0.0040\n",
      "Epoch 55/200\n",
      "120156/120156 [==============================] - 16s - loss: 0.0053 - val_loss: 0.0040\n",
      "Epoch 56/200\n",
      "120156/120156 [==============================] - 16s - loss: 0.0053 - val_loss: 0.0040\n",
      "Epoch 57/200\n",
      "120156/120156 [==============================] - 16s - loss: 0.0052 - val_loss: 0.0041\n",
      "Epoch 58/200\n",
      "    \n"
     ]
    },
    {
     "name": "stderr",
     "output_type": "stream",
     "text": [
      "2017-03-20 23:24:24,887 : INFO : Found lower val loss for epoch 58 => 0.00396\n"
     ]
    },
    {
     "name": "stdout",
     "output_type": "stream",
     "text": [
      "120156/120156 [==============================] - 17s - loss: 0.0052 - val_loss: 0.0040\n",
      "Epoch 59/200\n",
      "120156/120156 [==============================] - 16s - loss: 0.0052 - val_loss: 0.0040\n",
      "Epoch 60/200\n",
      "120156/120156 [==============================] - 16s - loss: 0.0052 - val_loss: 0.0040\n",
      "Epoch 61/200\n",
      "    \n"
     ]
    },
    {
     "name": "stderr",
     "output_type": "stream",
     "text": [
      "2017-03-20 23:25:14,425 : INFO : Found lower val loss for epoch 61 => 0.00396\n"
     ]
    },
    {
     "name": "stdout",
     "output_type": "stream",
     "text": [
      "120156/120156 [==============================] - 16s - loss: 0.0052 - val_loss: 0.0040\n",
      "Epoch 62/200\n",
      "120156/120156 [==============================] - 15s - loss: 0.0052 - val_loss: 0.0040\n",
      "Epoch 63/200\n",
      "120156/120156 [==============================] - 16s - loss: 0.0052 - val_loss: 0.0040\n",
      "Epoch 64/200\n",
      "    \n"
     ]
    },
    {
     "name": "stderr",
     "output_type": "stream",
     "text": [
      "2017-03-20 23:26:03,635 : INFO : Found lower val loss for epoch 64 => 0.0039\n"
     ]
    },
    {
     "name": "stdout",
     "output_type": "stream",
     "text": [
      "120156/120156 [==============================] - 17s - loss: 0.0052 - val_loss: 0.0039\n",
      "Epoch 65/200\n",
      "    \n"
     ]
    },
    {
     "name": "stderr",
     "output_type": "stream",
     "text": [
      "2017-03-20 23:26:19,857 : INFO : Found lower val loss for epoch 65 => 0.0039\n"
     ]
    },
    {
     "name": "stdout",
     "output_type": "stream",
     "text": [
      "120156/120156 [==============================] - 16s - loss: 0.0051 - val_loss: 0.0039\n",
      "Epoch 66/200\n",
      "120156/120156 [==============================] - 16s - loss: 0.0051 - val_loss: 0.0039\n",
      "Epoch 67/200\n",
      "120156/120156 [==============================] - 16s - loss: 0.0051 - val_loss: 0.0040\n",
      "Epoch 68/200\n",
      "120156/120156 [==============================] - 15s - loss: 0.0051 - val_loss: 0.0039\n",
      "Epoch 69/200\n",
      "120156/120156 [==============================] - 16s - loss: 0.0051 - val_loss: 0.0040\n",
      "Epoch 70/200\n",
      "120156/120156 [==============================] - 16s - loss: 0.0051 - val_loss: 0.0040\n",
      "Epoch 71/200\n",
      "120156/120156 [==============================] - 26s - loss: 0.0051 - val_loss: 0.0040\n",
      "Epoch 72/200\n",
      "    \n"
     ]
    },
    {
     "name": "stderr",
     "output_type": "stream",
     "text": [
      "2017-03-20 23:28:33,572 : INFO : Found lower val loss for epoch 72 => 0.00388\n"
     ]
    },
    {
     "name": "stdout",
     "output_type": "stream",
     "text": [
      "120156/120156 [==============================] - 26s - loss: 0.0051 - val_loss: 0.0039\n",
      "Epoch 73/200\n",
      "120156/120156 [==============================] - 27s - loss: 0.0051 - val_loss: 0.0039\n",
      "Epoch 74/200\n",
      "120156/120156 [==============================] - 26s - loss: 0.0051 - val_loss: 0.0040\n",
      "Epoch 75/200\n",
      "120156/120156 [==============================] - 28s - loss: 0.0051 - val_loss: 0.0039\n",
      "Epoch 76/200\n",
      "120156/120156 [==============================] - 26s - loss: 0.0050 - val_loss: 0.0039\n",
      "Epoch 77/200\n",
      "120156/120156 [==============================] - 27s - loss: 0.0050 - val_loss: 0.0039\n",
      "Epoch 78/200\n",
      "120156/120156 [==============================] - 28s - loss: 0.0050 - val_loss: 0.0040\n",
      "Epoch 79/200\n",
      "120156/120156 [==============================] - 28s - loss: 0.0050 - val_loss: 0.0039\n",
      "Epoch 80/200\n",
      "120156/120156 [==============================] - 31s - loss: 0.0050 - val_loss: 0.0039\n",
      "Epoch 81/200\n",
      "120156/120156 [==============================] - 31s - loss: 0.0050 - val_loss: 0.0039\n",
      "Epoch 82/200\n",
      "120156/120156 [==============================] - 30s - loss: 0.0050 - val_loss: 0.0039\n",
      "Epoch 83/200\n",
      "120156/120156 [==============================] - 31s - loss: 0.0050 - val_loss: 0.0039"
     ]
    },
    {
     "name": "stderr",
     "output_type": "stream",
     "text": [
      "2017-03-20 23:33:52,966 : INFO : Evaluating on Training Data\n"
     ]
    },
    {
     "name": "stdout",
     "output_type": "stream",
     "text": [
      "\n",
      "Epoch 00082: early stopping\n",
      "CPU times: user 9min 22s, sys: 14min 48s, total: 24min 10s\n",
      "Wall time: 26min 7s\n"
     ]
    },
    {
     "name": "stderr",
     "output_type": "stream",
     "text": [
      "2017-03-20 23:35:18,698 : INFO : Generating Training Metrics\n",
      "2017-03-20 23:36:04,460 : INFO : Evaluating on Validation Data using saved best weights\n"
     ]
    },
    {
     "name": "stdout",
     "output_type": "stream",
     "text": [
      "****** Training Metrics: Cov Err: 8.453 | Top 3: 0.684 | Top 5: 0.771 | F1 Micro: 0.499 | F1 Macro: 0.093\n"
     ]
    },
    {
     "name": "stderr",
     "output_type": "stream",
     "text": [
      "2017-03-20 23:36:23,366 : INFO : Generating Validation Metrics\n"
     ]
    },
    {
     "name": "stdout",
     "output_type": "stream",
     "text": [
      "****** Validation Metrics: Cov Err: 10.839 | Top 3: 0.683 | Top 5: 0.769 | F1 Micro: 0.495 | F1 Macro: 0.069\n"
     ]
    },
    {
     "name": "stderr",
     "output_type": "stream",
     "text": [
      "2017-03-20 23:36:34,259 : INFO : ***************************************************************************************\n",
      "2017-03-20 23:36:34,261 : INFO : lstm_optimizer_rmsprop_size_300_w-drop_0.4_u-drop_0.4_stack_3_conv_None\n"
     ]
    },
    {
     "name": "stdout",
     "output_type": "stream",
     "text": [
      "____________________________________________________________________________________________________\n",
      "Layer (type)                     Output Shape          Param #     Connected to                     \n",
      "====================================================================================================\n",
      "lstm_300_u-drop_0.4_w-drop_0.4_l (None, None, 300)     601200      lstm_input_19[0][0]              \n",
      "____________________________________________________________________________________________________\n",
      "lstm_300_u-drop_0.4_w-drop_0.4_l (None, None, 300)     721200      lstm_300_u-drop_0.4_w-drop_0.4_la\n",
      "____________________________________________________________________________________________________\n",
      "lstm_300_u-drop_0.4_w-drop_0.4_l (None, 300)           721200      lstm_300_u-drop_0.4_w-drop_0.4_la\n",
      "____________________________________________________________________________________________________\n",
      "sigmoid_output (Dense)           (None, 940)           282940      lstm_300_u-drop_0.4_w-drop_0.4_la\n",
      "====================================================================================================\n",
      "Total params: 2326540\n",
      "____________________________________________________________________________________________________\n",
      "Train on 120156 samples, validate on 29675 samples\n",
      "Epoch 1/200\n",
      "    \n"
     ]
    },
    {
     "name": "stderr",
     "output_type": "stream",
     "text": [
      "2017-03-20 23:37:59,004 : INFO : Found lower val loss for epoch 1 => 0.00855\n"
     ]
    },
    {
     "name": "stdout",
     "output_type": "stream",
     "text": [
      "120156/120156 [==============================] - 20s - loss: 0.0548 - val_loss: 0.0085\n",
      "Epoch 2/200\n",
      "    \n"
     ]
    },
    {
     "name": "stderr",
     "output_type": "stream",
     "text": [
      "2017-03-20 23:38:18,658 : INFO : Found lower val loss for epoch 2 => 0.00836\n"
     ]
    },
    {
     "name": "stdout",
     "output_type": "stream",
     "text": [
      "120156/120156 [==============================] - 19s - loss: 0.0102 - val_loss: 0.0084\n",
      "Epoch 3/200\n",
      "    \n"
     ]
    },
    {
     "name": "stderr",
     "output_type": "stream",
     "text": [
      "2017-03-20 23:38:41,617 : INFO : Found lower val loss for epoch 3 => 0.0079\n"
     ]
    },
    {
     "name": "stdout",
     "output_type": "stream",
     "text": [
      "120156/120156 [==============================] - 22s - loss: 0.0101 - val_loss: 0.0079\n",
      "Epoch 4/200\n",
      "    \n"
     ]
    },
    {
     "name": "stderr",
     "output_type": "stream",
     "text": [
      "2017-03-20 23:39:03,992 : INFO : Found lower val loss for epoch 4 => 0.00742\n"
     ]
    },
    {
     "name": "stdout",
     "output_type": "stream",
     "text": [
      "120156/120156 [==============================] - 22s - loss: 0.0093 - val_loss: 0.0074\n",
      "Epoch 5/200\n",
      "    \n"
     ]
    },
    {
     "name": "stderr",
     "output_type": "stream",
     "text": [
      "2017-03-20 23:39:26,906 : INFO : Found lower val loss for epoch 5 => 0.00691\n"
     ]
    },
    {
     "name": "stdout",
     "output_type": "stream",
     "text": [
      "120156/120156 [==============================] - 22s - loss: 0.0088 - val_loss: 0.0069\n",
      "Epoch 6/200\n",
      "    \n"
     ]
    },
    {
     "name": "stderr",
     "output_type": "stream",
     "text": [
      "2017-03-20 23:39:54,688 : INFO : Found lower val loss for epoch 6 => 0.0064\n"
     ]
    },
    {
     "name": "stdout",
     "output_type": "stream",
     "text": [
      "120156/120156 [==============================] - 27s - loss: 0.0083 - val_loss: 0.0064\n",
      "Epoch 7/200\n",
      "    \n"
     ]
    },
    {
     "name": "stderr",
     "output_type": "stream",
     "text": [
      "2017-03-20 23:40:23,522 : INFO : Found lower val loss for epoch 7 => 0.00603\n"
     ]
    },
    {
     "name": "stdout",
     "output_type": "stream",
     "text": [
      "120156/120156 [==============================] - 28s - loss: 0.0079 - val_loss: 0.0060\n",
      "Epoch 8/200\n",
      "    \n"
     ]
    },
    {
     "name": "stderr",
     "output_type": "stream",
     "text": [
      "2017-03-20 23:40:54,055 : INFO : Found lower val loss for epoch 8 => 0.00572\n"
     ]
    },
    {
     "name": "stdout",
     "output_type": "stream",
     "text": [
      "120156/120156 [==============================] - 30s - loss: 0.0075 - val_loss: 0.0057\n",
      "Epoch 9/200\n",
      "    \n"
     ]
    },
    {
     "name": "stderr",
     "output_type": "stream",
     "text": [
      "2017-03-20 23:41:20,530 : INFO : Found lower val loss for epoch 9 => 0.00552\n"
     ]
    },
    {
     "name": "stdout",
     "output_type": "stream",
     "text": [
      "120156/120156 [==============================] - 26s - loss: 0.0072 - val_loss: 0.0055\n",
      "Epoch 10/200\n",
      "    \n"
     ]
    },
    {
     "name": "stderr",
     "output_type": "stream",
     "text": [
      "2017-03-20 23:41:48,057 : INFO : Found lower val loss for epoch 10 => 0.00532\n"
     ]
    },
    {
     "name": "stdout",
     "output_type": "stream",
     "text": [
      "120156/120156 [==============================] - 27s - loss: 0.0070 - val_loss: 0.0053\n",
      "Epoch 11/200\n",
      "    \n"
     ]
    },
    {
     "name": "stderr",
     "output_type": "stream",
     "text": [
      "2017-03-20 23:42:19,171 : INFO : Found lower val loss for epoch 11 => 0.00512\n"
     ]
    },
    {
     "name": "stdout",
     "output_type": "stream",
     "text": [
      "120156/120156 [==============================] - 31s - loss: 0.0068 - val_loss: 0.0051\n",
      "Epoch 12/200\n",
      "    \n"
     ]
    },
    {
     "name": "stderr",
     "output_type": "stream",
     "text": [
      "2017-03-20 23:42:49,264 : INFO : Found lower val loss for epoch 12 => 0.00506\n"
     ]
    },
    {
     "name": "stdout",
     "output_type": "stream",
     "text": [
      "120156/120156 [==============================] - 30s - loss: 0.0066 - val_loss: 0.0051\n",
      "Epoch 13/200\n",
      "    \n"
     ]
    },
    {
     "name": "stderr",
     "output_type": "stream",
     "text": [
      "2017-03-20 23:43:17,029 : INFO : Found lower val loss for epoch 13 => 0.00491\n"
     ]
    },
    {
     "name": "stdout",
     "output_type": "stream",
     "text": [
      "120156/120156 [==============================] - 27s - loss: 0.0065 - val_loss: 0.0049\n",
      "Epoch 14/200\n",
      "    \n"
     ]
    },
    {
     "name": "stderr",
     "output_type": "stream",
     "text": [
      "2017-03-20 23:43:42,836 : INFO : Found lower val loss for epoch 14 => 0.00483\n"
     ]
    },
    {
     "name": "stdout",
     "output_type": "stream",
     "text": [
      "120156/120156 [==============================] - 25s - loss: 0.0064 - val_loss: 0.0048\n",
      "Epoch 15/200\n",
      "    \n"
     ]
    },
    {
     "name": "stderr",
     "output_type": "stream",
     "text": [
      "2017-03-20 23:44:15,206 : INFO : Found lower val loss for epoch 15 => 0.00473\n"
     ]
    },
    {
     "name": "stdout",
     "output_type": "stream",
     "text": [
      "120156/120156 [==============================] - 32s - loss: 0.0063 - val_loss: 0.0047\n",
      "Epoch 16/200\n",
      "    \n"
     ]
    },
    {
     "name": "stderr",
     "output_type": "stream",
     "text": [
      "2017-03-20 23:44:44,984 : INFO : Found lower val loss for epoch 16 => 0.00468\n"
     ]
    },
    {
     "name": "stdout",
     "output_type": "stream",
     "text": [
      "120156/120156 [==============================] - 29s - loss: 0.0062 - val_loss: 0.0047\n",
      "Epoch 17/200\n",
      "    \n"
     ]
    },
    {
     "name": "stderr",
     "output_type": "stream",
     "text": [
      "2017-03-20 23:45:13,998 : INFO : Found lower val loss for epoch 17 => 0.00461\n"
     ]
    },
    {
     "name": "stdout",
     "output_type": "stream",
     "text": [
      "120156/120156 [==============================] - 29s - loss: 0.0061 - val_loss: 0.0046\n",
      "Epoch 18/200\n",
      "    \n"
     ]
    },
    {
     "name": "stderr",
     "output_type": "stream",
     "text": [
      "2017-03-20 23:45:42,812 : INFO : Found lower val loss for epoch 18 => 0.00456\n"
     ]
    },
    {
     "name": "stdout",
     "output_type": "stream",
     "text": [
      "120156/120156 [==============================] - 28s - loss: 0.0060 - val_loss: 0.0046\n",
      "Epoch 19/200\n",
      "    \n"
     ]
    },
    {
     "name": "stderr",
     "output_type": "stream",
     "text": [
      "2017-03-20 23:46:15,622 : INFO : Found lower val loss for epoch 19 => 0.00444\n"
     ]
    },
    {
     "name": "stdout",
     "output_type": "stream",
     "text": [
      "120156/120156 [==============================] - 32s - loss: 0.0059 - val_loss: 0.0044\n",
      "Epoch 20/200\n",
      "120156/120156 [==============================] - 31s - loss: 0.0059 - val_loss: 0.0045\n",
      "Epoch 21/200\n",
      "    \n"
     ]
    },
    {
     "name": "stderr",
     "output_type": "stream",
     "text": [
      "2017-03-20 23:47:19,707 : INFO : Found lower val loss for epoch 21 => 0.00435\n"
     ]
    },
    {
     "name": "stdout",
     "output_type": "stream",
     "text": [
      "120156/120156 [==============================] - 32s - loss: 0.0058 - val_loss: 0.0043\n",
      "Epoch 22/200\n",
      "120156/120156 [==============================] - 31s - loss: 0.0057 - val_loss: 0.0044\n",
      "Epoch 23/200\n",
      "    \n"
     ]
    },
    {
     "name": "stderr",
     "output_type": "stream",
     "text": [
      "2017-03-20 23:48:22,600 : INFO : Found lower val loss for epoch 23 => 0.00428\n"
     ]
    },
    {
     "name": "stdout",
     "output_type": "stream",
     "text": [
      "120156/120156 [==============================] - 31s - loss: 0.0057 - val_loss: 0.0043\n",
      "Epoch 24/200\n",
      "    \n"
     ]
    },
    {
     "name": "stderr",
     "output_type": "stream",
     "text": [
      "2017-03-20 23:48:50,578 : INFO : Found lower val loss for epoch 24 => 0.00425\n"
     ]
    },
    {
     "name": "stdout",
     "output_type": "stream",
     "text": [
      "120156/120156 [==============================] - 27s - loss: 0.0057 - val_loss: 0.0042\n",
      "Epoch 25/200\n",
      "120156/120156 [==============================] - 29s - loss: 0.0056 - val_loss: 0.0044\n",
      "Epoch 26/200\n",
      "    \n"
     ]
    },
    {
     "name": "stderr",
     "output_type": "stream",
     "text": [
      "2017-03-20 23:49:50,759 : INFO : Found lower val loss for epoch 26 => 0.00415\n"
     ]
    },
    {
     "name": "stdout",
     "output_type": "stream",
     "text": [
      "120156/120156 [==============================] - 30s - loss: 0.0056 - val_loss: 0.0041\n",
      "Epoch 27/200\n",
      "120156/120156 [==============================] - 26s - loss: 0.0055 - val_loss: 0.0043\n",
      "Epoch 28/200\n",
      "    \n"
     ]
    },
    {
     "name": "stderr",
     "output_type": "stream",
     "text": [
      "2017-03-20 23:50:40,735 : INFO : Found lower val loss for epoch 28 => 0.00414\n"
     ]
    },
    {
     "name": "stdout",
     "output_type": "stream",
     "text": [
      "120156/120156 [==============================] - 23s - loss: 0.0055 - val_loss: 0.0041\n",
      "Epoch 29/200\n",
      "120156/120156 [==============================] - 24s - loss: 0.0054 - val_loss: 0.0042\n",
      "Epoch 30/200\n",
      "    \n"
     ]
    },
    {
     "name": "stderr",
     "output_type": "stream",
     "text": [
      "2017-03-20 23:51:26,559 : INFO : Found lower val loss for epoch 30 => 0.00409\n"
     ]
    },
    {
     "name": "stdout",
     "output_type": "stream",
     "text": [
      "120156/120156 [==============================] - 21s - loss: 0.0054 - val_loss: 0.0041\n",
      "Epoch 31/200\n",
      "120156/120156 [==============================] - 25s - loss: 0.0054 - val_loss: 0.0042\n",
      "Epoch 32/200\n",
      "120156/120156 [==============================] - 27s - loss: 0.0054 - val_loss: 0.0041\n",
      "Epoch 33/200\n",
      "    \n"
     ]
    },
    {
     "name": "stderr",
     "output_type": "stream",
     "text": [
      "2017-03-20 23:52:45,614 : INFO : Found lower val loss for epoch 33 => 0.00408\n"
     ]
    },
    {
     "name": "stdout",
     "output_type": "stream",
     "text": [
      "120156/120156 [==============================] - 25s - loss: 0.0053 - val_loss: 0.0041\n",
      "Epoch 34/200\n",
      "120156/120156 [==============================] - 26s - loss: 0.0053 - val_loss: 0.0041\n",
      "Epoch 35/200\n",
      "120156/120156 [==============================] - 27s - loss: 0.0053 - val_loss: 0.0041\n",
      "Epoch 36/200\n",
      "120156/120156 [==============================] - 26s - loss: 0.0052 - val_loss: 0.0041\n",
      "Epoch 37/200\n",
      "    \n"
     ]
    },
    {
     "name": "stderr",
     "output_type": "stream",
     "text": [
      "2017-03-20 23:54:33,964 : INFO : Found lower val loss for epoch 37 => 0.00405\n"
     ]
    },
    {
     "name": "stdout",
     "output_type": "stream",
     "text": [
      "120156/120156 [==============================] - 28s - loss: 0.0052 - val_loss: 0.0041\n",
      "Epoch 38/200\n",
      "    \n"
     ]
    },
    {
     "name": "stderr",
     "output_type": "stream",
     "text": [
      "2017-03-20 23:55:00,184 : INFO : Found lower val loss for epoch 38 => 0.00405\n"
     ]
    },
    {
     "name": "stdout",
     "output_type": "stream",
     "text": [
      "120156/120156 [==============================] - 26s - loss: 0.0052 - val_loss: 0.0040\n",
      "Epoch 39/200\n",
      "    \n"
     ]
    },
    {
     "name": "stderr",
     "output_type": "stream",
     "text": [
      "2017-03-20 23:55:27,523 : INFO : Found lower val loss for epoch 39 => 0.00398\n"
     ]
    },
    {
     "name": "stdout",
     "output_type": "stream",
     "text": [
      "120156/120156 [==============================] - 27s - loss: 0.0052 - val_loss: 0.0040\n",
      "Epoch 40/200\n",
      "120156/120156 [==============================] - 24s - loss: 0.0051 - val_loss: 0.0040\n",
      "Epoch 41/200\n",
      "    \n"
     ]
    },
    {
     "name": "stderr",
     "output_type": "stream",
     "text": [
      "2017-03-20 23:56:18,217 : INFO : Found lower val loss for epoch 41 => 0.00394\n"
     ]
    },
    {
     "name": "stdout",
     "output_type": "stream",
     "text": [
      "120156/120156 [==============================] - 25s - loss: 0.0051 - val_loss: 0.0039\n",
      "Epoch 42/200\n",
      "120156/120156 [==============================] - 23s - loss: 0.0051 - val_loss: 0.0041\n",
      "Epoch 43/200\n",
      "120156/120156 [==============================] - 24s - loss: 0.0051 - val_loss: 0.0040\n",
      "Epoch 44/200\n",
      "120156/120156 [==============================] - 27s - loss: 0.0051 - val_loss: 0.0040\n",
      "Epoch 45/200\n",
      "    \n"
     ]
    },
    {
     "name": "stderr",
     "output_type": "stream",
     "text": [
      "2017-03-20 23:57:56,963 : INFO : Found lower val loss for epoch 45 => 0.00393\n"
     ]
    },
    {
     "name": "stdout",
     "output_type": "stream",
     "text": [
      "120156/120156 [==============================] - 22s - loss: 0.0050 - val_loss: 0.0039\n",
      "Epoch 46/200\n",
      "120156/120156 [==============================] - 21s - loss: 0.0050 - val_loss: 0.0040\n",
      "Epoch 47/200\n",
      "120156/120156 [==============================] - 22s - loss: 0.0050 - val_loss: 0.0040\n",
      "Epoch 48/200\n",
      "120156/120156 [==============================] - 24s - loss: 0.0050 - val_loss: 0.0040\n",
      "Epoch 49/200\n",
      "120156/120156 [==============================] - 24s - loss: 0.0050 - val_loss: 0.0040\n",
      "Epoch 50/200\n",
      "120156/120156 [==============================] - 16s - loss: 0.0050 - val_loss: 0.0040\n",
      "Epoch 51/200\n",
      "120156/120156 [==============================] - 23s - loss: 0.0049 - val_loss: 0.0040\n",
      "Epoch 52/200\n",
      "    \n"
     ]
    },
    {
     "name": "stderr",
     "output_type": "stream",
     "text": [
      "2017-03-21 00:00:31,567 : INFO : Found lower val loss for epoch 52 => 0.00389\n"
     ]
    },
    {
     "name": "stdout",
     "output_type": "stream",
     "text": [
      "120156/120156 [==============================] - 21s - loss: 0.0049 - val_loss: 0.0039\n",
      "Epoch 53/200\n",
      "    \n"
     ]
    },
    {
     "name": "stderr",
     "output_type": "stream",
     "text": [
      "2017-03-21 00:00:53,914 : INFO : Found lower val loss for epoch 53 => 0.00389\n"
     ]
    },
    {
     "name": "stdout",
     "output_type": "stream",
     "text": [
      "120156/120156 [==============================] - 22s - loss: 0.0049 - val_loss: 0.0039\n",
      "Epoch 54/200\n",
      "120156/120156 [==============================] - 18s - loss: 0.0049 - val_loss: 0.0040\n",
      "Epoch 55/200\n",
      "120156/120156 [==============================] - 16s - loss: 0.0049 - val_loss: 0.0039\n",
      "Epoch 56/200\n",
      "120156/120156 [==============================] - 16s - loss: 0.0049 - val_loss: 0.0039\n",
      "Epoch 57/200\n",
      "120156/120156 [==============================] - 16s - loss: 0.0049 - val_loss: 0.0039\n",
      "Epoch 58/200\n",
      "120156/120156 [==============================] - 16s - loss: 0.0049 - val_loss: 0.0039\n",
      "Epoch 59/200\n",
      "120156/120156 [==============================] - 15s - loss: 0.0048 - val_loss: 0.0039\n",
      "Epoch 60/200\n",
      "120156/120156 [==============================] - 15s - loss: 0.0048 - val_loss: 0.0039\n",
      "Epoch 61/200\n",
      "120156/120156 [==============================] - 15s - loss: 0.0048 - val_loss: 0.0040\n",
      "Epoch 62/200\n",
      "120156/120156 [==============================] - 15s - loss: 0.0048 - val_loss: 0.0039\n",
      "Epoch 63/200\n",
      "120156/120156 [==============================] - 15s - loss: 0.0048 - val_loss: 0.0041"
     ]
    },
    {
     "name": "stderr",
     "output_type": "stream",
     "text": [
      "2017-03-21 00:03:35,686 : INFO : Evaluating on Training Data\n"
     ]
    },
    {
     "name": "stdout",
     "output_type": "stream",
     "text": [
      "\n",
      "Epoch 00062: early stopping\n",
      "CPU times: user 9min, sys: 13min 28s, total: 22min 28s\n",
      "Wall time: 26min 57s\n"
     ]
    },
    {
     "name": "stderr",
     "output_type": "stream",
     "text": [
      "2017-03-21 00:04:44,354 : INFO : Generating Training Metrics\n",
      "2017-03-21 00:05:38,460 : INFO : Evaluating on Validation Data using saved best weights\n"
     ]
    },
    {
     "name": "stdout",
     "output_type": "stream",
     "text": [
      "****** Training Metrics: Cov Err: 7.953 | Top 3: 0.697 | Top 5: 0.783 | F1 Micro: 0.531 | F1 Macro: 0.127\n"
     ]
    },
    {
     "name": "stderr",
     "output_type": "stream",
     "text": [
      "2017-03-21 00:05:52,364 : INFO : Generating Validation Metrics\n"
     ]
    },
    {
     "name": "stdout",
     "output_type": "stream",
     "text": [
      "****** Validation Metrics: Cov Err: 10.762 | Top 3: 0.684 | Top 5: 0.771 | F1 Micro: 0.503 | F1 Macro: 0.077\n"
     ]
    },
    {
     "name": "stderr",
     "output_type": "stream",
     "text": [
      "2017-03-21 00:06:03,036 : INFO : ***************************************************************************************\n",
      "2017-03-21 00:06:03,038 : INFO : lstm_optimizer_rmsprop_size_200_w-drop_0.4_u-drop_0.4_stack_3_conv_None\n"
     ]
    },
    {
     "name": "stdout",
     "output_type": "stream",
     "text": [
      "____________________________________________________________________________________________________\n",
      "Layer (type)                     Output Shape          Param #     Connected to                     \n",
      "====================================================================================================\n",
      "lstm_200_u-drop_0.4_w-drop_0.4_l (None, None, 200)     320800      lstm_input_20[0][0]              \n",
      "____________________________________________________________________________________________________\n",
      "lstm_200_u-drop_0.4_w-drop_0.4_l (None, None, 200)     320800      lstm_200_u-drop_0.4_w-drop_0.4_la\n",
      "____________________________________________________________________________________________________\n",
      "lstm_200_u-drop_0.4_w-drop_0.4_l (None, 200)           320800      lstm_200_u-drop_0.4_w-drop_0.4_la\n",
      "____________________________________________________________________________________________________\n",
      "sigmoid_output (Dense)           (None, 940)           188940      lstm_200_u-drop_0.4_w-drop_0.4_la\n",
      "====================================================================================================\n",
      "Total params: 1151340\n",
      "____________________________________________________________________________________________________\n",
      "Train on 120156 samples, validate on 29675 samples\n",
      "Epoch 1/200\n",
      "    \n"
     ]
    },
    {
     "name": "stderr",
     "output_type": "stream",
     "text": [
      "2017-03-21 00:07:19,353 : INFO : Found lower val loss for epoch 1 => 0.00909\n"
     ]
    },
    {
     "name": "stdout",
     "output_type": "stream",
     "text": [
      "120156/120156 [==============================] - 11s - loss: 0.0709 - val_loss: 0.0091\n",
      "Epoch 2/200\n",
      "    \n"
     ]
    },
    {
     "name": "stderr",
     "output_type": "stream",
     "text": [
      "2017-03-21 00:07:30,392 : INFO : Found lower val loss for epoch 2 => 0.00834\n"
     ]
    },
    {
     "name": "stdout",
     "output_type": "stream",
     "text": [
      "120156/120156 [==============================] - 11s - loss: 0.0104 - val_loss: 0.0083\n",
      "Epoch 3/200\n",
      "    \n"
     ]
    },
    {
     "name": "stderr",
     "output_type": "stream",
     "text": [
      "2017-03-21 00:07:40,964 : INFO : Found lower val loss for epoch 3 => 0.00821\n"
     ]
    },
    {
     "name": "stdout",
     "output_type": "stream",
     "text": [
      "120156/120156 [==============================] - 10s - loss: 0.0102 - val_loss: 0.0082\n",
      "Epoch 4/200\n",
      "    \n"
     ]
    },
    {
     "name": "stderr",
     "output_type": "stream",
     "text": [
      "2017-03-21 00:07:51,214 : INFO : Found lower val loss for epoch 4 => 0.00768\n"
     ]
    },
    {
     "name": "stdout",
     "output_type": "stream",
     "text": [
      "120156/120156 [==============================] - 10s - loss: 0.0098 - val_loss: 0.0077\n",
      "Epoch 5/200\n",
      "    \n"
     ]
    },
    {
     "name": "stderr",
     "output_type": "stream",
     "text": [
      "2017-03-21 00:08:01,518 : INFO : Found lower val loss for epoch 5 => 0.00721\n"
     ]
    },
    {
     "name": "stdout",
     "output_type": "stream",
     "text": [
      "120156/120156 [==============================] - 10s - loss: 0.0091 - val_loss: 0.0072\n",
      "Epoch 6/200\n",
      "    \n"
     ]
    },
    {
     "name": "stderr",
     "output_type": "stream",
     "text": [
      "2017-03-21 00:08:11,737 : INFO : Found lower val loss for epoch 6 => 0.00688\n"
     ]
    },
    {
     "name": "stdout",
     "output_type": "stream",
     "text": [
      "120156/120156 [==============================] - 10s - loss: 0.0087 - val_loss: 0.0069\n",
      "Epoch 7/200\n",
      "    \n"
     ]
    },
    {
     "name": "stderr",
     "output_type": "stream",
     "text": [
      "2017-03-21 00:08:21,985 : INFO : Found lower val loss for epoch 7 => 0.00659\n"
     ]
    },
    {
     "name": "stdout",
     "output_type": "stream",
     "text": [
      "120156/120156 [==============================] - 10s - loss: 0.0084 - val_loss: 0.0066\n",
      "Epoch 8/200\n",
      "    \n"
     ]
    },
    {
     "name": "stderr",
     "output_type": "stream",
     "text": [
      "2017-03-21 00:08:32,217 : INFO : Found lower val loss for epoch 8 => 0.00628\n"
     ]
    },
    {
     "name": "stdout",
     "output_type": "stream",
     "text": [
      "120156/120156 [==============================] - 10s - loss: 0.0081 - val_loss: 0.0063\n",
      "Epoch 9/200\n",
      "    \n"
     ]
    },
    {
     "name": "stderr",
     "output_type": "stream",
     "text": [
      "2017-03-21 00:08:42,676 : INFO : Found lower val loss for epoch 9 => 0.00597\n"
     ]
    },
    {
     "name": "stdout",
     "output_type": "stream",
     "text": [
      "120156/120156 [==============================] - 10s - loss: 0.0077 - val_loss: 0.0060\n",
      "Epoch 10/200\n",
      "    \n"
     ]
    },
    {
     "name": "stderr",
     "output_type": "stream",
     "text": [
      "2017-03-21 00:08:52,922 : INFO : Found lower val loss for epoch 10 => 0.00574\n"
     ]
    },
    {
     "name": "stdout",
     "output_type": "stream",
     "text": [
      "120156/120156 [==============================] - 10s - loss: 0.0075 - val_loss: 0.0057\n",
      "Epoch 11/200\n",
      "    \n"
     ]
    },
    {
     "name": "stderr",
     "output_type": "stream",
     "text": [
      "2017-03-21 00:09:03,143 : INFO : Found lower val loss for epoch 11 => 0.00553\n"
     ]
    },
    {
     "name": "stdout",
     "output_type": "stream",
     "text": [
      "120156/120156 [==============================] - 10s - loss: 0.0073 - val_loss: 0.0055\n",
      "Epoch 12/200\n",
      "    \n"
     ]
    },
    {
     "name": "stderr",
     "output_type": "stream",
     "text": [
      "2017-03-21 00:09:13,595 : INFO : Found lower val loss for epoch 12 => 0.00542\n"
     ]
    },
    {
     "name": "stdout",
     "output_type": "stream",
     "text": [
      "120156/120156 [==============================] - 10s - loss: 0.0071 - val_loss: 0.0054\n",
      "Epoch 13/200\n",
      "    \n"
     ]
    },
    {
     "name": "stderr",
     "output_type": "stream",
     "text": [
      "2017-03-21 00:09:23,932 : INFO : Found lower val loss for epoch 13 => 0.00527\n"
     ]
    },
    {
     "name": "stdout",
     "output_type": "stream",
     "text": [
      "120156/120156 [==============================] - 10s - loss: 0.0069 - val_loss: 0.0053\n",
      "Epoch 14/200\n",
      "    \n"
     ]
    },
    {
     "name": "stderr",
     "output_type": "stream",
     "text": [
      "2017-03-21 00:09:34,388 : INFO : Found lower val loss for epoch 14 => 0.0052\n"
     ]
    },
    {
     "name": "stdout",
     "output_type": "stream",
     "text": [
      "120156/120156 [==============================] - 10s - loss: 0.0068 - val_loss: 0.0052\n",
      "Epoch 15/200\n",
      "    \n"
     ]
    },
    {
     "name": "stderr",
     "output_type": "stream",
     "text": [
      "2017-03-21 00:09:44,717 : INFO : Found lower val loss for epoch 15 => 0.00509\n"
     ]
    },
    {
     "name": "stdout",
     "output_type": "stream",
     "text": [
      "120156/120156 [==============================] - 10s - loss: 0.0067 - val_loss: 0.0051\n",
      "Epoch 16/200\n",
      "    \n"
     ]
    },
    {
     "name": "stderr",
     "output_type": "stream",
     "text": [
      "2017-03-21 00:09:55,245 : INFO : Found lower val loss for epoch 16 => 0.005\n"
     ]
    },
    {
     "name": "stdout",
     "output_type": "stream",
     "text": [
      "120156/120156 [==============================] - 10s - loss: 0.0066 - val_loss: 0.0050\n",
      "Epoch 17/200\n",
      "    \n"
     ]
    },
    {
     "name": "stderr",
     "output_type": "stream",
     "text": [
      "2017-03-21 00:10:05,489 : INFO : Found lower val loss for epoch 17 => 0.00494\n"
     ]
    },
    {
     "name": "stdout",
     "output_type": "stream",
     "text": [
      "120156/120156 [==============================] - 10s - loss: 0.0065 - val_loss: 0.0049\n",
      "Epoch 18/200\n",
      "    \n"
     ]
    },
    {
     "name": "stderr",
     "output_type": "stream",
     "text": [
      "2017-03-21 00:10:16,003 : INFO : Found lower val loss for epoch 18 => 0.00487\n"
     ]
    },
    {
     "name": "stdout",
     "output_type": "stream",
     "text": [
      "120156/120156 [==============================] - 10s - loss: 0.0064 - val_loss: 0.0049\n",
      "Epoch 19/200\n",
      "    \n"
     ]
    },
    {
     "name": "stderr",
     "output_type": "stream",
     "text": [
      "2017-03-21 00:10:26,239 : INFO : Found lower val loss for epoch 19 => 0.00479\n"
     ]
    },
    {
     "name": "stdout",
     "output_type": "stream",
     "text": [
      "120156/120156 [==============================] - 10s - loss: 0.0063 - val_loss: 0.0048\n",
      "Epoch 20/200\n",
      "    \n"
     ]
    },
    {
     "name": "stderr",
     "output_type": "stream",
     "text": [
      "2017-03-21 00:10:36,561 : INFO : Found lower val loss for epoch 20 => 0.00477\n"
     ]
    },
    {
     "name": "stdout",
     "output_type": "stream",
     "text": [
      "120156/120156 [==============================] - 10s - loss: 0.0063 - val_loss: 0.0048\n",
      "Epoch 21/200\n",
      "    \n"
     ]
    },
    {
     "name": "stderr",
     "output_type": "stream",
     "text": [
      "2017-03-21 00:10:46,821 : INFO : Found lower val loss for epoch 21 => 0.00467\n"
     ]
    },
    {
     "name": "stdout",
     "output_type": "stream",
     "text": [
      "120156/120156 [==============================] - 10s - loss: 0.0062 - val_loss: 0.0047\n",
      "Epoch 22/200\n",
      "    \n"
     ]
    },
    {
     "name": "stderr",
     "output_type": "stream",
     "text": [
      "2017-03-21 00:10:57,043 : INFO : Found lower val loss for epoch 22 => 0.00465\n"
     ]
    },
    {
     "name": "stdout",
     "output_type": "stream",
     "text": [
      "120156/120156 [==============================] - 10s - loss: 0.0061 - val_loss: 0.0047\n",
      "Epoch 23/200\n",
      "    \n"
     ]
    },
    {
     "name": "stderr",
     "output_type": "stream",
     "text": [
      "2017-03-21 00:11:07,264 : INFO : Found lower val loss for epoch 23 => 0.0046\n"
     ]
    },
    {
     "name": "stdout",
     "output_type": "stream",
     "text": [
      "120156/120156 [==============================] - 10s - loss: 0.0061 - val_loss: 0.0046\n",
      "Epoch 24/200\n",
      "120156/120156 [==============================] - 10s - loss: 0.0060 - val_loss: 0.0046\n",
      "Epoch 25/200\n",
      "    \n"
     ]
    },
    {
     "name": "stderr",
     "output_type": "stream",
     "text": [
      "2017-03-21 00:11:27,752 : INFO : Found lower val loss for epoch 25 => 0.00453\n"
     ]
    },
    {
     "name": "stdout",
     "output_type": "stream",
     "text": [
      "120156/120156 [==============================] - 10s - loss: 0.0060 - val_loss: 0.0045\n",
      "Epoch 26/200\n",
      "    \n"
     ]
    },
    {
     "name": "stderr",
     "output_type": "stream",
     "text": [
      "2017-03-21 00:11:38,091 : INFO : Found lower val loss for epoch 26 => 0.00451\n"
     ]
    },
    {
     "name": "stdout",
     "output_type": "stream",
     "text": [
      "120156/120156 [==============================] - 10s - loss: 0.0059 - val_loss: 0.0045\n",
      "Epoch 27/200\n",
      "    \n"
     ]
    },
    {
     "name": "stderr",
     "output_type": "stream",
     "text": [
      "2017-03-21 00:11:49,085 : INFO : Found lower val loss for epoch 27 => 0.00447\n"
     ]
    },
    {
     "name": "stdout",
     "output_type": "stream",
     "text": [
      "120156/120156 [==============================] - 10s - loss: 0.0059 - val_loss: 0.0045\n",
      "Epoch 28/200\n",
      "    \n"
     ]
    },
    {
     "name": "stderr",
     "output_type": "stream",
     "text": [
      "2017-03-21 00:11:59,713 : INFO : Found lower val loss for epoch 28 => 0.00444\n"
     ]
    },
    {
     "name": "stdout",
     "output_type": "stream",
     "text": [
      "120156/120156 [==============================] - 10s - loss: 0.0058 - val_loss: 0.0044\n",
      "Epoch 29/200\n",
      "    \n"
     ]
    },
    {
     "name": "stderr",
     "output_type": "stream",
     "text": [
      "2017-03-21 00:12:10,369 : INFO : Found lower val loss for epoch 29 => 0.00438\n"
     ]
    },
    {
     "name": "stdout",
     "output_type": "stream",
     "text": [
      "120156/120156 [==============================] - 10s - loss: 0.0058 - val_loss: 0.0044\n",
      "Epoch 30/200\n",
      "    \n"
     ]
    },
    {
     "name": "stderr",
     "output_type": "stream",
     "text": [
      "2017-03-21 00:12:20,860 : INFO : Found lower val loss for epoch 30 => 0.00435\n"
     ]
    },
    {
     "name": "stdout",
     "output_type": "stream",
     "text": [
      "120156/120156 [==============================] - 10s - loss: 0.0058 - val_loss: 0.0044\n",
      "Epoch 31/200\n",
      "120156/120156 [==============================] - 10s - loss: 0.0057 - val_loss: 0.0044\n",
      "Epoch 32/200\n",
      "    \n"
     ]
    },
    {
     "name": "stderr",
     "output_type": "stream",
     "text": [
      "2017-03-21 00:12:41,637 : INFO : Found lower val loss for epoch 32 => 0.00434\n"
     ]
    },
    {
     "name": "stdout",
     "output_type": "stream",
     "text": [
      "120156/120156 [==============================] - 10s - loss: 0.0057 - val_loss: 0.0043\n",
      "Epoch 33/200\n",
      "120156/120156 [==============================] - 10s - loss: 0.0057 - val_loss: 0.0043\n",
      "Epoch 34/200\n",
      "    \n"
     ]
    },
    {
     "name": "stderr",
     "output_type": "stream",
     "text": [
      "2017-03-21 00:13:03,286 : INFO : Found lower val loss for epoch 34 => 0.00428\n"
     ]
    },
    {
     "name": "stdout",
     "output_type": "stream",
     "text": [
      "120156/120156 [==============================] - 10s - loss: 0.0056 - val_loss: 0.0043\n",
      "Epoch 35/200\n",
      "120156/120156 [==============================] - 13s - loss: 0.0056 - val_loss: 0.0043\n",
      "Epoch 36/200\n",
      "    \n"
     ]
    },
    {
     "name": "stderr",
     "output_type": "stream",
     "text": [
      "2017-03-21 00:13:27,839 : INFO : Found lower val loss for epoch 36 => 0.00426\n"
     ]
    },
    {
     "name": "stdout",
     "output_type": "stream",
     "text": [
      "120156/120156 [==============================] - 10s - loss: 0.0056 - val_loss: 0.0043\n",
      "Epoch 37/200\n",
      "    \n"
     ]
    },
    {
     "name": "stderr",
     "output_type": "stream",
     "text": [
      "2017-03-21 00:13:38,524 : INFO : Found lower val loss for epoch 37 => 0.0042\n"
     ]
    },
    {
     "name": "stdout",
     "output_type": "stream",
     "text": [
      "120156/120156 [==============================] - 10s - loss: 0.0056 - val_loss: 0.0042\n",
      "Epoch 38/200\n",
      "120156/120156 [==============================] - 10s - loss: 0.0055 - val_loss: 0.0043\n",
      "Epoch 39/200\n",
      "120156/120156 [==============================] - 9s - loss: 0.0055 - val_loss: 0.0042\n",
      "Epoch 40/200\n",
      "120156/120156 [==============================] - 10s - loss: 0.0055 - val_loss: 0.0042\n",
      "Epoch 41/200\n",
      "    \n"
     ]
    },
    {
     "name": "stderr",
     "output_type": "stream",
     "text": [
      "2017-03-21 00:14:19,184 : INFO : Found lower val loss for epoch 41 => 0.00419\n"
     ]
    },
    {
     "name": "stdout",
     "output_type": "stream",
     "text": [
      "120156/120156 [==============================] - 10s - loss: 0.0055 - val_loss: 0.0042\n",
      "Epoch 42/200\n",
      "120156/120156 [==============================] - 10s - loss: 0.0054 - val_loss: 0.0042\n",
      "Epoch 43/200\n",
      "    \n"
     ]
    },
    {
     "name": "stderr",
     "output_type": "stream",
     "text": [
      "2017-03-21 00:14:40,251 : INFO : Found lower val loss for epoch 43 => 0.00419\n"
     ]
    },
    {
     "name": "stdout",
     "output_type": "stream",
     "text": [
      "120156/120156 [==============================] - 10s - loss: 0.0054 - val_loss: 0.0042\n",
      "Epoch 44/200\n",
      "    \n"
     ]
    },
    {
     "name": "stderr",
     "output_type": "stream",
     "text": [
      "2017-03-21 00:14:50,793 : INFO : Found lower val loss for epoch 44 => 0.00415\n"
     ]
    },
    {
     "name": "stdout",
     "output_type": "stream",
     "text": [
      "120156/120156 [==============================] - 10s - loss: 0.0054 - val_loss: 0.0042\n",
      "Epoch 45/200\n",
      "120156/120156 [==============================] - 10s - loss: 0.0054 - val_loss: 0.0042\n",
      "Epoch 46/200\n",
      "    \n"
     ]
    },
    {
     "name": "stderr",
     "output_type": "stream",
     "text": [
      "2017-03-21 00:15:12,256 : INFO : Found lower val loss for epoch 46 => 0.00412\n"
     ]
    },
    {
     "name": "stdout",
     "output_type": "stream",
     "text": [
      "120156/120156 [==============================] - 10s - loss: 0.0054 - val_loss: 0.0041\n",
      "Epoch 47/200\n",
      "120156/120156 [==============================] - 10s - loss: 0.0054 - val_loss: 0.0041\n",
      "Epoch 48/200\n",
      "    \n"
     ]
    },
    {
     "name": "stderr",
     "output_type": "stream",
     "text": [
      "2017-03-21 00:15:33,345 : INFO : Found lower val loss for epoch 48 => 0.0041\n"
     ]
    },
    {
     "name": "stdout",
     "output_type": "stream",
     "text": [
      "120156/120156 [==============================] - 10s - loss: 0.0053 - val_loss: 0.0041\n",
      "Epoch 49/200\n",
      "120156/120156 [==============================] - 10s - loss: 0.0053 - val_loss: 0.0041\n",
      "Epoch 50/200\n",
      "120156/120156 [==============================] - 10s - loss: 0.0053 - val_loss: 0.0041\n",
      "Epoch 51/200\n",
      "120156/120156 [==============================] - 10s - loss: 0.0053 - val_loss: 0.0041\n",
      "Epoch 52/200\n",
      "120156/120156 [==============================] - 10s - loss: 0.0053 - val_loss: 0.0042\n",
      "Epoch 53/200\n",
      "    \n"
     ]
    },
    {
     "name": "stderr",
     "output_type": "stream",
     "text": [
      "2017-03-21 00:16:25,386 : INFO : Found lower val loss for epoch 53 => 0.00408\n"
     ]
    },
    {
     "name": "stdout",
     "output_type": "stream",
     "text": [
      "120156/120156 [==============================] - 10s - loss: 0.0053 - val_loss: 0.0041\n",
      "Epoch 54/200\n",
      "120156/120156 [==============================] - 10s - loss: 0.0053 - val_loss: 0.0041\n",
      "Epoch 55/200\n",
      "    \n"
     ]
    },
    {
     "name": "stderr",
     "output_type": "stream",
     "text": [
      "2017-03-21 00:16:46,224 : INFO : Found lower val loss for epoch 55 => 0.00407\n"
     ]
    },
    {
     "name": "stdout",
     "output_type": "stream",
     "text": [
      "120156/120156 [==============================] - 10s - loss: 0.0052 - val_loss: 0.0041\n",
      "Epoch 56/200\n",
      "120156/120156 [==============================] - 10s - loss: 0.0052 - val_loss: 0.0041\n",
      "Epoch 57/200\n",
      "    \n"
     ]
    },
    {
     "name": "stderr",
     "output_type": "stream",
     "text": [
      "2017-03-21 00:17:07,900 : INFO : Found lower val loss for epoch 57 => 0.00403\n"
     ]
    },
    {
     "name": "stdout",
     "output_type": "stream",
     "text": [
      "120156/120156 [==============================] - 10s - loss: 0.0052 - val_loss: 0.0040\n",
      "Epoch 58/200\n",
      "120156/120156 [==============================] - 10s - loss: 0.0052 - val_loss: 0.0041\n",
      "Epoch 59/200\n",
      "    \n"
     ]
    },
    {
     "name": "stderr",
     "output_type": "stream",
     "text": [
      "2017-03-21 00:17:29,873 : INFO : Found lower val loss for epoch 59 => 0.00402\n"
     ]
    },
    {
     "name": "stdout",
     "output_type": "stream",
     "text": [
      "120156/120156 [==============================] - 10s - loss: 0.0052 - val_loss: 0.0040\n",
      "Epoch 60/200\n",
      "120156/120156 [==============================] - 10s - loss: 0.0052 - val_loss: 0.0040\n",
      "Epoch 61/200\n",
      "120156/120156 [==============================] - 10s - loss: 0.0052 - val_loss: 0.0041\n",
      "Epoch 62/200\n",
      "120156/120156 [==============================] - 10s - loss: 0.0052 - val_loss: 0.0041\n",
      "Epoch 63/200\n",
      "    \n"
     ]
    },
    {
     "name": "stderr",
     "output_type": "stream",
     "text": [
      "2017-03-21 00:18:11,982 : INFO : Found lower val loss for epoch 63 => 0.00402\n"
     ]
    },
    {
     "name": "stdout",
     "output_type": "stream",
     "text": [
      "120156/120156 [==============================] - 10s - loss: 0.0051 - val_loss: 0.0040\n",
      "Epoch 64/200\n",
      "    \n"
     ]
    },
    {
     "name": "stderr",
     "output_type": "stream",
     "text": [
      "2017-03-21 00:18:24,690 : INFO : Found lower val loss for epoch 64 => 0.00396\n"
     ]
    },
    {
     "name": "stdout",
     "output_type": "stream",
     "text": [
      "120156/120156 [==============================] - 12s - loss: 0.0051 - val_loss: 0.0040\n",
      "Epoch 65/200\n",
      "120156/120156 [==============================] - 23s - loss: 0.0051 - val_loss: 0.0040\n",
      "Epoch 66/200\n",
      "120156/120156 [==============================] - 23s - loss: 0.0051 - val_loss: 0.0040\n",
      "Epoch 67/200\n",
      "120156/120156 [==============================] - 24s - loss: 0.0051 - val_loss: 0.0040\n",
      "Epoch 68/200\n",
      "120156/120156 [==============================] - 21s - loss: 0.0051 - val_loss: 0.0040\n",
      "Epoch 69/200\n",
      "120156/120156 [==============================] - 22s - loss: 0.0051 - val_loss: 0.0040\n",
      "Epoch 70/200\n",
      "120156/120156 [==============================] - 23s - loss: 0.0051 - val_loss: 0.0040\n",
      "Epoch 71/200\n",
      "120156/120156 [==============================] - 22s - loss: 0.0051 - val_loss: 0.0040\n",
      "Epoch 72/200\n",
      "120156/120156 [==============================] - 24s - loss: 0.0051 - val_loss: 0.0040\n",
      "Epoch 73/200\n",
      "120156/120156 [==============================] - 24s - loss: 0.0050 - val_loss: 0.0040\n",
      "Epoch 74/200\n",
      "    \n"
     ]
    },
    {
     "name": "stderr",
     "output_type": "stream",
     "text": [
      "2017-03-21 00:22:19,372 : INFO : Found lower val loss for epoch 74 => 0.00395\n"
     ]
    },
    {
     "name": "stdout",
     "output_type": "stream",
     "text": [
      "120156/120156 [==============================] - 24s - loss: 0.0050 - val_loss: 0.0040\n",
      "Epoch 75/200\n",
      "120156/120156 [==============================] - 23s - loss: 0.0050 - val_loss: 0.0040\n",
      "Epoch 76/200\n",
      "120156/120156 [==============================] - 23s - loss: 0.0050 - val_loss: 0.0040\n",
      "Epoch 77/200\n",
      "    \n"
     ]
    },
    {
     "name": "stderr",
     "output_type": "stream",
     "text": [
      "2017-03-21 00:23:30,528 : INFO : Found lower val loss for epoch 77 => 0.00394\n"
     ]
    },
    {
     "name": "stdout",
     "output_type": "stream",
     "text": [
      "120156/120156 [==============================] - 23s - loss: 0.0050 - val_loss: 0.0039\n",
      "Epoch 78/200\n",
      "    \n"
     ]
    },
    {
     "name": "stderr",
     "output_type": "stream",
     "text": [
      "2017-03-21 00:23:54,074 : INFO : Found lower val loss for epoch 78 => 0.00393\n"
     ]
    },
    {
     "name": "stdout",
     "output_type": "stream",
     "text": [
      "120156/120156 [==============================] - 23s - loss: 0.0050 - val_loss: 0.0039\n",
      "Epoch 79/200\n",
      "    \n"
     ]
    },
    {
     "name": "stderr",
     "output_type": "stream",
     "text": [
      "2017-03-21 00:24:18,203 : INFO : Found lower val loss for epoch 79 => 0.00391\n"
     ]
    },
    {
     "name": "stdout",
     "output_type": "stream",
     "text": [
      "120156/120156 [==============================] - 24s - loss: 0.0050 - val_loss: 0.0039\n",
      "Epoch 80/200\n",
      "120156/120156 [==============================] - 27s - loss: 0.0050 - val_loss: 0.0039\n",
      "Epoch 81/200\n",
      "120156/120156 [==============================] - 34s - loss: 0.0050 - val_loss: 0.0040\n",
      "Epoch 82/200\n",
      "120156/120156 [==============================] - 34s - loss: 0.0050 - val_loss: 0.0039\n",
      "Epoch 83/200\n",
      "120156/120156 [==============================] - 34s - loss: 0.0050 - val_loss: 0.0039\n",
      "Epoch 84/200\n",
      "120156/120156 [==============================] - 34s - loss: 0.0050 - val_loss: 0.0040\n",
      "Epoch 85/200\n",
      "    \n"
     ]
    },
    {
     "name": "stderr",
     "output_type": "stream",
     "text": [
      "2017-03-21 00:27:37,266 : INFO : Found lower val loss for epoch 85 => 0.0039\n"
     ]
    },
    {
     "name": "stdout",
     "output_type": "stream",
     "text": [
      "120156/120156 [==============================] - 34s - loss: 0.0050 - val_loss: 0.0039\n",
      "Epoch 86/200\n",
      "120156/120156 [==============================] - 28s - loss: 0.0050 - val_loss: 0.0039\n",
      "Epoch 87/200\n",
      "    \n"
     ]
    },
    {
     "name": "stderr",
     "output_type": "stream",
     "text": [
      "2017-03-21 00:28:37,706 : INFO : Found lower val loss for epoch 87 => 0.00389\n",
      "2017-03-21 00:28:37,709 : INFO : Validation Loss Reduced 50 times\n",
      "2017-03-21 00:28:37,711 : INFO : Evaluating on Validation Data\n",
      "2017-03-21 00:29:09,699 : INFO : Generating Validation Metrics\n"
     ]
    },
    {
     "name": "stdout",
     "output_type": "stream",
     "text": [
      "****** Validation Metrics: Cov Err: 11.051 | Top 3: 0.680 | Top 5: 0.767 | F1 Micro: 0.493 | F1 Macro: 0.071\n",
      "120156/120156 [==============================] - 74s - loss: 0.0049 - val_loss: 0.0039\n",
      "Epoch 88/200\n",
      "120156/120156 [==============================] - 30s - loss: 0.0049 - val_loss: 0.0039\n",
      "Epoch 89/200\n",
      "120156/120156 [==============================] - 28s - loss: 0.0049 - val_loss: 0.0039\n",
      "Epoch 90/200\n",
      "120156/120156 [==============================] - 31s - loss: 0.0049 - val_loss: 0.0040\n",
      "Epoch 91/200\n",
      "120156/120156 [==============================] - 30s - loss: 0.0049 - val_loss: 0.0039\n",
      "Epoch 92/200\n",
      "120156/120156 [==============================] - 31s - loss: 0.0049 - val_loss: 0.0039\n",
      "Epoch 93/200\n",
      "    \n"
     ]
    },
    {
     "name": "stderr",
     "output_type": "stream",
     "text": [
      "2017-03-21 00:32:25,333 : INFO : Found lower val loss for epoch 93 => 0.00389\n"
     ]
    },
    {
     "name": "stdout",
     "output_type": "stream",
     "text": [
      "120156/120156 [==============================] - 31s - loss: 0.0049 - val_loss: 0.0039\n",
      "Epoch 94/200\n",
      "120156/120156 [==============================] - 29s - loss: 0.0049 - val_loss: 0.0039\n",
      "Epoch 95/200\n",
      "    \n"
     ]
    },
    {
     "name": "stderr",
     "output_type": "stream",
     "text": [
      "2017-03-21 00:33:29,493 : INFO : Found lower val loss for epoch 95 => 0.00388\n"
     ]
    },
    {
     "name": "stdout",
     "output_type": "stream",
     "text": [
      "120156/120156 [==============================] - 34s - loss: 0.0049 - val_loss: 0.0039\n",
      "Epoch 96/200\n",
      "120156/120156 [==============================] - 33s - loss: 0.0049 - val_loss: 0.0039\n",
      "Epoch 97/200\n",
      "120156/120156 [==============================] - 33s - loss: 0.0049 - val_loss: 0.0039\n",
      "Epoch 98/200\n",
      "120156/120156 [==============================] - 34s - loss: 0.0049 - val_loss: 0.0039\n",
      "Epoch 99/200\n",
      "120156/120156 [==============================] - 33s - loss: 0.0049 - val_loss: 0.0039\n",
      "Epoch 100/200\n",
      "120156/120156 [==============================] - 32s - loss: 0.0049 - val_loss: 0.0039\n",
      "Epoch 101/200\n",
      "    \n"
     ]
    },
    {
     "name": "stderr",
     "output_type": "stream",
     "text": [
      "2017-03-21 00:36:52,215 : INFO : Found lower val loss for epoch 101 => 0.00384\n"
     ]
    },
    {
     "name": "stdout",
     "output_type": "stream",
     "text": [
      "120156/120156 [==============================] - 34s - loss: 0.0049 - val_loss: 0.0038\n",
      "Epoch 102/200\n",
      "120156/120156 [==============================] - 33s - loss: 0.0048 - val_loss: 0.0039\n",
      "Epoch 103/200\n",
      "120156/120156 [==============================] - 33s - loss: 0.0048 - val_loss: 0.0040\n",
      "Epoch 104/200\n",
      "120156/120156 [==============================] - 33s - loss: 0.0048 - val_loss: 0.0039\n",
      "Epoch 105/200\n",
      "120156/120156 [==============================] - 34s - loss: 0.0048 - val_loss: 0.0039\n",
      "Epoch 106/200\n",
      "120156/120156 [==============================] - 33s - loss: 0.0048 - val_loss: 0.0039\n",
      "Epoch 107/200\n",
      "120156/120156 [==============================] - 32s - loss: 0.0048 - val_loss: 0.0039\n",
      "Epoch 108/200\n",
      "120156/120156 [==============================] - 32s - loss: 0.0048 - val_loss: 0.0039\n",
      "Epoch 109/200\n",
      "120156/120156 [==============================] - 32s - loss: 0.0048 - val_loss: 0.0039\n",
      "Epoch 110/200\n",
      "120156/120156 [==============================] - 33s - loss: 0.0048 - val_loss: 0.0039\n",
      "Epoch 111/200\n",
      "120156/120156 [==============================] - 33s - loss: 0.0048 - val_loss: 0.0039\n",
      "Epoch 112/200\n",
      "120156/120156 [==============================] - 31s - loss: 0.0048 - val_loss: 0.0039"
     ]
    },
    {
     "name": "stderr",
     "output_type": "stream",
     "text": [
      "2017-03-21 00:42:57,558 : INFO : Evaluating on Training Data\n"
     ]
    },
    {
     "name": "stdout",
     "output_type": "stream",
     "text": [
      "\n",
      "Epoch 00111: early stopping\n",
      "CPU times: user 13min 28s, sys: 16min 48s, total: 30min 16s\n",
      "Wall time: 36min 51s\n"
     ]
    },
    {
     "name": "stderr",
     "output_type": "stream",
     "text": [
      "2017-03-21 00:44:29,490 : INFO : Generating Training Metrics\n",
      "2017-03-21 00:45:18,609 : INFO : Evaluating on Validation Data using saved best weights\n"
     ]
    },
    {
     "name": "stdout",
     "output_type": "stream",
     "text": [
      "****** Training Metrics: Cov Err: 7.995 | Top 3: 0.698 | Top 5: 0.784 | F1 Micro: 0.515 | F1 Macro: 0.107\n"
     ]
    },
    {
     "name": "stderr",
     "output_type": "stream",
     "text": [
      "2017-03-21 00:45:45,038 : INFO : Generating Validation Metrics\n"
     ]
    },
    {
     "name": "stdout",
     "output_type": "stream",
     "text": [
      "****** Validation Metrics: Cov Err: 10.767 | Top 3: 0.685 | Top 5: 0.771 | F1 Micro: 0.498 | F1 Macro: 0.078\n"
     ]
    },
    {
     "name": "stderr",
     "output_type": "stream",
     "text": [
      "2017-03-21 00:45:56,109 : INFO : ***************************************************************************************\n",
      "2017-03-21 00:45:56,112 : INFO : lstm_optimizer_rmsprop_size_500_w-drop_0.6_u-drop_0.4_stack_1_conv_None\n"
     ]
    },
    {
     "name": "stdout",
     "output_type": "stream",
     "text": [
      "____________________________________________________________________________________________________\n",
      "Layer (type)                     Output Shape          Param #     Connected to                     \n",
      "====================================================================================================\n",
      "lstm_500_u-drop_0.4_w-drop_0.6_l (None, 500)           1402000     lstm_input_21[0][0]              \n",
      "____________________________________________________________________________________________________\n",
      "sigmoid_output (Dense)           (None, 940)           470940      lstm_500_u-drop_0.4_w-drop_0.6_la\n",
      "====================================================================================================\n",
      "Total params: 1872940\n",
      "____________________________________________________________________________________________________\n",
      "Train on 120156 samples, validate on 29675 samples\n",
      "Epoch 1/200\n",
      "    \n"
     ]
    },
    {
     "name": "stderr",
     "output_type": "stream",
     "text": [
      "2017-03-21 00:46:35,170 : INFO : Found lower val loss for epoch 1 => 0.00834\n"
     ]
    },
    {
     "name": "stdout",
     "output_type": "stream",
     "text": [
      "120156/120156 [==============================] - 18s - loss: 0.0483 - val_loss: 0.0083\n",
      "Epoch 2/200\n",
      "    \n"
     ]
    },
    {
     "name": "stderr",
     "output_type": "stream",
     "text": [
      "2017-03-21 00:46:54,194 : INFO : Found lower val loss for epoch 2 => 0.00748\n"
     ]
    },
    {
     "name": "stdout",
     "output_type": "stream",
     "text": [
      "120156/120156 [==============================] - 19s - loss: 0.0099 - val_loss: 0.0075\n",
      "Epoch 3/200\n",
      "    \n"
     ]
    },
    {
     "name": "stderr",
     "output_type": "stream",
     "text": [
      "2017-03-21 00:47:13,995 : INFO : Found lower val loss for epoch 3 => 0.00644\n"
     ]
    },
    {
     "name": "stdout",
     "output_type": "stream",
     "text": [
      "120156/120156 [==============================] - 19s - loss: 0.0088 - val_loss: 0.0064\n",
      "Epoch 4/200\n",
      "    \n"
     ]
    },
    {
     "name": "stderr",
     "output_type": "stream",
     "text": [
      "2017-03-21 00:47:35,428 : INFO : Found lower val loss for epoch 4 => 0.00579\n"
     ]
    },
    {
     "name": "stdout",
     "output_type": "stream",
     "text": [
      "120156/120156 [==============================] - 21s - loss: 0.0080 - val_loss: 0.0058\n",
      "Epoch 5/200\n",
      "    \n"
     ]
    },
    {
     "name": "stderr",
     "output_type": "stream",
     "text": [
      "2017-03-21 00:47:57,008 : INFO : Found lower val loss for epoch 5 => 0.0055\n"
     ]
    },
    {
     "name": "stdout",
     "output_type": "stream",
     "text": [
      "120156/120156 [==============================] - 21s - loss: 0.0074 - val_loss: 0.0055\n",
      "Epoch 6/200\n",
      "    \n"
     ]
    },
    {
     "name": "stderr",
     "output_type": "stream",
     "text": [
      "2017-03-21 00:48:18,387 : INFO : Found lower val loss for epoch 6 => 0.00526\n"
     ]
    },
    {
     "name": "stdout",
     "output_type": "stream",
     "text": [
      "120156/120156 [==============================] - 21s - loss: 0.0071 - val_loss: 0.0053\n",
      "Epoch 7/200\n",
      "120156/120156 [==============================] - 21s - loss: 0.0068 - val_loss: 0.0054\n",
      "Epoch 8/200\n",
      "    \n"
     ]
    },
    {
     "name": "stderr",
     "output_type": "stream",
     "text": [
      "2017-03-21 00:49:01,608 : INFO : Found lower val loss for epoch 8 => 0.00482\n"
     ]
    },
    {
     "name": "stdout",
     "output_type": "stream",
     "text": [
      "120156/120156 [==============================] - 21s - loss: 0.0066 - val_loss: 0.0048\n",
      "Epoch 9/200\n",
      "120156/120156 [==============================] - 21s - loss: 0.0064 - val_loss: 0.0048\n",
      "Epoch 10/200\n",
      "120156/120156 [==============================] - 21s - loss: 0.0063 - val_loss: 0.0050\n",
      "Epoch 11/200\n",
      "    \n"
     ]
    },
    {
     "name": "stderr",
     "output_type": "stream",
     "text": [
      "2017-03-21 00:50:04,837 : INFO : Found lower val loss for epoch 11 => 0.00462\n"
     ]
    },
    {
     "name": "stdout",
     "output_type": "stream",
     "text": [
      "120156/120156 [==============================] - 20s - loss: 0.0062 - val_loss: 0.0046\n",
      "Epoch 12/200\n",
      "120156/120156 [==============================] - 18s - loss: 0.0061 - val_loss: 0.0048\n",
      "Epoch 13/200\n",
      "    \n"
     ]
    },
    {
     "name": "stderr",
     "output_type": "stream",
     "text": [
      "2017-03-21 00:50:44,483 : INFO : Found lower val loss for epoch 13 => 0.00443\n"
     ]
    },
    {
     "name": "stdout",
     "output_type": "stream",
     "text": [
      "120156/120156 [==============================] - 21s - loss: 0.0060 - val_loss: 0.0044\n",
      "Epoch 14/200\n",
      "120156/120156 [==============================] - 21s - loss: 0.0059 - val_loss: 0.0045\n",
      "Epoch 15/200\n",
      "120156/120156 [==============================] - 21s - loss: 0.0058 - val_loss: 0.0045\n",
      "Epoch 16/200\n",
      "    \n"
     ]
    },
    {
     "name": "stderr",
     "output_type": "stream",
     "text": [
      "2017-03-21 00:51:48,748 : INFO : Found lower val loss for epoch 16 => 0.0044\n"
     ]
    },
    {
     "name": "stdout",
     "output_type": "stream",
     "text": [
      "120156/120156 [==============================] - 21s - loss: 0.0058 - val_loss: 0.0044\n",
      "Epoch 17/200\n",
      "120156/120156 [==============================] - 21s - loss: 0.0057 - val_loss: 0.0046\n",
      "Epoch 18/200\n",
      "120156/120156 [==============================] - 20s - loss: 0.0057 - val_loss: 0.0044\n",
      "Epoch 19/200\n",
      "    \n"
     ]
    },
    {
     "name": "stderr",
     "output_type": "stream",
     "text": [
      "2017-03-21 00:52:52,843 : INFO : Found lower val loss for epoch 19 => 0.00421\n"
     ]
    },
    {
     "name": "stdout",
     "output_type": "stream",
     "text": [
      "120156/120156 [==============================] - 21s - loss: 0.0056 - val_loss: 0.0042\n",
      "Epoch 20/200\n",
      "120156/120156 [==============================] - 20s - loss: 0.0056 - val_loss: 0.0046\n",
      "Epoch 21/200\n",
      "    \n"
     ]
    },
    {
     "name": "stderr",
     "output_type": "stream",
     "text": [
      "2017-03-21 00:53:34,628 : INFO : Found lower val loss for epoch 21 => 0.00417\n"
     ]
    },
    {
     "name": "stdout",
     "output_type": "stream",
     "text": [
      "120156/120156 [==============================] - 21s - loss: 0.0055 - val_loss: 0.0042\n",
      "Epoch 22/200\n",
      "120156/120156 [==============================] - 18s - loss: 0.0055 - val_loss: 0.0046\n",
      "Epoch 23/200\n",
      "    \n"
     ]
    },
    {
     "name": "stderr",
     "output_type": "stream",
     "text": [
      "2017-03-21 00:54:06,274 : INFO : Found lower val loss for epoch 23 => 0.00408\n"
     ]
    },
    {
     "name": "stdout",
     "output_type": "stream",
     "text": [
      "120156/120156 [==============================] - 13s - loss: 0.0055 - val_loss: 0.0041\n",
      "Epoch 24/200\n",
      "120156/120156 [==============================] - 11s - loss: 0.0054 - val_loss: 0.0043\n",
      "Epoch 25/200\n",
      "120156/120156 [==============================] - 11s - loss: 0.0054 - val_loss: 0.0042\n",
      "Epoch 26/200\n",
      "120156/120156 [==============================] - 11s - loss: 0.0054 - val_loss: 0.0044\n",
      "Epoch 27/200\n",
      "120156/120156 [==============================] - 17s - loss: 0.0053 - val_loss: 0.0043\n",
      "Epoch 28/200\n",
      "120156/120156 [==============================] - 17s - loss: 0.0053 - val_loss: 0.0044\n",
      "Epoch 29/200\n",
      "120156/120156 [==============================] - 17s - loss: 0.0053 - val_loss: 0.0044\n",
      "Epoch 30/200\n",
      "120156/120156 [==============================] - 17s - loss: 0.0053 - val_loss: 0.0042\n",
      "Epoch 31/200\n",
      "120156/120156 [==============================] - 17s - loss: 0.0052 - val_loss: 0.0043\n",
      "Epoch 32/200\n",
      "120156/120156 [==============================] - 18s - loss: 0.0052 - val_loss: 0.0042\n",
      "Epoch 33/200\n",
      "    \n"
     ]
    },
    {
     "name": "stderr",
     "output_type": "stream",
     "text": [
      "2017-03-21 00:56:44,347 : INFO : Found lower val loss for epoch 33 => 0.00405\n"
     ]
    },
    {
     "name": "stdout",
     "output_type": "stream",
     "text": [
      "120156/120156 [==============================] - 17s - loss: 0.0052 - val_loss: 0.0040\n",
      "Epoch 34/200\n",
      "120156/120156 [==============================] - 18s - loss: 0.0052 - val_loss: 0.0042\n",
      "Epoch 35/200\n",
      "120156/120156 [==============================] - 17s - loss: 0.0051 - val_loss: 0.0042\n",
      "Epoch 36/200\n",
      "120156/120156 [==============================] - 18s - loss: 0.0051 - val_loss: 0.0043\n",
      "Epoch 37/200\n",
      "120156/120156 [==============================] - 18s - loss: 0.0051 - val_loss: 0.0042\n",
      "Epoch 38/200\n",
      "    \n"
     ]
    },
    {
     "name": "stderr",
     "output_type": "stream",
     "text": [
      "2017-03-21 00:58:15,539 : INFO : Found lower val loss for epoch 38 => 0.00402\n"
     ]
    },
    {
     "name": "stdout",
     "output_type": "stream",
     "text": [
      "120156/120156 [==============================] - 18s - loss: 0.0051 - val_loss: 0.0040\n",
      "Epoch 39/200\n",
      "120156/120156 [==============================] - 17s - loss: 0.0051 - val_loss: 0.0041\n",
      "Epoch 40/200\n",
      "    \n"
     ]
    },
    {
     "name": "stderr",
     "output_type": "stream",
     "text": [
      "2017-03-21 00:58:51,233 : INFO : Found lower val loss for epoch 40 => 0.00397\n"
     ]
    },
    {
     "name": "stdout",
     "output_type": "stream",
     "text": [
      "120156/120156 [==============================] - 18s - loss: 0.0050 - val_loss: 0.0040\n",
      "Epoch 41/200\n",
      "120156/120156 [==============================] - 18s - loss: 0.0050 - val_loss: 0.0041\n",
      "Epoch 42/200\n",
      "    \n"
     ]
    },
    {
     "name": "stderr",
     "output_type": "stream",
     "text": [
      "2017-03-21 00:59:28,414 : INFO : Found lower val loss for epoch 42 => 0.00396\n"
     ]
    },
    {
     "name": "stdout",
     "output_type": "stream",
     "text": [
      "120156/120156 [==============================] - 19s - loss: 0.0050 - val_loss: 0.0040\n",
      "Epoch 43/200\n",
      "120156/120156 [==============================] - 17s - loss: 0.0050 - val_loss: 0.0040\n",
      "Epoch 44/200\n",
      "120156/120156 [==============================] - 19s - loss: 0.0050 - val_loss: 0.0041\n",
      "Epoch 45/200\n",
      "    \n"
     ]
    },
    {
     "name": "stderr",
     "output_type": "stream",
     "text": [
      "2017-03-21 01:00:26,716 : INFO : Found lower val loss for epoch 45 => 0.00387\n"
     ]
    },
    {
     "name": "stdout",
     "output_type": "stream",
     "text": [
      "120156/120156 [==============================] - 20s - loss: 0.0050 - val_loss: 0.0039\n",
      "Epoch 46/200\n",
      "120156/120156 [==============================] - 20s - loss: 0.0050 - val_loss: 0.0040\n",
      "Epoch 47/200\n",
      "120156/120156 [==============================] - 20s - loss: 0.0049 - val_loss: 0.0040\n",
      "Epoch 48/200\n",
      "120156/120156 [==============================] - 20s - loss: 0.0049 - val_loss: 0.0039\n",
      "Epoch 49/200\n",
      "120156/120156 [==============================] - 20s - loss: 0.0049 - val_loss: 0.0041\n",
      "Epoch 50/200\n",
      "120156/120156 [==============================] - 19s - loss: 0.0049 - val_loss: 0.0040\n",
      "Epoch 51/200\n",
      "120156/120156 [==============================] - 20s - loss: 0.0049 - val_loss: 0.0039\n",
      "Epoch 52/200\n",
      "120156/120156 [==============================] - 19s - loss: 0.0049 - val_loss: 0.0039\n",
      "Epoch 53/200\n",
      "120156/120156 [==============================] - 20s - loss: 0.0049 - val_loss: 0.0040\n",
      "Epoch 54/200\n",
      "120156/120156 [==============================] - 20s - loss: 0.0049 - val_loss: 0.0040\n",
      "Epoch 55/200\n",
      "120156/120156 [==============================] - 20s - loss: 0.0048 - val_loss: 0.0040\n",
      "Epoch 56/200\n",
      "    \n"
     ]
    },
    {
     "name": "stderr",
     "output_type": "stream",
     "text": [
      "2017-03-21 01:04:08,037 : INFO : Found lower val loss for epoch 56 => 0.00381\n"
     ]
    },
    {
     "name": "stdout",
     "output_type": "stream",
     "text": [
      "120156/120156 [==============================] - 19s - loss: 0.0048 - val_loss: 0.0038\n",
      "Epoch 57/200\n",
      "120156/120156 [==============================] - 20s - loss: 0.0048 - val_loss: 0.0041\n",
      "Epoch 58/200\n",
      "120156/120156 [==============================] - 19s - loss: 0.0048 - val_loss: 0.0038\n",
      "Epoch 59/200\n",
      "120156/120156 [==============================] - 19s - loss: 0.0048 - val_loss: 0.0039\n",
      "Epoch 60/200\n",
      "120156/120156 [==============================] - 19s - loss: 0.0048 - val_loss: 0.0040\n",
      "Epoch 61/200\n",
      "120156/120156 [==============================] - 20s - loss: 0.0048 - val_loss: 0.0040\n",
      "Epoch 62/200\n",
      "120156/120156 [==============================] - 20s - loss: 0.0048 - val_loss: 0.0039\n",
      "Epoch 63/200\n",
      "120156/120156 [==============================] - 18s - loss: 0.0048 - val_loss: 0.0039\n",
      "Epoch 64/200\n",
      "120156/120156 [==============================] - 21s - loss: 0.0048 - val_loss: 0.0038\n",
      "Epoch 65/200\n",
      "120156/120156 [==============================] - 20s - loss: 0.0047 - val_loss: 0.0039\n",
      "Epoch 66/200\n",
      "120156/120156 [==============================] - 21s - loss: 0.0047 - val_loss: 0.0038\n",
      "Epoch 67/200\n",
      "120156/120156 [==============================] - 21s - loss: 0.0047 - val_loss: 0.0040"
     ]
    },
    {
     "name": "stderr",
     "output_type": "stream",
     "text": [
      "2017-03-21 01:07:52,091 : INFO : Evaluating on Training Data\n"
     ]
    },
    {
     "name": "stdout",
     "output_type": "stream",
     "text": [
      "\n",
      "Epoch 00066: early stopping\n",
      "CPU times: user 6min 12s, sys: 9min 20s, total: 15min 32s\n",
      "Wall time: 21min 54s\n"
     ]
    },
    {
     "name": "stderr",
     "output_type": "stream",
     "text": [
      "2017-03-21 01:09:04,587 : INFO : Generating Training Metrics\n",
      "2017-03-21 01:09:52,970 : INFO : Evaluating on Validation Data using saved best weights\n"
     ]
    },
    {
     "name": "stdout",
     "output_type": "stream",
     "text": [
      "****** Training Metrics: Cov Err: 6.779 | Top 3: 0.725 | Top 5: 0.809 | F1 Micro: 0.559 | F1 Macro: 0.264\n"
     ]
    },
    {
     "name": "stderr",
     "output_type": "stream",
     "text": [
      "2017-03-21 01:10:09,764 : INFO : Generating Validation Metrics\n"
     ]
    },
    {
     "name": "stdout",
     "output_type": "stream",
     "text": [
      "****** Validation Metrics: Cov Err: 10.114 | Top 3: 0.704 | Top 5: 0.791 | F1 Micro: 0.507 | F1 Macro: 0.116\n"
     ]
    }
   ],
   "source": [
    "param_sampler = ParameterSampler({\n",
    "    'lstm_output_size':lstm_output_sizes,\n",
    "    'w_dropout':w_dropout_options,\n",
    "    'u_dropout':u_dropout_options,\n",
    "    'stack_layers':stack_layers_options,\n",
    "    'conv_size':conv_size_options,\n",
    "}, n_iter=NN_RANDOM_SEARCH_BUDGET, random_state=NN_PARAM_SAMPLE_SEED)\n",
    "\n",
    "param_results_dict = {}\n",
    "if load_existing_results:\n",
    "    param_results_path = os.path.join(os.path.join(nn_parameter_search_location, GLOBAL_VARS.MODEL_NAME, \n",
    "                                       NN_PARAMETER_SEARCH_PREFIX.format(classifications_type, PARTS_LEVEL, NN_BATCH_SIZE)))\n",
    "    if os.path.exists(param_results_path):\n",
    "        param_results_dict = pickle.load(open(param_results_path))\n",
    "    else:\n",
    "        info('No Previous results exist in {}'.format(param_results_path))\n",
    "        \n",
    "# create nn parameter search directory\n",
    "if not os.path.exists(os.path.join(nn_parameter_search_location, GLOBAL_VARS.MODEL_NAME)):\n",
    "    os.makedirs(os.path.join(nn_parameter_search_location, GLOBAL_VARS.MODEL_NAME))\n",
    "        \n",
    "for parameters in param_sampler:\n",
    "    start_time = time.time()\n",
    "    lstm_output_size = parameters['lstm_output_size']\n",
    "    w_dropout_do = parameters['w_dropout']\n",
    "    u_dropout_do = parameters['u_dropout']\n",
    "    stack_layers = parameters['stack_layers']\n",
    "    conv_size = parameters['conv_size']\n",
    "\n",
    "    GLOBAL_VARS.NN_MODEL_NAME = 'lstm_optimizer_{}_size_{}_w-drop_{}_u-drop_{}_stack_{}_conv_{}'.format(NN_OPTIMIZER,\n",
    "        lstm_output_size,  w_dropout_do, u_dropout_do, stack_layers, str(conv_size)\n",
    "    )\n",
    "\n",
    "    if GLOBAL_VARS.NN_MODEL_NAME in param_results_dict.keys() or GLOBAL_VARS.NN_MODEL_NAME in to_skip:\n",
    "        print \"skipping: {}\".format(GLOBAL_VARS.NN_MODEL_NAME)\n",
    "        continue\n",
    "#         if first_hidden_layer_size < DOC2VEC_SIZE or second_hidden_layer_size < NN_OUTPUT_NEURONS:\n",
    "#             print \"skipping: {} due to 1st layer size {} < {} or 2nd layer size {} < {}\".format(GLOBAL_VARS.NN_MODEL_NAME,\n",
    "#                                                                                                 first_hidden_layer_size, DOC2VEC_SIZE, \n",
    "#                                                                                                 second_hidden_layer_size, NN_OUTPUT_NEURONS)\n",
    "#             continue\n",
    "\n",
    "\n",
    "    info('***************************************************************************************')\n",
    "    info(GLOBAL_VARS.NN_MODEL_NAME)\n",
    "\n",
    "    model = create_keras_rnn_model(DOC2VEC_SIZE, NN_OUTPUT_NEURONS, \n",
    "                                  lstm_output_size, w_dropout_do, u_dropout_do, stack_layers, conv_size)\n",
    "    model.summary()\n",
    "\n",
    "\n",
    "    early_stopper = keras.callbacks.EarlyStopping(monitor='val_loss', min_delta=EARLY_STOPPER_MIN_DELTA, \\\n",
    "                                                  patience=EARLY_STOPPER_PATIENCE, verbose=1, mode='auto')\n",
    "    metrics_callback = MetricsCallback()\n",
    "\n",
    "\n",
    "\n",
    "    # Model Fitting\n",
    "    %time history = model.fit(x=X, y=y, validation_data=(Xv,yv), batch_size=NN_BATCH_SIZE, \\\n",
    "                              nb_epoch=NN_MAX_EPOCHS, verbose=MODEL_VERBOSITY, \\\n",
    "                              callbacks=[early_stopper, metrics_callback])\n",
    "    \n",
    "    info('Evaluating on Training Data')\n",
    "    yp = model.predict(X)\n",
    "    yp_binary = get_binary_0_5(yp)\n",
    "    #print yvp\n",
    "    info('Generating Training Metrics')\n",
    "    training_metrics = get_metrics(y, yp, yp_binary)\n",
    "    print \"****** Training Metrics: Cov Err: {:.3f} | Top 3: {:.3f} | Top 5: {:.3f} | F1 Micro: {:.3f} | F1 Macro: {:.3f}\".format(\n",
    "    training_metrics['coverage_error'], training_metrics['top_3'], training_metrics['top_5'], \n",
    "    training_metrics['f1_micro'], training_metrics['f1_macro'])\n",
    "    \n",
    "    \n",
    "    info('Evaluating on Validation Data using saved best weights')\n",
    "    model.set_weights(metrics_callback.best_weights)\n",
    "    yvp = model.predict(Xv)\n",
    "    yvp_binary = get_binary_0_5(yvp)\n",
    "    #print yvp\n",
    "    info('Generating Validation Metrics')\n",
    "    validation_metrics = get_metrics(yv, yvp, yvp_binary)\n",
    "    print \"****** Validation Metrics: Cov Err: {:.3f} | Top 3: {:.3f} | Top 5: {:.3f} | F1 Micro: {:.3f} | F1 Macro: {:.3f}\".format(\n",
    "        validation_metrics['coverage_error'], validation_metrics['top_3'], validation_metrics['top_5'], \n",
    "        validation_metrics['f1_micro'], validation_metrics['f1_macro'])\n",
    "    best_validation_metrics = validation_metrics\n",
    "    time.sleep(0.2)\n",
    "    \n",
    "\n",
    "    param_results_dict[GLOBAL_VARS.NN_MODEL_NAME] = dict()\n",
    "    param_results_dict[GLOBAL_VARS.NN_MODEL_NAME]['best_validation_metrics'] = best_validation_metrics\n",
    "    param_results_dict[GLOBAL_VARS.NN_MODEL_NAME]['epochs'] = len(history.history['val_loss'])\n",
    "    param_results_dict[GLOBAL_VARS.NN_MODEL_NAME]['best_weights'] = metrics_callback.best_weights\n",
    "#         param_results_dict[GLOBAL_VARS.NN_MODEL_NAME]['last_weights'] = last_model_weights\n",
    "\n",
    "    duration = time.time() - start_time\n",
    "    param_results_dict[GLOBAL_VARS.NN_MODEL_NAME]['duration'] =  duration\n",
    "\n",
    "    del history, metrics_callback, model\n",
    "\n",
    "if save_results:\n",
    "    pickle.dump(param_results_dict, open(os.path.join(os.path.join(nn_parameter_search_location, GLOBAL_VARS.MODEL_NAME, \n",
    "                                                                   NN_PARAMETER_SEARCH_PREFIX.format(classifications_type, PARTS_LEVEL, NN_BATCH_SIZE))), 'w'))"
   ]
  },
  {
   "cell_type": "code",
   "execution_count": 51,
   "metadata": {
    "collapsed": false
   },
   "outputs": [
    {
     "name": "stdout",
     "output_type": "stream",
     "text": [
      "NameError: name 'model' is not defined\n"
     ]
    }
   ],
   "source": [
    "%xdel model\n",
    "import gc\n",
    "for i in range(3): gc.collect()"
   ]
  },
  {
   "cell_type": "code",
   "execution_count": 50,
   "metadata": {
    "collapsed": false
   },
   "outputs": [
    {
     "data": {
      "text/plain": [
       "['lstm_optimizer_rmsprop_size_200_w-drop_0.4_u-drop_0.2',\n",
       " 'lstm_optimizer_adam_size_300_w-drop_0.2_u-drop_0.3',\n",
       " 'lstm_optimizer_adam_size_200_w-drop_0.3_u-drop_0.2',\n",
       " 'lstm_optimizer_adam_size_200_w-drop_0.2_u-drop_0.3',\n",
       " 'lstm_optimizer_adam_size_200_w-drop_0.2_u-drop_0.2',\n",
       " 'lstm_optimizer_rmsprop_size_200_w-drop_0.2_u-drop_0.4']"
      ]
     },
     "execution_count": 50,
     "metadata": {},
     "output_type": "execute_result"
    }
   ],
   "source": [
    "param_results_dict.keys()"
   ]
  },
  {
   "cell_type": "code",
   "execution_count": 51,
   "metadata": {
    "collapsed": false
   },
   "outputs": [],
   "source": [
    "pickle.dump(param_results_dict, open(os.path.join(os.path.join(nn_parameter_search_location, GLOBAL_VARS.MODEL_NAME, \n",
    "                                                                   NN_PARAMETER_SEARCH_PREFIX.format(classifications_type, NN_BATCH_SIZE))), 'w'))"
   ]
  },
  {
   "cell_type": "code",
   "execution_count": 52,
   "metadata": {
    "collapsed": true
   },
   "outputs": [],
   "source": [
    "    # create nn parameter search directory\n",
    "    if not os.path.exists(os.path.join(nn_parameter_search_location, GLOBAL_VARS.MODEL_NAME)):\n",
    "        os.makedirs(os.path.join(nn_parameter_search_location, GLOBAL_VARS.MODEL_NAME))\n",
    "        "
   ]
  },
  {
   "cell_type": "code",
   "execution_count": 45,
   "metadata": {
    "collapsed": true
   },
   "outputs": [],
   "source": [
    "pickle.dump(param_results_dict, open(os.path.join(os.path.join(nn_parameter_search_location, GLOBAL_VARS.MODEL_NAME, \n",
    "                                                                   NN_PARAMETER_SEARCH_PREFIX.format(classifications_type, NN_BATCH_SIZE))), 'w'))"
   ]
  },
  {
   "cell_type": "code",
   "execution_count": 44,
   "metadata": {
    "collapsed": false
   },
   "outputs": [
    {
     "name": "stderr",
     "output_type": "stream",
     "text": [
      "2017-03-09 03:51:31,120 : INFO : Generating Training Metrics\n"
     ]
    },
    {
     "name": "stdout",
     "output_type": "stream",
     "text": [
      "CPU times: user 4min 6s, sys: 1min 35s, total: 5min 41s\n",
      "Wall time: 5min 41s\n",
      "CPU times: user 136 ms, sys: 40 ms, total: 176 ms\n",
      "Wall time: 172 ms\n"
     ]
    },
    {
     "name": "stderr",
     "output_type": "stream",
     "text": [
      "/home/stud/shalaby/.virtualenv/thesis-env/local/lib/python2.7/site-packages/sklearn/metrics/classification.py:1113: UndefinedMetricWarning: Precision is ill-defined and being set to 0.0 due to no predicted samples.\n",
      "  'precision', 'predicted', average, warn_for)\n",
      "/home/stud/shalaby/.virtualenv/thesis-env/local/lib/python2.7/site-packages/sklearn/metrics/classification.py:1113: UndefinedMetricWarning: Precision is ill-defined and being set to 0.0 in labels with no predicted samples.\n",
      "  'precision', 'predicted', average, warn_for)\n",
      "/home/stud/shalaby/.virtualenv/thesis-env/local/lib/python2.7/site-packages/sklearn/metrics/classification.py:1113: UndefinedMetricWarning: F-score is ill-defined and being set to 0.0 due to no predicted samples.\n",
      "  'precision', 'predicted', average, warn_for)\n",
      "/home/stud/shalaby/.virtualenv/thesis-env/local/lib/python2.7/site-packages/sklearn/metrics/classification.py:1113: UndefinedMetricWarning: F-score is ill-defined and being set to 0.0 in labels with no predicted samples.\n",
      "  'precision', 'predicted', average, warn_for)\n"
     ]
    },
    {
     "name": "stdout",
     "output_type": "stream",
     "text": [
      "****** Training Metrics: Cov Err: 2.940 | Top 3: 0.705 | Top 5: 0.910 | F1 Micro: 0.000 | F1 Macro: 0.000\n",
      "CPU times: user 4min 9s, sys: 1min 35s, total: 5min 44s\n",
      "Wall time: 5min 44s\n"
     ]
    }
   ],
   "source": [
    "%%time\n",
    "%time yp = model.predict(X)\n",
    "%time yp_binary = get_binary_0_5(yp)\n",
    "#print yvp\n",
    "info('Generating Training Metrics')\n",
    "training_metrics = get_metrics(y, yp, yp_binary)\n",
    "print \"****** Training Metrics: Cov Err: {:.3f} | Top 3: {:.3f} | Top 5: {:.3f} | F1 Micro: {:.3f} | F1 Macro: {:.3f}\".format(\n",
    "    training_metrics['coverage_error'], training_metrics['top_3'], training_metrics['top_5'], \n",
    "    training_metrics['f1_micro'], training_metrics['f1_macro'])"
   ]
  },
  {
   "cell_type": "code",
   "execution_count": 71,
   "metadata": {
    "collapsed": false
   },
   "outputs": [
    {
     "name": "stdout",
     "output_type": "stream",
     "text": [
      "Epoch 1/10\n",
      "20000/20000 [==============================] - 44s - loss: 0.2937    \n",
      "Epoch 2/10\n",
      "20000/20000 [==============================] - 44s - loss: 0.2882    \n",
      "Epoch 3/10\n",
      "20000/20000 [==============================] - 44s - loss: 0.2843    \n",
      "Epoch 4/10\n",
      "20000/20000 [==============================] - 44s - loss: 0.2808    \n",
      "Epoch 5/10\n",
      "20000/20000 [==============================] - 44s - loss: 0.2779    \n",
      "Epoch 6/10\n",
      "20000/20000 [==============================] - 44s - loss: 0.2743    \n",
      "Epoch 7/10\n",
      "20000/20000 [==============================] - 44s - loss: 0.2729    \n",
      "Epoch 8/10\n",
      "20000/20000 [==============================] - 44s - loss: 0.2684    \n",
      "Epoch 9/10\n",
      "20000/20000 [==============================] - 44s - loss: 0.2687    \n",
      "Epoch 10/10\n",
      "20000/20000 [==============================] - 44s - loss: 0.2713    \n"
     ]
    },
    {
     "data": {
      "text/plain": [
       "<keras.callbacks.History at 0x7f253497d250>"
      ]
     },
     "execution_count": 71,
     "metadata": {},
     "output_type": "execute_result"
    }
   ],
   "source": [
    "model.fit(x=X, y=y, batch_size=NN_BATCH_SIZE, \\\n",
    "                              nb_epoch=10, verbose=MODEL_VERBOSITY)"
   ]
  },
  {
   "cell_type": "code",
   "execution_count": 72,
   "metadata": {
    "collapsed": false
   },
   "outputs": [
    {
     "name": "stderr",
     "output_type": "stream",
     "text": [
      "2017-03-07 15:30:31,828 : INFO : Generating Training Metrics\n"
     ]
    },
    {
     "name": "stdout",
     "output_type": "stream",
     "text": [
      "CPU times: user 38.9 s, sys: 17.3 s, total: 56.2 s\n",
      "Wall time: 56.2 s\n",
      "CPU times: user 20 ms, sys: 4 ms, total: 24 ms\n",
      "Wall time: 23.7 ms\n",
      "****** Validation Metrics: Cov Err: 2.181 | Top 3: 0.853 | Top 5: 0.954 | F1 Micro: 0.541 | F1 Macro: 0.403\n",
      "CPU times: user 39.3 s, sys: 17.3 s, total: 56.7 s\n",
      "Wall time: 56.6 s\n"
     ]
    }
   ],
   "source": [
    "%%time\n",
    "%time yp = model.predict(X)\n",
    "%time yp_binary = get_binary_0_5(yp)\n",
    "#print yvp\n",
    "info('Generating Training Metrics')\n",
    "training_metrics = get_metrics(y, yp, yp_binary)\n",
    "print \"****** Training Metrics: Cov Err: {:.3f} | Top 3: {:.3f} | Top 5: {:.3f} | F1 Micro: {:.3f} | F1 Macro: {:.3f}\".format(\n",
    "    training_metrics['coverage_error'], training_metrics['top_3'], training_metrics['top_5'], \n",
    "    training_metrics['f1_micro'], training_metrics['f1_macro'])"
   ]
  },
  {
   "cell_type": "code",
   "execution_count": 73,
   "metadata": {
    "collapsed": false
   },
   "outputs": [
    {
     "name": "stdout",
     "output_type": "stream",
     "text": [
      "Epoch 1/20\n",
      "20000/20000 [==============================] - 44s - loss: 0.2643    \n",
      "Epoch 2/20\n",
      "20000/20000 [==============================] - 44s - loss: 0.2611    \n",
      "Epoch 3/20\n",
      "20000/20000 [==============================] - 44s - loss: 0.2612    \n",
      "Epoch 4/20\n",
      "20000/20000 [==============================] - 44s - loss: 0.2650    \n",
      "Epoch 5/20\n",
      "20000/20000 [==============================] - 44s - loss: 0.2597    \n",
      "Epoch 6/20\n",
      "20000/20000 [==============================] - 44s - loss: 0.2572    \n",
      "Epoch 7/20\n",
      "20000/20000 [==============================] - 44s - loss: 0.2551    \n",
      "Epoch 8/20\n",
      "20000/20000 [==============================] - 44s - loss: 0.2519    \n",
      "Epoch 9/20\n",
      "20000/20000 [==============================] - 44s - loss: 0.2484    \n",
      "Epoch 10/20\n",
      "20000/20000 [==============================] - 44s - loss: 0.2497    \n",
      "Epoch 11/20\n",
      "20000/20000 [==============================] - 44s - loss: 0.2501    \n",
      "Epoch 12/20\n",
      "20000/20000 [==============================] - 44s - loss: 0.2461    \n",
      "Epoch 13/20\n",
      "20000/20000 [==============================] - 44s - loss: 0.2460    \n",
      "Epoch 14/20\n",
      "20000/20000 [==============================] - 44s - loss: 0.2423    \n",
      "Epoch 15/20\n",
      "20000/20000 [==============================] - 44s - loss: 0.2408    \n",
      "Epoch 16/20\n",
      "20000/20000 [==============================] - 44s - loss: 0.2403    \n",
      "Epoch 17/20\n",
      "20000/20000 [==============================] - 44s - loss: 0.2477    \n",
      "Epoch 18/20\n",
      "20000/20000 [==============================] - 44s - loss: 0.2427    \n",
      "Epoch 19/20\n",
      "20000/20000 [==============================] - 44s - loss: 0.2396    \n",
      "Epoch 20/20\n",
      "20000/20000 [==============================] - 44s - loss: 0.2371    \n"
     ]
    },
    {
     "data": {
      "text/plain": [
       "<keras.callbacks.History at 0x7f2534933d90>"
      ]
     },
     "execution_count": 73,
     "metadata": {},
     "output_type": "execute_result"
    }
   ],
   "source": [
    "model.fit(x=X, y=y, batch_size=NN_BATCH_SIZE, \\\n",
    "                              nb_epoch=20, verbose=MODEL_VERBOSITY)"
   ]
  },
  {
   "cell_type": "code",
   "execution_count": 74,
   "metadata": {
    "collapsed": false
   },
   "outputs": [
    {
     "name": "stderr",
     "output_type": "stream",
     "text": [
      "2017-03-07 16:05:49,006 : INFO : Generating Training Metrics\n"
     ]
    },
    {
     "name": "stdout",
     "output_type": "stream",
     "text": [
      "CPU times: user 38 s, sys: 18.4 s, total: 56.4 s\n",
      "Wall time: 56.4 s\n",
      "CPU times: user 24 ms, sys: 0 ns, total: 24 ms\n",
      "Wall time: 23.7 ms\n",
      "****** Validation Metrics: Cov Err: 1.980 | Top 3: 0.887 | Top 5: 0.963 | F1 Micro: 0.628 | F1 Macro: 0.467\n",
      "CPU times: user 38.4 s, sys: 18.4 s, total: 56.9 s\n",
      "Wall time: 56.9 s\n"
     ]
    }
   ],
   "source": [
    "%%time\n",
    "%time yp = model.predict(X)\n",
    "%time yp_binary = get_binary_0_5(yp)\n",
    "#print yvp\n",
    "info('Generating Training Metrics')\n",
    "training_metrics = get_metrics(y, yp, yp_binary)\n",
    "print \"****** Validation Metrics: Cov Err: {:.3f} | Top 3: {:.3f} | Top 5: {:.3f} | F1 Micro: {:.3f} | F1 Macro: {:.3f}\".format(\n",
    "    training_metrics['coverage_error'], training_metrics['top_3'], training_metrics['top_5'], \n",
    "    training_metrics['f1_micro'], training_metrics['f1_macro'])"
   ]
  },
  {
   "cell_type": "code",
   "execution_count": null,
   "metadata": {
    "collapsed": true
   },
   "outputs": [],
   "source": []
  }
 ],
 "metadata": {
  "kernelspec": {
   "display_name": "Python 2",
   "language": "python",
   "name": "python2"
  },
  "language_info": {
   "codemirror_mode": {
    "name": "ipython",
    "version": 2
   },
   "file_extension": ".py",
   "mimetype": "text/x-python",
   "name": "python",
   "nbconvert_exporter": "python",
   "pygments_lexer": "ipython2",
   "version": "2.7.12"
  }
 },
 "nbformat": 4,
 "nbformat_minor": 0
}
