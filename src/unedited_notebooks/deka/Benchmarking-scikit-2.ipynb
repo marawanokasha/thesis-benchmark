{
 "cells": [
  {
   "cell_type": "code",
   "execution_count": 1,
   "metadata": {
    "collapsed": true
   },
   "outputs": [],
   "source": [
    "import json\n",
    "import nltk\n",
    "from nltk.tokenize import RegexpTokenizer\n",
    "import string\n",
    "import math\n",
    "import os\n",
    "import time\n",
    "import pandas as pd\n",
    "%matplotlib inline\n",
    "import matplotlib.pyplot as plt\n",
    "import matplotlib as mpl\n",
    "import numpy as np\n",
    "import random\n",
    "import cPickle as pickle\n",
    "\n",
    "from sklearn.metrics import coverage_error\n",
    "import sklearn.metrics\n",
    "from sklearn.multiclass import OneVsRestClassifier\n",
    "from sklearn import linear_model\n",
    "\n",
    "import logging\n",
    "from logging import info\n",
    "\n",
    "from thesis.utils.metrics import *"
   ]
  },
  {
   "cell_type": "code",
   "execution_count": 2,
   "metadata": {
    "collapsed": false
   },
   "outputs": [],
   "source": [
    "root = logging.getLogger()\n",
    "for handler in root.handlers[:]:\n",
    "    root.removeHandler(handler)\n",
    "logging.basicConfig(format='%(asctime)s : %(levelname)s : %(message)s', level=logging.INFO) # adds a default StreamHanlder\n",
    "#root.addHandler(logging.StreamHandler())"
   ]
  },
  {
   "cell_type": "code",
   "execution_count": 3,
   "metadata": {
    "collapsed": true
   },
   "outputs": [],
   "source": [
    "MIN_DOCUMENTS = 5\n",
    "TOP_N_FEATURES = 10000\n",
    "\n",
    "RANDOM_SEED = 10000\n",
    "random.seed(RANDOM_SEED)"
   ]
  },
  {
   "cell_type": "code",
   "execution_count": 4,
   "metadata": {
    "collapsed": true
   },
   "outputs": [],
   "source": [
    "SVM_SEED = 1234"
   ]
  },
  {
   "cell_type": "code",
   "execution_count": 15,
   "metadata": {
    "collapsed": true
   },
   "outputs": [],
   "source": [
    "SVM_ITERATIONS = 10\n",
    "SVM_CONVERGENCE = 0.001\n",
    "SVM_REG = 0.001\n",
    "SVM_CLASS_WEIGHTS = None\n",
    "SVM_MODEL_NAME = 'svm_iter_{}_reg_{}_classweights_{}'.format(SVM_ITERATIONS, SVM_REG, str(SVM_CLASS_WEIGHTS))\n",
    "\n",
    "CLASSIFIER_FILE = '{}_classifier.pkl'\n",
    "VALIDATION_METRICS_FILENAME= '{}_validation_metrics.pkl'\n",
    "TRAINING_METRICS_FILENAME = '{}_training_metrics.pkl'\n",
    "TEST_METRICS_FILENAME = '{}_test_metrics.pkl'"
   ]
  },
  {
   "cell_type": "code",
   "execution_count": 6,
   "metadata": {
    "collapsed": true
   },
   "outputs": [],
   "source": [
    "root_location = \"/big/s/shalaby/\"\n",
    "exports_location = root_location + \"exported_data/\"\n",
    "svm_location = root_location + \"benchmarking_svm/\"\n",
    "\n",
    "\n",
    "training_file = root_location + \"docs_output.json\"\n",
    "\n",
    "doc_classifications_map_file = exports_location + \"doc_classification_map.pkl\"\n",
    "classification_index_file = exports_location + \"classification_index.pkl\"\n",
    "sections_file = exports_location + \"sections.pkl\"\n",
    "classes_file = exports_location + \"classes.pkl\"\n",
    "subclasses_file = exports_location + \"subclasses.pkl\"\n",
    "valid_classes_file = exports_location + \"valid_classes.pkl\"\n",
    "valid_subclasses_file = exports_location + \"valid_subclasses.pkl\"\n",
    "classifications_output = exports_location + \"classifications.pkl\"\n",
    "training_docs_list_file = exports_location + \"training_docs_list.pkl\"\n",
    "validation_docs_list_file = exports_location + \"validation_docs_list.pkl\"\n",
    "test_docs_list_file = exports_location + \"test_docs_list.pkl\"\n"
   ]
  },
  {
   "cell_type": "code",
   "execution_count": 7,
   "metadata": {
    "collapsed": true
   },
   "outputs": [],
   "source": [
    "class OneHotEncoder():\n",
    "    \n",
    "    def __init__(self, classifications):\n",
    "        self.classifications = classifications\n",
    "        self.one_hot_indices = {}\n",
    "\n",
    "        # convert character classifications to bit vectors\n",
    "        for i, clssf in enumerate(classifications):\n",
    "            bits = [0] * len(classifications)\n",
    "            bits[i] = 1\n",
    "            self.one_hot_indices[clssf] = i\n",
    "    \n",
    "    def get_label_vector(self, labels):\n",
    "        \"\"\"\n",
    "        classes: array of string with the classes assigned to the instance\n",
    "        \"\"\"\n",
    "        output_vector = [0] * len(self.classifications)\n",
    "        for label in labels:\n",
    "            index = self.one_hot_indices[label]\n",
    "            output_vector[index] = 1\n",
    "            \n",
    "        return output_vector\n",
    "\n",
    "def get_label_data(classifications, doc_ids, doc_classification_map):\n",
    "    one_hot_encoder = OneHotEncoder(classifications)\n",
    "    data_labels = []\n",
    "    for i, doc_id in enumerate(doc_ids):\n",
    "        #if len(doc_classification_map[doc_id]) > 20: info(\"PROOOOBBBBBBBBBBBLEM \"+  str(doc_classification_map[doc_id]))\n",
    "        eligible_classifications = [clssf for clssf in doc_classification_map[doc_id] if clssf in classifications]\n",
    "        data_labels.append(one_hot_encoder.get_label_vector(eligible_classifications))\n",
    "        #if i % 1000 == 0: info(i)\n",
    "    data_labels = np.array(data_labels)\n",
    "    return data_labels"
   ]
  },
  {
   "cell_type": "markdown",
   "metadata": {},
   "source": [
    "#### Load Classification Objects"
   ]
  },
  {
   "cell_type": "code",
   "execution_count": 8,
   "metadata": {
    "collapsed": false
   },
   "outputs": [
    {
     "name": "stdout",
     "output_type": "stream",
     "text": [
      "CPU times: user 47.4 s, sys: 8.22 s, total: 55.6 s\n",
      "Wall time: 59.7 s\n"
     ]
    }
   ],
   "source": [
    "%%time\n",
    "doc_classification_map = pickle.load(open(doc_classifications_map_file))\n",
    "sections = pickle.load(open(sections_file))\n",
    "classes = pickle.load(open(classes_file))\n",
    "subclasses = pickle.load(open(subclasses_file))\n",
    "valid_classes = pickle.load(open(valid_classes_file))\n",
    "valid_subclasses = pickle.load(open(valid_subclasses_file))\n",
    "training_docs_list = pickle.load(open(training_docs_list_file))\n",
    "validation_docs_list = pickle.load(open(validation_docs_list_file))\n",
    "classifications_index = pickle.load(open(classification_index_file))"
   ]
  },
  {
   "cell_type": "code",
   "execution_count": 9,
   "metadata": {
    "collapsed": false
   },
   "outputs": [
    {
     "data": {
      "text/plain": [
       "244"
      ]
     },
     "execution_count": 9,
     "metadata": {},
     "output_type": "execute_result"
    }
   ],
   "source": [
    "len(valid_classes)"
   ]
  },
  {
   "cell_type": "code",
   "execution_count": 10,
   "metadata": {
    "collapsed": false
   },
   "outputs": [
    {
     "data": {
      "text/plain": [
       "940"
      ]
     },
     "execution_count": 10,
     "metadata": {},
     "output_type": "execute_result"
    }
   ],
   "source": [
    "len(valid_subclasses)"
   ]
  },
  {
   "cell_type": "markdown",
   "metadata": {},
   "source": [
    "#### Use this for classes and subclasses as we trained the classes and subclasses classifiers with the unordered list of classes and subclasses"
   ]
  },
  {
   "cell_type": "code",
   "execution_count": 9,
   "metadata": {
    "collapsed": true
   },
   "outputs": [],
   "source": [
    "INVALID_CLASSIFICATION_LIMIT = 3\n",
    "invalid_classes = set()\n",
    "invalid_subclasses = set()\n",
    "for clsf in classifications_index.keys():\n",
    "    if len(classifications_index[clsf]) < INVALID_CLASSIFICATION_LIMIT:\n",
    "        if clsf in classes:\n",
    "            invalid_classes.add(clsf)\n",
    "        if clsf in subclasses:\n",
    "            invalid_subclasses.add(clsf)\n",
    "valid_classes = list(set(classes) - invalid_classes)\n",
    "valid_subclasses = list(set(subclasses) - invalid_subclasses)"
   ]
  },
  {
   "cell_type": "markdown",
   "metadata": {},
   "source": [
    "## Training and Validation Loop"
   ]
  },
  {
   "cell_type": "code",
   "execution_count": null,
   "metadata": {
    "collapsed": true
   },
   "outputs": [],
   "source": [
    "classifications = valid_subclasses\n",
    "classifications_type = \"subclasses\""
   ]
  },
  {
   "cell_type": "code",
   "execution_count": null,
   "metadata": {
    "collapsed": false
   },
   "outputs": [
    {
     "name": "stderr",
     "output_type": "stream",
     "text": [
      "2017-01-30 14:28:34,556 : INFO : =============== bm25 Being Evaluated ================\n",
      "2017-01-30 14:28:34,557 : INFO : Getting Training Data\n"
     ]
    }
   ],
   "source": [
    "%%time\n",
    "#data_types = [\"bm25\", \"sublinear_tf_idf\", \"sublinear_tf\", \"tf_idf\", \"tf\"]\n",
    "data_types = [\"bm25\"]\n",
    "# data_types = [\"tf\"]\n",
    "for data_type in data_types:\n",
    "    info(\"=============== {} Being Evaluated ================\".format(data_type))\n",
    "    \n",
    "    data_training_location = exports_location + \"{}_training_sparse_data.pkl\".format(data_type)\n",
    "    data_training_docids_location = exports_location + \"{}_training_sparse_docids.pkl\".format(data_type)\n",
    "    data_validation_location = exports_location + \"{}_validation_sparse_data.pkl\".format(data_type)\n",
    "    data_validation_docids_location = exports_location + \"{}_validation_sparse_docids.pkl\".format(data_type)\n",
    "    \n",
    "    # Get the training data\n",
    "    info('Getting Training Data')\n",
    "    %time X = pickle.load(open(data_training_location, \"r\"))\n",
    "    training_data_docids = pickle.load(open(data_training_docids_location, \"r\"))\n",
    "    %time y = get_label_data(classifications, training_data_docids, doc_classification_map)\n",
    "    \n",
    "    print y\n",
    "    print y.shape\n",
    "\n",
    "    info('Training Classifier')\n",
    "    clf = OneVsRestClassifier(linear_model.SGDClassifier(loss='hinge', penalty='l2', \n",
    "                                                         #alpha is the 1/C parameter\n",
    "                                                         alpha=SVM_REG, fit_intercept=True, n_iter=SVM_ITERATIONS,\n",
    "                                                         #n_jobs=-1 means use all cpus\n",
    "                                                         shuffle=True, verbose=0, n_jobs=1,\n",
    "                                                         #eta0 is the learning rate when we use constant configuration\n",
    "                                                         random_state=SVM_SEED, learning_rate='optimal', eta0=0.0, \n",
    "                                                         class_weight=SVM_CLASS_WEIGHTS, warm_start=False), n_jobs=1)\n",
    "    %time clf.fit(X,y)\n",
    "    \n",
    "    # Training Metrics\n",
    "    info('Evaluating on Training Data')\n",
    "    %time yp = clf.predict(X)\n",
    "    %time yp_score = clf.decision_function(X)\n",
    "    print yp\n",
    "    info('Calculating training metrics')\n",
    "    training_metrics = get_metrics(y, yp_score, yp)\n",
    "    print \"** Training Metrics: Cov Err: {:.3f}, Avg Labels: {:.3f}, \\n\\t\\t Top 1: {:.3f}, Top 3: {:.3f}, Top 5: {:.3f}, \\n\\t\\t F1 Micro: {:.3f}, F1 Macro: {:.3f}, Total Pos: {:,d}\".format(\n",
    "        training_metrics['coverage_error'], training_metrics['average_num_of_labels'], \n",
    "        training_metrics['top_1'], training_metrics['top_3'], training_metrics['top_5'], \n",
    "        training_metrics['f1_micro'], training_metrics['f1_macro'], training_metrics['total_positive'])\n",
    "    \n",
    "    # Get the validation data\n",
    "    info('Getting Valdiation Data')\n",
    "    %time Xv = pickle.load(open(data_validation_location,'r'))\n",
    "    validation_data_docids = pickle.load(open(data_validation_docids_location, \"r\"))\n",
    "    %time yv = get_label_data(classifications, validation_data_docids, doc_classification_map)\n",
    "    \n",
    "    # Validation Metrics\n",
    "    info('Evaluating on Validation Data')\n",
    "    %time yvp = clf.predict(Xv)\n",
    "    %time yvp_score = clf.decision_function(Xv)\n",
    "    print yvp\n",
    "    validation_metrics = get_metrics(yv, yvp_score, yvp)\n",
    "    print \"** Validation Metrics: Cov Err: {:.3f}, Avg Labels: {:.3f}, \\n\\t\\t Top 1: {:.3f}, Top 3: {:.3f}, Top 5: {:.3f}, \\n\\t\\t F1 Micro: {:.3f}, F1 Macro: {:.3f}, Total Pos: {:,d}\".format(\n",
    "        validation_metrics['coverage_error'], validation_metrics['average_num_of_labels'], \n",
    "        validation_metrics['top_1'], validation_metrics['top_3'], validation_metrics['top_5'], \n",
    "        validation_metrics['f1_micro'], validation_metrics['f1_macro'], validation_metrics['total_positive'])\n",
    "    \n",
    "    # Dump the classifier and metrics\n",
    "    data_folder = os.path.join(svm_location, SVM_MODEL_NAME, data_type)\n",
    "    if not os.path.exists(data_folder):\n",
    "        os.makedirs(data_folder)\n",
    "    pickle.dump(clf, open(os.path.join(data_folder, CLASSIFIER_FILE.format(classifications_type)), \"w\"))\n",
    "    pickle.dump(training_metrics, open(os.path.join(data_folder, TRAINING_METRICS_FILENAME.format(classifications_type)), \"w\"))\n",
    "    pickle.dump(validation_metrics, open(os.path.join(data_folder, VALIDATION_METRICS_FILENAME.format(classifications_type)), \"w\"))\n",
    "    \n",
    "    del X, y, Xv, yv"
   ]
  },
  {
   "cell_type": "markdown",
   "metadata": {},
   "source": [
    "## Test"
   ]
  },
  {
   "cell_type": "code",
   "execution_count": 17,
   "metadata": {
    "collapsed": true
   },
   "outputs": [],
   "source": [
    "classifications = valid_subclasses\n",
    "classifications_type = \"subclasses\""
   ]
  },
  {
   "cell_type": "code",
   "execution_count": null,
   "metadata": {
    "collapsed": true
   },
   "outputs": [],
   "source": [
    "data_type = \"sublinear_tf\"\n",
    "data_folder = os.path.join(svm_location, SVM_MODEL_NAME, data_type)\n",
    "clf = pickle.load(open(os.path.join(data_folder, CLASSIFIER_FILE.format(classifications_type)), \"r\"))"
   ]
  },
  {
   "cell_type": "code",
   "execution_count": 20,
   "metadata": {
    "collapsed": false
   },
   "outputs": [
    {
     "name": "stderr",
     "output_type": "stream",
     "text": [
      "2017-02-01 20:13:23,931 : INFO : Getting Test Data\n"
     ]
    },
    {
     "name": "stdout",
     "output_type": "stream",
     "text": [
      "CPU times: user 4min, sys: 34.3 s, total: 4min 35s\n",
      "Wall time: 5min 7s\n",
      "CPU times: user 1min 50s, sys: 10.2 s, total: 2min\n",
      "Wall time: 2min 15s\n"
     ]
    }
   ],
   "source": [
    "data_test_location = exports_location + \"{}_test_sparse_data.pkl\".format(data_type)\n",
    "data_test_docids_location = exports_location + \"{}_test_sparse_docids.pkl\".format(data_type)\n",
    "\n",
    "# Get the test data\n",
    "info('Getting Test Data')\n",
    "%time Xt = pickle.load(open(data_test_location, \"r\"))\n",
    "test_data_docids = pickle.load(open(data_test_docids_location, \"r\"))\n",
    "%time yt = get_label_data(classifications, test_data_docids, doc_classification_map)\n"
   ]
  },
  {
   "cell_type": "code",
   "execution_count": 21,
   "metadata": {
    "collapsed": false
   },
   "outputs": [
    {
     "name": "stderr",
     "output_type": "stream",
     "text": [
      "2017-02-01 20:20:48,434 : INFO : Evaluating on Test Data\n"
     ]
    },
    {
     "name": "stdout",
     "output_type": "stream",
     "text": [
      "CPU times: user 9min 54s, sys: 25.3 s, total: 10min 19s\n",
      "Wall time: 11min 12s\n",
      "CPU times: user 10min 38s, sys: 37.2 s, total: 11min 15s\n",
      "Wall time: 12min 47s\n",
      "[[0 0 0 ..., 0 0 0]\n",
      " [0 0 0 ..., 0 0 0]\n",
      " [0 0 0 ..., 0 0 0]\n",
      " ..., \n",
      " [0 0 0 ..., 0 0 0]\n",
      " [0 0 0 ..., 0 0 0]\n",
      " [0 0 0 ..., 0 0 0]]\n"
     ]
    },
    {
     "name": "stderr",
     "output_type": "stream",
     "text": [
      "/home/s/shalaby/.virtualenv/thesis-env/local/lib/python2.7/site-packages/sklearn/metrics/classification.py:1076: UndefinedMetricWarning: Recall is ill-defined and being set to 0.0 due to no true samples.\n",
      "  'recall', 'true', average, warn_for)\n",
      "/home/s/shalaby/.virtualenv/thesis-env/local/lib/python2.7/site-packages/sklearn/metrics/classification.py:1076: UndefinedMetricWarning: F-score is ill-defined and being set to 0.0 due to no true samples.\n",
      "  'recall', 'true', average, warn_for)\n"
     ]
    },
    {
     "name": "stdout",
     "output_type": "stream",
     "text": [
      "CPU times: user 18min 35s, sys: 6min 48s, total: 25min 24s\n",
      "Wall time: 28min 18s\n",
      "** Test Metrics: Cov Err: 534.160, Avg Labels: 1.340, \n",
      "\t\t Top 1: 0.001, Top 3: 0.001, Top 5: 0.002, \n",
      "\t\t F1 Micro: 0.000, F1 Macro: 0.000, Total Pos: 188,328\n"
     ]
    }
   ],
   "source": [
    "# Test Metrics\n",
    "info('Evaluating on Test Data')\n",
    "%time ytp = clf.predict(Xt)\n",
    "%time ytp_score = clf.decision_function(Xt)\n",
    "print ytp\n",
    "%time test_metrics = get_metrics(yt, ytp_score, ytp)\n",
    "print \"** Test Metrics: Cov Err: {:.3f}, Avg Labels: {:.3f}, \\n\\t\\t Top 1: {:.3f}, Top 3: {:.3f}, Top 5: {:.3f}, \\n\\t\\t F1 Micro: {:.3f}, F1 Macro: {:.3f}, Total Pos: {:,d}\".format(\n",
    "    test_metrics['coverage_error'], test_metrics['average_num_of_labels'], \n",
    "    test_metrics['top_1'], test_metrics['top_3'], test_metrics['top_5'], \n",
    "    test_metrics['f1_micro'], test_metrics['f1_macro'], test_metrics['total_positive'])\n",
    "\n",
    "pickle.dump(test_metrics, open(os.path.join(data_folder, TEST_METRICS_FILENAME.format(classifications_type)), \"w\"))\n"
   ]
  },
  {
   "cell_type": "code",
   "execution_count": null,
   "metadata": {
    "collapsed": true
   },
   "outputs": [],
   "source": []
  }
 ],
 "metadata": {
  "kernelspec": {
   "display_name": "Python 2",
   "language": "python",
   "name": "python2"
  },
  "language_info": {
   "codemirror_mode": {
    "name": "ipython",
    "version": 2
   },
   "file_extension": ".py",
   "mimetype": "text/x-python",
   "name": "python",
   "nbconvert_exporter": "python",
   "pygments_lexer": "ipython2",
   "version": "2.7.11+"
  }
 },
 "nbformat": 4,
 "nbformat_minor": 0
}
