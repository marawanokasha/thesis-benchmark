{
 "cells": [
  {
   "cell_type": "code",
   "execution_count": 1,
   "metadata": {
    "collapsed": true
   },
   "outputs": [],
   "source": [
    "import json\n",
    "import nltk\n",
    "from nltk.tokenize import RegexpTokenizer\n",
    "import string\n",
    "import math\n",
    "import os\n",
    "import time\n",
    "import pandas as pd\n",
    "%matplotlib inline\n",
    "import matplotlib.pyplot as plt\n",
    "import matplotlib as mpl\n",
    "import numpy as np\n",
    "import random\n",
    "import cPickle as pickle\n",
    "import gzip\n",
    "\n",
    "from sklearn.metrics import coverage_error\n",
    "import sklearn.metrics\n",
    "from sklearn.multiclass import OneVsRestClassifier\n",
    "from sklearn import linear_model\n",
    "\n",
    "from sklearn.decomposition import LatentDirichletAllocation\n",
    "\n",
    "import logging\n",
    "from logging import info\n",
    "\n",
    "from thesis.utils.metrics import *"
   ]
  },
  {
   "cell_type": "code",
   "execution_count": 2,
   "metadata": {
    "collapsed": false
   },
   "outputs": [],
   "source": [
    "root = logging.getLogger()\n",
    "for handler in root.handlers[:]:\n",
    "    root.removeHandler(handler)\n",
    "logging.basicConfig(format='%(asctime)s : %(levelname)s : %(message)s', level=logging.INFO) # adds a default StreamHanlder\n",
    "#root.addHandler(logging.StreamHandler())"
   ]
  },
  {
   "cell_type": "code",
   "execution_count": 3,
   "metadata": {
    "collapsed": true
   },
   "outputs": [],
   "source": [
    "RANDOM_SEED = 10000\n",
    "random.seed(RANDOM_SEED)"
   ]
  },
  {
   "cell_type": "code",
   "execution_count": 4,
   "metadata": {
    "collapsed": true
   },
   "outputs": [],
   "source": [
    "SVM_SEED = 1234\n",
    "LDA_SEED = 1234"
   ]
  },
  {
   "cell_type": "code",
   "execution_count": 5,
   "metadata": {
    "collapsed": true
   },
   "outputs": [],
   "source": [
    "NUM_CORES = 24"
   ]
  },
  {
   "cell_type": "code",
   "execution_count": 6,
   "metadata": {
    "collapsed": true
   },
   "outputs": [],
   "source": [
    "MODEL_FILE = 'lda_model.pkl'\n",
    "VALIDATION_METRICS_FILENAME= '{}_validation_metrics.pkl'\n",
    "TRAINING_METRICS_FILENAME = '{}_training_metrics.pkl'\n",
    "TEST_METRICS_FILENAME = '{}_test_metrics.pkl'\n",
    "GZIP_EXTENSION = '.gz'"
   ]
  },
  {
   "cell_type": "code",
   "execution_count": 7,
   "metadata": {
    "collapsed": true
   },
   "outputs": [],
   "source": [
    "root_location = \"/big/s/shalaby/\"\n",
    "exports_location = root_location + \"exported_data/\"\n",
    "lda_location = root_location + \"extended_pv_lda/\"\n",
    "\n",
    "\n",
    "classifications_index_file = exports_location + \"classifications_index.pkl\"\n",
    "doc_classifications_map_file = exports_location + \"doc_classification_map.pkl\"\n",
    "sections_file = exports_location + \"sections.pkl\"\n",
    "classes_file = exports_location + \"classes.pkl\"\n",
    "subclasses_file = exports_location + \"subclasses.pkl\"\n",
    "valid_classes_file = exports_location + \"valid_classes.pkl\"\n",
    "valid_subclasses_file = exports_location + \"valid_subclasses.pkl\"\n",
    "classifications_output = exports_location + \"classifications.pkl\"\n",
    "training_docs_list_file = exports_location + \"training_docs_list.pkl\"\n",
    "validation_docs_list_file = exports_location + \"validation_docs_list.pkl\"\n",
    "test_docs_list_file = exports_location + \"test_docs_list.pkl\"\n",
    "# training_docs_list_file = exports_location + \"extended_pv_training_docs_list_\" + str(SAMPLE_RATIO) + \".pkl\"\n",
    "# validation_docs_list_file = exports_location + \"extended_pv_validation_docs_list_\" + str(SAMPLE_RATIO) + \".pkl\"\n",
    "# test_docs_list_file = exports_location + \"extended_pv_test_docs_list_\" + str(SAMPLE_RATIO) + \".pkl\"\n"
   ]
  },
  {
   "cell_type": "code",
   "execution_count": 8,
   "metadata": {
    "collapsed": true
   },
   "outputs": [],
   "source": [
    "class OneHotEncoder():\n",
    "    \n",
    "    def __init__(self, classifications):\n",
    "        self.classifications = classifications\n",
    "        self.one_hot_indices = {}\n",
    "\n",
    "        # convert character classifications to bit vectors\n",
    "        for i, clssf in enumerate(classifications):\n",
    "            bits = [0] * len(classifications)\n",
    "            bits[i] = 1\n",
    "            self.one_hot_indices[clssf] = i\n",
    "    \n",
    "    def get_label_vector(self, labels):\n",
    "        \"\"\"\n",
    "        classes: array of string with the classes assigned to the instance\n",
    "        \"\"\"\n",
    "        output_vector = [0] * len(self.classifications)\n",
    "        for label in labels:\n",
    "            index = self.one_hot_indices[label]\n",
    "            output_vector[index] = 1\n",
    "            \n",
    "        return output_vector\n",
    "\n",
    "def get_label_data(classifications, doc_ids, doc_classification_map):\n",
    "    one_hot_encoder = OneHotEncoder(classifications)\n",
    "    classifications_set = set(classifications)\n",
    "    data_labels = []\n",
    "    for i, doc_id in enumerate(doc_ids):\n",
    "        #if len(doc_classification_map[doc_id]) > 20: info(\"PROOOOBBBBBBBBBBBLEM \"+  str(doc_classification_map[doc_id]))\n",
    "#         eligible_classifications = [clssf for clssf in doc_classification_map[doc_id] if clssf in classifications]\n",
    "        eligible_classifications = set(doc_classification_map[doc_id]) & classifications_set\n",
    "        data_labels.append(one_hot_encoder.get_label_vector(eligible_classifications))\n",
    "        #if i % 1000 == 0: info(i)\n",
    "    data_labels = np.array(data_labels, dtype=np.int8)\n",
    "    return data_labels"
   ]
  },
  {
   "cell_type": "markdown",
   "metadata": {},
   "source": [
    "#### Load Classification Objects"
   ]
  },
  {
   "cell_type": "code",
   "execution_count": 9,
   "metadata": {
    "collapsed": false
   },
   "outputs": [
    {
     "name": "stdout",
     "output_type": "stream",
     "text": [
      "CPU times: user 46.7 s, sys: 3.81 s, total: 50.5 s\n",
      "Wall time: 51 s\n"
     ]
    }
   ],
   "source": [
    "%%time\n",
    "doc_classification_map = pickle.load(open(doc_classifications_map_file))\n",
    "sections = pickle.load(open(sections_file))\n",
    "classes = pickle.load(open(classes_file))\n",
    "subclasses = pickle.load(open(subclasses_file))\n",
    "valid_classes = pickle.load(open(valid_classes_file))\n",
    "valid_subclasses = pickle.load(open(valid_subclasses_file))\n",
    "training_docs_list = pickle.load(open(training_docs_list_file))\n",
    "validation_docs_list = pickle.load(open(validation_docs_list_file))\n",
    "test_docs_list = pickle.load(open(test_docs_list_file))\n",
    "classifications_index = pickle.load(open(classifications_index_file))"
   ]
  },
  {
   "cell_type": "code",
   "execution_count": 10,
   "metadata": {
    "collapsed": false
   },
   "outputs": [
    {
     "data": {
      "text/plain": [
       "244"
      ]
     },
     "execution_count": 10,
     "metadata": {},
     "output_type": "execute_result"
    }
   ],
   "source": [
    "len(valid_classes)"
   ]
  },
  {
   "cell_type": "code",
   "execution_count": 11,
   "metadata": {
    "collapsed": false
   },
   "outputs": [
    {
     "data": {
      "text/plain": [
       "940"
      ]
     },
     "execution_count": 11,
     "metadata": {},
     "output_type": "execute_result"
    }
   ],
   "source": [
    "len(valid_subclasses)"
   ]
  },
  {
   "cell_type": "markdown",
   "metadata": {},
   "source": [
    "## Training and Validation Loop"
   ]
  },
  {
   "cell_type": "code",
   "execution_count": 12,
   "metadata": {
    "collapsed": true
   },
   "outputs": [],
   "source": [
    "LDA_TOPICS = 1000\n",
    "LDA_ITERATIONS = 50\n",
    "LDA_BATCH_SIZE = 4096\n",
    "LDA_DECAY = 0.5\n",
    "LDA_EVALUATE_EVERY = 1000\n",
    "LDA_VERBOSE = 2\n",
    "LDA_LEARNING_METHOD = 'online'\n",
    "LDA_MODEL_NAME = \"lda_{}_topics_{}_iter_{}_batch_{}_decay_{}_evaluate-every_{}\".format(LDA_LEARNING_METHOD, \n",
    "                                                                                       LDA_TOPICS, LDA_ITERATIONS,\n",
    "                                                                                       LDA_BATCH_SIZE, LDA_DECAY, \n",
    "                                                                                       LDA_EVALUATE_EVERY)"
   ]
  },
  {
   "cell_type": "code",
   "execution_count": null,
   "metadata": {
    "collapsed": false,
    "scrolled": true
   },
   "outputs": [
    {
     "name": "stderr",
     "output_type": "stream",
     "text": [
      "2017-04-06 13:47:36,031 : INFO : =============== bm25 Being Evaluated ================\n",
      "2017-04-06 13:47:36,032 : INFO : Getting Training Data\n",
      "2017-04-06 14:00:20,073 : INFO : Doing LDA decomposition\n"
     ]
    },
    {
     "name": "stdout",
     "output_type": "stream",
     "text": [
      "CPU times: user 11min 15s, sys: 1min 28s, total: 12min 43s\n",
      "Wall time: 12min 44s\n",
      "(1286325, 10000)\n"
     ]
    },
    {
     "name": "stderr",
     "output_type": "stream",
     "text": [
      "[Parallel(n_jobs=24)]: Done  24 out of  24 | elapsed:  6.5min finished\n",
      "[Parallel(n_jobs=24)]: Done  24 out of  24 | elapsed:  4.6min finished\n",
      "[Parallel(n_jobs=24)]: Done  24 out of  24 | elapsed:  4.0min finished\n",
      "[Parallel(n_jobs=24)]: Done  24 out of  24 | elapsed:  3.9min finished\n",
      "[Parallel(n_jobs=24)]: Done  24 out of  24 | elapsed:  3.7min finished\n",
      "[Parallel(n_jobs=24)]: Done  24 out of  24 | elapsed:  3.7min finished\n",
      "[Parallel(n_jobs=24)]: Done  24 out of  24 | elapsed:  3.6min finished\n",
      "[Parallel(n_jobs=24)]: Done  24 out of  24 | elapsed:  3.7min finished\n",
      "[Parallel(n_jobs=24)]: Done  24 out of  24 | elapsed:  3.5min finished\n",
      "[Parallel(n_jobs=24)]: Done  24 out of  24 | elapsed:  3.6min finished\n",
      "[Parallel(n_jobs=24)]: Done  24 out of  24 | elapsed:  3.5min finished\n",
      "[Parallel(n_jobs=24)]: Done  24 out of  24 | elapsed:  3.5min finished\n",
      "[Parallel(n_jobs=24)]: Done  24 out of  24 | elapsed:  3.4min finished\n",
      "[Parallel(n_jobs=24)]: Done  24 out of  24 | elapsed:  3.4min finished\n",
      "[Parallel(n_jobs=24)]: Done  24 out of  24 | elapsed:  3.4min finished\n",
      "[Parallel(n_jobs=24)]: Done  24 out of  24 | elapsed:  3.3min finished\n",
      "[Parallel(n_jobs=24)]: Done  24 out of  24 | elapsed:  3.2min finished\n",
      "[Parallel(n_jobs=24)]: Done  24 out of  24 | elapsed:  3.4min finished\n",
      "[Parallel(n_jobs=24)]: Done  24 out of  24 | elapsed:  3.2min finished\n",
      "[Parallel(n_jobs=24)]: Done  24 out of  24 | elapsed:  3.3min finished\n",
      "[Parallel(n_jobs=24)]: Done  24 out of  24 | elapsed:  3.3min finished\n",
      "[Parallel(n_jobs=24)]: Done  24 out of  24 | elapsed:  3.1min finished\n",
      "[Parallel(n_jobs=24)]: Done  24 out of  24 | elapsed:  3.2min finished\n",
      "[Parallel(n_jobs=24)]: Done  24 out of  24 | elapsed:  3.2min finished\n",
      "[Parallel(n_jobs=24)]: Done  24 out of  24 | elapsed:  3.1min finished\n",
      "[Parallel(n_jobs=24)]: Done  24 out of  24 | elapsed:  3.1min finished\n",
      "[Parallel(n_jobs=24)]: Done  24 out of  24 | elapsed:  3.1min finished\n",
      "[Parallel(n_jobs=24)]: Done  24 out of  24 | elapsed:  3.1min finished\n",
      "[Parallel(n_jobs=24)]: Done  24 out of  24 | elapsed:  3.1min finished\n",
      "[Parallel(n_jobs=24)]: Done  24 out of  24 | elapsed:  3.1min finished\n",
      "[Parallel(n_jobs=24)]: Done  24 out of  24 | elapsed:  3.1min finished\n",
      "[Parallel(n_jobs=24)]: Done  24 out of  24 | elapsed:  3.1min finished\n",
      "[Parallel(n_jobs=24)]: Done  24 out of  24 | elapsed:  3.1min finished\n",
      "[Parallel(n_jobs=24)]: Done  24 out of  24 | elapsed:  3.1min finished\n",
      "[Parallel(n_jobs=24)]: Done  24 out of  24 | elapsed:  3.7min finished\n",
      "[Parallel(n_jobs=24)]: Done  24 out of  24 | elapsed:  3.9min finished\n",
      "[Parallel(n_jobs=24)]: Done  24 out of  24 | elapsed:  3.4min finished\n",
      "[Parallel(n_jobs=24)]: Done  24 out of  24 | elapsed:  3.1min finished\n",
      "[Parallel(n_jobs=24)]: Done  24 out of  24 | elapsed:  3.2min finished\n",
      "[Parallel(n_jobs=24)]: Done  24 out of  24 | elapsed:  3.2min finished\n",
      "[Parallel(n_jobs=24)]: Done  24 out of  24 | elapsed:  3.1min finished\n",
      "[Parallel(n_jobs=24)]: Done  24 out of  24 | elapsed:  3.1min finished\n",
      "[Parallel(n_jobs=24)]: Done  24 out of  24 | elapsed:  3.2min finished\n",
      "[Parallel(n_jobs=24)]: Done  24 out of  24 | elapsed:  3.2min finished\n",
      "[Parallel(n_jobs=24)]: Done  24 out of  24 | elapsed:  3.2min finished\n",
      "[Parallel(n_jobs=24)]: Done  24 out of  24 | elapsed:  3.2min finished\n",
      "[Parallel(n_jobs=24)]: Done  24 out of  24 | elapsed:  3.1min finished\n",
      "[Parallel(n_jobs=24)]: Done  24 out of  24 | elapsed:  3.1min finished\n",
      "[Parallel(n_jobs=24)]: Done  24 out of  24 | elapsed:  3.2min finished\n",
      "[Parallel(n_jobs=24)]: Done  24 out of  24 | elapsed:  3.3min finished\n",
      "[Parallel(n_jobs=24)]: Done  24 out of  24 | elapsed:  3.1min finished\n",
      "[Parallel(n_jobs=24)]: Done  24 out of  24 | elapsed:  3.1min finished\n",
      "[Parallel(n_jobs=24)]: Done  24 out of  24 | elapsed:  3.1min finished\n",
      "[Parallel(n_jobs=24)]: Done  24 out of  24 | elapsed:  3.1min finished\n",
      "[Parallel(n_jobs=24)]: Done  24 out of  24 | elapsed:  3.2min finished\n",
      "[Parallel(n_jobs=24)]: Done  24 out of  24 | elapsed:  3.1min finished\n",
      "[Parallel(n_jobs=24)]: Done  24 out of  24 | elapsed:  3.2min finished\n",
      "[Parallel(n_jobs=24)]: Done  24 out of  24 | elapsed:  3.2min finished\n",
      "[Parallel(n_jobs=24)]: Done  24 out of  24 | elapsed:  3.1min finished\n",
      "[Parallel(n_jobs=24)]: Done  24 out of  24 | elapsed:  3.2min finished\n",
      "[Parallel(n_jobs=24)]: Done  24 out of  24 | elapsed:  3.2min finished\n",
      "[Parallel(n_jobs=24)]: Done  24 out of  24 | elapsed:  3.2min finished\n",
      "[Parallel(n_jobs=24)]: Done  24 out of  24 | elapsed:  3.2min finished\n",
      "[Parallel(n_jobs=24)]: Done  24 out of  24 | elapsed:  3.2min finished\n",
      "[Parallel(n_jobs=24)]: Done  24 out of  24 | elapsed:  3.2min finished\n",
      "[Parallel(n_jobs=24)]: Done  24 out of  24 | elapsed:  3.2min finished\n",
      "[Parallel(n_jobs=24)]: Done  24 out of  24 | elapsed:  3.2min finished\n",
      "[Parallel(n_jobs=24)]: Done  24 out of  24 | elapsed:  3.3min finished\n",
      "[Parallel(n_jobs=24)]: Done  24 out of  24 | elapsed:  3.3min finished\n",
      "[Parallel(n_jobs=24)]: Done  24 out of  24 | elapsed:  3.3min finished\n",
      "[Parallel(n_jobs=24)]: Done  24 out of  24 | elapsed:  3.3min finished\n",
      "[Parallel(n_jobs=24)]: Done  24 out of  24 | elapsed:  3.3min finished\n",
      "[Parallel(n_jobs=24)]: Done  24 out of  24 | elapsed:  3.4min finished\n",
      "[Parallel(n_jobs=24)]: Done  24 out of  24 | elapsed:  3.4min finished\n",
      "[Parallel(n_jobs=24)]: Done  24 out of  24 | elapsed:  3.2min finished\n",
      "[Parallel(n_jobs=24)]: Done  24 out of  24 | elapsed:  3.3min finished\n",
      "[Parallel(n_jobs=24)]: Done  24 out of  24 | elapsed:  3.3min finished\n",
      "[Parallel(n_jobs=24)]: Done  24 out of  24 | elapsed:  3.4min finished\n",
      "[Parallel(n_jobs=24)]: Done  24 out of  24 | elapsed:  3.2min finished\n",
      "[Parallel(n_jobs=24)]: Done  24 out of  24 | elapsed:  3.3min finished\n",
      "[Parallel(n_jobs=24)]: Done  24 out of  24 | elapsed:  3.2min finished\n",
      "[Parallel(n_jobs=24)]: Done  24 out of  24 | elapsed:  3.1min finished\n",
      "[Parallel(n_jobs=24)]: Done  24 out of  24 | elapsed:  3.1min finished\n",
      "[Parallel(n_jobs=24)]: Done  24 out of  24 | elapsed:  3.1min finished\n",
      "[Parallel(n_jobs=24)]: Done  24 out of  24 | elapsed:  2.9min finished\n",
      "[Parallel(n_jobs=24)]: Done  24 out of  24 | elapsed:  3.0min finished\n",
      "[Parallel(n_jobs=24)]: Done  24 out of  24 | elapsed:  3.2min finished\n",
      "[Parallel(n_jobs=24)]: Done  24 out of  24 | elapsed:  3.1min finished\n",
      "[Parallel(n_jobs=24)]: Done  24 out of  24 | elapsed:  3.1min finished\n",
      "[Parallel(n_jobs=24)]: Done  24 out of  24 | elapsed:  3.1min finished\n",
      "[Parallel(n_jobs=24)]: Done  24 out of  24 | elapsed:  3.1min finished\n",
      "[Parallel(n_jobs=24)]: Done  24 out of  24 | elapsed:  3.0min finished\n",
      "[Parallel(n_jobs=24)]: Done  24 out of  24 | elapsed:  3.1min finished\n",
      "[Parallel(n_jobs=24)]: Done  24 out of  24 | elapsed:  3.0min finished\n",
      "[Parallel(n_jobs=24)]: Done  24 out of  24 | elapsed:  3.2min finished\n",
      "[Parallel(n_jobs=24)]: Done  24 out of  24 | elapsed:  3.1min finished\n",
      "[Parallel(n_jobs=24)]: Done  24 out of  24 | elapsed:  3.1min finished\n",
      "[Parallel(n_jobs=24)]: Done  24 out of  24 | elapsed:  3.2min finished\n",
      "[Parallel(n_jobs=24)]: Done  24 out of  24 | elapsed:  3.1min finished\n",
      "[Parallel(n_jobs=24)]: Done  24 out of  24 | elapsed:  3.1min finished\n",
      "[Parallel(n_jobs=24)]: Done  24 out of  24 | elapsed:  3.1min finished\n",
      "[Parallel(n_jobs=24)]: Done  24 out of  24 | elapsed:  2.8min finished\n",
      "[Parallel(n_jobs=24)]: Done  24 out of  24 | elapsed:  2.7min finished\n",
      "[Parallel(n_jobs=24)]: Done  24 out of  24 | elapsed:  2.8min finished\n",
      "[Parallel(n_jobs=24)]: Done  24 out of  24 | elapsed:  2.9min finished\n",
      "[Parallel(n_jobs=24)]: Done  24 out of  24 | elapsed:  2.8min finished\n",
      "[Parallel(n_jobs=24)]: Done  24 out of  24 | elapsed:  2.8min finished\n",
      "[Parallel(n_jobs=24)]: Done  24 out of  24 | elapsed:  2.8min finished\n",
      "[Parallel(n_jobs=24)]: Done  24 out of  24 | elapsed:  2.9min finished\n",
      "[Parallel(n_jobs=24)]: Done  24 out of  24 | elapsed:  2.9min finished\n",
      "[Parallel(n_jobs=24)]: Done  24 out of  24 | elapsed:  2.8min finished\n",
      "[Parallel(n_jobs=24)]: Done  24 out of  24 | elapsed:  2.8min finished\n",
      "[Parallel(n_jobs=24)]: Done  24 out of  24 | elapsed:  2.8min finished\n",
      "[Parallel(n_jobs=24)]: Done  24 out of  24 | elapsed:  2.8min finished\n",
      "[Parallel(n_jobs=24)]: Done  24 out of  24 | elapsed:  2.9min finished\n",
      "[Parallel(n_jobs=24)]: Done  24 out of  24 | elapsed:  2.9min finished\n",
      "[Parallel(n_jobs=24)]: Done  24 out of  24 | elapsed:  2.7min finished\n",
      "[Parallel(n_jobs=24)]: Done  24 out of  24 | elapsed:  2.9min finished\n",
      "[Parallel(n_jobs=24)]: Done  24 out of  24 | elapsed:  2.9min finished\n",
      "[Parallel(n_jobs=24)]: Done  24 out of  24 | elapsed:  2.8min finished\n",
      "[Parallel(n_jobs=24)]: Done  24 out of  24 | elapsed:  2.7min finished\n",
      "[Parallel(n_jobs=24)]: Done  24 out of  24 | elapsed:  2.9min finished\n",
      "[Parallel(n_jobs=24)]: Done  24 out of  24 | elapsed:  2.7min finished\n",
      "[Parallel(n_jobs=24)]: Done  24 out of  24 | elapsed:  2.8min finished\n",
      "[Parallel(n_jobs=24)]: Done  24 out of  24 | elapsed:  2.8min finished\n",
      "[Parallel(n_jobs=24)]: Done  24 out of  24 | elapsed:  2.7min finished\n",
      "[Parallel(n_jobs=24)]: Done  24 out of  24 | elapsed:  2.7min finished\n",
      "[Parallel(n_jobs=24)]: Done  24 out of  24 | elapsed:  2.9min finished\n",
      "[Parallel(n_jobs=24)]: Done  24 out of  24 | elapsed:  2.8min finished\n",
      "[Parallel(n_jobs=24)]: Done  24 out of  24 | elapsed:  2.8min finished\n",
      "[Parallel(n_jobs=24)]: Done  24 out of  24 | elapsed:  2.9min finished\n",
      "[Parallel(n_jobs=24)]: Done  24 out of  24 | elapsed:  2.7min finished\n",
      "[Parallel(n_jobs=24)]: Done  24 out of  24 | elapsed:  2.7min finished\n",
      "[Parallel(n_jobs=24)]: Done  24 out of  24 | elapsed:  2.7min finished\n",
      "[Parallel(n_jobs=24)]: Done  24 out of  24 | elapsed:  2.7min finished\n",
      "[Parallel(n_jobs=24)]: Done  24 out of  24 | elapsed:  2.7min finished\n",
      "[Parallel(n_jobs=24)]: Done  24 out of  24 | elapsed:  2.6min finished\n",
      "[Parallel(n_jobs=24)]: Done  24 out of  24 | elapsed:  2.7min finished\n",
      "[Parallel(n_jobs=24)]: Done  24 out of  24 | elapsed:  2.7min finished\n",
      "[Parallel(n_jobs=24)]: Done  24 out of  24 | elapsed:  2.8min finished\n",
      "[Parallel(n_jobs=24)]: Done  24 out of  24 | elapsed:  2.8min finished\n",
      "[Parallel(n_jobs=24)]: Done  24 out of  24 | elapsed:  2.8min finished\n",
      "[Parallel(n_jobs=24)]: Done  24 out of  24 | elapsed:  2.8min finished\n",
      "[Parallel(n_jobs=24)]: Done  24 out of  24 | elapsed:  2.8min finished\n",
      "[Parallel(n_jobs=24)]: Done  24 out of  24 | elapsed:  2.8min finished\n",
      "[Parallel(n_jobs=24)]: Done  24 out of  24 | elapsed:  2.8min finished\n",
      "[Parallel(n_jobs=24)]: Done  24 out of  24 | elapsed:  2.8min finished\n",
      "[Parallel(n_jobs=24)]: Done  24 out of  24 | elapsed:  2.7min finished\n",
      "[Parallel(n_jobs=24)]: Done  24 out of  24 | elapsed:  2.7min finished\n",
      "[Parallel(n_jobs=24)]: Done  24 out of  24 | elapsed:  2.8min finished\n",
      "[Parallel(n_jobs=24)]: Done  24 out of  24 | elapsed:  2.8min finished\n",
      "[Parallel(n_jobs=24)]: Done  24 out of  24 | elapsed:  2.8min finished\n",
      "[Parallel(n_jobs=24)]: Done  24 out of  24 | elapsed:  2.7min finished\n",
      "[Parallel(n_jobs=24)]: Done  24 out of  24 | elapsed:  2.7min finished\n",
      "[Parallel(n_jobs=24)]: Done  24 out of  24 | elapsed:  2.7min finished\n",
      "[Parallel(n_jobs=24)]: Done  24 out of  24 | elapsed:  2.8min finished\n",
      "[Parallel(n_jobs=24)]: Done  24 out of  24 | elapsed:  2.7min finished\n",
      "[Parallel(n_jobs=24)]: Done  24 out of  24 | elapsed:  2.7min finished\n",
      "[Parallel(n_jobs=24)]: Done  24 out of  24 | elapsed:  2.8min finished\n",
      "[Parallel(n_jobs=24)]: Done  24 out of  24 | elapsed:  2.7min finished\n",
      "[Parallel(n_jobs=24)]: Done  24 out of  24 | elapsed:  2.7min finished\n",
      "[Parallel(n_jobs=24)]: Done  24 out of  24 | elapsed:  2.7min finished\n",
      "[Parallel(n_jobs=24)]: Done  24 out of  24 | elapsed:  2.6min finished\n",
      "[Parallel(n_jobs=24)]: Done  24 out of  24 | elapsed:  2.7min finished\n",
      "[Parallel(n_jobs=24)]: Done  24 out of  24 | elapsed:  2.7min finished\n",
      "[Parallel(n_jobs=24)]: Done  24 out of  24 | elapsed:  2.7min finished\n",
      "[Parallel(n_jobs=24)]: Done  24 out of  24 | elapsed:  2.7min finished\n",
      "[Parallel(n_jobs=24)]: Done  24 out of  24 | elapsed:  2.7min finished\n",
      "[Parallel(n_jobs=24)]: Done  24 out of  24 | elapsed:  2.8min finished\n",
      "[Parallel(n_jobs=24)]: Done  24 out of  24 | elapsed:  2.7min finished\n",
      "[Parallel(n_jobs=24)]: Done  24 out of  24 | elapsed:  2.7min finished\n",
      "[Parallel(n_jobs=24)]: Done  24 out of  24 | elapsed:  2.7min finished\n",
      "[Parallel(n_jobs=24)]: Done  24 out of  24 | elapsed:  2.8min finished\n",
      "[Parallel(n_jobs=24)]: Done  24 out of  24 | elapsed:  2.6min finished\n",
      "[Parallel(n_jobs=24)]: Done  24 out of  24 | elapsed:  2.7min finished\n",
      "[Parallel(n_jobs=24)]: Done  24 out of  24 | elapsed:  2.7min finished\n",
      "[Parallel(n_jobs=24)]: Done  24 out of  24 | elapsed:  2.7min finished\n",
      "[Parallel(n_jobs=24)]: Done  24 out of  24 | elapsed:  2.7min finished\n",
      "[Parallel(n_jobs=24)]: Done  24 out of  24 | elapsed:  2.7min finished\n",
      "[Parallel(n_jobs=24)]: Done  24 out of  24 | elapsed:  2.7min finished\n",
      "[Parallel(n_jobs=24)]: Done  24 out of  24 | elapsed:  2.6min finished\n",
      "[Parallel(n_jobs=24)]: Done  24 out of  24 | elapsed:  2.6min finished\n",
      "[Parallel(n_jobs=24)]: Done  24 out of  24 | elapsed:  2.7min finished\n",
      "[Parallel(n_jobs=24)]: Done  24 out of  24 | elapsed:  2.7min finished\n",
      "[Parallel(n_jobs=24)]: Done  24 out of  24 | elapsed:  2.6min finished\n",
      "[Parallel(n_jobs=24)]: Done  24 out of  24 | elapsed:  2.7min finished\n",
      "[Parallel(n_jobs=24)]: Done  24 out of  24 | elapsed:  2.6min finished\n",
      "[Parallel(n_jobs=24)]: Done  24 out of  24 | elapsed:  2.7min finished\n",
      "[Parallel(n_jobs=24)]: Done  24 out of  24 | elapsed:  2.6min finished\n",
      "[Parallel(n_jobs=24)]: Done  24 out of  24 | elapsed:  2.7min finished\n",
      "[Parallel(n_jobs=24)]: Done  24 out of  24 | elapsed:  2.7min finished\n",
      "[Parallel(n_jobs=24)]: Done  24 out of  24 | elapsed:  2.6min finished\n",
      "[Parallel(n_jobs=24)]: Done  24 out of  24 | elapsed:  2.6min finished\n",
      "[Parallel(n_jobs=24)]: Done  24 out of  24 | elapsed:  2.7min finished\n",
      "[Parallel(n_jobs=24)]: Done  24 out of  24 | elapsed:  2.6min finished\n",
      "[Parallel(n_jobs=24)]: Done  24 out of  24 | elapsed:  2.6min finished\n",
      "[Parallel(n_jobs=24)]: Done  24 out of  24 | elapsed:  2.7min finished\n",
      "[Parallel(n_jobs=24)]: Done  24 out of  24 | elapsed:  2.7min finished\n",
      "[Parallel(n_jobs=24)]: Done  24 out of  24 | elapsed:  2.7min finished\n",
      "[Parallel(n_jobs=24)]: Done  24 out of  24 | elapsed:  2.7min finished\n",
      "[Parallel(n_jobs=24)]: Done  24 out of  24 | elapsed:  2.7min finished\n",
      "[Parallel(n_jobs=24)]: Done  24 out of  24 | elapsed:  2.8min finished\n",
      "[Parallel(n_jobs=24)]: Done  24 out of  24 | elapsed:  2.7min finished\n",
      "[Parallel(n_jobs=24)]: Done  24 out of  24 | elapsed:  2.7min finished\n",
      "[Parallel(n_jobs=24)]: Done  24 out of  24 | elapsed:  2.7min finished\n",
      "[Parallel(n_jobs=24)]: Done  24 out of  24 | elapsed:  2.7min finished\n",
      "[Parallel(n_jobs=24)]: Done  24 out of  24 | elapsed:  2.6min finished\n",
      "[Parallel(n_jobs=24)]: Done  24 out of  24 | elapsed:  2.7min finished\n",
      "[Parallel(n_jobs=24)]: Done  24 out of  24 | elapsed:  2.7min finished\n",
      "[Parallel(n_jobs=24)]: Done  24 out of  24 | elapsed:  2.6min finished\n",
      "[Parallel(n_jobs=24)]: Done  24 out of  24 | elapsed:  2.6min finished\n",
      "[Parallel(n_jobs=24)]: Done  24 out of  24 | elapsed:  2.7min finished\n",
      "[Parallel(n_jobs=24)]: Done  24 out of  24 | elapsed:  2.7min finished\n",
      "[Parallel(n_jobs=24)]: Done  24 out of  24 | elapsed:  2.6min finished\n",
      "[Parallel(n_jobs=24)]: Done  24 out of  24 | elapsed:  2.6min finished\n",
      "[Parallel(n_jobs=24)]: Done  24 out of  24 | elapsed:  2.7min finished\n",
      "[Parallel(n_jobs=24)]: Done  24 out of  24 | elapsed:  2.7min finished\n",
      "[Parallel(n_jobs=24)]: Done  24 out of  24 | elapsed:  2.6min finished\n",
      "[Parallel(n_jobs=24)]: Done  24 out of  24 | elapsed:  2.7min finished\n",
      "[Parallel(n_jobs=24)]: Done  24 out of  24 | elapsed:  2.6min finished\n",
      "[Parallel(n_jobs=24)]: Done  24 out of  24 | elapsed:  2.6min finished\n",
      "[Parallel(n_jobs=24)]: Done  24 out of  24 | elapsed:  2.5min finished\n",
      "[Parallel(n_jobs=24)]: Done  24 out of  24 | elapsed:  2.6min finished\n",
      "[Parallel(n_jobs=24)]: Done  24 out of  24 | elapsed:  2.7min finished\n",
      "[Parallel(n_jobs=24)]: Done  24 out of  24 | elapsed:  2.7min finished\n",
      "[Parallel(n_jobs=24)]: Done  24 out of  24 | elapsed:  2.6min finished\n",
      "[Parallel(n_jobs=24)]: Done  24 out of  24 | elapsed:  2.6min finished\n",
      "[Parallel(n_jobs=24)]: Done  24 out of  24 | elapsed:  2.6min finished\n",
      "[Parallel(n_jobs=24)]: Done  24 out of  24 | elapsed:  2.7min finished\n",
      "[Parallel(n_jobs=24)]: Done  24 out of  24 | elapsed:  2.6min finished\n",
      "[Parallel(n_jobs=24)]: Done  24 out of  24 | elapsed:  2.7min finished\n",
      "[Parallel(n_jobs=24)]: Done  24 out of  24 | elapsed:  2.7min finished\n",
      "[Parallel(n_jobs=24)]: Done  24 out of  24 | elapsed:  2.6min finished\n",
      "[Parallel(n_jobs=24)]: Done  24 out of  24 | elapsed:  2.6min finished\n",
      "[Parallel(n_jobs=24)]: Done  24 out of  24 | elapsed:  2.6min finished\n",
      "[Parallel(n_jobs=24)]: Done  24 out of  24 | elapsed:  2.6min finished\n",
      "[Parallel(n_jobs=24)]: Done  24 out of  24 | elapsed:  2.6min finished\n",
      "[Parallel(n_jobs=24)]: Done  24 out of  24 | elapsed:  2.5min finished\n",
      "[Parallel(n_jobs=24)]: Done  24 out of  24 | elapsed:  2.6min finished\n",
      "[Parallel(n_jobs=24)]: Done  24 out of  24 | elapsed:  2.7min finished\n",
      "[Parallel(n_jobs=24)]: Done  24 out of  24 | elapsed:  2.6min finished\n",
      "[Parallel(n_jobs=24)]: Done  24 out of  24 | elapsed:  2.7min finished\n",
      "[Parallel(n_jobs=24)]: Done  24 out of  24 | elapsed:  2.5min finished\n",
      "[Parallel(n_jobs=24)]: Done  24 out of  24 | elapsed:  2.6min finished\n",
      "[Parallel(n_jobs=24)]: Done  24 out of  24 | elapsed:  2.6min finished\n",
      "[Parallel(n_jobs=24)]: Done  24 out of  24 | elapsed:  2.7min finished\n",
      "[Parallel(n_jobs=24)]: Done  24 out of  24 | elapsed:  2.5min finished\n",
      "[Parallel(n_jobs=24)]: Done  24 out of  24 | elapsed:  2.6min finished\n",
      "[Parallel(n_jobs=24)]: Done  24 out of  24 | elapsed:  2.7min finished\n",
      "[Parallel(n_jobs=24)]: Done  24 out of  24 | elapsed:  2.6min finished\n",
      "[Parallel(n_jobs=24)]: Done  24 out of  24 | elapsed:  2.6min finished\n",
      "[Parallel(n_jobs=24)]: Done  24 out of  24 | elapsed:  2.6min finished\n",
      "[Parallel(n_jobs=24)]: Done  24 out of  24 | elapsed:  2.6min finished\n",
      "[Parallel(n_jobs=24)]: Done  24 out of  24 | elapsed:  2.5min finished\n",
      "[Parallel(n_jobs=24)]: Done  24 out of  24 | elapsed:  2.6min finished\n",
      "[Parallel(n_jobs=24)]: Done  24 out of  24 | elapsed:  2.4min finished\n",
      "[Parallel(n_jobs=24)]: Done  24 out of  24 | elapsed:  2.4min finished\n",
      "[Parallel(n_jobs=24)]: Done  24 out of  24 | elapsed:  2.4min finished\n",
      "[Parallel(n_jobs=24)]: Done  24 out of  24 | elapsed:  2.5min finished\n",
      "[Parallel(n_jobs=24)]: Done  24 out of  24 | elapsed:  2.5min finished\n",
      "[Parallel(n_jobs=24)]: Done  24 out of  24 | elapsed:  2.5min finished\n",
      "[Parallel(n_jobs=24)]: Done  24 out of  24 | elapsed:  2.5min finished\n",
      "[Parallel(n_jobs=24)]: Done  24 out of  24 | elapsed:  2.5min finished\n",
      "[Parallel(n_jobs=24)]: Done  24 out of  24 | elapsed:  2.4min finished\n",
      "[Parallel(n_jobs=24)]: Done  24 out of  24 | elapsed:  2.5min finished\n",
      "[Parallel(n_jobs=24)]: Done  24 out of  24 | elapsed:  2.5min finished\n",
      "[Parallel(n_jobs=24)]: Done  24 out of  24 | elapsed:  2.4min finished\n",
      "[Parallel(n_jobs=24)]: Done  24 out of  24 | elapsed:  2.6min finished\n",
      "[Parallel(n_jobs=24)]: Done  24 out of  24 | elapsed:  2.6min finished\n",
      "[Parallel(n_jobs=24)]: Done  24 out of  24 | elapsed:  2.5min finished\n",
      "[Parallel(n_jobs=24)]: Done  24 out of  24 | elapsed:  2.5min finished\n",
      "[Parallel(n_jobs=24)]: Done  24 out of  24 | elapsed:  2.5min finished\n",
      "[Parallel(n_jobs=24)]: Done  24 out of  24 | elapsed:  2.5min finished\n",
      "[Parallel(n_jobs=24)]: Done  24 out of  24 | elapsed:  2.5min finished\n",
      "[Parallel(n_jobs=24)]: Done  24 out of  24 | elapsed:  2.5min finished\n",
      "[Parallel(n_jobs=24)]: Done  24 out of  24 | elapsed:  2.5min finished\n",
      "[Parallel(n_jobs=24)]: Done  24 out of  24 | elapsed:  2.5min finished\n",
      "[Parallel(n_jobs=24)]: Done  24 out of  24 | elapsed:  2.6min finished\n",
      "[Parallel(n_jobs=24)]: Done  24 out of  24 | elapsed:  2.5min finished\n",
      "[Parallel(n_jobs=24)]: Done  24 out of  24 | elapsed:  2.5min finished\n",
      "[Parallel(n_jobs=24)]: Done  24 out of  24 | elapsed:  2.5min finished\n",
      "[Parallel(n_jobs=24)]: Done  24 out of  24 | elapsed:  2.5min finished\n",
      "[Parallel(n_jobs=24)]: Done  24 out of  24 | elapsed:  2.5min finished\n",
      "[Parallel(n_jobs=24)]: Done  24 out of  24 | elapsed:  2.5min finished\n",
      "[Parallel(n_jobs=24)]: Done  24 out of  24 | elapsed:  2.5min finished\n",
      "[Parallel(n_jobs=24)]: Done  24 out of  24 | elapsed:  2.6min finished\n",
      "[Parallel(n_jobs=24)]: Done  24 out of  24 | elapsed:  2.5min finished\n",
      "[Parallel(n_jobs=24)]: Done  24 out of  24 | elapsed:  2.5min finished\n",
      "[Parallel(n_jobs=24)]: Done  24 out of  24 | elapsed:  2.6min finished\n",
      "[Parallel(n_jobs=24)]: Done  24 out of  24 | elapsed:  2.6min finished\n",
      "[Parallel(n_jobs=24)]: Done  24 out of  24 | elapsed:  2.5min finished\n",
      "[Parallel(n_jobs=24)]: Done  24 out of  24 | elapsed:  2.4min finished\n",
      "[Parallel(n_jobs=24)]: Done  24 out of  24 | elapsed:  2.5min finished\n",
      "[Parallel(n_jobs=24)]: Done  24 out of  24 | elapsed:  2.5min finished\n",
      "[Parallel(n_jobs=24)]: Done  24 out of  24 | elapsed:  2.6min finished\n",
      "[Parallel(n_jobs=24)]: Done  24 out of  24 | elapsed:  2.6min finished\n",
      "[Parallel(n_jobs=24)]: Done  24 out of  24 | elapsed:  2.5min finished\n",
      "[Parallel(n_jobs=24)]: Done  24 out of  24 | elapsed:  2.5min finished\n",
      "[Parallel(n_jobs=24)]: Done  24 out of  24 | elapsed:  2.5min finished\n",
      "[Parallel(n_jobs=24)]: Done  24 out of  24 | elapsed:  2.5min finished\n",
      "[Parallel(n_jobs=24)]: Done  24 out of  24 | elapsed:  2.5min finished\n",
      "[Parallel(n_jobs=24)]: Done  24 out of  24 | elapsed:  2.5min finished\n",
      "[Parallel(n_jobs=24)]: Done  24 out of  24 | elapsed:  2.5min finished\n",
      "[Parallel(n_jobs=24)]: Done  24 out of  24 | elapsed:  2.5min finished\n",
      "[Parallel(n_jobs=24)]: Done  24 out of  24 | elapsed:  2.5min finished\n",
      "[Parallel(n_jobs=24)]: Done  24 out of  24 | elapsed:  2.5min finished\n",
      "[Parallel(n_jobs=24)]: Done  24 out of  24 | elapsed:  2.6min finished\n",
      "[Parallel(n_jobs=24)]: Done  24 out of  24 | elapsed:  2.6min finished\n",
      "[Parallel(n_jobs=24)]: Done  24 out of  24 | elapsed:  2.6min finished\n",
      "[Parallel(n_jobs=24)]: Done  24 out of  24 | elapsed:  2.6min finished\n",
      "[Parallel(n_jobs=24)]: Done  24 out of  24 | elapsed:  2.5min finished\n",
      "[Parallel(n_jobs=24)]: Done  24 out of  24 | elapsed:  2.5min finished\n",
      "[Parallel(n_jobs=24)]: Done  24 out of  24 | elapsed:  2.5min finished\n",
      "[Parallel(n_jobs=24)]: Done  24 out of  24 | elapsed:    9.8s finished\n",
      "[Parallel(n_jobs=24)]: Done  24 out of  24 | elapsed:  2.5min finished\n",
      "[Parallel(n_jobs=24)]: Done  24 out of  24 | elapsed:  2.5min finished\n",
      "[Parallel(n_jobs=24)]: Done  24 out of  24 | elapsed:  2.5min finished\n",
      "[Parallel(n_jobs=24)]: Done  24 out of  24 | elapsed:  2.5min finished\n",
      "[Parallel(n_jobs=24)]: Done  24 out of  24 | elapsed:  2.6min finished\n",
      "[Parallel(n_jobs=24)]: Done  24 out of  24 | elapsed:  2.5min finished\n",
      "[Parallel(n_jobs=24)]: Done  24 out of  24 | elapsed:  2.5min finished\n",
      "[Parallel(n_jobs=24)]: Done  24 out of  24 | elapsed:  2.5min finished\n",
      "[Parallel(n_jobs=24)]: Done  24 out of  24 | elapsed:  2.5min finished\n",
      "[Parallel(n_jobs=24)]: Done  24 out of  24 | elapsed:  2.5min finished\n",
      "[Parallel(n_jobs=24)]: Done  24 out of  24 | elapsed:  2.6min finished\n",
      "[Parallel(n_jobs=24)]: Done  24 out of  24 | elapsed:  2.5min finished\n",
      "[Parallel(n_jobs=24)]: Done  24 out of  24 | elapsed:  2.4min finished\n",
      "[Parallel(n_jobs=24)]: Done  24 out of  24 | elapsed:  2.5min finished\n",
      "[Parallel(n_jobs=24)]: Done  24 out of  24 | elapsed:  2.5min finished\n",
      "[Parallel(n_jobs=24)]: Done  24 out of  24 | elapsed:  2.5min finished\n",
      "[Parallel(n_jobs=24)]: Done  24 out of  24 | elapsed:  2.4min finished\n",
      "[Parallel(n_jobs=24)]: Done  24 out of  24 | elapsed:  2.5min finished\n",
      "[Parallel(n_jobs=24)]: Done  24 out of  24 | elapsed:  2.5min finished\n",
      "[Parallel(n_jobs=24)]: Done  24 out of  24 | elapsed:  2.5min finished\n",
      "[Parallel(n_jobs=24)]: Done  24 out of  24 | elapsed:  2.5min finished\n",
      "[Parallel(n_jobs=24)]: Done  24 out of  24 | elapsed:  2.4min finished\n",
      "[Parallel(n_jobs=24)]: Done  24 out of  24 | elapsed:  2.6min finished\n",
      "[Parallel(n_jobs=24)]: Done  24 out of  24 | elapsed:  2.5min finished\n",
      "[Parallel(n_jobs=24)]: Done  24 out of  24 | elapsed:  2.4min finished\n",
      "[Parallel(n_jobs=24)]: Done  24 out of  24 | elapsed:  2.5min finished\n",
      "[Parallel(n_jobs=24)]: Done  24 out of  24 | elapsed:  2.5min finished\n",
      "[Parallel(n_jobs=24)]: Done  24 out of  24 | elapsed:  2.5min finished\n",
      "[Parallel(n_jobs=24)]: Done  24 out of  24 | elapsed:  2.5min finished\n",
      "[Parallel(n_jobs=24)]: Done  24 out of  24 | elapsed:  2.5min finished\n",
      "[Parallel(n_jobs=24)]: Done  24 out of  24 | elapsed:  2.4min finished\n",
      "[Parallel(n_jobs=24)]: Done  24 out of  24 | elapsed:  2.5min finished\n",
      "[Parallel(n_jobs=24)]: Done  24 out of  24 | elapsed:  2.5min finished\n",
      "[Parallel(n_jobs=24)]: Done  24 out of  24 | elapsed:  2.5min finished\n",
      "[Parallel(n_jobs=24)]: Done  24 out of  24 | elapsed:  2.5min finished\n",
      "[Parallel(n_jobs=24)]: Done  24 out of  24 | elapsed:  2.5min finished\n",
      "[Parallel(n_jobs=24)]: Done  24 out of  24 | elapsed:  2.5min finished\n",
      "[Parallel(n_jobs=24)]: Done  24 out of  24 | elapsed:  2.5min finished\n",
      "[Parallel(n_jobs=24)]: Done  24 out of  24 | elapsed:  2.5min finished\n",
      "[Parallel(n_jobs=24)]: Done  24 out of  24 | elapsed:  2.5min finished\n",
      "[Parallel(n_jobs=24)]: Done  24 out of  24 | elapsed:  2.4min finished\n",
      "[Parallel(n_jobs=24)]: Done  24 out of  24 | elapsed:  2.4min finished\n",
      "[Parallel(n_jobs=24)]: Done  24 out of  24 | elapsed:  2.4min finished\n",
      "[Parallel(n_jobs=24)]: Done  24 out of  24 | elapsed:  2.6min finished\n",
      "[Parallel(n_jobs=24)]: Done  24 out of  24 | elapsed:  2.5min finished\n",
      "[Parallel(n_jobs=24)]: Done  24 out of  24 | elapsed:  2.4min finished\n",
      "[Parallel(n_jobs=24)]: Done  24 out of  24 | elapsed:  2.4min finished\n",
      "[Parallel(n_jobs=24)]: Done  24 out of  24 | elapsed:  2.4min finished\n",
      "[Parallel(n_jobs=24)]: Done  24 out of  24 | elapsed:  2.5min finished\n",
      "[Parallel(n_jobs=24)]: Done  24 out of  24 | elapsed:  2.5min finished\n",
      "[Parallel(n_jobs=24)]: Done  24 out of  24 | elapsed:  2.5min finished\n",
      "[Parallel(n_jobs=24)]: Done  24 out of  24 | elapsed:  2.4min finished\n",
      "[Parallel(n_jobs=24)]: Done  24 out of  24 | elapsed:  2.4min finished\n",
      "[Parallel(n_jobs=24)]: Done  24 out of  24 | elapsed:  2.5min finished\n",
      "[Parallel(n_jobs=24)]: Done  24 out of  24 | elapsed:  2.5min finished\n",
      "[Parallel(n_jobs=24)]: Done  24 out of  24 | elapsed:  2.5min finished\n",
      "[Parallel(n_jobs=24)]: Done  24 out of  24 | elapsed:  2.5min finished\n",
      "[Parallel(n_jobs=24)]: Done  24 out of  24 | elapsed:  2.4min finished\n",
      "[Parallel(n_jobs=24)]: Done  24 out of  24 | elapsed:  2.5min finished\n",
      "[Parallel(n_jobs=24)]: Done  24 out of  24 | elapsed:  2.4min finished\n",
      "[Parallel(n_jobs=24)]: Done  24 out of  24 | elapsed:  2.5min finished\n",
      "[Parallel(n_jobs=24)]: Done  24 out of  24 | elapsed:  2.5min finished\n",
      "[Parallel(n_jobs=24)]: Done  24 out of  24 | elapsed:  2.4min finished\n",
      "[Parallel(n_jobs=24)]: Done  24 out of  24 | elapsed:  2.5min finished\n",
      "[Parallel(n_jobs=24)]: Done  24 out of  24 | elapsed:  2.5min finished\n",
      "[Parallel(n_jobs=24)]: Done  24 out of  24 | elapsed:  2.5min finished\n",
      "[Parallel(n_jobs=24)]: Done  24 out of  24 | elapsed:  2.5min finished\n",
      "[Parallel(n_jobs=24)]: Done  24 out of  24 | elapsed:  2.5min finished\n",
      "[Parallel(n_jobs=24)]: Done  24 out of  24 | elapsed:  2.6min finished\n",
      "[Parallel(n_jobs=24)]: Done  24 out of  24 | elapsed:  2.5min finished\n",
      "[Parallel(n_jobs=24)]: Done  24 out of  24 | elapsed:  2.5min finished\n",
      "[Parallel(n_jobs=24)]: Done  24 out of  24 | elapsed:  2.5min finished\n",
      "[Parallel(n_jobs=24)]: Done  24 out of  24 | elapsed:  2.5min finished\n",
      "[Parallel(n_jobs=24)]: Done  24 out of  24 | elapsed:  2.6min finished\n",
      "[Parallel(n_jobs=24)]: Done  24 out of  24 | elapsed:  2.5min finished\n",
      "[Parallel(n_jobs=24)]: Done  24 out of  24 | elapsed:  2.5min finished\n",
      "[Parallel(n_jobs=24)]: Done  24 out of  24 | elapsed:  2.6min finished\n",
      "[Parallel(n_jobs=24)]: Done  24 out of  24 | elapsed:  2.5min finished\n",
      "[Parallel(n_jobs=24)]: Done  24 out of  24 | elapsed:  2.5min finished\n",
      "[Parallel(n_jobs=24)]: Done  24 out of  24 | elapsed:  2.6min finished\n",
      "[Parallel(n_jobs=24)]: Done  24 out of  24 | elapsed:  2.5min finished\n",
      "[Parallel(n_jobs=24)]: Done  24 out of  24 | elapsed:  2.5min finished\n",
      "[Parallel(n_jobs=24)]: Done  24 out of  24 | elapsed:  2.5min finished\n",
      "[Parallel(n_jobs=24)]: Done  24 out of  24 | elapsed:  2.6min finished\n",
      "[Parallel(n_jobs=24)]: Done  24 out of  24 | elapsed:  2.5min finished\n",
      "[Parallel(n_jobs=24)]: Done  24 out of  24 | elapsed:  2.6min finished\n",
      "[Parallel(n_jobs=24)]: Done  24 out of  24 | elapsed:  2.5min finished\n",
      "[Parallel(n_jobs=24)]: Done  24 out of  24 | elapsed:  2.5min finished\n",
      "[Parallel(n_jobs=24)]: Done  24 out of  24 | elapsed:  2.6min finished\n",
      "[Parallel(n_jobs=24)]: Done  24 out of  24 | elapsed:  2.5min finished\n",
      "[Parallel(n_jobs=24)]: Done  24 out of  24 | elapsed:  2.5min finished\n",
      "[Parallel(n_jobs=24)]: Done  24 out of  24 | elapsed:  2.5min finished\n",
      "[Parallel(n_jobs=24)]: Done  24 out of  24 | elapsed:  2.4min finished\n",
      "[Parallel(n_jobs=24)]: Done  24 out of  24 | elapsed:  2.5min finished\n",
      "[Parallel(n_jobs=24)]: Done  24 out of  24 | elapsed:  2.6min finished\n",
      "[Parallel(n_jobs=24)]: Done  24 out of  24 | elapsed:  2.5min finished\n",
      "[Parallel(n_jobs=24)]: Done  24 out of  24 | elapsed:  2.5min finished\n",
      "[Parallel(n_jobs=24)]: Done  24 out of  24 | elapsed:  2.6min finished\n",
      "[Parallel(n_jobs=24)]: Done  24 out of  24 | elapsed:  2.5min finished\n",
      "[Parallel(n_jobs=24)]: Done  24 out of  24 | elapsed:  2.6min finished\n",
      "[Parallel(n_jobs=24)]: Done  24 out of  24 | elapsed:  2.5min finished\n",
      "[Parallel(n_jobs=24)]: Done  24 out of  24 | elapsed:  2.6min finished\n",
      "[Parallel(n_jobs=24)]: Done  24 out of  24 | elapsed:  2.6min finished\n",
      "[Parallel(n_jobs=24)]: Done  24 out of  24 | elapsed:  2.5min finished\n",
      "[Parallel(n_jobs=24)]: Done  24 out of  24 | elapsed:  2.6min finished\n",
      "[Parallel(n_jobs=24)]: Done  24 out of  24 | elapsed:  2.6min finished\n",
      "[Parallel(n_jobs=24)]: Done  24 out of  24 | elapsed:  2.6min finished\n",
      "[Parallel(n_jobs=24)]: Done  24 out of  24 | elapsed:  2.6min finished\n",
      "[Parallel(n_jobs=24)]: Done  24 out of  24 | elapsed:  2.6min finished\n",
      "[Parallel(n_jobs=24)]: Done  24 out of  24 | elapsed:  2.6min finished\n",
      "[Parallel(n_jobs=24)]: Done  24 out of  24 | elapsed:  2.6min finished\n",
      "[Parallel(n_jobs=24)]: Done  24 out of  24 | elapsed:  2.6min finished\n",
      "[Parallel(n_jobs=24)]: Done  24 out of  24 | elapsed:  2.5min finished\n",
      "[Parallel(n_jobs=24)]: Done  24 out of  24 | elapsed:  2.4min finished\n",
      "[Parallel(n_jobs=24)]: Done  24 out of  24 | elapsed:  2.6min finished\n",
      "[Parallel(n_jobs=24)]: Done  24 out of  24 | elapsed:  2.5min finished\n",
      "[Parallel(n_jobs=24)]: Done  24 out of  24 | elapsed:  2.6min finished\n",
      "[Parallel(n_jobs=24)]: Done  24 out of  24 | elapsed:  2.6min finished\n",
      "[Parallel(n_jobs=24)]: Done  24 out of  24 | elapsed:  2.5min finished\n",
      "[Parallel(n_jobs=24)]: Done  24 out of  24 | elapsed:  2.5min finished\n",
      "[Parallel(n_jobs=24)]: Done  24 out of  24 | elapsed:  2.7min finished\n",
      "[Parallel(n_jobs=24)]: Done  24 out of  24 | elapsed:  2.6min finished\n",
      "[Parallel(n_jobs=24)]: Done  24 out of  24 | elapsed:  2.7min finished\n",
      "[Parallel(n_jobs=24)]: Done  24 out of  24 | elapsed:  2.6min finished\n",
      "[Parallel(n_jobs=24)]: Done  24 out of  24 | elapsed:  2.5min finished\n",
      "[Parallel(n_jobs=24)]: Done  24 out of  24 | elapsed:  2.5min finished\n",
      "[Parallel(n_jobs=24)]: Done  24 out of  24 | elapsed:  2.6min finished\n",
      "[Parallel(n_jobs=24)]: Done  24 out of  24 | elapsed:  2.6min finished\n",
      "[Parallel(n_jobs=24)]: Done  24 out of  24 | elapsed:  2.5min finished\n",
      "[Parallel(n_jobs=24)]: Done  24 out of  24 | elapsed:  2.6min finished\n",
      "[Parallel(n_jobs=24)]: Done  24 out of  24 | elapsed:  2.5min finished\n",
      "[Parallel(n_jobs=24)]: Done  24 out of  24 | elapsed:  2.5min finished\n",
      "[Parallel(n_jobs=24)]: Done  24 out of  24 | elapsed:  2.6min finished\n",
      "[Parallel(n_jobs=24)]: Done  24 out of  24 | elapsed:  2.5min finished\n",
      "[Parallel(n_jobs=24)]: Done  24 out of  24 | elapsed:  2.6min finished\n",
      "[Parallel(n_jobs=24)]: Done  24 out of  24 | elapsed:  2.5min finished\n",
      "[Parallel(n_jobs=24)]: Done  24 out of  24 | elapsed:  2.5min finished\n",
      "[Parallel(n_jobs=24)]: Done  24 out of  24 | elapsed:  2.6min finished\n",
      "[Parallel(n_jobs=24)]: Done  24 out of  24 | elapsed:  2.6min finished\n",
      "[Parallel(n_jobs=24)]: Done  24 out of  24 | elapsed:  2.7min finished\n",
      "[Parallel(n_jobs=24)]: Done  24 out of  24 | elapsed:  2.6min finished\n",
      "[Parallel(n_jobs=24)]: Done  24 out of  24 | elapsed:  2.6min finished\n",
      "[Parallel(n_jobs=24)]: Done  24 out of  24 | elapsed:  2.8min finished\n",
      "[Parallel(n_jobs=24)]: Done  24 out of  24 | elapsed:  2.5min finished\n",
      "[Parallel(n_jobs=24)]: Done  24 out of  24 | elapsed:  2.7min finished\n",
      "[Parallel(n_jobs=24)]: Done  24 out of  24 | elapsed:  2.6min finished\n",
      "[Parallel(n_jobs=24)]: Done  24 out of  24 | elapsed:  2.7min finished\n",
      "[Parallel(n_jobs=24)]: Done  24 out of  24 | elapsed:  2.6min finished\n",
      "[Parallel(n_jobs=24)]: Done  24 out of  24 | elapsed:  2.7min finished\n",
      "[Parallel(n_jobs=24)]: Done  24 out of  24 | elapsed:  2.7min finished\n",
      "[Parallel(n_jobs=24)]: Done  24 out of  24 | elapsed:  2.7min finished\n",
      "[Parallel(n_jobs=24)]: Done  24 out of  24 | elapsed:  2.6min finished\n",
      "[Parallel(n_jobs=24)]: Done  24 out of  24 | elapsed:  2.4min finished\n",
      "[Parallel(n_jobs=24)]: Done  24 out of  24 | elapsed:  2.6min finished\n",
      "[Parallel(n_jobs=24)]: Done  24 out of  24 | elapsed:  2.6min finished\n",
      "[Parallel(n_jobs=24)]: Done  24 out of  24 | elapsed:  2.5min finished\n",
      "[Parallel(n_jobs=24)]: Done  24 out of  24 | elapsed:  2.6min finished\n",
      "[Parallel(n_jobs=24)]: Done  24 out of  24 | elapsed:  2.6min finished\n",
      "[Parallel(n_jobs=24)]: Done  24 out of  24 | elapsed:  2.6min finished\n",
      "[Parallel(n_jobs=24)]: Done  24 out of  24 | elapsed:  2.7min finished\n",
      "[Parallel(n_jobs=24)]: Done  24 out of  24 | elapsed:  2.7min finished\n",
      "[Parallel(n_jobs=24)]: Done  24 out of  24 | elapsed:  2.7min finished\n",
      "[Parallel(n_jobs=24)]: Done  24 out of  24 | elapsed:  2.6min finished\n",
      "[Parallel(n_jobs=24)]: Done  24 out of  24 | elapsed:  2.6min finished\n",
      "[Parallel(n_jobs=24)]: Done  24 out of  24 | elapsed:  2.7min finished\n",
      "[Parallel(n_jobs=24)]: Done  24 out of  24 | elapsed:  2.6min finished\n",
      "[Parallel(n_jobs=24)]: Done  24 out of  24 | elapsed:  2.8min finished\n",
      "[Parallel(n_jobs=24)]: Done  24 out of  24 | elapsed:  2.7min finished\n",
      "[Parallel(n_jobs=24)]: Done  24 out of  24 | elapsed:  2.7min finished\n",
      "[Parallel(n_jobs=24)]: Done  24 out of  24 | elapsed:  2.6min finished\n",
      "[Parallel(n_jobs=24)]: Done  24 out of  24 | elapsed:  2.7min finished\n",
      "[Parallel(n_jobs=24)]: Done  24 out of  24 | elapsed:  2.6min finished\n",
      "[Parallel(n_jobs=24)]: Done  24 out of  24 | elapsed:  2.6min finished\n",
      "[Parallel(n_jobs=24)]: Done  24 out of  24 | elapsed:  2.4min finished\n",
      "[Parallel(n_jobs=24)]: Done  24 out of  24 | elapsed:  2.4min finished\n",
      "[Parallel(n_jobs=24)]: Done  24 out of  24 | elapsed:  2.5min finished\n",
      "[Parallel(n_jobs=24)]: Done  24 out of  24 | elapsed:  2.5min finished\n",
      "[Parallel(n_jobs=24)]: Done  24 out of  24 | elapsed:  2.4min finished\n",
      "[Parallel(n_jobs=24)]: Done  24 out of  24 | elapsed:  2.5min finished\n",
      "[Parallel(n_jobs=24)]: Done  24 out of  24 | elapsed:  2.5min finished\n",
      "[Parallel(n_jobs=24)]: Done  24 out of  24 | elapsed:  2.4min finished\n",
      "[Parallel(n_jobs=24)]: Done  24 out of  24 | elapsed:  2.5min finished\n",
      "[Parallel(n_jobs=24)]: Done  24 out of  24 | elapsed:  2.5min finished\n",
      "[Parallel(n_jobs=24)]: Done  24 out of  24 | elapsed:  2.6min finished\n",
      "[Parallel(n_jobs=24)]: Done  24 out of  24 | elapsed:  2.4min finished\n",
      "[Parallel(n_jobs=24)]: Done  24 out of  24 | elapsed:  2.5min finished\n",
      "[Parallel(n_jobs=24)]: Done  24 out of  24 | elapsed:  2.5min finished\n",
      "[Parallel(n_jobs=24)]: Done  24 out of  24 | elapsed:  2.5min finished\n",
      "[Parallel(n_jobs=24)]: Done  24 out of  24 | elapsed:  2.6min finished\n",
      "[Parallel(n_jobs=24)]: Done  24 out of  24 | elapsed:  2.5min finished\n",
      "[Parallel(n_jobs=24)]: Done  24 out of  24 | elapsed:  2.5min finished\n",
      "[Parallel(n_jobs=24)]: Done  24 out of  24 | elapsed:  2.6min finished\n",
      "[Parallel(n_jobs=24)]: Done  24 out of  24 | elapsed:  2.6min finished\n",
      "[Parallel(n_jobs=24)]: Done  24 out of  24 | elapsed:  2.6min finished\n",
      "[Parallel(n_jobs=24)]: Done  24 out of  24 | elapsed:  2.7min finished\n",
      "[Parallel(n_jobs=24)]: Done  24 out of  24 | elapsed:  2.6min finished\n",
      "[Parallel(n_jobs=24)]: Done  24 out of  24 | elapsed:  2.8min finished\n",
      "[Parallel(n_jobs=24)]: Done  24 out of  24 | elapsed:  2.7min finished\n",
      "[Parallel(n_jobs=24)]: Done  24 out of  24 | elapsed:  2.7min finished\n",
      "[Parallel(n_jobs=24)]: Done  24 out of  24 | elapsed:  2.7min finished\n",
      "[Parallel(n_jobs=24)]: Done  24 out of  24 | elapsed:  2.7min finished\n",
      "[Parallel(n_jobs=24)]: Done  24 out of  24 | elapsed:  2.7min finished\n",
      "[Parallel(n_jobs=24)]: Done  24 out of  24 | elapsed:  2.6min finished\n",
      "[Parallel(n_jobs=24)]: Done  24 out of  24 | elapsed:  2.8min finished\n",
      "[Parallel(n_jobs=24)]: Done  24 out of  24 | elapsed:  2.6min finished\n",
      "[Parallel(n_jobs=24)]: Done  24 out of  24 | elapsed:  2.8min finished\n",
      "[Parallel(n_jobs=24)]: Done  24 out of  24 | elapsed:  2.6min finished\n",
      "[Parallel(n_jobs=24)]: Done  24 out of  24 | elapsed:  2.7min finished\n",
      "[Parallel(n_jobs=24)]: Done  24 out of  24 | elapsed:  2.6min finished\n",
      "[Parallel(n_jobs=24)]: Done  24 out of  24 | elapsed:  2.8min finished\n",
      "[Parallel(n_jobs=24)]: Done  24 out of  24 | elapsed:  2.7min finished\n",
      "[Parallel(n_jobs=24)]: Done  24 out of  24 | elapsed:  2.9min finished\n",
      "[Parallel(n_jobs=24)]: Done  24 out of  24 | elapsed:  2.8min finished\n",
      "[Parallel(n_jobs=24)]: Done  24 out of  24 | elapsed:  2.7min finished\n",
      "[Parallel(n_jobs=24)]: Done  24 out of  24 | elapsed:  2.7min finished\n",
      "[Parallel(n_jobs=24)]: Done  24 out of  24 | elapsed:  2.7min finished\n",
      "[Parallel(n_jobs=24)]: Done  24 out of  24 | elapsed:  2.8min finished\n",
      "[Parallel(n_jobs=24)]: Done  24 out of  24 | elapsed:  2.7min finished\n",
      "[Parallel(n_jobs=24)]: Done  24 out of  24 | elapsed:  2.8min finished\n",
      "[Parallel(n_jobs=24)]: Done  24 out of  24 | elapsed:  2.7min finished\n",
      "[Parallel(n_jobs=24)]: Done  24 out of  24 | elapsed:  2.8min finished\n",
      "[Parallel(n_jobs=24)]: Done  24 out of  24 | elapsed:  2.7min finished\n",
      "[Parallel(n_jobs=24)]: Done  24 out of  24 | elapsed:  2.7min finished\n",
      "[Parallel(n_jobs=24)]: Done  24 out of  24 | elapsed:  2.8min finished\n",
      "[Parallel(n_jobs=24)]: Done  24 out of  24 | elapsed:  2.7min finished\n",
      "[Parallel(n_jobs=24)]: Done  24 out of  24 | elapsed:  2.8min finished\n",
      "[Parallel(n_jobs=24)]: Done  24 out of  24 | elapsed:  2.8min finished\n",
      "[Parallel(n_jobs=24)]: Done  24 out of  24 | elapsed:  2.7min finished\n",
      "[Parallel(n_jobs=24)]: Done  24 out of  24 | elapsed:  2.9min finished\n",
      "[Parallel(n_jobs=24)]: Done  24 out of  24 | elapsed:  2.6min finished\n",
      "[Parallel(n_jobs=24)]: Done  24 out of  24 | elapsed:  2.8min finished\n",
      "[Parallel(n_jobs=24)]: Done  24 out of  24 | elapsed:  2.7min finished\n",
      "[Parallel(n_jobs=24)]: Done  24 out of  24 | elapsed:  2.8min finished\n",
      "[Parallel(n_jobs=24)]: Done  24 out of  24 | elapsed:  2.7min finished\n",
      "[Parallel(n_jobs=24)]: Done  24 out of  24 | elapsed:  2.8min finished\n",
      "[Parallel(n_jobs=24)]: Done  24 out of  24 | elapsed:  2.8min finished\n",
      "[Parallel(n_jobs=24)]: Done  24 out of  24 | elapsed:  2.8min finished\n",
      "[Parallel(n_jobs=24)]: Done  24 out of  24 | elapsed:  2.8min finished\n",
      "[Parallel(n_jobs=24)]: Done  24 out of  24 | elapsed:  2.9min finished\n",
      "[Parallel(n_jobs=24)]: Done  24 out of  24 | elapsed:  2.7min finished\n",
      "[Parallel(n_jobs=24)]: Done  24 out of  24 | elapsed:  2.6min finished\n",
      "[Parallel(n_jobs=24)]: Done  24 out of  24 | elapsed:  2.6min finished\n",
      "[Parallel(n_jobs=24)]: Done  24 out of  24 | elapsed:  2.7min finished\n",
      "[Parallel(n_jobs=24)]: Done  24 out of  24 | elapsed:  2.6min finished\n",
      "[Parallel(n_jobs=24)]: Done  24 out of  24 | elapsed:  2.8min finished\n",
      "[Parallel(n_jobs=24)]: Done  24 out of  24 | elapsed:  2.7min finished\n",
      "[Parallel(n_jobs=24)]: Done  24 out of  24 | elapsed:  2.7min finished\n",
      "[Parallel(n_jobs=24)]: Done  24 out of  24 | elapsed:  2.6min finished\n",
      "[Parallel(n_jobs=24)]: Done  24 out of  24 | elapsed:  2.6min finished\n",
      "[Parallel(n_jobs=24)]: Done  24 out of  24 | elapsed:  2.6min finished\n",
      "[Parallel(n_jobs=24)]: Done  24 out of  24 | elapsed:  2.7min finished\n",
      "[Parallel(n_jobs=24)]: Done  24 out of  24 | elapsed:  2.6min finished\n",
      "[Parallel(n_jobs=24)]: Done  24 out of  24 | elapsed:  2.6min finished\n",
      "[Parallel(n_jobs=24)]: Done  24 out of  24 | elapsed:  2.6min finished\n",
      "[Parallel(n_jobs=24)]: Done  24 out of  24 | elapsed:  2.6min finished\n",
      "[Parallel(n_jobs=24)]: Done  24 out of  24 | elapsed:  2.6min finished\n",
      "[Parallel(n_jobs=24)]: Done  24 out of  24 | elapsed:  2.6min finished\n",
      "[Parallel(n_jobs=24)]: Done  24 out of  24 | elapsed:  2.6min finished\n",
      "[Parallel(n_jobs=24)]: Done  24 out of  24 | elapsed:  2.7min finished\n",
      "[Parallel(n_jobs=24)]: Done  24 out of  24 | elapsed:  2.6min finished\n",
      "[Parallel(n_jobs=24)]: Done  24 out of  24 | elapsed:  2.6min finished\n",
      "[Parallel(n_jobs=24)]: Done  24 out of  24 | elapsed:  2.6min finished\n",
      "[Parallel(n_jobs=24)]: Done  24 out of  24 | elapsed:  2.5min finished\n",
      "[Parallel(n_jobs=24)]: Done  24 out of  24 | elapsed:  2.5min finished\n",
      "[Parallel(n_jobs=24)]: Done  24 out of  24 | elapsed:  2.6min finished\n",
      "[Parallel(n_jobs=24)]: Done  24 out of  24 | elapsed:  2.6min finished\n",
      "[Parallel(n_jobs=24)]: Done  24 out of  24 | elapsed:  2.6min finished\n",
      "[Parallel(n_jobs=24)]: Done  24 out of  24 | elapsed:  2.8min finished\n",
      "[Parallel(n_jobs=24)]: Done  24 out of  24 | elapsed:  2.6min finished\n",
      "[Parallel(n_jobs=24)]: Done  24 out of  24 | elapsed:  2.7min finished\n",
      "[Parallel(n_jobs=24)]: Done  24 out of  24 | elapsed:  2.7min finished\n",
      "[Parallel(n_jobs=24)]: Done  24 out of  24 | elapsed:  2.7min finished\n",
      "[Parallel(n_jobs=24)]: Done  24 out of  24 | elapsed:  2.7min finished\n",
      "[Parallel(n_jobs=24)]: Done  24 out of  24 | elapsed:  2.7min finished\n",
      "[Parallel(n_jobs=24)]: Done  24 out of  24 | elapsed:  2.5min finished\n",
      "[Parallel(n_jobs=24)]: Done  24 out of  24 | elapsed:  2.7min finished\n",
      "[Parallel(n_jobs=24)]: Done  24 out of  24 | elapsed:  2.6min finished\n",
      "[Parallel(n_jobs=24)]: Done  24 out of  24 | elapsed:  2.7min finished\n",
      "[Parallel(n_jobs=24)]: Done  24 out of  24 | elapsed:  2.7min finished\n",
      "[Parallel(n_jobs=24)]: Done  24 out of  24 | elapsed:  2.7min finished\n",
      "[Parallel(n_jobs=24)]: Done  24 out of  24 | elapsed:  2.6min finished\n",
      "[Parallel(n_jobs=24)]: Done  24 out of  24 | elapsed:  2.7min finished\n",
      "[Parallel(n_jobs=24)]: Done  24 out of  24 | elapsed:  2.6min finished\n",
      "[Parallel(n_jobs=24)]: Done  24 out of  24 | elapsed:  2.8min finished\n",
      "[Parallel(n_jobs=24)]: Done  24 out of  24 | elapsed:  2.6min finished\n",
      "[Parallel(n_jobs=24)]: Done  24 out of  24 | elapsed:  2.7min finished\n",
      "[Parallel(n_jobs=24)]: Done  24 out of  24 | elapsed:  2.7min finished\n",
      "[Parallel(n_jobs=24)]: Done  24 out of  24 | elapsed:  2.9min finished\n",
      "[Parallel(n_jobs=24)]: Done  24 out of  24 | elapsed:  2.7min finished\n",
      "[Parallel(n_jobs=24)]: Done  24 out of  24 | elapsed:  2.6min finished\n",
      "[Parallel(n_jobs=24)]: Done  24 out of  24 | elapsed:  2.7min finished\n",
      "[Parallel(n_jobs=24)]: Done  24 out of  24 | elapsed:  2.6min finished\n",
      "[Parallel(n_jobs=24)]: Done  24 out of  24 | elapsed:  2.6min finished\n",
      "[Parallel(n_jobs=24)]: Done  24 out of  24 | elapsed:  2.7min finished\n",
      "[Parallel(n_jobs=24)]: Done  24 out of  24 | elapsed:  2.8min finished\n",
      "[Parallel(n_jobs=24)]: Done  24 out of  24 | elapsed:  2.7min finished\n",
      "[Parallel(n_jobs=24)]: Done  24 out of  24 | elapsed:  2.6min finished\n",
      "[Parallel(n_jobs=24)]: Done  24 out of  24 | elapsed:  2.8min finished\n",
      "[Parallel(n_jobs=24)]: Done  24 out of  24 | elapsed:  2.6min finished\n",
      "[Parallel(n_jobs=24)]: Done  24 out of  24 | elapsed:  2.7min finished\n",
      "[Parallel(n_jobs=24)]: Done  24 out of  24 | elapsed:  2.7min finished\n",
      "[Parallel(n_jobs=24)]: Done  24 out of  24 | elapsed:  2.8min finished\n",
      "[Parallel(n_jobs=24)]: Done  24 out of  24 | elapsed:  2.7min finished\n",
      "[Parallel(n_jobs=24)]: Done  24 out of  24 | elapsed:  2.7min finished\n",
      "[Parallel(n_jobs=24)]: Done  24 out of  24 | elapsed:  2.6min finished\n",
      "[Parallel(n_jobs=24)]: Done  24 out of  24 | elapsed:  2.7min finished\n",
      "[Parallel(n_jobs=24)]: Done  24 out of  24 | elapsed:   23.5s finished\n",
      "[Parallel(n_jobs=24)]: Done  24 out of  24 | elapsed:  2.7min finished\n",
      "[Parallel(n_jobs=24)]: Done  24 out of  24 | elapsed:  2.8min finished\n",
      "[Parallel(n_jobs=24)]: Done  24 out of  24 | elapsed:  2.6min finished\n",
      "[Parallel(n_jobs=24)]: Done  24 out of  24 | elapsed:  2.9min finished\n",
      "[Parallel(n_jobs=24)]: Done  24 out of  24 | elapsed:  2.6min finished\n",
      "[Parallel(n_jobs=24)]: Done  24 out of  24 | elapsed:  2.7min finished\n",
      "[Parallel(n_jobs=24)]: Done  24 out of  24 | elapsed:  2.6min finished\n",
      "[Parallel(n_jobs=24)]: Done  24 out of  24 | elapsed:  2.7min finished\n",
      "[Parallel(n_jobs=24)]: Done  24 out of  24 | elapsed:  2.6min finished\n",
      "[Parallel(n_jobs=24)]: Done  24 out of  24 | elapsed:  2.7min finished\n",
      "[Parallel(n_jobs=24)]: Done  24 out of  24 | elapsed:  2.7min finished\n",
      "[Parallel(n_jobs=24)]: Done  24 out of  24 | elapsed:  2.7min finished\n",
      "[Parallel(n_jobs=24)]: Done  24 out of  24 | elapsed:  2.6min finished\n",
      "[Parallel(n_jobs=24)]: Done  24 out of  24 | elapsed:  2.7min finished\n",
      "[Parallel(n_jobs=24)]: Done  24 out of  24 | elapsed:  2.8min finished\n",
      "[Parallel(n_jobs=24)]: Done  24 out of  24 | elapsed:  2.6min finished\n",
      "[Parallel(n_jobs=24)]: Done  24 out of  24 | elapsed:  2.7min finished\n",
      "[Parallel(n_jobs=24)]: Done  24 out of  24 | elapsed:  2.7min finished\n",
      "[Parallel(n_jobs=24)]: Done  24 out of  24 | elapsed:  2.6min finished\n",
      "[Parallel(n_jobs=24)]: Done  24 out of  24 | elapsed:  2.8min finished\n",
      "[Parallel(n_jobs=24)]: Done  24 out of  24 | elapsed:  2.7min finished\n",
      "[Parallel(n_jobs=24)]: Done  24 out of  24 | elapsed:  2.5min finished\n",
      "[Parallel(n_jobs=24)]: Done  24 out of  24 | elapsed:  2.7min finished\n",
      "[Parallel(n_jobs=24)]: Done  24 out of  24 | elapsed:  2.7min finished\n",
      "[Parallel(n_jobs=24)]: Done  24 out of  24 | elapsed:  2.6min finished\n",
      "[Parallel(n_jobs=24)]: Done  24 out of  24 | elapsed:  2.8min finished\n",
      "[Parallel(n_jobs=24)]: Done  24 out of  24 | elapsed:  2.7min finished\n",
      "[Parallel(n_jobs=24)]: Done  24 out of  24 | elapsed:  2.6min finished\n",
      "[Parallel(n_jobs=24)]: Done  24 out of  24 | elapsed:  2.7min finished\n",
      "[Parallel(n_jobs=24)]: Done  24 out of  24 | elapsed:  2.8min finished\n",
      "[Parallel(n_jobs=24)]: Done  24 out of  24 | elapsed:  2.6min finished\n",
      "[Parallel(n_jobs=24)]: Done  24 out of  24 | elapsed:  2.6min finished\n",
      "[Parallel(n_jobs=24)]: Done  24 out of  24 | elapsed:  2.7min finished\n",
      "[Parallel(n_jobs=24)]: Done  24 out of  24 | elapsed:  2.7min finished\n",
      "[Parallel(n_jobs=24)]: Done  24 out of  24 | elapsed:  2.7min finished\n",
      "[Parallel(n_jobs=24)]: Done  24 out of  24 | elapsed:  2.6min finished\n",
      "[Parallel(n_jobs=24)]: Done  24 out of  24 | elapsed:  2.7min finished\n",
      "[Parallel(n_jobs=24)]: Done  24 out of  24 | elapsed:  2.8min finished\n",
      "[Parallel(n_jobs=24)]: Done  24 out of  24 | elapsed:  2.8min finished\n",
      "[Parallel(n_jobs=24)]: Done  24 out of  24 | elapsed:  2.7min finished\n",
      "[Parallel(n_jobs=24)]: Done  24 out of  24 | elapsed:  2.8min finished\n",
      "[Parallel(n_jobs=24)]: Done  24 out of  24 | elapsed:  2.7min finished\n",
      "[Parallel(n_jobs=24)]: Done  24 out of  24 | elapsed:  2.7min finished\n",
      "[Parallel(n_jobs=24)]: Done  24 out of  24 | elapsed:  2.8min finished\n",
      "[Parallel(n_jobs=24)]: Done  24 out of  24 | elapsed:  2.6min finished\n",
      "[Parallel(n_jobs=24)]: Done  24 out of  24 | elapsed:  2.6min finished\n",
      "[Parallel(n_jobs=24)]: Done  24 out of  24 | elapsed:  2.8min finished\n",
      "[Parallel(n_jobs=24)]: Done  24 out of  24 | elapsed:  2.7min finished\n",
      "[Parallel(n_jobs=24)]: Done  24 out of  24 | elapsed:  2.7min finished\n",
      "[Parallel(n_jobs=24)]: Done  24 out of  24 | elapsed:  2.9min finished\n",
      "[Parallel(n_jobs=24)]: Done  24 out of  24 | elapsed:  2.7min finished\n",
      "[Parallel(n_jobs=24)]: Done  24 out of  24 | elapsed:  2.9min finished\n",
      "[Parallel(n_jobs=24)]: Done  24 out of  24 | elapsed:  2.7min finished\n",
      "[Parallel(n_jobs=24)]: Done  24 out of  24 | elapsed:  2.6min finished\n",
      "[Parallel(n_jobs=24)]: Done  24 out of  24 | elapsed:  2.8min finished\n",
      "[Parallel(n_jobs=24)]: Done  24 out of  24 | elapsed:  2.7min finished\n",
      "[Parallel(n_jobs=24)]: Done  24 out of  24 | elapsed:  2.9min finished\n",
      "[Parallel(n_jobs=24)]: Done  24 out of  24 | elapsed:  2.6min finished\n",
      "[Parallel(n_jobs=24)]: Done  24 out of  24 | elapsed:  2.7min finished\n",
      "[Parallel(n_jobs=24)]: Done  24 out of  24 | elapsed:  2.5min finished\n",
      "[Parallel(n_jobs=24)]: Done  24 out of  24 | elapsed:  2.8min finished\n",
      "[Parallel(n_jobs=24)]: Done  24 out of  24 | elapsed:  2.8min finished\n",
      "[Parallel(n_jobs=24)]: Done  24 out of  24 | elapsed:  2.7min finished\n",
      "[Parallel(n_jobs=24)]: Done  24 out of  24 | elapsed:  2.7min finished\n",
      "[Parallel(n_jobs=24)]: Done  24 out of  24 | elapsed:  2.8min finished\n",
      "[Parallel(n_jobs=24)]: Done  24 out of  24 | elapsed:  2.7min finished\n",
      "[Parallel(n_jobs=24)]: Done  24 out of  24 | elapsed:  2.7min finished\n",
      "[Parallel(n_jobs=24)]: Done  24 out of  24 | elapsed:  2.6min finished\n",
      "[Parallel(n_jobs=24)]: Done  24 out of  24 | elapsed:  2.7min finished\n",
      "[Parallel(n_jobs=24)]: Done  24 out of  24 | elapsed:  2.7min finished\n",
      "[Parallel(n_jobs=24)]: Done  24 out of  24 | elapsed:  2.7min finished\n",
      "[Parallel(n_jobs=24)]: Done  24 out of  24 | elapsed:  2.6min finished\n",
      "[Parallel(n_jobs=24)]: Done  24 out of  24 | elapsed:  2.7min finished\n",
      "[Parallel(n_jobs=24)]: Done  24 out of  24 | elapsed:  2.8min finished\n",
      "[Parallel(n_jobs=24)]: Done  24 out of  24 | elapsed:  2.7min finished\n",
      "[Parallel(n_jobs=24)]: Done  24 out of  24 | elapsed:  2.7min finished\n",
      "[Parallel(n_jobs=24)]: Done  24 out of  24 | elapsed:  2.7min finished\n",
      "[Parallel(n_jobs=24)]: Done  24 out of  24 | elapsed:  2.8min finished\n",
      "[Parallel(n_jobs=24)]: Done  24 out of  24 | elapsed:  2.7min finished\n",
      "[Parallel(n_jobs=24)]: Done  24 out of  24 | elapsed:  2.7min finished\n",
      "[Parallel(n_jobs=24)]: Done  24 out of  24 | elapsed:  2.8min finished\n",
      "[Parallel(n_jobs=24)]: Done  24 out of  24 | elapsed:  2.8min finished\n",
      "[Parallel(n_jobs=24)]: Done  24 out of  24 | elapsed:  2.6min finished\n",
      "[Parallel(n_jobs=24)]: Done  24 out of  24 | elapsed:  2.7min finished\n",
      "[Parallel(n_jobs=24)]: Done  24 out of  24 | elapsed:  2.7min finished\n",
      "[Parallel(n_jobs=24)]: Done  24 out of  24 | elapsed:  2.6min finished\n",
      "[Parallel(n_jobs=24)]: Done  24 out of  24 | elapsed:  2.7min finished\n",
      "[Parallel(n_jobs=24)]: Done  24 out of  24 | elapsed:  2.8min finished\n",
      "[Parallel(n_jobs=24)]: Done  24 out of  24 | elapsed:  2.8min finished\n",
      "[Parallel(n_jobs=24)]: Done  24 out of  24 | elapsed:  2.7min finished\n",
      "[Parallel(n_jobs=24)]: Done  24 out of  24 | elapsed:  2.7min finished\n",
      "[Parallel(n_jobs=24)]: Done  24 out of  24 | elapsed:  2.8min finished\n",
      "[Parallel(n_jobs=24)]: Done  24 out of  24 | elapsed:  2.7min finished\n",
      "[Parallel(n_jobs=24)]: Done  24 out of  24 | elapsed:  2.7min finished\n",
      "[Parallel(n_jobs=24)]: Done  24 out of  24 | elapsed:  2.6min finished\n",
      "[Parallel(n_jobs=24)]: Done  24 out of  24 | elapsed:  2.8min finished\n",
      "[Parallel(n_jobs=24)]: Done  24 out of  24 | elapsed:  2.7min finished\n",
      "[Parallel(n_jobs=24)]: Done  24 out of  24 | elapsed:  2.8min finished\n",
      "[Parallel(n_jobs=24)]: Done  24 out of  24 | elapsed:  2.7min finished\n",
      "[Parallel(n_jobs=24)]: Done  24 out of  24 | elapsed:  2.7min finished\n",
      "[Parallel(n_jobs=24)]: Done  24 out of  24 | elapsed:  2.8min finished\n",
      "[Parallel(n_jobs=24)]: Done  24 out of  24 | elapsed:  2.7min finished\n",
      "[Parallel(n_jobs=24)]: Done  24 out of  24 | elapsed:  2.7min finished\n",
      "[Parallel(n_jobs=24)]: Done  24 out of  24 | elapsed:  2.6min finished\n",
      "[Parallel(n_jobs=24)]: Done  24 out of  24 | elapsed:  2.8min finished\n",
      "[Parallel(n_jobs=24)]: Done  24 out of  24 | elapsed:  2.7min finished\n",
      "[Parallel(n_jobs=24)]: Done  24 out of  24 | elapsed:  2.8min finished\n",
      "[Parallel(n_jobs=24)]: Done  24 out of  24 | elapsed:  2.7min finished\n",
      "[Parallel(n_jobs=24)]: Done  24 out of  24 | elapsed:  2.9min finished\n",
      "[Parallel(n_jobs=24)]: Done  24 out of  24 | elapsed:  2.7min finished\n",
      "[Parallel(n_jobs=24)]: Done  24 out of  24 | elapsed:  2.8min finished\n",
      "[Parallel(n_jobs=24)]: Done  24 out of  24 | elapsed:  2.8min finished\n",
      "[Parallel(n_jobs=24)]: Done  24 out of  24 | elapsed:  2.7min finished\n",
      "[Parallel(n_jobs=24)]: Done  24 out of  24 | elapsed:  2.6min finished\n",
      "[Parallel(n_jobs=24)]: Done  24 out of  24 | elapsed:  2.8min finished\n",
      "[Parallel(n_jobs=24)]: Done  24 out of  24 | elapsed:  2.8min finished\n",
      "[Parallel(n_jobs=24)]: Done  24 out of  24 | elapsed:  2.8min finished\n",
      "[Parallel(n_jobs=24)]: Done  24 out of  24 | elapsed:  2.7min finished\n",
      "[Parallel(n_jobs=24)]: Done  24 out of  24 | elapsed:  2.8min finished\n",
      "[Parallel(n_jobs=24)]: Done  24 out of  24 | elapsed:  2.9min finished\n",
      "[Parallel(n_jobs=24)]: Done  24 out of  24 | elapsed:  2.6min finished\n",
      "[Parallel(n_jobs=24)]: Done  24 out of  24 | elapsed:  2.7min finished\n",
      "[Parallel(n_jobs=24)]: Done  24 out of  24 | elapsed:  2.8min finished\n",
      "[Parallel(n_jobs=24)]: Done  24 out of  24 | elapsed:  2.8min finished\n",
      "[Parallel(n_jobs=24)]: Done  24 out of  24 | elapsed:  2.7min finished\n",
      "[Parallel(n_jobs=24)]: Done  24 out of  24 | elapsed:  2.9min finished\n",
      "[Parallel(n_jobs=24)]: Done  24 out of  24 | elapsed:  2.6min finished\n",
      "[Parallel(n_jobs=24)]: Done  24 out of  24 | elapsed:  2.7min finished\n",
      "[Parallel(n_jobs=24)]: Done  24 out of  24 | elapsed:  2.9min finished\n",
      "[Parallel(n_jobs=24)]: Done  24 out of  24 | elapsed:  2.8min finished\n",
      "[Parallel(n_jobs=24)]: Done  24 out of  24 | elapsed:  2.7min finished\n",
      "[Parallel(n_jobs=24)]: Done  24 out of  24 | elapsed:  2.8min finished\n",
      "[Parallel(n_jobs=24)]: Done  24 out of  24 | elapsed:  2.7min finished\n",
      "[Parallel(n_jobs=24)]: Done  24 out of  24 | elapsed:  2.8min finished\n",
      "[Parallel(n_jobs=24)]: Done  24 out of  24 | elapsed:  2.9min finished\n",
      "[Parallel(n_jobs=24)]: Done  24 out of  24 | elapsed:  2.8min finished\n",
      "[Parallel(n_jobs=24)]: Done  24 out of  24 | elapsed:  3.1min finished\n",
      "[Parallel(n_jobs=24)]: Done  24 out of  24 | elapsed:  2.7min finished\n",
      "[Parallel(n_jobs=24)]: Done  24 out of  24 | elapsed:  2.7min finished\n",
      "[Parallel(n_jobs=24)]: Done  24 out of  24 | elapsed:  2.9min finished\n",
      "[Parallel(n_jobs=24)]: Done  24 out of  24 | elapsed:  2.9min finished\n",
      "[Parallel(n_jobs=24)]: Done  24 out of  24 | elapsed:  2.9min finished\n",
      "[Parallel(n_jobs=24)]: Done  24 out of  24 | elapsed:  3.0min finished\n",
      "[Parallel(n_jobs=24)]: Done  24 out of  24 | elapsed:  2.7min finished\n",
      "[Parallel(n_jobs=24)]: Done  24 out of  24 | elapsed:  2.8min finished\n",
      "[Parallel(n_jobs=24)]: Done  24 out of  24 | elapsed:  2.8min finished\n",
      "[Parallel(n_jobs=24)]: Done  24 out of  24 | elapsed:  2.7min finished\n",
      "[Parallel(n_jobs=24)]: Done  24 out of  24 | elapsed:  2.8min finished\n",
      "[Parallel(n_jobs=24)]: Done  24 out of  24 | elapsed:  2.9min finished\n",
      "[Parallel(n_jobs=24)]: Done  24 out of  24 | elapsed:  2.9min finished\n",
      "[Parallel(n_jobs=24)]: Done  24 out of  24 | elapsed:  2.9min finished\n",
      "[Parallel(n_jobs=24)]: Done  24 out of  24 | elapsed:  2.8min finished\n",
      "[Parallel(n_jobs=24)]: Done  24 out of  24 | elapsed:  3.0min finished\n",
      "[Parallel(n_jobs=24)]: Done  24 out of  24 | elapsed:  2.8min finished\n",
      "[Parallel(n_jobs=24)]: Done  24 out of  24 | elapsed:  2.9min finished\n",
      "[Parallel(n_jobs=24)]: Done  24 out of  24 | elapsed:  2.7min finished\n",
      "[Parallel(n_jobs=24)]: Done  24 out of  24 | elapsed:  3.0min finished\n",
      "[Parallel(n_jobs=24)]: Done  24 out of  24 | elapsed:  2.8min finished\n",
      "[Parallel(n_jobs=24)]: Done  24 out of  24 | elapsed:  3.0min finished\n",
      "[Parallel(n_jobs=24)]: Done  24 out of  24 | elapsed:  2.9min finished\n",
      "[Parallel(n_jobs=24)]: Done  24 out of  24 | elapsed:  2.9min finished\n",
      "[Parallel(n_jobs=24)]: Done  24 out of  24 | elapsed:  2.7min finished\n",
      "[Parallel(n_jobs=24)]: Done  24 out of  24 | elapsed:  2.9min finished\n",
      "[Parallel(n_jobs=24)]: Done  24 out of  24 | elapsed:  2.7min finished\n",
      "[Parallel(n_jobs=24)]: Done  24 out of  24 | elapsed:  2.9min finished\n",
      "[Parallel(n_jobs=24)]: Done  24 out of  24 | elapsed:  2.8min finished\n",
      "[Parallel(n_jobs=24)]: Done  24 out of  24 | elapsed:  3.0min finished\n",
      "[Parallel(n_jobs=24)]: Done  24 out of  24 | elapsed:  2.4min finished\n",
      "[Parallel(n_jobs=24)]: Done  24 out of  24 | elapsed:  2.5min finished\n",
      "[Parallel(n_jobs=24)]: Done  24 out of  24 | elapsed:  2.5min finished\n",
      "[Parallel(n_jobs=24)]: Done  24 out of  24 | elapsed:  2.6min finished\n",
      "[Parallel(n_jobs=24)]: Done  24 out of  24 | elapsed:  2.6min finished\n",
      "[Parallel(n_jobs=24)]: Done  24 out of  24 | elapsed:  2.6min finished\n",
      "[Parallel(n_jobs=24)]: Done  24 out of  24 | elapsed:  2.7min finished\n",
      "[Parallel(n_jobs=24)]: Done  24 out of  24 | elapsed:  2.6min finished\n",
      "[Parallel(n_jobs=24)]: Done  24 out of  24 | elapsed:  2.6min finished\n",
      "[Parallel(n_jobs=24)]: Done  24 out of  24 | elapsed:  2.6min finished\n",
      "[Parallel(n_jobs=24)]: Done  24 out of  24 | elapsed:  2.6min finished\n",
      "[Parallel(n_jobs=24)]: Done  24 out of  24 | elapsed:  2.6min finished\n",
      "[Parallel(n_jobs=24)]: Done  24 out of  24 | elapsed:  2.5min finished\n",
      "[Parallel(n_jobs=24)]: Done  24 out of  24 | elapsed:  2.6min finished\n",
      "[Parallel(n_jobs=24)]: Done  24 out of  24 | elapsed:  2.5min finished\n",
      "[Parallel(n_jobs=24)]: Done  24 out of  24 | elapsed:  2.5min finished\n",
      "[Parallel(n_jobs=24)]: Done  24 out of  24 | elapsed:  2.6min finished\n",
      "[Parallel(n_jobs=24)]: Done  24 out of  24 | elapsed:  2.5min finished\n",
      "[Parallel(n_jobs=24)]: Done  24 out of  24 | elapsed:  2.6min finished\n",
      "[Parallel(n_jobs=24)]: Done  24 out of  24 | elapsed:  2.6min finished\n",
      "[Parallel(n_jobs=24)]: Done  24 out of  24 | elapsed:  2.6min finished\n",
      "[Parallel(n_jobs=24)]: Done  24 out of  24 | elapsed:  2.6min finished\n",
      "[Parallel(n_jobs=24)]: Done  24 out of  24 | elapsed:  2.6min finished\n",
      "[Parallel(n_jobs=24)]: Done  24 out of  24 | elapsed:  2.6min finished\n",
      "[Parallel(n_jobs=24)]: Done  24 out of  24 | elapsed:  2.7min finished\n",
      "[Parallel(n_jobs=24)]: Done  24 out of  24 | elapsed:  2.6min finished\n",
      "[Parallel(n_jobs=24)]: Done  24 out of  24 | elapsed:  2.6min finished\n",
      "[Parallel(n_jobs=24)]: Done  24 out of  24 | elapsed:  2.6min finished\n",
      "[Parallel(n_jobs=24)]: Done  24 out of  24 | elapsed:  2.7min finished\n",
      "[Parallel(n_jobs=24)]: Done  24 out of  24 | elapsed:  2.6min finished\n",
      "[Parallel(n_jobs=24)]: Done  24 out of  24 | elapsed:  2.6min finished\n",
      "[Parallel(n_jobs=24)]: Done  24 out of  24 | elapsed:  2.7min finished\n",
      "[Parallel(n_jobs=24)]: Done  24 out of  24 | elapsed:  2.7min finished\n",
      "[Parallel(n_jobs=24)]: Done  24 out of  24 | elapsed:  2.7min finished\n",
      "[Parallel(n_jobs=24)]: Done  24 out of  24 | elapsed:  2.7min finished\n",
      "[Parallel(n_jobs=24)]: Done  24 out of  24 | elapsed:  2.7min finished\n",
      "[Parallel(n_jobs=24)]: Done  24 out of  24 | elapsed:  2.5min finished\n",
      "[Parallel(n_jobs=24)]: Done  24 out of  24 | elapsed:  2.7min finished\n",
      "[Parallel(n_jobs=24)]: Done  24 out of  24 | elapsed:  2.6min finished\n",
      "[Parallel(n_jobs=24)]: Done  24 out of  24 | elapsed:  2.7min finished\n",
      "[Parallel(n_jobs=24)]: Done  24 out of  24 | elapsed:  2.6min finished\n",
      "[Parallel(n_jobs=24)]: Done  24 out of  24 | elapsed:  2.8min finished\n",
      "[Parallel(n_jobs=24)]: Done  24 out of  24 | elapsed:  2.6min finished\n",
      "[Parallel(n_jobs=24)]: Done  24 out of  24 | elapsed:  2.7min finished\n",
      "[Parallel(n_jobs=24)]: Done  24 out of  24 | elapsed:  2.5min finished\n",
      "[Parallel(n_jobs=24)]: Done  24 out of  24 | elapsed:  2.7min finished\n",
      "[Parallel(n_jobs=24)]: Done  24 out of  24 | elapsed:  2.6min finished\n",
      "[Parallel(n_jobs=24)]: Done  24 out of  24 | elapsed:  2.5min finished\n",
      "[Parallel(n_jobs=24)]: Done  24 out of  24 | elapsed:  2.6min finished\n",
      "[Parallel(n_jobs=24)]: Done  24 out of  24 | elapsed:  2.7min finished\n",
      "[Parallel(n_jobs=24)]: Done  24 out of  24 | elapsed:  2.6min finished\n",
      "[Parallel(n_jobs=24)]: Done  24 out of  24 | elapsed:  2.7min finished\n",
      "[Parallel(n_jobs=24)]: Done  24 out of  24 | elapsed:  2.7min finished\n",
      "[Parallel(n_jobs=24)]: Done  24 out of  24 | elapsed:  2.7min finished\n",
      "[Parallel(n_jobs=24)]: Done  24 out of  24 | elapsed:  2.6min finished\n",
      "[Parallel(n_jobs=24)]: Done  24 out of  24 | elapsed:  2.6min finished\n",
      "[Parallel(n_jobs=24)]: Done  24 out of  24 | elapsed:  2.6min finished\n",
      "[Parallel(n_jobs=24)]: Done  24 out of  24 | elapsed:  2.6min finished\n",
      "[Parallel(n_jobs=24)]: Done  24 out of  24 | elapsed:  2.6min finished\n",
      "[Parallel(n_jobs=24)]: Done  24 out of  24 | elapsed:  2.7min finished\n",
      "[Parallel(n_jobs=24)]: Done  24 out of  24 | elapsed:  2.5min finished\n",
      "[Parallel(n_jobs=24)]: Done  24 out of  24 | elapsed:  2.7min finished\n",
      "[Parallel(n_jobs=24)]: Done  24 out of  24 | elapsed:  2.6min finished\n",
      "[Parallel(n_jobs=24)]: Done  24 out of  24 | elapsed:  2.7min finished\n",
      "[Parallel(n_jobs=24)]: Done  24 out of  24 | elapsed:  2.6min finished\n",
      "[Parallel(n_jobs=24)]: Done  24 out of  24 | elapsed:  2.7min finished\n",
      "[Parallel(n_jobs=24)]: Done  24 out of  24 | elapsed:  2.7min finished\n",
      "[Parallel(n_jobs=24)]: Done  24 out of  24 | elapsed:  2.8min finished\n",
      "[Parallel(n_jobs=24)]: Done  24 out of  24 | elapsed:  2.6min finished\n",
      "[Parallel(n_jobs=24)]: Done  24 out of  24 | elapsed:  2.7min finished\n",
      "[Parallel(n_jobs=24)]: Done  24 out of  24 | elapsed:  2.5min finished\n",
      "[Parallel(n_jobs=24)]: Done  24 out of  24 | elapsed:  2.6min finished\n",
      "[Parallel(n_jobs=24)]: Done  24 out of  24 | elapsed:  2.6min finished\n",
      "[Parallel(n_jobs=24)]: Done  24 out of  24 | elapsed:  2.7min finished\n",
      "[Parallel(n_jobs=24)]: Done  24 out of  24 | elapsed:  2.6min finished\n",
      "[Parallel(n_jobs=24)]: Done  24 out of  24 | elapsed:  2.6min finished\n",
      "[Parallel(n_jobs=24)]: Done  24 out of  24 | elapsed:  2.6min finished\n",
      "[Parallel(n_jobs=24)]: Done  24 out of  24 | elapsed:  2.7min finished\n",
      "[Parallel(n_jobs=24)]: Done  24 out of  24 | elapsed:  2.9min finished\n",
      "[Parallel(n_jobs=24)]: Done  24 out of  24 | elapsed:  2.7min finished\n",
      "[Parallel(n_jobs=24)]: Done  24 out of  24 | elapsed:  2.7min finished\n",
      "[Parallel(n_jobs=24)]: Done  24 out of  24 | elapsed:  2.6min finished\n",
      "[Parallel(n_jobs=24)]: Done  24 out of  24 | elapsed:  2.6min finished\n",
      "[Parallel(n_jobs=24)]: Done  24 out of  24 | elapsed:  2.6min finished\n",
      "[Parallel(n_jobs=24)]: Done  24 out of  24 | elapsed:  2.6min finished\n",
      "[Parallel(n_jobs=24)]: Done  24 out of  24 | elapsed:  2.7min finished\n",
      "[Parallel(n_jobs=24)]: Done  24 out of  24 | elapsed:  2.7min finished\n",
      "[Parallel(n_jobs=24)]: Done  24 out of  24 | elapsed:  2.8min finished\n",
      "[Parallel(n_jobs=24)]: Done  24 out of  24 | elapsed:  2.7min finished\n",
      "[Parallel(n_jobs=24)]: Done  24 out of  24 | elapsed:  2.6min finished\n",
      "[Parallel(n_jobs=24)]: Done  24 out of  24 | elapsed:  2.5min finished\n",
      "[Parallel(n_jobs=24)]: Done  24 out of  24 | elapsed:  2.6min finished\n",
      "[Parallel(n_jobs=24)]: Done  24 out of  24 | elapsed:  2.6min finished\n",
      "[Parallel(n_jobs=24)]: Done  24 out of  24 | elapsed:  2.7min finished\n",
      "[Parallel(n_jobs=24)]: Done  24 out of  24 | elapsed:  2.6min finished\n",
      "[Parallel(n_jobs=24)]: Done  24 out of  24 | elapsed:  2.7min finished\n",
      "[Parallel(n_jobs=24)]: Done  24 out of  24 | elapsed:  2.7min finished\n",
      "[Parallel(n_jobs=24)]: Done  24 out of  24 | elapsed:  2.7min finished\n",
      "[Parallel(n_jobs=24)]: Done  24 out of  24 | elapsed:  2.7min finished\n"
     ]
    },
    {
     "name": "stdout",
     "output_type": "stream",
     "text": [
      "Failed to save <type 'numpy.ndarray'> to .npy file:\n",
      "Traceback (most recent call last):\n",
      "  File \"/home/s/shalaby/.virtualenv/thesis-env/local/lib/python2.7/site-packages/sklearn/externals/joblib/numpy_pickle.py\", line 271, in save\n",
      "    obj, filename = self._write_array(obj, filename)\n",
      "  File \"/home/s/shalaby/.virtualenv/thesis-env/local/lib/python2.7/site-packages/sklearn/externals/joblib/numpy_pickle.py\", line 231, in _write_array\n",
      "    self.np.save(filename, array)\n",
      "  File \"/home/s/shalaby/.virtualenv/thesis-env/local/lib/python2.7/site-packages/numpy/lib/npyio.py\", line 491, in save\n",
      "    pickle_kwargs=pickle_kwargs)\n",
      "  File \"/home/s/shalaby/.virtualenv/thesis-env/local/lib/python2.7/site-packages/numpy/lib/format.py\", line 584, in write_array\n",
      "    array.tofile(fp)\n",
      "IOError: 10000000 requested and 6821366 written\n",
      "\n"
     ]
    },
    {
     "ename": "IOError",
     "evalue": "[Errno 28] No space left on device",
     "output_type": "error",
     "traceback": [
      "\u001b[1;31m---------------------------------------------------------------------------\u001b[0m",
      "\u001b[1;31mIOError\u001b[0m                                   Traceback (most recent call last)",
      "\u001b[1;32m<ipython-input-14-1491d44fb8db>\u001b[0m in \u001b[0;36m<module>\u001b[1;34m()\u001b[0m\n\u001b[1;32m----> 1\u001b[1;33m \u001b[0mget_ipython\u001b[0m\u001b[1;33m(\u001b[0m\u001b[1;33m)\u001b[0m\u001b[1;33m.\u001b[0m\u001b[0mrun_cell_magic\u001b[0m\u001b[1;33m(\u001b[0m\u001b[1;34mu'time'\u001b[0m\u001b[1;33m,\u001b[0m \u001b[1;34mu''\u001b[0m\u001b[1;33m,\u001b[0m \u001b[1;34mu'# data_types = [\"sublinear_tf\"]\\ndata_types = [\"bm25\"]\\n# data_types = [\"tf\", \"sublinear_tf\", \"tf_idf\", \"sublinear_tf_idf\",\"bm25\"]\\nfor data_type in data_types:\\n    info(\"=============== {} Being Evaluated ================\".format(data_type))\\n    \\n#     data_training_location = exports_location + \"extended_pv_benchmarking_data/\" + \"{}_training_sparse_data.pkl\".format(data_type)\\n#     data_training_docids_location = exports_location + \"extended_pv_benchmarking_data/\" + \"{}_training_sparse_docids.pkl\".format(data_type)\\n#     data_validation_location = exports_location + \"extended_pv_benchmarking_data/\" + \"{}_validation_sparse_data.pkl\".format(data_type)\\n#     data_validation_docids_location = exports_location + \"extended_pv_benchmarking_data/\" + \"{}_validation_sparse_docids.pkl\".format(data_type)\\n    \\n    data_training_location = exports_location + \"{}_training_sparse_data.pkl\".format(data_type)\\n    data_training_docids_location = exports_location + \"{}_training_sparse_docids.pkl\".format(data_type)\\n    data_validation_location = exports_location + \"{}_validation_sparse_data.pkl\".format(data_type)\\n    data_validation_docids_location = exports_location + \"{}_validation_sparse_docids.pkl\".format(data_type)\\n    \\n    # Get the training data\\n    info(\\'Getting Training Data\\')\\n    %time X = pickle.load(open(data_training_location, \"r\"))\\n    \\n    print X.shape\\n    \\n#     # Get the validation data\\n#     info(\\'Getting Valdiation Data\\')\\n#     %time Xv = pickle.load(open(data_validation_location,\\'r\\'))\\n#     validation_data_docids = pickle.load(open(data_validation_docids_location, \"r\"))\\n#     %time yv = get_label_data(classifications, validation_data_docids, doc_classification_map)\\n    \\n    # Get the validation data\\n    info(\\'Doing LDA decomposition\\')\\n    lda = LatentDirichletAllocation(n_topics=LDA_TOPICS, max_iter=LDA_ITERATIONS, learning_method=LDA_LEARNING_METHOD, \\\\\\n                                   learning_decay=LDA_DECAY, batch_size=LDA_BATCH_SIZE, \\\\\\n                                    evaluate_every=LDA_EVALUATE_EVERY, n_jobs=NUM_CORES, verbose=LDA_VERBOSE, random_state=LDA_SEED)\\n    \\n    %time lda.fit(X)\\n    \\n    \\n    # Dump the LDA model\\n    data_folder = os.path.join(lda_location, LDA_MODEL_NAME, data_type)\\n    if not os.path.exists(data_folder):\\n        os.makedirs(data_folder)\\n    pickle.dump(lda, open(os.path.join(data_folder, MODEL_FILE), \"w\"))'\u001b[0m\u001b[1;33m)\u001b[0m\u001b[1;33m\u001b[0m\u001b[0m\n\u001b[0m",
      "\u001b[1;32m/home/s/shalaby/.virtualenv/thesis-env/local/lib/python2.7/site-packages/IPython/core/interactiveshell.pyc\u001b[0m in \u001b[0;36mrun_cell_magic\u001b[1;34m(self, magic_name, line, cell)\u001b[0m\n\u001b[0;32m   2118\u001b[0m             \u001b[0mmagic_arg_s\u001b[0m \u001b[1;33m=\u001b[0m \u001b[0mself\u001b[0m\u001b[1;33m.\u001b[0m\u001b[0mvar_expand\u001b[0m\u001b[1;33m(\u001b[0m\u001b[0mline\u001b[0m\u001b[1;33m,\u001b[0m \u001b[0mstack_depth\u001b[0m\u001b[1;33m)\u001b[0m\u001b[1;33m\u001b[0m\u001b[0m\n\u001b[0;32m   2119\u001b[0m             \u001b[1;32mwith\u001b[0m \u001b[0mself\u001b[0m\u001b[1;33m.\u001b[0m\u001b[0mbuiltin_trap\u001b[0m\u001b[1;33m:\u001b[0m\u001b[1;33m\u001b[0m\u001b[0m\n\u001b[1;32m-> 2120\u001b[1;33m                 \u001b[0mresult\u001b[0m \u001b[1;33m=\u001b[0m \u001b[0mfn\u001b[0m\u001b[1;33m(\u001b[0m\u001b[0mmagic_arg_s\u001b[0m\u001b[1;33m,\u001b[0m \u001b[0mcell\u001b[0m\u001b[1;33m)\u001b[0m\u001b[1;33m\u001b[0m\u001b[0m\n\u001b[0m\u001b[0;32m   2121\u001b[0m             \u001b[1;32mreturn\u001b[0m \u001b[0mresult\u001b[0m\u001b[1;33m\u001b[0m\u001b[0m\n\u001b[0;32m   2122\u001b[0m \u001b[1;33m\u001b[0m\u001b[0m\n",
      "\u001b[1;32m<decorator-gen-60>\u001b[0m in \u001b[0;36mtime\u001b[1;34m(self, line, cell, local_ns)\u001b[0m\n",
      "\u001b[1;32m/home/s/shalaby/.virtualenv/thesis-env/local/lib/python2.7/site-packages/IPython/core/magic.pyc\u001b[0m in \u001b[0;36m<lambda>\u001b[1;34m(f, *a, **k)\u001b[0m\n\u001b[0;32m    191\u001b[0m     \u001b[1;31m# but it's overkill for just that one bit of state.\u001b[0m\u001b[1;33m\u001b[0m\u001b[1;33m\u001b[0m\u001b[0m\n\u001b[0;32m    192\u001b[0m     \u001b[1;32mdef\u001b[0m \u001b[0mmagic_deco\u001b[0m\u001b[1;33m(\u001b[0m\u001b[0marg\u001b[0m\u001b[1;33m)\u001b[0m\u001b[1;33m:\u001b[0m\u001b[1;33m\u001b[0m\u001b[0m\n\u001b[1;32m--> 193\u001b[1;33m         \u001b[0mcall\u001b[0m \u001b[1;33m=\u001b[0m \u001b[1;32mlambda\u001b[0m \u001b[0mf\u001b[0m\u001b[1;33m,\u001b[0m \u001b[1;33m*\u001b[0m\u001b[0ma\u001b[0m\u001b[1;33m,\u001b[0m \u001b[1;33m**\u001b[0m\u001b[0mk\u001b[0m\u001b[1;33m:\u001b[0m \u001b[0mf\u001b[0m\u001b[1;33m(\u001b[0m\u001b[1;33m*\u001b[0m\u001b[0ma\u001b[0m\u001b[1;33m,\u001b[0m \u001b[1;33m**\u001b[0m\u001b[0mk\u001b[0m\u001b[1;33m)\u001b[0m\u001b[1;33m\u001b[0m\u001b[0m\n\u001b[0m\u001b[0;32m    194\u001b[0m \u001b[1;33m\u001b[0m\u001b[0m\n\u001b[0;32m    195\u001b[0m         \u001b[1;32mif\u001b[0m \u001b[0mcallable\u001b[0m\u001b[1;33m(\u001b[0m\u001b[0marg\u001b[0m\u001b[1;33m)\u001b[0m\u001b[1;33m:\u001b[0m\u001b[1;33m\u001b[0m\u001b[0m\n",
      "\u001b[1;32m/home/s/shalaby/.virtualenv/thesis-env/local/lib/python2.7/site-packages/IPython/core/magics/execution.pyc\u001b[0m in \u001b[0;36mtime\u001b[1;34m(self, line, cell, local_ns)\u001b[0m\n\u001b[0;32m   1175\u001b[0m         \u001b[1;32melse\u001b[0m\u001b[1;33m:\u001b[0m\u001b[1;33m\u001b[0m\u001b[0m\n\u001b[0;32m   1176\u001b[0m             \u001b[0mst\u001b[0m \u001b[1;33m=\u001b[0m \u001b[0mclock2\u001b[0m\u001b[1;33m(\u001b[0m\u001b[1;33m)\u001b[0m\u001b[1;33m\u001b[0m\u001b[0m\n\u001b[1;32m-> 1177\u001b[1;33m             \u001b[1;32mexec\u001b[0m\u001b[1;33m(\u001b[0m\u001b[0mcode\u001b[0m\u001b[1;33m,\u001b[0m \u001b[0mglob\u001b[0m\u001b[1;33m,\u001b[0m \u001b[0mlocal_ns\u001b[0m\u001b[1;33m)\u001b[0m\u001b[1;33m\u001b[0m\u001b[0m\n\u001b[0m\u001b[0;32m   1178\u001b[0m             \u001b[0mend\u001b[0m \u001b[1;33m=\u001b[0m \u001b[0mclock2\u001b[0m\u001b[1;33m(\u001b[0m\u001b[1;33m)\u001b[0m\u001b[1;33m\u001b[0m\u001b[0m\n\u001b[0;32m   1179\u001b[0m             \u001b[0mout\u001b[0m \u001b[1;33m=\u001b[0m \u001b[0mNone\u001b[0m\u001b[1;33m\u001b[0m\u001b[0m\n",
      "\u001b[1;32m<timed exec>\u001b[0m in \u001b[0;36m<module>\u001b[1;34m()\u001b[0m\n",
      "\u001b[1;32m/home/s/shalaby/.virtualenv/thesis-env/local/lib/python2.7/site-packages/IPython/core/interactiveshell.pyc\u001b[0m in \u001b[0;36mmagic\u001b[1;34m(self, arg_s)\u001b[0m\n\u001b[0;32m   2161\u001b[0m         \u001b[0mmagic_name\u001b[0m\u001b[1;33m,\u001b[0m \u001b[0m_\u001b[0m\u001b[1;33m,\u001b[0m \u001b[0mmagic_arg_s\u001b[0m \u001b[1;33m=\u001b[0m \u001b[0marg_s\u001b[0m\u001b[1;33m.\u001b[0m\u001b[0mpartition\u001b[0m\u001b[1;33m(\u001b[0m\u001b[1;34m' '\u001b[0m\u001b[1;33m)\u001b[0m\u001b[1;33m\u001b[0m\u001b[0m\n\u001b[0;32m   2162\u001b[0m         \u001b[0mmagic_name\u001b[0m \u001b[1;33m=\u001b[0m \u001b[0mmagic_name\u001b[0m\u001b[1;33m.\u001b[0m\u001b[0mlstrip\u001b[0m\u001b[1;33m(\u001b[0m\u001b[0mprefilter\u001b[0m\u001b[1;33m.\u001b[0m\u001b[0mESC_MAGIC\u001b[0m\u001b[1;33m)\u001b[0m\u001b[1;33m\u001b[0m\u001b[0m\n\u001b[1;32m-> 2163\u001b[1;33m         \u001b[1;32mreturn\u001b[0m \u001b[0mself\u001b[0m\u001b[1;33m.\u001b[0m\u001b[0mrun_line_magic\u001b[0m\u001b[1;33m(\u001b[0m\u001b[0mmagic_name\u001b[0m\u001b[1;33m,\u001b[0m \u001b[0mmagic_arg_s\u001b[0m\u001b[1;33m)\u001b[0m\u001b[1;33m\u001b[0m\u001b[0m\n\u001b[0m\u001b[0;32m   2164\u001b[0m \u001b[1;33m\u001b[0m\u001b[0m\n\u001b[0;32m   2165\u001b[0m     \u001b[1;31m#-------------------------------------------------------------------------\u001b[0m\u001b[1;33m\u001b[0m\u001b[1;33m\u001b[0m\u001b[0m\n",
      "\u001b[1;32m/home/s/shalaby/.virtualenv/thesis-env/local/lib/python2.7/site-packages/IPython/core/interactiveshell.pyc\u001b[0m in \u001b[0;36mrun_line_magic\u001b[1;34m(self, magic_name, line)\u001b[0m\n\u001b[0;32m   2082\u001b[0m                 \u001b[0mkwargs\u001b[0m\u001b[1;33m[\u001b[0m\u001b[1;34m'local_ns'\u001b[0m\u001b[1;33m]\u001b[0m \u001b[1;33m=\u001b[0m \u001b[0msys\u001b[0m\u001b[1;33m.\u001b[0m\u001b[0m_getframe\u001b[0m\u001b[1;33m(\u001b[0m\u001b[0mstack_depth\u001b[0m\u001b[1;33m)\u001b[0m\u001b[1;33m.\u001b[0m\u001b[0mf_locals\u001b[0m\u001b[1;33m\u001b[0m\u001b[0m\n\u001b[0;32m   2083\u001b[0m             \u001b[1;32mwith\u001b[0m \u001b[0mself\u001b[0m\u001b[1;33m.\u001b[0m\u001b[0mbuiltin_trap\u001b[0m\u001b[1;33m:\u001b[0m\u001b[1;33m\u001b[0m\u001b[0m\n\u001b[1;32m-> 2084\u001b[1;33m                 \u001b[0mresult\u001b[0m \u001b[1;33m=\u001b[0m \u001b[0mfn\u001b[0m\u001b[1;33m(\u001b[0m\u001b[1;33m*\u001b[0m\u001b[0margs\u001b[0m\u001b[1;33m,\u001b[0m\u001b[1;33m**\u001b[0m\u001b[0mkwargs\u001b[0m\u001b[1;33m)\u001b[0m\u001b[1;33m\u001b[0m\u001b[0m\n\u001b[0m\u001b[0;32m   2085\u001b[0m             \u001b[1;32mreturn\u001b[0m \u001b[0mresult\u001b[0m\u001b[1;33m\u001b[0m\u001b[0m\n\u001b[0;32m   2086\u001b[0m \u001b[1;33m\u001b[0m\u001b[0m\n",
      "\u001b[1;32m<decorator-gen-60>\u001b[0m in \u001b[0;36mtime\u001b[1;34m(self, line, cell, local_ns)\u001b[0m\n",
      "\u001b[1;32m/home/s/shalaby/.virtualenv/thesis-env/local/lib/python2.7/site-packages/IPython/core/magic.pyc\u001b[0m in \u001b[0;36m<lambda>\u001b[1;34m(f, *a, **k)\u001b[0m\n\u001b[0;32m    191\u001b[0m     \u001b[1;31m# but it's overkill for just that one bit of state.\u001b[0m\u001b[1;33m\u001b[0m\u001b[1;33m\u001b[0m\u001b[0m\n\u001b[0;32m    192\u001b[0m     \u001b[1;32mdef\u001b[0m \u001b[0mmagic_deco\u001b[0m\u001b[1;33m(\u001b[0m\u001b[0marg\u001b[0m\u001b[1;33m)\u001b[0m\u001b[1;33m:\u001b[0m\u001b[1;33m\u001b[0m\u001b[0m\n\u001b[1;32m--> 193\u001b[1;33m         \u001b[0mcall\u001b[0m \u001b[1;33m=\u001b[0m \u001b[1;32mlambda\u001b[0m \u001b[0mf\u001b[0m\u001b[1;33m,\u001b[0m \u001b[1;33m*\u001b[0m\u001b[0ma\u001b[0m\u001b[1;33m,\u001b[0m \u001b[1;33m**\u001b[0m\u001b[0mk\u001b[0m\u001b[1;33m:\u001b[0m \u001b[0mf\u001b[0m\u001b[1;33m(\u001b[0m\u001b[1;33m*\u001b[0m\u001b[0ma\u001b[0m\u001b[1;33m,\u001b[0m \u001b[1;33m**\u001b[0m\u001b[0mk\u001b[0m\u001b[1;33m)\u001b[0m\u001b[1;33m\u001b[0m\u001b[0m\n\u001b[0m\u001b[0;32m    194\u001b[0m \u001b[1;33m\u001b[0m\u001b[0m\n\u001b[0;32m    195\u001b[0m         \u001b[1;32mif\u001b[0m \u001b[0mcallable\u001b[0m\u001b[1;33m(\u001b[0m\u001b[0marg\u001b[0m\u001b[1;33m)\u001b[0m\u001b[1;33m:\u001b[0m\u001b[1;33m\u001b[0m\u001b[0m\n",
      "\u001b[1;32m/home/s/shalaby/.virtualenv/thesis-env/local/lib/python2.7/site-packages/IPython/core/magics/execution.pyc\u001b[0m in \u001b[0;36mtime\u001b[1;34m(self, line, cell, local_ns)\u001b[0m\n\u001b[0;32m   1171\u001b[0m         \u001b[1;32mif\u001b[0m \u001b[0mmode\u001b[0m\u001b[1;33m==\u001b[0m\u001b[1;34m'eval'\u001b[0m\u001b[1;33m:\u001b[0m\u001b[1;33m\u001b[0m\u001b[0m\n\u001b[0;32m   1172\u001b[0m             \u001b[0mst\u001b[0m \u001b[1;33m=\u001b[0m \u001b[0mclock2\u001b[0m\u001b[1;33m(\u001b[0m\u001b[1;33m)\u001b[0m\u001b[1;33m\u001b[0m\u001b[0m\n\u001b[1;32m-> 1173\u001b[1;33m             \u001b[0mout\u001b[0m \u001b[1;33m=\u001b[0m \u001b[0meval\u001b[0m\u001b[1;33m(\u001b[0m\u001b[0mcode\u001b[0m\u001b[1;33m,\u001b[0m \u001b[0mglob\u001b[0m\u001b[1;33m,\u001b[0m \u001b[0mlocal_ns\u001b[0m\u001b[1;33m)\u001b[0m\u001b[1;33m\u001b[0m\u001b[0m\n\u001b[0m\u001b[0;32m   1174\u001b[0m             \u001b[0mend\u001b[0m \u001b[1;33m=\u001b[0m \u001b[0mclock2\u001b[0m\u001b[1;33m(\u001b[0m\u001b[1;33m)\u001b[0m\u001b[1;33m\u001b[0m\u001b[0m\n\u001b[0;32m   1175\u001b[0m         \u001b[1;32melse\u001b[0m\u001b[1;33m:\u001b[0m\u001b[1;33m\u001b[0m\u001b[0m\n",
      "\u001b[1;32m<timed eval>\u001b[0m in \u001b[0;36m<module>\u001b[1;34m()\u001b[0m\n",
      "\u001b[1;32m/home/s/shalaby/.virtualenv/thesis-env/local/lib/python2.7/site-packages/sklearn/decomposition/online_lda.pyc\u001b[0m in \u001b[0;36mfit\u001b[1;34m(self, X, y)\u001b[0m\n\u001b[0;32m    509\u001b[0m                     \u001b[1;32mfor\u001b[0m \u001b[0midx_slice\u001b[0m \u001b[1;32min\u001b[0m \u001b[0mgen_batches\u001b[0m\u001b[1;33m(\u001b[0m\u001b[0mn_samples\u001b[0m\u001b[1;33m,\u001b[0m \u001b[0mbatch_size\u001b[0m\u001b[1;33m)\u001b[0m\u001b[1;33m:\u001b[0m\u001b[1;33m\u001b[0m\u001b[0m\n\u001b[0;32m    510\u001b[0m                         self._em_step(X[idx_slice, :], total_samples=n_samples,\n\u001b[1;32m--> 511\u001b[1;33m                                       batch_update=False, parallel=parallel)\n\u001b[0m\u001b[0;32m    512\u001b[0m                 \u001b[1;32melse\u001b[0m\u001b[1;33m:\u001b[0m\u001b[1;33m\u001b[0m\u001b[0m\n\u001b[0;32m    513\u001b[0m                     \u001b[1;31m# batch update\u001b[0m\u001b[1;33m\u001b[0m\u001b[1;33m\u001b[0m\u001b[0m\n",
      "\u001b[1;32m/home/s/shalaby/.virtualenv/thesis-env/local/lib/python2.7/site-packages/sklearn/decomposition/online_lda.pyc\u001b[0m in \u001b[0;36m_em_step\u001b[1;34m(self, X, total_samples, batch_update, parallel)\u001b[0m\n\u001b[0;32m    403\u001b[0m         \u001b[1;31m# E-step\u001b[0m\u001b[1;33m\u001b[0m\u001b[1;33m\u001b[0m\u001b[0m\n\u001b[0;32m    404\u001b[0m         _, suff_stats = self._e_step(X, cal_sstats=True, random_init=True,\n\u001b[1;32m--> 405\u001b[1;33m                                      parallel=parallel)\n\u001b[0m\u001b[0;32m    406\u001b[0m \u001b[1;33m\u001b[0m\u001b[0m\n\u001b[0;32m    407\u001b[0m         \u001b[1;31m# M-step\u001b[0m\u001b[1;33m\u001b[0m\u001b[1;33m\u001b[0m\u001b[0m\n",
      "\u001b[1;32m/home/s/shalaby/.virtualenv/thesis-env/local/lib/python2.7/site-packages/sklearn/decomposition/online_lda.pyc\u001b[0m in \u001b[0;36m_e_step\u001b[1;34m(self, X, cal_sstats, random_init, parallel)\u001b[0m\n\u001b[0;32m    356\u001b[0m                                               \u001b[0mself\u001b[0m\u001b[1;33m.\u001b[0m\u001b[0mmean_change_tol\u001b[0m\u001b[1;33m,\u001b[0m \u001b[0mcal_sstats\u001b[0m\u001b[1;33m,\u001b[0m\u001b[1;33m\u001b[0m\u001b[0m\n\u001b[0;32m    357\u001b[0m                                               random_state)\n\u001b[1;32m--> 358\u001b[1;33m             for idx_slice in gen_even_slices(X.shape[0], n_jobs))\n\u001b[0m\u001b[0;32m    359\u001b[0m \u001b[1;33m\u001b[0m\u001b[0m\n\u001b[0;32m    360\u001b[0m         \u001b[1;31m# merge result\u001b[0m\u001b[1;33m\u001b[0m\u001b[1;33m\u001b[0m\u001b[0m\n",
      "\u001b[1;32m/home/s/shalaby/.virtualenv/thesis-env/local/lib/python2.7/site-packages/sklearn/externals/joblib/parallel.pyc\u001b[0m in \u001b[0;36m__call__\u001b[1;34m(self, iterable)\u001b[0m\n\u001b[0;32m    808\u001b[0m                 \u001b[1;31m# consumption.\u001b[0m\u001b[1;33m\u001b[0m\u001b[1;33m\u001b[0m\u001b[0m\n\u001b[0;32m    809\u001b[0m                 \u001b[0mself\u001b[0m\u001b[1;33m.\u001b[0m\u001b[0m_iterating\u001b[0m \u001b[1;33m=\u001b[0m \u001b[0mFalse\u001b[0m\u001b[1;33m\u001b[0m\u001b[0m\n\u001b[1;32m--> 810\u001b[1;33m             \u001b[0mself\u001b[0m\u001b[1;33m.\u001b[0m\u001b[0mretrieve\u001b[0m\u001b[1;33m(\u001b[0m\u001b[1;33m)\u001b[0m\u001b[1;33m\u001b[0m\u001b[0m\n\u001b[0m\u001b[0;32m    811\u001b[0m             \u001b[1;31m# Make sure that we get a last message telling us we are done\u001b[0m\u001b[1;33m\u001b[0m\u001b[1;33m\u001b[0m\u001b[0m\n\u001b[0;32m    812\u001b[0m             \u001b[0melapsed_time\u001b[0m \u001b[1;33m=\u001b[0m \u001b[0mtime\u001b[0m\u001b[1;33m.\u001b[0m\u001b[0mtime\u001b[0m\u001b[1;33m(\u001b[0m\u001b[1;33m)\u001b[0m \u001b[1;33m-\u001b[0m \u001b[0mself\u001b[0m\u001b[1;33m.\u001b[0m\u001b[0m_start_time\u001b[0m\u001b[1;33m\u001b[0m\u001b[0m\n",
      "\u001b[1;32m/home/s/shalaby/.virtualenv/thesis-env/local/lib/python2.7/site-packages/sklearn/externals/joblib/parallel.pyc\u001b[0m in \u001b[0;36mretrieve\u001b[1;34m(self)\u001b[0m\n\u001b[0;32m    725\u001b[0m                 \u001b[0mjob\u001b[0m \u001b[1;33m=\u001b[0m \u001b[0mself\u001b[0m\u001b[1;33m.\u001b[0m\u001b[0m_jobs\u001b[0m\u001b[1;33m.\u001b[0m\u001b[0mpop\u001b[0m\u001b[1;33m(\u001b[0m\u001b[1;36m0\u001b[0m\u001b[1;33m)\u001b[0m\u001b[1;33m\u001b[0m\u001b[0m\n\u001b[0;32m    726\u001b[0m             \u001b[1;32mtry\u001b[0m\u001b[1;33m:\u001b[0m\u001b[1;33m\u001b[0m\u001b[0m\n\u001b[1;32m--> 727\u001b[1;33m                 \u001b[0mself\u001b[0m\u001b[1;33m.\u001b[0m\u001b[0m_output\u001b[0m\u001b[1;33m.\u001b[0m\u001b[0mextend\u001b[0m\u001b[1;33m(\u001b[0m\u001b[0mjob\u001b[0m\u001b[1;33m.\u001b[0m\u001b[0mget\u001b[0m\u001b[1;33m(\u001b[0m\u001b[1;33m)\u001b[0m\u001b[1;33m)\u001b[0m\u001b[1;33m\u001b[0m\u001b[0m\n\u001b[0m\u001b[0;32m    728\u001b[0m             \u001b[1;32mexcept\u001b[0m \u001b[0mtuple\u001b[0m\u001b[1;33m(\u001b[0m\u001b[0mself\u001b[0m\u001b[1;33m.\u001b[0m\u001b[0mexceptions\u001b[0m\u001b[1;33m)\u001b[0m \u001b[1;32mas\u001b[0m \u001b[0mexception\u001b[0m\u001b[1;33m:\u001b[0m\u001b[1;33m\u001b[0m\u001b[0m\n\u001b[0;32m    729\u001b[0m                 \u001b[1;31m# Stop dispatching any new job in the async callback thread\u001b[0m\u001b[1;33m\u001b[0m\u001b[1;33m\u001b[0m\u001b[0m\n",
      "\u001b[1;32m/usr/lib/python2.7/multiprocessing/pool.pyc\u001b[0m in \u001b[0;36mget\u001b[1;34m(self, timeout)\u001b[0m\n\u001b[0;32m    565\u001b[0m             \u001b[1;32mreturn\u001b[0m \u001b[0mself\u001b[0m\u001b[1;33m.\u001b[0m\u001b[0m_value\u001b[0m\u001b[1;33m\u001b[0m\u001b[0m\n\u001b[0;32m    566\u001b[0m         \u001b[1;32melse\u001b[0m\u001b[1;33m:\u001b[0m\u001b[1;33m\u001b[0m\u001b[0m\n\u001b[1;32m--> 567\u001b[1;33m             \u001b[1;32mraise\u001b[0m \u001b[0mself\u001b[0m\u001b[1;33m.\u001b[0m\u001b[0m_value\u001b[0m\u001b[1;33m\u001b[0m\u001b[0m\n\u001b[0m\u001b[0;32m    568\u001b[0m \u001b[1;33m\u001b[0m\u001b[0m\n\u001b[0;32m    569\u001b[0m     \u001b[1;32mdef\u001b[0m \u001b[0m_set\u001b[0m\u001b[1;33m(\u001b[0m\u001b[0mself\u001b[0m\u001b[1;33m,\u001b[0m \u001b[0mi\u001b[0m\u001b[1;33m,\u001b[0m \u001b[0mobj\u001b[0m\u001b[1;33m)\u001b[0m\u001b[1;33m:\u001b[0m\u001b[1;33m\u001b[0m\u001b[0m\n",
      "\u001b[1;31mIOError\u001b[0m: [Errno 28] No space left on device"
     ]
    }
   ],
   "source": [
    "%%time\n",
    "# data_types = [\"sublinear_tf\"]\n",
    "data_types = [\"bm25\"]\n",
    "# data_types = [\"tf\", \"sublinear_tf\", \"tf_idf\", \"sublinear_tf_idf\",\"bm25\"]\n",
    "for data_type in data_types:\n",
    "    info(\"=============== {} Being Evaluated ================\".format(data_type))\n",
    "    \n",
    "#     data_training_location = exports_location + \"extended_pv_benchmarking_data/\" + \"{}_training_sparse_data.pkl\".format(data_type)\n",
    "#     data_training_docids_location = exports_location + \"extended_pv_benchmarking_data/\" + \"{}_training_sparse_docids.pkl\".format(data_type)\n",
    "#     data_validation_location = exports_location + \"extended_pv_benchmarking_data/\" + \"{}_validation_sparse_data.pkl\".format(data_type)\n",
    "#     data_validation_docids_location = exports_location + \"extended_pv_benchmarking_data/\" + \"{}_validation_sparse_docids.pkl\".format(data_type)\n",
    "    \n",
    "    data_training_location = exports_location + \"{}_training_sparse_data.pkl\".format(data_type)\n",
    "    data_training_docids_location = exports_location + \"{}_training_sparse_docids.pkl\".format(data_type)\n",
    "    data_validation_location = exports_location + \"{}_validation_sparse_data.pkl\".format(data_type)\n",
    "    data_validation_docids_location = exports_location + \"{}_validation_sparse_docids.pkl\".format(data_type)\n",
    "    \n",
    "    # Get the training data\n",
    "    info('Getting Training Data')\n",
    "    %time X = pickle.load(open(data_training_location, \"r\"))\n",
    "    \n",
    "    print X.shape\n",
    "    \n",
    "#     # Get the validation data\n",
    "#     info('Getting Valdiation Data')\n",
    "#     %time Xv = pickle.load(open(data_validation_location,'r'))\n",
    "#     validation_data_docids = pickle.load(open(data_validation_docids_location, \"r\"))\n",
    "#     %time yv = get_label_data(classifications, validation_data_docids, doc_classification_map)\n",
    "    \n",
    "    # Get the validation data\n",
    "    info('Doing LDA decomposition')\n",
    "    lda = LatentDirichletAllocation(n_topics=LDA_TOPICS, max_iter=LDA_ITERATIONS, learning_method=LDA_LEARNING_METHOD, \\\n",
    "                                   learning_decay=LDA_DECAY, batch_size=LDA_BATCH_SIZE, \\\n",
    "                                    evaluate_every=LDA_EVALUATE_EVERY, n_jobs=NUM_CORES, verbose=LDA_VERBOSE, random_state=LDA_SEED)\n",
    "    \n",
    "    %time lda.fit(X)\n",
    "    \n",
    "    \n",
    "    # Dump the LDA model\n",
    "    data_folder = os.path.join(lda_location, LDA_MODEL_NAME, data_type)\n",
    "    if not os.path.exists(data_folder):\n",
    "        os.makedirs(data_folder)\n",
    "    pickle.dump(lda, open(os.path.join(data_folder, MODEL_FILE), \"w\"))\n"
   ]
  },
  {
   "cell_type": "code",
   "execution_count": 18,
   "metadata": {
    "collapsed": false
   },
   "outputs": [],
   "source": [
    "\n",
    "# Dump the LDA model\n",
    "data_folder = os.path.join(lda_location, LDA_MODEL_NAME, data_type)\n",
    "if not os.path.exists(data_folder):\n",
    "    os.makedirs(data_folder)\n",
    "pickle.dump(lda, gzip.open(os.path.join(data_folder, MODEL_FILE + GZIP_EXTENSION), \"w\"))\n"
   ]
  },
  {
   "cell_type": "markdown",
   "metadata": {},
   "source": [
    "## Load the LDA Model"
   ]
  },
  {
   "cell_type": "code",
   "execution_count": 14,
   "metadata": {
    "collapsed": true
   },
   "outputs": [],
   "source": [
    "data_type = \"bm25\""
   ]
  },
  {
   "cell_type": "code",
   "execution_count": 15,
   "metadata": {
    "collapsed": false
   },
   "outputs": [],
   "source": [
    "data_folder = os.path.join(lda_location, LDA_MODEL_NAME, data_type)\n",
    "lda = pickle.load(gzip.open(os.path.join(data_folder, MODEL_FILE + GZIP_EXTENSION), \"r\"))\n"
   ]
  },
  {
   "cell_type": "markdown",
   "metadata": {},
   "source": [
    "## Generate Training Data"
   ]
  },
  {
   "cell_type": "code",
   "execution_count": 16,
   "metadata": {
    "collapsed": false
   },
   "outputs": [
    {
     "name": "stderr",
     "output_type": "stream",
     "text": [
      "2017-04-09 05:11:15,670 : INFO : Getting Training Data\n"
     ]
    },
    {
     "name": "stdout",
     "output_type": "stream",
     "text": [
      "CPU times: user 11min 26s, sys: 15 s, total: 11min 41s\n",
      "Wall time: 11min 48s\n"
     ]
    }
   ],
   "source": [
    "data_training_location = exports_location + \"{}_training_sparse_data.pkl\".format(data_type)\n",
    "\n",
    "# Get the training data\n",
    "info('Getting Training Data')\n",
    "%time X = pickle.load(open(data_training_location, \"r\"))\n"
   ]
  },
  {
   "cell_type": "code",
   "execution_count": 36,
   "metadata": {
    "collapsed": true
   },
   "outputs": [],
   "source": [
    "data_folder = os.path.join(lda_location, LDA_MODEL_NAME, data_type)\n",
    "lda_data_training_location = os.path.join(data_folder, \"lda_training_data.pkl\")"
   ]
  },
  {
   "cell_type": "code",
   "execution_count": 20,
   "metadata": {
    "collapsed": false
   },
   "outputs": [
    {
     "name": "stderr",
     "output_type": "stream",
     "text": [
      "[Parallel(n_jobs=24)]: Done  24 out of  24 | elapsed: 511.7min finished\n"
     ]
    },
    {
     "name": "stdout",
     "output_type": "stream",
     "text": [
      "CPU times: user 1min 19s, sys: 32.2 s, total: 1min 51s\n",
      "Wall time: 8h 31min 51s\n"
     ]
    }
   ],
   "source": [
    "%%time\n",
    "X_lda_training = lda.transform(X)"
   ]
  },
  {
   "cell_type": "code",
   "execution_count": 37,
   "metadata": {
    "collapsed": false
   },
   "outputs": [],
   "source": [
    "%%time\n",
    "pickle.dump(X_lda_training, open(lda_data_training_location, \"w\"))"
   ]
  },
  {
   "cell_type": "code",
   "execution_count": 38,
   "metadata": {
    "collapsed": true
   },
   "outputs": [],
   "source": [
    "import numpy as np"
   ]
  },
  {
   "cell_type": "code",
   "execution_count": 41,
   "metadata": {
    "collapsed": false
   },
   "outputs": [
    {
     "name": "stdout",
     "output_type": "stream",
     "text": [
      "CPU times: user 364 ms, sys: 14.5 s, total: 14.9 s\n",
      "Wall time: 1min 47s\n"
     ]
    }
   ],
   "source": [
    "%time np.save(open(os.path.join(data_folder, \"lda_training_data.npy\"), \"w\"), X_lda_training)"
   ]
  },
  {
   "cell_type": "code",
   "execution_count": 39,
   "metadata": {
    "collapsed": false
   },
   "outputs": [
    {
     "data": {
      "text/plain": [
       "(1286325, 1000)"
      ]
     },
     "execution_count": 39,
     "metadata": {},
     "output_type": "execute_result"
    }
   ],
   "source": [
    "X_lda_training.shape"
   ]
  },
  {
   "cell_type": "markdown",
   "metadata": {},
   "source": [
    "## Generating Validation Data"
   ]
  },
  {
   "cell_type": "code",
   "execution_count": 23,
   "metadata": {
    "collapsed": true
   },
   "outputs": [],
   "source": [
    "data_validation_location = exports_location + \"{}_validation_sparse_data.pkl\".format(data_type)\n",
    "data_folder = os.path.join(lda_location, LDA_MODEL_NAME, data_type)\n",
    "lda_data_validation_location = os.path.join(data_folder, \"lda_validation_data.pkl\")"
   ]
  },
  {
   "cell_type": "code",
   "execution_count": null,
   "metadata": {
    "collapsed": false
   },
   "outputs": [
    {
     "name": "stderr",
     "output_type": "stream",
     "text": [
      "2017-04-09 15:12:10,993 : INFO : Getting Valdiation Data\n"
     ]
    },
    {
     "name": "stdout",
     "output_type": "stream",
     "text": [
      "CPU times: user 2min 57s, sys: 4.42 s, total: 3min 2s\n",
      "Wall time: 3min 4s\n"
     ]
    }
   ],
   "source": [
    "# Get the validation data\n",
    "info('Getting Valdiation Data')\n",
    "%time Xv = pickle.load(open(data_validation_location,'r'))"
   ]
  },
  {
   "cell_type": "code",
   "execution_count": null,
   "metadata": {
    "collapsed": false
   },
   "outputs": [
    {
     "name": "stderr",
     "output_type": "stream",
     "text": [
      "[Parallel(n_jobs=24)]: Done  24 out of  24 | elapsed: 192.7min finished\n"
     ]
    },
    {
     "name": "stdout",
     "output_type": "stream",
     "text": [
      "CPU times: user 33.2 s, sys: 24.8 s, total: 58 s\n",
      "Wall time: 3h 19min 40s\n"
     ]
    }
   ],
   "source": [
    "%%time\n",
    "X_lda_validation = lda.transform(Xv)"
   ]
  },
  {
   "cell_type": "code",
   "execution_count": 26,
   "metadata": {
    "collapsed": true
   },
   "outputs": [],
   "source": [
    "pickle.dump(X_lda_validation, open(lda_data_validation_location, \"w\"))"
   ]
  },
  {
   "cell_type": "markdown",
   "metadata": {},
   "source": [
    "## Generating Test Data"
   ]
  },
  {
   "cell_type": "code",
   "execution_count": 27,
   "metadata": {
    "collapsed": true
   },
   "outputs": [],
   "source": [
    "data_test_location = exports_location + \"{}_test_sparse_data.pkl\".format(data_type)"
   ]
  },
  {
   "cell_type": "code",
   "execution_count": 28,
   "metadata": {
    "collapsed": true
   },
   "outputs": [],
   "source": [
    "data_folder = os.path.join(lda_location, LDA_MODEL_NAME, data_type)\n",
    "lda_data_test_location = os.path.join(data_folder, \"lda_test_data.pkl\")"
   ]
  },
  {
   "cell_type": "code",
   "execution_count": null,
   "metadata": {
    "collapsed": false
   },
   "outputs": [
    {
     "name": "stderr",
     "output_type": "stream",
     "text": [
      "2017-04-09 20:10:25,045 : INFO : Getting Test Data\n"
     ]
    },
    {
     "name": "stdout",
     "output_type": "stream",
     "text": [
      "CPU times: user 3min 15s, sys: 4.92 s, total: 3min 20s\n",
      "Wall time: 3min 22s\n"
     ]
    }
   ],
   "source": [
    "# Get the test data\n",
    "info('Getting Test Data')\n",
    "%time Xt = pickle.load(open(data_test_location, \"r\"))"
   ]
  },
  {
   "cell_type": "code",
   "execution_count": null,
   "metadata": {
    "collapsed": false
   },
   "outputs": [
    {
     "name": "stderr",
     "output_type": "stream",
     "text": [
      "[Parallel(n_jobs=24)]: Done  24 out of  24 | elapsed: 167.9min finished\n"
     ]
    },
    {
     "name": "stdout",
     "output_type": "stream",
     "text": [
      "CPU times: user 24.3 s, sys: 51.9 s, total: 1min 16s\n",
      "Wall time: 2h 48min 25s\n"
     ]
    }
   ],
   "source": [
    "%%time\n",
    "X_lda_test = lda.transform(Xt)"
   ]
  },
  {
   "cell_type": "code",
   "execution_count": 32,
   "metadata": {
    "collapsed": false
   },
   "outputs": [
    {
     "name": "stdout",
     "output_type": "stream",
     "text": [
      "CPU times: user 4min 43s, sys: 8.46 s, total: 4min 51s\n",
      "Wall time: 6min 3s\n"
     ]
    }
   ],
   "source": [
    "%%time\n",
    "pickle.dump(X_lda_test, open(lda_data_test_location, \"w\"))"
   ]
  },
  {
   "cell_type": "code",
   "execution_count": 42,
   "metadata": {
    "collapsed": false
   },
   "outputs": [
    {
     "data": {
      "text/plain": [
       "(401877, 1000)"
      ]
     },
     "execution_count": 42,
     "metadata": {},
     "output_type": "execute_result"
    }
   ],
   "source": [
    "X_lda_test.shape"
   ]
  },
  {
   "cell_type": "code",
   "execution_count": null,
   "metadata": {
    "collapsed": true
   },
   "outputs": [],
   "source": []
  }
 ],
 "metadata": {
  "kernelspec": {
   "display_name": "Python 2",
   "language": "python",
   "name": "python2"
  },
  "language_info": {
   "codemirror_mode": {
    "name": "ipython",
    "version": 2
   },
   "file_extension": ".py",
   "mimetype": "text/x-python",
   "name": "python",
   "nbconvert_exporter": "python",
   "pygments_lexer": "ipython2",
   "version": "2.7.11+"
  }
 },
 "nbformat": 4,
 "nbformat_minor": 0
}
