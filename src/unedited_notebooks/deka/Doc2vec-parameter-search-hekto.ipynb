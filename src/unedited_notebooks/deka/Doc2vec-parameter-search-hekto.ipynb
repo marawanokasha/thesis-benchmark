{
 "cells": [
  {
   "cell_type": "code",
   "execution_count": 1,
   "metadata": {
    "collapsed": false
   },
   "outputs": [],
   "source": [
    "import json\n",
    "import nltk\n",
    "from nltk.tokenize import RegexpTokenizer\n",
    "import string\n",
    "import math\n",
    "import os\n",
    "import time\n",
    "from collections import namedtuple\n",
    "import cPickle as pickle\n",
    "import pandas as pd\n",
    "\n",
    "import pyspark\n",
    "from pyspark.mllib.regression import LabeledPoint\n",
    "from pyspark.mllib.linalg import SparseVector\n",
    "from pyspark.mllib.classification import SVMWithSGD, SVMModel\n",
    "\n",
    "%matplotlib inline\n",
    "import matplotlib.pyplot as plt\n",
    "import matplotlib as mpl\n",
    "import numpy as np\n",
    "import random\n",
    "from sklearn.metrics import coverage_error\n",
    "import sklearn.metrics\n",
    "from gensim.models.doc2vec import Doc2Vec, LabeledSentence\n",
    "from sklearn.svm import LinearSVC\n",
    "from sklearn.multiclass import OneVsRestClassifier\n",
    "from sklearn.preprocessing import MultiLabelBinarizer\n",
    "import logging\n",
    "from logging import info\n",
    "from functools import partial"
   ]
  },
  {
   "cell_type": "code",
   "execution_count": 2,
   "metadata": {
    "collapsed": true
   },
   "outputs": [],
   "source": [
    "root = logging.getLogger()\n",
    "for handler in root.handlers[:]:\n",
    "    root.removeHandler(handler)\n",
    "logging.basicConfig(format='%(asctime)s : %(levelname)s : %(message)s', level=logging.INFO) # adds a default StreamHanlder\n",
    "#root.addHandler(logging.StreamHandler())"
   ]
  },
  {
   "cell_type": "code",
   "execution_count": 3,
   "metadata": {
    "collapsed": true
   },
   "outputs": [],
   "source": [
    "IS_SAMPLE = True"
   ]
  },
  {
   "cell_type": "code",
   "execution_count": 4,
   "metadata": {
    "collapsed": true
   },
   "outputs": [],
   "source": [
    "SVM_SEED = 1234\n",
    "DOC2VEC_SEED = 1234"
   ]
  },
  {
   "cell_type": "code",
   "execution_count": 5,
   "metadata": {
    "collapsed": true
   },
   "outputs": [],
   "source": [
    "NUMBER_INDICATOR = \"number_inidicator\"\n",
    "CURRENCY_INDICATOR = \"currency_inidicator\"\n",
    "CHEMICAL_INDICATOR = \"chemical_inidicator\"\n",
    "MIN_WORD_COUNT = 5\n",
    "MIN_SIZE = 0\n",
    "NUM_CORES = 20"
   ]
  },
  {
   "cell_type": "code",
   "execution_count": 6,
   "metadata": {
    "collapsed": false
   },
   "outputs": [],
   "source": [
    "GLOBAL_VARS = namedtuple('GLOBAL_VARS', ['MODEL_NAME', 'DOC2VEC_MODEL', 'SVM_MODEL_NAME'])"
   ]
  },
  {
   "cell_type": "code",
   "execution_count": 7,
   "metadata": {
    "collapsed": true
   },
   "outputs": [],
   "source": [
    "SAMPLE_RATIO = 0.0001"
   ]
  },
  {
   "cell_type": "code",
   "execution_count": 8,
   "metadata": {
    "collapsed": true
   },
   "outputs": [],
   "source": [
    "VOCAB_MODEL = \"vocab_model\"\n",
    "MODEL_PREFIX = \"model\"\n",
    "VALIDATION_MATRIX = \"validation_matrix.pkl\"\n",
    "METRICS = \"metrics.pkl\""
   ]
  },
  {
   "cell_type": "code",
   "execution_count": 9,
   "metadata": {
    "collapsed": false
   },
   "outputs": [],
   "source": [
    "#training_file = \"/home/local/shalaby/docs_output_sample_100.json\"\n",
    "\n",
    "save_parent_location = \"hdfs://deka.cip.ifi.lmu.de/pg-vectors/\"\n",
    "if IS_SAMPLE: \n",
    "    save_parent_location = save_parent_location + \"sample_\" + str(SAMPLE_RATIO) + \"/\"\n",
    "\n",
    "\n",
    "root_location = \"/big/s/shalaby/\"\n",
    "exports_location = root_location + \"exported_data/\"\n",
    "\n",
    "doc2vec_model_save_location = os.path.join(root_location, \"parameter_search_doc2vec_models\", \"sample_\" + str(SAMPLE_RATIO))\n",
    "if not os.path.exists(doc2vec_model_save_location):\n",
    "    os.makedirs(doc2vec_model_save_location)\n",
    "if not os.path.exists(os.path.join(doc2vec_model_save_location, VOCAB_MODEL)):\n",
    "    os.makedirs(os.path.join(doc2vec_model_save_location, VOCAB_MODEL))\n",
    "\n",
    "#training_file = root_location + \"docs_output.json\"\n",
    "training_file = root_location + 'docs_output_training_validation_documents_' + str(SAMPLE_RATIO)\n",
    "\n",
    "doc_classifications_map_file = exports_location + \"doc_classification_map.pkl\"\n",
    "sections_file = exports_location + \"sections.pkl\"\n",
    "classes_file = exports_location + \"classes.pkl\"\n",
    "subclasses_file = exports_location + \"subclasses.pkl\"\n",
    "classifications_output = exports_location + \"classifications.pkl\"\n",
    "training_docs_list_file = exports_location + \"training_documents_\" + str(SAMPLE_RATIO) + \"_sample.pkl\"\n",
    "validation_docs_list_file = exports_location + \"validation_documents_\" + str(SAMPLE_RATIO) + \"_sample.pkl\""
   ]
  },
  {
   "cell_type": "code",
   "execution_count": 10,
   "metadata": {
    "collapsed": false
   },
   "outputs": [
    {
     "name": "stdout",
     "output_type": "stream",
     "text": [
      "CPU times: user 28.6 s, sys: 1.7 s, total: 30.3 s\n",
      "Wall time: 31.1 s\n"
     ]
    }
   ],
   "source": [
    "%%time\n",
    "doc_classification_map = pickle.load(open(doc_classifications_map_file))\n",
    "sections = pickle.load(open(sections_file))\n",
    "classes = pickle.load(open(classes_file))\n",
    "subclasses = pickle.load(open(subclasses_file))\n",
    "training_docs_list = pickle.load(open(training_docs_list_file))\n",
    "validation_docs_list = pickle.load(open(validation_docs_list_file))"
   ]
  },
  {
   "cell_type": "code",
   "execution_count": 11,
   "metadata": {
    "collapsed": false
   },
   "outputs": [
    {
     "data": {
      "text/plain": [
       "8979"
      ]
     },
     "execution_count": 11,
     "metadata": {},
     "output_type": "execute_result"
    }
   ],
   "source": [
    "len(training_docs_list)"
   ]
  },
  {
   "cell_type": "code",
   "execution_count": 12,
   "metadata": {
    "collapsed": false
   },
   "outputs": [
    {
     "data": {
      "text/plain": [
       "1969"
      ]
     },
     "execution_count": 12,
     "metadata": {},
     "output_type": "execute_result"
    }
   ],
   "source": [
    "len(validation_docs_list)"
   ]
  },
  {
   "cell_type": "code",
   "execution_count": 13,
   "metadata": {
    "collapsed": true
   },
   "outputs": [],
   "source": [
    "def stemtokenizer(text):\n",
    "    \"\"\" MAIN FUNCTION to get clean stems out of a text. A list of clean stems are returned \"\"\"\n",
    "    tokenizer = RegexpTokenizer(r'\\s+', gaps=True)\n",
    "    tokens = tokenizer.tokenize(text)\n",
    "    stems = []  # result\n",
    "    for token in tokens:\n",
    "        stem = token.lower()\n",
    "        stem = stem.strip(string.punctuation)\n",
    "        if stem:\n",
    "            if is_number(stem):\n",
    "                stem = NUMBER_INDICATOR\n",
    "            elif is_currency(stem):\n",
    "                stem = CURRENCY_INDICATOR\n",
    "            elif is_chemical(stem):\n",
    "                stem = CHEMICAL_INDICATOR\n",
    "            else:\n",
    "                stem = stem.strip(string.punctuation)\n",
    "            if stem and len(stem) >= MIN_SIZE:\n",
    "                # extract uni-grams\n",
    "                stems.append(stem)\n",
    "    del tokens\n",
    "    return stems\n",
    "\n",
    "def is_number(str):\n",
    "    \"\"\" Returns true if given string is a number (float or int)\"\"\"\n",
    "    try:\n",
    "        float(str.replace(\",\", \"\"))\n",
    "        return True\n",
    "    except ValueError:\n",
    "        return False\n",
    "\n",
    "def is_currency(str):\n",
    "    return str[0] == \"$\"\n",
    "\n",
    "def is_chemical(str):\n",
    "    return str.count(\"-\") > 3"
   ]
  },
  {
   "cell_type": "code",
   "execution_count": 14,
   "metadata": {
    "collapsed": true
   },
   "outputs": [],
   "source": [
    "def get_training_vector(classification, term_list, classifications, number_of_terms):\n",
    "    clss = 1 if classification in classifications else 0\n",
    "    return LabeledPoint(clss, SparseVector(number_of_terms, term_list))\n",
    "\n",
    "def train_level_new(docs_index, classification, doc_classification_map, number_of_terms):\n",
    "    training_vectors = docs_index.map(\n",
    "        lambda (doc_id, postings): get_training_vector(classification, postings,\n",
    "                                                        doc_classification_map[doc_id], number_of_terms))\n",
    "    svm = SVMWithSGD.train(training_vectors, iterations=SVM_ITERATIONS, convergenceTol=SVM_CONVERGENCE, regParam=SVM_REG)\n",
    "    return training_vectors, svm\n",
    "\n",
    "get_binary = lambda x: 1 if x > 0 else 0\n",
    "get_binary = np.vectorize(get_binary)\n",
    "\n",
    "\n",
    "def get_top_N_percentage(y_score, y_true, max_N=3):\n",
    "    \"\"\"\n",
    "    Get percentage of correct labels that are in the top N scores\n",
    "    \"\"\"\n",
    "    num_all_true = 0\n",
    "    num_found_in_max_N = 0\n",
    "    for i in xrange(y_score.shape[0]):\n",
    "        y_score_row = y_score[i,:]\n",
    "        y_true_row = y_true[i,:]\n",
    "        desc_score_indices = np.argsort(y_score_row)[::-1]\n",
    "        true_indices = np.where(y_true_row ==1)[0]\n",
    "        \n",
    "        num_true_in_row = len(true_indices)\n",
    "        num_all_true += num_true_in_row\n",
    "        for i, score_index in enumerate(desc_score_indices):\n",
    "            # only iterate through the score list till depth N, but make sure you also account for the case where \n",
    "            # the number of true labels for the current row is higher than N\n",
    "            if i >= max_N and i >= num_true_in_row:\n",
    "                break\n",
    "            if score_index in true_indices:\n",
    "                num_found_in_max_N += 1\n",
    "    return float(num_found_in_max_N)/ num_all_true\n",
    "\n",
    "\n",
    "def get_metrics(y_true, y_score, y_binary_score):\n",
    "    metrics = {}\n",
    "    metrics['total_positive'] = np.sum(np.sum(y_binary_score))\n",
    "    #TODO remove those two when running on the whole set to avoid excessive storage costs\n",
    "    metrics['y_true'] = y_true\n",
    "    metrics['y_score'] = y_score\n",
    "    metrics['y_binary_score'] = y_binary_score\n",
    "    metrics['coverage_error'] = coverage_error(y_true, y_binary_score)\n",
    "    metrics['average_num_of_labels'] = np.sum(np.sum(y_true, axis=1))/y_true.shape[0]\n",
    "    metrics['average_precision_micro'] = sklearn.metrics.average_precision_score(y_true, y_binary_score, average='micro')\n",
    "    metrics['average_precision_macro'] = sklearn.metrics.average_precision_score(y_true, y_binary_score, average='macro')\n",
    "    metrics['precision_micro'] = sklearn.metrics.precision_score(y_true, y_binary_score, average='micro')\n",
    "    metrics['precision_macro'] = sklearn.metrics.precision_score(y_true, y_binary_score, average='macro')\n",
    "    metrics['recall_micro'] = sklearn.metrics.recall_score(y_true, y_binary_score, average='micro')\n",
    "    metrics['recall_macro'] = sklearn.metrics.recall_score(y_true, y_binary_score, average='macro')\n",
    "    metrics['f1_micro'] = sklearn.metrics.f1_score(y_true, y_binary_score, average='micro')\n",
    "    metrics['f1_macro'] = sklearn.metrics.f1_score(y_true, y_binary_score, average='macro')\n",
    "\n",
    "    precision_scores = np.zeros(y_true.shape[1])\n",
    "    for i in range(0, y_true.shape[1]):\n",
    "        precision_scores[i] = sklearn.metrics.precision_score(y_true[:,i], y_binary_score[:,i])\n",
    "    metrics['precision_scores_array'] = precision_scores.tolist()\n",
    "\n",
    "    recall_scores = np.zeros(y_true.shape[1])\n",
    "    for i in range(0, y_true.shape[1]):\n",
    "        recall_scores[i] = sklearn.metrics.recall_score(y_true[:,i], y_binary_score[:,i])\n",
    "    metrics['recall_scores_array'] = recall_scores.tolist()\n",
    "\n",
    "    f1_scores = np.zeros(y_true.shape[1])\n",
    "    for i in range(0, y_true.shape[1]):\n",
    "        f1_scores[i] = sklearn.metrics.f1_score(y_true[:,i], y_binary_score[:,i])\n",
    "    metrics['f1_scores_array'] = f1_scores.tolist()\n",
    "\n",
    "    metrics['top_1'] = get_top_N_percentage(y_score, y_true, max_N=1)\n",
    "    metrics['top_3'] = get_top_N_percentage(y_score, y_true, max_N=3)\n",
    "    metrics['top_5'] = get_top_N_percentage(y_score, y_true, max_N=5)\n",
    "    \n",
    "    return metrics\n",
    "\n",
    "def model_exists(path):\n",
    "    try:\n",
    "        model = SVMModel.load(sc, path)\n",
    "        return True;\n",
    "    except:\n",
    "        return False\n",
    "    \n",
    "def get_training_vector(classification, dense_vector, classifications):\n",
    "    clss = 1 if classification in classifications else 0\n",
    "    return LabeledPoint(clss, dense_vector)\n",
    "\n",
    "def train_level_doc2vec(classification, doc_classification_map):\n",
    "    doc2vec_model = GLOBAL_VARS.DOC2VEC_MODEL\n",
    "    training_vectors = []\n",
    "    for doc_id in training_docs_list:\n",
    "        # converting from memmap to a normal array as spark is unable to convert memmap to a spark Vector\n",
    "        normal_array = []\n",
    "        normal_array[:] = doc2vec_model.docvecs[doc_id][:]\n",
    "        training_vectors.append(get_training_vector(classification, normal_array, \n",
    "                                                    doc_classification_map[doc_id]))\n",
    "    info(\"Finished getting training vectors\")\n",
    "    training_vectors = sc.parallelize(training_vectors)\n",
    "    info(\"Finished parallelization\")\n",
    "    svm = SVMWithSGD.train(training_vectors, iterations=SVM_ITERATIONS, convergenceTol=SVM_CONVERGENCE, regParam=SVM_REG)\n",
    "    return training_vectors, svm"
   ]
  },
  {
   "cell_type": "code",
   "execution_count": 15,
   "metadata": {
    "collapsed": false
   },
   "outputs": [],
   "source": [
    "def ensure_hdfs_location_exists(location):\n",
    "    parent = os.path.dirname(location)\n",
    "    os.system(\"hdfs dfs -mkdir -p \" + location)\n",
    "\n",
    "def ensure_disk_location_exists(location):\n",
    "    if not os.path.exists(location):\n",
    "        os.makedirs(location)"
   ]
  },
  {
   "cell_type": "code",
   "execution_count": 16,
   "metadata": {
    "collapsed": true
   },
   "outputs": [],
   "source": [
    "def train_classifications(classifications):\n",
    "    info(\"====== Doing Training\")\n",
    "    i=0\n",
    "    for classification in classifications:\n",
    "        print classification\n",
    "        try:\n",
    "            model_path = get_svm_model_path(GLOBAL_VARS.MODEL_NAME, classification)\n",
    "            if not model_exists(model_path):\n",
    "                training_vectors, svm = train_level_doc2vec(classification, doc_classification_map)\n",
    "                svm.save(sc, model_path)\n",
    "            else:\n",
    "                print \"Model Exists\"\n",
    "        except:\n",
    "            print \"Problem creating: %s: %s\" % (classification, GLOBAL_VARS.MODEL_NAME)\n",
    "            raise"
   ]
  },
  {
   "cell_type": "code",
   "execution_count": 17,
   "metadata": {
    "collapsed": false
   },
   "outputs": [],
   "source": [
    "def do_validation(validation_vectors_matrix, doc_classification_map, classifications, classifications_name):\n",
    "\n",
    "    info(\"====== Doing Validation\")\n",
    "    method = GLOBAL_VARS.MODEL_NAME\n",
    "    subset = classifications_name\n",
    "\n",
    "    doc_count = validation_vectors_matrix.shape[0]\n",
    "    y_score = np.zeros((doc_count, len(classifications)))\n",
    "    y_true = np.zeros((doc_count, len(classifications)))\n",
    "    i=0\n",
    "\n",
    "    for classification in classifications:\n",
    "        print classification\n",
    "\n",
    "        validation_vectors = get_validation_doc2vec_spark_vectors(validation_vectors_matrix, \n",
    "                                                                  classification, doc_classification_map)\n",
    "        #global binarySvm\n",
    "        binarySvm = SVMModel.load(sc, get_svm_model_path(GLOBAL_VARS.MODEL_NAME, classification))\n",
    "        info(\"Loaded the model, Doing the prediction now....\")\n",
    "        binarySvm.clearThreshold()\n",
    "        binarySvmB = sc.broadcast(binarySvm)\n",
    "        # using the broadcasted binarySvm variable, fixes global name 'binarySvm' is not defined as this variable was not\n",
    "        # available in the workers, so we pass it explicitly to the mapper using partial\n",
    "        labels_predictions = validation_vectors.map( \\\n",
    "            partial(lambda svm, p: (p.label, svm.value.predict(p.features)), binarySvmB) \\\n",
    "        ).collect()\n",
    "        #labels = test_labeled_points.map(lambda p: p.labels)\n",
    "        y_true[:,i] = [label_pred[0] for label_pred in labels_predictions]\n",
    "        y_score[:,i] = [label_pred[1] for label_pred in labels_predictions]\n",
    "        i+=1\n",
    "    y_binary_score = get_binary(y_score)\n",
    "    # results[method][\"y_true\"] = y_true\n",
    "    # results[method][\"y_score\"] = y_score\n",
    "    # results[method][\"y_binary_score\"] = y_binary_score\n",
    "    metrics = get_metrics(y_true, y_score, y_binary_score)\n",
    "    return metrics\n"
   ]
  },
  {
   "cell_type": "code",
   "execution_count": 18,
   "metadata": {
    "collapsed": false
   },
   "outputs": [],
   "source": [
    "def get_validation_docs_with_inference(doc2vec_model, doc_classification_map):\n",
    "    \"\"\"\n",
    "    Use the trained doc2vec model to get the paragraph vector representations of the validation documents\n",
    "    \"\"\"\n",
    "    if os.path.exists(os.path.join(doc2vec_model_save_location, GLOBAL_VARS.MODEL_NAME, VALIDATION_MATRIX)):\n",
    "        info(\"===== Loading validation vectors\")\n",
    "        validation_vectors_matrix = pickle.load(open(os.path.join(doc2vec_model_save_location, GLOBAL_VARS.MODEL_NAME, VALIDATION_MATRIX)))\n",
    "    else:\n",
    "        validation_documents_reps = {}\n",
    "        validation_vectors = []\n",
    "        validation_labels = []\n",
    "        info(\"===== Getting validation vectors with inference\")\n",
    "\n",
    "        # do inference and store results in dict\n",
    "        i = 0\n",
    "        for (doc_id, doc_contents_array) in ValidationDocumentGenerator(training_file, validation_docs_list):\n",
    "            i += 1\n",
    "            if i % 1000 == 0: info(\"Finished: {}\".format(str(i)))\n",
    "            validation_documents_reps[doc_id] = doc2vec_model.infer_vector(doc_contents_array)\n",
    "\n",
    "        # create matrix for the validation vectors\n",
    "        for validation_doc_id in validation_docs_list:\n",
    "            validation_vectors.append(validation_documents_reps[validation_doc_id])\n",
    "            validation_labels.append([classf for classf in doc_classification_map[validation_doc_id] if classf in sections])\n",
    "        validation_vectors_matrix = np.array(validation_vectors)\n",
    "        pickle.dump(validation_vectors_matrix, open(os.path.join(doc2vec_model_save_location, GLOBAL_VARS.MODEL_NAME, VALIDATION_MATRIX), 'w'))\n",
    "    \n",
    "    return validation_vectors_matrix"
   ]
  },
  {
   "cell_type": "code",
   "execution_count": 19,
   "metadata": {
    "collapsed": true
   },
   "outputs": [],
   "source": [
    "def get_validation_doc2vec_spark_vectors(validation_vectors_matrix, classification, doc_classification_map):\n",
    "    validation_vectors = []\n",
    "    for (index, doc_id) in enumerate(validation_docs_list):\n",
    "        # converting from memmap to a normal array as spark is unable to convert memmap to a spark Vector\n",
    "        validation_vector = validation_vectors_matrix[index]\n",
    "        validation_vectors.append(get_training_vector(classification, validation_vector, \n",
    "                                                    doc_classification_map[doc_id]))\n",
    "    validation_vectors = sc.parallelize(validation_vectors)\n",
    "    info(\"Finished getting validation vectors\")\n",
    "    return validation_vectors"
   ]
  },
  {
   "cell_type": "code",
   "execution_count": 20,
   "metadata": {
    "collapsed": true
   },
   "outputs": [],
   "source": [
    "class MetricsGraph:\n",
    "    def __init__(self):\n",
    "        self.coverage_errors = []\n",
    "        self.average_num_labels = []\n",
    "        \n",
    "        self.f1_micros = []\n",
    "        self.precision_micros = []\n",
    "        self.recall_micros = []\n",
    "        self.f1_macros = []\n",
    "        self.precision_macros = []\n",
    "        self.recall_macros = []\n",
    "        \n",
    "        self.top_1s = []\n",
    "        self.top_3s = []\n",
    "        self.top_5s = []\n",
    "        \n",
    "        self.epochs = []\n",
    "        \n",
    "        self.fig = None\n",
    "        self.ax = None\n",
    "        self.ax2 = None\n",
    "    \n",
    "    def init_graph(self):\n",
    "        self.fig = plt.figure(figsize=(12,6), dpi=80)\n",
    "        self.ax = plt.subplot(121)\n",
    "        self.ax2 = plt.subplot(122)\n",
    "        self.fig.subplots_adjust(top=0.72, bottom=0.1, left=0.05, right=0.95)\n",
    "        self.ax.set_xlabel(\"Epochs\")\n",
    "        self.ax2.set_xlabel(\"Epochs\")\n",
    "    \n",
    "    def _add_metrics(self, metrics, epoch):\n",
    "        self.coverage_errors.append(metrics['coverage_error'])\n",
    "        self.average_num_labels.append(metrics['average_num_of_labels'])\n",
    "        \n",
    "        self.f1_micros.append(metrics['f1_micro'])\n",
    "        self.precision_micros.append(metrics['precision_micro'])\n",
    "        self.recall_micros.append(metrics['recall_micro'])\n",
    "        self.f1_macros.append(metrics['f1_macro'])\n",
    "        self.precision_macros.append(metrics['precision_macro'])\n",
    "        self.recall_macros.append(metrics['recall_macro'])\n",
    "        \n",
    "        self.top_1s.append(metrics['top_1']  if 'top_1' in metrics else get_top_N_percentage(metrics['y_score'], metrics['y_true'], max_N=1))\n",
    "        self.top_3s.append(metrics['top_3']  if 'top_3' in metrics else get_top_N_percentage(metrics['y_score'], metrics['y_true'], max_N=3))\n",
    "        self.top_5s.append(metrics['top_5']  if 'top_5' in metrics else get_top_N_percentage(metrics['y_score'], metrics['y_true'], max_N=5))\n",
    "        \n",
    "        self.epochs.append(epoch)\n",
    "        \n",
    "    def add_metrics_to_graph(self, metrics, epoch, draw_now=True):\n",
    "        \n",
    "        self._add_metrics(metrics, epoch)\n",
    "        if draw_now:\n",
    "            self.draw()\n",
    "\n",
    "    def draw(self):\n",
    "        \n",
    "        first_epoch = self.epochs[0]\n",
    "        last_epoch = self.epochs[-1]\n",
    "        \n",
    "        coverage_error_line, = self.ax.plot(self.epochs, self.coverage_errors, 'r-', label='Coverage Error')\n",
    "        average_num_labels_line, = self.ax.plot(self.epochs, self.average_num_labels, 'g-', label='Avg Num. of Labels')\n",
    "\n",
    "        self.ax.legend(handles=[coverage_error_line, average_num_labels_line],\n",
    "                  bbox_to_anchor=(0., 1.02, 1., .102), loc=3, ncol=2, mode=\"expand\", borderaxespad=0.)\n",
    "        self.ax.axis([first_epoch, last_epoch, 0, 10])\n",
    "        # show the average number of labels as a separate y-tick\n",
    "        curr_min_cov = [min(self.coverage_errors)]\n",
    "        prev_min_cov = [min(self.coverage_errors[:-1])] if len(self.coverage_errors) > 1 else []\n",
    "        self.ax.set_yticks(list(set(self.ax.get_yticks())- set(prev_min_cov) ) + [self.average_num_labels[0]] + curr_min_cov)\n",
    "\n",
    "        f1_micro_line, = self.ax2.plot(self.epochs, self.f1_micros, 'g-', label='F1 Micro')\n",
    "        precision_micro_line, = self.ax2.plot(self.epochs, self.precision_micros, 'r-', label='Precision Micro')\n",
    "        recall_micro_line, = self.ax2.plot(self.epochs, self.recall_micros, 'b-', label='Recall Micro')\n",
    "        f1_macro_line, = self.ax2.plot(self.epochs, self.f1_macros, 'g--', label='F1 Macro')\n",
    "        precision_macro_line, = self.ax2.plot(self.epochs, self.precision_macros, 'r--', label='Precision Macro')\n",
    "        recall_macro_line, = self.ax2.plot(self.epochs, self.recall_macros, 'b--', label='Recall Macro')\n",
    "        \n",
    "        top_1_line, = self.ax2.plot(self.epochs, self.top_1s, 'g-.', label='Top 1 %')\n",
    "        top_3_line, = self.ax2.plot(self.epochs, self.top_3s, 'r-.', label='Top 3 %')\n",
    "        top_5_line, = self.ax2.plot(self.epochs, self.top_5s, 'b-.', label='Top 5 %')\n",
    "        \n",
    "        self.ax2.legend(handles=[f1_micro_line, precision_micro_line, recall_micro_line, \n",
    "                                 f1_macro_line, precision_macro_line, recall_macro_line,\n",
    "                                 top_1_line, top_3_line, top_5_line],\n",
    "                  bbox_to_anchor=(0., 1.02, 1., .102), loc=3, ncol=2, mode=\"expand\", borderaxespad=0.)\n",
    "        self.ax2.axis([first_epoch, last_epoch, 0, 1])\n",
    "        curr_max_f1_micro = [max(self.f1_micros)]\n",
    "        prev_max_f1_micro = [max(self.f1_micros[:-1])] if len(self.f1_micros) > 1 else []\n",
    "        self.ax2.set_yticks(list(set(self.ax2.get_yticks())- set(prev_max_f1_micro) ) + curr_max_f1_micro)\n",
    "        \n",
    "        self.fig.canvas.draw()"
   ]
  },
  {
   "cell_type": "markdown",
   "metadata": {},
   "source": [
    "### Doc2vec and SVM Parameters"
   ]
  },
  {
   "cell_type": "code",
   "execution_count": 21,
   "metadata": {
    "collapsed": true
   },
   "outputs": [],
   "source": [
    "DOC2VEC_SIZE = 3000\n",
    "DOC2VEC_WINDOW = 8\n",
    "DOC2VEC_MAX_VOCAB_SIZE = None\n",
    "DOC2VEC_SAMPLE = 1e-5\n",
    "DOC2VEC_TYPE = 1\n",
    "DOC2VEC_HIERARCHICAL_SAMPLE = 1\n",
    "DOC2VEC_NEGATIVE_SAMPLE_SIZE = 0\n",
    "DOC2VEC_CONCAT = 1\n",
    "DOC2VEC_MEAN = 0\n",
    "DOC2VEC_TRAIN_WORDS = 0\n",
    "DOC2VEC_EPOCHS = 1 # we do our training manually one epoch at a time\n",
    "DOC2VEC_MAX_EPOCHS = 20\n",
    "REPORT_DELAY = 60 # report the progress every x seconds\n",
    "REPORT_VOCAB_PROGRESS = 1000 # report the progress every x terms"
   ]
  },
  {
   "cell_type": "code",
   "execution_count": 22,
   "metadata": {
    "collapsed": true
   },
   "outputs": [],
   "source": [
    "SVM_ITERATIONS = 1000\n",
    "SVM_CONVERGENCE = 0.001\n",
    "SVM_REG = 0.1\n",
    "GLOBAL_VARS.SVM_MODEL_NAME = 'iter_{}_reg_{}'.format(SVM_ITERATIONS, SVM_REG)"
   ]
  },
  {
   "cell_type": "code",
   "execution_count": 23,
   "metadata": {
    "collapsed": false
   },
   "outputs": [],
   "source": [
    "def get_svm_model_path(method, classification, reg=SVM_REG, iterations=SVM_ITERATIONS):\n",
    "    location = os.path.join(save_parent_location, \"models\", method, \n",
    "                            \"iter_\" + str(iterations) + \"_reg_\" + str(reg),\n",
    "                            classification + \"_model.svm\")\n",
    "    ensure_hdfs_location_exists(location)\n",
    "    return location\n",
    "\n",
    "class TrainingDocumentGenerator(object):\n",
    "    def __init__(self, filename, training_docs_list):\n",
    "        self.filename = filename\n",
    "        self.training_docs_list = training_docs_list\n",
    "    def __iter__(self):\n",
    "        for line in open(self.filename):\n",
    "            if not line.strip(): continue\n",
    "            (doc_id, text) = eval(line)\n",
    "            if doc_id in self.training_docs_list:\n",
    "                yield LabeledSentence(words=stemtokenizer(text), tags=[doc_id])\n",
    "                \n",
    "class ValidationDocumentGenerator(object):\n",
    "    def __init__(self, filename, validation_docs_list):\n",
    "        self.filename = filename\n",
    "        self.validation_docs_list = validation_docs_list\n",
    "    def __iter__(self):\n",
    "        for line in open(self.filename):\n",
    "            if not line.strip(): continue\n",
    "            (doc_id, text) = eval(line)\n",
    "            if doc_id in self.validation_docs_list:\n",
    "                yield doc_id, stemtokenizer(text)"
   ]
  },
  {
   "cell_type": "markdown",
   "metadata": {},
   "source": [
    "## Create the Doc2vec model"
   ]
  },
  {
   "cell_type": "code",
   "execution_count": 24,
   "metadata": {
    "collapsed": false,
    "scrolled": true
   },
   "outputs": [
    {
     "data": {
      "text/plain": [
       "'doc2vec_size_3000_w_8_type_dm_concat_1_mean_0_trainwords_0_hs_1_neg_0_vocabsize_None_curriter_{}'"
      ]
     },
     "execution_count": 24,
     "metadata": {},
     "output_type": "execute_result"
    }
   ],
   "source": [
    "placeholder_model_name = 'doc2vec_size_{}_w_{}_type_{}_concat_{}_mean_{}_trainwords_{}_hs_{}_neg_{}_vocabsize_{}'.format(DOC2VEC_SIZE, \n",
    "                                                                DOC2VEC_WINDOW, \n",
    "                                                                'dm' if DOC2VEC_TYPE == 1 else 'pv-dbow',\n",
    "                                                                DOC2VEC_CONCAT, DOC2VEC_MEAN,\n",
    "                                                                DOC2VEC_TRAIN_WORDS,\n",
    "                                                                DOC2VEC_HIERARCHICAL_SAMPLE,DOC2VEC_NEGATIVE_SAMPLE_SIZE,\n",
    "                                                                str(DOC2VEC_MAX_VOCAB_SIZE))\n",
    "placeholder_model_name = placeholder_model_name + \"_curriter_{}\"\n",
    "placeholder_model_name"
   ]
  },
  {
   "cell_type": "code",
   "execution_count": 25,
   "metadata": {
    "collapsed": false
   },
   "outputs": [],
   "source": [
    "doc2vec_model = Doc2Vec(size=DOC2VEC_SIZE , window=DOC2VEC_WINDOW, min_count=MIN_WORD_COUNT, \n",
    "                max_vocab_size= DOC2VEC_MAX_VOCAB_SIZE,\n",
    "                sample=DOC2VEC_SAMPLE, seed=DOC2VEC_SEED, workers=NUM_CORES,\n",
    "                # doc2vec algorithm dm=1 => PV-DM, dm=2 => PV-DBOW, PV-DM dictates CBOW for words\n",
    "                dm=DOC2VEC_TYPE,\n",
    "                # hs=0 => negative sampling, hs=1 => hierarchical softmax\n",
    "                hs=DOC2VEC_HIERARCHICAL_SAMPLE, negative=DOC2VEC_NEGATIVE_SAMPLE_SIZE,\n",
    "                dm_concat=DOC2VEC_CONCAT,\n",
    "                # would train words with skip-gram on top of cbow, we don't need that for now\n",
    "                dbow_words=DOC2VEC_TRAIN_WORDS,\n",
    "                iter=DOC2VEC_EPOCHS)\n",
    "\n",
    "GLOBAL_VARS.DOC2VEC_MODEL = doc2vec_model"
   ]
  },
  {
   "cell_type": "code",
   "execution_count": 26,
   "metadata": {
    "collapsed": false
   },
   "outputs": [
    {
     "name": "stderr",
     "output_type": "stream",
     "text": [
      "2016-10-07 17:52:53,155 : INFO : loading Doc2Vec object from /big/s/shalaby/parameter_search_doc2vec_models/sample_0.0001/vocab_model/model\n",
      "2016-10-07 17:52:54,155 : INFO : loading docvecs recursively from /big/s/shalaby/parameter_search_doc2vec_models/sample_0.0001/vocab_model/model.docvecs.* with mmap=None\n",
      "2016-10-07 17:52:54,156 : INFO : loading syn1neg from /big/s/shalaby/parameter_search_doc2vec_models/sample_0.0001/vocab_model/model.syn1neg.npy with mmap=None\n",
      "2016-10-07 17:54:22,216 : INFO : loading syn0 from /big/s/shalaby/parameter_search_doc2vec_models/sample_0.0001/vocab_model/model.syn0.npy with mmap=None\n",
      "2016-10-07 17:54:22,392 : INFO : setting ignored attribute syn0norm to None\n",
      "2016-10-07 17:54:22,393 : INFO : setting ignored attribute cum_table to None\n",
      "2016-10-07 17:54:22,746 : INFO : using concatenative 51000-dimensional layer1\n",
      "2016-10-07 17:54:22,747 : INFO : resetting layer weights\n"
     ]
    },
    {
     "name": "stdout",
     "output_type": "stream",
     "text": [
      "CPU times: user 12.9 s, sys: 5.91 s, total: 18.8 s\n",
      "Wall time: 1min 42s\n"
     ]
    }
   ],
   "source": [
    "%%time\n",
    "if not os.path.exists(os.path.join(doc2vec_model_save_location, VOCAB_MODEL, MODEL_PREFIX)):\n",
    "    doc2vec_model.build_vocab(sentences=TrainingDocumentGenerator(training_file, training_docs_list), \n",
    "                              progress_per=REPORT_VOCAB_PROGRESS)\n",
    "    doc2vec_model.save(os.path.join(doc2vec_model_save_location, VOCAB_MODEL, MODEL_PREFIX))\n",
    "else: \n",
    "    doc2vec_model_vocab_model = Doc2Vec.load(os.path.join(doc2vec_model_save_location, VOCAB_MODEL, MODEL_PREFIX))\n",
    "    doc2vec_model.reset_from(doc2vec_model_vocab_model)"
   ]
  },
  {
   "cell_type": "markdown",
   "metadata": {},
   "source": [
    "## Actual Training, validation and Metrics Loop"
   ]
  },
  {
   "cell_type": "code",
   "execution_count": 27,
   "metadata": {
    "collapsed": true
   },
   "outputs": [],
   "source": [
    "doc2vec_model.min_alpha = 0.025\n",
    "epoch_metrics = []"
   ]
  },
  {
   "cell_type": "code",
   "execution_count": 34,
   "metadata": {
    "collapsed": false
   },
   "outputs": [
    {
     "name": "stderr",
     "output_type": "stream",
     "text": [
      "2016-10-03 19:00:38,690 : INFO : collecting all words and their counts\n",
      "2016-10-03 19:00:38,740 : INFO : PROGRESS: at example #0, processed 0 words (0/s), 0 word types, 0 tags\n",
      "2016-10-03 19:01:37,770 : INFO : PROGRESS: at example #1000, processed 6730672 words (114024/s), 101429 word types, 1000 tags\n",
      "2016-10-03 19:02:36,288 : INFO : PROGRESS: at example #2000, processed 13377669 words (113592/s), 173358 word types, 2000 tags\n",
      "2016-10-03 19:03:32,512 : INFO : PROGRESS: at example #3000, processed 19721952 words (112841/s), 237449 word types, 3000 tags\n",
      "2016-10-03 19:04:28,242 : INFO : PROGRESS: at example #4000, processed 26105730 words (114552/s), 283534 word types, 4000 tags\n",
      "2016-10-03 19:05:25,009 : INFO : PROGRESS: at example #5000, processed 32474320 words (112191/s), 327931 word types, 5000 tags\n",
      "2016-10-03 19:06:23,327 : INFO : PROGRESS: at example #6000, processed 39183207 words (115041/s), 377546 word types, 6000 tags\n",
      "2016-10-03 19:07:20,243 : INFO : PROGRESS: at example #7000, processed 45696312 words (114437/s), 420401 word types, 7000 tags\n",
      "2016-10-03 19:08:18,459 : INFO : PROGRESS: at example #8000, processed 52312044 words (113643/s), 461851 word types, 8000 tags\n",
      "2016-10-03 19:09:18,400 : INFO : collected 502773 word types and 8979 unique tags from a corpus of 8979 examples and 59217428 words\n",
      "2016-10-03 19:09:19,205 : INFO : min_count=5 retains 104357 unique words (drops 398416)\n",
      "2016-10-03 19:09:19,206 : INFO : min_count leaves 58631278 word corpus (99% of original 59217428)\n",
      "2016-10-03 19:09:19,940 : INFO : deleting the raw counts dictionary of 502773 items\n",
      "2016-10-03 19:09:20,046 : INFO : sample=1e-05 downsamples 3315 most-common words\n",
      "2016-10-03 19:09:20,048 : INFO : downsampling leaves estimated 15522780 word corpus (26.5% of prior 58631278)\n",
      "2016-10-03 19:09:20,048 : INFO : estimated required memory for 104357 words and 3000 dimensions: 22723705700 bytes\n",
      "2016-10-03 19:09:20,303 : INFO : constructing a huffman tree from 104357 words\n",
      "2016-10-03 19:09:26,889 : INFO : built huffman tree with maximum node depth 24\n",
      "2016-10-03 19:09:26,937 : INFO : using concatenative 51000-dimensional layer1\n",
      "2016-10-03 19:09:26,938 : INFO : resetting layer weights\n"
     ]
    },
    {
     "name": "stdout",
     "output_type": "stream",
     "text": [
      "CPU times: user 8min 58s, sys: 6.32 s, total: 9min 4s\n",
      "Wall time: 8min 59s\n"
     ]
    }
   ],
   "source": [
    "%%time\n",
    "doc2vec_model.build_vocab(sentences=TrainingDocumentGenerator(training_file, training_docs_list), \n",
    "                              progress_per=REPORT_VOCAB_PROGRESS)\n",
    "#doc2vec_model.save(os.path.join(doc2vec_model_save_location, VOCAB_MODEL + \"_hs\", MODEL_PREFIX))"
   ]
  },
  {
   "cell_type": "code",
   "execution_count": 35,
   "metadata": {
    "collapsed": false
   },
   "outputs": [
    {
     "data": {
      "text/plain": [
       "array([[  3.12148368e-05,   1.63139775e-04,   1.35370967e-04, ...,\n",
       "         -9.58132441e-05,  -2.63783822e-05,  -2.96910421e-05],\n",
       "       [ -2.87129933e-05,  -7.38100207e-05,   1.01923499e-04, ...,\n",
       "          8.03500297e-05,  -8.48640993e-05,   1.07045984e-04],\n",
       "       [  5.01288669e-05,   4.39545511e-05,   1.37585710e-04, ...,\n",
       "         -5.13341147e-05,  -1.55190297e-04,  -1.65183010e-05],\n",
       "       ..., \n",
       "       [ -1.21397643e-04,  -8.22615621e-05,  -1.23961741e-04, ...,\n",
       "         -5.87554168e-05,   4.34706417e-05,   1.66552727e-05],\n",
       "       [ -1.63632085e-05,   4.42360943e-05,   4.06701747e-06, ...,\n",
       "          1.64604600e-04,  -1.00427724e-05,   3.35616169e-05],\n",
       "       [ -1.03512852e-04,   5.39240791e-05,   4.61474156e-05, ...,\n",
       "         -7.31005866e-06,  -1.27907493e-04,  -2.00724173e-07]], dtype=float32)"
      ]
     },
     "execution_count": 35,
     "metadata": {},
     "output_type": "execute_result"
    }
   ],
   "source": [
    "doc2vec_model.syn0"
   ]
  },
  {
   "cell_type": "code",
   "execution_count": null,
   "metadata": {
    "collapsed": false
   },
   "outputs": [
    {
     "data": {
      "application/javascript": [
       "/* Put everything inside the global mpl namespace */\n",
       "window.mpl = {};\n",
       "\n",
       "mpl.get_websocket_type = function() {\n",
       "    if (typeof(WebSocket) !== 'undefined') {\n",
       "        return WebSocket;\n",
       "    } else if (typeof(MozWebSocket) !== 'undefined') {\n",
       "        return MozWebSocket;\n",
       "    } else {\n",
       "        alert('Your browser does not have WebSocket support.' +\n",
       "              'Please try Chrome, Safari or Firefox ≥ 6. ' +\n",
       "              'Firefox 4 and 5 are also supported but you ' +\n",
       "              'have to enable WebSockets in about:config.');\n",
       "    };\n",
       "}\n",
       "\n",
       "mpl.figure = function(figure_id, websocket, ondownload, parent_element) {\n",
       "    this.id = figure_id;\n",
       "\n",
       "    this.ws = websocket;\n",
       "\n",
       "    this.supports_binary = (this.ws.binaryType != undefined);\n",
       "\n",
       "    if (!this.supports_binary) {\n",
       "        var warnings = document.getElementById(\"mpl-warnings\");\n",
       "        if (warnings) {\n",
       "            warnings.style.display = 'block';\n",
       "            warnings.textContent = (\n",
       "                \"This browser does not support binary websocket messages. \" +\n",
       "                    \"Performance may be slow.\");\n",
       "        }\n",
       "    }\n",
       "\n",
       "    this.imageObj = new Image();\n",
       "\n",
       "    this.context = undefined;\n",
       "    this.message = undefined;\n",
       "    this.canvas = undefined;\n",
       "    this.rubberband_canvas = undefined;\n",
       "    this.rubberband_context = undefined;\n",
       "    this.format_dropdown = undefined;\n",
       "\n",
       "    this.image_mode = 'full';\n",
       "\n",
       "    this.root = $('<div/>');\n",
       "    this._root_extra_style(this.root)\n",
       "    this.root.attr('style', 'display: inline-block');\n",
       "\n",
       "    $(parent_element).append(this.root);\n",
       "\n",
       "    this._init_header(this);\n",
       "    this._init_canvas(this);\n",
       "    this._init_toolbar(this);\n",
       "\n",
       "    var fig = this;\n",
       "\n",
       "    this.waiting = false;\n",
       "\n",
       "    this.ws.onopen =  function () {\n",
       "            fig.send_message(\"supports_binary\", {value: fig.supports_binary});\n",
       "            fig.send_message(\"send_image_mode\", {});\n",
       "            fig.send_message(\"refresh\", {});\n",
       "        }\n",
       "\n",
       "    this.imageObj.onload = function() {\n",
       "            if (fig.image_mode == 'full') {\n",
       "                // Full images could contain transparency (where diff images\n",
       "                // almost always do), so we need to clear the canvas so that\n",
       "                // there is no ghosting.\n",
       "                fig.context.clearRect(0, 0, fig.canvas.width, fig.canvas.height);\n",
       "            }\n",
       "            fig.context.drawImage(fig.imageObj, 0, 0);\n",
       "        };\n",
       "\n",
       "    this.imageObj.onunload = function() {\n",
       "        this.ws.close();\n",
       "    }\n",
       "\n",
       "    this.ws.onmessage = this._make_on_message_function(this);\n",
       "\n",
       "    this.ondownload = ondownload;\n",
       "}\n",
       "\n",
       "mpl.figure.prototype._init_header = function() {\n",
       "    var titlebar = $(\n",
       "        '<div class=\"ui-dialog-titlebar ui-widget-header ui-corner-all ' +\n",
       "        'ui-helper-clearfix\"/>');\n",
       "    var titletext = $(\n",
       "        '<div class=\"ui-dialog-title\" style=\"width: 100%; ' +\n",
       "        'text-align: center; padding: 3px;\"/>');\n",
       "    titlebar.append(titletext)\n",
       "    this.root.append(titlebar);\n",
       "    this.header = titletext[0];\n",
       "}\n",
       "\n",
       "\n",
       "\n",
       "mpl.figure.prototype._canvas_extra_style = function(canvas_div) {\n",
       "\n",
       "}\n",
       "\n",
       "\n",
       "mpl.figure.prototype._root_extra_style = function(canvas_div) {\n",
       "\n",
       "}\n",
       "\n",
       "mpl.figure.prototype._init_canvas = function() {\n",
       "    var fig = this;\n",
       "\n",
       "    var canvas_div = $('<div/>');\n",
       "\n",
       "    canvas_div.attr('style', 'position: relative; clear: both; outline: 0');\n",
       "\n",
       "    function canvas_keyboard_event(event) {\n",
       "        return fig.key_event(event, event['data']);\n",
       "    }\n",
       "\n",
       "    canvas_div.keydown('key_press', canvas_keyboard_event);\n",
       "    canvas_div.keyup('key_release', canvas_keyboard_event);\n",
       "    this.canvas_div = canvas_div\n",
       "    this._canvas_extra_style(canvas_div)\n",
       "    this.root.append(canvas_div);\n",
       "\n",
       "    var canvas = $('<canvas/>');\n",
       "    canvas.addClass('mpl-canvas');\n",
       "    canvas.attr('style', \"left: 0; top: 0; z-index: 0; outline: 0\")\n",
       "\n",
       "    this.canvas = canvas[0];\n",
       "    this.context = canvas[0].getContext(\"2d\");\n",
       "\n",
       "    var rubberband = $('<canvas/>');\n",
       "    rubberband.attr('style', \"position: absolute; left: 0; top: 0; z-index: 1;\")\n",
       "\n",
       "    var pass_mouse_events = true;\n",
       "\n",
       "    canvas_div.resizable({\n",
       "        start: function(event, ui) {\n",
       "            pass_mouse_events = false;\n",
       "        },\n",
       "        resize: function(event, ui) {\n",
       "            fig.request_resize(ui.size.width, ui.size.height);\n",
       "        },\n",
       "        stop: function(event, ui) {\n",
       "            pass_mouse_events = true;\n",
       "            fig.request_resize(ui.size.width, ui.size.height);\n",
       "        },\n",
       "    });\n",
       "\n",
       "    function mouse_event_fn(event) {\n",
       "        if (pass_mouse_events)\n",
       "            return fig.mouse_event(event, event['data']);\n",
       "    }\n",
       "\n",
       "    rubberband.mousedown('button_press', mouse_event_fn);\n",
       "    rubberband.mouseup('button_release', mouse_event_fn);\n",
       "    // Throttle sequential mouse events to 1 every 20ms.\n",
       "    rubberband.mousemove('motion_notify', mouse_event_fn);\n",
       "\n",
       "    rubberband.mouseenter('figure_enter', mouse_event_fn);\n",
       "    rubberband.mouseleave('figure_leave', mouse_event_fn);\n",
       "\n",
       "    canvas_div.on(\"wheel\", function (event) {\n",
       "        event = event.originalEvent;\n",
       "        event['data'] = 'scroll'\n",
       "        if (event.deltaY < 0) {\n",
       "            event.step = 1;\n",
       "        } else {\n",
       "            event.step = -1;\n",
       "        }\n",
       "        mouse_event_fn(event);\n",
       "    });\n",
       "\n",
       "    canvas_div.append(canvas);\n",
       "    canvas_div.append(rubberband);\n",
       "\n",
       "    this.rubberband = rubberband;\n",
       "    this.rubberband_canvas = rubberband[0];\n",
       "    this.rubberband_context = rubberband[0].getContext(\"2d\");\n",
       "    this.rubberband_context.strokeStyle = \"#000000\";\n",
       "\n",
       "    this._resize_canvas = function(width, height) {\n",
       "        // Keep the size of the canvas, canvas container, and rubber band\n",
       "        // canvas in synch.\n",
       "        canvas_div.css('width', width)\n",
       "        canvas_div.css('height', height)\n",
       "\n",
       "        canvas.attr('width', width);\n",
       "        canvas.attr('height', height);\n",
       "\n",
       "        rubberband.attr('width', width);\n",
       "        rubberband.attr('height', height);\n",
       "    }\n",
       "\n",
       "    // Set the figure to an initial 600x600px, this will subsequently be updated\n",
       "    // upon first draw.\n",
       "    this._resize_canvas(600, 600);\n",
       "\n",
       "    // Disable right mouse context menu.\n",
       "    $(this.rubberband_canvas).bind(\"contextmenu\",function(e){\n",
       "        return false;\n",
       "    });\n",
       "\n",
       "    function set_focus () {\n",
       "        canvas.focus();\n",
       "        canvas_div.focus();\n",
       "    }\n",
       "\n",
       "    window.setTimeout(set_focus, 100);\n",
       "}\n",
       "\n",
       "mpl.figure.prototype._init_toolbar = function() {\n",
       "    var fig = this;\n",
       "\n",
       "    var nav_element = $('<div/>')\n",
       "    nav_element.attr('style', 'width: 100%');\n",
       "    this.root.append(nav_element);\n",
       "\n",
       "    // Define a callback function for later on.\n",
       "    function toolbar_event(event) {\n",
       "        return fig.toolbar_button_onclick(event['data']);\n",
       "    }\n",
       "    function toolbar_mouse_event(event) {\n",
       "        return fig.toolbar_button_onmouseover(event['data']);\n",
       "    }\n",
       "\n",
       "    for(var toolbar_ind in mpl.toolbar_items) {\n",
       "        var name = mpl.toolbar_items[toolbar_ind][0];\n",
       "        var tooltip = mpl.toolbar_items[toolbar_ind][1];\n",
       "        var image = mpl.toolbar_items[toolbar_ind][2];\n",
       "        var method_name = mpl.toolbar_items[toolbar_ind][3];\n",
       "\n",
       "        if (!name) {\n",
       "            // put a spacer in here.\n",
       "            continue;\n",
       "        }\n",
       "        var button = $('<button/>');\n",
       "        button.addClass('ui-button ui-widget ui-state-default ui-corner-all ' +\n",
       "                        'ui-button-icon-only');\n",
       "        button.attr('role', 'button');\n",
       "        button.attr('aria-disabled', 'false');\n",
       "        button.click(method_name, toolbar_event);\n",
       "        button.mouseover(tooltip, toolbar_mouse_event);\n",
       "\n",
       "        var icon_img = $('<span/>');\n",
       "        icon_img.addClass('ui-button-icon-primary ui-icon');\n",
       "        icon_img.addClass(image);\n",
       "        icon_img.addClass('ui-corner-all');\n",
       "\n",
       "        var tooltip_span = $('<span/>');\n",
       "        tooltip_span.addClass('ui-button-text');\n",
       "        tooltip_span.html(tooltip);\n",
       "\n",
       "        button.append(icon_img);\n",
       "        button.append(tooltip_span);\n",
       "\n",
       "        nav_element.append(button);\n",
       "    }\n",
       "\n",
       "    var fmt_picker_span = $('<span/>');\n",
       "\n",
       "    var fmt_picker = $('<select/>');\n",
       "    fmt_picker.addClass('mpl-toolbar-option ui-widget ui-widget-content');\n",
       "    fmt_picker_span.append(fmt_picker);\n",
       "    nav_element.append(fmt_picker_span);\n",
       "    this.format_dropdown = fmt_picker[0];\n",
       "\n",
       "    for (var ind in mpl.extensions) {\n",
       "        var fmt = mpl.extensions[ind];\n",
       "        var option = $(\n",
       "            '<option/>', {selected: fmt === mpl.default_extension}).html(fmt);\n",
       "        fmt_picker.append(option)\n",
       "    }\n",
       "\n",
       "    // Add hover states to the ui-buttons\n",
       "    $( \".ui-button\" ).hover(\n",
       "        function() { $(this).addClass(\"ui-state-hover\");},\n",
       "        function() { $(this).removeClass(\"ui-state-hover\");}\n",
       "    );\n",
       "\n",
       "    var status_bar = $('<span class=\"mpl-message\"/>');\n",
       "    nav_element.append(status_bar);\n",
       "    this.message = status_bar[0];\n",
       "}\n",
       "\n",
       "mpl.figure.prototype.request_resize = function(x_pixels, y_pixels) {\n",
       "    // Request matplotlib to resize the figure. Matplotlib will then trigger a resize in the client,\n",
       "    // which will in turn request a refresh of the image.\n",
       "    this.send_message('resize', {'width': x_pixels, 'height': y_pixels});\n",
       "}\n",
       "\n",
       "mpl.figure.prototype.send_message = function(type, properties) {\n",
       "    properties['type'] = type;\n",
       "    properties['figure_id'] = this.id;\n",
       "    this.ws.send(JSON.stringify(properties));\n",
       "}\n",
       "\n",
       "mpl.figure.prototype.send_draw_message = function() {\n",
       "    if (!this.waiting) {\n",
       "        this.waiting = true;\n",
       "        this.ws.send(JSON.stringify({type: \"draw\", figure_id: this.id}));\n",
       "    }\n",
       "}\n",
       "\n",
       "\n",
       "mpl.figure.prototype.handle_save = function(fig, msg) {\n",
       "    var format_dropdown = fig.format_dropdown;\n",
       "    var format = format_dropdown.options[format_dropdown.selectedIndex].value;\n",
       "    fig.ondownload(fig, format);\n",
       "}\n",
       "\n",
       "\n",
       "mpl.figure.prototype.handle_resize = function(fig, msg) {\n",
       "    var size = msg['size'];\n",
       "    if (size[0] != fig.canvas.width || size[1] != fig.canvas.height) {\n",
       "        fig._resize_canvas(size[0], size[1]);\n",
       "        fig.send_message(\"refresh\", {});\n",
       "    };\n",
       "}\n",
       "\n",
       "mpl.figure.prototype.handle_rubberband = function(fig, msg) {\n",
       "    var x0 = msg['x0'];\n",
       "    var y0 = fig.canvas.height - msg['y0'];\n",
       "    var x1 = msg['x1'];\n",
       "    var y1 = fig.canvas.height - msg['y1'];\n",
       "    x0 = Math.floor(x0) + 0.5;\n",
       "    y0 = Math.floor(y0) + 0.5;\n",
       "    x1 = Math.floor(x1) + 0.5;\n",
       "    y1 = Math.floor(y1) + 0.5;\n",
       "    var min_x = Math.min(x0, x1);\n",
       "    var min_y = Math.min(y0, y1);\n",
       "    var width = Math.abs(x1 - x0);\n",
       "    var height = Math.abs(y1 - y0);\n",
       "\n",
       "    fig.rubberband_context.clearRect(\n",
       "        0, 0, fig.canvas.width, fig.canvas.height);\n",
       "\n",
       "    fig.rubberband_context.strokeRect(min_x, min_y, width, height);\n",
       "}\n",
       "\n",
       "mpl.figure.prototype.handle_figure_label = function(fig, msg) {\n",
       "    // Updates the figure title.\n",
       "    fig.header.textContent = msg['label'];\n",
       "}\n",
       "\n",
       "mpl.figure.prototype.handle_cursor = function(fig, msg) {\n",
       "    var cursor = msg['cursor'];\n",
       "    switch(cursor)\n",
       "    {\n",
       "    case 0:\n",
       "        cursor = 'pointer';\n",
       "        break;\n",
       "    case 1:\n",
       "        cursor = 'default';\n",
       "        break;\n",
       "    case 2:\n",
       "        cursor = 'crosshair';\n",
       "        break;\n",
       "    case 3:\n",
       "        cursor = 'move';\n",
       "        break;\n",
       "    }\n",
       "    fig.rubberband_canvas.style.cursor = cursor;\n",
       "}\n",
       "\n",
       "mpl.figure.prototype.handle_message = function(fig, msg) {\n",
       "    fig.message.textContent = msg['message'];\n",
       "}\n",
       "\n",
       "mpl.figure.prototype.handle_draw = function(fig, msg) {\n",
       "    // Request the server to send over a new figure.\n",
       "    fig.send_draw_message();\n",
       "}\n",
       "\n",
       "mpl.figure.prototype.handle_image_mode = function(fig, msg) {\n",
       "    fig.image_mode = msg['mode'];\n",
       "}\n",
       "\n",
       "mpl.figure.prototype.updated_canvas_event = function() {\n",
       "    // Called whenever the canvas gets updated.\n",
       "    this.send_message(\"ack\", {});\n",
       "}\n",
       "\n",
       "// A function to construct a web socket function for onmessage handling.\n",
       "// Called in the figure constructor.\n",
       "mpl.figure.prototype._make_on_message_function = function(fig) {\n",
       "    return function socket_on_message(evt) {\n",
       "        if (evt.data instanceof Blob) {\n",
       "            /* FIXME: We get \"Resource interpreted as Image but\n",
       "             * transferred with MIME type text/plain:\" errors on\n",
       "             * Chrome.  But how to set the MIME type?  It doesn't seem\n",
       "             * to be part of the websocket stream */\n",
       "            evt.data.type = \"image/png\";\n",
       "\n",
       "            /* Free the memory for the previous frames */\n",
       "            if (fig.imageObj.src) {\n",
       "                (window.URL || window.webkitURL).revokeObjectURL(\n",
       "                    fig.imageObj.src);\n",
       "            }\n",
       "\n",
       "            fig.imageObj.src = (window.URL || window.webkitURL).createObjectURL(\n",
       "                evt.data);\n",
       "            fig.updated_canvas_event();\n",
       "            fig.waiting = false;\n",
       "            return;\n",
       "        }\n",
       "        else if (typeof evt.data === 'string' && evt.data.slice(0, 21) == \"data:image/png;base64\") {\n",
       "            fig.imageObj.src = evt.data;\n",
       "            fig.updated_canvas_event();\n",
       "            fig.waiting = false;\n",
       "            return;\n",
       "        }\n",
       "\n",
       "        var msg = JSON.parse(evt.data);\n",
       "        var msg_type = msg['type'];\n",
       "\n",
       "        // Call the  \"handle_{type}\" callback, which takes\n",
       "        // the figure and JSON message as its only arguments.\n",
       "        try {\n",
       "            var callback = fig[\"handle_\" + msg_type];\n",
       "        } catch (e) {\n",
       "            console.log(\"No handler for the '\" + msg_type + \"' message type: \", msg);\n",
       "            return;\n",
       "        }\n",
       "\n",
       "        if (callback) {\n",
       "            try {\n",
       "                // console.log(\"Handling '\" + msg_type + \"' message: \", msg);\n",
       "                callback(fig, msg);\n",
       "            } catch (e) {\n",
       "                console.log(\"Exception inside the 'handler_\" + msg_type + \"' callback:\", e, e.stack, msg);\n",
       "            }\n",
       "        }\n",
       "    };\n",
       "}\n",
       "\n",
       "// from http://stackoverflow.com/questions/1114465/getting-mouse-location-in-canvas\n",
       "mpl.findpos = function(e) {\n",
       "    //this section is from http://www.quirksmode.org/js/events_properties.html\n",
       "    var targ;\n",
       "    if (!e)\n",
       "        e = window.event;\n",
       "    if (e.target)\n",
       "        targ = e.target;\n",
       "    else if (e.srcElement)\n",
       "        targ = e.srcElement;\n",
       "    if (targ.nodeType == 3) // defeat Safari bug\n",
       "        targ = targ.parentNode;\n",
       "\n",
       "    // jQuery normalizes the pageX and pageY\n",
       "    // pageX,Y are the mouse positions relative to the document\n",
       "    // offset() returns the position of the element relative to the document\n",
       "    var x = e.pageX - $(targ).offset().left;\n",
       "    var y = e.pageY - $(targ).offset().top;\n",
       "\n",
       "    return {\"x\": x, \"y\": y};\n",
       "};\n",
       "\n",
       "/*\n",
       " * return a copy of an object with only non-object keys\n",
       " * we need this to avoid circular references\n",
       " * http://stackoverflow.com/a/24161582/3208463\n",
       " */\n",
       "function simpleKeys (original) {\n",
       "  return Object.keys(original).reduce(function (obj, key) {\n",
       "    if (typeof original[key] !== 'object')\n",
       "        obj[key] = original[key]\n",
       "    return obj;\n",
       "  }, {});\n",
       "}\n",
       "\n",
       "mpl.figure.prototype.mouse_event = function(event, name) {\n",
       "    var canvas_pos = mpl.findpos(event)\n",
       "\n",
       "    if (name === 'button_press')\n",
       "    {\n",
       "        this.canvas.focus();\n",
       "        this.canvas_div.focus();\n",
       "    }\n",
       "\n",
       "    var x = canvas_pos.x;\n",
       "    var y = canvas_pos.y;\n",
       "\n",
       "    this.send_message(name, {x: x, y: y, button: event.button,\n",
       "                             step: event.step,\n",
       "                             guiEvent: simpleKeys(event)});\n",
       "\n",
       "    /* This prevents the web browser from automatically changing to\n",
       "     * the text insertion cursor when the button is pressed.  We want\n",
       "     * to control all of the cursor setting manually through the\n",
       "     * 'cursor' event from matplotlib */\n",
       "    event.preventDefault();\n",
       "    return false;\n",
       "}\n",
       "\n",
       "mpl.figure.prototype._key_event_extra = function(event, name) {\n",
       "    // Handle any extra behaviour associated with a key event\n",
       "}\n",
       "\n",
       "mpl.figure.prototype.key_event = function(event, name) {\n",
       "\n",
       "    // Prevent repeat events\n",
       "    if (name == 'key_press')\n",
       "    {\n",
       "        if (event.which === this._key)\n",
       "            return;\n",
       "        else\n",
       "            this._key = event.which;\n",
       "    }\n",
       "    if (name == 'key_release')\n",
       "        this._key = null;\n",
       "\n",
       "    var value = '';\n",
       "    if (event.ctrlKey && event.which != 17)\n",
       "        value += \"ctrl+\";\n",
       "    if (event.altKey && event.which != 18)\n",
       "        value += \"alt+\";\n",
       "    if (event.shiftKey && event.which != 16)\n",
       "        value += \"shift+\";\n",
       "\n",
       "    value += 'k';\n",
       "    value += event.which.toString();\n",
       "\n",
       "    this._key_event_extra(event, name);\n",
       "\n",
       "    this.send_message(name, {key: value,\n",
       "                             guiEvent: simpleKeys(event)});\n",
       "    return false;\n",
       "}\n",
       "\n",
       "mpl.figure.prototype.toolbar_button_onclick = function(name) {\n",
       "    if (name == 'download') {\n",
       "        this.handle_save(this, null);\n",
       "    } else {\n",
       "        this.send_message(\"toolbar_button\", {name: name});\n",
       "    }\n",
       "};\n",
       "\n",
       "mpl.figure.prototype.toolbar_button_onmouseover = function(tooltip) {\n",
       "    this.message.textContent = tooltip;\n",
       "};\n",
       "mpl.toolbar_items = [[\"Home\", \"Reset original view\", \"fa fa-home icon-home\", \"home\"], [\"Back\", \"Back to  previous view\", \"fa fa-arrow-left icon-arrow-left\", \"back\"], [\"Forward\", \"Forward to next view\", \"fa fa-arrow-right icon-arrow-right\", \"forward\"], [\"\", \"\", \"\", \"\"], [\"Pan\", \"Pan axes with left mouse, zoom with right\", \"fa fa-arrows icon-move\", \"pan\"], [\"Zoom\", \"Zoom to rectangle\", \"fa fa-square-o icon-check-empty\", \"zoom\"], [\"\", \"\", \"\", \"\"], [\"Download\", \"Download plot\", \"fa fa-floppy-o icon-save\", \"download\"]];\n",
       "\n",
       "mpl.extensions = [\"eps\", \"pdf\", \"png\", \"ps\", \"raw\", \"svg\"];\n",
       "\n",
       "mpl.default_extension = \"png\";var comm_websocket_adapter = function(comm) {\n",
       "    // Create a \"websocket\"-like object which calls the given IPython comm\n",
       "    // object with the appropriate methods. Currently this is a non binary\n",
       "    // socket, so there is still some room for performance tuning.\n",
       "    var ws = {};\n",
       "\n",
       "    ws.close = function() {\n",
       "        comm.close()\n",
       "    };\n",
       "    ws.send = function(m) {\n",
       "        //console.log('sending', m);\n",
       "        comm.send(m);\n",
       "    };\n",
       "    // Register the callback with on_msg.\n",
       "    comm.on_msg(function(msg) {\n",
       "        //console.log('receiving', msg['content']['data'], msg);\n",
       "        // Pass the mpl event to the overriden (by mpl) onmessage function.\n",
       "        ws.onmessage(msg['content']['data'])\n",
       "    });\n",
       "    return ws;\n",
       "}\n",
       "\n",
       "mpl.mpl_figure_comm = function(comm, msg) {\n",
       "    // This is the function which gets called when the mpl process\n",
       "    // starts-up an IPython Comm through the \"matplotlib\" channel.\n",
       "\n",
       "    var id = msg.content.data.id;\n",
       "    // Get hold of the div created by the display call when the Comm\n",
       "    // socket was opened in Python.\n",
       "    var element = $(\"#\" + id);\n",
       "    var ws_proxy = comm_websocket_adapter(comm)\n",
       "\n",
       "    function ondownload(figure, format) {\n",
       "        window.open(figure.imageObj.src);\n",
       "    }\n",
       "\n",
       "    var fig = new mpl.figure(id, ws_proxy,\n",
       "                           ondownload,\n",
       "                           element.get(0));\n",
       "\n",
       "    // Call onopen now - mpl needs it, as it is assuming we've passed it a real\n",
       "    // web socket which is closed, not our websocket->open comm proxy.\n",
       "    ws_proxy.onopen();\n",
       "\n",
       "    fig.parent_element = element.get(0);\n",
       "    fig.cell_info = mpl.find_output_cell(\"<div id='\" + id + \"'></div>\");\n",
       "    if (!fig.cell_info) {\n",
       "        console.error(\"Failed to find cell for figure\", id, fig);\n",
       "        return;\n",
       "    }\n",
       "\n",
       "    var output_index = fig.cell_info[2]\n",
       "    var cell = fig.cell_info[0];\n",
       "\n",
       "};\n",
       "\n",
       "mpl.figure.prototype.handle_close = function(fig, msg) {\n",
       "    fig.root.unbind('remove')\n",
       "\n",
       "    // Update the output cell to use the data from the current canvas.\n",
       "    fig.push_to_output();\n",
       "    var dataURL = fig.canvas.toDataURL();\n",
       "    // Re-enable the keyboard manager in IPython - without this line, in FF,\n",
       "    // the notebook keyboard shortcuts fail.\n",
       "    IPython.keyboard_manager.enable()\n",
       "    $(fig.parent_element).html('<img src=\"' + dataURL + '\">');\n",
       "    fig.close_ws(fig, msg);\n",
       "}\n",
       "\n",
       "mpl.figure.prototype.close_ws = function(fig, msg){\n",
       "    fig.send_message('closing', msg);\n",
       "    // fig.ws.close()\n",
       "}\n",
       "\n",
       "mpl.figure.prototype.push_to_output = function(remove_interactive) {\n",
       "    // Turn the data on the canvas into data in the output cell.\n",
       "    var dataURL = this.canvas.toDataURL();\n",
       "    this.cell_info[1]['text/html'] = '<img src=\"' + dataURL + '\">';\n",
       "}\n",
       "\n",
       "mpl.figure.prototype.updated_canvas_event = function() {\n",
       "    // Tell IPython that the notebook contents must change.\n",
       "    IPython.notebook.set_dirty(true);\n",
       "    this.send_message(\"ack\", {});\n",
       "    var fig = this;\n",
       "    // Wait a second, then push the new image to the DOM so\n",
       "    // that it is saved nicely (might be nice to debounce this).\n",
       "    setTimeout(function () { fig.push_to_output() }, 1000);\n",
       "}\n",
       "\n",
       "mpl.figure.prototype._init_toolbar = function() {\n",
       "    var fig = this;\n",
       "\n",
       "    var nav_element = $('<div/>')\n",
       "    nav_element.attr('style', 'width: 100%');\n",
       "    this.root.append(nav_element);\n",
       "\n",
       "    // Define a callback function for later on.\n",
       "    function toolbar_event(event) {\n",
       "        return fig.toolbar_button_onclick(event['data']);\n",
       "    }\n",
       "    function toolbar_mouse_event(event) {\n",
       "        return fig.toolbar_button_onmouseover(event['data']);\n",
       "    }\n",
       "\n",
       "    for(var toolbar_ind in mpl.toolbar_items){\n",
       "        var name = mpl.toolbar_items[toolbar_ind][0];\n",
       "        var tooltip = mpl.toolbar_items[toolbar_ind][1];\n",
       "        var image = mpl.toolbar_items[toolbar_ind][2];\n",
       "        var method_name = mpl.toolbar_items[toolbar_ind][3];\n",
       "\n",
       "        if (!name) { continue; };\n",
       "\n",
       "        var button = $('<button class=\"btn btn-default\" href=\"#\" title=\"' + name + '\"><i class=\"fa ' + image + ' fa-lg\"></i></button>');\n",
       "        button.click(method_name, toolbar_event);\n",
       "        button.mouseover(tooltip, toolbar_mouse_event);\n",
       "        nav_element.append(button);\n",
       "    }\n",
       "\n",
       "    // Add the status bar.\n",
       "    var status_bar = $('<span class=\"mpl-message\" style=\"text-align:right; float: right;\"/>');\n",
       "    nav_element.append(status_bar);\n",
       "    this.message = status_bar[0];\n",
       "\n",
       "    // Add the close button to the window.\n",
       "    var buttongrp = $('<div class=\"btn-group inline pull-right\"></div>');\n",
       "    var button = $('<button class=\"btn btn-mini btn-primary\" href=\"#\" title=\"Stop Interaction\"><i class=\"fa fa-power-off icon-remove icon-large\"></i></button>');\n",
       "    button.click(function (evt) { fig.handle_close(fig, {}); } );\n",
       "    button.mouseover('Stop Interaction', toolbar_mouse_event);\n",
       "    buttongrp.append(button);\n",
       "    var titlebar = this.root.find($('.ui-dialog-titlebar'));\n",
       "    titlebar.prepend(buttongrp);\n",
       "}\n",
       "\n",
       "mpl.figure.prototype._root_extra_style = function(el){\n",
       "    var fig = this\n",
       "    el.on(\"remove\", function(){\n",
       "\tfig.close_ws(fig, {});\n",
       "    });\n",
       "}\n",
       "\n",
       "mpl.figure.prototype._canvas_extra_style = function(el){\n",
       "    // this is important to make the div 'focusable\n",
       "    el.attr('tabindex', 0)\n",
       "    // reach out to IPython and tell the keyboard manager to turn it's self\n",
       "    // off when our div gets focus\n",
       "\n",
       "    // location in version 3\n",
       "    if (IPython.notebook.keyboard_manager) {\n",
       "        IPython.notebook.keyboard_manager.register_events(el);\n",
       "    }\n",
       "    else {\n",
       "        // location in version 2\n",
       "        IPython.keyboard_manager.register_events(el);\n",
       "    }\n",
       "\n",
       "}\n",
       "\n",
       "mpl.figure.prototype._key_event_extra = function(event, name) {\n",
       "    var manager = IPython.notebook.keyboard_manager;\n",
       "    if (!manager)\n",
       "        manager = IPython.keyboard_manager;\n",
       "\n",
       "    // Check for shift+enter\n",
       "    if (event.shiftKey && event.which == 13) {\n",
       "        this.canvas_div.blur();\n",
       "        event.shiftKey = false;\n",
       "        // Send a \"J\" for go to next cell\n",
       "        event.which = 74;\n",
       "        event.keyCode = 74;\n",
       "        manager.command_mode();\n",
       "        manager.handle_keydown(event);\n",
       "    }\n",
       "}\n",
       "\n",
       "mpl.figure.prototype.handle_save = function(fig, msg) {\n",
       "    fig.ondownload(fig, null);\n",
       "}\n",
       "\n",
       "\n",
       "mpl.find_output_cell = function(html_output) {\n",
       "    // Return the cell and output element which can be found *uniquely* in the notebook.\n",
       "    // Note - this is a bit hacky, but it is done because the \"notebook_saving.Notebook\"\n",
       "    // IPython event is triggered only after the cells have been serialised, which for\n",
       "    // our purposes (turning an active figure into a static one), is too late.\n",
       "    var cells = IPython.notebook.get_cells();\n",
       "    var ncells = cells.length;\n",
       "    for (var i=0; i<ncells; i++) {\n",
       "        var cell = cells[i];\n",
       "        if (cell.cell_type === 'code'){\n",
       "            for (var j=0; j<cell.output_area.outputs.length; j++) {\n",
       "                var data = cell.output_area.outputs[j];\n",
       "                if (data.data) {\n",
       "                    // IPython >= 3 moved mimebundle to data attribute of output\n",
       "                    data = data.data;\n",
       "                }\n",
       "                if (data['text/html'] == html_output) {\n",
       "                    return [cell, data, j];\n",
       "                }\n",
       "            }\n",
       "        }\n",
       "    }\n",
       "}\n",
       "\n",
       "// Register the function which deals with the matplotlib target/channel.\n",
       "// The kernel may be null if the page has been refreshed.\n",
       "if (IPython.notebook.kernel != null) {\n",
       "    IPython.notebook.kernel.comm_manager.register_target('matplotlib', mpl.mpl_figure_comm);\n",
       "}\n"
      ],
      "text/plain": [
       "<IPython.core.display.Javascript object>"
      ]
     },
     "metadata": {},
     "output_type": "display_data"
    },
    {
     "data": {
      "text/html": [
       "<img src=\"data:image/png;base64,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\">"
      ],
      "text/plain": [
       "<IPython.core.display.HTML object>"
      ]
     },
     "metadata": {},
     "output_type": "display_data"
    },
    {
     "name": "stderr",
     "output_type": "stream",
     "text": [
      "2016-10-07 18:46:48,963 : INFO : ****************** Epoch 1 --- Working on doc2vec_size_3000_w_8_type_dm_concat_1_mean_0_trainwords_0_hs_1_neg_0_vocabsize_None_curriter_1 *******************\n",
      "2016-10-07 18:46:48,966 : INFO : ====== Doing Training\n"
     ]
    },
    {
     "name": "stdout",
     "output_type": "stream",
     "text": [
      "A\n",
      "Model Exists\n",
      "B\n",
      "Model Exists\n",
      "C\n",
      "Model Exists\n",
      "D\n",
      "Model Exists\n",
      "E\n",
      "Model Exists\n",
      "F\n",
      "Model Exists\n",
      "G\n",
      "Model Exists\n",
      "H\n"
     ]
    },
    {
     "name": "stderr",
     "output_type": "stream",
     "text": [
      "2016-10-07 18:47:22,577 : INFO : ===== Loading validation vectors\n"
     ]
    },
    {
     "name": "stdout",
     "output_type": "stream",
     "text": [
      "Model Exists\n"
     ]
    },
    {
     "name": "stderr",
     "output_type": "stream",
     "text": [
      "2016-10-07 18:47:25,848 : INFO : ====== Doing Validation\n"
     ]
    },
    {
     "name": "stdout",
     "output_type": "stream",
     "text": [
      "A\n"
     ]
    },
    {
     "name": "stderr",
     "output_type": "stream",
     "text": [
      "2016-10-07 18:47:27,131 : INFO : Finished getting validation vectors\n",
      "2016-10-07 18:47:30,225 : INFO : Loaded the model, Doing the prediction now....\n"
     ]
    },
    {
     "name": "stdout",
     "output_type": "stream",
     "text": [
      "B\n"
     ]
    },
    {
     "name": "stderr",
     "output_type": "stream",
     "text": [
      "2016-10-07 18:47:32,742 : INFO : Finished getting validation vectors\n",
      "2016-10-07 18:47:35,846 : INFO : Loaded the model, Doing the prediction now....\n"
     ]
    },
    {
     "name": "stdout",
     "output_type": "stream",
     "text": [
      "C\n"
     ]
    },
    {
     "name": "stderr",
     "output_type": "stream",
     "text": [
      "2016-10-07 18:47:39,287 : INFO : Finished getting validation vectors\n",
      "2016-10-07 18:47:42,825 : INFO : Loaded the model, Doing the prediction now....\n"
     ]
    },
    {
     "name": "stdout",
     "output_type": "stream",
     "text": [
      "D\n"
     ]
    },
    {
     "name": "stderr",
     "output_type": "stream",
     "text": [
      "2016-10-07 18:47:45,255 : INFO : Finished getting validation vectors\n",
      "2016-10-07 18:47:48,788 : INFO : Loaded the model, Doing the prediction now....\n"
     ]
    },
    {
     "name": "stdout",
     "output_type": "stream",
     "text": [
      "E\n"
     ]
    },
    {
     "name": "stderr",
     "output_type": "stream",
     "text": [
      "2016-10-07 18:47:52,342 : INFO : Finished getting validation vectors\n",
      "2016-10-07 18:47:56,214 : INFO : Loaded the model, Doing the prediction now....\n"
     ]
    },
    {
     "name": "stdout",
     "output_type": "stream",
     "text": [
      "F\n"
     ]
    },
    {
     "name": "stderr",
     "output_type": "stream",
     "text": [
      "2016-10-07 18:47:58,135 : INFO : Finished getting validation vectors\n",
      "2016-10-07 18:48:01,477 : INFO : Loaded the model, Doing the prediction now....\n"
     ]
    },
    {
     "name": "stdout",
     "output_type": "stream",
     "text": [
      "G\n"
     ]
    },
    {
     "name": "stderr",
     "output_type": "stream",
     "text": [
      "2016-10-07 18:48:03,203 : INFO : Finished getting validation vectors\n",
      "2016-10-07 18:48:06,640 : INFO : Loaded the model, Doing the prediction now....\n"
     ]
    },
    {
     "name": "stdout",
     "output_type": "stream",
     "text": [
      "H\n"
     ]
    },
    {
     "name": "stderr",
     "output_type": "stream",
     "text": [
      "2016-10-07 18:48:08,195 : INFO : Finished getting validation vectors\n",
      "2016-10-07 18:48:11,493 : INFO : Loaded the model, Doing the prediction now....\n"
     ]
    },
    {
     "name": "stdout",
     "output_type": "stream",
     "text": [
      "Coverage Error: 6.90452006094, Average No of Labels: 1.35195530726, Top 1: 0.220510894065, Top 3: 0.385800150263, Top 5: 0.602930127724, F1 Micro: 0.248520710059, Total Positive: 7478\n"
     ]
    },
    {
     "name": "stderr",
     "output_type": "stream",
     "text": [
      "/home/s/shalaby/.virtualenv/thesis-env/local/lib/python2.7/site-packages/matplotlib/axes/_base.py:2787: UserWarning: Attempting to set identical left==right results\n",
      "in singular transformations; automatically expanding.\n",
      "left=1, right=1\n",
      "  'left=%s, right=%s') % (left, right))\n",
      "2016-10-07 18:48:12,972 : INFO : ****************** Epoch 2 --- Working on doc2vec_size_3000_w_8_type_dm_concat_1_mean_0_trainwords_0_hs_1_neg_0_vocabsize_None_curriter_2 *******************\n",
      "2016-10-07 18:48:12,973 : INFO : ====== Doing Training\n"
     ]
    },
    {
     "name": "stdout",
     "output_type": "stream",
     "text": [
      "A\n"
     ]
    },
    {
     "name": "stderr",
     "output_type": "stream",
     "text": [
      "2016-10-07 18:48:23,608 : INFO : Finished getting training vectors\n",
      "2016-10-07 18:48:28,253 : INFO : Finished parallelization\n"
     ]
    },
    {
     "name": "stdout",
     "output_type": "stream",
     "text": [
      "B\n"
     ]
    },
    {
     "name": "stderr",
     "output_type": "stream",
     "text": [
      "2016-10-07 18:48:53,235 : INFO : Finished getting training vectors\n",
      "2016-10-07 18:48:57,301 : INFO : Finished parallelization\n"
     ]
    },
    {
     "name": "stdout",
     "output_type": "stream",
     "text": [
      "C\n"
     ]
    },
    {
     "name": "stderr",
     "output_type": "stream",
     "text": [
      "2016-10-07 18:49:17,772 : INFO : Finished getting training vectors\n",
      "2016-10-07 18:49:22,149 : INFO : Finished parallelization\n"
     ]
    },
    {
     "name": "stdout",
     "output_type": "stream",
     "text": [
      "D\n"
     ]
    },
    {
     "name": "stderr",
     "output_type": "stream",
     "text": [
      "2016-10-07 18:49:42,779 : INFO : Finished getting training vectors\n",
      "2016-10-07 18:49:47,075 : INFO : Finished parallelization\n"
     ]
    },
    {
     "name": "stdout",
     "output_type": "stream",
     "text": [
      "E\n"
     ]
    },
    {
     "name": "stderr",
     "output_type": "stream",
     "text": [
      "2016-10-07 18:50:07,438 : INFO : Finished getting training vectors\n",
      "2016-10-07 18:50:11,675 : INFO : Finished parallelization\n"
     ]
    },
    {
     "name": "stdout",
     "output_type": "stream",
     "text": [
      "F\n"
     ]
    },
    {
     "name": "stderr",
     "output_type": "stream",
     "text": [
      "2016-10-07 18:50:32,440 : INFO : Finished getting training vectors\n",
      "2016-10-07 18:50:36,345 : INFO : Finished parallelization\n"
     ]
    },
    {
     "name": "stdout",
     "output_type": "stream",
     "text": [
      "G\n"
     ]
    },
    {
     "name": "stderr",
     "output_type": "stream",
     "text": [
      "2016-10-07 18:50:57,101 : INFO : Finished getting training vectors\n",
      "2016-10-07 18:51:01,375 : INFO : Finished parallelization\n"
     ]
    },
    {
     "name": "stdout",
     "output_type": "stream",
     "text": [
      "H\n"
     ]
    },
    {
     "name": "stderr",
     "output_type": "stream",
     "text": [
      "2016-10-07 18:51:21,801 : INFO : Finished getting training vectors\n",
      "2016-10-07 18:51:26,199 : INFO : Finished parallelization\n",
      "2016-10-07 18:51:36,303 : INFO : ===== Loading validation vectors\n",
      "2016-10-07 18:51:40,238 : INFO : ====== Doing Validation\n"
     ]
    },
    {
     "name": "stdout",
     "output_type": "stream",
     "text": [
      "A\n"
     ]
    },
    {
     "name": "stderr",
     "output_type": "stream",
     "text": [
      "2016-10-07 18:51:41,402 : INFO : Finished getting validation vectors\n",
      "2016-10-07 18:51:44,906 : INFO : Loaded the model, Doing the prediction now....\n"
     ]
    },
    {
     "name": "stdout",
     "output_type": "stream",
     "text": [
      "B\n"
     ]
    },
    {
     "name": "stderr",
     "output_type": "stream",
     "text": [
      "2016-10-07 18:51:46,375 : INFO : Finished getting validation vectors\n",
      "2016-10-07 18:51:49,479 : INFO : Loaded the model, Doing the prediction now....\n"
     ]
    },
    {
     "name": "stdout",
     "output_type": "stream",
     "text": [
      "C\n"
     ]
    },
    {
     "name": "stderr",
     "output_type": "stream",
     "text": [
      "2016-10-07 18:51:51,152 : INFO : Finished getting validation vectors\n",
      "2016-10-07 18:51:54,638 : INFO : Loaded the model, Doing the prediction now....\n"
     ]
    },
    {
     "name": "stdout",
     "output_type": "stream",
     "text": [
      "D\n"
     ]
    },
    {
     "name": "stderr",
     "output_type": "stream",
     "text": [
      "2016-10-07 18:51:56,132 : INFO : Finished getting validation vectors\n",
      "2016-10-07 18:51:59,742 : INFO : Loaded the model, Doing the prediction now....\n"
     ]
    },
    {
     "name": "stdout",
     "output_type": "stream",
     "text": [
      "E\n"
     ]
    },
    {
     "name": "stderr",
     "output_type": "stream",
     "text": [
      "2016-10-07 18:52:01,426 : INFO : Finished getting validation vectors\n",
      "2016-10-07 18:52:04,919 : INFO : Loaded the model, Doing the prediction now....\n"
     ]
    },
    {
     "name": "stdout",
     "output_type": "stream",
     "text": [
      "F\n"
     ]
    },
    {
     "name": "stderr",
     "output_type": "stream",
     "text": [
      "2016-10-07 18:52:06,390 : INFO : Finished getting validation vectors\n",
      "2016-10-07 18:52:09,479 : INFO : Loaded the model, Doing the prediction now....\n"
     ]
    },
    {
     "name": "stdout",
     "output_type": "stream",
     "text": [
      "G\n"
     ]
    },
    {
     "name": "stderr",
     "output_type": "stream",
     "text": [
      "2016-10-07 18:52:11,056 : INFO : Finished getting validation vectors\n",
      "2016-10-07 18:52:14,459 : INFO : Loaded the model, Doing the prediction now....\n"
     ]
    },
    {
     "name": "stdout",
     "output_type": "stream",
     "text": [
      "H\n"
     ]
    },
    {
     "name": "stderr",
     "output_type": "stream",
     "text": [
      "2016-10-07 18:52:16,061 : INFO : Finished getting validation vectors\n",
      "2016-10-07 18:52:19,490 : INFO : Loaded the model, Doing the prediction now....\n"
     ]
    },
    {
     "name": "stdout",
     "output_type": "stream",
     "text": [
      "Coverage Error: 6.84662265109, Average No of Labels: 1.35195530726, Top 1: 0.20848985725, Top 3: 0.37490608565, Top 5: 0.605184072126, F1 Micro: 0.246994325286, Total Positive: 7735\n"
     ]
    },
    {
     "name": "stderr",
     "output_type": "stream",
     "text": [
      "2016-10-07 18:52:20,577 : INFO : ****************** Epoch 3 --- Working on doc2vec_size_3000_w_8_type_dm_concat_1_mean_0_trainwords_0_hs_1_neg_0_vocabsize_None_curriter_3 *******************\n",
      "2016-10-07 18:52:20,579 : INFO : ====== Doing Training\n"
     ]
    },
    {
     "name": "stdout",
     "output_type": "stream",
     "text": [
      "A\n"
     ]
    },
    {
     "name": "stderr",
     "output_type": "stream",
     "text": [
      "2016-10-07 18:52:31,002 : INFO : Finished getting training vectors\n",
      "2016-10-07 18:52:35,188 : INFO : Finished parallelization\n"
     ]
    },
    {
     "name": "stdout",
     "output_type": "stream",
     "text": [
      "B\n"
     ]
    },
    {
     "name": "stderr",
     "output_type": "stream",
     "text": [
      "2016-10-07 18:52:56,199 : INFO : Finished getting training vectors\n",
      "2016-10-07 18:53:00,481 : INFO : Finished parallelization\n"
     ]
    },
    {
     "name": "stdout",
     "output_type": "stream",
     "text": [
      "C\n"
     ]
    },
    {
     "name": "stderr",
     "output_type": "stream",
     "text": [
      "2016-10-07 18:53:21,716 : INFO : Finished getting training vectors\n",
      "2016-10-07 18:53:25,668 : INFO : Finished parallelization\n"
     ]
    },
    {
     "name": "stdout",
     "output_type": "stream",
     "text": [
      "D\n"
     ]
    },
    {
     "name": "stderr",
     "output_type": "stream",
     "text": [
      "2016-10-07 18:53:46,199 : INFO : Finished getting training vectors\n",
      "2016-10-07 18:53:50,422 : INFO : Finished parallelization\n"
     ]
    },
    {
     "name": "stdout",
     "output_type": "stream",
     "text": [
      "E\n"
     ]
    },
    {
     "name": "stderr",
     "output_type": "stream",
     "text": [
      "2016-10-07 18:54:11,241 : INFO : Finished getting training vectors\n",
      "2016-10-07 18:54:15,235 : INFO : Finished parallelization\n"
     ]
    },
    {
     "name": "stdout",
     "output_type": "stream",
     "text": [
      "F\n"
     ]
    },
    {
     "name": "stderr",
     "output_type": "stream",
     "text": [
      "2016-10-07 18:54:35,205 : INFO : Finished getting training vectors\n",
      "2016-10-07 18:54:39,491 : INFO : Finished parallelization\n"
     ]
    },
    {
     "name": "stdout",
     "output_type": "stream",
     "text": [
      "G\n"
     ]
    },
    {
     "name": "stderr",
     "output_type": "stream",
     "text": [
      "2016-10-07 18:54:59,799 : INFO : Finished getting training vectors\n",
      "2016-10-07 18:55:03,957 : INFO : Finished parallelization\n"
     ]
    },
    {
     "name": "stdout",
     "output_type": "stream",
     "text": [
      "H\n"
     ]
    },
    {
     "name": "stderr",
     "output_type": "stream",
     "text": [
      "2016-10-07 18:55:24,334 : INFO : Finished getting training vectors\n",
      "2016-10-07 18:55:28,359 : INFO : Finished parallelization\n",
      "2016-10-07 18:55:38,506 : INFO : ===== Loading validation vectors\n",
      "2016-10-07 18:55:42,821 : INFO : ====== Doing Validation\n"
     ]
    },
    {
     "name": "stdout",
     "output_type": "stream",
     "text": [
      "A\n"
     ]
    },
    {
     "name": "stderr",
     "output_type": "stream",
     "text": [
      "2016-10-07 18:55:44,025 : INFO : Finished getting validation vectors\n",
      "2016-10-07 18:55:47,500 : INFO : Loaded the model, Doing the prediction now....\n"
     ]
    },
    {
     "name": "stdout",
     "output_type": "stream",
     "text": [
      "B\n"
     ]
    },
    {
     "name": "stderr",
     "output_type": "stream",
     "text": [
      "2016-10-07 18:55:49,103 : INFO : Finished getting validation vectors\n",
      "2016-10-07 18:55:52,436 : INFO : Loaded the model, Doing the prediction now....\n"
     ]
    },
    {
     "name": "stdout",
     "output_type": "stream",
     "text": [
      "C\n"
     ]
    },
    {
     "name": "stderr",
     "output_type": "stream",
     "text": [
      "2016-10-07 18:55:54,061 : INFO : Finished getting validation vectors\n",
      "2016-10-07 18:55:57,105 : INFO : Loaded the model, Doing the prediction now....\n"
     ]
    },
    {
     "name": "stdout",
     "output_type": "stream",
     "text": [
      "D\n"
     ]
    },
    {
     "name": "stderr",
     "output_type": "stream",
     "text": [
      "2016-10-07 18:55:58,624 : INFO : Finished getting validation vectors\n",
      "2016-10-07 18:56:02,052 : INFO : Loaded the model, Doing the prediction now....\n"
     ]
    },
    {
     "name": "stdout",
     "output_type": "stream",
     "text": [
      "E\n"
     ]
    },
    {
     "name": "stderr",
     "output_type": "stream",
     "text": [
      "2016-10-07 18:56:03,900 : INFO : Finished getting validation vectors\n",
      "2016-10-07 18:56:07,295 : INFO : Loaded the model, Doing the prediction now....\n"
     ]
    },
    {
     "name": "stdout",
     "output_type": "stream",
     "text": [
      "F\n"
     ]
    },
    {
     "name": "stderr",
     "output_type": "stream",
     "text": [
      "2016-10-07 18:56:08,930 : INFO : Finished getting validation vectors\n",
      "2016-10-07 18:56:12,223 : INFO : Loaded the model, Doing the prediction now....\n"
     ]
    },
    {
     "name": "stdout",
     "output_type": "stream",
     "text": [
      "G\n"
     ]
    },
    {
     "name": "stderr",
     "output_type": "stream",
     "text": [
      "2016-10-07 18:56:13,971 : INFO : Finished getting validation vectors\n",
      "2016-10-07 18:56:17,456 : INFO : Loaded the model, Doing the prediction now....\n"
     ]
    },
    {
     "name": "stdout",
     "output_type": "stream",
     "text": [
      "H\n"
     ]
    },
    {
     "name": "stderr",
     "output_type": "stream",
     "text": [
      "2016-10-07 18:56:19,022 : INFO : Finished getting validation vectors\n",
      "2016-10-07 18:56:22,240 : INFO : Loaded the model, Doing the prediction now....\n"
     ]
    },
    {
     "name": "stdout",
     "output_type": "stream",
     "text": [
      "Coverage Error: 6.85170137125, Average No of Labels: 1.35195530726, Top 1: 0.22539444027, Top 3: 0.393313298272, Top 5: 0.607438016529, F1 Micro: 0.247257464466, Total Positive: 7821\n"
     ]
    },
    {
     "name": "stderr",
     "output_type": "stream",
     "text": [
      "2016-10-07 18:56:23,229 : INFO : ****************** Epoch 4 --- Working on doc2vec_size_3000_w_8_type_dm_concat_1_mean_0_trainwords_0_hs_1_neg_0_vocabsize_None_curriter_4 *******************\n",
      "2016-10-07 18:56:23,231 : INFO : ====== Doing Training\n"
     ]
    },
    {
     "name": "stdout",
     "output_type": "stream",
     "text": [
      "A\n"
     ]
    },
    {
     "name": "stderr",
     "output_type": "stream",
     "text": [
      "2016-10-07 18:56:33,716 : INFO : Finished getting training vectors\n",
      "2016-10-07 18:56:37,831 : INFO : Finished parallelization\n"
     ]
    },
    {
     "name": "stdout",
     "output_type": "stream",
     "text": [
      "B\n"
     ]
    },
    {
     "name": "stderr",
     "output_type": "stream",
     "text": [
      "2016-10-07 18:56:58,533 : INFO : Finished getting training vectors\n",
      "2016-10-07 18:57:02,478 : INFO : Finished parallelization\n"
     ]
    },
    {
     "name": "stdout",
     "output_type": "stream",
     "text": [
      "C\n"
     ]
    },
    {
     "name": "stderr",
     "output_type": "stream",
     "text": [
      "2016-10-07 18:57:22,310 : INFO : Finished getting training vectors\n",
      "2016-10-07 18:57:26,006 : INFO : Finished parallelization\n"
     ]
    },
    {
     "name": "stdout",
     "output_type": "stream",
     "text": [
      "D\n"
     ]
    },
    {
     "name": "stderr",
     "output_type": "stream",
     "text": [
      "2016-10-07 18:57:46,492 : INFO : Finished getting training vectors\n",
      "2016-10-07 18:57:50,412 : INFO : Finished parallelization\n"
     ]
    },
    {
     "name": "stdout",
     "output_type": "stream",
     "text": [
      "E\n"
     ]
    },
    {
     "name": "stderr",
     "output_type": "stream",
     "text": [
      "2016-10-07 18:58:11,042 : INFO : Finished getting training vectors\n",
      "2016-10-07 18:58:15,343 : INFO : Finished parallelization\n"
     ]
    },
    {
     "name": "stdout",
     "output_type": "stream",
     "text": [
      "F\n"
     ]
    },
    {
     "name": "stderr",
     "output_type": "stream",
     "text": [
      "2016-10-07 18:58:36,775 : INFO : Finished getting training vectors\n",
      "2016-10-07 18:58:41,162 : INFO : Finished parallelization\n"
     ]
    },
    {
     "name": "stdout",
     "output_type": "stream",
     "text": [
      "G\n"
     ]
    },
    {
     "name": "stderr",
     "output_type": "stream",
     "text": [
      "2016-10-07 18:59:01,628 : INFO : Finished getting training vectors\n",
      "2016-10-07 18:59:06,018 : INFO : Finished parallelization\n"
     ]
    },
    {
     "name": "stdout",
     "output_type": "stream",
     "text": [
      "H\n"
     ]
    },
    {
     "name": "stderr",
     "output_type": "stream",
     "text": [
      "2016-10-07 18:59:26,214 : INFO : Finished getting training vectors\n",
      "2016-10-07 18:59:30,392 : INFO : Finished parallelization\n",
      "2016-10-07 18:59:40,556 : INFO : ===== Loading validation vectors\n",
      "2016-10-07 18:59:44,751 : INFO : ====== Doing Validation\n"
     ]
    },
    {
     "name": "stdout",
     "output_type": "stream",
     "text": [
      "A\n"
     ]
    },
    {
     "name": "stderr",
     "output_type": "stream",
     "text": [
      "2016-10-07 18:59:45,971 : INFO : Finished getting validation vectors\n",
      "2016-10-07 18:59:49,503 : INFO : Loaded the model, Doing the prediction now....\n"
     ]
    },
    {
     "name": "stdout",
     "output_type": "stream",
     "text": [
      "B\n"
     ]
    },
    {
     "name": "stderr",
     "output_type": "stream",
     "text": [
      "2016-10-07 18:59:51,128 : INFO : Finished getting validation vectors\n",
      "2016-10-07 18:59:54,409 : INFO : Loaded the model, Doing the prediction now....\n"
     ]
    },
    {
     "name": "stdout",
     "output_type": "stream",
     "text": [
      "C\n"
     ]
    },
    {
     "name": "stderr",
     "output_type": "stream",
     "text": [
      "2016-10-07 18:59:55,965 : INFO : Finished getting validation vectors\n",
      "2016-10-07 18:59:59,305 : INFO : Loaded the model, Doing the prediction now....\n"
     ]
    },
    {
     "name": "stdout",
     "output_type": "stream",
     "text": [
      "D\n"
     ]
    },
    {
     "name": "stderr",
     "output_type": "stream",
     "text": [
      "2016-10-07 19:00:00,834 : INFO : Finished getting validation vectors\n",
      "2016-10-07 19:00:04,150 : INFO : Loaded the model, Doing the prediction now....\n"
     ]
    },
    {
     "name": "stdout",
     "output_type": "stream",
     "text": [
      "E\n"
     ]
    },
    {
     "name": "stderr",
     "output_type": "stream",
     "text": [
      "2016-10-07 19:00:05,860 : INFO : Finished getting validation vectors\n",
      "2016-10-07 19:00:09,113 : INFO : Loaded the model, Doing the prediction now....\n"
     ]
    },
    {
     "name": "stdout",
     "output_type": "stream",
     "text": [
      "F\n"
     ]
    },
    {
     "name": "stderr",
     "output_type": "stream",
     "text": [
      "2016-10-07 19:00:10,774 : INFO : Finished getting validation vectors\n",
      "2016-10-07 19:00:14,227 : INFO : Loaded the model, Doing the prediction now....\n"
     ]
    },
    {
     "name": "stdout",
     "output_type": "stream",
     "text": [
      "G\n"
     ]
    },
    {
     "name": "stderr",
     "output_type": "stream",
     "text": [
      "2016-10-07 19:00:15,894 : INFO : Finished getting validation vectors\n",
      "2016-10-07 19:00:19,265 : INFO : Loaded the model, Doing the prediction now....\n"
     ]
    },
    {
     "name": "stdout",
     "output_type": "stream",
     "text": [
      "H\n"
     ]
    },
    {
     "name": "stderr",
     "output_type": "stream",
     "text": [
      "2016-10-07 19:00:20,943 : INFO : Finished getting validation vectors\n",
      "2016-10-07 19:00:24,240 : INFO : Loaded the model, Doing the prediction now....\n"
     ]
    },
    {
     "name": "stdout",
     "output_type": "stream",
     "text": [
      "Coverage Error: 6.79431183342, Average No of Labels: 1.35195530726, Top 1: 0.229151014275, Top 3: 0.400826446281, Top 5: 0.611570247934, F1 Micro: 0.250596430957, Total Positive: 7817\n"
     ]
    },
    {
     "name": "stderr",
     "output_type": "stream",
     "text": [
      "2016-10-07 19:00:25,338 : INFO : ****************** Epoch 5 --- Working on doc2vec_size_3000_w_8_type_dm_concat_1_mean_0_trainwords_0_hs_1_neg_0_vocabsize_None_curriter_5 *******************\n",
      "2016-10-07 19:00:25,340 : INFO : ====== Doing Training\n"
     ]
    },
    {
     "name": "stdout",
     "output_type": "stream",
     "text": [
      "A\n"
     ]
    },
    {
     "name": "stderr",
     "output_type": "stream",
     "text": [
      "2016-10-07 19:00:35,914 : INFO : Finished getting training vectors\n",
      "2016-10-07 19:00:39,769 : INFO : Finished parallelization\n"
     ]
    },
    {
     "name": "stdout",
     "output_type": "stream",
     "text": [
      "B\n"
     ]
    },
    {
     "name": "stderr",
     "output_type": "stream",
     "text": [
      "2016-10-07 19:01:01,679 : INFO : Finished getting training vectors\n",
      "2016-10-07 19:01:06,091 : INFO : Finished parallelization\n"
     ]
    },
    {
     "name": "stdout",
     "output_type": "stream",
     "text": [
      "C\n"
     ]
    },
    {
     "name": "stderr",
     "output_type": "stream",
     "text": [
      "2016-10-07 19:01:27,172 : INFO : Finished getting training vectors\n",
      "2016-10-07 19:01:31,385 : INFO : Finished parallelization\n"
     ]
    },
    {
     "name": "stdout",
     "output_type": "stream",
     "text": [
      "D\n"
     ]
    },
    {
     "name": "stderr",
     "output_type": "stream",
     "text": [
      "2016-10-07 19:01:51,645 : INFO : Finished getting training vectors\n",
      "2016-10-07 19:01:55,898 : INFO : Finished parallelization\n"
     ]
    },
    {
     "name": "stdout",
     "output_type": "stream",
     "text": [
      "E\n"
     ]
    },
    {
     "name": "stderr",
     "output_type": "stream",
     "text": [
      "2016-10-07 19:02:16,753 : INFO : Finished getting training vectors\n",
      "2016-10-07 19:02:21,141 : INFO : Finished parallelization\n"
     ]
    },
    {
     "name": "stdout",
     "output_type": "stream",
     "text": [
      "F\n"
     ]
    },
    {
     "name": "stderr",
     "output_type": "stream",
     "text": [
      "2016-10-07 19:02:42,697 : INFO : Finished getting training vectors\n",
      "2016-10-07 19:02:46,880 : INFO : Finished parallelization\n"
     ]
    },
    {
     "name": "stdout",
     "output_type": "stream",
     "text": [
      "G\n"
     ]
    },
    {
     "name": "stderr",
     "output_type": "stream",
     "text": [
      "2016-10-07 19:03:08,812 : INFO : Finished getting training vectors\n",
      "2016-10-07 19:03:12,879 : INFO : Finished parallelization\n"
     ]
    },
    {
     "name": "stdout",
     "output_type": "stream",
     "text": [
      "H\n"
     ]
    },
    {
     "name": "stderr",
     "output_type": "stream",
     "text": [
      "2016-10-07 19:03:33,820 : INFO : Finished getting training vectors\n",
      "2016-10-07 19:03:37,738 : INFO : Finished parallelization\n",
      "2016-10-07 19:03:47,949 : INFO : ===== Loading validation vectors\n",
      "2016-10-07 19:03:52,289 : INFO : ====== Doing Validation\n"
     ]
    },
    {
     "name": "stdout",
     "output_type": "stream",
     "text": [
      "A\n"
     ]
    },
    {
     "name": "stderr",
     "output_type": "stream",
     "text": [
      "2016-10-07 19:03:53,448 : INFO : Finished getting validation vectors\n",
      "2016-10-07 19:03:56,835 : INFO : Loaded the model, Doing the prediction now....\n"
     ]
    },
    {
     "name": "stdout",
     "output_type": "stream",
     "text": [
      "B\n"
     ]
    },
    {
     "name": "stderr",
     "output_type": "stream",
     "text": [
      "2016-10-07 19:03:58,393 : INFO : Finished getting validation vectors\n",
      "2016-10-07 19:04:01,845 : INFO : Loaded the model, Doing the prediction now....\n"
     ]
    },
    {
     "name": "stdout",
     "output_type": "stream",
     "text": [
      "C\n"
     ]
    },
    {
     "name": "stderr",
     "output_type": "stream",
     "text": [
      "2016-10-07 19:04:03,245 : INFO : Finished getting validation vectors\n",
      "2016-10-07 19:04:06,634 : INFO : Loaded the model, Doing the prediction now....\n"
     ]
    },
    {
     "name": "stdout",
     "output_type": "stream",
     "text": [
      "D\n"
     ]
    },
    {
     "name": "stderr",
     "output_type": "stream",
     "text": [
      "2016-10-07 19:04:08,322 : INFO : Finished getting validation vectors\n",
      "2016-10-07 19:04:11,679 : INFO : Loaded the model, Doing the prediction now....\n"
     ]
    },
    {
     "name": "stdout",
     "output_type": "stream",
     "text": [
      "E\n"
     ]
    },
    {
     "name": "stderr",
     "output_type": "stream",
     "text": [
      "2016-10-07 19:04:13,208 : INFO : Finished getting validation vectors\n",
      "2016-10-07 19:04:16,678 : INFO : Loaded the model, Doing the prediction now....\n"
     ]
    },
    {
     "name": "stdout",
     "output_type": "stream",
     "text": [
      "F\n"
     ]
    },
    {
     "name": "stderr",
     "output_type": "stream",
     "text": [
      "2016-10-07 19:04:19,363 : INFO : Finished getting validation vectors\n",
      "2016-10-07 19:04:22,652 : INFO : Loaded the model, Doing the prediction now....\n"
     ]
    },
    {
     "name": "stdout",
     "output_type": "stream",
     "text": [
      "G\n"
     ]
    },
    {
     "name": "stderr",
     "output_type": "stream",
     "text": [
      "2016-10-07 19:04:24,318 : INFO : Finished getting validation vectors\n",
      "2016-10-07 19:04:27,959 : INFO : Loaded the model, Doing the prediction now....\n"
     ]
    },
    {
     "name": "stdout",
     "output_type": "stream",
     "text": [
      "H\n"
     ]
    },
    {
     "name": "stderr",
     "output_type": "stream",
     "text": [
      "2016-10-07 19:04:29,636 : INFO : Finished getting validation vectors\n",
      "2016-10-07 19:04:33,113 : INFO : Loaded the model, Doing the prediction now....\n"
     ]
    },
    {
     "name": "stdout",
     "output_type": "stream",
     "text": [
      "Coverage Error: 6.76130015236, Average No of Labels: 1.35195530726, Top 1: 0.226521412472, Top 3: 0.389556724267, Top 5: 0.613448534936, F1 Micro: 0.252782493869, Total Positive: 7940\n"
     ]
    },
    {
     "name": "stderr",
     "output_type": "stream",
     "text": [
      "2016-10-07 19:04:34,143 : INFO : ****************** Epoch 6 --- Working on doc2vec_size_3000_w_8_type_dm_concat_1_mean_0_trainwords_0_hs_1_neg_0_vocabsize_None_curriter_6 *******************\n",
      "2016-10-07 19:04:34,146 : INFO : ====== Doing Training\n"
     ]
    },
    {
     "name": "stdout",
     "output_type": "stream",
     "text": [
      "A\n"
     ]
    },
    {
     "name": "stderr",
     "output_type": "stream",
     "text": [
      "2016-10-07 19:04:44,301 : INFO : Finished getting training vectors\n",
      "2016-10-07 19:04:48,502 : INFO : Finished parallelization\n"
     ]
    },
    {
     "name": "stdout",
     "output_type": "stream",
     "text": [
      "B\n"
     ]
    },
    {
     "name": "stderr",
     "output_type": "stream",
     "text": [
      "2016-10-07 19:05:09,073 : INFO : Finished getting training vectors\n",
      "2016-10-07 19:05:13,196 : INFO : Finished parallelization\n"
     ]
    },
    {
     "name": "stdout",
     "output_type": "stream",
     "text": [
      "C\n"
     ]
    },
    {
     "name": "stderr",
     "output_type": "stream",
     "text": [
      "2016-10-07 19:05:33,599 : INFO : Finished getting training vectors\n",
      "2016-10-07 19:05:37,900 : INFO : Finished parallelization\n"
     ]
    },
    {
     "name": "stdout",
     "output_type": "stream",
     "text": [
      "D\n"
     ]
    },
    {
     "name": "stderr",
     "output_type": "stream",
     "text": [
      "2016-10-07 19:05:58,073 : INFO : Finished getting training vectors\n",
      "2016-10-07 19:06:01,825 : INFO : Finished parallelization\n"
     ]
    },
    {
     "name": "stdout",
     "output_type": "stream",
     "text": [
      "E\n"
     ]
    },
    {
     "name": "stderr",
     "output_type": "stream",
     "text": [
      "2016-10-07 19:06:23,224 : INFO : Finished getting training vectors\n",
      "2016-10-07 19:06:26,965 : INFO : Finished parallelization\n"
     ]
    },
    {
     "name": "stdout",
     "output_type": "stream",
     "text": [
      "F\n"
     ]
    },
    {
     "name": "stderr",
     "output_type": "stream",
     "text": [
      "2016-10-07 19:06:47,526 : INFO : Finished getting training vectors\n",
      "2016-10-07 19:06:51,585 : INFO : Finished parallelization\n"
     ]
    },
    {
     "name": "stdout",
     "output_type": "stream",
     "text": [
      "G\n"
     ]
    },
    {
     "name": "stderr",
     "output_type": "stream",
     "text": [
      "2016-10-07 19:07:12,537 : INFO : Finished getting training vectors\n",
      "2016-10-07 19:07:16,639 : INFO : Finished parallelization\n"
     ]
    },
    {
     "name": "stdout",
     "output_type": "stream",
     "text": [
      "H\n"
     ]
    },
    {
     "name": "stderr",
     "output_type": "stream",
     "text": [
      "2016-10-07 19:07:37,557 : INFO : Finished getting training vectors\n",
      "2016-10-07 19:07:41,708 : INFO : Finished parallelization\n",
      "2016-10-07 19:07:52,095 : INFO : ===== Loading validation vectors\n",
      "2016-10-07 19:07:56,301 : INFO : ====== Doing Validation\n"
     ]
    },
    {
     "name": "stdout",
     "output_type": "stream",
     "text": [
      "A\n"
     ]
    },
    {
     "name": "stderr",
     "output_type": "stream",
     "text": [
      "2016-10-07 19:07:57,452 : INFO : Finished getting validation vectors\n",
      "2016-10-07 19:08:00,626 : INFO : Loaded the model, Doing the prediction now....\n"
     ]
    },
    {
     "name": "stdout",
     "output_type": "stream",
     "text": [
      "B\n"
     ]
    },
    {
     "name": "stderr",
     "output_type": "stream",
     "text": [
      "2016-10-07 19:08:02,243 : INFO : Finished getting validation vectors\n",
      "2016-10-07 19:08:05,676 : INFO : Loaded the model, Doing the prediction now....\n"
     ]
    },
    {
     "name": "stdout",
     "output_type": "stream",
     "text": [
      "C\n"
     ]
    },
    {
     "name": "stderr",
     "output_type": "stream",
     "text": [
      "2016-10-07 19:08:07,228 : INFO : Finished getting validation vectors\n",
      "2016-10-07 19:08:10,482 : INFO : Loaded the model, Doing the prediction now....\n"
     ]
    },
    {
     "name": "stdout",
     "output_type": "stream",
     "text": [
      "D\n"
     ]
    },
    {
     "name": "stderr",
     "output_type": "stream",
     "text": [
      "2016-10-07 19:08:12,019 : INFO : Finished getting validation vectors\n",
      "2016-10-07 19:08:15,142 : INFO : Loaded the model, Doing the prediction now....\n"
     ]
    },
    {
     "name": "stdout",
     "output_type": "stream",
     "text": [
      "E\n"
     ]
    },
    {
     "name": "stderr",
     "output_type": "stream",
     "text": [
      "2016-10-07 19:08:16,621 : INFO : Finished getting validation vectors\n",
      "2016-10-07 19:08:19,936 : INFO : Loaded the model, Doing the prediction now....\n"
     ]
    },
    {
     "name": "stdout",
     "output_type": "stream",
     "text": [
      "F\n"
     ]
    },
    {
     "name": "stderr",
     "output_type": "stream",
     "text": [
      "2016-10-07 19:08:21,569 : INFO : Finished getting validation vectors\n",
      "2016-10-07 19:08:24,962 : INFO : Loaded the model, Doing the prediction now....\n"
     ]
    },
    {
     "name": "stdout",
     "output_type": "stream",
     "text": [
      "G\n"
     ]
    },
    {
     "name": "stderr",
     "output_type": "stream",
     "text": [
      "2016-10-07 19:08:26,788 : INFO : Finished getting validation vectors\n",
      "2016-10-07 19:08:30,023 : INFO : Loaded the model, Doing the prediction now....\n"
     ]
    },
    {
     "name": "stdout",
     "output_type": "stream",
     "text": [
      "H\n"
     ]
    },
    {
     "name": "stderr",
     "output_type": "stream",
     "text": [
      "2016-10-07 19:08:31,435 : INFO : Finished getting validation vectors\n",
      "2016-10-07 19:08:34,753 : INFO : Loaded the model, Doing the prediction now....\n"
     ]
    },
    {
     "name": "stdout",
     "output_type": "stream",
     "text": [
      "Coverage Error: 6.69730827831, Average No of Labels: 1.35195530726, Top 1: 0.238542449286, Top 3: 0.399323816679, Top 5: 0.612321562735, F1 Micro: 0.258756525866, Total Positive: 7873\n"
     ]
    },
    {
     "name": "stderr",
     "output_type": "stream",
     "text": [
      "2016-10-07 19:08:35,765 : INFO : ****************** Epoch 7 --- Working on doc2vec_size_3000_w_8_type_dm_concat_1_mean_0_trainwords_0_hs_1_neg_0_vocabsize_None_curriter_7 *******************\n",
      "2016-10-07 19:08:35,767 : INFO : ====== Doing Training\n"
     ]
    },
    {
     "name": "stdout",
     "output_type": "stream",
     "text": [
      "A\n"
     ]
    },
    {
     "name": "stderr",
     "output_type": "stream",
     "text": [
      "2016-10-07 19:08:46,581 : INFO : Finished getting training vectors\n",
      "2016-10-07 19:08:50,894 : INFO : Finished parallelization\n"
     ]
    },
    {
     "name": "stdout",
     "output_type": "stream",
     "text": [
      "B\n"
     ]
    },
    {
     "name": "stderr",
     "output_type": "stream",
     "text": [
      "2016-10-07 19:09:11,474 : INFO : Finished getting training vectors\n",
      "2016-10-07 19:09:15,699 : INFO : Finished parallelization\n"
     ]
    },
    {
     "name": "stdout",
     "output_type": "stream",
     "text": [
      "C\n"
     ]
    },
    {
     "name": "stderr",
     "output_type": "stream",
     "text": [
      "2016-10-07 19:09:35,890 : INFO : Finished getting training vectors\n",
      "2016-10-07 19:09:40,142 : INFO : Finished parallelization\n"
     ]
    },
    {
     "name": "stdout",
     "output_type": "stream",
     "text": [
      "D\n"
     ]
    },
    {
     "name": "stderr",
     "output_type": "stream",
     "text": [
      "2016-10-07 19:09:59,889 : INFO : Finished getting training vectors\n",
      "2016-10-07 19:10:04,037 : INFO : Finished parallelization\n"
     ]
    },
    {
     "name": "stdout",
     "output_type": "stream",
     "text": [
      "E\n"
     ]
    },
    {
     "name": "stderr",
     "output_type": "stream",
     "text": [
      "2016-10-07 19:10:24,403 : INFO : Finished getting training vectors\n",
      "2016-10-07 19:10:28,092 : INFO : Finished parallelization\n"
     ]
    },
    {
     "name": "stdout",
     "output_type": "stream",
     "text": [
      "F\n"
     ]
    },
    {
     "name": "stderr",
     "output_type": "stream",
     "text": [
      "2016-10-07 19:10:47,537 : INFO : Finished getting training vectors\n",
      "2016-10-07 19:10:51,824 : INFO : Finished parallelization\n"
     ]
    },
    {
     "name": "stdout",
     "output_type": "stream",
     "text": [
      "G\n"
     ]
    },
    {
     "name": "stderr",
     "output_type": "stream",
     "text": [
      "2016-10-07 19:11:11,341 : INFO : Finished getting training vectors\n",
      "2016-10-07 19:11:15,495 : INFO : Finished parallelization\n"
     ]
    },
    {
     "name": "stdout",
     "output_type": "stream",
     "text": [
      "H\n"
     ]
    },
    {
     "name": "stderr",
     "output_type": "stream",
     "text": [
      "2016-10-07 19:11:35,089 : INFO : Finished getting training vectors\n",
      "2016-10-07 19:11:39,224 : INFO : Finished parallelization\n",
      "2016-10-07 19:11:48,948 : INFO : ===== Loading validation vectors\n",
      "2016-10-07 19:11:52,628 : INFO : ====== Doing Validation\n"
     ]
    },
    {
     "name": "stdout",
     "output_type": "stream",
     "text": [
      "A\n"
     ]
    },
    {
     "name": "stderr",
     "output_type": "stream",
     "text": [
      "2016-10-07 19:11:53,817 : INFO : Finished getting validation vectors\n",
      "2016-10-07 19:11:56,942 : INFO : Loaded the model, Doing the prediction now....\n"
     ]
    },
    {
     "name": "stdout",
     "output_type": "stream",
     "text": [
      "B\n"
     ]
    },
    {
     "name": "stderr",
     "output_type": "stream",
     "text": [
      "2016-10-07 19:11:58,411 : INFO : Finished getting validation vectors\n",
      "2016-10-07 19:12:01,403 : INFO : Loaded the model, Doing the prediction now....\n"
     ]
    },
    {
     "name": "stdout",
     "output_type": "stream",
     "text": [
      "C\n"
     ]
    },
    {
     "name": "stderr",
     "output_type": "stream",
     "text": [
      "2016-10-07 19:12:02,972 : INFO : Finished getting validation vectors\n",
      "2016-10-07 19:12:06,148 : INFO : Loaded the model, Doing the prediction now....\n"
     ]
    },
    {
     "name": "stdout",
     "output_type": "stream",
     "text": [
      "D\n"
     ]
    },
    {
     "name": "stderr",
     "output_type": "stream",
     "text": [
      "2016-10-07 19:12:07,639 : INFO : Finished getting validation vectors\n",
      "2016-10-07 19:12:10,613 : INFO : Loaded the model, Doing the prediction now....\n"
     ]
    },
    {
     "name": "stdout",
     "output_type": "stream",
     "text": [
      "E\n"
     ]
    },
    {
     "name": "stderr",
     "output_type": "stream",
     "text": [
      "2016-10-07 19:12:12,139 : INFO : Finished getting validation vectors\n",
      "2016-10-07 19:12:15,194 : INFO : Loaded the model, Doing the prediction now....\n"
     ]
    },
    {
     "name": "stdout",
     "output_type": "stream",
     "text": [
      "F\n"
     ]
    },
    {
     "name": "stderr",
     "output_type": "stream",
     "text": [
      "2016-10-07 19:12:16,787 : INFO : Finished getting validation vectors\n",
      "2016-10-07 19:12:19,938 : INFO : Loaded the model, Doing the prediction now....\n"
     ]
    },
    {
     "name": "stdout",
     "output_type": "stream",
     "text": [
      "G\n"
     ]
    },
    {
     "name": "stderr",
     "output_type": "stream",
     "text": [
      "2016-10-07 19:12:21,564 : INFO : Finished getting validation vectors\n",
      "2016-10-07 19:12:24,681 : INFO : Loaded the model, Doing the prediction now....\n"
     ]
    },
    {
     "name": "stdout",
     "output_type": "stream",
     "text": [
      "H\n"
     ]
    },
    {
     "name": "stderr",
     "output_type": "stream",
     "text": [
      "2016-10-07 19:12:26,380 : INFO : Finished getting validation vectors\n",
      "2016-10-07 19:12:29,592 : INFO : Loaded the model, Doing the prediction now....\n"
     ]
    },
    {
     "name": "stdout",
     "output_type": "stream",
     "text": [
      "Coverage Error: 6.72320975114, Average No of Labels: 1.35195530726, Top 1: 0.247933884298, Top 3: 0.409090909091, Top 5: 0.611945905334, F1 Micro: 0.25840236123, Total Positive: 7841\n"
     ]
    },
    {
     "name": "stderr",
     "output_type": "stream",
     "text": [
      "2016-10-07 19:12:30,614 : INFO : ****************** Epoch 8 --- Working on doc2vec_size_3000_w_8_type_dm_concat_1_mean_0_trainwords_0_hs_1_neg_0_vocabsize_None_curriter_8 *******************\n",
      "2016-10-07 19:12:30,616 : INFO : ====== Doing Training\n"
     ]
    },
    {
     "name": "stdout",
     "output_type": "stream",
     "text": [
      "A\n"
     ]
    },
    {
     "name": "stderr",
     "output_type": "stream",
     "text": [
      "2016-10-07 19:12:40,747 : INFO : Finished getting training vectors\n",
      "2016-10-07 19:12:45,174 : INFO : Finished parallelization\n"
     ]
    },
    {
     "name": "stdout",
     "output_type": "stream",
     "text": [
      "B\n"
     ]
    },
    {
     "name": "stderr",
     "output_type": "stream",
     "text": [
      "2016-10-07 19:13:05,306 : INFO : Finished getting training vectors\n",
      "2016-10-07 19:13:09,228 : INFO : Finished parallelization\n"
     ]
    },
    {
     "name": "stdout",
     "output_type": "stream",
     "text": [
      "C\n"
     ]
    },
    {
     "name": "stderr",
     "output_type": "stream",
     "text": [
      "2016-10-07 19:13:30,434 : INFO : Finished getting training vectors\n",
      "2016-10-07 19:13:34,537 : INFO : Finished parallelization\n"
     ]
    },
    {
     "name": "stdout",
     "output_type": "stream",
     "text": [
      "D\n"
     ]
    },
    {
     "name": "stderr",
     "output_type": "stream",
     "text": [
      "2016-10-07 19:13:54,889 : INFO : Finished getting training vectors\n",
      "2016-10-07 19:13:58,741 : INFO : Finished parallelization\n"
     ]
    },
    {
     "name": "stdout",
     "output_type": "stream",
     "text": [
      "E\n"
     ]
    },
    {
     "name": "stderr",
     "output_type": "stream",
     "text": [
      "2016-10-07 19:14:19,114 : INFO : Finished getting training vectors\n",
      "2016-10-07 19:14:23,282 : INFO : Finished parallelization\n"
     ]
    },
    {
     "name": "stdout",
     "output_type": "stream",
     "text": [
      "F\n"
     ]
    },
    {
     "name": "stderr",
     "output_type": "stream",
     "text": [
      "2016-10-07 19:14:42,842 : INFO : Finished getting training vectors\n",
      "2016-10-07 19:14:46,768 : INFO : Finished parallelization\n"
     ]
    },
    {
     "name": "stdout",
     "output_type": "stream",
     "text": [
      "G\n"
     ]
    },
    {
     "name": "stderr",
     "output_type": "stream",
     "text": [
      "2016-10-07 19:15:07,887 : INFO : Finished getting training vectors\n",
      "2016-10-07 19:15:12,226 : INFO : Finished parallelization\n"
     ]
    },
    {
     "name": "stdout",
     "output_type": "stream",
     "text": [
      "H\n"
     ]
    },
    {
     "name": "stderr",
     "output_type": "stream",
     "text": [
      "2016-10-07 19:15:32,664 : INFO : Finished getting training vectors\n",
      "2016-10-07 19:15:36,850 : INFO : Finished parallelization\n",
      "2016-10-07 19:15:46,295 : INFO : ===== Loading validation vectors\n",
      "2016-10-07 19:15:50,371 : INFO : ====== Doing Validation\n"
     ]
    },
    {
     "name": "stdout",
     "output_type": "stream",
     "text": [
      "A\n"
     ]
    },
    {
     "name": "stderr",
     "output_type": "stream",
     "text": [
      "2016-10-07 19:15:51,422 : INFO : Finished getting validation vectors\n",
      "2016-10-07 19:15:54,869 : INFO : Loaded the model, Doing the prediction now....\n"
     ]
    },
    {
     "name": "stdout",
     "output_type": "stream",
     "text": [
      "B\n"
     ]
    },
    {
     "name": "stderr",
     "output_type": "stream",
     "text": [
      "2016-10-07 19:15:56,441 : INFO : Finished getting validation vectors\n",
      "2016-10-07 19:15:59,393 : INFO : Loaded the model, Doing the prediction now....\n"
     ]
    },
    {
     "name": "stdout",
     "output_type": "stream",
     "text": [
      "C\n"
     ]
    },
    {
     "name": "stderr",
     "output_type": "stream",
     "text": [
      "2016-10-07 19:16:00,891 : INFO : Finished getting validation vectors\n",
      "2016-10-07 19:16:04,146 : INFO : Loaded the model, Doing the prediction now....\n"
     ]
    },
    {
     "name": "stdout",
     "output_type": "stream",
     "text": [
      "D\n"
     ]
    },
    {
     "name": "stderr",
     "output_type": "stream",
     "text": [
      "2016-10-07 19:16:05,847 : INFO : Finished getting validation vectors\n",
      "2016-10-07 19:16:09,344 : INFO : Loaded the model, Doing the prediction now....\n"
     ]
    },
    {
     "name": "stdout",
     "output_type": "stream",
     "text": [
      "E\n"
     ]
    },
    {
     "name": "stderr",
     "output_type": "stream",
     "text": [
      "2016-10-07 19:16:10,951 : INFO : Finished getting validation vectors\n",
      "2016-10-07 19:16:14,198 : INFO : Loaded the model, Doing the prediction now....\n"
     ]
    },
    {
     "name": "stdout",
     "output_type": "stream",
     "text": [
      "F\n"
     ]
    },
    {
     "name": "stderr",
     "output_type": "stream",
     "text": [
      "2016-10-07 19:16:15,661 : INFO : Finished getting validation vectors\n",
      "2016-10-07 19:16:19,093 : INFO : Loaded the model, Doing the prediction now....\n"
     ]
    },
    {
     "name": "stdout",
     "output_type": "stream",
     "text": [
      "G\n"
     ]
    },
    {
     "name": "stderr",
     "output_type": "stream",
     "text": [
      "2016-10-07 19:16:20,644 : INFO : Finished getting validation vectors\n",
      "2016-10-07 19:16:23,985 : INFO : Loaded the model, Doing the prediction now....\n"
     ]
    },
    {
     "name": "stdout",
     "output_type": "stream",
     "text": [
      "H\n"
     ]
    },
    {
     "name": "stderr",
     "output_type": "stream",
     "text": [
      "2016-10-07 19:16:25,512 : INFO : Finished getting validation vectors\n",
      "2016-10-07 19:16:28,882 : INFO : Loaded the model, Doing the prediction now....\n"
     ]
    },
    {
     "name": "stdout",
     "output_type": "stream",
     "text": [
      "Coverage Error: 6.76282376841, Average No of Labels: 1.35195530726, Top 1: 0.242299023291, Top 3: 0.393313298272, Top 5: 0.609316303531, F1 Micro: 0.255889676307, Total Positive: 7780\n"
     ]
    },
    {
     "name": "stderr",
     "output_type": "stream",
     "text": [
      "2016-10-07 19:16:29,992 : INFO : ****************** Epoch 9 --- Working on doc2vec_size_3000_w_8_type_dm_concat_1_mean_0_trainwords_0_hs_1_neg_0_vocabsize_None_curriter_9 *******************\n",
      "2016-10-07 19:16:29,994 : INFO : ====== Doing Training\n"
     ]
    },
    {
     "name": "stdout",
     "output_type": "stream",
     "text": [
      "A\n"
     ]
    },
    {
     "name": "stderr",
     "output_type": "stream",
     "text": [
      "2016-10-07 19:16:40,689 : INFO : Finished getting training vectors\n",
      "2016-10-07 19:16:45,064 : INFO : Finished parallelization\n"
     ]
    },
    {
     "name": "stdout",
     "output_type": "stream",
     "text": [
      "B\n"
     ]
    },
    {
     "name": "stderr",
     "output_type": "stream",
     "text": [
      "2016-10-07 19:17:06,991 : INFO : Finished getting training vectors\n",
      "2016-10-07 19:17:11,094 : INFO : Finished parallelization\n"
     ]
    },
    {
     "name": "stdout",
     "output_type": "stream",
     "text": [
      "C\n"
     ]
    },
    {
     "name": "stderr",
     "output_type": "stream",
     "text": [
      "2016-10-07 19:17:31,365 : INFO : Finished getting training vectors\n",
      "2016-10-07 19:17:35,623 : INFO : Finished parallelization\n"
     ]
    },
    {
     "name": "stdout",
     "output_type": "stream",
     "text": [
      "D\n"
     ]
    },
    {
     "name": "stderr",
     "output_type": "stream",
     "text": [
      "2016-10-07 19:17:56,151 : INFO : Finished getting training vectors\n",
      "2016-10-07 19:18:00,090 : INFO : Finished parallelization\n"
     ]
    },
    {
     "name": "stdout",
     "output_type": "stream",
     "text": [
      "E\n"
     ]
    },
    {
     "name": "stderr",
     "output_type": "stream",
     "text": [
      "2016-10-07 19:18:20,419 : INFO : Finished getting training vectors\n",
      "2016-10-07 19:18:24,686 : INFO : Finished parallelization\n"
     ]
    },
    {
     "name": "stdout",
     "output_type": "stream",
     "text": [
      "F\n"
     ]
    },
    {
     "name": "stderr",
     "output_type": "stream",
     "text": [
      "2016-10-07 19:18:45,034 : INFO : Finished getting training vectors\n",
      "2016-10-07 19:18:49,330 : INFO : Finished parallelization\n"
     ]
    },
    {
     "name": "stdout",
     "output_type": "stream",
     "text": [
      "G\n"
     ]
    },
    {
     "name": "stderr",
     "output_type": "stream",
     "text": [
      "2016-10-07 19:19:11,432 : INFO : Finished getting training vectors\n",
      "2016-10-07 19:19:15,778 : INFO : Finished parallelization\n"
     ]
    },
    {
     "name": "stdout",
     "output_type": "stream",
     "text": [
      "H\n"
     ]
    },
    {
     "name": "stderr",
     "output_type": "stream",
     "text": [
      "2016-10-07 19:19:35,861 : INFO : Finished getting training vectors\n",
      "2016-10-07 19:19:40,077 : INFO : Finished parallelization\n",
      "2016-10-07 19:19:49,839 : INFO : ===== Loading validation vectors\n",
      "2016-10-07 19:19:54,177 : INFO : ====== Doing Validation\n"
     ]
    },
    {
     "name": "stdout",
     "output_type": "stream",
     "text": [
      "A\n"
     ]
    },
    {
     "name": "stderr",
     "output_type": "stream",
     "text": [
      "2016-10-07 19:19:55,336 : INFO : Finished getting validation vectors\n",
      "2016-10-07 19:19:58,842 : INFO : Loaded the model, Doing the prediction now....\n"
     ]
    },
    {
     "name": "stdout",
     "output_type": "stream",
     "text": [
      "B\n"
     ]
    },
    {
     "name": "stderr",
     "output_type": "stream",
     "text": [
      "2016-10-07 19:20:00,767 : INFO : Finished getting validation vectors\n",
      "2016-10-07 19:20:04,230 : INFO : Loaded the model, Doing the prediction now....\n"
     ]
    },
    {
     "name": "stdout",
     "output_type": "stream",
     "text": [
      "C\n"
     ]
    },
    {
     "name": "stderr",
     "output_type": "stream",
     "text": [
      "2016-10-07 19:20:05,693 : INFO : Finished getting validation vectors\n",
      "2016-10-07 19:20:09,635 : INFO : Loaded the model, Doing the prediction now....\n"
     ]
    },
    {
     "name": "stdout",
     "output_type": "stream",
     "text": [
      "D\n"
     ]
    },
    {
     "name": "stderr",
     "output_type": "stream",
     "text": [
      "2016-10-07 19:20:11,259 : INFO : Finished getting validation vectors\n",
      "2016-10-07 19:20:14,952 : INFO : Loaded the model, Doing the prediction now....\n"
     ]
    },
    {
     "name": "stdout",
     "output_type": "stream",
     "text": [
      "E\n"
     ]
    },
    {
     "name": "stderr",
     "output_type": "stream",
     "text": [
      "2016-10-07 19:20:16,413 : INFO : Finished getting validation vectors\n",
      "2016-10-07 19:20:20,956 : INFO : Loaded the model, Doing the prediction now....\n"
     ]
    },
    {
     "name": "stdout",
     "output_type": "stream",
     "text": [
      "F\n"
     ]
    },
    {
     "name": "stderr",
     "output_type": "stream",
     "text": [
      "2016-10-07 19:20:22,662 : INFO : Finished getting validation vectors\n",
      "2016-10-07 19:20:25,958 : INFO : Loaded the model, Doing the prediction now....\n"
     ]
    },
    {
     "name": "stdout",
     "output_type": "stream",
     "text": [
      "G\n"
     ]
    },
    {
     "name": "stderr",
     "output_type": "stream",
     "text": [
      "2016-10-07 19:20:27,599 : INFO : Finished getting validation vectors\n",
      "2016-10-07 19:20:31,330 : INFO : Loaded the model, Doing the prediction now....\n"
     ]
    },
    {
     "name": "stdout",
     "output_type": "stream",
     "text": [
      "H\n"
     ]
    },
    {
     "name": "stderr",
     "output_type": "stream",
     "text": [
      "2016-10-07 19:20:33,118 : INFO : Finished getting validation vectors\n",
      "2016-10-07 19:20:37,222 : INFO : Loaded the model, Doing the prediction now....\n"
     ]
    },
    {
     "name": "stdout",
     "output_type": "stream",
     "text": [
      "Coverage Error: 6.75977653631, Average No of Labels: 1.35195530726, Top 1: 0.235161532682, Top 3: 0.396694214876, Top 5: 0.606686701728, F1 Micro: 0.253928945614, Total Positive: 7837\n"
     ]
    },
    {
     "name": "stderr",
     "output_type": "stream",
     "text": [
      "2016-10-07 19:20:38,214 : INFO : ****************** Epoch 10 --- Working on doc2vec_size_3000_w_8_type_dm_concat_1_mean_0_trainwords_0_hs_1_neg_0_vocabsize_None_curriter_10 *******************\n",
      "2016-10-07 19:20:38,216 : INFO : ====== Doing Training\n"
     ]
    },
    {
     "name": "stdout",
     "output_type": "stream",
     "text": [
      "A\n"
     ]
    },
    {
     "name": "stderr",
     "output_type": "stream",
     "text": [
      "2016-10-07 19:20:49,034 : INFO : Finished getting training vectors\n",
      "2016-10-07 19:20:53,467 : INFO : Finished parallelization\n"
     ]
    },
    {
     "name": "stdout",
     "output_type": "stream",
     "text": [
      "B\n"
     ]
    },
    {
     "name": "stderr",
     "output_type": "stream",
     "text": [
      "2016-10-07 19:21:13,554 : INFO : Finished getting training vectors\n",
      "2016-10-07 19:21:17,578 : INFO : Finished parallelization\n"
     ]
    },
    {
     "name": "stdout",
     "output_type": "stream",
     "text": [
      "C\n"
     ]
    },
    {
     "name": "stderr",
     "output_type": "stream",
     "text": [
      "2016-10-07 19:21:37,320 : INFO : Finished getting training vectors\n",
      "2016-10-07 19:21:41,514 : INFO : Finished parallelization\n"
     ]
    },
    {
     "name": "stdout",
     "output_type": "stream",
     "text": [
      "D\n"
     ]
    },
    {
     "name": "stderr",
     "output_type": "stream",
     "text": [
      "2016-10-07 19:22:01,834 : INFO : Finished getting training vectors\n",
      "2016-10-07 19:22:06,239 : INFO : Finished parallelization\n"
     ]
    },
    {
     "name": "stdout",
     "output_type": "stream",
     "text": [
      "E\n"
     ]
    },
    {
     "name": "stderr",
     "output_type": "stream",
     "text": [
      "2016-10-07 19:22:27,197 : INFO : Finished getting training vectors\n",
      "2016-10-07 19:22:31,772 : INFO : Finished parallelization\n"
     ]
    },
    {
     "name": "stdout",
     "output_type": "stream",
     "text": [
      "F\n"
     ]
    },
    {
     "name": "stderr",
     "output_type": "stream",
     "text": [
      "2016-10-07 19:22:52,688 : INFO : Finished getting training vectors\n",
      "2016-10-07 19:22:57,269 : INFO : Finished parallelization\n"
     ]
    },
    {
     "name": "stdout",
     "output_type": "stream",
     "text": [
      "G\n"
     ]
    },
    {
     "name": "stderr",
     "output_type": "stream",
     "text": [
      "2016-10-07 19:23:17,547 : INFO : Finished getting training vectors\n",
      "2016-10-07 19:23:21,679 : INFO : Finished parallelization\n"
     ]
    },
    {
     "name": "stdout",
     "output_type": "stream",
     "text": [
      "H\n"
     ]
    },
    {
     "name": "stderr",
     "output_type": "stream",
     "text": [
      "2016-10-07 19:23:42,218 : INFO : Finished getting training vectors\n",
      "2016-10-07 19:23:46,350 : INFO : Finished parallelization\n",
      "2016-10-07 19:23:57,475 : INFO : ===== Loading validation vectors\n",
      "2016-10-07 19:24:01,841 : INFO : ====== Doing Validation\n"
     ]
    },
    {
     "name": "stdout",
     "output_type": "stream",
     "text": [
      "A\n"
     ]
    },
    {
     "name": "stderr",
     "output_type": "stream",
     "text": [
      "2016-10-07 19:24:03,043 : INFO : Finished getting validation vectors\n",
      "2016-10-07 19:24:06,080 : INFO : Loaded the model, Doing the prediction now....\n"
     ]
    },
    {
     "name": "stdout",
     "output_type": "stream",
     "text": [
      "B\n"
     ]
    },
    {
     "name": "stderr",
     "output_type": "stream",
     "text": [
      "2016-10-07 19:24:07,838 : INFO : Finished getting validation vectors\n",
      "2016-10-07 19:24:12,609 : INFO : Loaded the model, Doing the prediction now....\n"
     ]
    },
    {
     "name": "stdout",
     "output_type": "stream",
     "text": [
      "C\n"
     ]
    },
    {
     "name": "stderr",
     "output_type": "stream",
     "text": [
      "2016-10-07 19:24:14,167 : INFO : Finished getting validation vectors\n",
      "2016-10-07 19:24:17,419 : INFO : Loaded the model, Doing the prediction now....\n"
     ]
    },
    {
     "name": "stdout",
     "output_type": "stream",
     "text": [
      "D\n"
     ]
    },
    {
     "name": "stderr",
     "output_type": "stream",
     "text": [
      "2016-10-07 19:24:18,972 : INFO : Finished getting validation vectors\n",
      "2016-10-07 19:24:22,265 : INFO : Loaded the model, Doing the prediction now....\n"
     ]
    },
    {
     "name": "stdout",
     "output_type": "stream",
     "text": [
      "E\n"
     ]
    },
    {
     "name": "stderr",
     "output_type": "stream",
     "text": [
      "2016-10-07 19:24:23,810 : INFO : Finished getting validation vectors\n",
      "2016-10-07 19:24:27,759 : INFO : Loaded the model, Doing the prediction now....\n"
     ]
    },
    {
     "name": "stdout",
     "output_type": "stream",
     "text": [
      "F\n"
     ]
    },
    {
     "name": "stderr",
     "output_type": "stream",
     "text": [
      "2016-10-07 19:24:29,523 : INFO : Finished getting validation vectors\n",
      "2016-10-07 19:24:32,566 : INFO : Loaded the model, Doing the prediction now....\n"
     ]
    },
    {
     "name": "stdout",
     "output_type": "stream",
     "text": [
      "G\n"
     ]
    },
    {
     "name": "stderr",
     "output_type": "stream",
     "text": [
      "2016-10-07 19:24:34,173 : INFO : Finished getting validation vectors\n",
      "2016-10-07 19:24:37,993 : INFO : Loaded the model, Doing the prediction now....\n"
     ]
    },
    {
     "name": "stdout",
     "output_type": "stream",
     "text": [
      "H\n"
     ]
    },
    {
     "name": "stderr",
     "output_type": "stream",
     "text": [
      "2016-10-07 19:24:39,539 : INFO : Finished getting validation vectors\n",
      "2016-10-07 19:24:42,862 : INFO : Loaded the model, Doing the prediction now....\n"
     ]
    },
    {
     "name": "stdout",
     "output_type": "stream",
     "text": [
      "Coverage Error: 6.79024885729, Average No of Labels: 1.35195530726, Top 1: 0.232156273479, Top 3: 0.393313298272, Top 5: 0.619834710744, F1 Micro: 0.258348968105, Total Positive: 7998\n"
     ]
    },
    {
     "name": "stderr",
     "output_type": "stream",
     "text": [
      "2016-10-07 19:24:44,012 : INFO : ****************** Epoch 11 --- Working on doc2vec_size_3000_w_8_type_dm_concat_1_mean_0_trainwords_0_hs_1_neg_0_vocabsize_None_curriter_11 *******************\n",
      "2016-10-07 19:24:44,013 : INFO : ====== Doing Training\n"
     ]
    },
    {
     "name": "stdout",
     "output_type": "stream",
     "text": [
      "A\n"
     ]
    },
    {
     "name": "stderr",
     "output_type": "stream",
     "text": [
      "2016-10-07 19:24:55,507 : INFO : Finished getting training vectors\n",
      "2016-10-07 19:24:59,679 : INFO : Finished parallelization\n"
     ]
    },
    {
     "name": "stdout",
     "output_type": "stream",
     "text": [
      "B\n"
     ]
    },
    {
     "name": "stderr",
     "output_type": "stream",
     "text": [
      "2016-10-07 19:25:21,581 : INFO : Finished getting training vectors\n",
      "2016-10-07 19:25:26,117 : INFO : Finished parallelization\n"
     ]
    },
    {
     "name": "stdout",
     "output_type": "stream",
     "text": [
      "C\n"
     ]
    },
    {
     "name": "stderr",
     "output_type": "stream",
     "text": [
      "2016-10-07 19:25:47,437 : INFO : Finished getting training vectors\n",
      "2016-10-07 19:25:52,010 : INFO : Finished parallelization\n"
     ]
    },
    {
     "name": "stdout",
     "output_type": "stream",
     "text": [
      "D\n"
     ]
    },
    {
     "name": "stderr",
     "output_type": "stream",
     "text": [
      "2016-10-07 19:26:13,514 : INFO : Finished getting training vectors\n",
      "2016-10-07 19:26:17,883 : INFO : Finished parallelization\n"
     ]
    },
    {
     "name": "stdout",
     "output_type": "stream",
     "text": [
      "E\n"
     ]
    },
    {
     "name": "stderr",
     "output_type": "stream",
     "text": [
      "2016-10-07 19:26:39,102 : INFO : Finished getting training vectors\n",
      "2016-10-07 19:26:43,242 : INFO : Finished parallelization\n"
     ]
    },
    {
     "name": "stdout",
     "output_type": "stream",
     "text": [
      "F\n"
     ]
    },
    {
     "name": "stderr",
     "output_type": "stream",
     "text": [
      "2016-10-07 19:27:03,530 : INFO : Finished getting training vectors\n",
      "2016-10-07 19:27:07,208 : INFO : Finished parallelization\n"
     ]
    },
    {
     "name": "stdout",
     "output_type": "stream",
     "text": [
      "G\n"
     ]
    },
    {
     "name": "stderr",
     "output_type": "stream",
     "text": [
      "2016-10-07 19:27:26,853 : INFO : Finished getting training vectors\n",
      "2016-10-07 19:27:31,241 : INFO : Finished parallelization\n"
     ]
    },
    {
     "name": "stdout",
     "output_type": "stream",
     "text": [
      "H\n"
     ]
    },
    {
     "name": "stderr",
     "output_type": "stream",
     "text": [
      "2016-10-07 19:27:51,311 : INFO : Finished getting training vectors\n",
      "2016-10-07 19:27:55,122 : INFO : Finished parallelization\n",
      "2016-10-07 19:28:04,597 : INFO : ===== Loading validation vectors\n",
      "2016-10-07 19:28:08,638 : INFO : ====== Doing Validation\n"
     ]
    },
    {
     "name": "stdout",
     "output_type": "stream",
     "text": [
      "A\n"
     ]
    },
    {
     "name": "stderr",
     "output_type": "stream",
     "text": [
      "2016-10-07 19:28:09,836 : INFO : Finished getting validation vectors\n",
      "2016-10-07 19:28:13,034 : INFO : Loaded the model, Doing the prediction now....\n"
     ]
    },
    {
     "name": "stdout",
     "output_type": "stream",
     "text": [
      "B\n"
     ]
    },
    {
     "name": "stderr",
     "output_type": "stream",
     "text": [
      "2016-10-07 19:28:14,630 : INFO : Finished getting validation vectors\n",
      "2016-10-07 19:28:18,137 : INFO : Loaded the model, Doing the prediction now....\n"
     ]
    },
    {
     "name": "stdout",
     "output_type": "stream",
     "text": [
      "C\n"
     ]
    },
    {
     "name": "stderr",
     "output_type": "stream",
     "text": [
      "2016-10-07 19:28:19,689 : INFO : Finished getting validation vectors\n",
      "2016-10-07 19:28:22,861 : INFO : Loaded the model, Doing the prediction now....\n"
     ]
    },
    {
     "name": "stdout",
     "output_type": "stream",
     "text": [
      "D\n"
     ]
    },
    {
     "name": "stderr",
     "output_type": "stream",
     "text": [
      "2016-10-07 19:28:24,444 : INFO : Finished getting validation vectors\n",
      "2016-10-07 19:28:28,037 : INFO : Loaded the model, Doing the prediction now....\n"
     ]
    },
    {
     "name": "stdout",
     "output_type": "stream",
     "text": [
      "E\n"
     ]
    },
    {
     "name": "stderr",
     "output_type": "stream",
     "text": [
      "2016-10-07 19:28:29,564 : INFO : Finished getting validation vectors\n",
      "2016-10-07 19:28:32,660 : INFO : Loaded the model, Doing the prediction now....\n"
     ]
    },
    {
     "name": "stdout",
     "output_type": "stream",
     "text": [
      "F\n"
     ]
    },
    {
     "name": "stderr",
     "output_type": "stream",
     "text": [
      "2016-10-07 19:28:34,278 : INFO : Finished getting validation vectors\n",
      "2016-10-07 19:28:38,188 : INFO : Loaded the model, Doing the prediction now....\n"
     ]
    },
    {
     "name": "stdout",
     "output_type": "stream",
     "text": [
      "G\n"
     ]
    },
    {
     "name": "stderr",
     "output_type": "stream",
     "text": [
      "2016-10-07 19:28:39,844 : INFO : Finished getting validation vectors\n",
      "2016-10-07 19:28:43,764 : INFO : Loaded the model, Doing the prediction now....\n"
     ]
    },
    {
     "name": "stdout",
     "output_type": "stream",
     "text": [
      "H\n"
     ]
    },
    {
     "name": "stderr",
     "output_type": "stream",
     "text": [
      "2016-10-07 19:28:45,346 : INFO : Finished getting validation vectors\n",
      "2016-10-07 19:28:49,131 : INFO : Loaded the model, Doing the prediction now....\n"
     ]
    },
    {
     "name": "stdout",
     "output_type": "stream",
     "text": [
      "Coverage Error: 6.74606399187, Average No of Labels: 1.35195530726, Top 1: 0.231404958678, Top 3: 0.405334335086, Top 5: 0.610443275733, F1 Micro: 0.256934582978, Total Positive: 7901\n"
     ]
    },
    {
     "name": "stderr",
     "output_type": "stream",
     "text": [
      "2016-10-07 19:28:50,180 : INFO : ****************** Epoch 12 --- Working on doc2vec_size_3000_w_8_type_dm_concat_1_mean_0_trainwords_0_hs_1_neg_0_vocabsize_None_curriter_12 *******************\n",
      "2016-10-07 19:28:50,182 : INFO : ====== Doing Training\n"
     ]
    },
    {
     "name": "stdout",
     "output_type": "stream",
     "text": [
      "A\n"
     ]
    },
    {
     "name": "stderr",
     "output_type": "stream",
     "text": [
      "2016-10-07 19:29:00,447 : INFO : Finished getting training vectors\n",
      "2016-10-07 19:29:04,708 : INFO : Finished parallelization\n"
     ]
    },
    {
     "name": "stdout",
     "output_type": "stream",
     "text": [
      "B\n"
     ]
    },
    {
     "name": "stderr",
     "output_type": "stream",
     "text": [
      "2016-10-07 19:29:27,092 : INFO : Finished getting training vectors\n",
      "2016-10-07 19:29:31,465 : INFO : Finished parallelization\n"
     ]
    },
    {
     "name": "stdout",
     "output_type": "stream",
     "text": [
      "C\n"
     ]
    },
    {
     "name": "stderr",
     "output_type": "stream",
     "text": [
      "2016-10-07 19:29:51,465 : INFO : Finished getting training vectors\n",
      "2016-10-07 19:29:55,932 : INFO : Finished parallelization\n"
     ]
    },
    {
     "name": "stdout",
     "output_type": "stream",
     "text": [
      "D\n"
     ]
    },
    {
     "name": "stderr",
     "output_type": "stream",
     "text": [
      "2016-10-07 19:30:16,010 : INFO : Finished getting training vectors\n",
      "2016-10-07 19:30:20,175 : INFO : Finished parallelization\n"
     ]
    },
    {
     "name": "stdout",
     "output_type": "stream",
     "text": [
      "E\n"
     ]
    },
    {
     "name": "stderr",
     "output_type": "stream",
     "text": [
      "2016-10-07 19:30:40,502 : INFO : Finished getting training vectors\n",
      "2016-10-07 19:30:44,777 : INFO : Finished parallelization\n"
     ]
    },
    {
     "name": "stdout",
     "output_type": "stream",
     "text": [
      "F\n"
     ]
    },
    {
     "name": "stderr",
     "output_type": "stream",
     "text": [
      "2016-10-07 19:31:05,116 : INFO : Finished getting training vectors\n",
      "2016-10-07 19:31:09,384 : INFO : Finished parallelization\n"
     ]
    },
    {
     "name": "stdout",
     "output_type": "stream",
     "text": [
      "G\n"
     ]
    },
    {
     "name": "stderr",
     "output_type": "stream",
     "text": [
      "2016-10-07 19:31:29,928 : INFO : Finished getting training vectors\n",
      "2016-10-07 19:31:34,452 : INFO : Finished parallelization\n"
     ]
    },
    {
     "name": "stdout",
     "output_type": "stream",
     "text": [
      "H\n"
     ]
    },
    {
     "name": "stderr",
     "output_type": "stream",
     "text": [
      "2016-10-07 19:31:54,890 : INFO : Finished getting training vectors\n",
      "2016-10-07 19:31:59,161 : INFO : Finished parallelization\n",
      "2016-10-07 19:32:09,762 : INFO : ===== Loading validation vectors\n",
      "2016-10-07 19:32:15,360 : INFO : ====== Doing Validation\n"
     ]
    },
    {
     "name": "stdout",
     "output_type": "stream",
     "text": [
      "A\n"
     ]
    },
    {
     "name": "stderr",
     "output_type": "stream",
     "text": [
      "2016-10-07 19:32:16,447 : INFO : Finished getting validation vectors\n",
      "2016-10-07 19:32:19,914 : INFO : Loaded the model, Doing the prediction now....\n"
     ]
    },
    {
     "name": "stdout",
     "output_type": "stream",
     "text": [
      "B\n"
     ]
    },
    {
     "name": "stderr",
     "output_type": "stream",
     "text": [
      "2016-10-07 19:32:21,445 : INFO : Finished getting validation vectors\n",
      "2016-10-07 19:32:25,161 : INFO : Loaded the model, Doing the prediction now....\n"
     ]
    },
    {
     "name": "stdout",
     "output_type": "stream",
     "text": [
      "C\n"
     ]
    },
    {
     "name": "stderr",
     "output_type": "stream",
     "text": [
      "2016-10-07 19:32:26,698 : INFO : Finished getting validation vectors\n",
      "2016-10-07 19:32:30,630 : INFO : Loaded the model, Doing the prediction now....\n"
     ]
    },
    {
     "name": "stdout",
     "output_type": "stream",
     "text": [
      "D\n"
     ]
    },
    {
     "name": "stderr",
     "output_type": "stream",
     "text": [
      "2016-10-07 19:32:32,285 : INFO : Finished getting validation vectors\n",
      "2016-10-07 19:32:36,356 : INFO : Loaded the model, Doing the prediction now....\n"
     ]
    },
    {
     "name": "stdout",
     "output_type": "stream",
     "text": [
      "E\n"
     ]
    },
    {
     "name": "stderr",
     "output_type": "stream",
     "text": [
      "2016-10-07 19:32:37,986 : INFO : Finished getting validation vectors\n",
      "2016-10-07 19:32:41,556 : INFO : Loaded the model, Doing the prediction now....\n"
     ]
    },
    {
     "name": "stdout",
     "output_type": "stream",
     "text": [
      "F\n"
     ]
    },
    {
     "name": "stderr",
     "output_type": "stream",
     "text": [
      "2016-10-07 19:32:43,237 : INFO : Finished getting validation vectors\n",
      "2016-10-07 19:32:46,962 : INFO : Loaded the model, Doing the prediction now....\n"
     ]
    },
    {
     "name": "stdout",
     "output_type": "stream",
     "text": [
      "G\n"
     ]
    },
    {
     "name": "stderr",
     "output_type": "stream",
     "text": [
      "2016-10-07 19:32:48,539 : INFO : Finished getting validation vectors\n",
      "2016-10-07 19:32:52,171 : INFO : Loaded the model, Doing the prediction now....\n"
     ]
    },
    {
     "name": "stdout",
     "output_type": "stream",
     "text": [
      "H\n"
     ]
    },
    {
     "name": "stderr",
     "output_type": "stream",
     "text": [
      "2016-10-07 19:32:53,726 : INFO : Finished getting validation vectors\n",
      "2016-10-07 19:32:57,168 : INFO : Loaded the model, Doing the prediction now....\n"
     ]
    },
    {
     "name": "stdout",
     "output_type": "stream",
     "text": [
      "Coverage Error: 6.76841036059, Average No of Labels: 1.35195530726, Top 1: 0.214500375657, Top 3: 0.387302779865, Top 5: 0.601803155522, F1 Micro: 0.253707376972, Total Positive: 7925\n"
     ]
    },
    {
     "name": "stderr",
     "output_type": "stream",
     "text": [
      "2016-10-07 19:32:58,163 : INFO : ****************** Epoch 13 --- Working on doc2vec_size_3000_w_8_type_dm_concat_1_mean_0_trainwords_0_hs_1_neg_0_vocabsize_None_curriter_13 *******************\n",
      "2016-10-07 19:32:58,165 : INFO : ====== Doing Training\n"
     ]
    },
    {
     "name": "stdout",
     "output_type": "stream",
     "text": [
      "A\n"
     ]
    },
    {
     "name": "stderr",
     "output_type": "stream",
     "text": [
      "2016-10-07 19:33:08,672 : INFO : Finished getting training vectors\n",
      "2016-10-07 19:33:12,875 : INFO : Finished parallelization\n"
     ]
    },
    {
     "name": "stdout",
     "output_type": "stream",
     "text": [
      "B\n"
     ]
    },
    {
     "name": "stderr",
     "output_type": "stream",
     "text": [
      "2016-10-07 19:33:34,291 : INFO : Finished getting training vectors\n",
      "2016-10-07 19:33:38,642 : INFO : Finished parallelization\n"
     ]
    },
    {
     "name": "stdout",
     "output_type": "stream",
     "text": [
      "C\n"
     ]
    },
    {
     "name": "stderr",
     "output_type": "stream",
     "text": [
      "2016-10-07 19:33:58,745 : INFO : Finished getting training vectors\n",
      "2016-10-07 19:34:03,084 : INFO : Finished parallelization\n"
     ]
    },
    {
     "name": "stdout",
     "output_type": "stream",
     "text": [
      "D\n"
     ]
    },
    {
     "name": "stderr",
     "output_type": "stream",
     "text": [
      "2016-10-07 19:34:22,772 : INFO : Finished getting training vectors\n",
      "2016-10-07 19:34:27,276 : INFO : Finished parallelization\n"
     ]
    },
    {
     "name": "stdout",
     "output_type": "stream",
     "text": [
      "E\n"
     ]
    },
    {
     "name": "stderr",
     "output_type": "stream",
     "text": [
      "2016-10-07 19:34:46,330 : INFO : Finished getting training vectors\n",
      "2016-10-07 19:34:50,648 : INFO : Finished parallelization\n"
     ]
    },
    {
     "name": "stdout",
     "output_type": "stream",
     "text": [
      "F\n"
     ]
    },
    {
     "name": "stderr",
     "output_type": "stream",
     "text": [
      "2016-10-07 19:35:10,140 : INFO : Finished getting training vectors\n",
      "2016-10-07 19:35:14,620 : INFO : Finished parallelization\n"
     ]
    },
    {
     "name": "stdout",
     "output_type": "stream",
     "text": [
      "G\n"
     ]
    },
    {
     "name": "stderr",
     "output_type": "stream",
     "text": [
      "2016-10-07 19:35:34,548 : INFO : Finished getting training vectors\n",
      "2016-10-07 19:35:39,164 : INFO : Finished parallelization\n"
     ]
    },
    {
     "name": "stdout",
     "output_type": "stream",
     "text": [
      "H\n"
     ]
    },
    {
     "name": "stderr",
     "output_type": "stream",
     "text": [
      "2016-10-07 19:35:59,100 : INFO : Finished getting training vectors\n",
      "2016-10-07 19:36:03,074 : INFO : Finished parallelization\n",
      "2016-10-07 19:36:11,857 : INFO : ===== Loading validation vectors\n",
      "2016-10-07 19:36:15,532 : INFO : ====== Doing Validation\n"
     ]
    },
    {
     "name": "stdout",
     "output_type": "stream",
     "text": [
      "A\n"
     ]
    },
    {
     "name": "stderr",
     "output_type": "stream",
     "text": [
      "2016-10-07 19:36:16,685 : INFO : Finished getting validation vectors\n",
      "2016-10-07 19:36:19,609 : INFO : Loaded the model, Doing the prediction now....\n"
     ]
    },
    {
     "name": "stdout",
     "output_type": "stream",
     "text": [
      "B\n"
     ]
    },
    {
     "name": "stderr",
     "output_type": "stream",
     "text": [
      "2016-10-07 19:36:22,388 : INFO : Finished getting validation vectors\n",
      "2016-10-07 19:36:25,324 : INFO : Loaded the model, Doing the prediction now....\n"
     ]
    },
    {
     "name": "stdout",
     "output_type": "stream",
     "text": [
      "C\n"
     ]
    },
    {
     "name": "stderr",
     "output_type": "stream",
     "text": [
      "2016-10-07 19:36:26,852 : INFO : Finished getting validation vectors\n",
      "2016-10-07 19:36:29,827 : INFO : Loaded the model, Doing the prediction now....\n"
     ]
    },
    {
     "name": "stdout",
     "output_type": "stream",
     "text": [
      "D\n"
     ]
    },
    {
     "name": "stderr",
     "output_type": "stream",
     "text": [
      "2016-10-07 19:36:31,354 : INFO : Finished getting validation vectors\n",
      "2016-10-07 19:36:34,284 : INFO : Loaded the model, Doing the prediction now....\n"
     ]
    },
    {
     "name": "stdout",
     "output_type": "stream",
     "text": [
      "E\n"
     ]
    },
    {
     "name": "stderr",
     "output_type": "stream",
     "text": [
      "2016-10-07 19:36:35,902 : INFO : Finished getting validation vectors\n",
      "2016-10-07 19:36:38,906 : INFO : Loaded the model, Doing the prediction now....\n"
     ]
    },
    {
     "name": "stdout",
     "output_type": "stream",
     "text": [
      "F\n"
     ]
    },
    {
     "name": "stderr",
     "output_type": "stream",
     "text": [
      "2016-10-07 19:36:40,427 : INFO : Finished getting validation vectors\n",
      "2016-10-07 19:36:43,373 : INFO : Loaded the model, Doing the prediction now....\n"
     ]
    },
    {
     "name": "stdout",
     "output_type": "stream",
     "text": [
      "G\n"
     ]
    },
    {
     "name": "stderr",
     "output_type": "stream",
     "text": [
      "2016-10-07 19:36:44,964 : INFO : Finished getting validation vectors\n",
      "2016-10-07 19:36:48,889 : INFO : Loaded the model, Doing the prediction now....\n"
     ]
    },
    {
     "name": "stdout",
     "output_type": "stream",
     "text": [
      "H\n"
     ]
    },
    {
     "name": "stderr",
     "output_type": "stream",
     "text": [
      "2016-10-07 19:36:50,418 : INFO : Finished getting validation vectors\n",
      "2016-10-07 19:36:53,997 : INFO : Loaded the model, Doing the prediction now....\n"
     ]
    },
    {
     "name": "stdout",
     "output_type": "stream",
     "text": [
      "Coverage Error: 6.78720162519, Average No of Labels: 1.35195530726, Top 1: 0.225770097671, Top 3: 0.393313298272, Top 5: 0.605935386927, F1 Micro: 0.252175558078, Total Positive: 7910\n"
     ]
    },
    {
     "name": "stderr",
     "output_type": "stream",
     "text": [
      "2016-10-07 19:36:55,234 : INFO : ****************** Epoch 14 --- Working on doc2vec_size_3000_w_8_type_dm_concat_1_mean_0_trainwords_0_hs_1_neg_0_vocabsize_None_curriter_14 *******************\n",
      "2016-10-07 19:36:55,236 : INFO : ====== Doing Training\n"
     ]
    },
    {
     "name": "stdout",
     "output_type": "stream",
     "text": [
      "A\n"
     ]
    },
    {
     "name": "stderr",
     "output_type": "stream",
     "text": [
      "2016-10-07 19:37:05,864 : INFO : Finished getting training vectors\n",
      "2016-10-07 19:37:10,174 : INFO : Finished parallelization\n"
     ]
    },
    {
     "name": "stdout",
     "output_type": "stream",
     "text": [
      "B\n"
     ]
    },
    {
     "name": "stderr",
     "output_type": "stream",
     "text": [
      "2016-10-07 19:37:29,680 : INFO : Finished getting training vectors\n",
      "2016-10-07 19:37:33,968 : INFO : Finished parallelization\n"
     ]
    },
    {
     "name": "stdout",
     "output_type": "stream",
     "text": [
      "C\n"
     ]
    },
    {
     "name": "stderr",
     "output_type": "stream",
     "text": [
      "2016-10-07 19:37:54,181 : INFO : Finished getting training vectors\n",
      "2016-10-07 19:37:58,752 : INFO : Finished parallelization\n"
     ]
    },
    {
     "name": "stdout",
     "output_type": "stream",
     "text": [
      "D\n"
     ]
    },
    {
     "name": "stderr",
     "output_type": "stream",
     "text": [
      "2016-10-07 19:38:18,252 : INFO : Finished getting training vectors\n",
      "2016-10-07 19:38:22,215 : INFO : Finished parallelization\n"
     ]
    },
    {
     "name": "stdout",
     "output_type": "stream",
     "text": [
      "E\n"
     ]
    },
    {
     "name": "stderr",
     "output_type": "stream",
     "text": [
      "2016-10-07 19:38:41,958 : INFO : Finished getting training vectors\n",
      "2016-10-07 19:38:46,389 : INFO : Finished parallelization\n"
     ]
    },
    {
     "name": "stdout",
     "output_type": "stream",
     "text": [
      "F\n"
     ]
    },
    {
     "name": "stderr",
     "output_type": "stream",
     "text": [
      "2016-10-07 19:39:06,464 : INFO : Finished getting training vectors\n",
      "2016-10-07 19:39:10,604 : INFO : Finished parallelization\n"
     ]
    },
    {
     "name": "stdout",
     "output_type": "stream",
     "text": [
      "G\n"
     ]
    },
    {
     "name": "stderr",
     "output_type": "stream",
     "text": [
      "2016-10-07 19:39:29,987 : INFO : Finished getting training vectors\n",
      "2016-10-07 19:39:34,333 : INFO : Finished parallelization\n"
     ]
    },
    {
     "name": "stdout",
     "output_type": "stream",
     "text": [
      "H\n"
     ]
    },
    {
     "name": "stderr",
     "output_type": "stream",
     "text": [
      "2016-10-07 19:39:53,961 : INFO : Finished getting training vectors\n",
      "2016-10-07 19:39:58,372 : INFO : Finished parallelization\n",
      "2016-10-07 19:40:07,185 : INFO : ===== Loading validation vectors\n",
      "2016-10-07 19:40:11,348 : INFO : ====== Doing Validation\n"
     ]
    },
    {
     "name": "stdout",
     "output_type": "stream",
     "text": [
      "A\n"
     ]
    },
    {
     "name": "stderr",
     "output_type": "stream",
     "text": [
      "2016-10-07 19:40:12,549 : INFO : Finished getting validation vectors\n",
      "2016-10-07 19:40:15,571 : INFO : Loaded the model, Doing the prediction now....\n"
     ]
    },
    {
     "name": "stdout",
     "output_type": "stream",
     "text": [
      "B\n"
     ]
    },
    {
     "name": "stderr",
     "output_type": "stream",
     "text": [
      "2016-10-07 19:40:17,195 : INFO : Finished getting validation vectors\n",
      "2016-10-07 19:40:20,789 : INFO : Loaded the model, Doing the prediction now....\n"
     ]
    },
    {
     "name": "stdout",
     "output_type": "stream",
     "text": [
      "C\n"
     ]
    },
    {
     "name": "stderr",
     "output_type": "stream",
     "text": [
      "2016-10-07 19:40:22,317 : INFO : Finished getting validation vectors\n",
      "2016-10-07 19:40:25,872 : INFO : Loaded the model, Doing the prediction now....\n"
     ]
    },
    {
     "name": "stdout",
     "output_type": "stream",
     "text": [
      "D\n"
     ]
    },
    {
     "name": "stderr",
     "output_type": "stream",
     "text": [
      "2016-10-07 19:40:27,242 : INFO : Finished getting validation vectors\n",
      "2016-10-07 19:40:30,310 : INFO : Loaded the model, Doing the prediction now....\n"
     ]
    },
    {
     "name": "stdout",
     "output_type": "stream",
     "text": [
      "E\n"
     ]
    },
    {
     "name": "stderr",
     "output_type": "stream",
     "text": [
      "2016-10-07 19:40:31,879 : INFO : Finished getting validation vectors\n",
      "2016-10-07 19:40:35,452 : INFO : Loaded the model, Doing the prediction now....\n"
     ]
    },
    {
     "name": "stdout",
     "output_type": "stream",
     "text": [
      "F\n"
     ]
    },
    {
     "name": "stderr",
     "output_type": "stream",
     "text": [
      "2016-10-07 19:40:37,021 : INFO : Finished getting validation vectors\n",
      "2016-10-07 19:40:40,844 : INFO : Loaded the model, Doing the prediction now....\n"
     ]
    },
    {
     "name": "stdout",
     "output_type": "stream",
     "text": [
      "G\n"
     ]
    },
    {
     "name": "stderr",
     "output_type": "stream",
     "text": [
      "2016-10-07 19:40:42,426 : INFO : Finished getting validation vectors\n",
      "2016-10-07 19:40:45,643 : INFO : Loaded the model, Doing the prediction now....\n"
     ]
    },
    {
     "name": "stdout",
     "output_type": "stream",
     "text": [
      "H\n"
     ]
    },
    {
     "name": "stderr",
     "output_type": "stream",
     "text": [
      "2016-10-07 19:40:47,146 : INFO : Finished getting validation vectors\n",
      "2016-10-07 19:40:50,632 : INFO : Loaded the model, Doing the prediction now....\n"
     ]
    },
    {
     "name": "stdout",
     "output_type": "stream",
     "text": [
      "Coverage Error: 6.81005586592, Average No of Labels: 1.35195530726, Top 1: 0.232156273479, Top 3: 0.410593538693, Top 5: 0.620586025545, F1 Micro: 0.257107303532, Total Positive: 7785\n"
     ]
    },
    {
     "name": "stderr",
     "output_type": "stream",
     "text": [
      "2016-10-07 19:40:51,725 : INFO : ****************** Epoch 15 --- Working on doc2vec_size_3000_w_8_type_dm_concat_1_mean_0_trainwords_0_hs_1_neg_0_vocabsize_None_curriter_15 *******************\n",
      "2016-10-07 19:40:51,727 : INFO : training model with 20 workers on 104358 vocabulary and 51000 features, using sg=0 hs=1 sample=1e-05 negative=0\n",
      "2016-10-07 19:40:51,728 : INFO : expecting 8979 sentences, matching count from corpus used for vocabulary survey\n",
      "Exception in thread Thread-5:\n",
      "Traceback (most recent call last):\n",
      "  File \"/usr/lib/python2.7/threading.py\", line 801, in __bootstrap_inner\n",
      "    self.run()\n",
      "  File \"/usr/lib/python2.7/threading.py\", line 754, in run\n",
      "    self.__target(*self.__args, **self.__kwargs)\n",
      "  File \"/home/s/shalaby/.virtualenv/thesis-env/local/lib/python2.7/site-packages/gensim/models/word2vec.py\", line 756, in worker_loop\n",
      "    tally, raw_tally = self._do_train_job(sentences, alpha, (work, neu1))\n",
      "  File \"/home/s/shalaby/.virtualenv/thesis-env/local/lib/python2.7/site-packages/gensim/models/doc2vec.py\", line 694, in _do_train_job\n",
      "    doctag_vectors=doctag_vectors, doctag_locks=doctag_locks)\n",
      "  File \"gensim/models/doc2vec_inner.pyx\", line 610, in gensim.models.doc2vec_inner.train_document_dm_concat (./gensim/models/doc2vec_inner.c:7428)\n",
      "    codelens[i] = <int>len(predict_word.code)\n",
      "AttributeError: 'Vocab' object has no attribute 'code'\n",
      "\n",
      "Exception in thread Thread-9:\n",
      "Traceback (most recent call last):\n",
      "  File \"/usr/lib/python2.7/threading.py\", line 801, in __bootstrap_inner\n",
      "    self.run()\n",
      "  File \"/usr/lib/python2.7/threading.py\", line 754, in run\n",
      "    self.__target(*self.__args, **self.__kwargs)\n",
      "  File \"/home/s/shalaby/.virtualenv/thesis-env/local/lib/python2.7/site-packages/gensim/models/word2vec.py\", line 756, in worker_loop\n",
      "    tally, raw_tally = self._do_train_job(sentences, alpha, (work, neu1))\n",
      "  File \"/home/s/shalaby/.virtualenv/thesis-env/local/lib/python2.7/site-packages/gensim/models/doc2vec.py\", line 694, in _do_train_job\n",
      "    doctag_vectors=doctag_vectors, doctag_locks=doctag_locks)\n",
      "  File \"gensim/models/doc2vec_inner.pyx\", line 610, in gensim.models.doc2vec_inner.train_document_dm_concat (./gensim/models/doc2vec_inner.c:7428)\n",
      "    codelens[i] = <int>len(predict_word.code)\n",
      "AttributeError: 'Vocab' object has no attribute 'code'\n",
      "\n",
      "Exception in thread Thread-7:\n",
      "Traceback (most recent call last):\n",
      "  File \"/usr/lib/python2.7/threading.py\", line 801, in __bootstrap_inner\n",
      "    self.run()\n",
      "  File \"/usr/lib/python2.7/threading.py\", line 754, in run\n",
      "    self.__target(*self.__args, **self.__kwargs)\n",
      "  File \"/home/s/shalaby/.virtualenv/thesis-env/local/lib/python2.7/site-packages/gensim/models/word2vec.py\", line 756, in worker_loop\n",
      "    tally, raw_tally = self._do_train_job(sentences, alpha, (work, neu1))\n",
      "  File \"/home/s/shalaby/.virtualenv/thesis-env/local/lib/python2.7/site-packages/gensim/models/doc2vec.py\", line 694, in _do_train_job\n",
      "    doctag_vectors=doctag_vectors, doctag_locks=doctag_locks)\n",
      "  File \"gensim/models/doc2vec_inner.pyx\", line 610, in gensim.models.doc2vec_inner.train_document_dm_concat (./gensim/models/doc2vec_inner.c:7428)\n",
      "    codelens[i] = <int>len(predict_word.code)\n",
      "AttributeError: 'Vocab' object has no attribute 'code'\n",
      "\n",
      "Exception in thread Thread-6:\n",
      "Traceback (most recent call last):\n",
      "  File \"/usr/lib/python2.7/threading.py\", line 801, in __bootstrap_inner\n",
      "    self.run()\n",
      "  File \"/usr/lib/python2.7/threading.py\", line 754, in run\n",
      "    self.__target(*self.__args, **self.__kwargs)\n",
      "  File \"/home/s/shalaby/.virtualenv/thesis-env/local/lib/python2.7/site-packages/gensim/models/word2vec.py\", line 756, in worker_loop\n",
      "    tally, raw_tally = self._do_train_job(sentences, alpha, (work, neu1))\n",
      "  File \"/home/s/shalaby/.virtualenv/thesis-env/local/lib/python2.7/site-packages/gensim/models/doc2vec.py\", line 694, in _do_train_job\n",
      "    doctag_vectors=doctag_vectors, doctag_locks=doctag_locks)\n",
      "  File \"gensim/models/doc2vec_inner.pyx\", line 610, in gensim.models.doc2vec_inner.train_document_dm_concat (./gensim/models/doc2vec_inner.c:7428)\n",
      "    codelens[i] = <int>len(predict_word.code)\n",
      "AttributeError: 'Vocab' object has no attribute 'code'\n",
      "\n",
      "Exception in thread Thread-10:\n",
      "Traceback (most recent call last):\n",
      "  File \"/usr/lib/python2.7/threading.py\", line 801, in __bootstrap_inner\n",
      "    self.run()\n",
      "  File \"/usr/lib/python2.7/threading.py\", line 754, in run\n",
      "    self.__target(*self.__args, **self.__kwargs)\n",
      "  File \"/home/s/shalaby/.virtualenv/thesis-env/local/lib/python2.7/site-packages/gensim/models/word2vec.py\", line 756, in worker_loop\n",
      "    tally, raw_tally = self._do_train_job(sentences, alpha, (work, neu1))\n",
      "  File \"/home/s/shalaby/.virtualenv/thesis-env/local/lib/python2.7/site-packages/gensim/models/doc2vec.py\", line 694, in _do_train_job\n",
      "    doctag_vectors=doctag_vectors, doctag_locks=doctag_locks)\n",
      "  File \"gensim/models/doc2vec_inner.pyx\", line 610, in gensim.models.doc2vec_inner.train_document_dm_concat (./gensim/models/doc2vec_inner.c:7428)\n",
      "    codelens[i] = <int>len(predict_word.code)\n",
      "AttributeError: 'Vocab' object has no attribute 'code'\n",
      "\n",
      "Exception in thread Thread-8:\n",
      "Traceback (most recent call last):\n",
      "  File \"/usr/lib/python2.7/threading.py\", line 801, in __bootstrap_inner\n",
      "    self.run()\n",
      "  File \"/usr/lib/python2.7/threading.py\", line 754, in run\n",
      "    self.__target(*self.__args, **self.__kwargs)\n",
      "  File \"/home/s/shalaby/.virtualenv/thesis-env/local/lib/python2.7/site-packages/gensim/models/word2vec.py\", line 756, in worker_loop\n",
      "    tally, raw_tally = self._do_train_job(sentences, alpha, (work, neu1))\n",
      "  File \"/home/s/shalaby/.virtualenv/thesis-env/local/lib/python2.7/site-packages/gensim/models/doc2vec.py\", line 694, in _do_train_job\n",
      "    doctag_vectors=doctag_vectors, doctag_locks=doctag_locks)\n",
      "  File \"gensim/models/doc2vec_inner.pyx\", line 610, in gensim.models.doc2vec_inner.train_document_dm_concat (./gensim/models/doc2vec_inner.c:7428)\n",
      "    codelens[i] = <int>len(predict_word.code)\n",
      "AttributeError: 'Vocab' object has no attribute 'code'\n",
      "\n",
      "Exception in thread Thread-11:\n",
      "Traceback (most recent call last):\n",
      "  File \"/usr/lib/python2.7/threading.py\", line 801, in __bootstrap_inner\n",
      "    self.run()\n",
      "  File \"/usr/lib/python2.7/threading.py\", line 754, in run\n",
      "    self.__target(*self.__args, **self.__kwargs)\n",
      "  File \"/home/s/shalaby/.virtualenv/thesis-env/local/lib/python2.7/site-packages/gensim/models/word2vec.py\", line 756, in worker_loop\n",
      "    tally, raw_tally = self._do_train_job(sentences, alpha, (work, neu1))\n",
      "  File \"/home/s/shalaby/.virtualenv/thesis-env/local/lib/python2.7/site-packages/gensim/models/doc2vec.py\", line 694, in _do_train_job\n",
      "    doctag_vectors=doctag_vectors, doctag_locks=doctag_locks)\n",
      "  File \"gensim/models/doc2vec_inner.pyx\", line 610, in gensim.models.doc2vec_inner.train_document_dm_concat (./gensim/models/doc2vec_inner.c:7428)\n",
      "    codelens[i] = <int>len(predict_word.code)\n",
      "AttributeError: 'Vocab' object has no attribute 'code'\n",
      "\n",
      "Exception in thread Thread-12:\n",
      "Traceback (most recent call last):\n",
      "  File \"/usr/lib/python2.7/threading.py\", line 801, in __bootstrap_inner\n",
      "    self.run()\n",
      "  File \"/usr/lib/python2.7/threading.py\", line 754, in run\n",
      "    self.__target(*self.__args, **self.__kwargs)\n",
      "  File \"/home/s/shalaby/.virtualenv/thesis-env/local/lib/python2.7/site-packages/gensim/models/word2vec.py\", line 756, in worker_loop\n",
      "    tally, raw_tally = self._do_train_job(sentences, alpha, (work, neu1))\n",
      "  File \"/home/s/shalaby/.virtualenv/thesis-env/local/lib/python2.7/site-packages/gensim/models/doc2vec.py\", line 694, in _do_train_job\n",
      "    doctag_vectors=doctag_vectors, doctag_locks=doctag_locks)\n",
      "  File \"gensim/models/doc2vec_inner.pyx\", line 610, in gensim.models.doc2vec_inner.train_document_dm_concat (./gensim/models/doc2vec_inner.c:7428)\n",
      "    codelens[i] = <int>len(predict_word.code)\n",
      "AttributeError: 'Vocab' object has no attribute 'code'\n",
      "\n",
      "Exception in thread Thread-13:\n",
      "Traceback (most recent call last):\n",
      "  File \"/usr/lib/python2.7/threading.py\", line 801, in __bootstrap_inner\n",
      "    self.run()\n",
      "  File \"/usr/lib/python2.7/threading.py\", line 754, in run\n",
      "    self.__target(*self.__args, **self.__kwargs)\n",
      "  File \"/home/s/shalaby/.virtualenv/thesis-env/local/lib/python2.7/site-packages/gensim/models/word2vec.py\", line 756, in worker_loop\n",
      "    tally, raw_tally = self._do_train_job(sentences, alpha, (work, neu1))\n",
      "  File \"/home/s/shalaby/.virtualenv/thesis-env/local/lib/python2.7/site-packages/gensim/models/doc2vec.py\", line 694, in _do_train_job\n",
      "    doctag_vectors=doctag_vectors, doctag_locks=doctag_locks)\n",
      "  File \"gensim/models/doc2vec_inner.pyx\", line 610, in gensim.models.doc2vec_inner.train_document_dm_concat (./gensim/models/doc2vec_inner.c:7428)\n",
      "    codelens[i] = <int>len(predict_word.code)\n",
      "AttributeError: 'Vocab' object has no attribute 'code'\n",
      "\n",
      "Exception in thread Thread-14:\n",
      "Traceback (most recent call last):\n",
      "  File \"/usr/lib/python2.7/threading.py\", line 801, in __bootstrap_inner\n",
      "    self.run()\n",
      "  File \"/usr/lib/python2.7/threading.py\", line 754, in run\n",
      "    self.__target(*self.__args, **self.__kwargs)\n",
      "  File \"/home/s/shalaby/.virtualenv/thesis-env/local/lib/python2.7/site-packages/gensim/models/word2vec.py\", line 756, in worker_loop\n",
      "    tally, raw_tally = self._do_train_job(sentences, alpha, (work, neu1))\n",
      "  File \"/home/s/shalaby/.virtualenv/thesis-env/local/lib/python2.7/site-packages/gensim/models/doc2vec.py\", line 694, in _do_train_job\n",
      "    doctag_vectors=doctag_vectors, doctag_locks=doctag_locks)\n",
      "  File \"gensim/models/doc2vec_inner.pyx\", line 610, in gensim.models.doc2vec_inner.train_document_dm_concat (./gensim/models/doc2vec_inner.c:7428)\n",
      "    codelens[i] = <int>len(predict_word.code)\n",
      "AttributeError: 'Vocab' object has no attribute 'code'\n",
      "\n",
      "Exception in thread Thread-15:\n",
      "Traceback (most recent call last):\n",
      "  File \"/usr/lib/python2.7/threading.py\", line 801, in __bootstrap_inner\n",
      "    self.run()\n",
      "  File \"/usr/lib/python2.7/threading.py\", line 754, in run\n",
      "    self.__target(*self.__args, **self.__kwargs)\n",
      "  File \"/home/s/shalaby/.virtualenv/thesis-env/local/lib/python2.7/site-packages/gensim/models/word2vec.py\", line 756, in worker_loop\n",
      "    tally, raw_tally = self._do_train_job(sentences, alpha, (work, neu1))\n",
      "  File \"/home/s/shalaby/.virtualenv/thesis-env/local/lib/python2.7/site-packages/gensim/models/doc2vec.py\", line 694, in _do_train_job\n",
      "    doctag_vectors=doctag_vectors, doctag_locks=doctag_locks)\n",
      "  File \"gensim/models/doc2vec_inner.pyx\", line 610, in gensim.models.doc2vec_inner.train_document_dm_concat (./gensim/models/doc2vec_inner.c:7428)\n",
      "    codelens[i] = <int>len(predict_word.code)\n",
      "AttributeError: 'Vocab' object has no attribute 'code'\n",
      "\n",
      "Exception in thread Thread-16:\n",
      "Traceback (most recent call last):\n",
      "  File \"/usr/lib/python2.7/threading.py\", line 801, in __bootstrap_inner\n",
      "    self.run()\n",
      "  File \"/usr/lib/python2.7/threading.py\", line 754, in run\n",
      "    self.__target(*self.__args, **self.__kwargs)\n",
      "  File \"/home/s/shalaby/.virtualenv/thesis-env/local/lib/python2.7/site-packages/gensim/models/word2vec.py\", line 756, in worker_loop\n",
      "    tally, raw_tally = self._do_train_job(sentences, alpha, (work, neu1))\n",
      "  File \"/home/s/shalaby/.virtualenv/thesis-env/local/lib/python2.7/site-packages/gensim/models/doc2vec.py\", line 694, in _do_train_job\n",
      "    doctag_vectors=doctag_vectors, doctag_locks=doctag_locks)\n",
      "  File \"gensim/models/doc2vec_inner.pyx\", line 610, in gensim.models.doc2vec_inner.train_document_dm_concat (./gensim/models/doc2vec_inner.c:7428)\n",
      "    codelens[i] = <int>len(predict_word.code)\n",
      "AttributeError: 'Vocab' object has no attribute 'code'\n",
      "\n",
      "Exception in thread Thread-17:\n",
      "Traceback (most recent call last):\n",
      "  File \"/usr/lib/python2.7/threading.py\", line 801, in __bootstrap_inner\n",
      "    self.run()\n",
      "  File \"/usr/lib/python2.7/threading.py\", line 754, in run\n",
      "    self.__target(*self.__args, **self.__kwargs)\n",
      "  File \"/home/s/shalaby/.virtualenv/thesis-env/local/lib/python2.7/site-packages/gensim/models/word2vec.py\", line 756, in worker_loop\n",
      "    tally, raw_tally = self._do_train_job(sentences, alpha, (work, neu1))\n",
      "  File \"/home/s/shalaby/.virtualenv/thesis-env/local/lib/python2.7/site-packages/gensim/models/doc2vec.py\", line 694, in _do_train_job\n",
      "    doctag_vectors=doctag_vectors, doctag_locks=doctag_locks)\n",
      "  File \"gensim/models/doc2vec_inner.pyx\", line 610, in gensim.models.doc2vec_inner.train_document_dm_concat (./gensim/models/doc2vec_inner.c:7428)\n",
      "    codelens[i] = <int>len(predict_word.code)\n",
      "AttributeError: 'Vocab' object has no attribute 'code'\n",
      "\n",
      "Exception in thread Thread-18:\n",
      "Traceback (most recent call last):\n",
      "  File \"/usr/lib/python2.7/threading.py\", line 801, in __bootstrap_inner\n",
      "    self.run()\n",
      "  File \"/usr/lib/python2.7/threading.py\", line 754, in run\n",
      "    self.__target(*self.__args, **self.__kwargs)\n",
      "  File \"/home/s/shalaby/.virtualenv/thesis-env/local/lib/python2.7/site-packages/gensim/models/word2vec.py\", line 756, in worker_loop\n",
      "    tally, raw_tally = self._do_train_job(sentences, alpha, (work, neu1))\n",
      "  File \"/home/s/shalaby/.virtualenv/thesis-env/local/lib/python2.7/site-packages/gensim/models/doc2vec.py\", line 694, in _do_train_job\n",
      "    doctag_vectors=doctag_vectors, doctag_locks=doctag_locks)\n",
      "  File \"gensim/models/doc2vec_inner.pyx\", line 610, in gensim.models.doc2vec_inner.train_document_dm_concat (./gensim/models/doc2vec_inner.c:7428)\n",
      "    codelens[i] = <int>len(predict_word.code)\n",
      "AttributeError: 'Vocab' object has no attribute 'code'\n",
      "\n",
      "Exception in thread Thread-19:\n",
      "Traceback (most recent call last):\n",
      "  File \"/usr/lib/python2.7/threading.py\", line 801, in __bootstrap_inner\n",
      "    self.run()\n",
      "  File \"/usr/lib/python2.7/threading.py\", line 754, in run\n",
      "    self.__target(*self.__args, **self.__kwargs)\n",
      "  File \"/home/s/shalaby/.virtualenv/thesis-env/local/lib/python2.7/site-packages/gensim/models/word2vec.py\", line 756, in worker_loop\n",
      "    tally, raw_tally = self._do_train_job(sentences, alpha, (work, neu1))\n",
      "  File \"/home/s/shalaby/.virtualenv/thesis-env/local/lib/python2.7/site-packages/gensim/models/doc2vec.py\", line 694, in _do_train_job\n",
      "    doctag_vectors=doctag_vectors, doctag_locks=doctag_locks)\n",
      "  File \"gensim/models/doc2vec_inner.pyx\", line 610, in gensim.models.doc2vec_inner.train_document_dm_concat (./gensim/models/doc2vec_inner.c:7428)\n",
      "    codelens[i] = <int>len(predict_word.code)\n",
      "AttributeError: 'Vocab' object has no attribute 'code'\n",
      "\n",
      "Exception in thread Thread-20:\n",
      "Traceback (most recent call last):\n",
      "  File \"/usr/lib/python2.7/threading.py\", line 801, in __bootstrap_inner\n",
      "    self.run()\n",
      "  File \"/usr/lib/python2.7/threading.py\", line 754, in run\n",
      "    self.__target(*self.__args, **self.__kwargs)\n",
      "  File \"/home/s/shalaby/.virtualenv/thesis-env/local/lib/python2.7/site-packages/gensim/models/word2vec.py\", line 756, in worker_loop\n",
      "    tally, raw_tally = self._do_train_job(sentences, alpha, (work, neu1))\n",
      "  File \"/home/s/shalaby/.virtualenv/thesis-env/local/lib/python2.7/site-packages/gensim/models/doc2vec.py\", line 694, in _do_train_job\n",
      "    doctag_vectors=doctag_vectors, doctag_locks=doctag_locks)\n",
      "  File \"gensim/models/doc2vec_inner.pyx\", line 610, in gensim.models.doc2vec_inner.train_document_dm_concat (./gensim/models/doc2vec_inner.c:7428)\n",
      "    codelens[i] = <int>len(predict_word.code)\n",
      "AttributeError: 'Vocab' object has no attribute 'code'\n",
      "\n",
      "Exception in thread Thread-21:\n",
      "Traceback (most recent call last):\n",
      "  File \"/usr/lib/python2.7/threading.py\", line 801, in __bootstrap_inner\n",
      "    self.run()\n",
      "  File \"/usr/lib/python2.7/threading.py\", line 754, in run\n",
      "    self.__target(*self.__args, **self.__kwargs)\n",
      "  File \"/home/s/shalaby/.virtualenv/thesis-env/local/lib/python2.7/site-packages/gensim/models/word2vec.py\", line 756, in worker_loop\n",
      "    tally, raw_tally = self._do_train_job(sentences, alpha, (work, neu1))\n",
      "  File \"/home/s/shalaby/.virtualenv/thesis-env/local/lib/python2.7/site-packages/gensim/models/doc2vec.py\", line 694, in _do_train_job\n",
      "    doctag_vectors=doctag_vectors, doctag_locks=doctag_locks)\n",
      "  File \"gensim/models/doc2vec_inner.pyx\", line 610, in gensim.models.doc2vec_inner.train_document_dm_concat (./gensim/models/doc2vec_inner.c:7428)\n",
      "    codelens[i] = <int>len(predict_word.code)\n",
      "AttributeError: 'Vocab' object has no attribute 'code'\n",
      "Exception in thread Thread-22:\n",
      "Traceback (most recent call last):\n",
      "  File \"/usr/lib/python2.7/threading.py\", line 801, in __bootstrap_inner\n",
      "    self.run()\n",
      "  File \"/usr/lib/python2.7/threading.py\", line 754, in run\n",
      "    self.__target(*self.__args, **self.__kwargs)\n",
      "  File \"/home/s/shalaby/.virtualenv/thesis-env/local/lib/python2.7/site-packages/gensim/models/word2vec.py\", line 756, in worker_loop\n",
      "    tally, raw_tally = self._do_train_job(sentences, alpha, (work, neu1))\n",
      "  File \"/home/s/shalaby/.virtualenv/thesis-env/local/lib/python2.7/site-packages/gensim/models/doc2vec.py\", line 694, in _do_train_job\n",
      "    doctag_vectors=doctag_vectors, doctag_locks=doctag_locks)\n",
      "  File \"gensim/models/doc2vec_inner.pyx\", line 610, in gensim.models.doc2vec_inner.train_document_dm_concat (./gensim/models/doc2vec_inner.c:7428)\n",
      "    codelens[i] = <int>len(predict_word.code)\n",
      "AttributeError: 'Vocab' object has no attribute 'code'\n",
      "\n",
      "\n",
      "Exception in thread Thread-23:\n",
      "Traceback (most recent call last):\n",
      "  File \"/usr/lib/python2.7/threading.py\", line 801, in __bootstrap_inner\n",
      "    self.run()\n",
      "  File \"/usr/lib/python2.7/threading.py\", line 754, in run\n",
      "    self.__target(*self.__args, **self.__kwargs)\n",
      "  File \"/home/s/shalaby/.virtualenv/thesis-env/local/lib/python2.7/site-packages/gensim/models/word2vec.py\", line 756, in worker_loop\n",
      "    tally, raw_tally = self._do_train_job(sentences, alpha, (work, neu1))\n",
      "  File \"/home/s/shalaby/.virtualenv/thesis-env/local/lib/python2.7/site-packages/gensim/models/doc2vec.py\", line 694, in _do_train_job\n",
      "    doctag_vectors=doctag_vectors, doctag_locks=doctag_locks)\n",
      "  File \"gensim/models/doc2vec_inner.pyx\", line 610, in gensim.models.doc2vec_inner.train_document_dm_concat (./gensim/models/doc2vec_inner.c:7428)\n",
      "    codelens[i] = <int>len(predict_word.code)\n",
      "AttributeError: 'Vocab' object has no attribute 'code'\n",
      "\n",
      "Exception in thread Thread-24:\n",
      "Traceback (most recent call last):\n",
      "  File \"/usr/lib/python2.7/threading.py\", line 801, in __bootstrap_inner\n",
      "    self.run()\n",
      "  File \"/usr/lib/python2.7/threading.py\", line 754, in run\n",
      "    self.__target(*self.__args, **self.__kwargs)\n",
      "  File \"/home/s/shalaby/.virtualenv/thesis-env/local/lib/python2.7/site-packages/gensim/models/word2vec.py\", line 756, in worker_loop\n",
      "    tally, raw_tally = self._do_train_job(sentences, alpha, (work, neu1))\n",
      "  File \"/home/s/shalaby/.virtualenv/thesis-env/local/lib/python2.7/site-packages/gensim/models/doc2vec.py\", line 694, in _do_train_job\n",
      "    doctag_vectors=doctag_vectors, doctag_locks=doctag_locks)\n",
      "  File \"gensim/models/doc2vec_inner.pyx\", line 610, in gensim.models.doc2vec_inner.train_document_dm_concat (./gensim/models/doc2vec_inner.c:7428)\n",
      "    codelens[i] = <int>len(predict_word.code)\n",
      "AttributeError: 'Vocab' object has no attribute 'code'\n",
      "\n"
     ]
    }
   ],
   "source": [
    "%%time\n",
    "%matplotlib notebook\n",
    "graph = MetricsGraph()\n",
    "graph.init_graph()\n",
    "# when resuming, resume from an epoch with a previously created doc2vec model to get the learning rate right\n",
    "start_from = 1\n",
    "for epoch in range(start_from,DOC2VEC_MAX_EPOCHS+1):\n",
    "    GLOBAL_VARS.MODEL_NAME = placeholder_model_name.format(epoch)\n",
    "    info(\"****************** Epoch {} --- Working on {} *******************\".format(epoch, GLOBAL_VARS.MODEL_NAME))\n",
    "    \n",
    "    if not os.path.exists(os.path.join(doc2vec_model_save_location, GLOBAL_VARS.MODEL_NAME, VALIDATION_MATRIX)):\n",
    "        # if we have the model, just load it, otherwise train the previous model\n",
    "        if os.path.exists(os.path.join(doc2vec_model_save_location, GLOBAL_VARS.MODEL_NAME, MODEL_PREFIX)):\n",
    "            doc2vec_model = Doc2Vec.load(os.path.join(doc2vec_model_save_location, GLOBAL_VARS.MODEL_NAME, MODEL_PREFIX))\n",
    "            GLOBAL_VARS.DOC2VEC_MODEL = doc2vec_model\n",
    "        else:\n",
    "            # train the doc2vec model\n",
    "            doc2vec_model.train(sentences=TrainingDocumentGenerator(training_file, training_docs_list), \n",
    "                                report_delay=REPORT_DELAY)\n",
    "            doc2vec_model.alpha -= 0.001  # decrease the learning rate\n",
    "            doc2vec_model.min_alpha = doc2vec_model.alpha  # fix the learning rate, no decay\n",
    "            ensure_disk_location_exists(os.path.join(doc2vec_model_save_location, GLOBAL_VARS.MODEL_NAME))\n",
    "            doc2vec_model.save(os.path.join(doc2vec_model_save_location, GLOBAL_VARS.MODEL_NAME, MODEL_PREFIX))\n",
    "            GLOBAL_VARS.DOC2VEC_MODEL = doc2vec_model\n",
    "\n",
    "    # Training and validation of SVMs using those docvecs\n",
    "    train_classifications(sections)\n",
    "    validation_vectors_matrix = get_validation_docs_with_inference(doc2vec_model, doc_classification_map)\n",
    "    metrics = do_validation(validation_vectors_matrix, doc_classification_map, sections, \"sections\")\n",
    "    ensure_disk_location_exists(os.path.join(doc2vec_model_save_location, GLOBAL_VARS.MODEL_NAME, \n",
    "                                             GLOBAL_VARS.SVM_MODEL_NAME))\n",
    "    pickle.dump(metrics, open(os.path.join(doc2vec_model_save_location, GLOBAL_VARS.MODEL_NAME, GLOBAL_VARS.SVM_MODEL_NAME, METRICS), 'w'))\n",
    "    print \"Coverage Error: {}, Average No of Labels: {}, Top 1: {}, Top 3: {}, Top 5: {}, F1 Micro: {}, Total Positive: {}\".format(\n",
    "        metrics['coverage_error'], metrics['average_num_of_labels'], metrics['top_1'], metrics['top_3'], metrics['top_5'], \n",
    "        metrics['f1_micro'], metrics['total_positive'])\n",
    "                                                                  \n",
    "    epoch_metrics.append(metrics)\n",
    "    graph.add_metrics_to_graph(metrics, epoch)\n"
   ]
  },
  {
   "cell_type": "code",
   "execution_count": 37,
   "metadata": {
    "collapsed": false
   },
   "outputs": [
    {
     "data": {
      "text/plain": [
       "15"
      ]
     },
     "execution_count": 37,
     "metadata": {},
     "output_type": "execute_result"
    }
   ],
   "source": [
    "epoch"
   ]
  },
  {
   "cell_type": "code",
   "execution_count": 60,
   "metadata": {
    "collapsed": false
   },
   "outputs": [
    {
     "name": "stderr",
     "output_type": "stream",
     "text": [
      "2016-09-24 17:07:46,689 : INFO : saving Doc2Vec object under /big/s/shalaby/parameter_search_doc2vec_models/sample_0.0001/doc2vec_size_3000_w_12_type_dm_concat_1_mean_0_trainwords_1_hs_0_neg_10_vocabsize_None_curriter_9/model, separately None\n",
      "2016-09-24 17:07:46,691 : INFO : storing numpy array 'doctag_syn0' to /big/s/shalaby/parameter_search_doc2vec_models/sample_0.0001/doc2vec_size_3000_w_12_type_dm_concat_1_mean_0_trainwords_1_hs_0_neg_10_vocabsize_None_curriter_9/model.docvecs.doctag_syn0.npy\n",
      "2016-09-24 17:07:48,636 : INFO : storing numpy array 'syn1neg' to /big/s/shalaby/parameter_search_doc2vec_models/sample_0.0001/doc2vec_size_3000_w_12_type_dm_concat_1_mean_0_trainwords_1_hs_0_neg_10_vocabsize_None_curriter_9/model.syn1neg.npy\n",
      "2016-09-24 17:13:31,627 : INFO : not storing attribute syn0norm\n",
      "2016-09-24 17:13:31,629 : INFO : storing numpy array 'syn0' to /big/s/shalaby/parameter_search_doc2vec_models/sample_0.0001/doc2vec_size_3000_w_12_type_dm_concat_1_mean_0_trainwords_1_hs_0_neg_10_vocabsize_None_curriter_9/model.syn0.npy\n",
      "2016-09-24 17:13:54,421 : INFO : not storing attribute cum_table\n"
     ]
    }
   ],
   "source": [
    " doc2vec_model.save(os.path.join(doc2vec_model_save_location, GLOBAL_VARS.MODEL_NAME, MODEL_PREFIX))"
   ]
  },
  {
   "cell_type": "code",
   "execution_count": 39,
   "metadata": {
    "collapsed": false
   },
   "outputs": [
    {
     "data": {
      "text/plain": [
       "'doc2vec_size_3000_w_8_type_dm_concat_1_mean_0_trainwords_0_hs_1_neg_0_vocabsize_None_curriter_15'"
      ]
     },
     "execution_count": 39,
     "metadata": {},
     "output_type": "execute_result"
    }
   ],
   "source": [
    "GLOBAL_VARS.MODEL_NAME"
   ]
  },
  {
   "cell_type": "markdown",
   "metadata": {},
   "source": [
    "## Plot loaded metrics"
   ]
  },
  {
   "cell_type": "code",
   "execution_count": 40,
   "metadata": {
    "collapsed": false
   },
   "outputs": [
    {
     "data": {
      "application/javascript": [
       "/* Put everything inside the global mpl namespace */\n",
       "window.mpl = {};\n",
       "\n",
       "mpl.get_websocket_type = function() {\n",
       "    if (typeof(WebSocket) !== 'undefined') {\n",
       "        return WebSocket;\n",
       "    } else if (typeof(MozWebSocket) !== 'undefined') {\n",
       "        return MozWebSocket;\n",
       "    } else {\n",
       "        alert('Your browser does not have WebSocket support.' +\n",
       "              'Please try Chrome, Safari or Firefox ≥ 6. ' +\n",
       "              'Firefox 4 and 5 are also supported but you ' +\n",
       "              'have to enable WebSockets in about:config.');\n",
       "    };\n",
       "}\n",
       "\n",
       "mpl.figure = function(figure_id, websocket, ondownload, parent_element) {\n",
       "    this.id = figure_id;\n",
       "\n",
       "    this.ws = websocket;\n",
       "\n",
       "    this.supports_binary = (this.ws.binaryType != undefined);\n",
       "\n",
       "    if (!this.supports_binary) {\n",
       "        var warnings = document.getElementById(\"mpl-warnings\");\n",
       "        if (warnings) {\n",
       "            warnings.style.display = 'block';\n",
       "            warnings.textContent = (\n",
       "                \"This browser does not support binary websocket messages. \" +\n",
       "                    \"Performance may be slow.\");\n",
       "        }\n",
       "    }\n",
       "\n",
       "    this.imageObj = new Image();\n",
       "\n",
       "    this.context = undefined;\n",
       "    this.message = undefined;\n",
       "    this.canvas = undefined;\n",
       "    this.rubberband_canvas = undefined;\n",
       "    this.rubberband_context = undefined;\n",
       "    this.format_dropdown = undefined;\n",
       "\n",
       "    this.image_mode = 'full';\n",
       "\n",
       "    this.root = $('<div/>');\n",
       "    this._root_extra_style(this.root)\n",
       "    this.root.attr('style', 'display: inline-block');\n",
       "\n",
       "    $(parent_element).append(this.root);\n",
       "\n",
       "    this._init_header(this);\n",
       "    this._init_canvas(this);\n",
       "    this._init_toolbar(this);\n",
       "\n",
       "    var fig = this;\n",
       "\n",
       "    this.waiting = false;\n",
       "\n",
       "    this.ws.onopen =  function () {\n",
       "            fig.send_message(\"supports_binary\", {value: fig.supports_binary});\n",
       "            fig.send_message(\"send_image_mode\", {});\n",
       "            fig.send_message(\"refresh\", {});\n",
       "        }\n",
       "\n",
       "    this.imageObj.onload = function() {\n",
       "            if (fig.image_mode == 'full') {\n",
       "                // Full images could contain transparency (where diff images\n",
       "                // almost always do), so we need to clear the canvas so that\n",
       "                // there is no ghosting.\n",
       "                fig.context.clearRect(0, 0, fig.canvas.width, fig.canvas.height);\n",
       "            }\n",
       "            fig.context.drawImage(fig.imageObj, 0, 0);\n",
       "        };\n",
       "\n",
       "    this.imageObj.onunload = function() {\n",
       "        this.ws.close();\n",
       "    }\n",
       "\n",
       "    this.ws.onmessage = this._make_on_message_function(this);\n",
       "\n",
       "    this.ondownload = ondownload;\n",
       "}\n",
       "\n",
       "mpl.figure.prototype._init_header = function() {\n",
       "    var titlebar = $(\n",
       "        '<div class=\"ui-dialog-titlebar ui-widget-header ui-corner-all ' +\n",
       "        'ui-helper-clearfix\"/>');\n",
       "    var titletext = $(\n",
       "        '<div class=\"ui-dialog-title\" style=\"width: 100%; ' +\n",
       "        'text-align: center; padding: 3px;\"/>');\n",
       "    titlebar.append(titletext)\n",
       "    this.root.append(titlebar);\n",
       "    this.header = titletext[0];\n",
       "}\n",
       "\n",
       "\n",
       "\n",
       "mpl.figure.prototype._canvas_extra_style = function(canvas_div) {\n",
       "\n",
       "}\n",
       "\n",
       "\n",
       "mpl.figure.prototype._root_extra_style = function(canvas_div) {\n",
       "\n",
       "}\n",
       "\n",
       "mpl.figure.prototype._init_canvas = function() {\n",
       "    var fig = this;\n",
       "\n",
       "    var canvas_div = $('<div/>');\n",
       "\n",
       "    canvas_div.attr('style', 'position: relative; clear: both; outline: 0');\n",
       "\n",
       "    function canvas_keyboard_event(event) {\n",
       "        return fig.key_event(event, event['data']);\n",
       "    }\n",
       "\n",
       "    canvas_div.keydown('key_press', canvas_keyboard_event);\n",
       "    canvas_div.keyup('key_release', canvas_keyboard_event);\n",
       "    this.canvas_div = canvas_div\n",
       "    this._canvas_extra_style(canvas_div)\n",
       "    this.root.append(canvas_div);\n",
       "\n",
       "    var canvas = $('<canvas/>');\n",
       "    canvas.addClass('mpl-canvas');\n",
       "    canvas.attr('style', \"left: 0; top: 0; z-index: 0; outline: 0\")\n",
       "\n",
       "    this.canvas = canvas[0];\n",
       "    this.context = canvas[0].getContext(\"2d\");\n",
       "\n",
       "    var rubberband = $('<canvas/>');\n",
       "    rubberband.attr('style', \"position: absolute; left: 0; top: 0; z-index: 1;\")\n",
       "\n",
       "    var pass_mouse_events = true;\n",
       "\n",
       "    canvas_div.resizable({\n",
       "        start: function(event, ui) {\n",
       "            pass_mouse_events = false;\n",
       "        },\n",
       "        resize: function(event, ui) {\n",
       "            fig.request_resize(ui.size.width, ui.size.height);\n",
       "        },\n",
       "        stop: function(event, ui) {\n",
       "            pass_mouse_events = true;\n",
       "            fig.request_resize(ui.size.width, ui.size.height);\n",
       "        },\n",
       "    });\n",
       "\n",
       "    function mouse_event_fn(event) {\n",
       "        if (pass_mouse_events)\n",
       "            return fig.mouse_event(event, event['data']);\n",
       "    }\n",
       "\n",
       "    rubberband.mousedown('button_press', mouse_event_fn);\n",
       "    rubberband.mouseup('button_release', mouse_event_fn);\n",
       "    // Throttle sequential mouse events to 1 every 20ms.\n",
       "    rubberband.mousemove('motion_notify', mouse_event_fn);\n",
       "\n",
       "    rubberband.mouseenter('figure_enter', mouse_event_fn);\n",
       "    rubberband.mouseleave('figure_leave', mouse_event_fn);\n",
       "\n",
       "    canvas_div.on(\"wheel\", function (event) {\n",
       "        event = event.originalEvent;\n",
       "        event['data'] = 'scroll'\n",
       "        if (event.deltaY < 0) {\n",
       "            event.step = 1;\n",
       "        } else {\n",
       "            event.step = -1;\n",
       "        }\n",
       "        mouse_event_fn(event);\n",
       "    });\n",
       "\n",
       "    canvas_div.append(canvas);\n",
       "    canvas_div.append(rubberband);\n",
       "\n",
       "    this.rubberband = rubberband;\n",
       "    this.rubberband_canvas = rubberband[0];\n",
       "    this.rubberband_context = rubberband[0].getContext(\"2d\");\n",
       "    this.rubberband_context.strokeStyle = \"#000000\";\n",
       "\n",
       "    this._resize_canvas = function(width, height) {\n",
       "        // Keep the size of the canvas, canvas container, and rubber band\n",
       "        // canvas in synch.\n",
       "        canvas_div.css('width', width)\n",
       "        canvas_div.css('height', height)\n",
       "\n",
       "        canvas.attr('width', width);\n",
       "        canvas.attr('height', height);\n",
       "\n",
       "        rubberband.attr('width', width);\n",
       "        rubberband.attr('height', height);\n",
       "    }\n",
       "\n",
       "    // Set the figure to an initial 600x600px, this will subsequently be updated\n",
       "    // upon first draw.\n",
       "    this._resize_canvas(600, 600);\n",
       "\n",
       "    // Disable right mouse context menu.\n",
       "    $(this.rubberband_canvas).bind(\"contextmenu\",function(e){\n",
       "        return false;\n",
       "    });\n",
       "\n",
       "    function set_focus () {\n",
       "        canvas.focus();\n",
       "        canvas_div.focus();\n",
       "    }\n",
       "\n",
       "    window.setTimeout(set_focus, 100);\n",
       "}\n",
       "\n",
       "mpl.figure.prototype._init_toolbar = function() {\n",
       "    var fig = this;\n",
       "\n",
       "    var nav_element = $('<div/>')\n",
       "    nav_element.attr('style', 'width: 100%');\n",
       "    this.root.append(nav_element);\n",
       "\n",
       "    // Define a callback function for later on.\n",
       "    function toolbar_event(event) {\n",
       "        return fig.toolbar_button_onclick(event['data']);\n",
       "    }\n",
       "    function toolbar_mouse_event(event) {\n",
       "        return fig.toolbar_button_onmouseover(event['data']);\n",
       "    }\n",
       "\n",
       "    for(var toolbar_ind in mpl.toolbar_items) {\n",
       "        var name = mpl.toolbar_items[toolbar_ind][0];\n",
       "        var tooltip = mpl.toolbar_items[toolbar_ind][1];\n",
       "        var image = mpl.toolbar_items[toolbar_ind][2];\n",
       "        var method_name = mpl.toolbar_items[toolbar_ind][3];\n",
       "\n",
       "        if (!name) {\n",
       "            // put a spacer in here.\n",
       "            continue;\n",
       "        }\n",
       "        var button = $('<button/>');\n",
       "        button.addClass('ui-button ui-widget ui-state-default ui-corner-all ' +\n",
       "                        'ui-button-icon-only');\n",
       "        button.attr('role', 'button');\n",
       "        button.attr('aria-disabled', 'false');\n",
       "        button.click(method_name, toolbar_event);\n",
       "        button.mouseover(tooltip, toolbar_mouse_event);\n",
       "\n",
       "        var icon_img = $('<span/>');\n",
       "        icon_img.addClass('ui-button-icon-primary ui-icon');\n",
       "        icon_img.addClass(image);\n",
       "        icon_img.addClass('ui-corner-all');\n",
       "\n",
       "        var tooltip_span = $('<span/>');\n",
       "        tooltip_span.addClass('ui-button-text');\n",
       "        tooltip_span.html(tooltip);\n",
       "\n",
       "        button.append(icon_img);\n",
       "        button.append(tooltip_span);\n",
       "\n",
       "        nav_element.append(button);\n",
       "    }\n",
       "\n",
       "    var fmt_picker_span = $('<span/>');\n",
       "\n",
       "    var fmt_picker = $('<select/>');\n",
       "    fmt_picker.addClass('mpl-toolbar-option ui-widget ui-widget-content');\n",
       "    fmt_picker_span.append(fmt_picker);\n",
       "    nav_element.append(fmt_picker_span);\n",
       "    this.format_dropdown = fmt_picker[0];\n",
       "\n",
       "    for (var ind in mpl.extensions) {\n",
       "        var fmt = mpl.extensions[ind];\n",
       "        var option = $(\n",
       "            '<option/>', {selected: fmt === mpl.default_extension}).html(fmt);\n",
       "        fmt_picker.append(option)\n",
       "    }\n",
       "\n",
       "    // Add hover states to the ui-buttons\n",
       "    $( \".ui-button\" ).hover(\n",
       "        function() { $(this).addClass(\"ui-state-hover\");},\n",
       "        function() { $(this).removeClass(\"ui-state-hover\");}\n",
       "    );\n",
       "\n",
       "    var status_bar = $('<span class=\"mpl-message\"/>');\n",
       "    nav_element.append(status_bar);\n",
       "    this.message = status_bar[0];\n",
       "}\n",
       "\n",
       "mpl.figure.prototype.request_resize = function(x_pixels, y_pixels) {\n",
       "    // Request matplotlib to resize the figure. Matplotlib will then trigger a resize in the client,\n",
       "    // which will in turn request a refresh of the image.\n",
       "    this.send_message('resize', {'width': x_pixels, 'height': y_pixels});\n",
       "}\n",
       "\n",
       "mpl.figure.prototype.send_message = function(type, properties) {\n",
       "    properties['type'] = type;\n",
       "    properties['figure_id'] = this.id;\n",
       "    this.ws.send(JSON.stringify(properties));\n",
       "}\n",
       "\n",
       "mpl.figure.prototype.send_draw_message = function() {\n",
       "    if (!this.waiting) {\n",
       "        this.waiting = true;\n",
       "        this.ws.send(JSON.stringify({type: \"draw\", figure_id: this.id}));\n",
       "    }\n",
       "}\n",
       "\n",
       "\n",
       "mpl.figure.prototype.handle_save = function(fig, msg) {\n",
       "    var format_dropdown = fig.format_dropdown;\n",
       "    var format = format_dropdown.options[format_dropdown.selectedIndex].value;\n",
       "    fig.ondownload(fig, format);\n",
       "}\n",
       "\n",
       "\n",
       "mpl.figure.prototype.handle_resize = function(fig, msg) {\n",
       "    var size = msg['size'];\n",
       "    if (size[0] != fig.canvas.width || size[1] != fig.canvas.height) {\n",
       "        fig._resize_canvas(size[0], size[1]);\n",
       "        fig.send_message(\"refresh\", {});\n",
       "    };\n",
       "}\n",
       "\n",
       "mpl.figure.prototype.handle_rubberband = function(fig, msg) {\n",
       "    var x0 = msg['x0'];\n",
       "    var y0 = fig.canvas.height - msg['y0'];\n",
       "    var x1 = msg['x1'];\n",
       "    var y1 = fig.canvas.height - msg['y1'];\n",
       "    x0 = Math.floor(x0) + 0.5;\n",
       "    y0 = Math.floor(y0) + 0.5;\n",
       "    x1 = Math.floor(x1) + 0.5;\n",
       "    y1 = Math.floor(y1) + 0.5;\n",
       "    var min_x = Math.min(x0, x1);\n",
       "    var min_y = Math.min(y0, y1);\n",
       "    var width = Math.abs(x1 - x0);\n",
       "    var height = Math.abs(y1 - y0);\n",
       "\n",
       "    fig.rubberband_context.clearRect(\n",
       "        0, 0, fig.canvas.width, fig.canvas.height);\n",
       "\n",
       "    fig.rubberband_context.strokeRect(min_x, min_y, width, height);\n",
       "}\n",
       "\n",
       "mpl.figure.prototype.handle_figure_label = function(fig, msg) {\n",
       "    // Updates the figure title.\n",
       "    fig.header.textContent = msg['label'];\n",
       "}\n",
       "\n",
       "mpl.figure.prototype.handle_cursor = function(fig, msg) {\n",
       "    var cursor = msg['cursor'];\n",
       "    switch(cursor)\n",
       "    {\n",
       "    case 0:\n",
       "        cursor = 'pointer';\n",
       "        break;\n",
       "    case 1:\n",
       "        cursor = 'default';\n",
       "        break;\n",
       "    case 2:\n",
       "        cursor = 'crosshair';\n",
       "        break;\n",
       "    case 3:\n",
       "        cursor = 'move';\n",
       "        break;\n",
       "    }\n",
       "    fig.rubberband_canvas.style.cursor = cursor;\n",
       "}\n",
       "\n",
       "mpl.figure.prototype.handle_message = function(fig, msg) {\n",
       "    fig.message.textContent = msg['message'];\n",
       "}\n",
       "\n",
       "mpl.figure.prototype.handle_draw = function(fig, msg) {\n",
       "    // Request the server to send over a new figure.\n",
       "    fig.send_draw_message();\n",
       "}\n",
       "\n",
       "mpl.figure.prototype.handle_image_mode = function(fig, msg) {\n",
       "    fig.image_mode = msg['mode'];\n",
       "}\n",
       "\n",
       "mpl.figure.prototype.updated_canvas_event = function() {\n",
       "    // Called whenever the canvas gets updated.\n",
       "    this.send_message(\"ack\", {});\n",
       "}\n",
       "\n",
       "// A function to construct a web socket function for onmessage handling.\n",
       "// Called in the figure constructor.\n",
       "mpl.figure.prototype._make_on_message_function = function(fig) {\n",
       "    return function socket_on_message(evt) {\n",
       "        if (evt.data instanceof Blob) {\n",
       "            /* FIXME: We get \"Resource interpreted as Image but\n",
       "             * transferred with MIME type text/plain:\" errors on\n",
       "             * Chrome.  But how to set the MIME type?  It doesn't seem\n",
       "             * to be part of the websocket stream */\n",
       "            evt.data.type = \"image/png\";\n",
       "\n",
       "            /* Free the memory for the previous frames */\n",
       "            if (fig.imageObj.src) {\n",
       "                (window.URL || window.webkitURL).revokeObjectURL(\n",
       "                    fig.imageObj.src);\n",
       "            }\n",
       "\n",
       "            fig.imageObj.src = (window.URL || window.webkitURL).createObjectURL(\n",
       "                evt.data);\n",
       "            fig.updated_canvas_event();\n",
       "            fig.waiting = false;\n",
       "            return;\n",
       "        }\n",
       "        else if (typeof evt.data === 'string' && evt.data.slice(0, 21) == \"data:image/png;base64\") {\n",
       "            fig.imageObj.src = evt.data;\n",
       "            fig.updated_canvas_event();\n",
       "            fig.waiting = false;\n",
       "            return;\n",
       "        }\n",
       "\n",
       "        var msg = JSON.parse(evt.data);\n",
       "        var msg_type = msg['type'];\n",
       "\n",
       "        // Call the  \"handle_{type}\" callback, which takes\n",
       "        // the figure and JSON message as its only arguments.\n",
       "        try {\n",
       "            var callback = fig[\"handle_\" + msg_type];\n",
       "        } catch (e) {\n",
       "            console.log(\"No handler for the '\" + msg_type + \"' message type: \", msg);\n",
       "            return;\n",
       "        }\n",
       "\n",
       "        if (callback) {\n",
       "            try {\n",
       "                // console.log(\"Handling '\" + msg_type + \"' message: \", msg);\n",
       "                callback(fig, msg);\n",
       "            } catch (e) {\n",
       "                console.log(\"Exception inside the 'handler_\" + msg_type + \"' callback:\", e, e.stack, msg);\n",
       "            }\n",
       "        }\n",
       "    };\n",
       "}\n",
       "\n",
       "// from http://stackoverflow.com/questions/1114465/getting-mouse-location-in-canvas\n",
       "mpl.findpos = function(e) {\n",
       "    //this section is from http://www.quirksmode.org/js/events_properties.html\n",
       "    var targ;\n",
       "    if (!e)\n",
       "        e = window.event;\n",
       "    if (e.target)\n",
       "        targ = e.target;\n",
       "    else if (e.srcElement)\n",
       "        targ = e.srcElement;\n",
       "    if (targ.nodeType == 3) // defeat Safari bug\n",
       "        targ = targ.parentNode;\n",
       "\n",
       "    // jQuery normalizes the pageX and pageY\n",
       "    // pageX,Y are the mouse positions relative to the document\n",
       "    // offset() returns the position of the element relative to the document\n",
       "    var x = e.pageX - $(targ).offset().left;\n",
       "    var y = e.pageY - $(targ).offset().top;\n",
       "\n",
       "    return {\"x\": x, \"y\": y};\n",
       "};\n",
       "\n",
       "/*\n",
       " * return a copy of an object with only non-object keys\n",
       " * we need this to avoid circular references\n",
       " * http://stackoverflow.com/a/24161582/3208463\n",
       " */\n",
       "function simpleKeys (original) {\n",
       "  return Object.keys(original).reduce(function (obj, key) {\n",
       "    if (typeof original[key] !== 'object')\n",
       "        obj[key] = original[key]\n",
       "    return obj;\n",
       "  }, {});\n",
       "}\n",
       "\n",
       "mpl.figure.prototype.mouse_event = function(event, name) {\n",
       "    var canvas_pos = mpl.findpos(event)\n",
       "\n",
       "    if (name === 'button_press')\n",
       "    {\n",
       "        this.canvas.focus();\n",
       "        this.canvas_div.focus();\n",
       "    }\n",
       "\n",
       "    var x = canvas_pos.x;\n",
       "    var y = canvas_pos.y;\n",
       "\n",
       "    this.send_message(name, {x: x, y: y, button: event.button,\n",
       "                             step: event.step,\n",
       "                             guiEvent: simpleKeys(event)});\n",
       "\n",
       "    /* This prevents the web browser from automatically changing to\n",
       "     * the text insertion cursor when the button is pressed.  We want\n",
       "     * to control all of the cursor setting manually through the\n",
       "     * 'cursor' event from matplotlib */\n",
       "    event.preventDefault();\n",
       "    return false;\n",
       "}\n",
       "\n",
       "mpl.figure.prototype._key_event_extra = function(event, name) {\n",
       "    // Handle any extra behaviour associated with a key event\n",
       "}\n",
       "\n",
       "mpl.figure.prototype.key_event = function(event, name) {\n",
       "\n",
       "    // Prevent repeat events\n",
       "    if (name == 'key_press')\n",
       "    {\n",
       "        if (event.which === this._key)\n",
       "            return;\n",
       "        else\n",
       "            this._key = event.which;\n",
       "    }\n",
       "    if (name == 'key_release')\n",
       "        this._key = null;\n",
       "\n",
       "    var value = '';\n",
       "    if (event.ctrlKey && event.which != 17)\n",
       "        value += \"ctrl+\";\n",
       "    if (event.altKey && event.which != 18)\n",
       "        value += \"alt+\";\n",
       "    if (event.shiftKey && event.which != 16)\n",
       "        value += \"shift+\";\n",
       "\n",
       "    value += 'k';\n",
       "    value += event.which.toString();\n",
       "\n",
       "    this._key_event_extra(event, name);\n",
       "\n",
       "    this.send_message(name, {key: value,\n",
       "                             guiEvent: simpleKeys(event)});\n",
       "    return false;\n",
       "}\n",
       "\n",
       "mpl.figure.prototype.toolbar_button_onclick = function(name) {\n",
       "    if (name == 'download') {\n",
       "        this.handle_save(this, null);\n",
       "    } else {\n",
       "        this.send_message(\"toolbar_button\", {name: name});\n",
       "    }\n",
       "};\n",
       "\n",
       "mpl.figure.prototype.toolbar_button_onmouseover = function(tooltip) {\n",
       "    this.message.textContent = tooltip;\n",
       "};\n",
       "mpl.toolbar_items = [[\"Home\", \"Reset original view\", \"fa fa-home icon-home\", \"home\"], [\"Back\", \"Back to  previous view\", \"fa fa-arrow-left icon-arrow-left\", \"back\"], [\"Forward\", \"Forward to next view\", \"fa fa-arrow-right icon-arrow-right\", \"forward\"], [\"\", \"\", \"\", \"\"], [\"Pan\", \"Pan axes with left mouse, zoom with right\", \"fa fa-arrows icon-move\", \"pan\"], [\"Zoom\", \"Zoom to rectangle\", \"fa fa-square-o icon-check-empty\", \"zoom\"], [\"\", \"\", \"\", \"\"], [\"Download\", \"Download plot\", \"fa fa-floppy-o icon-save\", \"download\"]];\n",
       "\n",
       "mpl.extensions = [\"eps\", \"pdf\", \"png\", \"ps\", \"raw\", \"svg\"];\n",
       "\n",
       "mpl.default_extension = \"png\";var comm_websocket_adapter = function(comm) {\n",
       "    // Create a \"websocket\"-like object which calls the given IPython comm\n",
       "    // object with the appropriate methods. Currently this is a non binary\n",
       "    // socket, so there is still some room for performance tuning.\n",
       "    var ws = {};\n",
       "\n",
       "    ws.close = function() {\n",
       "        comm.close()\n",
       "    };\n",
       "    ws.send = function(m) {\n",
       "        //console.log('sending', m);\n",
       "        comm.send(m);\n",
       "    };\n",
       "    // Register the callback with on_msg.\n",
       "    comm.on_msg(function(msg) {\n",
       "        //console.log('receiving', msg['content']['data'], msg);\n",
       "        // Pass the mpl event to the overriden (by mpl) onmessage function.\n",
       "        ws.onmessage(msg['content']['data'])\n",
       "    });\n",
       "    return ws;\n",
       "}\n",
       "\n",
       "mpl.mpl_figure_comm = function(comm, msg) {\n",
       "    // This is the function which gets called when the mpl process\n",
       "    // starts-up an IPython Comm through the \"matplotlib\" channel.\n",
       "\n",
       "    var id = msg.content.data.id;\n",
       "    // Get hold of the div created by the display call when the Comm\n",
       "    // socket was opened in Python.\n",
       "    var element = $(\"#\" + id);\n",
       "    var ws_proxy = comm_websocket_adapter(comm)\n",
       "\n",
       "    function ondownload(figure, format) {\n",
       "        window.open(figure.imageObj.src);\n",
       "    }\n",
       "\n",
       "    var fig = new mpl.figure(id, ws_proxy,\n",
       "                           ondownload,\n",
       "                           element.get(0));\n",
       "\n",
       "    // Call onopen now - mpl needs it, as it is assuming we've passed it a real\n",
       "    // web socket which is closed, not our websocket->open comm proxy.\n",
       "    ws_proxy.onopen();\n",
       "\n",
       "    fig.parent_element = element.get(0);\n",
       "    fig.cell_info = mpl.find_output_cell(\"<div id='\" + id + \"'></div>\");\n",
       "    if (!fig.cell_info) {\n",
       "        console.error(\"Failed to find cell for figure\", id, fig);\n",
       "        return;\n",
       "    }\n",
       "\n",
       "    var output_index = fig.cell_info[2]\n",
       "    var cell = fig.cell_info[0];\n",
       "\n",
       "};\n",
       "\n",
       "mpl.figure.prototype.handle_close = function(fig, msg) {\n",
       "    fig.root.unbind('remove')\n",
       "\n",
       "    // Update the output cell to use the data from the current canvas.\n",
       "    fig.push_to_output();\n",
       "    var dataURL = fig.canvas.toDataURL();\n",
       "    // Re-enable the keyboard manager in IPython - without this line, in FF,\n",
       "    // the notebook keyboard shortcuts fail.\n",
       "    IPython.keyboard_manager.enable()\n",
       "    $(fig.parent_element).html('<img src=\"' + dataURL + '\">');\n",
       "    fig.close_ws(fig, msg);\n",
       "}\n",
       "\n",
       "mpl.figure.prototype.close_ws = function(fig, msg){\n",
       "    fig.send_message('closing', msg);\n",
       "    // fig.ws.close()\n",
       "}\n",
       "\n",
       "mpl.figure.prototype.push_to_output = function(remove_interactive) {\n",
       "    // Turn the data on the canvas into data in the output cell.\n",
       "    var dataURL = this.canvas.toDataURL();\n",
       "    this.cell_info[1]['text/html'] = '<img src=\"' + dataURL + '\">';\n",
       "}\n",
       "\n",
       "mpl.figure.prototype.updated_canvas_event = function() {\n",
       "    // Tell IPython that the notebook contents must change.\n",
       "    IPython.notebook.set_dirty(true);\n",
       "    this.send_message(\"ack\", {});\n",
       "    var fig = this;\n",
       "    // Wait a second, then push the new image to the DOM so\n",
       "    // that it is saved nicely (might be nice to debounce this).\n",
       "    setTimeout(function () { fig.push_to_output() }, 1000);\n",
       "}\n",
       "\n",
       "mpl.figure.prototype._init_toolbar = function() {\n",
       "    var fig = this;\n",
       "\n",
       "    var nav_element = $('<div/>')\n",
       "    nav_element.attr('style', 'width: 100%');\n",
       "    this.root.append(nav_element);\n",
       "\n",
       "    // Define a callback function for later on.\n",
       "    function toolbar_event(event) {\n",
       "        return fig.toolbar_button_onclick(event['data']);\n",
       "    }\n",
       "    function toolbar_mouse_event(event) {\n",
       "        return fig.toolbar_button_onmouseover(event['data']);\n",
       "    }\n",
       "\n",
       "    for(var toolbar_ind in mpl.toolbar_items){\n",
       "        var name = mpl.toolbar_items[toolbar_ind][0];\n",
       "        var tooltip = mpl.toolbar_items[toolbar_ind][1];\n",
       "        var image = mpl.toolbar_items[toolbar_ind][2];\n",
       "        var method_name = mpl.toolbar_items[toolbar_ind][3];\n",
       "\n",
       "        if (!name) { continue; };\n",
       "\n",
       "        var button = $('<button class=\"btn btn-default\" href=\"#\" title=\"' + name + '\"><i class=\"fa ' + image + ' fa-lg\"></i></button>');\n",
       "        button.click(method_name, toolbar_event);\n",
       "        button.mouseover(tooltip, toolbar_mouse_event);\n",
       "        nav_element.append(button);\n",
       "    }\n",
       "\n",
       "    // Add the status bar.\n",
       "    var status_bar = $('<span class=\"mpl-message\" style=\"text-align:right; float: right;\"/>');\n",
       "    nav_element.append(status_bar);\n",
       "    this.message = status_bar[0];\n",
       "\n",
       "    // Add the close button to the window.\n",
       "    var buttongrp = $('<div class=\"btn-group inline pull-right\"></div>');\n",
       "    var button = $('<button class=\"btn btn-mini btn-primary\" href=\"#\" title=\"Stop Interaction\"><i class=\"fa fa-power-off icon-remove icon-large\"></i></button>');\n",
       "    button.click(function (evt) { fig.handle_close(fig, {}); } );\n",
       "    button.mouseover('Stop Interaction', toolbar_mouse_event);\n",
       "    buttongrp.append(button);\n",
       "    var titlebar = this.root.find($('.ui-dialog-titlebar'));\n",
       "    titlebar.prepend(buttongrp);\n",
       "}\n",
       "\n",
       "mpl.figure.prototype._root_extra_style = function(el){\n",
       "    var fig = this\n",
       "    el.on(\"remove\", function(){\n",
       "\tfig.close_ws(fig, {});\n",
       "    });\n",
       "}\n",
       "\n",
       "mpl.figure.prototype._canvas_extra_style = function(el){\n",
       "    // this is important to make the div 'focusable\n",
       "    el.attr('tabindex', 0)\n",
       "    // reach out to IPython and tell the keyboard manager to turn it's self\n",
       "    // off when our div gets focus\n",
       "\n",
       "    // location in version 3\n",
       "    if (IPython.notebook.keyboard_manager) {\n",
       "        IPython.notebook.keyboard_manager.register_events(el);\n",
       "    }\n",
       "    else {\n",
       "        // location in version 2\n",
       "        IPython.keyboard_manager.register_events(el);\n",
       "    }\n",
       "\n",
       "}\n",
       "\n",
       "mpl.figure.prototype._key_event_extra = function(event, name) {\n",
       "    var manager = IPython.notebook.keyboard_manager;\n",
       "    if (!manager)\n",
       "        manager = IPython.keyboard_manager;\n",
       "\n",
       "    // Check for shift+enter\n",
       "    if (event.shiftKey && event.which == 13) {\n",
       "        this.canvas_div.blur();\n",
       "        event.shiftKey = false;\n",
       "        // Send a \"J\" for go to next cell\n",
       "        event.which = 74;\n",
       "        event.keyCode = 74;\n",
       "        manager.command_mode();\n",
       "        manager.handle_keydown(event);\n",
       "    }\n",
       "}\n",
       "\n",
       "mpl.figure.prototype.handle_save = function(fig, msg) {\n",
       "    fig.ondownload(fig, null);\n",
       "}\n",
       "\n",
       "\n",
       "mpl.find_output_cell = function(html_output) {\n",
       "    // Return the cell and output element which can be found *uniquely* in the notebook.\n",
       "    // Note - this is a bit hacky, but it is done because the \"notebook_saving.Notebook\"\n",
       "    // IPython event is triggered only after the cells have been serialised, which for\n",
       "    // our purposes (turning an active figure into a static one), is too late.\n",
       "    var cells = IPython.notebook.get_cells();\n",
       "    var ncells = cells.length;\n",
       "    for (var i=0; i<ncells; i++) {\n",
       "        var cell = cells[i];\n",
       "        if (cell.cell_type === 'code'){\n",
       "            for (var j=0; j<cell.output_area.outputs.length; j++) {\n",
       "                var data = cell.output_area.outputs[j];\n",
       "                if (data.data) {\n",
       "                    // IPython >= 3 moved mimebundle to data attribute of output\n",
       "                    data = data.data;\n",
       "                }\n",
       "                if (data['text/html'] == html_output) {\n",
       "                    return [cell, data, j];\n",
       "                }\n",
       "            }\n",
       "        }\n",
       "    }\n",
       "}\n",
       "\n",
       "// Register the function which deals with the matplotlib target/channel.\n",
       "// The kernel may be null if the page has been refreshed.\n",
       "if (IPython.notebook.kernel != null) {\n",
       "    IPython.notebook.kernel.comm_manager.register_target('matplotlib', mpl.mpl_figure_comm);\n",
       "}\n"
      ],
      "text/plain": [
       "<IPython.core.display.Javascript object>"
      ]
     },
     "metadata": {},
     "output_type": "display_data"
    },
    {
     "data": {
      "text/html": [
       "<img src=\"data:image/png;base64,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\">"
      ],
      "text/plain": [
       "<IPython.core.display.HTML object>"
      ]
     },
     "metadata": {},
     "output_type": "display_data"
    },
    {
     "name": "stdout",
     "output_type": "stream",
     "text": [
      "doc2vec_size_3000_w_8_type_dm_concat_1_mean_0_trainwords_0_hs_1_neg_0_vocabsize_None_curriter_{}_iter_1000_reg_0.001\n"
     ]
    }
   ],
   "source": [
    "%matplotlib notebook\n",
    "graph = MetricsGraph()\n",
    "graph.init_graph()\n",
    "print placeholder_model_name + \"_\" + GLOBAL_VARS.SVM_MODEL_NAME\n",
    "\n",
    "for epoch in range(1,DOC2VEC_MAX_EPOCHS+1):\n",
    "    try:\n",
    "        model_name = placeholder_model_name.format(epoch)\n",
    "        metrics = pickle.load(open(os.path.join(doc2vec_model_save_location, model_name, GLOBAL_VARS.SVM_MODEL_NAME, METRICS)))\n",
    "        graph.add_metrics_to_graph(metrics, epoch)\n",
    "    except IOError:\n",
    "        break"
   ]
  },
  {
   "cell_type": "code",
   "execution_count": 118,
   "metadata": {
    "collapsed": false
   },
   "outputs": [
    {
     "data": {
      "text/plain": [
       "[0.54857142857142849,\n",
       " 0.5620838229533881,\n",
       " 0.54473738841602659,\n",
       " 0.34408602150537637,\n",
       " 0.32672983060579963]"
      ]
     },
     "execution_count": 118,
     "metadata": {},
     "output_type": "execute_result"
    }
   ],
   "source": [
    "[metric['f1_micro'] for metric in epoch_metrics]"
   ]
  }
 ],
 "metadata": {
  "kernelspec": {
   "display_name": "pySpark (Spark 1.6.1)",
   "language": "python",
   "name": "pyspark"
  },
  "language_info": {
   "codemirror_mode": {
    "name": "ipython",
    "version": 2
   },
   "file_extension": ".py",
   "mimetype": "text/x-python",
   "name": "python",
   "nbconvert_exporter": "python",
   "pygments_lexer": "ipython2",
   "version": "2.7.11+"
  }
 },
 "nbformat": 4,
 "nbformat_minor": 0
}
