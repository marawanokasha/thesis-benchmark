{
 "cells": [
  {
   "cell_type": "code",
   "execution_count": 1,
   "metadata": {
    "collapsed": true
   },
   "outputs": [],
   "source": [
    "from nltk.tokenize import RegexpTokenizer\n",
    "import cPickle as pickle\n",
    "import string\n",
    "import os\n",
    "\n",
    "%matplotlib inline\n",
    "import numpy as np\n",
    "import random\n",
    "import time\n",
    "\n",
    "import logging\n",
    "from logging import info\n",
    "\n",
    "from multiprocessing import Pool as ThreadPool\n",
    "import itertools"
   ]
  },
  {
   "cell_type": "code",
   "execution_count": 2,
   "metadata": {
    "collapsed": true
   },
   "outputs": [],
   "source": [
    "root = logging.getLogger()\n",
    "for handler in root.handlers[:]:\n",
    "    root.removeHandler(handler)\n",
    "logging.basicConfig(format='%(asctime)s : %(levelname)s : %(message)s', level=logging.INFO) # adds a default StreamHanlder\n",
    "#root.addHandler(logging.StreamHandler())"
   ]
  },
  {
   "cell_type": "code",
   "execution_count": 3,
   "metadata": {
    "collapsed": true
   },
   "outputs": [],
   "source": [
    "SAMPLE_RATIO = 0.01"
   ]
  },
  {
   "cell_type": "code",
   "execution_count": 4,
   "metadata": {
    "collapsed": false
   },
   "outputs": [],
   "source": [
    "root_location = \"/big/s/shalaby/\"\n",
    "exports_location = root_location + \"exported_data/\"\n",
    "\n",
    "#training_file = root_location + 'docs_output_training_validation_documents_' + str(SAMPLE_RATIO)\n",
    "training_file = root_location + 'docs_output.json'\n",
    "\n",
    "doc_classifications_map_file = exports_location + \"doc_classification_map.pkl\"\n",
    "sections_file = exports_location + \"sections.pkl\"\n",
    "classes_file = exports_location + \"classes.pkl\"\n",
    "subclasses_file = exports_location + \"subclasses.pkl\"\n",
    "classifications_output = exports_location + \"classifications.pkl\"\n",
    "# training_docs_list_file = exports_location + \"training_documents_\" + str(SAMPLE_RATIO) + \"_sample.pkl\"\n",
    "# validation_docs_list_file = exports_location + \"validation_documents_\" + str(SAMPLE_RATIO) + \"_sample.pkl\"\n",
    "training_docs_list_file = exports_location + \"training_docs_list.pkl\"\n",
    "validation_docs_list_file = exports_location + \"validation_docs_list.pkl\"\n",
    "test_docs_list_file = exports_location + \"test_docs_list.pkl\""
   ]
  },
  {
   "cell_type": "code",
   "execution_count": 5,
   "metadata": {
    "collapsed": false
   },
   "outputs": [
    {
     "name": "stdout",
     "output_type": "stream",
     "text": [
      "CPU times: user 29.3 s, sys: 6.14 s, total: 35.4 s\n",
      "Wall time: 37.5 s\n"
     ]
    }
   ],
   "source": [
    "%%time\n",
    "doc_classification_map = pickle.load(open(doc_classifications_map_file))\n",
    "sections = pickle.load(open(sections_file))\n",
    "classes = pickle.load(open(classes_file))\n",
    "subclasses = pickle.load(open(subclasses_file))\n",
    "training_docs_list = pickle.load(open(training_docs_list_file))\n",
    "validation_docs_list = pickle.load(open(validation_docs_list_file))\n",
    "test_docs_list = pickle.load(open(test_docs_list_file))"
   ]
  },
  {
   "cell_type": "code",
   "execution_count": 6,
   "metadata": {
    "collapsed": false
   },
   "outputs": [
    {
     "data": {
      "text/plain": [
       "1286325"
      ]
     },
     "execution_count": 6,
     "metadata": {},
     "output_type": "execute_result"
    }
   ],
   "source": [
    "len(training_docs_list)"
   ]
  },
  {
   "cell_type": "code",
   "execution_count": 7,
   "metadata": {
    "collapsed": false
   },
   "outputs": [
    {
     "data": {
      "text/plain": [
       "1607798"
      ]
     },
     "execution_count": 7,
     "metadata": {},
     "output_type": "execute_result"
    }
   ],
   "source": [
    "len(training_docs_list) + len(validation_docs_list)"
   ]
  },
  {
   "cell_type": "code",
   "execution_count": 8,
   "metadata": {
    "collapsed": false
   },
   "outputs": [
    {
     "data": {
      "text/plain": [
       "321473"
      ]
     },
     "execution_count": 8,
     "metadata": {},
     "output_type": "execute_result"
    }
   ],
   "source": [
    "len(validation_docs_list)"
   ]
  },
  {
   "cell_type": "code",
   "execution_count": 9,
   "metadata": {
    "collapsed": false
   },
   "outputs": [
    {
     "data": {
      "text/plain": [
       "401877"
      ]
     },
     "execution_count": 9,
     "metadata": {},
     "output_type": "execute_result"
    }
   ],
   "source": [
    "len(test_docs_list)"
   ]
  },
  {
   "cell_type": "code",
   "execution_count": 15,
   "metadata": {
    "collapsed": true
   },
   "outputs": [],
   "source": [
    "MIN_SIZE = 0\n",
    "NUMBER_INDICATOR = \"number_inidicator\"\n",
    "CURRENCY_INDICATOR = \"currency_inidicator\"\n",
    "CHEMICAL_INDICATOR = \"chemical_inidicator\""
   ]
  },
  {
   "cell_type": "code",
   "execution_count": 16,
   "metadata": {
    "collapsed": true
   },
   "outputs": [],
   "source": [
    "def stemtokenizer(text):\n",
    "    \"\"\" MAIN FUNCTION to get clean stems out of a text. A list of clean stems are returned \"\"\"\n",
    "    tokenizer = RegexpTokenizer(r'\\s+', gaps=True)\n",
    "    tokens = tokenizer.tokenize(text)\n",
    "    stems = []  # result\n",
    "    for token in tokens:\n",
    "        stem = token.lower()\n",
    "        stem = stem.strip(string.punctuation)\n",
    "        if stem:\n",
    "            if is_number(stem):\n",
    "                stem = NUMBER_INDICATOR\n",
    "            elif is_currency(stem):\n",
    "                stem = CURRENCY_INDICATOR\n",
    "            elif is_chemical(stem):\n",
    "                stem = CHEMICAL_INDICATOR\n",
    "            else:\n",
    "                stem = stem.strip(string.punctuation)\n",
    "            if stem and len(stem) >= MIN_SIZE:\n",
    "                # extract uni-grams\n",
    "                stems.append(stem)\n",
    "    del tokens\n",
    "    return stems\n",
    "\n",
    "def is_number(str):\n",
    "    \"\"\" Returns true if given string is a number (float or int)\"\"\"\n",
    "    try:\n",
    "        float(str.replace(\",\", \"\"))\n",
    "        return True\n",
    "    except ValueError:\n",
    "        return False\n",
    "\n",
    "def is_currency(str):\n",
    "    return str[0] == \"$\"\n",
    "\n",
    "def is_chemical(str):\n",
    "    return str.count(\"-\") > 3"
   ]
  },
  {
   "cell_type": "markdown",
   "metadata": {},
   "source": [
    "## Get Separate Training and Validation Data Files"
   ]
  },
  {
   "cell_type": "code",
   "execution_count": 11,
   "metadata": {
    "collapsed": false
   },
   "outputs": [],
   "source": [
    "BATCH_SIZE = 10000\n",
    "# TRAINING_PREPROCESSED_FILES_PREFIX = \"/mnt/data2/shalaby/training_docs_sample_%s_data_preprocessed-\" % str(SAMPLE_RATIO)\n",
    "# TRAINING_PREPROCESSED_DOCIDS_FILES_PREFIX = \"/mnt/data2/shalaby/training_docs_sample_%s_docids_preprocessed-\" % str(SAMPLE_RATIO)\n",
    "# VALIDATION_PREPROCESSED_FILES_PREFIX = \"/mnt/data2/shalaby/validation_docs_sample_%s_data_preprocessed-\" % str(SAMPLE_RATIO)\n",
    "# VALIDATION_PREPROCESSED_DOCIDS_FILES_PREFIX = \"/mnt/data2/shalaby/validation_docs_sample_%s_docids_preprocessed-\" % str(SAMPLE_RATIO)\n",
    "\n",
    "TRAINING_PREPROCESSED_FILES_PREFIX = \"/big/s/shalaby/preprocessed_data/training_docs_data_preprocessed-\"\n",
    "TRAINING_PREPROCESSED_DOCIDS_FILES_PREFIX = \"/big/s/shalaby/preprocessed_data/training_docs_docids_preprocessed-\"\n",
    "VALIDATION_PREPROCESSED_FILES_PREFIX = \"/big/s/shalaby/preprocessed_data/validation_docs_data_preprocessed-\"\n",
    "VALIDATION_PREPROCESSED_DOCIDS_FILES_PREFIX = \"/big/s/shalaby/preprocessed_data/validation_docs_docids_preprocessed-\"\n",
    "TEST_PREPROCESSED_FILES_PREFIX = \"/big/s/shalaby/preprocessed_data/test_docs_data_preprocessed-\"\n",
    "TEST_PREPROCESSED_DOCIDS_FILES_PREFIX = \"/big/s/shalaby/preprocessed_data/test_docs_docids_preprocessed-\"\n",
    "\n",
    "\n",
    "TRAINING_MERGED_PREPROCESSED_FILES_PREFIX = \"/big/s/shalaby/preprocessed_data/training_docs_merged_data_preprocessed-\"\n",
    "TRAINING_MERGED_PREPROCESSED_DOCIDS_FILES_PREFIX = \"/big/s/shalaby/preprocessed_data/training_docs_merged_docids_preprocessed-\"\n",
    "VALIDATION_MERGED_PREPROCESSED_FILES_PREFIX = \"/big/s/shalaby/preprocessed_data/validation_docs_merged_data_preprocessed-\"\n",
    "VALIDATION_MERGED_PREPROCESSED_DOCIDS_FILES_PREFIX = \"/big/s/shalaby/preprocessed_data/validation_docs_merged_docids_preprocessed-\"\n",
    "TEST_MERGED_PREPROCESSED_FILES_PREFIX = \"/big/s/shalaby/preprocessed_data/test_docs_merged_data_preprocessed-\"\n",
    "TEST_MERGED_PREPROCESSED_DOCIDS_FILES_PREFIX = \"/big/s/shalaby/preprocessed_data/test_docs_merged_docids_preprocessed-\""
   ]
  },
  {
   "cell_type": "code",
   "execution_count": 12,
   "metadata": {
    "collapsed": false
   },
   "outputs": [],
   "source": [
    "def write_batch(file_prefix, doc_files_prefix, batch_lines, doc_ids, batch_start):\n",
    "    if len(batch_lines):\n",
    "        print \"writing batch %d\" % batch_start\n",
    "        with open(file_prefix + str(batch_start), 'w') as batch_file:\n",
    "            for line in batch_lines:\n",
    "                batch_file.write((u\" \".join(line) + \"\\n\").encode('utf-8'))\n",
    "        pickle.dump(doc_ids, open(doc_files_prefix + str(batch_start), 'w'))\n"
   ]
  },
  {
   "cell_type": "markdown",
   "metadata": {},
   "source": [
    "Load Line Positions"
   ]
  },
  {
   "cell_type": "code",
   "execution_count": 13,
   "metadata": {
    "collapsed": true
   },
   "outputs": [],
   "source": [
    "line_positions = pickle.load(open(\"/big/s/shalaby/exported_data/line_positions.pkl\", \"r\"))"
   ]
  },
  {
   "cell_type": "markdown",
   "metadata": {},
   "source": [
    "Compute Line Positions"
   ]
  },
  {
   "cell_type": "code",
   "execution_count": 9,
   "metadata": {
    "collapsed": false,
    "scrolled": true
   },
   "outputs": [
    {
     "name": "stdout",
     "output_type": "stream",
     "text": [
      "CPU times: user 3min 54s, sys: 30.6 s, total: 4min 25s\n",
      "Wall time: 4min 53s\n"
     ]
    }
   ],
   "source": [
    "%%time\n",
    "line_positions = dict()\n",
    "with open(training_file) as f:\n",
    "    \n",
    "    i = 0\n",
    "    line_positions[i] = f.tell()\n",
    "    line = f.readline()\n",
    "    while line:\n",
    "        i+=1\n",
    "        if not line.strip(): continue\n",
    "        line_positions[i] = f.tell()\n",
    "        line = f.readline()\n",
    "    del line_positions[i]"
   ]
  },
  {
   "cell_type": "code",
   "execution_count": 12,
   "metadata": {
    "collapsed": true
   },
   "outputs": [],
   "source": [
    "pickle.dump(line_positions, open(\"/big/s/shalaby/exported_data/line_positions.pkl\", \"w\"))"
   ]
  },
  {
   "cell_type": "code",
   "execution_count": 14,
   "metadata": {
    "collapsed": false
   },
   "outputs": [
    {
     "data": {
      "text/plain": [
       "2009750"
      ]
     },
     "execution_count": 14,
     "metadata": {},
     "output_type": "execute_result"
    }
   ],
   "source": [
    "len(line_positions)"
   ]
  },
  {
   "cell_type": "markdown",
   "metadata": {},
   "source": [
    "# Training\n",
    "\n",
    "This will create uneven batches of documents, we need to run the following step to make it even"
   ]
  },
  {
   "cell_type": "code",
   "execution_count": 32,
   "metadata": {
    "collapsed": false
   },
   "outputs": [],
   "source": [
    "def multithreaded_batch_creation(start_index):\n",
    "\n",
    "    file_prefix = TRAINING_PREPROCESSED_FILES_PREFIX\n",
    "    doc_file_prefix = TRAINING_PREPROCESSED_DOCIDS_FILES_PREFIX\n",
    "    \n",
    "    if os.path.exists(file_prefix + str(start_index)):\n",
    "        info(\"Batch {} already exists, skipping..\".format(start_index))\n",
    "        return\n",
    "    \n",
    "    info(\"Batch creation working on {}\\n\".format(start_index))\n",
    "    with open(training_file) as file_obj:\n",
    "        file_obj.seek(line_positions[start_index])\n",
    "        token_lines, doc_ids = [], []\n",
    "        start_time = time.time()\n",
    "        for i, line in enumerate(file_obj):\n",
    "            (doc_id, text) = eval(line)\n",
    "            if doc_id in training_docs_list:\n",
    "                token_lines.append(stemtokenizer(text))\n",
    "                doc_ids.append(doc_id)\n",
    "                if len(token_lines) % 1000 == 0: info(len(token_lines))\n",
    "            if i >= BATCH_SIZE:\n",
    "                break\n",
    "    duration = time.time() - start_time\n",
    "    info(\"Finished batch of {:d} in {:.0f}m {:.0f}s\".format(BATCH_SIZE, *divmod(duration, 60)))\n",
    "    info(\"For index {}, the actual number of lines written is: {}\".format(start_index, len(token_lines)))\n",
    "    write_batch(file_prefix, doc_file_prefix, token_lines, doc_ids, start_index)\n",
    "    del token_lines\n",
    "    del doc_ids"
   ]
  },
  {
   "cell_type": "code",
   "execution_count": null,
   "metadata": {
    "collapsed": true
   },
   "outputs": [],
   "source": [
    "pool.close()\n",
    "pool.terminate()"
   ]
  },
  {
   "cell_type": "code",
   "execution_count": 35,
   "metadata": {
    "collapsed": false
   },
   "outputs": [
    {
     "data": {
      "text/plain": [
       "2010000"
      ]
     },
     "execution_count": 35,
     "metadata": {},
     "output_type": "execute_result"
    }
   ],
   "source": [
    "(divmod(len(line_positions), BATCH_SIZE)[0] +1) * BATCH_SIZE"
   ]
  },
  {
   "cell_type": "code",
   "execution_count": 36,
   "metadata": {
    "collapsed": false,
    "scrolled": false
   },
   "outputs": [
    {
     "name": "stderr",
     "output_type": "stream",
     "text": [
      "2017-01-03 20:05:40,516 : INFO : Batch 180000 already exists, skipping..\n",
      "2017-01-03 20:05:40,517 : INFO : Batch 240000 already exists, skipping..\n",
      "2017-01-03 20:05:40,517 : INFO : Batch 120000 already exists, skipping..\n",
      "2017-01-03 20:05:40,517 : INFO : Batch 420000 already exists, skipping..\n",
      "2017-01-03 20:05:40,517 : INFO : Batch 480000 already exists, skipping..\n",
      "2017-01-03 20:05:40,521 : INFO : Batch 190000 already exists, skipping..\n",
      "2017-01-03 20:05:40,522 : INFO : Batch 130000 already exists, skipping..\n",
      "2017-01-03 20:05:40,522 : INFO : Batch 430000 already exists, skipping..\n",
      "2017-01-03 20:05:40,517 : INFO : Batch 0 already exists, skipping..\n",
      "2017-01-03 20:05:40,521 : INFO : Batch 60000 already exists, skipping..\n",
      "2017-01-03 20:05:40,516 : INFO : Batch 540000 already exists, skipping..\n",
      "2017-01-03 20:05:40,519 : INFO : Batch 360000 already exists, skipping..\n",
      "2017-01-03 20:05:40,522 : INFO : Batch 490000 already exists, skipping..\n",
      "2017-01-03 20:05:40,523 : INFO : Batch 200000 already exists, skipping..\n",
      "2017-01-03 20:05:40,519 : INFO : Batch 300000 already exists, skipping..\n",
      "2017-01-03 20:05:40,522 : INFO : Batch 250000 already exists, skipping..\n",
      "2017-01-03 20:05:40,524 : INFO : Batch 140000 already exists, skipping..\n",
      "2017-01-03 20:05:40,524 : INFO : Batch 440000 already exists, skipping..\n",
      "2017-01-03 20:05:40,525 : INFO : Batch 10000 already exists, skipping..\n",
      "2017-01-03 20:05:40,525 : INFO : Batch 370000 already exists, skipping..\n",
      "2017-01-03 20:05:40,526 : INFO : Batch 260000 already exists, skipping..\n",
      "2017-01-03 20:05:40,525 : INFO : Batch 550000 already exists, skipping..\n",
      "2017-01-03 20:05:40,527 : INFO : Batch 210000 already exists, skipping..\n",
      "2017-01-03 20:05:40,527 : INFO : Batch 310000 already exists, skipping..\n",
      "2017-01-03 20:05:40,526 : INFO : Batch 450000 already exists, skipping..\n",
      "2017-01-03 20:05:40,526 : INFO : Batch 70000 already exists, skipping..\n",
      "2017-01-03 20:05:40,525 : INFO : Batch 500000 already exists, skipping..\n",
      "2017-01-03 20:05:40,527 : INFO : Batch 20000 already exists, skipping..\n",
      "2017-01-03 20:05:40,529 : INFO : Batch 270000 already exists, skipping..\n",
      "2017-01-03 20:05:40,529 : INFO : Batch 220000 already exists, skipping..\n",
      "2017-01-03 20:05:40,529 : INFO : Batch 320000 already exists, skipping..\n",
      "2017-01-03 20:05:40,529 : INFO : Batch 460000 already exists, skipping..\n",
      "2017-01-03 20:05:40,528 : INFO : Batch 380000 already exists, skipping..\n",
      "2017-01-03 20:05:40,528 : INFO : Batch 560000 already exists, skipping..\n",
      "2017-01-03 20:05:40,531 : INFO : Batch 280000 already exists, skipping..\n",
      "2017-01-03 20:05:40,528 : INFO : Batch 150000 already exists, skipping..\n",
      "2017-01-03 20:05:40,530 : INFO : Batch 510000 already exists, skipping..\n",
      "2017-01-03 20:05:40,531 : INFO : Batch 30000 already exists, skipping..\n",
      "2017-01-03 20:05:40,529 : INFO : Batch 80000 already exists, skipping..\n",
      "2017-01-03 20:05:40,531 : INFO : Batch 330000 already exists, skipping..\n",
      "2017-01-03 20:05:40,531 : INFO : Batch 470000 already exists, skipping..\n",
      "2017-01-03 20:05:40,533 : INFO : Batch 160000 already exists, skipping..\n",
      "2017-01-03 20:05:40,533 : INFO : Batch 570000 already exists, skipping..\n",
      "2017-01-03 20:05:40,533 : INFO : Batch 40000 already exists, skipping..\n",
      "2017-01-03 20:05:40,533 : INFO : Batch 90000 already exists, skipping..\n",
      "2017-01-03 20:05:40,534 : INFO : Batch 230000 already exists, skipping..\n",
      "2017-01-03 20:05:40,534 : INFO : Batch 290000 already exists, skipping..\n",
      "2017-01-03 20:05:40,534 : INFO : Batch 170000 already exists, skipping..\n",
      "2017-01-03 20:05:40,535 : INFO : Batch 50000 already exists, skipping..\n",
      "2017-01-03 20:05:40,534 : INFO : Batch 340000 already exists, skipping..\n",
      "2017-01-03 20:05:40,535 : INFO : Batch 600000 already exists, skipping..\n",
      "2017-01-03 20:05:40,535 : INFO : Batch 100000 already exists, skipping..\n",
      "2017-01-03 20:05:40,532 : INFO : Batch 390000 already exists, skipping..\n",
      "2017-01-03 20:05:40,535 : INFO : Batch 580000 already exists, skipping..\n",
      "2017-01-03 20:05:40,536 : INFO : Batch 780000 already exists, skipping..\n",
      "2017-01-03 20:05:40,534 : INFO : Batch 520000 already exists, skipping..\n",
      "2017-01-03 20:05:40,535 : INFO : Batch 660000 already exists, skipping..\n",
      "2017-01-03 20:05:40,537 : INFO : Batch 350000 already exists, skipping..\n",
      "2017-01-03 20:05:40,537 : INFO : Batch 400000 already exists, skipping..\n",
      "2017-01-03 20:05:40,538 : INFO : Batch 790000 already exists, skipping..\n",
      "2017-01-03 20:05:40,538 : INFO : Batch 610000 already exists, skipping..\n",
      "2017-01-03 20:05:40,539 : INFO : Batch 900000 already exists, skipping..\n",
      "2017-01-03 20:05:40,539 : INFO : Batch 410000 already exists, skipping..\n",
      "2017-01-03 20:05:40,539 : INFO : Batch 800000 already exists, skipping..\n",
      "2017-01-03 20:05:40,539 : INFO : Batch 110000 already exists, skipping..\n",
      "2017-01-03 20:05:40,537 : INFO : Batch 530000 already exists, skipping..\n",
      "2017-01-03 20:05:40,539 : INFO : Batch 840000 already exists, skipping..\n",
      "2017-01-03 20:05:40,536 : INFO : Batch 720000 already exists, skipping..\n",
      "2017-01-03 20:05:40,539 : INFO : Batch 670000 already exists, skipping..\n",
      "2017-01-03 20:05:40,540 : INFO : Batch 620000 already exists, skipping..\n",
      "2017-01-03 20:05:40,541 : INFO : Batch 850000 already exists, skipping..\n",
      "2017-01-03 20:05:40,542 : INFO : Batch 810000 already exists, skipping..\n",
      "2017-01-03 20:05:40,541 : INFO : Batch 910000 already exists, skipping..\n",
      "2017-01-03 20:05:40,542 : INFO : Batch 1020000 already exists, skipping..\n",
      "2017-01-03 20:05:40,541 : INFO : Batch 960000 already exists, skipping..\n",
      "2017-01-03 20:05:40,541 : INFO : Batch 590000 already exists, skipping..\n",
      "2017-01-03 20:05:40,543 : INFO : Batch 860000 already exists, skipping..\n",
      "2017-01-03 20:05:40,543 : INFO : Batch 820000 already exists, skipping..\n",
      "2017-01-03 20:05:40,542 : INFO : Batch 680000 already exists, skipping..\n",
      "2017-01-03 20:05:40,543 : INFO : Batch 920000 already exists, skipping..\n",
      "2017-01-03 20:05:40,542 : INFO : Batch 730000 already exists, skipping..\n",
      "2017-01-03 20:05:40,544 : INFO : Batch 1030000 already exists, skipping..\n",
      "2017-01-03 20:05:40,544 : INFO : Batch 970000 already exists, skipping..\n",
      "2017-01-03 20:05:40,545 : INFO : Batch 690000 already exists, skipping..\n",
      "2017-01-03 20:05:40,545 : INFO : Batch 930000 already exists, skipping..\n",
      "2017-01-03 20:05:40,545 : INFO : Batch 740000 already exists, skipping..\n",
      "2017-01-03 20:05:40,546 : INFO : Batch 1040000 already exists, skipping..\n",
      "2017-01-03 20:05:40,546 : INFO : Batch 980000 already exists, skipping..\n",
      "2017-01-03 20:05:40,546 : INFO : Batch 700000 already exists, skipping..\n",
      "2017-01-03 20:05:40,544 : INFO : Batch 630000 already exists, skipping..\n",
      "2017-01-03 20:05:40,545 : INFO : Batch 830000 already exists, skipping..\n",
      "2017-01-03 20:05:40,546 : INFO : Batch 870000 already exists, skipping..\n",
      "2017-01-03 20:05:40,548 : INFO : Batch 1050000 already exists, skipping..\n",
      "2017-01-03 20:05:40,547 : INFO : Batch 940000 already exists, skipping..\n",
      "2017-01-03 20:05:40,544 : INFO : Batch 1140000 already exists, skipping..\n",
      "2017-01-03 20:05:40,548 : INFO : Batch 990000 already exists, skipping..\n",
      "2017-01-03 20:05:40,543 : INFO : Batch 1080000 already exists, skipping..\n",
      "2017-01-03 20:05:40,548 : INFO : Batch 710000 already exists, skipping..\n",
      "2017-01-03 20:05:40,549 : INFO : Batch 1060000 already exists, skipping..\n",
      "2017-01-03 20:05:40,549 : INFO : Batch 1200000 already exists, skipping..\n",
      "2017-01-03 20:05:40,550 : INFO : Batch 1090000 already exists, skipping..\n",
      "2017-01-03 20:05:40,550 : INFO : Batch 1000000 already exists, skipping..\n",
      "2017-01-03 20:05:40,551 : INFO : Batch 1260000 already exists, skipping..\n",
      "2017-01-03 20:05:40,549 : INFO : Batch 950000 already exists, skipping..\n",
      "2017-01-03 20:05:40,551 : INFO : Batch 1070000 already exists, skipping..\n",
      "2017-01-03 20:05:40,551 : INFO : Batch 1210000 already exists, skipping..\n",
      "2017-01-03 20:05:40,550 : INFO : Batch 1150000 already exists, skipping..\n",
      "2017-01-03 20:05:40,548 : INFO : Batch 750000 already exists, skipping..\n",
      "2017-01-03 20:05:40,549 : INFO : Batch 640000 already exists, skipping..\n",
      "2017-01-03 20:05:40,553 : INFO : Batch 1320000 already exists, skipping..\n",
      "2017-01-03 20:05:40,553 : INFO : Batch 1220000 already exists, skipping..\n",
      "2017-01-03 20:05:40,552 : INFO : Batch 1010000 already exists, skipping..\n",
      "2017-01-03 20:05:40,553 : INFO : Batch 1380000 already exists, skipping..\n",
      "2017-01-03 20:05:40,552 : INFO : Batch 1270000 already exists, skipping..\n",
      "2017-01-03 20:05:40,553 : INFO : Batch 760000 already exists, skipping..\n",
      "2017-01-03 20:05:40,553 : INFO : Batch 650000 already exists, skipping..\n",
      "2017-01-03 20:05:40,554 : INFO : Batch 1330000 already exists, skipping..\n",
      "2017-01-03 20:05:40,555 : INFO : Batch 1230000 already exists, skipping..\n",
      "2017-01-03 20:05:40,554 : INFO : Batch 880000 already exists, skipping..\n",
      "2017-01-03 20:05:40,555 : INFO : Batch 1280000 already exists, skipping..\n",
      "2017-01-03 20:05:40,556 : INFO : Batch 1340000 already exists, skipping..\n",
      "2017-01-03 20:05:40,553 : INFO : Batch 1100000 already exists, skipping..\n",
      "2017-01-03 20:05:40,556 : INFO : Batch 1240000 already exists, skipping..\n",
      "2017-01-03 20:05:40,555 : INFO : Batch 1440000 already exists, skipping..\n",
      "2017-01-03 20:05:40,556 : INFO : Batch 1390000 already exists, skipping..\n",
      "2017-01-03 20:05:40,557 : INFO : Batch 1500000 already exists, skipping..\n",
      "2017-01-03 20:05:40,558 : INFO : Batch 1350000 already exists, skipping..\n",
      "2017-01-03 20:05:40,558 : INFO : Batch 1290000 already exists, skipping..\n",
      "2017-01-03 20:05:40,558 : INFO : Batch 1110000 already exists, skipping..\n",
      "2017-01-03 20:05:40,558 : INFO : Batch 1250000 already exists, skipping..\n",
      "2017-01-03 20:05:40,559 : INFO : Batch 1450000 already exists, skipping..\n",
      "2017-01-03 20:05:40,559 : INFO : Batch 1400000 already exists, skipping..\n",
      "2017-01-03 20:05:40,557 : INFO : Batch 1160000 already exists, skipping..\n",
      "2017-01-03 20:05:40,560 : INFO : Batch 1360000 already exists, skipping..\n",
      "2017-01-03 20:05:40,560 : INFO : Batch 1460000 already exists, skipping..\n",
      "2017-01-03 20:05:40,555 : INFO : Batch 770000 already exists, skipping..\n",
      "2017-01-03 20:05:40,560 : INFO : Batch 1410000 already exists, skipping..\n",
      "2017-01-03 20:05:40,561 : INFO : Batch 1510000 already exists, skipping..\n",
      "2017-01-03 20:05:40,561 : INFO : Batch 1560000 already exists, skipping..\n",
      "2017-01-03 20:05:40,561 : INFO : Batch 890000 already exists, skipping..\n",
      "2017-01-03 20:05:40,562 : INFO : Batch 1470000 already exists, skipping..\n",
      "2017-01-03 20:05:40,563 : INFO : Batch 1370000 already exists, skipping..\n",
      "2017-01-03 20:05:40,563 : INFO : Batch 1570000 already exists, skipping..\n",
      "2017-01-03 20:05:40,563 : INFO : Batch 1520000 already exists, skipping..\n",
      "2017-01-03 20:05:40,562 : INFO : Batch 1620000 already exists, skipping..\n",
      "2017-01-03 20:05:40,559 : INFO : Batch 1120000 already exists, skipping..\n",
      "2017-01-03 20:05:40,559 : INFO : Batch 1300000 already exists, skipping..\n",
      "2017-01-03 20:05:40,562 : INFO : Batch 1420000 already exists, skipping..\n",
      "2017-01-03 20:05:40,565 : INFO : Batch 1740000 already exists, skipping..\n",
      "2017-01-03 20:05:40,565 : INFO : Batch 1170000 already exists, skipping..\n",
      "2017-01-03 20:05:40,565 : INFO : Batch 1310000 already exists, skipping..\n",
      "2017-01-03 20:05:40,566 : INFO : Batch 1430000 already exists, skipping..\n",
      "2017-01-03 20:05:40,564 : INFO : Batch 1680000 already exists, skipping..\n",
      "2017-01-03 20:05:40,566 : INFO : Batch 1750000 already exists, skipping..\n",
      "2017-01-03 20:05:40,567 : INFO : Batch 1860000 already exists, skipping..\n",
      "2017-01-03 20:05:40,567 : INFO : Batch 1800000 already exists, skipping..\n",
      "2017-01-03 20:05:40,567 : INFO : Batch 1690000 already exists, skipping..\n",
      "2017-01-03 20:05:40,565 : INFO : Batch 1530000 already exists, skipping..\n",
      "2017-01-03 20:05:40,564 : INFO : Batch 1480000 already exists, skipping..\n",
      "2017-01-03 20:05:40,565 : INFO : Batch 1580000 already exists, skipping..\n",
      "2017-01-03 20:05:40,565 : INFO : Batch 1630000 already exists, skipping..\n",
      "2017-01-03 20:05:40,565 : INFO : Batch 1130000 already exists, skipping..\n",
      "2017-01-03 20:05:40,569 : INFO : Batch 1760000 already exists, skipping..\n",
      "2017-01-03 20:05:40,570 : INFO : Batch 1700000 already exists, skipping..\n",
      "2017-01-03 20:05:40,570 : INFO : Batch 1870000 already exists, skipping..\n",
      "2017-01-03 20:05:40,570 : INFO : Batch 1490000 already exists, skipping..\n",
      "2017-01-03 20:05:40,570 : INFO : Batch 1590000 already exists, skipping..\n",
      "2017-01-03 20:05:40,571 : INFO : Batch 1540000 already exists, skipping..\n",
      "2017-01-03 20:05:40,570 : INFO : Batch 1770000 already exists, skipping..\n",
      "2017-01-03 20:05:40,572 : INFO : Batch 1710000 already exists, skipping..\n",
      "2017-01-03 20:05:40,570 : INFO : Batch 1920000 already exists, skipping..\n",
      "2017-01-03 20:05:40,571 : INFO : Batch 1880000 already exists, skipping..\n",
      "2017-01-03 20:05:40,572 : INFO : Batch 1980000 already exists, skipping..\n",
      "2017-01-03 20:05:40,573 : INFO : Batch 1180000 already exists, skipping..\n",
      "2017-01-03 20:05:40,571 : INFO : Batch 1640000 already exists, skipping..\n",
      "2017-01-03 20:05:40,570 : INFO : Batch 1810000 already exists, skipping..\n",
      "2017-01-03 20:05:40,574 : INFO : Batch 1550000 already exists, skipping..\n",
      "2017-01-03 20:05:40,573 : INFO : Batch 1600000 already exists, skipping..\n",
      "2017-01-03 20:05:40,575 : INFO : Batch 1990000 already exists, skipping..\n",
      "2017-01-03 20:05:40,574 : INFO : Batch 1720000 already exists, skipping..\n",
      "2017-01-03 20:05:40,575 : INFO : Batch 1610000 already exists, skipping..\n",
      "2017-01-03 20:05:40,575 : INFO : Batch 1930000 already exists, skipping..\n",
      "2017-01-03 20:05:40,577 : INFO : Batch creation working on 2000000\n",
      "\n",
      "2017-01-03 20:05:40,577 : INFO : Batch 1820000 already exists, skipping..\n",
      "2017-01-03 20:05:40,576 : INFO : Batch 1890000 already exists, skipping..\n",
      "2017-01-03 20:05:40,576 : INFO : Batch 1730000 already exists, skipping..\n",
      "2017-01-03 20:05:40,574 : INFO : Batch 1780000 already exists, skipping..\n",
      "2017-01-03 20:05:40,577 : INFO : Batch 1940000 already exists, skipping..\n",
      "2017-01-03 20:05:40,578 : INFO : Batch 1830000 already exists, skipping..\n",
      "2017-01-03 20:05:40,578 : INFO : Batch 1900000 already exists, skipping..\n",
      "2017-01-03 20:05:40,581 : INFO : Batch 1650000 already exists, skipping..\n",
      "2017-01-03 20:05:40,577 : INFO : Batch 1190000 already exists, skipping..\n",
      "2017-01-03 20:05:40,580 : INFO : Batch 1950000 already exists, skipping..\n",
      "2017-01-03 20:05:40,579 : INFO : Batch 1790000 already exists, skipping..\n",
      "2017-01-03 20:05:40,580 : INFO : Batch 1910000 already exists, skipping..\n",
      "2017-01-03 20:05:40,586 : INFO : Batch 1960000 already exists, skipping..\n",
      "2017-01-03 20:05:40,580 : INFO : Batch 1840000 already exists, skipping..\n",
      "2017-01-03 20:05:40,585 : INFO : Batch 1660000 already exists, skipping..\n",
      "2017-01-03 20:05:40,589 : INFO : Batch 1850000 already exists, skipping..\n",
      "2017-01-03 20:05:40,589 : INFO : Batch 1670000 already exists, skipping..\n",
      "2017-01-03 20:05:40,589 : INFO : Batch 1970000 already exists, skipping..\n",
      "2017-01-03 20:08:25,467 : INFO : 1000\n",
      "2017-01-03 20:11:15,362 : INFO : 2000\n",
      "2017-01-03 20:14:07,084 : INFO : 3000\n",
      "2017-01-03 20:16:53,977 : INFO : 4000\n",
      "2017-01-03 20:19:41,947 : INFO : 5000\n",
      "2017-01-03 20:22:26,621 : INFO : 6000\n",
      "2017-01-03 20:23:10,376 : INFO : Finished batch of 10000 in 17m 30s\n",
      "2017-01-03 20:23:10,378 : INFO : For index 2000000, the actual number of lines written is: 6279\n"
     ]
    },
    {
     "name": "stdout",
     "output_type": "stream",
     "text": [
      "writing batch 2000000\n"
     ]
    }
   ],
   "source": [
    "pool = ThreadPool(10)\n",
    "# +1 since range is end-exclusive\n",
    "batches = range(0, (divmod(len(line_positions), BATCH_SIZE)[0] + 1) * BATCH_SIZE, BATCH_SIZE )\n",
    "indices = pool.map(multithreaded_batch_creation, batches)"
   ]
  },
  {
   "cell_type": "markdown",
   "metadata": {},
   "source": [
    "### Join up the files we wrote to form BATCH_SIZE block files"
   ]
  },
  {
   "cell_type": "code",
   "execution_count": 50,
   "metadata": {
    "collapsed": false
   },
   "outputs": [
    {
     "name": "stderr",
     "output_type": "stream",
     "text": [
      "2017-01-04 02:25:14,695 : INFO : Reading new file for batch 10000\n",
      "2017-01-04 02:25:16,752 : INFO : Writing to a new file for batch 10000\n",
      "2017-01-04 02:25:27,313 : INFO : Reading new file for batch 20000\n",
      "2017-01-04 02:25:30,973 : INFO : Reading new file for batch 30000\n",
      "2017-01-04 02:25:31,467 : INFO : Writing to a new file for batch 20000\n",
      "2017-01-04 02:25:44,787 : INFO : Reading new file for batch 40000\n",
      "2017-01-04 02:25:48,578 : INFO : Writing to a new file for batch 30000\n",
      "2017-01-04 02:25:59,947 : INFO : Reading new file for batch 50000\n",
      "2017-01-04 02:26:04,004 : INFO : Reading new file for batch 60000\n",
      "2017-01-04 02:26:05,102 : INFO : Writing to a new file for batch 40000\n",
      "2017-01-04 02:26:17,433 : INFO : Reading new file for batch 70000\n",
      "2017-01-04 02:26:20,341 : INFO : Writing to a new file for batch 50000\n",
      "2017-01-04 02:26:31,509 : INFO : Reading new file for batch 80000\n",
      "2017-01-04 02:26:36,285 : INFO : Reading new file for batch 90000\n",
      "2017-01-04 02:26:37,758 : INFO : Writing to a new file for batch 60000\n",
      "2017-01-04 02:26:50,055 : INFO : Reading new file for batch 100000\n",
      "2017-01-04 02:26:50,769 : INFO : Writing to a new file for batch 70000\n",
      "2017-01-04 02:27:01,056 : INFO : Reading new file for batch 110000\n",
      "2017-01-04 02:27:01,756 : INFO : Reading new file for batch 120000\n",
      "2017-01-04 02:27:02,123 : INFO : Writing to a new file for batch 80000\n",
      "2017-01-04 02:27:11,993 : INFO : Reading new file for batch 130000\n",
      "2017-01-04 02:27:12,680 : INFO : Reading new file for batch 140000\n",
      "2017-01-04 02:27:12,789 : INFO : Writing to a new file for batch 90000\n",
      "2017-01-04 02:27:22,453 : INFO : Reading new file for batch 150000\n",
      "2017-01-04 02:27:22,834 : INFO : Writing to a new file for batch 100000\n",
      "2017-01-04 02:27:32,783 : INFO : Reading new file for batch 160000\n",
      "2017-01-04 02:27:33,288 : INFO : Reading new file for batch 170000\n",
      "2017-01-04 02:27:33,410 : INFO : Writing to a new file for batch 110000\n",
      "2017-01-04 02:27:42,727 : INFO : Reading new file for batch 180000\n",
      "2017-01-04 02:27:43,130 : INFO : Writing to a new file for batch 120000\n",
      "2017-01-04 02:27:52,215 : INFO : Reading new file for batch 190000\n",
      "2017-01-04 02:27:52,959 : INFO : Reading new file for batch 200000\n",
      "2017-01-04 02:27:53,185 : INFO : Writing to a new file for batch 130000\n",
      "2017-01-04 02:28:03,475 : INFO : Reading new file for batch 210000\n",
      "2017-01-04 02:28:04,144 : INFO : Writing to a new file for batch 140000\n",
      "2017-01-04 02:28:13,222 : INFO : Reading new file for batch 220000\n",
      "2017-01-04 02:28:13,887 : INFO : Reading new file for batch 230000\n",
      "2017-01-04 02:28:14,113 : INFO : Writing to a new file for batch 150000\n",
      "2017-01-04 02:28:23,954 : INFO : Reading new file for batch 240000\n",
      "2017-01-04 02:28:24,768 : INFO : Writing to a new file for batch 160000\n",
      "2017-01-04 02:28:34,633 : INFO : Reading new file for batch 250000\n",
      "2017-01-04 02:28:35,199 : INFO : Reading new file for batch 260000\n",
      "2017-01-04 02:28:35,889 : INFO : Writing to a new file for batch 170000\n",
      "2017-01-04 02:28:45,192 : INFO : Reading new file for batch 270000\n",
      "2017-01-04 02:28:46,133 : INFO : Reading new file for batch 280000\n",
      "2017-01-04 02:28:46,288 : INFO : Writing to a new file for batch 180000\n",
      "2017-01-04 02:28:56,167 : INFO : Reading new file for batch 290000\n",
      "2017-01-04 02:28:57,143 : INFO : Writing to a new file for batch 190000\n",
      "2017-01-04 02:29:07,729 : INFO : Reading new file for batch 300000\n",
      "2017-01-04 02:29:08,977 : INFO : Reading new file for batch 310000\n",
      "2017-01-04 02:29:09,302 : INFO : Writing to a new file for batch 200000\n",
      "2017-01-04 02:29:20,392 : INFO : Reading new file for batch 320000\n",
      "2017-01-04 02:29:21,239 : INFO : Writing to a new file for batch 210000\n",
      "2017-01-04 02:29:30,582 : INFO : Reading new file for batch 330000\n",
      "2017-01-04 02:29:31,499 : INFO : Reading new file for batch 340000\n",
      "2017-01-04 02:29:31,822 : INFO : Writing to a new file for batch 220000\n",
      "2017-01-04 02:29:42,557 : INFO : Reading new file for batch 350000\n",
      "2017-01-04 02:29:44,190 : INFO : Writing to a new file for batch 230000\n",
      "2017-01-04 02:29:53,411 : INFO : Reading new file for batch 360000\n",
      "2017-01-04 02:29:55,139 : INFO : Reading new file for batch 370000\n",
      "2017-01-04 02:29:55,730 : INFO : Writing to a new file for batch 240000\n",
      "2017-01-04 02:30:05,792 : INFO : Reading new file for batch 380000\n",
      "2017-01-04 02:30:07,367 : INFO : Reading new file for batch 390000\n",
      "2017-01-04 02:30:07,616 : INFO : Writing to a new file for batch 250000\n",
      "2017-01-04 02:30:18,798 : INFO : Reading new file for batch 400000\n",
      "2017-01-04 02:30:19,852 : INFO : Writing to a new file for batch 260000\n",
      "2017-01-04 02:30:30,086 : INFO : Reading new file for batch 410000\n",
      "2017-01-04 02:30:31,627 : INFO : Reading new file for batch 420000\n",
      "2017-01-04 02:30:31,972 : INFO : Writing to a new file for batch 270000\n",
      "2017-01-04 02:30:42,412 : INFO : Reading new file for batch 430000\n",
      "2017-01-04 02:30:42,949 : INFO : Writing to a new file for batch 280000\n",
      "2017-01-04 02:30:52,469 : INFO : Reading new file for batch 440000\n",
      "2017-01-04 02:30:53,705 : INFO : Reading new file for batch 450000\n",
      "2017-01-04 02:30:54,094 : INFO : Writing to a new file for batch 290000\n",
      "2017-01-04 02:31:03,968 : INFO : Reading new file for batch 460000\n",
      "2017-01-04 02:31:05,084 : INFO : Writing to a new file for batch 300000\n",
      "2017-01-04 02:31:14,836 : INFO : Reading new file for batch 470000\n",
      "2017-01-04 02:31:15,734 : INFO : Reading new file for batch 480000\n",
      "2017-01-04 02:31:16,240 : INFO : Writing to a new file for batch 310000\n",
      "2017-01-04 02:31:26,428 : INFO : Reading new file for batch 490000\n",
      "2017-01-04 02:31:27,566 : INFO : Writing to a new file for batch 320000\n",
      "2017-01-04 02:31:37,640 : INFO : Reading new file for batch 500000\n",
      "2017-01-04 02:31:39,092 : INFO : Reading new file for batch 510000\n",
      "2017-01-04 02:31:40,144 : INFO : Writing to a new file for batch 330000\n",
      "2017-01-04 02:31:50,587 : INFO : Reading new file for batch 520000\n",
      "2017-01-04 02:31:52,898 : INFO : Reading new file for batch 530000\n",
      "2017-01-04 02:31:53,050 : INFO : Writing to a new file for batch 340000\n",
      "2017-01-04 02:32:03,819 : INFO : Reading new file for batch 540000\n",
      "2017-01-04 02:32:04,788 : INFO : Writing to a new file for batch 350000\n",
      "2017-01-04 02:32:14,287 : INFO : Reading new file for batch 550000\n",
      "2017-01-04 02:32:16,146 : INFO : Reading new file for batch 560000\n",
      "2017-01-04 02:32:16,517 : INFO : Writing to a new file for batch 360000\n",
      "2017-01-04 02:32:27,317 : INFO : Reading new file for batch 570000\n",
      "2017-01-04 02:32:27,944 : INFO : Writing to a new file for batch 370000\n",
      "2017-01-04 02:32:38,446 : INFO : Reading new file for batch 580000\n",
      "2017-01-04 02:32:39,859 : INFO : Reading new file for batch 590000\n",
      "2017-01-04 02:32:40,109 : INFO : Writing to a new file for batch 380000\n",
      "2017-01-04 02:32:50,656 : INFO : Reading new file for batch 600000\n",
      "2017-01-04 02:32:51,785 : INFO : Writing to a new file for batch 390000\n",
      "2017-01-04 02:33:02,148 : INFO : Reading new file for batch 610000\n",
      "2017-01-04 02:33:04,351 : INFO : Reading new file for batch 620000\n",
      "2017-01-04 02:33:05,177 : INFO : Writing to a new file for batch 400000\n",
      "2017-01-04 02:33:15,062 : INFO : Reading new file for batch 630000\n",
      "2017-01-04 02:33:16,987 : INFO : Reading new file for batch 640000\n",
      "2017-01-04 02:33:17,116 : INFO : Writing to a new file for batch 410000\n",
      "2017-01-04 02:33:28,633 : INFO : Reading new file for batch 650000\n",
      "2017-01-04 02:33:30,061 : INFO : Writing to a new file for batch 420000\n",
      "2017-01-04 02:33:40,588 : INFO : Reading new file for batch 660000\n",
      "2017-01-04 02:33:42,490 : INFO : Reading new file for batch 670000\n",
      "2017-01-04 02:33:42,917 : INFO : Writing to a new file for batch 430000\n",
      "2017-01-04 02:33:54,392 : INFO : Reading new file for batch 680000\n",
      "2017-01-04 02:33:56,240 : INFO : Writing to a new file for batch 440000\n",
      "2017-01-04 02:34:07,507 : INFO : Reading new file for batch 690000\n",
      "2017-01-04 02:34:09,428 : INFO : Reading new file for batch 700000\n",
      "2017-01-04 02:34:10,145 : INFO : Writing to a new file for batch 450000\n",
      "2017-01-04 02:34:21,083 : INFO : Reading new file for batch 710000\n",
      "2017-01-04 02:34:22,569 : INFO : Writing to a new file for batch 460000\n",
      "2017-01-04 02:34:31,223 : INFO : Reading new file for batch 720000\n",
      "2017-01-04 02:34:33,293 : INFO : Reading new file for batch 730000\n",
      "2017-01-04 02:34:34,115 : INFO : Writing to a new file for batch 470000\n",
      "2017-01-04 02:34:43,591 : INFO : Reading new file for batch 740000\n",
      "2017-01-04 02:34:45,943 : INFO : Writing to a new file for batch 480000\n",
      "2017-01-04 02:34:53,538 : INFO : Reading new file for batch 750000\n",
      "2017-01-04 02:34:55,333 : INFO : Reading new file for batch 760000\n",
      "2017-01-04 02:34:56,524 : INFO : Writing to a new file for batch 490000\n",
      "2017-01-04 02:35:06,769 : INFO : Reading new file for batch 770000\n",
      "2017-01-04 02:35:08,937 : INFO : Reading new file for batch 780000\n",
      "2017-01-04 02:35:09,321 : INFO : Writing to a new file for batch 500000\n",
      "2017-01-04 02:35:20,427 : INFO : Reading new file for batch 790000\n",
      "2017-01-04 02:35:21,703 : INFO : Writing to a new file for batch 510000\n",
      "2017-01-04 02:35:31,384 : INFO : Reading new file for batch 800000\n",
      "2017-01-04 02:35:33,197 : INFO : Reading new file for batch 810000\n",
      "2017-01-04 02:35:33,728 : INFO : Writing to a new file for batch 520000\n",
      "2017-01-04 02:35:44,189 : INFO : Reading new file for batch 820000\n",
      "2017-01-04 02:35:46,140 : INFO : Writing to a new file for batch 530000\n",
      "2017-01-04 02:35:56,069 : INFO : Reading new file for batch 830000\n",
      "2017-01-04 02:35:59,031 : INFO : Reading new file for batch 840000\n",
      "2017-01-04 02:35:59,844 : INFO : Writing to a new file for batch 540000\n",
      "2017-01-04 02:36:10,594 : INFO : Reading new file for batch 850000\n",
      "2017-01-04 02:36:11,886 : INFO : Writing to a new file for batch 550000\n",
      "2017-01-04 02:36:20,798 : INFO : Reading new file for batch 860000\n",
      "2017-01-04 02:36:21,703 : INFO : Reading new file for batch 870000\n",
      "2017-01-04 02:36:22,263 : INFO : Writing to a new file for batch 560000\n",
      "2017-01-04 02:36:31,940 : INFO : Reading new file for batch 880000\n",
      "2017-01-04 02:36:33,349 : INFO : Reading new file for batch 890000\n",
      "2017-01-04 02:36:33,429 : INFO : Writing to a new file for batch 570000\n",
      "2017-01-04 02:36:44,477 : INFO : Reading new file for batch 900000\n",
      "2017-01-04 02:36:45,692 : INFO : Writing to a new file for batch 580000\n",
      "2017-01-04 02:36:55,180 : INFO : Reading new file for batch 910000\n",
      "2017-01-04 02:36:56,890 : INFO : Reading new file for batch 920000\n",
      "2017-01-04 02:36:57,210 : INFO : Writing to a new file for batch 590000\n",
      "2017-01-04 02:37:08,091 : INFO : Reading new file for batch 930000\n",
      "2017-01-04 02:37:09,575 : INFO : Writing to a new file for batch 600000\n",
      "2017-01-04 02:37:19,006 : INFO : Reading new file for batch 940000\n",
      "2017-01-04 02:37:20,908 : INFO : Reading new file for batch 950000\n",
      "2017-01-04 02:37:21,460 : INFO : Writing to a new file for batch 610000\n",
      "2017-01-04 02:37:30,917 : INFO : Reading new file for batch 960000\n",
      "2017-01-04 02:37:32,343 : INFO : Writing to a new file for batch 620000\n",
      "2017-01-04 02:37:41,845 : INFO : Reading new file for batch 970000\n",
      "2017-01-04 02:37:43,779 : INFO : Reading new file for batch 980000\n",
      "2017-01-04 02:37:44,605 : INFO : Writing to a new file for batch 630000\n",
      "2017-01-04 02:37:55,151 : INFO : Reading new file for batch 990000\n",
      "2017-01-04 02:37:57,346 : INFO : Writing to a new file for batch 640000\n",
      "2017-01-04 02:38:06,763 : INFO : Reading new file for batch 1000000\n",
      "2017-01-04 02:38:08,647 : INFO : Reading new file for batch 1010000\n",
      "2017-01-04 02:38:08,982 : INFO : Writing to a new file for batch 650000\n",
      "2017-01-04 02:38:18,886 : INFO : Reading new file for batch 1020000\n",
      "2017-01-04 02:38:20,223 : INFO : Reading new file for batch 1030000\n",
      "2017-01-04 02:38:20,355 : INFO : Writing to a new file for batch 660000\n",
      "2017-01-04 02:38:29,587 : INFO : Reading new file for batch 1040000\n",
      "2017-01-04 02:38:30,362 : INFO : Writing to a new file for batch 670000\n",
      "2017-01-04 02:38:39,911 : INFO : Reading new file for batch 1050000\n",
      "2017-01-04 02:38:42,306 : INFO : Reading new file for batch 1060000\n",
      "2017-01-04 02:38:42,871 : INFO : Writing to a new file for batch 680000\n",
      "2017-01-04 02:38:53,223 : INFO : Reading new file for batch 1070000\n",
      "2017-01-04 02:38:53,794 : INFO : Writing to a new file for batch 690000\n",
      "2017-01-04 02:39:02,133 : INFO : Reading new file for batch 1080000\n",
      "2017-01-04 02:39:02,774 : INFO : Reading new file for batch 1090000\n",
      "2017-01-04 02:39:03,092 : INFO : Writing to a new file for batch 700000\n",
      "2017-01-04 02:39:12,764 : INFO : Reading new file for batch 1100000\n",
      "2017-01-04 02:39:13,366 : INFO : Writing to a new file for batch 710000\n",
      "2017-01-04 02:39:23,250 : INFO : Reading new file for batch 1110000\n",
      "2017-01-04 02:39:23,841 : INFO : Reading new file for batch 1120000\n",
      "2017-01-04 02:39:24,171 : INFO : Writing to a new file for batch 720000\n",
      "2017-01-04 02:39:33,662 : INFO : Reading new file for batch 1130000\n",
      "2017-01-04 02:39:34,210 : INFO : Reading new file for batch 1140000\n",
      "2017-01-04 02:39:34,290 : INFO : Writing to a new file for batch 730000\n",
      "2017-01-04 02:39:43,800 : INFO : Reading new file for batch 1150000\n",
      "2017-01-04 02:39:44,258 : INFO : Writing to a new file for batch 740000\n",
      "2017-01-04 02:39:53,823 : INFO : Reading new file for batch 1160000\n",
      "2017-01-04 02:39:54,486 : INFO : Reading new file for batch 1170000\n",
      "2017-01-04 02:39:54,683 : INFO : Writing to a new file for batch 750000\n",
      "2017-01-04 02:40:04,986 : INFO : Reading new file for batch 1180000\n",
      "2017-01-04 02:40:05,459 : INFO : Writing to a new file for batch 760000\n",
      "2017-01-04 02:40:14,980 : INFO : Reading new file for batch 1190000\n",
      "2017-01-04 02:40:15,589 : INFO : Reading new file for batch 1200000\n",
      "2017-01-04 02:40:15,847 : INFO : Writing to a new file for batch 770000\n",
      "2017-01-04 02:40:25,327 : INFO : Reading new file for batch 1210000\n",
      "2017-01-04 02:40:25,939 : INFO : Writing to a new file for batch 780000\n",
      "2017-01-04 02:40:35,355 : INFO : Reading new file for batch 1220000\n",
      "2017-01-04 02:40:35,972 : INFO : Reading new file for batch 1230000\n",
      "2017-01-04 02:40:36,296 : INFO : Writing to a new file for batch 790000\n",
      "2017-01-04 02:40:45,756 : INFO : Reading new file for batch 1240000\n",
      "2017-01-04 02:40:46,339 : INFO : Writing to a new file for batch 800000\n",
      "2017-01-04 02:40:54,951 : INFO : Reading new file for batch 1250000\n",
      "2017-01-04 02:40:55,647 : INFO : Reading new file for batch 1260000\n",
      "2017-01-04 02:40:58,916 : INFO : Writing to a new file for batch 810000\n",
      "2017-01-04 02:41:10,175 : INFO : Reading new file for batch 1270000\n",
      "2017-01-04 02:41:14,973 : INFO : Reading new file for batch 1280000\n",
      "2017-01-04 02:41:15,608 : INFO : Writing to a new file for batch 820000\n",
      "2017-01-04 02:41:29,187 : INFO : Reading new file for batch 1290000\n",
      "2017-01-04 02:41:32,632 : INFO : Writing to a new file for batch 830000\n",
      "2017-01-04 02:41:42,995 : INFO : Reading new file for batch 1300000\n",
      "2017-01-04 02:41:47,748 : INFO : Reading new file for batch 1310000\n",
      "2017-01-04 02:41:49,022 : INFO : Writing to a new file for batch 840000\n",
      "2017-01-04 02:42:01,954 : INFO : Reading new file for batch 1320000\n",
      "2017-01-04 02:42:06,076 : INFO : Writing to a new file for batch 850000\n",
      "2017-01-04 02:42:15,934 : INFO : Reading new file for batch 1330000\n",
      "2017-01-04 02:42:20,556 : INFO : Reading new file for batch 1340000\n",
      "2017-01-04 02:42:22,061 : INFO : Writing to a new file for batch 860000\n",
      "2017-01-04 02:42:34,757 : INFO : Reading new file for batch 1350000\n",
      "2017-01-04 02:42:39,472 : INFO : Writing to a new file for batch 870000\n",
      "2017-01-04 02:42:49,567 : INFO : Reading new file for batch 1360000\n",
      "2017-01-04 02:42:54,515 : INFO : Reading new file for batch 1370000\n",
      "2017-01-04 02:42:56,820 : INFO : Writing to a new file for batch 880000\n",
      "2017-01-04 02:43:08,633 : INFO : Reading new file for batch 1380000\n",
      "2017-01-04 02:43:13,688 : INFO : Reading new file for batch 1390000\n",
      "2017-01-04 02:43:13,921 : INFO : Writing to a new file for batch 890000\n",
      "2017-01-04 02:43:27,757 : INFO : Reading new file for batch 1400000\n",
      "2017-01-04 02:43:30,860 : INFO : Writing to a new file for batch 900000\n",
      "2017-01-04 02:43:41,841 : INFO : Reading new file for batch 1410000\n",
      "2017-01-04 02:43:47,319 : INFO : Reading new file for batch 1420000\n",
      "2017-01-04 02:43:48,741 : INFO : Writing to a new file for batch 910000\n",
      "2017-01-04 02:44:03,168 : INFO : Reading new file for batch 1430000\n",
      "2017-01-04 02:44:06,618 : INFO : Writing to a new file for batch 920000\n",
      "2017-01-04 02:44:17,636 : INFO : Reading new file for batch 1440000\n",
      "2017-01-04 02:44:22,645 : INFO : Reading new file for batch 1450000\n",
      "2017-01-04 02:44:24,394 : INFO : Writing to a new file for batch 930000\n",
      "2017-01-04 02:44:37,025 : INFO : Reading new file for batch 1460000\n",
      "2017-01-04 02:44:41,337 : INFO : Writing to a new file for batch 940000\n",
      "2017-01-04 02:44:50,214 : INFO : Reading new file for batch 1470000\n",
      "2017-01-04 02:44:55,724 : INFO : Reading new file for batch 1480000\n",
      "2017-01-04 02:44:57,510 : INFO : Writing to a new file for batch 950000\n",
      "2017-01-04 02:45:09,907 : INFO : Reading new file for batch 1490000\n",
      "2017-01-04 02:45:14,816 : INFO : Writing to a new file for batch 960000\n",
      "2017-01-04 02:45:24,437 : INFO : Reading new file for batch 1500000\n",
      "2017-01-04 02:45:29,016 : INFO : Reading new file for batch 1510000\n",
      "2017-01-04 02:45:31,857 : INFO : Writing to a new file for batch 970000\n",
      "2017-01-04 02:45:42,538 : INFO : Reading new file for batch 1520000\n",
      "2017-01-04 02:45:44,679 : INFO : Reading new file for batch 1530000\n",
      "2017-01-04 02:45:45,579 : INFO : Writing to a new file for batch 980000\n",
      "2017-01-04 02:45:58,416 : INFO : Reading new file for batch 1540000\n",
      "2017-01-04 02:46:00,487 : INFO : Writing to a new file for batch 990000\n",
      "2017-01-04 02:46:10,305 : INFO : Reading new file for batch 1550000\n",
      "2017-01-04 02:46:15,512 : INFO : Reading new file for batch 1560000\n",
      "2017-01-04 02:46:17,084 : INFO : Writing to a new file for batch 1000000\n",
      "2017-01-04 02:46:30,152 : INFO : Reading new file for batch 1570000\n",
      "2017-01-04 02:46:30,604 : INFO : Writing to a new file for batch 1010000\n",
      "2017-01-04 02:46:39,245 : INFO : Reading new file for batch 1580000\n",
      "2017-01-04 02:46:41,830 : INFO : Reading new file for batch 1590000\n",
      "2017-01-04 02:46:42,081 : INFO : Writing to a new file for batch 1020000\n",
      "2017-01-04 02:46:51,710 : INFO : Reading new file for batch 1600000\n",
      "2017-01-04 02:46:56,829 : INFO : Writing to a new file for batch 1030000\n",
      "2017-01-04 02:47:06,009 : INFO : Reading new file for batch 1610000\n",
      "2017-01-04 02:47:11,612 : INFO : Reading new file for batch 1620000\n",
      "2017-01-04 02:47:14,352 : INFO : Writing to a new file for batch 1040000\n",
      "2017-01-04 02:47:25,278 : INFO : Reading new file for batch 1630000\n",
      "2017-01-04 02:47:25,902 : INFO : Reading new file for batch 1640000\n",
      "2017-01-04 02:47:26,287 : INFO : Writing to a new file for batch 1050000\n",
      "2017-01-04 02:47:40,508 : INFO : Reading new file for batch 1650000\n",
      "2017-01-04 02:47:43,631 : INFO : Writing to a new file for batch 1060000\n",
      "2017-01-04 02:47:53,683 : INFO : Reading new file for batch 1660000\n",
      "2017-01-04 02:47:58,662 : INFO : Reading new file for batch 1670000\n",
      "2017-01-04 02:47:59,971 : INFO : Writing to a new file for batch 1070000\n",
      "2017-01-04 02:48:13,049 : INFO : Reading new file for batch 1680000\n",
      "2017-01-04 02:48:13,489 : INFO : Writing to a new file for batch 1080000\n",
      "2017-01-04 02:48:22,932 : INFO : Reading new file for batch 1690000\n",
      "2017-01-04 02:48:23,634 : INFO : Reading new file for batch 1700000\n",
      "2017-01-04 02:48:25,491 : INFO : Writing to a new file for batch 1090000\n",
      "2017-01-04 02:48:37,751 : INFO : Reading new file for batch 1710000\n",
      "2017-01-04 02:48:43,424 : INFO : Writing to a new file for batch 1100000\n",
      "2017-01-04 02:48:53,107 : INFO : Reading new file for batch 1720000\n",
      "2017-01-04 02:48:58,627 : INFO : Reading new file for batch 1730000\n",
      "2017-01-04 02:48:59,047 : INFO : Writing to a new file for batch 1110000\n",
      "2017-01-04 02:49:08,678 : INFO : Reading new file for batch 1740000\n",
      "2017-01-04 02:49:09,283 : INFO : Reading new file for batch 1750000\n",
      "2017-01-04 02:49:09,589 : INFO : Writing to a new file for batch 1120000\n",
      "2017-01-04 02:49:23,943 : INFO : Reading new file for batch 1760000\n",
      "2017-01-04 02:49:27,107 : INFO : Writing to a new file for batch 1130000\n",
      "2017-01-04 02:49:38,176 : INFO : Reading new file for batch 1770000\n",
      "2017-01-04 02:49:38,880 : INFO : Reading new file for batch 1780000\n",
      "2017-01-04 02:49:38,975 : INFO : Writing to a new file for batch 1140000\n",
      "2017-01-04 02:49:48,418 : INFO : Reading new file for batch 1790000\n",
      "2017-01-04 02:49:48,816 : INFO : Writing to a new file for batch 1150000\n",
      "2017-01-04 02:49:57,948 : INFO : Reading new file for batch 1800000\n",
      "2017-01-04 02:50:03,390 : INFO : Reading new file for batch 1810000\n",
      "2017-01-04 02:50:05,086 : INFO : Writing to a new file for batch 1160000\n",
      "2017-01-04 02:50:17,843 : INFO : Reading new file for batch 1820000\n",
      "2017-01-04 02:50:21,226 : INFO : Writing to a new file for batch 1170000\n",
      "2017-01-04 02:50:30,609 : INFO : Reading new file for batch 1830000\n",
      "2017-01-04 02:50:35,812 : INFO : Reading new file for batch 1840000\n",
      "2017-01-04 02:50:36,018 : INFO : Writing to a new file for batch 1180000\n",
      "2017-01-04 02:50:44,886 : INFO : Reading new file for batch 1850000\n",
      "2017-01-04 02:50:50,044 : INFO : Writing to a new file for batch 1190000\n",
      "2017-01-04 02:50:59,612 : INFO : Reading new file for batch 1860000\n",
      "2017-01-04 02:51:04,123 : INFO : Reading new file for batch 1870000\n",
      "2017-01-04 02:51:05,069 : INFO : Writing to a new file for batch 1200000\n",
      "2017-01-04 02:51:14,296 : INFO : Reading new file for batch 1880000\n",
      "2017-01-04 02:51:14,949 : INFO : Reading new file for batch 1890000\n",
      "2017-01-04 02:51:15,201 : INFO : Writing to a new file for batch 1210000\n",
      "2017-01-04 02:51:25,086 : INFO : Reading new file for batch 1900000\n",
      "2017-01-04 02:51:28,236 : INFO : Writing to a new file for batch 1220000\n",
      "2017-01-04 02:51:38,966 : INFO : Reading new file for batch 1910000\n",
      "2017-01-04 02:51:44,364 : INFO : Reading new file for batch 1920000\n",
      "2017-01-04 02:51:45,156 : INFO : Writing to a new file for batch 1230000\n",
      "2017-01-04 02:51:57,938 : INFO : Reading new file for batch 1930000\n",
      "2017-01-04 02:51:59,758 : INFO : Writing to a new file for batch 1240000\n",
      "2017-01-04 02:52:08,560 : INFO : Reading new file for batch 1940000\n",
      "2017-01-04 02:52:13,779 : INFO : Reading new file for batch 1950000\n",
      "2017-01-04 02:52:15,082 : INFO : Writing to a new file for batch 1250000\n",
      "2017-01-04 02:52:27,427 : INFO : Reading new file for batch 1960000\n",
      "2017-01-04 02:52:31,646 : INFO : Writing to a new file for batch 1260000\n",
      "2017-01-04 02:52:42,798 : INFO : Reading new file for batch 1970000\n",
      "2017-01-04 02:52:48,100 : INFO : Reading new file for batch 1980000\n",
      "2017-01-04 02:52:50,188 : INFO : Writing to a new file for batch 1270000\n",
      "2017-01-04 02:53:02,526 : INFO : Reading new file for batch 1990000\n",
      "2017-01-04 02:53:07,732 : INFO : Writing to a new file for batch 1280000\n",
      "2017-01-04 02:53:16,410 : INFO : Reading new file for batch 2000000\n",
      "2017-01-04 02:53:21,179 : INFO : Reading new file for batch 2010000\n"
     ]
    }
   ],
   "source": [
    "curr_index = 0\n",
    "curr_read_file_index = 0\n",
    "curr_write_file_index = 0\n",
    "\n",
    "read_file = None\n",
    "write_file = None\n",
    "\n",
    "def read_line():\n",
    "    global read_file, curr_read_file_index\n",
    "    while True:\n",
    "        if read_file is None:\n",
    "            if os.path.exists(TRAINING_PREPROCESSED_FILES_PREFIX + str(curr_read_file_index)):\n",
    "                read_file = open(TRAINING_PREPROCESSED_FILES_PREFIX + str(curr_read_file_index), \"r\")\n",
    "            else: \n",
    "                raise StopIteration()\n",
    "        for line in read_file:\n",
    "            yield line\n",
    "            \n",
    "        curr_read_file_index += BATCH_SIZE\n",
    "        info(\"Reading new file for batch {}\".format(curr_read_file_index))\n",
    "        read_file.close()\n",
    "        read_file = None\n",
    "\n",
    "def write_line(line):\n",
    "    global write_file, curr_write_file_index, curr_index\n",
    "    if write_file is None:\n",
    "        write_file = open(TRAINING_MERGED_PREPROCESSED_FILES_PREFIX + str(curr_write_file_index), \"w\")\n",
    "    write_file.write(line)\n",
    "    curr_index += 1\n",
    "    if curr_index % BATCH_SIZE == 0:\n",
    "        curr_write_file_index += BATCH_SIZE\n",
    "        info(\"Writing to a new file for batch {}\".format(curr_write_file_index))\n",
    "        write_file.close()\n",
    "        write_file = None\n",
    "    \n",
    "\n",
    "for line in read_line():\n",
    "    write_line(line)"
   ]
  },
  {
   "cell_type": "markdown",
   "metadata": {},
   "source": [
    "#### Rearranging Docids files"
   ]
  },
  {
   "cell_type": "code",
   "execution_count": 60,
   "metadata": {
    "collapsed": false
   },
   "outputs": [],
   "source": [
    "all_doc_ids = []\n",
    "\n",
    "for i in range(0, 100000000, BATCH_SIZE):\n",
    "    if os.path.exists(TRAINING_PREPROCESSED_DOCIDS_FILES_PREFIX + str(i)):\n",
    "        doc_ids = pickle.load(open(TRAINING_PREPROCESSED_DOCIDS_FILES_PREFIX + str(i)))\n",
    "        all_doc_ids.extend(doc_ids)\n",
    "    else:\n",
    "        break\n",
    "        \n",
    "\n",
    "for i in range(0, 100000000, BATCH_SIZE):\n",
    "    if i < len(all_doc_ids):\n",
    "        pickle.dump(all_doc_ids[i: i + BATCH_SIZE], open(TRAINING_MERGED_PREPROCESSED_DOCIDS_FILES_PREFIX + str(i), \"w\"))\n",
    "    else:\n",
    "        break"
   ]
  },
  {
   "cell_type": "code",
   "execution_count": 59,
   "metadata": {
    "collapsed": false
   },
   "outputs": [
    {
     "data": {
      "text/plain": [
       "1286458"
      ]
     },
     "execution_count": 59,
     "metadata": {},
     "output_type": "execute_result"
    }
   ],
   "source": [
    "len(all_doc_ids)"
   ]
  },
  {
   "cell_type": "markdown",
   "metadata": {},
   "source": [
    "# Validation"
   ]
  },
  {
   "cell_type": "code",
   "execution_count": 63,
   "metadata": {
    "collapsed": true
   },
   "outputs": [],
   "source": [
    "def multithreaded_batch_creation(start_index):\n",
    "\n",
    "    file_prefix = VALIDATION_PREPROCESSED_FILES_PREFIX\n",
    "    doc_file_prefix = VALIDATION_PREPROCESSED_DOCIDS_FILES_PREFIX\n",
    "    \n",
    "    if os.path.exists(file_prefix + str(start_index)):\n",
    "        info(\"Batch {} already exists, skipping..\".format(start_index))\n",
    "        return\n",
    "    \n",
    "    info(\"Batch creation working on {}\\n\".format(start_index))\n",
    "    with open(training_file) as file_obj:\n",
    "        file_obj.seek(line_positions[start_index])\n",
    "        token_lines, doc_ids = [], []\n",
    "        start_time = time.time()\n",
    "        for i, line in enumerate(file_obj):\n",
    "            (doc_id, text) = eval(line)\n",
    "            if doc_id in validation_docs_list:\n",
    "                token_lines.append(stemtokenizer(text))\n",
    "                doc_ids.append(doc_id)\n",
    "                if len(token_lines) % 1000 == 0: info(len(token_lines))\n",
    "            if i >= BATCH_SIZE:\n",
    "                break\n",
    "    duration = time.time() - start_time\n",
    "    info(\"Finished batch of {:d} in {:.0f}m {:.0f}s\".format(BATCH_SIZE, *divmod(duration, 60)))\n",
    "    info(\"For index {}, the actual number of lines written is: {}\".format(start_index, len(token_lines)))\n",
    "    write_batch(file_prefix, doc_file_prefix, token_lines, doc_ids, start_index)\n",
    "    del token_lines\n",
    "    del doc_ids"
   ]
  },
  {
   "cell_type": "code",
   "execution_count": 64,
   "metadata": {
    "collapsed": false
   },
   "outputs": [
    {
     "name": "stderr",
     "output_type": "stream",
     "text": [
      "2017-01-04 04:12:22,405 : INFO : Batch creation working on 0\n",
      "\n",
      "2017-01-04 04:12:22,419 : INFO : Batch creation working on 300000\n",
      "\n",
      "2017-01-04 04:12:22,406 : INFO : Batch creation working on 180000\n",
      "\n",
      "2017-01-04 04:12:22,431 : INFO : Batch creation working on 60000\n",
      "\n",
      "2017-01-04 04:12:22,499 : INFO : Batch creation working on 120000\n",
      "\n",
      "2017-01-04 04:12:22,503 : INFO : Batch creation working on 420000\n",
      "\n",
      "2017-01-04 04:12:22,507 : INFO : Batch creation working on 480000\n",
      "\n",
      "2017-01-04 04:12:22,499 : INFO : Batch creation working on 240000\n",
      "\n",
      "2017-01-04 04:12:22,510 : INFO : Batch creation working on 540000\n",
      "\n",
      "2017-01-04 04:12:22,499 : INFO : Batch creation working on 360000\n",
      "\n",
      "2017-01-04 04:19:00,955 : INFO : 1000\n",
      "2017-01-04 04:19:04,784 : INFO : 1000\n",
      "2017-01-04 04:19:05,780 : INFO : 1000\n",
      "2017-01-04 04:19:17,581 : INFO : 1000\n",
      "2017-01-04 04:19:22,408 : INFO : 1000\n",
      "2017-01-04 04:19:22,974 : INFO : 1000\n",
      "2017-01-04 04:19:26,641 : INFO : 1000\n",
      "2017-01-04 04:19:33,416 : INFO : 1000\n",
      "2017-01-04 04:21:05,734 : INFO : 1000\n",
      "2017-01-04 04:21:11,008 : INFO : 1000\n",
      "2017-01-04 04:23:13,699 : INFO : Finished batch of 10000 in 10m 51s\n",
      "2017-01-04 04:23:13,702 : INFO : For index 540000, the actual number of lines written is: 1642\n"
     ]
    },
    {
     "name": "stdout",
     "output_type": "stream",
     "text": [
      "writing batch 540000\n"
     ]
    },
    {
     "name": "stderr",
     "output_type": "stream",
     "text": [
      "2017-01-04 04:23:16,265 : INFO : Finished batch of 10000 in 10m 54s\n",
      "2017-01-04 04:23:16,273 : INFO : For index 180000, the actual number of lines written is: 1556\n"
     ]
    },
    {
     "name": "stdout",
     "output_type": "stream",
     "text": [
      "writing batch 180000\n"
     ]
    },
    {
     "name": "stderr",
     "output_type": "stream",
     "text": [
      "2017-01-04 04:23:17,067 : INFO : Finished batch of 10000 in 10m 55s\n",
      "2017-01-04 04:23:17,070 : INFO : For index 360000, the actual number of lines written is: 1637\n"
     ]
    },
    {
     "name": "stdout",
     "output_type": "stream",
     "text": [
      "writing batch 360000\n"
     ]
    },
    {
     "name": "stderr",
     "output_type": "stream",
     "text": [
      "2017-01-04 04:23:17,203 : INFO : Finished batch of 10000 in 10m 55s\n",
      "2017-01-04 04:23:17,206 : INFO : For index 480000, the actual number of lines written is: 1634\n"
     ]
    },
    {
     "name": "stdout",
     "output_type": "stream",
     "text": [
      "writing batch 480000\n"
     ]
    },
    {
     "name": "stderr",
     "output_type": "stream",
     "text": [
      "2017-01-04 04:23:20,495 : INFO : Batch creation working on 550000\n",
      "\n",
      "2017-01-04 04:23:21,771 : INFO : Finished batch of 10000 in 10m 59s\n",
      "2017-01-04 04:23:21,773 : INFO : For index 240000, the actual number of lines written is: 1586\n"
     ]
    },
    {
     "name": "stdout",
     "output_type": "stream",
     "text": [
      "writing batch 240000\n"
     ]
    },
    {
     "name": "stderr",
     "output_type": "stream",
     "text": [
      "2017-01-04 04:23:22,104 : INFO : Batch creation working on 190000\n",
      "\n",
      "2017-01-04 04:23:22,640 : INFO : Finished batch of 10000 in 11m 0s\n",
      "2017-01-04 04:23:22,643 : INFO : For index 300000, the actual number of lines written is: 1540\n"
     ]
    },
    {
     "name": "stdout",
     "output_type": "stream",
     "text": [
      "writing batch 300000\n"
     ]
    },
    {
     "name": "stderr",
     "output_type": "stream",
     "text": [
      "2017-01-04 04:23:23,854 : INFO : Batch creation working on 490000\n",
      "\n",
      "2017-01-04 04:23:24,300 : INFO : Batch creation working on 370000\n",
      "\n",
      "2017-01-04 04:23:27,516 : INFO : Finished batch of 10000 in 11m 5s\n",
      "2017-01-04 04:23:27,519 : INFO : For index 420000, the actual number of lines written is: 1618\n"
     ]
    },
    {
     "name": "stdout",
     "output_type": "stream",
     "text": [
      "writing batch 420000\n"
     ]
    },
    {
     "name": "stderr",
     "output_type": "stream",
     "text": [
      "2017-01-04 04:23:27,662 : INFO : Batch creation working on 250000\n",
      "\n",
      "2017-01-04 04:23:29,120 : INFO : Batch creation working on 310000\n",
      "\n",
      "2017-01-04 04:23:30,027 : INFO : Finished batch of 10000 in 11m 8s\n",
      "2017-01-04 04:23:30,029 : INFO : For index 0, the actual number of lines written is: 1611\n"
     ]
    },
    {
     "name": "stdout",
     "output_type": "stream",
     "text": [
      "writing batch 0\n"
     ]
    },
    {
     "name": "stderr",
     "output_type": "stream",
     "text": [
      "2017-01-04 04:23:33,354 : INFO : Batch creation working on 430000\n",
      "\n",
      "2017-01-04 04:23:35,394 : INFO : Batch creation working on 10000\n",
      "\n",
      "2017-01-04 04:25:03,365 : INFO : Finished batch of 10000 in 12m 41s\n",
      "2017-01-04 04:25:03,368 : INFO : For index 120000, the actual number of lines written is: 1597\n"
     ]
    },
    {
     "name": "stdout",
     "output_type": "stream",
     "text": [
      "writing batch 120000\n"
     ]
    },
    {
     "name": "stderr",
     "output_type": "stream",
     "text": [
      "2017-01-04 04:25:07,316 : INFO : Batch creation working on 130000\n",
      "\n",
      "2017-01-04 04:25:14,336 : INFO : Finished batch of 10000 in 12m 52s\n",
      "2017-01-04 04:25:14,347 : INFO : For index 60000, the actual number of lines written is: 1624\n"
     ]
    },
    {
     "name": "stdout",
     "output_type": "stream",
     "text": [
      "writing batch 60000\n"
     ]
    },
    {
     "name": "stderr",
     "output_type": "stream",
     "text": [
      "2017-01-04 04:25:19,098 : INFO : Batch creation working on 70000\n",
      "\n",
      "2017-01-04 04:28:34,772 : INFO : 1000\n",
      "2017-01-04 04:28:35,756 : INFO : 1000\n",
      "2017-01-04 04:28:43,858 : INFO : 1000\n",
      "2017-01-04 04:28:47,491 : INFO : 1000\n",
      "2017-01-04 04:28:49,938 : INFO : 1000\n",
      "2017-01-04 04:28:52,128 : INFO : 1000\n",
      "2017-01-04 04:29:01,897 : INFO : 1000\n",
      "2017-01-04 04:29:02,225 : INFO : 1000\n",
      "2017-01-04 04:30:10,355 : INFO : 1000\n",
      "2017-01-04 04:30:43,232 : INFO : 1000\n",
      "2017-01-04 04:31:41,401 : INFO : Finished batch of 10000 in 8m 21s\n",
      "2017-01-04 04:31:41,404 : INFO : For index 550000, the actual number of lines written is: 1572\n"
     ]
    },
    {
     "name": "stdout",
     "output_type": "stream",
     "text": [
      "writing batch 550000\n"
     ]
    },
    {
     "name": "stderr",
     "output_type": "stream",
     "text": [
      "2017-01-04 04:31:44,375 : INFO : Finished batch of 10000 in 8m 21s\n",
      "2017-01-04 04:31:44,377 : INFO : For index 490000, the actual number of lines written is: 1549\n"
     ]
    },
    {
     "name": "stdout",
     "output_type": "stream",
     "text": [
      "writing batch 490000\n"
     ]
    },
    {
     "name": "stderr",
     "output_type": "stream",
     "text": [
      "2017-01-04 04:31:46,653 : INFO : Batch creation working on 560000\n",
      "\n",
      "2017-01-04 04:31:48,973 : INFO : Batch creation working on 500000\n",
      "\n",
      "2017-01-04 04:31:50,761 : INFO : Finished batch of 10000 in 8m 26s\n",
      "2017-01-04 04:31:50,764 : INFO : For index 370000, the actual number of lines written is: 1681\n"
     ]
    },
    {
     "name": "stdout",
     "output_type": "stream",
     "text": [
      "writing batch 370000\n"
     ]
    },
    {
     "name": "stderr",
     "output_type": "stream",
     "text": [
      "2017-01-04 04:31:53,082 : INFO : Finished batch of 10000 in 8m 31s\n",
      "2017-01-04 04:31:53,085 : INFO : For index 190000, the actual number of lines written is: 1599\n"
     ]
    },
    {
     "name": "stdout",
     "output_type": "stream",
     "text": [
      "writing batch 190000\n"
     ]
    },
    {
     "name": "stderr",
     "output_type": "stream",
     "text": [
      "2017-01-04 04:31:53,115 : INFO : Finished batch of 10000 in 8m 20s\n",
      "2017-01-04 04:31:53,118 : INFO : For index 430000, the actual number of lines written is: 1619\n"
     ]
    },
    {
     "name": "stdout",
     "output_type": "stream",
     "text": [
      "writing batch 430000\n"
     ]
    },
    {
     "name": "stderr",
     "output_type": "stream",
     "text": [
      "2017-01-04 04:31:55,994 : INFO : Batch creation working on 380000\n",
      "\n",
      "2017-01-04 04:31:58,605 : INFO : Finished batch of 10000 in 8m 29s\n",
      "2017-01-04 04:31:58,610 : INFO : For index 310000, the actual number of lines written is: 1625\n"
     ]
    },
    {
     "name": "stdout",
     "output_type": "stream",
     "text": [
      "writing batch 310000\n"
     ]
    },
    {
     "name": "stderr",
     "output_type": "stream",
     "text": [
      "2017-01-04 04:31:59,268 : INFO : Batch creation working on 440000\n",
      "\n",
      "2017-01-04 04:31:59,775 : INFO : Batch creation working on 200000\n",
      "\n",
      "2017-01-04 04:32:04,492 : INFO : Batch creation working on 320000\n",
      "\n",
      "2017-01-04 04:32:09,492 : INFO : Finished batch of 10000 in 8m 34s\n",
      "2017-01-04 04:32:09,496 : INFO : For index 10000, the actual number of lines written is: 1575\n"
     ]
    },
    {
     "name": "stdout",
     "output_type": "stream",
     "text": [
      "writing batch 10000\n"
     ]
    },
    {
     "name": "stderr",
     "output_type": "stream",
     "text": [
      "2017-01-04 04:32:09,886 : INFO : Finished batch of 10000 in 8m 42s\n",
      "2017-01-04 04:32:09,889 : INFO : For index 250000, the actual number of lines written is: 1641\n"
     ]
    },
    {
     "name": "stdout",
     "output_type": "stream",
     "text": [
      "writing batch 250000\n"
     ]
    },
    {
     "name": "stderr",
     "output_type": "stream",
     "text": [
      "2017-01-04 04:32:16,355 : INFO : Batch creation working on 20000\n",
      "\n",
      "2017-01-04 04:32:16,527 : INFO : Batch creation working on 260000\n",
      "\n",
      "2017-01-04 04:33:29,944 : INFO : Finished batch of 10000 in 8m 23s\n",
      "2017-01-04 04:33:29,947 : INFO : For index 130000, the actual number of lines written is: 1616\n"
     ]
    },
    {
     "name": "stdout",
     "output_type": "stream",
     "text": [
      "writing batch 130000\n"
     ]
    },
    {
     "name": "stderr",
     "output_type": "stream",
     "text": [
      "2017-01-04 04:33:34,850 : INFO : Batch creation working on 140000\n",
      "\n",
      "2017-01-04 04:33:38,516 : INFO : Finished batch of 10000 in 8m 19s\n",
      "2017-01-04 04:33:38,525 : INFO : For index 70000, the actual number of lines written is: 1528\n"
     ]
    },
    {
     "name": "stdout",
     "output_type": "stream",
     "text": [
      "writing batch 70000\n"
     ]
    },
    {
     "name": "stderr",
     "output_type": "stream",
     "text": [
      "2017-01-04 04:33:42,999 : INFO : Batch creation working on 80000\n",
      "\n",
      "2017-01-04 04:36:39,516 : INFO : 1000\n",
      "2017-01-04 04:36:56,523 : INFO : 1000\n",
      "2017-01-04 04:36:57,355 : INFO : 1000\n",
      "2017-01-04 04:37:02,454 : INFO : 1000\n",
      "2017-01-04 04:37:05,895 : INFO : 1000\n",
      "2017-01-04 04:37:12,249 : INFO : 1000\n",
      "2017-01-04 04:37:18,777 : INFO : 1000\n",
      "2017-01-04 04:37:35,161 : INFO : 1000\n",
      "2017-01-04 04:38:51,479 : INFO : 1000\n",
      "2017-01-04 04:38:53,787 : INFO : 1000\n",
      "2017-01-04 04:39:58,035 : INFO : Finished batch of 10000 in 8m 2s\n",
      "2017-01-04 04:39:58,038 : INFO : For index 380000, the actual number of lines written is: 1629\n"
     ]
    },
    {
     "name": "stdout",
     "output_type": "stream",
     "text": [
      "writing batch 380000\n"
     ]
    },
    {
     "name": "stderr",
     "output_type": "stream",
     "text": [
      "2017-01-04 04:40:02,467 : INFO : Finished batch of 10000 in 8m 16s\n",
      "2017-01-04 04:40:02,470 : INFO : For index 560000, the actual number of lines written is: 1650\n"
     ]
    },
    {
     "name": "stdout",
     "output_type": "stream",
     "text": [
      "writing batch 560000\n"
     ]
    },
    {
     "name": "stderr",
     "output_type": "stream",
     "text": [
      "2017-01-04 04:40:02,856 : INFO : Batch creation working on 390000\n",
      "\n",
      "2017-01-04 04:40:06,260 : INFO : Finished batch of 10000 in 8m 17s\n",
      "2017-01-04 04:40:06,270 : INFO : For index 500000, the actual number of lines written is: 1620\n"
     ]
    },
    {
     "name": "stdout",
     "output_type": "stream",
     "text": [
      "writing batch 500000\n"
     ]
    },
    {
     "name": "stderr",
     "output_type": "stream",
     "text": [
      "2017-01-04 04:40:07,466 : INFO : Batch creation working on 570000\n",
      "\n",
      "2017-01-04 04:40:10,114 : INFO : Finished batch of 10000 in 8m 11s\n",
      "2017-01-04 04:40:10,117 : INFO : For index 440000, the actual number of lines written is: 1594\n"
     ]
    },
    {
     "name": "stdout",
     "output_type": "stream",
     "text": [
      "writing batch 440000\n"
     ]
    },
    {
     "name": "stderr",
     "output_type": "stream",
     "text": [
      "2017-01-04 04:40:12,097 : INFO : Batch creation working on 510000\n",
      "\n",
      "2017-01-04 04:40:14,638 : INFO : Batch creation working on 450000\n",
      "\n",
      "2017-01-04 04:40:16,010 : INFO : Finished batch of 10000 in 8m 16s\n",
      "2017-01-04 04:40:16,012 : INFO : For index 200000, the actual number of lines written is: 1650\n"
     ]
    },
    {
     "name": "stdout",
     "output_type": "stream",
     "text": [
      "writing batch 200000\n"
     ]
    },
    {
     "name": "stderr",
     "output_type": "stream",
     "text": [
      "2017-01-04 04:40:20,086 : INFO : Finished batch of 10000 in 8m 16s\n",
      "2017-01-04 04:40:20,089 : INFO : For index 320000, the actual number of lines written is: 1625\n"
     ]
    },
    {
     "name": "stdout",
     "output_type": "stream",
     "text": [
      "writing batch 320000\n"
     ]
    },
    {
     "name": "stderr",
     "output_type": "stream",
     "text": [
      "2017-01-04 04:40:21,120 : INFO : Batch creation working on 210000\n",
      "\n",
      "2017-01-04 04:40:24,998 : INFO : Batch creation working on 330000\n",
      "\n",
      "2017-01-04 04:40:28,811 : INFO : Finished batch of 10000 in 8m 12s\n",
      "2017-01-04 04:40:28,814 : INFO : For index 260000, the actual number of lines written is: 1635\n"
     ]
    },
    {
     "name": "stdout",
     "output_type": "stream",
     "text": [
      "writing batch 260000\n"
     ]
    },
    {
     "name": "stderr",
     "output_type": "stream",
     "text": [
      "2017-01-04 04:40:33,538 : INFO : Batch creation working on 270000\n",
      "\n",
      "2017-01-04 04:40:38,425 : INFO : Finished batch of 10000 in 8m 22s\n",
      "2017-01-04 04:40:38,431 : INFO : For index 20000, the actual number of lines written is: 1557\n"
     ]
    },
    {
     "name": "stdout",
     "output_type": "stream",
     "text": [
      "writing batch 20000\n"
     ]
    },
    {
     "name": "stderr",
     "output_type": "stream",
     "text": [
      "2017-01-04 04:40:43,655 : INFO : Batch creation working on 30000\n",
      "\n",
      "2017-01-04 04:41:41,541 : INFO : Finished batch of 10000 in 8m 7s\n",
      "2017-01-04 04:41:41,544 : INFO : For index 140000, the actual number of lines written is: 1537\n"
     ]
    },
    {
     "name": "stdout",
     "output_type": "stream",
     "text": [
      "writing batch 140000\n"
     ]
    },
    {
     "name": "stderr",
     "output_type": "stream",
     "text": [
      "2017-01-04 04:41:45,909 : INFO : Batch creation working on 150000\n",
      "\n",
      "2017-01-04 04:41:59,100 : INFO : Finished batch of 10000 in 8m 16s\n",
      "2017-01-04 04:41:59,102 : INFO : For index 80000, the actual number of lines written is: 1594\n"
     ]
    },
    {
     "name": "stdout",
     "output_type": "stream",
     "text": [
      "writing batch 80000\n"
     ]
    },
    {
     "name": "stderr",
     "output_type": "stream",
     "text": [
      "2017-01-04 04:42:04,261 : INFO : Batch creation working on 90000\n",
      "\n",
      "2017-01-04 04:45:13,432 : INFO : 1000\n",
      "2017-01-04 04:45:13,857 : INFO : 1000\n",
      "2017-01-04 04:45:14,499 : INFO : 1000\n",
      "2017-01-04 04:45:20,418 : INFO : 1000\n",
      "2017-01-04 04:45:21,012 : INFO : 1000\n",
      "2017-01-04 04:45:29,178 : INFO : 1000\n",
      "2017-01-04 04:45:42,601 : INFO : 1000\n",
      "2017-01-04 04:45:46,203 : INFO : 1000\n",
      "2017-01-04 04:46:48,640 : INFO : 1000\n",
      "2017-01-04 04:47:22,390 : INFO : 1000\n",
      "2017-01-04 04:48:04,269 : INFO : Finished batch of 10000 in 8m 1s\n",
      "2017-01-04 04:48:04,272 : INFO : For index 390000, the actual number of lines written is: 1587\n"
     ]
    },
    {
     "name": "stdout",
     "output_type": "stream",
     "text": [
      "writing batch 390000\n"
     ]
    },
    {
     "name": "stderr",
     "output_type": "stream",
     "text": [
      "2017-01-04 04:48:09,139 : INFO : Batch creation working on 400000\n",
      "\n",
      "2017-01-04 04:48:19,249 : INFO : Finished batch of 10000 in 8m 12s\n",
      "2017-01-04 04:48:19,252 : INFO : For index 570000, the actual number of lines written is: 1594\n"
     ]
    },
    {
     "name": "stdout",
     "output_type": "stream",
     "text": [
      "writing batch 570000\n"
     ]
    },
    {
     "name": "stderr",
     "output_type": "stream",
     "text": [
      "2017-01-04 04:48:23,716 : INFO : Batch creation working on 580000\n",
      "\n",
      "2017-01-04 04:48:26,255 : INFO : Finished batch of 10000 in 8m 12s\n",
      "2017-01-04 04:48:26,258 : INFO : For index 450000, the actual number of lines written is: 1609\n"
     ]
    },
    {
     "name": "stdout",
     "output_type": "stream",
     "text": [
      "writing batch 450000\n"
     ]
    },
    {
     "name": "stderr",
     "output_type": "stream",
     "text": [
      "2017-01-04 04:48:30,199 : INFO : Finished batch of 10000 in 8m 18s\n",
      "2017-01-04 04:48:30,202 : INFO : For index 510000, the actual number of lines written is: 1624\n"
     ]
    },
    {
     "name": "stdout",
     "output_type": "stream",
     "text": [
      "writing batch 510000\n"
     ]
    },
    {
     "name": "stderr",
     "output_type": "stream",
     "text": [
      "2017-01-04 04:48:31,028 : INFO : Batch creation working on 460000\n",
      "\n",
      "2017-01-04 04:48:35,093 : INFO : Finished batch of 10000 in 8m 14s\n",
      "2017-01-04 04:48:35,096 : INFO : For index 210000, the actual number of lines written is: 1557\n"
     ]
    },
    {
     "name": "stdout",
     "output_type": "stream",
     "text": [
      "writing batch 210000\n"
     ]
    },
    {
     "name": "stderr",
     "output_type": "stream",
     "text": [
      "2017-01-04 04:48:35,489 : INFO : Batch creation working on 520000\n",
      "\n",
      "2017-01-04 04:48:37,644 : INFO : Finished batch of 10000 in 8m 13s\n",
      "2017-01-04 04:48:37,647 : INFO : For index 330000, the actual number of lines written is: 1660\n"
     ]
    },
    {
     "name": "stdout",
     "output_type": "stream",
     "text": [
      "writing batch 330000\n"
     ]
    },
    {
     "name": "stderr",
     "output_type": "stream",
     "text": [
      "2017-01-04 04:48:39,847 : INFO : Batch creation working on 220000\n",
      "\n",
      "2017-01-04 04:48:41,812 : INFO : Finished batch of 10000 in 8m 8s\n",
      "2017-01-04 04:48:41,814 : INFO : For index 270000, the actual number of lines written is: 1619\n"
     ]
    },
    {
     "name": "stdout",
     "output_type": "stream",
     "text": [
      "writing batch 270000\n"
     ]
    },
    {
     "name": "stderr",
     "output_type": "stream",
     "text": [
      "2017-01-04 04:48:42,354 : INFO : Batch creation working on 340000\n",
      "\n",
      "2017-01-04 04:48:42,434 : INFO : Finished batch of 10000 in 7m 59s\n",
      "2017-01-04 04:48:42,437 : INFO : For index 30000, the actual number of lines written is: 1573\n"
     ]
    },
    {
     "name": "stdout",
     "output_type": "stream",
     "text": [
      "writing batch 30000\n"
     ]
    },
    {
     "name": "stderr",
     "output_type": "stream",
     "text": [
      "2017-01-04 04:48:47,344 : INFO : Batch creation working on 280000\n",
      "\n",
      "2017-01-04 04:48:47,393 : INFO : Batch creation working on 40000\n",
      "\n",
      "2017-01-04 04:50:03,613 : INFO : Finished batch of 10000 in 8m 18s\n",
      "2017-01-04 04:50:03,624 : INFO : For index 150000, the actual number of lines written is: 1589\n"
     ]
    },
    {
     "name": "stdout",
     "output_type": "stream",
     "text": [
      "writing batch 150000\n"
     ]
    },
    {
     "name": "stderr",
     "output_type": "stream",
     "text": [
      "2017-01-04 04:50:08,400 : INFO : Batch creation working on 160000\n",
      "\n",
      "2017-01-04 04:50:24,855 : INFO : Finished batch of 10000 in 8m 21s\n",
      "2017-01-04 04:50:24,858 : INFO : For index 90000, the actual number of lines written is: 1582\n"
     ]
    },
    {
     "name": "stdout",
     "output_type": "stream",
     "text": [
      "writing batch 90000\n"
     ]
    },
    {
     "name": "stderr",
     "output_type": "stream",
     "text": [
      "2017-01-04 04:50:30,159 : INFO : Batch creation working on 100000\n",
      "\n",
      "2017-01-04 04:53:10,705 : INFO : 1000\n",
      "2017-01-04 04:53:28,255 : INFO : 1000\n",
      "2017-01-04 04:53:33,180 : INFO : 1000\n",
      "2017-01-04 04:53:37,549 : INFO : 1000\n",
      "2017-01-04 04:53:48,245 : INFO : 1000\n",
      "2017-01-04 04:53:51,285 : INFO : 1000\n",
      "2017-01-04 04:54:02,709 : INFO : 1000\n",
      "2017-01-04 04:54:22,978 : INFO : 1000\n",
      "2017-01-04 04:55:00,261 : INFO : 1000\n",
      "2017-01-04 04:55:36,167 : INFO : 1000\n",
      "2017-01-04 04:56:18,202 : INFO : Finished batch of 10000 in 8m 9s\n",
      "2017-01-04 04:56:18,204 : INFO : For index 400000, the actual number of lines written is: 1620\n"
     ]
    },
    {
     "name": "stdout",
     "output_type": "stream",
     "text": [
      "writing batch 400000\n"
     ]
    },
    {
     "name": "stderr",
     "output_type": "stream",
     "text": [
      "2017-01-04 04:56:23,226 : INFO : Batch creation working on 410000\n",
      "\n",
      "2017-01-04 04:56:37,090 : INFO : Finished batch of 10000 in 8m 6s\n",
      "2017-01-04 04:56:37,101 : INFO : For index 460000, the actual number of lines written is: 1541\n"
     ]
    },
    {
     "name": "stdout",
     "output_type": "stream",
     "text": [
      "writing batch 460000\n"
     ]
    },
    {
     "name": "stderr",
     "output_type": "stream",
     "text": [
      "2017-01-04 04:56:39,502 : INFO : Finished batch of 10000 in 8m 4s\n",
      "2017-01-04 04:56:39,505 : INFO : For index 520000, the actual number of lines written is: 1617\n"
     ]
    },
    {
     "name": "stdout",
     "output_type": "stream",
     "text": [
      "writing batch 520000\n"
     ]
    },
    {
     "name": "stderr",
     "output_type": "stream",
     "text": [
      "2017-01-04 04:56:39,938 : INFO : Finished batch of 10000 in 8m 0s\n",
      "2017-01-04 04:56:39,941 : INFO : For index 220000, the actual number of lines written is: 1509\n"
     ]
    },
    {
     "name": "stdout",
     "output_type": "stream",
     "text": [
      "writing batch 220000\n"
     ]
    },
    {
     "name": "stderr",
     "output_type": "stream",
     "text": [
      "2017-01-04 04:56:40,407 : INFO : Finished batch of 10000 in 8m 17s\n",
      "2017-01-04 04:56:40,409 : INFO : For index 580000, the actual number of lines written is: 1600\n"
     ]
    },
    {
     "name": "stdout",
     "output_type": "stream",
     "text": [
      "writing batch 580000\n"
     ]
    },
    {
     "name": "stderr",
     "output_type": "stream",
     "text": [
      "2017-01-04 04:56:41,781 : INFO : Batch creation working on 470000\n",
      "\n",
      "2017-01-04 04:56:44,037 : INFO : Batch creation working on 530000\n",
      "\n",
      "2017-01-04 04:56:45,864 : INFO : Batch creation working on 230000\n",
      "\n",
      "2017-01-04 04:56:46,329 : INFO : Batch creation working on 590000\n",
      "\n",
      "2017-01-04 04:56:51,995 : INFO : Finished batch of 10000 in 8m 10s\n",
      "2017-01-04 04:56:51,997 : INFO : For index 340000, the actual number of lines written is: 1634\n"
     ]
    },
    {
     "name": "stdout",
     "output_type": "stream",
     "text": [
      "writing batch 340000\n"
     ]
    },
    {
     "name": "stderr",
     "output_type": "stream",
     "text": [
      "2017-01-04 04:56:53,798 : INFO : Finished batch of 10000 in 8m 6s\n",
      "2017-01-04 04:56:54,136 : INFO : For index 40000, the actual number of lines written is: 1465\n"
     ]
    },
    {
     "name": "stdout",
     "output_type": "stream",
     "text": [
      "writing batch 40000\n"
     ]
    },
    {
     "name": "stderr",
     "output_type": "stream",
     "text": [
      "2017-01-04 04:56:56,427 : INFO : Batch creation working on 350000\n",
      "\n",
      "2017-01-04 04:56:58,471 : INFO : Batch creation working on 50000\n",
      "\n",
      "2017-01-04 04:57:00,429 : INFO : Finished batch of 10000 in 8m 13s\n",
      "2017-01-04 04:57:00,432 : INFO : For index 280000, the actual number of lines written is: 1616\n"
     ]
    },
    {
     "name": "stdout",
     "output_type": "stream",
     "text": [
      "writing batch 280000\n"
     ]
    },
    {
     "name": "stderr",
     "output_type": "stream",
     "text": [
      "2017-01-04 04:57:05,484 : INFO : Batch creation working on 290000\n",
      "\n",
      "2017-01-04 04:58:11,523 : INFO : Finished batch of 10000 in 8m 3s\n",
      "2017-01-04 04:58:11,535 : INFO : For index 160000, the actual number of lines written is: 1591\n"
     ]
    },
    {
     "name": "stdout",
     "output_type": "stream",
     "text": [
      "writing batch 160000\n"
     ]
    },
    {
     "name": "stderr",
     "output_type": "stream",
     "text": [
      "2017-01-04 04:58:16,703 : INFO : Batch creation working on 170000\n",
      "\n",
      "2017-01-04 04:58:46,571 : INFO : Finished batch of 10000 in 8m 16s\n",
      "2017-01-04 04:58:46,574 : INFO : For index 100000, the actual number of lines written is: 1586\n"
     ]
    },
    {
     "name": "stdout",
     "output_type": "stream",
     "text": [
      "writing batch 100000\n"
     ]
    },
    {
     "name": "stderr",
     "output_type": "stream",
     "text": [
      "2017-01-04 04:58:51,299 : INFO : Batch creation working on 110000\n",
      "\n",
      "2017-01-04 05:01:25,890 : INFO : 1000\n",
      "2017-01-04 05:01:36,199 : INFO : 1000\n",
      "2017-01-04 05:01:39,396 : INFO : 1000\n",
      "2017-01-04 05:01:41,790 : INFO : 1000\n",
      "2017-01-04 05:01:47,126 : INFO : 1000\n",
      "2017-01-04 05:02:12,160 : INFO : 1000\n",
      "2017-01-04 05:02:28,572 : INFO : 1000\n",
      "2017-01-04 05:02:54,030 : INFO : 1000\n",
      "2017-01-04 05:03:36,299 : INFO : 1000\n",
      "2017-01-04 05:03:48,997 : INFO : 1000\n",
      "2017-01-04 05:04:31,868 : INFO : Finished batch of 10000 in 8m 9s\n",
      "2017-01-04 05:04:31,870 : INFO : For index 410000, the actual number of lines written is: 1589\n"
     ]
    },
    {
     "name": "stdout",
     "output_type": "stream",
     "text": [
      "writing batch 410000\n"
     ]
    },
    {
     "name": "stderr",
     "output_type": "stream",
     "text": [
      "2017-01-04 05:04:36,651 : INFO : Batch creation working on 600000\n",
      "\n",
      "2017-01-04 05:04:43,441 : INFO : Finished batch of 10000 in 7m 59s\n",
      "2017-01-04 05:04:43,452 : INFO : For index 530000, the actual number of lines written is: 1575\n"
     ]
    },
    {
     "name": "stdout",
     "output_type": "stream",
     "text": [
      "writing batch 530000\n"
     ]
    },
    {
     "name": "stderr",
     "output_type": "stream",
     "text": [
      "2017-01-04 05:04:48,069 : INFO : Finished batch of 10000 in 8m 6s\n",
      "2017-01-04 05:04:48,071 : INFO : For index 470000, the actual number of lines written is: 1605\n"
     ]
    },
    {
     "name": "stdout",
     "output_type": "stream",
     "text": [
      "writing batch 470000\n"
     ]
    },
    {
     "name": "stderr",
     "output_type": "stream",
     "text": [
      "2017-01-04 05:04:48,247 : INFO : Batch creation working on 660000\n",
      "\n",
      "2017-01-04 05:04:52,204 : INFO : Finished batch of 10000 in 8m 6s\n",
      "2017-01-04 05:04:52,207 : INFO : For index 230000, the actual number of lines written is: 1623\n"
     ]
    },
    {
     "name": "stdout",
     "output_type": "stream",
     "text": [
      "writing batch 230000\n"
     ]
    },
    {
     "name": "stderr",
     "output_type": "stream",
     "text": [
      "2017-01-04 05:04:52,742 : INFO : Batch creation working on 720000\n",
      "\n",
      "2017-01-04 05:04:56,961 : INFO : Batch creation working on 780000\n",
      "\n",
      "2017-01-04 05:05:08,990 : INFO : Finished batch of 10000 in 8m 23s\n",
      "2017-01-04 05:05:08,992 : INFO : For index 590000, the actual number of lines written is: 1633\n"
     ]
    },
    {
     "name": "stdout",
     "output_type": "stream",
     "text": [
      "writing batch 590000\n"
     ]
    },
    {
     "name": "stderr",
     "output_type": "stream",
     "text": [
      "2017-01-04 05:05:14,343 : INFO : Batch creation working on 840000\n",
      "\n",
      "2017-01-04 05:05:18,185 : INFO : Finished batch of 10000 in 8m 20s\n",
      "2017-01-04 05:05:18,187 : INFO : For index 50000, the actual number of lines written is: 1523\n"
     ]
    },
    {
     "name": "stdout",
     "output_type": "stream",
     "text": [
      "writing batch 50000\n"
     ]
    },
    {
     "name": "stderr",
     "output_type": "stream",
     "text": [
      "2017-01-04 05:05:18,403 : INFO : Finished batch of 10000 in 8m 22s\n",
      "2017-01-04 05:05:18,412 : INFO : For index 350000, the actual number of lines written is: 1557\n"
     ]
    },
    {
     "name": "stdout",
     "output_type": "stream",
     "text": [
      "writing batch 350000\n"
     ]
    },
    {
     "name": "stderr",
     "output_type": "stream",
     "text": [
      "2017-01-04 05:05:23,775 : INFO : Batch creation working on 900000\n",
      "\n",
      "2017-01-04 05:05:23,842 : INFO : Batch creation working on 960000\n",
      "\n",
      "2017-01-04 05:05:40,667 : INFO : Finished batch of 10000 in 8m 35s\n",
      "2017-01-04 05:05:40,669 : INFO : For index 290000, the actual number of lines written is: 1492\n"
     ]
    },
    {
     "name": "stdout",
     "output_type": "stream",
     "text": [
      "writing batch 290000\n"
     ]
    },
    {
     "name": "stderr",
     "output_type": "stream",
     "text": [
      "2017-01-04 05:05:45,655 : INFO : Batch creation working on 1020000\n",
      "\n",
      "2017-01-04 05:06:27,510 : INFO : Finished batch of 10000 in 8m 11s\n",
      "2017-01-04 05:06:27,514 : INFO : For index 170000, the actual number of lines written is: 1587\n"
     ]
    },
    {
     "name": "stdout",
     "output_type": "stream",
     "text": [
      "writing batch 170000\n"
     ]
    },
    {
     "name": "stderr",
     "output_type": "stream",
     "text": [
      "2017-01-04 05:06:31,768 : INFO : Batch creation working on 1080000\n",
      "\n",
      "2017-01-04 05:06:56,293 : INFO : Finished batch of 10000 in 8m 5s\n",
      "2017-01-04 05:06:56,295 : INFO : For index 110000, the actual number of lines written is: 1652\n"
     ]
    },
    {
     "name": "stdout",
     "output_type": "stream",
     "text": [
      "writing batch 110000\n"
     ]
    },
    {
     "name": "stderr",
     "output_type": "stream",
     "text": [
      "2017-01-04 05:07:00,544 : INFO : Batch creation working on 1140000\n",
      "\n",
      "2017-01-04 05:09:28,512 : INFO : 1000\n",
      "2017-01-04 05:09:37,678 : INFO : 1000\n",
      "2017-01-04 05:09:54,596 : INFO : 1000\n",
      "2017-01-04 05:09:59,075 : INFO : 1000\n",
      "2017-01-04 05:10:14,906 : INFO : 1000\n",
      "2017-01-04 05:10:20,343 : INFO : 1000\n",
      "2017-01-04 05:10:40,554 : INFO : 1000\n",
      "2017-01-04 05:10:47,697 : INFO : 1000\n",
      "2017-01-04 05:11:44,277 : INFO : 1000\n",
      "2017-01-04 05:11:59,188 : INFO : 1000\n",
      "2017-01-04 05:12:41,262 : INFO : Finished batch of 10000 in 8m 5s\n",
      "2017-01-04 05:12:41,265 : INFO : For index 600000, the actual number of lines written is: 1623\n"
     ]
    },
    {
     "name": "stdout",
     "output_type": "stream",
     "text": [
      "writing batch 600000\n"
     ]
    },
    {
     "name": "stderr",
     "output_type": "stream",
     "text": [
      "2017-01-04 05:12:46,139 : INFO : Batch creation working on 610000\n",
      "\n",
      "2017-01-04 05:12:54,764 : INFO : Finished batch of 10000 in 8m 6s\n",
      "2017-01-04 05:12:54,775 : INFO : For index 660000, the actual number of lines written is: 1556\n"
     ]
    },
    {
     "name": "stdout",
     "output_type": "stream",
     "text": [
      "writing batch 660000\n"
     ]
    },
    {
     "name": "stderr",
     "output_type": "stream",
     "text": [
      "2017-01-04 05:12:59,352 : INFO : Batch creation working on 670000\n",
      "\n",
      "2017-01-04 05:13:03,954 : INFO : Finished batch of 10000 in 8m 7s\n",
      "2017-01-04 05:13:03,956 : INFO : For index 780000, the actual number of lines written is: 1595\n"
     ]
    },
    {
     "name": "stdout",
     "output_type": "stream",
     "text": [
      "writing batch 780000\n"
     ]
    },
    {
     "name": "stderr",
     "output_type": "stream",
     "text": [
      "2017-01-04 05:13:08,740 : INFO : Batch creation working on 790000\n",
      "\n",
      "2017-01-04 05:13:14,744 : INFO : Finished batch of 10000 in 8m 22s\n",
      "2017-01-04 05:13:14,747 : INFO : For index 720000, the actual number of lines written is: 1680\n"
     ]
    },
    {
     "name": "stdout",
     "output_type": "stream",
     "text": [
      "writing batch 720000\n"
     ]
    },
    {
     "name": "stderr",
     "output_type": "stream",
     "text": [
      "2017-01-04 05:13:19,879 : INFO : Batch creation working on 730000\n",
      "\n",
      "2017-01-04 05:13:26,249 : INFO : Finished batch of 10000 in 8m 12s\n",
      "2017-01-04 05:13:26,252 : INFO : For index 840000, the actual number of lines written is: 1618\n"
     ]
    },
    {
     "name": "stdout",
     "output_type": "stream",
     "text": [
      "writing batch 840000\n"
     ]
    },
    {
     "name": "stderr",
     "output_type": "stream",
     "text": [
      "2017-01-04 05:13:29,081 : INFO : Finished batch of 10000 in 8m 5s\n",
      "2017-01-04 05:13:29,083 : INFO : For index 960000, the actual number of lines written is: 1548\n"
     ]
    },
    {
     "name": "stdout",
     "output_type": "stream",
     "text": [
      "writing batch 960000\n"
     ]
    },
    {
     "name": "stderr",
     "output_type": "stream",
     "text": [
      "2017-01-04 05:13:31,074 : INFO : Batch creation working on 850000\n",
      "\n",
      "2017-01-04 05:13:33,684 : INFO : Batch creation working on 970000\n",
      "\n",
      "2017-01-04 05:13:38,624 : INFO : Finished batch of 10000 in 8m 15s\n",
      "2017-01-04 05:13:38,636 : INFO : For index 900000, the actual number of lines written is: 1668\n"
     ]
    },
    {
     "name": "stdout",
     "output_type": "stream",
     "text": [
      "writing batch 900000\n"
     ]
    },
    {
     "name": "stderr",
     "output_type": "stream",
     "text": [
      "2017-01-04 05:13:43,826 : INFO : Batch creation working on 910000\n",
      "\n",
      "2017-01-04 05:13:49,556 : INFO : Finished batch of 10000 in 8m 4s\n",
      "2017-01-04 05:13:49,559 : INFO : For index 1020000, the actual number of lines written is: 1633\n"
     ]
    },
    {
     "name": "stdout",
     "output_type": "stream",
     "text": [
      "writing batch 1020000\n"
     ]
    },
    {
     "name": "stderr",
     "output_type": "stream",
     "text": [
      "2017-01-04 05:13:54,003 : INFO : Batch creation working on 1030000\n",
      "\n",
      "2017-01-04 05:14:37,771 : INFO : Finished batch of 10000 in 8m 6s\n",
      "2017-01-04 05:14:37,773 : INFO : For index 1080000, the actual number of lines written is: 1540\n"
     ]
    },
    {
     "name": "stdout",
     "output_type": "stream",
     "text": [
      "writing batch 1080000\n"
     ]
    },
    {
     "name": "stderr",
     "output_type": "stream",
     "text": [
      "2017-01-04 05:14:42,390 : INFO : Batch creation working on 1090000\n",
      "\n",
      "2017-01-04 05:15:01,177 : INFO : Finished batch of 10000 in 8m 1s\n",
      "2017-01-04 05:15:01,180 : INFO : For index 1140000, the actual number of lines written is: 1590\n"
     ]
    },
    {
     "name": "stdout",
     "output_type": "stream",
     "text": [
      "writing batch 1140000\n"
     ]
    },
    {
     "name": "stderr",
     "output_type": "stream",
     "text": [
      "2017-01-04 05:15:06,214 : INFO : Batch creation working on 1150000\n",
      "\n",
      "2017-01-04 05:17:36,790 : INFO : 1000\n",
      "2017-01-04 05:18:13,863 : INFO : 1000\n",
      "2017-01-04 05:18:14,212 : INFO : 1000\n",
      "2017-01-04 05:18:29,521 : INFO : 1000\n",
      "2017-01-04 05:18:32,162 : INFO : 1000\n",
      "2017-01-04 05:18:42,986 : INFO : 1000\n",
      "2017-01-04 05:18:58,329 : INFO : 1000\n",
      "2017-01-04 05:19:00,242 : INFO : 1000\n",
      "2017-01-04 05:19:49,256 : INFO : 1000\n",
      "2017-01-04 05:20:22,288 : INFO : 1000\n",
      "2017-01-04 05:20:47,280 : INFO : Finished batch of 10000 in 8m 1s\n",
      "2017-01-04 05:20:47,283 : INFO : For index 610000, the actual number of lines written is: 1623\n"
     ]
    },
    {
     "name": "stdout",
     "output_type": "stream",
     "text": [
      "writing batch 610000\n"
     ]
    },
    {
     "name": "stderr",
     "output_type": "stream",
     "text": [
      "2017-01-04 05:20:52,325 : INFO : Batch creation working on 620000\n",
      "\n",
      "2017-01-04 05:21:14,562 : INFO : Finished batch of 10000 in 8m 15s\n",
      "2017-01-04 05:21:14,565 : INFO : For index 670000, the actual number of lines written is: 1589\n"
     ]
    },
    {
     "name": "stdout",
     "output_type": "stream",
     "text": [
      "writing batch 670000\n"
     ]
    },
    {
     "name": "stderr",
     "output_type": "stream",
     "text": [
      "2017-01-04 05:21:18,670 : INFO : Finished batch of 10000 in 8m 10s\n",
      "2017-01-04 05:21:18,672 : INFO : For index 790000, the actual number of lines written is: 1586\n"
     ]
    },
    {
     "name": "stdout",
     "output_type": "stream",
     "text": [
      "writing batch 790000\n"
     ]
    },
    {
     "name": "stderr",
     "output_type": "stream",
     "text": [
      "2017-01-04 05:21:19,331 : INFO : Batch creation working on 680000\n",
      "\n",
      "2017-01-04 05:21:24,180 : INFO : Batch creation working on 800000\n",
      "\n",
      "2017-01-04 05:21:35,872 : INFO : Finished batch of 10000 in 8m 16s\n",
      "2017-01-04 05:21:35,874 : INFO : For index 730000, the actual number of lines written is: 1639\n"
     ]
    },
    {
     "name": "stdout",
     "output_type": "stream",
     "text": [
      "writing batch 730000\n"
     ]
    },
    {
     "name": "stderr",
     "output_type": "stream",
     "text": [
      "2017-01-04 05:21:36,069 : INFO : Finished batch of 10000 in 8m 5s\n",
      "2017-01-04 05:21:36,071 : INFO : For index 850000, the actual number of lines written is: 1627\n"
     ]
    },
    {
     "name": "stdout",
     "output_type": "stream",
     "text": [
      "writing batch 850000\n"
     ]
    },
    {
     "name": "stderr",
     "output_type": "stream",
     "text": [
      "2017-01-04 05:21:42,125 : INFO : Batch creation working on 740000\n",
      "\n",
      "2017-01-04 05:21:42,148 : INFO : Batch creation working on 860000\n",
      "\n",
      "2017-01-04 05:21:54,222 : INFO : Finished batch of 10000 in 8m 10s\n",
      "2017-01-04 05:21:54,225 : INFO : For index 910000, the actual number of lines written is: 1555\n"
     ]
    },
    {
     "name": "stdout",
     "output_type": "stream",
     "text": [
      "writing batch 910000\n"
     ]
    },
    {
     "name": "stderr",
     "output_type": "stream",
     "text": [
      "2017-01-04 05:21:55,971 : INFO : Finished batch of 10000 in 8m 22s\n",
      "2017-01-04 05:21:55,980 : INFO : For index 970000, the actual number of lines written is: 1598\n"
     ]
    },
    {
     "name": "stdout",
     "output_type": "stream",
     "text": [
      "writing batch 970000\n"
     ]
    },
    {
     "name": "stderr",
     "output_type": "stream",
     "text": [
      "2017-01-04 05:21:58,598 : INFO : Batch creation working on 920000\n",
      "\n",
      "2017-01-04 05:22:00,785 : INFO : Batch creation working on 980000\n",
      "\n",
      "2017-01-04 05:22:19,384 : INFO : Finished batch of 10000 in 8m 25s\n",
      "2017-01-04 05:22:19,386 : INFO : For index 1030000, the actual number of lines written is: 1674\n"
     ]
    },
    {
     "name": "stdout",
     "output_type": "stream",
     "text": [
      "writing batch 1030000\n"
     ]
    },
    {
     "name": "stderr",
     "output_type": "stream",
     "text": [
      "2017-01-04 05:22:24,432 : INFO : Batch creation working on 1040000\n",
      "\n",
      "2017-01-04 05:22:56,175 : INFO : Finished batch of 10000 in 8m 14s\n",
      "2017-01-04 05:22:56,177 : INFO : For index 1090000, the actual number of lines written is: 1570\n"
     ]
    },
    {
     "name": "stdout",
     "output_type": "stream",
     "text": [
      "writing batch 1090000\n"
     ]
    },
    {
     "name": "stderr",
     "output_type": "stream",
     "text": [
      "2017-01-04 05:23:00,673 : INFO : Batch creation working on 1100000\n",
      "\n",
      "2017-01-04 05:23:25,479 : INFO : Finished batch of 10000 in 8m 19s\n",
      "2017-01-04 05:23:25,482 : INFO : For index 1150000, the actual number of lines written is: 1605\n"
     ]
    },
    {
     "name": "stdout",
     "output_type": "stream",
     "text": [
      "writing batch 1150000\n"
     ]
    },
    {
     "name": "stderr",
     "output_type": "stream",
     "text": [
      "2017-01-04 05:23:29,774 : INFO : Batch creation working on 1160000\n",
      "\n",
      "2017-01-04 05:25:45,403 : INFO : 1000\n",
      "2017-01-04 05:26:21,426 : INFO : 1000\n",
      "2017-01-04 05:26:30,517 : INFO : 1000\n",
      "2017-01-04 05:26:41,592 : INFO : 1000\n",
      "2017-01-04 05:26:44,069 : INFO : 1000\n",
      "2017-01-04 05:27:35,135 : INFO : 1000\n",
      "2017-01-04 05:27:38,057 : INFO : 1000\n",
      "2017-01-04 05:28:20,306 : INFO : 1000\n",
      "2017-01-04 05:29:07,477 : INFO : 1000\n",
      "2017-01-04 05:30:41,489 : INFO : 1000\n",
      "2017-01-04 05:30:52,746 : INFO : Finished batch of 10000 in 10m 0s\n",
      "2017-01-04 05:30:52,748 : INFO : For index 620000, the actual number of lines written is: 1630\n"
     ]
    },
    {
     "name": "stdout",
     "output_type": "stream",
     "text": [
      "writing batch 620000\n"
     ]
    },
    {
     "name": "stderr",
     "output_type": "stream",
     "text": [
      "2017-01-04 05:30:57,469 : INFO : Batch creation working on 630000\n",
      "\n",
      "2017-01-04 05:31:56,061 : INFO : Finished batch of 10000 in 10m 32s\n",
      "2017-01-04 05:31:56,090 : INFO : For index 800000, the actual number of lines written is: 1641\n"
     ]
    },
    {
     "name": "stdout",
     "output_type": "stream",
     "text": [
      "writing batch 800000\n"
     ]
    },
    {
     "name": "stderr",
     "output_type": "stream",
     "text": [
      "2017-01-04 05:32:02,817 : INFO : Finished batch of 10000 in 10m 43s\n",
      "2017-01-04 05:32:02,886 : INFO : For index 680000, the actual number of lines written is: 1605\n"
     ]
    },
    {
     "name": "stdout",
     "output_type": "stream",
     "text": [
      "writing batch 680000\n"
     ]
    },
    {
     "name": "stderr",
     "output_type": "stream",
     "text": [
      "2017-01-04 05:32:04,052 : INFO : Batch creation working on 810000\n",
      "\n",
      "2017-01-04 05:32:12,424 : INFO : Batch creation working on 690000\n",
      "\n",
      "2017-01-04 05:32:28,213 : INFO : Finished batch of 10000 in 10m 46s\n",
      "2017-01-04 05:32:28,217 : INFO : For index 860000, the actual number of lines written is: 1597\n"
     ]
    },
    {
     "name": "stdout",
     "output_type": "stream",
     "text": [
      "writing batch 860000\n"
     ]
    },
    {
     "name": "stderr",
     "output_type": "stream",
     "text": [
      "2017-01-04 05:32:29,300 : INFO : Finished batch of 10000 in 10m 47s\n",
      "2017-01-04 05:32:29,322 : INFO : For index 740000, the actual number of lines written is: 1605\n"
     ]
    },
    {
     "name": "stdout",
     "output_type": "stream",
     "text": [
      "writing batch 740000\n"
     ]
    },
    {
     "name": "stderr",
     "output_type": "stream",
     "text": [
      "2017-01-04 05:32:36,724 : INFO : Batch creation working on 870000\n",
      "\n",
      "2017-01-04 05:32:37,965 : INFO : Batch creation working on 750000\n",
      "\n",
      "2017-01-04 05:33:13,971 : INFO : Finished batch of 10000 in 11m 13s\n",
      "2017-01-04 05:33:13,997 : INFO : For index 980000, the actual number of lines written is: 1577\n"
     ]
    },
    {
     "name": "stdout",
     "output_type": "stream",
     "text": [
      "writing batch 980000\n"
     ]
    },
    {
     "name": "stderr",
     "output_type": "stream",
     "text": [
      "2017-01-04 05:33:23,674 : INFO : Batch creation working on 990000\n",
      "\n",
      "2017-01-04 05:33:33,125 : INFO : Finished batch of 10000 in 11m 35s\n",
      "2017-01-04 05:33:33,202 : INFO : For index 920000, the actual number of lines written is: 1645\n"
     ]
    },
    {
     "name": "stdout",
     "output_type": "stream",
     "text": [
      "writing batch 920000\n"
     ]
    },
    {
     "name": "stderr",
     "output_type": "stream",
     "text": [
      "2017-01-04 05:33:44,185 : INFO : Batch creation working on 930000\n",
      "\n",
      "2017-01-04 05:34:14,069 : INFO : Finished batch of 10000 in 11m 50s\n",
      "2017-01-04 05:34:14,084 : INFO : For index 1040000, the actual number of lines written is: 1586\n"
     ]
    },
    {
     "name": "stdout",
     "output_type": "stream",
     "text": [
      "writing batch 1040000\n"
     ]
    },
    {
     "name": "stderr",
     "output_type": "stream",
     "text": [
      "2017-01-04 05:34:23,812 : INFO : Batch creation working on 1050000\n",
      "\n",
      "2017-01-04 05:35:21,922 : INFO : Finished batch of 10000 in 12m 21s\n",
      "2017-01-04 05:35:21,924 : INFO : For index 1100000, the actual number of lines written is: 1612\n"
     ]
    },
    {
     "name": "stdout",
     "output_type": "stream",
     "text": [
      "writing batch 1100000\n"
     ]
    },
    {
     "name": "stderr",
     "output_type": "stream",
     "text": [
      "2017-01-04 05:35:26,716 : INFO : Batch creation working on 1110000\n",
      "\n",
      "2017-01-04 05:36:00,347 : INFO : Finished batch of 10000 in 12m 31s\n",
      "2017-01-04 05:36:00,355 : INFO : For index 1160000, the actual number of lines written is: 1534\n"
     ]
    },
    {
     "name": "stdout",
     "output_type": "stream",
     "text": [
      "writing batch 1160000\n"
     ]
    },
    {
     "name": "stderr",
     "output_type": "stream",
     "text": [
      "2017-01-04 05:36:09,745 : INFO : Batch creation working on 1170000\n",
      "\n",
      "2017-01-04 05:40:04,916 : INFO : 1000\n",
      "2017-01-04 05:41:25,183 : INFO : 1000\n",
      "2017-01-04 05:41:31,110 : INFO : 1000\n",
      "2017-01-04 05:41:46,898 : INFO : 1000\n",
      "2017-01-04 05:42:18,182 : INFO : 1000\n",
      "2017-01-04 05:44:01,977 : INFO : 1000\n",
      "2017-01-04 05:44:26,653 : INFO : 1000\n",
      "2017-01-04 05:44:36,096 : INFO : 1000\n",
      "2017-01-04 05:45:36,255 : INFO : 1000\n",
      "2017-01-04 05:46:02,403 : INFO : Finished batch of 10000 in 15m 5s\n",
      "2017-01-04 05:46:02,435 : INFO : For index 630000, the actual number of lines written is: 1623\n"
     ]
    },
    {
     "name": "stdout",
     "output_type": "stream",
     "text": [
      "writing batch 630000\n"
     ]
    },
    {
     "name": "stderr",
     "output_type": "stream",
     "text": [
      "2017-01-04 05:46:12,087 : INFO : Batch creation working on 640000\n",
      "\n",
      "2017-01-04 05:46:42,216 : INFO : 1000\n",
      "2017-01-04 05:47:37,123 : INFO : Finished batch of 10000 in 15m 33s\n",
      "2017-01-04 05:47:37,134 : INFO : For index 810000, the actual number of lines written is: 1633\n"
     ]
    },
    {
     "name": "stdout",
     "output_type": "stream",
     "text": [
      "writing batch 810000\n"
     ]
    },
    {
     "name": "stderr",
     "output_type": "stream",
     "text": [
      "2017-01-04 05:47:44,459 : INFO : Finished batch of 10000 in 15m 32s\n",
      "2017-01-04 05:47:44,496 : INFO : For index 690000, the actual number of lines written is: 1612\n"
     ]
    },
    {
     "name": "stdout",
     "output_type": "stream",
     "text": [
      "writing batch 690000\n"
     ]
    },
    {
     "name": "stderr",
     "output_type": "stream",
     "text": [
      "2017-01-04 05:47:46,414 : INFO : Batch creation working on 820000\n",
      "\n",
      "2017-01-04 05:47:53,394 : INFO : Batch creation working on 700000\n",
      "\n",
      "2017-01-04 05:48:01,943 : INFO : Finished batch of 10000 in 15m 25s\n",
      "2017-01-04 05:48:01,983 : INFO : For index 870000, the actual number of lines written is: 1654\n"
     ]
    },
    {
     "name": "stdout",
     "output_type": "stream",
     "text": [
      "writing batch 870000\n"
     ]
    },
    {
     "name": "stderr",
     "output_type": "stream",
     "text": [
      "2017-01-04 05:48:11,450 : INFO : Batch creation working on 880000\n",
      "\n",
      "2017-01-04 05:48:18,312 : INFO : Finished batch of 10000 in 15m 40s\n",
      "2017-01-04 05:48:18,338 : INFO : For index 750000, the actual number of lines written is: 1603\n"
     ]
    },
    {
     "name": "stdout",
     "output_type": "stream",
     "text": [
      "writing batch 750000\n"
     ]
    },
    {
     "name": "stderr",
     "output_type": "stream",
     "text": [
      "2017-01-04 05:48:28,290 : INFO : Batch creation working on 760000\n",
      "\n",
      "2017-01-04 05:49:49,181 : INFO : Finished batch of 10000 in 16m 25s\n",
      "2017-01-04 05:49:49,210 : INFO : For index 990000, the actual number of lines written is: 1558\n"
     ]
    },
    {
     "name": "stdout",
     "output_type": "stream",
     "text": [
      "writing batch 990000\n"
     ]
    },
    {
     "name": "stderr",
     "output_type": "stream",
     "text": [
      "2017-01-04 05:49:58,197 : INFO : Batch creation working on 1000000\n",
      "\n",
      "2017-01-04 05:50:26,892 : INFO : Finished batch of 10000 in 16m 43s\n",
      "2017-01-04 05:50:26,921 : INFO : For index 930000, the actual number of lines written is: 1592\n"
     ]
    },
    {
     "name": "stdout",
     "output_type": "stream",
     "text": [
      "writing batch 930000\n"
     ]
    },
    {
     "name": "stderr",
     "output_type": "stream",
     "text": [
      "2017-01-04 05:50:37,320 : INFO : Batch creation working on 940000\n",
      "\n",
      "2017-01-04 05:51:09,722 : INFO : Finished batch of 10000 in 16m 46s\n",
      "2017-01-04 05:51:09,730 : INFO : For index 1050000, the actual number of lines written is: 1559\n"
     ]
    },
    {
     "name": "stdout",
     "output_type": "stream",
     "text": [
      "writing batch 1050000\n"
     ]
    },
    {
     "name": "stderr",
     "output_type": "stream",
     "text": [
      "2017-01-04 05:51:20,268 : INFO : Batch creation working on 1060000\n",
      "\n",
      "2017-01-04 05:52:25,699 : INFO : Finished batch of 10000 in 16m 59s\n",
      "2017-01-04 05:52:25,740 : INFO : For index 1110000, the actual number of lines written is: 1595\n"
     ]
    },
    {
     "name": "stdout",
     "output_type": "stream",
     "text": [
      "writing batch 1110000\n"
     ]
    },
    {
     "name": "stderr",
     "output_type": "stream",
     "text": [
      "2017-01-04 05:52:35,131 : INFO : Batch creation working on 1120000\n",
      "\n",
      "2017-01-04 05:53:35,242 : INFO : Finished batch of 10000 in 17m 25s\n",
      "2017-01-04 05:53:35,250 : INFO : For index 1170000, the actual number of lines written is: 1604\n"
     ]
    },
    {
     "name": "stdout",
     "output_type": "stream",
     "text": [
      "writing batch 1170000\n"
     ]
    },
    {
     "name": "stderr",
     "output_type": "stream",
     "text": [
      "2017-01-04 05:53:44,727 : INFO : Batch creation working on 1180000\n",
      "\n",
      "2017-01-04 05:55:36,718 : INFO : 1000\n",
      "2017-01-04 05:57:59,168 : INFO : 1000\n",
      "2017-01-04 05:58:06,167 : INFO : 1000\n",
      "2017-01-04 05:58:10,040 : INFO : 1000\n",
      "2017-01-04 05:58:19,315 : INFO : 1000\n",
      "2017-01-04 06:01:17,794 : INFO : 1000\n",
      "2017-01-04 06:01:30,355 : INFO : Finished batch of 10000 in 15m 18s\n",
      "2017-01-04 06:01:30,392 : INFO : For index 640000, the actual number of lines written is: 1610\n"
     ]
    },
    {
     "name": "stdout",
     "output_type": "stream",
     "text": [
      "writing batch 640000\n"
     ]
    },
    {
     "name": "stderr",
     "output_type": "stream",
     "text": [
      "2017-01-04 06:01:38,341 : INFO : Batch creation working on 650000\n",
      "\n",
      "2017-01-04 06:01:56,806 : INFO : 1000\n",
      "2017-01-04 06:02:25,698 : INFO : 1000\n",
      "2017-01-04 06:03:26,304 : INFO : Finished batch of 10000 in 15m 40s\n",
      "2017-01-04 06:03:26,307 : INFO : For index 820000, the actual number of lines written is: 1585\n"
     ]
    },
    {
     "name": "stdout",
     "output_type": "stream",
     "text": [
      "writing batch 820000\n"
     ]
    },
    {
     "name": "stderr",
     "output_type": "stream",
     "text": [
      "2017-01-04 06:03:26,762 : INFO : Finished batch of 10000 in 15m 33s\n",
      "2017-01-04 06:03:26,765 : INFO : For index 700000, the actual number of lines written is: 1580\n"
     ]
    },
    {
     "name": "stdout",
     "output_type": "stream",
     "text": [
      "writing batch 700000\n"
     ]
    },
    {
     "name": "stderr",
     "output_type": "stream",
     "text": [
      "2017-01-04 06:03:30,121 : INFO : 1000\n",
      "2017-01-04 06:03:32,084 : INFO : Batch creation working on 710000\n",
      "\n",
      "2017-01-04 06:03:32,091 : INFO : Batch creation working on 830000\n",
      "\n",
      "2017-01-04 06:03:38,817 : INFO : Finished batch of 10000 in 15m 27s\n",
      "2017-01-04 06:03:38,820 : INFO : For index 880000, the actual number of lines written is: 1600\n"
     ]
    },
    {
     "name": "stdout",
     "output_type": "stream",
     "text": [
      "writing batch 880000\n"
     ]
    },
    {
     "name": "stderr",
     "output_type": "stream",
     "text": [
      "2017-01-04 06:03:47,068 : INFO : Batch creation working on 890000\n",
      "\n",
      "2017-01-04 06:04:03,387 : INFO : Finished batch of 10000 in 15m 35s\n",
      "2017-01-04 06:04:03,438 : INFO : For index 760000, the actual number of lines written is: 1639\n"
     ]
    },
    {
     "name": "stdout",
     "output_type": "stream",
     "text": [
      "writing batch 760000\n"
     ]
    },
    {
     "name": "stderr",
     "output_type": "stream",
     "text": [
      "2017-01-04 06:04:12,493 : INFO : Batch creation working on 770000\n",
      "\n",
      "2017-01-04 06:04:13,666 : INFO : 1000\n",
      "2017-01-04 06:07:01,902 : INFO : Finished batch of 10000 in 17m 4s\n",
      "2017-01-04 06:07:01,905 : INFO : For index 1000000, the actual number of lines written is: 1533\n"
     ]
    },
    {
     "name": "stdout",
     "output_type": "stream",
     "text": [
      "writing batch 1000000\n"
     ]
    },
    {
     "name": "stderr",
     "output_type": "stream",
     "text": [
      "2017-01-04 06:07:07,858 : INFO : Batch creation working on 1010000\n",
      "\n",
      "2017-01-04 06:07:16,857 : INFO : Finished batch of 10000 in 16m 39s\n",
      "2017-01-04 06:07:16,860 : INFO : For index 940000, the actual number of lines written is: 1565\n"
     ]
    },
    {
     "name": "stdout",
     "output_type": "stream",
     "text": [
      "writing batch 940000\n"
     ]
    },
    {
     "name": "stderr",
     "output_type": "stream",
     "text": [
      "2017-01-04 06:07:26,198 : INFO : Batch creation working on 950000\n",
      "\n",
      "2017-01-04 06:08:01,396 : INFO : Finished batch of 10000 in 16m 41s\n",
      "2017-01-04 06:08:01,415 : INFO : For index 1060000, the actual number of lines written is: 1553\n"
     ]
    },
    {
     "name": "stdout",
     "output_type": "stream",
     "text": [
      "writing batch 1060000\n"
     ]
    },
    {
     "name": "stderr",
     "output_type": "stream",
     "text": [
      "2017-01-04 06:08:09,677 : INFO : Batch creation working on 1070000\n",
      "\n",
      "2017-01-04 06:09:12,228 : INFO : Finished batch of 10000 in 16m 37s\n",
      "2017-01-04 06:09:12,258 : INFO : For index 1120000, the actual number of lines written is: 1576\n"
     ]
    },
    {
     "name": "stdout",
     "output_type": "stream",
     "text": [
      "writing batch 1120000\n"
     ]
    },
    {
     "name": "stderr",
     "output_type": "stream",
     "text": [
      "2017-01-04 06:09:21,544 : INFO : Batch creation working on 1130000\n",
      "\n",
      "2017-01-04 06:10:20,945 : INFO : 1000\n",
      "2017-01-04 06:10:29,818 : INFO : Finished batch of 10000 in 16m 45s\n",
      "2017-01-04 06:10:29,874 : INFO : For index 1180000, the actual number of lines written is: 1588\n"
     ]
    },
    {
     "name": "stdout",
     "output_type": "stream",
     "text": [
      "writing batch 1180000\n"
     ]
    },
    {
     "name": "stderr",
     "output_type": "stream",
     "text": [
      "2017-01-04 06:10:39,835 : INFO : Batch creation working on 1190000\n",
      "\n",
      "2017-01-04 06:12:28,578 : INFO : 1000\n",
      "2017-01-04 06:12:44,482 : INFO : 1000\n",
      "2017-01-04 06:12:46,661 : INFO : 1000\n",
      "2017-01-04 06:13:59,034 : INFO : 1000\n",
      "2017-01-04 06:15:47,679 : INFO : Finished batch of 10000 in 14m 9s\n",
      "2017-01-04 06:15:47,697 : INFO : For index 650000, the actual number of lines written is: 1580\n"
     ]
    },
    {
     "name": "stdout",
     "output_type": "stream",
     "text": [
      "writing batch 650000\n"
     ]
    },
    {
     "name": "stderr",
     "output_type": "stream",
     "text": [
      "2017-01-04 06:15:56,808 : INFO : Batch creation working on 1200000\n",
      "\n",
      "2017-01-04 06:17:04,712 : INFO : 1000\n",
      "2017-01-04 06:17:33,087 : INFO : 1000\n",
      "2017-01-04 06:17:58,418 : INFO : 1000\n",
      "2017-01-04 06:18:24,825 : INFO : Finished batch of 10000 in 14m 38s\n",
      "2017-01-04 06:18:24,831 : INFO : For index 890000, the actual number of lines written is: 1596\n"
     ]
    },
    {
     "name": "stdout",
     "output_type": "stream",
     "text": [
      "writing batch 890000\n"
     ]
    },
    {
     "name": "stderr",
     "output_type": "stream",
     "text": [
      "2017-01-04 06:18:29,569 : INFO : Finished batch of 10000 in 14m 17s\n",
      "2017-01-04 06:18:29,612 : INFO : For index 770000, the actual number of lines written is: 1634\n"
     ]
    },
    {
     "name": "stdout",
     "output_type": "stream",
     "text": [
      "writing batch 770000\n"
     ]
    },
    {
     "name": "stderr",
     "output_type": "stream",
     "text": [
      "2017-01-04 06:18:34,656 : INFO : Batch creation working on 1260000\n",
      "\n",
      "2017-01-04 06:18:37,616 : INFO : Finished batch of 10000 in 15m 6s\n",
      "2017-01-04 06:18:37,633 : INFO : For index 830000, the actual number of lines written is: 1661\n"
     ]
    },
    {
     "name": "stdout",
     "output_type": "stream",
     "text": [
      "writing batch 830000\n"
     ]
    },
    {
     "name": "stderr",
     "output_type": "stream",
     "text": [
      "2017-01-04 06:18:38,190 : INFO : Batch creation working on 1320000\n",
      "\n",
      "2017-01-04 06:18:48,604 : INFO : Batch creation working on 1380000\n",
      "\n",
      "2017-01-04 06:19:07,361 : INFO : 1000\n",
      "2017-01-04 06:19:37,288 : INFO : Finished batch of 10000 in 16m 5s\n",
      "2017-01-04 06:19:37,307 : INFO : For index 710000, the actual number of lines written is: 1631\n"
     ]
    },
    {
     "name": "stdout",
     "output_type": "stream",
     "text": [
      "writing batch 710000\n"
     ]
    },
    {
     "name": "stderr",
     "output_type": "stream",
     "text": [
      "2017-01-04 06:19:46,106 : INFO : Batch creation working on 1440000\n",
      "\n",
      "2017-01-04 06:20:28,754 : INFO : 1000\n",
      "2017-01-04 06:22:33,641 : INFO : Finished batch of 10000 in 15m 26s\n",
      "2017-01-04 06:22:33,657 : INFO : For index 1010000, the actual number of lines written is: 1678\n"
     ]
    },
    {
     "name": "stdout",
     "output_type": "stream",
     "text": [
      "writing batch 1010000\n"
     ]
    },
    {
     "name": "stderr",
     "output_type": "stream",
     "text": [
      "2017-01-04 06:22:42,180 : INFO : Batch creation working on 1500000\n",
      "\n",
      "2017-01-04 06:22:59,254 : INFO : Finished batch of 10000 in 15m 33s\n",
      "2017-01-04 06:22:59,274 : INFO : For index 950000, the actual number of lines written is: 1549\n"
     ]
    },
    {
     "name": "stdout",
     "output_type": "stream",
     "text": [
      "writing batch 950000\n"
     ]
    },
    {
     "name": "stderr",
     "output_type": "stream",
     "text": [
      "2017-01-04 06:23:07,539 : INFO : Batch creation working on 1560000\n",
      "\n",
      "2017-01-04 06:23:25,882 : INFO : Finished batch of 10000 in 15m 16s\n",
      "2017-01-04 06:23:25,900 : INFO : For index 1070000, the actual number of lines written is: 1651\n"
     ]
    },
    {
     "name": "stdout",
     "output_type": "stream",
     "text": [
      "writing batch 1070000\n"
     ]
    },
    {
     "name": "stderr",
     "output_type": "stream",
     "text": [
      "2017-01-04 06:23:34,059 : INFO : Batch creation working on 1620000\n",
      "\n",
      "2017-01-04 06:24:23,301 : INFO : Finished batch of 10000 in 15m 2s\n",
      "2017-01-04 06:24:23,311 : INFO : For index 1130000, the actual number of lines written is: 1615\n"
     ]
    },
    {
     "name": "stdout",
     "output_type": "stream",
     "text": [
      "writing batch 1130000\n"
     ]
    },
    {
     "name": "stderr",
     "output_type": "stream",
     "text": [
      "2017-01-04 06:24:30,887 : INFO : Batch creation working on 1680000\n",
      "\n",
      "2017-01-04 06:25:00,122 : INFO : 1000\n",
      "2017-01-04 06:25:18,262 : INFO : Finished batch of 10000 in 14m 38s\n",
      "2017-01-04 06:25:18,283 : INFO : For index 1190000, the actual number of lines written is: 1505\n"
     ]
    },
    {
     "name": "stdout",
     "output_type": "stream",
     "text": [
      "writing batch 1190000\n"
     ]
    },
    {
     "name": "stderr",
     "output_type": "stream",
     "text": [
      "2017-01-04 06:25:25,096 : INFO : Batch creation working on 1740000\n",
      "\n",
      "2017-01-04 06:27:33,478 : INFO : 1000\n",
      "2017-01-04 06:27:36,664 : INFO : 1000\n",
      "2017-01-04 06:28:25,042 : INFO : 1000\n",
      "2017-01-04 06:28:39,488 : INFO : 1000\n",
      "2017-01-04 06:30:27,656 : INFO : Finished batch of 10000 in 14m 31s\n",
      "2017-01-04 06:30:27,661 : INFO : For index 1200000, the actual number of lines written is: 1606\n"
     ]
    },
    {
     "name": "stdout",
     "output_type": "stream",
     "text": [
      "writing batch 1200000\n"
     ]
    },
    {
     "name": "stderr",
     "output_type": "stream",
     "text": [
      "2017-01-04 06:30:37,263 : INFO : Batch creation working on 1210000\n",
      "\n",
      "2017-01-04 06:31:30,569 : INFO : 1000\n",
      "2017-01-04 06:32:35,288 : INFO : 1000\n",
      "2017-01-04 06:33:00,924 : INFO : 1000\n",
      "2017-01-04 06:33:15,884 : INFO : Finished batch of 10000 in 14m 38s\n",
      "2017-01-04 06:33:15,907 : INFO : For index 1320000, the actual number of lines written is: 1642\n"
     ]
    },
    {
     "name": "stdout",
     "output_type": "stream",
     "text": [
      "writing batch 1320000\n"
     ]
    },
    {
     "name": "stderr",
     "output_type": "stream",
     "text": [
      "2017-01-04 06:33:24,492 : INFO : Finished batch of 10000 in 14m 36s\n",
      "2017-01-04 06:33:24,526 : INFO : For index 1380000, the actual number of lines written is: 1687\n"
     ]
    },
    {
     "name": "stdout",
     "output_type": "stream",
     "text": [
      "writing batch 1380000\n"
     ]
    },
    {
     "name": "stderr",
     "output_type": "stream",
     "text": [
      "2017-01-04 06:33:25,541 : INFO : Batch creation working on 1330000\n",
      "\n",
      "2017-01-04 06:33:31,793 : INFO : Finished batch of 10000 in 14m 57s\n",
      "2017-01-04 06:33:31,810 : INFO : For index 1260000, the actual number of lines written is: 1549\n"
     ]
    },
    {
     "name": "stdout",
     "output_type": "stream",
     "text": [
      "writing batch 1260000\n"
     ]
    },
    {
     "name": "stderr",
     "output_type": "stream",
     "text": [
      "2017-01-04 06:33:34,088 : INFO : Batch creation working on 1390000\n",
      "\n",
      "2017-01-04 06:33:40,506 : INFO : Batch creation working on 1270000\n",
      "\n",
      "2017-01-04 06:33:52,933 : INFO : 1000\n",
      "2017-01-04 06:34:03,064 : INFO : Finished batch of 10000 in 14m 17s\n",
      "2017-01-04 06:34:03,069 : INFO : For index 1440000, the actual number of lines written is: 1575\n"
     ]
    },
    {
     "name": "stdout",
     "output_type": "stream",
     "text": [
      "writing batch 1440000\n"
     ]
    },
    {
     "name": "stderr",
     "output_type": "stream",
     "text": [
      "2017-01-04 06:34:09,456 : INFO : 1000\n",
      "2017-01-04 06:34:09,876 : INFO : Batch creation working on 1450000\n",
      "\n",
      "2017-01-04 06:37:32,226 : INFO : Finished batch of 10000 in 14m 50s\n",
      "2017-01-04 06:37:32,250 : INFO : For index 1500000, the actual number of lines written is: 1679\n"
     ]
    },
    {
     "name": "stdout",
     "output_type": "stream",
     "text": [
      "writing batch 1500000\n"
     ]
    },
    {
     "name": "stderr",
     "output_type": "stream",
     "text": [
      "2017-01-04 06:37:40,823 : INFO : Batch creation working on 1510000\n",
      "\n",
      "2017-01-04 06:37:43,845 : INFO : Finished batch of 10000 in 14m 36s\n",
      "2017-01-04 06:37:43,850 : INFO : For index 1560000, the actual number of lines written is: 1574\n"
     ]
    },
    {
     "name": "stdout",
     "output_type": "stream",
     "text": [
      "writing batch 1560000\n"
     ]
    },
    {
     "name": "stderr",
     "output_type": "stream",
     "text": [
      "2017-01-04 06:37:51,881 : INFO : Batch creation working on 1570000\n",
      "\n",
      "2017-01-04 06:38:15,631 : INFO : Finished batch of 10000 in 14m 42s\n",
      "2017-01-04 06:38:15,651 : INFO : For index 1620000, the actual number of lines written is: 1558\n"
     ]
    },
    {
     "name": "stdout",
     "output_type": "stream",
     "text": [
      "writing batch 1620000\n"
     ]
    },
    {
     "name": "stderr",
     "output_type": "stream",
     "text": [
      "2017-01-04 06:38:23,452 : INFO : Batch creation working on 1630000\n",
      "\n",
      "2017-01-04 06:39:04,139 : INFO : Finished batch of 10000 in 14m 33s\n",
      "2017-01-04 06:39:04,143 : INFO : For index 1680000, the actual number of lines written is: 1590\n"
     ]
    },
    {
     "name": "stdout",
     "output_type": "stream",
     "text": [
      "writing batch 1680000\n"
     ]
    },
    {
     "name": "stderr",
     "output_type": "stream",
     "text": [
      "2017-01-04 06:39:12,389 : INFO : Batch creation working on 1690000\n",
      "\n",
      "2017-01-04 06:39:33,709 : INFO : 1000\n",
      "2017-01-04 06:40:07,938 : INFO : Finished batch of 10000 in 14m 43s\n",
      "2017-01-04 06:40:07,952 : INFO : For index 1740000, the actual number of lines written is: 1590\n"
     ]
    },
    {
     "name": "stdout",
     "output_type": "stream",
     "text": [
      "writing batch 1740000\n"
     ]
    },
    {
     "name": "stderr",
     "output_type": "stream",
     "text": [
      "2017-01-04 06:40:16,275 : INFO : Batch creation working on 1750000\n",
      "\n",
      "2017-01-04 06:42:30,960 : INFO : 1000\n",
      "2017-01-04 06:42:36,653 : INFO : 1000\n",
      "2017-01-04 06:42:42,929 : INFO : 1000\n",
      "2017-01-04 06:43:07,461 : INFO : 1000\n",
      "2017-01-04 06:45:28,516 : INFO : Finished batch of 10000 in 14m 51s\n",
      "2017-01-04 06:45:28,539 : INFO : For index 1210000, the actual number of lines written is: 1603\n"
     ]
    },
    {
     "name": "stdout",
     "output_type": "stream",
     "text": [
      "writing batch 1210000\n"
     ]
    },
    {
     "name": "stderr",
     "output_type": "stream",
     "text": [
      "2017-01-04 06:45:37,014 : INFO : Batch creation working on 1220000\n",
      "\n",
      "2017-01-04 06:46:51,559 : INFO : 1000\n",
      "2017-01-04 06:47:33,028 : INFO : 1000\n",
      "2017-01-04 06:48:01,286 : INFO : 1000\n",
      "2017-01-04 06:48:04,505 : INFO : Finished batch of 10000 in 14m 39s\n",
      "2017-01-04 06:48:04,509 : INFO : For index 1330000, the actual number of lines written is: 1585\n"
     ]
    },
    {
     "name": "stdout",
     "output_type": "stream",
     "text": [
      "writing batch 1330000\n"
     ]
    },
    {
     "name": "stderr",
     "output_type": "stream",
     "text": [
      "2017-01-04 06:48:13,037 : INFO : Batch creation working on 1340000\n",
      "\n",
      "2017-01-04 06:48:26,937 : INFO : Finished batch of 10000 in 14m 53s\n",
      "2017-01-04 06:48:26,981 : INFO : For index 1390000, the actual number of lines written is: 1653\n"
     ]
    },
    {
     "name": "stdout",
     "output_type": "stream",
     "text": [
      "writing batch 1390000\n"
     ]
    },
    {
     "name": "stderr",
     "output_type": "stream",
     "text": [
      "2017-01-04 06:48:27,149 : INFO : Finished batch of 10000 in 14m 47s\n",
      "2017-01-04 06:48:27,168 : INFO : For index 1270000, the actual number of lines written is: 1655\n"
     ]
    },
    {
     "name": "stdout",
     "output_type": "stream",
     "text": [
      "writing batch 1270000\n"
     ]
    },
    {
     "name": "stderr",
     "output_type": "stream",
     "text": [
      "2017-01-04 06:48:36,795 : INFO : Batch creation working on 1280000\n",
      "\n",
      "2017-01-04 06:48:37,131 : INFO : Batch creation working on 1400000\n",
      "\n",
      "2017-01-04 06:48:38,413 : INFO : 1000\n",
      "2017-01-04 06:49:04,325 : INFO : Finished batch of 10000 in 14m 54s\n",
      "2017-01-04 06:49:04,349 : INFO : For index 1450000, the actual number of lines written is: 1650\n"
     ]
    },
    {
     "name": "stdout",
     "output_type": "stream",
     "text": [
      "writing batch 1450000\n"
     ]
    },
    {
     "name": "stderr",
     "output_type": "stream",
     "text": [
      "2017-01-04 06:49:13,600 : INFO : Batch creation working on 1460000\n",
      "\n",
      "2017-01-04 06:49:40,580 : INFO : 1000\n",
      "2017-01-04 06:52:16,601 : INFO : Finished batch of 10000 in 14m 36s\n",
      "2017-01-04 06:52:16,634 : INFO : For index 1510000, the actual number of lines written is: 1605\n"
     ]
    },
    {
     "name": "stdout",
     "output_type": "stream",
     "text": [
      "writing batch 1510000\n"
     ]
    },
    {
     "name": "stderr",
     "output_type": "stream",
     "text": [
      "2017-01-04 06:52:24,153 : INFO : Batch creation working on 1520000\n",
      "\n",
      "2017-01-04 06:52:37,635 : INFO : Finished batch of 10000 in 14m 46s\n",
      "2017-01-04 06:52:37,640 : INFO : For index 1570000, the actual number of lines written is: 1575\n"
     ]
    },
    {
     "name": "stdout",
     "output_type": "stream",
     "text": [
      "writing batch 1570000\n"
     ]
    },
    {
     "name": "stderr",
     "output_type": "stream",
     "text": [
      "2017-01-04 06:52:45,693 : INFO : Batch creation working on 1580000\n",
      "\n",
      "2017-01-04 06:53:14,881 : INFO : Finished batch of 10000 in 14m 51s\n",
      "2017-01-04 06:53:14,902 : INFO : For index 1630000, the actual number of lines written is: 1583\n"
     ]
    },
    {
     "name": "stdout",
     "output_type": "stream",
     "text": [
      "writing batch 1630000\n"
     ]
    },
    {
     "name": "stderr",
     "output_type": "stream",
     "text": [
      "2017-01-04 06:53:22,964 : INFO : Batch creation working on 1640000\n",
      "\n",
      "2017-01-04 06:54:03,067 : INFO : Finished batch of 10000 in 14m 51s\n",
      "2017-01-04 06:54:03,088 : INFO : For index 1690000, the actual number of lines written is: 1599\n"
     ]
    },
    {
     "name": "stdout",
     "output_type": "stream",
     "text": [
      "writing batch 1690000\n"
     ]
    },
    {
     "name": "stderr",
     "output_type": "stream",
     "text": [
      "2017-01-04 06:54:12,063 : INFO : Batch creation working on 1700000\n",
      "\n",
      "2017-01-04 06:55:04,517 : INFO : 1000\n",
      "2017-01-04 06:55:08,077 : INFO : Finished batch of 10000 in 14m 52s\n",
      "2017-01-04 06:55:08,085 : INFO : For index 1750000, the actual number of lines written is: 1588\n"
     ]
    },
    {
     "name": "stdout",
     "output_type": "stream",
     "text": [
      "writing batch 1750000\n"
     ]
    },
    {
     "name": "stderr",
     "output_type": "stream",
     "text": [
      "2017-01-04 06:55:16,272 : INFO : Batch creation working on 1760000\n",
      "\n",
      "2017-01-04 06:57:25,000 : INFO : 1000\n",
      "2017-01-04 06:57:47,062 : INFO : 1000\n",
      "2017-01-04 06:57:52,391 : INFO : 1000\n",
      "2017-01-04 06:58:38,679 : INFO : 1000\n",
      "2017-01-04 07:00:34,247 : INFO : Finished batch of 10000 in 14m 57s\n",
      "2017-01-04 07:00:34,280 : INFO : For index 1220000, the actual number of lines written is: 1587\n"
     ]
    },
    {
     "name": "stdout",
     "output_type": "stream",
     "text": [
      "writing batch 1220000\n"
     ]
    },
    {
     "name": "stderr",
     "output_type": "stream",
     "text": [
      "2017-01-04 07:00:42,922 : INFO : Batch creation working on 1230000\n",
      "\n",
      "2017-01-04 07:01:26,910 : INFO : 1000\n",
      "2017-01-04 07:02:04,978 : INFO : 1000\n",
      "2017-01-04 07:02:43,838 : INFO : 1000\n",
      "2017-01-04 07:03:09,292 : INFO : Finished batch of 10000 in 14m 32s\n",
      "2017-01-04 07:03:09,297 : INFO : For index 1400000, the actual number of lines written is: 1584\n"
     ]
    },
    {
     "name": "stdout",
     "output_type": "stream",
     "text": [
      "writing batch 1400000\n"
     ]
    },
    {
     "name": "stderr",
     "output_type": "stream",
     "text": [
      "2017-01-04 07:03:15,392 : INFO : Finished batch of 10000 in 15m 2s\n",
      "2017-01-04 07:03:15,397 : INFO : For index 1340000, the actual number of lines written is: 1625\n"
     ]
    },
    {
     "name": "stdout",
     "output_type": "stream",
     "text": [
      "writing batch 1340000\n"
     ]
    },
    {
     "name": "stderr",
     "output_type": "stream",
     "text": [
      "2017-01-04 07:03:16,660 : INFO : Batch creation working on 1410000\n",
      "\n",
      "2017-01-04 07:03:24,488 : INFO : Batch creation working on 1350000\n",
      "\n",
      "2017-01-04 07:03:30,842 : INFO : Finished batch of 10000 in 14m 54s\n",
      "2017-01-04 07:03:30,852 : INFO : For index 1280000, the actual number of lines written is: 1621\n"
     ]
    },
    {
     "name": "stdout",
     "output_type": "stream",
     "text": [
      "writing batch 1280000\n"
     ]
    },
    {
     "name": "stderr",
     "output_type": "stream",
     "text": [
      "2017-01-04 07:03:39,406 : INFO : Batch creation working on 1290000\n",
      "\n",
      "2017-01-04 07:03:53,027 : INFO : 1000\n",
      "2017-01-04 07:03:56,921 : INFO : Finished batch of 10000 in 14m 43s\n",
      "2017-01-04 07:03:56,944 : INFO : For index 1460000, the actual number of lines written is: 1592\n"
     ]
    },
    {
     "name": "stdout",
     "output_type": "stream",
     "text": [
      "writing batch 1460000\n"
     ]
    },
    {
     "name": "stderr",
     "output_type": "stream",
     "text": [
      "2017-01-04 07:04:04,882 : INFO : Batch creation working on 1470000\n",
      "\n",
      "2017-01-04 07:04:32,466 : INFO : 1000\n",
      "2017-01-04 07:07:26,954 : INFO : Finished batch of 10000 in 15m 3s\n",
      "2017-01-04 07:07:26,958 : INFO : For index 1520000, the actual number of lines written is: 1680\n"
     ]
    },
    {
     "name": "stdout",
     "output_type": "stream",
     "text": [
      "writing batch 1520000\n"
     ]
    },
    {
     "name": "stderr",
     "output_type": "stream",
     "text": [
      "2017-01-04 07:07:35,551 : INFO : Batch creation working on 1530000\n",
      "\n",
      "2017-01-04 07:07:44,834 : INFO : Finished batch of 10000 in 14m 59s\n",
      "2017-01-04 07:07:44,843 : INFO : For index 1580000, the actual number of lines written is: 1606\n"
     ]
    },
    {
     "name": "stdout",
     "output_type": "stream",
     "text": [
      "writing batch 1580000\n"
     ]
    },
    {
     "name": "stderr",
     "output_type": "stream",
     "text": [
      "2017-01-04 07:07:53,144 : INFO : Batch creation working on 1590000\n",
      "\n",
      "2017-01-04 07:08:25,701 : INFO : Finished batch of 10000 in 15m 3s\n",
      "2017-01-04 07:08:25,713 : INFO : For index 1640000, the actual number of lines written is: 1647\n"
     ]
    },
    {
     "name": "stdout",
     "output_type": "stream",
     "text": [
      "writing batch 1640000\n"
     ]
    },
    {
     "name": "stderr",
     "output_type": "stream",
     "text": [
      "2017-01-04 07:08:34,270 : INFO : Batch creation working on 1650000\n",
      "\n",
      "2017-01-04 07:09:17,787 : INFO : Finished batch of 10000 in 15m 6s\n",
      "2017-01-04 07:09:17,834 : INFO : For index 1700000, the actual number of lines written is: 1584\n"
     ]
    },
    {
     "name": "stdout",
     "output_type": "stream",
     "text": [
      "writing batch 1700000\n"
     ]
    },
    {
     "name": "stderr",
     "output_type": "stream",
     "text": [
      "2017-01-04 07:09:25,898 : INFO : Batch creation working on 1710000\n",
      "\n",
      "2017-01-04 07:10:09,264 : INFO : 1000\n",
      "2017-01-04 07:10:14,803 : INFO : Finished batch of 10000 in 14m 59s\n",
      "2017-01-04 07:10:14,807 : INFO : For index 1760000, the actual number of lines written is: 1620\n"
     ]
    },
    {
     "name": "stdout",
     "output_type": "stream",
     "text": [
      "writing batch 1760000\n"
     ]
    },
    {
     "name": "stderr",
     "output_type": "stream",
     "text": [
      "2017-01-04 07:10:23,587 : INFO : Batch creation working on 1770000\n",
      "\n",
      "2017-01-04 07:12:42,653 : INFO : 1000\n",
      "2017-01-04 07:13:05,797 : INFO : 1000\n",
      "2017-01-04 07:13:11,261 : INFO : 1000\n",
      "2017-01-04 07:13:40,451 : INFO : 1000\n",
      "2017-01-04 07:15:30,573 : INFO : Finished batch of 10000 in 14m 48s\n",
      "2017-01-04 07:15:30,592 : INFO : For index 1230000, the actual number of lines written is: 1563\n"
     ]
    },
    {
     "name": "stdout",
     "output_type": "stream",
     "text": [
      "writing batch 1230000\n"
     ]
    },
    {
     "name": "stderr",
     "output_type": "stream",
     "text": [
      "2017-01-04 07:15:38,142 : INFO : Batch creation working on 1240000\n",
      "\n",
      "2017-01-04 07:16:49,262 : INFO : 1000\n",
      "2017-01-04 07:17:09,220 : INFO : 1000\n",
      "2017-01-04 07:17:36,754 : INFO : 1000\n",
      "2017-01-04 07:18:12,598 : INFO : Finished batch of 10000 in 14m 48s\n",
      "2017-01-04 07:18:12,603 : INFO : For index 1350000, the actual number of lines written is: 1538\n"
     ]
    },
    {
     "name": "stdout",
     "output_type": "stream",
     "text": [
      "writing batch 1350000\n"
     ]
    },
    {
     "name": "stderr",
     "output_type": "stream",
     "text": [
      "2017-01-04 07:18:17,584 : INFO : Finished batch of 10000 in 15m 1s\n",
      "2017-01-04 07:18:17,590 : INFO : For index 1410000, the actual number of lines written is: 1599\n"
     ]
    },
    {
     "name": "stdout",
     "output_type": "stream",
     "text": [
      "writing batch 1410000\n"
     ]
    },
    {
     "name": "stderr",
     "output_type": "stream",
     "text": [
      "2017-01-04 07:18:20,960 : INFO : Batch creation working on 1360000\n",
      "\n",
      "2017-01-04 07:18:26,645 : INFO : Batch creation working on 1420000\n",
      "\n",
      "2017-01-04 07:18:28,096 : INFO : 1000\n",
      "2017-01-04 07:18:29,541 : INFO : Finished batch of 10000 in 14m 50s\n",
      "2017-01-04 07:18:29,546 : INFO : For index 1290000, the actual number of lines written is: 1581\n"
     ]
    },
    {
     "name": "stdout",
     "output_type": "stream",
     "text": [
      "writing batch 1290000\n"
     ]
    },
    {
     "name": "stderr",
     "output_type": "stream",
     "text": [
      "2017-01-04 07:18:37,988 : INFO : Batch creation working on 1300000\n",
      "\n",
      "2017-01-04 07:18:51,814 : INFO : Finished batch of 10000 in 14m 47s\n",
      "2017-01-04 07:18:51,823 : INFO : For index 1470000, the actual number of lines written is: 1565\n"
     ]
    },
    {
     "name": "stdout",
     "output_type": "stream",
     "text": [
      "writing batch 1470000\n"
     ]
    },
    {
     "name": "stderr",
     "output_type": "stream",
     "text": [
      "2017-01-04 07:18:59,971 : INFO : Batch creation working on 1480000\n",
      "\n",
      "2017-01-04 07:21:39,350 : INFO : 1000\n",
      "2017-01-04 07:22:28,014 : INFO : Finished batch of 10000 in 14m 52s\n",
      "2017-01-04 07:22:28,018 : INFO : For index 1530000, the actual number of lines written is: 1647\n"
     ]
    },
    {
     "name": "stdout",
     "output_type": "stream",
     "text": [
      "writing batch 1530000\n"
     ]
    },
    {
     "name": "stderr",
     "output_type": "stream",
     "text": [
      "2017-01-04 07:22:36,473 : INFO : Batch creation working on 1540000\n",
      "\n",
      "2017-01-04 07:23:04,221 : INFO : Finished batch of 10000 in 15m 11s\n",
      "2017-01-04 07:23:04,246 : INFO : For index 1590000, the actual number of lines written is: 1642\n"
     ]
    },
    {
     "name": "stdout",
     "output_type": "stream",
     "text": [
      "writing batch 1590000\n"
     ]
    },
    {
     "name": "stderr",
     "output_type": "stream",
     "text": [
      "2017-01-04 07:23:13,348 : INFO : Batch creation working on 1600000\n",
      "\n",
      "2017-01-04 07:23:17,556 : INFO : Finished batch of 10000 in 14m 43s\n",
      "2017-01-04 07:23:17,561 : INFO : For index 1650000, the actual number of lines written is: 1621\n"
     ]
    },
    {
     "name": "stdout",
     "output_type": "stream",
     "text": [
      "writing batch 1650000\n"
     ]
    },
    {
     "name": "stderr",
     "output_type": "stream",
     "text": [
      "2017-01-04 07:23:25,388 : INFO : Batch creation working on 1660000\n",
      "\n",
      "2017-01-04 07:24:27,639 : INFO : Finished batch of 10000 in 15m 2s\n",
      "2017-01-04 07:24:27,643 : INFO : For index 1710000, the actual number of lines written is: 1610\n"
     ]
    },
    {
     "name": "stdout",
     "output_type": "stream",
     "text": [
      "writing batch 1710000\n"
     ]
    },
    {
     "name": "stderr",
     "output_type": "stream",
     "text": [
      "2017-01-04 07:24:35,375 : INFO : Batch creation working on 1720000\n",
      "\n",
      "2017-01-04 07:24:44,352 : INFO : 1000\n",
      "2017-01-04 07:27:23,796 : INFO : Finished batch of 10000 in 17m 0s\n",
      "2017-01-04 07:27:23,811 : INFO : For index 1770000, the actual number of lines written is: 1592\n"
     ]
    },
    {
     "name": "stdout",
     "output_type": "stream",
     "text": [
      "writing batch 1770000\n"
     ]
    },
    {
     "name": "stderr",
     "output_type": "stream",
     "text": [
      "2017-01-04 07:27:36,025 : INFO : 1000\n",
      "2017-01-04 07:27:42,140 : INFO : Batch creation working on 1780000\n",
      "\n",
      "2017-01-04 07:27:48,792 : INFO : 1000\n",
      "2017-01-04 07:27:52,082 : INFO : 1000\n",
      "2017-01-04 07:28:02,730 : INFO : 1000\n",
      "2017-01-04 07:30:31,777 : INFO : Finished batch of 10000 in 14m 54s\n",
      "2017-01-04 07:30:31,809 : INFO : For index 1240000, the actual number of lines written is: 1597\n"
     ]
    },
    {
     "name": "stdout",
     "output_type": "stream",
     "text": [
      "writing batch 1240000\n"
     ]
    },
    {
     "name": "stderr",
     "output_type": "stream",
     "text": [
      "2017-01-04 07:30:39,599 : INFO : Batch creation working on 1250000\n",
      "\n",
      "2017-01-04 07:32:16,203 : INFO : 1000\n",
      "2017-01-04 07:32:42,998 : INFO : 1000\n",
      "2017-01-04 07:32:52,798 : INFO : 1000\n",
      "2017-01-04 07:33:24,169 : INFO : Finished batch of 10000 in 15m 3s\n",
      "2017-01-04 07:33:24,207 : INFO : For index 1360000, the actual number of lines written is: 1587\n"
     ]
    },
    {
     "name": "stdout",
     "output_type": "stream",
     "text": [
      "writing batch 1360000\n"
     ]
    },
    {
     "name": "stderr",
     "output_type": "stream",
     "text": [
      "2017-01-04 07:33:29,999 : INFO : Finished batch of 10000 in 14m 52s\n",
      "2017-01-04 07:33:30,008 : INFO : For index 1300000, the actual number of lines written is: 1600\n"
     ]
    },
    {
     "name": "stdout",
     "output_type": "stream",
     "text": [
      "writing batch 1300000\n"
     ]
    },
    {
     "name": "stderr",
     "output_type": "stream",
     "text": [
      "2017-01-04 07:33:32,490 : INFO : Batch creation working on 1370000\n",
      "\n",
      "2017-01-04 07:33:38,198 : INFO : Finished batch of 10000 in 15m 12s\n",
      "2017-01-04 07:33:38,204 : INFO : For index 1420000, the actual number of lines written is: 1593\n"
     ]
    },
    {
     "name": "stdout",
     "output_type": "stream",
     "text": [
      "writing batch 1420000\n"
     ]
    },
    {
     "name": "stderr",
     "output_type": "stream",
     "text": [
      "2017-01-04 07:33:38,242 : INFO : Batch creation working on 1310000\n",
      "\n",
      "2017-01-04 07:33:47,505 : INFO : Batch creation working on 1430000\n",
      "\n",
      "2017-01-04 07:34:11,537 : INFO : Finished batch of 10000 in 15m 12s\n",
      "2017-01-04 07:34:11,541 : INFO : For index 1480000, the actual number of lines written is: 1685\n"
     ]
    },
    {
     "name": "stdout",
     "output_type": "stream",
     "text": [
      "writing batch 1480000\n"
     ]
    },
    {
     "name": "stderr",
     "output_type": "stream",
     "text": [
      "2017-01-04 07:34:19,531 : INFO : Batch creation working on 1490000\n",
      "\n",
      "2017-01-04 07:34:23,265 : INFO : 1000\n",
      "2017-01-04 07:37:07,829 : INFO : 1000\n",
      "2017-01-04 07:37:45,863 : INFO : Finished batch of 10000 in 15m 9s\n",
      "2017-01-04 07:37:45,897 : INFO : For index 1540000, the actual number of lines written is: 1537\n"
     ]
    },
    {
     "name": "stdout",
     "output_type": "stream",
     "text": [
      "writing batch 1540000\n"
     ]
    },
    {
     "name": "stderr",
     "output_type": "stream",
     "text": [
      "2017-01-04 07:37:53,784 : INFO : Batch creation working on 1550000\n",
      "\n",
      "2017-01-04 07:38:13,459 : INFO : Finished batch of 10000 in 15m 0s\n",
      "2017-01-04 07:38:13,466 : INFO : For index 1600000, the actual number of lines written is: 1603\n"
     ]
    },
    {
     "name": "stdout",
     "output_type": "stream",
     "text": [
      "writing batch 1600000\n"
     ]
    },
    {
     "name": "stderr",
     "output_type": "stream",
     "text": [
      "2017-01-04 07:38:21,911 : INFO : Batch creation working on 1610000\n",
      "\n",
      "2017-01-04 07:38:40,827 : INFO : Finished batch of 10000 in 15m 15s\n",
      "2017-01-04 07:38:40,846 : INFO : For index 1660000, the actual number of lines written is: 1611\n"
     ]
    },
    {
     "name": "stdout",
     "output_type": "stream",
     "text": [
      "writing batch 1660000\n"
     ]
    },
    {
     "name": "stderr",
     "output_type": "stream",
     "text": [
      "2017-01-04 07:38:49,770 : INFO : Batch creation working on 1670000\n",
      "\n",
      "2017-01-04 07:39:48,700 : INFO : 1000\n",
      "2017-01-04 07:39:49,582 : INFO : Finished batch of 10000 in 15m 14s\n",
      "2017-01-04 07:39:49,610 : INFO : For index 1720000, the actual number of lines written is: 1555\n"
     ]
    },
    {
     "name": "stdout",
     "output_type": "stream",
     "text": [
      "writing batch 1720000\n"
     ]
    },
    {
     "name": "stderr",
     "output_type": "stream",
     "text": [
      "2017-01-04 07:39:58,350 : INFO : Batch creation working on 1730000\n",
      "\n",
      "2017-01-04 07:42:44,505 : INFO : Finished batch of 10000 in 15m 2s\n",
      "2017-01-04 07:42:44,511 : INFO : For index 1780000, the actual number of lines written is: 1618\n"
     ]
    },
    {
     "name": "stdout",
     "output_type": "stream",
     "text": [
      "writing batch 1780000\n"
     ]
    },
    {
     "name": "stderr",
     "output_type": "stream",
     "text": [
      "2017-01-04 07:42:46,509 : INFO : 1000\n",
      "2017-01-04 07:42:52,605 : INFO : Batch creation working on 1790000\n",
      "\n",
      "2017-01-04 07:42:56,129 : INFO : 1000\n",
      "2017-01-04 07:43:33,020 : INFO : 1000\n",
      "2017-01-04 07:44:00,075 : INFO : 1000\n",
      "2017-01-04 07:45:55,916 : INFO : Finished batch of 10000 in 15m 16s\n",
      "2017-01-04 07:45:55,939 : INFO : For index 1250000, the actual number of lines written is: 1655\n"
     ]
    },
    {
     "name": "stdout",
     "output_type": "stream",
     "text": [
      "writing batch 1250000\n"
     ]
    },
    {
     "name": "stderr",
     "output_type": "stream",
     "text": [
      "2017-01-04 07:46:04,972 : INFO : Batch creation working on 1800000\n",
      "\n",
      "2017-01-04 07:47:01,735 : INFO : 1000\n",
      "2017-01-04 07:47:36,540 : INFO : 1000\n",
      "2017-01-04 07:47:51,663 : INFO : 1000\n",
      "2017-01-04 07:48:36,435 : INFO : Finished batch of 10000 in 15m 4s\n",
      "2017-01-04 07:48:36,444 : INFO : For index 1370000, the actual number of lines written is: 1607\n"
     ]
    },
    {
     "name": "stdout",
     "output_type": "stream",
     "text": [
      "writing batch 1370000\n"
     ]
    },
    {
     "name": "stderr",
     "output_type": "stream",
     "text": [
      "2017-01-04 07:48:43,834 : INFO : Finished batch of 10000 in 15m 6s\n",
      "2017-01-04 07:48:43,838 : INFO : For index 1310000, the actual number of lines written is: 1618\n"
     ]
    },
    {
     "name": "stdout",
     "output_type": "stream",
     "text": [
      "writing batch 1310000\n"
     ]
    },
    {
     "name": "stderr",
     "output_type": "stream",
     "text": [
      "2017-01-04 07:48:44,823 : INFO : Batch creation working on 1860000\n",
      "\n",
      "2017-01-04 07:48:51,305 : INFO : Batch creation working on 1920000\n",
      "\n",
      "2017-01-04 07:48:58,218 : INFO : Finished batch of 10000 in 15m 11s\n",
      "2017-01-04 07:48:58,222 : INFO : For index 1430000, the actual number of lines written is: 1592\n"
     ]
    },
    {
     "name": "stdout",
     "output_type": "stream",
     "text": [
      "writing batch 1430000\n"
     ]
    },
    {
     "name": "stderr",
     "output_type": "stream",
     "text": [
      "2017-01-04 07:49:06,366 : INFO : Batch creation working on 1980000\n",
      "\n",
      "2017-01-04 07:49:25,410 : INFO : Finished batch of 10000 in 15m 6s\n",
      "2017-01-04 07:49:25,413 : INFO : For index 1490000, the actual number of lines written is: 1603\n"
     ]
    },
    {
     "name": "stdout",
     "output_type": "stream",
     "text": [
      "writing batch 1490000\n"
     ]
    },
    {
     "name": "stderr",
     "output_type": "stream",
     "text": [
      "2017-01-04 07:49:32,077 : INFO : 1000\n",
      "2017-01-04 07:52:05,891 : INFO : 1000\n",
      "2017-01-04 07:52:47,552 : INFO : Finished batch of 10000 in 14m 54s\n",
      "2017-01-04 07:52:47,566 : INFO : For index 1550000, the actual number of lines written is: 1644\n"
     ]
    },
    {
     "name": "stdout",
     "output_type": "stream",
     "text": [
      "writing batch 1550000\n"
     ]
    },
    {
     "name": "stderr",
     "output_type": "stream",
     "text": [
      "2017-01-04 07:53:06,239 : INFO : Finished batch of 10000 in 14m 44s\n",
      "2017-01-04 07:53:06,244 : INFO : For index 1610000, the actual number of lines written is: 1635\n"
     ]
    },
    {
     "name": "stdout",
     "output_type": "stream",
     "text": [
      "writing batch 1610000\n"
     ]
    },
    {
     "name": "stderr",
     "output_type": "stream",
     "text": [
      "2017-01-04 07:53:30,443 : INFO : Finished batch of 10000 in 14m 41s\n",
      "2017-01-04 07:53:30,450 : INFO : For index 1670000, the actual number of lines written is: 1642\n"
     ]
    },
    {
     "name": "stdout",
     "output_type": "stream",
     "text": [
      "writing batch 1670000\n"
     ]
    },
    {
     "name": "stderr",
     "output_type": "stream",
     "text": [
      "2017-01-04 07:54:14,243 : INFO : Finished batch of 10000 in 14m 16s\n",
      "2017-01-04 07:54:14,248 : INFO : For index 1730000, the actual number of lines written is: 1574\n"
     ]
    },
    {
     "name": "stdout",
     "output_type": "stream",
     "text": [
      "writing batch 1730000\n"
     ]
    },
    {
     "name": "stderr",
     "output_type": "stream",
     "text": [
      "2017-01-04 07:54:49,259 : INFO : 1000\n",
      "2017-01-04 07:56:28,310 : INFO : Finished batch of 10000 in 13m 36s\n",
      "2017-01-04 07:56:28,314 : INFO : For index 1790000, the actual number of lines written is: 1550\n"
     ]
    },
    {
     "name": "stdout",
     "output_type": "stream",
     "text": [
      "writing batch 1790000\n"
     ]
    },
    {
     "name": "stderr",
     "output_type": "stream",
     "text": [
      "2017-01-04 07:56:40,028 : INFO : 1000\n",
      "2017-01-04 07:56:52,272 : INFO : 1000\n",
      "2017-01-04 07:57:12,525 : INFO : 1000\n",
      "2017-01-04 07:58:56,025 : INFO : Finished batch of 10000 in 12m 51s\n",
      "2017-01-04 07:58:56,029 : INFO : For index 1800000, the actual number of lines written is: 1596\n"
     ]
    },
    {
     "name": "stdout",
     "output_type": "stream",
     "text": [
      "writing batch 1800000\n"
     ]
    },
    {
     "name": "stderr",
     "output_type": "stream",
     "text": [
      "2017-01-04 07:59:02,207 : INFO : Batch creation working on 1810000\n",
      "\n",
      "2017-01-04 08:00:41,843 : INFO : Finished batch of 10000 in 11m 57s\n",
      "2017-01-04 08:00:41,847 : INFO : For index 1860000, the actual number of lines written is: 1557\n"
     ]
    },
    {
     "name": "stdout",
     "output_type": "stream",
     "text": [
      "writing batch 1860000\n"
     ]
    },
    {
     "name": "stderr",
     "output_type": "stream",
     "text": [
      "2017-01-04 08:00:48,116 : INFO : Batch creation working on 1870000\n",
      "\n",
      "2017-01-04 08:00:58,508 : INFO : Finished batch of 10000 in 12m 7s\n",
      "2017-01-04 08:00:58,513 : INFO : For index 1920000, the actual number of lines written is: 1679\n"
     ]
    },
    {
     "name": "stdout",
     "output_type": "stream",
     "text": [
      "writing batch 1920000\n"
     ]
    },
    {
     "name": "stderr",
     "output_type": "stream",
     "text": [
      "2017-01-04 08:01:05,424 : INFO : Batch creation working on 1930000\n",
      "\n",
      "2017-01-04 08:01:18,160 : INFO : Finished batch of 10000 in 12m 12s\n",
      "2017-01-04 08:01:18,189 : INFO : For index 1980000, the actual number of lines written is: 1566\n"
     ]
    },
    {
     "name": "stdout",
     "output_type": "stream",
     "text": [
      "writing batch 1980000\n"
     ]
    },
    {
     "name": "stderr",
     "output_type": "stream",
     "text": [
      "2017-01-04 08:01:24,981 : INFO : Batch creation working on 1990000\n",
      "\n",
      "2017-01-04 08:06:13,397 : INFO : 1000\n",
      "2017-01-04 08:08:12,086 : INFO : 1000\n",
      "2017-01-04 08:08:17,238 : INFO : 1000\n",
      "2017-01-04 08:08:40,641 : INFO : 1000\n",
      "2017-01-04 08:10:36,903 : INFO : Finished batch of 10000 in 11m 35s\n",
      "2017-01-04 08:10:36,910 : INFO : For index 1810000, the actual number of lines written is: 1589\n"
     ]
    },
    {
     "name": "stdout",
     "output_type": "stream",
     "text": [
      "writing batch 1810000\n"
     ]
    },
    {
     "name": "stderr",
     "output_type": "stream",
     "text": [
      "2017-01-04 08:10:43,218 : INFO : Batch creation working on 1820000\n",
      "\n",
      "2017-01-04 08:12:13,918 : INFO : Finished batch of 10000 in 11m 26s\n",
      "2017-01-04 08:12:13,922 : INFO : For index 1870000, the actual number of lines written is: 1576\n"
     ]
    },
    {
     "name": "stdout",
     "output_type": "stream",
     "text": [
      "writing batch 1870000\n"
     ]
    },
    {
     "name": "stderr",
     "output_type": "stream",
     "text": [
      "2017-01-04 08:12:20,809 : INFO : Batch creation working on 1880000\n",
      "\n",
      "2017-01-04 08:12:47,745 : INFO : Finished batch of 10000 in 11m 42s\n",
      "2017-01-04 08:12:47,750 : INFO : For index 1930000, the actual number of lines written is: 1614\n"
     ]
    },
    {
     "name": "stdout",
     "output_type": "stream",
     "text": [
      "writing batch 1930000\n"
     ]
    },
    {
     "name": "stderr",
     "output_type": "stream",
     "text": [
      "2017-01-04 08:12:55,179 : INFO : Batch creation working on 1940000\n",
      "\n",
      "2017-01-04 08:12:56,175 : INFO : Finished batch of 10000 in 11m 31s\n",
      "2017-01-04 08:12:56,178 : INFO : For index 1990000, the actual number of lines written is: 1651\n"
     ]
    },
    {
     "name": "stdout",
     "output_type": "stream",
     "text": [
      "writing batch 1990000\n"
     ]
    },
    {
     "name": "stderr",
     "output_type": "stream",
     "text": [
      "2017-01-04 08:13:02,738 : INFO : Batch creation working on 2000000\n",
      "\n",
      "2017-01-04 08:18:30,624 : INFO : 1000\n",
      "2017-01-04 08:20:01,341 : INFO : 1000\n",
      "2017-01-04 08:20:54,175 : INFO : 1000\n",
      "2017-01-04 08:20:54,359 : INFO : 1000\n",
      "2017-01-04 08:22:44,181 : INFO : Finished batch of 10000 in 12m 1s\n",
      "2017-01-04 08:22:44,186 : INFO : For index 1820000, the actual number of lines written is: 1573\n"
     ]
    },
    {
     "name": "stdout",
     "output_type": "stream",
     "text": [
      "writing batch 1820000\n"
     ]
    },
    {
     "name": "stderr",
     "output_type": "stream",
     "text": [
      "2017-01-04 08:22:50,938 : INFO : Batch creation working on 1830000\n",
      "\n",
      "2017-01-04 08:24:14,433 : INFO : Finished batch of 10000 in 11m 54s\n",
      "2017-01-04 08:24:14,452 : INFO : For index 1880000, the actual number of lines written is: 1570\n"
     ]
    },
    {
     "name": "stdout",
     "output_type": "stream",
     "text": [
      "writing batch 1880000\n"
     ]
    },
    {
     "name": "stderr",
     "output_type": "stream",
     "text": [
      "2017-01-04 08:24:20,687 : INFO : Batch creation working on 1890000\n",
      "\n",
      "2017-01-04 08:24:30,270 : INFO : Finished batch of 10000 in 11m 28s\n",
      "2017-01-04 08:24:30,287 : INFO : For index 2000000, the actual number of lines written is: 1539\n"
     ]
    },
    {
     "name": "stdout",
     "output_type": "stream",
     "text": [
      "writing batch 2000000\n"
     ]
    },
    {
     "name": "stderr",
     "output_type": "stream",
     "text": [
      "2017-01-04 08:24:44,450 : INFO : Finished batch of 10000 in 11m 49s\n",
      "2017-01-04 08:24:44,453 : INFO : For index 1940000, the actual number of lines written is: 1539\n"
     ]
    },
    {
     "name": "stdout",
     "output_type": "stream",
     "text": [
      "writing batch 1940000\n"
     ]
    },
    {
     "name": "stderr",
     "output_type": "stream",
     "text": [
      "2017-01-04 08:24:50,782 : INFO : Batch creation working on 1950000\n",
      "\n",
      "2017-01-04 08:30:05,931 : INFO : 1000\n",
      "2017-01-04 08:32:05,758 : INFO : 1000\n",
      "2017-01-04 08:32:18,029 : INFO : 1000\n",
      "2017-01-04 08:34:51,482 : INFO : Finished batch of 10000 in 12m 1s\n",
      "2017-01-04 08:34:51,485 : INFO : For index 1830000, the actual number of lines written is: 1613\n"
     ]
    },
    {
     "name": "stdout",
     "output_type": "stream",
     "text": [
      "writing batch 1830000\n"
     ]
    },
    {
     "name": "stderr",
     "output_type": "stream",
     "text": [
      "2017-01-04 08:34:58,851 : INFO : Batch creation working on 1840000\n",
      "\n",
      "2017-01-04 08:36:36,619 : INFO : Finished batch of 10000 in 12m 16s\n",
      "2017-01-04 08:36:36,621 : INFO : For index 1890000, the actual number of lines written is: 1532\n"
     ]
    },
    {
     "name": "stdout",
     "output_type": "stream",
     "text": [
      "writing batch 1890000\n"
     ]
    },
    {
     "name": "stderr",
     "output_type": "stream",
     "text": [
      "2017-01-04 08:36:40,491 : INFO : Batch creation working on 1900000\n",
      "\n",
      "2017-01-04 08:37:31,770 : INFO : Finished batch of 10000 in 12m 41s\n",
      "2017-01-04 08:37:31,776 : INFO : For index 1950000, the actual number of lines written is: 1585\n"
     ]
    },
    {
     "name": "stdout",
     "output_type": "stream",
     "text": [
      "writing batch 1950000\n"
     ]
    },
    {
     "name": "stderr",
     "output_type": "stream",
     "text": [
      "2017-01-04 08:37:38,998 : INFO : Batch creation working on 1960000\n",
      "\n",
      "2017-01-04 08:43:33,201 : INFO : 1000\n",
      "2017-01-04 08:46:10,054 : INFO : 1000\n",
      "2017-01-04 08:46:35,658 : INFO : 1000\n",
      "2017-01-04 08:49:15,163 : INFO : Finished batch of 10000 in 14m 16s\n",
      "2017-01-04 08:49:15,165 : INFO : For index 1840000, the actual number of lines written is: 1587\n"
     ]
    },
    {
     "name": "stdout",
     "output_type": "stream",
     "text": [
      "writing batch 1840000\n"
     ]
    },
    {
     "name": "stderr",
     "output_type": "stream",
     "text": [
      "2017-01-04 08:49:19,707 : INFO : Batch creation working on 1850000\n",
      "\n",
      "2017-01-04 08:51:01,782 : INFO : Finished batch of 10000 in 14m 21s\n",
      "2017-01-04 08:51:01,786 : INFO : For index 1900000, the actual number of lines written is: 1532\n"
     ]
    },
    {
     "name": "stdout",
     "output_type": "stream",
     "text": [
      "writing batch 1900000\n"
     ]
    },
    {
     "name": "stderr",
     "output_type": "stream",
     "text": [
      "2017-01-04 08:51:09,347 : INFO : Batch creation working on 1910000\n",
      "\n",
      "2017-01-04 08:52:24,218 : INFO : Finished batch of 10000 in 14m 45s\n",
      "2017-01-04 08:52:24,221 : INFO : For index 1960000, the actual number of lines written is: 1644\n"
     ]
    },
    {
     "name": "stdout",
     "output_type": "stream",
     "text": [
      "writing batch 1960000\n"
     ]
    },
    {
     "name": "stderr",
     "output_type": "stream",
     "text": [
      "2017-01-04 08:52:28,649 : INFO : Batch creation working on 1970000\n",
      "\n",
      "2017-01-04 08:58:29,945 : INFO : 1000\n",
      "2017-01-04 08:59:56,880 : INFO : 1000\n",
      "2017-01-04 09:01:21,172 : INFO : 1000\n",
      "2017-01-04 09:03:48,143 : INFO : Finished batch of 10000 in 14m 28s\n",
      "2017-01-04 09:03:48,147 : INFO : For index 1850000, the actual number of lines written is: 1510\n"
     ]
    },
    {
     "name": "stdout",
     "output_type": "stream",
     "text": [
      "writing batch 1850000\n"
     ]
    },
    {
     "name": "stderr",
     "output_type": "stream",
     "text": [
      "2017-01-04 09:05:09,293 : INFO : Finished batch of 10000 in 13m 60s\n",
      "2017-01-04 09:05:09,298 : INFO : For index 1910000, the actual number of lines written is: 1606\n"
     ]
    },
    {
     "name": "stdout",
     "output_type": "stream",
     "text": [
      "writing batch 1910000\n"
     ]
    },
    {
     "name": "stderr",
     "output_type": "stream",
     "text": [
      "2017-01-04 09:06:38,757 : INFO : Finished batch of 10000 in 14m 10s\n",
      "2017-01-04 09:06:38,762 : INFO : For index 1970000, the actual number of lines written is: 1635\n"
     ]
    },
    {
     "name": "stdout",
     "output_type": "stream",
     "text": [
      "writing batch 1970000\n"
     ]
    }
   ],
   "source": [
    "pool = ThreadPool(10)\n",
    "# +1 since range is end-exclusive\n",
    "batches = range(0, (divmod(len(line_positions), BATCH_SIZE)[0] + 1) * BATCH_SIZE, BATCH_SIZE )\n",
    "indices = pool.map(multithreaded_batch_creation, batches)"
   ]
  },
  {
   "cell_type": "markdown",
   "metadata": {},
   "source": [
    "#### Join up the files we wrote to form BATCH_SIZE block files"
   ]
  },
  {
   "cell_type": "code",
   "execution_count": 65,
   "metadata": {
    "collapsed": false
   },
   "outputs": [
    {
     "name": "stderr",
     "output_type": "stream",
     "text": [
      "2017-01-04 09:06:46,449 : INFO : Reading new file for batch 10000\n",
      "2017-01-04 09:06:47,245 : INFO : Reading new file for batch 20000\n",
      "2017-01-04 09:06:48,032 : INFO : Reading new file for batch 30000\n",
      "2017-01-04 09:06:48,855 : INFO : Reading new file for batch 40000\n",
      "2017-01-04 09:06:49,657 : INFO : Reading new file for batch 50000\n",
      "2017-01-04 09:06:50,486 : INFO : Reading new file for batch 60000\n",
      "2017-01-04 09:06:50,819 : INFO : Writing to a new file for batch 10000\n",
      "2017-01-04 09:06:59,380 : INFO : Reading new file for batch 70000\n",
      "2017-01-04 09:07:00,196 : INFO : Reading new file for batch 80000\n",
      "2017-01-04 09:07:01,050 : INFO : Reading new file for batch 90000\n",
      "2017-01-04 09:07:02,035 : INFO : Reading new file for batch 100000\n",
      "2017-01-04 09:07:02,900 : INFO : Reading new file for batch 110000\n",
      "2017-01-04 09:07:03,702 : INFO : Reading new file for batch 120000\n",
      "2017-01-04 09:07:04,183 : INFO : Writing to a new file for batch 20000\n",
      "2017-01-04 09:07:12,708 : INFO : Reading new file for batch 130000\n",
      "2017-01-04 09:07:13,479 : INFO : Reading new file for batch 140000\n",
      "2017-01-04 09:07:14,237 : INFO : Reading new file for batch 150000\n",
      "2017-01-04 09:07:15,170 : INFO : Reading new file for batch 160000\n",
      "2017-01-04 09:07:16,079 : INFO : Reading new file for batch 170000\n",
      "2017-01-04 09:07:16,834 : INFO : Reading new file for batch 180000\n",
      "2017-01-04 09:07:17,816 : INFO : Reading new file for batch 190000\n",
      "2017-01-04 09:07:17,944 : INFO : Writing to a new file for batch 30000\n",
      "2017-01-04 09:07:27,018 : INFO : Reading new file for batch 200000\n",
      "2017-01-04 09:07:27,838 : INFO : Reading new file for batch 210000\n",
      "2017-01-04 09:07:28,751 : INFO : Reading new file for batch 220000\n",
      "2017-01-04 09:07:29,473 : INFO : Reading new file for batch 230000\n",
      "2017-01-04 09:07:30,362 : INFO : Reading new file for batch 240000\n",
      "2017-01-04 09:07:31,250 : INFO : Reading new file for batch 250000\n",
      "2017-01-04 09:07:31,596 : INFO : Writing to a new file for batch 40000\n",
      "2017-01-04 09:07:40,904 : INFO : Reading new file for batch 260000\n",
      "2017-01-04 09:07:41,944 : INFO : Reading new file for batch 270000\n",
      "2017-01-04 09:07:43,221 : INFO : Reading new file for batch 280000\n",
      "2017-01-04 09:07:44,339 : INFO : Reading new file for batch 290000\n",
      "2017-01-04 09:07:45,359 : INFO : Reading new file for batch 300000\n",
      "2017-01-04 09:07:46,680 : INFO : Reading new file for batch 310000\n",
      "2017-01-04 09:07:47,430 : INFO : Writing to a new file for batch 50000\n",
      "2017-01-04 09:07:56,147 : INFO : Reading new file for batch 320000\n",
      "2017-01-04 09:07:57,321 : INFO : Reading new file for batch 330000\n",
      "2017-01-04 09:07:58,571 : INFO : Reading new file for batch 340000\n",
      "2017-01-04 09:07:59,962 : INFO : Reading new file for batch 350000\n",
      "2017-01-04 09:08:01,100 : INFO : Reading new file for batch 360000\n",
      "2017-01-04 09:08:02,085 : INFO : Reading new file for batch 370000\n",
      "2017-01-04 09:08:02,705 : INFO : Writing to a new file for batch 60000\n",
      "2017-01-04 09:08:11,049 : INFO : Reading new file for batch 380000\n",
      "2017-01-04 09:08:11,841 : INFO : Reading new file for batch 390000\n",
      "2017-01-04 09:08:12,720 : INFO : Reading new file for batch 400000\n",
      "2017-01-04 09:08:13,709 : INFO : Reading new file for batch 410000\n",
      "2017-01-04 09:08:14,613 : INFO : Reading new file for batch 420000\n",
      "2017-01-04 09:08:15,503 : INFO : Reading new file for batch 430000\n",
      "2017-01-04 09:08:16,216 : INFO : Writing to a new file for batch 70000\n",
      "2017-01-04 09:08:24,178 : INFO : Reading new file for batch 440000\n",
      "2017-01-04 09:08:24,996 : INFO : Reading new file for batch 450000\n",
      "2017-01-04 09:08:25,776 : INFO : Reading new file for batch 460000\n",
      "2017-01-04 09:08:26,598 : INFO : Reading new file for batch 470000\n",
      "2017-01-04 09:08:27,436 : INFO : Reading new file for batch 480000\n",
      "2017-01-04 09:08:28,222 : INFO : Reading new file for batch 490000\n",
      "2017-01-04 09:08:29,011 : INFO : Reading new file for batch 500000\n",
      "2017-01-04 09:08:29,217 : INFO : Writing to a new file for batch 80000\n",
      "2017-01-04 09:08:37,771 : INFO : Reading new file for batch 510000\n",
      "2017-01-04 09:08:38,739 : INFO : Reading new file for batch 520000\n",
      "2017-01-04 09:08:39,544 : INFO : Reading new file for batch 530000\n",
      "2017-01-04 09:08:40,312 : INFO : Reading new file for batch 540000\n",
      "2017-01-04 09:08:41,259 : INFO : Reading new file for batch 550000\n",
      "2017-01-04 09:08:42,024 : INFO : Reading new file for batch 560000\n",
      "2017-01-04 09:08:42,401 : INFO : Writing to a new file for batch 90000\n",
      "2017-01-04 09:08:50,963 : INFO : Reading new file for batch 570000\n",
      "2017-01-04 09:08:51,803 : INFO : Reading new file for batch 580000\n",
      "2017-01-04 09:08:52,613 : INFO : Reading new file for batch 590000\n",
      "2017-01-04 09:08:53,610 : INFO : Reading new file for batch 600000\n",
      "2017-01-04 09:08:54,503 : INFO : Reading new file for batch 610000\n",
      "2017-01-04 09:08:55,373 : INFO : Reading new file for batch 620000\n",
      "2017-01-04 09:08:56,037 : INFO : Writing to a new file for batch 100000\n",
      "2017-01-04 09:09:04,767 : INFO : Reading new file for batch 630000\n",
      "2017-01-04 09:09:05,570 : INFO : Reading new file for batch 640000\n",
      "2017-01-04 09:09:06,303 : INFO : Reading new file for batch 650000\n",
      "2017-01-04 09:09:07,243 : INFO : Reading new file for batch 660000\n",
      "2017-01-04 09:09:08,057 : INFO : Reading new file for batch 670000\n",
      "2017-01-04 09:09:08,889 : INFO : Reading new file for batch 680000\n",
      "2017-01-04 09:09:09,843 : INFO : Writing to a new file for batch 110000\n",
      "2017-01-04 09:09:18,299 : INFO : Reading new file for batch 690000\n",
      "2017-01-04 09:09:19,189 : INFO : Reading new file for batch 700000\n",
      "2017-01-04 09:09:19,998 : INFO : Reading new file for batch 710000\n",
      "2017-01-04 09:09:20,889 : INFO : Reading new file for batch 720000\n",
      "2017-01-04 09:09:21,891 : INFO : Reading new file for batch 730000\n",
      "2017-01-04 09:09:22,822 : INFO : Reading new file for batch 740000\n",
      "2017-01-04 09:09:23,936 : INFO : Reading new file for batch 750000\n",
      "2017-01-04 09:09:23,997 : INFO : Writing to a new file for batch 120000\n",
      "2017-01-04 09:09:33,157 : INFO : Reading new file for batch 760000\n",
      "2017-01-04 09:09:34,071 : INFO : Reading new file for batch 770000\n",
      "2017-01-04 09:09:34,916 : INFO : Reading new file for batch 780000\n",
      "2017-01-04 09:09:35,704 : INFO : Reading new file for batch 790000\n",
      "2017-01-04 09:09:36,572 : INFO : Reading new file for batch 800000\n",
      "2017-01-04 09:09:37,331 : INFO : Reading new file for batch 810000\n",
      "2017-01-04 09:09:37,721 : INFO : Writing to a new file for batch 130000\n",
      "2017-01-04 09:09:46,376 : INFO : Reading new file for batch 820000\n",
      "2017-01-04 09:09:47,271 : INFO : Reading new file for batch 830000\n",
      "2017-01-04 09:09:48,237 : INFO : Reading new file for batch 840000\n",
      "2017-01-04 09:09:49,021 : INFO : Reading new file for batch 850000\n",
      "2017-01-04 09:09:49,865 : INFO : Reading new file for batch 860000\n",
      "2017-01-04 09:09:50,765 : INFO : Reading new file for batch 870000\n",
      "2017-01-04 09:09:51,117 : INFO : Writing to a new file for batch 140000\n",
      "2017-01-04 09:10:00,647 : INFO : Reading new file for batch 880000\n",
      "2017-01-04 09:10:01,515 : INFO : Reading new file for batch 890000\n",
      "2017-01-04 09:10:02,385 : INFO : Reading new file for batch 900000\n",
      "2017-01-04 09:10:03,352 : INFO : Reading new file for batch 910000\n",
      "2017-01-04 09:10:04,140 : INFO : Reading new file for batch 920000\n",
      "2017-01-04 09:10:05,010 : INFO : Reading new file for batch 930000\n",
      "2017-01-04 09:10:05,578 : INFO : Writing to a new file for batch 150000\n",
      "2017-01-04 09:10:14,520 : INFO : Reading new file for batch 940000\n",
      "2017-01-04 09:10:15,237 : INFO : Reading new file for batch 950000\n",
      "2017-01-04 09:10:16,047 : INFO : Reading new file for batch 960000\n",
      "2017-01-04 09:10:16,928 : INFO : Reading new file for batch 970000\n",
      "2017-01-04 09:10:17,896 : INFO : Reading new file for batch 980000\n",
      "2017-01-04 09:10:18,735 : INFO : Reading new file for batch 990000\n",
      "2017-01-04 09:10:19,467 : INFO : Writing to a new file for batch 160000\n",
      "2017-01-04 09:10:27,705 : INFO : Reading new file for batch 1000000\n",
      "2017-01-04 09:10:28,984 : INFO : Reading new file for batch 1010000\n",
      "2017-01-04 09:10:29,969 : INFO : Reading new file for batch 1020000\n",
      "2017-01-04 09:10:31,187 : INFO : Reading new file for batch 1030000\n",
      "2017-01-04 09:10:32,461 : INFO : Reading new file for batch 1040000\n",
      "2017-01-04 09:10:33,916 : INFO : Reading new file for batch 1050000\n",
      "2017-01-04 09:10:35,053 : INFO : Reading new file for batch 1060000\n",
      "2017-01-04 09:10:35,230 : INFO : Writing to a new file for batch 170000\n",
      "2017-01-04 09:10:44,461 : INFO : Reading new file for batch 1070000\n",
      "2017-01-04 09:10:45,679 : INFO : Reading new file for batch 1080000\n",
      "2017-01-04 09:10:47,093 : INFO : Reading new file for batch 1090000\n",
      "2017-01-04 09:10:48,471 : INFO : Reading new file for batch 1100000\n",
      "2017-01-04 09:10:49,737 : INFO : Reading new file for batch 1110000\n",
      "2017-01-04 09:10:50,448 : INFO : Reading new file for batch 1120000\n",
      "2017-01-04 09:10:50,834 : INFO : Writing to a new file for batch 180000\n",
      "2017-01-04 09:10:59,537 : INFO : Reading new file for batch 1130000\n",
      "2017-01-04 09:11:00,328 : INFO : Reading new file for batch 1140000\n",
      "2017-01-04 09:11:01,188 : INFO : Reading new file for batch 1150000\n",
      "2017-01-04 09:11:02,112 : INFO : Reading new file for batch 1160000\n",
      "2017-01-04 09:11:03,024 : INFO : Reading new file for batch 1170000\n",
      "2017-01-04 09:11:03,858 : INFO : Reading new file for batch 1180000\n",
      "2017-01-04 09:11:04,487 : INFO : Writing to a new file for batch 190000\n",
      "2017-01-04 09:11:12,667 : INFO : Reading new file for batch 1190000\n",
      "2017-01-04 09:11:13,402 : INFO : Reading new file for batch 1200000\n",
      "2017-01-04 09:11:14,156 : INFO : Reading new file for batch 1210000\n",
      "2017-01-04 09:11:14,922 : INFO : Reading new file for batch 1220000\n",
      "2017-01-04 09:11:15,715 : INFO : Reading new file for batch 1230000\n",
      "2017-01-04 09:11:16,288 : INFO : Reading new file for batch 1240000\n",
      "2017-01-04 09:11:16,797 : INFO : Reading new file for batch 1250000\n",
      "2017-01-04 09:11:16,929 : INFO : Writing to a new file for batch 200000\n",
      "2017-01-04 09:11:25,887 : INFO : Reading new file for batch 1260000\n",
      "2017-01-04 09:11:26,774 : INFO : Reading new file for batch 1270000\n",
      "2017-01-04 09:11:27,571 : INFO : Reading new file for batch 1280000\n",
      "2017-01-04 09:11:28,341 : INFO : Reading new file for batch 1290000\n",
      "2017-01-04 09:11:28,922 : INFO : Reading new file for batch 1300000\n",
      "2017-01-04 09:11:29,470 : INFO : Reading new file for batch 1310000\n",
      "2017-01-04 09:11:29,654 : INFO : Writing to a new file for batch 210000\n",
      "2017-01-04 09:11:37,933 : INFO : Reading new file for batch 1320000\n",
      "2017-01-04 09:11:38,743 : INFO : Reading new file for batch 1330000\n",
      "2017-01-04 09:11:39,463 : INFO : Reading new file for batch 1340000\n",
      "2017-01-04 09:11:40,382 : INFO : Reading new file for batch 1350000\n",
      "2017-01-04 09:11:40,905 : INFO : Reading new file for batch 1360000\n",
      "2017-01-04 09:11:41,437 : INFO : Reading new file for batch 1370000\n",
      "2017-01-04 09:11:41,745 : INFO : Writing to a new file for batch 220000\n",
      "2017-01-04 09:11:50,358 : INFO : Reading new file for batch 1380000\n",
      "2017-01-04 09:11:51,207 : INFO : Reading new file for batch 1390000\n",
      "2017-01-04 09:11:52,081 : INFO : Reading new file for batch 1400000\n",
      "2017-01-04 09:11:52,774 : INFO : Reading new file for batch 1410000\n",
      "2017-01-04 09:11:53,263 : INFO : Reading new file for batch 1420000\n",
      "2017-01-04 09:11:54,046 : INFO : Reading new file for batch 1430000\n",
      "2017-01-04 09:11:54,375 : INFO : Writing to a new file for batch 230000\n",
      "2017-01-04 09:12:02,403 : INFO : Reading new file for batch 1440000\n",
      "2017-01-04 09:12:03,170 : INFO : Reading new file for batch 1450000\n",
      "2017-01-04 09:12:04,004 : INFO : Reading new file for batch 1460000\n",
      "2017-01-04 09:12:04,720 : INFO : Reading new file for batch 1470000\n",
      "2017-01-04 09:12:05,279 : INFO : Reading new file for batch 1480000\n",
      "2017-01-04 09:12:05,968 : INFO : Reading new file for batch 1490000\n",
      "2017-01-04 09:12:06,527 : INFO : Writing to a new file for batch 240000\n",
      "2017-01-04 09:12:14,646 : INFO : Reading new file for batch 1500000\n",
      "2017-01-04 09:12:15,591 : INFO : Reading new file for batch 1510000\n",
      "2017-01-04 09:12:16,286 : INFO : Reading new file for batch 1520000\n",
      "2017-01-04 09:12:17,131 : INFO : Reading new file for batch 1530000\n",
      "2017-01-04 09:12:17,676 : INFO : Reading new file for batch 1540000\n",
      "2017-01-04 09:12:18,238 : INFO : Reading new file for batch 1550000\n",
      "2017-01-04 09:12:18,874 : INFO : Reading new file for batch 1560000\n",
      "2017-01-04 09:12:18,977 : INFO : Writing to a new file for batch 250000\n",
      "2017-01-04 09:12:27,779 : INFO : Reading new file for batch 1570000\n",
      "2017-01-04 09:12:28,520 : INFO : Reading new file for batch 1580000\n",
      "2017-01-04 09:12:29,334 : INFO : Reading new file for batch 1590000\n",
      "2017-01-04 09:12:29,899 : INFO : Reading new file for batch 1600000\n",
      "2017-01-04 09:12:30,359 : INFO : Reading new file for batch 1610000\n",
      "2017-01-04 09:12:31,027 : INFO : Reading new file for batch 1620000\n",
      "2017-01-04 09:12:31,315 : INFO : Writing to a new file for batch 260000\n",
      "2017-01-04 09:12:39,734 : INFO : Reading new file for batch 1630000\n",
      "2017-01-04 09:12:40,627 : INFO : Reading new file for batch 1640000\n",
      "2017-01-04 09:12:41,448 : INFO : Reading new file for batch 1650000\n",
      "2017-01-04 09:12:42,014 : INFO : Reading new file for batch 1660000\n",
      "2017-01-04 09:12:42,580 : INFO : Reading new file for batch 1670000\n",
      "2017-01-04 09:12:43,176 : INFO : Reading new file for batch 1680000\n",
      "2017-01-04 09:12:43,609 : INFO : Writing to a new file for batch 270000\n",
      "2017-01-04 09:12:51,748 : INFO : Reading new file for batch 1690000\n",
      "2017-01-04 09:12:52,501 : INFO : Reading new file for batch 1700000\n",
      "2017-01-04 09:12:53,309 : INFO : Reading new file for batch 1710000\n",
      "2017-01-04 09:12:53,854 : INFO : Reading new file for batch 1720000\n",
      "2017-01-04 09:12:54,360 : INFO : Reading new file for batch 1730000\n",
      "2017-01-04 09:12:54,931 : INFO : Reading new file for batch 1740000\n",
      "2017-01-04 09:12:55,739 : INFO : Writing to a new file for batch 280000\n",
      "2017-01-04 09:13:03,969 : INFO : Reading new file for batch 1750000\n",
      "2017-01-04 09:13:04,758 : INFO : Reading new file for batch 1760000\n",
      "2017-01-04 09:13:05,522 : INFO : Reading new file for batch 1770000\n",
      "2017-01-04 09:13:07,914 : INFO : Reading new file for batch 1780000\n",
      "2017-01-04 09:13:08,438 : INFO : Reading new file for batch 1790000\n",
      "2017-01-04 09:13:08,961 : INFO : Reading new file for batch 1800000\n",
      "2017-01-04 09:13:09,444 : INFO : Reading new file for batch 1810000\n",
      "2017-01-04 09:13:09,478 : INFO : Writing to a new file for batch 290000\n",
      "2017-01-04 09:13:18,212 : INFO : Reading new file for batch 1820000\n",
      "2017-01-04 09:13:18,888 : INFO : Reading new file for batch 1830000\n",
      "2017-01-04 09:13:19,517 : INFO : Reading new file for batch 1840000\n",
      "2017-01-04 09:13:20,582 : INFO : Reading new file for batch 1850000\n",
      "2017-01-04 09:13:21,423 : INFO : Reading new file for batch 1860000\n",
      "2017-01-04 09:13:21,952 : INFO : Reading new file for batch 1870000\n",
      "2017-01-04 09:13:22,293 : INFO : Writing to a new file for batch 300000\n",
      "2017-01-04 09:13:30,573 : INFO : Reading new file for batch 1880000\n",
      "2017-01-04 09:13:31,360 : INFO : Reading new file for batch 1890000\n",
      "2017-01-04 09:13:32,248 : INFO : Reading new file for batch 1900000\n",
      "2017-01-04 09:13:32,905 : INFO : Reading new file for batch 1910000\n",
      "2017-01-04 09:13:33,609 : INFO : Reading new file for batch 1920000\n",
      "2017-01-04 09:13:34,412 : INFO : Reading new file for batch 1930000\n",
      "2017-01-04 09:13:35,073 : INFO : Writing to a new file for batch 310000\n",
      "2017-01-04 09:13:43,746 : INFO : Reading new file for batch 1940000\n",
      "2017-01-04 09:13:44,239 : INFO : Reading new file for batch 1950000\n",
      "2017-01-04 09:13:44,823 : INFO : Reading new file for batch 1960000\n",
      "2017-01-04 09:13:45,645 : INFO : Reading new file for batch 1970000\n",
      "2017-01-04 09:13:46,009 : INFO : Reading new file for batch 1980000\n",
      "2017-01-04 09:13:46,435 : INFO : Reading new file for batch 1990000\n",
      "2017-01-04 09:13:47,020 : INFO : Reading new file for batch 2000000\n",
      "2017-01-04 09:13:47,027 : INFO : Writing to a new file for batch 320000\n",
      "2017-01-04 09:13:55,267 : INFO : Reading new file for batch 2010000\n"
     ]
    }
   ],
   "source": [
    "curr_index = 0\n",
    "curr_read_file_index = 0\n",
    "curr_write_file_index = 0\n",
    "\n",
    "read_file = None\n",
    "write_file = None\n",
    "\n",
    "def read_line():\n",
    "    global read_file, curr_read_file_index\n",
    "    while True:\n",
    "        if read_file is None:\n",
    "            if os.path.exists(VALIDATION_PREPROCESSED_FILES_PREFIX + str(curr_read_file_index)):\n",
    "                read_file = open(VALIDATION_PREPROCESSED_FILES_PREFIX + str(curr_read_file_index), \"r\")\n",
    "            else: \n",
    "                raise StopIteration()\n",
    "        for line in read_file:\n",
    "            yield line\n",
    "            \n",
    "        curr_read_file_index += BATCH_SIZE\n",
    "        info(\"Reading new file for batch {}\".format(curr_read_file_index))\n",
    "        read_file.close()\n",
    "        read_file = None\n",
    "\n",
    "def write_line(line):\n",
    "    global write_file, curr_write_file_index, curr_index\n",
    "    if write_file is None:\n",
    "        write_file = open(VALIDATION_MERGED_PREPROCESSED_FILES_PREFIX + str(curr_write_file_index), \"w\")\n",
    "    write_file.write(line)\n",
    "    curr_index += 1\n",
    "    if curr_index % BATCH_SIZE == 0:\n",
    "        curr_write_file_index += BATCH_SIZE\n",
    "        info(\"Writing to a new file for batch {}\".format(curr_write_file_index))\n",
    "        write_file.close()\n",
    "        write_file = None\n",
    "    \n",
    "\n",
    "for line in read_line():\n",
    "    write_line(line)"
   ]
  },
  {
   "cell_type": "markdown",
   "metadata": {},
   "source": [
    "#### Rearranging Docids files"
   ]
  },
  {
   "cell_type": "code",
   "execution_count": 66,
   "metadata": {
    "collapsed": true
   },
   "outputs": [],
   "source": [
    "all_doc_ids = []\n",
    "\n",
    "for i in range(0, 100000000, BATCH_SIZE):\n",
    "    if os.path.exists(VALIDATION_PREPROCESSED_DOCIDS_FILES_PREFIX + str(i)):\n",
    "        doc_ids = pickle.load(open(VALIDATION_PREPROCESSED_DOCIDS_FILES_PREFIX + str(i)))\n",
    "        all_doc_ids.extend(doc_ids)\n",
    "    else:\n",
    "        break\n",
    "        \n",
    "\n",
    "for i in range(0, 100000000, BATCH_SIZE):\n",
    "    if i < len(all_doc_ids):\n",
    "        pickle.dump(all_doc_ids[i: i + BATCH_SIZE], open(VALIDATION_MERGED_PREPROCESSED_DOCIDS_FILES_PREFIX + str(i), \"w\"))\n",
    "    else:\n",
    "        break"
   ]
  },
  {
   "cell_type": "markdown",
   "metadata": {},
   "source": [
    "# Test Data"
   ]
  },
  {
   "cell_type": "code",
   "execution_count": 18,
   "metadata": {
    "collapsed": true
   },
   "outputs": [],
   "source": [
    "def multithreaded_batch_creation(start_index):\n",
    "\n",
    "    file_prefix = TEST_PREPROCESSED_FILES_PREFIX\n",
    "    doc_file_prefix = TEST_PREPROCESSED_DOCIDS_FILES_PREFIX\n",
    "    \n",
    "    if os.path.exists(file_prefix + str(start_index)):\n",
    "        info(\"Batch {} already exists, skipping..\".format(start_index))\n",
    "        return\n",
    "    \n",
    "    info(\"Batch creation working on {}\\n\".format(start_index))\n",
    "    with open(training_file) as file_obj:\n",
    "        file_obj.seek(line_positions[start_index])\n",
    "        token_lines, doc_ids = [], []\n",
    "        start_time = time.time()\n",
    "        for i, line in enumerate(file_obj):\n",
    "            (doc_id, text) = eval(line)\n",
    "            if doc_id in test_docs_list:\n",
    "                token_lines.append(stemtokenizer(text))\n",
    "                doc_ids.append(doc_id)\n",
    "                if len(token_lines) % 1000 == 0: info(len(token_lines))\n",
    "            if i >= BATCH_SIZE:\n",
    "                break\n",
    "    duration = time.time() - start_time\n",
    "    info(\"Finished batch of {:d} in {:.0f}m {:.0f}s\".format(BATCH_SIZE, *divmod(duration, 60)))\n",
    "    info(\"For index {}, the actual number of lines written is: {}\".format(start_index, len(token_lines)))\n",
    "    write_batch(file_prefix, doc_file_prefix, token_lines, doc_ids, start_index)\n",
    "    del token_lines\n",
    "    del doc_ids"
   ]
  },
  {
   "cell_type": "code",
   "execution_count": 17,
   "metadata": {
    "collapsed": false
   },
   "outputs": [
    {
     "data": {
      "text/plain": [
       "2010000"
      ]
     },
     "execution_count": 17,
     "metadata": {},
     "output_type": "execute_result"
    }
   ],
   "source": [
    "(divmod(len(line_positions), BATCH_SIZE)[0] +1) * BATCH_SIZE"
   ]
  },
  {
   "cell_type": "code",
   "execution_count": 19,
   "metadata": {
    "collapsed": false
   },
   "outputs": [
    {
     "name": "stderr",
     "output_type": "stream",
     "text": [
      "2017-01-30 18:34:43,473 : INFO : Batch creation working on 40000\n",
      "\n",
      "2017-01-30 18:34:43,473 : INFO : Batch creation working on 400000\n",
      "\n",
      "2017-01-30 18:34:43,474 : INFO : Batch creation working on 240000\n",
      "\n",
      "2017-01-30 18:34:43,473 : INFO : Batch creation working on 0\n",
      "\n",
      "2017-01-30 18:34:43,473 : INFO : Batch creation working on 200000\n",
      "\n",
      "2017-01-30 18:34:43,474 : INFO : Batch creation working on 440000\n",
      "\n",
      "2017-01-30 18:34:43,474 : INFO : Batch creation working on 360000\n",
      "\n",
      "2017-01-30 18:34:43,477 : INFO : Batch creation working on 120000\n",
      "\n",
      "2017-01-30 18:34:43,477 : INFO : Batch creation working on 80000\n",
      "\n",
      "2017-01-30 18:34:43,477 : INFO : Batch creation working on 480000\n",
      "\n",
      "2017-01-30 18:34:43,478 : INFO : Batch creation working on 280000\n",
      "\n",
      "2017-01-30 18:34:43,479 : INFO : Batch creation working on 320000\n",
      "\n",
      "2017-01-30 18:34:43,479 : INFO : Batch creation working on 160000\n",
      "\n",
      "2017-01-30 18:34:43,479 : INFO : Batch creation working on 520000\n",
      "\n",
      "2017-01-30 18:34:43,482 : INFO : Batch creation working on 560000\n",
      "\n",
      "2017-01-30 18:34:43,482 : INFO : Batch creation working on 600000\n",
      "\n",
      "2017-01-30 18:41:34,033 : INFO : 1000\n",
      "2017-01-30 18:41:36,829 : INFO : 1000\n",
      "2017-01-30 18:41:39,723 : INFO : 1000\n",
      "2017-01-30 18:41:49,924 : INFO : 1000\n",
      "2017-01-30 18:42:00,928 : INFO : 1000\n",
      "2017-01-30 18:42:02,816 : INFO : 1000\n",
      "2017-01-30 18:42:11,779 : INFO : 1000\n",
      "2017-01-30 18:43:22,686 : INFO : 1000\n",
      "2017-01-30 18:43:32,891 : INFO : 1000\n",
      "2017-01-30 18:43:41,396 : INFO : 1000\n",
      "2017-01-30 18:43:44,051 : INFO : 1000\n",
      "2017-01-30 18:43:44,943 : INFO : 1000\n",
      "2017-01-30 18:43:47,736 : INFO : 1000\n",
      "2017-01-30 18:43:49,171 : INFO : 1000\n",
      "2017-01-30 18:43:51,798 : INFO : 1000\n",
      "2017-01-30 18:43:55,851 : INFO : 1000\n",
      "2017-01-30 18:48:00,762 : INFO : Finished batch of 10000 in 13m 17s\n",
      "2017-01-30 18:48:00,765 : INFO : For index 0, the actual number of lines written is: 1992\n"
     ]
    },
    {
     "name": "stdout",
     "output_type": "stream",
     "text": [
      "writing batch 0\n"
     ]
    },
    {
     "name": "stderr",
     "output_type": "stream",
     "text": [
      "2017-01-30 18:48:07,244 : INFO : Batch creation working on 10000\n",
      "\n",
      "2017-01-30 18:48:18,067 : INFO : 2000\n",
      "2017-01-30 18:48:19,040 : INFO : 2000\n",
      "2017-01-30 18:48:26,435 : INFO : 2000\n",
      "2017-01-30 18:48:41,425 : INFO : Finished batch of 10000 in 13m 58s\n",
      "2017-01-30 18:48:41,430 : INFO : For index 40000, the actual number of lines written is: 2029\n"
     ]
    },
    {
     "name": "stdout",
     "output_type": "stream",
     "text": [
      "writing batch 40000\n"
     ]
    },
    {
     "name": "stderr",
     "output_type": "stream",
     "text": [
      "2017-01-30 18:48:43,648 : INFO : Finished batch of 10000 in 13m 60s\n",
      "2017-01-30 18:48:43,651 : INFO : For index 200000, the actual number of lines written is: 1977\n"
     ]
    },
    {
     "name": "stdout",
     "output_type": "stream",
     "text": [
      "writing batch 200000\n"
     ]
    },
    {
     "name": "stderr",
     "output_type": "stream",
     "text": [
      "2017-01-30 18:48:47,621 : INFO : Batch creation working on 50000\n",
      "\n",
      "2017-01-30 18:48:49,688 : INFO : Batch creation working on 210000\n",
      "\n",
      "2017-01-30 18:48:50,889 : INFO : Finished batch of 10000 in 14m 7s\n",
      "2017-01-30 18:48:50,892 : INFO : For index 440000, the actual number of lines written is: 1990\n"
     ]
    },
    {
     "name": "stdout",
     "output_type": "stream",
     "text": [
      "writing batch 440000\n"
     ]
    },
    {
     "name": "stderr",
     "output_type": "stream",
     "text": [
      "2017-01-30 18:48:51,857 : INFO : Finished batch of 10000 in 14m 8s\n",
      "2017-01-30 18:48:51,860 : INFO : For index 400000, the actual number of lines written is: 2083\n"
     ]
    },
    {
     "name": "stdout",
     "output_type": "stream",
     "text": [
      "writing batch 400000\n"
     ]
    },
    {
     "name": "stderr",
     "output_type": "stream",
     "text": [
      "2017-01-30 18:48:58,996 : INFO : Batch creation working on 450000\n",
      "\n",
      "2017-01-30 18:48:59,303 : INFO : Finished batch of 10000 in 14m 16s\n",
      "2017-01-30 18:48:59,306 : INFO : For index 280000, the actual number of lines written is: 2092\n"
     ]
    },
    {
     "name": "stdout",
     "output_type": "stream",
     "text": [
      "writing batch 280000\n"
     ]
    },
    {
     "name": "stderr",
     "output_type": "stream",
     "text": [
      "2017-01-30 18:48:59,499 : INFO : Batch creation working on 410000\n",
      "\n",
      "2017-01-30 18:49:02,258 : INFO : Finished batch of 10000 in 14m 18s\n",
      "2017-01-30 18:49:02,261 : INFO : For index 600000, the actual number of lines written is: 1992\n"
     ]
    },
    {
     "name": "stdout",
     "output_type": "stream",
     "text": [
      "writing batch 600000\n"
     ]
    },
    {
     "name": "stderr",
     "output_type": "stream",
     "text": [
      "2017-01-30 18:49:06,531 : INFO : Batch creation working on 290000\n",
      "\n",
      "2017-01-30 18:49:08,779 : INFO : Batch creation working on 610000\n",
      "\n",
      "2017-01-30 18:51:52,214 : INFO : 2000\n",
      "2017-01-30 18:51:52,661 : INFO : 2000\n",
      "2017-01-30 18:51:57,505 : INFO : 2000\n",
      "2017-01-30 18:52:05,077 : INFO : Finished batch of 10000 in 17m 21s\n",
      "2017-01-30 18:52:05,080 : INFO : For index 120000, the actual number of lines written is: 2012\n"
     ]
    },
    {
     "name": "stdout",
     "output_type": "stream",
     "text": [
      "writing batch 120000\n"
     ]
    },
    {
     "name": "stderr",
     "output_type": "stream",
     "text": [
      "2017-01-30 18:52:05,669 : INFO : Finished batch of 10000 in 17m 22s\n",
      "2017-01-30 18:52:05,675 : INFO : For index 520000, the actual number of lines written is: 2019\n"
     ]
    },
    {
     "name": "stdout",
     "output_type": "stream",
     "text": [
      "writing batch 520000\n"
     ]
    },
    {
     "name": "stderr",
     "output_type": "stream",
     "text": [
      "2017-01-30 18:52:09,372 : INFO : Finished batch of 10000 in 17m 26s\n",
      "2017-01-30 18:52:09,376 : INFO : For index 160000, the actual number of lines written is: 2029\n"
     ]
    },
    {
     "name": "stdout",
     "output_type": "stream",
     "text": [
      "writing batch 160000\n"
     ]
    },
    {
     "name": "stderr",
     "output_type": "stream",
     "text": [
      "2017-01-30 18:52:14,195 : INFO : Batch creation working on 130000\n",
      "\n",
      "2017-01-30 18:52:14,366 : INFO : Batch creation working on 530000\n",
      "\n",
      "2017-01-30 18:52:16,357 : INFO : Finished batch of 10000 in 17m 33s\n",
      "2017-01-30 18:52:16,361 : INFO : For index 360000, the actual number of lines written is: 1967\n"
     ]
    },
    {
     "name": "stdout",
     "output_type": "stream",
     "text": [
      "writing batch 360000\n"
     ]
    },
    {
     "name": "stderr",
     "output_type": "stream",
     "text": [
      "2017-01-30 18:52:17,599 : INFO : 2000\n",
      "2017-01-30 18:52:17,882 : INFO : Finished batch of 10000 in 17m 34s\n",
      "2017-01-30 18:52:17,885 : INFO : For index 480000, the actual number of lines written is: 2000\n"
     ]
    },
    {
     "name": "stdout",
     "output_type": "stream",
     "text": [
      "writing batch 480000\n"
     ]
    },
    {
     "name": "stderr",
     "output_type": "stream",
     "text": [
      "2017-01-30 18:52:18,218 : INFO : Batch creation working on 170000\n",
      "\n",
      "2017-01-30 18:52:19,083 : INFO : Finished batch of 10000 in 17m 35s\n",
      "2017-01-30 18:52:19,088 : INFO : For index 320000, the actual number of lines written is: 1988\n"
     ]
    },
    {
     "name": "stdout",
     "output_type": "stream",
     "text": [
      "writing batch 320000\n"
     ]
    },
    {
     "name": "stderr",
     "output_type": "stream",
     "text": [
      "2017-01-30 18:52:21,031 : INFO : Finished batch of 10000 in 17m 37s\n",
      "2017-01-30 18:52:21,037 : INFO : For index 240000, the actual number of lines written is: 1949\n"
     ]
    },
    {
     "name": "stdout",
     "output_type": "stream",
     "text": [
      "writing batch 240000\n"
     ]
    },
    {
     "name": "stderr",
     "output_type": "stream",
     "text": [
      "2017-01-30 18:52:21,213 : INFO : 2000\n",
      "2017-01-30 18:52:24,951 : INFO : Finished batch of 10000 in 17m 41s\n",
      "2017-01-30 18:52:24,954 : INFO : For index 560000, the actual number of lines written is: 2006\n"
     ]
    },
    {
     "name": "stdout",
     "output_type": "stream",
     "text": [
      "writing batch 560000\n"
     ]
    },
    {
     "name": "stderr",
     "output_type": "stream",
     "text": [
      "2017-01-30 18:52:26,161 : INFO : Batch creation working on 370000\n",
      "\n",
      "2017-01-30 18:52:26,430 : INFO : Finished batch of 10000 in 17m 43s\n",
      "2017-01-30 18:52:26,436 : INFO : For index 80000, the actual number of lines written is: 1966\n"
     ]
    },
    {
     "name": "stdout",
     "output_type": "stream",
     "text": [
      "writing batch 80000\n"
     ]
    },
    {
     "name": "stderr",
     "output_type": "stream",
     "text": [
      "2017-01-30 18:52:27,957 : INFO : Batch creation working on 490000\n",
      "\n",
      "2017-01-30 18:52:28,979 : INFO : Batch creation working on 330000\n",
      "\n",
      "2017-01-30 18:52:30,281 : INFO : Batch creation working on 250000\n",
      "\n",
      "2017-01-30 18:52:35,834 : INFO : Batch creation working on 570000\n",
      "\n",
      "2017-01-30 18:52:36,573 : INFO : Batch creation working on 90000\n",
      "\n",
      "2017-01-30 18:54:44,315 : INFO : 1000\n",
      "2017-01-30 18:55:24,954 : INFO : 1000\n",
      "2017-01-30 18:55:40,813 : INFO : 1000\n",
      "2017-01-30 18:55:41,182 : INFO : 1000\n",
      "2017-01-30 18:55:55,220 : INFO : 1000\n",
      "2017-01-30 18:56:06,476 : INFO : 1000\n",
      "2017-01-30 18:56:15,295 : INFO : 1000\n",
      "2017-01-30 19:00:38,745 : INFO : 1000\n",
      "2017-01-30 19:00:52,225 : INFO : 1000\n",
      "2017-01-30 19:00:55,223 : INFO : 1000\n",
      "2017-01-30 19:00:55,422 : INFO : 1000\n",
      "2017-01-30 19:00:57,606 : INFO : 1000\n",
      "2017-01-30 19:01:06,683 : INFO : 1000\n",
      "2017-01-30 19:01:14,538 : INFO : 2000\n",
      "2017-01-30 19:01:20,931 : INFO : 1000\n",
      "2017-01-30 19:01:24,569 : INFO : Finished batch of 10000 in 13m 17s\n",
      "2017-01-30 19:01:24,571 : INFO : For index 10000, the actual number of lines written is: 2022\n"
     ]
    },
    {
     "name": "stdout",
     "output_type": "stream",
     "text": [
      "writing batch 10000\n"
     ]
    },
    {
     "name": "stderr",
     "output_type": "stream",
     "text": [
      "2017-01-30 19:01:30,773 : INFO : 1000\n",
      "2017-01-30 19:01:30,976 : INFO : Batch creation working on 20000\n",
      "\n",
      "2017-01-30 19:01:33,367 : INFO : 1000\n",
      "2017-01-30 19:02:27,729 : INFO : 2000\n",
      "2017-01-30 19:02:31,057 : INFO : 2000\n",
      "2017-01-30 19:02:46,215 : INFO : Finished batch of 10000 in 13m 57s\n",
      "2017-01-30 19:02:46,218 : INFO : For index 210000, the actual number of lines written is: 2038\n"
     ]
    },
    {
     "name": "stdout",
     "output_type": "stream",
     "text": [
      "writing batch 210000\n"
     ]
    },
    {
     "name": "stderr",
     "output_type": "stream",
     "text": [
      "2017-01-30 19:02:46,585 : INFO : Finished batch of 10000 in 13m 59s\n",
      "2017-01-30 19:02:46,588 : INFO : For index 50000, the actual number of lines written is: 2040\n"
     ]
    },
    {
     "name": "stdout",
     "output_type": "stream",
     "text": [
      "writing batch 50000\n"
     ]
    },
    {
     "name": "stderr",
     "output_type": "stream",
     "text": [
      "2017-01-30 19:02:52,364 : INFO : Finished batch of 10000 in 13m 53s\n",
      "2017-01-30 19:02:52,369 : INFO : For index 410000, the actual number of lines written is: 1883\n"
     ]
    },
    {
     "name": "stdout",
     "output_type": "stream",
     "text": [
      "writing batch 410000\n"
     ]
    },
    {
     "name": "stderr",
     "output_type": "stream",
     "text": [
      "2017-01-30 19:02:54,173 : INFO : Finished batch of 10000 in 13m 55s\n",
      "2017-01-30 19:02:54,177 : INFO : For index 450000, the actual number of lines written is: 1983\n"
     ]
    },
    {
     "name": "stdout",
     "output_type": "stream",
     "text": [
      "writing batch 450000\n"
     ]
    },
    {
     "name": "stderr",
     "output_type": "stream",
     "text": [
      "2017-01-30 19:02:54,282 : INFO : Batch creation working on 60000\n",
      "\n",
      "2017-01-30 19:02:54,523 : INFO : Batch creation working on 220000\n",
      "\n",
      "2017-01-30 19:02:54,947 : INFO : 2000\n",
      "2017-01-30 19:02:58,282 : INFO : Batch creation working on 420000\n",
      "\n",
      "2017-01-30 19:03:00,102 : INFO : Batch creation working on 460000\n",
      "\n",
      "2017-01-30 19:03:00,148 : INFO : 2000\n",
      "2017-01-30 19:03:05,481 : INFO : Finished batch of 10000 in 13m 57s\n",
      "2017-01-30 19:03:05,485 : INFO : For index 610000, the actual number of lines written is: 2009\n"
     ]
    },
    {
     "name": "stdout",
     "output_type": "stream",
     "text": [
      "writing batch 610000\n"
     ]
    },
    {
     "name": "stderr",
     "output_type": "stream",
     "text": [
      "2017-01-30 19:03:11,977 : INFO : Batch creation working on 620000\n",
      "\n",
      "2017-01-30 19:03:18,596 : INFO : Finished batch of 10000 in 14m 12s\n",
      "2017-01-30 19:03:18,598 : INFO : For index 290000, the actual number of lines written is: 2058\n"
     ]
    },
    {
     "name": "stdout",
     "output_type": "stream",
     "text": [
      "writing batch 290000\n"
     ]
    },
    {
     "name": "stderr",
     "output_type": "stream",
     "text": [
      "2017-01-30 19:03:25,307 : INFO : Batch creation working on 300000\n",
      "\n",
      "2017-01-30 19:08:00,251 : INFO : 1000\n",
      "2017-01-30 19:09:00,213 : INFO : 2000\n",
      "2017-01-30 19:09:19,789 : INFO : Finished batch of 10000 in 17m 5s\n",
      "2017-01-30 19:09:19,796 : INFO : For index 530000, the actual number of lines written is: 1987\n"
     ]
    },
    {
     "name": "stdout",
     "output_type": "stream",
     "text": [
      "writing batch 530000\n"
     ]
    },
    {
     "name": "stderr",
     "output_type": "stream",
     "text": [
      "2017-01-30 19:09:22,996 : INFO : Finished batch of 10000 in 17m 5s\n",
      "2017-01-30 19:09:23,000 : INFO : For index 170000, the actual number of lines written is: 2045\n"
     ]
    },
    {
     "name": "stdout",
     "output_type": "stream",
     "text": [
      "writing batch 170000\n"
     ]
    },
    {
     "name": "stderr",
     "output_type": "stream",
     "text": [
      "2017-01-30 19:09:27,480 : INFO : Batch creation working on 540000\n",
      "\n",
      "2017-01-30 19:09:29,931 : INFO : Finished batch of 10000 in 17m 1s\n",
      "2017-01-30 19:09:29,934 : INFO : For index 330000, the actual number of lines written is: 1989\n"
     ]
    },
    {
     "name": "stdout",
     "output_type": "stream",
     "text": [
      "writing batch 330000\n"
     ]
    },
    {
     "name": "stderr",
     "output_type": "stream",
     "text": [
      "2017-01-30 19:09:30,800 : INFO : Batch creation working on 180000\n",
      "\n",
      "2017-01-30 19:09:34,081 : INFO : Finished batch of 10000 in 17m 20s\n",
      "2017-01-30 19:09:34,086 : INFO : For index 130000, the actual number of lines written is: 1982\n"
     ]
    },
    {
     "name": "stdout",
     "output_type": "stream",
     "text": [
      "writing batch 130000\n"
     ]
    },
    {
     "name": "stderr",
     "output_type": "stream",
     "text": [
      "2017-01-30 19:09:37,812 : INFO : Batch creation working on 340000\n",
      "\n",
      "2017-01-30 19:09:41,011 : INFO : 1000\n",
      "2017-01-30 19:09:42,129 : INFO : Batch creation working on 140000\n",
      "\n",
      "2017-01-30 19:09:43,923 : INFO : Finished batch of 10000 in 17m 18s\n",
      "2017-01-30 19:09:43,926 : INFO : For index 370000, the actual number of lines written is: 1980\n"
     ]
    },
    {
     "name": "stdout",
     "output_type": "stream",
     "text": [
      "writing batch 370000\n"
     ]
    },
    {
     "name": "stderr",
     "output_type": "stream",
     "text": [
      "2017-01-30 19:09:47,242 : INFO : 2000\n",
      "2017-01-30 19:09:49,029 : INFO : Finished batch of 10000 in 17m 13s\n",
      "2017-01-30 19:09:49,032 : INFO : For index 570000, the actual number of lines written is: 2004\n"
     ]
    },
    {
     "name": "stdout",
     "output_type": "stream",
     "text": [
      "writing batch 570000\n"
     ]
    },
    {
     "name": "stderr",
     "output_type": "stream",
     "text": [
      "2017-01-30 19:09:49,354 : INFO : 2000\n",
      "2017-01-30 19:09:49,795 : INFO : 2000\n",
      "2017-01-30 19:09:51,417 : INFO : 2000\n",
      "2017-01-30 19:09:52,078 : INFO : Finished batch of 10000 in 17m 24s\n",
      "2017-01-30 19:09:52,093 : INFO : For index 490000, the actual number of lines written is: 2003\n"
     ]
    },
    {
     "name": "stdout",
     "output_type": "stream",
     "text": [
      "writing batch 490000\n"
     ]
    },
    {
     "name": "stderr",
     "output_type": "stream",
     "text": [
      "2017-01-30 19:09:52,354 : INFO : Batch creation working on 380000\n",
      "\n",
      "2017-01-30 19:09:56,110 : INFO : 1000\n",
      "2017-01-30 19:09:56,866 : INFO : Batch creation working on 580000\n",
      "\n",
      "2017-01-30 19:09:57,369 : INFO : Finished batch of 10000 in 17m 27s\n",
      "2017-01-30 19:09:57,372 : INFO : For index 250000, the actual number of lines written is: 2021\n"
     ]
    },
    {
     "name": "stdout",
     "output_type": "stream",
     "text": [
      "writing batch 250000\n"
     ]
    },
    {
     "name": "stderr",
     "output_type": "stream",
     "text": [
      "2017-01-30 19:09:58,004 : INFO : 1000\n",
      "2017-01-30 19:10:00,195 : INFO : Batch creation working on 500000\n",
      "\n",
      "2017-01-30 19:10:01,418 : INFO : Finished batch of 10000 in 17m 25s\n",
      "2017-01-30 19:10:01,423 : INFO : For index 90000, the actual number of lines written is: 2011\n"
     ]
    },
    {
     "name": "stdout",
     "output_type": "stream",
     "text": [
      "writing batch 90000\n"
     ]
    },
    {
     "name": "stderr",
     "output_type": "stream",
     "text": [
      "2017-01-30 19:10:05,367 : INFO : Batch creation working on 260000\n",
      "\n",
      "2017-01-30 19:10:09,056 : INFO : 1000\n",
      "2017-01-30 19:10:09,137 : INFO : Batch creation working on 100000\n",
      "\n",
      "2017-01-30 19:10:18,695 : INFO : 1000\n",
      "2017-01-30 19:10:41,536 : INFO : 1000\n",
      "2017-01-30 19:14:33,556 : INFO : 2000\n",
      "2017-01-30 19:14:46,196 : INFO : Finished batch of 10000 in 13m 15s\n",
      "2017-01-30 19:14:46,199 : INFO : For index 20000, the actual number of lines written is: 2035\n"
     ]
    },
    {
     "name": "stdout",
     "output_type": "stream",
     "text": [
      "writing batch 20000\n"
     ]
    },
    {
     "name": "stderr",
     "output_type": "stream",
     "text": [
      "2017-01-30 19:14:52,595 : INFO : Batch creation working on 30000\n",
      "\n",
      "2017-01-30 19:16:32,531 : INFO : 2000\n",
      "2017-01-30 19:16:44,957 : INFO : Finished batch of 10000 in 13m 45s\n",
      "2017-01-30 19:16:44,960 : INFO : For index 460000, the actual number of lines written is: 1978\n"
     ]
    },
    {
     "name": "stdout",
     "output_type": "stream",
     "text": [
      "writing batch 460000\n"
     ]
    },
    {
     "name": "stderr",
     "output_type": "stream",
     "text": [
      "2017-01-30 19:16:50,746 : INFO : Batch creation working on 470000\n",
      "\n",
      "2017-01-30 19:16:53,046 : INFO : 2000\n",
      "2017-01-30 19:16:53,725 : INFO : Finished batch of 10000 in 13m 59s\n",
      "2017-01-30 19:16:53,727 : INFO : For index 60000, the actual number of lines written is: 2003\n"
     ]
    },
    {
     "name": "stdout",
     "output_type": "stream",
     "text": [
      "writing batch 60000\n"
     ]
    },
    {
     "name": "stderr",
     "output_type": "stream",
     "text": [
      "2017-01-30 19:16:56,421 : INFO : Finished batch of 10000 in 14m 2s\n",
      "2017-01-30 19:16:56,426 : INFO : For index 220000, the actual number of lines written is: 2051\n"
     ]
    },
    {
     "name": "stdout",
     "output_type": "stream",
     "text": [
      "writing batch 220000\n"
     ]
    },
    {
     "name": "stderr",
     "output_type": "stream",
     "text": [
      "2017-01-30 19:17:00,258 : INFO : 2000\n",
      "2017-01-30 19:17:00,301 : INFO : Batch creation working on 70000\n",
      "\n",
      "2017-01-30 19:17:03,160 : INFO : Batch creation working on 230000\n",
      "\n",
      "2017-01-30 19:17:07,782 : INFO : Finished batch of 10000 in 14m 9s\n",
      "2017-01-30 19:17:07,785 : INFO : For index 420000, the actual number of lines written is: 1975\n"
     ]
    },
    {
     "name": "stdout",
     "output_type": "stream",
     "text": [
      "writing batch 420000\n"
     ]
    },
    {
     "name": "stderr",
     "output_type": "stream",
     "text": [
      "2017-01-30 19:17:14,237 : INFO : Batch creation working on 430000\n",
      "\n",
      "2017-01-30 19:17:15,806 : INFO : Finished batch of 10000 in 14m 4s\n",
      "2017-01-30 19:17:15,809 : INFO : For index 620000, the actual number of lines written is: 2040\n"
     ]
    },
    {
     "name": "stdout",
     "output_type": "stream",
     "text": [
      "writing batch 620000\n"
     ]
    },
    {
     "name": "stderr",
     "output_type": "stream",
     "text": [
      "2017-01-30 19:17:22,046 : INFO : Batch creation working on 630000\n",
      "\n",
      "2017-01-30 19:17:28,868 : INFO : 2000\n",
      "2017-01-30 19:17:31,403 : INFO : Finished batch of 10000 in 14m 6s\n",
      "2017-01-30 19:17:31,406 : INFO : For index 300000, the actual number of lines written is: 2007\n"
     ]
    },
    {
     "name": "stdout",
     "output_type": "stream",
     "text": [
      "writing batch 300000\n"
     ]
    },
    {
     "name": "stderr",
     "output_type": "stream",
     "text": [
      "2017-01-30 19:17:37,686 : INFO : Batch creation working on 310000\n",
      "\n",
      "2017-01-30 19:17:58,360 : INFO : 1000\n",
      "2017-01-30 19:18:10,536 : INFO : 1000\n",
      "2017-01-30 19:18:12,058 : INFO : 1000\n",
      "2017-01-30 19:18:22,864 : INFO : 1000\n",
      "2017-01-30 19:18:33,073 : INFO : 1000\n",
      "2017-01-30 19:18:43,805 : INFO : 1000\n",
      "2017-01-30 19:18:47,324 : INFO : 1000\n",
      "2017-01-30 19:18:50,111 : INFO : 1000\n",
      "2017-01-30 19:18:55,603 : INFO : 1000\n",
      "2017-01-30 19:21:28,654 : INFO : 1000\n",
      "2017-01-30 19:23:40,201 : INFO : 1000\n",
      "2017-01-30 19:24:10,810 : INFO : 1000\n",
      "2017-01-30 19:24:14,757 : INFO : 1000\n",
      "2017-01-30 19:24:16,330 : INFO : 1000\n",
      "2017-01-30 19:24:28,059 : INFO : 1000\n",
      "2017-01-30 19:24:44,761 : INFO : 1000\n",
      "2017-01-30 19:26:12,043 : INFO : 2000\n",
      "2017-01-30 19:26:33,355 : INFO : Finished batch of 10000 in 17m 6s\n",
      "2017-01-30 19:26:33,380 : INFO : For index 540000, the actual number of lines written is: 1990\n"
     ]
    },
    {
     "name": "stdout",
     "output_type": "stream",
     "text": [
      "writing batch 540000\n"
     ]
    },
    {
     "name": "stderr",
     "output_type": "stream",
     "text": [
      "2017-01-30 19:26:36,308 : INFO : Finished batch of 10000 in 17m 6s\n",
      "2017-01-30 19:26:36,312 : INFO : For index 180000, the actual number of lines written is: 1994\n"
     ]
    },
    {
     "name": "stdout",
     "output_type": "stream",
     "text": [
      "writing batch 180000\n"
     ]
    },
    {
     "name": "stderr",
     "output_type": "stream",
     "text": [
      "2017-01-30 19:26:40,833 : INFO : Batch creation working on 550000\n",
      "\n",
      "2017-01-30 19:26:43,631 : INFO : Batch creation working on 190000\n",
      "\n",
      "2017-01-30 19:26:52,114 : INFO : Finished batch of 10000 in 17m 14s\n",
      "2017-01-30 19:26:52,118 : INFO : For index 340000, the actual number of lines written is: 2089\n"
     ]
    },
    {
     "name": "stdout",
     "output_type": "stream",
     "text": [
      "writing batch 340000\n"
     ]
    },
    {
     "name": "stderr",
     "output_type": "stream",
     "text": [
      "2017-01-30 19:26:52,572 : INFO : Finished batch of 10000 in 17m 0s\n",
      "2017-01-30 19:26:52,576 : INFO : For index 380000, the actual number of lines written is: 1951\n"
     ]
    },
    {
     "name": "stdout",
     "output_type": "stream",
     "text": [
      "writing batch 380000\n"
     ]
    },
    {
     "name": "stderr",
     "output_type": "stream",
     "text": [
      "2017-01-30 19:27:00,085 : INFO : Finished batch of 10000 in 17m 18s\n",
      "2017-01-30 19:27:00,090 : INFO : For index 140000, the actual number of lines written is: 1983\n"
     ]
    },
    {
     "name": "stdout",
     "output_type": "stream",
     "text": [
      "writing batch 140000\n"
     ]
    },
    {
     "name": "stderr",
     "output_type": "stream",
     "text": [
      "2017-01-30 19:27:01,253 : INFO : Batch creation working on 390000\n",
      "\n",
      "2017-01-30 19:27:02,785 : INFO : Finished batch of 10000 in 16m 57s\n",
      "2017-01-30 19:27:02,791 : INFO : For index 260000, the actual number of lines written is: 1951\n"
     ]
    },
    {
     "name": "stdout",
     "output_type": "stream",
     "text": [
      "writing batch 260000\n"
     ]
    },
    {
     "name": "stderr",
     "output_type": "stream",
     "text": [
      "2017-01-30 19:27:03,242 : INFO : Batch creation working on 350000\n",
      "\n",
      "2017-01-30 19:27:08,244 : INFO : Batch creation working on 150000\n",
      "\n",
      "2017-01-30 19:27:08,988 : INFO : Finished batch of 10000 in 17m 9s\n",
      "2017-01-30 19:27:08,991 : INFO : For index 500000, the actual number of lines written is: 1997\n"
     ]
    },
    {
     "name": "stdout",
     "output_type": "stream",
     "text": [
      "writing batch 500000\n"
     ]
    },
    {
     "name": "stderr",
     "output_type": "stream",
     "text": [
      "2017-01-30 19:27:09,594 : INFO : Finished batch of 10000 in 17m 13s\n",
      "2017-01-30 19:27:09,598 : INFO : For index 580000, the actual number of lines written is: 1975\n"
     ]
    },
    {
     "name": "stdout",
     "output_type": "stream",
     "text": [
      "writing batch 580000\n"
     ]
    },
    {
     "name": "stderr",
     "output_type": "stream",
     "text": [
      "2017-01-30 19:27:10,706 : INFO : Batch creation working on 270000\n",
      "\n",
      "2017-01-30 19:27:18,683 : INFO : Batch creation working on 510000\n",
      "\n",
      "2017-01-30 19:27:18,941 : INFO : Batch creation working on 590000\n",
      "\n",
      "2017-01-30 19:27:18,943 : INFO : Finished batch of 10000 in 17m 10s\n",
      "2017-01-30 19:27:18,962 : INFO : For index 100000, the actual number of lines written is: 1986\n"
     ]
    },
    {
     "name": "stdout",
     "output_type": "stream",
     "text": [
      "writing batch 100000\n"
     ]
    },
    {
     "name": "stderr",
     "output_type": "stream",
     "text": [
      "2017-01-30 19:27:27,118 : INFO : Batch creation working on 110000\n",
      "\n",
      "2017-01-30 19:28:10,296 : INFO : Finished batch of 10000 in 13m 18s\n",
      "2017-01-30 19:28:10,299 : INFO : For index 30000, the actual number of lines written is: 1960\n"
     ]
    },
    {
     "name": "stdout",
     "output_type": "stream",
     "text": [
      "writing batch 30000\n"
     ]
    },
    {
     "name": "stderr",
     "output_type": "stream",
     "text": [
      "2017-01-30 19:28:16,232 : INFO : Batch creation working on 640000\n",
      "\n",
      "2017-01-30 19:31:04,075 : INFO : 2000\n",
      "2017-01-30 19:31:05,599 : INFO : Finished batch of 10000 in 14m 15s\n",
      "2017-01-30 19:31:05,602 : INFO : For index 470000, the actual number of lines written is: 1986\n"
     ]
    },
    {
     "name": "stdout",
     "output_type": "stream",
     "text": [
      "writing batch 470000\n"
     ]
    },
    {
     "name": "stderr",
     "output_type": "stream",
     "text": [
      "2017-01-30 19:31:10,584 : INFO : Finished batch of 10000 in 14m 7s\n",
      "2017-01-30 19:31:10,587 : INFO : For index 230000, the actual number of lines written is: 1951\n"
     ]
    },
    {
     "name": "stdout",
     "output_type": "stream",
     "text": [
      "writing batch 230000\n"
     ]
    },
    {
     "name": "stderr",
     "output_type": "stream",
     "text": [
      "2017-01-30 19:31:12,439 : INFO : Batch creation working on 680000\n",
      "\n",
      "2017-01-30 19:31:14,053 : INFO : Finished batch of 10000 in 14m 14s\n",
      "2017-01-30 19:31:14,056 : INFO : For index 70000, the actual number of lines written is: 2018\n"
     ]
    },
    {
     "name": "stdout",
     "output_type": "stream",
     "text": [
      "writing batch 70000\n"
     ]
    },
    {
     "name": "stderr",
     "output_type": "stream",
     "text": [
      "2017-01-30 19:31:16,105 : INFO : 2000\n",
      "2017-01-30 19:31:17,076 : INFO : Finished batch of 10000 in 14m 3s\n",
      "2017-01-30 19:31:17,080 : INFO : For index 430000, the actual number of lines written is: 2001\n"
     ]
    },
    {
     "name": "stdout",
     "output_type": "stream",
     "text": [
      "writing batch 430000\n"
     ]
    },
    {
     "name": "stderr",
     "output_type": "stream",
     "text": [
      "2017-01-30 19:31:17,480 : INFO : Batch creation working on 720000\n",
      "\n",
      "2017-01-30 19:31:18,661 : INFO : 2000\n",
      "2017-01-30 19:31:21,245 : INFO : Batch creation working on 760000\n",
      "\n",
      "2017-01-30 19:31:23,404 : INFO : Batch creation working on 800000\n",
      "\n",
      "2017-01-30 19:31:28,721 : INFO : Finished batch of 10000 in 14m 7s\n",
      "2017-01-30 19:31:28,724 : INFO : For index 630000, the actual number of lines written is: 2028\n"
     ]
    },
    {
     "name": "stdout",
     "output_type": "stream",
     "text": [
      "writing batch 630000\n"
     ]
    },
    {
     "name": "stderr",
     "output_type": "stream",
     "text": [
      "2017-01-30 19:31:34,741 : INFO : Batch creation working on 840000\n",
      "\n",
      "2017-01-30 19:31:38,806 : INFO : Finished batch of 10000 in 14m 1s\n",
      "2017-01-30 19:31:38,809 : INFO : For index 310000, the actual number of lines written is: 1981\n"
     ]
    },
    {
     "name": "stdout",
     "output_type": "stream",
     "text": [
      "writing batch 310000\n"
     ]
    },
    {
     "name": "stderr",
     "output_type": "stream",
     "text": [
      "2017-01-30 19:31:44,677 : INFO : Batch creation working on 880000\n",
      "\n",
      "2017-01-30 19:35:02,170 : INFO : 1000\n",
      "2017-01-30 19:35:08,455 : INFO : 1000\n",
      "2017-01-30 19:35:09,629 : INFO : 1000\n",
      "2017-01-30 19:35:38,605 : INFO : 1000\n",
      "2017-01-30 19:35:42,587 : INFO : 1000\n",
      "2017-01-30 19:35:54,670 : INFO : 1000\n",
      "2017-01-30 19:35:57,679 : INFO : 1000\n",
      "2017-01-30 19:35:58,130 : INFO : 1000\n",
      "2017-01-30 19:36:08,760 : INFO : 1000\n",
      "2017-01-30 19:36:09,494 : INFO : 1000\n",
      "2017-01-30 19:37:48,498 : INFO : 1000\n",
      "2017-01-30 19:38:28,656 : INFO : 1000\n",
      "2017-01-30 19:38:31,231 : INFO : 1000\n",
      "2017-01-30 19:38:33,624 : INFO : 1000\n",
      "2017-01-30 19:38:41,360 : INFO : 1000\n",
      "2017-01-30 19:38:50,709 : INFO : 1000\n",
      "2017-01-30 19:41:23,676 : INFO : Finished batch of 10000 in 13m 7s\n",
      "2017-01-30 19:41:23,682 : INFO : For index 640000, the actual number of lines written is: 1967\n"
     ]
    },
    {
     "name": "stdout",
     "output_type": "stream",
     "text": [
      "writing batch 640000\n"
     ]
    },
    {
     "name": "stderr",
     "output_type": "stream",
     "text": [
      "2017-01-30 19:41:29,455 : INFO : Batch creation working on 650000\n",
      "\n",
      "2017-01-30 19:43:32,519 : INFO : 2000\n",
      "2017-01-30 19:43:50,289 : INFO : 2000\n",
      "2017-01-30 19:44:02,767 : INFO : 2000\n",
      "2017-01-30 19:44:02,848 : INFO : Finished batch of 10000 in 17m 22s\n",
      "2017-01-30 19:44:02,851 : INFO : For index 550000, the actual number of lines written is: 2024\n"
     ]
    },
    {
     "name": "stdout",
     "output_type": "stream",
     "text": [
      "writing batch 550000\n"
     ]
    },
    {
     "name": "stderr",
     "output_type": "stream",
     "text": [
      "2017-01-30 19:44:06,623 : INFO : Finished batch of 10000 in 17m 5s\n",
      "2017-01-30 19:44:06,628 : INFO : For index 390000, the actual number of lines written is: 1944\n"
     ]
    },
    {
     "name": "stdout",
     "output_type": "stream",
     "text": [
      "writing batch 390000\n"
     ]
    },
    {
     "name": "stderr",
     "output_type": "stream",
     "text": [
      "2017-01-30 19:44:10,318 : INFO : 2000\n",
      "2017-01-30 19:44:11,276 : INFO : Batch creation working on 920000\n",
      "\n",
      "2017-01-30 19:44:13,857 : INFO : Batch creation working on 960000\n",
      "\n",
      "2017-01-30 19:44:13,915 : INFO : Finished batch of 10000 in 17m 30s\n",
      "2017-01-30 19:44:13,919 : INFO : For index 190000, the actual number of lines written is: 2085\n"
     ]
    },
    {
     "name": "stdout",
     "output_type": "stream",
     "text": [
      "writing batch 190000\n"
     ]
    },
    {
     "name": "stderr",
     "output_type": "stream",
     "text": [
      "2017-01-30 19:44:15,743 : INFO : 2000\n",
      "2017-01-30 19:44:19,492 : INFO : Finished batch of 10000 in 17m 9s\n",
      "2017-01-30 19:44:19,495 : INFO : For index 270000, the actual number of lines written is: 1956\n"
     ]
    },
    {
     "name": "stdout",
     "output_type": "stream",
     "text": [
      "writing batch 270000\n"
     ]
    },
    {
     "name": "stderr",
     "output_type": "stream",
     "text": [
      "2017-01-30 19:44:24,130 : INFO : Batch creation working on 1000000\n",
      "\n",
      "2017-01-30 19:44:26,789 : INFO : Finished batch of 10000 in 17m 24s\n",
      "2017-01-30 19:44:26,793 : INFO : For index 350000, the actual number of lines written is: 1952\n"
     ]
    },
    {
     "name": "stdout",
     "output_type": "stream",
     "text": [
      "writing batch 350000\n"
     ]
    },
    {
     "name": "stderr",
     "output_type": "stream",
     "text": [
      "2017-01-30 19:44:27,142 : INFO : Finished batch of 10000 in 17m 19s\n",
      "2017-01-30 19:44:27,147 : INFO : For index 150000, the actual number of lines written is: 2044\n"
     ]
    },
    {
     "name": "stdout",
     "output_type": "stream",
     "text": [
      "writing batch 150000\n"
     ]
    },
    {
     "name": "stderr",
     "output_type": "stream",
     "text": [
      "2017-01-30 19:44:28,255 : INFO : Batch creation working on 1040000\n",
      "\n",
      "2017-01-30 19:44:34,317 : INFO : 2000\n",
      "2017-01-30 19:44:36,454 : INFO : Batch creation working on 1080000\n",
      "\n",
      "2017-01-30 19:44:36,625 : INFO : Finished batch of 10000 in 17m 10s\n",
      "2017-01-30 19:44:36,629 : INFO : For index 110000, the actual number of lines written is: 2047\n"
     ]
    },
    {
     "name": "stdout",
     "output_type": "stream",
     "text": [
      "writing batch 110000\n"
     ]
    },
    {
     "name": "stderr",
     "output_type": "stream",
     "text": [
      "2017-01-30 19:44:36,848 : INFO : Batch creation working on 1120000\n",
      "\n",
      "2017-01-30 19:44:36,986 : INFO : Finished batch of 10000 in 17m 18s\n",
      "2017-01-30 19:44:36,990 : INFO : For index 590000, the actual number of lines written is: 2038\n"
     ]
    },
    {
     "name": "stdout",
     "output_type": "stream",
     "text": [
      "writing batch 590000\n"
     ]
    },
    {
     "name": "stderr",
     "output_type": "stream",
     "text": [
      "2017-01-30 19:44:41,898 : INFO : Finished batch of 10000 in 17m 23s\n",
      "2017-01-30 19:44:41,901 : INFO : For index 510000, the actual number of lines written is: 1985\n"
     ]
    },
    {
     "name": "stdout",
     "output_type": "stream",
     "text": [
      "writing batch 510000\n"
     ]
    },
    {
     "name": "stderr",
     "output_type": "stream",
     "text": [
      "2017-01-30 19:44:46,245 : INFO : Batch creation working on 1160000\n",
      "\n",
      "2017-01-30 19:44:46,684 : INFO : Batch creation working on 1200000\n",
      "\n",
      "2017-01-30 19:44:51,452 : INFO : Batch creation working on 1240000\n",
      "\n",
      "2017-01-30 19:45:14,483 : INFO : Finished batch of 10000 in 13m 57s\n",
      "2017-01-30 19:45:14,486 : INFO : For index 720000, the actual number of lines written is: 1950\n"
     ]
    },
    {
     "name": "stdout",
     "output_type": "stream",
     "text": [
      "writing batch 720000\n"
     ]
    },
    {
     "name": "stderr",
     "output_type": "stream",
     "text": [
      "2017-01-30 19:45:15,131 : INFO : Finished batch of 10000 in 13m 52s\n",
      "2017-01-30 19:45:15,139 : INFO : For index 800000, the actual number of lines written is: 1991\n"
     ]
    },
    {
     "name": "stdout",
     "output_type": "stream",
     "text": [
      "writing batch 800000\n"
     ]
    },
    {
     "name": "stderr",
     "output_type": "stream",
     "text": [
      "2017-01-30 19:45:15,865 : INFO : Finished batch of 10000 in 14m 3s\n",
      "2017-01-30 19:45:15,868 : INFO : For index 680000, the actual number of lines written is: 2116\n"
     ]
    },
    {
     "name": "stdout",
     "output_type": "stream",
     "text": [
      "writing batch 680000\n"
     ]
    },
    {
     "name": "stderr",
     "output_type": "stream",
     "text": [
      "2017-01-30 19:45:21,066 : INFO : Batch creation working on 730000\n",
      "\n",
      "2017-01-30 19:45:23,546 : INFO : Batch creation working on 810000\n",
      "\n",
      "2017-01-30 19:45:23,727 : INFO : Batch creation working on 690000\n",
      "\n",
      "2017-01-30 19:45:25,339 : INFO : Finished batch of 10000 in 14m 4s\n",
      "2017-01-30 19:45:25,343 : INFO : For index 760000, the actual number of lines written is: 1982\n"
     ]
    },
    {
     "name": "stdout",
     "output_type": "stream",
     "text": [
      "writing batch 760000\n"
     ]
    },
    {
     "name": "stderr",
     "output_type": "stream",
     "text": [
      "2017-01-30 19:45:28,104 : INFO : Finished batch of 10000 in 13m 53s\n",
      "2017-01-30 19:45:28,109 : INFO : For index 840000, the actual number of lines written is: 1999\n"
     ]
    },
    {
     "name": "stdout",
     "output_type": "stream",
     "text": [
      "writing batch 840000\n"
     ]
    },
    {
     "name": "stderr",
     "output_type": "stream",
     "text": [
      "2017-01-30 19:45:32,396 : INFO : Batch creation working on 770000\n",
      "\n",
      "2017-01-30 19:45:34,718 : INFO : Batch creation working on 850000\n",
      "\n",
      "2017-01-30 19:45:41,032 : INFO : 2000\n",
      "2017-01-30 19:45:49,155 : INFO : Finished batch of 10000 in 14m 4s\n",
      "2017-01-30 19:45:49,158 : INFO : For index 880000, the actual number of lines written is: 2016\n"
     ]
    },
    {
     "name": "stdout",
     "output_type": "stream",
     "text": [
      "writing batch 880000\n"
     ]
    },
    {
     "name": "stderr",
     "output_type": "stream",
     "text": [
      "2017-01-30 19:45:56,713 : INFO : Batch creation working on 890000\n",
      "\n",
      "2017-01-30 19:48:24,708 : INFO : 1000\n",
      "2017-01-30 19:52:35,272 : INFO : 1000\n",
      "2017-01-30 19:52:36,866 : INFO : 1000\n",
      "2017-01-30 19:52:37,504 : INFO : 1000\n",
      "2017-01-30 19:52:37,837 : INFO : 1000\n",
      "2017-01-30 19:52:45,255 : INFO : 1000\n",
      "2017-01-30 19:52:50,725 : INFO : 1000\n",
      "2017-01-30 19:52:52,273 : INFO : 1000\n",
      "2017-01-30 19:52:52,834 : INFO : 1000\n",
      "2017-01-30 19:52:54,259 : INFO : 1000\n",
      "2017-01-30 19:52:56,439 : INFO : 1000\n",
      "2017-01-30 19:52:58,590 : INFO : 1000\n",
      "2017-01-30 19:53:00,227 : INFO : 1000\n",
      "2017-01-30 19:53:08,338 : INFO : 1000\n",
      "2017-01-30 19:53:25,035 : INFO : 1000\n",
      "2017-01-30 19:53:43,212 : INFO : 1000\n",
      "2017-01-30 19:54:51,926 : INFO : 2000\n",
      "2017-01-30 19:54:57,023 : INFO : Finished batch of 10000 in 13m 28s\n",
      "2017-01-30 19:54:57,025 : INFO : For index 650000, the actual number of lines written is: 2008\n"
     ]
    },
    {
     "name": "stdout",
     "output_type": "stream",
     "text": [
      "writing batch 650000\n"
     ]
    },
    {
     "name": "stderr",
     "output_type": "stream",
     "text": [
      "2017-01-30 19:55:03,198 : INFO : Batch creation working on 660000\n",
      "\n",
      "2017-01-30 19:59:27,335 : INFO : Finished batch of 10000 in 14m 6s\n",
      "2017-01-30 19:59:27,343 : INFO : For index 730000, the actual number of lines written is: 1985\n"
     ]
    },
    {
     "name": "stdout",
     "output_type": "stream",
     "text": [
      "writing batch 730000\n"
     ]
    },
    {
     "name": "stderr",
     "output_type": "stream",
     "text": [
      "2017-01-30 19:59:29,750 : INFO : Finished batch of 10000 in 13m 55s\n",
      "2017-01-30 19:59:29,754 : INFO : For index 850000, the actual number of lines written is: 1984\n"
     ]
    },
    {
     "name": "stdout",
     "output_type": "stream",
     "text": [
      "writing batch 850000\n"
     ]
    },
    {
     "name": "stderr",
     "output_type": "stream",
     "text": [
      "2017-01-30 19:59:31,053 : INFO : Finished batch of 10000 in 14m 7s\n",
      "2017-01-30 19:59:31,056 : INFO : For index 690000, the actual number of lines written is: 1995\n"
     ]
    },
    {
     "name": "stdout",
     "output_type": "stream",
     "text": [
      "writing batch 690000\n"
     ]
    },
    {
     "name": "stderr",
     "output_type": "stream",
     "text": [
      "2017-01-30 19:59:33,727 : INFO : Batch creation working on 740000\n",
      "\n",
      "2017-01-30 19:59:35,447 : INFO : Batch creation working on 860000\n",
      "\n",
      "2017-01-30 19:59:36,366 : INFO : Finished batch of 10000 in 14m 13s\n",
      "2017-01-30 19:59:36,370 : INFO : For index 810000, the actual number of lines written is: 1961\n"
     ]
    },
    {
     "name": "stdout",
     "output_type": "stream",
     "text": [
      "writing batch 810000\n"
     ]
    },
    {
     "name": "stderr",
     "output_type": "stream",
     "text": [
      "2017-01-30 19:59:37,222 : INFO : Batch creation working on 700000\n",
      "\n",
      "2017-01-30 19:59:40,158 : INFO : Finished batch of 10000 in 14m 8s\n",
      "2017-01-30 19:59:40,162 : INFO : For index 770000, the actual number of lines written is: 1974\n"
     ]
    },
    {
     "name": "stdout",
     "output_type": "stream",
     "text": [
      "writing batch 770000\n"
     ]
    },
    {
     "name": "stderr",
     "output_type": "stream",
     "text": [
      "2017-01-30 19:59:42,831 : INFO : Batch creation working on 820000\n",
      "\n",
      "2017-01-30 19:59:46,339 : INFO : Batch creation working on 780000\n",
      "\n",
      "2017-01-30 20:00:08,569 : INFO : 2000\n",
      "2017-01-30 20:00:12,346 : INFO : Finished batch of 10000 in 14m 16s\n",
      "2017-01-30 20:00:12,348 : INFO : For index 890000, the actual number of lines written is: 2004\n"
     ]
    },
    {
     "name": "stdout",
     "output_type": "stream",
     "text": [
      "writing batch 890000\n"
     ]
    },
    {
     "name": "stderr",
     "output_type": "stream",
     "text": [
      "2017-01-30 20:00:18,826 : INFO : Batch creation working on 900000\n",
      "\n",
      "2017-01-30 20:01:04,472 : INFO : 2000\n",
      "2017-01-30 20:01:07,447 : INFO : Finished batch of 10000 in 16m 54s\n",
      "2017-01-30 20:01:07,456 : INFO : For index 960000, the actual number of lines written is: 1991\n"
     ]
    },
    {
     "name": "stdout",
     "output_type": "stream",
     "text": [
      "writing batch 960000\n"
     ]
    },
    {
     "name": "stderr",
     "output_type": "stream",
     "text": [
      "2017-01-30 20:01:15,074 : INFO : Batch creation working on 970000\n",
      "\n",
      "2017-01-30 20:01:19,054 : INFO : Finished batch of 10000 in 17m 8s\n",
      "2017-01-30 20:01:19,062 : INFO : For index 920000, the actual number of lines written is: 1961\n"
     ]
    },
    {
     "name": "stdout",
     "output_type": "stream",
     "text": [
      "writing batch 920000\n"
     ]
    },
    {
     "name": "stderr",
     "output_type": "stream",
     "text": [
      "2017-01-30 20:01:23,126 : INFO : 2000\n",
      "2017-01-30 20:01:26,763 : INFO : Batch creation working on 930000\n",
      "\n",
      "2017-01-30 20:01:30,800 : INFO : 2000\n",
      "2017-01-30 20:01:30,820 : INFO : Finished batch of 10000 in 16m 54s\n",
      "2017-01-30 20:01:30,823 : INFO : For index 1120000, the actual number of lines written is: 1971\n"
     ]
    },
    {
     "name": "stdout",
     "output_type": "stream",
     "text": [
      "writing batch 1120000\n"
     ]
    },
    {
     "name": "stderr",
     "output_type": "stream",
     "text": [
      "2017-01-30 20:01:35,777 : INFO : Finished batch of 10000 in 17m 7s\n",
      "2017-01-30 20:01:35,779 : INFO : For index 1040000, the actual number of lines written is: 2055\n"
     ]
    },
    {
     "name": "stdout",
     "output_type": "stream",
     "text": [
      "writing batch 1040000\n"
     ]
    },
    {
     "name": "stderr",
     "output_type": "stream",
     "text": [
      "2017-01-30 20:01:36,474 : INFO : Finished batch of 10000 in 16m 60s\n",
      "2017-01-30 20:01:36,478 : INFO : For index 1080000, the actual number of lines written is: 1999\n"
     ]
    },
    {
     "name": "stdout",
     "output_type": "stream",
     "text": [
      "writing batch 1080000\n"
     ]
    },
    {
     "name": "stderr",
     "output_type": "stream",
     "text": [
      "2017-01-30 20:01:39,339 : INFO : Batch creation working on 1130000\n",
      "\n",
      "2017-01-30 20:01:40,685 : INFO : 2000\n",
      "2017-01-30 20:01:42,226 : INFO : Finished batch of 10000 in 17m 18s\n",
      "2017-01-30 20:01:42,228 : INFO : For index 1000000, the actual number of lines written is: 2006\n"
     ]
    },
    {
     "name": "stdout",
     "output_type": "stream",
     "text": [
      "writing batch 1000000\n"
     ]
    },
    {
     "name": "stderr",
     "output_type": "stream",
     "text": [
      "2017-01-30 20:01:45,113 : INFO : Batch creation working on 1050000\n",
      "\n",
      "2017-01-30 20:01:45,307 : INFO : Batch creation working on 1090000\n",
      "\n",
      "2017-01-30 20:01:48,632 : INFO : 2000\n",
      "2017-01-30 20:01:50,578 : INFO : Finished batch of 10000 in 17m 4s\n",
      "2017-01-30 20:01:50,582 : INFO : For index 1200000, the actual number of lines written is: 2031\n"
     ]
    },
    {
     "name": "stdout",
     "output_type": "stream",
     "text": [
      "writing batch 1200000\n"
     ]
    },
    {
     "name": "stderr",
     "output_type": "stream",
     "text": [
      "2017-01-30 20:01:50,853 : INFO : Finished batch of 10000 in 16m 59s\n",
      "2017-01-30 20:01:50,868 : INFO : For index 1240000, the actual number of lines written is: 2049\n"
     ]
    },
    {
     "name": "stdout",
     "output_type": "stream",
     "text": [
      "writing batch 1240000\n"
     ]
    },
    {
     "name": "stderr",
     "output_type": "stream",
     "text": [
      "2017-01-30 20:01:50,892 : INFO : Batch creation working on 1010000\n",
      "\n",
      "2017-01-30 20:01:59,733 : INFO : Batch creation working on 1210000\n",
      "\n",
      "2017-01-30 20:02:00,386 : INFO : Batch creation working on 1250000\n",
      "\n",
      "2017-01-30 20:02:01,205 : INFO : 1000\n",
      "2017-01-30 20:02:05,372 : INFO : Finished batch of 10000 in 17m 19s\n",
      "2017-01-30 20:02:05,376 : INFO : For index 1160000, the actual number of lines written is: 2033\n"
     ]
    },
    {
     "name": "stdout",
     "output_type": "stream",
     "text": [
      "writing batch 1160000\n"
     ]
    },
    {
     "name": "stderr",
     "output_type": "stream",
     "text": [
      "2017-01-30 20:02:14,455 : INFO : Batch creation working on 1170000\n",
      "\n",
      "2017-01-30 20:06:37,429 : INFO : 1000\n",
      "2017-01-30 20:06:41,498 : INFO : 1000\n",
      "2017-01-30 20:06:42,810 : INFO : 1000\n",
      "2017-01-30 20:06:45,887 : INFO : 1000\n",
      "2017-01-30 20:06:49,784 : INFO : 1000\n",
      "2017-01-30 20:07:27,734 : INFO : 1000\n",
      "2017-01-30 20:08:12,969 : INFO : Finished batch of 10000 in 13m 10s\n",
      "2017-01-30 20:08:12,973 : INFO : For index 660000, the actual number of lines written is: 1978\n"
     ]
    },
    {
     "name": "stdout",
     "output_type": "stream",
     "text": [
      "writing batch 660000\n"
     ]
    },
    {
     "name": "stderr",
     "output_type": "stream",
     "text": [
      "2017-01-30 20:08:18,788 : INFO : Batch creation working on 670000\n",
      "\n",
      "2017-01-30 20:09:47,869 : INFO : 1000\n",
      "2017-01-30 20:10:17,130 : INFO : 1000\n",
      "2017-01-30 20:10:19,987 : INFO : 1000\n",
      "2017-01-30 20:10:27,523 : INFO : 1000\n",
      "2017-01-30 20:10:32,680 : INFO : 1000\n",
      "2017-01-30 20:10:33,078 : INFO : 1000\n",
      "2017-01-30 20:10:39,339 : INFO : 1000\n",
      "2017-01-30 20:10:53,351 : INFO : 1000\n",
      "2017-01-30 20:10:56,108 : INFO : 1000\n",
      "2017-01-30 20:13:33,952 : INFO : Finished batch of 10000 in 14m 0s\n",
      "2017-01-30 20:13:33,955 : INFO : For index 740000, the actual number of lines written is: 1992\n"
     ]
    },
    {
     "name": "stdout",
     "output_type": "stream",
     "text": [
      "writing batch 740000\n"
     ]
    },
    {
     "name": "stderr",
     "output_type": "stream",
     "text": [
      "2017-01-30 20:13:35,782 : INFO : Finished batch of 10000 in 13m 59s\n",
      "2017-01-30 20:13:35,791 : INFO : For index 700000, the actual number of lines written is: 1956\n"
     ]
    },
    {
     "name": "stdout",
     "output_type": "stream",
     "text": [
      "writing batch 700000\n"
     ]
    },
    {
     "name": "stderr",
     "output_type": "stream",
     "text": [
      "2017-01-30 20:13:40,310 : INFO : Batch creation working on 750000\n",
      "\n",
      "2017-01-30 20:13:41,185 : INFO : 2000\n",
      "2017-01-30 20:13:41,675 : INFO : Batch creation working on 710000\n",
      "\n",
      "2017-01-30 20:13:44,450 : INFO : Finished batch of 10000 in 14m 9s\n",
      "2017-01-30 20:13:44,453 : INFO : For index 860000, the actual number of lines written is: 1997\n"
     ]
    },
    {
     "name": "stdout",
     "output_type": "stream",
     "text": [
      "writing batch 860000\n"
     ]
    },
    {
     "name": "stderr",
     "output_type": "stream",
     "text": [
      "2017-01-30 20:13:49,070 : INFO : Finished batch of 10000 in 14m 3s\n",
      "2017-01-30 20:13:49,072 : INFO : For index 780000, the actual number of lines written is: 2018\n"
     ]
    },
    {
     "name": "stdout",
     "output_type": "stream",
     "text": [
      "writing batch 780000\n"
     ]
    },
    {
     "name": "stderr",
     "output_type": "stream",
     "text": [
      "2017-01-30 20:13:50,748 : INFO : Batch creation working on 870000\n",
      "\n",
      "2017-01-30 20:13:51,958 : INFO : Finished batch of 10000 in 14m 9s\n",
      "2017-01-30 20:13:51,962 : INFO : For index 820000, the actual number of lines written is: 1957\n"
     ]
    },
    {
     "name": "stdout",
     "output_type": "stream",
     "text": [
      "writing batch 820000\n"
     ]
    },
    {
     "name": "stderr",
     "output_type": "stream",
     "text": [
      "2017-01-30 20:13:55,447 : INFO : Batch creation working on 790000\n",
      "\n",
      "2017-01-30 20:13:58,412 : INFO : Batch creation working on 830000\n",
      "\n",
      "2017-01-30 20:14:19,980 : INFO : Finished batch of 10000 in 14m 1s\n",
      "2017-01-30 20:14:19,983 : INFO : For index 900000, the actual number of lines written is: 1959\n"
     ]
    },
    {
     "name": "stdout",
     "output_type": "stream",
     "text": [
      "writing batch 900000\n"
     ]
    },
    {
     "name": "stderr",
     "output_type": "stream",
     "text": [
      "2017-01-30 20:14:26,448 : INFO : Batch creation working on 910000\n",
      "\n",
      "2017-01-30 20:14:51,632 : INFO : 1000\n",
      "2017-01-30 20:18:00,110 : INFO : 2000\n",
      "2017-01-30 20:18:22,965 : INFO : Finished batch of 10000 in 17m 8s\n",
      "2017-01-30 20:18:22,972 : INFO : For index 970000, the actual number of lines written is: 2048\n"
     ]
    },
    {
     "name": "stdout",
     "output_type": "stream",
     "text": [
      "writing batch 970000\n"
     ]
    },
    {
     "name": "stderr",
     "output_type": "stream",
     "text": [
      "2017-01-30 20:18:27,725 : INFO : 2000\n",
      "2017-01-30 20:18:28,614 : INFO : Finished batch of 10000 in 17m 2s\n",
      "2017-01-30 20:18:28,616 : INFO : For index 930000, the actual number of lines written is: 2003\n"
     ]
    },
    {
     "name": "stdout",
     "output_type": "stream",
     "text": [
      "writing batch 930000\n"
     ]
    },
    {
     "name": "stderr",
     "output_type": "stream",
     "text": [
      "2017-01-30 20:18:29,144 : INFO : Finished batch of 10000 in 16m 50s\n",
      "2017-01-30 20:18:29,146 : INFO : For index 1130000, the actual number of lines written is: 1989\n"
     ]
    },
    {
     "name": "stdout",
     "output_type": "stream",
     "text": [
      "writing batch 1130000\n"
     ]
    },
    {
     "name": "stderr",
     "output_type": "stream",
     "text": [
      "2017-01-30 20:18:31,450 : INFO : Batch creation working on 980000\n",
      "\n",
      "2017-01-30 20:18:37,080 : INFO : Batch creation working on 940000\n",
      "\n",
      "2017-01-30 20:18:37,108 : INFO : Batch creation working on 1140000\n",
      "\n",
      "2017-01-30 20:18:45,724 : INFO : 2000\n",
      "2017-01-30 20:18:46,020 : INFO : 2000\n",
      "2017-01-30 20:18:49,853 : INFO : Finished batch of 10000 in 17m 5s\n",
      "2017-01-30 20:18:49,855 : INFO : For index 1090000, the actual number of lines written is: 2008\n"
     ]
    },
    {
     "name": "stdout",
     "output_type": "stream",
     "text": [
      "writing batch 1090000\n"
     ]
    },
    {
     "name": "stderr",
     "output_type": "stream",
     "text": [
      "2017-01-30 20:18:52,440 : INFO : 2000\n",
      "2017-01-30 20:18:54,241 : INFO : Finished batch of 10000 in 17m 3s\n",
      "2017-01-30 20:18:54,244 : INFO : For index 1010000, the actual number of lines written is: 2005\n"
     ]
    },
    {
     "name": "stdout",
     "output_type": "stream",
     "text": [
      "writing batch 1010000\n"
     ]
    },
    {
     "name": "stderr",
     "output_type": "stream",
     "text": [
      "2017-01-30 20:18:55,119 : INFO : Finished batch of 10000 in 17m 10s\n",
      "2017-01-30 20:18:55,123 : INFO : For index 1050000, the actual number of lines written is: 2024\n"
     ]
    },
    {
     "name": "stdout",
     "output_type": "stream",
     "text": [
      "writing batch 1050000\n"
     ]
    },
    {
     "name": "stderr",
     "output_type": "stream",
     "text": [
      "2017-01-30 20:18:58,400 : INFO : Batch creation working on 1100000\n",
      "\n",
      "2017-01-30 20:19:01,680 : INFO : Batch creation working on 1020000\n",
      "\n",
      "2017-01-30 20:19:02,974 : INFO : Batch creation working on 1060000\n",
      "\n",
      "2017-01-30 20:19:04,774 : INFO : Finished batch of 10000 in 17m 5s\n",
      "2017-01-30 20:19:04,797 : INFO : For index 1210000, the actual number of lines written is: 1965\n"
     ]
    },
    {
     "name": "stdout",
     "output_type": "stream",
     "text": [
      "writing batch 1210000\n"
     ]
    },
    {
     "name": "stderr",
     "output_type": "stream",
     "text": [
      "2017-01-30 20:19:08,987 : INFO : Finished batch of 10000 in 17m 9s\n",
      "2017-01-30 20:19:08,992 : INFO : For index 1250000, the actual number of lines written is: 1985\n"
     ]
    },
    {
     "name": "stdout",
     "output_type": "stream",
     "text": [
      "writing batch 1250000\n"
     ]
    },
    {
     "name": "stderr",
     "output_type": "stream",
     "text": [
      "2017-01-30 20:19:13,118 : INFO : Batch creation working on 1220000\n",
      "\n",
      "2017-01-30 20:19:16,898 : INFO : Batch creation working on 1260000\n",
      "\n",
      "2017-01-30 20:19:21,005 : INFO : 2000\n",
      "2017-01-30 20:19:23,710 : INFO : Finished batch of 10000 in 17m 9s\n",
      "2017-01-30 20:19:23,712 : INFO : For index 1170000, the actual number of lines written is: 2008\n"
     ]
    },
    {
     "name": "stdout",
     "output_type": "stream",
     "text": [
      "writing batch 1170000\n"
     ]
    },
    {
     "name": "stderr",
     "output_type": "stream",
     "text": [
      "2017-01-30 20:19:31,852 : INFO : Batch creation working on 1180000\n",
      "\n",
      "2017-01-30 20:20:48,331 : INFO : 1000\n",
      "2017-01-30 20:21:12,778 : INFO : 1000\n",
      "2017-01-30 20:21:18,344 : INFO : 1000\n",
      "2017-01-30 20:21:23,784 : INFO : 2000\n",
      "2017-01-30 20:21:27,676 : INFO : 1000\n",
      "2017-01-30 20:21:28,145 : INFO : 1000\n",
      "2017-01-30 20:21:30,328 : INFO : 1000\n",
      "2017-01-30 20:21:55,579 : INFO : Finished batch of 10000 in 13m 37s\n",
      "2017-01-30 20:21:55,582 : INFO : For index 670000, the actual number of lines written is: 2072\n"
     ]
    },
    {
     "name": "stdout",
     "output_type": "stream",
     "text": [
      "writing batch 670000\n"
     ]
    },
    {
     "name": "stderr",
     "output_type": "stream",
     "text": [
      "2017-01-30 20:22:02,736 : INFO : Batch creation working on 1280000\n",
      "\n",
      "2017-01-30 20:27:08,877 : INFO : 1000\n",
      "2017-01-30 20:27:09,684 : INFO : 1000\n",
      "2017-01-30 20:27:15,652 : INFO : 1000\n",
      "2017-01-30 20:27:21,878 : INFO : 1000\n",
      "2017-01-30 20:27:29,734 : INFO : 2000\n",
      "2017-01-30 20:27:33,429 : INFO : 1000\n",
      "2017-01-30 20:27:43,086 : INFO : 1000\n",
      "2017-01-30 20:27:44,189 : INFO : 1000\n",
      "2017-01-30 20:27:47,176 : INFO : Finished batch of 10000 in 14m 5s\n",
      "2017-01-30 20:27:47,179 : INFO : For index 710000, the actual number of lines written is: 1907\n"
     ]
    },
    {
     "name": "stdout",
     "output_type": "stream",
     "text": [
      "writing batch 710000\n"
     ]
    },
    {
     "name": "stderr",
     "output_type": "stream",
     "text": [
      "2017-01-30 20:27:54,072 : INFO : Batch creation working on 1320000\n",
      "\n",
      "2017-01-30 20:27:55,889 : INFO : Finished batch of 10000 in 14m 16s\n",
      "2017-01-30 20:27:55,892 : INFO : For index 750000, the actual number of lines written is: 2066\n"
     ]
    },
    {
     "name": "stdout",
     "output_type": "stream",
     "text": [
      "writing batch 750000\n"
     ]
    },
    {
     "name": "stderr",
     "output_type": "stream",
     "text": [
      "2017-01-30 20:27:58,761 : INFO : 1000\n",
      "2017-01-30 20:27:59,914 : INFO : Finished batch of 10000 in 14m 9s\n",
      "2017-01-30 20:27:59,918 : INFO : For index 870000, the actual number of lines written is: 1945\n"
     ]
    },
    {
     "name": "stdout",
     "output_type": "stream",
     "text": [
      "writing batch 870000\n"
     ]
    },
    {
     "name": "stderr",
     "output_type": "stream",
     "text": [
      "2017-01-30 20:28:03,285 : INFO : Batch creation working on 1360000\n",
      "\n",
      "2017-01-30 20:28:07,052 : INFO : Batch creation working on 1400000\n",
      "\n",
      "2017-01-30 20:28:11,042 : INFO : Finished batch of 10000 in 14m 16s\n",
      "2017-01-30 20:28:11,057 : INFO : For index 790000, the actual number of lines written is: 1961\n"
     ]
    },
    {
     "name": "stdout",
     "output_type": "stream",
     "text": [
      "writing batch 790000\n"
     ]
    },
    {
     "name": "stderr",
     "output_type": "stream",
     "text": [
      "2017-01-30 20:28:11,835 : INFO : 1000\n",
      "2017-01-30 20:28:14,133 : INFO : Finished batch of 10000 in 14m 16s\n",
      "2017-01-30 20:28:14,137 : INFO : For index 830000, the actual number of lines written is: 1929\n"
     ]
    },
    {
     "name": "stdout",
     "output_type": "stream",
     "text": [
      "writing batch 830000\n"
     ]
    },
    {
     "name": "stderr",
     "output_type": "stream",
     "text": [
      "2017-01-30 20:28:18,071 : INFO : Batch creation working on 1440000\n",
      "\n",
      "2017-01-30 20:28:20,934 : INFO : Batch creation working on 1480000\n",
      "\n",
      "2017-01-30 20:28:36,328 : INFO : Finished batch of 10000 in 14m 10s\n",
      "2017-01-30 20:28:36,332 : INFO : For index 910000, the actual number of lines written is: 1957\n"
     ]
    },
    {
     "name": "stdout",
     "output_type": "stream",
     "text": [
      "writing batch 910000\n"
     ]
    },
    {
     "name": "stderr",
     "output_type": "stream",
     "text": [
      "2017-01-30 20:28:43,873 : INFO : Batch creation working on 1520000\n",
      "\n",
      "2017-01-30 20:28:56,326 : INFO : 1000\n",
      "2017-01-30 20:35:21,702 : INFO : 1000\n",
      "2017-01-30 20:35:21,843 : INFO : 1000\n",
      "2017-01-30 20:35:34,610 : INFO : 1000\n",
      "2017-01-30 20:35:45,932 : INFO : 2000\n",
      "2017-01-30 20:36:00,063 : INFO : 2000\n",
      "2017-01-30 20:36:00,206 : INFO : 2000\n",
      "2017-01-30 20:36:00,806 : INFO : Finished batch of 10000 in 17m 24s\n",
      "2017-01-30 20:36:00,809 : INFO : For index 1140000, the actual number of lines written is: 1992\n"
     ]
    },
    {
     "name": "stdout",
     "output_type": "stream",
     "text": [
      "writing batch 1140000\n"
     ]
    },
    {
     "name": "stderr",
     "output_type": "stream",
     "text": [
      "2017-01-30 20:36:01,927 : INFO : Finished batch of 10000 in 17m 30s\n",
      "2017-01-30 20:36:01,930 : INFO : For index 980000, the actual number of lines written is: 2041\n"
     ]
    },
    {
     "name": "stdout",
     "output_type": "stream",
     "text": [
      "writing batch 980000\n"
     ]
    },
    {
     "name": "stderr",
     "output_type": "stream",
     "text": [
      "2017-01-30 20:36:03,786 : INFO : Finished batch of 10000 in 14m 1s\n",
      "2017-01-30 20:36:03,795 : INFO : For index 1280000, the actual number of lines written is: 1970\n"
     ]
    },
    {
     "name": "stdout",
     "output_type": "stream",
     "text": [
      "writing batch 1280000\n"
     ]
    },
    {
     "name": "stderr",
     "output_type": "stream",
     "text": [
      "2017-01-30 20:36:03,874 : INFO : Finished batch of 10000 in 17m 27s\n",
      "2017-01-30 20:36:03,883 : INFO : For index 940000, the actual number of lines written is: 2011\n"
     ]
    },
    {
     "name": "stdout",
     "output_type": "stream",
     "text": [
      "writing batch 940000\n"
     ]
    },
    {
     "name": "stderr",
     "output_type": "stream",
     "text": [
      "2017-01-30 20:36:04,754 : INFO : 1000\n",
      "2017-01-30 20:36:08,906 : INFO : Batch creation working on 1150000\n",
      "\n",
      "2017-01-30 20:36:10,555 : INFO : Batch creation working on 990000\n",
      "\n",
      "2017-01-30 20:36:11,387 : INFO : Batch creation working on 1290000\n",
      "\n",
      "2017-01-30 20:36:11,408 : INFO : 1000\n",
      "2017-01-30 20:36:11,533 : INFO : Batch creation working on 950000\n",
      "\n",
      "2017-01-30 20:36:12,450 : INFO : 1000\n",
      "2017-01-30 20:36:16,889 : INFO : Finished batch of 10000 in 17m 14s\n",
      "2017-01-30 20:36:16,892 : INFO : For index 1060000, the actual number of lines written is: 2047\n"
     ]
    },
    {
     "name": "stdout",
     "output_type": "stream",
     "text": [
      "writing batch 1060000\n"
     ]
    },
    {
     "name": "stderr",
     "output_type": "stream",
     "text": [
      "2017-01-30 20:36:23,414 : INFO : Batch creation working on 1070000\n",
      "\n",
      "2017-01-30 20:36:28,886 : INFO : Finished batch of 10000 in 17m 27s\n",
      "2017-01-30 20:36:28,890 : INFO : For index 1020000, the actual number of lines written is: 1975\n"
     ]
    },
    {
     "name": "stdout",
     "output_type": "stream",
     "text": [
      "writing batch 1020000\n"
     ]
    },
    {
     "name": "stderr",
     "output_type": "stream",
     "text": [
      "2017-01-30 20:36:34,357 : INFO : 2000\n",
      "2017-01-30 20:36:36,376 : INFO : Batch creation working on 1030000\n",
      "\n",
      "2017-01-30 20:36:38,787 : INFO : 2000\n",
      "2017-01-30 20:36:39,375 : INFO : Finished batch of 10000 in 17m 26s\n",
      "2017-01-30 20:36:39,381 : INFO : For index 1220000, the actual number of lines written is: 2002\n"
     ]
    },
    {
     "name": "stdout",
     "output_type": "stream",
     "text": [
      "writing batch 1220000\n"
     ]
    },
    {
     "name": "stderr",
     "output_type": "stream",
     "text": [
      "2017-01-30 20:36:39,609 : INFO : Finished batch of 10000 in 17m 41s\n",
      "2017-01-30 20:36:39,616 : INFO : For index 1100000, the actual number of lines written is: 2013\n"
     ]
    },
    {
     "name": "stdout",
     "output_type": "stream",
     "text": [
      "writing batch 1100000\n"
     ]
    },
    {
     "name": "stderr",
     "output_type": "stream",
     "text": [
      "2017-01-30 20:36:44,853 : INFO : Finished batch of 10000 in 17m 28s\n",
      "2017-01-30 20:36:44,855 : INFO : For index 1260000, the actual number of lines written is: 1962\n"
     ]
    },
    {
     "name": "stdout",
     "output_type": "stream",
     "text": [
      "writing batch 1260000\n"
     ]
    },
    {
     "name": "stderr",
     "output_type": "stream",
     "text": [
      "2017-01-30 20:36:46,231 : INFO : 2000\n",
      "2017-01-30 20:36:49,029 : INFO : Batch creation working on 1230000\n",
      "\n",
      "2017-01-30 20:36:49,156 : INFO : Batch creation working on 1110000\n",
      "\n",
      "2017-01-30 20:36:51,924 : INFO : Batch creation working on 1270000\n",
      "\n",
      "2017-01-30 20:36:54,341 : INFO : Finished batch of 10000 in 17m 22s\n",
      "2017-01-30 20:36:54,344 : INFO : For index 1180000, the actual number of lines written is: 2018\n"
     ]
    },
    {
     "name": "stdout",
     "output_type": "stream",
     "text": [
      "writing batch 1180000\n"
     ]
    },
    {
     "name": "stderr",
     "output_type": "stream",
     "text": [
      "2017-01-30 20:37:01,926 : INFO : Batch creation working on 1190000\n",
      "\n",
      "2017-01-30 20:42:37,740 : INFO : 2000\n",
      "2017-01-30 20:42:43,338 : INFO : Finished batch of 10000 in 14m 36s\n",
      "2017-01-30 20:42:43,349 : INFO : For index 1400000, the actual number of lines written is: 1974\n"
     ]
    },
    {
     "name": "stdout",
     "output_type": "stream",
     "text": [
      "writing batch 1400000\n"
     ]
    },
    {
     "name": "stderr",
     "output_type": "stream",
     "text": [
      "2017-01-30 20:42:43,487 : INFO : Finished batch of 10000 in 14m 49s\n",
      "2017-01-30 20:42:43,492 : INFO : For index 1320000, the actual number of lines written is: 1933\n"
     ]
    },
    {
     "name": "stdout",
     "output_type": "stream",
     "text": [
      "writing batch 1320000\n"
     ]
    },
    {
     "name": "stderr",
     "output_type": "stream",
     "text": [
      "2017-01-30 20:42:50,377 : INFO : Batch creation working on 1410000\n",
      "\n",
      "2017-01-30 20:42:50,615 : INFO : Batch creation working on 1330000\n",
      "\n",
      "2017-01-30 20:43:05,377 : INFO : Finished batch of 10000 in 15m 2s\n",
      "2017-01-30 20:43:05,380 : INFO : For index 1360000, the actual number of lines written is: 2058\n"
     ]
    },
    {
     "name": "stdout",
     "output_type": "stream",
     "text": [
      "writing batch 1360000\n"
     ]
    },
    {
     "name": "stderr",
     "output_type": "stream",
     "text": [
      "2017-01-30 20:43:05,436 : INFO : Finished batch of 10000 in 14m 47s\n",
      "2017-01-30 20:43:05,440 : INFO : For index 1440000, the actual number of lines written is: 1928\n"
     ]
    },
    {
     "name": "stdout",
     "output_type": "stream",
     "text": [
      "writing batch 1440000\n"
     ]
    },
    {
     "name": "stderr",
     "output_type": "stream",
     "text": [
      "2017-01-30 20:43:12,937 : INFO : Batch creation working on 1450000\n",
      "\n",
      "2017-01-30 20:43:13,656 : INFO : Batch creation working on 1370000\n",
      "\n",
      "2017-01-30 20:43:17,760 : INFO : Finished batch of 10000 in 14m 57s\n",
      "2017-01-30 20:43:17,764 : INFO : For index 1480000, the actual number of lines written is: 1974\n"
     ]
    },
    {
     "name": "stdout",
     "output_type": "stream",
     "text": [
      "writing batch 1480000\n"
     ]
    },
    {
     "name": "stderr",
     "output_type": "stream",
     "text": [
      "2017-01-30 20:43:25,243 : INFO : Batch creation working on 1490000\n",
      "\n",
      "2017-01-30 20:43:26,913 : INFO : 2000\n",
      "2017-01-30 20:43:39,596 : INFO : Finished batch of 10000 in 14m 56s\n",
      "2017-01-30 20:43:39,612 : INFO : For index 1520000, the actual number of lines written is: 2021\n"
     ]
    },
    {
     "name": "stdout",
     "output_type": "stream",
     "text": [
      "writing batch 1520000\n"
     ]
    },
    {
     "name": "stderr",
     "output_type": "stream",
     "text": [
      "2017-01-30 20:43:47,422 : INFO : Batch creation working on 1530000\n",
      "\n",
      "2017-01-30 20:43:51,117 : INFO : 1000\n",
      "2017-01-30 20:44:36,277 : INFO : 1000\n",
      "2017-01-30 20:45:01,692 : INFO : 1000\n",
      "2017-01-30 20:45:05,774 : INFO : 1000\n",
      "2017-01-30 20:45:09,636 : INFO : 1000\n",
      "2017-01-30 20:45:16,780 : INFO : 1000\n",
      "2017-01-30 20:45:19,933 : INFO : 1000\n",
      "2017-01-30 20:45:26,112 : INFO : 1000\n",
      "2017-01-30 20:45:36,672 : INFO : 1000\n",
      "2017-01-30 20:45:43,086 : INFO : 1000\n",
      "2017-01-30 20:50:42,181 : INFO : Finished batch of 10000 in 14m 31s\n",
      "2017-01-30 20:50:42,194 : INFO : For index 1290000, the actual number of lines written is: 1898\n"
     ]
    },
    {
     "name": "stdout",
     "output_type": "stream",
     "text": [
      "writing batch 1290000\n"
     ]
    },
    {
     "name": "stderr",
     "output_type": "stream",
     "text": [
      "2017-01-30 20:50:42,630 : INFO : 1000\n",
      "2017-01-30 20:50:43,538 : INFO : 1000\n",
      "2017-01-30 20:50:47,492 : INFO : 1000\n",
      "2017-01-30 20:50:48,067 : INFO : 1000\n",
      "2017-01-30 20:50:49,975 : INFO : Batch creation working on 1300000\n",
      "\n",
      "2017-01-30 20:50:55,281 : INFO : 1000\n",
      "2017-01-30 20:51:36,824 : INFO : 1000\n",
      "2017-01-30 20:52:51,172 : INFO : Finished batch of 10000 in 16m 41s\n",
      "2017-01-30 20:52:51,181 : INFO : For index 990000, the actual number of lines written is: 1993\n"
     ]
    },
    {
     "name": "stdout",
     "output_type": "stream",
     "text": [
      "writing batch 990000\n"
     ]
    },
    {
     "name": "stderr",
     "output_type": "stream",
     "text": [
      "2017-01-30 20:52:54,395 : INFO : 2000\n",
      "2017-01-30 20:52:55,685 : INFO : 2000\n",
      "2017-01-30 20:52:57,134 : INFO : Finished batch of 10000 in 16m 48s\n",
      "2017-01-30 20:52:57,149 : INFO : For index 1150000, the actual number of lines written is: 1982\n"
     ]
    },
    {
     "name": "stdout",
     "output_type": "stream",
     "text": [
      "writing batch 1150000\n"
     ]
    },
    {
     "name": "stderr",
     "output_type": "stream",
     "text": [
      "2017-01-30 20:52:58,786 : INFO : Batch creation working on 1560000\n",
      "\n",
      "2017-01-30 20:53:04,808 : INFO : Finished batch of 10000 in 16m 41s\n",
      "2017-01-30 20:53:04,810 : INFO : For index 1070000, the actual number of lines written is: 2021\n"
     ]
    },
    {
     "name": "stdout",
     "output_type": "stream",
     "text": [
      "writing batch 1070000\n"
     ]
    },
    {
     "name": "stderr",
     "output_type": "stream",
     "text": [
      "2017-01-30 20:53:05,295 : INFO : Batch creation working on 1600000\n",
      "\n",
      "2017-01-30 20:53:07,465 : INFO : 2000\n",
      "2017-01-30 20:53:08,675 : INFO : Finished batch of 10000 in 16m 57s\n",
      "2017-01-30 20:53:08,678 : INFO : For index 950000, the actual number of lines written is: 2021\n"
     ]
    },
    {
     "name": "stdout",
     "output_type": "stream",
     "text": [
      "writing batch 950000\n"
     ]
    },
    {
     "name": "stderr",
     "output_type": "stream",
     "text": [
      "2017-01-30 20:53:09,842 : INFO : 2000\n",
      "2017-01-30 20:53:12,190 : INFO : Batch creation working on 1640000\n",
      "\n",
      "2017-01-30 20:53:17,050 : INFO : Batch creation working on 1680000\n",
      "\n",
      "2017-01-30 20:53:22,497 : INFO : Finished batch of 10000 in 16m 46s\n",
      "2017-01-30 20:53:22,507 : INFO : For index 1030000, the actual number of lines written is: 2028\n"
     ]
    },
    {
     "name": "stdout",
     "output_type": "stream",
     "text": [
      "writing batch 1030000\n"
     ]
    },
    {
     "name": "stderr",
     "output_type": "stream",
     "text": [
      "2017-01-30 20:53:28,133 : INFO : Finished batch of 10000 in 16m 36s\n",
      "2017-01-30 20:53:28,136 : INFO : For index 1270000, the actual number of lines written is: 1975\n"
     ]
    },
    {
     "name": "stdout",
     "output_type": "stream",
     "text": [
      "writing batch 1270000\n"
     ]
    },
    {
     "name": "stderr",
     "output_type": "stream",
     "text": [
      "2017-01-30 20:53:29,311 : INFO : 2000\n",
      "2017-01-30 20:53:29,807 : INFO : Batch creation working on 1720000\n",
      "\n",
      "2017-01-30 20:53:30,045 : INFO : Finished batch of 10000 in 16m 41s\n",
      "2017-01-30 20:53:30,047 : INFO : For index 1110000, the actual number of lines written is: 2037\n"
     ]
    },
    {
     "name": "stdout",
     "output_type": "stream",
     "text": [
      "writing batch 1110000\n"
     ]
    },
    {
     "name": "stderr",
     "output_type": "stream",
     "text": [
      "2017-01-30 20:53:36,889 : INFO : Batch creation working on 1760000\n",
      "\n",
      "2017-01-30 20:53:37,429 : INFO : Finished batch of 10000 in 16m 48s\n",
      "2017-01-30 20:53:37,433 : INFO : For index 1230000, the actual number of lines written is: 1992\n"
     ]
    },
    {
     "name": "stdout",
     "output_type": "stream",
     "text": [
      "writing batch 1230000\n"
     ]
    },
    {
     "name": "stderr",
     "output_type": "stream",
     "text": [
      "2017-01-30 20:53:38,394 : INFO : Batch creation working on 1800000\n",
      "\n",
      "2017-01-30 20:53:38,759 : INFO : Finished batch of 10000 in 16m 37s\n",
      "2017-01-30 20:53:38,761 : INFO : For index 1190000, the actual number of lines written is: 2026\n"
     ]
    },
    {
     "name": "stdout",
     "output_type": "stream",
     "text": [
      "writing batch 1190000\n"
     ]
    },
    {
     "name": "stderr",
     "output_type": "stream",
     "text": [
      "2017-01-30 20:53:46,054 : INFO : Batch creation working on 1840000\n",
      "\n",
      "2017-01-30 20:53:46,319 : INFO : Batch creation working on 1880000\n",
      "\n",
      "2017-01-30 20:57:48,498 : INFO : Finished batch of 10000 in 14m 58s\n",
      "2017-01-30 20:57:48,502 : INFO : For index 1330000, the actual number of lines written is: 1960\n"
     ]
    },
    {
     "name": "stdout",
     "output_type": "stream",
     "text": [
      "writing batch 1330000\n"
     ]
    },
    {
     "name": "stderr",
     "output_type": "stream",
     "text": [
      "2017-01-30 20:57:55,522 : INFO : Batch creation working on 1340000\n",
      "\n",
      "2017-01-30 20:58:04,996 : INFO : 2000\n",
      "2017-01-30 20:58:06,275 : INFO : 1000\n",
      "2017-01-30 20:58:15,340 : INFO : Finished batch of 10000 in 15m 25s\n",
      "2017-01-30 20:58:15,343 : INFO : For index 1410000, the actual number of lines written is: 1980\n"
     ]
    },
    {
     "name": "stdout",
     "output_type": "stream",
     "text": [
      "writing batch 1410000\n"
     ]
    },
    {
     "name": "stderr",
     "output_type": "stream",
     "text": [
      "2017-01-30 20:58:16,062 : INFO : Finished batch of 10000 in 15m 3s\n",
      "2017-01-30 20:58:16,066 : INFO : For index 1450000, the actual number of lines written is: 2020\n"
     ]
    },
    {
     "name": "stdout",
     "output_type": "stream",
     "text": [
      "writing batch 1450000\n"
     ]
    },
    {
     "name": "stderr",
     "output_type": "stream",
     "text": [
      "2017-01-30 20:58:19,117 : INFO : Finished batch of 10000 in 15m 5s\n",
      "2017-01-30 20:58:19,120 : INFO : For index 1370000, the actual number of lines written is: 1982\n"
     ]
    },
    {
     "name": "stdout",
     "output_type": "stream",
     "text": [
      "writing batch 1370000\n"
     ]
    },
    {
     "name": "stderr",
     "output_type": "stream",
     "text": [
      "2017-01-30 20:58:20,393 : INFO : 2000\n",
      "2017-01-30 20:58:23,509 : INFO : Batch creation working on 1420000\n",
      "\n",
      "2017-01-30 20:58:23,726 : INFO : Batch creation working on 1460000\n",
      "\n",
      "2017-01-30 20:58:27,172 : INFO : Batch creation working on 1380000\n",
      "\n",
      "2017-01-30 20:58:42,570 : INFO : Finished batch of 10000 in 15m 17s\n",
      "2017-01-30 20:58:42,578 : INFO : For index 1490000, the actual number of lines written is: 2058\n"
     ]
    },
    {
     "name": "stdout",
     "output_type": "stream",
     "text": [
      "writing batch 1490000\n"
     ]
    },
    {
     "name": "stderr",
     "output_type": "stream",
     "text": [
      "2017-01-30 20:58:47,558 : INFO : Finished batch of 10000 in 15m 0s\n",
      "2017-01-30 20:58:47,570 : INFO : For index 1530000, the actual number of lines written is: 1974\n"
     ]
    },
    {
     "name": "stdout",
     "output_type": "stream",
     "text": [
      "writing batch 1530000\n"
     ]
    },
    {
     "name": "stderr",
     "output_type": "stream",
     "text": [
      "2017-01-30 20:58:50,628 : INFO : Batch creation working on 1500000\n",
      "\n",
      "2017-01-30 20:58:54,271 : INFO : Batch creation working on 1540000\n",
      "\n",
      "2017-01-30 21:00:50,550 : INFO : 1000\n",
      "2017-01-30 21:01:10,178 : INFO : 1000\n",
      "2017-01-30 21:01:13,640 : INFO : 1000\n",
      "2017-01-30 21:01:26,048 : INFO : 1000\n",
      "2017-01-30 21:01:33,139 : INFO : 1000\n",
      "2017-01-30 21:01:35,127 : INFO : 1000\n",
      "2017-01-30 21:01:40,970 : INFO : 1000\n",
      "2017-01-30 21:01:50,907 : INFO : 1000\n",
      "2017-01-30 21:02:19,812 : INFO : 1000\n",
      "2017-01-30 21:05:00,155 : INFO : 2000\n",
      "2017-01-30 21:05:15,666 : INFO : Finished batch of 10000 in 14m 26s\n",
      "2017-01-30 21:05:15,668 : INFO : For index 1300000, the actual number of lines written is: 2047\n"
     ]
    },
    {
     "name": "stdout",
     "output_type": "stream",
     "text": [
      "writing batch 1300000\n"
     ]
    },
    {
     "name": "stderr",
     "output_type": "stream",
     "text": [
      "2017-01-30 21:05:21,585 : INFO : Batch creation working on 1310000\n",
      "\n",
      "2017-01-30 21:05:23,308 : INFO : 1000\n",
      "2017-01-30 21:05:40,158 : INFO : 1000\n",
      "2017-01-30 21:05:56,591 : INFO : 1000\n",
      "2017-01-30 21:05:58,766 : INFO : 1000\n",
      "2017-01-30 21:05:59,849 : INFO : 1000\n",
      "2017-01-30 21:06:19,865 : INFO : 1000\n",
      "2017-01-30 21:09:00,287 : INFO : 2000\n",
      "2017-01-30 21:09:29,132 : INFO : Finished batch of 10000 in 16m 30s\n",
      "2017-01-30 21:09:29,140 : INFO : For index 1560000, the actual number of lines written is: 2050\n"
     ]
    },
    {
     "name": "stdout",
     "output_type": "stream",
     "text": [
      "writing batch 1560000\n"
     ]
    },
    {
     "name": "stderr",
     "output_type": "stream",
     "text": [
      "2017-01-30 21:09:35,973 : INFO : 2000\n",
      "2017-01-30 21:09:37,834 : INFO : Batch creation working on 1570000\n",
      "\n",
      "2017-01-30 21:09:39,282 : INFO : Finished batch of 10000 in 16m 34s\n",
      "2017-01-30 21:09:39,286 : INFO : For index 1600000, the actual number of lines written is: 1949\n"
     ]
    },
    {
     "name": "stdout",
     "output_type": "stream",
     "text": [
      "writing batch 1600000\n"
     ]
    },
    {
     "name": "stderr",
     "output_type": "stream",
     "text": [
      "2017-01-30 21:09:44,974 : INFO : 2000\n",
      "2017-01-30 21:09:45,167 : INFO : Finished batch of 10000 in 16m 33s\n",
      "2017-01-30 21:09:45,169 : INFO : For index 1640000, the actual number of lines written is: 2001\n"
     ]
    },
    {
     "name": "stdout",
     "output_type": "stream",
     "text": [
      "writing batch 1640000\n"
     ]
    },
    {
     "name": "stderr",
     "output_type": "stream",
     "text": [
      "2017-01-30 21:09:47,040 : INFO : Batch creation working on 1610000\n",
      "\n",
      "2017-01-30 21:09:52,761 : INFO : Batch creation working on 1650000\n",
      "\n",
      "2017-01-30 21:09:55,474 : INFO : Finished batch of 10000 in 16m 38s\n",
      "2017-01-30 21:09:55,478 : INFO : For index 1680000, the actual number of lines written is: 2048\n"
     ]
    },
    {
     "name": "stdout",
     "output_type": "stream",
     "text": [
      "writing batch 1680000\n"
     ]
    },
    {
     "name": "stderr",
     "output_type": "stream",
     "text": [
      "2017-01-30 21:10:03,633 : INFO : Batch creation working on 1690000\n",
      "\n",
      "2017-01-30 21:10:05,783 : INFO : Finished batch of 10000 in 16m 36s\n",
      "2017-01-30 21:10:05,786 : INFO : For index 1720000, the actual number of lines written is: 1986\n"
     ]
    },
    {
     "name": "stdout",
     "output_type": "stream",
     "text": [
      "writing batch 1720000\n"
     ]
    },
    {
     "name": "stderr",
     "output_type": "stream",
     "text": [
      "2017-01-30 21:10:07,382 : INFO : Finished batch of 10000 in 16m 29s\n",
      "2017-01-30 21:10:07,385 : INFO : For index 1800000, the actual number of lines written is: 1990\n"
     ]
    },
    {
     "name": "stdout",
     "output_type": "stream",
     "text": [
      "writing batch 1800000\n"
     ]
    },
    {
     "name": "stderr",
     "output_type": "stream",
     "text": [
      "2017-01-30 21:10:08,741 : INFO : 2000\n",
      "2017-01-30 21:10:12,912 : INFO : Finished batch of 10000 in 16m 36s\n",
      "2017-01-30 21:10:12,915 : INFO : For index 1760000, the actual number of lines written is: 2007\n"
     ]
    },
    {
     "name": "stdout",
     "output_type": "stream",
     "text": [
      "writing batch 1760000\n"
     ]
    },
    {
     "name": "stderr",
     "output_type": "stream",
     "text": [
      "2017-01-30 21:10:13,649 : INFO : Batch creation working on 1730000\n",
      "\n",
      "2017-01-30 21:10:14,420 : INFO : Batch creation working on 1810000\n",
      "\n",
      "2017-01-30 21:10:20,878 : INFO : Batch creation working on 1770000\n",
      "\n",
      "2017-01-30 21:10:23,610 : INFO : Finished batch of 10000 in 16m 37s\n",
      "2017-01-30 21:10:23,617 : INFO : For index 1840000, the actual number of lines written is: 1915\n"
     ]
    },
    {
     "name": "stdout",
     "output_type": "stream",
     "text": [
      "writing batch 1840000\n"
     ]
    },
    {
     "name": "stderr",
     "output_type": "stream",
     "text": [
      "2017-01-30 21:10:29,283 : INFO : 2000\n",
      "2017-01-30 21:10:31,138 : INFO : Batch creation working on 1850000\n",
      "\n",
      "2017-01-30 21:10:43,907 : INFO : Finished batch of 10000 in 16m 57s\n",
      "2017-01-30 21:10:43,910 : INFO : For index 1880000, the actual number of lines written is: 2034\n"
     ]
    },
    {
     "name": "stdout",
     "output_type": "stream",
     "text": [
      "writing batch 1880000\n"
     ]
    },
    {
     "name": "stderr",
     "output_type": "stream",
     "text": [
      "2017-01-30 21:10:52,765 : INFO : Batch creation working on 1890000\n",
      "\n",
      "2017-01-30 21:11:48,647 : INFO : 1000\n",
      "2017-01-30 21:12:20,201 : INFO : Finished batch of 10000 in 14m 25s\n",
      "2017-01-30 21:12:20,211 : INFO : For index 1340000, the actual number of lines written is: 1974\n"
     ]
    },
    {
     "name": "stdout",
     "output_type": "stream",
     "text": [
      "writing batch 1340000\n"
     ]
    },
    {
     "name": "stderr",
     "output_type": "stream",
     "text": [
      "2017-01-30 21:12:26,391 : INFO : Batch creation working on 1350000\n",
      "\n",
      "2017-01-30 21:12:36,558 : INFO : 2000\n",
      "2017-01-30 21:12:41,234 : INFO : Finished batch of 10000 in 14m 17s\n",
      "2017-01-30 21:12:41,237 : INFO : For index 1460000, the actual number of lines written is: 1984\n"
     ]
    },
    {
     "name": "stdout",
     "output_type": "stream",
     "text": [
      "writing batch 1460000\n"
     ]
    },
    {
     "name": "stderr",
     "output_type": "stream",
     "text": [
      "2017-01-30 21:12:47,336 : INFO : Batch creation working on 1470000\n",
      "\n",
      "2017-01-30 21:12:53,747 : INFO : Finished batch of 10000 in 14m 30s\n",
      "2017-01-30 21:12:53,750 : INFO : For index 1420000, the actual number of lines written is: 2045\n"
     ]
    },
    {
     "name": "stdout",
     "output_type": "stream",
     "text": [
      "writing batch 1420000\n"
     ]
    },
    {
     "name": "stderr",
     "output_type": "stream",
     "text": [
      "2017-01-30 21:12:54,098 : INFO : Finished batch of 10000 in 14m 27s\n",
      "2017-01-30 21:12:54,101 : INFO : For index 1380000, the actual number of lines written is: 1991\n"
     ]
    },
    {
     "name": "stdout",
     "output_type": "stream",
     "text": [
      "writing batch 1380000\n"
     ]
    },
    {
     "name": "stderr",
     "output_type": "stream",
     "text": [
      "2017-01-30 21:12:54,306 : INFO : Finished batch of 10000 in 14m 4s\n",
      "2017-01-30 21:12:54,309 : INFO : For index 1500000, the actual number of lines written is: 1987\n"
     ]
    },
    {
     "name": "stdout",
     "output_type": "stream",
     "text": [
      "writing batch 1500000\n"
     ]
    },
    {
     "name": "stderr",
     "output_type": "stream",
     "text": [
      "2017-01-30 21:13:02,635 : INFO : Batch creation working on 1510000\n",
      "\n",
      "2017-01-30 21:13:03,089 : INFO : Batch creation working on 1430000\n",
      "\n",
      "2017-01-30 21:13:03,173 : INFO : Batch creation working on 1390000\n",
      "\n",
      "2017-01-30 21:13:26,584 : INFO : Finished batch of 10000 in 14m 32s\n",
      "2017-01-30 21:13:26,589 : INFO : For index 1540000, the actual number of lines written is: 1990\n"
     ]
    },
    {
     "name": "stdout",
     "output_type": "stream",
     "text": [
      "writing batch 1540000\n"
     ]
    },
    {
     "name": "stderr",
     "output_type": "stream",
     "text": [
      "2017-01-30 21:13:32,967 : INFO : Batch creation working on 1550000\n",
      "\n",
      "2017-01-30 21:17:43,394 : INFO : 1000\n",
      "2017-01-30 21:18:20,879 : INFO : 1000\n",
      "2017-01-30 21:18:25,147 : INFO : 1000\n",
      "2017-01-30 21:18:38,364 : INFO : 1000\n",
      "2017-01-30 21:18:50,390 : INFO : 2000\n",
      "2017-01-30 21:18:53,015 : INFO : 1000\n",
      "2017-01-30 21:18:53,447 : INFO : 1000\n",
      "2017-01-30 21:18:57,541 : INFO : Finished batch of 10000 in 13m 36s\n",
      "2017-01-30 21:18:57,556 : INFO : For index 1310000, the actual number of lines written is: 2016\n"
     ]
    },
    {
     "name": "stdout",
     "output_type": "stream",
     "text": [
      "writing batch 1310000\n"
     ]
    },
    {
     "name": "stderr",
     "output_type": "stream",
     "text": [
      "2017-01-30 21:19:02,893 : INFO : 1000\n",
      "2017-01-30 21:19:05,068 : INFO : Batch creation working on 1920000\n",
      "\n",
      "2017-01-30 21:19:11,083 : INFO : 1000\n",
      "2017-01-30 21:19:41,161 : INFO : 1000\n",
      "2017-01-30 21:19:51,591 : INFO : 1000\n",
      "2017-01-30 21:20:14,076 : INFO : 1000\n",
      "2017-01-30 21:20:15,909 : INFO : 1000\n",
      "2017-01-30 21:20:37,162 : INFO : 1000\n",
      "2017-01-30 21:20:38,127 : INFO : 1000\n",
      "2017-01-30 21:20:54,890 : INFO : 1000\n",
      "2017-01-30 21:26:23,964 : INFO : 2000\n",
      "2017-01-30 21:26:37,057 : INFO : 1000\n",
      "2017-01-30 21:26:50,053 : INFO : Finished batch of 10000 in 16m 57s\n",
      "2017-01-30 21:26:50,065 : INFO : For index 1650000, the actual number of lines written is: 1946\n"
     ]
    },
    {
     "name": "stdout",
     "output_type": "stream",
     "text": [
      "writing batch 1650000\n"
     ]
    },
    {
     "name": "stderr",
     "output_type": "stream",
     "text": [
      "2017-01-30 21:26:50,293 : INFO : Finished batch of 10000 in 17m 12s\n",
      "2017-01-30 21:26:50,305 : INFO : For index 1570000, the actual number of lines written is: 2049\n"
     ]
    },
    {
     "name": "stdout",
     "output_type": "stream",
     "text": [
      "writing batch 1570000\n"
     ]
    },
    {
     "name": "stderr",
     "output_type": "stream",
     "text": [
      "2017-01-30 21:26:57,766 : INFO : 2000\n",
      "2017-01-30 21:26:59,720 : INFO : Batch creation working on 1660000\n",
      "\n",
      "2017-01-30 21:27:00,421 : INFO : Batch creation working on 1580000\n",
      "\n",
      "2017-01-30 21:27:04,121 : INFO : Finished batch of 10000 in 17m 17s\n",
      "2017-01-30 21:27:04,145 : INFO : For index 1610000, the actual number of lines written is: 2014\n"
     ]
    },
    {
     "name": "stdout",
     "output_type": "stream",
     "text": [
      "writing batch 1610000\n"
     ]
    },
    {
     "name": "stderr",
     "output_type": "stream",
     "text": [
      "2017-01-30 21:27:12,646 : INFO : 2000\n",
      "2017-01-30 21:27:13,158 : INFO : Batch creation working on 1620000\n",
      "\n",
      "2017-01-30 21:27:17,588 : INFO : 2000\n",
      "2017-01-30 21:27:26,283 : INFO : Finished batch of 10000 in 17m 23s\n",
      "2017-01-30 21:27:26,288 : INFO : For index 1690000, the actual number of lines written is: 2016\n"
     ]
    },
    {
     "name": "stdout",
     "output_type": "stream",
     "text": [
      "writing batch 1690000\n"
     ]
    },
    {
     "name": "stderr",
     "output_type": "stream",
     "text": [
      "2017-01-30 21:27:34,242 : INFO : Batch creation working on 1700000\n",
      "\n",
      "2017-01-30 21:27:34,340 : INFO : Finished batch of 10000 in 17m 21s\n",
      "2017-01-30 21:27:34,344 : INFO : For index 1730000, the actual number of lines written is: 1982\n"
     ]
    },
    {
     "name": "stdout",
     "output_type": "stream",
     "text": [
      "writing batch 1730000\n"
     ]
    },
    {
     "name": "stderr",
     "output_type": "stream",
     "text": [
      "2017-01-30 21:27:39,056 : INFO : Finished batch of 10000 in 17m 18s\n",
      "2017-01-30 21:27:39,061 : INFO : For index 1770000, the actual number of lines written is: 1975\n"
     ]
    },
    {
     "name": "stdout",
     "output_type": "stream",
     "text": [
      "writing batch 1770000\n"
     ]
    },
    {
     "name": "stderr",
     "output_type": "stream",
     "text": [
      "2017-01-30 21:27:39,920 : INFO : Finished batch of 10000 in 17m 25s\n",
      "2017-01-30 21:27:39,923 : INFO : For index 1810000, the actual number of lines written is: 2045\n"
     ]
    },
    {
     "name": "stdout",
     "output_type": "stream",
     "text": [
      "writing batch 1810000\n"
     ]
    },
    {
     "name": "stderr",
     "output_type": "stream",
     "text": [
      "2017-01-30 21:27:42,533 : INFO : Batch creation working on 1740000\n",
      "\n",
      "2017-01-30 21:27:43,365 : INFO : 2000\n",
      "2017-01-30 21:27:43,877 : INFO : 2000\n",
      "2017-01-30 21:27:46,567 : INFO : Finished batch of 10000 in 15m 20s\n",
      "2017-01-30 21:27:46,569 : INFO : For index 1350000, the actual number of lines written is: 2005\n"
     ]
    },
    {
     "name": "stdout",
     "output_type": "stream",
     "text": [
      "writing batch 1350000\n"
     ]
    },
    {
     "name": "stderr",
     "output_type": "stream",
     "text": [
      "2017-01-30 21:27:48,091 : INFO : Batch creation working on 1780000\n",
      "\n",
      "2017-01-30 21:27:48,961 : INFO : Finished batch of 10000 in 15m 2s\n",
      "2017-01-30 21:27:48,964 : INFO : For index 1470000, the actual number of lines written is: 1971\n"
     ]
    },
    {
     "name": "stdout",
     "output_type": "stream",
     "text": [
      "writing batch 1470000\n"
     ]
    },
    {
     "name": "stderr",
     "output_type": "stream",
     "text": [
      "2017-01-30 21:27:49,671 : INFO : Batch creation working on 1820000\n",
      "\n",
      "2017-01-30 21:27:54,382 : INFO : Batch creation working on 1960000\n",
      "\n",
      "2017-01-30 21:27:55,297 : INFO : Batch creation working on 2000000\n",
      "\n",
      "2017-01-30 21:27:57,938 : INFO : Finished batch of 10000 in 17m 27s\n",
      "2017-01-30 21:27:57,943 : INFO : For index 1850000, the actual number of lines written is: 2035\n"
     ]
    },
    {
     "name": "stdout",
     "output_type": "stream",
     "text": [
      "writing batch 1850000\n"
     ]
    },
    {
     "name": "stderr",
     "output_type": "stream",
     "text": [
      "2017-01-30 21:28:02,658 : INFO : Finished batch of 10000 in 15m 0s\n",
      "2017-01-30 21:28:02,661 : INFO : For index 1510000, the actual number of lines written is: 1996\n"
     ]
    },
    {
     "name": "stdout",
     "output_type": "stream",
     "text": [
      "writing batch 1510000\n"
     ]
    },
    {
     "name": "stderr",
     "output_type": "stream",
     "text": [
      "2017-01-30 21:28:06,249 : INFO : Batch creation working on 1860000\n",
      "\n",
      "2017-01-30 21:28:08,571 : INFO : Finished batch of 10000 in 15m 5s\n",
      "2017-01-30 21:28:08,575 : INFO : For index 1390000, the actual number of lines written is: 1967\n"
     ]
    },
    {
     "name": "stdout",
     "output_type": "stream",
     "text": [
      "writing batch 1390000\n"
     ]
    },
    {
     "name": "stderr",
     "output_type": "stream",
     "text": [
      "2017-01-30 21:28:09,777 : INFO : 2000\n",
      "2017-01-30 21:28:15,399 : INFO : Finished batch of 10000 in 17m 23s\n",
      "2017-01-30 21:28:15,402 : INFO : For index 1890000, the actual number of lines written is: 1964\n"
     ]
    },
    {
     "name": "stdout",
     "output_type": "stream",
     "text": [
      "writing batch 1890000\n"
     ]
    },
    {
     "name": "stderr",
     "output_type": "stream",
     "text": [
      "2017-01-30 21:28:22,301 : INFO : Finished batch of 10000 in 15m 19s\n",
      "2017-01-30 21:28:22,305 : INFO : For index 1430000, the actual number of lines written is: 1965\n"
     ]
    },
    {
     "name": "stdout",
     "output_type": "stream",
     "text": [
      "writing batch 1430000\n"
     ]
    },
    {
     "name": "stderr",
     "output_type": "stream",
     "text": [
      "2017-01-30 21:28:23,922 : INFO : Batch creation working on 1900000\n",
      "\n",
      "2017-01-30 21:28:45,371 : INFO : Finished batch of 10000 in 15m 12s\n",
      "2017-01-30 21:28:45,375 : INFO : For index 1550000, the actual number of lines written is: 2095\n"
     ]
    },
    {
     "name": "stdout",
     "output_type": "stream",
     "text": [
      "writing batch 1550000\n"
     ]
    },
    {
     "name": "stderr",
     "output_type": "stream",
     "text": [
      "2017-01-30 21:32:45,820 : INFO : Finished batch of 10000 in 13m 40s\n",
      "2017-01-30 21:32:45,822 : INFO : For index 1920000, the actual number of lines written is: 1972\n"
     ]
    },
    {
     "name": "stdout",
     "output_type": "stream",
     "text": [
      "writing batch 1920000\n"
     ]
    },
    {
     "name": "stderr",
     "output_type": "stream",
     "text": [
      "2017-01-30 21:32:50,873 : INFO : Batch creation working on 1930000\n",
      "\n",
      "2017-01-30 21:34:16,164 : INFO : 1000\n",
      "2017-01-30 21:34:23,871 : INFO : 1000\n",
      "2017-01-30 21:35:14,868 : INFO : 1000\n",
      "2017-01-30 21:35:31,023 : INFO : 1000\n",
      "2017-01-30 21:35:51,486 : INFO : 1000\n",
      "2017-01-30 21:36:16,565 : INFO : 1000\n",
      "2017-01-30 21:36:18,791 : INFO : 1000\n",
      "2017-01-30 21:36:24,424 : INFO : 1000\n",
      "2017-01-30 21:36:35,440 : INFO : 1000\n",
      "2017-01-30 21:36:38,619 : INFO : 1000\n",
      "2017-01-30 21:36:39,348 : INFO : 1000\n",
      "2017-01-30 21:38:51,598 : INFO : 1000\n",
      "2017-01-30 21:40:09,589 : INFO : Finished batch of 10000 in 12m 14s\n",
      "2017-01-30 21:40:09,595 : INFO : For index 2000000, the actual number of lines written is: 1931\n"
     ]
    },
    {
     "name": "stdout",
     "output_type": "stream",
     "text": [
      "writing batch 2000000\n"
     ]
    },
    {
     "name": "stderr",
     "output_type": "stream",
     "text": [
      "2017-01-30 21:40:32,704 : INFO : 2000\n",
      "2017-01-30 21:40:42,770 : INFO : Finished batch of 10000 in 12m 48s\n",
      "2017-01-30 21:40:42,771 : INFO : For index 1960000, the actual number of lines written is: 2032\n"
     ]
    },
    {
     "name": "stdout",
     "output_type": "stream",
     "text": [
      "writing batch 1960000\n"
     ]
    },
    {
     "name": "stderr",
     "output_type": "stream",
     "text": [
      "2017-01-30 21:40:48,045 : INFO : Batch creation working on 1970000\n",
      "\n",
      "2017-01-30 21:43:11,084 : INFO : 2000\n",
      "2017-01-30 21:43:25,409 : INFO : 2000\n",
      "2017-01-30 21:43:48,736 : INFO : Finished batch of 10000 in 16m 49s\n",
      "2017-01-30 21:43:48,739 : INFO : For index 1660000, the actual number of lines written is: 2047\n"
     ]
    },
    {
     "name": "stdout",
     "output_type": "stream",
     "text": [
      "writing batch 1660000\n"
     ]
    },
    {
     "name": "stderr",
     "output_type": "stream",
     "text": [
      "2017-01-30 21:43:57,440 : INFO : Batch creation working on 1670000\n",
      "\n",
      "2017-01-30 21:44:00,750 : INFO : Finished batch of 10000 in 17m 0s\n",
      "2017-01-30 21:44:00,754 : INFO : For index 1580000, the actual number of lines written is: 2100\n"
     ]
    },
    {
     "name": "stdout",
     "output_type": "stream",
     "text": [
      "writing batch 1580000\n"
     ]
    },
    {
     "name": "stderr",
     "output_type": "stream",
     "text": [
      "2017-01-30 21:44:02,166 : INFO : 2000\n",
      "2017-01-30 21:44:08,608 : INFO : Finished batch of 10000 in 16m 55s\n",
      "2017-01-30 21:44:08,611 : INFO : For index 1620000, the actual number of lines written is: 2015\n"
     ]
    },
    {
     "name": "stdout",
     "output_type": "stream",
     "text": [
      "writing batch 1620000\n"
     ]
    },
    {
     "name": "stderr",
     "output_type": "stream",
     "text": [
      "2017-01-30 21:44:09,881 : INFO : Batch creation working on 1590000\n",
      "\n",
      "2017-01-30 21:44:16,733 : INFO : Batch creation working on 1630000\n",
      "\n",
      "2017-01-30 21:44:27,837 : INFO : Finished batch of 10000 in 11m 37s\n",
      "2017-01-30 21:44:27,840 : INFO : For index 1930000, the actual number of lines written is: 1951\n"
     ]
    },
    {
     "name": "stdout",
     "output_type": "stream",
     "text": [
      "writing batch 1930000\n"
     ]
    },
    {
     "name": "stderr",
     "output_type": "stream",
     "text": [
      "2017-01-30 21:44:32,293 : INFO : Finished batch of 10000 in 16m 58s\n",
      "2017-01-30 21:44:32,297 : INFO : For index 1700000, the actual number of lines written is: 1982\n"
     ]
    },
    {
     "name": "stdout",
     "output_type": "stream",
     "text": [
      "writing batch 1700000\n"
     ]
    },
    {
     "name": "stderr",
     "output_type": "stream",
     "text": [
      "2017-01-30 21:44:32,796 : INFO : Batch creation working on 1940000\n",
      "\n",
      "2017-01-30 21:44:33,237 : INFO : 2000\n",
      "2017-01-30 21:44:39,706 : INFO : 2000\n",
      "2017-01-30 21:44:40,364 : INFO : Batch creation working on 1710000\n",
      "\n",
      "2017-01-30 21:44:41,842 : INFO : Finished batch of 10000 in 16m 59s\n",
      "2017-01-30 21:44:41,847 : INFO : For index 1740000, the actual number of lines written is: 1991\n"
     ]
    },
    {
     "name": "stdout",
     "output_type": "stream",
     "text": [
      "writing batch 1740000\n"
     ]
    },
    {
     "name": "stderr",
     "output_type": "stream",
     "text": [
      "2017-01-30 21:44:43,789 : INFO : Finished batch of 10000 in 16m 54s\n",
      "2017-01-30 21:44:43,797 : INFO : For index 1820000, the actual number of lines written is: 2008\n"
     ]
    },
    {
     "name": "stdout",
     "output_type": "stream",
     "text": [
      "writing batch 1820000\n"
     ]
    },
    {
     "name": "stderr",
     "output_type": "stream",
     "text": [
      "2017-01-30 21:44:45,200 : INFO : Finished batch of 10000 in 16m 57s\n",
      "2017-01-30 21:44:45,203 : INFO : For index 1780000, the actual number of lines written is: 1936\n"
     ]
    },
    {
     "name": "stdout",
     "output_type": "stream",
     "text": [
      "writing batch 1780000\n"
     ]
    },
    {
     "name": "stderr",
     "output_type": "stream",
     "text": [
      "2017-01-30 21:44:50,640 : INFO : Finished batch of 10000 in 16m 44s\n",
      "2017-01-30 21:44:50,643 : INFO : For index 1860000, the actual number of lines written is: 2035\n"
     ]
    },
    {
     "name": "stdout",
     "output_type": "stream",
     "text": [
      "writing batch 1860000\n"
     ]
    },
    {
     "name": "stderr",
     "output_type": "stream",
     "text": [
      "2017-01-30 21:44:52,004 : INFO : Batch creation working on 1830000\n",
      "\n",
      "2017-01-30 21:44:52,011 : INFO : Batch creation working on 1750000\n",
      "\n",
      "2017-01-30 21:44:52,887 : INFO : Batch creation working on 1790000\n",
      "\n",
      "2017-01-30 21:44:58,399 : INFO : 2000\n",
      "2017-01-30 21:44:58,747 : INFO : Batch creation working on 1870000\n",
      "\n",
      "2017-01-30 21:45:16,134 : INFO : Finished batch of 10000 in 16m 52s\n",
      "2017-01-30 21:45:16,137 : INFO : For index 1900000, the actual number of lines written is: 2031\n"
     ]
    },
    {
     "name": "stdout",
     "output_type": "stream",
     "text": [
      "writing batch 1900000\n"
     ]
    },
    {
     "name": "stderr",
     "output_type": "stream",
     "text": [
      "2017-01-30 21:45:24,531 : INFO : Batch creation working on 1910000\n",
      "\n",
      "2017-01-30 21:47:01,262 : INFO : 1000\n",
      "2017-01-30 21:50:07,181 : INFO : 1000\n",
      "2017-01-30 21:52:16,027 : INFO : 1000\n",
      "2017-01-30 21:52:16,061 : INFO : 1000\n",
      "2017-01-30 21:52:35,144 : INFO : 1000\n",
      "2017-01-30 21:52:35,852 : INFO : 1000\n",
      "2017-01-30 21:52:38,312 : INFO : 1000\n",
      "2017-01-30 21:52:45,493 : INFO : 1000\n",
      "2017-01-30 21:52:52,993 : INFO : 1000\n",
      "2017-01-30 21:52:54,657 : INFO : 1000\n",
      "2017-01-30 21:52:57,532 : INFO : Finished batch of 10000 in 12m 9s\n",
      "2017-01-30 21:52:57,536 : INFO : For index 1970000, the actual number of lines written is: 1921\n"
     ]
    },
    {
     "name": "stdout",
     "output_type": "stream",
     "text": [
      "writing batch 1970000\n"
     ]
    },
    {
     "name": "stderr",
     "output_type": "stream",
     "text": [
      "2017-01-30 21:53:03,664 : INFO : Batch creation working on 1980000\n",
      "\n",
      "2017-01-30 21:53:43,151 : INFO : 1000\n",
      "2017-01-30 21:55:53,072 : INFO : 2000\n",
      "2017-01-30 21:55:54,233 : INFO : Finished batch of 10000 in 11m 21s\n",
      "2017-01-30 21:55:54,238 : INFO : For index 1940000, the actual number of lines written is: 2002\n"
     ]
    },
    {
     "name": "stdout",
     "output_type": "stream",
     "text": [
      "writing batch 1940000\n"
     ]
    },
    {
     "name": "stderr",
     "output_type": "stream",
     "text": [
      "2017-01-30 21:56:00,229 : INFO : Batch creation working on 1950000\n",
      "\n",
      "2017-01-30 21:59:16,176 : INFO : 1000\n",
      "2017-01-30 22:00:09,115 : INFO : Finished batch of 10000 in 16m 12s\n",
      "2017-01-30 22:00:09,118 : INFO : For index 1670000, the actual number of lines written is: 1879\n"
     ]
    },
    {
     "name": "stdout",
     "output_type": "stream",
     "text": [
      "writing batch 1670000\n"
     ]
    },
    {
     "name": "stderr",
     "output_type": "stream",
     "text": [
      "2017-01-30 22:00:16,184 : INFO : 2000\n",
      "2017-01-30 22:00:22,608 : INFO : 2000\n",
      "2017-01-30 22:00:32,337 : INFO : Finished batch of 10000 in 16m 22s\n",
      "2017-01-30 22:00:32,339 : INFO : For index 1590000, the actual number of lines written is: 2042\n"
     ]
    },
    {
     "name": "stdout",
     "output_type": "stream",
     "text": [
      "writing batch 1590000\n"
     ]
    },
    {
     "name": "stderr",
     "output_type": "stream",
     "text": [
      "2017-01-30 22:00:35,187 : INFO : 2000\n",
      "2017-01-30 22:00:35,367 : INFO : Finished batch of 10000 in 16m 19s\n",
      "2017-01-30 22:00:35,370 : INFO : For index 1630000, the actual number of lines written is: 2021\n"
     ]
    },
    {
     "name": "stdout",
     "output_type": "stream",
     "text": [
      "writing batch 1630000\n"
     ]
    },
    {
     "name": "stderr",
     "output_type": "stream",
     "text": [
      "2017-01-30 22:00:35,393 : INFO : 2000\n",
      "2017-01-30 22:00:36,691 : INFO : 2000\n",
      "2017-01-30 22:00:44,919 : INFO : Finished batch of 10000 in 16m 5s\n",
      "2017-01-30 22:00:44,922 : INFO : For index 1710000, the actual number of lines written is: 2018\n"
     ]
    },
    {
     "name": "stdout",
     "output_type": "stream",
     "text": [
      "writing batch 1710000\n"
     ]
    },
    {
     "name": "stderr",
     "output_type": "stream",
     "text": [
      "2017-01-30 22:00:45,975 : INFO : Finished batch of 10000 in 15m 54s\n",
      "2017-01-30 22:00:45,977 : INFO : For index 1830000, the actual number of lines written is: 2021\n"
     ]
    },
    {
     "name": "stdout",
     "output_type": "stream",
     "text": [
      "writing batch 1830000\n"
     ]
    },
    {
     "name": "stderr",
     "output_type": "stream",
     "text": [
      "2017-01-30 22:00:52,057 : INFO : Finished batch of 10000 in 15m 59s\n",
      "2017-01-30 22:00:52,059 : INFO : For index 1790000, the actual number of lines written is: 1987\n"
     ]
    },
    {
     "name": "stdout",
     "output_type": "stream",
     "text": [
      "writing batch 1790000\n"
     ]
    },
    {
     "name": "stderr",
     "output_type": "stream",
     "text": [
      "2017-01-30 22:00:57,822 : INFO : Finished batch of 10000 in 16m 6s\n",
      "2017-01-30 22:00:57,824 : INFO : For index 1750000, the actual number of lines written is: 1998\n"
     ]
    },
    {
     "name": "stdout",
     "output_type": "stream",
     "text": [
      "writing batch 1750000\n"
     ]
    },
    {
     "name": "stderr",
     "output_type": "stream",
     "text": [
      "2017-01-30 22:01:07,934 : INFO : Finished batch of 10000 in 16m 9s\n",
      "2017-01-30 22:01:07,936 : INFO : For index 1870000, the actual number of lines written is: 2093\n"
     ]
    },
    {
     "name": "stdout",
     "output_type": "stream",
     "text": [
      "writing batch 1870000\n"
     ]
    },
    {
     "name": "stderr",
     "output_type": "stream",
     "text": [
      "2017-01-30 22:01:13,617 : INFO : Finished batch of 10000 in 15m 49s\n",
      "2017-01-30 22:01:13,619 : INFO : For index 1910000, the actual number of lines written is: 1990\n"
     ]
    },
    {
     "name": "stdout",
     "output_type": "stream",
     "text": [
      "writing batch 1910000\n"
     ]
    },
    {
     "name": "stderr",
     "output_type": "stream",
     "text": [
      "2017-01-30 22:01:33,677 : INFO : 1000\n",
      "2017-01-30 22:05:01,098 : INFO : 2000\n",
      "2017-01-30 22:05:06,218 : INFO : Finished batch of 10000 in 12m 3s\n",
      "2017-01-30 22:05:06,220 : INFO : For index 1980000, the actual number of lines written is: 2015\n"
     ]
    },
    {
     "name": "stdout",
     "output_type": "stream",
     "text": [
      "writing batch 1980000\n"
     ]
    },
    {
     "name": "stderr",
     "output_type": "stream",
     "text": [
      "2017-01-30 22:05:12,400 : INFO : Batch creation working on 1990000\n",
      "\n",
      "2017-01-30 22:07:15,335 : INFO : 2000\n",
      "2017-01-30 22:07:35,957 : INFO : Finished batch of 10000 in 11m 36s\n",
      "2017-01-30 22:07:35,959 : INFO : For index 1950000, the actual number of lines written is: 2054\n"
     ]
    },
    {
     "name": "stdout",
     "output_type": "stream",
     "text": [
      "writing batch 1950000\n"
     ]
    },
    {
     "name": "stderr",
     "output_type": "stream",
     "text": [
      "2017-01-30 22:10:05,701 : INFO : 1000\n",
      "2017-01-30 22:15:04,340 : INFO : 2000\n",
      "2017-01-30 22:15:11,871 : INFO : Finished batch of 10000 in 9m 59s\n",
      "2017-01-30 22:15:11,872 : INFO : For index 1990000, the actual number of lines written is: 2022\n"
     ]
    },
    {
     "name": "stdout",
     "output_type": "stream",
     "text": [
      "writing batch 1990000\n"
     ]
    }
   ],
   "source": [
    "pool = ThreadPool(16)\n",
    "# +1 since range is end-exclusive\n",
    "batches = range(0, (divmod(len(line_positions), BATCH_SIZE)[0] + 1) * BATCH_SIZE, BATCH_SIZE )\n",
    "indices = pool.map(multithreaded_batch_creation, batches)"
   ]
  },
  {
   "cell_type": "code",
   "execution_count": 22,
   "metadata": {
    "collapsed": true
   },
   "outputs": [],
   "source": [
    "pool.close()\n",
    "pool.terminate()"
   ]
  },
  {
   "cell_type": "markdown",
   "metadata": {},
   "source": [
    "### Join up the files we wrote to form BATCH_SIZE block files"
   ]
  },
  {
   "cell_type": "code",
   "execution_count": null,
   "metadata": {
    "collapsed": false
   },
   "outputs": [
    {
     "name": "stderr",
     "output_type": "stream",
     "text": [
      "2017-01-30 22:28:10,633 : INFO : Reading new file for batch 10000\n",
      "2017-01-30 22:28:51,119 : INFO : Reading new file for batch 20000\n",
      "2017-01-30 22:28:59,217 : INFO : Reading new file for batch 30000\n",
      "2017-01-30 22:29:04,416 : INFO : Reading new file for batch 40000\n",
      "2017-01-30 22:29:07,508 : INFO : Writing to a new file for batch 10000\n",
      "2017-01-30 22:29:16,125 : INFO : Reading new file for batch 50000\n",
      "2017-01-30 22:29:18,380 : INFO : Reading new file for batch 60000\n",
      "2017-01-30 22:29:20,447 : INFO : Reading new file for batch 70000\n",
      "2017-01-30 22:29:22,347 : INFO : Reading new file for batch 80000\n",
      "2017-01-30 22:29:23,949 : INFO : Reading new file for batch 90000\n",
      "2017-01-30 22:29:25,618 : INFO : Writing to a new file for batch 20000\n"
     ]
    }
   ],
   "source": [
    "curr_index = 0\n",
    "curr_read_file_index = 0\n",
    "curr_write_file_index = 0\n",
    "\n",
    "read_file = None\n",
    "write_file = None\n",
    "\n",
    "def read_line():\n",
    "    global read_file, curr_read_file_index\n",
    "    while True:\n",
    "        if read_file is None:\n",
    "            if os.path.exists(TEST_PREPROCESSED_FILES_PREFIX + str(curr_read_file_index)):\n",
    "                read_file = open(TEST_PREPROCESSED_FILES_PREFIX + str(curr_read_file_index), \"r\")\n",
    "            else: \n",
    "                raise StopIteration()\n",
    "        for line in read_file:\n",
    "            yield line\n",
    "            \n",
    "        curr_read_file_index += BATCH_SIZE\n",
    "        info(\"Reading new file for batch {}\".format(curr_read_file_index))\n",
    "        read_file.close()\n",
    "        read_file = None\n",
    "\n",
    "def write_line(line):\n",
    "    global write_file, curr_write_file_index, curr_index\n",
    "    if write_file is None:\n",
    "        write_file = open(TEST_MERGED_PREPROCESSED_FILES_PREFIX + str(curr_write_file_index), \"w\")\n",
    "    write_file.write(line)\n",
    "    curr_index += 1\n",
    "    if curr_index % BATCH_SIZE == 0:\n",
    "        curr_write_file_index += BATCH_SIZE\n",
    "        info(\"Writing to a new file for batch {}\".format(curr_write_file_index))\n",
    "        write_file.close()\n",
    "        write_file = None\n",
    "    \n",
    "\n",
    "for line in read_line():\n",
    "    write_line(line)"
   ]
  },
  {
   "cell_type": "markdown",
   "metadata": {},
   "source": [
    "#### Rearranging the Docids"
   ]
  },
  {
   "cell_type": "code",
   "execution_count": 21,
   "metadata": {
    "collapsed": true
   },
   "outputs": [],
   "source": [
    "all_doc_ids = []\n",
    "\n",
    "for i in range(0, 100000000, BATCH_SIZE):\n",
    "    if os.path.exists(TEST_PREPROCESSED_DOCIDS_FILES_PREFIX + str(i)):\n",
    "        doc_ids = pickle.load(open(TEST_PREPROCESSED_DOCIDS_FILES_PREFIX + str(i)))\n",
    "        all_doc_ids.extend(doc_ids)\n",
    "    else:\n",
    "        break\n",
    "        \n",
    "\n",
    "for i in range(0, 100000000, BATCH_SIZE):\n",
    "    if i < len(all_doc_ids):\n",
    "        pickle.dump(all_doc_ids[i: i + BATCH_SIZE], open(TEST_MERGED_PREPROCESSED_DOCIDS_FILES_PREFIX + str(i), \"w\"))\n",
    "    else:\n",
    "        break"
   ]
  },
  {
   "cell_type": "markdown",
   "metadata": {},
   "source": [
    "## Concatenating 10,000 batch files to 100,000 batch files"
   ]
  },
  {
   "cell_type": "code",
   "execution_count": 70,
   "metadata": {
    "collapsed": false
   },
   "outputs": [
    {
     "name": "stdout",
     "output_type": "stream",
     "text": [
      "CPU times: user 0 ns, sys: 680 ms, total: 680 ms\n",
      "Wall time: 755 ms\n",
      "0\n",
      "CPU times: user 0 ns, sys: 724 ms, total: 724 ms\n",
      "Wall time: 918 ms\n",
      "10000\n",
      "CPU times: user 0 ns, sys: 328 ms, total: 328 ms\n",
      "Wall time: 593 ms\n",
      "20000\n",
      "CPU times: user 0 ns, sys: 480 ms, total: 480 ms\n",
      "Wall time: 968 ms\n",
      "30000\n",
      "CPU times: user 0 ns, sys: 968 ms, total: 968 ms\n",
      "Wall time: 58 s\n",
      "40000\n",
      "CPU times: user 0 ns, sys: 664 ms, total: 664 ms\n",
      "Wall time: 9.68 s\n",
      "50000\n",
      "CPU times: user 0 ns, sys: 736 ms, total: 736 ms\n",
      "Wall time: 23.1 s\n",
      "60000\n",
      "CPU times: user 0 ns, sys: 712 ms, total: 712 ms\n",
      "Wall time: 9.25 s\n",
      "70000\n",
      "CPU times: user 0 ns, sys: 612 ms, total: 612 ms\n",
      "Wall time: 8.45 s\n",
      "80000\n",
      "CPU times: user 0 ns, sys: 756 ms, total: 756 ms\n",
      "Wall time: 28.8 s\n",
      "90000\n",
      "CPU times: user 0 ns, sys: 12.2 s, total: 12.2 s\n",
      "Wall time: 2min 37s\n"
     ]
    }
   ],
   "source": [
    "%%time\n",
    "write_file = open(\"/big/s/shalaby/preprocessed_data/training_large_preprocessed-0\", \"w\")\n",
    "for i in range(0, 100000, BATCH_SIZE):\n",
    "    with open(TRAINING_MERGED_PREPROCESSED_FILES_PREFIX + str(i)) as read_file:\n",
    "        %time content = read_file.readlines()\n",
    "    write_file.writelines(content)\n",
    "    print i\n",
    "write_file.close()"
   ]
  },
  {
   "cell_type": "markdown",
   "metadata": {},
   "source": [
    "## Old Single Threaded Method"
   ]
  },
  {
   "cell_type": "code",
   "execution_count": null,
   "metadata": {
    "collapsed": false
   },
   "outputs": [],
   "source": [
    "%%time\n",
    "\n",
    "batch_index = 13\n",
    "file_prefix = TRAINING_PREPROCESSED_FILES_PREFIX\n",
    "doc_file_prefix = TRAINING_PREPROCESSED_DOCIDS_FILES_PREFIX\n",
    "with open(training_file) as file_obj:\n",
    "    token_lines, doc_ids = [], []\n",
    "    start_time = time.time()\n",
    "    for index,line in enumerate(file_obj):\n",
    "        if index < 130000: continue\n",
    "        (doc_id, text) = eval(line)\n",
    "        if doc_id in training_docs_list:\n",
    "            token_lines.append(stemtokenizer(text))\n",
    "            doc_ids.append(doc_id)\n",
    "            if len(token_lines) % 1000 == 0: info(len(token_lines))\n",
    "            if len(token_lines) % BATCH_SIZE == 0:\n",
    "                duration = time.time() - start_time\n",
    "                info(\"Finished batch of {:d} in {:.0f}m {:.0f}s\".format(BATCH_SIZE, *divmod(duration, 60)))\n",
    "                start_time = time.time()\n",
    "                write_batch(file_prefix, doc_file_prefix, token_lines, doc_ids, batch_index * BATCH_SIZE)\n",
    "                batch_index += 1\n",
    "                token_lines, doc_ids = [], []\n",
    "    duration = time.time() - start_time\n",
    "    info(\"Finished batch of {:d} in {:d}m {:.0f}s\".format(BATCH_SIZE, *divmod(duration, 60)))\n",
    "    write_batch(file_prefix, doc_file_prefix, token_lines, doc_ids, batch_index * BATCH_SIZE)"
   ]
  },
  {
   "cell_type": "markdown",
   "metadata": {},
   "source": [
    "Validation"
   ]
  },
  {
   "cell_type": "code",
   "execution_count": 8,
   "metadata": {
    "collapsed": false
   },
   "outputs": [
    {
     "name": "stdout",
     "output_type": "stream",
     "text": [
      "writing batch 0\n",
      "CPU times: user 42.5 s, sys: 832 ms, total: 43.4 s\n",
      "Wall time: 43.5 s\n"
     ]
    }
   ],
   "source": [
    "%%time\n",
    "\n",
    "batch_index = 0\n",
    "file_prefix = VALIDATION_PREPROCESSED_FILES_PREFIX\n",
    "doc_file_prefix = VALIDATION_PREPROCESSED_DOCIDS_FILES_PREFIX\n",
    "with open(training_file) as file_obj:\n",
    "    token_lines, doc_ids = [], []\n",
    "    for line in file_obj:\n",
    "        (doc_id, text) = eval(line)\n",
    "        if doc_id in validation_docs_list:\n",
    "            token_lines.append(stemtokenizer(text))\n",
    "            doc_ids.append(doc_id)\n",
    "            if len(token_lines) % BATCH_SIZE == 0:\n",
    "                %time write_batch(file_prefix, doc_file_prefix, token_lines, doc_ids, batch_index * BATCH_SIZE)\n",
    "                batch_index += 1\n",
    "                token_lines, doc_ids = [], []\n",
    "    write_batch(file_prefix, doc_file_prefix, token_lines, doc_ids, batch_index * BATCH_SIZE)"
   ]
  },
  {
   "cell_type": "code",
   "execution_count": 34,
   "metadata": {
    "collapsed": false
   },
   "outputs": [
    {
     "name": "stdout",
     "output_type": "stream",
     "text": [
      "CPU times: user 1.53 s, sys: 856 ms, total: 2.38 s\n",
      "Wall time: 2.39 s\n"
     ]
    }
   ],
   "source": [
    "%%time\n",
    "line_tokens = []\n",
    "with open(TRAINING_PREPROCESSED_FILES_PREFIX + str(0)) as preproc_file:\n",
    "    line_lengths = []\n",
    "    for line in preproc_file:\n",
    "        line_lengths.append(len(line))\n",
    "        line_tokens.append(line.split(\" \"))"
   ]
  },
  {
   "cell_type": "markdown",
   "metadata": {},
   "source": [
    "### Old Method"
   ]
  },
  {
   "cell_type": "markdown",
   "metadata": {},
   "source": [
    "we used to write the doc id and the tokens as tuples, then do an eval on them in reading time, but this turned out to be very slow"
   ]
  },
  {
   "cell_type": "markdown",
   "metadata": {},
   "source": [
    "Training"
   ]
  },
  {
   "cell_type": "code",
   "execution_count": null,
   "metadata": {
    "collapsed": false
   },
   "outputs": [],
   "source": [
    "%%time\n",
    "def write_batch(file_prefix, batch_lines, batch_start):\n",
    "    if len(batch_lines):\n",
    "        print \"writing batch %d\" % batch_start\n",
    "        %time pickle.dump(batch_lines, open(file_prefix + str(batch_start), 'w'))\n",
    "#         with open(file_prefix + str(batch_start), 'w') as batch_file:\n",
    "#             for line in batch_lines:\n",
    "#                 batch_file.write(str(line) + \"\\n\")\n",
    "\n",
    "batch_index = 0\n",
    "file_prefix = TRAINING_PREPROCESSED_FILES_PREFIX\n",
    "with open(training_file) as file_obj:\n",
    "    token_lines = []\n",
    "    for line in file_obj:\n",
    "        (doc_id, text) = eval(line)\n",
    "        if doc_id in training_docs_list:\n",
    "            token_lines.append((doc_id, stemtokenizer(text)))\n",
    "            if len(token_lines) % BATCH_SIZE == 0:\n",
    "                write_batch(file_prefix, token_lines, batch_index * BATCH_SIZE)\n",
    "                batch_index += 1\n",
    "                token_lines = []\n",
    "    write_batch(file_prefix, token_lines, batch_index * BATCH_SIZE)"
   ]
  },
  {
   "cell_type": "markdown",
   "metadata": {},
   "source": [
    "Validation"
   ]
  },
  {
   "cell_type": "code",
   "execution_count": 8,
   "metadata": {
    "collapsed": false
   },
   "outputs": [
    {
     "name": "stdout",
     "output_type": "stream",
     "text": [
      "writing batch 0\n",
      "writing batch 10000\n"
     ]
    }
   ],
   "source": [
    "batch_index = 0\n",
    "file_prefix = VALIDATION_PREPROCESSED_FILES_PREFIX\n",
    "with open(training_file) as file_obj:\n",
    "    token_lines = []\n",
    "    for line in file_obj:\n",
    "        (doc_id, text) = eval(line)\n",
    "        if doc_id in validation_docs_list:\n",
    "            token_lines.append((doc_id, stemtokenizer(text)))\n",
    "            if len(token_lines) % BATCH_SIZE == 0:\n",
    "                write_batch(file_prefix, token_lines, batch_index * BATCH_SIZE)\n",
    "                batch_index += 1\n",
    "                token_lines = []\n",
    "    write_batch(file_prefix, token_lines, batch_index * BATCH_SIZE)"
   ]
  },
  {
   "cell_type": "code",
   "execution_count": 22,
   "metadata": {
    "collapsed": false
   },
   "outputs": [
    {
     "name": "stdout",
     "output_type": "stream",
     "text": [
      "CPU times: user 5 s, sys: 1.2 s, total: 6.19 s\n",
      "Wall time: 6.18 s\n"
     ]
    }
   ],
   "source": [
    "%%time\n",
    "line_tokens = []\n",
    "with open(TRAINING_PREPROCESSED_FILES_PREFIX + str(0)) as preproc_file:\n",
    "    for line in preproc_file:\n",
    "        line_tokens.append(line.split(\" \"))"
   ]
  },
  {
   "cell_type": "code",
   "execution_count": 24,
   "metadata": {
    "collapsed": false
   },
   "outputs": [
    {
     "data": {
      "text/plain": [
       "['technical',\n",
       " 'field',\n",
       " 'the',\n",
       " 'present',\n",
       " 'invention',\n",
       " 'generally',\n",
       " 'relates',\n",
       " 'to',\n",
       " 'wireless',\n",
       " 'communications']"
      ]
     },
     "execution_count": 24,
     "metadata": {},
     "output_type": "execute_result"
    }
   ],
   "source": [
    "line_tokens[0][:10]"
   ]
  },
  {
   "cell_type": "code",
   "execution_count": null,
   "metadata": {
    "collapsed": true
   },
   "outputs": [],
   "source": []
  }
 ],
 "metadata": {
  "kernelspec": {
   "display_name": "Python 2",
   "language": "python",
   "name": "python2"
  },
  "language_info": {
   "codemirror_mode": {
    "name": "ipython",
    "version": 2
   },
   "file_extension": ".py",
   "mimetype": "text/x-python",
   "name": "python",
   "nbconvert_exporter": "python",
   "pygments_lexer": "ipython2",
   "version": "2.7.11+"
  }
 },
 "nbformat": 4,
 "nbformat_minor": 2
}
