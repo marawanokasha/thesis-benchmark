{
 "cells": [
  {
   "cell_type": "markdown",
   "metadata": {},
   "source": [
    "# Create Balanced Sample from the current training, validation and test list\n",
    "based on the number of documents in them"
   ]
  },
  {
   "cell_type": "code",
   "execution_count": 1,
   "metadata": {
    "collapsed": true
   },
   "outputs": [],
   "source": [
    "import json\n",
    "import math\n",
    "import os\n",
    "import time\n",
    "from collections import namedtuple\n",
    "import cPickle as pickle\n",
    "\n",
    "%matplotlib inline\n",
    "import matplotlib.pyplot as plt\n",
    "import numpy as np\n",
    "import random\n",
    "\n",
    "from multiprocessing.dummy import Pool as ThreadPool\n",
    "import itertools\n",
    "\n",
    "\n",
    "import logging\n",
    "from logging import info\n",
    "from functools import partial\n",
    "\n",
    "from thesis.utils.metrics import *"
   ]
  },
  {
   "cell_type": "code",
   "execution_count": 2,
   "metadata": {
    "collapsed": true
   },
   "outputs": [],
   "source": [
    "root = logging.getLogger()\n",
    "for handler in root.handlers[:]:\n",
    "    root.removeHandler(handler)\n",
    "logging.basicConfig(format='%(asctime)s : %(levelname)s : %(message)s', level=logging.INFO) # adds a default StreamHanlder\n",
    "#root.addHandler(logging.StreamHandler())"
   ]
  },
  {
   "cell_type": "code",
   "execution_count": 3,
   "metadata": {
    "collapsed": false
   },
   "outputs": [],
   "source": [
    "#training_file = \"/home/local/shalaby/docs_output_sample_100.json\"\n",
    "\n",
    "root_location = \"/big/s/shalaby/\"\n",
    "exports_location = root_location + \"exported_data/\"\n",
    "\n",
    "doc2vec_model_save_location = os.path.join(root_location, \"parameter_search_doc2vec_models_new\", \"full\")\n",
    "\n",
    "training_file = root_location + \"docs_output.json\"\n",
    "\n",
    "doc_classifications_map_file = exports_location + \"doc_classification_map.pkl\"\n",
    "classification_index_file = exports_location + \"classification_index.pkl\"\n",
    "sections_file = exports_location + \"sections.pkl\"\n",
    "classes_file = exports_location + \"classes.pkl\"\n",
    "subclasses_file = exports_location + \"subclasses.pkl\"\n",
    "valid_classes_file = exports_location + \"valid_classes.pkl\"\n",
    "valid_subclasses_file = exports_location + \"valid_subclasses.pkl\"\n",
    "classifications_output = exports_location + \"classifications.pkl\"\n",
    "training_docs_list_file = exports_location + \"training_docs_list.pkl\"\n",
    "validation_docs_list_file = exports_location + \"validation_docs_list.pkl\"\n",
    "test_docs_list_file = exports_location + \"test_docs_list.pkl\"\n",
    "\n",
    "preprocessed_location = root_location + \"preprocessed_data/\""
   ]
  },
  {
   "cell_type": "code",
   "execution_count": 4,
   "metadata": {
    "collapsed": true
   },
   "outputs": [],
   "source": [
    "class OneHotEncoder():\n",
    "    \n",
    "    def __init__(self, classifications):\n",
    "        self.classifications = classifications\n",
    "        self.one_hot_indices = {}\n",
    "\n",
    "        # convert character classifications to bit vectors\n",
    "        for i, clssf in enumerate(classifications):\n",
    "            bits = [0] * len(classifications)\n",
    "            bits[i] = 1\n",
    "            self.one_hot_indices[clssf] = i\n",
    "    \n",
    "    def get_label_vector(self, labels):\n",
    "        \"\"\"\n",
    "        classes: array of string with the classes assigned to the instance\n",
    "        \"\"\"\n",
    "        output_vector = [0] * len(self.classifications)\n",
    "        for label in labels:\n",
    "            index = self.one_hot_indices[label]\n",
    "            output_vector[index] = 1\n",
    "            \n",
    "        return output_vector\n",
    "\n",
    "def get_label_data(classifications, doc_ids, doc_classification_map):\n",
    "    one_hot_encoder = OneHotEncoder(classifications)\n",
    "    data_labels = []\n",
    "    for i, doc_id in enumerate(doc_ids):\n",
    "        eligible_classifications = [clssf for clssf in doc_classification_map[doc_id] if clssf in classifications]\n",
    "        data_labels.append(one_hot_encoder.get_label_vector(eligible_classifications))\n",
    "        #if i % 1000 == 0: info(i)\n",
    "    data_labels = np.array(data_labels)\n",
    "    return data_labels"
   ]
  },
  {
   "cell_type": "code",
   "execution_count": 5,
   "metadata": {
    "collapsed": false
   },
   "outputs": [
    {
     "name": "stdout",
     "output_type": "stream",
     "text": [
      "CPU times: user 44.5 s, sys: 3.75 s, total: 48.2 s\n",
      "Wall time: 48.9 s\n"
     ]
    }
   ],
   "source": [
    "%%time\n",
    "doc_classification_map = pickle.load(open(doc_classifications_map_file))\n",
    "sections = pickle.load(open(sections_file))\n",
    "classes = pickle.load(open(classes_file))\n",
    "subclasses = pickle.load(open(subclasses_file))\n",
    "valid_classes = pickle.load(open(valid_classes_file))\n",
    "valid_subclasses = pickle.load(open(valid_subclasses_file))\n",
    "training_docs_list = pickle.load(open(training_docs_list_file))\n",
    "validation_docs_list = pickle.load(open(validation_docs_list_file))\n",
    "test_docs_list = pickle.load(open(test_docs_list_file))\n",
    "classifications_index = pickle.load(open(classification_index_file))"
   ]
  },
  {
   "cell_type": "code",
   "execution_count": 6,
   "metadata": {
    "collapsed": true
   },
   "outputs": [],
   "source": [
    "training_docs_set = set(training_docs_list)\n",
    "validation_docs_set = set(validation_docs_list)\n",
    "test_docs_set = set(test_docs_list)"
   ]
  },
  {
   "cell_type": "code",
   "execution_count": 37,
   "metadata": {
    "collapsed": true
   },
   "outputs": [],
   "source": [
    "SAMPLE_RATIO = 0.155\n",
    "MIN_TRAINING_NUMBER_PER_SUBCLASS = 10\n",
    "MIN_VALIDATION_NUMBER_PER_SUBCLASS = 5\n",
    "MIN_TEST_NUMBER_PER_SUBCLASS = 5"
   ]
  },
  {
   "cell_type": "code",
   "execution_count": 38,
   "metadata": {
    "collapsed": true
   },
   "outputs": [],
   "source": [
    "SAMPLE_SEED = 1234"
   ]
  },
  {
   "cell_type": "code",
   "execution_count": 39,
   "metadata": {
    "collapsed": true
   },
   "outputs": [],
   "source": [
    "random.seed(SAMPLE_SEED)"
   ]
  },
  {
   "cell_type": "code",
   "execution_count": 40,
   "metadata": {
    "collapsed": false
   },
   "outputs": [],
   "source": [
    "# %%time\n",
    "\n",
    "sample_training_docs_set = set()\n",
    "sample_validation_docs_set = set()\n",
    "sample_test_docs_set = set()\n",
    "\n",
    "for subclass in subclasses:\n",
    "    subclass_docs = set(classifications_index[subclass])\n",
    "    training_subclass_docs = training_docs_set & subclass_docs\n",
    "    validation_subclass_docs = validation_docs_set & subclass_docs\n",
    "    test_subclass_docs = test_docs_set & subclass_docs\n",
    "    \n",
    "    # info(\"{} => Training: {}, Validation: {}\".format(subclass, len(training_subclass_docs), len(validation_subclass_docs)))\n",
    "    if len(training_subclass_docs) > MIN_TRAINING_NUMBER_PER_SUBCLASS:\n",
    "        num_of_samples = max(MIN_TRAINING_NUMBER_PER_SUBCLASS, int(len(training_subclass_docs) * SAMPLE_RATIO))\n",
    "        train_subclass_sample = random.sample(training_subclass_docs, num_of_samples)\n",
    "        sample_training_docs_set.update(train_subclass_sample)\n",
    "    else:\n",
    "        sample_training_docs_set.update(training_subclass_docs)\n",
    "    \n",
    "    if len(validation_subclass_docs) > MIN_VALIDATION_NUMBER_PER_SUBCLASS:\n",
    "        num_of_samples = max(MIN_VALIDATION_NUMBER_PER_SUBCLASS, int(len(validation_subclass_docs) * SAMPLE_RATIO))\n",
    "        val_subclass_sample = random.sample(validation_docs_set, num_of_samples)\n",
    "        sample_validation_docs_set.update(val_subclass_sample)\n",
    "    else:\n",
    "        sample_validation_docs_set.update(validation_subclass_docs)\n",
    "    \n",
    "    if len(test_subclass_docs) > MIN_VALIDATION_NUMBER_PER_SUBCLASS:\n",
    "        num_of_samples = max(MIN_TEST_NUMBER_PER_SUBCLASS, int(len(test_subclass_docs) * SAMPLE_RATIO))\n",
    "        test_subclass_sample = random.sample(test_subclass_docs, num_of_samples)\n",
    "        sample_test_docs_set.update(test_subclass_sample)\n",
    "    else:\n",
    "        sample_test_docs_set.update(test_subclass_docs)"
   ]
  },
  {
   "cell_type": "code",
   "execution_count": 41,
   "metadata": {
    "collapsed": false
   },
   "outputs": [
    {
     "data": {
      "text/plain": [
       "254767"
      ]
     },
     "execution_count": 41,
     "metadata": {},
     "output_type": "execute_result"
    }
   ],
   "source": [
    "len(sample_training_docs_set)"
   ]
  },
  {
   "cell_type": "code",
   "execution_count": 42,
   "metadata": {
    "collapsed": false
   },
   "outputs": [
    {
     "data": {
      "text/plain": [
       "60957"
      ]
     },
     "execution_count": 42,
     "metadata": {},
     "output_type": "execute_result"
    }
   ],
   "source": [
    "len(sample_validation_docs_set)"
   ]
  },
  {
   "cell_type": "code",
   "execution_count": 43,
   "metadata": {
    "collapsed": false
   },
   "outputs": [
    {
     "data": {
      "text/plain": [
       "79785"
      ]
     },
     "execution_count": 43,
     "metadata": {},
     "output_type": "execute_result"
    }
   ],
   "source": [
    "len(sample_test_docs_set)"
   ]
  },
  {
   "cell_type": "code",
   "execution_count": 44,
   "metadata": {
    "collapsed": true
   },
   "outputs": [],
   "source": [
    "sample_training_docs_list = sorted(sample_training_docs_set)\n",
    "sample_validation_docs_list = sorted(sample_validation_docs_set)\n",
    "sample_test_docs_list = sorted(sample_test_docs_set)"
   ]
  },
  {
   "cell_type": "code",
   "execution_count": 45,
   "metadata": {
    "collapsed": false
   },
   "outputs": [
    {
     "data": {
      "text/plain": [
       "[u'06981294',\n",
       " u'06981298',\n",
       " u'06981301',\n",
       " u'06981303',\n",
       " u'06981307',\n",
       " u'06981309',\n",
       " u'06981312',\n",
       " u'06981314',\n",
       " u'06981317',\n",
       " u'06981321']"
      ]
     },
     "execution_count": 45,
     "metadata": {},
     "output_type": "execute_result"
    }
   ],
   "source": [
    "sample_training_docs_list[:10]"
   ]
  },
  {
   "cell_type": "code",
   "execution_count": 47,
   "metadata": {
    "collapsed": false
   },
   "outputs": [],
   "source": [
    "pickle.dump(sample_training_docs_list, open(exports_location + \"extended_pv_training_docs_list_0.15.pkl\", \"w\"))\n",
    "pickle.dump(sample_validation_docs_list, open(exports_location + \"extended_pv_validation_docs_list_0.15.pkl\", \"w\"))\n",
    "pickle.dump(sample_test_docs_list, open(exports_location + \"extended_pv_test_docs_list_0.15.pkl\", \"w\"))"
   ]
  },
  {
   "cell_type": "markdown",
   "metadata": {
    "collapsed": true
   },
   "source": [
    "## Make sure that the valid classes and subclasses are the same"
   ]
  },
  {
   "cell_type": "code",
   "execution_count": 18,
   "metadata": {
    "collapsed": true
   },
   "outputs": [],
   "source": [
    "all_sample_docs_set = sample_training_docs_set | sample_validation_docs_set | sample_test_docs_set"
   ]
  },
  {
   "cell_type": "code",
   "execution_count": 19,
   "metadata": {
    "collapsed": true
   },
   "outputs": [],
   "source": [
    "INVALID_CLASSIFICATION_LIMIT = 3\n",
    "invalid_classes = set()\n",
    "invalid_subclasses = set()\n",
    "for clsf in classifications_index.keys():\n",
    "    clsf_docs = set(classifications_index[clsf]) & all_sample_docs_set\n",
    "    if len(clsf_docs) < INVALID_CLASSIFICATION_LIMIT:\n",
    "        if clsf in classes:\n",
    "            invalid_classes.add(clsf)\n",
    "        if clsf in subclasses:\n",
    "            invalid_subclasses.add(clsf)\n",
    "valid_classes = sorted(list(set(classes) - invalid_classes))\n",
    "valid_subclasses = sorted(list(set(subclasses) - invalid_subclasses))"
   ]
  },
  {
   "cell_type": "code",
   "execution_count": 20,
   "metadata": {
    "collapsed": false
   },
   "outputs": [
    {
     "data": {
      "text/plain": [
       "244"
      ]
     },
     "execution_count": 20,
     "metadata": {},
     "output_type": "execute_result"
    }
   ],
   "source": [
    "len(valid_classes)"
   ]
  },
  {
   "cell_type": "code",
   "execution_count": 22,
   "metadata": {
    "collapsed": false
   },
   "outputs": [
    {
     "data": {
      "text/plain": [
       "940"
      ]
     },
     "execution_count": 22,
     "metadata": {},
     "output_type": "execute_result"
    }
   ],
   "source": [
    "len(valid_subclasses)"
   ]
  }
 ],
 "metadata": {
  "kernelspec": {
   "display_name": "Python 2",
   "language": "python",
   "name": "python2"
  },
  "language_info": {
   "codemirror_mode": {
    "name": "ipython",
    "version": 2
   },
   "file_extension": ".py",
   "mimetype": "text/x-python",
   "name": "python",
   "nbconvert_exporter": "python",
   "pygments_lexer": "ipython2",
   "version": "2.7.11+"
  }
 },
 "nbformat": 4,
 "nbformat_minor": 0
}
