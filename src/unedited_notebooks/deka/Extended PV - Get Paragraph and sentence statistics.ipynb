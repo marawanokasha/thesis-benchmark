{
 "cells": [
  {
   "cell_type": "code",
   "execution_count": 1,
   "metadata": {
    "collapsed": true
   },
   "outputs": [],
   "source": [
    "from nltk.tokenize import RegexpTokenizer\n",
    "import cPickle as pickle\n",
    "import string\n",
    "\n",
    "%matplotlib inline\n",
    "import numpy as np\n",
    "import random\n",
    "import time\n",
    "\n",
    "import logging\n",
    "from logging import info\n",
    "\n",
    "import nltk\n",
    "from nltk.tokenize import sent_tokenize\n",
    "\n",
    "from thesis.utils.text import get_sentences"
   ]
  },
  {
   "cell_type": "code",
   "execution_count": 2,
   "metadata": {
    "collapsed": true
   },
   "outputs": [],
   "source": [
    "root = logging.getLogger()\n",
    "for handler in root.handlers[:]:\n",
    "    root.removeHandler(handler)\n",
    "logging.basicConfig(format='%(asctime)s : %(levelname)s : %(message)s', level=logging.INFO) # adds a default StreamHanlder\n",
    "#root.addHandler(logging.StreamHandler())"
   ]
  },
  {
   "cell_type": "code",
   "execution_count": 3,
   "metadata": {
    "collapsed": true
   },
   "outputs": [],
   "source": [
    "SAMPLE_RATIO = 0.01"
   ]
  },
  {
   "cell_type": "code",
   "execution_count": 4,
   "metadata": {
    "collapsed": true
   },
   "outputs": [],
   "source": [
    "NUMBER_INDICATOR = \"num_indic\"\n",
    "CURRENCY_INDICATOR = \"curr_indic\"\n",
    "CHEMICAL_INDICATOR = \"chem_indic\"\n",
    "MIN_WORD_COUNT = 100 # Suggested by Levy and goldberg\n",
    "MIN_SIZE = 0\n",
    "NUM_CORES = 16"
   ]
  },
  {
   "cell_type": "code",
   "execution_count": 5,
   "metadata": {
    "collapsed": false
   },
   "outputs": [],
   "source": [
    "root_location = \"/big/s/shalaby/\"\n",
    "exports_location = root_location + \"exported_data/\"\n",
    "\n",
    "training_file = root_location + 'docs_output_training_validation_documents_' + str(SAMPLE_RATIO)\n",
    "training_file = root_location + 'docs_output.json'\n",
    "\n",
    "doc_classifications_map_file = exports_location + \"doc_classification_map.pkl\"\n",
    "sections_file = exports_location + \"sections.pkl\"\n",
    "classes_file = exports_location + \"classes.pkl\"\n",
    "subclasses_file = exports_location + \"subclasses.pkl\"\n",
    "classifications_output = exports_location + \"classifications.pkl\"\n",
    "# training_docs_list_file = exports_location + \"training_documents_\" + str(SAMPLE_RATIO) + \"_sample.pkl\"\n",
    "# validation_docs_list_file = exports_location + \"validation_documents_\" + str(SAMPLE_RATIO) + \"_sample.pkl\"\n",
    "training_docs_list_file = exports_location + \"extended_pv_training_docs_list.pkl\"\n",
    "validation_docs_list_file = exports_location + \"extended_pv_validation_docs_list.pkl\""
   ]
  },
  {
   "cell_type": "code",
   "execution_count": 6,
   "metadata": {
    "collapsed": false
   },
   "outputs": [
    {
     "name": "stdout",
     "output_type": "stream",
     "text": [
      "CPU times: user 29.6 s, sys: 4.68 s, total: 34.3 s\n",
      "Wall time: 34.4 s\n"
     ]
    }
   ],
   "source": [
    "%%time\n",
    "doc_classification_map = pickle.load(open(doc_classifications_map_file))\n",
    "sections = pickle.load(open(sections_file))\n",
    "classes = pickle.load(open(classes_file))\n",
    "subclasses = pickle.load(open(subclasses_file))\n",
    "training_docs_list = pickle.load(open(training_docs_list_file))\n",
    "validation_docs_list = pickle.load(open(validation_docs_list_file))"
   ]
  },
  {
   "cell_type": "code",
   "execution_count": 7,
   "metadata": {
    "collapsed": false
   },
   "outputs": [
    {
     "data": {
      "text/plain": [
       "120156"
      ]
     },
     "execution_count": 7,
     "metadata": {},
     "output_type": "execute_result"
    }
   ],
   "source": [
    "len(training_docs_list)"
   ]
  },
  {
   "cell_type": "code",
   "execution_count": 8,
   "metadata": {
    "collapsed": false
   },
   "outputs": [
    {
     "data": {
      "text/plain": [
       "29675"
      ]
     },
     "execution_count": 8,
     "metadata": {},
     "output_type": "execute_result"
    }
   ],
   "source": [
    "len(validation_docs_list)"
   ]
  },
  {
   "cell_type": "markdown",
   "metadata": {},
   "source": [
    "### Get Line Positions"
   ]
  },
  {
   "cell_type": "code",
   "execution_count": 9,
   "metadata": {
    "collapsed": true
   },
   "outputs": [],
   "source": [
    "line_positions = pickle.load(open(\"/big/s/shalaby/exported_data/line_positions.pkl\", \"r\"))"
   ]
  },
  {
   "cell_type": "markdown",
   "metadata": {},
   "source": [
    "### Get Doc Line Positions"
   ]
  },
  {
   "cell_type": "code",
   "execution_count": 10,
   "metadata": {
    "collapsed": true
   },
   "outputs": [],
   "source": [
    "doc_line_positions = pickle.load(open(exports_location + \"doc_line_positions.pkl\", \"r\"))"
   ]
  },
  {
   "cell_type": "markdown",
   "metadata": {},
   "source": [
    "## Single-Threaded Statistics"
   ]
  },
  {
   "cell_type": "code",
   "execution_count": null,
   "metadata": {
    "collapsed": false
   },
   "outputs": [],
   "source": [
    "sentence_stats = {}\n",
    "with open(training_file) as file_obj:\n",
    "    token_lines, doc_ids = [], []\n",
    "    start_time = time.time()\n",
    "    for i, line in enumerate(file_obj):\n",
    "        (doc_id, text) = eval(line)\n",
    "        sentences = sentence_tokenizer.tokenize(text)\n",
    "        #sentences = stemtokenizer(text)\n",
    "        sentence_stats[doc_id] = len(sentences)\n",
    "        if i % 1000 == 0:\n",
    "            info('Finished: {}'.format(i))\n",
    "#         print len(sentences)\n",
    "#         for sent in sentences:\n",
    "#             print sent\n",
    "#             print ''\n",
    "# #         print text.find(\"\\n\")\n",
    "# #         print text[:10000]\n",
    "#         break"
   ]
  },
  {
   "cell_type": "markdown",
   "metadata": {},
   "source": [
    "## Multi-threaded Statistics"
   ]
  },
  {
   "cell_type": "code",
   "execution_count": 11,
   "metadata": {
    "collapsed": true
   },
   "outputs": [],
   "source": [
    "from multiprocessing import Pool as ThreadPool"
   ]
  },
  {
   "cell_type": "code",
   "execution_count": 12,
   "metadata": {
    "collapsed": true
   },
   "outputs": [],
   "source": [
    "BATCH_SIZE = 10000"
   ]
  },
  {
   "cell_type": "code",
   "execution_count": 13,
   "metadata": {
    "collapsed": true
   },
   "outputs": [],
   "source": [
    "def multithreaded_stats(start_index):\n",
    "\n",
    "    # local variables, since multi-processing threads cant share state variables as they are replicated instead\n",
    "    doc_sentences_lengths = {}\n",
    "    doc_sentences_length_per_sent = {}\n",
    "    \n",
    "    info(\"Batch stats working on {}\\n\".format(start_index))\n",
    "    with open(training_file) as file_obj:\n",
    "        file_obj.seek(line_positions[start_index])\n",
    "        start_time = time.time()\n",
    "        for i, line in enumerate(file_obj):\n",
    "            (doc_id, text) = eval(line)\n",
    "            sentences = get_sentences(text)\n",
    "            doc_sentences_lengths[doc_id] = len(sentences)\n",
    "            doc_sentences_length_per_sent[doc_id] = [len(sent) for sent in sentences]\n",
    "            del sentences\n",
    "            if i >= BATCH_SIZE -1:\n",
    "                break\n",
    "    duration = time.time() - start_time\n",
    "    info(\"Finished batch of {:d} in {:.0f}m {:.0f}s\".format(BATCH_SIZE, *divmod(duration, 60)))\n",
    "    return doc_sentences_lengths, doc_sentences_length_per_sent"
   ]
  },
  {
   "cell_type": "code",
   "execution_count": 14,
   "metadata": {
    "collapsed": false,
    "scrolled": true
   },
   "outputs": [
    {
     "name": "stderr",
     "output_type": "stream",
     "text": [
      "2017-03-05 02:51:23,675 : INFO : Batch stats working on 10000\n",
      "\n",
      "2017-03-05 02:51:23,675 : INFO : Batch stats working on 0\n",
      "\n",
      "2017-03-05 02:51:23,675 : INFO : Batch stats working on 30000\n",
      "\n",
      "2017-03-05 02:51:23,678 : INFO : Batch stats working on 80000\n",
      "\n",
      "2017-03-05 02:51:23,679 : INFO : Batch stats working on 90000\n",
      "\n",
      "2017-03-05 02:51:23,680 : INFO : Batch stats working on 60000\n",
      "\n",
      "2017-03-05 02:51:23,678 : INFO : Batch stats working on 40000\n",
      "\n",
      "2017-03-05 02:51:23,680 : INFO : Batch stats working on 70000\n",
      "\n",
      "2017-03-05 02:51:23,678 : INFO : Batch stats working on 50000\n",
      "\n",
      "2017-03-05 02:51:23,676 : INFO : Batch stats working on 20000\n",
      "\n",
      "2017-03-05 02:51:23,679 : INFO : Batch stats working on 100000\n",
      "\n",
      "2017-03-05 02:59:15,905 : INFO : Finished batch of 10000 in 7m 52s\n",
      "2017-03-05 02:59:40,521 : INFO : Finished batch of 10000 in 8m 17s\n",
      "2017-03-05 02:59:44,412 : INFO : Finished batch of 10000 in 8m 21s\n",
      "2017-03-05 02:59:45,540 : INFO : Finished batch of 10000 in 8m 22s\n",
      "2017-03-05 02:59:48,764 : INFO : Finished batch of 10000 in 8m 25s\n",
      "2017-03-05 02:59:49,371 : INFO : Finished batch of 10000 in 8m 26s\n",
      "2017-03-05 02:59:53,427 : INFO : Finished batch of 10000 in 8m 30s\n",
      "2017-03-05 02:59:57,286 : INFO : Finished batch of 10000 in 8m 34s\n",
      "2017-03-05 02:59:57,342 : INFO : Finished batch of 10000 in 8m 34s\n",
      "2017-03-05 03:00:03,644 : INFO : Finished batch of 10000 in 8m 40s\n",
      "2017-03-05 03:00:17,001 : INFO : Finished batch of 10000 in 8m 53s\n"
     ]
    },
    {
     "name": "stdout",
     "output_type": "stream",
     "text": [
      "CPU times: user 3.13 s, sys: 1.69 s, total: 4.82 s\n",
      "Wall time: 8min 55s\n"
     ]
    }
   ],
   "source": [
    "%%time\n",
    "#batch_max = len(line_positions)\n",
    "batch_max = 100000\n",
    "try:\n",
    "    pool = ThreadPool(16)\n",
    "    # +1 since range is end-exclusive\n",
    "    batches = range(0, (divmod(batch_max, BATCH_SIZE)[0] + 1) * BATCH_SIZE, BATCH_SIZE )\n",
    "#     batches = range(0, BATCH_SIZE*2, BATCH_SIZE)\n",
    "    all_results = pool.map(multithreaded_stats, batches)\n",
    "    pool.close()\n",
    "    pool.terminate()\n",
    "finally:\n",
    "    pool.close()\n",
    "    pool.terminate()\n",
    "    "
   ]
  },
  {
   "cell_type": "code",
   "execution_count": 15,
   "metadata": {
    "collapsed": false
   },
   "outputs": [
    {
     "data": {
      "text/plain": [
       "11"
      ]
     },
     "execution_count": 15,
     "metadata": {},
     "output_type": "execute_result"
    }
   ],
   "source": [
    "len(all_results)"
   ]
  },
  {
   "cell_type": "code",
   "execution_count": 16,
   "metadata": {
    "collapsed": true
   },
   "outputs": [],
   "source": [
    "doc_sentences_lengths = {} \n",
    "doc_sentences_length_per_sent = {} \n",
    "for doc_sent_length, doc_sent_length_per_sent in all_results:\n",
    "    doc_sentences_lengths.update(doc_sent_length)\n",
    "    doc_sentences_length_per_sent.update(doc_sent_length_per_sent)"
   ]
  },
  {
   "cell_type": "code",
   "execution_count": 17,
   "metadata": {
    "collapsed": false
   },
   "outputs": [
    {
     "data": {
      "text/plain": [
       "110000"
      ]
     },
     "execution_count": 17,
     "metadata": {},
     "output_type": "execute_result"
    }
   ],
   "source": [
    "len(doc_sentences_length_per_sent)"
   ]
  },
  {
   "cell_type": "code",
   "execution_count": 18,
   "metadata": {
    "collapsed": false
   },
   "outputs": [
    {
     "data": {
      "text/plain": [
       "[(u'08207086', 5),\n",
       " (u'07741486', 8),\n",
       " (u'07159857', 8),\n",
       " (u'08198484', 9),\n",
       " (u'08334404', 9),\n",
       " (u'07287875', 10),\n",
       " (u'08075354', 10),\n",
       " (u'07767320', 11),\n",
       " (u'08089047', 11),\n",
       " (u'08754002', 11),\n",
       " (u'08920761', 11),\n",
       " (u'07235225', 11),\n",
       " (u'08043584', 12),\n",
       " (u'07114227', 13),\n",
       " (u'07237543', 13),\n",
       " (u'07296968', 13),\n",
       " (u'08402679', 13),\n",
       " (u'07662356', 13),\n",
       " (u'08147794', 14),\n",
       " (u'08387367', 14)]"
      ]
     },
     "execution_count": 18,
     "metadata": {},
     "output_type": "execute_result"
    }
   ],
   "source": [
    "sorted(doc_sentences_lengths.items(), key=lambda x: x[1])[:20]"
   ]
  },
  {
   "cell_type": "code",
   "execution_count": 27,
   "metadata": {
    "collapsed": true
   },
   "outputs": [],
   "source": [
    "low_lengths = {}\n",
    "for doc_id in doc_sentences_length_per_sent:\n",
    "    low_length = len([dd for dd in doc_sentences_length_per_sent[doc_id] if dd < 5])\n",
    "    if low_length > 0:\n",
    "        low_lengths[doc_id] = low_length"
   ]
  },
  {
   "cell_type": "code",
   "execution_count": 28,
   "metadata": {
    "collapsed": false
   },
   "outputs": [
    {
     "data": {
      "text/plain": [
       "0"
      ]
     },
     "execution_count": 28,
     "metadata": {},
     "output_type": "execute_result"
    }
   ],
   "source": [
    "len(low_lengths)"
   ]
  },
  {
   "cell_type": "code",
   "execution_count": 26,
   "metadata": {
    "collapsed": false
   },
   "outputs": [
    {
     "data": {
      "text/plain": [
       "54"
      ]
     },
     "execution_count": 26,
     "metadata": {},
     "output_type": "execute_result"
    }
   ],
   "source": [
    "min(doc_sentences_length_per_sent['07675909'])"
   ]
  },
  {
   "cell_type": "code",
   "execution_count": 22,
   "metadata": {
    "collapsed": false,
    "scrolled": true
   },
   "outputs": [
    {
     "data": {
      "text/plain": [
       "[(u'07675909', 0),\n",
       " (u'08521005', 0),\n",
       " (u'07054806', 0),\n",
       " (u'08369254', 0),\n",
       " (u'08521008', 0),\n",
       " (u'08362028', 0),\n",
       " (u'07195207', 0),\n",
       " (u'07075484', 0),\n",
       " (u'07349831', 0),\n",
       " (u'07638694', 0),\n",
       " (u'07349834', 0),\n",
       " (u'08489837', 0),\n",
       " (u'08489834', 0),\n",
       " (u'07638690', 0),\n",
       " (u'07378214', 0),\n",
       " (u'07129906', 0),\n",
       " (u'07021623', 0),\n",
       " (u'08185110', 0),\n",
       " (u'08974581', 0),\n",
       " (u'08232723', 0),\n",
       " (u'08232720', 0),\n",
       " (u'08232721', 0),\n",
       " (u'07628309', 0),\n",
       " (u'08896306', 0),\n",
       " (u'08782130', 0),\n",
       " (u'08678537', 0),\n",
       " (u'08369255', 0),\n",
       " (u'08161254', 0),\n",
       " (u'08196871', 0),\n",
       " (u'08017413', 0),\n",
       " (u'08563535', 0),\n",
       " (u'07029459', 0),\n",
       " (u'07807757', 0),\n",
       " (u'07807754', 0),\n",
       " (u'07804223', 0),\n",
       " (u'08507447', 0),\n",
       " (u'07427433', 0),\n",
       " (u'08164594', 0),\n",
       " (u'07118721', 0),\n",
       " (u'08015990', 0),\n",
       " (u'07431809', 0),\n",
       " (u'08815345', 0),\n",
       " (u'08815346', 0),\n",
       " (u'08388401', 0),\n",
       " (u'07943317', 0),\n",
       " (u'08534161', 0),\n",
       " (u'07431804', 0),\n",
       " (u'08287124', 0),\n",
       " (u'08287125', 0),\n",
       " (u'08174755', 0)]"
      ]
     },
     "execution_count": 22,
     "metadata": {},
     "output_type": "execute_result"
    }
   ],
   "source": [
    "sorted(low_lengths.items(), key=lambda x: x[1], reverse=True)[:50]"
   ]
  },
  {
   "cell_type": "code",
   "execution_count": 91,
   "metadata": {
    "collapsed": true
   },
   "outputs": [],
   "source": [
    "pickle.dump(doc_sentences_lengths, open(exports_location + 'doc_sentences_lengths_map.pkl', 'w'))"
   ]
  },
  {
   "cell_type": "code",
   "execution_count": 63,
   "metadata": {
    "collapsed": true
   },
   "outputs": [],
   "source": [
    "from thesis.utils.text import sentence_tokenizer"
   ]
  },
  {
   "cell_type": "code",
   "execution_count": 84,
   "metadata": {
    "collapsed": false
   },
   "outputs": [],
   "source": [
    "sentences = get_sentences(\" 1. CLAIM OF PRIORITY This patent application claims priority to European Patent  \")"
   ]
  },
  {
   "cell_type": "code",
   "execution_count": 85,
   "metadata": {
    "collapsed": false
   },
   "outputs": [
    {
     "data": {
      "text/plain": [
       "['  1. CLAIM OF PRIORITY This patent application claims priority to European Patent  ']"
      ]
     },
     "execution_count": 85,
     "metadata": {},
     "output_type": "execute_result"
    }
   ],
   "source": [
    "sentences"
   ]
  },
  {
   "cell_type": "code",
   "execution_count": 73,
   "metadata": {
    "collapsed": false
   },
   "outputs": [
    {
     "data": {
      "text/plain": [
       "['  1. CLAIM OF PRIORITY This patent application claims priority to European Patent    1.  1.',\n",
       " 'CLAIM OF PRIORITY This patent application claims priority to European Patent  ']"
      ]
     },
     "execution_count": 73,
     "metadata": {},
     "output_type": "execute_result"
    }
   ],
   "source": [
    "new_sentences"
   ]
  },
  {
   "cell_type": "code",
   "execution_count": 83,
   "metadata": {
    "collapsed": false
   },
   "outputs": [
    {
     "data": {
      "text/plain": [
       "['  1. CLAIM OF PRIORITY This patent application claims priority to European Patent  ']"
      ]
     },
     "execution_count": 83,
     "metadata": {},
     "output_type": "execute_result"
    }
   ],
   "source": [
    "get_sentences(\" 1. CLAIM OF PRIORITY This patent application claims priority to European Patent  \")"
   ]
  },
  {
   "cell_type": "code",
   "execution_count": 30,
   "metadata": {
    "collapsed": false,
    "scrolled": true
   },
   "outputs": [
    {
     "name": "stdout",
     "output_type": "stream",
     "text": [
      "5\n",
      "FIELD OF THE INVENTION The present invention relates to systems and methods for allocating bus addresses to slaves in a computer, and more particularly to a system and method for dynamically allocating inter integrated circuits (I 2 2 DESCRIPTION OF RELATED ART In modern electronic systems there are a number of inter integrated circuits (I 2 2 2 2 2 Each device connected to the I 2 2 Devices connected to the I 2 2 2 2 Therefore, each slave coupled to a system management bus based on the I 2 2 What is needed, therefore, is a system for dynamically allocating I 2 2 Similarly, what is also needed is a method for dynamically allocating I 2 2 SUMMARY OF INVENTION A system for dynamically allocating inter integrated circuits (I 2 2 2 2 2 2 2 2 2 2 2 2 2 2 Another preferred embodiment provides a method for dynamically allocating I 2 2 2 2 2 2 2 2 2 2 In summary, the system and method can dynamically allocate a unique I 2 2 Other advantages and novel features of the embodiments will be drawn from the following detailed description with reference to the attached drawings, in which: BRIEF DESCRIPTION OF DRAWINGS FIG. 1 is a schematic diagram of hardware infrastructure of a system for dynamically allocating I 2 FIG. 2 illustrates main signal interchanges between a computer and multiple slaves of the preferred system; FIG. 3 is a diagram showing function modules of the slave of FIG. 1; and FIG. 4 is a flowchart of a preferred method for dynamically allocating I 2 DETAILED DESCRIPTION FIG. 1 is a schematic diagram of hardware infrastructure of a system for dynamically allocating inter integrated circuits (I 2 2 2 2 2 2 2 2 2 2 2 In the preferred embodiment of the present invention, for simplification, only two slaves 2 (in fact, tow or more slaves) are attached to the host 1.\n",
      "\n",
      "Referring to FIG. 1, the pin P1 connects to a voltage controlled circuit (VCC) through a resistor R1, and the pin P7 connects to the pin P1 of the processor 20 of the next slave 2.\n",
      "\n",
      "The resistor R1 is used for providing a high voltage to the pin P1 when it has not received an I 2 2 2 2 2 FIG. 2 illustrates main signal interchanges between a host 1 and multiple slaves 2 of the preferred system.\n",
      "\n",
      "Firstly, the host 1 sends the I 2 2 2 2 2 2 2 2 2 FIG. 3 is a diagram showing function modules of each slave 2. Each processor 20 of slave 2 respectively loads an I 2 2 2 2 2 2 2 2 2 2 2 2 FIG. 4 is a flowchart of a preferred method for dynamically allocating I 2 2 2 2 2 2 2 2 2 2 The following describes an example of implementing the system and method for dynamically allocating the I 2 2 2 2 2 2 2 2 2 Although the present invention has been specifically described on the basis of a preferred embodiment and preferred method, the invention is not to be construed as being limited thereto.\n",
      "\n",
      "Various changes or modifications may be made to the embodiment and method without departing from the scope and spirit of the invention.\n",
      "\n"
     ]
    }
   ],
   "source": [
    "with open(training_file) as file_obj:\n",
    "    file_obj.seek(doc_line_positions['07249209'])\n",
    "    line = file_obj.readline()\n",
    "    doc_id, text = eval(line)\n",
    "    sents = get_sentences(text)\n",
    "    print len(sents)\n",
    "    #print line[:300]\n",
    "    for sent in sents:\n",
    "        print sent\n",
    "        if len(sent) < 5: print '====================='\n",
    "        print "
   ]
  },
  {
   "cell_type": "code",
   "execution_count": 33,
   "metadata": {
    "collapsed": false
   },
   "outputs": [
    {
     "data": {
      "text/plain": [
       "201"
      ]
     },
     "execution_count": 33,
     "metadata": {},
     "output_type": "execute_result"
    }
   ],
   "source": [
    "len(sentence_stats)"
   ]
  },
  {
   "cell_type": "code",
   "execution_count": 32,
   "metadata": {
    "collapsed": false
   },
   "outputs": [
    {
     "data": {
      "text/plain": [
       "[(u'07426264', 1048),\n",
       " (u'08863060', 145),\n",
       " (u'08892817', 181),\n",
       " (u'07426311', 314),\n",
       " (u'08887314', 68),\n",
       " (u'08632753', 1951),\n",
       " (u'07426244', 114),\n",
       " (u'08631528', 143),\n",
       " (u'07426248', 880),\n",
       " (u'08632178', 166)]"
      ]
     },
     "execution_count": 32,
     "metadata": {},
     "output_type": "execute_result"
    }
   ],
   "source": [
    "sentence_stats.items()[:10]"
   ]
  },
  {
   "cell_type": "code",
   "execution_count": 82,
   "metadata": {
    "collapsed": false
   },
   "outputs": [
    {
     "data": {
      "text/plain": [
       "2009749"
      ]
     },
     "execution_count": 82,
     "metadata": {},
     "output_type": "execute_result"
    }
   ],
   "source": [
    "max(sentence_stats.values())"
   ]
  },
  {
   "cell_type": "code",
   "execution_count": 43,
   "metadata": {
    "collapsed": true
   },
   "outputs": [],
   "source": [
    "dd = \"CROSS REFERENCE TO RELATED APPLICATION This application claims priority to U.S. Provisional Application No. 60/786,326, entitled “Water Heating System and Method,” and filed on Mar. 27, 2006, which is incorporated herein by reference. This application also claims priority to U.S. Provisional Application No. 60/908,132, entitled “Water Heating Systems and Methods,” and filed on Mar. 26, 2007, which is incorporated herein by reference. RELATED ART For many decades, water heater controllers have been mechanically actuated. In this regard, at least one temperature sensitive switch is typically mounted on a side of a water tank. Thermal stresses within the switch fluctuate as the temperature of the water within the tank changes. If the temperature of water within a region in close proximity to the switch falls below a threshold, referred to as a “lower set point,” mechanical forces caused by thermal stresses in the switch actuate a mechanical component of the switch thereby allowing electrical current to flow to a heating element within the tank. Thus, the heating element begins to heat the water in the tank. Once the temperature of the water rises above a threshold, referred to as an “upper set point,” mechanical forces caused by the thermal stresses actuate the mechanical component of the switch yet again thereby stopping current from flowing to the heating element. Thus, the heating element stops heating the water in the tank.\""
   ]
  },
  {
   "cell_type": "code",
   "execution_count": 4,
   "metadata": {
    "collapsed": true
   },
   "outputs": [],
   "source": [
    "ff = \"FIG. 28 U.S. depicts 22.5 the housing section of FIG. 27 with electrical interfaces removed for illustrative purposes. FIG. 29 depicts an exemplary housing section and various other components for a water heater controller, such as is depicted in FIG. 19. FIG. 30 depicts the housing section of FIG. 29\""
   ]
  },
  {
   "cell_type": "code",
   "execution_count": 14,
   "metadata": {
    "collapsed": false
   },
   "outputs": [
    {
     "data": {
      "text/plain": [
       "['CROSS REFERENCE TO RELATED APPLICATION This application claims priority to U.S.',\n",
       " 'Provisional Application No.',\n",
       " '60/786,326, entitled \\xe2\\x80\\x9cWater Heating System and Method,\\xe2\\x80\\x9d and filed on Mar.',\n",
       " '27, 2006, which is incorporated herein by reference.',\n",
       " 'This application also claims priority to U.S.',\n",
       " 'Provisional Application No.',\n",
       " '60/908,132, entitled \\xe2\\x80\\x9cWater Heating Systems and Methods,\\xe2\\x80\\x9d and filed on Mar.',\n",
       " '26, 2007, which is incorporated herein by reference.',\n",
       " 'RELATED ART For many decades, water heater controllers have been mechanically actuated.',\n",
       " 'In this regard, at least one temperature sensitive switch is typically mounted on a side of a water tank.',\n",
       " 'Thermal stresses within the switch fluctuate as the temperature of the water within the tank changes.',\n",
       " 'If the temperature of water within a region in close proximity to the switch falls below a threshold, referred to as a \\xe2\\x80\\x9clower set point,\\xe2\\x80\\x9d mechanical forces caused by thermal stresses in the switch actuate a mechanical component of the switch thereby allowing electrical current to flow to a heating element within the tank.',\n",
       " 'Thus, the heating element begins to heat the water in the tank.',\n",
       " 'Once the temperature of the water rises above a threshold, referred to as an \\xe2\\x80\\x9cupper set point,\\xe2\\x80\\x9d mechanical forces caused by the thermal stresses actuate the mechanical component of the switch yet again thereby stopping current from flowing to the heating element.',\n",
       " 'Thus, the heating element stops heating the water in the tank.']"
      ]
     },
     "execution_count": 14,
     "metadata": {},
     "output_type": "execute_result"
    }
   ],
   "source": [
    "sent_tokenize(dd)"
   ]
  },
  {
   "cell_type": "code",
   "execution_count": 15,
   "metadata": {
    "collapsed": false
   },
   "outputs": [
    {
     "data": {
      "text/plain": [
       "['FIG.',\n",
       " '28 U.S. depicts 22.5 the housing section of FIG.',\n",
       " '27 with electrical interfaces removed for illustrative purposes.',\n",
       " 'FIG.',\n",
       " '29 depicts an exemplary housing section and various other components for a water heater controller, such as is depicted in FIG.',\n",
       " '19.',\n",
       " 'FIG.',\n",
       " '30 depicts the housing section of FIG.',\n",
       " '29']"
      ]
     },
     "execution_count": 15,
     "metadata": {},
     "output_type": "execute_result"
    }
   ],
   "source": [
    "sent_tokenize(ff)"
   ]
  },
  {
   "cell_type": "code",
   "execution_count": 12,
   "metadata": {
    "collapsed": true
   },
   "outputs": [],
   "source": [
    "del sentence_tokenizer"
   ]
  },
  {
   "cell_type": "code",
   "execution_count": 16,
   "metadata": {
    "collapsed": true
   },
   "outputs": [],
   "source": [
    "import nltk"
   ]
  },
  {
   "cell_type": "code",
   "execution_count": 20,
   "metadata": {
    "collapsed": false
   },
   "outputs": [
    {
     "data": {
      "text/plain": [
       "<module 'nltk' from '/home/s/shalaby/.virtualenv/thesis-env/local/lib/python2.7/site-packages/nltk/__init__.pyc'>"
      ]
     },
     "execution_count": 20,
     "metadata": {},
     "output_type": "execute_result"
    }
   ],
   "source": [
    "reload(nltk)"
   ]
  },
  {
   "cell_type": "code",
   "execution_count": 5,
   "metadata": {
    "collapsed": false
   },
   "outputs": [],
   "source": [
    "sentence_tokenizer = nltk.data.load('tokenizers/punkt/english.pickle')\n",
    "extra_abbrv = [u'u.s', u'fig', \n",
    "               u'jan', u'feb', u'mar', u'apr', u'may', u'jun', u'jul', u'aug', u'sep', u'oct', u'nov', u'dec']\n",
    "sentence_tokenizer._params.abbrev_types.update(extra_abbrv)"
   ]
  },
  {
   "cell_type": "code",
   "execution_count": 6,
   "metadata": {
    "collapsed": true
   },
   "outputs": [],
   "source": [
    "extra_abbrv = [u'u.s', u'fig', \n",
    "               u'jan', u'feb', u'mar', u'apr', u'may', u'jun', u'jul', u'aug', u'sep', u'oct', u'nov', u'dec']"
   ]
  },
  {
   "cell_type": "code",
   "execution_count": 8,
   "metadata": {
    "collapsed": false
   },
   "outputs": [],
   "source": [
    "sentence_tokenizer._params.abbrev_types.update(extra_abbrv)"
   ]
  },
  {
   "cell_type": "code",
   "execution_count": 10,
   "metadata": {
    "collapsed": false
   },
   "outputs": [
    {
     "data": {
      "text/plain": [
       "['CROSS REFERENCE TO RELATED APPLICATION This application claims priority to U.S.',\n",
       " 'Provisional Application No.',\n",
       " '60/786,326, entitled \\xe2\\x80\\x9cWater Heating System and Method,\\xe2\\x80\\x9d and filed on Mar. 27, 2006, which is incorporated herein by reference.',\n",
       " 'This application also claims priority to U.S.',\n",
       " 'Provisional Application No.',\n",
       " '60/908,132, entitled \\xe2\\x80\\x9cWater Heating Systems and Methods,\\xe2\\x80\\x9d and filed on Mar. 26, 2007, which is incorporated herein by reference.',\n",
       " 'RELATED ART For many decades, water heater controllers have been mechanically actuated.',\n",
       " 'In this regard, at least one temperature sensitive switch is typically mounted on a side of a water tank.',\n",
       " 'Thermal stresses within the switch fluctuate as the temperature of the water within the tank changes.',\n",
       " 'If the temperature of water within a region in close proximity to the switch falls below a threshold, referred to as a \\xe2\\x80\\x9clower set point,\\xe2\\x80\\x9d mechanical forces caused by thermal stresses in the switch actuate a mechanical component of the switch thereby allowing electrical current to flow to a heating element within the tank.',\n",
       " 'Thus, the heating element begins to heat the water in the tank.',\n",
       " 'Once the temperature of the water rises above a threshold, referred to as an \\xe2\\x80\\x9cupper set point,\\xe2\\x80\\x9d mechanical forces caused by the thermal stresses actuate the mechanical component of the switch yet again thereby stopping current from flowing to the heating element.',\n",
       " 'Thus, the heating element stops heating the water in the tank.']"
      ]
     },
     "execution_count": 10,
     "metadata": {},
     "output_type": "execute_result"
    }
   ],
   "source": [
    "sentence_tokenizer.tokenize(dd)"
   ]
  }
 ],
 "metadata": {
  "kernelspec": {
   "display_name": "Python 2",
   "language": "python",
   "name": "python2"
  },
  "language_info": {
   "codemirror_mode": {
    "name": "ipython",
    "version": 2
   },
   "file_extension": ".py",
   "mimetype": "text/x-python",
   "name": "python",
   "nbconvert_exporter": "python",
   "pygments_lexer": "ipython2",
   "version": "2.7.11+"
  }
 },
 "nbformat": 4,
 "nbformat_minor": 2
}
