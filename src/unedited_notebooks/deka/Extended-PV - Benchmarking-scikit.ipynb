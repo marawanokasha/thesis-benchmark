{
 "cells": [
  {
   "cell_type": "code",
   "execution_count": 6,
   "metadata": {
    "collapsed": true
   },
   "outputs": [],
   "source": [
    "import json\n",
    "import nltk\n",
    "from nltk.tokenize import RegexpTokenizer\n",
    "import string\n",
    "import math\n",
    "import os\n",
    "import time\n",
    "import pandas as pd\n",
    "%matplotlib inline\n",
    "import matplotlib.pyplot as plt\n",
    "import matplotlib as mpl\n",
    "import numpy as np\n",
    "import random\n",
    "import cPickle as pickle\n",
    "\n",
    "from sklearn.metrics import coverage_error\n",
    "import sklearn.metrics\n",
    "from sklearn.multiclass import OneVsRestClassifier\n",
    "from sklearn import linear_model\n",
    "\n",
    "import logging\n",
    "from logging import info\n",
    "\n",
    "from thesis.utils.metrics import *"
   ]
  },
  {
   "cell_type": "code",
   "execution_count": 7,
   "metadata": {
    "collapsed": false
   },
   "outputs": [],
   "source": [
    "root = logging.getLogger()\n",
    "for handler in root.handlers[:]:\n",
    "    root.removeHandler(handler)\n",
    "logging.basicConfig(format='%(asctime)s : %(levelname)s : %(message)s', level=logging.INFO) # adds a default StreamHanlder\n",
    "#root.addHandler(logging.StreamHandler())"
   ]
  },
  {
   "cell_type": "code",
   "execution_count": 9,
   "metadata": {
    "collapsed": true
   },
   "outputs": [],
   "source": [
    "RANDOM_SEED = 10000\n",
    "random.seed(RANDOM_SEED)"
   ]
  },
  {
   "cell_type": "code",
   "execution_count": 10,
   "metadata": {
    "collapsed": true
   },
   "outputs": [],
   "source": [
    "SVM_SEED = 1234"
   ]
  },
  {
   "cell_type": "code",
   "execution_count": 11,
   "metadata": {
    "collapsed": true
   },
   "outputs": [],
   "source": [
    "SVM_ITERATIONS = 10\n",
    "SVM_CONVERGENCE = 0.001\n",
    "SVM_REG = 0.001\n",
    "SVM_CLASS_WEIGHTS = None\n",
    "SVM_MODEL_NAME = 'svm_iter_{}_reg_{}_classweights_{}'.format(SVM_ITERATIONS, SVM_REG, str(SVM_CLASS_WEIGHTS))\n",
    "\n",
    "CLASSIFIER_FILE = '{}_classifier.pkl'\n",
    "VALIDATION_METRICS_FILENAME= '{}_validation_metrics.pkl'\n",
    "TRAINING_METRICS_FILENAME = '{}_training_metrics.pkl'\n",
    "TEST_METRICS_FILENAME = '{}_test_metrics.pkl'"
   ]
  },
  {
   "cell_type": "code",
   "execution_count": 12,
   "metadata": {
    "collapsed": true
   },
   "outputs": [],
   "source": [
    "SAMPLE_RATIO = 0.15"
   ]
  },
  {
   "cell_type": "code",
   "execution_count": 36,
   "metadata": {
    "collapsed": true
   },
   "outputs": [],
   "source": [
    "root_location = \"/big/s/shalaby/\"\n",
    "exports_location = root_location + \"exported_data/\"\n",
    "svm_location = root_location + \"extended_pv_benchmarking_svm/\"\n",
    "\n",
    "\n",
    "training_file = root_location + \"docs_output.json\"\n",
    "\n",
    "classifications_index_file = exports_location + \"extended_pv_classifications_index.pkl\"\n",
    "doc_classifications_map_file = exports_location + \"extended_pv_doc_classification_map.pkl\"\n",
    "sections_file = exports_location + \"sections.pkl\"\n",
    "classes_file = exports_location + \"classes.pkl\"\n",
    "subclasses_file = exports_location + \"subclasses.pkl\"\n",
    "valid_classes_file = exports_location + \"valid_classes.pkl\"\n",
    "valid_subclasses_file = exports_location + \"valid_subclasses.pkl\"\n",
    "classifications_output = exports_location + \"classifications.pkl\"\n",
    "training_docs_list_file = exports_location + \"extended_pv_training_docs_list_\" + str(SAMPLE_RATIO) + \".pkl\"\n",
    "validation_docs_list_file = exports_location + \"extended_pv_validation_docs_list_\" + str(SAMPLE_RATIO) + \".pkl\"\n",
    "test_docs_list_file = exports_location + \"extended_pv_test_docs_list_\" + str(SAMPLE_RATIO) + \".pkl\"\n"
   ]
  },
  {
   "cell_type": "code",
   "execution_count": 14,
   "metadata": {
    "collapsed": true
   },
   "outputs": [],
   "source": [
    "class OneHotEncoder():\n",
    "    \n",
    "    def __init__(self, classifications):\n",
    "        self.classifications = classifications\n",
    "        self.one_hot_indices = {}\n",
    "\n",
    "        # convert character classifications to bit vectors\n",
    "        for i, clssf in enumerate(classifications):\n",
    "            bits = [0] * len(classifications)\n",
    "            bits[i] = 1\n",
    "            self.one_hot_indices[clssf] = i\n",
    "    \n",
    "    def get_label_vector(self, labels):\n",
    "        \"\"\"\n",
    "        classes: array of string with the classes assigned to the instance\n",
    "        \"\"\"\n",
    "        output_vector = [0] * len(self.classifications)\n",
    "        for label in labels:\n",
    "            index = self.one_hot_indices[label]\n",
    "            output_vector[index] = 1\n",
    "            \n",
    "        return output_vector\n",
    "\n",
    "def get_label_data(classifications, doc_ids, doc_classification_map):\n",
    "    one_hot_encoder = OneHotEncoder(classifications)\n",
    "    classifications_set = set(classifications)\n",
    "    data_labels = []\n",
    "    for i, doc_id in enumerate(doc_ids):\n",
    "        #if len(doc_classification_map[doc_id]) > 20: info(\"PROOOOBBBBBBBBBBBLEM \"+  str(doc_classification_map[doc_id]))\n",
    "#         eligible_classifications = [clssf for clssf in doc_classification_map[doc_id] if clssf in classifications]\n",
    "        eligible_classifications = set(doc_classification_map[doc_id]) & classifications_set\n",
    "        data_labels.append(one_hot_encoder.get_label_vector(eligible_classifications))\n",
    "        #if i % 1000 == 0: info(i)\n",
    "    data_labels = np.array(data_labels, dtype=np.int8)\n",
    "    return data_labels"
   ]
  },
  {
   "cell_type": "markdown",
   "metadata": {},
   "source": [
    "#### Load Classification Objects"
   ]
  },
  {
   "cell_type": "code",
   "execution_count": 19,
   "metadata": {
    "collapsed": false
   },
   "outputs": [
    {
     "name": "stdout",
     "output_type": "stream",
     "text": [
      "CPU times: user 9.29 s, sys: 416 ms, total: 9.71 s\n",
      "Wall time: 9.76 s\n"
     ]
    }
   ],
   "source": [
    "%%time\n",
    "doc_classification_map = pickle.load(open(doc_classifications_map_file))\n",
    "sections = pickle.load(open(sections_file))\n",
    "classes = pickle.load(open(classes_file))\n",
    "subclasses = pickle.load(open(subclasses_file))\n",
    "valid_classes = pickle.load(open(valid_classes_file))\n",
    "valid_subclasses = pickle.load(open(valid_subclasses_file))\n",
    "training_docs_list = pickle.load(open(training_docs_list_file))\n",
    "validation_docs_list = pickle.load(open(validation_docs_list_file))\n",
    "test_docs_list = pickle.load(open(test_docs_list_file))\n",
    "classifications_index = pickle.load(open(classifications_index_file))"
   ]
  },
  {
   "cell_type": "code",
   "execution_count": 20,
   "metadata": {
    "collapsed": false
   },
   "outputs": [
    {
     "data": {
      "text/plain": [
       "244"
      ]
     },
     "execution_count": 20,
     "metadata": {},
     "output_type": "execute_result"
    }
   ],
   "source": [
    "len(valid_classes)"
   ]
  },
  {
   "cell_type": "code",
   "execution_count": 21,
   "metadata": {
    "collapsed": false
   },
   "outputs": [
    {
     "data": {
      "text/plain": [
       "940"
      ]
     },
     "execution_count": 21,
     "metadata": {},
     "output_type": "execute_result"
    }
   ],
   "source": [
    "len(valid_subclasses)"
   ]
  },
  {
   "cell_type": "markdown",
   "metadata": {},
   "source": [
    "## Training and Validation Loop"
   ]
  },
  {
   "cell_type": "code",
   "execution_count": 41,
   "metadata": {
    "collapsed": true
   },
   "outputs": [],
   "source": [
    "classifications = valid_subclasses\n",
    "classifications_type = \"subclasses\""
   ]
  },
  {
   "cell_type": "code",
   "execution_count": 42,
   "metadata": {
    "collapsed": false
   },
   "outputs": [
    {
     "name": "stderr",
     "output_type": "stream",
     "text": [
      "2017-04-01 21:40:08,340 : INFO : =============== tf Being Evaluated ================\n",
      "2017-04-01 21:40:08,341 : INFO : Getting Training Data\n"
     ]
    },
    {
     "name": "stdout",
     "output_type": "stream",
     "text": [
      "CPU times: user 2min 40s, sys: 3.68 s, total: 2min 43s\n",
      "Wall time: 2min 43s\n"
     ]
    },
    {
     "name": "stderr",
     "output_type": "stream",
     "text": [
      "2017-04-01 21:43:23,523 : INFO : Training Classifier\n"
     ]
    },
    {
     "name": "stdout",
     "output_type": "stream",
     "text": [
      "CPU times: user 29.8 s, sys: 1.11 s, total: 30.9 s\n",
      "Wall time: 30.9 s\n",
      "[[0 0 0 ..., 0 0 0]\n",
      " [0 0 0 ..., 0 0 0]\n",
      " [0 0 0 ..., 0 0 0]\n",
      " ..., \n",
      " [0 0 0 ..., 0 0 0]\n",
      " [0 0 0 ..., 0 0 0]\n",
      " [0 0 0 ..., 0 0 0]]\n",
      "(254767, 940)\n"
     ]
    },
    {
     "name": "stderr",
     "output_type": "stream",
     "text": [
      "2017-04-01 22:36:48,030 : INFO : Evaluating on Training Data\n"
     ]
    },
    {
     "name": "stdout",
     "output_type": "stream",
     "text": [
      "CPU times: user 53min 22s, sys: 752 ms, total: 53min 23s\n",
      "Wall time: 53min 24s\n",
      "CPU times: user 4min 33s, sys: 336 ms, total: 4min 33s\n",
      "Wall time: 4min 33s\n"
     ]
    },
    {
     "name": "stderr",
     "output_type": "stream",
     "text": [
      "2017-04-01 22:45:58,449 : INFO : Calculating training metrics\n"
     ]
    },
    {
     "name": "stdout",
     "output_type": "stream",
     "text": [
      "CPU times: user 4min 35s, sys: 1.24 s, total: 4min 36s\n",
      "Wall time: 4min 36s\n",
      "[[0 0 0 ..., 0 0 0]\n",
      " [0 0 0 ..., 0 0 0]\n",
      " [0 0 0 ..., 0 0 0]\n",
      " ..., \n",
      " [0 0 0 ..., 0 0 0]\n",
      " [0 0 0 ..., 0 0 0]\n",
      " [0 0 0 ..., 0 0 0]]\n"
     ]
    },
    {
     "name": "stderr",
     "output_type": "stream",
     "text": [
      "2017-04-01 22:49:38,848 : INFO : Getting Valdiation Data\n"
     ]
    },
    {
     "name": "stdout",
     "output_type": "stream",
     "text": [
      "** Training Metrics: Cov Err: 180.842, Avg Labels: 1.660, \n",
      "\t\t Top 1: 0.348, Top 3: 0.388, Top 5: 0.418, \n",
      "\t\t F1 Micro: 0.394, F1 Macro: 0.236, Total Pos: 430,708\n",
      "CPU times: user 35.7 s, sys: 596 ms, total: 36.3 s\n",
      "Wall time: 36.3 s\n"
     ]
    },
    {
     "name": "stderr",
     "output_type": "stream",
     "text": [
      "2017-04-01 22:50:21,657 : INFO : Evaluating on Validation Data\n"
     ]
    },
    {
     "name": "stdout",
     "output_type": "stream",
     "text": [
      "CPU times: user 6.12 s, sys: 256 ms, total: 6.38 s\n",
      "Wall time: 6.35 s\n",
      "CPU times: user 1min, sys: 76 ms, total: 1min\n",
      "Wall time: 1min\n",
      "CPU times: user 1min, sys: 228 ms, total: 1min\n",
      "Wall time: 1min\n",
      "[[0 0 0 ..., 0 0 0]\n",
      " [0 0 0 ..., 0 0 0]\n",
      " [0 0 0 ..., 0 0 0]\n",
      " ..., \n",
      " [0 0 0 ..., 0 0 0]\n",
      " [0 0 0 ..., 0 0 0]\n",
      " [0 0 0 ..., 0 0 0]]\n",
      "** Validation Metrics: Cov Err: 171.835, Avg Labels: 1.350, \n",
      "\t\t Top 1: 0.329, Top 3: 0.382, Top 5: 0.411, \n",
      "\t\t F1 Micro: 0.344, F1 Macro: 0.076, Total Pos: 106,078\n"
     ]
    },
    {
     "name": "stderr",
     "output_type": "stream",
     "text": [
      "2017-04-01 22:53:27,327 : INFO : =============== sublinear_tf Being Evaluated ================\n",
      "2017-04-01 22:53:27,329 : INFO : Getting Training Data\n"
     ]
    },
    {
     "name": "stdout",
     "output_type": "stream",
     "text": [
      "CPU times: user 2min 17s, sys: 2.32 s, total: 2min 20s\n",
      "Wall time: 2min 20s\n"
     ]
    },
    {
     "name": "stderr",
     "output_type": "stream",
     "text": [
      "2017-04-01 22:56:16,639 : INFO : Training Classifier\n"
     ]
    },
    {
     "name": "stdout",
     "output_type": "stream",
     "text": [
      "CPU times: user 27.2 s, sys: 1.33 s, total: 28.6 s\n",
      "Wall time: 28.5 s\n",
      "[[0 0 0 ..., 0 0 0]\n",
      " [0 0 0 ..., 0 0 0]\n",
      " [0 0 0 ..., 0 0 0]\n",
      " ..., \n",
      " [0 0 0 ..., 0 0 0]\n",
      " [0 0 0 ..., 0 0 0]\n",
      " [0 0 0 ..., 0 0 0]]\n",
      "(254767, 940)\n"
     ]
    },
    {
     "name": "stderr",
     "output_type": "stream",
     "text": [
      "2017-04-01 23:50:07,307 : INFO : Evaluating on Training Data\n"
     ]
    },
    {
     "name": "stdout",
     "output_type": "stream",
     "text": [
      "CPU times: user 53min 48s, sys: 872 ms, total: 53min 49s\n",
      "Wall time: 53min 50s\n",
      "CPU times: user 4min 33s, sys: 352 ms, total: 4min 33s\n",
      "Wall time: 4min 33s\n"
     ]
    },
    {
     "name": "stderr",
     "output_type": "stream",
     "text": [
      "2017-04-01 23:59:20,656 : INFO : Calculating training metrics\n"
     ]
    },
    {
     "name": "stdout",
     "output_type": "stream",
     "text": [
      "CPU times: user 4min 38s, sys: 1.39 s, total: 4min 39s\n",
      "Wall time: 4min 39s\n",
      "[[0 0 0 ..., 0 0 0]\n",
      " [0 0 0 ..., 0 0 0]\n",
      " [0 0 0 ..., 0 0 0]\n",
      " ..., \n",
      " [0 0 0 ..., 0 0 0]\n",
      " [0 0 0 ..., 0 0 0]\n",
      " [0 0 0 ..., 0 0 0]]\n"
     ]
    },
    {
     "name": "stderr",
     "output_type": "stream",
     "text": [
      "2017-04-02 00:03:00,049 : INFO : Getting Valdiation Data\n"
     ]
    },
    {
     "name": "stdout",
     "output_type": "stream",
     "text": [
      "** Training Metrics: Cov Err: 20.050, Avg Labels: 1.660, \n",
      "\t\t Top 1: 0.288, Top 3: 0.294, Top 5: 0.444, \n",
      "\t\t F1 Micro: 0.419, F1 Macro: 0.042, Total Pos: 144,930\n",
      "CPU times: user 30.6 s, sys: 444 ms, total: 31 s\n",
      "Wall time: 31 s\n"
     ]
    },
    {
     "name": "stderr",
     "output_type": "stream",
     "text": [
      "2017-04-02 00:03:38,115 : INFO : Evaluating on Validation Data\n"
     ]
    },
    {
     "name": "stdout",
     "output_type": "stream",
     "text": [
      "CPU times: user 6.73 s, sys: 232 ms, total: 6.96 s\n",
      "Wall time: 6.93 s\n",
      "CPU times: user 1min 1s, sys: 76 ms, total: 1min 1s\n",
      "Wall time: 1min 1s\n",
      "CPU times: user 1min, sys: 260 ms, total: 1min\n",
      "Wall time: 1min\n",
      "[[0 0 0 ..., 0 0 0]\n",
      " [0 0 0 ..., 0 0 0]\n",
      " [0 0 0 ..., 0 0 0]\n",
      " ..., \n",
      " [0 0 0 ..., 0 0 0]\n",
      " [0 0 0 ..., 0 0 0]\n",
      " [0 0 0 ..., 0 0 0]]\n",
      "** Validation Metrics: Cov Err: 21.702, Avg Labels: 1.350, \n",
      "\t\t Top 1: 0.302, Top 3: 0.312, Top 5: 0.471, \n",
      "\t\t F1 Micro: 0.438, F1 Macro: 0.038, Total Pos: 33,231\n"
     ]
    },
    {
     "name": "stderr",
     "output_type": "stream",
     "text": [
      "2017-04-02 00:06:44,829 : INFO : =============== tf_idf Being Evaluated ================\n",
      "2017-04-02 00:06:44,831 : INFO : Getting Training Data\n"
     ]
    },
    {
     "name": "stdout",
     "output_type": "stream",
     "text": [
      "CPU times: user 2min 11s, sys: 2.4 s, total: 2min 13s\n",
      "Wall time: 2min 13s\n"
     ]
    },
    {
     "name": "stderr",
     "output_type": "stream",
     "text": [
      "2017-04-02 00:09:30,854 : INFO : Training Classifier\n"
     ]
    },
    {
     "name": "stdout",
     "output_type": "stream",
     "text": [
      "CPU times: user 29.9 s, sys: 2.07 s, total: 32 s\n",
      "Wall time: 31.9 s\n",
      "[[0 0 0 ..., 0 0 0]\n",
      " [0 0 0 ..., 0 0 0]\n",
      " [0 0 0 ..., 0 0 0]\n",
      " ..., \n",
      " [0 0 0 ..., 0 0 0]\n",
      " [0 0 0 ..., 0 0 0]\n",
      " [0 0 0 ..., 0 0 0]]\n",
      "(254767, 940)\n"
     ]
    },
    {
     "name": "stderr",
     "output_type": "stream",
     "text": [
      "2017-04-02 01:00:11,759 : INFO : Evaluating on Training Data\n"
     ]
    },
    {
     "name": "stdout",
     "output_type": "stream",
     "text": [
      "CPU times: user 50min 39s, sys: 992 ms, total: 50min 40s\n",
      "Wall time: 50min 40s\n",
      "CPU times: user 4min 10s, sys: 356 ms, total: 4min 11s\n",
      "Wall time: 4min 11s\n"
     ]
    },
    {
     "name": "stderr",
     "output_type": "stream",
     "text": [
      "2017-04-02 01:08:35,637 : INFO : Calculating training metrics\n"
     ]
    },
    {
     "name": "stdout",
     "output_type": "stream",
     "text": [
      "CPU times: user 4min 11s, sys: 1.46 s, total: 4min 12s\n",
      "Wall time: 4min 12s\n",
      "[[0 0 0 ..., 0 0 0]\n",
      " [0 0 0 ..., 0 0 0]\n",
      " [0 0 0 ..., 0 0 0]\n",
      " ..., \n",
      " [0 0 0 ..., 0 0 0]\n",
      " [0 0 0 ..., 0 0 0]\n",
      " [0 0 0 ..., 0 0 0]]\n"
     ]
    },
    {
     "name": "stderr",
     "output_type": "stream",
     "text": [
      "2017-04-02 01:12:16,558 : INFO : Getting Valdiation Data\n"
     ]
    },
    {
     "name": "stdout",
     "output_type": "stream",
     "text": [
      "** Training Metrics: Cov Err: 219.914, Avg Labels: 1.660, \n",
      "\t\t Top 1: 0.366, Top 3: 0.405, Top 5: 0.442, \n",
      "\t\t F1 Micro: 0.421, F1 Macro: 0.234, Total Pos: 407,436\n",
      "CPU times: user 28.5 s, sys: 440 ms, total: 28.9 s\n",
      "Wall time: 28.9 s\n"
     ]
    },
    {
     "name": "stderr",
     "output_type": "stream",
     "text": [
      "2017-04-02 01:12:52,030 : INFO : Evaluating on Validation Data\n"
     ]
    },
    {
     "name": "stdout",
     "output_type": "stream",
     "text": [
      "CPU times: user 6.12 s, sys: 320 ms, total: 6.44 s\n",
      "Wall time: 6.42 s\n",
      "CPU times: user 55.2 s, sys: 88 ms, total: 55.3 s\n",
      "Wall time: 55.3 s\n",
      "CPU times: user 55.1 s, sys: 332 ms, total: 55.5 s\n",
      "Wall time: 55.5 s\n",
      "[[0 0 0 ..., 0 0 0]\n",
      " [0 0 0 ..., 0 0 0]\n",
      " [0 0 0 ..., 0 0 0]\n",
      " ..., \n",
      " [0 0 0 ..., 0 0 0]\n",
      " [0 0 0 ..., 0 0 0]\n",
      " [0 0 0 ..., 0 0 0]]\n",
      "** Validation Metrics: Cov Err: 216.948, Avg Labels: 1.350, \n",
      "\t\t Top 1: 0.334, Top 3: 0.388, Top 5: 0.423, \n",
      "\t\t F1 Micro: 0.350, F1 Macro: 0.080, Total Pos: 105,342\n"
     ]
    },
    {
     "name": "stderr",
     "output_type": "stream",
     "text": [
      "2017-04-02 01:15:46,920 : INFO : =============== sublinear_tf_idf Being Evaluated ================\n",
      "2017-04-02 01:15:46,922 : INFO : Getting Training Data\n"
     ]
    },
    {
     "name": "stdout",
     "output_type": "stream",
     "text": [
      "CPU times: user 2min 9s, sys: 2.06 s, total: 2min 11s\n",
      "Wall time: 2min 11s\n"
     ]
    },
    {
     "name": "stderr",
     "output_type": "stream",
     "text": [
      "2017-04-02 01:18:27,984 : INFO : Training Classifier\n"
     ]
    },
    {
     "name": "stdout",
     "output_type": "stream",
     "text": [
      "CPU times: user 27.5 s, sys: 1.61 s, total: 29.2 s\n",
      "Wall time: 29.1 s\n",
      "[[0 0 0 ..., 0 0 0]\n",
      " [0 0 0 ..., 0 0 0]\n",
      " [0 0 0 ..., 0 0 0]\n",
      " ..., \n",
      " [0 0 0 ..., 0 0 0]\n",
      " [0 0 0 ..., 0 0 0]\n",
      " [0 0 0 ..., 0 0 0]]\n",
      "(254767, 940)\n"
     ]
    },
    {
     "name": "stderr",
     "output_type": "stream",
     "text": [
      "2017-04-02 02:09:29,973 : INFO : Evaluating on Training Data\n"
     ]
    },
    {
     "name": "stdout",
     "output_type": "stream",
     "text": [
      "CPU times: user 51min, sys: 932 ms, total: 51min 1s\n",
      "Wall time: 51min 1s\n",
      "CPU times: user 4min 10s, sys: 348 ms, total: 4min 10s\n",
      "Wall time: 4min 10s\n"
     ]
    },
    {
     "name": "stderr",
     "output_type": "stream",
     "text": [
      "2017-04-02 02:17:52,972 : INFO : Calculating training metrics\n"
     ]
    },
    {
     "name": "stdout",
     "output_type": "stream",
     "text": [
      "CPU times: user 4min 10s, sys: 1.31 s, total: 4min 12s\n",
      "Wall time: 4min 12s\n",
      "[[0 0 0 ..., 0 0 0]\n",
      " [0 0 0 ..., 0 0 0]\n",
      " [0 0 0 ..., 0 0 0]\n",
      " ..., \n",
      " [0 0 0 ..., 0 0 0]\n",
      " [0 0 0 ..., 0 0 0]\n",
      " [0 0 0 ..., 0 0 0]]\n"
     ]
    },
    {
     "name": "stderr",
     "output_type": "stream",
     "text": [
      "2017-04-02 02:21:33,340 : INFO : Getting Valdiation Data\n"
     ]
    },
    {
     "name": "stdout",
     "output_type": "stream",
     "text": [
      "** Training Metrics: Cov Err: 24.620, Avg Labels: 1.660, \n",
      "\t\t Top 1: 0.285, Top 3: 0.290, Top 5: 0.438, \n",
      "\t\t F1 Micro: 0.417, F1 Macro: 0.049, Total Pos: 141,224\n",
      "CPU times: user 28.2 s, sys: 440 ms, total: 28.6 s\n",
      "Wall time: 28.6 s\n"
     ]
    },
    {
     "name": "stderr",
     "output_type": "stream",
     "text": [
      "2017-04-02 02:22:09,197 : INFO : Evaluating on Validation Data\n"
     ]
    },
    {
     "name": "stdout",
     "output_type": "stream",
     "text": [
      "CPU times: user 6.82 s, sys: 264 ms, total: 7.08 s\n",
      "Wall time: 7.05 s\n",
      "CPU times: user 55.1 s, sys: 88 ms, total: 55.2 s\n",
      "Wall time: 55.2 s\n",
      "CPU times: user 55.1 s, sys: 332 ms, total: 55.4 s\n",
      "Wall time: 55.4 s\n",
      "[[0 0 0 ..., 0 0 0]\n",
      " [0 0 0 ..., 0 0 0]\n",
      " [0 0 0 ..., 0 0 0]\n",
      " ..., \n",
      " [0 0 0 ..., 0 0 0]\n",
      " [0 0 0 ..., 0 0 0]\n",
      " [0 0 0 ..., 0 0 0]]\n",
      "** Validation Metrics: Cov Err: 26.698, Avg Labels: 1.350, \n",
      "\t\t Top 1: 0.292, Top 3: 0.302, Top 5: 0.458, \n",
      "\t\t F1 Micro: 0.427, F1 Macro: 0.037, Total Pos: 32,546\n"
     ]
    },
    {
     "name": "stderr",
     "output_type": "stream",
     "text": [
      "2017-04-02 02:25:04,172 : INFO : =============== bm25 Being Evaluated ================\n",
      "2017-04-02 02:25:04,174 : INFO : Getting Training Data\n"
     ]
    },
    {
     "name": "stdout",
     "output_type": "stream",
     "text": [
      "CPU times: user 2min 11s, sys: 2.22 s, total: 2min 13s\n",
      "Wall time: 2min 13s\n"
     ]
    },
    {
     "name": "stderr",
     "output_type": "stream",
     "text": [
      "2017-04-02 02:27:49,142 : INFO : Training Classifier\n"
     ]
    },
    {
     "name": "stdout",
     "output_type": "stream",
     "text": [
      "CPU times: user 29.8 s, sys: 1.22 s, total: 31.1 s\n",
      "Wall time: 31 s\n",
      "[[0 0 0 ..., 0 0 0]\n",
      " [0 0 0 ..., 0 0 0]\n",
      " [0 0 0 ..., 0 0 0]\n",
      " ..., \n",
      " [0 0 0 ..., 0 0 0]\n",
      " [0 0 0 ..., 0 0 0]\n",
      " [0 0 0 ..., 0 0 0]]\n",
      "(254767, 940)\n"
     ]
    },
    {
     "name": "stderr",
     "output_type": "stream",
     "text": [
      "2017-04-02 03:18:55,170 : INFO : Evaluating on Training Data\n"
     ]
    },
    {
     "name": "stdout",
     "output_type": "stream",
     "text": [
      "CPU times: user 51min 4s, sys: 940 ms, total: 51min 5s\n",
      "Wall time: 51min 6s\n",
      "CPU times: user 4min 12s, sys: 316 ms, total: 4min 13s\n",
      "Wall time: 4min 13s\n"
     ]
    },
    {
     "name": "stderr",
     "output_type": "stream",
     "text": [
      "2017-04-02 03:27:21,100 : INFO : Calculating training metrics\n"
     ]
    },
    {
     "name": "stdout",
     "output_type": "stream",
     "text": [
      "CPU times: user 4min 11s, sys: 1.36 s, total: 4min 12s\n",
      "Wall time: 4min 12s\n",
      "[[0 0 0 ..., 0 0 0]\n",
      " [0 0 0 ..., 0 0 0]\n",
      " [0 0 0 ..., 0 0 0]\n",
      " ..., \n",
      " [0 0 0 ..., 0 0 0]\n",
      " [0 0 0 ..., 0 0 0]\n",
      " [0 0 0 ..., 0 0 0]]\n"
     ]
    },
    {
     "name": "stderr",
     "output_type": "stream",
     "text": [
      "2017-04-02 03:31:01,741 : INFO : Getting Valdiation Data\n"
     ]
    },
    {
     "name": "stdout",
     "output_type": "stream",
     "text": [
      "** Training Metrics: Cov Err: 16.033, Avg Labels: 1.660, \n",
      "\t\t Top 1: 0.371, Top 3: 0.379, Top 5: 0.518, \n",
      "\t\t F1 Micro: 0.513, F1 Macro: 0.203, Total Pos: 185,093\n",
      "CPU times: user 29.1 s, sys: 664 ms, total: 29.8 s\n",
      "Wall time: 29.8 s\n"
     ]
    },
    {
     "name": "stderr",
     "output_type": "stream",
     "text": [
      "2017-04-02 03:31:37,813 : INFO : Evaluating on Validation Data\n"
     ]
    },
    {
     "name": "stdout",
     "output_type": "stream",
     "text": [
      "CPU times: user 6 s, sys: 236 ms, total: 6.23 s\n",
      "Wall time: 6.21 s\n",
      "CPU times: user 55.4 s, sys: 76 ms, total: 55.4 s\n",
      "Wall time: 55.5 s\n",
      "CPU times: user 55.1 s, sys: 348 ms, total: 55.5 s\n",
      "Wall time: 55.5 s\n",
      "[[0 0 0 ..., 0 0 0]\n",
      " [0 0 0 ..., 0 0 0]\n",
      " [0 0 0 ..., 0 0 0]\n",
      " ..., \n",
      " [0 0 0 ..., 0 0 0]\n",
      " [0 0 0 ..., 0 0 0]\n",
      " [0 0 0 ..., 0 0 0]]\n",
      "** Validation Metrics: Cov Err: 28.304, Avg Labels: 1.350, \n",
      "\t\t Top 1: 0.328, Top 3: 0.343, Top 5: 0.475, \n",
      "\t\t F1 Micro: 0.457, F1 Macro: 0.067, Total Pos: 40,239\n",
      "CPU times: user 5h 53min 7s, sys: 1min 2s, total: 5h 54min 10s\n",
      "Wall time: 5h 54min 25s\n"
     ]
    }
   ],
   "source": [
    "%%time\n",
    "# data_types = [\"sublinear_tf\"]\n",
    "data_types = [\"tf\", \"sublinear_tf\", \"tf_idf\", \"sublinear_tf_idf\",\"bm25\"]\n",
    "for data_type in data_types:\n",
    "    info(\"=============== {} Being Evaluated ================\".format(data_type))\n",
    "    \n",
    "    data_training_location = exports_location + \"extended_pv_benchmarking_data/\" + \"{}_training_sparse_data.pkl\".format(data_type)\n",
    "    data_training_docids_location = exports_location + \"extended_pv_benchmarking_data/\" + \"{}_training_sparse_docids.pkl\".format(data_type)\n",
    "    data_validation_location = exports_location + \"extended_pv_benchmarking_data/\" + \"{}_validation_sparse_data.pkl\".format(data_type)\n",
    "    data_validation_docids_location = exports_location + \"extended_pv_benchmarking_data/\" + \"{}_validation_sparse_docids.pkl\".format(data_type)\n",
    "    \n",
    "    # Get the training data\n",
    "    info('Getting Training Data')\n",
    "    %time X = pickle.load(open(data_training_location, \"r\"))\n",
    "    training_data_docids = pickle.load(open(data_training_docids_location, \"r\"))\n",
    "    %time y = get_label_data(classifications, training_data_docids, doc_classification_map)\n",
    "    \n",
    "    print y\n",
    "    print y.shape\n",
    "\n",
    "    info('Training Classifier')\n",
    "    clf = OneVsRestClassifier(linear_model.SGDClassifier(loss='hinge', penalty='l2', \n",
    "                                                         #alpha is the 1/C parameter\n",
    "                                                         alpha=SVM_REG, fit_intercept=True, n_iter=SVM_ITERATIONS,\n",
    "                                                         #n_jobs=-1 means use all cpus\n",
    "                                                         shuffle=True, verbose=0, n_jobs=1,\n",
    "                                                         #eta0 is the learning rate when we use constant configuration\n",
    "                                                         random_state=SVM_SEED, learning_rate='optimal', eta0=0.0, \n",
    "                                                         class_weight=SVM_CLASS_WEIGHTS, warm_start=False), n_jobs=1)\n",
    "    %time clf.fit(X,y)\n",
    "    \n",
    "    # Training Metrics\n",
    "    info('Evaluating on Training Data')\n",
    "    %time yp = clf.predict(X)\n",
    "    %time yp_score = clf.decision_function(X)\n",
    "    print yp\n",
    "    info('Calculating training metrics')\n",
    "    training_metrics = get_metrics(y, yp_score, yp)\n",
    "    print \"** Training Metrics: Cov Err: {:.3f}, Avg Labels: {:.3f}, \\n\\t\\t Top 1: {:.3f}, Top 3: {:.3f}, Top 5: {:.3f}, \\n\\t\\t F1 Micro: {:.3f}, F1 Macro: {:.3f}, Total Pos: {:,d}\".format(\n",
    "        training_metrics['coverage_error'], training_metrics['average_num_of_labels'], \n",
    "        training_metrics['top_1'], training_metrics['top_3'], training_metrics['top_5'], \n",
    "        training_metrics['f1_micro'], training_metrics['f1_macro'], training_metrics['total_positive'])\n",
    "    \n",
    "    # Get the validation data\n",
    "    info('Getting Valdiation Data')\n",
    "    %time Xv = pickle.load(open(data_validation_location,'r'))\n",
    "    validation_data_docids = pickle.load(open(data_validation_docids_location, \"r\"))\n",
    "    %time yv = get_label_data(classifications, validation_data_docids, doc_classification_map)\n",
    "    \n",
    "    # Validation Metrics\n",
    "    info('Evaluating on Validation Data')\n",
    "    %time yvp = clf.predict(Xv)\n",
    "    %time yvp_score = clf.decision_function(Xv)\n",
    "    print yvp\n",
    "    validation_metrics = get_metrics(yv, yvp_score, yvp)\n",
    "    print \"** Validation Metrics: Cov Err: {:.3f}, Avg Labels: {:.3f}, \\n\\t\\t Top 1: {:.3f}, Top 3: {:.3f}, Top 5: {:.3f}, \\n\\t\\t F1 Micro: {:.3f}, F1 Macro: {:.3f}, Total Pos: {:,d}\".format(\n",
    "        validation_metrics['coverage_error'], validation_metrics['average_num_of_labels'], \n",
    "        validation_metrics['top_1'], validation_metrics['top_3'], validation_metrics['top_5'], \n",
    "        validation_metrics['f1_micro'], validation_metrics['f1_macro'], validation_metrics['total_positive'])\n",
    "    \n",
    "    # Dump the classifier and metrics\n",
    "    data_folder = os.path.join(svm_location, SVM_MODEL_NAME, data_type)\n",
    "    if not os.path.exists(data_folder):\n",
    "        os.makedirs(data_folder)\n",
    "    pickle.dump(clf, open(os.path.join(data_folder, CLASSIFIER_FILE.format(classifications_type)), \"w\"))\n",
    "#     pickle.dump(training_metrics, open(os.path.join(data_folder, TRAINING_METRICS_FILENAME.format(classifications_type)), \"w\"))\n",
    "    pickle.dump(validation_metrics, open(os.path.join(data_folder, VALIDATION_METRICS_FILENAME.format(classifications_type)), \"w\"))\n",
    "    \n",
    "    del X, y, Xv, yv"
   ]
  },
  {
   "cell_type": "markdown",
   "metadata": {},
   "source": [
    "## Testing"
   ]
  },
  {
   "cell_type": "code",
   "execution_count": 10,
   "metadata": {
    "collapsed": true
   },
   "outputs": [],
   "source": [
    "classifications = sections\n",
    "classifications_type = \"sections\""
   ]
  },
  {
   "cell_type": "code",
   "execution_count": 11,
   "metadata": {
    "collapsed": false
   },
   "outputs": [],
   "source": [
    "data_type = \"sublinear_tf\"\n",
    "data_folder = os.path.join(svm_location, SVM_MODEL_NAME, data_type)\n",
    "clf = pickle.load(open(os.path.join(data_folder, CLASSIFIER_FILE.format(classifications_type)), \"r\"))"
   ]
  },
  {
   "cell_type": "code",
   "execution_count": null,
   "metadata": {
    "collapsed": false
   },
   "outputs": [
    {
     "name": "stderr",
     "output_type": "stream",
     "text": [
      "2017-02-14 16:21:10,906 : INFO : Getting Test Data\n"
     ]
    }
   ],
   "source": [
    "data_test_location = exports_location + \"{}_test_sparse_data.pkl\".format(data_type)\n",
    "data_test_docids_location = exports_location + \"{}_test_sparse_docids.pkl\".format(data_type)\n",
    "\n",
    "# Get the test data\n",
    "info('Getting Test Data')\n",
    "%time Xt = pickle.load(open(data_test_location, \"r\"))\n",
    "test_data_docids = pickle.load(open(data_test_docids_location, \"r\"))\n",
    "%time yt = get_label_data(classifications, test_data_docids, doc_classification_map)\n"
   ]
  },
  {
   "cell_type": "code",
   "execution_count": 14,
   "metadata": {
    "collapsed": false
   },
   "outputs": [
    {
     "name": "stderr",
     "output_type": "stream",
     "text": [
      "2017-02-14 16:30:01,480 : INFO : Evaluating on Test Data\n"
     ]
    },
    {
     "name": "stdout",
     "output_type": "stream",
     "text": [
      "CPU times: user 3.96 s, sys: 28 ms, total: 3.99 s\n",
      "Wall time: 3.99 s\n",
      "CPU times: user 3.68 s, sys: 8 ms, total: 3.68 s\n",
      "Wall time: 3.68 s\n",
      "[[0 0 0 ..., 0 0 0]\n",
      " [0 0 0 ..., 0 0 0]\n",
      " [0 0 0 ..., 0 1 1]\n",
      " ..., \n",
      " [0 0 0 ..., 0 1 0]\n",
      " [0 0 1 ..., 0 0 0]\n",
      " [0 0 0 ..., 0 0 1]]\n",
      "CPU times: user 33 s, sys: 64 ms, total: 33.1 s\n",
      "Wall time: 33.1 s\n",
      "** Test Metrics: Cov Err: 1.571, Avg Labels: 1.150, \n",
      "\t\t Top 1: 0.787, Top 3: 0.949, Top 5: 0.981, \n",
      "\t\t F1 Micro: 0.731, F1 Macro: 0.572, Total Pos: 373,008\n"
     ]
    }
   ],
   "source": [
    "# Test Metrics\n",
    "info('Evaluating on Test Data')\n",
    "%time ytp = clf.predict(Xt)\n",
    "%time ytp_score = clf.decision_function(Xt)\n",
    "print ytp\n",
    "%time test_metrics = get_metrics(yt, ytp_score, ytp)\n",
    "print \"** Test Metrics: Cov Err: {:.3f}, Avg Labels: {:.3f}, \\n\\t\\t Top 1: {:.3f}, Top 3: {:.3f}, Top 5: {:.3f}, \\n\\t\\t F1 Micro: {:.3f}, F1 Macro: {:.3f}, Total Pos: {:,d}\".format(\n",
    "    test_metrics['coverage_error'], test_metrics['average_num_of_labels'], \n",
    "    test_metrics['top_1'], test_metrics['top_3'], test_metrics['top_5'], \n",
    "    test_metrics['f1_micro'], test_metrics['f1_macro'], test_metrics['total_positive'])\n",
    "\n",
    "# pickle.dump(test_metrics, open(os.path.join(data_folder, TEST_METRICS_FILENAME.format(classifications_type)), \"w\"))\n",
    "    "
   ]
  },
  {
   "cell_type": "code",
   "execution_count": 79,
   "metadata": {
    "collapsed": true
   },
   "outputs": [],
   "source": [
    "pickle.dump(test_metrics, open(os.path.join(data_folder, TEST_METRICS_FILENAME.format(classifications_type)), \"w\"))\n",
    " "
   ]
  },
  {
   "cell_type": "code",
   "execution_count": 15,
   "metadata": {
    "collapsed": false
   },
   "outputs": [
    {
     "data": {
      "text/html": [
       "<div>\n",
       "<table border=\"1\" class=\"dataframe\">\n",
       "  <thead>\n",
       "    <tr style=\"text-align: right;\">\n",
       "      <th></th>\n",
       "      <th>A</th>\n",
       "      <th>B</th>\n",
       "      <th>C</th>\n",
       "      <th>D</th>\n",
       "      <th>E</th>\n",
       "      <th>F</th>\n",
       "      <th>G</th>\n",
       "      <th>H</th>\n",
       "      <th>None</th>\n",
       "    </tr>\n",
       "  </thead>\n",
       "  <tbody>\n",
       "    <tr>\n",
       "      <th>A</th>\n",
       "      <td>40408.0</td>\n",
       "      <td>1496.0</td>\n",
       "      <td>613.0</td>\n",
       "      <td>3.0</td>\n",
       "      <td>1.0</td>\n",
       "      <td>102.0</td>\n",
       "      <td>1380.0</td>\n",
       "      <td>349.0</td>\n",
       "      <td>14524.0</td>\n",
       "    </tr>\n",
       "    <tr>\n",
       "      <th>B</th>\n",
       "      <td>789.0</td>\n",
       "      <td>23203.0</td>\n",
       "      <td>1495.0</td>\n",
       "      <td>6.0</td>\n",
       "      <td>25.0</td>\n",
       "      <td>1269.0</td>\n",
       "      <td>2335.0</td>\n",
       "      <td>1493.0</td>\n",
       "      <td>27604.0</td>\n",
       "    </tr>\n",
       "    <tr>\n",
       "      <th>C</th>\n",
       "      <td>489.0</td>\n",
       "      <td>625.0</td>\n",
       "      <td>30998.0</td>\n",
       "      <td>1.0</td>\n",
       "      <td>21.0</td>\n",
       "      <td>37.0</td>\n",
       "      <td>479.0</td>\n",
       "      <td>717.0</td>\n",
       "      <td>7946.0</td>\n",
       "    </tr>\n",
       "    <tr>\n",
       "      <th>D</th>\n",
       "      <td>37.0</td>\n",
       "      <td>302.0</td>\n",
       "      <td>164.0</td>\n",
       "      <td>154.0</td>\n",
       "      <td>0.0</td>\n",
       "      <td>4.0</td>\n",
       "      <td>48.0</td>\n",
       "      <td>27.0</td>\n",
       "      <td>1777.0</td>\n",
       "    </tr>\n",
       "    <tr>\n",
       "      <th>E</th>\n",
       "      <td>47.0</td>\n",
       "      <td>839.0</td>\n",
       "      <td>52.0</td>\n",
       "      <td>0.0</td>\n",
       "      <td>1761.0</td>\n",
       "      <td>84.0</td>\n",
       "      <td>121.0</td>\n",
       "      <td>67.0</td>\n",
       "      <td>6456.0</td>\n",
       "    </tr>\n",
       "    <tr>\n",
       "      <th>F</th>\n",
       "      <td>177.0</td>\n",
       "      <td>1100.0</td>\n",
       "      <td>82.0</td>\n",
       "      <td>0.0</td>\n",
       "      <td>41.0</td>\n",
       "      <td>10885.0</td>\n",
       "      <td>761.0</td>\n",
       "      <td>686.0</td>\n",
       "      <td>13910.0</td>\n",
       "    </tr>\n",
       "    <tr>\n",
       "      <th>G</th>\n",
       "      <td>1077.0</td>\n",
       "      <td>1247.0</td>\n",
       "      <td>478.0</td>\n",
       "      <td>0.0</td>\n",
       "      <td>62.0</td>\n",
       "      <td>430.0</td>\n",
       "      <td>109174.0</td>\n",
       "      <td>9721.0</td>\n",
       "      <td>21527.0</td>\n",
       "    </tr>\n",
       "    <tr>\n",
       "      <th>H</th>\n",
       "      <td>284.0</td>\n",
       "      <td>618.0</td>\n",
       "      <td>245.0</td>\n",
       "      <td>0.0</td>\n",
       "      <td>10.0</td>\n",
       "      <td>226.0</td>\n",
       "      <td>9295.0</td>\n",
       "      <td>88342.0</td>\n",
       "      <td>20899.0</td>\n",
       "    </tr>\n",
       "    <tr>\n",
       "      <th>None</th>\n",
       "      <td>3237.0</td>\n",
       "      <td>1870.0</td>\n",
       "      <td>4090.0</td>\n",
       "      <td>19.0</td>\n",
       "      <td>155.0</td>\n",
       "      <td>562.0</td>\n",
       "      <td>9213.0</td>\n",
       "      <td>6880.0</td>\n",
       "      <td>0.0</td>\n",
       "    </tr>\n",
       "  </tbody>\n",
       "</table>\n",
       "</div>"
      ],
      "text/plain": [
       "            A        B        C      D       E        F         G        H  \\\n",
       "A     40408.0   1496.0    613.0    3.0     1.0    102.0    1380.0    349.0   \n",
       "B       789.0  23203.0   1495.0    6.0    25.0   1269.0    2335.0   1493.0   \n",
       "C       489.0    625.0  30998.0    1.0    21.0     37.0     479.0    717.0   \n",
       "D        37.0    302.0    164.0  154.0     0.0      4.0      48.0     27.0   \n",
       "E        47.0    839.0     52.0    0.0  1761.0     84.0     121.0     67.0   \n",
       "F       177.0   1100.0     82.0    0.0    41.0  10885.0     761.0    686.0   \n",
       "G      1077.0   1247.0    478.0    0.0    62.0    430.0  109174.0   9721.0   \n",
       "H       284.0    618.0    245.0    0.0    10.0    226.0    9295.0  88342.0   \n",
       "None   3237.0   1870.0   4090.0   19.0   155.0    562.0    9213.0   6880.0   \n",
       "\n",
       "         None  \n",
       "A     14524.0  \n",
       "B     27604.0  \n",
       "C      7946.0  \n",
       "D      1777.0  \n",
       "E      6456.0  \n",
       "F     13910.0  \n",
       "G     21527.0  \n",
       "H     20899.0  \n",
       "None      0.0  "
      ]
     },
     "execution_count": 15,
     "metadata": {},
     "output_type": "execute_result"
    }
   ],
   "source": [
    "conf_matrix = get_formatted_multilabel_confusion_matrix(yt, ytp, sections)\n",
    "conf_matrix"
   ]
  },
  {
   "cell_type": "code",
   "execution_count": 16,
   "metadata": {
    "collapsed": false
   },
   "outputs": [
    {
     "data": {
      "text/plain": [
       "A        58876.0\n",
       "B        58219.0\n",
       "C        41313.0\n",
       "D         2513.0\n",
       "E         9427.0\n",
       "F        27642.0\n",
       "G       143716.0\n",
       "H       119919.0\n",
       "None     26026.0\n",
       "dtype: float64"
      ]
     },
     "execution_count": 16,
     "metadata": {},
     "output_type": "execute_result"
    }
   ],
   "source": [
    "conf_matrix.sum(axis=1)"
   ]
  },
  {
   "cell_type": "code",
   "execution_count": 23,
   "metadata": {
    "collapsed": false
   },
   "outputs": [
    {
     "data": {
      "text/html": [
       "<div>\n",
       "<table border=\"1\" class=\"dataframe\">\n",
       "  <thead>\n",
       "    <tr style=\"text-align: right;\">\n",
       "      <th></th>\n",
       "      <th>A</th>\n",
       "      <th>B</th>\n",
       "      <th>C</th>\n",
       "      <th>D</th>\n",
       "      <th>E</th>\n",
       "      <th>F</th>\n",
       "      <th>G</th>\n",
       "      <th>H</th>\n",
       "      <th>None</th>\n",
       "    </tr>\n",
       "  </thead>\n",
       "  <tbody>\n",
       "    <tr>\n",
       "      <th>A</th>\n",
       "      <td>68.63</td>\n",
       "      <td>2.54</td>\n",
       "      <td>1.04</td>\n",
       "      <td>0.01</td>\n",
       "      <td>0.00</td>\n",
       "      <td>0.17</td>\n",
       "      <td>2.34</td>\n",
       "      <td>0.59</td>\n",
       "      <td>24.67</td>\n",
       "    </tr>\n",
       "    <tr>\n",
       "      <th>B</th>\n",
       "      <td>1.36</td>\n",
       "      <td>39.85</td>\n",
       "      <td>2.57</td>\n",
       "      <td>0.01</td>\n",
       "      <td>0.04</td>\n",
       "      <td>2.18</td>\n",
       "      <td>4.01</td>\n",
       "      <td>2.56</td>\n",
       "      <td>47.41</td>\n",
       "    </tr>\n",
       "    <tr>\n",
       "      <th>C</th>\n",
       "      <td>1.18</td>\n",
       "      <td>1.51</td>\n",
       "      <td>75.03</td>\n",
       "      <td>0.00</td>\n",
       "      <td>0.05</td>\n",
       "      <td>0.09</td>\n",
       "      <td>1.16</td>\n",
       "      <td>1.74</td>\n",
       "      <td>19.23</td>\n",
       "    </tr>\n",
       "    <tr>\n",
       "      <th>D</th>\n",
       "      <td>1.47</td>\n",
       "      <td>12.02</td>\n",
       "      <td>6.53</td>\n",
       "      <td>6.13</td>\n",
       "      <td>0.00</td>\n",
       "      <td>0.16</td>\n",
       "      <td>1.91</td>\n",
       "      <td>1.07</td>\n",
       "      <td>70.71</td>\n",
       "    </tr>\n",
       "    <tr>\n",
       "      <th>E</th>\n",
       "      <td>0.50</td>\n",
       "      <td>8.90</td>\n",
       "      <td>0.55</td>\n",
       "      <td>0.00</td>\n",
       "      <td>18.68</td>\n",
       "      <td>0.89</td>\n",
       "      <td>1.28</td>\n",
       "      <td>0.71</td>\n",
       "      <td>68.48</td>\n",
       "    </tr>\n",
       "    <tr>\n",
       "      <th>F</th>\n",
       "      <td>0.64</td>\n",
       "      <td>3.98</td>\n",
       "      <td>0.30</td>\n",
       "      <td>0.00</td>\n",
       "      <td>0.15</td>\n",
       "      <td>39.38</td>\n",
       "      <td>2.75</td>\n",
       "      <td>2.48</td>\n",
       "      <td>50.32</td>\n",
       "    </tr>\n",
       "    <tr>\n",
       "      <th>G</th>\n",
       "      <td>0.75</td>\n",
       "      <td>0.87</td>\n",
       "      <td>0.33</td>\n",
       "      <td>0.00</td>\n",
       "      <td>0.04</td>\n",
       "      <td>0.30</td>\n",
       "      <td>75.97</td>\n",
       "      <td>6.76</td>\n",
       "      <td>14.98</td>\n",
       "    </tr>\n",
       "    <tr>\n",
       "      <th>H</th>\n",
       "      <td>0.24</td>\n",
       "      <td>0.52</td>\n",
       "      <td>0.20</td>\n",
       "      <td>0.00</td>\n",
       "      <td>0.01</td>\n",
       "      <td>0.19</td>\n",
       "      <td>7.75</td>\n",
       "      <td>73.67</td>\n",
       "      <td>17.43</td>\n",
       "    </tr>\n",
       "    <tr>\n",
       "      <th>None</th>\n",
       "      <td>12.44</td>\n",
       "      <td>7.19</td>\n",
       "      <td>15.72</td>\n",
       "      <td>0.07</td>\n",
       "      <td>0.60</td>\n",
       "      <td>2.16</td>\n",
       "      <td>35.40</td>\n",
       "      <td>26.44</td>\n",
       "      <td>0.00</td>\n",
       "    </tr>\n",
       "  </tbody>\n",
       "</table>\n",
       "</div>"
      ],
      "text/plain": [
       "          A      B      C     D      E      F      G      H   None\n",
       "A     68.63   2.54   1.04  0.01   0.00   0.17   2.34   0.59  24.67\n",
       "B      1.36  39.85   2.57  0.01   0.04   2.18   4.01   2.56  47.41\n",
       "C      1.18   1.51  75.03  0.00   0.05   0.09   1.16   1.74  19.23\n",
       "D      1.47  12.02   6.53  6.13   0.00   0.16   1.91   1.07  70.71\n",
       "E      0.50   8.90   0.55  0.00  18.68   0.89   1.28   0.71  68.48\n",
       "F      0.64   3.98   0.30  0.00   0.15  39.38   2.75   2.48  50.32\n",
       "G      0.75   0.87   0.33  0.00   0.04   0.30  75.97   6.76  14.98\n",
       "H      0.24   0.52   0.20  0.00   0.01   0.19   7.75  73.67  17.43\n",
       "None  12.44   7.19  15.72  0.07   0.60   2.16  35.40  26.44   0.00"
      ]
     },
     "execution_count": 23,
     "metadata": {},
     "output_type": "execute_result"
    }
   ],
   "source": [
    "(conf_matrix.div(conf_matrix.sum(axis=1), axis=0).round(4) * 100)"
   ]
  },
  {
   "cell_type": "code",
   "execution_count": 22,
   "metadata": {
    "collapsed": false
   },
   "outputs": [
    {
     "data": {
      "text/html": [
       "<div>\n",
       "<table border=\"1\" class=\"dataframe\">\n",
       "  <thead>\n",
       "    <tr style=\"text-align: right;\">\n",
       "      <th></th>\n",
       "      <th>A</th>\n",
       "      <th>B</th>\n",
       "      <th>C</th>\n",
       "      <th>D</th>\n",
       "      <th>E</th>\n",
       "      <th>F</th>\n",
       "      <th>G</th>\n",
       "      <th>H</th>\n",
       "      <th>None</th>\n",
       "    </tr>\n",
       "  </thead>\n",
       "  <tbody>\n",
       "    <tr>\n",
       "      <th>A</th>\n",
       "      <td>68.63%</td>\n",
       "      <td>2.54%</td>\n",
       "      <td>1.04%</td>\n",
       "      <td>0.01%</td>\n",
       "      <td>0.00%</td>\n",
       "      <td>0.17%</td>\n",
       "      <td>2.34%</td>\n",
       "      <td>0.59%</td>\n",
       "      <td>24.67%</td>\n",
       "    </tr>\n",
       "    <tr>\n",
       "      <th>B</th>\n",
       "      <td>1.36%</td>\n",
       "      <td>39.85%</td>\n",
       "      <td>2.57%</td>\n",
       "      <td>0.01%</td>\n",
       "      <td>0.04%</td>\n",
       "      <td>2.18%</td>\n",
       "      <td>4.01%</td>\n",
       "      <td>2.56%</td>\n",
       "      <td>47.41%</td>\n",
       "    </tr>\n",
       "    <tr>\n",
       "      <th>C</th>\n",
       "      <td>1.18%</td>\n",
       "      <td>1.51%</td>\n",
       "      <td>75.03%</td>\n",
       "      <td>0.00%</td>\n",
       "      <td>0.05%</td>\n",
       "      <td>0.09%</td>\n",
       "      <td>1.16%</td>\n",
       "      <td>1.74%</td>\n",
       "      <td>19.23%</td>\n",
       "    </tr>\n",
       "    <tr>\n",
       "      <th>D</th>\n",
       "      <td>1.47%</td>\n",
       "      <td>12.02%</td>\n",
       "      <td>6.53%</td>\n",
       "      <td>6.13%</td>\n",
       "      <td>0.00%</td>\n",
       "      <td>0.16%</td>\n",
       "      <td>1.91%</td>\n",
       "      <td>1.07%</td>\n",
       "      <td>70.71%</td>\n",
       "    </tr>\n",
       "    <tr>\n",
       "      <th>E</th>\n",
       "      <td>0.50%</td>\n",
       "      <td>8.90%</td>\n",
       "      <td>0.55%</td>\n",
       "      <td>0.00%</td>\n",
       "      <td>18.68%</td>\n",
       "      <td>0.89%</td>\n",
       "      <td>1.28%</td>\n",
       "      <td>0.71%</td>\n",
       "      <td>68.48%</td>\n",
       "    </tr>\n",
       "    <tr>\n",
       "      <th>F</th>\n",
       "      <td>0.64%</td>\n",
       "      <td>3.98%</td>\n",
       "      <td>0.30%</td>\n",
       "      <td>0.00%</td>\n",
       "      <td>0.15%</td>\n",
       "      <td>39.38%</td>\n",
       "      <td>2.75%</td>\n",
       "      <td>2.48%</td>\n",
       "      <td>50.32%</td>\n",
       "    </tr>\n",
       "    <tr>\n",
       "      <th>G</th>\n",
       "      <td>0.75%</td>\n",
       "      <td>0.87%</td>\n",
       "      <td>0.33%</td>\n",
       "      <td>0.00%</td>\n",
       "      <td>0.04%</td>\n",
       "      <td>0.30%</td>\n",
       "      <td>75.97%</td>\n",
       "      <td>6.76%</td>\n",
       "      <td>14.98%</td>\n",
       "    </tr>\n",
       "    <tr>\n",
       "      <th>H</th>\n",
       "      <td>0.24%</td>\n",
       "      <td>0.52%</td>\n",
       "      <td>0.20%</td>\n",
       "      <td>0.00%</td>\n",
       "      <td>0.01%</td>\n",
       "      <td>0.19%</td>\n",
       "      <td>7.75%</td>\n",
       "      <td>73.67%</td>\n",
       "      <td>17.43%</td>\n",
       "    </tr>\n",
       "    <tr>\n",
       "      <th>None</th>\n",
       "      <td>12.44%</td>\n",
       "      <td>7.19%</td>\n",
       "      <td>15.72%</td>\n",
       "      <td>0.07%</td>\n",
       "      <td>0.60%</td>\n",
       "      <td>2.16%</td>\n",
       "      <td>35.40%</td>\n",
       "      <td>26.44%</td>\n",
       "      <td>0.00%</td>\n",
       "    </tr>\n",
       "  </tbody>\n",
       "</table>\n",
       "</div>"
      ],
      "text/plain": [
       "           A       B       C      D       E       F       G       H    None\n",
       "A     68.63%   2.54%   1.04%  0.01%   0.00%   0.17%   2.34%   0.59%  24.67%\n",
       "B      1.36%  39.85%   2.57%  0.01%   0.04%   2.18%   4.01%   2.56%  47.41%\n",
       "C      1.18%   1.51%  75.03%  0.00%   0.05%   0.09%   1.16%   1.74%  19.23%\n",
       "D      1.47%  12.02%   6.53%  6.13%   0.00%   0.16%   1.91%   1.07%  70.71%\n",
       "E      0.50%   8.90%   0.55%  0.00%  18.68%   0.89%   1.28%   0.71%  68.48%\n",
       "F      0.64%   3.98%   0.30%  0.00%   0.15%  39.38%   2.75%   2.48%  50.32%\n",
       "G      0.75%   0.87%   0.33%  0.00%   0.04%   0.30%  75.97%   6.76%  14.98%\n",
       "H      0.24%   0.52%   0.20%  0.00%   0.01%   0.19%   7.75%  73.67%  17.43%\n",
       "None  12.44%   7.19%  15.72%  0.07%   0.60%   2.16%  35.40%  26.44%   0.00%"
      ]
     },
     "execution_count": 22,
     "metadata": {},
     "output_type": "execute_result"
    }
   ],
   "source": [
    "format_perc = lambda x: \"{:.2f}%\".format(x)\n",
    "(conf_matrix.div(conf_matrix.sum(axis=1), axis=0).round(4) * 100).applymap(format_perc)"
   ]
  },
  {
   "cell_type": "code",
   "execution_count": 39,
   "metadata": {
    "collapsed": false
   },
   "outputs": [
    {
     "name": "stderr",
     "output_type": "stream",
     "text": [
      "2017-02-01 16:15:34,615 : INFO : Getting Valdiation Data\n"
     ]
    },
    {
     "name": "stdout",
     "output_type": "stream",
     "text": [
      "CPU times: user 2min 47s, sys: 2.84 s, total: 2min 49s\n",
      "Wall time: 2min 49s\n"
     ]
    },
    {
     "name": "stderr",
     "output_type": "stream",
     "text": [
      "2017-02-01 16:18:47,970 : INFO : Evaluating on Validation Data\n"
     ]
    },
    {
     "name": "stdout",
     "output_type": "stream",
     "text": [
      "CPU times: user 22.1 s, sys: 804 ms, total: 22.9 s\n",
      "Wall time: 22.8 s\n",
      "CPU times: user 1min 29s, sys: 152 ms, total: 1min 29s\n",
      "Wall time: 1min 29s\n",
      "CPU times: user 1min 28s, sys: 412 ms, total: 1min 28s\n",
      "Wall time: 1min 28s\n",
      "[[0 0 0 ..., 0 0 0]\n",
      " [0 0 0 ..., 0 0 0]\n",
      " [0 0 0 ..., 0 0 0]\n",
      " ..., \n",
      " [0 0 0 ..., 0 0 0]\n",
      " [0 0 0 ..., 0 0 0]\n",
      " [0 0 0 ..., 0 0 0]]\n",
      "CPU times: user 2min 53s, sys: 3.35 s, total: 2min 56s\n",
      "Wall time: 2min 56s\n",
      "** Validation Metrics: Cov Err: 123.907, Avg Labels: 1.240, \n",
      "\t\t Top 1: 0.001, Top 3: 0.003, Top 5: 0.006, \n",
      "\t\t F1 Micro: 0.000, F1 Macro: 0.000, Total Pos: 214,248\n"
     ]
    }
   ],
   "source": [
    "data_validation_location = exports_location + \"{}_validation_sparse_data.pkl\".format(data_type)\n",
    "data_validation_docids_location = exports_location + \"{}_validation_sparse_docids.pkl\".format(data_type)\n",
    "\n",
    "# Get the validation data\n",
    "info('Getting Valdiation Data')\n",
    "%time Xv = pickle.load(open(data_validation_location,'r'))\n",
    "validation_data_docids = pickle.load(open(data_validation_docids_location, \"r\"))\n",
    "%time yv = get_label_data(classifications, validation_data_docids, doc_classification_map)\n",
    "\n",
    "# Validation Metrics\n",
    "info('Evaluating on Validation Data')\n",
    "%time yvp = clf.predict(Xv)\n",
    "%time yvp_score = clf.decision_function(Xv)\n",
    "print yvp\n",
    "%time validation_metrics = get_metrics(yv, yvp_score, yvp)\n",
    "print \"** Validation Metrics: Cov Err: {:.3f}, Avg Labels: {:.3f}, \\n\\t\\t Top 1: {:.3f}, Top 3: {:.3f}, Top 5: {:.3f}, \\n\\t\\t F1 Micro: {:.3f}, F1 Macro: {:.3f}, Total Pos: {:,d}\".format(\n",
    "    validation_metrics['coverage_error'], validation_metrics['average_num_of_labels'], \n",
    "    validation_metrics['top_1'], validation_metrics['top_3'], validation_metrics['top_5'], \n",
    "    validation_metrics['f1_micro'], validation_metrics['f1_macro'], validation_metrics['total_positive'])\n"
   ]
  },
  {
   "cell_type": "code",
   "execution_count": null,
   "metadata": {
    "collapsed": true
   },
   "outputs": [],
   "source": []
  }
 ],
 "metadata": {
  "kernelspec": {
   "display_name": "Python 2",
   "language": "python",
   "name": "python2"
  },
  "language_info": {
   "codemirror_mode": {
    "name": "ipython",
    "version": 2
   },
   "file_extension": ".py",
   "mimetype": "text/x-python",
   "name": "python",
   "nbconvert_exporter": "python",
   "pygments_lexer": "ipython2",
   "version": "2.7.11+"
  }
 },
 "nbformat": 4,
 "nbformat_minor": 0
}
