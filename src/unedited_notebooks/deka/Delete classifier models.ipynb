{
 "cells": [
  {
   "cell_type": "code",
   "execution_count": 1,
   "metadata": {
    "collapsed": true
   },
   "outputs": [],
   "source": [
    "import os\n",
    "import shutil\n",
    "import re"
   ]
  },
  {
   "cell_type": "code",
   "execution_count": 2,
   "metadata": {
    "collapsed": true
   },
   "outputs": [],
   "source": [
    "def get_subdirectories(d):\n",
    "    #return filter(os.path.isdir, [f for f in os.listdir(d)])\n",
    "    return [f for f in os.listdir(d) if os.path.isdir(os.path.join(d,f))]\n",
    "def natural_sort(l): \n",
    "    convert = lambda text: int(text) if text.isdigit() else text.lower() \n",
    "    alphanum_key = lambda key: [ convert(c) for c in re.split('([0-9]+)', key) ] \n",
    "    return sorted(l, key = alphanum_key)"
   ]
  },
  {
   "cell_type": "markdown",
   "metadata": {},
   "source": [
    "## Deleting the NN classifiers"
   ]
  },
  {
   "cell_type": "code",
   "execution_count": null,
   "metadata": {
    "collapsed": true
   },
   "outputs": [],
   "source": [
    "CLASSIFIER = 'classifier.pkl'\n",
    "DIRECTORY_PREFIX = 'nn'\n",
    "EPOCH_PREFIX = 'epoch_{}'"
   ]
  },
  {
   "cell_type": "code",
   "execution_count": null,
   "metadata": {
    "collapsed": true
   },
   "outputs": [],
   "source": [
    "parent_directory = '/mnt/data2/shalaby/parameter_search_doc2vec_models_new/full/doc2vec_size_200_w_8_type_dm_concat_0_mean_1_trainwords_0_hs_0_neg_10_vocabsize_None'\n",
    "\n",
    "for epoch in get_subdirectories(parent_directory):\n",
    "    for classifier in get_subdirectories(os.path.join(parent_directory, epoch)):\n",
    "        if classifier.startswith(DIRECTORY_PREFIX):\n",
    "#             print classifier\n",
    "            if os.path.exists(os.path.join(parent_directory, epoch, classifier, CLASSIFIER)):\n",
    "                print \"deleting {}\".format(os.path.join(classifier, CLASSIFIER))\n",
    "                os.remove(os.path.join(parent_directory, epoch, classifier, CLASSIFIER))"
   ]
  },
  {
   "cell_type": "markdown",
   "metadata": {},
   "source": [
    "## Deleting Doc2vec models"
   ]
  },
  {
   "cell_type": "code",
   "execution_count": 3,
   "metadata": {
    "collapsed": true
   },
   "outputs": [],
   "source": [
    "EPOCH_PREFIX = 'epoch_{}'"
   ]
  },
  {
   "cell_type": "code",
   "execution_count": 21,
   "metadata": {
    "collapsed": false
   },
   "outputs": [
    {
     "name": "stdout",
     "output_type": "stream",
     "text": [
      "deleting 13\n",
      "deleting 14\n"
     ]
    }
   ],
   "source": [
    "direc_prefix = '/big/s/shalaby/parameter_search_doc2vec_models_new/sample_0.01/doc2vec_size_200_w_8_type_pv-dbow_concat_1_mean_0_trainwords_0_hs_0_neg_100_vocabsize_None'\n",
    "#to_delete = [8,9,10,11]\n",
    "# to_delete = [8]\n",
    "to_delete = range(2,8) + range(9,12) + range(13,15)\n",
    "\n",
    "for i in to_delete:\n",
    "    direc = os.path.join(direc_prefix, EPOCH_PREFIX.format(i))\n",
    "    if os.path.exists(direc):\n",
    "        model_folder_path = os.path.join(direc, \"model\")\n",
    "        if os.path.exists(os.path.join(model_folder_path)):\n",
    "            print \"deleting {}\".format(i)\n",
    "            os.remove(model_folder_path)\n",
    "            #os.remove(os.path.join(direc, \"model.docvecs.doctag_syn0.npy\"))\n",
    "            os.remove(os.path.join(direc, \"model.syn0.npy\"))\n",
    "            os.remove(os.path.join(direc, \"model.syn1neg.npy\"))\n",
    "#             os.remove(os.path.join())\n"
   ]
  },
  {
   "cell_type": "markdown",
   "metadata": {},
   "source": [
    "## Deleting Old Doc2vec models"
   ]
  },
  {
   "cell_type": "code",
   "execution_count": 4,
   "metadata": {
    "collapsed": true
   },
   "outputs": [],
   "source": [
    "EPOCH_PREFIX = 'curriter_{}'"
   ]
  },
  {
   "cell_type": "code",
   "execution_count": 8,
   "metadata": {
    "collapsed": false
   },
   "outputs": [
    {
     "name": "stdout",
     "output_type": "stream",
     "text": [
      "deleting 2\n",
      "deleting 3\n",
      "deleting 4\n",
      "deleting 5\n",
      "deleting 6\n",
      "deleting 7\n",
      "deleting 8\n",
      "deleting 9\n",
      "deleting 10\n",
      "deleting 11\n",
      "deleting 12\n",
      "deleting 13\n",
      "deleting 14\n",
      "deleting 15\n",
      "deleting 16\n",
      "deleting 17\n",
      "deleting 18\n",
      "deleting 19\n"
     ]
    }
   ],
   "source": [
    "direc_prefix = '/big/s/shalaby/parameter_search_doc2vec_models/sample_0.0001/doc2vec_size_1000_w_8_type_dm_concat_1_mean_0_trainwords_0_hs_0_neg_10_vocabsize_None_'\n",
    "#to_delete = [8,9,10,11]\n",
    "to_delete = range(2,20)\n",
    "\n",
    "for i in to_delete:\n",
    "    direc = os.path.join(direc_prefix + EPOCH_PREFIX.format(i))\n",
    "    if os.path.exists(direc):\n",
    "        #model_folder_path = os.path.join(direc, \"model.docvecs.doctag_syn0.npy\")\n",
    "        model_folder_path = os.path.join(direc, \"validation_matrix.pkl\")\n",
    "        if os.path.exists(os.path.join(model_folder_path)):\n",
    "            print \"deleting {}\".format(i)\n",
    "            os.remove(model_folder_path)\n",
    "            #os.remove(os.path.join(direc, \"model.docvecs.doctag_syn0.npy\"))\n",
    "#             os.remove(os.path.join(direc, \"model.syn0.npy\"))\n",
    "#             os.remove(os.path.join(direc, \"model.syn1neg.npy\"))\n"
   ]
  },
  {
   "cell_type": "code",
   "execution_count": null,
   "metadata": {
    "collapsed": true
   },
   "outputs": [],
   "source": []
  }
 ],
 "metadata": {
  "kernelspec": {
   "display_name": "Python 2",
   "language": "python",
   "name": "python2"
  },
  "language_info": {
   "codemirror_mode": {
    "name": "ipython",
    "version": 2
   },
   "file_extension": ".py",
   "mimetype": "text/x-python",
   "name": "python",
   "nbconvert_exporter": "python",
   "pygments_lexer": "ipython2",
   "version": "2.7.11+"
  }
 },
 "nbformat": 4,
 "nbformat_minor": 0
}
