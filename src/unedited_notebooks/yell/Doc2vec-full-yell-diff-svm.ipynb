{
 "cells": [
  {
   "cell_type": "code",
   "execution_count": 1,
   "metadata": {
    "collapsed": false
   },
   "outputs": [
    {
     "name": "stderr",
     "output_type": "stream",
     "text": [
      "Using gpu device 0: Tesla K40m (CNMeM is disabled, cuDNN 5105)\n",
      "/home/stud/shalaby/.virtualenv/thesis-env/local/lib/python2.7/site-packages/theano/sandbox/cuda/__init__.py:600: UserWarning: Your cuDNN version is more recent than the one Theano officially supports. If you see any problems, try updating Theano or downgrading cuDNN to version 5.\n",
      "  warnings.warn(warn)\n"
     ]
    }
   ],
   "source": [
    "import json\n",
    "import nltk\n",
    "from nltk.tokenize import RegexpTokenizer\n",
    "import string\n",
    "import math\n",
    "import os\n",
    "import time\n",
    "from collections import namedtuple\n",
    "import cPickle as pickle\n",
    "import pandas as pd\n",
    "\n",
    "%matplotlib inline\n",
    "import matplotlib.pyplot as plt\n",
    "import matplotlib as mpl\n",
    "import numpy as np\n",
    "import random\n",
    "\n",
    "from multiprocessing.dummy import Pool as ThreadPool\n",
    "import itertools\n",
    "\n",
    "from sklearn.metrics import coverage_error\n",
    "import sklearn.metrics\n",
    "from sklearn.multiclass import OneVsRestClassifier\n",
    "from sklearn import linear_model\n",
    "from sklearn.preprocessing import MultiLabelBinarizer\n",
    "\n",
    "from gensim.models.doc2vec import Doc2Vec, LabeledSentence\n",
    "\n",
    "import logging\n",
    "from logging import info\n",
    "from functools import partial\n",
    "\n",
    "from thesis.utils.metrics import *"
   ]
  },
  {
   "cell_type": "code",
   "execution_count": 2,
   "metadata": {
    "collapsed": true
   },
   "outputs": [],
   "source": [
    "root = logging.getLogger()\n",
    "for handler in root.handlers[:]:\n",
    "    root.removeHandler(handler)\n",
    "logging.basicConfig(format='%(asctime)s : %(levelname)s : %(message)s', level=logging.INFO) # adds a default StreamHanlder\n",
    "#root.addHandler(logging.StreamHandler())"
   ]
  },
  {
   "cell_type": "code",
   "execution_count": 3,
   "metadata": {
    "collapsed": true
   },
   "outputs": [],
   "source": [
    "IS_SAMPLE = False"
   ]
  },
  {
   "cell_type": "code",
   "execution_count": 4,
   "metadata": {
    "collapsed": true
   },
   "outputs": [],
   "source": [
    "SVM_SEED = 1234\n",
    "DOC2VEC_SEED = 1234\n",
    "WORD2VEC_SEED = 1234"
   ]
  },
  {
   "cell_type": "code",
   "execution_count": 5,
   "metadata": {
    "collapsed": true
   },
   "outputs": [],
   "source": [
    "NUMBER_INDICATOR = \"number_inidicator\"\n",
    "CURRENCY_INDICATOR = \"currency_inidicator\"\n",
    "CHEMICAL_INDICATOR = \"chemical_inidicator\"\n",
    "MIN_WORD_COUNT = 100\n",
    "MIN_SIZE = 0\n",
    "NUM_CORES = 14"
   ]
  },
  {
   "cell_type": "code",
   "execution_count": 6,
   "metadata": {
    "collapsed": false
   },
   "outputs": [],
   "source": [
    "GLOBAL_VARS = namedtuple('GLOBAL_VARS', ['MODEL_NAME', 'DOC2VEC_MODEL_NAME', 'DOC2VEC_MODEL', \n",
    "                                         'SVM_MODEL_NAME', 'NN_MODEL_NAME'])"
   ]
  },
  {
   "cell_type": "code",
   "execution_count": 7,
   "metadata": {
    "collapsed": true
   },
   "outputs": [],
   "source": [
    "VOCAB_MODEL = \"vocab_model\"\n",
    "MODEL_PREFIX = \"model\"\n",
    "VALIDATION_MATRIX = \"validation_matrix.pkl\"\n",
    "METRICS = \"metrics.pkl\"\n",
    "CLASSIFIER = \"classifier.pkl\""
   ]
  },
  {
   "cell_type": "code",
   "execution_count": 8,
   "metadata": {
    "collapsed": false
   },
   "outputs": [],
   "source": [
    "#training_file = \"/home/local/shalaby/docs_output_sample_100.json\"\n",
    "\n",
    "root_location = \"/mnt/data2/shalaby/\"\n",
    "exports_location = root_location + \"exported_data/\"\n",
    "\n",
    "doc2vec_model_save_location = os.path.join(root_location, \"parameter_search_doc2vec_models_new\", \"full\")\n",
    "if not os.path.exists(doc2vec_model_save_location):\n",
    "    os.makedirs(doc2vec_model_save_location)\n",
    "if not os.path.exists(os.path.join(doc2vec_model_save_location, VOCAB_MODEL)):\n",
    "    os.makedirs(os.path.join(doc2vec_model_save_location, VOCAB_MODEL))\n",
    "\n",
    "training_file = root_location + \"docs_output.json\"\n",
    "\n",
    "doc_classifications_map_file = exports_location + \"doc_classification_map.pkl\"\n",
    "classification_index_file = exports_location + \"classification_index.pkl\"\n",
    "sections_file = exports_location + \"sections.pkl\"\n",
    "classes_file = exports_location + \"classes.pkl\"\n",
    "subclasses_file = exports_location + \"subclasses.pkl\"\n",
    "classifications_output = exports_location + \"classifications.pkl\"\n",
    "training_docs_list_file = exports_location + \"training_docs_list.pkl\"\n",
    "validation_docs_list_file = exports_location + \"validation_docs_list.pkl\"\n",
    "test_docs_list_file = exports_location + \"test_docs_list.pkl\"\n",
    "\n",
    "preprocessed_location = root_location + \"preprocessed_data/\"\n",
    "\n",
    "training_preprocessed_files_prefix = preprocessed_location + \"training_docs_merged_data_preprocessed-\"\n",
    "training_preprocessed_docids_files_prefix = preprocessed_location + \"training_docs_merged_docids_preprocessed-\"\n",
    "validation_preprocessed_files_prefix = preprocessed_location + \"validation_docs_merged_data_preprocessed-\"\n",
    "validation_preprocessed_docids_files_prefix = preprocessed_location + \"validation_docs_merged_docids_preprocessed-\"\n",
    "\n",
    "word2vec_questions_file = result = root_location + 'tensorflow/word2vec/questions-words.txt'"
   ]
  },
  {
   "cell_type": "code",
   "execution_count": 9,
   "metadata": {
    "collapsed": false
   },
   "outputs": [
    {
     "name": "stdout",
     "output_type": "stream",
     "text": [
      "CPU times: user 24.9 s, sys: 1.45 s, total: 26.4 s\n",
      "Wall time: 26.4 s\n"
     ]
    }
   ],
   "source": [
    "%%time\n",
    "doc_classification_map = pickle.load(open(doc_classifications_map_file))\n",
    "classifications_index = pickle.load(open(classification_index_file))\n",
    "sections = pickle.load(open(sections_file))\n",
    "classes = pickle.load(open(classes_file))\n",
    "subclasses = pickle.load(open(subclasses_file))\n",
    "training_docs_list = pickle.load(open(training_docs_list_file))\n",
    "validation_docs_list = pickle.load(open(validation_docs_list_file))\n",
    "#test_docs_list = pickle.load(open(test_docs_list_file))"
   ]
  },
  {
   "cell_type": "code",
   "execution_count": 10,
   "metadata": {
    "collapsed": false
   },
   "outputs": [
    {
     "data": {
      "text/plain": [
       "1286325"
      ]
     },
     "execution_count": 10,
     "metadata": {},
     "output_type": "execute_result"
    }
   ],
   "source": [
    "len(training_docs_list)"
   ]
  },
  {
   "cell_type": "code",
   "execution_count": 11,
   "metadata": {
    "collapsed": false
   },
   "outputs": [
    {
     "data": {
      "text/plain": [
       "321473"
      ]
     },
     "execution_count": 11,
     "metadata": {},
     "output_type": "execute_result"
    }
   ],
   "source": [
    "len(validation_docs_list)"
   ]
  },
  {
   "cell_type": "code",
   "execution_count": 12,
   "metadata": {
    "collapsed": true
   },
   "outputs": [],
   "source": [
    "INVALID_CLASSIFICATION_LIMIT = 3\n",
    "invalid_classes = set()\n",
    "invalid_subclasses = set()\n",
    "for clsf in classifications_index.keys():\n",
    "    if len(classifications_index[clsf]) < INVALID_CLASSIFICATION_LIMIT:\n",
    "        if clsf in classes:\n",
    "            invalid_classes.add(clsf)\n",
    "        if clsf in subclasses:\n",
    "            invalid_subclasses.add(clsf)\n",
    "valid_classes = sorted(list(set(classes) - invalid_classes))\n",
    "valid_subclasses = sorted(list(set(subclasses) - invalid_subclasses))"
   ]
  },
  {
   "cell_type": "code",
   "execution_count": 13,
   "metadata": {
    "collapsed": true
   },
   "outputs": [],
   "source": [
    "def stemtokenizer(text):\n",
    "    \"\"\" MAIN FUNCTION to get clean stems out of a text. A list of clean stems are returned \"\"\"\n",
    "    tokenizer = RegexpTokenizer(r'\\s+', gaps=True)\n",
    "    tokens = tokenizer.tokenize(text)\n",
    "    stems = []  # result\n",
    "    for token in tokens:\n",
    "        stem = token.lower()\n",
    "        stem = stem.strip(string.punctuation)\n",
    "        if stem:\n",
    "            if is_number(stem):\n",
    "                stem = NUMBER_INDICATOR\n",
    "            elif is_currency(stem):\n",
    "                stem = CURRENCY_INDICATOR\n",
    "            elif is_chemical(stem):\n",
    "                stem = CHEMICAL_INDICATOR\n",
    "            else:\n",
    "                stem = stem.strip(string.punctuation)\n",
    "            if stem and len(stem) >= MIN_SIZE:\n",
    "                # extract uni-grams\n",
    "                stems.append(stem)\n",
    "    del tokens\n",
    "    return stems\n",
    "\n",
    "def is_number(str):\n",
    "    \"\"\" Returns true if given string is a number (float or int)\"\"\"\n",
    "    try:\n",
    "        float(str.replace(\",\", \"\"))\n",
    "        return True\n",
    "    except ValueError:\n",
    "        return False\n",
    "\n",
    "def is_currency(str):\n",
    "    return str[0] == \"$\"\n",
    "\n",
    "def is_chemical(str):\n",
    "    return str.count(\"-\") > 3"
   ]
  },
  {
   "cell_type": "code",
   "execution_count": 14,
   "metadata": {
    "collapsed": false
   },
   "outputs": [],
   "source": [
    "def ensure_hdfs_location_exists(location):\n",
    "    parent = os.path.dirname(location)\n",
    "    os.system(\"hdfs dfs -mkdir -p \" + location)\n",
    "\n",
    "def ensure_disk_location_exists(location):\n",
    "    if not os.path.exists(location):\n",
    "        os.makedirs(location)"
   ]
  },
  {
   "cell_type": "code",
   "execution_count": 15,
   "metadata": {
    "collapsed": false
   },
   "outputs": [],
   "source": [
    "def get_validation_docs_with_inference(doc2vec_model, doc_classification_map):\n",
    "    \"\"\"\n",
    "    Use the trained doc2vec model to get the paragraph vector representations of the validation documents\n",
    "    \"\"\"\n",
    "    if os.path.exists(os.path.join(doc2vec_model_save_location, GLOBAL_VARS.MODEL_NAME, VALIDATION_MATRIX)):\n",
    "        info(\"===== Loading validation vectors\")\n",
    "        validation_vectors_matrix = pickle.load(open(os.path.join(doc2vec_model_save_location, GLOBAL_VARS.MODEL_NAME, VALIDATION_MATRIX)))\n",
    "    else:\n",
    "        validation_documents_reps = {}\n",
    "        validation_vectors = []\n",
    "        validation_labels = []\n",
    "        info(\"===== Getting validation vectors with inference\")\n",
    "\n",
    "        # do inference and store results in dict\n",
    "        i = 0\n",
    "        for (doc_id, doc_contents_array) in ValidationDocumentGenerator(training_file, validation_docs_list):\n",
    "            i += 1\n",
    "            if i % 1000 == 0: info(\"Finished: {}\".format(str(i)))\n",
    "            validation_documents_reps[doc_id] = doc2vec_model.infer_vector(doc_contents_array)\n",
    "\n",
    "        # create matrix for the validation vectors\n",
    "        for validation_doc_id in validation_docs_list:\n",
    "            validation_vectors.append(validation_documents_reps[validation_doc_id])\n",
    "            validation_labels.append([classf for classf in doc_classification_map[validation_doc_id] if classf in sections])\n",
    "        validation_vectors_matrix = np.array(validation_vectors)\n",
    "        pickle.dump(validation_vectors_matrix, open(os.path.join(doc2vec_model_save_location, GLOBAL_VARS.MODEL_NAME, VALIDATION_MATRIX), 'w'))\n",
    "    \n",
    "    return validation_vectors_matrix"
   ]
  },
  {
   "cell_type": "code",
   "execution_count": 16,
   "metadata": {
    "collapsed": true
   },
   "outputs": [],
   "source": [
    "def get_validation_docs_with_inference_new(doc2vec_model, doc_classification_map, classifications, \n",
    "                                           val_docs_list, val_preprocessed_files_prefix, val_preprocessed_docids_files_prefix):\n",
    "    \"\"\"\n",
    "    Use the trained doc2vec model to get the paragraph vector representations of the validation documents\n",
    "    \"\"\"\n",
    "\n",
    "    def infer_one_doc(doc_tuple):\n",
    "        #doc2vec_model.random = np.random.RandomState(DOC2VEC_SEED)\n",
    "        doc_id, doc_tokens = doc_tuple\n",
    "        rep = doc2vec_model.infer_vector(doc_tokens)\n",
    "        return (doc_id, rep)\n",
    "\n",
    "    one_hot_encoder = OneHotEncoder(classifications)\n",
    "    if os.path.exists(os.path.join(doc2vec_model_save_location, GLOBAL_VARS.MODEL_NAME, VALIDATION_MATRIX)):\n",
    "        info(\"===== Loading validation vectors\")\n",
    "        validation_labels = []\n",
    "        validation_vectors_matrix = pickle.load(open(os.path.join(doc2vec_model_save_location, GLOBAL_VARS.MODEL_NAME, VALIDATION_MATRIX)))\n",
    "        for validation_doc_id in val_docs_list:\n",
    "            val_labels = [classf for classf in doc_classification_map[validation_doc_id] if classf in classifications]\n",
    "            validation_labels.append(one_hot_encoder.get_label_vector(val_labels))\n",
    "        validation_labels = np.array(validation_labels)\n",
    "    else:\n",
    "        validation_documents_reps = {}\n",
    "        validation_vectors = []\n",
    "        validation_labels = []\n",
    "        info(\"===== Getting validation vectors with inference\")\n",
    "\n",
    "        # Single-threaded inference\n",
    "        # do inference and store results in dict\n",
    "#         i = 0\n",
    "        \n",
    "#         validation_docs_iterator = DocumentBatchGenerator(val_preprocessed_files_prefix, \n",
    "#                                                         val_preprocessed_docids_files_prefix, batch_size=None)\n",
    "#         for (doc_id, doc_contents_array) in validation_docs_iterator:\n",
    "#             i += 1\n",
    "#             if i % 1000 == 0: info(\"Finished: {}\".format(str(i)))\n",
    "#             validation_documents_reps[doc_id] = doc2vec_model.infer_vector(doc_contents_array)\n",
    "        \n",
    "        # Multi-threaded inference\n",
    "        validation_docs_iterator = DocumentBatchGenerator(validation_preprocessed_files_prefix, \n",
    "                                                          validation_preprocessed_docids_files_prefix, batch_size=None)\n",
    "        generator_func = validation_docs_iterator.__iter__()\n",
    "        pool = ThreadPool(NUM_CORES)\n",
    "        # map consumes the whole iterator on the spot, so we have to use itertools.islice to fake mini-batching\n",
    "        validation_documents_reps = {}\n",
    "        mini_batch_size = 1000\n",
    "        while True:\n",
    "            threaded_reps_partial = pool.map(infer_one_doc, itertools.islice(generator_func, mini_batch_size))\n",
    "            info(\"Finished: {}\".format(str(validation_docs_iterator.curr_index)))\n",
    "            if threaded_reps_partial:\n",
    "                #threaded_reps.extend(threaded_reps_partial)\n",
    "                validation_documents_reps.update(threaded_reps_partial)\n",
    "            else:\n",
    "                break\n",
    "\n",
    "                \n",
    "        # create matrix for the validation vectors\n",
    "        for validation_doc_id in val_docs_list:\n",
    "            validation_vectors.append(validation_documents_reps[validation_doc_id])\n",
    "            val_labels = [classf for classf in doc_classification_map[validation_doc_id] if classf in classifications]\n",
    "            validation_labels.append(one_hot_encoder.get_label_vector(val_labels))\n",
    "        validation_vectors_matrix = np.array(validation_vectors)\n",
    "        validation_labels = np.array(validation_labels)\n",
    "        pickle.dump(validation_vectors_matrix, open(os.path.join(doc2vec_model_save_location, GLOBAL_VARS.MODEL_NAME, VALIDATION_MATRIX), 'w'))\n",
    "    \n",
    "    return validation_vectors_matrix, validation_labels"
   ]
  },
  {
   "cell_type": "code",
   "execution_count": 17,
   "metadata": {
    "collapsed": true
   },
   "outputs": [],
   "source": [
    "def get_validation_doc2vec_spark_vectors(validation_vectors_matrix, classification, doc_classification_map):\n",
    "    validation_vectors = []\n",
    "    for (index, doc_id) in enumerate(validation_docs_list):\n",
    "        # converting from memmap to a normal array as spark is unable to convert memmap to a spark Vector\n",
    "        validation_vector = validation_vectors_matrix[index]\n",
    "        validation_vectors.append(get_training_vector(classification, validation_vector, \n",
    "                                                    doc_classification_map[doc_id]))\n",
    "    validation_vectors = sc.parallelize(validation_vectors)\n",
    "    info(\"Finished getting validation vectors\")\n",
    "    return validation_vectors"
   ]
  },
  {
   "cell_type": "code",
   "execution_count": 18,
   "metadata": {
    "collapsed": true
   },
   "outputs": [],
   "source": [
    "class OneHotEncoder():\n",
    "    \n",
    "    def __init__(self, classifications):\n",
    "        self.classifications = classifications\n",
    "        self.one_hot_indices = {}\n",
    "\n",
    "        # convert character classifications to bit vectors\n",
    "        for i, clssf in enumerate(classifications):\n",
    "            bits = [0] * len(classifications)\n",
    "            bits[i] = 1\n",
    "            self.one_hot_indices[clssf] = i\n",
    "    \n",
    "    def get_label_vector(self, labels):\n",
    "        \"\"\"\n",
    "        classes: array of string with the classes assigned to the instance\n",
    "        \"\"\"\n",
    "        output_vector = [0] * len(self.classifications)\n",
    "        for label in labels:\n",
    "            index = self.one_hot_indices[label]\n",
    "            output_vector[index] = 1\n",
    "            \n",
    "        return output_vector\n",
    "\n",
    "def get_training_data(doc2vec_model, classifications):\n",
    "    one_hot_encoder = OneHotEncoder(classifications)\n",
    "    training_data = []\n",
    "    training_labels = []\n",
    "    for doc_id in training_docs_list:\n",
    "        # converting from memmap to a normal array\n",
    "        normal_array = []\n",
    "        normal_array[:] = doc2vec_model.docvecs[doc_id][:]\n",
    "        training_data.append(normal_array)\n",
    "        eligible_classifications = [clssf for clssf in doc_classification_map[doc_id] if clssf in classifications]\n",
    "        training_labels.append(one_hot_encoder.get_label_vector(eligible_classifications))\n",
    "    training_labels = np.array(training_labels)\n",
    "    return training_data, training_labels"
   ]
  },
  {
   "cell_type": "code",
   "execution_count": 19,
   "metadata": {
    "collapsed": false
   },
   "outputs": [],
   "source": [
    "class TrainingDocumentGenerator(object):\n",
    "    def __init__(self, filename, training_docs_list):\n",
    "        self.filename = filename\n",
    "        self.training_docs_list = training_docs_list\n",
    "    def __iter__(self):\n",
    "        with open(self.filename) as file_obj:\n",
    "            for line in file_obj:\n",
    "                if not line.strip(): continue\n",
    "                (doc_id, text) = eval(line)\n",
    "                if doc_id in self.training_docs_list:\n",
    "                    yield LabeledSentence(words=stemtokenizer(text), tags=[doc_id])\n",
    "                    \n",
    "class DocumentBatchGenerator(object):\n",
    "    def __init__(self, filename_prefix, filename_docids_prefix, batch_size=10000 ):\n",
    "        \"\"\"\n",
    "        batch_size cant be > 10,000 due to a limitation in doc2vec training, \n",
    "        None means no batching (only use for inference)\n",
    "        \"\"\"\n",
    "        assert batch_size <= 10000 or batch_size is None\n",
    "        self.filename_prefix = filename_prefix\n",
    "        self.filename_docids_prefix = filename_docids_prefix\n",
    "        self.curr_lines = []\n",
    "        self.curr_docids = []\n",
    "        self.batch_size = batch_size\n",
    "        self.curr_index = 0\n",
    "        self.batch_end = -1\n",
    "    def load_new_batch_in_memory(self):\n",
    "        del self.curr_lines, self.curr_docids\n",
    "        self.curr_lines, self.docids = [], []\n",
    "        info(\"Loading new batch for index: {}\".format(self.curr_index) )\n",
    "        try:\n",
    "            with open(self.filename_prefix + str(self.curr_index)) as preproc_file:\n",
    "                for line in preproc_file:\n",
    "                    self.curr_lines.append(line.split(\" \"))\n",
    "#                     if i % 1000 == 0:\n",
    "#                         print i\n",
    "            self.curr_docids = pickle.load(open(self.filename_docids_prefix + str(self.curr_index), \"r\"))\n",
    "            self.batch_end = self.curr_index + len(self.curr_lines) -1 \n",
    "            info(\"Finished loading new batch\")\n",
    "        except IOError:\n",
    "            info(\"No more batches to load, exiting at index: {}\".format(self.curr_index))\n",
    "            raise StopIteration()\n",
    "    def __iter__(self):\n",
    "        while True:\n",
    "            if self.curr_index > self.batch_end:\n",
    "                self.load_new_batch_in_memory()\n",
    "            for (doc_id, tokens) in zip(self.curr_docids, self.curr_lines):\n",
    "                if self.batch_size is not None:\n",
    "                    curr_batch_iter = 0\n",
    "                    # divide the document to batches according to the batch size\n",
    "                    while curr_batch_iter < len(tokens):\n",
    "                        yield LabeledSentence(words=tokens[curr_batch_iter: curr_batch_iter + self.batch_size], tags=[doc_id])\n",
    "                        curr_batch_iter += self.batch_size\n",
    "                else:\n",
    "                    yield doc_id, tokens\n",
    "                self.curr_index += 1\n",
    "\n",
    "class Word2VecTrainingDocumentGenerator(object):\n",
    "    def __init__(self, filename, training_docs_list):\n",
    "        self.filename = filename\n",
    "        self.training_docs_list = training_docs_list\n",
    "    def __iter__(self):\n",
    "        with open(self.filename) as file_obj:\n",
    "            for line in file_obj:\n",
    "                if not line.strip(): continue\n",
    "                (doc_id, text) = eval(line)\n",
    "                if doc_id in self.training_docs_list:\n",
    "                    yield stemtokenizer(text)\n",
    "                \n",
    "class ValidationDocumentGenerator(object):\n",
    "    def __init__(self, filename, validation_docs_list):\n",
    "        self.filename = filename\n",
    "        self.validation_docs_list = validation_docs_list\n",
    "    def __iter__(self):\n",
    "        with open(self.filename) as file_obj:\n",
    "            for line in file_obj:\n",
    "                if not line.strip(): continue\n",
    "                (doc_id, text) = eval(line)\n",
    "                if doc_id in self.validation_docs_list:\n",
    "                    yield doc_id, stemtokenizer(text)\n",
    "                    \n",
    "class StochasticDocumentGenerator(object):\n",
    "    \"\"\"\n",
    "    Randomly shuffle rows while reading them\n",
    "    \"\"\"\n",
    "    def __init__(self, filename, training_docs_list, line_positions):\n",
    "        self.filename = filename\n",
    "        self.training_docs_list = training_docs_list\n",
    "        self.line_positions = line_positions\n",
    "        self.lines = set(line_positions.keys())\n",
    "    def __iter__(self):\n",
    "        with open(self.filename) as file_obj:\n",
    "            while len(self.lines) > 0:\n",
    "                random_line = random.sample(self.lines,1)[0]\n",
    "                self.lines.remove(random_line)\n",
    "                file_obj.seek(self.line_positions[random_line])\n",
    "                line = file_obj.readline()\n",
    "                if not line.strip(): continue\n",
    "#                 print random_line, self.line_positions[random_line], line[:30]\n",
    "                (doc_id, text) = eval(line)\n",
    "                # print random_line , doc_id\n",
    "                if doc_id in self.training_docs_list:\n",
    "                    yield LabeledSentence(words=stemtokenizer(text), tags=[doc_id])\n",
    "#                     yield doc_id"
   ]
  },
  {
   "cell_type": "markdown",
   "metadata": {},
   "source": [
    "### Doc2vec and SVM Parameters"
   ]
  },
  {
   "cell_type": "code",
   "execution_count": 30,
   "metadata": {
    "collapsed": true
   },
   "outputs": [],
   "source": [
    "DOC2VEC_SIZE = 200\n",
    "DOC2VEC_WINDOW = 8\n",
    "DOC2VEC_MAX_VOCAB_SIZE = None\n",
    "DOC2VEC_SAMPLE = 1e-3\n",
    "DOC2VEC_TYPE = 1\n",
    "DOC2VEC_HIERARCHICAL_SAMPLE = 0\n",
    "DOC2VEC_NEGATIVE_SAMPLE_SIZE = 10\n",
    "DOC2VEC_CONCAT = 1\n",
    "DOC2VEC_MEAN = 0\n",
    "DOC2VEC_TRAIN_WORDS = 0\n",
    "DOC2VEC_EPOCHS = 1 # we do our training manually one epoch at a time\n",
    "DOC2VEC_MAX_EPOCHS = 20\n",
    "REPORT_DELAY = 20 # report the progress every x seconds\n",
    "REPORT_VOCAB_PROGRESS = 10000 # report vocab progress every x documents"
   ]
  },
  {
   "cell_type": "code",
   "execution_count": 31,
   "metadata": {
    "collapsed": false
   },
   "outputs": [],
   "source": [
    "SVM_ITERATIONS = 100\n",
    "SVM_CONVERGENCE = 0.001\n",
    "SVM_REG = 0.01\n",
    "SVM_CLASS_WEIGHTS = 'balanced'\n",
    "GLOBAL_VARS.SVM_MODEL_NAME = 'svm_iter_{}_reg_{}_classweights_{}'.format(SVM_ITERATIONS, SVM_REG, str(SVM_CLASS_WEIGHTS))"
   ]
  },
  {
   "cell_type": "code",
   "execution_count": 22,
   "metadata": {
    "collapsed": true
   },
   "outputs": [],
   "source": [
    "def get_svm_model_path(method, classification, reg=SVM_REG, iterations=SVM_ITERATIONS):\n",
    "    location = os.path.join(save_parent_location, \"models\", method, \n",
    "                            \"iter_\" + str(iterations) + \"_reg_\" + str(reg),\n",
    "                            classification + \"_model.svm\")\n",
    "    ensure_hdfs_location_exists(location)\n",
    "    return location"
   ]
  },
  {
   "cell_type": "markdown",
   "metadata": {},
   "source": [
    "## Create the Doc2vec model"
   ]
  },
  {
   "cell_type": "code",
   "execution_count": 23,
   "metadata": {
    "collapsed": false
   },
   "outputs": [
    {
     "data": {
      "text/plain": [
       "'doc2vec_size_200_w_8_type_dm_concat_1_mean_0_trainwords_0_hs_0_neg_10_vocabsize_None/epoch_{}'"
      ]
     },
     "execution_count": 23,
     "metadata": {},
     "output_type": "execute_result"
    }
   ],
   "source": [
    "placeholder_model_name = 'doc2vec_size_{}_w_{}_type_{}_concat_{}_mean_{}_trainwords_{}_hs_{}_neg_{}_vocabsize_{}'.format(DOC2VEC_SIZE, \n",
    "                                                                DOC2VEC_WINDOW, \n",
    "                                                                'dm' if DOC2VEC_TYPE == 1 else 'pv-dbow',\n",
    "                                                                DOC2VEC_CONCAT, DOC2VEC_MEAN,\n",
    "                                                                DOC2VEC_TRAIN_WORDS,\n",
    "                                                                DOC2VEC_HIERARCHICAL_SAMPLE,DOC2VEC_NEGATIVE_SAMPLE_SIZE,\n",
    "                                                                str(DOC2VEC_MAX_VOCAB_SIZE))\n",
    "GLOBAL_VARS.DOC2VEC_MODEL_NAME = placeholder_model_name\n",
    "placeholder_model_name = os.path.join(placeholder_model_name, \"epoch_{}\")\n",
    "placeholder_model_name"
   ]
  },
  {
   "cell_type": "code",
   "execution_count": 24,
   "metadata": {
    "collapsed": false
   },
   "outputs": [],
   "source": [
    "doc2vec_model = Doc2Vec(size=DOC2VEC_SIZE , window=DOC2VEC_WINDOW, min_count=MIN_WORD_COUNT, \n",
    "                max_vocab_size= DOC2VEC_MAX_VOCAB_SIZE,\n",
    "                sample=DOC2VEC_SAMPLE, seed=DOC2VEC_SEED, workers=NUM_CORES,\n",
    "                # doc2vec algorithm dm=1 => PV-DM, dm=2 => PV-DBOW, PV-DM dictates CBOW for words\n",
    "                dm=DOC2VEC_TYPE,\n",
    "                # hs=0 => negative sampling, hs=1 => hierarchical softmax\n",
    "                hs=DOC2VEC_HIERARCHICAL_SAMPLE, negative=DOC2VEC_NEGATIVE_SAMPLE_SIZE,\n",
    "                dm_concat=DOC2VEC_CONCAT,\n",
    "                # would train words with skip-gram on top of cbow, we don't need that for now\n",
    "                dbow_words=DOC2VEC_TRAIN_WORDS,\n",
    "                iter=DOC2VEC_EPOCHS)\n",
    "\n",
    "GLOBAL_VARS.DOC2VEC_MODEL = doc2vec_model"
   ]
  },
  {
   "cell_type": "code",
   "execution_count": null,
   "metadata": {
    "collapsed": false
   },
   "outputs": [],
   "source": [
    "%%time\n",
    "training_docs_iterator = DocumentBatchGenerator(training_preprocessed_files_prefix, \n",
    "                                                        training_preprocessed_docids_files_prefix, batch_size=10000)\n",
    "if not os.path.exists(os.path.join(doc2vec_model_save_location, VOCAB_MODEL, MODEL_PREFIX)):\n",
    "    doc2vec_model.build_vocab(sentences=training_docs_iterator, progress_per=REPORT_VOCAB_PROGRESS)\n",
    "    doc2vec_model.save(os.path.join(doc2vec_model_save_location, VOCAB_MODEL, MODEL_PREFIX))\n",
    "else:\n",
    "    doc2vec_model_vocab_model = Doc2Vec.load(os.path.join(doc2vec_model_save_location, VOCAB_MODEL, MODEL_PREFIX))\n",
    "    doc2vec_model.reset_from(doc2vec_model_vocab_model)"
   ]
  },
  {
   "cell_type": "code",
   "execution_count": 25,
   "metadata": {
    "collapsed": true
   },
   "outputs": [],
   "source": [
    "# vocab_counts = {k:doc2vec_model.vocab[k].count for k in doc2vec_model.vocab.keys()}\n",
    "# dd = sorted(vocab_counts, key=vocab_counts.get)"
   ]
  },
  {
   "cell_type": "markdown",
   "metadata": {},
   "source": [
    "## Actual Training, validation and Metrics Loop"
   ]
  },
  {
   "cell_type": "code",
   "execution_count": 32,
   "metadata": {
    "collapsed": true
   },
   "outputs": [],
   "source": [
    "doc2vec_model.min_alpha = 0.025\n",
    "epoch_validation_metrics = []\n",
    "epoch_training_metrics = []\n",
    "epoch_word2vec_metrics = []\n",
    "classifications = sections\n",
    "classifications_type = 'sections'"
   ]
  },
  {
   "cell_type": "code",
   "execution_count": 33,
   "metadata": {
    "collapsed": true
   },
   "outputs": [],
   "source": [
    "VALIDATION_METRICS_FILENAME= '{}_validation_metrics.pkl'.format(classifications_type)\n",
    "TRAINING_METRICS_FILENAME = '{}_training_metrics.pkl'.format(classifications_type)\n",
    "METRICS_FIG_PNG_FILENAME = '{}_validation_metrics.png'.format(classifications_type)\n",
    "METRICS_FIG_PDF_FILENAME = '{}_validation_metrics.pdf'.format(classifications_type)\n",
    "WORD2VEC_METRICS_FILENAME = 'word2vec_metrics.pkl'\n",
    "\n",
    "# for epoch in range(DOC2VEC_MAX_EPOCHS):\n",
    "#     GLOBAL_VARS.MODEL_NAME = placeholder_model_name.format(epoch)\n",
    "#     ensure_disk_location_exists(os.path.join(doc2vec_model_save_location, GLOBAL_VARS.MODEL_NAME, \n",
    "#                                              GLOBAL_VARS.SVM_MODEL_NAME))\n",
    "#     pickle.dump(metrics, open(os.path.join(doc2vec_model_save_location, GLOBAL_VARS.MODEL_NAME, GLOBAL_VARS.SVM_MODEL_NAME, METRICS), 'w'))\n",
    "# fig_save_location = placeholder_model_name.format('run')\n",
    "# plt.savefig(os.path.join(fig_save_location))"
   ]
  },
  {
   "cell_type": "code",
   "execution_count": 34,
   "metadata": {
    "collapsed": false,
    "scrolled": false
   },
   "outputs": [
    {
     "data": {
      "application/javascript": [
       "/* Put everything inside the global mpl namespace */\n",
       "window.mpl = {};\n",
       "\n",
       "mpl.get_websocket_type = function() {\n",
       "    if (typeof(WebSocket) !== 'undefined') {\n",
       "        return WebSocket;\n",
       "    } else if (typeof(MozWebSocket) !== 'undefined') {\n",
       "        return MozWebSocket;\n",
       "    } else {\n",
       "        alert('Your browser does not have WebSocket support.' +\n",
       "              'Please try Chrome, Safari or Firefox ≥ 6. ' +\n",
       "              'Firefox 4 and 5 are also supported but you ' +\n",
       "              'have to enable WebSockets in about:config.');\n",
       "    };\n",
       "}\n",
       "\n",
       "mpl.figure = function(figure_id, websocket, ondownload, parent_element) {\n",
       "    this.id = figure_id;\n",
       "\n",
       "    this.ws = websocket;\n",
       "\n",
       "    this.supports_binary = (this.ws.binaryType != undefined);\n",
       "\n",
       "    if (!this.supports_binary) {\n",
       "        var warnings = document.getElementById(\"mpl-warnings\");\n",
       "        if (warnings) {\n",
       "            warnings.style.display = 'block';\n",
       "            warnings.textContent = (\n",
       "                \"This browser does not support binary websocket messages. \" +\n",
       "                    \"Performance may be slow.\");\n",
       "        }\n",
       "    }\n",
       "\n",
       "    this.imageObj = new Image();\n",
       "\n",
       "    this.context = undefined;\n",
       "    this.message = undefined;\n",
       "    this.canvas = undefined;\n",
       "    this.rubberband_canvas = undefined;\n",
       "    this.rubberband_context = undefined;\n",
       "    this.format_dropdown = undefined;\n",
       "\n",
       "    this.image_mode = 'full';\n",
       "\n",
       "    this.root = $('<div/>');\n",
       "    this._root_extra_style(this.root)\n",
       "    this.root.attr('style', 'display: inline-block');\n",
       "\n",
       "    $(parent_element).append(this.root);\n",
       "\n",
       "    this._init_header(this);\n",
       "    this._init_canvas(this);\n",
       "    this._init_toolbar(this);\n",
       "\n",
       "    var fig = this;\n",
       "\n",
       "    this.waiting = false;\n",
       "\n",
       "    this.ws.onopen =  function () {\n",
       "            fig.send_message(\"supports_binary\", {value: fig.supports_binary});\n",
       "            fig.send_message(\"send_image_mode\", {});\n",
       "            fig.send_message(\"refresh\", {});\n",
       "        }\n",
       "\n",
       "    this.imageObj.onload = function() {\n",
       "            if (fig.image_mode == 'full') {\n",
       "                // Full images could contain transparency (where diff images\n",
       "                // almost always do), so we need to clear the canvas so that\n",
       "                // there is no ghosting.\n",
       "                fig.context.clearRect(0, 0, fig.canvas.width, fig.canvas.height);\n",
       "            }\n",
       "            fig.context.drawImage(fig.imageObj, 0, 0);\n",
       "        };\n",
       "\n",
       "    this.imageObj.onunload = function() {\n",
       "        this.ws.close();\n",
       "    }\n",
       "\n",
       "    this.ws.onmessage = this._make_on_message_function(this);\n",
       "\n",
       "    this.ondownload = ondownload;\n",
       "}\n",
       "\n",
       "mpl.figure.prototype._init_header = function() {\n",
       "    var titlebar = $(\n",
       "        '<div class=\"ui-dialog-titlebar ui-widget-header ui-corner-all ' +\n",
       "        'ui-helper-clearfix\"/>');\n",
       "    var titletext = $(\n",
       "        '<div class=\"ui-dialog-title\" style=\"width: 100%; ' +\n",
       "        'text-align: center; padding: 3px;\"/>');\n",
       "    titlebar.append(titletext)\n",
       "    this.root.append(titlebar);\n",
       "    this.header = titletext[0];\n",
       "}\n",
       "\n",
       "\n",
       "\n",
       "mpl.figure.prototype._canvas_extra_style = function(canvas_div) {\n",
       "\n",
       "}\n",
       "\n",
       "\n",
       "mpl.figure.prototype._root_extra_style = function(canvas_div) {\n",
       "\n",
       "}\n",
       "\n",
       "mpl.figure.prototype._init_canvas = function() {\n",
       "    var fig = this;\n",
       "\n",
       "    var canvas_div = $('<div/>');\n",
       "\n",
       "    canvas_div.attr('style', 'position: relative; clear: both; outline: 0');\n",
       "\n",
       "    function canvas_keyboard_event(event) {\n",
       "        return fig.key_event(event, event['data']);\n",
       "    }\n",
       "\n",
       "    canvas_div.keydown('key_press', canvas_keyboard_event);\n",
       "    canvas_div.keyup('key_release', canvas_keyboard_event);\n",
       "    this.canvas_div = canvas_div\n",
       "    this._canvas_extra_style(canvas_div)\n",
       "    this.root.append(canvas_div);\n",
       "\n",
       "    var canvas = $('<canvas/>');\n",
       "    canvas.addClass('mpl-canvas');\n",
       "    canvas.attr('style', \"left: 0; top: 0; z-index: 0; outline: 0\")\n",
       "\n",
       "    this.canvas = canvas[0];\n",
       "    this.context = canvas[0].getContext(\"2d\");\n",
       "\n",
       "    var rubberband = $('<canvas/>');\n",
       "    rubberband.attr('style', \"position: absolute; left: 0; top: 0; z-index: 1;\")\n",
       "\n",
       "    var pass_mouse_events = true;\n",
       "\n",
       "    canvas_div.resizable({\n",
       "        start: function(event, ui) {\n",
       "            pass_mouse_events = false;\n",
       "        },\n",
       "        resize: function(event, ui) {\n",
       "            fig.request_resize(ui.size.width, ui.size.height);\n",
       "        },\n",
       "        stop: function(event, ui) {\n",
       "            pass_mouse_events = true;\n",
       "            fig.request_resize(ui.size.width, ui.size.height);\n",
       "        },\n",
       "    });\n",
       "\n",
       "    function mouse_event_fn(event) {\n",
       "        if (pass_mouse_events)\n",
       "            return fig.mouse_event(event, event['data']);\n",
       "    }\n",
       "\n",
       "    rubberband.mousedown('button_press', mouse_event_fn);\n",
       "    rubberband.mouseup('button_release', mouse_event_fn);\n",
       "    // Throttle sequential mouse events to 1 every 20ms.\n",
       "    rubberband.mousemove('motion_notify', mouse_event_fn);\n",
       "\n",
       "    rubberband.mouseenter('figure_enter', mouse_event_fn);\n",
       "    rubberband.mouseleave('figure_leave', mouse_event_fn);\n",
       "\n",
       "    canvas_div.on(\"wheel\", function (event) {\n",
       "        event = event.originalEvent;\n",
       "        event['data'] = 'scroll'\n",
       "        if (event.deltaY < 0) {\n",
       "            event.step = 1;\n",
       "        } else {\n",
       "            event.step = -1;\n",
       "        }\n",
       "        mouse_event_fn(event);\n",
       "    });\n",
       "\n",
       "    canvas_div.append(canvas);\n",
       "    canvas_div.append(rubberband);\n",
       "\n",
       "    this.rubberband = rubberband;\n",
       "    this.rubberband_canvas = rubberband[0];\n",
       "    this.rubberband_context = rubberband[0].getContext(\"2d\");\n",
       "    this.rubberband_context.strokeStyle = \"#000000\";\n",
       "\n",
       "    this._resize_canvas = function(width, height) {\n",
       "        // Keep the size of the canvas, canvas container, and rubber band\n",
       "        // canvas in synch.\n",
       "        canvas_div.css('width', width)\n",
       "        canvas_div.css('height', height)\n",
       "\n",
       "        canvas.attr('width', width);\n",
       "        canvas.attr('height', height);\n",
       "\n",
       "        rubberband.attr('width', width);\n",
       "        rubberband.attr('height', height);\n",
       "    }\n",
       "\n",
       "    // Set the figure to an initial 600x600px, this will subsequently be updated\n",
       "    // upon first draw.\n",
       "    this._resize_canvas(600, 600);\n",
       "\n",
       "    // Disable right mouse context menu.\n",
       "    $(this.rubberband_canvas).bind(\"contextmenu\",function(e){\n",
       "        return false;\n",
       "    });\n",
       "\n",
       "    function set_focus () {\n",
       "        canvas.focus();\n",
       "        canvas_div.focus();\n",
       "    }\n",
       "\n",
       "    window.setTimeout(set_focus, 100);\n",
       "}\n",
       "\n",
       "mpl.figure.prototype._init_toolbar = function() {\n",
       "    var fig = this;\n",
       "\n",
       "    var nav_element = $('<div/>')\n",
       "    nav_element.attr('style', 'width: 100%');\n",
       "    this.root.append(nav_element);\n",
       "\n",
       "    // Define a callback function for later on.\n",
       "    function toolbar_event(event) {\n",
       "        return fig.toolbar_button_onclick(event['data']);\n",
       "    }\n",
       "    function toolbar_mouse_event(event) {\n",
       "        return fig.toolbar_button_onmouseover(event['data']);\n",
       "    }\n",
       "\n",
       "    for(var toolbar_ind in mpl.toolbar_items) {\n",
       "        var name = mpl.toolbar_items[toolbar_ind][0];\n",
       "        var tooltip = mpl.toolbar_items[toolbar_ind][1];\n",
       "        var image = mpl.toolbar_items[toolbar_ind][2];\n",
       "        var method_name = mpl.toolbar_items[toolbar_ind][3];\n",
       "\n",
       "        if (!name) {\n",
       "            // put a spacer in here.\n",
       "            continue;\n",
       "        }\n",
       "        var button = $('<button/>');\n",
       "        button.addClass('ui-button ui-widget ui-state-default ui-corner-all ' +\n",
       "                        'ui-button-icon-only');\n",
       "        button.attr('role', 'button');\n",
       "        button.attr('aria-disabled', 'false');\n",
       "        button.click(method_name, toolbar_event);\n",
       "        button.mouseover(tooltip, toolbar_mouse_event);\n",
       "\n",
       "        var icon_img = $('<span/>');\n",
       "        icon_img.addClass('ui-button-icon-primary ui-icon');\n",
       "        icon_img.addClass(image);\n",
       "        icon_img.addClass('ui-corner-all');\n",
       "\n",
       "        var tooltip_span = $('<span/>');\n",
       "        tooltip_span.addClass('ui-button-text');\n",
       "        tooltip_span.html(tooltip);\n",
       "\n",
       "        button.append(icon_img);\n",
       "        button.append(tooltip_span);\n",
       "\n",
       "        nav_element.append(button);\n",
       "    }\n",
       "\n",
       "    var fmt_picker_span = $('<span/>');\n",
       "\n",
       "    var fmt_picker = $('<select/>');\n",
       "    fmt_picker.addClass('mpl-toolbar-option ui-widget ui-widget-content');\n",
       "    fmt_picker_span.append(fmt_picker);\n",
       "    nav_element.append(fmt_picker_span);\n",
       "    this.format_dropdown = fmt_picker[0];\n",
       "\n",
       "    for (var ind in mpl.extensions) {\n",
       "        var fmt = mpl.extensions[ind];\n",
       "        var option = $(\n",
       "            '<option/>', {selected: fmt === mpl.default_extension}).html(fmt);\n",
       "        fmt_picker.append(option)\n",
       "    }\n",
       "\n",
       "    // Add hover states to the ui-buttons\n",
       "    $( \".ui-button\" ).hover(\n",
       "        function() { $(this).addClass(\"ui-state-hover\");},\n",
       "        function() { $(this).removeClass(\"ui-state-hover\");}\n",
       "    );\n",
       "\n",
       "    var status_bar = $('<span class=\"mpl-message\"/>');\n",
       "    nav_element.append(status_bar);\n",
       "    this.message = status_bar[0];\n",
       "}\n",
       "\n",
       "mpl.figure.prototype.request_resize = function(x_pixels, y_pixels) {\n",
       "    // Request matplotlib to resize the figure. Matplotlib will then trigger a resize in the client,\n",
       "    // which will in turn request a refresh of the image.\n",
       "    this.send_message('resize', {'width': x_pixels, 'height': y_pixels});\n",
       "}\n",
       "\n",
       "mpl.figure.prototype.send_message = function(type, properties) {\n",
       "    properties['type'] = type;\n",
       "    properties['figure_id'] = this.id;\n",
       "    this.ws.send(JSON.stringify(properties));\n",
       "}\n",
       "\n",
       "mpl.figure.prototype.send_draw_message = function() {\n",
       "    if (!this.waiting) {\n",
       "        this.waiting = true;\n",
       "        this.ws.send(JSON.stringify({type: \"draw\", figure_id: this.id}));\n",
       "    }\n",
       "}\n",
       "\n",
       "\n",
       "mpl.figure.prototype.handle_save = function(fig, msg) {\n",
       "    var format_dropdown = fig.format_dropdown;\n",
       "    var format = format_dropdown.options[format_dropdown.selectedIndex].value;\n",
       "    fig.ondownload(fig, format);\n",
       "}\n",
       "\n",
       "\n",
       "mpl.figure.prototype.handle_resize = function(fig, msg) {\n",
       "    var size = msg['size'];\n",
       "    if (size[0] != fig.canvas.width || size[1] != fig.canvas.height) {\n",
       "        fig._resize_canvas(size[0], size[1]);\n",
       "        fig.send_message(\"refresh\", {});\n",
       "    };\n",
       "}\n",
       "\n",
       "mpl.figure.prototype.handle_rubberband = function(fig, msg) {\n",
       "    var x0 = msg['x0'];\n",
       "    var y0 = fig.canvas.height - msg['y0'];\n",
       "    var x1 = msg['x1'];\n",
       "    var y1 = fig.canvas.height - msg['y1'];\n",
       "    x0 = Math.floor(x0) + 0.5;\n",
       "    y0 = Math.floor(y0) + 0.5;\n",
       "    x1 = Math.floor(x1) + 0.5;\n",
       "    y1 = Math.floor(y1) + 0.5;\n",
       "    var min_x = Math.min(x0, x1);\n",
       "    var min_y = Math.min(y0, y1);\n",
       "    var width = Math.abs(x1 - x0);\n",
       "    var height = Math.abs(y1 - y0);\n",
       "\n",
       "    fig.rubberband_context.clearRect(\n",
       "        0, 0, fig.canvas.width, fig.canvas.height);\n",
       "\n",
       "    fig.rubberband_context.strokeRect(min_x, min_y, width, height);\n",
       "}\n",
       "\n",
       "mpl.figure.prototype.handle_figure_label = function(fig, msg) {\n",
       "    // Updates the figure title.\n",
       "    fig.header.textContent = msg['label'];\n",
       "}\n",
       "\n",
       "mpl.figure.prototype.handle_cursor = function(fig, msg) {\n",
       "    var cursor = msg['cursor'];\n",
       "    switch(cursor)\n",
       "    {\n",
       "    case 0:\n",
       "        cursor = 'pointer';\n",
       "        break;\n",
       "    case 1:\n",
       "        cursor = 'default';\n",
       "        break;\n",
       "    case 2:\n",
       "        cursor = 'crosshair';\n",
       "        break;\n",
       "    case 3:\n",
       "        cursor = 'move';\n",
       "        break;\n",
       "    }\n",
       "    fig.rubberband_canvas.style.cursor = cursor;\n",
       "}\n",
       "\n",
       "mpl.figure.prototype.handle_message = function(fig, msg) {\n",
       "    fig.message.textContent = msg['message'];\n",
       "}\n",
       "\n",
       "mpl.figure.prototype.handle_draw = function(fig, msg) {\n",
       "    // Request the server to send over a new figure.\n",
       "    fig.send_draw_message();\n",
       "}\n",
       "\n",
       "mpl.figure.prototype.handle_image_mode = function(fig, msg) {\n",
       "    fig.image_mode = msg['mode'];\n",
       "}\n",
       "\n",
       "mpl.figure.prototype.updated_canvas_event = function() {\n",
       "    // Called whenever the canvas gets updated.\n",
       "    this.send_message(\"ack\", {});\n",
       "}\n",
       "\n",
       "// A function to construct a web socket function for onmessage handling.\n",
       "// Called in the figure constructor.\n",
       "mpl.figure.prototype._make_on_message_function = function(fig) {\n",
       "    return function socket_on_message(evt) {\n",
       "        if (evt.data instanceof Blob) {\n",
       "            /* FIXME: We get \"Resource interpreted as Image but\n",
       "             * transferred with MIME type text/plain:\" errors on\n",
       "             * Chrome.  But how to set the MIME type?  It doesn't seem\n",
       "             * to be part of the websocket stream */\n",
       "            evt.data.type = \"image/png\";\n",
       "\n",
       "            /* Free the memory for the previous frames */\n",
       "            if (fig.imageObj.src) {\n",
       "                (window.URL || window.webkitURL).revokeObjectURL(\n",
       "                    fig.imageObj.src);\n",
       "            }\n",
       "\n",
       "            fig.imageObj.src = (window.URL || window.webkitURL).createObjectURL(\n",
       "                evt.data);\n",
       "            fig.updated_canvas_event();\n",
       "            fig.waiting = false;\n",
       "            return;\n",
       "        }\n",
       "        else if (typeof evt.data === 'string' && evt.data.slice(0, 21) == \"data:image/png;base64\") {\n",
       "            fig.imageObj.src = evt.data;\n",
       "            fig.updated_canvas_event();\n",
       "            fig.waiting = false;\n",
       "            return;\n",
       "        }\n",
       "\n",
       "        var msg = JSON.parse(evt.data);\n",
       "        var msg_type = msg['type'];\n",
       "\n",
       "        // Call the  \"handle_{type}\" callback, which takes\n",
       "        // the figure and JSON message as its only arguments.\n",
       "        try {\n",
       "            var callback = fig[\"handle_\" + msg_type];\n",
       "        } catch (e) {\n",
       "            console.log(\"No handler for the '\" + msg_type + \"' message type: \", msg);\n",
       "            return;\n",
       "        }\n",
       "\n",
       "        if (callback) {\n",
       "            try {\n",
       "                // console.log(\"Handling '\" + msg_type + \"' message: \", msg);\n",
       "                callback(fig, msg);\n",
       "            } catch (e) {\n",
       "                console.log(\"Exception inside the 'handler_\" + msg_type + \"' callback:\", e, e.stack, msg);\n",
       "            }\n",
       "        }\n",
       "    };\n",
       "}\n",
       "\n",
       "// from http://stackoverflow.com/questions/1114465/getting-mouse-location-in-canvas\n",
       "mpl.findpos = function(e) {\n",
       "    //this section is from http://www.quirksmode.org/js/events_properties.html\n",
       "    var targ;\n",
       "    if (!e)\n",
       "        e = window.event;\n",
       "    if (e.target)\n",
       "        targ = e.target;\n",
       "    else if (e.srcElement)\n",
       "        targ = e.srcElement;\n",
       "    if (targ.nodeType == 3) // defeat Safari bug\n",
       "        targ = targ.parentNode;\n",
       "\n",
       "    // jQuery normalizes the pageX and pageY\n",
       "    // pageX,Y are the mouse positions relative to the document\n",
       "    // offset() returns the position of the element relative to the document\n",
       "    var x = e.pageX - $(targ).offset().left;\n",
       "    var y = e.pageY - $(targ).offset().top;\n",
       "\n",
       "    return {\"x\": x, \"y\": y};\n",
       "};\n",
       "\n",
       "/*\n",
       " * return a copy of an object with only non-object keys\n",
       " * we need this to avoid circular references\n",
       " * http://stackoverflow.com/a/24161582/3208463\n",
       " */\n",
       "function simpleKeys (original) {\n",
       "  return Object.keys(original).reduce(function (obj, key) {\n",
       "    if (typeof original[key] !== 'object')\n",
       "        obj[key] = original[key]\n",
       "    return obj;\n",
       "  }, {});\n",
       "}\n",
       "\n",
       "mpl.figure.prototype.mouse_event = function(event, name) {\n",
       "    var canvas_pos = mpl.findpos(event)\n",
       "\n",
       "    if (name === 'button_press')\n",
       "    {\n",
       "        this.canvas.focus();\n",
       "        this.canvas_div.focus();\n",
       "    }\n",
       "\n",
       "    var x = canvas_pos.x;\n",
       "    var y = canvas_pos.y;\n",
       "\n",
       "    this.send_message(name, {x: x, y: y, button: event.button,\n",
       "                             step: event.step,\n",
       "                             guiEvent: simpleKeys(event)});\n",
       "\n",
       "    /* This prevents the web browser from automatically changing to\n",
       "     * the text insertion cursor when the button is pressed.  We want\n",
       "     * to control all of the cursor setting manually through the\n",
       "     * 'cursor' event from matplotlib */\n",
       "    event.preventDefault();\n",
       "    return false;\n",
       "}\n",
       "\n",
       "mpl.figure.prototype._key_event_extra = function(event, name) {\n",
       "    // Handle any extra behaviour associated with a key event\n",
       "}\n",
       "\n",
       "mpl.figure.prototype.key_event = function(event, name) {\n",
       "\n",
       "    // Prevent repeat events\n",
       "    if (name == 'key_press')\n",
       "    {\n",
       "        if (event.which === this._key)\n",
       "            return;\n",
       "        else\n",
       "            this._key = event.which;\n",
       "    }\n",
       "    if (name == 'key_release')\n",
       "        this._key = null;\n",
       "\n",
       "    var value = '';\n",
       "    if (event.ctrlKey && event.which != 17)\n",
       "        value += \"ctrl+\";\n",
       "    if (event.altKey && event.which != 18)\n",
       "        value += \"alt+\";\n",
       "    if (event.shiftKey && event.which != 16)\n",
       "        value += \"shift+\";\n",
       "\n",
       "    value += 'k';\n",
       "    value += event.which.toString();\n",
       "\n",
       "    this._key_event_extra(event, name);\n",
       "\n",
       "    this.send_message(name, {key: value,\n",
       "                             guiEvent: simpleKeys(event)});\n",
       "    return false;\n",
       "}\n",
       "\n",
       "mpl.figure.prototype.toolbar_button_onclick = function(name) {\n",
       "    if (name == 'download') {\n",
       "        this.handle_save(this, null);\n",
       "    } else {\n",
       "        this.send_message(\"toolbar_button\", {name: name});\n",
       "    }\n",
       "};\n",
       "\n",
       "mpl.figure.prototype.toolbar_button_onmouseover = function(tooltip) {\n",
       "    this.message.textContent = tooltip;\n",
       "};\n",
       "mpl.toolbar_items = [[\"Home\", \"Reset original view\", \"fa fa-home icon-home\", \"home\"], [\"Back\", \"Back to  previous view\", \"fa fa-arrow-left icon-arrow-left\", \"back\"], [\"Forward\", \"Forward to next view\", \"fa fa-arrow-right icon-arrow-right\", \"forward\"], [\"\", \"\", \"\", \"\"], [\"Pan\", \"Pan axes with left mouse, zoom with right\", \"fa fa-arrows icon-move\", \"pan\"], [\"Zoom\", \"Zoom to rectangle\", \"fa fa-square-o icon-check-empty\", \"zoom\"], [\"\", \"\", \"\", \"\"], [\"Download\", \"Download plot\", \"fa fa-floppy-o icon-save\", \"download\"]];\n",
       "\n",
       "mpl.extensions = [\"eps\", \"pdf\", \"png\", \"ps\", \"raw\", \"svg\"];\n",
       "\n",
       "mpl.default_extension = \"png\";var comm_websocket_adapter = function(comm) {\n",
       "    // Create a \"websocket\"-like object which calls the given IPython comm\n",
       "    // object with the appropriate methods. Currently this is a non binary\n",
       "    // socket, so there is still some room for performance tuning.\n",
       "    var ws = {};\n",
       "\n",
       "    ws.close = function() {\n",
       "        comm.close()\n",
       "    };\n",
       "    ws.send = function(m) {\n",
       "        //console.log('sending', m);\n",
       "        comm.send(m);\n",
       "    };\n",
       "    // Register the callback with on_msg.\n",
       "    comm.on_msg(function(msg) {\n",
       "        //console.log('receiving', msg['content']['data'], msg);\n",
       "        // Pass the mpl event to the overriden (by mpl) onmessage function.\n",
       "        ws.onmessage(msg['content']['data'])\n",
       "    });\n",
       "    return ws;\n",
       "}\n",
       "\n",
       "mpl.mpl_figure_comm = function(comm, msg) {\n",
       "    // This is the function which gets called when the mpl process\n",
       "    // starts-up an IPython Comm through the \"matplotlib\" channel.\n",
       "\n",
       "    var id = msg.content.data.id;\n",
       "    // Get hold of the div created by the display call when the Comm\n",
       "    // socket was opened in Python.\n",
       "    var element = $(\"#\" + id);\n",
       "    var ws_proxy = comm_websocket_adapter(comm)\n",
       "\n",
       "    function ondownload(figure, format) {\n",
       "        window.open(figure.imageObj.src);\n",
       "    }\n",
       "\n",
       "    var fig = new mpl.figure(id, ws_proxy,\n",
       "                           ondownload,\n",
       "                           element.get(0));\n",
       "\n",
       "    // Call onopen now - mpl needs it, as it is assuming we've passed it a real\n",
       "    // web socket which is closed, not our websocket->open comm proxy.\n",
       "    ws_proxy.onopen();\n",
       "\n",
       "    fig.parent_element = element.get(0);\n",
       "    fig.cell_info = mpl.find_output_cell(\"<div id='\" + id + \"'></div>\");\n",
       "    if (!fig.cell_info) {\n",
       "        console.error(\"Failed to find cell for figure\", id, fig);\n",
       "        return;\n",
       "    }\n",
       "\n",
       "    var output_index = fig.cell_info[2]\n",
       "    var cell = fig.cell_info[0];\n",
       "\n",
       "};\n",
       "\n",
       "mpl.figure.prototype.handle_close = function(fig, msg) {\n",
       "    fig.root.unbind('remove')\n",
       "\n",
       "    // Update the output cell to use the data from the current canvas.\n",
       "    fig.push_to_output();\n",
       "    var dataURL = fig.canvas.toDataURL();\n",
       "    // Re-enable the keyboard manager in IPython - without this line, in FF,\n",
       "    // the notebook keyboard shortcuts fail.\n",
       "    IPython.keyboard_manager.enable()\n",
       "    $(fig.parent_element).html('<img src=\"' + dataURL + '\">');\n",
       "    fig.close_ws(fig, msg);\n",
       "}\n",
       "\n",
       "mpl.figure.prototype.close_ws = function(fig, msg){\n",
       "    fig.send_message('closing', msg);\n",
       "    // fig.ws.close()\n",
       "}\n",
       "\n",
       "mpl.figure.prototype.push_to_output = function(remove_interactive) {\n",
       "    // Turn the data on the canvas into data in the output cell.\n",
       "    var dataURL = this.canvas.toDataURL();\n",
       "    this.cell_info[1]['text/html'] = '<img src=\"' + dataURL + '\">';\n",
       "}\n",
       "\n",
       "mpl.figure.prototype.updated_canvas_event = function() {\n",
       "    // Tell IPython that the notebook contents must change.\n",
       "    IPython.notebook.set_dirty(true);\n",
       "    this.send_message(\"ack\", {});\n",
       "    var fig = this;\n",
       "    // Wait a second, then push the new image to the DOM so\n",
       "    // that it is saved nicely (might be nice to debounce this).\n",
       "    setTimeout(function () { fig.push_to_output() }, 1000);\n",
       "}\n",
       "\n",
       "mpl.figure.prototype._init_toolbar = function() {\n",
       "    var fig = this;\n",
       "\n",
       "    var nav_element = $('<div/>')\n",
       "    nav_element.attr('style', 'width: 100%');\n",
       "    this.root.append(nav_element);\n",
       "\n",
       "    // Define a callback function for later on.\n",
       "    function toolbar_event(event) {\n",
       "        return fig.toolbar_button_onclick(event['data']);\n",
       "    }\n",
       "    function toolbar_mouse_event(event) {\n",
       "        return fig.toolbar_button_onmouseover(event['data']);\n",
       "    }\n",
       "\n",
       "    for(var toolbar_ind in mpl.toolbar_items){\n",
       "        var name = mpl.toolbar_items[toolbar_ind][0];\n",
       "        var tooltip = mpl.toolbar_items[toolbar_ind][1];\n",
       "        var image = mpl.toolbar_items[toolbar_ind][2];\n",
       "        var method_name = mpl.toolbar_items[toolbar_ind][3];\n",
       "\n",
       "        if (!name) { continue; };\n",
       "\n",
       "        var button = $('<button class=\"btn btn-default\" href=\"#\" title=\"' + name + '\"><i class=\"fa ' + image + ' fa-lg\"></i></button>');\n",
       "        button.click(method_name, toolbar_event);\n",
       "        button.mouseover(tooltip, toolbar_mouse_event);\n",
       "        nav_element.append(button);\n",
       "    }\n",
       "\n",
       "    // Add the status bar.\n",
       "    var status_bar = $('<span class=\"mpl-message\" style=\"text-align:right; float: right;\"/>');\n",
       "    nav_element.append(status_bar);\n",
       "    this.message = status_bar[0];\n",
       "\n",
       "    // Add the close button to the window.\n",
       "    var buttongrp = $('<div class=\"btn-group inline pull-right\"></div>');\n",
       "    var button = $('<button class=\"btn btn-mini btn-primary\" href=\"#\" title=\"Stop Interaction\"><i class=\"fa fa-power-off icon-remove icon-large\"></i></button>');\n",
       "    button.click(function (evt) { fig.handle_close(fig, {}); } );\n",
       "    button.mouseover('Stop Interaction', toolbar_mouse_event);\n",
       "    buttongrp.append(button);\n",
       "    var titlebar = this.root.find($('.ui-dialog-titlebar'));\n",
       "    titlebar.prepend(buttongrp);\n",
       "}\n",
       "\n",
       "mpl.figure.prototype._root_extra_style = function(el){\n",
       "    var fig = this\n",
       "    el.on(\"remove\", function(){\n",
       "\tfig.close_ws(fig, {});\n",
       "    });\n",
       "}\n",
       "\n",
       "mpl.figure.prototype._canvas_extra_style = function(el){\n",
       "    // this is important to make the div 'focusable\n",
       "    el.attr('tabindex', 0)\n",
       "    // reach out to IPython and tell the keyboard manager to turn it's self\n",
       "    // off when our div gets focus\n",
       "\n",
       "    // location in version 3\n",
       "    if (IPython.notebook.keyboard_manager) {\n",
       "        IPython.notebook.keyboard_manager.register_events(el);\n",
       "    }\n",
       "    else {\n",
       "        // location in version 2\n",
       "        IPython.keyboard_manager.register_events(el);\n",
       "    }\n",
       "\n",
       "}\n",
       "\n",
       "mpl.figure.prototype._key_event_extra = function(event, name) {\n",
       "    var manager = IPython.notebook.keyboard_manager;\n",
       "    if (!manager)\n",
       "        manager = IPython.keyboard_manager;\n",
       "\n",
       "    // Check for shift+enter\n",
       "    if (event.shiftKey && event.which == 13) {\n",
       "        this.canvas_div.blur();\n",
       "        event.shiftKey = false;\n",
       "        // Send a \"J\" for go to next cell\n",
       "        event.which = 74;\n",
       "        event.keyCode = 74;\n",
       "        manager.command_mode();\n",
       "        manager.handle_keydown(event);\n",
       "    }\n",
       "}\n",
       "\n",
       "mpl.figure.prototype.handle_save = function(fig, msg) {\n",
       "    fig.ondownload(fig, null);\n",
       "}\n",
       "\n",
       "\n",
       "mpl.find_output_cell = function(html_output) {\n",
       "    // Return the cell and output element which can be found *uniquely* in the notebook.\n",
       "    // Note - this is a bit hacky, but it is done because the \"notebook_saving.Notebook\"\n",
       "    // IPython event is triggered only after the cells have been serialised, which for\n",
       "    // our purposes (turning an active figure into a static one), is too late.\n",
       "    var cells = IPython.notebook.get_cells();\n",
       "    var ncells = cells.length;\n",
       "    for (var i=0; i<ncells; i++) {\n",
       "        var cell = cells[i];\n",
       "        if (cell.cell_type === 'code'){\n",
       "            for (var j=0; j<cell.output_area.outputs.length; j++) {\n",
       "                var data = cell.output_area.outputs[j];\n",
       "                if (data.data) {\n",
       "                    // IPython >= 3 moved mimebundle to data attribute of output\n",
       "                    data = data.data;\n",
       "                }\n",
       "                if (data['text/html'] == html_output) {\n",
       "                    return [cell, data, j];\n",
       "                }\n",
       "            }\n",
       "        }\n",
       "    }\n",
       "}\n",
       "\n",
       "// Register the function which deals with the matplotlib target/channel.\n",
       "// The kernel may be null if the page has been refreshed.\n",
       "if (IPython.notebook.kernel != null) {\n",
       "    IPython.notebook.kernel.comm_manager.register_target('matplotlib', mpl.mpl_figure_comm);\n",
       "}\n"
      ],
      "text/plain": [
       "<IPython.core.display.Javascript object>"
      ]
     },
     "metadata": {},
     "output_type": "display_data"
    },
    {
     "data": {
      "text/html": [
       "<img src=\"data:image/png;base64,iVBORw0KGgoAAAANSUhEUgAAA8AAAAHgCAYAAABq5QSEAAAgAElEQVR4nOzdeVyU5f4//muGTWAGZmRVQQFzQaAMTU0l0eJgmno0F752PKfNSm0RT33yuIQL6s9c+qSeOtnHwqU8aallGmG45W6mBWrmVqKWCwgqMsDMvH5/jNwxcA2M4zLO9Ho+HtdD577ubRhmXvd7rvu+EYKIiIiIiIiIiIiIiIiIiIiIiIiIiIiIiIiIiIiIiIiIiIiIiIiIiIiIiIiIiIiIiIiIiIiIiIiIiIiIiIiIiIiIiIiIiIiIiIiIiIiIiIiIiIiIiIiIiIiIiIiIiIiIiIiIiIiIiIiIiIiIiIiIiIiIiIiIiIiIiIiIiIiIiIiIiIiIiIiIiIiIiIiIiIiIiIiIiIiIiIiIiIiIiIiIiIiIiIiIiIiIiIiIiIiIiIiIiIiIiIiIiIiIiIiIiIjoJjUQQgSwsbGxsbFJWgNBRERE5CYaeHl5FQohwMbGxsbGVrNdzwgWwUREROQWAoQQKCgoQElJCRsbGxsbm9IKCgqqCuEAJ2cVERER0S0RIIRASUkJiIiIqispKWEBTERERG6FBTAREUmxACYiIiJ3wwKYiIikWAATERGRu2EBfIPi4uKwZMkSZ+8GEd0FkpOTMXHiROWxSqVCbm6uE/fo1mIBTERERO7G5Qrgbt26wdvbG1qtVmndunVT+p999lnExcXB09MTw4YNq3d9WVlZUKlU6Ny5c62+v//971CpVFYHuER0d6j+WRAYGIj4+Hi89957d3QfbrQAVqlUUKvVOHLkiNX0TZs2QaVSITIy8rbtqyNYABMREZG7cbkCuOYBZ03z589HTk4OBgwYYHcBHBoairCwMOTl5SnTi4qKoNVq0bp161tWAFdUVNyS9RBR7c+CFStWQK1WY+vWrU7bB3sK4Pj4eIwZM8Zq+uDBg5GQkHBbC+DKysobXoYFMBEREbkbtyuAqzz55JN2F8ARERF4/fXXMWLECGX6nDlzMHDgQHTv3t1qe1FRUVi0aJHy+NChQ+jbty/Cw8Oh0+nw4IMP4vTp08q+vvjii0hLS4Ner1fWv2PHDiQlJUGv1yMmJgZjx45FeXm53T8DIpJ/FgQHB2POnDnKY5PJhNmzZyM2NhaBgYFo3759rQL1yy+/RKdOnaDX6xEcHIxBgwYpfc899xyioqKg0WgQExODjIyMOvfBngJ4/vz5CA4OVt7zv//+O7RaLebMmWNVAG/evBmdO3dGUFAQGjZsiB49euDAgQNW69uxYwd69OiB4OBgBAUFoUePHjAYDAAsn1UZGRno2bMnAgICMHPmTOX5tmvXDoGBgWjVqhVmz55tc39ZABMREZG7YQGclYXIyEicOHECOp0OpaWlAIAWLVogNze31vaqF8Dnzp1DcHAwJkyYgCtXrsBsNuO7775DYWGhsq8ajQbZ2dkAgLKyMpw6dQr+/v6YN28eKisrcezYMcTFxSE9Pf2GfxZEf2bV35tGoxEfffQR1Go11q9fr8yTkZGB+++/H0ePHgUArFmzBv7+/jhx4gQAICcnB76+vvjss89QWVmJ8vJybNy4UVl+0aJFuHDhAgBg9+7dCAoKwsKFC6X7ANhXAFd9rlTdSyAzMxPDhg1TPouq7NixAzt37oTRaMTVq1fx/PPPo1mzZspIbn5+Pnx9ffHuu++irKwMlZWV2LJli3KmSVRUFBo1aoTdu3cDsHz+7NmzB97e3vj0009hMpmwb98+NG7cGG+//bZ0f1kAExERkbuxqwA2m80oMZTcsmY2m+vcXl2Sk5PRoEED6PV66HQ66PV6LFu2rNZ8N1oAA0BqaioWLlyIDRs2oFWrVsr2bBXAs2bNQkJCQp37OnToUKtpM2bMQGJiotW01atXw9/fv959JbobGAxASYm8GY3yZYzG2vNeH6h0WHJyMnx9faHX6+Hp6QkvLy/MmjXLap7AwEDk5ORYTUtJScG0adMAAI899hheeuklu7f5yiuvYODAgVb74EgBvHz5cnTu3BkmkwlNmzbF9u3baxXANRUVFUGlUiE/Px8A8OKLL6JPnz4254+KisL48eOtpj3//PMYMGCA1bS33noLsbGx0nWwACYiIiJ3Y1cBXGIogZgkblkrMTg+4ny7RoABSyGamJiIAQMGYO7cudLtVS+AR40aZXUwLNvXmgegI0eOtDrFEgDy8vKgVquVkSaiu1lGBiCEvF2vzWrJz689b42ziW9Y9ffm1atXMXz4cKSkpMBkMgGwnKGhUqkQGBgIvV6vfGmm0WgwatQoAJa7ui9YsMDmNjIzMxEXF6cs7+vri4ceeki6D4D9BXBFRQVCQ0MxdepU3HvvvQBQqwD+8ccf0adPHzRp0gSBgYHQ6XRQq9XKCHXv3r3x6quv2txWVFQU3n//fatpvXr1wmuvvWY1be3atTa/gGMBTERERO7GJUeAb1cBbDQaERERAX9/fxQVFUm3V3ME+L777ruhfZ0xYwbatWtnNY0jwORK7qYR4Orvr/LycsTExGDevHnKYz8/P3z77bc219G7d2+8/PLL0r6PP/4YISEh2L9/v/KZ9corryApKcnmPthbAAPA2LFj4eHhgXfffRdA7QK4VatWSE9PVz6fL126ZLX8qFGj0LdvX5vbqnm/AoAjwERERERudw1wRUUFysrKMGzYMDzxxBMwGAx13mCq5kHnwYMH8d1339ncXs1rgIOCgvDGG2/gypUrMJlMta4Brrmvv/76KzQaDRYsWICKigocO3YMCQkJGD169I39IIj+5GTvr6ysLAQHB+Py5csAgPT0dDz44IM4fPgwAODatWvYunUrfv75ZwCWa4D9/f2xatUqVFRUwGAwKAXmf/7zHzRu3BgFBQUwm83YuHEjgoKCblkBfOnSJeTm5uLatWvKvlf/LGrUqBEyMjJgNptRWFiIp556Cmq1Wlm+6hrg9957z+Y1wDUL4N27d8PHxwerVq2CyWTC999/jyZNmuB///d/pfvLApiIiIjcjcsVwDXvylxTcnKy8rc21Wo1VCoVoqOjbc5f33V3NbcXHR1tdVB58OBB9OrVC8HBwdDr9ejcuTPOnDlT577u2LEDXbt2hV6vR1RUFO8CTeQA2fvLZDKhdevWyqUHZrMZ8+bNQ3x8PHQ6HcLDw9GrVy8cOnRIWeaLL77AAw88AJ1Oh5CQEAwZMgQAYDAYMGzYMOh0OgQFBSEtLQ2jR4+2KoBr7kP1AlWmrv6an0VfffUVYmNj4e/vj1atWuHTTz+ttfz27dvRrVs3NGzYEEFBQXjkkUeUu0DX/KyqsnbtWiQmJiIwMBAtWrTArFmzbJ6VwwKYiIiI3I3LFcBERHRnsAAmIiIid8MCmIiIpFgAExERkbthAUxERFIsgImIiMjdsAAmIiIpFsBERETkblgAExGRFAtgIiIicjcsgImISIoFMBEREbkbFsBERCTFApiIiIjcDQtgIiKSYgFMRERE7oYFMBERSbEAJiIiInfDApiIiKRYABMREZG7YQFsh+nTpyM1NdWueePi4rBkyZLbvEf2e+GFFzB8+HBn7wYRuSAWwERERORuXK4A7tatG7y9vaHVahEYGIiEhAQsWrTI2bt1x/zyyy9QqVTw9/ev9bp98MEHUKlUSEpKctLeEd0ZGo0GWq0WWq0W3t7e8PDwgFarVaZv27bttmz3u+++Q8+ePREWFgaVSoXt27fXu8yCBQsQHh6OiIgILF682KovMzMTL7zwwm3Z11uBBTARERG5G5crgJOTkzFx4kQAgNlsxrJly6BSqbBlyxbp/BUVFXdy9267qgI4Pj4e8+bNs+rr0KEDEhISblkB7G4/O3JPEyZMQPfu3e/ItvLy8vDBBx9g165dUKvV9RbAp0+fRmhoKM6ePYsjR46gYcOGyuftgQMHEBsbi2vXrt2JXXcIC2AiIiJyNy5dAFcJDg7G3Llzlf4XX3wRaWlp0Ov1GDFiBADg8OHDeOyxxxAWFoaIiAiMHDkSpaWlyjqKioowYsQIREdHQ6vVIjY2Fjk5OQCASZMmoWvXrsq88+fPR/PmzREQEIDw8HA89dRTSl9UVJTViPSOHTuQlJQEvV6PmJgYjB07FuXl5VbzT5kyBb169YJWq8U999yD1atX23z+VQXw/Pnz0aZNG2X6vn370LhxY0yYMMGqAH7yyScxbNiwG3qeEydOROPGjREXFwcAOHPmDAYPHoywsDCEh4djyJAhOHv2rM19JLqTbBXARqMR06ZNQ4sWLaDT6dCxY0d88803Sn92djY8PT2xdOlSREVFQa/XY/DgwSgsLKx3mwaDwa4R4K1bt6JHjx7K47Zt2yIvLw8VFRVITEzEt99+ewPP9M5jAUxERETuxr4C2GwGSkpuXTObHT4gq14AG41GLFmyBB4eHsopj8nJydBoNMjOzgYAlJWV4eLFiwgJCcHbb7+NyspKFBYWIiUlxera2KSkJPTu3RunT58GAJw8eRKHDx8GYCkMq4rKo0ePws/PD4cOHQIAlJaWWh3EVi+Af/31V/j7+2PevHmorKzEsWPHEBcXh/T0dKv5mzVrhgMHDgAA5s6di4CAAFy5ckX6/H/55Reo1WocPXoUMTEx2Lp1KwDg2WefxcSJE632FahdANf3PL28vJCZmYny8nKUlZXBZDKhbdu2eOKJJ3DlyhWUlJRg8ODBaN++Pcw38TqS6zJUGlBiKEGJoQRXyuW/p9cqrsFQaZD2VS1rq/9G2SqAMzMzER0djby8PJhMJixevBje3t44ePAgAEsBrFKpMGDAAFy+fBlFRUVISUlBnz596t2mvQXw+fPn0aRJExQUFODQoUNo1KgRSktLMW7cOIwZM8axJ3wHsQAmIiIid2NfAVxSAghx69pNjDgnJyejQYMG0Ov1CAkJQfv27bF06VKr/qFDh1otM3fuXHTu3Nlq2rZt2+Dj4wOz2Yy9e/fCw8PD5shP9aLy5MmT8PPzw4oVK3D58uVa81YvgGfMmIHExESr/tWrV8Pf399q/szMTOVxaWkpVCoV9uzZI92XqgL4+PHjmDFjBoYOHYqSkhIEBASgoKCgzgLYnucZERFhNW3nzp3w8PCw+h0pLCyEWq3G7t27pesh95axKQNikoCYJNDm322k8zzz+TPI2JQh7dNO10JMEjb7b5StArhZs2Z4//33raalpqYqX0BlZ2cr76Uq+/fvh1qtxoULF+rcpr0FMACsWrUKHTp0QOfOnZGTk4Pdu3cjISEBBoMBkydPRrdu3dC/f3+cPHnSjmd7Z7EAJiIiInfj0iPAtvrHjx9vNW3EiBHw9vaGXq9XWmBgIPz8/HD27FmsXLkSwcHBNtdZs6j84osv0LNnT+h0OnTo0AHLly9X+qoXwCNHjsSgQYOs1pWXl2d1gF3zlGkAUKlUyM3Nle5L1SnQx48fx/nz56HVajFx4kRl1KquAtie59mlSxeraStWrEBISEiteYOCgrBy5Uqb6yL35SojwJ6enrXeR6NGjcLjjz8O4I8C2GQyKf3FxcVQqVTYv39/ndu8kQK45nIJCQnYu3cv1q5di9TUVJjNZqxevRopKSk3tK47gQUwERERuRu3uAa4vv7Jkyfj4YcftrnMjYwAV2cymbBixQrllGSg9ghwu3btrJaRjQDfaAFcfdQqLS0NHh4e+Oqrr6T7eqMjwDWf586dO+Hp6Yni4mJlGkeA6W5S1wjwwoULrab17Nnzjo8AV5eeno4JEyYAAKZMmYIpU6YAsBTedX055SwsgImIiMjd/CkK4FOnTqFhw4Z45513lDuunjp1CmvWrFHmSUpKQt++feu9BvjIkSNYv349rl69CsByEO3h4YETJ04AqH0NsEajwYIFC1BRUYFjx44hISEBo0ePVrZ7MyPAAHD27Fls3LhR6bfnGmB7nmeVqmuA//a3v+Hy5csoLi5GWloarwGmu4atAnjq1KmIiYlBfn4+jEYjli5dCh8fH+Tn5wP44xrggQMHori4GIWFhUhNTa33GmCDwaCMFG/atAkGg8FqFNmWLVu2IDExEZWVlQCA5cuX46GHHkJZWRkWL16MTp06OfDsby8WwERERORuXK4A7t69e50FsK3+I0eOoH///mjUqBF0Oh3i4uKsrr0tKirC888/j8jISAQEBKBNmzbYsGEDAOvCMC8vD126dIFOp1P+DvHHH3+srCc6OrrWXaC7du0KvV6PqKioWneBrjk/AKjVartHgGuqrwC293lWd/r0aQwaNAihoaEICwvD4MGDcebMGen2ie60uu4CnZmZiebNmyuXK1T9rgOWAtjLywvLli1T7gI9aNAgXLx40ea2fvrpJ6hUKqjVaqs2c+bMOvextLQUbdq0wY8//qhMM5lMePrpp6HT6ZCQkIB9+/Y58OxvLxbARERE5G5crgAmIroVqgpgso0FMBEREbkbFsBE9KfEArh+LICJiIjI3bAAJqI/JRbA9WMBTERERO6GBTAREUmxACYiIiJ3wwKYiIikWAATERGRu2EBTEREUiyAiYiIyN2wACYiIikWwERERORuWAATEZEUC2AiIiJyNyyAiYhIigUwERERuRsWwEREJMUCmIiIiNwNC2AHJCcnY+LEicpjlUqF3NzcW7Lu6dOnIzU19Zasi4joZrAAJiIiInfjcgVwt27d4O3tDa1Wi8DAQMTHx+O99967o/twowWwSqWCWq3GkSNHrKZv2rQJKpUKkZGRt21fidyRRqOBVquFVquFt7c3PDw8oNVqlenbtm27LdtduXIlEhISoNfrodfr0aFDB3z++ed1LrNgwQKEh4cjIiICixcvturLzMzECy+8cFv29VZgAUxERETuxuUK4JrF54oVK6BWq7F161an7YM9BXB8fDzGjBljNX3w4MFISEi4ZQVwRUXFLVkPkSuZMGECunfvfke2dfr0afz222/K49zcXPj4+NT6cqv6/KGhoTh79iyOHDmChg0bKp+3Bw4cQGxsLK5du3ZH9t0RLICJiIjI3bh8AQwAwcHBmDNnjvLYZDJh9uzZiI2NRWBgINq3b1+rQP3yyy/RqVMn6PV6BAcHY9CgQUrfc889h6ioKGg0GsTExCAjI6POfbCnAJ4/fz6Cg4NRXl4OAPj999+h1WoxZ84cqwJ40qRJ6Nq1q/K4rKwM48ePR8uWLaHVatG8eXMsWbIEAJCVlYWIiAj8+9//RlRUFAICAgAAxcXFGD58OCIiIhASEoJevXrZPEAncnW2CmCj0Yhp06ahRYsW0Ol06NixI7755hulPzs7G56enli6dCmioqKg1+sxePBgFBYW2rVds9mMjRs3wtvbG+vWrZPOs3XrVvTo0UN53LZtW+Tl5aGiogKJiYn49ttvb/DZ3lksgImIiMjd2FUAm81AScmta2az4wdk1YtPo9GIjz76CGq1GuvXr1fmycjIwP3334+jR48CANasWQN/f3+cOHECAJCTkwNfX1989tlnqKysRHl5OTZu3Kgsv2jRIly4cAEAsHv3bgQFBWHhwoXSfQDsK4Bzc3ORnJysFK+ZmZkYNmwYsrKyahXASUlJyuMnnngCHTt2VArY3377Dfv37wdgKYA9PT3x/PPPo7S0FGVlZQCAxx57DD169MD58+dRVlaG0aNHIzIyEqWlpXb/nIlsMhj+eDNfuSKf59o1y3wyVcva6r9BtgrgzMxMREdHIy8vDyaTCYsXL4a3tzcOHjwIwFIAq1QqDBgwAJcvX0ZRURFSUlLQp0+fOrd3/vx56HQ6eHl5QaVS4ZFHHrF59sX58+fRpEkTFBQU4NChQ2jUqBFKS0sxbty4WmeE3I1YABMREZG7sasALikBhLh17WYGnJOTk+Hr6wu9Xg9PT094eXlh1qxZVvMEBgYiJyfHalpKSgqmTZsGwFIgvvTSS3Zv85VXXsHAgQOt9sGRAnj58uXo3LkzTCYTmjZtiu3bt9dZAF+4cAEqlQrff/+9dL1ZWVnw8vKCoVoh8dtvv0GlUiEvL0+ZVllZieDgYHzyySd2P2cimzIy/ngzt2kjn+eZZyzzyWi1lmVt9d8gWwVws2bN8P7771tNS01NRXp6OgBLAaxWq3H8+HGlf//+/VCr1coXYHUxGAxYsWIFZs+eXed8q1atQocOHdC5c2fk5ORg9+7dSEhIgMFgwOTJk9GtWzf0798fJ0+etOPZ3lksgImIiMjduPQI8NWrVzF8+HCkpKTAZDIBAM6dOweVSoXAwEDlRjU6nQ4ajQajRo0CAMTFxWHBggU2t5GZmYm4uDhleV9fXzz00EPSfQDsL4ArKioQGhqKqVOn4t577wWAOgvgvXv3Qq1W4+rVq9L1ZmVloUmTJlbT9uzZA7VaXWu0t127drW+KCByiIuMAHt6etZ6X44aNQqPP/44gD8K4KrPDsBy+YBKpVLOsrBHjx498H//9392zWswGJCQkIC9e/di7dq1SE1NhdlsxurVq5GSkmL3Nu8UFsBERETkblz+GuDy8nLExMRg3rx5ymM/P786r63r3bs3Xn75ZWnfxx9/jJCQEOzfvx/m65X6K6+8YnVasqMFMACMHTsWHh4eePfddwHUXQBfuHABarW6zhHgmjfQ+u2336BWq/Hjjz8q04xGI0JCQjgCTG6prhHg6pcuAEDPnj1v2QhwlaSkJLz22mt2zZueno4JEyYAAKZMmYIpU6YAsBTewcHBdm/zTmEBTERERO7G5QtgwFIIBgcH4/LlywAsB5kPPvggDh8+DAC4du0atm7dip9//hmA5Rpgf39/rFq1ChUVFTAYDEqB+p///AeNGzdGQUGBcpOboKCgW1YAX7p0Cbm5ucqdX+25BvjBBx+0uga4qiCWFcCA5RTvlJQUnDt3DteuXcOYMWMQERFhcySZyJXZKoCnTp2KmJgY5Ofnw2g0YunSpfDx8UF+fj6AP64BHjhwIIqLi1FYWIjU1NQ6rwHOysrCsWPHYDabce3aNbz99tvw9PS0uoeALVu2bEFiYiIqKysBAMuXL8dDDz2EsrIyLF68GJ06dXLwJ3D7sAAmIiIid+NyBXD37t1rFcAmkwmtW7fG+PHjAVjuzjpv3jzEx8dDp9MhPDwcvXr1wqFDh5RlvvjiCzzwwAPQ6XQICQnBkCFDAFhOURw2bBh0Oh2CgoKQlpaG0aNHWxWlNfdBrVbXWQDX1V9fAXzt2jWMHTsWMTEx0Gg0aN68OZYtWyZdtsqlS5cwfPhwNGnSBMHBwXj00Ufx008/2dw/IldW112gMzMz0bx5c+h0OnTo0AEbNmxQ+rOzs+Hl5YVly5Ypd4EeNGgQLl68aHNb//rXv5Q7xIeEhCApKQlr1qypdx9LS0vRpk0bqzMzTCYTnn76aeh0OiQkJGDfvn03+MxvPxbARERE5G5crgAmIroVqgpgso0FMBEREbkbFsBE9KfEArh+LICJiIjI3bAAJqI/JRbA9WMBTERERO6GBTAREUmxACYiIiJ3wwKYiIikWAATERGRu2EBTEREUiyAiYiIyN2wACYiIikWwERERORuWAATEZEUC2AiIiJyNyyAiYhIigUwERERuRsWwEREJMUCmIiIiNyNyxXA3bp1g7e3N7RardK6deum9D/77LOIi4uDp6cnhg0bVu/6srKyoFKp0Llz51p9f//736FSqTBx4sRb+RSI6CZpNBrl/e/t7Q0PDw9otVpl+rZt227LdrOzs6FSqZRtazQa3HPPPXUus2DBAoSHhyMiIgKLFy+26svMzMQLL7xwW/b1VmABTERERO7G5Qrg5OTkOgvS+fPnIycnBwMGDLC7AA4NDUVYWBjy8vKU6UVFRdBqtWjduvVtK4BNJhPMZvNtWTfRn8WECRPQvXv3O7Kt7OxseHl52T3/6dOnERoairNnz+LIkSNo2LCh8nl74MABxMbG4tq1a7drd28aC2AiIiJyN25XAFd58skn7S6AIyIi8Prrr2PEiBHK9Dlz5mDgwIHo3r271fbeeOMNtGzZElqtFk2bNsVLL72EsrIypd9oNGLOnDlo06YNtFotIiMj8eabbwIANm/eDJVKhf/+979o2bIlGjRogHPnzsFgMOB//ud/EB0djYYNG+Khhx7C7t27b+THQvSnZasANhqNmDZtGlq0aAGdToeOHTvim2++Ufqzs7Ph6emJpUuXIioqCnq9HoMHD0ZhYaHNbd1oAbx161b06NFDedy2bVvk5eWhoqICiYmJ+Pbbb+1elzOwACYiIiJ3wwI4KwuRkZE4ceIEdDodSktLAQAtWrRAbm5ure0tW7YMp0+fBgAcOnQI99xzD8aNG6f0jx8/Hi1atMB3330HALh06RJ27doF4I8CeMCAASgqKkJFRQVMJhNefPFF3HvvvThx4gQqKysxZ84caLVanDlzxv4fDNGflK0CODMzE9HR0cjLy4PJZMLixYvh7e2NgwcPAvjjdOYBAwbg8uXLKCoqQkpKCvr06WNzW9nZ2VCr1WjatCnCwsKQmpqKHTt22Jz//PnzaNKkCQoKCnDo0CE0atQIpaWlGDduHMaMGXPzT/42YwFMRERE7sbuAthQaUCJoUTajCajdBmjyVhrXkOl4aYOyJKTk9GgQQPo9XrodDro9XosW7as1nw3WgADQGpqKhYuXIgNGzagVatWyvbqKrjfeusttG/fXnms1WqxatUq6bybN2+GWq3G0aNHlWlmsxl+fn5Yu3at1bz33XcfZs6cWe/+E91pBgNQUmJpV67I57l2zTKfTNWytvpvlK0CuFmzZnj//fetpqWmpiI9PR3AH8Xs8ePHlf79+/dDrVbjwoUL0m2dPXsW+fn5MJlMuHLlCqZPnw4/Pz8cPnzY5v6tWrUKHTp0QOfOnZGTk4Pdu3cjISEBBoMBkydPRrdu3dC/f3+cPHnSgWd/e7EAJiIiIndjdwGcsSkDYpKQtvxz+dJl8s/l15o3Y1PGTR2Q3a4RYABYvXo1EhMTMWDAAMydO1e6vf/85z9ITExEUFAQdDod/Pz80LRpUwDAhQ08xqwAACAASURBVAsXoFKpkJ8v/3lUFcCVlZXKtPPnz0OlUimjUlUef/xxjBo1qt79J7rTMjIAISytTRv5PM88Y5lPRqu1LGur/0bZKoA9PT2Rm5trNW3UqFF4/PHHAfxRAJtMJqW/uLgYKpUK+/fvt3v7nTp1wtSpU+2a12AwICEhAXv37sXatWuRmpoKs9mM1atXIyUlxe5t3iksgImIiMjduOQI8O0qgI1GIyIiIuDv74+ioqJa29uxYwe8vLywZcsWGI2W5/zWW28pywP2jQBXP+A2m83w9fXFF198YTVv27ZtOQJMdyVXGgFeuHCh1bSePXve1AiwTOfOnTFlyhS75k1PT8eECRMAAFOmTFGWKy4uRnBwsN3bvFNYABMREZG7cbtrgCsqKlBWVoZhw4bhiSeegMFgQHl5uc35qxfAAHDw4EHl+t2a28vOzoavr68yWrtv3z40b97cavlx48ahVatWyjqKioqwc+dOAPICGLCMSrVt2xYnTpxARUUF5s6dC61Wq1xrTES22SqAp06dipiYGOTn58NoNGLp0qXw8fFRztCougZ44MCBKC4uRmFhIVJTU+u8Bvirr77Cr7/+CgAoLS3FzJkz4efnZ3UHeVu2bNmCxMRE5QyQ5cuX46GHHkJZWRkWL16MTp06OfL0bysWwERERORuXK4ArnlX5pqSk5OhUqmgVquhVquhUqkQHR1tc/6aBXBd2zObzUhPT0dwcDB0Oh0effRRTJ061Wp5k8mEWbNmoVWrVtBoNIiMjMSsWbMA2C6Aq+4C3axZM+j1eiQlJfEu0ER2qusu0JmZmWjevDl0Oh06dOiADRs2KP1Vd3RetmyZchfoQYMG4eLFi3VuKzIyEv7+/ggNDUVKSopdf3O4tLQUbdq0wY8//qhMM5lMePrpp6HT6ZCQkIB9+/bd4DO//VgAExERkbtxuQKYiOhWuNE/afRnxAKYiIiI3A0LYCL6U2IBXD8WwERERORuWAAT0Z8SC+D6sQAmIiIid8MCmIiIpFgA3x0aCMsLwMbGxsbGVrM1EHSjAgQLYCIikmAB7HwNvLy8CoXlRWBjY2NjY7Nq1zOCRfCNYQFMRERSLICdL0AIgYKCApSUlLCxsbGxsSmtoKCAIe0YFsBERCRVUsIC2NkY0kREJMWQdhizlYiIpJitzseQJiIiKYa0w5itREQkxWx1PoY0ERFJMaQdxmwlIiIpZqvzMaSJiG7C6NGjERoaCq1Wi/z8/Fu+/qioKCxatMjh5X/55ReoVCocP378hpdlSDuM2WqH6dOnIzU11a554+LisGTJktu8R0REtx+z1flcMqR//PFHpKWloVGjRtBqtYiOjsbQoUPx/fffO3vX7riqg1uNRgOtVgutVguNRgO9Xu/sXSMX9MEHH0ClUuFf//rXHdmeSqVCQEAAfv/9d6vpERERWLx48R3Zh5uxc+dO+Pj44LfffrM5z6RJk9C1a1eHt3ErCmC1Ws0C+M5yuWzt1q0bvL29odVqERgYiISEhJv6vXM1VVnq7+9f63Wr+lxMSkpy0t4RkTthtjqfy4X0pk2b4Ovri/T0dPz6668ALL9IH374IcaNG+e0/aqsrHTKdqsObk+cOGH3MhUVFdLpRqPxhrdvMplgNptveDm6Oz3wwAMICQlBWFiYzd+TW0mlUiE0NBT/+Mc/rKa7SgG8dOlSREZG1jnPpEmTburAmQWwS3K5bE1OTsbEiRMBAGazGcuWLYNKpcKWLVuk89+Jz4c7qaoAjo+Px7x586z6OnTogISEhNtaADvrGIKI7jxmq/O5XEi3atWq1sGyzIcffoj4+Hjlm+zqB9OdO3dGZmam1fyfffYZQkJClBDatWsXkpOTERQUhKioKEycONGqQFSpVHjrrbfQuXNnaDQafPLJJ8jPz8fDDz+MkJAQ6HQ6dOzYERs3brTazrp16xAfHw+tVouHH34YGRkZiIqKUvpNJhNmz56N2NhYBAYGon379sjNzbX5PO05uE1OTsaLL76ItLQ06PV6jBgxQgn7RYsW4b777oOfnx92794Nk8mEN998Ey1btoROp8MDDzyAr776SlnX5s2boVKp8N///hctW7ZEgwYNcO7cuXpeDXIFe/bsgVqtxtdffw0fHx989NFHSl9OTg4CAgJw7do1q2XuvfdevPXWWwCAc+fOoV+/ftDpdGjevDk++uijOg+gAcv7aMGCBWjQoAG+++47ZXr1Alh2Cm/V76HJZALwxyjrG2+8gUaNGiEwMBCvv/46Ll26hCFDhiAwMBDR0dH4/PPPb+hncubMGQwePBhhYWEIDw/HkCFDcPbsWQBARkYGGjRoAA8PD2g0GsTHx0vXUVcBbDAYMGjQIDRp0gRarRatW7fGv//9b6t5oqKikJGRgR49ekCj0SAhIQFff/211Tzr1q1Dx44dodfr0bJlS6sD+JqfET/88AO6desGnU4HvV6P9u3b4+eff5buH0PaYS6XrdUL4CrBwcGYO3eu0l8zRwDg8OHDeOyxxxAWFoaIiAiMHDkSpaWlyjqKioowYsQIREdHQ6vVIjY2Fjk5OQBqnx0xf/58NG/eHAEBAQgPD8dTTz2l9NX8ImjHjh1ISkqCXq9HTEwMxo4di/Lycqv5p0yZgl69ekGr1eKee+7B6tWrbT7/qs+Z+fPno02bNsr0ffv2oXHjxpgwYYLV+3jlypVo164d9Ho9QkJC0LdvX5w8edJqnV9++SU6deoEvV6P4OBgDBo0SOmTHUMAdR+7EJF7YLY6X/0hbTYDJSW3tjk4Ynj06FGoVCp88803dc736aefIiAgAJs2bYLZbMY333wDjUajHPx+8MEHaN68udUyjz76KF599VUAwE8//QSNRoMVK1bAbDbj1KlTaNu2LaZPn67Mr1KpEBsbi59++gmA5UA2Pz8f33zzDcrLy1FRUYHJkycjMDAQFy5cAAAcO3YM3t7eWLx4MUwmE3bt2oXQ0FBER0cr683IyMD999+Po0ePAgDWrFkDf39/myO89hbAGo0G2dnZAICysjIl7Lt27YozZ87AbDajvLwcs2fPRmRkJA4cOACTyYT//ve/8Pb2xv79+wH8UXgMGDAARUVFqKio4Aiwg8xmM0oMJbes3ezr8OSTTyIxMREAkJaWhi5duljta3R0tNXB2K5du9CgQQMUFRUBAHr06IG+ffuipKQExcXF6NevH9Rqdb0FcG5uLtLT09G5c2dles0CuObv+ObNm6FWq60KYG9vb8yfPx9GoxHfffcdvLy88MADD2D79u0AgLlz56Jhw4YoKyuz6+dhMpnQtm1bPPHEE7hy5QpKSkowePBgtG/fXvlZZ2Vl3dQIcFlZGbKysnD58mUAwPr16+Hj46MUCIDlQD40NBQ7d+6EyWTCokWL4OPjg19++QUAsHHjRuh0OmzatAkAcPDgQTRt2hQff/yx8vOr/gVCly5dMHXqVJjNZphMJvzwww84f/68dP8Y0g6zvwA2GGxnpa2zcozG2vMaDPVvqw7VC2Cj0YglS5bAw8MD27ZtU/pr5sjFixcREhKCt99+G5WVlSgsLERKSgqGDx+urDcpKQm9e/fG6dOnAQAnT57E4cOHAVi/N44ePQo/Pz8cOnQIAFBaWopvv/1WWU/1AvjXX3+Fv78/5s2bh8rKShw7dgxxcXFIT0+3mr9Zs2Y4cOAAAMv7PyAgAFeuXJE+/6rPmaNHjyImJgZbt24FADz77LOYOHFirffx119/jR9//BEAUFhYiL59+1p9huXk5MDX1xefffYZKisrUV5ebvWFuOwYor5jFyJyD8xW56s/pEtKACFubXPwW/Ht27dDrVYrgWFLamoqxowZYzXtlVdewaOPPgrAEqyBgYHKyOqpU6fg4eGhrPfll1/G0KFDrZb/6KOPcM899yiPVSoV3n///Xr3WafT4csvvwQAZGZmomPHjlb9r776qlUBHBgYaHXwCwApKSmYNm2adP1VB7eBgYHQ6/VK+8tf/qLMk5ycXOv5VC23YcMGq+mtWrXC/Pnzrab169dP+ba/qvCoKtDJcSWGEohJ4pa1EoPjo02XLl2Cn58f3nvvPQCWokqtVisHeAAwZcoUq9Ga4cOHY8iQIQCAgoICqFQqq/dmfn6+XSPAubm5uHTpEkJCQpRRZ0cK4OrvTwC4//778cILLyiPCwsLoVKprJ5TXXbu3AkPDw+rz8fCwkKo1Wrs3r0bwM0XwDL9+vVTvowDLAfyr732mtU8HTt2VM5i6du3b63LP6ZNm4ZHHnkEQO0CuHv37hg+fLhdp0QzpB1mfwGckWE7K23dVC0/v/a8GRn1b6sOycnJaNCggTKi2b59eyxdutSqv2aOzJ0716roA4Bt27bBx8cHZrMZe/fuhYeHBwoLC6XbrP7eOHnyJPz8/LBixQrlC6HqqhfAM2bMUL6sq7J69Wr4+/tbzV/9TK/S0lKoVCrs2bNHui/VP2dmzJiBoUOHoqSkBAEBASgoKKj3ffz9999DrVbj6tWrAIDHHnsML730ks35ZccQ9R27EJF7YLY6n1uOALdp06bWaYTz589HXFyc8vi5555TwnzSpElWo12PPvoofH19rQrKwMBABAQEKPPIisdTp04hLS0NTZs2RWBgIHQ6HTw8PPDBBx8AAEaMGIHBgwdbLbNgwQKlAD537lytYlan00Gj0WDkyJHS52rPNcDJyckYP368dLmahayfnx/WrVtnNe2f//wnevfuDeCPwoPXK928u2kEeM6cOdBoNMroiNlsRosWLawKyNOnT8PT0xM///wzSktLERAQoLwXd+/eDbVabXWK9NWrV+0ugAHg3XffRWRkJEpLSx0qgGsenHbt2hWTJ09WHhsMBqhUKmVEuD4rVqxASEhIrelBQUFYuXIlgJsvgMvLy/HPf/4TLVu2VD4zfHx88Pe//12ZJyoqqtbnWVpaGp5//nkAQGxsLPz9/a0+MwICApCQkACg9s/v1KlTGD58OJo1a4bIyEiMHj1aOWiviSHtMJceAbbVXzNHRowYAW9v71pZ6efnh7Nnz2LlypUIDg62uc6a740vvvgCPXv2hE6nQ4cOHbB8+XKlr3oBPHLkSKvTiQEgLy8ParVaOeNKdu189c+bmqp/UXT+/HlotVpMnDgRffr0ke7r5s2b8fDDDyuXXAQEBFhlcVxcHBYsWGDzucuOIew5diEi18dsdT6Xu07JnmuA7fkWdc+ePfD19cXFixcRFRWFrKwspe+pp57CM888U+c2ZEGampqKIUOGKAEMWEaAq0K4vhHg8vJy+Pn5WZ32VR97T4GueWBja7lWrVrVugHIX//611ojwFWFB7mHli1bwtvbG40aNUJ4eDjCw8Ph5+cHrVZrdcpg79698dprr2HRokVWZy6cPn0aarVaObURuLERYMByyvF9992HiRMnWhXAspHbjz766LYXwDt37oSnpyeKi4uVabd6BHj69Olo3bq11RdR/fr1w7Bhw5THshHgTp06KaNb3bt3x9SpU21uv67PiOPHjyMuLg4TJkyQLsuQdpjLZas9BXDN/smTJ+Phhx+2ucyNjABXZzKZsGLFCqsvaWuOALdr185qGdkI8I0WwNXfJ2lpafDw8FDugVF9XysqKqDVajFnzhzleuf9+/dbLd+7d2+8/PLLNn82to4hOAJM5P6Yrc7nciG9efNm+Pn54Z///KdyF+jLly9jyZIlykHcypUrodPpsHnzZphMJuTm5iIgIABr1qyxWte9996LPn36IDAw0Grkau/evQgMDMTKlStRUVEBk8mEY8eOKdc+AfLw6tSpE5555hlUVFTg6tWreP311+Hp6amE8LFjx+Dj44OlS5fCaDRi9+7dCAsLsyokxowZgwcffFApJK5du4atW7favEmNPX/j01YBLFtu1qxZaNq0KQ4cOACj0YhPPvkEPj4+yp+YYgHsfr7++mvlWt1z584p7ejRo9BoNFajGKtWrUJYWBg6dOhQq+jq0aMH/vrXv6K4uBiXLl1C//797b4GuMrGjRvh6+uLgIAAq+uNmzdvjpdffhlGoxHHjx9HYmLibS+Aq64B/tvf/obLly+juLgYaWlpDl0D3LVrVxgMBqtmNBoxduxY3HfffSgqKoLRaMSKFSvg6+tbqwAOCwvDrl27YDQa8eGHH6JBgwbKSNOaNWsQGhqK3NxcGI1GGI1G5OfnK9cw1nyvZ2VlKddjnjt3Dvfddx8mTZok3XeGtMNcLlsdKYBPnTqFhg0b4p133lEy9NSpU1ZZm5SUhL59+9Z7DfCRI0ewfv165WyE7OxseHh4KL/nNa8BrvpsqqiowLFjx5CQkIDRo0cr272ZEWAAOHv2rNU1u9X39erVq/Dy8lLWf+bMGfTu3duqAM7JyYG/vz9WrVqFiooKGAwGq23L9sXeYxcicm3MVudzuZAGLKc6paWlISwsTPk7wE888YRyswsAWLRoEdq0aYOAgADEx8dbjfBWmTdvHtRqtdVpnlX27NmDv/zlLwgJCYFer8f999+PhQsXKv1qtbpWeO3duxft2rWDv78/oqKilNObq4fwunXr0KZNG+Uu0OPGjUNsbKzSbzabMW/ePMTHx0On0yE8PBy9evVSbgxSU9W31jX/DrBWq1X+Nmn37t3tHgE2mUyYOXMm7rnnHuUu1OvXr1f6WQC7n/79+yM1NVXaN3r0aKvT7yorKxEeHg4vLy+cOXPGat7ff/8d/fr1Q2BgIGJiYpCVlQWVSqWMlsrI3kcDBgyAWq22KoC3b9+OhIQEaLVadOnSBe+++269BXBSUlKtAlitVisF8LfffgutVouCggKb+3f69GkMGjQIoaGhCAsLw+DBg62et70FsFqtVppKpYJarcbEiRNRWFiI3r17Q6vVIiwsDCNGjMDQoUOtCuDo6Giru0DHx8dbfRkHWL7E6NKlCxo2bIigoCA8+OCDyh1va77X//GPf6Bx48bQaDRo3LgxRo4cafPGYAxph7lctspywp7+I0eOoH///mjUqBF0Oh3i4uKsrr0tKirC888/j8jISAQEBKBNmzbKqb/V37d5eXno0qULdDqdcgfkqhu5AaiVpTt27EDXrl2h1+sRFRVV6y7QNecH5J83Veo7m6rmZ8zixYsRFRUFrVaLtm3bYvHixbWW/+KLL/DAAw9Ap9MhJCREuWdCXftiz7ELEbk2ZqvzuVxIu5vRo0ejZ8+ezt4Noluu6pTA33//3dm7Qg5iSDuM2UpERFLMVudjSN9hX375JS5evAiTyYQNGzYgICAAy5Ytc/ZuEd20/Px8fP/99zCbzSgoKECPHj2UOxGTa2JIO4zZSkREUsxW52NI32Hjx49HSEgINBoNWrZsiblz5zp7l4huie3bt6Nly5bQaDQIDw9HWloaR39dHEPaYcxWIiKSYrY6H0OaiIikGNIOY7YSEZEUs9X5GNJERCTFkHYYs5WIiKSYrc7HkCYiIimGtMOYrUREJMVsdT6GNBERSTGkHcZsJSIiKWar8wUIIVBQUICSkhI2NjY2NjalFRQUMKQdw2xlY2NjY5M2ZqvzNfDy8ioUlheBjY2NjY3Nql3PiAaCbgSzlY2NjY3NZvuzZquPEGK1EOInIcR+IcTXQojm1/tChBBfCSF+FkL8KIRIqmM9jwkhDgshjgghPhVCaOzsq66BsHwDwcbGxsbGVrO5UkC/LYQ4KYQwCyHurWO+Z4QlY48KId4TQnjcgr6amK1sbGxsbLaaK2XrLeMjhOhZ7fEoIcSm6///QAjxxvX/txdCFAh5yPoLIX4XQrS4/ni+EOJNO/qIiIjcUVchRGMhxAlhuwCOEkKcEZYvm4UQ4nMhxIjr/492sI+IiIhuUDthCWwhhLgihAit1rdLCNFDssxAIcT6ao9jhaVYrq+PiIjInZ0UtgvgV4UQ71R7/KgQYutN9hEREdENWiKEmCuEaCiEKKvR94kQ4knJMmOEEO9We+wrhKgUQqjr6SMiInJndRXA84QQr1d7HCuE+OUm+4iIiOgGjBNCbBeWc8HvdAGsEkI0Ec4/D56NjY2N7e5sTYQlK1yJswtgZisbGxsbW13NFbP1lnlVCLFHCKGtNq3mKdC7he1ToL+q9riNEOKUHX3VNRF3wZ3Q2NjY2Nju6tZEuJaTwrmnQDNb2djY2Njqa66WrbfEGCHEd0KIwBrTPxBCZFz//wPC9k2wNMJyo6uW1x9Xv9FVXX3VBQjBv1V4N7RRo0Y5fR/Y+DrcTY2vhfObC/+twpPCdgEcLYQ4LSxfNKuE5WZWI2+yryZm613S+Dly9zS+FndH4+vg/ObC2XrTmgjLn2k4KoT4Xlj+FNLO632hwvJnkX4WQuQJIR6qttxkIcRz1R5X/amjn4UQq4T1SHJdfVUChBAoKSkBOVd6erqzd4HA1+FuwtfC+UpKSlwtpP8jLF8aVwghfhOW/BNCiPeFJROrPCOEOCYsGbxQ1P5TR470VcdsvUvwc+Tuwdfi7sDXwflcMFvdDkP6LsEPpLsDX4e7B18L52NIO4zZepfg58jdg6/F3YGvg/MxW52PIX2XyM7OdvYuEPg63E34WjgfQ9phzNa7BD9H7h58Le4OfB2cj9nqfAxpIiKSYkg7jNlKRERSzFbnY0gTEZEUQ9phzFYiIpJitjofQ5qIiKQY0g5jthIRkRSz1fkY0kREJMWQdhizlYiIpJitzseQJiIiKYa0w5itREQkxWx1PoY0ERFJMaQdxmwlIiIpZqvzMaSJiEiKIe0wZisREUkxW52PIU1ERFIMaYcxW4mISIrZ6nwMaSIikmJIO4zZSkREUsxW52NIExGRFEPaYcxWIiKSYrY6H0OaiIikGNIOY7YSEZEUs9X5GNJERCTFkHYYs5WIiKSYrc7HkCYiIimGtMOYrUREJMVsdT6GNBERSTGkHcZsJSIiKWar8zGkiYhIiiHtMGYrERFJMVudjyFNRERSDGmHMVuJiEiK2ep8DGkiIpJiSDuM2UpERFLMVudjSBMRkRRD2mHMViIikmK2Oh9DmoiIpBjSDmO2EhGRFLPV+RjSREQkxZB2GLOViIikmK3Ox5AmIiIphrTDmK1ERCTFbHU+hjQREUkxpB3GbCUiIilmq/MxpImISIoh7TBmKxERSTFbnY8hTUREUgxphzFbiYhIitnqfAxpIiKSYkg7jNlKRERSzFbnY0gTEZEUQ9phzFYiIpJitjofQ5qIiKQY0g5jthIRkRSz1fkY0kREJMWQdhizlYiIpJitzseQJiIiKYa0w5itREQkxWx1PoY0ERFJMaQdxmwlIiIpZqvzMaSJiEiKIe0wZisREUkxW52PIU1ERFIMaYcxW4mISIrZ6nwMaSIikmJIO4zZSkREUsxW52NIExGRFEPaYcxWIiKSYrY6H0OaiIikGNIOY7YSEZEUs9X5GNJERCTFkHYYs5WIiKSYrc7HkCYiIimGtMOYrUREJMVsdT6GNBERSTGkHcZsJSIiKWar8zGkiYhIiiHtMGYrERFJMVudjyFNRERSDGmHMVuJiEiK2ep8DGkiIpJiSDuM2UpERFLMVudjSBMRkRRD2mHMViIikmK2Oh9DmoiIpBjSDmO2EhGRFLPV+RjSREQkxZB2GLOViIikmK3Ox5AmIiIphrTDmK1ERCTFbHU+hjQREUkxpB3GbCUiIilmq/MxpImISIoh7TBmKxERSTFbnY8hTUREUgxphzFbiYhIitnqfAxpIiKSYkg7jNlKRERSzFbnY0gTEZEUQ9phzFYiIpJitjofQ5qIiKRcNKTvEUJsF0IcEULsFkLESuZRCSHmCCEOCiF+EELkCiFiqvU/JoQ4fH0dnwohNHb2VWG2EhGRlItmq1thSBMRkZSLhnSuEGLY9f8/LoTYI5mnnxBipxBCff3xeCHEf6//318I8bsQosX1x/OFEG/a0Vcds5WIiKRcNFvdCkOaiIikXDCkQ4QQxeKPwlYIIX4T1qO7QgjRVwjxvbCM3qqEEDOFELOu9w0UQqyvNm+sEKLAjr7qmK1ERCTlgtnqdhjSREQk5YIhnSgspydXt1sIkVxjmkoI8ZYQ4qoQ4qwQYq8Qwu963xghxLvV5vUVQlQKS1FdV191zFYiIpJywWx1OwxpIiKScsGQtrcAfkAIkSOE0F5/PFMIsfT6/1kAExHRbeOC2ep2GNJERCTlgiFt7ynQ84UQY6s9biOsT3P+qkbfKTv6qgsQQmDUqFFIT09Heno6srOznf1yEhGRk2RnZyt5MGrUKFfLVrfDApiIiKRcsAAWQoiNQoh/XP//QCG/CVa6sIwAe11//Lr4o7DVCMuNrlpef1z9Rld19VXHbCWim2I2AyaTvK+sDLh6Fbh82fJ/mcJCoLy89vTycuDXX4FffgFOnAAqKmrPc/mypU/m5Elg3z7gu++Ao0fl8/zwA3DuXO3pBgPw9ddAdjbw1VeWfaypqAhYv16+3v37gY8/BpYtsz3Pxo3AgQPyvgULgLffBv73f4Gffqrdf+UKMGOG/Oe+axfwxhvAxInAzJny9a9dC6xeLe974w1g5EhgxAhg9WqXzFa3wpAmIiIpFy2AWwohdgjLnynaIyyjtEII8b6w/AkjIYTwFkIsFEIcEkIcEEJkCyGiqq2j6k8d/SyEWCX+OFW6vr4qzFa6q5SWAgUF8r4dOywFxQcfAOvWyed5801g27ba03/7DXj0UeCRR4DkZPk8W7YADz8sX++yZcDgwcCgQcDrr8vnmTUL+PRTeV9qKtCjB9C9O/DNN7X7L14EOnUCKitr9338MXDffcC991qWl5k5E5g8Wd734INA48ZAo0aWwkomJMRSaNb0+edAgwaAjw/g7S3fv7ffBv76V/l6u3YFhLC0F1+Uz9OsGbB1a+3pe/ZYllOpALVaXuh+8QWQlCRf73PPAcHBQGgo8I9/yOcZOBBYs6b29PPngVatgNatgdhYYO/e2vPk5wMpKfL1/vvfQJcuaxAipwAAIABJREFUln0bPlw+z4wZwCefyPsGDLD8TPv3l/9sLl0Chg4FjMbafRs2AE8/DTzzDDBmjHz9a9YAK1fa3q/XXwfGjgXWrXPJbHUrDGkiIpJy0QL4bsBsdUEnTlhGrvbssYyQybzzjnzUas8e4IUXgKeeAoYNk4+8/d//WUZ/ZFJSLAVLRIRleZlGjSwFY00rV1qKGZXKUths2VJ7nrFjAV9f+Xpbt/6jGGrRQj5PXBwwfXrt6b/+atnvmBjLsrJRuX37bBdKmzZZiuvZs4GlS+Xz5OQA338v78vKAj780PLv8eO1+8vKLMWQbETv+HFLobd2raW4kTl6VD5SCFhGQHfsAHbuBM6ckc/zww+WUc+aLl8GjhwBfv7Zsg2zufY8V65YCniZ4mLL7+GlS8C1a/J5DAbbI8jkXMxW52NIExGRFEPaYW6RrZWV8pGpkhLg22/ly2zZYilmMjOB+fPl88yeLS/kAMvIVvv2QNu2lhHJmgoKLIXglSu1+8aMsRR5Pj6ARiNff7dulhE/GU/PP0bVbI1AeXnJC8x33gECAwG93jI6Jtu/t96yjHTKPP+8ZTSzd29LQSgzdSpw6FDt6efOAYsXWwq9NWvk2y4rkxfuRHTnMVudzy1CmoiIbj2GtMMChBBYubIEn35quXZMZs4ceUHz00/A448D/fpZTi/9+efa86xZY7tI69/fcuplw4aW0z9lYmKAV1+tPf3YsT+KQCHkxdgnn1hGDGX69rUUid7eQJMmtud5+WV5X9UpqYmJllG9mi5dsvxsSktr923ZAowbZzlldc4c+foPHQLy8uR9ly5Z1stRMyK6nZitzscCmIiIpBjSDgsQQkCIEghhGc2UadQIeO+92tO3bQPCwy0FZGSk/Dq5dessBbLMm28C/+//WU47nTFDPs/HH1tuKFNTeTmQm2vZh337LKO9RER06zBbnY8FMBERSTGkHcZsJSIiKWar8zGkiYhIiiHtMGYrERFJMVudjyFNRERSDGmHMVuJiEjqz5ytbwshTgohzEKIe6tN/0VY/r7gfiHE90KIQXWs4xlh+TuER4UQ7wkhPOzsq44hTUREUn/mkL5JzFYiIpL6M2drVyFEYyHECWFdAJ8QQiTYsXyUEOKMECLk+uPPhRAjrv8/uo6+mhjSREQk9WcO6ZvEbCUiIilmq2UU+N46HtvyqhDinWqPHxVCbLWjryaGNBERSTGkHcZsJSIiKWarvAA+IIT4QQjxvhAi2MZy84QQr1d7HCssp0/X11cTQ5qIiKQY0g5jthIRkRSztXYBHHH9Xw8hxP8nhFhnYzkWwEREdFsxpB3GbCUiIilma92nPIcLIUps9N3SU6BHjRqF9PR0pKenIzs729m/F0RE5CTZ2dlKHowaNepPH9IOYgFMRERSLICtC2A/IURgtb4xQojNNpaLFkKcFkKECiFUwnKjq5F29NXEkCYiIimGtMOYrf8/e3ceZ1P9/wH8PfZ9za5k7FmyRPgSIiFJKJVIX3wtg4xS+JUt2UNItkQoImsYMmTJMvadwVgGg4kxxhhjjNfvj/dc987M507TCccdr+fj8Xm4955z7mru677P53POh4iIjJ7kbJ0iIsEickdEQkSnLHpWdOojxzHAS0TkGZdtpotIU5frHUTkpOhUR9Mk8TRI7pa5YkgTEZHRkxzS/xKzlYiIjJit9mNIExGREUPaMmYrEREZMVvtx5AmIiIjhrRlzFYiIjJittqPIU1EREYMacuYrUREZMRstR9DmoiIjBjSljFbiYjIiNlqP4Y0EREZMaQtY7YSEZERs9V+DGkiIjJiSFvGbCUiIiNmq/0Y0kREZMSQtozZSkRERsxW+zGkiYjIiCFtGbOViIiMmK32Y0gTEZERQ9oyZisRERkxW+3HkCYiIiOGtGXMViIiMmK22o8hTURERgxpy5itRERkxGy1H0OaiIiMGNKWMVuJiMiI2Wo/hjQRERkxpC1jthIRkRGz1X4MaSIiMmJIW8ZsJSIiI2ar/RjSRERkxJC2jNlKRERGzFb7MaSJiMiIIW0Zs5WIiIyYrfZjSBMRkRFD2jJmKxERGTFb7ceQJiIiI4a0ZcxWIiIyYrbajyFNRERGDGnLmK1ERGTEbLUfQ5qIiIwY0pYxW4mIyIjZaj+GNBERGTGkLWO2EhGREbPVfgxpIiIyYkhbxmwlIiIjZqv9GNJERGTEkLaM2UpEREbMVvsxpImIyIghbRmzlYiIjJit9mNIExGREUPaMmYrEREZMVvtx5AmIiIjhrRlzFYiIjJittqPIU1EREYMacuYrUREZMRstR9DmoiIjBjSljFbiYjIiNlqP4Y0EREZMaQtY7YSEZERs9V+DGkiIjJiSFvGbCUiIiNmq/0Y0kREZMSQtozZSkRERsxW+zGkiYjIiCFtGbOViCiliY0FIiO1mfz5J3D1auLbL10CvvoK+OILoE8fhJ86xWy1GUOaiIiMWABbxmwlInrQ7t0DoqKAsDDg5k3zOmvXAhERiW8/cQIYMAD49FOgZ0/g9u3E6yxbBvj6mu/31VcBEW2dOpnXadhQi+CEzp4F2rbV7Xr0QPiJE8xWmzGkiYjIiAWwZcxWIkqZoqOB8HDg8mVzERoTAyxdCty5k3jZ7t1A375Ar17aTKZPBwYONC8rW9ZZhA4YYF6nenUgMDDx7QcPAh06AD4+wMcfA7duJV7n1Clg40bz/V68CJw/D/z1lxbh/wKz1X4MaSIiMmJIW8ZsJaKH49497eEMDQWCg83DcSMigF9/NW+/fr32cnbtqsWoyVdfAd98Y16WO7ezCP3228TLb98GKlXSXtqEtm7Vx/X11eHAJkePArt2mZeFhABXrgA3bmih7aGYrfZjSBMRkRFD2jJmK1FKFhurPYHnzwMnT5p7E69c0SG1JosXA927Ax07Al9+aV6ne3fgxx8T337njrMAFQGWLEm8zoULQM2a5vtdswb46CPgs8+AcePM6xw4oIWoSWio9gBHR2sxTv8Ys9V+DGkiIjLy0JAuLiJ/ishxEdkhImXcrFdeRDaIyBEROSwizV2WdRCRQBE5ISJTRSR1Mpc5MFuJHrY7d7RHMCgIOHLEPOT2zBngt9/M28+Yocdktm0LjB9vXqdVK2DlysS3nzvnLEDTpAG2b0+8zoEDQIsW5vtdskSPRR0wAJg1y7zOnj167GhC9+4B167pMNzYWPO29Fjz0GxNURjSRERk5KEh7S8ibeMutxSRAMM6GUXklIjUiLvuJSK54y4/KyIXRCRP3PVlItI17nLRJJa5YrbSkyUmRnsdTQXZihXAmDHm7UaNAj74AGjdWgtSkxo1zAXmjh1agKZKBWTObC4WN27UIbcmc+cCn38ODB1q7kUFdCju5cuJb4+N1eNfPXgYLtnHQ7M1RWFIExGRkQeGdB4RuS4iqVxuCxER7wTrdRCRuW7u4xMRmexyvbGIbErGMlfMVvIcmzdrMThhArBhg3mdcuX0JEIJffll/OG4puM++/UDXn7ZfL8zZgBDhmgh7O9vXicgALh+PfHtsbEsQMkjeWC2pjgMaSIiMvLAkK4sIkcT3LZDROomuO1rEZkpIitEZK+IzBJnD/AEEfnMZd0yInImGctcMVvpwYqN1flFTT2s/v5Au3ZA8+ZA48bm7d97D6hd27wsY0bAy0uH8r71lnmdl18GDh1KfHtwsB7nun27DkXmkFyiv+WB2ZriMKSJiMjIA0M6uQXwNyJyVkTyx10fJiK/xF1mAUwPx7p1OkepSdWqgLc3UKCADstNKCxMe1iPHEm8bNgwIFcuoGBBoGRJ8/37+QELFlh/7kT0wHhgtqY4DGkiIjLywJBO7hDoj0V7fR2eE5FzcZcf2BBoHx8f+Pr6wtfXF35+fnZ/nPR3IiJ0/tDNm7VnM6HgYKBhQ3MvZ5cuQPr0QOrUQIYM5vt/+WXg1VfNyxo2BBo00JMmLVqUeHlsLHDsGIf8EnkoPz+/+3ng4+Pjadma4rAAJiIiIw8sgEVE1ovIB3GXW4n5JFhPi575OWvc9T6iw6FF9ERX50Ukr+jJsZaJSLdkLHPFbLXD5s3A8OFAnz7AoEHmdd54Q+cgTSg2Nv6xrD16JF7n7Fng2Wf17LsJ+fsDgwfrvKiLF/+710FEKZqHZmuKwpAmIiIjDw3pkiKyVXQapADR3l0Rkeki0tRlvTYiclBE9onIShEp5LKsg4icFJ3qaJokngbJ3TIHZmtSDh0y97CGhekxrLVqARUr6tmDE1qxAkib1ny/TZsC6dIBmTIBxYub1xk+HJg92/3zCg3lcaxE9FB5aLamKAxpIiIyYkhbljKyNSbGPOT20CHgiy/M27RpA+TJA2TLBpQpY14nb16dezWh8HDgmWeA0qWBKlXM869evapnLCYi8lDMVvuljJAmIqIHjiFtmb3ZGhioJz2aM8dcRAI6FHj+/MS3b9+u86o6hgLPmpV4nfnzgUKFzPf79dfAu+/q3KsTJ5rXYQ8rET3BmK32YwFMRERGDGnLkpet7uYxDQrSY1DbtgWaNdNjTxMaPx4oVsx8v08/rcWrl5f2ppq0aGEugCMigJkzdahxQAAQGZn0ayAion+E2Wo/FsBERGTEkLZMs7VUKaBoUR0WbJI2LTBmTOLb/fyArFmB3Lm1p3Xv3sTr7NwJjBxpvl+eKZiI6LHFbLUfC2AiIjJiSFum2frCCzq1zbBh5jd492497pWIiJ4YzFb7sQAmIiIjhrRlzFYiIjJittqPIU1EREYMacuYrUREZMRstR9DmoiIjBjSljFbiYjIiNlqP4Y0EREZMaQtY7YSEZERs9V+DGkiIjJiSFvGbCUiIiNmq/0Y0kREZMSQtozZSkRERsxW+zGkiYjIiCFtGbOViIiMmK32Y0gTEZERQ9oyZisRERkxW+3HkCYiIiOGtGXMViIiMmK22o8hTURERgxpy5itRERkxGy1H0OaiIiMGNKWMVuJiMiI2Wo/hjQRERkxpC1jthIRkRGz1X4MaSIiMmJIW8ZsJSIiI2ar/RjSRERkxJC2jNlKRERGzFb7MaSJiMiIIW0Zs5WIiIyYrfZjSBMRkRFD2jJmKxERGTFb7ceQJiIiI4a0ZcxWIiIyepKz9RsROS0i90SkgsvtxUXkTxE5LiI7RKRMEvfRQUQCReSEiEwVkdTJXOaKIU1EREZPckj/S8xWIiIyepKztZaIFBSRIIlfAPuLSNu4yy1FJMDN9s+KyAURyRN3fZmIdI27XDSJZQkxpImIyOhJDul/idlKRERGzFbtBXYUwHlE5LqIpHJZHiIi3obtPhGRyS7XG4vIpmQsS4ghTURERgxpy5itRERkxGyNXwBXFpGjCZbvEJG6hu0miMhnLtfLiMiZZCxLiCFNRERGDGnLmK1ERGTEbGUBTEREjymGtGXMViIiMmK2PiZDoH18fODr6wtfX1/4+fnZ/f+CiIhs4ufndz8PfHx8nviQtogFMBERGbEAjl8Ai4isF5EP4i63EvcnwSoqIudFJK+IeIme6KpbMpYlxJAmIiIjhrRlzFYiIjJ6krN1iogEi8gd0V7ewLjbS4rIVtFpkAJEpKzLNtNFpKnL9Q4iclJ0qqNpkngaJHfLXDGkiYjI6EkO6X+J2UpEREbMVvsxpImIyIghbRmzlYiIjJit9mNIExGREUPaMmYrEREZMVvtx5AmIiIjhrRlzFYiIjJittqPIU1EREYMacuYrUREZMRstR9DmoiIjBjSljFbiYjIiNlqP4Y0EREZMaQtY7YSEZERs9V+DGkiIjJiSFvGbCUiIiNmq/0Y0kREZMSQtozZSkRERsxW+zGkiYjIiCFtGbOViIiMmK32Y0gTEZERQ9oyZisRERkxW+3HkCYiIiOGtGXMViIiMmK22o8hTURERgxpy5itRERkxGy1H0OaiIiMGNKWMVuJiMiI2Wo/hjQRERkxpC1jthIRkRGz1X4MaSIiMmJIW8ZsJSIiI2ar/RjSRERkxJC2jNlKRERGzFb7MaSJiMiIIW0Zs5WIiIyYrfZjSBMRkRFD2jJmKxERGTFb7ceQJiIiI4a0ZcxWIiIyYrbajyFNRERGDGnLmK1ERGTEbLUfQ5qIiIwY0pYxW4mIyIjZaj+GNBERGTGkLWO2EhGREbPVfgxpIiIy8tCQLi4if4rIcRHZISJl/mb99SJyLcFtTUXkaNx9LBKRLMlc5sBsJSIiIw/N1hSFIU1EREYeGtL+ItI27nJLEQlIYl1fEZkq8QvgzCJySURKxF2fKCKjkrHMFbOViIiMPDRbUxSGNBERGXlgSOcRkesiksrlthAR8TasW1ZE/hCRohK/AG4lIqtcrpcRkeBkLHPFbCUiIiMPzNYUhyFNRERGHhjSlUWHJ7vaISJ1E9yWRnSYdEkRKSLxC+DeIvKdy/WMIhIjWlQntcwVs5WIiIw8MFtTHIY0EREZeWBIJ7cA/lK0mBUReVZYABMR0SPigdma4jCkiYjIyANDOrlDoDeJyGkRCRIdwhwbdzm36DDn1S7rPici5+IuJ7XMVTYRgY+PD3x9feHr6ws/Pz+7P04iIrKJn5/f/Tzw8fHxtGxNcVgAExGRkQcWwCJ6VucP4i63kqRPgiWiQ6DDXK5nET3RVcm4664nukpqmStmKxERGXlotqYoDGkiIjLy0JAuKSJbRacpChDtpRURmS46hVFCCY8BFnFOdRQoIotFJGsylzkwW4mIyMhDszVFYUgTEZERQ9oyZisRERkxW+3HkCYiIiOGtGXMViIiMmK22o8hTURERgxpy5itRERkxGy1H0OaiIiMGNKWMVuJiMiI2Wo/hjQRERkxpC1jthIRkRGz1X4MaSIiMmJIW8ZsJSIiI2ar/RjSRERkxJC2jNlKRERGzFb7MaSJiMiIIW0Zs5WIiIyYrfZjSBMRkRFD2jJmKxERGTFb7ceQJiIiI4a0ZcxWIiIyYrbajyFNRERGDGnLmK1ERGTEbLUfQ5qIiIwY0pYxW4mIyIjZaj+GNBERGTGkLWO2EhGREbPVfgxpIiIyYkhbxmwlIiIjZqv9GNJERGTEkLaM2UpEREbMVvsxpImIyIghbRmzlYiIjJit9mNIExGREUPaMmYrEREZMVvtx5AmIiIjhrRlzFYiIjJittqPIU1EREYMacuyiQh8fMLx5ZfAt98C8+cDa9cCe/cCFy4AMTF2f7pERGQHZqv9WAATEZERQ9qybCKCTJnCkT49kDo14OUFiCRuXl5AmjRAhgxAlixArlxAgQJA0aLAc88BL7wA1K0LNG0KvPce0KUL0LcvMHIkMH06sHgxsHEjcOQIcPUqEBtr9/8aIiJKCrPVfiyAiYjIiCFtmdtsjYoCzp4Fdu4EVq0C5swBxo8HBg0CevUC2rcHWrQAXnkFqFkTeP55oEQJ4OmngTx5gOzZgUyZgHTpgFSpzEW1iC5LmxbImBHIlk23LVwYKF4cKF8eqF4daNAAePNNoF07oEcP4IsvgHHjgNmzgd9+A7ZvB4KCgMhIG/7zERGlUMxW+7EAJiIiI4a0ZY80W2NjgfBwIDAQ2LIFWLoUmDEDGD0a6N8f6NYNaNMGaNYMqFcPqFYNKFcO8PYGChYEcucGsmbVXug0adwX1l5e2pudLh2QOTOQIweQLx/wzDNAqVJApUpArVpAo0bAW28BHToAvXsj3jDw33/nMHAierIxW+3HApiIiIwY0paliGyNiQEuXQIOHgT8/YEFC4DJk4GvvgL69AE6dQJatwYaNwZq1wYqVwZKlwaKFAHy5wdy5tRC+WEPA//1V2DTJg4DJyLPwGy1X4oIaSIievAY0pYxW5Nw6xZw5kziYeADByYeBl6jxsMfBt68ufth4Dt2cBg4ET1YzFb7MaSJiMiIIW0Zs/URi40FwsKA48fjDwMfNco8DLxqVaBs2Uc/DPznn3UY+L59HAZO9KRittqPIU1EREYMacuYrSlETAwQEgIcOBB/GPjQocAnnzx+w8CPHuUwcKLHUey9WNyNvYu7sXcRdj2M2WozhjQRERmxALaM2fovxMbGIiY2BrGGKi42NhZhUWHGZZHRkQgOD8bZ62dx9vpZ431fjriMC+EXjMsOXjqIgPMBCDgfgODwYOM6m89uRkR0RKLbQyJCsOLYCiw7tgzLji1DTGzirt3AvwKx4fQGfa6ROgw8IECHgX/y7Tq8O3Q+Xu+7AC177Eg0DLxCBSBf9XXIX+zS/WHgGTPqEG+vDOGQYn6Qor9DvH+HpL2ZaBh4+twXkKHcqnjDwCtU0GHgZZv5oUTbcSjbaTTq9fjp/jDwWbOcw8A/Xz4Bq45sSPSaIqIj0Hl5Z3Ra3gkdl3XE7ou7E61z8upJ9F3X1/h+7ji/A5N2TMLEHRMx78A84zprTq7BtuBtxmVjt47F8M3DMXzzcOy/tD/R8qiYKAz+YzCi70YnWrbzwk78n///of+6/hjyxxC3j73w8ELjsmGbhqHnqp7osaoHVp9YbVzno9Uf4eKNi4luP3DpAP679L/4cOmH+HDph4iKiUq0jn+QP0ZuGWm83y83fom3fnkLrX5phSk7pxjX8Vnpg70hexPdfjrsNBrPbYxGcxuh0dxGxr+VHed3oMOyDsb7HbZpGGrNrIX/fP8f9Pbr7faxlx9bnuj2G7dvoOKUinj+u+dR4bsK2Hpua6J1jv91HNWmVzPe77ht41Dsm2Lw/sYbjeY2Mq7T2683xm0bZ1zm/Y038o7Oizyj8uCnAz8lWn496jpyjMhh/Bv/fs/3yDg0IzIMzYB8o/MZ73/ghoHovKKzcVmpiaUggwQySNBvZT9mq80Y0kREZMQC2LJsIoLsg7Ij+/DsaDK3ifH9LTKuCGbumZnodv8gf2T6KhMyfZUJGYdmxMbTGxOtM3HHRBQYU8B4vzVm1EDaIWmRdkhalJxY0rjOs+OfRa/VvRLdfvb6WaQanOp+G79tfKJ1lh1bhjRD0hjvt/7s+vd/5GX+KrNxndITS6P+7PrGZY5tZZCg/dL2iZafCTsDGSQIiQhJtKztr23jbW9Se2ZtlJpYyrgs3Zfp7m9b94e6xnW8BnlhxbEViW4ftmlYvMc2Pb+Oyzqi8NjCxvt9euzT99/zF6a+YFwn54icmLhjYqLb/U743f+80w5Oh5nr/bF5M7BkiXMYeMNPfkSmj8sZh4FnaNkF0qMEpHtppGrRzjwMvNFHkJIrEg0Dz5jjOqRzFXh1qQivrs8jf821iYaBN+m4E7k/q45584CVK4G1a4H167XHetCvc1FrclO8NOV1vDenO44dA06d0qnCLlwArlwBRv/xLWbv+gVRUdojf++e87W3X9oe7y56F+/9+h7+OP1Hovcm8k4k2i9tbywwN53ZhP8t/x/+t/x/xr8FAPjt+G/GQgkARmwegd5+vfHxmo+x9uRa4zoDNwzE5ZuXE90e+FcgBm4YiEEbBmHwH4NxO+Z2onX2XNyD+QfnG+/3l0O/YMyfY/D11q/dPvac/XOMxe3VW1cxZecUTN01FVN3TcW1W9cSrRMcHowlR5cY73frua2Yd2Aefjrw0/0dOgltOrMJp8NOJ7r9zt07WH5sOZYfW44Vx1fgys0rida5cfsG/IP8jfd76toprA9ajw2nNyDgfIBxncC/AnHu+jnjst0Xd2PnhZ3YdWEXQiNDEy2/G3sXBy4dwN3Yu4mWhUWF4VjoMRwLPYYTV08Y7//arWvG+wV0J9n58PO4cOMCzl85z2y1GQtgIiIyYgFsWTYRQbuf26HT8k6Yumuq8f0dtGGQsdfq7PWz+HTtp/h07afo+3tfY4/locuHMGH7BOP9Lj26FCO3jMSoLaPc/oBedHiR2x6zGbtnYMbuGZi5Z6b5B3TkVSw6vMh4v4cuH8KyY8uw4tgKtz+OD10+hKBrQcZljh7YnRd24nJE4sIhJjYGR64cMfawhkeF4+z1swgOD3bbyxsZHYnIaPMZraJjot32PD/JHMPA9+8H1q3T6awSDgN/+23zMPB8+ZzDwMuU0em3SpcGihXT5YUKAXnz6pDvbNmcvdruTmzmaK7DxXPm1BOcFSigx2J7ewMlS2px//zzOny8enUtyuvV0171xo11R0CLFvrc27QBPvhAj9nu0gXo3l1PyNanD9Cvn54cbcgQYNgw3aEwbhwwcSIwZYruZJg1C5g3T4fI//orsHy59uyvXQts2ABs3gxs2wbs2qXHfx86pMerO4r9ixe12A8LAyIidL7wu3fjF/uUcjBb7ccCmIiIjDw0pIuLyJ8iclxEdohIGcM69eKWHRKRgyIy0mVZQxHZKyJ74v69ICK7XJbnEJG5cfd/UESGGe6f2Ur0L929C9y+Ddy8qYVhaKgW4ufO6Zm5AwOBw4e1MN+1C9i+XU+AtmGDnmhs9WotRBcvBn75RQvU2bOB77/XwnXSJD37+OjRwPDheqKyAQP0pGl9+gC+vnpm8C5dgI4d9ezkbdroMd8tW2oB3aQJ0LChFta1a+tw9RdeACpW1GK/VClnsV+woBb7OXPqCdcyZtRCPjnFfsaMuk3OnHofBQtqsV+smD5G2bL6mI5iv3ZtfU4NG+pzbNZMn3Pr1voa2rfX19Sli75GX199zf3763swZIi+J6NHa7E/aZK+Z99/r+/hvHn6ni5erO/x6tX6nm/YoJ/B9u36mezfr5/R8eP6mZ07p8V+aKh+pjdv6md8N3GHa4rmodmaojCkiYjIyEND2l9E2sZdbikiAYZ1nheRZ+MupxORzSLSzs39rRCRXi7XF4uIr8v1vIZtmK1ElCz37mkBGBWlvb9hYdobfPGiFoynTmkBefiw9h47iv3Nm7XgXLtWe5uXL9fe5wULtECdNUt7p6dM0d7qceO0oB02TAvcAQO0d9tR7Hfv7iz2P/hAC+W339Ze8mbNtNf8lVe0sK5VSwvtF17QXvayZbUQ9/bWwrxgQe2VdxT7jmH1SRX6Xl7xpy3LlUuL/UKFdAf3D8z8AAAgAElEQVRCsWI6eqBcOS32q1bVHQ61awMvv+ws9t94Q4v9d94B3n9fi/1OnYCuXbXY790b+PRTLfYHDtQdH8OHA2PG6A6RSZOAqVOdxf5PP2mxv2QJsGKFFvvr1gF//KHF/o4dwO7dWuwfOaI7ZoKCgOBg3WETGgpcv+4s9mNjPTZbUxSGNBERGXlgSOcRkesiksrlthAR8f6b7SaKyADD7QVF5JaIPBV3vZiInE3G82C2EhElcO+eDqmPigJu3ACuXdNi/8IFHQp+6hRw7JgOEd+3T+cK37ZNi/31653F/rJlzmJ/7lwt9qdPB777Tov9sWN1qPqwYcDgwTqEvV8/HbLfq5cW+50765D3Dz7QM6s7iv3XX3cW+3XrarH/4otAlSpa7D/3nA6x9/bWuckLFNBiP0cOHZKfIYMeI590z77HZWuKw5AmIiIjDyyAK4vI0QS37RCRuklsk1+0SK5sWNZPRBa6XH9dRLaKyBTRYdF+IlLRsB2zlYjoCeYo9m/dchb7ly9rsX/woMdla4rDkCYiIqMnoADOJjpE+iM3y0+IyKsu198Ukbsi8lLc9UYicl5EUhvuF6XHlEb5yeVRfnJ5VPiuAipOqYhKUyqh8pTKqDK1Cl6Y+gKqTquKF6e/iOrTq6PGjBr4z/f/Qa3va6H2zNqo80Md1P2hLl6e9TLqz66PBrMboOGPDfHqnFfRaE4jNJnbBK/New1N5zXFGz+/geY/N8eb899EywUt0eqXVnj7l7fxzsJ38O6id9Hm1zZo+2tbtFvcDu2XtseHSz9Eh2Ud0Gl5J3Re3hldVnRBt5Xd0H1ld/RY1QO9VveCr58vPl7zMfqs7YNP136Kfuv6ob9/f3zu/zkGrneewXboxqEYtmkYhm8ejlFbRmHMn2MwdutYjN82HhO2T8CkHZMwOWAypuycgum7p98/wdbsfbMxZ98czD0wF/MPzseCQwuw8PBCLD6yGEuPLsXyY8uxMnAlVgWuwpoTa7Du1Dr4B/lj4+mN2Hx2M7ac3YLtwdvvnzRr78W92H9pPw5eOogjV47cP1tr0LUgnAk7g3PXz+FC+AWERIQgNDIUVyOvIiwqDBHREYiMjkRUTBRPgkVED50HZmuKwwKYiIiMPDCk/8kQ6CyiJ8vq5+a+6orIORHxcrmtioicSbDeFcP9ZxMR5KubD/kb5Ee+BvlQomcJVJlaBZWnVEalKZVQcUpFVPiuwv0Cuey3ZfHcpOdQZlIZlJ5YGqUmlkKJCSVQYkIJFJ9QHN7feMN7vDeKji+KIuOKoMi4Inhm3DN4euzTKDy2MAp9XQgFvy6IAmMKIP+Y/Mg/Jj/yjc6HvKN0zss8o/Ig98jcyD0yN3KNzIWcI3Ii54icyDEiB7IP1+masg3PhqzDsiLrsKzIMiwLMn+VGZm/yhxvSibHPJgZhmZA+i/TI/2X6ZHuy3TahqS7Px1PmiFp7rfUg1Pfb65TLKUalApeg7wSNdfphDylmV5HqkGp4r1e1/fB9f1xvGfphqS7/1463lvHe+147x2fheOzyTIsy/3PLNvwbPc/yxwjctz/jHONzHX/s39q1FPIMyoP8o7Ki3yj893/v1JgTAEU/LogCn1dCIXHFsbTY5/GM+Oeuf9/7dnxz8J7vDe8v/FGsW+K3f+/WXJiSZSeWBqlJ5XGc5OeQ9lvy6Lct+WcO32+c+706bS8E3r79f7X7eM1Hz+Q9smaTx5I67O2zwNpjjO//5v22e+fPZDW9/e+D6T1W9fvgbT+6/o/kPZ//v/3QNrn/p//4/buiHfxYssX8WLLF1HljSqelq0pDgtgIiIy8sACWERkvYh8EHe5lZhPgpVZtPj9PIn7+VFEhhhuPyAi5eMuVxMtgNMmWIfZ+gjFxsYiJjYGt2NuIzI6EhHREbgedR1XI6/iys0rCIkIwYXwCzh3/RzOhJ1B0LUgnLh6AsdCj+HIlSM4ePkg9l/ajz0X92DXhV0IOB+Abee2YcvZLdh8djP+OP0H/IP8se7UOqw5sQarAldhZeBKLD+2HEuPLsWvR37FosOLsODQAvx88GfMOzAPc/bNwax9szBzz0zM2D0D03ZNw5SdUzA5YDIm7ZiECdsnYNy2cRi7dSzG/DkGI7eMxIjNIzBs0zAM3TgUQ/4YgkEbBmHA+gH43P9z9Pfvj76/98Wnaz/FJ2s/wcdrPoavny8+Wv0Req7qie4ru6Pbb93QZUUXdF7eGZ2Wd0KHZR3w4dIP0X5Je7Rb3A7v//o+2vzaBu8uehetF7bG27+8jVa/tELL+S3x5vw30fzn5mj2UzO8/tPreG3ea2gytwkazWmEV+e8ioY/NkSD2Q3w8uyXUW9WPdT9oS5e+uEl1J5ZG7W+r4Wa39dEzRk1UX16dbw4/UVUm1YNL0x94f5On4pTKqLDsg74aPVHD6T1XNXzgbUeq3o80NZ9ZfcH2nxW+jyw1u23bg+0df2t6wNtXVZ0eWCt84rOD7Q55ox+EO2D+R94YramKAxpIiIy8tACuKTocbrHRYvf5+Juny4iTeMu9xeRaHFOdbRH4vcEZxORCHGeKdpVJRHZLiL7RIdX1zKsw2wlIiIjD83WR+KM6HFMjmB+y816HUQkUPQ4pakS/zikpJY5MKSJiMiIIW0Zs5WIyJPFxgLR0XoWK8f8VH/95TyT1blzwOnTwIkTeupqx6TUe/Y4T1+9ZQuwcSPg76+nsF69GlixAuE//cRsdSNInEOs3HlWRC6IHvMkIrJMRLrGXS6axDJXDGkiIjJiAWwZs5WIHh+u8w/dvAmEhwNXr+ocRCEhOmntmTPAyZM66fCRI8CBA8Devc6Jh//8E9i0Secj+v13wM8P+O03nZNo8WKdLPfnn53zEn3/PTBtGjB5ss5NNH68TrY7cqRzMuKBA4HPPwf69tUJiXv3Bnr2BHx8nJMSf/gh0K6dzlXUujXQqhXQvLnOV9SkiU4AXL8+UKeOzllUo4ZOEly5snOS4tKlgRIlgKJFdaLiQoWAfPmAp55yTlacKROQPn1y5jBytlSpdPLiDBl0DqTs2Z0TGBcoABQuDDz7rE5iXLKkzqFUvjzCy5dntrpxWkQq/M06n4jIZJfrjUVkUzKWuWJIExGREQtgy5itRA/LvXvA3bvA7dtAZKRzjpnQUODSJeD8eZ1UNigICAwEjh51Tiy7ezcQEABs3aqTy/7xB7BuHbBmjU4wu3w5sGQJsGgRMH8+MG8e8OOPwMyZOtHslCnApEnAN984J5sdPhwYOhQYNMg54eynnwIffwx89JFOOtu1K9CpE/Df/+rEs23aAO+8A7z1FvDmm0CzZsBrrwGvvgo0aADUqwfUrg3UrOmchLZiRaB8eaBMGS2mihUDihTRIssxGW2uXFqEZc6sRVnatICXV/KKOS8vIE0a3S5zZiBbNr2/PHmA/Pn1cYoU0QlwS5bU51GunD6vKlWAatX0+daurRPoNmigr6dJE319b76pxes77+jrb9dO349OnbTY7d5d36/evfX969dPi+NBg4Avv9SiedQo4OuvtZieNEkn/p02TT+f2bO1+J4/H1i4UIvy5cuBlSu1WF+3DtiwQYv4rVuBHTu0uN+3Dzh4UIv+wECdjPjMGf1/FBKiOwmuXdOdBjdv6v+7mBj9f2gRs9W906LHF+0XPW7pKcM6E0TkM5frZcR5dsqklrliSBMRkRFD2jJmK9krOlqHbJ4/rz/q9+/XXrz167UgWLRIi4UZM7R3bswYLeI+/1x74nr21KKkfXvteWvVCnjjDaBRI+1te+kl7WmrUsXZy1aqlBZHRYpoD1v+/PGLssqVgerVtXeuUiWgQgXndsWLa+/c008DBQtq71zu3ECOHNqzljEjkC6d9rglt3cudWrt0cuUSXv4cubUHr98+fT5PfOMPmaJEtpDWLasvpbKlfU51qihPYp16uhrbtgQaNxYex6bNwdattQeyffeA9q21Z7Kjh31ffPx0fewd299P/v21fd24EDt+Rw2THtCx4zRYm7iRO0pnTZNe05nzdLP5+eftWd18WLtaf3tNy3mfv9dP8tNm7Rndvt2Leb27tWe2yNHtCf35Ekt5oKDgYsXtZi7ehW4fl2Luago4M4dHe5Ljwyz1b3Ccf+mFpERIrLSsA4LYCIiemgY0pYxWz3Z3bvaqxgSor2Ihw5pr+HGjVp8LF0K/PST9jpNngyMG6cFzcCBWuj4+mqPX4cOWhi1bq0FU5MmwCuvaEFVs6azECxXTguw4sV1uKSjRy9vXmcRmDWr9splzKhFXdq02luXOrX23CW3ly9hj1+qVHofadNqgZkhgxaMrsM5HT2AhQrF7wF0FIxVqmhh+9JLWig2aqQ9fq1aaXHYvj3QubMWdwsWAL/+qu/hihV6TOTatXqM5MaNeszktm16DOWePVq4Hz6sx1ieOKHHXJ47p8dgXr6sx2SGhekxmrduaeHPYo4ec8zW5MkvIuGG2x/YEGgfHx/4+vrC19cXfn5+dv+/ICIim/j5+d3PAx8fH4a0NU9uARwbq8NSQ0N1GOqRIzrsdMsWHYK4bJkWQbNnA1Onau/XyJHA4MFA//7aY9a9uw6LbNdOh0u2aAE0barDKevV0165F1/UnjrHkFDH8X0JexBz5tShnI5exAwZtNBzFI+pUv374jFNGmfxmDGjPla2bPrYuXPrcylYUJ+bo8exTBl97pUr62upVUtfW8OG+lpbtNDX3q6dvhfdu+t707+/vlcjR+p7N3WqvpcLFuh7u26dvte7d+t7f/asfhaRkSwMiR4TLIDNMolIdpfrvUXkD8N6RUXkvIjkFREv0RNddUvGMldPbkgTEVGSGNKWWc9Wx9DV4OD4Q1f9/eMPXZ0+3f3Q1c6d4w9dbdYs/tDV6tXjD10tWTLpoatZsmivoKN4TJv23xePXl7O4jFtWu3VzJhRezmzZtVez9y5E59Mpnhx7S0tV057T6tW1d7UunW1d7VJE+1tbd1ae187dNDeWF9f7Z0dOFB7a8eN097bmTO1N3fpUu3d3bhRe3sPHdLe35AQPfYvJuZB/3kR0ROK2WpWVHTqI8cxwEtE5Jm4Za7zGIroVEcnRac6miaJp0Fyt8yBBTARERkxpC3LJiLIKUHwlpOoJLtRT/zRQn6Fj0zSos9RPLoUkJGSATclE+7906Gr6dM7h65mzZr00NVSpeIPXa1RI/7Q1TfeiD90tUsXLar79NEie+hQLbonTtTjR+fO1aJ85Uo9wcz27Vq0BwbqMNWwMC3qiYgIALP1ccACmIiIjBjSlmUTEcyqPgITq83GF88vQ5fSG/BW0Z1o7r0XmDAh/tDVFSuAdevwbp3zcTXuPaT2ikX6tLHImjkWeZ66h2XLzJ9RZKTexdatWm9ylCsR0eON2Wo/FsBERGTEkLbMUrZGR2vH6bp1ehLYYcOAXr20M3b/fvM2W7cmHoXs5aUdw82bu3+sr7/WGUXmztVRv2fOcJQvEdGjwGy1HwtgIiIyYkhb9sizNSZGD1ndsEGL2lGjtGPZnaefNk8Rmjmz+22mTgXefVdHRA8bpkX6unVatLN4JiJKHmar/VgAExGREUPaMo/K1thYHT69davOSONOt246jWqWLHouLNfi2d1227frocb16wNvvaX3MXiwnsPryJGH83qIiB5nzFb7eVRIExHRo8OQtuyJydbYWJ2O1d15rrZs0fNteXvrCZ2zZtVzdqVKpQWxOyVLAsWK6Yme69UDWrbUk1tPnPhwXgcR0aPCbLXfExPSRET0zzCkLWO2/ktt2mjhW6mSFsL58+vJrUuVcr9N/fpaYOfNq9Ptli8P1K6tJ7a+evXRPXcioqQwW+3HkCYiIiMPDeniIvKniBwXkR0iUsawTr24ZYdE5KCIjEiwvKmIHI27j0UikiWZyxyYrTZYsADo3l2nAG7QAHjhBe1JLlhQZ2MyGTZMh3KnS6fHPz/1lM4YVa6cHuPsDs+4TURWeWi2pigMaSIiMvLQkPYXkbZxl1uKSIBhnedF5Nm4y+lEZLOItIu7nllELolIibjrE0VkVDKWuWK2eojgYOcZt3v21DNuv/oqUK0aMGeOeZuYmPhn3E6TRqdgzpULaNLE/WNt2aInKQsK4knDiJ5kHpqtKQpDmoiIjDwwpPOIyHURSeVyW4iIeP/NdhNFZEDc5VYissplWRkRCU7GMlfM1hQsNlanjdq4EfjpJ2DMGOCTT4B27YBBg9xv9+yziaerSpNGe57d9SZv3w4MHQrMnKknGjt2DIiKejivi4geDQ/M1hSHIU1EREYeGNKVRYcnu9ohInWT2Ca/aJFcKe56bxH5zmV5RhGJES2qk1rmitlKRq5n3F6wABg3DvjiC/fr9+unw7NTpYpfPIto4W0SEZH4jNsrVwIHD+oyIrKXB2ZrisOQJiIiIw8M6X9aAGcTHSL9kcttLIDpsRQbC4SGAjt3AkuX6vBtk7NngXz5gGzZnGfcdhTN5cu7v/+33gLq1gVatNAzbn/+OfDtt1o8E9GD44HZmuIwpImIyMgDQ/qfDIHOInqyrH4Jbm8lIqtdrj8nIueSscxVNhGBj48PfH194evrCz8/P7s/TnrChYfrlFXuNGsGFC/uPON2hgxA6tRaRLvTt6+ecbtCBecZtzt00J7rs2cf/Gsg8lR+fn7388DHx8fTsjXFYQFMRERGHlgAi4isF5EP4i63EvNJsDKLFr+fG5ZlET3RVcm4664nukpqmStmKz0RZs4EXnkl/hm3c+QAMmYEVq0yb3P8uJ4wrEABPS66VCktoKtWBaZNc/9YI0YAffpoz/SXXwKjRgHffAPMn+9+m4sXgQMH9DHPnAFCQoBr14DISODevX/32oms8tBsTVEY0kREZOShIV1SRLaKTlMUINpLKyIyXXQKIxGR/iISLSJ7RGRv3L+uPcGOqY4CRWSxiGRN5jIHZiuRG1FRwN69eoKvjRv15F4rVgCLFulxyu6MHKnTXHXsCLRtC7z9tvY4d+6c9DaO3uyEx1AfPmze5sQJ4Pnn9UzgtWvrlFqvvaZDwxcudP9YP/wATJgATJ2qZxafPx9YsgTYtMn9Njdv6hRdt25xWq0niYdm6yOxRkT2iQbzRhGpaFinjojckvgBnj5u2d/NcejAkCYiIiOGtGXMVqLHzL17QHQ0cOOGHkvtbiqq8HBg+XItdufOBb7/Xo+FHjsW+PNP9/ffs6cOI3/1VT2WukYNoHJl4M033W/zf/8Xvyh3nBU8Vy4txE1OnQKaNgVattRpuz78EOjSBfjoI2DdOvePtWqVHju+ejWwfr2+ll273D8OPTzMVvdc35DmosVwQnVEi16TpOY4TPg4CHc3QzwRET2xGNKWZRMRVJtYDQ1mN0Czn5rhnYXvoOOyjuizto/79zsqHCERIYiOiX6EnzIR2SUmRgvyK1f0pGYnT2rP9J497qe7Cg11FuTDhwMDB+qx2L6+wJo17h+rZUugUiXgueeAYsWAwoWBp57SXm53/u//gCxZgNy5dXh70aJA6dLaQ37unHmbs2eBrl2BXr2Azz4DBgwAvvpKz1q+c6f7x9qzB9i9Gzh0SIvyc+f0mPUbN9xv46mYrcnTXsyFbh3Rnt/kcJ3j0JUWwAnHhZial5ezpUrlbKlTa0uTRlvatNrSpdMzJ6RPr2NPMmbUlimT7t7KkgXImlVPU5gtm45RyZEDyJlTd33lzg3kyQPkzaunM8yfXw8YKVRI/2qffhooUkQPIPH21r/m4sX1IJRSpfQv9LnngHLl9LSHzz+vf/lVqujBKtWqAdWrAzVrArVqAS+9BNSpA9SrB9SvDzRsCDRqBDRurGNfmjUDmjfXMTCtWgGtWwPvvgu0aaOT/7VvD/z3v0CnTjoep1s3Havz0UdA7946SeCnn+qZIT7/XL+xBg/WCf6GD9eDWb7+WudEmDBBv92mTgVmzNBxNT/+CMybp2NqFi4EFi8Gli3T0zP6+eluvw0bgM2bdbfejh26a2/fPh1TdPSofqOcPq3fKhcv6jfL1au6uzMyUneNcgwOEcVhSFuWTURQcnRJeI/3RqGvCyHvqLzIMSIHco/M7fb9fnfRu5BBEq+lGpwKaYakwdRdU43bXI64jPKTy6PatGqo80MdNJrTCC0XtES7xe0wffd0t4918upJnAk7g/CocMTye5+IDEJDtSDfvVun7tqwQX9yLlumw7dNgoOdBXm3bvrTuE0b/em8eLH7x3rxRS3Is2bVEsJRfrzwgvttRozQn/qVKulP+jp19Od7s2buT/h24QIwbJj+5P72W/2ZPWcO8MsvQGCg+8cKCdEdFeHhwO3b/+4YcmZr0maLnl3yrIiUNSyvIyLhIrJLdLhzVzf345jjsLJhmRbA/v7Ali16MIa/vx6QsWqVHpSxdKkemLFggc74PmeOHtwwY4YWaJMn6/+gCRO0eBszRg+6GDZMz1IwaJBOcte/v/5F9OmjBWGvXkCPHvrX0aWLFo0dO+pYjg8+0AM83nsPeOcdPTd/y5Y6juSNN3TsR5MmWqA2bKgHaLz8shavdero7qz//EfHn7z4op5ZoUoVHYtSsaKebaF8eaBsWaBMGS2WS5YESpTQItrbW3dzFSkCPPOMFtuFCunurwIFtBjPm1cL9Kee0mI9Vy4t3nPk0GI+Wzb9K86SRQv+zJm1+M+YUXcIZMigOwfSpdOWNq1zJ0KaNM4dC44dDa47ILy8/n6HxcNuD2KHSKZM5h0ijp0hOXI4d4Y89VTiHSIFCzp3iDzzTOIdIiVKOHeIlCnj3CFSoYL+P3DsEKlaVf+f1Kih/3/699fdnp9/ru2LL3QX5sCB2gYN0p0XQ4Zo+/JL3ZHx1Vf6/37YMN2pMWKE/i2MHKk7OEaP1r+Pr7/WNnas/s2MH6/tm2/072jiRG2TJunf1uTJwHffaZsyRf/upk3TNn26/i1+/72ejWTmTN1hMmsWMHu2th9/1L/buXN1J8q8efq3/PPPukNl/nz9+/7lF925snCh/s3/+qum1ZIl2pYu1dRbvlzbihXAb7/pTphVq7StXq3puGaNtrVrgd9/1x0069bp98v69Zqif/yhbeNGPUhq82ZtW7boTpytW4Ft27Rt3647dQICtO3cqTt4du/WtmePHlS2bx+wf7+2Awd058+hQ9oOHwaOHNGdQceOaTt+XBPvxAltJ0/q+LKgIG2nT+uZU86e1R1H585pup8/ryl64YLuTAoJAS5d0sS9fFlTMjQU+OsvbVev6plXwsK0Xb+uKXrjhk7MGRGhvyYiI/VgsFu3dPf/7du6Y+rOHW0xMcDdu7qjKjb2oZ/FhSFtmWar4/vNteXK5fb9vt3vU0Rnz4JbObLgZo7MCM+ZCddyZURo7oy4+J150tdLJ/fjYIHU2F8wNfYUSoWAwqmw7Wkv/PmMF36pX8DtY02snhpLSgkWl9a2tJRgeUnBktJebrdZ5vsaNnunwVbvtNjunR47vTNgT9GM2O+dGYEzzc8vKiQYYcULI6L4M7hdoihiS7jsqO7Uye1joUULzWjHTmxHq1bN/TbTp+t3uqO98IK2qlX1e8kkLEx/L/znP7ozvFYt/Q3x0kuaBe5066a/PV55RVvDhtreeMP9NgsX6u+XZs20vfGG7lh/8039vjMJD9cd7q1b6++hd97Rne/vvae54c7Qofp7qkMHbR07auvRw/02/v66vEcPHc/bq5c2X1/3B+dGRupvu759dQd///7O7EzqgNmAAM0LR2Y4csPf3/0258/rckeOONqGDfodaxIT48wWR744MubkSfePdfSoZk7C3Nmzx/02f/2lOeTIIkfbv999N+bdu5pNru3IEW0XLyb9XgQGJs6voCD329y4oXnmyDRHO3fOfXdzbKw+D0cLCXHmXVKHeISHx88/1wx0xzE+PS4XY8MjEBUagZuXb+r7ZBB4/B5WL4/G0oV3sGDuHfz4/R1M/y4GE8fF4MY18xj3EyeANu/dQ6uW99D0tXt45ZV7eOmle3jxRf2Z5E6hQol/CqdPr31m7nz7rQ6Jb9ZMS5n339c/x06dmK3J0VZEVhpuzyLOk28UEpH9ome8dGWa4zDhch6nlBLFxuoXf1SU/rgOC9Mf5CEh+gP+zBn9sjx2TIuD/fu1kAgI0CDevNn6DpGJE7WY+zc7RDp10m+Jf7NDpG5d/RHzT3aIVKgA/O9/+vidOukPhg4ddBfmf/+rz6d9e31OH3ygvf9t2+q3Wps22t57T3+gOH6stG6tZ+t46y3dBdqqlT7/Fi30Nbz5pv4IeuMN/ZZ8/XVtTZvq6IMmTbQ1bqyv8dVXtTVsqD+8GjTQb+D69Z07gurW1VanjvM9cPy4+89/dORDjRraqlfX96VaNW1Vq+qPRsd7VLmy7iyoWFFHUjz/vPM9K1dO37eyZXUHg2OHUunS+gPXsWPJsXOpWDHnDqaiRXWHhWNHk2NnU+HCzh1Orjud8uXT5rrzybQDKuFOKNcdUY6dUI4dUaadUK47nx6HnU3/dMeUY0eU604odzugHEWZmxE54TlyMKSt0Wzt0UO/33r31iKiVy/9znNn3TodO+jYKdy5s/O7aPdu8zbh4c7vobZtnd9Bf1Mg3fmsD240b4LQZg1wvmkdnGhSA4dfrYJ9Td0XmMtHd8Lc2jnwQ+2smFErM6bUyohva6XHN7XSwn/uUOM2O4/8ji/qCgbEtYF1BENeEgytLfjqncJuH2tqk3yYXyU9FlXOiGWVM2Nl5SxYWyk7NlTL53abi+OH4nKFYrhWviRuli+NO+XL4Z6jcHY3mW1oaOLvLcd3V8eObh8LjRvrd1nC77NSpdxvM3Kk8/vN0RzfcwsWmLcJCdHvPEfLk8fZkjq4tFo1/U50NMd3Y9687rfp3z/+d6ZrmznTvM2FC87vVNfv1gwZNIPc6dDBmRmu739S3X3z5ztzxNEcn8HmzeZtwsM1YxLmzNNPJ/23+Pbbzl+zgygAABJRSURBVOxxzZ8SJdxvM3u2M48czfH+r19v3iYsLPF77vhe7tbN/WM1bpw4v9Km1Ux0Z9o095m2dq375+cub5L6+2jQwLxN9uxJPz93j/UYPL/YqdMRlSoTrqfKicupC+Bs6qIITF0aQWlK6I5+g+2/38C0tN0wMa0vxqTti6/SDsCAtMPgm+ZLZmsy3RKRnH+zTl8R+cblurs5Dl1xrkIiouS6d093Lt29qy0mRntmo6O1t/b2bd3pdOuW9oxERmrPbkSEc892eLj2AIeF6R7xa9d07/hff+mP8dBQ7UG+fFn3sjv2uF+8qD82z5/XFhyse+4de/HPnNEe66Ag7cU+dUp3cp044ewpOH5cd3odPersZTh8WHeCHTwIHDwIv+++g+/778P3/ffh8/bbDGlruHPZRWxsLMKiwhB0LQg7L+zEulPrsOjwImwP3u52mw7LOuClmS+h6rSqKD+5PEpMKIEi44qg9KTSbrdp/nPzREPIHW3uAXPXzqHLh1B4bGF4f+ONMpPKoPKUyqg5oybqz66PcdvGuX0svxN+WBm4ElvObsGRK0d47DZ5Nnejie7di593jsxzjEhy5/btxDnoaO5ERzuz0dEcGXnnjnmb2FjNS0dmOnLz0iW9L3dCQ5056shSxwgvd8LD4+erI2NPntTXaHL3rjN3Hdl79CjCAwKYrQbZRaSAy/XmokOhE8ovIl5xl7OKyBbR44VFkp7j0BVDmoiIjDgE2jJmq42iYqJwIfwCDl0+hC1nt2Bl4EpcjTQPkT0TdgZN5zVF/dn1UWNGDVSaUgllJpWB9zfe6L6yu9vHyD48u7HQTvdlOrfb9FzVEwXGFECRcUVQcmJJlJ9cHlWnVUWdH+pg/6X9xm2uRl7FzD0zsejwIvgH+WP3xd0IuhbEY7eJPBiz1ewZ0WN694ue/XmtiJSPW+Y6j6GP6DRHe0WnOvrC5T7+bo5DB4Y0EREZMaQtY7Y+IVx7t3df3I2t59wcywtg9r7ZaDG/BRrNaZSodzvgfIBxm7Un1yLV4FTGYrv2TPen7y01sRTyjsqbqHe7+c/N3W6z8fRGTA6YjJ8O/JSodzsmNonePiL6R5it9mNIExGREUPaMmYrPRTRMdEIiQjBocuHEBzufrhmn7V98M7Cd+73btecUROVplRC/dnuz9jzxs9vIPXg1PAa5JWo2F4VuMq4zbpT65BteDbkHpk7Ue/28M3D3T7Wb8d/w8LDC7H06FKsDFyJtSfXYsPpDdgbstftNjejb+LarWuIiI7A7ZjbiL3HHnDyTMxW+zGkiYjIiCFtGbOVPJ5r77a745tPXj2Jrr91Rdtf2ybq3R65ZaTb+3574duoNr0aKk2phLLflkXJiSVRdHxRNJrbyO02n/3+WaLCPPXg1MgwNANOXTtl3ObIlSOoPLUyXpz+ImrNrIV6s+qh4ZyGeG3ea1h0eJHbxxqxeQT6reuHAesHYOjGoRi5ZSTGbh2L+Qfnu90m8K9A+Af5Y9OZTdgWvA27LuzCgUsHcDT0KKLvmt+/e/fu4d5DPps/PX6YrfZjSBMRkRFD2jJmK9EDdufuHURER+Dqrau4FHEJweHBCLoWhGOhx9wWmGFRYVhydAl+OfQL5h2Yh1l7Z2H67umYHDAZuy7scvtYA9YPQOcVnfHfpf9F28Vt8c6id9ByQUv09uvtdpvRf45G8QnFUWRcERT8uiCeGvUUsg/PjkxfZcLpsNPGbQLOB0AGCdIOSYtMX2VC9uHZ8dSop1BgTAFMDpjs9rHeX/w+Gs1thNd/eh0tFrRA64Wt8f7i9zH4j8Fut9lwegNG/zka47eNx+SAyZi+ezpm7Z2FeQfmISI6wrjNzeib2HNxDw5ePohjoccQdC0IweHBuBRxCbfu3HL7WJQ0Zqv9GNJERGTEkLaM2UpEfyv6bjTOXj+Lk1dP4mjoURy4dAC7LuzCtuBtOB9+3u12Cw4twNRdUzFpxySM3ToWI7eMxNCNQzFt1zS328zdPxdvL3wbb85/E6/New0N5zREvVn1UGtmLYREhBi32XVhF3KNzIWsw7Iiw9AMSD049f3e99F/jnb7WOUnl0fe0XoMetHxRVFyYkmU/bYs3l/8vtttftz3I95d9C7aLWmHjss6outvXdFzVU98vOZjXLt1zbjN5ZuX8f2e7/Hjvh/x88GfsejwIiw7tgyrAle53ekAAOfDz+PCjQu4cvMKwqLCcDP6Ju7cvfPIeuOZrfZjSBMRkRFD2jJmKxGlSLH3YhF9Nxp37rqZmgg6vVjA+QD8ee5P/HH6D/x+6nesClyFTWc2ud1mfdB6jNg8AkP+GIIv1n+Bvr/3xcdrPkaPVT0QFhVm3ObwlcNo8GMD1PmhDmp+XxNVp1XF8989j+e+fQ4/7P3B7WMVHlvYeGK56jOqu93mq01fofSk0ig/ufz9YfW1Z9bGy7NfxpWbV4zbnLp2Cj4rfdBrdS/0WdsH/df1x8ANA/HF6i+YrTZjSBMRkRELYMuYrUREj7G7sXcRFROFG7dv4OqtqwiJCMHlm5fdrn/8r+NYc3INVhxfgcVHFmPBoQWYu38uftj7AyLvmOcBPh12Gn3W9kGv1b3gs9IH/1v+P3y49EO8PfdtZqvNGNJERGTEAtgyZisRERkxW+3HkCYiIiOGtGXMViIiMmK22o8hTURERgxpy5itRERkxGy1H0OaiIiMGNKWMVuJiMiI2Wo/hjQRERkxpC1jthIRkRGz1X4MaSIiMmJIW8ZsJSIiI2ar/RjSRERkxJC2jNlKRERGzFb7MaSJiMiIIW0Zs5WIiIyYrfZjSBMRkRFD2jJmKxERGTFb7ceQJiIiI4a0ZcxWIiIyYrbajyFNRERGDGnLmK1ERGTEbLUfQ5qIiIwY0pYxW4mIyIjZaj+GNBERGTGkLWO2EhGREbPVfgxpIiIyYkhbxmwlIiIjZqv9GNJERGTEkLaM2UpEREbMVvsxpImIyIghbRmzlYiIjJit9mNIExGREUPaMmYrEREZMVvtx5AmIiIjhrRlzFYiIjJittqPIU1EREYMacuYrUREZMRstR9DmoiIjBjSljFbiYjIiNlqP4Y0EREZMaQtY7YSEZERs9Vsr4jEiL4xLd2sU1NEwuLWuZVgWU+X2x0tq5v7YUgTEZERQ9oyZisRERkxW826ikgl0SLYXQH8rIj8T0S+EHMBnPA2dxjSRERkxJC2jNlKRERGzNakJVUAO5iKXRbARET0rzGkLWO2EhGREbM1af+mAIaIRIrITRH5KYntGdJERGTEkLaM2UpEREbM1qRZLYDziUiBuMtVRCRKRMa42T6biOBI8BEEhwezsbGFB+N61HWE3w5nY3viW/CVYIa0NSyAiYjIiAVw0qwWwAmtFj2xlkk2EYHkE0j+uPayQAaxsbGxsT2R7WVx5kE+YUhbwwKYiIiMWAAnLTkFcC9JXACXFxGvuMsFRCRcRGa42Z49wGxsCRp7gNnYtLEH2DIWwEREZMQC2OywiNwVfWNiReRO3O3HRGRw3OWccevExq13V0S2xC1bICK3RQvj2yKyLonHYkgTEZERQ9oyZisRERkxW+3HkCYiIiOGtGXMViIiMmK22o8hTURERgxpy5itRERkxGy1H0OaiIiMGNKWMVuJiMiI2Wo/hjQRERkxpC1jthIRkRGz1X4MaSIiMmJIW8ZsJSIiI2ar/RjSRERkxJC2jNlKRERGzFb7MaSJiMiIIW0Zs5WIiIyYrfZjSBMRkRFD2jJmKxERGTFb7ceQJiIiI4a0ZcxWIiIyYra6V1xE/hSR4yKyQ0TKuFmvg4gEisgJEZkqIqmTucyBIU1EREYeGtIPOz+ZrUREZJmHZusj4S8ibeMutxSRAMM6z4rIBRHJE3d9mYh0jbtcNIllrhjSjwk/Pz+7nwKBn8PjhJ+F/Tw0pB9mfjJbPQy/Rx4f/CweD/wc7Oeh2frQ5RGR6yKSyuW2EBHxTrDeJyIy2eV6YxHZlIxlrhjSjwlfX1+7nwKBn8PjhJ+F/TwwpB92fjJbPQy/Rx4f/CweD/wc7OeB2fpIVBaRowlu2yEidRPcNkFEPnO5XkZEziRjmSuG9GOCX0iPB34Ojw9+FvbzwJB+2PnJbPUw/B55fPCzeDzwc7CfB2brI/HIC+Dg4GCEh4ez2dh8fHxsfw5s/Bwep8bPwv4WHBzsaSH9WBXAzFb7G79HHp/Gz+LxaPwc7G8emK2PxKMcAl1I9ANgY2NjY2Nz1wqJZ3hchkAzW9nY2NjY/q55SrY+MutF5IO4y63EfBKPoiJyXkTyioiX6Mk4uiVjmSsv0Tc/GxsbGxsbm6EVEs0KT/Ew85PZysbGxsb2IJqnZesjUVJEtopO4xAgIs/F3T5dRJq6rNdBRE6KTscwTRJP1eBuGRERUUr0sPOT2UpERERERERERERE9vtGRE6LyD0RqZDEeh1EJFB0r/ZU4V7thyE5n0UdEbklIntEZG/cv+kfybN7MqQXkSUickz0/V0jIsXcrNtU9IQ6x0VkkYhkeRRP8AmS3M+iiIjclfh/E0Uf0XN8UqwRkX2i7+9GEanoZj3mRHzM18cDs/XxwHx9PDBbHx/MVhvVEpGCIhIk7oPhWRG5IHoCERE9rqnrQ39mT57kfBZ1RL+E6OFILyKNXK77iMgGw3qZReSSiJSIuz5RREY93Kf2xEnuZ/H/7d0/iGVXAcfxb2FwY3azEZIQXc1kGzGJsbEWU5kUFisEWaKBiGChXbAQQdloZyEEBEUrrcQiYqGRFKZRRFk1SyJKjG78AxbqBgsFI1kszl3mZTIzGfXNvCPz+cDAOffcd/9wePzeHM49d6u6ciRXdHzduFI+1wjsne5ITuwkX+cgW+cgX+cgW+chWydwub2D4aArW7Ie+/XFexojRRyNdzV+NO30QPXdlfqd1R+O5IqOr736Yqt68Yiv5Th7uN3/UZATe5Ovc5Ctc5Gvc5Ctc3g42boR+wXDQd9tyHq8Vkj/rbrYeH+lUaDD9fXqC7tsf6T60kr9+upfvfL1KqzXXn2xVf2z8X24WH06Kycehq9Vv69+V929S7uc2Jt8nYNsnYt8nYNs3SzZumECeh779cXJ6tRSPlNdaoyWsn6fqn5YndilTUAfrf364rrq5qV8U/VkY8SUw/FQ9Z1dtsuJvcnXOcjWecjXOcjWecjWDTFFax779cVOn2ws8MF6faLxipRTe7Q/UD2xUr+rMYLH+r1WX+x0vvGMDIfnH9Ubd2yTE3uTr3OQrXOQr3OQrfORrRuwXzCcrf5Y3dqY/vDt6mNHdF3H0X59cVvbU1BOVT9oPDfA+jzSmO5zep99TjYW6XjbUrdIx+E4SF/cUr1uKb+++mZ14XAv61g5Xb1ppX6u3X+Myom9ydc5yNbNk69zkK2bJ1s37MuNxQVeqv7UWGa76quNZeiv+Uj1fGMJ7q9kCe7DcJC++Hj1bGOxjmcaz2SwPmcar8r4ddtL//9oaXu0+ujKvtde0/Bc9XgHH0XlYA7aF+9vfBeufScea0zdYj1ubzwDdqmxQuWT1T1Lm5zYn3ydg2ydg3ydg2ydg2wFAAAAAAAAAAAAAAAAAAAAAAAAAAAAAAAAAAAAAACADXqh+mXbL33/WXX3ms+xVb245mMCwKxeSLYCwJQuV/cc8jm2qiuHfA4AmIVsBYBJXa7eucv2q9XnGqPWv6oeXGm7r/pp9XT1VHXnStuHG6PdT1c/qW5ve5T6QnWxeq66f9n/RPWN6tnlc9/7328JADZKtgLApC736mlaJxohfWHZ52z110bg3lL9pbpraXuw+sVSvrf6TXXrUj+x/G0txzu3bL+vEfwt255YuZ6b1nFTALBBshUAJrXXNK2r1VtW6o9XH6reV31/x75XqjdXn2872FdtVX9fqd9YvbSUzzaelfpi9YHq5H9y8QAwIdkKAJPab5rWW1fq36o+2Ajpp3bse5CQXn1O6Ybq5ZX6G5bjPtYI7NMHvXgAmJBsBYBJ7RfSn1nKd1R/boT2zUv52jSt89UzS/nd1fPVbUv9+ranaa2uVHnDcvyqM42QrrquEdLv+C/vBQBmIFsBYFK/7dXPKd3bCNFH216o4/zKZ97bKxfqePtK20PVpaXtx41g32+U+v7lvD9vhP1n13VjALAhshUA/s9cbTxPBACsh2wFgEm9nJAGgHWSrQAAAAAAAAAAAAAAAAAAAAAAAAAAAAAAAAAAAAAAAAAAAAAAAAAAAAAAAAAAAAAAAAAAAAAAAAAAAAAAAAAAAAAAAABwLP0brhL0JjvEKJ0AAAAASUVORK5CYII=\">"
      ],
      "text/plain": [
       "<IPython.core.display.HTML object>"
      ]
     },
     "metadata": {},
     "output_type": "display_data"
    },
    {
     "name": "stderr",
     "output_type": "stream",
     "text": [
      "2017-01-28 14:00:09,161 : INFO : ****************** Epoch 1 --- Working on doc2vec_size_200_w_8_type_dm_concat_1_mean_0_trainwords_0_hs_0_neg_10_vocabsize_None/epoch_1 *******************\n",
      "2017-01-28 14:00:09,165 : INFO : loading Doc2Vec object from /mnt/data2/shalaby/parameter_search_doc2vec_models_new/full/doc2vec_size_200_w_8_type_dm_concat_1_mean_0_trainwords_0_hs_0_neg_10_vocabsize_None/epoch_1/model\n",
      "2017-01-28 14:00:37,810 : INFO : loading docvecs recursively from /mnt/data2/shalaby/parameter_search_doc2vec_models_new/full/doc2vec_size_200_w_8_type_dm_concat_1_mean_0_trainwords_0_hs_0_neg_10_vocabsize_None/epoch_1/model.docvecs.* with mmap=None\n",
      "2017-01-28 14:00:37,818 : INFO : loading doctag_syn0 from /mnt/data2/shalaby/parameter_search_doc2vec_models_new/full/doc2vec_size_200_w_8_type_dm_concat_1_mean_0_trainwords_0_hs_0_neg_10_vocabsize_None/epoch_1/model.docvecs.doctag_syn0.npy with mmap=None\n",
      "2017-01-28 14:00:44,524 : INFO : loading syn1neg from /mnt/data2/shalaby/parameter_search_doc2vec_models_new/full/doc2vec_size_200_w_8_type_dm_concat_1_mean_0_trainwords_0_hs_0_neg_10_vocabsize_None/epoch_1/model.syn1neg.npy with mmap=None\n",
      "2017-01-28 14:01:18,738 : INFO : loading syn0 from /mnt/data2/shalaby/parameter_search_doc2vec_models_new/full/doc2vec_size_200_w_8_type_dm_concat_1_mean_0_trainwords_0_hs_0_neg_10_vocabsize_None/epoch_1/model.syn0.npy with mmap=None\n",
      "2017-01-28 14:01:21,769 : INFO : setting ignored attribute syn0norm to None\n",
      "2017-01-28 14:01:21,940 : INFO : setting ignored attribute cum_table to None\n",
      "2017-01-28 14:01:26,574 : INFO : Loading Classifier\n",
      "2017-01-28 14:01:26,581 : INFO : Getting Validation Embeddings\n",
      "2017-01-28 14:01:26,584 : INFO : ===== Loading validation vectors\n",
      "2017-01-28 14:02:07,995 : INFO : Evaluating on Validation Data\n"
     ]
    },
    {
     "name": "stdout",
     "output_type": "stream",
     "text": [
      "[[0 0 0 ..., 0 0 1]\n",
      " [0 1 0 ..., 0 0 1]\n",
      " [0 1 0 ..., 0 1 0]\n",
      " ..., \n",
      " [0 0 0 ..., 0 0 0]\n",
      " [0 0 0 ..., 0 0 1]\n",
      " [0 1 0 ..., 0 0 1]]\n",
      "** Validation Metrics: Cov Err: 3.659, Avg Labels: 1.150, \n",
      "\t\t Top 1: 0.296, Top 3: 0.578, Top 5: 0.778, \n",
      "\t\t F1 Micro: 0.276, F1 Macro: 0.185, Total Pos: 502,399\n"
     ]
    },
    {
     "name": "stderr",
     "output_type": "stream",
     "text": [
      "/home/stud/shalaby/.virtualenv/thesis-env/local/lib/python2.7/site-packages/matplotlib/axes/_base.py:2787: UserWarning: Attempting to set identical left==right results\n",
      "in singular transformations; automatically expanding.\n",
      "left=1, right=1\n",
      "  'left=%s, right=%s') % (left, right))\n",
      "2017-01-28 14:02:29,916 : INFO : ****************** Epoch 2 --- Working on doc2vec_size_200_w_8_type_dm_concat_1_mean_0_trainwords_0_hs_0_neg_10_vocabsize_None/epoch_2 *******************\n",
      "2017-01-28 14:02:29,918 : INFO : loading Doc2Vec object from /mnt/data2/shalaby/parameter_search_doc2vec_models_new/full/doc2vec_size_200_w_8_type_dm_concat_1_mean_0_trainwords_0_hs_0_neg_10_vocabsize_None/epoch_2/model\n",
      "2017-01-28 14:03:17,548 : INFO : loading docvecs recursively from /mnt/data2/shalaby/parameter_search_doc2vec_models_new/full/doc2vec_size_200_w_8_type_dm_concat_1_mean_0_trainwords_0_hs_0_neg_10_vocabsize_None/epoch_2/model.docvecs.* with mmap=None\n",
      "2017-01-28 14:03:17,552 : INFO : loading doctag_syn0 from /mnt/data2/shalaby/parameter_search_doc2vec_models_new/full/doc2vec_size_200_w_8_type_dm_concat_1_mean_0_trainwords_0_hs_0_neg_10_vocabsize_None/epoch_2/model.docvecs.doctag_syn0.npy with mmap=None\n",
      "2017-01-28 14:03:20,015 : INFO : loading syn1neg from /mnt/data2/shalaby/parameter_search_doc2vec_models_new/full/doc2vec_size_200_w_8_type_dm_concat_1_mean_0_trainwords_0_hs_0_neg_10_vocabsize_None/epoch_2/model.syn1neg.npy with mmap=None\n",
      "2017-01-28 14:03:44,841 : INFO : loading syn0 from /mnt/data2/shalaby/parameter_search_doc2vec_models_new/full/doc2vec_size_200_w_8_type_dm_concat_1_mean_0_trainwords_0_hs_0_neg_10_vocabsize_None/epoch_2/model.syn0.npy with mmap=None\n",
      "2017-01-28 14:03:46,749 : INFO : setting ignored attribute syn0norm to None\n",
      "2017-01-28 14:03:46,759 : INFO : setting ignored attribute cum_table to None\n",
      "2017-01-28 14:03:52,014 : INFO : Loading Classifier\n",
      "2017-01-28 14:03:52,038 : INFO : Getting Validation Embeddings\n",
      "2017-01-28 14:03:52,041 : INFO : ===== Loading validation vectors\n",
      "2017-01-28 14:04:40,339 : INFO : Evaluating on Validation Data\n"
     ]
    },
    {
     "name": "stdout",
     "output_type": "stream",
     "text": [
      "[[0 0 0 ..., 0 0 0]\n",
      " [0 0 0 ..., 0 0 1]\n",
      " [0 1 0 ..., 0 0 1]\n",
      " ..., \n",
      " [0 0 0 ..., 0 0 0]\n",
      " [0 0 0 ..., 0 0 1]\n",
      " [0 0 0 ..., 0 0 1]]\n"
     ]
    },
    {
     "name": "stderr",
     "output_type": "stream",
     "text": [
      "2017-01-28 14:05:27,870 : INFO : ****************** Epoch 3 --- Working on doc2vec_size_200_w_8_type_dm_concat_1_mean_0_trainwords_0_hs_0_neg_10_vocabsize_None/epoch_3 *******************\n",
      "2017-01-28 14:05:27,875 : INFO : loading Doc2Vec object from /mnt/data2/shalaby/parameter_search_doc2vec_models_new/full/doc2vec_size_200_w_8_type_dm_concat_1_mean_0_trainwords_0_hs_0_neg_10_vocabsize_None/epoch_3/model\n"
     ]
    },
    {
     "name": "stdout",
     "output_type": "stream",
     "text": [
      "** Validation Metrics: Cov Err: 3.559, Avg Labels: 1.150, \n",
      "\t\t Top 1: 0.299, Top 3: 0.611, Top 5: 0.790, \n",
      "\t\t F1 Micro: 0.272, F1 Macro: 0.161, Total Pos: 430,943\n"
     ]
    },
    {
     "name": "stderr",
     "output_type": "stream",
     "text": [
      "2017-01-28 14:05:47,698 : INFO : loading docvecs recursively from /mnt/data2/shalaby/parameter_search_doc2vec_models_new/full/doc2vec_size_200_w_8_type_dm_concat_1_mean_0_trainwords_0_hs_0_neg_10_vocabsize_None/epoch_3/model.docvecs.* with mmap=None\n",
      "2017-01-28 14:05:47,709 : INFO : loading doctag_syn0 from /mnt/data2/shalaby/parameter_search_doc2vec_models_new/full/doc2vec_size_200_w_8_type_dm_concat_1_mean_0_trainwords_0_hs_0_neg_10_vocabsize_None/epoch_3/model.docvecs.doctag_syn0.npy with mmap=None\n",
      "2017-01-28 14:05:55,176 : INFO : loading syn1neg from /mnt/data2/shalaby/parameter_search_doc2vec_models_new/full/doc2vec_size_200_w_8_type_dm_concat_1_mean_0_trainwords_0_hs_0_neg_10_vocabsize_None/epoch_3/model.syn1neg.npy with mmap=None\n",
      "2017-01-28 14:07:26,217 : INFO : loading syn0 from /mnt/data2/shalaby/parameter_search_doc2vec_models_new/full/doc2vec_size_200_w_8_type_dm_concat_1_mean_0_trainwords_0_hs_0_neg_10_vocabsize_None/epoch_3/model.syn0.npy with mmap=None\n",
      "2017-01-28 14:07:38,514 : INFO : setting ignored attribute syn0norm to None\n",
      "2017-01-28 14:07:38,811 : INFO : setting ignored attribute cum_table to None\n",
      "2017-01-28 14:31:32,661 : INFO : Getting training Data\n",
      "2017-01-28 14:57:02,720 : INFO : Training Classifier\n",
      "2017-01-28 15:38:28,056 : INFO : Getting Validation Embeddings\n",
      "2017-01-28 15:38:28,098 : INFO : ===== Loading validation vectors\n",
      "2017-01-28 15:39:09,801 : INFO : Evaluating on Validation Data\n"
     ]
    },
    {
     "name": "stdout",
     "output_type": "stream",
     "text": [
      "[[1 1 0 ..., 0 0 0]\n",
      " [0 0 0 ..., 0 0 1]\n",
      " [0 0 0 ..., 1 0 1]\n",
      " ..., \n",
      " [0 0 0 ..., 0 0 1]\n",
      " [0 0 0 ..., 0 1 1]\n",
      " [0 0 0 ..., 0 0 1]]\n",
      "** Validation Metrics: Cov Err: 3.519, Avg Labels: 1.150, \n",
      "\t\t Top 1: 0.301, Top 3: 0.632, Top 5: 0.793, \n",
      "\t\t F1 Micro: 0.272, F1 Macro: 0.148, Total Pos: 400,907\n"
     ]
    },
    {
     "name": "stderr",
     "output_type": "stream",
     "text": [
      "2017-01-28 15:39:42,057 : INFO : ****************** Epoch 4 --- Working on doc2vec_size_200_w_8_type_dm_concat_1_mean_0_trainwords_0_hs_0_neg_10_vocabsize_None/epoch_4 *******************\n"
     ]
    },
    {
     "name": "stdout",
     "output_type": "stream",
     "text": [
      "CPU times: user 43min 28s, sys: 7min 25s, total: 50min 54s\n",
      "Wall time: 1h 39min 33s\n"
     ]
    }
   ],
   "source": [
    "%%time\n",
    "%matplotlib notebook\n",
    "graph = MetricsGraph()\n",
    "graph.init_graph(20)\n",
    "# when resuming, resume from an epoch with a previously created doc2vec model to get the learning rate right\n",
    "start_from = 1\n",
    "for epoch in range(start_from, DOC2VEC_MAX_EPOCHS+1):\n",
    "    GLOBAL_VARS.MODEL_NAME = placeholder_model_name.format(epoch)\n",
    "    info(\"****************** Epoch {} --- Working on {} *******************\".format(epoch, GLOBAL_VARS.MODEL_NAME))\n",
    "    \n",
    "    # if we have the model, just load it, otherwise train the previous model\n",
    "    if os.path.exists(os.path.join(doc2vec_model_save_location, GLOBAL_VARS.MODEL_NAME, MODEL_PREFIX)):\n",
    "        doc2vec_model = Doc2Vec.load(os.path.join(doc2vec_model_save_location, GLOBAL_VARS.MODEL_NAME, MODEL_PREFIX))\n",
    "        GLOBAL_VARS.DOC2VEC_MODEL = doc2vec_model\n",
    "    else:\n",
    "        break\n",
    "    \n",
    "    ensure_disk_location_exists(os.path.join(doc2vec_model_save_location, GLOBAL_VARS.MODEL_NAME, \n",
    "                                             GLOBAL_VARS.SVM_MODEL_NAME))\n",
    "    \n",
    "    if not os.path.exists(os.path.join(doc2vec_model_save_location, GLOBAL_VARS.MODEL_NAME, \n",
    "                                                          GLOBAL_VARS.SVM_MODEL_NAME, CLASSIFIER)):\n",
    "\n",
    "        info('Getting training Data')\n",
    "        X, y = get_training_data(doc2vec_model, classifications)\n",
    "        \n",
    "        info('Training Classifier')\n",
    "        clf = OneVsRestClassifier(linear_model.SGDClassifier(loss='hinge', penalty='l2', \n",
    "                                                             #alpha is the 1/C parameter\n",
    "                                                             alpha=SVM_REG, fit_intercept=True, n_iter=SVM_ITERATIONS,\n",
    "                                                             #n_jobs=-1 means use all cpus\n",
    "                                                             shuffle=True, verbose=0, n_jobs=1,\n",
    "                                                             #eta0 is the learning rate when we use constant configuration\n",
    "                                                             random_state=SVM_SEED, learning_rate='optimal', eta0=0.0, \n",
    "                                                             class_weight=SVM_CLASS_WEIGHTS, warm_start=False), n_jobs=1)\n",
    "\n",
    "\n",
    "        # Training of a classifier\n",
    "        clf.fit(X,y)\n",
    "        pickle.dump(clf, open(os.path.join(doc2vec_model_save_location, GLOBAL_VARS.MODEL_NAME, \n",
    "                                                              GLOBAL_VARS.SVM_MODEL_NAME, CLASSIFIER), 'w'))\n",
    "        \n",
    "    #     # Training Metrics\n",
    "    #     info('Evaluating on Training Data')\n",
    "    #     yp = clf.predict(X)\n",
    "    #     yp_score = clf.decision_function(X)\n",
    "    #     print yp\n",
    "    #     training_metrics = get_metrics(y, yp_score, yp)\n",
    "    #     print \"** Training Metrics: Cov Err: {:.3f}, Avg Labels: {:.3f}, \\n\\t\\t Top 1: {:.3f}, Top 3: {:.3f}, Top 5: {:.3f}, \\n\\t\\t F1 Micro: {:.3f}, F1 Macro: {:.3f}, Total Pos: {:,d}\".format(\n",
    "    #         training_metrics['coverage_error'], training_metrics['average_num_of_labels'], \n",
    "    #         training_metrics['top_1'], training_metrics['top_3'], training_metrics['top_5'], \n",
    "    #         training_metrics['f1_micro'], training_metrics['f1_macro'], training_metrics['total_positive'])\n",
    "    #\n",
    "    #     # Saving the metrics\n",
    "    #     pickle.dump(training_metrics, open(os.path.join(doc2vec_model_save_location, GLOBAL_VARS.MODEL_NAME, \n",
    "    #                                                           GLOBAL_VARS.SVM_MODEL_NAME, TRAINING_METRICS_FILENAME), 'w'))\n",
    "\n",
    "    #     epoch_training_metrics.append(training_metrics)\n",
    "\n",
    "        del X, y\n",
    "\n",
    "    else:\n",
    "        info('Loading Classifier')\n",
    "        clf = pickle.load(open(os.path.join(doc2vec_model_save_location, GLOBAL_VARS.MODEL_NAME, \n",
    "                                                          GLOBAL_VARS.SVM_MODEL_NAME, CLASSIFIER), 'r'))\n",
    "    \n",
    "    # Validation Metrics\n",
    "    info('Getting Validation Embeddings')\n",
    "    Xv, yv = get_validation_docs_with_inference_new(doc2vec_model, doc_classification_map, classifications, \n",
    "                                                    validation_docs_list, validation_preprocessed_files_prefix,\n",
    "                                                    validation_preprocessed_docids_files_prefix)\n",
    "    info('Evaluating on Validation Data')\n",
    "    yvp = clf.predict(Xv)\n",
    "    yvp_score = clf.decision_function(Xv)\n",
    "    print yvp\n",
    "    validation_metrics = get_metrics(yv, yvp_score, yvp)\n",
    "    print \"** Validation Metrics: Cov Err: {:.3f}, Avg Labels: {:.3f}, \\n\\t\\t Top 1: {:.3f}, Top 3: {:.3f}, Top 5: {:.3f}, \\n\\t\\t F1 Micro: {:.3f}, F1 Macro: {:.3f}, Total Pos: {:,d}\".format(\n",
    "        validation_metrics['coverage_error'], validation_metrics['average_num_of_labels'], \n",
    "        validation_metrics['top_1'], validation_metrics['top_3'], validation_metrics['top_5'], \n",
    "        validation_metrics['f1_micro'], validation_metrics['f1_macro'], validation_metrics['total_positive'])\n",
    "    \n",
    "    graph.add_metrics_to_graph(validation_metrics, epoch)\n",
    "    \n",
    "    epoch_validation_metrics.append(validation_metrics)\n",
    "    \n",
    "    \n",
    "    # Saving the metrics\n",
    "#     pickle.dump(training_metrics, open(os.path.join(doc2vec_model_save_location, GLOBAL_VARS.MODEL_NAME, \n",
    "#                                                           GLOBAL_VARS.SVM_MODEL_NAME, TRAINING_METRICS_FILENAME), 'w'))\n",
    "    pickle.dump(validation_metrics, open(os.path.join(doc2vec_model_save_location, GLOBAL_VARS.MODEL_NAME, \n",
    "                                                          GLOBAL_VARS.SVM_MODEL_NAME, VALIDATION_METRICS_FILENAME), 'w'))\n"
   ]
  },
  {
   "cell_type": "code",
   "execution_count": 36,
   "metadata": {
    "collapsed": false
   },
   "outputs": [
    {
     "name": "stderr",
     "output_type": "stream",
     "text": [
      "2017-01-07 08:32:48,888 : INFO : ****************** Epoch 6 --- Working on doc2vec_size_500_w_8_type_dm_concat_0_mean_1_trainwords_0_hs_0_neg_10_vocabsize_None/epoch_6 *******************\n",
      "2017-01-07 08:32:48,891 : INFO : loading Doc2Vec object from /big/s/shalaby/parameter_search_doc2vec_models_new/full/doc2vec_size_500_w_8_type_dm_concat_0_mean_1_trainwords_0_hs_0_neg_10_vocabsize_None/epoch_6/model\n",
      "2017-01-07 08:33:14,046 : INFO : loading docvecs recursively from /big/s/shalaby/parameter_search_doc2vec_models_new/full/doc2vec_size_500_w_8_type_dm_concat_0_mean_1_trainwords_0_hs_0_neg_10_vocabsize_None/epoch_6/model.docvecs.* with mmap=None\n",
      "2017-01-07 08:33:14,048 : INFO : loading doctag_syn0 from /big/s/shalaby/parameter_search_doc2vec_models_new/full/doc2vec_size_500_w_8_type_dm_concat_0_mean_1_trainwords_0_hs_0_neg_10_vocabsize_None/epoch_6/model.docvecs.doctag_syn0.npy with mmap=None\n",
      "2017-01-07 08:33:21,936 : INFO : loading syn1neg from /big/s/shalaby/parameter_search_doc2vec_models_new/full/doc2vec_size_500_w_8_type_dm_concat_0_mean_1_trainwords_0_hs_0_neg_10_vocabsize_None/epoch_6/model.syn1neg.npy with mmap=None\n",
      "2017-01-07 08:33:24,446 : INFO : loading syn0 from /big/s/shalaby/parameter_search_doc2vec_models_new/full/doc2vec_size_500_w_8_type_dm_concat_0_mean_1_trainwords_0_hs_0_neg_10_vocabsize_None/epoch_6/model.syn0.npy with mmap=None\n",
      "2017-01-07 08:33:26,751 : INFO : setting ignored attribute syn0norm to None\n",
      "2017-01-07 08:33:26,768 : INFO : setting ignored attribute cum_table to None\n"
     ]
    }
   ],
   "source": [
    "GLOBAL_VARS.MODEL_NAME = placeholder_model_name.format(6)\n",
    "info(\"****************** Epoch {} --- Working on {} *******************\".format(epoch, GLOBAL_VARS.MODEL_NAME))\n",
    "\n",
    "# if we have the model, just load it, otherwise train the previous model\n",
    "if os.path.exists(os.path.join(doc2vec_model_save_location, GLOBAL_VARS.MODEL_NAME, MODEL_PREFIX)):\n",
    "    doc2vec_model = Doc2Vec.load(os.path.join(doc2vec_model_save_location, GLOBAL_VARS.MODEL_NAME, MODEL_PREFIX))"
   ]
  },
  {
   "cell_type": "code",
   "execution_count": 35,
   "metadata": {
    "collapsed": false
   },
   "outputs": [
    {
     "name": "stderr",
     "output_type": "stream",
     "text": [
      "2017-01-07 08:05:32,383 : INFO : saving Doc2Vec object under /big/s/shalaby/parameter_search_doc2vec_models_new/full/doc2vec_size_500_w_8_type_dm_concat_0_mean_1_trainwords_0_hs_0_neg_10_vocabsize_None/epoch_6/model, separately None\n",
      "2017-01-07 08:05:32,384 : INFO : storing numpy array 'doctag_syn0' to /big/s/shalaby/parameter_search_doc2vec_models_new/full/doc2vec_size_500_w_8_type_dm_concat_0_mean_1_trainwords_0_hs_0_neg_10_vocabsize_None/epoch_6/model.docvecs.doctag_syn0.npy\n",
      "2017-01-07 08:06:07,546 : INFO : storing numpy array 'syn1neg' to /big/s/shalaby/parameter_search_doc2vec_models_new/full/doc2vec_size_500_w_8_type_dm_concat_0_mean_1_trainwords_0_hs_0_neg_10_vocabsize_None/epoch_6/model.syn1neg.npy\n",
      "2017-01-07 08:06:22,413 : INFO : not storing attribute syn0norm\n",
      "2017-01-07 08:06:22,414 : INFO : storing numpy array 'syn0' to /big/s/shalaby/parameter_search_doc2vec_models_new/full/doc2vec_size_500_w_8_type_dm_concat_0_mean_1_trainwords_0_hs_0_neg_10_vocabsize_None/epoch_6/model.syn0.npy\n",
      "2017-01-07 08:06:37,511 : INFO : not storing attribute cum_table\n",
      "2017-01-07 08:07:37,639 : INFO : precomputing L2-norms of word weight vectors\n",
      "2017-01-07 08:08:36,552 : INFO : capital-common-countries: 9.2% (28/306)\n",
      "2017-01-07 08:09:21,442 : INFO : capital-world: 6.8% (31/453)\n",
      "2017-01-07 08:09:36,517 : INFO : currency: 0.0% (0/152)\n",
      "2017-01-07 08:13:17,488 : INFO : city-in-state: 3.3% (75/2252)\n",
      "2017-01-07 08:13:44,345 : INFO : family: 14.3% (39/272)\n",
      "2017-01-07 08:15:09,837 : INFO : gram1-adjective-to-adverb: 6.8% (59/870)\n",
      "2017-01-07 08:16:14,734 : INFO : gram2-opposite: 17.5% (114/650)\n",
      "2017-01-07 08:18:26,319 : INFO : gram3-comparative: 72.7% (969/1332)\n",
      "2017-01-07 08:19:40,242 : INFO : gram4-superlative: 34.1% (258/756)\n",
      "2017-01-07 08:21:23,693 : INFO : gram5-present-participle: 23.0% (243/1056)\n",
      "2017-01-07 08:23:05,897 : INFO : gram6-nationality-adjective: 11.7% (120/1030)\n",
      "2017-01-07 08:25:25,383 : INFO : gram7-past-tense: 12.2% (172/1406)\n",
      "2017-01-07 08:27:28,904 : INFO : gram8-plural: 43.9% (553/1260)\n",
      "2017-01-07 08:28:50,549 : INFO : gram9-plural-verbs: 47.9% (389/812)\n",
      "2017-01-07 08:28:50,553 : INFO : total: 24.2% (3050/12607)\n"
     ]
    },
    {
     "name": "stdout",
     "output_type": "stream",
     "text": [
      "CPU times: user 3h 47min 44s, sys: 4h 31min 2s, total: 8h 18min 46s\n",
      "Wall time: 21min 14s\n",
      "CPU times: user 3h 48min 38s, sys: 4h 31min 12s, total: 8h 19min 51s\n",
      "Wall time: 23min 18s\n"
     ]
    }
   ],
   "source": [
    "%%time\n",
    "ensure_disk_location_exists(os.path.join(doc2vec_model_save_location, GLOBAL_VARS.MODEL_NAME))\n",
    "doc2vec_model.save(os.path.join(doc2vec_model_save_location, GLOBAL_VARS.MODEL_NAME, MODEL_PREFIX))\n",
    "GLOBAL_VARS.DOC2VEC_MODEL = doc2vec_model\n",
    "\n",
    "# get the word2vec analogy accuracy score\n",
    "%time word2vec_result = doc2vec_model.accuracy(word2vec_questions_file, restrict_vocab=None)\n",
    "epoch_word2vec_metrics.append(word2vec_result)\n",
    "pickle.dump(word2vec_result, open(os.path.join(doc2vec_model_save_location, GLOBAL_VARS.MODEL_NAME,\n",
    "                                               WORD2VEC_METRICS_FILENAME), 'w'))\n"
   ]
  },
  {
   "cell_type": "code",
   "execution_count": 75,
   "metadata": {
    "collapsed": true
   },
   "outputs": [],
   "source": [
    "from multiprocessing.dummy import Pool as ThreadPool "
   ]
  },
  {
   "cell_type": "code",
   "execution_count": 43,
   "metadata": {
    "collapsed": true
   },
   "outputs": [],
   "source": [
    "import thesis.utils.metrics"
   ]
  },
  {
   "cell_type": "code",
   "execution_count": 84,
   "metadata": {
    "collapsed": false
   },
   "outputs": [
    {
     "name": "stderr",
     "output_type": "stream",
     "text": [
      "2016-12-28 22:22:21,536 : INFO : Loading new batch\n",
      "2016-12-28 22:22:27,109 : INFO : Finished loading new batch\n"
     ]
    }
   ],
   "source": [
    "validation_docs_iterator = DocumentBatchGenerator(validation_preprocessed_files_prefix, \n",
    "                                                  validation_preprocessed_docids_files_prefix, batch_size=None)\n",
    "i=0\n",
    "doc_contents = []\n",
    "for (doc_id, doc_contents_array) in validation_docs_iterator:\n",
    "    i += 1\n",
    "    doc_contents.append((doc_id, doc_contents_array))\n",
    "    if i > 100:\n",
    "        break"
   ]
  },
  {
   "cell_type": "code",
   "execution_count": 133,
   "metadata": {
    "collapsed": false
   },
   "outputs": [],
   "source": [
    "def infer_one_doc(doc):\n",
    "    #doc2vec_model.random = np.random.RandomState(DOC2VEC_SEED)\n",
    "    rep = doc2vec_model.infer_vector(doc[1])\n",
    "    return (doc[0], rep)"
   ]
  },
  {
   "cell_type": "markdown",
   "metadata": {},
   "source": [
    "Threaded Version"
   ]
  },
  {
   "cell_type": "code",
   "execution_count": 114,
   "metadata": {
    "collapsed": false
   },
   "outputs": [
    {
     "name": "stdout",
     "output_type": "stream",
     "text": [
      "CPU times: user 1min 41s, sys: 620 ms, total: 1min 41s\n",
      "Wall time: 9.83 s\n"
     ]
    }
   ],
   "source": [
    "%%time\n",
    "pool = ThreadPool(16)\n",
    "doc2vec_model.random = np.random.RandomState(DOC2VEC_SEED)\n",
    "threaded_reps = pool.map(infer_one_doc, doc_contents)\n"
   ]
  },
  {
   "cell_type": "markdown",
   "metadata": {},
   "source": [
    "Non-Threaded Version"
   ]
  },
  {
   "cell_type": "code",
   "execution_count": 112,
   "metadata": {
    "collapsed": false
   },
   "outputs": [
    {
     "name": "stdout",
     "output_type": "stream",
     "text": [
      "CPU times: user 14 s, sys: 44 ms, total: 14.1 s\n",
      "Wall time: 13.9 s\n"
     ]
    }
   ],
   "source": [
    "%%time\n",
    "reps = []\n",
    "doc2vec_model.random = np.random.RandomState(DOC2VEC_SEED)\n",
    "for doc in doc_contents:\n",
    "    reps.append((doc[0], doc2vec_model.infer_vector(doc[1])))"
   ]
  },
  {
   "cell_type": "code",
   "execution_count": 121,
   "metadata": {
    "collapsed": true
   },
   "outputs": [],
   "source": [
    "import itertools"
   ]
  },
  {
   "cell_type": "markdown",
   "metadata": {},
   "source": [
    "Simple threading, but problem is that pool.map exhausts the whole iterable"
   ]
  },
  {
   "cell_type": "code",
   "execution_count": 120,
   "metadata": {
    "collapsed": false
   },
   "outputs": [
    {
     "name": "stderr",
     "output_type": "stream",
     "text": [
      "2016-12-28 23:52:07,981 : INFO : Loading new batch for index: 0\n"
     ]
    },
    {
     "name": "stdout",
     "output_type": "stream",
     "text": [
      "CPU times: user 24 ms, sys: 12 ms, total: 36 ms\n",
      "Wall time: 26.4 ms\n"
     ]
    },
    {
     "name": "stderr",
     "output_type": "stream",
     "text": [
      "2016-12-28 23:52:14,764 : INFO : Finished loading new batch\n",
      "2016-12-28 23:52:16,320 : INFO : Loading new batch for index: 10000\n",
      "2016-12-28 23:52:36,742 : INFO : Finished loading new batch\n",
      "2016-12-28 23:52:37,438 : INFO : Loading new batch for index: 12412\n",
      "2016-12-28 23:52:37,487 : INFO : No more batches to load, exiting at index: 12412\n"
     ]
    }
   ],
   "source": [
    "%%time\n",
    "validation_docs_iterator = DocumentBatchGenerator(validation_preprocessed_files_prefix, \n",
    "                                                  validation_preprocessed_docids_files_prefix, batch_size=None)\n",
    "pool = ThreadPool(16)\n",
    "threaded_reps = pool.map(infer_one_doc, validation_docs_iterator)"
   ]
  },
  {
   "cell_type": "markdown",
   "metadata": {},
   "source": [
    "More advanced threading"
   ]
  },
  {
   "cell_type": "code",
   "execution_count": 140,
   "metadata": {
    "collapsed": true
   },
   "outputs": [],
   "source": [
    "def nothing_func(doc):\n",
    "    1 + 1"
   ]
  },
  {
   "cell_type": "code",
   "execution_count": 139,
   "metadata": {
    "collapsed": false
   },
   "outputs": [
    {
     "data": {
      "text/plain": [
       "12412"
      ]
     },
     "execution_count": 139,
     "metadata": {},
     "output_type": "execute_result"
    }
   ],
   "source": [
    "len(validation_docs_list)"
   ]
  },
  {
   "cell_type": "code",
   "execution_count": 138,
   "metadata": {
    "collapsed": false
   },
   "outputs": [
    {
     "data": {
      "text/plain": [
       "13000"
      ]
     },
     "execution_count": 138,
     "metadata": {},
     "output_type": "execute_result"
    }
   ],
   "source": [
    "len(threaded_reps)"
   ]
  },
  {
   "cell_type": "code",
   "execution_count": null,
   "metadata": {
    "collapsed": true
   },
   "outputs": [],
   "source": [
    "%%time\n",
    "validation_docs_iterator = DocumentBatchGenerator(validation_preprocessed_files_prefix, \n",
    "                                                  validation_preprocessed_docids_files_prefix, batch_size=None)\n",
    "pool = ThreadPool(20)\n",
    "# map consumes the whole iterator on the spot, so we have to use itertools.islice to fake mini-batching\n",
    "threaded_reps = []\n",
    "mini_batch_size = 1000\n",
    "while True:\n",
    "    threaded_reps_partial = pool.map(infer_one_doc, itertools.islice(validation_docs_iterator, mini_batch_size))\n",
    "    info(\"Finished: {}\".format(str(validation_docs_iterator.curr_index)))\n",
    "    if threaded_reps_partial:\n",
    "        threaded_reps.extend(threaded_reps_partial)\n",
    "    else:\n",
    "        break"
   ]
  },
  {
   "cell_type": "code",
   "execution_count": 126,
   "metadata": {
    "collapsed": false
   },
   "outputs": [
    {
     "name": "stdout",
     "output_type": "stream",
     "text": [
      "0\n",
      "1\n",
      "2\n",
      "3\n",
      "4\n",
      "5\n",
      "6\n",
      "7\n",
      "8\n",
      "9\n"
     ]
    }
   ],
   "source": [
    "def g():\n",
    "    for el in xrange(50):\n",
    "        yield el\n",
    "\n",
    "go = g()\n",
    "result = []\n",
    "N = 10\n",
    "for i in itertools.islice(go, N):\n",
    "    print i"
   ]
  },
  {
   "cell_type": "code",
   "execution_count": 196,
   "metadata": {
    "collapsed": true
   },
   "outputs": [],
   "source": [
    "X, y = get_training_data(doc2vec_model, classifications)"
   ]
  },
  {
   "cell_type": "code",
   "execution_count": 202,
   "metadata": {
    "collapsed": true
   },
   "outputs": [],
   "source": [
    "yc = np.array(y)"
   ]
  },
  {
   "cell_type": "code",
   "execution_count": 203,
   "metadata": {
    "collapsed": false
   },
   "outputs": [
    {
     "data": {
      "text/plain": [
       "(49789, 8)"
      ]
     },
     "execution_count": 203,
     "metadata": {},
     "output_type": "execute_result"
    }
   ],
   "source": [
    "yc.shape"
   ]
  },
  {
   "cell_type": "code",
   "execution_count": null,
   "metadata": {
    "collapsed": true
   },
   "outputs": [],
   "source": [
    "from sklearn.svm import SVC"
   ]
  },
  {
   "cell_type": "code",
   "execution_count": 219,
   "metadata": {
    "collapsed": false
   },
   "outputs": [],
   "source": [
    "clf = OneVsRestClassifier(estimator=linear_model.SGDClassifier(loss='hinge', penalty='l2', \n",
    "                                                         #alpha is the 1/C parameter\n",
    "                                                         alpha=0.001, fit_intercept=True, n_iter=10,\n",
    "                                                         #n_jobs=-1 means use all cpus\n",
    "                                                         shuffle=True, verbose=1, epsilon=0.1, n_jobs=-1,\n",
    "                                                         #eta0 is the learning rate when we use constant configuration\n",
    "                                                         random_state=SVM_SEED, learning_rate='optimal', eta0=0.0, \n",
    "                                                         class_weight=None, warm_start=False), n_jobs=1)\n",
    "\n",
    "# clf = OneVsRestClassifier(estimator=SVC(kernel='linear'), n_jobs=-1)"
   ]
  },
  {
   "cell_type": "code",
   "execution_count": 222,
   "metadata": {
    "collapsed": false
   },
   "outputs": [
    {
     "name": "stdout",
     "output_type": "stream",
     "text": [
      "[[0 0 0 ..., 0 1 0]\n",
      " [0 0 0 ..., 0 0 1]\n",
      " [0 0 0 ..., 0 0 1]\n",
      " ..., \n",
      " [0 0 0 ..., 0 0 0]\n",
      " [1 0 0 ..., 0 0 0]\n",
      " [0 0 0 ..., 0 0 1]]\n"
     ]
    },
    {
     "name": "stderr",
     "output_type": "stream",
     "text": [
      "/home/stud/shalaby/.virtualenv/thesis-env/local/lib/python2.7/site-packages/sklearn/metrics/classification.py:1113: UndefinedMetricWarning: Precision is ill-defined and being set to 0.0 in labels with no predicted samples.\n",
      "  'precision', 'predicted', average, warn_for)\n",
      "/home/stud/shalaby/.virtualenv/thesis-env/local/lib/python2.7/site-packages/sklearn/metrics/classification.py:1113: UndefinedMetricWarning: F-score is ill-defined and being set to 0.0 in labels with no predicted samples.\n",
      "  'precision', 'predicted', average, warn_for)\n",
      "/home/stud/shalaby/.virtualenv/thesis-env/local/lib/python2.7/site-packages/sklearn/metrics/classification.py:1113: UndefinedMetricWarning: Precision is ill-defined and being set to 0.0 due to no predicted samples.\n",
      "  'precision', 'predicted', average, warn_for)\n",
      "/home/stud/shalaby/.virtualenv/thesis-env/local/lib/python2.7/site-packages/sklearn/metrics/classification.py:1113: UndefinedMetricWarning: F-score is ill-defined and being set to 0.0 due to no predicted samples.\n",
      "  'precision', 'predicted', average, warn_for)\n"
     ]
    }
   ],
   "source": [
    "yp = clf.predict(X)\n",
    "\n",
    "print yp\n",
    "\n",
    "training_metrics = get_metrics(np.array(y), yp, yp)"
   ]
  },
  {
   "cell_type": "code",
   "execution_count": 173,
   "metadata": {
    "collapsed": false
   },
   "outputs": [
    {
     "data": {
      "text/plain": [
       "SGDClassifier(alpha=0.0001, average=False, class_weight=None, epsilon=0.1,\n",
       "       eta0=0.0, fit_intercept=True, l1_ratio=0.15,\n",
       "       learning_rate='optimal', loss='hinge', n_iter=5, n_jobs=1,\n",
       "       penalty='l2', power_t=0.5, random_state=None, shuffle=True,\n",
       "       verbose=0, warm_start=False)"
      ]
     },
     "execution_count": 173,
     "metadata": {},
     "output_type": "execute_result"
    }
   ],
   "source": [
    "import numpy as np\n",
    "from sklearn import linear_model\n",
    "X = np.array([[-1, -1], [-2, -1], [1, 1], [2, 1]])\n",
    "Y = np.array(['a', 'a', 'b', 'b'])\n",
    "clf = linear_model.SGDClassifier()\n",
    "clf.fit(X, Y)"
   ]
  },
  {
   "cell_type": "code",
   "execution_count": null,
   "metadata": {
    "collapsed": false
   },
   "outputs": [],
   "source": [
    "clf.predict([[-0.8, -1]])"
   ]
  },
  {
   "cell_type": "code",
   "execution_count": 26,
   "metadata": {
    "collapsed": true
   },
   "outputs": [],
   "source": [
    "best_svm_epoch = 13"
   ]
  },
  {
   "cell_type": "code",
   "execution_count": 29,
   "metadata": {
    "collapsed": false
   },
   "outputs": [
    {
     "name": "stderr",
     "output_type": "stream",
     "text": [
      "2016-11-26 18:25:14,192 : INFO : loading Doc2Vec object from /mnt/data2/shalaby/parameter_search_doc2vec_models/sample_0.0001/doc2vec_size_3000_w_8_type_dm_concat_1_mean_0_trainwords_0_hs_0_neg_10_vocabsize_None_curriter_13/model\n",
      "2016-11-26 18:25:14,584 : INFO : loading docvecs recursively from /mnt/data2/shalaby/parameter_search_doc2vec_models/sample_0.0001/doc2vec_size_3000_w_8_type_dm_concat_1_mean_0_trainwords_0_hs_0_neg_10_vocabsize_None_curriter_13/model.docvecs.* with mmap=None\n",
      "2016-11-26 18:25:14,585 : INFO : loading doctag_syn0 from /mnt/data2/shalaby/parameter_search_doc2vec_models/sample_0.0001/doc2vec_size_3000_w_8_type_dm_concat_1_mean_0_trainwords_0_hs_0_neg_10_vocabsize_None_curriter_13/model.docvecs.doctag_syn0.npy with mmap=None\n",
      "2016-11-26 18:25:14,814 : INFO : loading syn1neg from /mnt/data2/shalaby/parameter_search_doc2vec_models/sample_0.0001/doc2vec_size_3000_w_8_type_dm_concat_1_mean_0_trainwords_0_hs_0_neg_10_vocabsize_None_curriter_13/model.syn1neg.npy with mmap=None\n",
      "2016-11-26 18:26:37,586 : INFO : loading syn0 from /mnt/data2/shalaby/parameter_search_doc2vec_models/sample_0.0001/doc2vec_size_3000_w_8_type_dm_concat_1_mean_0_trainwords_0_hs_0_neg_10_vocabsize_None_curriter_13/model.syn0.npy with mmap=None\n",
      "2016-11-26 18:26:41,876 : INFO : setting ignored attribute syn0norm to None\n",
      "2016-11-26 18:26:41,877 : INFO : setting ignored attribute cum_table to None\n"
     ]
    }
   ],
   "source": [
    "GLOBAL_VARS.MODEL_NAME = placeholder_model_name.format(best_svm_epoch)\n",
    "doc2vec_model = Doc2Vec.load(os.path.join(doc2vec_model_save_location, GLOBAL_VARS.MODEL_NAME, MODEL_PREFIX))"
   ]
  },
  {
   "cell_type": "markdown",
   "metadata": {},
   "source": [
    "#### Prepare Training Data"
   ]
  },
  {
   "cell_type": "code",
   "execution_count": 31,
   "metadata": {
    "collapsed": false
   },
   "outputs": [
    {
     "name": "stdout",
     "output_type": "stream",
     "text": [
      "CPU times: user 1.61 s, sys: 520 ms, total: 2.13 s\n",
      "Wall time: 1.93 s\n"
     ]
    }
   ],
   "source": [
    "%%time\n",
    "classifications = sections\n",
    "\n",
    "NN_OUTPUT_NEURONS = len(classifications)\n",
    "one_hot_encoder = OneHotEncoder(classifications)\n",
    "training_data = []\n",
    "training_labels = []\n",
    "for doc_id in training_docs_list:\n",
    "    # converting from memmap to a normal array\n",
    "    normal_array = []\n",
    "    normal_array[:] = doc2vec_model.docvecs[doc_id][:]\n",
    "    training_data.append(normal_array)\n",
    "    eligible_classifications = [clssf for clssf in doc_classification_map[doc_id] if clssf in classifications]\n",
    "    training_labels.append(one_hot_encoder.get_label_vector(eligible_classifications))"
   ]
  },
  {
   "cell_type": "markdown",
   "metadata": {},
   "source": [
    "#### Prepare Validation Data"
   ]
  },
  {
   "cell_type": "code",
   "execution_count": 32,
   "metadata": {
    "collapsed": false
   },
   "outputs": [
    {
     "name": "stdout",
     "output_type": "stream",
     "text": [
      "(1969, 3000)\n",
      "CPU times: user 2.58 s, sys: 360 ms, total: 2.94 s\n",
      "Wall time: 2.93 s\n"
     ]
    }
   ],
   "source": [
    "%%time\n",
    "\n",
    "validation_labels = []\n",
    "validation_data = pickle.load(open(\n",
    "        os.path.join(doc2vec_model_save_location, GLOBAL_VARS.MODEL_NAME, VALIDATION_MATRIX)\n",
    "))\n",
    "print validation_data.shape\n",
    "\n",
    "for validation_doc_id in validation_docs_list:\n",
    "    eligible_classifications = [clssf for clssf in doc_classification_map[validation_doc_id] if clssf in classifications]\n",
    "    validation_labels.append(one_hot_encoder.get_label_vector(eligible_classifications))"
   ]
  },
  {
   "cell_type": "markdown",
   "metadata": {},
   "source": [
    "#### Create Keras NN"
   ]
  },
  {
   "cell_type": "code",
   "execution_count": 173,
   "metadata": {
    "collapsed": true
   },
   "outputs": [],
   "source": [
    "import itertools\n",
    "from keras.layers import Dropout"
   ]
  },
  {
   "cell_type": "code",
   "execution_count": 186,
   "metadata": {
    "collapsed": true
   },
   "outputs": [],
   "source": [
    "pickle.dump(history_list, open('/mnt/data2/shalaby/history_list_sample_0.0001.pickle','w'))"
   ]
  },
  {
   "cell_type": "code",
   "execution_count": 181,
   "metadata": {
    "collapsed": false
   },
   "outputs": [
    {
     "name": "stdout",
     "output_type": "stream",
     "text": [
      "100\n"
     ]
    }
   ],
   "source": [
    "print len(history_list)"
   ]
  },
  {
   "cell_type": "code",
   "execution_count": 147,
   "metadata": {
    "collapsed": false
   },
   "outputs": [],
   "source": [
    "doc_input = Input(shape=(DOC2VEC_SIZE,), name='doc_input')\n",
    "hidden = Dense(NN_HIDDEN_NEURONS, activation='relu', name='hidden_layer')(doc_input)\n",
    "softmax_output = Dense(NN_OUTPUT_NEURONS, activation='sigmoid', name='softmax_output')(hidden)\n",
    "model = Model(input=doc_input, output=softmax_output)\n",
    "model.compile(optimizer='rmsprop', loss='binary_crossentropy', metrics=['accuracy', 'fbeta_score', theano_coverage_error])"
   ]
  },
  {
   "cell_type": "code",
   "execution_count": 148,
   "metadata": {
    "collapsed": false
   },
   "outputs": [
    {
     "name": "stdout",
     "output_type": "stream",
     "text": [
      "____________________________________________________________________________________________________\n",
      "Layer (type)                     Output Shape          Param #     Connected to                     \n",
      "====================================================================================================\n",
      "doc_input (InputLayer)           (None, 3000)          0                                            \n",
      "____________________________________________________________________________________________________\n",
      "hidden_layer (Dense)             (None, 4500)          13504500    doc_input[0][0]                  \n",
      "____________________________________________________________________________________________________\n",
      "softmax_output (Dense)           (None, 8)             36008       hidden_layer[0][0]               \n",
      "====================================================================================================\n",
      "Total params: 13540508\n",
      "____________________________________________________________________________________________________\n"
     ]
    }
   ],
   "source": [
    "model.summary()"
   ]
  },
  {
   "cell_type": "code",
   "execution_count": 162,
   "metadata": {
    "collapsed": false
   },
   "outputs": [
    {
     "name": "stdout",
     "output_type": "stream",
     "text": [
      "Train on 8979 samples, validate on 1969 samples\n",
      "Epoch 1/1\n",
      "8979/8979 [==============================] - 4s - loss: 0.0427 - acc: 0.9835 - fbeta_score: 0.9504 - coverage error: 1.4936 - val_loss: 2.1309 - val_acc: 0.8531 - val_fbeta_score: 0.4738 - val_coverage error: 3.4474\n"
     ]
    }
   ],
   "source": [
    "model.fit(x=training_data, y=training_labels, \n",
    "          validation_data=(validation_data, validation_labels), \n",
    "          nb_epoch=1, verbose=1)"
   ]
  },
  {
   "cell_type": "code",
   "execution_count": 143,
   "metadata": {
    "collapsed": false
   },
   "outputs": [],
   "source": [
    "val_prediction = model.predict(validation_data)"
   ]
  },
  {
   "cell_type": "code",
   "execution_count": 144,
   "metadata": {
    "collapsed": false
   },
   "outputs": [
    {
     "data": {
      "text/plain": [
       "array([[  2.70263344e-01,   3.49998474e-02,   3.13610617e-05,\n",
       "          1.08150870e-03,   3.11665332e-07,   7.09001958e-01,\n",
       "          4.97711152e-02,   2.63609409e-01],\n",
       "       [  1.70166213e-02,   5.36046147e-01,   2.61311390e-04,\n",
       "          4.87348643e-06,   1.27638310e-01,   9.57404263e-03,\n",
       "          3.39831635e-02,   2.13784515e-03]], dtype=float32)"
      ]
     },
     "execution_count": 144,
     "metadata": {},
     "output_type": "execute_result"
    }
   ],
   "source": [
    "val_prediction[:2]"
   ]
  },
  {
   "cell_type": "code",
   "execution_count": 146,
   "metadata": {
    "collapsed": false
   },
   "outputs": [
    {
     "data": {
      "text/plain": [
       "[[0, 0, 0, 0, 0, 0, 1, 1], [0, 1, 0, 0, 0, 0, 0, 0]]"
      ]
     },
     "execution_count": 146,
     "metadata": {},
     "output_type": "execute_result"
    }
   ],
   "source": [
    "validation_labels[:2]"
   ]
  },
  {
   "cell_type": "code",
   "execution_count": 124,
   "metadata": {
    "collapsed": true
   },
   "outputs": [],
   "source": [
    "y_true = T.matrix('y_true')\n",
    "y_score = T.matrix('y_score')\n",
    "\n",
    "y_score_true = y_true * y_score # mark the scores of actually true labels\n",
    "zero_true_elem = T.eq(y_true, 0).nonzero()\n",
    "y_score_masked = T.set_subtensor(y_score_true[zero_true_elem], 100)\n",
    "#zero_elements = T.eq(true_scores,0)\n",
    "min_true_scores = T.min(y_score_masked, axis=1, keepdims=True) # we do keepdims in order to keep the broadcastable columns\n",
    "coverage_per_row = (y_score >= min_true_scores).sum(axis=1)\n",
    "coverage = T.mean(coverage_per_row)\n",
    "theano_coverage_err_func = function(inputs=[y_true, y_score], outputs=coverage)"
   ]
  },
  {
   "cell_type": "code",
   "execution_count": 109,
   "metadata": {
    "collapsed": true
   },
   "outputs": [],
   "source": [
    "uu = np.array([[1,0,1],[0,0,1]], dtype='float32')"
   ]
  },
  {
   "cell_type": "code",
   "execution_count": 118,
   "metadata": {
    "collapsed": false
   },
   "outputs": [],
   "source": [
    "yc = T.set_subtensor(y_true[T.eq(y_true,0).nonzero()], 100)"
   ]
  },
  {
   "cell_type": "code",
   "execution_count": 119,
   "metadata": {
    "collapsed": false
   },
   "outputs": [
    {
     "data": {
      "text/plain": [
       "array([[   1.,  100.,    1.],\n",
       "       [ 100.,  100.,    1.]], dtype=float32)"
      ]
     },
     "execution_count": 119,
     "metadata": {},
     "output_type": "execute_result"
    }
   ],
   "source": [
    "yc.eval({y_true: uu})"
   ]
  },
  {
   "cell_type": "code",
   "execution_count": null,
   "metadata": {
    "collapsed": true
   },
   "outputs": [],
   "source": [
    "T.set_subtensor(y_true[])"
   ]
  },
  {
   "cell_type": "code",
   "execution_count": 81,
   "metadata": {
    "collapsed": false
   },
   "outputs": [
    {
     "data": {
      "text/plain": [
       "[[0, 0, 0, 0, 0, 0, 1, 1]]"
      ]
     },
     "execution_count": 81,
     "metadata": {},
     "output_type": "execute_result"
    }
   ],
   "source": [
    "validation_labels[:1]"
   ]
  },
  {
   "cell_type": "code",
   "execution_count": 82,
   "metadata": {
    "collapsed": false
   },
   "outputs": [
    {
     "data": {
      "text/plain": [
       "array([[  8.08178342e-08,   1.02713175e-05,   4.41441728e-28,\n",
       "          1.19779872e-36,   0.00000000e+00,   1.00000000e+00,\n",
       "          2.75591228e-05,   2.31643662e-06]], dtype=float32)"
      ]
     },
     "execution_count": 82,
     "metadata": {},
     "output_type": "execute_result"
    }
   ],
   "source": [
    "val_prediction[:1]"
   ]
  },
  {
   "cell_type": "code",
   "execution_count": 136,
   "metadata": {
    "collapsed": false
   },
   "outputs": [
    {
     "name": "stdout",
     "output_type": "stream",
     "text": [
      "CPU times: user 8 ms, sys: 0 ns, total: 8 ms\n",
      "Wall time: 8.01 ms\n"
     ]
    },
    {
     "data": {
      "text/plain": [
       "array(2.5129507364144237)"
      ]
     },
     "execution_count": 136,
     "metadata": {},
     "output_type": "execute_result"
    }
   ],
   "source": [
    "%%time\n",
    "theano_coverage_err_func(validation_labels, val_prediction)"
   ]
  },
  {
   "cell_type": "code",
   "execution_count": 98,
   "metadata": {
    "collapsed": false
   },
   "outputs": [
    {
     "data": {
      "text/plain": [
       "array([[  8.08178342e-08,   1.02713175e-05,   4.41441728e-28,\n",
       "          1.19779872e-36,   0.00000000e+00,   1.00000000e+00,\n",
       "          1.00000028e+02,   1.00000002e+02]])"
      ]
     },
     "execution_count": 98,
     "metadata": {},
     "output_type": "execute_result"
    }
   ],
   "source": [
    "np.multiply(validation_labels[:1] , 100) + val_prediction[:1]"
   ]
  },
  {
   "cell_type": "code",
   "execution_count": 97,
   "metadata": {
    "collapsed": false
   },
   "outputs": [
    {
     "data": {
      "text/plain": [
       "100.00000231643662"
      ]
     },
     "execution_count": 97,
     "metadata": {},
     "output_type": "execute_result"
    }
   ],
   "source": [
    "val_prediction[0,7] + 100"
   ]
  },
  {
   "cell_type": "code",
   "execution_count": 101,
   "metadata": {
    "collapsed": false
   },
   "outputs": [
    {
     "data": {
      "text/plain": [
       "array([-99.99999768])"
      ]
     },
     "execution_count": 101,
     "metadata": {},
     "output_type": "execute_result"
    }
   ],
   "source": [
    "(np.multiply(validation_labels[:1] , -100) + val_prediction[:1]).min(axis=1) "
   ]
  },
  {
   "cell_type": "code",
   "execution_count": 137,
   "metadata": {
    "collapsed": false
   },
   "outputs": [
    {
     "name": "stdout",
     "output_type": "stream",
     "text": [
      "CPU times: user 4 ms, sys: 0 ns, total: 4 ms\n",
      "Wall time: 5.51 ms\n"
     ]
    },
    {
     "data": {
      "text/plain": [
       "2.5129507364144237"
      ]
     },
     "execution_count": 137,
     "metadata": {},
     "output_type": "execute_result"
    }
   ],
   "source": [
    "%%time\n",
    "coverage_error(validation_labels, val_prediction)"
   ]
  },
  {
   "cell_type": "code",
   "execution_count": 47,
   "metadata": {
    "collapsed": false
   },
   "outputs": [
    {
     "data": {
      "text/plain": [
       "array([[  1.43536258e-08,   2.79983366e-03,   1.15342544e-08,\n",
       "          7.79373941e-17,   5.66347130e-03,   9.99988794e-01,\n",
       "          6.53333089e-04,   5.85054120e-20],\n",
       "       [  2.85919495e-02,   4.81873751e-02,   1.16070651e-05,\n",
       "          2.11304723e-04,   9.95886266e-01,   7.23218254e-05,\n",
       "          2.44005350e-03,   9.50191250e-08],\n",
       "       [  1.57324195e-01,   4.55876261e-01,   1.18607618e-01,\n",
       "          1.59025192e-02,   5.29134236e-02,   3.10803294e-01,\n",
       "          7.60788023e-02,   4.09732945e-02],\n",
       "       [  8.80629957e-01,   8.06344330e-01,   8.66507888e-01,\n",
       "          8.60296586e-06,   8.48201476e-03,   3.66728357e-03,\n",
       "          4.01142472e-03,   6.63176891e-09],\n",
       "       [  3.67009136e-07,   2.43742179e-04,   4.91571154e-05,\n",
       "          3.91778943e-16,   2.10585220e-08,   9.19317733e-03,\n",
       "          2.35959844e-04,   9.99994278e-01]], dtype=float32)"
      ]
     },
     "execution_count": 47,
     "metadata": {},
     "output_type": "execute_result"
    }
   ],
   "source": [
    "model.predict(training_data[:5])"
   ]
  },
  {
   "cell_type": "code",
   "execution_count": 69,
   "metadata": {
    "collapsed": false
   },
   "outputs": [
    {
     "data": {
      "text/plain": [
       "[[0, 0, 0, 0, 0, 1, 0, 0],\n",
       " [0, 0, 0, 0, 1, 0, 0, 0],\n",
       " [0, 0, 1, 0, 0, 0, 0, 0],\n",
       " [1, 0, 1, 0, 0, 0, 0, 0],\n",
       " [0, 0, 0, 0, 0, 0, 0, 1]]"
      ]
     },
     "execution_count": 69,
     "metadata": {},
     "output_type": "execute_result"
    }
   ],
   "source": [
    "training_labels[:5]"
   ]
  },
  {
   "cell_type": "code",
   "execution_count": 61,
   "metadata": {
    "collapsed": false
   },
   "outputs": [
    {
     "data": {
      "text/plain": [
       "[[0, 0, 0, 0, 0, 0, 1, 1],\n",
       " [0, 1, 0, 0, 0, 0, 0, 0],\n",
       " [1, 1, 0, 0, 0, 0, 0, 0],\n",
       " [0, 0, 1, 0, 0, 0, 0, 0],\n",
       " [0, 0, 0, 0, 0, 1, 0, 0]]"
      ]
     },
     "execution_count": 61,
     "metadata": {},
     "output_type": "execute_result"
    }
   ],
   "source": [
    "validation_labels[:5]"
   ]
  },
  {
   "cell_type": "markdown",
   "metadata": {},
   "source": [
    "## Plot loaded metrics"
   ]
  },
  {
   "cell_type": "code",
   "execution_count": 48,
   "metadata": {
    "collapsed": false
   },
   "outputs": [
    {
     "data": {
      "text/plain": [
       "'/home/local/shalaby/parameter_search_doc2vec_models/sample_0.0001'"
      ]
     },
     "execution_count": 48,
     "metadata": {},
     "output_type": "execute_result"
    }
   ],
   "source": [
    "doc2vec_model_save_location"
   ]
  },
  {
   "cell_type": "code",
   "execution_count": 32,
   "metadata": {
    "collapsed": false
   },
   "outputs": [
    {
     "data": {
      "application/javascript": [
       "/* Put everything inside the global mpl namespace */\n",
       "window.mpl = {};\n",
       "\n",
       "mpl.get_websocket_type = function() {\n",
       "    if (typeof(WebSocket) !== 'undefined') {\n",
       "        return WebSocket;\n",
       "    } else if (typeof(MozWebSocket) !== 'undefined') {\n",
       "        return MozWebSocket;\n",
       "    } else {\n",
       "        alert('Your browser does not have WebSocket support.' +\n",
       "              'Please try Chrome, Safari or Firefox ≥ 6. ' +\n",
       "              'Firefox 4 and 5 are also supported but you ' +\n",
       "              'have to enable WebSockets in about:config.');\n",
       "    };\n",
       "}\n",
       "\n",
       "mpl.figure = function(figure_id, websocket, ondownload, parent_element) {\n",
       "    this.id = figure_id;\n",
       "\n",
       "    this.ws = websocket;\n",
       "\n",
       "    this.supports_binary = (this.ws.binaryType != undefined);\n",
       "\n",
       "    if (!this.supports_binary) {\n",
       "        var warnings = document.getElementById(\"mpl-warnings\");\n",
       "        if (warnings) {\n",
       "            warnings.style.display = 'block';\n",
       "            warnings.textContent = (\n",
       "                \"This browser does not support binary websocket messages. \" +\n",
       "                    \"Performance may be slow.\");\n",
       "        }\n",
       "    }\n",
       "\n",
       "    this.imageObj = new Image();\n",
       "\n",
       "    this.context = undefined;\n",
       "    this.message = undefined;\n",
       "    this.canvas = undefined;\n",
       "    this.rubberband_canvas = undefined;\n",
       "    this.rubberband_context = undefined;\n",
       "    this.format_dropdown = undefined;\n",
       "\n",
       "    this.image_mode = 'full';\n",
       "\n",
       "    this.root = $('<div/>');\n",
       "    this._root_extra_style(this.root)\n",
       "    this.root.attr('style', 'display: inline-block');\n",
       "\n",
       "    $(parent_element).append(this.root);\n",
       "\n",
       "    this._init_header(this);\n",
       "    this._init_canvas(this);\n",
       "    this._init_toolbar(this);\n",
       "\n",
       "    var fig = this;\n",
       "\n",
       "    this.waiting = false;\n",
       "\n",
       "    this.ws.onopen =  function () {\n",
       "            fig.send_message(\"supports_binary\", {value: fig.supports_binary});\n",
       "            fig.send_message(\"send_image_mode\", {});\n",
       "            fig.send_message(\"refresh\", {});\n",
       "        }\n",
       "\n",
       "    this.imageObj.onload = function() {\n",
       "            if (fig.image_mode == 'full') {\n",
       "                // Full images could contain transparency (where diff images\n",
       "                // almost always do), so we need to clear the canvas so that\n",
       "                // there is no ghosting.\n",
       "                fig.context.clearRect(0, 0, fig.canvas.width, fig.canvas.height);\n",
       "            }\n",
       "            fig.context.drawImage(fig.imageObj, 0, 0);\n",
       "        };\n",
       "\n",
       "    this.imageObj.onunload = function() {\n",
       "        this.ws.close();\n",
       "    }\n",
       "\n",
       "    this.ws.onmessage = this._make_on_message_function(this);\n",
       "\n",
       "    this.ondownload = ondownload;\n",
       "}\n",
       "\n",
       "mpl.figure.prototype._init_header = function() {\n",
       "    var titlebar = $(\n",
       "        '<div class=\"ui-dialog-titlebar ui-widget-header ui-corner-all ' +\n",
       "        'ui-helper-clearfix\"/>');\n",
       "    var titletext = $(\n",
       "        '<div class=\"ui-dialog-title\" style=\"width: 100%; ' +\n",
       "        'text-align: center; padding: 3px;\"/>');\n",
       "    titlebar.append(titletext)\n",
       "    this.root.append(titlebar);\n",
       "    this.header = titletext[0];\n",
       "}\n",
       "\n",
       "\n",
       "\n",
       "mpl.figure.prototype._canvas_extra_style = function(canvas_div) {\n",
       "\n",
       "}\n",
       "\n",
       "\n",
       "mpl.figure.prototype._root_extra_style = function(canvas_div) {\n",
       "\n",
       "}\n",
       "\n",
       "mpl.figure.prototype._init_canvas = function() {\n",
       "    var fig = this;\n",
       "\n",
       "    var canvas_div = $('<div/>');\n",
       "\n",
       "    canvas_div.attr('style', 'position: relative; clear: both; outline: 0');\n",
       "\n",
       "    function canvas_keyboard_event(event) {\n",
       "        return fig.key_event(event, event['data']);\n",
       "    }\n",
       "\n",
       "    canvas_div.keydown('key_press', canvas_keyboard_event);\n",
       "    canvas_div.keyup('key_release', canvas_keyboard_event);\n",
       "    this.canvas_div = canvas_div\n",
       "    this._canvas_extra_style(canvas_div)\n",
       "    this.root.append(canvas_div);\n",
       "\n",
       "    var canvas = $('<canvas/>');\n",
       "    canvas.addClass('mpl-canvas');\n",
       "    canvas.attr('style', \"left: 0; top: 0; z-index: 0; outline: 0\")\n",
       "\n",
       "    this.canvas = canvas[0];\n",
       "    this.context = canvas[0].getContext(\"2d\");\n",
       "\n",
       "    var rubberband = $('<canvas/>');\n",
       "    rubberband.attr('style', \"position: absolute; left: 0; top: 0; z-index: 1;\")\n",
       "\n",
       "    var pass_mouse_events = true;\n",
       "\n",
       "    canvas_div.resizable({\n",
       "        start: function(event, ui) {\n",
       "            pass_mouse_events = false;\n",
       "        },\n",
       "        resize: function(event, ui) {\n",
       "            fig.request_resize(ui.size.width, ui.size.height);\n",
       "        },\n",
       "        stop: function(event, ui) {\n",
       "            pass_mouse_events = true;\n",
       "            fig.request_resize(ui.size.width, ui.size.height);\n",
       "        },\n",
       "    });\n",
       "\n",
       "    function mouse_event_fn(event) {\n",
       "        if (pass_mouse_events)\n",
       "            return fig.mouse_event(event, event['data']);\n",
       "    }\n",
       "\n",
       "    rubberband.mousedown('button_press', mouse_event_fn);\n",
       "    rubberband.mouseup('button_release', mouse_event_fn);\n",
       "    // Throttle sequential mouse events to 1 every 20ms.\n",
       "    rubberband.mousemove('motion_notify', mouse_event_fn);\n",
       "\n",
       "    rubberband.mouseenter('figure_enter', mouse_event_fn);\n",
       "    rubberband.mouseleave('figure_leave', mouse_event_fn);\n",
       "\n",
       "    canvas_div.on(\"wheel\", function (event) {\n",
       "        event = event.originalEvent;\n",
       "        event['data'] = 'scroll'\n",
       "        if (event.deltaY < 0) {\n",
       "            event.step = 1;\n",
       "        } else {\n",
       "            event.step = -1;\n",
       "        }\n",
       "        mouse_event_fn(event);\n",
       "    });\n",
       "\n",
       "    canvas_div.append(canvas);\n",
       "    canvas_div.append(rubberband);\n",
       "\n",
       "    this.rubberband = rubberband;\n",
       "    this.rubberband_canvas = rubberband[0];\n",
       "    this.rubberband_context = rubberband[0].getContext(\"2d\");\n",
       "    this.rubberband_context.strokeStyle = \"#000000\";\n",
       "\n",
       "    this._resize_canvas = function(width, height) {\n",
       "        // Keep the size of the canvas, canvas container, and rubber band\n",
       "        // canvas in synch.\n",
       "        canvas_div.css('width', width)\n",
       "        canvas_div.css('height', height)\n",
       "\n",
       "        canvas.attr('width', width);\n",
       "        canvas.attr('height', height);\n",
       "\n",
       "        rubberband.attr('width', width);\n",
       "        rubberband.attr('height', height);\n",
       "    }\n",
       "\n",
       "    // Set the figure to an initial 600x600px, this will subsequently be updated\n",
       "    // upon first draw.\n",
       "    this._resize_canvas(600, 600);\n",
       "\n",
       "    // Disable right mouse context menu.\n",
       "    $(this.rubberband_canvas).bind(\"contextmenu\",function(e){\n",
       "        return false;\n",
       "    });\n",
       "\n",
       "    function set_focus () {\n",
       "        canvas.focus();\n",
       "        canvas_div.focus();\n",
       "    }\n",
       "\n",
       "    window.setTimeout(set_focus, 100);\n",
       "}\n",
       "\n",
       "mpl.figure.prototype._init_toolbar = function() {\n",
       "    var fig = this;\n",
       "\n",
       "    var nav_element = $('<div/>')\n",
       "    nav_element.attr('style', 'width: 100%');\n",
       "    this.root.append(nav_element);\n",
       "\n",
       "    // Define a callback function for later on.\n",
       "    function toolbar_event(event) {\n",
       "        return fig.toolbar_button_onclick(event['data']);\n",
       "    }\n",
       "    function toolbar_mouse_event(event) {\n",
       "        return fig.toolbar_button_onmouseover(event['data']);\n",
       "    }\n",
       "\n",
       "    for(var toolbar_ind in mpl.toolbar_items) {\n",
       "        var name = mpl.toolbar_items[toolbar_ind][0];\n",
       "        var tooltip = mpl.toolbar_items[toolbar_ind][1];\n",
       "        var image = mpl.toolbar_items[toolbar_ind][2];\n",
       "        var method_name = mpl.toolbar_items[toolbar_ind][3];\n",
       "\n",
       "        if (!name) {\n",
       "            // put a spacer in here.\n",
       "            continue;\n",
       "        }\n",
       "        var button = $('<button/>');\n",
       "        button.addClass('ui-button ui-widget ui-state-default ui-corner-all ' +\n",
       "                        'ui-button-icon-only');\n",
       "        button.attr('role', 'button');\n",
       "        button.attr('aria-disabled', 'false');\n",
       "        button.click(method_name, toolbar_event);\n",
       "        button.mouseover(tooltip, toolbar_mouse_event);\n",
       "\n",
       "        var icon_img = $('<span/>');\n",
       "        icon_img.addClass('ui-button-icon-primary ui-icon');\n",
       "        icon_img.addClass(image);\n",
       "        icon_img.addClass('ui-corner-all');\n",
       "\n",
       "        var tooltip_span = $('<span/>');\n",
       "        tooltip_span.addClass('ui-button-text');\n",
       "        tooltip_span.html(tooltip);\n",
       "\n",
       "        button.append(icon_img);\n",
       "        button.append(tooltip_span);\n",
       "\n",
       "        nav_element.append(button);\n",
       "    }\n",
       "\n",
       "    var fmt_picker_span = $('<span/>');\n",
       "\n",
       "    var fmt_picker = $('<select/>');\n",
       "    fmt_picker.addClass('mpl-toolbar-option ui-widget ui-widget-content');\n",
       "    fmt_picker_span.append(fmt_picker);\n",
       "    nav_element.append(fmt_picker_span);\n",
       "    this.format_dropdown = fmt_picker[0];\n",
       "\n",
       "    for (var ind in mpl.extensions) {\n",
       "        var fmt = mpl.extensions[ind];\n",
       "        var option = $(\n",
       "            '<option/>', {selected: fmt === mpl.default_extension}).html(fmt);\n",
       "        fmt_picker.append(option)\n",
       "    }\n",
       "\n",
       "    // Add hover states to the ui-buttons\n",
       "    $( \".ui-button\" ).hover(\n",
       "        function() { $(this).addClass(\"ui-state-hover\");},\n",
       "        function() { $(this).removeClass(\"ui-state-hover\");}\n",
       "    );\n",
       "\n",
       "    var status_bar = $('<span class=\"mpl-message\"/>');\n",
       "    nav_element.append(status_bar);\n",
       "    this.message = status_bar[0];\n",
       "}\n",
       "\n",
       "mpl.figure.prototype.request_resize = function(x_pixels, y_pixels) {\n",
       "    // Request matplotlib to resize the figure. Matplotlib will then trigger a resize in the client,\n",
       "    // which will in turn request a refresh of the image.\n",
       "    this.send_message('resize', {'width': x_pixels, 'height': y_pixels});\n",
       "}\n",
       "\n",
       "mpl.figure.prototype.send_message = function(type, properties) {\n",
       "    properties['type'] = type;\n",
       "    properties['figure_id'] = this.id;\n",
       "    this.ws.send(JSON.stringify(properties));\n",
       "}\n",
       "\n",
       "mpl.figure.prototype.send_draw_message = function() {\n",
       "    if (!this.waiting) {\n",
       "        this.waiting = true;\n",
       "        this.ws.send(JSON.stringify({type: \"draw\", figure_id: this.id}));\n",
       "    }\n",
       "}\n",
       "\n",
       "\n",
       "mpl.figure.prototype.handle_save = function(fig, msg) {\n",
       "    var format_dropdown = fig.format_dropdown;\n",
       "    var format = format_dropdown.options[format_dropdown.selectedIndex].value;\n",
       "    fig.ondownload(fig, format);\n",
       "}\n",
       "\n",
       "\n",
       "mpl.figure.prototype.handle_resize = function(fig, msg) {\n",
       "    var size = msg['size'];\n",
       "    if (size[0] != fig.canvas.width || size[1] != fig.canvas.height) {\n",
       "        fig._resize_canvas(size[0], size[1]);\n",
       "        fig.send_message(\"refresh\", {});\n",
       "    };\n",
       "}\n",
       "\n",
       "mpl.figure.prototype.handle_rubberband = function(fig, msg) {\n",
       "    var x0 = msg['x0'];\n",
       "    var y0 = fig.canvas.height - msg['y0'];\n",
       "    var x1 = msg['x1'];\n",
       "    var y1 = fig.canvas.height - msg['y1'];\n",
       "    x0 = Math.floor(x0) + 0.5;\n",
       "    y0 = Math.floor(y0) + 0.5;\n",
       "    x1 = Math.floor(x1) + 0.5;\n",
       "    y1 = Math.floor(y1) + 0.5;\n",
       "    var min_x = Math.min(x0, x1);\n",
       "    var min_y = Math.min(y0, y1);\n",
       "    var width = Math.abs(x1 - x0);\n",
       "    var height = Math.abs(y1 - y0);\n",
       "\n",
       "    fig.rubberband_context.clearRect(\n",
       "        0, 0, fig.canvas.width, fig.canvas.height);\n",
       "\n",
       "    fig.rubberband_context.strokeRect(min_x, min_y, width, height);\n",
       "}\n",
       "\n",
       "mpl.figure.prototype.handle_figure_label = function(fig, msg) {\n",
       "    // Updates the figure title.\n",
       "    fig.header.textContent = msg['label'];\n",
       "}\n",
       "\n",
       "mpl.figure.prototype.handle_cursor = function(fig, msg) {\n",
       "    var cursor = msg['cursor'];\n",
       "    switch(cursor)\n",
       "    {\n",
       "    case 0:\n",
       "        cursor = 'pointer';\n",
       "        break;\n",
       "    case 1:\n",
       "        cursor = 'default';\n",
       "        break;\n",
       "    case 2:\n",
       "        cursor = 'crosshair';\n",
       "        break;\n",
       "    case 3:\n",
       "        cursor = 'move';\n",
       "        break;\n",
       "    }\n",
       "    fig.rubberband_canvas.style.cursor = cursor;\n",
       "}\n",
       "\n",
       "mpl.figure.prototype.handle_message = function(fig, msg) {\n",
       "    fig.message.textContent = msg['message'];\n",
       "}\n",
       "\n",
       "mpl.figure.prototype.handle_draw = function(fig, msg) {\n",
       "    // Request the server to send over a new figure.\n",
       "    fig.send_draw_message();\n",
       "}\n",
       "\n",
       "mpl.figure.prototype.handle_image_mode = function(fig, msg) {\n",
       "    fig.image_mode = msg['mode'];\n",
       "}\n",
       "\n",
       "mpl.figure.prototype.updated_canvas_event = function() {\n",
       "    // Called whenever the canvas gets updated.\n",
       "    this.send_message(\"ack\", {});\n",
       "}\n",
       "\n",
       "// A function to construct a web socket function for onmessage handling.\n",
       "// Called in the figure constructor.\n",
       "mpl.figure.prototype._make_on_message_function = function(fig) {\n",
       "    return function socket_on_message(evt) {\n",
       "        if (evt.data instanceof Blob) {\n",
       "            /* FIXME: We get \"Resource interpreted as Image but\n",
       "             * transferred with MIME type text/plain:\" errors on\n",
       "             * Chrome.  But how to set the MIME type?  It doesn't seem\n",
       "             * to be part of the websocket stream */\n",
       "            evt.data.type = \"image/png\";\n",
       "\n",
       "            /* Free the memory for the previous frames */\n",
       "            if (fig.imageObj.src) {\n",
       "                (window.URL || window.webkitURL).revokeObjectURL(\n",
       "                    fig.imageObj.src);\n",
       "            }\n",
       "\n",
       "            fig.imageObj.src = (window.URL || window.webkitURL).createObjectURL(\n",
       "                evt.data);\n",
       "            fig.updated_canvas_event();\n",
       "            fig.waiting = false;\n",
       "            return;\n",
       "        }\n",
       "        else if (typeof evt.data === 'string' && evt.data.slice(0, 21) == \"data:image/png;base64\") {\n",
       "            fig.imageObj.src = evt.data;\n",
       "            fig.updated_canvas_event();\n",
       "            fig.waiting = false;\n",
       "            return;\n",
       "        }\n",
       "\n",
       "        var msg = JSON.parse(evt.data);\n",
       "        var msg_type = msg['type'];\n",
       "\n",
       "        // Call the  \"handle_{type}\" callback, which takes\n",
       "        // the figure and JSON message as its only arguments.\n",
       "        try {\n",
       "            var callback = fig[\"handle_\" + msg_type];\n",
       "        } catch (e) {\n",
       "            console.log(\"No handler for the '\" + msg_type + \"' message type: \", msg);\n",
       "            return;\n",
       "        }\n",
       "\n",
       "        if (callback) {\n",
       "            try {\n",
       "                // console.log(\"Handling '\" + msg_type + \"' message: \", msg);\n",
       "                callback(fig, msg);\n",
       "            } catch (e) {\n",
       "                console.log(\"Exception inside the 'handler_\" + msg_type + \"' callback:\", e, e.stack, msg);\n",
       "            }\n",
       "        }\n",
       "    };\n",
       "}\n",
       "\n",
       "// from http://stackoverflow.com/questions/1114465/getting-mouse-location-in-canvas\n",
       "mpl.findpos = function(e) {\n",
       "    //this section is from http://www.quirksmode.org/js/events_properties.html\n",
       "    var targ;\n",
       "    if (!e)\n",
       "        e = window.event;\n",
       "    if (e.target)\n",
       "        targ = e.target;\n",
       "    else if (e.srcElement)\n",
       "        targ = e.srcElement;\n",
       "    if (targ.nodeType == 3) // defeat Safari bug\n",
       "        targ = targ.parentNode;\n",
       "\n",
       "    // jQuery normalizes the pageX and pageY\n",
       "    // pageX,Y are the mouse positions relative to the document\n",
       "    // offset() returns the position of the element relative to the document\n",
       "    var x = e.pageX - $(targ).offset().left;\n",
       "    var y = e.pageY - $(targ).offset().top;\n",
       "\n",
       "    return {\"x\": x, \"y\": y};\n",
       "};\n",
       "\n",
       "/*\n",
       " * return a copy of an object with only non-object keys\n",
       " * we need this to avoid circular references\n",
       " * http://stackoverflow.com/a/24161582/3208463\n",
       " */\n",
       "function simpleKeys (original) {\n",
       "  return Object.keys(original).reduce(function (obj, key) {\n",
       "    if (typeof original[key] !== 'object')\n",
       "        obj[key] = original[key]\n",
       "    return obj;\n",
       "  }, {});\n",
       "}\n",
       "\n",
       "mpl.figure.prototype.mouse_event = function(event, name) {\n",
       "    var canvas_pos = mpl.findpos(event)\n",
       "\n",
       "    if (name === 'button_press')\n",
       "    {\n",
       "        this.canvas.focus();\n",
       "        this.canvas_div.focus();\n",
       "    }\n",
       "\n",
       "    var x = canvas_pos.x;\n",
       "    var y = canvas_pos.y;\n",
       "\n",
       "    this.send_message(name, {x: x, y: y, button: event.button,\n",
       "                             step: event.step,\n",
       "                             guiEvent: simpleKeys(event)});\n",
       "\n",
       "    /* This prevents the web browser from automatically changing to\n",
       "     * the text insertion cursor when the button is pressed.  We want\n",
       "     * to control all of the cursor setting manually through the\n",
       "     * 'cursor' event from matplotlib */\n",
       "    event.preventDefault();\n",
       "    return false;\n",
       "}\n",
       "\n",
       "mpl.figure.prototype._key_event_extra = function(event, name) {\n",
       "    // Handle any extra behaviour associated with a key event\n",
       "}\n",
       "\n",
       "mpl.figure.prototype.key_event = function(event, name) {\n",
       "\n",
       "    // Prevent repeat events\n",
       "    if (name == 'key_press')\n",
       "    {\n",
       "        if (event.which === this._key)\n",
       "            return;\n",
       "        else\n",
       "            this._key = event.which;\n",
       "    }\n",
       "    if (name == 'key_release')\n",
       "        this._key = null;\n",
       "\n",
       "    var value = '';\n",
       "    if (event.ctrlKey && event.which != 17)\n",
       "        value += \"ctrl+\";\n",
       "    if (event.altKey && event.which != 18)\n",
       "        value += \"alt+\";\n",
       "    if (event.shiftKey && event.which != 16)\n",
       "        value += \"shift+\";\n",
       "\n",
       "    value += 'k';\n",
       "    value += event.which.toString();\n",
       "\n",
       "    this._key_event_extra(event, name);\n",
       "\n",
       "    this.send_message(name, {key: value,\n",
       "                             guiEvent: simpleKeys(event)});\n",
       "    return false;\n",
       "}\n",
       "\n",
       "mpl.figure.prototype.toolbar_button_onclick = function(name) {\n",
       "    if (name == 'download') {\n",
       "        this.handle_save(this, null);\n",
       "    } else {\n",
       "        this.send_message(\"toolbar_button\", {name: name});\n",
       "    }\n",
       "};\n",
       "\n",
       "mpl.figure.prototype.toolbar_button_onmouseover = function(tooltip) {\n",
       "    this.message.textContent = tooltip;\n",
       "};\n",
       "mpl.toolbar_items = [[\"Home\", \"Reset original view\", \"fa fa-home icon-home\", \"home\"], [\"Back\", \"Back to  previous view\", \"fa fa-arrow-left icon-arrow-left\", \"back\"], [\"Forward\", \"Forward to next view\", \"fa fa-arrow-right icon-arrow-right\", \"forward\"], [\"\", \"\", \"\", \"\"], [\"Pan\", \"Pan axes with left mouse, zoom with right\", \"fa fa-arrows icon-move\", \"pan\"], [\"Zoom\", \"Zoom to rectangle\", \"fa fa-square-o icon-check-empty\", \"zoom\"], [\"\", \"\", \"\", \"\"], [\"Download\", \"Download plot\", \"fa fa-floppy-o icon-save\", \"download\"]];\n",
       "\n",
       "mpl.extensions = [\"eps\", \"pdf\", \"png\", \"ps\", \"raw\", \"svg\"];\n",
       "\n",
       "mpl.default_extension = \"png\";var comm_websocket_adapter = function(comm) {\n",
       "    // Create a \"websocket\"-like object which calls the given IPython comm\n",
       "    // object with the appropriate methods. Currently this is a non binary\n",
       "    // socket, so there is still some room for performance tuning.\n",
       "    var ws = {};\n",
       "\n",
       "    ws.close = function() {\n",
       "        comm.close()\n",
       "    };\n",
       "    ws.send = function(m) {\n",
       "        //console.log('sending', m);\n",
       "        comm.send(m);\n",
       "    };\n",
       "    // Register the callback with on_msg.\n",
       "    comm.on_msg(function(msg) {\n",
       "        //console.log('receiving', msg['content']['data'], msg);\n",
       "        // Pass the mpl event to the overriden (by mpl) onmessage function.\n",
       "        ws.onmessage(msg['content']['data'])\n",
       "    });\n",
       "    return ws;\n",
       "}\n",
       "\n",
       "mpl.mpl_figure_comm = function(comm, msg) {\n",
       "    // This is the function which gets called when the mpl process\n",
       "    // starts-up an IPython Comm through the \"matplotlib\" channel.\n",
       "\n",
       "    var id = msg.content.data.id;\n",
       "    // Get hold of the div created by the display call when the Comm\n",
       "    // socket was opened in Python.\n",
       "    var element = $(\"#\" + id);\n",
       "    var ws_proxy = comm_websocket_adapter(comm)\n",
       "\n",
       "    function ondownload(figure, format) {\n",
       "        window.open(figure.imageObj.src);\n",
       "    }\n",
       "\n",
       "    var fig = new mpl.figure(id, ws_proxy,\n",
       "                           ondownload,\n",
       "                           element.get(0));\n",
       "\n",
       "    // Call onopen now - mpl needs it, as it is assuming we've passed it a real\n",
       "    // web socket which is closed, not our websocket->open comm proxy.\n",
       "    ws_proxy.onopen();\n",
       "\n",
       "    fig.parent_element = element.get(0);\n",
       "    fig.cell_info = mpl.find_output_cell(\"<div id='\" + id + \"'></div>\");\n",
       "    if (!fig.cell_info) {\n",
       "        console.error(\"Failed to find cell for figure\", id, fig);\n",
       "        return;\n",
       "    }\n",
       "\n",
       "    var output_index = fig.cell_info[2]\n",
       "    var cell = fig.cell_info[0];\n",
       "\n",
       "};\n",
       "\n",
       "mpl.figure.prototype.handle_close = function(fig, msg) {\n",
       "    fig.root.unbind('remove')\n",
       "\n",
       "    // Update the output cell to use the data from the current canvas.\n",
       "    fig.push_to_output();\n",
       "    var dataURL = fig.canvas.toDataURL();\n",
       "    // Re-enable the keyboard manager in IPython - without this line, in FF,\n",
       "    // the notebook keyboard shortcuts fail.\n",
       "    IPython.keyboard_manager.enable()\n",
       "    $(fig.parent_element).html('<img src=\"' + dataURL + '\">');\n",
       "    fig.close_ws(fig, msg);\n",
       "}\n",
       "\n",
       "mpl.figure.prototype.close_ws = function(fig, msg){\n",
       "    fig.send_message('closing', msg);\n",
       "    // fig.ws.close()\n",
       "}\n",
       "\n",
       "mpl.figure.prototype.push_to_output = function(remove_interactive) {\n",
       "    // Turn the data on the canvas into data in the output cell.\n",
       "    var dataURL = this.canvas.toDataURL();\n",
       "    this.cell_info[1]['text/html'] = '<img src=\"' + dataURL + '\">';\n",
       "}\n",
       "\n",
       "mpl.figure.prototype.updated_canvas_event = function() {\n",
       "    // Tell IPython that the notebook contents must change.\n",
       "    IPython.notebook.set_dirty(true);\n",
       "    this.send_message(\"ack\", {});\n",
       "    var fig = this;\n",
       "    // Wait a second, then push the new image to the DOM so\n",
       "    // that it is saved nicely (might be nice to debounce this).\n",
       "    setTimeout(function () { fig.push_to_output() }, 1000);\n",
       "}\n",
       "\n",
       "mpl.figure.prototype._init_toolbar = function() {\n",
       "    var fig = this;\n",
       "\n",
       "    var nav_element = $('<div/>')\n",
       "    nav_element.attr('style', 'width: 100%');\n",
       "    this.root.append(nav_element);\n",
       "\n",
       "    // Define a callback function for later on.\n",
       "    function toolbar_event(event) {\n",
       "        return fig.toolbar_button_onclick(event['data']);\n",
       "    }\n",
       "    function toolbar_mouse_event(event) {\n",
       "        return fig.toolbar_button_onmouseover(event['data']);\n",
       "    }\n",
       "\n",
       "    for(var toolbar_ind in mpl.toolbar_items){\n",
       "        var name = mpl.toolbar_items[toolbar_ind][0];\n",
       "        var tooltip = mpl.toolbar_items[toolbar_ind][1];\n",
       "        var image = mpl.toolbar_items[toolbar_ind][2];\n",
       "        var method_name = mpl.toolbar_items[toolbar_ind][3];\n",
       "\n",
       "        if (!name) { continue; };\n",
       "\n",
       "        var button = $('<button class=\"btn btn-default\" href=\"#\" title=\"' + name + '\"><i class=\"fa ' + image + ' fa-lg\"></i></button>');\n",
       "        button.click(method_name, toolbar_event);\n",
       "        button.mouseover(tooltip, toolbar_mouse_event);\n",
       "        nav_element.append(button);\n",
       "    }\n",
       "\n",
       "    // Add the status bar.\n",
       "    var status_bar = $('<span class=\"mpl-message\" style=\"text-align:right; float: right;\"/>');\n",
       "    nav_element.append(status_bar);\n",
       "    this.message = status_bar[0];\n",
       "\n",
       "    // Add the close button to the window.\n",
       "    var buttongrp = $('<div class=\"btn-group inline pull-right\"></div>');\n",
       "    var button = $('<button class=\"btn btn-mini btn-primary\" href=\"#\" title=\"Stop Interaction\"><i class=\"fa fa-power-off icon-remove icon-large\"></i></button>');\n",
       "    button.click(function (evt) { fig.handle_close(fig, {}); } );\n",
       "    button.mouseover('Stop Interaction', toolbar_mouse_event);\n",
       "    buttongrp.append(button);\n",
       "    var titlebar = this.root.find($('.ui-dialog-titlebar'));\n",
       "    titlebar.prepend(buttongrp);\n",
       "}\n",
       "\n",
       "mpl.figure.prototype._root_extra_style = function(el){\n",
       "    var fig = this\n",
       "    el.on(\"remove\", function(){\n",
       "\tfig.close_ws(fig, {});\n",
       "    });\n",
       "}\n",
       "\n",
       "mpl.figure.prototype._canvas_extra_style = function(el){\n",
       "    // this is important to make the div 'focusable\n",
       "    el.attr('tabindex', 0)\n",
       "    // reach out to IPython and tell the keyboard manager to turn it's self\n",
       "    // off when our div gets focus\n",
       "\n",
       "    // location in version 3\n",
       "    if (IPython.notebook.keyboard_manager) {\n",
       "        IPython.notebook.keyboard_manager.register_events(el);\n",
       "    }\n",
       "    else {\n",
       "        // location in version 2\n",
       "        IPython.keyboard_manager.register_events(el);\n",
       "    }\n",
       "\n",
       "}\n",
       "\n",
       "mpl.figure.prototype._key_event_extra = function(event, name) {\n",
       "    var manager = IPython.notebook.keyboard_manager;\n",
       "    if (!manager)\n",
       "        manager = IPython.keyboard_manager;\n",
       "\n",
       "    // Check for shift+enter\n",
       "    if (event.shiftKey && event.which == 13) {\n",
       "        this.canvas_div.blur();\n",
       "        event.shiftKey = false;\n",
       "        // Send a \"J\" for go to next cell\n",
       "        event.which = 74;\n",
       "        event.keyCode = 74;\n",
       "        manager.command_mode();\n",
       "        manager.handle_keydown(event);\n",
       "    }\n",
       "}\n",
       "\n",
       "mpl.figure.prototype.handle_save = function(fig, msg) {\n",
       "    fig.ondownload(fig, null);\n",
       "}\n",
       "\n",
       "\n",
       "mpl.find_output_cell = function(html_output) {\n",
       "    // Return the cell and output element which can be found *uniquely* in the notebook.\n",
       "    // Note - this is a bit hacky, but it is done because the \"notebook_saving.Notebook\"\n",
       "    // IPython event is triggered only after the cells have been serialised, which for\n",
       "    // our purposes (turning an active figure into a static one), is too late.\n",
       "    var cells = IPython.notebook.get_cells();\n",
       "    var ncells = cells.length;\n",
       "    for (var i=0; i<ncells; i++) {\n",
       "        var cell = cells[i];\n",
       "        if (cell.cell_type === 'code'){\n",
       "            for (var j=0; j<cell.output_area.outputs.length; j++) {\n",
       "                var data = cell.output_area.outputs[j];\n",
       "                if (data.data) {\n",
       "                    // IPython >= 3 moved mimebundle to data attribute of output\n",
       "                    data = data.data;\n",
       "                }\n",
       "                if (data['text/html'] == html_output) {\n",
       "                    return [cell, data, j];\n",
       "                }\n",
       "            }\n",
       "        }\n",
       "    }\n",
       "}\n",
       "\n",
       "// Register the function which deals with the matplotlib target/channel.\n",
       "// The kernel may be null if the page has been refreshed.\n",
       "if (IPython.notebook.kernel != null) {\n",
       "    IPython.notebook.kernel.comm_manager.register_target('matplotlib', mpl.mpl_figure_comm);\n",
       "}\n"
      ],
      "text/plain": [
       "<IPython.core.display.Javascript object>"
      ]
     },
     "metadata": {},
     "output_type": "display_data"
    },
    {
     "data": {
      "text/html": [
       "<img src=\"data:image/png;base64,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\">"
      ],
      "text/plain": [
       "<IPython.core.display.HTML object>"
      ]
     },
     "metadata": {},
     "output_type": "display_data"
    },
    {
     "name": "stdout",
     "output_type": "stream",
     "text": [
      "doc2vec_size_3000_w_8_type_dm_concat_1_mean_0_trainwords_0_hs_0_neg_10_vocabsize_None_curriter_{}_iter_1000_reg_0.001\n",
      "Epoch 01: Coverage Error -> 6.56\n",
      "Epoch 02: Coverage Error -> 6.51\n",
      "Epoch 03: Coverage Error -> 6.56\n",
      "Epoch 04: Coverage Error -> 6.45\n",
      "Epoch 05: Coverage Error -> 6.49\n",
      "Epoch 06: Coverage Error -> 6.39\n",
      "Epoch 07: Coverage Error -> 6.48\n",
      "Epoch 08: Coverage Error -> 6.55\n",
      "Epoch 09: Coverage Error -> 6.51\n",
      "Epoch 10: Coverage Error -> 6.54\n",
      "Epoch 11: Coverage Error -> 6.59\n",
      "Epoch 12: Coverage Error -> 6.50\n",
      "Epoch 13: Coverage Error -> 4.30\n",
      "Epoch 14: Coverage Error -> 4.44\n",
      "Epoch 15: Coverage Error -> 4.58\n",
      "Epoch 16: Coverage Error -> 4.75\n",
      "Epoch 17: Coverage Error -> 4.79\n",
      "Epoch 18: Coverage Error -> 4.75\n",
      "Epoch 19: Coverage Error -> 4.68\n",
      "Epoch 20: Coverage Error -> 4.69\n"
     ]
    }
   ],
   "source": [
    "%matplotlib notebook\n",
    "graph = MetricsGraph()\n",
    "graph.init_graph()\n",
    "print placeholder_model_name + \"_\" + GLOBAL_VARS.SVM_MODEL_NAME\n",
    "\n",
    "for epoch in range(1,DOC2VEC_MAX_EPOCHS+1):\n",
    "    try:\n",
    "        model_name = placeholder_model_name.format(epoch)\n",
    "        metrics = pickle.load(open(os.path.join(doc2vec_model_save_location, model_name, GLOBAL_VARS.SVM_MODEL_NAME, METRICS)))\n",
    "        print \"Epoch {:02d}: Coverage Error -> {:.2f}\".format(epoch, metrics['coverage_error'])\n",
    "        graph.add_metrics_to_graph(metrics, epoch)\n",
    "    except IOError:\n",
    "        break"
   ]
  },
  {
   "cell_type": "code",
   "execution_count": null,
   "metadata": {
    "collapsed": true
   },
   "outputs": [],
   "source": []
  },
  {
   "cell_type": "code",
   "execution_count": 119,
   "metadata": {
    "collapsed": false
   },
   "outputs": [
    {
     "data": {
      "text/plain": [
       "[6.0518029456576938,\n",
       " 4.3138649060436771,\n",
       " 3.7851701371254443,\n",
       " 1.4565769426104622,\n",
       " 1.3819197562214323]"
      ]
     },
     "execution_count": 119,
     "metadata": {},
     "output_type": "execute_result"
    }
   ],
   "source": [
    "[metric['coverage_error'] for metric in epoch_metrics]"
   ]
  }
 ],
 "metadata": {
  "kernelspec": {
   "display_name": "Python 2",
   "language": "python",
   "name": "python2"
  },
  "language_info": {
   "codemirror_mode": {
    "name": "ipython",
    "version": 2
   },
   "file_extension": ".py",
   "mimetype": "text/x-python",
   "name": "python",
   "nbconvert_exporter": "python",
   "pygments_lexer": "ipython2",
   "version": "2.7.12"
  }
 },
 "nbformat": 4,
 "nbformat_minor": 0
}
