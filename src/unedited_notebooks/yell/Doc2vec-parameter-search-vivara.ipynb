{
 "cells": [
  {
   "cell_type": "code",
   "execution_count": 1,
   "metadata": {
    "collapsed": false
   },
   "outputs": [],
   "source": [
    "import json\n",
    "import nltk\n",
    "from nltk.tokenize import RegexpTokenizer\n",
    "import string\n",
    "import math\n",
    "import os\n",
    "import time\n",
    "from collections import namedtuple\n",
    "import cPickle as pickle\n",
    "import pandas as pd\n",
    "\n",
    "import pyspark\n",
    "from pyspark.mllib.regression import LabeledPoint\n",
    "from pyspark.mllib.linalg import SparseVector\n",
    "from pyspark.mllib.classification import SVMWithSGD, SVMModel\n",
    "\n",
    "%matplotlib inline\n",
    "import matplotlib.pyplot as plt\n",
    "import matplotlib as mpl\n",
    "import numpy as np\n",
    "import random\n",
    "from sklearn.metrics import coverage_error\n",
    "import sklearn.metrics\n",
    "from gensim.models.doc2vec import Doc2Vec, LabeledSentence\n",
    "from sklearn.svm import LinearSVC\n",
    "from sklearn.multiclass import OneVsRestClassifier\n",
    "from sklearn.preprocessing import MultiLabelBinarizer\n",
    "import logging\n",
    "from logging import info\n",
    "from functools import partial"
   ]
  },
  {
   "cell_type": "code",
   "execution_count": 2,
   "metadata": {
    "collapsed": true
   },
   "outputs": [],
   "source": [
    "root = logging.getLogger()\n",
    "for handler in root.handlers[:]:\n",
    "    root.removeHandler(handler)\n",
    "logging.basicConfig(format='%(asctime)s : %(levelname)s : %(message)s', level=logging.INFO) # adds a default StreamHanlder\n",
    "#root.addHandler(logging.StreamHandler())"
   ]
  },
  {
   "cell_type": "code",
   "execution_count": 3,
   "metadata": {
    "collapsed": true
   },
   "outputs": [],
   "source": [
    "IS_SAMPLE = True"
   ]
  },
  {
   "cell_type": "code",
   "execution_count": 4,
   "metadata": {
    "collapsed": true
   },
   "outputs": [],
   "source": [
    "SVM_SEED = 1234\n",
    "DOC2VEC_SEED = 1234"
   ]
  },
  {
   "cell_type": "code",
   "execution_count": 5,
   "metadata": {
    "collapsed": true
   },
   "outputs": [],
   "source": [
    "NUMBER_INDICATOR = \"number_inidicator\"\n",
    "CURRENCY_INDICATOR = \"currency_inidicator\"\n",
    "CHEMICAL_INDICATOR = \"chemical_inidicator\"\n",
    "MIN_WORD_COUNT = 5\n",
    "MIN_SIZE = 0\n",
    "NUM_CORES = 7"
   ]
  },
  {
   "cell_type": "code",
   "execution_count": 6,
   "metadata": {
    "collapsed": false
   },
   "outputs": [],
   "source": [
    "GLOBAL_VARS = namedtuple('GLOBAL_VARS', ['MODEL_NAME', 'DOC2VEC_MODEL', 'SVM_MODEL_NAME'])"
   ]
  },
  {
   "cell_type": "code",
   "execution_count": 7,
   "metadata": {
    "collapsed": true
   },
   "outputs": [],
   "source": [
    "SAMPLE_RATIO = 0.0001"
   ]
  },
  {
   "cell_type": "code",
   "execution_count": 8,
   "metadata": {
    "collapsed": true
   },
   "outputs": [],
   "source": [
    "VOCAB_MODEL = \"vocab_model\"\n",
    "MODEL_PREFIX = \"model\"\n",
    "VALIDATION_MATRIX = \"validation_matrix.pkl\"\n",
    "METRICS = \"metrics.pkl\""
   ]
  },
  {
   "cell_type": "code",
   "execution_count": 9,
   "metadata": {
    "collapsed": false
   },
   "outputs": [],
   "source": [
    "#training_file = \"/home/local/shalaby/docs_output_sample_100.json\"\n",
    "\n",
    "save_parent_location = \"hdfs://deka.cip.ifi.lmu.de/pg-vectors/\"\n",
    "if IS_SAMPLE: \n",
    "    save_parent_location = save_parent_location + \"sample_\" + str(SAMPLE_RATIO) + \"/\"\n",
    "\n",
    "\n",
    "root_location = \"/home/local/shalaby/\"\n",
    "exports_location = root_location + \"exported_data/\"\n",
    "\n",
    "doc2vec_model_save_location = os.path.join(root_location, \"parameter_search_doc2vec_models\", \"sample_\" + str(SAMPLE_RATIO))\n",
    "if not os.path.exists(doc2vec_model_save_location):\n",
    "    os.makedirs(doc2vec_model_save_location)\n",
    "if not os.path.exists(os.path.join(doc2vec_model_save_location, VOCAB_MODEL)):\n",
    "    os.makedirs(os.path.join(doc2vec_model_save_location, VOCAB_MODEL))\n",
    "\n",
    "#training_file = root_location + \"docs_output.json\"\n",
    "training_file = root_location + 'docs_output_training_validation_documents_' + str(SAMPLE_RATIO)\n",
    "\n",
    "doc_classifications_map_file = exports_location + \"doc_classification_map.pkl\"\n",
    "sections_file = exports_location + \"sections.pkl\"\n",
    "classes_file = exports_location + \"classes.pkl\"\n",
    "subclasses_file = exports_location + \"subclasses.pkl\"\n",
    "classifications_output = exports_location + \"classifications.pkl\"\n",
    "training_docs_list_file = exports_location + \"training_documents_\" + str(SAMPLE_RATIO) + \"_sample.pkl\"\n",
    "validation_docs_list_file = exports_location + \"validation_documents_\" + str(SAMPLE_RATIO) + \"_sample.pkl\""
   ]
  },
  {
   "cell_type": "code",
   "execution_count": 10,
   "metadata": {
    "collapsed": false
   },
   "outputs": [
    {
     "name": "stdout",
     "output_type": "stream",
     "text": [
      "CPU times: user 23.3 s, sys: 1.14 s, total: 24.5 s\n",
      "Wall time: 24.5 s\n"
     ]
    }
   ],
   "source": [
    "%%time\n",
    "doc_classification_map = pickle.load(open(doc_classifications_map_file))\n",
    "sections = pickle.load(open(sections_file))\n",
    "classes = pickle.load(open(classes_file))\n",
    "subclasses = pickle.load(open(subclasses_file))\n",
    "training_docs_list = pickle.load(open(training_docs_list_file))\n",
    "validation_docs_list = pickle.load(open(validation_docs_list_file))"
   ]
  },
  {
   "cell_type": "code",
   "execution_count": 11,
   "metadata": {
    "collapsed": false
   },
   "outputs": [
    {
     "data": {
      "text/plain": [
       "8979"
      ]
     },
     "execution_count": 11,
     "metadata": {},
     "output_type": "execute_result"
    }
   ],
   "source": [
    "len(training_docs_list)"
   ]
  },
  {
   "cell_type": "code",
   "execution_count": 12,
   "metadata": {
    "collapsed": false
   },
   "outputs": [
    {
     "data": {
      "text/plain": [
       "1969"
      ]
     },
     "execution_count": 12,
     "metadata": {},
     "output_type": "execute_result"
    }
   ],
   "source": [
    "len(validation_docs_list)"
   ]
  },
  {
   "cell_type": "code",
   "execution_count": 13,
   "metadata": {
    "collapsed": true
   },
   "outputs": [],
   "source": [
    "def stemtokenizer(text):\n",
    "    \"\"\" MAIN FUNCTION to get clean stems out of a text. A list of clean stems are returned \"\"\"\n",
    "    tokenizer = RegexpTokenizer(r'\\s+', gaps=True)\n",
    "    tokens = tokenizer.tokenize(text)\n",
    "    stems = []  # result\n",
    "    for token in tokens:\n",
    "        stem = token.lower()\n",
    "        stem = stem.strip(string.punctuation)\n",
    "        if stem:\n",
    "            if is_number(stem):\n",
    "                stem = NUMBER_INDICATOR\n",
    "            elif is_currency(stem):\n",
    "                stem = CURRENCY_INDICATOR\n",
    "            elif is_chemical(stem):\n",
    "                stem = CHEMICAL_INDICATOR\n",
    "            else:\n",
    "                stem = stem.strip(string.punctuation)\n",
    "            if stem and len(stem) >= MIN_SIZE:\n",
    "                # extract uni-grams\n",
    "                stems.append(stem)\n",
    "    del tokens\n",
    "    return stems\n",
    "\n",
    "def is_number(str):\n",
    "    \"\"\" Returns true if given string is a number (float or int)\"\"\"\n",
    "    try:\n",
    "        float(str.replace(\",\", \"\"))\n",
    "        return True\n",
    "    except ValueError:\n",
    "        return False\n",
    "\n",
    "def is_currency(str):\n",
    "    return str[0] == \"$\"\n",
    "\n",
    "def is_chemical(str):\n",
    "    return str.count(\"-\") > 3"
   ]
  },
  {
   "cell_type": "code",
   "execution_count": 14,
   "metadata": {
    "collapsed": true
   },
   "outputs": [],
   "source": [
    "def get_training_vector(classification, term_list, classifications, number_of_terms):\n",
    "    clss = 1 if classification in classifications else 0\n",
    "    return LabeledPoint(clss, SparseVector(number_of_terms, term_list))\n",
    "\n",
    "def train_level_new(docs_index, classification, doc_classification_map, number_of_terms):\n",
    "    training_vectors = docs_index.map(\n",
    "        lambda (doc_id, postings): get_training_vector(classification, postings,\n",
    "                                                        doc_classification_map[doc_id], number_of_terms))\n",
    "    svm = SVMWithSGD.train(training_vectors, iterations=SVM_ITERATIONS, convergenceTol=SVM_CONVERGENCE, regParam=SVM_REG)\n",
    "    return training_vectors, svm\n",
    "\n",
    "get_binary = lambda x: 1 if x > 0 else 0\n",
    "get_binary = np.vectorize(get_binary)\n",
    "\n",
    "\n",
    "def get_top_N_percentage(y_score, y_true, max_N=3):\n",
    "    \"\"\"\n",
    "    Get percentage of correct labels that are in the top N scores\n",
    "    \"\"\"\n",
    "    num_all_true = 0\n",
    "    num_found_in_max_N = 0\n",
    "    for i in xrange(y_score.shape[0]):\n",
    "        y_score_row = y_score[i,:]\n",
    "        y_true_row = y_true[i,:]\n",
    "        desc_score_indices = np.argsort(y_score_row)[::-1]\n",
    "        true_indices = np.where(y_true_row ==1)[0]\n",
    "        \n",
    "        num_true_in_row = len(true_indices)\n",
    "        num_all_true += num_true_in_row\n",
    "        for i, score_index in enumerate(desc_score_indices):\n",
    "            # only iterate through the score list till depth N, but make sure you also account for the case where \n",
    "            # the number of true labels for the current row is higher than N\n",
    "            if i >= max_N and i >= num_true_in_row:\n",
    "                break\n",
    "            if score_index in true_indices:\n",
    "                num_found_in_max_N += 1\n",
    "    return float(num_found_in_max_N)/ num_all_true\n",
    "\n",
    "\n",
    "def get_metrics(y_true, y_score, y_binary_score):\n",
    "    metrics = {}\n",
    "    metrics['total_positive'] = np.sum(np.sum(y_binary_score))\n",
    "    #TODO remove those two when running on the whole set to avoid excessive storage costs\n",
    "    metrics['y_true'] = y_true\n",
    "    metrics['y_score'] = y_score\n",
    "    metrics['y_binary_score'] = y_binary_score\n",
    "    metrics['coverage_error'] = coverage_error(y_true, y_binary_score)\n",
    "    metrics['average_num_of_labels'] = np.sum(np.sum(y_true, axis=1))/y_true.shape[0]\n",
    "    metrics['average_precision_micro'] = sklearn.metrics.average_precision_score(y_true, y_binary_score, average='micro')\n",
    "    metrics['average_precision_macro'] = sklearn.metrics.average_precision_score(y_true, y_binary_score, average='macro')\n",
    "    metrics['precision_micro'] = sklearn.metrics.precision_score(y_true, y_binary_score, average='micro')\n",
    "    metrics['precision_macro'] = sklearn.metrics.precision_score(y_true, y_binary_score, average='macro')\n",
    "    metrics['recall_micro'] = sklearn.metrics.recall_score(y_true, y_binary_score, average='micro')\n",
    "    metrics['recall_macro'] = sklearn.metrics.recall_score(y_true, y_binary_score, average='macro')\n",
    "    metrics['f1_micro'] = sklearn.metrics.f1_score(y_true, y_binary_score, average='micro')\n",
    "    metrics['f1_macro'] = sklearn.metrics.f1_score(y_true, y_binary_score, average='macro')\n",
    "\n",
    "    precision_scores = np.zeros(y_true.shape[1])\n",
    "    for i in range(0, y_true.shape[1]):\n",
    "        precision_scores[i] = sklearn.metrics.precision_score(y_true[:,i], y_binary_score[:,i])\n",
    "    metrics['precision_scores_array'] = precision_scores.tolist()\n",
    "\n",
    "    recall_scores = np.zeros(y_true.shape[1])\n",
    "    for i in range(0, y_true.shape[1]):\n",
    "        recall_scores[i] = sklearn.metrics.recall_score(y_true[:,i], y_binary_score[:,i])\n",
    "    metrics['recall_scores_array'] = recall_scores.tolist()\n",
    "\n",
    "    f1_scores = np.zeros(y_true.shape[1])\n",
    "    for i in range(0, y_true.shape[1]):\n",
    "        f1_scores[i] = sklearn.metrics.f1_score(y_true[:,i], y_binary_score[:,i])\n",
    "    metrics['f1_scores_array'] = f1_scores.tolist()\n",
    "\n",
    "    metrics['top_1'] = get_top_N_percentage(y_score, y_true, max_N=1)\n",
    "    metrics['top_3'] = get_top_N_percentage(y_score, y_true, max_N=3)\n",
    "    metrics['top_5'] = get_top_N_percentage(y_score, y_true, max_N=5)\n",
    "    \n",
    "    return metrics\n",
    "\n",
    "def model_exists(path):\n",
    "    try:\n",
    "        model = SVMModel.load(sc, path)\n",
    "        return True;\n",
    "    except:\n",
    "        return False\n",
    "    \n",
    "def get_training_vector(classification, dense_vector, classifications):\n",
    "    clss = 1 if classification in classifications else 0\n",
    "    return LabeledPoint(clss, dense_vector)\n",
    "\n",
    "def train_level_doc2vec(classification, doc_classification_map):\n",
    "    doc2vec_model = GLOBAL_VARS.DOC2VEC_MODEL\n",
    "    training_vectors = []\n",
    "    for doc_id in training_docs_list:\n",
    "        # converting from memmap to a normal array as spark is unable to convert memmap to a spark Vector\n",
    "        normal_array = []\n",
    "        normal_array[:] = doc2vec_model.docvecs[doc_id][:]\n",
    "        training_vectors.append(get_training_vector(classification, normal_array, \n",
    "                                                    doc_classification_map[doc_id]))\n",
    "    info(\"Finished getting training vectors\")\n",
    "    training_vectors = sc.parallelize(training_vectors)\n",
    "    info(\"Finished parallelization\")\n",
    "    svm = SVMWithSGD.train(training_vectors, iterations=SVM_ITERATIONS, convergenceTol=SVM_CONVERGENCE, regParam=SVM_REG)\n",
    "    return training_vectors, svm"
   ]
  },
  {
   "cell_type": "code",
   "execution_count": 15,
   "metadata": {
    "collapsed": false
   },
   "outputs": [],
   "source": [
    "def ensure_hdfs_location_exists(location):\n",
    "    parent = os.path.dirname(location)\n",
    "    os.system(\"hdfs dfs -mkdir -p \" + location)\n",
    "\n",
    "def ensure_disk_location_exists(location):\n",
    "    if not os.path.exists(location):\n",
    "        os.makedirs(location)"
   ]
  },
  {
   "cell_type": "code",
   "execution_count": 16,
   "metadata": {
    "collapsed": true
   },
   "outputs": [],
   "source": [
    "def train_classifications(classifications):\n",
    "    info(\"====== Doing Training\")\n",
    "    i=0\n",
    "    for classification in classifications:\n",
    "        print classification\n",
    "        try:\n",
    "            model_path = get_svm_model_path(GLOBAL_VARS.MODEL_NAME, classification)\n",
    "            if not model_exists(model_path):\n",
    "                training_vectors, svm = train_level_doc2vec(classification, doc_classification_map)\n",
    "                svm.save(sc, model_path)\n",
    "            else:\n",
    "                print \"Model Exists\"\n",
    "        except:\n",
    "            print \"Problem creating: %s: %s\" % (classification, GLOBAL_VARS.MODEL_NAME)\n",
    "            raise"
   ]
  },
  {
   "cell_type": "code",
   "execution_count": 17,
   "metadata": {
    "collapsed": false
   },
   "outputs": [],
   "source": [
    "def do_validation(validation_vectors_matrix, doc_classification_map, classifications, classifications_name):\n",
    "\n",
    "    info(\"====== Doing Validation\")\n",
    "    method = GLOBAL_VARS.MODEL_NAME\n",
    "    subset = classifications_name\n",
    "\n",
    "    doc_count = validation_vectors_matrix.shape[0]\n",
    "    y_score = np.zeros((doc_count, len(classifications)))\n",
    "    y_true = np.zeros((doc_count, len(classifications)))\n",
    "    i=0\n",
    "\n",
    "    for classification in classifications:\n",
    "        print classification\n",
    "\n",
    "        validation_vectors = get_validation_doc2vec_spark_vectors(validation_vectors_matrix, \n",
    "                                                                  classification, doc_classification_map)\n",
    "        #global binarySvm\n",
    "        binarySvm = SVMModel.load(sc, get_svm_model_path(GLOBAL_VARS.MODEL_NAME, classification))\n",
    "        info(\"Loaded the model, Doing the prediction now....\")\n",
    "        binarySvm.clearThreshold()\n",
    "        binarySvmB = sc.broadcast(binarySvm)\n",
    "        # using the broadcasted binarySvm variable, fixes global name 'binarySvm' is not defined as this variable was not\n",
    "        # available in the workers, so we pass it explicitly to the mapper using partial\n",
    "        labels_predictions = validation_vectors.map( \\\n",
    "            partial(lambda svm, p: (p.label, svm.value.predict(p.features)), binarySvmB) \\\n",
    "        ).collect()\n",
    "        #labels = test_labeled_points.map(lambda p: p.labels)\n",
    "        y_true[:,i] = [label_pred[0] for label_pred in labels_predictions]\n",
    "        y_score[:,i] = [label_pred[1] for label_pred in labels_predictions]\n",
    "        i+=1\n",
    "    y_binary_score = get_binary(y_score)\n",
    "    # results[method][\"y_true\"] = y_true\n",
    "    # results[method][\"y_score\"] = y_score\n",
    "    # results[method][\"y_binary_score\"] = y_binary_score\n",
    "    metrics = get_metrics(y_true, y_score, y_binary_score)\n",
    "    return metrics\n"
   ]
  },
  {
   "cell_type": "code",
   "execution_count": 18,
   "metadata": {
    "collapsed": false
   },
   "outputs": [],
   "source": [
    "def get_validation_docs_with_inference(doc2vec_model, doc_classification_map):\n",
    "    \"\"\"\n",
    "    Use the trained doc2vec model to get the paragraph vector representations of the validation documents\n",
    "    \"\"\"\n",
    "    if os.path.exists(os.path.join(doc2vec_model_save_location, GLOBAL_VARS.MODEL_NAME, VALIDATION_MATRIX)):\n",
    "        info(\"===== Loading validation vectors\")\n",
    "        validation_vectors_matrix = pickle.load(open(os.path.join(doc2vec_model_save_location, GLOBAL_VARS.MODEL_NAME, VALIDATION_MATRIX)))\n",
    "    else:\n",
    "        validation_documents_reps = {}\n",
    "        validation_vectors = []\n",
    "        validation_labels = []\n",
    "        info(\"===== Getting validation vectors with inference\")\n",
    "\n",
    "        # do inference and store results in dict\n",
    "        i = 0\n",
    "        for (doc_id, doc_contents_array) in ValidationDocumentGenerator(training_file, validation_docs_list):\n",
    "            i += 1\n",
    "            if i % 1000 == 0: info(\"Finished: {}\".format(str(i)))\n",
    "            validation_documents_reps[doc_id] = doc2vec_model.infer_vector(doc_contents_array)\n",
    "\n",
    "        # create matrix for the validation vectors\n",
    "        for validation_doc_id in validation_docs_list:\n",
    "            validation_vectors.append(validation_documents_reps[validation_doc_id])\n",
    "            validation_labels.append([classf for classf in doc_classification_map[validation_doc_id] if classf in sections])\n",
    "        validation_vectors_matrix = np.array(validation_vectors)\n",
    "        pickle.dump(validation_vectors_matrix, open(os.path.join(doc2vec_model_save_location, GLOBAL_VARS.MODEL_NAME, VALIDATION_MATRIX), 'w'))\n",
    "    \n",
    "    return validation_vectors_matrix"
   ]
  },
  {
   "cell_type": "code",
   "execution_count": 19,
   "metadata": {
    "collapsed": true
   },
   "outputs": [],
   "source": [
    "def get_validation_doc2vec_spark_vectors(validation_vectors_matrix, classification, doc_classification_map):\n",
    "    validation_vectors = []\n",
    "    for (index, doc_id) in enumerate(validation_docs_list):\n",
    "        # converting from memmap to a normal array as spark is unable to convert memmap to a spark Vector\n",
    "        validation_vector = validation_vectors_matrix[index]\n",
    "        validation_vectors.append(get_training_vector(classification, validation_vector, \n",
    "                                                    doc_classification_map[doc_id]))\n",
    "    validation_vectors = sc.parallelize(validation_vectors)\n",
    "    info(\"Finished getting validation vectors\")\n",
    "    return validation_vectors"
   ]
  },
  {
   "cell_type": "code",
   "execution_count": 20,
   "metadata": {
    "collapsed": true
   },
   "outputs": [],
   "source": [
    "class MetricsGraph:\n",
    "    def __init__(self):\n",
    "        self.coverage_errors = []\n",
    "        self.average_num_labels = []\n",
    "        \n",
    "        self.f1_micros = []\n",
    "        self.precision_micros = []\n",
    "        self.recall_micros = []\n",
    "        self.f1_macros = []\n",
    "        self.precision_macros = []\n",
    "        self.recall_macros = []\n",
    "        \n",
    "        self.top_1s = []\n",
    "        self.top_3s = []\n",
    "        self.top_5s = []\n",
    "        \n",
    "        self.epochs = []\n",
    "        \n",
    "        self.fig = None\n",
    "        self.ax = None\n",
    "        self.ax2 = None\n",
    "    \n",
    "    def init_graph(self):\n",
    "        self.fig = plt.figure(figsize=(12,6), dpi=80)\n",
    "        self.ax = plt.subplot(121)\n",
    "        self.ax2 = plt.subplot(122)\n",
    "        self.fig.subplots_adjust(top=0.72, bottom=0.1, left=0.05, right=0.95)\n",
    "        self.ax.set_xlabel(\"Epochs\")\n",
    "        self.ax2.set_xlabel(\"Epochs\")\n",
    "    \n",
    "    def _add_metrics(self, metrics, epoch):\n",
    "        self.coverage_errors.append(metrics['coverage_error'])\n",
    "        self.average_num_labels.append(metrics['average_num_of_labels'])\n",
    "        \n",
    "        self.f1_micros.append(metrics['f1_micro'])\n",
    "        self.precision_micros.append(metrics['precision_micro'])\n",
    "        self.recall_micros.append(metrics['recall_micro'])\n",
    "        self.f1_macros.append(metrics['f1_macro'])\n",
    "        self.precision_macros.append(metrics['precision_macro'])\n",
    "        self.recall_macros.append(metrics['recall_macro'])\n",
    "        \n",
    "        self.top_1s.append(metrics['top_1']  if 'top_1' in metrics else get_top_N_percentage(metrics['y_score'], metrics['y_true'], max_N=1))\n",
    "        self.top_3s.append(metrics['top_3']  if 'top_3' in metrics else get_top_N_percentage(metrics['y_score'], metrics['y_true'], max_N=3))\n",
    "        self.top_5s.append(metrics['top_5']  if 'top_5' in metrics else get_top_N_percentage(metrics['y_score'], metrics['y_true'], max_N=5))\n",
    "        \n",
    "        self.epochs.append(epoch)\n",
    "        \n",
    "    def add_metrics_to_graph(self, metrics, epoch, draw_now=True):\n",
    "        \n",
    "        self._add_metrics(metrics, epoch)\n",
    "        if draw_now:\n",
    "            self.draw()\n",
    "\n",
    "    def draw(self):\n",
    "        \n",
    "        first_epoch = self.epochs[0]\n",
    "        last_epoch = self.epochs[-1]\n",
    "        \n",
    "        coverage_error_line, = self.ax.plot(self.epochs, self.coverage_errors, 'r-', label='Coverage Error')\n",
    "        average_num_labels_line, = self.ax.plot(self.epochs, self.average_num_labels, 'g-', label='Avg Num. of Labels')\n",
    "\n",
    "        self.ax.legend(handles=[coverage_error_line, average_num_labels_line],\n",
    "                  bbox_to_anchor=(0., 1.02, 1., .102), loc=3, ncol=2, mode=\"expand\", borderaxespad=0.)\n",
    "        self.ax.axis([first_epoch, last_epoch, 0, 10])\n",
    "        # show the average number of labels as a separate y-tick\n",
    "        curr_min_cov = [min(self.coverage_errors)]\n",
    "        prev_min_cov = [min(self.coverage_errors[:-1])] if len(self.coverage_errors) > 1 else []\n",
    "        self.ax.set_yticks(list(set(self.ax.get_yticks())- set(prev_min_cov) ) + [self.average_num_labels[0]] + curr_min_cov)\n",
    "\n",
    "        f1_micro_line, = self.ax2.plot(self.epochs, self.f1_micros, 'g-', label='F1 Micro')\n",
    "        precision_micro_line, = self.ax2.plot(self.epochs, self.precision_micros, 'r-', label='Precision Micro')\n",
    "        recall_micro_line, = self.ax2.plot(self.epochs, self.recall_micros, 'b-', label='Recall Micro')\n",
    "        f1_macro_line, = self.ax2.plot(self.epochs, self.f1_macros, 'g--', label='F1 Macro')\n",
    "        precision_macro_line, = self.ax2.plot(self.epochs, self.precision_macros, 'r--', label='Precision Macro')\n",
    "        recall_macro_line, = self.ax2.plot(self.epochs, self.recall_macros, 'b--', label='Recall Macro')\n",
    "        \n",
    "        top_1_line, = self.ax2.plot(self.epochs, self.top_1s, 'g-.', label='Top 1 %')\n",
    "        top_3_line, = self.ax2.plot(self.epochs, self.top_3s, 'r-.', label='Top 3 %')\n",
    "        top_5_line, = self.ax2.plot(self.epochs, self.top_5s, 'b-.', label='Top 5 %')\n",
    "        \n",
    "        self.ax2.legend(handles=[f1_micro_line, precision_micro_line, recall_micro_line, \n",
    "                                 f1_macro_line, precision_macro_line, recall_macro_line,\n",
    "                                 top_1_line, top_3_line, top_5_line],\n",
    "                  bbox_to_anchor=(0., 1.02, 1., .102), loc=3, ncol=2, mode=\"expand\", borderaxespad=0.)\n",
    "        self.ax2.axis([first_epoch, last_epoch, 0, 1])\n",
    "        curr_max_f1_micro = [max(self.f1_micros)]\n",
    "        prev_max_f1_micro = [max(self.f1_micros[:-1])] if len(self.f1_micros) > 1 else []\n",
    "        self.ax2.set_yticks(list(set(self.ax2.get_yticks())- set(prev_max_f1_micro) ) + curr_max_f1_micro)\n",
    "        \n",
    "        self.fig.canvas.draw()"
   ]
  },
  {
   "cell_type": "markdown",
   "metadata": {},
   "source": [
    "### Doc2vec and SVM Parameters"
   ]
  },
  {
   "cell_type": "code",
   "execution_count": 43,
   "metadata": {
    "collapsed": true
   },
   "outputs": [],
   "source": [
    "DOC2VEC_SIZE = 1000\n",
    "DOC2VEC_WINDOW = 8\n",
    "DOC2VEC_MAX_VOCAB_SIZE = None\n",
    "DOC2VEC_SAMPLE = 1e-5\n",
    "DOC2VEC_TYPE = 2\n",
    "DOC2VEC_HIERARCHICAL_SAMPLE = 0\n",
    "DOC2VEC_NEGATIVE_SAMPLE_SIZE = 10\n",
    "DOC2VEC_CONCAT = 1\n",
    "DOC2VEC_MEAN = 0\n",
    "DOC2VEC_TRAIN_WORDS = 0\n",
    "DOC2VEC_EPOCHS = 1 # we do our training manually one epoch at a time\n",
    "DOC2VEC_MAX_EPOCHS = 20\n",
    "REPORT_DELAY = 60 # report the progress every x seconds\n",
    "REPORT_VOCAB_PROGRESS = 1000 # report the progress every x terms"
   ]
  },
  {
   "cell_type": "code",
   "execution_count": 44,
   "metadata": {
    "collapsed": true
   },
   "outputs": [],
   "source": [
    "SVM_ITERATIONS = 1000\n",
    "SVM_CONVERGENCE = 0.001\n",
    "SVM_REG = 0.1\n",
    "GLOBAL_VARS.SVM_MODEL_NAME = 'iter_{}_reg_{}'.format(SVM_ITERATIONS, SVM_REG)"
   ]
  },
  {
   "cell_type": "code",
   "execution_count": 45,
   "metadata": {
    "collapsed": false
   },
   "outputs": [],
   "source": [
    "def get_svm_model_path(method, classification, reg=SVM_REG, iterations=SVM_ITERATIONS):\n",
    "    location = os.path.join(save_parent_location, \"models\", method, \n",
    "                            \"iter_\" + str(iterations) + \"_reg_\" + str(reg),\n",
    "                            classification + \"_model.svm\")\n",
    "    ensure_hdfs_location_exists(location)\n",
    "    return location\n",
    "\n",
    "class TrainingDocumentGenerator(object):\n",
    "    def __init__(self, filename, training_docs_list):\n",
    "        self.filename = filename\n",
    "        self.training_docs_list = training_docs_list\n",
    "    def __iter__(self):\n",
    "        with open(self.filename) as file_obj:\n",
    "            for line in file_obj:\n",
    "                if not line.strip(): continue\n",
    "                (doc_id, text) = eval(line)\n",
    "                if doc_id in self.training_docs_list:\n",
    "                    yield LabeledSentence(words=stemtokenizer(text), tags=[doc_id])\n",
    "                \n",
    "class ValidationDocumentGenerator(object):\n",
    "    def __init__(self, filename, validation_docs_list):\n",
    "        self.filename = filename\n",
    "        self.validation_docs_list = validation_docs_list\n",
    "    def __iter__(self):\n",
    "        with open(self.filename) as file_obj:\n",
    "            for line in file_obj:\n",
    "                if not line.strip(): continue\n",
    "                (doc_id, text) = eval(line)\n",
    "                if doc_id in self.validation_docs_list:\n",
    "                    yield doc_id, stemtokenizer(text)\n",
    "                    \n",
    "class StochasticDocumentGenerator(object):\n",
    "    def __init__(self, filename, training_docs_list, line_positions):\n",
    "        self.filename = filename\n",
    "        self.training_docs_list = training_docs_list\n",
    "        self.line_positions = line_positions\n",
    "        self.lines = set(line_positions.keys())\n",
    "    def __iter__(self):\n",
    "        with open(self.filename) as file_obj:\n",
    "            while len(self.lines) > 0:\n",
    "                random_line = random.sample(self.lines,1)[0]\n",
    "                self.lines.remove(random_line)\n",
    "                file_obj.seek(self.line_positions[random_line])\n",
    "                line = file_obj.readline()\n",
    "                if not line.strip(): continue\n",
    "#                 print random_line, self.line_positions[random_line], line[:30]\n",
    "                (doc_id, text) = eval(line)\n",
    "                # print random_line , doc_id\n",
    "                if doc_id in self.training_docs_list:\n",
    "                    yield LabeledSentence(words=stemtokenizer(text), tags=[doc_id])\n",
    "#                     yield doc_id"
   ]
  },
  {
   "cell_type": "markdown",
   "metadata": {},
   "source": [
    "#### Get starting positions in bytes for every line to be able to do random sampling"
   ]
  },
  {
   "cell_type": "code",
   "execution_count": 36,
   "metadata": {
    "collapsed": false
   },
   "outputs": [],
   "source": [
    "line_positions = dict()\n",
    "with open(training_file) as f:\n",
    "    \n",
    "    i = 0\n",
    "    line_positions[i] = f.tell()\n",
    "    line = f.readline()\n",
    "    while line:\n",
    "        i+=1\n",
    "        if not line.strip(): continue\n",
    "        line_positions[i] = f.tell()\n",
    "        line = f.readline()\n",
    "    del line_positions[i]"
   ]
  },
  {
   "cell_type": "markdown",
   "metadata": {},
   "source": [
    "## Create the Doc2vec model"
   ]
  },
  {
   "cell_type": "code",
   "execution_count": 46,
   "metadata": {
    "collapsed": false
   },
   "outputs": [
    {
     "data": {
      "text/plain": [
       "'doc2vec_size_1000_w_8_type_pv-dbow_concat_1_mean_0_trainwords_0_hs_0_neg_10_vocabsize_None_curriter_{}'"
      ]
     },
     "execution_count": 46,
     "metadata": {},
     "output_type": "execute_result"
    }
   ],
   "source": [
    "placeholder_model_name = 'doc2vec_size_{}_w_{}_type_{}_concat_{}_mean_{}_trainwords_{}_hs_{}_neg_{}_vocabsize_{}'.format(DOC2VEC_SIZE, \n",
    "                                                                DOC2VEC_WINDOW, \n",
    "                                                                'dm' if DOC2VEC_TYPE == 1 else 'pv-dbow',\n",
    "                                                                DOC2VEC_CONCAT, DOC2VEC_MEAN,\n",
    "                                                                DOC2VEC_TRAIN_WORDS,\n",
    "                                                                DOC2VEC_HIERARCHICAL_SAMPLE,DOC2VEC_NEGATIVE_SAMPLE_SIZE,\n",
    "                                                                str(DOC2VEC_MAX_VOCAB_SIZE))\n",
    "placeholder_model_name = placeholder_model_name + \"_curriter_{}\"\n",
    "placeholder_model_name"
   ]
  },
  {
   "cell_type": "code",
   "execution_count": 38,
   "metadata": {
    "collapsed": false
   },
   "outputs": [],
   "source": [
    "doc2vec_model = Doc2Vec(size=DOC2VEC_SIZE , window=DOC2VEC_WINDOW, min_count=MIN_WORD_COUNT, \n",
    "                max_vocab_size= DOC2VEC_MAX_VOCAB_SIZE,\n",
    "                sample=DOC2VEC_SAMPLE, seed=DOC2VEC_SEED, workers=NUM_CORES,\n",
    "                # doc2vec algorithm dm=1 => PV-DM, dm=2 => PV-DBOW, PV-DM dictates CBOW for words\n",
    "                dm=DOC2VEC_TYPE,\n",
    "                # hs=0 => negative sampling, hs=1 => hierarchical softmax\n",
    "                hs=DOC2VEC_HIERARCHICAL_SAMPLE, negative=DOC2VEC_NEGATIVE_SAMPLE_SIZE,\n",
    "                dm_concat=DOC2VEC_CONCAT,\n",
    "                # would train words with skip-gram on top of cbow, we don't need that for now\n",
    "                dbow_words=DOC2VEC_TRAIN_WORDS,\n",
    "                iter=DOC2VEC_EPOCHS)\n",
    "\n",
    "GLOBAL_VARS.DOC2VEC_MODEL = doc2vec_model"
   ]
  },
  {
   "cell_type": "code",
   "execution_count": 39,
   "metadata": {
    "collapsed": false
   },
   "outputs": [
    {
     "name": "stderr",
     "output_type": "stream",
     "text": [
      "2016-09-26 13:57:01,977 : INFO : loading Doc2Vec object from /home/local/shalaby/parameter_search_doc2vec_models/sample_0.0001/vocab_model/model\n",
      "2016-09-26 13:57:02,627 : INFO : loading docvecs recursively from /home/local/shalaby/parameter_search_doc2vec_models/sample_0.0001/vocab_model/model.docvecs.* with mmap=None\n",
      "2016-09-26 13:57:02,628 : INFO : loading syn1neg from /home/local/shalaby/parameter_search_doc2vec_models/sample_0.0001/vocab_model/model.syn1neg.npy with mmap=None\n",
      "2016-09-26 14:00:59,750 : INFO : loading syn0 from /home/local/shalaby/parameter_search_doc2vec_models/sample_0.0001/vocab_model/model.syn0.npy with mmap=None\n",
      "2016-09-26 14:01:15,492 : INFO : setting ignored attribute syn0norm to None\n",
      "2016-09-26 14:01:15,493 : INFO : setting ignored attribute cum_table to None\n",
      "2016-09-26 14:01:15,900 : INFO : resetting layer weights\n"
     ]
    },
    {
     "name": "stdout",
     "output_type": "stream",
     "text": [
      "CPU times: user 7.69 s, sys: 4min 16s, total: 4min 24s\n",
      "Wall time: 4min 24s\n"
     ]
    }
   ],
   "source": [
    "%%time\n",
    "if not os.path.exists(os.path.join(doc2vec_model_save_location, VOCAB_MODEL, MODEL_PREFIX)):\n",
    "    doc2vec_model.build_vocab(sentences=TrainingDocumentGenerator(training_file, training_docs_list), \n",
    "                              progress_per=REPORT_VOCAB_PROGRESS)\n",
    "    doc2vec_model.save(os.path.join(doc2vec_model_save_location, VOCAB_MODEL, MODEL_PREFIX))\n",
    "else: \n",
    "    doc2vec_model_vocab_model = Doc2Vec.load(os.path.join(doc2vec_model_save_location, VOCAB_MODEL, MODEL_PREFIX))\n",
    "    doc2vec_model.reset_from(doc2vec_model_vocab_model)"
   ]
  },
  {
   "cell_type": "markdown",
   "metadata": {},
   "source": [
    "## Actual Training, validation and Metrics Loop"
   ]
  },
  {
   "cell_type": "code",
   "execution_count": 40,
   "metadata": {
    "collapsed": true
   },
   "outputs": [],
   "source": [
    "#doc2vec_model.min_alpha = 0.025\n",
    "epoch_metrics = []"
   ]
  },
  {
   "cell_type": "code",
   "execution_count": null,
   "metadata": {
    "collapsed": false,
    "scrolled": false
   },
   "outputs": [
    {
     "data": {
      "application/javascript": [
       "/* Put everything inside the global mpl namespace */\n",
       "window.mpl = {};\n",
       "\n",
       "mpl.get_websocket_type = function() {\n",
       "    if (typeof(WebSocket) !== 'undefined') {\n",
       "        return WebSocket;\n",
       "    } else if (typeof(MozWebSocket) !== 'undefined') {\n",
       "        return MozWebSocket;\n",
       "    } else {\n",
       "        alert('Your browser does not have WebSocket support.' +\n",
       "              'Please try Chrome, Safari or Firefox ≥ 6. ' +\n",
       "              'Firefox 4 and 5 are also supported but you ' +\n",
       "              'have to enable WebSockets in about:config.');\n",
       "    };\n",
       "}\n",
       "\n",
       "mpl.figure = function(figure_id, websocket, ondownload, parent_element) {\n",
       "    this.id = figure_id;\n",
       "\n",
       "    this.ws = websocket;\n",
       "\n",
       "    this.supports_binary = (this.ws.binaryType != undefined);\n",
       "\n",
       "    if (!this.supports_binary) {\n",
       "        var warnings = document.getElementById(\"mpl-warnings\");\n",
       "        if (warnings) {\n",
       "            warnings.style.display = 'block';\n",
       "            warnings.textContent = (\n",
       "                \"This browser does not support binary websocket messages. \" +\n",
       "                    \"Performance may be slow.\");\n",
       "        }\n",
       "    }\n",
       "\n",
       "    this.imageObj = new Image();\n",
       "\n",
       "    this.context = undefined;\n",
       "    this.message = undefined;\n",
       "    this.canvas = undefined;\n",
       "    this.rubberband_canvas = undefined;\n",
       "    this.rubberband_context = undefined;\n",
       "    this.format_dropdown = undefined;\n",
       "\n",
       "    this.image_mode = 'full';\n",
       "\n",
       "    this.root = $('<div/>');\n",
       "    this._root_extra_style(this.root)\n",
       "    this.root.attr('style', 'display: inline-block');\n",
       "\n",
       "    $(parent_element).append(this.root);\n",
       "\n",
       "    this._init_header(this);\n",
       "    this._init_canvas(this);\n",
       "    this._init_toolbar(this);\n",
       "\n",
       "    var fig = this;\n",
       "\n",
       "    this.waiting = false;\n",
       "\n",
       "    this.ws.onopen =  function () {\n",
       "            fig.send_message(\"supports_binary\", {value: fig.supports_binary});\n",
       "            fig.send_message(\"send_image_mode\", {});\n",
       "            fig.send_message(\"refresh\", {});\n",
       "        }\n",
       "\n",
       "    this.imageObj.onload = function() {\n",
       "            if (fig.image_mode == 'full') {\n",
       "                // Full images could contain transparency (where diff images\n",
       "                // almost always do), so we need to clear the canvas so that\n",
       "                // there is no ghosting.\n",
       "                fig.context.clearRect(0, 0, fig.canvas.width, fig.canvas.height);\n",
       "            }\n",
       "            fig.context.drawImage(fig.imageObj, 0, 0);\n",
       "        };\n",
       "\n",
       "    this.imageObj.onunload = function() {\n",
       "        this.ws.close();\n",
       "    }\n",
       "\n",
       "    this.ws.onmessage = this._make_on_message_function(this);\n",
       "\n",
       "    this.ondownload = ondownload;\n",
       "}\n",
       "\n",
       "mpl.figure.prototype._init_header = function() {\n",
       "    var titlebar = $(\n",
       "        '<div class=\"ui-dialog-titlebar ui-widget-header ui-corner-all ' +\n",
       "        'ui-helper-clearfix\"/>');\n",
       "    var titletext = $(\n",
       "        '<div class=\"ui-dialog-title\" style=\"width: 100%; ' +\n",
       "        'text-align: center; padding: 3px;\"/>');\n",
       "    titlebar.append(titletext)\n",
       "    this.root.append(titlebar);\n",
       "    this.header = titletext[0];\n",
       "}\n",
       "\n",
       "\n",
       "\n",
       "mpl.figure.prototype._canvas_extra_style = function(canvas_div) {\n",
       "\n",
       "}\n",
       "\n",
       "\n",
       "mpl.figure.prototype._root_extra_style = function(canvas_div) {\n",
       "\n",
       "}\n",
       "\n",
       "mpl.figure.prototype._init_canvas = function() {\n",
       "    var fig = this;\n",
       "\n",
       "    var canvas_div = $('<div/>');\n",
       "\n",
       "    canvas_div.attr('style', 'position: relative; clear: both; outline: 0');\n",
       "\n",
       "    function canvas_keyboard_event(event) {\n",
       "        return fig.key_event(event, event['data']);\n",
       "    }\n",
       "\n",
       "    canvas_div.keydown('key_press', canvas_keyboard_event);\n",
       "    canvas_div.keyup('key_release', canvas_keyboard_event);\n",
       "    this.canvas_div = canvas_div\n",
       "    this._canvas_extra_style(canvas_div)\n",
       "    this.root.append(canvas_div);\n",
       "\n",
       "    var canvas = $('<canvas/>');\n",
       "    canvas.addClass('mpl-canvas');\n",
       "    canvas.attr('style', \"left: 0; top: 0; z-index: 0; outline: 0\")\n",
       "\n",
       "    this.canvas = canvas[0];\n",
       "    this.context = canvas[0].getContext(\"2d\");\n",
       "\n",
       "    var rubberband = $('<canvas/>');\n",
       "    rubberband.attr('style', \"position: absolute; left: 0; top: 0; z-index: 1;\")\n",
       "\n",
       "    var pass_mouse_events = true;\n",
       "\n",
       "    canvas_div.resizable({\n",
       "        start: function(event, ui) {\n",
       "            pass_mouse_events = false;\n",
       "        },\n",
       "        resize: function(event, ui) {\n",
       "            fig.request_resize(ui.size.width, ui.size.height);\n",
       "        },\n",
       "        stop: function(event, ui) {\n",
       "            pass_mouse_events = true;\n",
       "            fig.request_resize(ui.size.width, ui.size.height);\n",
       "        },\n",
       "    });\n",
       "\n",
       "    function mouse_event_fn(event) {\n",
       "        if (pass_mouse_events)\n",
       "            return fig.mouse_event(event, event['data']);\n",
       "    }\n",
       "\n",
       "    rubberband.mousedown('button_press', mouse_event_fn);\n",
       "    rubberband.mouseup('button_release', mouse_event_fn);\n",
       "    // Throttle sequential mouse events to 1 every 20ms.\n",
       "    rubberband.mousemove('motion_notify', mouse_event_fn);\n",
       "\n",
       "    rubberband.mouseenter('figure_enter', mouse_event_fn);\n",
       "    rubberband.mouseleave('figure_leave', mouse_event_fn);\n",
       "\n",
       "    canvas_div.on(\"wheel\", function (event) {\n",
       "        event = event.originalEvent;\n",
       "        event['data'] = 'scroll'\n",
       "        if (event.deltaY < 0) {\n",
       "            event.step = 1;\n",
       "        } else {\n",
       "            event.step = -1;\n",
       "        }\n",
       "        mouse_event_fn(event);\n",
       "    });\n",
       "\n",
       "    canvas_div.append(canvas);\n",
       "    canvas_div.append(rubberband);\n",
       "\n",
       "    this.rubberband = rubberband;\n",
       "    this.rubberband_canvas = rubberband[0];\n",
       "    this.rubberband_context = rubberband[0].getContext(\"2d\");\n",
       "    this.rubberband_context.strokeStyle = \"#000000\";\n",
       "\n",
       "    this._resize_canvas = function(width, height) {\n",
       "        // Keep the size of the canvas, canvas container, and rubber band\n",
       "        // canvas in synch.\n",
       "        canvas_div.css('width', width)\n",
       "        canvas_div.css('height', height)\n",
       "\n",
       "        canvas.attr('width', width);\n",
       "        canvas.attr('height', height);\n",
       "\n",
       "        rubberband.attr('width', width);\n",
       "        rubberband.attr('height', height);\n",
       "    }\n",
       "\n",
       "    // Set the figure to an initial 600x600px, this will subsequently be updated\n",
       "    // upon first draw.\n",
       "    this._resize_canvas(600, 600);\n",
       "\n",
       "    // Disable right mouse context menu.\n",
       "    $(this.rubberband_canvas).bind(\"contextmenu\",function(e){\n",
       "        return false;\n",
       "    });\n",
       "\n",
       "    function set_focus () {\n",
       "        canvas.focus();\n",
       "        canvas_div.focus();\n",
       "    }\n",
       "\n",
       "    window.setTimeout(set_focus, 100);\n",
       "}\n",
       "\n",
       "mpl.figure.prototype._init_toolbar = function() {\n",
       "    var fig = this;\n",
       "\n",
       "    var nav_element = $('<div/>')\n",
       "    nav_element.attr('style', 'width: 100%');\n",
       "    this.root.append(nav_element);\n",
       "\n",
       "    // Define a callback function for later on.\n",
       "    function toolbar_event(event) {\n",
       "        return fig.toolbar_button_onclick(event['data']);\n",
       "    }\n",
       "    function toolbar_mouse_event(event) {\n",
       "        return fig.toolbar_button_onmouseover(event['data']);\n",
       "    }\n",
       "\n",
       "    for(var toolbar_ind in mpl.toolbar_items) {\n",
       "        var name = mpl.toolbar_items[toolbar_ind][0];\n",
       "        var tooltip = mpl.toolbar_items[toolbar_ind][1];\n",
       "        var image = mpl.toolbar_items[toolbar_ind][2];\n",
       "        var method_name = mpl.toolbar_items[toolbar_ind][3];\n",
       "\n",
       "        if (!name) {\n",
       "            // put a spacer in here.\n",
       "            continue;\n",
       "        }\n",
       "        var button = $('<button/>');\n",
       "        button.addClass('ui-button ui-widget ui-state-default ui-corner-all ' +\n",
       "                        'ui-button-icon-only');\n",
       "        button.attr('role', 'button');\n",
       "        button.attr('aria-disabled', 'false');\n",
       "        button.click(method_name, toolbar_event);\n",
       "        button.mouseover(tooltip, toolbar_mouse_event);\n",
       "\n",
       "        var icon_img = $('<span/>');\n",
       "        icon_img.addClass('ui-button-icon-primary ui-icon');\n",
       "        icon_img.addClass(image);\n",
       "        icon_img.addClass('ui-corner-all');\n",
       "\n",
       "        var tooltip_span = $('<span/>');\n",
       "        tooltip_span.addClass('ui-button-text');\n",
       "        tooltip_span.html(tooltip);\n",
       "\n",
       "        button.append(icon_img);\n",
       "        button.append(tooltip_span);\n",
       "\n",
       "        nav_element.append(button);\n",
       "    }\n",
       "\n",
       "    var fmt_picker_span = $('<span/>');\n",
       "\n",
       "    var fmt_picker = $('<select/>');\n",
       "    fmt_picker.addClass('mpl-toolbar-option ui-widget ui-widget-content');\n",
       "    fmt_picker_span.append(fmt_picker);\n",
       "    nav_element.append(fmt_picker_span);\n",
       "    this.format_dropdown = fmt_picker[0];\n",
       "\n",
       "    for (var ind in mpl.extensions) {\n",
       "        var fmt = mpl.extensions[ind];\n",
       "        var option = $(\n",
       "            '<option/>', {selected: fmt === mpl.default_extension}).html(fmt);\n",
       "        fmt_picker.append(option)\n",
       "    }\n",
       "\n",
       "    // Add hover states to the ui-buttons\n",
       "    $( \".ui-button\" ).hover(\n",
       "        function() { $(this).addClass(\"ui-state-hover\");},\n",
       "        function() { $(this).removeClass(\"ui-state-hover\");}\n",
       "    );\n",
       "\n",
       "    var status_bar = $('<span class=\"mpl-message\"/>');\n",
       "    nav_element.append(status_bar);\n",
       "    this.message = status_bar[0];\n",
       "}\n",
       "\n",
       "mpl.figure.prototype.request_resize = function(x_pixels, y_pixels) {\n",
       "    // Request matplotlib to resize the figure. Matplotlib will then trigger a resize in the client,\n",
       "    // which will in turn request a refresh of the image.\n",
       "    this.send_message('resize', {'width': x_pixels, 'height': y_pixels});\n",
       "}\n",
       "\n",
       "mpl.figure.prototype.send_message = function(type, properties) {\n",
       "    properties['type'] = type;\n",
       "    properties['figure_id'] = this.id;\n",
       "    this.ws.send(JSON.stringify(properties));\n",
       "}\n",
       "\n",
       "mpl.figure.prototype.send_draw_message = function() {\n",
       "    if (!this.waiting) {\n",
       "        this.waiting = true;\n",
       "        this.ws.send(JSON.stringify({type: \"draw\", figure_id: this.id}));\n",
       "    }\n",
       "}\n",
       "\n",
       "\n",
       "mpl.figure.prototype.handle_save = function(fig, msg) {\n",
       "    var format_dropdown = fig.format_dropdown;\n",
       "    var format = format_dropdown.options[format_dropdown.selectedIndex].value;\n",
       "    fig.ondownload(fig, format);\n",
       "}\n",
       "\n",
       "\n",
       "mpl.figure.prototype.handle_resize = function(fig, msg) {\n",
       "    var size = msg['size'];\n",
       "    if (size[0] != fig.canvas.width || size[1] != fig.canvas.height) {\n",
       "        fig._resize_canvas(size[0], size[1]);\n",
       "        fig.send_message(\"refresh\", {});\n",
       "    };\n",
       "}\n",
       "\n",
       "mpl.figure.prototype.handle_rubberband = function(fig, msg) {\n",
       "    var x0 = msg['x0'];\n",
       "    var y0 = fig.canvas.height - msg['y0'];\n",
       "    var x1 = msg['x1'];\n",
       "    var y1 = fig.canvas.height - msg['y1'];\n",
       "    x0 = Math.floor(x0) + 0.5;\n",
       "    y0 = Math.floor(y0) + 0.5;\n",
       "    x1 = Math.floor(x1) + 0.5;\n",
       "    y1 = Math.floor(y1) + 0.5;\n",
       "    var min_x = Math.min(x0, x1);\n",
       "    var min_y = Math.min(y0, y1);\n",
       "    var width = Math.abs(x1 - x0);\n",
       "    var height = Math.abs(y1 - y0);\n",
       "\n",
       "    fig.rubberband_context.clearRect(\n",
       "        0, 0, fig.canvas.width, fig.canvas.height);\n",
       "\n",
       "    fig.rubberband_context.strokeRect(min_x, min_y, width, height);\n",
       "}\n",
       "\n",
       "mpl.figure.prototype.handle_figure_label = function(fig, msg) {\n",
       "    // Updates the figure title.\n",
       "    fig.header.textContent = msg['label'];\n",
       "}\n",
       "\n",
       "mpl.figure.prototype.handle_cursor = function(fig, msg) {\n",
       "    var cursor = msg['cursor'];\n",
       "    switch(cursor)\n",
       "    {\n",
       "    case 0:\n",
       "        cursor = 'pointer';\n",
       "        break;\n",
       "    case 1:\n",
       "        cursor = 'default';\n",
       "        break;\n",
       "    case 2:\n",
       "        cursor = 'crosshair';\n",
       "        break;\n",
       "    case 3:\n",
       "        cursor = 'move';\n",
       "        break;\n",
       "    }\n",
       "    fig.rubberband_canvas.style.cursor = cursor;\n",
       "}\n",
       "\n",
       "mpl.figure.prototype.handle_message = function(fig, msg) {\n",
       "    fig.message.textContent = msg['message'];\n",
       "}\n",
       "\n",
       "mpl.figure.prototype.handle_draw = function(fig, msg) {\n",
       "    // Request the server to send over a new figure.\n",
       "    fig.send_draw_message();\n",
       "}\n",
       "\n",
       "mpl.figure.prototype.handle_image_mode = function(fig, msg) {\n",
       "    fig.image_mode = msg['mode'];\n",
       "}\n",
       "\n",
       "mpl.figure.prototype.updated_canvas_event = function() {\n",
       "    // Called whenever the canvas gets updated.\n",
       "    this.send_message(\"ack\", {});\n",
       "}\n",
       "\n",
       "// A function to construct a web socket function for onmessage handling.\n",
       "// Called in the figure constructor.\n",
       "mpl.figure.prototype._make_on_message_function = function(fig) {\n",
       "    return function socket_on_message(evt) {\n",
       "        if (evt.data instanceof Blob) {\n",
       "            /* FIXME: We get \"Resource interpreted as Image but\n",
       "             * transferred with MIME type text/plain:\" errors on\n",
       "             * Chrome.  But how to set the MIME type?  It doesn't seem\n",
       "             * to be part of the websocket stream */\n",
       "            evt.data.type = \"image/png\";\n",
       "\n",
       "            /* Free the memory for the previous frames */\n",
       "            if (fig.imageObj.src) {\n",
       "                (window.URL || window.webkitURL).revokeObjectURL(\n",
       "                    fig.imageObj.src);\n",
       "            }\n",
       "\n",
       "            fig.imageObj.src = (window.URL || window.webkitURL).createObjectURL(\n",
       "                evt.data);\n",
       "            fig.updated_canvas_event();\n",
       "            fig.waiting = false;\n",
       "            return;\n",
       "        }\n",
       "        else if (typeof evt.data === 'string' && evt.data.slice(0, 21) == \"data:image/png;base64\") {\n",
       "            fig.imageObj.src = evt.data;\n",
       "            fig.updated_canvas_event();\n",
       "            fig.waiting = false;\n",
       "            return;\n",
       "        }\n",
       "\n",
       "        var msg = JSON.parse(evt.data);\n",
       "        var msg_type = msg['type'];\n",
       "\n",
       "        // Call the  \"handle_{type}\" callback, which takes\n",
       "        // the figure and JSON message as its only arguments.\n",
       "        try {\n",
       "            var callback = fig[\"handle_\" + msg_type];\n",
       "        } catch (e) {\n",
       "            console.log(\"No handler for the '\" + msg_type + \"' message type: \", msg);\n",
       "            return;\n",
       "        }\n",
       "\n",
       "        if (callback) {\n",
       "            try {\n",
       "                // console.log(\"Handling '\" + msg_type + \"' message: \", msg);\n",
       "                callback(fig, msg);\n",
       "            } catch (e) {\n",
       "                console.log(\"Exception inside the 'handler_\" + msg_type + \"' callback:\", e, e.stack, msg);\n",
       "            }\n",
       "        }\n",
       "    };\n",
       "}\n",
       "\n",
       "// from http://stackoverflow.com/questions/1114465/getting-mouse-location-in-canvas\n",
       "mpl.findpos = function(e) {\n",
       "    //this section is from http://www.quirksmode.org/js/events_properties.html\n",
       "    var targ;\n",
       "    if (!e)\n",
       "        e = window.event;\n",
       "    if (e.target)\n",
       "        targ = e.target;\n",
       "    else if (e.srcElement)\n",
       "        targ = e.srcElement;\n",
       "    if (targ.nodeType == 3) // defeat Safari bug\n",
       "        targ = targ.parentNode;\n",
       "\n",
       "    // jQuery normalizes the pageX and pageY\n",
       "    // pageX,Y are the mouse positions relative to the document\n",
       "    // offset() returns the position of the element relative to the document\n",
       "    var x = e.pageX - $(targ).offset().left;\n",
       "    var y = e.pageY - $(targ).offset().top;\n",
       "\n",
       "    return {\"x\": x, \"y\": y};\n",
       "};\n",
       "\n",
       "/*\n",
       " * return a copy of an object with only non-object keys\n",
       " * we need this to avoid circular references\n",
       " * http://stackoverflow.com/a/24161582/3208463\n",
       " */\n",
       "function simpleKeys (original) {\n",
       "  return Object.keys(original).reduce(function (obj, key) {\n",
       "    if (typeof original[key] !== 'object')\n",
       "        obj[key] = original[key]\n",
       "    return obj;\n",
       "  }, {});\n",
       "}\n",
       "\n",
       "mpl.figure.prototype.mouse_event = function(event, name) {\n",
       "    var canvas_pos = mpl.findpos(event)\n",
       "\n",
       "    if (name === 'button_press')\n",
       "    {\n",
       "        this.canvas.focus();\n",
       "        this.canvas_div.focus();\n",
       "    }\n",
       "\n",
       "    var x = canvas_pos.x;\n",
       "    var y = canvas_pos.y;\n",
       "\n",
       "    this.send_message(name, {x: x, y: y, button: event.button,\n",
       "                             step: event.step,\n",
       "                             guiEvent: simpleKeys(event)});\n",
       "\n",
       "    /* This prevents the web browser from automatically changing to\n",
       "     * the text insertion cursor when the button is pressed.  We want\n",
       "     * to control all of the cursor setting manually through the\n",
       "     * 'cursor' event from matplotlib */\n",
       "    event.preventDefault();\n",
       "    return false;\n",
       "}\n",
       "\n",
       "mpl.figure.prototype._key_event_extra = function(event, name) {\n",
       "    // Handle any extra behaviour associated with a key event\n",
       "}\n",
       "\n",
       "mpl.figure.prototype.key_event = function(event, name) {\n",
       "\n",
       "    // Prevent repeat events\n",
       "    if (name == 'key_press')\n",
       "    {\n",
       "        if (event.which === this._key)\n",
       "            return;\n",
       "        else\n",
       "            this._key = event.which;\n",
       "    }\n",
       "    if (name == 'key_release')\n",
       "        this._key = null;\n",
       "\n",
       "    var value = '';\n",
       "    if (event.ctrlKey && event.which != 17)\n",
       "        value += \"ctrl+\";\n",
       "    if (event.altKey && event.which != 18)\n",
       "        value += \"alt+\";\n",
       "    if (event.shiftKey && event.which != 16)\n",
       "        value += \"shift+\";\n",
       "\n",
       "    value += 'k';\n",
       "    value += event.which.toString();\n",
       "\n",
       "    this._key_event_extra(event, name);\n",
       "\n",
       "    this.send_message(name, {key: value,\n",
       "                             guiEvent: simpleKeys(event)});\n",
       "    return false;\n",
       "}\n",
       "\n",
       "mpl.figure.prototype.toolbar_button_onclick = function(name) {\n",
       "    if (name == 'download') {\n",
       "        this.handle_save(this, null);\n",
       "    } else {\n",
       "        this.send_message(\"toolbar_button\", {name: name});\n",
       "    }\n",
       "};\n",
       "\n",
       "mpl.figure.prototype.toolbar_button_onmouseover = function(tooltip) {\n",
       "    this.message.textContent = tooltip;\n",
       "};\n",
       "mpl.toolbar_items = [[\"Home\", \"Reset original view\", \"fa fa-home icon-home\", \"home\"], [\"Back\", \"Back to  previous view\", \"fa fa-arrow-left icon-arrow-left\", \"back\"], [\"Forward\", \"Forward to next view\", \"fa fa-arrow-right icon-arrow-right\", \"forward\"], [\"\", \"\", \"\", \"\"], [\"Pan\", \"Pan axes with left mouse, zoom with right\", \"fa fa-arrows icon-move\", \"pan\"], [\"Zoom\", \"Zoom to rectangle\", \"fa fa-square-o icon-check-empty\", \"zoom\"], [\"\", \"\", \"\", \"\"], [\"Download\", \"Download plot\", \"fa fa-floppy-o icon-save\", \"download\"]];\n",
       "\n",
       "mpl.extensions = [\"eps\", \"pdf\", \"png\", \"ps\", \"raw\", \"svg\"];\n",
       "\n",
       "mpl.default_extension = \"png\";var comm_websocket_adapter = function(comm) {\n",
       "    // Create a \"websocket\"-like object which calls the given IPython comm\n",
       "    // object with the appropriate methods. Currently this is a non binary\n",
       "    // socket, so there is still some room for performance tuning.\n",
       "    var ws = {};\n",
       "\n",
       "    ws.close = function() {\n",
       "        comm.close()\n",
       "    };\n",
       "    ws.send = function(m) {\n",
       "        //console.log('sending', m);\n",
       "        comm.send(m);\n",
       "    };\n",
       "    // Register the callback with on_msg.\n",
       "    comm.on_msg(function(msg) {\n",
       "        //console.log('receiving', msg['content']['data'], msg);\n",
       "        // Pass the mpl event to the overriden (by mpl) onmessage function.\n",
       "        ws.onmessage(msg['content']['data'])\n",
       "    });\n",
       "    return ws;\n",
       "}\n",
       "\n",
       "mpl.mpl_figure_comm = function(comm, msg) {\n",
       "    // This is the function which gets called when the mpl process\n",
       "    // starts-up an IPython Comm through the \"matplotlib\" channel.\n",
       "\n",
       "    var id = msg.content.data.id;\n",
       "    // Get hold of the div created by the display call when the Comm\n",
       "    // socket was opened in Python.\n",
       "    var element = $(\"#\" + id);\n",
       "    var ws_proxy = comm_websocket_adapter(comm)\n",
       "\n",
       "    function ondownload(figure, format) {\n",
       "        window.open(figure.imageObj.src);\n",
       "    }\n",
       "\n",
       "    var fig = new mpl.figure(id, ws_proxy,\n",
       "                           ondownload,\n",
       "                           element.get(0));\n",
       "\n",
       "    // Call onopen now - mpl needs it, as it is assuming we've passed it a real\n",
       "    // web socket which is closed, not our websocket->open comm proxy.\n",
       "    ws_proxy.onopen();\n",
       "\n",
       "    fig.parent_element = element.get(0);\n",
       "    fig.cell_info = mpl.find_output_cell(\"<div id='\" + id + \"'></div>\");\n",
       "    if (!fig.cell_info) {\n",
       "        console.error(\"Failed to find cell for figure\", id, fig);\n",
       "        return;\n",
       "    }\n",
       "\n",
       "    var output_index = fig.cell_info[2]\n",
       "    var cell = fig.cell_info[0];\n",
       "\n",
       "};\n",
       "\n",
       "mpl.figure.prototype.handle_close = function(fig, msg) {\n",
       "    fig.root.unbind('remove')\n",
       "\n",
       "    // Update the output cell to use the data from the current canvas.\n",
       "    fig.push_to_output();\n",
       "    var dataURL = fig.canvas.toDataURL();\n",
       "    // Re-enable the keyboard manager in IPython - without this line, in FF,\n",
       "    // the notebook keyboard shortcuts fail.\n",
       "    IPython.keyboard_manager.enable()\n",
       "    $(fig.parent_element).html('<img src=\"' + dataURL + '\">');\n",
       "    fig.close_ws(fig, msg);\n",
       "}\n",
       "\n",
       "mpl.figure.prototype.close_ws = function(fig, msg){\n",
       "    fig.send_message('closing', msg);\n",
       "    // fig.ws.close()\n",
       "}\n",
       "\n",
       "mpl.figure.prototype.push_to_output = function(remove_interactive) {\n",
       "    // Turn the data on the canvas into data in the output cell.\n",
       "    var dataURL = this.canvas.toDataURL();\n",
       "    this.cell_info[1]['text/html'] = '<img src=\"' + dataURL + '\">';\n",
       "}\n",
       "\n",
       "mpl.figure.prototype.updated_canvas_event = function() {\n",
       "    // Tell IPython that the notebook contents must change.\n",
       "    IPython.notebook.set_dirty(true);\n",
       "    this.send_message(\"ack\", {});\n",
       "    var fig = this;\n",
       "    // Wait a second, then push the new image to the DOM so\n",
       "    // that it is saved nicely (might be nice to debounce this).\n",
       "    setTimeout(function () { fig.push_to_output() }, 1000);\n",
       "}\n",
       "\n",
       "mpl.figure.prototype._init_toolbar = function() {\n",
       "    var fig = this;\n",
       "\n",
       "    var nav_element = $('<div/>')\n",
       "    nav_element.attr('style', 'width: 100%');\n",
       "    this.root.append(nav_element);\n",
       "\n",
       "    // Define a callback function for later on.\n",
       "    function toolbar_event(event) {\n",
       "        return fig.toolbar_button_onclick(event['data']);\n",
       "    }\n",
       "    function toolbar_mouse_event(event) {\n",
       "        return fig.toolbar_button_onmouseover(event['data']);\n",
       "    }\n",
       "\n",
       "    for(var toolbar_ind in mpl.toolbar_items){\n",
       "        var name = mpl.toolbar_items[toolbar_ind][0];\n",
       "        var tooltip = mpl.toolbar_items[toolbar_ind][1];\n",
       "        var image = mpl.toolbar_items[toolbar_ind][2];\n",
       "        var method_name = mpl.toolbar_items[toolbar_ind][3];\n",
       "\n",
       "        if (!name) { continue; };\n",
       "\n",
       "        var button = $('<button class=\"btn btn-default\" href=\"#\" title=\"' + name + '\"><i class=\"fa ' + image + ' fa-lg\"></i></button>');\n",
       "        button.click(method_name, toolbar_event);\n",
       "        button.mouseover(tooltip, toolbar_mouse_event);\n",
       "        nav_element.append(button);\n",
       "    }\n",
       "\n",
       "    // Add the status bar.\n",
       "    var status_bar = $('<span class=\"mpl-message\" style=\"text-align:right; float: right;\"/>');\n",
       "    nav_element.append(status_bar);\n",
       "    this.message = status_bar[0];\n",
       "\n",
       "    // Add the close button to the window.\n",
       "    var buttongrp = $('<div class=\"btn-group inline pull-right\"></div>');\n",
       "    var button = $('<button class=\"btn btn-mini btn-primary\" href=\"#\" title=\"Stop Interaction\"><i class=\"fa fa-power-off icon-remove icon-large\"></i></button>');\n",
       "    button.click(function (evt) { fig.handle_close(fig, {}); } );\n",
       "    button.mouseover('Stop Interaction', toolbar_mouse_event);\n",
       "    buttongrp.append(button);\n",
       "    var titlebar = this.root.find($('.ui-dialog-titlebar'));\n",
       "    titlebar.prepend(buttongrp);\n",
       "}\n",
       "\n",
       "mpl.figure.prototype._root_extra_style = function(el){\n",
       "    var fig = this\n",
       "    el.on(\"remove\", function(){\n",
       "\tfig.close_ws(fig, {});\n",
       "    });\n",
       "}\n",
       "\n",
       "mpl.figure.prototype._canvas_extra_style = function(el){\n",
       "    // this is important to make the div 'focusable\n",
       "    el.attr('tabindex', 0)\n",
       "    // reach out to IPython and tell the keyboard manager to turn it's self\n",
       "    // off when our div gets focus\n",
       "\n",
       "    // location in version 3\n",
       "    if (IPython.notebook.keyboard_manager) {\n",
       "        IPython.notebook.keyboard_manager.register_events(el);\n",
       "    }\n",
       "    else {\n",
       "        // location in version 2\n",
       "        IPython.keyboard_manager.register_events(el);\n",
       "    }\n",
       "\n",
       "}\n",
       "\n",
       "mpl.figure.prototype._key_event_extra = function(event, name) {\n",
       "    var manager = IPython.notebook.keyboard_manager;\n",
       "    if (!manager)\n",
       "        manager = IPython.keyboard_manager;\n",
       "\n",
       "    // Check for shift+enter\n",
       "    if (event.shiftKey && event.which == 13) {\n",
       "        this.canvas_div.blur();\n",
       "        event.shiftKey = false;\n",
       "        // Send a \"J\" for go to next cell\n",
       "        event.which = 74;\n",
       "        event.keyCode = 74;\n",
       "        manager.command_mode();\n",
       "        manager.handle_keydown(event);\n",
       "    }\n",
       "}\n",
       "\n",
       "mpl.figure.prototype.handle_save = function(fig, msg) {\n",
       "    fig.ondownload(fig, null);\n",
       "}\n",
       "\n",
       "\n",
       "mpl.find_output_cell = function(html_output) {\n",
       "    // Return the cell and output element which can be found *uniquely* in the notebook.\n",
       "    // Note - this is a bit hacky, but it is done because the \"notebook_saving.Notebook\"\n",
       "    // IPython event is triggered only after the cells have been serialised, which for\n",
       "    // our purposes (turning an active figure into a static one), is too late.\n",
       "    var cells = IPython.notebook.get_cells();\n",
       "    var ncells = cells.length;\n",
       "    for (var i=0; i<ncells; i++) {\n",
       "        var cell = cells[i];\n",
       "        if (cell.cell_type === 'code'){\n",
       "            for (var j=0; j<cell.output_area.outputs.length; j++) {\n",
       "                var data = cell.output_area.outputs[j];\n",
       "                if (data.data) {\n",
       "                    // IPython >= 3 moved mimebundle to data attribute of output\n",
       "                    data = data.data;\n",
       "                }\n",
       "                if (data['text/html'] == html_output) {\n",
       "                    return [cell, data, j];\n",
       "                }\n",
       "            }\n",
       "        }\n",
       "    }\n",
       "}\n",
       "\n",
       "// Register the function which deals with the matplotlib target/channel.\n",
       "// The kernel may be null if the page has been refreshed.\n",
       "if (IPython.notebook.kernel != null) {\n",
       "    IPython.notebook.kernel.comm_manager.register_target('matplotlib', mpl.mpl_figure_comm);\n",
       "}\n"
      ],
      "text/plain": [
       "<IPython.core.display.Javascript object>"
      ]
     },
     "metadata": {},
     "output_type": "display_data"
    },
    {
     "data": {
      "text/html": [
       "<img src=\"data:image/png;base64,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\">"
      ],
      "text/plain": [
       "<IPython.core.display.HTML object>"
      ]
     },
     "metadata": {},
     "output_type": "display_data"
    },
    {
     "name": "stderr",
     "output_type": "stream",
     "text": [
      "2016-09-26 14:01:45,121 : INFO : ****************** Epoch 1 --- Working on doc2vec_size_3000_w_8_type_pv-dbow_concat_1_mean_0_trainwords_0_hs_0_neg_10_vocabsize_None_curriter_1 *******************\n",
      "2016-09-26 14:01:45,124 : INFO : training model with 7 workers on 104358 vocabulary and 3000 features, using sg=1 hs=0 sample=1e-05 negative=10\n",
      "2016-09-26 14:01:45,124 : INFO : expecting 8979 sentences, matching count from corpus used for vocabulary survey\n",
      "2016-09-26 14:01:46,152 : INFO : PROGRESS: at 0.14% examples, 21039 words/s, in_qsize 0, out_qsize 1\n",
      "2016-09-26 14:02:46,156 : INFO : PROGRESS: at 10.93% examples, 26996 words/s, in_qsize 0, out_qsize 0\n",
      "2016-09-26 14:03:46,297 : INFO : PROGRESS: at 21.45% examples, 26955 words/s, in_qsize 0, out_qsize 0\n",
      "2016-09-26 14:04:46,382 : INFO : PROGRESS: at 32.84% examples, 27423 words/s, in_qsize 1, out_qsize 0\n",
      "2016-09-26 14:05:46,463 : INFO : PROGRESS: at 44.04% examples, 27424 words/s, in_qsize 0, out_qsize 0\n",
      "2016-09-26 14:06:46,546 : INFO : PROGRESS: at 55.11% examples, 27427 words/s, in_qsize 0, out_qsize 0\n",
      "2016-09-26 14:07:46,557 : INFO : PROGRESS: at 66.34% examples, 27575 words/s, in_qsize 0, out_qsize 0\n",
      "2016-09-26 14:08:46,606 : INFO : PROGRESS: at 77.97% examples, 27649 words/s, in_qsize 0, out_qsize 0\n",
      "2016-09-26 14:09:46,837 : INFO : PROGRESS: at 89.54% examples, 27750 words/s, in_qsize 0, out_qsize 0\n",
      "2016-09-26 14:10:42,509 : INFO : worker thread finished; awaiting finish of 6 more threads\n",
      "2016-09-26 14:10:42,514 : INFO : worker thread finished; awaiting finish of 5 more threads\n",
      "2016-09-26 14:10:42,515 : INFO : worker thread finished; awaiting finish of 4 more threads\n",
      "2016-09-26 14:10:42,537 : INFO : worker thread finished; awaiting finish of 3 more threads\n",
      "2016-09-26 14:10:42,550 : INFO : worker thread finished; awaiting finish of 2 more threads\n",
      "2016-09-26 14:10:42,584 : INFO : worker thread finished; awaiting finish of 1 more threads\n",
      "2016-09-26 14:10:42,738 : INFO : worker thread finished; awaiting finish of 0 more threads\n",
      "2016-09-26 14:10:42,739 : INFO : training on 59217428 raw words (14917506 effective words) took 537.6s, 27748 effective words/s\n",
      "2016-09-26 14:10:42,742 : INFO : saving Doc2Vec object under /home/local/shalaby/parameter_search_doc2vec_models/sample_0.0001/doc2vec_size_3000_w_8_type_pv-dbow_concat_1_mean_0_trainwords_0_hs_0_neg_10_vocabsize_None_curriter_1/model, separately None\n",
      "2016-09-26 14:10:42,744 : INFO : storing numpy array 'doctag_syn0' to /home/local/shalaby/parameter_search_doc2vec_models/sample_0.0001/doc2vec_size_3000_w_8_type_pv-dbow_concat_1_mean_0_trainwords_0_hs_0_neg_10_vocabsize_None_curriter_1/model.docvecs.doctag_syn0.npy\n",
      "2016-09-26 14:10:42,864 : INFO : storing numpy array 'syn1neg' to /home/local/shalaby/parameter_search_doc2vec_models/sample_0.0001/doc2vec_size_3000_w_8_type_pv-dbow_concat_1_mean_0_trainwords_0_hs_0_neg_10_vocabsize_None_curriter_1/model.syn1neg.npy\n",
      "2016-09-26 14:10:43,955 : INFO : not storing attribute syn0norm\n",
      "2016-09-26 14:10:43,956 : INFO : storing numpy array 'syn0' to /home/local/shalaby/parameter_search_doc2vec_models/sample_0.0001/doc2vec_size_3000_w_8_type_pv-dbow_concat_1_mean_0_trainwords_0_hs_0_neg_10_vocabsize_None_curriter_1/model.syn0.npy\n",
      "2016-09-26 14:10:45,058 : INFO : not storing attribute cum_table\n",
      "2016-09-26 14:10:48,123 : INFO : ====== Doing Training\n"
     ]
    },
    {
     "name": "stdout",
     "output_type": "stream",
     "text": [
      "A\n"
     ]
    },
    {
     "name": "stderr",
     "output_type": "stream",
     "text": [
      "2016-09-26 14:10:55,283 : INFO : Finished getting training vectors\n",
      "2016-09-26 14:10:56,102 : INFO : Finished parallelization\n"
     ]
    },
    {
     "name": "stdout",
     "output_type": "stream",
     "text": [
      "B\n"
     ]
    },
    {
     "name": "stderr",
     "output_type": "stream",
     "text": [
      "2016-09-26 14:15:20,594 : INFO : Finished getting training vectors\n",
      "2016-09-26 14:15:21,440 : INFO : Finished parallelization\n"
     ]
    },
    {
     "name": "stdout",
     "output_type": "stream",
     "text": [
      "C\n"
     ]
    },
    {
     "name": "stderr",
     "output_type": "stream",
     "text": [
      "2016-09-26 14:18:47,404 : INFO : Finished getting training vectors\n",
      "2016-09-26 14:18:48,211 : INFO : Finished parallelization\n"
     ]
    },
    {
     "name": "stdout",
     "output_type": "stream",
     "text": [
      "D\n"
     ]
    },
    {
     "name": "stderr",
     "output_type": "stream",
     "text": [
      "2016-09-26 14:23:16,969 : INFO : Finished getting training vectors\n",
      "2016-09-26 14:23:17,762 : INFO : Finished parallelization\n"
     ]
    },
    {
     "name": "stdout",
     "output_type": "stream",
     "text": [
      "E\n"
     ]
    },
    {
     "name": "stderr",
     "output_type": "stream",
     "text": [
      "2016-09-26 14:29:33,770 : INFO : Finished getting training vectors\n",
      "2016-09-26 14:29:34,698 : INFO : Finished parallelization\n"
     ]
    },
    {
     "name": "stdout",
     "output_type": "stream",
     "text": [
      "F\n"
     ]
    },
    {
     "name": "stderr",
     "output_type": "stream",
     "text": [
      "2016-09-26 14:35:32,392 : INFO : Finished getting training vectors\n",
      "2016-09-26 14:35:33,259 : INFO : Finished parallelization\n"
     ]
    },
    {
     "name": "stdout",
     "output_type": "stream",
     "text": [
      "G\n"
     ]
    },
    {
     "name": "stderr",
     "output_type": "stream",
     "text": [
      "2016-09-26 14:39:31,111 : INFO : Finished getting training vectors\n",
      "2016-09-26 14:39:31,883 : INFO : Finished parallelization\n"
     ]
    },
    {
     "name": "stdout",
     "output_type": "stream",
     "text": [
      "H\n"
     ]
    },
    {
     "name": "stderr",
     "output_type": "stream",
     "text": [
      "2016-09-26 14:43:09,903 : INFO : Finished getting training vectors\n",
      "2016-09-26 14:43:10,671 : INFO : Finished parallelization\n",
      "2016-09-26 14:47:14,759 : INFO : ===== Getting validation vectors with inference\n",
      "2016-09-26 14:51:43,930 : INFO : Finished: 1000\n",
      "2016-09-26 14:56:09,766 : INFO : ====== Doing Validation\n"
     ]
    },
    {
     "name": "stdout",
     "output_type": "stream",
     "text": [
      "A\n"
     ]
    },
    {
     "name": "stderr",
     "output_type": "stream",
     "text": [
      "2016-09-26 14:56:10,013 : INFO : Finished getting validation vectors\n",
      "2016-09-26 14:56:10,939 : INFO : Loaded the model, Doing the prediction now....\n"
     ]
    },
    {
     "name": "stdout",
     "output_type": "stream",
     "text": [
      "B\n"
     ]
    },
    {
     "name": "stderr",
     "output_type": "stream",
     "text": [
      "2016-09-26 14:56:11,710 : INFO : Finished getting validation vectors\n",
      "2016-09-26 14:56:12,453 : INFO : Loaded the model, Doing the prediction now....\n"
     ]
    },
    {
     "name": "stdout",
     "output_type": "stream",
     "text": [
      "C\n"
     ]
    },
    {
     "name": "stderr",
     "output_type": "stream",
     "text": [
      "2016-09-26 14:56:13,050 : INFO : Finished getting validation vectors\n",
      "2016-09-26 14:56:13,791 : INFO : Loaded the model, Doing the prediction now....\n"
     ]
    },
    {
     "name": "stdout",
     "output_type": "stream",
     "text": [
      "D\n"
     ]
    },
    {
     "name": "stderr",
     "output_type": "stream",
     "text": [
      "2016-09-26 14:56:14,381 : INFO : Finished getting validation vectors\n",
      "2016-09-26 14:56:15,045 : INFO : Loaded the model, Doing the prediction now....\n"
     ]
    },
    {
     "name": "stdout",
     "output_type": "stream",
     "text": [
      "E\n"
     ]
    },
    {
     "name": "stderr",
     "output_type": "stream",
     "text": [
      "2016-09-26 14:56:15,720 : INFO : Finished getting validation vectors\n",
      "2016-09-26 14:56:16,426 : INFO : Loaded the model, Doing the prediction now....\n"
     ]
    },
    {
     "name": "stdout",
     "output_type": "stream",
     "text": [
      "F\n"
     ]
    },
    {
     "name": "stderr",
     "output_type": "stream",
     "text": [
      "2016-09-26 14:56:17,047 : INFO : Finished getting validation vectors\n",
      "2016-09-26 14:56:17,751 : INFO : Loaded the model, Doing the prediction now....\n"
     ]
    },
    {
     "name": "stdout",
     "output_type": "stream",
     "text": [
      "G\n"
     ]
    },
    {
     "name": "stderr",
     "output_type": "stream",
     "text": [
      "2016-09-26 14:56:18,372 : INFO : Finished getting validation vectors\n",
      "2016-09-26 14:56:19,104 : INFO : Loaded the model, Doing the prediction now....\n"
     ]
    },
    {
     "name": "stdout",
     "output_type": "stream",
     "text": [
      "H\n"
     ]
    },
    {
     "name": "stderr",
     "output_type": "stream",
     "text": [
      "2016-09-26 14:56:19,737 : INFO : Finished getting validation vectors\n",
      "2016-09-26 14:56:20,482 : INFO : Loaded the model, Doing the prediction now....\n"
     ]
    },
    {
     "name": "stdout",
     "output_type": "stream",
     "text": [
      "Coverage Error: 7.08278313865, Average No of Labels: 1.35195530726, Top 1: 0.589782118708, Top 3: 0.838091660406, Top 5: 0.955296769346, F1 Micro: 0.275240384615, Total Positive: 666\n"
     ]
    },
    {
     "name": "stderr",
     "output_type": "stream",
     "text": [
      "2016-09-26 14:56:21,344 : INFO : ****************** Epoch 2 --- Working on doc2vec_size_3000_w_8_type_pv-dbow_concat_1_mean_0_trainwords_0_hs_0_neg_10_vocabsize_None_curriter_2 *******************\n",
      "2016-09-26 14:56:21,347 : INFO : training model with 7 workers on 104358 vocabulary and 3000 features, using sg=1 hs=0 sample=1e-05 negative=10\n",
      "2016-09-26 14:56:21,348 : INFO : expecting 8979 sentences, matching count from corpus used for vocabulary survey\n",
      "2016-09-26 14:56:22,371 : INFO : PROGRESS: at 0.13% examples, 21184 words/s, in_qsize 0, out_qsize 0\n",
      "2016-09-26 14:57:22,495 : INFO : PROGRESS: at 10.93% examples, 26699 words/s, in_qsize 0, out_qsize 0\n",
      "2016-09-26 14:58:22,457 : INFO : PROGRESS: at 21.08% examples, 26479 words/s, in_qsize 0, out_qsize 0\n",
      "2016-09-26 14:59:22,469 : INFO : PROGRESS: at 32.46% examples, 26880 words/s, in_qsize 0, out_qsize 0\n",
      "2016-09-26 15:00:22,470 : INFO : PROGRESS: at 42.86% examples, 27018 words/s, in_qsize 0, out_qsize 0\n",
      "2016-09-26 15:01:22,620 : INFO : PROGRESS: at 54.15% examples, 27090 words/s, in_qsize 0, out_qsize 0\n",
      "2016-09-26 15:02:22,695 : INFO : PROGRESS: at 65.33% examples, 27131 words/s, in_qsize 0, out_qsize 1\n",
      "2016-09-26 15:03:22,777 : INFO : PROGRESS: at 76.81% examples, 27218 words/s, in_qsize 0, out_qsize 0\n",
      "2016-09-26 15:04:22,895 : INFO : PROGRESS: at 88.17% examples, 27386 words/s, in_qsize 0, out_qsize 1\n",
      "2016-09-26 15:05:22,966 : INFO : PROGRESS: at 99.77% examples, 27448 words/s, in_qsize 0, out_qsize 0\n",
      "2016-09-26 15:05:24,376 : INFO : worker thread finished; awaiting finish of 6 more threads\n",
      "2016-09-26 15:05:24,382 : INFO : worker thread finished; awaiting finish of 5 more threads\n",
      "2016-09-26 15:05:24,383 : INFO : worker thread finished; awaiting finish of 4 more threads\n",
      "2016-09-26 15:05:24,384 : INFO : worker thread finished; awaiting finish of 3 more threads\n",
      "2016-09-26 15:05:24,385 : INFO : worker thread finished; awaiting finish of 2 more threads\n",
      "2016-09-26 15:05:24,424 : INFO : worker thread finished; awaiting finish of 1 more threads\n",
      "2016-09-26 15:05:24,493 : INFO : worker thread finished; awaiting finish of 0 more threads\n",
      "2016-09-26 15:05:24,494 : INFO : training on 59217428 raw words (14918168 effective words) took 543.1s, 27467 effective words/s\n",
      "2016-09-26 15:05:24,497 : INFO : saving Doc2Vec object under /home/local/shalaby/parameter_search_doc2vec_models/sample_0.0001/doc2vec_size_3000_w_8_type_pv-dbow_concat_1_mean_0_trainwords_0_hs_0_neg_10_vocabsize_None_curriter_2/model, separately None\n",
      "2016-09-26 15:05:24,499 : INFO : storing numpy array 'doctag_syn0' to /home/local/shalaby/parameter_search_doc2vec_models/sample_0.0001/doc2vec_size_3000_w_8_type_pv-dbow_concat_1_mean_0_trainwords_0_hs_0_neg_10_vocabsize_None_curriter_2/model.docvecs.doctag_syn0.npy\n",
      "2016-09-26 15:05:24,622 : INFO : storing numpy array 'syn1neg' to /home/local/shalaby/parameter_search_doc2vec_models/sample_0.0001/doc2vec_size_3000_w_8_type_pv-dbow_concat_1_mean_0_trainwords_0_hs_0_neg_10_vocabsize_None_curriter_2/model.syn1neg.npy\n",
      "2016-09-26 15:05:25,866 : INFO : not storing attribute syn0norm\n",
      "2016-09-26 15:05:25,867 : INFO : storing numpy array 'syn0' to /home/local/shalaby/parameter_search_doc2vec_models/sample_0.0001/doc2vec_size_3000_w_8_type_pv-dbow_concat_1_mean_0_trainwords_0_hs_0_neg_10_vocabsize_None_curriter_2/model.syn0.npy\n",
      "2016-09-26 15:05:27,555 : INFO : not storing attribute cum_table\n",
      "2016-09-26 15:05:29,174 : INFO : ====== Doing Training\n"
     ]
    },
    {
     "name": "stdout",
     "output_type": "stream",
     "text": [
      "A\n"
     ]
    },
    {
     "name": "stderr",
     "output_type": "stream",
     "text": [
      "2016-09-26 15:05:38,258 : INFO : Finished getting training vectors\n",
      "2016-09-26 15:05:39,412 : INFO : Finished parallelization\n"
     ]
    },
    {
     "name": "stdout",
     "output_type": "stream",
     "text": [
      "B\n"
     ]
    },
    {
     "name": "stderr",
     "output_type": "stream",
     "text": [
      "2016-09-26 15:10:02,556 : INFO : Finished getting training vectors\n",
      "2016-09-26 15:10:03,409 : INFO : Finished parallelization\n"
     ]
    },
    {
     "name": "stdout",
     "output_type": "stream",
     "text": [
      "C\n"
     ]
    },
    {
     "name": "stderr",
     "output_type": "stream",
     "text": [
      "2016-09-26 15:13:34,163 : INFO : Finished getting training vectors\n",
      "2016-09-26 15:13:35,035 : INFO : Finished parallelization\n"
     ]
    },
    {
     "name": "stdout",
     "output_type": "stream",
     "text": [
      "D\n"
     ]
    },
    {
     "name": "stderr",
     "output_type": "stream",
     "text": [
      "2016-09-26 15:17:48,535 : INFO : Finished getting training vectors\n",
      "2016-09-26 15:17:49,498 : INFO : Finished parallelization\n"
     ]
    },
    {
     "name": "stdout",
     "output_type": "stream",
     "text": [
      "E\n"
     ]
    },
    {
     "name": "stderr",
     "output_type": "stream",
     "text": [
      "2016-09-26 15:23:08,710 : INFO : Finished getting training vectors\n",
      "2016-09-26 15:23:09,617 : INFO : Finished parallelization\n"
     ]
    },
    {
     "name": "stdout",
     "output_type": "stream",
     "text": [
      "F\n"
     ]
    },
    {
     "name": "stderr",
     "output_type": "stream",
     "text": [
      "2016-09-26 15:27:36,473 : INFO : Finished getting training vectors\n",
      "2016-09-26 15:27:37,321 : INFO : Finished parallelization\n"
     ]
    },
    {
     "name": "stdout",
     "output_type": "stream",
     "text": [
      "G\n"
     ]
    },
    {
     "name": "stderr",
     "output_type": "stream",
     "text": [
      "2016-09-26 15:31:30,001 : INFO : Finished getting training vectors\n",
      "2016-09-26 15:31:30,821 : INFO : Finished parallelization\n"
     ]
    },
    {
     "name": "stdout",
     "output_type": "stream",
     "text": [
      "H\n"
     ]
    },
    {
     "name": "stderr",
     "output_type": "stream",
     "text": [
      "2016-09-26 15:34:51,040 : INFO : Finished getting training vectors\n",
      "2016-09-26 15:34:51,892 : INFO : Finished parallelization\n",
      "2016-09-26 15:38:48,690 : INFO : ===== Getting validation vectors with inference\n",
      "2016-09-26 15:43:20,772 : INFO : Finished: 1000\n",
      "2016-09-26 15:47:43,085 : INFO : ====== Doing Validation\n"
     ]
    },
    {
     "name": "stdout",
     "output_type": "stream",
     "text": [
      "A\n"
     ]
    },
    {
     "name": "stderr",
     "output_type": "stream",
     "text": [
      "2016-09-26 15:47:43,382 : INFO : Finished getting validation vectors\n",
      "2016-09-26 15:47:44,139 : INFO : Loaded the model, Doing the prediction now....\n"
     ]
    },
    {
     "name": "stdout",
     "output_type": "stream",
     "text": [
      "B\n"
     ]
    },
    {
     "name": "stderr",
     "output_type": "stream",
     "text": [
      "2016-09-26 15:47:45,086 : INFO : Finished getting validation vectors\n",
      "2016-09-26 15:47:45,846 : INFO : Loaded the model, Doing the prediction now....\n"
     ]
    },
    {
     "name": "stdout",
     "output_type": "stream",
     "text": [
      "C\n"
     ]
    },
    {
     "name": "stderr",
     "output_type": "stream",
     "text": [
      "2016-09-26 15:47:46,506 : INFO : Finished getting validation vectors\n",
      "2016-09-26 15:47:47,214 : INFO : Loaded the model, Doing the prediction now....\n"
     ]
    },
    {
     "name": "stdout",
     "output_type": "stream",
     "text": [
      "D\n"
     ]
    },
    {
     "name": "stderr",
     "output_type": "stream",
     "text": [
      "2016-09-26 15:47:47,825 : INFO : Finished getting validation vectors\n",
      "2016-09-26 15:47:48,521 : INFO : Loaded the model, Doing the prediction now....\n"
     ]
    },
    {
     "name": "stdout",
     "output_type": "stream",
     "text": [
      "E\n"
     ]
    },
    {
     "name": "stderr",
     "output_type": "stream",
     "text": [
      "2016-09-26 15:47:49,186 : INFO : Finished getting validation vectors\n",
      "2016-09-26 15:47:49,911 : INFO : Loaded the model, Doing the prediction now....\n"
     ]
    },
    {
     "name": "stdout",
     "output_type": "stream",
     "text": [
      "F\n"
     ]
    },
    {
     "name": "stderr",
     "output_type": "stream",
     "text": [
      "2016-09-26 15:47:50,547 : INFO : Finished getting validation vectors\n",
      "2016-09-26 15:47:51,302 : INFO : Loaded the model, Doing the prediction now....\n"
     ]
    },
    {
     "name": "stdout",
     "output_type": "stream",
     "text": [
      "G\n"
     ]
    },
    {
     "name": "stderr",
     "output_type": "stream",
     "text": [
      "2016-09-26 15:47:51,934 : INFO : Finished getting validation vectors\n",
      "2016-09-26 15:47:52,679 : INFO : Loaded the model, Doing the prediction now....\n"
     ]
    },
    {
     "name": "stdout",
     "output_type": "stream",
     "text": [
      "H\n"
     ]
    },
    {
     "name": "stderr",
     "output_type": "stream",
     "text": [
      "2016-09-26 15:47:53,317 : INFO : Finished getting validation vectors\n",
      "2016-09-26 15:47:53,996 : INFO : Loaded the model, Doing the prediction now....\n",
      "2016-09-26 15:47:54,820 : INFO : ****************** Epoch 3 --- Working on doc2vec_size_3000_w_8_type_pv-dbow_concat_1_mean_0_trainwords_0_hs_0_neg_10_vocabsize_None_curriter_3 *******************\n",
      "2016-09-26 15:47:54,823 : INFO : training model with 7 workers on 104358 vocabulary and 3000 features, using sg=1 hs=0 sample=1e-05 negative=10\n",
      "2016-09-26 15:47:54,824 : INFO : expecting 8979 sentences, matching count from corpus used for vocabulary survey\n"
     ]
    },
    {
     "name": "stdout",
     "output_type": "stream",
     "text": [
      "Coverage Error: 7.11681056374, Average No of Labels: 1.35195530726, Top 1: 0.595792637115, Top 3: 0.854244928625, Top 5: 0.951915852742, F1 Micro: 0.267802799757, Total Positive: 624\n"
     ]
    },
    {
     "name": "stderr",
     "output_type": "stream",
     "text": [
      "2016-09-26 15:47:55,891 : INFO : PROGRESS: at 0.14% examples, 20088 words/s, in_qsize 0, out_qsize 0\n",
      "2016-09-26 15:48:56,011 : INFO : PROGRESS: at 11.42% examples, 27389 words/s, in_qsize 0, out_qsize 0\n",
      "2016-09-26 15:49:56,050 : INFO : PROGRESS: at 22.61% examples, 28036 words/s, in_qsize 0, out_qsize 0\n",
      "2016-09-26 15:50:56,141 : INFO : PROGRESS: at 34.31% examples, 28021 words/s, in_qsize 0, out_qsize 0\n",
      "2016-09-26 15:51:56,257 : INFO : PROGRESS: at 45.19% examples, 27859 words/s, in_qsize 0, out_qsize 0\n",
      "2016-09-26 15:52:56,437 : INFO : PROGRESS: at 55.71% examples, 27641 words/s, in_qsize 0, out_qsize 0\n",
      "2016-09-26 15:53:56,471 : INFO : PROGRESS: at 66.86% examples, 27709 words/s, in_qsize 0, out_qsize 0\n",
      "2016-09-26 15:54:56,467 : INFO : PROGRESS: at 78.44% examples, 27785 words/s, in_qsize 0, out_qsize 0\n",
      "2016-09-26 15:55:56,527 : INFO : PROGRESS: at 89.88% examples, 27861 words/s, in_qsize 0, out_qsize 0\n",
      "2016-09-26 15:56:48,934 : INFO : worker thread finished; awaiting finish of 6 more threads\n",
      "2016-09-26 15:56:48,940 : INFO : worker thread finished; awaiting finish of 5 more threads\n",
      "2016-09-26 15:56:48,944 : INFO : worker thread finished; awaiting finish of 4 more threads\n",
      "2016-09-26 15:56:48,945 : INFO : worker thread finished; awaiting finish of 3 more threads\n",
      "2016-09-26 15:56:48,946 : INFO : worker thread finished; awaiting finish of 2 more threads\n",
      "2016-09-26 15:56:48,998 : INFO : worker thread finished; awaiting finish of 1 more threads\n",
      "2016-09-26 15:56:49,068 : INFO : worker thread finished; awaiting finish of 0 more threads\n",
      "2016-09-26 15:56:49,070 : INFO : training on 59217428 raw words (14916376 effective words) took 534.2s, 27921 effective words/s\n",
      "2016-09-26 15:56:49,072 : INFO : saving Doc2Vec object under /home/local/shalaby/parameter_search_doc2vec_models/sample_0.0001/doc2vec_size_3000_w_8_type_pv-dbow_concat_1_mean_0_trainwords_0_hs_0_neg_10_vocabsize_None_curriter_3/model, separately None\n",
      "2016-09-26 15:56:49,074 : INFO : storing numpy array 'doctag_syn0' to /home/local/shalaby/parameter_search_doc2vec_models/sample_0.0001/doc2vec_size_3000_w_8_type_pv-dbow_concat_1_mean_0_trainwords_0_hs_0_neg_10_vocabsize_None_curriter_3/model.docvecs.doctag_syn0.npy\n",
      "2016-09-26 15:56:49,223 : INFO : storing numpy array 'syn1neg' to /home/local/shalaby/parameter_search_doc2vec_models/sample_0.0001/doc2vec_size_3000_w_8_type_pv-dbow_concat_1_mean_0_trainwords_0_hs_0_neg_10_vocabsize_None_curriter_3/model.syn1neg.npy\n",
      "2016-09-26 15:56:50,467 : INFO : not storing attribute syn0norm\n",
      "2016-09-26 15:56:50,469 : INFO : storing numpy array 'syn0' to /home/local/shalaby/parameter_search_doc2vec_models/sample_0.0001/doc2vec_size_3000_w_8_type_pv-dbow_concat_1_mean_0_trainwords_0_hs_0_neg_10_vocabsize_None_curriter_3/model.syn0.npy\n",
      "2016-09-26 15:56:51,726 : INFO : not storing attribute cum_table\n",
      "2016-09-26 15:56:53,370 : INFO : ====== Doing Training\n"
     ]
    },
    {
     "name": "stdout",
     "output_type": "stream",
     "text": [
      "A\n"
     ]
    },
    {
     "name": "stderr",
     "output_type": "stream",
     "text": [
      "2016-09-26 15:57:00,211 : INFO : Finished getting training vectors\n",
      "2016-09-26 15:57:02,208 : INFO : Finished parallelization\n"
     ]
    },
    {
     "name": "stdout",
     "output_type": "stream",
     "text": [
      "B\n"
     ]
    },
    {
     "name": "stderr",
     "output_type": "stream",
     "text": [
      "2016-09-26 16:17:06,613 : INFO : Finished getting training vectors\n",
      "2016-09-26 16:17:07,534 : INFO : Finished parallelization\n"
     ]
    },
    {
     "name": "stdout",
     "output_type": "stream",
     "text": [
      "C\n"
     ]
    },
    {
     "name": "stderr",
     "output_type": "stream",
     "text": [
      "2016-09-26 16:21:51,084 : INFO : Finished getting training vectors\n",
      "2016-09-26 16:21:52,047 : INFO : Finished parallelization\n"
     ]
    },
    {
     "name": "stdout",
     "output_type": "stream",
     "text": [
      "D\n"
     ]
    },
    {
     "name": "stderr",
     "output_type": "stream",
     "text": [
      "2016-09-26 16:26:10,379 : INFO : Finished getting training vectors\n",
      "2016-09-26 16:26:11,315 : INFO : Finished parallelization\n"
     ]
    },
    {
     "name": "stdout",
     "output_type": "stream",
     "text": [
      "E\n"
     ]
    },
    {
     "name": "stderr",
     "output_type": "stream",
     "text": [
      "2016-09-26 16:53:33,300 : INFO : Finished getting training vectors\n",
      "2016-09-26 16:53:36,934 : INFO : Finished parallelization\n"
     ]
    },
    {
     "name": "stdout",
     "output_type": "stream",
     "text": [
      "F\n"
     ]
    },
    {
     "name": "stderr",
     "output_type": "stream",
     "text": [
      "2016-09-26 17:12:15,277 : INFO : Finished getting training vectors\n",
      "2016-09-26 17:12:16,263 : INFO : Finished parallelization\n"
     ]
    },
    {
     "name": "stdout",
     "output_type": "stream",
     "text": [
      "G\n"
     ]
    },
    {
     "name": "stderr",
     "output_type": "stream",
     "text": [
      "2016-09-26 17:32:08,309 : INFO : Finished getting training vectors\n",
      "2016-09-26 17:32:09,285 : INFO : Finished parallelization\n"
     ]
    },
    {
     "name": "stdout",
     "output_type": "stream",
     "text": [
      "H\n"
     ]
    },
    {
     "name": "stderr",
     "output_type": "stream",
     "text": [
      "2016-09-26 17:37:55,296 : INFO : Finished getting training vectors\n",
      "2016-09-26 17:37:56,214 : INFO : Finished parallelization\n",
      "2016-09-26 18:16:31,953 : INFO : ===== Getting validation vectors with inference\n",
      "2016-09-26 18:20:56,418 : INFO : Finished: 1000\n",
      "2016-09-26 18:25:18,276 : INFO : ====== Doing Validation\n"
     ]
    },
    {
     "name": "stdout",
     "output_type": "stream",
     "text": [
      "A\n"
     ]
    },
    {
     "name": "stderr",
     "output_type": "stream",
     "text": [
      "2016-09-26 18:25:18,548 : INFO : Finished getting validation vectors\n",
      "2016-09-26 18:25:19,349 : INFO : Loaded the model, Doing the prediction now....\n"
     ]
    },
    {
     "name": "stdout",
     "output_type": "stream",
     "text": [
      "B\n"
     ]
    },
    {
     "name": "stderr",
     "output_type": "stream",
     "text": [
      "2016-09-26 18:25:21,929 : INFO : Finished getting validation vectors\n",
      "2016-09-26 18:25:22,719 : INFO : Loaded the model, Doing the prediction now....\n"
     ]
    },
    {
     "name": "stdout",
     "output_type": "stream",
     "text": [
      "C\n"
     ]
    },
    {
     "name": "stderr",
     "output_type": "stream",
     "text": [
      "2016-09-26 18:25:23,465 : INFO : Finished getting validation vectors\n",
      "2016-09-26 18:25:24,225 : INFO : Loaded the model, Doing the prediction now....\n"
     ]
    },
    {
     "name": "stdout",
     "output_type": "stream",
     "text": [
      "D\n"
     ]
    },
    {
     "name": "stderr",
     "output_type": "stream",
     "text": [
      "2016-09-26 18:25:25,237 : INFO : Finished getting validation vectors\n",
      "2016-09-26 18:25:25,989 : INFO : Loaded the model, Doing the prediction now....\n"
     ]
    },
    {
     "name": "stdout",
     "output_type": "stream",
     "text": [
      "E\n"
     ]
    },
    {
     "name": "stderr",
     "output_type": "stream",
     "text": [
      "2016-09-26 18:25:26,648 : INFO : Finished getting validation vectors\n",
      "2016-09-26 18:25:27,410 : INFO : Loaded the model, Doing the prediction now....\n"
     ]
    },
    {
     "name": "stdout",
     "output_type": "stream",
     "text": [
      "F\n"
     ]
    },
    {
     "name": "stderr",
     "output_type": "stream",
     "text": [
      "2016-09-26 18:25:28,130 : INFO : Finished getting validation vectors\n",
      "2016-09-26 18:25:28,891 : INFO : Loaded the model, Doing the prediction now....\n"
     ]
    },
    {
     "name": "stdout",
     "output_type": "stream",
     "text": [
      "G\n"
     ]
    },
    {
     "name": "stderr",
     "output_type": "stream",
     "text": [
      "2016-09-26 18:25:29,571 : INFO : Finished getting validation vectors\n",
      "2016-09-26 18:25:30,364 : INFO : Loaded the model, Doing the prediction now....\n"
     ]
    },
    {
     "name": "stdout",
     "output_type": "stream",
     "text": [
      "H\n"
     ]
    },
    {
     "name": "stderr",
     "output_type": "stream",
     "text": [
      "2016-09-26 18:25:31,002 : INFO : Finished getting validation vectors\n",
      "2016-09-26 18:25:31,755 : INFO : Loaded the model, Doing the prediction now....\n"
     ]
    },
    {
     "name": "stdout",
     "output_type": "stream",
     "text": [
      "Coverage Error: 6.92432706958, Average No of Labels: 1.35195530726, Top 1: 0.618707738542, Top 3: 0.856123215627, Top 5: 0.947407963937, F1 Micro: 0.301126259632, Total Positive: 712\n"
     ]
    },
    {
     "name": "stderr",
     "output_type": "stream",
     "text": [
      "2016-09-26 18:25:32,634 : INFO : ****************** Epoch 4 --- Working on doc2vec_size_3000_w_8_type_pv-dbow_concat_1_mean_0_trainwords_0_hs_0_neg_10_vocabsize_None_curriter_4 *******************\n",
      "2016-09-26 18:25:32,637 : INFO : training model with 7 workers on 104358 vocabulary and 3000 features, using sg=1 hs=0 sample=1e-05 negative=10\n",
      "2016-09-26 18:25:32,637 : INFO : expecting 8979 sentences, matching count from corpus used for vocabulary survey\n",
      "2016-09-26 18:25:33,736 : INFO : PROGRESS: at 0.13% examples, 21261 words/s, in_qsize 0, out_qsize 0\n",
      "2016-09-26 18:26:33,750 : INFO : PROGRESS: at 10.76% examples, 26368 words/s, in_qsize 0, out_qsize 0\n",
      "2016-09-26 18:27:33,794 : INFO : PROGRESS: at 22.55% examples, 27224 words/s, in_qsize 0, out_qsize 1\n",
      "2016-09-26 18:28:33,860 : INFO : PROGRESS: at 33.62% examples, 27619 words/s, in_qsize 0, out_qsize 0\n",
      "2016-09-26 18:29:33,902 : INFO : PROGRESS: at 44.95% examples, 27616 words/s, in_qsize 0, out_qsize 0\n",
      "2016-09-26 18:30:33,906 : INFO : PROGRESS: at 55.95% examples, 27670 words/s, in_qsize 0, out_qsize 1\n",
      "2016-09-26 18:31:33,927 : INFO : PROGRESS: at 67.21% examples, 27825 words/s, in_qsize 0, out_qsize 0\n",
      "2016-09-26 18:32:33,963 : INFO : PROGRESS: at 79.14% examples, 27884 words/s, in_qsize 0, out_qsize 0\n",
      "2016-09-26 18:33:33,990 : INFO : PROGRESS: at 90.75% examples, 27940 words/s, in_qsize 0, out_qsize 0\n",
      "2016-09-26 18:34:25,050 : INFO : worker thread finished; awaiting finish of 6 more threads\n",
      "2016-09-26 18:34:25,056 : INFO : worker thread finished; awaiting finish of 5 more threads\n",
      "2016-09-26 18:34:25,058 : INFO : worker thread finished; awaiting finish of 4 more threads\n",
      "2016-09-26 18:34:25,059 : INFO : worker thread finished; awaiting finish of 3 more threads\n",
      "2016-09-26 18:34:25,060 : INFO : worker thread finished; awaiting finish of 2 more threads\n",
      "2016-09-26 18:34:25,070 : INFO : worker thread finished; awaiting finish of 1 more threads\n",
      "2016-09-26 18:34:25,313 : INFO : worker thread finished; awaiting finish of 0 more threads\n",
      "2016-09-26 18:34:25,315 : INFO : training on 59217428 raw words (14917372 effective words) took 532.7s, 28005 effective words/s\n",
      "2016-09-26 18:34:25,317 : INFO : saving Doc2Vec object under /home/local/shalaby/parameter_search_doc2vec_models/sample_0.0001/doc2vec_size_3000_w_8_type_pv-dbow_concat_1_mean_0_trainwords_0_hs_0_neg_10_vocabsize_None_curriter_4/model, separately None\n",
      "2016-09-26 18:34:25,318 : INFO : storing numpy array 'doctag_syn0' to /home/local/shalaby/parameter_search_doc2vec_models/sample_0.0001/doc2vec_size_3000_w_8_type_pv-dbow_concat_1_mean_0_trainwords_0_hs_0_neg_10_vocabsize_None_curriter_4/model.docvecs.doctag_syn0.npy\n",
      "2016-09-26 18:34:25,419 : INFO : storing numpy array 'syn1neg' to /home/local/shalaby/parameter_search_doc2vec_models/sample_0.0001/doc2vec_size_3000_w_8_type_pv-dbow_concat_1_mean_0_trainwords_0_hs_0_neg_10_vocabsize_None_curriter_4/model.syn1neg.npy\n",
      "2016-09-26 18:34:26,839 : INFO : not storing attribute syn0norm\n",
      "2016-09-26 18:34:26,841 : INFO : storing numpy array 'syn0' to /home/local/shalaby/parameter_search_doc2vec_models/sample_0.0001/doc2vec_size_3000_w_8_type_pv-dbow_concat_1_mean_0_trainwords_0_hs_0_neg_10_vocabsize_None_curriter_4/model.syn0.npy\n",
      "2016-09-26 18:34:28,265 : INFO : not storing attribute cum_table\n",
      "2016-09-26 18:34:29,700 : INFO : ====== Doing Training\n"
     ]
    },
    {
     "name": "stdout",
     "output_type": "stream",
     "text": [
      "A\n"
     ]
    },
    {
     "name": "stderr",
     "output_type": "stream",
     "text": [
      "2016-09-26 18:34:36,477 : INFO : Finished getting training vectors\n",
      "2016-09-26 18:34:37,806 : INFO : Finished parallelization\n"
     ]
    },
    {
     "name": "stdout",
     "output_type": "stream",
     "text": [
      "B\n"
     ]
    },
    {
     "name": "stderr",
     "output_type": "stream",
     "text": [
      "2016-09-26 19:19:02,107 : INFO : Finished getting training vectors\n",
      "2016-09-26 19:19:03,214 : INFO : Finished parallelization\n"
     ]
    },
    {
     "name": "stdout",
     "output_type": "stream",
     "text": [
      "C\n"
     ]
    },
    {
     "name": "stderr",
     "output_type": "stream",
     "text": [
      "2016-09-26 20:18:25,836 : INFO : Finished getting training vectors\n",
      "2016-09-26 20:18:27,775 : INFO : Finished parallelization\n"
     ]
    },
    {
     "name": "stdout",
     "output_type": "stream",
     "text": [
      "D\n"
     ]
    },
    {
     "name": "stderr",
     "output_type": "stream",
     "text": [
      "2016-09-26 21:28:07,069 : INFO : Finished getting training vectors\n",
      "2016-09-26 21:28:09,653 : INFO : Finished parallelization\n"
     ]
    },
    {
     "name": "stdout",
     "output_type": "stream",
     "text": [
      "E\n"
     ]
    },
    {
     "name": "stderr",
     "output_type": "stream",
     "text": [
      "2016-09-26 21:41:50,322 : INFO : Finished getting training vectors\n",
      "2016-09-26 21:41:51,338 : INFO : Finished parallelization\n"
     ]
    },
    {
     "name": "stdout",
     "output_type": "stream",
     "text": [
      "F\n"
     ]
    },
    {
     "name": "stderr",
     "output_type": "stream",
     "text": [
      "2016-09-26 21:54:35,278 : INFO : Finished getting training vectors\n",
      "2016-09-26 21:54:36,200 : INFO : Finished parallelization\n"
     ]
    },
    {
     "name": "stdout",
     "output_type": "stream",
     "text": [
      "G\n"
     ]
    },
    {
     "name": "stderr",
     "output_type": "stream",
     "text": [
      "2016-09-26 22:54:05,040 : INFO : Finished getting training vectors\n",
      "2016-09-26 22:54:07,133 : INFO : Finished parallelization\n"
     ]
    },
    {
     "name": "stdout",
     "output_type": "stream",
     "text": [
      "H\n"
     ]
    },
    {
     "name": "stderr",
     "output_type": "stream",
     "text": [
      "2016-09-26 23:59:07,906 : INFO : Finished getting training vectors\n",
      "2016-09-26 23:59:13,342 : INFO : Finished parallelization\n",
      "2016-09-27 01:22:45,681 : INFO : ===== Getting validation vectors with inference\n",
      "2016-09-27 01:27:08,856 : INFO : Finished: 1000\n",
      "2016-09-27 01:31:29,044 : INFO : ====== Doing Validation\n"
     ]
    },
    {
     "name": "stdout",
     "output_type": "stream",
     "text": [
      "A\n"
     ]
    },
    {
     "name": "stderr",
     "output_type": "stream",
     "text": [
      "2016-09-27 01:31:29,329 : INFO : Finished getting validation vectors\n",
      "2016-09-27 01:31:30,112 : INFO : Loaded the model, Doing the prediction now....\n"
     ]
    },
    {
     "name": "stdout",
     "output_type": "stream",
     "text": [
      "B\n"
     ]
    },
    {
     "name": "stderr",
     "output_type": "stream",
     "text": [
      "2016-09-27 01:31:31,052 : INFO : Finished getting validation vectors\n",
      "2016-09-27 01:31:31,777 : INFO : Loaded the model, Doing the prediction now....\n"
     ]
    },
    {
     "name": "stdout",
     "output_type": "stream",
     "text": [
      "C\n"
     ]
    },
    {
     "name": "stderr",
     "output_type": "stream",
     "text": [
      "2016-09-27 01:31:32,972 : INFO : Finished getting validation vectors\n",
      "2016-09-27 01:31:33,738 : INFO : Loaded the model, Doing the prediction now....\n"
     ]
    },
    {
     "name": "stdout",
     "output_type": "stream",
     "text": [
      "D\n"
     ]
    },
    {
     "name": "stderr",
     "output_type": "stream",
     "text": [
      "2016-09-27 01:31:34,384 : INFO : Finished getting validation vectors\n",
      "2016-09-27 01:31:35,135 : INFO : Loaded the model, Doing the prediction now....\n"
     ]
    },
    {
     "name": "stdout",
     "output_type": "stream",
     "text": [
      "E\n"
     ]
    },
    {
     "name": "stderr",
     "output_type": "stream",
     "text": [
      "2016-09-27 01:31:35,747 : INFO : Finished getting validation vectors\n",
      "2016-09-27 01:31:36,481 : INFO : Loaded the model, Doing the prediction now....\n"
     ]
    },
    {
     "name": "stdout",
     "output_type": "stream",
     "text": [
      "F\n"
     ]
    },
    {
     "name": "stderr",
     "output_type": "stream",
     "text": [
      "2016-09-27 01:31:37,161 : INFO : Finished getting validation vectors\n",
      "2016-09-27 01:31:37,963 : INFO : Loaded the model, Doing the prediction now....\n"
     ]
    },
    {
     "name": "stdout",
     "output_type": "stream",
     "text": [
      "G\n"
     ]
    },
    {
     "name": "stderr",
     "output_type": "stream",
     "text": [
      "2016-09-27 01:31:38,672 : INFO : Finished getting validation vectors\n",
      "2016-09-27 01:31:39,419 : INFO : Loaded the model, Doing the prediction now....\n"
     ]
    },
    {
     "name": "stdout",
     "output_type": "stream",
     "text": [
      "H\n"
     ]
    },
    {
     "name": "stderr",
     "output_type": "stream",
     "text": [
      "2016-09-27 01:31:40,092 : INFO : Finished getting validation vectors\n",
      "2016-09-27 01:31:40,847 : INFO : Loaded the model, Doing the prediction now....\n",
      "2016-09-27 01:31:41,618 : INFO : ****************** Epoch 5 --- Working on doc2vec_size_3000_w_8_type_pv-dbow_concat_1_mean_0_trainwords_0_hs_0_neg_10_vocabsize_None_curriter_5 *******************\n",
      "2016-09-27 01:31:41,621 : INFO : training model with 7 workers on 104358 vocabulary and 3000 features, using sg=1 hs=0 sample=1e-05 negative=10\n",
      "2016-09-27 01:31:41,621 : INFO : expecting 8979 sentences, matching count from corpus used for vocabulary survey\n"
     ]
    },
    {
     "name": "stdout",
     "output_type": "stream",
     "text": [
      "Coverage Error: 6.85119349924, Average No of Labels: 1.35195530726, Top 1: 0.619459053343, Top 3: 0.850864012021, Top 5: 0.94966190834, F1 Micro: 0.314586994728, Total Positive: 752\n"
     ]
    },
    {
     "name": "stderr",
     "output_type": "stream",
     "text": [
      "2016-09-27 01:31:42,694 : INFO : PROGRESS: at 0.17% examples, 12395 words/s, in_qsize 0, out_qsize 0\n",
      "2016-09-27 01:32:42,698 : INFO : PROGRESS: at 11.60% examples, 27146 words/s, in_qsize 0, out_qsize 0\n",
      "2016-09-27 01:33:42,787 : INFO : PROGRESS: at 22.49% examples, 27401 words/s, in_qsize 0, out_qsize 0\n",
      "2016-09-27 01:34:42,850 : INFO : PROGRESS: at 33.81% examples, 27541 words/s, in_qsize 0, out_qsize 0\n",
      "2016-09-27 01:35:42,945 : INFO : PROGRESS: at 45.41% examples, 27739 words/s, in_qsize 0, out_qsize 0\n",
      "2016-09-27 01:36:42,981 : INFO : PROGRESS: at 56.73% examples, 27866 words/s, in_qsize 0, out_qsize 0\n",
      "2016-09-27 01:37:43,027 : INFO : PROGRESS: at 67.69% examples, 27928 words/s, in_qsize 0, out_qsize 0\n",
      "2016-09-27 01:38:43,083 : INFO : PROGRESS: at 78.78% examples, 27909 words/s, in_qsize 0, out_qsize 1\n",
      "2016-09-27 01:39:43,140 : INFO : PROGRESS: at 90.17% examples, 27941 words/s, in_qsize 0, out_qsize 1\n",
      "2016-09-27 01:40:36,641 : INFO : worker thread finished; awaiting finish of 6 more threads\n",
      "2016-09-27 01:40:36,648 : INFO : worker thread finished; awaiting finish of 5 more threads\n",
      "2016-09-27 01:40:36,649 : INFO : worker thread finished; awaiting finish of 4 more threads\n",
      "2016-09-27 01:40:36,650 : INFO : worker thread finished; awaiting finish of 3 more threads\n",
      "2016-09-27 01:40:36,658 : INFO : worker thread finished; awaiting finish of 2 more threads\n",
      "2016-09-27 01:40:36,697 : INFO : worker thread finished; awaiting finish of 1 more threads\n",
      "2016-09-27 01:40:36,716 : INFO : worker thread finished; awaiting finish of 0 more threads\n",
      "2016-09-27 01:40:36,717 : INFO : training on 59217428 raw words (14916184 effective words) took 535.1s, 27876 effective words/s\n",
      "2016-09-27 01:40:36,718 : INFO : saving Doc2Vec object under /home/local/shalaby/parameter_search_doc2vec_models/sample_0.0001/doc2vec_size_3000_w_8_type_pv-dbow_concat_1_mean_0_trainwords_0_hs_0_neg_10_vocabsize_None_curriter_5/model, separately None\n",
      "2016-09-27 01:40:36,719 : INFO : storing numpy array 'doctag_syn0' to /home/local/shalaby/parameter_search_doc2vec_models/sample_0.0001/doc2vec_size_3000_w_8_type_pv-dbow_concat_1_mean_0_trainwords_0_hs_0_neg_10_vocabsize_None_curriter_5/model.docvecs.doctag_syn0.npy\n",
      "2016-09-27 01:40:36,823 : INFO : storing numpy array 'syn1neg' to /home/local/shalaby/parameter_search_doc2vec_models/sample_0.0001/doc2vec_size_3000_w_8_type_pv-dbow_concat_1_mean_0_trainwords_0_hs_0_neg_10_vocabsize_None_curriter_5/model.syn1neg.npy\n",
      "2016-09-27 01:40:38,230 : INFO : not storing attribute syn0norm\n",
      "2016-09-27 01:40:38,231 : INFO : storing numpy array 'syn0' to /home/local/shalaby/parameter_search_doc2vec_models/sample_0.0001/doc2vec_size_3000_w_8_type_pv-dbow_concat_1_mean_0_trainwords_0_hs_0_neg_10_vocabsize_None_curriter_5/model.syn0.npy\n",
      "2016-09-27 01:40:39,666 : INFO : not storing attribute cum_table\n",
      "2016-09-27 01:40:42,825 : INFO : ====== Doing Training\n"
     ]
    },
    {
     "name": "stdout",
     "output_type": "stream",
     "text": [
      "A\n"
     ]
    },
    {
     "name": "stderr",
     "output_type": "stream",
     "text": [
      "2016-09-27 01:40:49,712 : INFO : Finished getting training vectors\n",
      "2016-09-27 01:40:52,924 : INFO : Finished parallelization\n"
     ]
    },
    {
     "name": "stdout",
     "output_type": "stream",
     "text": [
      "B\n"
     ]
    },
    {
     "name": "stderr",
     "output_type": "stream",
     "text": [
      "2016-09-27 02:44:46,085 : INFO : Finished getting training vectors\n",
      "2016-09-27 02:44:50,522 : INFO : Finished parallelization\n"
     ]
    },
    {
     "name": "stdout",
     "output_type": "stream",
     "text": [
      "C\n"
     ]
    },
    {
     "name": "stderr",
     "output_type": "stream",
     "text": [
      "2016-09-27 03:53:54,985 : INFO : Finished getting training vectors\n",
      "2016-09-27 03:53:59,116 : INFO : Finished parallelization\n"
     ]
    },
    {
     "name": "stdout",
     "output_type": "stream",
     "text": [
      "D\n"
     ]
    },
    {
     "name": "stderr",
     "output_type": "stream",
     "text": [
      "2016-09-27 05:14:43,885 : INFO : Finished getting training vectors\n",
      "2016-09-27 05:14:44,886 : INFO : Finished parallelization\n"
     ]
    },
    {
     "name": "stdout",
     "output_type": "stream",
     "text": [
      "E\n"
     ]
    },
    {
     "name": "stderr",
     "output_type": "stream",
     "text": [
      "2016-09-27 05:28:38,777 : INFO : Finished getting training vectors\n",
      "2016-09-27 05:28:39,788 : INFO : Finished parallelization\n"
     ]
    },
    {
     "name": "stdout",
     "output_type": "stream",
     "text": [
      "F\n"
     ]
    },
    {
     "name": "stderr",
     "output_type": "stream",
     "text": [
      "2016-09-27 05:34:30,838 : INFO : Finished getting training vectors\n",
      "2016-09-27 05:34:31,765 : INFO : Finished parallelization\n"
     ]
    },
    {
     "name": "stdout",
     "output_type": "stream",
     "text": [
      "G\n"
     ]
    },
    {
     "name": "stderr",
     "output_type": "stream",
     "text": [
      "2016-09-27 05:40:02,443 : INFO : Finished getting training vectors\n",
      "2016-09-27 05:40:03,357 : INFO : Finished parallelization\n"
     ]
    },
    {
     "name": "stdout",
     "output_type": "stream",
     "text": [
      "H\n"
     ]
    },
    {
     "name": "stderr",
     "output_type": "stream",
     "text": [
      "2016-09-27 05:45:57,832 : INFO : Finished getting training vectors\n",
      "2016-09-27 05:45:58,820 : INFO : Finished parallelization\n",
      "2016-09-27 06:45:40,587 : INFO : ===== Getting validation vectors with inference\n",
      "2016-09-27 06:50:02,162 : INFO : Finished: 1000\n",
      "2016-09-27 06:54:18,763 : INFO : ====== Doing Validation\n"
     ]
    },
    {
     "name": "stdout",
     "output_type": "stream",
     "text": [
      "A\n"
     ]
    },
    {
     "name": "stderr",
     "output_type": "stream",
     "text": [
      "2016-09-27 06:54:19,022 : INFO : Finished getting validation vectors\n",
      "2016-09-27 06:54:19,807 : INFO : Loaded the model, Doing the prediction now....\n"
     ]
    },
    {
     "name": "stdout",
     "output_type": "stream",
     "text": [
      "B\n"
     ]
    },
    {
     "name": "stderr",
     "output_type": "stream",
     "text": [
      "2016-09-27 06:54:20,532 : INFO : Finished getting validation vectors\n",
      "2016-09-27 06:54:21,344 : INFO : Loaded the model, Doing the prediction now....\n"
     ]
    },
    {
     "name": "stdout",
     "output_type": "stream",
     "text": [
      "C\n"
     ]
    },
    {
     "name": "stderr",
     "output_type": "stream",
     "text": [
      "2016-09-27 06:54:21,960 : INFO : Finished getting validation vectors\n",
      "2016-09-27 06:54:22,668 : INFO : Loaded the model, Doing the prediction now....\n"
     ]
    },
    {
     "name": "stdout",
     "output_type": "stream",
     "text": [
      "D\n"
     ]
    },
    {
     "name": "stderr",
     "output_type": "stream",
     "text": [
      "2016-09-27 06:54:23,339 : INFO : Finished getting validation vectors\n",
      "2016-09-27 06:54:24,137 : INFO : Loaded the model, Doing the prediction now....\n"
     ]
    },
    {
     "name": "stdout",
     "output_type": "stream",
     "text": [
      "E\n"
     ]
    },
    {
     "name": "stderr",
     "output_type": "stream",
     "text": [
      "2016-09-27 06:54:24,819 : INFO : Finished getting validation vectors\n",
      "2016-09-27 06:54:25,611 : INFO : Loaded the model, Doing the prediction now....\n"
     ]
    },
    {
     "name": "stdout",
     "output_type": "stream",
     "text": [
      "F\n"
     ]
    },
    {
     "name": "stderr",
     "output_type": "stream",
     "text": [
      "2016-09-27 06:54:26,252 : INFO : Finished getting validation vectors\n",
      "2016-09-27 06:54:26,999 : INFO : Loaded the model, Doing the prediction now....\n"
     ]
    },
    {
     "name": "stdout",
     "output_type": "stream",
     "text": [
      "G\n"
     ]
    },
    {
     "name": "stderr",
     "output_type": "stream",
     "text": [
      "2016-09-27 06:54:27,676 : INFO : Finished getting validation vectors\n",
      "2016-09-27 06:54:28,418 : INFO : Loaded the model, Doing the prediction now....\n"
     ]
    },
    {
     "name": "stdout",
     "output_type": "stream",
     "text": [
      "H\n"
     ]
    },
    {
     "name": "stderr",
     "output_type": "stream",
     "text": [
      "2016-09-27 06:54:29,076 : INFO : Finished getting validation vectors\n",
      "2016-09-27 06:54:29,858 : INFO : Loaded the model, Doing the prediction now....\n"
     ]
    },
    {
     "name": "stdout",
     "output_type": "stream",
     "text": [
      "Coverage Error: 6.83544946673, Average No of Labels: 1.35195530726, Top 1: 0.62471825695, Top 3: 0.854620586026, Top 5: 0.951540195342, F1 Micro: 0.317664233577, Total Positive: 763\n"
     ]
    },
    {
     "name": "stderr",
     "output_type": "stream",
     "text": [
      "2016-09-27 06:54:30,698 : INFO : ****************** Epoch 6 --- Working on doc2vec_size_3000_w_8_type_pv-dbow_concat_1_mean_0_trainwords_0_hs_0_neg_10_vocabsize_None_curriter_6 *******************\n",
      "2016-09-27 06:54:30,700 : INFO : training model with 7 workers on 104358 vocabulary and 3000 features, using sg=1 hs=0 sample=1e-05 negative=10\n",
      "2016-09-27 06:54:30,701 : INFO : expecting 8979 sentences, matching count from corpus used for vocabulary survey\n",
      "2016-09-27 06:54:31,789 : INFO : PROGRESS: at 0.19% examples, 19115 words/s, in_qsize 0, out_qsize 0\n",
      "2016-09-27 06:55:31,804 : INFO : PROGRESS: at 11.50% examples, 27983 words/s, in_qsize 0, out_qsize 0\n",
      "2016-09-27 06:56:32,052 : INFO : PROGRESS: at 22.68% examples, 27172 words/s, in_qsize 0, out_qsize 0\n",
      "2016-09-27 06:57:32,060 : INFO : PROGRESS: at 33.90% examples, 27517 words/s, in_qsize 0, out_qsize 0\n",
      "2016-09-27 06:58:32,145 : INFO : PROGRESS: at 45.01% examples, 27661 words/s, in_qsize 0, out_qsize 0\n",
      "2016-09-27 06:59:32,269 : INFO : PROGRESS: at 56.16% examples, 27770 words/s, in_qsize 0, out_qsize 0\n",
      "2016-09-27 07:00:32,328 : INFO : PROGRESS: at 67.27% examples, 27662 words/s, in_qsize 0, out_qsize 0\n",
      "2016-09-27 07:01:32,435 : INFO : PROGRESS: at 78.13% examples, 27565 words/s, in_qsize 0, out_qsize 0\n",
      "2016-09-27 07:02:32,521 : INFO : PROGRESS: at 89.38% examples, 27591 words/s, in_qsize 0, out_qsize 0\n",
      "2016-09-27 07:03:29,356 : INFO : worker thread finished; awaiting finish of 6 more threads\n",
      "2016-09-27 07:03:29,361 : INFO : worker thread finished; awaiting finish of 5 more threads\n",
      "2016-09-27 07:03:29,364 : INFO : worker thread finished; awaiting finish of 4 more threads\n",
      "2016-09-27 07:03:29,401 : INFO : worker thread finished; awaiting finish of 3 more threads\n",
      "2016-09-27 07:03:29,402 : INFO : worker thread finished; awaiting finish of 2 more threads\n",
      "2016-09-27 07:03:29,426 : INFO : worker thread finished; awaiting finish of 1 more threads\n",
      "2016-09-27 07:03:29,449 : INFO : worker thread finished; awaiting finish of 0 more threads\n",
      "2016-09-27 07:03:29,451 : INFO : training on 59217428 raw words (14916973 effective words) took 538.7s, 27689 effective words/s\n",
      "2016-09-27 07:03:29,453 : INFO : saving Doc2Vec object under /home/local/shalaby/parameter_search_doc2vec_models/sample_0.0001/doc2vec_size_3000_w_8_type_pv-dbow_concat_1_mean_0_trainwords_0_hs_0_neg_10_vocabsize_None_curriter_6/model, separately None\n",
      "2016-09-27 07:03:29,455 : INFO : storing numpy array 'doctag_syn0' to /home/local/shalaby/parameter_search_doc2vec_models/sample_0.0001/doc2vec_size_3000_w_8_type_pv-dbow_concat_1_mean_0_trainwords_0_hs_0_neg_10_vocabsize_None_curriter_6/model.docvecs.doctag_syn0.npy\n",
      "2016-09-27 07:03:29,557 : INFO : storing numpy array 'syn1neg' to /home/local/shalaby/parameter_search_doc2vec_models/sample_0.0001/doc2vec_size_3000_w_8_type_pv-dbow_concat_1_mean_0_trainwords_0_hs_0_neg_10_vocabsize_None_curriter_6/model.syn1neg.npy\n",
      "2016-09-27 07:03:30,942 : INFO : not storing attribute syn0norm\n",
      "2016-09-27 07:03:30,943 : INFO : storing numpy array 'syn0' to /home/local/shalaby/parameter_search_doc2vec_models/sample_0.0001/doc2vec_size_3000_w_8_type_pv-dbow_concat_1_mean_0_trainwords_0_hs_0_neg_10_vocabsize_None_curriter_6/model.syn0.npy\n",
      "2016-09-27 07:03:32,418 : INFO : not storing attribute cum_table\n",
      "2016-09-27 07:03:33,999 : INFO : ====== Doing Training\n"
     ]
    },
    {
     "name": "stdout",
     "output_type": "stream",
     "text": [
      "A\n"
     ]
    },
    {
     "name": "stderr",
     "output_type": "stream",
     "text": [
      "2016-09-27 07:03:40,833 : INFO : Finished getting training vectors\n",
      "2016-09-27 07:03:48,106 : INFO : Finished parallelization\n"
     ]
    },
    {
     "name": "stdout",
     "output_type": "stream",
     "text": [
      "B\n"
     ]
    },
    {
     "name": "stderr",
     "output_type": "stream",
     "text": [
      "2016-09-27 07:41:49,268 : INFO : Finished getting training vectors\n",
      "2016-09-27 07:41:50,260 : INFO : Finished parallelization\n"
     ]
    },
    {
     "name": "stdout",
     "output_type": "stream",
     "text": [
      "C\n"
     ]
    },
    {
     "name": "stderr",
     "output_type": "stream",
     "text": [
      "2016-09-27 08:00:49,830 : INFO : Finished getting training vectors\n",
      "2016-09-27 08:00:50,880 : INFO : Finished parallelization\n"
     ]
    },
    {
     "name": "stdout",
     "output_type": "stream",
     "text": [
      "D\n"
     ]
    },
    {
     "name": "stderr",
     "output_type": "stream",
     "text": [
      "2016-09-27 08:16:44,927 : INFO : Finished getting training vectors\n",
      "2016-09-27 08:16:45,801 : INFO : Finished parallelization\n"
     ]
    },
    {
     "name": "stdout",
     "output_type": "stream",
     "text": [
      "E\n"
     ]
    },
    {
     "name": "stderr",
     "output_type": "stream",
     "text": [
      "2016-09-27 08:40:11,277 : INFO : Finished getting training vectors\n",
      "2016-09-27 08:40:12,231 : INFO : Finished parallelization\n"
     ]
    },
    {
     "name": "stdout",
     "output_type": "stream",
     "text": [
      "F\n"
     ]
    },
    {
     "name": "stderr",
     "output_type": "stream",
     "text": [
      "2016-09-27 09:01:13,650 : INFO : Finished getting training vectors\n",
      "2016-09-27 09:01:14,653 : INFO : Finished parallelization\n"
     ]
    },
    {
     "name": "stdout",
     "output_type": "stream",
     "text": [
      "G\n"
     ]
    },
    {
     "name": "stderr",
     "output_type": "stream",
     "text": [
      "2016-09-27 09:47:14,286 : INFO : Finished getting training vectors\n",
      "2016-09-27 09:47:15,151 : INFO : Finished parallelization\n"
     ]
    },
    {
     "name": "stdout",
     "output_type": "stream",
     "text": [
      "H\n"
     ]
    },
    {
     "name": "stderr",
     "output_type": "stream",
     "text": [
      "2016-09-27 10:43:48,409 : INFO : Finished getting training vectors\n",
      "2016-09-27 10:43:49,339 : INFO : Finished parallelization\n",
      "2016-09-27 11:38:47,811 : INFO : ===== Getting validation vectors with inference\n",
      "2016-09-27 11:43:07,598 : INFO : Finished: 1000\n",
      "2016-09-27 11:47:24,512 : INFO : ====== Doing Validation\n"
     ]
    },
    {
     "name": "stdout",
     "output_type": "stream",
     "text": [
      "A\n"
     ]
    },
    {
     "name": "stderr",
     "output_type": "stream",
     "text": [
      "2016-09-27 11:47:24,798 : INFO : Finished getting validation vectors\n",
      "2016-09-27 11:47:25,644 : INFO : Loaded the model, Doing the prediction now....\n"
     ]
    },
    {
     "name": "stdout",
     "output_type": "stream",
     "text": [
      "B\n"
     ]
    },
    {
     "name": "stderr",
     "output_type": "stream",
     "text": [
      "2016-09-27 11:47:27,471 : INFO : Finished getting validation vectors\n",
      "2016-09-27 11:47:28,266 : INFO : Loaded the model, Doing the prediction now....\n"
     ]
    },
    {
     "name": "stdout",
     "output_type": "stream",
     "text": [
      "C\n"
     ]
    },
    {
     "name": "stderr",
     "output_type": "stream",
     "text": [
      "2016-09-27 11:47:29,016 : INFO : Finished getting validation vectors\n",
      "2016-09-27 11:47:29,774 : INFO : Loaded the model, Doing the prediction now....\n"
     ]
    },
    {
     "name": "stdout",
     "output_type": "stream",
     "text": [
      "D\n"
     ]
    },
    {
     "name": "stderr",
     "output_type": "stream",
     "text": [
      "2016-09-27 11:47:30,399 : INFO : Finished getting validation vectors\n",
      "2016-09-27 11:47:31,162 : INFO : Loaded the model, Doing the prediction now....\n"
     ]
    },
    {
     "name": "stdout",
     "output_type": "stream",
     "text": [
      "E\n"
     ]
    },
    {
     "name": "stderr",
     "output_type": "stream",
     "text": [
      "2016-09-27 11:47:31,795 : INFO : Finished getting validation vectors\n",
      "2016-09-27 11:47:32,567 : INFO : Loaded the model, Doing the prediction now....\n"
     ]
    },
    {
     "name": "stdout",
     "output_type": "stream",
     "text": [
      "F\n"
     ]
    },
    {
     "name": "stderr",
     "output_type": "stream",
     "text": [
      "2016-09-27 11:47:33,213 : INFO : Finished getting validation vectors\n",
      "2016-09-27 11:47:34,030 : INFO : Loaded the model, Doing the prediction now....\n"
     ]
    },
    {
     "name": "stdout",
     "output_type": "stream",
     "text": [
      "G\n"
     ]
    },
    {
     "name": "stderr",
     "output_type": "stream",
     "text": [
      "2016-09-27 11:47:34,696 : INFO : Finished getting validation vectors\n",
      "2016-09-27 11:47:35,544 : INFO : Loaded the model, Doing the prediction now....\n"
     ]
    },
    {
     "name": "stdout",
     "output_type": "stream",
     "text": [
      "H\n"
     ]
    },
    {
     "name": "stderr",
     "output_type": "stream",
     "text": [
      "2016-09-27 11:47:36,232 : INFO : Finished getting validation vectors\n",
      "2016-09-27 11:47:37,101 : INFO : Loaded the model, Doing the prediction now....\n",
      "2016-09-27 11:47:37,906 : INFO : ****************** Epoch 7 --- Working on doc2vec_size_3000_w_8_type_pv-dbow_concat_1_mean_0_trainwords_0_hs_0_neg_10_vocabsize_None_curriter_7 *******************\n",
      "2016-09-27 11:47:37,909 : INFO : training model with 7 workers on 104358 vocabulary and 3000 features, using sg=1 hs=0 sample=1e-05 negative=10\n",
      "2016-09-27 11:47:37,910 : INFO : expecting 8979 sentences, matching count from corpus used for vocabulary survey\n"
     ]
    },
    {
     "name": "stdout",
     "output_type": "stream",
     "text": [
      "Coverage Error: 6.80294565769, Average No of Labels: 1.35195530726, Top 1: 0.638241923366, Top 3: 0.862133734035, Top 5: 0.948910593539, F1 Micro: 0.323709536308, Total Positive: 767\n"
     ]
    },
    {
     "name": "stderr",
     "output_type": "stream",
     "text": [
      "2016-09-27 11:47:38,941 : INFO : PROGRESS: at 0.18% examples, 24459 words/s, in_qsize 0, out_qsize 0\n",
      "2016-09-27 11:48:38,956 : INFO : PROGRESS: at 11.33% examples, 27571 words/s, in_qsize 0, out_qsize 0\n"
     ]
    }
   ],
   "source": [
    "%%time\n",
    "%matplotlib notebook\n",
    "graph = MetricsGraph()\n",
    "graph.init_graph()\n",
    "# when resuming, resume from an epoch with a previously created doc2vec model to get the learning rate right\n",
    "start_from = 1\n",
    "for epoch in range(start_from,DOC2VEC_MAX_EPOCHS+1):\n",
    "    GLOBAL_VARS.MODEL_NAME = placeholder_model_name.format(epoch)\n",
    "    info(\"****************** Epoch {} --- Working on {} *******************\".format(epoch, GLOBAL_VARS.MODEL_NAME))\n",
    "    \n",
    "    # if we have the model, just load it, otherwise train the previous model\n",
    "    if os.path.exists(os.path.join(doc2vec_model_save_location, GLOBAL_VARS.MODEL_NAME, MODEL_PREFIX)):\n",
    "        docvec_model = Doc2Vec.load(os.path.join(doc2vec_model_save_location, GLOBAL_VARS.MODEL_NAME, MODEL_PREFIX))\n",
    "        GLOBAL_VARS.DOC2VEC_MODEL = doc2vec_model\n",
    "    else:\n",
    "        # train the doc2vec model\n",
    "        doc2vec_model.train(sentences=StochasticDocumentGenerator(training_file, training_docs_list, line_positions), \n",
    "                            report_delay=REPORT_DELAY)\n",
    "        #doc2vec_model.alpha -= 0.001  # decrease the learning rate\n",
    "        #doc2vec_model.min_alpha = doc2vec_model.alpha  # fix the learning rate, no decay\n",
    "        ensure_disk_location_exists(os.path.join(doc2vec_model_save_location, GLOBAL_VARS.MODEL_NAME))\n",
    "        doc2vec_model.save(os.path.join(doc2vec_model_save_location, GLOBAL_VARS.MODEL_NAME, MODEL_PREFIX))\n",
    "        GLOBAL_VARS.DOC2VEC_MODEL = doc2vec_model\n",
    "\n",
    "    # Training and validation of SVMs using those docvecs\n",
    "    train_classifications(sections)\n",
    "    validation_vectors_matrix = get_validation_docs_with_inference(doc2vec_model, doc_classification_map)\n",
    "    metrics = do_validation(validation_vectors_matrix, doc_classification_map, sections, \"sections\")\n",
    "    ensure_disk_location_exists(os.path.join(doc2vec_model_save_location, GLOBAL_VARS.MODEL_NAME, \n",
    "                                             GLOBAL_VARS.SVM_MODEL_NAME))\n",
    "    pickle.dump(metrics, open(os.path.join(doc2vec_model_save_location, GLOBAL_VARS.MODEL_NAME, GLOBAL_VARS.SVM_MODEL_NAME, METRICS), 'w'))\n",
    "    print \"Coverage Error: {}, Average No of Labels: {}, Top 1: {}, Top 3: {}, Top 5: {}, F1 Micro: {}, Total Positive: {}\".format(\n",
    "        metrics['coverage_error'], metrics['average_num_of_labels'], metrics['top_1'], metrics['top_3'], metrics['top_5'], \n",
    "        metrics['f1_micro'], metrics['total_positive'])\n",
    "                                                                                     \n",
    "    epoch_metrics.append(metrics)\n",
    "    graph.add_metrics_to_graph(metrics, epoch)\n"
   ]
  },
  {
   "cell_type": "markdown",
   "metadata": {},
   "source": [
    "## Plot loaded metrics"
   ]
  },
  {
   "cell_type": "code",
   "execution_count": 48,
   "metadata": {
    "collapsed": false
   },
   "outputs": [
    {
     "data": {
      "text/plain": [
       "'/home/local/shalaby/parameter_search_doc2vec_models/sample_0.0001'"
      ]
     },
     "execution_count": 48,
     "metadata": {},
     "output_type": "execute_result"
    }
   ],
   "source": [
    "doc2vec_model_save_location"
   ]
  },
  {
   "cell_type": "code",
   "execution_count": 47,
   "metadata": {
    "collapsed": false
   },
   "outputs": [
    {
     "data": {
      "application/javascript": [
       "/* Put everything inside the global mpl namespace */\n",
       "window.mpl = {};\n",
       "\n",
       "mpl.get_websocket_type = function() {\n",
       "    if (typeof(WebSocket) !== 'undefined') {\n",
       "        return WebSocket;\n",
       "    } else if (typeof(MozWebSocket) !== 'undefined') {\n",
       "        return MozWebSocket;\n",
       "    } else {\n",
       "        alert('Your browser does not have WebSocket support.' +\n",
       "              'Please try Chrome, Safari or Firefox ≥ 6. ' +\n",
       "              'Firefox 4 and 5 are also supported but you ' +\n",
       "              'have to enable WebSockets in about:config.');\n",
       "    };\n",
       "}\n",
       "\n",
       "mpl.figure = function(figure_id, websocket, ondownload, parent_element) {\n",
       "    this.id = figure_id;\n",
       "\n",
       "    this.ws = websocket;\n",
       "\n",
       "    this.supports_binary = (this.ws.binaryType != undefined);\n",
       "\n",
       "    if (!this.supports_binary) {\n",
       "        var warnings = document.getElementById(\"mpl-warnings\");\n",
       "        if (warnings) {\n",
       "            warnings.style.display = 'block';\n",
       "            warnings.textContent = (\n",
       "                \"This browser does not support binary websocket messages. \" +\n",
       "                    \"Performance may be slow.\");\n",
       "        }\n",
       "    }\n",
       "\n",
       "    this.imageObj = new Image();\n",
       "\n",
       "    this.context = undefined;\n",
       "    this.message = undefined;\n",
       "    this.canvas = undefined;\n",
       "    this.rubberband_canvas = undefined;\n",
       "    this.rubberband_context = undefined;\n",
       "    this.format_dropdown = undefined;\n",
       "\n",
       "    this.image_mode = 'full';\n",
       "\n",
       "    this.root = $('<div/>');\n",
       "    this._root_extra_style(this.root)\n",
       "    this.root.attr('style', 'display: inline-block');\n",
       "\n",
       "    $(parent_element).append(this.root);\n",
       "\n",
       "    this._init_header(this);\n",
       "    this._init_canvas(this);\n",
       "    this._init_toolbar(this);\n",
       "\n",
       "    var fig = this;\n",
       "\n",
       "    this.waiting = false;\n",
       "\n",
       "    this.ws.onopen =  function () {\n",
       "            fig.send_message(\"supports_binary\", {value: fig.supports_binary});\n",
       "            fig.send_message(\"send_image_mode\", {});\n",
       "            fig.send_message(\"refresh\", {});\n",
       "        }\n",
       "\n",
       "    this.imageObj.onload = function() {\n",
       "            if (fig.image_mode == 'full') {\n",
       "                // Full images could contain transparency (where diff images\n",
       "                // almost always do), so we need to clear the canvas so that\n",
       "                // there is no ghosting.\n",
       "                fig.context.clearRect(0, 0, fig.canvas.width, fig.canvas.height);\n",
       "            }\n",
       "            fig.context.drawImage(fig.imageObj, 0, 0);\n",
       "        };\n",
       "\n",
       "    this.imageObj.onunload = function() {\n",
       "        this.ws.close();\n",
       "    }\n",
       "\n",
       "    this.ws.onmessage = this._make_on_message_function(this);\n",
       "\n",
       "    this.ondownload = ondownload;\n",
       "}\n",
       "\n",
       "mpl.figure.prototype._init_header = function() {\n",
       "    var titlebar = $(\n",
       "        '<div class=\"ui-dialog-titlebar ui-widget-header ui-corner-all ' +\n",
       "        'ui-helper-clearfix\"/>');\n",
       "    var titletext = $(\n",
       "        '<div class=\"ui-dialog-title\" style=\"width: 100%; ' +\n",
       "        'text-align: center; padding: 3px;\"/>');\n",
       "    titlebar.append(titletext)\n",
       "    this.root.append(titlebar);\n",
       "    this.header = titletext[0];\n",
       "}\n",
       "\n",
       "\n",
       "\n",
       "mpl.figure.prototype._canvas_extra_style = function(canvas_div) {\n",
       "\n",
       "}\n",
       "\n",
       "\n",
       "mpl.figure.prototype._root_extra_style = function(canvas_div) {\n",
       "\n",
       "}\n",
       "\n",
       "mpl.figure.prototype._init_canvas = function() {\n",
       "    var fig = this;\n",
       "\n",
       "    var canvas_div = $('<div/>');\n",
       "\n",
       "    canvas_div.attr('style', 'position: relative; clear: both; outline: 0');\n",
       "\n",
       "    function canvas_keyboard_event(event) {\n",
       "        return fig.key_event(event, event['data']);\n",
       "    }\n",
       "\n",
       "    canvas_div.keydown('key_press', canvas_keyboard_event);\n",
       "    canvas_div.keyup('key_release', canvas_keyboard_event);\n",
       "    this.canvas_div = canvas_div\n",
       "    this._canvas_extra_style(canvas_div)\n",
       "    this.root.append(canvas_div);\n",
       "\n",
       "    var canvas = $('<canvas/>');\n",
       "    canvas.addClass('mpl-canvas');\n",
       "    canvas.attr('style', \"left: 0; top: 0; z-index: 0; outline: 0\")\n",
       "\n",
       "    this.canvas = canvas[0];\n",
       "    this.context = canvas[0].getContext(\"2d\");\n",
       "\n",
       "    var rubberband = $('<canvas/>');\n",
       "    rubberband.attr('style', \"position: absolute; left: 0; top: 0; z-index: 1;\")\n",
       "\n",
       "    var pass_mouse_events = true;\n",
       "\n",
       "    canvas_div.resizable({\n",
       "        start: function(event, ui) {\n",
       "            pass_mouse_events = false;\n",
       "        },\n",
       "        resize: function(event, ui) {\n",
       "            fig.request_resize(ui.size.width, ui.size.height);\n",
       "        },\n",
       "        stop: function(event, ui) {\n",
       "            pass_mouse_events = true;\n",
       "            fig.request_resize(ui.size.width, ui.size.height);\n",
       "        },\n",
       "    });\n",
       "\n",
       "    function mouse_event_fn(event) {\n",
       "        if (pass_mouse_events)\n",
       "            return fig.mouse_event(event, event['data']);\n",
       "    }\n",
       "\n",
       "    rubberband.mousedown('button_press', mouse_event_fn);\n",
       "    rubberband.mouseup('button_release', mouse_event_fn);\n",
       "    // Throttle sequential mouse events to 1 every 20ms.\n",
       "    rubberband.mousemove('motion_notify', mouse_event_fn);\n",
       "\n",
       "    rubberband.mouseenter('figure_enter', mouse_event_fn);\n",
       "    rubberband.mouseleave('figure_leave', mouse_event_fn);\n",
       "\n",
       "    canvas_div.on(\"wheel\", function (event) {\n",
       "        event = event.originalEvent;\n",
       "        event['data'] = 'scroll'\n",
       "        if (event.deltaY < 0) {\n",
       "            event.step = 1;\n",
       "        } else {\n",
       "            event.step = -1;\n",
       "        }\n",
       "        mouse_event_fn(event);\n",
       "    });\n",
       "\n",
       "    canvas_div.append(canvas);\n",
       "    canvas_div.append(rubberband);\n",
       "\n",
       "    this.rubberband = rubberband;\n",
       "    this.rubberband_canvas = rubberband[0];\n",
       "    this.rubberband_context = rubberband[0].getContext(\"2d\");\n",
       "    this.rubberband_context.strokeStyle = \"#000000\";\n",
       "\n",
       "    this._resize_canvas = function(width, height) {\n",
       "        // Keep the size of the canvas, canvas container, and rubber band\n",
       "        // canvas in synch.\n",
       "        canvas_div.css('width', width)\n",
       "        canvas_div.css('height', height)\n",
       "\n",
       "        canvas.attr('width', width);\n",
       "        canvas.attr('height', height);\n",
       "\n",
       "        rubberband.attr('width', width);\n",
       "        rubberband.attr('height', height);\n",
       "    }\n",
       "\n",
       "    // Set the figure to an initial 600x600px, this will subsequently be updated\n",
       "    // upon first draw.\n",
       "    this._resize_canvas(600, 600);\n",
       "\n",
       "    // Disable right mouse context menu.\n",
       "    $(this.rubberband_canvas).bind(\"contextmenu\",function(e){\n",
       "        return false;\n",
       "    });\n",
       "\n",
       "    function set_focus () {\n",
       "        canvas.focus();\n",
       "        canvas_div.focus();\n",
       "    }\n",
       "\n",
       "    window.setTimeout(set_focus, 100);\n",
       "}\n",
       "\n",
       "mpl.figure.prototype._init_toolbar = function() {\n",
       "    var fig = this;\n",
       "\n",
       "    var nav_element = $('<div/>')\n",
       "    nav_element.attr('style', 'width: 100%');\n",
       "    this.root.append(nav_element);\n",
       "\n",
       "    // Define a callback function for later on.\n",
       "    function toolbar_event(event) {\n",
       "        return fig.toolbar_button_onclick(event['data']);\n",
       "    }\n",
       "    function toolbar_mouse_event(event) {\n",
       "        return fig.toolbar_button_onmouseover(event['data']);\n",
       "    }\n",
       "\n",
       "    for(var toolbar_ind in mpl.toolbar_items) {\n",
       "        var name = mpl.toolbar_items[toolbar_ind][0];\n",
       "        var tooltip = mpl.toolbar_items[toolbar_ind][1];\n",
       "        var image = mpl.toolbar_items[toolbar_ind][2];\n",
       "        var method_name = mpl.toolbar_items[toolbar_ind][3];\n",
       "\n",
       "        if (!name) {\n",
       "            // put a spacer in here.\n",
       "            continue;\n",
       "        }\n",
       "        var button = $('<button/>');\n",
       "        button.addClass('ui-button ui-widget ui-state-default ui-corner-all ' +\n",
       "                        'ui-button-icon-only');\n",
       "        button.attr('role', 'button');\n",
       "        button.attr('aria-disabled', 'false');\n",
       "        button.click(method_name, toolbar_event);\n",
       "        button.mouseover(tooltip, toolbar_mouse_event);\n",
       "\n",
       "        var icon_img = $('<span/>');\n",
       "        icon_img.addClass('ui-button-icon-primary ui-icon');\n",
       "        icon_img.addClass(image);\n",
       "        icon_img.addClass('ui-corner-all');\n",
       "\n",
       "        var tooltip_span = $('<span/>');\n",
       "        tooltip_span.addClass('ui-button-text');\n",
       "        tooltip_span.html(tooltip);\n",
       "\n",
       "        button.append(icon_img);\n",
       "        button.append(tooltip_span);\n",
       "\n",
       "        nav_element.append(button);\n",
       "    }\n",
       "\n",
       "    var fmt_picker_span = $('<span/>');\n",
       "\n",
       "    var fmt_picker = $('<select/>');\n",
       "    fmt_picker.addClass('mpl-toolbar-option ui-widget ui-widget-content');\n",
       "    fmt_picker_span.append(fmt_picker);\n",
       "    nav_element.append(fmt_picker_span);\n",
       "    this.format_dropdown = fmt_picker[0];\n",
       "\n",
       "    for (var ind in mpl.extensions) {\n",
       "        var fmt = mpl.extensions[ind];\n",
       "        var option = $(\n",
       "            '<option/>', {selected: fmt === mpl.default_extension}).html(fmt);\n",
       "        fmt_picker.append(option)\n",
       "    }\n",
       "\n",
       "    // Add hover states to the ui-buttons\n",
       "    $( \".ui-button\" ).hover(\n",
       "        function() { $(this).addClass(\"ui-state-hover\");},\n",
       "        function() { $(this).removeClass(\"ui-state-hover\");}\n",
       "    );\n",
       "\n",
       "    var status_bar = $('<span class=\"mpl-message\"/>');\n",
       "    nav_element.append(status_bar);\n",
       "    this.message = status_bar[0];\n",
       "}\n",
       "\n",
       "mpl.figure.prototype.request_resize = function(x_pixels, y_pixels) {\n",
       "    // Request matplotlib to resize the figure. Matplotlib will then trigger a resize in the client,\n",
       "    // which will in turn request a refresh of the image.\n",
       "    this.send_message('resize', {'width': x_pixels, 'height': y_pixels});\n",
       "}\n",
       "\n",
       "mpl.figure.prototype.send_message = function(type, properties) {\n",
       "    properties['type'] = type;\n",
       "    properties['figure_id'] = this.id;\n",
       "    this.ws.send(JSON.stringify(properties));\n",
       "}\n",
       "\n",
       "mpl.figure.prototype.send_draw_message = function() {\n",
       "    if (!this.waiting) {\n",
       "        this.waiting = true;\n",
       "        this.ws.send(JSON.stringify({type: \"draw\", figure_id: this.id}));\n",
       "    }\n",
       "}\n",
       "\n",
       "\n",
       "mpl.figure.prototype.handle_save = function(fig, msg) {\n",
       "    var format_dropdown = fig.format_dropdown;\n",
       "    var format = format_dropdown.options[format_dropdown.selectedIndex].value;\n",
       "    fig.ondownload(fig, format);\n",
       "}\n",
       "\n",
       "\n",
       "mpl.figure.prototype.handle_resize = function(fig, msg) {\n",
       "    var size = msg['size'];\n",
       "    if (size[0] != fig.canvas.width || size[1] != fig.canvas.height) {\n",
       "        fig._resize_canvas(size[0], size[1]);\n",
       "        fig.send_message(\"refresh\", {});\n",
       "    };\n",
       "}\n",
       "\n",
       "mpl.figure.prototype.handle_rubberband = function(fig, msg) {\n",
       "    var x0 = msg['x0'];\n",
       "    var y0 = fig.canvas.height - msg['y0'];\n",
       "    var x1 = msg['x1'];\n",
       "    var y1 = fig.canvas.height - msg['y1'];\n",
       "    x0 = Math.floor(x0) + 0.5;\n",
       "    y0 = Math.floor(y0) + 0.5;\n",
       "    x1 = Math.floor(x1) + 0.5;\n",
       "    y1 = Math.floor(y1) + 0.5;\n",
       "    var min_x = Math.min(x0, x1);\n",
       "    var min_y = Math.min(y0, y1);\n",
       "    var width = Math.abs(x1 - x0);\n",
       "    var height = Math.abs(y1 - y0);\n",
       "\n",
       "    fig.rubberband_context.clearRect(\n",
       "        0, 0, fig.canvas.width, fig.canvas.height);\n",
       "\n",
       "    fig.rubberband_context.strokeRect(min_x, min_y, width, height);\n",
       "}\n",
       "\n",
       "mpl.figure.prototype.handle_figure_label = function(fig, msg) {\n",
       "    // Updates the figure title.\n",
       "    fig.header.textContent = msg['label'];\n",
       "}\n",
       "\n",
       "mpl.figure.prototype.handle_cursor = function(fig, msg) {\n",
       "    var cursor = msg['cursor'];\n",
       "    switch(cursor)\n",
       "    {\n",
       "    case 0:\n",
       "        cursor = 'pointer';\n",
       "        break;\n",
       "    case 1:\n",
       "        cursor = 'default';\n",
       "        break;\n",
       "    case 2:\n",
       "        cursor = 'crosshair';\n",
       "        break;\n",
       "    case 3:\n",
       "        cursor = 'move';\n",
       "        break;\n",
       "    }\n",
       "    fig.rubberband_canvas.style.cursor = cursor;\n",
       "}\n",
       "\n",
       "mpl.figure.prototype.handle_message = function(fig, msg) {\n",
       "    fig.message.textContent = msg['message'];\n",
       "}\n",
       "\n",
       "mpl.figure.prototype.handle_draw = function(fig, msg) {\n",
       "    // Request the server to send over a new figure.\n",
       "    fig.send_draw_message();\n",
       "}\n",
       "\n",
       "mpl.figure.prototype.handle_image_mode = function(fig, msg) {\n",
       "    fig.image_mode = msg['mode'];\n",
       "}\n",
       "\n",
       "mpl.figure.prototype.updated_canvas_event = function() {\n",
       "    // Called whenever the canvas gets updated.\n",
       "    this.send_message(\"ack\", {});\n",
       "}\n",
       "\n",
       "// A function to construct a web socket function for onmessage handling.\n",
       "// Called in the figure constructor.\n",
       "mpl.figure.prototype._make_on_message_function = function(fig) {\n",
       "    return function socket_on_message(evt) {\n",
       "        if (evt.data instanceof Blob) {\n",
       "            /* FIXME: We get \"Resource interpreted as Image but\n",
       "             * transferred with MIME type text/plain:\" errors on\n",
       "             * Chrome.  But how to set the MIME type?  It doesn't seem\n",
       "             * to be part of the websocket stream */\n",
       "            evt.data.type = \"image/png\";\n",
       "\n",
       "            /* Free the memory for the previous frames */\n",
       "            if (fig.imageObj.src) {\n",
       "                (window.URL || window.webkitURL).revokeObjectURL(\n",
       "                    fig.imageObj.src);\n",
       "            }\n",
       "\n",
       "            fig.imageObj.src = (window.URL || window.webkitURL).createObjectURL(\n",
       "                evt.data);\n",
       "            fig.updated_canvas_event();\n",
       "            fig.waiting = false;\n",
       "            return;\n",
       "        }\n",
       "        else if (typeof evt.data === 'string' && evt.data.slice(0, 21) == \"data:image/png;base64\") {\n",
       "            fig.imageObj.src = evt.data;\n",
       "            fig.updated_canvas_event();\n",
       "            fig.waiting = false;\n",
       "            return;\n",
       "        }\n",
       "\n",
       "        var msg = JSON.parse(evt.data);\n",
       "        var msg_type = msg['type'];\n",
       "\n",
       "        // Call the  \"handle_{type}\" callback, which takes\n",
       "        // the figure and JSON message as its only arguments.\n",
       "        try {\n",
       "            var callback = fig[\"handle_\" + msg_type];\n",
       "        } catch (e) {\n",
       "            console.log(\"No handler for the '\" + msg_type + \"' message type: \", msg);\n",
       "            return;\n",
       "        }\n",
       "\n",
       "        if (callback) {\n",
       "            try {\n",
       "                // console.log(\"Handling '\" + msg_type + \"' message: \", msg);\n",
       "                callback(fig, msg);\n",
       "            } catch (e) {\n",
       "                console.log(\"Exception inside the 'handler_\" + msg_type + \"' callback:\", e, e.stack, msg);\n",
       "            }\n",
       "        }\n",
       "    };\n",
       "}\n",
       "\n",
       "// from http://stackoverflow.com/questions/1114465/getting-mouse-location-in-canvas\n",
       "mpl.findpos = function(e) {\n",
       "    //this section is from http://www.quirksmode.org/js/events_properties.html\n",
       "    var targ;\n",
       "    if (!e)\n",
       "        e = window.event;\n",
       "    if (e.target)\n",
       "        targ = e.target;\n",
       "    else if (e.srcElement)\n",
       "        targ = e.srcElement;\n",
       "    if (targ.nodeType == 3) // defeat Safari bug\n",
       "        targ = targ.parentNode;\n",
       "\n",
       "    // jQuery normalizes the pageX and pageY\n",
       "    // pageX,Y are the mouse positions relative to the document\n",
       "    // offset() returns the position of the element relative to the document\n",
       "    var x = e.pageX - $(targ).offset().left;\n",
       "    var y = e.pageY - $(targ).offset().top;\n",
       "\n",
       "    return {\"x\": x, \"y\": y};\n",
       "};\n",
       "\n",
       "/*\n",
       " * return a copy of an object with only non-object keys\n",
       " * we need this to avoid circular references\n",
       " * http://stackoverflow.com/a/24161582/3208463\n",
       " */\n",
       "function simpleKeys (original) {\n",
       "  return Object.keys(original).reduce(function (obj, key) {\n",
       "    if (typeof original[key] !== 'object')\n",
       "        obj[key] = original[key]\n",
       "    return obj;\n",
       "  }, {});\n",
       "}\n",
       "\n",
       "mpl.figure.prototype.mouse_event = function(event, name) {\n",
       "    var canvas_pos = mpl.findpos(event)\n",
       "\n",
       "    if (name === 'button_press')\n",
       "    {\n",
       "        this.canvas.focus();\n",
       "        this.canvas_div.focus();\n",
       "    }\n",
       "\n",
       "    var x = canvas_pos.x;\n",
       "    var y = canvas_pos.y;\n",
       "\n",
       "    this.send_message(name, {x: x, y: y, button: event.button,\n",
       "                             step: event.step,\n",
       "                             guiEvent: simpleKeys(event)});\n",
       "\n",
       "    /* This prevents the web browser from automatically changing to\n",
       "     * the text insertion cursor when the button is pressed.  We want\n",
       "     * to control all of the cursor setting manually through the\n",
       "     * 'cursor' event from matplotlib */\n",
       "    event.preventDefault();\n",
       "    return false;\n",
       "}\n",
       "\n",
       "mpl.figure.prototype._key_event_extra = function(event, name) {\n",
       "    // Handle any extra behaviour associated with a key event\n",
       "}\n",
       "\n",
       "mpl.figure.prototype.key_event = function(event, name) {\n",
       "\n",
       "    // Prevent repeat events\n",
       "    if (name == 'key_press')\n",
       "    {\n",
       "        if (event.which === this._key)\n",
       "            return;\n",
       "        else\n",
       "            this._key = event.which;\n",
       "    }\n",
       "    if (name == 'key_release')\n",
       "        this._key = null;\n",
       "\n",
       "    var value = '';\n",
       "    if (event.ctrlKey && event.which != 17)\n",
       "        value += \"ctrl+\";\n",
       "    if (event.altKey && event.which != 18)\n",
       "        value += \"alt+\";\n",
       "    if (event.shiftKey && event.which != 16)\n",
       "        value += \"shift+\";\n",
       "\n",
       "    value += 'k';\n",
       "    value += event.which.toString();\n",
       "\n",
       "    this._key_event_extra(event, name);\n",
       "\n",
       "    this.send_message(name, {key: value,\n",
       "                             guiEvent: simpleKeys(event)});\n",
       "    return false;\n",
       "}\n",
       "\n",
       "mpl.figure.prototype.toolbar_button_onclick = function(name) {\n",
       "    if (name == 'download') {\n",
       "        this.handle_save(this, null);\n",
       "    } else {\n",
       "        this.send_message(\"toolbar_button\", {name: name});\n",
       "    }\n",
       "};\n",
       "\n",
       "mpl.figure.prototype.toolbar_button_onmouseover = function(tooltip) {\n",
       "    this.message.textContent = tooltip;\n",
       "};\n",
       "mpl.toolbar_items = [[\"Home\", \"Reset original view\", \"fa fa-home icon-home\", \"home\"], [\"Back\", \"Back to  previous view\", \"fa fa-arrow-left icon-arrow-left\", \"back\"], [\"Forward\", \"Forward to next view\", \"fa fa-arrow-right icon-arrow-right\", \"forward\"], [\"\", \"\", \"\", \"\"], [\"Pan\", \"Pan axes with left mouse, zoom with right\", \"fa fa-arrows icon-move\", \"pan\"], [\"Zoom\", \"Zoom to rectangle\", \"fa fa-square-o icon-check-empty\", \"zoom\"], [\"\", \"\", \"\", \"\"], [\"Download\", \"Download plot\", \"fa fa-floppy-o icon-save\", \"download\"]];\n",
       "\n",
       "mpl.extensions = [\"eps\", \"pdf\", \"png\", \"ps\", \"raw\", \"svg\"];\n",
       "\n",
       "mpl.default_extension = \"png\";var comm_websocket_adapter = function(comm) {\n",
       "    // Create a \"websocket\"-like object which calls the given IPython comm\n",
       "    // object with the appropriate methods. Currently this is a non binary\n",
       "    // socket, so there is still some room for performance tuning.\n",
       "    var ws = {};\n",
       "\n",
       "    ws.close = function() {\n",
       "        comm.close()\n",
       "    };\n",
       "    ws.send = function(m) {\n",
       "        //console.log('sending', m);\n",
       "        comm.send(m);\n",
       "    };\n",
       "    // Register the callback with on_msg.\n",
       "    comm.on_msg(function(msg) {\n",
       "        //console.log('receiving', msg['content']['data'], msg);\n",
       "        // Pass the mpl event to the overriden (by mpl) onmessage function.\n",
       "        ws.onmessage(msg['content']['data'])\n",
       "    });\n",
       "    return ws;\n",
       "}\n",
       "\n",
       "mpl.mpl_figure_comm = function(comm, msg) {\n",
       "    // This is the function which gets called when the mpl process\n",
       "    // starts-up an IPython Comm through the \"matplotlib\" channel.\n",
       "\n",
       "    var id = msg.content.data.id;\n",
       "    // Get hold of the div created by the display call when the Comm\n",
       "    // socket was opened in Python.\n",
       "    var element = $(\"#\" + id);\n",
       "    var ws_proxy = comm_websocket_adapter(comm)\n",
       "\n",
       "    function ondownload(figure, format) {\n",
       "        window.open(figure.imageObj.src);\n",
       "    }\n",
       "\n",
       "    var fig = new mpl.figure(id, ws_proxy,\n",
       "                           ondownload,\n",
       "                           element.get(0));\n",
       "\n",
       "    // Call onopen now - mpl needs it, as it is assuming we've passed it a real\n",
       "    // web socket which is closed, not our websocket->open comm proxy.\n",
       "    ws_proxy.onopen();\n",
       "\n",
       "    fig.parent_element = element.get(0);\n",
       "    fig.cell_info = mpl.find_output_cell(\"<div id='\" + id + \"'></div>\");\n",
       "    if (!fig.cell_info) {\n",
       "        console.error(\"Failed to find cell for figure\", id, fig);\n",
       "        return;\n",
       "    }\n",
       "\n",
       "    var output_index = fig.cell_info[2]\n",
       "    var cell = fig.cell_info[0];\n",
       "\n",
       "};\n",
       "\n",
       "mpl.figure.prototype.handle_close = function(fig, msg) {\n",
       "    fig.root.unbind('remove')\n",
       "\n",
       "    // Update the output cell to use the data from the current canvas.\n",
       "    fig.push_to_output();\n",
       "    var dataURL = fig.canvas.toDataURL();\n",
       "    // Re-enable the keyboard manager in IPython - without this line, in FF,\n",
       "    // the notebook keyboard shortcuts fail.\n",
       "    IPython.keyboard_manager.enable()\n",
       "    $(fig.parent_element).html('<img src=\"' + dataURL + '\">');\n",
       "    fig.close_ws(fig, msg);\n",
       "}\n",
       "\n",
       "mpl.figure.prototype.close_ws = function(fig, msg){\n",
       "    fig.send_message('closing', msg);\n",
       "    // fig.ws.close()\n",
       "}\n",
       "\n",
       "mpl.figure.prototype.push_to_output = function(remove_interactive) {\n",
       "    // Turn the data on the canvas into data in the output cell.\n",
       "    var dataURL = this.canvas.toDataURL();\n",
       "    this.cell_info[1]['text/html'] = '<img src=\"' + dataURL + '\">';\n",
       "}\n",
       "\n",
       "mpl.figure.prototype.updated_canvas_event = function() {\n",
       "    // Tell IPython that the notebook contents must change.\n",
       "    IPython.notebook.set_dirty(true);\n",
       "    this.send_message(\"ack\", {});\n",
       "    var fig = this;\n",
       "    // Wait a second, then push the new image to the DOM so\n",
       "    // that it is saved nicely (might be nice to debounce this).\n",
       "    setTimeout(function () { fig.push_to_output() }, 1000);\n",
       "}\n",
       "\n",
       "mpl.figure.prototype._init_toolbar = function() {\n",
       "    var fig = this;\n",
       "\n",
       "    var nav_element = $('<div/>')\n",
       "    nav_element.attr('style', 'width: 100%');\n",
       "    this.root.append(nav_element);\n",
       "\n",
       "    // Define a callback function for later on.\n",
       "    function toolbar_event(event) {\n",
       "        return fig.toolbar_button_onclick(event['data']);\n",
       "    }\n",
       "    function toolbar_mouse_event(event) {\n",
       "        return fig.toolbar_button_onmouseover(event['data']);\n",
       "    }\n",
       "\n",
       "    for(var toolbar_ind in mpl.toolbar_items){\n",
       "        var name = mpl.toolbar_items[toolbar_ind][0];\n",
       "        var tooltip = mpl.toolbar_items[toolbar_ind][1];\n",
       "        var image = mpl.toolbar_items[toolbar_ind][2];\n",
       "        var method_name = mpl.toolbar_items[toolbar_ind][3];\n",
       "\n",
       "        if (!name) { continue; };\n",
       "\n",
       "        var button = $('<button class=\"btn btn-default\" href=\"#\" title=\"' + name + '\"><i class=\"fa ' + image + ' fa-lg\"></i></button>');\n",
       "        button.click(method_name, toolbar_event);\n",
       "        button.mouseover(tooltip, toolbar_mouse_event);\n",
       "        nav_element.append(button);\n",
       "    }\n",
       "\n",
       "    // Add the status bar.\n",
       "    var status_bar = $('<span class=\"mpl-message\" style=\"text-align:right; float: right;\"/>');\n",
       "    nav_element.append(status_bar);\n",
       "    this.message = status_bar[0];\n",
       "\n",
       "    // Add the close button to the window.\n",
       "    var buttongrp = $('<div class=\"btn-group inline pull-right\"></div>');\n",
       "    var button = $('<button class=\"btn btn-mini btn-primary\" href=\"#\" title=\"Stop Interaction\"><i class=\"fa fa-power-off icon-remove icon-large\"></i></button>');\n",
       "    button.click(function (evt) { fig.handle_close(fig, {}); } );\n",
       "    button.mouseover('Stop Interaction', toolbar_mouse_event);\n",
       "    buttongrp.append(button);\n",
       "    var titlebar = this.root.find($('.ui-dialog-titlebar'));\n",
       "    titlebar.prepend(buttongrp);\n",
       "}\n",
       "\n",
       "mpl.figure.prototype._root_extra_style = function(el){\n",
       "    var fig = this\n",
       "    el.on(\"remove\", function(){\n",
       "\tfig.close_ws(fig, {});\n",
       "    });\n",
       "}\n",
       "\n",
       "mpl.figure.prototype._canvas_extra_style = function(el){\n",
       "    // this is important to make the div 'focusable\n",
       "    el.attr('tabindex', 0)\n",
       "    // reach out to IPython and tell the keyboard manager to turn it's self\n",
       "    // off when our div gets focus\n",
       "\n",
       "    // location in version 3\n",
       "    if (IPython.notebook.keyboard_manager) {\n",
       "        IPython.notebook.keyboard_manager.register_events(el);\n",
       "    }\n",
       "    else {\n",
       "        // location in version 2\n",
       "        IPython.keyboard_manager.register_events(el);\n",
       "    }\n",
       "\n",
       "}\n",
       "\n",
       "mpl.figure.prototype._key_event_extra = function(event, name) {\n",
       "    var manager = IPython.notebook.keyboard_manager;\n",
       "    if (!manager)\n",
       "        manager = IPython.keyboard_manager;\n",
       "\n",
       "    // Check for shift+enter\n",
       "    if (event.shiftKey && event.which == 13) {\n",
       "        this.canvas_div.blur();\n",
       "        event.shiftKey = false;\n",
       "        // Send a \"J\" for go to next cell\n",
       "        event.which = 74;\n",
       "        event.keyCode = 74;\n",
       "        manager.command_mode();\n",
       "        manager.handle_keydown(event);\n",
       "    }\n",
       "}\n",
       "\n",
       "mpl.figure.prototype.handle_save = function(fig, msg) {\n",
       "    fig.ondownload(fig, null);\n",
       "}\n",
       "\n",
       "\n",
       "mpl.find_output_cell = function(html_output) {\n",
       "    // Return the cell and output element which can be found *uniquely* in the notebook.\n",
       "    // Note - this is a bit hacky, but it is done because the \"notebook_saving.Notebook\"\n",
       "    // IPython event is triggered only after the cells have been serialised, which for\n",
       "    // our purposes (turning an active figure into a static one), is too late.\n",
       "    var cells = IPython.notebook.get_cells();\n",
       "    var ncells = cells.length;\n",
       "    for (var i=0; i<ncells; i++) {\n",
       "        var cell = cells[i];\n",
       "        if (cell.cell_type === 'code'){\n",
       "            for (var j=0; j<cell.output_area.outputs.length; j++) {\n",
       "                var data = cell.output_area.outputs[j];\n",
       "                if (data.data) {\n",
       "                    // IPython >= 3 moved mimebundle to data attribute of output\n",
       "                    data = data.data;\n",
       "                }\n",
       "                if (data['text/html'] == html_output) {\n",
       "                    return [cell, data, j];\n",
       "                }\n",
       "            }\n",
       "        }\n",
       "    }\n",
       "}\n",
       "\n",
       "// Register the function which deals with the matplotlib target/channel.\n",
       "// The kernel may be null if the page has been refreshed.\n",
       "if (IPython.notebook.kernel != null) {\n",
       "    IPython.notebook.kernel.comm_manager.register_target('matplotlib', mpl.mpl_figure_comm);\n",
       "}\n"
      ],
      "text/plain": [
       "<IPython.core.display.Javascript object>"
      ]
     },
     "metadata": {},
     "output_type": "display_data"
    },
    {
     "data": {
      "text/html": [
       "<img src=\"data:image/png;base64,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\">"
      ],
      "text/plain": [
       "<IPython.core.display.HTML object>"
      ]
     },
     "metadata": {},
     "output_type": "display_data"
    },
    {
     "name": "stdout",
     "output_type": "stream",
     "text": [
      "doc2vec_size_1000_w_8_type_pv-dbow_concat_1_mean_0_trainwords_0_hs_0_neg_10_vocabsize_None_curriter_{}_iter_1000_reg_0.1\n"
     ]
    }
   ],
   "source": [
    "%matplotlib notebook\n",
    "graph = MetricsGraph()\n",
    "graph.init_graph()\n",
    "print placeholder_model_name + \"_\" + GLOBAL_VARS.SVM_MODEL_NAME\n",
    "\n",
    "for epoch in range(1,DOC2VEC_MAX_EPOCHS+1):\n",
    "    try:\n",
    "        model_name = placeholder_model_name.format(epoch)\n",
    "        metrics = pickle.load(open(os.path.join(doc2vec_model_save_location, model_name, GLOBAL_VARS.SVM_MODEL_NAME, METRICS)))\n",
    "        graph.add_metrics_to_graph(metrics, epoch)\n",
    "    except IOError:\n",
    "        break"
   ]
  },
  {
   "cell_type": "code",
   "execution_count": null,
   "metadata": {
    "collapsed": true
   },
   "outputs": [],
   "source": []
  },
  {
   "cell_type": "code",
   "execution_count": 119,
   "metadata": {
    "collapsed": false
   },
   "outputs": [
    {
     "data": {
      "text/plain": [
       "[6.0518029456576938,\n",
       " 4.3138649060436771,\n",
       " 3.7851701371254443,\n",
       " 1.4565769426104622,\n",
       " 1.3819197562214323]"
      ]
     },
     "execution_count": 119,
     "metadata": {},
     "output_type": "execute_result"
    }
   ],
   "source": [
    "[metric['coverage_error'] for metric in epoch_metrics]"
   ]
  }
 ],
 "metadata": {
  "kernelspec": {
   "display_name": "pySpark (Spark 1.6.1)",
   "language": "python",
   "name": "pyspark"
  },
  "language_info": {
   "codemirror_mode": {
    "name": "ipython",
    "version": 2
   },
   "file_extension": ".py",
   "mimetype": "text/x-python",
   "name": "python",
   "nbconvert_exporter": "python",
   "pygments_lexer": "ipython2",
   "version": "2.7.12"
  }
 },
 "nbformat": 4,
 "nbformat_minor": 0
}
