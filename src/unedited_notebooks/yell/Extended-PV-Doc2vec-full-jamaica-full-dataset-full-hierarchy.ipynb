{
 "cells": [
  {
   "cell_type": "markdown",
   "metadata": {
    "deletable": true,
    "editable": true
   },
   "source": [
    "## Creates the doc2vec vector embeddings for a specific configuration"
   ]
  },
  {
   "cell_type": "code",
   "execution_count": 1,
   "metadata": {
    "collapsed": false,
    "deletable": true,
    "editable": true
   },
   "outputs": [
    {
     "name": "stderr",
     "output_type": "stream",
     "text": [
      "ERROR (theano.sandbox.cuda): nvcc compiler not found on $PATH. Check your nvcc installation and try again.\n"
     ]
    }
   ],
   "source": [
    "import json\n",
    "import nltk\n",
    "from nltk.tokenize import RegexpTokenizer\n",
    "import string\n",
    "import math\n",
    "import os\n",
    "import time\n",
    "from collections import namedtuple\n",
    "import cPickle as pickle\n",
    "import pandas as pd\n",
    "import gzip\n",
    "\n",
    "%matplotlib inline\n",
    "import matplotlib.pyplot as plt\n",
    "import matplotlib as mpl\n",
    "import numpy as np\n",
    "import random\n",
    "\n",
    "from multiprocessing import Process, Queue\n",
    "\n",
    "from multiprocessing.dummy import Pool as ThreadPool\n",
    "import itertools\n",
    "\n",
    "from sklearn.metrics import coverage_error\n",
    "import sklearn.metrics\n",
    "from sklearn.multiclass import OneVsRestClassifier\n",
    "from sklearn import linear_model\n",
    "from sklearn.preprocessing import MultiLabelBinarizer\n",
    "\n",
    "from gensim.models.doc2vec import Doc2Vec, LabeledSentence\n",
    "\n",
    "import logging\n",
    "from logging import info\n",
    "from functools import partial\n",
    "\n",
    "from thesis.utils.metrics import *\n",
    "from thesis.utils.file import *"
   ]
  },
  {
   "cell_type": "markdown",
   "metadata": {
    "deletable": true,
    "editable": true
   },
   "source": [
    "## Global variables used throughout the script"
   ]
  },
  {
   "cell_type": "code",
   "execution_count": 2,
   "metadata": {
    "collapsed": true,
    "deletable": true,
    "editable": true
   },
   "outputs": [],
   "source": [
    "root = logging.getLogger()\n",
    "for handler in root.handlers[:]:\n",
    "    root.removeHandler(handler)\n",
    "logging.basicConfig(format='%(asctime)s : %(levelname)s : %(message)s', level=logging.INFO) # adds a default StreamHanlder\n",
    "#root.addHandler(logging.StreamHandler())"
   ]
  },
  {
   "cell_type": "code",
   "execution_count": 3,
   "metadata": {
    "collapsed": true,
    "deletable": true,
    "editable": true
   },
   "outputs": [],
   "source": [
    "SVM_SEED = 1234\n",
    "DOC2VEC_SEED = 1234"
   ]
  },
  {
   "cell_type": "code",
   "execution_count": 4,
   "metadata": {
    "collapsed": true,
    "deletable": true,
    "editable": true
   },
   "outputs": [],
   "source": [
    "MIN_WORD_COUNT = 300\n",
    "NUM_CORES = 16"
   ]
  },
  {
   "cell_type": "code",
   "execution_count": 5,
   "metadata": {
    "collapsed": true,
    "deletable": true,
    "editable": true
   },
   "outputs": [],
   "source": [
    "GLOBAL_VARS = namedtuple('GLOBAL_VARS', ['MODEL_NAME', 'DOC2VEC_MODEL_NAME', 'DOC2VEC_MODEL', \n",
    "                                         'SVM_MODEL_NAME', 'NN_MODEL_NAME'])"
   ]
  },
  {
   "cell_type": "code",
   "execution_count": 6,
   "metadata": {
    "collapsed": true,
    "deletable": true,
    "editable": true
   },
   "outputs": [],
   "source": [
    "VOCAB_MODEL = \"vocab_model\"\n",
    "MODEL_PREFIX = \"model\"\n",
    "VALIDATION_DICT = \"validation_dict.pkl\"\n",
    "TEST_MATRIX = \"test_matrix.pkl\"\n",
    "TEST_DICT = \"test_dict.pkl\"\n",
    "METRICS = \"metrics.pkl\"\n",
    "CLASSIFIER = \"classifier.pkl\"\n",
    "GZIP_EXTENSION = \".gz\""
   ]
  },
  {
   "cell_type": "code",
   "execution_count": 7,
   "metadata": {
    "collapsed": true,
    "deletable": true,
    "editable": true
   },
   "outputs": [],
   "source": [
    "root_location = \"/home/local/shalaby/\"\n",
    "exports_location = root_location + \"exported_data/\"\n",
    "\n",
    "doc2vec_model_save_location = os.path.join(root_location, \"parameter_search_doc2vec_models_extended_abs_desc_claims_full_chunks\", \"full\")\n",
    "if not os.path.exists(doc2vec_model_save_location):\n",
    "    os.makedirs(doc2vec_model_save_location)\n",
    "if not os.path.exists(os.path.join(doc2vec_model_save_location, VOCAB_MODEL)):\n",
    "    os.makedirs(os.path.join(doc2vec_model_save_location, VOCAB_MODEL))\n",
    "\n",
    "doc_classifications_map_file = exports_location + \"doc_classification_map.pkl\"\n",
    "training_docs_list_file = exports_location + \"training_docs_list.pkl\"\n",
    "validation_docs_list_file = exports_location + \"validation_docs_list.pkl\"\n",
    "test_docs_list_file = exports_location + \"test_docs_list.pkl\"\n",
    "\n",
    "preprocessed_location = root_location + \"preprocessed_data/extended_pv_abs_desc_claims_full_chunks/\"\n",
    "\n",
    "training_preprocessed_files_prefix = preprocessed_location + \"extended_pv_training_docs_data_preprocessed-\"\n",
    "validation_preprocessed_files_prefix = preprocessed_location + \"extended_pv_validation_docs_data_preprocessed-\"\n",
    "test_preprocessed_files_prefix = preprocessed_location + \"extended_pv_test_docs_data_preprocessed-\""
   ]
  },
  {
   "cell_type": "markdown",
   "metadata": {
    "deletable": true,
    "editable": true
   },
   "source": [
    "## Load general data required for classification"
   ]
  },
  {
   "cell_type": "code",
   "execution_count": 8,
   "metadata": {
    "collapsed": false,
    "deletable": true,
    "editable": true
   },
   "outputs": [
    {
     "name": "stdout",
     "output_type": "stream",
     "text": [
      "CPU times: user 27.1 s, sys: 1.5 s, total: 28.6 s\n",
      "Wall time: 28.6 s\n"
     ]
    }
   ],
   "source": [
    "%%time\n",
    "doc_classification_map = pickle.load(open(doc_classifications_map_file))\n",
    "training_docs_list = pickle.load(open(training_docs_list_file))\n",
    "validation_docs_list = pickle.load(open(validation_docs_list_file))\n",
    "test_docs_list = pickle.load(open(test_docs_list_file))"
   ]
  },
  {
   "cell_type": "code",
   "execution_count": 9,
   "metadata": {
    "collapsed": false,
    "deletable": true,
    "editable": true
   },
   "outputs": [
    {
     "data": {
      "text/plain": [
       "1286325"
      ]
     },
     "execution_count": 9,
     "metadata": {},
     "output_type": "execute_result"
    }
   ],
   "source": [
    "len(training_docs_list)"
   ]
  },
  {
   "cell_type": "code",
   "execution_count": 10,
   "metadata": {
    "collapsed": false,
    "deletable": true,
    "editable": true
   },
   "outputs": [
    {
     "data": {
      "text/plain": [
       "321473"
      ]
     },
     "execution_count": 10,
     "metadata": {},
     "output_type": "execute_result"
    }
   ],
   "source": [
    "len(validation_docs_list)"
   ]
  },
  {
   "cell_type": "code",
   "execution_count": 11,
   "metadata": {
    "collapsed": false,
    "deletable": true,
    "editable": true
   },
   "outputs": [
    {
     "data": {
      "text/plain": [
       "401877"
      ]
     },
     "execution_count": 11,
     "metadata": {},
     "output_type": "execute_result"
    }
   ],
   "source": [
    "len(test_docs_list)"
   ]
  },
  {
   "cell_type": "markdown",
   "metadata": {
    "deletable": true,
    "editable": true
   },
   "source": [
    "# Utility functions for data loading"
   ]
  },
  {
   "cell_type": "code",
   "execution_count": 12,
   "metadata": {
    "collapsed": true,
    "deletable": true,
    "editable": true
   },
   "outputs": [],
   "source": [
    "VALIDATION_MINI_BATCH_SIZE = 10000\n",
    "def get_extended_docs_with_inference_data_only(doc2vec_model, file_to_write, preprocessed_files_prefix):\n",
    "    \"\"\"\n",
    "    Use the trained doc2vec model to get the paragraph vector representations of the validation or test documents\n",
    "    \"\"\"\n",
    "\n",
    "    def infer_one_doc(doc_tuple):\n",
    "        # doc2vec_model.random = np.random.RandomState(DOC2VEC_SEED)\n",
    "        doc_id, doc_tokens = doc_tuple\n",
    "        rep = doc2vec_model.infer_vector(doc_tokens)\n",
    "        return (doc_id, rep)\n",
    "\n",
    "    if os.path.exists(os.path.join(doc2vec_model_save_location, GLOBAL_VARS.MODEL_NAME, file_to_write)):\n",
    "        info(\"===== Loading inference vectors\")\n",
    "        inference_documents_reps = pickle.load(open(os.path.join(doc2vec_model_save_location, GLOBAL_VARS.MODEL_NAME, file_to_write)))\n",
    "        info(\"Loaded inference vectors matrix\")\n",
    "    else:\n",
    "        inference_documents_reps = {}\n",
    "        info(\"===== Getting vectors with inference\")\n",
    "\n",
    "        # Multi-threaded inference\n",
    "#         inference_docs_iterator = ExtendedPVDocumentBatchGenerator(preprocessed_files_prefix, batch_size=None)\n",
    "        inference_docs_iterator = BatchClass(preprocessed_files_prefix, batch_size=None)\n",
    "        generator_func = inference_docs_iterator.__iter__()\n",
    "        # map consumes the whole iterator on the spot, so we have to use itertools.islice to fake mini-batching\n",
    "        mini_batch_size = VALIDATION_MINI_BATCH_SIZE\n",
    "        batches_run = 1\n",
    "        pool = ThreadPool(NUM_CORES)\n",
    "        while True:\n",
    "            threaded_reps_partial = pool.map(infer_one_doc, itertools.islice(generator_func, mini_batch_size))\n",
    "            info(\"Finished: {} tags\".format(batches_run * mini_batch_size))\n",
    "            batches_run += 1\n",
    "            if threaded_reps_partial:\n",
    "                # threaded_reps.extend(threaded_reps_partial)\n",
    "                inference_documents_reps.update(threaded_reps_partial)\n",
    "            else:\n",
    "                break\n",
    "                \n",
    "        pool.close()\n",
    "        pool.terminate()\n",
    "        #pool.close()\n",
    "\n",
    "        pickle.dump(inference_documents_reps,\n",
    "                    open(os.path.join(doc2vec_model_save_location, GLOBAL_VARS.MODEL_NAME, file_to_write), 'w'))\n",
    "\n",
    "    return inference_documents_reps"
   ]
  },
  {
   "cell_type": "code",
   "execution_count": 13,
   "metadata": {
    "collapsed": true,
    "deletable": true,
    "editable": true
   },
   "outputs": [],
   "source": [
    "class ExtendedPVDocumentBatchGeneratorMine(object):\n",
    "    def __init__(self, filename_prefix, batch_size=10000 ):\n",
    "        \"\"\"\n",
    "        batch_size cant be > 10,000 due to a limitation in doc2vec training, \n",
    "        None means no batching (only use for inference)\n",
    "        \"\"\"\n",
    "        assert batch_size <= 10000 or batch_size is None\n",
    "        self.filename_prefix = filename_prefix\n",
    "        self.curr_lines = []\n",
    "        self.curr_docids = []\n",
    "        self.batch_size = batch_size\n",
    "        self.curr_index = 0\n",
    "        self.curr_doc_index = 0\n",
    "        self.batch_end = -1\n",
    "    def load_new_batch_in_memory(self):\n",
    "        del self.curr_lines, self.curr_docids\n",
    "        self.curr_lines, self.curr_docids = [], []\n",
    "        info(\"Loading new batch for index: {}\".format(self.curr_doc_index))\n",
    "        #if self.curr_doc_index > 0: self.curr_doc_index -= 1\n",
    "        true_docs_count = 0\n",
    "        try:\n",
    "            with open(self.filename_prefix + str(self.curr_doc_index)) as preproc_file:\n",
    "                for line in preproc_file:\n",
    "                    line_array = line.split(\" \")\n",
    "                    doc_id = line_array[0]\n",
    "                    doc_tokens = line_array[1:]\n",
    "                    self.curr_lines.append(doc_tokens)\n",
    "                    self.curr_docids.append(doc_id)\n",
    "                    if is_real_doc(doc_id):\n",
    "                        true_docs_count+= 1\n",
    "            self.batch_end = self.curr_doc_index + true_docs_count - 1 \n",
    "            info(\"Finished loading new batch of {} documents\".format(true_docs_count))\n",
    "        except IOError:\n",
    "            info(\"No more batches to load, exiting at index: {}\".format(self.curr_index))\n",
    "            raise StopIteration()\n",
    "    def __iter__(self):\n",
    "        while True:\n",
    "            if self.curr_doc_index > self.batch_end:\n",
    "                self.load_new_batch_in_memory()\n",
    "            for (doc_id, tokens) in zip(self.curr_docids, self.curr_lines):\n",
    "                if self.batch_size is not None:\n",
    "                    curr_batch_iter = 0\n",
    "                    # divide the document to batches according to the batch size\n",
    "                    while curr_batch_iter < len(tokens):\n",
    "                        yield LabeledSentence(words=tokens[curr_batch_iter: curr_batch_iter + self.batch_size], tags=[doc_id])\n",
    "                        curr_batch_iter += self.batch_size\n",
    "                else:\n",
    "                    yield doc_id, tokens\n",
    "                self.curr_index += 1\n",
    "                # increment only for full docs\n",
    "                if is_real_doc(doc_id):\n",
    "                    self.curr_doc_index += 1\n",
    "                    if self.curr_doc_index % 1000 == 0:\n",
    "                        info(\"New Doc: {:5}, Batch End: {:5}\".format(self.curr_doc_index, self.batch_end))\n",
    "\n",
    "def is_real_doc(doc_id):\n",
    "    return doc_id.find(\"_\") == -1\n",
    "\n",
    "\n",
    "\n",
    "\n",
    "\n",
    "\n",
    "class ExtendedPVDocumentBatchGenerator(Process):\n",
    "    def __init__(self, filename_prefix, queue, batch_size=10000, start_file=0, offset=10000):\n",
    "        \"\"\"\n",
    "        batch_size cant be > 10,000 due to a limitation in doc2vec training, \n",
    "        None means no batching (only use for inference)\n",
    "        \"\"\"\n",
    "        assert batch_size <= 10000 or batch_size is None\n",
    "        super(ExtendedPVDocumentBatchGenerator, self).__init__()\n",
    "        self.queue = queue\n",
    "        self.offset = offset\n",
    "        self.filename_prefix = filename_prefix\n",
    "        self.batch_size = batch_size\n",
    "        self.cur_file = None\n",
    "        self.files_loaded = start_file - offset\n",
    "\n",
    "    def line_processing(self, line, batch_size):\n",
    "        line_array = tuple(line.split(\" \"))\n",
    "        doc_id = line_array[0]\n",
    "        line_array = line_array[1:]\n",
    "        len_line_array = len(line_array)\n",
    "        # divide the document to batches according to the batch size\n",
    "        if batch_size is not None:\n",
    "            curr_batch_iter = 0\n",
    "            while curr_batch_iter < len_line_array:\n",
    "                self.queue.put(LabeledSentence(words=line_array[curr_batch_iter: curr_batch_iter + batch_size], tags=[doc_id]), block=True, timeout=None)\n",
    "                curr_batch_iter += batch_size\n",
    "        else:\n",
    "            self.queue.put((doc_id, line_array), block=True, timeout=None)\n",
    "        return\n",
    "\n",
    "    def run(self):\n",
    "        while True:\n",
    "            try:\n",
    "                if self.cur_file is None:\n",
    "                    info(\"Loading new file for index: {}\".format(str(self.files_loaded + self.offset)))\n",
    "                    self.cur_file = gzip.open(self.filename_prefix + str(self.files_loaded + self.offset) + GZIP_EXTENSION)\n",
    "                    self.files_loaded += self.offset\n",
    "                for line in self.cur_file:\n",
    "                    self.line_processing(line, self.batch_size)\n",
    "                self.cur_file.close()\n",
    "                self.cur_file = None\n",
    "            except IOError:\n",
    "                self.queue.put(False, block=True, timeout=None)\n",
    "                info(\"All files are loaded - last file: {}\".format(str(self.files_loaded + self.offset)))\n",
    "                return\n",
    "\n",
    "\n",
    "class BatchWrapper(object):\n",
    "    def __init__(self, training_preprocessed_files_prefix, buffer_size=10000, batch_size=10000):\n",
    "        self.q = Queue(maxsize=buffer_size)\n",
    "        self.p = ExtendedPVDocumentBatchGenerator(training_preprocessed_files_prefix, queue=self.q,\n",
    "                                                  batch_size=batch_size, start_file=0, offset=10000)\n",
    "        self.p.start()\n",
    "        self.cur_data = []\n",
    "\n",
    "    def __iter__(self):\n",
    "        while True:\n",
    "            item = self.q.get(block=True)\n",
    "            if item is False:\n",
    "                raise StopIteration()\n",
    "            else:\n",
    "                yield item"
   ]
  },
  {
   "cell_type": "markdown",
   "metadata": {
    "deletable": true,
    "editable": true
   },
   "source": [
    "# Doc2vec and SVM Parameters"
   ]
  },
  {
   "cell_type": "code",
   "execution_count": 14,
   "metadata": {
    "collapsed": true,
    "deletable": true,
    "editable": true
   },
   "outputs": [],
   "source": [
    "DOC2VEC_SIZE = 200\n",
    "DOC2VEC_WINDOW = 2\n",
    "DOC2VEC_MAX_VOCAB_SIZE = None\n",
    "DOC2VEC_SAMPLE = 1e-3\n",
    "DOC2VEC_TYPE = 1\n",
    "DOC2VEC_HIERARCHICAL_SAMPLE = 0\n",
    "DOC2VEC_NEGATIVE_SAMPLE_SIZE = 10\n",
    "DOC2VEC_CONCAT = 0\n",
    "DOC2VEC_MEAN = 1\n",
    "DOC2VEC_TRAIN_WORDS = 0\n",
    "DOC2VEC_EPOCHS = 1 # we do our training manually one epoch at a time\n",
    "DOC2VEC_MAX_EPOCHS = 8\n",
    "REPORT_DELAY = 20 # report the progress every x seconds\n",
    "REPORT_VOCAB_PROGRESS = 100000 # report vocab progress every x documents"
   ]
  },
  {
   "cell_type": "markdown",
   "metadata": {
    "deletable": true,
    "editable": true
   },
   "source": [
    "## Create the Doc2vec model"
   ]
  },
  {
   "cell_type": "code",
   "execution_count": 15,
   "metadata": {
    "collapsed": false,
    "deletable": true,
    "editable": true
   },
   "outputs": [
    {
     "data": {
      "text/plain": [
       "'doc2vec_size_200_w_2_type_dm_concat_0_mean_1_trainwords_0_hs_0_neg_10_vocabsize_None/epoch_{}'"
      ]
     },
     "execution_count": 15,
     "metadata": {},
     "output_type": "execute_result"
    }
   ],
   "source": [
    "placeholder_model_name = 'doc2vec_size_{}_w_{}_type_{}_concat_{}_mean_{}_trainwords_{}_hs_{}_neg_{}_vocabsize_{}'.format(DOC2VEC_SIZE, \n",
    "                                                                DOC2VEC_WINDOW, \n",
    "                                                                'dm' if DOC2VEC_TYPE == 1 else 'pv-dbow',\n",
    "                                                                DOC2VEC_CONCAT, DOC2VEC_MEAN,\n",
    "                                                                DOC2VEC_TRAIN_WORDS,\n",
    "                                                                DOC2VEC_HIERARCHICAL_SAMPLE,DOC2VEC_NEGATIVE_SAMPLE_SIZE,\n",
    "                                                                str(DOC2VEC_MAX_VOCAB_SIZE))\n",
    "GLOBAL_VARS.DOC2VEC_MODEL_NAME = placeholder_model_name\n",
    "placeholder_model_name = os.path.join(placeholder_model_name, \"epoch_{}\")\n",
    "placeholder_model_name"
   ]
  },
  {
   "cell_type": "code",
   "execution_count": 16,
   "metadata": {
    "collapsed": true,
    "deletable": true,
    "editable": true
   },
   "outputs": [],
   "source": [
    "doc2vec_model = Doc2Vec(size=DOC2VEC_SIZE , window=DOC2VEC_WINDOW, min_count=MIN_WORD_COUNT, \n",
    "                max_vocab_size= DOC2VEC_MAX_VOCAB_SIZE,\n",
    "                sample=DOC2VEC_SAMPLE, seed=DOC2VEC_SEED, workers=NUM_CORES,\n",
    "                # doc2vec algorithm dm=1 => PV-DM, dm=2 => PV-DBOW, PV-DM dictates CBOW for words\n",
    "                dm=DOC2VEC_TYPE,\n",
    "                # hs=0 => negative sampling, hs=1 => hierarchical softmax\n",
    "                hs=DOC2VEC_HIERARCHICAL_SAMPLE, negative=DOC2VEC_NEGATIVE_SAMPLE_SIZE,\n",
    "                dm_concat=DOC2VEC_CONCAT,\n",
    "                # would train words with skip-gram on top of cbow, we don't need that for now\n",
    "                dbow_words=DOC2VEC_TRAIN_WORDS,\n",
    "                iter=DOC2VEC_EPOCHS)\n",
    "\n",
    "GLOBAL_VARS.DOC2VEC_MODEL = doc2vec_model"
   ]
  },
  {
   "cell_type": "markdown",
   "metadata": {
    "deletable": true,
    "editable": true
   },
   "source": [
    "## First: construct (or load) the vocabulary\n",
    "Only needed to be run if you dont already haave at least one epoch computed, otherwise, just set the start_from (below) to the epoch you want to restart from"
   ]
  },
  {
   "cell_type": "code",
   "execution_count": 20,
   "metadata": {
    "collapsed": false,
    "deletable": true,
    "editable": true,
    "scrolled": true
   },
   "outputs": [
    {
     "name": "stderr",
     "output_type": "stream",
     "text": [
      "2017-04-06 05:57:37,601 : INFO : loading Doc2Vec object from /mnt/virtual-machines/data/parameter_search_doc2vec_models_extended_abs_desc_claims_full_chunks/full/vocab_model/model\n",
      "2017-04-06 05:57:37,602 : INFO : Loading new file for index: 0\n",
      "2017-04-06 06:00:49,254 : INFO : loading docvecs recursively from /mnt/virtual-machines/data/parameter_search_doc2vec_models_extended_abs_desc_claims_full_chunks/full/vocab_model/model.docvecs.* with mmap=None\n",
      "2017-04-06 06:00:49,255 : INFO : loading doctag_syn0 from /mnt/virtual-machines/data/parameter_search_doc2vec_models_extended_abs_desc_claims_full_chunks/full/vocab_model/model.docvecs.doctag_syn0.npy with mmap=None\n",
      "2017-04-06 06:01:07,168 : INFO : loading doctag_syn0_lockf from /mnt/virtual-machines/data/parameter_search_doc2vec_models_extended_abs_desc_claims_full_chunks/full/vocab_model/model.docvecs.doctag_syn0_lockf.npy with mmap=None\n",
      "2017-04-06 06:01:07,265 : INFO : loading syn1neg from /mnt/virtual-machines/data/parameter_search_doc2vec_models_extended_abs_desc_claims_full_chunks/full/vocab_model/model.syn1neg.npy with mmap=None\n",
      "2017-04-06 06:01:07,441 : INFO : loading syn0 from /mnt/virtual-machines/data/parameter_search_doc2vec_models_extended_abs_desc_claims_full_chunks/full/vocab_model/model.syn0.npy with mmap=None\n",
      "2017-04-06 06:01:07,617 : INFO : setting ignored attribute syn0norm to None\n",
      "2017-04-06 06:01:07,618 : INFO : setting ignored attribute cum_table to None\n",
      "2017-04-06 06:01:08,595 : INFO : resetting layer weights\n"
     ]
    },
    {
     "name": "stdout",
     "output_type": "stream",
     "text": [
      "CPU times: user 12min 50s, sys: 1min 9s, total: 14min\n",
      "Wall time: 14min\n"
     ]
    }
   ],
   "source": [
    "%%time\n",
    "# training_docs_iterator = ExtendedPVDocumentBatchGenerator(training_preprocessed_files_prefix, batch_size=10000)\n",
    "training_docs_iterator = BatchClass(training_preprocessed_files_prefix, batch_size=10000)\n",
    "if not os.path.exists(os.path.join(doc2vec_model_save_location, VOCAB_MODEL, MODEL_PREFIX)):\n",
    "    doc2vec_model.build_vocab(sentences=training_docs_iterator, progress_per=REPORT_VOCAB_PROGRESS)\n",
    "    doc2vec_model.save(os.path.join(doc2vec_model_save_location, VOCAB_MODEL, MODEL_PREFIX))\n",
    "else:\n",
    "    doc2vec_model_vocab_model = Doc2Vec.load(os.path.join(doc2vec_model_save_location, VOCAB_MODEL, MODEL_PREFIX))\n",
    "    doc2vec_model.reset_from(doc2vec_model_vocab_model)"
   ]
  },
  {
   "cell_type": "code",
   "execution_count": 21,
   "metadata": {
    "collapsed": true,
    "deletable": true,
    "editable": true
   },
   "outputs": [],
   "source": [
    "# vocab_counts = {k:doc2vec_model.vocab[k].count for k in doc2vec_model.vocab.keys()}\n",
    "# dd = sorted(vocab_counts, key=vocab_counts.get)"
   ]
  },
  {
   "cell_type": "markdown",
   "metadata": {
    "deletable": true,
    "editable": true
   },
   "source": [
    "## Actual Training, validation and Metrics Loop"
   ]
  },
  {
   "cell_type": "code",
   "execution_count": 20,
   "metadata": {
    "collapsed": true,
    "deletable": true,
    "editable": true
   },
   "outputs": [],
   "source": [
    "doc2vec_model.min_alpha = 0.025\n",
    "DOC2VEC_ALPHA_DECREASE = 0.001"
   ]
  },
  {
   "cell_type": "code",
   "execution_count": 21,
   "metadata": {
    "collapsed": false,
    "deletable": true,
    "editable": true
   },
   "outputs": [
    {
     "data": {
      "text/plain": [
       "16"
      ]
     },
     "execution_count": 21,
     "metadata": {},
     "output_type": "execute_result"
    }
   ],
   "source": [
    "doc2vec_model.workers"
   ]
  },
  {
   "cell_type": "code",
   "execution_count": 20,
   "metadata": {
    "collapsed": true,
    "deletable": true,
    "editable": true
   },
   "outputs": [],
   "source": [
    "doc2vec_model.workers = NUM_CORES"
   ]
  },
  {
   "cell_type": "code",
   "execution_count": 21,
   "metadata": {
    "collapsed": true,
    "deletable": true,
    "editable": true
   },
   "outputs": [],
   "source": [
    "BatchClass = BatchWrapper\n",
    "# BatchClass = ExtendedPVDocumentBatchGeneratorMine"
   ]
  },
  {
   "cell_type": "code",
   "execution_count": 21,
   "metadata": {
    "collapsed": false,
    "deletable": true,
    "editable": true,
    "scrolled": false
   },
   "outputs": [
    {
     "name": "stderr",
     "output_type": "stream",
     "text": [
      "2017-04-10 12:28:09,227 : INFO : ****************** Epoch 8 --- Working on doc2vec_size_200_w_2_type_dm_concat_0_mean_1_trainwords_0_hs_0_neg_10_vocabsize_None/epoch_8 *******************\n",
      "2017-04-10 12:28:09,228 : INFO : loading Doc2Vec object from /mnt/virtual-machines/data/parameter_search_doc2vec_models_extended_abs_desc_claims_full_chunks/full/doc2vec_size_200_w_2_type_dm_concat_0_mean_1_trainwords_0_hs_0_neg_10_vocabsize_None/epoch_8/model\n",
      "2017-04-10 12:31:51,008 : INFO : loading docvecs recursively from /mnt/virtual-machines/data/parameter_search_doc2vec_models_extended_abs_desc_claims_full_chunks/full/doc2vec_size_200_w_2_type_dm_concat_0_mean_1_trainwords_0_hs_0_neg_10_vocabsize_None/epoch_8/model.docvecs.* with mmap=None\n",
      "2017-04-10 12:31:51,009 : INFO : loading doctag_syn0 from /mnt/virtual-machines/data/parameter_search_doc2vec_models_extended_abs_desc_claims_full_chunks/full/doc2vec_size_200_w_2_type_dm_concat_0_mean_1_trainwords_0_hs_0_neg_10_vocabsize_None/epoch_8/model.docvecs.doctag_syn0.npy with mmap=None\n",
      "2017-04-10 12:32:49,817 : INFO : loading doctag_syn0_lockf from /mnt/virtual-machines/data/parameter_search_doc2vec_models_extended_abs_desc_claims_full_chunks/full/doc2vec_size_200_w_2_type_dm_concat_0_mean_1_trainwords_0_hs_0_neg_10_vocabsize_None/epoch_8/model.docvecs.doctag_syn0_lockf.npy with mmap=None\n",
      "2017-04-10 12:32:50,882 : INFO : loading syn1neg from /mnt/virtual-machines/data/parameter_search_doc2vec_models_extended_abs_desc_claims_full_chunks/full/doc2vec_size_200_w_2_type_dm_concat_0_mean_1_trainwords_0_hs_0_neg_10_vocabsize_None/epoch_8/model.syn1neg.npy with mmap=None\n",
      "2017-04-10 12:32:52,992 : INFO : loading syn0 from /mnt/virtual-machines/data/parameter_search_doc2vec_models_extended_abs_desc_claims_full_chunks/full/doc2vec_size_200_w_2_type_dm_concat_0_mean_1_trainwords_0_hs_0_neg_10_vocabsize_None/epoch_8/model.syn0.npy with mmap=None\n",
      "2017-04-10 12:32:55,115 : INFO : setting ignored attribute syn0norm to None\n",
      "2017-04-10 12:32:55,115 : INFO : setting ignored attribute cum_table to None\n",
      "2017-04-10 12:32:55,116 : INFO : loaded /mnt/virtual-machines/data/parameter_search_doc2vec_models_extended_abs_desc_claims_full_chunks/full/doc2vec_size_200_w_2_type_dm_concat_0_mean_1_trainwords_0_hs_0_neg_10_vocabsize_None/epoch_8/model\n"
     ]
    },
    {
     "name": "stdout",
     "output_type": "stream",
     "text": [
      "CPU times: user 2min 56s, sys: 55.9 s, total: 3min 52s\n",
      "Wall time: 4min 47s\n"
     ]
    }
   ],
   "source": [
    "%%time\n",
    "# when resuming, resume from an epoch with a previously created doc2vec model to get the learning rate right\n",
    "start_from = 8\n",
    "for epoch in range(start_from, DOC2VEC_MAX_EPOCHS+1):\n",
    "    GLOBAL_VARS.MODEL_NAME = placeholder_model_name.format(epoch)\n",
    "    info(\"****************** Epoch {} --- Working on {} *******************\".format(epoch, GLOBAL_VARS.MODEL_NAME))\n",
    "    \n",
    "    # if we have the model, just load it, otherwise train the previous model\n",
    "    if os.path.exists(os.path.join(doc2vec_model_save_location, GLOBAL_VARS.MODEL_NAME, MODEL_PREFIX)):\n",
    "        doc2vec_model = Doc2Vec.load(os.path.join(doc2vec_model_save_location, GLOBAL_VARS.MODEL_NAME, MODEL_PREFIX))\n",
    "        doc2vec_model.workers = NUM_CORES\n",
    "        GLOBAL_VARS.DOC2VEC_MODEL = doc2vec_model\n",
    "    else:\n",
    "        # train the doc2vec model\n",
    "#         training_docs_iterator = ExtendedPVDocumentBatchGenerator(training_preprocessed_files_prefix, batch_size=10000)\n",
    "        training_docs_iterator = BatchClass(training_preprocessed_files_prefix, batch_size=10000)\n",
    "        %time doc2vec_model.train(sentences=training_docs_iterator, report_delay=REPORT_DELAY)\n",
    "        doc2vec_model.alpha -= DOC2VEC_ALPHA_DECREASE  # decrease the learning rate\n",
    "        doc2vec_model.min_alpha = doc2vec_model.alpha  # fix the learning rate, no decay\n",
    "        ensure_disk_location_exists(os.path.join(doc2vec_model_save_location, GLOBAL_VARS.MODEL_NAME))\n",
    "        doc2vec_model.save(os.path.join(doc2vec_model_save_location, GLOBAL_VARS.MODEL_NAME, MODEL_PREFIX))\n",
    "        GLOBAL_VARS.DOC2VEC_MODEL = doc2vec_model\n",
    "        \n",
    "    # only do the inference for higher epochs, as inference usually takes as much time as the actual training\n",
    "    if epoch > 7:\n",
    "        # Validation Embeddings\n",
    "        info('Getting Validation Embeddings')\n",
    "        Xv = get_extended_docs_with_inference_data_only(doc2vec_model, VALIDATION_DICT, \n",
    "                                         validation_preprocessed_files_prefix)"
   ]
  },
  {
   "cell_type": "markdown",
   "metadata": {
    "deletable": true,
    "editable": true
   },
   "source": [
    "## Inference Only (if needed)"
   ]
  },
  {
   "cell_type": "code",
   "execution_count": 17,
   "metadata": {
    "collapsed": true,
    "deletable": true,
    "editable": true
   },
   "outputs": [],
   "source": [
    "NUM_CORES = 8"
   ]
  },
  {
   "cell_type": "code",
   "execution_count": 18,
   "metadata": {
    "collapsed": true
   },
   "outputs": [],
   "source": [
    "BatchClass = BatchWrapper\n",
    "# BatchClass = ExtendedPVDocumentBatchGeneratorMine"
   ]
  },
  {
   "cell_type": "code",
   "execution_count": 19,
   "metadata": {
    "collapsed": false,
    "deletable": true,
    "editable": true
   },
   "outputs": [
    {
     "name": "stderr",
     "output_type": "stream",
     "text": [
      "2017-04-10 17:42:16,891 : INFO : loading Doc2Vec object from /home/local/shalaby/parameter_search_doc2vec_models_extended_abs_desc_claims_full_chunks/full/doc2vec_size_200_w_2_type_dm_concat_0_mean_1_trainwords_0_hs_0_neg_10_vocabsize_None/epoch_8/model\n",
      "2017-04-10 17:46:13,800 : INFO : loading docvecs recursively from /home/local/shalaby/parameter_search_doc2vec_models_extended_abs_desc_claims_full_chunks/full/doc2vec_size_200_w_2_type_dm_concat_0_mean_1_trainwords_0_hs_0_neg_10_vocabsize_None/epoch_8/model.docvecs.* with mmap=None\n",
      "2017-04-10 17:46:13,803 : INFO : loading doctag_syn0 from /home/local/shalaby/parameter_search_doc2vec_models_extended_abs_desc_claims_full_chunks/full/doc2vec_size_200_w_2_type_dm_concat_0_mean_1_trainwords_0_hs_0_neg_10_vocabsize_None/epoch_8/model.docvecs.doctag_syn0.npy with mmap=None\n",
      "2017-04-10 17:46:32,185 : INFO : loading doctag_syn0_lockf from /home/local/shalaby/parameter_search_doc2vec_models_extended_abs_desc_claims_full_chunks/full/doc2vec_size_200_w_2_type_dm_concat_0_mean_1_trainwords_0_hs_0_neg_10_vocabsize_None/epoch_8/model.docvecs.doctag_syn0_lockf.npy with mmap=None\n",
      "2017-04-10 17:46:32,279 : INFO : loading syn1neg from /home/local/shalaby/parameter_search_doc2vec_models_extended_abs_desc_claims_full_chunks/full/doc2vec_size_200_w_2_type_dm_concat_0_mean_1_trainwords_0_hs_0_neg_10_vocabsize_None/epoch_8/model.syn1neg.npy with mmap=None\n",
      "2017-04-10 17:46:32,472 : INFO : loading syn0 from /home/local/shalaby/parameter_search_doc2vec_models_extended_abs_desc_claims_full_chunks/full/doc2vec_size_200_w_2_type_dm_concat_0_mean_1_trainwords_0_hs_0_neg_10_vocabsize_None/epoch_8/model.syn0.npy with mmap=None\n",
      "2017-04-10 17:46:32,665 : INFO : setting ignored attribute syn0norm to None\n",
      "2017-04-10 17:46:32,666 : INFO : setting ignored attribute cum_table to None\n"
     ]
    }
   ],
   "source": [
    "epoch = 8\n",
    "GLOBAL_VARS.MODEL_NAME = placeholder_model_name.format(epoch)\n",
    "\n",
    "if os.path.exists(os.path.join(doc2vec_model_save_location, GLOBAL_VARS.MODEL_NAME, MODEL_PREFIX)):\n",
    "    doc2vec_model = Doc2Vec.load(os.path.join(doc2vec_model_save_location, GLOBAL_VARS.MODEL_NAME, MODEL_PREFIX))\n",
    "    doc2vec_model.workers = NUM_CORES\n",
    "    GLOBAL_VARS.DOC2VEC_MODEL = doc2vec_model"
   ]
  },
  {
   "cell_type": "code",
   "execution_count": 32,
   "metadata": {
    "collapsed": false,
    "deletable": true,
    "editable": true
   },
   "outputs": [
    {
     "name": "stderr",
     "output_type": "stream",
     "text": [
      "2017-04-10 19:19:21,551 : INFO : ===== Getting vectors with inference\n",
      "2017-04-10 19:19:21,942 : INFO : Loading new file for index: 0\n",
      "2017-04-10 19:20:09,369 : INFO : Finished: 10000 tags\n",
      "2017-04-10 19:20:52,153 : INFO : Finished: 20000 tags\n",
      "2017-04-10 19:21:39,348 : INFO : Finished: 30000 tags\n",
      "2017-04-10 19:22:22,714 : INFO : Finished: 40000 tags\n",
      "2017-04-10 19:23:03,809 : INFO : Finished: 50000 tags\n",
      "2017-04-10 19:23:46,869 : INFO : Finished: 60000 tags\n",
      "2017-04-10 19:24:29,651 : INFO : Finished: 70000 tags\n",
      "2017-04-10 19:25:13,027 : INFO : Finished: 80000 tags\n",
      "2017-04-10 19:26:04,369 : INFO : Finished: 90000 tags\n",
      "2017-04-10 19:26:47,052 : INFO : Finished: 100000 tags\n",
      "2017-04-10 19:27:26,472 : INFO : Finished: 110000 tags\n",
      "2017-04-10 19:28:07,424 : INFO : Finished: 120000 tags\n",
      "2017-04-10 19:28:49,453 : INFO : Finished: 130000 tags\n",
      "2017-04-10 19:29:34,545 : INFO : Finished: 140000 tags\n",
      "2017-04-10 19:30:15,714 : INFO : Finished: 150000 tags\n",
      "2017-04-10 19:30:53,614 : INFO : Finished: 160000 tags\n",
      "2017-04-10 19:31:37,567 : INFO : Finished: 170000 tags\n",
      "2017-04-10 19:32:19,002 : INFO : Finished: 180000 tags\n",
      "2017-04-10 19:33:00,615 : INFO : Finished: 190000 tags\n",
      "2017-04-10 19:33:42,258 : INFO : Finished: 200000 tags\n",
      "2017-04-10 19:34:22,355 : INFO : Finished: 210000 tags\n",
      "2017-04-10 19:35:04,120 : INFO : Finished: 220000 tags\n",
      "2017-04-10 19:35:47,537 : INFO : Finished: 230000 tags\n",
      "2017-04-10 19:36:35,189 : INFO : Finished: 240000 tags\n",
      "2017-04-10 19:37:14,013 : INFO : Finished: 250000 tags\n",
      "2017-04-10 19:37:53,593 : INFO : Finished: 260000 tags\n",
      "2017-04-10 19:38:33,883 : INFO : Finished: 270000 tags\n",
      "2017-04-10 19:39:13,252 : INFO : Finished: 280000 tags\n",
      "2017-04-10 19:39:53,672 : INFO : Finished: 290000 tags\n",
      "2017-04-10 19:40:35,683 : INFO : Finished: 300000 tags\n",
      "2017-04-10 19:41:14,374 : INFO : Finished: 310000 tags\n",
      "2017-04-10 19:41:54,664 : INFO : Finished: 320000 tags\n",
      "2017-04-10 19:41:58,169 : INFO : Loading new file for index: 10000\n",
      "2017-04-10 19:42:38,722 : INFO : Finished: 330000 tags\n",
      "2017-04-10 19:43:20,786 : INFO : Finished: 340000 tags\n",
      "2017-04-10 19:44:02,601 : INFO : Finished: 350000 tags\n",
      "2017-04-10 19:44:44,243 : INFO : Finished: 360000 tags\n",
      "2017-04-10 19:45:25,896 : INFO : Finished: 370000 tags\n",
      "2017-04-10 19:46:08,866 : INFO : Finished: 380000 tags\n",
      "2017-04-10 19:46:53,054 : INFO : Finished: 390000 tags\n",
      "2017-04-10 19:47:32,803 : INFO : Finished: 400000 tags\n",
      "2017-04-10 19:48:16,156 : INFO : Finished: 410000 tags\n",
      "2017-04-10 19:48:57,090 : INFO : Finished: 420000 tags\n",
      "2017-04-10 19:49:37,319 : INFO : Finished: 430000 tags\n",
      "2017-04-10 19:50:20,047 : INFO : Finished: 440000 tags\n",
      "2017-04-10 19:51:05,356 : INFO : Finished: 450000 tags\n",
      "2017-04-10 19:51:46,993 : INFO : Finished: 460000 tags\n",
      "2017-04-10 19:52:29,242 : INFO : Finished: 470000 tags\n",
      "2017-04-10 19:53:08,977 : INFO : Finished: 480000 tags\n",
      "2017-04-10 19:53:54,610 : INFO : Finished: 490000 tags\n",
      "2017-04-10 19:54:39,203 : INFO : Finished: 500000 tags\n",
      "2017-04-10 19:55:20,095 : INFO : Finished: 510000 tags\n",
      "2017-04-10 19:56:00,701 : INFO : Finished: 520000 tags\n",
      "2017-04-10 19:56:43,382 : INFO : Finished: 530000 tags\n",
      "2017-04-10 19:57:23,553 : INFO : Finished: 540000 tags\n",
      "2017-04-10 19:58:07,353 : INFO : Finished: 550000 tags\n",
      "2017-04-10 19:58:50,486 : INFO : Finished: 560000 tags\n",
      "2017-04-10 19:59:34,355 : INFO : Finished: 570000 tags\n",
      "2017-04-10 20:00:16,559 : INFO : Finished: 580000 tags\n",
      "2017-04-10 20:00:56,667 : INFO : Finished: 590000 tags\n",
      "2017-04-10 20:01:39,019 : INFO : Finished: 600000 tags\n",
      "2017-04-10 20:02:18,494 : INFO : Finished: 610000 tags\n",
      "2017-04-10 20:03:01,276 : INFO : Finished: 620000 tags\n",
      "2017-04-10 20:03:45,045 : INFO : Finished: 630000 tags\n",
      "2017-04-10 20:04:29,646 : INFO : Finished: 640000 tags\n",
      "2017-04-10 20:05:12,061 : INFO : Finished: 650000 tags\n",
      "2017-04-10 20:05:54,410 : INFO : Finished: 660000 tags\n",
      "2017-04-10 20:05:57,635 : INFO : Loading new file for index: 20000\n",
      "2017-04-10 20:06:35,025 : INFO : Finished: 670000 tags\n",
      "2017-04-10 20:07:16,614 : INFO : Finished: 680000 tags\n",
      "2017-04-10 20:07:58,505 : INFO : Finished: 690000 tags\n",
      "2017-04-10 20:08:39,487 : INFO : Finished: 700000 tags\n",
      "2017-04-10 20:09:20,112 : INFO : Finished: 710000 tags\n",
      "2017-04-10 20:10:00,773 : INFO : Finished: 720000 tags\n",
      "2017-04-10 20:10:45,238 : INFO : Finished: 730000 tags\n",
      "2017-04-10 20:11:26,453 : INFO : Finished: 740000 tags\n",
      "2017-04-10 20:12:09,213 : INFO : Finished: 750000 tags\n",
      "2017-04-10 20:12:50,558 : INFO : Finished: 760000 tags\n",
      "2017-04-10 20:13:31,691 : INFO : Finished: 770000 tags\n",
      "2017-04-10 20:14:12,949 : INFO : Finished: 780000 tags\n",
      "2017-04-10 20:14:52,317 : INFO : Finished: 790000 tags\n",
      "2017-04-10 20:15:34,575 : INFO : Finished: 800000 tags\n",
      "2017-04-10 20:16:14,538 : INFO : Finished: 810000 tags\n",
      "2017-04-10 20:16:54,620 : INFO : Finished: 820000 tags\n",
      "2017-04-10 20:17:37,621 : INFO : Finished: 830000 tags\n",
      "2017-04-10 20:18:21,303 : INFO : Finished: 840000 tags\n",
      "2017-04-10 20:19:03,200 : INFO : Finished: 850000 tags\n",
      "2017-04-10 20:19:43,960 : INFO : Finished: 860000 tags\n",
      "2017-04-10 20:20:25,661 : INFO : Finished: 870000 tags\n",
      "2017-04-10 20:21:07,193 : INFO : Finished: 880000 tags\n",
      "2017-04-10 20:21:50,625 : INFO : Finished: 890000 tags\n",
      "2017-04-10 20:22:31,926 : INFO : Finished: 900000 tags\n",
      "2017-04-10 20:23:14,703 : INFO : Finished: 910000 tags\n",
      "2017-04-10 20:23:53,414 : INFO : Finished: 920000 tags\n",
      "2017-04-10 20:24:35,721 : INFO : Finished: 930000 tags\n",
      "2017-04-10 20:25:14,920 : INFO : Finished: 940000 tags\n",
      "2017-04-10 20:25:54,757 : INFO : Finished: 950000 tags\n",
      "2017-04-10 20:26:39,047 : INFO : Finished: 960000 tags\n",
      "2017-04-10 20:27:22,152 : INFO : Finished: 970000 tags\n",
      "2017-04-10 20:28:02,089 : INFO : Finished: 980000 tags\n",
      "2017-04-10 20:28:43,620 : INFO : Finished: 990000 tags\n",
      "2017-04-10 20:29:21,518 : INFO : Finished: 1000000 tags\n",
      "2017-04-10 20:29:24,600 : INFO : Loading new file for index: 30000\n",
      "2017-04-10 20:30:04,495 : INFO : Finished: 1010000 tags\n",
      "2017-04-10 20:30:47,350 : INFO : Finished: 1020000 tags\n",
      "2017-04-10 20:31:28,229 : INFO : Finished: 1030000 tags\n",
      "2017-04-10 20:32:13,113 : INFO : Finished: 1040000 tags\n",
      "2017-04-10 20:32:56,258 : INFO : Finished: 1050000 tags\n",
      "2017-04-10 20:33:35,815 : INFO : Finished: 1060000 tags\n",
      "2017-04-10 20:34:23,701 : INFO : Finished: 1070000 tags\n",
      "2017-04-10 20:35:04,801 : INFO : Finished: 1080000 tags\n",
      "2017-04-10 20:35:48,182 : INFO : Finished: 1090000 tags\n",
      "2017-04-10 20:36:30,536 : INFO : Finished: 1100000 tags\n",
      "2017-04-10 20:37:12,270 : INFO : Finished: 1110000 tags\n",
      "2017-04-10 20:37:56,815 : INFO : Finished: 1120000 tags\n",
      "2017-04-10 20:38:38,847 : INFO : Finished: 1130000 tags\n",
      "2017-04-10 20:39:21,274 : INFO : Finished: 1140000 tags\n",
      "2017-04-10 20:40:02,737 : INFO : Finished: 1150000 tags\n",
      "2017-04-10 20:40:45,790 : INFO : Finished: 1160000 tags\n",
      "2017-04-10 20:41:25,300 : INFO : Finished: 1170000 tags\n",
      "2017-04-10 20:42:09,189 : INFO : Finished: 1180000 tags\n",
      "2017-04-10 20:42:53,717 : INFO : Finished: 1190000 tags\n",
      "2017-04-10 20:43:35,904 : INFO : Finished: 1200000 tags\n",
      "2017-04-10 20:44:21,174 : INFO : Finished: 1210000 tags\n",
      "2017-04-10 20:45:04,327 : INFO : Finished: 1220000 tags\n",
      "2017-04-10 20:45:47,854 : INFO : Finished: 1230000 tags\n",
      "2017-04-10 20:46:28,902 : INFO : Finished: 1240000 tags\n",
      "2017-04-10 20:47:09,627 : INFO : Finished: 1250000 tags\n",
      "2017-04-10 20:47:51,514 : INFO : Finished: 1260000 tags\n",
      "2017-04-10 20:48:30,310 : INFO : Finished: 1270000 tags\n",
      "2017-04-10 20:49:09,105 : INFO : Finished: 1280000 tags\n",
      "2017-04-10 20:49:52,682 : INFO : Finished: 1290000 tags\n",
      "2017-04-10 20:50:36,394 : INFO : Finished: 1300000 tags\n",
      "2017-04-10 20:51:18,153 : INFO : Finished: 1310000 tags\n",
      "2017-04-10 20:51:58,806 : INFO : Finished: 1320000 tags\n",
      "2017-04-10 20:52:44,300 : INFO : Finished: 1330000 tags\n",
      "2017-04-10 20:53:28,356 : INFO : Finished: 1340000 tags\n",
      "2017-04-10 20:53:31,458 : INFO : Loading new file for index: 40000\n",
      "2017-04-10 20:54:11,628 : INFO : Finished: 1350000 tags\n",
      "2017-04-10 20:54:50,281 : INFO : Finished: 1360000 tags\n",
      "2017-04-10 20:55:33,619 : INFO : Finished: 1370000 tags\n",
      "2017-04-10 20:56:12,681 : INFO : Finished: 1380000 tags\n",
      "2017-04-10 20:56:53,503 : INFO : Finished: 1390000 tags\n",
      "2017-04-10 20:57:33,727 : INFO : Finished: 1400000 tags\n",
      "2017-04-10 20:58:14,511 : INFO : Finished: 1410000 tags\n",
      "2017-04-10 20:58:59,097 : INFO : Finished: 1420000 tags\n",
      "2017-04-10 20:59:38,509 : INFO : Finished: 1430000 tags\n",
      "2017-04-10 21:00:20,728 : INFO : Finished: 1440000 tags\n",
      "2017-04-10 21:01:03,596 : INFO : Finished: 1450000 tags\n",
      "2017-04-10 21:01:48,228 : INFO : Finished: 1460000 tags\n",
      "2017-04-10 21:02:31,720 : INFO : Finished: 1470000 tags\n",
      "2017-04-10 21:03:17,788 : INFO : Finished: 1480000 tags\n",
      "2017-04-10 21:04:01,953 : INFO : Finished: 1490000 tags\n",
      "2017-04-10 21:04:44,984 : INFO : Finished: 1500000 tags\n",
      "2017-04-10 21:05:22,684 : INFO : Finished: 1510000 tags\n",
      "2017-04-10 21:06:04,282 : INFO : Finished: 1520000 tags\n",
      "2017-04-10 21:06:45,693 : INFO : Finished: 1530000 tags\n",
      "2017-04-10 21:07:26,015 : INFO : Finished: 1540000 tags\n",
      "2017-04-10 21:08:09,539 : INFO : Finished: 1550000 tags\n",
      "2017-04-10 21:08:50,447 : INFO : Finished: 1560000 tags\n",
      "2017-04-10 21:09:31,369 : INFO : Finished: 1570000 tags\n",
      "2017-04-10 21:10:12,428 : INFO : Finished: 1580000 tags\n",
      "2017-04-10 21:10:53,214 : INFO : Finished: 1590000 tags\n",
      "2017-04-10 21:11:35,603 : INFO : Finished: 1600000 tags\n",
      "2017-04-10 21:12:16,173 : INFO : Finished: 1610000 tags\n",
      "2017-04-10 21:12:54,943 : INFO : Finished: 1620000 tags\n",
      "2017-04-10 21:13:35,116 : INFO : Finished: 1630000 tags\n",
      "2017-04-10 21:14:17,103 : INFO : Finished: 1640000 tags\n",
      "2017-04-10 21:14:59,109 : INFO : Finished: 1650000 tags\n",
      "2017-04-10 21:15:39,820 : INFO : Finished: 1660000 tags\n",
      "2017-04-10 21:16:18,861 : INFO : Finished: 1670000 tags\n",
      "2017-04-10 21:16:58,903 : INFO : Finished: 1680000 tags\n",
      "2017-04-10 21:17:02,030 : INFO : Loading new file for index: 50000\n",
      "2017-04-10 21:17:39,939 : INFO : Finished: 1690000 tags\n",
      "2017-04-10 21:18:19,256 : INFO : Finished: 1700000 tags\n",
      "2017-04-10 21:19:02,566 : INFO : Finished: 1710000 tags\n",
      "2017-04-10 21:19:44,491 : INFO : Finished: 1720000 tags\n",
      "2017-04-10 21:20:28,183 : INFO : Finished: 1730000 tags\n",
      "2017-04-10 21:21:09,842 : INFO : Finished: 1740000 tags\n",
      "2017-04-10 21:21:55,619 : INFO : Finished: 1750000 tags\n",
      "2017-04-10 21:22:36,782 : INFO : Finished: 1760000 tags\n",
      "2017-04-10 21:23:16,666 : INFO : Finished: 1770000 tags\n",
      "2017-04-10 21:24:01,722 : INFO : Finished: 1780000 tags\n",
      "2017-04-10 21:24:41,072 : INFO : Finished: 1790000 tags\n",
      "2017-04-10 21:25:21,841 : INFO : Finished: 1800000 tags\n",
      "2017-04-10 21:26:03,468 : INFO : Finished: 1810000 tags\n",
      "2017-04-10 21:26:45,453 : INFO : Finished: 1820000 tags\n",
      "2017-04-10 21:27:26,447 : INFO : Finished: 1830000 tags\n",
      "2017-04-10 21:28:11,945 : INFO : Finished: 1840000 tags\n",
      "2017-04-10 21:28:52,211 : INFO : Finished: 1850000 tags\n",
      "2017-04-10 21:29:31,815 : INFO : Finished: 1860000 tags\n",
      "2017-04-10 21:30:13,887 : INFO : Finished: 1870000 tags\n",
      "2017-04-10 21:30:54,908 : INFO : Finished: 1880000 tags\n",
      "2017-04-10 21:31:42,183 : INFO : Finished: 1890000 tags\n",
      "2017-04-10 21:32:22,952 : INFO : Finished: 1900000 tags\n",
      "2017-04-10 21:33:02,340 : INFO : Finished: 1910000 tags\n",
      "2017-04-10 21:33:42,517 : INFO : Finished: 1920000 tags\n",
      "2017-04-10 21:34:23,159 : INFO : Finished: 1930000 tags\n",
      "2017-04-10 21:35:04,240 : INFO : Finished: 1940000 tags\n",
      "2017-04-10 21:35:49,123 : INFO : Finished: 1950000 tags\n",
      "2017-04-10 21:36:30,864 : INFO : Finished: 1960000 tags\n",
      "2017-04-10 21:37:15,873 : INFO : Finished: 1970000 tags\n",
      "2017-04-10 21:37:59,800 : INFO : Finished: 1980000 tags\n",
      "2017-04-10 21:38:43,214 : INFO : Finished: 1990000 tags\n",
      "2017-04-10 21:39:24,185 : INFO : Finished: 2000000 tags\n",
      "2017-04-10 21:40:03,116 : INFO : Finished: 2010000 tags\n",
      "2017-04-10 21:40:45,046 : INFO : Finished: 2020000 tags\n",
      "2017-04-10 21:40:48,525 : INFO : Loading new file for index: 60000\n",
      "2017-04-10 21:41:27,054 : INFO : Finished: 2030000 tags\n",
      "2017-04-10 21:42:09,117 : INFO : Finished: 2040000 tags\n",
      "2017-04-10 21:42:50,821 : INFO : Finished: 2050000 tags\n",
      "2017-04-10 21:43:35,088 : INFO : Finished: 2060000 tags\n",
      "2017-04-10 21:44:15,578 : INFO : Finished: 2070000 tags\n",
      "2017-04-10 21:44:59,180 : INFO : Finished: 2080000 tags\n",
      "2017-04-10 21:45:38,027 : INFO : Finished: 2090000 tags\n",
      "2017-04-10 21:46:18,453 : INFO : Finished: 2100000 tags\n",
      "2017-04-10 21:47:00,916 : INFO : Finished: 2110000 tags\n",
      "2017-04-10 21:47:42,248 : INFO : Finished: 2120000 tags\n",
      "2017-04-10 21:48:21,284 : INFO : Finished: 2130000 tags\n",
      "2017-04-10 21:49:06,957 : INFO : Finished: 2140000 tags\n",
      "2017-04-10 21:49:49,561 : INFO : Finished: 2150000 tags\n",
      "2017-04-10 21:50:30,356 : INFO : Finished: 2160000 tags\n",
      "2017-04-10 21:51:12,577 : INFO : Finished: 2170000 tags\n",
      "2017-04-10 21:51:55,454 : INFO : Finished: 2180000 tags\n",
      "2017-04-10 21:52:39,069 : INFO : Finished: 2190000 tags\n",
      "2017-04-10 21:53:23,417 : INFO : Finished: 2200000 tags\n",
      "2017-04-10 21:54:06,782 : INFO : Finished: 2210000 tags\n",
      "2017-04-10 21:54:53,296 : INFO : Finished: 2220000 tags\n",
      "2017-04-10 21:55:36,383 : INFO : Finished: 2230000 tags\n",
      "2017-04-10 21:56:19,631 : INFO : Finished: 2240000 tags\n",
      "2017-04-10 21:56:59,807 : INFO : Finished: 2250000 tags\n",
      "2017-04-10 21:57:40,391 : INFO : Finished: 2260000 tags\n",
      "2017-04-10 21:58:23,915 : INFO : Finished: 2270000 tags\n",
      "2017-04-10 21:59:05,889 : INFO : Finished: 2280000 tags\n",
      "2017-04-10 21:59:49,344 : INFO : Finished: 2290000 tags\n",
      "2017-04-10 22:00:33,252 : INFO : Finished: 2300000 tags\n",
      "2017-04-10 22:01:16,167 : INFO : Finished: 2310000 tags\n",
      "2017-04-10 22:02:02,700 : INFO : Finished: 2320000 tags\n",
      "2017-04-10 22:02:45,708 : INFO : Finished: 2330000 tags\n",
      "2017-04-10 22:03:24,446 : INFO : Finished: 2340000 tags\n",
      "2017-04-10 22:04:05,622 : INFO : Finished: 2350000 tags\n",
      "2017-04-10 22:04:46,905 : INFO : Finished: 2360000 tags\n",
      "2017-04-10 22:04:55,331 : INFO : Loading new file for index: 70000\n",
      "2017-04-10 22:05:30,293 : INFO : Finished: 2370000 tags\n",
      "2017-04-10 22:06:24,805 : INFO : Finished: 2380000 tags\n",
      "2017-04-10 22:07:04,918 : INFO : Finished: 2390000 tags\n",
      "2017-04-10 22:07:46,232 : INFO : Finished: 2400000 tags\n",
      "2017-04-10 22:08:30,491 : INFO : Finished: 2410000 tags\n",
      "2017-04-10 22:09:14,594 : INFO : Finished: 2420000 tags\n",
      "2017-04-10 22:09:58,395 : INFO : Finished: 2430000 tags\n",
      "2017-04-10 22:10:40,471 : INFO : Finished: 2440000 tags\n",
      "2017-04-10 22:11:20,817 : INFO : Finished: 2450000 tags\n",
      "2017-04-10 22:12:04,194 : INFO : Finished: 2460000 tags\n",
      "2017-04-10 22:12:47,262 : INFO : Finished: 2470000 tags\n",
      "2017-04-10 22:13:28,102 : INFO : Finished: 2480000 tags\n",
      "2017-04-10 22:14:10,165 : INFO : Finished: 2490000 tags\n",
      "2017-04-10 22:14:51,843 : INFO : Finished: 2500000 tags\n",
      "2017-04-10 22:15:37,780 : INFO : Finished: 2510000 tags\n",
      "2017-04-10 22:16:18,643 : INFO : Finished: 2520000 tags\n",
      "2017-04-10 22:17:02,234 : INFO : Finished: 2530000 tags\n",
      "2017-04-10 22:17:43,724 : INFO : Finished: 2540000 tags\n",
      "2017-04-10 22:18:25,910 : INFO : Finished: 2550000 tags\n",
      "2017-04-10 22:19:09,483 : INFO : Finished: 2560000 tags\n",
      "2017-04-10 22:19:52,364 : INFO : Finished: 2570000 tags\n",
      "2017-04-10 22:20:34,504 : INFO : Finished: 2580000 tags\n",
      "2017-04-10 22:21:17,158 : INFO : Finished: 2590000 tags\n",
      "2017-04-10 22:22:00,610 : INFO : Finished: 2600000 tags\n",
      "2017-04-10 22:22:42,264 : INFO : Finished: 2610000 tags\n",
      "2017-04-10 22:23:28,788 : INFO : Finished: 2620000 tags\n",
      "2017-04-10 22:24:14,679 : INFO : Finished: 2630000 tags\n",
      "2017-04-10 22:24:58,992 : INFO : Finished: 2640000 tags\n",
      "2017-04-10 22:25:42,292 : INFO : Finished: 2650000 tags\n",
      "2017-04-10 22:26:23,746 : INFO : Finished: 2660000 tags\n",
      "2017-04-10 22:27:06,379 : INFO : Finished: 2670000 tags\n",
      "2017-04-10 22:27:47,610 : INFO : Finished: 2680000 tags\n",
      "2017-04-10 22:28:30,541 : INFO : Finished: 2690000 tags\n",
      "2017-04-10 22:29:10,683 : INFO : Finished: 2700000 tags\n",
      "2017-04-10 22:29:14,164 : INFO : Loading new file for index: 80000\n",
      "2017-04-10 22:29:52,280 : INFO : Finished: 2710000 tags\n",
      "2017-04-10 22:30:37,347 : INFO : Finished: 2720000 tags\n",
      "2017-04-10 22:31:19,551 : INFO : Finished: 2730000 tags\n",
      "2017-04-10 22:32:01,442 : INFO : Finished: 2740000 tags\n",
      "2017-04-10 22:32:41,825 : INFO : Finished: 2750000 tags\n",
      "2017-04-10 22:33:22,952 : INFO : Finished: 2760000 tags\n",
      "2017-04-10 22:34:07,561 : INFO : Finished: 2770000 tags\n",
      "2017-04-10 22:34:46,719 : INFO : Finished: 2780000 tags\n",
      "2017-04-10 22:35:26,666 : INFO : Finished: 2790000 tags\n",
      "2017-04-10 22:36:09,607 : INFO : Finished: 2800000 tags\n",
      "2017-04-10 22:36:49,740 : INFO : Finished: 2810000 tags\n",
      "2017-04-10 22:37:30,501 : INFO : Finished: 2820000 tags\n",
      "2017-04-10 22:38:09,373 : INFO : Finished: 2830000 tags\n",
      "2017-04-10 22:38:48,756 : INFO : Finished: 2840000 tags\n",
      "2017-04-10 22:39:27,606 : INFO : Finished: 2850000 tags\n",
      "2017-04-10 22:40:11,126 : INFO : Finished: 2860000 tags\n",
      "2017-04-10 22:40:51,173 : INFO : Finished: 2870000 tags\n",
      "2017-04-10 22:41:32,303 : INFO : Finished: 2880000 tags\n",
      "2017-04-10 22:42:12,880 : INFO : Finished: 2890000 tags\n",
      "2017-04-10 22:42:56,273 : INFO : Finished: 2900000 tags\n",
      "2017-04-10 22:43:39,378 : INFO : Finished: 2910000 tags\n",
      "2017-04-10 22:44:25,202 : INFO : Finished: 2920000 tags\n",
      "2017-04-10 22:45:03,950 : INFO : Finished: 2930000 tags\n",
      "2017-04-10 22:45:43,510 : INFO : Finished: 2940000 tags\n",
      "2017-04-10 22:46:23,269 : INFO : Finished: 2950000 tags\n",
      "2017-04-10 22:47:05,544 : INFO : Finished: 2960000 tags\n",
      "2017-04-10 22:47:52,177 : INFO : Finished: 2970000 tags\n",
      "2017-04-10 22:48:33,868 : INFO : Finished: 2980000 tags\n",
      "2017-04-10 22:49:15,966 : INFO : Finished: 2990000 tags\n",
      "2017-04-10 22:49:58,475 : INFO : Finished: 3000000 tags\n",
      "2017-04-10 22:50:41,394 : INFO : Finished: 3010000 tags\n",
      "2017-04-10 22:51:20,403 : INFO : Finished: 3020000 tags\n",
      "2017-04-10 22:52:04,922 : INFO : Finished: 3030000 tags\n",
      "2017-04-10 22:52:47,938 : INFO : Finished: 3040000 tags\n",
      "2017-04-10 22:52:51,252 : INFO : Loading new file for index: 90000\n",
      "2017-04-10 22:53:29,192 : INFO : Finished: 3050000 tags\n",
      "2017-04-10 22:54:11,237 : INFO : Finished: 3060000 tags\n",
      "2017-04-10 22:54:55,720 : INFO : Finished: 3070000 tags\n",
      "2017-04-10 22:55:37,271 : INFO : Finished: 3080000 tags\n",
      "2017-04-10 22:56:18,627 : INFO : Finished: 3090000 tags\n",
      "2017-04-10 22:56:56,124 : INFO : Finished: 3100000 tags\n",
      "2017-04-10 22:57:38,586 : INFO : Finished: 3110000 tags\n",
      "2017-04-10 22:58:20,030 : INFO : Finished: 3120000 tags\n",
      "2017-04-10 22:59:04,245 : INFO : Finished: 3130000 tags\n",
      "2017-04-10 22:59:44,536 : INFO : Finished: 3140000 tags\n",
      "2017-04-10 23:00:29,298 : INFO : Finished: 3150000 tags\n",
      "2017-04-10 23:01:11,191 : INFO : Finished: 3160000 tags\n",
      "2017-04-10 23:01:52,032 : INFO : Finished: 3170000 tags\n",
      "2017-04-10 23:02:33,724 : INFO : Finished: 3180000 tags\n",
      "2017-04-10 23:03:15,285 : INFO : Finished: 3190000 tags\n",
      "2017-04-10 23:03:58,018 : INFO : Finished: 3200000 tags\n",
      "2017-04-10 23:04:37,909 : INFO : Finished: 3210000 tags\n",
      "2017-04-10 23:05:19,846 : INFO : Finished: 3220000 tags\n",
      "2017-04-10 23:06:02,723 : INFO : Finished: 3230000 tags\n",
      "2017-04-10 23:06:46,697 : INFO : Finished: 3240000 tags\n",
      "2017-04-10 23:07:28,486 : INFO : Finished: 3250000 tags\n",
      "2017-04-10 23:08:12,355 : INFO : Finished: 3260000 tags\n",
      "2017-04-10 23:08:57,615 : INFO : Finished: 3270000 tags\n",
      "2017-04-10 23:09:39,250 : INFO : Finished: 3280000 tags\n",
      "2017-04-10 23:10:20,596 : INFO : Finished: 3290000 tags\n",
      "2017-04-10 23:11:01,185 : INFO : Finished: 3300000 tags\n",
      "2017-04-10 23:11:42,918 : INFO : Finished: 3310000 tags\n",
      "2017-04-10 23:12:25,837 : INFO : Finished: 3320000 tags\n",
      "2017-04-10 23:13:08,800 : INFO : Finished: 3330000 tags\n",
      "2017-04-10 23:13:51,255 : INFO : Finished: 3340000 tags\n",
      "2017-04-10 23:14:34,936 : INFO : Finished: 3350000 tags\n",
      "2017-04-10 23:15:19,874 : INFO : Finished: 3360000 tags\n",
      "2017-04-10 23:16:03,287 : INFO : Finished: 3370000 tags\n",
      "2017-04-10 23:16:45,433 : INFO : Finished: 3380000 tags\n",
      "2017-04-10 23:16:48,450 : INFO : Loading new file for index: 100000\n",
      "2017-04-10 23:17:26,927 : INFO : Finished: 3390000 tags\n",
      "2017-04-10 23:18:05,426 : INFO : Finished: 3400000 tags\n",
      "2017-04-10 23:18:48,637 : INFO : Finished: 3410000 tags\n",
      "2017-04-10 23:19:31,554 : INFO : Finished: 3420000 tags\n",
      "2017-04-10 23:20:14,713 : INFO : Finished: 3430000 tags\n",
      "2017-04-10 23:20:56,343 : INFO : Finished: 3440000 tags\n",
      "2017-04-10 23:21:35,845 : INFO : Finished: 3450000 tags\n",
      "2017-04-10 23:22:14,619 : INFO : Finished: 3460000 tags\n",
      "2017-04-10 23:22:54,826 : INFO : Finished: 3470000 tags\n",
      "2017-04-10 23:23:36,973 : INFO : Finished: 3480000 tags\n",
      "2017-04-10 23:24:20,700 : INFO : Finished: 3490000 tags\n",
      "2017-04-10 23:25:01,351 : INFO : Finished: 3500000 tags\n",
      "2017-04-10 23:25:43,872 : INFO : Finished: 3510000 tags\n",
      "2017-04-10 23:26:27,773 : INFO : Finished: 3520000 tags\n",
      "2017-04-10 23:27:09,094 : INFO : Finished: 3530000 tags\n",
      "2017-04-10 23:27:47,468 : INFO : Finished: 3540000 tags\n",
      "2017-04-10 23:28:30,111 : INFO : Finished: 3550000 tags\n",
      "2017-04-10 23:29:11,970 : INFO : Finished: 3560000 tags\n",
      "2017-04-10 23:29:53,327 : INFO : Finished: 3570000 tags\n",
      "2017-04-10 23:30:33,220 : INFO : Finished: 3580000 tags\n",
      "2017-04-10 23:31:17,741 : INFO : Finished: 3590000 tags\n",
      "2017-04-10 23:31:57,144 : INFO : Finished: 3600000 tags\n",
      "2017-04-10 23:32:35,466 : INFO : Finished: 3610000 tags\n",
      "2017-04-10 23:33:13,898 : INFO : Finished: 3620000 tags\n",
      "2017-04-10 23:33:54,938 : INFO : Finished: 3630000 tags\n",
      "2017-04-10 23:34:38,211 : INFO : Finished: 3640000 tags\n",
      "2017-04-10 23:35:17,416 : INFO : Finished: 3650000 tags\n",
      "2017-04-10 23:35:55,469 : INFO : Finished: 3660000 tags\n",
      "2017-04-10 23:36:34,324 : INFO : Finished: 3670000 tags\n",
      "2017-04-10 23:37:16,827 : INFO : Finished: 3680000 tags\n",
      "2017-04-10 23:37:58,394 : INFO : Finished: 3690000 tags\n",
      "2017-04-10 23:38:38,424 : INFO : Finished: 3700000 tags\n",
      "2017-04-10 23:39:17,239 : INFO : Finished: 3710000 tags\n",
      "2017-04-10 23:39:57,760 : INFO : Finished: 3720000 tags\n",
      "2017-04-10 23:40:00,966 : INFO : Loading new file for index: 110000\n",
      "2017-04-10 23:40:38,475 : INFO : Finished: 3730000 tags\n",
      "2017-04-10 23:41:21,510 : INFO : Finished: 3740000 tags\n",
      "2017-04-10 23:42:05,582 : INFO : Finished: 3750000 tags\n",
      "2017-04-10 23:42:47,605 : INFO : Finished: 3760000 tags\n",
      "2017-04-10 23:43:33,945 : INFO : Finished: 3770000 tags\n",
      "2017-04-10 23:44:14,238 : INFO : Finished: 3780000 tags\n",
      "2017-04-10 23:44:57,405 : INFO : Finished: 3790000 tags\n",
      "2017-04-10 23:45:38,721 : INFO : Finished: 3800000 tags\n",
      "2017-04-10 23:46:20,966 : INFO : Finished: 3810000 tags\n",
      "2017-04-10 23:47:09,771 : INFO : Finished: 3820000 tags\n",
      "2017-04-10 23:47:52,497 : INFO : Finished: 3830000 tags\n",
      "2017-04-10 23:48:36,665 : INFO : Finished: 3840000 tags\n",
      "2017-04-10 23:49:18,827 : INFO : Finished: 3850000 tags\n",
      "2017-04-10 23:49:58,765 : INFO : Finished: 3860000 tags\n",
      "2017-04-10 23:50:39,603 : INFO : Finished: 3870000 tags\n",
      "2017-04-10 23:51:19,963 : INFO : Finished: 3880000 tags\n",
      "2017-04-10 23:51:59,638 : INFO : Finished: 3890000 tags\n",
      "2017-04-10 23:52:40,756 : INFO : Finished: 3900000 tags\n",
      "2017-04-10 23:53:20,977 : INFO : Finished: 3910000 tags\n",
      "2017-04-10 23:54:00,832 : INFO : Finished: 3920000 tags\n",
      "2017-04-10 23:54:41,136 : INFO : Finished: 3930000 tags\n",
      "2017-04-10 23:55:22,877 : INFO : Finished: 3940000 tags\n",
      "2017-04-10 23:56:02,879 : INFO : Finished: 3950000 tags\n",
      "2017-04-10 23:56:45,548 : INFO : Finished: 3960000 tags\n",
      "2017-04-10 23:57:26,427 : INFO : Finished: 3970000 tags\n",
      "2017-04-10 23:58:06,160 : INFO : Finished: 3980000 tags\n",
      "2017-04-10 23:58:48,793 : INFO : Finished: 3990000 tags\n",
      "2017-04-10 23:59:39,965 : INFO : Finished: 4000000 tags\n",
      "2017-04-11 00:00:25,773 : INFO : Finished: 4010000 tags\n",
      "2017-04-11 00:01:10,691 : INFO : Finished: 4020000 tags\n",
      "2017-04-11 00:01:56,916 : INFO : Finished: 4030000 tags\n",
      "2017-04-11 00:02:43,926 : INFO : Finished: 4040000 tags\n",
      "2017-04-11 00:03:31,866 : INFO : Finished: 4050000 tags\n",
      "2017-04-11 00:04:17,269 : INFO : Finished: 4060000 tags\n",
      "2017-04-11 00:04:20,057 : INFO : Loading new file for index: 120000\n",
      "2017-04-11 00:05:00,092 : INFO : Finished: 4070000 tags\n",
      "2017-04-11 00:05:45,946 : INFO : Finished: 4080000 tags\n",
      "2017-04-11 00:06:31,698 : INFO : Finished: 4090000 tags\n",
      "2017-04-11 00:07:15,518 : INFO : Finished: 4100000 tags\n",
      "2017-04-11 00:07:58,168 : INFO : Finished: 4110000 tags\n",
      "2017-04-11 00:08:40,578 : INFO : Finished: 4120000 tags\n",
      "2017-04-11 00:09:25,705 : INFO : Finished: 4130000 tags\n",
      "2017-04-11 00:10:08,859 : INFO : Finished: 4140000 tags\n",
      "2017-04-11 00:10:51,688 : INFO : Finished: 4150000 tags\n",
      "2017-04-11 00:11:36,052 : INFO : Finished: 4160000 tags\n",
      "2017-04-11 00:12:21,379 : INFO : Finished: 4170000 tags\n",
      "2017-04-11 00:13:00,481 : INFO : Finished: 4180000 tags\n",
      "2017-04-11 00:13:44,150 : INFO : Finished: 4190000 tags\n",
      "2017-04-11 00:14:25,817 : INFO : Finished: 4200000 tags\n",
      "2017-04-11 00:15:08,285 : INFO : Finished: 4210000 tags\n",
      "2017-04-11 00:15:56,139 : INFO : Finished: 4220000 tags\n",
      "2017-04-11 00:16:40,901 : INFO : Finished: 4230000 tags\n",
      "2017-04-11 00:17:29,894 : INFO : Finished: 4240000 tags\n",
      "2017-04-11 00:18:16,965 : INFO : Finished: 4250000 tags\n",
      "2017-04-11 00:18:59,614 : INFO : Finished: 4260000 tags\n",
      "2017-04-11 00:19:43,279 : INFO : Finished: 4270000 tags\n",
      "2017-04-11 00:20:33,192 : INFO : Finished: 4280000 tags\n",
      "2017-04-11 00:21:20,922 : INFO : Finished: 4290000 tags\n",
      "2017-04-11 00:22:06,179 : INFO : Finished: 4300000 tags\n",
      "2017-04-11 00:22:50,740 : INFO : Finished: 4310000 tags\n",
      "2017-04-11 00:23:35,317 : INFO : Finished: 4320000 tags\n",
      "2017-04-11 00:24:22,643 : INFO : Finished: 4330000 tags\n",
      "2017-04-11 00:25:06,897 : INFO : Finished: 4340000 tags\n",
      "2017-04-11 00:25:51,224 : INFO : Finished: 4350000 tags\n",
      "2017-04-11 00:26:34,266 : INFO : Finished: 4360000 tags\n",
      "2017-04-11 00:27:17,980 : INFO : Finished: 4370000 tags\n",
      "2017-04-11 00:28:07,783 : INFO : Finished: 4380000 tags\n",
      "2017-04-11 00:28:59,257 : INFO : Finished: 4390000 tags\n",
      "2017-04-11 00:29:47,693 : INFO : Finished: 4400000 tags\n",
      "2017-04-11 00:29:50,554 : INFO : Loading new file for index: 130000\n",
      "2017-04-11 00:30:31,153 : INFO : Finished: 4410000 tags\n",
      "2017-04-11 00:31:16,297 : INFO : Finished: 4420000 tags\n",
      "2017-04-11 00:32:01,007 : INFO : Finished: 4430000 tags\n",
      "2017-04-11 00:32:45,794 : INFO : Finished: 4440000 tags\n",
      "2017-04-11 00:33:31,698 : INFO : Finished: 4450000 tags\n",
      "2017-04-11 00:34:15,112 : INFO : Finished: 4460000 tags\n",
      "2017-04-11 00:34:58,889 : INFO : Finished: 4470000 tags\n",
      "2017-04-11 00:35:42,415 : INFO : Finished: 4480000 tags\n",
      "2017-04-11 00:36:25,878 : INFO : Finished: 4490000 tags\n",
      "2017-04-11 00:37:16,765 : INFO : Finished: 4500000 tags\n",
      "2017-04-11 00:38:01,781 : INFO : Finished: 4510000 tags\n",
      "2017-04-11 00:38:46,200 : INFO : Finished: 4520000 tags\n",
      "2017-04-11 00:39:30,187 : INFO : Finished: 4530000 tags\n",
      "2017-04-11 00:40:18,841 : INFO : Finished: 4540000 tags\n",
      "2017-04-11 00:41:02,076 : INFO : Finished: 4550000 tags\n",
      "2017-04-11 00:41:47,007 : INFO : Finished: 4560000 tags\n",
      "2017-04-11 00:42:30,103 : INFO : Finished: 4570000 tags\n",
      "2017-04-11 00:43:18,240 : INFO : Finished: 4580000 tags\n",
      "2017-04-11 00:44:01,164 : INFO : Finished: 4590000 tags\n",
      "2017-04-11 00:44:46,616 : INFO : Finished: 4600000 tags\n",
      "2017-04-11 00:45:33,423 : INFO : Finished: 4610000 tags\n",
      "2017-04-11 00:46:20,139 : INFO : Finished: 4620000 tags\n",
      "2017-04-11 00:47:09,615 : INFO : Finished: 4630000 tags\n",
      "2017-04-11 00:47:52,637 : INFO : Finished: 4640000 tags\n",
      "2017-04-11 00:48:37,680 : INFO : Finished: 4650000 tags\n",
      "2017-04-11 00:49:28,402 : INFO : Finished: 4660000 tags\n",
      "2017-04-11 00:50:15,728 : INFO : Finished: 4670000 tags\n",
      "2017-04-11 00:51:03,877 : INFO : Finished: 4680000 tags\n",
      "2017-04-11 00:51:55,921 : INFO : Finished: 4690000 tags\n",
      "2017-04-11 00:52:45,263 : INFO : Finished: 4700000 tags\n",
      "2017-04-11 00:53:32,080 : INFO : Finished: 4710000 tags\n",
      "2017-04-11 00:54:23,228 : INFO : Finished: 4720000 tags\n",
      "2017-04-11 00:55:12,420 : INFO : Finished: 4730000 tags\n",
      "2017-04-11 00:56:04,218 : INFO : Finished: 4740000 tags\n",
      "2017-04-11 00:56:07,017 : INFO : Loading new file for index: 140000\n",
      "2017-04-11 00:56:55,233 : INFO : Finished: 4750000 tags\n",
      "2017-04-11 00:57:42,720 : INFO : Finished: 4760000 tags\n",
      "2017-04-11 00:58:28,282 : INFO : Finished: 4770000 tags\n",
      "2017-04-11 00:59:14,253 : INFO : Finished: 4780000 tags\n",
      "2017-04-11 01:00:03,739 : INFO : Finished: 4790000 tags\n",
      "2017-04-11 01:00:49,816 : INFO : Finished: 4800000 tags\n",
      "2017-04-11 01:01:38,360 : INFO : Finished: 4810000 tags\n",
      "2017-04-11 01:02:24,444 : INFO : Finished: 4820000 tags\n",
      "2017-04-11 01:03:10,649 : INFO : Finished: 4830000 tags\n",
      "2017-04-11 01:03:59,518 : INFO : Finished: 4840000 tags\n",
      "2017-04-11 01:04:46,978 : INFO : Finished: 4850000 tags\n",
      "2017-04-11 01:05:32,721 : INFO : Finished: 4860000 tags\n",
      "2017-04-11 01:06:21,562 : INFO : Finished: 4870000 tags\n",
      "2017-04-11 01:07:08,360 : INFO : Finished: 4880000 tags\n",
      "2017-04-11 01:07:58,045 : INFO : Finished: 4890000 tags\n",
      "2017-04-11 01:08:46,266 : INFO : Finished: 4900000 tags\n",
      "2017-04-11 01:09:29,901 : INFO : Finished: 4910000 tags\n",
      "2017-04-11 01:10:18,826 : INFO : Finished: 4920000 tags\n",
      "2017-04-11 01:11:08,362 : INFO : Finished: 4930000 tags\n",
      "2017-04-11 01:11:58,577 : INFO : Finished: 4940000 tags\n",
      "2017-04-11 01:12:45,305 : INFO : Finished: 4950000 tags\n",
      "2017-04-11 01:13:33,180 : INFO : Finished: 4960000 tags\n",
      "2017-04-11 01:14:18,937 : INFO : Finished: 4970000 tags\n",
      "2017-04-11 01:15:07,304 : INFO : Finished: 4980000 tags\n",
      "2017-04-11 01:15:54,983 : INFO : Finished: 4990000 tags\n",
      "2017-04-11 01:16:46,442 : INFO : Finished: 5000000 tags\n",
      "2017-04-11 01:17:34,764 : INFO : Finished: 5010000 tags\n",
      "2017-04-11 01:18:24,611 : INFO : Finished: 5020000 tags\n",
      "2017-04-11 01:19:13,169 : INFO : Finished: 5030000 tags\n",
      "2017-04-11 01:20:04,091 : INFO : Finished: 5040000 tags\n",
      "2017-04-11 01:20:52,338 : INFO : Finished: 5050000 tags\n",
      "2017-04-11 01:21:41,809 : INFO : Finished: 5060000 tags\n",
      "2017-04-11 01:22:26,990 : INFO : Finished: 5070000 tags\n",
      "2017-04-11 01:23:13,804 : INFO : Finished: 5080000 tags\n",
      "2017-04-11 01:23:16,484 : INFO : Loading new file for index: 150000\n",
      "2017-04-11 01:23:59,406 : INFO : Finished: 5090000 tags\n",
      "2017-04-11 01:24:45,194 : INFO : Finished: 5100000 tags\n",
      "2017-04-11 01:25:31,150 : INFO : Finished: 5110000 tags\n",
      "2017-04-11 01:26:14,583 : INFO : Finished: 5120000 tags\n",
      "2017-04-11 01:27:00,061 : INFO : Finished: 5130000 tags\n",
      "2017-04-11 01:27:45,241 : INFO : Finished: 5140000 tags\n",
      "2017-04-11 01:28:34,586 : INFO : Finished: 5150000 tags\n",
      "2017-04-11 01:29:23,054 : INFO : Finished: 5160000 tags\n",
      "2017-04-11 01:30:09,082 : INFO : Finished: 5170000 tags\n",
      "2017-04-11 01:30:55,688 : INFO : Finished: 5180000 tags\n",
      "2017-04-11 01:31:44,358 : INFO : Finished: 5190000 tags\n",
      "2017-04-11 01:32:33,966 : INFO : Finished: 5200000 tags\n",
      "2017-04-11 01:33:19,667 : INFO : Finished: 5210000 tags\n",
      "2017-04-11 01:34:04,151 : INFO : Finished: 5220000 tags\n",
      "2017-04-11 01:34:49,046 : INFO : Finished: 5230000 tags\n",
      "2017-04-11 01:35:35,124 : INFO : Finished: 5240000 tags\n",
      "2017-04-11 01:36:25,531 : INFO : Finished: 5250000 tags\n",
      "2017-04-11 01:37:13,336 : INFO : Finished: 5260000 tags\n",
      "2017-04-11 01:38:04,037 : INFO : Finished: 5270000 tags\n",
      "2017-04-11 01:38:52,021 : INFO : Finished: 5280000 tags\n",
      "2017-04-11 01:39:42,875 : INFO : Finished: 5290000 tags\n",
      "2017-04-11 01:40:32,059 : INFO : Finished: 5300000 tags\n",
      "2017-04-11 01:41:20,047 : INFO : Finished: 5310000 tags\n",
      "2017-04-11 01:42:06,680 : INFO : Finished: 5320000 tags\n",
      "2017-04-11 01:42:58,431 : INFO : Finished: 5330000 tags\n",
      "2017-04-11 01:43:46,932 : INFO : Finished: 5340000 tags\n",
      "2017-04-11 01:44:33,605 : INFO : Finished: 5350000 tags\n",
      "2017-04-11 01:45:16,145 : INFO : Finished: 5360000 tags\n",
      "2017-04-11 01:46:02,558 : INFO : Finished: 5370000 tags\n",
      "2017-04-11 01:46:51,124 : INFO : Finished: 5380000 tags\n",
      "2017-04-11 01:47:33,418 : INFO : Finished: 5390000 tags\n",
      "2017-04-11 01:48:15,451 : INFO : Finished: 5400000 tags\n",
      "2017-04-11 01:48:56,970 : INFO : Finished: 5410000 tags\n",
      "2017-04-11 01:49:35,694 : INFO : Finished: 5420000 tags\n",
      "2017-04-11 01:49:39,045 : INFO : Loading new file for index: 160000\n",
      "2017-04-11 01:50:17,247 : INFO : Finished: 5430000 tags\n",
      "2017-04-11 01:51:01,455 : INFO : Finished: 5440000 tags\n",
      "2017-04-11 01:51:43,229 : INFO : Finished: 5450000 tags\n",
      "2017-04-11 01:52:25,547 : INFO : Finished: 5460000 tags\n",
      "2017-04-11 01:53:07,968 : INFO : Finished: 5470000 tags\n",
      "2017-04-11 01:53:51,024 : INFO : Finished: 5480000 tags\n",
      "2017-04-11 01:54:35,055 : INFO : Finished: 5490000 tags\n",
      "2017-04-11 01:55:16,741 : INFO : Finished: 5500000 tags\n",
      "2017-04-11 01:55:56,054 : INFO : Finished: 5510000 tags\n",
      "2017-04-11 01:56:38,637 : INFO : Finished: 5520000 tags\n",
      "2017-04-11 01:57:19,599 : INFO : Finished: 5530000 tags\n",
      "2017-04-11 01:58:03,003 : INFO : Finished: 5540000 tags\n",
      "2017-04-11 01:58:46,970 : INFO : Finished: 5550000 tags\n",
      "2017-04-11 01:59:29,825 : INFO : Finished: 5560000 tags\n",
      "2017-04-11 02:00:13,104 : INFO : Finished: 5570000 tags\n",
      "2017-04-11 02:00:52,508 : INFO : Finished: 5580000 tags\n",
      "2017-04-11 02:01:35,297 : INFO : Finished: 5590000 tags\n",
      "2017-04-11 02:02:19,558 : INFO : Finished: 5600000 tags\n",
      "2017-04-11 02:03:04,461 : INFO : Finished: 5610000 tags\n",
      "2017-04-11 02:03:45,594 : INFO : Finished: 5620000 tags\n",
      "2017-04-11 02:04:27,775 : INFO : Finished: 5630000 tags\n",
      "2017-04-11 02:05:12,994 : INFO : Finished: 5640000 tags\n",
      "2017-04-11 02:05:55,163 : INFO : Finished: 5650000 tags\n",
      "2017-04-11 02:06:35,690 : INFO : Finished: 5660000 tags\n",
      "2017-04-11 02:07:13,918 : INFO : Finished: 5670000 tags\n",
      "2017-04-11 02:07:57,483 : INFO : Finished: 5680000 tags\n",
      "2017-04-11 02:08:41,354 : INFO : Finished: 5690000 tags\n",
      "2017-04-11 02:09:21,921 : INFO : Finished: 5700000 tags\n",
      "2017-04-11 02:10:02,418 : INFO : Finished: 5710000 tags\n",
      "2017-04-11 02:10:45,154 : INFO : Finished: 5720000 tags\n",
      "2017-04-11 02:11:29,076 : INFO : Finished: 5730000 tags\n",
      "2017-04-11 02:12:08,538 : INFO : Finished: 5740000 tags\n",
      "2017-04-11 02:12:50,898 : INFO : Finished: 5750000 tags\n",
      "2017-04-11 02:13:30,774 : INFO : Finished: 5760000 tags\n",
      "2017-04-11 02:13:33,786 : INFO : Loading new file for index: 170000\n",
      "2017-04-11 02:14:09,827 : INFO : Finished: 5770000 tags\n",
      "2017-04-11 02:14:52,833 : INFO : Finished: 5780000 tags\n",
      "2017-04-11 02:15:35,562 : INFO : Finished: 5790000 tags\n",
      "2017-04-11 02:16:20,028 : INFO : Finished: 5800000 tags\n",
      "2017-04-11 02:17:09,936 : INFO : Finished: 5810000 tags\n",
      "2017-04-11 02:17:57,063 : INFO : Finished: 5820000 tags\n"
     ]
    },
    {
     "ename": "KeyboardInterrupt",
     "evalue": "",
     "output_type": "error",
     "traceback": [
      "\u001b[1;31m---------------------------------------------------------------------------\u001b[0m",
      "\u001b[1;31mKeyboardInterrupt\u001b[0m                         Traceback (most recent call last)",
      "\u001b[1;32m<ipython-input-32-9ef6fef89ac0>\u001b[0m in \u001b[0;36m<module>\u001b[1;34m()\u001b[0m\n\u001b[0;32m      1\u001b[0m Xv = get_extended_docs_with_inference_data_only(doc2vec_model, VALIDATION_DICT, \n\u001b[1;32m----> 2\u001b[1;33m                                          validation_preprocessed_files_prefix)\n\u001b[0m",
      "\u001b[1;32m<ipython-input-12-5b1746cfd472>\u001b[0m in \u001b[0;36mget_extended_docs_with_inference_data_only\u001b[1;34m(doc2vec_model, file_to_write, preprocessed_files_prefix)\u001b[0m\n\u001b[0;32m     28\u001b[0m         \u001b[0mpool\u001b[0m \u001b[1;33m=\u001b[0m \u001b[0mThreadPool\u001b[0m\u001b[1;33m(\u001b[0m\u001b[0mNUM_CORES\u001b[0m\u001b[1;33m)\u001b[0m\u001b[1;33m\u001b[0m\u001b[0m\n\u001b[0;32m     29\u001b[0m         \u001b[1;32mwhile\u001b[0m \u001b[0mTrue\u001b[0m\u001b[1;33m:\u001b[0m\u001b[1;33m\u001b[0m\u001b[0m\n\u001b[1;32m---> 30\u001b[1;33m             \u001b[0mthreaded_reps_partial\u001b[0m \u001b[1;33m=\u001b[0m \u001b[0mpool\u001b[0m\u001b[1;33m.\u001b[0m\u001b[0mmap\u001b[0m\u001b[1;33m(\u001b[0m\u001b[0minfer_one_doc\u001b[0m\u001b[1;33m,\u001b[0m \u001b[0mitertools\u001b[0m\u001b[1;33m.\u001b[0m\u001b[0mislice\u001b[0m\u001b[1;33m(\u001b[0m\u001b[0mgenerator_func\u001b[0m\u001b[1;33m,\u001b[0m \u001b[0mmini_batch_size\u001b[0m\u001b[1;33m)\u001b[0m\u001b[1;33m)\u001b[0m\u001b[1;33m\u001b[0m\u001b[0m\n\u001b[0m\u001b[0;32m     31\u001b[0m             \u001b[0minfo\u001b[0m\u001b[1;33m(\u001b[0m\u001b[1;34m\"Finished: {} tags\"\u001b[0m\u001b[1;33m.\u001b[0m\u001b[0mformat\u001b[0m\u001b[1;33m(\u001b[0m\u001b[0mbatches_run\u001b[0m \u001b[1;33m*\u001b[0m \u001b[0mmini_batch_size\u001b[0m\u001b[1;33m)\u001b[0m\u001b[1;33m)\u001b[0m\u001b[1;33m\u001b[0m\u001b[0m\n\u001b[0;32m     32\u001b[0m             \u001b[0mbatches_run\u001b[0m \u001b[1;33m+=\u001b[0m \u001b[1;36m1\u001b[0m\u001b[1;33m\u001b[0m\u001b[0m\n",
      "\u001b[1;32m/usr/lib64/python2.7/multiprocessing/pool.pyc\u001b[0m in \u001b[0;36mmap\u001b[1;34m(self, func, iterable, chunksize)\u001b[0m\n\u001b[0;32m    249\u001b[0m         '''\n\u001b[0;32m    250\u001b[0m         \u001b[1;32massert\u001b[0m \u001b[0mself\u001b[0m\u001b[1;33m.\u001b[0m\u001b[0m_state\u001b[0m \u001b[1;33m==\u001b[0m \u001b[0mRUN\u001b[0m\u001b[1;33m\u001b[0m\u001b[0m\n\u001b[1;32m--> 251\u001b[1;33m         \u001b[1;32mreturn\u001b[0m \u001b[0mself\u001b[0m\u001b[1;33m.\u001b[0m\u001b[0mmap_async\u001b[0m\u001b[1;33m(\u001b[0m\u001b[0mfunc\u001b[0m\u001b[1;33m,\u001b[0m \u001b[0miterable\u001b[0m\u001b[1;33m,\u001b[0m \u001b[0mchunksize\u001b[0m\u001b[1;33m)\u001b[0m\u001b[1;33m.\u001b[0m\u001b[0mget\u001b[0m\u001b[1;33m(\u001b[0m\u001b[1;33m)\u001b[0m\u001b[1;33m\u001b[0m\u001b[0m\n\u001b[0m\u001b[0;32m    252\u001b[0m \u001b[1;33m\u001b[0m\u001b[0m\n\u001b[0;32m    253\u001b[0m     \u001b[1;32mdef\u001b[0m \u001b[0mimap\u001b[0m\u001b[1;33m(\u001b[0m\u001b[0mself\u001b[0m\u001b[1;33m,\u001b[0m \u001b[0mfunc\u001b[0m\u001b[1;33m,\u001b[0m \u001b[0miterable\u001b[0m\u001b[1;33m,\u001b[0m \u001b[0mchunksize\u001b[0m\u001b[1;33m=\u001b[0m\u001b[1;36m1\u001b[0m\u001b[1;33m)\u001b[0m\u001b[1;33m:\u001b[0m\u001b[1;33m\u001b[0m\u001b[0m\n",
      "\u001b[1;32m/usr/lib64/python2.7/multiprocessing/pool.pyc\u001b[0m in \u001b[0;36mget\u001b[1;34m(self, timeout)\u001b[0m\n\u001b[0;32m    559\u001b[0m \u001b[1;33m\u001b[0m\u001b[0m\n\u001b[0;32m    560\u001b[0m     \u001b[1;32mdef\u001b[0m \u001b[0mget\u001b[0m\u001b[1;33m(\u001b[0m\u001b[0mself\u001b[0m\u001b[1;33m,\u001b[0m \u001b[0mtimeout\u001b[0m\u001b[1;33m=\u001b[0m\u001b[0mNone\u001b[0m\u001b[1;33m)\u001b[0m\u001b[1;33m:\u001b[0m\u001b[1;33m\u001b[0m\u001b[0m\n\u001b[1;32m--> 561\u001b[1;33m         \u001b[0mself\u001b[0m\u001b[1;33m.\u001b[0m\u001b[0mwait\u001b[0m\u001b[1;33m(\u001b[0m\u001b[0mtimeout\u001b[0m\u001b[1;33m)\u001b[0m\u001b[1;33m\u001b[0m\u001b[0m\n\u001b[0m\u001b[0;32m    562\u001b[0m         \u001b[1;32mif\u001b[0m \u001b[1;32mnot\u001b[0m \u001b[0mself\u001b[0m\u001b[1;33m.\u001b[0m\u001b[0m_ready\u001b[0m\u001b[1;33m:\u001b[0m\u001b[1;33m\u001b[0m\u001b[0m\n\u001b[0;32m    563\u001b[0m             \u001b[1;32mraise\u001b[0m \u001b[0mTimeoutError\u001b[0m\u001b[1;33m\u001b[0m\u001b[0m\n",
      "\u001b[1;32m/usr/lib64/python2.7/multiprocessing/pool.pyc\u001b[0m in \u001b[0;36mwait\u001b[1;34m(self, timeout)\u001b[0m\n\u001b[0;32m    554\u001b[0m         \u001b[1;32mtry\u001b[0m\u001b[1;33m:\u001b[0m\u001b[1;33m\u001b[0m\u001b[0m\n\u001b[0;32m    555\u001b[0m             \u001b[1;32mif\u001b[0m \u001b[1;32mnot\u001b[0m \u001b[0mself\u001b[0m\u001b[1;33m.\u001b[0m\u001b[0m_ready\u001b[0m\u001b[1;33m:\u001b[0m\u001b[1;33m\u001b[0m\u001b[0m\n\u001b[1;32m--> 556\u001b[1;33m                 \u001b[0mself\u001b[0m\u001b[1;33m.\u001b[0m\u001b[0m_cond\u001b[0m\u001b[1;33m.\u001b[0m\u001b[0mwait\u001b[0m\u001b[1;33m(\u001b[0m\u001b[0mtimeout\u001b[0m\u001b[1;33m)\u001b[0m\u001b[1;33m\u001b[0m\u001b[0m\n\u001b[0m\u001b[0;32m    557\u001b[0m         \u001b[1;32mfinally\u001b[0m\u001b[1;33m:\u001b[0m\u001b[1;33m\u001b[0m\u001b[0m\n\u001b[0;32m    558\u001b[0m             \u001b[0mself\u001b[0m\u001b[1;33m.\u001b[0m\u001b[0m_cond\u001b[0m\u001b[1;33m.\u001b[0m\u001b[0mrelease\u001b[0m\u001b[1;33m(\u001b[0m\u001b[1;33m)\u001b[0m\u001b[1;33m\u001b[0m\u001b[0m\n",
      "\u001b[1;32m/usr/lib64/python2.7/threading.pyc\u001b[0m in \u001b[0;36mwait\u001b[1;34m(self, timeout)\u001b[0m\n\u001b[0;32m    338\u001b[0m         \u001b[1;32mtry\u001b[0m\u001b[1;33m:\u001b[0m    \u001b[1;31m# restore state no matter what (e.g., KeyboardInterrupt)\u001b[0m\u001b[1;33m\u001b[0m\u001b[0m\n\u001b[0;32m    339\u001b[0m             \u001b[1;32mif\u001b[0m \u001b[0mtimeout\u001b[0m \u001b[1;32mis\u001b[0m \u001b[0mNone\u001b[0m\u001b[1;33m:\u001b[0m\u001b[1;33m\u001b[0m\u001b[0m\n\u001b[1;32m--> 340\u001b[1;33m                 \u001b[0mwaiter\u001b[0m\u001b[1;33m.\u001b[0m\u001b[0macquire\u001b[0m\u001b[1;33m(\u001b[0m\u001b[1;33m)\u001b[0m\u001b[1;33m\u001b[0m\u001b[0m\n\u001b[0m\u001b[0;32m    341\u001b[0m                 \u001b[1;32mif\u001b[0m \u001b[0m__debug__\u001b[0m\u001b[1;33m:\u001b[0m\u001b[1;33m\u001b[0m\u001b[0m\n\u001b[0;32m    342\u001b[0m                     \u001b[0mself\u001b[0m\u001b[1;33m.\u001b[0m\u001b[0m_note\u001b[0m\u001b[1;33m(\u001b[0m\u001b[1;34m\"%s.wait(): got it\"\u001b[0m\u001b[1;33m,\u001b[0m \u001b[0mself\u001b[0m\u001b[1;33m)\u001b[0m\u001b[1;33m\u001b[0m\u001b[0m\n",
      "\u001b[1;31mKeyboardInterrupt\u001b[0m: "
     ]
    }
   ],
   "source": [
    "Xv = get_extended_docs_with_inference_data_only(doc2vec_model, VALIDATION_DICT, \n",
    "                                         validation_preprocessed_files_prefix)"
   ]
  },
  {
   "cell_type": "code",
   "execution_count": 30,
   "metadata": {
    "collapsed": false
   },
   "outputs": [
    {
     "name": "stdout",
     "output_type": "stream",
     "text": [
      "/tmp/tmpOKbR6R/source.c:1:19: fatal error: cblas.h: Datei oder Verzeichnis nicht gefunden\n",
      " #include <cblas.h>\n",
      "                   ^\n",
      "compilation terminated.\n"
     ]
    },
    {
     "data": {
      "text/plain": [
       "{'libraries': ['blas', 'blas'], 'library_dirs': ['/usr/lib64']}"
      ]
     },
     "execution_count": 30,
     "metadata": {},
     "output_type": "execute_result"
    }
   ],
   "source": [
    "import numpy.distutils.system_info as sysinfo\n",
    "sysinfo.get_info('blas')"
   ]
  },
  {
   "cell_type": "code",
   "execution_count": 31,
   "metadata": {
    "collapsed": false
   },
   "outputs": [
    {
     "name": "stdout",
     "output_type": "stream",
     "text": [
      "lapack_info:\n",
      "    libraries = ['lapack', 'lapack']\n",
      "    library_dirs = ['/usr/lib64']\n",
      "    language = f77\n",
      "lapack_opt_info:\n",
      "    libraries = ['lapack', 'lapack', 'blas', 'blas']\n",
      "    library_dirs = ['/usr/lib64']\n",
      "    language = f77\n",
      "    define_macros = [('NO_ATLAS_INFO', 1)]\n",
      "openblas_lapack_info:\n",
      "  NOT AVAILABLE\n",
      "blas_info:\n",
      "    libraries = ['blas', 'blas']\n",
      "    library_dirs = ['/usr/lib64']\n",
      "atlas_3_10_blas_threads_info:\n",
      "  NOT AVAILABLE\n",
      "atlas_threads_info:\n",
      "  NOT AVAILABLE\n",
      "atlas_3_10_threads_info:\n",
      "  NOT AVAILABLE\n",
      "atlas_blas_info:\n",
      "  NOT AVAILABLE\n",
      "atlas_3_10_blas_info:\n",
      "  NOT AVAILABLE\n",
      "atlas_blas_threads_info:\n",
      "  NOT AVAILABLE\n",
      "openblas_info:\n",
      "  NOT AVAILABLE\n",
      "blas_mkl_info:\n",
      "  NOT AVAILABLE\n",
      "blas_opt_info:\n",
      "    libraries = ['blas', 'blas']\n",
      "    library_dirs = ['/usr/lib64']\n",
      "    define_macros = [('NO_ATLAS_INFO', 1)]\n",
      "blis_info:\n",
      "  NOT AVAILABLE\n",
      "atlas_info:\n",
      "  NOT AVAILABLE\n",
      "atlas_3_10_info:\n",
      "  NOT AVAILABLE\n",
      "lapack_mkl_info:\n",
      "  NOT AVAILABLE\n"
     ]
    }
   ],
   "source": [
    "np.__config__.show()"
   ]
  },
  {
   "cell_type": "code",
   "execution_count": null,
   "metadata": {
    "collapsed": true
   },
   "outputs": [],
   "source": []
  }
 ],
 "metadata": {
  "kernelspec": {
   "display_name": "Python 2",
   "language": "python",
   "name": "python2"
  },
  "language_info": {
   "codemirror_mode": {
    "name": "ipython",
    "version": 2
   },
   "file_extension": ".py",
   "mimetype": "text/x-python",
   "name": "python",
   "nbconvert_exporter": "python",
   "pygments_lexer": "ipython2",
   "version": "2.7.12"
  }
 },
 "nbformat": 4,
 "nbformat_minor": 1
}
