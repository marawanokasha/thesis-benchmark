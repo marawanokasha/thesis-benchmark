{
 "cells": [
  {
   "cell_type": "code",
   "execution_count": 1,
   "metadata": {
    "collapsed": false
   },
   "outputs": [
    {
     "name": "stderr",
     "output_type": "stream",
     "text": [
      "Using gpu device 2: Tesla K40m (CNMeM is disabled, cuDNN 5105)\n",
      "/home/stud/shalaby/.virtualenv/thesis-env/lib/python2.7/site-packages/theano/sandbox/cuda/__init__.py:600: UserWarning: Your cuDNN version is more recent than the one Theano officially supports. If you see any problems, try updating Theano or downgrading cuDNN to version 5.\n",
      "  warnings.warn(warn)\n"
     ]
    }
   ],
   "source": [
    "import json\n",
    "import nltk\n",
    "from nltk.tokenize import RegexpTokenizer\n",
    "import string\n",
    "import math\n",
    "import os\n",
    "import time\n",
    "from collections import namedtuple\n",
    "import cPickle as pickle\n",
    "import pandas as pd\n",
    "\n",
    "import pyspark\n",
    "\n",
    "%matplotlib inline\n",
    "import matplotlib.pyplot as plt\n",
    "import matplotlib as mpl\n",
    "import numpy as np\n",
    "import random\n",
    "from sklearn.metrics import coverage_error\n",
    "import sklearn.metrics\n",
    "from gensim.models.doc2vec import Doc2Vec, LabeledSentence\n",
    "from sklearn.svm import LinearSVC\n",
    "from sklearn.multiclass import OneVsRestClassifier\n",
    "from sklearn.preprocessing import MultiLabelBinarizer\n",
    "import logging\n",
    "from logging import info\n",
    "from functools import partial\n",
    "\n",
    "from keras.layers import Input, Dense\n",
    "from keras.models import Model"
   ]
  },
  {
   "cell_type": "code",
   "execution_count": 2,
   "metadata": {
    "collapsed": true
   },
   "outputs": [],
   "source": [
    "from thesis.utils.metrics import *"
   ]
  },
  {
   "cell_type": "code",
   "execution_count": 3,
   "metadata": {
    "collapsed": true
   },
   "outputs": [],
   "source": [
    "root = logging.getLogger()\n",
    "for handler in root.handlers[:]:\n",
    "    root.removeHandler(handler)\n",
    "logging.basicConfig(format='%(asctime)s : %(levelname)s : %(message)s', level=logging.INFO) # adds a default StreamHanlder\n",
    "#root.addHandler(logging.StreamHandler())"
   ]
  },
  {
   "cell_type": "code",
   "execution_count": 4,
   "metadata": {
    "collapsed": true
   },
   "outputs": [],
   "source": [
    "IS_SAMPLE = True"
   ]
  },
  {
   "cell_type": "code",
   "execution_count": 5,
   "metadata": {
    "collapsed": true
   },
   "outputs": [],
   "source": [
    "SVM_SEED = 1234\n",
    "DOC2VEC_SEED = 1234"
   ]
  },
  {
   "cell_type": "code",
   "execution_count": 6,
   "metadata": {
    "collapsed": true
   },
   "outputs": [],
   "source": [
    "NUMBER_INDICATOR = \"number_inidicator\"\n",
    "CURRENCY_INDICATOR = \"currency_inidicator\"\n",
    "CHEMICAL_INDICATOR = \"chemical_inidicator\"\n",
    "MIN_WORD_COUNT = 5\n",
    "MIN_SIZE = 0\n",
    "NUM_CORES = 7"
   ]
  },
  {
   "cell_type": "code",
   "execution_count": 7,
   "metadata": {
    "collapsed": false
   },
   "outputs": [],
   "source": [
    "GLOBAL_VARS = namedtuple('GLOBAL_VARS', ['MODEL_NAME', 'DOC2VEC_MODEL', 'SVM_MODEL_NAME', 'NN_MODEL_NAME'])"
   ]
  },
  {
   "cell_type": "code",
   "execution_count": 8,
   "metadata": {
    "collapsed": true
   },
   "outputs": [],
   "source": [
    "SAMPLE_RATIO = 0.0001"
   ]
  },
  {
   "cell_type": "code",
   "execution_count": 9,
   "metadata": {
    "collapsed": true
   },
   "outputs": [],
   "source": [
    "VOCAB_MODEL = \"vocab_model\"\n",
    "MODEL_PREFIX = \"model\"\n",
    "VALIDATION_MATRIX = \"validation_matrix.pkl\"\n",
    "METRICS = \"metrics.pkl\""
   ]
  },
  {
   "cell_type": "code",
   "execution_count": 10,
   "metadata": {
    "collapsed": false
   },
   "outputs": [],
   "source": [
    "#training_file = \"/home/local/shalaby/docs_output_sample_100.json\"\n",
    "\n",
    "save_parent_location = \"hdfs://deka.cip.ifi.lmu.de/pg-vectors/\"\n",
    "if IS_SAMPLE: \n",
    "    save_parent_location = save_parent_location + \"sample_\" + str(SAMPLE_RATIO) + \"/\"\n",
    "\n",
    "\n",
    "root_location = \"/mnt/data2/shalaby/\"\n",
    "exports_location = root_location + \"exported_data/\"\n",
    "\n",
    "doc2vec_model_save_location = os.path.join(root_location, \"parameter_search_doc2vec_models\", \"sample_\" + str(SAMPLE_RATIO))\n",
    "if not os.path.exists(doc2vec_model_save_location):\n",
    "    os.makedirs(doc2vec_model_save_location)\n",
    "if not os.path.exists(os.path.join(doc2vec_model_save_location, VOCAB_MODEL)):\n",
    "    os.makedirs(os.path.join(doc2vec_model_save_location, VOCAB_MODEL))\n",
    "\n",
    "#training_file = root_location + \"docs_output.json\"\n",
    "training_file = root_location + 'docs_output_training_validation_documents_' + str(SAMPLE_RATIO)\n",
    "\n",
    "doc_classifications_map_file = exports_location + \"doc_classification_map.pkl\"\n",
    "sections_file = exports_location + \"sections.pkl\"\n",
    "classes_file = exports_location + \"classes.pkl\"\n",
    "subclasses_file = exports_location + \"subclasses.pkl\"\n",
    "classifications_output = exports_location + \"classifications.pkl\"\n",
    "training_docs_list_file = exports_location + \"training_documents_\" + str(SAMPLE_RATIO) + \"_sample.pkl\"\n",
    "validation_docs_list_file = exports_location + \"validation_documents_\" + str(SAMPLE_RATIO) + \"_sample.pkl\""
   ]
  },
  {
   "cell_type": "code",
   "execution_count": 11,
   "metadata": {
    "collapsed": false
   },
   "outputs": [
    {
     "name": "stdout",
     "output_type": "stream",
     "text": [
      "CPU times: user 15.2 s, sys: 880 ms, total: 16.1 s\n",
      "Wall time: 16.1 s\n"
     ]
    }
   ],
   "source": [
    "%%time\n",
    "doc_classification_map = pickle.load(open(doc_classifications_map_file))\n",
    "sections = pickle.load(open(sections_file))\n",
    "classes = pickle.load(open(classes_file))\n",
    "subclasses = pickle.load(open(subclasses_file))\n",
    "training_docs_list = pickle.load(open(training_docs_list_file))\n",
    "validation_docs_list = pickle.load(open(validation_docs_list_file))"
   ]
  },
  {
   "cell_type": "code",
   "execution_count": 12,
   "metadata": {
    "collapsed": false
   },
   "outputs": [
    {
     "data": {
      "text/plain": [
       "8979"
      ]
     },
     "execution_count": 12,
     "metadata": {},
     "output_type": "execute_result"
    }
   ],
   "source": [
    "len(training_docs_list)"
   ]
  },
  {
   "cell_type": "code",
   "execution_count": 13,
   "metadata": {
    "collapsed": false
   },
   "outputs": [
    {
     "data": {
      "text/plain": [
       "1969"
      ]
     },
     "execution_count": 13,
     "metadata": {},
     "output_type": "execute_result"
    }
   ],
   "source": [
    "len(validation_docs_list)"
   ]
  },
  {
   "cell_type": "code",
   "execution_count": 14,
   "metadata": {
    "collapsed": true
   },
   "outputs": [],
   "source": [
    "def stemtokenizer(text):\n",
    "    \"\"\" MAIN FUNCTION to get clean stems out of a text. A list of clean stems are returned \"\"\"\n",
    "    tokenizer = RegexpTokenizer(r'\\s+', gaps=True)\n",
    "    tokens = tokenizer.tokenize(text)\n",
    "    stems = []  # result\n",
    "    for token in tokens:\n",
    "        stem = token.lower()\n",
    "        stem = stem.strip(string.punctuation)\n",
    "        if stem:\n",
    "            if is_number(stem):\n",
    "                stem = NUMBER_INDICATOR\n",
    "            elif is_currency(stem):\n",
    "                stem = CURRENCY_INDICATOR\n",
    "            elif is_chemical(stem):\n",
    "                stem = CHEMICAL_INDICATOR\n",
    "            else:\n",
    "                stem = stem.strip(string.punctuation)\n",
    "            if stem and len(stem) >= MIN_SIZE:\n",
    "                # extract uni-grams\n",
    "                stems.append(stem)\n",
    "    del tokens\n",
    "    return stems\n",
    "\n",
    "def is_number(str):\n",
    "    \"\"\" Returns true if given string is a number (float or int)\"\"\"\n",
    "    try:\n",
    "        float(str.replace(\",\", \"\"))\n",
    "        return True\n",
    "    except ValueError:\n",
    "        return False\n",
    "\n",
    "def is_currency(str):\n",
    "    return str[0] == \"$\"\n",
    "\n",
    "def is_chemical(str):\n",
    "    return str.count(\"-\") > 3"
   ]
  },
  {
   "cell_type": "code",
   "execution_count": 15,
   "metadata": {
    "collapsed": true
   },
   "outputs": [],
   "source": [
    "def get_training_vector(classification, term_list, classifications, number_of_terms):\n",
    "    clss = 1 if classification in classifications else 0\n",
    "    return LabeledPoint(clss, SparseVector(number_of_terms, term_list))\n",
    "\n",
    "def train_level_new(docs_index, classification, doc_classification_map, number_of_terms):\n",
    "    training_vectors = docs_index.map(\n",
    "        lambda (doc_id, postings): get_training_vector(classification, postings,\n",
    "                                                        doc_classification_map[doc_id], number_of_terms))\n",
    "    svm = SVMWithSGD.train(training_vectors, iterations=SVM_ITERATIONS, convergenceTol=SVM_CONVERGENCE, regParam=SVM_REG)\n",
    "    return training_vectors, svm\n",
    "\n",
    "def model_exists(path):\n",
    "    try:\n",
    "        model = SVMModel.load(sc, path)\n",
    "        return True;\n",
    "    except:\n",
    "        return False\n",
    "    \n",
    "def get_training_vector(classification, dense_vector, classifications):\n",
    "    clss = 1 if classification in classifications else 0\n",
    "    return LabeledPoint(clss, dense_vector)\n",
    "\n",
    "def train_level_doc2vec(classification, doc_classification_map):\n",
    "    doc2vec_model = GLOBAL_VARS.DOC2VEC_MODEL\n",
    "    training_vectors = []\n",
    "    for doc_id in training_docs_list:\n",
    "        # converting from memmap to a normal array as spark is unable to convert memmap to a spark Vector\n",
    "        normal_array = []\n",
    "        normal_array[:] = doc2vec_model.docvecs[doc_id][:]\n",
    "        training_vectors.append(get_training_vector(classification, normal_array, \n",
    "                                                    doc_classification_map[doc_id]))\n",
    "    info(\"Finished getting training vectors\")\n",
    "    training_vectors = sc.parallelize(training_vectors)\n",
    "    info(\"Finished parallelization\")\n",
    "    svm = SVMWithSGD.train(training_vectors, iterations=SVM_ITERATIONS, convergenceTol=SVM_CONVERGENCE, regParam=SVM_REG)\n",
    "    return training_vectors, svm"
   ]
  },
  {
   "cell_type": "code",
   "execution_count": 16,
   "metadata": {
    "collapsed": false
   },
   "outputs": [],
   "source": [
    "def ensure_hdfs_location_exists(location):\n",
    "    parent = os.path.dirname(location)\n",
    "    os.system(\"hdfs dfs -mkdir -p \" + location)\n",
    "\n",
    "def ensure_disk_location_exists(location):\n",
    "    if not os.path.exists(location):\n",
    "        os.makedirs(location)"
   ]
  },
  {
   "cell_type": "code",
   "execution_count": 17,
   "metadata": {
    "collapsed": true
   },
   "outputs": [],
   "source": [
    "def train_classifications(classifications):\n",
    "    info(\"====== Doing Training\")\n",
    "    i=0\n",
    "    for classification in classifications:\n",
    "        print classification\n",
    "        try:\n",
    "            model_path = get_svm_model_path(GLOBAL_VARS.MODEL_NAME, classification)\n",
    "            if not model_exists(model_path):\n",
    "                training_vectors, svm = train_level_doc2vec(classification, doc_classification_map)\n",
    "                svm.save(sc, model_path)\n",
    "            else:\n",
    "                print \"Model Exists\"\n",
    "        except:\n",
    "            print \"Problem creating: %s: %s\" % (classification, GLOBAL_VARS.MODEL_NAME)\n",
    "            raise"
   ]
  },
  {
   "cell_type": "code",
   "execution_count": 17,
   "metadata": {
    "collapsed": false
   },
   "outputs": [],
   "source": [
    "def do_validation(validation_vectors_matrix, doc_classification_map, classifications, classifications_name):\n",
    "\n",
    "    info(\"====== Doing Validation\")\n",
    "    method = GLOBAL_VARS.MODEL_NAME\n",
    "    subset = classifications_name\n",
    "\n",
    "    doc_count = validation_vectors_matrix.shape[0]\n",
    "    y_score = np.zeros((doc_count, len(classifications)))\n",
    "    y_true = np.zeros((doc_count, len(classifications)))\n",
    "    i=0\n",
    "\n",
    "    for classification in classifications:\n",
    "        print classification\n",
    "\n",
    "        validation_vectors = get_validation_doc2vec_spark_vectors(validation_vectors_matrix, \n",
    "                                                                  classification, doc_classification_map)\n",
    "        #global binarySvm\n",
    "        binarySvm = SVMModel.load(sc, get_svm_model_path(GLOBAL_VARS.MODEL_NAME, classification))\n",
    "        info(\"Loaded the model, Doing the prediction now....\")\n",
    "        binarySvm.clearThreshold()\n",
    "        binarySvmB = sc.broadcast(binarySvm)\n",
    "        # using the broadcasted binarySvm variable, fixes global name 'binarySvm' is not defined as this variable was not\n",
    "        # available in the workers, so we pass it explicitly to the mapper using partial\n",
    "        labels_predictions = validation_vectors.map( \\\n",
    "            partial(lambda svm, p: (p.label, svm.value.predict(p.features)), binarySvmB) \\\n",
    "        ).collect()\n",
    "        #labels = test_labeled_points.map(lambda p: p.labels)\n",
    "        y_true[:,i] = [label_pred[0] for label_pred in labels_predictions]\n",
    "        y_score[:,i] = [label_pred[1] for label_pred in labels_predictions]\n",
    "        i+=1\n",
    "    y_binary_score = get_binary(y_score)\n",
    "    # results[method][\"y_true\"] = y_true\n",
    "    # results[method][\"y_score\"] = y_score\n",
    "    # results[method][\"y_binary_score\"] = y_binary_score\n",
    "    metrics = get_metrics(y_true, y_score, y_binary_score)\n",
    "    return metrics\n"
   ]
  },
  {
   "cell_type": "code",
   "execution_count": 18,
   "metadata": {
    "collapsed": false
   },
   "outputs": [],
   "source": [
    "def get_validation_docs_with_inference(doc2vec_model, doc_classification_map):\n",
    "    \"\"\"\n",
    "    Use the trained doc2vec model to get the paragraph vector representations of the validation documents\n",
    "    \"\"\"\n",
    "    if os.path.exists(os.path.join(doc2vec_model_save_location, GLOBAL_VARS.MODEL_NAME, VALIDATION_MATRIX)):\n",
    "        info(\"===== Loading validation vectors\")\n",
    "        validation_vectors_matrix = pickle.load(open(os.path.join(doc2vec_model_save_location, GLOBAL_VARS.MODEL_NAME, VALIDATION_MATRIX)))\n",
    "    else:\n",
    "        validation_documents_reps = {}\n",
    "        validation_vectors = []\n",
    "        validation_labels = []\n",
    "        info(\"===== Getting validation vectors with inference\")\n",
    "\n",
    "        # do inference and store results in dict\n",
    "        i = 0\n",
    "        for (doc_id, doc_contents_array) in ValidationDocumentGenerator(training_file, validation_docs_list):\n",
    "            i += 1\n",
    "            if i % 1000 == 0: info(\"Finished: {}\".format(str(i)))\n",
    "            validation_documents_reps[doc_id] = doc2vec_model.infer_vector(doc_contents_array)\n",
    "\n",
    "        # create matrix for the validation vectors\n",
    "        for validation_doc_id in validation_docs_list:\n",
    "            validation_vectors.append(validation_documents_reps[validation_doc_id])\n",
    "            validation_labels.append([classf for classf in doc_classification_map[validation_doc_id] if classf in sections])\n",
    "        validation_vectors_matrix = np.array(validation_vectors)\n",
    "        pickle.dump(validation_vectors_matrix, open(os.path.join(doc2vec_model_save_location, GLOBAL_VARS.MODEL_NAME, VALIDATION_MATRIX), 'w'))\n",
    "    \n",
    "    return validation_vectors_matrix"
   ]
  },
  {
   "cell_type": "code",
   "execution_count": 19,
   "metadata": {
    "collapsed": true
   },
   "outputs": [],
   "source": [
    "def get_validation_doc2vec_spark_vectors(validation_vectors_matrix, classification, doc_classification_map):\n",
    "    validation_vectors = []\n",
    "    for (index, doc_id) in enumerate(validation_docs_list):\n",
    "        # converting from memmap to a normal array as spark is unable to convert memmap to a spark Vector\n",
    "        validation_vector = validation_vectors_matrix[index]\n",
    "        validation_vectors.append(get_training_vector(classification, validation_vector, \n",
    "                                                    doc_classification_map[doc_id]))\n",
    "    validation_vectors = sc.parallelize(validation_vectors)\n",
    "    info(\"Finished getting validation vectors\")\n",
    "    return validation_vectors"
   ]
  },
  {
   "cell_type": "markdown",
   "metadata": {},
   "source": [
    "### Doc2vec and SVM Parameters"
   ]
  },
  {
   "cell_type": "code",
   "execution_count": 18,
   "metadata": {
    "collapsed": true
   },
   "outputs": [],
   "source": [
    "DOC2VEC_SIZE = 3000\n",
    "DOC2VEC_WINDOW = 8\n",
    "DOC2VEC_MAX_VOCAB_SIZE = None\n",
    "DOC2VEC_SAMPLE = 1e-5\n",
    "DOC2VEC_TYPE = 1\n",
    "DOC2VEC_HIERARCHICAL_SAMPLE = 0\n",
    "DOC2VEC_NEGATIVE_SAMPLE_SIZE = 10\n",
    "DOC2VEC_CONCAT = 1\n",
    "DOC2VEC_MEAN = 0\n",
    "DOC2VEC_TRAIN_WORDS = 0\n",
    "DOC2VEC_EPOCHS = 1 # we do our training manually one epoch at a time\n",
    "DOC2VEC_MAX_EPOCHS = 20\n",
    "REPORT_DELAY = 60 # report the progress every x seconds\n",
    "REPORT_VOCAB_PROGRESS = 1000 # report the progress every x terms"
   ]
  },
  {
   "cell_type": "code",
   "execution_count": 19,
   "metadata": {
    "collapsed": true
   },
   "outputs": [],
   "source": [
    "SVM_ITERATIONS = 1000\n",
    "SVM_CONVERGENCE = 0.001\n",
    "SVM_REG = 0.001\n",
    "GLOBAL_VARS.SVM_MODEL_NAME = 'iter_{}_reg_{}'.format(SVM_ITERATIONS, SVM_REG)"
   ]
  },
  {
   "cell_type": "code",
   "execution_count": 20,
   "metadata": {
    "collapsed": true
   },
   "outputs": [],
   "source": [
    "NN_HIDDEN_NEURONS = 1500\n",
    "NN_EPOCHS = 20"
   ]
  },
  {
   "cell_type": "code",
   "execution_count": 45,
   "metadata": {
    "collapsed": false
   },
   "outputs": [],
   "source": [
    "def get_svm_model_path(method, classification, reg=SVM_REG, iterations=SVM_ITERATIONS):\n",
    "    location = os.path.join(save_parent_location, \"models\", method, \n",
    "                            \"iter_\" + str(iterations) + \"_reg_\" + str(reg),\n",
    "                            classification + \"_model.svm\")\n",
    "    ensure_hdfs_location_exists(location)\n",
    "    return location\n",
    "\n",
    "class TrainingDocumentGenerator(object):\n",
    "    def __init__(self, filename, training_docs_list):\n",
    "        self.filename = filename\n",
    "        self.training_docs_list = training_docs_list\n",
    "    def __iter__(self):\n",
    "        with open(self.filename) as file_obj:\n",
    "            for line in file_obj:\n",
    "                if not line.strip(): continue\n",
    "                (doc_id, text) = eval(line)\n",
    "                if doc_id in self.training_docs_list:\n",
    "                    yield LabeledSentence(words=stemtokenizer(text), tags=[doc_id])\n",
    "                \n",
    "class ValidationDocumentGenerator(object):\n",
    "    def __init__(self, filename, validation_docs_list):\n",
    "        self.filename = filename\n",
    "        self.validation_docs_list = validation_docs_list\n",
    "    def __iter__(self):\n",
    "        with open(self.filename) as file_obj:\n",
    "            for line in file_obj:\n",
    "                if not line.strip(): continue\n",
    "                (doc_id, text) = eval(line)\n",
    "                if doc_id in self.validation_docs_list:\n",
    "                    yield doc_id, stemtokenizer(text)\n",
    "                    \n",
    "class StochasticDocumentGenerator(object):\n",
    "    def __init__(self, filename, training_docs_list, line_positions):\n",
    "        self.filename = filename\n",
    "        self.training_docs_list = training_docs_list\n",
    "        self.line_positions = line_positions\n",
    "        self.lines = set(line_positions.keys())\n",
    "    def __iter__(self):\n",
    "        with open(self.filename) as file_obj:\n",
    "            while len(self.lines) > 0:\n",
    "                random_line = random.sample(self.lines,1)[0]\n",
    "                self.lines.remove(random_line)\n",
    "                file_obj.seek(self.line_positions[random_line])\n",
    "                line = file_obj.readline()\n",
    "                if not line.strip(): continue\n",
    "#                 print random_line, self.line_positions[random_line], line[:30]\n",
    "                (doc_id, text) = eval(line)\n",
    "                # print random_line , doc_id\n",
    "                if doc_id in self.training_docs_list:\n",
    "                    yield LabeledSentence(words=stemtokenizer(text), tags=[doc_id])\n",
    "#                     yield doc_id"
   ]
  },
  {
   "cell_type": "markdown",
   "metadata": {},
   "source": [
    "#### Get starting positions in bytes for every line to be able to do random sampling"
   ]
  },
  {
   "cell_type": "code",
   "execution_count": 36,
   "metadata": {
    "collapsed": false
   },
   "outputs": [],
   "source": [
    "line_positions = dict()\n",
    "with open(training_file) as f:\n",
    "    \n",
    "    i = 0\n",
    "    line_positions[i] = f.tell()\n",
    "    line = f.readline()\n",
    "    while line:\n",
    "        i+=1\n",
    "        if not line.strip(): continue\n",
    "        line_positions[i] = f.tell()\n",
    "        line = f.readline()\n",
    "    del line_positions[i]"
   ]
  },
  {
   "cell_type": "markdown",
   "metadata": {},
   "source": [
    "## Create the Doc2vec model"
   ]
  },
  {
   "cell_type": "code",
   "execution_count": 21,
   "metadata": {
    "collapsed": false
   },
   "outputs": [
    {
     "data": {
      "text/plain": [
       "'doc2vec_size_3000_w_8_type_dm_concat_1_mean_0_trainwords_0_hs_0_neg_10_vocabsize_None_curriter_{}'"
      ]
     },
     "execution_count": 21,
     "metadata": {},
     "output_type": "execute_result"
    }
   ],
   "source": [
    "placeholder_model_name = 'doc2vec_size_{}_w_{}_type_{}_concat_{}_mean_{}_trainwords_{}_hs_{}_neg_{}_vocabsize_{}'.format(DOC2VEC_SIZE, \n",
    "                                                                DOC2VEC_WINDOW, \n",
    "                                                                'dm' if DOC2VEC_TYPE == 1 else 'pv-dbow',\n",
    "                                                                DOC2VEC_CONCAT, DOC2VEC_MEAN,\n",
    "                                                                DOC2VEC_TRAIN_WORDS,\n",
    "                                                                DOC2VEC_HIERARCHICAL_SAMPLE,DOC2VEC_NEGATIVE_SAMPLE_SIZE,\n",
    "                                                                str(DOC2VEC_MAX_VOCAB_SIZE))\n",
    "placeholder_model_name = placeholder_model_name + \"_curriter_{}\"\n",
    "placeholder_model_name"
   ]
  },
  {
   "cell_type": "code",
   "execution_count": 38,
   "metadata": {
    "collapsed": false
   },
   "outputs": [],
   "source": [
    "doc2vec_model = Doc2Vec(size=DOC2VEC_SIZE , window=DOC2VEC_WINDOW, min_count=MIN_WORD_COUNT, \n",
    "                max_vocab_size= DOC2VEC_MAX_VOCAB_SIZE,\n",
    "                sample=DOC2VEC_SAMPLE, seed=DOC2VEC_SEED, workers=NUM_CORES,\n",
    "                # doc2vec algorithm dm=1 => PV-DM, dm=2 => PV-DBOW, PV-DM dictates CBOW for words\n",
    "                dm=DOC2VEC_TYPE,\n",
    "                # hs=0 => negative sampling, hs=1 => hierarchical softmax\n",
    "                hs=DOC2VEC_HIERARCHICAL_SAMPLE, negative=DOC2VEC_NEGATIVE_SAMPLE_SIZE,\n",
    "                dm_concat=DOC2VEC_CONCAT,\n",
    "                # would train words with skip-gram on top of cbow, we don't need that for now\n",
    "                dbow_words=DOC2VEC_TRAIN_WORDS,\n",
    "                iter=DOC2VEC_EPOCHS)\n",
    "\n",
    "GLOBAL_VARS.DOC2VEC_MODEL = doc2vec_model"
   ]
  },
  {
   "cell_type": "code",
   "execution_count": 39,
   "metadata": {
    "collapsed": false
   },
   "outputs": [
    {
     "name": "stderr",
     "output_type": "stream",
     "text": [
      "2016-09-26 13:57:01,977 : INFO : loading Doc2Vec object from /home/local/shalaby/parameter_search_doc2vec_models/sample_0.0001/vocab_model/model\n",
      "2016-09-26 13:57:02,627 : INFO : loading docvecs recursively from /home/local/shalaby/parameter_search_doc2vec_models/sample_0.0001/vocab_model/model.docvecs.* with mmap=None\n",
      "2016-09-26 13:57:02,628 : INFO : loading syn1neg from /home/local/shalaby/parameter_search_doc2vec_models/sample_0.0001/vocab_model/model.syn1neg.npy with mmap=None\n",
      "2016-09-26 14:00:59,750 : INFO : loading syn0 from /home/local/shalaby/parameter_search_doc2vec_models/sample_0.0001/vocab_model/model.syn0.npy with mmap=None\n",
      "2016-09-26 14:01:15,492 : INFO : setting ignored attribute syn0norm to None\n",
      "2016-09-26 14:01:15,493 : INFO : setting ignored attribute cum_table to None\n",
      "2016-09-26 14:01:15,900 : INFO : resetting layer weights\n"
     ]
    },
    {
     "name": "stdout",
     "output_type": "stream",
     "text": [
      "CPU times: user 7.69 s, sys: 4min 16s, total: 4min 24s\n",
      "Wall time: 4min 24s\n"
     ]
    }
   ],
   "source": [
    "%%time\n",
    "if not os.path.exists(os.path.join(doc2vec_model_save_location, VOCAB_MODEL, MODEL_PREFIX)):\n",
    "    doc2vec_model.build_vocab(sentences=TrainingDocumentGenerator(training_file, training_docs_list), \n",
    "                              progress_per=REPORT_VOCAB_PROGRESS)\n",
    "    doc2vec_model.save(os.path.join(doc2vec_model_save_location, VOCAB_MODEL, MODEL_PREFIX))\n",
    "else: \n",
    "    doc2vec_model_vocab_model = Doc2Vec.load(os.path.join(doc2vec_model_save_location, VOCAB_MODEL, MODEL_PREFIX))\n",
    "    doc2vec_model.reset_from(doc2vec_model_vocab_model)"
   ]
  },
  {
   "cell_type": "markdown",
   "metadata": {},
   "source": [
    "## Actual Training, validation and Metrics Loop"
   ]
  },
  {
   "cell_type": "code",
   "execution_count": 23,
   "metadata": {
    "collapsed": true
   },
   "outputs": [],
   "source": [
    "best_svm_epoch = 13"
   ]
  },
  {
   "cell_type": "code",
   "execution_count": 24,
   "metadata": {
    "collapsed": false
   },
   "outputs": [
    {
     "name": "stderr",
     "output_type": "stream",
     "text": [
      "2016-11-24 21:33:47,242 : INFO : loading Doc2Vec object from /mnt/data2/shalaby/parameter_search_doc2vec_models/sample_0.0001/doc2vec_size_3000_w_8_type_dm_concat_1_mean_0_trainwords_0_hs_0_neg_10_vocabsize_None_curriter_13/model\n",
      "2016-11-24 21:33:47,604 : INFO : loading docvecs recursively from /mnt/data2/shalaby/parameter_search_doc2vec_models/sample_0.0001/doc2vec_size_3000_w_8_type_dm_concat_1_mean_0_trainwords_0_hs_0_neg_10_vocabsize_None_curriter_13/model.docvecs.* with mmap=None\n",
      "2016-11-24 21:33:47,606 : INFO : loading doctag_syn0 from /mnt/data2/shalaby/parameter_search_doc2vec_models/sample_0.0001/doc2vec_size_3000_w_8_type_dm_concat_1_mean_0_trainwords_0_hs_0_neg_10_vocabsize_None_curriter_13/model.docvecs.doctag_syn0.npy with mmap=None\n",
      "2016-11-24 21:33:47,831 : INFO : loading syn1neg from /mnt/data2/shalaby/parameter_search_doc2vec_models/sample_0.0001/doc2vec_size_3000_w_8_type_dm_concat_1_mean_0_trainwords_0_hs_0_neg_10_vocabsize_None_curriter_13/model.syn1neg.npy with mmap=None\n",
      "2016-11-24 21:35:13,532 : INFO : loading syn0 from /mnt/data2/shalaby/parameter_search_doc2vec_models/sample_0.0001/doc2vec_size_3000_w_8_type_dm_concat_1_mean_0_trainwords_0_hs_0_neg_10_vocabsize_None_curriter_13/model.syn0.npy with mmap=None\n",
      "2016-11-24 21:35:18,988 : INFO : setting ignored attribute syn0norm to None\n",
      "2016-11-24 21:35:18,989 : INFO : setting ignored attribute cum_table to None\n"
     ]
    }
   ],
   "source": [
    "GLOBAL_VARS.MODEL_NAME = placeholder_model_name.format(best_svm_epoch)\n",
    "doc2vec_model = Doc2Vec.load(os.path.join(doc2vec_model_save_location, GLOBAL_VARS.MODEL_NAME, MODEL_PREFIX))"
   ]
  },
  {
   "cell_type": "code",
   "execution_count": 25,
   "metadata": {
    "collapsed": true
   },
   "outputs": [],
   "source": [
    "class OneHotEncoder():\n",
    "    \n",
    "    def __init__(self, classifications):\n",
    "        self.classifications = classifications\n",
    "        self.one_hot_indices = {}\n",
    "\n",
    "        # convert character classifications to bit vectors\n",
    "        for i, clssf in enumerate(classifications):\n",
    "            bits = [0] * len(classifications)\n",
    "            bits[i] = 1\n",
    "            self.one_hot_indices[clssf] = i\n",
    "    \n",
    "    def get_label_vector(self, labels):\n",
    "        \"\"\"\n",
    "        classes: array of string with the classes assigned to the instance\n",
    "        \"\"\"\n",
    "        output_vector = [0] * len(self.classifications)\n",
    "        for label in labels:\n",
    "            index = self.one_hot_indices[label]\n",
    "            output_vector[index] = 1\n",
    "            \n",
    "        return output_vector"
   ]
  },
  {
   "cell_type": "markdown",
   "metadata": {},
   "source": [
    "#### Prepare Training Data"
   ]
  },
  {
   "cell_type": "code",
   "execution_count": 26,
   "metadata": {
    "collapsed": false
   },
   "outputs": [
    {
     "name": "stdout",
     "output_type": "stream",
     "text": [
      "CPU times: user 1.39 s, sys: 588 ms, total: 1.98 s\n",
      "Wall time: 1.81 s\n"
     ]
    }
   ],
   "source": [
    "%%time\n",
    "classifications = sections\n",
    "\n",
    "NN_OUTPUT_NEURONS = len(classifications)\n",
    "one_hot_encoder = OneHotEncoder(classifications)\n",
    "training_data = []\n",
    "training_labels = []\n",
    "for doc_id in training_docs_list:\n",
    "    # converting from memmap to a normal array\n",
    "    normal_array = []\n",
    "    normal_array[:] = doc2vec_model.docvecs[doc_id][:]\n",
    "    training_data.append(normal_array)\n",
    "    eligible_classifications = [clssf for clssf in doc_classification_map[doc_id] if clssf in classifications]\n",
    "    training_labels.append(one_hot_encoder.get_label_vector(eligible_classifications))"
   ]
  },
  {
   "cell_type": "code",
   "execution_count": 28,
   "metadata": {
    "collapsed": false
   },
   "outputs": [
    {
     "name": "stdout",
     "output_type": "stream",
     "text": [
      "(1969, 3000)\n",
      "CPU times: user 2.55 s, sys: 212 ms, total: 2.76 s\n",
      "Wall time: 2.76 s\n"
     ]
    }
   ],
   "source": [
    "%%time\n",
    "\n",
    "validation_labels = []\n",
    "validation_data = pickle.load(open(\n",
    "        os.path.join(doc2vec_model_save_location, GLOBAL_VARS.MODEL_NAME, VALIDATION_MATRIX)\n",
    "))\n",
    "print validation_data.shape\n",
    "\n",
    "for validation_doc_id in validation_docs_list:\n",
    "    eligible_classifications = [clssf for clssf in doc_classification_map[validation_doc_id] if clssf in classifications]\n",
    "    validation_labels.append(one_hot_encoder.get_label_vector(eligible_classifications))"
   ]
  },
  {
   "cell_type": "code",
   "execution_count": 39,
   "metadata": {
    "collapsed": true
   },
   "outputs": [],
   "source": [
    "import theano\n",
    "from sklearn.metrics import coverage_error"
   ]
  },
  {
   "cell_type": "code",
   "execution_count": 45,
   "metadata": {
    "collapsed": true
   },
   "outputs": [],
   "source": [
    "import keras.backend as K"
   ]
  },
  {
   "cell_type": "code",
   "execution_count": 50,
   "metadata": {
    "collapsed": true
   },
   "outputs": [],
   "source": [
    "get_binary = lambda x: 1 if theano.tensor.gt(x,0.5) else 0\n",
    "get_binary = np.vectorize(get_binary)\n",
    "def custom_metrics(y_true, y_pred):\n",
    "    y_pred_binary = get_binary(y_pred)\n",
    "    metrics = {}\n",
    "    print y_true\n",
    "    print y_pred\n",
    "    \n",
    "    y_score_mask = np.ma.masked_array(y_pred, mask=np.logical_not(y_true))\n",
    "    print y_score_mask.shape\n",
    "    print y_score_mask\n",
    "    y_min_relevant = y_score_mask.min(axis=1).reshape((-1, 1))\n",
    "    coverage = (y_pred >= y_min_relevant).sum(axis=1)\n",
    "    coverage = coverage.filled(0)\n",
    "    metrics['coverage_error'] = np.average(coverage, weights=sample_weight)\n",
    "\n",
    "    #metrics['coverage_error'] = coverage_error(y_true, y_pred)\n",
    "    return metrics\n",
    "    # return get_metrics(y_true, y_pred, y_pred_binary)"
   ]
  },
  {
   "cell_type": "code",
   "execution_count": 105,
   "metadata": {
    "collapsed": true
   },
   "outputs": [],
   "source": [
    "import theano.tensor as T\n",
    "from theano import function\n",
    "import theano"
   ]
  },
  {
   "cell_type": "code",
   "execution_count": 131,
   "metadata": {
    "collapsed": false
   },
   "outputs": [
    {
     "name": "stdout",
     "output_type": "stream",
     "text": [
      "(Subtensor{int64}.0, Subtensor{int64}.0)\n"
     ]
    },
    {
     "name": "stderr",
     "output_type": "stream",
     "text": [
      "/home/stud/shalaby/.virtualenv/thesis-env/lib/python2.7/site-packages/IPython/kernel/__main__.py:12: UserWarning: theano.function was asked to create a function computing outputs given certain inputs, but the provided input variable at index 0 is not part of the computational graph needed to compute the outputs: y_true.\n",
      "To make this warning into an error, you can pass the parameter on_unused_input='raise' to theano.function. To disable it completely, use on_unused_input='ignore'.\n"
     ]
    }
   ],
   "source": [
    "y_true = T.matrix('y_true')\n",
    "y_score = T.matrix('y_score')\n",
    "\n",
    "scoring = theano.shared(np.zeros((2,3)))\n",
    "#y_score[y_true.nonzero()] = 1000\n",
    "#y_score[:] = 1\n",
    "ind = T.eq(y_score, 1)\n",
    "indices = T.neq(y_score, 1).nonzero()\n",
    "print indices\n",
    "T.set_subtensor(scoring[1,0], 2)\n",
    "#z = scoring\n",
    "f = function([y_true, y_score], [scoring, ind], on_unused_input='warn')"
   ]
  },
  {
   "cell_type": "code",
   "execution_count": 133,
   "metadata": {
    "collapsed": false
   },
   "outputs": [
    {
     "data": {
      "text/plain": [
       "array([[ 0.,  0.,  0.],\n",
       "       [ 0.,  0.,  0.]])"
      ]
     },
     "execution_count": 133,
     "metadata": {},
     "output_type": "execute_result"
    }
   ],
   "source": [
    "scoring.get_value()"
   ]
  },
  {
   "cell_type": "code",
   "execution_count": null,
   "metadata": {
    "collapsed": true
   },
   "outputs": [],
   "source": []
  },
  {
   "cell_type": "code",
   "execution_count": 71,
   "metadata": {
    "collapsed": true
   },
   "outputs": [],
   "source": [
    "ff = T.arange(9).reshape((3,3))"
   ]
  },
  {
   "cell_type": "code",
   "execution_count": 76,
   "metadata": {
    "collapsed": false
   },
   "outputs": [
    {
     "data": {
      "text/plain": [
       "array([[0, 1, 2],\n",
       "       [3, 4, 5],\n",
       "       [6, 7, 8]])"
      ]
     },
     "execution_count": 76,
     "metadata": {},
     "output_type": "execute_result"
    }
   ],
   "source": [
    "ff.eval()"
   ]
  },
  {
   "cell_type": "code",
   "execution_count": 144,
   "metadata": {
    "collapsed": false
   },
   "outputs": [
    {
     "data": {
      "text/plain": [
       "[array([0, 0, 1, 1, 1, 2, 2, 2]), array([1, 2, 0, 1, 2, 0, 1, 2])]"
      ]
     },
     "execution_count": 144,
     "metadata": {},
     "output_type": "execute_result"
    }
   ],
   "source": [
    "[f.eval() for f in ff.nonzero()]"
   ]
  },
  {
   "cell_type": "code",
   "execution_count": 177,
   "metadata": {
    "collapsed": false
   },
   "outputs": [
    {
     "data": {
      "text/plain": [
       "array([[0, 0, 1, 1, 1, 2, 2, 2],\n",
       "       [1, 2, 0, 1, 2, 0, 1, 2]])"
      ]
     },
     "execution_count": 177,
     "metadata": {},
     "output_type": "execute_result"
    }
   ],
   "source": [
    "ff.nonzero(return_matrix=True).eval()"
   ]
  },
  {
   "cell_type": "code",
   "execution_count": 146,
   "metadata": {
    "collapsed": false
   },
   "outputs": [
    {
     "data": {
      "text/plain": [
       "array([1, 2, 3, 4, 5, 6, 7, 8])"
      ]
     },
     "execution_count": 146,
     "metadata": {},
     "output_type": "execute_result"
    }
   ],
   "source": [
    "ff[ff.nonzero()].eval()"
   ]
  },
  {
   "cell_type": "code",
   "execution_count": 167,
   "metadata": {
    "collapsed": false
   },
   "outputs": [],
   "source": [
    "#dd = theano.shared(np.array([[1],[2],[3]]))\n",
    "dd = theano.shared(np.array([1,4,8]))"
   ]
  },
  {
   "cell_type": "code",
   "execution_count": 168,
   "metadata": {
    "collapsed": false
   },
   "outputs": [],
   "source": [
    "# broadcasting the columns\n",
    "ee = dd.dimshuffle((0,'x'))"
   ]
  },
  {
   "cell_type": "code",
   "execution_count": 169,
   "metadata": {
    "collapsed": false
   },
   "outputs": [
    {
     "data": {
      "text/plain": [
       "array([[0, 1, 1],\n",
       "       [0, 1, 1],\n",
       "       [0, 0, 1]], dtype=int8)"
      ]
     },
     "execution_count": 169,
     "metadata": {},
     "output_type": "execute_result"
    }
   ],
   "source": [
    "(ff >= ee).eval()"
   ]
  },
  {
   "cell_type": "code",
   "execution_count": 226,
   "metadata": {
    "collapsed": true
   },
   "outputs": [],
   "source": [
    "y_true = T.matrix('y_true')\n",
    "y_score = T.matrix('y_score')\n",
    "\n",
    "true_scores = y_true * y_score # get scores of only actually true labels\n",
    "zero_elements = T.eq(true_scores,0)\n",
    "masked_true_scores = true_scores + (zero_elements * 100) # for any label\n",
    "min_true_scores = T.min(masked_true_scores, axis=1, keepdims=True)\n",
    "coverage_per_row = (y_score >= min_true_scores).sum(axis=1)\n",
    "coverage = T.mean(coverage_per_row)\n",
    "theano_coverage_err = function(inputs=[y_true, y_score], outputs=coverage)"
   ]
  },
  {
   "cell_type": "code",
   "execution_count": 231,
   "metadata": {
    "collapsed": true
   },
   "outputs": [],
   "source": [
    "y_true = T.matrix('y_true')\n",
    "y_score = T.matrix('y_score')\n",
    "\n",
    "y_score_masked = y_true * -100 + y_score # get scores of only actually true labels\n",
    "zero_elements = T.eq(true_scores,0)\n",
    "#masked_true_scores = true_scores + (zero_elements * 100) # for any label\n",
    "min_true_scores = T.min(y_score_masked, axis=1, keepdims=True)\n",
    "coverage_per_row = (y_score >= (min_true_scores + 100)).sum(axis=1)\n",
    "coverage = T.mean(coverage_per_row)\n",
    "theano_coverage_err2 = function(inputs=[y_true, y_score], outputs=coverage)"
   ]
  },
  {
   "cell_type": "code",
   "execution_count": null,
   "metadata": {
    "collapsed": true
   },
   "outputs": [],
   "source": [
    "np.array([[1, 0, 0], [0, 0, 1]], dtype='float32'), \n",
    "             np.array([[0.75, 0.5, 1], [1, 0.2, 0.1]], dtype='float32')"
   ]
  },
  {
   "cell_type": "code",
   "execution_count": 227,
   "metadata": {
    "collapsed": false
   },
   "outputs": [
    {
     "data": {
      "text/plain": [
       "array(2.5)"
      ]
     },
     "execution_count": 227,
     "metadata": {},
     "output_type": "execute_result"
    }
   ],
   "source": [
    "theano_coverage_err(np.array([[1, 0, 0], [0, 0, 1]], dtype='float32'), \n",
    "             np.array([[0.75, 0.5, 1], [1, 0.2, 0.1]], dtype='float32'))"
   ]
  },
  {
   "cell_type": "code",
   "execution_count": 232,
   "metadata": {
    "collapsed": false
   },
   "outputs": [
    {
     "data": {
      "text/plain": [
       "array(2.5)"
      ]
     },
     "execution_count": 232,
     "metadata": {},
     "output_type": "execute_result"
    }
   ],
   "source": [
    "theano_coverage_err2(np.array([[1, 0, 0], [0, 0, 1]], dtype='float32'), \n",
    "             np.array([[0.75, 0.5, 1], [1, 0.2, 0.1]], dtype='float32'))"
   ]
  },
  {
   "cell_type": "code",
   "execution_count": 228,
   "metadata": {
    "collapsed": false
   },
   "outputs": [
    {
     "data": {
      "text/plain": [
       "2.5"
      ]
     },
     "execution_count": 228,
     "metadata": {},
     "output_type": "execute_result"
    }
   ],
   "source": [
    "coverage_error(np.array([[1, 0, 0], [0, 0, 1]], dtype='float32'), \n",
    "             np.array([[0.75, 0.5, 1], [1, 0.2, 0.1]], dtype='float32'))"
   ]
  },
  {
   "cell_type": "code",
   "execution_count": 233,
   "metadata": {
    "collapsed": false
   },
   "outputs": [
    {
     "data": {
      "text/plain": [
       "array(1.0)"
      ]
     },
     "execution_count": 233,
     "metadata": {},
     "output_type": "execute_result"
    }
   ],
   "source": [
    "theano_coverage_err(np.array([[1, 0, 0], [0, 0, 1]], dtype='float32'), \n",
    "             np.array([[0.75, 0.5, 1], [1, 0.2, 0]], dtype='float32'))"
   ]
  },
  {
   "cell_type": "code",
   "execution_count": 234,
   "metadata": {
    "collapsed": false
   },
   "outputs": [
    {
     "data": {
      "text/plain": [
       "array(2.5)"
      ]
     },
     "execution_count": 234,
     "metadata": {},
     "output_type": "execute_result"
    }
   ],
   "source": [
    "theano_coverage_err2(np.array([[1, 0, 0], [0, 0, 1]], dtype='float32'), \n",
    "             np.array([[0.75, 0.5, 1], [1, 0.2, 0]], dtype='float32'))"
   ]
  },
  {
   "cell_type": "code",
   "execution_count": 235,
   "metadata": {
    "collapsed": false
   },
   "outputs": [
    {
     "data": {
      "text/plain": [
       "2.5"
      ]
     },
     "execution_count": 235,
     "metadata": {},
     "output_type": "execute_result"
    }
   ],
   "source": [
    "coverage_error(np.array([[1, 0, 0], [0, 0, 1]], dtype='float32'), \n",
    "             np.array([[0.75, 0.5, 1], [1, 0.2, 0]], dtype='float32'))"
   ]
  },
  {
   "cell_type": "code",
   "execution_count": 158,
   "metadata": {
    "collapsed": true
   },
   "outputs": [],
   "source": [
    "from theano.tensor import TensorType"
   ]
  },
  {
   "cell_type": "code",
   "execution_count": null,
   "metadata": {
    "collapsed": true
   },
   "outputs": [],
   "source": [
    "e = TensorType('float32', (False, True))('e')\n",
    "f = \n",
    "g = function()"
   ]
  },
  {
   "cell_type": "code",
   "execution_count": 150,
   "metadata": {
    "collapsed": false
   },
   "outputs": [
    {
     "data": {
      "text/plain": [
       "[array([[2],\n",
       "        [5],\n",
       "        [8]]), array([[2],\n",
       "        [2],\n",
       "        [2]])]"
      ]
     },
     "execution_count": 150,
     "metadata": {},
     "output_type": "execute_result"
    }
   ],
   "source": [
    "[f.eval() for f in T.max_and_argmax(ff, 1, True)]"
   ]
  },
  {
   "cell_type": "code",
   "execution_count": 125,
   "metadata": {
    "collapsed": false
   },
   "outputs": [
    {
     "data": {
      "text/plain": [
       "(Subtensor{int64}.0, Subtensor{int64}.0)"
      ]
     },
     "execution_count": 125,
     "metadata": {},
     "output_type": "execute_result"
    }
   ],
   "source": [
    "T.neq(ff,1).nonzero()"
   ]
  },
  {
   "cell_type": "code",
   "execution_count": 92,
   "metadata": {
    "collapsed": false
   },
   "outputs": [
    {
     "data": {
      "text/plain": [
       "array([0, 2, 3, 4, 5, 6, 7, 8])"
      ]
     },
     "execution_count": 92,
     "metadata": {},
     "output_type": "execute_result"
    }
   ],
   "source": [
    "ff[T.neq(ff,1).nonzero()].eval()"
   ]
  },
  {
   "cell_type": "code",
   "execution_count": 132,
   "metadata": {
    "collapsed": false
   },
   "outputs": [
    {
     "data": {
      "text/plain": [
       "[array([[ 0.,  0.,  0.],\n",
       "        [ 0.,  0.,  0.]]), array([[0, 0, 1],\n",
       "        [1, 0, 0]], dtype=int8)]"
      ]
     },
     "execution_count": 132,
     "metadata": {},
     "output_type": "execute_result"
    }
   ],
   "source": [
    "f(np.array([[1, 0, 0], [0, 0, 1]], dtype='float32'), np.array([[0.75, 0.5, 1], [1, 0.2, 0.1]], dtype='float32'))"
   ]
  },
  {
   "cell_type": "code",
   "execution_count": 182,
   "metadata": {
    "collapsed": false
   },
   "outputs": [
    {
     "data": {
      "text/plain": [
       "array(1)"
      ]
     },
     "execution_count": 182,
     "metadata": {},
     "output_type": "execute_result"
    }
   ],
   "source": [
    "T.min(ff[ff.nonzero()], axis=0).eval()"
   ]
  },
  {
   "cell_type": "code",
   "execution_count": 189,
   "metadata": {
    "collapsed": false
   },
   "outputs": [
    {
     "data": {
      "text/plain": [
       "array([[100, 100, 100],\n",
       "       [  3,   4,   5],\n",
       "       [  6,   7,   8]])"
      ]
     },
     "execution_count": 189,
     "metadata": {},
     "output_type": "execute_result"
    }
   ],
   "source": [
    "T.set_subtensor(ff[not ff.nonzero()], 100).eval()"
   ]
  },
  {
   "cell_type": "code",
   "execution_count": 194,
   "metadata": {
    "collapsed": false
   },
   "outputs": [
    {
     "data": {
      "text/plain": [
       "array([[0, 0, 1, 1, 1, 2, 2, 2],\n",
       "       [1, 2, 0, 1, 2, 0, 1, 2]])"
      ]
     },
     "execution_count": 194,
     "metadata": {},
     "output_type": "execute_result"
    }
   ],
   "source": [
    "ff.nonzero(return_matrix=True).eval()"
   ]
  },
  {
   "cell_type": "code",
   "execution_count": 195,
   "metadata": {
    "collapsed": false
   },
   "outputs": [
    {
     "data": {
      "text/plain": [
       "array([[0, 1, 2],\n",
       "       [3, 4, 5],\n",
       "       [6, 7, 8]])"
      ]
     },
     "execution_count": 195,
     "metadata": {},
     "output_type": "execute_result"
    }
   ],
   "source": [
    "ff.eval()"
   ]
  },
  {
   "cell_type": "code",
   "execution_count": 199,
   "metadata": {
    "collapsed": false
   },
   "outputs": [
    {
     "data": {
      "text/plain": [
       "array([[0, 0, 1, 1, 1, 2, 2, 2],\n",
       "       [1, 2, 0, 1, 2, 0, 1, 2]])"
      ]
     },
     "execution_count": 199,
     "metadata": {},
     "output_type": "execute_result"
    }
   ],
   "source": [
    "ff.nonzero(return_matrix=True).eval()"
   ]
  },
  {
   "cell_type": "code",
   "execution_count": 203,
   "metadata": {
    "collapsed": false
   },
   "outputs": [
    {
     "ename": "ValueError",
     "evalue": "The truth value of an array with more than one element is ambiguous. Use a.any() or a.all()",
     "output_type": "error",
     "traceback": [
      "\u001b[1;31m---------------------------------------------------------------------------\u001b[0m",
      "\u001b[1;31mValueError\u001b[0m                                Traceback (most recent call last)",
      "\u001b[1;32m<ipython-input-203-faf1f0b1f8ec>\u001b[0m in \u001b[0;36m<module>\u001b[1;34m()\u001b[0m\n\u001b[1;32m----> 1\u001b[1;33m \u001b[1;32mnot\u001b[0m \u001b[0mff\u001b[0m\u001b[1;33m.\u001b[0m\u001b[0mnonzero\u001b[0m\u001b[1;33m(\u001b[0m\u001b[0mreturn_matrix\u001b[0m\u001b[1;33m=\u001b[0m\u001b[0mTrue\u001b[0m\u001b[1;33m)\u001b[0m\u001b[1;33m.\u001b[0m\u001b[0meval\u001b[0m\u001b[1;33m(\u001b[0m\u001b[1;33m)\u001b[0m\u001b[1;33m\u001b[0m\u001b[0m\n\u001b[0m",
      "\u001b[1;31mValueError\u001b[0m: The truth value of an array with more than one element is ambiguous. Use a.any() or a.all()"
     ]
    }
   ],
   "source": [
    "ff.nonzero(return_matrix=True).eval()"
   ]
  },
  {
   "cell_type": "code",
   "execution_count": 205,
   "metadata": {
    "collapsed": false
   },
   "outputs": [
    {
     "data": {
      "text/plain": [
       "array([1, 2, 3, 4, 5, 6, 7, 8])"
      ]
     },
     "execution_count": 205,
     "metadata": {},
     "output_type": "execute_result"
    }
   ],
   "source": [
    "ff[ff.nonzero()].eval()"
   ]
  },
  {
   "cell_type": "code",
   "execution_count": 204,
   "metadata": {
    "collapsed": false
   },
   "outputs": [
    {
     "data": {
      "text/plain": [
       "array([0, 1, 2])"
      ]
     },
     "execution_count": 204,
     "metadata": {},
     "output_type": "execute_result"
    }
   ],
   "source": [
    "ff[not ff.nonzero()].eval()"
   ]
  },
  {
   "cell_type": "code",
   "execution_count": 210,
   "metadata": {
    "collapsed": false
   },
   "outputs": [
    {
     "data": {
      "text/plain": [
       "array([[  0, 100, 100],\n",
       "       [100, 100, 100],\n",
       "       [100, 100, 100]])"
      ]
     },
     "execution_count": 210,
     "metadata": {},
     "output_type": "execute_result"
    }
   ],
   "source": [
    "T.set_subtensor(ff[ff.nonzero()], 100).eval()"
   ]
  },
  {
   "cell_type": "code",
   "execution_count": 215,
   "metadata": {
    "collapsed": false
   },
   "outputs": [
    {
     "data": {
      "text/plain": [
       "array([[[3, 4, 5],\n",
       "        [0, 1, 2],\n",
       "        [0, 1, 2]],\n",
       "\n",
       "       [[0, 1, 2],\n",
       "        [0, 1, 2],\n",
       "        [0, 1, 2]],\n",
       "\n",
       "       [[0, 1, 2],\n",
       "        [0, 1, 2],\n",
       "        [0, 1, 2]]])"
      ]
     },
     "execution_count": 215,
     "metadata": {},
     "output_type": "execute_result"
    }
   ],
   "source": [
    ".eval()"
   ]
  },
  {
   "cell_type": "code",
   "execution_count": 30,
   "metadata": {
    "collapsed": false
   },
   "outputs": [
    {
     "data": {
      "text/plain": [
       "[[0, 0, 0, 0, 0, 1, 0, 0],\n",
       " [0, 0, 0, 0, 1, 0, 0, 0],\n",
       " [0, 0, 1, 0, 0, 0, 0, 0],\n",
       " [1, 0, 1, 0, 0, 0, 0, 0],\n",
       " [0, 0, 0, 0, 0, 0, 0, 1]]"
      ]
     },
     "execution_count": 30,
     "metadata": {},
     "output_type": "execute_result"
    }
   ],
   "source": [
    "training_labels[:5]"
   ]
  },
  {
   "cell_type": "code",
   "execution_count": 50,
   "metadata": {
    "collapsed": false
   },
   "outputs": [],
   "source": [
    "#for doc_id in training_docs_list:\n",
    "#    print [clssf for clssf in doc_classification_map[doc_id] if clssf in classifications]"
   ]
  },
  {
   "cell_type": "markdown",
   "metadata": {},
   "source": [
    "#### Create Keras NN"
   ]
  },
  {
   "cell_type": "code",
   "execution_count": 51,
   "metadata": {
    "collapsed": false
   },
   "outputs": [
    {
     "name": "stdout",
     "output_type": "stream",
     "text": [
      "softmax_output_target\n",
      "sigmoid.0\n",
      "()\n",
      "sigmoid.0\n"
     ]
    },
    {
     "ename": "ValueError",
     "evalue": "'axis' entry is out of bounds",
     "output_type": "error",
     "traceback": [
      "\u001b[1;31m---------------------------------------------------------------------------\u001b[0m",
      "\u001b[1;31mValueError\u001b[0m                                Traceback (most recent call last)",
      "\u001b[1;32m<ipython-input-51-d8e4bce4937a>\u001b[0m in \u001b[0;36m<module>\u001b[1;34m()\u001b[0m\n\u001b[0;32m      3\u001b[0m \u001b[0msoftmax_output\u001b[0m \u001b[1;33m=\u001b[0m \u001b[0mDense\u001b[0m\u001b[1;33m(\u001b[0m\u001b[0mNN_OUTPUT_NEURONS\u001b[0m\u001b[1;33m,\u001b[0m \u001b[0mactivation\u001b[0m\u001b[1;33m=\u001b[0m\u001b[1;34m'sigmoid'\u001b[0m\u001b[1;33m,\u001b[0m \u001b[0mname\u001b[0m\u001b[1;33m=\u001b[0m\u001b[1;34m'softmax_output'\u001b[0m\u001b[1;33m)\u001b[0m\u001b[1;33m(\u001b[0m\u001b[0mhidden\u001b[0m\u001b[1;33m)\u001b[0m\u001b[1;33m\u001b[0m\u001b[0m\n\u001b[0;32m      4\u001b[0m \u001b[0mmodel\u001b[0m \u001b[1;33m=\u001b[0m \u001b[0mModel\u001b[0m\u001b[1;33m(\u001b[0m\u001b[0minput\u001b[0m\u001b[1;33m=\u001b[0m\u001b[0mdoc_input\u001b[0m\u001b[1;33m,\u001b[0m \u001b[0moutput\u001b[0m\u001b[1;33m=\u001b[0m\u001b[0msoftmax_output\u001b[0m\u001b[1;33m)\u001b[0m\u001b[1;33m\u001b[0m\u001b[0m\n\u001b[1;32m----> 5\u001b[1;33m \u001b[0mmodel\u001b[0m\u001b[1;33m.\u001b[0m\u001b[0mcompile\u001b[0m\u001b[1;33m(\u001b[0m\u001b[0moptimizer\u001b[0m\u001b[1;33m=\u001b[0m\u001b[1;34m'rmsprop'\u001b[0m\u001b[1;33m,\u001b[0m \u001b[0mloss\u001b[0m\u001b[1;33m=\u001b[0m\u001b[1;34m'binary_crossentropy'\u001b[0m\u001b[1;33m,\u001b[0m \u001b[0mmetrics\u001b[0m\u001b[1;33m=\u001b[0m\u001b[1;33m[\u001b[0m\u001b[1;34m'accuracy'\u001b[0m\u001b[1;33m,\u001b[0m \u001b[0mcustom_metrics\u001b[0m\u001b[1;33m]\u001b[0m\u001b[1;33m)\u001b[0m\u001b[1;33m\u001b[0m\u001b[0m\n\u001b[0m",
      "\u001b[1;32m/home/stud/shalaby/.virtualenv/thesis-env/lib/python2.7/site-packages/keras/engine/training.pyc\u001b[0m in \u001b[0;36mcompile\u001b[1;34m(self, optimizer, loss, metrics, loss_weights, sample_weight_mode, **kwargs)\u001b[0m\n\u001b[0;32m    661\u001b[0m                 \u001b[1;32melse\u001b[0m\u001b[1;33m:\u001b[0m\u001b[1;33m\u001b[0m\u001b[0m\n\u001b[0;32m    662\u001b[0m                     \u001b[0mmetric_fn\u001b[0m \u001b[1;33m=\u001b[0m \u001b[0mmetrics_module\u001b[0m\u001b[1;33m.\u001b[0m\u001b[0mget\u001b[0m\u001b[1;33m(\u001b[0m\u001b[0mmetric\u001b[0m\u001b[1;33m)\u001b[0m\u001b[1;33m\u001b[0m\u001b[0m\n\u001b[1;32m--> 663\u001b[1;33m                     \u001b[0mself\u001b[0m\u001b[1;33m.\u001b[0m\u001b[0mmetrics_tensors\u001b[0m\u001b[1;33m.\u001b[0m\u001b[0mappend\u001b[0m\u001b[1;33m(\u001b[0m\u001b[0mmetric_fn\u001b[0m\u001b[1;33m(\u001b[0m\u001b[0my_true\u001b[0m\u001b[1;33m,\u001b[0m \u001b[0my_pred\u001b[0m\u001b[1;33m)\u001b[0m\u001b[1;33m)\u001b[0m\u001b[1;33m\u001b[0m\u001b[0m\n\u001b[0m\u001b[0;32m    664\u001b[0m                     \u001b[1;32mif\u001b[0m \u001b[0mlen\u001b[0m\u001b[1;33m(\u001b[0m\u001b[0mself\u001b[0m\u001b[1;33m.\u001b[0m\u001b[0moutput_names\u001b[0m\u001b[1;33m)\u001b[0m \u001b[1;33m==\u001b[0m \u001b[1;36m1\u001b[0m\u001b[1;33m:\u001b[0m\u001b[1;33m\u001b[0m\u001b[0m\n\u001b[0;32m    665\u001b[0m                         \u001b[0mself\u001b[0m\u001b[1;33m.\u001b[0m\u001b[0mmetrics_names\u001b[0m\u001b[1;33m.\u001b[0m\u001b[0mappend\u001b[0m\u001b[1;33m(\u001b[0m\u001b[0mmetric_fn\u001b[0m\u001b[1;33m.\u001b[0m\u001b[0m__name__\u001b[0m\u001b[1;33m)\u001b[0m\u001b[1;33m\u001b[0m\u001b[0m\n",
      "\u001b[1;32m<ipython-input-50-18dc5608f77b>\u001b[0m in \u001b[0;36mcustom_metrics\u001b[1;34m(y_true, y_pred)\u001b[0m\n\u001b[0;32m     10\u001b[0m     \u001b[1;32mprint\u001b[0m \u001b[0my_score_mask\u001b[0m\u001b[1;33m.\u001b[0m\u001b[0mshape\u001b[0m\u001b[1;33m\u001b[0m\u001b[0m\n\u001b[0;32m     11\u001b[0m     \u001b[1;32mprint\u001b[0m \u001b[0my_score_mask\u001b[0m\u001b[1;33m\u001b[0m\u001b[0m\n\u001b[1;32m---> 12\u001b[1;33m     \u001b[0my_min_relevant\u001b[0m \u001b[1;33m=\u001b[0m \u001b[0my_score_mask\u001b[0m\u001b[1;33m.\u001b[0m\u001b[0mmin\u001b[0m\u001b[1;33m(\u001b[0m\u001b[0maxis\u001b[0m\u001b[1;33m=\u001b[0m\u001b[1;36m1\u001b[0m\u001b[1;33m)\u001b[0m\u001b[1;33m.\u001b[0m\u001b[0mreshape\u001b[0m\u001b[1;33m(\u001b[0m\u001b[1;33m(\u001b[0m\u001b[1;33m-\u001b[0m\u001b[1;36m1\u001b[0m\u001b[1;33m,\u001b[0m \u001b[1;36m1\u001b[0m\u001b[1;33m)\u001b[0m\u001b[1;33m)\u001b[0m\u001b[1;33m\u001b[0m\u001b[0m\n\u001b[0m\u001b[0;32m     13\u001b[0m     \u001b[0mcoverage\u001b[0m \u001b[1;33m=\u001b[0m \u001b[1;33m(\u001b[0m\u001b[0my_pred\u001b[0m \u001b[1;33m>=\u001b[0m \u001b[0my_min_relevant\u001b[0m\u001b[1;33m)\u001b[0m\u001b[1;33m.\u001b[0m\u001b[0msum\u001b[0m\u001b[1;33m(\u001b[0m\u001b[0maxis\u001b[0m\u001b[1;33m=\u001b[0m\u001b[1;36m1\u001b[0m\u001b[1;33m)\u001b[0m\u001b[1;33m\u001b[0m\u001b[0m\n\u001b[0;32m     14\u001b[0m     \u001b[0mcoverage\u001b[0m \u001b[1;33m=\u001b[0m \u001b[0mcoverage\u001b[0m\u001b[1;33m.\u001b[0m\u001b[0mfilled\u001b[0m\u001b[1;33m(\u001b[0m\u001b[1;36m0\u001b[0m\u001b[1;33m)\u001b[0m\u001b[1;33m\u001b[0m\u001b[0m\n",
      "\u001b[1;32m/home/stud/shalaby/.virtualenv/thesis-env/lib/python2.7/site-packages/numpy/ma/core.pyc\u001b[0m in \u001b[0;36mmin\u001b[1;34m(self, axis, out, fill_value)\u001b[0m\n\u001b[0;32m   5400\u001b[0m         \"\"\"\n\u001b[0;32m   5401\u001b[0m         \u001b[0m_mask\u001b[0m \u001b[1;33m=\u001b[0m \u001b[0mself\u001b[0m\u001b[1;33m.\u001b[0m\u001b[0m_mask\u001b[0m\u001b[1;33m\u001b[0m\u001b[0m\n\u001b[1;32m-> 5402\u001b[1;33m         \u001b[0mnewmask\u001b[0m \u001b[1;33m=\u001b[0m \u001b[0m_check_mask_axis\u001b[0m\u001b[1;33m(\u001b[0m\u001b[0m_mask\u001b[0m\u001b[1;33m,\u001b[0m \u001b[0maxis\u001b[0m\u001b[1;33m)\u001b[0m\u001b[1;33m\u001b[0m\u001b[0m\n\u001b[0m\u001b[0;32m   5403\u001b[0m         \u001b[1;32mif\u001b[0m \u001b[0mfill_value\u001b[0m \u001b[1;32mis\u001b[0m \u001b[0mNone\u001b[0m\u001b[1;33m:\u001b[0m\u001b[1;33m\u001b[0m\u001b[0m\n\u001b[0;32m   5404\u001b[0m             \u001b[0mfill_value\u001b[0m \u001b[1;33m=\u001b[0m \u001b[0mminimum_fill_value\u001b[0m\u001b[1;33m(\u001b[0m\u001b[0mself\u001b[0m\u001b[1;33m)\u001b[0m\u001b[1;33m\u001b[0m\u001b[0m\n",
      "\u001b[1;32m/home/stud/shalaby/.virtualenv/thesis-env/lib/python2.7/site-packages/numpy/ma/core.pyc\u001b[0m in \u001b[0;36m_check_mask_axis\u001b[1;34m(mask, axis)\u001b[0m\n\u001b[0;32m   1748\u001b[0m     \u001b[1;34m\"Check whether there are masked values along the given axis\"\u001b[0m\u001b[1;33m\u001b[0m\u001b[0m\n\u001b[0;32m   1749\u001b[0m     \u001b[1;32mif\u001b[0m \u001b[0mmask\u001b[0m \u001b[1;32mis\u001b[0m \u001b[1;32mnot\u001b[0m \u001b[0mnomask\u001b[0m\u001b[1;33m:\u001b[0m\u001b[1;33m\u001b[0m\u001b[0m\n\u001b[1;32m-> 1750\u001b[1;33m         \u001b[1;32mreturn\u001b[0m \u001b[0mmask\u001b[0m\u001b[1;33m.\u001b[0m\u001b[0mall\u001b[0m\u001b[1;33m(\u001b[0m\u001b[0maxis\u001b[0m\u001b[1;33m=\u001b[0m\u001b[0maxis\u001b[0m\u001b[1;33m)\u001b[0m\u001b[1;33m\u001b[0m\u001b[0m\n\u001b[0m\u001b[0;32m   1751\u001b[0m     \u001b[1;32mreturn\u001b[0m \u001b[0mnomask\u001b[0m\u001b[1;33m\u001b[0m\u001b[0m\n\u001b[0;32m   1752\u001b[0m \u001b[1;33m\u001b[0m\u001b[0m\n",
      "\u001b[1;32m/home/stud/shalaby/.virtualenv/thesis-env/lib/python2.7/site-packages/numpy/core/_methods.pyc\u001b[0m in \u001b[0;36m_all\u001b[1;34m(a, axis, dtype, out, keepdims)\u001b[0m\n\u001b[0;32m     39\u001b[0m \u001b[1;33m\u001b[0m\u001b[0m\n\u001b[0;32m     40\u001b[0m \u001b[1;32mdef\u001b[0m \u001b[0m_all\u001b[0m\u001b[1;33m(\u001b[0m\u001b[0ma\u001b[0m\u001b[1;33m,\u001b[0m \u001b[0maxis\u001b[0m\u001b[1;33m=\u001b[0m\u001b[0mNone\u001b[0m\u001b[1;33m,\u001b[0m \u001b[0mdtype\u001b[0m\u001b[1;33m=\u001b[0m\u001b[0mNone\u001b[0m\u001b[1;33m,\u001b[0m \u001b[0mout\u001b[0m\u001b[1;33m=\u001b[0m\u001b[0mNone\u001b[0m\u001b[1;33m,\u001b[0m \u001b[0mkeepdims\u001b[0m\u001b[1;33m=\u001b[0m\u001b[0mFalse\u001b[0m\u001b[1;33m)\u001b[0m\u001b[1;33m:\u001b[0m\u001b[1;33m\u001b[0m\u001b[0m\n\u001b[1;32m---> 41\u001b[1;33m     \u001b[1;32mreturn\u001b[0m \u001b[0mumr_all\u001b[0m\u001b[1;33m(\u001b[0m\u001b[0ma\u001b[0m\u001b[1;33m,\u001b[0m \u001b[0maxis\u001b[0m\u001b[1;33m,\u001b[0m \u001b[0mdtype\u001b[0m\u001b[1;33m,\u001b[0m \u001b[0mout\u001b[0m\u001b[1;33m,\u001b[0m \u001b[0mkeepdims\u001b[0m\u001b[1;33m)\u001b[0m\u001b[1;33m\u001b[0m\u001b[0m\n\u001b[0m\u001b[0;32m     42\u001b[0m \u001b[1;33m\u001b[0m\u001b[0m\n\u001b[0;32m     43\u001b[0m \u001b[1;32mdef\u001b[0m \u001b[0m_count_reduce_items\u001b[0m\u001b[1;33m(\u001b[0m\u001b[0marr\u001b[0m\u001b[1;33m,\u001b[0m \u001b[0maxis\u001b[0m\u001b[1;33m)\u001b[0m\u001b[1;33m:\u001b[0m\u001b[1;33m\u001b[0m\u001b[0m\n",
      "\u001b[1;31mValueError\u001b[0m: 'axis' entry is out of bounds"
     ]
    }
   ],
   "source": [
    "doc_input = Input(shape=(DOC2VEC_SIZE,), name='doc_input')\n",
    "hidden = Dense(NN_HIDDEN_NEURONS, activation='relu', name='hidden_layer')(doc_input)\n",
    "softmax_output = Dense(NN_OUTPUT_NEURONS, activation='sigmoid', name='softmax_output')(hidden)\n",
    "model = Model(input=doc_input, output=softmax_output)\n",
    "model.compile(optimizer='rmsprop', loss='binary_crossentropy', metrics=['accuracy', custom_metrics])"
   ]
  },
  {
   "cell_type": "code",
   "execution_count": 32,
   "metadata": {
    "collapsed": false
   },
   "outputs": [
    {
     "name": "stdout",
     "output_type": "stream",
     "text": [
      "____________________________________________________________________________________________________\n",
      "Layer (type)                     Output Shape          Param #     Connected to                     \n",
      "====================================================================================================\n",
      "doc_input (InputLayer)           (None, 3000)          0                                            \n",
      "____________________________________________________________________________________________________\n",
      "hidden_layer (Dense)             (None, 1500)          4501500     doc_input[0][0]                  \n",
      "____________________________________________________________________________________________________\n",
      "softmax_output (Dense)           (None, 8)             12008       hidden_layer[0][0]               \n",
      "====================================================================================================\n",
      "Total params: 4513508\n",
      "____________________________________________________________________________________________________\n"
     ]
    }
   ],
   "source": [
    "model.summary()"
   ]
  },
  {
   "cell_type": "code",
   "execution_count": 33,
   "metadata": {
    "collapsed": false
   },
   "outputs": [
    {
     "name": "stdout",
     "output_type": "stream",
     "text": [
      "Train on 8979 samples, validate on 1969 samples\n",
      "Epoch 1/2\n",
      "2s - loss: 2.0176 - acc: 0.4886 - val_loss: 1.9576 - val_acc: 0.5383\n",
      "Epoch 2/2\n",
      "2s - loss: 1.8786 - acc: 0.5281 - val_loss: 2.1397 - val_acc: 0.5185\n"
     ]
    },
    {
     "data": {
      "text/plain": [
       "<keras.callbacks.History at 0x7fbd11e59690>"
      ]
     },
     "execution_count": 33,
     "metadata": {},
     "output_type": "execute_result"
    }
   ],
   "source": [
    "model.fit(x=training_data, y=training_labels, \n",
    "          validation_data=(validation_data, validation_labels), \n",
    "          nb_epoch=2, verbose=1)"
   ]
  },
  {
   "cell_type": "code",
   "execution_count": 68,
   "metadata": {
    "collapsed": false
   },
   "outputs": [
    {
     "data": {
      "text/plain": [
       "array([[  3.11362055e-05,   7.67533993e-03,   1.24661256e-06,\n",
       "          2.38285991e-09,   2.33478807e-02,   9.68358040e-01,\n",
       "          5.86355221e-04,   1.09609492e-11],\n",
       "       [  2.50385329e-03,   1.85217053e-01,   3.60150501e-04,\n",
       "          3.97113530e-04,   8.10881078e-01,   5.43888309e-04,\n",
       "          9.67298474e-05,   2.12037676e-07],\n",
       "       [  8.38811770e-02,   3.33383620e-01,   2.35866934e-01,\n",
       "          7.94810653e-02,   3.75692174e-02,   1.75997138e-01,\n",
       "          2.50332747e-02,   2.87874881e-02],\n",
       "       [  2.40451664e-01,   1.89198881e-01,   5.59416771e-01,\n",
       "          1.51056843e-03,   4.17075353e-03,   3.50118778e-03,\n",
       "          1.74749712e-03,   2.73502883e-06],\n",
       "       [  1.69930627e-05,   3.52213072e-04,   2.41656657e-04,\n",
       "          2.01388184e-10,   2.22726541e-07,   8.10392946e-03,\n",
       "          2.95065320e-03,   9.88334298e-01]], dtype=float32)"
      ]
     },
     "execution_count": 68,
     "metadata": {},
     "output_type": "execute_result"
    }
   ],
   "source": [
    "model.predict(training_data[:5])"
   ]
  },
  {
   "cell_type": "code",
   "execution_count": 69,
   "metadata": {
    "collapsed": false
   },
   "outputs": [
    {
     "data": {
      "text/plain": [
       "[[0, 0, 0, 0, 0, 1, 0, 0],\n",
       " [0, 0, 0, 0, 1, 0, 0, 0],\n",
       " [0, 0, 1, 0, 0, 0, 0, 0],\n",
       " [1, 0, 1, 0, 0, 0, 0, 0],\n",
       " [0, 0, 0, 0, 0, 0, 0, 1]]"
      ]
     },
     "execution_count": 69,
     "metadata": {},
     "output_type": "execute_result"
    }
   ],
   "source": [
    "training_labels[:5]"
   ]
  },
  {
   "cell_type": "code",
   "execution_count": 60,
   "metadata": {
    "collapsed": false
   },
   "outputs": [
    {
     "data": {
      "text/plain": [
       "array([[  1.07762730e-06,   4.37068702e-05,   8.50037267e-16,\n",
       "          3.26617112e-20,   5.99386426e-25,   9.99954700e-01,\n",
       "          4.03022398e-08,   5.06598099e-07],\n",
       "       [  7.84522370e-02,   7.51568982e-03,   3.02292941e-10,\n",
       "          1.27776785e-27,   8.58146071e-01,   5.19246235e-02,\n",
       "          3.96136660e-03,   9.01197339e-09],\n",
       "       [  8.13455582e-01,   3.37661535e-04,   1.86206713e-01,\n",
       "          2.93652289e-25,   1.42611062e-11,   8.11548398e-11,\n",
       "          1.56509191e-13,   3.87454735e-10],\n",
       "       [  9.48790824e-10,   4.76847440e-02,   2.83465356e-01,\n",
       "          2.84471139e-27,   8.79647612e-15,   5.65862817e-15,\n",
       "          4.19551939e-01,   2.49298021e-01],\n",
       "       [  1.14569569e-10,   1.01953819e-12,   1.14190914e-01,\n",
       "          4.46660243e-30,   3.54068044e-18,   8.85809124e-01,\n",
       "          1.19672533e-14,   2.22166152e-09]], dtype=float32)"
      ]
     },
     "execution_count": 60,
     "metadata": {},
     "output_type": "execute_result"
    }
   ],
   "source": [
    "model.predict(validation_data[:5])"
   ]
  },
  {
   "cell_type": "code",
   "execution_count": 61,
   "metadata": {
    "collapsed": false
   },
   "outputs": [
    {
     "data": {
      "text/plain": [
       "[[0, 0, 0, 0, 0, 0, 1, 1],\n",
       " [0, 1, 0, 0, 0, 0, 0, 0],\n",
       " [1, 1, 0, 0, 0, 0, 0, 0],\n",
       " [0, 0, 1, 0, 0, 0, 0, 0],\n",
       " [0, 0, 0, 0, 0, 1, 0, 0]]"
      ]
     },
     "execution_count": 61,
     "metadata": {},
     "output_type": "execute_result"
    }
   ],
   "source": [
    "validation_labels[:5]"
   ]
  },
  {
   "cell_type": "code",
   "execution_count": null,
   "metadata": {
    "collapsed": false,
    "scrolled": false
   },
   "outputs": [
    {
     "data": {
      "application/javascript": [
       "/* Put everything inside the global mpl namespace */\n",
       "window.mpl = {};\n",
       "\n",
       "mpl.get_websocket_type = function() {\n",
       "    if (typeof(WebSocket) !== 'undefined') {\n",
       "        return WebSocket;\n",
       "    } else if (typeof(MozWebSocket) !== 'undefined') {\n",
       "        return MozWebSocket;\n",
       "    } else {\n",
       "        alert('Your browser does not have WebSocket support.' +\n",
       "              'Please try Chrome, Safari or Firefox ≥ 6. ' +\n",
       "              'Firefox 4 and 5 are also supported but you ' +\n",
       "              'have to enable WebSockets in about:config.');\n",
       "    };\n",
       "}\n",
       "\n",
       "mpl.figure = function(figure_id, websocket, ondownload, parent_element) {\n",
       "    this.id = figure_id;\n",
       "\n",
       "    this.ws = websocket;\n",
       "\n",
       "    this.supports_binary = (this.ws.binaryType != undefined);\n",
       "\n",
       "    if (!this.supports_binary) {\n",
       "        var warnings = document.getElementById(\"mpl-warnings\");\n",
       "        if (warnings) {\n",
       "            warnings.style.display = 'block';\n",
       "            warnings.textContent = (\n",
       "                \"This browser does not support binary websocket messages. \" +\n",
       "                    \"Performance may be slow.\");\n",
       "        }\n",
       "    }\n",
       "\n",
       "    this.imageObj = new Image();\n",
       "\n",
       "    this.context = undefined;\n",
       "    this.message = undefined;\n",
       "    this.canvas = undefined;\n",
       "    this.rubberband_canvas = undefined;\n",
       "    this.rubberband_context = undefined;\n",
       "    this.format_dropdown = undefined;\n",
       "\n",
       "    this.image_mode = 'full';\n",
       "\n",
       "    this.root = $('<div/>');\n",
       "    this._root_extra_style(this.root)\n",
       "    this.root.attr('style', 'display: inline-block');\n",
       "\n",
       "    $(parent_element).append(this.root);\n",
       "\n",
       "    this._init_header(this);\n",
       "    this._init_canvas(this);\n",
       "    this._init_toolbar(this);\n",
       "\n",
       "    var fig = this;\n",
       "\n",
       "    this.waiting = false;\n",
       "\n",
       "    this.ws.onopen =  function () {\n",
       "            fig.send_message(\"supports_binary\", {value: fig.supports_binary});\n",
       "            fig.send_message(\"send_image_mode\", {});\n",
       "            fig.send_message(\"refresh\", {});\n",
       "        }\n",
       "\n",
       "    this.imageObj.onload = function() {\n",
       "            if (fig.image_mode == 'full') {\n",
       "                // Full images could contain transparency (where diff images\n",
       "                // almost always do), so we need to clear the canvas so that\n",
       "                // there is no ghosting.\n",
       "                fig.context.clearRect(0, 0, fig.canvas.width, fig.canvas.height);\n",
       "            }\n",
       "            fig.context.drawImage(fig.imageObj, 0, 0);\n",
       "        };\n",
       "\n",
       "    this.imageObj.onunload = function() {\n",
       "        this.ws.close();\n",
       "    }\n",
       "\n",
       "    this.ws.onmessage = this._make_on_message_function(this);\n",
       "\n",
       "    this.ondownload = ondownload;\n",
       "}\n",
       "\n",
       "mpl.figure.prototype._init_header = function() {\n",
       "    var titlebar = $(\n",
       "        '<div class=\"ui-dialog-titlebar ui-widget-header ui-corner-all ' +\n",
       "        'ui-helper-clearfix\"/>');\n",
       "    var titletext = $(\n",
       "        '<div class=\"ui-dialog-title\" style=\"width: 100%; ' +\n",
       "        'text-align: center; padding: 3px;\"/>');\n",
       "    titlebar.append(titletext)\n",
       "    this.root.append(titlebar);\n",
       "    this.header = titletext[0];\n",
       "}\n",
       "\n",
       "\n",
       "\n",
       "mpl.figure.prototype._canvas_extra_style = function(canvas_div) {\n",
       "\n",
       "}\n",
       "\n",
       "\n",
       "mpl.figure.prototype._root_extra_style = function(canvas_div) {\n",
       "\n",
       "}\n",
       "\n",
       "mpl.figure.prototype._init_canvas = function() {\n",
       "    var fig = this;\n",
       "\n",
       "    var canvas_div = $('<div/>');\n",
       "\n",
       "    canvas_div.attr('style', 'position: relative; clear: both; outline: 0');\n",
       "\n",
       "    function canvas_keyboard_event(event) {\n",
       "        return fig.key_event(event, event['data']);\n",
       "    }\n",
       "\n",
       "    canvas_div.keydown('key_press', canvas_keyboard_event);\n",
       "    canvas_div.keyup('key_release', canvas_keyboard_event);\n",
       "    this.canvas_div = canvas_div\n",
       "    this._canvas_extra_style(canvas_div)\n",
       "    this.root.append(canvas_div);\n",
       "\n",
       "    var canvas = $('<canvas/>');\n",
       "    canvas.addClass('mpl-canvas');\n",
       "    canvas.attr('style', \"left: 0; top: 0; z-index: 0; outline: 0\")\n",
       "\n",
       "    this.canvas = canvas[0];\n",
       "    this.context = canvas[0].getContext(\"2d\");\n",
       "\n",
       "    var rubberband = $('<canvas/>');\n",
       "    rubberband.attr('style', \"position: absolute; left: 0; top: 0; z-index: 1;\")\n",
       "\n",
       "    var pass_mouse_events = true;\n",
       "\n",
       "    canvas_div.resizable({\n",
       "        start: function(event, ui) {\n",
       "            pass_mouse_events = false;\n",
       "        },\n",
       "        resize: function(event, ui) {\n",
       "            fig.request_resize(ui.size.width, ui.size.height);\n",
       "        },\n",
       "        stop: function(event, ui) {\n",
       "            pass_mouse_events = true;\n",
       "            fig.request_resize(ui.size.width, ui.size.height);\n",
       "        },\n",
       "    });\n",
       "\n",
       "    function mouse_event_fn(event) {\n",
       "        if (pass_mouse_events)\n",
       "            return fig.mouse_event(event, event['data']);\n",
       "    }\n",
       "\n",
       "    rubberband.mousedown('button_press', mouse_event_fn);\n",
       "    rubberband.mouseup('button_release', mouse_event_fn);\n",
       "    // Throttle sequential mouse events to 1 every 20ms.\n",
       "    rubberband.mousemove('motion_notify', mouse_event_fn);\n",
       "\n",
       "    rubberband.mouseenter('figure_enter', mouse_event_fn);\n",
       "    rubberband.mouseleave('figure_leave', mouse_event_fn);\n",
       "\n",
       "    canvas_div.on(\"wheel\", function (event) {\n",
       "        event = event.originalEvent;\n",
       "        event['data'] = 'scroll'\n",
       "        if (event.deltaY < 0) {\n",
       "            event.step = 1;\n",
       "        } else {\n",
       "            event.step = -1;\n",
       "        }\n",
       "        mouse_event_fn(event);\n",
       "    });\n",
       "\n",
       "    canvas_div.append(canvas);\n",
       "    canvas_div.append(rubberband);\n",
       "\n",
       "    this.rubberband = rubberband;\n",
       "    this.rubberband_canvas = rubberband[0];\n",
       "    this.rubberband_context = rubberband[0].getContext(\"2d\");\n",
       "    this.rubberband_context.strokeStyle = \"#000000\";\n",
       "\n",
       "    this._resize_canvas = function(width, height) {\n",
       "        // Keep the size of the canvas, canvas container, and rubber band\n",
       "        // canvas in synch.\n",
       "        canvas_div.css('width', width)\n",
       "        canvas_div.css('height', height)\n",
       "\n",
       "        canvas.attr('width', width);\n",
       "        canvas.attr('height', height);\n",
       "\n",
       "        rubberband.attr('width', width);\n",
       "        rubberband.attr('height', height);\n",
       "    }\n",
       "\n",
       "    // Set the figure to an initial 600x600px, this will subsequently be updated\n",
       "    // upon first draw.\n",
       "    this._resize_canvas(600, 600);\n",
       "\n",
       "    // Disable right mouse context menu.\n",
       "    $(this.rubberband_canvas).bind(\"contextmenu\",function(e){\n",
       "        return false;\n",
       "    });\n",
       "\n",
       "    function set_focus () {\n",
       "        canvas.focus();\n",
       "        canvas_div.focus();\n",
       "    }\n",
       "\n",
       "    window.setTimeout(set_focus, 100);\n",
       "}\n",
       "\n",
       "mpl.figure.prototype._init_toolbar = function() {\n",
       "    var fig = this;\n",
       "\n",
       "    var nav_element = $('<div/>')\n",
       "    nav_element.attr('style', 'width: 100%');\n",
       "    this.root.append(nav_element);\n",
       "\n",
       "    // Define a callback function for later on.\n",
       "    function toolbar_event(event) {\n",
       "        return fig.toolbar_button_onclick(event['data']);\n",
       "    }\n",
       "    function toolbar_mouse_event(event) {\n",
       "        return fig.toolbar_button_onmouseover(event['data']);\n",
       "    }\n",
       "\n",
       "    for(var toolbar_ind in mpl.toolbar_items) {\n",
       "        var name = mpl.toolbar_items[toolbar_ind][0];\n",
       "        var tooltip = mpl.toolbar_items[toolbar_ind][1];\n",
       "        var image = mpl.toolbar_items[toolbar_ind][2];\n",
       "        var method_name = mpl.toolbar_items[toolbar_ind][3];\n",
       "\n",
       "        if (!name) {\n",
       "            // put a spacer in here.\n",
       "            continue;\n",
       "        }\n",
       "        var button = $('<button/>');\n",
       "        button.addClass('ui-button ui-widget ui-state-default ui-corner-all ' +\n",
       "                        'ui-button-icon-only');\n",
       "        button.attr('role', 'button');\n",
       "        button.attr('aria-disabled', 'false');\n",
       "        button.click(method_name, toolbar_event);\n",
       "        button.mouseover(tooltip, toolbar_mouse_event);\n",
       "\n",
       "        var icon_img = $('<span/>');\n",
       "        icon_img.addClass('ui-button-icon-primary ui-icon');\n",
       "        icon_img.addClass(image);\n",
       "        icon_img.addClass('ui-corner-all');\n",
       "\n",
       "        var tooltip_span = $('<span/>');\n",
       "        tooltip_span.addClass('ui-button-text');\n",
       "        tooltip_span.html(tooltip);\n",
       "\n",
       "        button.append(icon_img);\n",
       "        button.append(tooltip_span);\n",
       "\n",
       "        nav_element.append(button);\n",
       "    }\n",
       "\n",
       "    var fmt_picker_span = $('<span/>');\n",
       "\n",
       "    var fmt_picker = $('<select/>');\n",
       "    fmt_picker.addClass('mpl-toolbar-option ui-widget ui-widget-content');\n",
       "    fmt_picker_span.append(fmt_picker);\n",
       "    nav_element.append(fmt_picker_span);\n",
       "    this.format_dropdown = fmt_picker[0];\n",
       "\n",
       "    for (var ind in mpl.extensions) {\n",
       "        var fmt = mpl.extensions[ind];\n",
       "        var option = $(\n",
       "            '<option/>', {selected: fmt === mpl.default_extension}).html(fmt);\n",
       "        fmt_picker.append(option)\n",
       "    }\n",
       "\n",
       "    // Add hover states to the ui-buttons\n",
       "    $( \".ui-button\" ).hover(\n",
       "        function() { $(this).addClass(\"ui-state-hover\");},\n",
       "        function() { $(this).removeClass(\"ui-state-hover\");}\n",
       "    );\n",
       "\n",
       "    var status_bar = $('<span class=\"mpl-message\"/>');\n",
       "    nav_element.append(status_bar);\n",
       "    this.message = status_bar[0];\n",
       "}\n",
       "\n",
       "mpl.figure.prototype.request_resize = function(x_pixels, y_pixels) {\n",
       "    // Request matplotlib to resize the figure. Matplotlib will then trigger a resize in the client,\n",
       "    // which will in turn request a refresh of the image.\n",
       "    this.send_message('resize', {'width': x_pixels, 'height': y_pixels});\n",
       "}\n",
       "\n",
       "mpl.figure.prototype.send_message = function(type, properties) {\n",
       "    properties['type'] = type;\n",
       "    properties['figure_id'] = this.id;\n",
       "    this.ws.send(JSON.stringify(properties));\n",
       "}\n",
       "\n",
       "mpl.figure.prototype.send_draw_message = function() {\n",
       "    if (!this.waiting) {\n",
       "        this.waiting = true;\n",
       "        this.ws.send(JSON.stringify({type: \"draw\", figure_id: this.id}));\n",
       "    }\n",
       "}\n",
       "\n",
       "\n",
       "mpl.figure.prototype.handle_save = function(fig, msg) {\n",
       "    var format_dropdown = fig.format_dropdown;\n",
       "    var format = format_dropdown.options[format_dropdown.selectedIndex].value;\n",
       "    fig.ondownload(fig, format);\n",
       "}\n",
       "\n",
       "\n",
       "mpl.figure.prototype.handle_resize = function(fig, msg) {\n",
       "    var size = msg['size'];\n",
       "    if (size[0] != fig.canvas.width || size[1] != fig.canvas.height) {\n",
       "        fig._resize_canvas(size[0], size[1]);\n",
       "        fig.send_message(\"refresh\", {});\n",
       "    };\n",
       "}\n",
       "\n",
       "mpl.figure.prototype.handle_rubberband = function(fig, msg) {\n",
       "    var x0 = msg['x0'];\n",
       "    var y0 = fig.canvas.height - msg['y0'];\n",
       "    var x1 = msg['x1'];\n",
       "    var y1 = fig.canvas.height - msg['y1'];\n",
       "    x0 = Math.floor(x0) + 0.5;\n",
       "    y0 = Math.floor(y0) + 0.5;\n",
       "    x1 = Math.floor(x1) + 0.5;\n",
       "    y1 = Math.floor(y1) + 0.5;\n",
       "    var min_x = Math.min(x0, x1);\n",
       "    var min_y = Math.min(y0, y1);\n",
       "    var width = Math.abs(x1 - x0);\n",
       "    var height = Math.abs(y1 - y0);\n",
       "\n",
       "    fig.rubberband_context.clearRect(\n",
       "        0, 0, fig.canvas.width, fig.canvas.height);\n",
       "\n",
       "    fig.rubberband_context.strokeRect(min_x, min_y, width, height);\n",
       "}\n",
       "\n",
       "mpl.figure.prototype.handle_figure_label = function(fig, msg) {\n",
       "    // Updates the figure title.\n",
       "    fig.header.textContent = msg['label'];\n",
       "}\n",
       "\n",
       "mpl.figure.prototype.handle_cursor = function(fig, msg) {\n",
       "    var cursor = msg['cursor'];\n",
       "    switch(cursor)\n",
       "    {\n",
       "    case 0:\n",
       "        cursor = 'pointer';\n",
       "        break;\n",
       "    case 1:\n",
       "        cursor = 'default';\n",
       "        break;\n",
       "    case 2:\n",
       "        cursor = 'crosshair';\n",
       "        break;\n",
       "    case 3:\n",
       "        cursor = 'move';\n",
       "        break;\n",
       "    }\n",
       "    fig.rubberband_canvas.style.cursor = cursor;\n",
       "}\n",
       "\n",
       "mpl.figure.prototype.handle_message = function(fig, msg) {\n",
       "    fig.message.textContent = msg['message'];\n",
       "}\n",
       "\n",
       "mpl.figure.prototype.handle_draw = function(fig, msg) {\n",
       "    // Request the server to send over a new figure.\n",
       "    fig.send_draw_message();\n",
       "}\n",
       "\n",
       "mpl.figure.prototype.handle_image_mode = function(fig, msg) {\n",
       "    fig.image_mode = msg['mode'];\n",
       "}\n",
       "\n",
       "mpl.figure.prototype.updated_canvas_event = function() {\n",
       "    // Called whenever the canvas gets updated.\n",
       "    this.send_message(\"ack\", {});\n",
       "}\n",
       "\n",
       "// A function to construct a web socket function for onmessage handling.\n",
       "// Called in the figure constructor.\n",
       "mpl.figure.prototype._make_on_message_function = function(fig) {\n",
       "    return function socket_on_message(evt) {\n",
       "        if (evt.data instanceof Blob) {\n",
       "            /* FIXME: We get \"Resource interpreted as Image but\n",
       "             * transferred with MIME type text/plain:\" errors on\n",
       "             * Chrome.  But how to set the MIME type?  It doesn't seem\n",
       "             * to be part of the websocket stream */\n",
       "            evt.data.type = \"image/png\";\n",
       "\n",
       "            /* Free the memory for the previous frames */\n",
       "            if (fig.imageObj.src) {\n",
       "                (window.URL || window.webkitURL).revokeObjectURL(\n",
       "                    fig.imageObj.src);\n",
       "            }\n",
       "\n",
       "            fig.imageObj.src = (window.URL || window.webkitURL).createObjectURL(\n",
       "                evt.data);\n",
       "            fig.updated_canvas_event();\n",
       "            fig.waiting = false;\n",
       "            return;\n",
       "        }\n",
       "        else if (typeof evt.data === 'string' && evt.data.slice(0, 21) == \"data:image/png;base64\") {\n",
       "            fig.imageObj.src = evt.data;\n",
       "            fig.updated_canvas_event();\n",
       "            fig.waiting = false;\n",
       "            return;\n",
       "        }\n",
       "\n",
       "        var msg = JSON.parse(evt.data);\n",
       "        var msg_type = msg['type'];\n",
       "\n",
       "        // Call the  \"handle_{type}\" callback, which takes\n",
       "        // the figure and JSON message as its only arguments.\n",
       "        try {\n",
       "            var callback = fig[\"handle_\" + msg_type];\n",
       "        } catch (e) {\n",
       "            console.log(\"No handler for the '\" + msg_type + \"' message type: \", msg);\n",
       "            return;\n",
       "        }\n",
       "\n",
       "        if (callback) {\n",
       "            try {\n",
       "                // console.log(\"Handling '\" + msg_type + \"' message: \", msg);\n",
       "                callback(fig, msg);\n",
       "            } catch (e) {\n",
       "                console.log(\"Exception inside the 'handler_\" + msg_type + \"' callback:\", e, e.stack, msg);\n",
       "            }\n",
       "        }\n",
       "    };\n",
       "}\n",
       "\n",
       "// from http://stackoverflow.com/questions/1114465/getting-mouse-location-in-canvas\n",
       "mpl.findpos = function(e) {\n",
       "    //this section is from http://www.quirksmode.org/js/events_properties.html\n",
       "    var targ;\n",
       "    if (!e)\n",
       "        e = window.event;\n",
       "    if (e.target)\n",
       "        targ = e.target;\n",
       "    else if (e.srcElement)\n",
       "        targ = e.srcElement;\n",
       "    if (targ.nodeType == 3) // defeat Safari bug\n",
       "        targ = targ.parentNode;\n",
       "\n",
       "    // jQuery normalizes the pageX and pageY\n",
       "    // pageX,Y are the mouse positions relative to the document\n",
       "    // offset() returns the position of the element relative to the document\n",
       "    var x = e.pageX - $(targ).offset().left;\n",
       "    var y = e.pageY - $(targ).offset().top;\n",
       "\n",
       "    return {\"x\": x, \"y\": y};\n",
       "};\n",
       "\n",
       "/*\n",
       " * return a copy of an object with only non-object keys\n",
       " * we need this to avoid circular references\n",
       " * http://stackoverflow.com/a/24161582/3208463\n",
       " */\n",
       "function simpleKeys (original) {\n",
       "  return Object.keys(original).reduce(function (obj, key) {\n",
       "    if (typeof original[key] !== 'object')\n",
       "        obj[key] = original[key]\n",
       "    return obj;\n",
       "  }, {});\n",
       "}\n",
       "\n",
       "mpl.figure.prototype.mouse_event = function(event, name) {\n",
       "    var canvas_pos = mpl.findpos(event)\n",
       "\n",
       "    if (name === 'button_press')\n",
       "    {\n",
       "        this.canvas.focus();\n",
       "        this.canvas_div.focus();\n",
       "    }\n",
       "\n",
       "    var x = canvas_pos.x;\n",
       "    var y = canvas_pos.y;\n",
       "\n",
       "    this.send_message(name, {x: x, y: y, button: event.button,\n",
       "                             step: event.step,\n",
       "                             guiEvent: simpleKeys(event)});\n",
       "\n",
       "    /* This prevents the web browser from automatically changing to\n",
       "     * the text insertion cursor when the button is pressed.  We want\n",
       "     * to control all of the cursor setting manually through the\n",
       "     * 'cursor' event from matplotlib */\n",
       "    event.preventDefault();\n",
       "    return false;\n",
       "}\n",
       "\n",
       "mpl.figure.prototype._key_event_extra = function(event, name) {\n",
       "    // Handle any extra behaviour associated with a key event\n",
       "}\n",
       "\n",
       "mpl.figure.prototype.key_event = function(event, name) {\n",
       "\n",
       "    // Prevent repeat events\n",
       "    if (name == 'key_press')\n",
       "    {\n",
       "        if (event.which === this._key)\n",
       "            return;\n",
       "        else\n",
       "            this._key = event.which;\n",
       "    }\n",
       "    if (name == 'key_release')\n",
       "        this._key = null;\n",
       "\n",
       "    var value = '';\n",
       "    if (event.ctrlKey && event.which != 17)\n",
       "        value += \"ctrl+\";\n",
       "    if (event.altKey && event.which != 18)\n",
       "        value += \"alt+\";\n",
       "    if (event.shiftKey && event.which != 16)\n",
       "        value += \"shift+\";\n",
       "\n",
       "    value += 'k';\n",
       "    value += event.which.toString();\n",
       "\n",
       "    this._key_event_extra(event, name);\n",
       "\n",
       "    this.send_message(name, {key: value,\n",
       "                             guiEvent: simpleKeys(event)});\n",
       "    return false;\n",
       "}\n",
       "\n",
       "mpl.figure.prototype.toolbar_button_onclick = function(name) {\n",
       "    if (name == 'download') {\n",
       "        this.handle_save(this, null);\n",
       "    } else {\n",
       "        this.send_message(\"toolbar_button\", {name: name});\n",
       "    }\n",
       "};\n",
       "\n",
       "mpl.figure.prototype.toolbar_button_onmouseover = function(tooltip) {\n",
       "    this.message.textContent = tooltip;\n",
       "};\n",
       "mpl.toolbar_items = [[\"Home\", \"Reset original view\", \"fa fa-home icon-home\", \"home\"], [\"Back\", \"Back to  previous view\", \"fa fa-arrow-left icon-arrow-left\", \"back\"], [\"Forward\", \"Forward to next view\", \"fa fa-arrow-right icon-arrow-right\", \"forward\"], [\"\", \"\", \"\", \"\"], [\"Pan\", \"Pan axes with left mouse, zoom with right\", \"fa fa-arrows icon-move\", \"pan\"], [\"Zoom\", \"Zoom to rectangle\", \"fa fa-square-o icon-check-empty\", \"zoom\"], [\"\", \"\", \"\", \"\"], [\"Download\", \"Download plot\", \"fa fa-floppy-o icon-save\", \"download\"]];\n",
       "\n",
       "mpl.extensions = [\"eps\", \"pdf\", \"png\", \"ps\", \"raw\", \"svg\"];\n",
       "\n",
       "mpl.default_extension = \"png\";var comm_websocket_adapter = function(comm) {\n",
       "    // Create a \"websocket\"-like object which calls the given IPython comm\n",
       "    // object with the appropriate methods. Currently this is a non binary\n",
       "    // socket, so there is still some room for performance tuning.\n",
       "    var ws = {};\n",
       "\n",
       "    ws.close = function() {\n",
       "        comm.close()\n",
       "    };\n",
       "    ws.send = function(m) {\n",
       "        //console.log('sending', m);\n",
       "        comm.send(m);\n",
       "    };\n",
       "    // Register the callback with on_msg.\n",
       "    comm.on_msg(function(msg) {\n",
       "        //console.log('receiving', msg['content']['data'], msg);\n",
       "        // Pass the mpl event to the overriden (by mpl) onmessage function.\n",
       "        ws.onmessage(msg['content']['data'])\n",
       "    });\n",
       "    return ws;\n",
       "}\n",
       "\n",
       "mpl.mpl_figure_comm = function(comm, msg) {\n",
       "    // This is the function which gets called when the mpl process\n",
       "    // starts-up an IPython Comm through the \"matplotlib\" channel.\n",
       "\n",
       "    var id = msg.content.data.id;\n",
       "    // Get hold of the div created by the display call when the Comm\n",
       "    // socket was opened in Python.\n",
       "    var element = $(\"#\" + id);\n",
       "    var ws_proxy = comm_websocket_adapter(comm)\n",
       "\n",
       "    function ondownload(figure, format) {\n",
       "        window.open(figure.imageObj.src);\n",
       "    }\n",
       "\n",
       "    var fig = new mpl.figure(id, ws_proxy,\n",
       "                           ondownload,\n",
       "                           element.get(0));\n",
       "\n",
       "    // Call onopen now - mpl needs it, as it is assuming we've passed it a real\n",
       "    // web socket which is closed, not our websocket->open comm proxy.\n",
       "    ws_proxy.onopen();\n",
       "\n",
       "    fig.parent_element = element.get(0);\n",
       "    fig.cell_info = mpl.find_output_cell(\"<div id='\" + id + \"'></div>\");\n",
       "    if (!fig.cell_info) {\n",
       "        console.error(\"Failed to find cell for figure\", id, fig);\n",
       "        return;\n",
       "    }\n",
       "\n",
       "    var output_index = fig.cell_info[2]\n",
       "    var cell = fig.cell_info[0];\n",
       "\n",
       "};\n",
       "\n",
       "mpl.figure.prototype.handle_close = function(fig, msg) {\n",
       "    fig.root.unbind('remove')\n",
       "\n",
       "    // Update the output cell to use the data from the current canvas.\n",
       "    fig.push_to_output();\n",
       "    var dataURL = fig.canvas.toDataURL();\n",
       "    // Re-enable the keyboard manager in IPython - without this line, in FF,\n",
       "    // the notebook keyboard shortcuts fail.\n",
       "    IPython.keyboard_manager.enable()\n",
       "    $(fig.parent_element).html('<img src=\"' + dataURL + '\">');\n",
       "    fig.close_ws(fig, msg);\n",
       "}\n",
       "\n",
       "mpl.figure.prototype.close_ws = function(fig, msg){\n",
       "    fig.send_message('closing', msg);\n",
       "    // fig.ws.close()\n",
       "}\n",
       "\n",
       "mpl.figure.prototype.push_to_output = function(remove_interactive) {\n",
       "    // Turn the data on the canvas into data in the output cell.\n",
       "    var dataURL = this.canvas.toDataURL();\n",
       "    this.cell_info[1]['text/html'] = '<img src=\"' + dataURL + '\">';\n",
       "}\n",
       "\n",
       "mpl.figure.prototype.updated_canvas_event = function() {\n",
       "    // Tell IPython that the notebook contents must change.\n",
       "    IPython.notebook.set_dirty(true);\n",
       "    this.send_message(\"ack\", {});\n",
       "    var fig = this;\n",
       "    // Wait a second, then push the new image to the DOM so\n",
       "    // that it is saved nicely (might be nice to debounce this).\n",
       "    setTimeout(function () { fig.push_to_output() }, 1000);\n",
       "}\n",
       "\n",
       "mpl.figure.prototype._init_toolbar = function() {\n",
       "    var fig = this;\n",
       "\n",
       "    var nav_element = $('<div/>')\n",
       "    nav_element.attr('style', 'width: 100%');\n",
       "    this.root.append(nav_element);\n",
       "\n",
       "    // Define a callback function for later on.\n",
       "    function toolbar_event(event) {\n",
       "        return fig.toolbar_button_onclick(event['data']);\n",
       "    }\n",
       "    function toolbar_mouse_event(event) {\n",
       "        return fig.toolbar_button_onmouseover(event['data']);\n",
       "    }\n",
       "\n",
       "    for(var toolbar_ind in mpl.toolbar_items){\n",
       "        var name = mpl.toolbar_items[toolbar_ind][0];\n",
       "        var tooltip = mpl.toolbar_items[toolbar_ind][1];\n",
       "        var image = mpl.toolbar_items[toolbar_ind][2];\n",
       "        var method_name = mpl.toolbar_items[toolbar_ind][3];\n",
       "\n",
       "        if (!name) { continue; };\n",
       "\n",
       "        var button = $('<button class=\"btn btn-default\" href=\"#\" title=\"' + name + '\"><i class=\"fa ' + image + ' fa-lg\"></i></button>');\n",
       "        button.click(method_name, toolbar_event);\n",
       "        button.mouseover(tooltip, toolbar_mouse_event);\n",
       "        nav_element.append(button);\n",
       "    }\n",
       "\n",
       "    // Add the status bar.\n",
       "    var status_bar = $('<span class=\"mpl-message\" style=\"text-align:right; float: right;\"/>');\n",
       "    nav_element.append(status_bar);\n",
       "    this.message = status_bar[0];\n",
       "\n",
       "    // Add the close button to the window.\n",
       "    var buttongrp = $('<div class=\"btn-group inline pull-right\"></div>');\n",
       "    var button = $('<button class=\"btn btn-mini btn-primary\" href=\"#\" title=\"Stop Interaction\"><i class=\"fa fa-power-off icon-remove icon-large\"></i></button>');\n",
       "    button.click(function (evt) { fig.handle_close(fig, {}); } );\n",
       "    button.mouseover('Stop Interaction', toolbar_mouse_event);\n",
       "    buttongrp.append(button);\n",
       "    var titlebar = this.root.find($('.ui-dialog-titlebar'));\n",
       "    titlebar.prepend(buttongrp);\n",
       "}\n",
       "\n",
       "mpl.figure.prototype._root_extra_style = function(el){\n",
       "    var fig = this\n",
       "    el.on(\"remove\", function(){\n",
       "\tfig.close_ws(fig, {});\n",
       "    });\n",
       "}\n",
       "\n",
       "mpl.figure.prototype._canvas_extra_style = function(el){\n",
       "    // this is important to make the div 'focusable\n",
       "    el.attr('tabindex', 0)\n",
       "    // reach out to IPython and tell the keyboard manager to turn it's self\n",
       "    // off when our div gets focus\n",
       "\n",
       "    // location in version 3\n",
       "    if (IPython.notebook.keyboard_manager) {\n",
       "        IPython.notebook.keyboard_manager.register_events(el);\n",
       "    }\n",
       "    else {\n",
       "        // location in version 2\n",
       "        IPython.keyboard_manager.register_events(el);\n",
       "    }\n",
       "\n",
       "}\n",
       "\n",
       "mpl.figure.prototype._key_event_extra = function(event, name) {\n",
       "    var manager = IPython.notebook.keyboard_manager;\n",
       "    if (!manager)\n",
       "        manager = IPython.keyboard_manager;\n",
       "\n",
       "    // Check for shift+enter\n",
       "    if (event.shiftKey && event.which == 13) {\n",
       "        this.canvas_div.blur();\n",
       "        event.shiftKey = false;\n",
       "        // Send a \"J\" for go to next cell\n",
       "        event.which = 74;\n",
       "        event.keyCode = 74;\n",
       "        manager.command_mode();\n",
       "        manager.handle_keydown(event);\n",
       "    }\n",
       "}\n",
       "\n",
       "mpl.figure.prototype.handle_save = function(fig, msg) {\n",
       "    fig.ondownload(fig, null);\n",
       "}\n",
       "\n",
       "\n",
       "mpl.find_output_cell = function(html_output) {\n",
       "    // Return the cell and output element which can be found *uniquely* in the notebook.\n",
       "    // Note - this is a bit hacky, but it is done because the \"notebook_saving.Notebook\"\n",
       "    // IPython event is triggered only after the cells have been serialised, which for\n",
       "    // our purposes (turning an active figure into a static one), is too late.\n",
       "    var cells = IPython.notebook.get_cells();\n",
       "    var ncells = cells.length;\n",
       "    for (var i=0; i<ncells; i++) {\n",
       "        var cell = cells[i];\n",
       "        if (cell.cell_type === 'code'){\n",
       "            for (var j=0; j<cell.output_area.outputs.length; j++) {\n",
       "                var data = cell.output_area.outputs[j];\n",
       "                if (data.data) {\n",
       "                    // IPython >= 3 moved mimebundle to data attribute of output\n",
       "                    data = data.data;\n",
       "                }\n",
       "                if (data['text/html'] == html_output) {\n",
       "                    return [cell, data, j];\n",
       "                }\n",
       "            }\n",
       "        }\n",
       "    }\n",
       "}\n",
       "\n",
       "// Register the function which deals with the matplotlib target/channel.\n",
       "// The kernel may be null if the page has been refreshed.\n",
       "if (IPython.notebook.kernel != null) {\n",
       "    IPython.notebook.kernel.comm_manager.register_target('matplotlib', mpl.mpl_figure_comm);\n",
       "}\n"
      ],
      "text/plain": [
       "<IPython.core.display.Javascript object>"
      ]
     },
     "metadata": {},
     "output_type": "display_data"
    },
    {
     "data": {
      "text/html": [
       "<img src=\"data:image/png;base64,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\">"
      ],
      "text/plain": [
       "<IPython.core.display.HTML object>"
      ]
     },
     "metadata": {},
     "output_type": "display_data"
    },
    {
     "name": "stderr",
     "output_type": "stream",
     "text": [
      "2016-09-26 14:01:45,121 : INFO : ****************** Epoch 1 --- Working on doc2vec_size_3000_w_8_type_pv-dbow_concat_1_mean_0_trainwords_0_hs_0_neg_10_vocabsize_None_curriter_1 *******************\n",
      "2016-09-26 14:01:45,124 : INFO : training model with 7 workers on 104358 vocabulary and 3000 features, using sg=1 hs=0 sample=1e-05 negative=10\n",
      "2016-09-26 14:01:45,124 : INFO : expecting 8979 sentences, matching count from corpus used for vocabulary survey\n",
      "2016-09-26 14:01:46,152 : INFO : PROGRESS: at 0.14% examples, 21039 words/s, in_qsize 0, out_qsize 1\n",
      "2016-09-26 14:02:46,156 : INFO : PROGRESS: at 10.93% examples, 26996 words/s, in_qsize 0, out_qsize 0\n",
      "2016-09-26 14:03:46,297 : INFO : PROGRESS: at 21.45% examples, 26955 words/s, in_qsize 0, out_qsize 0\n",
      "2016-09-26 14:04:46,382 : INFO : PROGRESS: at 32.84% examples, 27423 words/s, in_qsize 1, out_qsize 0\n",
      "2016-09-26 14:05:46,463 : INFO : PROGRESS: at 44.04% examples, 27424 words/s, in_qsize 0, out_qsize 0\n",
      "2016-09-26 14:06:46,546 : INFO : PROGRESS: at 55.11% examples, 27427 words/s, in_qsize 0, out_qsize 0\n",
      "2016-09-26 14:07:46,557 : INFO : PROGRESS: at 66.34% examples, 27575 words/s, in_qsize 0, out_qsize 0\n",
      "2016-09-26 14:08:46,606 : INFO : PROGRESS: at 77.97% examples, 27649 words/s, in_qsize 0, out_qsize 0\n",
      "2016-09-26 14:09:46,837 : INFO : PROGRESS: at 89.54% examples, 27750 words/s, in_qsize 0, out_qsize 0\n",
      "2016-09-26 14:10:42,509 : INFO : worker thread finished; awaiting finish of 6 more threads\n",
      "2016-09-26 14:10:42,514 : INFO : worker thread finished; awaiting finish of 5 more threads\n",
      "2016-09-26 14:10:42,515 : INFO : worker thread finished; awaiting finish of 4 more threads\n",
      "2016-09-26 14:10:42,537 : INFO : worker thread finished; awaiting finish of 3 more threads\n",
      "2016-09-26 14:10:42,550 : INFO : worker thread finished; awaiting finish of 2 more threads\n",
      "2016-09-26 14:10:42,584 : INFO : worker thread finished; awaiting finish of 1 more threads\n",
      "2016-09-26 14:10:42,738 : INFO : worker thread finished; awaiting finish of 0 more threads\n",
      "2016-09-26 14:10:42,739 : INFO : training on 59217428 raw words (14917506 effective words) took 537.6s, 27748 effective words/s\n",
      "2016-09-26 14:10:42,742 : INFO : saving Doc2Vec object under /home/local/shalaby/parameter_search_doc2vec_models/sample_0.0001/doc2vec_size_3000_w_8_type_pv-dbow_concat_1_mean_0_trainwords_0_hs_0_neg_10_vocabsize_None_curriter_1/model, separately None\n",
      "2016-09-26 14:10:42,744 : INFO : storing numpy array 'doctag_syn0' to /home/local/shalaby/parameter_search_doc2vec_models/sample_0.0001/doc2vec_size_3000_w_8_type_pv-dbow_concat_1_mean_0_trainwords_0_hs_0_neg_10_vocabsize_None_curriter_1/model.docvecs.doctag_syn0.npy\n",
      "2016-09-26 14:10:42,864 : INFO : storing numpy array 'syn1neg' to /home/local/shalaby/parameter_search_doc2vec_models/sample_0.0001/doc2vec_size_3000_w_8_type_pv-dbow_concat_1_mean_0_trainwords_0_hs_0_neg_10_vocabsize_None_curriter_1/model.syn1neg.npy\n",
      "2016-09-26 14:10:43,955 : INFO : not storing attribute syn0norm\n",
      "2016-09-26 14:10:43,956 : INFO : storing numpy array 'syn0' to /home/local/shalaby/parameter_search_doc2vec_models/sample_0.0001/doc2vec_size_3000_w_8_type_pv-dbow_concat_1_mean_0_trainwords_0_hs_0_neg_10_vocabsize_None_curriter_1/model.syn0.npy\n",
      "2016-09-26 14:10:45,058 : INFO : not storing attribute cum_table\n",
      "2016-09-26 14:10:48,123 : INFO : ====== Doing Training\n"
     ]
    },
    {
     "name": "stdout",
     "output_type": "stream",
     "text": [
      "A\n"
     ]
    },
    {
     "name": "stderr",
     "output_type": "stream",
     "text": [
      "2016-09-26 14:10:55,283 : INFO : Finished getting training vectors\n",
      "2016-09-26 14:10:56,102 : INFO : Finished parallelization\n"
     ]
    },
    {
     "name": "stdout",
     "output_type": "stream",
     "text": [
      "B\n"
     ]
    },
    {
     "name": "stderr",
     "output_type": "stream",
     "text": [
      "2016-09-26 14:15:20,594 : INFO : Finished getting training vectors\n",
      "2016-09-26 14:15:21,440 : INFO : Finished parallelization\n"
     ]
    },
    {
     "name": "stdout",
     "output_type": "stream",
     "text": [
      "C\n"
     ]
    },
    {
     "name": "stderr",
     "output_type": "stream",
     "text": [
      "2016-09-26 14:18:47,404 : INFO : Finished getting training vectors\n",
      "2016-09-26 14:18:48,211 : INFO : Finished parallelization\n"
     ]
    },
    {
     "name": "stdout",
     "output_type": "stream",
     "text": [
      "D\n"
     ]
    },
    {
     "name": "stderr",
     "output_type": "stream",
     "text": [
      "2016-09-26 14:23:16,969 : INFO : Finished getting training vectors\n",
      "2016-09-26 14:23:17,762 : INFO : Finished parallelization\n"
     ]
    },
    {
     "name": "stdout",
     "output_type": "stream",
     "text": [
      "E\n"
     ]
    },
    {
     "name": "stderr",
     "output_type": "stream",
     "text": [
      "2016-09-26 14:29:33,770 : INFO : Finished getting training vectors\n",
      "2016-09-26 14:29:34,698 : INFO : Finished parallelization\n"
     ]
    },
    {
     "name": "stdout",
     "output_type": "stream",
     "text": [
      "F\n"
     ]
    },
    {
     "name": "stderr",
     "output_type": "stream",
     "text": [
      "2016-09-26 14:35:32,392 : INFO : Finished getting training vectors\n",
      "2016-09-26 14:35:33,259 : INFO : Finished parallelization\n"
     ]
    },
    {
     "name": "stdout",
     "output_type": "stream",
     "text": [
      "G\n"
     ]
    },
    {
     "name": "stderr",
     "output_type": "stream",
     "text": [
      "2016-09-26 14:39:31,111 : INFO : Finished getting training vectors\n",
      "2016-09-26 14:39:31,883 : INFO : Finished parallelization\n"
     ]
    },
    {
     "name": "stdout",
     "output_type": "stream",
     "text": [
      "H\n"
     ]
    },
    {
     "name": "stderr",
     "output_type": "stream",
     "text": [
      "2016-09-26 14:43:09,903 : INFO : Finished getting training vectors\n",
      "2016-09-26 14:43:10,671 : INFO : Finished parallelization\n",
      "2016-09-26 14:47:14,759 : INFO : ===== Getting validation vectors with inference\n",
      "2016-09-26 14:51:43,930 : INFO : Finished: 1000\n",
      "2016-09-26 14:56:09,766 : INFO : ====== Doing Validation\n"
     ]
    },
    {
     "name": "stdout",
     "output_type": "stream",
     "text": [
      "A\n"
     ]
    },
    {
     "name": "stderr",
     "output_type": "stream",
     "text": [
      "2016-09-26 14:56:10,013 : INFO : Finished getting validation vectors\n",
      "2016-09-26 14:56:10,939 : INFO : Loaded the model, Doing the prediction now....\n"
     ]
    },
    {
     "name": "stdout",
     "output_type": "stream",
     "text": [
      "B\n"
     ]
    },
    {
     "name": "stderr",
     "output_type": "stream",
     "text": [
      "2016-09-26 14:56:11,710 : INFO : Finished getting validation vectors\n",
      "2016-09-26 14:56:12,453 : INFO : Loaded the model, Doing the prediction now....\n"
     ]
    },
    {
     "name": "stdout",
     "output_type": "stream",
     "text": [
      "C\n"
     ]
    },
    {
     "name": "stderr",
     "output_type": "stream",
     "text": [
      "2016-09-26 14:56:13,050 : INFO : Finished getting validation vectors\n",
      "2016-09-26 14:56:13,791 : INFO : Loaded the model, Doing the prediction now....\n"
     ]
    },
    {
     "name": "stdout",
     "output_type": "stream",
     "text": [
      "D\n"
     ]
    },
    {
     "name": "stderr",
     "output_type": "stream",
     "text": [
      "2016-09-26 14:56:14,381 : INFO : Finished getting validation vectors\n",
      "2016-09-26 14:56:15,045 : INFO : Loaded the model, Doing the prediction now....\n"
     ]
    },
    {
     "name": "stdout",
     "output_type": "stream",
     "text": [
      "E\n"
     ]
    },
    {
     "name": "stderr",
     "output_type": "stream",
     "text": [
      "2016-09-26 14:56:15,720 : INFO : Finished getting validation vectors\n",
      "2016-09-26 14:56:16,426 : INFO : Loaded the model, Doing the prediction now....\n"
     ]
    },
    {
     "name": "stdout",
     "output_type": "stream",
     "text": [
      "F\n"
     ]
    },
    {
     "name": "stderr",
     "output_type": "stream",
     "text": [
      "2016-09-26 14:56:17,047 : INFO : Finished getting validation vectors\n",
      "2016-09-26 14:56:17,751 : INFO : Loaded the model, Doing the prediction now....\n"
     ]
    },
    {
     "name": "stdout",
     "output_type": "stream",
     "text": [
      "G\n"
     ]
    },
    {
     "name": "stderr",
     "output_type": "stream",
     "text": [
      "2016-09-26 14:56:18,372 : INFO : Finished getting validation vectors\n",
      "2016-09-26 14:56:19,104 : INFO : Loaded the model, Doing the prediction now....\n"
     ]
    },
    {
     "name": "stdout",
     "output_type": "stream",
     "text": [
      "H\n"
     ]
    },
    {
     "name": "stderr",
     "output_type": "stream",
     "text": [
      "2016-09-26 14:56:19,737 : INFO : Finished getting validation vectors\n",
      "2016-09-26 14:56:20,482 : INFO : Loaded the model, Doing the prediction now....\n"
     ]
    },
    {
     "name": "stdout",
     "output_type": "stream",
     "text": [
      "Coverage Error: 7.08278313865, Average No of Labels: 1.35195530726, Top 1: 0.589782118708, Top 3: 0.838091660406, Top 5: 0.955296769346, F1 Micro: 0.275240384615, Total Positive: 666\n"
     ]
    },
    {
     "name": "stderr",
     "output_type": "stream",
     "text": [
      "2016-09-26 14:56:21,344 : INFO : ****************** Epoch 2 --- Working on doc2vec_size_3000_w_8_type_pv-dbow_concat_1_mean_0_trainwords_0_hs_0_neg_10_vocabsize_None_curriter_2 *******************\n",
      "2016-09-26 14:56:21,347 : INFO : training model with 7 workers on 104358 vocabulary and 3000 features, using sg=1 hs=0 sample=1e-05 negative=10\n",
      "2016-09-26 14:56:21,348 : INFO : expecting 8979 sentences, matching count from corpus used for vocabulary survey\n",
      "2016-09-26 14:56:22,371 : INFO : PROGRESS: at 0.13% examples, 21184 words/s, in_qsize 0, out_qsize 0\n",
      "2016-09-26 14:57:22,495 : INFO : PROGRESS: at 10.93% examples, 26699 words/s, in_qsize 0, out_qsize 0\n",
      "2016-09-26 14:58:22,457 : INFO : PROGRESS: at 21.08% examples, 26479 words/s, in_qsize 0, out_qsize 0\n",
      "2016-09-26 14:59:22,469 : INFO : PROGRESS: at 32.46% examples, 26880 words/s, in_qsize 0, out_qsize 0\n",
      "2016-09-26 15:00:22,470 : INFO : PROGRESS: at 42.86% examples, 27018 words/s, in_qsize 0, out_qsize 0\n",
      "2016-09-26 15:01:22,620 : INFO : PROGRESS: at 54.15% examples, 27090 words/s, in_qsize 0, out_qsize 0\n",
      "2016-09-26 15:02:22,695 : INFO : PROGRESS: at 65.33% examples, 27131 words/s, in_qsize 0, out_qsize 1\n",
      "2016-09-26 15:03:22,777 : INFO : PROGRESS: at 76.81% examples, 27218 words/s, in_qsize 0, out_qsize 0\n",
      "2016-09-26 15:04:22,895 : INFO : PROGRESS: at 88.17% examples, 27386 words/s, in_qsize 0, out_qsize 1\n",
      "2016-09-26 15:05:22,966 : INFO : PROGRESS: at 99.77% examples, 27448 words/s, in_qsize 0, out_qsize 0\n",
      "2016-09-26 15:05:24,376 : INFO : worker thread finished; awaiting finish of 6 more threads\n",
      "2016-09-26 15:05:24,382 : INFO : worker thread finished; awaiting finish of 5 more threads\n",
      "2016-09-26 15:05:24,383 : INFO : worker thread finished; awaiting finish of 4 more threads\n",
      "2016-09-26 15:05:24,384 : INFO : worker thread finished; awaiting finish of 3 more threads\n",
      "2016-09-26 15:05:24,385 : INFO : worker thread finished; awaiting finish of 2 more threads\n",
      "2016-09-26 15:05:24,424 : INFO : worker thread finished; awaiting finish of 1 more threads\n",
      "2016-09-26 15:05:24,493 : INFO : worker thread finished; awaiting finish of 0 more threads\n",
      "2016-09-26 15:05:24,494 : INFO : training on 59217428 raw words (14918168 effective words) took 543.1s, 27467 effective words/s\n",
      "2016-09-26 15:05:24,497 : INFO : saving Doc2Vec object under /home/local/shalaby/parameter_search_doc2vec_models/sample_0.0001/doc2vec_size_3000_w_8_type_pv-dbow_concat_1_mean_0_trainwords_0_hs_0_neg_10_vocabsize_None_curriter_2/model, separately None\n",
      "2016-09-26 15:05:24,499 : INFO : storing numpy array 'doctag_syn0' to /home/local/shalaby/parameter_search_doc2vec_models/sample_0.0001/doc2vec_size_3000_w_8_type_pv-dbow_concat_1_mean_0_trainwords_0_hs_0_neg_10_vocabsize_None_curriter_2/model.docvecs.doctag_syn0.npy\n",
      "2016-09-26 15:05:24,622 : INFO : storing numpy array 'syn1neg' to /home/local/shalaby/parameter_search_doc2vec_models/sample_0.0001/doc2vec_size_3000_w_8_type_pv-dbow_concat_1_mean_0_trainwords_0_hs_0_neg_10_vocabsize_None_curriter_2/model.syn1neg.npy\n",
      "2016-09-26 15:05:25,866 : INFO : not storing attribute syn0norm\n",
      "2016-09-26 15:05:25,867 : INFO : storing numpy array 'syn0' to /home/local/shalaby/parameter_search_doc2vec_models/sample_0.0001/doc2vec_size_3000_w_8_type_pv-dbow_concat_1_mean_0_trainwords_0_hs_0_neg_10_vocabsize_None_curriter_2/model.syn0.npy\n",
      "2016-09-26 15:05:27,555 : INFO : not storing attribute cum_table\n",
      "2016-09-26 15:05:29,174 : INFO : ====== Doing Training\n"
     ]
    },
    {
     "name": "stdout",
     "output_type": "stream",
     "text": [
      "A\n"
     ]
    },
    {
     "name": "stderr",
     "output_type": "stream",
     "text": [
      "2016-09-26 15:05:38,258 : INFO : Finished getting training vectors\n",
      "2016-09-26 15:05:39,412 : INFO : Finished parallelization\n"
     ]
    },
    {
     "name": "stdout",
     "output_type": "stream",
     "text": [
      "B\n"
     ]
    },
    {
     "name": "stderr",
     "output_type": "stream",
     "text": [
      "2016-09-26 15:10:02,556 : INFO : Finished getting training vectors\n",
      "2016-09-26 15:10:03,409 : INFO : Finished parallelization\n"
     ]
    },
    {
     "name": "stdout",
     "output_type": "stream",
     "text": [
      "C\n"
     ]
    },
    {
     "name": "stderr",
     "output_type": "stream",
     "text": [
      "2016-09-26 15:13:34,163 : INFO : Finished getting training vectors\n",
      "2016-09-26 15:13:35,035 : INFO : Finished parallelization\n"
     ]
    },
    {
     "name": "stdout",
     "output_type": "stream",
     "text": [
      "D\n"
     ]
    },
    {
     "name": "stderr",
     "output_type": "stream",
     "text": [
      "2016-09-26 15:17:48,535 : INFO : Finished getting training vectors\n",
      "2016-09-26 15:17:49,498 : INFO : Finished parallelization\n"
     ]
    },
    {
     "name": "stdout",
     "output_type": "stream",
     "text": [
      "E\n"
     ]
    },
    {
     "name": "stderr",
     "output_type": "stream",
     "text": [
      "2016-09-26 15:23:08,710 : INFO : Finished getting training vectors\n",
      "2016-09-26 15:23:09,617 : INFO : Finished parallelization\n"
     ]
    },
    {
     "name": "stdout",
     "output_type": "stream",
     "text": [
      "F\n"
     ]
    },
    {
     "name": "stderr",
     "output_type": "stream",
     "text": [
      "2016-09-26 15:27:36,473 : INFO : Finished getting training vectors\n",
      "2016-09-26 15:27:37,321 : INFO : Finished parallelization\n"
     ]
    },
    {
     "name": "stdout",
     "output_type": "stream",
     "text": [
      "G\n"
     ]
    },
    {
     "name": "stderr",
     "output_type": "stream",
     "text": [
      "2016-09-26 15:31:30,001 : INFO : Finished getting training vectors\n",
      "2016-09-26 15:31:30,821 : INFO : Finished parallelization\n"
     ]
    },
    {
     "name": "stdout",
     "output_type": "stream",
     "text": [
      "H\n"
     ]
    },
    {
     "name": "stderr",
     "output_type": "stream",
     "text": [
      "2016-09-26 15:34:51,040 : INFO : Finished getting training vectors\n",
      "2016-09-26 15:34:51,892 : INFO : Finished parallelization\n",
      "2016-09-26 15:38:48,690 : INFO : ===== Getting validation vectors with inference\n",
      "2016-09-26 15:43:20,772 : INFO : Finished: 1000\n",
      "2016-09-26 15:47:43,085 : INFO : ====== Doing Validation\n"
     ]
    },
    {
     "name": "stdout",
     "output_type": "stream",
     "text": [
      "A\n"
     ]
    },
    {
     "name": "stderr",
     "output_type": "stream",
     "text": [
      "2016-09-26 15:47:43,382 : INFO : Finished getting validation vectors\n",
      "2016-09-26 15:47:44,139 : INFO : Loaded the model, Doing the prediction now....\n"
     ]
    },
    {
     "name": "stdout",
     "output_type": "stream",
     "text": [
      "B\n"
     ]
    },
    {
     "name": "stderr",
     "output_type": "stream",
     "text": [
      "2016-09-26 15:47:45,086 : INFO : Finished getting validation vectors\n",
      "2016-09-26 15:47:45,846 : INFO : Loaded the model, Doing the prediction now....\n"
     ]
    },
    {
     "name": "stdout",
     "output_type": "stream",
     "text": [
      "C\n"
     ]
    },
    {
     "name": "stderr",
     "output_type": "stream",
     "text": [
      "2016-09-26 15:47:46,506 : INFO : Finished getting validation vectors\n",
      "2016-09-26 15:47:47,214 : INFO : Loaded the model, Doing the prediction now....\n"
     ]
    },
    {
     "name": "stdout",
     "output_type": "stream",
     "text": [
      "D\n"
     ]
    },
    {
     "name": "stderr",
     "output_type": "stream",
     "text": [
      "2016-09-26 15:47:47,825 : INFO : Finished getting validation vectors\n",
      "2016-09-26 15:47:48,521 : INFO : Loaded the model, Doing the prediction now....\n"
     ]
    },
    {
     "name": "stdout",
     "output_type": "stream",
     "text": [
      "E\n"
     ]
    },
    {
     "name": "stderr",
     "output_type": "stream",
     "text": [
      "2016-09-26 15:47:49,186 : INFO : Finished getting validation vectors\n",
      "2016-09-26 15:47:49,911 : INFO : Loaded the model, Doing the prediction now....\n"
     ]
    },
    {
     "name": "stdout",
     "output_type": "stream",
     "text": [
      "F\n"
     ]
    },
    {
     "name": "stderr",
     "output_type": "stream",
     "text": [
      "2016-09-26 15:47:50,547 : INFO : Finished getting validation vectors\n",
      "2016-09-26 15:47:51,302 : INFO : Loaded the model, Doing the prediction now....\n"
     ]
    },
    {
     "name": "stdout",
     "output_type": "stream",
     "text": [
      "G\n"
     ]
    },
    {
     "name": "stderr",
     "output_type": "stream",
     "text": [
      "2016-09-26 15:47:51,934 : INFO : Finished getting validation vectors\n",
      "2016-09-26 15:47:52,679 : INFO : Loaded the model, Doing the prediction now....\n"
     ]
    },
    {
     "name": "stdout",
     "output_type": "stream",
     "text": [
      "H\n"
     ]
    },
    {
     "name": "stderr",
     "output_type": "stream",
     "text": [
      "2016-09-26 15:47:53,317 : INFO : Finished getting validation vectors\n",
      "2016-09-26 15:47:53,996 : INFO : Loaded the model, Doing the prediction now....\n",
      "2016-09-26 15:47:54,820 : INFO : ****************** Epoch 3 --- Working on doc2vec_size_3000_w_8_type_pv-dbow_concat_1_mean_0_trainwords_0_hs_0_neg_10_vocabsize_None_curriter_3 *******************\n",
      "2016-09-26 15:47:54,823 : INFO : training model with 7 workers on 104358 vocabulary and 3000 features, using sg=1 hs=0 sample=1e-05 negative=10\n",
      "2016-09-26 15:47:54,824 : INFO : expecting 8979 sentences, matching count from corpus used for vocabulary survey\n"
     ]
    },
    {
     "name": "stdout",
     "output_type": "stream",
     "text": [
      "Coverage Error: 7.11681056374, Average No of Labels: 1.35195530726, Top 1: 0.595792637115, Top 3: 0.854244928625, Top 5: 0.951915852742, F1 Micro: 0.267802799757, Total Positive: 624\n"
     ]
    },
    {
     "name": "stderr",
     "output_type": "stream",
     "text": [
      "2016-09-26 15:47:55,891 : INFO : PROGRESS: at 0.14% examples, 20088 words/s, in_qsize 0, out_qsize 0\n",
      "2016-09-26 15:48:56,011 : INFO : PROGRESS: at 11.42% examples, 27389 words/s, in_qsize 0, out_qsize 0\n",
      "2016-09-26 15:49:56,050 : INFO : PROGRESS: at 22.61% examples, 28036 words/s, in_qsize 0, out_qsize 0\n",
      "2016-09-26 15:50:56,141 : INFO : PROGRESS: at 34.31% examples, 28021 words/s, in_qsize 0, out_qsize 0\n",
      "2016-09-26 15:51:56,257 : INFO : PROGRESS: at 45.19% examples, 27859 words/s, in_qsize 0, out_qsize 0\n",
      "2016-09-26 15:52:56,437 : INFO : PROGRESS: at 55.71% examples, 27641 words/s, in_qsize 0, out_qsize 0\n",
      "2016-09-26 15:53:56,471 : INFO : PROGRESS: at 66.86% examples, 27709 words/s, in_qsize 0, out_qsize 0\n",
      "2016-09-26 15:54:56,467 : INFO : PROGRESS: at 78.44% examples, 27785 words/s, in_qsize 0, out_qsize 0\n",
      "2016-09-26 15:55:56,527 : INFO : PROGRESS: at 89.88% examples, 27861 words/s, in_qsize 0, out_qsize 0\n",
      "2016-09-26 15:56:48,934 : INFO : worker thread finished; awaiting finish of 6 more threads\n",
      "2016-09-26 15:56:48,940 : INFO : worker thread finished; awaiting finish of 5 more threads\n",
      "2016-09-26 15:56:48,944 : INFO : worker thread finished; awaiting finish of 4 more threads\n",
      "2016-09-26 15:56:48,945 : INFO : worker thread finished; awaiting finish of 3 more threads\n",
      "2016-09-26 15:56:48,946 : INFO : worker thread finished; awaiting finish of 2 more threads\n",
      "2016-09-26 15:56:48,998 : INFO : worker thread finished; awaiting finish of 1 more threads\n",
      "2016-09-26 15:56:49,068 : INFO : worker thread finished; awaiting finish of 0 more threads\n",
      "2016-09-26 15:56:49,070 : INFO : training on 59217428 raw words (14916376 effective words) took 534.2s, 27921 effective words/s\n",
      "2016-09-26 15:56:49,072 : INFO : saving Doc2Vec object under /home/local/shalaby/parameter_search_doc2vec_models/sample_0.0001/doc2vec_size_3000_w_8_type_pv-dbow_concat_1_mean_0_trainwords_0_hs_0_neg_10_vocabsize_None_curriter_3/model, separately None\n",
      "2016-09-26 15:56:49,074 : INFO : storing numpy array 'doctag_syn0' to /home/local/shalaby/parameter_search_doc2vec_models/sample_0.0001/doc2vec_size_3000_w_8_type_pv-dbow_concat_1_mean_0_trainwords_0_hs_0_neg_10_vocabsize_None_curriter_3/model.docvecs.doctag_syn0.npy\n",
      "2016-09-26 15:56:49,223 : INFO : storing numpy array 'syn1neg' to /home/local/shalaby/parameter_search_doc2vec_models/sample_0.0001/doc2vec_size_3000_w_8_type_pv-dbow_concat_1_mean_0_trainwords_0_hs_0_neg_10_vocabsize_None_curriter_3/model.syn1neg.npy\n",
      "2016-09-26 15:56:50,467 : INFO : not storing attribute syn0norm\n",
      "2016-09-26 15:56:50,469 : INFO : storing numpy array 'syn0' to /home/local/shalaby/parameter_search_doc2vec_models/sample_0.0001/doc2vec_size_3000_w_8_type_pv-dbow_concat_1_mean_0_trainwords_0_hs_0_neg_10_vocabsize_None_curriter_3/model.syn0.npy\n",
      "2016-09-26 15:56:51,726 : INFO : not storing attribute cum_table\n",
      "2016-09-26 15:56:53,370 : INFO : ====== Doing Training\n"
     ]
    },
    {
     "name": "stdout",
     "output_type": "stream",
     "text": [
      "A\n"
     ]
    },
    {
     "name": "stderr",
     "output_type": "stream",
     "text": [
      "2016-09-26 15:57:00,211 : INFO : Finished getting training vectors\n",
      "2016-09-26 15:57:02,208 : INFO : Finished parallelization\n"
     ]
    },
    {
     "name": "stdout",
     "output_type": "stream",
     "text": [
      "B\n"
     ]
    },
    {
     "name": "stderr",
     "output_type": "stream",
     "text": [
      "2016-09-26 16:17:06,613 : INFO : Finished getting training vectors\n",
      "2016-09-26 16:17:07,534 : INFO : Finished parallelization\n"
     ]
    },
    {
     "name": "stdout",
     "output_type": "stream",
     "text": [
      "C\n"
     ]
    },
    {
     "name": "stderr",
     "output_type": "stream",
     "text": [
      "2016-09-26 16:21:51,084 : INFO : Finished getting training vectors\n",
      "2016-09-26 16:21:52,047 : INFO : Finished parallelization\n"
     ]
    },
    {
     "name": "stdout",
     "output_type": "stream",
     "text": [
      "D\n"
     ]
    },
    {
     "name": "stderr",
     "output_type": "stream",
     "text": [
      "2016-09-26 16:26:10,379 : INFO : Finished getting training vectors\n",
      "2016-09-26 16:26:11,315 : INFO : Finished parallelization\n"
     ]
    },
    {
     "name": "stdout",
     "output_type": "stream",
     "text": [
      "E\n"
     ]
    },
    {
     "name": "stderr",
     "output_type": "stream",
     "text": [
      "2016-09-26 16:53:33,300 : INFO : Finished getting training vectors\n",
      "2016-09-26 16:53:36,934 : INFO : Finished parallelization\n"
     ]
    },
    {
     "name": "stdout",
     "output_type": "stream",
     "text": [
      "F\n"
     ]
    },
    {
     "name": "stderr",
     "output_type": "stream",
     "text": [
      "2016-09-26 17:12:15,277 : INFO : Finished getting training vectors\n",
      "2016-09-26 17:12:16,263 : INFO : Finished parallelization\n"
     ]
    },
    {
     "name": "stdout",
     "output_type": "stream",
     "text": [
      "G\n"
     ]
    },
    {
     "name": "stderr",
     "output_type": "stream",
     "text": [
      "2016-09-26 17:32:08,309 : INFO : Finished getting training vectors\n",
      "2016-09-26 17:32:09,285 : INFO : Finished parallelization\n"
     ]
    },
    {
     "name": "stdout",
     "output_type": "stream",
     "text": [
      "H\n"
     ]
    },
    {
     "name": "stderr",
     "output_type": "stream",
     "text": [
      "2016-09-26 17:37:55,296 : INFO : Finished getting training vectors\n",
      "2016-09-26 17:37:56,214 : INFO : Finished parallelization\n",
      "2016-09-26 18:16:31,953 : INFO : ===== Getting validation vectors with inference\n",
      "2016-09-26 18:20:56,418 : INFO : Finished: 1000\n",
      "2016-09-26 18:25:18,276 : INFO : ====== Doing Validation\n"
     ]
    },
    {
     "name": "stdout",
     "output_type": "stream",
     "text": [
      "A\n"
     ]
    },
    {
     "name": "stderr",
     "output_type": "stream",
     "text": [
      "2016-09-26 18:25:18,548 : INFO : Finished getting validation vectors\n",
      "2016-09-26 18:25:19,349 : INFO : Loaded the model, Doing the prediction now....\n"
     ]
    },
    {
     "name": "stdout",
     "output_type": "stream",
     "text": [
      "B\n"
     ]
    },
    {
     "name": "stderr",
     "output_type": "stream",
     "text": [
      "2016-09-26 18:25:21,929 : INFO : Finished getting validation vectors\n",
      "2016-09-26 18:25:22,719 : INFO : Loaded the model, Doing the prediction now....\n"
     ]
    },
    {
     "name": "stdout",
     "output_type": "stream",
     "text": [
      "C\n"
     ]
    },
    {
     "name": "stderr",
     "output_type": "stream",
     "text": [
      "2016-09-26 18:25:23,465 : INFO : Finished getting validation vectors\n",
      "2016-09-26 18:25:24,225 : INFO : Loaded the model, Doing the prediction now....\n"
     ]
    },
    {
     "name": "stdout",
     "output_type": "stream",
     "text": [
      "D\n"
     ]
    },
    {
     "name": "stderr",
     "output_type": "stream",
     "text": [
      "2016-09-26 18:25:25,237 : INFO : Finished getting validation vectors\n",
      "2016-09-26 18:25:25,989 : INFO : Loaded the model, Doing the prediction now....\n"
     ]
    },
    {
     "name": "stdout",
     "output_type": "stream",
     "text": [
      "E\n"
     ]
    },
    {
     "name": "stderr",
     "output_type": "stream",
     "text": [
      "2016-09-26 18:25:26,648 : INFO : Finished getting validation vectors\n",
      "2016-09-26 18:25:27,410 : INFO : Loaded the model, Doing the prediction now....\n"
     ]
    },
    {
     "name": "stdout",
     "output_type": "stream",
     "text": [
      "F\n"
     ]
    },
    {
     "name": "stderr",
     "output_type": "stream",
     "text": [
      "2016-09-26 18:25:28,130 : INFO : Finished getting validation vectors\n",
      "2016-09-26 18:25:28,891 : INFO : Loaded the model, Doing the prediction now....\n"
     ]
    },
    {
     "name": "stdout",
     "output_type": "stream",
     "text": [
      "G\n"
     ]
    },
    {
     "name": "stderr",
     "output_type": "stream",
     "text": [
      "2016-09-26 18:25:29,571 : INFO : Finished getting validation vectors\n",
      "2016-09-26 18:25:30,364 : INFO : Loaded the model, Doing the prediction now....\n"
     ]
    },
    {
     "name": "stdout",
     "output_type": "stream",
     "text": [
      "H\n"
     ]
    },
    {
     "name": "stderr",
     "output_type": "stream",
     "text": [
      "2016-09-26 18:25:31,002 : INFO : Finished getting validation vectors\n",
      "2016-09-26 18:25:31,755 : INFO : Loaded the model, Doing the prediction now....\n"
     ]
    },
    {
     "name": "stdout",
     "output_type": "stream",
     "text": [
      "Coverage Error: 6.92432706958, Average No of Labels: 1.35195530726, Top 1: 0.618707738542, Top 3: 0.856123215627, Top 5: 0.947407963937, F1 Micro: 0.301126259632, Total Positive: 712\n"
     ]
    },
    {
     "name": "stderr",
     "output_type": "stream",
     "text": [
      "2016-09-26 18:25:32,634 : INFO : ****************** Epoch 4 --- Working on doc2vec_size_3000_w_8_type_pv-dbow_concat_1_mean_0_trainwords_0_hs_0_neg_10_vocabsize_None_curriter_4 *******************\n",
      "2016-09-26 18:25:32,637 : INFO : training model with 7 workers on 104358 vocabulary and 3000 features, using sg=1 hs=0 sample=1e-05 negative=10\n",
      "2016-09-26 18:25:32,637 : INFO : expecting 8979 sentences, matching count from corpus used for vocabulary survey\n",
      "2016-09-26 18:25:33,736 : INFO : PROGRESS: at 0.13% examples, 21261 words/s, in_qsize 0, out_qsize 0\n",
      "2016-09-26 18:26:33,750 : INFO : PROGRESS: at 10.76% examples, 26368 words/s, in_qsize 0, out_qsize 0\n",
      "2016-09-26 18:27:33,794 : INFO : PROGRESS: at 22.55% examples, 27224 words/s, in_qsize 0, out_qsize 1\n",
      "2016-09-26 18:28:33,860 : INFO : PROGRESS: at 33.62% examples, 27619 words/s, in_qsize 0, out_qsize 0\n",
      "2016-09-26 18:29:33,902 : INFO : PROGRESS: at 44.95% examples, 27616 words/s, in_qsize 0, out_qsize 0\n",
      "2016-09-26 18:30:33,906 : INFO : PROGRESS: at 55.95% examples, 27670 words/s, in_qsize 0, out_qsize 1\n",
      "2016-09-26 18:31:33,927 : INFO : PROGRESS: at 67.21% examples, 27825 words/s, in_qsize 0, out_qsize 0\n",
      "2016-09-26 18:32:33,963 : INFO : PROGRESS: at 79.14% examples, 27884 words/s, in_qsize 0, out_qsize 0\n",
      "2016-09-26 18:33:33,990 : INFO : PROGRESS: at 90.75% examples, 27940 words/s, in_qsize 0, out_qsize 0\n",
      "2016-09-26 18:34:25,050 : INFO : worker thread finished; awaiting finish of 6 more threads\n",
      "2016-09-26 18:34:25,056 : INFO : worker thread finished; awaiting finish of 5 more threads\n",
      "2016-09-26 18:34:25,058 : INFO : worker thread finished; awaiting finish of 4 more threads\n",
      "2016-09-26 18:34:25,059 : INFO : worker thread finished; awaiting finish of 3 more threads\n",
      "2016-09-26 18:34:25,060 : INFO : worker thread finished; awaiting finish of 2 more threads\n",
      "2016-09-26 18:34:25,070 : INFO : worker thread finished; awaiting finish of 1 more threads\n",
      "2016-09-26 18:34:25,313 : INFO : worker thread finished; awaiting finish of 0 more threads\n",
      "2016-09-26 18:34:25,315 : INFO : training on 59217428 raw words (14917372 effective words) took 532.7s, 28005 effective words/s\n",
      "2016-09-26 18:34:25,317 : INFO : saving Doc2Vec object under /home/local/shalaby/parameter_search_doc2vec_models/sample_0.0001/doc2vec_size_3000_w_8_type_pv-dbow_concat_1_mean_0_trainwords_0_hs_0_neg_10_vocabsize_None_curriter_4/model, separately None\n",
      "2016-09-26 18:34:25,318 : INFO : storing numpy array 'doctag_syn0' to /home/local/shalaby/parameter_search_doc2vec_models/sample_0.0001/doc2vec_size_3000_w_8_type_pv-dbow_concat_1_mean_0_trainwords_0_hs_0_neg_10_vocabsize_None_curriter_4/model.docvecs.doctag_syn0.npy\n",
      "2016-09-26 18:34:25,419 : INFO : storing numpy array 'syn1neg' to /home/local/shalaby/parameter_search_doc2vec_models/sample_0.0001/doc2vec_size_3000_w_8_type_pv-dbow_concat_1_mean_0_trainwords_0_hs_0_neg_10_vocabsize_None_curriter_4/model.syn1neg.npy\n",
      "2016-09-26 18:34:26,839 : INFO : not storing attribute syn0norm\n",
      "2016-09-26 18:34:26,841 : INFO : storing numpy array 'syn0' to /home/local/shalaby/parameter_search_doc2vec_models/sample_0.0001/doc2vec_size_3000_w_8_type_pv-dbow_concat_1_mean_0_trainwords_0_hs_0_neg_10_vocabsize_None_curriter_4/model.syn0.npy\n",
      "2016-09-26 18:34:28,265 : INFO : not storing attribute cum_table\n",
      "2016-09-26 18:34:29,700 : INFO : ====== Doing Training\n"
     ]
    },
    {
     "name": "stdout",
     "output_type": "stream",
     "text": [
      "A\n"
     ]
    },
    {
     "name": "stderr",
     "output_type": "stream",
     "text": [
      "2016-09-26 18:34:36,477 : INFO : Finished getting training vectors\n",
      "2016-09-26 18:34:37,806 : INFO : Finished parallelization\n"
     ]
    },
    {
     "name": "stdout",
     "output_type": "stream",
     "text": [
      "B\n"
     ]
    },
    {
     "name": "stderr",
     "output_type": "stream",
     "text": [
      "2016-09-26 19:19:02,107 : INFO : Finished getting training vectors\n",
      "2016-09-26 19:19:03,214 : INFO : Finished parallelization\n"
     ]
    },
    {
     "name": "stdout",
     "output_type": "stream",
     "text": [
      "C\n"
     ]
    },
    {
     "name": "stderr",
     "output_type": "stream",
     "text": [
      "2016-09-26 20:18:25,836 : INFO : Finished getting training vectors\n",
      "2016-09-26 20:18:27,775 : INFO : Finished parallelization\n"
     ]
    },
    {
     "name": "stdout",
     "output_type": "stream",
     "text": [
      "D\n"
     ]
    },
    {
     "name": "stderr",
     "output_type": "stream",
     "text": [
      "2016-09-26 21:28:07,069 : INFO : Finished getting training vectors\n",
      "2016-09-26 21:28:09,653 : INFO : Finished parallelization\n"
     ]
    },
    {
     "name": "stdout",
     "output_type": "stream",
     "text": [
      "E\n"
     ]
    },
    {
     "name": "stderr",
     "output_type": "stream",
     "text": [
      "2016-09-26 21:41:50,322 : INFO : Finished getting training vectors\n",
      "2016-09-26 21:41:51,338 : INFO : Finished parallelization\n"
     ]
    },
    {
     "name": "stdout",
     "output_type": "stream",
     "text": [
      "F\n"
     ]
    },
    {
     "name": "stderr",
     "output_type": "stream",
     "text": [
      "2016-09-26 21:54:35,278 : INFO : Finished getting training vectors\n",
      "2016-09-26 21:54:36,200 : INFO : Finished parallelization\n"
     ]
    },
    {
     "name": "stdout",
     "output_type": "stream",
     "text": [
      "G\n"
     ]
    },
    {
     "name": "stderr",
     "output_type": "stream",
     "text": [
      "2016-09-26 22:54:05,040 : INFO : Finished getting training vectors\n",
      "2016-09-26 22:54:07,133 : INFO : Finished parallelization\n"
     ]
    },
    {
     "name": "stdout",
     "output_type": "stream",
     "text": [
      "H\n"
     ]
    },
    {
     "name": "stderr",
     "output_type": "stream",
     "text": [
      "2016-09-26 23:59:07,906 : INFO : Finished getting training vectors\n",
      "2016-09-26 23:59:13,342 : INFO : Finished parallelization\n",
      "2016-09-27 01:22:45,681 : INFO : ===== Getting validation vectors with inference\n",
      "2016-09-27 01:27:08,856 : INFO : Finished: 1000\n",
      "2016-09-27 01:31:29,044 : INFO : ====== Doing Validation\n"
     ]
    },
    {
     "name": "stdout",
     "output_type": "stream",
     "text": [
      "A\n"
     ]
    },
    {
     "name": "stderr",
     "output_type": "stream",
     "text": [
      "2016-09-27 01:31:29,329 : INFO : Finished getting validation vectors\n",
      "2016-09-27 01:31:30,112 : INFO : Loaded the model, Doing the prediction now....\n"
     ]
    },
    {
     "name": "stdout",
     "output_type": "stream",
     "text": [
      "B\n"
     ]
    },
    {
     "name": "stderr",
     "output_type": "stream",
     "text": [
      "2016-09-27 01:31:31,052 : INFO : Finished getting validation vectors\n",
      "2016-09-27 01:31:31,777 : INFO : Loaded the model, Doing the prediction now....\n"
     ]
    },
    {
     "name": "stdout",
     "output_type": "stream",
     "text": [
      "C\n"
     ]
    },
    {
     "name": "stderr",
     "output_type": "stream",
     "text": [
      "2016-09-27 01:31:32,972 : INFO : Finished getting validation vectors\n",
      "2016-09-27 01:31:33,738 : INFO : Loaded the model, Doing the prediction now....\n"
     ]
    },
    {
     "name": "stdout",
     "output_type": "stream",
     "text": [
      "D\n"
     ]
    },
    {
     "name": "stderr",
     "output_type": "stream",
     "text": [
      "2016-09-27 01:31:34,384 : INFO : Finished getting validation vectors\n",
      "2016-09-27 01:31:35,135 : INFO : Loaded the model, Doing the prediction now....\n"
     ]
    },
    {
     "name": "stdout",
     "output_type": "stream",
     "text": [
      "E\n"
     ]
    },
    {
     "name": "stderr",
     "output_type": "stream",
     "text": [
      "2016-09-27 01:31:35,747 : INFO : Finished getting validation vectors\n",
      "2016-09-27 01:31:36,481 : INFO : Loaded the model, Doing the prediction now....\n"
     ]
    },
    {
     "name": "stdout",
     "output_type": "stream",
     "text": [
      "F\n"
     ]
    },
    {
     "name": "stderr",
     "output_type": "stream",
     "text": [
      "2016-09-27 01:31:37,161 : INFO : Finished getting validation vectors\n",
      "2016-09-27 01:31:37,963 : INFO : Loaded the model, Doing the prediction now....\n"
     ]
    },
    {
     "name": "stdout",
     "output_type": "stream",
     "text": [
      "G\n"
     ]
    },
    {
     "name": "stderr",
     "output_type": "stream",
     "text": [
      "2016-09-27 01:31:38,672 : INFO : Finished getting validation vectors\n",
      "2016-09-27 01:31:39,419 : INFO : Loaded the model, Doing the prediction now....\n"
     ]
    },
    {
     "name": "stdout",
     "output_type": "stream",
     "text": [
      "H\n"
     ]
    },
    {
     "name": "stderr",
     "output_type": "stream",
     "text": [
      "2016-09-27 01:31:40,092 : INFO : Finished getting validation vectors\n",
      "2016-09-27 01:31:40,847 : INFO : Loaded the model, Doing the prediction now....\n",
      "2016-09-27 01:31:41,618 : INFO : ****************** Epoch 5 --- Working on doc2vec_size_3000_w_8_type_pv-dbow_concat_1_mean_0_trainwords_0_hs_0_neg_10_vocabsize_None_curriter_5 *******************\n",
      "2016-09-27 01:31:41,621 : INFO : training model with 7 workers on 104358 vocabulary and 3000 features, using sg=1 hs=0 sample=1e-05 negative=10\n",
      "2016-09-27 01:31:41,621 : INFO : expecting 8979 sentences, matching count from corpus used for vocabulary survey\n"
     ]
    },
    {
     "name": "stdout",
     "output_type": "stream",
     "text": [
      "Coverage Error: 6.85119349924, Average No of Labels: 1.35195530726, Top 1: 0.619459053343, Top 3: 0.850864012021, Top 5: 0.94966190834, F1 Micro: 0.314586994728, Total Positive: 752\n"
     ]
    },
    {
     "name": "stderr",
     "output_type": "stream",
     "text": [
      "2016-09-27 01:31:42,694 : INFO : PROGRESS: at 0.17% examples, 12395 words/s, in_qsize 0, out_qsize 0\n",
      "2016-09-27 01:32:42,698 : INFO : PROGRESS: at 11.60% examples, 27146 words/s, in_qsize 0, out_qsize 0\n",
      "2016-09-27 01:33:42,787 : INFO : PROGRESS: at 22.49% examples, 27401 words/s, in_qsize 0, out_qsize 0\n",
      "2016-09-27 01:34:42,850 : INFO : PROGRESS: at 33.81% examples, 27541 words/s, in_qsize 0, out_qsize 0\n",
      "2016-09-27 01:35:42,945 : INFO : PROGRESS: at 45.41% examples, 27739 words/s, in_qsize 0, out_qsize 0\n",
      "2016-09-27 01:36:42,981 : INFO : PROGRESS: at 56.73% examples, 27866 words/s, in_qsize 0, out_qsize 0\n",
      "2016-09-27 01:37:43,027 : INFO : PROGRESS: at 67.69% examples, 27928 words/s, in_qsize 0, out_qsize 0\n",
      "2016-09-27 01:38:43,083 : INFO : PROGRESS: at 78.78% examples, 27909 words/s, in_qsize 0, out_qsize 1\n",
      "2016-09-27 01:39:43,140 : INFO : PROGRESS: at 90.17% examples, 27941 words/s, in_qsize 0, out_qsize 1\n",
      "2016-09-27 01:40:36,641 : INFO : worker thread finished; awaiting finish of 6 more threads\n",
      "2016-09-27 01:40:36,648 : INFO : worker thread finished; awaiting finish of 5 more threads\n",
      "2016-09-27 01:40:36,649 : INFO : worker thread finished; awaiting finish of 4 more threads\n",
      "2016-09-27 01:40:36,650 : INFO : worker thread finished; awaiting finish of 3 more threads\n",
      "2016-09-27 01:40:36,658 : INFO : worker thread finished; awaiting finish of 2 more threads\n",
      "2016-09-27 01:40:36,697 : INFO : worker thread finished; awaiting finish of 1 more threads\n",
      "2016-09-27 01:40:36,716 : INFO : worker thread finished; awaiting finish of 0 more threads\n",
      "2016-09-27 01:40:36,717 : INFO : training on 59217428 raw words (14916184 effective words) took 535.1s, 27876 effective words/s\n",
      "2016-09-27 01:40:36,718 : INFO : saving Doc2Vec object under /home/local/shalaby/parameter_search_doc2vec_models/sample_0.0001/doc2vec_size_3000_w_8_type_pv-dbow_concat_1_mean_0_trainwords_0_hs_0_neg_10_vocabsize_None_curriter_5/model, separately None\n",
      "2016-09-27 01:40:36,719 : INFO : storing numpy array 'doctag_syn0' to /home/local/shalaby/parameter_search_doc2vec_models/sample_0.0001/doc2vec_size_3000_w_8_type_pv-dbow_concat_1_mean_0_trainwords_0_hs_0_neg_10_vocabsize_None_curriter_5/model.docvecs.doctag_syn0.npy\n",
      "2016-09-27 01:40:36,823 : INFO : storing numpy array 'syn1neg' to /home/local/shalaby/parameter_search_doc2vec_models/sample_0.0001/doc2vec_size_3000_w_8_type_pv-dbow_concat_1_mean_0_trainwords_0_hs_0_neg_10_vocabsize_None_curriter_5/model.syn1neg.npy\n",
      "2016-09-27 01:40:38,230 : INFO : not storing attribute syn0norm\n",
      "2016-09-27 01:40:38,231 : INFO : storing numpy array 'syn0' to /home/local/shalaby/parameter_search_doc2vec_models/sample_0.0001/doc2vec_size_3000_w_8_type_pv-dbow_concat_1_mean_0_trainwords_0_hs_0_neg_10_vocabsize_None_curriter_5/model.syn0.npy\n",
      "2016-09-27 01:40:39,666 : INFO : not storing attribute cum_table\n",
      "2016-09-27 01:40:42,825 : INFO : ====== Doing Training\n"
     ]
    },
    {
     "name": "stdout",
     "output_type": "stream",
     "text": [
      "A\n"
     ]
    },
    {
     "name": "stderr",
     "output_type": "stream",
     "text": [
      "2016-09-27 01:40:49,712 : INFO : Finished getting training vectors\n",
      "2016-09-27 01:40:52,924 : INFO : Finished parallelization\n"
     ]
    },
    {
     "name": "stdout",
     "output_type": "stream",
     "text": [
      "B\n"
     ]
    },
    {
     "name": "stderr",
     "output_type": "stream",
     "text": [
      "2016-09-27 02:44:46,085 : INFO : Finished getting training vectors\n",
      "2016-09-27 02:44:50,522 : INFO : Finished parallelization\n"
     ]
    },
    {
     "name": "stdout",
     "output_type": "stream",
     "text": [
      "C\n"
     ]
    },
    {
     "name": "stderr",
     "output_type": "stream",
     "text": [
      "2016-09-27 03:53:54,985 : INFO : Finished getting training vectors\n",
      "2016-09-27 03:53:59,116 : INFO : Finished parallelization\n"
     ]
    },
    {
     "name": "stdout",
     "output_type": "stream",
     "text": [
      "D\n"
     ]
    },
    {
     "name": "stderr",
     "output_type": "stream",
     "text": [
      "2016-09-27 05:14:43,885 : INFO : Finished getting training vectors\n",
      "2016-09-27 05:14:44,886 : INFO : Finished parallelization\n"
     ]
    },
    {
     "name": "stdout",
     "output_type": "stream",
     "text": [
      "E\n"
     ]
    },
    {
     "name": "stderr",
     "output_type": "stream",
     "text": [
      "2016-09-27 05:28:38,777 : INFO : Finished getting training vectors\n",
      "2016-09-27 05:28:39,788 : INFO : Finished parallelization\n"
     ]
    },
    {
     "name": "stdout",
     "output_type": "stream",
     "text": [
      "F\n"
     ]
    },
    {
     "name": "stderr",
     "output_type": "stream",
     "text": [
      "2016-09-27 05:34:30,838 : INFO : Finished getting training vectors\n",
      "2016-09-27 05:34:31,765 : INFO : Finished parallelization\n"
     ]
    },
    {
     "name": "stdout",
     "output_type": "stream",
     "text": [
      "G\n"
     ]
    },
    {
     "name": "stderr",
     "output_type": "stream",
     "text": [
      "2016-09-27 05:40:02,443 : INFO : Finished getting training vectors\n",
      "2016-09-27 05:40:03,357 : INFO : Finished parallelization\n"
     ]
    },
    {
     "name": "stdout",
     "output_type": "stream",
     "text": [
      "H\n"
     ]
    },
    {
     "name": "stderr",
     "output_type": "stream",
     "text": [
      "2016-09-27 05:45:57,832 : INFO : Finished getting training vectors\n",
      "2016-09-27 05:45:58,820 : INFO : Finished parallelization\n",
      "2016-09-27 06:45:40,587 : INFO : ===== Getting validation vectors with inference\n",
      "2016-09-27 06:50:02,162 : INFO : Finished: 1000\n",
      "2016-09-27 06:54:18,763 : INFO : ====== Doing Validation\n"
     ]
    },
    {
     "name": "stdout",
     "output_type": "stream",
     "text": [
      "A\n"
     ]
    },
    {
     "name": "stderr",
     "output_type": "stream",
     "text": [
      "2016-09-27 06:54:19,022 : INFO : Finished getting validation vectors\n",
      "2016-09-27 06:54:19,807 : INFO : Loaded the model, Doing the prediction now....\n"
     ]
    },
    {
     "name": "stdout",
     "output_type": "stream",
     "text": [
      "B\n"
     ]
    },
    {
     "name": "stderr",
     "output_type": "stream",
     "text": [
      "2016-09-27 06:54:20,532 : INFO : Finished getting validation vectors\n",
      "2016-09-27 06:54:21,344 : INFO : Loaded the model, Doing the prediction now....\n"
     ]
    },
    {
     "name": "stdout",
     "output_type": "stream",
     "text": [
      "C\n"
     ]
    },
    {
     "name": "stderr",
     "output_type": "stream",
     "text": [
      "2016-09-27 06:54:21,960 : INFO : Finished getting validation vectors\n",
      "2016-09-27 06:54:22,668 : INFO : Loaded the model, Doing the prediction now....\n"
     ]
    },
    {
     "name": "stdout",
     "output_type": "stream",
     "text": [
      "D\n"
     ]
    },
    {
     "name": "stderr",
     "output_type": "stream",
     "text": [
      "2016-09-27 06:54:23,339 : INFO : Finished getting validation vectors\n",
      "2016-09-27 06:54:24,137 : INFO : Loaded the model, Doing the prediction now....\n"
     ]
    },
    {
     "name": "stdout",
     "output_type": "stream",
     "text": [
      "E\n"
     ]
    },
    {
     "name": "stderr",
     "output_type": "stream",
     "text": [
      "2016-09-27 06:54:24,819 : INFO : Finished getting validation vectors\n",
      "2016-09-27 06:54:25,611 : INFO : Loaded the model, Doing the prediction now....\n"
     ]
    },
    {
     "name": "stdout",
     "output_type": "stream",
     "text": [
      "F\n"
     ]
    },
    {
     "name": "stderr",
     "output_type": "stream",
     "text": [
      "2016-09-27 06:54:26,252 : INFO : Finished getting validation vectors\n",
      "2016-09-27 06:54:26,999 : INFO : Loaded the model, Doing the prediction now....\n"
     ]
    },
    {
     "name": "stdout",
     "output_type": "stream",
     "text": [
      "G\n"
     ]
    },
    {
     "name": "stderr",
     "output_type": "stream",
     "text": [
      "2016-09-27 06:54:27,676 : INFO : Finished getting validation vectors\n",
      "2016-09-27 06:54:28,418 : INFO : Loaded the model, Doing the prediction now....\n"
     ]
    },
    {
     "name": "stdout",
     "output_type": "stream",
     "text": [
      "H\n"
     ]
    },
    {
     "name": "stderr",
     "output_type": "stream",
     "text": [
      "2016-09-27 06:54:29,076 : INFO : Finished getting validation vectors\n",
      "2016-09-27 06:54:29,858 : INFO : Loaded the model, Doing the prediction now....\n"
     ]
    },
    {
     "name": "stdout",
     "output_type": "stream",
     "text": [
      "Coverage Error: 6.83544946673, Average No of Labels: 1.35195530726, Top 1: 0.62471825695, Top 3: 0.854620586026, Top 5: 0.951540195342, F1 Micro: 0.317664233577, Total Positive: 763\n"
     ]
    },
    {
     "name": "stderr",
     "output_type": "stream",
     "text": [
      "2016-09-27 06:54:30,698 : INFO : ****************** Epoch 6 --- Working on doc2vec_size_3000_w_8_type_pv-dbow_concat_1_mean_0_trainwords_0_hs_0_neg_10_vocabsize_None_curriter_6 *******************\n",
      "2016-09-27 06:54:30,700 : INFO : training model with 7 workers on 104358 vocabulary and 3000 features, using sg=1 hs=0 sample=1e-05 negative=10\n",
      "2016-09-27 06:54:30,701 : INFO : expecting 8979 sentences, matching count from corpus used for vocabulary survey\n",
      "2016-09-27 06:54:31,789 : INFO : PROGRESS: at 0.19% examples, 19115 words/s, in_qsize 0, out_qsize 0\n",
      "2016-09-27 06:55:31,804 : INFO : PROGRESS: at 11.50% examples, 27983 words/s, in_qsize 0, out_qsize 0\n",
      "2016-09-27 06:56:32,052 : INFO : PROGRESS: at 22.68% examples, 27172 words/s, in_qsize 0, out_qsize 0\n",
      "2016-09-27 06:57:32,060 : INFO : PROGRESS: at 33.90% examples, 27517 words/s, in_qsize 0, out_qsize 0\n",
      "2016-09-27 06:58:32,145 : INFO : PROGRESS: at 45.01% examples, 27661 words/s, in_qsize 0, out_qsize 0\n",
      "2016-09-27 06:59:32,269 : INFO : PROGRESS: at 56.16% examples, 27770 words/s, in_qsize 0, out_qsize 0\n",
      "2016-09-27 07:00:32,328 : INFO : PROGRESS: at 67.27% examples, 27662 words/s, in_qsize 0, out_qsize 0\n",
      "2016-09-27 07:01:32,435 : INFO : PROGRESS: at 78.13% examples, 27565 words/s, in_qsize 0, out_qsize 0\n",
      "2016-09-27 07:02:32,521 : INFO : PROGRESS: at 89.38% examples, 27591 words/s, in_qsize 0, out_qsize 0\n",
      "2016-09-27 07:03:29,356 : INFO : worker thread finished; awaiting finish of 6 more threads\n",
      "2016-09-27 07:03:29,361 : INFO : worker thread finished; awaiting finish of 5 more threads\n",
      "2016-09-27 07:03:29,364 : INFO : worker thread finished; awaiting finish of 4 more threads\n",
      "2016-09-27 07:03:29,401 : INFO : worker thread finished; awaiting finish of 3 more threads\n",
      "2016-09-27 07:03:29,402 : INFO : worker thread finished; awaiting finish of 2 more threads\n",
      "2016-09-27 07:03:29,426 : INFO : worker thread finished; awaiting finish of 1 more threads\n",
      "2016-09-27 07:03:29,449 : INFO : worker thread finished; awaiting finish of 0 more threads\n",
      "2016-09-27 07:03:29,451 : INFO : training on 59217428 raw words (14916973 effective words) took 538.7s, 27689 effective words/s\n",
      "2016-09-27 07:03:29,453 : INFO : saving Doc2Vec object under /home/local/shalaby/parameter_search_doc2vec_models/sample_0.0001/doc2vec_size_3000_w_8_type_pv-dbow_concat_1_mean_0_trainwords_0_hs_0_neg_10_vocabsize_None_curriter_6/model, separately None\n",
      "2016-09-27 07:03:29,455 : INFO : storing numpy array 'doctag_syn0' to /home/local/shalaby/parameter_search_doc2vec_models/sample_0.0001/doc2vec_size_3000_w_8_type_pv-dbow_concat_1_mean_0_trainwords_0_hs_0_neg_10_vocabsize_None_curriter_6/model.docvecs.doctag_syn0.npy\n",
      "2016-09-27 07:03:29,557 : INFO : storing numpy array 'syn1neg' to /home/local/shalaby/parameter_search_doc2vec_models/sample_0.0001/doc2vec_size_3000_w_8_type_pv-dbow_concat_1_mean_0_trainwords_0_hs_0_neg_10_vocabsize_None_curriter_6/model.syn1neg.npy\n",
      "2016-09-27 07:03:30,942 : INFO : not storing attribute syn0norm\n",
      "2016-09-27 07:03:30,943 : INFO : storing numpy array 'syn0' to /home/local/shalaby/parameter_search_doc2vec_models/sample_0.0001/doc2vec_size_3000_w_8_type_pv-dbow_concat_1_mean_0_trainwords_0_hs_0_neg_10_vocabsize_None_curriter_6/model.syn0.npy\n",
      "2016-09-27 07:03:32,418 : INFO : not storing attribute cum_table\n",
      "2016-09-27 07:03:33,999 : INFO : ====== Doing Training\n"
     ]
    },
    {
     "name": "stdout",
     "output_type": "stream",
     "text": [
      "A\n"
     ]
    },
    {
     "name": "stderr",
     "output_type": "stream",
     "text": [
      "2016-09-27 07:03:40,833 : INFO : Finished getting training vectors\n",
      "2016-09-27 07:03:48,106 : INFO : Finished parallelization\n"
     ]
    },
    {
     "name": "stdout",
     "output_type": "stream",
     "text": [
      "B\n"
     ]
    },
    {
     "name": "stderr",
     "output_type": "stream",
     "text": [
      "2016-09-27 07:41:49,268 : INFO : Finished getting training vectors\n",
      "2016-09-27 07:41:50,260 : INFO : Finished parallelization\n"
     ]
    },
    {
     "name": "stdout",
     "output_type": "stream",
     "text": [
      "C\n"
     ]
    },
    {
     "name": "stderr",
     "output_type": "stream",
     "text": [
      "2016-09-27 08:00:49,830 : INFO : Finished getting training vectors\n",
      "2016-09-27 08:00:50,880 : INFO : Finished parallelization\n"
     ]
    },
    {
     "name": "stdout",
     "output_type": "stream",
     "text": [
      "D\n"
     ]
    },
    {
     "name": "stderr",
     "output_type": "stream",
     "text": [
      "2016-09-27 08:16:44,927 : INFO : Finished getting training vectors\n",
      "2016-09-27 08:16:45,801 : INFO : Finished parallelization\n"
     ]
    },
    {
     "name": "stdout",
     "output_type": "stream",
     "text": [
      "E\n"
     ]
    },
    {
     "name": "stderr",
     "output_type": "stream",
     "text": [
      "2016-09-27 08:40:11,277 : INFO : Finished getting training vectors\n",
      "2016-09-27 08:40:12,231 : INFO : Finished parallelization\n"
     ]
    },
    {
     "name": "stdout",
     "output_type": "stream",
     "text": [
      "F\n"
     ]
    },
    {
     "name": "stderr",
     "output_type": "stream",
     "text": [
      "2016-09-27 09:01:13,650 : INFO : Finished getting training vectors\n",
      "2016-09-27 09:01:14,653 : INFO : Finished parallelization\n"
     ]
    },
    {
     "name": "stdout",
     "output_type": "stream",
     "text": [
      "G\n"
     ]
    },
    {
     "name": "stderr",
     "output_type": "stream",
     "text": [
      "2016-09-27 09:47:14,286 : INFO : Finished getting training vectors\n",
      "2016-09-27 09:47:15,151 : INFO : Finished parallelization\n"
     ]
    },
    {
     "name": "stdout",
     "output_type": "stream",
     "text": [
      "H\n"
     ]
    },
    {
     "name": "stderr",
     "output_type": "stream",
     "text": [
      "2016-09-27 10:43:48,409 : INFO : Finished getting training vectors\n",
      "2016-09-27 10:43:49,339 : INFO : Finished parallelization\n",
      "2016-09-27 11:38:47,811 : INFO : ===== Getting validation vectors with inference\n",
      "2016-09-27 11:43:07,598 : INFO : Finished: 1000\n",
      "2016-09-27 11:47:24,512 : INFO : ====== Doing Validation\n"
     ]
    },
    {
     "name": "stdout",
     "output_type": "stream",
     "text": [
      "A\n"
     ]
    },
    {
     "name": "stderr",
     "output_type": "stream",
     "text": [
      "2016-09-27 11:47:24,798 : INFO : Finished getting validation vectors\n",
      "2016-09-27 11:47:25,644 : INFO : Loaded the model, Doing the prediction now....\n"
     ]
    },
    {
     "name": "stdout",
     "output_type": "stream",
     "text": [
      "B\n"
     ]
    },
    {
     "name": "stderr",
     "output_type": "stream",
     "text": [
      "2016-09-27 11:47:27,471 : INFO : Finished getting validation vectors\n",
      "2016-09-27 11:47:28,266 : INFO : Loaded the model, Doing the prediction now....\n"
     ]
    },
    {
     "name": "stdout",
     "output_type": "stream",
     "text": [
      "C\n"
     ]
    },
    {
     "name": "stderr",
     "output_type": "stream",
     "text": [
      "2016-09-27 11:47:29,016 : INFO : Finished getting validation vectors\n",
      "2016-09-27 11:47:29,774 : INFO : Loaded the model, Doing the prediction now....\n"
     ]
    },
    {
     "name": "stdout",
     "output_type": "stream",
     "text": [
      "D\n"
     ]
    },
    {
     "name": "stderr",
     "output_type": "stream",
     "text": [
      "2016-09-27 11:47:30,399 : INFO : Finished getting validation vectors\n",
      "2016-09-27 11:47:31,162 : INFO : Loaded the model, Doing the prediction now....\n"
     ]
    },
    {
     "name": "stdout",
     "output_type": "stream",
     "text": [
      "E\n"
     ]
    },
    {
     "name": "stderr",
     "output_type": "stream",
     "text": [
      "2016-09-27 11:47:31,795 : INFO : Finished getting validation vectors\n",
      "2016-09-27 11:47:32,567 : INFO : Loaded the model, Doing the prediction now....\n"
     ]
    },
    {
     "name": "stdout",
     "output_type": "stream",
     "text": [
      "F\n"
     ]
    },
    {
     "name": "stderr",
     "output_type": "stream",
     "text": [
      "2016-09-27 11:47:33,213 : INFO : Finished getting validation vectors\n",
      "2016-09-27 11:47:34,030 : INFO : Loaded the model, Doing the prediction now....\n"
     ]
    },
    {
     "name": "stdout",
     "output_type": "stream",
     "text": [
      "G\n"
     ]
    },
    {
     "name": "stderr",
     "output_type": "stream",
     "text": [
      "2016-09-27 11:47:34,696 : INFO : Finished getting validation vectors\n",
      "2016-09-27 11:47:35,544 : INFO : Loaded the model, Doing the prediction now....\n"
     ]
    },
    {
     "name": "stdout",
     "output_type": "stream",
     "text": [
      "H\n"
     ]
    },
    {
     "name": "stderr",
     "output_type": "stream",
     "text": [
      "2016-09-27 11:47:36,232 : INFO : Finished getting validation vectors\n",
      "2016-09-27 11:47:37,101 : INFO : Loaded the model, Doing the prediction now....\n",
      "2016-09-27 11:47:37,906 : INFO : ****************** Epoch 7 --- Working on doc2vec_size_3000_w_8_type_pv-dbow_concat_1_mean_0_trainwords_0_hs_0_neg_10_vocabsize_None_curriter_7 *******************\n",
      "2016-09-27 11:47:37,909 : INFO : training model with 7 workers on 104358 vocabulary and 3000 features, using sg=1 hs=0 sample=1e-05 negative=10\n",
      "2016-09-27 11:47:37,910 : INFO : expecting 8979 sentences, matching count from corpus used for vocabulary survey\n"
     ]
    },
    {
     "name": "stdout",
     "output_type": "stream",
     "text": [
      "Coverage Error: 6.80294565769, Average No of Labels: 1.35195530726, Top 1: 0.638241923366, Top 3: 0.862133734035, Top 5: 0.948910593539, F1 Micro: 0.323709536308, Total Positive: 767\n"
     ]
    },
    {
     "name": "stderr",
     "output_type": "stream",
     "text": [
      "2016-09-27 11:47:38,941 : INFO : PROGRESS: at 0.18% examples, 24459 words/s, in_qsize 0, out_qsize 0\n",
      "2016-09-27 11:48:38,956 : INFO : PROGRESS: at 11.33% examples, 27571 words/s, in_qsize 0, out_qsize 0\n"
     ]
    }
   ],
   "source": [
    "%%time\n",
    "%matplotlib notebook\n",
    "graph = MetricsGraph()\n",
    "graph.init_graph()\n",
    "# when resuming, resume from an epoch with a previously created doc2vec model to get the learning rate right\n",
    "start_from = 1\n",
    "for epoch in range(start_from,DOC2VEC_MAX_EPOCHS+1):\n",
    "    GLOBAL_VARS.MODEL_NAME = placeholder_model_name.format(epoch)\n",
    "    info(\"****************** Epoch {} --- Working on {} *******************\".format(epoch, GLOBAL_VARS.MODEL_NAME))\n",
    "    \n",
    "    # if we have the model, just load it, otherwise train the previous model\n",
    "    if os.path.exists(os.path.join(doc2vec_model_save_location, GLOBAL_VARS.MODEL_NAME, MODEL_PREFIX)):\n",
    "        docvec_model = Doc2Vec.load(os.path.join(doc2vec_model_save_location, GLOBAL_VARS.MODEL_NAME, MODEL_PREFIX))\n",
    "        GLOBAL_VARS.DOC2VEC_MODEL = doc2vec_model\n",
    "    else:\n",
    "        # train the doc2vec model\n",
    "        doc2vec_model.train(sentences=StochasticDocumentGenerator(training_file, training_docs_list, line_positions), \n",
    "                            report_delay=REPORT_DELAY)\n",
    "        #doc2vec_model.alpha -= 0.001  # decrease the learning rate\n",
    "        #doc2vec_model.min_alpha = doc2vec_model.alpha  # fix the learning rate, no decay\n",
    "        ensure_disk_location_exists(os.path.join(doc2vec_model_save_location, GLOBAL_VARS.MODEL_NAME))\n",
    "        doc2vec_model.save(os.path.join(doc2vec_model_save_location, GLOBAL_VARS.MODEL_NAME, MODEL_PREFIX))\n",
    "        GLOBAL_VARS.DOC2VEC_MODEL = doc2vec_model\n",
    "\n",
    "    # Training and validation of SVMs using those docvecs\n",
    "    train_classifications(sections)\n",
    "    validation_vectors_matrix = get_validation_docs_with_inference(doc2vec_model, doc_classification_map)\n",
    "    metrics = do_validation(validation_vectors_matrix, doc_classification_map, sections, \"sections\")\n",
    "    ensure_disk_location_exists(os.path.join(doc2vec_model_save_location, GLOBAL_VARS.MODEL_NAME, \n",
    "                                             GLOBAL_VARS.SVM_MODEL_NAME))\n",
    "    pickle.dump(metrics, open(os.path.join(doc2vec_model_save_location, GLOBAL_VARS.MODEL_NAME, GLOBAL_VARS.SVM_MODEL_NAME, METRICS), 'w'))\n",
    "    print \"Coverage Error: {}, Average No of Labels: {}, Top 1: {}, Top 3: {}, Top 5: {}, F1 Micro: {}, Total Positive: {}\".format(\n",
    "        metrics['coverage_error'], metrics['average_num_of_labels'], metrics['top_1'], metrics['top_3'], metrics['top_5'], \n",
    "        metrics['f1_micro'], metrics['total_positive'])\n",
    "                                                                                     \n",
    "    epoch_metrics.append(metrics)\n",
    "    graph.add_metrics_to_graph(metrics, epoch)\n"
   ]
  },
  {
   "cell_type": "markdown",
   "metadata": {},
   "source": [
    "## Plot loaded metrics"
   ]
  },
  {
   "cell_type": "code",
   "execution_count": 48,
   "metadata": {
    "collapsed": false
   },
   "outputs": [
    {
     "data": {
      "text/plain": [
       "'/home/local/shalaby/parameter_search_doc2vec_models/sample_0.0001'"
      ]
     },
     "execution_count": 48,
     "metadata": {},
     "output_type": "execute_result"
    }
   ],
   "source": [
    "doc2vec_model_save_location"
   ]
  },
  {
   "cell_type": "code",
   "execution_count": 32,
   "metadata": {
    "collapsed": false
   },
   "outputs": [
    {
     "data": {
      "application/javascript": [
       "/* Put everything inside the global mpl namespace */\n",
       "window.mpl = {};\n",
       "\n",
       "mpl.get_websocket_type = function() {\n",
       "    if (typeof(WebSocket) !== 'undefined') {\n",
       "        return WebSocket;\n",
       "    } else if (typeof(MozWebSocket) !== 'undefined') {\n",
       "        return MozWebSocket;\n",
       "    } else {\n",
       "        alert('Your browser does not have WebSocket support.' +\n",
       "              'Please try Chrome, Safari or Firefox ≥ 6. ' +\n",
       "              'Firefox 4 and 5 are also supported but you ' +\n",
       "              'have to enable WebSockets in about:config.');\n",
       "    };\n",
       "}\n",
       "\n",
       "mpl.figure = function(figure_id, websocket, ondownload, parent_element) {\n",
       "    this.id = figure_id;\n",
       "\n",
       "    this.ws = websocket;\n",
       "\n",
       "    this.supports_binary = (this.ws.binaryType != undefined);\n",
       "\n",
       "    if (!this.supports_binary) {\n",
       "        var warnings = document.getElementById(\"mpl-warnings\");\n",
       "        if (warnings) {\n",
       "            warnings.style.display = 'block';\n",
       "            warnings.textContent = (\n",
       "                \"This browser does not support binary websocket messages. \" +\n",
       "                    \"Performance may be slow.\");\n",
       "        }\n",
       "    }\n",
       "\n",
       "    this.imageObj = new Image();\n",
       "\n",
       "    this.context = undefined;\n",
       "    this.message = undefined;\n",
       "    this.canvas = undefined;\n",
       "    this.rubberband_canvas = undefined;\n",
       "    this.rubberband_context = undefined;\n",
       "    this.format_dropdown = undefined;\n",
       "\n",
       "    this.image_mode = 'full';\n",
       "\n",
       "    this.root = $('<div/>');\n",
       "    this._root_extra_style(this.root)\n",
       "    this.root.attr('style', 'display: inline-block');\n",
       "\n",
       "    $(parent_element).append(this.root);\n",
       "\n",
       "    this._init_header(this);\n",
       "    this._init_canvas(this);\n",
       "    this._init_toolbar(this);\n",
       "\n",
       "    var fig = this;\n",
       "\n",
       "    this.waiting = false;\n",
       "\n",
       "    this.ws.onopen =  function () {\n",
       "            fig.send_message(\"supports_binary\", {value: fig.supports_binary});\n",
       "            fig.send_message(\"send_image_mode\", {});\n",
       "            fig.send_message(\"refresh\", {});\n",
       "        }\n",
       "\n",
       "    this.imageObj.onload = function() {\n",
       "            if (fig.image_mode == 'full') {\n",
       "                // Full images could contain transparency (where diff images\n",
       "                // almost always do), so we need to clear the canvas so that\n",
       "                // there is no ghosting.\n",
       "                fig.context.clearRect(0, 0, fig.canvas.width, fig.canvas.height);\n",
       "            }\n",
       "            fig.context.drawImage(fig.imageObj, 0, 0);\n",
       "        };\n",
       "\n",
       "    this.imageObj.onunload = function() {\n",
       "        this.ws.close();\n",
       "    }\n",
       "\n",
       "    this.ws.onmessage = this._make_on_message_function(this);\n",
       "\n",
       "    this.ondownload = ondownload;\n",
       "}\n",
       "\n",
       "mpl.figure.prototype._init_header = function() {\n",
       "    var titlebar = $(\n",
       "        '<div class=\"ui-dialog-titlebar ui-widget-header ui-corner-all ' +\n",
       "        'ui-helper-clearfix\"/>');\n",
       "    var titletext = $(\n",
       "        '<div class=\"ui-dialog-title\" style=\"width: 100%; ' +\n",
       "        'text-align: center; padding: 3px;\"/>');\n",
       "    titlebar.append(titletext)\n",
       "    this.root.append(titlebar);\n",
       "    this.header = titletext[0];\n",
       "}\n",
       "\n",
       "\n",
       "\n",
       "mpl.figure.prototype._canvas_extra_style = function(canvas_div) {\n",
       "\n",
       "}\n",
       "\n",
       "\n",
       "mpl.figure.prototype._root_extra_style = function(canvas_div) {\n",
       "\n",
       "}\n",
       "\n",
       "mpl.figure.prototype._init_canvas = function() {\n",
       "    var fig = this;\n",
       "\n",
       "    var canvas_div = $('<div/>');\n",
       "\n",
       "    canvas_div.attr('style', 'position: relative; clear: both; outline: 0');\n",
       "\n",
       "    function canvas_keyboard_event(event) {\n",
       "        return fig.key_event(event, event['data']);\n",
       "    }\n",
       "\n",
       "    canvas_div.keydown('key_press', canvas_keyboard_event);\n",
       "    canvas_div.keyup('key_release', canvas_keyboard_event);\n",
       "    this.canvas_div = canvas_div\n",
       "    this._canvas_extra_style(canvas_div)\n",
       "    this.root.append(canvas_div);\n",
       "\n",
       "    var canvas = $('<canvas/>');\n",
       "    canvas.addClass('mpl-canvas');\n",
       "    canvas.attr('style', \"left: 0; top: 0; z-index: 0; outline: 0\")\n",
       "\n",
       "    this.canvas = canvas[0];\n",
       "    this.context = canvas[0].getContext(\"2d\");\n",
       "\n",
       "    var rubberband = $('<canvas/>');\n",
       "    rubberband.attr('style', \"position: absolute; left: 0; top: 0; z-index: 1;\")\n",
       "\n",
       "    var pass_mouse_events = true;\n",
       "\n",
       "    canvas_div.resizable({\n",
       "        start: function(event, ui) {\n",
       "            pass_mouse_events = false;\n",
       "        },\n",
       "        resize: function(event, ui) {\n",
       "            fig.request_resize(ui.size.width, ui.size.height);\n",
       "        },\n",
       "        stop: function(event, ui) {\n",
       "            pass_mouse_events = true;\n",
       "            fig.request_resize(ui.size.width, ui.size.height);\n",
       "        },\n",
       "    });\n",
       "\n",
       "    function mouse_event_fn(event) {\n",
       "        if (pass_mouse_events)\n",
       "            return fig.mouse_event(event, event['data']);\n",
       "    }\n",
       "\n",
       "    rubberband.mousedown('button_press', mouse_event_fn);\n",
       "    rubberband.mouseup('button_release', mouse_event_fn);\n",
       "    // Throttle sequential mouse events to 1 every 20ms.\n",
       "    rubberband.mousemove('motion_notify', mouse_event_fn);\n",
       "\n",
       "    rubberband.mouseenter('figure_enter', mouse_event_fn);\n",
       "    rubberband.mouseleave('figure_leave', mouse_event_fn);\n",
       "\n",
       "    canvas_div.on(\"wheel\", function (event) {\n",
       "        event = event.originalEvent;\n",
       "        event['data'] = 'scroll'\n",
       "        if (event.deltaY < 0) {\n",
       "            event.step = 1;\n",
       "        } else {\n",
       "            event.step = -1;\n",
       "        }\n",
       "        mouse_event_fn(event);\n",
       "    });\n",
       "\n",
       "    canvas_div.append(canvas);\n",
       "    canvas_div.append(rubberband);\n",
       "\n",
       "    this.rubberband = rubberband;\n",
       "    this.rubberband_canvas = rubberband[0];\n",
       "    this.rubberband_context = rubberband[0].getContext(\"2d\");\n",
       "    this.rubberband_context.strokeStyle = \"#000000\";\n",
       "\n",
       "    this._resize_canvas = function(width, height) {\n",
       "        // Keep the size of the canvas, canvas container, and rubber band\n",
       "        // canvas in synch.\n",
       "        canvas_div.css('width', width)\n",
       "        canvas_div.css('height', height)\n",
       "\n",
       "        canvas.attr('width', width);\n",
       "        canvas.attr('height', height);\n",
       "\n",
       "        rubberband.attr('width', width);\n",
       "        rubberband.attr('height', height);\n",
       "    }\n",
       "\n",
       "    // Set the figure to an initial 600x600px, this will subsequently be updated\n",
       "    // upon first draw.\n",
       "    this._resize_canvas(600, 600);\n",
       "\n",
       "    // Disable right mouse context menu.\n",
       "    $(this.rubberband_canvas).bind(\"contextmenu\",function(e){\n",
       "        return false;\n",
       "    });\n",
       "\n",
       "    function set_focus () {\n",
       "        canvas.focus();\n",
       "        canvas_div.focus();\n",
       "    }\n",
       "\n",
       "    window.setTimeout(set_focus, 100);\n",
       "}\n",
       "\n",
       "mpl.figure.prototype._init_toolbar = function() {\n",
       "    var fig = this;\n",
       "\n",
       "    var nav_element = $('<div/>')\n",
       "    nav_element.attr('style', 'width: 100%');\n",
       "    this.root.append(nav_element);\n",
       "\n",
       "    // Define a callback function for later on.\n",
       "    function toolbar_event(event) {\n",
       "        return fig.toolbar_button_onclick(event['data']);\n",
       "    }\n",
       "    function toolbar_mouse_event(event) {\n",
       "        return fig.toolbar_button_onmouseover(event['data']);\n",
       "    }\n",
       "\n",
       "    for(var toolbar_ind in mpl.toolbar_items) {\n",
       "        var name = mpl.toolbar_items[toolbar_ind][0];\n",
       "        var tooltip = mpl.toolbar_items[toolbar_ind][1];\n",
       "        var image = mpl.toolbar_items[toolbar_ind][2];\n",
       "        var method_name = mpl.toolbar_items[toolbar_ind][3];\n",
       "\n",
       "        if (!name) {\n",
       "            // put a spacer in here.\n",
       "            continue;\n",
       "        }\n",
       "        var button = $('<button/>');\n",
       "        button.addClass('ui-button ui-widget ui-state-default ui-corner-all ' +\n",
       "                        'ui-button-icon-only');\n",
       "        button.attr('role', 'button');\n",
       "        button.attr('aria-disabled', 'false');\n",
       "        button.click(method_name, toolbar_event);\n",
       "        button.mouseover(tooltip, toolbar_mouse_event);\n",
       "\n",
       "        var icon_img = $('<span/>');\n",
       "        icon_img.addClass('ui-button-icon-primary ui-icon');\n",
       "        icon_img.addClass(image);\n",
       "        icon_img.addClass('ui-corner-all');\n",
       "\n",
       "        var tooltip_span = $('<span/>');\n",
       "        tooltip_span.addClass('ui-button-text');\n",
       "        tooltip_span.html(tooltip);\n",
       "\n",
       "        button.append(icon_img);\n",
       "        button.append(tooltip_span);\n",
       "\n",
       "        nav_element.append(button);\n",
       "    }\n",
       "\n",
       "    var fmt_picker_span = $('<span/>');\n",
       "\n",
       "    var fmt_picker = $('<select/>');\n",
       "    fmt_picker.addClass('mpl-toolbar-option ui-widget ui-widget-content');\n",
       "    fmt_picker_span.append(fmt_picker);\n",
       "    nav_element.append(fmt_picker_span);\n",
       "    this.format_dropdown = fmt_picker[0];\n",
       "\n",
       "    for (var ind in mpl.extensions) {\n",
       "        var fmt = mpl.extensions[ind];\n",
       "        var option = $(\n",
       "            '<option/>', {selected: fmt === mpl.default_extension}).html(fmt);\n",
       "        fmt_picker.append(option)\n",
       "    }\n",
       "\n",
       "    // Add hover states to the ui-buttons\n",
       "    $( \".ui-button\" ).hover(\n",
       "        function() { $(this).addClass(\"ui-state-hover\");},\n",
       "        function() { $(this).removeClass(\"ui-state-hover\");}\n",
       "    );\n",
       "\n",
       "    var status_bar = $('<span class=\"mpl-message\"/>');\n",
       "    nav_element.append(status_bar);\n",
       "    this.message = status_bar[0];\n",
       "}\n",
       "\n",
       "mpl.figure.prototype.request_resize = function(x_pixels, y_pixels) {\n",
       "    // Request matplotlib to resize the figure. Matplotlib will then trigger a resize in the client,\n",
       "    // which will in turn request a refresh of the image.\n",
       "    this.send_message('resize', {'width': x_pixels, 'height': y_pixels});\n",
       "}\n",
       "\n",
       "mpl.figure.prototype.send_message = function(type, properties) {\n",
       "    properties['type'] = type;\n",
       "    properties['figure_id'] = this.id;\n",
       "    this.ws.send(JSON.stringify(properties));\n",
       "}\n",
       "\n",
       "mpl.figure.prototype.send_draw_message = function() {\n",
       "    if (!this.waiting) {\n",
       "        this.waiting = true;\n",
       "        this.ws.send(JSON.stringify({type: \"draw\", figure_id: this.id}));\n",
       "    }\n",
       "}\n",
       "\n",
       "\n",
       "mpl.figure.prototype.handle_save = function(fig, msg) {\n",
       "    var format_dropdown = fig.format_dropdown;\n",
       "    var format = format_dropdown.options[format_dropdown.selectedIndex].value;\n",
       "    fig.ondownload(fig, format);\n",
       "}\n",
       "\n",
       "\n",
       "mpl.figure.prototype.handle_resize = function(fig, msg) {\n",
       "    var size = msg['size'];\n",
       "    if (size[0] != fig.canvas.width || size[1] != fig.canvas.height) {\n",
       "        fig._resize_canvas(size[0], size[1]);\n",
       "        fig.send_message(\"refresh\", {});\n",
       "    };\n",
       "}\n",
       "\n",
       "mpl.figure.prototype.handle_rubberband = function(fig, msg) {\n",
       "    var x0 = msg['x0'];\n",
       "    var y0 = fig.canvas.height - msg['y0'];\n",
       "    var x1 = msg['x1'];\n",
       "    var y1 = fig.canvas.height - msg['y1'];\n",
       "    x0 = Math.floor(x0) + 0.5;\n",
       "    y0 = Math.floor(y0) + 0.5;\n",
       "    x1 = Math.floor(x1) + 0.5;\n",
       "    y1 = Math.floor(y1) + 0.5;\n",
       "    var min_x = Math.min(x0, x1);\n",
       "    var min_y = Math.min(y0, y1);\n",
       "    var width = Math.abs(x1 - x0);\n",
       "    var height = Math.abs(y1 - y0);\n",
       "\n",
       "    fig.rubberband_context.clearRect(\n",
       "        0, 0, fig.canvas.width, fig.canvas.height);\n",
       "\n",
       "    fig.rubberband_context.strokeRect(min_x, min_y, width, height);\n",
       "}\n",
       "\n",
       "mpl.figure.prototype.handle_figure_label = function(fig, msg) {\n",
       "    // Updates the figure title.\n",
       "    fig.header.textContent = msg['label'];\n",
       "}\n",
       "\n",
       "mpl.figure.prototype.handle_cursor = function(fig, msg) {\n",
       "    var cursor = msg['cursor'];\n",
       "    switch(cursor)\n",
       "    {\n",
       "    case 0:\n",
       "        cursor = 'pointer';\n",
       "        break;\n",
       "    case 1:\n",
       "        cursor = 'default';\n",
       "        break;\n",
       "    case 2:\n",
       "        cursor = 'crosshair';\n",
       "        break;\n",
       "    case 3:\n",
       "        cursor = 'move';\n",
       "        break;\n",
       "    }\n",
       "    fig.rubberband_canvas.style.cursor = cursor;\n",
       "}\n",
       "\n",
       "mpl.figure.prototype.handle_message = function(fig, msg) {\n",
       "    fig.message.textContent = msg['message'];\n",
       "}\n",
       "\n",
       "mpl.figure.prototype.handle_draw = function(fig, msg) {\n",
       "    // Request the server to send over a new figure.\n",
       "    fig.send_draw_message();\n",
       "}\n",
       "\n",
       "mpl.figure.prototype.handle_image_mode = function(fig, msg) {\n",
       "    fig.image_mode = msg['mode'];\n",
       "}\n",
       "\n",
       "mpl.figure.prototype.updated_canvas_event = function() {\n",
       "    // Called whenever the canvas gets updated.\n",
       "    this.send_message(\"ack\", {});\n",
       "}\n",
       "\n",
       "// A function to construct a web socket function for onmessage handling.\n",
       "// Called in the figure constructor.\n",
       "mpl.figure.prototype._make_on_message_function = function(fig) {\n",
       "    return function socket_on_message(evt) {\n",
       "        if (evt.data instanceof Blob) {\n",
       "            /* FIXME: We get \"Resource interpreted as Image but\n",
       "             * transferred with MIME type text/plain:\" errors on\n",
       "             * Chrome.  But how to set the MIME type?  It doesn't seem\n",
       "             * to be part of the websocket stream */\n",
       "            evt.data.type = \"image/png\";\n",
       "\n",
       "            /* Free the memory for the previous frames */\n",
       "            if (fig.imageObj.src) {\n",
       "                (window.URL || window.webkitURL).revokeObjectURL(\n",
       "                    fig.imageObj.src);\n",
       "            }\n",
       "\n",
       "            fig.imageObj.src = (window.URL || window.webkitURL).createObjectURL(\n",
       "                evt.data);\n",
       "            fig.updated_canvas_event();\n",
       "            fig.waiting = false;\n",
       "            return;\n",
       "        }\n",
       "        else if (typeof evt.data === 'string' && evt.data.slice(0, 21) == \"data:image/png;base64\") {\n",
       "            fig.imageObj.src = evt.data;\n",
       "            fig.updated_canvas_event();\n",
       "            fig.waiting = false;\n",
       "            return;\n",
       "        }\n",
       "\n",
       "        var msg = JSON.parse(evt.data);\n",
       "        var msg_type = msg['type'];\n",
       "\n",
       "        // Call the  \"handle_{type}\" callback, which takes\n",
       "        // the figure and JSON message as its only arguments.\n",
       "        try {\n",
       "            var callback = fig[\"handle_\" + msg_type];\n",
       "        } catch (e) {\n",
       "            console.log(\"No handler for the '\" + msg_type + \"' message type: \", msg);\n",
       "            return;\n",
       "        }\n",
       "\n",
       "        if (callback) {\n",
       "            try {\n",
       "                // console.log(\"Handling '\" + msg_type + \"' message: \", msg);\n",
       "                callback(fig, msg);\n",
       "            } catch (e) {\n",
       "                console.log(\"Exception inside the 'handler_\" + msg_type + \"' callback:\", e, e.stack, msg);\n",
       "            }\n",
       "        }\n",
       "    };\n",
       "}\n",
       "\n",
       "// from http://stackoverflow.com/questions/1114465/getting-mouse-location-in-canvas\n",
       "mpl.findpos = function(e) {\n",
       "    //this section is from http://www.quirksmode.org/js/events_properties.html\n",
       "    var targ;\n",
       "    if (!e)\n",
       "        e = window.event;\n",
       "    if (e.target)\n",
       "        targ = e.target;\n",
       "    else if (e.srcElement)\n",
       "        targ = e.srcElement;\n",
       "    if (targ.nodeType == 3) // defeat Safari bug\n",
       "        targ = targ.parentNode;\n",
       "\n",
       "    // jQuery normalizes the pageX and pageY\n",
       "    // pageX,Y are the mouse positions relative to the document\n",
       "    // offset() returns the position of the element relative to the document\n",
       "    var x = e.pageX - $(targ).offset().left;\n",
       "    var y = e.pageY - $(targ).offset().top;\n",
       "\n",
       "    return {\"x\": x, \"y\": y};\n",
       "};\n",
       "\n",
       "/*\n",
       " * return a copy of an object with only non-object keys\n",
       " * we need this to avoid circular references\n",
       " * http://stackoverflow.com/a/24161582/3208463\n",
       " */\n",
       "function simpleKeys (original) {\n",
       "  return Object.keys(original).reduce(function (obj, key) {\n",
       "    if (typeof original[key] !== 'object')\n",
       "        obj[key] = original[key]\n",
       "    return obj;\n",
       "  }, {});\n",
       "}\n",
       "\n",
       "mpl.figure.prototype.mouse_event = function(event, name) {\n",
       "    var canvas_pos = mpl.findpos(event)\n",
       "\n",
       "    if (name === 'button_press')\n",
       "    {\n",
       "        this.canvas.focus();\n",
       "        this.canvas_div.focus();\n",
       "    }\n",
       "\n",
       "    var x = canvas_pos.x;\n",
       "    var y = canvas_pos.y;\n",
       "\n",
       "    this.send_message(name, {x: x, y: y, button: event.button,\n",
       "                             step: event.step,\n",
       "                             guiEvent: simpleKeys(event)});\n",
       "\n",
       "    /* This prevents the web browser from automatically changing to\n",
       "     * the text insertion cursor when the button is pressed.  We want\n",
       "     * to control all of the cursor setting manually through the\n",
       "     * 'cursor' event from matplotlib */\n",
       "    event.preventDefault();\n",
       "    return false;\n",
       "}\n",
       "\n",
       "mpl.figure.prototype._key_event_extra = function(event, name) {\n",
       "    // Handle any extra behaviour associated with a key event\n",
       "}\n",
       "\n",
       "mpl.figure.prototype.key_event = function(event, name) {\n",
       "\n",
       "    // Prevent repeat events\n",
       "    if (name == 'key_press')\n",
       "    {\n",
       "        if (event.which === this._key)\n",
       "            return;\n",
       "        else\n",
       "            this._key = event.which;\n",
       "    }\n",
       "    if (name == 'key_release')\n",
       "        this._key = null;\n",
       "\n",
       "    var value = '';\n",
       "    if (event.ctrlKey && event.which != 17)\n",
       "        value += \"ctrl+\";\n",
       "    if (event.altKey && event.which != 18)\n",
       "        value += \"alt+\";\n",
       "    if (event.shiftKey && event.which != 16)\n",
       "        value += \"shift+\";\n",
       "\n",
       "    value += 'k';\n",
       "    value += event.which.toString();\n",
       "\n",
       "    this._key_event_extra(event, name);\n",
       "\n",
       "    this.send_message(name, {key: value,\n",
       "                             guiEvent: simpleKeys(event)});\n",
       "    return false;\n",
       "}\n",
       "\n",
       "mpl.figure.prototype.toolbar_button_onclick = function(name) {\n",
       "    if (name == 'download') {\n",
       "        this.handle_save(this, null);\n",
       "    } else {\n",
       "        this.send_message(\"toolbar_button\", {name: name});\n",
       "    }\n",
       "};\n",
       "\n",
       "mpl.figure.prototype.toolbar_button_onmouseover = function(tooltip) {\n",
       "    this.message.textContent = tooltip;\n",
       "};\n",
       "mpl.toolbar_items = [[\"Home\", \"Reset original view\", \"fa fa-home icon-home\", \"home\"], [\"Back\", \"Back to  previous view\", \"fa fa-arrow-left icon-arrow-left\", \"back\"], [\"Forward\", \"Forward to next view\", \"fa fa-arrow-right icon-arrow-right\", \"forward\"], [\"\", \"\", \"\", \"\"], [\"Pan\", \"Pan axes with left mouse, zoom with right\", \"fa fa-arrows icon-move\", \"pan\"], [\"Zoom\", \"Zoom to rectangle\", \"fa fa-square-o icon-check-empty\", \"zoom\"], [\"\", \"\", \"\", \"\"], [\"Download\", \"Download plot\", \"fa fa-floppy-o icon-save\", \"download\"]];\n",
       "\n",
       "mpl.extensions = [\"eps\", \"pdf\", \"png\", \"ps\", \"raw\", \"svg\"];\n",
       "\n",
       "mpl.default_extension = \"png\";var comm_websocket_adapter = function(comm) {\n",
       "    // Create a \"websocket\"-like object which calls the given IPython comm\n",
       "    // object with the appropriate methods. Currently this is a non binary\n",
       "    // socket, so there is still some room for performance tuning.\n",
       "    var ws = {};\n",
       "\n",
       "    ws.close = function() {\n",
       "        comm.close()\n",
       "    };\n",
       "    ws.send = function(m) {\n",
       "        //console.log('sending', m);\n",
       "        comm.send(m);\n",
       "    };\n",
       "    // Register the callback with on_msg.\n",
       "    comm.on_msg(function(msg) {\n",
       "        //console.log('receiving', msg['content']['data'], msg);\n",
       "        // Pass the mpl event to the overriden (by mpl) onmessage function.\n",
       "        ws.onmessage(msg['content']['data'])\n",
       "    });\n",
       "    return ws;\n",
       "}\n",
       "\n",
       "mpl.mpl_figure_comm = function(comm, msg) {\n",
       "    // This is the function which gets called when the mpl process\n",
       "    // starts-up an IPython Comm through the \"matplotlib\" channel.\n",
       "\n",
       "    var id = msg.content.data.id;\n",
       "    // Get hold of the div created by the display call when the Comm\n",
       "    // socket was opened in Python.\n",
       "    var element = $(\"#\" + id);\n",
       "    var ws_proxy = comm_websocket_adapter(comm)\n",
       "\n",
       "    function ondownload(figure, format) {\n",
       "        window.open(figure.imageObj.src);\n",
       "    }\n",
       "\n",
       "    var fig = new mpl.figure(id, ws_proxy,\n",
       "                           ondownload,\n",
       "                           element.get(0));\n",
       "\n",
       "    // Call onopen now - mpl needs it, as it is assuming we've passed it a real\n",
       "    // web socket which is closed, not our websocket->open comm proxy.\n",
       "    ws_proxy.onopen();\n",
       "\n",
       "    fig.parent_element = element.get(0);\n",
       "    fig.cell_info = mpl.find_output_cell(\"<div id='\" + id + \"'></div>\");\n",
       "    if (!fig.cell_info) {\n",
       "        console.error(\"Failed to find cell for figure\", id, fig);\n",
       "        return;\n",
       "    }\n",
       "\n",
       "    var output_index = fig.cell_info[2]\n",
       "    var cell = fig.cell_info[0];\n",
       "\n",
       "};\n",
       "\n",
       "mpl.figure.prototype.handle_close = function(fig, msg) {\n",
       "    fig.root.unbind('remove')\n",
       "\n",
       "    // Update the output cell to use the data from the current canvas.\n",
       "    fig.push_to_output();\n",
       "    var dataURL = fig.canvas.toDataURL();\n",
       "    // Re-enable the keyboard manager in IPython - without this line, in FF,\n",
       "    // the notebook keyboard shortcuts fail.\n",
       "    IPython.keyboard_manager.enable()\n",
       "    $(fig.parent_element).html('<img src=\"' + dataURL + '\">');\n",
       "    fig.close_ws(fig, msg);\n",
       "}\n",
       "\n",
       "mpl.figure.prototype.close_ws = function(fig, msg){\n",
       "    fig.send_message('closing', msg);\n",
       "    // fig.ws.close()\n",
       "}\n",
       "\n",
       "mpl.figure.prototype.push_to_output = function(remove_interactive) {\n",
       "    // Turn the data on the canvas into data in the output cell.\n",
       "    var dataURL = this.canvas.toDataURL();\n",
       "    this.cell_info[1]['text/html'] = '<img src=\"' + dataURL + '\">';\n",
       "}\n",
       "\n",
       "mpl.figure.prototype.updated_canvas_event = function() {\n",
       "    // Tell IPython that the notebook contents must change.\n",
       "    IPython.notebook.set_dirty(true);\n",
       "    this.send_message(\"ack\", {});\n",
       "    var fig = this;\n",
       "    // Wait a second, then push the new image to the DOM so\n",
       "    // that it is saved nicely (might be nice to debounce this).\n",
       "    setTimeout(function () { fig.push_to_output() }, 1000);\n",
       "}\n",
       "\n",
       "mpl.figure.prototype._init_toolbar = function() {\n",
       "    var fig = this;\n",
       "\n",
       "    var nav_element = $('<div/>')\n",
       "    nav_element.attr('style', 'width: 100%');\n",
       "    this.root.append(nav_element);\n",
       "\n",
       "    // Define a callback function for later on.\n",
       "    function toolbar_event(event) {\n",
       "        return fig.toolbar_button_onclick(event['data']);\n",
       "    }\n",
       "    function toolbar_mouse_event(event) {\n",
       "        return fig.toolbar_button_onmouseover(event['data']);\n",
       "    }\n",
       "\n",
       "    for(var toolbar_ind in mpl.toolbar_items){\n",
       "        var name = mpl.toolbar_items[toolbar_ind][0];\n",
       "        var tooltip = mpl.toolbar_items[toolbar_ind][1];\n",
       "        var image = mpl.toolbar_items[toolbar_ind][2];\n",
       "        var method_name = mpl.toolbar_items[toolbar_ind][3];\n",
       "\n",
       "        if (!name) { continue; };\n",
       "\n",
       "        var button = $('<button class=\"btn btn-default\" href=\"#\" title=\"' + name + '\"><i class=\"fa ' + image + ' fa-lg\"></i></button>');\n",
       "        button.click(method_name, toolbar_event);\n",
       "        button.mouseover(tooltip, toolbar_mouse_event);\n",
       "        nav_element.append(button);\n",
       "    }\n",
       "\n",
       "    // Add the status bar.\n",
       "    var status_bar = $('<span class=\"mpl-message\" style=\"text-align:right; float: right;\"/>');\n",
       "    nav_element.append(status_bar);\n",
       "    this.message = status_bar[0];\n",
       "\n",
       "    // Add the close button to the window.\n",
       "    var buttongrp = $('<div class=\"btn-group inline pull-right\"></div>');\n",
       "    var button = $('<button class=\"btn btn-mini btn-primary\" href=\"#\" title=\"Stop Interaction\"><i class=\"fa fa-power-off icon-remove icon-large\"></i></button>');\n",
       "    button.click(function (evt) { fig.handle_close(fig, {}); } );\n",
       "    button.mouseover('Stop Interaction', toolbar_mouse_event);\n",
       "    buttongrp.append(button);\n",
       "    var titlebar = this.root.find($('.ui-dialog-titlebar'));\n",
       "    titlebar.prepend(buttongrp);\n",
       "}\n",
       "\n",
       "mpl.figure.prototype._root_extra_style = function(el){\n",
       "    var fig = this\n",
       "    el.on(\"remove\", function(){\n",
       "\tfig.close_ws(fig, {});\n",
       "    });\n",
       "}\n",
       "\n",
       "mpl.figure.prototype._canvas_extra_style = function(el){\n",
       "    // this is important to make the div 'focusable\n",
       "    el.attr('tabindex', 0)\n",
       "    // reach out to IPython and tell the keyboard manager to turn it's self\n",
       "    // off when our div gets focus\n",
       "\n",
       "    // location in version 3\n",
       "    if (IPython.notebook.keyboard_manager) {\n",
       "        IPython.notebook.keyboard_manager.register_events(el);\n",
       "    }\n",
       "    else {\n",
       "        // location in version 2\n",
       "        IPython.keyboard_manager.register_events(el);\n",
       "    }\n",
       "\n",
       "}\n",
       "\n",
       "mpl.figure.prototype._key_event_extra = function(event, name) {\n",
       "    var manager = IPython.notebook.keyboard_manager;\n",
       "    if (!manager)\n",
       "        manager = IPython.keyboard_manager;\n",
       "\n",
       "    // Check for shift+enter\n",
       "    if (event.shiftKey && event.which == 13) {\n",
       "        this.canvas_div.blur();\n",
       "        event.shiftKey = false;\n",
       "        // Send a \"J\" for go to next cell\n",
       "        event.which = 74;\n",
       "        event.keyCode = 74;\n",
       "        manager.command_mode();\n",
       "        manager.handle_keydown(event);\n",
       "    }\n",
       "}\n",
       "\n",
       "mpl.figure.prototype.handle_save = function(fig, msg) {\n",
       "    fig.ondownload(fig, null);\n",
       "}\n",
       "\n",
       "\n",
       "mpl.find_output_cell = function(html_output) {\n",
       "    // Return the cell and output element which can be found *uniquely* in the notebook.\n",
       "    // Note - this is a bit hacky, but it is done because the \"notebook_saving.Notebook\"\n",
       "    // IPython event is triggered only after the cells have been serialised, which for\n",
       "    // our purposes (turning an active figure into a static one), is too late.\n",
       "    var cells = IPython.notebook.get_cells();\n",
       "    var ncells = cells.length;\n",
       "    for (var i=0; i<ncells; i++) {\n",
       "        var cell = cells[i];\n",
       "        if (cell.cell_type === 'code'){\n",
       "            for (var j=0; j<cell.output_area.outputs.length; j++) {\n",
       "                var data = cell.output_area.outputs[j];\n",
       "                if (data.data) {\n",
       "                    // IPython >= 3 moved mimebundle to data attribute of output\n",
       "                    data = data.data;\n",
       "                }\n",
       "                if (data['text/html'] == html_output) {\n",
       "                    return [cell, data, j];\n",
       "                }\n",
       "            }\n",
       "        }\n",
       "    }\n",
       "}\n",
       "\n",
       "// Register the function which deals with the matplotlib target/channel.\n",
       "// The kernel may be null if the page has been refreshed.\n",
       "if (IPython.notebook.kernel != null) {\n",
       "    IPython.notebook.kernel.comm_manager.register_target('matplotlib', mpl.mpl_figure_comm);\n",
       "}\n"
      ],
      "text/plain": [
       "<IPython.core.display.Javascript object>"
      ]
     },
     "metadata": {},
     "output_type": "display_data"
    },
    {
     "data": {
      "text/html": [
       "<img src=\"data:image/png;base64,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\">"
      ],
      "text/plain": [
       "<IPython.core.display.HTML object>"
      ]
     },
     "metadata": {},
     "output_type": "display_data"
    },
    {
     "name": "stdout",
     "output_type": "stream",
     "text": [
      "doc2vec_size_3000_w_8_type_dm_concat_1_mean_0_trainwords_0_hs_0_neg_10_vocabsize_None_curriter_{}_iter_1000_reg_0.001\n",
      "Epoch 01: Coverage Error -> 6.56\n",
      "Epoch 02: Coverage Error -> 6.51\n",
      "Epoch 03: Coverage Error -> 6.56\n",
      "Epoch 04: Coverage Error -> 6.45\n",
      "Epoch 05: Coverage Error -> 6.49\n",
      "Epoch 06: Coverage Error -> 6.39\n",
      "Epoch 07: Coverage Error -> 6.48\n",
      "Epoch 08: Coverage Error -> 6.55\n",
      "Epoch 09: Coverage Error -> 6.51\n",
      "Epoch 10: Coverage Error -> 6.54\n",
      "Epoch 11: Coverage Error -> 6.59\n",
      "Epoch 12: Coverage Error -> 6.50\n",
      "Epoch 13: Coverage Error -> 4.30\n",
      "Epoch 14: Coverage Error -> 4.44\n",
      "Epoch 15: Coverage Error -> 4.58\n",
      "Epoch 16: Coverage Error -> 4.75\n",
      "Epoch 17: Coverage Error -> 4.79\n",
      "Epoch 18: Coverage Error -> 4.75\n",
      "Epoch 19: Coverage Error -> 4.68\n",
      "Epoch 20: Coverage Error -> 4.69\n"
     ]
    }
   ],
   "source": [
    "%matplotlib notebook\n",
    "graph = MetricsGraph()\n",
    "graph.init_graph()\n",
    "print placeholder_model_name + \"_\" + GLOBAL_VARS.SVM_MODEL_NAME\n",
    "\n",
    "for epoch in range(1,DOC2VEC_MAX_EPOCHS+1):\n",
    "    try:\n",
    "        model_name = placeholder_model_name.format(epoch)\n",
    "        metrics = pickle.load(open(os.path.join(doc2vec_model_save_location, model_name, GLOBAL_VARS.SVM_MODEL_NAME, METRICS)))\n",
    "        print \"Epoch {:02d}: Coverage Error -> {:.2f}\".format(epoch, metrics['coverage_error'])\n",
    "        graph.add_metrics_to_graph(metrics, epoch)\n",
    "    except IOError:\n",
    "        break"
   ]
  },
  {
   "cell_type": "code",
   "execution_count": null,
   "metadata": {
    "collapsed": true
   },
   "outputs": [],
   "source": []
  },
  {
   "cell_type": "code",
   "execution_count": 119,
   "metadata": {
    "collapsed": false
   },
   "outputs": [
    {
     "data": {
      "text/plain": [
       "[6.0518029456576938,\n",
       " 4.3138649060436771,\n",
       " 3.7851701371254443,\n",
       " 1.4565769426104622,\n",
       " 1.3819197562214323]"
      ]
     },
     "execution_count": 119,
     "metadata": {},
     "output_type": "execute_result"
    }
   ],
   "source": [
    "[metric['coverage_error'] for metric in epoch_metrics]"
   ]
  }
 ],
 "metadata": {
  "kernelspec": {
   "display_name": "pySpark (Spark 1.6.1)",
   "language": "python",
   "name": "pyspark"
  },
  "language_info": {
   "codemirror_mode": {
    "name": "ipython",
    "version": 2
   },
   "file_extension": ".py",
   "mimetype": "text/x-python",
   "name": "python",
   "nbconvert_exporter": "python",
   "pygments_lexer": "ipython2",
   "version": "2.7.12"
  }
 },
 "nbformat": 4,
 "nbformat_minor": 0
}
