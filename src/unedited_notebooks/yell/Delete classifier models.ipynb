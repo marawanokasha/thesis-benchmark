{
 "cells": [
  {
   "cell_type": "code",
   "execution_count": 1,
   "metadata": {
    "collapsed": true,
    "deletable": true,
    "editable": true
   },
   "outputs": [],
   "source": [
    "import os\n",
    "import shutil\n",
    "import re"
   ]
  },
  {
   "cell_type": "code",
   "execution_count": 2,
   "metadata": {
    "collapsed": true,
    "deletable": true,
    "editable": true
   },
   "outputs": [],
   "source": [
    "def get_subdirectories(d):\n",
    "    #return filter(os.path.isdir, [f for f in os.listdir(d)])\n",
    "    return [f for f in os.listdir(d) if os.path.isdir(os.path.join(d,f))]\n",
    "def natural_sort(l): \n",
    "    convert = lambda text: int(text) if text.isdigit() else text.lower() \n",
    "    alphanum_key = lambda key: [ convert(c) for c in re.split('([0-9]+)', key) ] \n",
    "    return sorted(l, key = alphanum_key)"
   ]
  },
  {
   "cell_type": "code",
   "execution_count": 4,
   "metadata": {
    "collapsed": false,
    "deletable": true,
    "editable": true
   },
   "outputs": [],
   "source": [
    "CLASSIFIER = 'classifier.pkl'\n",
    "DIRECTORY_PREFIX = 'nn'\n",
    "EPOCH_PREFIX = 'epoch_{}'"
   ]
  },
  {
   "cell_type": "markdown",
   "metadata": {
    "deletable": true,
    "editable": true
   },
   "source": [
    "## Deleting the NN classifiers"
   ]
  },
  {
   "cell_type": "code",
   "execution_count": 19,
   "metadata": {
    "collapsed": false,
    "deletable": true,
    "editable": true
   },
   "outputs": [
    {
     "name": "stdout",
     "output_type": "stream",
     "text": [
      "deleting nn_1st-size_500_1st-act_softmax_2nd-size_None_2nd-act_softmax_in-drop_True_hid-drop_False/classifier.pkl\n",
      "deleting nn_1st-size_200_1st-act_tanh_2nd-size_500_2nd-act_relu_in-drop_False_hid-drop_True/classifier.pkl\n",
      "deleting nn_1st-size_200_1st-act_tanh_2nd-size_500_2nd-act_tanh_in-drop_True_hid-drop_True/classifier.pkl\n"
     ]
    }
   ],
   "source": [
    "parent_directory = '/mnt/data2/shalaby/parameter_search_doc2vec_models_new/full/doc2vec_size_200_w_8_type_dm_concat_0_mean_1_trainwords_0_hs_0_neg_10_vocabsize_None'\n",
    "\n",
    "for epoch in get_subdirectories(parent_directory):\n",
    "    for classifier in get_subdirectories(os.path.join(parent_directory, epoch)):\n",
    "        if classifier.startswith(DIRECTORY_PREFIX):\n",
    "#             print classifier\n",
    "            if os.path.exists(os.path.join(parent_directory, epoch, classifier, CLASSIFIER)):\n",
    "                print \"deleting {}\".format(os.path.join(classifier, CLASSIFIER))\n",
    "                os.remove(os.path.join(parent_directory, epoch, classifier, CLASSIFIER))"
   ]
  },
  {
   "cell_type": "markdown",
   "metadata": {
    "deletable": true,
    "editable": true
   },
   "source": [
    "## Deleting Doc2vec models"
   ]
  },
  {
   "cell_type": "code",
   "execution_count": 16,
   "metadata": {
    "collapsed": false,
    "deletable": true,
    "editable": true
   },
   "outputs": [
    {
     "name": "stdout",
     "output_type": "stream",
     "text": [
      "deleting 14\n",
      "deleting 15\n",
      "deleting 16\n",
      "deleting 17\n",
      "deleting 18\n",
      "deleting 19\n"
     ]
    }
   ],
   "source": [
    "direc_prefix = '/mnt/data2/shalaby/parameter_search_doc2vec_models_new/sample_0.01/doc2vec_size_100_w_12_type_dm_concat_1_mean_0_trainwords_0_hs_0_neg_10_vocabsize_None'\n",
    "#to_delete = [8,9,10,11]\n",
    "to_delete = range(14,20)\n",
    "\n",
    "for i in to_delete:\n",
    "    direc = os.path.join(direc_prefix, EPOCH_PREFIX.format(i))\n",
    "    if os.path.exists(direc):\n",
    "        val_model_folder_path = os.path.join(direc, \"validation_matrix.pkl\")\n",
    "        model_folder_path = os.path.join(direc, \"model\")\n",
    "#         if os.path.exists(os.path.join(model_folder_path)):\n",
    "        if os.path.exists(os.path.join(val_model_folder_path)):\n",
    "            print \"deleting {}\".format(i)\n",
    "            os.remove(val_model_folder_path)\n",
    "#             os.remove(model_folder_path)\n",
    "#             os.remove(os.path.join(direc, \"model.docvecs.doctag_syn0.npy\"))\n",
    "#             os.remove(os.path.join(direc, \"model.syn0.npy\"))\n",
    "#             os.remove(os.path.join(direc, \"model.syn1neg.npy\"))\n"
   ]
  },
  {
   "cell_type": "markdown",
   "metadata": {
    "collapsed": true,
    "deletable": true,
    "editable": true
   },
   "source": [
    "## Deleting Old Doc2vec models"
   ]
  },
  {
   "cell_type": "code",
   "execution_count": 4,
   "metadata": {
    "collapsed": true
   },
   "outputs": [],
   "source": [
    "EPOCH_PREFIX = 'curriter_{}'"
   ]
  },
  {
   "cell_type": "code",
   "execution_count": 10,
   "metadata": {
    "collapsed": false
   },
   "outputs": [
    {
     "name": "stdout",
     "output_type": "stream",
     "text": [
      "deleting 15\n",
      "deleting 16\n",
      "deleting 17\n",
      "deleting 18\n",
      "deleting 19\n"
     ]
    }
   ],
   "source": [
    "direc_prefix = '/home/local/shalaby/parameter_search_doc2vec_models/sample_0.0001/doc2vec_size_1000_w_16_type_dm_concat_1_mean_0_trainwords_0_hs_0_neg_10_vocabsize_None_'\n",
    "#to_delete = [8,9,10,11]\n",
    "to_delete = range(15,20)\n",
    "\n",
    "for i in to_delete:\n",
    "    direc = os.path.join(direc_prefix + EPOCH_PREFIX.format(i))\n",
    "    if os.path.exists(direc):\n",
    "#         model_folder_path = os.path.join(direc, \"model\")\n",
    "        #model_folder_path = os.path.join(direc, \"model.docvecs.doctag_syn0.npy\")\n",
    "        model_folder_path = os.path.join(direc, \"validation_matrix.pkl\")\n",
    "        if os.path.exists(os.path.join(model_folder_path)):\n",
    "            print \"deleting {}\".format(i)\n",
    "            os.remove(model_folder_path)\n",
    "            #os.remove(os.path.join(direc, \"model.docvecs.doctag_syn0.npy\"))\n",
    "#             os.remove(os.path.join(direc, \"model.syn0.npy\"))\n",
    "#             os.remove(os.path.join(direc, \"model.syn1neg.npy\"))\n",
    "#             os.remove(os.path.join(direc, \"validation_matrix.pkl\"))\n"
   ]
  },
  {
   "cell_type": "code",
   "execution_count": null,
   "metadata": {
    "collapsed": true
   },
   "outputs": [],
   "source": []
  }
 ],
 "metadata": {
  "kernelspec": {
   "display_name": "Python 2",
   "language": "python",
   "name": "python2"
  },
  "language_info": {
   "codemirror_mode": {
    "name": "ipython",
    "version": 2
   },
   "file_extension": ".py",
   "mimetype": "text/x-python",
   "name": "python",
   "nbconvert_exporter": "python",
   "pygments_lexer": "ipython2",
   "version": "2.7.12"
  }
 },
 "nbformat": 4,
 "nbformat_minor": 2
}
