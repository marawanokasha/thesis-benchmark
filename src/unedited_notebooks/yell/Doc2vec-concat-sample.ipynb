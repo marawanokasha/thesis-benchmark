{
 "cells": [
  {
   "cell_type": "code",
   "execution_count": 1,
   "metadata": {
    "collapsed": false
   },
   "outputs": [],
   "source": [
    "import json\n",
    "import nltk\n",
    "from nltk.tokenize import RegexpTokenizer\n",
    "import string\n",
    "import math\n",
    "import time\n",
    "import cPickle as pickle\n",
    "import pandas as pd\n",
    "%matplotlib inline\n",
    "import matplotlib.pyplot as plt\n",
    "import matplotlib as mpl\n",
    "import numpy as np\n",
    "import random\n",
    "from sklearn.metrics import coverage_error\n",
    "import sklearn.metrics\n",
    "from gensim.models.doc2vec import Doc2Vec, LabeledSentence\n",
    "from sklearn.svm import LinearSVC\n",
    "from sklearn.multiclass import OneVsRestClassifier\n",
    "from sklearn.preprocessing import MultiLabelBinarizer\n",
    "import logging"
   ]
  },
  {
   "cell_type": "code",
   "execution_count": 2,
   "metadata": {
    "collapsed": true
   },
   "outputs": [],
   "source": [
    "root = logging.getLogger()\n",
    "for handler in root.handlers[:]:\n",
    "    root.removeHandler(handler)\n",
    "logging.basicConfig(format='%(asctime)s : %(levelname)s : %(message)s', level=logging.INFO) # adds a default StreamHanlder\n",
    "#root.addHandler(logging.StreamHandler())"
   ]
  },
  {
   "cell_type": "code",
   "execution_count": 16,
   "metadata": {
    "collapsed": true
   },
   "outputs": [],
   "source": [
    "SVM_SEED = 1234\n",
    "DOC2VEC_SEED = 1234"
   ]
  },
  {
   "cell_type": "code",
   "execution_count": 4,
   "metadata": {
    "collapsed": true
   },
   "outputs": [],
   "source": [
    "STOP_WORDS = nltk.corpus.stopwords.words('english')\n",
    "NUMBER_INDICATOR = \"number_inidicator\"\n",
    "CURRENCY_INDICATOR = \"currency_inidicator\"\n",
    "CHEMICAL_INDICATOR = \"chemical_inidicator\"\n",
    "MIN_WORD_COUNT = 5\n",
    "MIN_SIZE = 0\n",
    "NUM_CORES = 7"
   ]
  },
  {
   "cell_type": "code",
   "execution_count": 5,
   "metadata": {
    "collapsed": true
   },
   "outputs": [],
   "source": [
    "#training_file = \"/home/local/shalaby/docs_output_sample_100.json\"\n",
    "training_file = \"/home/local/shalaby/docs_output.json\"\n",
    "doc_classifications_map_file = \"/home/local/shalaby/doc_classification_map.pkl\"\n",
    "sections_file = \"/home/local/shalaby/sections.pkl\"\n",
    "training_docs_list_file = \"/home/local/shalaby/training_documents_0.0132_sample.pkl\"\n",
    "validation_docs_list_file = \"/home/local/shalaby/validation_docs_list.pkl\""
   ]
  },
  {
   "cell_type": "code",
   "execution_count": 7,
   "metadata": {
    "collapsed": true
   },
   "outputs": [],
   "source": [
    "model_save_location = \"/home/local/shalaby/models/scikit-svm/sample/\""
   ]
  },
  {
   "cell_type": "code",
   "execution_count": 8,
   "metadata": {
    "collapsed": false
   },
   "outputs": [
    {
     "name": "stdout",
     "output_type": "stream",
     "text": [
      "CPU times: user 28.6 s, sys: 3min 24s, total: 3min 52s\n",
      "Wall time: 3min 52s\n"
     ]
    }
   ],
   "source": [
    "%%time\n",
    "doc_classifications_map = pickle.load(open(doc_classifications_map_file))\n",
    "sections = pickle.load(open(sections_file))\n",
    "training_docs_list = pickle.load(open(training_docs_list_file))\n",
    "validation_docs_list = pickle.load(open(validation_docs_list_file))\n",
    "#open(sections_file).read()"
   ]
  },
  {
   "cell_type": "code",
   "execution_count": 9,
   "metadata": {
    "collapsed": false
   },
   "outputs": [
    {
     "data": {
      "text/plain": [
       "100483"
      ]
     },
     "execution_count": 9,
     "metadata": {},
     "output_type": "execute_result"
    }
   ],
   "source": [
    "len(training_docs_list)"
   ]
  },
  {
   "cell_type": "code",
   "execution_count": 10,
   "metadata": {
    "collapsed": false
   },
   "outputs": [
    {
     "data": {
      "text/plain": [
       "321473"
      ]
     },
     "execution_count": 10,
     "metadata": {},
     "output_type": "execute_result"
    }
   ],
   "source": [
    "len(validation_docs_list)"
   ]
  },
  {
   "cell_type": "code",
   "execution_count": 11,
   "metadata": {
    "collapsed": true
   },
   "outputs": [],
   "source": [
    "def stemtokenizer(text):\n",
    "    \"\"\" MAIN FUNCTION to get clean stems out of a text. A list of clean stems are returned \"\"\"\n",
    "    tokenizer = RegexpTokenizer(r'\\s+', gaps=True)\n",
    "    tokens = tokenizer.tokenize(text)\n",
    "    stems = []  # result\n",
    "    for token in tokens:\n",
    "        stem = token.lower()\n",
    "        stem = stem.strip(string.punctuation)\n",
    "        if stem:\n",
    "            if is_number(stem):\n",
    "                stem = NUMBER_INDICATOR\n",
    "            elif is_currency(stem):\n",
    "                stem = CURRENCY_INDICATOR\n",
    "            elif is_chemical(stem):\n",
    "                stem = CHEMICAL_INDICATOR\n",
    "            elif is_stopword(stem):\n",
    "                stem = None\n",
    "            else:\n",
    "                stem = stem.strip(string.punctuation)\n",
    "            if stem and len(stem) >= MIN_SIZE:\n",
    "                # extract uni-grams\n",
    "                stems.append(stem)\n",
    "    del tokens\n",
    "    return stems\n",
    "\n",
    "def is_stopword(word):\n",
    "  return word in STOP_WORDS\n",
    "\n",
    "def is_number(str):\n",
    "    \"\"\" Returns true if given string is a number (float or int)\"\"\"\n",
    "    try:\n",
    "        float(str.replace(\",\", \"\"))\n",
    "        return True\n",
    "    except ValueError:\n",
    "        return False\n",
    "\n",
    "def is_currency(str):\n",
    "    return str[0] == \"$\"\n",
    "\n",
    "def is_chemical(str):\n",
    "    return str.count(\"-\") > 3"
   ]
  },
  {
   "cell_type": "markdown",
   "metadata": {},
   "source": [
    "### Doc2vec and SVM Parameters"
   ]
  },
  {
   "cell_type": "code",
   "execution_count": 12,
   "metadata": {
    "collapsed": true
   },
   "outputs": [],
   "source": [
    "DOC2VEC_SIZE = 400\n",
    "DOC2VEC_WINDOW = 8\n",
    "DOC2VEC_MAX_VOCAB_SIZE = None\n",
    "DOC2VEC_SAMPLE = 1e-5\n",
    "DOC2VEC_TYPE = 1\n",
    "DOC2VEC_HIERARCHICAL_SAMPLE = 0\n",
    "DOC2VEC_NEGATIVE_SAMPLE_SIZE = 10\n",
    "DOC2VEC_CONCAT = 1\n",
    "DOC2VEC_MEAN = 0\n",
    "DOC2VEC_EPOCHS = 1\n",
    "DOC2VEC_MAX_EPOCHS = 20\n",
    "REPORT_DELAY = 30 # report the progress every x seconds\n",
    "REPORT_VOCAB_PROGRESS = 10000 # report the progress every x terms"
   ]
  },
  {
   "cell_type": "code",
   "execution_count": 13,
   "metadata": {
    "collapsed": true
   },
   "outputs": [],
   "source": [
    "SVM_ITERATIONS = 1000\n",
    "SVM_CONVERGENCE = 0.001\n",
    "SVM_REG = 1/0.1 # scikit uses a C parameter not a lambda"
   ]
  },
  {
   "cell_type": "code",
   "execution_count": 14,
   "metadata": {
    "collapsed": true
   },
   "outputs": [],
   "source": [
    "class LabeledLineSentence(object):\n",
    "    def __init__(self, filename):\n",
    "        self.filename = filename\n",
    "    def __iter__(self):\n",
    "        for line in open(self.filename):\n",
    "            (doc_id, text) = eval(line)\n",
    "            if doc_id in training_docs_list:\n",
    "                yield LabeledSentence(words=stemtokenizer(text), tags=[doc_id])"
   ]
  },
  {
   "cell_type": "markdown",
   "metadata": {},
   "source": [
    "## Create the Doc2vec model"
   ]
  },
  {
   "cell_type": "code",
   "execution_count": 17,
   "metadata": {
    "collapsed": false
   },
   "outputs": [],
   "source": [
    "doc2vec_model = Doc2Vec(size=DOC2VEC_SIZE , window=DOC2VEC_WINDOW, min_count=MIN_WORD_COUNT, \n",
    "                max_vocab_size= DOC2VEC_MAX_VOCAB_SIZE,\n",
    "                sample=DOC2VEC_SAMPLE, seed=DOC2VEC_SEED, workers=NUM_CORES,\n",
    "                # doc2vec algorithm dm=1 => PV-DM, dm=2 => PV-DBOW, PV-DM dictates CBOW for words\n",
    "                dm=DOC2VEC_TYPE,\n",
    "                # hs=0 => negative sampling, hs=1 => hierarchical softmax\n",
    "                hs=DOC2VEC_HIERARCHICAL_SAMPLE, negative=DOC2VEC_NEGATIVE_SAMPLE_SIZE,\n",
    "                dm_concat=DOC2VEC_CONCAT,\n",
    "                # would train words with skip-gram on top of cbow, we don't need that for now\n",
    "                dbow_words=0,\n",
    "                iter=DOC2VEC_EPOCHS)"
   ]
  },
  {
   "cell_type": "code",
   "execution_count": 18,
   "metadata": {
    "collapsed": false
   },
   "outputs": [
    {
     "name": "stderr",
     "output_type": "stream",
     "text": [
      "2016-09-01 01:05:35,513 : INFO : collecting all words and their counts\n",
      "2016-09-01 01:05:36,192 : INFO : PROGRESS: at example #0, processed 0 words (0/s), 0 word types, 0 tags\n",
      "2016-09-01 01:51:18,469 : INFO : PROGRESS: at example #10000, processed 47723695 words (17402/s), 728651 word types, 10000 tags\n",
      "2016-09-01 02:35:23,942 : INFO : PROGRESS: at example #20000, processed 96494198 words (18435/s), 1361467 word types, 20000 tags\n",
      "2016-09-01 03:19:56,787 : INFO : PROGRESS: at example #30000, processed 145063744 words (18171/s), 1764500 word types, 30000 tags\n",
      "2016-09-01 04:03:54,066 : INFO : PROGRESS: at example #40000, processed 193319292 words (18297/s), 2174471 word types, 40000 tags\n",
      "2016-09-01 04:48:12,523 : INFO : PROGRESS: at example #50000, processed 242406332 words (18464/s), 2521873 word types, 50000 tags\n",
      "2016-09-01 05:33:59,216 : INFO : PROGRESS: at example #60000, processed 291459820 words (17859/s), 2860613 word types, 60000 tags\n",
      "2016-09-01 06:19:26,158 : INFO : PROGRESS: at example #70000, processed 339181470 words (17500/s), 3156927 word types, 70000 tags\n",
      "2016-09-01 07:05:12,582 : INFO : PROGRESS: at example #80000, processed 386782121 words (17331/s), 3455716 word types, 80000 tags\n",
      "2016-09-01 07:53:33,808 : INFO : PROGRESS: at example #90000, processed 434746605 words (16532/s), 3774263 word types, 90000 tags\n",
      "2016-09-01 08:39:32,543 : INFO : PROGRESS: at example #100000, processed 483413473 words (17641/s), 4062483 word types, 100000 tags\n",
      "2016-09-01 08:41:41,570 : INFO : collected 4073892 word types and 100483 unique tags from a corpus of 100483 examples and 485635230 words\n",
      "2016-09-01 08:41:48,310 : INFO : min_count=5 retains 709167 unique words (drops 3364725)\n",
      "2016-09-01 08:41:48,311 : INFO : min_count leaves 480637531 word corpus (98% of original 485635230)\n",
      "2016-09-01 08:41:52,092 : INFO : deleting the raw counts dictionary of 4073892 items\n",
      "2016-09-01 08:41:53,123 : INFO : sample=1e-05 downsamples 4332 most-common words\n",
      "2016-09-01 08:41:53,124 : INFO : downsampling leaves estimated 171920724 word corpus (35.8% of prior 480637531)\n",
      "2016-09-01 08:41:53,125 : INFO : estimated required memory for 709167 words and 400 dimensions: 20959462500 bytes\n",
      "2016-09-01 08:41:57,159 : INFO : using concatenative 6800-dimensional layer1\n",
      "2016-09-01 08:41:57,160 : INFO : resetting layer weights\n"
     ]
    }
   ],
   "source": [
    "%%time\n",
    "doc2vec_model.build_vocab(sentences=LabeledLineSentence(training_file), progress_per=REPORT_VOCAB_PROGRESS)"
   ]
  },
  {
   "cell_type": "code",
   "execution_count": 20,
   "metadata": {
    "collapsed": false
   },
   "outputs": [
    {
     "name": "stderr",
     "output_type": "stream",
     "text": [
      "2016-09-01 09:36:46,265 : INFO : training model with 7 workers on 709168 vocabulary and 6800 features, using sg=0 hs=0 sample=1e-05 negative=10\n",
      "2016-09-01 09:36:46,267 : INFO : expecting 100483 sentences, matching count from corpus used for vocabulary survey\n",
      "2016-09-01 09:44:02,564 : INFO : PROGRESS: at 0.00% examples, 3 words/s, in_qsize 14, out_qsize 0\n",
      "2016-09-01 09:44:37,647 : INFO : PROGRESS: at 0.00% examples, 7 words/s, in_qsize 13, out_qsize 0\n",
      "2016-09-01 09:45:13,607 : INFO : PROGRESS: at 0.01% examples, 16 words/s, in_qsize 13, out_qsize 0\n",
      "2016-09-01 09:45:44,121 : INFO : PROGRESS: at 0.01% examples, 29 words/s, in_qsize 13, out_qsize 0\n",
      "2016-09-01 09:46:14,906 : INFO : PROGRESS: at 0.08% examples, 230 words/s, in_qsize 0, out_qsize 0\n",
      "2016-09-01 09:46:45,561 : INFO : PROGRESS: at 0.18% examples, 504 words/s, in_qsize 0, out_qsize 0\n",
      "2016-09-01 09:47:16,844 : INFO : PROGRESS: at 0.27% examples, 766 words/s, in_qsize 0, out_qsize 0\n",
      "2016-09-01 09:47:47,501 : INFO : PROGRESS: at 0.36% examples, 971 words/s, in_qsize 0, out_qsize 0\n",
      "2016-09-01 09:48:17,853 : INFO : PROGRESS: at 0.45% examples, 1145 words/s, in_qsize 0, out_qsize 0\n",
      "2016-09-01 09:48:49,480 : INFO : PROGRESS: at 0.55% examples, 1317 words/s, in_qsize 0, out_qsize 0\n",
      "2016-09-01 09:49:20,242 : INFO : PROGRESS: at 0.64% examples, 1469 words/s, in_qsize 0, out_qsize 0\n",
      "2016-09-01 09:49:51,834 : INFO : PROGRESS: at 0.72% examples, 1596 words/s, in_qsize 0, out_qsize 0\n",
      "2016-09-01 09:50:22,265 : INFO : PROGRESS: at 0.82% examples, 1687 words/s, in_qsize 0, out_qsize 0\n",
      "2016-09-01 09:50:52,788 : INFO : PROGRESS: at 0.90% examples, 1834 words/s, in_qsize 0, out_qsize 0\n",
      "2016-09-01 09:51:23,248 : INFO : PROGRESS: at 0.99% examples, 1935 words/s, in_qsize 0, out_qsize 0\n",
      "2016-09-01 09:51:54,815 : INFO : PROGRESS: at 1.07% examples, 2024 words/s, in_qsize 0, out_qsize 0\n",
      "2016-09-01 09:52:25,260 : INFO : PROGRESS: at 1.17% examples, 2121 words/s, in_qsize 0, out_qsize 0\n",
      "2016-09-01 09:52:55,606 : INFO : PROGRESS: at 1.26% examples, 2218 words/s, in_qsize 0, out_qsize 0\n",
      "2016-09-01 09:53:26,056 : INFO : PROGRESS: at 1.35% examples, 2293 words/s, in_qsize 0, out_qsize 0\n",
      "2016-09-01 09:53:56,556 : INFO : PROGRESS: at 1.42% examples, 2355 words/s, in_qsize 0, out_qsize 0\n",
      "2016-09-01 09:54:26,600 : INFO : PROGRESS: at 1.50% examples, 2392 words/s, in_qsize 0, out_qsize 0\n",
      "2016-09-01 09:54:57,529 : INFO : PROGRESS: at 1.59% examples, 2455 words/s, in_qsize 0, out_qsize 0\n",
      "2016-09-01 09:55:27,724 : INFO : PROGRESS: at 1.68% examples, 2505 words/s, in_qsize 0, out_qsize 0\n",
      "2016-09-01 09:55:58,593 : INFO : PROGRESS: at 1.77% examples, 2529 words/s, in_qsize 0, out_qsize 0\n",
      "2016-09-01 09:56:29,545 : INFO : PROGRESS: at 1.86% examples, 2594 words/s, in_qsize 0, out_qsize 0\n",
      "2016-09-01 09:56:59,718 : INFO : PROGRESS: at 1.94% examples, 2652 words/s, in_qsize 0, out_qsize 0\n",
      "2016-09-01 09:57:31,180 : INFO : PROGRESS: at 2.04% examples, 2725 words/s, in_qsize 0, out_qsize 0\n",
      "2016-09-01 09:58:02,161 : INFO : PROGRESS: at 2.13% examples, 2774 words/s, in_qsize 0, out_qsize 0\n",
      "2016-09-01 09:58:33,032 : INFO : PROGRESS: at 2.19% examples, 2787 words/s, in_qsize 0, out_qsize 0\n",
      "2016-09-01 09:59:03,738 : INFO : PROGRESS: at 2.28% examples, 2831 words/s, in_qsize 0, out_qsize 0\n",
      "2016-09-01 09:59:34,372 : INFO : PROGRESS: at 2.36% examples, 2853 words/s, in_qsize 0, out_qsize 0\n",
      "2016-09-01 10:00:04,421 : INFO : PROGRESS: at 2.47% examples, 2920 words/s, in_qsize 1, out_qsize 0\n",
      "2016-09-01 10:00:35,136 : INFO : PROGRESS: at 2.57% examples, 2966 words/s, in_qsize 0, out_qsize 0\n",
      "2016-09-01 10:01:06,315 : INFO : PROGRESS: at 2.67% examples, 3020 words/s, in_qsize 0, out_qsize 0\n",
      "2016-09-01 10:01:36,718 : INFO : PROGRESS: at 2.77% examples, 3061 words/s, in_qsize 0, out_qsize 1\n",
      "2016-09-01 10:02:06,976 : INFO : PROGRESS: at 2.87% examples, 3092 words/s, in_qsize 0, out_qsize 0\n",
      "2016-09-01 10:02:37,641 : INFO : PROGRESS: at 2.97% examples, 3123 words/s, in_qsize 0, out_qsize 0\n",
      "2016-09-01 10:03:09,048 : INFO : PROGRESS: at 3.06% examples, 3151 words/s, in_qsize 0, out_qsize 0\n",
      "2016-09-01 10:03:39,337 : INFO : PROGRESS: at 3.17% examples, 3205 words/s, in_qsize 0, out_qsize 0\n",
      "2016-09-01 10:04:10,680 : INFO : PROGRESS: at 3.26% examples, 3229 words/s, in_qsize 0, out_qsize 0\n",
      "2016-09-01 10:04:41,068 : INFO : PROGRESS: at 3.37% examples, 3265 words/s, in_qsize 0, out_qsize 0\n",
      "2016-09-01 10:05:11,774 : INFO : PROGRESS: at 3.47% examples, 3324 words/s, in_qsize 0, out_qsize 1\n",
      "2016-09-01 10:05:42,054 : INFO : PROGRESS: at 3.59% examples, 3382 words/s, in_qsize 0, out_qsize 0\n",
      "2016-09-01 10:06:13,895 : INFO : PROGRESS: at 3.70% examples, 3414 words/s, in_qsize 0, out_qsize 0\n",
      "2016-09-01 10:06:43,926 : INFO : PROGRESS: at 3.80% examples, 3450 words/s, in_qsize 0, out_qsize 0\n",
      "2016-09-01 10:07:13,997 : INFO : PROGRESS: at 3.90% examples, 3486 words/s, in_qsize 0, out_qsize 0\n",
      "2016-09-01 10:07:44,043 : INFO : PROGRESS: at 4.01% examples, 3516 words/s, in_qsize 0, out_qsize 0\n",
      "2016-09-01 10:08:14,185 : INFO : PROGRESS: at 4.09% examples, 3561 words/s, in_qsize 0, out_qsize 1\n",
      "2016-09-01 10:08:44,814 : INFO : PROGRESS: at 4.19% examples, 3596 words/s, in_qsize 0, out_qsize 0\n",
      "2016-09-01 10:09:15,463 : INFO : PROGRESS: at 4.28% examples, 3619 words/s, in_qsize 0, out_qsize 0\n",
      "2016-09-01 10:09:45,480 : INFO : PROGRESS: at 4.40% examples, 3666 words/s, in_qsize 0, out_qsize 0\n",
      "2016-09-01 10:10:15,798 : INFO : PROGRESS: at 4.51% examples, 3694 words/s, in_qsize 0, out_qsize 0\n",
      "2016-09-01 10:10:45,961 : INFO : PROGRESS: at 4.61% examples, 3725 words/s, in_qsize 0, out_qsize 0\n",
      "2016-09-01 10:11:16,740 : INFO : PROGRESS: at 4.72% examples, 3748 words/s, in_qsize 0, out_qsize 0\n",
      "2016-09-01 10:11:48,174 : INFO : PROGRESS: at 4.82% examples, 3782 words/s, in_qsize 0, out_qsize 0\n",
      "2016-09-01 10:12:18,777 : INFO : PROGRESS: at 4.92% examples, 3820 words/s, in_qsize 0, out_qsize 0\n",
      "2016-09-01 10:12:48,871 : INFO : PROGRESS: at 5.04% examples, 3849 words/s, in_qsize 0, out_qsize 0\n",
      "2016-09-01 10:13:18,916 : INFO : PROGRESS: at 5.14% examples, 3869 words/s, in_qsize 0, out_qsize 0\n",
      "2016-09-01 10:13:49,720 : INFO : PROGRESS: at 5.24% examples, 3890 words/s, in_qsize 0, out_qsize 0\n",
      "2016-09-01 10:14:19,907 : INFO : PROGRESS: at 5.33% examples, 3918 words/s, in_qsize 0, out_qsize 0\n",
      "2016-09-01 10:14:50,541 : INFO : PROGRESS: at 5.43% examples, 3937 words/s, in_qsize 0, out_qsize 0\n",
      "2016-09-01 10:15:20,835 : INFO : PROGRESS: at 5.54% examples, 3964 words/s, in_qsize 0, out_qsize 0\n",
      "2016-09-01 10:15:51,713 : INFO : PROGRESS: at 5.64% examples, 3969 words/s, in_qsize 0, out_qsize 0\n",
      "2016-09-01 10:16:21,754 : INFO : PROGRESS: at 5.76% examples, 3993 words/s, in_qsize 0, out_qsize 0\n",
      "2016-09-01 10:16:52,049 : INFO : PROGRESS: at 5.86% examples, 4013 words/s, in_qsize 0, out_qsize 0\n",
      "2016-09-01 10:17:22,640 : INFO : PROGRESS: at 5.95% examples, 4022 words/s, in_qsize 0, out_qsize 0\n",
      "2016-09-01 10:17:52,926 : INFO : PROGRESS: at 6.06% examples, 4048 words/s, in_qsize 0, out_qsize 0\n",
      "2016-09-01 10:18:23,641 : INFO : PROGRESS: at 6.17% examples, 4072 words/s, in_qsize 0, out_qsize 0\n",
      "2016-09-01 10:18:54,267 : INFO : PROGRESS: at 6.28% examples, 4088 words/s, in_qsize 0, out_qsize 0\n",
      "2016-09-01 10:19:24,953 : INFO : PROGRESS: at 6.40% examples, 4093 words/s, in_qsize 0, out_qsize 0\n",
      "2016-09-01 10:19:55,153 : INFO : PROGRESS: at 6.50% examples, 4109 words/s, in_qsize 0, out_qsize 0\n",
      "2016-09-01 10:20:25,369 : INFO : PROGRESS: at 6.60% examples, 4116 words/s, in_qsize 0, out_qsize 0\n",
      "2016-09-01 10:20:55,808 : INFO : PROGRESS: at 6.71% examples, 4142 words/s, in_qsize 0, out_qsize 0\n",
      "2016-09-01 10:21:25,866 : INFO : PROGRESS: at 6.82% examples, 4164 words/s, in_qsize 0, out_qsize 0\n",
      "2016-09-01 10:21:55,960 : INFO : PROGRESS: at 6.92% examples, 4185 words/s, in_qsize 0, out_qsize 0\n",
      "2016-09-01 10:22:26,212 : INFO : PROGRESS: at 7.02% examples, 4200 words/s, in_qsize 0, out_qsize 0\n",
      "2016-09-01 10:22:56,254 : INFO : PROGRESS: at 7.12% examples, 4219 words/s, in_qsize 0, out_qsize 0\n",
      "2016-09-01 10:23:27,336 : INFO : PROGRESS: at 7.24% examples, 4242 words/s, in_qsize 0, out_qsize 0\n",
      "2016-09-01 10:23:57,550 : INFO : PROGRESS: at 7.34% examples, 4252 words/s, in_qsize 0, out_qsize 0\n",
      "2016-09-01 10:24:28,893 : INFO : PROGRESS: at 7.45% examples, 4269 words/s, in_qsize 0, out_qsize 0\n",
      "2016-09-01 10:24:59,886 : INFO : PROGRESS: at 7.55% examples, 4277 words/s, in_qsize 0, out_qsize 0\n",
      "2016-09-01 10:25:31,467 : INFO : PROGRESS: at 7.65% examples, 4291 words/s, in_qsize 0, out_qsize 0\n",
      "2016-09-01 10:26:02,400 : INFO : PROGRESS: at 7.74% examples, 4294 words/s, in_qsize 0, out_qsize 0\n",
      "2016-09-01 10:26:33,413 : INFO : PROGRESS: at 7.86% examples, 4302 words/s, in_qsize 0, out_qsize 0\n",
      "2016-09-01 10:27:03,834 : INFO : PROGRESS: at 7.97% examples, 4318 words/s, in_qsize 0, out_qsize 0\n",
      "2016-09-01 10:27:34,787 : INFO : PROGRESS: at 8.06% examples, 4325 words/s, in_qsize 0, out_qsize 0\n",
      "2016-09-01 10:28:05,735 : INFO : PROGRESS: at 8.16% examples, 4336 words/s, in_qsize 0, out_qsize 0\n",
      "2016-09-01 10:28:35,794 : INFO : PROGRESS: at 8.27% examples, 4354 words/s, in_qsize 0, out_qsize 0\n",
      "2016-09-01 10:29:05,846 : INFO : PROGRESS: at 8.37% examples, 4364 words/s, in_qsize 0, out_qsize 0\n",
      "2016-09-01 10:29:36,091 : INFO : PROGRESS: at 8.47% examples, 4380 words/s, in_qsize 0, out_qsize 0\n",
      "2016-09-01 10:30:07,319 : INFO : PROGRESS: at 8.58% examples, 4383 words/s, in_qsize 0, out_qsize 0\n",
      "2016-09-01 10:30:38,122 : INFO : PROGRESS: at 8.68% examples, 4394 words/s, in_qsize 0, out_qsize 0\n",
      "2016-09-01 10:31:08,296 : INFO : PROGRESS: at 8.80% examples, 4410 words/s, in_qsize 0, out_qsize 0\n",
      "2016-09-01 10:31:38,517 : INFO : PROGRESS: at 8.90% examples, 4422 words/s, in_qsize 0, out_qsize 0\n",
      "2016-09-01 10:32:09,466 : INFO : PROGRESS: at 9.01% examples, 4429 words/s, in_qsize 0, out_qsize 0\n",
      "2016-09-01 10:32:39,542 : INFO : PROGRESS: at 9.11% examples, 4441 words/s, in_qsize 0, out_qsize 0\n",
      "2016-09-01 10:33:09,945 : INFO : PROGRESS: at 9.20% examples, 4449 words/s, in_qsize 0, out_qsize 0\n",
      "2016-09-01 10:33:41,031 : INFO : PROGRESS: at 9.30% examples, 4451 words/s, in_qsize 0, out_qsize 0\n",
      "2016-09-01 10:34:11,824 : INFO : PROGRESS: at 9.40% examples, 4456 words/s, in_qsize 0, out_qsize 0\n",
      "2016-09-01 10:34:42,567 : INFO : PROGRESS: at 9.53% examples, 4463 words/s, in_qsize 0, out_qsize 0\n",
      "2016-09-01 10:35:12,663 : INFO : PROGRESS: at 9.63% examples, 4466 words/s, in_qsize 0, out_qsize 0\n",
      "2016-09-01 10:35:43,985 : INFO : PROGRESS: at 9.74% examples, 4476 words/s, in_qsize 0, out_qsize 0\n",
      "2016-09-01 10:36:14,084 : INFO : PROGRESS: at 9.85% examples, 4494 words/s, in_qsize 0, out_qsize 0\n",
      "2016-09-01 10:36:44,480 : INFO : PROGRESS: at 9.93% examples, 4492 words/s, in_qsize 0, out_qsize 0\n",
      "2016-09-01 10:37:15,110 : INFO : PROGRESS: at 10.03% examples, 4504 words/s, in_qsize 0, out_qsize 0\n",
      "2016-09-01 10:37:45,892 : INFO : PROGRESS: at 10.13% examples, 4511 words/s, in_qsize 0, out_qsize 0\n",
      "2016-09-01 10:38:16,569 : INFO : PROGRESS: at 10.23% examples, 4520 words/s, in_qsize 0, out_qsize 0\n",
      "2016-09-01 10:38:46,927 : INFO : PROGRESS: at 10.33% examples, 4532 words/s, in_qsize 0, out_qsize 0\n",
      "2016-09-01 10:39:17,160 : INFO : PROGRESS: at 10.44% examples, 4540 words/s, in_qsize 0, out_qsize 0\n",
      "2016-09-01 10:39:47,319 : INFO : PROGRESS: at 10.54% examples, 4552 words/s, in_qsize 0, out_qsize 0\n",
      "2016-09-01 10:40:17,609 : INFO : PROGRESS: at 10.64% examples, 4555 words/s, in_qsize 0, out_qsize 0\n",
      "2016-09-01 10:40:48,785 : INFO : PROGRESS: at 10.74% examples, 4568 words/s, in_qsize 0, out_qsize 0\n",
      "2016-09-01 10:41:18,814 : INFO : PROGRESS: at 10.82% examples, 4584 words/s, in_qsize 0, out_qsize 0\n",
      "2016-09-01 10:41:49,132 : INFO : PROGRESS: at 10.93% examples, 4599 words/s, in_qsize 0, out_qsize 0\n",
      "2016-09-01 10:42:19,523 : INFO : PROGRESS: at 11.04% examples, 4601 words/s, in_qsize 0, out_qsize 0\n",
      "2016-09-01 10:42:49,904 : INFO : PROGRESS: at 11.14% examples, 4614 words/s, in_qsize 0, out_qsize 0\n",
      "2016-09-01 10:43:20,715 : INFO : PROGRESS: at 11.23% examples, 4609 words/s, in_qsize 0, out_qsize 0\n",
      "2016-09-01 10:43:52,267 : INFO : PROGRESS: at 11.34% examples, 4620 words/s, in_qsize 0, out_qsize 0\n",
      "2016-09-01 10:44:22,508 : INFO : PROGRESS: at 11.44% examples, 4619 words/s, in_qsize 0, out_qsize 0\n",
      "2016-09-01 10:44:52,715 : INFO : PROGRESS: at 11.56% examples, 4633 words/s, in_qsize 0, out_qsize 0\n",
      "2016-09-01 10:45:22,826 : INFO : PROGRESS: at 11.66% examples, 4631 words/s, in_qsize 0, out_qsize 0\n",
      "2016-09-01 10:45:53,913 : INFO : PROGRESS: at 11.76% examples, 4634 words/s, in_qsize 0, out_qsize 0\n",
      "2016-09-01 10:46:24,452 : INFO : PROGRESS: at 11.87% examples, 4647 words/s, in_qsize 0, out_qsize 0\n",
      "2016-09-01 10:46:55,173 : INFO : PROGRESS: at 11.97% examples, 4655 words/s, in_qsize 0, out_qsize 0\n",
      "2016-09-01 10:47:25,214 : INFO : PROGRESS: at 12.07% examples, 4664 words/s, in_qsize 0, out_qsize 0\n",
      "2016-09-01 10:47:55,535 : INFO : PROGRESS: at 12.17% examples, 4669 words/s, in_qsize 0, out_qsize 0\n",
      "2016-09-01 10:48:25,717 : INFO : PROGRESS: at 12.27% examples, 4681 words/s, in_qsize 0, out_qsize 0\n",
      "2016-09-01 10:48:56,005 : INFO : PROGRESS: at 12.38% examples, 4692 words/s, in_qsize 0, out_qsize 0\n",
      "2016-09-01 10:49:26,670 : INFO : PROGRESS: at 12.49% examples, 4696 words/s, in_qsize 0, out_qsize 0\n",
      "2016-09-01 10:49:56,921 : INFO : PROGRESS: at 12.59% examples, 4705 words/s, in_qsize 0, out_qsize 1\n",
      "2016-09-01 10:50:27,455 : INFO : PROGRESS: at 12.69% examples, 4712 words/s, in_qsize 0, out_qsize 0\n",
      "2016-09-01 10:50:57,966 : INFO : PROGRESS: at 12.79% examples, 4723 words/s, in_qsize 0, out_qsize 0\n",
      "2016-09-01 10:51:28,073 : INFO : PROGRESS: at 12.90% examples, 4729 words/s, in_qsize 0, out_qsize 0\n",
      "2016-09-01 10:51:58,727 : INFO : PROGRESS: at 13.00% examples, 4736 words/s, in_qsize 0, out_qsize 0\n",
      "2016-09-01 10:52:28,793 : INFO : PROGRESS: at 13.11% examples, 4737 words/s, in_qsize 0, out_qsize 0\n",
      "2016-09-01 10:52:58,888 : INFO : PROGRESS: at 13.22% examples, 4735 words/s, in_qsize 0, out_qsize 0\n",
      "2016-09-01 10:53:29,123 : INFO : PROGRESS: at 13.34% examples, 4745 words/s, in_qsize 0, out_qsize 0\n",
      "2016-09-01 10:53:59,402 : INFO : PROGRESS: at 13.45% examples, 4751 words/s, in_qsize 0, out_qsize 0\n",
      "2016-09-01 10:54:30,354 : INFO : PROGRESS: at 13.56% examples, 4753 words/s, in_qsize 0, out_qsize 0\n",
      "2016-09-01 10:55:00,473 : INFO : PROGRESS: at 13.64% examples, 4753 words/s, in_qsize 0, out_qsize 0\n",
      "2016-09-01 10:55:30,874 : INFO : PROGRESS: at 13.75% examples, 4767 words/s, in_qsize 0, out_qsize 0\n",
      "2016-09-01 10:56:01,642 : INFO : PROGRESS: at 13.85% examples, 4774 words/s, in_qsize 0, out_qsize 0\n",
      "2016-09-01 10:56:32,086 : INFO : PROGRESS: at 13.93% examples, 4769 words/s, in_qsize 0, out_qsize 0\n",
      "2016-09-01 10:57:02,221 : INFO : PROGRESS: at 14.04% examples, 4774 words/s, in_qsize 0, out_qsize 0\n",
      "2016-09-01 10:57:32,292 : INFO : PROGRESS: at 14.14% examples, 4772 words/s, in_qsize 0, out_qsize 0\n",
      "2016-09-01 10:58:03,662 : INFO : PROGRESS: at 14.24% examples, 4770 words/s, in_qsize 0, out_qsize 0\n",
      "2016-09-01 10:58:33,736 : INFO : PROGRESS: at 14.35% examples, 4783 words/s, in_qsize 0, out_qsize 0\n",
      "2016-09-01 10:59:04,390 : INFO : PROGRESS: at 14.45% examples, 4788 words/s, in_qsize 0, out_qsize 0\n",
      "2016-09-01 10:59:34,659 : INFO : PROGRESS: at 14.55% examples, 4795 words/s, in_qsize 0, out_qsize 0\n",
      "2016-09-01 11:00:05,215 : INFO : PROGRESS: at 14.65% examples, 4798 words/s, in_qsize 0, out_qsize 0\n",
      "2016-09-01 11:00:35,497 : INFO : PROGRESS: at 14.75% examples, 4805 words/s, in_qsize 0, out_qsize 0\n",
      "2016-09-01 11:01:05,929 : INFO : PROGRESS: at 14.86% examples, 4815 words/s, in_qsize 0, out_qsize 0\n",
      "2016-09-01 11:01:36,289 : INFO : PROGRESS: at 14.95% examples, 4817 words/s, in_qsize 0, out_qsize 0\n",
      "2016-09-01 11:02:06,525 : INFO : PROGRESS: at 15.04% examples, 4818 words/s, in_qsize 0, out_qsize 0\n",
      "2016-09-01 11:02:37,035 : INFO : PROGRESS: at 15.15% examples, 4817 words/s, in_qsize 0, out_qsize 0\n",
      "2016-09-01 11:03:07,117 : INFO : PROGRESS: at 15.26% examples, 4822 words/s, in_qsize 0, out_qsize 0\n",
      "2016-09-01 11:03:38,400 : INFO : PROGRESS: at 15.37% examples, 4829 words/s, in_qsize 0, out_qsize 0\n",
      "2016-09-01 11:04:09,085 : INFO : PROGRESS: at 15.48% examples, 4832 words/s, in_qsize 0, out_qsize 0\n",
      "2016-09-01 11:04:39,317 : INFO : PROGRESS: at 15.59% examples, 4837 words/s, in_qsize 0, out_qsize 0\n",
      "2016-09-01 11:05:09,557 : INFO : PROGRESS: at 15.68% examples, 4840 words/s, in_qsize 0, out_qsize 0\n",
      "2016-09-01 11:05:39,848 : INFO : PROGRESS: at 15.80% examples, 4842 words/s, in_qsize 0, out_qsize 0\n",
      "2016-09-01 11:06:09,863 : INFO : PROGRESS: at 15.90% examples, 4843 words/s, in_qsize 0, out_qsize 0\n",
      "2016-09-01 11:06:40,479 : INFO : PROGRESS: at 16.00% examples, 4844 words/s, in_qsize 0, out_qsize 0\n",
      "2016-09-01 11:07:11,794 : INFO : PROGRESS: at 16.09% examples, 4848 words/s, in_qsize 0, out_qsize 0\n",
      "2016-09-01 11:07:42,154 : INFO : PROGRESS: at 16.18% examples, 4852 words/s, in_qsize 0, out_qsize 0\n",
      "2016-09-01 11:08:12,450 : INFO : PROGRESS: at 16.27% examples, 4852 words/s, in_qsize 0, out_qsize 0\n",
      "2016-09-01 11:08:44,100 : INFO : PROGRESS: at 16.36% examples, 4857 words/s, in_qsize 0, out_qsize 0\n",
      "2016-09-01 11:09:14,340 : INFO : PROGRESS: at 16.48% examples, 4860 words/s, in_qsize 0, out_qsize 0\n",
      "2016-09-01 11:09:44,647 : INFO : PROGRESS: at 16.58% examples, 4861 words/s, in_qsize 0, out_qsize 0\n",
      "2016-09-01 11:10:15,056 : INFO : PROGRESS: at 16.68% examples, 4862 words/s, in_qsize 0, out_qsize 0\n",
      "2016-09-01 11:10:45,841 : INFO : PROGRESS: at 16.78% examples, 4871 words/s, in_qsize 0, out_qsize 0\n",
      "2016-09-01 11:11:15,901 : INFO : PROGRESS: at 16.88% examples, 4878 words/s, in_qsize 0, out_qsize 0\n",
      "2016-09-01 11:11:46,079 : INFO : PROGRESS: at 17.00% examples, 4885 words/s, in_qsize 0, out_qsize 0\n",
      "2016-09-01 11:12:16,170 : INFO : PROGRESS: at 17.12% examples, 4892 words/s, in_qsize 0, out_qsize 0\n",
      "2016-09-01 11:12:46,271 : INFO : PROGRESS: at 17.22% examples, 4897 words/s, in_qsize 0, out_qsize 0\n",
      "2016-09-01 11:13:16,579 : INFO : PROGRESS: at 17.32% examples, 4900 words/s, in_qsize 0, out_qsize 0\n",
      "2016-09-01 11:13:46,813 : INFO : PROGRESS: at 17.42% examples, 4901 words/s, in_qsize 0, out_qsize 0\n",
      "2016-09-01 11:14:17,247 : INFO : PROGRESS: at 17.54% examples, 4903 words/s, in_qsize 0, out_qsize 0\n",
      "2016-09-01 11:14:47,773 : INFO : PROGRESS: at 17.64% examples, 4905 words/s, in_qsize 0, out_qsize 0\n",
      "2016-09-01 11:15:17,821 : INFO : PROGRESS: at 17.74% examples, 4905 words/s, in_qsize 0, out_qsize 0\n",
      "2016-09-01 11:15:47,907 : INFO : PROGRESS: at 17.84% examples, 4906 words/s, in_qsize 0, out_qsize 0\n",
      "2016-09-01 11:16:18,019 : INFO : PROGRESS: at 17.93% examples, 4909 words/s, in_qsize 0, out_qsize 0\n",
      "2016-09-01 11:16:48,227 : INFO : PROGRESS: at 18.01% examples, 4915 words/s, in_qsize 0, out_qsize 0\n",
      "2016-09-01 11:17:18,785 : INFO : PROGRESS: at 18.11% examples, 4918 words/s, in_qsize 0, out_qsize 0\n",
      "2016-09-01 11:17:48,966 : INFO : PROGRESS: at 18.22% examples, 4926 words/s, in_qsize 0, out_qsize 0\n",
      "2016-09-01 11:18:19,433 : INFO : PROGRESS: at 18.34% examples, 4932 words/s, in_qsize 0, out_qsize 0\n",
      "2016-09-01 11:18:49,640 : INFO : PROGRESS: at 18.44% examples, 4936 words/s, in_qsize 0, out_qsize 0\n",
      "2016-09-01 11:19:19,778 : INFO : PROGRESS: at 18.53% examples, 4940 words/s, in_qsize 0, out_qsize 0\n",
      "2016-09-01 11:19:50,067 : INFO : PROGRESS: at 18.64% examples, 4946 words/s, in_qsize 0, out_qsize 0\n",
      "2016-09-01 11:20:20,244 : INFO : PROGRESS: at 18.73% examples, 4943 words/s, in_qsize 0, out_qsize 0\n",
      "2016-09-01 11:20:50,360 : INFO : PROGRESS: at 18.83% examples, 4946 words/s, in_qsize 0, out_qsize 0\n",
      "2016-09-01 11:21:20,490 : INFO : PROGRESS: at 18.93% examples, 4952 words/s, in_qsize 0, out_qsize 0\n",
      "2016-09-01 11:21:51,086 : INFO : PROGRESS: at 19.03% examples, 4955 words/s, in_qsize 0, out_qsize 0\n",
      "2016-09-01 11:22:21,514 : INFO : PROGRESS: at 19.14% examples, 4958 words/s, in_qsize 0, out_qsize 0\n",
      "2016-09-01 11:22:51,901 : INFO : PROGRESS: at 19.24% examples, 4958 words/s, in_qsize 0, out_qsize 0\n",
      "2016-09-01 11:23:22,211 : INFO : PROGRESS: at 19.35% examples, 4959 words/s, in_qsize 0, out_qsize 0\n",
      "2016-09-01 11:23:52,613 : INFO : PROGRESS: at 19.46% examples, 4958 words/s, in_qsize 0, out_qsize 0\n",
      "2016-09-01 11:24:23,083 : INFO : PROGRESS: at 19.57% examples, 4963 words/s, in_qsize 0, out_qsize 0\n",
      "2016-09-01 11:24:53,537 : INFO : PROGRESS: at 19.67% examples, 4965 words/s, in_qsize 0, out_qsize 0\n",
      "2016-09-01 11:25:24,298 : INFO : PROGRESS: at 19.77% examples, 4966 words/s, in_qsize 0, out_qsize 0\n",
      "2016-09-01 11:25:54,486 : INFO : PROGRESS: at 19.88% examples, 4970 words/s, in_qsize 0, out_qsize 0\n",
      "2016-09-01 11:26:24,553 : INFO : PROGRESS: at 19.98% examples, 4971 words/s, in_qsize 0, out_qsize 0\n",
      "2016-09-01 11:26:54,828 : INFO : PROGRESS: at 20.08% examples, 4967 words/s, in_qsize 0, out_qsize 0\n",
      "2016-09-01 11:27:24,867 : INFO : PROGRESS: at 20.19% examples, 4971 words/s, in_qsize 0, out_qsize 0\n",
      "2016-09-01 11:27:55,117 : INFO : PROGRESS: at 20.28% examples, 4975 words/s, in_qsize 0, out_qsize 0\n",
      "2016-09-01 11:28:25,373 : INFO : PROGRESS: at 20.38% examples, 4975 words/s, in_qsize 0, out_qsize 0\n",
      "2016-09-01 11:28:55,742 : INFO : PROGRESS: at 20.48% examples, 4977 words/s, in_qsize 0, out_qsize 0\n",
      "2016-09-01 11:29:26,645 : INFO : PROGRESS: at 20.57% examples, 4976 words/s, in_qsize 0, out_qsize 0\n",
      "2016-09-01 11:29:57,484 : INFO : PROGRESS: at 20.67% examples, 4982 words/s, in_qsize 0, out_qsize 0\n",
      "2016-09-01 11:30:27,836 : INFO : PROGRESS: at 20.76% examples, 4987 words/s, in_qsize 0, out_qsize 0\n",
      "2016-09-01 11:30:57,928 : INFO : PROGRESS: at 20.87% examples, 4990 words/s, in_qsize 0, out_qsize 0\n",
      "2016-09-01 11:31:28,094 : INFO : PROGRESS: at 20.98% examples, 4996 words/s, in_qsize 0, out_qsize 0\n",
      "2016-09-01 11:31:58,385 : INFO : PROGRESS: at 21.07% examples, 4998 words/s, in_qsize 0, out_qsize 0\n",
      "2016-09-01 11:32:28,972 : INFO : PROGRESS: at 21.18% examples, 4999 words/s, in_qsize 0, out_qsize 0\n",
      "2016-09-01 11:32:59,523 : INFO : PROGRESS: at 21.28% examples, 4999 words/s, in_qsize 0, out_qsize 0\n",
      "2016-09-01 11:33:29,579 : INFO : PROGRESS: at 21.37% examples, 5001 words/s, in_qsize 0, out_qsize 0\n",
      "2016-09-01 11:34:00,158 : INFO : PROGRESS: at 21.48% examples, 5008 words/s, in_qsize 0, out_qsize 0\n",
      "2016-09-01 11:34:30,468 : INFO : PROGRESS: at 21.58% examples, 5007 words/s, in_qsize 0, out_qsize 0\n",
      "2016-09-01 11:35:00,819 : INFO : PROGRESS: at 21.68% examples, 5010 words/s, in_qsize 0, out_qsize 0\n",
      "2016-09-01 11:35:30,843 : INFO : PROGRESS: at 21.77% examples, 5011 words/s, in_qsize 0, out_qsize 0\n",
      "2016-09-01 11:36:01,129 : INFO : PROGRESS: at 21.86% examples, 5011 words/s, in_qsize 0, out_qsize 0\n",
      "2016-09-01 11:36:31,390 : INFO : PROGRESS: at 21.95% examples, 5010 words/s, in_qsize 0, out_qsize 0\n",
      "2016-09-01 11:37:01,698 : INFO : PROGRESS: at 22.06% examples, 5012 words/s, in_qsize 0, out_qsize 0\n",
      "2016-09-01 11:37:32,174 : INFO : PROGRESS: at 22.17% examples, 5016 words/s, in_qsize 0, out_qsize 0\n",
      "2016-09-01 11:38:02,278 : INFO : PROGRESS: at 22.24% examples, 5010 words/s, in_qsize 0, out_qsize 0\n",
      "2016-09-01 11:38:32,786 : INFO : PROGRESS: at 22.34% examples, 5012 words/s, in_qsize 0, out_qsize 0\n",
      "2016-09-01 11:39:03,947 : INFO : PROGRESS: at 22.45% examples, 5015 words/s, in_qsize 0, out_qsize 0\n",
      "2016-09-01 11:39:34,051 : INFO : PROGRESS: at 22.55% examples, 5018 words/s, in_qsize 0, out_qsize 0\n",
      "2016-09-01 11:40:04,385 : INFO : PROGRESS: at 22.64% examples, 5017 words/s, in_qsize 0, out_qsize 0\n",
      "2016-09-01 11:40:35,216 : INFO : PROGRESS: at 22.74% examples, 5020 words/s, in_qsize 0, out_qsize 0\n",
      "2016-09-01 11:41:05,805 : INFO : PROGRESS: at 22.84% examples, 5019 words/s, in_qsize 0, out_qsize 0\n",
      "2016-09-01 11:41:35,943 : INFO : PROGRESS: at 22.95% examples, 5025 words/s, in_qsize 0, out_qsize 0\n",
      "2016-09-01 11:42:06,233 : INFO : PROGRESS: at 23.04% examples, 5022 words/s, in_qsize 0, out_qsize 0\n",
      "2016-09-01 11:42:36,336 : INFO : PROGRESS: at 23.15% examples, 5026 words/s, in_qsize 0, out_qsize 0\n",
      "2016-09-01 11:43:06,419 : INFO : PROGRESS: at 23.26% examples, 5026 words/s, in_qsize 0, out_qsize 0\n",
      "2016-09-01 11:43:37,292 : INFO : PROGRESS: at 23.38% examples, 5027 words/s, in_qsize 0, out_qsize 1\n",
      "2016-09-01 11:44:07,632 : INFO : PROGRESS: at 23.49% examples, 5030 words/s, in_qsize 0, out_qsize 0\n",
      "2016-09-01 11:44:38,314 : INFO : PROGRESS: at 23.59% examples, 5029 words/s, in_qsize 0, out_qsize 0\n",
      "2016-09-01 11:45:08,389 : INFO : PROGRESS: at 23.69% examples, 5037 words/s, in_qsize 0, out_qsize 1\n",
      "2016-09-01 11:45:38,743 : INFO : PROGRESS: at 23.80% examples, 5039 words/s, in_qsize 0, out_qsize 0\n",
      "2016-09-01 11:46:09,062 : INFO : PROGRESS: at 23.90% examples, 5039 words/s, in_qsize 0, out_qsize 0\n",
      "2016-09-01 11:46:39,626 : INFO : PROGRESS: at 24.00% examples, 5040 words/s, in_qsize 0, out_qsize 0\n",
      "2016-09-01 11:47:10,209 : INFO : PROGRESS: at 24.09% examples, 5045 words/s, in_qsize 0, out_qsize 0\n",
      "2016-09-01 11:47:40,631 : INFO : PROGRESS: at 24.18% examples, 5047 words/s, in_qsize 0, out_qsize 0\n",
      "2016-09-01 11:48:10,819 : INFO : PROGRESS: at 24.27% examples, 5047 words/s, in_qsize 0, out_qsize 0\n",
      "2016-09-01 11:48:40,902 : INFO : PROGRESS: at 24.37% examples, 5048 words/s, in_qsize 0, out_qsize 1\n",
      "2016-09-01 11:49:11,184 : INFO : PROGRESS: at 24.47% examples, 5048 words/s, in_qsize 0, out_qsize 0\n",
      "2016-09-01 11:49:41,223 : INFO : PROGRESS: at 24.56% examples, 5050 words/s, in_qsize 0, out_qsize 0\n",
      "2016-09-01 11:50:13,143 : INFO : PROGRESS: at 24.67% examples, 5052 words/s, in_qsize 0, out_qsize 0\n",
      "2016-09-01 11:50:43,488 : INFO : PROGRESS: at 24.76% examples, 5051 words/s, in_qsize 0, out_qsize 0\n",
      "2016-09-01 11:51:13,958 : INFO : PROGRESS: at 24.85% examples, 5056 words/s, in_qsize 0, out_qsize 0\n",
      "2016-09-01 11:51:44,915 : INFO : PROGRESS: at 24.95% examples, 5053 words/s, in_qsize 0, out_qsize 0\n",
      "2016-09-01 11:52:15,192 : INFO : PROGRESS: at 25.04% examples, 5057 words/s, in_qsize 0, out_qsize 0\n",
      "2016-09-01 11:52:45,206 : INFO : PROGRESS: at 25.16% examples, 5063 words/s, in_qsize 0, out_qsize 0\n",
      "2016-09-01 11:53:15,608 : INFO : PROGRESS: at 25.27% examples, 5064 words/s, in_qsize 0, out_qsize 0\n",
      "2016-09-01 11:53:46,049 : INFO : PROGRESS: at 25.36% examples, 5065 words/s, in_qsize 0, out_qsize 0\n",
      "2016-09-01 11:54:16,094 : INFO : PROGRESS: at 25.47% examples, 5068 words/s, in_qsize 1, out_qsize 0\n",
      "2016-09-01 11:54:47,039 : INFO : PROGRESS: at 25.56% examples, 5070 words/s, in_qsize 0, out_qsize 0\n",
      "2016-09-01 11:55:17,533 : INFO : PROGRESS: at 25.66% examples, 5069 words/s, in_qsize 1, out_qsize 0\n",
      "2016-09-01 11:55:48,908 : INFO : PROGRESS: at 25.77% examples, 5074 words/s, in_qsize 0, out_qsize 0\n",
      "2016-09-01 11:56:19,466 : INFO : PROGRESS: at 25.87% examples, 5073 words/s, in_qsize 0, out_qsize 0\n",
      "2016-09-01 11:56:53,161 : INFO : PROGRESS: at 25.98% examples, 5069 words/s, in_qsize 0, out_qsize 0\n",
      "2016-09-01 11:57:23,259 : INFO : PROGRESS: at 26.07% examples, 5070 words/s, in_qsize 0, out_qsize 0\n",
      "2016-09-01 11:57:54,529 : INFO : PROGRESS: at 26.19% examples, 5071 words/s, in_qsize 0, out_qsize 0\n",
      "2016-09-01 11:58:25,333 : INFO : PROGRESS: at 26.29% examples, 5072 words/s, in_qsize 0, out_qsize 0\n",
      "2016-09-01 11:58:55,836 : INFO : PROGRESS: at 26.40% examples, 5071 words/s, in_qsize 0, out_qsize 0\n",
      "2016-09-01 11:59:25,996 : INFO : PROGRESS: at 26.51% examples, 5076 words/s, in_qsize 0, out_qsize 0\n",
      "2016-09-01 11:59:56,051 : INFO : PROGRESS: at 26.61% examples, 5078 words/s, in_qsize 0, out_qsize 0\n",
      "2016-09-01 12:00:26,330 : INFO : PROGRESS: at 26.72% examples, 5080 words/s, in_qsize 0, out_qsize 0\n",
      "2016-09-01 12:00:56,726 : INFO : PROGRESS: at 26.82% examples, 5079 words/s, in_qsize 0, out_qsize 0\n",
      "2016-09-01 12:01:27,034 : INFO : PROGRESS: at 26.91% examples, 5077 words/s, in_qsize 0, out_qsize 0\n",
      "2016-09-01 12:01:57,257 : INFO : PROGRESS: at 27.01% examples, 5073 words/s, in_qsize 0, out_qsize 0\n",
      "2016-09-01 12:02:27,993 : INFO : PROGRESS: at 27.11% examples, 5074 words/s, in_qsize 0, out_qsize 0\n",
      "2016-09-01 12:02:58,189 : INFO : PROGRESS: at 27.21% examples, 5079 words/s, in_qsize 0, out_qsize 0\n",
      "2016-09-01 12:03:29,105 : INFO : PROGRESS: at 27.31% examples, 5082 words/s, in_qsize 0, out_qsize 0\n",
      "2016-09-01 12:04:00,006 : INFO : PROGRESS: at 27.41% examples, 5087 words/s, in_qsize 0, out_qsize 0\n",
      "2016-09-01 12:04:30,106 : INFO : PROGRESS: at 27.51% examples, 5089 words/s, in_qsize 0, out_qsize 0\n",
      "2016-09-01 12:05:00,230 : INFO : PROGRESS: at 27.61% examples, 5091 words/s, in_qsize 0, out_qsize 0\n",
      "2016-09-01 12:05:30,262 : INFO : PROGRESS: at 27.73% examples, 5093 words/s, in_qsize 0, out_qsize 0\n",
      "2016-09-01 12:06:00,359 : INFO : PROGRESS: at 27.84% examples, 5097 words/s, in_qsize 0, out_qsize 0\n",
      "2016-09-01 12:06:30,398 : INFO : PROGRESS: at 27.94% examples, 5099 words/s, in_qsize 0, out_qsize 0\n",
      "2016-09-01 12:07:00,752 : INFO : PROGRESS: at 28.04% examples, 5101 words/s, in_qsize 0, out_qsize 0\n",
      "2016-09-01 12:07:31,708 : INFO : PROGRESS: at 28.15% examples, 5099 words/s, in_qsize 0, out_qsize 0\n",
      "2016-09-01 12:08:01,952 : INFO : PROGRESS: at 28.25% examples, 5098 words/s, in_qsize 0, out_qsize 0\n",
      "2016-09-01 12:08:32,006 : INFO : PROGRESS: at 28.36% examples, 5105 words/s, in_qsize 0, out_qsize 0\n",
      "2016-09-01 12:09:02,342 : INFO : PROGRESS: at 28.46% examples, 5109 words/s, in_qsize 0, out_qsize 0\n",
      "2016-09-01 12:09:32,852 : INFO : PROGRESS: at 28.56% examples, 5110 words/s, in_qsize 0, out_qsize 0\n",
      "2016-09-01 12:10:03,627 : INFO : PROGRESS: at 28.66% examples, 5110 words/s, in_qsize 0, out_qsize 0\n",
      "2016-09-01 12:10:34,694 : INFO : PROGRESS: at 28.77% examples, 5110 words/s, in_qsize 0, out_qsize 1\n",
      "2016-09-01 12:11:04,736 : INFO : PROGRESS: at 28.87% examples, 5111 words/s, in_qsize 0, out_qsize 0\n",
      "2016-09-01 12:11:35,296 : INFO : PROGRESS: at 28.98% examples, 5110 words/s, in_qsize 0, out_qsize 0\n",
      "2016-09-01 12:12:06,344 : INFO : PROGRESS: at 29.08% examples, 5112 words/s, in_qsize 1, out_qsize 0\n",
      "2016-09-01 12:12:37,150 : INFO : PROGRESS: at 29.18% examples, 5118 words/s, in_qsize 0, out_qsize 0\n",
      "2016-09-01 12:13:07,434 : INFO : PROGRESS: at 29.27% examples, 5120 words/s, in_qsize 0, out_qsize 0\n",
      "2016-09-01 12:13:37,574 : INFO : PROGRESS: at 29.36% examples, 5120 words/s, in_qsize 0, out_qsize 0\n",
      "2016-09-01 12:14:08,541 : INFO : PROGRESS: at 29.46% examples, 5121 words/s, in_qsize 0, out_qsize 0\n",
      "2016-09-01 12:14:38,825 : INFO : PROGRESS: at 29.57% examples, 5124 words/s, in_qsize 0, out_qsize 0\n",
      "2016-09-01 12:15:09,257 : INFO : PROGRESS: at 29.67% examples, 5123 words/s, in_qsize 0, out_qsize 0\n",
      "2016-09-01 12:15:39,886 : INFO : PROGRESS: at 29.77% examples, 5123 words/s, in_qsize 0, out_qsize 0\n",
      "2016-09-01 12:16:10,005 : INFO : PROGRESS: at 29.88% examples, 5124 words/s, in_qsize 0, out_qsize 0\n",
      "2016-09-01 12:16:40,634 : INFO : PROGRESS: at 29.98% examples, 5125 words/s, in_qsize 0, out_qsize 0\n",
      "2016-09-01 12:17:10,966 : INFO : PROGRESS: at 30.09% examples, 5126 words/s, in_qsize 0, out_qsize 1\n",
      "2016-09-01 12:17:40,989 : INFO : PROGRESS: at 30.19% examples, 5128 words/s, in_qsize 0, out_qsize 0\n",
      "2016-09-01 12:18:12,783 : INFO : PROGRESS: at 30.28% examples, 5129 words/s, in_qsize 0, out_qsize 1\n",
      "2016-09-01 12:18:43,603 : INFO : PROGRESS: at 30.40% examples, 5130 words/s, in_qsize 0, out_qsize 0\n",
      "2016-09-01 12:19:14,925 : INFO : PROGRESS: at 30.50% examples, 5132 words/s, in_qsize 0, out_qsize 0\n",
      "2016-09-01 12:19:45,686 : INFO : PROGRESS: at 30.60% examples, 5132 words/s, in_qsize 0, out_qsize 0\n",
      "2016-09-01 12:20:15,905 : INFO : PROGRESS: at 30.70% examples, 5133 words/s, in_qsize 0, out_qsize 0\n",
      "2016-09-01 12:20:46,147 : INFO : PROGRESS: at 30.80% examples, 5133 words/s, in_qsize 0, out_qsize 0\n",
      "2016-09-01 12:21:16,392 : INFO : PROGRESS: at 30.90% examples, 5133 words/s, in_qsize 0, out_qsize 0\n",
      "2016-09-01 12:21:46,452 : INFO : PROGRESS: at 31.01% examples, 5135 words/s, in_qsize 0, out_qsize 0\n",
      "2016-09-01 12:22:17,118 : INFO : PROGRESS: at 31.10% examples, 5136 words/s, in_qsize 0, out_qsize 0\n",
      "2016-09-01 12:22:48,265 : INFO : PROGRESS: at 31.23% examples, 5141 words/s, in_qsize 0, out_qsize 0\n",
      "2016-09-01 12:23:18,393 : INFO : PROGRESS: at 31.32% examples, 5140 words/s, in_qsize 0, out_qsize 0\n",
      "2016-09-01 12:23:48,506 : INFO : PROGRESS: at 31.41% examples, 5141 words/s, in_qsize 0, out_qsize 0\n",
      "2016-09-01 12:24:19,071 : INFO : PROGRESS: at 31.52% examples, 5145 words/s, in_qsize 0, out_qsize 0\n",
      "2016-09-01 12:24:49,378 : INFO : PROGRESS: at 31.62% examples, 5145 words/s, in_qsize 0, out_qsize 0\n",
      "2016-09-01 12:25:19,654 : INFO : PROGRESS: at 31.72% examples, 5149 words/s, in_qsize 0, out_qsize 0\n",
      "2016-09-01 12:25:49,944 : INFO : PROGRESS: at 31.83% examples, 5148 words/s, in_qsize 0, out_qsize 0\n",
      "2016-09-01 12:26:19,949 : INFO : PROGRESS: at 31.93% examples, 5147 words/s, in_qsize 1, out_qsize 0\n",
      "2016-09-01 12:26:50,541 : INFO : PROGRESS: at 32.03% examples, 5147 words/s, in_qsize 0, out_qsize 0\n",
      "2016-09-01 12:27:20,692 : INFO : PROGRESS: at 32.14% examples, 5150 words/s, in_qsize 0, out_qsize 0\n",
      "2016-09-01 12:27:51,400 : INFO : PROGRESS: at 32.24% examples, 5151 words/s, in_qsize 0, out_qsize 0\n",
      "2016-09-01 12:28:21,919 : INFO : PROGRESS: at 32.34% examples, 5151 words/s, in_qsize 0, out_qsize 0\n",
      "2016-09-01 12:28:52,001 : INFO : PROGRESS: at 32.44% examples, 5154 words/s, in_qsize 0, out_qsize 0\n",
      "2016-09-01 12:29:22,201 : INFO : PROGRESS: at 32.53% examples, 5154 words/s, in_qsize 0, out_qsize 0\n",
      "2016-09-01 12:29:52,807 : INFO : PROGRESS: at 32.64% examples, 5157 words/s, in_qsize 0, out_qsize 0\n",
      "2016-09-01 12:30:23,066 : INFO : PROGRESS: at 32.74% examples, 5156 words/s, in_qsize 0, out_qsize 0\n",
      "2016-09-01 12:30:53,451 : INFO : PROGRESS: at 32.82% examples, 5159 words/s, in_qsize 0, out_qsize 1\n",
      "2016-09-01 12:31:23,476 : INFO : PROGRESS: at 32.92% examples, 5163 words/s, in_qsize 0, out_qsize 0\n",
      "2016-09-01 12:31:54,149 : INFO : PROGRESS: at 33.02% examples, 5164 words/s, in_qsize 0, out_qsize 0\n",
      "2016-09-01 12:32:24,284 : INFO : PROGRESS: at 33.12% examples, 5167 words/s, in_qsize 0, out_qsize 0\n",
      "2016-09-01 12:32:54,413 : INFO : PROGRESS: at 33.23% examples, 5169 words/s, in_qsize 0, out_qsize 0\n",
      "2016-09-01 12:33:24,452 : INFO : PROGRESS: at 33.33% examples, 5167 words/s, in_qsize 0, out_qsize 0\n",
      "2016-09-01 12:33:55,437 : INFO : PROGRESS: at 33.44% examples, 5169 words/s, in_qsize 0, out_qsize 0\n",
      "2016-09-01 12:34:26,058 : INFO : PROGRESS: at 33.53% examples, 5170 words/s, in_qsize 0, out_qsize 1\n",
      "2016-09-01 12:34:56,511 : INFO : PROGRESS: at 33.63% examples, 5171 words/s, in_qsize 0, out_qsize 0\n",
      "2016-09-01 12:35:26,713 : INFO : PROGRESS: at 33.73% examples, 5173 words/s, in_qsize 0, out_qsize 0\n",
      "2016-09-01 12:35:56,748 : INFO : PROGRESS: at 33.85% examples, 5176 words/s, in_qsize 0, out_qsize 0\n",
      "2016-09-01 12:36:27,302 : INFO : PROGRESS: at 33.95% examples, 5177 words/s, in_qsize 0, out_qsize 0\n",
      "2016-09-01 12:36:57,958 : INFO : PROGRESS: at 34.05% examples, 5179 words/s, in_qsize 0, out_qsize 1\n",
      "2016-09-01 12:37:28,896 : INFO : PROGRESS: at 34.15% examples, 5179 words/s, in_qsize 0, out_qsize 0\n",
      "2016-09-01 12:37:59,517 : INFO : PROGRESS: at 34.24% examples, 5180 words/s, in_qsize 0, out_qsize 0\n",
      "2016-09-01 12:38:29,628 : INFO : PROGRESS: at 34.36% examples, 5181 words/s, in_qsize 0, out_qsize 0\n",
      "2016-09-01 12:38:59,859 : INFO : PROGRESS: at 34.45% examples, 5181 words/s, in_qsize 0, out_qsize 1\n",
      "2016-09-01 12:39:30,685 : INFO : PROGRESS: at 34.55% examples, 5182 words/s, in_qsize 0, out_qsize 0\n",
      "2016-09-01 12:40:01,746 : INFO : PROGRESS: at 34.66% examples, 5184 words/s, in_qsize 0, out_qsize 0\n",
      "2016-09-01 12:40:32,023 : INFO : PROGRESS: at 34.75% examples, 5184 words/s, in_qsize 0, out_qsize 0\n",
      "2016-09-01 12:41:02,656 : INFO : PROGRESS: at 34.86% examples, 5187 words/s, in_qsize 0, out_qsize 0\n",
      "2016-09-01 12:41:33,100 : INFO : PROGRESS: at 34.95% examples, 5186 words/s, in_qsize 0, out_qsize 0\n",
      "2016-09-01 12:42:03,435 : INFO : PROGRESS: at 35.06% examples, 5188 words/s, in_qsize 0, out_qsize 0\n",
      "2016-09-01 12:42:34,003 : INFO : PROGRESS: at 35.17% examples, 5187 words/s, in_qsize 0, out_qsize 0\n",
      "2016-09-01 12:43:04,332 : INFO : PROGRESS: at 35.25% examples, 5189 words/s, in_qsize 0, out_qsize 0\n",
      "2016-09-01 12:43:35,170 : INFO : PROGRESS: at 35.36% examples, 5188 words/s, in_qsize 0, out_qsize 0\n",
      "2016-09-01 12:44:05,231 : INFO : PROGRESS: at 35.48% examples, 5188 words/s, in_qsize 0, out_qsize 0\n",
      "2016-09-01 12:44:35,860 : INFO : PROGRESS: at 35.58% examples, 5190 words/s, in_qsize 0, out_qsize 0\n",
      "2016-09-01 12:45:05,957 : INFO : PROGRESS: at 35.69% examples, 5190 words/s, in_qsize 0, out_qsize 0\n",
      "2016-09-01 12:45:36,199 : INFO : PROGRESS: at 35.79% examples, 5191 words/s, in_qsize 0, out_qsize 0\n",
      "2016-09-01 12:46:06,288 : INFO : PROGRESS: at 35.89% examples, 5193 words/s, in_qsize 0, out_qsize 0\n",
      "2016-09-01 12:46:36,445 : INFO : PROGRESS: at 36.00% examples, 5196 words/s, in_qsize 0, out_qsize 0\n",
      "2016-09-01 12:47:06,601 : INFO : PROGRESS: at 36.09% examples, 5198 words/s, in_qsize 0, out_qsize 0\n",
      "2016-09-01 12:47:36,745 : INFO : PROGRESS: at 36.20% examples, 5201 words/s, in_qsize 0, out_qsize 0\n",
      "2016-09-01 12:48:07,320 : INFO : PROGRESS: at 36.29% examples, 5202 words/s, in_qsize 0, out_qsize 0\n",
      "2016-09-01 12:48:37,807 : INFO : PROGRESS: at 36.39% examples, 5200 words/s, in_qsize 0, out_qsize 0\n",
      "2016-09-01 12:49:08,482 : INFO : PROGRESS: at 36.48% examples, 5200 words/s, in_qsize 0, out_qsize 0\n",
      "2016-09-01 12:49:38,867 : INFO : PROGRESS: at 36.58% examples, 5199 words/s, in_qsize 0, out_qsize 0\n",
      "2016-09-01 12:50:10,594 : INFO : PROGRESS: at 36.70% examples, 5201 words/s, in_qsize 0, out_qsize 0\n",
      "2016-09-01 12:50:40,597 : INFO : PROGRESS: at 36.79% examples, 5200 words/s, in_qsize 0, out_qsize 0\n",
      "2016-09-01 12:51:10,921 : INFO : PROGRESS: at 36.88% examples, 5198 words/s, in_qsize 0, out_qsize 0\n",
      "2016-09-01 12:51:40,966 : INFO : PROGRESS: at 36.98% examples, 5199 words/s, in_qsize 0, out_qsize 0\n",
      "2016-09-01 12:52:11,427 : INFO : PROGRESS: at 37.09% examples, 5199 words/s, in_qsize 0, out_qsize 0\n",
      "2016-09-01 12:52:42,650 : INFO : PROGRESS: at 37.18% examples, 5198 words/s, in_qsize 0, out_qsize 1\n",
      "2016-09-01 12:53:12,850 : INFO : PROGRESS: at 37.29% examples, 5200 words/s, in_qsize 1, out_qsize 0\n",
      "2016-09-01 12:53:43,584 : INFO : PROGRESS: at 37.39% examples, 5202 words/s, in_qsize 0, out_qsize 0\n",
      "2016-09-01 12:54:13,611 : INFO : PROGRESS: at 37.50% examples, 5205 words/s, in_qsize 0, out_qsize 0\n",
      "2016-09-01 12:54:43,689 : INFO : PROGRESS: at 37.60% examples, 5206 words/s, in_qsize 0, out_qsize 0\n",
      "2016-09-01 12:55:14,357 : INFO : PROGRESS: at 37.71% examples, 5205 words/s, in_qsize 0, out_qsize 0\n",
      "2016-09-01 12:55:44,615 : INFO : PROGRESS: at 37.80% examples, 5206 words/s, in_qsize 0, out_qsize 0\n",
      "2016-09-01 12:56:14,958 : INFO : PROGRESS: at 37.91% examples, 5207 words/s, in_qsize 0, out_qsize 0\n",
      "2016-09-01 12:56:45,457 : INFO : PROGRESS: at 38.00% examples, 5206 words/s, in_qsize 0, out_qsize 0\n",
      "2016-09-01 12:57:15,796 : INFO : PROGRESS: at 38.11% examples, 5206 words/s, in_qsize 0, out_qsize 0\n",
      "2016-09-01 12:57:46,727 : INFO : PROGRESS: at 38.20% examples, 5207 words/s, in_qsize 0, out_qsize 0\n",
      "2016-09-01 12:58:16,883 : INFO : PROGRESS: at 38.30% examples, 5207 words/s, in_qsize 0, out_qsize 0\n",
      "2016-09-01 12:58:47,292 : INFO : PROGRESS: at 38.39% examples, 5206 words/s, in_qsize 0, out_qsize 1\n",
      "2016-09-01 12:59:17,761 : INFO : PROGRESS: at 38.48% examples, 5205 words/s, in_qsize 0, out_qsize 0\n",
      "2016-09-01 12:59:48,270 : INFO : PROGRESS: at 38.58% examples, 5205 words/s, in_qsize 0, out_qsize 0\n",
      "2016-09-01 13:00:18,833 : INFO : PROGRESS: at 38.68% examples, 5205 words/s, in_qsize 0, out_qsize 0\n",
      "2016-09-01 13:00:49,077 : INFO : PROGRESS: at 38.80% examples, 5208 words/s, in_qsize 0, out_qsize 0\n",
      "2016-09-01 13:01:19,886 : INFO : PROGRESS: at 38.91% examples, 5210 words/s, in_qsize 0, out_qsize 0\n",
      "2016-09-01 13:01:49,893 : INFO : PROGRESS: at 39.01% examples, 5208 words/s, in_qsize 0, out_qsize 0\n",
      "2016-09-01 13:02:20,575 : INFO : PROGRESS: at 39.10% examples, 5208 words/s, in_qsize 0, out_qsize 0\n",
      "2016-09-01 13:02:51,135 : INFO : PROGRESS: at 39.20% examples, 5209 words/s, in_qsize 0, out_qsize 0\n",
      "2016-09-01 13:03:21,240 : INFO : PROGRESS: at 39.31% examples, 5210 words/s, in_qsize 0, out_qsize 0\n",
      "2016-09-01 13:03:51,287 : INFO : PROGRESS: at 39.42% examples, 5213 words/s, in_qsize 0, out_qsize 0\n",
      "2016-09-01 13:04:22,008 : INFO : PROGRESS: at 39.52% examples, 5212 words/s, in_qsize 0, out_qsize 0\n",
      "2016-09-01 13:04:52,802 : INFO : PROGRESS: at 39.62% examples, 5214 words/s, in_qsize 0, out_qsize 0\n",
      "2016-09-01 13:05:23,152 : INFO : PROGRESS: at 39.73% examples, 5217 words/s, in_qsize 0, out_qsize 0\n",
      "2016-09-01 13:05:54,022 : INFO : PROGRESS: at 39.83% examples, 5220 words/s, in_qsize 0, out_qsize 0\n",
      "2016-09-01 13:06:24,252 : INFO : PROGRESS: at 39.93% examples, 5221 words/s, in_qsize 0, out_qsize 0\n",
      "2016-09-01 13:06:54,299 : INFO : PROGRESS: at 40.04% examples, 5220 words/s, in_qsize 0, out_qsize 0\n",
      "2016-09-01 13:07:24,320 : INFO : PROGRESS: at 40.12% examples, 5219 words/s, in_qsize 0, out_qsize 0\n",
      "2016-09-01 13:07:55,212 : INFO : PROGRESS: at 40.23% examples, 5219 words/s, in_qsize 0, out_qsize 0\n",
      "2016-09-01 13:08:25,278 : INFO : PROGRESS: at 40.34% examples, 5221 words/s, in_qsize 0, out_qsize 0\n",
      "2016-09-01 13:08:55,448 : INFO : PROGRESS: at 40.43% examples, 5219 words/s, in_qsize 0, out_qsize 0\n",
      "2016-09-01 13:09:25,607 : INFO : PROGRESS: at 40.55% examples, 5220 words/s, in_qsize 0, out_qsize 0\n",
      "2016-09-01 13:09:56,147 : INFO : PROGRESS: at 40.65% examples, 5221 words/s, in_qsize 0, out_qsize 0\n",
      "2016-09-01 13:10:26,786 : INFO : PROGRESS: at 40.75% examples, 5220 words/s, in_qsize 0, out_qsize 0\n",
      "2016-09-01 13:10:58,011 : INFO : PROGRESS: at 40.85% examples, 5220 words/s, in_qsize 0, out_qsize 0\n",
      "2016-09-01 13:11:28,089 : INFO : PROGRESS: at 40.95% examples, 5222 words/s, in_qsize 0, out_qsize 0\n",
      "2016-09-01 13:11:59,230 : INFO : PROGRESS: at 41.06% examples, 5222 words/s, in_qsize 0, out_qsize 0\n",
      "2016-09-01 13:12:29,442 : INFO : PROGRESS: at 41.17% examples, 5224 words/s, in_qsize 1, out_qsize 0\n",
      "2016-09-01 13:12:59,447 : INFO : PROGRESS: at 41.27% examples, 5225 words/s, in_qsize 0, out_qsize 0\n",
      "2016-09-01 13:13:30,305 : INFO : PROGRESS: at 41.36% examples, 5226 words/s, in_qsize 0, out_qsize 0\n",
      "2016-09-01 13:14:00,710 : INFO : PROGRESS: at 41.47% examples, 5229 words/s, in_qsize 0, out_qsize 0\n",
      "2016-09-01 13:14:31,857 : INFO : PROGRESS: at 41.57% examples, 5229 words/s, in_qsize 0, out_qsize 0\n",
      "2016-09-01 13:15:01,866 : INFO : PROGRESS: at 41.66% examples, 5228 words/s, in_qsize 0, out_qsize 0\n",
      "2016-09-01 13:15:33,017 : INFO : PROGRESS: at 41.76% examples, 5227 words/s, in_qsize 0, out_qsize 0\n",
      "2016-09-01 13:16:03,826 : INFO : PROGRESS: at 41.86% examples, 5228 words/s, in_qsize 0, out_qsize 0\n",
      "2016-09-01 13:16:34,119 : INFO : PROGRESS: at 41.95% examples, 5229 words/s, in_qsize 0, out_qsize 0\n",
      "2016-09-01 13:17:04,665 : INFO : PROGRESS: at 42.03% examples, 5228 words/s, in_qsize 0, out_qsize 0\n",
      "2016-09-01 13:17:35,526 : INFO : PROGRESS: at 42.12% examples, 5229 words/s, in_qsize 0, out_qsize 0\n",
      "2016-09-01 13:18:05,563 : INFO : PROGRESS: at 42.22% examples, 5227 words/s, in_qsize 0, out_qsize 0\n",
      "2016-09-01 13:18:36,017 : INFO : PROGRESS: at 42.32% examples, 5227 words/s, in_qsize 0, out_qsize 0\n",
      "2016-09-01 13:19:06,700 : INFO : PROGRESS: at 42.43% examples, 5228 words/s, in_qsize 0, out_qsize 0\n",
      "2016-09-01 13:19:36,953 : INFO : PROGRESS: at 42.53% examples, 5228 words/s, in_qsize 0, out_qsize 0\n",
      "2016-09-01 13:20:07,096 : INFO : PROGRESS: at 42.65% examples, 5228 words/s, in_qsize 0, out_qsize 0\n",
      "2016-09-01 13:20:37,184 : INFO : PROGRESS: at 42.76% examples, 5228 words/s, in_qsize 0, out_qsize 0\n",
      "2016-09-01 13:21:07,724 : INFO : PROGRESS: at 42.86% examples, 5228 words/s, in_qsize 0, out_qsize 0\n",
      "2016-09-01 13:21:38,240 : INFO : PROGRESS: at 42.96% examples, 5229 words/s, in_qsize 0, out_qsize 0\n",
      "2016-09-01 13:22:08,622 : INFO : PROGRESS: at 43.06% examples, 5229 words/s, in_qsize 0, out_qsize 0\n",
      "2016-09-01 13:22:39,255 : INFO : PROGRESS: at 43.17% examples, 5233 words/s, in_qsize 0, out_qsize 0\n",
      "2016-09-01 13:23:09,508 : INFO : PROGRESS: at 43.29% examples, 5235 words/s, in_qsize 0, out_qsize 0\n",
      "2016-09-01 13:23:39,666 : INFO : PROGRESS: at 43.41% examples, 5236 words/s, in_qsize 0, out_qsize 0\n",
      "2016-09-01 13:24:10,595 : INFO : PROGRESS: at 43.51% examples, 5237 words/s, in_qsize 0, out_qsize 0\n",
      "2016-09-01 13:24:40,727 : INFO : PROGRESS: at 43.61% examples, 5238 words/s, in_qsize 0, out_qsize 0\n",
      "2016-09-01 13:25:10,736 : INFO : PROGRESS: at 43.72% examples, 5243 words/s, in_qsize 0, out_qsize 0\n",
      "2016-09-01 13:25:40,743 : INFO : PROGRESS: at 43.83% examples, 5245 words/s, in_qsize 0, out_qsize 0\n",
      "2016-09-01 13:26:10,791 : INFO : PROGRESS: at 43.95% examples, 5246 words/s, in_qsize 0, out_qsize 0\n",
      "2016-09-01 13:26:40,852 : INFO : PROGRESS: at 44.06% examples, 5246 words/s, in_qsize 0, out_qsize 0\n",
      "2016-09-01 13:27:11,103 : INFO : PROGRESS: at 44.17% examples, 5250 words/s, in_qsize 0, out_qsize 0\n",
      "2016-09-01 13:27:41,317 : INFO : PROGRESS: at 44.28% examples, 5252 words/s, in_qsize 0, out_qsize 0\n",
      "2016-09-01 13:28:11,411 : INFO : PROGRESS: at 44.39% examples, 5254 words/s, in_qsize 0, out_qsize 0\n",
      "2016-09-01 13:28:42,446 : INFO : PROGRESS: at 44.51% examples, 5256 words/s, in_qsize 0, out_qsize 0\n",
      "2016-09-01 13:29:12,570 : INFO : PROGRESS: at 44.62% examples, 5257 words/s, in_qsize 1, out_qsize 0\n",
      "2016-09-01 13:29:43,789 : INFO : PROGRESS: at 44.71% examples, 5259 words/s, in_qsize 0, out_qsize 0\n",
      "2016-09-01 13:30:14,133 : INFO : PROGRESS: at 44.81% examples, 5260 words/s, in_qsize 0, out_qsize 0\n",
      "2016-09-01 13:30:44,373 : INFO : PROGRESS: at 44.92% examples, 5261 words/s, in_qsize 0, out_qsize 0\n",
      "2016-09-01 13:31:14,630 : INFO : PROGRESS: at 45.01% examples, 5262 words/s, in_qsize 0, out_qsize 0\n",
      "2016-09-01 13:31:44,905 : INFO : PROGRESS: at 45.12% examples, 5264 words/s, in_qsize 0, out_qsize 0\n",
      "2016-09-01 13:32:15,439 : INFO : PROGRESS: at 45.22% examples, 5266 words/s, in_qsize 0, out_qsize 0\n",
      "2016-09-01 13:32:45,704 : INFO : PROGRESS: at 45.33% examples, 5266 words/s, in_qsize 0, out_qsize 0\n",
      "2016-09-01 13:33:15,839 : INFO : PROGRESS: at 45.44% examples, 5269 words/s, in_qsize 0, out_qsize 0\n",
      "2016-09-01 13:33:46,476 : INFO : PROGRESS: at 45.53% examples, 5268 words/s, in_qsize 0, out_qsize 0\n",
      "2016-09-01 13:34:17,777 : INFO : PROGRESS: at 45.63% examples, 5269 words/s, in_qsize 0, out_qsize 0\n",
      "2016-09-01 13:34:48,807 : INFO : PROGRESS: at 45.73% examples, 5270 words/s, in_qsize 0, out_qsize 0\n",
      "2016-09-01 13:35:19,659 : INFO : PROGRESS: at 45.83% examples, 5270 words/s, in_qsize 0, out_qsize 0\n",
      "2016-09-01 13:35:50,636 : INFO : PROGRESS: at 45.93% examples, 5269 words/s, in_qsize 0, out_qsize 0\n",
      "2016-09-01 13:36:21,156 : INFO : PROGRESS: at 46.04% examples, 5273 words/s, in_qsize 0, out_qsize 0\n",
      "2016-09-01 13:36:51,406 : INFO : PROGRESS: at 46.14% examples, 5275 words/s, in_qsize 0, out_qsize 0\n",
      "2016-09-01 13:37:21,738 : INFO : PROGRESS: at 46.25% examples, 5276 words/s, in_qsize 0, out_qsize 0\n",
      "2016-09-01 13:37:51,900 : INFO : PROGRESS: at 46.35% examples, 5277 words/s, in_qsize 0, out_qsize 0\n",
      "2016-09-01 13:38:22,412 : INFO : PROGRESS: at 46.45% examples, 5278 words/s, in_qsize 0, out_qsize 0\n",
      "2016-09-01 13:38:52,456 : INFO : PROGRESS: at 46.57% examples, 5280 words/s, in_qsize 0, out_qsize 0\n",
      "2016-09-01 13:39:22,943 : INFO : PROGRESS: at 46.68% examples, 5281 words/s, in_qsize 0, out_qsize 0\n",
      "2016-09-01 13:39:52,968 : INFO : PROGRESS: at 46.78% examples, 5281 words/s, in_qsize 0, out_qsize 0\n",
      "2016-09-01 13:40:22,970 : INFO : PROGRESS: at 46.88% examples, 5282 words/s, in_qsize 0, out_qsize 0\n",
      "2016-09-01 13:40:54,058 : INFO : PROGRESS: at 47.00% examples, 5282 words/s, in_qsize 0, out_qsize 0\n",
      "2016-09-01 13:41:24,384 : INFO : PROGRESS: at 47.11% examples, 5281 words/s, in_qsize 0, out_qsize 0\n",
      "2016-09-01 13:41:55,400 : INFO : PROGRESS: at 47.23% examples, 5282 words/s, in_qsize 0, out_qsize 0\n",
      "2016-09-01 13:42:25,573 : INFO : PROGRESS: at 47.33% examples, 5286 words/s, in_qsize 0, out_qsize 0\n",
      "2016-09-01 13:42:55,984 : INFO : PROGRESS: at 47.45% examples, 5288 words/s, in_qsize 0, out_qsize 0\n",
      "2016-09-01 13:43:26,774 : INFO : PROGRESS: at 47.55% examples, 5290 words/s, in_qsize 0, out_qsize 0\n",
      "2016-09-01 13:43:56,908 : INFO : PROGRESS: at 47.67% examples, 5294 words/s, in_qsize 0, out_qsize 0\n",
      "2016-09-01 13:44:27,816 : INFO : PROGRESS: at 47.77% examples, 5296 words/s, in_qsize 0, out_qsize 0\n",
      "2016-09-01 13:44:58,092 : INFO : PROGRESS: at 47.89% examples, 5297 words/s, in_qsize 0, out_qsize 0\n",
      "2016-09-01 13:45:28,297 : INFO : PROGRESS: at 48.01% examples, 5300 words/s, in_qsize 0, out_qsize 0\n",
      "2016-09-01 13:45:59,004 : INFO : PROGRESS: at 48.13% examples, 5302 words/s, in_qsize 0, out_qsize 0\n",
      "2016-09-01 13:46:29,588 : INFO : PROGRESS: at 48.23% examples, 5303 words/s, in_qsize 0, out_qsize 0\n",
      "2016-09-01 13:47:00,065 : INFO : PROGRESS: at 48.34% examples, 5304 words/s, in_qsize 0, out_qsize 0\n",
      "2016-09-01 13:47:30,482 : INFO : PROGRESS: at 48.44% examples, 5304 words/s, in_qsize 0, out_qsize 0\n",
      "2016-09-01 13:48:00,665 : INFO : PROGRESS: at 48.54% examples, 5307 words/s, in_qsize 0, out_qsize 0\n",
      "2016-09-01 13:48:31,188 : INFO : PROGRESS: at 48.65% examples, 5308 words/s, in_qsize 0, out_qsize 0\n",
      "2016-09-01 13:49:01,210 : INFO : PROGRESS: at 48.74% examples, 5309 words/s, in_qsize 0, out_qsize 0\n",
      "2016-09-01 13:49:31,726 : INFO : PROGRESS: at 48.85% examples, 5310 words/s, in_qsize 0, out_qsize 1\n",
      "2016-09-01 13:50:01,836 : INFO : PROGRESS: at 48.95% examples, 5310 words/s, in_qsize 0, out_qsize 0\n",
      "2016-09-01 13:50:32,597 : INFO : PROGRESS: at 49.05% examples, 5310 words/s, in_qsize 0, out_qsize 0\n",
      "2016-09-01 13:51:02,753 : INFO : PROGRESS: at 49.14% examples, 5311 words/s, in_qsize 0, out_qsize 0\n",
      "2016-09-01 13:51:32,780 : INFO : PROGRESS: at 49.22% examples, 5310 words/s, in_qsize 0, out_qsize 0\n",
      "2016-09-01 13:52:02,806 : INFO : PROGRESS: at 49.33% examples, 5309 words/s, in_qsize 0, out_qsize 0\n",
      "2016-09-01 13:52:33,642 : INFO : PROGRESS: at 49.42% examples, 5310 words/s, in_qsize 0, out_qsize 0\n",
      "2016-09-01 13:53:04,052 : INFO : PROGRESS: at 49.52% examples, 5309 words/s, in_qsize 0, out_qsize 0\n",
      "2016-09-01 13:53:34,270 : INFO : PROGRESS: at 49.62% examples, 5311 words/s, in_qsize 0, out_qsize 0\n",
      "2016-09-01 13:54:04,903 : INFO : PROGRESS: at 49.72% examples, 5312 words/s, in_qsize 0, out_qsize 0\n",
      "2016-09-01 13:54:35,200 : INFO : PROGRESS: at 49.82% examples, 5313 words/s, in_qsize 0, out_qsize 0\n",
      "2016-09-01 13:55:05,736 : INFO : PROGRESS: at 49.92% examples, 5316 words/s, in_qsize 0, out_qsize 0\n",
      "2016-09-01 13:55:36,295 : INFO : PROGRESS: at 50.03% examples, 5316 words/s, in_qsize 0, out_qsize 0\n",
      "2016-09-01 13:56:07,066 : INFO : PROGRESS: at 50.13% examples, 5315 words/s, in_qsize 0, out_qsize 0\n",
      "2016-09-01 13:56:37,424 : INFO : PROGRESS: at 50.23% examples, 5316 words/s, in_qsize 0, out_qsize 0\n",
      "2016-09-01 13:57:07,876 : INFO : PROGRESS: at 50.35% examples, 5318 words/s, in_qsize 0, out_qsize 0\n",
      "2016-09-01 13:57:38,366 : INFO : PROGRESS: at 50.44% examples, 5316 words/s, in_qsize 0, out_qsize 0\n",
      "2016-09-01 13:58:09,241 : INFO : PROGRESS: at 50.55% examples, 5317 words/s, in_qsize 0, out_qsize 0\n",
      "2016-09-01 13:58:39,504 : INFO : PROGRESS: at 50.65% examples, 5319 words/s, in_qsize 0, out_qsize 0\n",
      "2016-09-01 13:59:09,825 : INFO : PROGRESS: at 50.75% examples, 5319 words/s, in_qsize 0, out_qsize 1\n",
      "2016-09-01 13:59:39,918 : INFO : PROGRESS: at 50.85% examples, 5319 words/s, in_qsize 0, out_qsize 0\n",
      "2016-09-01 14:00:10,519 : INFO : PROGRESS: at 50.95% examples, 5319 words/s, in_qsize 0, out_qsize 0\n",
      "2016-09-01 14:00:41,638 : INFO : PROGRESS: at 51.06% examples, 5320 words/s, in_qsize 0, out_qsize 0\n",
      "2016-09-01 14:01:11,716 : INFO : PROGRESS: at 51.16% examples, 5321 words/s, in_qsize 0, out_qsize 0\n",
      "2016-09-01 14:01:42,933 : INFO : PROGRESS: at 51.26% examples, 5322 words/s, in_qsize 0, out_qsize 0\n",
      "2016-09-01 14:02:13,130 : INFO : PROGRESS: at 51.36% examples, 5322 words/s, in_qsize 0, out_qsize 0\n",
      "2016-09-01 14:02:43,483 : INFO : PROGRESS: at 51.46% examples, 5322 words/s, in_qsize 0, out_qsize 0\n",
      "2016-09-01 14:03:14,652 : INFO : PROGRESS: at 51.56% examples, 5323 words/s, in_qsize 0, out_qsize 0\n",
      "2016-09-01 14:03:45,358 : INFO : PROGRESS: at 51.66% examples, 5322 words/s, in_qsize 0, out_qsize 0\n",
      "2016-09-01 14:04:15,702 : INFO : PROGRESS: at 51.76% examples, 5322 words/s, in_qsize 0, out_qsize 0\n",
      "2016-09-01 14:04:46,245 : INFO : PROGRESS: at 51.86% examples, 5323 words/s, in_qsize 0, out_qsize 0\n",
      "2016-09-01 14:05:16,493 : INFO : PROGRESS: at 51.95% examples, 5323 words/s, in_qsize 0, out_qsize 0\n",
      "2016-09-01 14:05:46,912 : INFO : PROGRESS: at 52.05% examples, 5322 words/s, in_qsize 0, out_qsize 0\n",
      "2016-09-01 14:06:16,988 : INFO : PROGRESS: at 52.15% examples, 5323 words/s, in_qsize 0, out_qsize 0\n",
      "2016-09-01 14:06:47,677 : INFO : PROGRESS: at 52.23% examples, 5323 words/s, in_qsize 0, out_qsize 0\n",
      "2016-09-01 14:07:17,889 : INFO : PROGRESS: at 52.33% examples, 5323 words/s, in_qsize 0, out_qsize 0\n",
      "2016-09-01 14:07:48,289 : INFO : PROGRESS: at 52.41% examples, 5322 words/s, in_qsize 0, out_qsize 0\n",
      "2016-09-01 14:08:18,314 : INFO : PROGRESS: at 52.49% examples, 5323 words/s, in_qsize 0, out_qsize 0\n",
      "2016-09-01 14:08:48,905 : INFO : PROGRESS: at 52.61% examples, 5325 words/s, in_qsize 0, out_qsize 0\n",
      "2016-09-01 14:09:19,382 : INFO : PROGRESS: at 52.70% examples, 5325 words/s, in_qsize 0, out_qsize 0\n",
      "2016-09-01 14:09:49,710 : INFO : PROGRESS: at 52.80% examples, 5326 words/s, in_qsize 0, out_qsize 0\n",
      "2016-09-01 14:10:20,718 : INFO : PROGRESS: at 52.90% examples, 5325 words/s, in_qsize 0, out_qsize 0\n",
      "2016-09-01 14:10:51,510 : INFO : PROGRESS: at 52.99% examples, 5324 words/s, in_qsize 0, out_qsize 0\n",
      "2016-09-01 14:11:21,799 : INFO : PROGRESS: at 53.09% examples, 5325 words/s, in_qsize 0, out_qsize 0\n",
      "2016-09-01 14:11:51,843 : INFO : PROGRESS: at 53.19% examples, 5325 words/s, in_qsize 0, out_qsize 0\n",
      "2016-09-01 14:12:21,856 : INFO : PROGRESS: at 53.28% examples, 5325 words/s, in_qsize 0, out_qsize 0\n",
      "2016-09-01 14:12:51,894 : INFO : PROGRESS: at 53.38% examples, 5324 words/s, in_qsize 0, out_qsize 0\n",
      "2016-09-01 14:13:22,418 : INFO : PROGRESS: at 53.49% examples, 5327 words/s, in_qsize 1, out_qsize 0\n",
      "2016-09-01 14:13:52,551 : INFO : PROGRESS: at 53.60% examples, 5328 words/s, in_qsize 0, out_qsize 0\n",
      "2016-09-01 14:14:22,930 : INFO : PROGRESS: at 53.70% examples, 5328 words/s, in_qsize 0, out_qsize 0\n",
      "2016-09-01 14:14:53,660 : INFO : PROGRESS: at 53.80% examples, 5327 words/s, in_qsize 0, out_qsize 0\n",
      "2016-09-01 14:15:23,692 : INFO : PROGRESS: at 53.89% examples, 5328 words/s, in_qsize 0, out_qsize 0\n",
      "2016-09-01 14:15:54,256 : INFO : PROGRESS: at 53.99% examples, 5328 words/s, in_qsize 0, out_qsize 0\n",
      "2016-09-01 14:16:24,682 : INFO : PROGRESS: at 54.11% examples, 5330 words/s, in_qsize 0, out_qsize 0\n",
      "2016-09-01 14:16:55,017 : INFO : PROGRESS: at 54.21% examples, 5332 words/s, in_qsize 0, out_qsize 0\n",
      "2016-09-01 14:17:25,154 : INFO : PROGRESS: at 54.31% examples, 5331 words/s, in_qsize 0, out_qsize 0\n",
      "2016-09-01 14:17:55,169 : INFO : PROGRESS: at 54.40% examples, 5330 words/s, in_qsize 0, out_qsize 0\n",
      "2016-09-01 14:18:25,599 : INFO : PROGRESS: at 54.49% examples, 5330 words/s, in_qsize 0, out_qsize 0\n",
      "2016-09-01 14:18:57,128 : INFO : PROGRESS: at 54.60% examples, 5331 words/s, in_qsize 0, out_qsize 0\n",
      "2016-09-01 14:19:27,957 : INFO : PROGRESS: at 54.70% examples, 5332 words/s, in_qsize 1, out_qsize 0\n",
      "2016-09-01 14:19:58,490 : INFO : PROGRESS: at 54.81% examples, 5334 words/s, in_qsize 0, out_qsize 1\n",
      "2016-09-01 14:20:28,619 : INFO : PROGRESS: at 54.91% examples, 5336 words/s, in_qsize 0, out_qsize 1\n",
      "2016-09-01 14:20:58,806 : INFO : PROGRESS: at 55.02% examples, 5337 words/s, in_qsize 0, out_qsize 0\n",
      "2016-09-01 14:21:29,236 : INFO : PROGRESS: at 55.13% examples, 5340 words/s, in_qsize 0, out_qsize 0\n",
      "2016-09-01 14:21:59,951 : INFO : PROGRESS: at 55.22% examples, 5339 words/s, in_qsize 0, out_qsize 0\n",
      "2016-09-01 14:22:30,389 : INFO : PROGRESS: at 55.31% examples, 5340 words/s, in_qsize 0, out_qsize 0\n",
      "2016-09-01 14:23:00,485 : INFO : PROGRESS: at 55.39% examples, 5339 words/s, in_qsize 0, out_qsize 0\n",
      "2016-09-01 14:23:30,779 : INFO : PROGRESS: at 55.49% examples, 5339 words/s, in_qsize 0, out_qsize 0\n",
      "2016-09-01 14:24:01,266 : INFO : PROGRESS: at 55.59% examples, 5339 words/s, in_qsize 0, out_qsize 0\n",
      "2016-09-01 14:24:31,351 : INFO : PROGRESS: at 55.70% examples, 5341 words/s, in_qsize 0, out_qsize 0\n",
      "2016-09-01 14:25:01,540 : INFO : PROGRESS: at 55.81% examples, 5340 words/s, in_qsize 0, out_qsize 0\n",
      "2016-09-01 14:25:32,799 : INFO : PROGRESS: at 55.92% examples, 5340 words/s, in_qsize 0, out_qsize 0\n",
      "2016-09-01 14:26:03,192 : INFO : PROGRESS: at 56.03% examples, 5343 words/s, in_qsize 0, out_qsize 0\n",
      "2016-09-01 14:26:33,622 : INFO : PROGRESS: at 56.12% examples, 5342 words/s, in_qsize 0, out_qsize 0\n",
      "2016-09-01 14:27:04,609 : INFO : PROGRESS: at 56.23% examples, 5344 words/s, in_qsize 0, out_qsize 0\n",
      "2016-09-01 14:27:34,714 : INFO : PROGRESS: at 56.33% examples, 5345 words/s, in_qsize 0, out_qsize 0\n",
      "2016-09-01 14:28:05,370 : INFO : PROGRESS: at 56.43% examples, 5342 words/s, in_qsize 0, out_qsize 0\n",
      "2016-09-01 14:28:35,812 : INFO : PROGRESS: at 56.53% examples, 5341 words/s, in_qsize 0, out_qsize 0\n",
      "2016-09-01 14:29:06,381 : INFO : PROGRESS: at 56.63% examples, 5339 words/s, in_qsize 0, out_qsize 0\n",
      "2016-09-01 14:29:36,398 : INFO : PROGRESS: at 56.73% examples, 5338 words/s, in_qsize 0, out_qsize 0\n",
      "2016-09-01 14:30:06,493 : INFO : PROGRESS: at 56.81% examples, 5337 words/s, in_qsize 0, out_qsize 0\n",
      "2016-09-01 14:30:37,046 : INFO : PROGRESS: at 56.91% examples, 5337 words/s, in_qsize 0, out_qsize 0\n",
      "2016-09-01 14:31:07,082 : INFO : PROGRESS: at 57.01% examples, 5337 words/s, in_qsize 0, out_qsize 0\n",
      "2016-09-01 14:31:38,830 : INFO : PROGRESS: at 57.11% examples, 5336 words/s, in_qsize 0, out_qsize 0\n",
      "2016-09-01 14:32:08,997 : INFO : PROGRESS: at 57.22% examples, 5337 words/s, in_qsize 0, out_qsize 0\n",
      "2016-09-01 14:32:41,300 : INFO : PROGRESS: at 57.32% examples, 5339 words/s, in_qsize 0, out_qsize 0\n",
      "2016-09-01 14:33:11,572 : INFO : PROGRESS: at 57.44% examples, 5341 words/s, in_qsize 0, out_qsize 0\n",
      "2016-09-01 14:33:41,843 : INFO : PROGRESS: at 57.55% examples, 5343 words/s, in_qsize 0, out_qsize 0\n",
      "2016-09-01 14:34:11,853 : INFO : PROGRESS: at 57.65% examples, 5343 words/s, in_qsize 0, out_qsize 0\n",
      "2016-09-01 14:34:42,307 : INFO : PROGRESS: at 57.76% examples, 5343 words/s, in_qsize 0, out_qsize 0\n",
      "2016-09-01 14:35:12,350 : INFO : PROGRESS: at 57.87% examples, 5344 words/s, in_qsize 0, out_qsize 0\n",
      "2016-09-01 14:35:43,146 : INFO : PROGRESS: at 57.96% examples, 5345 words/s, in_qsize 0, out_qsize 0\n",
      "2016-09-01 14:36:13,524 : INFO : PROGRESS: at 58.06% examples, 5346 words/s, in_qsize 0, out_qsize 0\n",
      "2016-09-01 14:36:44,483 : INFO : PROGRESS: at 58.15% examples, 5344 words/s, in_qsize 0, out_qsize 0\n",
      "2016-09-01 14:37:15,704 : INFO : PROGRESS: at 58.23% examples, 5343 words/s, in_qsize 0, out_qsize 0\n",
      "2016-09-01 14:37:46,131 : INFO : PROGRESS: at 58.33% examples, 5342 words/s, in_qsize 0, out_qsize 0\n",
      "2016-09-01 14:38:16,176 : INFO : PROGRESS: at 58.44% examples, 5342 words/s, in_qsize 0, out_qsize 0\n",
      "2016-09-01 14:38:47,404 : INFO : PROGRESS: at 58.53% examples, 5341 words/s, in_qsize 0, out_qsize 0\n",
      "2016-09-01 14:39:18,821 : INFO : PROGRESS: at 58.63% examples, 5341 words/s, in_qsize 0, out_qsize 0\n",
      "2016-09-01 14:39:49,270 : INFO : PROGRESS: at 58.74% examples, 5342 words/s, in_qsize 0, out_qsize 0\n",
      "2016-09-01 14:40:19,489 : INFO : PROGRESS: at 58.84% examples, 5343 words/s, in_qsize 0, out_qsize 2\n",
      "2016-09-01 14:40:49,957 : INFO : PROGRESS: at 58.94% examples, 5343 words/s, in_qsize 1, out_qsize 0\n",
      "2016-09-01 14:41:20,755 : INFO : PROGRESS: at 59.02% examples, 5343 words/s, in_qsize 0, out_qsize 1\n",
      "2016-09-01 14:41:50,702 : INFO : PROGRESS: at 59.13% examples, 5343 words/s, in_qsize 0, out_qsize 0\n",
      "2016-09-01 14:42:21,355 : INFO : PROGRESS: at 59.25% examples, 5345 words/s, in_qsize 0, out_qsize 0\n",
      "2016-09-01 14:42:51,621 : INFO : PROGRESS: at 59.35% examples, 5345 words/s, in_qsize 0, out_qsize 0\n",
      "2016-09-01 14:43:21,754 : INFO : PROGRESS: at 59.46% examples, 5345 words/s, in_qsize 0, out_qsize 0\n",
      "2016-09-01 14:43:52,732 : INFO : PROGRESS: at 59.56% examples, 5343 words/s, in_qsize 0, out_qsize 0\n",
      "2016-09-01 14:44:23,365 : INFO : PROGRESS: at 59.66% examples, 5343 words/s, in_qsize 0, out_qsize 0\n",
      "2016-09-01 14:44:53,529 : INFO : PROGRESS: at 59.76% examples, 5342 words/s, in_qsize 0, out_qsize 0\n",
      "2016-09-01 14:45:23,626 : INFO : PROGRESS: at 59.86% examples, 5344 words/s, in_qsize 0, out_qsize 0\n",
      "2016-09-01 14:45:53,681 : INFO : PROGRESS: at 59.96% examples, 5343 words/s, in_qsize 0, out_qsize 0\n",
      "2016-09-01 14:46:23,928 : INFO : PROGRESS: at 60.06% examples, 5344 words/s, in_qsize 0, out_qsize 0\n",
      "2016-09-01 14:46:55,185 : INFO : PROGRESS: at 60.17% examples, 5343 words/s, in_qsize 0, out_qsize 0\n",
      "2016-09-01 14:47:25,227 : INFO : PROGRESS: at 60.26% examples, 5344 words/s, in_qsize 0, out_qsize 0\n",
      "2016-09-01 14:47:55,318 : INFO : PROGRESS: at 60.37% examples, 5345 words/s, in_qsize 0, out_qsize 0\n",
      "2016-09-01 14:48:25,634 : INFO : PROGRESS: at 60.47% examples, 5346 words/s, in_qsize 0, out_qsize 0\n",
      "2016-09-01 14:48:57,364 : INFO : PROGRESS: at 60.57% examples, 5345 words/s, in_qsize 0, out_qsize 0\n",
      "2016-09-01 14:49:27,415 : INFO : PROGRESS: at 60.67% examples, 5345 words/s, in_qsize 0, out_qsize 0\n",
      "2016-09-01 14:49:57,555 : INFO : PROGRESS: at 60.76% examples, 5346 words/s, in_qsize 0, out_qsize 0\n",
      "2016-09-01 14:50:27,572 : INFO : PROGRESS: at 60.86% examples, 5347 words/s, in_qsize 0, out_qsize 0\n",
      "2016-09-01 14:50:59,559 : INFO : PROGRESS: at 60.95% examples, 5346 words/s, in_qsize 0, out_qsize 0\n",
      "2016-09-01 14:51:29,739 : INFO : PROGRESS: at 61.05% examples, 5347 words/s, in_qsize 0, out_qsize 0\n",
      "2016-09-01 14:52:00,710 : INFO : PROGRESS: at 61.17% examples, 5347 words/s, in_qsize 0, out_qsize 0\n",
      "2016-09-01 14:52:30,848 : INFO : PROGRESS: at 61.27% examples, 5346 words/s, in_qsize 0, out_qsize 0\n",
      "2016-09-01 14:53:01,417 : INFO : PROGRESS: at 61.37% examples, 5346 words/s, in_qsize 0, out_qsize 0\n",
      "2016-09-01 14:53:31,428 : INFO : PROGRESS: at 61.46% examples, 5346 words/s, in_qsize 0, out_qsize 0\n",
      "2016-09-01 14:54:01,582 : INFO : PROGRESS: at 61.56% examples, 5346 words/s, in_qsize 0, out_qsize 0\n",
      "2016-09-01 14:54:32,848 : INFO : PROGRESS: at 61.67% examples, 5345 words/s, in_qsize 0, out_qsize 0\n",
      "2016-09-01 14:55:03,782 : INFO : PROGRESS: at 61.76% examples, 5344 words/s, in_qsize 0, out_qsize 0\n",
      "2016-09-01 14:55:34,633 : INFO : PROGRESS: at 61.86% examples, 5344 words/s, in_qsize 0, out_qsize 0\n",
      "2016-09-01 14:56:05,925 : INFO : PROGRESS: at 61.96% examples, 5343 words/s, in_qsize 0, out_qsize 0\n",
      "2016-09-01 14:56:36,775 : INFO : PROGRESS: at 62.08% examples, 5343 words/s, in_qsize 0, out_qsize 0\n",
      "2016-09-01 14:57:06,924 : INFO : PROGRESS: at 62.18% examples, 5343 words/s, in_qsize 0, out_qsize 0\n",
      "2016-09-01 14:57:37,250 : INFO : PROGRESS: at 62.28% examples, 5343 words/s, in_qsize 0, out_qsize 0\n",
      "2016-09-01 14:58:08,376 : INFO : PROGRESS: at 62.40% examples, 5342 words/s, in_qsize 0, out_qsize 0\n",
      "2016-09-01 14:58:38,535 : INFO : PROGRESS: at 62.51% examples, 5341 words/s, in_qsize 0, out_qsize 0\n",
      "2016-09-01 14:59:08,751 : INFO : PROGRESS: at 62.60% examples, 5342 words/s, in_qsize 0, out_qsize 0\n",
      "2016-09-01 14:59:40,162 : INFO : PROGRESS: at 62.70% examples, 5342 words/s, in_qsize 0, out_qsize 0\n",
      "2016-09-01 15:00:10,948 : INFO : PROGRESS: at 62.80% examples, 5344 words/s, in_qsize 0, out_qsize 0\n",
      "2016-09-01 15:00:41,871 : INFO : PROGRESS: at 62.90% examples, 5343 words/s, in_qsize 0, out_qsize 0\n",
      "2016-09-01 15:01:12,024 : INFO : PROGRESS: at 63.00% examples, 5344 words/s, in_qsize 0, out_qsize 0\n",
      "2016-09-01 15:01:42,519 : INFO : PROGRESS: at 63.09% examples, 5343 words/s, in_qsize 0, out_qsize 0\n",
      "2016-09-01 15:02:12,594 : INFO : PROGRESS: at 63.18% examples, 5343 words/s, in_qsize 0, out_qsize 0\n",
      "2016-09-01 15:02:43,610 : INFO : PROGRESS: at 63.29% examples, 5343 words/s, in_qsize 0, out_qsize 0\n",
      "2016-09-01 15:03:13,900 : INFO : PROGRESS: at 63.40% examples, 5343 words/s, in_qsize 0, out_qsize 0\n",
      "2016-09-01 15:03:45,421 : INFO : PROGRESS: at 63.50% examples, 5344 words/s, in_qsize 0, out_qsize 1\n",
      "2016-09-01 15:04:15,476 : INFO : PROGRESS: at 63.59% examples, 5344 words/s, in_qsize 0, out_qsize 0\n",
      "2016-09-01 15:04:46,754 : INFO : PROGRESS: at 63.69% examples, 5342 words/s, in_qsize 0, out_qsize 0\n",
      "2016-09-01 15:05:17,052 : INFO : PROGRESS: at 63.79% examples, 5344 words/s, in_qsize 0, out_qsize 0\n",
      "2016-09-01 15:05:47,998 : INFO : PROGRESS: at 63.88% examples, 5342 words/s, in_qsize 0, out_qsize 1\n",
      "2016-09-01 15:06:18,733 : INFO : PROGRESS: at 63.99% examples, 5344 words/s, in_qsize 0, out_qsize 0\n",
      "2016-09-01 15:06:48,848 : INFO : PROGRESS: at 64.10% examples, 5344 words/s, in_qsize 0, out_qsize 0\n",
      "2016-09-01 15:07:19,161 : INFO : PROGRESS: at 64.20% examples, 5345 words/s, in_qsize 0, out_qsize 0\n",
      "2016-09-01 15:07:49,826 : INFO : PROGRESS: at 64.31% examples, 5347 words/s, in_qsize 0, out_qsize 0\n",
      "2016-09-01 15:08:20,490 : INFO : PROGRESS: at 64.41% examples, 5347 words/s, in_qsize 0, out_qsize 0\n",
      "2016-09-01 15:08:50,636 : INFO : PROGRESS: at 64.51% examples, 5347 words/s, in_qsize 0, out_qsize 0\n",
      "2016-09-01 15:09:21,594 : INFO : PROGRESS: at 64.61% examples, 5347 words/s, in_qsize 1, out_qsize 0\n",
      "2016-09-01 15:09:52,515 : INFO : PROGRESS: at 64.70% examples, 5347 words/s, in_qsize 0, out_qsize 0\n",
      "2016-09-01 15:10:22,875 : INFO : PROGRESS: at 64.80% examples, 5347 words/s, in_qsize 0, out_qsize 1\n",
      "2016-09-01 15:10:53,143 : INFO : PROGRESS: at 64.89% examples, 5347 words/s, in_qsize 0, out_qsize 0\n",
      "2016-09-01 15:11:23,409 : INFO : PROGRESS: at 64.99% examples, 5348 words/s, in_qsize 0, out_qsize 0\n",
      "2016-09-01 15:11:53,971 : INFO : PROGRESS: at 65.10% examples, 5348 words/s, in_qsize 0, out_qsize 0\n",
      "2016-09-01 15:12:23,972 : INFO : PROGRESS: at 65.20% examples, 5348 words/s, in_qsize 1, out_qsize 0\n",
      "2016-09-01 15:12:54,488 : INFO : PROGRESS: at 65.28% examples, 5348 words/s, in_qsize 0, out_qsize 0\n",
      "2016-09-01 15:13:24,916 : INFO : PROGRESS: at 65.39% examples, 5347 words/s, in_qsize 0, out_qsize 0\n",
      "2016-09-01 15:13:56,098 : INFO : PROGRESS: at 65.49% examples, 5349 words/s, in_qsize 0, out_qsize 0\n",
      "2016-09-01 15:14:28,338 : INFO : PROGRESS: at 65.59% examples, 5347 words/s, in_qsize 0, out_qsize 0\n",
      "2016-09-01 15:14:58,448 : INFO : PROGRESS: at 65.69% examples, 5347 words/s, in_qsize 0, out_qsize 0\n",
      "2016-09-01 15:15:29,027 : INFO : PROGRESS: at 65.80% examples, 5348 words/s, in_qsize 0, out_qsize 0\n",
      "2016-09-01 15:15:59,929 : INFO : PROGRESS: at 65.90% examples, 5348 words/s, in_qsize 0, out_qsize 0\n",
      "2016-09-01 15:16:30,143 : INFO : PROGRESS: at 66.00% examples, 5348 words/s, in_qsize 0, out_qsize 0\n",
      "2016-09-01 15:17:00,195 : INFO : PROGRESS: at 66.11% examples, 5349 words/s, in_qsize 0, out_qsize 0\n",
      "2016-09-01 15:17:30,631 : INFO : PROGRESS: at 66.20% examples, 5348 words/s, in_qsize 0, out_qsize 0\n",
      "2016-09-01 15:18:01,153 : INFO : PROGRESS: at 66.30% examples, 5350 words/s, in_qsize 0, out_qsize 0\n",
      "2016-09-01 15:18:31,538 : INFO : PROGRESS: at 66.41% examples, 5351 words/s, in_qsize 0, out_qsize 0\n",
      "2016-09-01 15:19:02,641 : INFO : PROGRESS: at 66.51% examples, 5351 words/s, in_qsize 0, out_qsize 0\n",
      "2016-09-01 15:19:33,032 : INFO : PROGRESS: at 66.62% examples, 5351 words/s, in_qsize 0, out_qsize 0\n",
      "2016-09-01 15:20:03,522 : INFO : PROGRESS: at 66.73% examples, 5350 words/s, in_qsize 0, out_qsize 0\n",
      "2016-09-01 15:20:33,891 : INFO : PROGRESS: at 66.84% examples, 5351 words/s, in_qsize 0, out_qsize 0\n",
      "2016-09-01 15:21:05,260 : INFO : PROGRESS: at 66.94% examples, 5351 words/s, in_qsize 0, out_qsize 0\n",
      "2016-09-01 15:21:35,684 : INFO : PROGRESS: at 67.06% examples, 5353 words/s, in_qsize 0, out_qsize 0\n",
      "2016-09-01 15:22:05,851 : INFO : PROGRESS: at 67.16% examples, 5353 words/s, in_qsize 0, out_qsize 0\n",
      "2016-09-01 15:22:36,109 : INFO : PROGRESS: at 67.26% examples, 5354 words/s, in_qsize 0, out_qsize 0\n",
      "2016-09-01 15:23:06,601 : INFO : PROGRESS: at 67.38% examples, 5355 words/s, in_qsize 0, out_qsize 0\n",
      "2016-09-01 15:23:37,093 : INFO : PROGRESS: at 67.49% examples, 5356 words/s, in_qsize 0, out_qsize 0\n",
      "2016-09-01 15:24:07,925 : INFO : PROGRESS: at 67.58% examples, 5356 words/s, in_qsize 0, out_qsize 0\n",
      "2016-09-01 15:24:38,137 : INFO : PROGRESS: at 67.70% examples, 5358 words/s, in_qsize 0, out_qsize 0\n",
      "2016-09-01 15:25:09,391 : INFO : PROGRESS: at 67.81% examples, 5358 words/s, in_qsize 0, out_qsize 0\n",
      "2016-09-01 15:25:39,406 : INFO : PROGRESS: at 67.91% examples, 5358 words/s, in_qsize 0, out_qsize 0\n",
      "2016-09-01 15:26:10,844 : INFO : PROGRESS: at 68.01% examples, 5357 words/s, in_qsize 0, out_qsize 0\n",
      "2016-09-01 15:26:41,718 : INFO : PROGRESS: at 68.12% examples, 5358 words/s, in_qsize 0, out_qsize 0\n",
      "2016-09-01 15:27:12,838 : INFO : PROGRESS: at 68.22% examples, 5358 words/s, in_qsize 0, out_qsize 0\n",
      "2016-09-01 15:27:43,798 : INFO : PROGRESS: at 68.31% examples, 5356 words/s, in_qsize 0, out_qsize 0\n",
      "2016-09-01 15:28:14,226 : INFO : PROGRESS: at 68.43% examples, 5357 words/s, in_qsize 0, out_qsize 0\n",
      "2016-09-01 15:28:44,384 : INFO : PROGRESS: at 68.53% examples, 5357 words/s, in_qsize 0, out_qsize 0\n",
      "2016-09-01 15:29:14,766 : INFO : PROGRESS: at 68.63% examples, 5357 words/s, in_qsize 0, out_qsize 0\n",
      "2016-09-01 15:29:44,799 : INFO : PROGRESS: at 68.73% examples, 5356 words/s, in_qsize 0, out_qsize 0\n",
      "2016-09-01 15:30:14,912 : INFO : PROGRESS: at 68.83% examples, 5357 words/s, in_qsize 0, out_qsize 0\n",
      "2016-09-01 15:30:45,793 : INFO : PROGRESS: at 68.93% examples, 5358 words/s, in_qsize 0, out_qsize 0\n",
      "2016-09-01 15:31:15,838 : INFO : PROGRESS: at 69.04% examples, 5359 words/s, in_qsize 0, out_qsize 0\n",
      "2016-09-01 15:31:45,843 : INFO : PROGRESS: at 69.13% examples, 5360 words/s, in_qsize 0, out_qsize 0\n",
      "2016-09-01 15:32:16,996 : INFO : PROGRESS: at 69.23% examples, 5360 words/s, in_qsize 0, out_qsize 0\n",
      "2016-09-01 15:32:47,865 : INFO : PROGRESS: at 69.34% examples, 5360 words/s, in_qsize 0, out_qsize 0\n",
      "2016-09-01 15:33:18,601 : INFO : PROGRESS: at 69.44% examples, 5359 words/s, in_qsize 0, out_qsize 0\n",
      "2016-09-01 15:33:49,057 : INFO : PROGRESS: at 69.53% examples, 5360 words/s, in_qsize 0, out_qsize 0\n",
      "2016-09-01 15:34:19,585 : INFO : PROGRESS: at 69.62% examples, 5359 words/s, in_qsize 0, out_qsize 0\n",
      "2016-09-01 15:34:49,805 : INFO : PROGRESS: at 69.72% examples, 5360 words/s, in_qsize 0, out_qsize 0\n",
      "2016-09-01 15:35:20,315 : INFO : PROGRESS: at 69.82% examples, 5360 words/s, in_qsize 0, out_qsize 0\n",
      "2016-09-01 15:35:50,751 : INFO : PROGRESS: at 69.91% examples, 5358 words/s, in_qsize 0, out_qsize 0\n",
      "2016-09-01 15:36:21,316 : INFO : PROGRESS: at 70.01% examples, 5358 words/s, in_qsize 0, out_qsize 0\n",
      "2016-09-01 15:36:51,917 : INFO : PROGRESS: at 70.11% examples, 5359 words/s, in_qsize 0, out_qsize 0\n",
      "2016-09-01 15:37:22,301 : INFO : PROGRESS: at 70.22% examples, 5359 words/s, in_qsize 0, out_qsize 0\n",
      "2016-09-01 15:37:52,751 : INFO : PROGRESS: at 70.31% examples, 5358 words/s, in_qsize 0, out_qsize 0\n",
      "2016-09-01 15:38:23,051 : INFO : PROGRESS: at 70.42% examples, 5360 words/s, in_qsize 0, out_qsize 0\n",
      "2016-09-01 15:38:53,115 : INFO : PROGRESS: at 70.52% examples, 5363 words/s, in_qsize 0, out_qsize 0\n",
      "2016-09-01 15:39:23,132 : INFO : PROGRESS: at 70.61% examples, 5361 words/s, in_qsize 0, out_qsize 0\n",
      "2016-09-01 15:39:56,262 : INFO : PROGRESS: at 70.71% examples, 5360 words/s, in_qsize 0, out_qsize 0\n",
      "2016-09-01 15:40:26,298 : INFO : PROGRESS: at 70.81% examples, 5361 words/s, in_qsize 0, out_qsize 0\n",
      "2016-09-01 15:40:56,647 : INFO : PROGRESS: at 70.91% examples, 5361 words/s, in_qsize 0, out_qsize 0\n",
      "2016-09-01 15:41:27,029 : INFO : PROGRESS: at 70.99% examples, 5360 words/s, in_qsize 0, out_qsize 0\n",
      "2016-09-01 15:41:57,780 : INFO : PROGRESS: at 71.09% examples, 5361 words/s, in_qsize 0, out_qsize 0\n",
      "2016-09-01 15:42:27,824 : INFO : PROGRESS: at 71.18% examples, 5362 words/s, in_qsize 0, out_qsize 0\n",
      "2016-09-01 15:42:57,894 : INFO : PROGRESS: at 71.27% examples, 5362 words/s, in_qsize 0, out_qsize 0\n",
      "2016-09-01 15:43:28,291 : INFO : PROGRESS: at 71.38% examples, 5362 words/s, in_qsize 1, out_qsize 0\n",
      "2016-09-01 15:43:58,845 : INFO : PROGRESS: at 71.47% examples, 5362 words/s, in_qsize 0, out_qsize 0\n",
      "2016-09-01 15:44:29,054 : INFO : PROGRESS: at 71.57% examples, 5363 words/s, in_qsize 0, out_qsize 0\n",
      "2016-09-01 15:44:59,494 : INFO : PROGRESS: at 71.67% examples, 5362 words/s, in_qsize 0, out_qsize 1\n",
      "2016-09-01 15:45:29,625 : INFO : PROGRESS: at 71.77% examples, 5362 words/s, in_qsize 0, out_qsize 0\n",
      "2016-09-01 15:45:59,944 : INFO : PROGRESS: at 71.88% examples, 5362 words/s, in_qsize 0, out_qsize 0\n",
      "2016-09-01 15:46:30,298 : INFO : PROGRESS: at 71.98% examples, 5362 words/s, in_qsize 0, out_qsize 1\n",
      "2016-09-01 15:47:00,347 : INFO : PROGRESS: at 72.07% examples, 5362 words/s, in_qsize 0, out_qsize 0\n",
      "2016-09-01 15:47:30,404 : INFO : PROGRESS: at 72.15% examples, 5362 words/s, in_qsize 0, out_qsize 0\n",
      "2016-09-01 15:48:00,735 : INFO : PROGRESS: at 72.26% examples, 5362 words/s, in_qsize 0, out_qsize 0\n",
      "2016-09-01 15:48:31,112 : INFO : PROGRESS: at 72.36% examples, 5362 words/s, in_qsize 0, out_qsize 0\n",
      "2016-09-01 15:49:02,188 : INFO : PROGRESS: at 72.48% examples, 5362 words/s, in_qsize 0, out_qsize 0\n",
      "2016-09-01 15:49:32,213 : INFO : PROGRESS: at 72.59% examples, 5363 words/s, in_qsize 0, out_qsize 0\n",
      "2016-09-01 15:50:02,265 : INFO : PROGRESS: at 72.70% examples, 5363 words/s, in_qsize 0, out_qsize 0\n",
      "2016-09-01 15:50:32,835 : INFO : PROGRESS: at 72.79% examples, 5362 words/s, in_qsize 0, out_qsize 0\n",
      "2016-09-01 15:51:03,557 : INFO : PROGRESS: at 72.91% examples, 5362 words/s, in_qsize 0, out_qsize 0\n",
      "2016-09-01 15:51:33,746 : INFO : PROGRESS: at 73.03% examples, 5362 words/s, in_qsize 0, out_qsize 0\n",
      "2016-09-01 15:52:04,026 : INFO : PROGRESS: at 73.12% examples, 5361 words/s, in_qsize 0, out_qsize 0\n",
      "2016-09-01 15:52:34,206 : INFO : PROGRESS: at 73.21% examples, 5361 words/s, in_qsize 0, out_qsize 0\n",
      "2016-09-01 15:53:04,777 : INFO : PROGRESS: at 73.32% examples, 5359 words/s, in_qsize 0, out_qsize 0\n",
      "2016-09-01 15:53:34,973 : INFO : PROGRESS: at 73.42% examples, 5359 words/s, in_qsize 0, out_qsize 0\n",
      "2016-09-01 15:54:06,136 : INFO : PROGRESS: at 73.53% examples, 5359 words/s, in_qsize 0, out_qsize 0\n",
      "2016-09-01 15:54:36,267 : INFO : PROGRESS: at 73.64% examples, 5360 words/s, in_qsize 0, out_qsize 0\n",
      "2016-09-01 15:55:06,269 : INFO : PROGRESS: at 73.74% examples, 5361 words/s, in_qsize 0, out_qsize 1\n",
      "2016-09-01 15:55:36,427 : INFO : PROGRESS: at 73.85% examples, 5361 words/s, in_qsize 0, out_qsize 0\n",
      "2016-09-01 15:56:06,982 : INFO : PROGRESS: at 73.93% examples, 5361 words/s, in_qsize 0, out_qsize 1\n",
      "2016-09-01 15:56:37,084 : INFO : PROGRESS: at 74.04% examples, 5361 words/s, in_qsize 0, out_qsize 0\n",
      "2016-09-01 15:57:07,756 : INFO : PROGRESS: at 74.13% examples, 5361 words/s, in_qsize 0, out_qsize 0\n",
      "2016-09-01 15:57:38,316 : INFO : PROGRESS: at 74.24% examples, 5362 words/s, in_qsize 0, out_qsize 0\n",
      "2016-09-01 15:58:08,792 : INFO : PROGRESS: at 74.34% examples, 5362 words/s, in_qsize 0, out_qsize 0\n",
      "2016-09-01 15:58:39,188 : INFO : PROGRESS: at 74.45% examples, 5363 words/s, in_qsize 0, out_qsize 0\n",
      "2016-09-01 15:59:09,280 : INFO : PROGRESS: at 74.56% examples, 5363 words/s, in_qsize 0, out_qsize 0\n",
      "2016-09-01 15:59:39,895 : INFO : PROGRESS: at 74.67% examples, 5364 words/s, in_qsize 0, out_qsize 0\n",
      "2016-09-01 16:00:10,119 : INFO : PROGRESS: at 74.79% examples, 5364 words/s, in_qsize 0, out_qsize 0\n",
      "2016-09-01 16:00:40,355 : INFO : PROGRESS: at 74.88% examples, 5365 words/s, in_qsize 0, out_qsize 0\n",
      "2016-09-01 16:01:10,985 : INFO : PROGRESS: at 74.98% examples, 5365 words/s, in_qsize 0, out_qsize 0\n",
      "2016-09-01 16:01:41,454 : INFO : PROGRESS: at 75.07% examples, 5365 words/s, in_qsize 0, out_qsize 0\n",
      "2016-09-01 16:02:12,436 : INFO : PROGRESS: at 75.18% examples, 5367 words/s, in_qsize 0, out_qsize 0\n",
      "2016-09-01 16:02:42,781 : INFO : PROGRESS: at 75.29% examples, 5366 words/s, in_qsize 0, out_qsize 0\n",
      "2016-09-01 16:03:13,480 : INFO : PROGRESS: at 75.39% examples, 5366 words/s, in_qsize 0, out_qsize 0\n",
      "2016-09-01 16:03:43,890 : INFO : PROGRESS: at 75.49% examples, 5366 words/s, in_qsize 0, out_qsize 0\n",
      "2016-09-01 16:04:13,972 : INFO : PROGRESS: at 75.59% examples, 5366 words/s, in_qsize 0, out_qsize 0\n",
      "2016-09-01 16:04:45,257 : INFO : PROGRESS: at 75.68% examples, 5364 words/s, in_qsize 0, out_qsize 0\n",
      "2016-09-01 16:05:15,343 : INFO : PROGRESS: at 75.78% examples, 5364 words/s, in_qsize 0, out_qsize 0\n",
      "2016-09-01 16:05:46,173 : INFO : PROGRESS: at 75.88% examples, 5364 words/s, in_qsize 0, out_qsize 0\n",
      "2016-09-01 16:06:16,345 : INFO : PROGRESS: at 75.98% examples, 5364 words/s, in_qsize 0, out_qsize 0\n",
      "2016-09-01 16:06:46,736 : INFO : PROGRESS: at 76.07% examples, 5364 words/s, in_qsize 0, out_qsize 2\n",
      "2016-09-01 16:07:16,701 : INFO : PROGRESS: at 76.17% examples, 5365 words/s, in_qsize 0, out_qsize 0\n",
      "2016-09-01 16:07:46,957 : INFO : PROGRESS: at 76.26% examples, 5365 words/s, in_qsize 0, out_qsize 0\n",
      "2016-09-01 16:08:17,697 : INFO : PROGRESS: at 76.37% examples, 5365 words/s, in_qsize 0, out_qsize 0\n",
      "2016-09-01 16:08:48,022 : INFO : PROGRESS: at 76.46% examples, 5365 words/s, in_qsize 0, out_qsize 0\n",
      "2016-09-01 16:09:18,667 : INFO : PROGRESS: at 76.59% examples, 5365 words/s, in_qsize 0, out_qsize 0\n",
      "2016-09-01 16:09:49,143 : INFO : PROGRESS: at 76.69% examples, 5366 words/s, in_qsize 0, out_qsize 0\n",
      "2016-09-01 16:10:19,755 : INFO : PROGRESS: at 76.77% examples, 5366 words/s, in_qsize 1, out_qsize 0\n",
      "2016-09-01 16:10:50,930 : INFO : PROGRESS: at 76.88% examples, 5367 words/s, in_qsize 0, out_qsize 0\n",
      "2016-09-01 16:11:21,062 : INFO : PROGRESS: at 76.99% examples, 5367 words/s, in_qsize 0, out_qsize 0\n",
      "2016-09-01 16:11:51,723 : INFO : PROGRESS: at 77.09% examples, 5365 words/s, in_qsize 0, out_qsize 0\n",
      "2016-09-01 16:12:22,575 : INFO : PROGRESS: at 77.20% examples, 5365 words/s, in_qsize 0, out_qsize 0\n",
      "2016-09-01 16:12:53,072 : INFO : PROGRESS: at 77.30% examples, 5364 words/s, in_qsize 0, out_qsize 0\n",
      "2016-09-01 16:13:23,645 : INFO : PROGRESS: at 77.41% examples, 5365 words/s, in_qsize 0, out_qsize 0\n",
      "2016-09-01 16:13:53,734 : INFO : PROGRESS: at 77.50% examples, 5365 words/s, in_qsize 0, out_qsize 0\n",
      "2016-09-01 16:14:24,258 : INFO : PROGRESS: at 77.61% examples, 5365 words/s, in_qsize 1, out_qsize 0\n",
      "2016-09-01 16:14:54,468 : INFO : PROGRESS: at 77.71% examples, 5366 words/s, in_qsize 0, out_qsize 0\n",
      "2016-09-01 16:15:24,629 : INFO : PROGRESS: at 77.82% examples, 5365 words/s, in_qsize 0, out_qsize 0\n",
      "2016-09-01 16:15:55,061 : INFO : PROGRESS: at 77.92% examples, 5366 words/s, in_qsize 0, out_qsize 0\n",
      "2016-09-01 16:16:25,708 : INFO : PROGRESS: at 78.02% examples, 5366 words/s, in_qsize 0, out_qsize 0\n",
      "2016-09-01 16:16:55,749 : INFO : PROGRESS: at 78.13% examples, 5367 words/s, in_qsize 0, out_qsize 0\n",
      "2016-09-01 16:17:26,151 : INFO : PROGRESS: at 78.23% examples, 5366 words/s, in_qsize 0, out_qsize 0\n",
      "2016-09-01 16:17:56,242 : INFO : PROGRESS: at 78.33% examples, 5365 words/s, in_qsize 0, out_qsize 0\n",
      "2016-09-01 16:18:27,458 : INFO : PROGRESS: at 78.44% examples, 5365 words/s, in_qsize 0, out_qsize 0\n",
      "2016-09-01 16:18:57,518 : INFO : PROGRESS: at 78.54% examples, 5364 words/s, in_qsize 0, out_qsize 0\n",
      "2016-09-01 16:19:27,639 : INFO : PROGRESS: at 78.64% examples, 5365 words/s, in_qsize 0, out_qsize 0\n",
      "2016-09-01 16:19:57,901 : INFO : PROGRESS: at 78.74% examples, 5365 words/s, in_qsize 0, out_qsize 0\n",
      "2016-09-01 16:20:28,002 : INFO : PROGRESS: at 78.84% examples, 5364 words/s, in_qsize 0, out_qsize 0\n",
      "2016-09-01 16:20:58,167 : INFO : PROGRESS: at 78.93% examples, 5363 words/s, in_qsize 0, out_qsize 0\n",
      "2016-09-01 16:21:29,340 : INFO : PROGRESS: at 79.02% examples, 5363 words/s, in_qsize 0, out_qsize 0\n",
      "2016-09-01 16:22:01,084 : INFO : PROGRESS: at 79.12% examples, 5362 words/s, in_qsize 0, out_qsize 0\n",
      "2016-09-01 16:22:31,416 : INFO : PROGRESS: at 79.21% examples, 5361 words/s, in_qsize 0, out_qsize 0\n",
      "2016-09-01 16:23:02,290 : INFO : PROGRESS: at 79.31% examples, 5361 words/s, in_qsize 0, out_qsize 0\n",
      "2016-09-01 16:23:32,541 : INFO : PROGRESS: at 79.41% examples, 5361 words/s, in_qsize 0, out_qsize 0\n",
      "2016-09-01 16:24:03,021 : INFO : PROGRESS: at 79.52% examples, 5362 words/s, in_qsize 0, out_qsize 0\n",
      "2016-09-01 16:24:33,138 : INFO : PROGRESS: at 79.61% examples, 5362 words/s, in_qsize 0, out_qsize 0\n",
      "2016-09-01 16:25:03,258 : INFO : PROGRESS: at 79.71% examples, 5361 words/s, in_qsize 0, out_qsize 0\n",
      "2016-09-01 16:25:36,582 : INFO : PROGRESS: at 79.81% examples, 5362 words/s, in_qsize 1, out_qsize 0\n",
      "2016-09-01 16:26:06,987 : INFO : PROGRESS: at 79.90% examples, 5362 words/s, in_qsize 0, out_qsize 0\n",
      "2016-09-01 16:26:37,802 : INFO : PROGRESS: at 79.99% examples, 5363 words/s, in_qsize 0, out_qsize 0\n",
      "2016-09-01 16:27:08,629 : INFO : PROGRESS: at 80.09% examples, 5362 words/s, in_qsize 0, out_qsize 1\n",
      "2016-09-01 16:27:38,661 : INFO : PROGRESS: at 80.19% examples, 5363 words/s, in_qsize 0, out_qsize 0\n",
      "2016-09-01 16:28:08,813 : INFO : PROGRESS: at 80.29% examples, 5364 words/s, in_qsize 0, out_qsize 0\n",
      "2016-09-01 16:28:39,038 : INFO : PROGRESS: at 80.40% examples, 5366 words/s, in_qsize 0, out_qsize 0\n",
      "2016-09-01 16:29:09,068 : INFO : PROGRESS: at 80.51% examples, 5366 words/s, in_qsize 0, out_qsize 0\n",
      "2016-09-01 16:29:39,244 : INFO : PROGRESS: at 80.62% examples, 5367 words/s, in_qsize 0, out_qsize 0\n",
      "2016-09-01 16:30:09,326 : INFO : PROGRESS: at 80.72% examples, 5368 words/s, in_qsize 0, out_qsize 0\n",
      "2016-09-01 16:30:39,592 : INFO : PROGRESS: at 80.83% examples, 5368 words/s, in_qsize 0, out_qsize 0\n",
      "2016-09-01 16:31:10,151 : INFO : PROGRESS: at 80.93% examples, 5368 words/s, in_qsize 0, out_qsize 0\n",
      "2016-09-01 16:31:40,312 : INFO : PROGRESS: at 81.02% examples, 5368 words/s, in_qsize 0, out_qsize 0\n",
      "2016-09-01 16:32:10,347 : INFO : PROGRESS: at 81.12% examples, 5367 words/s, in_qsize 0, out_qsize 0\n",
      "2016-09-01 16:32:40,680 : INFO : PROGRESS: at 81.23% examples, 5367 words/s, in_qsize 0, out_qsize 0\n",
      "2016-09-01 16:33:11,046 : INFO : PROGRESS: at 81.32% examples, 5366 words/s, in_qsize 0, out_qsize 0\n",
      "2016-09-01 16:33:41,204 : INFO : PROGRESS: at 81.42% examples, 5366 words/s, in_qsize 0, out_qsize 0\n",
      "2016-09-01 16:34:11,714 : INFO : PROGRESS: at 81.51% examples, 5364 words/s, in_qsize 0, out_qsize 0\n",
      "2016-09-01 16:34:41,646 : INFO : PROGRESS: at 81.61% examples, 5365 words/s, in_qsize 0, out_qsize 0\n",
      "2016-09-01 16:35:12,456 : INFO : PROGRESS: at 81.72% examples, 5366 words/s, in_qsize 0, out_qsize 0\n",
      "2016-09-01 16:35:42,781 : INFO : PROGRESS: at 81.82% examples, 5366 words/s, in_qsize 0, out_qsize 0\n",
      "2016-09-01 16:36:13,211 : INFO : PROGRESS: at 81.91% examples, 5366 words/s, in_qsize 0, out_qsize 0\n",
      "2016-09-01 16:36:44,047 : INFO : PROGRESS: at 82.02% examples, 5365 words/s, in_qsize 0, out_qsize 0\n",
      "2016-09-01 16:37:15,326 : INFO : PROGRESS: at 82.12% examples, 5366 words/s, in_qsize 0, out_qsize 0\n",
      "2016-09-01 16:37:45,557 : INFO : PROGRESS: at 82.22% examples, 5366 words/s, in_qsize 0, out_qsize 0\n",
      "2016-09-01 16:38:15,761 : INFO : PROGRESS: at 82.32% examples, 5364 words/s, in_qsize 0, out_qsize 0\n",
      "2016-09-01 16:38:45,977 : INFO : PROGRESS: at 82.41% examples, 5364 words/s, in_qsize 0, out_qsize 0\n",
      "2016-09-01 16:39:16,720 : INFO : PROGRESS: at 82.53% examples, 5366 words/s, in_qsize 0, out_qsize 0\n",
      "2016-09-01 16:39:46,875 : INFO : PROGRESS: at 82.63% examples, 5364 words/s, in_qsize 0, out_qsize 0\n",
      "2016-09-01 16:40:17,323 : INFO : PROGRESS: at 82.73% examples, 5365 words/s, in_qsize 0, out_qsize 0\n",
      "2016-09-01 16:40:47,793 : INFO : PROGRESS: at 82.82% examples, 5364 words/s, in_qsize 0, out_qsize 0\n",
      "2016-09-01 16:41:18,172 : INFO : PROGRESS: at 82.91% examples, 5364 words/s, in_qsize 0, out_qsize 0\n",
      "2016-09-01 16:41:48,192 : INFO : PROGRESS: at 83.01% examples, 5363 words/s, in_qsize 0, out_qsize 0\n",
      "2016-09-01 16:42:18,367 : INFO : PROGRESS: at 83.11% examples, 5363 words/s, in_qsize 0, out_qsize 0\n",
      "2016-09-01 16:42:48,679 : INFO : PROGRESS: at 83.21% examples, 5362 words/s, in_qsize 0, out_qsize 0\n",
      "2016-09-01 16:43:18,826 : INFO : PROGRESS: at 83.30% examples, 5362 words/s, in_qsize 0, out_qsize 0\n",
      "2016-09-01 16:43:49,448 : INFO : PROGRESS: at 83.39% examples, 5363 words/s, in_qsize 0, out_qsize 0\n",
      "2016-09-01 16:44:19,494 : INFO : PROGRESS: at 83.50% examples, 5364 words/s, in_qsize 0, out_qsize 0\n",
      "2016-09-01 16:44:49,818 : INFO : PROGRESS: at 83.61% examples, 5364 words/s, in_qsize 0, out_qsize 0\n",
      "2016-09-01 16:45:20,472 : INFO : PROGRESS: at 83.71% examples, 5365 words/s, in_qsize 0, out_qsize 0\n",
      "2016-09-01 16:45:50,631 : INFO : PROGRESS: at 83.81% examples, 5365 words/s, in_qsize 0, out_qsize 0\n",
      "2016-09-01 16:46:21,179 : INFO : PROGRESS: at 83.91% examples, 5365 words/s, in_qsize 0, out_qsize 0\n",
      "2016-09-01 16:46:52,155 : INFO : PROGRESS: at 84.03% examples, 5365 words/s, in_qsize 0, out_qsize 1\n",
      "2016-09-01 16:47:22,644 : INFO : PROGRESS: at 84.14% examples, 5365 words/s, in_qsize 0, out_qsize 0\n",
      "2016-09-01 16:47:52,885 : INFO : PROGRESS: at 84.23% examples, 5364 words/s, in_qsize 0, out_qsize 0\n",
      "2016-09-01 16:48:23,185 : INFO : PROGRESS: at 84.32% examples, 5364 words/s, in_qsize 0, out_qsize 0\n",
      "2016-09-01 16:48:53,482 : INFO : PROGRESS: at 84.42% examples, 5364 words/s, in_qsize 0, out_qsize 0\n",
      "2016-09-01 16:49:24,034 : INFO : PROGRESS: at 84.52% examples, 5365 words/s, in_qsize 0, out_qsize 0\n",
      "2016-09-01 16:49:54,089 : INFO : PROGRESS: at 84.62% examples, 5365 words/s, in_qsize 0, out_qsize 1\n",
      "2016-09-01 16:50:24,289 : INFO : PROGRESS: at 84.71% examples, 5366 words/s, in_qsize 0, out_qsize 0\n",
      "2016-09-01 16:50:55,001 : INFO : PROGRESS: at 84.79% examples, 5366 words/s, in_qsize 0, out_qsize 0\n",
      "2016-09-01 16:51:25,293 : INFO : PROGRESS: at 84.89% examples, 5365 words/s, in_qsize 0, out_qsize 0\n",
      "2016-09-01 16:51:55,607 : INFO : PROGRESS: at 84.98% examples, 5365 words/s, in_qsize 0, out_qsize 0\n",
      "2016-09-01 16:52:25,781 : INFO : PROGRESS: at 85.09% examples, 5365 words/s, in_qsize 0, out_qsize 0\n",
      "2016-09-01 16:52:56,114 : INFO : PROGRESS: at 85.19% examples, 5365 words/s, in_qsize 0, out_qsize 0\n",
      "2016-09-01 16:53:26,646 : INFO : PROGRESS: at 85.30% examples, 5365 words/s, in_qsize 0, out_qsize 0\n",
      "2016-09-01 16:53:57,311 : INFO : PROGRESS: at 85.39% examples, 5365 words/s, in_qsize 0, out_qsize 0\n",
      "2016-09-01 16:54:27,899 : INFO : PROGRESS: at 85.49% examples, 5365 words/s, in_qsize 0, out_qsize 0\n",
      "2016-09-01 16:54:57,935 : INFO : PROGRESS: at 85.60% examples, 5365 words/s, in_qsize 0, out_qsize 0\n",
      "2016-09-01 16:55:28,245 : INFO : PROGRESS: at 85.71% examples, 5365 words/s, in_qsize 0, out_qsize 0\n",
      "2016-09-01 16:55:58,914 : INFO : PROGRESS: at 85.80% examples, 5364 words/s, in_qsize 0, out_qsize 0\n",
      "2016-09-01 16:56:29,027 : INFO : PROGRESS: at 85.88% examples, 5364 words/s, in_qsize 0, out_qsize 0\n",
      "2016-09-01 16:56:59,073 : INFO : PROGRESS: at 85.99% examples, 5365 words/s, in_qsize 0, out_qsize 0\n",
      "2016-09-01 16:57:29,270 : INFO : PROGRESS: at 86.08% examples, 5364 words/s, in_qsize 0, out_qsize 0\n",
      "2016-09-01 16:57:59,300 : INFO : PROGRESS: at 86.18% examples, 5364 words/s, in_qsize 0, out_qsize 0\n",
      "2016-09-01 16:58:29,531 : INFO : PROGRESS: at 86.30% examples, 5365 words/s, in_qsize 0, out_qsize 0\n",
      "2016-09-01 16:59:00,115 : INFO : PROGRESS: at 86.40% examples, 5366 words/s, in_qsize 0, out_qsize 0\n",
      "2016-09-01 16:59:31,927 : INFO : PROGRESS: at 86.51% examples, 5366 words/s, in_qsize 0, out_qsize 0\n",
      "2016-09-01 17:00:02,639 : INFO : PROGRESS: at 86.62% examples, 5365 words/s, in_qsize 0, out_qsize 0\n",
      "2016-09-01 17:00:32,677 : INFO : PROGRESS: at 86.73% examples, 5366 words/s, in_qsize 0, out_qsize 0\n",
      "2016-09-01 17:01:03,090 : INFO : PROGRESS: at 86.82% examples, 5367 words/s, in_qsize 0, out_qsize 0\n",
      "2016-09-01 17:01:33,332 : INFO : PROGRESS: at 86.92% examples, 5368 words/s, in_qsize 0, out_qsize 0\n",
      "2016-09-01 17:02:04,393 : INFO : PROGRESS: at 87.04% examples, 5369 words/s, in_qsize 0, out_qsize 0\n",
      "2016-09-01 17:02:34,792 : INFO : PROGRESS: at 87.15% examples, 5369 words/s, in_qsize 0, out_qsize 0\n",
      "2016-09-01 17:03:05,280 : INFO : PROGRESS: at 87.24% examples, 5369 words/s, in_qsize 0, out_qsize 0\n",
      "2016-09-01 17:03:35,352 : INFO : PROGRESS: at 87.34% examples, 5370 words/s, in_qsize 0, out_qsize 0\n",
      "2016-09-01 17:04:05,654 : INFO : PROGRESS: at 87.43% examples, 5370 words/s, in_qsize 0, out_qsize 0\n",
      "2016-09-01 17:04:35,707 : INFO : PROGRESS: at 87.53% examples, 5371 words/s, in_qsize 0, out_qsize 0\n",
      "2016-09-01 17:05:06,740 : INFO : PROGRESS: at 87.64% examples, 5371 words/s, in_qsize 0, out_qsize 0\n",
      "2016-09-01 17:05:36,895 : INFO : PROGRESS: at 87.73% examples, 5371 words/s, in_qsize 0, out_qsize 0\n",
      "2016-09-01 17:06:07,267 : INFO : PROGRESS: at 87.84% examples, 5371 words/s, in_qsize 0, out_qsize 0\n",
      "2016-09-01 17:06:37,743 : INFO : PROGRESS: at 87.94% examples, 5371 words/s, in_qsize 0, out_qsize 0\n",
      "2016-09-01 17:07:08,031 : INFO : PROGRESS: at 88.04% examples, 5371 words/s, in_qsize 0, out_qsize 0\n",
      "2016-09-01 17:07:38,438 : INFO : PROGRESS: at 88.13% examples, 5370 words/s, in_qsize 0, out_qsize 0\n",
      "2016-09-01 17:08:13,262 : INFO : PROGRESS: at 88.20% examples, 5368 words/s, in_qsize 0, out_qsize 0\n",
      "2016-09-01 17:08:43,534 : INFO : PROGRESS: at 88.30% examples, 5367 words/s, in_qsize 0, out_qsize 0\n",
      "2016-09-01 17:09:13,561 : INFO : PROGRESS: at 88.39% examples, 5368 words/s, in_qsize 0, out_qsize 0\n",
      "2016-09-01 17:09:43,611 : INFO : PROGRESS: at 88.49% examples, 5369 words/s, in_qsize 0, out_qsize 0\n",
      "2016-09-01 17:10:14,542 : INFO : PROGRESS: at 88.59% examples, 5369 words/s, in_qsize 0, out_qsize 0\n",
      "2016-09-01 17:10:45,179 : INFO : PROGRESS: at 88.69% examples, 5369 words/s, in_qsize 0, out_qsize 0\n",
      "2016-09-01 17:11:16,432 : INFO : PROGRESS: at 88.79% examples, 5369 words/s, in_qsize 0, out_qsize 0\n",
      "2016-09-01 17:11:47,334 : INFO : PROGRESS: at 88.88% examples, 5368 words/s, in_qsize 0, out_qsize 0\n",
      "2016-09-01 17:12:18,379 : INFO : PROGRESS: at 88.99% examples, 5368 words/s, in_qsize 0, out_qsize 0\n",
      "2016-09-01 17:12:48,478 : INFO : PROGRESS: at 89.10% examples, 5369 words/s, in_qsize 0, out_qsize 0\n",
      "2016-09-01 17:13:18,593 : INFO : PROGRESS: at 89.22% examples, 5369 words/s, in_qsize 0, out_qsize 0\n",
      "2016-09-01 17:13:48,660 : INFO : PROGRESS: at 89.32% examples, 5368 words/s, in_qsize 0, out_qsize 0\n",
      "2016-09-01 17:14:19,121 : INFO : PROGRESS: at 89.43% examples, 5368 words/s, in_qsize 0, out_qsize 0\n",
      "2016-09-01 17:14:49,775 : INFO : PROGRESS: at 89.54% examples, 5367 words/s, in_qsize 0, out_qsize 0\n",
      "2016-09-01 17:15:20,373 : INFO : PROGRESS: at 89.64% examples, 5367 words/s, in_qsize 0, out_qsize 0\n",
      "2016-09-01 17:15:51,110 : INFO : PROGRESS: at 89.71% examples, 5365 words/s, in_qsize 0, out_qsize 0\n",
      "2016-09-01 17:16:21,506 : INFO : PROGRESS: at 89.81% examples, 5364 words/s, in_qsize 0, out_qsize 0\n",
      "2016-09-01 17:16:52,079 : INFO : PROGRESS: at 89.91% examples, 5363 words/s, in_qsize 0, out_qsize 0\n",
      "2016-09-01 17:17:22,429 : INFO : PROGRESS: at 90.01% examples, 5362 words/s, in_qsize 0, out_qsize 0\n",
      "2016-09-01 17:17:52,883 : INFO : PROGRESS: at 90.10% examples, 5362 words/s, in_qsize 0, out_qsize 0\n",
      "2016-09-01 17:18:23,212 : INFO : PROGRESS: at 90.19% examples, 5361 words/s, in_qsize 0, out_qsize 0\n",
      "2016-09-01 17:18:53,549 : INFO : PROGRESS: at 90.29% examples, 5361 words/s, in_qsize 0, out_qsize 0\n",
      "2016-09-01 17:19:23,587 : INFO : PROGRESS: at 90.39% examples, 5362 words/s, in_qsize 0, out_qsize 0\n",
      "2016-09-01 17:19:53,785 : INFO : PROGRESS: at 90.49% examples, 5362 words/s, in_qsize 0, out_qsize 0\n",
      "2016-09-01 17:20:24,586 : INFO : PROGRESS: at 90.58% examples, 5362 words/s, in_qsize 0, out_qsize 0\n",
      "2016-09-01 17:20:55,135 : INFO : PROGRESS: at 90.69% examples, 5362 words/s, in_qsize 0, out_qsize 0\n",
      "2016-09-01 17:21:25,661 : INFO : PROGRESS: at 90.78% examples, 5362 words/s, in_qsize 0, out_qsize 0\n",
      "2016-09-01 17:21:55,998 : INFO : PROGRESS: at 90.88% examples, 5362 words/s, in_qsize 0, out_qsize 0\n",
      "2016-09-01 17:22:26,173 : INFO : PROGRESS: at 90.98% examples, 5362 words/s, in_qsize 0, out_qsize 0\n",
      "2016-09-01 17:22:57,106 : INFO : PROGRESS: at 91.07% examples, 5362 words/s, in_qsize 0, out_qsize 0\n",
      "2016-09-01 17:23:27,927 : INFO : PROGRESS: at 91.18% examples, 5362 words/s, in_qsize 0, out_qsize 0\n",
      "2016-09-01 17:23:59,404 : INFO : PROGRESS: at 91.29% examples, 5362 words/s, in_qsize 0, out_qsize 0\n",
      "2016-09-01 17:24:29,601 : INFO : PROGRESS: at 91.39% examples, 5362 words/s, in_qsize 0, out_qsize 0\n",
      "2016-09-01 17:25:00,929 : INFO : PROGRESS: at 91.50% examples, 5362 words/s, in_qsize 0, out_qsize 0\n",
      "2016-09-01 17:25:31,174 : INFO : PROGRESS: at 91.59% examples, 5362 words/s, in_qsize 0, out_qsize 0\n",
      "2016-09-01 17:26:01,667 : INFO : PROGRESS: at 91.69% examples, 5361 words/s, in_qsize 0, out_qsize 0\n",
      "2016-09-01 17:26:32,918 : INFO : PROGRESS: at 91.78% examples, 5361 words/s, in_qsize 0, out_qsize 0\n",
      "2016-09-01 17:27:03,380 : INFO : PROGRESS: at 91.89% examples, 5361 words/s, in_qsize 0, out_qsize 0\n",
      "2016-09-01 17:27:33,540 : INFO : PROGRESS: at 91.99% examples, 5361 words/s, in_qsize 0, out_qsize 0\n",
      "2016-09-01 17:28:03,791 : INFO : PROGRESS: at 92.08% examples, 5361 words/s, in_qsize 0, out_qsize 0\n",
      "2016-09-01 17:28:35,835 : INFO : PROGRESS: at 92.19% examples, 5361 words/s, in_qsize 0, out_qsize 0\n",
      "2016-09-01 17:29:07,309 : INFO : PROGRESS: at 92.29% examples, 5361 words/s, in_qsize 0, out_qsize 0\n",
      "2016-09-01 17:29:38,074 : INFO : PROGRESS: at 92.38% examples, 5361 words/s, in_qsize 0, out_qsize 0\n",
      "2016-09-01 17:30:08,621 : INFO : PROGRESS: at 92.49% examples, 5362 words/s, in_qsize 0, out_qsize 0\n",
      "2016-09-01 17:30:39,178 : INFO : PROGRESS: at 92.60% examples, 5362 words/s, in_qsize 0, out_qsize 0\n",
      "2016-09-01 17:31:09,555 : INFO : PROGRESS: at 92.71% examples, 5361 words/s, in_qsize 0, out_qsize 0\n",
      "2016-09-01 17:31:39,594 : INFO : PROGRESS: at 92.80% examples, 5362 words/s, in_qsize 0, out_qsize 0\n",
      "2016-09-01 17:32:09,826 : INFO : PROGRESS: at 92.91% examples, 5362 words/s, in_qsize 0, out_qsize 0\n",
      "2016-09-01 17:32:40,011 : INFO : PROGRESS: at 93.01% examples, 5361 words/s, in_qsize 0, out_qsize 0\n",
      "2016-09-01 17:33:10,035 : INFO : PROGRESS: at 93.11% examples, 5362 words/s, in_qsize 0, out_qsize 0\n",
      "2016-09-01 17:33:40,986 : INFO : PROGRESS: at 93.21% examples, 5362 words/s, in_qsize 0, out_qsize 0\n",
      "2016-09-01 17:34:11,151 : INFO : PROGRESS: at 93.30% examples, 5362 words/s, in_qsize 0, out_qsize 0\n",
      "2016-09-01 17:34:42,343 : INFO : PROGRESS: at 93.41% examples, 5362 words/s, in_qsize 0, out_qsize 0\n",
      "2016-09-01 17:35:13,800 : INFO : PROGRESS: at 93.51% examples, 5362 words/s, in_qsize 0, out_qsize 0\n",
      "2016-09-01 17:35:43,929 : INFO : PROGRESS: at 93.60% examples, 5362 words/s, in_qsize 0, out_qsize 0\n",
      "2016-09-01 17:36:14,331 : INFO : PROGRESS: at 93.70% examples, 5361 words/s, in_qsize 0, out_qsize 0\n",
      "2016-09-01 17:36:44,720 : INFO : PROGRESS: at 93.81% examples, 5362 words/s, in_qsize 0, out_qsize 0\n",
      "2016-09-01 17:37:15,156 : INFO : PROGRESS: at 93.91% examples, 5362 words/s, in_qsize 0, out_qsize 0\n",
      "2016-09-01 17:37:45,326 : INFO : PROGRESS: at 94.01% examples, 5363 words/s, in_qsize 0, out_qsize 0\n",
      "2016-09-01 17:38:16,324 : INFO : PROGRESS: at 94.12% examples, 5363 words/s, in_qsize 0, out_qsize 0\n",
      "2016-09-01 17:38:46,366 : INFO : PROGRESS: at 94.22% examples, 5364 words/s, in_qsize 0, out_qsize 0\n",
      "2016-09-01 17:39:16,668 : INFO : PROGRESS: at 94.33% examples, 5364 words/s, in_qsize 0, out_qsize 0\n",
      "2016-09-01 17:39:46,899 : INFO : PROGRESS: at 94.44% examples, 5363 words/s, in_qsize 0, out_qsize 0\n",
      "2016-09-01 17:40:17,040 : INFO : PROGRESS: at 94.53% examples, 5363 words/s, in_qsize 0, out_qsize 0\n",
      "2016-09-01 17:40:47,608 : INFO : PROGRESS: at 94.62% examples, 5363 words/s, in_qsize 0, out_qsize 0\n",
      "2016-09-01 17:41:17,681 : INFO : PROGRESS: at 94.71% examples, 5363 words/s, in_qsize 0, out_qsize 0\n",
      "2016-09-01 17:41:48,148 : INFO : PROGRESS: at 94.80% examples, 5363 words/s, in_qsize 0, out_qsize 0\n",
      "2016-09-01 17:42:19,161 : INFO : PROGRESS: at 94.90% examples, 5363 words/s, in_qsize 0, out_qsize 0\n",
      "2016-09-01 17:42:49,822 : INFO : PROGRESS: at 95.01% examples, 5363 words/s, in_qsize 0, out_qsize 0\n",
      "2016-09-01 17:43:20,021 : INFO : PROGRESS: at 95.11% examples, 5363 words/s, in_qsize 0, out_qsize 0\n",
      "2016-09-01 17:43:50,855 : INFO : PROGRESS: at 95.21% examples, 5362 words/s, in_qsize 0, out_qsize 0\n",
      "2016-09-01 17:44:21,506 : INFO : PROGRESS: at 95.31% examples, 5362 words/s, in_qsize 0, out_qsize 0\n",
      "2016-09-01 17:44:51,529 : INFO : PROGRESS: at 95.41% examples, 5361 words/s, in_qsize 0, out_qsize 0\n",
      "2016-09-01 17:45:21,837 : INFO : PROGRESS: at 95.51% examples, 5361 words/s, in_qsize 0, out_qsize 0\n",
      "2016-09-01 17:45:52,098 : INFO : PROGRESS: at 95.60% examples, 5361 words/s, in_qsize 0, out_qsize 0\n",
      "2016-09-01 17:46:22,465 : INFO : PROGRESS: at 95.70% examples, 5360 words/s, in_qsize 1, out_qsize 0\n",
      "2016-09-01 17:46:52,917 : INFO : PROGRESS: at 95.80% examples, 5360 words/s, in_qsize 0, out_qsize 1\n",
      "2016-09-01 17:47:23,339 : INFO : PROGRESS: at 95.91% examples, 5361 words/s, in_qsize 0, out_qsize 0\n",
      "2016-09-01 17:47:53,600 : INFO : PROGRESS: at 96.02% examples, 5361 words/s, in_qsize 0, out_qsize 0\n",
      "2016-09-01 17:48:24,261 : INFO : PROGRESS: at 96.12% examples, 5362 words/s, in_qsize 0, out_qsize 0\n",
      "2016-09-01 17:48:54,567 : INFO : PROGRESS: at 96.24% examples, 5362 words/s, in_qsize 0, out_qsize 0\n",
      "2016-09-01 17:49:24,854 : INFO : PROGRESS: at 96.34% examples, 5363 words/s, in_qsize 0, out_qsize 0\n",
      "2016-09-01 17:49:55,429 : INFO : PROGRESS: at 96.44% examples, 5363 words/s, in_qsize 0, out_qsize 0\n",
      "2016-09-01 17:50:25,704 : INFO : PROGRESS: at 96.54% examples, 5364 words/s, in_qsize 0, out_qsize 0\n",
      "2016-09-01 17:50:56,582 : INFO : PROGRESS: at 96.64% examples, 5364 words/s, in_qsize 0, out_qsize 0\n",
      "2016-09-01 17:51:27,259 : INFO : PROGRESS: at 96.74% examples, 5365 words/s, in_qsize 0, out_qsize 1\n",
      "2016-09-01 17:51:57,711 : INFO : PROGRESS: at 96.85% examples, 5364 words/s, in_qsize 0, out_qsize 0\n",
      "2016-09-01 17:52:28,509 : INFO : PROGRESS: at 96.94% examples, 5363 words/s, in_qsize 0, out_qsize 1\n",
      "2016-09-01 17:52:58,518 : INFO : PROGRESS: at 97.05% examples, 5365 words/s, in_qsize 0, out_qsize 0\n",
      "2016-09-01 17:53:28,674 : INFO : PROGRESS: at 97.15% examples, 5365 words/s, in_qsize 0, out_qsize 0\n",
      "2016-09-01 17:53:58,730 : INFO : PROGRESS: at 97.27% examples, 5365 words/s, in_qsize 0, out_qsize 0\n",
      "2016-09-01 17:54:28,793 : INFO : PROGRESS: at 97.38% examples, 5366 words/s, in_qsize 0, out_qsize 0\n",
      "2016-09-01 17:54:59,578 : INFO : PROGRESS: at 97.48% examples, 5366 words/s, in_qsize 0, out_qsize 0\n",
      "2016-09-01 17:55:29,945 : INFO : PROGRESS: at 97.58% examples, 5366 words/s, in_qsize 0, out_qsize 0\n",
      "2016-09-01 17:56:00,310 : INFO : PROGRESS: at 97.68% examples, 5368 words/s, in_qsize 0, out_qsize 0\n",
      "2016-09-01 17:56:30,364 : INFO : PROGRESS: at 97.80% examples, 5368 words/s, in_qsize 0, out_qsize 0\n",
      "2016-09-01 17:57:00,508 : INFO : PROGRESS: at 97.89% examples, 5367 words/s, in_qsize 0, out_qsize 0\n",
      "2016-09-01 17:57:30,523 : INFO : PROGRESS: at 97.99% examples, 5367 words/s, in_qsize 0, out_qsize 0\n",
      "2016-09-01 17:58:01,354 : INFO : PROGRESS: at 98.10% examples, 5367 words/s, in_qsize 0, out_qsize 0\n",
      "2016-09-01 17:58:32,360 : INFO : PROGRESS: at 98.20% examples, 5367 words/s, in_qsize 0, out_qsize 0\n",
      "2016-09-01 17:59:02,532 : INFO : PROGRESS: at 98.29% examples, 5367 words/s, in_qsize 0, out_qsize 0\n",
      "2016-09-01 17:59:33,524 : INFO : PROGRESS: at 98.39% examples, 5366 words/s, in_qsize 0, out_qsize 0\n",
      "2016-09-01 18:00:03,754 : INFO : PROGRESS: at 98.48% examples, 5366 words/s, in_qsize 0, out_qsize 0\n",
      "2016-09-01 18:00:34,444 : INFO : PROGRESS: at 98.57% examples, 5366 words/s, in_qsize 0, out_qsize 0\n",
      "2016-09-01 18:01:04,590 : INFO : PROGRESS: at 98.66% examples, 5368 words/s, in_qsize 0, out_qsize 0\n",
      "2016-09-01 18:01:34,866 : INFO : PROGRESS: at 98.76% examples, 5368 words/s, in_qsize 0, out_qsize 0\n",
      "2016-09-01 18:02:04,930 : INFO : PROGRESS: at 98.87% examples, 5368 words/s, in_qsize 0, out_qsize 0\n",
      "2016-09-01 18:02:35,128 : INFO : PROGRESS: at 98.97% examples, 5369 words/s, in_qsize 0, out_qsize 0\n",
      "2016-09-01 18:03:05,613 : INFO : PROGRESS: at 99.07% examples, 5370 words/s, in_qsize 0, out_qsize 0\n",
      "2016-09-01 18:03:35,881 : INFO : PROGRESS: at 99.16% examples, 5369 words/s, in_qsize 0, out_qsize 0\n",
      "2016-09-01 18:04:06,120 : INFO : PROGRESS: at 99.27% examples, 5369 words/s, in_qsize 0, out_qsize 0\n",
      "2016-09-01 18:04:36,611 : INFO : PROGRESS: at 99.38% examples, 5370 words/s, in_qsize 0, out_qsize 0\n",
      "2016-09-01 18:05:06,679 : INFO : PROGRESS: at 99.49% examples, 5371 words/s, in_qsize 0, out_qsize 0\n",
      "2016-09-01 18:05:36,889 : INFO : PROGRESS: at 99.60% examples, 5371 words/s, in_qsize 0, out_qsize 0\n",
      "2016-09-01 18:06:07,030 : INFO : PROGRESS: at 99.72% examples, 5371 words/s, in_qsize 0, out_qsize 0\n",
      "2016-09-01 18:06:37,076 : INFO : PROGRESS: at 99.81% examples, 5371 words/s, in_qsize 0, out_qsize 0\n",
      "2016-09-01 18:07:07,278 : INFO : PROGRESS: at 99.92% examples, 5372 words/s, in_qsize 0, out_qsize 0\n",
      "2016-09-01 18:07:34,225 : INFO : worker thread finished; awaiting finish of 6 more threads\n",
      "2016-09-01 18:07:34,227 : INFO : worker thread finished; awaiting finish of 5 more threads\n",
      "2016-09-01 18:07:34,228 : INFO : worker thread finished; awaiting finish of 4 more threads\n",
      "2016-09-01 18:07:34,229 : INFO : worker thread finished; awaiting finish of 3 more threads\n",
      "2016-09-01 18:07:34,230 : INFO : worker thread finished; awaiting finish of 2 more threads\n",
      "2016-09-01 18:07:34,268 : INFO : worker thread finished; awaiting finish of 1 more threads\n",
      "2016-09-01 18:07:34,315 : INFO : worker thread finished; awaiting finish of 0 more threads\n",
      "2016-09-01 18:07:34,316 : INFO : training on 485635230 raw words (164615225 effective words) took 30648.0s, 5371 effective words/s\n"
     ]
    },
    {
     "ename": "NameError",
     "evalue": "name 'model' is not defined",
     "output_type": "error",
     "traceback": [
      "\u001b[1;31m---------------------------------------------------------------------------\u001b[0m",
      "\u001b[1;31mNameError\u001b[0m                                 Traceback (most recent call last)",
      "\u001b[1;32m<ipython-input-20-1016dbf104d8>\u001b[0m in \u001b[0;36m<module>\u001b[1;34m()\u001b[0m\n\u001b[1;32m----> 1\u001b[1;33m \u001b[0mget_ipython\u001b[0m\u001b[1;33m(\u001b[0m\u001b[1;33m)\u001b[0m\u001b[1;33m.\u001b[0m\u001b[0mrun_cell_magic\u001b[0m\u001b[1;33m(\u001b[0m\u001b[1;34mu'time'\u001b[0m\u001b[1;33m,\u001b[0m \u001b[1;34mu''\u001b[0m\u001b[1;33m,\u001b[0m \u001b[1;34mu'DOC2VEC_MAX_EPOCHS = 1\\ndoc2vec_model.min_alpha = 0.025\\nfor epoch in range(DOC2VEC_MAX_EPOCHS):\\n    doc2vec_model.train(sentences=LabeledLineSentence(training_file), report_delay=REPORT_DELAY)\\n    doc2vec_model.alpha -= 0.001  # decrease the learning rate\\n    doc2vec_model.min_alpha = model.alpha  # fix the learning rate, no decay'\u001b[0m\u001b[1;33m)\u001b[0m\u001b[1;33m\u001b[0m\u001b[0m\n\u001b[0m",
      "\u001b[1;32m/home/stud/shalaby/.virtualenv/thesis-env/lib/python2.7/site-packages/IPython/core/interactiveshell.pyc\u001b[0m in \u001b[0;36mrun_cell_magic\u001b[1;34m(self, magic_name, line, cell)\u001b[0m\n\u001b[0;32m   2118\u001b[0m             \u001b[0mmagic_arg_s\u001b[0m \u001b[1;33m=\u001b[0m \u001b[0mself\u001b[0m\u001b[1;33m.\u001b[0m\u001b[0mvar_expand\u001b[0m\u001b[1;33m(\u001b[0m\u001b[0mline\u001b[0m\u001b[1;33m,\u001b[0m \u001b[0mstack_depth\u001b[0m\u001b[1;33m)\u001b[0m\u001b[1;33m\u001b[0m\u001b[0m\n\u001b[0;32m   2119\u001b[0m             \u001b[1;32mwith\u001b[0m \u001b[0mself\u001b[0m\u001b[1;33m.\u001b[0m\u001b[0mbuiltin_trap\u001b[0m\u001b[1;33m:\u001b[0m\u001b[1;33m\u001b[0m\u001b[0m\n\u001b[1;32m-> 2120\u001b[1;33m                 \u001b[0mresult\u001b[0m \u001b[1;33m=\u001b[0m \u001b[0mfn\u001b[0m\u001b[1;33m(\u001b[0m\u001b[0mmagic_arg_s\u001b[0m\u001b[1;33m,\u001b[0m \u001b[0mcell\u001b[0m\u001b[1;33m)\u001b[0m\u001b[1;33m\u001b[0m\u001b[0m\n\u001b[0m\u001b[0;32m   2121\u001b[0m             \u001b[1;32mreturn\u001b[0m \u001b[0mresult\u001b[0m\u001b[1;33m\u001b[0m\u001b[0m\n\u001b[0;32m   2122\u001b[0m \u001b[1;33m\u001b[0m\u001b[0m\n",
      "\u001b[1;32m<decorator-gen-60>\u001b[0m in \u001b[0;36mtime\u001b[1;34m(self, line, cell, local_ns)\u001b[0m\n",
      "\u001b[1;32m/home/stud/shalaby/.virtualenv/thesis-env/lib/python2.7/site-packages/IPython/core/magic.pyc\u001b[0m in \u001b[0;36m<lambda>\u001b[1;34m(f, *a, **k)\u001b[0m\n\u001b[0;32m    191\u001b[0m     \u001b[1;31m# but it's overkill for just that one bit of state.\u001b[0m\u001b[1;33m\u001b[0m\u001b[1;33m\u001b[0m\u001b[0m\n\u001b[0;32m    192\u001b[0m     \u001b[1;32mdef\u001b[0m \u001b[0mmagic_deco\u001b[0m\u001b[1;33m(\u001b[0m\u001b[0marg\u001b[0m\u001b[1;33m)\u001b[0m\u001b[1;33m:\u001b[0m\u001b[1;33m\u001b[0m\u001b[0m\n\u001b[1;32m--> 193\u001b[1;33m         \u001b[0mcall\u001b[0m \u001b[1;33m=\u001b[0m \u001b[1;32mlambda\u001b[0m \u001b[0mf\u001b[0m\u001b[1;33m,\u001b[0m \u001b[1;33m*\u001b[0m\u001b[0ma\u001b[0m\u001b[1;33m,\u001b[0m \u001b[1;33m**\u001b[0m\u001b[0mk\u001b[0m\u001b[1;33m:\u001b[0m \u001b[0mf\u001b[0m\u001b[1;33m(\u001b[0m\u001b[1;33m*\u001b[0m\u001b[0ma\u001b[0m\u001b[1;33m,\u001b[0m \u001b[1;33m**\u001b[0m\u001b[0mk\u001b[0m\u001b[1;33m)\u001b[0m\u001b[1;33m\u001b[0m\u001b[0m\n\u001b[0m\u001b[0;32m    194\u001b[0m \u001b[1;33m\u001b[0m\u001b[0m\n\u001b[0;32m    195\u001b[0m         \u001b[1;32mif\u001b[0m \u001b[0mcallable\u001b[0m\u001b[1;33m(\u001b[0m\u001b[0marg\u001b[0m\u001b[1;33m)\u001b[0m\u001b[1;33m:\u001b[0m\u001b[1;33m\u001b[0m\u001b[0m\n",
      "\u001b[1;32m/home/stud/shalaby/.virtualenv/thesis-env/lib/python2.7/site-packages/IPython/core/magics/execution.pyc\u001b[0m in \u001b[0;36mtime\u001b[1;34m(self, line, cell, local_ns)\u001b[0m\n\u001b[0;32m   1175\u001b[0m         \u001b[1;32melse\u001b[0m\u001b[1;33m:\u001b[0m\u001b[1;33m\u001b[0m\u001b[0m\n\u001b[0;32m   1176\u001b[0m             \u001b[0mst\u001b[0m \u001b[1;33m=\u001b[0m \u001b[0mclock2\u001b[0m\u001b[1;33m(\u001b[0m\u001b[1;33m)\u001b[0m\u001b[1;33m\u001b[0m\u001b[0m\n\u001b[1;32m-> 1177\u001b[1;33m             \u001b[1;32mexec\u001b[0m\u001b[1;33m(\u001b[0m\u001b[0mcode\u001b[0m\u001b[1;33m,\u001b[0m \u001b[0mglob\u001b[0m\u001b[1;33m,\u001b[0m \u001b[0mlocal_ns\u001b[0m\u001b[1;33m)\u001b[0m\u001b[1;33m\u001b[0m\u001b[0m\n\u001b[0m\u001b[0;32m   1178\u001b[0m             \u001b[0mend\u001b[0m \u001b[1;33m=\u001b[0m \u001b[0mclock2\u001b[0m\u001b[1;33m(\u001b[0m\u001b[1;33m)\u001b[0m\u001b[1;33m\u001b[0m\u001b[0m\n\u001b[0;32m   1179\u001b[0m             \u001b[0mout\u001b[0m \u001b[1;33m=\u001b[0m \u001b[0mNone\u001b[0m\u001b[1;33m\u001b[0m\u001b[0m\n",
      "\u001b[1;32m<timed exec>\u001b[0m in \u001b[0;36m<module>\u001b[1;34m()\u001b[0m\n",
      "\u001b[1;31mNameError\u001b[0m: name 'model' is not defined"
     ]
    }
   ],
   "source": [
    "%%time\n",
    "DOC2VEC_MAX_EPOCHS = 1\n",
    "doc2vec_model.min_alpha = 0.025\n",
    "for epoch in range(DOC2VEC_MAX_EPOCHS):\n",
    "    doc2vec_model.train(sentences=LabeledLineSentence(training_file), report_delay=REPORT_DELAY)\n",
    "    doc2vec_model.alpha -= 0.001  # decrease the learning rate\n",
    "    doc2vec_model.min_alpha = model.alpha  # fix the learning rate, no decay"
   ]
  },
  {
   "cell_type": "markdown",
   "metadata": {},
   "source": [
    "### Load Doc2vec Model"
   ]
  },
  {
   "cell_type": "code",
   "execution_count": 12,
   "metadata": {
    "collapsed": false
   },
   "outputs": [
    {
     "name": "stderr",
     "output_type": "stream",
     "text": [
      "2016-08-23 03:34:43,130 : INFO : loading Doc2Vec object from /home/local/shalaby/models/doc2vec_size_400_w_8_type_dm_concat_1_mean_0_hs_0_iter_10\n",
      "2016-08-23 03:39:37,655 : INFO : loading docvecs recursively from /home/local/shalaby/models/doc2vec_size_400_w_8_type_dm_concat_1_mean_0_hs_0_iter_10.docvecs.* with mmap=r\n",
      "2016-08-23 03:39:37,657 : INFO : loading doctag_syn0 from /home/local/shalaby/models/doc2vec_size_400_w_8_type_dm_concat_1_mean_0_hs_0_iter_10.docvecs.doctag_syn0.npy with mmap=r\n",
      "2016-08-23 03:39:37,659 : INFO : loading syn1neg from /home/local/shalaby/models/doc2vec_size_400_w_8_type_dm_concat_1_mean_0_hs_0_iter_10.syn1neg.npy with mmap=r\n",
      "2016-08-23 03:39:37,715 : INFO : loading syn0 from /home/local/shalaby/models/doc2vec_size_400_w_8_type_dm_concat_1_mean_0_hs_0_iter_10.syn0.npy with mmap=r\n",
      "2016-08-23 03:39:55,534 : INFO : setting ignored attribute syn0norm to None\n",
      "2016-08-23 03:39:55,535 : INFO : setting ignored attribute cum_table to None\n"
     ]
    },
    {
     "name": "stdout",
     "output_type": "stream",
     "text": [
      "CPU times: user 1min 3s, sys: 4min 24s, total: 5min 27s\n",
      "Wall time: 5min 45s\n"
     ]
    }
   ],
   "source": [
    "%%time\n",
    "file_name = 'doc2vec_size_{}_w_{}_type_{}_concat_{}_mean_{}_hs_{}_iter_{}'.format(DOC2VEC_SIZE, DOC2VEC_WINDOW, \n",
    "                                                                'dm' if DOC2VEC_TYPE == 1 else 'pv-dbow',\n",
    "                                                                DOC2VEC_CONCAT, DOC2VEC_MEAN,\n",
    "                                                                DOC2VEC_HIERARCHICAL_SAMPLE,DOC2VEC_NEGATIVE_SAMPLE_SIZE)\n",
    "\n",
    "doc2vec_model = Doc2Vec.load('/home/local/shalaby/models/{}'.format(file_name), mmap='r')"
   ]
  },
  {
   "cell_type": "code",
   "execution_count": 13,
   "metadata": {
    "collapsed": false
   },
   "outputs": [
    {
     "data": {
      "text/plain": [
       "<gensim.models.doc2vec.Doc2Vec at 0x7f9fec2e3b90>"
      ]
     },
     "execution_count": 13,
     "metadata": {},
     "output_type": "execute_result"
    }
   ],
   "source": [
    "doc2vec_model"
   ]
  },
  {
   "cell_type": "code",
   "execution_count": 21,
   "metadata": {
    "collapsed": false
   },
   "outputs": [
    {
     "data": {
      "text/plain": [
       "<gensim.models.doc2vec.DocvecsArray at 0x7f9f33a08310>"
      ]
     },
     "execution_count": 21,
     "metadata": {},
     "output_type": "execute_result"
    }
   ],
   "source": [
    "doc2vec_model.docvecs"
   ]
  },
  {
   "cell_type": "markdown",
   "metadata": {},
   "source": [
    "## Actual Training"
   ]
  },
  {
   "cell_type": "code",
   "execution_count": 14,
   "metadata": {
    "collapsed": false
   },
   "outputs": [
    {
     "data": {
      "text/plain": [
       "array([[0, 1, 1, 0, 0],\n",
       "       [0, 0, 0, 1, 0],\n",
       "       [0, 0, 0, 0, 1],\n",
       "       [1, 0, 0, 0, 0]])"
      ]
     },
     "execution_count": 14,
     "metadata": {},
     "output_type": "execute_result"
    }
   ],
   "source": [
    "MultiLabelBinarizer().fit_transform([[\"B\",\"C\"],[\"D\"],[\"E\"],[\"A\"]])"
   ]
  },
  {
   "cell_type": "code",
   "execution_count": 15,
   "metadata": {
    "collapsed": false
   },
   "outputs": [],
   "source": [
    "training_vectors = []\n",
    "training_labels = []\n",
    "for doc_id in training_docs_list:\n",
    "    training_vectors.append(doc2vec_model.docvecs[doc_id])\n",
    "    training_labels.append([classf for classf in doc_classifications_map[doc_id] if classf in sections])\n",
    "training_vectors = np.array(training_vectors)"
   ]
  },
  {
   "cell_type": "code",
   "execution_count": 16,
   "metadata": {
    "collapsed": true
   },
   "outputs": [],
   "source": [
    "binary_labels = MultiLabelBinarizer().fit_transform(training_labels)"
   ]
  },
  {
   "cell_type": "code",
   "execution_count": 17,
   "metadata": {
    "collapsed": false
   },
   "outputs": [
    {
     "data": {
      "text/plain": [
       "(1286325, 8)"
      ]
     },
     "execution_count": 17,
     "metadata": {},
     "output_type": "execute_result"
    }
   ],
   "source": [
    "binary_labels.shape"
   ]
  },
  {
   "cell_type": "code",
   "execution_count": 18,
   "metadata": {
    "collapsed": false
   },
   "outputs": [
    {
     "data": {
      "text/plain": [
       "(1286325, 400)"
      ]
     },
     "execution_count": 18,
     "metadata": {},
     "output_type": "execute_result"
    }
   ],
   "source": [
    "training_vectors.shape"
   ]
  },
  {
   "cell_type": "code",
   "execution_count": 19,
   "metadata": {
    "collapsed": false
   },
   "outputs": [],
   "source": [
    "svm_model = OneVsRestClassifier(LinearSVC(penalty='l2', tol=SVM_CONVERGENCE, \n",
    "                                          C=SVM_REG, verbose=1, random_state=SVM_SEED, max_iter=SVM_ITERATIONS))"
   ]
  },
  {
   "cell_type": "code",
   "execution_count": 20,
   "metadata": {
    "collapsed": false
   },
   "outputs": [
    {
     "name": "stdout",
     "output_type": "stream",
     "text": [
      "[LibLinear]"
     ]
    },
    {
     "name": "stderr",
     "output_type": "stream",
     "text": [
      "/home/stud/shalaby/.virtualenv/thesis-env/lib/python2.7/site-packages/sklearn/svm/base.py:924: ConvergenceWarning: Liblinear failed to converge, increase the number of iterations.\n",
      "  \"the number of iterations.\", ConvergenceWarning)\n"
     ]
    },
    {
     "name": "stdout",
     "output_type": "stream",
     "text": [
      "[LibLinear][LibLinear][LibLinear][LibLinear][LibLinear][LibLinear][LibLinear]CPU times: user 6h 10min 21s, sys: 1h 10min 58s, total: 7h 21min 19s\n",
      "Wall time: 7h 21min 1s\n"
     ]
    }
   ],
   "source": [
    "%%time\n",
    "svm_model.fit(training_vectors, binary_labels)\n",
    "pickle.dump(svm_model, open(model_save_location + file_name + \"_mmap\", 'w'))"
   ]
  },
  {
   "cell_type": "markdown",
   "metadata": {},
   "source": [
    "## Inference Step for Validation vectors"
   ]
  },
  {
   "cell_type": "code",
   "execution_count": 27,
   "metadata": {
    "collapsed": true
   },
   "outputs": [],
   "source": [
    "class ValidationDocumentGenerator(object):\n",
    "    def __init__(self, filename):\n",
    "        self.filename = filename\n",
    "    def __iter__(self):\n",
    "        for line in open(self.filename):\n",
    "            (doc_id, text) = eval(line)\n",
    "            if doc_id in validation_docs_list:\n",
    "                yield doc_id, stemtokenizer(text)"
   ]
  },
  {
   "cell_type": "code",
   "execution_count": null,
   "metadata": {
    "collapsed": false
   },
   "outputs": [
    {
     "name": "stdout",
     "output_type": "stream",
     "text": [
      "1000\n",
      "2000\n",
      "3000\n",
      "4000\n",
      "5000\n",
      "6000\n",
      "7000\n",
      "8000\n",
      "9000\n",
      "10000\n",
      "11000\n",
      "12000\n",
      "13000\n",
      "14000\n",
      "15000\n",
      "16000\n",
      "17000\n",
      "18000\n",
      "19000\n",
      "20000\n",
      "21000\n",
      "22000\n",
      "23000\n",
      "24000\n",
      "25000\n",
      "26000\n",
      "27000\n",
      "28000\n",
      "29000\n",
      "30000\n",
      "31000\n",
      "32000\n",
      "33000\n",
      "34000\n",
      "35000\n",
      "36000\n",
      "37000\n",
      "38000\n",
      "39000\n",
      "40000\n",
      "41000\n",
      "42000\n",
      "43000\n",
      "44000\n",
      "45000\n",
      "46000\n",
      "47000\n",
      "48000\n",
      "49000\n",
      "50000\n",
      "51000\n",
      "52000\n",
      "53000\n",
      "54000\n",
      "55000\n",
      "56000\n",
      "57000\n",
      "58000\n",
      "59000\n",
      "60000\n",
      "61000\n",
      "62000\n",
      "63000\n",
      "64000\n",
      "65000\n",
      "66000\n",
      "67000\n",
      "68000\n",
      "69000\n",
      "70000\n",
      "71000\n",
      "72000\n",
      "73000\n",
      "74000\n",
      "75000\n",
      "76000\n",
      "77000\n",
      "78000\n",
      "79000\n",
      "80000\n",
      "81000\n",
      "82000\n",
      "83000\n",
      "84000\n",
      "85000\n",
      "86000\n",
      "87000\n",
      "88000\n",
      "89000\n",
      "90000\n",
      "91000\n",
      "92000\n",
      "93000\n",
      "94000\n",
      "95000\n",
      "96000\n",
      "97000\n",
      "98000\n",
      "99000\n",
      "100000\n",
      "101000\n",
      "102000\n",
      "103000\n",
      "104000\n",
      "105000\n",
      "106000\n",
      "107000\n",
      "108000\n",
      "109000\n",
      "110000\n",
      "111000\n",
      "112000\n",
      "113000\n",
      "114000\n",
      "115000\n",
      "116000\n",
      "117000\n",
      "118000\n",
      "119000\n",
      "120000\n",
      "121000\n",
      "122000\n",
      "123000\n",
      "124000\n",
      "125000\n",
      "126000\n",
      "127000\n",
      "128000\n",
      "129000\n",
      "130000\n",
      "131000\n",
      "132000\n",
      "133000\n",
      "134000\n",
      "135000\n",
      "136000\n",
      "137000\n",
      "138000\n",
      "139000\n",
      "140000\n",
      "141000\n",
      "142000\n",
      "143000\n",
      "144000\n",
      "145000\n",
      "146000\n",
      "147000\n",
      "148000\n",
      "149000\n",
      "150000\n",
      "151000\n",
      "152000\n",
      "153000\n",
      "154000\n",
      "155000\n",
      "156000\n",
      "157000\n",
      "158000\n",
      "159000\n",
      "160000\n",
      "161000\n",
      "162000\n",
      "163000\n",
      "164000\n",
      "165000\n",
      "166000\n",
      "167000\n",
      "168000\n",
      "169000\n",
      "170000\n",
      "171000\n",
      "172000\n",
      "173000\n",
      "174000\n",
      "175000\n",
      "176000\n",
      "177000\n",
      "178000\n",
      "179000\n",
      "180000\n",
      "181000\n",
      "182000\n",
      "183000\n",
      "184000\n",
      "185000\n",
      "186000\n",
      "187000\n",
      "188000\n",
      "189000\n",
      "190000\n",
      "191000\n",
      "192000\n",
      "193000\n",
      "194000\n",
      "195000\n",
      "196000\n",
      "197000\n",
      "198000\n",
      "199000\n",
      "200000\n",
      "201000\n",
      "202000\n",
      "203000\n",
      "204000\n",
      "205000\n",
      "206000\n",
      "207000\n",
      "208000\n",
      "209000\n",
      "210000\n",
      "211000\n",
      "212000\n",
      "213000\n",
      "214000\n",
      "215000\n",
      "216000\n",
      "217000\n",
      "218000\n",
      "219000\n",
      "220000\n",
      "221000\n",
      "222000\n",
      "223000\n",
      "224000\n",
      "225000\n",
      "226000\n",
      "227000\n",
      "228000\n",
      "229000\n",
      "230000\n",
      "231000\n",
      "232000\n",
      "233000\n",
      "234000\n",
      "235000\n",
      "236000\n",
      "237000\n",
      "238000\n",
      "239000\n",
      "240000\n",
      "241000\n",
      "242000\n",
      "243000\n",
      "244000\n",
      "245000\n",
      "246000\n",
      "247000\n",
      "248000\n",
      "249000\n",
      "250000\n",
      "251000\n",
      "252000\n",
      "253000\n",
      "254000\n",
      "255000\n",
      "256000\n",
      "257000\n",
      "258000\n",
      "259000\n",
      "260000\n",
      "261000\n",
      "262000\n",
      "263000\n",
      "264000\n",
      "265000\n",
      "266000\n",
      "267000\n",
      "268000\n",
      "269000\n",
      "270000\n",
      "271000\n",
      "272000\n",
      "273000\n",
      "274000\n",
      "275000\n",
      "276000\n",
      "277000\n",
      "278000\n",
      "279000\n",
      "280000\n",
      "281000\n",
      "282000\n",
      "283000\n",
      "284000\n",
      "285000\n",
      "286000\n",
      "287000\n",
      "288000\n",
      "289000\n",
      "290000\n"
     ]
    }
   ],
   "source": [
    "%%time\n",
    "validation_documents_reps = {}\n",
    "i = 0\n",
    "for (doc_id, doc_contents_array) in ValidationDocumentGenerator(training_file):\n",
    "    i += 1\n",
    "    if i % 1000 == 0: print i\n",
    "    validation_documents_reps[doc_id] = doc2vec_model.infer_vector(doc_contents_array)"
   ]
  },
  {
   "cell_type": "code",
   "execution_count": 38,
   "metadata": {
    "collapsed": false
   },
   "outputs": [
    {
     "name": "stdout",
     "output_type": "stream",
     "text": [
      "lksjdflsjkdf\n"
     ]
    }
   ],
   "source": [
    "print \"lksjdflsjkdf\""
   ]
  },
  {
   "cell_type": "code",
   "execution_count": 39,
   "metadata": {
    "collapsed": false
   },
   "outputs": [
    {
     "name": "stdout",
     "output_type": "stream",
     "text": [
      "CPU times: user 1.93 s, sys: 1min 17s, total: 1min 19s\n",
      "Wall time: 1min 19s\n"
     ]
    }
   ],
   "source": [
    "%%time\n",
    "validation_vectors = []\n",
    "validation_labels = []\n",
    "for validation_doc_id in validation_docs_list:\n",
    "    validation_vectors.append(validation_documents_reps[validation_doc_id])\n",
    "    validation_labels.append([classf for classf in doc_classifications_map[validation_doc_id] if classf in sections])\n",
    "validation_vectors = np.array(validation_vectors)"
   ]
  },
  {
   "cell_type": "code",
   "execution_count": 40,
   "metadata": {
    "collapsed": false
   },
   "outputs": [
    {
     "data": {
      "text/plain": [
       "(321473, 400)"
      ]
     },
     "execution_count": 40,
     "metadata": {},
     "output_type": "execute_result"
    }
   ],
   "source": [
    "validation_vectors.shape"
   ]
  },
  {
   "cell_type": "code",
   "execution_count": 42,
   "metadata": {
    "collapsed": true
   },
   "outputs": [],
   "source": [
    "pickle.dump(validation_vectors, open('/home/local/shalaby/validation_data/' + file_name + \"_validation_vectors\",'w'))\n",
    "pickle.dump(validation_labels, open('/home/local/shalaby/validation_data/' + file_name + \"_validation_labels\",'w'))"
   ]
  },
  {
   "cell_type": "code",
   "execution_count": null,
   "metadata": {
    "collapsed": true
   },
   "outputs": [],
   "source": [
    "validation_binary_labels = MultiLabelBinarizer().fit_transform(training_labels)"
   ]
  },
  {
   "cell_type": "code",
   "execution_count": null,
   "metadata": {
    "collapsed": true
   },
   "outputs": [],
   "source": [
    "%%time\n",
    "validation_prediction = svm_model.predict(validation_vectors)"
   ]
  },
  {
   "cell_type": "markdown",
   "metadata": {},
   "source": [
    "### Increase the number of iterations"
   ]
  },
  {
   "cell_type": "code",
   "execution_count": null,
   "metadata": {
    "collapsed": false
   },
   "outputs": [
    {
     "name": "stdout",
     "output_type": "stream",
     "text": [
      "[LibLinear][LibLinear]"
     ]
    }
   ],
   "source": [
    "svm_model2 = OneVsRestClassifier(LinearSVC(penalty='l2', tol=SVM_CONVERGENCE, \n",
    "                                          C=SVM_REG, verbose=1, random_state=SVM_SEED, max_iter=10000))\n",
    "svm_model2.fit(training_vectors, binary_labels)"
   ]
  },
  {
   "cell_type": "markdown",
   "metadata": {},
   "source": [
    "### Create the model"
   ]
  },
  {
   "cell_type": "code",
   "execution_count": 34,
   "metadata": {
    "collapsed": false
   },
   "outputs": [
    {
     "name": "stdout",
     "output_type": "stream",
     "text": [
      "Doc2Vec(dm/c,d400,n10,w8,mc5,s1e-05,t7)\n"
     ]
    }
   ],
   "source": [
    "print model"
   ]
  },
  {
   "cell_type": "markdown",
   "metadata": {},
   "source": [
    "#### Initialize the model using the vocab from the previously trained model"
   ]
  },
  {
   "cell_type": "code",
   "execution_count": 117,
   "metadata": {
    "collapsed": false
   },
   "outputs": [
    {
     "name": "stderr",
     "output_type": "stream",
     "text": [
      "2016-08-16 15:49:28,921 : INFO : using concatenative 6800-dimensional layer1\n",
      "using concatenative 6800-dimensional layer1\n",
      "2016-08-16 15:49:28,925 : INFO : resetting layer weights\n",
      "resetting layer weights\n"
     ]
    }
   ],
   "source": [
    "model.reset_from(loaded_model)"
   ]
  },
  {
   "cell_type": "markdown",
   "metadata": {},
   "source": [
    "#### Now for the actual training"
   ]
  },
  {
   "cell_type": "code",
   "execution_count": null,
   "metadata": {
    "collapsed": false
   },
   "outputs": [
    {
     "name": "stderr",
     "output_type": "stream",
     "text": [
      "2016-08-21 05:36:43,143 : INFO : collecting all words and their counts\n",
      "2016-08-21 05:36:43,576 : INFO : PROGRESS: at example #0, processed 0 words (0/s), 0 word types, 0 tags\n"
     ]
    }
   ],
   "source": [
    "%%time\n",
    "model.build_vocab(sentences=LabeledLineSentence(training_file), progress_per=REPORT_VOCAB_PROGRESS)"
   ]
  },
  {
   "cell_type": "code",
   "execution_count": 25,
   "metadata": {
    "collapsed": false
   },
   "outputs": [
    {
     "name": "stderr",
     "output_type": "stream",
     "text": [
      "2016-08-21 05:32:48,403 : INFO : training model with 7 workers on 5794 vocabulary and 6800 features, using sg=0 hs=0 sample=1e-05 negative=10\n",
      "2016-08-21 05:32:48,405 : INFO : expecting 65 sentences, matching count from corpus used for vocabulary survey\n",
      "2016-08-21 05:32:51,066 : INFO : PROGRESS: at 1.54% examples, 658 words/s, in_qsize 0, out_qsize 0\n",
      "2016-08-21 05:33:05,759 : INFO : worker thread finished; awaiting finish of 6 more threads\n",
      "2016-08-21 05:33:05,762 : INFO : worker thread finished; awaiting finish of 5 more threads\n",
      "2016-08-21 05:33:05,763 : INFO : worker thread finished; awaiting finish of 4 more threads\n",
      "2016-08-21 05:33:05,865 : INFO : worker thread finished; awaiting finish of 3 more threads\n",
      "2016-08-21 05:33:05,894 : INFO : worker thread finished; awaiting finish of 2 more threads\n",
      "2016-08-21 05:33:06,142 : INFO : worker thread finished; awaiting finish of 1 more threads\n",
      "2016-08-21 05:33:06,551 : INFO : worker thread finished; awaiting finish of 0 more threads\n",
      "2016-08-21 05:33:06,553 : INFO : training on 326384 raw words (70839 effective words) took 18.1s, 3905 effective words/s\n",
      "2016-08-21 05:33:06,554 : WARNING : under 10 jobs per worker: consider setting a smaller `batch_words' for smoother alpha decay\n"
     ]
    },
    {
     "name": "stdout",
     "output_type": "stream",
     "text": [
      "CPU times: user 32.1 s, sys: 2.58 s, total: 34.7 s\n",
      "Wall time: 18.2 s\n"
     ]
    },
    {
     "data": {
      "text/plain": [
       "70839"
      ]
     },
     "execution_count": 25,
     "metadata": {},
     "output_type": "execute_result"
    }
   ],
   "source": [
    "%%time\n",
    "model.train(sentences=LabeledLineSentence(training_file), report_delay=REPORT_DELAY)"
   ]
  },
  {
   "cell_type": "code",
   "execution_count": 134,
   "metadata": {
    "collapsed": false
   },
   "outputs": [
    {
     "name": "stderr",
     "output_type": "stream",
     "text": [
      "2016-08-20 15:22:45,778 : INFO : saving Doc2Vec object under /home/local/shalaby/models/doc2vec_size_400_w_8_type_dm_concat_1_mean_0_hs_0_iter_10, separately None\n",
      "saving Doc2Vec object under /home/local/shalaby/models/doc2vec_size_400_w_8_type_dm_concat_1_mean_0_hs_0_iter_10, separately None\n",
      "2016-08-20 15:22:45,783 : INFO : storing numpy array 'doctag_syn0' to /home/local/shalaby/models/doc2vec_size_400_w_8_type_dm_concat_1_mean_0_hs_0_iter_10.docvecs.doctag_syn0.npy\n",
      "storing numpy array 'doctag_syn0' to /home/local/shalaby/models/doc2vec_size_400_w_8_type_dm_concat_1_mean_0_hs_0_iter_10.docvecs.doctag_syn0.npy\n",
      "2016-08-20 15:22:50,011 : INFO : storing numpy array 'syn1neg' to /home/local/shalaby/models/doc2vec_size_400_w_8_type_dm_concat_1_mean_0_hs_0_iter_10.syn1neg.npy\n",
      "storing numpy array 'syn1neg' to /home/local/shalaby/models/doc2vec_size_400_w_8_type_dm_concat_1_mean_0_hs_0_iter_10.syn1neg.npy\n",
      "2016-08-20 15:40:39,540 : INFO : not storing attribute syn0norm\n",
      "not storing attribute syn0norm\n",
      "2016-08-20 15:40:39,545 : INFO : storing numpy array 'syn0' to /home/local/shalaby/models/doc2vec_size_400_w_8_type_dm_concat_1_mean_0_hs_0_iter_10.syn0.npy\n",
      "storing numpy array 'syn0' to /home/local/shalaby/models/doc2vec_size_400_w_8_type_dm_concat_1_mean_0_hs_0_iter_10.syn0.npy\n",
      "2016-08-20 15:42:06,912 : INFO : not storing attribute cum_table\n",
      "not storing attribute cum_table\n"
     ]
    }
   ],
   "source": [
    "# file_name = 'doc2vec_size_{}_w_{}_type_{}_hs_{}_iter_{}'.format(DOC2VEC_SIZE, DOC2VEC_WINDOW, \n",
    "#                                                                 'dm' if DOC2VEC_TYPE == 1 else 'pv-dbow',\n",
    "#                                                                 DOC2VEC_HIERARCHICAL_SAMPLE,DOC2VEC_NEGATIVE_SAMPLE_SIZE)\n",
    "file_name = 'doc2vec_size_{}_w_{}_type_{}_concat_{}_mean_{}_hs_{}_neg_{}_vocabsize_{}_iter_{}'.format(DOC2VEC_SIZE, DOC2VEC_WINDOW, \n",
    "                                                                'dm' if DOC2VEC_TYPE == 1 else 'pv-dbow',\n",
    "                                                                DOC2VEC_CONCAT, DOC2VEC_MEAN,\n",
    "                                                                DOC2VEC_HIERARCHICAL_SAMPLE,DOC2VEC_NEGATIVE_SAMPLE_SIZE,\n",
    "                                                                str(DOC2VEC_MAX_VOCAB_SIZE), DOC2VEC_EPOCHS)\n",
    "model.save('/home/local/shalaby/models/{}'.format(file_name))"
   ]
  },
  {
   "cell_type": "code",
   "execution_count": 76,
   "metadata": {
    "collapsed": false
   },
   "outputs": [
    {
     "name": "stderr",
     "output_type": "stream",
     "text": [
      "2016-08-16 14:34:05,764 : INFO : precomputing L2-norms of word weight vectors\n",
      "precomputing L2-norms of word weight vectors\n"
     ]
    },
    {
     "ename": "AttributeError",
     "evalue": "'Doc2Vec' object has no attribute 'syn0'",
     "output_type": "error",
     "traceback": [
      "\u001b[1;31m---------------------------------------------------------------------------\u001b[0m",
      "\u001b[1;31mAttributeError\u001b[0m                            Traceback (most recent call last)",
      "\u001b[1;32m<ipython-input-76-aa93d828dd27>\u001b[0m in \u001b[0;36m<module>\u001b[1;34m()\u001b[0m\n\u001b[1;32m----> 1\u001b[1;33m \u001b[0mmodel\u001b[0m\u001b[1;33m.\u001b[0m\u001b[0mmost_similar\u001b[0m\u001b[1;33m(\u001b[0m\u001b[1;34m'08887671'\u001b[0m\u001b[1;33m)\u001b[0m\u001b[1;33m\u001b[0m\u001b[0m\n\u001b[0m",
      "\u001b[1;32m/home/stud/shalaby/.virtualenv/thesis-env/lib/python2.7/site-packages/gensim/models/word2vec.pyc\u001b[0m in \u001b[0;36mmost_similar\u001b[1;34m(self, positive, negative, topn, restrict_vocab)\u001b[0m\n\u001b[0;32m   1206\u001b[0m \u001b[1;33m\u001b[0m\u001b[0m\n\u001b[0;32m   1207\u001b[0m         \"\"\"\n\u001b[1;32m-> 1208\u001b[1;33m         \u001b[0mself\u001b[0m\u001b[1;33m.\u001b[0m\u001b[0minit_sims\u001b[0m\u001b[1;33m(\u001b[0m\u001b[1;33m)\u001b[0m\u001b[1;33m\u001b[0m\u001b[0m\n\u001b[0m\u001b[0;32m   1209\u001b[0m \u001b[1;33m\u001b[0m\u001b[0m\n\u001b[0;32m   1210\u001b[0m         \u001b[1;32mif\u001b[0m \u001b[0misinstance\u001b[0m\u001b[1;33m(\u001b[0m\u001b[0mpositive\u001b[0m\u001b[1;33m,\u001b[0m \u001b[0mstring_types\u001b[0m\u001b[1;33m)\u001b[0m \u001b[1;32mand\u001b[0m \u001b[1;32mnot\u001b[0m \u001b[0mnegative\u001b[0m\u001b[1;33m:\u001b[0m\u001b[1;33m\u001b[0m\u001b[0m\n",
      "\u001b[1;32m/home/stud/shalaby/.virtualenv/thesis-env/lib/python2.7/site-packages/gensim/models/word2vec.pyc\u001b[0m in \u001b[0;36minit_sims\u001b[1;34m(self, replace)\u001b[0m\n\u001b[0;32m   1536\u001b[0m                     \u001b[1;32mdel\u001b[0m \u001b[0mself\u001b[0m\u001b[1;33m.\u001b[0m\u001b[0msyn1\u001b[0m\u001b[1;33m\u001b[0m\u001b[0m\n\u001b[0;32m   1537\u001b[0m             \u001b[1;32melse\u001b[0m\u001b[1;33m:\u001b[0m\u001b[1;33m\u001b[0m\u001b[0m\n\u001b[1;32m-> 1538\u001b[1;33m                 \u001b[0mself\u001b[0m\u001b[1;33m.\u001b[0m\u001b[0msyn0norm\u001b[0m \u001b[1;33m=\u001b[0m \u001b[1;33m(\u001b[0m\u001b[0mself\u001b[0m\u001b[1;33m.\u001b[0m\u001b[0msyn0\u001b[0m \u001b[1;33m/\u001b[0m \u001b[0msqrt\u001b[0m\u001b[1;33m(\u001b[0m\u001b[1;33m(\u001b[0m\u001b[0mself\u001b[0m\u001b[1;33m.\u001b[0m\u001b[0msyn0\u001b[0m \u001b[1;33m**\u001b[0m \u001b[1;36m2\u001b[0m\u001b[1;33m)\u001b[0m\u001b[1;33m.\u001b[0m\u001b[0msum\u001b[0m\u001b[1;33m(\u001b[0m\u001b[1;33m-\u001b[0m\u001b[1;36m1\u001b[0m\u001b[1;33m)\u001b[0m\u001b[1;33m)\u001b[0m\u001b[1;33m[\u001b[0m\u001b[1;33m.\u001b[0m\u001b[1;33m.\u001b[0m\u001b[1;33m.\u001b[0m\u001b[1;33m,\u001b[0m \u001b[0mnewaxis\u001b[0m\u001b[1;33m]\u001b[0m\u001b[1;33m)\u001b[0m\u001b[1;33m.\u001b[0m\u001b[0mastype\u001b[0m\u001b[1;33m(\u001b[0m\u001b[0mREAL\u001b[0m\u001b[1;33m)\u001b[0m\u001b[1;33m\u001b[0m\u001b[0m\n\u001b[0m\u001b[0;32m   1539\u001b[0m \u001b[1;33m\u001b[0m\u001b[0m\n\u001b[0;32m   1540\u001b[0m     \u001b[1;32mdef\u001b[0m \u001b[0mestimate_memory\u001b[0m\u001b[1;33m(\u001b[0m\u001b[0mself\u001b[0m\u001b[1;33m,\u001b[0m \u001b[0mvocab_size\u001b[0m\u001b[1;33m=\u001b[0m\u001b[0mNone\u001b[0m\u001b[1;33m,\u001b[0m \u001b[0mreport\u001b[0m\u001b[1;33m=\u001b[0m\u001b[0mNone\u001b[0m\u001b[1;33m)\u001b[0m\u001b[1;33m:\u001b[0m\u001b[1;33m\u001b[0m\u001b[0m\n",
      "\u001b[1;31mAttributeError\u001b[0m: 'Doc2Vec' object has no attribute 'syn0'"
     ]
    }
   ],
   "source": [
    "model.most_similar('08887671')"
   ]
  },
  {
   "cell_type": "code",
   "execution_count": 77,
   "metadata": {
    "collapsed": false
   },
   "outputs": [
    {
     "ename": "AttributeError",
     "evalue": "'Doc2Vec' object has no attribute 'syn0'",
     "output_type": "error",
     "traceback": [
      "\u001b[1;31m---------------------------------------------------------------------------\u001b[0m",
      "\u001b[1;31mAttributeError\u001b[0m                            Traceback (most recent call last)",
      "\u001b[1;32m<ipython-input-77-717e96f4d1c4>\u001b[0m in \u001b[0;36m<module>\u001b[1;34m()\u001b[0m\n\u001b[1;32m----> 1\u001b[1;33m \u001b[0mmodel\u001b[0m\u001b[1;33m[\u001b[0m\u001b[1;34m'08887671'\u001b[0m\u001b[1;33m]\u001b[0m\u001b[1;33m\u001b[0m\u001b[0m\n\u001b[0m",
      "\u001b[1;32m/home/stud/shalaby/.virtualenv/thesis-env/lib/python2.7/site-packages/gensim/models/word2vec.pyc\u001b[0m in \u001b[0;36m__getitem__\u001b[1;34m(self, words)\u001b[0m\n\u001b[0;32m   1474\u001b[0m         \u001b[1;32mif\u001b[0m \u001b[0misinstance\u001b[0m\u001b[1;33m(\u001b[0m\u001b[0mwords\u001b[0m\u001b[1;33m,\u001b[0m \u001b[0mstring_types\u001b[0m\u001b[1;33m)\u001b[0m\u001b[1;33m:\u001b[0m\u001b[1;33m\u001b[0m\u001b[0m\n\u001b[0;32m   1475\u001b[0m             \u001b[1;31m# allow calls like trained_model['office'], as a shorthand for trained_model[['office']]\u001b[0m\u001b[1;33m\u001b[0m\u001b[1;33m\u001b[0m\u001b[0m\n\u001b[1;32m-> 1476\u001b[1;33m             \u001b[1;32mreturn\u001b[0m \u001b[0mself\u001b[0m\u001b[1;33m.\u001b[0m\u001b[0msyn0\u001b[0m\u001b[1;33m[\u001b[0m\u001b[0mself\u001b[0m\u001b[1;33m.\u001b[0m\u001b[0mvocab\u001b[0m\u001b[1;33m[\u001b[0m\u001b[0mwords\u001b[0m\u001b[1;33m]\u001b[0m\u001b[1;33m.\u001b[0m\u001b[0mindex\u001b[0m\u001b[1;33m]\u001b[0m\u001b[1;33m\u001b[0m\u001b[0m\n\u001b[0m\u001b[0;32m   1477\u001b[0m \u001b[1;33m\u001b[0m\u001b[0m\n\u001b[0;32m   1478\u001b[0m         \u001b[1;32mreturn\u001b[0m \u001b[0mvstack\u001b[0m\u001b[1;33m(\u001b[0m\u001b[1;33m[\u001b[0m\u001b[0mself\u001b[0m\u001b[1;33m.\u001b[0m\u001b[0msyn0\u001b[0m\u001b[1;33m[\u001b[0m\u001b[0mself\u001b[0m\u001b[1;33m.\u001b[0m\u001b[0mvocab\u001b[0m\u001b[1;33m[\u001b[0m\u001b[0mword\u001b[0m\u001b[1;33m]\u001b[0m\u001b[1;33m.\u001b[0m\u001b[0mindex\u001b[0m\u001b[1;33m]\u001b[0m \u001b[1;32mfor\u001b[0m \u001b[0mword\u001b[0m \u001b[1;32min\u001b[0m \u001b[0mwords\u001b[0m\u001b[1;33m]\u001b[0m\u001b[1;33m)\u001b[0m\u001b[1;33m\u001b[0m\u001b[0m\n",
      "\u001b[1;31mAttributeError\u001b[0m: 'Doc2Vec' object has no attribute 'syn0'"
     ]
    }
   ],
   "source": [
    "model['08887671']"
   ]
  },
  {
   "cell_type": "code",
   "execution_count": 116,
   "metadata": {
    "collapsed": false
   },
   "outputs": [
    {
     "data": {
      "text/plain": [
       "6147817"
      ]
     },
     "execution_count": 116,
     "metadata": {},
     "output_type": "execute_result"
    }
   ],
   "source": [
    "len(loaded_model.vocab)"
   ]
  },
  {
   "cell_type": "code",
   "execution_count": 99,
   "metadata": {
    "collapsed": false
   },
   "outputs": [],
   "source": [
    "from collections import defaultdict\n",
    "model.raw_vocab = defaultdict(int)"
   ]
  },
  {
   "cell_type": "code",
   "execution_count": 100,
   "metadata": {
    "collapsed": false
   },
   "outputs": [
    {
     "data": {
      "text/plain": [
       "defaultdict(int, {})"
      ]
     },
     "execution_count": 100,
     "metadata": {},
     "output_type": "execute_result"
    }
   ],
   "source": [
    "model.raw_vocab"
   ]
  },
  {
   "cell_type": "code",
   "execution_count": 83,
   "metadata": {
    "collapsed": false
   },
   "outputs": [
    {
     "data": {
      "text/plain": [
       "['__class__',\n",
       " '__contains__',\n",
       " '__delattr__',\n",
       " '__dict__',\n",
       " '__doc__',\n",
       " '__format__',\n",
       " '__getattribute__',\n",
       " '__getitem__',\n",
       " '__hash__',\n",
       " '__ignoreds',\n",
       " '__init__',\n",
       " '__module__',\n",
       " '__new__',\n",
       " '__numpys',\n",
       " '__recursive_saveloads',\n",
       " '__reduce__',\n",
       " '__reduce_ex__',\n",
       " '__repr__',\n",
       " '__scipys',\n",
       " '__setattr__',\n",
       " '__sizeof__',\n",
       " '__slotnames__',\n",
       " '__str__',\n",
       " '__subclasshook__',\n",
       " '__weakref__',\n",
       " '_adapt_by_suffix',\n",
       " '_do_train_job',\n",
       " '_load_specials',\n",
       " '_raw_word_count',\n",
       " '_save_specials',\n",
       " '_smart_save',\n",
       " 'accuracy',\n",
       " 'alpha',\n",
       " 'batch_words',\n",
       " 'build_vocab',\n",
       " 'cbow_mean',\n",
       " 'clear_sims',\n",
       " 'comment',\n",
       " 'corpus_count',\n",
       " 'create_binary_tree',\n",
       " 'dbow',\n",
       " 'dbow_words',\n",
       " 'dm',\n",
       " 'dm_concat',\n",
       " 'dm_tag_count',\n",
       " 'docvecs',\n",
       " 'doesnt_match',\n",
       " 'estimate_memory',\n",
       " 'finalize_vocab',\n",
       " 'hashfxn',\n",
       " 'hs',\n",
       " 'index2word',\n",
       " 'infer_vector',\n",
       " 'init_sims',\n",
       " 'intersect_word2vec_format',\n",
       " 'iter',\n",
       " 'layer1_size',\n",
       " 'load',\n",
       " 'load_word2vec_format',\n",
       " 'log_accuracy',\n",
       " 'make_cum_table',\n",
       " 'max_vocab_size',\n",
       " 'min_alpha',\n",
       " 'min_alpha_yet_reached',\n",
       " 'min_count',\n",
       " 'most_similar',\n",
       " 'most_similar_cosmul',\n",
       " 'n_similarity',\n",
       " 'negative',\n",
       " 'null_word',\n",
       " 'random',\n",
       " 'raw_vocab',\n",
       " 'reset_from',\n",
       " 'reset_weights',\n",
       " 'sample',\n",
       " 'save',\n",
       " 'save_word2vec_format',\n",
       " 'scale_vocab',\n",
       " 'scan_vocab',\n",
       " 'score',\n",
       " 'seed',\n",
       " 'seeded_vector',\n",
       " 'sg',\n",
       " 'similar_by_vector',\n",
       " 'similar_by_word',\n",
       " 'similarity',\n",
       " 'sort_vocab',\n",
       " 'sorted_vocab',\n",
       " 'syn0_lockf',\n",
       " 'total_train_time',\n",
       " 'train',\n",
       " 'train_count',\n",
       " 'vector_size',\n",
       " 'vocab',\n",
       " 'window',\n",
       " 'wmdistance',\n",
       " 'workers']"
      ]
     },
     "execution_count": 83,
     "metadata": {},
     "output_type": "execute_result"
    }
   ],
   "source": [
    "dir(model)"
   ]
  },
  {
   "cell_type": "code",
   "execution_count": 95,
   "metadata": {
    "collapsed": false
   },
   "outputs": [
    {
     "data": {
      "text/plain": [
       "6147817"
      ]
     },
     "execution_count": 95,
     "metadata": {},
     "output_type": "execute_result"
    }
   ],
   "source": [
    "len(model.vocab)"
   ]
  },
  {
   "cell_type": "code",
   "execution_count": 96,
   "metadata": {
    "collapsed": false
   },
   "outputs": [
    {
     "data": {
      "text/plain": [
       "<bound method Doc2Vec.wmdistance of <gensim.models.doc2vec.Doc2Vec object at 0x7fd85f134210>>"
      ]
     },
     "execution_count": 96,
     "metadata": {},
     "output_type": "execute_result"
    }
   ],
   "source": [
    "model.wmdistance"
   ]
  },
  {
   "cell_type": "code",
   "execution_count": null,
   "metadata": {
    "collapsed": true
   },
   "outputs": [],
   "source": []
  }
 ],
 "metadata": {
  "kernelspec": {
   "display_name": "Python 2",
   "language": "python",
   "name": "python2"
  },
  "language_info": {
   "codemirror_mode": {
    "name": "ipython",
    "version": 2
   },
   "file_extension": ".py",
   "mimetype": "text/x-python",
   "name": "python",
   "nbconvert_exporter": "python",
   "pygments_lexer": "ipython2",
   "version": "2.7.8"
  }
 },
 "nbformat": 4,
 "nbformat_minor": 0
}
