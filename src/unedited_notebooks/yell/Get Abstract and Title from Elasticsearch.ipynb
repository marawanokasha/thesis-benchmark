{
 "cells": [
  {
   "cell_type": "markdown",
   "metadata": {},
   "source": [
    "# Get Abstract, Title from elasticsearch"
   ]
  },
  {
   "cell_type": "code",
   "execution_count": 2,
   "metadata": {
    "collapsed": false
   },
   "outputs": [],
   "source": [
    "#from elasticsearch import Elasticsearch\n",
    "#import elasticsearch\n",
    "\n",
    "import cPickle as pickle\n",
    "\n",
    "import logging\n",
    "from logging import info"
   ]
  },
  {
   "cell_type": "code",
   "execution_count": 3,
   "metadata": {
    "collapsed": true
   },
   "outputs": [],
   "source": [
    "root = logging.getLogger()\n",
    "for handler in root.handlers[:]:\n",
    "    root.removeHandler(handler)\n",
    "logging.basicConfig(format='%(asctime)s : %(levelname)s : %(message)s', level=logging.INFO) # adds a default StreamHanlder\n",
    "#root.addHandler(logging.StreamHandler())"
   ]
  },
  {
   "cell_type": "code",
   "execution_count": 3,
   "metadata": {
    "collapsed": true
   },
   "outputs": [],
   "source": [
    "es = Elasticsearch(['localhost:9200'], timeout=60)"
   ]
  },
  {
   "cell_type": "markdown",
   "metadata": {},
   "source": [
    "## Put titles and abstracts in a map"
   ]
  },
  {
   "cell_type": "code",
   "execution_count": 12,
   "metadata": {
    "collapsed": false
   },
   "outputs": [
    {
     "name": "stderr",
     "output_type": "stream",
     "text": [
      "2017-02-24 16:31:09,872 : INFO : GET http://localhost:9200/patents/_search?search_type=scan&scroll=60s&timeout=60s&size=1000 [status:200 request:0.117s]\n",
      "No handlers could be found for logger \"elasticsearch.trace\"\n"
     ]
    }
   ],
   "source": [
    "rs = es.search(index='patents', \n",
    "          scroll='60s', \n",
    "          timeout='60s',\n",
    "          search_type='scan', \n",
    "#           search_type='query_then_fetch',\n",
    "          size=1000, \n",
    "          body={\n",
    "             \"fields\" : [\"invention-title\", \"abstract\"],\n",
    "#              \"fields\" : [\"abstract\"],\n",
    "               \"query\" : {\n",
    "                  \"match_all\" : {} \n",
    "               }\n",
    "         }\n",
    ")\n",
    "\n",
    "sid = rs['_scroll_id']\n",
    "total_size = rs['hits']['total']"
   ]
  },
  {
   "cell_type": "code",
   "execution_count": 10,
   "metadata": {
    "collapsed": false,
    "scrolled": true
   },
   "outputs": [
    {
     "data": {
      "text/plain": [
       "{u'_scroll_id': u'c2Nhbjs1OzU6N0lSeHlyNnJTUGFRVnI5UDB6N3lsdzsyOjdJUnh5cjZyU1BhUVZyOVAwejd5bHc7MTo3SVJ4eXI2clNQYVFWcjlQMHo3eWx3OzM6N0lSeHlyNnJTUGFRVnI5UDB6N3lsdzs0OjdJUnh5cjZyU1BhUVZyOVAwejd5bHc7MTt0b3RhbF9oaXRzOjIwMDk3NTA7',\n",
       " u'_shards': {u'failed': 0, u'successful': 5, u'total': 5},\n",
       " u'hits': {u'hits': [], u'max_score': 0.0, u'total': 2009750},\n",
       " u'timed_out': False,\n",
       " u'took': 64}"
      ]
     },
     "execution_count": 10,
     "metadata": {},
     "output_type": "execute_result"
    }
   ],
   "source": [
    "rs"
   ]
  },
  {
   "cell_type": "code",
   "execution_count": 11,
   "metadata": {
    "collapsed": false
   },
   "outputs": [
    {
     "name": "stdout",
     "output_type": "stream",
     "text": [
      "Total Number of Document: 2009750\n"
     ]
    }
   ],
   "source": [
    "print 'Total Number of Document: {}'.format(total_size)"
   ]
  },
  {
   "cell_type": "code",
   "execution_count": 12,
   "metadata": {
    "collapsed": true
   },
   "outputs": [],
   "source": [
    "titles_map = {}\n",
    "abstracts_map = {}"
   ]
  },
  {
   "cell_type": "code",
   "execution_count": 13,
   "metadata": {
    "collapsed": false,
    "scrolled": true
   },
   "outputs": [
    {
     "name": "stdout",
     "output_type": "stream",
     "text": [
      "Scrolling...\n"
     ]
    },
    {
     "name": "stderr",
     "output_type": "stream",
     "text": [
      "2017-02-24 15:28:21,932 : INFO : GET http://localhost:9200/_search/scroll?scroll=5m [status:200 request:9.350s]\n",
      "2017-02-24 15:28:21,995 : INFO : Documents Read: 5000\n"
     ]
    },
    {
     "name": "stdout",
     "output_type": "stream",
     "text": [
      "scroll size: 5000\n",
      "Scrolling...\n"
     ]
    },
    {
     "name": "stderr",
     "output_type": "stream",
     "text": [
      "2017-02-24 15:28:30,502 : INFO : GET http://localhost:9200/_search/scroll?scroll=5m [status:200 request:8.477s]\n",
      "2017-02-24 15:28:30,572 : INFO : Documents Read: 10000\n"
     ]
    },
    {
     "name": "stdout",
     "output_type": "stream",
     "text": [
      "scroll size: 5000\n",
      "Scrolling...\n"
     ]
    },
    {
     "name": "stderr",
     "output_type": "stream",
     "text": [
      "2017-02-24 15:28:39,838 : INFO : GET http://localhost:9200/_search/scroll?scroll=5m [status:200 request:9.229s]\n",
      "2017-02-24 15:28:39,912 : INFO : Documents Read: 15000\n"
     ]
    },
    {
     "name": "stdout",
     "output_type": "stream",
     "text": [
      "scroll size: 5000\n",
      "Scrolling...\n"
     ]
    },
    {
     "name": "stderr",
     "output_type": "stream",
     "text": [
      "2017-02-24 15:28:48,458 : INFO : GET http://localhost:9200/_search/scroll?scroll=5m [status:200 request:8.536s]\n",
      "2017-02-24 15:28:48,496 : INFO : Documents Read: 20000\n"
     ]
    },
    {
     "name": "stdout",
     "output_type": "stream",
     "text": [
      "scroll size: 5000\n",
      "Scrolling...\n"
     ]
    },
    {
     "name": "stderr",
     "output_type": "stream",
     "text": [
      "2017-02-24 15:28:57,009 : INFO : GET http://localhost:9200/_search/scroll?scroll=5m [status:200 request:8.485s]\n",
      "2017-02-24 15:28:57,067 : INFO : Documents Read: 25000\n"
     ]
    },
    {
     "name": "stdout",
     "output_type": "stream",
     "text": [
      "scroll size: 5000\n",
      "Scrolling...\n"
     ]
    },
    {
     "name": "stderr",
     "output_type": "stream",
     "text": [
      "2017-02-24 15:29:05,931 : INFO : GET http://localhost:9200/_search/scroll?scroll=5m [status:200 request:8.850s]\n",
      "2017-02-24 15:29:05,993 : INFO : Documents Read: 30000\n"
     ]
    },
    {
     "name": "stdout",
     "output_type": "stream",
     "text": [
      "scroll size: 5000\n",
      "Scrolling...\n"
     ]
    },
    {
     "name": "stderr",
     "output_type": "stream",
     "text": [
      "2017-02-24 15:29:14,932 : INFO : GET http://localhost:9200/_search/scroll?scroll=5m [status:200 request:8.910s]\n",
      "2017-02-24 15:29:14,991 : INFO : Documents Read: 35000\n"
     ]
    },
    {
     "name": "stdout",
     "output_type": "stream",
     "text": [
      "scroll size: 5000\n",
      "Scrolling...\n"
     ]
    },
    {
     "name": "stderr",
     "output_type": "stream",
     "text": [
      "2017-02-24 15:29:23,370 : INFO : GET http://localhost:9200/_search/scroll?scroll=5m [status:200 request:8.366s]\n",
      "2017-02-24 15:29:23,410 : INFO : Documents Read: 40000\n"
     ]
    },
    {
     "name": "stdout",
     "output_type": "stream",
     "text": [
      "scroll size: 5000\n",
      "Scrolling...\n"
     ]
    },
    {
     "name": "stderr",
     "output_type": "stream",
     "text": [
      "2017-02-24 15:29:32,019 : INFO : GET http://localhost:9200/_search/scroll?scroll=5m [status:200 request:8.592s]\n",
      "2017-02-24 15:29:32,114 : INFO : Documents Read: 45000\n"
     ]
    },
    {
     "name": "stdout",
     "output_type": "stream",
     "text": [
      "scroll size: 5000\n",
      "Scrolling...\n"
     ]
    },
    {
     "name": "stderr",
     "output_type": "stream",
     "text": [
      "2017-02-24 15:29:41,162 : INFO : GET http://localhost:9200/_search/scroll?scroll=5m [status:200 request:9.037s]\n",
      "2017-02-24 15:29:41,204 : INFO : Documents Read: 50000\n"
     ]
    },
    {
     "name": "stdout",
     "output_type": "stream",
     "text": [
      "scroll size: 5000\n",
      "Scrolling...\n"
     ]
    },
    {
     "name": "stderr",
     "output_type": "stream",
     "text": [
      "2017-02-24 15:29:49,447 : INFO : GET http://localhost:9200/_search/scroll?scroll=5m [status:200 request:8.207s]\n",
      "2017-02-24 15:29:49,513 : INFO : Documents Read: 55000\n"
     ]
    },
    {
     "name": "stdout",
     "output_type": "stream",
     "text": [
      "scroll size: 5000\n",
      "Scrolling...\n"
     ]
    },
    {
     "name": "stderr",
     "output_type": "stream",
     "text": [
      "2017-02-24 15:29:58,721 : INFO : GET http://localhost:9200/_search/scroll?scroll=5m [status:200 request:9.193s]\n",
      "2017-02-24 15:29:58,784 : INFO : Documents Read: 60000\n"
     ]
    },
    {
     "name": "stdout",
     "output_type": "stream",
     "text": [
      "scroll size: 5000\n",
      "Scrolling...\n"
     ]
    },
    {
     "name": "stderr",
     "output_type": "stream",
     "text": [
      "2017-02-24 15:30:07,804 : INFO : GET http://localhost:9200/_search/scroll?scroll=5m [status:200 request:8.997s]\n",
      "2017-02-24 15:30:07,871 : INFO : Documents Read: 65000\n"
     ]
    },
    {
     "name": "stdout",
     "output_type": "stream",
     "text": [
      "scroll size: 5000\n",
      "Scrolling...\n"
     ]
    },
    {
     "name": "stderr",
     "output_type": "stream",
     "text": [
      "2017-02-24 15:30:16,423 : INFO : GET http://localhost:9200/_search/scroll?scroll=5m [status:200 request:8.528s]\n",
      "2017-02-24 15:30:16,479 : INFO : Documents Read: 70000\n"
     ]
    },
    {
     "name": "stdout",
     "output_type": "stream",
     "text": [
      "scroll size: 5000\n",
      "Scrolling...\n"
     ]
    },
    {
     "name": "stderr",
     "output_type": "stream",
     "text": [
      "2017-02-24 15:30:25,647 : INFO : GET http://localhost:9200/_search/scroll?scroll=5m [status:200 request:9.143s]\n",
      "2017-02-24 15:30:25,740 : INFO : Documents Read: 75000\n"
     ]
    },
    {
     "name": "stdout",
     "output_type": "stream",
     "text": [
      "scroll size: 5000\n",
      "Scrolling...\n"
     ]
    },
    {
     "name": "stderr",
     "output_type": "stream",
     "text": [
      "2017-02-24 15:30:34,450 : INFO : GET http://localhost:9200/_search/scroll?scroll=5m [status:200 request:8.675s]\n",
      "2017-02-24 15:30:34,510 : INFO : Documents Read: 80000\n"
     ]
    },
    {
     "name": "stdout",
     "output_type": "stream",
     "text": [
      "scroll size: 5000\n",
      "Scrolling...\n"
     ]
    },
    {
     "name": "stderr",
     "output_type": "stream",
     "text": [
      "2017-02-24 15:30:43,128 : INFO : GET http://localhost:9200/_search/scroll?scroll=5m [status:200 request:8.592s]\n",
      "2017-02-24 15:30:43,219 : INFO : Documents Read: 85000\n"
     ]
    },
    {
     "name": "stdout",
     "output_type": "stream",
     "text": [
      "scroll size: 5000\n",
      "Scrolling...\n"
     ]
    },
    {
     "name": "stderr",
     "output_type": "stream",
     "text": [
      "2017-02-24 15:30:51,717 : INFO : GET http://localhost:9200/_search/scroll?scroll=5m [status:200 request:8.482s]\n",
      "2017-02-24 15:30:51,811 : INFO : Documents Read: 90000\n"
     ]
    },
    {
     "name": "stdout",
     "output_type": "stream",
     "text": [
      "scroll size: 5000\n",
      "Scrolling...\n"
     ]
    },
    {
     "name": "stderr",
     "output_type": "stream",
     "text": [
      "2017-02-24 15:31:00,230 : INFO : GET http://localhost:9200/_search/scroll?scroll=5m [status:200 request:8.402s]\n",
      "2017-02-24 15:31:00,287 : INFO : Documents Read: 95000\n"
     ]
    },
    {
     "name": "stdout",
     "output_type": "stream",
     "text": [
      "scroll size: 5000\n",
      "Scrolling...\n"
     ]
    },
    {
     "name": "stderr",
     "output_type": "stream",
     "text": [
      "2017-02-24 15:31:08,192 : INFO : GET http://localhost:9200/_search/scroll?scroll=5m [status:200 request:7.887s]\n",
      "2017-02-24 15:31:08,252 : INFO : Documents Read: 100000\n"
     ]
    },
    {
     "name": "stdout",
     "output_type": "stream",
     "text": [
      "scroll size: 5000\n",
      "Scrolling...\n"
     ]
    },
    {
     "name": "stderr",
     "output_type": "stream",
     "text": [
      "2017-02-24 15:31:16,650 : INFO : GET http://localhost:9200/_search/scroll?scroll=5m [status:200 request:8.378s]\n",
      "2017-02-24 15:31:16,710 : INFO : Documents Read: 105000\n"
     ]
    },
    {
     "name": "stdout",
     "output_type": "stream",
     "text": [
      "scroll size: 5000\n",
      "Scrolling...\n"
     ]
    },
    {
     "name": "stderr",
     "output_type": "stream",
     "text": [
      "2017-02-24 15:31:25,112 : INFO : GET http://localhost:9200/_search/scroll?scroll=5m [status:200 request:8.372s]\n",
      "2017-02-24 15:31:25,251 : INFO : Documents Read: 110000\n"
     ]
    },
    {
     "name": "stdout",
     "output_type": "stream",
     "text": [
      "scroll size: 5000\n",
      "Scrolling...\n"
     ]
    },
    {
     "name": "stderr",
     "output_type": "stream",
     "text": [
      "2017-02-24 15:31:33,322 : INFO : GET http://localhost:9200/_search/scroll?scroll=5m [status:200 request:8.059s]\n",
      "2017-02-24 15:31:33,389 : INFO : Documents Read: 115000\n"
     ]
    },
    {
     "name": "stdout",
     "output_type": "stream",
     "text": [
      "scroll size: 5000\n",
      "Scrolling...\n"
     ]
    },
    {
     "name": "stderr",
     "output_type": "stream",
     "text": [
      "2017-02-24 15:31:41,815 : INFO : GET http://localhost:9200/_search/scroll?scroll=5m [status:200 request:8.410s]\n",
      "2017-02-24 15:31:41,855 : INFO : Documents Read: 120000\n"
     ]
    },
    {
     "name": "stdout",
     "output_type": "stream",
     "text": [
      "scroll size: 5000\n",
      "Scrolling...\n"
     ]
    },
    {
     "name": "stderr",
     "output_type": "stream",
     "text": [
      "2017-02-24 15:31:51,070 : INFO : GET http://localhost:9200/_search/scroll?scroll=5m [status:200 request:9.205s]\n",
      "2017-02-24 15:31:51,109 : INFO : Documents Read: 125000\n"
     ]
    },
    {
     "name": "stdout",
     "output_type": "stream",
     "text": [
      "scroll size: 5000\n",
      "Scrolling...\n"
     ]
    },
    {
     "name": "stderr",
     "output_type": "stream",
     "text": [
      "2017-02-24 15:32:00,515 : INFO : GET http://localhost:9200/_search/scroll?scroll=5m [status:200 request:9.392s]\n",
      "2017-02-24 15:32:00,554 : INFO : Documents Read: 130000\n"
     ]
    },
    {
     "name": "stdout",
     "output_type": "stream",
     "text": [
      "scroll size: 5000\n",
      "Scrolling...\n"
     ]
    },
    {
     "name": "stderr",
     "output_type": "stream",
     "text": [
      "2017-02-24 15:32:09,863 : INFO : GET http://localhost:9200/_search/scroll?scroll=5m [status:200 request:9.298s]\n",
      "2017-02-24 15:32:09,904 : INFO : Documents Read: 135000\n"
     ]
    },
    {
     "name": "stdout",
     "output_type": "stream",
     "text": [
      "scroll size: 5000\n",
      "Scrolling...\n"
     ]
    },
    {
     "name": "stderr",
     "output_type": "stream",
     "text": [
      "2017-02-24 15:32:18,625 : INFO : GET http://localhost:9200/_search/scroll?scroll=5m [status:200 request:8.708s]\n",
      "2017-02-24 15:32:18,713 : INFO : Documents Read: 140000\n"
     ]
    },
    {
     "name": "stdout",
     "output_type": "stream",
     "text": [
      "scroll size: 5000\n",
      "Scrolling...\n"
     ]
    },
    {
     "name": "stderr",
     "output_type": "stream",
     "text": [
      "2017-02-24 15:32:27,756 : INFO : GET http://localhost:9200/_search/scroll?scroll=5m [status:200 request:9.030s]\n",
      "2017-02-24 15:32:27,793 : INFO : Documents Read: 145000\n"
     ]
    },
    {
     "name": "stdout",
     "output_type": "stream",
     "text": [
      "scroll size: 5000\n",
      "Scrolling...\n"
     ]
    },
    {
     "name": "stderr",
     "output_type": "stream",
     "text": [
      "2017-02-24 15:32:37,132 : INFO : GET http://localhost:9200/_search/scroll?scroll=5m [status:200 request:9.317s]\n",
      "2017-02-24 15:32:37,170 : INFO : Documents Read: 150000\n"
     ]
    },
    {
     "name": "stdout",
     "output_type": "stream",
     "text": [
      "scroll size: 5000\n",
      "Scrolling...\n"
     ]
    },
    {
     "name": "stderr",
     "output_type": "stream",
     "text": [
      "2017-02-24 15:32:46,052 : INFO : GET http://localhost:9200/_search/scroll?scroll=5m [status:200 request:8.870s]\n",
      "2017-02-24 15:32:46,093 : INFO : Documents Read: 155000\n"
     ]
    },
    {
     "name": "stdout",
     "output_type": "stream",
     "text": [
      "scroll size: 5000\n",
      "Scrolling...\n"
     ]
    },
    {
     "name": "stderr",
     "output_type": "stream",
     "text": [
      "2017-02-24 15:32:56,008 : INFO : GET http://localhost:9200/_search/scroll?scroll=5m [status:200 request:9.897s]\n",
      "2017-02-24 15:32:56,072 : INFO : Documents Read: 160000\n"
     ]
    },
    {
     "name": "stdout",
     "output_type": "stream",
     "text": [
      "scroll size: 5000\n",
      "Scrolling...\n"
     ]
    },
    {
     "name": "stderr",
     "output_type": "stream",
     "text": [
      "2017-02-24 15:33:04,952 : INFO : GET http://localhost:9200/_search/scroll?scroll=5m [status:200 request:8.869s]\n",
      "2017-02-24 15:33:04,990 : INFO : Documents Read: 165000\n"
     ]
    },
    {
     "name": "stdout",
     "output_type": "stream",
     "text": [
      "scroll size: 5000\n",
      "Scrolling...\n"
     ]
    },
    {
     "name": "stderr",
     "output_type": "stream",
     "text": [
      "2017-02-24 15:33:14,403 : INFO : GET http://localhost:9200/_search/scroll?scroll=5m [status:200 request:9.391s]\n",
      "2017-02-24 15:33:14,507 : INFO : Documents Read: 170000\n"
     ]
    },
    {
     "name": "stdout",
     "output_type": "stream",
     "text": [
      "scroll size: 5000\n",
      "Scrolling...\n"
     ]
    },
    {
     "name": "stderr",
     "output_type": "stream",
     "text": [
      "2017-02-24 15:33:24,006 : INFO : GET http://localhost:9200/_search/scroll?scroll=5m [status:200 request:9.489s]\n",
      "2017-02-24 15:33:24,052 : INFO : Documents Read: 175000\n"
     ]
    },
    {
     "name": "stdout",
     "output_type": "stream",
     "text": [
      "scroll size: 5000\n",
      "Scrolling...\n"
     ]
    },
    {
     "name": "stderr",
     "output_type": "stream",
     "text": [
      "2017-02-24 15:33:32,597 : INFO : GET http://localhost:9200/_search/scroll?scroll=5m [status:200 request:8.527s]\n",
      "2017-02-24 15:33:32,650 : INFO : Documents Read: 180000\n"
     ]
    },
    {
     "name": "stdout",
     "output_type": "stream",
     "text": [
      "scroll size: 5000\n",
      "Scrolling...\n"
     ]
    },
    {
     "name": "stderr",
     "output_type": "stream",
     "text": [
      "2017-02-24 15:33:42,112 : INFO : GET http://localhost:9200/_search/scroll?scroll=5m [status:200 request:9.438s]\n",
      "2017-02-24 15:33:42,153 : INFO : Documents Read: 185000\n"
     ]
    },
    {
     "name": "stdout",
     "output_type": "stream",
     "text": [
      "scroll size: 5000\n",
      "Scrolling...\n"
     ]
    },
    {
     "name": "stderr",
     "output_type": "stream",
     "text": [
      "2017-02-24 15:33:51,120 : INFO : GET http://localhost:9200/_search/scroll?scroll=5m [status:200 request:8.953s]\n",
      "2017-02-24 15:33:51,173 : INFO : Documents Read: 190000\n"
     ]
    },
    {
     "name": "stdout",
     "output_type": "stream",
     "text": [
      "scroll size: 5000\n",
      "Scrolling...\n"
     ]
    },
    {
     "name": "stderr",
     "output_type": "stream",
     "text": [
      "2017-02-24 15:34:00,295 : INFO : GET http://localhost:9200/_search/scroll?scroll=5m [status:200 request:9.108s]\n",
      "2017-02-24 15:34:00,344 : INFO : Documents Read: 195000\n"
     ]
    },
    {
     "name": "stdout",
     "output_type": "stream",
     "text": [
      "scroll size: 5000\n",
      "Scrolling...\n"
     ]
    },
    {
     "name": "stderr",
     "output_type": "stream",
     "text": [
      "2017-02-24 15:34:10,279 : INFO : GET http://localhost:9200/_search/scroll?scroll=5m [status:200 request:9.921s]\n",
      "2017-02-24 15:34:10,320 : INFO : Documents Read: 200000\n"
     ]
    },
    {
     "name": "stdout",
     "output_type": "stream",
     "text": [
      "scroll size: 5000\n",
      "Scrolling...\n"
     ]
    },
    {
     "name": "stderr",
     "output_type": "stream",
     "text": [
      "2017-02-24 15:34:19,554 : INFO : GET http://localhost:9200/_search/scroll?scroll=5m [status:200 request:9.221s]\n",
      "2017-02-24 15:34:19,666 : INFO : Documents Read: 205000\n"
     ]
    },
    {
     "name": "stdout",
     "output_type": "stream",
     "text": [
      "scroll size: 5000\n",
      "Scrolling...\n"
     ]
    },
    {
     "name": "stderr",
     "output_type": "stream",
     "text": [
      "2017-02-24 15:34:28,746 : INFO : GET http://localhost:9200/_search/scroll?scroll=5m [status:200 request:9.064s]\n",
      "2017-02-24 15:34:28,786 : INFO : Documents Read: 210000\n"
     ]
    },
    {
     "name": "stdout",
     "output_type": "stream",
     "text": [
      "scroll size: 5000\n",
      "Scrolling...\n"
     ]
    },
    {
     "name": "stderr",
     "output_type": "stream",
     "text": [
      "2017-02-24 15:34:38,126 : INFO : GET http://localhost:9200/_search/scroll?scroll=5m [status:200 request:9.319s]\n",
      "2017-02-24 15:34:38,173 : INFO : Documents Read: 215000\n"
     ]
    },
    {
     "name": "stdout",
     "output_type": "stream",
     "text": [
      "scroll size: 5000\n",
      "Scrolling...\n"
     ]
    },
    {
     "name": "stderr",
     "output_type": "stream",
     "text": [
      "2017-02-24 15:34:47,459 : INFO : GET http://localhost:9200/_search/scroll?scroll=5m [status:200 request:9.273s]\n",
      "2017-02-24 15:34:47,502 : INFO : Documents Read: 220000\n"
     ]
    },
    {
     "name": "stdout",
     "output_type": "stream",
     "text": [
      "scroll size: 5000\n",
      "Scrolling...\n"
     ]
    },
    {
     "name": "stderr",
     "output_type": "stream",
     "text": [
      "2017-02-24 15:34:56,461 : INFO : GET http://localhost:9200/_search/scroll?scroll=5m [status:200 request:8.946s]\n",
      "2017-02-24 15:34:56,500 : INFO : Documents Read: 225000\n"
     ]
    },
    {
     "name": "stdout",
     "output_type": "stream",
     "text": [
      "scroll size: 5000\n",
      "Scrolling...\n"
     ]
    },
    {
     "name": "stderr",
     "output_type": "stream",
     "text": [
      "2017-02-24 15:35:06,769 : INFO : GET http://localhost:9200/_search/scroll?scroll=5m [status:200 request:10.259s]\n",
      "2017-02-24 15:35:06,809 : INFO : Documents Read: 230000\n"
     ]
    },
    {
     "name": "stdout",
     "output_type": "stream",
     "text": [
      "scroll size: 5000\n",
      "Scrolling...\n"
     ]
    },
    {
     "name": "stderr",
     "output_type": "stream",
     "text": [
      "2017-02-24 15:35:16,840 : INFO : GET http://localhost:9200/_search/scroll?scroll=5m [status:200 request:10.018s]\n",
      "2017-02-24 15:35:16,971 : INFO : Documents Read: 235000\n"
     ]
    },
    {
     "name": "stdout",
     "output_type": "stream",
     "text": [
      "scroll size: 5000\n",
      "Scrolling...\n"
     ]
    },
    {
     "name": "stderr",
     "output_type": "stream",
     "text": [
      "2017-02-24 15:35:26,717 : INFO : GET http://localhost:9200/_search/scroll?scroll=5m [status:200 request:9.735s]\n",
      "2017-02-24 15:35:26,757 : INFO : Documents Read: 240000\n"
     ]
    },
    {
     "name": "stdout",
     "output_type": "stream",
     "text": [
      "scroll size: 5000\n",
      "Scrolling...\n"
     ]
    },
    {
     "name": "stderr",
     "output_type": "stream",
     "text": [
      "2017-02-24 15:35:36,536 : INFO : GET http://localhost:9200/_search/scroll?scroll=5m [status:200 request:9.766s]\n",
      "2017-02-24 15:35:36,577 : INFO : Documents Read: 245000\n"
     ]
    },
    {
     "name": "stdout",
     "output_type": "stream",
     "text": [
      "scroll size: 5000\n",
      "Scrolling...\n"
     ]
    },
    {
     "name": "stderr",
     "output_type": "stream",
     "text": [
      "2017-02-24 15:35:45,959 : INFO : GET http://localhost:9200/_search/scroll?scroll=5m [status:200 request:9.371s]\n",
      "2017-02-24 15:35:46,004 : INFO : Documents Read: 250000\n"
     ]
    },
    {
     "name": "stdout",
     "output_type": "stream",
     "text": [
      "scroll size: 5000\n",
      "Scrolling...\n"
     ]
    },
    {
     "name": "stderr",
     "output_type": "stream",
     "text": [
      "2017-02-24 15:35:56,195 : INFO : GET http://localhost:9200/_search/scroll?scroll=5m [status:200 request:10.176s]\n",
      "2017-02-24 15:35:56,233 : INFO : Documents Read: 255000\n"
     ]
    },
    {
     "name": "stdout",
     "output_type": "stream",
     "text": [
      "scroll size: 5000\n",
      "Scrolling...\n"
     ]
    },
    {
     "name": "stderr",
     "output_type": "stream",
     "text": [
      "2017-02-24 15:36:05,823 : INFO : GET http://localhost:9200/_search/scroll?scroll=5m [status:200 request:9.579s]\n",
      "2017-02-24 15:36:05,862 : INFO : Documents Read: 260000\n"
     ]
    },
    {
     "name": "stdout",
     "output_type": "stream",
     "text": [
      "scroll size: 5000\n",
      "Scrolling...\n"
     ]
    },
    {
     "name": "stderr",
     "output_type": "stream",
     "text": [
      "2017-02-24 15:36:14,289 : INFO : GET http://localhost:9200/_search/scroll?scroll=5m [status:200 request:8.414s]\n",
      "2017-02-24 15:36:14,416 : INFO : Documents Read: 265000\n"
     ]
    },
    {
     "name": "stdout",
     "output_type": "stream",
     "text": [
      "scroll size: 5000\n",
      "Scrolling...\n"
     ]
    },
    {
     "name": "stderr",
     "output_type": "stream",
     "text": [
      "2017-02-24 15:36:23,774 : INFO : GET http://localhost:9200/_search/scroll?scroll=5m [status:200 request:9.347s]\n",
      "2017-02-24 15:36:23,813 : INFO : Documents Read: 270000\n"
     ]
    },
    {
     "name": "stdout",
     "output_type": "stream",
     "text": [
      "scroll size: 5000\n",
      "Scrolling...\n"
     ]
    },
    {
     "name": "stderr",
     "output_type": "stream",
     "text": [
      "2017-02-24 15:36:32,919 : INFO : GET http://localhost:9200/_search/scroll?scroll=5m [status:200 request:9.093s]\n",
      "2017-02-24 15:36:32,957 : INFO : Documents Read: 275000\n"
     ]
    },
    {
     "name": "stdout",
     "output_type": "stream",
     "text": [
      "scroll size: 5000\n",
      "Scrolling...\n"
     ]
    },
    {
     "name": "stderr",
     "output_type": "stream",
     "text": [
      "2017-02-24 15:36:41,608 : INFO : GET http://localhost:9200/_search/scroll?scroll=5m [status:200 request:8.641s]\n",
      "2017-02-24 15:36:41,647 : INFO : Documents Read: 280000\n"
     ]
    },
    {
     "name": "stdout",
     "output_type": "stream",
     "text": [
      "scroll size: 5000\n",
      "Scrolling...\n"
     ]
    },
    {
     "name": "stderr",
     "output_type": "stream",
     "text": [
      "2017-02-24 15:36:50,469 : INFO : GET http://localhost:9200/_search/scroll?scroll=5m [status:200 request:8.804s]\n",
      "2017-02-24 15:36:50,508 : INFO : Documents Read: 285000\n"
     ]
    },
    {
     "name": "stdout",
     "output_type": "stream",
     "text": [
      "scroll size: 5000\n",
      "Scrolling...\n"
     ]
    },
    {
     "name": "stderr",
     "output_type": "stream",
     "text": [
      "2017-02-24 15:37:01,064 : INFO : GET http://localhost:9200/_search/scroll?scroll=5m [status:200 request:10.541s]\n",
      "2017-02-24 15:37:01,109 : INFO : Documents Read: 290000\n"
     ]
    },
    {
     "name": "stdout",
     "output_type": "stream",
     "text": [
      "scroll size: 5000\n",
      "Scrolling...\n"
     ]
    },
    {
     "name": "stderr",
     "output_type": "stream",
     "text": [
      "2017-02-24 15:37:11,447 : INFO : GET http://localhost:9200/_search/scroll?scroll=5m [status:200 request:10.326s]\n",
      "2017-02-24 15:37:11,487 : INFO : Documents Read: 295000\n"
     ]
    },
    {
     "name": "stdout",
     "output_type": "stream",
     "text": [
      "scroll size: 5000\n",
      "Scrolling...\n"
     ]
    },
    {
     "name": "stderr",
     "output_type": "stream",
     "text": [
      "2017-02-24 15:37:20,847 : INFO : GET http://localhost:9200/_search/scroll?scroll=5m [status:200 request:9.349s]\n",
      "2017-02-24 15:37:20,976 : INFO : Documents Read: 300000\n"
     ]
    },
    {
     "name": "stdout",
     "output_type": "stream",
     "text": [
      "scroll size: 5000\n",
      "Scrolling...\n"
     ]
    },
    {
     "name": "stderr",
     "output_type": "stream",
     "text": [
      "2017-02-24 15:37:30,456 : INFO : GET http://localhost:9200/_search/scroll?scroll=5m [status:200 request:9.466s]\n",
      "2017-02-24 15:37:30,497 : INFO : Documents Read: 305000\n"
     ]
    },
    {
     "name": "stdout",
     "output_type": "stream",
     "text": [
      "scroll size: 5000\n",
      "Scrolling...\n"
     ]
    },
    {
     "name": "stderr",
     "output_type": "stream",
     "text": [
      "2017-02-24 15:37:40,516 : INFO : GET http://localhost:9200/_search/scroll?scroll=5m [status:200 request:10.008s]\n",
      "2017-02-24 15:37:40,557 : INFO : Documents Read: 310000\n"
     ]
    },
    {
     "name": "stdout",
     "output_type": "stream",
     "text": [
      "scroll size: 5000\n",
      "Scrolling...\n"
     ]
    },
    {
     "name": "stderr",
     "output_type": "stream",
     "text": [
      "2017-02-24 15:37:50,539 : INFO : GET http://localhost:9200/_search/scroll?scroll=5m [status:200 request:9.967s]\n",
      "2017-02-24 15:37:50,582 : INFO : Documents Read: 315000\n"
     ]
    },
    {
     "name": "stdout",
     "output_type": "stream",
     "text": [
      "scroll size: 5000\n",
      "Scrolling...\n"
     ]
    },
    {
     "name": "stderr",
     "output_type": "stream",
     "text": [
      "2017-02-24 15:38:00,310 : INFO : GET http://localhost:9200/_search/scroll?scroll=5m [status:200 request:9.714s]\n",
      "2017-02-24 15:38:00,353 : INFO : Documents Read: 320000\n"
     ]
    },
    {
     "name": "stdout",
     "output_type": "stream",
     "text": [
      "scroll size: 5000\n",
      "Scrolling...\n"
     ]
    },
    {
     "name": "stderr",
     "output_type": "stream",
     "text": [
      "2017-02-24 15:38:10,829 : INFO : GET http://localhost:9200/_search/scroll?scroll=5m [status:200 request:10.461s]\n",
      "2017-02-24 15:38:10,868 : INFO : Documents Read: 325000\n"
     ]
    },
    {
     "name": "stdout",
     "output_type": "stream",
     "text": [
      "scroll size: 5000\n",
      "Scrolling...\n"
     ]
    },
    {
     "name": "stderr",
     "output_type": "stream",
     "text": [
      "2017-02-24 15:38:20,088 : INFO : GET http://localhost:9200/_search/scroll?scroll=5m [status:200 request:9.209s]\n",
      "2017-02-24 15:38:20,236 : INFO : Documents Read: 330000\n"
     ]
    },
    {
     "name": "stdout",
     "output_type": "stream",
     "text": [
      "scroll size: 5000\n",
      "Scrolling...\n"
     ]
    },
    {
     "name": "stderr",
     "output_type": "stream",
     "text": [
      "2017-02-24 15:38:29,983 : INFO : GET http://localhost:9200/_search/scroll?scroll=5m [status:200 request:9.730s]\n",
      "2017-02-24 15:38:30,027 : INFO : Documents Read: 335000\n"
     ]
    },
    {
     "name": "stdout",
     "output_type": "stream",
     "text": [
      "scroll size: 5000\n",
      "Scrolling...\n"
     ]
    },
    {
     "name": "stderr",
     "output_type": "stream",
     "text": [
      "2017-02-24 15:38:40,178 : INFO : GET http://localhost:9200/_search/scroll?scroll=5m [status:200 request:10.140s]\n",
      "2017-02-24 15:38:40,219 : INFO : Documents Read: 340000\n"
     ]
    },
    {
     "name": "stdout",
     "output_type": "stream",
     "text": [
      "scroll size: 5000\n",
      "Scrolling...\n"
     ]
    },
    {
     "name": "stderr",
     "output_type": "stream",
     "text": [
      "2017-02-24 15:38:50,376 : INFO : GET http://localhost:9200/_search/scroll?scroll=5m [status:200 request:10.129s]\n",
      "2017-02-24 15:38:50,417 : INFO : Documents Read: 345000\n"
     ]
    },
    {
     "name": "stdout",
     "output_type": "stream",
     "text": [
      "scroll size: 5000\n",
      "Scrolling...\n"
     ]
    },
    {
     "name": "stderr",
     "output_type": "stream",
     "text": [
      "2017-02-24 15:39:01,475 : INFO : GET http://localhost:9200/_search/scroll?scroll=5m [status:200 request:11.039s]\n",
      "2017-02-24 15:39:01,532 : INFO : Documents Read: 350000\n"
     ]
    },
    {
     "name": "stdout",
     "output_type": "stream",
     "text": [
      "scroll size: 5000\n",
      "Scrolling...\n"
     ]
    },
    {
     "name": "stderr",
     "output_type": "stream",
     "text": [
      "2017-02-24 15:39:12,488 : INFO : GET http://localhost:9200/_search/scroll?scroll=5m [status:200 request:10.945s]\n",
      "2017-02-24 15:39:12,530 : INFO : Documents Read: 355000\n"
     ]
    },
    {
     "name": "stdout",
     "output_type": "stream",
     "text": [
      "scroll size: 5000\n",
      "Scrolling...\n"
     ]
    },
    {
     "name": "stderr",
     "output_type": "stream",
     "text": [
      "2017-02-24 15:39:22,606 : INFO : GET http://localhost:9200/_search/scroll?scroll=5m [status:200 request:10.048s]\n",
      "2017-02-24 15:39:22,746 : INFO : Documents Read: 360000\n"
     ]
    },
    {
     "name": "stdout",
     "output_type": "stream",
     "text": [
      "scroll size: 5000\n",
      "Scrolling...\n"
     ]
    },
    {
     "name": "stderr",
     "output_type": "stream",
     "text": [
      "2017-02-24 15:39:33,287 : INFO : GET http://localhost:9200/_search/scroll?scroll=5m [status:200 request:10.528s]\n",
      "2017-02-24 15:39:33,326 : INFO : Documents Read: 365000\n"
     ]
    },
    {
     "name": "stdout",
     "output_type": "stream",
     "text": [
      "scroll size: 5000\n",
      "Scrolling...\n"
     ]
    },
    {
     "name": "stderr",
     "output_type": "stream",
     "text": [
      "2017-02-24 15:39:43,485 : INFO : GET http://localhost:9200/_search/scroll?scroll=5m [status:200 request:10.147s]\n",
      "2017-02-24 15:39:43,525 : INFO : Documents Read: 370000\n"
     ]
    },
    {
     "name": "stdout",
     "output_type": "stream",
     "text": [
      "scroll size: 5000\n",
      "Scrolling...\n"
     ]
    },
    {
     "name": "stderr",
     "output_type": "stream",
     "text": [
      "2017-02-24 15:39:54,437 : INFO : GET http://localhost:9200/_search/scroll?scroll=5m [status:200 request:10.898s]\n",
      "2017-02-24 15:39:54,478 : INFO : Documents Read: 375000\n"
     ]
    },
    {
     "name": "stdout",
     "output_type": "stream",
     "text": [
      "scroll size: 5000\n",
      "Scrolling...\n"
     ]
    },
    {
     "name": "stderr",
     "output_type": "stream",
     "text": [
      "2017-02-24 15:40:04,733 : INFO : GET http://localhost:9200/_search/scroll?scroll=5m [status:200 request:10.240s]\n",
      "2017-02-24 15:40:04,772 : INFO : Documents Read: 380000\n"
     ]
    },
    {
     "name": "stdout",
     "output_type": "stream",
     "text": [
      "scroll size: 5000\n",
      "Scrolling...\n"
     ]
    },
    {
     "name": "stderr",
     "output_type": "stream",
     "text": [
      "2017-02-24 15:40:15,714 : INFO : GET http://localhost:9200/_search/scroll?scroll=5m [status:200 request:10.929s]\n",
      "2017-02-24 15:40:15,753 : INFO : Documents Read: 385000\n"
     ]
    },
    {
     "name": "stdout",
     "output_type": "stream",
     "text": [
      "scroll size: 5000\n",
      "Scrolling...\n"
     ]
    },
    {
     "name": "stderr",
     "output_type": "stream",
     "text": [
      "2017-02-24 15:40:25,708 : INFO : GET http://localhost:9200/_search/scroll?scroll=5m [status:200 request:9.934s]\n",
      "2017-02-24 15:40:25,747 : INFO : Documents Read: 390000\n"
     ]
    },
    {
     "name": "stdout",
     "output_type": "stream",
     "text": [
      "scroll size: 5000\n",
      "Scrolling...\n"
     ]
    },
    {
     "name": "stderr",
     "output_type": "stream",
     "text": [
      "2017-02-24 15:40:36,422 : INFO : GET http://localhost:9200/_search/scroll?scroll=5m [status:200 request:10.653s]\n",
      "2017-02-24 15:40:36,578 : INFO : Documents Read: 395000\n"
     ]
    },
    {
     "name": "stdout",
     "output_type": "stream",
     "text": [
      "scroll size: 5000\n",
      "Scrolling...\n"
     ]
    },
    {
     "name": "stderr",
     "output_type": "stream",
     "text": [
      "2017-02-24 15:40:47,436 : INFO : GET http://localhost:9200/_search/scroll?scroll=5m [status:200 request:10.834s]\n",
      "2017-02-24 15:40:47,477 : INFO : Documents Read: 400000\n"
     ]
    },
    {
     "name": "stdout",
     "output_type": "stream",
     "text": [
      "scroll size: 5000\n",
      "Scrolling...\n"
     ]
    },
    {
     "name": "stderr",
     "output_type": "stream",
     "text": [
      "2017-02-24 15:40:58,109 : INFO : GET http://localhost:9200/_search/scroll?scroll=5m [status:200 request:10.616s]\n",
      "2017-02-24 15:40:58,148 : INFO : Documents Read: 405000\n"
     ]
    },
    {
     "name": "stdout",
     "output_type": "stream",
     "text": [
      "scroll size: 5000\n",
      "Scrolling...\n"
     ]
    },
    {
     "name": "stderr",
     "output_type": "stream",
     "text": [
      "2017-02-24 15:41:08,779 : INFO : GET http://localhost:9200/_search/scroll?scroll=5m [status:200 request:10.615s]\n",
      "2017-02-24 15:41:08,821 : INFO : Documents Read: 410000\n"
     ]
    },
    {
     "name": "stdout",
     "output_type": "stream",
     "text": [
      "scroll size: 5000\n",
      "Scrolling...\n"
     ]
    },
    {
     "name": "stderr",
     "output_type": "stream",
     "text": [
      "2017-02-24 15:41:20,009 : INFO : GET http://localhost:9200/_search/scroll?scroll=5m [status:200 request:11.173s]\n",
      "2017-02-24 15:41:20,050 : INFO : Documents Read: 415000\n"
     ]
    },
    {
     "name": "stdout",
     "output_type": "stream",
     "text": [
      "scroll size: 5000\n",
      "Scrolling...\n"
     ]
    },
    {
     "name": "stderr",
     "output_type": "stream",
     "text": [
      "2017-02-24 15:41:30,905 : INFO : GET http://localhost:9200/_search/scroll?scroll=5m [status:200 request:10.840s]\n",
      "2017-02-24 15:41:30,943 : INFO : Documents Read: 420000\n"
     ]
    },
    {
     "name": "stdout",
     "output_type": "stream",
     "text": [
      "scroll size: 5000\n",
      "Scrolling...\n"
     ]
    },
    {
     "name": "stderr",
     "output_type": "stream",
     "text": [
      "2017-02-24 15:41:41,852 : INFO : GET http://localhost:9200/_search/scroll?scroll=5m [status:200 request:10.881s]\n",
      "2017-02-24 15:41:41,891 : INFO : Documents Read: 425000\n"
     ]
    },
    {
     "name": "stdout",
     "output_type": "stream",
     "text": [
      "scroll size: 5000\n",
      "Scrolling...\n"
     ]
    },
    {
     "name": "stderr",
     "output_type": "stream",
     "text": [
      "2017-02-24 15:41:52,252 : INFO : GET http://localhost:9200/_search/scroll?scroll=5m [status:200 request:10.347s]\n",
      "2017-02-24 15:41:52,289 : INFO : Documents Read: 430000\n"
     ]
    },
    {
     "name": "stdout",
     "output_type": "stream",
     "text": [
      "scroll size: 5000\n",
      "Scrolling...\n"
     ]
    },
    {
     "name": "stderr",
     "output_type": "stream",
     "text": [
      "2017-02-24 15:42:03,276 : INFO : GET http://localhost:9200/_search/scroll?scroll=5m [status:200 request:10.963s]\n",
      "2017-02-24 15:42:03,444 : INFO : Documents Read: 435000\n"
     ]
    },
    {
     "name": "stdout",
     "output_type": "stream",
     "text": [
      "scroll size: 5000\n",
      "Scrolling...\n"
     ]
    },
    {
     "name": "stderr",
     "output_type": "stream",
     "text": [
      "2017-02-24 15:42:14,368 : INFO : GET http://localhost:9200/_search/scroll?scroll=5m [status:200 request:10.908s]\n",
      "2017-02-24 15:42:14,408 : INFO : Documents Read: 440000\n"
     ]
    },
    {
     "name": "stdout",
     "output_type": "stream",
     "text": [
      "scroll size: 5000\n",
      "Scrolling...\n"
     ]
    },
    {
     "name": "stderr",
     "output_type": "stream",
     "text": [
      "2017-02-24 15:42:24,691 : INFO : GET http://localhost:9200/_search/scroll?scroll=5m [status:200 request:10.262s]\n",
      "2017-02-24 15:42:24,730 : INFO : Documents Read: 445000\n"
     ]
    },
    {
     "name": "stdout",
     "output_type": "stream",
     "text": [
      "scroll size: 5000\n",
      "Scrolling...\n"
     ]
    },
    {
     "name": "stderr",
     "output_type": "stream",
     "text": [
      "2017-02-24 15:42:34,374 : INFO : GET http://localhost:9200/_search/scroll?scroll=5m [status:200 request:9.628s]\n",
      "2017-02-24 15:42:34,414 : INFO : Documents Read: 450000\n"
     ]
    },
    {
     "name": "stdout",
     "output_type": "stream",
     "text": [
      "scroll size: 5000\n",
      "Scrolling...\n"
     ]
    },
    {
     "name": "stderr",
     "output_type": "stream",
     "text": [
      "2017-02-24 15:42:45,183 : INFO : GET http://localhost:9200/_search/scroll?scroll=5m [status:200 request:10.757s]\n",
      "2017-02-24 15:42:45,223 : INFO : Documents Read: 455000\n"
     ]
    },
    {
     "name": "stdout",
     "output_type": "stream",
     "text": [
      "scroll size: 5000\n",
      "Scrolling...\n"
     ]
    },
    {
     "name": "stderr",
     "output_type": "stream",
     "text": [
      "2017-02-24 15:42:55,926 : INFO : GET http://localhost:9200/_search/scroll?scroll=5m [status:200 request:10.685s]\n",
      "2017-02-24 15:42:55,996 : INFO : Documents Read: 460000\n"
     ]
    },
    {
     "name": "stdout",
     "output_type": "stream",
     "text": [
      "scroll size: 5000\n",
      "Scrolling...\n"
     ]
    },
    {
     "name": "stderr",
     "output_type": "stream",
     "text": [
      "2017-02-24 15:43:06,761 : INFO : GET http://localhost:9200/_search/scroll?scroll=5m [status:200 request:10.742s]\n",
      "2017-02-24 15:43:06,801 : INFO : Documents Read: 465000\n"
     ]
    },
    {
     "name": "stdout",
     "output_type": "stream",
     "text": [
      "scroll size: 5000\n",
      "Scrolling...\n"
     ]
    },
    {
     "name": "stderr",
     "output_type": "stream",
     "text": [
      "2017-02-24 15:43:17,900 : INFO : GET http://localhost:9200/_search/scroll?scroll=5m [status:200 request:11.086s]\n",
      "2017-02-24 15:43:17,941 : INFO : Documents Read: 470000\n"
     ]
    },
    {
     "name": "stdout",
     "output_type": "stream",
     "text": [
      "scroll size: 5000\n",
      "Scrolling...\n"
     ]
    },
    {
     "name": "stderr",
     "output_type": "stream",
     "text": [
      "2017-02-24 15:43:28,494 : INFO : GET http://localhost:9200/_search/scroll?scroll=5m [status:200 request:10.534s]\n",
      "2017-02-24 15:43:28,690 : INFO : Documents Read: 475000\n"
     ]
    },
    {
     "name": "stdout",
     "output_type": "stream",
     "text": [
      "scroll size: 5000\n",
      "Scrolling...\n"
     ]
    },
    {
     "name": "stderr",
     "output_type": "stream",
     "text": [
      "2017-02-24 15:43:39,435 : INFO : GET http://localhost:9200/_search/scroll?scroll=5m [status:200 request:10.725s]\n",
      "2017-02-24 15:43:39,490 : INFO : Documents Read: 480000\n"
     ]
    },
    {
     "name": "stdout",
     "output_type": "stream",
     "text": [
      "scroll size: 5000\n",
      "Scrolling...\n"
     ]
    },
    {
     "name": "stderr",
     "output_type": "stream",
     "text": [
      "2017-02-24 15:43:48,965 : INFO : GET http://localhost:9200/_search/scroll?scroll=5m [status:200 request:9.448s]\n",
      "2017-02-24 15:43:49,012 : INFO : Documents Read: 485000\n"
     ]
    },
    {
     "name": "stdout",
     "output_type": "stream",
     "text": [
      "scroll size: 5000\n",
      "Scrolling...\n"
     ]
    },
    {
     "name": "stderr",
     "output_type": "stream",
     "text": [
      "2017-02-24 15:43:59,021 : INFO : GET http://localhost:9200/_search/scroll?scroll=5m [status:200 request:9.992s]\n",
      "2017-02-24 15:43:59,084 : INFO : Documents Read: 490000\n"
     ]
    },
    {
     "name": "stdout",
     "output_type": "stream",
     "text": [
      "scroll size: 5000\n",
      "Scrolling...\n"
     ]
    },
    {
     "name": "stderr",
     "output_type": "stream",
     "text": [
      "2017-02-24 15:44:08,894 : INFO : GET http://localhost:9200/_search/scroll?scroll=5m [status:200 request:9.796s]\n",
      "2017-02-24 15:44:08,952 : INFO : Documents Read: 495000\n"
     ]
    },
    {
     "name": "stdout",
     "output_type": "stream",
     "text": [
      "scroll size: 5000\n",
      "Scrolling...\n"
     ]
    },
    {
     "name": "stderr",
     "output_type": "stream",
     "text": [
      "2017-02-24 15:44:19,672 : INFO : GET http://localhost:9200/_search/scroll?scroll=5m [status:200 request:10.633s]\n",
      "2017-02-24 15:44:19,736 : INFO : Documents Read: 500000\n"
     ]
    },
    {
     "name": "stdout",
     "output_type": "stream",
     "text": [
      "scroll size: 5000\n",
      "Scrolling...\n"
     ]
    },
    {
     "name": "stderr",
     "output_type": "stream",
     "text": [
      "2017-02-24 15:44:30,347 : INFO : GET http://localhost:9200/_search/scroll?scroll=5m [status:200 request:10.600s]\n",
      "2017-02-24 15:44:30,404 : INFO : Documents Read: 505000\n"
     ]
    },
    {
     "name": "stdout",
     "output_type": "stream",
     "text": [
      "scroll size: 5000\n",
      "Scrolling...\n"
     ]
    },
    {
     "name": "stderr",
     "output_type": "stream",
     "text": [
      "2017-02-24 15:44:40,491 : INFO : GET http://localhost:9200/_search/scroll?scroll=5m [status:200 request:10.066s]\n",
      "2017-02-24 15:44:40,528 : INFO : Documents Read: 510000\n"
     ]
    },
    {
     "name": "stdout",
     "output_type": "stream",
     "text": [
      "scroll size: 5000\n",
      "Scrolling...\n"
     ]
    },
    {
     "name": "stderr",
     "output_type": "stream",
     "text": [
      "2017-02-24 15:44:50,568 : INFO : GET http://localhost:9200/_search/scroll?scroll=5m [status:200 request:10.023s]\n",
      "2017-02-24 15:44:50,793 : INFO : Documents Read: 515000\n"
     ]
    },
    {
     "name": "stdout",
     "output_type": "stream",
     "text": [
      "scroll size: 5000\n",
      "Scrolling...\n"
     ]
    },
    {
     "name": "stderr",
     "output_type": "stream",
     "text": [
      "2017-02-24 15:45:00,819 : INFO : GET http://localhost:9200/_search/scroll?scroll=5m [status:200 request:9.994s]\n",
      "2017-02-24 15:45:00,909 : INFO : Documents Read: 520000\n"
     ]
    },
    {
     "name": "stdout",
     "output_type": "stream",
     "text": [
      "scroll size: 5000\n",
      "Scrolling...\n"
     ]
    },
    {
     "name": "stderr",
     "output_type": "stream",
     "text": [
      "2017-02-24 15:45:11,259 : INFO : GET http://localhost:9200/_search/scroll?scroll=5m [status:200 request:10.338s]\n",
      "2017-02-24 15:45:11,349 : INFO : Documents Read: 525000\n"
     ]
    },
    {
     "name": "stdout",
     "output_type": "stream",
     "text": [
      "scroll size: 5000\n",
      "Scrolling...\n"
     ]
    },
    {
     "name": "stderr",
     "output_type": "stream",
     "text": [
      "2017-02-24 15:45:21,323 : INFO : GET http://localhost:9200/_search/scroll?scroll=5m [status:200 request:9.856s]\n",
      "2017-02-24 15:45:21,380 : INFO : Documents Read: 530000\n"
     ]
    },
    {
     "name": "stdout",
     "output_type": "stream",
     "text": [
      "scroll size: 5000\n",
      "Scrolling...\n"
     ]
    },
    {
     "name": "stderr",
     "output_type": "stream",
     "text": [
      "2017-02-24 15:45:31,617 : INFO : GET http://localhost:9200/_search/scroll?scroll=5m [status:200 request:10.226s]\n",
      "2017-02-24 15:45:31,656 : INFO : Documents Read: 535000\n"
     ]
    },
    {
     "name": "stdout",
     "output_type": "stream",
     "text": [
      "scroll size: 5000\n",
      "Scrolling...\n"
     ]
    },
    {
     "name": "stderr",
     "output_type": "stream",
     "text": [
      "2017-02-24 15:45:41,674 : INFO : GET http://localhost:9200/_search/scroll?scroll=5m [status:200 request:9.995s]\n",
      "2017-02-24 15:45:41,715 : INFO : Documents Read: 540000\n"
     ]
    },
    {
     "name": "stdout",
     "output_type": "stream",
     "text": [
      "scroll size: 5000\n",
      "Scrolling...\n"
     ]
    },
    {
     "name": "stderr",
     "output_type": "stream",
     "text": [
      "2017-02-24 15:45:51,686 : INFO : GET http://localhost:9200/_search/scroll?scroll=5m [status:200 request:9.959s]\n",
      "2017-02-24 15:45:51,724 : INFO : Documents Read: 545000\n"
     ]
    },
    {
     "name": "stdout",
     "output_type": "stream",
     "text": [
      "scroll size: 5000\n",
      "Scrolling...\n"
     ]
    },
    {
     "name": "stderr",
     "output_type": "stream",
     "text": [
      "2017-02-24 15:46:01,818 : INFO : GET http://localhost:9200/_search/scroll?scroll=5m [status:200 request:10.081s]\n",
      "2017-02-24 15:46:01,856 : INFO : Documents Read: 550000\n"
     ]
    },
    {
     "name": "stdout",
     "output_type": "stream",
     "text": [
      "scroll size: 5000\n",
      "Scrolling...\n"
     ]
    },
    {
     "name": "stderr",
     "output_type": "stream",
     "text": [
      "2017-02-24 15:46:11,719 : INFO : GET http://localhost:9200/_search/scroll?scroll=5m [status:200 request:9.850s]\n",
      "2017-02-24 15:46:11,757 : INFO : Documents Read: 555000\n"
     ]
    },
    {
     "name": "stdout",
     "output_type": "stream",
     "text": [
      "scroll size: 5000\n",
      "Scrolling...\n"
     ]
    },
    {
     "name": "stderr",
     "output_type": "stream",
     "text": [
      "2017-02-24 15:46:22,140 : INFO : GET http://localhost:9200/_search/scroll?scroll=5m [status:200 request:10.370s]\n",
      "2017-02-24 15:46:22,277 : INFO : Documents Read: 560000\n"
     ]
    },
    {
     "name": "stdout",
     "output_type": "stream",
     "text": [
      "scroll size: 5000\n",
      "Scrolling...\n"
     ]
    },
    {
     "name": "stderr",
     "output_type": "stream",
     "text": [
      "2017-02-24 15:46:33,090 : INFO : GET http://localhost:9200/_search/scroll?scroll=5m [status:200 request:10.723s]\n",
      "2017-02-24 15:46:33,329 : INFO : Documents Read: 565000\n"
     ]
    },
    {
     "name": "stdout",
     "output_type": "stream",
     "text": [
      "scroll size: 5000\n",
      "Scrolling...\n"
     ]
    },
    {
     "name": "stderr",
     "output_type": "stream",
     "text": [
      "2017-02-24 15:46:43,893 : INFO : GET http://localhost:9200/_search/scroll?scroll=5m [status:200 request:10.547s]\n",
      "2017-02-24 15:46:43,935 : INFO : Documents Read: 570000\n"
     ]
    },
    {
     "name": "stdout",
     "output_type": "stream",
     "text": [
      "scroll size: 5000\n",
      "Scrolling...\n"
     ]
    },
    {
     "name": "stderr",
     "output_type": "stream",
     "text": [
      "2017-02-24 15:46:53,646 : INFO : GET http://localhost:9200/_search/scroll?scroll=5m [status:200 request:9.697s]\n",
      "2017-02-24 15:46:53,717 : INFO : Documents Read: 575000\n"
     ]
    },
    {
     "name": "stdout",
     "output_type": "stream",
     "text": [
      "scroll size: 5000\n",
      "Scrolling...\n"
     ]
    },
    {
     "name": "stderr",
     "output_type": "stream",
     "text": [
      "2017-02-24 15:47:03,828 : INFO : GET http://localhost:9200/_search/scroll?scroll=5m [status:200 request:9.889s]\n",
      "2017-02-24 15:47:03,867 : INFO : Documents Read: 580000\n"
     ]
    },
    {
     "name": "stdout",
     "output_type": "stream",
     "text": [
      "scroll size: 5000\n",
      "Scrolling...\n"
     ]
    },
    {
     "name": "stderr",
     "output_type": "stream",
     "text": [
      "2017-02-24 15:47:13,317 : INFO : GET http://localhost:9200/_search/scroll?scroll=5m [status:200 request:9.436s]\n",
      "2017-02-24 15:47:13,356 : INFO : Documents Read: 585000\n"
     ]
    },
    {
     "name": "stdout",
     "output_type": "stream",
     "text": [
      "scroll size: 5000\n",
      "Scrolling...\n"
     ]
    },
    {
     "name": "stderr",
     "output_type": "stream",
     "text": [
      "2017-02-24 15:47:22,650 : INFO : GET http://localhost:9200/_search/scroll?scroll=5m [status:200 request:9.163s]\n",
      "2017-02-24 15:47:22,692 : INFO : Documents Read: 590000\n"
     ]
    },
    {
     "name": "stdout",
     "output_type": "stream",
     "text": [
      "scroll size: 5000\n",
      "Scrolling...\n"
     ]
    },
    {
     "name": "stderr",
     "output_type": "stream",
     "text": [
      "2017-02-24 15:47:32,596 : INFO : GET http://localhost:9200/_search/scroll?scroll=5m [status:200 request:9.893s]\n",
      "2017-02-24 15:47:32,639 : INFO : Documents Read: 595000\n"
     ]
    },
    {
     "name": "stdout",
     "output_type": "stream",
     "text": [
      "scroll size: 5000\n",
      "Scrolling...\n"
     ]
    },
    {
     "name": "stderr",
     "output_type": "stream",
     "text": [
      "2017-02-24 15:47:42,743 : INFO : GET http://localhost:9200/_search/scroll?scroll=5m [status:200 request:10.091s]\n",
      "2017-02-24 15:47:42,834 : INFO : Documents Read: 600000\n"
     ]
    },
    {
     "name": "stdout",
     "output_type": "stream",
     "text": [
      "scroll size: 5000\n",
      "Scrolling...\n"
     ]
    },
    {
     "name": "stderr",
     "output_type": "stream",
     "text": [
      "2017-02-24 15:47:52,680 : INFO : GET http://localhost:9200/_search/scroll?scroll=5m [status:200 request:9.833s]\n",
      "2017-02-24 15:47:52,744 : INFO : Documents Read: 605000\n"
     ]
    },
    {
     "name": "stdout",
     "output_type": "stream",
     "text": [
      "scroll size: 5000\n",
      "Scrolling...\n"
     ]
    },
    {
     "name": "stderr",
     "output_type": "stream",
     "text": [
      "2017-02-24 15:48:02,629 : INFO : GET http://localhost:9200/_search/scroll?scroll=5m [status:200 request:9.868s]\n",
      "2017-02-24 15:48:02,688 : INFO : Documents Read: 610000\n"
     ]
    },
    {
     "name": "stdout",
     "output_type": "stream",
     "text": [
      "scroll size: 5000\n",
      "Scrolling...\n"
     ]
    },
    {
     "name": "stderr",
     "output_type": "stream",
     "text": [
      "2017-02-24 15:48:12,578 : INFO : GET http://localhost:9200/_search/scroll?scroll=5m [status:200 request:9.871s]\n",
      "2017-02-24 15:48:12,827 : INFO : Documents Read: 615000\n"
     ]
    },
    {
     "name": "stdout",
     "output_type": "stream",
     "text": [
      "scroll size: 5000\n",
      "Scrolling...\n"
     ]
    },
    {
     "name": "stderr",
     "output_type": "stream",
     "text": [
      "2017-02-24 15:48:22,327 : INFO : GET http://localhost:9200/_search/scroll?scroll=5m [status:200 request:9.484s]\n",
      "2017-02-24 15:48:22,988 : INFO : Documents Read: 620000\n"
     ]
    },
    {
     "name": "stdout",
     "output_type": "stream",
     "text": [
      "scroll size: 5000\n",
      "Scrolling...\n"
     ]
    },
    {
     "name": "stderr",
     "output_type": "stream",
     "text": [
      "2017-02-24 15:48:32,962 : INFO : GET http://localhost:9200/_search/scroll?scroll=5m [status:200 request:9.963s]\n",
      "2017-02-24 15:48:33,041 : INFO : Documents Read: 625000\n"
     ]
    },
    {
     "name": "stdout",
     "output_type": "stream",
     "text": [
      "scroll size: 5000\n",
      "Scrolling...\n"
     ]
    },
    {
     "name": "stderr",
     "output_type": "stream",
     "text": [
      "2017-02-24 15:48:43,917 : INFO : GET http://localhost:9200/_search/scroll?scroll=5m [status:200 request:10.860s]\n",
      "2017-02-24 15:48:43,956 : INFO : Documents Read: 630000\n"
     ]
    },
    {
     "name": "stdout",
     "output_type": "stream",
     "text": [
      "scroll size: 5000\n",
      "Scrolling...\n"
     ]
    },
    {
     "name": "stderr",
     "output_type": "stream",
     "text": [
      "2017-02-24 15:48:54,436 : INFO : GET http://localhost:9200/_search/scroll?scroll=5m [status:200 request:10.465s]\n",
      "2017-02-24 15:48:54,494 : INFO : Documents Read: 635000\n"
     ]
    },
    {
     "name": "stdout",
     "output_type": "stream",
     "text": [
      "scroll size: 5000\n",
      "Scrolling...\n"
     ]
    },
    {
     "name": "stderr",
     "output_type": "stream",
     "text": [
      "2017-02-24 15:49:04,534 : INFO : GET http://localhost:9200/_search/scroll?scroll=5m [status:200 request:10.025s]\n",
      "2017-02-24 15:49:04,601 : INFO : Documents Read: 640000\n"
     ]
    },
    {
     "name": "stdout",
     "output_type": "stream",
     "text": [
      "scroll size: 5000\n",
      "Scrolling...\n"
     ]
    },
    {
     "name": "stderr",
     "output_type": "stream",
     "text": [
      "2017-02-24 15:49:14,176 : INFO : GET http://localhost:9200/_search/scroll?scroll=5m [status:200 request:9.553s]\n",
      "2017-02-24 15:49:14,235 : INFO : Documents Read: 645000\n"
     ]
    },
    {
     "name": "stdout",
     "output_type": "stream",
     "text": [
      "scroll size: 5000\n",
      "Scrolling...\n"
     ]
    },
    {
     "name": "stderr",
     "output_type": "stream",
     "text": [
      "2017-02-24 15:49:24,314 : INFO : GET http://localhost:9200/_search/scroll?scroll=5m [status:200 request:10.060s]\n",
      "2017-02-24 15:49:24,362 : INFO : Documents Read: 650000\n"
     ]
    },
    {
     "name": "stdout",
     "output_type": "stream",
     "text": [
      "scroll size: 5000\n",
      "Scrolling...\n"
     ]
    },
    {
     "name": "stderr",
     "output_type": "stream",
     "text": [
      "2017-02-24 15:49:33,974 : INFO : GET http://localhost:9200/_search/scroll?scroll=5m [status:200 request:9.472s]\n",
      "2017-02-24 15:49:34,091 : INFO : Documents Read: 655000\n"
     ]
    },
    {
     "name": "stdout",
     "output_type": "stream",
     "text": [
      "scroll size: 5000\n",
      "Scrolling...\n"
     ]
    },
    {
     "name": "stderr",
     "output_type": "stream",
     "text": [
      "2017-02-24 15:49:44,806 : INFO : GET http://localhost:9200/_search/scroll?scroll=5m [status:200 request:10.698s]\n",
      "2017-02-24 15:49:44,917 : INFO : Documents Read: 660000\n"
     ]
    },
    {
     "name": "stdout",
     "output_type": "stream",
     "text": [
      "scroll size: 5000\n",
      "Scrolling...\n"
     ]
    },
    {
     "name": "stderr",
     "output_type": "stream",
     "text": [
      "2017-02-24 15:49:55,667 : INFO : GET http://localhost:9200/_search/scroll?scroll=5m [status:200 request:10.728s]\n",
      "2017-02-24 15:49:55,734 : INFO : Documents Read: 665000\n"
     ]
    },
    {
     "name": "stdout",
     "output_type": "stream",
     "text": [
      "scroll size: 5000\n",
      "Scrolling...\n"
     ]
    },
    {
     "name": "stderr",
     "output_type": "stream",
     "text": [
      "2017-02-24 15:50:06,503 : INFO : GET http://localhost:9200/_search/scroll?scroll=5m [status:200 request:10.745s]\n",
      "2017-02-24 15:50:06,558 : INFO : Documents Read: 670000\n"
     ]
    },
    {
     "name": "stdout",
     "output_type": "stream",
     "text": [
      "scroll size: 5000\n",
      "Scrolling...\n"
     ]
    },
    {
     "name": "stderr",
     "output_type": "stream",
     "text": [
      "2017-02-24 15:50:16,912 : INFO : GET http://localhost:9200/_search/scroll?scroll=5m [status:200 request:10.335s]\n",
      "2017-02-24 15:50:17,163 : INFO : Documents Read: 675000\n"
     ]
    },
    {
     "name": "stdout",
     "output_type": "stream",
     "text": [
      "scroll size: 5000\n",
      "Scrolling...\n"
     ]
    },
    {
     "name": "stderr",
     "output_type": "stream",
     "text": [
      "2017-02-24 15:50:28,309 : INFO : GET http://localhost:9200/_search/scroll?scroll=5m [status:200 request:11.133s]\n",
      "2017-02-24 15:50:28,366 : INFO : Documents Read: 680000\n"
     ]
    },
    {
     "name": "stdout",
     "output_type": "stream",
     "text": [
      "scroll size: 5000\n",
      "Scrolling...\n"
     ]
    },
    {
     "name": "stderr",
     "output_type": "stream",
     "text": [
      "2017-02-24 15:50:39,204 : INFO : GET http://localhost:9200/_search/scroll?scroll=5m [status:200 request:10.827s]\n",
      "2017-02-24 15:50:39,244 : INFO : Documents Read: 685000\n"
     ]
    },
    {
     "name": "stdout",
     "output_type": "stream",
     "text": [
      "scroll size: 5000\n",
      "Scrolling...\n"
     ]
    },
    {
     "name": "stderr",
     "output_type": "stream",
     "text": [
      "2017-02-24 15:50:49,722 : INFO : GET http://localhost:9200/_search/scroll?scroll=5m [status:200 request:10.464s]\n",
      "2017-02-24 15:50:49,763 : INFO : Documents Read: 690000\n"
     ]
    },
    {
     "name": "stdout",
     "output_type": "stream",
     "text": [
      "scroll size: 5000\n",
      "Scrolling...\n"
     ]
    },
    {
     "name": "stderr",
     "output_type": "stream",
     "text": [
      "2017-02-24 15:51:01,294 : INFO : GET http://localhost:9200/_search/scroll?scroll=5m [status:200 request:11.514s]\n",
      "2017-02-24 15:51:01,364 : INFO : Documents Read: 695000\n"
     ]
    },
    {
     "name": "stdout",
     "output_type": "stream",
     "text": [
      "scroll size: 5000\n",
      "Scrolling...\n"
     ]
    },
    {
     "name": "stderr",
     "output_type": "stream",
     "text": [
      "2017-02-24 15:51:12,843 : INFO : GET http://localhost:9200/_search/scroll?scroll=5m [status:200 request:11.460s]\n",
      "2017-02-24 15:51:13,023 : INFO : Documents Read: 700000\n"
     ]
    },
    {
     "name": "stdout",
     "output_type": "stream",
     "text": [
      "scroll size: 5000\n",
      "Scrolling...\n"
     ]
    },
    {
     "name": "stderr",
     "output_type": "stream",
     "text": [
      "2017-02-24 15:51:24,663 : INFO : GET http://localhost:9200/_search/scroll?scroll=5m [status:200 request:11.619s]\n",
      "2017-02-24 15:51:24,742 : INFO : Documents Read: 705000\n"
     ]
    },
    {
     "name": "stdout",
     "output_type": "stream",
     "text": [
      "scroll size: 5000\n",
      "Scrolling...\n"
     ]
    },
    {
     "name": "stderr",
     "output_type": "stream",
     "text": [
      "2017-02-24 15:51:36,524 : INFO : GET http://localhost:9200/_search/scroll?scroll=5m [status:200 request:11.755s]\n",
      "2017-02-24 15:51:36,728 : INFO : Documents Read: 710000\n"
     ]
    },
    {
     "name": "stdout",
     "output_type": "stream",
     "text": [
      "scroll size: 5000\n",
      "Scrolling...\n"
     ]
    },
    {
     "name": "stderr",
     "output_type": "stream",
     "text": [
      "2017-02-24 15:51:48,636 : INFO : GET http://localhost:9200/_search/scroll?scroll=5m [status:200 request:11.802s]\n",
      "2017-02-24 15:51:48,676 : INFO : Documents Read: 715000\n"
     ]
    },
    {
     "name": "stdout",
     "output_type": "stream",
     "text": [
      "scroll size: 5000\n",
      "Scrolling...\n"
     ]
    },
    {
     "name": "stderr",
     "output_type": "stream",
     "text": [
      "2017-02-24 15:51:59,873 : INFO : GET http://localhost:9200/_search/scroll?scroll=5m [status:200 request:11.184s]\n",
      "2017-02-24 15:52:00,183 : INFO : Documents Read: 720000\n"
     ]
    },
    {
     "name": "stdout",
     "output_type": "stream",
     "text": [
      "scroll size: 5000\n",
      "Scrolling...\n"
     ]
    },
    {
     "name": "stderr",
     "output_type": "stream",
     "text": [
      "2017-02-24 15:52:10,842 : INFO : GET http://localhost:9200/_search/scroll?scroll=5m [status:200 request:10.649s]\n",
      "2017-02-24 15:52:11,171 : INFO : Documents Read: 725000\n"
     ]
    },
    {
     "name": "stdout",
     "output_type": "stream",
     "text": [
      "scroll size: 5000\n",
      "Scrolling...\n"
     ]
    },
    {
     "name": "stderr",
     "output_type": "stream",
     "text": [
      "2017-02-24 15:52:23,423 : INFO : GET http://localhost:9200/_search/scroll?scroll=5m [status:200 request:12.236s]\n",
      "2017-02-24 15:52:25,880 : INFO : Documents Read: 730000\n"
     ]
    },
    {
     "name": "stdout",
     "output_type": "stream",
     "text": [
      "scroll size: 5000\n",
      "Scrolling...\n"
     ]
    },
    {
     "name": "stderr",
     "output_type": "stream",
     "text": [
      "2017-02-24 15:52:38,979 : INFO : GET http://localhost:9200/_search/scroll?scroll=5m [status:200 request:13.084s]\n",
      "2017-02-24 15:52:51,007 : INFO : Documents Read: 735000\n"
     ]
    },
    {
     "name": "stdout",
     "output_type": "stream",
     "text": [
      "scroll size: 5000\n",
      "Scrolling...\n"
     ]
    },
    {
     "name": "stderr",
     "output_type": "stream",
     "text": [
      "2017-02-24 15:53:01,564 : INFO : GET http://localhost:9200/_search/scroll?scroll=5m [status:200 request:10.540s]\n",
      "2017-02-24 15:53:01,603 : INFO : Documents Read: 740000\n"
     ]
    },
    {
     "name": "stdout",
     "output_type": "stream",
     "text": [
      "scroll size: 5000\n",
      "Scrolling...\n"
     ]
    },
    {
     "name": "stderr",
     "output_type": "stream",
     "text": [
      "2017-02-24 15:53:12,537 : INFO : GET http://localhost:9200/_search/scroll?scroll=5m [status:200 request:10.890s]\n",
      "2017-02-24 15:53:12,596 : INFO : Documents Read: 745000\n"
     ]
    },
    {
     "name": "stdout",
     "output_type": "stream",
     "text": [
      "scroll size: 5000\n",
      "Scrolling...\n"
     ]
    },
    {
     "name": "stderr",
     "output_type": "stream",
     "text": [
      "2017-02-24 15:53:23,210 : INFO : GET http://localhost:9200/_search/scroll?scroll=5m [status:200 request:10.598s]\n",
      "2017-02-24 15:53:23,251 : INFO : Documents Read: 750000\n"
     ]
    },
    {
     "name": "stdout",
     "output_type": "stream",
     "text": [
      "scroll size: 5000\n",
      "Scrolling...\n"
     ]
    },
    {
     "name": "stderr",
     "output_type": "stream",
     "text": [
      "2017-02-24 15:53:33,378 : INFO : GET http://localhost:9200/_search/scroll?scroll=5m [status:200 request:10.116s]\n",
      "2017-02-24 15:53:33,738 : INFO : Documents Read: 755000\n"
     ]
    },
    {
     "name": "stdout",
     "output_type": "stream",
     "text": [
      "scroll size: 5000\n",
      "Scrolling...\n"
     ]
    },
    {
     "name": "stderr",
     "output_type": "stream",
     "text": [
      "2017-02-24 15:53:44,119 : INFO : GET http://localhost:9200/_search/scroll?scroll=5m [status:200 request:10.368s]\n",
      "2017-02-24 15:53:44,189 : INFO : Documents Read: 760000\n"
     ]
    },
    {
     "name": "stdout",
     "output_type": "stream",
     "text": [
      "scroll size: 5000\n",
      "Scrolling...\n"
     ]
    },
    {
     "name": "stderr",
     "output_type": "stream",
     "text": [
      "2017-02-24 15:53:54,569 : INFO : GET http://localhost:9200/_search/scroll?scroll=5m [status:200 request:10.370s]\n",
      "2017-02-24 15:53:54,614 : INFO : Documents Read: 765000\n"
     ]
    },
    {
     "name": "stdout",
     "output_type": "stream",
     "text": [
      "scroll size: 5000\n",
      "Scrolling...\n"
     ]
    },
    {
     "name": "stderr",
     "output_type": "stream",
     "text": [
      "2017-02-24 15:54:05,392 : INFO : GET http://localhost:9200/_search/scroll?scroll=5m [status:200 request:10.758s]\n",
      "2017-02-24 15:54:05,434 : INFO : Documents Read: 770000\n"
     ]
    },
    {
     "name": "stdout",
     "output_type": "stream",
     "text": [
      "scroll size: 5000\n",
      "Scrolling...\n"
     ]
    },
    {
     "name": "stderr",
     "output_type": "stream",
     "text": [
      "2017-02-24 15:54:15,709 : INFO : GET http://localhost:9200/_search/scroll?scroll=5m [status:200 request:10.265s]\n",
      "2017-02-24 15:54:15,782 : INFO : Documents Read: 775000\n"
     ]
    },
    {
     "name": "stdout",
     "output_type": "stream",
     "text": [
      "scroll size: 5000\n",
      "Scrolling...\n"
     ]
    },
    {
     "name": "stderr",
     "output_type": "stream",
     "text": [
      "2017-02-24 15:54:26,162 : INFO : GET http://localhost:9200/_search/scroll?scroll=5m [status:200 request:10.368s]\n",
      "2017-02-24 15:54:26,231 : INFO : Documents Read: 780000\n"
     ]
    },
    {
     "name": "stdout",
     "output_type": "stream",
     "text": [
      "scroll size: 5000\n",
      "Scrolling...\n"
     ]
    },
    {
     "name": "stderr",
     "output_type": "stream",
     "text": [
      "2017-02-24 15:54:36,388 : INFO : GET http://localhost:9200/_search/scroll?scroll=5m [status:200 request:10.145s]\n",
      "2017-02-24 15:54:36,436 : INFO : Documents Read: 785000\n"
     ]
    },
    {
     "name": "stdout",
     "output_type": "stream",
     "text": [
      "scroll size: 5000\n",
      "Scrolling...\n"
     ]
    },
    {
     "name": "stderr",
     "output_type": "stream",
     "text": [
      "2017-02-24 15:54:47,486 : INFO : GET http://localhost:9200/_search/scroll?scroll=5m [status:200 request:11.033s]\n",
      "2017-02-24 15:54:47,529 : INFO : Documents Read: 790000\n"
     ]
    },
    {
     "name": "stdout",
     "output_type": "stream",
     "text": [
      "scroll size: 5000\n",
      "Scrolling...\n"
     ]
    },
    {
     "name": "stderr",
     "output_type": "stream",
     "text": [
      "2017-02-24 15:54:58,030 : INFO : GET http://localhost:9200/_search/scroll?scroll=5m [status:200 request:10.490s]\n",
      "2017-02-24 15:54:58,158 : INFO : Documents Read: 795000\n"
     ]
    },
    {
     "name": "stdout",
     "output_type": "stream",
     "text": [
      "scroll size: 5000\n",
      "Scrolling...\n"
     ]
    },
    {
     "name": "stderr",
     "output_type": "stream",
     "text": [
      "2017-02-24 15:55:09,170 : INFO : GET http://localhost:9200/_search/scroll?scroll=5m [status:200 request:10.986s]\n",
      "2017-02-24 15:55:19,193 : INFO : Documents Read: 800000\n"
     ]
    },
    {
     "name": "stdout",
     "output_type": "stream",
     "text": [
      "scroll size: 5000\n",
      "Scrolling...\n"
     ]
    },
    {
     "name": "stderr",
     "output_type": "stream",
     "text": [
      "2017-02-24 15:55:31,419 : INFO : GET http://localhost:9200/_search/scroll?scroll=5m [status:200 request:12.173s]\n",
      "2017-02-24 15:55:31,511 : INFO : Documents Read: 805000\n"
     ]
    },
    {
     "name": "stdout",
     "output_type": "stream",
     "text": [
      "scroll size: 5000\n",
      "Scrolling...\n"
     ]
    },
    {
     "name": "stderr",
     "output_type": "stream",
     "text": [
      "2017-02-24 15:55:42,257 : INFO : GET http://localhost:9200/_search/scroll?scroll=5m [status:200 request:10.731s]\n",
      "2017-02-24 15:55:42,301 : INFO : Documents Read: 810000\n"
     ]
    },
    {
     "name": "stdout",
     "output_type": "stream",
     "text": [
      "scroll size: 5000\n",
      "Scrolling...\n"
     ]
    },
    {
     "name": "stderr",
     "output_type": "stream",
     "text": [
      "2017-02-24 15:55:52,785 : INFO : GET http://localhost:9200/_search/scroll?scroll=5m [status:200 request:10.467s]\n",
      "2017-02-24 15:55:52,828 : INFO : Documents Read: 815000\n"
     ]
    },
    {
     "name": "stdout",
     "output_type": "stream",
     "text": [
      "scroll size: 5000\n",
      "Scrolling...\n"
     ]
    },
    {
     "name": "stderr",
     "output_type": "stream",
     "text": [
      "2017-02-24 15:56:03,139 : INFO : GET http://localhost:9200/_search/scroll?scroll=5m [status:200 request:10.294s]\n",
      "2017-02-24 15:56:03,235 : INFO : Documents Read: 820000\n"
     ]
    },
    {
     "name": "stdout",
     "output_type": "stream",
     "text": [
      "scroll size: 5000\n",
      "Scrolling...\n"
     ]
    },
    {
     "name": "stderr",
     "output_type": "stream",
     "text": [
      "2017-02-24 15:56:14,106 : INFO : GET http://localhost:9200/_search/scroll?scroll=5m [status:200 request:10.851s]\n",
      "2017-02-24 15:56:14,159 : INFO : Documents Read: 825000\n"
     ]
    },
    {
     "name": "stdout",
     "output_type": "stream",
     "text": [
      "scroll size: 5000\n",
      "Scrolling...\n"
     ]
    },
    {
     "name": "stderr",
     "output_type": "stream",
     "text": [
      "2017-02-24 15:56:24,774 : INFO : GET http://localhost:9200/_search/scroll?scroll=5m [status:200 request:10.590s]\n",
      "2017-02-24 15:56:24,815 : INFO : Documents Read: 830000\n"
     ]
    },
    {
     "name": "stdout",
     "output_type": "stream",
     "text": [
      "scroll size: 5000\n",
      "Scrolling...\n"
     ]
    },
    {
     "name": "stderr",
     "output_type": "stream",
     "text": [
      "2017-02-24 15:56:35,426 : INFO : GET http://localhost:9200/_search/scroll?scroll=5m [status:200 request:10.595s]\n",
      "2017-02-24 15:56:35,467 : INFO : Documents Read: 835000\n"
     ]
    },
    {
     "name": "stdout",
     "output_type": "stream",
     "text": [
      "scroll size: 5000\n",
      "Scrolling...\n"
     ]
    },
    {
     "name": "stderr",
     "output_type": "stream",
     "text": [
      "2017-02-24 15:56:46,154 : INFO : GET http://localhost:9200/_search/scroll?scroll=5m [status:200 request:10.674s]\n",
      "2017-02-24 15:56:46,196 : INFO : Documents Read: 840000\n"
     ]
    },
    {
     "name": "stdout",
     "output_type": "stream",
     "text": [
      "scroll size: 5000\n",
      "Scrolling...\n"
     ]
    },
    {
     "name": "stderr",
     "output_type": "stream",
     "text": [
      "2017-02-24 15:56:57,510 : INFO : GET http://localhost:9200/_search/scroll?scroll=5m [status:200 request:11.296s]\n",
      "2017-02-24 15:56:57,580 : INFO : Documents Read: 845000\n"
     ]
    },
    {
     "name": "stdout",
     "output_type": "stream",
     "text": [
      "scroll size: 5000\n",
      "Scrolling...\n"
     ]
    },
    {
     "name": "stderr",
     "output_type": "stream",
     "text": [
      "2017-02-24 15:57:08,485 : INFO : GET http://localhost:9200/_search/scroll?scroll=5m [status:200 request:10.873s]\n",
      "2017-02-24 15:57:08,525 : INFO : Documents Read: 850000\n"
     ]
    },
    {
     "name": "stdout",
     "output_type": "stream",
     "text": [
      "scroll size: 5000\n",
      "Scrolling...\n"
     ]
    },
    {
     "name": "stderr",
     "output_type": "stream",
     "text": [
      "2017-02-24 15:57:19,522 : INFO : GET http://localhost:9200/_search/scroll?scroll=5m [status:200 request:10.986s]\n",
      "2017-02-24 15:57:19,561 : INFO : Documents Read: 855000\n"
     ]
    },
    {
     "name": "stdout",
     "output_type": "stream",
     "text": [
      "scroll size: 5000\n",
      "Scrolling...\n"
     ]
    },
    {
     "name": "stderr",
     "output_type": "stream",
     "text": [
      "2017-02-24 15:57:29,620 : INFO : GET http://localhost:9200/_search/scroll?scroll=5m [status:200 request:10.046s]\n",
      "2017-02-24 15:57:29,725 : INFO : Documents Read: 860000\n"
     ]
    },
    {
     "name": "stdout",
     "output_type": "stream",
     "text": [
      "scroll size: 5000\n",
      "Scrolling...\n"
     ]
    },
    {
     "name": "stderr",
     "output_type": "stream",
     "text": [
      "2017-02-24 15:57:41,108 : INFO : GET http://localhost:9200/_search/scroll?scroll=5m [status:200 request:11.373s]\n",
      "2017-02-24 15:57:41,324 : INFO : Documents Read: 865000\n"
     ]
    },
    {
     "name": "stdout",
     "output_type": "stream",
     "text": [
      "scroll size: 5000\n",
      "Scrolling...\n"
     ]
    },
    {
     "name": "stderr",
     "output_type": "stream",
     "text": [
      "2017-02-24 15:57:53,432 : INFO : GET http://localhost:9200/_search/scroll?scroll=5m [status:200 request:12.095s]\n",
      "2017-02-24 15:58:18,948 : INFO : Documents Read: 870000\n"
     ]
    },
    {
     "name": "stdout",
     "output_type": "stream",
     "text": [
      "scroll size: 5000\n",
      "Scrolling...\n"
     ]
    },
    {
     "name": "stderr",
     "output_type": "stream",
     "text": [
      "2017-02-24 15:58:31,615 : INFO : GET http://localhost:9200/_search/scroll?scroll=5m [status:200 request:12.587s]\n",
      "2017-02-24 15:58:31,655 : INFO : Documents Read: 875000\n"
     ]
    },
    {
     "name": "stdout",
     "output_type": "stream",
     "text": [
      "scroll size: 5000\n",
      "Scrolling...\n"
     ]
    },
    {
     "name": "stderr",
     "output_type": "stream",
     "text": [
      "2017-02-24 15:58:43,352 : INFO : GET http://localhost:9200/_search/scroll?scroll=5m [status:200 request:11.676s]\n",
      "2017-02-24 15:58:43,394 : INFO : Documents Read: 880000\n"
     ]
    },
    {
     "name": "stdout",
     "output_type": "stream",
     "text": [
      "scroll size: 5000\n",
      "Scrolling...\n"
     ]
    },
    {
     "name": "stderr",
     "output_type": "stream",
     "text": [
      "2017-02-24 15:58:53,077 : INFO : GET http://localhost:9200/_search/scroll?scroll=5m [status:200 request:9.668s]\n",
      "2017-02-24 15:58:53,118 : INFO : Documents Read: 885000\n"
     ]
    },
    {
     "name": "stdout",
     "output_type": "stream",
     "text": [
      "scroll size: 5000\n",
      "Scrolling...\n"
     ]
    },
    {
     "name": "stderr",
     "output_type": "stream",
     "text": [
      "2017-02-24 15:59:03,202 : INFO : GET http://localhost:9200/_search/scroll?scroll=5m [status:200 request:10.062s]\n",
      "2017-02-24 15:59:03,243 : INFO : Documents Read: 890000\n"
     ]
    },
    {
     "name": "stdout",
     "output_type": "stream",
     "text": [
      "scroll size: 5000\n",
      "Scrolling...\n"
     ]
    },
    {
     "name": "stderr",
     "output_type": "stream",
     "text": [
      "2017-02-24 15:59:16,333 : INFO : GET http://localhost:9200/_search/scroll?scroll=5m [status:200 request:13.078s]\n",
      "2017-02-24 15:59:16,418 : INFO : Documents Read: 895000\n"
     ]
    },
    {
     "name": "stdout",
     "output_type": "stream",
     "text": [
      "scroll size: 5000\n",
      "Scrolling...\n"
     ]
    },
    {
     "name": "stderr",
     "output_type": "stream",
     "text": [
      "2017-02-24 15:59:28,399 : INFO : GET http://localhost:9200/_search/scroll?scroll=5m [status:200 request:11.939s]\n",
      "2017-02-24 15:59:28,471 : INFO : Documents Read: 900000\n"
     ]
    },
    {
     "name": "stdout",
     "output_type": "stream",
     "text": [
      "scroll size: 5000\n",
      "Scrolling...\n"
     ]
    },
    {
     "name": "stderr",
     "output_type": "stream",
     "text": [
      "2017-02-24 15:59:39,103 : INFO : GET http://localhost:9200/_search/scroll?scroll=5m [status:200 request:10.621s]\n",
      "2017-02-24 15:59:39,167 : INFO : Documents Read: 905000\n"
     ]
    },
    {
     "name": "stdout",
     "output_type": "stream",
     "text": [
      "scroll size: 5000\n",
      "Scrolling...\n"
     ]
    },
    {
     "name": "stderr",
     "output_type": "stream",
     "text": [
      "2017-02-24 15:59:50,506 : INFO : GET http://localhost:9200/_search/scroll?scroll=5m [status:200 request:11.326s]\n",
      "2017-02-24 15:59:50,550 : INFO : Documents Read: 910000\n"
     ]
    },
    {
     "name": "stdout",
     "output_type": "stream",
     "text": [
      "scroll size: 5000\n",
      "Scrolling...\n"
     ]
    },
    {
     "name": "stderr",
     "output_type": "stream",
     "text": [
      "2017-02-24 16:00:01,050 : INFO : GET http://localhost:9200/_search/scroll?scroll=5m [status:200 request:10.481s]\n",
      "2017-02-24 16:00:01,116 : INFO : Documents Read: 915000\n"
     ]
    },
    {
     "name": "stdout",
     "output_type": "stream",
     "text": [
      "scroll size: 5000\n",
      "Scrolling...\n"
     ]
    },
    {
     "name": "stderr",
     "output_type": "stream",
     "text": [
      "2017-02-24 16:00:12,027 : INFO : GET http://localhost:9200/_search/scroll?scroll=5m [status:200 request:10.897s]\n",
      "2017-02-24 16:00:12,079 : INFO : Documents Read: 920000\n"
     ]
    },
    {
     "name": "stdout",
     "output_type": "stream",
     "text": [
      "scroll size: 5000\n",
      "Scrolling...\n"
     ]
    },
    {
     "name": "stderr",
     "output_type": "stream",
     "text": [
      "2017-02-24 16:00:22,526 : INFO : GET http://localhost:9200/_search/scroll?scroll=5m [status:200 request:10.432s]\n",
      "2017-02-24 16:00:22,713 : INFO : Documents Read: 925000\n"
     ]
    },
    {
     "name": "stdout",
     "output_type": "stream",
     "text": [
      "scroll size: 5000\n",
      "Scrolling...\n"
     ]
    },
    {
     "name": "stderr",
     "output_type": "stream",
     "text": [
      "2017-02-24 16:00:34,821 : INFO : GET http://localhost:9200/_search/scroll?scroll=5m [status:200 request:11.863s]\n",
      "2017-02-24 16:00:35,083 : INFO : Documents Read: 930000\n"
     ]
    },
    {
     "name": "stdout",
     "output_type": "stream",
     "text": [
      "scroll size: 5000\n",
      "Scrolling...\n"
     ]
    },
    {
     "name": "stderr",
     "output_type": "stream",
     "text": [
      "2017-02-24 16:00:45,831 : INFO : GET http://localhost:9200/_search/scroll?scroll=5m [status:200 request:10.717s]\n",
      "2017-02-24 16:00:45,904 : INFO : Documents Read: 935000\n"
     ]
    },
    {
     "name": "stdout",
     "output_type": "stream",
     "text": [
      "scroll size: 5000\n",
      "Scrolling...\n"
     ]
    },
    {
     "name": "stderr",
     "output_type": "stream",
     "text": [
      "2017-02-24 16:00:55,540 : INFO : GET http://localhost:9200/_search/scroll?scroll=5m [status:200 request:9.623s]\n",
      "2017-02-24 16:00:55,582 : INFO : Documents Read: 940000\n"
     ]
    },
    {
     "name": "stdout",
     "output_type": "stream",
     "text": [
      "scroll size: 5000\n",
      "Scrolling...\n"
     ]
    },
    {
     "name": "stderr",
     "output_type": "stream",
     "text": [
      "2017-02-24 16:01:05,091 : INFO : GET http://localhost:9200/_search/scroll?scroll=5m [status:200 request:9.497s]\n",
      "2017-02-24 16:01:05,139 : INFO : Documents Read: 945000\n"
     ]
    },
    {
     "name": "stdout",
     "output_type": "stream",
     "text": [
      "scroll size: 5000\n",
      "Scrolling...\n"
     ]
    },
    {
     "name": "stderr",
     "output_type": "stream",
     "text": [
      "2017-02-24 16:01:15,643 : INFO : GET http://localhost:9200/_search/scroll?scroll=5m [status:200 request:10.491s]\n",
      "2017-02-24 16:01:26,083 : INFO : Documents Read: 950000\n"
     ]
    },
    {
     "name": "stdout",
     "output_type": "stream",
     "text": [
      "scroll size: 5000\n",
      "Scrolling...\n"
     ]
    },
    {
     "name": "stderr",
     "output_type": "stream",
     "text": [
      "2017-02-24 16:01:35,284 : INFO : GET http://localhost:9200/_search/scroll?scroll=5m [status:200 request:9.191s]\n",
      "2017-02-24 16:01:35,328 : INFO : Documents Read: 955000\n"
     ]
    },
    {
     "name": "stdout",
     "output_type": "stream",
     "text": [
      "scroll size: 5000\n",
      "Scrolling...\n"
     ]
    },
    {
     "name": "stderr",
     "output_type": "stream",
     "text": [
      "2017-02-24 16:01:44,791 : INFO : GET http://localhost:9200/_search/scroll?scroll=5m [status:200 request:9.441s]\n",
      "2017-02-24 16:01:44,929 : INFO : Documents Read: 960000\n"
     ]
    },
    {
     "name": "stdout",
     "output_type": "stream",
     "text": [
      "scroll size: 5000\n",
      "Scrolling...\n"
     ]
    },
    {
     "name": "stderr",
     "output_type": "stream",
     "text": [
      "2017-02-24 16:01:55,169 : INFO : GET http://localhost:9200/_search/scroll?scroll=5m [status:200 request:10.220s]\n",
      "2017-02-24 16:01:55,530 : INFO : Documents Read: 965000\n"
     ]
    },
    {
     "name": "stdout",
     "output_type": "stream",
     "text": [
      "scroll size: 5000\n",
      "Scrolling...\n"
     ]
    },
    {
     "name": "stderr",
     "output_type": "stream",
     "text": [
      "2017-02-24 16:02:08,648 : INFO : GET http://localhost:9200/_search/scroll?scroll=5m [status:200 request:12.963s]\n",
      "2017-02-24 16:02:09,116 : INFO : Documents Read: 970000\n"
     ]
    },
    {
     "name": "stdout",
     "output_type": "stream",
     "text": [
      "scroll size: 5000\n",
      "Scrolling...\n"
     ]
    },
    {
     "name": "stderr",
     "output_type": "stream",
     "text": [
      "2017-02-24 16:02:20,322 : INFO : GET http://localhost:9200/_search/scroll?scroll=5m [status:200 request:11.196s]\n",
      "2017-02-24 16:02:20,364 : INFO : Documents Read: 975000\n"
     ]
    },
    {
     "name": "stdout",
     "output_type": "stream",
     "text": [
      "scroll size: 5000\n",
      "Scrolling...\n"
     ]
    },
    {
     "name": "stderr",
     "output_type": "stream",
     "text": [
      "2017-02-24 16:02:31,018 : INFO : GET http://localhost:9200/_search/scroll?scroll=5m [status:200 request:10.413s]\n",
      "2017-02-24 16:02:31,090 : INFO : Documents Read: 980000\n"
     ]
    },
    {
     "name": "stdout",
     "output_type": "stream",
     "text": [
      "scroll size: 5000\n",
      "Scrolling...\n"
     ]
    },
    {
     "name": "stderr",
     "output_type": "stream",
     "text": [
      "2017-02-24 16:02:41,948 : INFO : GET http://localhost:9200/_search/scroll?scroll=5m [status:200 request:10.833s]\n",
      "2017-02-24 16:02:42,073 : INFO : Documents Read: 985000\n"
     ]
    },
    {
     "name": "stdout",
     "output_type": "stream",
     "text": [
      "scroll size: 5000\n",
      "Scrolling...\n"
     ]
    },
    {
     "name": "stderr",
     "output_type": "stream",
     "text": [
      "2017-02-24 16:02:52,010 : INFO : GET http://localhost:9200/_search/scroll?scroll=5m [status:200 request:9.908s]\n",
      "2017-02-24 16:02:52,091 : INFO : Documents Read: 990000\n"
     ]
    },
    {
     "name": "stdout",
     "output_type": "stream",
     "text": [
      "scroll size: 5000\n",
      "Scrolling...\n"
     ]
    },
    {
     "name": "stderr",
     "output_type": "stream",
     "text": [
      "2017-02-24 16:03:01,560 : INFO : GET http://localhost:9200/_search/scroll?scroll=5m [status:200 request:9.438s]\n",
      "2017-02-24 16:03:01,601 : INFO : Documents Read: 995000\n"
     ]
    },
    {
     "name": "stdout",
     "output_type": "stream",
     "text": [
      "scroll size: 5000\n",
      "Scrolling...\n"
     ]
    },
    {
     "name": "stderr",
     "output_type": "stream",
     "text": [
      "2017-02-24 16:03:11,217 : INFO : GET http://localhost:9200/_search/scroll?scroll=5m [status:200 request:9.588s]\n",
      "2017-02-24 16:03:11,702 : INFO : Documents Read: 1000000\n"
     ]
    },
    {
     "name": "stdout",
     "output_type": "stream",
     "text": [
      "scroll size: 5000\n",
      "Scrolling...\n"
     ]
    },
    {
     "name": "stderr",
     "output_type": "stream",
     "text": [
      "2017-02-24 16:03:21,354 : INFO : GET http://localhost:9200/_search/scroll?scroll=5m [status:200 request:9.621s]\n",
      "2017-02-24 16:03:21,607 : INFO : Documents Read: 1005000\n"
     ]
    },
    {
     "name": "stdout",
     "output_type": "stream",
     "text": [
      "scroll size: 5000\n",
      "Scrolling...\n"
     ]
    },
    {
     "name": "stderr",
     "output_type": "stream",
     "text": [
      "2017-02-24 16:03:31,402 : INFO : GET http://localhost:9200/_search/scroll?scroll=5m [status:200 request:9.754s]\n",
      "2017-02-24 16:03:31,604 : INFO : Documents Read: 1010000\n"
     ]
    },
    {
     "name": "stdout",
     "output_type": "stream",
     "text": [
      "scroll size: 5000\n",
      "Scrolling...\n"
     ]
    },
    {
     "name": "stderr",
     "output_type": "stream",
     "text": [
      "2017-02-24 16:03:42,166 : INFO : GET http://localhost:9200/_search/scroll?scroll=5m [status:200 request:10.496s]\n",
      "2017-02-24 16:03:42,208 : INFO : Documents Read: 1015000\n"
     ]
    },
    {
     "name": "stdout",
     "output_type": "stream",
     "text": [
      "scroll size: 5000\n",
      "Scrolling...\n"
     ]
    },
    {
     "name": "stderr",
     "output_type": "stream",
     "text": [
      "2017-02-24 16:03:52,081 : INFO : GET http://localhost:9200/_search/scroll?scroll=5m [status:200 request:9.854s]\n",
      "2017-02-24 16:03:52,136 : INFO : Documents Read: 1020000\n"
     ]
    },
    {
     "name": "stdout",
     "output_type": "stream",
     "text": [
      "scroll size: 5000\n",
      "Scrolling...\n"
     ]
    },
    {
     "name": "stderr",
     "output_type": "stream",
     "text": [
      "2017-02-24 16:04:02,392 : INFO : GET http://localhost:9200/_search/scroll?scroll=5m [status:200 request:10.243s]\n",
      "2017-02-24 16:04:02,454 : INFO : Documents Read: 1025000\n"
     ]
    },
    {
     "name": "stdout",
     "output_type": "stream",
     "text": [
      "scroll size: 5000\n",
      "Scrolling...\n"
     ]
    },
    {
     "name": "stderr",
     "output_type": "stream",
     "text": [
      "2017-02-24 16:04:12,263 : INFO : GET http://localhost:9200/_search/scroll?scroll=5m [status:200 request:9.788s]\n",
      "2017-02-24 16:04:13,167 : INFO : Documents Read: 1030000\n"
     ]
    },
    {
     "name": "stdout",
     "output_type": "stream",
     "text": [
      "scroll size: 5000\n",
      "Scrolling...\n"
     ]
    },
    {
     "name": "stderr",
     "output_type": "stream",
     "text": [
      "2017-02-24 16:04:25,268 : INFO : GET http://localhost:9200/_search/scroll?scroll=5m [status:200 request:12.090s]\n",
      "2017-02-24 16:04:25,364 : INFO : Documents Read: 1035000\n"
     ]
    },
    {
     "name": "stdout",
     "output_type": "stream",
     "text": [
      "scroll size: 5000\n",
      "Scrolling...\n"
     ]
    },
    {
     "name": "stderr",
     "output_type": "stream",
     "text": [
      "2017-02-24 16:04:36,127 : INFO : GET http://localhost:9200/_search/scroll?scroll=5m [status:200 request:10.744s]\n",
      "2017-02-24 16:04:36,585 : INFO : Documents Read: 1040000\n"
     ]
    },
    {
     "name": "stdout",
     "output_type": "stream",
     "text": [
      "scroll size: 5000\n",
      "Scrolling...\n"
     ]
    },
    {
     "name": "stderr",
     "output_type": "stream",
     "text": [
      "2017-02-24 16:04:48,638 : INFO : GET http://localhost:9200/_search/scroll?scroll=5m [status:200 request:11.979s]\n",
      "2017-02-24 16:04:48,887 : INFO : Documents Read: 1045000\n"
     ]
    },
    {
     "name": "stdout",
     "output_type": "stream",
     "text": [
      "scroll size: 5000\n",
      "Scrolling...\n"
     ]
    },
    {
     "name": "stderr",
     "output_type": "stream",
     "text": [
      "2017-02-24 16:05:14,673 : INFO : GET http://localhost:9200/_search/scroll?scroll=5m [status:200 request:25.758s]\n",
      "2017-02-24 16:05:17,550 : INFO : Documents Read: 1050000\n"
     ]
    },
    {
     "name": "stdout",
     "output_type": "stream",
     "text": [
      "scroll size: 5000\n",
      "Scrolling...\n"
     ]
    },
    {
     "name": "stderr",
     "output_type": "stream",
     "text": [
      "2017-02-24 16:05:30,291 : INFO : GET http://localhost:9200/_search/scroll?scroll=5m [status:200 request:12.597s]\n",
      "2017-02-24 16:05:32,197 : INFO : Documents Read: 1055000\n"
     ]
    },
    {
     "name": "stdout",
     "output_type": "stream",
     "text": [
      "scroll size: 5000\n",
      "Scrolling...\n"
     ]
    },
    {
     "name": "stderr",
     "output_type": "stream",
     "text": [
      "2017-02-24 16:05:46,999 : INFO : GET http://localhost:9200/_search/scroll?scroll=5m [status:200 request:14.445s]\n",
      "2017-02-24 16:05:50,354 : INFO : Documents Read: 1060000\n"
     ]
    },
    {
     "name": "stdout",
     "output_type": "stream",
     "text": [
      "scroll size: 5000\n",
      "Scrolling...\n"
     ]
    },
    {
     "name": "stderr",
     "output_type": "stream",
     "text": [
      "2017-02-24 16:06:01,484 : INFO : GET http://localhost:9200/_search/scroll?scroll=5m [status:200 request:10.898s]\n",
      "2017-02-24 16:06:06,704 : INFO : Documents Read: 1065000\n"
     ]
    },
    {
     "name": "stdout",
     "output_type": "stream",
     "text": [
      "scroll size: 5000\n",
      "Scrolling...\n"
     ]
    },
    {
     "name": "stderr",
     "output_type": "stream",
     "text": [
      "2017-02-24 16:06:18,467 : INFO : GET http://localhost:9200/_search/scroll?scroll=5m [status:200 request:11.403s]\n",
      "2017-02-24 16:06:23,714 : INFO : Documents Read: 1070000\n"
     ]
    },
    {
     "name": "stdout",
     "output_type": "stream",
     "text": [
      "scroll size: 5000\n",
      "Scrolling...\n"
     ]
    },
    {
     "name": "stderr",
     "output_type": "stream",
     "text": [
      "2017-02-24 16:06:35,442 : INFO : GET http://localhost:9200/_search/scroll?scroll=5m [status:200 request:11.716s]\n",
      "2017-02-24 16:06:44,402 : INFO : Documents Read: 1075000\n"
     ]
    },
    {
     "name": "stdout",
     "output_type": "stream",
     "text": [
      "scroll size: 5000\n",
      "Scrolling...\n"
     ]
    },
    {
     "name": "stderr",
     "output_type": "stream",
     "text": [
      "2017-02-24 16:07:04,317 : INFO : GET http://localhost:9200/_search/scroll?scroll=5m [status:200 request:17.788s]\n",
      "2017-02-24 16:07:21,412 : INFO : Documents Read: 1080000\n"
     ]
    },
    {
     "name": "stdout",
     "output_type": "stream",
     "text": [
      "scroll size: 5000\n",
      "Scrolling...\n"
     ]
    },
    {
     "name": "stderr",
     "output_type": "stream",
     "text": [
      "2017-02-24 16:07:33,349 : INFO : GET http://localhost:9200/_search/scroll?scroll=5m [status:200 request:11.613s]\n",
      "2017-02-24 16:07:45,301 : INFO : Documents Read: 1085000\n"
     ]
    },
    {
     "name": "stdout",
     "output_type": "stream",
     "text": [
      "scroll size: 5000\n",
      "Scrolling...\n"
     ]
    },
    {
     "name": "stderr",
     "output_type": "stream",
     "text": [
      "2017-02-24 16:07:54,177 : INFO : GET http://localhost:9200/_search/scroll?scroll=5m [status:200 request:8.863s]\n",
      "2017-02-24 16:08:03,634 : INFO : Documents Read: 1090000\n"
     ]
    },
    {
     "name": "stdout",
     "output_type": "stream",
     "text": [
      "scroll size: 5000\n",
      "Scrolling...\n"
     ]
    },
    {
     "name": "stderr",
     "output_type": "stream",
     "text": [
      "2017-02-24 16:08:15,568 : INFO : GET http://localhost:9200/_search/scroll?scroll=5m [status:200 request:11.082s]\n",
      "2017-02-24 16:08:21,993 : INFO : Documents Read: 1095000\n"
     ]
    },
    {
     "name": "stdout",
     "output_type": "stream",
     "text": [
      "scroll size: 5000\n",
      "Scrolling...\n"
     ]
    },
    {
     "name": "stderr",
     "output_type": "stream",
     "text": [
      "2017-02-24 16:08:36,343 : INFO : GET http://localhost:9200/_search/scroll?scroll=5m [status:200 request:14.336s]\n",
      "2017-02-24 16:08:44,074 : INFO : Documents Read: 1100000\n"
     ]
    },
    {
     "name": "stdout",
     "output_type": "stream",
     "text": [
      "scroll size: 5000\n",
      "Scrolling...\n"
     ]
    },
    {
     "name": "stderr",
     "output_type": "stream",
     "text": [
      "2017-02-24 16:08:55,452 : INFO : GET http://localhost:9200/_search/scroll?scroll=5m [status:200 request:10.945s]\n",
      "2017-02-24 16:08:59,933 : INFO : Documents Read: 1105000\n"
     ]
    },
    {
     "name": "stdout",
     "output_type": "stream",
     "text": [
      "scroll size: 5000\n",
      "Scrolling...\n"
     ]
    },
    {
     "name": "stderr",
     "output_type": "stream",
     "text": [
      "2017-02-24 16:09:09,630 : INFO : GET http://localhost:9200/_search/scroll?scroll=5m [status:200 request:9.684s]\n",
      "2017-02-24 16:09:12,294 : INFO : Documents Read: 1110000\n"
     ]
    },
    {
     "name": "stdout",
     "output_type": "stream",
     "text": [
      "scroll size: 5000\n",
      "Scrolling...\n"
     ]
    },
    {
     "name": "stderr",
     "output_type": "stream",
     "text": [
      "2017-02-24 16:09:21,318 : INFO : GET http://localhost:9200/_search/scroll?scroll=5m [status:200 request:9.012s]\n",
      "2017-02-24 16:09:23,448 : INFO : Documents Read: 1115000\n"
     ]
    },
    {
     "name": "stdout",
     "output_type": "stream",
     "text": [
      "scroll size: 5000\n",
      "Scrolling...\n"
     ]
    },
    {
     "name": "stderr",
     "output_type": "stream",
     "text": [
      "2017-02-24 16:09:32,566 : INFO : GET http://localhost:9200/_search/scroll?scroll=5m [status:200 request:9.105s]\n",
      "2017-02-24 16:09:33,848 : INFO : Documents Read: 1120000\n"
     ]
    },
    {
     "name": "stdout",
     "output_type": "stream",
     "text": [
      "scroll size: 5000\n",
      "Scrolling...\n"
     ]
    },
    {
     "name": "stderr",
     "output_type": "stream",
     "text": [
      "2017-02-24 16:09:43,430 : INFO : GET http://localhost:9200/_search/scroll?scroll=5m [status:200 request:9.542s]\n"
     ]
    },
    {
     "name": "stdout",
     "output_type": "stream",
     "text": [
      "scroll size: 5000\n"
     ]
    },
    {
     "name": "stderr",
     "output_type": "stream",
     "text": [
      "2017-02-24 16:16:04,842 : INFO : Documents Read: 1125000\n"
     ]
    },
    {
     "name": "stdout",
     "output_type": "stream",
     "text": [
      "Scrolling...\n"
     ]
    },
    {
     "name": "stderr",
     "output_type": "stream",
     "text": [
      "2017-02-24 16:16:08,551 : WARNING : GET /_search/scroll?scroll=5m [status:404 request:3.268s]\n"
     ]
    },
    {
     "ename": "NotFoundError",
     "evalue": "TransportError(404, u'{\"_scroll_id\":\"c2NhbjswOzE7dG90YWxfaGl0czoyMDA5NzUwOw==\",\"took\":604,\"timed_out\":false,\"_shards\":{\"total\":5,\"successful\":0,\"failed\":5,\"failures\":[{\"shard\":-1,\"index\":null,\"reason\":{\"type\":\"search_context_missing_exception\",\"reason\":\"No search context found for id [5]\"}},{\"shard\":-1,\"index\":null,\"reason\":{\"type\":\"search_context_missing_exception\",\"reason\":\"No search context found for id [2]\"}},{\"shard\":-1,\"index\":null,\"reason\":{\"type\":\"search_context_missing_exception\",\"reason\":\"No search context found for id [1]\"}},{\"shard\":-1,\"index\":null,\"reason\":{\"type\":\"search_context_missing_exception\",\"reason\":\"No search context found for id [3]\"}},{\"shard\":-1,\"index\":null,\"reason\":{\"type\":\"search_context_missing_exception\",\"reason\":\"No search context found for id [4]\"}}]},\"hits\":{\"total\":2009750,\"max_score\":0.0,\"hits\":[]}}')",
     "output_type": "error",
     "traceback": [
      "\u001b[1;31m---------------------------------------------------------------------------\u001b[0m",
      "\u001b[1;31mNotFoundError\u001b[0m                             Traceback (most recent call last)",
      "\u001b[1;32m<ipython-input-13-ed5c5b080b10>\u001b[0m in \u001b[0;36m<module>\u001b[1;34m()\u001b[0m\n\u001b[1;32m----> 1\u001b[1;33m \u001b[0mget_ipython\u001b[0m\u001b[1;33m(\u001b[0m\u001b[1;33m)\u001b[0m\u001b[1;33m.\u001b[0m\u001b[0mrun_cell_magic\u001b[0m\u001b[1;33m(\u001b[0m\u001b[1;34mu'time'\u001b[0m\u001b[1;33m,\u001b[0m \u001b[1;34mu''\u001b[0m\u001b[1;33m,\u001b[0m \u001b[1;34mu'scroll_size = total_size\\n# Start scrolling\\nwhile (scroll_size > 0):\\n    print \"Scrolling...\"\\n    page = es.scroll(scroll_id = sid, scroll = \\'5m\\')\\n    # Update the scroll ID\\n    sid = page[\\'_scroll_id\\']\\n    # Get the number of results that we returned in the last scroll\\n    scroll_size = len(page[\\'hits\\'][\\'hits\\'])\\n    print \"scroll size: \" + str(scroll_size)\\n    # Do something with the obtained page\\n    for hit in page[\\'hits\\'][\\'hits\\']:\\n        doc_id = hit[\\'_id\\']\\n#         titles_map[doc_id] = hit[\\'fields\\'][\\'invention-title\\']\\n        abstracts_map[doc_id] = hit[\\'fields\\'][\\'abstract\\']\\n    info(\\'Documents Read: {}\\'.format(len(abstracts_map)))'\u001b[0m\u001b[1;33m)\u001b[0m\u001b[1;33m\u001b[0m\u001b[0m\n\u001b[0m",
      "\u001b[1;32m/home/marawan/.virtualenv/thesis-env/local/lib/python2.7/site-packages/IPython/core/interactiveshell.pyc\u001b[0m in \u001b[0;36mrun_cell_magic\u001b[1;34m(self, magic_name, line, cell)\u001b[0m\n\u001b[0;32m   2118\u001b[0m             \u001b[0mmagic_arg_s\u001b[0m \u001b[1;33m=\u001b[0m \u001b[0mself\u001b[0m\u001b[1;33m.\u001b[0m\u001b[0mvar_expand\u001b[0m\u001b[1;33m(\u001b[0m\u001b[0mline\u001b[0m\u001b[1;33m,\u001b[0m \u001b[0mstack_depth\u001b[0m\u001b[1;33m)\u001b[0m\u001b[1;33m\u001b[0m\u001b[0m\n\u001b[0;32m   2119\u001b[0m             \u001b[1;32mwith\u001b[0m \u001b[0mself\u001b[0m\u001b[1;33m.\u001b[0m\u001b[0mbuiltin_trap\u001b[0m\u001b[1;33m:\u001b[0m\u001b[1;33m\u001b[0m\u001b[0m\n\u001b[1;32m-> 2120\u001b[1;33m                 \u001b[0mresult\u001b[0m \u001b[1;33m=\u001b[0m \u001b[0mfn\u001b[0m\u001b[1;33m(\u001b[0m\u001b[0mmagic_arg_s\u001b[0m\u001b[1;33m,\u001b[0m \u001b[0mcell\u001b[0m\u001b[1;33m)\u001b[0m\u001b[1;33m\u001b[0m\u001b[0m\n\u001b[0m\u001b[0;32m   2121\u001b[0m             \u001b[1;32mreturn\u001b[0m \u001b[0mresult\u001b[0m\u001b[1;33m\u001b[0m\u001b[0m\n\u001b[0;32m   2122\u001b[0m \u001b[1;33m\u001b[0m\u001b[0m\n",
      "\u001b[1;32m<decorator-gen-60>\u001b[0m in \u001b[0;36mtime\u001b[1;34m(self, line, cell, local_ns)\u001b[0m\n",
      "\u001b[1;32m/home/marawan/.virtualenv/thesis-env/local/lib/python2.7/site-packages/IPython/core/magic.pyc\u001b[0m in \u001b[0;36m<lambda>\u001b[1;34m(f, *a, **k)\u001b[0m\n\u001b[0;32m    191\u001b[0m     \u001b[1;31m# but it's overkill for just that one bit of state.\u001b[0m\u001b[1;33m\u001b[0m\u001b[1;33m\u001b[0m\u001b[0m\n\u001b[0;32m    192\u001b[0m     \u001b[1;32mdef\u001b[0m \u001b[0mmagic_deco\u001b[0m\u001b[1;33m(\u001b[0m\u001b[0marg\u001b[0m\u001b[1;33m)\u001b[0m\u001b[1;33m:\u001b[0m\u001b[1;33m\u001b[0m\u001b[0m\n\u001b[1;32m--> 193\u001b[1;33m         \u001b[0mcall\u001b[0m \u001b[1;33m=\u001b[0m \u001b[1;32mlambda\u001b[0m \u001b[0mf\u001b[0m\u001b[1;33m,\u001b[0m \u001b[1;33m*\u001b[0m\u001b[0ma\u001b[0m\u001b[1;33m,\u001b[0m \u001b[1;33m**\u001b[0m\u001b[0mk\u001b[0m\u001b[1;33m:\u001b[0m \u001b[0mf\u001b[0m\u001b[1;33m(\u001b[0m\u001b[1;33m*\u001b[0m\u001b[0ma\u001b[0m\u001b[1;33m,\u001b[0m \u001b[1;33m**\u001b[0m\u001b[0mk\u001b[0m\u001b[1;33m)\u001b[0m\u001b[1;33m\u001b[0m\u001b[0m\n\u001b[0m\u001b[0;32m    194\u001b[0m \u001b[1;33m\u001b[0m\u001b[0m\n\u001b[0;32m    195\u001b[0m         \u001b[1;32mif\u001b[0m \u001b[0mcallable\u001b[0m\u001b[1;33m(\u001b[0m\u001b[0marg\u001b[0m\u001b[1;33m)\u001b[0m\u001b[1;33m:\u001b[0m\u001b[1;33m\u001b[0m\u001b[0m\n",
      "\u001b[1;32m/home/marawan/.virtualenv/thesis-env/local/lib/python2.7/site-packages/IPython/core/magics/execution.pyc\u001b[0m in \u001b[0;36mtime\u001b[1;34m(self, line, cell, local_ns)\u001b[0m\n\u001b[0;32m   1175\u001b[0m         \u001b[1;32melse\u001b[0m\u001b[1;33m:\u001b[0m\u001b[1;33m\u001b[0m\u001b[0m\n\u001b[0;32m   1176\u001b[0m             \u001b[0mst\u001b[0m \u001b[1;33m=\u001b[0m \u001b[0mclock2\u001b[0m\u001b[1;33m(\u001b[0m\u001b[1;33m)\u001b[0m\u001b[1;33m\u001b[0m\u001b[0m\n\u001b[1;32m-> 1177\u001b[1;33m             \u001b[1;32mexec\u001b[0m\u001b[1;33m(\u001b[0m\u001b[0mcode\u001b[0m\u001b[1;33m,\u001b[0m \u001b[0mglob\u001b[0m\u001b[1;33m,\u001b[0m \u001b[0mlocal_ns\u001b[0m\u001b[1;33m)\u001b[0m\u001b[1;33m\u001b[0m\u001b[0m\n\u001b[0m\u001b[0;32m   1178\u001b[0m             \u001b[0mend\u001b[0m \u001b[1;33m=\u001b[0m \u001b[0mclock2\u001b[0m\u001b[1;33m(\u001b[0m\u001b[1;33m)\u001b[0m\u001b[1;33m\u001b[0m\u001b[0m\n\u001b[0;32m   1179\u001b[0m             \u001b[0mout\u001b[0m \u001b[1;33m=\u001b[0m \u001b[0mNone\u001b[0m\u001b[1;33m\u001b[0m\u001b[0m\n",
      "\u001b[1;32m<timed exec>\u001b[0m in \u001b[0;36m<module>\u001b[1;34m()\u001b[0m\n",
      "\u001b[1;32m/home/marawan/.virtualenv/thesis-env/local/lib/python2.7/site-packages/elasticsearch/client/utils.pyc\u001b[0m in \u001b[0;36m_wrapped\u001b[1;34m(*args, **kwargs)\u001b[0m\n\u001b[0;32m     67\u001b[0m                 \u001b[1;32mif\u001b[0m \u001b[0mp\u001b[0m \u001b[1;32min\u001b[0m \u001b[0mkwargs\u001b[0m\u001b[1;33m:\u001b[0m\u001b[1;33m\u001b[0m\u001b[0m\n\u001b[0;32m     68\u001b[0m                     \u001b[0mparams\u001b[0m\u001b[1;33m[\u001b[0m\u001b[0mp\u001b[0m\u001b[1;33m]\u001b[0m \u001b[1;33m=\u001b[0m \u001b[0mkwargs\u001b[0m\u001b[1;33m.\u001b[0m\u001b[0mpop\u001b[0m\u001b[1;33m(\u001b[0m\u001b[0mp\u001b[0m\u001b[1;33m)\u001b[0m\u001b[1;33m\u001b[0m\u001b[0m\n\u001b[1;32m---> 69\u001b[1;33m             \u001b[1;32mreturn\u001b[0m \u001b[0mfunc\u001b[0m\u001b[1;33m(\u001b[0m\u001b[1;33m*\u001b[0m\u001b[0margs\u001b[0m\u001b[1;33m,\u001b[0m \u001b[0mparams\u001b[0m\u001b[1;33m=\u001b[0m\u001b[0mparams\u001b[0m\u001b[1;33m,\u001b[0m \u001b[1;33m**\u001b[0m\u001b[0mkwargs\u001b[0m\u001b[1;33m)\u001b[0m\u001b[1;33m\u001b[0m\u001b[0m\n\u001b[0m\u001b[0;32m     70\u001b[0m         \u001b[1;32mreturn\u001b[0m \u001b[0m_wrapped\u001b[0m\u001b[1;33m\u001b[0m\u001b[0m\n\u001b[0;32m     71\u001b[0m     \u001b[1;32mreturn\u001b[0m \u001b[0m_wrapper\u001b[0m\u001b[1;33m\u001b[0m\u001b[0m\n",
      "\u001b[1;32m/home/marawan/.virtualenv/thesis-env/local/lib/python2.7/site-packages/elasticsearch/client/__init__.pyc\u001b[0m in \u001b[0;36mscroll\u001b[1;34m(self, scroll_id, body, params)\u001b[0m\n\u001b[0;32m    678\u001b[0m \u001b[1;33m\u001b[0m\u001b[0m\n\u001b[0;32m    679\u001b[0m         _, data = self.transport.perform_request('GET', '/_search/scroll',\n\u001b[1;32m--> 680\u001b[1;33m             params=params, body=body)\n\u001b[0m\u001b[0;32m    681\u001b[0m         \u001b[1;32mreturn\u001b[0m \u001b[0mdata\u001b[0m\u001b[1;33m\u001b[0m\u001b[0m\n\u001b[0;32m    682\u001b[0m \u001b[1;33m\u001b[0m\u001b[0m\n",
      "\u001b[1;32m/home/marawan/.virtualenv/thesis-env/local/lib/python2.7/site-packages/elasticsearch/transport.pyc\u001b[0m in \u001b[0;36mperform_request\u001b[1;34m(self, method, url, params, body)\u001b[0m\n\u001b[0;32m    327\u001b[0m \u001b[1;33m\u001b[0m\u001b[0m\n\u001b[0;32m    328\u001b[0m             \u001b[1;32mtry\u001b[0m\u001b[1;33m:\u001b[0m\u001b[1;33m\u001b[0m\u001b[0m\n\u001b[1;32m--> 329\u001b[1;33m                 \u001b[0mstatus\u001b[0m\u001b[1;33m,\u001b[0m \u001b[0mheaders\u001b[0m\u001b[1;33m,\u001b[0m \u001b[0mdata\u001b[0m \u001b[1;33m=\u001b[0m \u001b[0mconnection\u001b[0m\u001b[1;33m.\u001b[0m\u001b[0mperform_request\u001b[0m\u001b[1;33m(\u001b[0m\u001b[0mmethod\u001b[0m\u001b[1;33m,\u001b[0m \u001b[0murl\u001b[0m\u001b[1;33m,\u001b[0m \u001b[0mparams\u001b[0m\u001b[1;33m,\u001b[0m \u001b[0mbody\u001b[0m\u001b[1;33m,\u001b[0m \u001b[0mignore\u001b[0m\u001b[1;33m=\u001b[0m\u001b[0mignore\u001b[0m\u001b[1;33m,\u001b[0m \u001b[0mtimeout\u001b[0m\u001b[1;33m=\u001b[0m\u001b[0mtimeout\u001b[0m\u001b[1;33m)\u001b[0m\u001b[1;33m\u001b[0m\u001b[0m\n\u001b[0m\u001b[0;32m    330\u001b[0m \u001b[1;33m\u001b[0m\u001b[0m\n\u001b[0;32m    331\u001b[0m             \u001b[1;32mexcept\u001b[0m \u001b[0mTransportError\u001b[0m \u001b[1;32mas\u001b[0m \u001b[0me\u001b[0m\u001b[1;33m:\u001b[0m\u001b[1;33m\u001b[0m\u001b[0m\n",
      "\u001b[1;32m/home/marawan/.virtualenv/thesis-env/local/lib/python2.7/site-packages/elasticsearch/connection/http_urllib3.pyc\u001b[0m in \u001b[0;36mperform_request\u001b[1;34m(self, method, url, params, body, timeout, ignore)\u001b[0m\n\u001b[0;32m    107\u001b[0m         \u001b[1;32mif\u001b[0m \u001b[1;32mnot\u001b[0m \u001b[1;33m(\u001b[0m\u001b[1;36m200\u001b[0m \u001b[1;33m<=\u001b[0m \u001b[0mresponse\u001b[0m\u001b[1;33m.\u001b[0m\u001b[0mstatus\u001b[0m \u001b[1;33m<\u001b[0m \u001b[1;36m300\u001b[0m\u001b[1;33m)\u001b[0m \u001b[1;32mand\u001b[0m \u001b[0mresponse\u001b[0m\u001b[1;33m.\u001b[0m\u001b[0mstatus\u001b[0m \u001b[1;32mnot\u001b[0m \u001b[1;32min\u001b[0m \u001b[0mignore\u001b[0m\u001b[1;33m:\u001b[0m\u001b[1;33m\u001b[0m\u001b[0m\n\u001b[0;32m    108\u001b[0m             \u001b[0mself\u001b[0m\u001b[1;33m.\u001b[0m\u001b[0mlog_request_fail\u001b[0m\u001b[1;33m(\u001b[0m\u001b[0mmethod\u001b[0m\u001b[1;33m,\u001b[0m \u001b[0murl\u001b[0m\u001b[1;33m,\u001b[0m \u001b[0mbody\u001b[0m\u001b[1;33m,\u001b[0m \u001b[0mduration\u001b[0m\u001b[1;33m,\u001b[0m \u001b[0mresponse\u001b[0m\u001b[1;33m.\u001b[0m\u001b[0mstatus\u001b[0m\u001b[1;33m,\u001b[0m \u001b[0mraw_data\u001b[0m\u001b[1;33m)\u001b[0m\u001b[1;33m\u001b[0m\u001b[0m\n\u001b[1;32m--> 109\u001b[1;33m             \u001b[0mself\u001b[0m\u001b[1;33m.\u001b[0m\u001b[0m_raise_error\u001b[0m\u001b[1;33m(\u001b[0m\u001b[0mresponse\u001b[0m\u001b[1;33m.\u001b[0m\u001b[0mstatus\u001b[0m\u001b[1;33m,\u001b[0m \u001b[0mraw_data\u001b[0m\u001b[1;33m)\u001b[0m\u001b[1;33m\u001b[0m\u001b[0m\n\u001b[0m\u001b[0;32m    110\u001b[0m \u001b[1;33m\u001b[0m\u001b[0m\n\u001b[0;32m    111\u001b[0m         self.log_request_success(method, full_url, url, body, response.status,\n",
      "\u001b[1;32m/home/marawan/.virtualenv/thesis-env/local/lib/python2.7/site-packages/elasticsearch/connection/base.pyc\u001b[0m in \u001b[0;36m_raise_error\u001b[1;34m(self, status_code, raw_data)\u001b[0m\n\u001b[0;32m    106\u001b[0m             \u001b[1;32mpass\u001b[0m\u001b[1;33m\u001b[0m\u001b[0m\n\u001b[0;32m    107\u001b[0m \u001b[1;33m\u001b[0m\u001b[0m\n\u001b[1;32m--> 108\u001b[1;33m         \u001b[1;32mraise\u001b[0m \u001b[0mHTTP_EXCEPTIONS\u001b[0m\u001b[1;33m.\u001b[0m\u001b[0mget\u001b[0m\u001b[1;33m(\u001b[0m\u001b[0mstatus_code\u001b[0m\u001b[1;33m,\u001b[0m \u001b[0mTransportError\u001b[0m\u001b[1;33m)\u001b[0m\u001b[1;33m(\u001b[0m\u001b[0mstatus_code\u001b[0m\u001b[1;33m,\u001b[0m \u001b[0merror_message\u001b[0m\u001b[1;33m,\u001b[0m \u001b[0madditional_info\u001b[0m\u001b[1;33m)\u001b[0m\u001b[1;33m\u001b[0m\u001b[0m\n\u001b[0m\u001b[0;32m    109\u001b[0m \u001b[1;33m\u001b[0m\u001b[0m\n\u001b[0;32m    110\u001b[0m \u001b[1;33m\u001b[0m\u001b[0m\n",
      "\u001b[1;31mNotFoundError\u001b[0m: TransportError(404, u'{\"_scroll_id\":\"c2NhbjswOzE7dG90YWxfaGl0czoyMDA5NzUwOw==\",\"took\":604,\"timed_out\":false,\"_shards\":{\"total\":5,\"successful\":0,\"failed\":5,\"failures\":[{\"shard\":-1,\"index\":null,\"reason\":{\"type\":\"search_context_missing_exception\",\"reason\":\"No search context found for id [5]\"}},{\"shard\":-1,\"index\":null,\"reason\":{\"type\":\"search_context_missing_exception\",\"reason\":\"No search context found for id [2]\"}},{\"shard\":-1,\"index\":null,\"reason\":{\"type\":\"search_context_missing_exception\",\"reason\":\"No search context found for id [1]\"}},{\"shard\":-1,\"index\":null,\"reason\":{\"type\":\"search_context_missing_exception\",\"reason\":\"No search context found for id [3]\"}},{\"shard\":-1,\"index\":null,\"reason\":{\"type\":\"search_context_missing_exception\",\"reason\":\"No search context found for id [4]\"}}]},\"hits\":{\"total\":2009750,\"max_score\":0.0,\"hits\":[]}}')"
     ]
    }
   ],
   "source": [
    "%%time\n",
    "scroll_size = total_size\n",
    "# Start scrolling\n",
    "while (scroll_size > 0):\n",
    "    print \"Scrolling...\"\n",
    "    page = es.scroll(scroll_id = sid, scroll = '5m')\n",
    "    # Update the scroll ID\n",
    "    sid = page['_scroll_id']\n",
    "    # Get the number of results that we returned in the last scroll\n",
    "    scroll_size = len(page['hits']['hits'])\n",
    "    print \"scroll size: \" + str(scroll_size)\n",
    "    # Do something with the obtained page\n",
    "    for hit in page['hits']['hits']:\n",
    "        doc_id = hit['_id']\n",
    "        titles_map[doc_id] = hit['fields']['invention-title'][0]\n",
    "        abstracts_map[doc_id] = hit['fields']['abstract'][0]\n",
    "    info('Documents Read: {}'.format(len(abstracts_map)))"
   ]
  },
  {
   "cell_type": "code",
   "execution_count": 20,
   "metadata": {
    "collapsed": false
   },
   "outputs": [],
   "source": [
    "pickle.dump(titles_map, open('../../data/titles_map.pkl', 'w'))"
   ]
  },
  {
   "cell_type": "markdown",
   "metadata": {},
   "source": [
    "## Save abstracts to file directly"
   ]
  },
  {
   "cell_type": "code",
   "execution_count": 51,
   "metadata": {
    "collapsed": false
   },
   "outputs": [
    {
     "name": "stderr",
     "output_type": "stream",
     "text": [
      "2017-02-24 17:00:05,498 : INFO : GET http://localhost:9200/patents/_search?search_type=scan&scroll=60s&timeout=60s&size=2000 [status:200 request:0.003s]\n"
     ]
    }
   ],
   "source": [
    "rs = es.search(index='patents', \n",
    "          scroll='60s', \n",
    "          timeout='60s',\n",
    "          search_type='scan', \n",
    "#           search_type='query_then_fetch',\n",
    "          size=2000, \n",
    "          body={\n",
    "#              \"fields\" : [\"invention-title\", \"abstract\"],\n",
    "             \"fields\" : [\"abstract\"],\n",
    "               \"query\" : {\n",
    "                  \"match_all\" : {} \n",
    "               }\n",
    "         }\n",
    ")\n",
    "\n",
    "sid = rs['_scroll_id']\n",
    "total_size = rs['hits']['total']"
   ]
  },
  {
   "cell_type": "code",
   "execution_count": 53,
   "metadata": {
    "collapsed": false,
    "scrolled": true
   },
   "outputs": [
    {
     "name": "stdout",
     "output_type": "stream",
     "text": [
      "Scrolling...\n"
     ]
    },
    {
     "name": "stderr",
     "output_type": "stream",
     "text": [
      "2017-02-24 17:01:08,284 : INFO : GET http://localhost:9200/_search/scroll?scroll=5m [status:200 request:6.065s]\n"
     ]
    },
    {
     "name": "stdout",
     "output_type": "stream",
     "text": [
      "scroll size: 10000\n"
     ]
    },
    {
     "name": "stderr",
     "output_type": "stream",
     "text": [
      "2017-02-24 17:01:08,643 : INFO : Documents Read: 10000\n"
     ]
    },
    {
     "name": "stdout",
     "output_type": "stream",
     "text": [
      "Scrolling...\n"
     ]
    },
    {
     "name": "stderr",
     "output_type": "stream",
     "text": [
      "2017-02-24 17:01:26,547 : INFO : GET http://localhost:9200/_search/scroll?scroll=5m [status:200 request:17.834s]\n",
      "2017-02-24 17:01:26,855 : INFO : Documents Read: 20000\n"
     ]
    },
    {
     "name": "stdout",
     "output_type": "stream",
     "text": [
      "scroll size: 10000\n",
      "Scrolling...\n"
     ]
    },
    {
     "name": "stderr",
     "output_type": "stream",
     "text": [
      "2017-02-24 17:01:45,026 : INFO : GET http://localhost:9200/_search/scroll?scroll=5m [status:200 request:18.143s]\n",
      "2017-02-24 17:01:45,302 : INFO : Documents Read: 30000\n"
     ]
    },
    {
     "name": "stdout",
     "output_type": "stream",
     "text": [
      "scroll size: 10000\n",
      "Scrolling...\n"
     ]
    },
    {
     "name": "stderr",
     "output_type": "stream",
     "text": [
      "2017-02-24 17:02:02,326 : INFO : GET http://localhost:9200/_search/scroll?scroll=5m [status:200 request:16.958s]\n",
      "2017-02-24 17:02:02,554 : INFO : Documents Read: 40000\n"
     ]
    },
    {
     "name": "stdout",
     "output_type": "stream",
     "text": [
      "scroll size: 10000\n",
      "Scrolling...\n"
     ]
    },
    {
     "name": "stderr",
     "output_type": "stream",
     "text": [
      "2017-02-24 17:02:20,204 : INFO : GET http://localhost:9200/_search/scroll?scroll=5m [status:200 request:17.618s]\n",
      "2017-02-24 17:02:20,547 : INFO : Documents Read: 50000\n"
     ]
    },
    {
     "name": "stdout",
     "output_type": "stream",
     "text": [
      "scroll size: 10000\n",
      "Scrolling...\n"
     ]
    },
    {
     "name": "stderr",
     "output_type": "stream",
     "text": [
      "2017-02-24 17:02:37,841 : INFO : GET http://localhost:9200/_search/scroll?scroll=5m [status:200 request:17.258s]\n"
     ]
    },
    {
     "name": "stdout",
     "output_type": "stream",
     "text": [
      "scroll size: 10000\n"
     ]
    },
    {
     "name": "stderr",
     "output_type": "stream",
     "text": [
      "2017-02-24 17:02:38,149 : INFO : Documents Read: 60000\n"
     ]
    },
    {
     "name": "stdout",
     "output_type": "stream",
     "text": [
      "Scrolling...\n"
     ]
    },
    {
     "name": "stderr",
     "output_type": "stream",
     "text": [
      "2017-02-24 17:02:56,327 : INFO : GET http://localhost:9200/_search/scroll?scroll=5m [status:200 request:18.137s]\n"
     ]
    },
    {
     "name": "stdout",
     "output_type": "stream",
     "text": [
      "scroll size: 10000\n"
     ]
    },
    {
     "name": "stderr",
     "output_type": "stream",
     "text": [
      "2017-02-24 17:02:56,660 : INFO : Documents Read: 70000\n"
     ]
    },
    {
     "name": "stdout",
     "output_type": "stream",
     "text": [
      "Scrolling...\n"
     ]
    },
    {
     "name": "stderr",
     "output_type": "stream",
     "text": [
      "2017-02-24 17:03:14,512 : INFO : GET http://localhost:9200/_search/scroll?scroll=5m [status:200 request:17.806s]\n",
      "2017-02-24 17:03:14,803 : INFO : Documents Read: 80000\n"
     ]
    },
    {
     "name": "stdout",
     "output_type": "stream",
     "text": [
      "scroll size: 10000\n",
      "Scrolling...\n"
     ]
    },
    {
     "name": "stderr",
     "output_type": "stream",
     "text": [
      "2017-02-24 17:03:32,842 : INFO : GET http://localhost:9200/_search/scroll?scroll=5m [status:200 request:18.010s]\n",
      "2017-02-24 17:03:33,063 : INFO : Documents Read: 90000\n"
     ]
    },
    {
     "name": "stdout",
     "output_type": "stream",
     "text": [
      "scroll size: 10000\n",
      "Scrolling...\n"
     ]
    },
    {
     "name": "stderr",
     "output_type": "stream",
     "text": [
      "2017-02-24 17:03:49,659 : INFO : GET http://localhost:9200/_search/scroll?scroll=5m [status:200 request:16.562s]\n"
     ]
    },
    {
     "name": "stdout",
     "output_type": "stream",
     "text": [
      "scroll size: 10000\n"
     ]
    },
    {
     "name": "stderr",
     "output_type": "stream",
     "text": [
      "2017-02-24 17:03:50,044 : INFO : Documents Read: 100000\n"
     ]
    },
    {
     "name": "stdout",
     "output_type": "stream",
     "text": [
      "Scrolling...\n"
     ]
    },
    {
     "name": "stderr",
     "output_type": "stream",
     "text": [
      "2017-02-24 17:04:05,859 : INFO : GET http://localhost:9200/_search/scroll?scroll=5m [status:200 request:15.783s]\n",
      "2017-02-24 17:04:06,124 : INFO : Documents Read: 110000\n"
     ]
    },
    {
     "name": "stdout",
     "output_type": "stream",
     "text": [
      "scroll size: 10000\n",
      "Scrolling...\n"
     ]
    },
    {
     "name": "stderr",
     "output_type": "stream",
     "text": [
      "2017-02-24 17:04:23,156 : INFO : GET http://localhost:9200/_search/scroll?scroll=5m [status:200 request:16.982s]\n",
      "2017-02-24 17:04:23,491 : INFO : Documents Read: 120000\n"
     ]
    },
    {
     "name": "stdout",
     "output_type": "stream",
     "text": [
      "scroll size: 10000\n",
      "Scrolling...\n"
     ]
    },
    {
     "name": "stderr",
     "output_type": "stream",
     "text": [
      "2017-02-24 17:04:41,015 : INFO : GET http://localhost:9200/_search/scroll?scroll=5m [status:200 request:17.489s]\n"
     ]
    },
    {
     "name": "stdout",
     "output_type": "stream",
     "text": [
      "scroll size: 10000\n"
     ]
    },
    {
     "name": "stderr",
     "output_type": "stream",
     "text": [
      "2017-02-24 17:04:41,355 : INFO : Documents Read: 130000\n"
     ]
    },
    {
     "name": "stdout",
     "output_type": "stream",
     "text": [
      "Scrolling...\n"
     ]
    },
    {
     "name": "stderr",
     "output_type": "stream",
     "text": [
      "2017-02-24 17:04:58,635 : INFO : GET http://localhost:9200/_search/scroll?scroll=5m [status:200 request:17.249s]\n",
      "2017-02-24 17:04:58,881 : INFO : Documents Read: 140000\n"
     ]
    },
    {
     "name": "stdout",
     "output_type": "stream",
     "text": [
      "scroll size: 10000\n",
      "Scrolling...\n"
     ]
    },
    {
     "name": "stderr",
     "output_type": "stream",
     "text": [
      "2017-02-24 17:05:16,231 : INFO : GET http://localhost:9200/_search/scroll?scroll=5m [status:200 request:17.304s]\n"
     ]
    },
    {
     "name": "stdout",
     "output_type": "stream",
     "text": [
      "scroll size: 10000\n"
     ]
    },
    {
     "name": "stderr",
     "output_type": "stream",
     "text": [
      "2017-02-24 17:05:16,553 : INFO : Documents Read: 150000\n"
     ]
    },
    {
     "name": "stdout",
     "output_type": "stream",
     "text": [
      "Scrolling...\n"
     ]
    },
    {
     "name": "stderr",
     "output_type": "stream",
     "text": [
      "2017-02-24 17:05:33,489 : INFO : GET http://localhost:9200/_search/scroll?scroll=5m [status:200 request:16.903s]\n",
      "2017-02-24 17:05:33,799 : INFO : Documents Read: 160000\n"
     ]
    },
    {
     "name": "stdout",
     "output_type": "stream",
     "text": [
      "scroll size: 10000\n",
      "Scrolling...\n"
     ]
    },
    {
     "name": "stderr",
     "output_type": "stream",
     "text": [
      "2017-02-24 17:05:50,701 : INFO : GET http://localhost:9200/_search/scroll?scroll=5m [status:200 request:16.870s]\n",
      "2017-02-24 17:05:50,994 : INFO : Documents Read: 170000\n"
     ]
    },
    {
     "name": "stdout",
     "output_type": "stream",
     "text": [
      "scroll size: 10000\n",
      "Scrolling...\n"
     ]
    },
    {
     "name": "stderr",
     "output_type": "stream",
     "text": [
      "2017-02-24 17:06:08,716 : INFO : GET http://localhost:9200/_search/scroll?scroll=5m [status:200 request:17.693s]\n"
     ]
    },
    {
     "name": "stdout",
     "output_type": "stream",
     "text": [
      "scroll size: 10000\n"
     ]
    },
    {
     "name": "stderr",
     "output_type": "stream",
     "text": [
      "2017-02-24 17:06:09,078 : INFO : Documents Read: 180000\n"
     ]
    },
    {
     "name": "stdout",
     "output_type": "stream",
     "text": [
      "Scrolling...\n"
     ]
    },
    {
     "name": "stderr",
     "output_type": "stream",
     "text": [
      "2017-02-24 17:06:26,634 : INFO : GET http://localhost:9200/_search/scroll?scroll=5m [status:200 request:17.512s]\n"
     ]
    },
    {
     "name": "stdout",
     "output_type": "stream",
     "text": [
      "scroll size: 10000\n"
     ]
    },
    {
     "name": "stderr",
     "output_type": "stream",
     "text": [
      "2017-02-24 17:06:26,945 : INFO : Documents Read: 190000\n"
     ]
    },
    {
     "name": "stdout",
     "output_type": "stream",
     "text": [
      "Scrolling...\n"
     ]
    },
    {
     "name": "stderr",
     "output_type": "stream",
     "text": [
      "2017-02-24 17:06:44,311 : INFO : GET http://localhost:9200/_search/scroll?scroll=5m [status:200 request:17.338s]\n"
     ]
    },
    {
     "name": "stdout",
     "output_type": "stream",
     "text": [
      "scroll size: 10000\n"
     ]
    },
    {
     "name": "stderr",
     "output_type": "stream",
     "text": [
      "2017-02-24 17:06:44,596 : INFO : Documents Read: 200000\n"
     ]
    },
    {
     "name": "stdout",
     "output_type": "stream",
     "text": [
      "Scrolling...\n"
     ]
    },
    {
     "name": "stderr",
     "output_type": "stream",
     "text": [
      "2017-02-24 17:07:01,309 : INFO : GET http://localhost:9200/_search/scroll?scroll=5m [status:200 request:16.681s]\n",
      "2017-02-24 17:07:01,603 : INFO : Documents Read: 210000\n"
     ]
    },
    {
     "name": "stdout",
     "output_type": "stream",
     "text": [
      "scroll size: 10000\n",
      "Scrolling...\n"
     ]
    },
    {
     "name": "stderr",
     "output_type": "stream",
     "text": [
      "2017-02-24 17:07:18,590 : INFO : GET http://localhost:9200/_search/scroll?scroll=5m [status:200 request:16.945s]\n"
     ]
    },
    {
     "name": "stdout",
     "output_type": "stream",
     "text": [
      "scroll size: 10000\n"
     ]
    },
    {
     "name": "stderr",
     "output_type": "stream",
     "text": [
      "2017-02-24 17:07:18,899 : INFO : Documents Read: 220000\n"
     ]
    },
    {
     "name": "stdout",
     "output_type": "stream",
     "text": [
      "Scrolling...\n"
     ]
    },
    {
     "name": "stderr",
     "output_type": "stream",
     "text": [
      "2017-02-24 17:07:36,497 : INFO : GET http://localhost:9200/_search/scroll?scroll=5m [status:200 request:17.567s]\n",
      "2017-02-24 17:07:36,726 : INFO : Documents Read: 230000\n"
     ]
    },
    {
     "name": "stdout",
     "output_type": "stream",
     "text": [
      "scroll size: 10000\n",
      "Scrolling...\n"
     ]
    },
    {
     "name": "stderr",
     "output_type": "stream",
     "text": [
      "2017-02-24 17:07:54,744 : INFO : GET http://localhost:9200/_search/scroll?scroll=5m [status:200 request:17.985s]\n",
      "2017-02-24 17:07:55,106 : INFO : Documents Read: 240000\n"
     ]
    },
    {
     "name": "stdout",
     "output_type": "stream",
     "text": [
      "scroll size: 10000\n",
      "Scrolling...\n"
     ]
    },
    {
     "name": "stderr",
     "output_type": "stream",
     "text": [
      "2017-02-24 17:08:13,358 : INFO : GET http://localhost:9200/_search/scroll?scroll=5m [status:200 request:18.224s]\n",
      "2017-02-24 17:08:13,599 : INFO : Documents Read: 250000\n"
     ]
    },
    {
     "name": "stdout",
     "output_type": "stream",
     "text": [
      "scroll size: 10000\n",
      "Scrolling...\n"
     ]
    },
    {
     "name": "stderr",
     "output_type": "stream",
     "text": [
      "2017-02-24 17:08:30,099 : INFO : GET http://localhost:9200/_search/scroll?scroll=5m [status:200 request:16.460s]\n",
      "2017-02-24 17:08:30,403 : INFO : Documents Read: 260000\n"
     ]
    },
    {
     "name": "stdout",
     "output_type": "stream",
     "text": [
      "scroll size: 10000\n",
      "Scrolling...\n"
     ]
    },
    {
     "name": "stderr",
     "output_type": "stream",
     "text": [
      "2017-02-24 17:08:47,529 : INFO : GET http://localhost:9200/_search/scroll?scroll=5m [status:200 request:17.097s]\n"
     ]
    },
    {
     "name": "stdout",
     "output_type": "stream",
     "text": [
      "scroll size: 10000\n"
     ]
    },
    {
     "name": "stderr",
     "output_type": "stream",
     "text": [
      "2017-02-24 17:08:47,821 : INFO : Documents Read: 270000\n"
     ]
    },
    {
     "name": "stdout",
     "output_type": "stream",
     "text": [
      "Scrolling...\n"
     ]
    },
    {
     "name": "stderr",
     "output_type": "stream",
     "text": [
      "2017-02-24 17:09:05,133 : INFO : GET http://localhost:9200/_search/scroll?scroll=5m [status:200 request:17.277s]\n"
     ]
    },
    {
     "name": "stdout",
     "output_type": "stream",
     "text": [
      "scroll size: 10000\n"
     ]
    },
    {
     "name": "stderr",
     "output_type": "stream",
     "text": [
      "2017-02-24 17:09:05,468 : INFO : Documents Read: 280000\n"
     ]
    },
    {
     "name": "stdout",
     "output_type": "stream",
     "text": [
      "Scrolling...\n"
     ]
    },
    {
     "name": "stderr",
     "output_type": "stream",
     "text": [
      "2017-02-24 17:09:23,099 : INFO : GET http://localhost:9200/_search/scroll?scroll=5m [status:200 request:17.598s]\n",
      "2017-02-24 17:09:23,388 : INFO : Documents Read: 290000\n"
     ]
    },
    {
     "name": "stdout",
     "output_type": "stream",
     "text": [
      "scroll size: 10000\n",
      "Scrolling...\n"
     ]
    },
    {
     "name": "stderr",
     "output_type": "stream",
     "text": [
      "2017-02-24 17:09:42,297 : INFO : GET http://localhost:9200/_search/scroll?scroll=5m [status:200 request:18.860s]\n",
      "2017-02-24 17:09:42,522 : INFO : Documents Read: 300000\n"
     ]
    },
    {
     "name": "stdout",
     "output_type": "stream",
     "text": [
      "scroll size: 10000\n",
      "Scrolling...\n"
     ]
    },
    {
     "name": "stderr",
     "output_type": "stream",
     "text": [
      "2017-02-24 17:10:01,812 : INFO : GET http://localhost:9200/_search/scroll?scroll=5m [status:200 request:19.256s]\n",
      "2017-02-24 17:10:02,097 : INFO : Documents Read: 310000\n"
     ]
    },
    {
     "name": "stdout",
     "output_type": "stream",
     "text": [
      "scroll size: 10000\n",
      "Scrolling...\n"
     ]
    },
    {
     "name": "stderr",
     "output_type": "stream",
     "text": [
      "2017-02-24 17:10:20,605 : INFO : GET http://localhost:9200/_search/scroll?scroll=5m [status:200 request:18.478s]\n",
      "2017-02-24 17:10:20,857 : INFO : Documents Read: 320000\n"
     ]
    },
    {
     "name": "stdout",
     "output_type": "stream",
     "text": [
      "scroll size: 10000\n",
      "Scrolling...\n"
     ]
    },
    {
     "name": "stderr",
     "output_type": "stream",
     "text": [
      "2017-02-24 17:10:39,002 : INFO : GET http://localhost:9200/_search/scroll?scroll=5m [status:200 request:18.112s]\n"
     ]
    },
    {
     "name": "stdout",
     "output_type": "stream",
     "text": [
      "scroll size: 10000\n"
     ]
    },
    {
     "name": "stderr",
     "output_type": "stream",
     "text": [
      "2017-02-24 17:10:39,384 : INFO : Documents Read: 330000\n"
     ]
    },
    {
     "name": "stdout",
     "output_type": "stream",
     "text": [
      "Scrolling...\n"
     ]
    },
    {
     "name": "stderr",
     "output_type": "stream",
     "text": [
      "2017-02-24 17:10:59,200 : INFO : GET http://localhost:9200/_search/scroll?scroll=5m [status:200 request:19.768s]\n"
     ]
    },
    {
     "name": "stdout",
     "output_type": "stream",
     "text": [
      "scroll size: 10000\n"
     ]
    },
    {
     "name": "stderr",
     "output_type": "stream",
     "text": [
      "2017-02-24 17:10:59,568 : INFO : Documents Read: 340000\n"
     ]
    },
    {
     "name": "stdout",
     "output_type": "stream",
     "text": [
      "Scrolling...\n"
     ]
    },
    {
     "name": "stderr",
     "output_type": "stream",
     "text": [
      "2017-02-24 17:11:19,406 : INFO : GET http://localhost:9200/_search/scroll?scroll=5m [status:200 request:19.804s]\n"
     ]
    },
    {
     "name": "stdout",
     "output_type": "stream",
     "text": [
      "scroll size: 10000\n"
     ]
    },
    {
     "name": "stderr",
     "output_type": "stream",
     "text": [
      "2017-02-24 17:11:19,710 : INFO : Documents Read: 350000\n"
     ]
    },
    {
     "name": "stdout",
     "output_type": "stream",
     "text": [
      "Scrolling...\n"
     ]
    },
    {
     "name": "stderr",
     "output_type": "stream",
     "text": [
      "2017-02-24 17:11:39,218 : INFO : GET http://localhost:9200/_search/scroll?scroll=5m [status:200 request:19.479s]\n"
     ]
    },
    {
     "name": "stdout",
     "output_type": "stream",
     "text": [
      "scroll size: 10000\n"
     ]
    },
    {
     "name": "stderr",
     "output_type": "stream",
     "text": [
      "2017-02-24 17:11:39,562 : INFO : Documents Read: 360000\n"
     ]
    },
    {
     "name": "stdout",
     "output_type": "stream",
     "text": [
      "Scrolling...\n"
     ]
    },
    {
     "name": "stderr",
     "output_type": "stream",
     "text": [
      "2017-02-24 17:11:58,570 : INFO : GET http://localhost:9200/_search/scroll?scroll=5m [status:200 request:18.977s]\n"
     ]
    },
    {
     "name": "stdout",
     "output_type": "stream",
     "text": [
      "scroll size: 10000\n"
     ]
    },
    {
     "name": "stderr",
     "output_type": "stream",
     "text": [
      "2017-02-24 17:11:58,853 : INFO : Documents Read: 370000\n"
     ]
    },
    {
     "name": "stdout",
     "output_type": "stream",
     "text": [
      "Scrolling...\n"
     ]
    },
    {
     "name": "stderr",
     "output_type": "stream",
     "text": [
      "2017-02-24 17:12:18,407 : INFO : GET http://localhost:9200/_search/scroll?scroll=5m [status:200 request:19.521s]\n"
     ]
    },
    {
     "name": "stdout",
     "output_type": "stream",
     "text": [
      "scroll size: 10000\n"
     ]
    },
    {
     "name": "stderr",
     "output_type": "stream",
     "text": [
      "2017-02-24 17:12:18,801 : INFO : Documents Read: 380000\n"
     ]
    },
    {
     "name": "stdout",
     "output_type": "stream",
     "text": [
      "Scrolling...\n"
     ]
    },
    {
     "name": "stderr",
     "output_type": "stream",
     "text": [
      "2017-02-24 17:12:38,818 : INFO : GET http://localhost:9200/_search/scroll?scroll=5m [status:200 request:19.965s]\n",
      "2017-02-24 17:12:39,035 : INFO : Documents Read: 390000\n"
     ]
    },
    {
     "name": "stdout",
     "output_type": "stream",
     "text": [
      "scroll size: 10000\n",
      "Scrolling...\n"
     ]
    },
    {
     "name": "stderr",
     "output_type": "stream",
     "text": [
      "2017-02-24 17:12:58,739 : INFO : GET http://localhost:9200/_search/scroll?scroll=5m [status:200 request:19.665s]\n"
     ]
    },
    {
     "name": "stdout",
     "output_type": "stream",
     "text": [
      "scroll size: 10000\n"
     ]
    },
    {
     "name": "stderr",
     "output_type": "stream",
     "text": [
      "2017-02-24 17:12:59,149 : INFO : Documents Read: 400000\n"
     ]
    },
    {
     "name": "stdout",
     "output_type": "stream",
     "text": [
      "Scrolling...\n"
     ]
    },
    {
     "name": "stderr",
     "output_type": "stream",
     "text": [
      "2017-02-24 17:13:18,177 : INFO : GET http://localhost:9200/_search/scroll?scroll=5m [status:200 request:18.996s]\n"
     ]
    },
    {
     "name": "stdout",
     "output_type": "stream",
     "text": [
      "scroll size: 10000\n"
     ]
    },
    {
     "name": "stderr",
     "output_type": "stream",
     "text": [
      "2017-02-24 17:13:18,507 : INFO : Documents Read: 410000\n"
     ]
    },
    {
     "name": "stdout",
     "output_type": "stream",
     "text": [
      "Scrolling...\n"
     ]
    },
    {
     "name": "stderr",
     "output_type": "stream",
     "text": [
      "2017-02-24 17:13:37,663 : INFO : GET http://localhost:9200/_search/scroll?scroll=5m [status:200 request:19.120s]\n"
     ]
    },
    {
     "name": "stdout",
     "output_type": "stream",
     "text": [
      "scroll size: 10000\n"
     ]
    },
    {
     "name": "stderr",
     "output_type": "stream",
     "text": [
      "2017-02-24 17:13:37,990 : INFO : Documents Read: 420000\n"
     ]
    },
    {
     "name": "stdout",
     "output_type": "stream",
     "text": [
      "Scrolling...\n"
     ]
    },
    {
     "name": "stderr",
     "output_type": "stream",
     "text": [
      "2017-02-24 17:13:56,863 : INFO : GET http://localhost:9200/_search/scroll?scroll=5m [status:200 request:18.841s]\n",
      "2017-02-24 17:13:57,142 : INFO : Documents Read: 430000\n"
     ]
    },
    {
     "name": "stdout",
     "output_type": "stream",
     "text": [
      "scroll size: 10000\n",
      "Scrolling...\n"
     ]
    },
    {
     "name": "stderr",
     "output_type": "stream",
     "text": [
      "2017-02-24 17:14:15,175 : INFO : GET http://localhost:9200/_search/scroll?scroll=5m [status:200 request:17.987s]\n"
     ]
    },
    {
     "name": "stdout",
     "output_type": "stream",
     "text": [
      "scroll size: 10000\n"
     ]
    },
    {
     "name": "stderr",
     "output_type": "stream",
     "text": [
      "2017-02-24 17:14:15,528 : INFO : Documents Read: 440000\n"
     ]
    },
    {
     "name": "stdout",
     "output_type": "stream",
     "text": [
      "Scrolling...\n"
     ]
    },
    {
     "name": "stderr",
     "output_type": "stream",
     "text": [
      "2017-02-24 17:14:33,370 : INFO : GET http://localhost:9200/_search/scroll?scroll=5m [status:200 request:17.808s]\n",
      "2017-02-24 17:14:33,627 : INFO : Documents Read: 450000\n"
     ]
    },
    {
     "name": "stdout",
     "output_type": "stream",
     "text": [
      "scroll size: 10000\n",
      "Scrolling...\n"
     ]
    },
    {
     "name": "stderr",
     "output_type": "stream",
     "text": [
      "2017-02-24 17:14:52,572 : INFO : GET http://localhost:9200/_search/scroll?scroll=5m [status:200 request:18.914s]\n"
     ]
    },
    {
     "name": "stdout",
     "output_type": "stream",
     "text": [
      "scroll size: 10000\n"
     ]
    },
    {
     "name": "stderr",
     "output_type": "stream",
     "text": [
      "2017-02-24 17:14:52,902 : INFO : Documents Read: 460000\n"
     ]
    },
    {
     "name": "stdout",
     "output_type": "stream",
     "text": [
      "Scrolling...\n"
     ]
    },
    {
     "name": "stderr",
     "output_type": "stream",
     "text": [
      "2017-02-24 17:15:11,501 : INFO : GET http://localhost:9200/_search/scroll?scroll=5m [status:200 request:18.550s]\n"
     ]
    },
    {
     "name": "stdout",
     "output_type": "stream",
     "text": [
      "scroll size: 10000\n"
     ]
    },
    {
     "name": "stderr",
     "output_type": "stream",
     "text": [
      "2017-02-24 17:15:11,908 : INFO : Documents Read: 470000\n"
     ]
    },
    {
     "name": "stdout",
     "output_type": "stream",
     "text": [
      "Scrolling...\n"
     ]
    },
    {
     "name": "stderr",
     "output_type": "stream",
     "text": [
      "2017-02-24 17:15:30,203 : INFO : GET http://localhost:9200/_search/scroll?scroll=5m [status:200 request:18.261s]\n"
     ]
    },
    {
     "name": "stdout",
     "output_type": "stream",
     "text": [
      "scroll size: 10000\n"
     ]
    },
    {
     "name": "stderr",
     "output_type": "stream",
     "text": [
      "2017-02-24 17:15:30,525 : INFO : Documents Read: 480000\n"
     ]
    },
    {
     "name": "stdout",
     "output_type": "stream",
     "text": [
      "Scrolling...\n"
     ]
    },
    {
     "name": "stderr",
     "output_type": "stream",
     "text": [
      "2017-02-24 17:15:49,957 : INFO : GET http://localhost:9200/_search/scroll?scroll=5m [status:200 request:19.383s]\n",
      "2017-02-24 17:15:50,229 : INFO : Documents Read: 490000\n"
     ]
    },
    {
     "name": "stdout",
     "output_type": "stream",
     "text": [
      "scroll size: 10000\n",
      "Scrolling...\n"
     ]
    },
    {
     "name": "stderr",
     "output_type": "stream",
     "text": [
      "2017-02-24 17:16:08,576 : INFO : GET http://localhost:9200/_search/scroll?scroll=5m [status:200 request:18.314s]\n"
     ]
    },
    {
     "name": "stdout",
     "output_type": "stream",
     "text": [
      "scroll size: 10000\n"
     ]
    },
    {
     "name": "stderr",
     "output_type": "stream",
     "text": [
      "2017-02-24 17:16:08,927 : INFO : Documents Read: 500000\n"
     ]
    },
    {
     "name": "stdout",
     "output_type": "stream",
     "text": [
      "Scrolling...\n"
     ]
    },
    {
     "name": "stderr",
     "output_type": "stream",
     "text": [
      "2017-02-24 17:16:27,742 : INFO : GET http://localhost:9200/_search/scroll?scroll=5m [status:200 request:18.780s]\n",
      "2017-02-24 17:16:27,953 : INFO : Documents Read: 510000\n"
     ]
    },
    {
     "name": "stdout",
     "output_type": "stream",
     "text": [
      "scroll size: 10000\n",
      "Scrolling...\n"
     ]
    },
    {
     "name": "stderr",
     "output_type": "stream",
     "text": [
      "2017-02-24 17:16:46,086 : INFO : GET http://localhost:9200/_search/scroll?scroll=5m [status:200 request:18.094s]\n",
      "2017-02-24 17:16:46,332 : INFO : Documents Read: 520000\n"
     ]
    },
    {
     "name": "stdout",
     "output_type": "stream",
     "text": [
      "scroll size: 10000\n",
      "Scrolling...\n"
     ]
    },
    {
     "name": "stderr",
     "output_type": "stream",
     "text": [
      "2017-02-24 17:17:04,660 : INFO : GET http://localhost:9200/_search/scroll?scroll=5m [status:200 request:18.299s]\n",
      "2017-02-24 17:17:04,877 : INFO : Documents Read: 530000\n"
     ]
    },
    {
     "name": "stdout",
     "output_type": "stream",
     "text": [
      "scroll size: 10000\n",
      "Scrolling...\n"
     ]
    },
    {
     "name": "stderr",
     "output_type": "stream",
     "text": [
      "2017-02-24 17:17:23,682 : INFO : GET http://localhost:9200/_search/scroll?scroll=5m [status:200 request:18.774s]\n",
      "2017-02-24 17:17:23,908 : INFO : Documents Read: 540000\n"
     ]
    },
    {
     "name": "stdout",
     "output_type": "stream",
     "text": [
      "scroll size: 10000\n",
      "Scrolling...\n"
     ]
    },
    {
     "name": "stderr",
     "output_type": "stream",
     "text": [
      "2017-02-24 17:17:41,772 : INFO : GET http://localhost:9200/_search/scroll?scroll=5m [status:200 request:17.826s]\n",
      "2017-02-24 17:17:41,985 : INFO : Documents Read: 550000\n"
     ]
    },
    {
     "name": "stdout",
     "output_type": "stream",
     "text": [
      "scroll size: 10000\n",
      "Scrolling...\n"
     ]
    },
    {
     "name": "stderr",
     "output_type": "stream",
     "text": [
      "2017-02-24 17:18:01,176 : INFO : GET http://localhost:9200/_search/scroll?scroll=5m [status:200 request:19.161s]\n",
      "2017-02-24 17:18:01,387 : INFO : Documents Read: 560000\n"
     ]
    },
    {
     "name": "stdout",
     "output_type": "stream",
     "text": [
      "scroll size: 10000\n",
      "Scrolling...\n"
     ]
    },
    {
     "name": "stderr",
     "output_type": "stream",
     "text": [
      "2017-02-24 17:18:19,326 : INFO : GET http://localhost:9200/_search/scroll?scroll=5m [status:200 request:17.902s]\n",
      "2017-02-24 17:18:19,589 : INFO : Documents Read: 570000\n"
     ]
    },
    {
     "name": "stdout",
     "output_type": "stream",
     "text": [
      "scroll size: 10000\n",
      "Scrolling...\n"
     ]
    },
    {
     "name": "stderr",
     "output_type": "stream",
     "text": [
      "2017-02-24 17:18:37,795 : INFO : GET http://localhost:9200/_search/scroll?scroll=5m [status:200 request:18.169s]\n",
      "2017-02-24 17:18:37,998 : INFO : Documents Read: 580000\n"
     ]
    },
    {
     "name": "stdout",
     "output_type": "stream",
     "text": [
      "scroll size: 10000\n",
      "Scrolling...\n"
     ]
    },
    {
     "name": "stderr",
     "output_type": "stream",
     "text": [
      "2017-02-24 17:18:57,064 : INFO : GET http://localhost:9200/_search/scroll?scroll=5m [status:200 request:19.029s]\n",
      "2017-02-24 17:18:57,303 : INFO : Documents Read: 590000\n"
     ]
    },
    {
     "name": "stdout",
     "output_type": "stream",
     "text": [
      "scroll size: 10000\n",
      "Scrolling...\n"
     ]
    },
    {
     "name": "stderr",
     "output_type": "stream",
     "text": [
      "2017-02-24 17:19:15,674 : INFO : GET http://localhost:9200/_search/scroll?scroll=5m [status:200 request:18.339s]\n",
      "2017-02-24 17:19:15,884 : INFO : Documents Read: 600000\n"
     ]
    },
    {
     "name": "stdout",
     "output_type": "stream",
     "text": [
      "scroll size: 10000\n",
      "Scrolling...\n"
     ]
    },
    {
     "name": "stderr",
     "output_type": "stream",
     "text": [
      "2017-02-24 17:19:32,429 : INFO : GET http://localhost:9200/_search/scroll?scroll=5m [status:200 request:16.514s]\n",
      "2017-02-24 17:19:32,661 : INFO : Documents Read: 610000\n"
     ]
    },
    {
     "name": "stdout",
     "output_type": "stream",
     "text": [
      "scroll size: 10000\n",
      "Scrolling...\n"
     ]
    },
    {
     "name": "stderr",
     "output_type": "stream",
     "text": [
      "2017-02-24 17:19:51,750 : INFO : GET http://localhost:9200/_search/scroll?scroll=5m [status:200 request:19.060s]\n",
      "2017-02-24 17:19:51,966 : INFO : Documents Read: 620000\n"
     ]
    },
    {
     "name": "stdout",
     "output_type": "stream",
     "text": [
      "scroll size: 10000\n",
      "Scrolling...\n"
     ]
    },
    {
     "name": "stderr",
     "output_type": "stream",
     "text": [
      "2017-02-24 17:20:10,544 : INFO : GET http://localhost:9200/_search/scroll?scroll=5m [status:200 request:18.540s]\n",
      "2017-02-24 17:20:10,744 : INFO : Documents Read: 630000\n"
     ]
    },
    {
     "name": "stdout",
     "output_type": "stream",
     "text": [
      "scroll size: 10000\n",
      "Scrolling...\n"
     ]
    },
    {
     "name": "stderr",
     "output_type": "stream",
     "text": [
      "2017-02-24 17:20:29,735 : INFO : GET http://localhost:9200/_search/scroll?scroll=5m [status:200 request:18.962s]\n",
      "2017-02-24 17:20:29,971 : INFO : Documents Read: 640000\n"
     ]
    },
    {
     "name": "stdout",
     "output_type": "stream",
     "text": [
      "scroll size: 10000\n",
      "Scrolling...\n"
     ]
    },
    {
     "name": "stderr",
     "output_type": "stream",
     "text": [
      "2017-02-24 17:20:49,488 : INFO : GET http://localhost:9200/_search/scroll?scroll=5m [status:200 request:19.488s]\n",
      "2017-02-24 17:20:49,737 : INFO : Documents Read: 650000\n"
     ]
    },
    {
     "name": "stdout",
     "output_type": "stream",
     "text": [
      "scroll size: 10000\n",
      "Scrolling...\n"
     ]
    },
    {
     "name": "stderr",
     "output_type": "stream",
     "text": [
      "2017-02-24 17:21:10,932 : INFO : GET http://localhost:9200/_search/scroll?scroll=5m [status:200 request:21.167s]\n",
      "2017-02-24 17:21:11,173 : INFO : Documents Read: 660000\n"
     ]
    },
    {
     "name": "stdout",
     "output_type": "stream",
     "text": [
      "scroll size: 10000\n",
      "Scrolling...\n"
     ]
    },
    {
     "name": "stderr",
     "output_type": "stream",
     "text": [
      "2017-02-24 17:21:32,932 : INFO : GET http://localhost:9200/_search/scroll?scroll=5m [status:200 request:21.726s]\n",
      "2017-02-24 17:21:33,175 : INFO : Documents Read: 670000\n"
     ]
    },
    {
     "name": "stdout",
     "output_type": "stream",
     "text": [
      "scroll size: 10000\n",
      "Scrolling...\n"
     ]
    },
    {
     "name": "stderr",
     "output_type": "stream",
     "text": [
      "2017-02-24 17:21:54,431 : INFO : GET http://localhost:9200/_search/scroll?scroll=5m [status:200 request:21.217s]\n",
      "2017-02-24 17:21:54,695 : INFO : Documents Read: 680000\n"
     ]
    },
    {
     "name": "stdout",
     "output_type": "stream",
     "text": [
      "scroll size: 10000\n",
      "Scrolling...\n"
     ]
    },
    {
     "name": "stderr",
     "output_type": "stream",
     "text": [
      "2017-02-24 17:22:18,180 : INFO : GET http://localhost:9200/_search/scroll?scroll=5m [status:200 request:23.454s]\n",
      "2017-02-24 17:22:18,371 : INFO : Documents Read: 690000\n"
     ]
    },
    {
     "name": "stdout",
     "output_type": "stream",
     "text": [
      "scroll size: 10000\n",
      "Scrolling...\n"
     ]
    },
    {
     "name": "stderr",
     "output_type": "stream",
     "text": [
      "2017-02-24 17:22:39,664 : INFO : GET http://localhost:9200/_search/scroll?scroll=5m [status:200 request:21.264s]\n",
      "2017-02-24 17:22:39,878 : INFO : Documents Read: 700000\n"
     ]
    },
    {
     "name": "stdout",
     "output_type": "stream",
     "text": [
      "scroll size: 10000\n",
      "Scrolling...\n"
     ]
    },
    {
     "name": "stderr",
     "output_type": "stream",
     "text": [
      "2017-02-24 17:23:01,914 : INFO : GET http://localhost:9200/_search/scroll?scroll=5m [status:200 request:21.996s]\n",
      "2017-02-24 17:23:02,132 : INFO : Documents Read: 710000\n"
     ]
    },
    {
     "name": "stdout",
     "output_type": "stream",
     "text": [
      "scroll size: 10000\n",
      "Scrolling...\n"
     ]
    },
    {
     "name": "stderr",
     "output_type": "stream",
     "text": [
      "2017-02-24 17:23:24,293 : INFO : GET http://localhost:9200/_search/scroll?scroll=5m [status:200 request:22.133s]\n",
      "2017-02-24 17:23:24,494 : INFO : Documents Read: 720000\n"
     ]
    },
    {
     "name": "stdout",
     "output_type": "stream",
     "text": [
      "scroll size: 10000\n",
      "Scrolling...\n"
     ]
    },
    {
     "name": "stderr",
     "output_type": "stream",
     "text": [
      "2017-02-24 17:23:46,474 : INFO : GET http://localhost:9200/_search/scroll?scroll=5m [status:200 request:21.947s]\n",
      "2017-02-24 17:23:46,702 : INFO : Documents Read: 730000\n"
     ]
    },
    {
     "name": "stdout",
     "output_type": "stream",
     "text": [
      "scroll size: 10000\n",
      "Scrolling...\n"
     ]
    },
    {
     "name": "stderr",
     "output_type": "stream",
     "text": [
      "2017-02-24 17:24:06,276 : INFO : GET http://localhost:9200/_search/scroll?scroll=5m [status:200 request:19.544s]\n",
      "2017-02-24 17:24:06,504 : INFO : Documents Read: 740000\n"
     ]
    },
    {
     "name": "stdout",
     "output_type": "stream",
     "text": [
      "scroll size: 10000\n",
      "Scrolling...\n"
     ]
    },
    {
     "name": "stderr",
     "output_type": "stream",
     "text": [
      "2017-02-24 17:24:24,757 : INFO : GET http://localhost:9200/_search/scroll?scroll=5m [status:200 request:18.224s]\n",
      "2017-02-24 17:24:25,033 : INFO : Documents Read: 750000\n"
     ]
    },
    {
     "name": "stdout",
     "output_type": "stream",
     "text": [
      "scroll size: 10000\n",
      "Scrolling...\n"
     ]
    },
    {
     "name": "stderr",
     "output_type": "stream",
     "text": [
      "2017-02-24 17:24:43,715 : INFO : GET http://localhost:9200/_search/scroll?scroll=5m [status:200 request:18.645s]\n",
      "2017-02-24 17:24:43,913 : INFO : Documents Read: 760000\n"
     ]
    },
    {
     "name": "stdout",
     "output_type": "stream",
     "text": [
      "scroll size: 10000\n",
      "Scrolling...\n"
     ]
    },
    {
     "name": "stderr",
     "output_type": "stream",
     "text": [
      "2017-02-24 17:25:02,762 : INFO : GET http://localhost:9200/_search/scroll?scroll=5m [status:200 request:18.810s]\n",
      "2017-02-24 17:25:02,961 : INFO : Documents Read: 770000\n"
     ]
    },
    {
     "name": "stdout",
     "output_type": "stream",
     "text": [
      "scroll size: 10000\n",
      "Scrolling...\n"
     ]
    },
    {
     "name": "stderr",
     "output_type": "stream",
     "text": [
      "2017-02-24 17:25:23,020 : INFO : GET http://localhost:9200/_search/scroll?scroll=5m [status:200 request:20.031s]\n",
      "2017-02-24 17:25:23,251 : INFO : Documents Read: 780000\n"
     ]
    },
    {
     "name": "stdout",
     "output_type": "stream",
     "text": [
      "scroll size: 10000\n",
      "Scrolling...\n"
     ]
    },
    {
     "name": "stderr",
     "output_type": "stream",
     "text": [
      "2017-02-24 17:25:42,230 : INFO : GET http://localhost:9200/_search/scroll?scroll=5m [status:200 request:18.949s]\n",
      "2017-02-24 17:25:42,456 : INFO : Documents Read: 790000\n"
     ]
    },
    {
     "name": "stdout",
     "output_type": "stream",
     "text": [
      "scroll size: 10000\n",
      "Scrolling...\n"
     ]
    },
    {
     "name": "stderr",
     "output_type": "stream",
     "text": [
      "2017-02-24 17:26:02,605 : INFO : GET http://localhost:9200/_search/scroll?scroll=5m [status:200 request:20.121s]\n",
      "2017-02-24 17:26:02,856 : INFO : Documents Read: 800000\n"
     ]
    },
    {
     "name": "stdout",
     "output_type": "stream",
     "text": [
      "scroll size: 10000\n",
      "Scrolling...\n"
     ]
    },
    {
     "name": "stderr",
     "output_type": "stream",
     "text": [
      "2017-02-24 17:26:22,439 : INFO : GET http://localhost:9200/_search/scroll?scroll=5m [status:200 request:19.548s]\n",
      "2017-02-24 17:26:22,659 : INFO : Documents Read: 810000\n"
     ]
    },
    {
     "name": "stdout",
     "output_type": "stream",
     "text": [
      "scroll size: 10000\n",
      "Scrolling...\n"
     ]
    },
    {
     "name": "stderr",
     "output_type": "stream",
     "text": [
      "2017-02-24 17:26:42,523 : INFO : GET http://localhost:9200/_search/scroll?scroll=5m [status:200 request:19.827s]\n",
      "2017-02-24 17:26:42,759 : INFO : Documents Read: 820000\n"
     ]
    },
    {
     "name": "stdout",
     "output_type": "stream",
     "text": [
      "scroll size: 10000\n",
      "Scrolling...\n"
     ]
    },
    {
     "name": "stderr",
     "output_type": "stream",
     "text": [
      "2017-02-24 17:27:01,526 : INFO : GET http://localhost:9200/_search/scroll?scroll=5m [status:200 request:18.733s]\n",
      "2017-02-24 17:27:01,734 : INFO : Documents Read: 830000\n"
     ]
    },
    {
     "name": "stdout",
     "output_type": "stream",
     "text": [
      "scroll size: 10000\n",
      "Scrolling...\n"
     ]
    },
    {
     "name": "stderr",
     "output_type": "stream",
     "text": [
      "2017-02-24 17:27:21,841 : INFO : GET http://localhost:9200/_search/scroll?scroll=5m [status:200 request:20.069s]\n",
      "2017-02-24 17:27:22,058 : INFO : Documents Read: 840000\n"
     ]
    },
    {
     "name": "stdout",
     "output_type": "stream",
     "text": [
      "scroll size: 10000\n",
      "Scrolling...\n"
     ]
    },
    {
     "name": "stderr",
     "output_type": "stream",
     "text": [
      "2017-02-24 17:27:41,658 : INFO : GET http://localhost:9200/_search/scroll?scroll=5m [status:200 request:19.564s]\n",
      "2017-02-24 17:27:41,885 : INFO : Documents Read: 850000\n"
     ]
    },
    {
     "name": "stdout",
     "output_type": "stream",
     "text": [
      "scroll size: 10000\n",
      "Scrolling...\n"
     ]
    },
    {
     "name": "stderr",
     "output_type": "stream",
     "text": [
      "2017-02-24 17:28:00,833 : INFO : GET http://localhost:9200/_search/scroll?scroll=5m [status:200 request:18.917s]\n",
      "2017-02-24 17:28:01,037 : INFO : Documents Read: 860000\n"
     ]
    },
    {
     "name": "stdout",
     "output_type": "stream",
     "text": [
      "scroll size: 10000\n",
      "Scrolling...\n"
     ]
    },
    {
     "name": "stderr",
     "output_type": "stream",
     "text": [
      "2017-02-24 17:28:20,993 : INFO : GET http://localhost:9200/_search/scroll?scroll=5m [status:200 request:19.927s]\n",
      "2017-02-24 17:28:21,271 : INFO : Documents Read: 870000\n"
     ]
    },
    {
     "name": "stdout",
     "output_type": "stream",
     "text": [
      "scroll size: 10000\n",
      "Scrolling...\n"
     ]
    },
    {
     "name": "stderr",
     "output_type": "stream",
     "text": [
      "2017-02-24 17:28:41,107 : INFO : GET http://localhost:9200/_search/scroll?scroll=5m [status:200 request:19.804s]\n",
      "2017-02-24 17:28:41,369 : INFO : Documents Read: 880000\n"
     ]
    },
    {
     "name": "stdout",
     "output_type": "stream",
     "text": [
      "scroll size: 10000\n",
      "Scrolling...\n"
     ]
    },
    {
     "name": "stderr",
     "output_type": "stream",
     "text": [
      "2017-02-24 17:29:00,297 : INFO : GET http://localhost:9200/_search/scroll?scroll=5m [status:200 request:18.899s]\n",
      "2017-02-24 17:29:00,577 : INFO : Documents Read: 890000\n"
     ]
    },
    {
     "name": "stdout",
     "output_type": "stream",
     "text": [
      "scroll size: 10000\n",
      "Scrolling...\n"
     ]
    },
    {
     "name": "stderr",
     "output_type": "stream",
     "text": [
      "2017-02-24 17:29:19,561 : INFO : GET http://localhost:9200/_search/scroll?scroll=5m [status:200 request:18.954s]\n",
      "2017-02-24 17:29:19,767 : INFO : Documents Read: 900000\n"
     ]
    },
    {
     "name": "stdout",
     "output_type": "stream",
     "text": [
      "scroll size: 10000\n",
      "Scrolling...\n"
     ]
    },
    {
     "name": "stderr",
     "output_type": "stream",
     "text": [
      "2017-02-24 17:29:39,109 : INFO : GET http://localhost:9200/_search/scroll?scroll=5m [status:200 request:19.303s]\n",
      "2017-02-24 17:29:39,330 : INFO : Documents Read: 910000\n"
     ]
    },
    {
     "name": "stdout",
     "output_type": "stream",
     "text": [
      "scroll size: 10000\n",
      "Scrolling...\n"
     ]
    },
    {
     "name": "stderr",
     "output_type": "stream",
     "text": [
      "2017-02-24 17:29:57,561 : INFO : GET http://localhost:9200/_search/scroll?scroll=5m [status:200 request:18.194s]\n",
      "2017-02-24 17:29:57,785 : INFO : Documents Read: 920000\n"
     ]
    },
    {
     "name": "stdout",
     "output_type": "stream",
     "text": [
      "scroll size: 10000\n",
      "Scrolling...\n"
     ]
    },
    {
     "name": "stderr",
     "output_type": "stream",
     "text": [
      "2017-02-24 17:30:16,240 : INFO : GET http://localhost:9200/_search/scroll?scroll=5m [status:200 request:18.425s]\n",
      "2017-02-24 17:30:16,470 : INFO : Documents Read: 930000\n"
     ]
    },
    {
     "name": "stdout",
     "output_type": "stream",
     "text": [
      "scroll size: 10000\n",
      "Scrolling...\n"
     ]
    },
    {
     "name": "stderr",
     "output_type": "stream",
     "text": [
      "2017-02-24 17:30:34,404 : INFO : GET http://localhost:9200/_search/scroll?scroll=5m [status:200 request:17.898s]\n",
      "2017-02-24 17:30:34,637 : INFO : Documents Read: 940000\n"
     ]
    },
    {
     "name": "stdout",
     "output_type": "stream",
     "text": [
      "scroll size: 10000\n",
      "Scrolling...\n"
     ]
    },
    {
     "name": "stderr",
     "output_type": "stream",
     "text": [
      "2017-02-24 17:30:52,325 : INFO : GET http://localhost:9200/_search/scroll?scroll=5m [status:200 request:17.658s]\n",
      "2017-02-24 17:30:52,539 : INFO : Documents Read: 950000\n"
     ]
    },
    {
     "name": "stdout",
     "output_type": "stream",
     "text": [
      "scroll size: 10000\n",
      "Scrolling...\n"
     ]
    },
    {
     "name": "stderr",
     "output_type": "stream",
     "text": [
      "2017-02-24 17:31:08,510 : INFO : GET http://localhost:9200/_search/scroll?scroll=5m [status:200 request:15.934s]\n",
      "2017-02-24 17:31:08,762 : INFO : Documents Read: 960000\n"
     ]
    },
    {
     "name": "stdout",
     "output_type": "stream",
     "text": [
      "scroll size: 10000\n",
      "Scrolling...\n"
     ]
    },
    {
     "name": "stderr",
     "output_type": "stream",
     "text": [
      "2017-02-24 17:31:25,735 : INFO : GET http://localhost:9200/_search/scroll?scroll=5m [status:200 request:16.936s]\n",
      "2017-02-24 17:31:25,946 : INFO : Documents Read: 970000\n"
     ]
    },
    {
     "name": "stdout",
     "output_type": "stream",
     "text": [
      "scroll size: 10000\n",
      "Scrolling...\n"
     ]
    },
    {
     "name": "stderr",
     "output_type": "stream",
     "text": [
      "2017-02-24 17:31:44,029 : INFO : GET http://localhost:9200/_search/scroll?scroll=5m [status:200 request:18.055s]\n",
      "2017-02-24 17:31:44,252 : INFO : Documents Read: 980000\n"
     ]
    },
    {
     "name": "stdout",
     "output_type": "stream",
     "text": [
      "scroll size: 10000\n",
      "Scrolling...\n"
     ]
    },
    {
     "name": "stderr",
     "output_type": "stream",
     "text": [
      "2017-02-24 17:32:03,084 : INFO : GET http://localhost:9200/_search/scroll?scroll=5m [status:200 request:18.797s]\n",
      "2017-02-24 17:32:03,310 : INFO : Documents Read: 990000\n"
     ]
    },
    {
     "name": "stdout",
     "output_type": "stream",
     "text": [
      "scroll size: 10000\n",
      "Scrolling...\n"
     ]
    },
    {
     "name": "stderr",
     "output_type": "stream",
     "text": [
      "2017-02-24 17:32:20,027 : INFO : GET http://localhost:9200/_search/scroll?scroll=5m [status:200 request:16.688s]\n",
      "2017-02-24 17:32:20,242 : INFO : Documents Read: 1000000\n"
     ]
    },
    {
     "name": "stdout",
     "output_type": "stream",
     "text": [
      "scroll size: 10000\n",
      "Scrolling...\n"
     ]
    },
    {
     "name": "stderr",
     "output_type": "stream",
     "text": [
      "2017-02-24 17:32:38,180 : INFO : GET http://localhost:9200/_search/scroll?scroll=5m [status:200 request:17.908s]\n",
      "2017-02-24 17:32:38,408 : INFO : Documents Read: 1010000\n"
     ]
    },
    {
     "name": "stdout",
     "output_type": "stream",
     "text": [
      "scroll size: 10000\n",
      "Scrolling...\n"
     ]
    },
    {
     "name": "stderr",
     "output_type": "stream",
     "text": [
      "2017-02-24 17:32:56,959 : INFO : GET http://localhost:9200/_search/scroll?scroll=5m [status:200 request:18.512s]\n",
      "2017-02-24 17:32:57,175 : INFO : Documents Read: 1020000\n"
     ]
    },
    {
     "name": "stdout",
     "output_type": "stream",
     "text": [
      "scroll size: 10000\n",
      "Scrolling...\n"
     ]
    },
    {
     "name": "stderr",
     "output_type": "stream",
     "text": [
      "2017-02-24 17:33:14,888 : INFO : GET http://localhost:9200/_search/scroll?scroll=5m [status:200 request:17.684s]\n",
      "2017-02-24 17:33:15,122 : INFO : Documents Read: 1030000\n"
     ]
    },
    {
     "name": "stdout",
     "output_type": "stream",
     "text": [
      "scroll size: 10000\n",
      "Scrolling...\n"
     ]
    },
    {
     "name": "stderr",
     "output_type": "stream",
     "text": [
      "2017-02-24 17:33:34,982 : INFO : GET http://localhost:9200/_search/scroll?scroll=5m [status:200 request:19.819s]\n",
      "2017-02-24 17:33:35,196 : INFO : Documents Read: 1040000\n"
     ]
    },
    {
     "name": "stdout",
     "output_type": "stream",
     "text": [
      "scroll size: 10000\n",
      "Scrolling...\n"
     ]
    },
    {
     "name": "stderr",
     "output_type": "stream",
     "text": [
      "2017-02-24 17:33:52,035 : INFO : GET http://localhost:9200/_search/scroll?scroll=5m [status:200 request:16.803s]\n",
      "2017-02-24 17:33:52,237 : INFO : Documents Read: 1050000\n"
     ]
    },
    {
     "name": "stdout",
     "output_type": "stream",
     "text": [
      "scroll size: 10000\n",
      "Scrolling...\n"
     ]
    },
    {
     "name": "stderr",
     "output_type": "stream",
     "text": [
      "2017-02-24 17:34:08,853 : INFO : GET http://localhost:9200/_search/scroll?scroll=5m [status:200 request:16.585s]\n",
      "2017-02-24 17:34:09,092 : INFO : Documents Read: 1060000\n"
     ]
    },
    {
     "name": "stdout",
     "output_type": "stream",
     "text": [
      "scroll size: 10000\n",
      "Scrolling...\n"
     ]
    },
    {
     "name": "stderr",
     "output_type": "stream",
     "text": [
      "2017-02-24 17:34:26,907 : INFO : GET http://localhost:9200/_search/scroll?scroll=5m [status:200 request:17.779s]\n",
      "2017-02-24 17:34:27,120 : INFO : Documents Read: 1070000\n"
     ]
    },
    {
     "name": "stdout",
     "output_type": "stream",
     "text": [
      "scroll size: 10000\n",
      "Scrolling...\n"
     ]
    },
    {
     "name": "stderr",
     "output_type": "stream",
     "text": [
      "2017-02-24 17:34:44,491 : INFO : GET http://localhost:9200/_search/scroll?scroll=5m [status:200 request:17.335s]\n",
      "2017-02-24 17:34:44,738 : INFO : Documents Read: 1080000\n"
     ]
    },
    {
     "name": "stdout",
     "output_type": "stream",
     "text": [
      "scroll size: 10000\n",
      "Scrolling...\n"
     ]
    },
    {
     "name": "stderr",
     "output_type": "stream",
     "text": [
      "2017-02-24 17:35:02,702 : INFO : GET http://localhost:9200/_search/scroll?scroll=5m [status:200 request:17.934s]\n",
      "2017-02-24 17:35:02,892 : INFO : Documents Read: 1090000\n"
     ]
    },
    {
     "name": "stdout",
     "output_type": "stream",
     "text": [
      "scroll size: 10000\n",
      "Scrolling...\n"
     ]
    },
    {
     "name": "stderr",
     "output_type": "stream",
     "text": [
      "2017-02-24 17:35:20,663 : INFO : GET http://localhost:9200/_search/scroll?scroll=5m [status:200 request:17.738s]\n",
      "2017-02-24 17:35:20,903 : INFO : Documents Read: 1100000\n"
     ]
    },
    {
     "name": "stdout",
     "output_type": "stream",
     "text": [
      "scroll size: 10000\n",
      "Scrolling...\n"
     ]
    },
    {
     "name": "stderr",
     "output_type": "stream",
     "text": [
      "2017-02-24 17:35:38,360 : INFO : GET http://localhost:9200/_search/scroll?scroll=5m [status:200 request:17.425s]\n",
      "2017-02-24 17:35:38,555 : INFO : Documents Read: 1110000\n"
     ]
    },
    {
     "name": "stdout",
     "output_type": "stream",
     "text": [
      "scroll size: 10000\n",
      "Scrolling...\n"
     ]
    },
    {
     "name": "stderr",
     "output_type": "stream",
     "text": [
      "2017-02-24 17:35:57,437 : INFO : GET http://localhost:9200/_search/scroll?scroll=5m [status:200 request:18.845s]\n",
      "2017-02-24 17:35:57,642 : INFO : Documents Read: 1120000\n"
     ]
    },
    {
     "name": "stdout",
     "output_type": "stream",
     "text": [
      "scroll size: 10000\n",
      "Scrolling...\n"
     ]
    },
    {
     "name": "stderr",
     "output_type": "stream",
     "text": [
      "2017-02-24 17:36:15,921 : INFO : GET http://localhost:9200/_search/scroll?scroll=5m [status:200 request:18.250s]\n",
      "2017-02-24 17:36:16,164 : INFO : Documents Read: 1130000\n"
     ]
    },
    {
     "name": "stdout",
     "output_type": "stream",
     "text": [
      "scroll size: 10000\n",
      "Scrolling...\n"
     ]
    },
    {
     "name": "stderr",
     "output_type": "stream",
     "text": [
      "2017-02-24 17:36:35,285 : INFO : GET http://localhost:9200/_search/scroll?scroll=5m [status:200 request:19.093s]\n",
      "2017-02-24 17:36:35,507 : INFO : Documents Read: 1140000\n"
     ]
    },
    {
     "name": "stdout",
     "output_type": "stream",
     "text": [
      "scroll size: 10000\n",
      "Scrolling...\n"
     ]
    },
    {
     "name": "stderr",
     "output_type": "stream",
     "text": [
      "2017-02-24 17:36:55,078 : INFO : GET http://localhost:9200/_search/scroll?scroll=5m [status:200 request:19.533s]\n",
      "2017-02-24 17:36:55,340 : INFO : Documents Read: 1150000\n"
     ]
    },
    {
     "name": "stdout",
     "output_type": "stream",
     "text": [
      "scroll size: 10000\n",
      "Scrolling...\n"
     ]
    },
    {
     "name": "stderr",
     "output_type": "stream",
     "text": [
      "2017-02-24 17:37:14,379 : INFO : GET http://localhost:9200/_search/scroll?scroll=5m [status:200 request:19.012s]\n",
      "2017-02-24 17:37:14,602 : INFO : Documents Read: 1160000\n"
     ]
    },
    {
     "name": "stdout",
     "output_type": "stream",
     "text": [
      "scroll size: 10000\n",
      "Scrolling...\n"
     ]
    },
    {
     "name": "stderr",
     "output_type": "stream",
     "text": [
      "2017-02-24 17:37:32,956 : INFO : GET http://localhost:9200/_search/scroll?scroll=5m [status:200 request:18.325s]\n",
      "2017-02-24 17:37:33,204 : INFO : Documents Read: 1170000\n"
     ]
    },
    {
     "name": "stdout",
     "output_type": "stream",
     "text": [
      "scroll size: 10000\n",
      "Scrolling...\n"
     ]
    },
    {
     "name": "stderr",
     "output_type": "stream",
     "text": [
      "2017-02-24 17:37:51,388 : INFO : GET http://localhost:9200/_search/scroll?scroll=5m [status:200 request:18.142s]\n",
      "2017-02-24 17:37:51,590 : INFO : Documents Read: 1180000\n"
     ]
    },
    {
     "name": "stdout",
     "output_type": "stream",
     "text": [
      "scroll size: 10000\n",
      "Scrolling...\n"
     ]
    },
    {
     "name": "stderr",
     "output_type": "stream",
     "text": [
      "2017-02-24 17:38:09,946 : INFO : GET http://localhost:9200/_search/scroll?scroll=5m [status:200 request:18.322s]\n",
      "2017-02-24 17:38:10,144 : INFO : Documents Read: 1190000\n"
     ]
    },
    {
     "name": "stdout",
     "output_type": "stream",
     "text": [
      "scroll size: 10000\n",
      "Scrolling...\n"
     ]
    },
    {
     "name": "stderr",
     "output_type": "stream",
     "text": [
      "2017-02-24 17:38:27,754 : INFO : GET http://localhost:9200/_search/scroll?scroll=5m [status:200 request:17.574s]\n",
      "2017-02-24 17:38:28,004 : INFO : Documents Read: 1200000\n"
     ]
    },
    {
     "name": "stdout",
     "output_type": "stream",
     "text": [
      "scroll size: 10000\n",
      "Scrolling...\n"
     ]
    },
    {
     "name": "stderr",
     "output_type": "stream",
     "text": [
      "2017-02-24 17:38:44,521 : INFO : GET http://localhost:9200/_search/scroll?scroll=5m [status:200 request:16.483s]\n",
      "2017-02-24 17:38:44,723 : INFO : Documents Read: 1210000\n"
     ]
    },
    {
     "name": "stdout",
     "output_type": "stream",
     "text": [
      "scroll size: 10000\n",
      "Scrolling...\n"
     ]
    },
    {
     "name": "stderr",
     "output_type": "stream",
     "text": [
      "2017-02-24 17:39:01,661 : INFO : GET http://localhost:9200/_search/scroll?scroll=5m [status:200 request:16.892s]\n",
      "2017-02-24 17:39:01,937 : INFO : Documents Read: 1220000\n"
     ]
    },
    {
     "name": "stdout",
     "output_type": "stream",
     "text": [
      "scroll size: 10000\n",
      "Scrolling...\n"
     ]
    },
    {
     "name": "stderr",
     "output_type": "stream",
     "text": [
      "2017-02-24 17:39:18,373 : INFO : GET http://localhost:9200/_search/scroll?scroll=5m [status:200 request:16.408s]\n",
      "2017-02-24 17:39:18,602 : INFO : Documents Read: 1230000\n"
     ]
    },
    {
     "name": "stdout",
     "output_type": "stream",
     "text": [
      "scroll size: 10000\n",
      "Scrolling...\n"
     ]
    },
    {
     "name": "stderr",
     "output_type": "stream",
     "text": [
      "2017-02-24 17:39:34,624 : INFO : GET http://localhost:9200/_search/scroll?scroll=5m [status:200 request:15.994s]\n",
      "2017-02-24 17:39:34,876 : INFO : Documents Read: 1240000\n"
     ]
    },
    {
     "name": "stdout",
     "output_type": "stream",
     "text": [
      "scroll size: 10000\n",
      "Scrolling...\n"
     ]
    },
    {
     "name": "stderr",
     "output_type": "stream",
     "text": [
      "2017-02-24 17:39:51,347 : INFO : GET http://localhost:9200/_search/scroll?scroll=5m [status:200 request:16.450s]\n",
      "2017-02-24 17:39:51,577 : INFO : Documents Read: 1250000\n"
     ]
    },
    {
     "name": "stdout",
     "output_type": "stream",
     "text": [
      "scroll size: 10000\n",
      "Scrolling...\n"
     ]
    },
    {
     "name": "stderr",
     "output_type": "stream",
     "text": [
      "2017-02-24 17:40:08,180 : INFO : GET http://localhost:9200/_search/scroll?scroll=5m [status:200 request:16.573s]\n",
      "2017-02-24 17:40:08,388 : INFO : Documents Read: 1260000\n"
     ]
    },
    {
     "name": "stdout",
     "output_type": "stream",
     "text": [
      "scroll size: 10000\n",
      "Scrolling...\n"
     ]
    },
    {
     "name": "stderr",
     "output_type": "stream",
     "text": [
      "2017-02-24 17:40:25,349 : INFO : GET http://localhost:9200/_search/scroll?scroll=5m [status:200 request:16.929s]\n",
      "2017-02-24 17:40:25,593 : INFO : Documents Read: 1270000\n"
     ]
    },
    {
     "name": "stdout",
     "output_type": "stream",
     "text": [
      "scroll size: 10000\n",
      "Scrolling...\n"
     ]
    },
    {
     "name": "stderr",
     "output_type": "stream",
     "text": [
      "2017-02-24 17:40:41,491 : INFO : GET http://localhost:9200/_search/scroll?scroll=5m [status:200 request:15.877s]\n",
      "2017-02-24 17:40:41,711 : INFO : Documents Read: 1280000\n"
     ]
    },
    {
     "name": "stdout",
     "output_type": "stream",
     "text": [
      "scroll size: 10000\n",
      "Scrolling...\n"
     ]
    },
    {
     "name": "stderr",
     "output_type": "stream",
     "text": [
      "2017-02-24 17:40:57,579 : INFO : GET http://localhost:9200/_search/scroll?scroll=5m [status:200 request:15.839s]\n",
      "2017-02-24 17:40:57,825 : INFO : Documents Read: 1290000\n"
     ]
    },
    {
     "name": "stdout",
     "output_type": "stream",
     "text": [
      "scroll size: 10000\n",
      "Scrolling...\n"
     ]
    },
    {
     "name": "stderr",
     "output_type": "stream",
     "text": [
      "2017-02-24 17:41:13,722 : INFO : GET http://localhost:9200/_search/scroll?scroll=5m [status:200 request:15.860s]\n",
      "2017-02-24 17:41:13,962 : INFO : Documents Read: 1300000\n"
     ]
    },
    {
     "name": "stdout",
     "output_type": "stream",
     "text": [
      "scroll size: 10000\n",
      "Scrolling...\n"
     ]
    },
    {
     "name": "stderr",
     "output_type": "stream",
     "text": [
      "2017-02-24 17:41:30,472 : INFO : GET http://localhost:9200/_search/scroll?scroll=5m [status:200 request:16.481s]\n",
      "2017-02-24 17:41:30,722 : INFO : Documents Read: 1310000\n"
     ]
    },
    {
     "name": "stdout",
     "output_type": "stream",
     "text": [
      "scroll size: 10000\n",
      "Scrolling...\n"
     ]
    },
    {
     "name": "stderr",
     "output_type": "stream",
     "text": [
      "2017-02-24 17:41:46,917 : INFO : GET http://localhost:9200/_search/scroll?scroll=5m [status:200 request:16.166s]\n",
      "2017-02-24 17:41:47,121 : INFO : Documents Read: 1320000\n"
     ]
    },
    {
     "name": "stdout",
     "output_type": "stream",
     "text": [
      "scroll size: 10000\n",
      "Scrolling...\n"
     ]
    },
    {
     "name": "stderr",
     "output_type": "stream",
     "text": [
      "2017-02-24 17:42:03,475 : INFO : GET http://localhost:9200/_search/scroll?scroll=5m [status:200 request:16.326s]\n",
      "2017-02-24 17:42:03,669 : INFO : Documents Read: 1330000\n"
     ]
    },
    {
     "name": "stdout",
     "output_type": "stream",
     "text": [
      "scroll size: 10000\n",
      "Scrolling...\n"
     ]
    },
    {
     "name": "stderr",
     "output_type": "stream",
     "text": [
      "2017-02-24 17:42:20,543 : INFO : GET http://localhost:9200/_search/scroll?scroll=5m [status:200 request:16.844s]\n",
      "2017-02-24 17:42:20,805 : INFO : Documents Read: 1340000\n"
     ]
    },
    {
     "name": "stdout",
     "output_type": "stream",
     "text": [
      "scroll size: 10000\n",
      "Scrolling...\n"
     ]
    },
    {
     "name": "stderr",
     "output_type": "stream",
     "text": [
      "2017-02-24 17:42:35,776 : INFO : GET http://localhost:9200/_search/scroll?scroll=5m [status:200 request:14.942s]\n",
      "2017-02-24 17:42:35,979 : INFO : Documents Read: 1350000\n"
     ]
    },
    {
     "name": "stdout",
     "output_type": "stream",
     "text": [
      "scroll size: 10000\n",
      "Scrolling...\n"
     ]
    },
    {
     "name": "stderr",
     "output_type": "stream",
     "text": [
      "2017-02-24 17:42:54,083 : INFO : GET http://localhost:9200/_search/scroll?scroll=5m [status:200 request:18.062s]\n",
      "2017-02-24 17:42:54,338 : INFO : Documents Read: 1360000\n"
     ]
    },
    {
     "name": "stdout",
     "output_type": "stream",
     "text": [
      "scroll size: 10000\n",
      "Scrolling...\n"
     ]
    },
    {
     "name": "stderr",
     "output_type": "stream",
     "text": [
      "2017-02-24 17:43:12,686 : INFO : GET http://localhost:9200/_search/scroll?scroll=5m [status:200 request:18.319s]\n",
      "2017-02-24 17:43:12,885 : INFO : Documents Read: 1370000\n"
     ]
    },
    {
     "name": "stdout",
     "output_type": "stream",
     "text": [
      "scroll size: 10000\n",
      "Scrolling...\n"
     ]
    },
    {
     "name": "stderr",
     "output_type": "stream",
     "text": [
      "2017-02-24 17:43:30,623 : INFO : GET http://localhost:9200/_search/scroll?scroll=5m [status:200 request:17.698s]\n",
      "2017-02-24 17:43:30,886 : INFO : Documents Read: 1380000\n"
     ]
    },
    {
     "name": "stdout",
     "output_type": "stream",
     "text": [
      "scroll size: 10000\n",
      "Scrolling...\n"
     ]
    },
    {
     "name": "stderr",
     "output_type": "stream",
     "text": [
      "2017-02-24 17:43:48,784 : INFO : GET http://localhost:9200/_search/scroll?scroll=5m [status:200 request:17.857s]\n",
      "2017-02-24 17:43:48,984 : INFO : Documents Read: 1390000\n"
     ]
    },
    {
     "name": "stdout",
     "output_type": "stream",
     "text": [
      "scroll size: 10000\n",
      "Scrolling...\n"
     ]
    },
    {
     "name": "stderr",
     "output_type": "stream",
     "text": [
      "2017-02-24 17:44:06,787 : INFO : GET http://localhost:9200/_search/scroll?scroll=5m [status:200 request:17.773s]\n",
      "2017-02-24 17:44:06,988 : INFO : Documents Read: 1400000\n"
     ]
    },
    {
     "name": "stdout",
     "output_type": "stream",
     "text": [
      "scroll size: 10000\n",
      "Scrolling...\n"
     ]
    },
    {
     "name": "stderr",
     "output_type": "stream",
     "text": [
      "2017-02-24 17:44:23,903 : INFO : GET http://localhost:9200/_search/scroll?scroll=5m [status:200 request:16.886s]\n",
      "2017-02-24 17:44:24,135 : INFO : Documents Read: 1410000\n"
     ]
    },
    {
     "name": "stdout",
     "output_type": "stream",
     "text": [
      "scroll size: 10000\n",
      "Scrolling...\n"
     ]
    },
    {
     "name": "stderr",
     "output_type": "stream",
     "text": [
      "2017-02-24 17:44:41,508 : INFO : GET http://localhost:9200/_search/scroll?scroll=5m [status:200 request:17.332s]\n",
      "2017-02-24 17:44:41,731 : INFO : Documents Read: 1420000\n"
     ]
    },
    {
     "name": "stdout",
     "output_type": "stream",
     "text": [
      "scroll size: 10000\n",
      "Scrolling...\n"
     ]
    },
    {
     "name": "stderr",
     "output_type": "stream",
     "text": [
      "2017-02-24 17:45:02,545 : INFO : GET http://localhost:9200/_search/scroll?scroll=5m [status:200 request:20.776s]\n",
      "2017-02-24 17:45:02,801 : INFO : Documents Read: 1430000\n"
     ]
    },
    {
     "name": "stdout",
     "output_type": "stream",
     "text": [
      "scroll size: 10000\n",
      "Scrolling...\n"
     ]
    },
    {
     "name": "stderr",
     "output_type": "stream",
     "text": [
      "2017-02-24 17:45:22,396 : INFO : GET http://localhost:9200/_search/scroll?scroll=5m [status:200 request:19.566s]\n",
      "2017-02-24 17:45:22,603 : INFO : Documents Read: 1440000\n"
     ]
    },
    {
     "name": "stdout",
     "output_type": "stream",
     "text": [
      "scroll size: 10000\n",
      "Scrolling...\n"
     ]
    },
    {
     "name": "stderr",
     "output_type": "stream",
     "text": [
      "2017-02-24 17:45:43,295 : INFO : GET http://localhost:9200/_search/scroll?scroll=5m [status:200 request:20.664s]\n",
      "2017-02-24 17:45:43,526 : INFO : Documents Read: 1450000\n"
     ]
    },
    {
     "name": "stdout",
     "output_type": "stream",
     "text": [
      "scroll size: 10000\n",
      "Scrolling...\n"
     ]
    },
    {
     "name": "stderr",
     "output_type": "stream",
     "text": [
      "2017-02-24 17:46:04,171 : INFO : GET http://localhost:9200/_search/scroll?scroll=5m [status:200 request:20.606s]\n",
      "2017-02-24 17:46:04,377 : INFO : Documents Read: 1460000\n"
     ]
    },
    {
     "name": "stdout",
     "output_type": "stream",
     "text": [
      "scroll size: 10000\n",
      "Scrolling...\n"
     ]
    },
    {
     "name": "stderr",
     "output_type": "stream",
     "text": [
      "2017-02-24 17:46:25,524 : INFO : GET http://localhost:9200/_search/scroll?scroll=5m [status:200 request:21.119s]\n",
      "2017-02-24 17:46:25,709 : INFO : Documents Read: 1470000\n"
     ]
    },
    {
     "name": "stdout",
     "output_type": "stream",
     "text": [
      "scroll size: 10000\n",
      "Scrolling...\n"
     ]
    },
    {
     "name": "stderr",
     "output_type": "stream",
     "text": [
      "2017-02-24 17:46:44,847 : INFO : GET http://localhost:9200/_search/scroll?scroll=5m [status:200 request:19.109s]\n",
      "2017-02-24 17:46:45,074 : INFO : Documents Read: 1480000\n"
     ]
    },
    {
     "name": "stdout",
     "output_type": "stream",
     "text": [
      "scroll size: 10000\n",
      "Scrolling...\n"
     ]
    },
    {
     "name": "stderr",
     "output_type": "stream",
     "text": [
      "2017-02-24 17:47:06,711 : INFO : GET http://localhost:9200/_search/scroll?scroll=5m [status:200 request:21.609s]\n",
      "2017-02-24 17:47:06,928 : INFO : Documents Read: 1490000\n"
     ]
    },
    {
     "name": "stdout",
     "output_type": "stream",
     "text": [
      "scroll size: 10000\n",
      "Scrolling...\n"
     ]
    },
    {
     "name": "stderr",
     "output_type": "stream",
     "text": [
      "2017-02-24 17:47:26,344 : INFO : GET http://localhost:9200/_search/scroll?scroll=5m [status:200 request:19.388s]\n",
      "2017-02-24 17:47:26,604 : INFO : Documents Read: 1500000\n"
     ]
    },
    {
     "name": "stdout",
     "output_type": "stream",
     "text": [
      "scroll size: 10000\n",
      "Scrolling...\n"
     ]
    },
    {
     "name": "stderr",
     "output_type": "stream",
     "text": [
      "2017-02-24 17:47:46,428 : INFO : GET http://localhost:9200/_search/scroll?scroll=5m [status:200 request:19.802s]\n",
      "2017-02-24 17:47:46,630 : INFO : Documents Read: 1510000\n"
     ]
    },
    {
     "name": "stdout",
     "output_type": "stream",
     "text": [
      "scroll size: 10000\n",
      "Scrolling...\n"
     ]
    },
    {
     "name": "stderr",
     "output_type": "stream",
     "text": [
      "2017-02-24 17:48:06,162 : INFO : GET http://localhost:9200/_search/scroll?scroll=5m [status:200 request:19.511s]\n",
      "2017-02-24 17:48:06,397 : INFO : Documents Read: 1520000\n"
     ]
    },
    {
     "name": "stdout",
     "output_type": "stream",
     "text": [
      "scroll size: 10000\n",
      "Scrolling...\n"
     ]
    },
    {
     "name": "stderr",
     "output_type": "stream",
     "text": [
      "2017-02-24 17:48:25,982 : INFO : GET http://localhost:9200/_search/scroll?scroll=5m [status:200 request:19.562s]\n",
      "2017-02-24 17:48:26,174 : INFO : Documents Read: 1530000\n"
     ]
    },
    {
     "name": "stdout",
     "output_type": "stream",
     "text": [
      "scroll size: 10000\n",
      "Scrolling...\n"
     ]
    },
    {
     "name": "stderr",
     "output_type": "stream",
     "text": [
      "2017-02-24 17:48:45,429 : INFO : GET http://localhost:9200/_search/scroll?scroll=5m [status:200 request:19.226s]\n",
      "2017-02-24 17:48:45,621 : INFO : Documents Read: 1540000\n"
     ]
    },
    {
     "name": "stdout",
     "output_type": "stream",
     "text": [
      "scroll size: 10000\n",
      "Scrolling...\n"
     ]
    },
    {
     "name": "stderr",
     "output_type": "stream",
     "text": [
      "2017-02-24 17:49:05,525 : INFO : GET http://localhost:9200/_search/scroll?scroll=5m [status:200 request:19.862s]\n",
      "2017-02-24 17:49:05,754 : INFO : Documents Read: 1550000\n"
     ]
    },
    {
     "name": "stdout",
     "output_type": "stream",
     "text": [
      "scroll size: 10000\n",
      "Scrolling...\n"
     ]
    },
    {
     "name": "stderr",
     "output_type": "stream",
     "text": [
      "2017-02-24 17:49:25,619 : INFO : GET http://localhost:9200/_search/scroll?scroll=5m [status:200 request:19.836s]\n",
      "2017-02-24 17:49:25,827 : INFO : Documents Read: 1560000\n"
     ]
    },
    {
     "name": "stdout",
     "output_type": "stream",
     "text": [
      "scroll size: 10000\n",
      "Scrolling...\n"
     ]
    },
    {
     "name": "stderr",
     "output_type": "stream",
     "text": [
      "2017-02-24 17:49:47,187 : INFO : GET http://localhost:9200/_search/scroll?scroll=5m [status:200 request:21.332s]\n",
      "2017-02-24 17:49:47,430 : INFO : Documents Read: 1570000\n"
     ]
    },
    {
     "name": "stdout",
     "output_type": "stream",
     "text": [
      "scroll size: 10000\n",
      "Scrolling...\n"
     ]
    },
    {
     "name": "stderr",
     "output_type": "stream",
     "text": [
      "2017-02-24 17:50:07,297 : INFO : GET http://localhost:9200/_search/scroll?scroll=5m [status:200 request:19.838s]\n",
      "2017-02-24 17:50:07,523 : INFO : Documents Read: 1580000\n"
     ]
    },
    {
     "name": "stdout",
     "output_type": "stream",
     "text": [
      "scroll size: 10000\n",
      "Scrolling...\n"
     ]
    },
    {
     "name": "stderr",
     "output_type": "stream",
     "text": [
      "2017-02-24 17:50:27,402 : INFO : GET http://localhost:9200/_search/scroll?scroll=5m [status:200 request:19.849s]\n",
      "2017-02-24 17:50:27,647 : INFO : Documents Read: 1590000\n"
     ]
    },
    {
     "name": "stdout",
     "output_type": "stream",
     "text": [
      "scroll size: 10000\n",
      "Scrolling...\n"
     ]
    },
    {
     "name": "stderr",
     "output_type": "stream",
     "text": [
      "2017-02-24 17:50:47,602 : INFO : GET http://localhost:9200/_search/scroll?scroll=5m [status:200 request:19.926s]\n",
      "2017-02-24 17:50:47,809 : INFO : Documents Read: 1600000\n"
     ]
    },
    {
     "name": "stdout",
     "output_type": "stream",
     "text": [
      "scroll size: 10000\n",
      "Scrolling...\n"
     ]
    },
    {
     "name": "stderr",
     "output_type": "stream",
     "text": [
      "2017-02-24 17:51:07,747 : INFO : GET http://localhost:9200/_search/scroll?scroll=5m [status:200 request:19.901s]\n",
      "2017-02-24 17:51:07,966 : INFO : Documents Read: 1610000\n"
     ]
    },
    {
     "name": "stdout",
     "output_type": "stream",
     "text": [
      "scroll size: 10000\n",
      "Scrolling...\n"
     ]
    },
    {
     "name": "stderr",
     "output_type": "stream",
     "text": [
      "2017-02-24 17:51:28,792 : INFO : GET http://localhost:9200/_search/scroll?scroll=5m [status:200 request:20.797s]\n",
      "2017-02-24 17:51:29,016 : INFO : Documents Read: 1620000\n"
     ]
    },
    {
     "name": "stdout",
     "output_type": "stream",
     "text": [
      "scroll size: 10000\n",
      "Scrolling...\n"
     ]
    },
    {
     "name": "stderr",
     "output_type": "stream",
     "text": [
      "2017-02-24 17:51:49,838 : INFO : GET http://localhost:9200/_search/scroll?scroll=5m [status:200 request:20.793s]\n",
      "2017-02-24 17:51:50,057 : INFO : Documents Read: 1630000\n"
     ]
    },
    {
     "name": "stdout",
     "output_type": "stream",
     "text": [
      "scroll size: 10000\n",
      "Scrolling...\n"
     ]
    },
    {
     "name": "stderr",
     "output_type": "stream",
     "text": [
      "2017-02-24 17:52:10,876 : INFO : GET http://localhost:9200/_search/scroll?scroll=5m [status:200 request:20.790s]\n",
      "2017-02-24 17:52:11,126 : INFO : Documents Read: 1640000\n"
     ]
    },
    {
     "name": "stdout",
     "output_type": "stream",
     "text": [
      "scroll size: 10000\n",
      "Scrolling...\n"
     ]
    },
    {
     "name": "stderr",
     "output_type": "stream",
     "text": [
      "2017-02-24 17:52:31,571 : INFO : GET http://localhost:9200/_search/scroll?scroll=5m [status:200 request:20.417s]\n",
      "2017-02-24 17:52:31,814 : INFO : Documents Read: 1650000\n"
     ]
    },
    {
     "name": "stdout",
     "output_type": "stream",
     "text": [
      "scroll size: 10000\n",
      "Scrolling...\n"
     ]
    },
    {
     "name": "stderr",
     "output_type": "stream",
     "text": [
      "2017-02-24 17:52:51,867 : INFO : GET http://localhost:9200/_search/scroll?scroll=5m [status:200 request:20.022s]\n",
      "2017-02-24 17:52:52,106 : INFO : Documents Read: 1660000\n"
     ]
    },
    {
     "name": "stdout",
     "output_type": "stream",
     "text": [
      "scroll size: 10000\n",
      "Scrolling...\n"
     ]
    },
    {
     "name": "stderr",
     "output_type": "stream",
     "text": [
      "2017-02-24 17:53:11,347 : INFO : GET http://localhost:9200/_search/scroll?scroll=5m [status:200 request:19.213s]\n",
      "2017-02-24 17:53:11,572 : INFO : Documents Read: 1670000\n"
     ]
    },
    {
     "name": "stdout",
     "output_type": "stream",
     "text": [
      "scroll size: 10000\n",
      "Scrolling...\n"
     ]
    },
    {
     "name": "stderr",
     "output_type": "stream",
     "text": [
      "2017-02-24 17:53:31,145 : INFO : GET http://localhost:9200/_search/scroll?scroll=5m [status:200 request:19.544s]\n",
      "2017-02-24 17:53:31,353 : INFO : Documents Read: 1680000\n"
     ]
    },
    {
     "name": "stdout",
     "output_type": "stream",
     "text": [
      "scroll size: 10000\n",
      "Scrolling...\n"
     ]
    },
    {
     "name": "stderr",
     "output_type": "stream",
     "text": [
      "2017-02-24 17:53:51,755 : INFO : GET http://localhost:9200/_search/scroll?scroll=5m [status:200 request:20.373s]\n",
      "2017-02-24 17:53:51,993 : INFO : Documents Read: 1690000\n"
     ]
    },
    {
     "name": "stdout",
     "output_type": "stream",
     "text": [
      "scroll size: 10000\n",
      "Scrolling...\n"
     ]
    },
    {
     "name": "stderr",
     "output_type": "stream",
     "text": [
      "2017-02-24 17:54:10,693 : INFO : GET http://localhost:9200/_search/scroll?scroll=5m [status:200 request:18.664s]\n",
      "2017-02-24 17:54:10,918 : INFO : Documents Read: 1700000\n"
     ]
    },
    {
     "name": "stdout",
     "output_type": "stream",
     "text": [
      "scroll size: 10000\n",
      "Scrolling...\n"
     ]
    },
    {
     "name": "stderr",
     "output_type": "stream",
     "text": [
      "2017-02-24 17:54:30,294 : INFO : GET http://localhost:9200/_search/scroll?scroll=5m [status:200 request:19.345s]\n",
      "2017-02-24 17:54:30,520 : INFO : Documents Read: 1710000\n"
     ]
    },
    {
     "name": "stdout",
     "output_type": "stream",
     "text": [
      "scroll size: 10000\n",
      "Scrolling...\n"
     ]
    },
    {
     "name": "stderr",
     "output_type": "stream",
     "text": [
      "2017-02-24 17:54:51,093 : INFO : GET http://localhost:9200/_search/scroll?scroll=5m [status:200 request:20.531s]\n",
      "2017-02-24 17:54:51,334 : INFO : Documents Read: 1720000\n"
     ]
    },
    {
     "name": "stdout",
     "output_type": "stream",
     "text": [
      "scroll size: 10000\n",
      "Scrolling...\n"
     ]
    },
    {
     "name": "stderr",
     "output_type": "stream",
     "text": [
      "2017-02-24 17:55:10,281 : INFO : GET http://localhost:9200/_search/scroll?scroll=5m [status:200 request:18.916s]\n",
      "2017-02-24 17:55:10,523 : INFO : Documents Read: 1730000\n"
     ]
    },
    {
     "name": "stdout",
     "output_type": "stream",
     "text": [
      "scroll size: 10000\n",
      "Scrolling...\n"
     ]
    },
    {
     "name": "stderr",
     "output_type": "stream",
     "text": [
      "2017-02-24 17:55:30,360 : INFO : GET http://localhost:9200/_search/scroll?scroll=5m [status:200 request:19.800s]\n",
      "2017-02-24 17:55:30,583 : INFO : Documents Read: 1740000\n"
     ]
    },
    {
     "name": "stdout",
     "output_type": "stream",
     "text": [
      "scroll size: 10000\n",
      "Scrolling...\n"
     ]
    },
    {
     "name": "stderr",
     "output_type": "stream",
     "text": [
      "2017-02-24 17:55:51,051 : INFO : GET http://localhost:9200/_search/scroll?scroll=5m [status:200 request:20.438s]\n",
      "2017-02-24 17:55:51,268 : INFO : Documents Read: 1750000\n"
     ]
    },
    {
     "name": "stdout",
     "output_type": "stream",
     "text": [
      "scroll size: 10000\n",
      "Scrolling...\n"
     ]
    },
    {
     "name": "stderr",
     "output_type": "stream",
     "text": [
      "2017-02-24 17:56:11,451 : INFO : GET http://localhost:9200/_search/scroll?scroll=5m [status:200 request:20.147s]\n",
      "2017-02-24 17:56:11,685 : INFO : Documents Read: 1760000\n"
     ]
    },
    {
     "name": "stdout",
     "output_type": "stream",
     "text": [
      "scroll size: 10000\n",
      "Scrolling...\n"
     ]
    },
    {
     "name": "stderr",
     "output_type": "stream",
     "text": [
      "2017-02-24 17:56:31,105 : INFO : GET http://localhost:9200/_search/scroll?scroll=5m [status:200 request:19.391s]\n",
      "2017-02-24 17:56:31,350 : INFO : Documents Read: 1770000\n"
     ]
    },
    {
     "name": "stdout",
     "output_type": "stream",
     "text": [
      "scroll size: 10000\n",
      "Scrolling...\n"
     ]
    },
    {
     "name": "stderr",
     "output_type": "stream",
     "text": [
      "2017-02-24 17:56:50,318 : INFO : GET http://localhost:9200/_search/scroll?scroll=5m [status:200 request:18.939s]\n",
      "2017-02-24 17:56:50,553 : INFO : Documents Read: 1780000\n"
     ]
    },
    {
     "name": "stdout",
     "output_type": "stream",
     "text": [
      "scroll size: 10000\n",
      "Scrolling...\n"
     ]
    },
    {
     "name": "stderr",
     "output_type": "stream",
     "text": [
      "2017-02-24 17:57:09,787 : INFO : GET http://localhost:9200/_search/scroll?scroll=5m [status:200 request:19.191s]\n",
      "2017-02-24 17:57:10,025 : INFO : Documents Read: 1790000\n"
     ]
    },
    {
     "name": "stdout",
     "output_type": "stream",
     "text": [
      "scroll size: 10000\n",
      "Scrolling...\n"
     ]
    },
    {
     "name": "stderr",
     "output_type": "stream",
     "text": [
      "2017-02-24 17:57:28,312 : INFO : GET http://localhost:9200/_search/scroll?scroll=5m [status:200 request:18.258s]\n",
      "2017-02-24 17:57:28,583 : INFO : Documents Read: 1800000\n"
     ]
    },
    {
     "name": "stdout",
     "output_type": "stream",
     "text": [
      "scroll size: 10000\n",
      "Scrolling...\n"
     ]
    },
    {
     "name": "stderr",
     "output_type": "stream",
     "text": [
      "2017-02-24 17:57:47,724 : INFO : GET http://localhost:9200/_search/scroll?scroll=5m [status:200 request:19.112s]\n",
      "2017-02-24 17:57:47,923 : INFO : Documents Read: 1810000\n"
     ]
    },
    {
     "name": "stdout",
     "output_type": "stream",
     "text": [
      "scroll size: 10000\n",
      "Scrolling...\n"
     ]
    },
    {
     "name": "stderr",
     "output_type": "stream",
     "text": [
      "2017-02-24 17:58:07,078 : INFO : GET http://localhost:9200/_search/scroll?scroll=5m [status:200 request:19.123s]\n",
      "2017-02-24 17:58:07,303 : INFO : Documents Read: 1820000\n"
     ]
    },
    {
     "name": "stdout",
     "output_type": "stream",
     "text": [
      "scroll size: 10000\n",
      "Scrolling...\n"
     ]
    },
    {
     "name": "stderr",
     "output_type": "stream",
     "text": [
      "2017-02-24 17:58:26,441 : INFO : GET http://localhost:9200/_search/scroll?scroll=5m [status:200 request:19.107s]\n",
      "2017-02-24 17:58:26,688 : INFO : Documents Read: 1830000\n"
     ]
    },
    {
     "name": "stdout",
     "output_type": "stream",
     "text": [
      "scroll size: 10000\n",
      "Scrolling...\n"
     ]
    },
    {
     "name": "stderr",
     "output_type": "stream",
     "text": [
      "2017-02-24 17:58:46,646 : INFO : GET http://localhost:9200/_search/scroll?scroll=5m [status:200 request:19.929s]\n",
      "2017-02-24 17:58:46,842 : INFO : Documents Read: 1840000\n"
     ]
    },
    {
     "name": "stdout",
     "output_type": "stream",
     "text": [
      "scroll size: 10000\n",
      "Scrolling...\n"
     ]
    },
    {
     "name": "stderr",
     "output_type": "stream",
     "text": [
      "2017-02-24 17:59:06,712 : INFO : GET http://localhost:9200/_search/scroll?scroll=5m [status:200 request:19.841s]\n",
      "2017-02-24 17:59:06,965 : INFO : Documents Read: 1850000\n"
     ]
    },
    {
     "name": "stdout",
     "output_type": "stream",
     "text": [
      "scroll size: 10000\n",
      "Scrolling...\n"
     ]
    },
    {
     "name": "stderr",
     "output_type": "stream",
     "text": [
      "2017-02-24 17:59:26,352 : INFO : GET http://localhost:9200/_search/scroll?scroll=5m [status:200 request:19.357s]\n",
      "2017-02-24 17:59:26,571 : INFO : Documents Read: 1860000\n"
     ]
    },
    {
     "name": "stdout",
     "output_type": "stream",
     "text": [
      "scroll size: 10000\n",
      "Scrolling...\n"
     ]
    },
    {
     "name": "stderr",
     "output_type": "stream",
     "text": [
      "2017-02-24 17:59:45,914 : INFO : GET http://localhost:9200/_search/scroll?scroll=5m [status:200 request:19.314s]\n",
      "2017-02-24 17:59:46,152 : INFO : Documents Read: 1870000\n"
     ]
    },
    {
     "name": "stdout",
     "output_type": "stream",
     "text": [
      "scroll size: 10000\n",
      "Scrolling...\n"
     ]
    },
    {
     "name": "stderr",
     "output_type": "stream",
     "text": [
      "2017-02-24 18:00:05,258 : INFO : GET http://localhost:9200/_search/scroll?scroll=5m [status:200 request:19.077s]\n",
      "2017-02-24 18:00:05,463 : INFO : Documents Read: 1880000\n"
     ]
    },
    {
     "name": "stdout",
     "output_type": "stream",
     "text": [
      "scroll size: 10000\n",
      "Scrolling...\n"
     ]
    },
    {
     "name": "stderr",
     "output_type": "stream",
     "text": [
      "2017-02-24 18:00:23,896 : INFO : GET http://localhost:9200/_search/scroll?scroll=5m [status:200 request:18.401s]\n",
      "2017-02-24 18:00:24,115 : INFO : Documents Read: 1890000\n"
     ]
    },
    {
     "name": "stdout",
     "output_type": "stream",
     "text": [
      "scroll size: 10000\n",
      "Scrolling...\n"
     ]
    },
    {
     "name": "stderr",
     "output_type": "stream",
     "text": [
      "2017-02-24 18:00:42,354 : INFO : GET http://localhost:9200/_search/scroll?scroll=5m [status:200 request:18.202s]\n",
      "2017-02-24 18:00:42,594 : INFO : Documents Read: 1900000\n"
     ]
    },
    {
     "name": "stdout",
     "output_type": "stream",
     "text": [
      "scroll size: 10000\n",
      "Scrolling...\n"
     ]
    },
    {
     "name": "stderr",
     "output_type": "stream",
     "text": [
      "2017-02-24 18:01:00,655 : INFO : GET http://localhost:9200/_search/scroll?scroll=5m [status:200 request:18.032s]\n",
      "2017-02-24 18:01:00,884 : INFO : Documents Read: 1910000\n"
     ]
    },
    {
     "name": "stdout",
     "output_type": "stream",
     "text": [
      "scroll size: 10000\n",
      "Scrolling...\n"
     ]
    },
    {
     "name": "stderr",
     "output_type": "stream",
     "text": [
      "2017-02-24 18:01:19,145 : INFO : GET http://localhost:9200/_search/scroll?scroll=5m [status:200 request:18.233s]\n",
      "2017-02-24 18:01:19,387 : INFO : Documents Read: 1920000\n"
     ]
    },
    {
     "name": "stdout",
     "output_type": "stream",
     "text": [
      "scroll size: 10000\n",
      "Scrolling...\n"
     ]
    },
    {
     "name": "stderr",
     "output_type": "stream",
     "text": [
      "2017-02-24 18:01:37,192 : INFO : GET http://localhost:9200/_search/scroll?scroll=5m [status:200 request:17.775s]\n",
      "2017-02-24 18:01:37,394 : INFO : Documents Read: 1930000\n"
     ]
    },
    {
     "name": "stdout",
     "output_type": "stream",
     "text": [
      "scroll size: 10000\n",
      "Scrolling...\n"
     ]
    },
    {
     "name": "stderr",
     "output_type": "stream",
     "text": [
      "2017-02-24 18:01:54,590 : INFO : GET http://localhost:9200/_search/scroll?scroll=5m [status:200 request:17.166s]\n",
      "2017-02-24 18:01:54,820 : INFO : Documents Read: 1940000\n"
     ]
    },
    {
     "name": "stdout",
     "output_type": "stream",
     "text": [
      "scroll size: 10000\n",
      "Scrolling...\n"
     ]
    },
    {
     "name": "stderr",
     "output_type": "stream",
     "text": [
      "2017-02-24 18:02:12,675 : INFO : GET http://localhost:9200/_search/scroll?scroll=5m [status:200 request:17.818s]\n",
      "2017-02-24 18:02:12,888 : INFO : Documents Read: 1950000\n"
     ]
    },
    {
     "name": "stdout",
     "output_type": "stream",
     "text": [
      "scroll size: 10000\n",
      "Scrolling...\n"
     ]
    },
    {
     "name": "stderr",
     "output_type": "stream",
     "text": [
      "2017-02-24 18:02:28,801 : INFO : GET http://localhost:9200/_search/scroll?scroll=5m [status:200 request:15.882s]\n",
      "2017-02-24 18:02:29,012 : INFO : Documents Read: 1960000\n"
     ]
    },
    {
     "name": "stdout",
     "output_type": "stream",
     "text": [
      "scroll size: 10000\n",
      "Scrolling...\n"
     ]
    },
    {
     "name": "stderr",
     "output_type": "stream",
     "text": [
      "2017-02-24 18:02:45,110 : INFO : GET http://localhost:9200/_search/scroll?scroll=5m [status:200 request:16.060s]\n",
      "2017-02-24 18:02:45,349 : INFO : Documents Read: 1970000\n"
     ]
    },
    {
     "name": "stdout",
     "output_type": "stream",
     "text": [
      "scroll size: 10000\n",
      "Scrolling...\n"
     ]
    },
    {
     "name": "stderr",
     "output_type": "stream",
     "text": [
      "2017-02-24 18:03:00,825 : INFO : GET http://localhost:9200/_search/scroll?scroll=5m [status:200 request:15.447s]\n",
      "2017-02-24 18:03:01,034 : INFO : Documents Read: 1980000\n"
     ]
    },
    {
     "name": "stdout",
     "output_type": "stream",
     "text": [
      "scroll size: 10000\n",
      "Scrolling...\n"
     ]
    },
    {
     "name": "stderr",
     "output_type": "stream",
     "text": [
      "2017-02-24 18:03:16,090 : INFO : GET http://localhost:9200/_search/scroll?scroll=5m [status:200 request:15.027s]\n",
      "2017-02-24 18:03:16,362 : INFO : Documents Read: 1990000\n"
     ]
    },
    {
     "name": "stdout",
     "output_type": "stream",
     "text": [
      "scroll size: 10000\n",
      "Scrolling...\n"
     ]
    },
    {
     "name": "stderr",
     "output_type": "stream",
     "text": [
      "2017-02-24 18:03:32,303 : INFO : GET http://localhost:9200/_search/scroll?scroll=5m [status:200 request:15.920s]\n",
      "2017-02-24 18:03:32,484 : INFO : Documents Read: 1998989\n"
     ]
    },
    {
     "name": "stdout",
     "output_type": "stream",
     "text": [
      "scroll size: 8989\n",
      "Scrolling...\n"
     ]
    },
    {
     "name": "stderr",
     "output_type": "stream",
     "text": [
      "2017-02-24 18:03:34,699 : INFO : GET http://localhost:9200/_search/scroll?scroll=5m [status:200 request:2.212s]\n",
      "2017-02-24 18:03:34,725 : INFO : Documents Read: 1999750\n",
      "2017-02-24 18:03:34,730 : INFO : GET http://localhost:9200/_search/scroll?scroll=5m [status:200 request:0.005s]\n",
      "2017-02-24 18:03:34,733 : INFO : Documents Read: 1999750\n"
     ]
    },
    {
     "name": "stdout",
     "output_type": "stream",
     "text": [
      "scroll size: 761\n",
      "Scrolling...\n",
      "scroll size: 0\n",
      "CPU times: user 39.6 s, sys: 6.7 s, total: 46.3 s\n",
      "Wall time: 1h 2min 32s\n"
     ]
    }
   ],
   "source": [
    "%%time\n",
    "scroll_size = total_size\n",
    "abstracts_file = open('../../data/abstracts.txt', 'w')\n",
    "num_docs = 0\n",
    "# Start scrolling\n",
    "while (scroll_size > 0):\n",
    "    print \"Scrolling...\"\n",
    "    page = es.scroll(scroll_id = sid, scroll = '5m')\n",
    "    # Update the scroll ID\n",
    "    sid = page['_scroll_id']\n",
    "    # Get the number of results that we returned in the last scroll\n",
    "    scroll_size = len(page['hits']['hits'])\n",
    "    print \"scroll size: \" + str(scroll_size)\n",
    "    num_docs += scroll_size\n",
    "    # Do something with the obtained page\n",
    "    for hit in page['hits']['hits']:\n",
    "        doc_id = hit['_id']\n",
    "        abstract = hit['fields']['abstract'][0].replace('\\r\\n', ' ').replace('\\n', ' ')\n",
    "        abstracts_file.write(' '.join([doc_id, abstract]).encode('utf8') + '\\n')\n",
    "    info('Documents Read: {}'.format(num_docs))\n",
    "abstracts_file.close()"
   ]
  },
  {
   "cell_type": "markdown",
   "metadata": {},
   "source": [
    "## Get dates"
   ]
  },
  {
   "cell_type": "code",
   "execution_count": 57,
   "metadata": {
    "collapsed": false
   },
   "outputs": [
    {
     "name": "stderr",
     "output_type": "stream",
     "text": [
      "2017-02-24 20:25:04,352 : INFO : GET http://localhost:9200/patents/_search?search_type=scan&scroll=60s&timeout=60s&size=1000 [status:200 request:0.003s]\n"
     ]
    }
   ],
   "source": [
    "rs = es.search(index='patents', \n",
    "          scroll='60s', \n",
    "          timeout='60s',\n",
    "          search_type='scan', \n",
    "#           search_type='query_then_fetch',\n",
    "          size=1000, \n",
    "          body={\n",
    "             \"fields\" : [\"patent-date\"],\n",
    "#              \"fields\" : [\"abstract\"],\n",
    "               \"query\" : {\n",
    "                  \"match_all\" : {} \n",
    "               }\n",
    "         }\n",
    ")\n",
    "\n",
    "sid = rs['_scroll_id']\n",
    "total_size = rs['hits']['total']"
   ]
  },
  {
   "cell_type": "code",
   "execution_count": 58,
   "metadata": {
    "collapsed": true
   },
   "outputs": [],
   "source": [
    "dates_map = {}"
   ]
  },
  {
   "cell_type": "code",
   "execution_count": 59,
   "metadata": {
    "collapsed": false,
    "scrolled": true
   },
   "outputs": [
    {
     "name": "stdout",
     "output_type": "stream",
     "text": [
      "Scrolling...\n"
     ]
    },
    {
     "name": "stderr",
     "output_type": "stream",
     "text": [
      "2017-02-24 20:25:30,523 : INFO : GET http://localhost:9200/_search/scroll?scroll=5m [status:200 request:24.494s]\n",
      "2017-02-24 20:25:30,569 : INFO : Documents Read: 5000\n"
     ]
    },
    {
     "name": "stdout",
     "output_type": "stream",
     "text": [
      "scroll size: 5000\n",
      "Scrolling...\n"
     ]
    },
    {
     "name": "stderr",
     "output_type": "stream",
     "text": [
      "2017-02-24 20:25:37,867 : INFO : GET http://localhost:9200/_search/scroll?scroll=5m [status:200 request:7.295s]\n",
      "2017-02-24 20:25:37,903 : INFO : Documents Read: 10000\n"
     ]
    },
    {
     "name": "stdout",
     "output_type": "stream",
     "text": [
      "scroll size: 5000\n",
      "Scrolling...\n"
     ]
    },
    {
     "name": "stderr",
     "output_type": "stream",
     "text": [
      "2017-02-24 20:25:45,795 : INFO : GET http://localhost:9200/_search/scroll?scroll=5m [status:200 request:7.889s]\n",
      "2017-02-24 20:25:45,882 : INFO : Documents Read: 15000\n"
     ]
    },
    {
     "name": "stdout",
     "output_type": "stream",
     "text": [
      "scroll size: 5000\n",
      "Scrolling...\n"
     ]
    },
    {
     "name": "stderr",
     "output_type": "stream",
     "text": [
      "2017-02-24 20:25:53,354 : INFO : GET http://localhost:9200/_search/scroll?scroll=5m [status:200 request:7.469s]\n",
      "2017-02-24 20:25:53,391 : INFO : Documents Read: 20000\n"
     ]
    },
    {
     "name": "stdout",
     "output_type": "stream",
     "text": [
      "scroll size: 5000\n",
      "Scrolling...\n"
     ]
    },
    {
     "name": "stderr",
     "output_type": "stream",
     "text": [
      "2017-02-24 20:26:00,884 : INFO : GET http://localhost:9200/_search/scroll?scroll=5m [status:200 request:7.490s]\n",
      "2017-02-24 20:26:00,924 : INFO : Documents Read: 25000\n"
     ]
    },
    {
     "name": "stdout",
     "output_type": "stream",
     "text": [
      "scroll size: 5000\n",
      "Scrolling...\n"
     ]
    },
    {
     "name": "stderr",
     "output_type": "stream",
     "text": [
      "2017-02-24 20:26:08,929 : INFO : GET http://localhost:9200/_search/scroll?scroll=5m [status:200 request:8.001s]\n",
      "2017-02-24 20:26:08,972 : INFO : Documents Read: 30000\n"
     ]
    },
    {
     "name": "stdout",
     "output_type": "stream",
     "text": [
      "scroll size: 5000\n",
      "Scrolling...\n"
     ]
    },
    {
     "name": "stderr",
     "output_type": "stream",
     "text": [
      "2017-02-24 20:26:17,365 : INFO : GET http://localhost:9200/_search/scroll?scroll=5m [status:200 request:8.391s]\n",
      "2017-02-24 20:26:17,425 : INFO : Documents Read: 35000\n"
     ]
    },
    {
     "name": "stdout",
     "output_type": "stream",
     "text": [
      "scroll size: 5000\n",
      "Scrolling...\n"
     ]
    },
    {
     "name": "stderr",
     "output_type": "stream",
     "text": [
      "2017-02-24 20:26:25,100 : INFO : GET http://localhost:9200/_search/scroll?scroll=5m [status:200 request:7.673s]\n",
      "2017-02-24 20:26:25,139 : INFO : Documents Read: 40000\n"
     ]
    },
    {
     "name": "stdout",
     "output_type": "stream",
     "text": [
      "scroll size: 5000\n",
      "Scrolling...\n"
     ]
    },
    {
     "name": "stderr",
     "output_type": "stream",
     "text": [
      "2017-02-24 20:26:32,793 : INFO : GET http://localhost:9200/_search/scroll?scroll=5m [status:200 request:7.652s]\n",
      "2017-02-24 20:26:32,838 : INFO : Documents Read: 45000\n"
     ]
    },
    {
     "name": "stdout",
     "output_type": "stream",
     "text": [
      "scroll size: 5000\n",
      "Scrolling...\n"
     ]
    },
    {
     "name": "stderr",
     "output_type": "stream",
     "text": [
      "2017-02-24 20:26:40,350 : INFO : GET http://localhost:9200/_search/scroll?scroll=5m [status:200 request:7.510s]\n",
      "2017-02-24 20:26:40,414 : INFO : Documents Read: 50000\n"
     ]
    },
    {
     "name": "stdout",
     "output_type": "stream",
     "text": [
      "scroll size: 5000\n",
      "Scrolling...\n"
     ]
    },
    {
     "name": "stderr",
     "output_type": "stream",
     "text": [
      "2017-02-24 20:26:49,296 : INFO : GET http://localhost:9200/_search/scroll?scroll=5m [status:200 request:8.880s]\n",
      "2017-02-24 20:26:49,331 : INFO : Documents Read: 55000\n"
     ]
    },
    {
     "name": "stdout",
     "output_type": "stream",
     "text": [
      "scroll size: 5000\n",
      "Scrolling...\n"
     ]
    },
    {
     "name": "stderr",
     "output_type": "stream",
     "text": [
      "2017-02-24 20:26:58,695 : INFO : GET http://localhost:9200/_search/scroll?scroll=5m [status:200 request:9.361s]\n",
      "2017-02-24 20:26:58,728 : INFO : Documents Read: 60000\n"
     ]
    },
    {
     "name": "stdout",
     "output_type": "stream",
     "text": [
      "scroll size: 5000\n",
      "Scrolling...\n"
     ]
    },
    {
     "name": "stderr",
     "output_type": "stream",
     "text": [
      "2017-02-24 20:27:08,128 : INFO : GET http://localhost:9200/_search/scroll?scroll=5m [status:200 request:9.397s]\n",
      "2017-02-24 20:27:08,158 : INFO : Documents Read: 65000\n"
     ]
    },
    {
     "name": "stdout",
     "output_type": "stream",
     "text": [
      "scroll size: 5000\n",
      "Scrolling...\n"
     ]
    },
    {
     "name": "stderr",
     "output_type": "stream",
     "text": [
      "2017-02-24 20:27:16,934 : INFO : GET http://localhost:9200/_search/scroll?scroll=5m [status:200 request:8.774s]\n",
      "2017-02-24 20:27:16,970 : INFO : Documents Read: 70000\n"
     ]
    },
    {
     "name": "stdout",
     "output_type": "stream",
     "text": [
      "scroll size: 5000\n",
      "Scrolling...\n"
     ]
    },
    {
     "name": "stderr",
     "output_type": "stream",
     "text": [
      "2017-02-24 20:27:26,196 : INFO : GET http://localhost:9200/_search/scroll?scroll=5m [status:200 request:9.224s]\n",
      "2017-02-24 20:27:26,227 : INFO : Documents Read: 75000\n"
     ]
    },
    {
     "name": "stdout",
     "output_type": "stream",
     "text": [
      "scroll size: 5000\n",
      "Scrolling...\n"
     ]
    },
    {
     "name": "stderr",
     "output_type": "stream",
     "text": [
      "2017-02-24 20:27:35,816 : INFO : GET http://localhost:9200/_search/scroll?scroll=5m [status:200 request:9.586s]\n",
      "2017-02-24 20:27:35,866 : INFO : Documents Read: 80000\n"
     ]
    },
    {
     "name": "stdout",
     "output_type": "stream",
     "text": [
      "scroll size: 5000\n",
      "Scrolling...\n"
     ]
    },
    {
     "name": "stderr",
     "output_type": "stream",
     "text": [
      "2017-02-24 20:27:46,064 : INFO : GET http://localhost:9200/_search/scroll?scroll=5m [status:200 request:10.196s]\n",
      "2017-02-24 20:27:46,094 : INFO : Documents Read: 85000\n"
     ]
    },
    {
     "name": "stdout",
     "output_type": "stream",
     "text": [
      "scroll size: 5000\n",
      "Scrolling...\n"
     ]
    },
    {
     "name": "stderr",
     "output_type": "stream",
     "text": [
      "2017-02-24 20:27:55,217 : INFO : GET http://localhost:9200/_search/scroll?scroll=5m [status:200 request:9.121s]\n",
      "2017-02-24 20:27:55,253 : INFO : Documents Read: 90000\n"
     ]
    },
    {
     "name": "stdout",
     "output_type": "stream",
     "text": [
      "scroll size: 5000\n",
      "Scrolling...\n"
     ]
    },
    {
     "name": "stderr",
     "output_type": "stream",
     "text": [
      "2017-02-24 20:28:04,757 : INFO : GET http://localhost:9200/_search/scroll?scroll=5m [status:200 request:9.502s]\n",
      "2017-02-24 20:28:04,788 : INFO : Documents Read: 95000\n"
     ]
    },
    {
     "name": "stdout",
     "output_type": "stream",
     "text": [
      "scroll size: 5000\n",
      "Scrolling...\n"
     ]
    },
    {
     "name": "stderr",
     "output_type": "stream",
     "text": [
      "2017-02-24 20:28:13,561 : INFO : GET http://localhost:9200/_search/scroll?scroll=5m [status:200 request:8.771s]\n",
      "2017-02-24 20:28:13,592 : INFO : Documents Read: 100000\n"
     ]
    },
    {
     "name": "stdout",
     "output_type": "stream",
     "text": [
      "scroll size: 5000\n",
      "Scrolling...\n"
     ]
    },
    {
     "name": "stderr",
     "output_type": "stream",
     "text": [
      "2017-02-24 20:28:22,585 : INFO : GET http://localhost:9200/_search/scroll?scroll=5m [status:200 request:8.990s]\n",
      "2017-02-24 20:28:22,615 : INFO : Documents Read: 105000\n"
     ]
    },
    {
     "name": "stdout",
     "output_type": "stream",
     "text": [
      "scroll size: 5000\n",
      "Scrolling...\n"
     ]
    },
    {
     "name": "stderr",
     "output_type": "stream",
     "text": [
      "2017-02-24 20:28:31,275 : INFO : GET http://localhost:9200/_search/scroll?scroll=5m [status:200 request:8.657s]\n",
      "2017-02-24 20:28:31,327 : INFO : Documents Read: 110000\n"
     ]
    },
    {
     "name": "stdout",
     "output_type": "stream",
     "text": [
      "scroll size: 5000\n",
      "Scrolling...\n"
     ]
    },
    {
     "name": "stderr",
     "output_type": "stream",
     "text": [
      "2017-02-24 20:28:40,184 : INFO : GET http://localhost:9200/_search/scroll?scroll=5m [status:200 request:8.855s]\n",
      "2017-02-24 20:28:40,219 : INFO : Documents Read: 115000\n"
     ]
    },
    {
     "name": "stdout",
     "output_type": "stream",
     "text": [
      "scroll size: 5000\n",
      "Scrolling...\n"
     ]
    },
    {
     "name": "stderr",
     "output_type": "stream",
     "text": [
      "2017-02-24 20:28:49,272 : INFO : GET http://localhost:9200/_search/scroll?scroll=5m [status:200 request:9.050s]\n",
      "2017-02-24 20:28:49,304 : INFO : Documents Read: 120000\n"
     ]
    },
    {
     "name": "stdout",
     "output_type": "stream",
     "text": [
      "scroll size: 5000\n",
      "Scrolling...\n"
     ]
    },
    {
     "name": "stderr",
     "output_type": "stream",
     "text": [
      "2017-02-24 20:28:58,041 : INFO : GET http://localhost:9200/_search/scroll?scroll=5m [status:200 request:8.735s]\n",
      "2017-02-24 20:28:58,073 : INFO : Documents Read: 125000\n"
     ]
    },
    {
     "name": "stdout",
     "output_type": "stream",
     "text": [
      "scroll size: 5000\n",
      "Scrolling...\n"
     ]
    },
    {
     "name": "stderr",
     "output_type": "stream",
     "text": [
      "2017-02-24 20:29:07,402 : INFO : GET http://localhost:9200/_search/scroll?scroll=5m [status:200 request:9.327s]\n",
      "2017-02-24 20:29:07,433 : INFO : Documents Read: 130000\n"
     ]
    },
    {
     "name": "stdout",
     "output_type": "stream",
     "text": [
      "scroll size: 5000\n",
      "Scrolling...\n"
     ]
    },
    {
     "name": "stderr",
     "output_type": "stream",
     "text": [
      "2017-02-24 20:29:16,176 : INFO : GET http://localhost:9200/_search/scroll?scroll=5m [status:200 request:8.740s]\n",
      "2017-02-24 20:29:16,207 : INFO : Documents Read: 135000\n"
     ]
    },
    {
     "name": "stdout",
     "output_type": "stream",
     "text": [
      "scroll size: 5000\n",
      "Scrolling...\n"
     ]
    },
    {
     "name": "stderr",
     "output_type": "stream",
     "text": [
      "2017-02-24 20:29:25,575 : INFO : GET http://localhost:9200/_search/scroll?scroll=5m [status:200 request:9.366s]\n",
      "2017-02-24 20:29:25,607 : INFO : Documents Read: 140000\n"
     ]
    },
    {
     "name": "stdout",
     "output_type": "stream",
     "text": [
      "scroll size: 5000\n",
      "Scrolling...\n"
     ]
    },
    {
     "name": "stderr",
     "output_type": "stream",
     "text": [
      "2017-02-24 20:29:34,526 : INFO : GET http://localhost:9200/_search/scroll?scroll=5m [status:200 request:8.917s]\n",
      "2017-02-24 20:29:34,573 : INFO : Documents Read: 145000\n"
     ]
    },
    {
     "name": "stdout",
     "output_type": "stream",
     "text": [
      "scroll size: 5000\n",
      "Scrolling...\n"
     ]
    },
    {
     "name": "stderr",
     "output_type": "stream",
     "text": [
      "2017-02-24 20:29:43,811 : INFO : GET http://localhost:9200/_search/scroll?scroll=5m [status:200 request:9.235s]\n",
      "2017-02-24 20:29:43,846 : INFO : Documents Read: 150000\n"
     ]
    },
    {
     "name": "stdout",
     "output_type": "stream",
     "text": [
      "scroll size: 5000\n",
      "Scrolling...\n"
     ]
    },
    {
     "name": "stderr",
     "output_type": "stream",
     "text": [
      "2017-02-24 20:29:53,288 : INFO : GET http://localhost:9200/_search/scroll?scroll=5m [status:200 request:9.440s]\n",
      "2017-02-24 20:29:53,327 : INFO : Documents Read: 155000\n"
     ]
    },
    {
     "name": "stdout",
     "output_type": "stream",
     "text": [
      "scroll size: 5000\n",
      "Scrolling...\n"
     ]
    },
    {
     "name": "stderr",
     "output_type": "stream",
     "text": [
      "2017-02-24 20:30:03,253 : INFO : GET http://localhost:9200/_search/scroll?scroll=5m [status:200 request:9.923s]\n",
      "2017-02-24 20:30:03,286 : INFO : Documents Read: 160000\n"
     ]
    },
    {
     "name": "stdout",
     "output_type": "stream",
     "text": [
      "scroll size: 5000\n",
      "Scrolling...\n"
     ]
    },
    {
     "name": "stderr",
     "output_type": "stream",
     "text": [
      "2017-02-24 20:30:12,335 : INFO : GET http://localhost:9200/_search/scroll?scroll=5m [status:200 request:9.047s]\n",
      "2017-02-24 20:30:12,367 : INFO : Documents Read: 165000\n"
     ]
    },
    {
     "name": "stdout",
     "output_type": "stream",
     "text": [
      "scroll size: 5000\n",
      "Scrolling...\n"
     ]
    },
    {
     "name": "stderr",
     "output_type": "stream",
     "text": [
      "2017-02-24 20:30:22,364 : INFO : GET http://localhost:9200/_search/scroll?scroll=5m [status:200 request:9.995s]\n",
      "2017-02-24 20:30:22,396 : INFO : Documents Read: 170000\n"
     ]
    },
    {
     "name": "stdout",
     "output_type": "stream",
     "text": [
      "scroll size: 5000\n",
      "Scrolling...\n"
     ]
    },
    {
     "name": "stderr",
     "output_type": "stream",
     "text": [
      "2017-02-24 20:30:31,101 : INFO : GET http://localhost:9200/_search/scroll?scroll=5m [status:200 request:8.702s]\n",
      "2017-02-24 20:30:31,163 : INFO : Documents Read: 175000\n"
     ]
    },
    {
     "name": "stdout",
     "output_type": "stream",
     "text": [
      "scroll size: 5000\n",
      "Scrolling...\n"
     ]
    },
    {
     "name": "stderr",
     "output_type": "stream",
     "text": [
      "2017-02-24 20:30:40,221 : INFO : GET http://localhost:9200/_search/scroll?scroll=5m [status:200 request:9.056s]\n",
      "2017-02-24 20:30:40,252 : INFO : Documents Read: 180000\n"
     ]
    },
    {
     "name": "stdout",
     "output_type": "stream",
     "text": [
      "scroll size: 5000\n",
      "Scrolling...\n"
     ]
    },
    {
     "name": "stderr",
     "output_type": "stream",
     "text": [
      "2017-02-24 20:30:49,421 : INFO : GET http://localhost:9200/_search/scroll?scroll=5m [status:200 request:9.167s]\n",
      "2017-02-24 20:30:49,451 : INFO : Documents Read: 185000\n"
     ]
    },
    {
     "name": "stdout",
     "output_type": "stream",
     "text": [
      "scroll size: 5000\n",
      "Scrolling...\n"
     ]
    },
    {
     "name": "stderr",
     "output_type": "stream",
     "text": [
      "2017-02-24 20:30:58,920 : INFO : GET http://localhost:9200/_search/scroll?scroll=5m [status:200 request:9.467s]\n",
      "2017-02-24 20:30:58,954 : INFO : Documents Read: 190000\n"
     ]
    },
    {
     "name": "stdout",
     "output_type": "stream",
     "text": [
      "scroll size: 5000\n",
      "Scrolling...\n"
     ]
    },
    {
     "name": "stderr",
     "output_type": "stream",
     "text": [
      "2017-02-24 20:31:08,442 : INFO : GET http://localhost:9200/_search/scroll?scroll=5m [status:200 request:9.485s]\n",
      "2017-02-24 20:31:08,475 : INFO : Documents Read: 195000\n"
     ]
    },
    {
     "name": "stdout",
     "output_type": "stream",
     "text": [
      "scroll size: 5000\n",
      "Scrolling...\n"
     ]
    },
    {
     "name": "stderr",
     "output_type": "stream",
     "text": [
      "2017-02-24 20:31:18,133 : INFO : GET http://localhost:9200/_search/scroll?scroll=5m [status:200 request:9.656s]\n",
      "2017-02-24 20:31:18,162 : INFO : Documents Read: 200000\n"
     ]
    },
    {
     "name": "stdout",
     "output_type": "stream",
     "text": [
      "scroll size: 5000\n",
      "Scrolling...\n"
     ]
    },
    {
     "name": "stderr",
     "output_type": "stream",
     "text": [
      "2017-02-24 20:31:27,416 : INFO : GET http://localhost:9200/_search/scroll?scroll=5m [status:200 request:9.251s]\n",
      "2017-02-24 20:31:27,479 : INFO : Documents Read: 205000\n"
     ]
    },
    {
     "name": "stdout",
     "output_type": "stream",
     "text": [
      "scroll size: 5000\n",
      "Scrolling...\n"
     ]
    },
    {
     "name": "stderr",
     "output_type": "stream",
     "text": [
      "2017-02-24 20:31:36,137 : INFO : GET http://localhost:9200/_search/scroll?scroll=5m [status:200 request:8.656s]\n",
      "2017-02-24 20:31:36,175 : INFO : Documents Read: 210000\n"
     ]
    },
    {
     "name": "stdout",
     "output_type": "stream",
     "text": [
      "scroll size: 5000\n",
      "Scrolling...\n"
     ]
    },
    {
     "name": "stderr",
     "output_type": "stream",
     "text": [
      "2017-02-24 20:31:45,392 : INFO : GET http://localhost:9200/_search/scroll?scroll=5m [status:200 request:9.215s]\n",
      "2017-02-24 20:31:45,425 : INFO : Documents Read: 215000\n"
     ]
    },
    {
     "name": "stdout",
     "output_type": "stream",
     "text": [
      "scroll size: 5000\n",
      "Scrolling...\n"
     ]
    },
    {
     "name": "stderr",
     "output_type": "stream",
     "text": [
      "2017-02-24 20:31:54,972 : INFO : GET http://localhost:9200/_search/scroll?scroll=5m [status:200 request:9.545s]\n",
      "2017-02-24 20:31:55,005 : INFO : Documents Read: 220000\n"
     ]
    },
    {
     "name": "stdout",
     "output_type": "stream",
     "text": [
      "scroll size: 5000\n",
      "Scrolling...\n"
     ]
    },
    {
     "name": "stderr",
     "output_type": "stream",
     "text": [
      "2017-02-24 20:32:03,682 : INFO : GET http://localhost:9200/_search/scroll?scroll=5m [status:200 request:8.675s]\n",
      "2017-02-24 20:32:03,713 : INFO : Documents Read: 225000\n"
     ]
    },
    {
     "name": "stdout",
     "output_type": "stream",
     "text": [
      "scroll size: 5000\n",
      "Scrolling...\n"
     ]
    },
    {
     "name": "stderr",
     "output_type": "stream",
     "text": [
      "2017-02-24 20:32:13,676 : INFO : GET http://localhost:9200/_search/scroll?scroll=5m [status:200 request:9.960s]\n",
      "2017-02-24 20:32:13,708 : INFO : Documents Read: 230000\n"
     ]
    },
    {
     "name": "stdout",
     "output_type": "stream",
     "text": [
      "scroll size: 5000\n",
      "Scrolling...\n"
     ]
    },
    {
     "name": "stderr",
     "output_type": "stream",
     "text": [
      "2017-02-24 20:32:23,557 : INFO : GET http://localhost:9200/_search/scroll?scroll=5m [status:200 request:9.846s]\n",
      "2017-02-24 20:32:23,589 : INFO : Documents Read: 235000\n"
     ]
    },
    {
     "name": "stdout",
     "output_type": "stream",
     "text": [
      "scroll size: 5000\n",
      "Scrolling...\n"
     ]
    },
    {
     "name": "stderr",
     "output_type": "stream",
     "text": [
      "2017-02-24 20:32:32,817 : INFO : GET http://localhost:9200/_search/scroll?scroll=5m [status:200 request:9.226s]\n",
      "2017-02-24 20:32:32,865 : INFO : Documents Read: 240000\n"
     ]
    },
    {
     "name": "stdout",
     "output_type": "stream",
     "text": [
      "scroll size: 5000\n",
      "Scrolling...\n"
     ]
    },
    {
     "name": "stderr",
     "output_type": "stream",
     "text": [
      "2017-02-24 20:32:42,359 : INFO : GET http://localhost:9200/_search/scroll?scroll=5m [status:200 request:9.491s]\n",
      "2017-02-24 20:32:42,390 : INFO : Documents Read: 245000\n"
     ]
    },
    {
     "name": "stdout",
     "output_type": "stream",
     "text": [
      "scroll size: 5000\n",
      "Scrolling...\n"
     ]
    },
    {
     "name": "stderr",
     "output_type": "stream",
     "text": [
      "2017-02-24 20:32:52,240 : INFO : GET http://localhost:9200/_search/scroll?scroll=5m [status:200 request:9.846s]\n",
      "2017-02-24 20:32:52,275 : INFO : Documents Read: 250000\n"
     ]
    },
    {
     "name": "stdout",
     "output_type": "stream",
     "text": [
      "scroll size: 5000\n",
      "Scrolling...\n"
     ]
    },
    {
     "name": "stderr",
     "output_type": "stream",
     "text": [
      "2017-02-24 20:33:02,013 : INFO : GET http://localhost:9200/_search/scroll?scroll=5m [status:200 request:9.736s]\n",
      "2017-02-24 20:33:02,058 : INFO : Documents Read: 255000\n"
     ]
    },
    {
     "name": "stdout",
     "output_type": "stream",
     "text": [
      "scroll size: 5000\n",
      "Scrolling...\n"
     ]
    },
    {
     "name": "stderr",
     "output_type": "stream",
     "text": [
      "2017-02-24 20:33:11,243 : INFO : GET http://localhost:9200/_search/scroll?scroll=5m [status:200 request:9.183s]\n",
      "2017-02-24 20:33:11,276 : INFO : Documents Read: 260000\n"
     ]
    },
    {
     "name": "stdout",
     "output_type": "stream",
     "text": [
      "scroll size: 5000\n",
      "Scrolling...\n"
     ]
    },
    {
     "name": "stderr",
     "output_type": "stream",
     "text": [
      "2017-02-24 20:33:19,839 : INFO : GET http://localhost:9200/_search/scroll?scroll=5m [status:200 request:8.560s]\n",
      "2017-02-24 20:33:19,873 : INFO : Documents Read: 265000\n"
     ]
    },
    {
     "name": "stdout",
     "output_type": "stream",
     "text": [
      "scroll size: 5000\n",
      "Scrolling...\n"
     ]
    },
    {
     "name": "stderr",
     "output_type": "stream",
     "text": [
      "2017-02-24 20:33:29,048 : INFO : GET http://localhost:9200/_search/scroll?scroll=5m [status:200 request:9.173s]\n",
      "2017-02-24 20:33:29,098 : INFO : Documents Read: 270000\n"
     ]
    },
    {
     "name": "stdout",
     "output_type": "stream",
     "text": [
      "scroll size: 5000\n",
      "Scrolling...\n"
     ]
    },
    {
     "name": "stderr",
     "output_type": "stream",
     "text": [
      "2017-02-24 20:33:37,857 : INFO : GET http://localhost:9200/_search/scroll?scroll=5m [status:200 request:8.756s]\n",
      "2017-02-24 20:33:37,887 : INFO : Documents Read: 275000\n"
     ]
    },
    {
     "name": "stdout",
     "output_type": "stream",
     "text": [
      "scroll size: 5000\n",
      "Scrolling...\n"
     ]
    },
    {
     "name": "stderr",
     "output_type": "stream",
     "text": [
      "2017-02-24 20:33:47,071 : INFO : GET http://localhost:9200/_search/scroll?scroll=5m [status:200 request:9.182s]\n",
      "2017-02-24 20:33:47,102 : INFO : Documents Read: 280000\n"
     ]
    },
    {
     "name": "stdout",
     "output_type": "stream",
     "text": [
      "scroll size: 5000\n",
      "Scrolling...\n"
     ]
    },
    {
     "name": "stderr",
     "output_type": "stream",
     "text": [
      "2017-02-24 20:33:56,182 : INFO : GET http://localhost:9200/_search/scroll?scroll=5m [status:200 request:9.078s]\n",
      "2017-02-24 20:33:56,215 : INFO : Documents Read: 285000\n"
     ]
    },
    {
     "name": "stdout",
     "output_type": "stream",
     "text": [
      "scroll size: 5000\n",
      "Scrolling...\n"
     ]
    },
    {
     "name": "stderr",
     "output_type": "stream",
     "text": [
      "2017-02-24 20:34:06,594 : INFO : GET http://localhost:9200/_search/scroll?scroll=5m [status:200 request:10.377s]\n",
      "2017-02-24 20:34:06,626 : INFO : Documents Read: 290000\n"
     ]
    },
    {
     "name": "stdout",
     "output_type": "stream",
     "text": [
      "scroll size: 5000\n",
      "Scrolling...\n"
     ]
    },
    {
     "name": "stderr",
     "output_type": "stream",
     "text": [
      "2017-02-24 20:34:15,843 : INFO : GET http://localhost:9200/_search/scroll?scroll=5m [status:200 request:9.214s]\n",
      "2017-02-24 20:34:15,873 : INFO : Documents Read: 295000\n"
     ]
    },
    {
     "name": "stdout",
     "output_type": "stream",
     "text": [
      "scroll size: 5000\n",
      "Scrolling...\n"
     ]
    },
    {
     "name": "stderr",
     "output_type": "stream",
     "text": [
      "2017-02-24 20:34:24,510 : INFO : GET http://localhost:9200/_search/scroll?scroll=5m [status:200 request:8.634s]\n",
      "2017-02-24 20:34:24,563 : INFO : Documents Read: 300000\n"
     ]
    },
    {
     "name": "stdout",
     "output_type": "stream",
     "text": [
      "scroll size: 5000\n",
      "Scrolling...\n"
     ]
    },
    {
     "name": "stderr",
     "output_type": "stream",
     "text": [
      "2017-02-24 20:34:34,102 : INFO : GET http://localhost:9200/_search/scroll?scroll=5m [status:200 request:9.537s]\n",
      "2017-02-24 20:34:34,135 : INFO : Documents Read: 305000\n"
     ]
    },
    {
     "name": "stdout",
     "output_type": "stream",
     "text": [
      "scroll size: 5000\n",
      "Scrolling...\n"
     ]
    },
    {
     "name": "stderr",
     "output_type": "stream",
     "text": [
      "2017-02-24 20:34:44,159 : INFO : GET http://localhost:9200/_search/scroll?scroll=5m [status:200 request:10.021s]\n",
      "2017-02-24 20:34:44,198 : INFO : Documents Read: 310000\n"
     ]
    },
    {
     "name": "stdout",
     "output_type": "stream",
     "text": [
      "scroll size: 5000\n",
      "Scrolling...\n"
     ]
    },
    {
     "name": "stderr",
     "output_type": "stream",
     "text": [
      "2017-02-24 20:34:54,468 : INFO : GET http://localhost:9200/_search/scroll?scroll=5m [status:200 request:10.267s]\n",
      "2017-02-24 20:34:54,499 : INFO : Documents Read: 315000\n"
     ]
    },
    {
     "name": "stdout",
     "output_type": "stream",
     "text": [
      "scroll size: 5000\n",
      "Scrolling...\n"
     ]
    },
    {
     "name": "stderr",
     "output_type": "stream",
     "text": [
      "2017-02-24 20:35:04,137 : INFO : GET http://localhost:9200/_search/scroll?scroll=5m [status:200 request:9.636s]\n",
      "2017-02-24 20:35:04,171 : INFO : Documents Read: 320000\n"
     ]
    },
    {
     "name": "stdout",
     "output_type": "stream",
     "text": [
      "scroll size: 5000\n",
      "Scrolling...\n"
     ]
    },
    {
     "name": "stderr",
     "output_type": "stream",
     "text": [
      "2017-02-24 20:35:14,420 : INFO : GET http://localhost:9200/_search/scroll?scroll=5m [status:200 request:10.247s]\n",
      "2017-02-24 20:35:14,452 : INFO : Documents Read: 325000\n"
     ]
    },
    {
     "name": "stdout",
     "output_type": "stream",
     "text": [
      "scroll size: 5000\n",
      "Scrolling...\n"
     ]
    },
    {
     "name": "stderr",
     "output_type": "stream",
     "text": [
      "2017-02-24 20:35:24,181 : INFO : GET http://localhost:9200/_search/scroll?scroll=5m [status:200 request:9.727s]\n",
      "2017-02-24 20:35:24,214 : INFO : Documents Read: 330000\n"
     ]
    },
    {
     "name": "stdout",
     "output_type": "stream",
     "text": [
      "scroll size: 5000\n",
      "Scrolling...\n"
     ]
    },
    {
     "name": "stderr",
     "output_type": "stream",
     "text": [
      "2017-02-24 20:35:34,100 : INFO : GET http://localhost:9200/_search/scroll?scroll=5m [status:200 request:9.884s]\n",
      "2017-02-24 20:35:34,150 : INFO : Documents Read: 335000\n"
     ]
    },
    {
     "name": "stdout",
     "output_type": "stream",
     "text": [
      "scroll size: 5000\n",
      "Scrolling...\n"
     ]
    },
    {
     "name": "stderr",
     "output_type": "stream",
     "text": [
      "2017-02-24 20:35:43,692 : INFO : GET http://localhost:9200/_search/scroll?scroll=5m [status:200 request:9.540s]\n",
      "2017-02-24 20:35:43,725 : INFO : Documents Read: 340000\n"
     ]
    },
    {
     "name": "stdout",
     "output_type": "stream",
     "text": [
      "scroll size: 5000\n",
      "Scrolling...\n"
     ]
    },
    {
     "name": "stderr",
     "output_type": "stream",
     "text": [
      "2017-02-24 20:35:53,606 : INFO : GET http://localhost:9200/_search/scroll?scroll=5m [status:200 request:9.878s]\n",
      "2017-02-24 20:35:53,645 : INFO : Documents Read: 345000\n"
     ]
    },
    {
     "name": "stdout",
     "output_type": "stream",
     "text": [
      "scroll size: 5000\n",
      "Scrolling...\n"
     ]
    },
    {
     "name": "stderr",
     "output_type": "stream",
     "text": [
      "2017-02-24 20:36:04,470 : INFO : GET http://localhost:9200/_search/scroll?scroll=5m [status:200 request:10.823s]\n",
      "2017-02-24 20:36:04,524 : INFO : Documents Read: 350000\n"
     ]
    },
    {
     "name": "stdout",
     "output_type": "stream",
     "text": [
      "scroll size: 5000\n",
      "Scrolling...\n"
     ]
    },
    {
     "name": "stderr",
     "output_type": "stream",
     "text": [
      "2017-02-24 20:36:14,667 : INFO : GET http://localhost:9200/_search/scroll?scroll=5m [status:200 request:10.141s]\n",
      "2017-02-24 20:36:14,704 : INFO : Documents Read: 355000\n"
     ]
    },
    {
     "name": "stdout",
     "output_type": "stream",
     "text": [
      "scroll size: 5000\n",
      "Scrolling...\n"
     ]
    },
    {
     "name": "stderr",
     "output_type": "stream",
     "text": [
      "2017-02-24 20:36:25,174 : INFO : GET http://localhost:9200/_search/scroll?scroll=5m [status:200 request:10.468s]\n",
      "2017-02-24 20:36:25,207 : INFO : Documents Read: 360000\n"
     ]
    },
    {
     "name": "stdout",
     "output_type": "stream",
     "text": [
      "scroll size: 5000\n",
      "Scrolling...\n"
     ]
    },
    {
     "name": "stderr",
     "output_type": "stream",
     "text": [
      "2017-02-24 20:36:35,311 : INFO : GET http://localhost:9200/_search/scroll?scroll=5m [status:200 request:10.102s]\n",
      "2017-02-24 20:36:35,360 : INFO : Documents Read: 365000\n"
     ]
    },
    {
     "name": "stdout",
     "output_type": "stream",
     "text": [
      "scroll size: 5000\n",
      "Scrolling...\n"
     ]
    },
    {
     "name": "stderr",
     "output_type": "stream",
     "text": [
      "2017-02-24 20:36:45,733 : INFO : GET http://localhost:9200/_search/scroll?scroll=5m [status:200 request:10.371s]\n",
      "2017-02-24 20:36:45,792 : INFO : Documents Read: 370000\n"
     ]
    },
    {
     "name": "stdout",
     "output_type": "stream",
     "text": [
      "scroll size: 5000\n",
      "Scrolling...\n"
     ]
    },
    {
     "name": "stderr",
     "output_type": "stream",
     "text": [
      "2017-02-24 20:36:56,069 : INFO : GET http://localhost:9200/_search/scroll?scroll=5m [status:200 request:10.275s]\n",
      "2017-02-24 20:36:56,103 : INFO : Documents Read: 375000\n"
     ]
    },
    {
     "name": "stdout",
     "output_type": "stream",
     "text": [
      "scroll size: 5000\n",
      "Scrolling...\n"
     ]
    },
    {
     "name": "stderr",
     "output_type": "stream",
     "text": [
      "2017-02-24 20:37:06,107 : INFO : GET http://localhost:9200/_search/scroll?scroll=5m [status:200 request:10.002s]\n",
      "2017-02-24 20:37:06,138 : INFO : Documents Read: 380000\n"
     ]
    },
    {
     "name": "stdout",
     "output_type": "stream",
     "text": [
      "scroll size: 5000\n",
      "Scrolling...\n"
     ]
    },
    {
     "name": "stderr",
     "output_type": "stream",
     "text": [
      "2017-02-24 20:37:16,505 : INFO : GET http://localhost:9200/_search/scroll?scroll=5m [status:200 request:10.365s]\n",
      "2017-02-24 20:37:16,536 : INFO : Documents Read: 385000\n"
     ]
    },
    {
     "name": "stdout",
     "output_type": "stream",
     "text": [
      "scroll size: 5000\n",
      "Scrolling...\n"
     ]
    },
    {
     "name": "stderr",
     "output_type": "stream",
     "text": [
      "2017-02-24 20:37:26,511 : INFO : GET http://localhost:9200/_search/scroll?scroll=5m [status:200 request:9.974s]\n",
      "2017-02-24 20:37:26,541 : INFO : Documents Read: 390000\n"
     ]
    },
    {
     "name": "stdout",
     "output_type": "stream",
     "text": [
      "scroll size: 5000\n",
      "Scrolling...\n"
     ]
    },
    {
     "name": "stderr",
     "output_type": "stream",
     "text": [
      "2017-02-24 20:37:37,159 : INFO : GET http://localhost:9200/_search/scroll?scroll=5m [status:200 request:10.616s]\n",
      "2017-02-24 20:37:37,212 : INFO : Documents Read: 395000\n"
     ]
    },
    {
     "name": "stdout",
     "output_type": "stream",
     "text": [
      "scroll size: 5000\n",
      "Scrolling...\n"
     ]
    },
    {
     "name": "stderr",
     "output_type": "stream",
     "text": [
      "2017-02-24 20:37:47,596 : INFO : GET http://localhost:9200/_search/scroll?scroll=5m [status:200 request:10.382s]\n",
      "2017-02-24 20:37:47,627 : INFO : Documents Read: 400000\n"
     ]
    },
    {
     "name": "stdout",
     "output_type": "stream",
     "text": [
      "scroll size: 5000\n",
      "Scrolling...\n"
     ]
    },
    {
     "name": "stderr",
     "output_type": "stream",
     "text": [
      "2017-02-24 20:37:57,420 : INFO : GET http://localhost:9200/_search/scroll?scroll=5m [status:200 request:9.791s]\n",
      "2017-02-24 20:37:57,455 : INFO : Documents Read: 405000\n"
     ]
    },
    {
     "name": "stdout",
     "output_type": "stream",
     "text": [
      "scroll size: 5000\n",
      "Scrolling...\n"
     ]
    },
    {
     "name": "stderr",
     "output_type": "stream",
     "text": [
      "2017-02-24 20:38:07,185 : INFO : GET http://localhost:9200/_search/scroll?scroll=5m [status:200 request:9.729s]\n",
      "2017-02-24 20:38:07,215 : INFO : Documents Read: 410000\n"
     ]
    },
    {
     "name": "stdout",
     "output_type": "stream",
     "text": [
      "scroll size: 5000\n",
      "Scrolling...\n"
     ]
    },
    {
     "name": "stderr",
     "output_type": "stream",
     "text": [
      "2017-02-24 20:38:17,131 : INFO : GET http://localhost:9200/_search/scroll?scroll=5m [status:200 request:9.914s]\n",
      "2017-02-24 20:38:17,187 : INFO : Documents Read: 415000\n"
     ]
    },
    {
     "name": "stdout",
     "output_type": "stream",
     "text": [
      "scroll size: 5000\n",
      "Scrolling...\n"
     ]
    },
    {
     "name": "stderr",
     "output_type": "stream",
     "text": [
      "2017-02-24 20:38:27,109 : INFO : GET http://localhost:9200/_search/scroll?scroll=5m [status:200 request:9.920s]\n",
      "2017-02-24 20:38:27,143 : INFO : Documents Read: 420000\n"
     ]
    },
    {
     "name": "stdout",
     "output_type": "stream",
     "text": [
      "scroll size: 5000\n",
      "Scrolling...\n"
     ]
    },
    {
     "name": "stderr",
     "output_type": "stream",
     "text": [
      "2017-02-24 20:38:37,214 : INFO : GET http://localhost:9200/_search/scroll?scroll=5m [status:200 request:10.069s]\n",
      "2017-02-24 20:38:37,245 : INFO : Documents Read: 425000\n"
     ]
    },
    {
     "name": "stdout",
     "output_type": "stream",
     "text": [
      "scroll size: 5000\n",
      "Scrolling...\n"
     ]
    },
    {
     "name": "stderr",
     "output_type": "stream",
     "text": [
      "2017-02-24 20:38:46,786 : INFO : GET http://localhost:9200/_search/scroll?scroll=5m [status:200 request:9.539s]\n",
      "2017-02-24 20:38:46,833 : INFO : Documents Read: 430000\n"
     ]
    },
    {
     "name": "stdout",
     "output_type": "stream",
     "text": [
      "scroll size: 5000\n",
      "Scrolling...\n"
     ]
    },
    {
     "name": "stderr",
     "output_type": "stream",
     "text": [
      "2017-02-24 20:38:57,469 : INFO : GET http://localhost:9200/_search/scroll?scroll=5m [status:200 request:10.634s]\n",
      "2017-02-24 20:38:57,501 : INFO : Documents Read: 435000\n"
     ]
    },
    {
     "name": "stdout",
     "output_type": "stream",
     "text": [
      "scroll size: 5000\n",
      "Scrolling...\n"
     ]
    },
    {
     "name": "stderr",
     "output_type": "stream",
     "text": [
      "2017-02-24 20:39:07,497 : INFO : GET http://localhost:9200/_search/scroll?scroll=5m [status:200 request:9.994s]\n",
      "2017-02-24 20:39:07,528 : INFO : Documents Read: 440000\n"
     ]
    },
    {
     "name": "stdout",
     "output_type": "stream",
     "text": [
      "scroll size: 5000\n",
      "Scrolling...\n"
     ]
    },
    {
     "name": "stderr",
     "output_type": "stream",
     "text": [
      "2017-02-24 20:39:17,700 : INFO : GET http://localhost:9200/_search/scroll?scroll=5m [status:200 request:10.170s]\n",
      "2017-02-24 20:39:17,731 : INFO : Documents Read: 445000\n"
     ]
    },
    {
     "name": "stdout",
     "output_type": "stream",
     "text": [
      "scroll size: 5000\n",
      "Scrolling...\n"
     ]
    },
    {
     "name": "stderr",
     "output_type": "stream",
     "text": [
      "2017-02-24 20:39:27,185 : INFO : GET http://localhost:9200/_search/scroll?scroll=5m [status:200 request:9.451s]\n",
      "2017-02-24 20:39:27,217 : INFO : Documents Read: 450000\n"
     ]
    },
    {
     "name": "stdout",
     "output_type": "stream",
     "text": [
      "scroll size: 5000\n",
      "Scrolling...\n"
     ]
    },
    {
     "name": "stderr",
     "output_type": "stream",
     "text": [
      "2017-02-24 20:39:36,983 : INFO : GET http://localhost:9200/_search/scroll?scroll=5m [status:200 request:9.764s]\n",
      "2017-02-24 20:39:37,014 : INFO : Documents Read: 455000\n"
     ]
    },
    {
     "name": "stdout",
     "output_type": "stream",
     "text": [
      "scroll size: 5000\n",
      "Scrolling...\n"
     ]
    },
    {
     "name": "stderr",
     "output_type": "stream",
     "text": [
      "2017-02-24 20:39:46,645 : INFO : GET http://localhost:9200/_search/scroll?scroll=5m [status:200 request:9.629s]\n",
      "2017-02-24 20:39:46,704 : INFO : Documents Read: 460000\n"
     ]
    },
    {
     "name": "stdout",
     "output_type": "stream",
     "text": [
      "scroll size: 5000\n",
      "Scrolling...\n"
     ]
    },
    {
     "name": "stderr",
     "output_type": "stream",
     "text": [
      "2017-02-24 20:39:57,176 : INFO : GET http://localhost:9200/_search/scroll?scroll=5m [status:200 request:10.470s]\n",
      "2017-02-24 20:39:57,209 : INFO : Documents Read: 465000\n"
     ]
    },
    {
     "name": "stdout",
     "output_type": "stream",
     "text": [
      "scroll size: 5000\n",
      "Scrolling...\n"
     ]
    },
    {
     "name": "stderr",
     "output_type": "stream",
     "text": [
      "2017-02-24 20:40:07,288 : INFO : GET http://localhost:9200/_search/scroll?scroll=5m [status:200 request:10.077s]\n",
      "2017-02-24 20:40:07,320 : INFO : Documents Read: 470000\n"
     ]
    },
    {
     "name": "stdout",
     "output_type": "stream",
     "text": [
      "scroll size: 5000\n",
      "Scrolling...\n"
     ]
    },
    {
     "name": "stderr",
     "output_type": "stream",
     "text": [
      "2017-02-24 20:40:17,237 : INFO : GET http://localhost:9200/_search/scroll?scroll=5m [status:200 request:9.915s]\n",
      "2017-02-24 20:40:17,269 : INFO : Documents Read: 475000\n"
     ]
    },
    {
     "name": "stdout",
     "output_type": "stream",
     "text": [
      "scroll size: 5000\n",
      "Scrolling...\n"
     ]
    },
    {
     "name": "stderr",
     "output_type": "stream",
     "text": [
      "2017-02-24 20:40:27,465 : INFO : GET http://localhost:9200/_search/scroll?scroll=5m [status:200 request:10.193s]\n",
      "2017-02-24 20:40:27,499 : INFO : Documents Read: 480000\n"
     ]
    },
    {
     "name": "stdout",
     "output_type": "stream",
     "text": [
      "scroll size: 5000\n",
      "Scrolling...\n"
     ]
    },
    {
     "name": "stderr",
     "output_type": "stream",
     "text": [
      "2017-02-24 20:40:36,701 : INFO : GET http://localhost:9200/_search/scroll?scroll=5m [status:200 request:9.200s]\n",
      "2017-02-24 20:40:36,731 : INFO : Documents Read: 485000\n"
     ]
    },
    {
     "name": "stdout",
     "output_type": "stream",
     "text": [
      "scroll size: 5000\n",
      "Scrolling...\n"
     ]
    },
    {
     "name": "stderr",
     "output_type": "stream",
     "text": [
      "2017-02-24 20:40:45,849 : INFO : GET http://localhost:9200/_search/scroll?scroll=5m [status:200 request:9.116s]\n",
      "2017-02-24 20:40:45,902 : INFO : Documents Read: 490000\n"
     ]
    },
    {
     "name": "stdout",
     "output_type": "stream",
     "text": [
      "scroll size: 5000\n",
      "Scrolling...\n"
     ]
    },
    {
     "name": "stderr",
     "output_type": "stream",
     "text": [
      "2017-02-24 20:40:55,143 : INFO : GET http://localhost:9200/_search/scroll?scroll=5m [status:200 request:9.239s]\n",
      "2017-02-24 20:40:55,174 : INFO : Documents Read: 495000\n"
     ]
    },
    {
     "name": "stdout",
     "output_type": "stream",
     "text": [
      "scroll size: 5000\n",
      "Scrolling...\n"
     ]
    },
    {
     "name": "stderr",
     "output_type": "stream",
     "text": [
      "2017-02-24 20:41:05,353 : INFO : GET http://localhost:9200/_search/scroll?scroll=5m [status:200 request:10.177s]\n",
      "2017-02-24 20:41:05,385 : INFO : Documents Read: 500000\n"
     ]
    },
    {
     "name": "stdout",
     "output_type": "stream",
     "text": [
      "scroll size: 5000\n",
      "Scrolling...\n"
     ]
    },
    {
     "name": "stderr",
     "output_type": "stream",
     "text": [
      "2017-02-24 20:41:15,132 : INFO : GET http://localhost:9200/_search/scroll?scroll=5m [status:200 request:9.746s]\n",
      "2017-02-24 20:41:15,162 : INFO : Documents Read: 505000\n"
     ]
    },
    {
     "name": "stdout",
     "output_type": "stream",
     "text": [
      "scroll size: 5000\n",
      "Scrolling...\n"
     ]
    },
    {
     "name": "stderr",
     "output_type": "stream",
     "text": [
      "2017-02-24 20:41:24,435 : INFO : GET http://localhost:9200/_search/scroll?scroll=5m [status:200 request:9.271s]\n",
      "2017-02-24 20:41:24,467 : INFO : Documents Read: 510000\n"
     ]
    },
    {
     "name": "stdout",
     "output_type": "stream",
     "text": [
      "scroll size: 5000\n",
      "Scrolling...\n"
     ]
    },
    {
     "name": "stderr",
     "output_type": "stream",
     "text": [
      "2017-02-24 20:41:34,677 : INFO : GET http://localhost:9200/_search/scroll?scroll=5m [status:200 request:10.208s]\n",
      "2017-02-24 20:41:34,714 : INFO : Documents Read: 515000\n"
     ]
    },
    {
     "name": "stdout",
     "output_type": "stream",
     "text": [
      "scroll size: 5000\n",
      "Scrolling...\n"
     ]
    },
    {
     "name": "stderr",
     "output_type": "stream",
     "text": [
      "2017-02-24 20:41:44,081 : INFO : GET http://localhost:9200/_search/scroll?scroll=5m [status:200 request:9.365s]\n",
      "2017-02-24 20:41:44,112 : INFO : Documents Read: 520000\n"
     ]
    },
    {
     "name": "stdout",
     "output_type": "stream",
     "text": [
      "scroll size: 5000\n",
      "Scrolling...\n"
     ]
    },
    {
     "name": "stderr",
     "output_type": "stream",
     "text": [
      "2017-02-24 20:41:54,051 : INFO : GET http://localhost:9200/_search/scroll?scroll=5m [status:200 request:9.937s]\n",
      "2017-02-24 20:41:54,114 : INFO : Documents Read: 525000\n"
     ]
    },
    {
     "name": "stdout",
     "output_type": "stream",
     "text": [
      "scroll size: 5000\n",
      "Scrolling...\n"
     ]
    },
    {
     "name": "stderr",
     "output_type": "stream",
     "text": [
      "2017-02-24 20:42:03,471 : INFO : GET http://localhost:9200/_search/scroll?scroll=5m [status:200 request:9.354s]\n",
      "2017-02-24 20:42:03,504 : INFO : Documents Read: 530000\n"
     ]
    },
    {
     "name": "stdout",
     "output_type": "stream",
     "text": [
      "scroll size: 5000\n",
      "Scrolling...\n"
     ]
    },
    {
     "name": "stderr",
     "output_type": "stream",
     "text": [
      "2017-02-24 20:42:13,012 : INFO : GET http://localhost:9200/_search/scroll?scroll=5m [status:200 request:9.506s]\n",
      "2017-02-24 20:42:13,047 : INFO : Documents Read: 535000\n"
     ]
    },
    {
     "name": "stdout",
     "output_type": "stream",
     "text": [
      "scroll size: 5000\n",
      "Scrolling...\n"
     ]
    },
    {
     "name": "stderr",
     "output_type": "stream",
     "text": [
      "2017-02-24 20:42:22,848 : INFO : GET http://localhost:9200/_search/scroll?scroll=5m [status:200 request:9.798s]\n",
      "2017-02-24 20:42:22,878 : INFO : Documents Read: 540000\n"
     ]
    },
    {
     "name": "stdout",
     "output_type": "stream",
     "text": [
      "scroll size: 5000\n",
      "Scrolling...\n"
     ]
    },
    {
     "name": "stderr",
     "output_type": "stream",
     "text": [
      "2017-02-24 20:42:32,208 : INFO : GET http://localhost:9200/_search/scroll?scroll=5m [status:200 request:9.329s]\n",
      "2017-02-24 20:42:32,263 : INFO : Documents Read: 545000\n"
     ]
    },
    {
     "name": "stdout",
     "output_type": "stream",
     "text": [
      "scroll size: 5000\n",
      "Scrolling...\n"
     ]
    },
    {
     "name": "stderr",
     "output_type": "stream",
     "text": [
      "2017-02-24 20:42:42,486 : INFO : GET http://localhost:9200/_search/scroll?scroll=5m [status:200 request:10.221s]\n",
      "2017-02-24 20:42:42,518 : INFO : Documents Read: 550000\n"
     ]
    },
    {
     "name": "stdout",
     "output_type": "stream",
     "text": [
      "scroll size: 5000\n",
      "Scrolling...\n"
     ]
    },
    {
     "name": "stderr",
     "output_type": "stream",
     "text": [
      "2017-02-24 20:42:51,491 : INFO : GET http://localhost:9200/_search/scroll?scroll=5m [status:200 request:8.970s]\n",
      "2017-02-24 20:42:51,545 : INFO : Documents Read: 555000\n"
     ]
    },
    {
     "name": "stdout",
     "output_type": "stream",
     "text": [
      "scroll size: 5000\n",
      "Scrolling...\n"
     ]
    },
    {
     "name": "stderr",
     "output_type": "stream",
     "text": [
      "2017-02-24 20:43:01,260 : INFO : GET http://localhost:9200/_search/scroll?scroll=5m [status:200 request:9.713s]\n",
      "2017-02-24 20:43:01,289 : INFO : Documents Read: 560000\n"
     ]
    },
    {
     "name": "stdout",
     "output_type": "stream",
     "text": [
      "scroll size: 5000\n",
      "Scrolling...\n"
     ]
    },
    {
     "name": "stderr",
     "output_type": "stream",
     "text": [
      "2017-02-24 20:43:10,792 : INFO : GET http://localhost:9200/_search/scroll?scroll=5m [status:200 request:9.500s]\n",
      "2017-02-24 20:43:10,823 : INFO : Documents Read: 565000\n"
     ]
    },
    {
     "name": "stdout",
     "output_type": "stream",
     "text": [
      "scroll size: 5000\n",
      "Scrolling...\n"
     ]
    },
    {
     "name": "stderr",
     "output_type": "stream",
     "text": [
      "2017-02-24 20:43:21,116 : INFO : GET http://localhost:9200/_search/scroll?scroll=5m [status:200 request:10.290s]\n",
      "2017-02-24 20:43:21,154 : INFO : Documents Read: 570000\n"
     ]
    },
    {
     "name": "stdout",
     "output_type": "stream",
     "text": [
      "scroll size: 5000\n",
      "Scrolling...\n"
     ]
    },
    {
     "name": "stderr",
     "output_type": "stream",
     "text": [
      "2017-02-24 20:43:30,884 : INFO : GET http://localhost:9200/_search/scroll?scroll=5m [status:200 request:9.728s]\n",
      "2017-02-24 20:43:30,916 : INFO : Documents Read: 575000\n"
     ]
    },
    {
     "name": "stdout",
     "output_type": "stream",
     "text": [
      "scroll size: 5000\n",
      "Scrolling...\n"
     ]
    },
    {
     "name": "stderr",
     "output_type": "stream",
     "text": [
      "2017-02-24 20:43:40,197 : INFO : GET http://localhost:9200/_search/scroll?scroll=5m [status:200 request:9.279s]\n",
      "2017-02-24 20:43:40,228 : INFO : Documents Read: 580000\n"
     ]
    },
    {
     "name": "stdout",
     "output_type": "stream",
     "text": [
      "scroll size: 5000\n",
      "Scrolling...\n"
     ]
    },
    {
     "name": "stderr",
     "output_type": "stream",
     "text": [
      "2017-02-24 20:43:49,465 : INFO : GET http://localhost:9200/_search/scroll?scroll=5m [status:200 request:9.235s]\n",
      "2017-02-24 20:43:49,519 : INFO : Documents Read: 585000\n"
     ]
    },
    {
     "name": "stdout",
     "output_type": "stream",
     "text": [
      "scroll size: 5000\n",
      "Scrolling...\n"
     ]
    },
    {
     "name": "stderr",
     "output_type": "stream",
     "text": [
      "2017-02-24 20:43:58,753 : INFO : GET http://localhost:9200/_search/scroll?scroll=5m [status:200 request:9.232s]\n",
      "2017-02-24 20:43:58,793 : INFO : Documents Read: 590000\n"
     ]
    },
    {
     "name": "stdout",
     "output_type": "stream",
     "text": [
      "scroll size: 5000\n",
      "Scrolling...\n"
     ]
    },
    {
     "name": "stderr",
     "output_type": "stream",
     "text": [
      "2017-02-24 20:44:08,173 : INFO : GET http://localhost:9200/_search/scroll?scroll=5m [status:200 request:9.377s]\n",
      "2017-02-24 20:44:08,204 : INFO : Documents Read: 595000\n"
     ]
    },
    {
     "name": "stdout",
     "output_type": "stream",
     "text": [
      "scroll size: 5000\n",
      "Scrolling...\n"
     ]
    },
    {
     "name": "stderr",
     "output_type": "stream",
     "text": [
      "2017-02-24 20:44:18,219 : INFO : GET http://localhost:9200/_search/scroll?scroll=5m [status:200 request:10.012s]\n",
      "2017-02-24 20:44:18,253 : INFO : Documents Read: 600000\n"
     ]
    },
    {
     "name": "stdout",
     "output_type": "stream",
     "text": [
      "scroll size: 5000\n",
      "Scrolling...\n"
     ]
    },
    {
     "name": "stderr",
     "output_type": "stream",
     "text": [
      "2017-02-24 20:44:27,275 : INFO : GET http://localhost:9200/_search/scroll?scroll=5m [status:200 request:9.019s]\n",
      "2017-02-24 20:44:27,310 : INFO : Documents Read: 605000\n"
     ]
    },
    {
     "name": "stdout",
     "output_type": "stream",
     "text": [
      "scroll size: 5000\n",
      "Scrolling...\n"
     ]
    },
    {
     "name": "stderr",
     "output_type": "stream",
     "text": [
      "2017-02-24 20:44:37,272 : INFO : GET http://localhost:9200/_search/scroll?scroll=5m [status:200 request:9.960s]\n",
      "2017-02-24 20:44:37,306 : INFO : Documents Read: 610000\n"
     ]
    },
    {
     "name": "stdout",
     "output_type": "stream",
     "text": [
      "scroll size: 5000\n",
      "Scrolling...\n"
     ]
    },
    {
     "name": "stderr",
     "output_type": "stream",
     "text": [
      "2017-02-24 20:44:46,038 : INFO : GET http://localhost:9200/_search/scroll?scroll=5m [status:200 request:8.729s]\n",
      "2017-02-24 20:44:46,070 : INFO : Documents Read: 615000\n"
     ]
    },
    {
     "name": "stdout",
     "output_type": "stream",
     "text": [
      "scroll size: 5000\n",
      "Scrolling...\n"
     ]
    },
    {
     "name": "stderr",
     "output_type": "stream",
     "text": [
      "2017-02-24 20:44:54,827 : INFO : GET http://localhost:9200/_search/scroll?scroll=5m [status:200 request:8.754s]\n",
      "2017-02-24 20:44:54,882 : INFO : Documents Read: 620000\n"
     ]
    },
    {
     "name": "stdout",
     "output_type": "stream",
     "text": [
      "scroll size: 5000\n",
      "Scrolling...\n"
     ]
    },
    {
     "name": "stderr",
     "output_type": "stream",
     "text": [
      "2017-02-24 20:45:04,090 : INFO : GET http://localhost:9200/_search/scroll?scroll=5m [status:200 request:9.206s]\n",
      "2017-02-24 20:45:04,122 : INFO : Documents Read: 625000\n"
     ]
    },
    {
     "name": "stdout",
     "output_type": "stream",
     "text": [
      "scroll size: 5000\n",
      "Scrolling...\n"
     ]
    },
    {
     "name": "stderr",
     "output_type": "stream",
     "text": [
      "2017-02-24 20:45:14,216 : INFO : GET http://localhost:9200/_search/scroll?scroll=5m [status:200 request:10.092s]\n",
      "2017-02-24 20:45:14,249 : INFO : Documents Read: 630000\n"
     ]
    },
    {
     "name": "stdout",
     "output_type": "stream",
     "text": [
      "scroll size: 5000\n",
      "Scrolling...\n"
     ]
    },
    {
     "name": "stderr",
     "output_type": "stream",
     "text": [
      "2017-02-24 20:45:24,107 : INFO : GET http://localhost:9200/_search/scroll?scroll=5m [status:200 request:9.855s]\n",
      "2017-02-24 20:45:24,137 : INFO : Documents Read: 635000\n"
     ]
    },
    {
     "name": "stdout",
     "output_type": "stream",
     "text": [
      "scroll size: 5000\n",
      "Scrolling...\n"
     ]
    },
    {
     "name": "stderr",
     "output_type": "stream",
     "text": [
      "2017-02-24 20:45:33,175 : INFO : GET http://localhost:9200/_search/scroll?scroll=5m [status:200 request:9.036s]\n",
      "2017-02-24 20:45:33,232 : INFO : Documents Read: 640000\n"
     ]
    },
    {
     "name": "stdout",
     "output_type": "stream",
     "text": [
      "scroll size: 5000\n",
      "Scrolling...\n"
     ]
    },
    {
     "name": "stderr",
     "output_type": "stream",
     "text": [
      "2017-02-24 20:45:43,312 : INFO : GET http://localhost:9200/_search/scroll?scroll=5m [status:200 request:10.077s]\n",
      "2017-02-24 20:45:43,363 : INFO : Documents Read: 645000\n"
     ]
    },
    {
     "name": "stdout",
     "output_type": "stream",
     "text": [
      "scroll size: 5000\n",
      "Scrolling...\n"
     ]
    },
    {
     "name": "stderr",
     "output_type": "stream",
     "text": [
      "2017-02-24 20:45:52,952 : INFO : GET http://localhost:9200/_search/scroll?scroll=5m [status:200 request:9.587s]\n",
      "2017-02-24 20:45:53,010 : INFO : Documents Read: 650000\n"
     ]
    },
    {
     "name": "stdout",
     "output_type": "stream",
     "text": [
      "scroll size: 5000\n",
      "Scrolling...\n"
     ]
    },
    {
     "name": "stderr",
     "output_type": "stream",
     "text": [
      "2017-02-24 20:46:02,623 : INFO : GET http://localhost:9200/_search/scroll?scroll=5m [status:200 request:9.610s]\n",
      "2017-02-24 20:46:02,656 : INFO : Documents Read: 655000\n"
     ]
    },
    {
     "name": "stdout",
     "output_type": "stream",
     "text": [
      "scroll size: 5000\n",
      "Scrolling...\n"
     ]
    },
    {
     "name": "stderr",
     "output_type": "stream",
     "text": [
      "2017-02-24 20:46:13,198 : INFO : GET http://localhost:9200/_search/scroll?scroll=5m [status:200 request:10.540s]\n",
      "2017-02-24 20:46:13,230 : INFO : Documents Read: 660000\n"
     ]
    },
    {
     "name": "stdout",
     "output_type": "stream",
     "text": [
      "scroll size: 5000\n",
      "Scrolling...\n"
     ]
    },
    {
     "name": "stderr",
     "output_type": "stream",
     "text": [
      "2017-02-24 20:46:23,162 : INFO : GET http://localhost:9200/_search/scroll?scroll=5m [status:200 request:9.930s]\n",
      "2017-02-24 20:46:23,195 : INFO : Documents Read: 665000\n"
     ]
    },
    {
     "name": "stdout",
     "output_type": "stream",
     "text": [
      "scroll size: 5000\n",
      "Scrolling...\n"
     ]
    },
    {
     "name": "stderr",
     "output_type": "stream",
     "text": [
      "2017-02-24 20:46:33,460 : INFO : GET http://localhost:9200/_search/scroll?scroll=5m [status:200 request:10.262s]\n",
      "2017-02-24 20:46:33,515 : INFO : Documents Read: 670000\n"
     ]
    },
    {
     "name": "stdout",
     "output_type": "stream",
     "text": [
      "scroll size: 5000\n",
      "Scrolling...\n"
     ]
    },
    {
     "name": "stderr",
     "output_type": "stream",
     "text": [
      "2017-02-24 20:46:43,267 : INFO : GET http://localhost:9200/_search/scroll?scroll=5m [status:200 request:9.750s]\n",
      "2017-02-24 20:46:43,309 : INFO : Documents Read: 675000\n"
     ]
    },
    {
     "name": "stdout",
     "output_type": "stream",
     "text": [
      "scroll size: 5000\n",
      "Scrolling...\n"
     ]
    },
    {
     "name": "stderr",
     "output_type": "stream",
     "text": [
      "2017-02-24 20:46:54,051 : INFO : GET http://localhost:9200/_search/scroll?scroll=5m [status:200 request:10.740s]\n",
      "2017-02-24 20:46:54,112 : INFO : Documents Read: 680000\n"
     ]
    },
    {
     "name": "stdout",
     "output_type": "stream",
     "text": [
      "scroll size: 5000\n",
      "Scrolling...\n"
     ]
    },
    {
     "name": "stderr",
     "output_type": "stream",
     "text": [
      "2017-02-24 20:47:04,630 : INFO : GET http://localhost:9200/_search/scroll?scroll=5m [status:200 request:10.515s]\n",
      "2017-02-24 20:47:04,665 : INFO : Documents Read: 685000\n"
     ]
    },
    {
     "name": "stdout",
     "output_type": "stream",
     "text": [
      "scroll size: 5000\n",
      "Scrolling...\n"
     ]
    },
    {
     "name": "stderr",
     "output_type": "stream",
     "text": [
      "2017-02-24 20:47:14,656 : INFO : GET http://localhost:9200/_search/scroll?scroll=5m [status:200 request:9.989s]\n",
      "2017-02-24 20:47:14,691 : INFO : Documents Read: 690000\n"
     ]
    },
    {
     "name": "stdout",
     "output_type": "stream",
     "text": [
      "scroll size: 5000\n",
      "Scrolling...\n"
     ]
    },
    {
     "name": "stderr",
     "output_type": "stream",
     "text": [
      "2017-02-24 20:47:25,054 : INFO : GET http://localhost:9200/_search/scroll?scroll=5m [status:200 request:10.361s]\n",
      "2017-02-24 20:47:25,094 : INFO : Documents Read: 695000\n"
     ]
    },
    {
     "name": "stdout",
     "output_type": "stream",
     "text": [
      "scroll size: 5000\n",
      "Scrolling...\n"
     ]
    },
    {
     "name": "stderr",
     "output_type": "stream",
     "text": [
      "2017-02-24 20:47:36,292 : INFO : GET http://localhost:9200/_search/scroll?scroll=5m [status:200 request:11.195s]\n",
      "2017-02-24 20:47:36,373 : INFO : Documents Read: 700000\n"
     ]
    },
    {
     "name": "stdout",
     "output_type": "stream",
     "text": [
      "scroll size: 5000\n",
      "Scrolling...\n"
     ]
    },
    {
     "name": "stderr",
     "output_type": "stream",
     "text": [
      "2017-02-24 20:47:46,347 : INFO : GET http://localhost:9200/_search/scroll?scroll=5m [status:200 request:9.972s]\n",
      "2017-02-24 20:47:46,379 : INFO : Documents Read: 705000\n"
     ]
    },
    {
     "name": "stdout",
     "output_type": "stream",
     "text": [
      "scroll size: 5000\n",
      "Scrolling...\n"
     ]
    },
    {
     "name": "stderr",
     "output_type": "stream",
     "text": [
      "2017-02-24 20:47:56,911 : INFO : GET http://localhost:9200/_search/scroll?scroll=5m [status:200 request:10.530s]\n",
      "2017-02-24 20:47:56,944 : INFO : Documents Read: 710000\n"
     ]
    },
    {
     "name": "stdout",
     "output_type": "stream",
     "text": [
      "scroll size: 5000\n",
      "Scrolling...\n"
     ]
    },
    {
     "name": "stderr",
     "output_type": "stream",
     "text": [
      "2017-02-24 20:48:08,553 : INFO : GET http://localhost:9200/_search/scroll?scroll=5m [status:200 request:11.607s]\n",
      "2017-02-24 20:48:08,618 : INFO : Documents Read: 715000\n"
     ]
    },
    {
     "name": "stdout",
     "output_type": "stream",
     "text": [
      "scroll size: 5000\n",
      "Scrolling...\n"
     ]
    },
    {
     "name": "stderr",
     "output_type": "stream",
     "text": [
      "2017-02-24 20:48:18,996 : INFO : GET http://localhost:9200/_search/scroll?scroll=5m [status:200 request:10.376s]\n",
      "2017-02-24 20:48:19,031 : INFO : Documents Read: 720000\n"
     ]
    },
    {
     "name": "stdout",
     "output_type": "stream",
     "text": [
      "scroll size: 5000\n",
      "Scrolling...\n"
     ]
    },
    {
     "name": "stderr",
     "output_type": "stream",
     "text": [
      "2017-02-24 20:48:29,288 : INFO : GET http://localhost:9200/_search/scroll?scroll=5m [status:200 request:10.255s]\n",
      "2017-02-24 20:48:29,344 : INFO : Documents Read: 725000\n"
     ]
    },
    {
     "name": "stdout",
     "output_type": "stream",
     "text": [
      "scroll size: 5000\n",
      "Scrolling...\n"
     ]
    },
    {
     "name": "stderr",
     "output_type": "stream",
     "text": [
      "2017-02-24 20:48:39,630 : INFO : GET http://localhost:9200/_search/scroll?scroll=5m [status:200 request:10.283s]\n",
      "2017-02-24 20:48:39,659 : INFO : Documents Read: 730000\n"
     ]
    },
    {
     "name": "stdout",
     "output_type": "stream",
     "text": [
      "scroll size: 5000\n",
      "Scrolling...\n"
     ]
    },
    {
     "name": "stderr",
     "output_type": "stream",
     "text": [
      "2017-02-24 20:48:50,670 : INFO : GET http://localhost:9200/_search/scroll?scroll=5m [status:200 request:11.009s]\n",
      "2017-02-24 20:48:50,705 : INFO : Documents Read: 735000\n"
     ]
    },
    {
     "name": "stdout",
     "output_type": "stream",
     "text": [
      "scroll size: 5000\n",
      "Scrolling...\n"
     ]
    },
    {
     "name": "stderr",
     "output_type": "stream",
     "text": [
      "2017-02-24 20:49:00,809 : INFO : GET http://localhost:9200/_search/scroll?scroll=5m [status:200 request:10.102s]\n",
      "2017-02-24 20:49:00,840 : INFO : Documents Read: 740000\n"
     ]
    },
    {
     "name": "stdout",
     "output_type": "stream",
     "text": [
      "scroll size: 5000\n",
      "Scrolling...\n"
     ]
    },
    {
     "name": "stderr",
     "output_type": "stream",
     "text": [
      "2017-02-24 20:49:11,055 : INFO : GET http://localhost:9200/_search/scroll?scroll=5m [status:200 request:10.213s]\n",
      "2017-02-24 20:49:11,107 : INFO : Documents Read: 745000\n"
     ]
    },
    {
     "name": "stdout",
     "output_type": "stream",
     "text": [
      "scroll size: 5000\n",
      "Scrolling...\n"
     ]
    },
    {
     "name": "stderr",
     "output_type": "stream",
     "text": [
      "2017-02-24 20:49:20,881 : INFO : GET http://localhost:9200/_search/scroll?scroll=5m [status:200 request:9.772s]\n",
      "2017-02-24 20:49:20,917 : INFO : Documents Read: 750000\n"
     ]
    },
    {
     "name": "stdout",
     "output_type": "stream",
     "text": [
      "scroll size: 5000\n",
      "Scrolling...\n"
     ]
    },
    {
     "name": "stderr",
     "output_type": "stream",
     "text": [
      "2017-02-24 20:49:30,477 : INFO : GET http://localhost:9200/_search/scroll?scroll=5m [status:200 request:9.558s]\n",
      "2017-02-24 20:49:30,535 : INFO : Documents Read: 755000\n"
     ]
    },
    {
     "name": "stdout",
     "output_type": "stream",
     "text": [
      "scroll size: 5000\n",
      "Scrolling...\n"
     ]
    },
    {
     "name": "stderr",
     "output_type": "stream",
     "text": [
      "2017-02-24 20:49:40,513 : INFO : GET http://localhost:9200/_search/scroll?scroll=5m [status:200 request:9.976s]\n",
      "2017-02-24 20:49:40,546 : INFO : Documents Read: 760000\n"
     ]
    },
    {
     "name": "stdout",
     "output_type": "stream",
     "text": [
      "scroll size: 5000\n",
      "Scrolling...\n"
     ]
    },
    {
     "name": "stderr",
     "output_type": "stream",
     "text": [
      "2017-02-24 20:49:50,448 : INFO : GET http://localhost:9200/_search/scroll?scroll=5m [status:200 request:9.899s]\n",
      "2017-02-24 20:49:50,479 : INFO : Documents Read: 765000\n"
     ]
    },
    {
     "name": "stdout",
     "output_type": "stream",
     "text": [
      "scroll size: 5000\n",
      "Scrolling...\n"
     ]
    },
    {
     "name": "stderr",
     "output_type": "stream",
     "text": [
      "2017-02-24 20:50:00,652 : INFO : GET http://localhost:9200/_search/scroll?scroll=5m [status:200 request:10.171s]\n",
      "2017-02-24 20:50:00,683 : INFO : Documents Read: 770000\n"
     ]
    },
    {
     "name": "stdout",
     "output_type": "stream",
     "text": [
      "scroll size: 5000\n",
      "Scrolling...\n"
     ]
    },
    {
     "name": "stderr",
     "output_type": "stream",
     "text": [
      "2017-02-24 20:50:10,577 : INFO : GET http://localhost:9200/_search/scroll?scroll=5m [status:200 request:9.892s]\n",
      "2017-02-24 20:50:10,632 : INFO : Documents Read: 775000\n"
     ]
    },
    {
     "name": "stdout",
     "output_type": "stream",
     "text": [
      "scroll size: 5000\n",
      "Scrolling...\n"
     ]
    },
    {
     "name": "stderr",
     "output_type": "stream",
     "text": [
      "2017-02-24 20:50:20,287 : INFO : GET http://localhost:9200/_search/scroll?scroll=5m [status:200 request:9.653s]\n",
      "2017-02-24 20:50:20,318 : INFO : Documents Read: 780000\n"
     ]
    },
    {
     "name": "stdout",
     "output_type": "stream",
     "text": [
      "scroll size: 5000\n",
      "Scrolling...\n"
     ]
    },
    {
     "name": "stderr",
     "output_type": "stream",
     "text": [
      "2017-02-24 20:50:30,118 : INFO : GET http://localhost:9200/_search/scroll?scroll=5m [status:200 request:9.798s]\n",
      "2017-02-24 20:50:30,163 : INFO : Documents Read: 785000\n"
     ]
    },
    {
     "name": "stdout",
     "output_type": "stream",
     "text": [
      "scroll size: 5000\n",
      "Scrolling...\n"
     ]
    },
    {
     "name": "stderr",
     "output_type": "stream",
     "text": [
      "2017-02-24 20:50:40,787 : INFO : GET http://localhost:9200/_search/scroll?scroll=5m [status:200 request:10.621s]\n",
      "2017-02-24 20:50:40,844 : INFO : Documents Read: 790000\n"
     ]
    },
    {
     "name": "stdout",
     "output_type": "stream",
     "text": [
      "scroll size: 5000\n",
      "Scrolling...\n"
     ]
    },
    {
     "name": "stderr",
     "output_type": "stream",
     "text": [
      "2017-02-24 20:50:50,913 : INFO : GET http://localhost:9200/_search/scroll?scroll=5m [status:200 request:10.067s]\n",
      "2017-02-24 20:50:50,945 : INFO : Documents Read: 795000\n"
     ]
    },
    {
     "name": "stdout",
     "output_type": "stream",
     "text": [
      "scroll size: 5000\n",
      "Scrolling...\n"
     ]
    },
    {
     "name": "stderr",
     "output_type": "stream",
     "text": [
      "2017-02-24 20:51:00,297 : INFO : GET http://localhost:9200/_search/scroll?scroll=5m [status:200 request:9.350s]\n",
      "2017-02-24 20:51:00,328 : INFO : Documents Read: 800000\n"
     ]
    },
    {
     "name": "stdout",
     "output_type": "stream",
     "text": [
      "scroll size: 5000\n",
      "Scrolling...\n"
     ]
    },
    {
     "name": "stderr",
     "output_type": "stream",
     "text": [
      "2017-02-24 20:51:10,524 : INFO : GET http://localhost:9200/_search/scroll?scroll=5m [status:200 request:10.194s]\n",
      "2017-02-24 20:51:10,557 : INFO : Documents Read: 805000\n"
     ]
    },
    {
     "name": "stdout",
     "output_type": "stream",
     "text": [
      "scroll size: 5000\n",
      "Scrolling...\n"
     ]
    },
    {
     "name": "stderr",
     "output_type": "stream",
     "text": [
      "2017-02-24 20:51:20,687 : INFO : GET http://localhost:9200/_search/scroll?scroll=5m [status:200 request:10.128s]\n",
      "2017-02-24 20:51:20,747 : INFO : Documents Read: 810000\n"
     ]
    },
    {
     "name": "stdout",
     "output_type": "stream",
     "text": [
      "scroll size: 5000\n",
      "Scrolling...\n"
     ]
    },
    {
     "name": "stderr",
     "output_type": "stream",
     "text": [
      "2017-02-24 20:51:31,045 : INFO : GET http://localhost:9200/_search/scroll?scroll=5m [status:200 request:10.296s]\n",
      "2017-02-24 20:51:31,093 : INFO : Documents Read: 815000\n"
     ]
    },
    {
     "name": "stdout",
     "output_type": "stream",
     "text": [
      "scroll size: 5000\n",
      "Scrolling...\n"
     ]
    },
    {
     "name": "stderr",
     "output_type": "stream",
     "text": [
      "2017-02-24 20:51:41,472 : INFO : GET http://localhost:9200/_search/scroll?scroll=5m [status:200 request:10.377s]\n",
      "2017-02-24 20:51:41,504 : INFO : Documents Read: 820000\n"
     ]
    },
    {
     "name": "stdout",
     "output_type": "stream",
     "text": [
      "scroll size: 5000\n",
      "Scrolling...\n"
     ]
    },
    {
     "name": "stderr",
     "output_type": "stream",
     "text": [
      "2017-02-24 20:51:51,844 : INFO : GET http://localhost:9200/_search/scroll?scroll=5m [status:200 request:10.338s]\n",
      "2017-02-24 20:51:51,876 : INFO : Documents Read: 825000\n"
     ]
    },
    {
     "name": "stdout",
     "output_type": "stream",
     "text": [
      "scroll size: 5000\n",
      "Scrolling...\n"
     ]
    },
    {
     "name": "stderr",
     "output_type": "stream",
     "text": [
      "2017-02-24 20:52:02,096 : INFO : GET http://localhost:9200/_search/scroll?scroll=5m [status:200 request:10.218s]\n",
      "2017-02-24 20:52:02,142 : INFO : Documents Read: 830000\n"
     ]
    },
    {
     "name": "stdout",
     "output_type": "stream",
     "text": [
      "scroll size: 5000\n",
      "Scrolling...\n"
     ]
    },
    {
     "name": "stderr",
     "output_type": "stream",
     "text": [
      "2017-02-24 20:52:12,179 : INFO : GET http://localhost:9200/_search/scroll?scroll=5m [status:200 request:10.034s]\n",
      "2017-02-24 20:52:12,228 : INFO : Documents Read: 835000\n"
     ]
    },
    {
     "name": "stdout",
     "output_type": "stream",
     "text": [
      "scroll size: 5000\n",
      "Scrolling...\n"
     ]
    },
    {
     "name": "stderr",
     "output_type": "stream",
     "text": [
      "2017-02-24 20:52:21,787 : INFO : GET http://localhost:9200/_search/scroll?scroll=5m [status:200 request:9.557s]\n",
      "2017-02-24 20:52:21,847 : INFO : Documents Read: 840000\n"
     ]
    },
    {
     "name": "stdout",
     "output_type": "stream",
     "text": [
      "scroll size: 5000\n",
      "Scrolling...\n"
     ]
    },
    {
     "name": "stderr",
     "output_type": "stream",
     "text": [
      "2017-02-24 20:52:31,934 : INFO : GET http://localhost:9200/_search/scroll?scroll=5m [status:200 request:10.085s]\n",
      "2017-02-24 20:52:32,034 : INFO : Documents Read: 845000\n"
     ]
    },
    {
     "name": "stdout",
     "output_type": "stream",
     "text": [
      "scroll size: 5000\n",
      "Scrolling...\n"
     ]
    },
    {
     "name": "stderr",
     "output_type": "stream",
     "text": [
      "2017-02-24 20:52:42,345 : INFO : GET http://localhost:9200/_search/scroll?scroll=5m [status:200 request:10.309s]\n",
      "2017-02-24 20:52:42,400 : INFO : Documents Read: 850000\n"
     ]
    },
    {
     "name": "stdout",
     "output_type": "stream",
     "text": [
      "scroll size: 5000\n",
      "Scrolling...\n"
     ]
    },
    {
     "name": "stderr",
     "output_type": "stream",
     "text": [
      "2017-02-24 20:52:51,949 : INFO : GET http://localhost:9200/_search/scroll?scroll=5m [status:200 request:9.547s]\n",
      "2017-02-24 20:52:52,003 : INFO : Documents Read: 855000\n"
     ]
    },
    {
     "name": "stdout",
     "output_type": "stream",
     "text": [
      "scroll size: 5000\n",
      "Scrolling...\n"
     ]
    },
    {
     "name": "stderr",
     "output_type": "stream",
     "text": [
      "2017-02-24 20:53:00,813 : INFO : GET http://localhost:9200/_search/scroll?scroll=5m [status:200 request:8.808s]\n",
      "2017-02-24 20:53:00,858 : INFO : Documents Read: 860000\n"
     ]
    },
    {
     "name": "stdout",
     "output_type": "stream",
     "text": [
      "scroll size: 5000\n",
      "Scrolling...\n"
     ]
    },
    {
     "name": "stderr",
     "output_type": "stream",
     "text": [
      "2017-02-24 20:53:10,448 : INFO : GET http://localhost:9200/_search/scroll?scroll=5m [status:200 request:9.587s]\n",
      "2017-02-24 20:53:10,512 : INFO : Documents Read: 865000\n"
     ]
    },
    {
     "name": "stdout",
     "output_type": "stream",
     "text": [
      "scroll size: 5000\n",
      "Scrolling...\n"
     ]
    },
    {
     "name": "stderr",
     "output_type": "stream",
     "text": [
      "2017-02-24 20:53:20,319 : INFO : GET http://localhost:9200/_search/scroll?scroll=5m [status:200 request:9.805s]\n",
      "2017-02-24 20:53:20,411 : INFO : Documents Read: 870000\n"
     ]
    },
    {
     "name": "stdout",
     "output_type": "stream",
     "text": [
      "scroll size: 5000\n",
      "Scrolling...\n"
     ]
    },
    {
     "name": "stderr",
     "output_type": "stream",
     "text": [
      "2017-02-24 20:53:30,589 : INFO : GET http://localhost:9200/_search/scroll?scroll=5m [status:200 request:10.176s]\n",
      "2017-02-24 20:53:30,636 : INFO : Documents Read: 875000\n"
     ]
    },
    {
     "name": "stdout",
     "output_type": "stream",
     "text": [
      "scroll size: 5000\n",
      "Scrolling...\n"
     ]
    },
    {
     "name": "stderr",
     "output_type": "stream",
     "text": [
      "2017-02-24 20:53:40,700 : INFO : GET http://localhost:9200/_search/scroll?scroll=5m [status:200 request:10.063s]\n",
      "2017-02-24 20:53:40,743 : INFO : Documents Read: 880000\n"
     ]
    },
    {
     "name": "stdout",
     "output_type": "stream",
     "text": [
      "scroll size: 5000\n",
      "Scrolling...\n"
     ]
    },
    {
     "name": "stderr",
     "output_type": "stream",
     "text": [
      "2017-02-24 20:53:51,016 : INFO : GET http://localhost:9200/_search/scroll?scroll=5m [status:200 request:10.271s]\n",
      "2017-02-24 20:53:51,066 : INFO : Documents Read: 885000\n"
     ]
    },
    {
     "name": "stdout",
     "output_type": "stream",
     "text": [
      "scroll size: 5000\n",
      "Scrolling...\n"
     ]
    },
    {
     "name": "stderr",
     "output_type": "stream",
     "text": [
      "2017-02-24 20:54:01,400 : INFO : GET http://localhost:9200/_search/scroll?scroll=5m [status:200 request:10.332s]\n",
      "2017-02-24 20:54:01,443 : INFO : Documents Read: 890000\n"
     ]
    },
    {
     "name": "stdout",
     "output_type": "stream",
     "text": [
      "scroll size: 5000\n",
      "Scrolling...\n"
     ]
    },
    {
     "name": "stderr",
     "output_type": "stream",
     "text": [
      "2017-02-24 20:54:11,703 : INFO : GET http://localhost:9200/_search/scroll?scroll=5m [status:200 request:10.258s]\n",
      "2017-02-24 20:54:11,751 : INFO : Documents Read: 895000\n"
     ]
    },
    {
     "name": "stdout",
     "output_type": "stream",
     "text": [
      "scroll size: 5000\n",
      "Scrolling...\n"
     ]
    },
    {
     "name": "stderr",
     "output_type": "stream",
     "text": [
      "2017-02-24 20:54:21,928 : INFO : GET http://localhost:9200/_search/scroll?scroll=5m [status:200 request:10.175s]\n",
      "2017-02-24 20:54:21,990 : INFO : Documents Read: 900000\n"
     ]
    },
    {
     "name": "stdout",
     "output_type": "stream",
     "text": [
      "scroll size: 5000\n",
      "Scrolling...\n"
     ]
    },
    {
     "name": "stderr",
     "output_type": "stream",
     "text": [
      "2017-02-24 20:54:31,396 : INFO : GET http://localhost:9200/_search/scroll?scroll=5m [status:200 request:9.403s]\n",
      "2017-02-24 20:54:31,536 : INFO : Documents Read: 905000\n"
     ]
    },
    {
     "name": "stdout",
     "output_type": "stream",
     "text": [
      "scroll size: 5000\n",
      "Scrolling...\n"
     ]
    },
    {
     "name": "stderr",
     "output_type": "stream",
     "text": [
      "2017-02-24 20:54:41,524 : INFO : GET http://localhost:9200/_search/scroll?scroll=5m [status:200 request:9.986s]\n",
      "2017-02-24 20:54:41,572 : INFO : Documents Read: 910000\n"
     ]
    },
    {
     "name": "stdout",
     "output_type": "stream",
     "text": [
      "scroll size: 5000\n",
      "Scrolling...\n"
     ]
    },
    {
     "name": "stderr",
     "output_type": "stream",
     "text": [
      "2017-02-24 20:54:51,761 : INFO : GET http://localhost:9200/_search/scroll?scroll=5m [status:200 request:10.187s]\n",
      "2017-02-24 20:54:51,812 : INFO : Documents Read: 915000\n"
     ]
    },
    {
     "name": "stdout",
     "output_type": "stream",
     "text": [
      "scroll size: 5000\n",
      "Scrolling...\n"
     ]
    },
    {
     "name": "stderr",
     "output_type": "stream",
     "text": [
      "2017-02-24 20:55:01,726 : INFO : GET http://localhost:9200/_search/scroll?scroll=5m [status:200 request:9.912s]\n",
      "2017-02-24 20:55:01,773 : INFO : Documents Read: 920000\n"
     ]
    },
    {
     "name": "stdout",
     "output_type": "stream",
     "text": [
      "scroll size: 5000\n",
      "Scrolling...\n"
     ]
    },
    {
     "name": "stderr",
     "output_type": "stream",
     "text": [
      "2017-02-24 20:55:10,897 : INFO : GET http://localhost:9200/_search/scroll?scroll=5m [status:200 request:9.122s]\n",
      "2017-02-24 20:55:10,953 : INFO : Documents Read: 925000\n"
     ]
    },
    {
     "name": "stdout",
     "output_type": "stream",
     "text": [
      "scroll size: 5000\n",
      "Scrolling...\n"
     ]
    },
    {
     "name": "stderr",
     "output_type": "stream",
     "text": [
      "2017-02-24 20:55:20,963 : INFO : GET http://localhost:9200/_search/scroll?scroll=5m [status:200 request:10.008s]\n",
      "2017-02-24 20:55:21,002 : INFO : Documents Read: 930000\n"
     ]
    },
    {
     "name": "stdout",
     "output_type": "stream",
     "text": [
      "scroll size: 5000\n",
      "Scrolling...\n"
     ]
    },
    {
     "name": "stderr",
     "output_type": "stream",
     "text": [
      "2017-02-24 20:55:30,023 : INFO : GET http://localhost:9200/_search/scroll?scroll=5m [status:200 request:9.019s]\n",
      "2017-02-24 20:55:30,122 : INFO : Documents Read: 935000\n"
     ]
    },
    {
     "name": "stdout",
     "output_type": "stream",
     "text": [
      "scroll size: 5000\n",
      "Scrolling...\n"
     ]
    },
    {
     "name": "stderr",
     "output_type": "stream",
     "text": [
      "2017-02-24 20:55:39,380 : INFO : GET http://localhost:9200/_search/scroll?scroll=5m [status:200 request:9.256s]\n",
      "2017-02-24 20:55:39,436 : INFO : Documents Read: 940000\n"
     ]
    },
    {
     "name": "stdout",
     "output_type": "stream",
     "text": [
      "scroll size: 5000\n",
      "Scrolling...\n"
     ]
    },
    {
     "name": "stderr",
     "output_type": "stream",
     "text": [
      "2017-02-24 20:55:48,484 : INFO : GET http://localhost:9200/_search/scroll?scroll=5m [status:200 request:9.047s]\n",
      "2017-02-24 20:55:48,517 : INFO : Documents Read: 945000\n"
     ]
    },
    {
     "name": "stdout",
     "output_type": "stream",
     "text": [
      "scroll size: 5000\n",
      "Scrolling...\n"
     ]
    },
    {
     "name": "stderr",
     "output_type": "stream",
     "text": [
      "2017-02-24 20:55:58,147 : INFO : GET http://localhost:9200/_search/scroll?scroll=5m [status:200 request:9.628s]\n",
      "2017-02-24 20:55:58,180 : INFO : Documents Read: 950000\n"
     ]
    },
    {
     "name": "stdout",
     "output_type": "stream",
     "text": [
      "scroll size: 5000\n",
      "Scrolling...\n"
     ]
    },
    {
     "name": "stderr",
     "output_type": "stream",
     "text": [
      "2017-02-24 20:56:08,089 : INFO : GET http://localhost:9200/_search/scroll?scroll=5m [status:200 request:9.907s]\n",
      "2017-02-24 20:56:08,121 : INFO : Documents Read: 955000\n"
     ]
    },
    {
     "name": "stdout",
     "output_type": "stream",
     "text": [
      "scroll size: 5000\n",
      "Scrolling...\n"
     ]
    },
    {
     "name": "stderr",
     "output_type": "stream",
     "text": [
      "2017-02-24 20:56:17,109 : INFO : GET http://localhost:9200/_search/scroll?scroll=5m [status:200 request:8.986s]\n",
      "2017-02-24 20:56:17,140 : INFO : Documents Read: 960000\n"
     ]
    },
    {
     "name": "stdout",
     "output_type": "stream",
     "text": [
      "scroll size: 5000\n",
      "Scrolling...\n"
     ]
    },
    {
     "name": "stderr",
     "output_type": "stream",
     "text": [
      "2017-02-24 20:56:25,802 : INFO : GET http://localhost:9200/_search/scroll?scroll=5m [status:200 request:8.660s]\n",
      "2017-02-24 20:56:25,935 : INFO : Documents Read: 965000\n"
     ]
    },
    {
     "name": "stdout",
     "output_type": "stream",
     "text": [
      "scroll size: 5000\n",
      "Scrolling...\n"
     ]
    },
    {
     "name": "stderr",
     "output_type": "stream",
     "text": [
      "2017-02-24 20:56:34,002 : INFO : GET http://localhost:9200/_search/scroll?scroll=5m [status:200 request:8.065s]\n",
      "2017-02-24 20:56:34,034 : INFO : Documents Read: 970000\n"
     ]
    },
    {
     "name": "stdout",
     "output_type": "stream",
     "text": [
      "scroll size: 5000\n",
      "Scrolling...\n"
     ]
    },
    {
     "name": "stderr",
     "output_type": "stream",
     "text": [
      "2017-02-24 20:56:42,040 : INFO : GET http://localhost:9200/_search/scroll?scroll=5m [status:200 request:8.004s]\n",
      "2017-02-24 20:56:42,072 : INFO : Documents Read: 975000\n"
     ]
    },
    {
     "name": "stdout",
     "output_type": "stream",
     "text": [
      "scroll size: 5000\n",
      "Scrolling...\n"
     ]
    },
    {
     "name": "stderr",
     "output_type": "stream",
     "text": [
      "2017-02-24 20:56:51,393 : INFO : GET http://localhost:9200/_search/scroll?scroll=5m [status:200 request:9.318s]\n",
      "2017-02-24 20:56:51,428 : INFO : Documents Read: 980000\n"
     ]
    },
    {
     "name": "stdout",
     "output_type": "stream",
     "text": [
      "scroll size: 5000\n",
      "Scrolling...\n"
     ]
    },
    {
     "name": "stderr",
     "output_type": "stream",
     "text": [
      "2017-02-24 20:57:00,641 : INFO : GET http://localhost:9200/_search/scroll?scroll=5m [status:200 request:9.211s]\n",
      "2017-02-24 20:57:00,673 : INFO : Documents Read: 985000\n"
     ]
    },
    {
     "name": "stdout",
     "output_type": "stream",
     "text": [
      "scroll size: 5000\n",
      "Scrolling...\n"
     ]
    },
    {
     "name": "stderr",
     "output_type": "stream",
     "text": [
      "2017-02-24 20:57:10,594 : INFO : GET http://localhost:9200/_search/scroll?scroll=5m [status:200 request:9.918s]\n",
      "2017-02-24 20:57:10,626 : INFO : Documents Read: 990000\n"
     ]
    },
    {
     "name": "stdout",
     "output_type": "stream",
     "text": [
      "scroll size: 5000\n",
      "Scrolling...\n"
     ]
    },
    {
     "name": "stderr",
     "output_type": "stream",
     "text": [
      "2017-02-24 20:57:20,156 : INFO : GET http://localhost:9200/_search/scroll?scroll=5m [status:200 request:9.528s]\n",
      "2017-02-24 20:57:20,188 : INFO : Documents Read: 995000\n"
     ]
    },
    {
     "name": "stdout",
     "output_type": "stream",
     "text": [
      "scroll size: 5000\n",
      "Scrolling...\n"
     ]
    },
    {
     "name": "stderr",
     "output_type": "stream",
     "text": [
      "2017-02-24 20:57:29,214 : INFO : GET http://localhost:9200/_search/scroll?scroll=5m [status:200 request:9.023s]\n",
      "2017-02-24 20:57:29,262 : INFO : Documents Read: 1000000\n"
     ]
    },
    {
     "name": "stdout",
     "output_type": "stream",
     "text": [
      "scroll size: 5000\n",
      "Scrolling...\n"
     ]
    },
    {
     "name": "stderr",
     "output_type": "stream",
     "text": [
      "2017-02-24 20:57:38,337 : INFO : GET http://localhost:9200/_search/scroll?scroll=5m [status:200 request:9.072s]\n",
      "2017-02-24 20:57:38,369 : INFO : Documents Read: 1005000\n"
     ]
    },
    {
     "name": "stdout",
     "output_type": "stream",
     "text": [
      "scroll size: 5000\n",
      "Scrolling...\n"
     ]
    },
    {
     "name": "stderr",
     "output_type": "stream",
     "text": [
      "2017-02-24 20:57:47,199 : INFO : GET http://localhost:9200/_search/scroll?scroll=5m [status:200 request:8.827s]\n",
      "2017-02-24 20:57:47,231 : INFO : Documents Read: 1010000\n"
     ]
    },
    {
     "name": "stdout",
     "output_type": "stream",
     "text": [
      "scroll size: 5000\n",
      "Scrolling...\n"
     ]
    },
    {
     "name": "stderr",
     "output_type": "stream",
     "text": [
      "2017-02-24 20:57:56,716 : INFO : GET http://localhost:9200/_search/scroll?scroll=5m [status:200 request:9.483s]\n",
      "2017-02-24 20:57:56,748 : INFO : Documents Read: 1015000\n"
     ]
    },
    {
     "name": "stdout",
     "output_type": "stream",
     "text": [
      "scroll size: 5000\n",
      "Scrolling...\n"
     ]
    },
    {
     "name": "stderr",
     "output_type": "stream",
     "text": [
      "2017-02-24 20:58:05,761 : INFO : GET http://localhost:9200/_search/scroll?scroll=5m [status:200 request:9.011s]\n",
      "2017-02-24 20:58:05,795 : INFO : Documents Read: 1020000\n"
     ]
    },
    {
     "name": "stdout",
     "output_type": "stream",
     "text": [
      "scroll size: 5000\n",
      "Scrolling...\n"
     ]
    },
    {
     "name": "stderr",
     "output_type": "stream",
     "text": [
      "2017-02-24 20:58:15,327 : INFO : GET http://localhost:9200/_search/scroll?scroll=5m [status:200 request:9.529s]\n",
      "2017-02-24 20:58:15,372 : INFO : Documents Read: 1025000\n"
     ]
    },
    {
     "name": "stdout",
     "output_type": "stream",
     "text": [
      "scroll size: 5000\n",
      "Scrolling...\n"
     ]
    },
    {
     "name": "stderr",
     "output_type": "stream",
     "text": [
      "2017-02-24 20:58:24,664 : INFO : GET http://localhost:9200/_search/scroll?scroll=5m [status:200 request:9.290s]\n",
      "2017-02-24 20:58:24,716 : INFO : Documents Read: 1030000\n"
     ]
    },
    {
     "name": "stdout",
     "output_type": "stream",
     "text": [
      "scroll size: 5000\n",
      "Scrolling...\n"
     ]
    },
    {
     "name": "stderr",
     "output_type": "stream",
     "text": [
      "2017-02-24 20:58:34,493 : INFO : GET http://localhost:9200/_search/scroll?scroll=5m [status:200 request:9.775s]\n",
      "2017-02-24 20:58:34,526 : INFO : Documents Read: 1035000\n"
     ]
    },
    {
     "name": "stdout",
     "output_type": "stream",
     "text": [
      "scroll size: 5000\n",
      "Scrolling...\n"
     ]
    },
    {
     "name": "stderr",
     "output_type": "stream",
     "text": [
      "2017-02-24 20:58:43,770 : INFO : GET http://localhost:9200/_search/scroll?scroll=5m [status:200 request:9.242s]\n",
      "2017-02-24 20:58:43,802 : INFO : Documents Read: 1040000\n"
     ]
    },
    {
     "name": "stdout",
     "output_type": "stream",
     "text": [
      "scroll size: 5000\n",
      "Scrolling...\n"
     ]
    },
    {
     "name": "stderr",
     "output_type": "stream",
     "text": [
      "2017-02-24 20:58:52,337 : INFO : GET http://localhost:9200/_search/scroll?scroll=5m [status:200 request:8.533s]\n",
      "2017-02-24 20:58:52,371 : INFO : Documents Read: 1045000\n"
     ]
    },
    {
     "name": "stdout",
     "output_type": "stream",
     "text": [
      "scroll size: 5000\n",
      "Scrolling...\n"
     ]
    },
    {
     "name": "stderr",
     "output_type": "stream",
     "text": [
      "2017-02-24 20:59:03,385 : INFO : GET http://localhost:9200/_search/scroll?scroll=5m [status:200 request:11.012s]\n",
      "2017-02-24 20:59:03,417 : INFO : Documents Read: 1050000\n"
     ]
    },
    {
     "name": "stdout",
     "output_type": "stream",
     "text": [
      "scroll size: 5000\n",
      "Scrolling...\n"
     ]
    },
    {
     "name": "stderr",
     "output_type": "stream",
     "text": [
      "2017-02-24 20:59:13,079 : INFO : GET http://localhost:9200/_search/scroll?scroll=5m [status:200 request:9.660s]\n",
      "2017-02-24 20:59:13,110 : INFO : Documents Read: 1055000\n"
     ]
    },
    {
     "name": "stdout",
     "output_type": "stream",
     "text": [
      "scroll size: 5000\n",
      "Scrolling...\n"
     ]
    },
    {
     "name": "stderr",
     "output_type": "stream",
     "text": [
      "2017-02-24 20:59:21,449 : INFO : GET http://localhost:9200/_search/scroll?scroll=5m [status:200 request:8.337s]\n",
      "2017-02-24 20:59:21,501 : INFO : Documents Read: 1060000\n"
     ]
    },
    {
     "name": "stdout",
     "output_type": "stream",
     "text": [
      "scroll size: 5000\n",
      "Scrolling...\n"
     ]
    },
    {
     "name": "stderr",
     "output_type": "stream",
     "text": [
      "2017-02-24 20:59:30,020 : INFO : GET http://localhost:9200/_search/scroll?scroll=5m [status:200 request:8.517s]\n",
      "2017-02-24 20:59:30,052 : INFO : Documents Read: 1065000\n"
     ]
    },
    {
     "name": "stdout",
     "output_type": "stream",
     "text": [
      "scroll size: 5000\n",
      "Scrolling...\n"
     ]
    },
    {
     "name": "stderr",
     "output_type": "stream",
     "text": [
      "2017-02-24 20:59:38,738 : INFO : GET http://localhost:9200/_search/scroll?scroll=5m [status:200 request:8.684s]\n",
      "2017-02-24 20:59:38,771 : INFO : Documents Read: 1070000\n"
     ]
    },
    {
     "name": "stdout",
     "output_type": "stream",
     "text": [
      "scroll size: 5000\n",
      "Scrolling...\n"
     ]
    },
    {
     "name": "stderr",
     "output_type": "stream",
     "text": [
      "2017-02-24 20:59:47,831 : INFO : GET http://localhost:9200/_search/scroll?scroll=5m [status:200 request:9.058s]\n",
      "2017-02-24 20:59:47,862 : INFO : Documents Read: 1075000\n"
     ]
    },
    {
     "name": "stdout",
     "output_type": "stream",
     "text": [
      "scroll size: 5000\n",
      "Scrolling...\n"
     ]
    },
    {
     "name": "stderr",
     "output_type": "stream",
     "text": [
      "2017-02-24 20:59:56,414 : INFO : GET http://localhost:9200/_search/scroll?scroll=5m [status:200 request:8.550s]\n",
      "2017-02-24 20:59:56,446 : INFO : Documents Read: 1080000\n"
     ]
    },
    {
     "name": "stdout",
     "output_type": "stream",
     "text": [
      "scroll size: 5000\n",
      "Scrolling...\n"
     ]
    },
    {
     "name": "stderr",
     "output_type": "stream",
     "text": [
      "2017-02-24 21:00:05,482 : INFO : GET http://localhost:9200/_search/scroll?scroll=5m [status:200 request:9.033s]\n",
      "2017-02-24 21:00:05,538 : INFO : Documents Read: 1085000\n"
     ]
    },
    {
     "name": "stdout",
     "output_type": "stream",
     "text": [
      "scroll size: 5000\n",
      "Scrolling...\n"
     ]
    },
    {
     "name": "stderr",
     "output_type": "stream",
     "text": [
      "2017-02-24 21:00:14,453 : INFO : GET http://localhost:9200/_search/scroll?scroll=5m [status:200 request:8.913s]\n",
      "2017-02-24 21:00:14,486 : INFO : Documents Read: 1090000\n"
     ]
    },
    {
     "name": "stdout",
     "output_type": "stream",
     "text": [
      "scroll size: 5000\n",
      "Scrolling...\n"
     ]
    },
    {
     "name": "stderr",
     "output_type": "stream",
     "text": [
      "2017-02-24 21:00:23,972 : INFO : GET http://localhost:9200/_search/scroll?scroll=5m [status:200 request:9.483s]\n",
      "2017-02-24 21:00:24,021 : INFO : Documents Read: 1095000\n"
     ]
    },
    {
     "name": "stdout",
     "output_type": "stream",
     "text": [
      "scroll size: 5000\n",
      "Scrolling...\n"
     ]
    },
    {
     "name": "stderr",
     "output_type": "stream",
     "text": [
      "2017-02-24 21:00:32,292 : INFO : GET http://localhost:9200/_search/scroll?scroll=5m [status:200 request:8.269s]\n",
      "2017-02-24 21:00:32,324 : INFO : Documents Read: 1100000\n"
     ]
    },
    {
     "name": "stdout",
     "output_type": "stream",
     "text": [
      "scroll size: 5000\n",
      "Scrolling...\n"
     ]
    },
    {
     "name": "stderr",
     "output_type": "stream",
     "text": [
      "2017-02-24 21:00:41,576 : INFO : GET http://localhost:9200/_search/scroll?scroll=5m [status:200 request:9.249s]\n",
      "2017-02-24 21:00:41,613 : INFO : Documents Read: 1105000\n"
     ]
    },
    {
     "name": "stdout",
     "output_type": "stream",
     "text": [
      "scroll size: 5000\n",
      "Scrolling...\n"
     ]
    },
    {
     "name": "stderr",
     "output_type": "stream",
     "text": [
      "2017-02-24 21:00:50,957 : INFO : GET http://localhost:9200/_search/scroll?scroll=5m [status:200 request:9.341s]\n",
      "2017-02-24 21:00:51,013 : INFO : Documents Read: 1110000\n"
     ]
    },
    {
     "name": "stdout",
     "output_type": "stream",
     "text": [
      "scroll size: 5000\n",
      "Scrolling...\n"
     ]
    },
    {
     "name": "stderr",
     "output_type": "stream",
     "text": [
      "2017-02-24 21:00:59,869 : INFO : GET http://localhost:9200/_search/scroll?scroll=5m [status:200 request:8.854s]\n",
      "2017-02-24 21:00:59,938 : INFO : Documents Read: 1115000\n"
     ]
    },
    {
     "name": "stdout",
     "output_type": "stream",
     "text": [
      "scroll size: 5000\n",
      "Scrolling...\n"
     ]
    },
    {
     "name": "stderr",
     "output_type": "stream",
     "text": [
      "2017-02-24 21:01:08,880 : INFO : GET http://localhost:9200/_search/scroll?scroll=5m [status:200 request:8.940s]\n",
      "2017-02-24 21:01:08,913 : INFO : Documents Read: 1120000\n"
     ]
    },
    {
     "name": "stdout",
     "output_type": "stream",
     "text": [
      "scroll size: 5000\n",
      "Scrolling...\n"
     ]
    },
    {
     "name": "stderr",
     "output_type": "stream",
     "text": [
      "2017-02-24 21:01:18,595 : INFO : GET http://localhost:9200/_search/scroll?scroll=5m [status:200 request:9.680s]\n",
      "2017-02-24 21:01:18,654 : INFO : Documents Read: 1125000\n"
     ]
    },
    {
     "name": "stdout",
     "output_type": "stream",
     "text": [
      "scroll size: 5000\n",
      "Scrolling...\n"
     ]
    },
    {
     "name": "stderr",
     "output_type": "stream",
     "text": [
      "2017-02-24 21:01:28,444 : INFO : GET http://localhost:9200/_search/scroll?scroll=5m [status:200 request:9.789s]\n",
      "2017-02-24 21:01:28,497 : INFO : Documents Read: 1130000\n"
     ]
    },
    {
     "name": "stdout",
     "output_type": "stream",
     "text": [
      "scroll size: 5000\n",
      "Scrolling...\n"
     ]
    },
    {
     "name": "stderr",
     "output_type": "stream",
     "text": [
      "2017-02-24 21:01:38,513 : INFO : GET http://localhost:9200/_search/scroll?scroll=5m [status:200 request:10.014s]\n",
      "2017-02-24 21:01:38,553 : INFO : Documents Read: 1135000\n"
     ]
    },
    {
     "name": "stdout",
     "output_type": "stream",
     "text": [
      "scroll size: 5000\n",
      "Scrolling...\n"
     ]
    },
    {
     "name": "stderr",
     "output_type": "stream",
     "text": [
      "2017-02-24 21:01:48,201 : INFO : GET http://localhost:9200/_search/scroll?scroll=5m [status:200 request:9.646s]\n",
      "2017-02-24 21:01:48,233 : INFO : Documents Read: 1140000\n"
     ]
    },
    {
     "name": "stdout",
     "output_type": "stream",
     "text": [
      "scroll size: 5000\n",
      "Scrolling...\n"
     ]
    },
    {
     "name": "stderr",
     "output_type": "stream",
     "text": [
      "2017-02-24 21:01:57,838 : INFO : GET http://localhost:9200/_search/scroll?scroll=5m [status:200 request:9.603s]\n",
      "2017-02-24 21:01:57,871 : INFO : Documents Read: 1145000\n"
     ]
    },
    {
     "name": "stdout",
     "output_type": "stream",
     "text": [
      "scroll size: 5000\n",
      "Scrolling...\n"
     ]
    },
    {
     "name": "stderr",
     "output_type": "stream",
     "text": [
      "2017-02-24 21:02:07,860 : INFO : GET http://localhost:9200/_search/scroll?scroll=5m [status:200 request:9.987s]\n",
      "2017-02-24 21:02:07,892 : INFO : Documents Read: 1150000\n"
     ]
    },
    {
     "name": "stdout",
     "output_type": "stream",
     "text": [
      "scroll size: 5000\n",
      "Scrolling...\n"
     ]
    },
    {
     "name": "stderr",
     "output_type": "stream",
     "text": [
      "2017-02-24 21:02:18,274 : INFO : GET http://localhost:9200/_search/scroll?scroll=5m [status:200 request:10.380s]\n",
      "2017-02-24 21:02:18,328 : INFO : Documents Read: 1155000\n"
     ]
    },
    {
     "name": "stdout",
     "output_type": "stream",
     "text": [
      "scroll size: 5000\n",
      "Scrolling...\n"
     ]
    },
    {
     "name": "stderr",
     "output_type": "stream",
     "text": [
      "2017-02-24 21:02:28,015 : INFO : GET http://localhost:9200/_search/scroll?scroll=5m [status:200 request:9.684s]\n",
      "2017-02-24 21:02:28,049 : INFO : Documents Read: 1160000\n"
     ]
    },
    {
     "name": "stdout",
     "output_type": "stream",
     "text": [
      "scroll size: 5000\n",
      "Scrolling...\n"
     ]
    },
    {
     "name": "stderr",
     "output_type": "stream",
     "text": [
      "2017-02-24 21:02:37,761 : INFO : GET http://localhost:9200/_search/scroll?scroll=5m [status:200 request:9.711s]\n",
      "2017-02-24 21:02:37,799 : INFO : Documents Read: 1165000\n"
     ]
    },
    {
     "name": "stdout",
     "output_type": "stream",
     "text": [
      "scroll size: 5000\n",
      "Scrolling...\n"
     ]
    },
    {
     "name": "stderr",
     "output_type": "stream",
     "text": [
      "2017-02-24 21:02:47,955 : INFO : GET http://localhost:9200/_search/scroll?scroll=5m [status:200 request:10.154s]\n",
      "2017-02-24 21:02:47,986 : INFO : Documents Read: 1170000\n"
     ]
    },
    {
     "name": "stdout",
     "output_type": "stream",
     "text": [
      "scroll size: 5000\n",
      "Scrolling...\n"
     ]
    },
    {
     "name": "stderr",
     "output_type": "stream",
     "text": [
      "2017-02-24 21:02:57,481 : INFO : GET http://localhost:9200/_search/scroll?scroll=5m [status:200 request:9.493s]\n",
      "2017-02-24 21:02:57,518 : INFO : Documents Read: 1175000\n"
     ]
    },
    {
     "name": "stdout",
     "output_type": "stream",
     "text": [
      "scroll size: 5000\n",
      "Scrolling...\n"
     ]
    },
    {
     "name": "stderr",
     "output_type": "stream",
     "text": [
      "2017-02-24 21:03:07,357 : INFO : GET http://localhost:9200/_search/scroll?scroll=5m [status:200 request:9.837s]\n",
      "2017-02-24 21:03:07,389 : INFO : Documents Read: 1180000\n"
     ]
    },
    {
     "name": "stdout",
     "output_type": "stream",
     "text": [
      "scroll size: 5000\n",
      "Scrolling...\n"
     ]
    },
    {
     "name": "stderr",
     "output_type": "stream",
     "text": [
      "2017-02-24 21:03:17,305 : INFO : GET http://localhost:9200/_search/scroll?scroll=5m [status:200 request:9.914s]\n",
      "2017-02-24 21:03:17,337 : INFO : Documents Read: 1185000\n"
     ]
    },
    {
     "name": "stdout",
     "output_type": "stream",
     "text": [
      "scroll size: 5000\n",
      "Scrolling...\n"
     ]
    },
    {
     "name": "stderr",
     "output_type": "stream",
     "text": [
      "2017-02-24 21:03:26,973 : INFO : GET http://localhost:9200/_search/scroll?scroll=5m [status:200 request:9.633s]\n",
      "2017-02-24 21:03:27,023 : INFO : Documents Read: 1190000\n"
     ]
    },
    {
     "name": "stdout",
     "output_type": "stream",
     "text": [
      "scroll size: 5000\n",
      "Scrolling...\n"
     ]
    },
    {
     "name": "stderr",
     "output_type": "stream",
     "text": [
      "2017-02-24 21:03:36,704 : INFO : GET http://localhost:9200/_search/scroll?scroll=5m [status:200 request:9.678s]\n",
      "2017-02-24 21:03:36,737 : INFO : Documents Read: 1195000\n"
     ]
    },
    {
     "name": "stdout",
     "output_type": "stream",
     "text": [
      "scroll size: 5000\n",
      "Scrolling...\n"
     ]
    },
    {
     "name": "stderr",
     "output_type": "stream",
     "text": [
      "2017-02-24 21:03:45,629 : INFO : GET http://localhost:9200/_search/scroll?scroll=5m [status:200 request:8.890s]\n",
      "2017-02-24 21:03:45,661 : INFO : Documents Read: 1200000\n"
     ]
    },
    {
     "name": "stdout",
     "output_type": "stream",
     "text": [
      "scroll size: 5000\n",
      "Scrolling...\n"
     ]
    },
    {
     "name": "stderr",
     "output_type": "stream",
     "text": [
      "2017-02-24 21:03:54,574 : INFO : GET http://localhost:9200/_search/scroll?scroll=5m [status:200 request:8.911s]\n",
      "2017-02-24 21:03:54,604 : INFO : Documents Read: 1205000\n"
     ]
    },
    {
     "name": "stdout",
     "output_type": "stream",
     "text": [
      "scroll size: 5000\n",
      "Scrolling...\n"
     ]
    },
    {
     "name": "stderr",
     "output_type": "stream",
     "text": [
      "2017-02-24 21:04:03,055 : INFO : GET http://localhost:9200/_search/scroll?scroll=5m [status:200 request:8.448s]\n",
      "2017-02-24 21:04:03,087 : INFO : Documents Read: 1210000\n"
     ]
    },
    {
     "name": "stdout",
     "output_type": "stream",
     "text": [
      "scroll size: 5000\n",
      "Scrolling...\n"
     ]
    },
    {
     "name": "stderr",
     "output_type": "stream",
     "text": [
      "2017-02-24 21:04:11,607 : INFO : GET http://localhost:9200/_search/scroll?scroll=5m [status:200 request:8.518s]\n",
      "2017-02-24 21:04:11,640 : INFO : Documents Read: 1215000\n"
     ]
    },
    {
     "name": "stdout",
     "output_type": "stream",
     "text": [
      "scroll size: 5000\n",
      "Scrolling...\n"
     ]
    },
    {
     "name": "stderr",
     "output_type": "stream",
     "text": [
      "2017-02-24 21:04:20,224 : INFO : GET http://localhost:9200/_search/scroll?scroll=5m [status:200 request:8.582s]\n",
      "2017-02-24 21:04:20,314 : INFO : Documents Read: 1220000\n"
     ]
    },
    {
     "name": "stdout",
     "output_type": "stream",
     "text": [
      "scroll size: 5000\n",
      "Scrolling...\n"
     ]
    },
    {
     "name": "stderr",
     "output_type": "stream",
     "text": [
      "2017-02-24 21:04:28,572 : INFO : GET http://localhost:9200/_search/scroll?scroll=5m [status:200 request:8.255s]\n",
      "2017-02-24 21:04:28,624 : INFO : Documents Read: 1225000\n"
     ]
    },
    {
     "name": "stdout",
     "output_type": "stream",
     "text": [
      "scroll size: 5000\n",
      "Scrolling...\n"
     ]
    },
    {
     "name": "stderr",
     "output_type": "stream",
     "text": [
      "2017-02-24 21:04:36,948 : INFO : GET http://localhost:9200/_search/scroll?scroll=5m [status:200 request:8.322s]\n",
      "2017-02-24 21:04:37,016 : INFO : Documents Read: 1230000\n"
     ]
    },
    {
     "name": "stdout",
     "output_type": "stream",
     "text": [
      "scroll size: 5000\n",
      "Scrolling...\n"
     ]
    },
    {
     "name": "stderr",
     "output_type": "stream",
     "text": [
      "2017-02-24 21:04:45,755 : INFO : GET http://localhost:9200/_search/scroll?scroll=5m [status:200 request:8.737s]\n",
      "2017-02-24 21:04:45,788 : INFO : Documents Read: 1235000\n"
     ]
    },
    {
     "name": "stdout",
     "output_type": "stream",
     "text": [
      "scroll size: 5000\n",
      "Scrolling...\n"
     ]
    },
    {
     "name": "stderr",
     "output_type": "stream",
     "text": [
      "2017-02-24 21:04:54,710 : INFO : GET http://localhost:9200/_search/scroll?scroll=5m [status:200 request:8.919s]\n",
      "2017-02-24 21:04:54,743 : INFO : Documents Read: 1240000\n"
     ]
    },
    {
     "name": "stdout",
     "output_type": "stream",
     "text": [
      "scroll size: 5000\n",
      "Scrolling...\n"
     ]
    },
    {
     "name": "stderr",
     "output_type": "stream",
     "text": [
      "2017-02-24 21:05:03,176 : INFO : GET http://localhost:9200/_search/scroll?scroll=5m [status:200 request:8.431s]\n",
      "2017-02-24 21:05:03,208 : INFO : Documents Read: 1245000\n"
     ]
    },
    {
     "name": "stdout",
     "output_type": "stream",
     "text": [
      "scroll size: 5000\n",
      "Scrolling...\n"
     ]
    },
    {
     "name": "stderr",
     "output_type": "stream",
     "text": [
      "2017-02-24 21:05:11,623 : INFO : GET http://localhost:9200/_search/scroll?scroll=5m [status:200 request:8.412s]\n",
      "2017-02-24 21:05:11,682 : INFO : Documents Read: 1250000\n"
     ]
    },
    {
     "name": "stdout",
     "output_type": "stream",
     "text": [
      "scroll size: 5000\n",
      "Scrolling...\n"
     ]
    },
    {
     "name": "stderr",
     "output_type": "stream",
     "text": [
      "2017-02-24 21:05:20,393 : INFO : GET http://localhost:9200/_search/scroll?scroll=5m [status:200 request:8.709s]\n",
      "2017-02-24 21:05:20,425 : INFO : Documents Read: 1255000\n"
     ]
    },
    {
     "name": "stdout",
     "output_type": "stream",
     "text": [
      "scroll size: 5000\n",
      "Scrolling...\n"
     ]
    },
    {
     "name": "stderr",
     "output_type": "stream",
     "text": [
      "2017-02-24 21:05:28,908 : INFO : GET http://localhost:9200/_search/scroll?scroll=5m [status:200 request:8.481s]\n",
      "2017-02-24 21:05:28,941 : INFO : Documents Read: 1260000\n"
     ]
    },
    {
     "name": "stdout",
     "output_type": "stream",
     "text": [
      "scroll size: 5000\n",
      "Scrolling...\n"
     ]
    },
    {
     "name": "stderr",
     "output_type": "stream",
     "text": [
      "2017-02-24 21:05:38,080 : INFO : GET http://localhost:9200/_search/scroll?scroll=5m [status:200 request:9.137s]\n",
      "2017-02-24 21:05:38,117 : INFO : Documents Read: 1265000\n"
     ]
    },
    {
     "name": "stdout",
     "output_type": "stream",
     "text": [
      "scroll size: 5000\n",
      "Scrolling...\n"
     ]
    },
    {
     "name": "stderr",
     "output_type": "stream",
     "text": [
      "2017-02-24 21:05:46,593 : INFO : GET http://localhost:9200/_search/scroll?scroll=5m [status:200 request:8.474s]\n",
      "2017-02-24 21:05:46,635 : INFO : Documents Read: 1270000\n"
     ]
    },
    {
     "name": "stdout",
     "output_type": "stream",
     "text": [
      "scroll size: 5000\n",
      "Scrolling...\n"
     ]
    },
    {
     "name": "stderr",
     "output_type": "stream",
     "text": [
      "2017-02-24 21:05:55,123 : INFO : GET http://localhost:9200/_search/scroll?scroll=5m [status:200 request:8.485s]\n",
      "2017-02-24 21:05:55,161 : INFO : Documents Read: 1275000\n"
     ]
    },
    {
     "name": "stdout",
     "output_type": "stream",
     "text": [
      "scroll size: 5000\n",
      "Scrolling...\n"
     ]
    },
    {
     "name": "stderr",
     "output_type": "stream",
     "text": [
      "2017-02-24 21:06:03,808 : INFO : GET http://localhost:9200/_search/scroll?scroll=5m [status:200 request:8.645s]\n",
      "2017-02-24 21:06:03,847 : INFO : Documents Read: 1280000\n"
     ]
    },
    {
     "name": "stdout",
     "output_type": "stream",
     "text": [
      "scroll size: 5000\n",
      "Scrolling...\n"
     ]
    },
    {
     "name": "stderr",
     "output_type": "stream",
     "text": [
      "2017-02-24 21:06:12,190 : INFO : GET http://localhost:9200/_search/scroll?scroll=5m [status:200 request:8.340s]\n",
      "2017-02-24 21:06:12,239 : INFO : Documents Read: 1285000\n"
     ]
    },
    {
     "name": "stdout",
     "output_type": "stream",
     "text": [
      "scroll size: 5000\n",
      "Scrolling...\n"
     ]
    },
    {
     "name": "stderr",
     "output_type": "stream",
     "text": [
      "2017-02-24 21:06:20,406 : INFO : GET http://localhost:9200/_search/scroll?scroll=5m [status:200 request:8.165s]\n",
      "2017-02-24 21:06:20,439 : INFO : Documents Read: 1290000\n"
     ]
    },
    {
     "name": "stdout",
     "output_type": "stream",
     "text": [
      "scroll size: 5000\n",
      "Scrolling...\n"
     ]
    },
    {
     "name": "stderr",
     "output_type": "stream",
     "text": [
      "2017-02-24 21:06:29,221 : INFO : GET http://localhost:9200/_search/scroll?scroll=5m [status:200 request:8.780s]\n",
      "2017-02-24 21:06:29,264 : INFO : Documents Read: 1295000\n"
     ]
    },
    {
     "name": "stdout",
     "output_type": "stream",
     "text": [
      "scroll size: 5000\n",
      "Scrolling...\n"
     ]
    },
    {
     "name": "stderr",
     "output_type": "stream",
     "text": [
      "2017-02-24 21:06:37,926 : INFO : GET http://localhost:9200/_search/scroll?scroll=5m [status:200 request:8.660s]\n",
      "2017-02-24 21:06:37,981 : INFO : Documents Read: 1300000\n"
     ]
    },
    {
     "name": "stdout",
     "output_type": "stream",
     "text": [
      "scroll size: 5000\n",
      "Scrolling...\n"
     ]
    },
    {
     "name": "stderr",
     "output_type": "stream",
     "text": [
      "2017-02-24 21:06:46,318 : INFO : GET http://localhost:9200/_search/scroll?scroll=5m [status:200 request:8.335s]\n",
      "2017-02-24 21:06:46,384 : INFO : Documents Read: 1305000\n"
     ]
    },
    {
     "name": "stdout",
     "output_type": "stream",
     "text": [
      "scroll size: 5000\n",
      "Scrolling...\n"
     ]
    },
    {
     "name": "stderr",
     "output_type": "stream",
     "text": [
      "2017-02-24 21:06:54,916 : INFO : GET http://localhost:9200/_search/scroll?scroll=5m [status:200 request:8.530s]\n",
      "2017-02-24 21:06:54,969 : INFO : Documents Read: 1310000\n"
     ]
    },
    {
     "name": "stdout",
     "output_type": "stream",
     "text": [
      "scroll size: 5000\n",
      "Scrolling...\n"
     ]
    },
    {
     "name": "stderr",
     "output_type": "stream",
     "text": [
      "2017-02-24 21:07:03,262 : INFO : GET http://localhost:9200/_search/scroll?scroll=5m [status:200 request:8.291s]\n",
      "2017-02-24 21:07:03,369 : INFO : Documents Read: 1315000\n"
     ]
    },
    {
     "name": "stdout",
     "output_type": "stream",
     "text": [
      "scroll size: 5000\n",
      "Scrolling...\n"
     ]
    },
    {
     "name": "stderr",
     "output_type": "stream",
     "text": [
      "2017-02-24 21:07:12,412 : INFO : GET http://localhost:9200/_search/scroll?scroll=5m [status:200 request:9.041s]\n",
      "2017-02-24 21:07:12,457 : INFO : Documents Read: 1320000\n"
     ]
    },
    {
     "name": "stdout",
     "output_type": "stream",
     "text": [
      "scroll size: 5000\n",
      "Scrolling...\n"
     ]
    },
    {
     "name": "stderr",
     "output_type": "stream",
     "text": [
      "2017-02-24 21:07:20,589 : INFO : GET http://localhost:9200/_search/scroll?scroll=5m [status:200 request:8.130s]\n",
      "2017-02-24 21:07:20,641 : INFO : Documents Read: 1325000\n"
     ]
    },
    {
     "name": "stdout",
     "output_type": "stream",
     "text": [
      "scroll size: 5000\n",
      "Scrolling...\n"
     ]
    },
    {
     "name": "stderr",
     "output_type": "stream",
     "text": [
      "2017-02-24 21:07:28,887 : INFO : GET http://localhost:9200/_search/scroll?scroll=5m [status:200 request:8.244s]\n",
      "2017-02-24 21:07:28,975 : INFO : Documents Read: 1330000\n"
     ]
    },
    {
     "name": "stdout",
     "output_type": "stream",
     "text": [
      "scroll size: 5000\n",
      "Scrolling...\n"
     ]
    },
    {
     "name": "stderr",
     "output_type": "stream",
     "text": [
      "2017-02-24 21:07:37,509 : INFO : GET http://localhost:9200/_search/scroll?scroll=5m [status:200 request:8.532s]\n",
      "2017-02-24 21:07:37,543 : INFO : Documents Read: 1335000\n"
     ]
    },
    {
     "name": "stdout",
     "output_type": "stream",
     "text": [
      "scroll size: 5000\n",
      "Scrolling...\n"
     ]
    },
    {
     "name": "stderr",
     "output_type": "stream",
     "text": [
      "2017-02-24 21:07:45,788 : INFO : GET http://localhost:9200/_search/scroll?scroll=5m [status:200 request:8.242s]\n",
      "2017-02-24 21:07:45,819 : INFO : Documents Read: 1340000\n"
     ]
    },
    {
     "name": "stdout",
     "output_type": "stream",
     "text": [
      "scroll size: 5000\n",
      "Scrolling...\n"
     ]
    },
    {
     "name": "stderr",
     "output_type": "stream",
     "text": [
      "2017-02-24 21:07:54,354 : INFO : GET http://localhost:9200/_search/scroll?scroll=5m [status:200 request:8.532s]\n",
      "2017-02-24 21:07:54,417 : INFO : Documents Read: 1345000\n"
     ]
    },
    {
     "name": "stdout",
     "output_type": "stream",
     "text": [
      "scroll size: 5000\n",
      "Scrolling...\n"
     ]
    },
    {
     "name": "stderr",
     "output_type": "stream",
     "text": [
      "2017-02-24 21:08:03,031 : INFO : GET http://localhost:9200/_search/scroll?scroll=5m [status:200 request:8.612s]\n",
      "2017-02-24 21:08:03,066 : INFO : Documents Read: 1350000\n"
     ]
    },
    {
     "name": "stdout",
     "output_type": "stream",
     "text": [
      "scroll size: 5000\n",
      "Scrolling...\n"
     ]
    },
    {
     "name": "stderr",
     "output_type": "stream",
     "text": [
      "2017-02-24 21:08:11,270 : INFO : GET http://localhost:9200/_search/scroll?scroll=5m [status:200 request:8.202s]\n",
      "2017-02-24 21:08:11,303 : INFO : Documents Read: 1355000\n"
     ]
    },
    {
     "name": "stdout",
     "output_type": "stream",
     "text": [
      "scroll size: 5000\n",
      "Scrolling...\n"
     ]
    },
    {
     "name": "stderr",
     "output_type": "stream",
     "text": [
      "2017-02-24 21:08:19,435 : INFO : GET http://localhost:9200/_search/scroll?scroll=5m [status:200 request:8.130s]\n",
      "2017-02-24 21:08:19,475 : INFO : Documents Read: 1360000\n"
     ]
    },
    {
     "name": "stdout",
     "output_type": "stream",
     "text": [
      "scroll size: 5000\n",
      "Scrolling...\n"
     ]
    },
    {
     "name": "stderr",
     "output_type": "stream",
     "text": [
      "2017-02-24 21:08:28,588 : INFO : GET http://localhost:9200/_search/scroll?scroll=5m [status:200 request:9.110s]\n",
      "2017-02-24 21:08:28,621 : INFO : Documents Read: 1365000\n"
     ]
    },
    {
     "name": "stdout",
     "output_type": "stream",
     "text": [
      "scroll size: 5000\n",
      "Scrolling...\n"
     ]
    },
    {
     "name": "stderr",
     "output_type": "stream",
     "text": [
      "2017-02-24 21:08:38,080 : INFO : GET http://localhost:9200/_search/scroll?scroll=5m [status:200 request:9.457s]\n",
      "2017-02-24 21:08:38,113 : INFO : Documents Read: 1370000\n"
     ]
    },
    {
     "name": "stdout",
     "output_type": "stream",
     "text": [
      "scroll size: 5000\n",
      "Scrolling...\n"
     ]
    },
    {
     "name": "stderr",
     "output_type": "stream",
     "text": [
      "2017-02-24 21:08:47,466 : INFO : GET http://localhost:9200/_search/scroll?scroll=5m [status:200 request:9.352s]\n",
      "2017-02-24 21:08:47,500 : INFO : Documents Read: 1375000\n"
     ]
    },
    {
     "name": "stdout",
     "output_type": "stream",
     "text": [
      "scroll size: 5000\n",
      "Scrolling...\n"
     ]
    },
    {
     "name": "stderr",
     "output_type": "stream",
     "text": [
      "2017-02-24 21:08:57,769 : INFO : GET http://localhost:9200/_search/scroll?scroll=5m [status:200 request:10.267s]\n",
      "2017-02-24 21:08:57,822 : INFO : Documents Read: 1380000\n"
     ]
    },
    {
     "name": "stdout",
     "output_type": "stream",
     "text": [
      "scroll size: 5000\n",
      "Scrolling...\n"
     ]
    },
    {
     "name": "stderr",
     "output_type": "stream",
     "text": [
      "2017-02-24 21:09:06,305 : INFO : GET http://localhost:9200/_search/scroll?scroll=5m [status:200 request:8.480s]\n",
      "2017-02-24 21:09:06,338 : INFO : Documents Read: 1385000\n"
     ]
    },
    {
     "name": "stdout",
     "output_type": "stream",
     "text": [
      "scroll size: 5000\n",
      "Scrolling...\n"
     ]
    },
    {
     "name": "stderr",
     "output_type": "stream",
     "text": [
      "2017-02-24 21:09:15,626 : INFO : GET http://localhost:9200/_search/scroll?scroll=5m [status:200 request:9.286s]\n",
      "2017-02-24 21:09:15,659 : INFO : Documents Read: 1390000\n"
     ]
    },
    {
     "name": "stdout",
     "output_type": "stream",
     "text": [
      "scroll size: 5000\n",
      "Scrolling...\n"
     ]
    },
    {
     "name": "stderr",
     "output_type": "stream",
     "text": [
      "2017-02-24 21:09:24,442 : INFO : GET http://localhost:9200/_search/scroll?scroll=5m [status:200 request:8.781s]\n",
      "2017-02-24 21:09:24,474 : INFO : Documents Read: 1395000\n"
     ]
    },
    {
     "name": "stdout",
     "output_type": "stream",
     "text": [
      "scroll size: 5000\n",
      "Scrolling...\n"
     ]
    },
    {
     "name": "stderr",
     "output_type": "stream",
     "text": [
      "2017-02-24 21:09:33,212 : INFO : GET http://localhost:9200/_search/scroll?scroll=5m [status:200 request:8.736s]\n",
      "2017-02-24 21:09:33,955 : INFO : Documents Read: 1400000\n"
     ]
    },
    {
     "name": "stdout",
     "output_type": "stream",
     "text": [
      "scroll size: 5000\n",
      "Scrolling...\n"
     ]
    },
    {
     "name": "stderr",
     "output_type": "stream",
     "text": [
      "2017-02-24 21:09:42,566 : INFO : GET http://localhost:9200/_search/scroll?scroll=5m [status:200 request:8.609s]\n",
      "2017-02-24 21:09:42,720 : INFO : Documents Read: 1405000\n"
     ]
    },
    {
     "name": "stdout",
     "output_type": "stream",
     "text": [
      "scroll size: 5000\n",
      "Scrolling...\n"
     ]
    },
    {
     "name": "stderr",
     "output_type": "stream",
     "text": [
      "2017-02-24 21:09:52,519 : INFO : GET http://localhost:9200/_search/scroll?scroll=5m [status:200 request:9.796s]\n",
      "2017-02-24 21:09:52,693 : INFO : Documents Read: 1410000\n"
     ]
    },
    {
     "name": "stdout",
     "output_type": "stream",
     "text": [
      "scroll size: 5000\n",
      "Scrolling...\n"
     ]
    },
    {
     "name": "stderr",
     "output_type": "stream",
     "text": [
      "2017-02-24 21:10:01,256 : INFO : GET http://localhost:9200/_search/scroll?scroll=5m [status:200 request:8.560s]\n",
      "2017-02-24 21:10:01,319 : INFO : Documents Read: 1415000\n"
     ]
    },
    {
     "name": "stdout",
     "output_type": "stream",
     "text": [
      "scroll size: 5000\n",
      "Scrolling...\n"
     ]
    },
    {
     "name": "stderr",
     "output_type": "stream",
     "text": [
      "2017-02-24 21:10:09,895 : INFO : GET http://localhost:9200/_search/scroll?scroll=5m [status:200 request:8.573s]\n",
      "2017-02-24 21:10:09,951 : INFO : Documents Read: 1420000\n"
     ]
    },
    {
     "name": "stdout",
     "output_type": "stream",
     "text": [
      "scroll size: 5000\n",
      "Scrolling...\n"
     ]
    },
    {
     "name": "stderr",
     "output_type": "stream",
     "text": [
      "2017-02-24 21:10:18,945 : INFO : GET http://localhost:9200/_search/scroll?scroll=5m [status:200 request:8.992s]\n",
      "2017-02-24 21:10:18,995 : INFO : Documents Read: 1425000\n"
     ]
    },
    {
     "name": "stdout",
     "output_type": "stream",
     "text": [
      "scroll size: 5000\n",
      "Scrolling...\n"
     ]
    },
    {
     "name": "stderr",
     "output_type": "stream",
     "text": [
      "2017-02-24 21:10:27,741 : INFO : GET http://localhost:9200/_search/scroll?scroll=5m [status:200 request:8.743s]\n",
      "2017-02-24 21:10:27,785 : INFO : Documents Read: 1430000\n"
     ]
    },
    {
     "name": "stdout",
     "output_type": "stream",
     "text": [
      "scroll size: 5000\n",
      "Scrolling...\n"
     ]
    },
    {
     "name": "stderr",
     "output_type": "stream",
     "text": [
      "2017-02-24 21:10:38,327 : INFO : GET http://localhost:9200/_search/scroll?scroll=5m [status:200 request:10.540s]\n",
      "2017-02-24 21:10:38,379 : INFO : Documents Read: 1435000\n"
     ]
    },
    {
     "name": "stdout",
     "output_type": "stream",
     "text": [
      "scroll size: 5000\n",
      "Scrolling...\n"
     ]
    },
    {
     "name": "stderr",
     "output_type": "stream",
     "text": [
      "2017-02-24 21:10:49,215 : INFO : GET http://localhost:9200/_search/scroll?scroll=5m [status:200 request:10.834s]\n",
      "2017-02-24 21:10:49,286 : INFO : Documents Read: 1440000\n"
     ]
    },
    {
     "name": "stdout",
     "output_type": "stream",
     "text": [
      "scroll size: 5000\n",
      "Scrolling...\n"
     ]
    },
    {
     "name": "stderr",
     "output_type": "stream",
     "text": [
      "2017-02-24 21:10:59,096 : INFO : GET http://localhost:9200/_search/scroll?scroll=5m [status:200 request:9.807s]\n",
      "2017-02-24 21:10:59,146 : INFO : Documents Read: 1445000\n"
     ]
    },
    {
     "name": "stdout",
     "output_type": "stream",
     "text": [
      "scroll size: 5000\n",
      "Scrolling...\n"
     ]
    },
    {
     "name": "stderr",
     "output_type": "stream",
     "text": [
      "2017-02-24 21:11:09,465 : INFO : GET http://localhost:9200/_search/scroll?scroll=5m [status:200 request:10.317s]\n",
      "2017-02-24 21:11:09,528 : INFO : Documents Read: 1450000\n"
     ]
    },
    {
     "name": "stdout",
     "output_type": "stream",
     "text": [
      "scroll size: 5000\n",
      "Scrolling...\n"
     ]
    },
    {
     "name": "stderr",
     "output_type": "stream",
     "text": [
      "2017-02-24 21:11:20,407 : INFO : GET http://localhost:9200/_search/scroll?scroll=5m [status:200 request:10.877s]\n",
      "2017-02-24 21:11:20,454 : INFO : Documents Read: 1455000\n"
     ]
    },
    {
     "name": "stdout",
     "output_type": "stream",
     "text": [
      "scroll size: 5000\n",
      "Scrolling...\n"
     ]
    },
    {
     "name": "stderr",
     "output_type": "stream",
     "text": [
      "2017-02-24 21:11:31,390 : INFO : GET http://localhost:9200/_search/scroll?scroll=5m [status:200 request:10.934s]\n",
      "2017-02-24 21:11:31,459 : INFO : Documents Read: 1460000\n"
     ]
    },
    {
     "name": "stdout",
     "output_type": "stream",
     "text": [
      "scroll size: 5000\n",
      "Scrolling...\n"
     ]
    },
    {
     "name": "stderr",
     "output_type": "stream",
     "text": [
      "2017-02-24 21:11:42,207 : INFO : GET http://localhost:9200/_search/scroll?scroll=5m [status:200 request:10.746s]\n",
      "2017-02-24 21:11:42,240 : INFO : Documents Read: 1465000\n"
     ]
    },
    {
     "name": "stdout",
     "output_type": "stream",
     "text": [
      "scroll size: 5000\n",
      "Scrolling...\n"
     ]
    },
    {
     "name": "stderr",
     "output_type": "stream",
     "text": [
      "2017-02-24 21:11:53,036 : INFO : GET http://localhost:9200/_search/scroll?scroll=5m [status:200 request:10.794s]\n",
      "2017-02-24 21:11:53,073 : INFO : Documents Read: 1470000\n"
     ]
    },
    {
     "name": "stdout",
     "output_type": "stream",
     "text": [
      "scroll size: 5000\n",
      "Scrolling...\n"
     ]
    },
    {
     "name": "stderr",
     "output_type": "stream",
     "text": [
      "2017-02-24 21:12:04,217 : INFO : GET http://localhost:9200/_search/scroll?scroll=5m [status:200 request:11.142s]\n",
      "2017-02-24 21:12:04,505 : INFO : Documents Read: 1475000\n"
     ]
    },
    {
     "name": "stdout",
     "output_type": "stream",
     "text": [
      "scroll size: 5000\n",
      "Scrolling...\n"
     ]
    },
    {
     "name": "stderr",
     "output_type": "stream",
     "text": [
      "2017-02-24 21:12:14,268 : INFO : GET http://localhost:9200/_search/scroll?scroll=5m [status:200 request:9.761s]\n",
      "2017-02-24 21:12:14,301 : INFO : Documents Read: 1480000\n"
     ]
    },
    {
     "name": "stdout",
     "output_type": "stream",
     "text": [
      "scroll size: 5000\n",
      "Scrolling...\n"
     ]
    },
    {
     "name": "stderr",
     "output_type": "stream",
     "text": [
      "2017-02-24 21:12:24,752 : INFO : GET http://localhost:9200/_search/scroll?scroll=5m [status:200 request:10.442s]\n",
      "2017-02-24 21:12:24,785 : INFO : Documents Read: 1485000\n"
     ]
    },
    {
     "name": "stdout",
     "output_type": "stream",
     "text": [
      "scroll size: 5000\n",
      "Scrolling...\n"
     ]
    },
    {
     "name": "stderr",
     "output_type": "stream",
     "text": [
      "2017-02-24 21:12:34,762 : INFO : GET http://localhost:9200/_search/scroll?scroll=5m [status:200 request:9.974s]\n",
      "2017-02-24 21:12:34,796 : INFO : Documents Read: 1490000\n"
     ]
    },
    {
     "name": "stdout",
     "output_type": "stream",
     "text": [
      "scroll size: 5000\n",
      "Scrolling...\n"
     ]
    },
    {
     "name": "stderr",
     "output_type": "stream",
     "text": [
      "2017-02-24 21:12:45,698 : INFO : GET http://localhost:9200/_search/scroll?scroll=5m [status:200 request:10.900s]\n",
      "2017-02-24 21:12:45,731 : INFO : Documents Read: 1495000\n"
     ]
    },
    {
     "name": "stdout",
     "output_type": "stream",
     "text": [
      "scroll size: 5000\n",
      "Scrolling...\n"
     ]
    },
    {
     "name": "stderr",
     "output_type": "stream",
     "text": [
      "2017-02-24 21:12:56,563 : INFO : GET http://localhost:9200/_search/scroll?scroll=5m [status:200 request:10.829s]\n",
      "2017-02-24 21:12:56,596 : INFO : Documents Read: 1500000\n"
     ]
    },
    {
     "name": "stdout",
     "output_type": "stream",
     "text": [
      "scroll size: 5000\n",
      "Scrolling...\n"
     ]
    },
    {
     "name": "stderr",
     "output_type": "stream",
     "text": [
      "2017-02-24 21:13:06,550 : INFO : GET http://localhost:9200/_search/scroll?scroll=5m [status:200 request:9.951s]\n",
      "2017-02-24 21:13:06,607 : INFO : Documents Read: 1505000\n"
     ]
    },
    {
     "name": "stdout",
     "output_type": "stream",
     "text": [
      "scroll size: 5000\n",
      "Scrolling...\n"
     ]
    },
    {
     "name": "stderr",
     "output_type": "stream",
     "text": [
      "2017-02-24 21:13:16,805 : INFO : GET http://localhost:9200/_search/scroll?scroll=5m [status:200 request:10.196s]\n",
      "2017-02-24 21:13:16,837 : INFO : Documents Read: 1510000\n"
     ]
    },
    {
     "name": "stdout",
     "output_type": "stream",
     "text": [
      "scroll size: 5000\n",
      "Scrolling...\n"
     ]
    },
    {
     "name": "stderr",
     "output_type": "stream",
     "text": [
      "2017-02-24 21:13:27,512 : INFO : GET http://localhost:9200/_search/scroll?scroll=5m [status:200 request:10.673s]\n",
      "2017-02-24 21:13:27,548 : INFO : Documents Read: 1515000\n"
     ]
    },
    {
     "name": "stdout",
     "output_type": "stream",
     "text": [
      "scroll size: 5000\n",
      "Scrolling...\n"
     ]
    },
    {
     "name": "stderr",
     "output_type": "stream",
     "text": [
      "2017-02-24 21:13:38,086 : INFO : GET http://localhost:9200/_search/scroll?scroll=5m [status:200 request:10.536s]\n",
      "2017-02-24 21:13:38,120 : INFO : Documents Read: 1520000\n"
     ]
    },
    {
     "name": "stdout",
     "output_type": "stream",
     "text": [
      "scroll size: 5000\n",
      "Scrolling...\n"
     ]
    },
    {
     "name": "stderr",
     "output_type": "stream",
     "text": [
      "2017-02-24 21:13:48,227 : INFO : GET http://localhost:9200/_search/scroll?scroll=5m [status:200 request:10.105s]\n",
      "2017-02-24 21:13:48,264 : INFO : Documents Read: 1525000\n"
     ]
    },
    {
     "name": "stdout",
     "output_type": "stream",
     "text": [
      "scroll size: 5000\n",
      "Scrolling...\n"
     ]
    },
    {
     "name": "stderr",
     "output_type": "stream",
     "text": [
      "2017-02-24 21:13:58,904 : INFO : GET http://localhost:9200/_search/scroll?scroll=5m [status:200 request:10.638s]\n",
      "2017-02-24 21:13:58,939 : INFO : Documents Read: 1530000\n"
     ]
    },
    {
     "name": "stdout",
     "output_type": "stream",
     "text": [
      "scroll size: 5000\n",
      "Scrolling...\n"
     ]
    },
    {
     "name": "stderr",
     "output_type": "stream",
     "text": [
      "2017-02-24 21:14:09,617 : INFO : GET http://localhost:9200/_search/scroll?scroll=5m [status:200 request:10.676s]\n",
      "2017-02-24 21:14:09,673 : INFO : Documents Read: 1535000\n"
     ]
    },
    {
     "name": "stdout",
     "output_type": "stream",
     "text": [
      "scroll size: 5000\n",
      "Scrolling...\n"
     ]
    },
    {
     "name": "stderr",
     "output_type": "stream",
     "text": [
      "2017-02-24 21:14:19,668 : INFO : GET http://localhost:9200/_search/scroll?scroll=5m [status:200 request:9.993s]\n",
      "2017-02-24 21:14:19,701 : INFO : Documents Read: 1540000\n"
     ]
    },
    {
     "name": "stdout",
     "output_type": "stream",
     "text": [
      "scroll size: 5000\n",
      "Scrolling...\n"
     ]
    },
    {
     "name": "stderr",
     "output_type": "stream",
     "text": [
      "2017-02-24 21:14:29,974 : INFO : GET http://localhost:9200/_search/scroll?scroll=5m [status:200 request:10.271s]\n",
      "2017-02-24 21:14:30,007 : INFO : Documents Read: 1545000\n"
     ]
    },
    {
     "name": "stdout",
     "output_type": "stream",
     "text": [
      "scroll size: 5000\n",
      "Scrolling...\n"
     ]
    },
    {
     "name": "stderr",
     "output_type": "stream",
     "text": [
      "2017-02-24 21:14:40,269 : INFO : GET http://localhost:9200/_search/scroll?scroll=5m [status:200 request:10.261s]\n",
      "2017-02-24 21:14:40,305 : INFO : Documents Read: 1550000\n"
     ]
    },
    {
     "name": "stdout",
     "output_type": "stream",
     "text": [
      "scroll size: 5000\n",
      "Scrolling...\n"
     ]
    },
    {
     "name": "stderr",
     "output_type": "stream",
     "text": [
      "2017-02-24 21:14:50,117 : INFO : GET http://localhost:9200/_search/scroll?scroll=5m [status:200 request:9.810s]\n",
      "2017-02-24 21:14:50,158 : INFO : Documents Read: 1555000\n"
     ]
    },
    {
     "name": "stdout",
     "output_type": "stream",
     "text": [
      "scroll size: 5000\n",
      "Scrolling...\n"
     ]
    },
    {
     "name": "stderr",
     "output_type": "stream",
     "text": [
      "2017-02-24 21:15:00,164 : INFO : GET http://localhost:9200/_search/scroll?scroll=5m [status:200 request:10.005s]\n",
      "2017-02-24 21:15:00,216 : INFO : Documents Read: 1560000\n"
     ]
    },
    {
     "name": "stdout",
     "output_type": "stream",
     "text": [
      "scroll size: 5000\n",
      "Scrolling...\n"
     ]
    },
    {
     "name": "stderr",
     "output_type": "stream",
     "text": [
      "2017-02-24 21:15:09,812 : INFO : GET http://localhost:9200/_search/scroll?scroll=5m [status:200 request:9.593s]\n",
      "2017-02-24 21:15:09,846 : INFO : Documents Read: 1565000\n"
     ]
    },
    {
     "name": "stdout",
     "output_type": "stream",
     "text": [
      "scroll size: 5000\n",
      "Scrolling...\n"
     ]
    },
    {
     "name": "stderr",
     "output_type": "stream",
     "text": [
      "2017-02-24 21:15:19,856 : INFO : GET http://localhost:9200/_search/scroll?scroll=5m [status:200 request:10.008s]\n",
      "2017-02-24 21:15:19,909 : INFO : Documents Read: 1570000\n"
     ]
    },
    {
     "name": "stdout",
     "output_type": "stream",
     "text": [
      "scroll size: 5000\n",
      "Scrolling...\n"
     ]
    },
    {
     "name": "stderr",
     "output_type": "stream",
     "text": [
      "2017-02-24 21:15:30,450 : INFO : GET http://localhost:9200/_search/scroll?scroll=5m [status:200 request:10.538s]\n",
      "2017-02-24 21:15:30,483 : INFO : Documents Read: 1575000\n"
     ]
    },
    {
     "name": "stdout",
     "output_type": "stream",
     "text": [
      "scroll size: 5000\n",
      "Scrolling...\n"
     ]
    },
    {
     "name": "stderr",
     "output_type": "stream",
     "text": [
      "2017-02-24 21:15:41,967 : INFO : GET http://localhost:9200/_search/scroll?scroll=5m [status:200 request:11.481s]\n",
      "2017-02-24 21:15:42,000 : INFO : Documents Read: 1580000\n"
     ]
    },
    {
     "name": "stdout",
     "output_type": "stream",
     "text": [
      "scroll size: 5000\n",
      "Scrolling...\n"
     ]
    },
    {
     "name": "stderr",
     "output_type": "stream",
     "text": [
      "2017-02-24 21:15:52,770 : INFO : GET http://localhost:9200/_search/scroll?scroll=5m [status:200 request:10.767s]\n",
      "2017-02-24 21:15:52,801 : INFO : Documents Read: 1585000\n"
     ]
    },
    {
     "name": "stdout",
     "output_type": "stream",
     "text": [
      "scroll size: 5000\n",
      "Scrolling...\n"
     ]
    },
    {
     "name": "stderr",
     "output_type": "stream",
     "text": [
      "2017-02-24 21:16:03,209 : INFO : GET http://localhost:9200/_search/scroll?scroll=5m [status:200 request:10.406s]\n",
      "2017-02-24 21:16:03,243 : INFO : Documents Read: 1590000\n"
     ]
    },
    {
     "name": "stdout",
     "output_type": "stream",
     "text": [
      "scroll size: 5000\n",
      "Scrolling...\n"
     ]
    },
    {
     "name": "stderr",
     "output_type": "stream",
     "text": [
      "2017-02-24 21:16:13,676 : INFO : GET http://localhost:9200/_search/scroll?scroll=5m [status:200 request:10.431s]\n",
      "2017-02-24 21:16:13,708 : INFO : Documents Read: 1595000\n"
     ]
    },
    {
     "name": "stdout",
     "output_type": "stream",
     "text": [
      "scroll size: 5000\n",
      "Scrolling...\n"
     ]
    },
    {
     "name": "stderr",
     "output_type": "stream",
     "text": [
      "2017-02-24 21:16:24,444 : INFO : GET http://localhost:9200/_search/scroll?scroll=5m [status:200 request:10.734s]\n",
      "2017-02-24 21:16:24,499 : INFO : Documents Read: 1600000\n"
     ]
    },
    {
     "name": "stdout",
     "output_type": "stream",
     "text": [
      "scroll size: 5000\n",
      "Scrolling...\n"
     ]
    },
    {
     "name": "stderr",
     "output_type": "stream",
     "text": [
      "2017-02-24 21:16:35,348 : INFO : GET http://localhost:9200/_search/scroll?scroll=5m [status:200 request:10.847s]\n",
      "2017-02-24 21:16:35,381 : INFO : Documents Read: 1605000\n"
     ]
    },
    {
     "name": "stdout",
     "output_type": "stream",
     "text": [
      "scroll size: 5000\n",
      "Scrolling...\n"
     ]
    },
    {
     "name": "stderr",
     "output_type": "stream",
     "text": [
      "2017-02-24 21:16:45,477 : INFO : GET http://localhost:9200/_search/scroll?scroll=5m [status:200 request:10.094s]\n",
      "2017-02-24 21:16:45,511 : INFO : Documents Read: 1610000\n"
     ]
    },
    {
     "name": "stdout",
     "output_type": "stream",
     "text": [
      "scroll size: 5000\n",
      "Scrolling...\n"
     ]
    },
    {
     "name": "stderr",
     "output_type": "stream",
     "text": [
      "2017-02-24 21:16:56,058 : INFO : GET http://localhost:9200/_search/scroll?scroll=5m [status:200 request:10.545s]\n",
      "2017-02-24 21:16:56,097 : INFO : Documents Read: 1615000\n"
     ]
    },
    {
     "name": "stdout",
     "output_type": "stream",
     "text": [
      "scroll size: 5000\n",
      "Scrolling...\n"
     ]
    },
    {
     "name": "stderr",
     "output_type": "stream",
     "text": [
      "2017-02-24 21:17:06,381 : INFO : GET http://localhost:9200/_search/scroll?scroll=5m [status:200 request:10.281s]\n",
      "2017-02-24 21:17:06,413 : INFO : Documents Read: 1620000\n"
     ]
    },
    {
     "name": "stdout",
     "output_type": "stream",
     "text": [
      "scroll size: 5000\n",
      "Scrolling...\n"
     ]
    },
    {
     "name": "stderr",
     "output_type": "stream",
     "text": [
      "2017-02-24 21:17:16,667 : INFO : GET http://localhost:9200/_search/scroll?scroll=5m [status:200 request:10.252s]\n",
      "2017-02-24 21:17:16,705 : INFO : Documents Read: 1625000\n"
     ]
    },
    {
     "name": "stdout",
     "output_type": "stream",
     "text": [
      "scroll size: 5000\n",
      "Scrolling...\n"
     ]
    },
    {
     "name": "stderr",
     "output_type": "stream",
     "text": [
      "2017-02-24 21:17:27,605 : INFO : GET http://localhost:9200/_search/scroll?scroll=5m [status:200 request:10.898s]\n",
      "2017-02-24 21:17:27,663 : INFO : Documents Read: 1630000\n"
     ]
    },
    {
     "name": "stdout",
     "output_type": "stream",
     "text": [
      "scroll size: 5000\n",
      "Scrolling...\n"
     ]
    },
    {
     "name": "stderr",
     "output_type": "stream",
     "text": [
      "2017-02-24 21:17:37,776 : INFO : GET http://localhost:9200/_search/scroll?scroll=5m [status:200 request:10.110s]\n",
      "2017-02-24 21:17:37,808 : INFO : Documents Read: 1635000\n"
     ]
    },
    {
     "name": "stdout",
     "output_type": "stream",
     "text": [
      "scroll size: 5000\n",
      "Scrolling...\n"
     ]
    },
    {
     "name": "stderr",
     "output_type": "stream",
     "text": [
      "2017-02-24 21:17:48,505 : INFO : GET http://localhost:9200/_search/scroll?scroll=5m [status:200 request:10.694s]\n",
      "2017-02-24 21:17:48,537 : INFO : Documents Read: 1640000\n"
     ]
    },
    {
     "name": "stdout",
     "output_type": "stream",
     "text": [
      "scroll size: 5000\n",
      "Scrolling...\n"
     ]
    },
    {
     "name": "stderr",
     "output_type": "stream",
     "text": [
      "2017-02-24 21:17:59,325 : INFO : GET http://localhost:9200/_search/scroll?scroll=5m [status:200 request:10.785s]\n",
      "2017-02-24 21:17:59,358 : INFO : Documents Read: 1645000\n"
     ]
    },
    {
     "name": "stdout",
     "output_type": "stream",
     "text": [
      "scroll size: 5000\n",
      "Scrolling...\n"
     ]
    },
    {
     "name": "stderr",
     "output_type": "stream",
     "text": [
      "2017-02-24 21:18:09,829 : INFO : GET http://localhost:9200/_search/scroll?scroll=5m [status:200 request:10.468s]\n",
      "2017-02-24 21:18:09,865 : INFO : Documents Read: 1650000\n"
     ]
    },
    {
     "name": "stdout",
     "output_type": "stream",
     "text": [
      "scroll size: 5000\n",
      "Scrolling...\n"
     ]
    },
    {
     "name": "stderr",
     "output_type": "stream",
     "text": [
      "2017-02-24 21:18:20,198 : INFO : GET http://localhost:9200/_search/scroll?scroll=5m [status:200 request:10.330s]\n",
      "2017-02-24 21:18:20,233 : INFO : Documents Read: 1655000\n"
     ]
    },
    {
     "name": "stdout",
     "output_type": "stream",
     "text": [
      "scroll size: 5000\n",
      "Scrolling...\n"
     ]
    },
    {
     "name": "stderr",
     "output_type": "stream",
     "text": [
      "2017-02-24 21:18:30,506 : INFO : GET http://localhost:9200/_search/scroll?scroll=5m [status:200 request:10.271s]\n",
      "2017-02-24 21:18:30,539 : INFO : Documents Read: 1660000\n"
     ]
    },
    {
     "name": "stdout",
     "output_type": "stream",
     "text": [
      "scroll size: 5000\n",
      "Scrolling...\n"
     ]
    },
    {
     "name": "stderr",
     "output_type": "stream",
     "text": [
      "2017-02-24 21:18:40,686 : INFO : GET http://localhost:9200/_search/scroll?scroll=5m [status:200 request:10.146s]\n",
      "2017-02-24 21:18:40,737 : INFO : Documents Read: 1665000\n"
     ]
    },
    {
     "name": "stdout",
     "output_type": "stream",
     "text": [
      "scroll size: 5000\n",
      "Scrolling...\n"
     ]
    },
    {
     "name": "stderr",
     "output_type": "stream",
     "text": [
      "2017-02-24 21:18:50,935 : INFO : GET http://localhost:9200/_search/scroll?scroll=5m [status:200 request:10.195s]\n",
      "2017-02-24 21:18:50,998 : INFO : Documents Read: 1670000\n"
     ]
    },
    {
     "name": "stdout",
     "output_type": "stream",
     "text": [
      "scroll size: 5000\n",
      "Scrolling...\n"
     ]
    },
    {
     "name": "stderr",
     "output_type": "stream",
     "text": [
      "2017-02-24 21:19:01,106 : INFO : GET http://localhost:9200/_search/scroll?scroll=5m [status:200 request:10.105s]\n",
      "2017-02-24 21:19:01,142 : INFO : Documents Read: 1675000\n"
     ]
    },
    {
     "name": "stdout",
     "output_type": "stream",
     "text": [
      "scroll size: 5000\n",
      "Scrolling...\n"
     ]
    },
    {
     "name": "stderr",
     "output_type": "stream",
     "text": [
      "2017-02-24 21:19:10,786 : INFO : GET http://localhost:9200/_search/scroll?scroll=5m [status:200 request:9.642s]\n",
      "2017-02-24 21:19:10,818 : INFO : Documents Read: 1680000\n"
     ]
    },
    {
     "name": "stdout",
     "output_type": "stream",
     "text": [
      "scroll size: 5000\n",
      "Scrolling...\n"
     ]
    },
    {
     "name": "stderr",
     "output_type": "stream",
     "text": [
      "2017-02-24 21:19:20,830 : INFO : GET http://localhost:9200/_search/scroll?scroll=5m [status:200 request:10.009s]\n",
      "2017-02-24 21:19:20,888 : INFO : Documents Read: 1685000\n"
     ]
    },
    {
     "name": "stdout",
     "output_type": "stream",
     "text": [
      "scroll size: 5000\n",
      "Scrolling...\n"
     ]
    },
    {
     "name": "stderr",
     "output_type": "stream",
     "text": [
      "2017-02-24 21:19:31,091 : INFO : GET http://localhost:9200/_search/scroll?scroll=5m [status:200 request:10.200s]\n",
      "2017-02-24 21:19:31,146 : INFO : Documents Read: 1690000\n"
     ]
    },
    {
     "name": "stdout",
     "output_type": "stream",
     "text": [
      "scroll size: 5000\n",
      "Scrolling...\n"
     ]
    },
    {
     "name": "stderr",
     "output_type": "stream",
     "text": [
      "2017-02-24 21:19:41,773 : INFO : GET http://localhost:9200/_search/scroll?scroll=5m [status:200 request:10.624s]\n",
      "2017-02-24 21:19:41,829 : INFO : Documents Read: 1695000\n"
     ]
    },
    {
     "name": "stdout",
     "output_type": "stream",
     "text": [
      "scroll size: 5000\n",
      "Scrolling...\n"
     ]
    },
    {
     "name": "stderr",
     "output_type": "stream",
     "text": [
      "2017-02-24 21:19:52,346 : INFO : GET http://localhost:9200/_search/scroll?scroll=5m [status:200 request:10.515s]\n",
      "2017-02-24 21:19:52,377 : INFO : Documents Read: 1700000\n"
     ]
    },
    {
     "name": "stdout",
     "output_type": "stream",
     "text": [
      "scroll size: 5000\n",
      "Scrolling...\n"
     ]
    },
    {
     "name": "stderr",
     "output_type": "stream",
     "text": [
      "2017-02-24 21:20:02,870 : INFO : GET http://localhost:9200/_search/scroll?scroll=5m [status:200 request:10.490s]\n",
      "2017-02-24 21:20:02,906 : INFO : Documents Read: 1705000\n"
     ]
    },
    {
     "name": "stdout",
     "output_type": "stream",
     "text": [
      "scroll size: 5000\n",
      "Scrolling...\n"
     ]
    },
    {
     "name": "stderr",
     "output_type": "stream",
     "text": [
      "2017-02-24 21:20:11,499 : INFO : GET http://localhost:9200/_search/scroll?scroll=5m [status:200 request:8.591s]\n",
      "2017-02-24 21:20:11,536 : INFO : Documents Read: 1710000\n"
     ]
    },
    {
     "name": "stdout",
     "output_type": "stream",
     "text": [
      "scroll size: 5000\n",
      "Scrolling...\n"
     ]
    },
    {
     "name": "stderr",
     "output_type": "stream",
     "text": [
      "2017-02-24 21:20:21,122 : INFO : GET http://localhost:9200/_search/scroll?scroll=5m [status:200 request:9.583s]\n",
      "2017-02-24 21:20:21,155 : INFO : Documents Read: 1715000\n"
     ]
    },
    {
     "name": "stdout",
     "output_type": "stream",
     "text": [
      "scroll size: 5000\n",
      "Scrolling...\n"
     ]
    },
    {
     "name": "stderr",
     "output_type": "stream",
     "text": [
      "2017-02-24 21:20:31,439 : INFO : GET http://localhost:9200/_search/scroll?scroll=5m [status:200 request:10.282s]\n",
      "2017-02-24 21:20:31,472 : INFO : Documents Read: 1720000\n"
     ]
    },
    {
     "name": "stdout",
     "output_type": "stream",
     "text": [
      "scroll size: 5000\n",
      "Scrolling...\n"
     ]
    },
    {
     "name": "stderr",
     "output_type": "stream",
     "text": [
      "2017-02-24 21:20:42,244 : INFO : GET http://localhost:9200/_search/scroll?scroll=5m [status:200 request:10.770s]\n",
      "2017-02-24 21:20:42,301 : INFO : Documents Read: 1725000\n"
     ]
    },
    {
     "name": "stdout",
     "output_type": "stream",
     "text": [
      "scroll size: 5000\n",
      "Scrolling...\n"
     ]
    },
    {
     "name": "stderr",
     "output_type": "stream",
     "text": [
      "2017-02-24 21:20:53,025 : INFO : GET http://localhost:9200/_search/scroll?scroll=5m [status:200 request:10.723s]\n",
      "2017-02-24 21:20:53,060 : INFO : Documents Read: 1730000\n"
     ]
    },
    {
     "name": "stdout",
     "output_type": "stream",
     "text": [
      "scroll size: 5000\n",
      "Scrolling...\n"
     ]
    },
    {
     "name": "stderr",
     "output_type": "stream",
     "text": [
      "2017-02-24 21:21:02,727 : INFO : GET http://localhost:9200/_search/scroll?scroll=5m [status:200 request:9.665s]\n",
      "2017-02-24 21:21:02,785 : INFO : Documents Read: 1735000\n"
     ]
    },
    {
     "name": "stdout",
     "output_type": "stream",
     "text": [
      "scroll size: 5000\n",
      "Scrolling...\n"
     ]
    },
    {
     "name": "stderr",
     "output_type": "stream",
     "text": [
      "2017-02-24 21:21:12,678 : INFO : GET http://localhost:9200/_search/scroll?scroll=5m [status:200 request:9.891s]\n",
      "2017-02-24 21:21:12,709 : INFO : Documents Read: 1740000\n"
     ]
    },
    {
     "name": "stdout",
     "output_type": "stream",
     "text": [
      "scroll size: 5000\n",
      "Scrolling...\n"
     ]
    },
    {
     "name": "stderr",
     "output_type": "stream",
     "text": [
      "2017-02-24 21:21:23,239 : INFO : GET http://localhost:9200/_search/scroll?scroll=5m [status:200 request:10.527s]\n",
      "2017-02-24 21:21:23,290 : INFO : Documents Read: 1745000\n"
     ]
    },
    {
     "name": "stdout",
     "output_type": "stream",
     "text": [
      "scroll size: 5000\n",
      "Scrolling...\n"
     ]
    },
    {
     "name": "stderr",
     "output_type": "stream",
     "text": [
      "2017-02-24 21:21:33,407 : INFO : GET http://localhost:9200/_search/scroll?scroll=5m [status:200 request:10.115s]\n",
      "2017-02-24 21:21:33,441 : INFO : Documents Read: 1750000\n"
     ]
    },
    {
     "name": "stdout",
     "output_type": "stream",
     "text": [
      "scroll size: 5000\n",
      "Scrolling...\n"
     ]
    },
    {
     "name": "stderr",
     "output_type": "stream",
     "text": [
      "2017-02-24 21:21:44,102 : INFO : GET http://localhost:9200/_search/scroll?scroll=5m [status:200 request:10.659s]\n",
      "2017-02-24 21:21:44,135 : INFO : Documents Read: 1755000\n"
     ]
    },
    {
     "name": "stdout",
     "output_type": "stream",
     "text": [
      "scroll size: 5000\n",
      "Scrolling...\n"
     ]
    },
    {
     "name": "stderr",
     "output_type": "stream",
     "text": [
      "2017-02-24 21:21:54,332 : INFO : GET http://localhost:9200/_search/scroll?scroll=5m [status:200 request:10.194s]\n",
      "2017-02-24 21:21:54,382 : INFO : Documents Read: 1760000\n"
     ]
    },
    {
     "name": "stdout",
     "output_type": "stream",
     "text": [
      "scroll size: 5000\n",
      "Scrolling...\n"
     ]
    },
    {
     "name": "stderr",
     "output_type": "stream",
     "text": [
      "2017-02-24 21:22:04,951 : INFO : GET http://localhost:9200/_search/scroll?scroll=5m [status:200 request:10.566s]\n",
      "2017-02-24 21:22:04,984 : INFO : Documents Read: 1765000\n"
     ]
    },
    {
     "name": "stdout",
     "output_type": "stream",
     "text": [
      "scroll size: 5000\n",
      "Scrolling...\n"
     ]
    },
    {
     "name": "stderr",
     "output_type": "stream",
     "text": [
      "2017-02-24 21:22:15,217 : INFO : GET http://localhost:9200/_search/scroll?scroll=5m [status:200 request:10.231s]\n",
      "2017-02-24 21:22:15,251 : INFO : Documents Read: 1770000\n"
     ]
    },
    {
     "name": "stdout",
     "output_type": "stream",
     "text": [
      "scroll size: 5000\n",
      "Scrolling...\n"
     ]
    },
    {
     "name": "stderr",
     "output_type": "stream",
     "text": [
      "2017-02-24 21:22:25,814 : INFO : GET http://localhost:9200/_search/scroll?scroll=5m [status:200 request:10.561s]\n",
      "2017-02-24 21:22:25,847 : INFO : Documents Read: 1775000\n"
     ]
    },
    {
     "name": "stdout",
     "output_type": "stream",
     "text": [
      "scroll size: 5000\n",
      "Scrolling...\n"
     ]
    },
    {
     "name": "stderr",
     "output_type": "stream",
     "text": [
      "2017-02-24 21:22:35,784 : INFO : GET http://localhost:9200/_search/scroll?scroll=5m [status:200 request:9.935s]\n",
      "2017-02-24 21:22:35,818 : INFO : Documents Read: 1780000\n"
     ]
    },
    {
     "name": "stdout",
     "output_type": "stream",
     "text": [
      "scroll size: 5000\n",
      "Scrolling...\n"
     ]
    },
    {
     "name": "stderr",
     "output_type": "stream",
     "text": [
      "2017-02-24 21:22:45,536 : INFO : GET http://localhost:9200/_search/scroll?scroll=5m [status:200 request:9.716s]\n",
      "2017-02-24 21:22:45,569 : INFO : Documents Read: 1785000\n"
     ]
    },
    {
     "name": "stdout",
     "output_type": "stream",
     "text": [
      "scroll size: 5000\n",
      "Scrolling...\n"
     ]
    },
    {
     "name": "stderr",
     "output_type": "stream",
     "text": [
      "2017-02-24 21:22:55,603 : INFO : GET http://localhost:9200/_search/scroll?scroll=5m [status:200 request:10.032s]\n",
      "2017-02-24 21:22:55,661 : INFO : Documents Read: 1790000\n"
     ]
    },
    {
     "name": "stdout",
     "output_type": "stream",
     "text": [
      "scroll size: 5000\n",
      "Scrolling...\n"
     ]
    },
    {
     "name": "stderr",
     "output_type": "stream",
     "text": [
      "2017-02-24 21:23:05,577 : INFO : GET http://localhost:9200/_search/scroll?scroll=5m [status:200 request:9.914s]\n",
      "2017-02-24 21:23:05,610 : INFO : Documents Read: 1795000\n"
     ]
    },
    {
     "name": "stdout",
     "output_type": "stream",
     "text": [
      "scroll size: 5000\n",
      "Scrolling...\n"
     ]
    },
    {
     "name": "stderr",
     "output_type": "stream",
     "text": [
      "2017-02-24 21:23:16,016 : INFO : GET http://localhost:9200/_search/scroll?scroll=5m [status:200 request:10.404s]\n",
      "2017-02-24 21:23:16,072 : INFO : Documents Read: 1800000\n"
     ]
    },
    {
     "name": "stdout",
     "output_type": "stream",
     "text": [
      "scroll size: 5000\n",
      "Scrolling...\n"
     ]
    },
    {
     "name": "stderr",
     "output_type": "stream",
     "text": [
      "2017-02-24 21:23:25,170 : INFO : GET http://localhost:9200/_search/scroll?scroll=5m [status:200 request:9.096s]\n",
      "2017-02-24 21:23:25,249 : INFO : Documents Read: 1805000\n"
     ]
    },
    {
     "name": "stdout",
     "output_type": "stream",
     "text": [
      "scroll size: 5000\n",
      "Scrolling...\n"
     ]
    },
    {
     "name": "stderr",
     "output_type": "stream",
     "text": [
      "2017-02-24 21:23:34,626 : INFO : GET http://localhost:9200/_search/scroll?scroll=5m [status:200 request:9.374s]\n",
      "2017-02-24 21:23:34,722 : INFO : Documents Read: 1810000\n"
     ]
    },
    {
     "name": "stdout",
     "output_type": "stream",
     "text": [
      "scroll size: 5000\n",
      "Scrolling...\n"
     ]
    },
    {
     "name": "stderr",
     "output_type": "stream",
     "text": [
      "2017-02-24 21:23:44,410 : INFO : GET http://localhost:9200/_search/scroll?scroll=5m [status:200 request:9.686s]\n",
      "2017-02-24 21:23:44,520 : INFO : Documents Read: 1815000\n"
     ]
    },
    {
     "name": "stdout",
     "output_type": "stream",
     "text": [
      "scroll size: 5000\n",
      "Scrolling...\n"
     ]
    },
    {
     "name": "stderr",
     "output_type": "stream",
     "text": [
      "2017-02-24 21:23:53,631 : INFO : GET http://localhost:9200/_search/scroll?scroll=5m [status:200 request:9.108s]\n",
      "2017-02-24 21:23:53,814 : INFO : Documents Read: 1820000\n"
     ]
    },
    {
     "name": "stdout",
     "output_type": "stream",
     "text": [
      "scroll size: 5000\n",
      "Scrolling...\n"
     ]
    },
    {
     "name": "stderr",
     "output_type": "stream",
     "text": [
      "2017-02-24 21:24:03,107 : INFO : GET http://localhost:9200/_search/scroll?scroll=5m [status:200 request:9.291s]\n",
      "2017-02-24 21:24:03,176 : INFO : Documents Read: 1825000\n"
     ]
    },
    {
     "name": "stdout",
     "output_type": "stream",
     "text": [
      "scroll size: 5000\n",
      "Scrolling...\n"
     ]
    },
    {
     "name": "stderr",
     "output_type": "stream",
     "text": [
      "2017-02-24 21:24:13,180 : INFO : GET http://localhost:9200/_search/scroll?scroll=5m [status:200 request:10.002s]\n",
      "2017-02-24 21:24:13,247 : INFO : Documents Read: 1830000\n"
     ]
    },
    {
     "name": "stdout",
     "output_type": "stream",
     "text": [
      "scroll size: 5000\n",
      "Scrolling...\n"
     ]
    },
    {
     "name": "stderr",
     "output_type": "stream",
     "text": [
      "2017-02-24 21:24:22,988 : INFO : GET http://localhost:9200/_search/scroll?scroll=5m [status:200 request:9.737s]\n",
      "2017-02-24 21:24:23,066 : INFO : Documents Read: 1835000\n"
     ]
    },
    {
     "name": "stdout",
     "output_type": "stream",
     "text": [
      "scroll size: 5000\n",
      "Scrolling...\n"
     ]
    },
    {
     "name": "stderr",
     "output_type": "stream",
     "text": [
      "2017-02-24 21:24:33,006 : INFO : GET http://localhost:9200/_search/scroll?scroll=5m [status:200 request:9.938s]\n",
      "2017-02-24 21:24:33,142 : INFO : Documents Read: 1840000\n"
     ]
    },
    {
     "name": "stdout",
     "output_type": "stream",
     "text": [
      "scroll size: 5000\n",
      "Scrolling...\n"
     ]
    },
    {
     "name": "stderr",
     "output_type": "stream",
     "text": [
      "2017-02-24 21:24:43,412 : INFO : GET http://localhost:9200/_search/scroll?scroll=5m [status:200 request:10.267s]\n",
      "2017-02-24 21:24:43,447 : INFO : Documents Read: 1845000\n"
     ]
    },
    {
     "name": "stdout",
     "output_type": "stream",
     "text": [
      "scroll size: 5000\n",
      "Scrolling...\n"
     ]
    },
    {
     "name": "stderr",
     "output_type": "stream",
     "text": [
      "2017-02-24 21:24:53,707 : INFO : GET http://localhost:9200/_search/scroll?scroll=5m [status:200 request:10.257s]\n",
      "2017-02-24 21:24:53,741 : INFO : Documents Read: 1850000\n"
     ]
    },
    {
     "name": "stdout",
     "output_type": "stream",
     "text": [
      "scroll size: 5000\n",
      "Scrolling...\n"
     ]
    },
    {
     "name": "stderr",
     "output_type": "stream",
     "text": [
      "2017-02-24 21:25:04,054 : INFO : GET http://localhost:9200/_search/scroll?scroll=5m [status:200 request:10.311s]\n",
      "2017-02-24 21:25:04,111 : INFO : Documents Read: 1855000\n"
     ]
    },
    {
     "name": "stdout",
     "output_type": "stream",
     "text": [
      "scroll size: 5000\n",
      "Scrolling...\n"
     ]
    },
    {
     "name": "stderr",
     "output_type": "stream",
     "text": [
      "2017-02-24 21:25:14,078 : INFO : GET http://localhost:9200/_search/scroll?scroll=5m [status:200 request:9.965s]\n",
      "2017-02-24 21:25:14,111 : INFO : Documents Read: 1860000\n"
     ]
    },
    {
     "name": "stdout",
     "output_type": "stream",
     "text": [
      "scroll size: 5000\n",
      "Scrolling...\n"
     ]
    },
    {
     "name": "stderr",
     "output_type": "stream",
     "text": [
      "2017-02-24 21:25:24,235 : INFO : GET http://localhost:9200/_search/scroll?scroll=5m [status:200 request:10.121s]\n",
      "2017-02-24 21:25:24,273 : INFO : Documents Read: 1865000\n"
     ]
    },
    {
     "name": "stdout",
     "output_type": "stream",
     "text": [
      "scroll size: 5000\n",
      "Scrolling...\n"
     ]
    },
    {
     "name": "stderr",
     "output_type": "stream",
     "text": [
      "2017-02-24 21:25:34,558 : INFO : GET http://localhost:9200/_search/scroll?scroll=5m [status:200 request:10.283s]\n",
      "2017-02-24 21:25:34,589 : INFO : Documents Read: 1870000\n"
     ]
    },
    {
     "name": "stdout",
     "output_type": "stream",
     "text": [
      "scroll size: 5000\n",
      "Scrolling...\n"
     ]
    },
    {
     "name": "stderr",
     "output_type": "stream",
     "text": [
      "2017-02-24 21:25:45,252 : INFO : GET http://localhost:9200/_search/scroll?scroll=5m [status:200 request:10.660s]\n",
      "2017-02-24 21:25:45,286 : INFO : Documents Read: 1875000\n"
     ]
    },
    {
     "name": "stdout",
     "output_type": "stream",
     "text": [
      "scroll size: 5000\n",
      "Scrolling...\n"
     ]
    },
    {
     "name": "stderr",
     "output_type": "stream",
     "text": [
      "2017-02-24 21:25:55,358 : INFO : GET http://localhost:9200/_search/scroll?scroll=5m [status:200 request:10.070s]\n",
      "2017-02-24 21:25:55,392 : INFO : Documents Read: 1880000\n"
     ]
    },
    {
     "name": "stdout",
     "output_type": "stream",
     "text": [
      "scroll size: 5000\n",
      "Scrolling...\n"
     ]
    },
    {
     "name": "stderr",
     "output_type": "stream",
     "text": [
      "2017-02-24 21:26:04,363 : INFO : GET http://localhost:9200/_search/scroll?scroll=5m [status:200 request:8.969s]\n",
      "2017-02-24 21:26:04,421 : INFO : Documents Read: 1885000\n"
     ]
    },
    {
     "name": "stdout",
     "output_type": "stream",
     "text": [
      "scroll size: 5000\n",
      "Scrolling...\n"
     ]
    },
    {
     "name": "stderr",
     "output_type": "stream",
     "text": [
      "2017-02-24 21:26:13,805 : INFO : GET http://localhost:9200/_search/scroll?scroll=5m [status:200 request:9.382s]\n",
      "2017-02-24 21:26:13,837 : INFO : Documents Read: 1890000\n"
     ]
    },
    {
     "name": "stdout",
     "output_type": "stream",
     "text": [
      "scroll size: 5000\n",
      "Scrolling...\n"
     ]
    },
    {
     "name": "stderr",
     "output_type": "stream",
     "text": [
      "2017-02-24 21:26:23,470 : INFO : GET http://localhost:9200/_search/scroll?scroll=5m [status:200 request:9.631s]\n",
      "2017-02-24 21:26:23,509 : INFO : Documents Read: 1895000\n"
     ]
    },
    {
     "name": "stdout",
     "output_type": "stream",
     "text": [
      "scroll size: 5000\n",
      "Scrolling...\n"
     ]
    },
    {
     "name": "stderr",
     "output_type": "stream",
     "text": [
      "2017-02-24 21:26:33,310 : INFO : GET http://localhost:9200/_search/scroll?scroll=5m [status:200 request:9.799s]\n",
      "2017-02-24 21:26:33,344 : INFO : Documents Read: 1900000\n"
     ]
    },
    {
     "name": "stdout",
     "output_type": "stream",
     "text": [
      "scroll size: 5000\n",
      "Scrolling...\n"
     ]
    },
    {
     "name": "stderr",
     "output_type": "stream",
     "text": [
      "2017-02-24 21:26:42,745 : INFO : GET http://localhost:9200/_search/scroll?scroll=5m [status:200 request:9.399s]\n",
      "2017-02-24 21:26:42,777 : INFO : Documents Read: 1905000\n"
     ]
    },
    {
     "name": "stdout",
     "output_type": "stream",
     "text": [
      "scroll size: 5000\n",
      "Scrolling...\n"
     ]
    },
    {
     "name": "stderr",
     "output_type": "stream",
     "text": [
      "2017-02-24 21:26:52,353 : INFO : GET http://localhost:9200/_search/scroll?scroll=5m [status:200 request:9.573s]\n",
      "2017-02-24 21:26:52,421 : INFO : Documents Read: 1910000\n"
     ]
    },
    {
     "name": "stdout",
     "output_type": "stream",
     "text": [
      "scroll size: 5000\n",
      "Scrolling...\n"
     ]
    },
    {
     "name": "stderr",
     "output_type": "stream",
     "text": [
      "2017-02-24 21:27:01,994 : INFO : GET http://localhost:9200/_search/scroll?scroll=5m [status:200 request:9.571s]\n",
      "2017-02-24 21:27:02,089 : INFO : Documents Read: 1915000\n"
     ]
    },
    {
     "name": "stdout",
     "output_type": "stream",
     "text": [
      "scroll size: 5000\n",
      "Scrolling...\n"
     ]
    },
    {
     "name": "stderr",
     "output_type": "stream",
     "text": [
      "2017-02-24 21:27:11,282 : INFO : GET http://localhost:9200/_search/scroll?scroll=5m [status:200 request:9.191s]\n",
      "2017-02-24 21:27:11,349 : INFO : Documents Read: 1920000\n"
     ]
    },
    {
     "name": "stdout",
     "output_type": "stream",
     "text": [
      "scroll size: 5000\n",
      "Scrolling...\n"
     ]
    },
    {
     "name": "stderr",
     "output_type": "stream",
     "text": [
      "2017-02-24 21:27:20,541 : INFO : GET http://localhost:9200/_search/scroll?scroll=5m [status:200 request:9.190s]\n",
      "2017-02-24 21:27:20,578 : INFO : Documents Read: 1925000\n"
     ]
    },
    {
     "name": "stdout",
     "output_type": "stream",
     "text": [
      "scroll size: 5000\n",
      "Scrolling...\n"
     ]
    },
    {
     "name": "stderr",
     "output_type": "stream",
     "text": [
      "2017-02-24 21:27:30,223 : INFO : GET http://localhost:9200/_search/scroll?scroll=5m [status:200 request:9.643s]\n",
      "2017-02-24 21:27:30,255 : INFO : Documents Read: 1930000\n"
     ]
    },
    {
     "name": "stdout",
     "output_type": "stream",
     "text": [
      "scroll size: 5000\n",
      "Scrolling...\n"
     ]
    },
    {
     "name": "stderr",
     "output_type": "stream",
     "text": [
      "2017-02-24 21:27:38,887 : INFO : GET http://localhost:9200/_search/scroll?scroll=5m [status:200 request:8.630s]\n",
      "2017-02-24 21:27:38,922 : INFO : Documents Read: 1935000\n"
     ]
    },
    {
     "name": "stdout",
     "output_type": "stream",
     "text": [
      "scroll size: 5000\n",
      "Scrolling...\n"
     ]
    },
    {
     "name": "stderr",
     "output_type": "stream",
     "text": [
      "2017-02-24 21:27:47,521 : INFO : GET http://localhost:9200/_search/scroll?scroll=5m [status:200 request:8.597s]\n",
      "2017-02-24 21:27:47,555 : INFO : Documents Read: 1940000\n"
     ]
    },
    {
     "name": "stdout",
     "output_type": "stream",
     "text": [
      "scroll size: 5000\n",
      "Scrolling...\n"
     ]
    },
    {
     "name": "stderr",
     "output_type": "stream",
     "text": [
      "2017-02-24 21:27:56,550 : INFO : GET http://localhost:9200/_search/scroll?scroll=5m [status:200 request:8.993s]\n",
      "2017-02-24 21:27:56,586 : INFO : Documents Read: 1945000\n"
     ]
    },
    {
     "name": "stdout",
     "output_type": "stream",
     "text": [
      "scroll size: 5000\n",
      "Scrolling...\n"
     ]
    },
    {
     "name": "stderr",
     "output_type": "stream",
     "text": [
      "2017-02-24 21:28:05,414 : INFO : GET http://localhost:9200/_search/scroll?scroll=5m [status:200 request:8.827s]\n",
      "2017-02-24 21:28:05,465 : INFO : Documents Read: 1950000\n"
     ]
    },
    {
     "name": "stdout",
     "output_type": "stream",
     "text": [
      "scroll size: 5000\n",
      "Scrolling...\n"
     ]
    },
    {
     "name": "stderr",
     "output_type": "stream",
     "text": [
      "2017-02-24 21:28:14,428 : INFO : GET http://localhost:9200/_search/scroll?scroll=5m [status:200 request:8.961s]\n",
      "2017-02-24 21:28:14,462 : INFO : Documents Read: 1955000\n"
     ]
    },
    {
     "name": "stdout",
     "output_type": "stream",
     "text": [
      "scroll size: 5000\n",
      "Scrolling...\n"
     ]
    },
    {
     "name": "stderr",
     "output_type": "stream",
     "text": [
      "2017-02-24 21:28:23,788 : INFO : GET http://localhost:9200/_search/scroll?scroll=5m [status:200 request:9.325s]\n",
      "2017-02-24 21:28:23,821 : INFO : Documents Read: 1960000\n"
     ]
    },
    {
     "name": "stdout",
     "output_type": "stream",
     "text": [
      "scroll size: 5000\n",
      "Scrolling...\n"
     ]
    },
    {
     "name": "stderr",
     "output_type": "stream",
     "text": [
      "2017-02-24 21:28:32,630 : INFO : GET http://localhost:9200/_search/scroll?scroll=5m [status:200 request:8.808s]\n",
      "2017-02-24 21:28:32,663 : INFO : Documents Read: 1965000\n"
     ]
    },
    {
     "name": "stdout",
     "output_type": "stream",
     "text": [
      "scroll size: 5000\n",
      "Scrolling...\n"
     ]
    },
    {
     "name": "stderr",
     "output_type": "stream",
     "text": [
      "2017-02-24 21:28:40,645 : INFO : GET http://localhost:9200/_search/scroll?scroll=5m [status:200 request:7.980s]\n",
      "2017-02-24 21:28:40,679 : INFO : Documents Read: 1970000\n"
     ]
    },
    {
     "name": "stdout",
     "output_type": "stream",
     "text": [
      "scroll size: 5000\n",
      "Scrolling...\n"
     ]
    },
    {
     "name": "stderr",
     "output_type": "stream",
     "text": [
      "2017-02-24 21:28:48,689 : INFO : GET http://localhost:9200/_search/scroll?scroll=5m [status:200 request:8.008s]\n",
      "2017-02-24 21:28:48,744 : INFO : Documents Read: 1975000\n"
     ]
    },
    {
     "name": "stdout",
     "output_type": "stream",
     "text": [
      "scroll size: 5000\n",
      "Scrolling...\n"
     ]
    },
    {
     "name": "stderr",
     "output_type": "stream",
     "text": [
      "2017-02-24 21:28:57,147 : INFO : GET http://localhost:9200/_search/scroll?scroll=5m [status:200 request:8.401s]\n",
      "2017-02-24 21:28:57,202 : INFO : Documents Read: 1980000\n"
     ]
    },
    {
     "name": "stdout",
     "output_type": "stream",
     "text": [
      "scroll size: 5000\n",
      "Scrolling...\n"
     ]
    },
    {
     "name": "stderr",
     "output_type": "stream",
     "text": [
      "2017-02-24 21:29:05,090 : INFO : GET http://localhost:9200/_search/scroll?scroll=5m [status:200 request:7.886s]\n",
      "2017-02-24 21:29:05,123 : INFO : Documents Read: 1985000\n"
     ]
    },
    {
     "name": "stdout",
     "output_type": "stream",
     "text": [
      "scroll size: 5000\n",
      "Scrolling...\n"
     ]
    },
    {
     "name": "stderr",
     "output_type": "stream",
     "text": [
      "2017-02-24 21:29:13,405 : INFO : GET http://localhost:9200/_search/scroll?scroll=5m [status:200 request:8.279s]\n",
      "2017-02-24 21:29:13,438 : INFO : Documents Read: 1990000\n"
     ]
    },
    {
     "name": "stdout",
     "output_type": "stream",
     "text": [
      "scroll size: 5000\n",
      "Scrolling...\n"
     ]
    },
    {
     "name": "stderr",
     "output_type": "stream",
     "text": [
      "2017-02-24 21:29:21,420 : INFO : GET http://localhost:9200/_search/scroll?scroll=5m [status:200 request:7.980s]\n",
      "2017-02-24 21:29:21,453 : INFO : Documents Read: 1995000\n"
     ]
    },
    {
     "name": "stdout",
     "output_type": "stream",
     "text": [
      "scroll size: 5000\n",
      "Scrolling...\n"
     ]
    },
    {
     "name": "stderr",
     "output_type": "stream",
     "text": [
      "2017-02-24 21:29:29,720 : INFO : GET http://localhost:9200/_search/scroll?scroll=5m [status:200 request:8.228s]\n",
      "2017-02-24 21:29:29,754 : INFO : Documents Read: 2000000\n"
     ]
    },
    {
     "name": "stdout",
     "output_type": "stream",
     "text": [
      "scroll size: 5000\n",
      "Scrolling...\n"
     ]
    },
    {
     "name": "stderr",
     "output_type": "stream",
     "text": [
      "2017-02-24 21:29:38,149 : INFO : GET http://localhost:9200/_search/scroll?scroll=5m [status:200 request:8.393s]\n",
      "2017-02-24 21:29:38,183 : INFO : Documents Read: 2005000\n"
     ]
    },
    {
     "name": "stdout",
     "output_type": "stream",
     "text": [
      "scroll size: 5000\n",
      "Scrolling...\n"
     ]
    },
    {
     "name": "stderr",
     "output_type": "stream",
     "text": [
      "2017-02-24 21:29:46,663 : INFO : GET http://localhost:9200/_search/scroll?scroll=5m [status:200 request:8.460s]\n",
      "2017-02-24 21:29:46,713 : INFO : Documents Read: 2008989\n"
     ]
    },
    {
     "name": "stdout",
     "output_type": "stream",
     "text": [
      "scroll size: 3989\n",
      "Scrolling...\n"
     ]
    },
    {
     "name": "stderr",
     "output_type": "stream",
     "text": [
      "2017-02-24 21:29:49,228 : INFO : GET http://localhost:9200/_search/scroll?scroll=5m [status:200 request:2.501s]\n",
      "2017-02-24 21:29:49,240 : INFO : Documents Read: 2009750\n",
      "2017-02-24 21:29:49,338 : INFO : GET http://localhost:9200/_search/scroll?scroll=5m [status:200 request:0.097s]\n",
      "2017-02-24 21:29:49,340 : INFO : Documents Read: 2009750\n"
     ]
    },
    {
     "name": "stdout",
     "output_type": "stream",
     "text": [
      "scroll size: 761\n",
      "Scrolling...\n",
      "scroll size: 0\n",
      "CPU times: user 17.5 s, sys: 730 ms, total: 18.2 s\n",
      "Wall time: 1h 4min 43s\n"
     ]
    }
   ],
   "source": [
    "%%time\n",
    "scroll_size = total_size\n",
    "# Start scrolling\n",
    "while (scroll_size > 0):\n",
    "    print \"Scrolling...\"\n",
    "    page = es.scroll(scroll_id = sid, scroll = '5m')\n",
    "    # Update the scroll ID\n",
    "    sid = page['_scroll_id']\n",
    "    # Get the number of results that we returned in the last scroll\n",
    "    scroll_size = len(page['hits']['hits'])\n",
    "    print \"scroll size: \" + str(scroll_size)\n",
    "    # Do something with the obtained page\n",
    "    for hit in page['hits']['hits']:\n",
    "        doc_id = hit['_id']\n",
    "        dates_map[doc_id] = hit['fields']['patent-date'][0]\n",
    "    info('Documents Read: {}'.format(len(dates_map)))"
   ]
  },
  {
   "cell_type": "code",
   "execution_count": 66,
   "metadata": {
    "collapsed": true
   },
   "outputs": [],
   "source": [
    "pickle.dump(dates_map, open('../../data/dates_map.pkl', 'w'))"
   ]
  },
  {
   "cell_type": "code",
   "execution_count": 62,
   "metadata": {
    "collapsed": false
   },
   "outputs": [],
   "source": [
    "all_dates = sorted(dates_map.values())"
   ]
  },
  {
   "cell_type": "code",
   "execution_count": 64,
   "metadata": {
    "collapsed": false
   },
   "outputs": [
    {
     "data": {
      "text/plain": [
       "u'20150317'"
      ]
     },
     "execution_count": 64,
     "metadata": {},
     "output_type": "execute_result"
    }
   ],
   "source": [
    "print all_dates[0]\n",
    "print all_dates[-1]"
   ]
  },
  {
   "cell_type": "markdown",
   "metadata": {},
   "source": [
    "## Get Abstracts from File into a dictionary"
   ]
  },
  {
   "cell_type": "code",
   "execution_count": 3,
   "metadata": {
    "collapsed": true
   },
   "outputs": [],
   "source": [
    "abstracts_file = open('../../data/abstracts.txt')\n",
    "abstracts_map = {}"
   ]
  },
  {
   "cell_type": "code",
   "execution_count": 4,
   "metadata": {
    "collapsed": false
   },
   "outputs": [
    {
     "name": "stdout",
     "output_type": "stream",
     "text": [
      "49116 07392834 \n",
      "\n",
      "119828 07365077 \n",
      "\n",
      "226841 RE040211 \n",
      "\n",
      "228712 08673928 \n",
      "\n",
      "236846 07317010 \n",
      "\n",
      "299964 08183374 \n",
      "\n",
      "513157 08344181 \n",
      "\n",
      "633510 08415378 \n",
      "\n",
      "741368 07678826 \n",
      "\n",
      "1111819 07687644 \n",
      "\n",
      "1175766 08048892 \n",
      "\n",
      "1191907 08388931 \n",
      "\n",
      "1196148 07968601 \n",
      "\n",
      "1196172 08048899 \n",
      "\n",
      "1305852 07153844 \n",
      "\n",
      "1316310 07902375 \n",
      "\n",
      "1444541 07112638 \n",
      "\n",
      "1527283 07625895 \n",
      "\n",
      "1548337 07119092 \n",
      "\n",
      "1592448 07964724 \n",
      "\n",
      "1648733 07035516 \n",
      "\n",
      "1712672 07148274 \n",
      "\n",
      "1762037 07057874 \n",
      "\n",
      "1799721 07566726 \n",
      "\n",
      "1802715 07129253 \n",
      "\n",
      "1807451 07049324 \n",
      "\n",
      "1899522 07592356 \n",
      "\n",
      "1917638 07001945 \n",
      "\n",
      "1929091 07115616 \n",
      "\n",
      "1958852 07105558 \n",
      "\n",
      "CPU times: user 2.95 s, sys: 921 ms, total: 3.87 s\n",
      "Wall time: 19.6 s\n"
     ]
    }
   ],
   "source": [
    "%%time\n",
    "for i, line in enumerate(abstracts_file):\n",
    "    try:\n",
    "        doc_id, abstract = line.strip().split(' ', 1)\n",
    "        abstracts_map[doc_id] = abstract\n",
    "    except Exception as e:\n",
    "        print i, line\n",
    "#         raise e"
   ]
  },
  {
   "cell_type": "code",
   "execution_count": 5,
   "metadata": {
    "collapsed": false
   },
   "outputs": [
    {
     "ename": "KeyError",
     "evalue": "'07365077'",
     "output_type": "error",
     "traceback": [
      "\u001b[1;31m---------------------------------------------------------------------------\u001b[0m",
      "\u001b[1;31mKeyError\u001b[0m                                  Traceback (most recent call last)",
      "\u001b[1;32m<ipython-input-5-00d3eca47fac>\u001b[0m in \u001b[0;36m<module>\u001b[1;34m()\u001b[0m\n\u001b[1;32m----> 1\u001b[1;33m \u001b[0mabstracts_map\u001b[0m\u001b[1;33m[\u001b[0m\u001b[1;34m'07365077'\u001b[0m\u001b[1;33m]\u001b[0m\u001b[1;33m\u001b[0m\u001b[0m\n\u001b[0m",
      "\u001b[1;31mKeyError\u001b[0m: '07365077'"
     ]
    }
   ],
   "source": [
    "abstracts_map['07365077']"
   ]
  },
  {
   "cell_type": "code",
   "execution_count": 6,
   "metadata": {
    "collapsed": false
   },
   "outputs": [
    {
     "name": "stdout",
     "output_type": "stream",
     "text": [
      "1999749\n"
     ]
    }
   ],
   "source": [
    "print i"
   ]
  },
  {
   "cell_type": "code",
   "execution_count": 11,
   "metadata": {
    "collapsed": false
   },
   "outputs": [],
   "source": [
    "pickle.dump(abstracts_map, open('../../data/abstracts_map.pkl', 'w'))"
   ]
  },
  {
   "cell_type": "code",
   "execution_count": 12,
   "metadata": {
    "collapsed": false
   },
   "outputs": [
    {
     "data": {
      "text/plain": [
       "'In a demodulation process of a first modulated signal and a second modulated signal, phase adjustment is automatically performed by generating, in response to demodulation results, an optimum phase value of a second internal reference wave for demodulating the second modulated signal. A phase of a second internal reference wave for demodulating the first modulated signal is also adjusted using the optimum phase value for the automatic adjustment.'"
      ]
     },
     "execution_count": 12,
     "metadata": {},
     "output_type": "execute_result"
    }
   ],
   "source": [
    "abstracts_map.items()[0][1].strip()"
   ]
  },
  {
   "cell_type": "code",
   "execution_count": 14,
   "metadata": {
    "collapsed": false
   },
   "outputs": [
    {
     "data": {
      "text/plain": [
       "1999720"
      ]
     },
     "execution_count": 14,
     "metadata": {},
     "output_type": "execute_result"
    }
   ],
   "source": [
    "len(abstracts_map)"
   ]
  },
  {
   "cell_type": "code",
   "execution_count": 15,
   "metadata": {
    "collapsed": false
   },
   "outputs": [
    {
     "data": {
      "text/plain": [
       "10030"
      ]
     },
     "execution_count": 15,
     "metadata": {},
     "output_type": "execute_result"
    }
   ],
   "source": [
    "2009750 - len(abstracts_map)"
   ]
  },
  {
   "cell_type": "code",
   "execution_count": 13,
   "metadata": {
    "collapsed": false
   },
   "outputs": [
    {
     "data": {
      "text/plain": [
       "[]"
      ]
     },
     "execution_count": 13,
     "metadata": {},
     "output_type": "execute_result"
    }
   ],
   "source": [
    "[x for x in abstracts_map.values() if len(x.strip()) == 0]"
   ]
  },
  {
   "cell_type": "code",
   "execution_count": 23,
   "metadata": {
    "collapsed": false,
    "scrolled": true
   },
   "outputs": [
    {
     "name": "stdout",
     "output_type": "stream",
     "text": [
      "In a demodulation process of a first modulated signal and a second modulated signal, phase adjustment is automatically performed by generating, in response to demodulation results, an optimum phase value of a second internal reference wave for demodulating the second modulated signal. A phase of a second internal reference wave for demodulating the first modulated signal is also adjusted using the optimum phase value for the automatic adjustment.\n"
     ]
    }
   ],
   "source": [
    "for doc_id in abstracts_map:\n",
    "    print abstracts_map[doc_id]\n",
    "    break"
   ]
  },
  {
   "cell_type": "code",
   "execution_count": 26,
   "metadata": {
    "collapsed": true
   },
   "outputs": [],
   "source": [
    "abstracts_file = open('../../data/abstracts.txt')"
   ]
  },
  {
   "cell_type": "code",
   "execution_count": 28,
   "metadata": {
    "collapsed": false,
    "scrolled": true
   },
   "outputs": [
    {
     "name": "stdout",
     "output_type": "stream",
     "text": [
      "07336867 A 1×N\n",
      "\n",
      "07327769 A CO\n",
      "\n",
      "07414156 Non-C\n",
      "\n",
      "07432295 Novel \n",
      "\n",
      "08796299 A NK\n",
      "\n",
      "07392834 \n",
      "\n",
      "08742393 The SrTiO\n",
      "\n",
      "07381393 H\n",
      "\n",
      "08623123 CO\n",
      "\n",
      "07416716 SO\n",
      "\n",
      "07387923 A PbTiO\n",
      "\n",
      "07387989 An Al\n",
      "\n",
      "07372037 N\n",
      "\n",
      "07330082 An n\n",
      "\n",
      "08906331 Ag/Al\n",
      "\n",
      "07365077 \n",
      "\n",
      "07411989 A CO\n",
      "\n",
      "07375520 A T\n",
      "\n",
      "07456039 An SiO\n",
      "\n",
      "08641993 A NO\n",
      "\n",
      "07439313 A MgCl\n",
      "\n",
      "08728220 A CO\n",
      "\n",
      "07407778 Acetyl-\n",
      "\n",
      "07341932 Pt/n\n",
      "\n",
      "08715397 A CO\n",
      "\n",
      "07365327 An SiO\n",
      "\n",
      "07416685 A CaTiO\n",
      "\n",
      "07429408 C\n",
      "\n",
      "07332143 NO\n",
      "\n",
      "08920756 Ag/Al\n",
      "\n",
      "07346115 A matrix \n",
      "\n",
      "RE040211 \n",
      "\n",
      "08673928 \n",
      "\n",
      "07317010 \n",
      "\n",
      "08895467 An Ag/Mn\n",
      "\n",
      "08920160 Low NO\n",
      "\n",
      "08680003 N\n",
      "\n",
      "08894757 The CO\n",
      "\n",
      "08845797 A CO\n",
      "\n",
      "08920548 The CO\n",
      "\n",
      "08183374 \n",
      "\n",
      "07364711 N\n",
      "\n",
      "08663363 A CO\n",
      "\n",
      "08894941 SO\n",
      "\n",
      "08764373 The \n",
      "\n",
      "08871396 A CO\n",
      "\n",
      "08895198 An air CO\n",
      "\n",
      "08624104 An In\n",
      "\n",
      "08764884 A CO\n",
      "\n",
      "08871164 SO\n",
      "\n",
      "08741679 The NH\n",
      "\n",
      "08889091 LiPO\n",
      "\n",
      "08706792 f(x(s\n",
      "\n",
      "08722559 In a NO\n",
      "\n",
      "08759813 An Al\n",
      "\n",
      "08741242 A NO\n",
      "\n",
      "08668889 SO\n",
      "\n",
      "08734798 A Na\n",
      "\n",
      "08885684 A CO\n",
      "\n",
      "08679447 SO\n",
      "\n",
      "08903253 A 2\n",
      "\n",
      "08093168 A ZrO\n",
      "\n",
      "08211394 A CO\n",
      "\n",
      "08859797 A SiH[CH\n",
      "\n",
      "08793079 1\n",
      "\n",
      "08900705 TiO\n",
      "\n",
      "08137441 A CO\n",
      "\n",
      "08223815 A CO\n",
      "\n",
      "08344181 \n",
      "\n",
      "08377184 A CO\n",
      "\n",
      "08222302 A TiO\n",
      "\n",
      "08784537 CO\n",
      "\n",
      "07346836 An E\n",
      "\n",
      "08709969 Ru\n",
      "\n",
      "08318808 Zn\n",
      "\n",
      "08158034 TiO\n",
      "\n",
      "08163203 A Ce\n",
      "\n",
      "08209998 SiO\n",
      "\n",
      "08354893 In a CO\n",
      "\n",
      "07186722 Novel Δ\n",
      "\n",
      "08163573 In\n",
      "\n",
      "08412209 In a 3\n",
      "\n",
      "07230115 Novel \n",
      "\n",
      "07229947 An NO\n",
      "\n",
      "07274722 CO\n",
      "\n",
      "08108154 A NO\n",
      "\n",
      "08103896 I\n",
      "\n",
      "08101149 C\n",
      "\n",
      "08415378 \n",
      "\n",
      "08248876 In a 4F\n",
      "\n",
      "08343376 A KNbO\n",
      "\n",
      "08535427 A CO\n",
      "\n",
      "08104271 An SO\n",
      "\n",
      "08222228 A\n",
      "\n",
      "08921903 On a p\n",
      "\n",
      "08197618 An Ni\n",
      "\n",
      "08273895 A NK\n",
      "\n",
      "08168048 A CO\n",
      "\n",
      "08111125 A Nb\n",
      "\n",
      "07692504 An n\n",
      "\n",
      "07693207 In a CO\n",
      "\n",
      "07309774 Human α\n",
      "\n",
      "08379296 CdSiP\n",
      "\n",
      "07181904 An SO\n",
      "\n",
      "07261061 A low NO\n",
      "\n",
      "08500867 CO\n",
      "\n",
      "08500892 CO\n",
      "\n",
      "07767116 12CaO.7Al\n",
      "\n",
      "08605118 When N\n",
      "\n",
      "07157144 SrBi\n",
      "\n",
      "07678826 \n",
      "\n",
      "08562820 1,3,5-(2H\n",
      "\n",
      "07295586 GaAs\n",
      "\n",
      "08529678 A CO\n",
      "\n",
      "07276683 N\n",
      "\n",
      "08344460 Ni\n",
      "\n",
      "08343454 A Cu\n",
      "\n",
      "07651574 A Gd\n",
      "\n",
      "08454932 TiO\n",
      "\n",
      "07928028 A ZrO\n",
      "\n",
      "07247453 A Ca\n",
      "\n",
      "07977243 A Cl\n",
      "\n",
      "07771684 CO\n",
      "\n",
      "08951490 A CO\n",
      "\n",
      "08948116 In a 3\n",
      "\n",
      "08959894 MnO\n",
      "\n",
      "07832592 A CO\n",
      "\n",
      "08006480 A lean NO\n",
      "\n",
      "07660057 Areas 11\n",
      "\n",
      "08377404 UI\n",
      "\n",
      "08377170 A CO\n",
      "\n",
      "07786659 Using Eu\n",
      "\n",
      "07290200 An E\n",
      "\n",
      "07851647 Alkoxy[\n",
      "\n",
      "07252794 A SrRuO\n",
      "\n",
      "07693006 1\n",
      "\n",
      "07834423 Al\n",
      "\n",
      "07183219 An SiO\n",
      "\n",
      "07916770 e\n",
      "\n",
      "08357597 Si\n",
      "\n",
      "RE041149 N\n",
      "\n",
      "08530914 SiO\n",
      "\n",
      "07172934 A SiO\n",
      "\n",
      "08431100 CO\n",
      "\n",
      "08197576 A CO\n",
      "\n",
      "07825430 An n\n",
      "\n",
      "07682528 An La\n",
      "\n",
      "07297626 A Ni\n",
      "\n",
      "07281368 In an NO\n",
      "\n",
      "08226748 A CO\n",
      "\n",
      "07683457 A CaF\n",
      "\n",
      "PP020860 A \n",
      "\n",
      "07849674 A NO\n",
      "\n",
      "07850190 An NH\n",
      "\n",
      "07749474 A lean NO\n",
      "\n",
      "07728376 HfO\n",
      "\n",
      "07800408 An I\n",
      "\n",
      "07920040 A Nb\n",
      "\n",
      "08329879 H\n",
      "\n",
      "08307639 An SO\n",
      "\n",
      "07860172 A k-to-2\n",
      "\n",
      "07190013 A PbTiO\n",
      "\n",
      "07737063 Al\n",
      "\n",
      "08186149 A NO\n",
      "\n",
      "07855406 An n/p\n",
      "\n",
      "07964072 A NO\n",
      "\n",
      "07685812 A NO\n",
      "\n",
      "08218387 In a 4F\n",
      "\n",
      "08040658 A SrTiO\n",
      "\n",
      "08040660 Nb\n",
      "\n",
      "08023352 In a 4F\n",
      "\n",
      "08006446 CO\n",
      "\n",
      "07211665 1,3,5-(2H\n",
      "\n",
      "07976813 C\n",
      "\n",
      "07892509 A CO\n",
      "\n",
      "08082103 Hourly CO\n",
      "\n",
      "08084801 In a 6F\n",
      "\n",
      "07776621 An IrO\n",
      "\n",
      "07687644 \n",
      "\n",
      "08116346 A CO\n",
      "\n",
      "07644593 CO\n",
      "\n",
      "07694512 A NO\n",
      "\n",
      "07745906 An n\n",
      "\n",
      "07889775 A CO\n",
      "\n",
      "07176497 An Al\n",
      "\n",
      "07859307 An I\n",
      "\n",
      "07670135 A low NO\n",
      "\n",
      "08048892 \n",
      "\n",
      "08030458 An IgG\n",
      "\n",
      "07842275 After AlH\n",
      "\n",
      "07871888 A p\n",
      "\n",
      "07258707 Al\n",
      "\n",
      "08388931 \n",
      "\n",
      "07911927 A Bi\n",
      "\n",
      "07968601 \n",
      "\n",
      "08048899 \n",
      "\n",
      "08048236 A Gd\n",
      "\n",
      "07795120 A \n",
      "\n",
      "07301178 A P\n",
      "\n",
      "07683400 A Si\n",
      "\n",
      "08974582 A CO\n",
      "\n",
      "07248196 2\n",
      "\n",
      "07160536 A \n",
      "\n",
      "07669148 A \n",
      "\n",
      "07928145 Zn\n",
      "\n",
      "07964168 The CO\n",
      "\n",
      "07604752 A SrTiO\n",
      "\n",
      "08008746 An n\n",
      "\n",
      "07556792 Ba(OH)\n",
      "\n",
      "08605895 An E\n",
      "\n",
      "07917554 A \n",
      "\n",
      "08493649 CdSiP\n",
      "\n",
      "07980064 A lean NO\n",
      "\n",
      "07888313 α\n",
      "\n",
      "07888329 A\n",
      "\n",
      "07902366 A NK\n",
      "\n",
      "07914758 A CO\n",
      "\n",
      "07128995 An La\n",
      "\n",
      "08398757 A CO\n",
      "\n",
      "08398758 A CO\n",
      "\n",
      "07976697 A NO\n",
      "\n",
      "07085863 An I\n",
      "\n",
      "07153844 \n",
      "\n",
      "07225090 C\n",
      "\n",
      "PP017768 An F\n",
      "\n",
      "07902375 \n",
      "\n",
      "07803399 α\n",
      "\n",
      "07012036 A ZrO\n",
      "\n",
      "07902634 An n\n",
      "\n",
      "08571616 An MgB\n",
      "\n",
      "07659209 A Cl\n",
      "\n",
      "08343620 An α-Al\n",
      "\n",
      "07655528 SiH\n",
      "\n",
      "08450219 An Al\n",
      "\n",
      "08354086 A CO\n",
      "\n",
      "07307289 A P\n",
      "\n",
      "07473410 C\n",
      "\n",
      "07619261 An Al\n",
      "\n",
      "07855108 A Si\n",
      "\n",
      "07545842 In a CO\n",
      "\n",
      "08409339 A CO\n",
      "\n",
      "07736433 BaTiO\n",
      "\n",
      "07892519 CuInS\n",
      "\n",
      "08519462 A 6F\n",
      "\n",
      "07678711 A SiO\n",
      "\n",
      "07678329 A NO\n",
      "\n",
      "07491408 A novel A\n",
      "\n",
      "08071959 An \n",
      "\n",
      "08609362 G\n",
      "\n",
      "07989344 Ni\n",
      "\n",
      "07919236 G\n",
      "\n",
      "07918926 A CO\n",
      "\n",
      "08603424 CO\n",
      "\n",
      "08614161 A CO\n",
      "\n",
      "07112638 \n",
      "\n",
      "08961931 A \n",
      "\n",
      "07926432 A low NO\n",
      "\n",
      "08063848 An X, K\n",
      "\n",
      "08012446 NO\n",
      "\n",
      "08506693 A CO\n",
      "\n",
      "08052948 A CO\n",
      "\n",
      "08070860 An H\n",
      "\n",
      "08976618 Decoded 2\n",
      "\n",
      "07943964 An Al\n",
      "\n",
      "07977323 C\n",
      "\n",
      "08467522 A 7\n",
      "\n",
      "07560998 1\n",
      "\n",
      "07101521 A LiFePO\n",
      "\n",
      "07625895 \n",
      "\n",
      "07507170 In the 21\n",
      "\n",
      "07507268 Al\n",
      "\n",
      "07914854 An SiO\n",
      "\n",
      "07521152 Li\n",
      "\n",
      "06992114 CO\n",
      "\n",
      "07119092 \n",
      "\n",
      "08025932 Ta\n",
      "\n",
      "07049198 An S\n",
      "\n",
      "07009376 A SnO\n",
      "\n",
      "07025987 α\n",
      "\n",
      "08404305 The LiMPO\n",
      "\n",
      "08485813 A low NO\n",
      "\n",
      "08959884 CO\n",
      "\n",
      "08404604 A P\n",
      "\n",
      "07964724 \n",
      "\n",
      "07964553 R\n",
      "\n",
      "07547558 An Al\n",
      "\n",
      "07563293 Al\n",
      "\n",
      "08597412 A CO\n",
      "\n",
      "07938889 A CO\n",
      "\n",
      "07589076 A\n",
      "\n",
      "07122677 A NK\n",
      "\n",
      "07035516 \n",
      "\n",
      "07567016 In k\n",
      "\n",
      "07521327 A high f\n",
      "\n",
      "07818971 A CO\n",
      "\n",
      "07883644 A LiCoO\n",
      "\n",
      "08946116 A TiO\n",
      "\n",
      "08617423 An H\n",
      "\n",
      "08488433 When ld\n",
      "\n",
      "06992113 CO\n",
      "\n",
      "08591818 A (H\n",
      "\n",
      "08467461 2\n",
      "\n",
      "07622152 A MoSi\n",
      "\n",
      "07528055 Al\n",
      "\n",
      "07118324 A CO\n",
      "\n",
      "07148274 \n",
      "\n",
      "08435915 The TiO\n",
      "\n",
      "08617297 A CO\n",
      "\n",
      "08545782 A CO\n",
      "\n",
      "08548785 A CO\n",
      "\n",
      "07057874 \n",
      "\n",
      "07056851 A ZrO\n",
      "\n",
      "07494638 C\n",
      "\n",
      "07018598 F\n",
      "\n",
      "07138671 A first p\n",
      "\n",
      "07632539 Bi\n",
      "\n",
      "06995185 Novel Δ\n",
      "\n",
      "07566726 \n",
      "\n",
      "07129253 \n",
      "\n",
      "07049320 A NK\n",
      "\n",
      "07049324 \n",
      "\n",
      "07049681 A Si\n",
      "\n",
      "07482458 NK\n",
      "\n",
      "07508736 1\n",
      "\n",
      "07622095 A lean NO\n",
      "\n",
      "07046181 A 2\n",
      "\n",
      "07038098 C\n",
      "\n",
      "08580206 SO\n",
      "\n",
      "07118919 Use of \n",
      "\n",
      "07118747 AT\n",
      "\n",
      "07527999 A Cd\n",
      "\n",
      "06984355 A BaTiO\n",
      "\n",
      "07572942 Various \n",
      "\n",
      "08485015 A NO\n",
      "\n",
      "07592356 \n",
      "\n",
      "07135497 β\n",
      "\n",
      "07592656 An Al\n",
      "\n",
      "07629413 C\n",
      "\n",
      "07001945 \n",
      "\n",
      "07135399 An Al\n",
      "\n",
      "07018614 An \n",
      "\n",
      "07115616 \n",
      "\n",
      "07569502 A SiO\n",
      "\n",
      "07078495 An IgG\n",
      "\n",
      "07077935 O\n",
      "\n",
      "07122374 Aβ\n",
      "\n",
      "07019343 A SnO\n",
      "\n",
      "07122064 An Al\n",
      "\n",
      "07038298 A high f\n",
      "\n",
      "07105558 \n",
      "\n",
      "07064168 A\n",
      "\n",
      "07098043 A Pr\n",
      "\n",
      "07078242 An IrO\n",
      "\n",
      "07074785 Novel Δ\n",
      "\n",
      "07072539 A 1×N\n",
      "\n",
      "07087688 A MgCl\n",
      "\n"
     ]
    }
   ],
   "source": [
    "for line in abstracts_file:\n",
    "    if len(line) < 20:\n",
    "        print line"
   ]
  },
  {
   "cell_type": "markdown",
   "metadata": {},
   "source": [
    "## Abstract Tokenization"
   ]
  },
  {
   "cell_type": "code",
   "execution_count": 9,
   "metadata": {
    "collapsed": true
   },
   "outputs": [],
   "source": [
    "from nltk.tokenize import RegexpTokenizer\n",
    "import string"
   ]
  },
  {
   "cell_type": "code",
   "execution_count": 5,
   "metadata": {
    "collapsed": false
   },
   "outputs": [],
   "source": [
    "abstracts_map = pickle.load(open('/mnt/data2/shalaby/exported_data/abstracts_map.pkl'))"
   ]
  },
  {
   "cell_type": "code",
   "execution_count": 10,
   "metadata": {
    "collapsed": true
   },
   "outputs": [],
   "source": [
    "NUMBER_INDICATOR = \"number_inidicator\"\n",
    "CURRENCY_INDICATOR = \"currency_inidicator\"\n",
    "CHEMICAL_INDICATOR = \"chemical_inidicator\"\n",
    "MIN_SIZE = 0"
   ]
  },
  {
   "cell_type": "code",
   "execution_count": 11,
   "metadata": {
    "collapsed": true
   },
   "outputs": [],
   "source": [
    "def stemtokenizer(text):\n",
    "    \"\"\" MAIN FUNCTION to get clean stems out of a text. A list of clean stems are returned \"\"\"\n",
    "    tokenizer = RegexpTokenizer(r'\\s+', gaps=True)\n",
    "    tokens = tokenizer.tokenize(text)\n",
    "    stems = []  # result\n",
    "    for token in tokens:\n",
    "        stem = token.lower()\n",
    "        stem = stem.strip(string.punctuation)\n",
    "        if stem:\n",
    "            if is_number(stem):\n",
    "                stem = NUMBER_INDICATOR\n",
    "            elif is_currency(stem):\n",
    "                stem = CURRENCY_INDICATOR\n",
    "            elif is_chemical(stem):\n",
    "                stem = CHEMICAL_INDICATOR\n",
    "            else:\n",
    "                stem = stem.strip(string.punctuation)\n",
    "            if stem and len(stem) >= MIN_SIZE:\n",
    "                # extract uni-grams\n",
    "                stems.append(stem)\n",
    "    del tokens\n",
    "    return stems\n",
    "\n",
    "def is_number(str):\n",
    "    \"\"\" Returns true if given string is a number (float or int)\"\"\"\n",
    "    try:\n",
    "        float(str.replace(\",\", \"\"))\n",
    "        return True\n",
    "    except ValueError:\n",
    "        return False\n",
    "\n",
    "def is_currency(str):\n",
    "    return str[0] == \"$\"\n",
    "\n",
    "def is_chemical(str):\n",
    "    return str.count(\"-\") > 3"
   ]
  },
  {
   "cell_type": "code",
   "execution_count": 13,
   "metadata": {
    "collapsed": false
   },
   "outputs": [
    {
     "name": "stderr",
     "output_type": "stream",
     "text": [
      "2017-02-26 02:52:13,882 : INFO : 0\n",
      "2017-02-26 02:52:39,028 : INFO : 100000\n",
      "2017-02-26 02:53:04,305 : INFO : 200000\n",
      "2017-02-26 02:53:30,609 : INFO : 300000\n",
      "2017-02-26 02:53:56,794 : INFO : 400000\n",
      "2017-02-26 02:54:22,353 : INFO : 500000\n",
      "2017-02-26 02:54:48,846 : INFO : 600000\n",
      "2017-02-26 02:55:15,878 : INFO : 700000\n",
      "2017-02-26 02:55:41,047 : INFO : 800000\n",
      "2017-02-26 02:56:08,645 : INFO : 900000\n",
      "2017-02-26 02:56:33,870 : INFO : 1000000\n",
      "2017-02-26 02:57:02,118 : INFO : 1100000\n",
      "2017-02-26 02:57:27,392 : INFO : 1200000\n",
      "2017-02-26 02:57:52,480 : INFO : 1300000\n",
      "2017-02-26 02:58:21,878 : INFO : 1400000\n",
      "2017-02-26 02:58:47,288 : INFO : 1500000\n",
      "2017-02-26 02:59:12,413 : INFO : 1600000\n",
      "2017-02-26 02:59:37,640 : INFO : 1700000\n",
      "2017-02-26 03:00:07,791 : INFO : 1800000\n",
      "2017-02-26 03:00:33,898 : INFO : 1900000\n"
     ]
    },
    {
     "name": "stdout",
     "output_type": "stream",
     "text": [
      "CPU times: user 8min 34s, sys: 11 s, total: 8min 45s\n",
      "Wall time: 8min 45s\n"
     ]
    }
   ],
   "source": [
    "%%time\n",
    "abstracts_tokenized_map = {}\n",
    "for i, doc_id in enumerate(abstracts_map):\n",
    "    text = abstracts_map[doc_id]\n",
    "    abstracts_tokenized_map[doc_id] = stemtokenizer(text)\n",
    "    if i % 100000 == 0:\n",
    "        info(i)"
   ]
  },
  {
   "cell_type": "code",
   "execution_count": null,
   "metadata": {
    "collapsed": true
   },
   "outputs": [],
   "source": [
    "pickle.dump(abstracts_tokenized_map, open('/mnt/data2/shalaby/exported_data/abstracts_tokenized_map.pkl', 'w'))"
   ]
  },
  {
   "cell_type": "markdown",
   "metadata": {},
   "source": [
    "## Get Titles from File"
   ]
  },
  {
   "cell_type": "code",
   "execution_count": 11,
   "metadata": {
    "collapsed": false
   },
   "outputs": [],
   "source": [
    "titles_map = pickle.load(open('../../data/titles_map.pkl'))"
   ]
  },
  {
   "cell_type": "code",
   "execution_count": 12,
   "metadata": {
    "collapsed": false
   },
   "outputs": [
    {
     "data": {
      "text/plain": [
       "2009750"
      ]
     },
     "execution_count": 12,
     "metadata": {},
     "output_type": "execute_result"
    }
   ],
   "source": [
    "len(titles_map)"
   ]
  },
  {
   "cell_type": "code",
   "execution_count": 14,
   "metadata": {
    "collapsed": true
   },
   "outputs": [],
   "source": [
    "for doc_id in titles_map:\n",
    "    titles_map[doc_id] = titles_map[doc_id][0]"
   ]
  },
  {
   "cell_type": "code",
   "execution_count": 15,
   "metadata": {
    "collapsed": false
   },
   "outputs": [
    {
     "data": {
      "text/plain": [
       "[u'Demodulator, disk drive device, and phase adjustment method',\n",
       " u'Link writing method for a recordable or rewritable compact disk and drive for using the method']"
      ]
     },
     "execution_count": 15,
     "metadata": {},
     "output_type": "execute_result"
    }
   ],
   "source": [
    " titles_map.values()[:2]"
   ]
  },
  {
   "cell_type": "code",
   "execution_count": 16,
   "metadata": {
    "collapsed": false
   },
   "outputs": [
    {
     "data": {
      "text/plain": [
       "[]"
      ]
     },
     "execution_count": 16,
     "metadata": {},
     "output_type": "execute_result"
    }
   ],
   "source": [
    "[x for x in titles_map.values() if len(x.strip()) == 0]"
   ]
  },
  {
   "cell_type": "code",
   "execution_count": 17,
   "metadata": {
    "collapsed": true
   },
   "outputs": [],
   "source": [
    "pickle.dump(titles_map, open('../../data/titles_map.pkl', 'w'))"
   ]
  },
  {
   "cell_type": "code",
   "execution_count": 18,
   "metadata": {
    "collapsed": true
   },
   "outputs": [],
   "source": [
    "del titles_map"
   ]
  },
  {
   "cell_type": "code",
   "execution_count": 70,
   "metadata": {
    "collapsed": false
   },
   "outputs": [
    {
     "ename": "AttributeError",
     "evalue": "'module' object has no attribute 'helpers'",
     "output_type": "error",
     "traceback": [
      "\u001b[1;31m---------------------------------------------------------------------------\u001b[0m",
      "\u001b[1;31mAttributeError\u001b[0m                            Traceback (most recent call last)",
      "\u001b[1;32m<ipython-input-70-d47f9d7117f7>\u001b[0m in \u001b[0;36m<module>\u001b[1;34m()\u001b[0m\n\u001b[1;32m----> 1\u001b[1;33m gen = elasticsearch.helpers.scan(client, query=query_body, scroll=u'5m', raise_on_error=False, \n\u001b[0m\u001b[0;32m      2\u001b[0m                            \u001b[0mpreserve_order\u001b[0m\u001b[1;33m=\u001b[0m\u001b[0mFalse\u001b[0m\u001b[1;33m,\u001b[0m \u001b[0msize\u001b[0m\u001b[1;33m=\u001b[0m\u001b[1;36m100\u001b[0m\u001b[1;33m,\u001b[0m \u001b[0mrequest_timeout\u001b[0m\u001b[1;33m=\u001b[0m\u001b[0mNone\u001b[0m\u001b[1;33m,\u001b[0m\u001b[1;33m\u001b[0m\u001b[0m\n\u001b[0;32m      3\u001b[0m                            clear_scroll=True)\n",
      "\u001b[1;31mAttributeError\u001b[0m: 'module' object has no attribute 'helpers'"
     ]
    }
   ],
   "source": [
    "gen = elasticsearch.helpers.scan(es, query=query_body, scroll=u'5m', raise_on_error=False, \n",
    "                           preserve_order=False, size=100, request_timeout=None, \n",
    "                           clear_scroll=True)"
   ]
  }
 ],
 "metadata": {
  "kernelspec": {
   "display_name": "Python 2",
   "language": "python",
   "name": "python2"
  },
  "language_info": {
   "codemirror_mode": {
    "name": "ipython",
    "version": 2
   },
   "file_extension": ".py",
   "mimetype": "text/x-python",
   "name": "python",
   "nbconvert_exporter": "python",
   "pygments_lexer": "ipython2",
   "version": "2.7.12"
  }
 },
 "nbformat": 4,
 "nbformat_minor": 0
}
