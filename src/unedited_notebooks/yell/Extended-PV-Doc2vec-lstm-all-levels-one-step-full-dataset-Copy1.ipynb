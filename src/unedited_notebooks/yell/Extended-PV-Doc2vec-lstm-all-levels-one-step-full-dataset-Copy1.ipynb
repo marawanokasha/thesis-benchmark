{
 "cells": [
  {
   "cell_type": "markdown",
   "metadata": {},
   "source": [
    "# Classification of fixed size paragraph vectors using LSTM\n",
    "should be able to deal with all levels using the PARTS_LEVEL param"
   ]
  },
  {
   "cell_type": "code",
   "execution_count": 1,
   "metadata": {
    "collapsed": false
   },
   "outputs": [
    {
     "name": "stderr",
     "output_type": "stream",
     "text": [
      "Using Theano backend.\n",
      "Using gpu device 0: TITAN X (Pascal) (CNMeM is disabled, cuDNN 5105)\n",
      "/home/stud/shalaby/.virtualenv/thesis-env/local/lib/python2.7/site-packages/theano/sandbox/cuda/__init__.py:600: UserWarning: Your cuDNN version is more recent than the one Theano officially supports. If you see any problems, try updating Theano or downgrading cuDNN to version 5.\n",
      "  warnings.warn(warn)\n"
     ]
    }
   ],
   "source": [
    "import json\n",
    "import nltk\n",
    "from nltk.tokenize import RegexpTokenizer\n",
    "import string\n",
    "import math\n",
    "import os\n",
    "import time\n",
    "from collections import namedtuple, defaultdict\n",
    "import cPickle as pickle\n",
    "import pandas as pd\n",
    "\n",
    "%matplotlib inline\n",
    "import matplotlib.pyplot as plt\n",
    "import matplotlib as mpl\n",
    "import numpy as np\n",
    "import random\n",
    "\n",
    "from multiprocessing.dummy import Pool as ThreadPool\n",
    "import itertools\n",
    "\n",
    "from sklearn.metrics import coverage_error\n",
    "import sklearn.metrics\n",
    "from sklearn.multiclass import OneVsRestClassifier\n",
    "from sklearn import linear_model\n",
    "from sklearn.preprocessing import MultiLabelBinarizer\n",
    "\n",
    "from gensim.models.doc2vec import Doc2Vec, LabeledSentence\n",
    "\n",
    "import logging\n",
    "from logging import info\n",
    "from functools import partial\n",
    "\n",
    "import seaborn\n",
    "\n",
    "import keras\n",
    "from keras.layers import Input, Dense, Dropout, Masking\n",
    "from keras.models import Model, Sequential\n",
    "from keras.layers import Input, Masking\n",
    "from keras.layers.convolutional import MaxPooling1D, Convolution1D\n",
    "from keras.layers.pooling import GlobalAveragePooling1D\n",
    "from keras.layers.recurrent import LSTM\n",
    "\n",
    "from sklearn.model_selection import ParameterSampler\n",
    "\n",
    "from thesis.utils.metrics import *\n",
    "from thesis.utils.file import *"
   ]
  },
  {
   "cell_type": "markdown",
   "metadata": {},
   "source": [
    "# Global variables used throughout the script"
   ]
  },
  {
   "cell_type": "code",
   "execution_count": 2,
   "metadata": {
    "collapsed": true
   },
   "outputs": [],
   "source": [
    "root = logging.getLogger()\n",
    "for handler in root.handlers[:]:\n",
    "    root.removeHandler(handler)\n",
    "logging.basicConfig(format='%(asctime)s : %(levelname)s : %(message)s', level=logging.INFO) # adds a default StreamHanlder\n",
    "#root.addHandler(logging.StreamHandler())"
   ]
  },
  {
   "cell_type": "code",
   "execution_count": 3,
   "metadata": {
    "collapsed": true
   },
   "outputs": [],
   "source": [
    "SVM_SEED = 1234\n",
    "DOC2VEC_SEED = 1234\n",
    "WORD2VEC_SEED = 1234\n",
    "NN_SEED = 1234"
   ]
  },
  {
   "cell_type": "code",
   "execution_count": 4,
   "metadata": {
    "collapsed": true
   },
   "outputs": [],
   "source": [
    "NUM_CORES = 16"
   ]
  },
  {
   "cell_type": "code",
   "execution_count": 5,
   "metadata": {
    "collapsed": false
   },
   "outputs": [],
   "source": [
    "GLOBAL_VARS = namedtuple('GLOBAL_VARS', ['MODEL_NAME', 'DOC2VEC_MODEL_NAME', 'DOC2VEC_MODEL', \n",
    "                                         'SVM_MODEL_NAME', 'NN_MODEL_NAME'])"
   ]
  },
  {
   "cell_type": "code",
   "execution_count": 6,
   "metadata": {
    "collapsed": true
   },
   "outputs": [],
   "source": [
    "VOCAB_MODEL = \"vocab_model\"\n",
    "MODEL_PREFIX = \"model\"\n",
    "VALIDATION_MATRIX = \"validation_matrix.pkl\"\n",
    "VALIDATION_DICT = \"validation_dict.pkl\"\n",
    "TEST_MATRIX = \"test_matrix.pkl\"\n",
    "TEST_DICT = \"test_dict.pkl\"\n",
    "METRICS = \"metrics.pkl\"\n",
    "CLASSIFIER = \"classifier.pkl\"\n",
    "TYPE_CLASSIFIER= \"{}_classifier.pkl\"\n",
    "\n",
    "TRAINING_DATA_MATRIX = \"X_level_{}.npy\"\n",
    "TRAINING_LABELS_MATRIX = \"y_{}.npy\"\n",
    "VALIDATION_DATA_MATRIX = \"Xv_level_{}.npy\"\n",
    "VALIDATION_LABELS_MATRIX = \"yv_{}.npy\"\n",
    "TEST_DATA_MATRIX = \"Xt_level_{}.npy\"\n",
    "TEST_LABELS_MATRIX = \"yt_{}.npy\""
   ]
  },
  {
   "cell_type": "code",
   "execution_count": 7,
   "metadata": {
    "collapsed": true
   },
   "outputs": [],
   "source": [
    "NN_PARAMETER_SEARCH_PREFIX = \"lstm_{}_level_{}_batch_{}_nn_parameter_searches.pkl\""
   ]
  },
  {
   "cell_type": "code",
   "execution_count": 8,
   "metadata": {
    "collapsed": false
   },
   "outputs": [],
   "source": [
    "root_location = \"/mnt/data2/shalaby/\"\n",
    "big_data_location = \"/mnt/data/shalaby/\"\n",
    "\n",
    "matrices_save_location = big_data_location + \"extended_pv_matrices/\"\n",
    "# matrices_save_location = big_data_location + \"extended_pv_matrices/one_model/\"\n",
    "exports_location = root_location + \"exported_data/\"\n",
    "\n",
    "nn_parameter_search_location = os.path.join(root_location, \"nn_parameter_search_extended_abs_desc_claims_full_chunks\")\n",
    "\n",
    "doc_classifications_map_file = exports_location + \"doc_classification_map.pkl\"\n",
    "sections_file = exports_location + \"sections.pkl\"\n",
    "classes_file = exports_location + \"classes.pkl\"\n",
    "subclasses_file = exports_location + \"subclasses.pkl\"\n",
    "valid_classes_file = exports_location + \"valid_classes.pkl\"\n",
    "valid_subclasses_file = exports_location + \"valid_subclasses.pkl\"\n",
    "classifications_output = exports_location + \"classifications.pkl\"\n",
    "training_docs_list_file = exports_location + \"training_docs_list.pkl\"\n",
    "validation_docs_list_file = exports_location + \"validation_docs_list.pkl\"\n",
    "test_docs_list_file = exports_location + \"test_docs_list.pkl\""
   ]
  },
  {
   "cell_type": "markdown",
   "metadata": {},
   "source": [
    "# Load general data required for classification"
   ]
  },
  {
   "cell_type": "code",
   "execution_count": 9,
   "metadata": {
    "collapsed": false
   },
   "outputs": [
    {
     "name": "stdout",
     "output_type": "stream",
     "text": [
      "CPU times: user 2.58 s, sys: 104 ms, total: 2.68 s\n",
      "Wall time: 2.68 s\n"
     ]
    }
   ],
   "source": [
    "%%time\n",
    "sections = pickle.load(open(sections_file))\n",
    "classes = pickle.load(open(classes_file))\n",
    "subclasses = pickle.load(open(subclasses_file))\n",
    "valid_classes = pickle.load(open(valid_classes_file))\n",
    "valid_subclasses = pickle.load(open(valid_subclasses_file))\n",
    "training_docs_list = pickle.load(open(training_docs_list_file))\n",
    "validation_docs_list = pickle.load(open(validation_docs_list_file))\n",
    "test_docs_list = pickle.load(open(test_docs_list_file))"
   ]
  },
  {
   "cell_type": "code",
   "execution_count": 10,
   "metadata": {
    "collapsed": false
   },
   "outputs": [
    {
     "data": {
      "text/plain": [
       "1286325"
      ]
     },
     "execution_count": 10,
     "metadata": {},
     "output_type": "execute_result"
    }
   ],
   "source": [
    "len(training_docs_list)"
   ]
  },
  {
   "cell_type": "code",
   "execution_count": 11,
   "metadata": {
    "collapsed": false
   },
   "outputs": [
    {
     "data": {
      "text/plain": [
       "321473"
      ]
     },
     "execution_count": 11,
     "metadata": {},
     "output_type": "execute_result"
    }
   ],
   "source": [
    "len(validation_docs_list)"
   ]
  },
  {
   "cell_type": "code",
   "execution_count": 12,
   "metadata": {
    "collapsed": false
   },
   "outputs": [
    {
     "data": {
      "text/plain": [
       "401877"
      ]
     },
     "execution_count": 12,
     "metadata": {},
     "output_type": "execute_result"
    }
   ],
   "source": [
    "len(test_docs_list)"
   ]
  },
  {
   "cell_type": "markdown",
   "metadata": {},
   "source": [
    "# Utility Functions for data loading"
   ]
  },
  {
   "cell_type": "code",
   "execution_count": 13,
   "metadata": {
    "collapsed": false
   },
   "outputs": [],
   "source": [
    "def get_training_data(classifications_type, level):\n",
    "    info(\"Loading Training Data from file\")\n",
    "    training_data = np.load(open(os.path.join(matrices_save_location, GLOBAL_VARS.MODEL_NAME, \n",
    "                                              TRAINING_DATA_MATRIX.format(level))))\n",
    "    training_labels = np.load(open(os.path.join(matrices_save_location, GLOBAL_VARS.MODEL_NAME, \n",
    "                                                TRAINING_LABELS_MATRIX.format(classifications_type))))\n",
    "    return training_data, training_labels\n",
    "\n",
    "def get_validation_data(classifications_type, level):\n",
    "    info(\"Loading Validation Data from file\")\n",
    "    validation_data = np.load(open(os.path.join(matrices_save_location, GLOBAL_VARS.MODEL_NAME, \n",
    "                                                VALIDATION_DATA_MATRIX.format(level))))\n",
    "    validation_labels = np.load(open(os.path.join(matrices_save_location, GLOBAL_VARS.MODEL_NAME, \n",
    "                                                  VALIDATION_LABELS_MATRIX.format(classifications_type))))\n",
    "    return validation_data, validation_labels\n",
    "\n",
    "def get_test_data(classifications_type, level):\n",
    "    info(\"Loading Test Data from file\")\n",
    "    test_data = np.load(open(os.path.join(matrices_save_location, GLOBAL_VARS.MODEL_NAME, \n",
    "                                                TEST_DATA_MATRIX.format(level))))\n",
    "    test_labels = np.load(open(os.path.join(matrices_save_location, GLOBAL_VARS.MODEL_NAME, \n",
    "                                                  TEST_LABELS_MATRIX.format(classifications_type))))\n",
    "    return test_data, test_labels"
   ]
  },
  {
   "cell_type": "code",
   "execution_count": 14,
   "metadata": {
    "collapsed": true
   },
   "outputs": [],
   "source": [
    "class MetricsCallback(keras.callbacks.Callback):\n",
    "    \"\"\"\n",
    "    Callback called by keras after each epoch. Records the best validation loss and periodically checks the \n",
    "    validation metrics\n",
    "    \"\"\"\n",
    "    def __init__(self):\n",
    "        MetricsCallback.EPOCHS_BEFORE_VALIDATION = epochs_before_validation[classifications_type]\n",
    "        MetricsCallback.GRAPH_MIN = metrics_graph_ranges[classifications_type]['min']\n",
    "        MetricsCallback.GRAPH_MAX = metrics_graph_ranges[classifications_type]['max']\n",
    "    \n",
    "    def on_train_begin(self, logs={}):\n",
    "        self.epoch_index = 0\n",
    "        self.val_loss_reductions = 0\n",
    "        self.metrics_dict = {}\n",
    "        self.best_val_loss = np.iinfo(np.int32).max\n",
    "        self.best_weights = None\n",
    "        self.best_validation_metrics = None\n",
    "        \n",
    "        self.losses = []\n",
    "        self.val_losses = []\n",
    "        self.fig = plt.figure(figsize=(12,6), dpi=80)\n",
    "        self.ax = plt.subplot(111)\n",
    "    def on_epoch_end(self, epoch, logs={}):\n",
    "        self.epoch_index += 1\n",
    "        self.losses.append(logs['loss'])\n",
    "        self.val_losses.append(logs['val_loss'])\n",
    "        loss_line, = self.ax.plot(range(1,self.epoch_index+1), self.losses, 'g-', label='Training Loss')\n",
    "        val_loss_line, = self.ax.plot(range(1,self.epoch_index+1), self.val_losses, 'r-', label='Validation Loss')\n",
    "        self.ax.legend(handles=[loss_line, val_loss_line])\n",
    "        self.ax.set_ylim((MetricsCallback.GRAPH_MIN, MetricsCallback.GRAPH_MAX))\n",
    "        self.fig.canvas.draw()\n",
    "        if logs['val_loss'] < self.best_val_loss:\n",
    "            self.val_loss_reductions += 1\n",
    "            self.best_val_loss = logs['val_loss']\n",
    "            self.best_weights = self.model.get_weights()\n",
    "            print '\\r    \\r' # to remove the previous line of verbose output of model fit\n",
    "            #time.sleep(0.1)\n",
    "            info('Found lower val loss for epoch {} => {}'.format(self.epoch_index, round(logs['val_loss'], 5)))\n",
    "            if self.val_loss_reductions % MetricsCallback.EPOCHS_BEFORE_VALIDATION == 0:\n",
    "                \n",
    "                info('Validation Loss Reduced {} times'.format(self.val_loss_reductions))\n",
    "                info('Evaluating on Validation Data')\n",
    "                yvp = self.model.predict(Xv)\n",
    "                yvp_binary = get_binary_0_5(yvp)\n",
    "                info('Generating Validation Metrics')\n",
    "                validation_metrics = get_metrics(yv, yvp, yvp_binary)\n",
    "                print \"****** Validation Metrics: Cov Err: {:.3f} | Top 3: {:.3f} | Top 5: {:.3f} | F1 Micro: {:.3f} | F1 Macro: {:.3f}\".format(\n",
    "                    validation_metrics['coverage_error'], validation_metrics['top_3'], validation_metrics['top_5'], \n",
    "                    validation_metrics['f1_micro'], validation_metrics['f1_macro'])\n",
    "                self.metrics_dict[self.epoch_index] = validation_metrics\n",
    "#                 self.best_validation_metrics = validation_metrics"
   ]
  },
  {
   "cell_type": "code",
   "execution_count": 15,
   "metadata": {
    "collapsed": true
   },
   "outputs": [],
   "source": [
    "def create_keras_rnn_model(input_size, output_size, lstm_output_size, w_dropout_do, u_dropout_do, \n",
    "                           stack_layers=1, conv_size=None, conv_filter_length=3, max_pooling_length=None):\n",
    "    \n",
    "    model= Sequential()\n",
    "#     model.add(Masking(mask_value=0., input_shape=(MAX_SIZE, input_size)))\n",
    "    if conv_size:\n",
    "        model.add(Convolution1D(nb_filter=conv_size, input_shape=(MAX_SIZE, input_size), filter_length=conv_filter_length, \n",
    "                                border_mode='same', activation='relu'))\n",
    "        if max_pooling_length is not None:\n",
    "            model.add(MaxPooling1D(pool_length=max_pooling_length))\n",
    "    for i in range(stack_layers):\n",
    "        model.add(LSTM(lstm_output_size, input_dim=input_size, dropout_W=w_dropout_do, dropout_U=u_dropout_do,\n",
    "                       return_sequences=False if i+1 == stack_layers else True,\n",
    "                  name='lstm_{}_w-drop_{}_u-drop_{}_layer_{}'.format(lstm_output_size, str(u_dropout_do), str(w_dropout_do), str(i+1))))\n",
    "    model.add(Dense(output_size, activation='sigmoid', name='sigmoid_output'))\n",
    "    model.compile(optimizer=NN_OPTIMIZER, loss='binary_crossentropy')\n",
    "    return model"
   ]
  },
  {
   "cell_type": "markdown",
   "metadata": {},
   "source": [
    "# Global Param Loop"
   ]
  },
  {
   "cell_type": "code",
   "execution_count": 16,
   "metadata": {
    "collapsed": true
   },
   "outputs": [],
   "source": [
    "# minimum change in val_loss from previous epoch to register as a decrease\n",
    "early_stopper_deltas = {\n",
    "    'sections': 0.00001,\n",
    "    'classes': 0.00001,\n",
    "    'subclasses': 0.00001\n",
    "}\n",
    "# how many epochs to wait when there is no decrease in val_loss before early stopping\n",
    "early_stopper_patience = {\n",
    "    'sections': 15,\n",
    "    'classes': 15,\n",
    "    'subclasses': 15\n",
    "}\n",
    "# number of epochs after which we do periodic evaluation of validation metrics\n",
    "epochs_before_validation = {\n",
    "    'sections': 10,\n",
    "    'classes': 20,\n",
    "    'subclasses': 20\n",
    "}\n",
    "\n",
    "# ranges for learning graph shown\n",
    "metrics_graph_ranges = {\n",
    "    'sections': {'min':0, 'max': 0.3},\n",
    "    'classes': {'min':0, 'max': 0.05},\n",
    "    'subclasses': {'min':0, 'max': 0.05}\n",
    "}"
   ]
  },
  {
   "cell_type": "code",
   "execution_count": 17,
   "metadata": {
    "collapsed": true
   },
   "outputs": [],
   "source": [
    "LEVEL_DOC = 1\n",
    "LEVEL_DIVISIONS = 2\n",
    "LEVEL_CHUNKS = 3"
   ]
  },
  {
   "cell_type": "code",
   "execution_count": 18,
   "metadata": {
    "collapsed": true
   },
   "outputs": [],
   "source": [
    "DOC2VEC_SIZE = 200\n",
    "DOC2VEC_WINDOW = 2\n",
    "DOC2VEC_MAX_VOCAB_SIZE = None\n",
    "DOC2VEC_SAMPLE = 1e-3\n",
    "DOC2VEC_TYPE = 1\n",
    "DOC2VEC_HIERARCHICAL_SAMPLE = 0\n",
    "DOC2VEC_NEGATIVE_SAMPLE_SIZE = 10\n",
    "DOC2VEC_CONCAT = 0\n",
    "DOC2VEC_MEAN = 1\n",
    "DOC2VEC_TRAIN_WORDS = 0\n",
    "DOC2VEC_EPOCHS = 1 # we do our training manually one epoch at a time\n",
    "DOC2VEC_MAX_EPOCHS = 8\n",
    "REPORT_DELAY = 20 # report the progress every x seconds\n",
    "REPORT_VOCAB_PROGRESS = 100000 # report vocab progress every x documents\n",
    "\n",
    "DOC2VEC_EPOCH = 8"
   ]
  },
  {
   "cell_type": "code",
   "execution_count": 19,
   "metadata": {
    "collapsed": false
   },
   "outputs": [],
   "source": [
    "GLOBAL_PARMS_TO_RUN = [\n",
    "    {\n",
    "        'doc2vec_epoch': DOC2VEC_EPOCH,\n",
    "        'classifications': sections,\n",
    "        'classifications_type': 'sections',\n",
    "        'parts_level': LEVEL_DOC,\n",
    "        'nn_batch_size': 4096,\n",
    "        'lstm_output_size': 1000,\n",
    "        'lstm_w_dropout': 0.5,\n",
    "        'lstm_u_dropout': 0.5,\n",
    "        'lstm_stack_layers': 3,\n",
    "        'lstm_conv_size': None,\n",
    "        'lstm_conv_filter_length': None,\n",
    "        'lstm_max_pooling_length': None\n",
    "    },\n",
    "    {\n",
    "        'doc2vec_epoch': DOC2VEC_EPOCH,\n",
    "        'classifications': sections,\n",
    "        'classifications_type': 'sections',\n",
    "        'parts_level': LEVEL_DIVISIONS,\n",
    "        'nn_batch_size': 4096,\n",
    "        'lstm_output_size': 1000,\n",
    "        'lstm_w_dropout': 0.5,\n",
    "        'lstm_u_dropout': 0.5,\n",
    "        'lstm_stack_layers': 3,\n",
    "        'lstm_conv_size': None,\n",
    "        'lstm_conv_filter_length': None,\n",
    "        'lstm_max_pooling_length': None\n",
    "    }\n",
    "]\n"
   ]
  },
  {
   "cell_type": "code",
   "execution_count": null,
   "metadata": {
    "collapsed": false,
    "scrolled": false
   },
   "outputs": [
    {
     "name": "stdout",
     "output_type": "stream",
     "text": [
      "==================================== NEW PARAM SET ============================================\n",
      "{'lstm_conv_filter_length': None, 'lstm_stack_layers': 3, 'nn_batch_size': 4096, 'classifications_type': 'sections', 'lstm_w_dropout': 0.5, 'lstm_max_pooling_length': None, 'lstm_u_dropout': 0.5, 'parts_level': 1, 'lstm_output_size': 1000, 'doc2vec_epoch': 8, 'lstm_conv_size': None}\n",
      "doc2vec_size_200_w_2_type_dm_concat_0_mean_1_trainwords_0_hs_0_neg_10_vocabsize_None/epoch_8\n"
     ]
    },
    {
     "name": "stderr",
     "output_type": "stream",
     "text": [
      "2017-04-18 02:55:27,713 : INFO : Loading Training Documents\n",
      "2017-04-18 02:55:27,714 : INFO : Loading Training Data from file\n",
      "2017-04-18 02:55:34,701 : INFO : Loading Validation Documents\n",
      "2017-04-18 02:55:34,703 : INFO : Loading Validation Data from file\n"
     ]
    },
    {
     "name": "stdout",
     "output_type": "stream",
     "text": [
      "(1286325, 1, 200)\n",
      "(1286325, 8)\n"
     ]
    },
    {
     "name": "stderr",
     "output_type": "stream",
     "text": [
      "2017-04-18 02:55:36,469 : INFO : Loading Previous results from /mnt/data2/shalaby/nn_parameter_search_extended_abs_desc_claims_full_chunks/doc2vec_size_200_w_2_type_dm_concat_0_mean_1_trainwords_0_hs_0_neg_10_vocabsize_None/epoch_8/lstm_sections_level_1_batch_4096_nn_parameter_searches.pkl\n"
     ]
    },
    {
     "name": "stdout",
     "output_type": "stream",
     "text": [
      "(321473, 1, 200)\n",
      "(321473, 8)\n"
     ]
    },
    {
     "name": "stderr",
     "output_type": "stream",
     "text": [
      "2017-04-18 02:55:44,794 : INFO : ***************************************************************************************\n",
      "2017-04-18 02:55:44,796 : INFO : lstm_optimizer_rmsprop_size_1000_w-drop_0.5_u-drop_0.5_stack_3_conv_None\n"
     ]
    },
    {
     "name": "stdout",
     "output_type": "stream",
     "text": [
      "____________________________________________________________________________________________________\n",
      "Layer (type)                     Output Shape          Param #     Connected to                     \n",
      "====================================================================================================\n",
      "lstm_1000_w-drop_0.5_u-drop_0.5_ (None, None, 1000)    4804000     lstm_input_1[0][0]               \n",
      "____________________________________________________________________________________________________\n",
      "lstm_1000_w-drop_0.5_u-drop_0.5_ (None, None, 1000)    8004000     lstm_1000_w-drop_0.5_u-drop_0.5_l\n",
      "____________________________________________________________________________________________________\n",
      "lstm_1000_w-drop_0.5_u-drop_0.5_ (None, 1000)          8004000     lstm_1000_w-drop_0.5_u-drop_0.5_l\n",
      "____________________________________________________________________________________________________\n",
      "sigmoid_output (Dense)           (None, 8)             8008        lstm_1000_w-drop_0.5_u-drop_0.5_l\n",
      "====================================================================================================\n",
      "Total params: 20,820,008\n",
      "Trainable params: 20,820,008\n",
      "Non-trainable params: 0\n",
      "____________________________________________________________________________________________________\n",
      "Train on 1286325 samples, validate on 321473 samples\n"
     ]
    },
    {
     "data": {
      "application/javascript": [
       "/* Put everything inside the global mpl namespace */\n",
       "window.mpl = {};\n",
       "\n",
       "mpl.get_websocket_type = function() {\n",
       "    if (typeof(WebSocket) !== 'undefined') {\n",
       "        return WebSocket;\n",
       "    } else if (typeof(MozWebSocket) !== 'undefined') {\n",
       "        return MozWebSocket;\n",
       "    } else {\n",
       "        alert('Your browser does not have WebSocket support.' +\n",
       "              'Please try Chrome, Safari or Firefox ≥ 6. ' +\n",
       "              'Firefox 4 and 5 are also supported but you ' +\n",
       "              'have to enable WebSockets in about:config.');\n",
       "    };\n",
       "}\n",
       "\n",
       "mpl.figure = function(figure_id, websocket, ondownload, parent_element) {\n",
       "    this.id = figure_id;\n",
       "\n",
       "    this.ws = websocket;\n",
       "\n",
       "    this.supports_binary = (this.ws.binaryType != undefined);\n",
       "\n",
       "    if (!this.supports_binary) {\n",
       "        var warnings = document.getElementById(\"mpl-warnings\");\n",
       "        if (warnings) {\n",
       "            warnings.style.display = 'block';\n",
       "            warnings.textContent = (\n",
       "                \"This browser does not support binary websocket messages. \" +\n",
       "                    \"Performance may be slow.\");\n",
       "        }\n",
       "    }\n",
       "\n",
       "    this.imageObj = new Image();\n",
       "\n",
       "    this.context = undefined;\n",
       "    this.message = undefined;\n",
       "    this.canvas = undefined;\n",
       "    this.rubberband_canvas = undefined;\n",
       "    this.rubberband_context = undefined;\n",
       "    this.format_dropdown = undefined;\n",
       "\n",
       "    this.image_mode = 'full';\n",
       "\n",
       "    this.root = $('<div/>');\n",
       "    this._root_extra_style(this.root)\n",
       "    this.root.attr('style', 'display: inline-block');\n",
       "\n",
       "    $(parent_element).append(this.root);\n",
       "\n",
       "    this._init_header(this);\n",
       "    this._init_canvas(this);\n",
       "    this._init_toolbar(this);\n",
       "\n",
       "    var fig = this;\n",
       "\n",
       "    this.waiting = false;\n",
       "\n",
       "    this.ws.onopen =  function () {\n",
       "            fig.send_message(\"supports_binary\", {value: fig.supports_binary});\n",
       "            fig.send_message(\"send_image_mode\", {});\n",
       "            fig.send_message(\"refresh\", {});\n",
       "        }\n",
       "\n",
       "    this.imageObj.onload = function() {\n",
       "            if (fig.image_mode == 'full') {\n",
       "                // Full images could contain transparency (where diff images\n",
       "                // almost always do), so we need to clear the canvas so that\n",
       "                // there is no ghosting.\n",
       "                fig.context.clearRect(0, 0, fig.canvas.width, fig.canvas.height);\n",
       "            }\n",
       "            fig.context.drawImage(fig.imageObj, 0, 0);\n",
       "        };\n",
       "\n",
       "    this.imageObj.onunload = function() {\n",
       "        this.ws.close();\n",
       "    }\n",
       "\n",
       "    this.ws.onmessage = this._make_on_message_function(this);\n",
       "\n",
       "    this.ondownload = ondownload;\n",
       "}\n",
       "\n",
       "mpl.figure.prototype._init_header = function() {\n",
       "    var titlebar = $(\n",
       "        '<div class=\"ui-dialog-titlebar ui-widget-header ui-corner-all ' +\n",
       "        'ui-helper-clearfix\"/>');\n",
       "    var titletext = $(\n",
       "        '<div class=\"ui-dialog-title\" style=\"width: 100%; ' +\n",
       "        'text-align: center; padding: 3px;\"/>');\n",
       "    titlebar.append(titletext)\n",
       "    this.root.append(titlebar);\n",
       "    this.header = titletext[0];\n",
       "}\n",
       "\n",
       "\n",
       "\n",
       "mpl.figure.prototype._canvas_extra_style = function(canvas_div) {\n",
       "\n",
       "}\n",
       "\n",
       "\n",
       "mpl.figure.prototype._root_extra_style = function(canvas_div) {\n",
       "\n",
       "}\n",
       "\n",
       "mpl.figure.prototype._init_canvas = function() {\n",
       "    var fig = this;\n",
       "\n",
       "    var canvas_div = $('<div/>');\n",
       "\n",
       "    canvas_div.attr('style', 'position: relative; clear: both; outline: 0');\n",
       "\n",
       "    function canvas_keyboard_event(event) {\n",
       "        return fig.key_event(event, event['data']);\n",
       "    }\n",
       "\n",
       "    canvas_div.keydown('key_press', canvas_keyboard_event);\n",
       "    canvas_div.keyup('key_release', canvas_keyboard_event);\n",
       "    this.canvas_div = canvas_div\n",
       "    this._canvas_extra_style(canvas_div)\n",
       "    this.root.append(canvas_div);\n",
       "\n",
       "    var canvas = $('<canvas/>');\n",
       "    canvas.addClass('mpl-canvas');\n",
       "    canvas.attr('style', \"left: 0; top: 0; z-index: 0; outline: 0\")\n",
       "\n",
       "    this.canvas = canvas[0];\n",
       "    this.context = canvas[0].getContext(\"2d\");\n",
       "\n",
       "    var rubberband = $('<canvas/>');\n",
       "    rubberband.attr('style', \"position: absolute; left: 0; top: 0; z-index: 1;\")\n",
       "\n",
       "    var pass_mouse_events = true;\n",
       "\n",
       "    canvas_div.resizable({\n",
       "        start: function(event, ui) {\n",
       "            pass_mouse_events = false;\n",
       "        },\n",
       "        resize: function(event, ui) {\n",
       "            fig.request_resize(ui.size.width, ui.size.height);\n",
       "        },\n",
       "        stop: function(event, ui) {\n",
       "            pass_mouse_events = true;\n",
       "            fig.request_resize(ui.size.width, ui.size.height);\n",
       "        },\n",
       "    });\n",
       "\n",
       "    function mouse_event_fn(event) {\n",
       "        if (pass_mouse_events)\n",
       "            return fig.mouse_event(event, event['data']);\n",
       "    }\n",
       "\n",
       "    rubberband.mousedown('button_press', mouse_event_fn);\n",
       "    rubberband.mouseup('button_release', mouse_event_fn);\n",
       "    // Throttle sequential mouse events to 1 every 20ms.\n",
       "    rubberband.mousemove('motion_notify', mouse_event_fn);\n",
       "\n",
       "    rubberband.mouseenter('figure_enter', mouse_event_fn);\n",
       "    rubberband.mouseleave('figure_leave', mouse_event_fn);\n",
       "\n",
       "    canvas_div.on(\"wheel\", function (event) {\n",
       "        event = event.originalEvent;\n",
       "        event['data'] = 'scroll'\n",
       "        if (event.deltaY < 0) {\n",
       "            event.step = 1;\n",
       "        } else {\n",
       "            event.step = -1;\n",
       "        }\n",
       "        mouse_event_fn(event);\n",
       "    });\n",
       "\n",
       "    canvas_div.append(canvas);\n",
       "    canvas_div.append(rubberband);\n",
       "\n",
       "    this.rubberband = rubberband;\n",
       "    this.rubberband_canvas = rubberband[0];\n",
       "    this.rubberband_context = rubberband[0].getContext(\"2d\");\n",
       "    this.rubberband_context.strokeStyle = \"#000000\";\n",
       "\n",
       "    this._resize_canvas = function(width, height) {\n",
       "        // Keep the size of the canvas, canvas container, and rubber band\n",
       "        // canvas in synch.\n",
       "        canvas_div.css('width', width)\n",
       "        canvas_div.css('height', height)\n",
       "\n",
       "        canvas.attr('width', width);\n",
       "        canvas.attr('height', height);\n",
       "\n",
       "        rubberband.attr('width', width);\n",
       "        rubberband.attr('height', height);\n",
       "    }\n",
       "\n",
       "    // Set the figure to an initial 600x600px, this will subsequently be updated\n",
       "    // upon first draw.\n",
       "    this._resize_canvas(600, 600);\n",
       "\n",
       "    // Disable right mouse context menu.\n",
       "    $(this.rubberband_canvas).bind(\"contextmenu\",function(e){\n",
       "        return false;\n",
       "    });\n",
       "\n",
       "    function set_focus () {\n",
       "        canvas.focus();\n",
       "        canvas_div.focus();\n",
       "    }\n",
       "\n",
       "    window.setTimeout(set_focus, 100);\n",
       "}\n",
       "\n",
       "mpl.figure.prototype._init_toolbar = function() {\n",
       "    var fig = this;\n",
       "\n",
       "    var nav_element = $('<div/>')\n",
       "    nav_element.attr('style', 'width: 100%');\n",
       "    this.root.append(nav_element);\n",
       "\n",
       "    // Define a callback function for later on.\n",
       "    function toolbar_event(event) {\n",
       "        return fig.toolbar_button_onclick(event['data']);\n",
       "    }\n",
       "    function toolbar_mouse_event(event) {\n",
       "        return fig.toolbar_button_onmouseover(event['data']);\n",
       "    }\n",
       "\n",
       "    for(var toolbar_ind in mpl.toolbar_items) {\n",
       "        var name = mpl.toolbar_items[toolbar_ind][0];\n",
       "        var tooltip = mpl.toolbar_items[toolbar_ind][1];\n",
       "        var image = mpl.toolbar_items[toolbar_ind][2];\n",
       "        var method_name = mpl.toolbar_items[toolbar_ind][3];\n",
       "\n",
       "        if (!name) {\n",
       "            // put a spacer in here.\n",
       "            continue;\n",
       "        }\n",
       "        var button = $('<button/>');\n",
       "        button.addClass('ui-button ui-widget ui-state-default ui-corner-all ' +\n",
       "                        'ui-button-icon-only');\n",
       "        button.attr('role', 'button');\n",
       "        button.attr('aria-disabled', 'false');\n",
       "        button.click(method_name, toolbar_event);\n",
       "        button.mouseover(tooltip, toolbar_mouse_event);\n",
       "\n",
       "        var icon_img = $('<span/>');\n",
       "        icon_img.addClass('ui-button-icon-primary ui-icon');\n",
       "        icon_img.addClass(image);\n",
       "        icon_img.addClass('ui-corner-all');\n",
       "\n",
       "        var tooltip_span = $('<span/>');\n",
       "        tooltip_span.addClass('ui-button-text');\n",
       "        tooltip_span.html(tooltip);\n",
       "\n",
       "        button.append(icon_img);\n",
       "        button.append(tooltip_span);\n",
       "\n",
       "        nav_element.append(button);\n",
       "    }\n",
       "\n",
       "    var fmt_picker_span = $('<span/>');\n",
       "\n",
       "    var fmt_picker = $('<select/>');\n",
       "    fmt_picker.addClass('mpl-toolbar-option ui-widget ui-widget-content');\n",
       "    fmt_picker_span.append(fmt_picker);\n",
       "    nav_element.append(fmt_picker_span);\n",
       "    this.format_dropdown = fmt_picker[0];\n",
       "\n",
       "    for (var ind in mpl.extensions) {\n",
       "        var fmt = mpl.extensions[ind];\n",
       "        var option = $(\n",
       "            '<option/>', {selected: fmt === mpl.default_extension}).html(fmt);\n",
       "        fmt_picker.append(option)\n",
       "    }\n",
       "\n",
       "    // Add hover states to the ui-buttons\n",
       "    $( \".ui-button\" ).hover(\n",
       "        function() { $(this).addClass(\"ui-state-hover\");},\n",
       "        function() { $(this).removeClass(\"ui-state-hover\");}\n",
       "    );\n",
       "\n",
       "    var status_bar = $('<span class=\"mpl-message\"/>');\n",
       "    nav_element.append(status_bar);\n",
       "    this.message = status_bar[0];\n",
       "}\n",
       "\n",
       "mpl.figure.prototype.request_resize = function(x_pixels, y_pixels) {\n",
       "    // Request matplotlib to resize the figure. Matplotlib will then trigger a resize in the client,\n",
       "    // which will in turn request a refresh of the image.\n",
       "    this.send_message('resize', {'width': x_pixels, 'height': y_pixels});\n",
       "}\n",
       "\n",
       "mpl.figure.prototype.send_message = function(type, properties) {\n",
       "    properties['type'] = type;\n",
       "    properties['figure_id'] = this.id;\n",
       "    this.ws.send(JSON.stringify(properties));\n",
       "}\n",
       "\n",
       "mpl.figure.prototype.send_draw_message = function() {\n",
       "    if (!this.waiting) {\n",
       "        this.waiting = true;\n",
       "        this.ws.send(JSON.stringify({type: \"draw\", figure_id: this.id}));\n",
       "    }\n",
       "}\n",
       "\n",
       "\n",
       "mpl.figure.prototype.handle_save = function(fig, msg) {\n",
       "    var format_dropdown = fig.format_dropdown;\n",
       "    var format = format_dropdown.options[format_dropdown.selectedIndex].value;\n",
       "    fig.ondownload(fig, format);\n",
       "}\n",
       "\n",
       "\n",
       "mpl.figure.prototype.handle_resize = function(fig, msg) {\n",
       "    var size = msg['size'];\n",
       "    if (size[0] != fig.canvas.width || size[1] != fig.canvas.height) {\n",
       "        fig._resize_canvas(size[0], size[1]);\n",
       "        fig.send_message(\"refresh\", {});\n",
       "    };\n",
       "}\n",
       "\n",
       "mpl.figure.prototype.handle_rubberband = function(fig, msg) {\n",
       "    var x0 = msg['x0'];\n",
       "    var y0 = fig.canvas.height - msg['y0'];\n",
       "    var x1 = msg['x1'];\n",
       "    var y1 = fig.canvas.height - msg['y1'];\n",
       "    x0 = Math.floor(x0) + 0.5;\n",
       "    y0 = Math.floor(y0) + 0.5;\n",
       "    x1 = Math.floor(x1) + 0.5;\n",
       "    y1 = Math.floor(y1) + 0.5;\n",
       "    var min_x = Math.min(x0, x1);\n",
       "    var min_y = Math.min(y0, y1);\n",
       "    var width = Math.abs(x1 - x0);\n",
       "    var height = Math.abs(y1 - y0);\n",
       "\n",
       "    fig.rubberband_context.clearRect(\n",
       "        0, 0, fig.canvas.width, fig.canvas.height);\n",
       "\n",
       "    fig.rubberband_context.strokeRect(min_x, min_y, width, height);\n",
       "}\n",
       "\n",
       "mpl.figure.prototype.handle_figure_label = function(fig, msg) {\n",
       "    // Updates the figure title.\n",
       "    fig.header.textContent = msg['label'];\n",
       "}\n",
       "\n",
       "mpl.figure.prototype.handle_cursor = function(fig, msg) {\n",
       "    var cursor = msg['cursor'];\n",
       "    switch(cursor)\n",
       "    {\n",
       "    case 0:\n",
       "        cursor = 'pointer';\n",
       "        break;\n",
       "    case 1:\n",
       "        cursor = 'default';\n",
       "        break;\n",
       "    case 2:\n",
       "        cursor = 'crosshair';\n",
       "        break;\n",
       "    case 3:\n",
       "        cursor = 'move';\n",
       "        break;\n",
       "    }\n",
       "    fig.rubberband_canvas.style.cursor = cursor;\n",
       "}\n",
       "\n",
       "mpl.figure.prototype.handle_message = function(fig, msg) {\n",
       "    fig.message.textContent = msg['message'];\n",
       "}\n",
       "\n",
       "mpl.figure.prototype.handle_draw = function(fig, msg) {\n",
       "    // Request the server to send over a new figure.\n",
       "    fig.send_draw_message();\n",
       "}\n",
       "\n",
       "mpl.figure.prototype.handle_image_mode = function(fig, msg) {\n",
       "    fig.image_mode = msg['mode'];\n",
       "}\n",
       "\n",
       "mpl.figure.prototype.updated_canvas_event = function() {\n",
       "    // Called whenever the canvas gets updated.\n",
       "    this.send_message(\"ack\", {});\n",
       "}\n",
       "\n",
       "// A function to construct a web socket function for onmessage handling.\n",
       "// Called in the figure constructor.\n",
       "mpl.figure.prototype._make_on_message_function = function(fig) {\n",
       "    return function socket_on_message(evt) {\n",
       "        if (evt.data instanceof Blob) {\n",
       "            /* FIXME: We get \"Resource interpreted as Image but\n",
       "             * transferred with MIME type text/plain:\" errors on\n",
       "             * Chrome.  But how to set the MIME type?  It doesn't seem\n",
       "             * to be part of the websocket stream */\n",
       "            evt.data.type = \"image/png\";\n",
       "\n",
       "            /* Free the memory for the previous frames */\n",
       "            if (fig.imageObj.src) {\n",
       "                (window.URL || window.webkitURL).revokeObjectURL(\n",
       "                    fig.imageObj.src);\n",
       "            }\n",
       "\n",
       "            fig.imageObj.src = (window.URL || window.webkitURL).createObjectURL(\n",
       "                evt.data);\n",
       "            fig.updated_canvas_event();\n",
       "            fig.waiting = false;\n",
       "            return;\n",
       "        }\n",
       "        else if (typeof evt.data === 'string' && evt.data.slice(0, 21) == \"data:image/png;base64\") {\n",
       "            fig.imageObj.src = evt.data;\n",
       "            fig.updated_canvas_event();\n",
       "            fig.waiting = false;\n",
       "            return;\n",
       "        }\n",
       "\n",
       "        var msg = JSON.parse(evt.data);\n",
       "        var msg_type = msg['type'];\n",
       "\n",
       "        // Call the  \"handle_{type}\" callback, which takes\n",
       "        // the figure and JSON message as its only arguments.\n",
       "        try {\n",
       "            var callback = fig[\"handle_\" + msg_type];\n",
       "        } catch (e) {\n",
       "            console.log(\"No handler for the '\" + msg_type + \"' message type: \", msg);\n",
       "            return;\n",
       "        }\n",
       "\n",
       "        if (callback) {\n",
       "            try {\n",
       "                // console.log(\"Handling '\" + msg_type + \"' message: \", msg);\n",
       "                callback(fig, msg);\n",
       "            } catch (e) {\n",
       "                console.log(\"Exception inside the 'handler_\" + msg_type + \"' callback:\", e, e.stack, msg);\n",
       "            }\n",
       "        }\n",
       "    };\n",
       "}\n",
       "\n",
       "// from http://stackoverflow.com/questions/1114465/getting-mouse-location-in-canvas\n",
       "mpl.findpos = function(e) {\n",
       "    //this section is from http://www.quirksmode.org/js/events_properties.html\n",
       "    var targ;\n",
       "    if (!e)\n",
       "        e = window.event;\n",
       "    if (e.target)\n",
       "        targ = e.target;\n",
       "    else if (e.srcElement)\n",
       "        targ = e.srcElement;\n",
       "    if (targ.nodeType == 3) // defeat Safari bug\n",
       "        targ = targ.parentNode;\n",
       "\n",
       "    // jQuery normalizes the pageX and pageY\n",
       "    // pageX,Y are the mouse positions relative to the document\n",
       "    // offset() returns the position of the element relative to the document\n",
       "    var x = e.pageX - $(targ).offset().left;\n",
       "    var y = e.pageY - $(targ).offset().top;\n",
       "\n",
       "    return {\"x\": x, \"y\": y};\n",
       "};\n",
       "\n",
       "/*\n",
       " * return a copy of an object with only non-object keys\n",
       " * we need this to avoid circular references\n",
       " * http://stackoverflow.com/a/24161582/3208463\n",
       " */\n",
       "function simpleKeys (original) {\n",
       "  return Object.keys(original).reduce(function (obj, key) {\n",
       "    if (typeof original[key] !== 'object')\n",
       "        obj[key] = original[key]\n",
       "    return obj;\n",
       "  }, {});\n",
       "}\n",
       "\n",
       "mpl.figure.prototype.mouse_event = function(event, name) {\n",
       "    var canvas_pos = mpl.findpos(event)\n",
       "\n",
       "    if (name === 'button_press')\n",
       "    {\n",
       "        this.canvas.focus();\n",
       "        this.canvas_div.focus();\n",
       "    }\n",
       "\n",
       "    var x = canvas_pos.x;\n",
       "    var y = canvas_pos.y;\n",
       "\n",
       "    this.send_message(name, {x: x, y: y, button: event.button,\n",
       "                             step: event.step,\n",
       "                             guiEvent: simpleKeys(event)});\n",
       "\n",
       "    /* This prevents the web browser from automatically changing to\n",
       "     * the text insertion cursor when the button is pressed.  We want\n",
       "     * to control all of the cursor setting manually through the\n",
       "     * 'cursor' event from matplotlib */\n",
       "    event.preventDefault();\n",
       "    return false;\n",
       "}\n",
       "\n",
       "mpl.figure.prototype._key_event_extra = function(event, name) {\n",
       "    // Handle any extra behaviour associated with a key event\n",
       "}\n",
       "\n",
       "mpl.figure.prototype.key_event = function(event, name) {\n",
       "\n",
       "    // Prevent repeat events\n",
       "    if (name == 'key_press')\n",
       "    {\n",
       "        if (event.which === this._key)\n",
       "            return;\n",
       "        else\n",
       "            this._key = event.which;\n",
       "    }\n",
       "    if (name == 'key_release')\n",
       "        this._key = null;\n",
       "\n",
       "    var value = '';\n",
       "    if (event.ctrlKey && event.which != 17)\n",
       "        value += \"ctrl+\";\n",
       "    if (event.altKey && event.which != 18)\n",
       "        value += \"alt+\";\n",
       "    if (event.shiftKey && event.which != 16)\n",
       "        value += \"shift+\";\n",
       "\n",
       "    value += 'k';\n",
       "    value += event.which.toString();\n",
       "\n",
       "    this._key_event_extra(event, name);\n",
       "\n",
       "    this.send_message(name, {key: value,\n",
       "                             guiEvent: simpleKeys(event)});\n",
       "    return false;\n",
       "}\n",
       "\n",
       "mpl.figure.prototype.toolbar_button_onclick = function(name) {\n",
       "    if (name == 'download') {\n",
       "        this.handle_save(this, null);\n",
       "    } else {\n",
       "        this.send_message(\"toolbar_button\", {name: name});\n",
       "    }\n",
       "};\n",
       "\n",
       "mpl.figure.prototype.toolbar_button_onmouseover = function(tooltip) {\n",
       "    this.message.textContent = tooltip;\n",
       "};\n",
       "mpl.toolbar_items = [[\"Home\", \"Reset original view\", \"fa fa-home icon-home\", \"home\"], [\"Back\", \"Back to  previous view\", \"fa fa-arrow-left icon-arrow-left\", \"back\"], [\"Forward\", \"Forward to next view\", \"fa fa-arrow-right icon-arrow-right\", \"forward\"], [\"\", \"\", \"\", \"\"], [\"Pan\", \"Pan axes with left mouse, zoom with right\", \"fa fa-arrows icon-move\", \"pan\"], [\"Zoom\", \"Zoom to rectangle\", \"fa fa-square-o icon-check-empty\", \"zoom\"], [\"\", \"\", \"\", \"\"], [\"Download\", \"Download plot\", \"fa fa-floppy-o icon-save\", \"download\"]];\n",
       "\n",
       "mpl.extensions = [\"eps\", \"pdf\", \"png\", \"ps\", \"raw\", \"svg\"];\n",
       "\n",
       "mpl.default_extension = \"png\";var comm_websocket_adapter = function(comm) {\n",
       "    // Create a \"websocket\"-like object which calls the given IPython comm\n",
       "    // object with the appropriate methods. Currently this is a non binary\n",
       "    // socket, so there is still some room for performance tuning.\n",
       "    var ws = {};\n",
       "\n",
       "    ws.close = function() {\n",
       "        comm.close()\n",
       "    };\n",
       "    ws.send = function(m) {\n",
       "        //console.log('sending', m);\n",
       "        comm.send(m);\n",
       "    };\n",
       "    // Register the callback with on_msg.\n",
       "    comm.on_msg(function(msg) {\n",
       "        //console.log('receiving', msg['content']['data'], msg);\n",
       "        // Pass the mpl event to the overriden (by mpl) onmessage function.\n",
       "        ws.onmessage(msg['content']['data'])\n",
       "    });\n",
       "    return ws;\n",
       "}\n",
       "\n",
       "mpl.mpl_figure_comm = function(comm, msg) {\n",
       "    // This is the function which gets called when the mpl process\n",
       "    // starts-up an IPython Comm through the \"matplotlib\" channel.\n",
       "\n",
       "    var id = msg.content.data.id;\n",
       "    // Get hold of the div created by the display call when the Comm\n",
       "    // socket was opened in Python.\n",
       "    var element = $(\"#\" + id);\n",
       "    var ws_proxy = comm_websocket_adapter(comm)\n",
       "\n",
       "    function ondownload(figure, format) {\n",
       "        window.open(figure.imageObj.src);\n",
       "    }\n",
       "\n",
       "    var fig = new mpl.figure(id, ws_proxy,\n",
       "                           ondownload,\n",
       "                           element.get(0));\n",
       "\n",
       "    // Call onopen now - mpl needs it, as it is assuming we've passed it a real\n",
       "    // web socket which is closed, not our websocket->open comm proxy.\n",
       "    ws_proxy.onopen();\n",
       "\n",
       "    fig.parent_element = element.get(0);\n",
       "    fig.cell_info = mpl.find_output_cell(\"<div id='\" + id + \"'></div>\");\n",
       "    if (!fig.cell_info) {\n",
       "        console.error(\"Failed to find cell for figure\", id, fig);\n",
       "        return;\n",
       "    }\n",
       "\n",
       "    var output_index = fig.cell_info[2]\n",
       "    var cell = fig.cell_info[0];\n",
       "\n",
       "};\n",
       "\n",
       "mpl.figure.prototype.handle_close = function(fig, msg) {\n",
       "    fig.root.unbind('remove')\n",
       "\n",
       "    // Update the output cell to use the data from the current canvas.\n",
       "    fig.push_to_output();\n",
       "    var dataURL = fig.canvas.toDataURL();\n",
       "    // Re-enable the keyboard manager in IPython - without this line, in FF,\n",
       "    // the notebook keyboard shortcuts fail.\n",
       "    IPython.keyboard_manager.enable()\n",
       "    $(fig.parent_element).html('<img src=\"' + dataURL + '\">');\n",
       "    fig.close_ws(fig, msg);\n",
       "}\n",
       "\n",
       "mpl.figure.prototype.close_ws = function(fig, msg){\n",
       "    fig.send_message('closing', msg);\n",
       "    // fig.ws.close()\n",
       "}\n",
       "\n",
       "mpl.figure.prototype.push_to_output = function(remove_interactive) {\n",
       "    // Turn the data on the canvas into data in the output cell.\n",
       "    var dataURL = this.canvas.toDataURL();\n",
       "    this.cell_info[1]['text/html'] = '<img src=\"' + dataURL + '\">';\n",
       "}\n",
       "\n",
       "mpl.figure.prototype.updated_canvas_event = function() {\n",
       "    // Tell IPython that the notebook contents must change.\n",
       "    IPython.notebook.set_dirty(true);\n",
       "    this.send_message(\"ack\", {});\n",
       "    var fig = this;\n",
       "    // Wait a second, then push the new image to the DOM so\n",
       "    // that it is saved nicely (might be nice to debounce this).\n",
       "    setTimeout(function () { fig.push_to_output() }, 1000);\n",
       "}\n",
       "\n",
       "mpl.figure.prototype._init_toolbar = function() {\n",
       "    var fig = this;\n",
       "\n",
       "    var nav_element = $('<div/>')\n",
       "    nav_element.attr('style', 'width: 100%');\n",
       "    this.root.append(nav_element);\n",
       "\n",
       "    // Define a callback function for later on.\n",
       "    function toolbar_event(event) {\n",
       "        return fig.toolbar_button_onclick(event['data']);\n",
       "    }\n",
       "    function toolbar_mouse_event(event) {\n",
       "        return fig.toolbar_button_onmouseover(event['data']);\n",
       "    }\n",
       "\n",
       "    for(var toolbar_ind in mpl.toolbar_items){\n",
       "        var name = mpl.toolbar_items[toolbar_ind][0];\n",
       "        var tooltip = mpl.toolbar_items[toolbar_ind][1];\n",
       "        var image = mpl.toolbar_items[toolbar_ind][2];\n",
       "        var method_name = mpl.toolbar_items[toolbar_ind][3];\n",
       "\n",
       "        if (!name) { continue; };\n",
       "\n",
       "        var button = $('<button class=\"btn btn-default\" href=\"#\" title=\"' + name + '\"><i class=\"fa ' + image + ' fa-lg\"></i></button>');\n",
       "        button.click(method_name, toolbar_event);\n",
       "        button.mouseover(tooltip, toolbar_mouse_event);\n",
       "        nav_element.append(button);\n",
       "    }\n",
       "\n",
       "    // Add the status bar.\n",
       "    var status_bar = $('<span class=\"mpl-message\" style=\"text-align:right; float: right;\"/>');\n",
       "    nav_element.append(status_bar);\n",
       "    this.message = status_bar[0];\n",
       "\n",
       "    // Add the close button to the window.\n",
       "    var buttongrp = $('<div class=\"btn-group inline pull-right\"></div>');\n",
       "    var button = $('<button class=\"btn btn-mini btn-primary\" href=\"#\" title=\"Stop Interaction\"><i class=\"fa fa-power-off icon-remove icon-large\"></i></button>');\n",
       "    button.click(function (evt) { fig.handle_close(fig, {}); } );\n",
       "    button.mouseover('Stop Interaction', toolbar_mouse_event);\n",
       "    buttongrp.append(button);\n",
       "    var titlebar = this.root.find($('.ui-dialog-titlebar'));\n",
       "    titlebar.prepend(buttongrp);\n",
       "}\n",
       "\n",
       "mpl.figure.prototype._root_extra_style = function(el){\n",
       "    var fig = this\n",
       "    el.on(\"remove\", function(){\n",
       "\tfig.close_ws(fig, {});\n",
       "    });\n",
       "}\n",
       "\n",
       "mpl.figure.prototype._canvas_extra_style = function(el){\n",
       "    // this is important to make the div 'focusable\n",
       "    el.attr('tabindex', 0)\n",
       "    // reach out to IPython and tell the keyboard manager to turn it's self\n",
       "    // off when our div gets focus\n",
       "\n",
       "    // location in version 3\n",
       "    if (IPython.notebook.keyboard_manager) {\n",
       "        IPython.notebook.keyboard_manager.register_events(el);\n",
       "    }\n",
       "    else {\n",
       "        // location in version 2\n",
       "        IPython.keyboard_manager.register_events(el);\n",
       "    }\n",
       "\n",
       "}\n",
       "\n",
       "mpl.figure.prototype._key_event_extra = function(event, name) {\n",
       "    var manager = IPython.notebook.keyboard_manager;\n",
       "    if (!manager)\n",
       "        manager = IPython.keyboard_manager;\n",
       "\n",
       "    // Check for shift+enter\n",
       "    if (event.shiftKey && event.which == 13) {\n",
       "        this.canvas_div.blur();\n",
       "        event.shiftKey = false;\n",
       "        // Send a \"J\" for go to next cell\n",
       "        event.which = 74;\n",
       "        event.keyCode = 74;\n",
       "        manager.command_mode();\n",
       "        manager.handle_keydown(event);\n",
       "    }\n",
       "}\n",
       "\n",
       "mpl.figure.prototype.handle_save = function(fig, msg) {\n",
       "    fig.ondownload(fig, null);\n",
       "}\n",
       "\n",
       "\n",
       "mpl.find_output_cell = function(html_output) {\n",
       "    // Return the cell and output element which can be found *uniquely* in the notebook.\n",
       "    // Note - this is a bit hacky, but it is done because the \"notebook_saving.Notebook\"\n",
       "    // IPython event is triggered only after the cells have been serialised, which for\n",
       "    // our purposes (turning an active figure into a static one), is too late.\n",
       "    var cells = IPython.notebook.get_cells();\n",
       "    var ncells = cells.length;\n",
       "    for (var i=0; i<ncells; i++) {\n",
       "        var cell = cells[i];\n",
       "        if (cell.cell_type === 'code'){\n",
       "            for (var j=0; j<cell.output_area.outputs.length; j++) {\n",
       "                var data = cell.output_area.outputs[j];\n",
       "                if (data.data) {\n",
       "                    // IPython >= 3 moved mimebundle to data attribute of output\n",
       "                    data = data.data;\n",
       "                }\n",
       "                if (data['text/html'] == html_output) {\n",
       "                    return [cell, data, j];\n",
       "                }\n",
       "            }\n",
       "        }\n",
       "    }\n",
       "}\n",
       "\n",
       "// Register the function which deals with the matplotlib target/channel.\n",
       "// The kernel may be null if the page has been refreshed.\n",
       "if (IPython.notebook.kernel != null) {\n",
       "    IPython.notebook.kernel.comm_manager.register_target('matplotlib', mpl.mpl_figure_comm);\n",
       "}\n"
      ],
      "text/plain": [
       "<IPython.core.display.Javascript object>"
      ]
     },
     "metadata": {},
     "output_type": "display_data"
    },
    {
     "data": {
      "text/html": [
       "<img src=\"data:image/png;base64,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\">"
      ],
      "text/plain": [
       "<IPython.core.display.HTML object>"
      ]
     },
     "metadata": {},
     "output_type": "display_data"
    },
    {
     "name": "stdout",
     "output_type": "stream",
     "text": [
      "Epoch 1/200\n",
      "1286144/1286325 [============================>.] - ETA: 0s - loss: 0.2093"
     ]
    },
    {
     "name": "stderr",
     "output_type": "stream",
     "text": [
      "2017-04-18 02:59:41,570 : INFO : Found lower val loss for epoch 1 => 0.16466\n"
     ]
    },
    {
     "name": "stdout",
     "output_type": "stream",
     "text": [
      "    \n",
      "1286325/1286325 [==============================] - 168s - loss: 0.2093 - val_loss: 0.1647\n",
      "Epoch 2/200\n",
      "1286144/1286325 [============================>.] - ETA: 0s - loss: 0.1730"
     ]
    },
    {
     "name": "stderr",
     "output_type": "stream",
     "text": [
      "2017-04-18 03:02:41,977 : INFO : Found lower val loss for epoch 2 => 0.15595\n"
     ]
    },
    {
     "name": "stdout",
     "output_type": "stream",
     "text": [
      "    \n",
      "1286325/1286325 [==============================] - 180s - loss: 0.1730 - val_loss: 0.1559\n",
      "Epoch 3/200\n",
      "1286144/1286325 [============================>.] - ETA: 0s - loss: 0.1648"
     ]
    },
    {
     "name": "stderr",
     "output_type": "stream",
     "text": [
      "2017-04-18 03:06:14,675 : INFO : Found lower val loss for epoch 3 => 0.14905\n"
     ]
    },
    {
     "name": "stdout",
     "output_type": "stream",
     "text": [
      "    \n",
      "1286325/1286325 [==============================] - 212s - loss: 0.1648 - val_loss: 0.1491\n",
      "Epoch 4/200\n",
      "1286325/1286325 [==============================] - 247s - loss: 0.1605 - val_loss: 0.1491\n",
      "Epoch 5/200\n",
      "1286144/1286325 [============================>.] - ETA: 0s - loss: 0.1577"
     ]
    },
    {
     "name": "stderr",
     "output_type": "stream",
     "text": [
      "2017-04-18 03:14:08,313 : INFO : Found lower val loss for epoch 5 => 0.14384\n"
     ]
    },
    {
     "name": "stdout",
     "output_type": "stream",
     "text": [
      "    \n",
      "1286325/1286325 [==============================] - 226s - loss: 0.1577 - val_loss: 0.1438\n",
      "Epoch 6/200\n",
      "1286325/1286325 [==============================] - 178s - loss: 0.1557 - val_loss: 0.1466\n",
      "Epoch 7/200\n",
      "1286144/1286325 [============================>.] - ETA: 0s - loss: 0.1541"
     ]
    },
    {
     "name": "stderr",
     "output_type": "stream",
     "text": [
      "2017-04-18 03:20:13,546 : INFO : Found lower val loss for epoch 7 => 0.14248\n"
     ]
    },
    {
     "name": "stdout",
     "output_type": "stream",
     "text": [
      "    \n",
      "1286325/1286325 [==============================] - 186s - loss: 0.1541 - val_loss: 0.1425\n",
      "Epoch 8/200\n",
      "1286144/1286325 [============================>.] - ETA: 0s - loss: 0.1527"
     ]
    },
    {
     "name": "stderr",
     "output_type": "stream",
     "text": [
      "2017-04-18 03:23:16,027 : INFO : Found lower val loss for epoch 8 => 0.13996\n"
     ]
    },
    {
     "name": "stdout",
     "output_type": "stream",
     "text": [
      "    \n",
      "1286325/1286325 [==============================] - 182s - loss: 0.1527 - val_loss: 0.1400\n",
      "Epoch 9/200\n",
      "1286144/1286325 [============================>.] - ETA: 0s - loss: 0.1515"
     ]
    },
    {
     "name": "stderr",
     "output_type": "stream",
     "text": [
      "2017-04-18 03:26:21,000 : INFO : Found lower val loss for epoch 9 => 0.13939\n"
     ]
    },
    {
     "name": "stdout",
     "output_type": "stream",
     "text": [
      "    \n",
      "1286325/1286325 [==============================] - 184s - loss: 0.1515 - val_loss: 0.1394\n",
      "Epoch 10/200\n",
      "1286144/1286325 [============================>.] - ETA: 0s - loss: 0.1507"
     ]
    },
    {
     "name": "stderr",
     "output_type": "stream",
     "text": [
      "2017-04-18 03:29:25,102 : INFO : Found lower val loss for epoch 10 => 0.13852\n"
     ]
    },
    {
     "name": "stdout",
     "output_type": "stream",
     "text": [
      "    \n",
      "1286325/1286325 [==============================] - 184s - loss: 0.1507 - val_loss: 0.1385\n",
      "Epoch 11/200\n",
      "1286144/1286325 [============================>.] - ETA: 0s - loss: 0.1499"
     ]
    },
    {
     "name": "stderr",
     "output_type": "stream",
     "text": [
      "2017-04-18 03:32:30,280 : INFO : Found lower val loss for epoch 11 => 0.13785\n"
     ]
    },
    {
     "name": "stdout",
     "output_type": "stream",
     "text": [
      "    \n",
      "1286325/1286325 [==============================] - 185s - loss: 0.1499 - val_loss: 0.1379\n",
      "Epoch 12/200\n",
      "1286325/1286325 [==============================] - 185s - loss: 0.1492 - val_loss: 0.1401\n",
      "Epoch 13/200\n",
      "1286144/1286325 [============================>.] - ETA: 0s - loss: 0.1487"
     ]
    },
    {
     "name": "stderr",
     "output_type": "stream",
     "text": [
      "2017-04-18 03:38:40,588 : INFO : Found lower val loss for epoch 13 => 0.13686\n",
      "2017-04-18 03:38:40,590 : INFO : Validation Loss Reduced 10 times\n",
      "2017-04-18 03:38:40,591 : INFO : Evaluating on Validation Data\n"
     ]
    },
    {
     "name": "stdout",
     "output_type": "stream",
     "text": [
      "\r",
      "    \r\n"
     ]
    },
    {
     "name": "stderr",
     "output_type": "stream",
     "text": [
      "2017-04-18 03:41:02,626 : INFO : Generating Validation Metrics\n"
     ]
    },
    {
     "name": "stdout",
     "output_type": "stream",
     "text": [
      "****** Validation Metrics: Cov Err: 1.417 | Top 3: 0.975 | Top 5: 0.996 | F1 Micro: 0.792 | F1 Macro: 0.732\n",
      "1286325/1286325 [==============================] - 335s - loss: 0.1487 - val_loss: 0.1369\n",
      "Epoch 14/200\n",
      "1286144/1286325 [============================>.] - ETA: 0s - loss: 0.1481"
     ]
    },
    {
     "name": "stderr",
     "output_type": "stream",
     "text": [
      "2017-04-18 03:43:58,275 : INFO : Found lower val loss for epoch 14 => 0.13529\n"
     ]
    },
    {
     "name": "stdout",
     "output_type": "stream",
     "text": [
      "    \n",
      "1286325/1286325 [==============================] - 167s - loss: 0.1481 - val_loss: 0.1353\n",
      "Epoch 15/200\n",
      "1286325/1286325 [==============================] - 165s - loss: 0.1476 - val_loss: 0.1361\n",
      "Epoch 16/200\n",
      "1286144/1286325 [============================>.] - ETA: 0s - loss: 0.1471"
     ]
    },
    {
     "name": "stderr",
     "output_type": "stream",
     "text": [
      "2017-04-18 03:49:29,842 : INFO : Found lower val loss for epoch 16 => 0.1347\n"
     ]
    },
    {
     "name": "stdout",
     "output_type": "stream",
     "text": [
      "    \n",
      "1286325/1286325 [==============================] - 166s - loss: 0.1471 - val_loss: 0.1347\n",
      "Epoch 17/200\n",
      "1286325/1286325 [==============================] - 166s - loss: 0.1468 - val_loss: 0.1351\n",
      "Epoch 18/200\n",
      "1286144/1286325 [============================>.] - ETA: 0s - loss: 0.1464"
     ]
    },
    {
     "name": "stderr",
     "output_type": "stream",
     "text": [
      "2017-04-18 03:55:01,714 : INFO : Found lower val loss for epoch 18 => 0.13426\n"
     ]
    },
    {
     "name": "stdout",
     "output_type": "stream",
     "text": [
      "    \n",
      "1286325/1286325 [==============================] - 165s - loss: 0.1464 - val_loss: 0.1343\n",
      "Epoch 19/200\n",
      "1286325/1286325 [==============================] - 165s - loss: 0.1461 - val_loss: 0.1346\n",
      "Epoch 20/200\n",
      "1286144/1286325 [============================>.] - ETA: 0s - loss: 0.1458"
     ]
    },
    {
     "name": "stderr",
     "output_type": "stream",
     "text": [
      "2017-04-18 04:00:36,376 : INFO : Found lower val loss for epoch 20 => 0.13404\n"
     ]
    },
    {
     "name": "stdout",
     "output_type": "stream",
     "text": [
      "    \n",
      "1286325/1286325 [==============================] - 168s - loss: 0.1458 - val_loss: 0.1340\n",
      "Epoch 21/200\n",
      "1286144/1286325 [============================>.] - ETA: 0s - loss: 0.1454"
     ]
    },
    {
     "name": "stderr",
     "output_type": "stream",
     "text": [
      "2017-04-18 04:03:21,979 : INFO : Found lower val loss for epoch 21 => 0.13352\n"
     ]
    },
    {
     "name": "stdout",
     "output_type": "stream",
     "text": [
      "    \n",
      "1286325/1286325 [==============================] - 165s - loss: 0.1454 - val_loss: 0.1335\n",
      "Epoch 22/200\n",
      "1286144/1286325 [============================>.] - ETA: 0s - loss: 0.1452"
     ]
    },
    {
     "name": "stderr",
     "output_type": "stream",
     "text": [
      "2017-04-18 04:06:07,709 : INFO : Found lower val loss for epoch 22 => 0.13302\n"
     ]
    },
    {
     "name": "stdout",
     "output_type": "stream",
     "text": [
      "    \n",
      "1286325/1286325 [==============================] - 165s - loss: 0.1452 - val_loss: 0.1330\n",
      "Epoch 23/200\n",
      "1286325/1286325 [==============================] - 165s - loss: 0.1447 - val_loss: 0.1333\n",
      "Epoch 24/200\n",
      "1286325/1286325 [==============================] - 166s - loss: 0.1446 - val_loss: 0.1333\n",
      "Epoch 25/200\n",
      "1286144/1286325 [============================>.] - ETA: 0s - loss: 0.1443"
     ]
    },
    {
     "name": "stderr",
     "output_type": "stream",
     "text": [
      "2017-04-18 04:14:24,216 : INFO : Found lower val loss for epoch 25 => 0.13247\n"
     ]
    },
    {
     "name": "stdout",
     "output_type": "stream",
     "text": [
      "    \n",
      "1286325/1286325 [==============================] - 165s - loss: 0.1443 - val_loss: 0.1325\n",
      "Epoch 26/200\n",
      "1286325/1286325 [==============================] - 176s - loss: 0.1442 - val_loss: 0.1330\n",
      "Epoch 27/200\n",
      "1286325/1286325 [==============================] - 186s - loss: 0.1440 - val_loss: 0.1329\n",
      "Epoch 28/200\n",
      "1286325/1286325 [==============================] - 190s - loss: 0.1433 - val_loss: 0.1326\n",
      "Epoch 32/200\n",
      "1286325/1286325 [==============================] - 187s - loss: 0.1432 - val_loss: 0.1323\n",
      "Epoch 33/200\n",
      "1286325/1286325 [==============================] - 191s - loss: 0.1430 - val_loss: 0.1331\n",
      "Epoch 34/200\n",
      "1286325/1286325 [==============================] - 189s - loss: 0.1428 - val_loss: 0.1324\n",
      "Epoch 35/200\n",
      "1286325/1286325 [==============================] - 185s - loss: 0.1427 - val_loss: 0.1330\n",
      "Epoch 36/200\n",
      "1286325/1286325 [==============================] - 189s - loss: 0.1425 - val_loss: 0.1323\n",
      "Epoch 37/200\n",
      "1286144/1286325 [============================>.] - ETA: 0s - loss: 0.1424"
     ]
    },
    {
     "name": "stderr",
     "output_type": "stream",
     "text": [
      "2017-04-18 04:51:54,684 : INFO : Found lower val loss for epoch 37 => 0.132\n"
     ]
    },
    {
     "name": "stdout",
     "output_type": "stream",
     "text": [
      "    \n",
      "1286325/1286325 [==============================] - 189s - loss: 0.1424 - val_loss: 0.1320\n",
      "Epoch 38/200\n",
      "1286325/1286325 [==============================] - 182s - loss: 0.1424 - val_loss: 0.1320\n",
      "Epoch 39/200\n",
      "1286144/1286325 [============================>.] - ETA: 0s - loss: 0.1421"
     ]
    },
    {
     "name": "stderr",
     "output_type": "stream",
     "text": [
      "2017-04-18 04:58:16,013 : INFO : Found lower val loss for epoch 39 => 0.13165\n",
      "2017-04-18 04:58:16,015 : INFO : Validation Loss Reduced 20 times\n",
      "2017-04-18 04:58:16,016 : INFO : Evaluating on Validation Data\n"
     ]
    },
    {
     "name": "stdout",
     "output_type": "stream",
     "text": [
      "\r",
      "    \r\n"
     ]
    },
    {
     "name": "stderr",
     "output_type": "stream",
     "text": [
      "2017-04-18 05:00:42,717 : INFO : Generating Validation Metrics\n"
     ]
    },
    {
     "name": "stdout",
     "output_type": "stream",
     "text": [
      "****** Validation Metrics: Cov Err: 1.400 | Top 3: 0.977 | Top 5: 0.996 | F1 Micro: 0.803 | F1 Macro: 0.753\n",
      "1286325/1286325 [==============================] - 353s - loss: 0.1421 - val_loss: 0.1317\n",
      "Epoch 40/200\n",
      "1286144/1286325 [============================>.] - ETA: 0s - loss: 0.1421"
     ]
    },
    {
     "name": "stderr",
     "output_type": "stream",
     "text": [
      "2017-04-18 05:04:10,188 : INFO : Found lower val loss for epoch 40 => 0.13095\n"
     ]
    },
    {
     "name": "stdout",
     "output_type": "stream",
     "text": [
      "    \n",
      "1286325/1286325 [==============================] - 199s - loss: 0.1421 - val_loss: 0.1309\n",
      "Epoch 41/200\n",
      "1286325/1286325 [==============================] - 205s - loss: 0.1420 - val_loss: 0.1315\n",
      "Epoch 42/200\n",
      "1286325/1286325 [==============================] - 234s - loss: 0.1419 - val_loss: 0.1314\n",
      "Epoch 43/200\n",
      "1286325/1286325 [==============================] - 208s - loss: 0.1418 - val_loss: 0.1321\n",
      "Epoch 44/200\n",
      "1286325/1286325 [==============================] - 203s - loss: 0.1418 - val_loss: 0.1315\n",
      "Epoch 45/200\n",
      "1286325/1286325 [==============================] - 205s - loss: 0.1415 - val_loss: 0.1314\n",
      "Epoch 46/200\n",
      "1286325/1286325 [==============================] - 203s - loss: 0.1416 - val_loss: 0.1310\n",
      "Epoch 47/200\n",
      "1286144/1286325 [============================>.] - ETA: 0s - loss: 0.1415"
     ]
    },
    {
     "name": "stderr",
     "output_type": "stream",
     "text": [
      "2017-04-18 05:28:38,661 : INFO : Found lower val loss for epoch 47 => 0.13069\n"
     ]
    },
    {
     "name": "stdout",
     "output_type": "stream",
     "text": [
      "    \n",
      "1286325/1286325 [==============================] - 207s - loss: 0.1415 - val_loss: 0.1307\n",
      "Epoch 48/200\n",
      "1286325/1286325 [==============================] - 209s - loss: 0.1414 - val_loss: 0.1310\n",
      "Epoch 49/200\n",
      "1286325/1286325 [==============================] - 204s - loss: 0.1412 - val_loss: 0.1309\n",
      "Epoch 50/200\n",
      "1286144/1286325 [============================>.] - ETA: 0s - loss: 0.1412"
     ]
    },
    {
     "name": "stderr",
     "output_type": "stream",
     "text": [
      "2017-04-18 05:38:57,428 : INFO : Found lower val loss for epoch 50 => 0.13039\n"
     ]
    },
    {
     "name": "stdout",
     "output_type": "stream",
     "text": [
      "    \n",
      "1286325/1286325 [==============================] - 204s - loss: 0.1412 - val_loss: 0.1304\n",
      "Epoch 51/200\n",
      "1286325/1286325 [==============================] - 205s - loss: 0.1411 - val_loss: 0.1310\n",
      "Epoch 52/200\n",
      "1286325/1286325 [==============================] - 204s - loss: 0.1411 - val_loss: 0.1309\n",
      "Epoch 53/200\n",
      "1286325/1286325 [==============================] - 203s - loss: 0.1411 - val_loss: 0.1304\n",
      "Epoch 54/200\n",
      "1286325/1286325 [==============================] - 205s - loss: 0.1408 - val_loss: 0.1307\n",
      "Epoch 55/200\n",
      "1286144/1286325 [============================>.] - ETA: 0s - loss: 0.1408"
     ]
    },
    {
     "name": "stderr",
     "output_type": "stream",
     "text": [
      "2017-04-18 05:55:59,386 : INFO : Found lower val loss for epoch 55 => 0.13031\n"
     ]
    },
    {
     "name": "stdout",
     "output_type": "stream",
     "text": [
      "    \n",
      "1286325/1286325 [==============================] - 203s - loss: 0.1408 - val_loss: 0.1303\n",
      "Epoch 56/200\n",
      "1286325/1286325 [==============================] - 212s - loss: 0.1408 - val_loss: 0.1305\n",
      "Epoch 57/200\n",
      "1286325/1286325 [==============================] - 209s - loss: 0.1408 - val_loss: 0.1305\n",
      "Epoch 58/200\n",
      "1286325/1286325 [==============================] - 207s - loss: 0.1407 - val_loss: 0.1303\n",
      "Epoch 59/200\n",
      "1286325/1286325 [==============================] - 206s - loss: 0.1406 - val_loss: 0.1312\n",
      "Epoch 60/200\n",
      "1286325/1286325 [==============================] - 209s - loss: 0.1405 - val_loss: 0.1308\n",
      "Epoch 61/200\n",
      "1286325/1286325 [==============================] - 209s - loss: 0.1405 - val_loss: 0.1304\n",
      "Epoch 62/200\n",
      "1286144/1286325 [============================>.] - ETA: 0s - loss: 0.1405"
     ]
    },
    {
     "name": "stderr",
     "output_type": "stream",
     "text": [
      "2017-04-18 06:20:19,174 : INFO : Found lower val loss for epoch 62 => 0.13023\n"
     ]
    },
    {
     "name": "stdout",
     "output_type": "stream",
     "text": [
      "    \n",
      "1286325/1286325 [==============================] - 204s - loss: 0.1405 - val_loss: 0.1302\n",
      "Epoch 63/200\n",
      "1286144/1286325 [============================>.] - ETA: 0s - loss: 0.1403"
     ]
    },
    {
     "name": "stderr",
     "output_type": "stream",
     "text": [
      "2017-04-18 06:23:42,704 : INFO : Found lower val loss for epoch 63 => 0.13005\n"
     ]
    },
    {
     "name": "stdout",
     "output_type": "stream",
     "text": [
      "    \n",
      "1286325/1286325 [==============================] - 203s - loss: 0.1403 - val_loss: 0.1301\n",
      "Epoch 64/200\n",
      "1286325/1286325 [==============================] - 208s - loss: 0.1405 - val_loss: 0.1306\n",
      "Epoch 65/200\n",
      "1286325/1286325 [==============================] - 195s - loss: 0.1403 - val_loss: 0.1304\n",
      "Epoch 66/200\n",
      "1286325/1286325 [==============================] - 210s - loss: 0.1401 - val_loss: 0.1306\n",
      "Epoch 67/200\n",
      "1286144/1286325 [============================>.] - ETA: 0s - loss: 0.1402"
     ]
    },
    {
     "name": "stderr",
     "output_type": "stream",
     "text": [
      "2017-04-18 06:37:20,682 : INFO : Found lower val loss for epoch 67 => 0.12981\n"
     ]
    },
    {
     "name": "stdout",
     "output_type": "stream",
     "text": [
      "    \n",
      "1286325/1286325 [==============================] - 203s - loss: 0.1402 - val_loss: 0.1298\n",
      "Epoch 68/200\n",
      "1286144/1286325 [============================>.] - ETA: 0s - loss: 0.1402"
     ]
    },
    {
     "name": "stderr",
     "output_type": "stream",
     "text": [
      "2017-04-18 06:40:47,755 : INFO : Found lower val loss for epoch 68 => 0.12977\n"
     ]
    },
    {
     "name": "stdout",
     "output_type": "stream",
     "text": [
      "    \n",
      "1286325/1286325 [==============================] - 207s - loss: 0.1402 - val_loss: 0.1298\n",
      "Epoch 69/200\n",
      "1286325/1286325 [==============================] - 204s - loss: 0.1401 - val_loss: 0.1305\n",
      "Epoch 70/200\n",
      "1286325/1286325 [==============================] - 205s - loss: 0.1400 - val_loss: 0.1298\n",
      "Epoch 71/200\n",
      "1286325/1286325 [==============================] - 207s - loss: 0.1401 - val_loss: 0.1302\n",
      "Epoch 72/200\n",
      "1286144/1286325 [============================>.] - ETA: 0s - loss: 0.1399"
     ]
    },
    {
     "name": "stderr",
     "output_type": "stream",
     "text": [
      "2017-04-18 06:54:32,450 : INFO : Found lower val loss for epoch 72 => 0.12961\n"
     ]
    },
    {
     "name": "stdout",
     "output_type": "stream",
     "text": [
      "    \n",
      "1286325/1286325 [==============================] - 206s - loss: 0.1399 - val_loss: 0.1296\n",
      "Epoch 73/200\n",
      "1286325/1286325 [==============================] - 204s - loss: 0.1398 - val_loss: 0.1299\n",
      "Epoch 74/200\n",
      "1286325/1286325 [==============================] - 207s - loss: 0.1399 - val_loss: 0.1298\n",
      "Epoch 75/200\n",
      "1286325/1286325 [==============================] - 204s - loss: 0.1399 - val_loss: 0.1297\n",
      "Epoch 76/200\n",
      "1286325/1286325 [==============================] - 204s - loss: 0.1399 - val_loss: 0.1296\n",
      "Epoch 77/200\n",
      "1286325/1286325 [==============================] - 208s - loss: 0.1398 - val_loss: 0.1302\n",
      "Epoch 78/200\n",
      "1286325/1286325 [==============================] - 206s - loss: 0.1398 - val_loss: 0.1296\n",
      "Epoch 79/200\n",
      "1286325/1286325 [==============================] - 204s - loss: 0.1397 - val_loss: 0.1314\n",
      "Epoch 80/200\n",
      "1286325/1286325 [==============================] - 227s - loss: 0.1396 - val_loss: 0.1297\n",
      "Epoch 81/200\n",
      "1286325/1286325 [==============================] - 220s - loss: 0.1395 - val_loss: 0.1299\n",
      "Epoch 82/200\n",
      "1286325/1286325 [==============================] - 205s - loss: 0.1395 - val_loss: 0.1301\n",
      "Epoch 83/200\n",
      "1286325/1286325 [==============================] - 205s - loss: 0.1395 - val_loss: 0.1298\n",
      "Epoch 84/200\n",
      "1286325/1286325 [==============================] - 205s - loss: 0.1396 - val_loss: 0.1303\n",
      "Epoch 85/200\n",
      "1286325/1286325 [==============================] - 200s - loss: 0.1396 - val_loss: 0.1298\n",
      "Epoch 86/200\n",
      "1286325/1286325 [==============================] - 201s - loss: 0.1395 - val_loss: 0.1298\n",
      "Epoch 87/200\n",
      "1286325/1286325 [==============================] - 204s - loss: 0.1393 - val_loss: 0.1296\n",
      "Epoch 88/200\n",
      "1286325/1286325 [==============================] - 208s - loss: 0.1394 - val_loss: 0.1298\n",
      "Epoch 00087: early stopping\n",
      "CPU times: user 2h 6min 2s, sys: 2h 26min 47s, total: 4h 32min 49s\n",
      "Wall time: 4h 54min 4s\n"
     ]
    },
    {
     "name": "stderr",
     "output_type": "stream",
     "text": [
      "2017-04-18 07:49:53,872 : INFO : Evaluating on Validation Data using saved best weights\n",
      "2017-04-18 07:52:22,174 : INFO : Generating Validation Metrics\n"
     ]
    },
    {
     "name": "stdout",
     "output_type": "stream",
     "text": [
      "****** Validation Metrics: Cov Err: 1.393 | Top 3: 0.978 | Top 5: 0.997 | F1 Micro: 0.808 | F1 Macro: 0.760\n"
     ]
    },
    {
     "name": "stderr",
     "output_type": "stream",
     "text": [
      "2017-04-18 07:52:31,327 : INFO : Loading Previous results from /mnt/data2/shalaby/nn_parameter_search_extended_abs_desc_claims_full_chunks/doc2vec_size_200_w_2_type_dm_concat_0_mean_1_trainwords_0_hs_0_neg_10_vocabsize_None/epoch_8/lstm_sections_level_1_batch_4096_nn_parameter_searches.pkl\n"
     ]
    },
    {
     "name": "stdout",
     "output_type": "stream",
     "text": [
      "==================================== NEW PARAM SET ============================================\n",
      "{'lstm_conv_filter_length': None, 'lstm_stack_layers': 3, 'nn_batch_size': 4096, 'classifications_type': 'classes', 'lstm_w_dropout': 0.5, 'lstm_max_pooling_length': None, 'lstm_u_dropout': 0.5, 'parts_level': 1, 'lstm_output_size': 1000, 'doc2vec_epoch': 8, 'lstm_conv_size': None}\n",
      "doc2vec_size_200_w_2_type_dm_concat_0_mean_1_trainwords_0_hs_0_neg_10_vocabsize_None/epoch_8\n"
     ]
    },
    {
     "name": "stderr",
     "output_type": "stream",
     "text": [
      "2017-04-18 07:52:45,909 : INFO : Loading Training Documents\n",
      "2017-04-18 07:52:45,911 : INFO : Loading Training Data from file\n",
      "2017-04-18 07:52:48,737 : INFO : Loading Validation Documents\n",
      "2017-04-18 07:52:48,739 : INFO : Loading Validation Data from file\n"
     ]
    },
    {
     "name": "stdout",
     "output_type": "stream",
     "text": [
      "(1286325, 1, 200)\n",
      "(1286325, 244)\n"
     ]
    },
    {
     "name": "stderr",
     "output_type": "stream",
     "text": [
      "2017-04-18 07:52:49,455 : INFO : Loading Previous results from /mnt/data2/shalaby/nn_parameter_search_extended_abs_desc_claims_full_chunks/doc2vec_size_200_w_2_type_dm_concat_0_mean_1_trainwords_0_hs_0_neg_10_vocabsize_None/epoch_8/lstm_classes_level_1_batch_4096_nn_parameter_searches.pkl\n"
     ]
    },
    {
     "name": "stdout",
     "output_type": "stream",
     "text": [
      "(321473, 1, 200)\n",
      "(321473, 244)\n"
     ]
    },
    {
     "name": "stderr",
     "output_type": "stream",
     "text": [
      "2017-04-18 07:52:56,787 : INFO : ***************************************************************************************\n",
      "2017-04-18 07:52:56,789 : INFO : lstm_optimizer_rmsprop_size_1000_w-drop_0.5_u-drop_0.5_stack_3_conv_None\n"
     ]
    },
    {
     "name": "stdout",
     "output_type": "stream",
     "text": [
      "____________________________________________________________________________________________________\n",
      "Layer (type)                     Output Shape          Param #     Connected to                     \n",
      "====================================================================================================\n",
      "lstm_1000_w-drop_0.5_u-drop_0.5_ (None, None, 1000)    4804000     lstm_input_2[0][0]               \n",
      "____________________________________________________________________________________________________\n",
      "lstm_1000_w-drop_0.5_u-drop_0.5_ (None, None, 1000)    8004000     lstm_1000_w-drop_0.5_u-drop_0.5_l\n",
      "____________________________________________________________________________________________________\n",
      "lstm_1000_w-drop_0.5_u-drop_0.5_ (None, 1000)          8004000     lstm_1000_w-drop_0.5_u-drop_0.5_l\n",
      "____________________________________________________________________________________________________\n",
      "sigmoid_output (Dense)           (None, 244)           244244      lstm_1000_w-drop_0.5_u-drop_0.5_l\n",
      "====================================================================================================\n",
      "Total params: 21,056,244\n",
      "Trainable params: 21,056,244\n",
      "Non-trainable params: 0\n",
      "____________________________________________________________________________________________________\n",
      "Train on 1286325 samples, validate on 321473 samples\n"
     ]
    },
    {
     "data": {
      "application/javascript": [
       "/* Put everything inside the global mpl namespace */\n",
       "window.mpl = {};\n",
       "\n",
       "mpl.get_websocket_type = function() {\n",
       "    if (typeof(WebSocket) !== 'undefined') {\n",
       "        return WebSocket;\n",
       "    } else if (typeof(MozWebSocket) !== 'undefined') {\n",
       "        return MozWebSocket;\n",
       "    } else {\n",
       "        alert('Your browser does not have WebSocket support.' +\n",
       "              'Please try Chrome, Safari or Firefox ≥ 6. ' +\n",
       "              'Firefox 4 and 5 are also supported but you ' +\n",
       "              'have to enable WebSockets in about:config.');\n",
       "    };\n",
       "}\n",
       "\n",
       "mpl.figure = function(figure_id, websocket, ondownload, parent_element) {\n",
       "    this.id = figure_id;\n",
       "\n",
       "    this.ws = websocket;\n",
       "\n",
       "    this.supports_binary = (this.ws.binaryType != undefined);\n",
       "\n",
       "    if (!this.supports_binary) {\n",
       "        var warnings = document.getElementById(\"mpl-warnings\");\n",
       "        if (warnings) {\n",
       "            warnings.style.display = 'block';\n",
       "            warnings.textContent = (\n",
       "                \"This browser does not support binary websocket messages. \" +\n",
       "                    \"Performance may be slow.\");\n",
       "        }\n",
       "    }\n",
       "\n",
       "    this.imageObj = new Image();\n",
       "\n",
       "    this.context = undefined;\n",
       "    this.message = undefined;\n",
       "    this.canvas = undefined;\n",
       "    this.rubberband_canvas = undefined;\n",
       "    this.rubberband_context = undefined;\n",
       "    this.format_dropdown = undefined;\n",
       "\n",
       "    this.image_mode = 'full';\n",
       "\n",
       "    this.root = $('<div/>');\n",
       "    this._root_extra_style(this.root)\n",
       "    this.root.attr('style', 'display: inline-block');\n",
       "\n",
       "    $(parent_element).append(this.root);\n",
       "\n",
       "    this._init_header(this);\n",
       "    this._init_canvas(this);\n",
       "    this._init_toolbar(this);\n",
       "\n",
       "    var fig = this;\n",
       "\n",
       "    this.waiting = false;\n",
       "\n",
       "    this.ws.onopen =  function () {\n",
       "            fig.send_message(\"supports_binary\", {value: fig.supports_binary});\n",
       "            fig.send_message(\"send_image_mode\", {});\n",
       "            fig.send_message(\"refresh\", {});\n",
       "        }\n",
       "\n",
       "    this.imageObj.onload = function() {\n",
       "            if (fig.image_mode == 'full') {\n",
       "                // Full images could contain transparency (where diff images\n",
       "                // almost always do), so we need to clear the canvas so that\n",
       "                // there is no ghosting.\n",
       "                fig.context.clearRect(0, 0, fig.canvas.width, fig.canvas.height);\n",
       "            }\n",
       "            fig.context.drawImage(fig.imageObj, 0, 0);\n",
       "        };\n",
       "\n",
       "    this.imageObj.onunload = function() {\n",
       "        this.ws.close();\n",
       "    }\n",
       "\n",
       "    this.ws.onmessage = this._make_on_message_function(this);\n",
       "\n",
       "    this.ondownload = ondownload;\n",
       "}\n",
       "\n",
       "mpl.figure.prototype._init_header = function() {\n",
       "    var titlebar = $(\n",
       "        '<div class=\"ui-dialog-titlebar ui-widget-header ui-corner-all ' +\n",
       "        'ui-helper-clearfix\"/>');\n",
       "    var titletext = $(\n",
       "        '<div class=\"ui-dialog-title\" style=\"width: 100%; ' +\n",
       "        'text-align: center; padding: 3px;\"/>');\n",
       "    titlebar.append(titletext)\n",
       "    this.root.append(titlebar);\n",
       "    this.header = titletext[0];\n",
       "}\n",
       "\n",
       "\n",
       "\n",
       "mpl.figure.prototype._canvas_extra_style = function(canvas_div) {\n",
       "\n",
       "}\n",
       "\n",
       "\n",
       "mpl.figure.prototype._root_extra_style = function(canvas_div) {\n",
       "\n",
       "}\n",
       "\n",
       "mpl.figure.prototype._init_canvas = function() {\n",
       "    var fig = this;\n",
       "\n",
       "    var canvas_div = $('<div/>');\n",
       "\n",
       "    canvas_div.attr('style', 'position: relative; clear: both; outline: 0');\n",
       "\n",
       "    function canvas_keyboard_event(event) {\n",
       "        return fig.key_event(event, event['data']);\n",
       "    }\n",
       "\n",
       "    canvas_div.keydown('key_press', canvas_keyboard_event);\n",
       "    canvas_div.keyup('key_release', canvas_keyboard_event);\n",
       "    this.canvas_div = canvas_div\n",
       "    this._canvas_extra_style(canvas_div)\n",
       "    this.root.append(canvas_div);\n",
       "\n",
       "    var canvas = $('<canvas/>');\n",
       "    canvas.addClass('mpl-canvas');\n",
       "    canvas.attr('style', \"left: 0; top: 0; z-index: 0; outline: 0\")\n",
       "\n",
       "    this.canvas = canvas[0];\n",
       "    this.context = canvas[0].getContext(\"2d\");\n",
       "\n",
       "    var rubberband = $('<canvas/>');\n",
       "    rubberband.attr('style', \"position: absolute; left: 0; top: 0; z-index: 1;\")\n",
       "\n",
       "    var pass_mouse_events = true;\n",
       "\n",
       "    canvas_div.resizable({\n",
       "        start: function(event, ui) {\n",
       "            pass_mouse_events = false;\n",
       "        },\n",
       "        resize: function(event, ui) {\n",
       "            fig.request_resize(ui.size.width, ui.size.height);\n",
       "        },\n",
       "        stop: function(event, ui) {\n",
       "            pass_mouse_events = true;\n",
       "            fig.request_resize(ui.size.width, ui.size.height);\n",
       "        },\n",
       "    });\n",
       "\n",
       "    function mouse_event_fn(event) {\n",
       "        if (pass_mouse_events)\n",
       "            return fig.mouse_event(event, event['data']);\n",
       "    }\n",
       "\n",
       "    rubberband.mousedown('button_press', mouse_event_fn);\n",
       "    rubberband.mouseup('button_release', mouse_event_fn);\n",
       "    // Throttle sequential mouse events to 1 every 20ms.\n",
       "    rubberband.mousemove('motion_notify', mouse_event_fn);\n",
       "\n",
       "    rubberband.mouseenter('figure_enter', mouse_event_fn);\n",
       "    rubberband.mouseleave('figure_leave', mouse_event_fn);\n",
       "\n",
       "    canvas_div.on(\"wheel\", function (event) {\n",
       "        event = event.originalEvent;\n",
       "        event['data'] = 'scroll'\n",
       "        if (event.deltaY < 0) {\n",
       "            event.step = 1;\n",
       "        } else {\n",
       "            event.step = -1;\n",
       "        }\n",
       "        mouse_event_fn(event);\n",
       "    });\n",
       "\n",
       "    canvas_div.append(canvas);\n",
       "    canvas_div.append(rubberband);\n",
       "\n",
       "    this.rubberband = rubberband;\n",
       "    this.rubberband_canvas = rubberband[0];\n",
       "    this.rubberband_context = rubberband[0].getContext(\"2d\");\n",
       "    this.rubberband_context.strokeStyle = \"#000000\";\n",
       "\n",
       "    this._resize_canvas = function(width, height) {\n",
       "        // Keep the size of the canvas, canvas container, and rubber band\n",
       "        // canvas in synch.\n",
       "        canvas_div.css('width', width)\n",
       "        canvas_div.css('height', height)\n",
       "\n",
       "        canvas.attr('width', width);\n",
       "        canvas.attr('height', height);\n",
       "\n",
       "        rubberband.attr('width', width);\n",
       "        rubberband.attr('height', height);\n",
       "    }\n",
       "\n",
       "    // Set the figure to an initial 600x600px, this will subsequently be updated\n",
       "    // upon first draw.\n",
       "    this._resize_canvas(600, 600);\n",
       "\n",
       "    // Disable right mouse context menu.\n",
       "    $(this.rubberband_canvas).bind(\"contextmenu\",function(e){\n",
       "        return false;\n",
       "    });\n",
       "\n",
       "    function set_focus () {\n",
       "        canvas.focus();\n",
       "        canvas_div.focus();\n",
       "    }\n",
       "\n",
       "    window.setTimeout(set_focus, 100);\n",
       "}\n",
       "\n",
       "mpl.figure.prototype._init_toolbar = function() {\n",
       "    var fig = this;\n",
       "\n",
       "    var nav_element = $('<div/>')\n",
       "    nav_element.attr('style', 'width: 100%');\n",
       "    this.root.append(nav_element);\n",
       "\n",
       "    // Define a callback function for later on.\n",
       "    function toolbar_event(event) {\n",
       "        return fig.toolbar_button_onclick(event['data']);\n",
       "    }\n",
       "    function toolbar_mouse_event(event) {\n",
       "        return fig.toolbar_button_onmouseover(event['data']);\n",
       "    }\n",
       "\n",
       "    for(var toolbar_ind in mpl.toolbar_items) {\n",
       "        var name = mpl.toolbar_items[toolbar_ind][0];\n",
       "        var tooltip = mpl.toolbar_items[toolbar_ind][1];\n",
       "        var image = mpl.toolbar_items[toolbar_ind][2];\n",
       "        var method_name = mpl.toolbar_items[toolbar_ind][3];\n",
       "\n",
       "        if (!name) {\n",
       "            // put a spacer in here.\n",
       "            continue;\n",
       "        }\n",
       "        var button = $('<button/>');\n",
       "        button.addClass('ui-button ui-widget ui-state-default ui-corner-all ' +\n",
       "                        'ui-button-icon-only');\n",
       "        button.attr('role', 'button');\n",
       "        button.attr('aria-disabled', 'false');\n",
       "        button.click(method_name, toolbar_event);\n",
       "        button.mouseover(tooltip, toolbar_mouse_event);\n",
       "\n",
       "        var icon_img = $('<span/>');\n",
       "        icon_img.addClass('ui-button-icon-primary ui-icon');\n",
       "        icon_img.addClass(image);\n",
       "        icon_img.addClass('ui-corner-all');\n",
       "\n",
       "        var tooltip_span = $('<span/>');\n",
       "        tooltip_span.addClass('ui-button-text');\n",
       "        tooltip_span.html(tooltip);\n",
       "\n",
       "        button.append(icon_img);\n",
       "        button.append(tooltip_span);\n",
       "\n",
       "        nav_element.append(button);\n",
       "    }\n",
       "\n",
       "    var fmt_picker_span = $('<span/>');\n",
       "\n",
       "    var fmt_picker = $('<select/>');\n",
       "    fmt_picker.addClass('mpl-toolbar-option ui-widget ui-widget-content');\n",
       "    fmt_picker_span.append(fmt_picker);\n",
       "    nav_element.append(fmt_picker_span);\n",
       "    this.format_dropdown = fmt_picker[0];\n",
       "\n",
       "    for (var ind in mpl.extensions) {\n",
       "        var fmt = mpl.extensions[ind];\n",
       "        var option = $(\n",
       "            '<option/>', {selected: fmt === mpl.default_extension}).html(fmt);\n",
       "        fmt_picker.append(option)\n",
       "    }\n",
       "\n",
       "    // Add hover states to the ui-buttons\n",
       "    $( \".ui-button\" ).hover(\n",
       "        function() { $(this).addClass(\"ui-state-hover\");},\n",
       "        function() { $(this).removeClass(\"ui-state-hover\");}\n",
       "    );\n",
       "\n",
       "    var status_bar = $('<span class=\"mpl-message\"/>');\n",
       "    nav_element.append(status_bar);\n",
       "    this.message = status_bar[0];\n",
       "}\n",
       "\n",
       "mpl.figure.prototype.request_resize = function(x_pixels, y_pixels) {\n",
       "    // Request matplotlib to resize the figure. Matplotlib will then trigger a resize in the client,\n",
       "    // which will in turn request a refresh of the image.\n",
       "    this.send_message('resize', {'width': x_pixels, 'height': y_pixels});\n",
       "}\n",
       "\n",
       "mpl.figure.prototype.send_message = function(type, properties) {\n",
       "    properties['type'] = type;\n",
       "    properties['figure_id'] = this.id;\n",
       "    this.ws.send(JSON.stringify(properties));\n",
       "}\n",
       "\n",
       "mpl.figure.prototype.send_draw_message = function() {\n",
       "    if (!this.waiting) {\n",
       "        this.waiting = true;\n",
       "        this.ws.send(JSON.stringify({type: \"draw\", figure_id: this.id}));\n",
       "    }\n",
       "}\n",
       "\n",
       "\n",
       "mpl.figure.prototype.handle_save = function(fig, msg) {\n",
       "    var format_dropdown = fig.format_dropdown;\n",
       "    var format = format_dropdown.options[format_dropdown.selectedIndex].value;\n",
       "    fig.ondownload(fig, format);\n",
       "}\n",
       "\n",
       "\n",
       "mpl.figure.prototype.handle_resize = function(fig, msg) {\n",
       "    var size = msg['size'];\n",
       "    if (size[0] != fig.canvas.width || size[1] != fig.canvas.height) {\n",
       "        fig._resize_canvas(size[0], size[1]);\n",
       "        fig.send_message(\"refresh\", {});\n",
       "    };\n",
       "}\n",
       "\n",
       "mpl.figure.prototype.handle_rubberband = function(fig, msg) {\n",
       "    var x0 = msg['x0'];\n",
       "    var y0 = fig.canvas.height - msg['y0'];\n",
       "    var x1 = msg['x1'];\n",
       "    var y1 = fig.canvas.height - msg['y1'];\n",
       "    x0 = Math.floor(x0) + 0.5;\n",
       "    y0 = Math.floor(y0) + 0.5;\n",
       "    x1 = Math.floor(x1) + 0.5;\n",
       "    y1 = Math.floor(y1) + 0.5;\n",
       "    var min_x = Math.min(x0, x1);\n",
       "    var min_y = Math.min(y0, y1);\n",
       "    var width = Math.abs(x1 - x0);\n",
       "    var height = Math.abs(y1 - y0);\n",
       "\n",
       "    fig.rubberband_context.clearRect(\n",
       "        0, 0, fig.canvas.width, fig.canvas.height);\n",
       "\n",
       "    fig.rubberband_context.strokeRect(min_x, min_y, width, height);\n",
       "}\n",
       "\n",
       "mpl.figure.prototype.handle_figure_label = function(fig, msg) {\n",
       "    // Updates the figure title.\n",
       "    fig.header.textContent = msg['label'];\n",
       "}\n",
       "\n",
       "mpl.figure.prototype.handle_cursor = function(fig, msg) {\n",
       "    var cursor = msg['cursor'];\n",
       "    switch(cursor)\n",
       "    {\n",
       "    case 0:\n",
       "        cursor = 'pointer';\n",
       "        break;\n",
       "    case 1:\n",
       "        cursor = 'default';\n",
       "        break;\n",
       "    case 2:\n",
       "        cursor = 'crosshair';\n",
       "        break;\n",
       "    case 3:\n",
       "        cursor = 'move';\n",
       "        break;\n",
       "    }\n",
       "    fig.rubberband_canvas.style.cursor = cursor;\n",
       "}\n",
       "\n",
       "mpl.figure.prototype.handle_message = function(fig, msg) {\n",
       "    fig.message.textContent = msg['message'];\n",
       "}\n",
       "\n",
       "mpl.figure.prototype.handle_draw = function(fig, msg) {\n",
       "    // Request the server to send over a new figure.\n",
       "    fig.send_draw_message();\n",
       "}\n",
       "\n",
       "mpl.figure.prototype.handle_image_mode = function(fig, msg) {\n",
       "    fig.image_mode = msg['mode'];\n",
       "}\n",
       "\n",
       "mpl.figure.prototype.updated_canvas_event = function() {\n",
       "    // Called whenever the canvas gets updated.\n",
       "    this.send_message(\"ack\", {});\n",
       "}\n",
       "\n",
       "// A function to construct a web socket function for onmessage handling.\n",
       "// Called in the figure constructor.\n",
       "mpl.figure.prototype._make_on_message_function = function(fig) {\n",
       "    return function socket_on_message(evt) {\n",
       "        if (evt.data instanceof Blob) {\n",
       "            /* FIXME: We get \"Resource interpreted as Image but\n",
       "             * transferred with MIME type text/plain:\" errors on\n",
       "             * Chrome.  But how to set the MIME type?  It doesn't seem\n",
       "             * to be part of the websocket stream */\n",
       "            evt.data.type = \"image/png\";\n",
       "\n",
       "            /* Free the memory for the previous frames */\n",
       "            if (fig.imageObj.src) {\n",
       "                (window.URL || window.webkitURL).revokeObjectURL(\n",
       "                    fig.imageObj.src);\n",
       "            }\n",
       "\n",
       "            fig.imageObj.src = (window.URL || window.webkitURL).createObjectURL(\n",
       "                evt.data);\n",
       "            fig.updated_canvas_event();\n",
       "            fig.waiting = false;\n",
       "            return;\n",
       "        }\n",
       "        else if (typeof evt.data === 'string' && evt.data.slice(0, 21) == \"data:image/png;base64\") {\n",
       "            fig.imageObj.src = evt.data;\n",
       "            fig.updated_canvas_event();\n",
       "            fig.waiting = false;\n",
       "            return;\n",
       "        }\n",
       "\n",
       "        var msg = JSON.parse(evt.data);\n",
       "        var msg_type = msg['type'];\n",
       "\n",
       "        // Call the  \"handle_{type}\" callback, which takes\n",
       "        // the figure and JSON message as its only arguments.\n",
       "        try {\n",
       "            var callback = fig[\"handle_\" + msg_type];\n",
       "        } catch (e) {\n",
       "            console.log(\"No handler for the '\" + msg_type + \"' message type: \", msg);\n",
       "            return;\n",
       "        }\n",
       "\n",
       "        if (callback) {\n",
       "            try {\n",
       "                // console.log(\"Handling '\" + msg_type + \"' message: \", msg);\n",
       "                callback(fig, msg);\n",
       "            } catch (e) {\n",
       "                console.log(\"Exception inside the 'handler_\" + msg_type + \"' callback:\", e, e.stack, msg);\n",
       "            }\n",
       "        }\n",
       "    };\n",
       "}\n",
       "\n",
       "// from http://stackoverflow.com/questions/1114465/getting-mouse-location-in-canvas\n",
       "mpl.findpos = function(e) {\n",
       "    //this section is from http://www.quirksmode.org/js/events_properties.html\n",
       "    var targ;\n",
       "    if (!e)\n",
       "        e = window.event;\n",
       "    if (e.target)\n",
       "        targ = e.target;\n",
       "    else if (e.srcElement)\n",
       "        targ = e.srcElement;\n",
       "    if (targ.nodeType == 3) // defeat Safari bug\n",
       "        targ = targ.parentNode;\n",
       "\n",
       "    // jQuery normalizes the pageX and pageY\n",
       "    // pageX,Y are the mouse positions relative to the document\n",
       "    // offset() returns the position of the element relative to the document\n",
       "    var x = e.pageX - $(targ).offset().left;\n",
       "    var y = e.pageY - $(targ).offset().top;\n",
       "\n",
       "    return {\"x\": x, \"y\": y};\n",
       "};\n",
       "\n",
       "/*\n",
       " * return a copy of an object with only non-object keys\n",
       " * we need this to avoid circular references\n",
       " * http://stackoverflow.com/a/24161582/3208463\n",
       " */\n",
       "function simpleKeys (original) {\n",
       "  return Object.keys(original).reduce(function (obj, key) {\n",
       "    if (typeof original[key] !== 'object')\n",
       "        obj[key] = original[key]\n",
       "    return obj;\n",
       "  }, {});\n",
       "}\n",
       "\n",
       "mpl.figure.prototype.mouse_event = function(event, name) {\n",
       "    var canvas_pos = mpl.findpos(event)\n",
       "\n",
       "    if (name === 'button_press')\n",
       "    {\n",
       "        this.canvas.focus();\n",
       "        this.canvas_div.focus();\n",
       "    }\n",
       "\n",
       "    var x = canvas_pos.x;\n",
       "    var y = canvas_pos.y;\n",
       "\n",
       "    this.send_message(name, {x: x, y: y, button: event.button,\n",
       "                             step: event.step,\n",
       "                             guiEvent: simpleKeys(event)});\n",
       "\n",
       "    /* This prevents the web browser from automatically changing to\n",
       "     * the text insertion cursor when the button is pressed.  We want\n",
       "     * to control all of the cursor setting manually through the\n",
       "     * 'cursor' event from matplotlib */\n",
       "    event.preventDefault();\n",
       "    return false;\n",
       "}\n",
       "\n",
       "mpl.figure.prototype._key_event_extra = function(event, name) {\n",
       "    // Handle any extra behaviour associated with a key event\n",
       "}\n",
       "\n",
       "mpl.figure.prototype.key_event = function(event, name) {\n",
       "\n",
       "    // Prevent repeat events\n",
       "    if (name == 'key_press')\n",
       "    {\n",
       "        if (event.which === this._key)\n",
       "            return;\n",
       "        else\n",
       "            this._key = event.which;\n",
       "    }\n",
       "    if (name == 'key_release')\n",
       "        this._key = null;\n",
       "\n",
       "    var value = '';\n",
       "    if (event.ctrlKey && event.which != 17)\n",
       "        value += \"ctrl+\";\n",
       "    if (event.altKey && event.which != 18)\n",
       "        value += \"alt+\";\n",
       "    if (event.shiftKey && event.which != 16)\n",
       "        value += \"shift+\";\n",
       "\n",
       "    value += 'k';\n",
       "    value += event.which.toString();\n",
       "\n",
       "    this._key_event_extra(event, name);\n",
       "\n",
       "    this.send_message(name, {key: value,\n",
       "                             guiEvent: simpleKeys(event)});\n",
       "    return false;\n",
       "}\n",
       "\n",
       "mpl.figure.prototype.toolbar_button_onclick = function(name) {\n",
       "    if (name == 'download') {\n",
       "        this.handle_save(this, null);\n",
       "    } else {\n",
       "        this.send_message(\"toolbar_button\", {name: name});\n",
       "    }\n",
       "};\n",
       "\n",
       "mpl.figure.prototype.toolbar_button_onmouseover = function(tooltip) {\n",
       "    this.message.textContent = tooltip;\n",
       "};\n",
       "mpl.toolbar_items = [[\"Home\", \"Reset original view\", \"fa fa-home icon-home\", \"home\"], [\"Back\", \"Back to  previous view\", \"fa fa-arrow-left icon-arrow-left\", \"back\"], [\"Forward\", \"Forward to next view\", \"fa fa-arrow-right icon-arrow-right\", \"forward\"], [\"\", \"\", \"\", \"\"], [\"Pan\", \"Pan axes with left mouse, zoom with right\", \"fa fa-arrows icon-move\", \"pan\"], [\"Zoom\", \"Zoom to rectangle\", \"fa fa-square-o icon-check-empty\", \"zoom\"], [\"\", \"\", \"\", \"\"], [\"Download\", \"Download plot\", \"fa fa-floppy-o icon-save\", \"download\"]];\n",
       "\n",
       "mpl.extensions = [\"eps\", \"pdf\", \"png\", \"ps\", \"raw\", \"svg\"];\n",
       "\n",
       "mpl.default_extension = \"png\";var comm_websocket_adapter = function(comm) {\n",
       "    // Create a \"websocket\"-like object which calls the given IPython comm\n",
       "    // object with the appropriate methods. Currently this is a non binary\n",
       "    // socket, so there is still some room for performance tuning.\n",
       "    var ws = {};\n",
       "\n",
       "    ws.close = function() {\n",
       "        comm.close()\n",
       "    };\n",
       "    ws.send = function(m) {\n",
       "        //console.log('sending', m);\n",
       "        comm.send(m);\n",
       "    };\n",
       "    // Register the callback with on_msg.\n",
       "    comm.on_msg(function(msg) {\n",
       "        //console.log('receiving', msg['content']['data'], msg);\n",
       "        // Pass the mpl event to the overriden (by mpl) onmessage function.\n",
       "        ws.onmessage(msg['content']['data'])\n",
       "    });\n",
       "    return ws;\n",
       "}\n",
       "\n",
       "mpl.mpl_figure_comm = function(comm, msg) {\n",
       "    // This is the function which gets called when the mpl process\n",
       "    // starts-up an IPython Comm through the \"matplotlib\" channel.\n",
       "\n",
       "    var id = msg.content.data.id;\n",
       "    // Get hold of the div created by the display call when the Comm\n",
       "    // socket was opened in Python.\n",
       "    var element = $(\"#\" + id);\n",
       "    var ws_proxy = comm_websocket_adapter(comm)\n",
       "\n",
       "    function ondownload(figure, format) {\n",
       "        window.open(figure.imageObj.src);\n",
       "    }\n",
       "\n",
       "    var fig = new mpl.figure(id, ws_proxy,\n",
       "                           ondownload,\n",
       "                           element.get(0));\n",
       "\n",
       "    // Call onopen now - mpl needs it, as it is assuming we've passed it a real\n",
       "    // web socket which is closed, not our websocket->open comm proxy.\n",
       "    ws_proxy.onopen();\n",
       "\n",
       "    fig.parent_element = element.get(0);\n",
       "    fig.cell_info = mpl.find_output_cell(\"<div id='\" + id + \"'></div>\");\n",
       "    if (!fig.cell_info) {\n",
       "        console.error(\"Failed to find cell for figure\", id, fig);\n",
       "        return;\n",
       "    }\n",
       "\n",
       "    var output_index = fig.cell_info[2]\n",
       "    var cell = fig.cell_info[0];\n",
       "\n",
       "};\n",
       "\n",
       "mpl.figure.prototype.handle_close = function(fig, msg) {\n",
       "    fig.root.unbind('remove')\n",
       "\n",
       "    // Update the output cell to use the data from the current canvas.\n",
       "    fig.push_to_output();\n",
       "    var dataURL = fig.canvas.toDataURL();\n",
       "    // Re-enable the keyboard manager in IPython - without this line, in FF,\n",
       "    // the notebook keyboard shortcuts fail.\n",
       "    IPython.keyboard_manager.enable()\n",
       "    $(fig.parent_element).html('<img src=\"' + dataURL + '\">');\n",
       "    fig.close_ws(fig, msg);\n",
       "}\n",
       "\n",
       "mpl.figure.prototype.close_ws = function(fig, msg){\n",
       "    fig.send_message('closing', msg);\n",
       "    // fig.ws.close()\n",
       "}\n",
       "\n",
       "mpl.figure.prototype.push_to_output = function(remove_interactive) {\n",
       "    // Turn the data on the canvas into data in the output cell.\n",
       "    var dataURL = this.canvas.toDataURL();\n",
       "    this.cell_info[1]['text/html'] = '<img src=\"' + dataURL + '\">';\n",
       "}\n",
       "\n",
       "mpl.figure.prototype.updated_canvas_event = function() {\n",
       "    // Tell IPython that the notebook contents must change.\n",
       "    IPython.notebook.set_dirty(true);\n",
       "    this.send_message(\"ack\", {});\n",
       "    var fig = this;\n",
       "    // Wait a second, then push the new image to the DOM so\n",
       "    // that it is saved nicely (might be nice to debounce this).\n",
       "    setTimeout(function () { fig.push_to_output() }, 1000);\n",
       "}\n",
       "\n",
       "mpl.figure.prototype._init_toolbar = function() {\n",
       "    var fig = this;\n",
       "\n",
       "    var nav_element = $('<div/>')\n",
       "    nav_element.attr('style', 'width: 100%');\n",
       "    this.root.append(nav_element);\n",
       "\n",
       "    // Define a callback function for later on.\n",
       "    function toolbar_event(event) {\n",
       "        return fig.toolbar_button_onclick(event['data']);\n",
       "    }\n",
       "    function toolbar_mouse_event(event) {\n",
       "        return fig.toolbar_button_onmouseover(event['data']);\n",
       "    }\n",
       "\n",
       "    for(var toolbar_ind in mpl.toolbar_items){\n",
       "        var name = mpl.toolbar_items[toolbar_ind][0];\n",
       "        var tooltip = mpl.toolbar_items[toolbar_ind][1];\n",
       "        var image = mpl.toolbar_items[toolbar_ind][2];\n",
       "        var method_name = mpl.toolbar_items[toolbar_ind][3];\n",
       "\n",
       "        if (!name) { continue; };\n",
       "\n",
       "        var button = $('<button class=\"btn btn-default\" href=\"#\" title=\"' + name + '\"><i class=\"fa ' + image + ' fa-lg\"></i></button>');\n",
       "        button.click(method_name, toolbar_event);\n",
       "        button.mouseover(tooltip, toolbar_mouse_event);\n",
       "        nav_element.append(button);\n",
       "    }\n",
       "\n",
       "    // Add the status bar.\n",
       "    var status_bar = $('<span class=\"mpl-message\" style=\"text-align:right; float: right;\"/>');\n",
       "    nav_element.append(status_bar);\n",
       "    this.message = status_bar[0];\n",
       "\n",
       "    // Add the close button to the window.\n",
       "    var buttongrp = $('<div class=\"btn-group inline pull-right\"></div>');\n",
       "    var button = $('<button class=\"btn btn-mini btn-primary\" href=\"#\" title=\"Stop Interaction\"><i class=\"fa fa-power-off icon-remove icon-large\"></i></button>');\n",
       "    button.click(function (evt) { fig.handle_close(fig, {}); } );\n",
       "    button.mouseover('Stop Interaction', toolbar_mouse_event);\n",
       "    buttongrp.append(button);\n",
       "    var titlebar = this.root.find($('.ui-dialog-titlebar'));\n",
       "    titlebar.prepend(buttongrp);\n",
       "}\n",
       "\n",
       "mpl.figure.prototype._root_extra_style = function(el){\n",
       "    var fig = this\n",
       "    el.on(\"remove\", function(){\n",
       "\tfig.close_ws(fig, {});\n",
       "    });\n",
       "}\n",
       "\n",
       "mpl.figure.prototype._canvas_extra_style = function(el){\n",
       "    // this is important to make the div 'focusable\n",
       "    el.attr('tabindex', 0)\n",
       "    // reach out to IPython and tell the keyboard manager to turn it's self\n",
       "    // off when our div gets focus\n",
       "\n",
       "    // location in version 3\n",
       "    if (IPython.notebook.keyboard_manager) {\n",
       "        IPython.notebook.keyboard_manager.register_events(el);\n",
       "    }\n",
       "    else {\n",
       "        // location in version 2\n",
       "        IPython.keyboard_manager.register_events(el);\n",
       "    }\n",
       "\n",
       "}\n",
       "\n",
       "mpl.figure.prototype._key_event_extra = function(event, name) {\n",
       "    var manager = IPython.notebook.keyboard_manager;\n",
       "    if (!manager)\n",
       "        manager = IPython.keyboard_manager;\n",
       "\n",
       "    // Check for shift+enter\n",
       "    if (event.shiftKey && event.which == 13) {\n",
       "        this.canvas_div.blur();\n",
       "        event.shiftKey = false;\n",
       "        // Send a \"J\" for go to next cell\n",
       "        event.which = 74;\n",
       "        event.keyCode = 74;\n",
       "        manager.command_mode();\n",
       "        manager.handle_keydown(event);\n",
       "    }\n",
       "}\n",
       "\n",
       "mpl.figure.prototype.handle_save = function(fig, msg) {\n",
       "    fig.ondownload(fig, null);\n",
       "}\n",
       "\n",
       "\n",
       "mpl.find_output_cell = function(html_output) {\n",
       "    // Return the cell and output element which can be found *uniquely* in the notebook.\n",
       "    // Note - this is a bit hacky, but it is done because the \"notebook_saving.Notebook\"\n",
       "    // IPython event is triggered only after the cells have been serialised, which for\n",
       "    // our purposes (turning an active figure into a static one), is too late.\n",
       "    var cells = IPython.notebook.get_cells();\n",
       "    var ncells = cells.length;\n",
       "    for (var i=0; i<ncells; i++) {\n",
       "        var cell = cells[i];\n",
       "        if (cell.cell_type === 'code'){\n",
       "            for (var j=0; j<cell.output_area.outputs.length; j++) {\n",
       "                var data = cell.output_area.outputs[j];\n",
       "                if (data.data) {\n",
       "                    // IPython >= 3 moved mimebundle to data attribute of output\n",
       "                    data = data.data;\n",
       "                }\n",
       "                if (data['text/html'] == html_output) {\n",
       "                    return [cell, data, j];\n",
       "                }\n",
       "            }\n",
       "        }\n",
       "    }\n",
       "}\n",
       "\n",
       "// Register the function which deals with the matplotlib target/channel.\n",
       "// The kernel may be null if the page has been refreshed.\n",
       "if (IPython.notebook.kernel != null) {\n",
       "    IPython.notebook.kernel.comm_manager.register_target('matplotlib', mpl.mpl_figure_comm);\n",
       "}\n"
      ],
      "text/plain": [
       "<IPython.core.display.Javascript object>"
      ]
     },
     "metadata": {},
     "output_type": "display_data"
    },
    {
     "data": {
      "text/html": [
       "<img src=\"data:image/png;base64,iVBORw0KGgoAAAANSUhEUgAAA8AAAAHgCAYAAABq5QSEAAAgAElEQVR4nOzdebzXY/7/8Xdna9FGJSnjdD6f6ypjK3uYQbZSFKddZPBFDBkzZhhbm0qWQrYQItl3aaGmUtqQjFOSRMR8zhEdJtU59fr+cZY5pTh4Xn3O8njcbvfb7XeqUeP2nOt3XX3iG0VERERERERERERERERERERERERERERERERERERERERERERERERERERERERERERERERERERERERERERERERERERERERERERERERERERERERERERERERERERERERERERERERERERERERERERERERERERERERERERERERERERERERERERERERERERERERERERERERERERERERERERERERERERERERERERERERERERERERERERERERERERERERERERERERERERERERERERERERERERERERERERERERERERERERERERERERERERERERERERERERERERERERERERERERERERERERERERERERERERERERERERERERERERERERERERERERERERERERERERERERERERERERERERERERERERERERERFRR895f7Zyb772f45wbtZ3v71f8/bO99+OjKEqPoihyzm3x3k93zs3w3k+Px+Pdd/ovnoiIiIiIiKg8ZWVlHeqcWxxFUUYURTWcc1NjsVjXku/33jd3zn2WmZnZMIqiyDn3YDwev7z4/705Ob9qIiIiIiIiol9YPB6/wTk3uMzX53vv7y/52nvfr/hT35KvT3DOTYuiok+Ad+6vloiIiIiIiOhX5py7Lx6PX1zm607e+9dKvi7+49EjS76Ox+P7eu+XFv/YLc65B51zs5xzj7Vs2bLpzv3VExEREREREZWz7TyAO3vvJ5V8ve0DOBaL7eecyyn+sRc1b968UfGPG+i9f2pn/tqJiIiIiIiIyp1z7lrn3NCSr+PxeH/n3L1lvu7rnJtQ8nUsFuvonJu87V8nHo//3jm3vDw/55YtW4yIiIiIiCpGv/VNQVRpcs61cc69n5mZWSuKojTn3MxYLNah5PtbtmzZ1Hu/quSTXufcBOfcRc65fZxzr0RRlFb87QO890+W5+c0M8vLy7fcXOC3y8vLNzYFJTYFJfYENTYFtby8fB7AVL1yzg1wzs13zs313g8q/raJ8Xi8RRRFUSwW6+m9X+C9n1386XBKFJX+C7Teds7NcM69vPfeezcrz89nZpabm2+JBPDb5eYWXQTYFFTYFJTYE9TYFNRyc3kAEwWNQxtKXASgxqagxJ6gxqagxgOYKHAc2lDiIgA1NgUl9gQ1NgU1HsBEgePQhhIXAaixKSixJ6ixKajxACYKHIc2lLgIQI1NQYk9QY1NQY0HMFHgOLShxEUAamwKSuwJamwKajyAiQLHoQ0lLgJQY1NQYk9QY1NQ4wFMFDgObShxEYAam4ISe4Iam4IaD2CiwHFoQ4mLANTYFJTYE9Sq+6auvfYG69Wrj51+erbtu+++1qtXH+vVq489+OD4cv81Hnnk8Z/98ddee4PNmjXvN/96R4y4xYYMGZ70v28/hQcwUeCq86ENvep+EYAem4ISe4IamyqyZMmH1q7dkUn/dfwcHsBExAMYUlwEoMamoMSeoMamimzvATxixC122WV/sV69+tiMGXNtxoy5lp3d3fr06Wtdupxur732RumPK3mUHnhgGxsz5j7r3buvnXjiSTZt2ixLJPKtZ8/e9sorU23KlBnWt28/u/LKq6xbtx7Wpcvp9uGHn1oikW/jxo23Dh062plnnmXDho20nj17/+jXuaMH8OrVCbvssr9Y9+49rVu3HnbLLaMtkci3pUtXWu/eZ1rPnr3t9NOz7d57H7REIt/uued+69Klq/Xq1cf69j3bli37RLqpZL8PiKp0HNpQ4iIANTYFJfYEtWRvqvP4LpYxOCOIzuO7lPvXsaMHcHZ299Kvn332JXvzzQWWSOTbtGkz7bTTupb+uJJHaatWrez551+1RCLf7r//Ybvggv6WSGz9AG7btq0tXbrSEol8u/jiS+2eex6wVau+tEMOOdSWL//MEol8u+iiS6xXrz4/+nXu6AE8atSd9ve/X22JRL59+eU31qlTZ5s+fY6NGXOf/e1v/7BEIt/WrFlrd9011hKJfDvooIMtJ6fo1zBlygybNWu+dFPJfh8QVem4CEAp2RcBVD1sCkrsCWrJ3lRFfwBff/3g0q9nzZpvZ599jvXo0cu6dDndjjnmuNIfV/YB/NlnCUsk8u3ll6dY795nWiKx9QO4S5eupX/NwYOH2ciRt9msWfPtlFM6l377xInP/KIH8HnnXWBPP/1C6ddXX32t3XXXWFu06H1r3/4EGzDgCps48Rn74ouvLZHIt+uvH2ynnNLZRo68zRYseE++qWS/D4iqdFwEoJTsiwCqHjYFJfYENTZVZEcP4LKPzRNOONFefXWqJRL5NmfOoh0+gEsemS+/PKX0EVv2AXzGGd1K/5qDBw+zm2661WbOfMs6dfr1D+Dzz79wqwfwVVddY3ffXfRp75dffmOTJ0+3q666xjp16mz/+c86SyTy7d///sgeeOAR69Choz3xxHPSTSX7fUBUpePQhhIXAaixKSixJ6ixqSJFD+B2W33bto/Ngw46qPSPDQ8cONSOPPKoH/24X/sAXrFitR188CG2cuUaSySK/mj0L3kAjx49pvSPOn/+eZ516NDRZs2ab48//rS9/vqs0h/Xvv3xtnLlGhs+/ObSh/Ajjzxu1103SLqpZL8PiKp0HNpQ4iIANTYFJfYENTZVpDyfAI8ePcZOOqmDnXXWOfbaa2/YSSd1sOuuG2g33XRr6Y9r3br1dh/AvXr1+ckHcCKRb7fffredfHIHO+ecc23IkOF25pln/ejXOWLELfbHPx5jvXr1sZ49e1uvXn3sxRdfs9Wrc23AgCuse/eedvrp2XbnnfdYIlH0SfUZZ3Sznj17W48evWz06DGWSOTbDTcMsVNP7WJ9+vS1vn3PtvfeWybdVLLfB0RVOg5tKHERgBqbghJ7ghqbqjgeffQJW7FitSUS+Xbrrbfb1Vdfm/Rf06/BA5gocBzaUOIiADU2BSX2BDU2VXGMHTvOTjmls/Xo0cv69j279I9bVzY8gIkCx6ENJS4CUGNTUGJPUGNTUOMBTBQ4Dm0ocRGAGpuCEnuCGpuCGg9gosBxaEOJiwDU2BSU2BPU2BTUeAATBY5DG0pcBKDGpqDEnqDGpqDGA5gocBzaUOIiADU2BSX2BDU2BTUewESB49CGEhcBqLEpKLEnqLEpqPEAJgochzaUuAhAjU1BiT1BrbpvqkePXvb00y9s9W1fffWtHX30H2zevHd2+J+7/PK/2v33P2zLln1iF1xw0XZ/TLt27WzJkuU/+fNPmPCUffXVt5ZI5FuvXn1szZq1v/m/U8+eve2VV6Ym7e8pD2CiwFXnQxt61f0iAD02BSX2BLXqvqnx4yfaOeect9W3vfzyFOva9Yyf/M+VPIB/6se0a3fkzz6A27c/wb744mvpfycewERVvOp8aEOvul8EoMemoMSeoFbdN7V6da4ddtjh9uGHq0q/rX//P9uDD463RCLfnn/+VTvjjG7Wu3dfy87uZnPnvm2JxP8ewEuWfGjt2rWzRCLf3n03x7p2PcN69Ohl1103sPQBvHp1rvXvf4n17n2mde16hl1//WBLJPJt+PCbrVWrVtajRy9bvvwza9WqlX3xxde2enXCLrvsL9a9e0/r1q2H3XLLaEsk8m3KlBnWt28/u/LKq6xbtx7Wpcvp9uGHn/7ov9OOHsDvvptjffr0tV69+lh2dnd78cVJpX/drl3PsN69z7Ts7G42bdos++qrb+0vf/mbZWd3s27dethf//p3+89/1pV7U8l+HxBV6arzoQ296n4RgB6bghJ7glqyN7WhcxfbkpERxIbOXcr1a7jqqmts9Oi7LJHIt08+WWOHHXa4ffrpfyyRyLdHHnnc3ntvmSUSRZ8WX3jhxZZIbPsAPtISiXy79NIBds89D1gikW/Tp8+x1q1b25Ily+2995bZww9PKP352rc/3ubPX2yJRL61atWq9I89t27d2r744msbNepO+/vfr7ZEIt++/PIb69Sps02fPsemTJlhbdu2taVLV1oikW8XX3xp6c9X1o4ewGeffY5NnPisJRL5lpPzsbVr185Wr07YeeddYBMmPGWJRL4tWbLcnnzyOZszZ5G1b39C6X/2kUcet+XLPyv3ppL9PiCq0nERgFKyLwKoetgUlNgT1JK9qYrwAH7zzQXWoUNHSyTybezYh+yKK64s/b5XX51qvXv3tR49elnHjp2sV68+lkhs/wHcseMpNmfOotL/7IEHtin9BPiqq66x7Oxu1rNnbzvooINs6tR/WSKRX/qpbyLxvwfweeddsNU/l3z11dfaXXeNtSlTZliXLl1Lv33w4GE2cuRtP/rvs6MH8EEHHWwrVqwu/bpjx1Ns7ty37YknnrNjjz3OrrtukE2ePN0SiXz7/PM86969p5199jl2zz0PbPeT5p/aVLLfB0RVOi4CUEr2RQBVD5uCEnuCGpsqcuqpXWzWrHmWnd3Npk+fY4lEvq1Zs9batm1rixYtsUQi35599qWffAB36NDR3nrrf//irAMOOMCWLFlut956h1166YDSb+/UqfNWD+BtPwE+//wLt3oAX3XVNXb33UUP4DPO6Fb67YMHD7Obbrr1R/9ddvQAPuSQQ7d6AJ98cofSX+8nn6yxp59+wfr1+5P94x/XlP6YOXMW2S23jLZjjjnW3n03p9ybSvb7gKhKx6ENJS4CUGNTUGJPUGNTRcaOHWd//vMA69jxlNJvW7Hic2vTpq2tWbPW1qxZa5dccpllZxc9QLf3AO7f/xK7775xlkjk29Sp/yr9I9D//Of1duutt1sikW/Tp79pBx10sL36atEDtXXr1vbZZwlLJP73afDo0WPsb3/7hyUSRZ/EdujQ0WbNmv+bH8DnnHOuPfZY0R91Xrx4qR111NH2+ed5Nnz4zaV/vHnJkuXWufNpNnv2AnvoocdK/7OXX/5Xe+65V8q9qWS/D4iqdBzaUOIiADU2BSX2BDU2VeSTT9bYgQceaGPG3LfVt//zn9fZKad0tnPOOdemTZtpRx/9B7vzznu2+wBeuHCJnXZaVzvzzLPsmmtusGOOOc6WLFlub731jp18cgfr3ftMGz78Zhs58jY78cSTbMWK1XbOOedahw4dbeHCJaWfAK9enWsDBlxh3bv3tNNPz7Y777zHEon8X/QAPuWUztarVx/r2bO39erVx3JyVtrixUvtzDPPsp49e1t2djebNOl1SyTy7bHHnrLOnU+z3r3PtB49etnLL0+xlSvX2Hnn/Z9lZ3ez3r3PtEsvvbzc/7ZqHsBEgePQhhIXAaixKSixJ6ixKajxACYKHIc2lLgIQI1NQYk9QY1NQY0HMFHgOLShxEUAamwKSuwJamwKajyAiQLHoQ0lLgJQY1NQYk9QY1NQ4wFMFDgObShxEYAam4ISe4Iam4IaD2CiwHFoQ4mLANTYFJTYE9TYFNR4ABMFjkMbSlwEoMamoMSeoMamoMYDmChwHNpQ4iIANTYFJfYENTYFNR7ARIHj0IYSFwGosSkosSeosSmo8QAmChyHNpS4CECNTUGJPUGNTUGNBzBR4Di0ocRFAGpsCkrsCWpsCmo8gIkCx6ENJS4CUGNTUGJPUGNTUOMBTBQ4Dm0ocRGAGpuCEnuCGpuCGg9gosBxaEOJiwDU2BSU2BPU2BTUeAATBY5DG0pcBKDGpqDEnqDGpqDGA5gocBzaUOIiADU2BSX2BDU2BTUewESB49CGEhcBqLEpKLEnqLEpqPEAJgochzaUuAhAjU1BiT1BjU1BjQcwUeA4tKHERQBqbApK7AlqbApqPICJAsehDSUuAlBjU1BiT1BjU1DjAUwUOA5tKHERgBqbghJ7ghqbghoPYKLAcWhDiYsA1NgUlNgT1NgU1HgAEwWOQxtKXASgxqagxJ6gxqagxgOYKHAc2lDiIgA1NgUl9gQ1NgU1HsBEgePQhhIXAaixKSixJ6ixKajxACYKHIc2lLgIQI1NQYk9QY1NQY0HMFHgOLShxEUAamwKSuwJamwKajyAiQLHoQ0lLgJQY1NQYk9QY1NQ4wFMFDgObShxEYAam4ISe4Iam4IaD2CiwHFoQ4mLANTYFJTYE9TYFNR4ABMFjkMbSlwEoMamoMSeoMamoMYDmChwHNpQ4iIANTYFJfYENTYFNR7ARIHj0IYSFwGosSkosSeosSmo8QAmChyHNpS4CECNTUGJPUGNTUGNBzBR4Di0ocRFAGpsCkrsCWpsCmo8gKna5b2/2jk333s/xzk3ajvf36/4+2d778dHUZRe9vudc9nOuS3l/fk4tKHERQBqbApK7AlqbApqPICpWpWVlXWoc25xFEUZURTVcM5NjcViXUu+33vf3Dn3WWZmZsMoiiLn3IPxePzyku+PxWK7O+fmOec+L+/PyaENJS4CUGNTUGJPUGNTUOMBTNWqeDx+g3NucJmvz/fe31/ytfe+X/GnviVfn+Ccm1bm6xecc3/03q8s78/JoQ0lLgJQY1NQYk9QY1NQ4wFM1Srn3H3xePziMl938t6/VvJ18R+PHlnydTwe39d7v7T4/32e9/624h/3SXl/Tg5tKHERgBqbghJ7ghqbghoPYKpWbecB3Nl7P6nk620fwLFYbD/nXE7Lli339t4vzMzMrFX8437RAzgvr+h/bMBvlZdXdBFgU1BhU1BiT1BjU1DLy+MBTNUo59y1zrmhJV/H4/H+zrl7y3zd1zk3oeTrWCzW0Tk32Tl3mXPufefcXOfcW865Dc65uY0bN673cz+nERERERFRhUn/yiCqoDnn2jjn3i/+JDfNOTczFot1KPn+li1bNvXer2revHmj4h8/wTl30bZ/HT4BRrLwO+FQY1NQYk9QY1NQ4xNgqnY55wY45+Y75+Z67wcVf9vEeDzeIoqiKBaL9fTeL/Dezy7+dDhl278G/xIsJEtuLv8sFLTYFJTYE9TYFNRyc3kAEwWNQxtKXASgxqagxJ6gxqagxgOYKHAc2lDiIgA1NgUl9gQ1NgU1HsBEgePQhhIXAaixKSixJ6ixKajxACYKHIc2lLgIQI1NQYk9QY1NQY0HMFHgOLShxEUAamwKSuwJamwKajyAiQLHoQ0lLgJQY1NQYk9QY1NQ4wFMFDgObShxEYAam4ISe4Iam4IaD2CiwHFoQ4mLANTYFJTYE9TYFNR4ABMFjkMbSlwEoMamoMSeoMamoMYDmChwHNpQ4iIANTYFJfYENTYFNR7ARIHj0IYSFwGosSkosSeosSmo8QAmChyHNpS4CECNTUGJPUGNTUGNBzBR4Di0ocRFAGpsCkrsCWpsCmo8gIkCx6ENJS4CUGNTUGJPUGNTUOMBTBQ4Dm0ocRGAGpuCEnuCGpuCGg9gosBxaEOJiwDU2BSU2BPU2BTUeAATBY5DG0pcBKDGpqDEnqDGpqDGA5gocBzaUOIiADU2BSX2BDU2BTUewESB49CGEhcBqLEpKLEnqLEpqPEAJgochzaUuAhAjU1BiT1BjU1BjQcwUeA4tKHERQBqbApK7AlqbApqPICJAsehDSUuAlBjU1BiT1BjU1DjAUwUOA5tKHERgBqbghJ7ghqbghoPYKLAcWhDiYsA1NgUlNgT1NgU1HgAEwWOQxtKXASgxqagxJ6gxqagxgOYKHAc2lDiIgA1NgUl9gQ1NgU1HsBEgePQhhIXAaixKSixJ6ixKajxACYKHIc2lLgIQI1NQYk9QY1NQY0HMFHgOLShxEUAamwKSuwJamwKajyAiQLHoQ0lLgJQY1NQYk9QY1NQ4wFMFDgObShxEYAam4ISe4Iam4IaD2CiwHFoQ4mLANTYFJTYE9TYFNR4ABMFjkMbSlwEoMamoMSeoMamoMYDmChwHNpQ4iIANTYFJfYENTYFNR7ARIHj0IYSFwGosSkosSeosSmo8QAmChyHNpS4CECNTUGJPUGNTUGNBzBR4Di0ocRFAGpsCkrsCWpsCmo8gIkCx6ENJS4CUGNTUGJPUGNTUOMBTBQ4Dm0ocRGAGpuCEnuCGpuCGg9gosBxaEOJiwDU2BSU2BPU2BTUeAATBY5DG0pcBKDGpqDEnqDGpqDGA5gocBzaUOIiADU2BSX2BDU2BTUewESB49CGEhcBqLEpKLEnqLEpqPEAJgochzaUuAhAjU1BiT1BjU1BjQcwUeA4tKHERQBqbApK7AlqbApqPICJAsehDSUuAlBjU1BiT1BjU1DjAUwUOA5tKHERgBqbghJ7ghqbghoPYKLAcWhDiYsA1NgUlNgT1NgU1HgAEwWOQxtKXASgxqagxJ6gxqagxgOYKHAc2lDiIgA1NgUl9gQ1NgU1HsBEgePQhhIXAaixKSixJ6ixKajxACYKHIc2lLgIQI1NQYk9QY1NQY0HMFHgOLShxEUAamwKSuwJamwKajyAiQLHoQ0lLgJQY1NQYk9QY1NQ4wFMFDgObShxEYAam4ISe4Iam4IaD2CiwHFoQ4mLANTYFJTYE9TYFNR4ABMFjkMbSlwEoMamoMSeoMamoMYDmChwHNpQ4iIANTYFJfYENTYFNR7ARIHj0IYSFwGosSkosSeosSmo8QAmChyHNpS4CECNTUGJPUGNTUGNBzBR4Di0ocRFAGpsCkrsCWpsCmo8gIkCx6ENJS4CUGNTUGJPUGNTUOMBTBQ4Dm0ocRGAGpuCEnuCGpuCGg9gosBxaEOJiwDU2BSU2BPU2BTUeAATBY5DG0pcBKDGpqDEnqDGpqDGA5gocBzaUOIiADU2BSX2BDU2BTUewESB49CGEhcBqLEpKLEnqLEpqPEApmqX9/5q59x87/0c59yo7Xx/v+Lvn+29Hx9FUXrxt5/tnJvnvZ/unJsRj8f3Lc/Px6ENJS4CUGNTUGJPUGNTUOMBTNWqrKysQ51zi6MoyoiiqIZzbmosFuta8v3e++bOuc8yMzMbRlEUOecejMfjl++55551nHPzmzZtukvxt//JOfdyeX5ODm0ocRGAGpuCEnuCGpuCGg9gqlbF4/EbnHODy3x9vvf+/pKvvff9ij/1Lfn6BOfctG3/Ot77gd77MeX5OTm0ocRFAGpsCkrsCWpsCmo8gKla5Zy7Lx6PX1zm607e+9dKvi7+49EjS76Ox+P7eu+Xlvnxvb33y5xz/2rSpEnd8vycHNpQ4iIANTYFJfYENTYFNR7AVK3azgO4s/d+UsnX2z6AY7HYfs65nO38dS5zzr1Unp/TzCwvr+h/bMBvlZdXdBFgU1BhU1BiT1BjU1DLy+MBTNUo59y1zrmhJV/H4/H+zrl7y3zd1zk3oeTrWCzW0Tk3ec8992yclZV1fMm3t2jRYjfv/Xfl+TmNiIiIiIgqTKq3BVGFzznXxjn3fmZmZq0oitKcczNjsViHku9v2bJlU+/9qubNmzcq/vETnHMX7rXXXns6576KxWK7R1EUxePx05xz88rzc5rxu5bQ4XfCocamoMSeoMamoMYnwFTtcs4NcM7Nd87N9d4PKv62ifF4vEUURVEsFuvpvV/gvZ9d/OlwShRFUTwe7178n5tR/HDerzw/nxn/3Ap0cnP5Z6GgxaagxJ6gxqaglpvLA5goaBzaUOIiADU2BSX2BDU2BTUewESB49CGEhcBqLEpKLEnqLEpqPEAJgochzaUuAhAjU1BiT1BjU1BjQcwUeA4tKHERQBqbApK7AlqbApqPICJAsehDSUuAlBjU1BiT1BjU1DjAUwUOA5tKHERgBqbghJ7ghqbghoPYKLAcWhDiYsA1NgUlNgT1NgU1HgAEwWOQxtKXASgxqagxJ6gxqagxgOYKHAc2lDiIgA1NgUl9gQ1NgU1HsBEgePQhhIXAaixKSixJ6ixKajxACYKHIc2lLgIQI1NQYk9QY1NQY0HMFHgOLShxEUAamwKSuwJamwKajyAiQLHoQ0lLgJQY1NQYk9QY1NQ4wFMFDgObShxEYAam4ISe4Iam4IaD2CiwHFoQ4mLANTYFJTYE9TYFNR4ABMFjkMbSlwEoMamoMSeoMamoMYDmChwHNpQ4iIANTYFJfYENTYFNR7ARIHj0IYSFwGosSkosSeosSmo8QAmChyHNpS4CECNTUGJPUGNTUGNBzBR4Di0ocRFAGpsCkrsCWpsCmo8gIkCx6ENJS4CUGNTUGJPUGNTUOMBTBQ4Dm0ocRGAGpuCEnuCGpuCGg9gosBxaEOJiwDU2BSU2BPU2BTUeAATBY5DG0pcBKDGpqDEnqDGpqDGA5gocBzaUOIiADU2BSX2BDU2BTUewESB49CGEhcBqLEpKLEnqLEpqPEAJgochzaUuAhAjU1BiT1BjU1BjQcwUeA4tKHERQBqbApK7AlqbApqPICJAsehDSUuAlBjU1BiT1BjU1DjAUwUOA5tKHERgBqbghJ7ghqbghoPYKLAcWhDiYsA1NgUlNgT1NgU1HgAEwWOQxtKXASgxqagxJ6gxqagxgOYKHAc2lDiIgA1NgUl9gQ1NgU1HsBEgePQhhIXAaixKSixJ6ixKajxACYKHIc2lLgIQI1NQYk9QY1NQY0HMFHgOLShxEUAamwKSuwJamwKajyAiQLHoQ0lLgJQY1NQYk9QY1NQ4wFMFDgObShxEYAam4ISe4Iam4IaD2CiwHFoQ4mLANTYFJTYE9TYFNR4ABMFjkMbSlwEoMamoMSeoMamoMYDmChwHNpQ4iIANTYFJfYENTYFNR7ARIHj0IYSFwGosSkosSeosSmo8QAmChyHNpS4CECNTUGJPUGNTUGNBzBR4Di0ocRFAGpsCkrsCWpsCmo8gIkCx6ENJS4CUGNTUGJPUGNTUOMBTBQ4Dm0ocRGAGpuCEnuCGpuCGg9gosBxaEOJiwDU2BSU2BPU2BTUeAATBY5DGyOoSQIAACAASURBVEpcBKDGpqDEnqDGpqDGA5gocBzaUOIiADU2BSX2BDU2BTUewESB49CGEhcBqLEpKLEnqLEpqPEAJgochzaUuAhAjU1BiT1BjU1BjQcwUeA4tKHERQBqbApK7AlqbApqPICJAsehDSUuAlBjU1BiT1BjU1DjAUwUOA5tKHERgBqbghJ7ghqbghoPYKLAcWhDiYsA1NgUlNgT1NgU1HgAEwWOQxtKXASgxqagxJ6gxqagxgOYKHAc2lDiIgA1NgUl9gQ1NgU1HsBEgePQhhIXAaixKSixJ6ixKajxACYK3M4+tLPH97BoYGTRwCjpBwz0uAhAjU1BiT1BjU1BjQcwUeB29qHd7KZmpQ/gkdNGJf2QgRYXAaixKSixJ6ixKajxACYKXDIO7ZIHMJ8CVz1cBKDGpqDEnqDGpqDGA5gocDyAocRFAGpsCkrsCWpsCmo8gIkCl4xDu+w/B7z78N2TftBAh4sA1NgUlNgT1NgU1HgAEwUuWYc2nwJXTVwEoMamoMSeoMamoMYDmChwFeEBnJOzMumHDTS4CECNTUGJPUGNTUGNBzBR4JJ1aOfkrORT4CqIiwDU2BSU2BPU2BTUeABTtct7f7Vzbr73fo5zbtR2vr9f8ffP9t6Pj6IoPYqiKBaLdXTOzXPOzfDeT2/ZsuXe5fn5knlo8wCuergIQI1NQYk9QY1NQY0HMFWrsrKyDnXOLY6iKCOKohrOuamxWKxryfd775s75z7LzMxsGEVR5Jx7MB6PXx6Px2t673O9982Lv/3S4sfxz5bMQ7vs/03gTg+dlvQDB78dFwGosSkosSeosSmo8QCmalU8Hr/BOTe4zNfne+/vL/nae9+v7MPWe3+Cc25aFEVR48aN65V8eywW6+mce7U8P2eyD20+Ba5auAhAjU1BiT1BjU1BjQcwVaucc/fF4/GLy3zdyXv/WsnXxX88emTJ1/F4fF/v/dKyf43MzMxa3vsF3vvTy/NzJvvQ5gFctXARgBqbghJ7ghqbghoPYKpWbecB3Nl7P6nk620fwLFYbD/nXE7J15mZmQ2dc7O891eX9+c0M8vLK/ofWzLcNXNs6QM4bWBa0n4d0MjLK7oIJHNTqFrYFJTYE9TYFNTy8ngAUzXKOXetc25oydfxeLy/c+7eMl/3dc5NKPm6+F98NTmKih6/3vtF8Xj8/F/yc1oFqOynwERERERE1TnFu4KoUuSca+Ocez8zM7NWFEVpzrmZsVisQ8n3t2zZsqn3flXz5s0bFf/4Cc65C6Moirz3zzvn/vRLf06z5P+uZerA1NIH8F0zxyb9d97w6/E74VBjU1BiT1BjU1DjE2CqdjnnBjjn5jvn5nrvBxV/28R4PN4iior+BVfF/4zv7OJPh1NisVjce1/gvZ/unJtR/H8K6cny/HxmFeOfW+GfBa4acnP5Z6GgxaagxJ6gxqaglpvLA5goaBXl0OYBXDVwEYAam4ISe4Iam4IaD2CiwFWUQ/vYsceVPoBb3NQi6b8e/DpcBKDGpqDEnqDGpqDGA5gocBXp0OZT4MqPiwDU2BSU2BPU2BTUeAATBa4iHdplH8A5OSuT/uvBL8dFAGpsCkrsCWpsCmo8gIkCV5EO7ZyclXwKXMlxEYAam4ISe4Iam4IaD2CiwFW0Q5sHcOXGRQBqbApK7AlqbApqPICJAlfRDu3dhjUqfQD3efzspP968MtwEYAam4ISe4Iam4IaD2CiwFXEQ5tPgSsvLgJQY1NQYk9QY1NQ4wFMFLiKeGjzAK68uAhAjU1BiT1BjU1BjQcwUeAq4qF9/aQhpQ/gWoNrJf3Xg/LjIgA1NgUl9gQ1NgU1HsBEgauohzafAldOXASgxqagxJ6gxqagxgOYKHAV9dCuMTCl9AH83MJJSf/1oHy4CECNTUGJPUGNTUGNBzBR4Cryoc2nwJUPFwGosSkosSeosSmo8QAmClxFPrR5AFc+XASgxqagxJ6gxqagxgOYKHAV+dBuM+bg0gdw69H7Jv3Xg5/HRQBqbApK7AlqbApqPICJAlfRD20+Ba5cuAhAjU1BiT1BjU1BjQcwUeAq+qFd9gGck7My6b8e/DQuAlBjU1BiT1BjU1DjAUwUuIp+aD+3cFLpA7jGwBpJ//Xgp3ERgBqbghJ7ghqbghoPYKLAVYZDmz8GXXlwEYAam4ISe4Iam4IaD2CiwFWGQ3uXIXVLH8B/e/GqpP96sGNcBKDGpqDEnqDGpqDGA5gocJXl0OZT4MqBiwDU2BSU2BPU2BTUeAATBa6yHNo8gCsHLgJQY1NQYk9QY1NQ4wFMFLjKcmhf8uxlpQ/g+jfWT/qvB9vHRQBqbApK7AlqbApqPICJAleZDm0+Ba74uAhAjU1BiT1BjU1BjQcwUeAq06Fd9gE8K2dB0n89+DEuAlBjU1BiT1BjU1DjAUwUuMp0aOfkrORT4AqOiwDU2BSU2BPU2BTUeAATBa6yHdo8gCs2LgJQY1NQYk9QY1NQ4wFMFLjKdmi721qVPoCPuueopP96sDUuAlBjU1BiT1BjU1DjAUwUuMp4aPMpcMXFRQBqbApK7AlqbApqPICJAlcZD20ewBUXFwGosSkosSeosSmo8QAmClxlPLQfnfVk6QM4dWBq0n89+B8uAlBjU1BiT1BjU1DjAUwUuMp6aPMpcMXERQBqbApK7AlqbApqPICJAldZD+2MQRmlD+CR00Yl/deDIlwEoMamoMSeoMamoMYDmChwlfnQ5lPgioeLANTYFJTYE9TYFNR4ABMFrjIf2jyAKx4uAlBjU1BiT1BjU1DjAUwUuMp8aGeP71H6AG46Yo+k/3rARQB6bApK7AlqbApqPICJAlfZD20+Ba5YuAhAjU1BiT1BjU1BjQcwUeAq+6Fd9gGck7My6b+e6o6LANTYFJTYE9TYFNR4ABMFrrIf2jk5K/kUuALhIgA1NgUl9gQ1NgU1HsBEgasKhzYP4IqDiwDU2BSU2BPU2BTUeAATBa4qHNrNbmpW+gDu9NBpSf/1VGdcBKDGpqDEnqDGpqDGA5gocFXl0OZT4IqBiwDU2BSU2BPU2BTUeAATBa6qHNo8gCsGLgJQY1NQYk9QY1NQ4wFMFLiqcmiPnDaq9AGcPigj6b+e6oqLANTYFJTYE9TYFNR4ABMFriod2nwKnHxcBKDGpqDEnqDGpqDGA5gocFXp0E4dmFr6AH501pNJ//VUR1wEoMamoMSeoMamoMYDmChwVe3Q5lPg5OIiADU2BSX2BDU2BTUewESBq2qHNg/g5OIiADU2BSX2BDU2BTUewESBq2qH9rFjjyt9AGfdkpX0X091w0UAamwKSuwJamwKajyAiQJXFQ9tPgVOHi4CUGNTUGJPUGNTUOMBTBS4qnhol30A5+SsTPqvpzrhIgA1NgUl9gQ1NgU1HsBEgauKh/asnAV8CpwkXASgxqagxJ6gxqagxgOYKHBV9dDmAZwcXASgxqagxJ6gxqagxgOYKHBV9dBucGPD0gfwuU9ekPRfT3XBRQBqbApK7AlqbApqPICJAleVD20+Bd75uAhAjU1BiT1BjU1BjQcwUeCq8qHNA3jn4yIANTYFJfYENTYFNR7ARIGryof23168qvQBXGtwraT/eqoDLgJQY1NQYk9QY1NQ4wFMFLiqfmjzKfDOxUUAamwKSuwJamwKajyAiQKXjEO7MIqsIIossRP+b/TWGFij9AH83MJJST/UqjouAlBjU1BiT1BjU1DjAUwUuJ19aG+oW88sisyiyLZEkW2OIsvf/4CgPyefAu88XASgxqagxJ6gxqagxgOYKHA7/dDOWWmbix+/ZR/CWwJ+KswDeOfhIgA1NgUl9gQ1NgU1HsBEgUvaoT1rgRWWefxu+6nwd633lf1cbcYcXPoA3v/2sJ82V3dcBKDGpqDEnqDGpqDGA5gocBXh0P4+K2uHnwoXij4VLvspcFmNhzW2pUs/SfphV1VwEYAam4ISe4Iam4IaD2CiwFWoQztnZbBPhcv+y7B+zj6jdZ8+VzdcBKDGpqDEnqDGpqDGA5gocBX10P7OtQryqfAp404t90O4rFPGnZr0vyeVARcBqLEpKLEnqLEpqPEAJgpchT+0c1ZawU99Kuxa/eafY5/R+/6qR/GA5/+a/L8/FQwXAaixKSixJ6ixKajxACYKXGU6tL9rve9Pfyo8a4Hk51m69BNrPKzxL34QpwxMsXtnjUv636dkH9qVaVOo+NgUlNgT1NgU1HgAU7XLe3+1c26+936Oc27Udr6/X/H3z/bej4+iKL34u2o4567x3m/Kysry5f35KuWh/TOfCn+flSX/Od9cushqDa71ix/FGYMy7M2li5L/92wnHtqVclOosNgUlNgT1NgU1HgAU7UqKyvrUOfc4iiKMqKiB+3UWCzWteT7vffNnXOfZWZmNoyiKHLOPRiPxy8v/r7hzrkrvfefVPkHcBn5+x+wUz4V3p7H33zGUgem/qo/Pl1W6sBUazWqtb3y9utJ//upOLQr+6ZQsbApKLEnqLEpqPEApmpVPB6/wTk3uMzX53vv7y/52nvfr/hT35KvT3DOTYuiKGrcuHG94m+rVg/gUj/3qfDemTvl13HVy9f+5gfxT2l44672txevTv7f7584tKvMplAhsCkosSeosSmo8QCmapVz7r54PH5xma87ee9fK/m6+I9Hjyz5Oh6P7+u9X1r2r1FtH8BlrGtz8A4/Fd5crDCKbFNKiq3fs7klHn8m6K/nlbdft/itccmnxeWVPijd9rvjQBv5+qidfmhXxU0hedgUlNgT1NgU1HgAU7VqOw/gzt77SSVfb/sAjsVi+znncsr+NX7NAzgvr+h/bFXO0u1/KrytLTtQ8lAuiCL7oVEjy73tzqC/3g8/XGWnPNTJag+ps9MeyjuSNijdGg9vYic8cJJNfndGuf875OUVXQSq7Kaw07EpKLEnqLEpqOXl8QCmapRz7lrn3NCSr+PxeH/n3L1lvu7rnJtQ8nUsFuvonJtc9q/xax7A1aKjj97hA1iqQQOzG28M/l9nzNwx1nRkU6sxsEbSH8s7kjIwxWoPqW1NRjSxA+48wPo+3ddeyXkl+N8bIiIiosrcb31TEFWanHNtnHPvZ2Zm1oqiKM05NzMWi3Uo+f6WLVs29d6vat68eaPiHz/BOXdR2b8GnwD/yt9tOz3bNtasZYXR//6Y9PY+FS7vQ/inPlUu+8nypvR0W79HM8s9/yLL/XBVkP9uy5d/auc+8X+WeUum1Rxcs0I/mn/NIztjcE3b9cZdzY3yduz9x9ulz/3FXn57ctI3BQ0+XYESe4Iam4IanwBTtcs5N8A5N985N9d7P6j42ybG4/EWURRFsVisp/d+gfd+dvGnwylRFEXxePwR59wM59x659w87/30KIpq/NzPZ8Y/t/KLXHCJbahTxwqKH7G/9aFcnkfzTz6eW7SwxCWXW2LZqqD/vV97Z4Yd/8BJ1nh4E0sbmJb0h2+y1RhYw1IGplrGoAyrP7S+NR6xu/3ulkxrM6atnTSuo/3f0/3t3lnj7J0VOcnfbCWXm8s/Xwcd9gQ1NgW13FwewERB49AOZPBw+2HXXbd6KO/osfxbH84/93je+uFcwzbWrWvr/nicJeYtDnJol2dTU9+dZRc+fYkdMuYQ2+OmZlZ7SG1LHZhapT6dTraiR3qKpQ5MtfRB6VZzcE2rM2QXq3djA2s8orG1uHkvi93mrM2dbe24+9tb9wl97JLnLrdb37jDJi+ebh9//EXy/3f0CzYFlAd7ghqbghoPYKLAcWhXIMtWWeL8i2z9Hs1sU3p68MdzeR/Nm9LSbP3emZYY+fP/RumKdhH46KPVNm7Oo9bvifOs3d1HWuatWbbbsN2s9pA6ljYozVIGpiT9oYpfo0bpA7/okZ9m6YPSLX1whtUcXMtqD6ltdYfWs/o31rdGwxtZkxG7W/ORLWzvWzOt1eh9bP8729gR9x5p7R843rqOP93OfKKfDXj+CrvhtaF23+xx9vzbk2zBB0ts1aqvkr5haFW0MwqVH5uCGg9gosBxaFcRy1ZZ4qxz7IemTW1TWlq5H8+qR3PZB7NFkRXUqGEFqam2qWYt21i3nm3Yvamt960s/5jjLK/feZYY+5Alln+W/L9vO8mKFZ/bM4tesqtfud66jM+2I+4+wtyoVtb0pj2swY0NrPaQ2pY+KJ1PwSFXo/g3C4qklP6pgNRBaZY2KM3SB6dbxuAMqzO0ju0ytK7Vv7G+NRjWwBoO39UajWhkjUc0sd1vamp7jtzTWty8l2Xe1tJio2LmR7ey39+xn+1/Zxs7+O5D7fB729nRY/9o7cedaB0e7mSnje9iPSb0sbOePMcuevYSG/DCX+3vr15jQ6eMsFun324PzBlvTy54ziYvmW7zlr9rH6z42Favzg3+v0UeK1BjU1DjAUwUOA7taq7/pfZD06ZWkJIa5MH8W/+55/LaHG3zR71TU21jg4b2/aGHWWLco8n/+1zJrfj4c3t8/jN2yxu32xUv/sP6PvEn6zCuox1131F24Jg2FhsVt+Y372W7j2hqDW9saHWH1rU6Q+pYxuCMoof9oFRLGZhS+hBL9qMQ2FnK/gZEysAUSyv+jYe0Qemlf2oho1jNITWt5pCaVmtILas1pOhPMtQZWsfqDN3Fdhla1+reWNfq3VjP6hX/JkWD4Q2t4fBdbbfhu9luwxtZ4xGNrclNu1uTm5pa05F7WLORzWzPm5ubv72V7XfnAXbAmDbW5q6D7KC7D7FD7zncjri3nR059mj7w/3H2B/vP9aOe/B4O37cSXbywx3tlEdOtVPHd7Wuj2Vb9oQe1nPimdb7ib521pPn2J+ePs/Of/Yiu+i5P9ufn7/cLn/pb3blq/+0f7x6jV0zaaANnDLURrx+q90/52Eb99aj9tC8CTZ+3kR7bP5T9vjCZ+zxhc/YE4ues6cXvWDPvv2yPffuq/biu6/Zy+9NtUlLXrfJ70+3qf+eaW/8+037V84cm7V0nr25bKG99eHbNv+jxTb/o8W28KP37Z2PP7D3Vi6z91cutw8+/diWfbrKPl79hX2+Js/WfLXWvvrq251yPvIAhhoPYKLAcWjjF3nmJfv+wANtY61aO/yU+Zc+bHfG/3mq8v5x78IaNWxTzZq2ocVe9nW/8yzx0erk/z2v5irS5XLVqq9sUc6/7ZlFL9m9s8fZsKm32D9e/qf1f/YS6zuxn53+6Bl2/AMn2VH3HW0H3X2I7XfH/uZHt7KWt2ZZ85tb2B437WGNRzS2XYftavVvrF/6GwU1h9SyjME1LX1QRumDKH1wuqUNSrPUQWmWOrDkNxBStnpQJftxB1QdNbb50xLF/4jFoBKpllqq+DcxBhf9CYr0welWd1hda3V7a9vnjt/b7+/cz/Ybc4AdcFcba3NXW2t790F28D2H2CH3HGaH3XuEHXHfkdZu7FF21Ng/FP3mwwPH2TEPHFf8GxAn2okPnWwnP9zROjx8inV8pLN1Gn+anfpoVzvt0dOt62Nn2BkTuln2hB7W/fFedv/ch5N+LkKPBzBR4CrKxRJVw696rCxYYonb7rSve59l3x3eztbH4rah8e62cZddbFNGhhWkplpBjRpFD9Ro60d3WSEe2r/kk+fyKtyRGjWKpKRYYUpK0X/v1FQrSEu3gvR0K6hZ0zbVrl2kXj3btFsj29i4sW3cY0/b8Lvf2YaWMfthn9/bDwccaOsPO9y+P669fdehs63r3se+/dN5lveXv1vihqGWuGusJV6YZInZCy1RQf5FV/JNocpZsfpze2dFjs3+YIG9/O4Ue3Lh8zb2zYftjn/dbSPeGGXXvTbE/v7KP23Ai3+1/3u6v/V76lzrObG3nf5YtnV+pIud+FAHO/aB9nbU2KPtmHHH2DEPHGd/uP8YO/K+o+3we4+wg+8+1NredbAdMKaN7Xfn/rbPHb83f3trc6O9xUbHLPO2LPvdrZm21y17WYtbWlizm5vbHiOb2e4jm1qTm3a3xiOaWKPhjWzX4btZw+G7WsNhDa3+sAZW78b6Vm9oPas7tK7VG1bfdiv+/gbDG1iDku+/sZ7VvbGu7TK0rtUZuovVGVrHag+pXfpJcMknw0W/MVJsULqlDUov/UQ5dVBa6QMtZVBK6T8fnzIwxVIHFf2L8NK3+vGpZX586lY/ftuH4G/5TRd+syasfe7YN+n/24QeD2CiwHGxhFKFfaxMn2vfnna6bdh9dytIT//RIzrZn1Ank+qPoZfnNwcKa9SwwtRUK8jIsII6dWzTbo1tY8uYrT/8CPsuu6clbhxpiSXLK8em1FZ9ZYlZCywxeYYl5r5jiXeXWuLT/yT/11XFVJs9oVy++upbW/PVWvt8TZ6t+vwrW/H557b8s89s6acr7YNVH9uSlR/a4pVL7e0V79vCj5bYW8vfsbkfvm2zls63GTlzbfoHb9q0f8+0D/M+tHdXfmCLVrxvC1cssfkfLbZ5xT/2zWULbfayBTZz6TybkTPX3sh5017/YJZN+/dMm/L+DHvt/Tfs1SXT7JX3ptlL702xFxe/Zs+/+6o9+87L9sw7L9lTb79gTyx6ziYufMYeX/i0PbbgSRs//wl7eN7jtnjl0qT/PYQeD2CiwHERgFKVvFwOGW7r99nHNu1S1wpSUn7Rv5m7Mkr2g3x7j/KQD/WKIhm/SfFrbY4i21yjRpGUFNuclmabM2paYa3aVli3nhXutpsVNGtmm1pm2Yb929gPR//R/ntaF8u/6BL7dugISzz+zI9+o4MzCpUVm4IaD2CiwHFoQ4mLQBWxeFnRH5N+8FFLDLvZEldfZ2sv7G/fdz7NfjiwjW3ca2/btOuuVlCnjhWmpxf9se0aNX7VH02vyA/xiv7pe7J//cn+7/9b/r6V+8fXqLGNFNuS8j+bU1Ntc2pa0W8CpKXZ5vR025yeYZszMmxzzZq2uVatIrXrWGG9elbYpIkV7t7UCpo1s4IWe9mm32XappZZtsm1sk37/N427n+gbWx7sG087AjbcPQfbMOx7e2HkzrY+lO72PrsHvbf3n3t+3MvsO/7X2r5V/zd1l1zg60bOsK+GXWXfXPfQ/bNY09a3kuTLfHGm5aYv7jo32Ow/DNLLHrfEjPm2tqXJ9vaic/a2gfG27e332Prht9s+dcNtu+u/Kd9f9kV9v0FF9t/+51r63ueaeu7ZtsPp5xqG44/yTb88Vjb2O4o23jIYbbxwLa2ad/9bFOr1lYQc1aQ2dIKW+xlhXs2t8KmTa2wcRMrbNTYCmJx27TfAbbp4ENt45FH24b2J9gPHTvbD9ndbX3fc+y/F1xs311xpeVfP9jW3Xy7fXvPg/bN48/Y15Net6/nLLJEzkpLfPlN8s/Dn8H/vwc1HsBEgePQhhIXAcjMfccSN95k3/XsY9azp/23Y0db3/54++GII23DwYfYhv3b2MZW+9jGmLONe2fapuYtbFPTZrapye62qVEjK2jY0Arq17eCuvWsoE4dK6hd2wpr1bLCmjWtMD2j6OGelmaFqWlWmJJa+s9eF6aklH66WZiaWvRj0tKtMCOj6D9bp44V1K1b9NfedTcr2L1p0c+dmWkbfSvbeEAb++HQI2z9se3tv6d2se979bH8/pfY2msHWuLWO4o+/Zy1oOiPPCv+Pn36n6I/Lj33HUtM+ZclnnnJEhOetsTYhyzvtjG2dugI+/aGIbbuyn/ad3/+i3130WX23Z/Ot+/79LX/Zne3/3Y5w9af3NHWtz/BNhx8qG1s1doK9vpd0SOmQQMr3GWXoodcenrRY6/M35+d9Qk4qref/M2JlBTbkpJqW1LTbEt6um2pVcsKGzUufoQ3ss277Wabd93VNjdsaJsbNLTN9RvY5nr1bXO9era5bl3bvMsutrlOHdtcu45tqV3bttSqZVtq1rItNWvalowM25KeUfTXTUsrkppaJCX1f78RUqOGWVqabS7+zY3CPZoV/WZAi72s8Hd7W+HvMq0ws6UVZMWsIO6swLeyglatrWCf31vB7/cr+k2C/Q+0TQe2tU1tD7JNBx9imw45zDYderhtOrxd0W88HPUH23j0H23jH461jcccZxuPO942HH+i5d9ye/LPasjxACYKHI8VKPEAhhqbqiZW51rig48tMXuBJSZPt8STz1veQxPs2zvutnXDbrJ11w2xdX/9h33X/8/23bkX2Pd9zrTvu/W09Z272PoTO9j6Y9vbD0cdbRsOOdw2tD3INu6/v23cZ1/b5HzRJ6y/29sKmrewgmbNzJo3t4K9Sr7e0wqa7mEFjXe3gsaNrXC3RlbYcFfb3KDMQ2mXuqWPpM21atnmmrWKflMgI6Po09709P99ApyaaptTU7f6lHirT49TU7fz7cUi7W8q/CZlf10lv96Sx19a8WMzI8O2lHzKXbtO0WOybj0rrN/AChs2tMJme1rhHntYYaPGtrnhrra5fv2iH1OrdtEDMz296OFa8pj8id9USfYjvKLatP+Byf/fLuR4ABMFjosllHisQI1NQYk9VVJffmOJDz62r99caF9Pet2+efwZ+/aeB2zdzaMt//rB9t0VV9p/L7jY/nvhxfbd4GGWP2ykrRtxq627ebStu+0OW3f7Xbbuzntt3V1jbd29D9q39z9s34571L59ZKJ989hT9s3EZ+2bp16wtc++bGtfmGRrX5lqa197w9ZOnWlfT3/T8v41z/LeXGh5b71jeQuXWN67H1jekg8t8cHHlrt8ldn331vup19ZYuUay135heWuWG25yz+13GWfWG7OSsv94GPLff8jy1vyoeUtXmp573xgeW//u+ivNX+xfT3vHfv6rbft6zmL7OvZC+zrmfPs6xlz7evpc2ztG7Nt7bSZtnbKDFs7ebqtnfS6rX1lmq19aYrlruD/VF9VxAOYKHBcBKDE5RJqbApK7AlqbApqPICJAsehDSUuAlBjU1BiT1BjU1DjAUwUOA5tKHERgBqbTDPTawAACntJREFUghJ7ghqbghoPYKLAcWhDiYsA1NgUlNgT1NgU1HgAEwWOQxtKXASgxqagxJ6gxqagxgOYKHAc2lDiIgA1NgUl9gQ1NgU1HsBEgePQhhIXAaixKSixJ6ixKajxACYKHIc2lLgIQI1NQYk9QY1NQY0HMFHgOLShxEUAamwKSuwJamwKajyAiQLHoQ0lLgJQY1NQYk9QY1NQ4wFMFDgObShxEYAam4ISe4Iam4IaD2CiwHFoQ4mLANTYFJTYE9TYFNR4ABMFjkMbSlwEoMamoMSeoMamoMYDmChwHNpQ4iIANTYFJfYENTYFNR7ARIHj0IYSFwGosSkosSeosSmo8QAmChyHNpS4CECNTUGJPUGNTUGNBzBR4Di0ocRFAGpsCkrsCWpsCmo8gIkCx6ENJS4CUGNTUGJPUGNTUOMBTBQ4Dm0ocRGAGpuCEnuCGpuCGg9gosBxaEOJiwDU2BSU2BPU2BTUeAATBY5DG0pcBKDGpqDEnqDGpqDGA5gocBzaUOIiADU2BSX2BDU2BTUewESB49CGEhcBqLEpKLEnqLEpqPEAJgochzaUuAhAjU1BiT1BjU1BjQcwUeA4tKHERQBqbApK7AlqbApqPICJAsehDSUuAlBjU1BiT1BjU1DjAUwUOA5tKHERgBqbghJ7ghqbghoPYKLAcWhDiYsA1NgUlNgT1NgU1HgAEwWOQxtKXASgxqagxJ6gxqagxgOYKHAc2lDiIgA1NgUl9gQ1NgU1HsBEgePQhhIXAaixKSixJ6ixKajxACYKHIc2lLgIQI1NQYk9QY1NQY0HMFHgOLShxEUAamwKSuwJamwKajyAiQLHoQ0lLgJQY1NQYk9QY1NQ4wFMFDgObShxEYAam4ISe4Iam4IaD2CiwHFoQ4mLANTYFJTYE9TYFNR4ABMFjkMbSlwEoMamoMSeoMamoMYDmChwHNpQ4iIANTYFJfYENTYFNR7ARIHj0IYSFwGosSkosSeosSmo8QAmChyHNpS4CECNTUGJPUGNTUGNBzBR4Di0ocRFAGpsCkrsCWpsCmo8gIkCx6ENJS4CUGNTUGJPUGNTUOMBTBQ4Dm0ocRGAGpuCEnuCGpuCGg9gosBxaEOJiwDU2BSU2BPU2BTUeAATBY5DG0pcBKDGpqDEnqDGpqDGA5gocBzaUOIiADU2BSX2BDU2BTUewESB49CGEhcBqLEpKLEnqLEpqPEAJgochzaUuAhAjU1BiT1BjU1BjQcwUeA4tKHERQBqbApK7AlqbApqPICJAsehDSUuAlBjU1BiT1BjU1DjAUwUOA5tKHERgBqbghJ7ghqbghoPYKLAcWhDiYsA1NgUlNgT1NgU1HgAEwWOQxtKXASgxqagxJ6gxqagxgOYKHAc2lDiIgA1NgUl9gQ1NgU1HsBU7fLeX+2cm++9n+OcG7Wd7+9X/P2zvffjoyhKj6IoisViHZ1z85xzM51zL2VlZTUoz8/HoQ0lLgJQY1NQYk9QY1NQ4wFM1aqsrKxDnXOLoyjKiKKohnNuaiwW61ry/d775s65zzIzMxtGURQ55x6Mx+OXx+Pxmt77LzIzMzOLv/0659zt5fk5ObShxEUAamwKSuwJamwKajyAqVoVj8dvcM4NLvP1+d77+0u+9t73K/7Ut+TrE7z3r8fj8WOcc7NKvj0Wi8WdcyvK83NyaEOJiwDU2BSU2BPU2BTUeABTtco5d188Hr+4zNedvPevlXxd/MejR5Z8HY/H9/XeL/Pe9/LeP1Xy7U2bNt3FOfdDeX5ODm0ocRGAGpuCEnuCGpuCGg9gqlZt5wHc2Xs/qeTrbR/AsVhsP+dczrYP4CZNmtR1zq0vz89pZpaXV/Q/NuC3yssrugiwKaiwKSixJ6ixKajl5fEApmqUc+5a59zQkq/j8Xh/59y9Zb7u65ybUPJ18b/4anIsFjvKez+nzF9nH+/9sp33KyciIiIiIiL6BTnn2jjn3s/MzKwVRVGac25mLBbrUPL9LVu2bOq9X9W8efNGxT9+gnPuwiiK0p1zn8ZisXgURVE8Hh/mvR+RnP8WREREREREROXIOTfAOTffOTfXez+o+NsmxuPxFlEURbFYrKf3foH3fnbxp8Mpxd9+nHPuLefcLO/9U02bNt0lif81iIiIiIiIiIiIiIiIiIiIiIiIiIiIiIiIiIiIiIiIiIiIiIiIiIiIiIiIiIiqad77q51z8733c5xzo5L966HKXTweP8Y59433frpzbob3fnpWVpZL9q+LKl9ZWVkNvPdPeO+/LPm24v+b5/OcczOd+//27h5ErioMA/CJJlGMImLC4IZsZu4974EoiBZpRAhiI2hhYyFoIyImTTpRUPxBxTZY+IeN2JhYqUSxUAwYURAEm/iDoKCNvdooFt6FIWxC3F29Xnme7sxp3uLj434zZ87NW13XXTlmRqZlvZpK8sdyv6q13jVmRqal1vpwa+2z4Y0dr5VStutTbNQ69bRDj4It1nXdwSRflFJ2llK2JXm/7/s7x87FdNVaD7XWPhg7B9PXWjvZWnugtfZTKaXUWi9prf04n8/npZSS5LEkx0YNyaScXVOllJLk9zEzMV193980PENdVEopSU7UWo/oU2zEOerpPj0Ktlit9fEkTy2t72+tvTJmJqbNAMxW2b179xWLxWL/0gB8KMmptf2+72uSb8dLyNScXVOl/PUL8JiZmLRts9ls19oiyQtJHtKn2KBz1ZMBGLZSkpdqrUeW1re31t4dMxPTNgzA3yU5MRzhea4M32bC37U8rCS5u7V2fG1vNpvtSvLreOmYovUG4CSvJjmV5PXFYjEbMx/TNAy6PwxHWPUpNmWtnrquW9WjYIutMwDf0Vo7OWYmpm3fvn0rtdZ7SinbSyk7k7xXaz08di6m6XwD8J49ey5P8st46ZiidQbgB/fu3Xt1KaW01p5YrjG4EIvF4vok33Rdd6s+xWYt11MpehRsuSSPJnl6bV1rPZzkxTEz8f9Saz1Sa3157BxM0/Kw0nXdza21j9f2khxorZ0ZLx1TdPYAvKzWem2Sr//tTExXrfXG1tpXXdcdLEWfYnPOrqd19vUo2KwkNyT5cj6fX1pK2Z7ko77vbxs7F9NVa7231vrMsNyW5E2/ALNR8/l8vnRj784k3/d9X0sppdb67HDEHi7Yck0ND5PvlL9OrJQkR1trb4wakMlYWVm5rLV2ptZ63dLHO/QpNmK9ekpyQI+Cf0CSo0k+Hf6v+eTYeZi22Wy2q7V2fHit1ula6/OllIvHzsW0rK6uXpXkwySnk/w2vALiWN/3tyT5JMmp1trx5QtD4HzOVVPDZZCfD3tv79+//5qxszINw8WhPy+/oqa19og+xUacq570KAAAAAAAAAAAAAAAAAAAAAAAAAAAAAAAAAAAAAAAAAAAAAAAAAAAAAAAAAAAAAAAAAAAAAAAAAAAAAAAAAAAAAAAAAAAAAAAAAAAAAAAAAAAAAAAAAAAAAAAAAAAAAAAAAAAAAAAAAAAAAAAAAAAAAAAAAAAAAAAAAAAAAAAAAAAAAAAAAAAAAAAAAAAAAAAAAAAAAAAAAAAAAAAAAAAAAAAAADgv+RP8bPxTGUjyVAAAAAASUVORK5CYII=\">"
      ],
      "text/plain": [
       "<IPython.core.display.HTML object>"
      ]
     },
     "metadata": {},
     "output_type": "display_data"
    },
    {
     "name": "stdout",
     "output_type": "stream",
     "text": [
      "Epoch 1/200\n",
      "1286144/1286325 [============================>.] - ETA: 0s - loss: 0.0216"
     ]
    },
    {
     "name": "stderr",
     "output_type": "stream",
     "text": [
      "2017-04-18 07:57:08,631 : INFO : Found lower val loss for epoch 1 => 0.01162\n"
     ]
    },
    {
     "name": "stdout",
     "output_type": "stream",
     "text": [
      "    \n",
      "1286325/1286325 [==============================] - 190s - loss: 0.0216 - val_loss: 0.0116\n",
      "Epoch 2/200\n",
      "1286144/1286325 [============================>.] - ETA: 0s - loss: 0.0112"
     ]
    },
    {
     "name": "stderr",
     "output_type": "stream",
     "text": [
      "2017-04-18 08:00:32,201 : INFO : Found lower val loss for epoch 2 => 0.01003\n"
     ]
    },
    {
     "name": "stdout",
     "output_type": "stream",
     "text": [
      "    \n",
      "1286325/1286325 [==============================] - 203s - loss: 0.0112 - val_loss: 0.0100\n",
      "Epoch 3/200\n",
      "1286144/1286325 [============================>.] - ETA: 0s - loss: 0.0103"
     ]
    },
    {
     "name": "stderr",
     "output_type": "stream",
     "text": [
      "2017-04-18 08:03:59,960 : INFO : Found lower val loss for epoch 3 => 0.00963\n"
     ]
    },
    {
     "name": "stdout",
     "output_type": "stream",
     "text": [
      "    \n",
      "1286325/1286325 [==============================] - 207s - loss: 0.0103 - val_loss: 0.0096\n",
      "Epoch 4/200\n",
      "1286144/1286325 [============================>.] - ETA: 0s - loss: 0.0100"
     ]
    },
    {
     "name": "stderr",
     "output_type": "stream",
     "text": [
      "2017-04-18 08:07:29,437 : INFO : Found lower val loss for epoch 4 => 0.00937\n"
     ]
    },
    {
     "name": "stdout",
     "output_type": "stream",
     "text": [
      "    \n",
      "1286325/1286325 [==============================] - 209s - loss: 0.0100 - val_loss: 0.0094\n",
      "Epoch 5/200\n",
      "1286144/1286325 [============================>.] - ETA: 0s - loss: 0.0097"
     ]
    },
    {
     "name": "stderr",
     "output_type": "stream",
     "text": [
      "2017-04-18 08:10:56,275 : INFO : Found lower val loss for epoch 5 => 0.00905\n"
     ]
    },
    {
     "name": "stdout",
     "output_type": "stream",
     "text": [
      "    \n",
      "1286325/1286325 [==============================] - 206s - loss: 0.0097 - val_loss: 0.0090\n",
      "Epoch 6/200\n",
      "1286144/1286325 [============================>.] - ETA: 0s - loss: 0.0096"
     ]
    },
    {
     "name": "stderr",
     "output_type": "stream",
     "text": [
      "2017-04-18 08:14:20,891 : INFO : Found lower val loss for epoch 6 => 0.00894\n"
     ]
    },
    {
     "name": "stdout",
     "output_type": "stream",
     "text": [
      "    \n",
      "1286325/1286325 [==============================] - 204s - loss: 0.0096 - val_loss: 0.0089\n",
      "Epoch 7/200\n",
      "1286144/1286325 [============================>.] - ETA: 0s - loss: 0.0094"
     ]
    },
    {
     "name": "stderr",
     "output_type": "stream",
     "text": [
      "2017-04-18 08:17:48,566 : INFO : Found lower val loss for epoch 7 => 0.00867\n"
     ]
    },
    {
     "name": "stdout",
     "output_type": "stream",
     "text": [
      "    \n",
      "1286325/1286325 [==============================] - 207s - loss: 0.0094 - val_loss: 0.0087\n",
      "Epoch 8/200\n",
      "1286144/1286325 [============================>.] - ETA: 0s - loss: 0.0093"
     ]
    },
    {
     "name": "stderr",
     "output_type": "stream",
     "text": [
      "2017-04-18 08:21:16,015 : INFO : Found lower val loss for epoch 8 => 0.00863\n"
     ]
    },
    {
     "name": "stdout",
     "output_type": "stream",
     "text": [
      "    \n",
      "1286325/1286325 [==============================] - 207s - loss: 0.0093 - val_loss: 0.0086\n",
      "Epoch 9/200\n",
      "1286144/1286325 [============================>.] - ETA: 0s - loss: 0.0093"
     ]
    },
    {
     "name": "stderr",
     "output_type": "stream",
     "text": [
      "2017-04-18 08:24:41,620 : INFO : Found lower val loss for epoch 9 => 0.00859\n"
     ]
    },
    {
     "name": "stdout",
     "output_type": "stream",
     "text": [
      "    \n",
      "1286325/1286325 [==============================] - 205s - loss: 0.0093 - val_loss: 0.0086\n",
      "Epoch 10/200\n",
      "1286144/1286325 [============================>.] - ETA: 0s - loss: 0.0092"
     ]
    },
    {
     "name": "stderr",
     "output_type": "stream",
     "text": [
      "2017-04-18 08:28:09,044 : INFO : Found lower val loss for epoch 10 => 0.00845\n"
     ]
    },
    {
     "name": "stdout",
     "output_type": "stream",
     "text": [
      "    \n",
      "1286325/1286325 [==============================] - 207s - loss: 0.0092 - val_loss: 0.0085\n",
      "Epoch 11/200\n",
      "1286144/1286325 [============================>.] - ETA: 0s - loss: 0.0091"
     ]
    },
    {
     "name": "stderr",
     "output_type": "stream",
     "text": [
      "2017-04-18 08:31:33,393 : INFO : Found lower val loss for epoch 11 => 0.00842\n"
     ]
    },
    {
     "name": "stdout",
     "output_type": "stream",
     "text": [
      "    \n",
      "1286325/1286325 [==============================] - 204s - loss: 0.0091 - val_loss: 0.0084\n",
      "Epoch 12/200\n",
      "1286325/1286325 [==============================] - 201s - loss: 0.0091 - val_loss: 0.0085\n",
      "Epoch 13/200\n",
      "1286325/1286325 [==============================] - 205s - loss: 0.0091 - val_loss: 0.0084\n",
      "Epoch 14/200\n",
      "1286144/1286325 [============================>.] - ETA: 0s - loss: 0.0090"
     ]
    },
    {
     "name": "stderr",
     "output_type": "stream",
     "text": [
      "2017-04-18 08:41:44,758 : INFO : Found lower val loss for epoch 14 => 0.00833\n"
     ]
    },
    {
     "name": "stdout",
     "output_type": "stream",
     "text": [
      "    \n",
      "1286325/1286325 [==============================] - 204s - loss: 0.0090 - val_loss: 0.0083\n",
      "Epoch 15/200\n",
      "1286144/1286325 [============================>.] - ETA: 0s - loss: 0.0090"
     ]
    },
    {
     "name": "stderr",
     "output_type": "stream",
     "text": [
      "2017-04-18 08:45:10,945 : INFO : Found lower val loss for epoch 15 => 0.00829\n"
     ]
    },
    {
     "name": "stdout",
     "output_type": "stream",
     "text": [
      "    \n",
      "1286325/1286325 [==============================] - 206s - loss: 0.0090 - val_loss: 0.0083\n",
      "Epoch 16/200\n",
      "1286144/1286325 [============================>.] - ETA: 0s - loss: 0.0089"
     ]
    },
    {
     "name": "stderr",
     "output_type": "stream",
     "text": [
      "2017-04-18 08:48:30,631 : INFO : Found lower val loss for epoch 16 => 0.00826\n"
     ]
    },
    {
     "name": "stdout",
     "output_type": "stream",
     "text": [
      "    \n",
      "1286325/1286325 [==============================] - 199s - loss: 0.0089 - val_loss: 0.0083\n",
      "Epoch 17/200\n",
      "1286144/1286325 [============================>.] - ETA: 0s - loss: 0.0089"
     ]
    },
    {
     "name": "stderr",
     "output_type": "stream",
     "text": [
      "2017-04-18 08:51:57,842 : INFO : Found lower val loss for epoch 17 => 0.0082\n"
     ]
    },
    {
     "name": "stdout",
     "output_type": "stream",
     "text": [
      "    \n",
      "1286325/1286325 [==============================] - 207s - loss: 0.0089 - val_loss: 0.0082\n",
      "Epoch 18/200\n",
      "1286325/1286325 [==============================] - 200s - loss: 0.0089 - val_loss: 0.0083\n",
      "Epoch 19/200\n",
      "1286144/1286325 [============================>.] - ETA: 0s - loss: 0.0089"
     ]
    },
    {
     "name": "stderr",
     "output_type": "stream",
     "text": [
      "2017-04-18 08:58:46,582 : INFO : Found lower val loss for epoch 19 => 0.00816\n"
     ]
    },
    {
     "name": "stdout",
     "output_type": "stream",
     "text": [
      "    \n",
      "1286325/1286325 [==============================] - 208s - loss: 0.0089 - val_loss: 0.0082\n",
      "Epoch 20/200\n",
      "1286325/1286325 [==============================] - 205s - loss: 0.0089 - val_loss: 0.0082\n",
      "Epoch 21/200\n",
      "1286325/1286325 [==============================] - 207s - loss: 0.0088 - val_loss: 0.0082\n",
      "Epoch 22/200\n",
      "1286144/1286325 [============================>.] - ETA: 0s - loss: 0.1433"
     ]
    },
    {
     "name": "stderr",
     "output_type": "stream",
     "text": [
      "2017-04-18 13:30:17,447 : INFO : Found lower val loss for epoch 4 => 0.14148\n"
     ]
    },
    {
     "name": "stdout",
     "output_type": "stream",
     "text": [
      "    \n",
      "1286325/1286325 [==============================] - 384s - loss: 0.1433 - val_loss: 0.1415\n",
      "Epoch 5/200\n",
      "1286144/1286325 [============================>.] - ETA: 0s - loss: 0.1391"
     ]
    },
    {
     "name": "stderr",
     "output_type": "stream",
     "text": [
      "2017-04-18 13:36:32,306 : INFO : Found lower val loss for epoch 5 => 0.13442\n"
     ]
    },
    {
     "name": "stdout",
     "output_type": "stream",
     "text": [
      "    \n",
      "1286325/1286325 [==============================] - 374s - loss: 0.1391 - val_loss: 0.1344\n",
      "Epoch 6/200\n",
      "1286325/1286325 [==============================] - 387s - loss: 0.1361 - val_loss: 0.1368\n",
      "Epoch 7/200\n",
      "1286325/1286325 [==============================] - 385s - loss: 0.1339 - val_loss: 0.1345\n",
      "Epoch 8/200\n",
      "1286144/1286325 [============================>.] - ETA: 0s - loss: 0.1320"
     ]
    },
    {
     "name": "stderr",
     "output_type": "stream",
     "text": [
      "2017-04-18 13:55:51,549 : INFO : Found lower val loss for epoch 8 => 0.13144\n"
     ]
    },
    {
     "name": "stdout",
     "output_type": "stream",
     "text": [
      "    \n",
      "1286325/1286325 [==============================] - 385s - loss: 0.1320 - val_loss: 0.1314\n",
      "Epoch 9/200\n",
      "1286144/1286325 [============================>.] - ETA: 0s - loss: 0.1304"
     ]
    },
    {
     "name": "stderr",
     "output_type": "stream",
     "text": [
      "2017-04-18 14:02:15,614 : INFO : Found lower val loss for epoch 9 => 0.13016\n"
     ]
    },
    {
     "name": "stdout",
     "output_type": "stream",
     "text": [
      "    \n",
      "1286325/1286325 [==============================] - 384s - loss: 0.1304 - val_loss: 0.1302\n",
      "Epoch 10/200\n",
      "1286144/1286325 [============================>.] - ETA: 0s - loss: 0.1293"
     ]
    },
    {
     "name": "stderr",
     "output_type": "stream",
     "text": [
      "2017-04-18 14:09:18,549 : INFO : Found lower val loss for epoch 10 => 0.12821\n"
     ]
    },
    {
     "name": "stdout",
     "output_type": "stream",
     "text": [
      "    \n",
      "1286325/1286325 [==============================] - 422s - loss: 0.1293 - val_loss: 0.1282\n",
      "Epoch 11/200\n",
      "1286144/1286325 [============================>.] - ETA: 0s - loss: 0.1282"
     ]
    },
    {
     "name": "stderr",
     "output_type": "stream",
     "text": [
      "2017-04-18 14:15:34,744 : INFO : Found lower val loss for epoch 11 => 0.12817\n"
     ]
    },
    {
     "name": "stdout",
     "output_type": "stream",
     "text": [
      "    \n",
      "1286325/1286325 [==============================] - 376s - loss: 0.1282 - val_loss: 0.1282\n",
      "Epoch 12/200\n",
      "1286325/1286325 [==============================] - 388s - loss: 0.1272 - val_loss: 0.1324\n",
      "Epoch 13/200\n",
      "1286325/1286325 [==============================] - 385s - loss: 0.1264 - val_loss: 0.1282\n",
      "Epoch 14/200\n",
      "1286144/1286325 [============================>.] - ETA: 0s - loss: 0.1255"
     ]
    },
    {
     "name": "stderr",
     "output_type": "stream",
     "text": [
      "2017-04-18 14:35:03,667 : INFO : Found lower val loss for epoch 14 => 0.12576\n",
      "2017-04-18 14:35:03,668 : INFO : Validation Loss Reduced 10 times\n",
      "2017-04-18 14:35:03,669 : INFO : Evaluating on Validation Data\n"
     ]
    },
    {
     "name": "stdout",
     "output_type": "stream",
     "text": [
      "\r",
      "    \r\n"
     ]
    },
    {
     "name": "stderr",
     "output_type": "stream",
     "text": [
      "2017-04-18 14:38:56,115 : INFO : Generating Validation Metrics\n"
     ]
    },
    {
     "name": "stdout",
     "output_type": "stream",
     "text": [
      "****** Validation Metrics: Cov Err: 1.374 | Top 3: 0.980 | Top 5: 0.997 | F1 Micro: 0.815 | F1 Macro: 0.771\n",
      "1286325/1286325 [==============================] - 635s - loss: 0.1254 - val_loss: 0.1258\n",
      "Epoch 15/200\n",
      "1286325/1286325 [==============================] - 395s - loss: 0.1249 - val_loss: 0.1267\n",
      "Epoch 16/200\n",
      "1286144/1286325 [============================>.] - ETA: 0s - loss: 0.1243"
     ]
    },
    {
     "name": "stderr",
     "output_type": "stream",
     "text": [
      "2017-04-18 14:52:20,027 : INFO : Found lower val loss for epoch 16 => 0.1248\n"
     ]
    },
    {
     "name": "stdout",
     "output_type": "stream",
     "text": [
      "    \n",
      "1286325/1286325 [==============================] - 400s - loss: 0.1243 - val_loss: 0.1248\n",
      "Epoch 17/200\n",
      "1286325/1286325 [==============================] - 402s - loss: 0.1237 - val_loss: 0.1257\n",
      "Epoch 18/200\n",
      "1286325/1286325 [==============================] - 399s - loss: 0.1233 - val_loss: 0.1255\n",
      "Epoch 19/200\n",
      "1286325/1286325 [==============================] - 399s - loss: 0.1228 - val_loss: 0.1255\n",
      "Epoch 20/200\n",
      "1286325/1286325 [==============================] - 398s - loss: 0.1223 - val_loss: 0.1266\n",
      "Epoch 21/200\n",
      "1286144/1286325 [============================>.] - ETA: 0s - loss: 0.1219"
     ]
    },
    {
     "name": "stderr",
     "output_type": "stream",
     "text": [
      "2017-04-18 15:25:38,256 : INFO : Found lower val loss for epoch 21 => 0.12449\n"
     ]
    },
    {
     "name": "stdout",
     "output_type": "stream",
     "text": [
      "    \n",
      "1286325/1286325 [==============================] - 398s - loss: 0.1219 - val_loss: 0.1245\n",
      "Epoch 22/200\n",
      "1286144/1286325 [============================>.] - ETA: 0s - loss: 0.1215"
     ]
    },
    {
     "name": "stderr",
     "output_type": "stream",
     "text": [
      "2017-04-18 15:32:16,051 : INFO : Found lower val loss for epoch 22 => 0.12441\n"
     ]
    },
    {
     "name": "stdout",
     "output_type": "stream",
     "text": [
      "    \n",
      "1286325/1286325 [==============================] - 397s - loss: 0.1215 - val_loss: 0.1244\n",
      "Epoch 23/200\n",
      "1286325/1286325 [==============================] - 415s - loss: 0.1210 - val_loss: 0.1245\n",
      "Epoch 24/200\n",
      "1286325/1286325 [==============================] - 395s - loss: 0.1208 - val_loss: 0.1253\n",
      "Epoch 25/200\n",
      "1286144/1286325 [============================>.] - ETA: 0s - loss: 0.1205"
     ]
    },
    {
     "name": "stderr",
     "output_type": "stream",
     "text": [
      "2017-04-18 15:52:27,011 : INFO : Found lower val loss for epoch 25 => 0.12396\n"
     ]
    },
    {
     "name": "stdout",
     "output_type": "stream",
     "text": [
      "    \n",
      "1286325/1286325 [==============================] - 399s - loss: 0.1205 - val_loss: 0.1240\n",
      "Epoch 26/200\n",
      "1286325/1286325 [==============================] - 398s - loss: 0.1202 - val_loss: 0.1258\n",
      "Epoch 27/200\n",
      "1286325/1286325 [==============================] - 401s - loss: 0.1200 - val_loss: 0.1253\n",
      "Epoch 28/200\n",
      "1286325/1286325 [==============================] - 400s - loss: 0.1197 - val_loss: 0.1240\n",
      "Epoch 29/200\n",
      "1286325/1286325 [==============================] - 400s - loss: 0.1194 - val_loss: 0.1247\n",
      "Epoch 30/200\n",
      "1286325/1286325 [==============================] - 397s - loss: 0.1192 - val_loss: 0.1245\n",
      "Epoch 31/200\n",
      "1286144/1286325 [============================>.] - ETA: 0s - loss: 0.1190"
     ]
    },
    {
     "name": "stderr",
     "output_type": "stream",
     "text": [
      "2017-04-18 16:32:27,321 : INFO : Found lower val loss for epoch 31 => 0.12388\n"
     ]
    },
    {
     "name": "stdout",
     "output_type": "stream",
     "text": [
      "    \n",
      "1286325/1286325 [==============================] - 401s - loss: 0.1190 - val_loss: 0.1239\n",
      "Epoch 32/200\n",
      "1286325/1286325 [==============================] - 448s - loss: 0.1188 - val_loss: 0.1246\n",
      "Epoch 33/200\n",
      "1286325/1286325 [==============================] - 528s - loss: 0.1186 - val_loss: 0.1249\n",
      "Epoch 34/200\n",
      "1286325/1286325 [==============================] - 419s - loss: 0.1185 - val_loss: 0.1258\n",
      "Epoch 35/200\n",
      "1286325/1286325 [==============================] - 395s - loss: 0.1183 - val_loss: 0.1260\n",
      "Epoch 36/200\n",
      "1286325/1286325 [==============================] - 392s - loss: 0.1180 - val_loss: 0.1240\n",
      "Epoch 37/200\n",
      "1286325/1286325 [==============================] - 423s - loss: 0.1179 - val_loss: 0.1240\n",
      "Epoch 38/200\n",
      "1286325/1286325 [==============================] - 449s - loss: 0.1178 - val_loss: 0.1246\n",
      "Epoch 39/200\n",
      "1286325/1286325 [==============================] - 428s - loss: 0.1176 - val_loss: 0.1242\n",
      "Epoch 40/200\n",
      "1286144/1286325 [============================>.] - ETA: 0s - loss: 0.1175"
     ]
    },
    {
     "name": "stderr",
     "output_type": "stream",
     "text": [
      "2017-04-18 17:36:58,525 : INFO : Found lower val loss for epoch 40 => 0.12343\n"
     ]
    },
    {
     "name": "stdout",
     "output_type": "stream",
     "text": [
      "    \n",
      "1286325/1286325 [==============================] - 385s - loss: 0.1175 - val_loss: 0.1234\n",
      "Epoch 41/200\n",
      "1286144/1286325 [============================>.] - ETA: 0s - loss: 0.1173"
     ]
    },
    {
     "name": "stderr",
     "output_type": "stream",
     "text": [
      "2017-04-18 17:43:23,390 : INFO : Found lower val loss for epoch 41 => 0.12333\n"
     ]
    },
    {
     "name": "stdout",
     "output_type": "stream",
     "text": [
      "    \n",
      "1286325/1286325 [==============================] - 384s - loss: 0.1173 - val_loss: 0.1233\n",
      "Epoch 42/200\n",
      "1286325/1286325 [==============================] - 387s - loss: 0.1172 - val_loss: 0.1237\n",
      "Epoch 43/200\n",
      "1286325/1286325 [==============================] - 386s - loss: 0.1172 - val_loss: 0.1251\n",
      "Epoch 44/200\n",
      "1286325/1286325 [==============================] - 383s - loss: 0.1170 - val_loss: 0.1237\n",
      "Epoch 45/200\n",
      "1286144/1286325 [============================>.] - ETA: 0s - loss: 0.1168"
     ]
    },
    {
     "name": "stderr",
     "output_type": "stream",
     "text": [
      "2017-04-18 18:09:09,305 : INFO : Found lower val loss for epoch 45 => 0.12318\n"
     ]
    },
    {
     "name": "stdout",
     "output_type": "stream",
     "text": [
      "    \n",
      "1286325/1286325 [==============================] - 387s - loss: 0.1168 - val_loss: 0.1232\n",
      "Epoch 46/200\n",
      "1286325/1286325 [==============================] - 386s - loss: 0.1167 - val_loss: 0.1236\n",
      "Epoch 47/200\n",
      "1286325/1286325 [==============================] - 383s - loss: 0.1167 - val_loss: 0.1238\n",
      "Epoch 48/200\n",
      "1286144/1286325 [============================>.] - ETA: 0s - loss: 0.1165"
     ]
    },
    {
     "name": "stderr",
     "output_type": "stream",
     "text": [
      "2017-04-18 18:28:16,409 : INFO : Found lower val loss for epoch 48 => 0.12287\n"
     ]
    },
    {
     "name": "stdout",
     "output_type": "stream",
     "text": [
      "    \n",
      "1286325/1286325 [==============================] - 377s - loss: 0.1165 - val_loss: 0.1229\n",
      "Epoch 49/200\n",
      "1286325/1286325 [==============================] - 378s - loss: 0.1164 - val_loss: 0.1238\n",
      "Epoch 50/200\n",
      "1286325/1286325 [==============================] - 383s - loss: 0.1163 - val_loss: 0.1232\n",
      "Epoch 51/200\n",
      "1286325/1286325 [==============================] - 378s - loss: 0.1162 - val_loss: 0.1235\n",
      "Epoch 52/200\n",
      "1286325/1286325 [==============================] - 382s - loss: 0.1162 - val_loss: 0.1236\n",
      "Epoch 53/200\n",
      "1286325/1286325 [==============================] - 380s - loss: 0.1161 - val_loss: 0.1236\n",
      "Epoch 54/200\n",
      "1286325/1286325 [==============================] - 379s - loss: 0.1159 - val_loss: 0.1234\n",
      "Epoch 55/200\n",
      "1286325/1286325 [==============================] - 377s - loss: 0.1160 - val_loss: 0.1232\n",
      "Epoch 56/200\n",
      "1286325/1286325 [==============================] - 378s - loss: 0.1158 - val_loss: 0.1244\n",
      "Epoch 57/200\n",
      "1286325/1286325 [==============================] - 383s - loss: 0.1158 - val_loss: 0.1233\n",
      "Epoch 58/200\n",
      "1286144/1286325 [============================>.] - ETA: 0s - loss: 0.0083"
     ]
    },
    {
     "name": "stderr",
     "output_type": "stream",
     "text": [
      "2017-04-18 20:55:22,174 : INFO : Found lower val loss for epoch 7 => 0.00805\n"
     ]
    },
    {
     "name": "stdout",
     "output_type": "stream",
     "text": [
      "    \n",
      "1286325/1286325 [==============================] - 354s - loss: 0.0083 - val_loss: 0.0081\n",
      "Epoch 8/200\n",
      "1286325/1286325 [==============================] - 356s - loss: 0.0082 - val_loss: 0.0081\n",
      "Epoch 9/200\n",
      "1286144/1286325 [============================>.] - ETA: 0s - loss: 0.0080"
     ]
    },
    {
     "name": "stderr",
     "output_type": "stream",
     "text": [
      "2017-04-18 21:07:13,988 : INFO : Found lower val loss for epoch 9 => 0.00798\n"
     ]
    },
    {
     "name": "stdout",
     "output_type": "stream",
     "text": [
      "    \n",
      "1286325/1286325 [==============================] - 355s - loss: 0.0080 - val_loss: 0.0080\n",
      "Epoch 10/200\n",
      "1286144/1286325 [============================>.] - ETA: 0s - loss: 0.0079"
     ]
    },
    {
     "name": "stderr",
     "output_type": "stream",
     "text": [
      "2017-04-18 21:13:10,743 : INFO : Found lower val loss for epoch 10 => 0.00791\n"
     ]
    },
    {
     "name": "stdout",
     "output_type": "stream",
     "text": [
      "    \n",
      "1286325/1286325 [==============================] - 356s - loss: 0.0079 - val_loss: 0.0079\n",
      "Epoch 11/200\n",
      "1286144/1286325 [============================>.] - ETA: 0s - loss: 0.0079"
     ]
    },
    {
     "name": "stderr",
     "output_type": "stream",
     "text": [
      "2017-04-18 21:19:07,575 : INFO : Found lower val loss for epoch 11 => 0.00783\n"
     ]
    },
    {
     "name": "stdout",
     "output_type": "stream",
     "text": [
      "    \n",
      "1286325/1286325 [==============================] - 356s - loss: 0.0079 - val_loss: 0.0078\n",
      "Epoch 12/200\n",
      "1286325/1286325 [==============================] - 359s - loss: 0.0078 - val_loss: 0.0079\n",
      "Epoch 13/200\n",
      "1286144/1286325 [============================>.] - ETA: 0s - loss: 0.0077"
     ]
    },
    {
     "name": "stderr",
     "output_type": "stream",
     "text": [
      "2017-04-18 21:31:23,563 : INFO : Found lower val loss for epoch 13 => 0.00777\n"
     ]
    },
    {
     "name": "stdout",
     "output_type": "stream",
     "text": [
      "    \n",
      "1286325/1286325 [==============================] - 376s - loss: 0.0077 - val_loss: 0.0078\n",
      "Epoch 14/200\n",
      "1286144/1286325 [============================>.] - ETA: 0s - loss: 0.0077"
     ]
    },
    {
     "name": "stderr",
     "output_type": "stream",
     "text": [
      "2017-04-18 21:38:03,563 : INFO : Found lower val loss for epoch 14 => 0.00775\n"
     ]
    },
    {
     "name": "stdout",
     "output_type": "stream",
     "text": [
      "    \n",
      "1286325/1286325 [==============================] - 399s - loss: 0.0077 - val_loss: 0.0077\n",
      "Epoch 15/200\n",
      "1286144/1286325 [============================>.] - ETA: 0s - loss: 0.0076"
     ]
    },
    {
     "name": "stderr",
     "output_type": "stream",
     "text": [
      "2017-04-18 21:44:08,468 : INFO : Found lower val loss for epoch 15 => 0.00769\n"
     ]
    },
    {
     "name": "stdout",
     "output_type": "stream",
     "text": [
      "    \n",
      "1286325/1286325 [==============================] - 364s - loss: 0.0076 - val_loss: 0.0077\n",
      "Epoch 16/200\n",
      "1286144/1286325 [============================>.] - ETA: 0s - loss: 0.0076"
     ]
    },
    {
     "name": "stderr",
     "output_type": "stream",
     "text": [
      "2017-04-18 21:50:04,979 : INFO : Found lower val loss for epoch 16 => 0.00762\n"
     ]
    },
    {
     "name": "stdout",
     "output_type": "stream",
     "text": [
      "    \n",
      "1286325/1286325 [==============================] - 356s - loss: 0.0076 - val_loss: 0.0076\n",
      "Epoch 17/200\n",
      "1286144/1286325 [============================>.] - ETA: 0s - loss: 0.0076"
     ]
    },
    {
     "name": "stderr",
     "output_type": "stream",
     "text": [
      "2017-04-18 21:56:04,501 : INFO : Found lower val loss for epoch 17 => 0.00757\n"
     ]
    },
    {
     "name": "stdout",
     "output_type": "stream",
     "text": [
      "    \n",
      "1286325/1286325 [==============================] - 359s - loss: 0.0076 - val_loss: 0.0076\n",
      "Epoch 18/200\n",
      "1286325/1286325 [==============================] - 355s - loss: 0.0075 - val_loss: 0.0077\n",
      "Epoch 19/200\n",
      "1286325/1286325 [==============================] - 348s - loss: 0.0075 - val_loss: 0.0076\n",
      "Epoch 20/200\n",
      "1286325/1286325 [==============================] - 351s - loss: 0.0075 - val_loss: 0.0076\n",
      "Epoch 21/200\n",
      "1286144/1286325 [============================>.] - ETA: 0s - loss: 0.0074"
     ]
    },
    {
     "name": "stderr",
     "output_type": "stream",
     "text": [
      "2017-04-18 22:19:28,591 : INFO : Found lower val loss for epoch 21 => 0.00756\n"
     ]
    },
    {
     "name": "stdout",
     "output_type": "stream",
     "text": [
      "    \n",
      "1286325/1286325 [==============================] - 347s - loss: 0.0074 - val_loss: 0.0076\n",
      "Epoch 22/200\n",
      "1286325/1286325 [==============================] - 349s - loss: 0.0074 - val_loss: 0.0076\n",
      "Epoch 23/200\n",
      "1286144/1286325 [============================>.] - ETA: 0s - loss: 0.0074"
     ]
    },
    {
     "name": "stderr",
     "output_type": "stream",
     "text": [
      "2017-04-18 22:31:09,191 : INFO : Found lower val loss for epoch 23 => 0.00754\n"
     ]
    },
    {
     "name": "stdout",
     "output_type": "stream",
     "text": [
      "    \n",
      "1286325/1286325 [==============================] - 351s - loss: 0.0074 - val_loss: 0.0075\n",
      "Epoch 24/200\n",
      "1286144/1286325 [============================>.] - ETA: 0s - loss: 0.0074"
     ]
    },
    {
     "name": "stderr",
     "output_type": "stream",
     "text": [
      "2017-04-18 22:37:01,318 : INFO : Found lower val loss for epoch 24 => 0.0075\n"
     ]
    },
    {
     "name": "stdout",
     "output_type": "stream",
     "text": [
      "    \n",
      "1286325/1286325 [==============================] - 352s - loss: 0.0074 - val_loss: 0.0075\n",
      "Epoch 25/200\n",
      "1286325/1286325 [==============================] - 357s - loss: 0.0074 - val_loss: 0.0075\n",
      "Epoch 26/200\n",
      "1286325/1286325 [==============================] - 358s - loss: 0.0073 - val_loss: 0.0075\n",
      "Epoch 27/200\n",
      "1286144/1286325 [============================>.] - ETA: 0s - loss: 0.0073"
     ]
    },
    {
     "name": "stderr",
     "output_type": "stream",
     "text": [
      "2017-04-18 22:54:54,499 : INFO : Found lower val loss for epoch 27 => 0.00748\n"
     ]
    },
    {
     "name": "stdout",
     "output_type": "stream",
     "text": [
      "    \n",
      "1286325/1286325 [==============================] - 357s - loss: 0.0073 - val_loss: 0.0075\n",
      "Epoch 28/200\n",
      "1286325/1286325 [==============================] - 358s - loss: 0.0073 - val_loss: 0.0075\n",
      "Epoch 29/200\n",
      "1286325/1286325 [==============================] - 354s - loss: 0.0073 - val_loss: 0.0075\n",
      "Epoch 30/200\n",
      "1286144/1286325 [============================>.] - ETA: 0s - loss: 0.0073"
     ]
    },
    {
     "name": "stderr",
     "output_type": "stream",
     "text": [
      "2017-04-18 23:12:45,158 : INFO : Found lower val loss for epoch 30 => 0.00748\n",
      "2017-04-18 23:12:45,159 : INFO : Validation Loss Reduced 20 times\n",
      "2017-04-18 23:12:45,160 : INFO : Evaluating on Validation Data\n"
     ]
    },
    {
     "name": "stdout",
     "output_type": "stream",
     "text": [
      "\r",
      "    \r\n"
     ]
    },
    {
     "name": "stderr",
     "output_type": "stream",
     "text": [
      "2017-04-18 23:16:24,712 : INFO : Generating Validation Metrics\n"
     ]
    },
    {
     "name": "stdout",
     "output_type": "stream",
     "text": [
      "****** Validation Metrics: Cov Err: 2.351 | Top 3: 0.890 | Top 5: 0.941 | F1 Micro: 0.716 | F1 Macro: 0.252\n",
      "1286325/1286325 [==============================] - 611s - loss: 0.0073 - val_loss: 0.0075\n",
      "Epoch 31/200\n",
      "1286144/1286325 [============================>.] - ETA: 0s - loss: 0.0073"
     ]
    },
    {
     "name": "stderr",
     "output_type": "stream",
     "text": [
      "2017-04-18 23:22:59,348 : INFO : Found lower val loss for epoch 31 => 0.00744\n"
     ]
    },
    {
     "name": "stdout",
     "output_type": "stream",
     "text": [
      "    \n",
      "1286325/1286325 [==============================] - 360s - loss: 0.0073 - val_loss: 0.0074\n",
      "Epoch 32/200\n",
      "1286325/1286325 [==============================] - 358s - loss: 0.0072 - val_loss: 0.0075\n",
      "Epoch 33/200\n",
      "1286325/1286325 [==============================] - 358s - loss: 0.0072 - val_loss: 0.0075\n",
      "Epoch 34/200\n",
      "1286325/1286325 [==============================] - 360s - loss: 0.0072 - val_loss: 0.0075\n",
      "Epoch 35/200\n",
      "1286325/1286325 [==============================] - 374s - loss: 0.0072 - val_loss: 0.0075\n",
      "Epoch 36/200\n",
      "1286325/1286325 [==============================] - 359s - loss: 0.0072 - val_loss: 0.0074\n",
      "Epoch 37/200\n",
      "1286144/1286325 [============================>.] - ETA: 0s - loss: 0.0072"
     ]
    },
    {
     "name": "stderr",
     "output_type": "stream",
     "text": [
      "2017-04-18 23:59:09,798 : INFO : Found lower val loss for epoch 37 => 0.00744\n"
     ]
    },
    {
     "name": "stdout",
     "output_type": "stream",
     "text": [
      "    \n",
      "1286325/1286325 [==============================] - 359s - loss: 0.0072 - val_loss: 0.0074\n",
      "Epoch 38/200\n",
      "1286144/1286325 [============================>.] - ETA: 0s - loss: 0.0072"
     ]
    },
    {
     "name": "stderr",
     "output_type": "stream",
     "text": [
      "2017-04-19 00:05:01,298 : INFO : Found lower val loss for epoch 38 => 0.00743\n"
     ]
    },
    {
     "name": "stdout",
     "output_type": "stream",
     "text": [
      "    \n",
      "1286325/1286325 [==============================] - 351s - loss: 0.0072 - val_loss: 0.0074\n",
      "Epoch 39/200\n",
      "1286325/1286325 [==============================] - 359s - loss: 0.0072 - val_loss: 0.0075\n",
      "Epoch 40/200\n",
      "1286325/1286325 [==============================] - 358s - loss: 0.0072 - val_loss: 0.0075\n",
      "Epoch 41/200\n",
      "1286325/1286325 [==============================] - 361s - loss: 0.0072 - val_loss: 0.0075\n",
      "Epoch 42/200\n",
      "1286144/1286325 [============================>.] - ETA: 0s - loss: 0.0071"
     ]
    },
    {
     "name": "stderr",
     "output_type": "stream",
     "text": [
      "2017-04-19 00:28:59,408 : INFO : Found lower val loss for epoch 42 => 0.00742\n"
     ]
    },
    {
     "name": "stdout",
     "output_type": "stream",
     "text": [
      "    \n",
      "1286325/1286325 [==============================] - 358s - loss: 0.0071 - val_loss: 0.0074\n",
      "Epoch 43/200\n",
      "1286325/1286325 [==============================] - 352s - loss: 0.0071 - val_loss: 0.0074\n",
      "Epoch 44/200\n",
      "1286325/1286325 [==============================] - 352s - loss: 0.0071 - val_loss: 0.0074\n",
      "Epoch 45/200\n",
      "1286325/1286325 [==============================] - 352s - loss: 0.0071 - val_loss: 0.0074\n",
      "Epoch 46/200\n",
      "1286325/1286325 [==============================] - 354s - loss: 0.0071 - val_loss: 0.0075\n",
      "Epoch 47/200\n",
      "1286325/1286325 [==============================] - 348s - loss: 0.0071 - val_loss: 0.0075\n",
      "Epoch 48/200\n",
      "1286325/1286325 [==============================] - 348s - loss: 0.0071 - val_loss: 0.0075\n",
      "Epoch 49/200\n",
      "1286325/1286325 [==============================] - 352s - loss: 0.0071 - val_loss: 0.0074\n",
      "Epoch 50/200\n",
      "1286325/1286325 [==============================] - 358s - loss: 0.0071 - val_loss: 0.0074\n",
      "Epoch 51/200\n",
      "1286325/1286325 [==============================] - 353s - loss: 0.0071 - val_loss: 0.0074\n",
      "Epoch 52/200\n",
      "1286325/1286325 [==============================] - 361s - loss: 0.0071 - val_loss: 0.0074\n",
      "Epoch 53/200\n",
      "1286325/1286325 [==============================] - 364s - loss: 0.0071 - val_loss: 0.0074\n",
      "Epoch 54/200\n",
      "1286325/1286325 [==============================] - 358s - loss: 0.0071 - val_loss: 0.0075\n",
      "Epoch 00053: early stopping\n",
      "CPU times: user 2h 6min 47s, sys: 3h 2min 6s, total: 5h 8min 53s\n",
      "Wall time: 5h 26min 15s\n"
     ]
    },
    {
     "name": "stderr",
     "output_type": "stream",
     "text": [
      "2017-04-19 01:39:55,030 : INFO : Evaluating on Validation Data using saved best weights\n",
      "2017-04-19 01:43:55,958 : INFO : Generating Validation Metrics\n"
     ]
    },
    {
     "name": "stdout",
     "output_type": "stream",
     "text": [
      "****** Validation Metrics: Cov Err: 2.342 | Top 3: 0.893 | Top 5: 0.942 | F1 Micro: 0.721 | F1 Macro: 0.255\n"
     ]
    },
    {
     "name": "stderr",
     "output_type": "stream",
     "text": [
      "2017-04-19 01:44:29,951 : INFO : Loading Previous results from /mnt/data2/shalaby/nn_parameter_search_extended_abs_desc_claims_full_chunks/doc2vec_size_200_w_2_type_dm_concat_0_mean_1_trainwords_0_hs_0_neg_10_vocabsize_None/epoch_8/lstm_classes_level_2_batch_4096_nn_parameter_searches.pkl\n"
     ]
    },
    {
     "ename": "IOError",
     "evalue": "[Errno 28] No space left on device",
     "output_type": "error",
     "traceback": [
      "\u001b[1;31m---------------------------------------------------------------------------\u001b[0m",
      "\u001b[1;31mIOError\u001b[0m                                   Traceback (most recent call last)",
      "\u001b[1;32m<ipython-input-20-153c7c5233ee>\u001b[0m in \u001b[0;36m<module>\u001b[1;34m()\u001b[0m\n\u001b[0;32m    169\u001b[0m                 \u001b[0mparam_results_dict\u001b[0m\u001b[1;33m.\u001b[0m\u001b[0mupdate\u001b[0m\u001b[1;33m(\u001b[0m\u001b[0mloaded_param_results_dict\u001b[0m\u001b[1;33m)\u001b[0m\u001b[1;33m\u001b[0m\u001b[0m\n\u001b[0;32m    170\u001b[0m \u001b[1;33m\u001b[0m\u001b[0m\n\u001b[1;32m--> 171\u001b[1;33m         \u001b[0mpickle\u001b[0m\u001b[1;33m.\u001b[0m\u001b[0mdump\u001b[0m\u001b[1;33m(\u001b[0m\u001b[0mparam_results_dict\u001b[0m\u001b[1;33m,\u001b[0m \u001b[0mopen\u001b[0m\u001b[1;33m(\u001b[0m\u001b[0mparam_results_path\u001b[0m\u001b[1;33m,\u001b[0m \u001b[1;34m'w'\u001b[0m\u001b[1;33m)\u001b[0m\u001b[1;33m)\u001b[0m\u001b[1;33m\u001b[0m\u001b[0m\n\u001b[0m\u001b[0;32m    172\u001b[0m \u001b[1;33m\u001b[0m\u001b[0m\n",
      "\u001b[1;31mIOError\u001b[0m: [Errno 28] No space left on device"
     ]
    }
   ],
   "source": [
    "%matplotlib notebook\n",
    "\n",
    "for GLOBAL_PARAMS in GLOBAL_PARMS_TO_RUN:\n",
    "    \n",
    "    print '==================================== NEW PARAM SET ============================================'\n",
    "    print {k:v for k,v in GLOBAL_PARAMS.items() if k != 'classifications'}\n",
    "    \n",
    "    classifications = GLOBAL_PARAMS['classifications']\n",
    "    classifications_type = GLOBAL_PARAMS['classifications_type']\n",
    "    classifier_file = TYPE_CLASSIFIER.format(classifications_type)\n",
    "    \n",
    "    PARTS_LEVEL = GLOBAL_PARAMS['parts_level']\n",
    "    \n",
    "    \n",
    "    placeholder_model_name = 'doc2vec_size_{}_w_{}_type_{}_concat_{}_mean_{}_trainwords_{}_hs_{}_neg_{}_vocabsize_{}'.format(DOC2VEC_SIZE, \n",
    "                                                                DOC2VEC_WINDOW, \n",
    "                                                                'dm' if DOC2VEC_TYPE == 1 else 'pv-dbow',\n",
    "                                                                DOC2VEC_CONCAT, DOC2VEC_MEAN,\n",
    "                                                                DOC2VEC_TRAIN_WORDS,\n",
    "                                                                DOC2VEC_HIERARCHICAL_SAMPLE,DOC2VEC_NEGATIVE_SAMPLE_SIZE,\n",
    "                                                                str(DOC2VEC_MAX_VOCAB_SIZE))\n",
    "    GLOBAL_VARS.DOC2VEC_MODEL_NAME = placeholder_model_name\n",
    "    placeholder_model_name = os.path.join(placeholder_model_name, \"epoch_{}\")\n",
    "\n",
    "    epoch = GLOBAL_PARAMS['doc2vec_epoch']\n",
    "\n",
    "    GLOBAL_VARS.MODEL_NAME = placeholder_model_name.format(epoch)\n",
    "    print GLOBAL_VARS.MODEL_NAME\n",
    "    \n",
    "    time.sleep(0.2)\n",
    "    \n",
    "    info(\"Loading Training Documents\")\n",
    "    X, y = get_training_data(classifications_type, PARTS_LEVEL)\n",
    "    print X.shape\n",
    "    print y.shape\n",
    "    \n",
    "    info(\"Loading Validation Documents\")\n",
    "    Xv, yv = get_validation_data(classifications_type, PARTS_LEVEL)\n",
    "    print Xv.shape\n",
    "    print yv.shape\n",
    "    \n",
    "    \n",
    "    NN_OUTPUT_NEURONS = len(classifications)\n",
    "    EARLY_STOPPER_MIN_DELTA = early_stopper_deltas[classifications_type]\n",
    "    EARLY_STOPPER_PATIENCE = early_stopper_patience[classifications_type]\n",
    "\n",
    "    NN_MAX_EPOCHS = 200\n",
    "    NN_PARAM_SAMPLE_SEED = 1234\n",
    "\n",
    "    NN_BATCH_SIZE = GLOBAL_PARAMS['nn_batch_size']\n",
    "\n",
    "    MODEL_VERBOSITY = 1\n",
    "\n",
    "    NN_OPTIMIZER = 'rmsprop'\n",
    "    # NN_OPTIMIZER = 'adam'\n",
    "\n",
    "    to_skip = []\n",
    "\n",
    "    load_existing_results = True\n",
    "    save_results = True\n",
    "\n",
    "\n",
    "    np.random.seed(NN_SEED)\n",
    "    \n",
    "    \n",
    "    \n",
    "    ################################################################################\n",
    "    ############### Actual Training\n",
    "\n",
    "\n",
    "    # load previous finshed results so we dont redo them\n",
    "    param_results_dict = {}\n",
    "    \n",
    "    param_results_path = os.path.join(os.path.join(nn_parameter_search_location, GLOBAL_VARS.MODEL_NAME, \n",
    "                                                   NN_PARAMETER_SEARCH_PREFIX.format(classifications_type, PARTS_LEVEL, NN_BATCH_SIZE)))\n",
    "        \n",
    "    if load_existing_results:\n",
    "        if os.path.exists(param_results_path):\n",
    "            info('Loading Previous results from {}'.format(param_results_path))\n",
    "            param_results_dict = pickle.load(open(param_results_path))\n",
    "        else:\n",
    "            info('No Previous results exist in {}'.format(param_results_path))\n",
    "\n",
    "    ensure_disk_location_exists(os.path.join(nn_parameter_search_location, GLOBAL_VARS.MODEL_NAME))\n",
    "\n",
    "    start_time = time.time()\n",
    "    lstm_output_size = GLOBAL_PARAMS['lstm_output_size']\n",
    "    w_dropout_do = GLOBAL_PARAMS['lstm_w_dropout']\n",
    "    u_dropout_do = GLOBAL_PARAMS['lstm_u_dropout']\n",
    "    stack_layers = GLOBAL_PARAMS['lstm_stack_layers']\n",
    "    conv_size = GLOBAL_PARAMS['lstm_conv_size']\n",
    "    conv_filter_length = GLOBAL_PARAMS['lstm_conv_filter_length']\n",
    "    conv_max_pooling_length = GLOBAL_PARAMS['lstm_max_pooling_length']\n",
    "\n",
    "    GLOBAL_VARS.NN_MODEL_NAME = 'lstm_optimizer_{}_size_{}_w-drop_{}_u-drop_{}_stack_{}_conv_{}'.format(NN_OPTIMIZER,\n",
    "        lstm_output_size,  w_dropout_do, u_dropout_do, stack_layers, str(conv_size)\n",
    "    )\n",
    "    if conv_size:\n",
    "        GLOBAL_VARS.NN_MODEL_NAME += '_conv-filter-length_{}_max-pooling-size_{}'.format(conv_filter_length, \n",
    "                                                                                         conv_max_pooling_length)\n",
    "\n",
    "    if GLOBAL_VARS.NN_MODEL_NAME in param_results_dict.keys() or GLOBAL_VARS.NN_MODEL_NAME in to_skip:\n",
    "        print \"skipping: {}\".format(GLOBAL_VARS.NN_MODEL_NAME)\n",
    "        continue\n",
    "\n",
    "    info('***************************************************************************************')\n",
    "    info(GLOBAL_VARS.NN_MODEL_NAME)\n",
    "\n",
    "    # creating the actual keras model\n",
    "    model = create_keras_rnn_model(DOC2VEC_SIZE, NN_OUTPUT_NEURONS, \n",
    "                                  lstm_output_size, w_dropout_do, u_dropout_do, stack_layers, conv_size, \n",
    "                                   conv_filter_length, conv_max_pooling_length)\n",
    "    model.summary()\n",
    "\n",
    "    # callbacks for early stopping and for generating validation metrics\n",
    "    early_stopper = keras.callbacks.EarlyStopping(monitor='val_loss', min_delta=EARLY_STOPPER_MIN_DELTA, \\\n",
    "                                                  patience=EARLY_STOPPER_PATIENCE, verbose=1, mode='auto')\n",
    "    metrics_callback = MetricsCallback()\n",
    "\n",
    "\n",
    "    # Model Fitting\n",
    "    %time history = model.fit(x=X, y=y, validation_data=(Xv,yv), batch_size=NN_BATCH_SIZE, \\\n",
    "                              nb_epoch=NN_MAX_EPOCHS, verbose=MODEL_VERBOSITY, \\\n",
    "                              callbacks=[early_stopper, metrics_callback])\n",
    "    \n",
    "    \n",
    "#     time.sleep(0.2)\n",
    "#     info('Evaluating on Training Data')\n",
    "#     yp = model.predict(X) # get raw probability for predicted labels\n",
    "#     yp_binary = get_binary_0_5(yp) # use 0.5 as threshold for setting labels to 0 or 1\n",
    "#     #print yvp\n",
    "#     info('Generating Training Metrics')\n",
    "#     training_metrics = get_metrics(y, yp, yp_binary)\n",
    "#     print \"****** Training Metrics: Cov Err: {:.3f} | Top 3: {:.3f} | Top 5: {:.3f} | F1 Micro: {:.3f} | F1 Macro: {:.3f}\".format(\n",
    "#     training_metrics['coverage_error'], training_metrics['top_3'], training_metrics['top_5'], \n",
    "#     training_metrics['f1_micro'], training_metrics['f1_macro'])\n",
    "    \n",
    "    \n",
    "    time.sleep(0.2)\n",
    "    info('Evaluating on Validation Data using saved best weights')\n",
    "    model.set_weights(metrics_callback.best_weights)\n",
    "    yvp = model.predict(Xv) # get raw probability for predicted labels\n",
    "    yvp_binary = get_binary_0_5(yvp) # use 0.5 as threshold for setting labels to 0 or 1\n",
    "    #print yvp\n",
    "    info('Generating Validation Metrics')\n",
    "    validation_metrics = get_metrics(yv, yvp, yvp_binary)\n",
    "    print \"****** Validation Metrics: Cov Err: {:.3f} | Top 3: {:.3f} | Top 5: {:.3f} | F1 Micro: {:.3f} | F1 Macro: {:.3f}\".format(\n",
    "        validation_metrics['coverage_error'], validation_metrics['top_3'], validation_metrics['top_5'], \n",
    "        validation_metrics['f1_micro'], validation_metrics['f1_macro'])\n",
    "    best_validation_metrics = validation_metrics\n",
    "    \n",
    "    time.sleep(0.2)\n",
    "    param_results_dict[GLOBAL_VARS.NN_MODEL_NAME] = dict()\n",
    "    param_results_dict[GLOBAL_VARS.NN_MODEL_NAME]['best_validation_metrics'] = best_validation_metrics\n",
    "    param_results_dict[GLOBAL_VARS.NN_MODEL_NAME]['epochs'] = len(history.history['val_loss'])\n",
    "    param_results_dict[GLOBAL_VARS.NN_MODEL_NAME]['best_weights'] = metrics_callback.best_weights\n",
    "    param_results_dict[GLOBAL_VARS.NN_MODEL_NAME]['best_val_loss'] = metrics_callback.best_val_loss\n",
    "    param_results_dict[GLOBAL_VARS.NN_MODEL_NAME]['training_loss'] = metrics_callback.losses\n",
    "    param_results_dict[GLOBAL_VARS.NN_MODEL_NAME]['validation_loss'] = metrics_callback.val_losses\n",
    "\n",
    "    duration = time.time() - start_time\n",
    "    param_results_dict[GLOBAL_VARS.NN_MODEL_NAME]['duration'] =  duration\n",
    "\n",
    "    del history, metrics_callback, model\n",
    "    del X, Xv, y, yv\n",
    "\n",
    "    if save_results:\n",
    "        if load_existing_results:\n",
    "            if os.path.exists(param_results_path):\n",
    "                info('Loading Previous results from {}'.format(param_results_path))\n",
    "                loaded_param_results_dict = pickle.load(open(param_results_path))\n",
    "                param_results_dict.update(loaded_param_results_dict)\n",
    "\n",
    "        pickle.dump(param_results_dict, open(param_results_path, 'w'))\n",
    "        "
   ]
  },
  {
   "cell_type": "code",
   "execution_count": 23,
   "metadata": {
    "collapsed": false
   },
   "outputs": [
    {
     "name": "stderr",
     "output_type": "stream",
     "text": [
      "2017-04-13 19:29:00,369 : INFO : Evaluating on Validation Data using saved best weights\n",
      "2017-04-13 19:34:08,795 : INFO : Generating Validation Metrics\n"
     ]
    },
    {
     "name": "stdout",
     "output_type": "stream",
     "text": [
      "****** Validation Metrics: Cov Err: 1.357 | Top 3: 0.982 | Top 5: 0.997 | F1 Micro: 0.827 | F1 Macro: 0.784\n"
     ]
    }
   ],
   "source": [
    "\n",
    "time.sleep(0.2)\n",
    "info('Evaluating on Validation Data using saved best weights')\n",
    "model.set_weights(metrics_callback.best_weights)\n",
    "yvp = model.predict(Xv) # get raw probability for predicted labels\n",
    "yvp_binary = get_binary_0_5(yvp) # use 0.5 as threshold for setting labels to 0 or 1\n",
    "#print yvp\n",
    "info('Generating Validation Metrics')\n",
    "validation_metrics = get_metrics(yv, yvp, yvp_binary)\n",
    "print \"****** Validation Metrics: Cov Err: {:.3f} | Top 3: {:.3f} | Top 5: {:.3f} | F1 Micro: {:.3f} | F1 Macro: {:.3f}\".format(\n",
    "    validation_metrics['coverage_error'], validation_metrics['top_3'], validation_metrics['top_5'], \n",
    "    validation_metrics['f1_micro'], validation_metrics['f1_macro'])\n",
    "best_validation_metrics = validation_metrics\n"
   ]
  },
  {
   "cell_type": "code",
   "execution_count": 25,
   "metadata": {
    "collapsed": false
   },
   "outputs": [],
   "source": [
    "param_results_dict[GLOBAL_VARS.NN_MODEL_NAME] = dict()\n",
    "param_results_dict[GLOBAL_VARS.NN_MODEL_NAME]['best_validation_metrics'] = best_validation_metrics\n",
    "# param_results_dict[GLOBAL_VARS.NN_MODEL_NAME]['epochs'] = len(history.history['val_loss'])\n",
    "param_results_dict[GLOBAL_VARS.NN_MODEL_NAME]['best_weights'] = metrics_callback.best_weights\n",
    "param_results_dict[GLOBAL_VARS.NN_MODEL_NAME]['best_val_loss'] = metrics_callback.best_val_loss\n",
    "param_results_dict[GLOBAL_VARS.NN_MODEL_NAME]['training_loss'] = metrics_callback.losses\n",
    "param_results_dict[GLOBAL_VARS.NN_MODEL_NAME]['validation_loss'] = metrics_callback.val_losses\n"
   ]
  },
  {
   "cell_type": "code",
   "execution_count": 26,
   "metadata": {
    "collapsed": true
   },
   "outputs": [],
   "source": [
    "pickle.dump(param_results_dict, open('/mnt/data/shalaby/sections_lstm.pkl', 'w'))"
   ]
  },
  {
   "cell_type": "markdown",
   "metadata": {
    "collapsed": true
   },
   "source": [
    "## Testing"
   ]
  },
  {
   "cell_type": "code",
   "execution_count": 21,
   "metadata": {
    "collapsed": true
   },
   "outputs": [],
   "source": [
    "classifications = valid_subclasses\n",
    "classifications_type = 'subclasses'"
   ]
  },
  {
   "cell_type": "code",
   "execution_count": 22,
   "metadata": {
    "collapsed": true
   },
   "outputs": [],
   "source": [
    "TEST_METRICS_FILENAME = '{}_level_{}_lstm_test_metrics.pkl'"
   ]
  },
  {
   "cell_type": "code",
   "execution_count": 23,
   "metadata": {
    "collapsed": false
   },
   "outputs": [
    {
     "name": "stdout",
     "output_type": "stream",
     "text": [
      "doc2vec_size_200_w_2_type_dm_concat_0_mean_1_trainwords_0_hs_0_neg_10_vocabsize_None/epoch_8\n"
     ]
    }
   ],
   "source": [
    "placeholder_model_name = 'doc2vec_size_{}_w_{}_type_{}_concat_{}_mean_{}_trainwords_{}_hs_{}_neg_{}_vocabsize_{}'.format(DOC2VEC_SIZE, \n",
    "                                                            DOC2VEC_WINDOW, \n",
    "                                                            'dm' if DOC2VEC_TYPE == 1 else 'pv-dbow',\n",
    "                                                            DOC2VEC_CONCAT, DOC2VEC_MEAN,\n",
    "                                                            DOC2VEC_TRAIN_WORDS,\n",
    "                                                            DOC2VEC_HIERARCHICAL_SAMPLE,DOC2VEC_NEGATIVE_SAMPLE_SIZE,\n",
    "                                                            str(DOC2VEC_MAX_VOCAB_SIZE))\n",
    "GLOBAL_VARS.DOC2VEC_MODEL_NAME = placeholder_model_name\n",
    "placeholder_model_name = os.path.join(placeholder_model_name, \"epoch_{}\")\n",
    "\n",
    "epoch = DOC2VEC_EPOCH\n",
    "\n",
    "GLOBAL_VARS.MODEL_NAME = placeholder_model_name.format(epoch)\n",
    "print GLOBAL_VARS.MODEL_NAME"
   ]
  },
  {
   "cell_type": "code",
   "execution_count": 24,
   "metadata": {
    "collapsed": true
   },
   "outputs": [],
   "source": [
    "NN_BATCH_SIZE = 4096"
   ]
  },
  {
   "cell_type": "code",
   "execution_count": 25,
   "metadata": {
    "collapsed": true
   },
   "outputs": [],
   "source": [
    "PARTS_LEVEL = 1"
   ]
  },
  {
   "cell_type": "code",
   "execution_count": 26,
   "metadata": {
    "collapsed": false
   },
   "outputs": [],
   "source": [
    "param_results_path = os.path.join(os.path.join(nn_parameter_search_location, GLOBAL_VARS.MODEL_NAME, \n",
    "                                           NN_PARAMETER_SEARCH_PREFIX.format(classifications_type, PARTS_LEVEL, NN_BATCH_SIZE)))\n",
    "param_results_dict = pickle.load(open(param_results_path))"
   ]
  },
  {
   "cell_type": "code",
   "execution_count": 27,
   "metadata": {
    "collapsed": false
   },
   "outputs": [
    {
     "name": "stderr",
     "output_type": "stream",
     "text": [
      "2017-04-17 04:16:45,196 : INFO : Loading Test Data from file\n"
     ]
    }
   ],
   "source": [
    "Xt, yt = get_test_data(classifications_type, PARTS_LEVEL)"
   ]
  },
  {
   "cell_type": "code",
   "execution_count": 29,
   "metadata": {
    "collapsed": true
   },
   "outputs": [],
   "source": [
    "NN_OUTPUT_NEURONS = len(classifications)\n",
    "NN_INPUT_NEURONS = Xt.shape[1]"
   ]
  },
  {
   "cell_type": "code",
   "execution_count": 30,
   "metadata": {
    "collapsed": false
   },
   "outputs": [
    {
     "data": {
      "text/plain": [
       "['lstm_optimizer_rmsprop_size_1000_w-drop_0.5_u-drop_0.5_stack_1_conv_None']"
      ]
     },
     "execution_count": 30,
     "metadata": {},
     "output_type": "execute_result"
    }
   ],
   "source": [
    "param_results_dict.keys()"
   ]
  },
  {
   "cell_type": "code",
   "execution_count": null,
   "metadata": {
    "collapsed": false
   },
   "outputs": [
    {
     "name": "stderr",
     "output_type": "stream",
     "text": [
      "2017-04-17 04:17:16,296 : INFO : ***************************************************************************************\n",
      "2017-04-17 04:17:16,298 : INFO : lstm_optimizer_rmsprop_size_1000_w-drop_0.5_u-drop_0.5_stack_1_conv_None\n"
     ]
    },
    {
     "name": "stdout",
     "output_type": "stream",
     "text": [
      "____________________________________________________________________________________________________\n",
      "Layer (type)                     Output Shape          Param #     Connected to                     \n",
      "====================================================================================================\n",
      "lstm_1000_w-drop_0.5_u-drop_0.5_ (None, 1000)          4804000     lstm_input_2[0][0]               \n",
      "____________________________________________________________________________________________________\n",
      "sigmoid_output (Dense)           (None, 940)           940940      lstm_1000_w-drop_0.5_u-drop_0.5_l\n",
      "====================================================================================================\n"
     ]
    },
    {
     "name": "stderr",
     "output_type": "stream",
     "text": [
      "2017-04-17 04:17:29,668 : INFO : Evaluating on Test Data using best weights\n"
     ]
    },
    {
     "name": "stdout",
     "output_type": "stream",
     "text": [
      "Total params: 5,744,940\n",
      "Trainable params: 5,744,940\n",
      "Non-trainable params: 0\n",
      "____________________________________________________________________________________________________\n"
     ]
    },
    {
     "name": "stderr",
     "output_type": "stream",
     "text": [
      "2017-04-17 04:25:28,464 : INFO : Generating Test Metrics\n"
     ]
    }
   ],
   "source": [
    "lstm_output_size = 1000\n",
    "w_dropout_do = 0.5\n",
    "u_dropout_do = 0.5\n",
    "stack_layers = 1\n",
    "conv_size = None\n",
    "conv_filter_length = None\n",
    "conv_max_pooling_length = None\n",
    "\n",
    "GLOBAL_VARS.NN_MODEL_NAME = 'lstm_optimizer_{}_size_{}_w-drop_{}_u-drop_{}_stack_{}_conv_{}'.format(NN_OPTIMIZER,\n",
    "    lstm_output_size,  w_dropout_do, u_dropout_do, stack_layers, str(conv_size)\n",
    ")\n",
    "if conv_size:\n",
    "    GLOBAL_VARS.NN_MODEL_NAME += '_conv-filter-length_{}_max-pooling-size_{}'.format(conv_filter_length, \n",
    "                                                                                     conv_max_pooling_length)\n",
    "                                                                                     \n",
    "if GLOBAL_VARS.NN_MODEL_NAME not in param_results_dict.keys():\n",
    "    print \"Can't find model: {}\".format(GLOBAL_VARS.NN_MODEL_NAME)\n",
    "    raise Exception()\n",
    "\n",
    "info('***************************************************************************************')\n",
    "info(GLOBAL_VARS.NN_MODEL_NAME)\n",
    "\n",
    "# creating the actual keras model\n",
    "model = create_keras_rnn_model(DOC2VEC_SIZE, NN_OUTPUT_NEURONS, \n",
    "                              lstm_output_size, w_dropout_do, u_dropout_do, stack_layers, conv_size, \n",
    "                               conv_filter_length, conv_max_pooling_length)\n",
    "model.summary()\n",
    "\n",
    "# get model best weights\n",
    "# weights = param_results_dict[GLOBAL_VARS.NN_MODEL_NAME]['metrics_callback'].best_weights\n",
    "weights = param_results_dict[GLOBAL_VARS.NN_MODEL_NAME]['best_weights']\n",
    "model.set_weights(weights)\n",
    "\n",
    "info('Evaluating on Test Data using best weights')\n",
    "ytp = model.predict(Xt)\n",
    "ytp_binary = get_binary_0_5(ytp)\n",
    "#print yvp\n",
    "info('Generating Test Metrics')\n",
    "test_metrics = get_metrics(yt, ytp, ytp_binary)\n",
    "print \"** Test Metrics: Cov Err: {:.3f}, Avg Labels: {:.3f}, \\n\\t\\t Top 1: {:.3f}, Top 3: {:.3f}, Top 5: {:.3f}, \\n\\t\\t F1 Micro: {:.3f}, F1 Macro: {:.3f}, Total Pos: {:,d}\".format(\n",
    "    test_metrics['coverage_error'], test_metrics['average_num_of_labels'], \n",
    "    test_metrics['top_1'], test_metrics['top_3'], test_metrics['top_5'], \n",
    "    test_metrics['f1_micro'], test_metrics['f1_macro'], test_metrics['total_positive'])\n",
    "\n",
    "ensure_disk_location_exists(os.path.join(nn_parameter_search_location, GLOBAL_VARS.MODEL_NAME))\n",
    "    \n",
    "pickle.dump(test_metrics, open(os.path.join(nn_parameter_search_location, GLOBAL_VARS.MODEL_NAME, \n",
    "                                            TEST_METRICS_FILENAME.format(classifications_type, PARTS_LEVEL)), 'w'))\n"
   ]
  },
  {
   "cell_type": "code",
   "execution_count": 32,
   "metadata": {
    "collapsed": false
   },
   "outputs": [
    {
     "name": "stdout",
     "output_type": "stream",
     "text": [
      "** Test Metrics: Cov Err: 6.531, Avg Labels: 1.340, \n",
      "\t\t Top 1: 0.606, Top 3: 0.749, Top 5: 0.830, \n",
      "\t\t F1 Micro: 0.559, F1 Macro: 0.186, Total Pos: 370,180\n"
     ]
    }
   ],
   "source": [
    "print \"** Test Metrics: Cov Err: {:.3f}, Avg Labels: {:.3f}, \\n\\t\\t Top 1: {:.3f}, Top 3: {:.3f}, Top 5: {:.3f}, \\n\\t\\t F1 Micro: {:.3f}, F1 Macro: {:.3f}, Total Pos: {:,d}\".format(\n",
    "    test_metrics['coverage_error'], test_metrics['average_num_of_labels'], \n",
    "    test_metrics['top_1'], test_metrics['top_3'], test_metrics['top_5'], \n",
    "    test_metrics['f1_micro'], test_metrics['f1_macro'], test_metrics['total_positive'])\n"
   ]
  },
  {
   "cell_type": "code",
   "execution_count": null,
   "metadata": {
    "collapsed": true
   },
   "outputs": [],
   "source": []
  }
 ],
 "metadata": {
  "kernelspec": {
   "display_name": "Python 2",
   "language": "python",
   "name": "python2"
  },
  "language_info": {
   "codemirror_mode": {
    "name": "ipython",
    "version": 2
   },
   "file_extension": ".py",
   "mimetype": "text/x-python",
   "name": "python",
   "nbconvert_exporter": "python",
   "pygments_lexer": "ipython2",
   "version": "2.7.12"
  }
 },
 "nbformat": 4,
 "nbformat_minor": 0
}
