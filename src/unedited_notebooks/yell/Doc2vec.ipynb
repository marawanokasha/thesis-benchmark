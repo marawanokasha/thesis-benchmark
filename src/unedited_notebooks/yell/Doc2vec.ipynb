{
 "cells": [
  {
   "cell_type": "code",
   "execution_count": 57,
   "metadata": {
    "collapsed": true
   },
   "outputs": [],
   "source": [
    "import json\n",
    "import nltk\n",
    "from nltk.tokenize import RegexpTokenizer\n",
    "import cPickle as pickle\n",
    "import string\n",
    "%matplotlib inline\n",
    "import matplotlib.pyplot as plt\n",
    "import matplotlib as mpl\n",
    "import numpy as np\n",
    "import gensim\n",
    "from gensim.models.doc2vec import Doc2Vec, LabeledSentence\n",
    "import logging\n",
    "logging.basicConfig(format='%(asctime)s : %(levelname)s : %(message)s', level=logging.INFO)\n",
    "root = logging.getLogger()\n",
    "root.addHandler(logging.StreamHandler())"
   ]
  },
  {
   "cell_type": "code",
   "execution_count": 106,
   "metadata": {
    "collapsed": true
   },
   "outputs": [],
   "source": [
    "STOP_WORDS = nltk.corpus.stopwords.words('english')\n",
    "NUMBER_INDICATOR = \"number_inidicator\"\n",
    "CURRENCY_INDICATOR = \"currency_inidicator\"\n",
    "CHEMICAL_INDICATOR = \"chemical_inidicator\"\n",
    "MIN_WORD_COUNT = 5\n",
    "MIN_SIZE = 0\n",
    "NUM_CORES = 7"
   ]
  },
  {
   "cell_type": "code",
   "execution_count": 38,
   "metadata": {
    "collapsed": true
   },
   "outputs": [],
   "source": [
    "def stemtokenizer(text):\n",
    "    \"\"\" MAIN FUNCTION to get clean stems out of a text. A list of clean stems are returned \"\"\"\n",
    "    tokenizer = RegexpTokenizer(r'\\s+', gaps=True)\n",
    "    tokens = tokenizer.tokenize(text)\n",
    "    stems = []  # result\n",
    "    for token in tokens:\n",
    "        stem = token.lower()\n",
    "        stem = stem.strip(string.punctuation)\n",
    "        if stem:\n",
    "            if is_number(stem):\n",
    "                stem = NUMBER_INDICATOR\n",
    "            elif is_currency(stem):\n",
    "                stem = CURRENCY_INDICATOR\n",
    "            elif is_chemical(stem):\n",
    "                stem = CHEMICAL_INDICATOR\n",
    "            elif is_stopword(stem):\n",
    "                stem = None\n",
    "            else:\n",
    "                stem = stem.strip(string.punctuation)\n",
    "            if stem and len(stem) >= MIN_SIZE:\n",
    "                # extract uni-grams\n",
    "                stems.append(stem)\n",
    "    del tokens\n",
    "    return stems\n",
    "\n",
    "def is_stopword(word):\n",
    "  return word in STOP_WORDS\n",
    "\n",
    "def is_number(str):\n",
    "    \"\"\" Returns true if given string is a number (float or int)\"\"\"\n",
    "    try:\n",
    "        float(str.replace(\",\", \"\"))\n",
    "        return True\n",
    "    except ValueError:\n",
    "        return False\n",
    "\n",
    "def is_currency(str):\n",
    "    return str[0] == \"$\"\n",
    "\n",
    "def is_chemical(str):\n",
    "    return str.count(\"-\") > 3"
   ]
  },
  {
   "cell_type": "code",
   "execution_count": 23,
   "metadata": {
    "collapsed": true
   },
   "outputs": [],
   "source": [
    "DOC2VEC_SEED = 1234"
   ]
  },
  {
   "cell_type": "code",
   "execution_count": 9,
   "metadata": {
    "collapsed": true
   },
   "outputs": [],
   "source": [
    "#training_file = \"/home/local/shalaby/docs_output_sample_100.json\"\n",
    "training_file = \"/home/local/shalaby/docs_output.json\"\n",
    "doc_classifications_map_file = \"/home/local/shalaby/doc_classification_map.pkl\"\n",
    "sections_file = \"/home/local/shalaby/sections.pkl\"\n",
    "training_docs_list_file = \"/home/local/shalaby/training_docs_list.pkl\""
   ]
  },
  {
   "cell_type": "code",
   "execution_count": 10,
   "metadata": {
    "collapsed": false
   },
   "outputs": [],
   "source": [
    "doc_classifications_map = pickle.load(open(doc_classifications_map_file))\n",
    "sections = pickle.load(open(sections_file))\n",
    "training_docs_list = pickle.load(open(training_docs_list_file))\n",
    "#open(sections_file).read()"
   ]
  },
  {
   "cell_type": "code",
   "execution_count": 135,
   "metadata": {
    "collapsed": false
   },
   "outputs": [
    {
     "data": {
      "text/plain": [
       "1286325"
      ]
     },
     "execution_count": 135,
     "metadata": {},
     "output_type": "execute_result"
    }
   ],
   "source": [
    "len(training_docs_list)"
   ]
  },
  {
   "cell_type": "code",
   "execution_count": 127,
   "metadata": {
    "collapsed": true
   },
   "outputs": [],
   "source": [
    "class LabeledLineSentence(object):\n",
    "    def __init__(self, filename):\n",
    "        self.filename = filename\n",
    "    def __iter__(self):\n",
    "        for line in open(self.filename):\n",
    "            (doc_id, text) = eval(line)\n",
    "            if doc_id in training_docs_list:\n",
    "                yield LabeledSentence(words=stemtokenizer(text), tags=[doc_id])"
   ]
  },
  {
   "cell_type": "code",
   "execution_count": 133,
   "metadata": {
    "collapsed": true
   },
   "outputs": [],
   "source": [
    "DOC2VEC_SIZE = 400\n",
    "DOC2VEC_WINDOW = 8\n",
    "DOC2VEC_MAX_VOCAB_SIZE = None\n",
    "DOC2VEC_SAMPLE = 1e-5\n",
    "DOC2VEC_TYPE = 1\n",
    "DOC2VEC_HIERARCHICAL_SAMPLE = 0\n",
    "DOC2VEC_NEGATIVE_SAMPLE_SIZE = 10\n",
    "DOC2VEC_CONCAT = 1\n",
    "DOC2VEC_MEAN = 0\n",
    "DOC2VEC_EPOCHS = 1\n",
    "REPORT_DELAY = 30 # report the progress every x seconds"
   ]
  },
  {
   "cell_type": "markdown",
   "metadata": {},
   "source": [
    "#### Load the model with the Vocab"
   ]
  },
  {
   "cell_type": "code",
   "execution_count": 114,
   "metadata": {
    "collapsed": false
   },
   "outputs": [
    {
     "name": "stderr",
     "output_type": "stream",
     "text": [
      "2016-08-16 15:45:13,435 : INFO : loading Doc2Vec object from /home/local/shalaby/models/doc2vec_size_400_w_8_type_dm_hs_0_iter_10\n",
      "loading Doc2Vec object from /home/local/shalaby/models/doc2vec_size_400_w_8_type_dm_hs_0_iter_10\n",
      "2016-08-16 15:45:59,375 : INFO : loading docvecs recursively from /home/local/shalaby/models/doc2vec_size_400_w_8_type_dm_hs_0_iter_10.docvecs.* with mmap=None\n",
      "loading docvecs recursively from /home/local/shalaby/models/doc2vec_size_400_w_8_type_dm_hs_0_iter_10.docvecs.* with mmap=None\n",
      "2016-08-16 15:45:59,378 : INFO : loading doctag_syn0 from /home/local/shalaby/models/doc2vec_size_400_w_8_type_dm_hs_0_iter_10.docvecs.doctag_syn0.npy with mmap=None\n",
      "loading doctag_syn0 from /home/local/shalaby/models/doc2vec_size_400_w_8_type_dm_hs_0_iter_10.docvecs.doctag_syn0.npy with mmap=None\n"
     ]
    }
   ],
   "source": [
    "file_name = 'doc2vec_size_{}_w_{}_type_{}_hs_{}_iter_{}'.format(DOC2VEC_SIZE, DOC2VEC_WINDOW, \n",
    "                                                                'dm' if DOC2VEC_TYPE == 1 else 'pv-dbow',\n",
    "                                                                DOC2VEC_HIERARCHICAL_SAMPLE,10)\n",
    "loaded_model = Doc2Vec.load('/home/local/shalaby/models/{}'.format(file_name))"
   ]
  },
  {
   "cell_type": "markdown",
   "metadata": {},
   "source": [
    "#### Initialize the model using the vocab from the previously trained model"
   ]
  },
  {
   "cell_type": "code",
   "execution_count": 107,
   "metadata": {
    "collapsed": false
   },
   "outputs": [],
   "source": [
    "model = Doc2Vec(size=DOC2VEC_SIZE , window=DOC2VEC_WINDOW, min_count=MIN_WORD_COUNT, \n",
    "                max_vocab_size= DOC2VEC_MAX_VOCAB_SIZE,\n",
    "                sample=DOC2VEC_SAMPLE, seed=DOC2VEC_SEED, workers=NUM_CORES,\n",
    "                # doc2vec algorithm dm=1 => PV-DM, dm=2 => PV-DBOW, PV-DM dictates CBOW for words\n",
    "                dm=DOC2VEC_TYPE,\n",
    "                # hs=0 => negative sampling, hs=1 => hierarchical softmax\n",
    "                hs=DOC2VEC_HIERARCHICAL_SAMPLE, negative=DOC2VEC_NEGATIVE_SAMPLE_SIZE,\n",
    "                dm_concat=DOC2VEC_CONCAT,\n",
    "                # would train words with skip-gram on top of cbow, we don't need that\n",
    "                dbow_words=0,\n",
    "                iter=DOC2VEC_EPOCHS)"
   ]
  },
  {
   "cell_type": "code",
   "execution_count": 136,
   "metadata": {
    "collapsed": false
   },
   "outputs": [
    {
     "name": "stdout",
     "output_type": "stream",
     "text": [
      "Doc2Vec(dm/c,d400,n10,w8,mc5,s1e-05,t7)\n"
     ]
    }
   ],
   "source": [
    "print model"
   ]
  },
  {
   "cell_type": "code",
   "execution_count": 117,
   "metadata": {
    "collapsed": false
   },
   "outputs": [
    {
     "name": "stderr",
     "output_type": "stream",
     "text": [
      "2016-08-16 15:49:28,921 : INFO : using concatenative 6800-dimensional layer1\n",
      "using concatenative 6800-dimensional layer1\n",
      "2016-08-16 15:49:28,925 : INFO : resetting layer weights\n",
      "resetting layer weights\n"
     ]
    }
   ],
   "source": [
    "model.reset_from(loaded_model)"
   ]
  },
  {
   "cell_type": "markdown",
   "metadata": {},
   "source": [
    "#### Now for the actual training"
   ]
  },
  {
   "cell_type": "code",
   "execution_count": null,
   "metadata": {
    "collapsed": false
   },
   "outputs": [
    {
     "name": "stderr",
     "output_type": "stream",
     "text": [
      "2016-08-16 16:14:12,345 : INFO : training model with 7 workers on 6147817 vocabulary and 6800 features, using sg=0 hs=0 sample=1e-05 negative=10\n",
      "training model with 7 workers on 6147817 vocabulary and 6800 features, using sg=0 hs=0 sample=1e-05 negative=10\n",
      "2016-08-16 16:14:12,348 : INFO : expecting 2009750 sentences, matching count from corpus used for vocabulary survey\n",
      "expecting 2009750 sentences, matching count from corpus used for vocabulary survey\n",
      "2016-08-16 16:14:15,268 : INFO : PROGRESS: at 0.00% examples, 1123 words/s, in_qsize 0, out_qsize 0\n",
      "PROGRESS: at 0.00% examples, 1123 words/s, in_qsize 0, out_qsize 0\n",
      "2016-08-16 16:14:45,317 : INFO : PROGRESS: at 0.01% examples, 6643 words/s, in_qsize 0, out_qsize 0\n",
      "PROGRESS: at 0.01% examples, 6643 words/s, in_qsize 0, out_qsize 0\n",
      "2016-08-16 16:15:15,544 : INFO : PROGRESS: at 0.02% examples, 7361 words/s, in_qsize 0, out_qsize 0\n",
      "PROGRESS: at 0.02% examples, 7361 words/s, in_qsize 0, out_qsize 0\n"
     ]
    }
   ],
   "source": [
    "model.train(sentences=LabeledLineSentence(training_file), report_delay=REPORT_DELAY)"
   ]
  },
  {
   "cell_type": "code",
   "execution_count": 134,
   "metadata": {
    "collapsed": false
   },
   "outputs": [
    {
     "name": "stderr",
     "output_type": "stream",
     "text": [
      "2016-08-20 15:22:45,778 : INFO : saving Doc2Vec object under /home/local/shalaby/models/doc2vec_size_400_w_8_type_dm_concat_1_mean_0_hs_0_iter_10, separately None\n",
      "saving Doc2Vec object under /home/local/shalaby/models/doc2vec_size_400_w_8_type_dm_concat_1_mean_0_hs_0_iter_10, separately None\n",
      "2016-08-20 15:22:45,783 : INFO : storing numpy array 'doctag_syn0' to /home/local/shalaby/models/doc2vec_size_400_w_8_type_dm_concat_1_mean_0_hs_0_iter_10.docvecs.doctag_syn0.npy\n",
      "storing numpy array 'doctag_syn0' to /home/local/shalaby/models/doc2vec_size_400_w_8_type_dm_concat_1_mean_0_hs_0_iter_10.docvecs.doctag_syn0.npy\n",
      "2016-08-20 15:22:50,011 : INFO : storing numpy array 'syn1neg' to /home/local/shalaby/models/doc2vec_size_400_w_8_type_dm_concat_1_mean_0_hs_0_iter_10.syn1neg.npy\n",
      "storing numpy array 'syn1neg' to /home/local/shalaby/models/doc2vec_size_400_w_8_type_dm_concat_1_mean_0_hs_0_iter_10.syn1neg.npy\n",
      "2016-08-20 15:40:39,540 : INFO : not storing attribute syn0norm\n",
      "not storing attribute syn0norm\n",
      "2016-08-20 15:40:39,545 : INFO : storing numpy array 'syn0' to /home/local/shalaby/models/doc2vec_size_400_w_8_type_dm_concat_1_mean_0_hs_0_iter_10.syn0.npy\n",
      "storing numpy array 'syn0' to /home/local/shalaby/models/doc2vec_size_400_w_8_type_dm_concat_1_mean_0_hs_0_iter_10.syn0.npy\n",
      "2016-08-20 15:42:06,912 : INFO : not storing attribute cum_table\n",
      "not storing attribute cum_table\n"
     ]
    }
   ],
   "source": [
    "# file_name = 'doc2vec_size_{}_w_{}_type_{}_hs_{}_iter_{}'.format(DOC2VEC_SIZE, DOC2VEC_WINDOW, \n",
    "#                                                                 'dm' if DOC2VEC_TYPE == 1 else 'pv-dbow',\n",
    "#                                                                 DOC2VEC_HIERARCHICAL_SAMPLE,DOC2VEC_NEGATIVE_SAMPLE_SIZE)\n",
    "file_name = 'doc2vec_size_{}_w_{}_type_{}_concat_{}_mean_{}_hs_{}_iter_{}'.format(DOC2VEC_SIZE, DOC2VEC_WINDOW, \n",
    "                                                                'dm' if DOC2VEC_TYPE == 1 else 'pv-dbow',\n",
    "                                                                DOC2VEC_CONCAT, DOC2VEC_MEAN,\n",
    "                                                                DOC2VEC_HIERARCHICAL_SAMPLE,DOC2VEC_NEGATIVE_SAMPLE_SIZE)\n",
    "model.save('/home/local/shalaby/models/{}'.format(file_name))"
   ]
  },
  {
   "cell_type": "code",
   "execution_count": 138,
   "metadata": {
    "collapsed": false
   },
   "outputs": [
    {
     "name": "stderr",
     "output_type": "stream",
     "text": [
      "2016-08-23 03:03:26,845 : INFO : precomputing L2-norms of word weight vectors\n",
      "precomputing L2-norms of word weight vectors\n",
      "2016-08-23 03:04:54,496 : INFO : saving Doc2Vec object under /home/local/shalaby/models/doc2vec_size_400_w_8_type_dm_concat_1_mean_0_hs_0_n_10_iter_1_reduced, separately None\n",
      "saving Doc2Vec object under /home/local/shalaby/models/doc2vec_size_400_w_8_type_dm_concat_1_mean_0_hs_0_n_10_iter_1_reduced, separately None\n",
      "2016-08-23 03:04:54,500 : INFO : storing numpy array 'doctag_syn0' to /home/local/shalaby/models/doc2vec_size_400_w_8_type_dm_concat_1_mean_0_hs_0_n_10_iter_1_reduced.docvecs.doctag_syn0.npy\n",
      "storing numpy array 'doctag_syn0' to /home/local/shalaby/models/doc2vec_size_400_w_8_type_dm_concat_1_mean_0_hs_0_n_10_iter_1_reduced.docvecs.doctag_syn0.npy\n",
      "2016-08-23 03:04:58,310 : INFO : storing numpy array 'syn1neg' to /home/local/shalaby/models/doc2vec_size_400_w_8_type_dm_concat_1_mean_0_hs_0_n_10_iter_1_reduced.syn1neg.npy\n",
      "storing numpy array 'syn1neg' to /home/local/shalaby/models/doc2vec_size_400_w_8_type_dm_concat_1_mean_0_hs_0_n_10_iter_1_reduced.syn1neg.npy\n",
      "2016-08-23 03:35:37,777 : INFO : not storing attribute syn0norm\n",
      "not storing attribute syn0norm\n",
      "2016-08-23 03:35:37,780 : INFO : storing numpy array 'syn0' to /home/local/shalaby/models/doc2vec_size_400_w_8_type_dm_concat_1_mean_0_hs_0_n_10_iter_1_reduced.syn0.npy\n",
      "storing numpy array 'syn0' to /home/local/shalaby/models/doc2vec_size_400_w_8_type_dm_concat_1_mean_0_hs_0_n_10_iter_1_reduced.syn0.npy\n",
      "2016-08-23 03:37:58,669 : INFO : not storing attribute cum_table\n",
      "not storing attribute cum_table\n"
     ]
    }
   ],
   "source": [
    "model.init_sims(replace=True)\n",
    "file_name2 = 'doc2vec_size_{}_w_{}_type_{}_concat_{}_mean_{}_hs_{}_n_{}_iter_{}_reduced'.format(DOC2VEC_SIZE, DOC2VEC_WINDOW, \n",
    "                                                                'dm' if DOC2VEC_TYPE == 1 else 'pv-dbow',\n",
    "                                                                DOC2VEC_CONCAT, DOC2VEC_MEAN,\n",
    "                                                                DOC2VEC_HIERARCHICAL_SAMPLE,DOC2VEC_NEGATIVE_SAMPLE_SIZE,\n",
    "                                                                DOC2VEC_EPOCHS)\n",
    "model.save('/home/local/shalaby/models/{}'.format(file_name2))"
   ]
  },
  {
   "cell_type": "code",
   "execution_count": 143,
   "metadata": {
    "collapsed": false
   },
   "outputs": [
    {
     "data": {
      "text/plain": [
       "array([[-0.43955073, -1.32353783,  1.2432549 , ..., -0.68703425,\n",
       "         0.49506971,  0.42362678],\n",
       "       [-0.23260127, -0.21256062,  0.2494466 , ...,  0.02838594,\n",
       "         0.22268367, -0.27669066],\n",
       "       [-0.43055332, -0.31037641, -0.11401954, ...,  1.22877729,\n",
       "        -1.10776615,  0.32154849],\n",
       "       ..., \n",
       "       [ 0.        ,  0.        ,  0.        , ...,  0.        ,\n",
       "         0.        ,  0.        ],\n",
       "       [ 0.        ,  0.        ,  0.        , ...,  0.        ,\n",
       "         0.        ,  0.        ],\n",
       "       [ 0.        ,  0.        ,  0.        , ...,  0.        ,\n",
       "         0.        ,  0.        ]], dtype=float32)"
      ]
     },
     "execution_count": 143,
     "metadata": {},
     "output_type": "execute_result"
    }
   ],
   "source": [
    "model.syn1neg"
   ]
  },
  {
   "cell_type": "code",
   "execution_count": 144,
   "metadata": {
    "collapsed": false
   },
   "outputs": [
    {
     "data": {
      "text/plain": [
       "array([  8.96196347e-03,  -9.76396073e-03,  -6.72388775e-03,\n",
       "         3.20586981e-03,   4.69769671e-04,   7.34611088e-03,\n",
       "        -8.80711421e-04,   3.23204976e-03,   3.56474938e-03,\n",
       "        -3.46648763e-03,   5.18059637e-03,  -8.29966087e-03,\n",
       "         1.24318302e-02,   5.47847198e-03,  -9.34473053e-03,\n",
       "        -5.72191086e-03,  -5.87124191e-03,   5.04978746e-03,\n",
       "         8.31436832e-04,   1.58426035e-02,  -1.14090461e-02,\n",
       "         5.27314749e-03,   6.38577016e-03,   4.08732332e-03,\n",
       "        -1.21463761e-02,  -3.54843866e-03,   3.03943735e-03,\n",
       "        -4.67541954e-03,  -5.42545691e-04,  -3.97595169e-04,\n",
       "        -6.84142811e-03,  -1.64750451e-03,   3.12010432e-03,\n",
       "        -1.49104802e-03,  -4.23465436e-03,   1.17774019e-02,\n",
       "        -1.50803113e-02,   3.81882675e-03,  -6.31576928e-04,\n",
       "        -8.79900006e-04,  -3.98690812e-03,   3.63986171e-03,\n",
       "        -4.62985598e-03,   1.51479954e-03,  -3.88556044e-03,\n",
       "         6.13796571e-03,  -1.66480225e-02,   1.35068782e-03,\n",
       "        -6.81436248e-03,   5.73706441e-03,  -9.58429126e-04,\n",
       "        -7.92352424e-04,   5.51025616e-04,  -1.01118870e-02,\n",
       "         1.14037516e-02,  -4.45137918e-03,   1.39205791e-02,\n",
       "         2.83961557e-03,   1.08295297e-02,  -2.27423594e-03,\n",
       "         5.08711347e-03,   4.37232433e-03,  -7.76109053e-03,\n",
       "        -2.84842332e-03,  -1.87758449e-03,   2.19950220e-03,\n",
       "         5.49193518e-03,  -1.54529640e-04,  -2.94276304e-03,\n",
       "        -5.16163243e-04,  -8.48420151e-03,  -3.34424246e-03,\n",
       "         8.46641883e-03,   5.52117033e-03,   5.77461813e-03,\n",
       "        -4.72029019e-03,   2.94955424e-03,   1.44221317e-02,\n",
       "        -5.96081931e-03,  -7.51463405e-04,  -7.14554172e-03,\n",
       "        -1.48334214e-03,   2.37785303e-03,  -5.05590579e-03,\n",
       "        -7.18431780e-03,   2.53052032e-03,   2.06936122e-04,\n",
       "         2.23371596e-03,  -3.27766198e-03,  -2.24566553e-04,\n",
       "         6.82728738e-03,  -5.45123871e-03,   1.33090548e-03,\n",
       "        -5.53927850e-03,   6.85996842e-03,  -1.22117379e-03,\n",
       "         4.53413837e-03,   5.48631244e-04,  -4.21142764e-03,\n",
       "         6.09567109e-03,  -1.30179413e-02,   8.81234277e-03,\n",
       "         5.83872607e-04,   8.95234849e-03,  -1.84717774e-03,\n",
       "         1.12859858e-02,  -6.49082009e-03,   2.29072291e-03,\n",
       "         4.80508944e-03,   4.60380036e-03,   1.06807146e-02,\n",
       "         8.25748593e-03,  -1.90210098e-03,   6.32548984e-03,\n",
       "         1.61306479e-03,   8.81751906e-03,  -5.56529360e-03,\n",
       "         1.37565692e-03,  -5.69106359e-03,   5.88905625e-03,\n",
       "        -5.89712383e-03,  -4.18487034e-04,   2.05888208e-02,\n",
       "        -6.60804193e-03,   8.81834887e-03,  -6.60811784e-03,\n",
       "         4.10184544e-03,  -2.63657118e-03,   1.04480069e-02,\n",
       "         8.46400391e-03,   1.01903975e-02,   7.92972278e-03,\n",
       "        -5.86748775e-03,  -1.87732314e-03,   5.92663791e-03,\n",
       "        -1.85261678e-03,   2.70693796e-03,  -3.33758024e-03,\n",
       "         7.45755015e-03,  -3.57360183e-03,   7.20469607e-03,\n",
       "         3.95730697e-03,  -5.36025362e-03,   6.55767880e-03,\n",
       "        -2.44164374e-03,  -9.38094396e-04,  -1.09591167e-02,\n",
       "         1.34332646e-02,  -5.14536072e-03,   6.34543598e-03,\n",
       "        -6.50055660e-03,  -7.11249246e-04,   9.56276199e-04,\n",
       "        -4.75655263e-03,   5.79405669e-03,  -1.01404656e-02,\n",
       "         1.31532392e-02,  -4.69162641e-03,  -4.01046331e-04,\n",
       "        -7.72544183e-04,  -3.83352069e-03,  -6.64008548e-03,\n",
       "         2.47977721e-03,   8.17955099e-03,   4.68851812e-03,\n",
       "         1.04673328e-02,   2.01200135e-03,  -3.46013508e-03,\n",
       "        -4.00719838e-03,  -1.74104027e-03,   7.24898418e-03,\n",
       "        -7.05126033e-04,  -1.13827235e-03,   1.83619873e-03,\n",
       "         2.67048576e-03,  -9.54477175e-04,  -1.08590731e-02,\n",
       "        -5.45446994e-04,   1.70045234e-02,   1.47804134e-02,\n",
       "         8.34979641e-04,   6.51814137e-03,  -3.04686604e-03,\n",
       "        -6.42416300e-03,   7.84103293e-03,   1.26497773e-03,\n",
       "         1.26603693e-02,   4.72660875e-03,   8.77988338e-03,\n",
       "        -4.75576939e-03,  -5.83033869e-03,  -1.33177368e-02,\n",
       "        -1.27006788e-02,   3.10930889e-03,  -1.00497843e-03,\n",
       "         2.41793715e-03,  -3.26406606e-03,   2.24234210e-03,\n",
       "        -4.82368516e-03,   8.44657607e-03,   1.39023468e-03,\n",
       "        -2.10829964e-03,   9.36215464e-03,  -1.17418112e-03,\n",
       "        -8.24012910e-04,   2.16228627e-02,   5.47086122e-03,\n",
       "        -1.52998753e-02,  -9.40521806e-03,  -1.05462270e-03,\n",
       "        -6.14198798e-04,   1.30305039e-02,   2.41329195e-03,\n",
       "         1.05604688e-02,   8.28157365e-03,   1.04227085e-02,\n",
       "         6.81560393e-03,  -1.72738405e-03,  -8.37862492e-04,\n",
       "        -7.35520059e-03,   1.28113981e-02,   7.47275946e-04,\n",
       "         2.99799722e-03,  -1.08892461e-02,   1.72910222e-03,\n",
       "         9.64215491e-03,  -6.82640867e-03,   6.32570079e-03,\n",
       "        -4.44493769e-03,   2.61350814e-03,   2.32799212e-03,\n",
       "         8.67393147e-03,  -5.47536230e-03,   1.37618324e-02,\n",
       "         3.38354672e-04,   8.11661500e-03,   5.53307030e-03,\n",
       "        -4.41027153e-03,   4.50282311e-03,   4.10866132e-03,\n",
       "        -5.30027505e-03,  -5.96545590e-03,  -3.89362220e-03,\n",
       "        -3.70394380e-04,  -1.85530968e-02,   5.03553636e-03,\n",
       "        -8.68694391e-04,   9.65579972e-03,  -3.01776198e-03,\n",
       "         6.94792601e-04,  -2.37094169e-03,   3.77629796e-04,\n",
       "         5.02642943e-03,  -1.78778265e-02,   4.39855549e-03,\n",
       "         2.30171741e-03,   1.37238752e-03,  -7.94257596e-03,\n",
       "         1.00283204e-02,   2.46043596e-03,  -4.92878817e-03,\n",
       "         1.46156948e-04,   5.50266076e-03,   5.97922644e-03,\n",
       "         1.23116393e-02,   8.58789869e-03,   8.64832941e-03,\n",
       "        -8.76636841e-05,   9.30869859e-03,   8.23761057e-03,\n",
       "         4.39934107e-03,  -4.65170480e-03,  -9.36370250e-03,\n",
       "         7.39294279e-04,  -2.78288731e-03,   3.27747501e-03,\n",
       "         6.81090076e-03,   1.82705442e-03,   8.26060586e-03,\n",
       "        -2.15102584e-04,   6.37947628e-03,  -1.36308634e-04,\n",
       "        -7.10009690e-03,  -5.55274484e-04,   7.91319180e-03,\n",
       "         4.76286747e-03,  -9.23627231e-04,  -3.68217123e-03,\n",
       "         1.18619145e-03,   1.72959780e-03,   9.03058753e-06,\n",
       "         1.08363712e-02,  -1.55029341e-03,   6.17824774e-03,\n",
       "         4.89009218e-03,  -3.27421026e-03,   3.77184968e-03,\n",
       "        -1.16783176e-02,   7.62868673e-04,   5.54056326e-03,\n",
       "        -3.07785231e-03,   1.33463531e-03,  -8.06724653e-03,\n",
       "         7.52432086e-03,  -2.69506266e-03,   1.62414124e-03,\n",
       "        -3.18212318e-03,  -2.28610286e-03,  -6.48283586e-03,\n",
       "        -8.14842293e-04,  -5.76759875e-03,   1.11609017e-02,\n",
       "        -9.79179889e-03,   1.21712135e-02,   5.52097918e-04,\n",
       "        -1.44926400e-03,   7.83343986e-03,   1.78093312e-03,\n",
       "        -8.47452134e-03,   8.70906934e-03,   2.01564026e-03,\n",
       "         2.55206064e-03,  -3.26489750e-03,   8.13161395e-03,\n",
       "        -2.34995247e-03,  -2.76068947e-03,  -7.62386422e-04,\n",
       "        -2.33986275e-03,   3.26704630e-03,  -1.18424054e-02,\n",
       "        -3.34379612e-03,  -8.54847953e-03,   5.30167576e-03,\n",
       "        -3.57152126e-03,  -4.25058231e-03,  -2.00809725e-03,\n",
       "        -3.12816957e-03,  -3.96540714e-03,  -9.55879688e-03,\n",
       "         1.03992103e-02,  -8.80236179e-03,   3.71838291e-03,\n",
       "         1.63293835e-02,   1.00200884e-02,  -7.26483203e-03,\n",
       "        -2.99258885e-04,   9.13266186e-03,  -2.45638599e-04,\n",
       "         6.95882924e-03,   8.90157279e-03,  -7.01341720e-04,\n",
       "         5.91926416e-03,  -1.33000575e-02,  -7.34243600e-04,\n",
       "         7.45810196e-03,   9.77879297e-03,  -1.16246333e-02,\n",
       "        -4.68856608e-03,  -1.91986328e-03,   2.18679220e-03,\n",
       "         8.17670207e-03,   5.60397375e-03,   7.05872755e-03,\n",
       "         1.05322925e-02,  -1.72164990e-03,  -4.77784517e-04,\n",
       "         2.92090757e-04,   1.06933166e-03,   2.31041922e-03,\n",
       "         9.75267496e-03,   1.85222528e-03,  -9.58263059e-04,\n",
       "        -3.07023595e-03,   2.13000551e-03,  -1.07747978e-02,\n",
       "         8.73875339e-03,   9.84157249e-03,  -1.07691518e-03,\n",
       "         1.08042452e-02,  -5.18613728e-03,   6.19159918e-03,\n",
       "        -1.02216401e-03,   6.18664955e-04,   6.17154967e-03,\n",
       "        -6.82039745e-03,  -2.04525981e-03,  -3.06575606e-03,\n",
       "         4.14859364e-03,   1.04862207e-03,   7.56917242e-03,\n",
       "         2.37353472e-03,  -5.65408450e-03,   6.02024375e-04,\n",
       "         3.90158873e-03,   7.64075806e-03,   2.29607895e-03,\n",
       "        -3.06328456e-03,  -4.00519988e-04,  -1.42973487e-03,\n",
       "        -1.02239726e-02], dtype=float32)"
      ]
     },
     "execution_count": 144,
     "metadata": {},
     "output_type": "execute_result"
    }
   ],
   "source": [
    "model.infer_vector(['the','moment'])"
   ]
  },
  {
   "cell_type": "code",
   "execution_count": 145,
   "metadata": {
    "collapsed": false
   },
   "outputs": [
    {
     "name": "stderr",
     "output_type": "stream",
     "text": [
      "2016-08-24 05:32:03,241 : INFO : loading Doc2Vec object from /home/local/shalaby/models/doc2vec_size_400_w_8_type_dm_concat_1_mean_0_hs_0_iter_10\n",
      "loading Doc2Vec object from /home/local/shalaby/models/doc2vec_size_400_w_8_type_dm_concat_1_mean_0_hs_0_iter_10\n",
      "2016-08-24 05:49:10,762 : INFO : loading docvecs recursively from /home/local/shalaby/models/doc2vec_size_400_w_8_type_dm_concat_1_mean_0_hs_0_iter_10.docvecs.* with mmap=r\n",
      "loading docvecs recursively from /home/local/shalaby/models/doc2vec_size_400_w_8_type_dm_concat_1_mean_0_hs_0_iter_10.docvecs.* with mmap=r\n",
      "2016-08-24 05:49:10,766 : INFO : loading doctag_syn0 from /home/local/shalaby/models/doc2vec_size_400_w_8_type_dm_concat_1_mean_0_hs_0_iter_10.docvecs.doctag_syn0.npy with mmap=r\n",
      "loading doctag_syn0 from /home/local/shalaby/models/doc2vec_size_400_w_8_type_dm_concat_1_mean_0_hs_0_iter_10.docvecs.doctag_syn0.npy with mmap=r\n",
      "2016-08-24 05:49:10,808 : INFO : loading syn1neg from /home/local/shalaby/models/doc2vec_size_400_w_8_type_dm_concat_1_mean_0_hs_0_iter_10.syn1neg.npy with mmap=r\n",
      "loading syn1neg from /home/local/shalaby/models/doc2vec_size_400_w_8_type_dm_concat_1_mean_0_hs_0_iter_10.syn1neg.npy with mmap=r\n",
      "2016-08-24 05:49:10,820 : INFO : loading syn0 from /home/local/shalaby/models/doc2vec_size_400_w_8_type_dm_concat_1_mean_0_hs_0_iter_10.syn0.npy with mmap=r\n",
      "loading syn0 from /home/local/shalaby/models/doc2vec_size_400_w_8_type_dm_concat_1_mean_0_hs_0_iter_10.syn0.npy with mmap=r\n",
      "2016-08-24 05:49:10,823 : INFO : setting ignored attribute syn0norm to None\n",
      "setting ignored attribute syn0norm to None\n",
      "2016-08-24 05:49:10,824 : INFO : setting ignored attribute cum_table to None\n",
      "setting ignored attribute cum_table to None\n"
     ]
    }
   ],
   "source": [
    "file_name3 = 'doc2vec_size_{}_w_{}_type_{}_concat_{}_mean_{}_hs_{}_iter_{}'.format(DOC2VEC_SIZE, DOC2VEC_WINDOW, \n",
    "                                                                'dm' if DOC2VEC_TYPE == 1 else 'pv-dbow',\n",
    "                                                                DOC2VEC_CONCAT, DOC2VEC_MEAN,\n",
    "                                                                DOC2VEC_HIERARCHICAL_SAMPLE,DOC2VEC_NEGATIVE_SAMPLE_SIZE)\n",
    "\n",
    "non_reduced_loaded_model = Doc2Vec.load('/home/local/shalaby/models/{}'.format(file_name3), mmap='r')"
   ]
  },
  {
   "cell_type": "code",
   "execution_count": 146,
   "metadata": {
    "collapsed": false
   },
   "outputs": [
    {
     "data": {
      "text/plain": [
       "array([  1.17399811e-03,  -1.20847160e-03,   2.50299257e-04,\n",
       "        -1.02183491e-03,  -5.92688273e-04,   4.04232065e-04,\n",
       "         5.30141813e-04,  -1.21462101e-03,   2.35888321e-04,\n",
       "        -9.63273633e-04,   4.93177795e-04,   1.06767612e-03,\n",
       "        -7.77803289e-05,   1.23400812e-03,  -1.05915370e-03,\n",
       "        -7.65450241e-04,  -4.63319448e-04,   7.90806807e-05,\n",
       "         8.18747678e-04,  -1.16587011e-03,   3.53409414e-04,\n",
       "         1.04298000e-03,  -2.02660798e-04,   7.68282101e-04,\n",
       "         1.61600663e-04,   1.02472585e-03,   6.83164690e-04,\n",
       "        -7.96813285e-04,  -1.04432495e-03,  -8.92850003e-05,\n",
       "         8.63626890e-04,   3.66744294e-04,  -1.07038720e-03,\n",
       "         5.31663420e-04,  -1.05088239e-03,  -2.45142524e-04,\n",
       "         1.81044001e-04,  -5.31950151e-04,   1.54348527e-04,\n",
       "         9.70647437e-04,   1.22578791e-03,   2.76911247e-04,\n",
       "         2.35898275e-04,  -3.16417922e-04,  -8.34109203e-04,\n",
       "         4.32647823e-04,  -9.00360639e-04,   2.29439989e-04,\n",
       "        -1.17896858e-03,   5.22023591e-04,   6.69952191e-04,\n",
       "        -8.95135512e-04,   9.19823826e-04,  -1.15086173e-03,\n",
       "         7.66039244e-04,  -1.15352985e-03,  -7.73643726e-04,\n",
       "        -1.08441932e-03,   1.11412141e-03,  -3.86247382e-04,\n",
       "         9.59510624e-04,  -8.05115385e-04,  -3.31916875e-04,\n",
       "         1.16205274e-03,  -1.09905482e-03,  -1.09771232e-03,\n",
       "         1.15749903e-03,   1.22344602e-04,   1.11171952e-03,\n",
       "         3.99082579e-04,   5.28115954e-04,  -1.06009957e-03,\n",
       "         1.10327404e-04,  -3.67415952e-04,  -1.07423193e-03,\n",
       "         1.05788873e-03,   7.43143319e-04,  -8.24257673e-04,\n",
       "        -9.72306763e-04,   1.14522479e-03,  -8.58469648e-05,\n",
       "        -2.90862867e-04,   5.14399784e-04,   1.04031118e-03,\n",
       "         8.01984279e-04,  -5.53557882e-04,  -2.44974683e-04,\n",
       "        -1.24174019e-03,  -8.87346861e-04,   8.88375565e-04,\n",
       "         9.17934405e-04,   1.08695973e-03,  -8.53708043e-05,\n",
       "         7.79881884e-05,   4.55386791e-04,  -1.05422107e-03,\n",
       "        -2.95907201e-04,  -9.50273417e-04,   1.04900508e-04,\n",
       "        -9.50900197e-04,   8.58293351e-05,  -1.11366110e-03,\n",
       "         5.99529885e-04,  -5.54211205e-04,   1.10920839e-04,\n",
       "        -1.11339358e-03,  -4.43791032e-05,   1.16265193e-03,\n",
       "         1.11714180e-03,   1.02911703e-03,   2.35935935e-04,\n",
       "         1.18552335e-03,   7.38753821e-04,   7.50718522e-04,\n",
       "        -3.55667435e-04,  -9.62633698e-04,   4.38377574e-05,\n",
       "         1.83088559e-04,  -9.29262838e-04,   3.29670816e-04,\n",
       "         8.00379494e-04,   8.23200273e-04,  -3.66929569e-04,\n",
       "         2.68650329e-04,   8.03202493e-05,  -1.07355008e-04,\n",
       "        -3.22066626e-04,  -7.06097344e-04,   7.72440981e-04,\n",
       "        -5.08516328e-04,  -1.22353772e-03,   9.50095535e-04,\n",
       "         1.23985705e-03,  -1.40268268e-04,   8.65667302e-04,\n",
       "         3.61733546e-05,  -7.18348019e-04,   6.88208384e-04,\n",
       "        -2.48155702e-04,  -2.40595211e-04,  -3.12246557e-04,\n",
       "         6.25267974e-04,  -1.86723890e-04,  -3.44123371e-04,\n",
       "        -9.72105307e-04,   6.29265560e-04,   1.51147164e-04,\n",
       "         7.66085577e-04,   4.24262224e-04,  -6.11731841e-04,\n",
       "         2.82892870e-04,  -3.09881434e-04,  -5.19707100e-04,\n",
       "        -1.04934291e-03,   1.11533492e-03,   6.02283166e-04,\n",
       "        -4.90362982e-05,  -8.23290320e-05,   1.22373959e-03,\n",
       "        -8.36700492e-04,  -1.20412256e-03,   7.89845304e-04,\n",
       "        -1.05590781e-03,  -2.45659088e-04,  -1.53975401e-04,\n",
       "        -3.66160355e-04,   7.07621948e-05,   1.15439587e-03,\n",
       "        -6.31873496e-04,   2.89381569e-04,  -2.22906237e-04,\n",
       "         9.39379912e-04,  -1.15824107e-03,  -6.27649890e-04,\n",
       "         9.15117445e-04,  -7.06528022e-04,  -9.75336530e-04,\n",
       "        -1.51018918e-04,  -1.11387833e-03,   6.85843057e-04,\n",
       "         6.60899677e-04,  -1.08062907e-03,  -3.00379790e-04,\n",
       "        -6.82592974e-04,   5.29684825e-04,   4.93369123e-04,\n",
       "        -7.50071311e-04,   1.66570477e-04,   3.45852342e-04,\n",
       "        -1.16242981e-03,  -2.56854895e-04,  -4.88290279e-05,\n",
       "         1.75204568e-05,  -2.14782194e-04,   8.19860550e-04,\n",
       "        -7.51307874e-04,   9.43878142e-04,  -2.60626490e-04,\n",
       "        -1.13790634e-03,  -5.56424166e-05,  -1.95828616e-04,\n",
       "        -3.96541145e-04,   4.24551225e-04,   7.22618308e-04,\n",
       "         5.59103093e-04,  -5.65806578e-04,  -3.46974964e-04,\n",
       "        -7.13599671e-04,   2.53354083e-04,   4.76278015e-04,\n",
       "         5.38784516e-05,  -9.27747576e-04,  -7.77962850e-05,\n",
       "         9.75509582e-04,  -6.63025421e-04,  -3.02907021e-04,\n",
       "        -2.85061076e-04,  -3.40140286e-05,  -3.01228720e-04,\n",
       "         8.74056190e-04,  -5.64429618e-04,  -1.02191341e-04,\n",
       "         5.45786927e-04,  -6.23327505e-04,   1.22691994e-03,\n",
       "         6.85133564e-04,   1.91172774e-04,   1.03045336e-03,\n",
       "        -3.86390253e-04,   7.59457529e-04,   6.02386790e-05,\n",
       "        -3.39983439e-04,  -8.60287284e-04,   6.46603410e-04,\n",
       "         1.22930898e-04,   7.33366178e-04,  -2.16522953e-04,\n",
       "         1.19205355e-03,  -6.74931624e-04,   2.57281587e-04,\n",
       "        -3.79483332e-04,  -4.00723540e-04,  -6.45431690e-04,\n",
       "         1.11073582e-03,   6.11829164e-04,   1.11774809e-03,\n",
       "        -1.05320732e-03,  -1.40815682e-04,  -7.95171189e-04,\n",
       "        -2.01879753e-04,   1.02049345e-03,  -1.05178752e-03,\n",
       "         1.20729033e-03,  -6.20978302e-04,   1.16598723e-03,\n",
       "         4.45500307e-04,   1.16076891e-03,  -5.38383960e-04,\n",
       "        -3.33236967e-05,  -5.25464071e-04,   8.70486183e-05,\n",
       "         5.22012357e-04,   4.61749478e-05,   7.92723906e-04,\n",
       "         3.74711439e-04,   1.77514201e-04,   4.96562163e-04,\n",
       "         1.35888738e-04,   9.94060771e-04,  -9.80911194e-04,\n",
       "         1.02405192e-03,  -9.40580561e-04,  -1.22065132e-03,\n",
       "         4.72156884e-04,  -1.32879431e-04,   1.11293443e-03,\n",
       "         1.10978121e-03,  -8.46659008e-04,  -9.44198924e-04,\n",
       "        -7.28121086e-04,  -7.32434506e-04,  -6.07243623e-04,\n",
       "        -2.67135154e-04,   6.43931678e-04,  -9.28889449e-07,\n",
       "        -4.91632556e-04,   1.71762222e-04,   4.14882699e-04,\n",
       "         8.55533988e-04,  -8.14617320e-04,   2.74257269e-04,\n",
       "         1.05893596e-04,   8.23257506e-05,   4.83141514e-04,\n",
       "        -1.52193852e-05,   5.58860193e-04,  -3.50707880e-04,\n",
       "        -7.85378579e-05,  -6.49897789e-04,   3.95955663e-04,\n",
       "         1.11054152e-03,   1.99559465e-04,  -1.05966546e-03,\n",
       "        -1.16089499e-03,   7.74944318e-04,  -6.46008470e-04,\n",
       "        -1.03610219e-03,  -1.14588498e-03,   4.42387129e-04,\n",
       "         7.85294396e-04,   5.18155633e-04,   8.02959432e-04,\n",
       "         3.05330032e-05,   1.10077811e-03,  -5.86052542e-04,\n",
       "        -4.04407183e-04,   6.03004475e-04,  -8.76379781e-04,\n",
       "        -5.26882533e-04,   5.98754734e-04,   9.01072519e-04,\n",
       "         6.50328118e-04,   5.26011165e-04,  -1.14247692e-03,\n",
       "         1.05140242e-03,  -6.55331125e-04,   1.01158791e-03,\n",
       "         9.55359777e-04,  -6.90067129e-04,   1.17976766e-03,\n",
       "        -1.88083781e-04,  -9.33361734e-05,   1.14072522e-03,\n",
       "        -2.87212286e-04,   2.59656255e-04,  -8.01432587e-04,\n",
       "        -9.96182323e-04,  -1.80118193e-04,  -8.68996140e-04,\n",
       "        -9.84945334e-04,  -5.30501187e-04,   7.88086094e-04,\n",
       "         1.17298902e-03,   1.92994979e-04,   1.03044021e-03,\n",
       "        -7.82958756e-04,   3.62006162e-04,  -5.02082577e-04,\n",
       "         1.00829010e-03,   9.63885221e-04,  -1.11799873e-03,\n",
       "         8.19011824e-04,  -9.18301870e-04,  -1.14646496e-03,\n",
       "         9.52724484e-04,   4.75297595e-04,   2.91631659e-06,\n",
       "        -9.44621919e-04,  -1.06261147e-03,  -1.07744557e-03,\n",
       "         9.53196082e-04,   1.10929727e-03,  -4.32726345e-04,\n",
       "        -3.95009614e-04,  -4.70364321e-04,  -5.15309162e-04,\n",
       "        -6.10042596e-04,  -8.42590409e-04,   2.17651905e-05,\n",
       "         5.35543426e-04,  -6.93485665e-04,  -7.97552755e-04,\n",
       "         2.36822671e-04,   5.21513808e-04,  -2.57758831e-04,\n",
       "        -6.87311229e-04,  -6.28176844e-04,   1.00414174e-04,\n",
       "         7.02471298e-04,   1.23930542e-04,  -8.20259505e-04,\n",
       "         3.85042280e-04,   8.77093291e-04,  -5.01565737e-05,\n",
       "         1.76273079e-05,  -6.98710093e-04,  -6.49523456e-04,\n",
       "        -1.03038573e-03,   1.00858312e-03,   7.64523109e-04,\n",
       "         3.84699175e-04,  -2.55118619e-04,   4.12832218e-04,\n",
       "         7.45073252e-04,   7.14135822e-04,  -5.70989272e-04,\n",
       "        -5.40457899e-04,  -5.80665364e-04,   1.05698418e-03,\n",
       "        -1.07916957e-03], dtype=float32)"
      ]
     },
     "execution_count": 146,
     "metadata": {},
     "output_type": "execute_result"
    }
   ],
   "source": [
    "non_reduced_loaded_model.infer_vector(['the','moment'])"
   ]
  },
  {
   "cell_type": "code",
   "execution_count": 76,
   "metadata": {
    "collapsed": false
   },
   "outputs": [
    {
     "name": "stderr",
     "output_type": "stream",
     "text": [
      "2016-08-16 14:34:05,764 : INFO : precomputing L2-norms of word weight vectors\n",
      "precomputing L2-norms of word weight vectors\n"
     ]
    },
    {
     "ename": "AttributeError",
     "evalue": "'Doc2Vec' object has no attribute 'syn0'",
     "output_type": "error",
     "traceback": [
      "\u001b[1;31m---------------------------------------------------------------------------\u001b[0m",
      "\u001b[1;31mAttributeError\u001b[0m                            Traceback (most recent call last)",
      "\u001b[1;32m<ipython-input-76-aa93d828dd27>\u001b[0m in \u001b[0;36m<module>\u001b[1;34m()\u001b[0m\n\u001b[1;32m----> 1\u001b[1;33m \u001b[0mmodel\u001b[0m\u001b[1;33m.\u001b[0m\u001b[0mmost_similar\u001b[0m\u001b[1;33m(\u001b[0m\u001b[1;34m'08887671'\u001b[0m\u001b[1;33m)\u001b[0m\u001b[1;33m\u001b[0m\u001b[0m\n\u001b[0m",
      "\u001b[1;32m/home/stud/shalaby/.virtualenv/thesis-env/lib/python2.7/site-packages/gensim/models/word2vec.pyc\u001b[0m in \u001b[0;36mmost_similar\u001b[1;34m(self, positive, negative, topn, restrict_vocab)\u001b[0m\n\u001b[0;32m   1206\u001b[0m \u001b[1;33m\u001b[0m\u001b[0m\n\u001b[0;32m   1207\u001b[0m         \"\"\"\n\u001b[1;32m-> 1208\u001b[1;33m         \u001b[0mself\u001b[0m\u001b[1;33m.\u001b[0m\u001b[0minit_sims\u001b[0m\u001b[1;33m(\u001b[0m\u001b[1;33m)\u001b[0m\u001b[1;33m\u001b[0m\u001b[0m\n\u001b[0m\u001b[0;32m   1209\u001b[0m \u001b[1;33m\u001b[0m\u001b[0m\n\u001b[0;32m   1210\u001b[0m         \u001b[1;32mif\u001b[0m \u001b[0misinstance\u001b[0m\u001b[1;33m(\u001b[0m\u001b[0mpositive\u001b[0m\u001b[1;33m,\u001b[0m \u001b[0mstring_types\u001b[0m\u001b[1;33m)\u001b[0m \u001b[1;32mand\u001b[0m \u001b[1;32mnot\u001b[0m \u001b[0mnegative\u001b[0m\u001b[1;33m:\u001b[0m\u001b[1;33m\u001b[0m\u001b[0m\n",
      "\u001b[1;32m/home/stud/shalaby/.virtualenv/thesis-env/lib/python2.7/site-packages/gensim/models/word2vec.pyc\u001b[0m in \u001b[0;36minit_sims\u001b[1;34m(self, replace)\u001b[0m\n\u001b[0;32m   1536\u001b[0m                     \u001b[1;32mdel\u001b[0m \u001b[0mself\u001b[0m\u001b[1;33m.\u001b[0m\u001b[0msyn1\u001b[0m\u001b[1;33m\u001b[0m\u001b[0m\n\u001b[0;32m   1537\u001b[0m             \u001b[1;32melse\u001b[0m\u001b[1;33m:\u001b[0m\u001b[1;33m\u001b[0m\u001b[0m\n\u001b[1;32m-> 1538\u001b[1;33m                 \u001b[0mself\u001b[0m\u001b[1;33m.\u001b[0m\u001b[0msyn0norm\u001b[0m \u001b[1;33m=\u001b[0m \u001b[1;33m(\u001b[0m\u001b[0mself\u001b[0m\u001b[1;33m.\u001b[0m\u001b[0msyn0\u001b[0m \u001b[1;33m/\u001b[0m \u001b[0msqrt\u001b[0m\u001b[1;33m(\u001b[0m\u001b[1;33m(\u001b[0m\u001b[0mself\u001b[0m\u001b[1;33m.\u001b[0m\u001b[0msyn0\u001b[0m \u001b[1;33m**\u001b[0m \u001b[1;36m2\u001b[0m\u001b[1;33m)\u001b[0m\u001b[1;33m.\u001b[0m\u001b[0msum\u001b[0m\u001b[1;33m(\u001b[0m\u001b[1;33m-\u001b[0m\u001b[1;36m1\u001b[0m\u001b[1;33m)\u001b[0m\u001b[1;33m)\u001b[0m\u001b[1;33m[\u001b[0m\u001b[1;33m.\u001b[0m\u001b[1;33m.\u001b[0m\u001b[1;33m.\u001b[0m\u001b[1;33m,\u001b[0m \u001b[0mnewaxis\u001b[0m\u001b[1;33m]\u001b[0m\u001b[1;33m)\u001b[0m\u001b[1;33m.\u001b[0m\u001b[0mastype\u001b[0m\u001b[1;33m(\u001b[0m\u001b[0mREAL\u001b[0m\u001b[1;33m)\u001b[0m\u001b[1;33m\u001b[0m\u001b[0m\n\u001b[0m\u001b[0;32m   1539\u001b[0m \u001b[1;33m\u001b[0m\u001b[0m\n\u001b[0;32m   1540\u001b[0m     \u001b[1;32mdef\u001b[0m \u001b[0mestimate_memory\u001b[0m\u001b[1;33m(\u001b[0m\u001b[0mself\u001b[0m\u001b[1;33m,\u001b[0m \u001b[0mvocab_size\u001b[0m\u001b[1;33m=\u001b[0m\u001b[0mNone\u001b[0m\u001b[1;33m,\u001b[0m \u001b[0mreport\u001b[0m\u001b[1;33m=\u001b[0m\u001b[0mNone\u001b[0m\u001b[1;33m)\u001b[0m\u001b[1;33m:\u001b[0m\u001b[1;33m\u001b[0m\u001b[0m\n",
      "\u001b[1;31mAttributeError\u001b[0m: 'Doc2Vec' object has no attribute 'syn0'"
     ]
    }
   ],
   "source": [
    "model.most_similar('08887671')"
   ]
  },
  {
   "cell_type": "code",
   "execution_count": 77,
   "metadata": {
    "collapsed": false
   },
   "outputs": [
    {
     "ename": "AttributeError",
     "evalue": "'Doc2Vec' object has no attribute 'syn0'",
     "output_type": "error",
     "traceback": [
      "\u001b[1;31m---------------------------------------------------------------------------\u001b[0m",
      "\u001b[1;31mAttributeError\u001b[0m                            Traceback (most recent call last)",
      "\u001b[1;32m<ipython-input-77-717e96f4d1c4>\u001b[0m in \u001b[0;36m<module>\u001b[1;34m()\u001b[0m\n\u001b[1;32m----> 1\u001b[1;33m \u001b[0mmodel\u001b[0m\u001b[1;33m[\u001b[0m\u001b[1;34m'08887671'\u001b[0m\u001b[1;33m]\u001b[0m\u001b[1;33m\u001b[0m\u001b[0m\n\u001b[0m",
      "\u001b[1;32m/home/stud/shalaby/.virtualenv/thesis-env/lib/python2.7/site-packages/gensim/models/word2vec.pyc\u001b[0m in \u001b[0;36m__getitem__\u001b[1;34m(self, words)\u001b[0m\n\u001b[0;32m   1474\u001b[0m         \u001b[1;32mif\u001b[0m \u001b[0misinstance\u001b[0m\u001b[1;33m(\u001b[0m\u001b[0mwords\u001b[0m\u001b[1;33m,\u001b[0m \u001b[0mstring_types\u001b[0m\u001b[1;33m)\u001b[0m\u001b[1;33m:\u001b[0m\u001b[1;33m\u001b[0m\u001b[0m\n\u001b[0;32m   1475\u001b[0m             \u001b[1;31m# allow calls like trained_model['office'], as a shorthand for trained_model[['office']]\u001b[0m\u001b[1;33m\u001b[0m\u001b[1;33m\u001b[0m\u001b[0m\n\u001b[1;32m-> 1476\u001b[1;33m             \u001b[1;32mreturn\u001b[0m \u001b[0mself\u001b[0m\u001b[1;33m.\u001b[0m\u001b[0msyn0\u001b[0m\u001b[1;33m[\u001b[0m\u001b[0mself\u001b[0m\u001b[1;33m.\u001b[0m\u001b[0mvocab\u001b[0m\u001b[1;33m[\u001b[0m\u001b[0mwords\u001b[0m\u001b[1;33m]\u001b[0m\u001b[1;33m.\u001b[0m\u001b[0mindex\u001b[0m\u001b[1;33m]\u001b[0m\u001b[1;33m\u001b[0m\u001b[0m\n\u001b[0m\u001b[0;32m   1477\u001b[0m \u001b[1;33m\u001b[0m\u001b[0m\n\u001b[0;32m   1478\u001b[0m         \u001b[1;32mreturn\u001b[0m \u001b[0mvstack\u001b[0m\u001b[1;33m(\u001b[0m\u001b[1;33m[\u001b[0m\u001b[0mself\u001b[0m\u001b[1;33m.\u001b[0m\u001b[0msyn0\u001b[0m\u001b[1;33m[\u001b[0m\u001b[0mself\u001b[0m\u001b[1;33m.\u001b[0m\u001b[0mvocab\u001b[0m\u001b[1;33m[\u001b[0m\u001b[0mword\u001b[0m\u001b[1;33m]\u001b[0m\u001b[1;33m.\u001b[0m\u001b[0mindex\u001b[0m\u001b[1;33m]\u001b[0m \u001b[1;32mfor\u001b[0m \u001b[0mword\u001b[0m \u001b[1;32min\u001b[0m \u001b[0mwords\u001b[0m\u001b[1;33m]\u001b[0m\u001b[1;33m)\u001b[0m\u001b[1;33m\u001b[0m\u001b[0m\n",
      "\u001b[1;31mAttributeError\u001b[0m: 'Doc2Vec' object has no attribute 'syn0'"
     ]
    }
   ],
   "source": [
    "model['08887671']"
   ]
  },
  {
   "cell_type": "code",
   "execution_count": 116,
   "metadata": {
    "collapsed": false
   },
   "outputs": [
    {
     "data": {
      "text/plain": [
       "6147817"
      ]
     },
     "execution_count": 116,
     "metadata": {},
     "output_type": "execute_result"
    }
   ],
   "source": [
    "len(loaded_model.vocab)"
   ]
  },
  {
   "cell_type": "code",
   "execution_count": 99,
   "metadata": {
    "collapsed": false
   },
   "outputs": [],
   "source": [
    "from collections import defaultdict\n",
    "model.raw_vocab = defaultdict(int)"
   ]
  },
  {
   "cell_type": "code",
   "execution_count": 100,
   "metadata": {
    "collapsed": false
   },
   "outputs": [
    {
     "data": {
      "text/plain": [
       "defaultdict(int, {})"
      ]
     },
     "execution_count": 100,
     "metadata": {},
     "output_type": "execute_result"
    }
   ],
   "source": [
    "model.raw_vocab"
   ]
  },
  {
   "cell_type": "code",
   "execution_count": 83,
   "metadata": {
    "collapsed": false
   },
   "outputs": [
    {
     "data": {
      "text/plain": [
       "['__class__',\n",
       " '__contains__',\n",
       " '__delattr__',\n",
       " '__dict__',\n",
       " '__doc__',\n",
       " '__format__',\n",
       " '__getattribute__',\n",
       " '__getitem__',\n",
       " '__hash__',\n",
       " '__ignoreds',\n",
       " '__init__',\n",
       " '__module__',\n",
       " '__new__',\n",
       " '__numpys',\n",
       " '__recursive_saveloads',\n",
       " '__reduce__',\n",
       " '__reduce_ex__',\n",
       " '__repr__',\n",
       " '__scipys',\n",
       " '__setattr__',\n",
       " '__sizeof__',\n",
       " '__slotnames__',\n",
       " '__str__',\n",
       " '__subclasshook__',\n",
       " '__weakref__',\n",
       " '_adapt_by_suffix',\n",
       " '_do_train_job',\n",
       " '_load_specials',\n",
       " '_raw_word_count',\n",
       " '_save_specials',\n",
       " '_smart_save',\n",
       " 'accuracy',\n",
       " 'alpha',\n",
       " 'batch_words',\n",
       " 'build_vocab',\n",
       " 'cbow_mean',\n",
       " 'clear_sims',\n",
       " 'comment',\n",
       " 'corpus_count',\n",
       " 'create_binary_tree',\n",
       " 'dbow',\n",
       " 'dbow_words',\n",
       " 'dm',\n",
       " 'dm_concat',\n",
       " 'dm_tag_count',\n",
       " 'docvecs',\n",
       " 'doesnt_match',\n",
       " 'estimate_memory',\n",
       " 'finalize_vocab',\n",
       " 'hashfxn',\n",
       " 'hs',\n",
       " 'index2word',\n",
       " 'infer_vector',\n",
       " 'init_sims',\n",
       " 'intersect_word2vec_format',\n",
       " 'iter',\n",
       " 'layer1_size',\n",
       " 'load',\n",
       " 'load_word2vec_format',\n",
       " 'log_accuracy',\n",
       " 'make_cum_table',\n",
       " 'max_vocab_size',\n",
       " 'min_alpha',\n",
       " 'min_alpha_yet_reached',\n",
       " 'min_count',\n",
       " 'most_similar',\n",
       " 'most_similar_cosmul',\n",
       " 'n_similarity',\n",
       " 'negative',\n",
       " 'null_word',\n",
       " 'random',\n",
       " 'raw_vocab',\n",
       " 'reset_from',\n",
       " 'reset_weights',\n",
       " 'sample',\n",
       " 'save',\n",
       " 'save_word2vec_format',\n",
       " 'scale_vocab',\n",
       " 'scan_vocab',\n",
       " 'score',\n",
       " 'seed',\n",
       " 'seeded_vector',\n",
       " 'sg',\n",
       " 'similar_by_vector',\n",
       " 'similar_by_word',\n",
       " 'similarity',\n",
       " 'sort_vocab',\n",
       " 'sorted_vocab',\n",
       " 'syn0_lockf',\n",
       " 'total_train_time',\n",
       " 'train',\n",
       " 'train_count',\n",
       " 'vector_size',\n",
       " 'vocab',\n",
       " 'window',\n",
       " 'wmdistance',\n",
       " 'workers']"
      ]
     },
     "execution_count": 83,
     "metadata": {},
     "output_type": "execute_result"
    }
   ],
   "source": [
    "dir(model)"
   ]
  },
  {
   "cell_type": "code",
   "execution_count": 95,
   "metadata": {
    "collapsed": false
   },
   "outputs": [
    {
     "data": {
      "text/plain": [
       "6147817"
      ]
     },
     "execution_count": 95,
     "metadata": {},
     "output_type": "execute_result"
    }
   ],
   "source": [
    "len(model.vocab)"
   ]
  },
  {
   "cell_type": "code",
   "execution_count": 96,
   "metadata": {
    "collapsed": false
   },
   "outputs": [
    {
     "data": {
      "text/plain": [
       "<bound method Doc2Vec.wmdistance of <gensim.models.doc2vec.Doc2Vec object at 0x7fd85f134210>>"
      ]
     },
     "execution_count": 96,
     "metadata": {},
     "output_type": "execute_result"
    }
   ],
   "source": [
    "model.wmdistance"
   ]
  },
  {
   "cell_type": "code",
   "execution_count": null,
   "metadata": {
    "collapsed": true
   },
   "outputs": [],
   "source": []
  }
 ],
 "metadata": {
  "kernelspec": {
   "display_name": "Python 2",
   "language": "python",
   "name": "python2"
  },
  "language_info": {
   "codemirror_mode": {
    "name": "ipython",
    "version": 2
   },
   "file_extension": ".py",
   "mimetype": "text/x-python",
   "name": "python",
   "nbconvert_exporter": "python",
   "pygments_lexer": "ipython2",
   "version": "2.7.8"
  }
 },
 "nbformat": 4,
 "nbformat_minor": 0
}
