{
 "cells": [
  {
   "cell_type": "markdown",
   "metadata": {},
   "source": [
    "# Classification of fixed size paragraph vectors using LSTM\n",
    "should be able to deal with all levels using the PARTS_LEVEL param"
   ]
  },
  {
   "cell_type": "code",
   "execution_count": 1,
   "metadata": {
    "collapsed": false
   },
   "outputs": [
    {
     "name": "stderr",
     "output_type": "stream",
     "text": [
      "Using gpu device 0: TITAN X (Pascal) (CNMeM is disabled, cuDNN 5105)\n",
      "/home/stud/shalaby/.virtualenv/thesis-env/local/lib/python2.7/site-packages/theano/sandbox/cuda/__init__.py:600: UserWarning: Your cuDNN version is more recent than the one Theano officially supports. If you see any problems, try updating Theano or downgrading cuDNN to version 5.\n",
      "  warnings.warn(warn)\n",
      "Using Theano backend.\n"
     ]
    }
   ],
   "source": [
    "import json\n",
    "import nltk\n",
    "from nltk.tokenize import RegexpTokenizer\n",
    "import string\n",
    "import math\n",
    "import os\n",
    "import time\n",
    "from collections import namedtuple, defaultdict\n",
    "import cPickle as pickle\n",
    "import pandas as pd\n",
    "\n",
    "%matplotlib inline\n",
    "import matplotlib.pyplot as plt\n",
    "import matplotlib as mpl\n",
    "import numpy as np\n",
    "import random\n",
    "\n",
    "from multiprocessing.dummy import Pool as ThreadPool\n",
    "import itertools\n",
    "\n",
    "from sklearn.metrics import coverage_error\n",
    "import sklearn.metrics\n",
    "from sklearn.multiclass import OneVsRestClassifier\n",
    "from sklearn import linear_model\n",
    "from sklearn.preprocessing import MultiLabelBinarizer\n",
    "\n",
    "from gensim.models.doc2vec import Doc2Vec, LabeledSentence\n",
    "\n",
    "import logging\n",
    "from logging import info\n",
    "from functools import partial\n",
    "\n",
    "import seaborn\n",
    "\n",
    "import keras\n",
    "from keras.layers import Input, Dense, Dropout, Masking\n",
    "from keras.models import Model, Sequential\n",
    "from keras.layers import Input, Masking\n",
    "from keras.layers.pooling import GlobalAveragePooling1D\n",
    "from keras.layers.convolutional import MaxPooling1D, Convolution1D\n",
    "from keras.layers.pooling import GlobalAveragePooling1D\n",
    "from keras.layers.recurrent import LSTM\n",
    "\n",
    "from sklearn.model_selection import ParameterSampler\n",
    "\n",
    "from thesis.utils.metrics import *"
   ]
  },
  {
   "cell_type": "markdown",
   "metadata": {},
   "source": [
    "# Global variables used throughout the script"
   ]
  },
  {
   "cell_type": "code",
   "execution_count": 2,
   "metadata": {
    "collapsed": true
   },
   "outputs": [],
   "source": [
    "root = logging.getLogger()\n",
    "for handler in root.handlers[:]:\n",
    "    root.removeHandler(handler)\n",
    "logging.basicConfig(format='%(asctime)s : %(levelname)s : %(message)s', level=logging.INFO) # adds a default StreamHanlder\n",
    "#root.addHandler(logging.StreamHandler())"
   ]
  },
  {
   "cell_type": "code",
   "execution_count": 3,
   "metadata": {
    "collapsed": true
   },
   "outputs": [],
   "source": [
    "SVM_SEED = 1234\n",
    "DOC2VEC_SEED = 1234\n",
    "WORD2VEC_SEED = 1234\n",
    "NN_SEED = 1234"
   ]
  },
  {
   "cell_type": "code",
   "execution_count": 4,
   "metadata": {
    "collapsed": true
   },
   "outputs": [],
   "source": [
    "NUM_CORES = 16"
   ]
  },
  {
   "cell_type": "code",
   "execution_count": 5,
   "metadata": {
    "collapsed": false
   },
   "outputs": [],
   "source": [
    "GLOBAL_VARS = namedtuple('GLOBAL_VARS', ['MODEL_NAME', 'DOC2VEC_MODEL_NAME', 'DOC2VEC_MODEL', \n",
    "                                         'SVM_MODEL_NAME', 'NN_MODEL_NAME'])"
   ]
  },
  {
   "cell_type": "code",
   "execution_count": 6,
   "metadata": {
    "collapsed": true
   },
   "outputs": [],
   "source": [
    "VOCAB_MODEL = \"vocab_model\"\n",
    "MODEL_PREFIX = \"model\"\n",
    "VALIDATION_MATRIX = \"validation_matrix.pkl\"\n",
    "VALIDATION_DICT = \"validation_dict.pkl\"\n",
    "TEST_MATRIX = \"test_matrix.pkl\"\n",
    "TEST_DICT = \"test_dict.pkl\"\n",
    "METRICS = \"metrics.pkl\"\n",
    "CLASSIFIER = \"classifier.pkl\"\n",
    "TYPE_CLASSIFIER= \"{}_classifier.pkl\"\n",
    "\n",
    "TRAINING_DATA_MATRIX = \"X_level_{}.npy\"\n",
    "TRAINING_LABELS_MATRIX = \"y_{}.npy\"\n",
    "VALIDATION_DATA_MATRIX = \"Xv_level_{}.npy\"\n",
    "VALIDATION_LABELS_MATRIX = \"yv_{}.npy\""
   ]
  },
  {
   "cell_type": "code",
   "execution_count": 7,
   "metadata": {
    "collapsed": true
   },
   "outputs": [],
   "source": [
    "NN_PARAMETER_SEARCH_PREFIX = \"lstm_{}_level_{}_batch_{}_nn_parameter_searches.pkl\""
   ]
  },
  {
   "cell_type": "code",
   "execution_count": 8,
   "metadata": {
    "collapsed": true
   },
   "outputs": [],
   "source": [
    "SAMPLE_RATIO = 0.15"
   ]
  },
  {
   "cell_type": "code",
   "execution_count": 9,
   "metadata": {
    "collapsed": false
   },
   "outputs": [],
   "source": [
    "root_location = \"/mnt/data2/shalaby/\"\n",
    "big_data_location = \"/mnt/data/shalaby/\"\n",
    "\n",
    "doc_vec_types = \"extended_abs_desc_claims_large_sample_chunks\"\n",
    "doc_vec_preprocessed_data_types = \"extended_pv_abs_desc_claims_large_sample_chunks\"\n",
    "\n",
    "exports_location = root_location + \"exported_data/\"\n",
    "\n",
    "doc2vec_model_save_location = os.path.join(big_data_location, \"parameter_search_doc2vec_models_\" + doc_vec_types, \"full\")\n",
    "nn_parameter_search_location = os.path.join(root_location, \"nn_parameter_search_\" + doc_vec_types)\n",
    "if not os.path.exists(doc2vec_model_save_location):\n",
    "    os.makedirs(doc2vec_model_save_location)\n",
    "if not os.path.exists(os.path.join(doc2vec_model_save_location, VOCAB_MODEL)):\n",
    "    os.makedirs(os.path.join(doc2vec_model_save_location, VOCAB_MODEL))\n",
    "\n",
    "#training_file = root_location + \"docs_output.json\"\n",
    "training_file = root_location + 'docs_output.json'\n",
    "\n",
    "doc_classifications_map_file = exports_location + \"doc_classification_map.pkl\"\n",
    "sections_file = exports_location + \"sections.pkl\"\n",
    "classes_file = exports_location + \"classes.pkl\"\n",
    "subclasses_file = exports_location + \"subclasses.pkl\"\n",
    "valid_classes_file = exports_location + \"valid_classes.pkl\"\n",
    "valid_subclasses_file = exports_location + \"valid_subclasses.pkl\"\n",
    "classifications_output = exports_location + \"classifications.pkl\"\n",
    "# training_docs_list_file = exports_location + \"extended_pv_training_docs_list.pkl\"\n",
    "# validation_docs_list_file = exports_location + \"extended_pv_validation_docs_list.pkl\"\n",
    "# test_docs_list_file = exports_location + \"extended_pv_test_docs_list.pkl\"\n",
    "training_docs_list_file = exports_location + \"extended_pv_training_docs_list_\" + str(SAMPLE_RATIO) + \".pkl\"\n",
    "validation_docs_list_file = exports_location + \"extended_pv_validation_docs_list_\" + str(SAMPLE_RATIO) + \".pkl\"\n",
    "test_docs_list_file = exports_location + \"extended_pv_test_docs_list_\" + str(SAMPLE_RATIO) + \".pkl\"\n",
    "\n",
    "preprocessed_location = os.path.join(big_data_location, \"preprocessed_data\", doc_vec_preprocessed_data_types) + \"/\"\n",
    "\n",
    "training_preprocessed_files_prefix = preprocessed_location + \"extended_pv_training_docs_data_preprocessed-\"\n",
    "validation_preprocessed_files_prefix = preprocessed_location + \"extended_pv_validation_docs_data_preprocessed-\"\n",
    "test_preprocessed_files_prefix = preprocessed_location + \"extended_pv_test_docs_data_preprocessed-\"\n",
    "\n",
    "word2vec_questions_file = result = root_location + 'tensorflow/word2vec/questions-words.txt'"
   ]
  },
  {
   "cell_type": "markdown",
   "metadata": {},
   "source": [
    "# Load general data required for classification"
   ]
  },
  {
   "cell_type": "code",
   "execution_count": 10,
   "metadata": {
    "collapsed": false
   },
   "outputs": [
    {
     "name": "stdout",
     "output_type": "stream",
     "text": [
      "CPU times: user 19.3 s, sys: 2.36 s, total: 21.7 s\n",
      "Wall time: 21.7 s\n"
     ]
    }
   ],
   "source": [
    "%%time\n",
    "doc_classification_map = pickle.load(open(doc_classifications_map_file))\n",
    "sections = pickle.load(open(sections_file))\n",
    "classes = pickle.load(open(classes_file))\n",
    "subclasses = pickle.load(open(subclasses_file))\n",
    "valid_classes = pickle.load(open(valid_classes_file))\n",
    "valid_subclasses = pickle.load(open(valid_subclasses_file))\n",
    "training_docs_list = pickle.load(open(training_docs_list_file))\n",
    "validation_docs_list = pickle.load(open(validation_docs_list_file))\n",
    "test_docs_list = pickle.load(open(test_docs_list_file))"
   ]
  },
  {
   "cell_type": "code",
   "execution_count": 11,
   "metadata": {
    "collapsed": false
   },
   "outputs": [
    {
     "data": {
      "text/plain": [
       "254767"
      ]
     },
     "execution_count": 11,
     "metadata": {},
     "output_type": "execute_result"
    }
   ],
   "source": [
    "len(training_docs_list)"
   ]
  },
  {
   "cell_type": "code",
   "execution_count": 12,
   "metadata": {
    "collapsed": false
   },
   "outputs": [
    {
     "data": {
      "text/plain": [
       "60957"
      ]
     },
     "execution_count": 12,
     "metadata": {},
     "output_type": "execute_result"
    }
   ],
   "source": [
    "len(validation_docs_list)"
   ]
  },
  {
   "cell_type": "code",
   "execution_count": 13,
   "metadata": {
    "collapsed": false
   },
   "outputs": [
    {
     "data": {
      "text/plain": [
       "79785"
      ]
     },
     "execution_count": 13,
     "metadata": {},
     "output_type": "execute_result"
    }
   ],
   "source": [
    "len(test_docs_list)"
   ]
  },
  {
   "cell_type": "markdown",
   "metadata": {},
   "source": [
    "# Utility Functions for data loading"
   ]
  },
  {
   "cell_type": "code",
   "execution_count": 14,
   "metadata": {
    "collapsed": true
   },
   "outputs": [],
   "source": [
    "class OneHotEncoder():\n",
    "    \n",
    "    def __init__(self, classifications):\n",
    "        self.classifications = classifications\n",
    "        self.one_hot_indices = {}\n",
    "\n",
    "        # convert character classifications to bit vectors\n",
    "        for i, clssf in enumerate(classifications):\n",
    "            bits = [0] * len(classifications)\n",
    "            bits[i] = 1\n",
    "            self.one_hot_indices[clssf] = i\n",
    "    \n",
    "    def get_label_vector(self, labels):\n",
    "        \"\"\"\n",
    "        classes: array of string with the classes assigned to the instance\n",
    "        \"\"\"\n",
    "        output_vector = [0] * len(self.classifications)\n",
    "        for label in labels:\n",
    "            index = self.one_hot_indices[label]\n",
    "            output_vector[index] = 1\n",
    "            \n",
    "        return output_vector\n",
    "    \n",
    "def ensure_disk_location_exists(location):\n",
    "    if not os.path.exists(location):\n",
    "        os.makedirs(location)"
   ]
  },
  {
   "cell_type": "code",
   "execution_count": 15,
   "metadata": {
    "collapsed": true
   },
   "outputs": [],
   "source": [
    "class FixedDocumentsStatsGenerator(object):\n",
    "    def __init__(self, filename_prefix):\n",
    "        self.filename_prefix = filename_prefix\n",
    "        self.docids = []\n",
    "        self.doc_parts = defaultdict(list)\n",
    "        self.doc_part_chunks = defaultdict(list)\n",
    "        self.curr_doc_index = 0\n",
    "        self.batch_end = -1\n",
    "    def load_new_batch_in_memory(self):\n",
    "        info(\"Loading new batch for index: {}\".format(self.curr_doc_index))\n",
    "        true_docs_count = 0\n",
    "        try:\n",
    "            with open(self.filename_prefix + str(self.curr_doc_index)) as preproc_file:\n",
    "                for line in preproc_file:\n",
    "                    line_array = line.split(\" \", 1)\n",
    "                    entity_id = line_array[0].strip()\n",
    "                    if self.is_doc(entity_id):\n",
    "                        self.docids.append(entity_id)\n",
    "                        true_docs_count+= 1\n",
    "                    elif self.is_doc_part(entity_id):\n",
    "                        self.doc_parts[self.get_doc_id(entity_id)].append(entity_id)\n",
    "                    elif self.is_doc_part_chunk(entity_id):\n",
    "                        self.doc_part_chunks[self.get_doc_id(entity_id)].append(entity_id)\n",
    "            self.batch_end = self.curr_doc_index + true_docs_count - 1 \n",
    "            info(\"Finished loading new batch of {} documents\".format(true_docs_count))\n",
    "        except IOError:\n",
    "            info(\"No more batches to load, exiting at index: {}\".format(self.curr_doc_index))\n",
    "            raise StopIteration()\n",
    "    def get_stats(self):\n",
    "        try:\n",
    "            while True:\n",
    "                if self.curr_doc_index > self.batch_end:\n",
    "                    self.load_new_batch_in_memory()\n",
    "                self.curr_doc_index = self.batch_end + 1\n",
    "        except StopIteration:\n",
    "            pass\n",
    "            \n",
    "    def get_doc_id(self, entity_id):\n",
    "        return entity_id.split(\"_\")[0]\n",
    "    def get_entity_parts(self, entity_id):\n",
    "        return entity_id.split(\"_\")\n",
    "    def is_doc(self, entity_id):\n",
    "        parts = self.get_entity_parts(entity_id)\n",
    "        if len(parts) == 1:\n",
    "            return True\n",
    "        return False\n",
    "    def is_doc_part(self, entity_id):\n",
    "        parts = self.get_entity_parts(entity_id)\n",
    "        if len(parts) == 2:\n",
    "            return True\n",
    "        return False\n",
    "    def is_doc_part_chunk(self, entity_id):\n",
    "        parts = self.get_entity_parts(entity_id)\n",
    "        if len(parts) == 3:\n",
    "            return True\n",
    "        return False"
   ]
  },
  {
   "cell_type": "code",
   "execution_count": 16,
   "metadata": {
    "collapsed": false
   },
   "outputs": [],
   "source": [
    "def get_doc_vector(entity_id):\n",
    "    if entity_id in doc2vec_model.docvecs:\n",
    "        if DOC2VEC_MMAP:\n",
    "            normal_array = []\n",
    "            normal_array[:] = doc2vec_model.docvecs[entity_id][:]\n",
    "            return normal_array\n",
    "        else:\n",
    "            return doc2vec_model.docvecs[entity_id]\n",
    "    else:\n",
    "        # some claims have low token count, so they cant fill out the whole 16 spots\n",
    "        return ZERO_VECTOR\n",
    "\n",
    "def data_generator(doc_stats, doc_id):\n",
    "    yield get_doc_vector(doc_id)\n",
    "    if PARTS_LEVEL >= LEVEL_DIVISIONS:\n",
    "        for part_id in doc_stats.doc_parts[doc_id]:\n",
    "            yield get_doc_vector(part_id)\n",
    "    if PARTS_LEVEL >= LEVEL_CHUNKS:\n",
    "        for part_id in doc_stats.doc_part_chunks[doc_id]:\n",
    "            yield get_doc_vector(part_id)\n",
    "    while True:\n",
    "        yield ZERO_VECTOR\n",
    "\n",
    "def validation_data_generator(doc_stats, validation_dict, doc_id):\n",
    "    yield validation_dict[doc_id]\n",
    "    if PARTS_LEVEL >= LEVEL_DIVISIONS:\n",
    "        for part_id in doc_stats.doc_parts[doc_id]:\n",
    "            yield validation_dict[part_id]\n",
    "    if PARTS_LEVEL >= LEVEL_CHUNKS:\n",
    "        for part_id in doc_stats.doc_part_chunks[doc_id]:\n",
    "            yield validation_dict[part_id]\n",
    "    while True:\n",
    "        yield ZERO_VECTOR\n",
    "        "
   ]
  },
  {
   "cell_type": "code",
   "execution_count": 17,
   "metadata": {
    "collapsed": true
   },
   "outputs": [],
   "source": [
    "def get_training_data(doc2vec_model, classifications, classifications_type, doc_stats, sequence_size, embedding_size):\n",
    "    \"\"\"\n",
    "    Creates or loads the X and y matrices used for training\n",
    "    \"\"\"\n",
    "    def get_training_y_labels():\n",
    "        \"\"\"\n",
    "        Creates or loads the y matrix used for training\n",
    "        \"\"\"\n",
    "        if not os.path.exists(os.path.join(doc2vec_model_save_location, GLOBAL_VARS.MODEL_NAME, \n",
    "                                       TRAINING_LABELS_MATRIX.format(classifications_type))):\n",
    "            info(\"Creating Training Labels\")\n",
    "            one_hot_encoder = OneHotEncoder(classifications)\n",
    "            classifications_set = set(classifications)\n",
    "            training_labels_mat = np.zeros((len(training_docs_list), len(classifications)), dtype=np.int8)\n",
    "            for i, doc_id in enumerate(training_docs_list):\n",
    "                eligible_classifications = set(doc_classification_map[doc_id]) & classifications_set\n",
    "                training_labels_mat[i][:] = one_hot_encoder.get_label_vector(eligible_classifications)\n",
    "        else:    \n",
    "            training_labels_mat = np.load(open(os.path.join(doc2vec_model_save_location, GLOBAL_VARS.MODEL_NAME, \n",
    "                                                            TRAINING_LABELS_MATRIX.format(classifications_type))))\n",
    "        return training_labels_mat\n",
    "\n",
    "    \n",
    "    \n",
    "    if not os.path.exists(os.path.join(doc2vec_model_save_location, GLOBAL_VARS.MODEL_NAME, \n",
    "                                       TRAINING_DATA_MATRIX.format(PARTS_LEVEL))):\n",
    "        info(\"Creating Training Data\")\n",
    "        one_hot_encoder = OneHotEncoder(classifications)\n",
    "        classifications_set = set(classifications)\n",
    "        # 1st level: document level\n",
    "        training_data = np.ndarray((len(training_docs_list), sequence_size, embedding_size), dtype=np.float32)\n",
    "        info(\"Training Data shape: {}\".format(training_data.shape))\n",
    "        training_labels_mat = np.zeros((len(training_docs_list), len(classifications)), dtype=np.int8)\n",
    "        for i, doc_id in enumerate(training_docs_list):\n",
    "            data_gen = data_generator(doc_stats, doc_id)\n",
    "            # 2nd level: constituents\n",
    "            for j in range(sequence_size):\n",
    "                #3rd level: feature vectors\n",
    "                training_data[i][j] = data_gen.next()\n",
    "            eligible_classifications = set(doc_classification_map[doc_id]) & classifications_set\n",
    "            training_labels_mat[i][:] = one_hot_encoder.get_label_vector(eligible_classifications)\n",
    "            if i % 10000 == 0:\n",
    "                info(\"Finished {} in training\".format(i))\n",
    "        \n",
    "        info(\"Saving Training Data to file...\")\n",
    "        np.save(open(os.path.join(doc2vec_model_save_location, GLOBAL_VARS.MODEL_NAME, \n",
    "                                  TRAINING_DATA_MATRIX.format(PARTS_LEVEL)), \"w\"), training_data)\n",
    "        np.save(open(os.path.join(doc2vec_model_save_location, GLOBAL_VARS.MODEL_NAME, \n",
    "                                  TRAINING_LABELS_MATRIX.format(classifications_type)), \"w\"), training_labels_mat)\n",
    "    else:\n",
    "        info(\"Loading Training Data from file\")\n",
    "        training_data = np.load(open(os.path.join(doc2vec_model_save_location, GLOBAL_VARS.MODEL_NAME, \n",
    "                                                  TRAINING_DATA_MATRIX.format(PARTS_LEVEL))))\n",
    "        training_labels_mat = get_training_y_labels()\n",
    "        \n",
    "    return training_data, training_labels_mat"
   ]
  },
  {
   "cell_type": "code",
   "execution_count": 18,
   "metadata": {
    "collapsed": true
   },
   "outputs": [],
   "source": [
    "def get_validation_data(validation_dict, classifications, classifications_type, doc_stats, sequence_size, embedding_size):\n",
    "    \"\"\"\n",
    "    Creates or loads the X and y matrices used for validation\n",
    "    \"\"\"\n",
    "    def get_validation_y_labels():\n",
    "        \"\"\"\n",
    "        Creates or loads the y matrix used for validation\n",
    "        \"\"\"\n",
    "        if not os.path.exists(os.path.join(doc2vec_model_save_location, GLOBAL_VARS.MODEL_NAME, \n",
    "                                       VALIDATION_LABELS_MATRIX.format(classifications_type))):\n",
    "            info(\"Creating Validation Labels\")\n",
    "            one_hot_encoder = OneHotEncoder(classifications)\n",
    "            classifications_set = set(classifications)\n",
    "            validation_labels_mat = np.zeros((len(validation_docs_list), len(classifications)), dtype=np.int8)\n",
    "            for i, doc_id in enumerate(validation_docs_list):\n",
    "                eligible_classifications = set(doc_classification_map[doc_id]) & classifications_set\n",
    "                validation_labels_mat[i][:] = one_hot_encoder.get_label_vector(eligible_classifications)\n",
    "        else:    \n",
    "            info(\"Loading Validation Labels\")\n",
    "            validation_labels_mat = np.load(open(os.path.join(doc2vec_model_save_location, GLOBAL_VARS.MODEL_NAME, \n",
    "                                                        VALIDATION_LABELS_MATRIX.format(classifications_type))))\n",
    "        return validation_labels_mat\n",
    "\n",
    "    \n",
    "    if not os.path.exists(os.path.join(doc2vec_model_save_location, GLOBAL_VARS.MODEL_NAME, \n",
    "                                       VALIDATION_DATA_MATRIX.format(PARTS_LEVEL))):\n",
    "        info(\"Creating Validation Data\")\n",
    "        one_hot_encoder = OneHotEncoder(classifications)\n",
    "        classifications_set = set(classifications)\n",
    "        # 1st level: document level\n",
    "        validation_data = np.ndarray((len(validation_docs_list), sequence_size, embedding_size), dtype=np.float32)\n",
    "        info(\"Validation Data shape: {}\".format(validation_data.shape))\n",
    "        validation_labels_mat = np.zeros((len(validation_docs_list), len(classifications)), dtype=np.int8)\n",
    "        for i, doc_id in enumerate(validation_docs_list):\n",
    "            data_gen = validation_data_generator(doc_stats, validation_dict, doc_id)\n",
    "            # 2nd level: constituents\n",
    "            for j in range(sequence_size):\n",
    "                #3d level: feature vectors\n",
    "                validation_data[i][j] = data_gen.next()\n",
    "            eligible_classifications = set(doc_classification_map[doc_id]) & classifications_set\n",
    "            validation_labels_mat[i][:] = one_hot_encoder.get_label_vector(eligible_classifications)\n",
    "            if i % 10000 == 0:\n",
    "                info(\"Finished {} in validation\".format(i))\n",
    "        \n",
    "        info(\"Saving Validation Data to file...\")\n",
    "        np.save(open(os.path.join(doc2vec_model_save_location, GLOBAL_VARS.MODEL_NAME, \n",
    "                                  VALIDATION_DATA_MATRIX.format(PARTS_LEVEL)), \"w\"), validation_data)\n",
    "        np.save(open(os.path.join(doc2vec_model_save_location, GLOBAL_VARS.MODEL_NAME, \n",
    "                                  VALIDATION_LABELS_MATRIX.format(classifications_type)), \"w\"), validation_labels_mat)\n",
    "    else:\n",
    "        info(\"Loading Validation Data from file\")\n",
    "        validation_data = np.load(open(os.path.join(doc2vec_model_save_location, GLOBAL_VARS.MODEL_NAME, \n",
    "                                                  VALIDATION_DATA_MATRIX.format(PARTS_LEVEL))))\n",
    "        validation_labels_mat = get_validation_y_labels()\n",
    "        \n",
    "    return validation_data, validation_labels_mat"
   ]
  },
  {
   "cell_type": "markdown",
   "metadata": {},
   "source": [
    "# Set what we want to train for (classification type and level)"
   ]
  },
  {
   "cell_type": "code",
   "execution_count": 133,
   "metadata": {
    "collapsed": true
   },
   "outputs": [],
   "source": [
    "classifications = valid_classes\n",
    "classifications_type = 'sections'\n",
    "classifier_file = TYPE_CLASSIFIER.format(classifications_type)"
   ]
  },
  {
   "cell_type": "markdown",
   "metadata": {},
   "source": [
    "#### This is where we set which level we want to train for\n",
    "0 -> Use only the document vector  \n",
    "1 -> Use the document vector and the vectors for abstract, description, claims  \n",
    "2 -> Use the document vector and the vectors for abstract, description, claims plus the chunk vectors"
   ]
  },
  {
   "cell_type": "code",
   "execution_count": 134,
   "metadata": {
    "collapsed": true
   },
   "outputs": [],
   "source": [
    "LEVEL_DOC = 0\n",
    "LEVEL_DIVISIONS = 1\n",
    "LEVEL_CHUNKS = 2\n",
    "\n",
    "PARTS_LEVEL = LEVEL_DIVISIONS"
   ]
  },
  {
   "cell_type": "markdown",
   "metadata": {},
   "source": [
    "# Load the Doc2vec model"
   ]
  },
  {
   "cell_type": "code",
   "execution_count": 135,
   "metadata": {
    "collapsed": true
   },
   "outputs": [],
   "source": [
    "DOC2VEC_SIZE = 200\n",
    "DOC2VEC_WINDOW = 2\n",
    "DOC2VEC_MAX_VOCAB_SIZE = None\n",
    "DOC2VEC_SAMPLE = 1e-3\n",
    "DOC2VEC_TYPE = 1\n",
    "DOC2VEC_HIERARCHICAL_SAMPLE = 0\n",
    "DOC2VEC_NEGATIVE_SAMPLE_SIZE = 10\n",
    "DOC2VEC_CONCAT = 0\n",
    "DOC2VEC_MEAN = 1\n",
    "DOC2VEC_TRAIN_WORDS = 0\n",
    "DOC2VEC_EPOCHS = 1 # we do our training manually one epoch at a time\n",
    "DOC2VEC_MAX_EPOCHS = 8\n",
    "REPORT_DELAY = 20 # report the progress every x seconds\n",
    "REPORT_VOCAB_PROGRESS = 100000 # report vocab progress every x documents\n",
    "\n",
    "DOC2VEC_MMAP = 'r'\n",
    "# DOC2VEC_MMAP = None\n",
    "\n",
    "ZERO_VECTOR = [0] * DOC2VEC_SIZE"
   ]
  },
  {
   "cell_type": "code",
   "execution_count": 136,
   "metadata": {
    "collapsed": false
   },
   "outputs": [
    {
     "name": "stdout",
     "output_type": "stream",
     "text": [
      "doc2vec_size_200_w_2_type_dm_concat_0_mean_1_trainwords_0_hs_0_neg_10_vocabsize_None/epoch_8\n"
     ]
    }
   ],
   "source": [
    "placeholder_model_name = 'doc2vec_size_{}_w_{}_type_{}_concat_{}_mean_{}_trainwords_{}_hs_{}_neg_{}_vocabsize_{}'.format(DOC2VEC_SIZE, \n",
    "                                                                DOC2VEC_WINDOW, \n",
    "                                                                'dm' if DOC2VEC_TYPE == 1 else 'pv-dbow',\n",
    "                                                                DOC2VEC_CONCAT, DOC2VEC_MEAN,\n",
    "                                                                DOC2VEC_TRAIN_WORDS,\n",
    "                                                                DOC2VEC_HIERARCHICAL_SAMPLE,DOC2VEC_NEGATIVE_SAMPLE_SIZE,\n",
    "                                                                str(DOC2VEC_MAX_VOCAB_SIZE))\n",
    "GLOBAL_VARS.DOC2VEC_MODEL_NAME = placeholder_model_name\n",
    "placeholder_model_name = os.path.join(placeholder_model_name, \"epoch_{}\")\n",
    "\n",
    "epoch = 8\n",
    "\n",
    "GLOBAL_VARS.MODEL_NAME = placeholder_model_name.format(epoch)\n",
    "doc2vec_model = None\n",
    "\n",
    "training_doc_stats_file = os.path.join(doc2vec_model_save_location, GLOBAL_VARS.MODEL_NAME, \"extended_pv_training_doc_stats.pkl\")\n",
    "validation_doc_stats_file = os.path.join(doc2vec_model_save_location, GLOBAL_VARS.MODEL_NAME, \"extended_pv_validation_doc_stats.pkl\")\n",
    "\n",
    "print GLOBAL_VARS.MODEL_NAME"
   ]
  },
  {
   "cell_type": "code",
   "execution_count": 56,
   "metadata": {
    "collapsed": false,
    "scrolled": false
   },
   "outputs": [
    {
     "name": "stderr",
     "output_type": "stream",
     "text": [
      "2017-03-26 05:38:34,135 : INFO : loading Doc2Vec object from /mnt/data/shalaby/parameter_search_doc2vec_models_extended_abs_desc_claims_large_sample_chunks/full/doc2vec_size_200_w_2_type_dm_concat_0_mean_1_trainwords_0_hs_0_neg_10_vocabsize_None/epoch_12/model\n"
     ]
    },
    {
     "name": "stdout",
     "output_type": "stream",
     "text": [
      "/mnt/data/shalaby/parameter_search_doc2vec_models_extended_abs_desc_claims_large_sample_chunks/full/doc2vec_size_200_w_2_type_dm_concat_0_mean_1_trainwords_0_hs_0_neg_10_vocabsize_None/epoch_12/model\n"
     ]
    },
    {
     "name": "stderr",
     "output_type": "stream",
     "text": [
      "2017-03-26 05:39:08,359 : INFO : loading docvecs recursively from /mnt/data/shalaby/parameter_search_doc2vec_models_extended_abs_desc_claims_large_sample_chunks/full/doc2vec_size_200_w_2_type_dm_concat_0_mean_1_trainwords_0_hs_0_neg_10_vocabsize_None/epoch_12/model.docvecs.* with mmap=r\n",
      "2017-03-26 05:39:08,361 : INFO : loading doctag_syn0 from /mnt/data/shalaby/parameter_search_doc2vec_models_extended_abs_desc_claims_large_sample_chunks/full/doc2vec_size_200_w_2_type_dm_concat_0_mean_1_trainwords_0_hs_0_neg_10_vocabsize_None/epoch_12/model.docvecs.doctag_syn0.npy with mmap=r\n",
      "2017-03-26 05:39:08,398 : INFO : loading syn1neg from /mnt/data/shalaby/parameter_search_doc2vec_models_extended_abs_desc_claims_large_sample_chunks/full/doc2vec_size_200_w_2_type_dm_concat_0_mean_1_trainwords_0_hs_0_neg_10_vocabsize_None/epoch_12/model.syn1neg.npy with mmap=r\n",
      "2017-03-26 05:39:08,444 : INFO : loading syn0 from /mnt/data/shalaby/parameter_search_doc2vec_models_extended_abs_desc_claims_large_sample_chunks/full/doc2vec_size_200_w_2_type_dm_concat_0_mean_1_trainwords_0_hs_0_neg_10_vocabsize_None/epoch_12/model.syn0.npy with mmap=r\n",
      "2017-03-26 05:39:08,458 : INFO : setting ignored attribute syn0norm to None\n",
      "2017-03-26 05:39:08,459 : INFO : setting ignored attribute cum_table to None\n"
     ]
    },
    {
     "name": "stdout",
     "output_type": "stream",
     "text": [
      "CPU times: user 29.5 s, sys: 5.38 s, total: 34.9 s\n",
      "Wall time: 37.9 s\n"
     ]
    }
   ],
   "source": [
    "%%time\n",
    "print os.path.join(doc2vec_model_save_location, GLOBAL_VARS.MODEL_NAME, MODEL_PREFIX)\n",
    "if os.path.exists(os.path.join(doc2vec_model_save_location, GLOBAL_VARS.MODEL_NAME, MODEL_PREFIX)):\n",
    "    doc2vec_model = Doc2Vec.load(os.path.join(doc2vec_model_save_location, GLOBAL_VARS.MODEL_NAME, MODEL_PREFIX), mmap=DOC2VEC_MMAP)\n",
    "    doc2vec_model.workers = NUM_CORES\n",
    "    GLOBAL_VARS.DOC2VEC_MODEL = doc2vec_model\n",
    "else:\n",
    "    info(\"Couldnt find the doc2vec model with epoch {}\".format(epoch))\n",
    "    raise Exception()"
   ]
  },
  {
   "cell_type": "markdown",
   "metadata": {},
   "source": [
    "# Get the Data to use for Training"
   ]
  },
  {
   "cell_type": "markdown",
   "metadata": {},
   "source": [
    "#### Create/Load Training Document Stats \n",
    "these contain references to the ids of the parts of each document \n",
    "\n",
    "(ex. 059884 -> [\"059884_abstract\", \"059884_abstract\", \"059884_abstract\", \"059884_abstract_part-1\",...]) \n",
    "\n",
    "so we know what to load when constructing the training and validation matrices"
   ]
  },
  {
   "cell_type": "code",
   "execution_count": 116,
   "metadata": {
    "collapsed": false,
    "scrolled": false
   },
   "outputs": [
    {
     "name": "stderr",
     "output_type": "stream",
     "text": [
      "2017-03-27 20:39:48,969 : INFO : Loading Training Document Stats\n"
     ]
    },
    {
     "name": "stdout",
     "output_type": "stream",
     "text": [
      "CPU times: user 20.5 s, sys: 1.78 s, total: 22.3 s\n",
      "Wall time: 22.3 s\n"
     ]
    }
   ],
   "source": [
    "%%time\n",
    "if not os.path.exists(training_doc_stats_file):\n",
    "    info(\"Creating Training Document Stats\")\n",
    "    doc_stats = FixedDocumentsStatsGenerator(training_preprocessed_files_prefix)\n",
    "    doc_stats.get_stats()\n",
    "    pickle.dump(doc_stats, open(training_doc_stats_file, \"w\"))\n",
    "else:\n",
    "    info(\"Loading Training Document Stats\")\n",
    "    doc_stats = pickle.load(open(training_doc_stats_file, \"r\"))"
   ]
  },
  {
   "cell_type": "code",
   "execution_count": 137,
   "metadata": {
    "collapsed": false
   },
   "outputs": [
    {
     "name": "stdout",
     "output_type": "stream",
     "text": [
      "Max Size: 4\n"
     ]
    }
   ],
   "source": [
    "MAX_SIZE = 1 # for document vector\n",
    "if PARTS_LEVEL >= LEVEL_DIVISIONS:\n",
    "    MAX_PARTS = int(np.max([len(doc_stats.doc_parts[d]) for d in doc_stats.docids]))\n",
    "    MAX_SIZE += MAX_PARTS\n",
    "\n",
    "if PARTS_LEVEL >= LEVEL_CHUNKS:\n",
    "    MAX_PART_CHUNKS = int(np.max([len(doc_stats.doc_part_chunks[d]) for d in doc_stats.docids]))\n",
    "    MAX_SIZE += MAX_PART_CHUNKS\n",
    "    \n",
    "print \"Max Size: {}\".format(MAX_SIZE)"
   ]
  },
  {
   "cell_type": "markdown",
   "metadata": {},
   "source": [
    "#### Get Training Data Matrices"
   ]
  },
  {
   "cell_type": "code",
   "execution_count": 138,
   "metadata": {
    "collapsed": false
   },
   "outputs": [
    {
     "name": "stderr",
     "output_type": "stream",
     "text": [
      "2017-03-27 23:42:43,521 : INFO : Loading Training Data from file\n"
     ]
    },
    {
     "name": "stdout",
     "output_type": "stream",
     "text": [
      "CPU times: user 4 ms, sys: 3.46 s, total: 3.46 s\n",
      "Wall time: 3.45 s\n"
     ]
    }
   ],
   "source": [
    "%%time\n",
    "X, y = get_training_data(doc2vec_model, classifications, classifications_type, doc_stats, MAX_SIZE, DOC2VEC_SIZE)"
   ]
  },
  {
   "cell_type": "code",
   "execution_count": 139,
   "metadata": {
    "collapsed": false
   },
   "outputs": [
    {
     "name": "stdout",
     "output_type": "stream",
     "text": [
      "815254528\n",
      "(254767, 4, 200)\n",
      "(254767, 8)\n"
     ]
    }
   ],
   "source": [
    "import sys\n",
    "print sys.getsizeof(X)\n",
    "print X.shape\n",
    "print y.shape"
   ]
  },
  {
   "cell_type": "markdown",
   "metadata": {},
   "source": [
    "#### Create/Load Validation Doc Stats"
   ]
  },
  {
   "cell_type": "code",
   "execution_count": 140,
   "metadata": {
    "collapsed": true
   },
   "outputs": [],
   "source": [
    "validation_dict = None"
   ]
  },
  {
   "cell_type": "markdown",
   "metadata": {},
   "source": [
    "Load Validation Dict. This is the dictionary that contains the precomputed doc2vec vectors for each document, document part and chunk"
   ]
  },
  {
   "cell_type": "code",
   "execution_count": 77,
   "metadata": {
    "collapsed": false
   },
   "outputs": [
    {
     "name": "stdout",
     "output_type": "stream",
     "text": [
      "CPU times: user 2min 56s, sys: 3.98 s, total: 3min\n",
      "Wall time: 3min 2s\n"
     ]
    }
   ],
   "source": [
    "%%time\n",
    "validation_dict = pickle.load(open(os.path.join(doc2vec_model_save_location, GLOBAL_VARS.MODEL_NAME, VALIDATION_DICT)))"
   ]
  },
  {
   "cell_type": "code",
   "execution_count": 121,
   "metadata": {
    "collapsed": false
   },
   "outputs": [
    {
     "name": "stderr",
     "output_type": "stream",
     "text": [
      "2017-03-27 20:40:11,431 : INFO : Loading Validation Document Stats\n"
     ]
    },
    {
     "name": "stdout",
     "output_type": "stream",
     "text": [
      "CPU times: user 4.13 s, sys: 152 ms, total: 4.28 s\n",
      "Wall time: 4.28 s\n"
     ]
    }
   ],
   "source": [
    "%%time\n",
    "if not os.path.exists(validation_doc_stats_file):\n",
    "    validation_doc_stats = FixedDocumentsStatsGenerator(validation_preprocessed_files_prefix)\n",
    "    validation_doc_stats.get_stats()\n",
    "    pickle.dump(validation_doc_stats, open(validation_doc_stats_file, \"w\"))\n",
    "else:\n",
    "    info(\"Loading Validation Document Stats\")\n",
    "    validation_doc_stats = pickle.load(open(validation_doc_stats_file, \"r\"))"
   ]
  },
  {
   "cell_type": "markdown",
   "metadata": {},
   "source": [
    "#### Get Validation Data Matrices"
   ]
  },
  {
   "cell_type": "code",
   "execution_count": 141,
   "metadata": {
    "collapsed": false
   },
   "outputs": [
    {
     "name": "stderr",
     "output_type": "stream",
     "text": [
      "2017-03-27 23:42:58,506 : INFO : Loading Validation Data from file\n",
      "2017-03-27 23:42:59,195 : INFO : Loading Validation Labels\n"
     ]
    },
    {
     "name": "stdout",
     "output_type": "stream",
     "text": [
      "CPU times: user 0 ns, sys: 664 ms, total: 664 ms\n",
      "Wall time: 691 ms\n"
     ]
    }
   ],
   "source": [
    "%%time\n",
    "Xv, yv = get_validation_data(validation_dict, classifications, classifications_type, validation_doc_stats, \n",
    "                             MAX_SIZE, DOC2VEC_SIZE)"
   ]
  },
  {
   "cell_type": "code",
   "execution_count": 142,
   "metadata": {
    "collapsed": true
   },
   "outputs": [],
   "source": [
    "del validation_dict"
   ]
  },
  {
   "cell_type": "code",
   "execution_count": 143,
   "metadata": {
    "collapsed": false
   },
   "outputs": [
    {
     "name": "stdout",
     "output_type": "stream",
     "text": [
      "(60957, 4, 200)\n",
      "(60957, 8)\n"
     ]
    }
   ],
   "source": [
    "print Xv.shape\n",
    "print yv.shape"
   ]
  },
  {
   "cell_type": "markdown",
   "metadata": {},
   "source": [
    "# LSTM Parameters and training functions"
   ]
  },
  {
   "cell_type": "code",
   "execution_count": 144,
   "metadata": {
    "collapsed": true
   },
   "outputs": [],
   "source": [
    "def create_keras_rnn_model(input_size, output_size, lstm_output_size, w_dropout_do, u_dropout_do, \n",
    "                           stack_layers=1, conv_size=None):\n",
    "    \n",
    "    model= Sequential()\n",
    "#     model.add(Masking(mask_value=0., input_shape=(MAX_SIZE, input_size)))\n",
    "    if conv_size:\n",
    "        model.add(Convolution1D(nb_filter=conv_size, input_shape=(MAX_SIZE, input_size), filter_length=3, \n",
    "                                border_mode='same', activation='relu'))\n",
    "        model.add(MaxPooling1D(pool_length=2))\n",
    "    for i in range(stack_layers):\n",
    "        model.add(LSTM(lstm_output_size, input_dim=input_size, dropout_W=w_dropout_do, dropout_U=u_dropout_do,\n",
    "                       return_sequences=False if i+1 == stack_layers else True,\n",
    "                  name='lstm_{}_w-drop_{}_u-drop_{}_layer_{}'.format(lstm_output_size, str(u_dropout_do), str(w_dropout_do), str(i+1))))\n",
    "    model.add(Dense(output_size, activation='sigmoid', name='sigmoid_output'))\n",
    "    model.compile(optimizer=NN_OPTIMIZER, loss='binary_crossentropy')\n",
    "    return model"
   ]
  },
  {
   "cell_type": "code",
   "execution_count": 145,
   "metadata": {
    "collapsed": true
   },
   "outputs": [],
   "source": [
    "# minimum change in val_loss from previous epoch to register as a decrease\n",
    "early_stopper_deltas = {\n",
    "    'sections': 0.00001,\n",
    "    'classes': 0.00001,\n",
    "    'subclasses': 0.00001\n",
    "}\n",
    "# how many epochs to wait when there is no decrease in val_loss before early stopping\n",
    "early_stopper_patience = {\n",
    "    'sections': 15,\n",
    "    'classes': 15,\n",
    "    'subclasses': 15\n",
    "}\n",
    "# number of epochs after which we do periodic evaluation of validation metrics\n",
    "epochs_before_validation = {\n",
    "    'sections': 10,\n",
    "    'classes': 20,\n",
    "    'subclasses': 20\n",
    "}\n",
    "\n",
    "# ranges for learning graph shown\n",
    "metrics_graph_ranges = {\n",
    "    'sections': {'min':0, 'max': 0.5},\n",
    "    'classes': {'min':0, 'max': 0.05},\n",
    "    'subclasses': {'min':0, 'max': 0.05}\n",
    "}"
   ]
  },
  {
   "cell_type": "code",
   "execution_count": 146,
   "metadata": {
    "collapsed": false
   },
   "outputs": [],
   "source": [
    "class MetricsCallback(keras.callbacks.Callback):\n",
    "    \"\"\"\n",
    "    Callback called by keras after each epoch. Records the best validation loss and periodically checks the \n",
    "    validation metrics\n",
    "    \"\"\"\n",
    "    EPOCHS_BEFORE_VALIDATION = epochs_before_validation[classifications_type]\n",
    "    GRAPH_MIN = metrics_graph_ranges[classifications_type]['min']\n",
    "    GRAPH_MAX = metrics_graph_ranges[classifications_type]['max']\n",
    "    \n",
    "    def on_train_begin(self, logs={}):\n",
    "        self.epoch_index = 0\n",
    "        self.val_loss_reductions = 0\n",
    "        self.metrics_dict = {}\n",
    "        self.best_val_loss = np.iinfo(np.int32).max\n",
    "        self.best_weights = None\n",
    "        self.best_validation_metrics = None\n",
    "        \n",
    "        self.losses = []\n",
    "        self.val_losses = []\n",
    "        self.fig = plt.figure(figsize=(12,6), dpi=80)\n",
    "        self.ax = plt.subplot(111)\n",
    "    def on_epoch_end(self, epoch, logs={}):\n",
    "        self.epoch_index += 1\n",
    "        self.losses.append(logs['loss'])\n",
    "        self.val_losses.append(logs['val_loss'])\n",
    "        loss_line, = self.ax.plot(range(1,self.epoch_index+1), self.losses, 'g-', label='Training Loss')\n",
    "        val_loss_line, = self.ax.plot(range(1,self.epoch_index+1), self.val_losses, 'r-', label='Validation Loss')\n",
    "        self.ax.legend(handles=[loss_line, val_loss_line])\n",
    "        self.ax.set_ylim((MetricsCallback.GRAPH_MIN, MetricsCallback.GRAPH_MAX))\n",
    "        self.fig.canvas.draw()\n",
    "        if logs['val_loss'] < self.best_val_loss:\n",
    "            self.val_loss_reductions += 1\n",
    "            self.best_val_loss = logs['val_loss']\n",
    "            self.best_weights = self.model.get_weights()\n",
    "            #print '\\r    \\r' # to remove the previous line of verbose output of model fit\n",
    "            #time.sleep(0.1)\n",
    "            info('Found lower val loss for epoch {} => {}'.format(self.epoch_index, round(logs['val_loss'], 5)))\n",
    "            if self.val_loss_reductions % MetricsCallback.EPOCHS_BEFORE_VALIDATION == 0:\n",
    "                \n",
    "                info('Validation Loss Reduced {} times'.format(self.val_loss_reductions))\n",
    "                info('Evaluating on Validation Data')\n",
    "                yvp = self.model.predict(Xv)\n",
    "                yvp_binary = get_binary_0_5(yvp)\n",
    "                info('Generating Validation Metrics')\n",
    "                validation_metrics = get_metrics(yv, yvp, yvp_binary)\n",
    "                print \"****** Validation Metrics: Cov Err: {:.3f} | Top 3: {:.3f} | Top 5: {:.3f} | F1 Micro: {:.3f} | F1 Macro: {:.3f}\".format(\n",
    "                    validation_metrics['coverage_error'], validation_metrics['top_3'], validation_metrics['top_5'], \n",
    "                    validation_metrics['f1_micro'], validation_metrics['f1_macro'])\n",
    "                self.metrics_dict[self.epoch_index] = validation_metrics\n",
    "#                 self.best_validation_metrics = validation_metrics"
   ]
  },
  {
   "cell_type": "markdown",
   "metadata": {},
   "source": [
    "#### Parameters for LSTM"
   ]
  },
  {
   "cell_type": "code",
   "execution_count": 151,
   "metadata": {
    "collapsed": false
   },
   "outputs": [],
   "source": [
    "NN_OUTPUT_NEURONS = len(classifications)\n",
    "\n",
    "EARLY_STOPPER_MIN_DELTA = early_stopper_deltas[classifications_type]\n",
    "EARLY_STOPPER_PATIENCE = early_stopper_patience[classifications_type]\n",
    "\n",
    "NN_MAX_EPOCHS = 200\n",
    "NN_RANDOM_SEARCH_BUDGET = 30\n",
    "NN_PARAM_SAMPLE_SEED = 1234\n",
    "\n",
    "NN_BATCH_SIZE = 2048\n",
    "\n",
    "MODEL_VERBOSITY = 1\n",
    "\n",
    "NN_OPTIMIZER = 'rmsprop'\n",
    "# NN_OPTIMIZER = 'adam'\n",
    "\n",
    "to_skip = []\n",
    "\n",
    "load_existing_results = True\n",
    "save_results = True\n",
    "\n",
    "# parameters to use when doing random hyperparameter search\n",
    "lstm_output_sizes = [200,500,1000]\n",
    "w_dropout_options = [0.2,None,0.5]\n",
    "u_dropout_options = [0.2,None,0.5]\n",
    "stack_layers_options = [1,2]\n",
    "conv_size_options = [None]\n",
    "# conv_size_options = [None, 32,100,200,300]\n",
    "\n",
    "\n",
    "# Uncomment for Specific Configuration\n",
    "NN_RANDOM_SEARCH_BUDGET = 2\n",
    "lstm_output_sizes = [500,1000]\n",
    "w_dropout_options = [0.5]\n",
    "u_dropout_options = [0.5]\n",
    "stack_layers_options = [3]\n",
    "conv_size_options = [None]\n",
    "\n",
    "np.random.seed(NN_SEED)"
   ]
  },
  {
   "cell_type": "markdown",
   "metadata": {},
   "source": [
    "# Actual Training"
   ]
  },
  {
   "cell_type": "code",
   "execution_count": 152,
   "metadata": {
    "collapsed": false
   },
   "outputs": [
    {
     "name": "stderr",
     "output_type": "stream",
     "text": [
      "2017-03-27 23:55:07,969 : INFO : Loading Previous results from /mnt/data2/shalaby/nn_parameter_search_extended_abs_desc_claims_large_sample_chunks/doc2vec_size_200_w_2_type_dm_concat_0_mean_1_trainwords_0_hs_0_neg_10_vocabsize_None/epoch_8/lstm_sections_level_1_batch_2048_nn_parameter_searches.pkl\n",
      "2017-03-27 23:56:22,986 : INFO : ***************************************************************************************\n",
      "2017-03-27 23:56:22,988 : INFO : lstm_optimizer_rmsprop_size_500_w-drop_0.5_u-drop_0.5_stack_3_conv_None\n"
     ]
    },
    {
     "name": "stdout",
     "output_type": "stream",
     "text": [
      "____________________________________________________________________________________________________\n",
      "Layer (type)                     Output Shape          Param #     Connected to                     \n",
      "====================================================================================================\n",
      "lstm_500_w-drop_0.5_u-drop_0.5_l (None, None, 500)     1402000     lstm_input_15[0][0]              \n",
      "____________________________________________________________________________________________________\n",
      "lstm_500_w-drop_0.5_u-drop_0.5_l (None, None, 500)     2002000     lstm_500_w-drop_0.5_u-drop_0.5_la\n",
      "____________________________________________________________________________________________________\n",
      "lstm_500_w-drop_0.5_u-drop_0.5_l (None, 500)           2002000     lstm_500_w-drop_0.5_u-drop_0.5_la\n",
      "____________________________________________________________________________________________________\n",
      "sigmoid_output (Dense)           (None, 8)             4008        lstm_500_w-drop_0.5_u-drop_0.5_la\n",
      "====================================================================================================\n",
      "Total params: 5410008\n",
      "____________________________________________________________________________________________________\n",
      "Train on 254767 samples, validate on 60957 samples\n"
     ]
    },
    {
     "data": {
      "application/javascript": [
       "/* Put everything inside the global mpl namespace */\n",
       "window.mpl = {};\n",
       "\n",
       "mpl.get_websocket_type = function() {\n",
       "    if (typeof(WebSocket) !== 'undefined') {\n",
       "        return WebSocket;\n",
       "    } else if (typeof(MozWebSocket) !== 'undefined') {\n",
       "        return MozWebSocket;\n",
       "    } else {\n",
       "        alert('Your browser does not have WebSocket support.' +\n",
       "              'Please try Chrome, Safari or Firefox ≥ 6. ' +\n",
       "              'Firefox 4 and 5 are also supported but you ' +\n",
       "              'have to enable WebSockets in about:config.');\n",
       "    };\n",
       "}\n",
       "\n",
       "mpl.figure = function(figure_id, websocket, ondownload, parent_element) {\n",
       "    this.id = figure_id;\n",
       "\n",
       "    this.ws = websocket;\n",
       "\n",
       "    this.supports_binary = (this.ws.binaryType != undefined);\n",
       "\n",
       "    if (!this.supports_binary) {\n",
       "        var warnings = document.getElementById(\"mpl-warnings\");\n",
       "        if (warnings) {\n",
       "            warnings.style.display = 'block';\n",
       "            warnings.textContent = (\n",
       "                \"This browser does not support binary websocket messages. \" +\n",
       "                    \"Performance may be slow.\");\n",
       "        }\n",
       "    }\n",
       "\n",
       "    this.imageObj = new Image();\n",
       "\n",
       "    this.context = undefined;\n",
       "    this.message = undefined;\n",
       "    this.canvas = undefined;\n",
       "    this.rubberband_canvas = undefined;\n",
       "    this.rubberband_context = undefined;\n",
       "    this.format_dropdown = undefined;\n",
       "\n",
       "    this.image_mode = 'full';\n",
       "\n",
       "    this.root = $('<div/>');\n",
       "    this._root_extra_style(this.root)\n",
       "    this.root.attr('style', 'display: inline-block');\n",
       "\n",
       "    $(parent_element).append(this.root);\n",
       "\n",
       "    this._init_header(this);\n",
       "    this._init_canvas(this);\n",
       "    this._init_toolbar(this);\n",
       "\n",
       "    var fig = this;\n",
       "\n",
       "    this.waiting = false;\n",
       "\n",
       "    this.ws.onopen =  function () {\n",
       "            fig.send_message(\"supports_binary\", {value: fig.supports_binary});\n",
       "            fig.send_message(\"send_image_mode\", {});\n",
       "            fig.send_message(\"refresh\", {});\n",
       "        }\n",
       "\n",
       "    this.imageObj.onload = function() {\n",
       "            if (fig.image_mode == 'full') {\n",
       "                // Full images could contain transparency (where diff images\n",
       "                // almost always do), so we need to clear the canvas so that\n",
       "                // there is no ghosting.\n",
       "                fig.context.clearRect(0, 0, fig.canvas.width, fig.canvas.height);\n",
       "            }\n",
       "            fig.context.drawImage(fig.imageObj, 0, 0);\n",
       "        };\n",
       "\n",
       "    this.imageObj.onunload = function() {\n",
       "        this.ws.close();\n",
       "    }\n",
       "\n",
       "    this.ws.onmessage = this._make_on_message_function(this);\n",
       "\n",
       "    this.ondownload = ondownload;\n",
       "}\n",
       "\n",
       "mpl.figure.prototype._init_header = function() {\n",
       "    var titlebar = $(\n",
       "        '<div class=\"ui-dialog-titlebar ui-widget-header ui-corner-all ' +\n",
       "        'ui-helper-clearfix\"/>');\n",
       "    var titletext = $(\n",
       "        '<div class=\"ui-dialog-title\" style=\"width: 100%; ' +\n",
       "        'text-align: center; padding: 3px;\"/>');\n",
       "    titlebar.append(titletext)\n",
       "    this.root.append(titlebar);\n",
       "    this.header = titletext[0];\n",
       "}\n",
       "\n",
       "\n",
       "\n",
       "mpl.figure.prototype._canvas_extra_style = function(canvas_div) {\n",
       "\n",
       "}\n",
       "\n",
       "\n",
       "mpl.figure.prototype._root_extra_style = function(canvas_div) {\n",
       "\n",
       "}\n",
       "\n",
       "mpl.figure.prototype._init_canvas = function() {\n",
       "    var fig = this;\n",
       "\n",
       "    var canvas_div = $('<div/>');\n",
       "\n",
       "    canvas_div.attr('style', 'position: relative; clear: both; outline: 0');\n",
       "\n",
       "    function canvas_keyboard_event(event) {\n",
       "        return fig.key_event(event, event['data']);\n",
       "    }\n",
       "\n",
       "    canvas_div.keydown('key_press', canvas_keyboard_event);\n",
       "    canvas_div.keyup('key_release', canvas_keyboard_event);\n",
       "    this.canvas_div = canvas_div\n",
       "    this._canvas_extra_style(canvas_div)\n",
       "    this.root.append(canvas_div);\n",
       "\n",
       "    var canvas = $('<canvas/>');\n",
       "    canvas.addClass('mpl-canvas');\n",
       "    canvas.attr('style', \"left: 0; top: 0; z-index: 0; outline: 0\")\n",
       "\n",
       "    this.canvas = canvas[0];\n",
       "    this.context = canvas[0].getContext(\"2d\");\n",
       "\n",
       "    var rubberband = $('<canvas/>');\n",
       "    rubberband.attr('style', \"position: absolute; left: 0; top: 0; z-index: 1;\")\n",
       "\n",
       "    var pass_mouse_events = true;\n",
       "\n",
       "    canvas_div.resizable({\n",
       "        start: function(event, ui) {\n",
       "            pass_mouse_events = false;\n",
       "        },\n",
       "        resize: function(event, ui) {\n",
       "            fig.request_resize(ui.size.width, ui.size.height);\n",
       "        },\n",
       "        stop: function(event, ui) {\n",
       "            pass_mouse_events = true;\n",
       "            fig.request_resize(ui.size.width, ui.size.height);\n",
       "        },\n",
       "    });\n",
       "\n",
       "    function mouse_event_fn(event) {\n",
       "        if (pass_mouse_events)\n",
       "            return fig.mouse_event(event, event['data']);\n",
       "    }\n",
       "\n",
       "    rubberband.mousedown('button_press', mouse_event_fn);\n",
       "    rubberband.mouseup('button_release', mouse_event_fn);\n",
       "    // Throttle sequential mouse events to 1 every 20ms.\n",
       "    rubberband.mousemove('motion_notify', mouse_event_fn);\n",
       "\n",
       "    rubberband.mouseenter('figure_enter', mouse_event_fn);\n",
       "    rubberband.mouseleave('figure_leave', mouse_event_fn);\n",
       "\n",
       "    canvas_div.on(\"wheel\", function (event) {\n",
       "        event = event.originalEvent;\n",
       "        event['data'] = 'scroll'\n",
       "        if (event.deltaY < 0) {\n",
       "            event.step = 1;\n",
       "        } else {\n",
       "            event.step = -1;\n",
       "        }\n",
       "        mouse_event_fn(event);\n",
       "    });\n",
       "\n",
       "    canvas_div.append(canvas);\n",
       "    canvas_div.append(rubberband);\n",
       "\n",
       "    this.rubberband = rubberband;\n",
       "    this.rubberband_canvas = rubberband[0];\n",
       "    this.rubberband_context = rubberband[0].getContext(\"2d\");\n",
       "    this.rubberband_context.strokeStyle = \"#000000\";\n",
       "\n",
       "    this._resize_canvas = function(width, height) {\n",
       "        // Keep the size of the canvas, canvas container, and rubber band\n",
       "        // canvas in synch.\n",
       "        canvas_div.css('width', width)\n",
       "        canvas_div.css('height', height)\n",
       "\n",
       "        canvas.attr('width', width);\n",
       "        canvas.attr('height', height);\n",
       "\n",
       "        rubberband.attr('width', width);\n",
       "        rubberband.attr('height', height);\n",
       "    }\n",
       "\n",
       "    // Set the figure to an initial 600x600px, this will subsequently be updated\n",
       "    // upon first draw.\n",
       "    this._resize_canvas(600, 600);\n",
       "\n",
       "    // Disable right mouse context menu.\n",
       "    $(this.rubberband_canvas).bind(\"contextmenu\",function(e){\n",
       "        return false;\n",
       "    });\n",
       "\n",
       "    function set_focus () {\n",
       "        canvas.focus();\n",
       "        canvas_div.focus();\n",
       "    }\n",
       "\n",
       "    window.setTimeout(set_focus, 100);\n",
       "}\n",
       "\n",
       "mpl.figure.prototype._init_toolbar = function() {\n",
       "    var fig = this;\n",
       "\n",
       "    var nav_element = $('<div/>')\n",
       "    nav_element.attr('style', 'width: 100%');\n",
       "    this.root.append(nav_element);\n",
       "\n",
       "    // Define a callback function for later on.\n",
       "    function toolbar_event(event) {\n",
       "        return fig.toolbar_button_onclick(event['data']);\n",
       "    }\n",
       "    function toolbar_mouse_event(event) {\n",
       "        return fig.toolbar_button_onmouseover(event['data']);\n",
       "    }\n",
       "\n",
       "    for(var toolbar_ind in mpl.toolbar_items) {\n",
       "        var name = mpl.toolbar_items[toolbar_ind][0];\n",
       "        var tooltip = mpl.toolbar_items[toolbar_ind][1];\n",
       "        var image = mpl.toolbar_items[toolbar_ind][2];\n",
       "        var method_name = mpl.toolbar_items[toolbar_ind][3];\n",
       "\n",
       "        if (!name) {\n",
       "            // put a spacer in here.\n",
       "            continue;\n",
       "        }\n",
       "        var button = $('<button/>');\n",
       "        button.addClass('ui-button ui-widget ui-state-default ui-corner-all ' +\n",
       "                        'ui-button-icon-only');\n",
       "        button.attr('role', 'button');\n",
       "        button.attr('aria-disabled', 'false');\n",
       "        button.click(method_name, toolbar_event);\n",
       "        button.mouseover(tooltip, toolbar_mouse_event);\n",
       "\n",
       "        var icon_img = $('<span/>');\n",
       "        icon_img.addClass('ui-button-icon-primary ui-icon');\n",
       "        icon_img.addClass(image);\n",
       "        icon_img.addClass('ui-corner-all');\n",
       "\n",
       "        var tooltip_span = $('<span/>');\n",
       "        tooltip_span.addClass('ui-button-text');\n",
       "        tooltip_span.html(tooltip);\n",
       "\n",
       "        button.append(icon_img);\n",
       "        button.append(tooltip_span);\n",
       "\n",
       "        nav_element.append(button);\n",
       "    }\n",
       "\n",
       "    var fmt_picker_span = $('<span/>');\n",
       "\n",
       "    var fmt_picker = $('<select/>');\n",
       "    fmt_picker.addClass('mpl-toolbar-option ui-widget ui-widget-content');\n",
       "    fmt_picker_span.append(fmt_picker);\n",
       "    nav_element.append(fmt_picker_span);\n",
       "    this.format_dropdown = fmt_picker[0];\n",
       "\n",
       "    for (var ind in mpl.extensions) {\n",
       "        var fmt = mpl.extensions[ind];\n",
       "        var option = $(\n",
       "            '<option/>', {selected: fmt === mpl.default_extension}).html(fmt);\n",
       "        fmt_picker.append(option)\n",
       "    }\n",
       "\n",
       "    // Add hover states to the ui-buttons\n",
       "    $( \".ui-button\" ).hover(\n",
       "        function() { $(this).addClass(\"ui-state-hover\");},\n",
       "        function() { $(this).removeClass(\"ui-state-hover\");}\n",
       "    );\n",
       "\n",
       "    var status_bar = $('<span class=\"mpl-message\"/>');\n",
       "    nav_element.append(status_bar);\n",
       "    this.message = status_bar[0];\n",
       "}\n",
       "\n",
       "mpl.figure.prototype.request_resize = function(x_pixels, y_pixels) {\n",
       "    // Request matplotlib to resize the figure. Matplotlib will then trigger a resize in the client,\n",
       "    // which will in turn request a refresh of the image.\n",
       "    this.send_message('resize', {'width': x_pixels, 'height': y_pixels});\n",
       "}\n",
       "\n",
       "mpl.figure.prototype.send_message = function(type, properties) {\n",
       "    properties['type'] = type;\n",
       "    properties['figure_id'] = this.id;\n",
       "    this.ws.send(JSON.stringify(properties));\n",
       "}\n",
       "\n",
       "mpl.figure.prototype.send_draw_message = function() {\n",
       "    if (!this.waiting) {\n",
       "        this.waiting = true;\n",
       "        this.ws.send(JSON.stringify({type: \"draw\", figure_id: this.id}));\n",
       "    }\n",
       "}\n",
       "\n",
       "\n",
       "mpl.figure.prototype.handle_save = function(fig, msg) {\n",
       "    var format_dropdown = fig.format_dropdown;\n",
       "    var format = format_dropdown.options[format_dropdown.selectedIndex].value;\n",
       "    fig.ondownload(fig, format);\n",
       "}\n",
       "\n",
       "\n",
       "mpl.figure.prototype.handle_resize = function(fig, msg) {\n",
       "    var size = msg['size'];\n",
       "    if (size[0] != fig.canvas.width || size[1] != fig.canvas.height) {\n",
       "        fig._resize_canvas(size[0], size[1]);\n",
       "        fig.send_message(\"refresh\", {});\n",
       "    };\n",
       "}\n",
       "\n",
       "mpl.figure.prototype.handle_rubberband = function(fig, msg) {\n",
       "    var x0 = msg['x0'];\n",
       "    var y0 = fig.canvas.height - msg['y0'];\n",
       "    var x1 = msg['x1'];\n",
       "    var y1 = fig.canvas.height - msg['y1'];\n",
       "    x0 = Math.floor(x0) + 0.5;\n",
       "    y0 = Math.floor(y0) + 0.5;\n",
       "    x1 = Math.floor(x1) + 0.5;\n",
       "    y1 = Math.floor(y1) + 0.5;\n",
       "    var min_x = Math.min(x0, x1);\n",
       "    var min_y = Math.min(y0, y1);\n",
       "    var width = Math.abs(x1 - x0);\n",
       "    var height = Math.abs(y1 - y0);\n",
       "\n",
       "    fig.rubberband_context.clearRect(\n",
       "        0, 0, fig.canvas.width, fig.canvas.height);\n",
       "\n",
       "    fig.rubberband_context.strokeRect(min_x, min_y, width, height);\n",
       "}\n",
       "\n",
       "mpl.figure.prototype.handle_figure_label = function(fig, msg) {\n",
       "    // Updates the figure title.\n",
       "    fig.header.textContent = msg['label'];\n",
       "}\n",
       "\n",
       "mpl.figure.prototype.handle_cursor = function(fig, msg) {\n",
       "    var cursor = msg['cursor'];\n",
       "    switch(cursor)\n",
       "    {\n",
       "    case 0:\n",
       "        cursor = 'pointer';\n",
       "        break;\n",
       "    case 1:\n",
       "        cursor = 'default';\n",
       "        break;\n",
       "    case 2:\n",
       "        cursor = 'crosshair';\n",
       "        break;\n",
       "    case 3:\n",
       "        cursor = 'move';\n",
       "        break;\n",
       "    }\n",
       "    fig.rubberband_canvas.style.cursor = cursor;\n",
       "}\n",
       "\n",
       "mpl.figure.prototype.handle_message = function(fig, msg) {\n",
       "    fig.message.textContent = msg['message'];\n",
       "}\n",
       "\n",
       "mpl.figure.prototype.handle_draw = function(fig, msg) {\n",
       "    // Request the server to send over a new figure.\n",
       "    fig.send_draw_message();\n",
       "}\n",
       "\n",
       "mpl.figure.prototype.handle_image_mode = function(fig, msg) {\n",
       "    fig.image_mode = msg['mode'];\n",
       "}\n",
       "\n",
       "mpl.figure.prototype.updated_canvas_event = function() {\n",
       "    // Called whenever the canvas gets updated.\n",
       "    this.send_message(\"ack\", {});\n",
       "}\n",
       "\n",
       "// A function to construct a web socket function for onmessage handling.\n",
       "// Called in the figure constructor.\n",
       "mpl.figure.prototype._make_on_message_function = function(fig) {\n",
       "    return function socket_on_message(evt) {\n",
       "        if (evt.data instanceof Blob) {\n",
       "            /* FIXME: We get \"Resource interpreted as Image but\n",
       "             * transferred with MIME type text/plain:\" errors on\n",
       "             * Chrome.  But how to set the MIME type?  It doesn't seem\n",
       "             * to be part of the websocket stream */\n",
       "            evt.data.type = \"image/png\";\n",
       "\n",
       "            /* Free the memory for the previous frames */\n",
       "            if (fig.imageObj.src) {\n",
       "                (window.URL || window.webkitURL).revokeObjectURL(\n",
       "                    fig.imageObj.src);\n",
       "            }\n",
       "\n",
       "            fig.imageObj.src = (window.URL || window.webkitURL).createObjectURL(\n",
       "                evt.data);\n",
       "            fig.updated_canvas_event();\n",
       "            fig.waiting = false;\n",
       "            return;\n",
       "        }\n",
       "        else if (typeof evt.data === 'string' && evt.data.slice(0, 21) == \"data:image/png;base64\") {\n",
       "            fig.imageObj.src = evt.data;\n",
       "            fig.updated_canvas_event();\n",
       "            fig.waiting = false;\n",
       "            return;\n",
       "        }\n",
       "\n",
       "        var msg = JSON.parse(evt.data);\n",
       "        var msg_type = msg['type'];\n",
       "\n",
       "        // Call the  \"handle_{type}\" callback, which takes\n",
       "        // the figure and JSON message as its only arguments.\n",
       "        try {\n",
       "            var callback = fig[\"handle_\" + msg_type];\n",
       "        } catch (e) {\n",
       "            console.log(\"No handler for the '\" + msg_type + \"' message type: \", msg);\n",
       "            return;\n",
       "        }\n",
       "\n",
       "        if (callback) {\n",
       "            try {\n",
       "                // console.log(\"Handling '\" + msg_type + \"' message: \", msg);\n",
       "                callback(fig, msg);\n",
       "            } catch (e) {\n",
       "                console.log(\"Exception inside the 'handler_\" + msg_type + \"' callback:\", e, e.stack, msg);\n",
       "            }\n",
       "        }\n",
       "    };\n",
       "}\n",
       "\n",
       "// from http://stackoverflow.com/questions/1114465/getting-mouse-location-in-canvas\n",
       "mpl.findpos = function(e) {\n",
       "    //this section is from http://www.quirksmode.org/js/events_properties.html\n",
       "    var targ;\n",
       "    if (!e)\n",
       "        e = window.event;\n",
       "    if (e.target)\n",
       "        targ = e.target;\n",
       "    else if (e.srcElement)\n",
       "        targ = e.srcElement;\n",
       "    if (targ.nodeType == 3) // defeat Safari bug\n",
       "        targ = targ.parentNode;\n",
       "\n",
       "    // jQuery normalizes the pageX and pageY\n",
       "    // pageX,Y are the mouse positions relative to the document\n",
       "    // offset() returns the position of the element relative to the document\n",
       "    var x = e.pageX - $(targ).offset().left;\n",
       "    var y = e.pageY - $(targ).offset().top;\n",
       "\n",
       "    return {\"x\": x, \"y\": y};\n",
       "};\n",
       "\n",
       "/*\n",
       " * return a copy of an object with only non-object keys\n",
       " * we need this to avoid circular references\n",
       " * http://stackoverflow.com/a/24161582/3208463\n",
       " */\n",
       "function simpleKeys (original) {\n",
       "  return Object.keys(original).reduce(function (obj, key) {\n",
       "    if (typeof original[key] !== 'object')\n",
       "        obj[key] = original[key]\n",
       "    return obj;\n",
       "  }, {});\n",
       "}\n",
       "\n",
       "mpl.figure.prototype.mouse_event = function(event, name) {\n",
       "    var canvas_pos = mpl.findpos(event)\n",
       "\n",
       "    if (name === 'button_press')\n",
       "    {\n",
       "        this.canvas.focus();\n",
       "        this.canvas_div.focus();\n",
       "    }\n",
       "\n",
       "    var x = canvas_pos.x;\n",
       "    var y = canvas_pos.y;\n",
       "\n",
       "    this.send_message(name, {x: x, y: y, button: event.button,\n",
       "                             step: event.step,\n",
       "                             guiEvent: simpleKeys(event)});\n",
       "\n",
       "    /* This prevents the web browser from automatically changing to\n",
       "     * the text insertion cursor when the button is pressed.  We want\n",
       "     * to control all of the cursor setting manually through the\n",
       "     * 'cursor' event from matplotlib */\n",
       "    event.preventDefault();\n",
       "    return false;\n",
       "}\n",
       "\n",
       "mpl.figure.prototype._key_event_extra = function(event, name) {\n",
       "    // Handle any extra behaviour associated with a key event\n",
       "}\n",
       "\n",
       "mpl.figure.prototype.key_event = function(event, name) {\n",
       "\n",
       "    // Prevent repeat events\n",
       "    if (name == 'key_press')\n",
       "    {\n",
       "        if (event.which === this._key)\n",
       "            return;\n",
       "        else\n",
       "            this._key = event.which;\n",
       "    }\n",
       "    if (name == 'key_release')\n",
       "        this._key = null;\n",
       "\n",
       "    var value = '';\n",
       "    if (event.ctrlKey && event.which != 17)\n",
       "        value += \"ctrl+\";\n",
       "    if (event.altKey && event.which != 18)\n",
       "        value += \"alt+\";\n",
       "    if (event.shiftKey && event.which != 16)\n",
       "        value += \"shift+\";\n",
       "\n",
       "    value += 'k';\n",
       "    value += event.which.toString();\n",
       "\n",
       "    this._key_event_extra(event, name);\n",
       "\n",
       "    this.send_message(name, {key: value,\n",
       "                             guiEvent: simpleKeys(event)});\n",
       "    return false;\n",
       "}\n",
       "\n",
       "mpl.figure.prototype.toolbar_button_onclick = function(name) {\n",
       "    if (name == 'download') {\n",
       "        this.handle_save(this, null);\n",
       "    } else {\n",
       "        this.send_message(\"toolbar_button\", {name: name});\n",
       "    }\n",
       "};\n",
       "\n",
       "mpl.figure.prototype.toolbar_button_onmouseover = function(tooltip) {\n",
       "    this.message.textContent = tooltip;\n",
       "};\n",
       "mpl.toolbar_items = [[\"Home\", \"Reset original view\", \"fa fa-home icon-home\", \"home\"], [\"Back\", \"Back to  previous view\", \"fa fa-arrow-left icon-arrow-left\", \"back\"], [\"Forward\", \"Forward to next view\", \"fa fa-arrow-right icon-arrow-right\", \"forward\"], [\"\", \"\", \"\", \"\"], [\"Pan\", \"Pan axes with left mouse, zoom with right\", \"fa fa-arrows icon-move\", \"pan\"], [\"Zoom\", \"Zoom to rectangle\", \"fa fa-square-o icon-check-empty\", \"zoom\"], [\"\", \"\", \"\", \"\"], [\"Download\", \"Download plot\", \"fa fa-floppy-o icon-save\", \"download\"]];\n",
       "\n",
       "mpl.extensions = [\"eps\", \"pdf\", \"png\", \"ps\", \"raw\", \"svg\"];\n",
       "\n",
       "mpl.default_extension = \"png\";var comm_websocket_adapter = function(comm) {\n",
       "    // Create a \"websocket\"-like object which calls the given IPython comm\n",
       "    // object with the appropriate methods. Currently this is a non binary\n",
       "    // socket, so there is still some room for performance tuning.\n",
       "    var ws = {};\n",
       "\n",
       "    ws.close = function() {\n",
       "        comm.close()\n",
       "    };\n",
       "    ws.send = function(m) {\n",
       "        //console.log('sending', m);\n",
       "        comm.send(m);\n",
       "    };\n",
       "    // Register the callback with on_msg.\n",
       "    comm.on_msg(function(msg) {\n",
       "        //console.log('receiving', msg['content']['data'], msg);\n",
       "        // Pass the mpl event to the overriden (by mpl) onmessage function.\n",
       "        ws.onmessage(msg['content']['data'])\n",
       "    });\n",
       "    return ws;\n",
       "}\n",
       "\n",
       "mpl.mpl_figure_comm = function(comm, msg) {\n",
       "    // This is the function which gets called when the mpl process\n",
       "    // starts-up an IPython Comm through the \"matplotlib\" channel.\n",
       "\n",
       "    var id = msg.content.data.id;\n",
       "    // Get hold of the div created by the display call when the Comm\n",
       "    // socket was opened in Python.\n",
       "    var element = $(\"#\" + id);\n",
       "    var ws_proxy = comm_websocket_adapter(comm)\n",
       "\n",
       "    function ondownload(figure, format) {\n",
       "        window.open(figure.imageObj.src);\n",
       "    }\n",
       "\n",
       "    var fig = new mpl.figure(id, ws_proxy,\n",
       "                           ondownload,\n",
       "                           element.get(0));\n",
       "\n",
       "    // Call onopen now - mpl needs it, as it is assuming we've passed it a real\n",
       "    // web socket which is closed, not our websocket->open comm proxy.\n",
       "    ws_proxy.onopen();\n",
       "\n",
       "    fig.parent_element = element.get(0);\n",
       "    fig.cell_info = mpl.find_output_cell(\"<div id='\" + id + \"'></div>\");\n",
       "    if (!fig.cell_info) {\n",
       "        console.error(\"Failed to find cell for figure\", id, fig);\n",
       "        return;\n",
       "    }\n",
       "\n",
       "    var output_index = fig.cell_info[2]\n",
       "    var cell = fig.cell_info[0];\n",
       "\n",
       "};\n",
       "\n",
       "mpl.figure.prototype.handle_close = function(fig, msg) {\n",
       "    fig.root.unbind('remove')\n",
       "\n",
       "    // Update the output cell to use the data from the current canvas.\n",
       "    fig.push_to_output();\n",
       "    var dataURL = fig.canvas.toDataURL();\n",
       "    // Re-enable the keyboard manager in IPython - without this line, in FF,\n",
       "    // the notebook keyboard shortcuts fail.\n",
       "    IPython.keyboard_manager.enable()\n",
       "    $(fig.parent_element).html('<img src=\"' + dataURL + '\">');\n",
       "    fig.close_ws(fig, msg);\n",
       "}\n",
       "\n",
       "mpl.figure.prototype.close_ws = function(fig, msg){\n",
       "    fig.send_message('closing', msg);\n",
       "    // fig.ws.close()\n",
       "}\n",
       "\n",
       "mpl.figure.prototype.push_to_output = function(remove_interactive) {\n",
       "    // Turn the data on the canvas into data in the output cell.\n",
       "    var dataURL = this.canvas.toDataURL();\n",
       "    this.cell_info[1]['text/html'] = '<img src=\"' + dataURL + '\">';\n",
       "}\n",
       "\n",
       "mpl.figure.prototype.updated_canvas_event = function() {\n",
       "    // Tell IPython that the notebook contents must change.\n",
       "    IPython.notebook.set_dirty(true);\n",
       "    this.send_message(\"ack\", {});\n",
       "    var fig = this;\n",
       "    // Wait a second, then push the new image to the DOM so\n",
       "    // that it is saved nicely (might be nice to debounce this).\n",
       "    setTimeout(function () { fig.push_to_output() }, 1000);\n",
       "}\n",
       "\n",
       "mpl.figure.prototype._init_toolbar = function() {\n",
       "    var fig = this;\n",
       "\n",
       "    var nav_element = $('<div/>')\n",
       "    nav_element.attr('style', 'width: 100%');\n",
       "    this.root.append(nav_element);\n",
       "\n",
       "    // Define a callback function for later on.\n",
       "    function toolbar_event(event) {\n",
       "        return fig.toolbar_button_onclick(event['data']);\n",
       "    }\n",
       "    function toolbar_mouse_event(event) {\n",
       "        return fig.toolbar_button_onmouseover(event['data']);\n",
       "    }\n",
       "\n",
       "    for(var toolbar_ind in mpl.toolbar_items){\n",
       "        var name = mpl.toolbar_items[toolbar_ind][0];\n",
       "        var tooltip = mpl.toolbar_items[toolbar_ind][1];\n",
       "        var image = mpl.toolbar_items[toolbar_ind][2];\n",
       "        var method_name = mpl.toolbar_items[toolbar_ind][3];\n",
       "\n",
       "        if (!name) { continue; };\n",
       "\n",
       "        var button = $('<button class=\"btn btn-default\" href=\"#\" title=\"' + name + '\"><i class=\"fa ' + image + ' fa-lg\"></i></button>');\n",
       "        button.click(method_name, toolbar_event);\n",
       "        button.mouseover(tooltip, toolbar_mouse_event);\n",
       "        nav_element.append(button);\n",
       "    }\n",
       "\n",
       "    // Add the status bar.\n",
       "    var status_bar = $('<span class=\"mpl-message\" style=\"text-align:right; float: right;\"/>');\n",
       "    nav_element.append(status_bar);\n",
       "    this.message = status_bar[0];\n",
       "\n",
       "    // Add the close button to the window.\n",
       "    var buttongrp = $('<div class=\"btn-group inline pull-right\"></div>');\n",
       "    var button = $('<button class=\"btn btn-mini btn-primary\" href=\"#\" title=\"Stop Interaction\"><i class=\"fa fa-power-off icon-remove icon-large\"></i></button>');\n",
       "    button.click(function (evt) { fig.handle_close(fig, {}); } );\n",
       "    button.mouseover('Stop Interaction', toolbar_mouse_event);\n",
       "    buttongrp.append(button);\n",
       "    var titlebar = this.root.find($('.ui-dialog-titlebar'));\n",
       "    titlebar.prepend(buttongrp);\n",
       "}\n",
       "\n",
       "mpl.figure.prototype._root_extra_style = function(el){\n",
       "    var fig = this\n",
       "    el.on(\"remove\", function(){\n",
       "\tfig.close_ws(fig, {});\n",
       "    });\n",
       "}\n",
       "\n",
       "mpl.figure.prototype._canvas_extra_style = function(el){\n",
       "    // this is important to make the div 'focusable\n",
       "    el.attr('tabindex', 0)\n",
       "    // reach out to IPython and tell the keyboard manager to turn it's self\n",
       "    // off when our div gets focus\n",
       "\n",
       "    // location in version 3\n",
       "    if (IPython.notebook.keyboard_manager) {\n",
       "        IPython.notebook.keyboard_manager.register_events(el);\n",
       "    }\n",
       "    else {\n",
       "        // location in version 2\n",
       "        IPython.keyboard_manager.register_events(el);\n",
       "    }\n",
       "\n",
       "}\n",
       "\n",
       "mpl.figure.prototype._key_event_extra = function(event, name) {\n",
       "    var manager = IPython.notebook.keyboard_manager;\n",
       "    if (!manager)\n",
       "        manager = IPython.keyboard_manager;\n",
       "\n",
       "    // Check for shift+enter\n",
       "    if (event.shiftKey && event.which == 13) {\n",
       "        this.canvas_div.blur();\n",
       "        event.shiftKey = false;\n",
       "        // Send a \"J\" for go to next cell\n",
       "        event.which = 74;\n",
       "        event.keyCode = 74;\n",
       "        manager.command_mode();\n",
       "        manager.handle_keydown(event);\n",
       "    }\n",
       "}\n",
       "\n",
       "mpl.figure.prototype.handle_save = function(fig, msg) {\n",
       "    fig.ondownload(fig, null);\n",
       "}\n",
       "\n",
       "\n",
       "mpl.find_output_cell = function(html_output) {\n",
       "    // Return the cell and output element which can be found *uniquely* in the notebook.\n",
       "    // Note - this is a bit hacky, but it is done because the \"notebook_saving.Notebook\"\n",
       "    // IPython event is triggered only after the cells have been serialised, which for\n",
       "    // our purposes (turning an active figure into a static one), is too late.\n",
       "    var cells = IPython.notebook.get_cells();\n",
       "    var ncells = cells.length;\n",
       "    for (var i=0; i<ncells; i++) {\n",
       "        var cell = cells[i];\n",
       "        if (cell.cell_type === 'code'){\n",
       "            for (var j=0; j<cell.output_area.outputs.length; j++) {\n",
       "                var data = cell.output_area.outputs[j];\n",
       "                if (data.data) {\n",
       "                    // IPython >= 3 moved mimebundle to data attribute of output\n",
       "                    data = data.data;\n",
       "                }\n",
       "                if (data['text/html'] == html_output) {\n",
       "                    return [cell, data, j];\n",
       "                }\n",
       "            }\n",
       "        }\n",
       "    }\n",
       "}\n",
       "\n",
       "// Register the function which deals with the matplotlib target/channel.\n",
       "// The kernel may be null if the page has been refreshed.\n",
       "if (IPython.notebook.kernel != null) {\n",
       "    IPython.notebook.kernel.comm_manager.register_target('matplotlib', mpl.mpl_figure_comm);\n",
       "}\n"
      ],
      "text/plain": [
       "<IPython.core.display.Javascript object>"
      ]
     },
     "metadata": {},
     "output_type": "display_data"
    },
    {
     "data": {
      "text/html": [
       "<img src=\"data:image/png;base64,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\">"
      ],
      "text/plain": [
       "<IPython.core.display.HTML object>"
      ]
     },
     "metadata": {},
     "output_type": "display_data"
    },
    {
     "name": "stdout",
     "output_type": "stream",
     "text": [
      "Epoch 1/200\n",
      "253952/254767 [============================>.] - ETA: 0s - loss: 0.3438"
     ]
    },
    {
     "name": "stderr",
     "output_type": "stream",
     "text": [
      "2017-03-27 23:58:07,017 : INFO : Found lower val loss for epoch 1 => 0.27536\n"
     ]
    },
    {
     "name": "stdout",
     "output_type": "stream",
     "text": [
      "254767/254767 [==============================] - 36s - loss: 0.3437 - val_loss: 0.2754\n",
      "Epoch 2/200\n",
      "253952/254767 [============================>.] - ETA: 0s - loss: 0.3035"
     ]
    },
    {
     "name": "stderr",
     "output_type": "stream",
     "text": [
      "2017-03-27 23:58:43,064 : INFO : Found lower val loss for epoch 2 => 0.25655\n"
     ]
    },
    {
     "name": "stdout",
     "output_type": "stream",
     "text": [
      "254767/254767 [==============================] - 36s - loss: 0.3035 - val_loss: 0.2565\n",
      "Epoch 3/200\n",
      "253952/254767 [============================>.] - ETA: 0s - loss: 0.2867"
     ]
    },
    {
     "name": "stderr",
     "output_type": "stream",
     "text": [
      "2017-03-27 23:59:18,920 : INFO : Found lower val loss for epoch 3 => 0.251\n"
     ]
    },
    {
     "name": "stdout",
     "output_type": "stream",
     "text": [
      "254767/254767 [==============================] - 35s - loss: 0.2866 - val_loss: 0.2510\n",
      "Epoch 4/200\n",
      "253952/254767 [============================>.] - ETA: 0s - loss: 0.2716"
     ]
    },
    {
     "name": "stderr",
     "output_type": "stream",
     "text": [
      "2017-03-27 23:59:54,595 : INFO : Found lower val loss for epoch 4 => 0.25074\n"
     ]
    },
    {
     "name": "stdout",
     "output_type": "stream",
     "text": [
      "254767/254767 [==============================] - 35s - loss: 0.2716 - val_loss: 0.2507\n",
      "Epoch 5/200\n",
      "253952/254767 [============================>.] - ETA: 0s - loss: 0.2566"
     ]
    },
    {
     "name": "stderr",
     "output_type": "stream",
     "text": [
      "2017-03-28 00:00:31,194 : INFO : Found lower val loss for epoch 5 => 0.24403\n"
     ]
    },
    {
     "name": "stdout",
     "output_type": "stream",
     "text": [
      "254767/254767 [==============================] - 36s - loss: 0.2565 - val_loss: 0.2440\n",
      "Epoch 6/200\n",
      "253952/254767 [============================>.] - ETA: 0s - loss: 0.2459"
     ]
    },
    {
     "name": "stderr",
     "output_type": "stream",
     "text": [
      "2017-03-28 00:01:07,502 : INFO : Found lower val loss for epoch 6 => 0.22839\n"
     ]
    },
    {
     "name": "stdout",
     "output_type": "stream",
     "text": [
      "254767/254767 [==============================] - 36s - loss: 0.2459 - val_loss: 0.2284\n",
      "Epoch 7/200\n",
      "253952/254767 [============================>.] - ETA: 0s - loss: 0.2391"
     ]
    },
    {
     "name": "stderr",
     "output_type": "stream",
     "text": [
      "2017-03-28 00:01:46,688 : INFO : Found lower val loss for epoch 7 => 0.22628\n"
     ]
    },
    {
     "name": "stdout",
     "output_type": "stream",
     "text": [
      "254767/254767 [==============================] - 39s - loss: 0.2391 - val_loss: 0.2263\n",
      "Epoch 8/200\n",
      "254767/254767 [==============================] - 39s - loss: 0.2334 - val_loss: 0.2273\n",
      "Epoch 9/200\n",
      "253952/254767 [============================>.] - ETA: 0s - loss: 0.2281"
     ]
    },
    {
     "name": "stderr",
     "output_type": "stream",
     "text": [
      "2017-03-28 00:03:09,669 : INFO : Found lower val loss for epoch 9 => 0.21857\n"
     ]
    },
    {
     "name": "stdout",
     "output_type": "stream",
     "text": [
      "254767/254767 [==============================] - 42s - loss: 0.2282 - val_loss: 0.2186\n",
      "Epoch 10/200\n",
      "253952/254767 [============================>.] - ETA: 0s - loss: 0.2238"
     ]
    },
    {
     "name": "stderr",
     "output_type": "stream",
     "text": [
      "2017-03-28 00:03:52,888 : INFO : Found lower val loss for epoch 10 => 0.21601\n"
     ]
    },
    {
     "name": "stdout",
     "output_type": "stream",
     "text": [
      "254767/254767 [==============================] - 43s - loss: 0.2238 - val_loss: 0.2160\n",
      "Epoch 11/200\n",
      "253952/254767 [============================>.] - ETA: 0s - loss: 0.2204"
     ]
    },
    {
     "name": "stderr",
     "output_type": "stream",
     "text": [
      "2017-03-28 00:04:38,136 : INFO : Found lower val loss for epoch 11 => 0.21568\n",
      "2017-03-28 00:04:38,137 : INFO : Validation Loss Reduced 10 times\n",
      "2017-03-28 00:04:38,138 : INFO : Evaluating on Validation Data\n",
      "2017-03-28 00:05:09,389 : INFO : Generating Validation Metrics\n"
     ]
    },
    {
     "name": "stdout",
     "output_type": "stream",
     "text": [
      "****** Validation Metrics: Cov Err: 1.712 | Top 3: 0.933 | Top 5: 0.987 | F1 Micro: 0.674 | F1 Macro: 0.597\n",
      "254767/254767 [==============================] - 78s - loss: 0.2205 - val_loss: 0.2157\n",
      "Epoch 12/200\n",
      "254767/254767 [==============================] - 36s - loss: 0.2173 - val_loss: 0.2159\n",
      "Epoch 13/200\n",
      "253952/254767 [============================>.] - ETA: 0s - loss: 0.2147"
     ]
    },
    {
     "name": "stderr",
     "output_type": "stream",
     "text": [
      "2017-03-28 00:06:32,478 : INFO : Found lower val loss for epoch 13 => 0.2103\n"
     ]
    },
    {
     "name": "stdout",
     "output_type": "stream",
     "text": [
      "254767/254767 [==============================] - 44s - loss: 0.2147 - val_loss: 0.2103\n",
      "Epoch 14/200\n",
      "254767/254767 [==============================] - 44s - loss: 0.2118 - val_loss: 0.2139\n",
      "Epoch 15/200\n",
      "254767/254767 [==============================] - 46s - loss: 0.2095 - val_loss: 0.2134\n",
      "Epoch 16/200\n",
      "253952/254767 [============================>.] - ETA: 0s - loss: 0.2074"
     ]
    },
    {
     "name": "stderr",
     "output_type": "stream",
     "text": [
      "2017-03-28 00:08:49,522 : INFO : Found lower val loss for epoch 16 => 0.2078\n"
     ]
    },
    {
     "name": "stdout",
     "output_type": "stream",
     "text": [
      "254767/254767 [==============================] - 45s - loss: 0.2074 - val_loss: 0.2078\n",
      "Epoch 17/200\n",
      "254767/254767 [==============================] - 46s - loss: 0.2051 - val_loss: 0.2095\n",
      "Epoch 18/200\n",
      "253952/254767 [============================>.] - ETA: 0s - loss: 0.2032"
     ]
    },
    {
     "name": "stderr",
     "output_type": "stream",
     "text": [
      "2017-03-28 00:10:21,122 : INFO : Found lower val loss for epoch 18 => 0.20566\n"
     ]
    },
    {
     "name": "stdout",
     "output_type": "stream",
     "text": [
      "254767/254767 [==============================] - 45s - loss: 0.2032 - val_loss: 0.2057\n",
      "Epoch 19/200\n",
      "254767/254767 [==============================] - 46s - loss: 0.2015 - val_loss: 0.2096\n",
      "Epoch 20/200\n",
      "254767/254767 [==============================] - 45s - loss: 0.1999 - val_loss: 0.2089\n",
      "Epoch 21/200\n",
      "253952/254767 [============================>.] - ETA: 0s - loss: 0.1985"
     ]
    },
    {
     "name": "stderr",
     "output_type": "stream",
     "text": [
      "2017-03-28 00:12:38,664 : INFO : Found lower val loss for epoch 21 => 0.20538\n"
     ]
    },
    {
     "name": "stdout",
     "output_type": "stream",
     "text": [
      "254767/254767 [==============================] - 45s - loss: 0.1985 - val_loss: 0.2054\n",
      "Epoch 22/200\n",
      "253952/254767 [============================>.] - ETA: 0s - loss: 0.1972"
     ]
    },
    {
     "name": "stderr",
     "output_type": "stream",
     "text": [
      "2017-03-28 00:13:23,584 : INFO : Found lower val loss for epoch 22 => 0.20442\n"
     ]
    },
    {
     "name": "stdout",
     "output_type": "stream",
     "text": [
      "254767/254767 [==============================] - 44s - loss: 0.1972 - val_loss: 0.2044\n",
      "Epoch 23/200\n",
      "254767/254767 [==============================] - 45s - loss: 0.1955 - val_loss: 0.2052\n",
      "Epoch 24/200\n",
      "254767/254767 [==============================] - 47s - loss: 0.1945 - val_loss: 0.2090\n",
      "Epoch 25/200\n",
      "254767/254767 [==============================] - 68s - loss: 0.1932 - val_loss: 0.2058\n",
      "Epoch 26/200\n",
      "254767/254767 [==============================] - 65s - loss: 0.1921 - val_loss: 0.2057\n",
      "Epoch 27/200\n",
      "254767/254767 [==============================] - 49s - loss: 0.1909 - val_loss: 0.2067\n",
      "Epoch 28/200\n",
      "254767/254767 [==============================] - 63s - loss: 0.1903 - val_loss: 0.2049\n",
      "Epoch 29/200\n",
      "254767/254767 [==============================] - 57s - loss: 0.1891 - val_loss: 0.2054\n",
      "Epoch 30/200\n",
      "253952/254767 [============================>.] - ETA: 0s - loss: 0.1880"
     ]
    },
    {
     "name": "stderr",
     "output_type": "stream",
     "text": [
      "2017-03-28 00:21:02,708 : INFO : Found lower val loss for epoch 30 => 0.20064\n"
     ]
    },
    {
     "name": "stdout",
     "output_type": "stream",
     "text": [
      "254767/254767 [==============================] - 63s - loss: 0.1880 - val_loss: 0.2006\n",
      "Epoch 31/200\n",
      "254767/254767 [==============================] - 63s - loss: 0.1873 - val_loss: 0.2015\n",
      "Epoch 32/200\n",
      "254767/254767 [==============================] - 57s - loss: 0.1863 - val_loss: 0.2040\n",
      "Epoch 33/200\n",
      "254767/254767 [==============================] - 68s - loss: 0.1856 - val_loss: 0.2033\n",
      "Epoch 34/200\n",
      "254767/254767 [==============================] - 62s - loss: 0.1851 - val_loss: 0.2014\n",
      "Epoch 35/200\n",
      "253952/254767 [============================>.] - ETA: 0s - loss: 0.1842"
     ]
    },
    {
     "name": "stderr",
     "output_type": "stream",
     "text": [
      "2017-03-28 00:26:14,837 : INFO : Found lower val loss for epoch 35 => 0.1998\n"
     ]
    },
    {
     "name": "stdout",
     "output_type": "stream",
     "text": [
      "254767/254767 [==============================] - 60s - loss: 0.1841 - val_loss: 0.1998\n",
      "Epoch 36/200\n",
      "253952/254767 [============================>.] - ETA: 0s - loss: 0.1837"
     ]
    },
    {
     "name": "stderr",
     "output_type": "stream",
     "text": [
      "2017-03-28 00:27:24,470 : INFO : Found lower val loss for epoch 36 => 0.19964\n"
     ]
    },
    {
     "name": "stdout",
     "output_type": "stream",
     "text": [
      "254767/254767 [==============================] - 69s - loss: 0.1837 - val_loss: 0.1996\n",
      "Epoch 37/200\n",
      "253952/254767 [============================>.] - ETA: 0s - loss: 0.1826"
     ]
    },
    {
     "name": "stderr",
     "output_type": "stream",
     "text": [
      "2017-03-28 00:28:16,583 : INFO : Found lower val loss for epoch 37 => 0.19917\n"
     ]
    },
    {
     "name": "stdout",
     "output_type": "stream",
     "text": [
      "254767/254767 [==============================] - 52s - loss: 0.1826 - val_loss: 0.1992\n",
      "Epoch 38/200\n",
      "254767/254767 [==============================] - 77s - loss: 0.1821 - val_loss: 0.2005\n",
      "Epoch 39/200\n",
      "253952/254767 [============================>.] - ETA: 0s - loss: 0.1814"
     ]
    },
    {
     "name": "stderr",
     "output_type": "stream",
     "text": [
      "2017-03-28 00:30:48,429 : INFO : Found lower val loss for epoch 39 => 0.19766\n",
      "2017-03-28 00:30:48,431 : INFO : Validation Loss Reduced 20 times\n",
      "2017-03-28 00:30:48,433 : INFO : Evaluating on Validation Data\n",
      "2017-03-28 00:31:38,168 : INFO : Generating Validation Metrics\n"
     ]
    },
    {
     "name": "stdout",
     "output_type": "stream",
     "text": [
      "****** Validation Metrics: Cov Err: 1.613 | Top 3: 0.950 | Top 5: 0.991 | F1 Micro: 0.712 | F1 Macro: 0.647\n",
      "254767/254767 [==============================] - 126s - loss: 0.1814 - val_loss: 0.1977\n",
      "Epoch 40/200\n",
      "254767/254767 [==============================] - 57s - loss: 0.1807 - val_loss: 0.2002\n",
      "Epoch 41/200\n",
      "254767/254767 [==============================] - 70s - loss: 0.1799 - val_loss: 0.2000\n",
      "Epoch 42/200\n",
      "254767/254767 [==============================] - 61s - loss: 0.1797 - val_loss: 0.1992\n",
      "Epoch 43/200\n",
      "253952/254767 [============================>.] - ETA: 0s - loss: 0.1792"
     ]
    },
    {
     "name": "stderr",
     "output_type": "stream",
     "text": [
      "2017-03-28 00:35:53,229 : INFO : Found lower val loss for epoch 43 => 0.19581\n"
     ]
    },
    {
     "name": "stdout",
     "output_type": "stream",
     "text": [
      "254767/254767 [==============================] - 63s - loss: 0.1792 - val_loss: 0.1958\n",
      "Epoch 44/200\n",
      "254767/254767 [==============================] - 67s - loss: 0.1785 - val_loss: 0.1981\n",
      "Epoch 45/200\n",
      "254767/254767 [==============================] - 56s - loss: 0.1779 - val_loss: 0.1989\n",
      "Epoch 46/200\n",
      "254767/254767 [==============================] - 64s - loss: 0.1777 - val_loss: 0.2011\n",
      "Epoch 47/200\n",
      "254767/254767 [==============================] - 56s - loss: 0.1771 - val_loss: 0.1983\n",
      "Epoch 48/200\n",
      "254767/254767 [==============================] - 69s - loss: 0.1765 - val_loss: 0.1961\n",
      "Epoch 49/200\n",
      "254767/254767 [==============================] - 69s - loss: 0.1759 - val_loss: 0.1961\n",
      "Epoch 50/200\n",
      "254767/254767 [==============================] - 55s - loss: 0.1756 - val_loss: 0.1966\n",
      "Epoch 51/200\n",
      "253952/254767 [============================>.] - ETA: 0s - loss: 0.1751"
     ]
    },
    {
     "name": "stderr",
     "output_type": "stream",
     "text": [
      "2017-03-28 00:44:15,888 : INFO : Found lower val loss for epoch 51 => 0.19307\n"
     ]
    },
    {
     "name": "stdout",
     "output_type": "stream",
     "text": [
      "254767/254767 [==============================] - 64s - loss: 0.1751 - val_loss: 0.1931\n",
      "Epoch 52/200\n",
      "254767/254767 [==============================] - 53s - loss: 0.1746 - val_loss: 0.1974\n",
      "Epoch 53/200\n",
      "254767/254767 [==============================] - 67s - loss: 0.1742 - val_loss: 0.1992\n",
      "Epoch 54/200\n",
      "254767/254767 [==============================] - 59s - loss: 0.1734 - val_loss: 0.1954\n",
      "Epoch 55/200\n",
      "254767/254767 [==============================] - 61s - loss: 0.1730 - val_loss: 0.1960\n",
      "Epoch 56/200\n",
      "254767/254767 [==============================] - 76s - loss: 0.1728 - val_loss: 0.1969\n",
      "Epoch 57/200\n",
      "254767/254767 [==============================] - 73s - loss: 0.1727 - val_loss: 0.1977\n",
      "Epoch 58/200\n",
      "254767/254767 [==============================] - 48s - loss: 0.1721 - val_loss: 0.2006\n",
      "Epoch 59/200\n",
      "254767/254767 [==============================] - 71s - loss: 0.1717 - val_loss: 0.1962\n",
      "Epoch 60/200\n",
      "254767/254767 [==============================] - 71s - loss: 0.1712 - val_loss: 0.1953\n",
      "Epoch 61/200\n",
      "254767/254767 [==============================] - 55s - loss: 0.1711 - val_loss: 0.1949\n",
      "Epoch 62/200\n",
      "254767/254767 [==============================] - 64s - loss: 0.1706 - val_loss: 0.1980\n",
      "Epoch 63/200\n",
      "254767/254767 [==============================] - 63s - loss: 0.1703 - val_loss: 0.1946\n",
      "Epoch 64/200\n",
      "254767/254767 [==============================] - 58s - loss: 0.1700 - val_loss: 0.1953\n",
      "Epoch 65/200\n",
      "254767/254767 [==============================] - 76s - loss: 0.1695 - val_loss: 0.1964\n",
      "Epoch 66/200\n",
      "254767/254767 [==============================] - 62s - loss: 0.1697 - val_loss: 0.1941\n",
      "Epoch 67/200\n",
      "254767/254767 [==============================] - 46s - loss: 0.1690 - val_loss: 0.1965\n",
      "Epoch 00066: early stopping\n",
      "CPU times: user 21min 14s, sys: 36min 11s, total: 57min 25s\n",
      "Wall time: 1h 4min 39s\n"
     ]
    },
    {
     "name": "stderr",
     "output_type": "stream",
     "text": [
      "2017-03-28 01:01:06,960 : INFO : Evaluating on Training Data\n",
      "2017-03-28 01:04:06,041 : INFO : Generating Training Metrics\n"
     ]
    },
    {
     "name": "stdout",
     "output_type": "stream",
     "text": [
      "****** Training Metrics: Cov Err: 1.501 | Top 3: 0.971 | Top 5: 0.995 | F1 Micro: 0.819 | F1 Macro: 0.755\n"
     ]
    },
    {
     "name": "stderr",
     "output_type": "stream",
     "text": [
      "2017-03-28 01:04:13,577 : INFO : Evaluating on Validation Data using saved best weights\n",
      "2017-03-28 01:04:56,049 : INFO : Generating Validation Metrics\n"
     ]
    },
    {
     "name": "stdout",
     "output_type": "stream",
     "text": [
      "****** Validation Metrics: Cov Err: 1.586 | Top 3: 0.953 | Top 5: 0.991 | F1 Micro: 0.724 | F1 Macro: 0.660\n"
     ]
    },
    {
     "name": "stderr",
     "output_type": "stream",
     "text": [
      "2017-03-28 01:04:57,811 : INFO : Loading Previous results from /mnt/data2/shalaby/nn_parameter_search_extended_abs_desc_claims_large_sample_chunks/doc2vec_size_200_w_2_type_dm_concat_0_mean_1_trainwords_0_hs_0_neg_10_vocabsize_None/epoch_8/lstm_sections_level_1_batch_2048_nn_parameter_searches.pkl\n"
     ]
    },
    {
     "name": "stdout",
     "output_type": "stream",
     "text": [
      "skipping: lstm_optimizer_rmsprop_size_1000_w-drop_0.5_u-drop_0.5_stack_3_conv_None\n"
     ]
    }
   ],
   "source": [
    "%matplotlib notebook\n",
    "\n",
    "# random search for parameters\n",
    "param_sampler = ParameterSampler({\n",
    "    'lstm_output_size':lstm_output_sizes,\n",
    "    'w_dropout':w_dropout_options,\n",
    "    'u_dropout':u_dropout_options,\n",
    "    'stack_layers':stack_layers_options,\n",
    "    'conv_size':conv_size_options,\n",
    "}, n_iter=NN_RANDOM_SEARCH_BUDGET, random_state=NN_PARAM_SAMPLE_SEED)\n",
    "\n",
    "# load previous finshed results so we dont redo them\n",
    "param_results_dict = {}\n",
    "if load_existing_results:\n",
    "    param_results_path = os.path.join(os.path.join(nn_parameter_search_location, GLOBAL_VARS.MODEL_NAME, \n",
    "                                       NN_PARAMETER_SEARCH_PREFIX.format(classifications_type, PARTS_LEVEL, NN_BATCH_SIZE)))\n",
    "    if os.path.exists(param_results_path):\n",
    "        info('Loading Previous results from {}'.format(param_results_path))\n",
    "        param_results_dict = pickle.load(open(param_results_path))\n",
    "    else:\n",
    "        info('No Previous results exist in {}'.format(param_results_path))\n",
    "        \n",
    "\n",
    "# create nn parameter search directory\n",
    "if not os.path.exists(os.path.join(nn_parameter_search_location, GLOBAL_VARS.MODEL_NAME)):\n",
    "    os.makedirs(os.path.join(nn_parameter_search_location, GLOBAL_VARS.MODEL_NAME))\n",
    "\n",
    "# for every parameter set picked by random search, use it to train the model and output the metrics\n",
    "for parameters in param_sampler:\n",
    "    start_time = time.time()\n",
    "    lstm_output_size = parameters['lstm_output_size']\n",
    "    w_dropout_do = parameters['w_dropout']\n",
    "    u_dropout_do = parameters['u_dropout']\n",
    "    stack_layers = parameters['stack_layers']\n",
    "    conv_size = parameters['conv_size']\n",
    "\n",
    "    GLOBAL_VARS.NN_MODEL_NAME = 'lstm_optimizer_{}_size_{}_w-drop_{}_u-drop_{}_stack_{}_conv_{}'.format(NN_OPTIMIZER,\n",
    "        lstm_output_size,  w_dropout_do, u_dropout_do, stack_layers, str(conv_size)\n",
    "    )\n",
    "\n",
    "    if GLOBAL_VARS.NN_MODEL_NAME in param_results_dict.keys() or GLOBAL_VARS.NN_MODEL_NAME in to_skip:\n",
    "        print \"skipping: {}\".format(GLOBAL_VARS.NN_MODEL_NAME)\n",
    "        continue\n",
    "\n",
    "    info('***************************************************************************************')\n",
    "    info(GLOBAL_VARS.NN_MODEL_NAME)\n",
    "\n",
    "    # creating the actual keras model\n",
    "    model = create_keras_rnn_model(DOC2VEC_SIZE, NN_OUTPUT_NEURONS, \n",
    "                                  lstm_output_size, w_dropout_do, u_dropout_do, stack_layers, conv_size)\n",
    "    model.summary()\n",
    "\n",
    "    # callbacks for early stopping and for generating validation metrics\n",
    "    early_stopper = keras.callbacks.EarlyStopping(monitor='val_loss', min_delta=EARLY_STOPPER_MIN_DELTA, \\\n",
    "                                                  patience=EARLY_STOPPER_PATIENCE, verbose=1, mode='auto')\n",
    "    metrics_callback = MetricsCallback()\n",
    "\n",
    "\n",
    "    # Model Fitting\n",
    "    %time history = model.fit(x=X, y=y, validation_data=(Xv,yv), batch_size=NN_BATCH_SIZE, \\\n",
    "                              nb_epoch=NN_MAX_EPOCHS, verbose=MODEL_VERBOSITY, \\\n",
    "                              callbacks=[early_stopper, metrics_callback])\n",
    "    \n",
    "    \n",
    "    time.sleep(0.2)\n",
    "    info('Evaluating on Training Data')\n",
    "    yp = model.predict(X) # get raw probability for predicted labels\n",
    "    yp_binary = get_binary_0_5(yp) # use 0.5 as threshold for setting labels to 0 or 1\n",
    "    #print yvp\n",
    "    info('Generating Training Metrics')\n",
    "    training_metrics = get_metrics(y, yp, yp_binary)\n",
    "    print \"****** Training Metrics: Cov Err: {:.3f} | Top 3: {:.3f} | Top 5: {:.3f} | F1 Micro: {:.3f} | F1 Macro: {:.3f}\".format(\n",
    "    training_metrics['coverage_error'], training_metrics['top_3'], training_metrics['top_5'], \n",
    "    training_metrics['f1_micro'], training_metrics['f1_macro'])\n",
    "    \n",
    "    \n",
    "    time.sleep(0.2)\n",
    "    info('Evaluating on Validation Data using saved best weights')\n",
    "    model.set_weights(metrics_callback.best_weights)\n",
    "    yvp = model.predict(Xv) # get raw probability for predicted labels\n",
    "    yvp_binary = get_binary_0_5(yvp) # use 0.5 as threshold for setting labels to 0 or 1\n",
    "    #print yvp\n",
    "    info('Generating Validation Metrics')\n",
    "    validation_metrics = get_metrics(yv, yvp, yvp_binary)\n",
    "    print \"****** Validation Metrics: Cov Err: {:.3f} | Top 3: {:.3f} | Top 5: {:.3f} | F1 Micro: {:.3f} | F1 Macro: {:.3f}\".format(\n",
    "        validation_metrics['coverage_error'], validation_metrics['top_3'], validation_metrics['top_5'], \n",
    "        validation_metrics['f1_micro'], validation_metrics['f1_macro'])\n",
    "    best_validation_metrics = validation_metrics\n",
    "    \n",
    "    time.sleep(0.2)\n",
    "    param_results_dict[GLOBAL_VARS.NN_MODEL_NAME] = dict()\n",
    "    param_results_dict[GLOBAL_VARS.NN_MODEL_NAME]['best_validation_metrics'] = best_validation_metrics\n",
    "    param_results_dict[GLOBAL_VARS.NN_MODEL_NAME]['epochs'] = len(history.history['val_loss'])\n",
    "    param_results_dict[GLOBAL_VARS.NN_MODEL_NAME]['best_weights'] = metrics_callback.best_weights\n",
    "    param_results_dict[GLOBAL_VARS.NN_MODEL_NAME]['best_val_loss'] = metrics_callback.best_val_loss\n",
    "    param_results_dict[GLOBAL_VARS.NN_MODEL_NAME]['training_loss'] = metrics_callback.losses\n",
    "    param_results_dict[GLOBAL_VARS.NN_MODEL_NAME]['validation_loss'] = metrics_callback.val_losses\n",
    "\n",
    "    duration = time.time() - start_time\n",
    "    param_results_dict[GLOBAL_VARS.NN_MODEL_NAME]['duration'] =  duration\n",
    "\n",
    "    del history, metrics_callback, model\n",
    "\n",
    "if save_results:\n",
    "    if load_existing_results:\n",
    "        if os.path.exists(param_results_path):\n",
    "            info('Loading Previous results from {}'.format(param_results_path))\n",
    "            loaded_param_results_dict = pickle.load(open(param_results_path))\n",
    "            param_results_dict.update(loaded_param_results_dict)\n",
    "            \n",
    "    pickle.dump(param_results_dict, open(os.path.join(os.path.join(nn_parameter_search_location, GLOBAL_VARS.MODEL_NAME, \n",
    "                                                                   NN_PARAMETER_SEARCH_PREFIX.format(classifications_type, PARTS_LEVEL, NN_BATCH_SIZE))), 'w'))"
   ]
  },
  {
   "cell_type": "code",
   "execution_count": 50,
   "metadata": {
    "collapsed": false
   },
   "outputs": [
    {
     "data": {
      "text/plain": [
       "['lstm_optimizer_rmsprop_size_200_w-drop_0.4_u-drop_0.2',\n",
       " 'lstm_optimizer_adam_size_300_w-drop_0.2_u-drop_0.3',\n",
       " 'lstm_optimizer_adam_size_200_w-drop_0.3_u-drop_0.2',\n",
       " 'lstm_optimizer_adam_size_200_w-drop_0.2_u-drop_0.3',\n",
       " 'lstm_optimizer_adam_size_200_w-drop_0.2_u-drop_0.2',\n",
       " 'lstm_optimizer_rmsprop_size_200_w-drop_0.2_u-drop_0.4']"
      ]
     },
     "execution_count": 50,
     "metadata": {},
     "output_type": "execute_result"
    }
   ],
   "source": [
    "param_results_dict.keys()"
   ]
  },
  {
   "cell_type": "code",
   "execution_count": null,
   "metadata": {
    "collapsed": false
   },
   "outputs": [],
   "source": [
    "%xdel model\n",
    "import gc\n",
    "for i in range(3): gc.collect()"
   ]
  },
  {
   "cell_type": "code",
   "execution_count": 51,
   "metadata": {
    "collapsed": false
   },
   "outputs": [],
   "source": [
    "pickle.dump(param_results_dict, open(os.path.join(os.path.join(nn_parameter_search_location, GLOBAL_VARS.MODEL_NAME, \n",
    "                                                                   NN_PARAMETER_SEARCH_PREFIX.format(classifications_type, NN_BATCH_SIZE))), 'w'))"
   ]
  },
  {
   "cell_type": "code",
   "execution_count": 52,
   "metadata": {
    "collapsed": true
   },
   "outputs": [],
   "source": [
    "    # create nn parameter search directory\n",
    "    if not os.path.exists(os.path.join(nn_parameter_search_location, GLOBAL_VARS.MODEL_NAME)):\n",
    "        os.makedirs(os.path.join(nn_parameter_search_location, GLOBAL_VARS.MODEL_NAME))\n",
    "        "
   ]
  }
 ],
 "metadata": {
  "kernelspec": {
   "display_name": "Python 2",
   "language": "python",
   "name": "python2"
  },
  "language_info": {
   "codemirror_mode": {
    "name": "ipython",
    "version": 2
   },
   "file_extension": ".py",
   "mimetype": "text/x-python",
   "name": "python",
   "nbconvert_exporter": "python",
   "pygments_lexer": "ipython2",
   "version": "2.7.12"
  }
 },
 "nbformat": 4,
 "nbformat_minor": 0
}
