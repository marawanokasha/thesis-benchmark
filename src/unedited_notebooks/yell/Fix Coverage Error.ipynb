{
 "cells": [
  {
   "cell_type": "markdown",
   "metadata": {},
   "source": [
    "# Fix Coverage Errors from using y_binary to y_score"
   ]
  },
  {
   "cell_type": "code",
   "execution_count": 16,
   "metadata": {
    "collapsed": false
   },
   "outputs": [
    {
     "name": "stderr",
     "output_type": "stream",
     "text": [
      "2017-01-17 20:14:49,192 : INFO : Pattern library is not installed, lemmatization won't be available.\n",
      "Using gpu device 0: Tesla K40m (CNMeM is disabled, cuDNN 5105)\n",
      "/home/stud/shalaby/.virtualenv/thesis-env/local/lib/python2.7/site-packages/theano/sandbox/cuda/__init__.py:600: UserWarning: Your cuDNN version is more recent than the one Theano officially supports. If you see any problems, try updating Theano or downgrading cuDNN to version 5.\n",
      "  warnings.warn(warn)\n",
      "2017-01-17 20:15:25,231 : INFO : 'pattern' package not found; tag filters are not available for English\n"
     ]
    }
   ],
   "source": [
    "import json\n",
    "import nltk\n",
    "from nltk.tokenize import RegexpTokenizer\n",
    "import string\n",
    "import math\n",
    "import os\n",
    "import time\n",
    "import pandas as pd\n",
    "%matplotlib inline\n",
    "import matplotlib.pyplot as plt\n",
    "import matplotlib as mpl\n",
    "import numpy as np\n",
    "from collections import namedtuple\n",
    "import random\n",
    "import cPickle as pickle\n",
    "\n",
    "from sklearn.metrics import coverage_error\n",
    "import sklearn.metrics\n",
    "from sklearn.multiclass import OneVsRestClassifier\n",
    "from sklearn import linear_model\n",
    "\n",
    "from gensim.models.doc2vec import Doc2Vec, LabeledSentence\n",
    "\n",
    "import logging\n",
    "from logging import info\n",
    "\n",
    "from thesis.utils.metrics import *"
   ]
  },
  {
   "cell_type": "code",
   "execution_count": 2,
   "metadata": {
    "collapsed": true
   },
   "outputs": [],
   "source": [
    "root = logging.getLogger()\n",
    "for handler in root.handlers[:]:\n",
    "    root.removeHandler(handler)\n",
    "logging.basicConfig(format='%(asctime)s : %(levelname)s : %(message)s', level=logging.INFO) # adds a default StreamHanlder\n",
    "#root.addHandler(logging.StreamHandler())"
   ]
  },
  {
   "cell_type": "code",
   "execution_count": 3,
   "metadata": {
    "collapsed": true
   },
   "outputs": [],
   "source": [
    "CLASSIFIER_FILE = '{}_classifier.pkl'\n",
    "VALIDATION_METRICS_FILENAME= '{}_validation_metrics.pkl'\n",
    "TRAINING_METRICS_FILENAME = '{}_training_metrics.pkl'"
   ]
  },
  {
   "cell_type": "code",
   "execution_count": 6,
   "metadata": {
    "collapsed": true
   },
   "outputs": [],
   "source": [
    "root_location = \"/mnt/data2/shalaby/\"\n",
    "exports_location = root_location + \"exported_data/\"\n",
    "svm_location = root_location + \"benchmarking_svm/\"\n",
    "\n",
    "\n",
    "training_file = root_location + \"docs_output.json\"\n",
    "\n",
    "doc_classifications_map_file = exports_location + \"doc_classification_map.pkl\"\n",
    "sections_file = exports_location + \"sections.pkl\"\n",
    "classes_file = exports_location + \"classes.pkl\"\n",
    "subclasses_file = exports_location + \"subclasses.pkl\"\n",
    "classifications_output = exports_location + \"classifications.pkl\"\n",
    "training_docs_list_file = exports_location + \"training_docs_list.pkl\"\n",
    "validation_docs_list_file = exports_location + \"validation_docs_list.pkl\"\n",
    "test_docs_list_file = exports_location + \"test_docs_list.pkl\""
   ]
  },
  {
   "cell_type": "markdown",
   "metadata": {},
   "source": [
    "#### Load Classification Objects"
   ]
  },
  {
   "cell_type": "code",
   "execution_count": 7,
   "metadata": {
    "collapsed": false
   },
   "outputs": [
    {
     "name": "stdout",
     "output_type": "stream",
     "text": [
      "CPU times: user 20.2 s, sys: 6.02 s, total: 26.2 s\n",
      "Wall time: 26.2 s\n"
     ]
    }
   ],
   "source": [
    "%%time\n",
    "doc_classification_map = pickle.load(open(doc_classifications_map_file))\n",
    "sections = pickle.load(open(sections_file))\n",
    "classes = pickle.load(open(classes_file))\n",
    "subclasses = pickle.load(open(subclasses_file))\n",
    "training_docs_list = pickle.load(open(training_docs_list_file))\n",
    "validation_docs_list = pickle.load(open(validation_docs_list_file))"
   ]
  },
  {
   "cell_type": "code",
   "execution_count": 8,
   "metadata": {
    "collapsed": true
   },
   "outputs": [],
   "source": [
    "import re\n",
    "def get_subdirectories(d):\n",
    "    #return filter(os.path.isdir, [f for f in os.listdir(d)])\n",
    "    return [f for f in os.listdir(d) if os.path.isdir(os.path.join(d,f))]\n",
    "def natural_sort(l): \n",
    "    convert = lambda text: int(text) if text.isdigit() else text.lower() \n",
    "    alphanum_key = lambda key: [ convert(c) for c in re.split('([0-9]+)', key) ] \n",
    "    return sorted(l, key = alphanum_key)"
   ]
  },
  {
   "cell_type": "markdown",
   "metadata": {},
   "source": [
    "## Fix Coverage Error for Benchmarking"
   ]
  },
  {
   "cell_type": "code",
   "execution_count": null,
   "metadata": {
    "collapsed": true
   },
   "outputs": [],
   "source": [
    "classifications = sections\n",
    "classifications_type = \"sections\""
   ]
  },
  {
   "cell_type": "code",
   "execution_count": null,
   "metadata": {
    "collapsed": true
   },
   "outputs": [],
   "source": [
    "%%time\n",
    "# data_types = [\"bm25\", \"tf_idf\", \"sublinear_tf_idf\", \"sublinear_tf\", \"tf\"]\n",
    "data_types = [\"tf_idf\", \"sublinear_tf_idf\", \"sublinear_tf\", \"tf\"]\n",
    "# data_types = [\"tf\"]\n",
    "for data_type in data_types:\n",
    "    preprocessor = data_type\n",
    "    info(\"=============== {} Being Evaluated ================\".format(data_type))\n",
    "    \n",
    "    data_training_location = exports_location + \"{}_training_sparse_data.pkl\".format(data_type)\n",
    "    data_training_docids_location = exports_location + \"{}_training_sparse_docids.pkl\".format(data_type)\n",
    "    data_validation_location = exports_location + \"{}_validation_sparse_data.pkl\".format(data_type)\n",
    "    data_validation_docids_location = exports_location + \"{}_validation_sparse_docids.pkl\".format(data_type)\n",
    "    \n",
    "#     # Get the training data\n",
    "#     info('Getting Training Data')\n",
    "#     %time X = pickle.load(open(data_training_location, \"r\"))\n",
    "#     training_data_docids = pickle.load(open(data_training_docids_location, \"r\"))\n",
    "#     %time y = get_label_data(classifications, training_data_docids, doc_classification_map)\n",
    "\n",
    "#     print y\n",
    "#     print y.shape\n",
    "    \n",
    "    # Get the validation data\n",
    "    info('Getting Valdiation Data')\n",
    "    %time Xv = pickle.load(open(data_validation_location,'r'))\n",
    "    validation_data_docids = pickle.load(open(data_validation_docids_location, \"r\"))\n",
    "    %time yv = get_label_data(classifications, validation_data_docids, doc_classification_map)\n",
    "    \n",
    "    print yv\n",
    "    print yv.shape\n",
    "        \n",
    "    for classifier in natural_sort(get_subdirectories(svm_location)):\n",
    "        print classifier\n",
    "        classifier_path = os.path.join(svm_location, classifier)\n",
    "        preprocessor_path = os.path.join(classifier_path, preprocessor)\n",
    "\n",
    "        if not os.path.exists(preprocessor_path):\n",
    "            info(\"{} doesn't exist, skipping\".format(preprocessor_path)) \n",
    "            continue\n",
    "            \n",
    "        info('Loading Classifier')\n",
    "        clf = pickle.load(open(os.path.join(preprocessor_path, CLASSIFIER_FILE.format(classifications_type)), 'r'))\n",
    "        \n",
    "#         # Training Metrics\n",
    "#         info('Evaluating on Training Data')\n",
    "#         %time yp = clf.predict(X)\n",
    "#         %time yp_score = clf.decision_function(X)\n",
    "#         print yp\n",
    "#         info('Calculating training metrics')\n",
    "#         training_metrics = get_metrics(y, yp_score, yp)\n",
    "#         print \"** Training Metrics: Cov Err: {:.3f}, Avg Labels: {:.3f}, \\n\\t\\t Top 1: {:.3f}, Top 3: {:.3f}, Top 5: {:.3f}, \\n\\t\\t F1 Micro: {:.3f}, F1 Macro: {:.3f}, Total Pos: {:,d}\".format(\n",
    "#             training_metrics['coverage_error'], training_metrics['average_num_of_labels'], \n",
    "#             training_metrics['top_1'], training_metrics['top_3'], training_metrics['top_5'], \n",
    "#             training_metrics['f1_micro'], training_metrics['f1_macro'], training_metrics['total_positive'])\n",
    "\n",
    "        # Validation Metrics\n",
    "        info('Evaluating on Validation Data')\n",
    "        %time yvp = clf.predict(Xv)\n",
    "        %time yvp_score = clf.decision_function(Xv)\n",
    "        print yvp\n",
    "        info('Calculating validation metrics')\n",
    "        validation_metrics = get_metrics(yv, yvp_score, yvp)\n",
    "        print \"** Validation Metrics: Cov Err: {:.3f}, Avg Labels: {:.3f}, \\n\\t\\t Top 1: {:.3f}, Top 3: {:.3f}, Top 5: {:.3f}, \\n\\t\\t F1 Micro: {:.3f}, F1 Macro: {:.3f}, Total Pos: {:,d}\".format(\n",
    "            validation_metrics['coverage_error'], validation_metrics['average_num_of_labels'], \n",
    "            validation_metrics['top_1'], validation_metrics['top_3'], validation_metrics['top_5'], \n",
    "            validation_metrics['f1_micro'], validation_metrics['f1_macro'], validation_metrics['total_positive'])\n",
    "\n",
    "        info('Dumping the Metrics')\n",
    "#         pickle.dump(training_metrics, open(os.path.join(preprocessor_path, TRAINING_METRICS_FILENAME.format(classifications_type)), \"w\"))\n",
    "        pickle.dump(validation_metrics, open(os.path.join(preprocessor_path, VALIDATION_METRICS_FILENAME.format(classifications_type)), \"w\"))\n",
    "        "
   ]
  },
  {
   "cell_type": "markdown",
   "metadata": {},
   "source": [
    "## Fix Coverage Error for Doc2vec"
   ]
  },
  {
   "cell_type": "code",
   "execution_count": 10,
   "metadata": {
    "collapsed": false
   },
   "outputs": [
    {
     "name": "stderr",
     "output_type": "stream",
     "text": [
      "2017-01-17 00:49:47,865 : INFO : Pattern library is not installed, lemmatization won't be available.\n",
      "2017-01-17 00:49:47,903 : INFO : Could not import Theano, will use standard float for default ShardedCorpus dtype.\n",
      "2017-01-17 00:49:48,126 : INFO : 'pattern' package not found; tag filters are not available for English\n"
     ]
    }
   ],
   "source": [
    "from gensim.models.doc2vec import Doc2Vec"
   ]
  },
  {
   "cell_type": "code",
   "execution_count": 9,
   "metadata": {
    "collapsed": true
   },
   "outputs": [],
   "source": [
    "ROOT_RESULTS_LOCATION = '/mnt/data2/shalaby/parameter_search_doc2vec_models_new/full/'\n",
    "\n",
    "MODEL_PREFIX = \"model\"\n",
    "VALIDATION_MATRIX = \"validation_matrix.pkl\"\n",
    "CLASSIFIER = \"classifier.pkl\"\n",
    "\n",
    "preprocessed_location = root_location + \"preprocessed_data/\"\n",
    "\n",
    "validation_preprocessed_files_prefix = preprocessed_location + \"validation_docs_merged_data_preprocessed-\"\n",
    "validation_preprocessed_docids_files_prefix = preprocessed_location + \"validation_docs_merged_docids_preprocessed-\""
   ]
  },
  {
   "cell_type": "code",
   "execution_count": 10,
   "metadata": {
    "collapsed": true
   },
   "outputs": [],
   "source": [
    "NUM_CORES = 16\n",
    "SVM_SEED = 1234"
   ]
  },
  {
   "cell_type": "code",
   "execution_count": 11,
   "metadata": {
    "collapsed": true
   },
   "outputs": [],
   "source": [
    "GLOBAL_VARS = namedtuple('GLOBAL_VARS', ['MODEL_NAME', 'DOC2VEC_MODEL'])"
   ]
  },
  {
   "cell_type": "code",
   "execution_count": 12,
   "metadata": {
    "collapsed": true
   },
   "outputs": [],
   "source": [
    "classifications = sections\n",
    "classifications_type = \"sections\"\n",
    "VALIDATION_METRICS_FILENAME= '{}_validation_metrics.pkl'.format(classifications_type)"
   ]
  },
  {
   "cell_type": "code",
   "execution_count": 13,
   "metadata": {
    "collapsed": true
   },
   "outputs": [],
   "source": [
    "class OneHotEncoder():\n",
    "    \n",
    "    def __init__(self, classifications):\n",
    "        self.classifications = classifications\n",
    "        self.one_hot_indices = {}\n",
    "\n",
    "        # convert character classifications to bit vectors\n",
    "        for i, clssf in enumerate(classifications):\n",
    "            bits = [0] * len(classifications)\n",
    "            bits[i] = 1\n",
    "            self.one_hot_indices[clssf] = i\n",
    "    \n",
    "    def get_label_vector(self, labels):\n",
    "        \"\"\"\n",
    "        classes: array of string with the classes assigned to the instance\n",
    "        \"\"\"\n",
    "        output_vector = [0] * len(self.classifications)\n",
    "        for label in labels:\n",
    "            index = self.one_hot_indices[label]\n",
    "            output_vector[index] = 1\n",
    "            \n",
    "        return output_vector\n",
    "\n",
    "    \n",
    "def get_training_data(doc2vec_model, classifications):\n",
    "    one_hot_encoder = OneHotEncoder(classifications)\n",
    "    training_data = []\n",
    "    training_labels = []\n",
    "    for doc_id in training_docs_list:\n",
    "        # converting from memmap to a normal array\n",
    "        normal_array = []\n",
    "        normal_array[:] = doc2vec_model.docvecs[doc_id][:]\n",
    "        training_data.append(normal_array)\n",
    "        eligible_classifications = [clssf for clssf in doc_classification_map[doc_id] if clssf in classifications]\n",
    "        training_labels.append(one_hot_encoder.get_label_vector(eligible_classifications))\n",
    "    training_labels = np.array(training_labels)\n",
    "    return training_data, training_labels\n",
    "\n",
    "def get_validation_docs_with_inference_new(doc2vec_model, doc_classification_map, classifications, \n",
    "                                           val_docs_list, val_preprocessed_files_prefix, \n",
    "                                           val_preprocessed_docids_files_prefix):\n",
    "    \"\"\"\n",
    "    Use the trained doc2vec model to get the paragraph vector representations of the validation documents\n",
    "    \"\"\"\n",
    "\n",
    "    def infer_one_doc(doc_tuple):\n",
    "        #doc2vec_model.random = np.random.RandomState(DOC2VEC_SEED)\n",
    "        doc_id, doc_tokens = doc_tuple\n",
    "        rep = doc2vec_model.infer_vector(doc_tokens)\n",
    "        return (doc_id, rep)\n",
    "\n",
    "    one_hot_encoder = OneHotEncoder(classifications)\n",
    "    if os.path.exists(os.path.join(GLOBAL_VARS.MODEL_NAME, VALIDATION_MATRIX)):\n",
    "        info(\"===== Loading validation vectors\")\n",
    "        validation_labels = []\n",
    "        validation_vectors_matrix = pickle.load(open(os.path.join(GLOBAL_VARS.MODEL_NAME, VALIDATION_MATRIX)))\n",
    "        for validation_doc_id in val_docs_list:\n",
    "            val_labels = [classf for classf in doc_classification_map[validation_doc_id] if classf in classifications]\n",
    "            validation_labels.append(one_hot_encoder.get_label_vector(val_labels))\n",
    "        validation_labels = np.array(validation_labels)\n",
    "    else:\n",
    "        validation_documents_reps = {}\n",
    "        validation_vectors = []\n",
    "        validation_labels = []\n",
    "        info(\"===== Getting validation vectors with inference\")\n",
    "\n",
    "        # Multi-threaded inference\n",
    "        validation_docs_iterator = DocumentBatchGenerator(validation_preprocessed_files_prefix, \n",
    "                                                          validation_preprocessed_docids_files_prefix, batch_size=None)\n",
    "        generator_func = validation_docs_iterator.__iter__()\n",
    "        pool = ThreadPool(NUM_CORES)\n",
    "        # map consumes the whole iterator on the spot, so we have to use itertools.islice to fake mini-batching\n",
    "        validation_documents_reps = {}\n",
    "        mini_batch_size = 1000\n",
    "        while True:\n",
    "            threaded_reps_partial = pool.map(infer_one_doc, itertools.islice(generator_func, mini_batch_size))\n",
    "            info(\"Finished: {}\".format(str(validation_docs_iterator.curr_index)))\n",
    "            if threaded_reps_partial:\n",
    "                #threaded_reps.extend(threaded_reps_partial)\n",
    "                validation_documents_reps.update(threaded_reps_partial)\n",
    "            else:\n",
    "                break\n",
    "                \n",
    "        # create matrix for the validation vectors\n",
    "        for validation_doc_id in val_docs_list:\n",
    "            validation_vectors.append(validation_documents_reps[validation_doc_id])\n",
    "            val_labels = [classf for classf in doc_classification_map[validation_doc_id] if classf in classifications]\n",
    "            validation_labels.append(one_hot_encoder.get_label_vector(val_labels))\n",
    "        validation_vectors_matrix = np.array(validation_vectors)\n",
    "        validation_labels = np.array(validation_labels)\n",
    "        pickle.dump(validation_vectors_matrix, open(os.path.join(doc2vec_model_save_location, GLOBAL_VARS.MODEL_NAME, VALIDATION_MATRIX), 'w'))\n",
    "    \n",
    "    return validation_vectors_matrix, validation_labels"
   ]
  },
  {
   "cell_type": "code",
   "execution_count": 32,
   "metadata": {
    "collapsed": true
   },
   "outputs": [],
   "source": [
    "ee = 'svm_iter_100_reg_0.001_classweights_balanced'.split('_')\n",
    "SVM_ITER = ee[2]\n",
    "SVM_REG = ee[4]\n",
    "SVM_CLASSWEIGHTS = ee[6]"
   ]
  },
  {
   "cell_type": "code",
   "execution_count": 33,
   "metadata": {
    "collapsed": false
   },
   "outputs": [
    {
     "name": "stdout",
     "output_type": "stream",
     "text": [
      "100\n",
      "0.001\n",
      "balanced\n"
     ]
    }
   ],
   "source": [
    "print SVM_ITER\n",
    "print SVM_REG\n",
    "print SVM_CLASSWEIGHTS"
   ]
  },
  {
   "cell_type": "code",
   "execution_count": 14,
   "metadata": {
    "collapsed": true
   },
   "outputs": [],
   "source": [
    "finished_doc2vec_methods = ['doc2vec_size_100_w_8_type_dm_concat_0_mean_1_trainwords_0_hs_0_neg_10_vocabsize_None',\n",
    "                           'doc2vec_size_200_w_8_type_dm_concat_0_mean_1_trainwords_0_hs_0_neg_10_vocabsize_None',\n",
    "                           'doc2vec_size_200_w_8_type_pv-dbow_concat_1_mean_0_trainwords_0_hs_0_neg_10_vocabsize_None']"
   ]
  },
  {
   "cell_type": "code",
   "execution_count": 17,
   "metadata": {
    "collapsed": false
   },
   "outputs": [
    {
     "name": "stderr",
     "output_type": "stream",
     "text": [
      "2017-01-17 20:15:38,512 : INFO : loading Doc2Vec object from /mnt/data2/shalaby/parameter_search_doc2vec_models_new/full/doc2vec_size_100_w_5_type_dm_concat_1_mean_0_trainwords_0_hs_0_neg_10_vocabsize_None/epoch_1/model\n"
     ]
    },
    {
     "name": "stdout",
     "output_type": "stream",
     "text": [
      "********************* doc2vec_size_100_w_5_type_dm_concat_1_mean_0_trainwords_0_hs_0_neg_10_vocabsize_None\n",
      "epoch_1\n"
     ]
    },
    {
     "name": "stderr",
     "output_type": "stream",
     "text": [
      "2017-01-17 20:15:45,346 : INFO : loading docvecs recursively from /mnt/data2/shalaby/parameter_search_doc2vec_models_new/full/doc2vec_size_100_w_5_type_dm_concat_1_mean_0_trainwords_0_hs_0_neg_10_vocabsize_None/epoch_1/model.docvecs.* with mmap=None\n",
      "2017-01-17 20:15:45,347 : INFO : loading doctag_syn0 from /mnt/data2/shalaby/parameter_search_doc2vec_models_new/full/doc2vec_size_100_w_5_type_dm_concat_1_mean_0_trainwords_0_hs_0_neg_10_vocabsize_None/epoch_1/model.docvecs.doctag_syn0.npy with mmap=None\n",
      "2017-01-17 20:15:47,038 : INFO : loading syn1neg from /mnt/data2/shalaby/parameter_search_doc2vec_models_new/full/doc2vec_size_100_w_5_type_dm_concat_1_mean_0_trainwords_0_hs_0_neg_10_vocabsize_None/epoch_1/model.syn1neg.npy with mmap=None\n",
      "2017-01-17 20:15:52,756 : INFO : loading syn0 from /mnt/data2/shalaby/parameter_search_doc2vec_models_new/full/doc2vec_size_100_w_5_type_dm_concat_1_mean_0_trainwords_0_hs_0_neg_10_vocabsize_None/epoch_1/model.syn0.npy with mmap=None\n",
      "2017-01-17 20:15:53,276 : INFO : setting ignored attribute syn0norm to None\n",
      "2017-01-17 20:15:53,277 : INFO : setting ignored attribute cum_table to None\n",
      "2017-01-17 20:15:54,172 : INFO : Getting Validation Embeddings\n",
      "2017-01-17 20:15:54,173 : INFO : ===== Loading validation vectors\n",
      "2017-01-17 20:16:12,419 : INFO : Loading Classifier\n",
      "2017-01-17 20:16:12,422 : INFO : Evaluating on Validation Data\n"
     ]
    },
    {
     "name": "stdout",
     "output_type": "stream",
     "text": [
      "svm_iter_10_reg_0.001_classweights_balanced\n"
     ]
    },
    {
     "name": "stderr",
     "output_type": "stream",
     "text": [
      "2017-01-17 20:16:19,129 : INFO : Getting Validation Metrics\n"
     ]
    },
    {
     "name": "stdout",
     "output_type": "stream",
     "text": [
      "[[0 0 0 ..., 0 1 0]\n",
      " [1 0 0 ..., 0 0 0]\n",
      " [0 0 0 ..., 0 1 0]\n",
      " ..., \n",
      " [1 1 1 ..., 0 0 0]\n",
      " [1 0 0 ..., 0 0 0]\n",
      " [0 1 1 ..., 0 0 0]]\n"
     ]
    },
    {
     "name": "stderr",
     "output_type": "stream",
     "text": [
      "2017-01-17 20:16:27,759 : INFO : Loading Classifier\n",
      "2017-01-17 20:16:27,763 : INFO : Evaluating on Validation Data\n"
     ]
    },
    {
     "name": "stdout",
     "output_type": "stream",
     "text": [
      "** Validation Metrics: Cov Err: 2.156, Avg Labels: 1.150, \n",
      "\t\t Top 1: 0.600, Top 3: 0.847, Top 5: 0.945, \n",
      "\t\t F1 Micro: 0.537, F1 Macro: 0.449, Total Pos: 693,231\n",
      "svm_iter_100_reg_0.01_classweights_balanced\n"
     ]
    },
    {
     "name": "stderr",
     "output_type": "stream",
     "text": [
      "2017-01-17 20:16:34,509 : INFO : Getting Validation Metrics\n"
     ]
    },
    {
     "name": "stdout",
     "output_type": "stream",
     "text": [
      "[[0 0 0 ..., 0 1 0]\n",
      " [1 0 0 ..., 0 0 0]\n",
      " [0 0 0 ..., 0 1 0]\n",
      " ..., \n",
      " [1 1 1 ..., 0 0 0]\n",
      " [1 0 0 ..., 0 0 0]\n",
      " [0 1 1 ..., 0 0 0]]\n"
     ]
    },
    {
     "name": "stderr",
     "output_type": "stream",
     "text": [
      "2017-01-17 20:16:44,417 : INFO : loading Doc2Vec object from /mnt/data2/shalaby/parameter_search_doc2vec_models_new/full/doc2vec_size_100_w_5_type_dm_concat_1_mean_0_trainwords_0_hs_0_neg_10_vocabsize_None/epoch_2/model\n"
     ]
    },
    {
     "name": "stdout",
     "output_type": "stream",
     "text": [
      "** Validation Metrics: Cov Err: 2.164, Avg Labels: 1.150, \n",
      "\t\t Top 1: 0.605, Top 3: 0.847, Top 5: 0.940, \n",
      "\t\t F1 Micro: 0.540, F1 Macro: 0.452, Total Pos: 684,796\n",
      "epoch_2\n"
     ]
    },
    {
     "name": "stderr",
     "output_type": "stream",
     "text": [
      "2017-01-17 20:16:50,524 : INFO : loading docvecs recursively from /mnt/data2/shalaby/parameter_search_doc2vec_models_new/full/doc2vec_size_100_w_5_type_dm_concat_1_mean_0_trainwords_0_hs_0_neg_10_vocabsize_None/epoch_2/model.docvecs.* with mmap=None\n",
      "2017-01-17 20:16:50,526 : INFO : loading doctag_syn0 from /mnt/data2/shalaby/parameter_search_doc2vec_models_new/full/doc2vec_size_100_w_5_type_dm_concat_1_mean_0_trainwords_0_hs_0_neg_10_vocabsize_None/epoch_2/model.docvecs.doctag_syn0.npy with mmap=None\n",
      "2017-01-17 20:16:52,168 : INFO : loading syn1neg from /mnt/data2/shalaby/parameter_search_doc2vec_models_new/full/doc2vec_size_100_w_5_type_dm_concat_1_mean_0_trainwords_0_hs_0_neg_10_vocabsize_None/epoch_2/model.syn1neg.npy with mmap=None\n",
      "2017-01-17 20:16:57,768 : INFO : loading syn0 from /mnt/data2/shalaby/parameter_search_doc2vec_models_new/full/doc2vec_size_100_w_5_type_dm_concat_1_mean_0_trainwords_0_hs_0_neg_10_vocabsize_None/epoch_2/model.syn0.npy with mmap=None\n",
      "2017-01-17 20:16:58,308 : INFO : setting ignored attribute syn0norm to None\n",
      "2017-01-17 20:16:58,309 : INFO : setting ignored attribute cum_table to None\n",
      "2017-01-17 20:17:00,050 : INFO : Getting Validation Embeddings\n",
      "2017-01-17 20:17:00,051 : INFO : ===== Loading validation vectors\n",
      "2017-01-17 20:17:16,109 : INFO : Loading Classifier\n",
      "2017-01-17 20:17:16,113 : INFO : Evaluating on Validation Data\n"
     ]
    },
    {
     "name": "stdout",
     "output_type": "stream",
     "text": [
      "svm_iter_10_reg_0.001_classweights_balanced\n"
     ]
    },
    {
     "name": "stderr",
     "output_type": "stream",
     "text": [
      "2017-01-17 20:17:23,039 : INFO : Getting Validation Metrics\n"
     ]
    },
    {
     "name": "stdout",
     "output_type": "stream",
     "text": [
      "[[0 0 0 ..., 0 1 1]\n",
      " [1 0 0 ..., 0 0 0]\n",
      " [0 0 0 ..., 0 1 0]\n",
      " ..., \n",
      " [1 0 0 ..., 0 0 0]\n",
      " [1 0 0 ..., 0 0 0]\n",
      " [0 1 1 ..., 0 0 0]]\n"
     ]
    },
    {
     "name": "stderr",
     "output_type": "stream",
     "text": [
      "2017-01-17 20:17:32,487 : INFO : Loading Classifier\n",
      "2017-01-17 20:17:32,490 : INFO : Evaluating on Validation Data\n"
     ]
    },
    {
     "name": "stdout",
     "output_type": "stream",
     "text": [
      "** Validation Metrics: Cov Err: 2.049, Avg Labels: 1.150, \n",
      "\t\t Top 1: 0.631, Top 3: 0.867, Top 5: 0.953, \n",
      "\t\t F1 Micro: 0.556, F1 Macro: 0.466, Total Pos: 701,617\n",
      "svm_iter_100_reg_0.01_classweights_balanced\n"
     ]
    },
    {
     "name": "stderr",
     "output_type": "stream",
     "text": [
      "2017-01-17 20:17:39,534 : INFO : Getting Validation Metrics\n"
     ]
    },
    {
     "name": "stdout",
     "output_type": "stream",
     "text": [
      "[[0 0 0 ..., 0 1 0]\n",
      " [1 0 0 ..., 0 0 0]\n",
      " [0 0 0 ..., 0 1 0]\n",
      " ..., \n",
      " [1 1 0 ..., 0 0 0]\n",
      " [1 0 0 ..., 0 0 0]\n",
      " [0 1 1 ..., 0 0 0]]\n"
     ]
    },
    {
     "name": "stderr",
     "output_type": "stream",
     "text": [
      "2017-01-17 20:17:48,578 : INFO : loading Doc2Vec object from /mnt/data2/shalaby/parameter_search_doc2vec_models_new/full/doc2vec_size_100_w_5_type_dm_concat_1_mean_0_trainwords_0_hs_0_neg_10_vocabsize_None/epoch_3/model\n"
     ]
    },
    {
     "name": "stdout",
     "output_type": "stream",
     "text": [
      "** Validation Metrics: Cov Err: 2.059, Avg Labels: 1.150, \n",
      "\t\t Top 1: 0.634, Top 3: 0.865, Top 5: 0.949, \n",
      "\t\t F1 Micro: 0.557, F1 Macro: 0.467, Total Pos: 699,740\n",
      "epoch_3\n"
     ]
    },
    {
     "name": "stderr",
     "output_type": "stream",
     "text": [
      "2017-01-17 20:17:56,973 : INFO : loading docvecs recursively from /mnt/data2/shalaby/parameter_search_doc2vec_models_new/full/doc2vec_size_100_w_5_type_dm_concat_1_mean_0_trainwords_0_hs_0_neg_10_vocabsize_None/epoch_3/model.docvecs.* with mmap=None\n",
      "2017-01-17 20:17:56,974 : INFO : loading doctag_syn0 from /mnt/data2/shalaby/parameter_search_doc2vec_models_new/full/doc2vec_size_100_w_5_type_dm_concat_1_mean_0_trainwords_0_hs_0_neg_10_vocabsize_None/epoch_3/model.docvecs.doctag_syn0.npy with mmap=None\n",
      "2017-01-17 20:17:58,580 : INFO : loading syn1neg from /mnt/data2/shalaby/parameter_search_doc2vec_models_new/full/doc2vec_size_100_w_5_type_dm_concat_1_mean_0_trainwords_0_hs_0_neg_10_vocabsize_None/epoch_3/model.syn1neg.npy with mmap=None\n",
      "2017-01-17 20:18:04,122 : INFO : loading syn0 from /mnt/data2/shalaby/parameter_search_doc2vec_models_new/full/doc2vec_size_100_w_5_type_dm_concat_1_mean_0_trainwords_0_hs_0_neg_10_vocabsize_None/epoch_3/model.syn0.npy with mmap=None\n",
      "2017-01-17 20:18:04,640 : INFO : setting ignored attribute syn0norm to None\n",
      "2017-01-17 20:18:04,641 : INFO : setting ignored attribute cum_table to None\n",
      "2017-01-17 20:18:06,493 : INFO : Getting Validation Embeddings\n",
      "2017-01-17 20:18:06,494 : INFO : ===== Loading validation vectors\n",
      "2017-01-17 20:18:23,893 : INFO : Loading Classifier\n",
      "2017-01-17 20:18:23,898 : INFO : Evaluating on Validation Data\n"
     ]
    },
    {
     "name": "stdout",
     "output_type": "stream",
     "text": [
      "svm_iter_10_reg_0.001_classweights_balanced\n"
     ]
    },
    {
     "name": "stderr",
     "output_type": "stream",
     "text": [
      "2017-01-17 20:18:31,047 : INFO : Getting Validation Metrics\n"
     ]
    },
    {
     "name": "stdout",
     "output_type": "stream",
     "text": [
      "[[0 0 0 ..., 0 1 1]\n",
      " [1 0 0 ..., 0 0 0]\n",
      " [0 0 0 ..., 0 1 0]\n",
      " ..., \n",
      " [1 1 0 ..., 1 0 0]\n",
      " [1 0 0 ..., 0 1 0]\n",
      " [1 1 1 ..., 0 0 0]]\n"
     ]
    },
    {
     "name": "stderr",
     "output_type": "stream",
     "text": [
      "2017-01-17 20:18:39,936 : INFO : Loading Classifier\n",
      "2017-01-17 20:18:39,939 : INFO : Evaluating on Validation Data\n"
     ]
    },
    {
     "name": "stdout",
     "output_type": "stream",
     "text": [
      "** Validation Metrics: Cov Err: 2.011, Avg Labels: 1.150, \n",
      "\t\t Top 1: 0.642, Top 3: 0.875, Top 5: 0.955, \n",
      "\t\t F1 Micro: 0.561, F1 Macro: 0.472, Total Pos: 709,202\n",
      "svm_iter_100_reg_0.01_classweights_balanced\n"
     ]
    },
    {
     "name": "stderr",
     "output_type": "stream",
     "text": [
      "2017-01-17 20:18:47,262 : INFO : Getting Validation Metrics\n"
     ]
    },
    {
     "name": "stdout",
     "output_type": "stream",
     "text": [
      "[[0 0 0 ..., 0 1 1]\n",
      " [1 0 0 ..., 0 0 0]\n",
      " [0 0 0 ..., 0 1 0]\n",
      " ..., \n",
      " [1 1 0 ..., 1 0 0]\n",
      " [1 0 0 ..., 0 1 0]\n",
      " [1 1 0 ..., 0 0 0]]\n"
     ]
    },
    {
     "name": "stderr",
     "output_type": "stream",
     "text": [
      "2017-01-17 20:18:56,198 : INFO : loading Doc2Vec object from /mnt/data2/shalaby/parameter_search_doc2vec_models_new/full/doc2vec_size_100_w_5_type_dm_concat_1_mean_0_trainwords_0_hs_0_neg_10_vocabsize_None/epoch_4/model\n"
     ]
    },
    {
     "name": "stdout",
     "output_type": "stream",
     "text": [
      "** Validation Metrics: Cov Err: 2.023, Avg Labels: 1.150, \n",
      "\t\t Top 1: 0.645, Top 3: 0.873, Top 5: 0.951, \n",
      "\t\t F1 Micro: 0.560, F1 Macro: 0.472, Total Pos: 710,094\n",
      "epoch_4\n"
     ]
    },
    {
     "name": "stderr",
     "output_type": "stream",
     "text": [
      "2017-01-17 20:19:04,606 : INFO : loading docvecs recursively from /mnt/data2/shalaby/parameter_search_doc2vec_models_new/full/doc2vec_size_100_w_5_type_dm_concat_1_mean_0_trainwords_0_hs_0_neg_10_vocabsize_None/epoch_4/model.docvecs.* with mmap=None\n",
      "2017-01-17 20:19:04,607 : INFO : loading doctag_syn0 from /mnt/data2/shalaby/parameter_search_doc2vec_models_new/full/doc2vec_size_100_w_5_type_dm_concat_1_mean_0_trainwords_0_hs_0_neg_10_vocabsize_None/epoch_4/model.docvecs.doctag_syn0.npy with mmap=None\n",
      "2017-01-17 20:19:06,215 : INFO : loading syn1neg from /mnt/data2/shalaby/parameter_search_doc2vec_models_new/full/doc2vec_size_100_w_5_type_dm_concat_1_mean_0_trainwords_0_hs_0_neg_10_vocabsize_None/epoch_4/model.syn1neg.npy with mmap=None\n",
      "2017-01-17 20:19:11,728 : INFO : loading syn0 from /mnt/data2/shalaby/parameter_search_doc2vec_models_new/full/doc2vec_size_100_w_5_type_dm_concat_1_mean_0_trainwords_0_hs_0_neg_10_vocabsize_None/epoch_4/model.syn0.npy with mmap=None\n",
      "2017-01-17 20:19:12,303 : INFO : setting ignored attribute syn0norm to None\n",
      "2017-01-17 20:19:12,305 : INFO : setting ignored attribute cum_table to None\n",
      "2017-01-17 20:19:14,221 : INFO : Getting Validation Embeddings\n",
      "2017-01-17 20:19:14,222 : INFO : ===== Loading validation vectors\n",
      "2017-01-17 20:19:29,754 : INFO : Loading Classifier\n",
      "2017-01-17 20:19:29,757 : INFO : Evaluating on Validation Data\n"
     ]
    },
    {
     "name": "stdout",
     "output_type": "stream",
     "text": [
      "svm_iter_10_reg_0.001_classweights_balanced\n"
     ]
    },
    {
     "name": "stderr",
     "output_type": "stream",
     "text": [
      "2017-01-17 20:19:32,255 : INFO : Getting Validation Metrics\n"
     ]
    },
    {
     "name": "stdout",
     "output_type": "stream",
     "text": [
      "[[0 0 0 ..., 0 1 1]\n",
      " [1 0 0 ..., 0 1 0]\n",
      " [0 0 0 ..., 0 1 0]\n",
      " ..., \n",
      " [1 1 0 ..., 0 0 0]\n",
      " [1 0 0 ..., 0 1 0]\n",
      " [1 1 0 ..., 0 0 0]]\n"
     ]
    },
    {
     "name": "stderr",
     "output_type": "stream",
     "text": [
      "2017-01-17 20:19:41,179 : INFO : Loading Classifier\n",
      "2017-01-17 20:19:41,182 : INFO : Evaluating on Validation Data\n"
     ]
    },
    {
     "name": "stdout",
     "output_type": "stream",
     "text": [
      "** Validation Metrics: Cov Err: 1.959, Avg Labels: 1.150, \n",
      "\t\t Top 1: 0.653, Top 3: 0.884, Top 5: 0.960, \n",
      "\t\t F1 Micro: 0.567, F1 Macro: 0.479, Total Pos: 724,930\n",
      "svm_iter_100_reg_0.01_classweights_balanced\n"
     ]
    },
    {
     "name": "stderr",
     "output_type": "stream",
     "text": [
      "2017-01-17 20:19:43,590 : INFO : Getting Validation Metrics\n"
     ]
    },
    {
     "name": "stdout",
     "output_type": "stream",
     "text": [
      "[[0 0 0 ..., 0 1 1]\n",
      " [1 0 0 ..., 0 1 0]\n",
      " [0 0 0 ..., 0 1 0]\n",
      " ..., \n",
      " [1 1 0 ..., 0 0 0]\n",
      " [1 0 0 ..., 0 1 0]\n",
      " [1 1 0 ..., 0 0 0]]\n"
     ]
    },
    {
     "name": "stderr",
     "output_type": "stream",
     "text": [
      "2017-01-17 20:19:52,429 : INFO : loading Doc2Vec object from /mnt/data2/shalaby/parameter_search_doc2vec_models_new/full/doc2vec_size_100_w_5_type_dm_concat_1_mean_0_trainwords_0_hs_0_neg_10_vocabsize_None/epoch_5/model\n"
     ]
    },
    {
     "name": "stdout",
     "output_type": "stream",
     "text": [
      "** Validation Metrics: Cov Err: 1.964, Avg Labels: 1.150, \n",
      "\t\t Top 1: 0.656, Top 3: 0.883, Top 5: 0.958, \n",
      "\t\t F1 Micro: 0.567, F1 Macro: 0.480, Total Pos: 723,240\n",
      "epoch_5\n"
     ]
    },
    {
     "name": "stderr",
     "output_type": "stream",
     "text": [
      "2017-01-17 20:20:00,772 : INFO : loading docvecs recursively from /mnt/data2/shalaby/parameter_search_doc2vec_models_new/full/doc2vec_size_100_w_5_type_dm_concat_1_mean_0_trainwords_0_hs_0_neg_10_vocabsize_None/epoch_5/model.docvecs.* with mmap=None\n",
      "2017-01-17 20:20:00,773 : INFO : loading doctag_syn0 from /mnt/data2/shalaby/parameter_search_doc2vec_models_new/full/doc2vec_size_100_w_5_type_dm_concat_1_mean_0_trainwords_0_hs_0_neg_10_vocabsize_None/epoch_5/model.docvecs.doctag_syn0.npy with mmap=None\n",
      "2017-01-17 20:20:01,811 : INFO : loading syn1neg from /mnt/data2/shalaby/parameter_search_doc2vec_models_new/full/doc2vec_size_100_w_5_type_dm_concat_1_mean_0_trainwords_0_hs_0_neg_10_vocabsize_None/epoch_5/model.syn1neg.npy with mmap=None\n",
      "2017-01-17 20:20:08,297 : INFO : loading syn0 from /mnt/data2/shalaby/parameter_search_doc2vec_models_new/full/doc2vec_size_100_w_5_type_dm_concat_1_mean_0_trainwords_0_hs_0_neg_10_vocabsize_None/epoch_5/model.syn0.npy with mmap=None\n",
      "2017-01-17 20:20:08,896 : INFO : setting ignored attribute syn0norm to None\n",
      "2017-01-17 20:20:08,897 : INFO : setting ignored attribute cum_table to None\n",
      "2017-01-17 20:20:10,762 : INFO : Getting Validation Embeddings\n",
      "2017-01-17 20:20:10,763 : INFO : ===== Loading validation vectors\n",
      "2017-01-17 20:20:27,552 : INFO : Loading Classifier\n",
      "2017-01-17 20:20:27,556 : INFO : Evaluating on Validation Data\n"
     ]
    },
    {
     "name": "stdout",
     "output_type": "stream",
     "text": [
      "svm_iter_10_reg_0.001_classweights_balanced\n"
     ]
    },
    {
     "name": "stderr",
     "output_type": "stream",
     "text": [
      "2017-01-17 20:20:34,712 : INFO : Getting Validation Metrics\n"
     ]
    },
    {
     "name": "stdout",
     "output_type": "stream",
     "text": [
      "[[0 0 0 ..., 0 1 1]\n",
      " [1 0 0 ..., 0 1 0]\n",
      " [0 0 0 ..., 0 1 0]\n",
      " ..., \n",
      " [1 1 0 ..., 0 0 0]\n",
      " [1 0 0 ..., 0 1 0]\n",
      " [1 1 0 ..., 0 0 0]]\n"
     ]
    },
    {
     "name": "stderr",
     "output_type": "stream",
     "text": [
      "2017-01-17 20:20:44,609 : INFO : Loading Classifier\n",
      "2017-01-17 20:20:44,612 : INFO : Evaluating on Validation Data\n"
     ]
    },
    {
     "name": "stdout",
     "output_type": "stream",
     "text": [
      "** Validation Metrics: Cov Err: 1.933, Avg Labels: 1.150, \n",
      "\t\t Top 1: 0.659, Top 3: 0.888, Top 5: 0.963, \n",
      "\t\t F1 Micro: 0.571, F1 Macro: 0.482, Total Pos: 723,052\n",
      "svm_iter_100_reg_0.01_classweights_balanced\n"
     ]
    },
    {
     "name": "stderr",
     "output_type": "stream",
     "text": [
      "2017-01-17 20:20:50,734 : INFO : Getting Validation Metrics\n"
     ]
    },
    {
     "name": "stdout",
     "output_type": "stream",
     "text": [
      "[[0 0 0 ..., 0 1 1]\n",
      " [1 0 0 ..., 0 1 0]\n",
      " [0 0 0 ..., 0 1 0]\n",
      " ..., \n",
      " [1 1 0 ..., 0 0 0]\n",
      " [1 0 0 ..., 0 1 0]\n",
      " [1 1 0 ..., 0 0 0]]\n"
     ]
    },
    {
     "name": "stderr",
     "output_type": "stream",
     "text": [
      "2017-01-17 20:21:00,793 : INFO : loading Doc2Vec object from /mnt/data2/shalaby/parameter_search_doc2vec_models_new/full/doc2vec_size_100_w_5_type_dm_concat_1_mean_0_trainwords_0_hs_0_neg_10_vocabsize_None/epoch_6/model\n"
     ]
    },
    {
     "name": "stdout",
     "output_type": "stream",
     "text": [
      "** Validation Metrics: Cov Err: 1.938, Avg Labels: 1.150, \n",
      "\t\t Top 1: 0.661, Top 3: 0.888, Top 5: 0.961, \n",
      "\t\t F1 Micro: 0.571, F1 Macro: 0.483, Total Pos: 721,180\n",
      "epoch_6\n"
     ]
    },
    {
     "name": "stderr",
     "output_type": "stream",
     "text": [
      "2017-01-17 20:21:07,625 : INFO : loading docvecs recursively from /mnt/data2/shalaby/parameter_search_doc2vec_models_new/full/doc2vec_size_100_w_5_type_dm_concat_1_mean_0_trainwords_0_hs_0_neg_10_vocabsize_None/epoch_6/model.docvecs.* with mmap=None\n",
      "2017-01-17 20:21:07,626 : INFO : loading doctag_syn0 from /mnt/data2/shalaby/parameter_search_doc2vec_models_new/full/doc2vec_size_100_w_5_type_dm_concat_1_mean_0_trainwords_0_hs_0_neg_10_vocabsize_None/epoch_6/model.docvecs.doctag_syn0.npy with mmap=None\n",
      "2017-01-17 20:21:09,315 : INFO : loading syn1neg from /mnt/data2/shalaby/parameter_search_doc2vec_models_new/full/doc2vec_size_100_w_5_type_dm_concat_1_mean_0_trainwords_0_hs_0_neg_10_vocabsize_None/epoch_6/model.syn1neg.npy with mmap=None\n",
      "2017-01-17 20:21:15,912 : INFO : loading syn0 from /mnt/data2/shalaby/parameter_search_doc2vec_models_new/full/doc2vec_size_100_w_5_type_dm_concat_1_mean_0_trainwords_0_hs_0_neg_10_vocabsize_None/epoch_6/model.syn0.npy with mmap=None\n",
      "2017-01-17 20:21:16,495 : INFO : setting ignored attribute syn0norm to None\n",
      "2017-01-17 20:21:16,496 : INFO : setting ignored attribute cum_table to None\n",
      "2017-01-17 20:21:18,352 : INFO : Getting Validation Embeddings\n",
      "2017-01-17 20:21:18,353 : INFO : ===== Loading validation vectors\n",
      "2017-01-17 20:21:34,107 : INFO : Loading Classifier\n",
      "2017-01-17 20:21:34,111 : INFO : Evaluating on Validation Data\n"
     ]
    },
    {
     "name": "stdout",
     "output_type": "stream",
     "text": [
      "svm_iter_10_reg_0.001_classweights_balanced\n"
     ]
    },
    {
     "name": "stderr",
     "output_type": "stream",
     "text": [
      "2017-01-17 20:21:37,116 : INFO : Getting Validation Metrics\n"
     ]
    },
    {
     "name": "stdout",
     "output_type": "stream",
     "text": [
      "[[0 0 0 ..., 0 1 1]\n",
      " [1 0 0 ..., 0 1 0]\n",
      " [0 0 0 ..., 0 1 0]\n",
      " ..., \n",
      " [1 1 0 ..., 0 0 0]\n",
      " [1 0 0 ..., 0 1 0]\n",
      " [1 1 0 ..., 0 0 0]]\n"
     ]
    },
    {
     "name": "stderr",
     "output_type": "stream",
     "text": [
      "2017-01-17 20:21:46,002 : INFO : Loading Classifier\n",
      "2017-01-17 20:21:46,005 : INFO : Evaluating on Validation Data\n"
     ]
    },
    {
     "name": "stdout",
     "output_type": "stream",
     "text": [
      "** Validation Metrics: Cov Err: 1.900, Avg Labels: 1.150, \n",
      "\t\t Top 1: 0.665, Top 3: 0.895, Top 5: 0.967, \n",
      "\t\t F1 Micro: 0.579, F1 Macro: 0.487, Total Pos: 717,644\n",
      "svm_iter_100_reg_0.01_classweights_balanced\n"
     ]
    },
    {
     "name": "stderr",
     "output_type": "stream",
     "text": [
      "2017-01-17 20:21:48,987 : INFO : Getting Validation Metrics\n"
     ]
    },
    {
     "name": "stdout",
     "output_type": "stream",
     "text": [
      "[[0 0 0 ..., 0 1 1]\n",
      " [1 0 0 ..., 0 1 0]\n",
      " [0 0 0 ..., 0 1 0]\n",
      " ..., \n",
      " [1 1 0 ..., 0 0 0]\n",
      " [1 0 0 ..., 0 1 0]\n",
      " [1 1 0 ..., 0 0 0]]\n"
     ]
    },
    {
     "name": "stderr",
     "output_type": "stream",
     "text": [
      "2017-01-17 20:21:58,130 : INFO : loading Doc2Vec object from /mnt/data2/shalaby/parameter_search_doc2vec_models_new/full/doc2vec_size_100_w_5_type_dm_concat_1_mean_0_trainwords_0_hs_0_neg_10_vocabsize_None/epoch_7/model\n"
     ]
    },
    {
     "name": "stdout",
     "output_type": "stream",
     "text": [
      "** Validation Metrics: Cov Err: 1.907, Avg Labels: 1.150, \n",
      "\t\t Top 1: 0.667, Top 3: 0.893, Top 5: 0.964, \n",
      "\t\t F1 Micro: 0.578, F1 Macro: 0.487, Total Pos: 717,439\n",
      "epoch_7\n"
     ]
    },
    {
     "name": "stderr",
     "output_type": "stream",
     "text": [
      "2017-01-17 20:22:06,557 : INFO : loading docvecs recursively from /mnt/data2/shalaby/parameter_search_doc2vec_models_new/full/doc2vec_size_100_w_5_type_dm_concat_1_mean_0_trainwords_0_hs_0_neg_10_vocabsize_None/epoch_7/model.docvecs.* with mmap=None\n",
      "2017-01-17 20:22:06,558 : INFO : loading doctag_syn0 from /mnt/data2/shalaby/parameter_search_doc2vec_models_new/full/doc2vec_size_100_w_5_type_dm_concat_1_mean_0_trainwords_0_hs_0_neg_10_vocabsize_None/epoch_7/model.docvecs.doctag_syn0.npy with mmap=None\n",
      "2017-01-17 20:22:07,580 : INFO : loading syn1neg from /mnt/data2/shalaby/parameter_search_doc2vec_models_new/full/doc2vec_size_100_w_5_type_dm_concat_1_mean_0_trainwords_0_hs_0_neg_10_vocabsize_None/epoch_7/model.syn1neg.npy with mmap=None\n",
      "2017-01-17 20:22:14,919 : INFO : loading syn0 from /mnt/data2/shalaby/parameter_search_doc2vec_models_new/full/doc2vec_size_100_w_5_type_dm_concat_1_mean_0_trainwords_0_hs_0_neg_10_vocabsize_None/epoch_7/model.syn0.npy with mmap=None\n",
      "2017-01-17 20:22:15,548 : INFO : setting ignored attribute syn0norm to None\n",
      "2017-01-17 20:22:15,550 : INFO : setting ignored attribute cum_table to None\n",
      "2017-01-17 20:22:17,428 : INFO : Getting Validation Embeddings\n",
      "2017-01-17 20:22:17,429 : INFO : ===== Loading validation vectors\n",
      "2017-01-17 20:22:33,733 : INFO : Loading Classifier\n",
      "2017-01-17 20:22:33,737 : INFO : Evaluating on Validation Data\n"
     ]
    },
    {
     "name": "stdout",
     "output_type": "stream",
     "text": [
      "svm_iter_10_reg_0.001_classweights_balanced\n"
     ]
    },
    {
     "name": "stderr",
     "output_type": "stream",
     "text": [
      "2017-01-17 20:22:39,432 : INFO : Getting Validation Metrics\n"
     ]
    },
    {
     "name": "stdout",
     "output_type": "stream",
     "text": [
      "[[0 0 0 ..., 0 1 1]\n",
      " [1 0 0 ..., 0 0 0]\n",
      " [0 0 0 ..., 0 1 0]\n",
      " ..., \n",
      " [1 1 0 ..., 1 0 0]\n",
      " [1 0 0 ..., 0 1 0]\n",
      " [1 1 0 ..., 0 0 0]]\n"
     ]
    },
    {
     "name": "stderr",
     "output_type": "stream",
     "text": [
      "2017-01-17 20:22:48,262 : INFO : Loading Classifier\n",
      "2017-01-17 20:22:48,265 : INFO : Evaluating on Validation Data\n"
     ]
    },
    {
     "name": "stdout",
     "output_type": "stream",
     "text": [
      "** Validation Metrics: Cov Err: 1.879, Avg Labels: 1.150, \n",
      "\t\t Top 1: 0.668, Top 3: 0.899, Top 5: 0.969, \n",
      "\t\t F1 Micro: 0.584, F1 Macro: 0.492, Total Pos: 710,808\n",
      "svm_iter_100_reg_0.01_classweights_balanced\n"
     ]
    },
    {
     "name": "stderr",
     "output_type": "stream",
     "text": [
      "2017-01-17 20:22:54,159 : INFO : Getting Validation Metrics\n"
     ]
    },
    {
     "name": "stdout",
     "output_type": "stream",
     "text": [
      "[[0 0 0 ..., 0 1 1]\n",
      " [1 0 0 ..., 0 0 0]\n",
      " [0 0 0 ..., 0 1 0]\n",
      " ..., \n",
      " [1 1 0 ..., 1 0 0]\n",
      " [1 0 0 ..., 0 1 0]\n",
      " [1 1 0 ..., 0 0 0]]\n"
     ]
    },
    {
     "name": "stderr",
     "output_type": "stream",
     "text": [
      "2017-01-17 20:23:02,987 : INFO : loading Doc2Vec object from /mnt/data2/shalaby/parameter_search_doc2vec_models_new/full/doc2vec_size_100_w_5_type_dm_concat_1_mean_0_trainwords_0_hs_0_neg_10_vocabsize_None/epoch_8/model\n"
     ]
    },
    {
     "name": "stdout",
     "output_type": "stream",
     "text": [
      "** Validation Metrics: Cov Err: 1.884, Avg Labels: 1.150, \n",
      "\t\t Top 1: 0.670, Top 3: 0.899, Top 5: 0.967, \n",
      "\t\t F1 Micro: 0.584, F1 Macro: 0.491, Total Pos: 712,103\n",
      "epoch_8\n"
     ]
    },
    {
     "name": "stderr",
     "output_type": "stream",
     "text": [
      "2017-01-17 20:23:11,915 : INFO : loading docvecs recursively from /mnt/data2/shalaby/parameter_search_doc2vec_models_new/full/doc2vec_size_100_w_5_type_dm_concat_1_mean_0_trainwords_0_hs_0_neg_10_vocabsize_None/epoch_8/model.docvecs.* with mmap=None\n",
      "2017-01-17 20:23:11,917 : INFO : loading doctag_syn0 from /mnt/data2/shalaby/parameter_search_doc2vec_models_new/full/doc2vec_size_100_w_5_type_dm_concat_1_mean_0_trainwords_0_hs_0_neg_10_vocabsize_None/epoch_8/model.docvecs.doctag_syn0.npy with mmap=None\n",
      "2017-01-17 20:23:13,576 : INFO : loading syn1neg from /mnt/data2/shalaby/parameter_search_doc2vec_models_new/full/doc2vec_size_100_w_5_type_dm_concat_1_mean_0_trainwords_0_hs_0_neg_10_vocabsize_None/epoch_8/model.syn1neg.npy with mmap=None\n",
      "2017-01-17 20:23:20,336 : INFO : loading syn0 from /mnt/data2/shalaby/parameter_search_doc2vec_models_new/full/doc2vec_size_100_w_5_type_dm_concat_1_mean_0_trainwords_0_hs_0_neg_10_vocabsize_None/epoch_8/model.syn0.npy with mmap=None\n",
      "2017-01-17 20:23:20,919 : INFO : setting ignored attribute syn0norm to None\n",
      "2017-01-17 20:23:20,920 : INFO : setting ignored attribute cum_table to None\n",
      "2017-01-17 20:23:22,795 : INFO : Getting Validation Embeddings\n",
      "2017-01-17 20:23:22,796 : INFO : ===== Loading validation vectors\n",
      "2017-01-17 20:23:38,507 : INFO : Loading Classifier\n",
      "2017-01-17 20:23:38,511 : INFO : Evaluating on Validation Data\n"
     ]
    },
    {
     "name": "stdout",
     "output_type": "stream",
     "text": [
      "svm_iter_10_reg_0.001_classweights_balanced\n"
     ]
    },
    {
     "name": "stderr",
     "output_type": "stream",
     "text": [
      "2017-01-17 20:23:40,956 : INFO : Getting Validation Metrics\n"
     ]
    },
    {
     "name": "stdout",
     "output_type": "stream",
     "text": [
      "[[0 0 0 ..., 0 1 1]\n",
      " [1 0 0 ..., 0 0 0]\n",
      " [0 0 0 ..., 0 1 0]\n",
      " ..., \n",
      " [1 1 0 ..., 1 0 0]\n",
      " [1 0 0 ..., 0 1 0]\n",
      " [1 1 0 ..., 0 0 0]]\n"
     ]
    },
    {
     "name": "stderr",
     "output_type": "stream",
     "text": [
      "2017-01-17 20:23:51,137 : INFO : Loading Classifier\n",
      "2017-01-17 20:23:51,141 : INFO : Evaluating on Validation Data\n"
     ]
    },
    {
     "name": "stdout",
     "output_type": "stream",
     "text": [
      "** Validation Metrics: Cov Err: 1.871, Avg Labels: 1.150, \n",
      "\t\t Top 1: 0.671, Top 3: 0.901, Top 5: 0.969, \n",
      "\t\t F1 Micro: 0.584, F1 Macro: 0.491, Total Pos: 715,278\n",
      "svm_iter_100_reg_0.01_classweights_balanced\n"
     ]
    },
    {
     "name": "stderr",
     "output_type": "stream",
     "text": [
      "2017-01-17 20:23:53,551 : INFO : Getting Validation Metrics\n"
     ]
    },
    {
     "name": "stdout",
     "output_type": "stream",
     "text": [
      "[[0 0 0 ..., 0 1 1]\n",
      " [1 0 0 ..., 0 0 0]\n",
      " [0 0 0 ..., 0 1 0]\n",
      " ..., \n",
      " [1 1 0 ..., 1 0 0]\n",
      " [1 0 0 ..., 0 1 0]\n",
      " [1 1 0 ..., 0 0 0]]\n"
     ]
    },
    {
     "name": "stderr",
     "output_type": "stream",
     "text": [
      "2017-01-17 20:24:03,823 : INFO : loading Doc2Vec object from /mnt/data2/shalaby/parameter_search_doc2vec_models_new/full/doc2vec_size_100_w_5_type_dm_concat_1_mean_0_trainwords_0_hs_0_neg_10_vocabsize_None/epoch_9/model\n"
     ]
    },
    {
     "name": "stdout",
     "output_type": "stream",
     "text": [
      "** Validation Metrics: Cov Err: 1.880, Avg Labels: 1.150, \n",
      "\t\t Top 1: 0.672, Top 3: 0.899, Top 5: 0.967, \n",
      "\t\t F1 Micro: 0.582, F1 Macro: 0.490, Total Pos: 718,741\n",
      "epoch_9\n"
     ]
    },
    {
     "name": "stderr",
     "output_type": "stream",
     "text": [
      "2017-01-17 20:24:10,203 : INFO : loading docvecs recursively from /mnt/data2/shalaby/parameter_search_doc2vec_models_new/full/doc2vec_size_100_w_5_type_dm_concat_1_mean_0_trainwords_0_hs_0_neg_10_vocabsize_None/epoch_9/model.docvecs.* with mmap=None\n",
      "2017-01-17 20:24:10,204 : INFO : loading doctag_syn0 from /mnt/data2/shalaby/parameter_search_doc2vec_models_new/full/doc2vec_size_100_w_5_type_dm_concat_1_mean_0_trainwords_0_hs_0_neg_10_vocabsize_None/epoch_9/model.docvecs.doctag_syn0.npy with mmap=None\n",
      "2017-01-17 20:24:11,231 : INFO : loading syn1neg from /mnt/data2/shalaby/parameter_search_doc2vec_models_new/full/doc2vec_size_100_w_5_type_dm_concat_1_mean_0_trainwords_0_hs_0_neg_10_vocabsize_None/epoch_9/model.syn1neg.npy with mmap=None\n",
      "2017-01-17 20:24:17,760 : INFO : loading syn0 from /mnt/data2/shalaby/parameter_search_doc2vec_models_new/full/doc2vec_size_100_w_5_type_dm_concat_1_mean_0_trainwords_0_hs_0_neg_10_vocabsize_None/epoch_9/model.syn0.npy with mmap=None\n",
      "2017-01-17 20:24:18,342 : INFO : setting ignored attribute syn0norm to None\n",
      "2017-01-17 20:24:18,343 : INFO : setting ignored attribute cum_table to None\n",
      "2017-01-17 20:24:20,192 : INFO : Getting Validation Embeddings\n",
      "2017-01-17 20:24:20,193 : INFO : ===== Loading validation vectors\n",
      "2017-01-17 20:24:36,608 : INFO : Loading Classifier\n",
      "2017-01-17 20:24:36,612 : INFO : Evaluating on Validation Data\n"
     ]
    },
    {
     "name": "stdout",
     "output_type": "stream",
     "text": [
      "svm_iter_10_reg_0.001_classweights_balanced\n"
     ]
    },
    {
     "name": "stderr",
     "output_type": "stream",
     "text": [
      "2017-01-17 20:24:43,905 : INFO : Getting Validation Metrics\n"
     ]
    },
    {
     "name": "stdout",
     "output_type": "stream",
     "text": [
      "[[0 0 0 ..., 0 1 1]\n",
      " [1 0 0 ..., 0 0 0]\n",
      " [0 0 0 ..., 0 1 0]\n",
      " ..., \n",
      " [1 1 0 ..., 1 0 0]\n",
      " [1 0 0 ..., 0 1 0]\n",
      " [1 1 0 ..., 0 0 0]]\n"
     ]
    },
    {
     "name": "stderr",
     "output_type": "stream",
     "text": [
      "2017-01-17 20:24:52,683 : INFO : Loading Classifier\n",
      "2017-01-17 20:24:52,685 : INFO : Evaluating on Validation Data\n"
     ]
    },
    {
     "name": "stdout",
     "output_type": "stream",
     "text": [
      "** Validation Metrics: Cov Err: 1.856, Avg Labels: 1.150, \n",
      "\t\t Top 1: 0.676, Top 3: 0.904, Top 5: 0.971, \n",
      "\t\t F1 Micro: 0.591, F1 Macro: 0.497, Total Pos: 698,706\n",
      "svm_iter_100_reg_0.01_classweights_balanced\n"
     ]
    },
    {
     "name": "stderr",
     "output_type": "stream",
     "text": [
      "2017-01-17 20:24:59,094 : INFO : Getting Validation Metrics\n"
     ]
    },
    {
     "name": "stdout",
     "output_type": "stream",
     "text": [
      "[[0 0 0 ..., 0 1 1]\n",
      " [1 0 0 ..., 0 0 0]\n",
      " [0 0 0 ..., 0 1 0]\n",
      " ..., \n",
      " [1 1 0 ..., 1 0 0]\n",
      " [1 0 0 ..., 0 1 0]\n",
      " [1 1 0 ..., 0 0 0]]\n"
     ]
    },
    {
     "name": "stderr",
     "output_type": "stream",
     "text": [
      "2017-01-17 20:25:08,060 : INFO : loading Doc2Vec object from /mnt/data2/shalaby/parameter_search_doc2vec_models_new/full/doc2vec_size_100_w_5_type_dm_concat_1_mean_0_trainwords_0_hs_0_neg_10_vocabsize_None/epoch_10/model\n"
     ]
    },
    {
     "name": "stdout",
     "output_type": "stream",
     "text": [
      "** Validation Metrics: Cov Err: 1.863, Avg Labels: 1.150, \n",
      "\t\t Top 1: 0.676, Top 3: 0.902, Top 5: 0.969, \n",
      "\t\t F1 Micro: 0.590, F1 Macro: 0.496, Total Pos: 701,358\n",
      "epoch_10\n"
     ]
    },
    {
     "name": "stderr",
     "output_type": "stream",
     "text": [
      "2017-01-17 20:25:16,181 : INFO : loading docvecs recursively from /mnt/data2/shalaby/parameter_search_doc2vec_models_new/full/doc2vec_size_100_w_5_type_dm_concat_1_mean_0_trainwords_0_hs_0_neg_10_vocabsize_None/epoch_10/model.docvecs.* with mmap=None\n",
      "2017-01-17 20:25:16,182 : INFO : loading doctag_syn0 from /mnt/data2/shalaby/parameter_search_doc2vec_models_new/full/doc2vec_size_100_w_5_type_dm_concat_1_mean_0_trainwords_0_hs_0_neg_10_vocabsize_None/epoch_10/model.docvecs.doctag_syn0.npy with mmap=None\n",
      "2017-01-17 20:25:17,883 : INFO : loading syn1neg from /mnt/data2/shalaby/parameter_search_doc2vec_models_new/full/doc2vec_size_100_w_5_type_dm_concat_1_mean_0_trainwords_0_hs_0_neg_10_vocabsize_None/epoch_10/model.syn1neg.npy with mmap=None\n",
      "2017-01-17 20:25:24,489 : INFO : loading syn0 from /mnt/data2/shalaby/parameter_search_doc2vec_models_new/full/doc2vec_size_100_w_5_type_dm_concat_1_mean_0_trainwords_0_hs_0_neg_10_vocabsize_None/epoch_10/model.syn0.npy with mmap=None\n",
      "2017-01-17 20:25:25,051 : INFO : setting ignored attribute syn0norm to None\n",
      "2017-01-17 20:25:25,052 : INFO : setting ignored attribute cum_table to None\n",
      "2017-01-17 20:25:26,887 : INFO : Getting Validation Embeddings\n",
      "2017-01-17 20:25:26,888 : INFO : ===== Loading validation vectors\n",
      "2017-01-17 20:25:42,473 : INFO : Loading Classifier\n",
      "2017-01-17 20:25:42,477 : INFO : Evaluating on Validation Data\n"
     ]
    },
    {
     "name": "stdout",
     "output_type": "stream",
     "text": [
      "svm_iter_10_reg_0.001_classweights_balanced\n"
     ]
    },
    {
     "name": "stderr",
     "output_type": "stream",
     "text": [
      "2017-01-17 20:25:45,682 : INFO : Getting Validation Metrics\n"
     ]
    },
    {
     "name": "stdout",
     "output_type": "stream",
     "text": [
      "[[0 0 0 ..., 0 1 1]\n",
      " [1 0 0 ..., 0 0 0]\n",
      " [0 0 0 ..., 0 1 0]\n",
      " ..., \n",
      " [1 1 0 ..., 1 0 0]\n",
      " [1 0 0 ..., 0 1 0]\n",
      " [1 1 0 ..., 0 0 0]]\n"
     ]
    },
    {
     "name": "stderr",
     "output_type": "stream",
     "text": [
      "2017-01-17 20:25:54,538 : INFO : Loading Classifier\n",
      "2017-01-17 20:25:54,541 : INFO : Evaluating on Validation Data\n"
     ]
    },
    {
     "name": "stdout",
     "output_type": "stream",
     "text": [
      "** Validation Metrics: Cov Err: 1.838, Avg Labels: 1.150, \n",
      "\t\t Top 1: 0.678, Top 3: 0.907, Top 5: 0.973, \n",
      "\t\t F1 Micro: 0.592, F1 Macro: 0.497, Total Pos: 708,816\n",
      "svm_iter_100_reg_0.01_classweights_balanced\n"
     ]
    },
    {
     "name": "stderr",
     "output_type": "stream",
     "text": [
      "2017-01-17 20:25:57,452 : INFO : Getting Validation Metrics\n"
     ]
    },
    {
     "name": "stdout",
     "output_type": "stream",
     "text": [
      "[[0 0 0 ..., 0 1 1]\n",
      " [1 0 0 ..., 0 0 0]\n",
      " [0 0 0 ..., 0 1 0]\n",
      " ..., \n",
      " [1 1 0 ..., 1 0 0]\n",
      " [1 0 0 ..., 0 1 0]\n",
      " [1 1 0 ..., 0 0 0]]\n"
     ]
    },
    {
     "name": "stderr",
     "output_type": "stream",
     "text": [
      "2017-01-17 20:26:06,815 : INFO : loading Doc2Vec object from /mnt/data2/shalaby/parameter_search_doc2vec_models_new/full/doc2vec_size_100_w_5_type_dm_concat_1_mean_0_trainwords_0_hs_0_neg_10_vocabsize_None/epoch_11/model\n"
     ]
    },
    {
     "name": "stdout",
     "output_type": "stream",
     "text": [
      "** Validation Metrics: Cov Err: 1.842, Avg Labels: 1.150, \n",
      "\t\t Top 1: 0.679, Top 3: 0.907, Top 5: 0.971, \n",
      "\t\t F1 Micro: 0.591, F1 Macro: 0.497, Total Pos: 709,412\n",
      "epoch_11\n"
     ]
    },
    {
     "name": "stderr",
     "output_type": "stream",
     "text": [
      "2017-01-17 20:26:15,571 : INFO : loading docvecs recursively from /mnt/data2/shalaby/parameter_search_doc2vec_models_new/full/doc2vec_size_100_w_5_type_dm_concat_1_mean_0_trainwords_0_hs_0_neg_10_vocabsize_None/epoch_11/model.docvecs.* with mmap=None\n",
      "2017-01-17 20:26:15,572 : INFO : loading doctag_syn0 from /mnt/data2/shalaby/parameter_search_doc2vec_models_new/full/doc2vec_size_100_w_5_type_dm_concat_1_mean_0_trainwords_0_hs_0_neg_10_vocabsize_None/epoch_11/model.docvecs.doctag_syn0.npy with mmap=None\n",
      "2017-01-17 20:26:16,614 : INFO : loading syn1neg from /mnt/data2/shalaby/parameter_search_doc2vec_models_new/full/doc2vec_size_100_w_5_type_dm_concat_1_mean_0_trainwords_0_hs_0_neg_10_vocabsize_None/epoch_11/model.syn1neg.npy with mmap=None\n",
      "2017-01-17 20:26:23,049 : INFO : loading syn0 from /mnt/data2/shalaby/parameter_search_doc2vec_models_new/full/doc2vec_size_100_w_5_type_dm_concat_1_mean_0_trainwords_0_hs_0_neg_10_vocabsize_None/epoch_11/model.syn0.npy with mmap=None\n",
      "2017-01-17 20:26:23,658 : INFO : setting ignored attribute syn0norm to None\n",
      "2017-01-17 20:26:23,659 : INFO : setting ignored attribute cum_table to None\n",
      "2017-01-17 20:26:25,526 : INFO : Getting Validation Embeddings\n",
      "2017-01-17 20:26:25,528 : INFO : ===== Loading validation vectors\n",
      "2017-01-17 20:26:42,146 : INFO : Loading Classifier\n",
      "2017-01-17 20:26:42,151 : INFO : Evaluating on Validation Data\n"
     ]
    },
    {
     "name": "stdout",
     "output_type": "stream",
     "text": [
      "svm_iter_10_reg_0.001_classweights_balanced\n"
     ]
    },
    {
     "name": "stderr",
     "output_type": "stream",
     "text": [
      "2017-01-17 20:26:48,706 : INFO : Getting Validation Metrics\n"
     ]
    },
    {
     "name": "stdout",
     "output_type": "stream",
     "text": [
      "[[0 0 0 ..., 0 1 1]\n",
      " [1 0 0 ..., 0 1 0]\n",
      " [0 0 0 ..., 0 1 0]\n",
      " ..., \n",
      " [1 1 0 ..., 1 0 0]\n",
      " [1 0 0 ..., 0 1 0]\n",
      " [1 1 0 ..., 0 0 0]]\n"
     ]
    },
    {
     "name": "stderr",
     "output_type": "stream",
     "text": [
      "2017-01-17 20:26:57,500 : INFO : Loading Classifier\n",
      "2017-01-17 20:26:57,503 : INFO : Evaluating on Validation Data\n"
     ]
    },
    {
     "name": "stdout",
     "output_type": "stream",
     "text": [
      "** Validation Metrics: Cov Err: 1.825, Avg Labels: 1.150, \n",
      "\t\t Top 1: 0.681, Top 3: 0.909, Top 5: 0.974, \n",
      "\t\t F1 Micro: 0.597, F1 Macro: 0.501, Total Pos: 697,430\n",
      "svm_iter_100_reg_0.01_classweights_balanced\n"
     ]
    },
    {
     "name": "stderr",
     "output_type": "stream",
     "text": [
      "2017-01-17 20:27:03,944 : INFO : Getting Validation Metrics\n"
     ]
    },
    {
     "name": "stdout",
     "output_type": "stream",
     "text": [
      "[[0 0 0 ..., 0 1 1]\n",
      " [1 0 0 ..., 0 1 0]\n",
      " [0 0 0 ..., 0 1 0]\n",
      " ..., \n",
      " [0 1 0 ..., 1 0 0]\n",
      " [1 0 0 ..., 0 1 0]\n",
      " [1 1 0 ..., 0 0 0]]\n"
     ]
    },
    {
     "name": "stderr",
     "output_type": "stream",
     "text": [
      "2017-01-17 20:27:12,972 : INFO : loading Doc2Vec object from /mnt/data2/shalaby/parameter_search_doc2vec_models_new/full/doc2vec_size_100_w_5_type_dm_concat_1_mean_0_trainwords_0_hs_0_neg_10_vocabsize_None/epoch_12/model\n"
     ]
    },
    {
     "name": "stdout",
     "output_type": "stream",
     "text": [
      "** Validation Metrics: Cov Err: 1.831, Avg Labels: 1.150, \n",
      "\t\t Top 1: 0.682, Top 3: 0.908, Top 5: 0.972, \n",
      "\t\t F1 Micro: 0.596, F1 Macro: 0.500, Total Pos: 700,356\n",
      "epoch_12\n"
     ]
    },
    {
     "name": "stderr",
     "output_type": "stream",
     "text": [
      "2017-01-17 20:27:19,568 : INFO : loading docvecs recursively from /mnt/data2/shalaby/parameter_search_doc2vec_models_new/full/doc2vec_size_100_w_5_type_dm_concat_1_mean_0_trainwords_0_hs_0_neg_10_vocabsize_None/epoch_12/model.docvecs.* with mmap=None\n",
      "2017-01-17 20:27:19,568 : INFO : loading doctag_syn0 from /mnt/data2/shalaby/parameter_search_doc2vec_models_new/full/doc2vec_size_100_w_5_type_dm_concat_1_mean_0_trainwords_0_hs_0_neg_10_vocabsize_None/epoch_12/model.docvecs.doctag_syn0.npy with mmap=None\n",
      "2017-01-17 20:27:21,277 : INFO : loading syn1neg from /mnt/data2/shalaby/parameter_search_doc2vec_models_new/full/doc2vec_size_100_w_5_type_dm_concat_1_mean_0_trainwords_0_hs_0_neg_10_vocabsize_None/epoch_12/model.syn1neg.npy with mmap=None\n",
      "2017-01-17 20:27:27,977 : INFO : loading syn0 from /mnt/data2/shalaby/parameter_search_doc2vec_models_new/full/doc2vec_size_100_w_5_type_dm_concat_1_mean_0_trainwords_0_hs_0_neg_10_vocabsize_None/epoch_12/model.syn0.npy with mmap=None\n",
      "2017-01-17 20:27:28,628 : INFO : setting ignored attribute syn0norm to None\n",
      "2017-01-17 20:27:28,629 : INFO : setting ignored attribute cum_table to None\n",
      "2017-01-17 20:27:30,602 : INFO : Getting Validation Embeddings\n",
      "2017-01-17 20:27:30,603 : INFO : ===== Loading validation vectors\n",
      "2017-01-17 20:27:46,340 : INFO : Loading Classifier\n",
      "2017-01-17 20:27:46,345 : INFO : Evaluating on Validation Data\n"
     ]
    },
    {
     "name": "stdout",
     "output_type": "stream",
     "text": [
      "svm_iter_10_reg_0.001_classweights_balanced\n"
     ]
    },
    {
     "name": "stderr",
     "output_type": "stream",
     "text": [
      "2017-01-17 20:27:49,086 : INFO : Getting Validation Metrics\n"
     ]
    },
    {
     "name": "stdout",
     "output_type": "stream",
     "text": [
      "[[0 0 0 ..., 0 1 1]\n",
      " [1 0 0 ..., 0 0 0]\n",
      " [0 0 0 ..., 0 1 0]\n",
      " ..., \n",
      " [1 1 0 ..., 1 0 0]\n",
      " [1 0 0 ..., 0 1 0]\n",
      " [0 1 0 ..., 0 0 0]]\n"
     ]
    },
    {
     "name": "stderr",
     "output_type": "stream",
     "text": [
      "2017-01-17 20:27:57,993 : INFO : Loading Classifier\n",
      "2017-01-17 20:27:57,996 : INFO : Evaluating on Validation Data\n"
     ]
    },
    {
     "name": "stdout",
     "output_type": "stream",
     "text": [
      "** Validation Metrics: Cov Err: 1.819, Avg Labels: 1.150, \n",
      "\t\t Top 1: 0.682, Top 3: 0.911, Top 5: 0.975, \n",
      "\t\t F1 Micro: 0.598, F1 Macro: 0.503, Total Pos: 695,872\n",
      "svm_iter_100_reg_0.01_classweights_balanced\n"
     ]
    },
    {
     "name": "stderr",
     "output_type": "stream",
     "text": [
      "2017-01-17 20:28:00,658 : INFO : Getting Validation Metrics\n"
     ]
    },
    {
     "name": "stdout",
     "output_type": "stream",
     "text": [
      "[[0 0 0 ..., 0 1 1]\n",
      " [1 0 0 ..., 0 0 0]\n",
      " [0 0 0 ..., 0 1 0]\n",
      " ..., \n",
      " [1 1 0 ..., 1 0 0]\n",
      " [1 0 0 ..., 0 1 0]\n",
      " [0 1 0 ..., 0 0 0]]\n"
     ]
    },
    {
     "name": "stderr",
     "output_type": "stream",
     "text": [
      "2017-01-17 20:28:09,277 : INFO : loading Doc2Vec object from /mnt/data2/shalaby/parameter_search_doc2vec_models_new/full/doc2vec_size_100_w_5_type_dm_concat_1_mean_0_trainwords_0_hs_0_neg_10_vocabsize_None/epoch_13/model\n"
     ]
    },
    {
     "name": "stdout",
     "output_type": "stream",
     "text": [
      "** Validation Metrics: Cov Err: 1.827, Avg Labels: 1.150, \n",
      "\t\t Top 1: 0.682, Top 3: 0.909, Top 5: 0.973, \n",
      "\t\t F1 Micro: 0.597, F1 Macro: 0.502, Total Pos: 698,338\n",
      "epoch_13\n"
     ]
    },
    {
     "name": "stderr",
     "output_type": "stream",
     "text": [
      "2017-01-17 20:28:16,933 : INFO : loading docvecs recursively from /mnt/data2/shalaby/parameter_search_doc2vec_models_new/full/doc2vec_size_100_w_5_type_dm_concat_1_mean_0_trainwords_0_hs_0_neg_10_vocabsize_None/epoch_13/model.docvecs.* with mmap=None\n",
      "2017-01-17 20:28:16,935 : INFO : loading doctag_syn0 from /mnt/data2/shalaby/parameter_search_doc2vec_models_new/full/doc2vec_size_100_w_5_type_dm_concat_1_mean_0_trainwords_0_hs_0_neg_10_vocabsize_None/epoch_13/model.docvecs.doctag_syn0.npy with mmap=None\n",
      "2017-01-17 20:28:17,972 : INFO : loading syn1neg from /mnt/data2/shalaby/parameter_search_doc2vec_models_new/full/doc2vec_size_100_w_5_type_dm_concat_1_mean_0_trainwords_0_hs_0_neg_10_vocabsize_None/epoch_13/model.syn1neg.npy with mmap=None\n",
      "2017-01-17 20:28:24,471 : INFO : loading syn0 from /mnt/data2/shalaby/parameter_search_doc2vec_models_new/full/doc2vec_size_100_w_5_type_dm_concat_1_mean_0_trainwords_0_hs_0_neg_10_vocabsize_None/epoch_13/model.syn0.npy with mmap=None\n",
      "2017-01-17 20:28:25,036 : INFO : setting ignored attribute syn0norm to None\n",
      "2017-01-17 20:28:25,037 : INFO : setting ignored attribute cum_table to None\n",
      "2017-01-17 20:28:26,847 : INFO : Getting Validation Embeddings\n",
      "2017-01-17 20:28:26,848 : INFO : ===== Loading validation vectors\n",
      "2017-01-17 20:28:43,531 : INFO : Loading Classifier\n",
      "2017-01-17 20:28:43,535 : INFO : Evaluating on Validation Data\n"
     ]
    },
    {
     "name": "stdout",
     "output_type": "stream",
     "text": [
      "svm_iter_10_reg_0.001_classweights_balanced\n"
     ]
    },
    {
     "name": "stderr",
     "output_type": "stream",
     "text": [
      "2017-01-17 20:28:50,015 : INFO : Getting Validation Metrics\n"
     ]
    },
    {
     "name": "stdout",
     "output_type": "stream",
     "text": [
      "[[0 0 0 ..., 0 1 1]\n",
      " [1 0 0 ..., 0 0 0]\n",
      " [0 0 0 ..., 0 1 0]\n",
      " ..., \n",
      " [1 1 0 ..., 1 0 0]\n",
      " [1 0 0 ..., 0 1 0]\n",
      " [1 1 0 ..., 0 0 0]]\n"
     ]
    },
    {
     "name": "stderr",
     "output_type": "stream",
     "text": [
      "2017-01-17 20:28:58,923 : INFO : Loading Classifier\n",
      "2017-01-17 20:28:58,926 : INFO : Evaluating on Validation Data\n"
     ]
    },
    {
     "name": "stdout",
     "output_type": "stream",
     "text": [
      "** Validation Metrics: Cov Err: 1.837, Avg Labels: 1.150, \n",
      "\t\t Top 1: 0.678, Top 3: 0.907, Top 5: 0.973, \n",
      "\t\t F1 Micro: 0.592, F1 Macro: 0.498, Total Pos: 706,344\n",
      "svm_iter_100_reg_0.01_classweights_balanced\n"
     ]
    },
    {
     "name": "stderr",
     "output_type": "stream",
     "text": [
      "2017-01-17 20:29:05,594 : INFO : Getting Validation Metrics\n"
     ]
    },
    {
     "name": "stdout",
     "output_type": "stream",
     "text": [
      "[[0 0 0 ..., 0 1 1]\n",
      " [1 0 0 ..., 0 0 0]\n",
      " [0 0 0 ..., 0 1 0]\n",
      " ..., \n",
      " [1 1 0 ..., 1 0 0]\n",
      " [1 0 0 ..., 0 1 0]\n",
      " [1 1 0 ..., 0 0 0]]\n"
     ]
    },
    {
     "name": "stderr",
     "output_type": "stream",
     "text": [
      "2017-01-17 20:29:14,456 : INFO : loading Doc2Vec object from /mnt/data2/shalaby/parameter_search_doc2vec_models_new/full/doc2vec_size_100_w_5_type_dm_concat_1_mean_0_trainwords_0_hs_0_neg_10_vocabsize_None/epoch_14/model\n"
     ]
    },
    {
     "name": "stdout",
     "output_type": "stream",
     "text": [
      "** Validation Metrics: Cov Err: 1.840, Avg Labels: 1.150, \n",
      "\t\t Top 1: 0.680, Top 3: 0.906, Top 5: 0.972, \n",
      "\t\t F1 Micro: 0.591, F1 Macro: 0.498, Total Pos: 707,217\n",
      "epoch_14\n"
     ]
    },
    {
     "name": "stderr",
     "output_type": "stream",
     "text": [
      "2017-01-17 20:29:22,783 : INFO : loading docvecs recursively from /mnt/data2/shalaby/parameter_search_doc2vec_models_new/full/doc2vec_size_100_w_5_type_dm_concat_1_mean_0_trainwords_0_hs_0_neg_10_vocabsize_None/epoch_14/model.docvecs.* with mmap=None\n",
      "2017-01-17 20:29:22,784 : INFO : loading doctag_syn0 from /mnt/data2/shalaby/parameter_search_doc2vec_models_new/full/doc2vec_size_100_w_5_type_dm_concat_1_mean_0_trainwords_0_hs_0_neg_10_vocabsize_None/epoch_14/model.docvecs.doctag_syn0.npy with mmap=None\n",
      "2017-01-17 20:29:24,441 : INFO : loading syn1neg from /mnt/data2/shalaby/parameter_search_doc2vec_models_new/full/doc2vec_size_100_w_5_type_dm_concat_1_mean_0_trainwords_0_hs_0_neg_10_vocabsize_None/epoch_14/model.syn1neg.npy with mmap=None\n",
      "2017-01-17 20:29:30,904 : INFO : loading syn0 from /mnt/data2/shalaby/parameter_search_doc2vec_models_new/full/doc2vec_size_100_w_5_type_dm_concat_1_mean_0_trainwords_0_hs_0_neg_10_vocabsize_None/epoch_14/model.syn0.npy with mmap=None\n",
      "2017-01-17 20:29:31,504 : INFO : setting ignored attribute syn0norm to None\n",
      "2017-01-17 20:29:31,505 : INFO : setting ignored attribute cum_table to None\n",
      "2017-01-17 20:29:33,316 : INFO : Getting Validation Embeddings\n",
      "2017-01-17 20:29:33,317 : INFO : ===== Loading validation vectors\n",
      "2017-01-17 20:29:49,021 : INFO : Loading Classifier\n",
      "2017-01-17 20:29:49,026 : INFO : Evaluating on Validation Data\n"
     ]
    },
    {
     "name": "stdout",
     "output_type": "stream",
     "text": [
      "svm_iter_10_reg_0.001_classweights_balanced\n"
     ]
    },
    {
     "name": "stderr",
     "output_type": "stream",
     "text": [
      "2017-01-17 20:29:52,880 : INFO : Getting Validation Metrics\n"
     ]
    },
    {
     "name": "stdout",
     "output_type": "stream",
     "text": [
      "[[0 0 0 ..., 0 1 1]\n",
      " [1 1 0 ..., 0 1 0]\n",
      " [0 0 0 ..., 0 1 0]\n",
      " ..., \n",
      " [1 1 0 ..., 1 0 0]\n",
      " [1 0 0 ..., 0 1 0]\n",
      " [1 1 0 ..., 0 0 0]]\n"
     ]
    },
    {
     "name": "stderr",
     "output_type": "stream",
     "text": [
      "2017-01-17 20:30:02,986 : INFO : Loading Classifier\n",
      "2017-01-17 20:30:02,989 : INFO : Evaluating on Validation Data\n"
     ]
    },
    {
     "name": "stdout",
     "output_type": "stream",
     "text": [
      "** Validation Metrics: Cov Err: 1.817, Avg Labels: 1.150, \n",
      "\t\t Top 1: 0.682, Top 3: 0.911, Top 5: 0.976, \n",
      "\t\t F1 Micro: 0.598, F1 Macro: 0.505, Total Pos: 697,079\n",
      "svm_iter_100_reg_0.01_classweights_balanced\n"
     ]
    },
    {
     "name": "stderr",
     "output_type": "stream",
     "text": [
      "2017-01-17 20:30:05,968 : INFO : Getting Validation Metrics\n"
     ]
    },
    {
     "name": "stdout",
     "output_type": "stream",
     "text": [
      "[[0 0 0 ..., 0 1 1]\n",
      " [1 1 0 ..., 0 0 0]\n",
      " [0 0 0 ..., 0 1 0]\n",
      " ..., \n",
      " [1 1 0 ..., 1 0 0]\n",
      " [1 0 0 ..., 0 1 0]\n",
      " [1 1 0 ..., 0 0 0]]\n"
     ]
    },
    {
     "name": "stderr",
     "output_type": "stream",
     "text": [
      "2017-01-17 20:30:16,716 : INFO : loading Doc2Vec object from /mnt/data2/shalaby/parameter_search_doc2vec_models_new/full/doc2vec_size_100_w_5_type_dm_concat_1_mean_0_trainwords_0_hs_0_neg_10_vocabsize_None/epoch_15/model\n"
     ]
    },
    {
     "name": "stdout",
     "output_type": "stream",
     "text": [
      "** Validation Metrics: Cov Err: 1.823, Avg Labels: 1.150, \n",
      "\t\t Top 1: 0.682, Top 3: 0.910, Top 5: 0.974, \n",
      "\t\t F1 Micro: 0.597, F1 Macro: 0.504, Total Pos: 699,728\n",
      "epoch_15\n"
     ]
    },
    {
     "name": "stderr",
     "output_type": "stream",
     "text": [
      "2017-01-17 20:30:23,126 : INFO : loading docvecs recursively from /mnt/data2/shalaby/parameter_search_doc2vec_models_new/full/doc2vec_size_100_w_5_type_dm_concat_1_mean_0_trainwords_0_hs_0_neg_10_vocabsize_None/epoch_15/model.docvecs.* with mmap=None\n",
      "2017-01-17 20:30:23,127 : INFO : loading doctag_syn0 from /mnt/data2/shalaby/parameter_search_doc2vec_models_new/full/doc2vec_size_100_w_5_type_dm_concat_1_mean_0_trainwords_0_hs_0_neg_10_vocabsize_None/epoch_15/model.docvecs.doctag_syn0.npy with mmap=None\n",
      "2017-01-17 20:30:24,256 : INFO : loading syn1neg from /mnt/data2/shalaby/parameter_search_doc2vec_models_new/full/doc2vec_size_100_w_5_type_dm_concat_1_mean_0_trainwords_0_hs_0_neg_10_vocabsize_None/epoch_15/model.syn1neg.npy with mmap=None\n",
      "2017-01-17 20:30:30,646 : INFO : loading syn0 from /mnt/data2/shalaby/parameter_search_doc2vec_models_new/full/doc2vec_size_100_w_5_type_dm_concat_1_mean_0_trainwords_0_hs_0_neg_10_vocabsize_None/epoch_15/model.syn0.npy with mmap=None\n",
      "2017-01-17 20:30:31,248 : INFO : setting ignored attribute syn0norm to None\n",
      "2017-01-17 20:30:31,249 : INFO : setting ignored attribute cum_table to None\n",
      "2017-01-17 20:30:33,055 : INFO : Getting Validation Embeddings\n",
      "2017-01-17 20:30:33,057 : INFO : ===== Loading validation vectors\n",
      "2017-01-17 20:30:51,221 : INFO : Loading Classifier\n",
      "2017-01-17 20:30:51,225 : INFO : Evaluating on Validation Data\n"
     ]
    },
    {
     "name": "stdout",
     "output_type": "stream",
     "text": [
      "svm_iter_10_reg_0.001_classweights_balanced\n"
     ]
    },
    {
     "name": "stderr",
     "output_type": "stream",
     "text": [
      "2017-01-17 20:30:57,571 : INFO : Getting Validation Metrics\n"
     ]
    },
    {
     "name": "stdout",
     "output_type": "stream",
     "text": [
      "[[0 0 0 ..., 0 1 1]\n",
      " [1 0 0 ..., 0 1 0]\n",
      " [0 0 0 ..., 0 1 0]\n",
      " ..., \n",
      " [0 1 0 ..., 1 0 0]\n",
      " [1 0 0 ..., 0 1 0]\n",
      " [1 1 0 ..., 0 0 0]]\n"
     ]
    },
    {
     "name": "stderr",
     "output_type": "stream",
     "text": [
      "2017-01-17 20:31:07,268 : INFO : Loading Classifier\n",
      "2017-01-17 20:31:07,270 : INFO : Evaluating on Validation Data\n"
     ]
    },
    {
     "name": "stdout",
     "output_type": "stream",
     "text": [
      "** Validation Metrics: Cov Err: 1.827, Avg Labels: 1.150, \n",
      "\t\t Top 1: 0.679, Top 3: 0.909, Top 5: 0.975, \n",
      "\t\t F1 Micro: 0.598, F1 Macro: 0.502, Total Pos: 690,410\n",
      "svm_iter_100_reg_0.01_classweights_balanced\n"
     ]
    },
    {
     "name": "stderr",
     "output_type": "stream",
     "text": [
      "2017-01-17 20:31:13,247 : INFO : Getting Validation Metrics\n"
     ]
    },
    {
     "name": "stdout",
     "output_type": "stream",
     "text": [
      "[[0 0 0 ..., 0 1 1]\n",
      " [1 0 0 ..., 0 1 0]\n",
      " [0 0 0 ..., 0 1 0]\n",
      " ..., \n",
      " [0 1 0 ..., 1 0 0]\n",
      " [1 0 0 ..., 0 1 0]\n",
      " [1 1 0 ..., 0 0 0]]\n"
     ]
    },
    {
     "name": "stderr",
     "output_type": "stream",
     "text": [
      "2017-01-17 20:31:23,331 : INFO : loading Doc2Vec object from /mnt/data2/shalaby/parameter_search_doc2vec_models_new/full/doc2vec_size_100_w_5_type_dm_concat_1_mean_0_trainwords_0_hs_0_neg_10_vocabsize_None/epoch_16/model\n"
     ]
    },
    {
     "name": "stdout",
     "output_type": "stream",
     "text": [
      "** Validation Metrics: Cov Err: 1.833, Avg Labels: 1.150, \n",
      "\t\t Top 1: 0.680, Top 3: 0.908, Top 5: 0.973, \n",
      "\t\t F1 Micro: 0.596, F1 Macro: 0.501, Total Pos: 695,523\n",
      "epoch_16\n"
     ]
    },
    {
     "name": "stderr",
     "output_type": "stream",
     "text": [
      "2017-01-17 20:31:29,721 : INFO : loading docvecs recursively from /mnt/data2/shalaby/parameter_search_doc2vec_models_new/full/doc2vec_size_100_w_5_type_dm_concat_1_mean_0_trainwords_0_hs_0_neg_10_vocabsize_None/epoch_16/model.docvecs.* with mmap=None\n",
      "2017-01-17 20:31:29,722 : INFO : loading doctag_syn0 from /mnt/data2/shalaby/parameter_search_doc2vec_models_new/full/doc2vec_size_100_w_5_type_dm_concat_1_mean_0_trainwords_0_hs_0_neg_10_vocabsize_None/epoch_16/model.docvecs.doctag_syn0.npy with mmap=None\n",
      "2017-01-17 20:31:31,384 : INFO : loading syn1neg from /mnt/data2/shalaby/parameter_search_doc2vec_models_new/full/doc2vec_size_100_w_5_type_dm_concat_1_mean_0_trainwords_0_hs_0_neg_10_vocabsize_None/epoch_16/model.syn1neg.npy with mmap=None\n",
      "2017-01-17 20:31:37,885 : INFO : loading syn0 from /mnt/data2/shalaby/parameter_search_doc2vec_models_new/full/doc2vec_size_100_w_5_type_dm_concat_1_mean_0_trainwords_0_hs_0_neg_10_vocabsize_None/epoch_16/model.syn0.npy with mmap=None\n",
      "2017-01-17 20:31:38,461 : INFO : setting ignored attribute syn0norm to None\n",
      "2017-01-17 20:31:38,462 : INFO : setting ignored attribute cum_table to None\n",
      "2017-01-17 20:31:40,243 : INFO : Getting Validation Embeddings\n",
      "2017-01-17 20:31:40,244 : INFO : ===== Loading validation vectors\n",
      "2017-01-17 20:31:57,621 : INFO : Loading Classifier\n",
      "2017-01-17 20:31:57,625 : INFO : Evaluating on Validation Data\n"
     ]
    },
    {
     "name": "stdout",
     "output_type": "stream",
     "text": [
      "svm_iter_10_reg_0.001_classweights_balanced\n"
     ]
    },
    {
     "name": "stderr",
     "output_type": "stream",
     "text": [
      "2017-01-17 20:32:00,089 : INFO : Getting Validation Metrics\n"
     ]
    },
    {
     "name": "stdout",
     "output_type": "stream",
     "text": [
      "[[0 0 0 ..., 0 1 1]\n",
      " [1 0 0 ..., 0 0 0]\n",
      " [0 0 0 ..., 0 1 0]\n",
      " ..., \n",
      " [1 1 0 ..., 1 0 0]\n",
      " [1 0 0 ..., 0 1 0]\n",
      " [1 1 0 ..., 0 0 0]]\n"
     ]
    },
    {
     "name": "stderr",
     "output_type": "stream",
     "text": [
      "2017-01-17 20:32:09,077 : INFO : Loading Classifier\n",
      "2017-01-17 20:32:09,084 : INFO : Evaluating on Validation Data\n"
     ]
    },
    {
     "name": "stdout",
     "output_type": "stream",
     "text": [
      "** Validation Metrics: Cov Err: 1.815, Avg Labels: 1.150, \n",
      "\t\t Top 1: 0.681, Top 3: 0.912, Top 5: 0.976, \n",
      "\t\t F1 Micro: 0.599, F1 Macro: 0.504, Total Pos: 692,791\n",
      "svm_iter_100_reg_0.01_classweights_balanced\n"
     ]
    },
    {
     "name": "stderr",
     "output_type": "stream",
     "text": [
      "2017-01-17 20:32:12,220 : INFO : Getting Validation Metrics\n"
     ]
    },
    {
     "name": "stdout",
     "output_type": "stream",
     "text": [
      "[[0 0 0 ..., 0 1 1]\n",
      " [1 0 0 ..., 0 0 0]\n",
      " [0 0 0 ..., 0 1 0]\n",
      " ..., \n",
      " [1 1 0 ..., 1 0 0]\n",
      " [1 0 0 ..., 0 1 0]\n",
      " [1 1 0 ..., 0 0 0]]\n"
     ]
    },
    {
     "name": "stderr",
     "output_type": "stream",
     "text": [
      "2017-01-17 20:32:21,774 : INFO : loading Doc2Vec object from /mnt/data2/shalaby/parameter_search_doc2vec_models_new/full/doc2vec_size_100_w_5_type_dm_concat_1_mean_0_trainwords_0_hs_0_neg_10_vocabsize_None/epoch_17/model\n"
     ]
    },
    {
     "name": "stdout",
     "output_type": "stream",
     "text": [
      "** Validation Metrics: Cov Err: 1.822, Avg Labels: 1.150, \n",
      "\t\t Top 1: 0.682, Top 3: 0.910, Top 5: 0.974, \n",
      "\t\t F1 Micro: 0.597, F1 Macro: 0.503, Total Pos: 698,221\n",
      "epoch_17\n"
     ]
    },
    {
     "name": "stderr",
     "output_type": "stream",
     "text": [
      "2017-01-17 20:32:27,694 : INFO : loading docvecs recursively from /mnt/data2/shalaby/parameter_search_doc2vec_models_new/full/doc2vec_size_100_w_5_type_dm_concat_1_mean_0_trainwords_0_hs_0_neg_10_vocabsize_None/epoch_17/model.docvecs.* with mmap=None\n",
      "2017-01-17 20:32:27,695 : INFO : loading doctag_syn0 from /mnt/data2/shalaby/parameter_search_doc2vec_models_new/full/doc2vec_size_100_w_5_type_dm_concat_1_mean_0_trainwords_0_hs_0_neg_10_vocabsize_None/epoch_17/model.docvecs.doctag_syn0.npy with mmap=None\n",
      "2017-01-17 20:32:28,933 : INFO : loading syn1neg from /mnt/data2/shalaby/parameter_search_doc2vec_models_new/full/doc2vec_size_100_w_5_type_dm_concat_1_mean_0_trainwords_0_hs_0_neg_10_vocabsize_None/epoch_17/model.syn1neg.npy with mmap=None\n",
      "2017-01-17 20:32:35,298 : INFO : loading syn0 from /mnt/data2/shalaby/parameter_search_doc2vec_models_new/full/doc2vec_size_100_w_5_type_dm_concat_1_mean_0_trainwords_0_hs_0_neg_10_vocabsize_None/epoch_17/model.syn0.npy with mmap=None\n",
      "2017-01-17 20:32:35,905 : INFO : setting ignored attribute syn0norm to None\n",
      "2017-01-17 20:32:35,906 : INFO : setting ignored attribute cum_table to None\n",
      "2017-01-17 20:32:37,735 : INFO : Getting Validation Embeddings\n",
      "2017-01-17 20:32:37,736 : INFO : ===== Loading validation vectors\n",
      "2017-01-17 20:32:55,952 : INFO : Loading Classifier\n",
      "2017-01-17 20:32:55,956 : INFO : Evaluating on Validation Data\n"
     ]
    },
    {
     "name": "stdout",
     "output_type": "stream",
     "text": [
      "svm_iter_10_reg_0.001_classweights_balanced\n"
     ]
    },
    {
     "name": "stderr",
     "output_type": "stream",
     "text": [
      "2017-01-17 20:33:00,568 : INFO : Getting Validation Metrics\n"
     ]
    },
    {
     "name": "stdout",
     "output_type": "stream",
     "text": [
      "[[0 0 0 ..., 0 1 1]\n",
      " [1 0 0 ..., 0 0 0]\n",
      " [0 0 0 ..., 0 1 0]\n",
      " ..., \n",
      " [1 1 0 ..., 1 0 0]\n",
      " [1 0 0 ..., 0 1 0]\n",
      " [1 1 0 ..., 0 0 0]]\n"
     ]
    },
    {
     "name": "stderr",
     "output_type": "stream",
     "text": [
      "2017-01-17 20:33:10,845 : INFO : loading Doc2Vec object from /mnt/data2/shalaby/parameter_search_doc2vec_models_new/full/doc2vec_size_100_w_5_type_dm_concat_1_mean_0_trainwords_0_hs_0_neg_10_vocabsize_None/epoch_18/model\n"
     ]
    },
    {
     "name": "stdout",
     "output_type": "stream",
     "text": [
      "** Validation Metrics: Cov Err: 1.812, Avg Labels: 1.150, \n",
      "\t\t Top 1: 0.681, Top 3: 0.912, Top 5: 0.976, \n",
      "\t\t F1 Micro: 0.600, F1 Macro: 0.504, Total Pos: 692,845\n",
      "epoch_18\n"
     ]
    },
    {
     "name": "stderr",
     "output_type": "stream",
     "text": [
      "2017-01-17 20:33:16,886 : INFO : loading docvecs recursively from /mnt/data2/shalaby/parameter_search_doc2vec_models_new/full/doc2vec_size_100_w_5_type_dm_concat_1_mean_0_trainwords_0_hs_0_neg_10_vocabsize_None/epoch_18/model.docvecs.* with mmap=None\n",
      "2017-01-17 20:33:16,887 : INFO : loading doctag_syn0 from /mnt/data2/shalaby/parameter_search_doc2vec_models_new/full/doc2vec_size_100_w_5_type_dm_concat_1_mean_0_trainwords_0_hs_0_neg_10_vocabsize_None/epoch_18/model.docvecs.doctag_syn0.npy with mmap=None\n",
      "2017-01-17 20:33:18,519 : INFO : loading syn1neg from /mnt/data2/shalaby/parameter_search_doc2vec_models_new/full/doc2vec_size_100_w_5_type_dm_concat_1_mean_0_trainwords_0_hs_0_neg_10_vocabsize_None/epoch_18/model.syn1neg.npy with mmap=None\n",
      "2017-01-17 20:33:24,927 : INFO : loading syn0 from /mnt/data2/shalaby/parameter_search_doc2vec_models_new/full/doc2vec_size_100_w_5_type_dm_concat_1_mean_0_trainwords_0_hs_0_neg_10_vocabsize_None/epoch_18/model.syn0.npy with mmap=None\n",
      "2017-01-17 20:33:25,548 : INFO : setting ignored attribute syn0norm to None\n",
      "2017-01-17 20:33:25,549 : INFO : setting ignored attribute cum_table to None\n",
      "2017-01-17 20:33:27,309 : INFO : Getting Validation Embeddings\n",
      "2017-01-17 20:33:27,310 : INFO : ===== Loading validation vectors\n",
      "2017-01-17 20:33:43,140 : INFO : Loading Classifier\n",
      "2017-01-17 20:33:43,144 : INFO : Evaluating on Validation Data\n"
     ]
    },
    {
     "name": "stdout",
     "output_type": "stream",
     "text": [
      "svm_iter_10_reg_0.001_classweights_balanced\n"
     ]
    },
    {
     "name": "stderr",
     "output_type": "stream",
     "text": [
      "2017-01-17 20:33:46,064 : INFO : Getting Validation Metrics\n"
     ]
    },
    {
     "name": "stdout",
     "output_type": "stream",
     "text": [
      "[[0 0 0 ..., 0 1 1]\n",
      " [1 0 0 ..., 0 1 0]\n",
      " [0 0 0 ..., 0 1 0]\n",
      " ..., \n",
      " [1 1 0 ..., 1 0 0]\n",
      " [1 0 0 ..., 0 1 0]\n",
      " [1 1 0 ..., 0 0 0]]\n"
     ]
    },
    {
     "name": "stderr",
     "output_type": "stream",
     "text": [
      "2017-01-17 20:33:55,071 : INFO : loading Doc2Vec object from /mnt/data2/shalaby/parameter_search_doc2vec_models_new/full/doc2vec_size_100_w_8_type_dm_concat_1_mean_0_trainwords_0_hs_0_neg_10_vocabsize_None/epoch_1/model\n"
     ]
    },
    {
     "name": "stdout",
     "output_type": "stream",
     "text": [
      "** Validation Metrics: Cov Err: 1.810, Avg Labels: 1.150, \n",
      "\t\t Top 1: 0.682, Top 3: 0.913, Top 5: 0.977, \n",
      "\t\t F1 Micro: 0.602, F1 Macro: 0.506, Total Pos: 686,567\n",
      "********************* doc2vec_size_100_w_8_type_dm_concat_1_mean_0_trainwords_0_hs_0_neg_10_vocabsize_None\n",
      "epoch_1\n"
     ]
    },
    {
     "name": "stderr",
     "output_type": "stream",
     "text": [
      "2017-01-17 20:34:02,313 : INFO : loading docvecs recursively from /mnt/data2/shalaby/parameter_search_doc2vec_models_new/full/doc2vec_size_100_w_8_type_dm_concat_1_mean_0_trainwords_0_hs_0_neg_10_vocabsize_None/epoch_1/model.docvecs.* with mmap=None\n",
      "2017-01-17 20:34:02,315 : INFO : loading doctag_syn0 from /mnt/data2/shalaby/parameter_search_doc2vec_models_new/full/doc2vec_size_100_w_8_type_dm_concat_1_mean_0_trainwords_0_hs_0_neg_10_vocabsize_None/epoch_1/model.docvecs.doctag_syn0.npy with mmap=None\n",
      "2017-01-17 20:34:03,927 : INFO : loading syn1neg from /mnt/data2/shalaby/parameter_search_doc2vec_models_new/full/doc2vec_size_100_w_8_type_dm_concat_1_mean_0_trainwords_0_hs_0_neg_10_vocabsize_None/epoch_1/model.syn1neg.npy with mmap=None\n",
      "2017-01-17 20:34:14,174 : INFO : loading syn0 from /mnt/data2/shalaby/parameter_search_doc2vec_models_new/full/doc2vec_size_100_w_8_type_dm_concat_1_mean_0_trainwords_0_hs_0_neg_10_vocabsize_None/epoch_1/model.syn0.npy with mmap=None\n",
      "2017-01-17 20:34:14,805 : INFO : setting ignored attribute syn0norm to None\n",
      "2017-01-17 20:34:14,806 : INFO : setting ignored attribute cum_table to None\n",
      "2017-01-17 20:34:16,610 : INFO : Getting Validation Embeddings\n",
      "2017-01-17 20:34:16,612 : INFO : ===== Loading validation vectors\n",
      "2017-01-17 20:34:33,013 : INFO : Loading Classifier\n",
      "2017-01-17 20:34:33,018 : INFO : Evaluating on Validation Data\n"
     ]
    },
    {
     "name": "stdout",
     "output_type": "stream",
     "text": [
      "svm_iter_100_reg_0.01_classweights_balanced\n"
     ]
    },
    {
     "name": "stderr",
     "output_type": "stream",
     "text": [
      "2017-01-17 20:34:38,616 : INFO : Getting Validation Metrics\n"
     ]
    },
    {
     "name": "stdout",
     "output_type": "stream",
     "text": [
      "[[0 0 0 ..., 0 1 1]\n",
      " [1 0 0 ..., 0 0 0]\n",
      " [0 0 0 ..., 0 1 0]\n",
      " ..., \n",
      " [1 0 0 ..., 0 0 0]\n",
      " [1 0 0 ..., 0 0 0]\n",
      " [0 1 0 ..., 0 0 0]]\n"
     ]
    },
    {
     "name": "stderr",
     "output_type": "stream",
     "text": [
      "2017-01-17 20:34:47,441 : INFO : loading Doc2Vec object from /mnt/data2/shalaby/parameter_search_doc2vec_models_new/full/doc2vec_size_100_w_8_type_dm_concat_1_mean_0_trainwords_0_hs_0_neg_10_vocabsize_None/epoch_2/model\n"
     ]
    },
    {
     "name": "stdout",
     "output_type": "stream",
     "text": [
      "** Validation Metrics: Cov Err: 2.132, Avg Labels: 1.150, \n",
      "\t\t Top 1: 0.607, Top 3: 0.852, Top 5: 0.946, \n",
      "\t\t F1 Micro: 0.541, F1 Macro: 0.451, Total Pos: 704,702\n",
      "epoch_2\n"
     ]
    },
    {
     "name": "stderr",
     "output_type": "stream",
     "text": [
      "2017-01-17 20:34:56,196 : INFO : loading docvecs recursively from /mnt/data2/shalaby/parameter_search_doc2vec_models_new/full/doc2vec_size_100_w_8_type_dm_concat_1_mean_0_trainwords_0_hs_0_neg_10_vocabsize_None/epoch_2/model.docvecs.* with mmap=None\n",
      "2017-01-17 20:34:56,197 : INFO : loading doctag_syn0 from /mnt/data2/shalaby/parameter_search_doc2vec_models_new/full/doc2vec_size_100_w_8_type_dm_concat_1_mean_0_trainwords_0_hs_0_neg_10_vocabsize_None/epoch_2/model.docvecs.doctag_syn0.npy with mmap=None\n",
      "2017-01-17 20:34:57,988 : INFO : loading syn1neg from /mnt/data2/shalaby/parameter_search_doc2vec_models_new/full/doc2vec_size_100_w_8_type_dm_concat_1_mean_0_trainwords_0_hs_0_neg_10_vocabsize_None/epoch_2/model.syn1neg.npy with mmap=None\n",
      "2017-01-17 20:35:08,111 : INFO : loading syn0 from /mnt/data2/shalaby/parameter_search_doc2vec_models_new/full/doc2vec_size_100_w_8_type_dm_concat_1_mean_0_trainwords_0_hs_0_neg_10_vocabsize_None/epoch_2/model.syn0.npy with mmap=None\n",
      "2017-01-17 20:35:08,736 : INFO : setting ignored attribute syn0norm to None\n",
      "2017-01-17 20:35:08,737 : INFO : setting ignored attribute cum_table to None\n",
      "2017-01-17 20:35:10,651 : INFO : Getting Validation Embeddings\n",
      "2017-01-17 20:35:10,652 : INFO : ===== Loading validation vectors\n",
      "2017-01-17 20:35:26,452 : INFO : Loading Classifier\n",
      "2017-01-17 20:35:26,456 : INFO : Evaluating on Validation Data\n"
     ]
    },
    {
     "name": "stdout",
     "output_type": "stream",
     "text": [
      "svm_iter_100_reg_0.01_classweights_balanced\n"
     ]
    },
    {
     "name": "stderr",
     "output_type": "stream",
     "text": [
      "2017-01-17 20:35:28,935 : INFO : Getting Validation Metrics\n"
     ]
    },
    {
     "name": "stdout",
     "output_type": "stream",
     "text": [
      "[[0 0 0 ..., 0 1 0]\n",
      " [1 0 0 ..., 0 0 0]\n",
      " [0 0 0 ..., 0 1 0]\n",
      " ..., \n",
      " [1 1 0 ..., 0 0 0]\n",
      " [1 0 0 ..., 0 0 0]\n",
      " [0 1 0 ..., 0 0 0]]\n"
     ]
    },
    {
     "name": "stderr",
     "output_type": "stream",
     "text": [
      "2017-01-17 20:35:38,005 : INFO : loading Doc2Vec object from /mnt/data2/shalaby/parameter_search_doc2vec_models_new/full/doc2vec_size_100_w_8_type_dm_concat_1_mean_0_trainwords_0_hs_0_neg_10_vocabsize_None/epoch_3/model\n"
     ]
    },
    {
     "name": "stdout",
     "output_type": "stream",
     "text": [
      "** Validation Metrics: Cov Err: 2.071, Avg Labels: 1.150, \n",
      "\t\t Top 1: 0.627, Top 3: 0.864, Top 5: 0.950, \n",
      "\t\t F1 Micro: 0.551, F1 Macro: 0.465, Total Pos: 707,470\n",
      "epoch_3\n"
     ]
    },
    {
     "name": "stderr",
     "output_type": "stream",
     "text": [
      "2017-01-17 20:35:44,687 : INFO : loading docvecs recursively from /mnt/data2/shalaby/parameter_search_doc2vec_models_new/full/doc2vec_size_100_w_8_type_dm_concat_1_mean_0_trainwords_0_hs_0_neg_10_vocabsize_None/epoch_3/model.docvecs.* with mmap=None\n",
      "2017-01-17 20:35:44,688 : INFO : loading doctag_syn0 from /mnt/data2/shalaby/parameter_search_doc2vec_models_new/full/doc2vec_size_100_w_8_type_dm_concat_1_mean_0_trainwords_0_hs_0_neg_10_vocabsize_None/epoch_3/model.docvecs.doctag_syn0.npy with mmap=None\n",
      "2017-01-17 20:35:45,959 : INFO : loading syn1neg from /mnt/data2/shalaby/parameter_search_doc2vec_models_new/full/doc2vec_size_100_w_8_type_dm_concat_1_mean_0_trainwords_0_hs_0_neg_10_vocabsize_None/epoch_3/model.syn1neg.npy with mmap=None\n",
      "2017-01-17 20:35:56,204 : INFO : loading syn0 from /mnt/data2/shalaby/parameter_search_doc2vec_models_new/full/doc2vec_size_100_w_8_type_dm_concat_1_mean_0_trainwords_0_hs_0_neg_10_vocabsize_None/epoch_3/model.syn0.npy with mmap=None\n",
      "2017-01-17 20:35:56,811 : INFO : setting ignored attribute syn0norm to None\n",
      "2017-01-17 20:35:56,812 : INFO : setting ignored attribute cum_table to None\n",
      "2017-01-17 20:35:58,767 : INFO : Getting Validation Embeddings\n",
      "2017-01-17 20:35:58,768 : INFO : ===== Loading validation vectors\n",
      "2017-01-17 20:36:15,344 : INFO : Loading Classifier\n",
      "2017-01-17 20:36:15,349 : INFO : Evaluating on Validation Data\n"
     ]
    },
    {
     "name": "stdout",
     "output_type": "stream",
     "text": [
      "svm_iter_100_reg_0.01_classweights_balanced\n"
     ]
    },
    {
     "name": "stderr",
     "output_type": "stream",
     "text": [
      "2017-01-17 20:36:21,710 : INFO : Getting Validation Metrics\n"
     ]
    },
    {
     "name": "stdout",
     "output_type": "stream",
     "text": [
      "[[0 0 0 ..., 0 1 1]\n",
      " [1 0 1 ..., 0 0 0]\n",
      " [0 0 0 ..., 0 1 0]\n",
      " ..., \n",
      " [1 1 0 ..., 0 0 0]\n",
      " [1 0 0 ..., 0 1 0]\n",
      " [1 1 0 ..., 0 0 0]]\n"
     ]
    },
    {
     "name": "stderr",
     "output_type": "stream",
     "text": [
      "2017-01-17 20:36:30,820 : INFO : loading Doc2Vec object from /mnt/data2/shalaby/parameter_search_doc2vec_models_new/full/doc2vec_size_100_w_8_type_dm_concat_1_mean_0_trainwords_0_hs_0_neg_10_vocabsize_None/epoch_4/model\n"
     ]
    },
    {
     "name": "stdout",
     "output_type": "stream",
     "text": [
      "** Validation Metrics: Cov Err: 1.995, Avg Labels: 1.150, \n",
      "\t\t Top 1: 0.645, Top 3: 0.878, Top 5: 0.956, \n",
      "\t\t F1 Micro: 0.566, F1 Macro: 0.475, Total Pos: 703,264\n",
      "epoch_4\n"
     ]
    },
    {
     "name": "stderr",
     "output_type": "stream",
     "text": [
      "2017-01-17 20:36:39,552 : INFO : loading docvecs recursively from /mnt/data2/shalaby/parameter_search_doc2vec_models_new/full/doc2vec_size_100_w_8_type_dm_concat_1_mean_0_trainwords_0_hs_0_neg_10_vocabsize_None/epoch_4/model.docvecs.* with mmap=None\n",
      "2017-01-17 20:36:39,552 : INFO : loading doctag_syn0 from /mnt/data2/shalaby/parameter_search_doc2vec_models_new/full/doc2vec_size_100_w_8_type_dm_concat_1_mean_0_trainwords_0_hs_0_neg_10_vocabsize_None/epoch_4/model.docvecs.doctag_syn0.npy with mmap=None\n",
      "2017-01-17 20:36:41,311 : INFO : loading syn1neg from /mnt/data2/shalaby/parameter_search_doc2vec_models_new/full/doc2vec_size_100_w_8_type_dm_concat_1_mean_0_trainwords_0_hs_0_neg_10_vocabsize_None/epoch_4/model.syn1neg.npy with mmap=None\n",
      "2017-01-17 20:36:51,619 : INFO : loading syn0 from /mnt/data2/shalaby/parameter_search_doc2vec_models_new/full/doc2vec_size_100_w_8_type_dm_concat_1_mean_0_trainwords_0_hs_0_neg_10_vocabsize_None/epoch_4/model.syn0.npy with mmap=None\n",
      "2017-01-17 20:36:52,213 : INFO : setting ignored attribute syn0norm to None\n",
      "2017-01-17 20:36:52,214 : INFO : setting ignored attribute cum_table to None\n",
      "2017-01-17 20:36:54,051 : INFO : Getting Validation Embeddings\n",
      "2017-01-17 20:36:54,052 : INFO : ===== Loading validation vectors\n",
      "2017-01-17 20:37:09,493 : INFO : Loading Classifier\n",
      "2017-01-17 20:37:09,498 : INFO : Evaluating on Validation Data\n"
     ]
    },
    {
     "name": "stdout",
     "output_type": "stream",
     "text": [
      "svm_iter_100_reg_0.01_classweights_balanced\n"
     ]
    },
    {
     "name": "stderr",
     "output_type": "stream",
     "text": [
      "2017-01-17 20:37:12,289 : INFO : Getting Validation Metrics\n"
     ]
    },
    {
     "name": "stdout",
     "output_type": "stream",
     "text": [
      "[[0 0 0 ..., 0 1 0]\n",
      " [1 0 0 ..., 0 0 0]\n",
      " [0 0 0 ..., 0 1 0]\n",
      " ..., \n",
      " [1 1 0 ..., 0 0 0]\n",
      " [1 0 0 ..., 0 1 0]\n",
      " [1 1 0 ..., 0 0 0]]\n"
     ]
    },
    {
     "name": "stderr",
     "output_type": "stream",
     "text": [
      "2017-01-17 20:37:22,192 : INFO : loading Doc2Vec object from /mnt/data2/shalaby/parameter_search_doc2vec_models_new/full/doc2vec_size_100_w_8_type_dm_concat_1_mean_0_trainwords_0_hs_0_neg_10_vocabsize_None/epoch_5/model\n"
     ]
    },
    {
     "name": "stdout",
     "output_type": "stream",
     "text": [
      "** Validation Metrics: Cov Err: 1.967, Avg Labels: 1.150, \n",
      "\t\t Top 1: 0.652, Top 3: 0.883, Top 5: 0.959, \n",
      "\t\t F1 Micro: 0.570, F1 Macro: 0.479, Total Pos: 708,769\n",
      "epoch_5\n"
     ]
    },
    {
     "name": "stderr",
     "output_type": "stream",
     "text": [
      "2017-01-17 20:37:30,467 : INFO : loading docvecs recursively from /mnt/data2/shalaby/parameter_search_doc2vec_models_new/full/doc2vec_size_100_w_8_type_dm_concat_1_mean_0_trainwords_0_hs_0_neg_10_vocabsize_None/epoch_5/model.docvecs.* with mmap=None\n",
      "2017-01-17 20:37:30,468 : INFO : loading doctag_syn0 from /mnt/data2/shalaby/parameter_search_doc2vec_models_new/full/doc2vec_size_100_w_8_type_dm_concat_1_mean_0_trainwords_0_hs_0_neg_10_vocabsize_None/epoch_5/model.docvecs.doctag_syn0.npy with mmap=None\n",
      "2017-01-17 20:37:31,873 : INFO : loading syn1neg from /mnt/data2/shalaby/parameter_search_doc2vec_models_new/full/doc2vec_size_100_w_8_type_dm_concat_1_mean_0_trainwords_0_hs_0_neg_10_vocabsize_None/epoch_5/model.syn1neg.npy with mmap=None\n",
      "2017-01-17 20:37:41,960 : INFO : loading syn0 from /mnt/data2/shalaby/parameter_search_doc2vec_models_new/full/doc2vec_size_100_w_8_type_dm_concat_1_mean_0_trainwords_0_hs_0_neg_10_vocabsize_None/epoch_5/model.syn0.npy with mmap=None\n",
      "2017-01-17 20:37:42,581 : INFO : setting ignored attribute syn0norm to None\n",
      "2017-01-17 20:37:42,581 : INFO : setting ignored attribute cum_table to None\n",
      "2017-01-17 20:37:44,449 : INFO : Getting Validation Embeddings\n",
      "2017-01-17 20:37:44,450 : INFO : ===== Loading validation vectors\n",
      "2017-01-17 20:38:00,818 : INFO : Loading Classifier\n",
      "2017-01-17 20:38:00,822 : INFO : Evaluating on Validation Data\n"
     ]
    },
    {
     "name": "stdout",
     "output_type": "stream",
     "text": [
      "svm_iter_100_reg_0.01_classweights_balanced\n"
     ]
    },
    {
     "name": "stderr",
     "output_type": "stream",
     "text": [
      "2017-01-17 20:38:07,423 : INFO : Getting Validation Metrics\n"
     ]
    },
    {
     "name": "stdout",
     "output_type": "stream",
     "text": [
      "[[0 0 0 ..., 0 1 0]\n",
      " [1 0 0 ..., 0 0 0]\n",
      " [0 0 0 ..., 0 1 0]\n",
      " ..., \n",
      " [1 1 0 ..., 0 0 0]\n",
      " [1 0 0 ..., 0 1 0]\n",
      " [1 1 0 ..., 0 0 0]]\n"
     ]
    },
    {
     "name": "stderr",
     "output_type": "stream",
     "text": [
      "2017-01-17 20:38:16,222 : INFO : loading Doc2Vec object from /mnt/data2/shalaby/parameter_search_doc2vec_models_new/full/doc2vec_size_100_w_8_type_dm_concat_1_mean_0_trainwords_0_hs_0_neg_10_vocabsize_None/epoch_6/model\n"
     ]
    },
    {
     "name": "stdout",
     "output_type": "stream",
     "text": [
      "** Validation Metrics: Cov Err: 1.975, Avg Labels: 1.150, \n",
      "\t\t Top 1: 0.653, Top 3: 0.882, Top 5: 0.957, \n",
      "\t\t F1 Micro: 0.566, F1 Macro: 0.478, Total Pos: 711,653\n",
      "epoch_6\n"
     ]
    },
    {
     "name": "stderr",
     "output_type": "stream",
     "text": [
      "2017-01-17 20:38:22,737 : INFO : loading docvecs recursively from /mnt/data2/shalaby/parameter_search_doc2vec_models_new/full/doc2vec_size_100_w_8_type_dm_concat_1_mean_0_trainwords_0_hs_0_neg_10_vocabsize_None/epoch_6/model.docvecs.* with mmap=None\n",
      "2017-01-17 20:38:22,739 : INFO : loading doctag_syn0 from /mnt/data2/shalaby/parameter_search_doc2vec_models_new/full/doc2vec_size_100_w_8_type_dm_concat_1_mean_0_trainwords_0_hs_0_neg_10_vocabsize_None/epoch_6/model.docvecs.doctag_syn0.npy with mmap=None\n",
      "2017-01-17 20:38:24,481 : INFO : loading syn1neg from /mnt/data2/shalaby/parameter_search_doc2vec_models_new/full/doc2vec_size_100_w_8_type_dm_concat_1_mean_0_trainwords_0_hs_0_neg_10_vocabsize_None/epoch_6/model.syn1neg.npy with mmap=None\n",
      "2017-01-17 20:38:34,425 : INFO : loading syn0 from /mnt/data2/shalaby/parameter_search_doc2vec_models_new/full/doc2vec_size_100_w_8_type_dm_concat_1_mean_0_trainwords_0_hs_0_neg_10_vocabsize_None/epoch_6/model.syn0.npy with mmap=None\n",
      "2017-01-17 20:38:35,019 : INFO : setting ignored attribute syn0norm to None\n",
      "2017-01-17 20:38:35,021 : INFO : setting ignored attribute cum_table to None\n",
      "2017-01-17 20:38:36,912 : INFO : Getting Validation Embeddings\n",
      "2017-01-17 20:38:36,913 : INFO : ===== Loading validation vectors\n",
      "2017-01-17 20:38:52,736 : INFO : Loading Classifier\n",
      "2017-01-17 20:38:52,740 : INFO : Evaluating on Validation Data\n"
     ]
    },
    {
     "name": "stdout",
     "output_type": "stream",
     "text": [
      "svm_iter_100_reg_0.01_classweights_balanced\n"
     ]
    },
    {
     "name": "stderr",
     "output_type": "stream",
     "text": [
      "2017-01-17 20:38:55,478 : INFO : Getting Validation Metrics\n"
     ]
    },
    {
     "name": "stdout",
     "output_type": "stream",
     "text": [
      "[[0 0 0 ..., 0 1 0]\n",
      " [1 0 0 ..., 0 0 0]\n",
      " [0 0 0 ..., 0 1 0]\n",
      " ..., \n",
      " [1 1 0 ..., 0 0 0]\n",
      " [1 0 0 ..., 0 1 0]\n",
      " [1 1 0 ..., 1 0 0]]\n"
     ]
    },
    {
     "name": "stderr",
     "output_type": "stream",
     "text": [
      "2017-01-17 20:39:04,474 : INFO : loading Doc2Vec object from /mnt/data2/shalaby/parameter_search_doc2vec_models_new/full/doc2vec_size_100_w_8_type_dm_concat_1_mean_0_trainwords_0_hs_0_neg_10_vocabsize_None/epoch_7/model\n"
     ]
    },
    {
     "name": "stdout",
     "output_type": "stream",
     "text": [
      "** Validation Metrics: Cov Err: 1.917, Avg Labels: 1.150, \n",
      "\t\t Top 1: 0.662, Top 3: 0.892, Top 5: 0.964, \n",
      "\t\t F1 Micro: 0.578, F1 Macro: 0.485, Total Pos: 705,286\n",
      "epoch_7\n"
     ]
    },
    {
     "name": "stderr",
     "output_type": "stream",
     "text": [
      "2017-01-17 20:39:12,514 : INFO : loading docvecs recursively from /mnt/data2/shalaby/parameter_search_doc2vec_models_new/full/doc2vec_size_100_w_8_type_dm_concat_1_mean_0_trainwords_0_hs_0_neg_10_vocabsize_None/epoch_7/model.docvecs.* with mmap=None\n",
      "2017-01-17 20:39:12,515 : INFO : loading doctag_syn0 from /mnt/data2/shalaby/parameter_search_doc2vec_models_new/full/doc2vec_size_100_w_8_type_dm_concat_1_mean_0_trainwords_0_hs_0_neg_10_vocabsize_None/epoch_7/model.docvecs.doctag_syn0.npy with mmap=None\n",
      "2017-01-17 20:39:13,789 : INFO : loading syn1neg from /mnt/data2/shalaby/parameter_search_doc2vec_models_new/full/doc2vec_size_100_w_8_type_dm_concat_1_mean_0_trainwords_0_hs_0_neg_10_vocabsize_None/epoch_7/model.syn1neg.npy with mmap=None\n",
      "2017-01-17 20:39:24,052 : INFO : loading syn0 from /mnt/data2/shalaby/parameter_search_doc2vec_models_new/full/doc2vec_size_100_w_8_type_dm_concat_1_mean_0_trainwords_0_hs_0_neg_10_vocabsize_None/epoch_7/model.syn0.npy with mmap=None\n",
      "2017-01-17 20:39:24,720 : INFO : setting ignored attribute syn0norm to None\n",
      "2017-01-17 20:39:24,721 : INFO : setting ignored attribute cum_table to None\n",
      "2017-01-17 20:39:26,631 : INFO : Getting Validation Embeddings\n",
      "2017-01-17 20:39:26,632 : INFO : ===== Loading validation vectors\n",
      "2017-01-17 20:39:43,292 : INFO : Loading Classifier\n",
      "2017-01-17 20:39:43,296 : INFO : Evaluating on Validation Data\n"
     ]
    },
    {
     "name": "stdout",
     "output_type": "stream",
     "text": [
      "svm_iter_100_reg_0.01_classweights_balanced\n"
     ]
    },
    {
     "name": "stderr",
     "output_type": "stream",
     "text": [
      "2017-01-17 20:39:50,403 : INFO : Getting Validation Metrics\n"
     ]
    },
    {
     "name": "stdout",
     "output_type": "stream",
     "text": [
      "[[0 0 0 ..., 0 1 1]\n",
      " [1 0 0 ..., 0 0 0]\n",
      " [0 0 0 ..., 0 1 0]\n",
      " ..., \n",
      " [1 0 0 ..., 0 0 0]\n",
      " [1 0 0 ..., 0 1 0]\n",
      " [1 1 0 ..., 0 0 0]]\n"
     ]
    },
    {
     "name": "stderr",
     "output_type": "stream",
     "text": [
      "2017-01-17 20:39:58,842 : INFO : loading Doc2Vec object from /mnt/data2/shalaby/parameter_search_doc2vec_models_new/full/doc2vec_size_100_w_8_type_dm_concat_1_mean_0_trainwords_0_hs_0_neg_10_vocabsize_None/epoch_8/model\n"
     ]
    },
    {
     "name": "stdout",
     "output_type": "stream",
     "text": [
      "** Validation Metrics: Cov Err: 1.929, Avg Labels: 1.150, \n",
      "\t\t Top 1: 0.662, Top 3: 0.890, Top 5: 0.962, \n",
      "\t\t F1 Micro: 0.576, F1 Macro: 0.485, Total Pos: 703,666\n",
      "epoch_8\n"
     ]
    },
    {
     "name": "stderr",
     "output_type": "stream",
     "text": [
      "2017-01-17 20:40:07,620 : INFO : loading docvecs recursively from /mnt/data2/shalaby/parameter_search_doc2vec_models_new/full/doc2vec_size_100_w_8_type_dm_concat_1_mean_0_trainwords_0_hs_0_neg_10_vocabsize_None/epoch_8/model.docvecs.* with mmap=None\n",
      "2017-01-17 20:40:07,621 : INFO : loading doctag_syn0 from /mnt/data2/shalaby/parameter_search_doc2vec_models_new/full/doc2vec_size_100_w_8_type_dm_concat_1_mean_0_trainwords_0_hs_0_neg_10_vocabsize_None/epoch_8/model.docvecs.doctag_syn0.npy with mmap=None\n",
      "2017-01-17 20:40:09,498 : INFO : loading syn1neg from /mnt/data2/shalaby/parameter_search_doc2vec_models_new/full/doc2vec_size_100_w_8_type_dm_concat_1_mean_0_trainwords_0_hs_0_neg_10_vocabsize_None/epoch_8/model.syn1neg.npy with mmap=None\n",
      "2017-01-17 20:40:19,834 : INFO : loading syn0 from /mnt/data2/shalaby/parameter_search_doc2vec_models_new/full/doc2vec_size_100_w_8_type_dm_concat_1_mean_0_trainwords_0_hs_0_neg_10_vocabsize_None/epoch_8/model.syn0.npy with mmap=None\n",
      "2017-01-17 20:40:20,455 : INFO : setting ignored attribute syn0norm to None\n",
      "2017-01-17 20:40:20,456 : INFO : setting ignored attribute cum_table to None\n",
      "2017-01-17 20:40:22,288 : INFO : Getting Validation Embeddings\n",
      "2017-01-17 20:40:22,289 : INFO : ===== Loading validation vectors\n",
      "2017-01-17 20:40:38,308 : INFO : Loading Classifier\n",
      "2017-01-17 20:40:38,318 : INFO : Evaluating on Validation Data\n"
     ]
    },
    {
     "name": "stdout",
     "output_type": "stream",
     "text": [
      "svm_iter_100_reg_0.01_classweights_balanced\n"
     ]
    },
    {
     "name": "stderr",
     "output_type": "stream",
     "text": [
      "2017-01-17 20:40:40,907 : INFO : Getting Validation Metrics\n"
     ]
    },
    {
     "name": "stdout",
     "output_type": "stream",
     "text": [
      "[[0 0 0 ..., 0 1 1]\n",
      " [1 0 0 ..., 0 1 0]\n",
      " [0 0 0 ..., 0 1 0]\n",
      " ..., \n",
      " [1 1 0 ..., 0 0 0]\n",
      " [1 0 0 ..., 0 1 0]\n",
      " [1 1 0 ..., 0 0 0]]\n"
     ]
    },
    {
     "name": "stderr",
     "output_type": "stream",
     "text": [
      "2017-01-17 20:40:49,903 : INFO : loading Doc2Vec object from /mnt/data2/shalaby/parameter_search_doc2vec_models_new/full/doc2vec_size_100_w_8_type_dm_concat_1_mean_0_trainwords_0_hs_0_neg_10_vocabsize_None/epoch_9/model\n"
     ]
    },
    {
     "name": "stdout",
     "output_type": "stream",
     "text": [
      "** Validation Metrics: Cov Err: 1.925, Avg Labels: 1.150, \n",
      "\t\t Top 1: 0.662, Top 3: 0.891, Top 5: 0.963, \n",
      "\t\t F1 Micro: 0.575, F1 Macro: 0.485, Total Pos: 709,597\n",
      "epoch_9\n"
     ]
    },
    {
     "name": "stderr",
     "output_type": "stream",
     "text": [
      "2017-01-17 20:40:58,425 : INFO : loading docvecs recursively from /mnt/data2/shalaby/parameter_search_doc2vec_models_new/full/doc2vec_size_100_w_8_type_dm_concat_1_mean_0_trainwords_0_hs_0_neg_10_vocabsize_None/epoch_9/model.docvecs.* with mmap=None\n",
      "2017-01-17 20:40:58,426 : INFO : loading doctag_syn0 from /mnt/data2/shalaby/parameter_search_doc2vec_models_new/full/doc2vec_size_100_w_8_type_dm_concat_1_mean_0_trainwords_0_hs_0_neg_10_vocabsize_None/epoch_9/model.docvecs.doctag_syn0.npy with mmap=None\n",
      "2017-01-17 20:40:59,741 : INFO : loading syn1neg from /mnt/data2/shalaby/parameter_search_doc2vec_models_new/full/doc2vec_size_100_w_8_type_dm_concat_1_mean_0_trainwords_0_hs_0_neg_10_vocabsize_None/epoch_9/model.syn1neg.npy with mmap=None\n",
      "2017-01-17 20:41:09,792 : INFO : loading syn0 from /mnt/data2/shalaby/parameter_search_doc2vec_models_new/full/doc2vec_size_100_w_8_type_dm_concat_1_mean_0_trainwords_0_hs_0_neg_10_vocabsize_None/epoch_9/model.syn0.npy with mmap=None\n",
      "2017-01-17 20:41:10,405 : INFO : setting ignored attribute syn0norm to None\n",
      "2017-01-17 20:41:10,407 : INFO : setting ignored attribute cum_table to None\n",
      "2017-01-17 20:41:12,403 : INFO : Getting Validation Embeddings\n",
      "2017-01-17 20:41:12,404 : INFO : ===== Loading validation vectors\n",
      "2017-01-17 20:41:28,951 : INFO : Loading Classifier\n",
      "2017-01-17 20:41:28,955 : INFO : Evaluating on Validation Data\n"
     ]
    },
    {
     "name": "stdout",
     "output_type": "stream",
     "text": [
      "svm_iter_100_reg_0.01_classweights_balanced\n"
     ]
    },
    {
     "name": "stderr",
     "output_type": "stream",
     "text": [
      "2017-01-17 20:41:36,195 : INFO : Getting Validation Metrics\n"
     ]
    },
    {
     "name": "stdout",
     "output_type": "stream",
     "text": [
      "[[0 0 0 ..., 0 1 1]\n",
      " [1 0 0 ..., 0 0 0]\n",
      " [0 0 0 ..., 0 1 0]\n",
      " ..., \n",
      " [1 1 0 ..., 0 0 0]\n",
      " [1 0 0 ..., 0 1 0]\n",
      " [1 1 0 ..., 1 0 0]]\n"
     ]
    },
    {
     "name": "stderr",
     "output_type": "stream",
     "text": [
      "2017-01-17 20:41:45,104 : INFO : loading Doc2Vec object from /mnt/data2/shalaby/parameter_search_doc2vec_models_new/full/doc2vec_size_100_w_8_type_dm_concat_1_mean_0_trainwords_0_hs_0_neg_10_vocabsize_None/epoch_10/model\n"
     ]
    },
    {
     "name": "stdout",
     "output_type": "stream",
     "text": [
      "** Validation Metrics: Cov Err: 1.900, Avg Labels: 1.150, \n",
      "\t\t Top 1: 0.667, Top 3: 0.896, Top 5: 0.965, \n",
      "\t\t F1 Micro: 0.582, F1 Macro: 0.489, Total Pos: 704,197\n",
      "epoch_10\n"
     ]
    },
    {
     "name": "stderr",
     "output_type": "stream",
     "text": [
      "2017-01-17 20:41:51,903 : INFO : loading docvecs recursively from /mnt/data2/shalaby/parameter_search_doc2vec_models_new/full/doc2vec_size_100_w_8_type_dm_concat_1_mean_0_trainwords_0_hs_0_neg_10_vocabsize_None/epoch_10/model.docvecs.* with mmap=None\n",
      "2017-01-17 20:41:51,904 : INFO : loading doctag_syn0 from /mnt/data2/shalaby/parameter_search_doc2vec_models_new/full/doc2vec_size_100_w_8_type_dm_concat_1_mean_0_trainwords_0_hs_0_neg_10_vocabsize_None/epoch_10/model.docvecs.doctag_syn0.npy with mmap=None\n",
      "2017-01-17 20:41:53,688 : INFO : loading syn1neg from /mnt/data2/shalaby/parameter_search_doc2vec_models_new/full/doc2vec_size_100_w_8_type_dm_concat_1_mean_0_trainwords_0_hs_0_neg_10_vocabsize_None/epoch_10/model.syn1neg.npy with mmap=None\n",
      "2017-01-17 20:42:03,584 : INFO : loading syn0 from /mnt/data2/shalaby/parameter_search_doc2vec_models_new/full/doc2vec_size_100_w_8_type_dm_concat_1_mean_0_trainwords_0_hs_0_neg_10_vocabsize_None/epoch_10/model.syn0.npy with mmap=None\n",
      "2017-01-17 20:42:04,194 : INFO : setting ignored attribute syn0norm to None\n",
      "2017-01-17 20:42:04,195 : INFO : setting ignored attribute cum_table to None\n",
      "2017-01-17 20:42:06,054 : INFO : Getting Validation Embeddings\n",
      "2017-01-17 20:42:06,055 : INFO : ===== Loading validation vectors\n",
      "2017-01-17 20:42:21,824 : INFO : Loading Classifier\n",
      "2017-01-17 20:42:21,828 : INFO : Evaluating on Validation Data\n"
     ]
    },
    {
     "name": "stdout",
     "output_type": "stream",
     "text": [
      "svm_iter_100_reg_0.01_classweights_balanced\n"
     ]
    },
    {
     "name": "stderr",
     "output_type": "stream",
     "text": [
      "2017-01-17 20:42:24,975 : INFO : Getting Validation Metrics\n"
     ]
    },
    {
     "name": "stdout",
     "output_type": "stream",
     "text": [
      "[[0 0 0 ..., 0 1 1]\n",
      " [1 0 0 ..., 0 0 0]\n",
      " [0 0 0 ..., 0 1 0]\n",
      " ..., \n",
      " [1 1 0 ..., 0 0 0]\n",
      " [1 0 0 ..., 0 1 0]\n",
      " [1 1 0 ..., 0 0 0]]\n"
     ]
    },
    {
     "name": "stderr",
     "output_type": "stream",
     "text": [
      "2017-01-17 20:42:33,898 : INFO : loading Doc2Vec object from /mnt/data2/shalaby/parameter_search_doc2vec_models_new/full/doc2vec_size_200_w_2_type_dm_concat_0_mean_1_trainwords_0_hs_0_neg_10_vocabsize_None/epoch_1/model\n"
     ]
    },
    {
     "name": "stdout",
     "output_type": "stream",
     "text": [
      "** Validation Metrics: Cov Err: 1.905, Avg Labels: 1.150, \n",
      "\t\t Top 1: 0.666, Top 3: 0.894, Top 5: 0.965, \n",
      "\t\t F1 Micro: 0.578, F1 Macro: 0.488, Total Pos: 711,501\n",
      "********************* doc2vec_size_200_w_2_type_dm_concat_0_mean_1_trainwords_0_hs_0_neg_10_vocabsize_None\n",
      "epoch_1\n"
     ]
    },
    {
     "name": "stderr",
     "output_type": "stream",
     "text": [
      "2017-01-17 20:42:42,322 : INFO : loading docvecs recursively from /mnt/data2/shalaby/parameter_search_doc2vec_models_new/full/doc2vec_size_200_w_2_type_dm_concat_0_mean_1_trainwords_0_hs_0_neg_10_vocabsize_None/epoch_1/model.docvecs.* with mmap=None\n",
      "2017-01-17 20:42:42,323 : INFO : loading doctag_syn0 from /mnt/data2/shalaby/parameter_search_doc2vec_models_new/full/doc2vec_size_200_w_2_type_dm_concat_0_mean_1_trainwords_0_hs_0_neg_10_vocabsize_None/epoch_1/model.docvecs.doctag_syn0.npy with mmap=None\n",
      "2017-01-17 20:42:45,550 : INFO : loading syn1neg from /mnt/data2/shalaby/parameter_search_doc2vec_models_new/full/doc2vec_size_200_w_2_type_dm_concat_0_mean_1_trainwords_0_hs_0_neg_10_vocabsize_None/epoch_1/model.syn1neg.npy with mmap=None\n",
      "2017-01-17 20:42:46,678 : INFO : loading syn0 from /mnt/data2/shalaby/parameter_search_doc2vec_models_new/full/doc2vec_size_200_w_2_type_dm_concat_0_mean_1_trainwords_0_hs_0_neg_10_vocabsize_None/epoch_1/model.syn0.npy with mmap=None\n",
      "2017-01-17 20:42:47,852 : INFO : setting ignored attribute syn0norm to None\n",
      "2017-01-17 20:42:47,853 : INFO : setting ignored attribute cum_table to None\n",
      "2017-01-17 20:42:49,769 : INFO : Getting Validation Embeddings\n",
      "2017-01-17 20:42:49,770 : INFO : ===== Loading validation vectors\n",
      "2017-01-17 20:43:21,240 : INFO : Loading Classifier\n",
      "2017-01-17 20:43:21,245 : INFO : Evaluating on Validation Data\n"
     ]
    },
    {
     "name": "stdout",
     "output_type": "stream",
     "text": [
      "svm_iter_10_reg_0.001_classweights_balanced\n"
     ]
    },
    {
     "name": "stderr",
     "output_type": "stream",
     "text": [
      "2017-01-17 20:43:36,591 : INFO : Getting Validation Metrics\n"
     ]
    },
    {
     "name": "stdout",
     "output_type": "stream",
     "text": [
      "[[1 0 0 ..., 0 1 1]\n",
      " [1 1 0 ..., 0 0 0]\n",
      " [0 0 0 ..., 0 1 0]\n",
      " ..., \n",
      " [0 1 0 ..., 0 0 1]\n",
      " [1 0 0 ..., 0 0 0]\n",
      " [1 1 0 ..., 0 0 0]]\n"
     ]
    },
    {
     "name": "stderr",
     "output_type": "stream",
     "text": [
      "2017-01-17 20:43:45,878 : INFO : loading Doc2Vec object from /mnt/data2/shalaby/parameter_search_doc2vec_models_new/full/doc2vec_size_200_w_2_type_dm_concat_0_mean_1_trainwords_0_hs_0_neg_10_vocabsize_None/epoch_2/model\n"
     ]
    },
    {
     "name": "stdout",
     "output_type": "stream",
     "text": [
      "** Validation Metrics: Cov Err: 2.132, Avg Labels: 1.150, \n",
      "\t\t Top 1: 0.601, Top 3: 0.852, Top 5: 0.948, \n",
      "\t\t F1 Micro: 0.509, F1 Macro: 0.444, Total Pos: 858,603\n",
      "epoch_2\n"
     ]
    },
    {
     "name": "stderr",
     "output_type": "stream",
     "text": [
      "2017-01-17 20:43:51,760 : INFO : loading docvecs recursively from /mnt/data2/shalaby/parameter_search_doc2vec_models_new/full/doc2vec_size_200_w_2_type_dm_concat_0_mean_1_trainwords_0_hs_0_neg_10_vocabsize_None/epoch_2/model.docvecs.* with mmap=None\n",
      "2017-01-17 20:43:51,762 : INFO : loading doctag_syn0 from /mnt/data2/shalaby/parameter_search_doc2vec_models_new/full/doc2vec_size_200_w_2_type_dm_concat_0_mean_1_trainwords_0_hs_0_neg_10_vocabsize_None/epoch_2/model.docvecs.doctag_syn0.npy with mmap=None\n",
      "2017-01-17 20:43:55,299 : INFO : loading syn1neg from /mnt/data2/shalaby/parameter_search_doc2vec_models_new/full/doc2vec_size_200_w_2_type_dm_concat_0_mean_1_trainwords_0_hs_0_neg_10_vocabsize_None/epoch_2/model.syn1neg.npy with mmap=None\n",
      "2017-01-17 20:43:56,440 : INFO : loading syn0 from /mnt/data2/shalaby/parameter_search_doc2vec_models_new/full/doc2vec_size_200_w_2_type_dm_concat_0_mean_1_trainwords_0_hs_0_neg_10_vocabsize_None/epoch_2/model.syn0.npy with mmap=None\n",
      "2017-01-17 20:43:57,616 : INFO : setting ignored attribute syn0norm to None\n",
      "2017-01-17 20:43:57,618 : INFO : setting ignored attribute cum_table to None\n",
      "2017-01-17 20:43:59,248 : INFO : Getting Validation Embeddings\n",
      "2017-01-17 20:43:59,250 : INFO : ===== Loading validation vectors\n",
      "2017-01-17 20:44:30,912 : INFO : Loading Classifier\n",
      "2017-01-17 20:44:30,917 : INFO : Evaluating on Validation Data\n"
     ]
    },
    {
     "name": "stdout",
     "output_type": "stream",
     "text": [
      "svm_iter_10_reg_0.001_classweights_balanced\n"
     ]
    },
    {
     "name": "stderr",
     "output_type": "stream",
     "text": [
      "2017-01-17 20:44:34,755 : INFO : Getting Validation Metrics\n"
     ]
    },
    {
     "name": "stdout",
     "output_type": "stream",
     "text": [
      "[[1 0 0 ..., 0 1 1]\n",
      " [1 1 0 ..., 1 0 0]\n",
      " [0 0 0 ..., 0 1 0]\n",
      " ..., \n",
      " [0 1 0 ..., 1 0 0]\n",
      " [1 0 0 ..., 0 0 0]\n",
      " [1 1 0 ..., 1 0 0]]\n"
     ]
    },
    {
     "name": "stderr",
     "output_type": "stream",
     "text": [
      "2017-01-17 20:44:43,671 : INFO : loading Doc2Vec object from /mnt/data2/shalaby/parameter_search_doc2vec_models_new/full/doc2vec_size_200_w_2_type_dm_concat_0_mean_1_trainwords_0_hs_0_neg_10_vocabsize_None/epoch_3/model\n"
     ]
    },
    {
     "name": "stdout",
     "output_type": "stream",
     "text": [
      "** Validation Metrics: Cov Err: 1.948, Avg Labels: 1.150, \n",
      "\t\t Top 1: 0.652, Top 3: 0.886, Top 5: 0.963, \n",
      "\t\t F1 Micro: 0.564, F1 Macro: 0.479, Total Pos: 743,144\n",
      "epoch_3\n"
     ]
    },
    {
     "name": "stderr",
     "output_type": "stream",
     "text": [
      "2017-01-17 20:44:49,927 : INFO : loading docvecs recursively from /mnt/data2/shalaby/parameter_search_doc2vec_models_new/full/doc2vec_size_200_w_2_type_dm_concat_0_mean_1_trainwords_0_hs_0_neg_10_vocabsize_None/epoch_3/model.docvecs.* with mmap=None\n",
      "2017-01-17 20:44:49,928 : INFO : loading doctag_syn0 from /mnt/data2/shalaby/parameter_search_doc2vec_models_new/full/doc2vec_size_200_w_2_type_dm_concat_0_mean_1_trainwords_0_hs_0_neg_10_vocabsize_None/epoch_3/model.docvecs.doctag_syn0.npy with mmap=None\n",
      "2017-01-17 20:44:52,880 : INFO : loading syn1neg from /mnt/data2/shalaby/parameter_search_doc2vec_models_new/full/doc2vec_size_200_w_2_type_dm_concat_0_mean_1_trainwords_0_hs_0_neg_10_vocabsize_None/epoch_3/model.syn1neg.npy with mmap=None\n",
      "2017-01-17 20:44:54,098 : INFO : loading syn0 from /mnt/data2/shalaby/parameter_search_doc2vec_models_new/full/doc2vec_size_200_w_2_type_dm_concat_0_mean_1_trainwords_0_hs_0_neg_10_vocabsize_None/epoch_3/model.syn0.npy with mmap=None\n",
      "2017-01-17 20:44:55,270 : INFO : setting ignored attribute syn0norm to None\n",
      "2017-01-17 20:44:55,271 : INFO : setting ignored attribute cum_table to None\n",
      "2017-01-17 20:44:57,197 : INFO : Getting Validation Embeddings\n",
      "2017-01-17 20:44:57,198 : INFO : ===== Loading validation vectors\n",
      "2017-01-17 20:45:30,963 : INFO : Loading Classifier\n",
      "2017-01-17 20:45:30,973 : INFO : Evaluating on Validation Data\n"
     ]
    },
    {
     "name": "stdout",
     "output_type": "stream",
     "text": [
      "svm_iter_10_reg_0.001_classweights_balanced\n"
     ]
    },
    {
     "name": "stderr",
     "output_type": "stream",
     "text": [
      "2017-01-17 20:45:48,353 : INFO : Getting Validation Metrics\n"
     ]
    },
    {
     "name": "stdout",
     "output_type": "stream",
     "text": [
      "[[0 0 0 ..., 0 1 1]\n",
      " [1 1 0 ..., 0 1 0]\n",
      " [0 0 0 ..., 0 1 0]\n",
      " ..., \n",
      " [0 1 0 ..., 1 0 0]\n",
      " [1 0 0 ..., 0 1 0]\n",
      " [1 1 0 ..., 0 0 0]]\n"
     ]
    },
    {
     "name": "stderr",
     "output_type": "stream",
     "text": [
      "2017-01-17 20:45:58,095 : INFO : loading Doc2Vec object from /mnt/data2/shalaby/parameter_search_doc2vec_models_new/full/doc2vec_size_200_w_2_type_dm_concat_0_mean_1_trainwords_0_hs_0_neg_10_vocabsize_None/epoch_4/model\n"
     ]
    },
    {
     "name": "stdout",
     "output_type": "stream",
     "text": [
      "** Validation Metrics: Cov Err: 1.885, Avg Labels: 1.150, \n",
      "\t\t Top 1: 0.667, Top 3: 0.898, Top 5: 0.969, \n",
      "\t\t F1 Micro: 0.583, F1 Macro: 0.494, Total Pos: 709,000\n",
      "epoch_4\n"
     ]
    },
    {
     "name": "stderr",
     "output_type": "stream",
     "text": [
      "2017-01-17 20:46:04,619 : INFO : loading docvecs recursively from /mnt/data2/shalaby/parameter_search_doc2vec_models_new/full/doc2vec_size_200_w_2_type_dm_concat_0_mean_1_trainwords_0_hs_0_neg_10_vocabsize_None/epoch_4/model.docvecs.* with mmap=None\n",
      "2017-01-17 20:46:04,620 : INFO : loading doctag_syn0 from /mnt/data2/shalaby/parameter_search_doc2vec_models_new/full/doc2vec_size_200_w_2_type_dm_concat_0_mean_1_trainwords_0_hs_0_neg_10_vocabsize_None/epoch_4/model.docvecs.doctag_syn0.npy with mmap=None\n",
      "2017-01-17 20:46:08,424 : INFO : loading syn1neg from /mnt/data2/shalaby/parameter_search_doc2vec_models_new/full/doc2vec_size_200_w_2_type_dm_concat_0_mean_1_trainwords_0_hs_0_neg_10_vocabsize_None/epoch_4/model.syn1neg.npy with mmap=None\n",
      "2017-01-17 20:46:09,628 : INFO : loading syn0 from /mnt/data2/shalaby/parameter_search_doc2vec_models_new/full/doc2vec_size_200_w_2_type_dm_concat_0_mean_1_trainwords_0_hs_0_neg_10_vocabsize_None/epoch_4/model.syn0.npy with mmap=None\n",
      "2017-01-17 20:46:10,825 : INFO : setting ignored attribute syn0norm to None\n",
      "2017-01-17 20:46:10,826 : INFO : setting ignored attribute cum_table to None\n",
      "2017-01-17 20:46:12,754 : INFO : Getting Validation Embeddings\n",
      "2017-01-17 20:46:12,756 : INFO : ===== Loading validation vectors\n",
      "2017-01-17 20:46:43,971 : INFO : Loading Classifier\n",
      "2017-01-17 20:46:43,975 : INFO : Evaluating on Validation Data\n"
     ]
    },
    {
     "name": "stdout",
     "output_type": "stream",
     "text": [
      "svm_iter_10_reg_0.001_classweights_balanced\n"
     ]
    },
    {
     "name": "stderr",
     "output_type": "stream",
     "text": [
      "2017-01-17 20:46:47,807 : INFO : Getting Validation Metrics\n"
     ]
    },
    {
     "name": "stdout",
     "output_type": "stream",
     "text": [
      "[[0 0 0 ..., 0 1 1]\n",
      " [1 1 0 ..., 0 1 0]\n",
      " [0 0 0 ..., 0 1 0]\n",
      " ..., \n",
      " [0 1 0 ..., 1 0 0]\n",
      " [1 0 0 ..., 0 1 0]\n",
      " [1 1 0 ..., 1 0 0]]\n"
     ]
    },
    {
     "name": "stderr",
     "output_type": "stream",
     "text": [
      "2017-01-17 20:46:56,771 : INFO : loading Doc2Vec object from /mnt/data2/shalaby/parameter_search_doc2vec_models_new/full/doc2vec_size_200_w_2_type_dm_concat_0_mean_1_trainwords_0_hs_0_neg_10_vocabsize_None/epoch_5/model\n"
     ]
    },
    {
     "name": "stdout",
     "output_type": "stream",
     "text": [
      "** Validation Metrics: Cov Err: 1.865, Avg Labels: 1.150, \n",
      "\t\t Top 1: 0.673, Top 3: 0.901, Top 5: 0.970, \n",
      "\t\t F1 Micro: 0.586, F1 Macro: 0.495, Total Pos: 713,049\n",
      "epoch_5\n"
     ]
    },
    {
     "name": "stderr",
     "output_type": "stream",
     "text": [
      "2017-01-17 20:47:04,956 : INFO : loading docvecs recursively from /mnt/data2/shalaby/parameter_search_doc2vec_models_new/full/doc2vec_size_200_w_2_type_dm_concat_0_mean_1_trainwords_0_hs_0_neg_10_vocabsize_None/epoch_5/model.docvecs.* with mmap=None\n",
      "2017-01-17 20:47:04,956 : INFO : loading doctag_syn0 from /mnt/data2/shalaby/parameter_search_doc2vec_models_new/full/doc2vec_size_200_w_2_type_dm_concat_0_mean_1_trainwords_0_hs_0_neg_10_vocabsize_None/epoch_5/model.docvecs.doctag_syn0.npy with mmap=None\n",
      "2017-01-17 20:47:07,978 : INFO : loading syn1neg from /mnt/data2/shalaby/parameter_search_doc2vec_models_new/full/doc2vec_size_200_w_2_type_dm_concat_0_mean_1_trainwords_0_hs_0_neg_10_vocabsize_None/epoch_5/model.syn1neg.npy with mmap=None\n",
      "2017-01-17 20:47:09,183 : INFO : loading syn0 from /mnt/data2/shalaby/parameter_search_doc2vec_models_new/full/doc2vec_size_200_w_2_type_dm_concat_0_mean_1_trainwords_0_hs_0_neg_10_vocabsize_None/epoch_5/model.syn0.npy with mmap=None\n",
      "2017-01-17 20:47:10,377 : INFO : setting ignored attribute syn0norm to None\n",
      "2017-01-17 20:47:10,378 : INFO : setting ignored attribute cum_table to None\n",
      "2017-01-17 20:47:12,238 : INFO : Getting Validation Embeddings\n",
      "2017-01-17 20:47:12,239 : INFO : ===== Loading validation vectors\n",
      "2017-01-17 20:47:43,848 : INFO : Loading Classifier\n",
      "2017-01-17 20:47:43,853 : INFO : Evaluating on Validation Data\n"
     ]
    },
    {
     "name": "stdout",
     "output_type": "stream",
     "text": [
      "svm_iter_10_reg_0.001_classweights_balanced\n"
     ]
    },
    {
     "name": "stderr",
     "output_type": "stream",
     "text": [
      "2017-01-17 20:48:00,213 : INFO : Getting Validation Metrics\n"
     ]
    },
    {
     "name": "stdout",
     "output_type": "stream",
     "text": [
      "[[0 0 0 ..., 0 1 1]\n",
      " [1 1 0 ..., 1 1 0]\n",
      " [0 0 0 ..., 0 1 0]\n",
      " ..., \n",
      " [1 1 0 ..., 1 0 0]\n",
      " [1 0 0 ..., 0 1 0]\n",
      " [1 1 0 ..., 0 0 0]]\n"
     ]
    },
    {
     "name": "stderr",
     "output_type": "stream",
     "text": [
      "2017-01-17 20:48:09,140 : INFO : loading Doc2Vec object from /mnt/data2/shalaby/parameter_search_doc2vec_models_new/full/doc2vec_size_200_w_4_type_dm_concat_0_mean_1_trainwords_0_hs_0_neg_10_vocabsize_None/epoch_1/model\n"
     ]
    },
    {
     "name": "stdout",
     "output_type": "stream",
     "text": [
      "** Validation Metrics: Cov Err: 1.851, Avg Labels: 1.150, \n",
      "\t\t Top 1: 0.676, Top 3: 0.904, Top 5: 0.972, \n",
      "\t\t F1 Micro: 0.591, F1 Macro: 0.498, Total Pos: 703,269\n",
      "********************* doc2vec_size_200_w_4_type_dm_concat_0_mean_1_trainwords_0_hs_0_neg_10_vocabsize_None\n",
      "epoch_1\n"
     ]
    },
    {
     "name": "stderr",
     "output_type": "stream",
     "text": [
      "2017-01-17 20:48:16,992 : INFO : loading docvecs recursively from /mnt/data2/shalaby/parameter_search_doc2vec_models_new/full/doc2vec_size_200_w_4_type_dm_concat_0_mean_1_trainwords_0_hs_0_neg_10_vocabsize_None/epoch_1/model.docvecs.* with mmap=None\n",
      "2017-01-17 20:48:16,993 : INFO : loading doctag_syn0 from /mnt/data2/shalaby/parameter_search_doc2vec_models_new/full/doc2vec_size_200_w_4_type_dm_concat_0_mean_1_trainwords_0_hs_0_neg_10_vocabsize_None/epoch_1/model.docvecs.doctag_syn0.npy with mmap=None\n",
      "2017-01-17 20:48:20,742 : INFO : loading syn1neg from /mnt/data2/shalaby/parameter_search_doc2vec_models_new/full/doc2vec_size_200_w_4_type_dm_concat_0_mean_1_trainwords_0_hs_0_neg_10_vocabsize_None/epoch_1/model.syn1neg.npy with mmap=None\n",
      "2017-01-17 20:48:21,924 : INFO : loading syn0 from /mnt/data2/shalaby/parameter_search_doc2vec_models_new/full/doc2vec_size_200_w_4_type_dm_concat_0_mean_1_trainwords_0_hs_0_neg_10_vocabsize_None/epoch_1/model.syn0.npy with mmap=None\n",
      "2017-01-17 20:48:23,126 : INFO : setting ignored attribute syn0norm to None\n",
      "2017-01-17 20:48:23,127 : INFO : setting ignored attribute cum_table to None\n",
      "2017-01-17 20:48:24,912 : INFO : Getting Validation Embeddings\n",
      "2017-01-17 20:48:24,913 : INFO : ===== Loading validation vectors\n",
      "2017-01-17 20:48:56,712 : INFO : Loading Classifier\n",
      "2017-01-17 20:48:56,717 : INFO : Evaluating on Validation Data\n"
     ]
    },
    {
     "name": "stdout",
     "output_type": "stream",
     "text": [
      "svm_iter_10_reg_0.001_classweights_balanced\n"
     ]
    },
    {
     "name": "stderr",
     "output_type": "stream",
     "text": [
      "2017-01-17 20:49:01,046 : INFO : Getting Validation Metrics\n"
     ]
    },
    {
     "name": "stdout",
     "output_type": "stream",
     "text": [
      "[[1 0 0 ..., 0 0 1]\n",
      " [1 1 0 ..., 1 0 0]\n",
      " [0 1 0 ..., 0 1 1]\n",
      " ..., \n",
      " [0 1 0 ..., 0 0 0]\n",
      " [1 0 0 ..., 0 0 0]\n",
      " [1 1 0 ..., 1 0 0]]\n"
     ]
    },
    {
     "name": "stderr",
     "output_type": "stream",
     "text": [
      "2017-01-17 20:49:09,419 : INFO : loading Doc2Vec object from /mnt/data2/shalaby/parameter_search_doc2vec_models_new/full/doc2vec_size_200_w_4_type_dm_concat_0_mean_1_trainwords_0_hs_0_neg_10_vocabsize_None/epoch_2/model\n"
     ]
    },
    {
     "name": "stdout",
     "output_type": "stream",
     "text": [
      "** Validation Metrics: Cov Err: 2.345, Avg Labels: 1.150, \n",
      "\t\t Top 1: 0.563, Top 3: 0.814, Top 5: 0.926, \n",
      "\t\t F1 Micro: 0.468, F1 Macro: 0.405, Total Pos: 901,317\n",
      "epoch_2\n"
     ]
    },
    {
     "name": "stderr",
     "output_type": "stream",
     "text": [
      "2017-01-17 20:49:15,481 : INFO : loading docvecs recursively from /mnt/data2/shalaby/parameter_search_doc2vec_models_new/full/doc2vec_size_200_w_4_type_dm_concat_0_mean_1_trainwords_0_hs_0_neg_10_vocabsize_None/epoch_2/model.docvecs.* with mmap=None\n",
      "2017-01-17 20:49:15,482 : INFO : loading doctag_syn0 from /mnt/data2/shalaby/parameter_search_doc2vec_models_new/full/doc2vec_size_200_w_4_type_dm_concat_0_mean_1_trainwords_0_hs_0_neg_10_vocabsize_None/epoch_2/model.docvecs.doctag_syn0.npy with mmap=None\n",
      "2017-01-17 20:49:18,528 : INFO : loading syn1neg from /mnt/data2/shalaby/parameter_search_doc2vec_models_new/full/doc2vec_size_200_w_4_type_dm_concat_0_mean_1_trainwords_0_hs_0_neg_10_vocabsize_None/epoch_2/model.syn1neg.npy with mmap=None\n",
      "2017-01-17 20:49:19,778 : INFO : loading syn0 from /mnt/data2/shalaby/parameter_search_doc2vec_models_new/full/doc2vec_size_200_w_4_type_dm_concat_0_mean_1_trainwords_0_hs_0_neg_10_vocabsize_None/epoch_2/model.syn0.npy with mmap=None\n",
      "2017-01-17 20:49:20,979 : INFO : setting ignored attribute syn0norm to None\n",
      "2017-01-17 20:49:20,980 : INFO : setting ignored attribute cum_table to None\n",
      "2017-01-17 20:49:22,818 : INFO : Getting Validation Embeddings\n",
      "2017-01-17 20:49:22,819 : INFO : ===== Loading validation vectors\n",
      "2017-01-17 20:49:56,818 : INFO : Loading Classifier\n",
      "2017-01-17 20:49:56,821 : INFO : Evaluating on Validation Data\n"
     ]
    },
    {
     "name": "stdout",
     "output_type": "stream",
     "text": [
      "svm_iter_10_reg_0.001_classweights_balanced\n"
     ]
    },
    {
     "name": "stderr",
     "output_type": "stream",
     "text": [
      "2017-01-17 20:50:13,520 : INFO : Getting Validation Metrics\n"
     ]
    },
    {
     "name": "stdout",
     "output_type": "stream",
     "text": [
      "[[1 0 0 ..., 0 1 1]\n",
      " [1 0 0 ..., 1 1 0]\n",
      " [0 0 0 ..., 0 1 0]\n",
      " ..., \n",
      " [0 1 0 ..., 0 0 0]\n",
      " [1 0 0 ..., 0 0 0]\n",
      " [1 1 0 ..., 0 0 0]]\n"
     ]
    },
    {
     "name": "stderr",
     "output_type": "stream",
     "text": [
      "2017-01-17 20:50:23,249 : INFO : loading Doc2Vec object from /mnt/data2/shalaby/parameter_search_doc2vec_models_new/full/doc2vec_size_200_w_4_type_dm_concat_0_mean_1_trainwords_0_hs_0_neg_10_vocabsize_None/epoch_3/model\n"
     ]
    },
    {
     "name": "stdout",
     "output_type": "stream",
     "text": [
      "** Validation Metrics: Cov Err: 1.904, Avg Labels: 1.150, \n",
      "\t\t Top 1: 0.660, Top 3: 0.895, Top 5: 0.967, \n",
      "\t\t F1 Micro: 0.579, F1 Macro: 0.485, Total Pos: 712,931\n",
      "epoch_3\n"
     ]
    },
    {
     "name": "stderr",
     "output_type": "stream",
     "text": [
      "2017-01-17 20:50:30,059 : INFO : loading docvecs recursively from /mnt/data2/shalaby/parameter_search_doc2vec_models_new/full/doc2vec_size_200_w_4_type_dm_concat_0_mean_1_trainwords_0_hs_0_neg_10_vocabsize_None/epoch_3/model.docvecs.* with mmap=None\n",
      "2017-01-17 20:50:30,060 : INFO : loading doctag_syn0 from /mnt/data2/shalaby/parameter_search_doc2vec_models_new/full/doc2vec_size_200_w_4_type_dm_concat_0_mean_1_trainwords_0_hs_0_neg_10_vocabsize_None/epoch_3/model.docvecs.doctag_syn0.npy with mmap=None\n",
      "2017-01-17 20:50:33,839 : INFO : loading syn1neg from /mnt/data2/shalaby/parameter_search_doc2vec_models_new/full/doc2vec_size_200_w_4_type_dm_concat_0_mean_1_trainwords_0_hs_0_neg_10_vocabsize_None/epoch_3/model.syn1neg.npy with mmap=None\n",
      "2017-01-17 20:50:35,004 : INFO : loading syn0 from /mnt/data2/shalaby/parameter_search_doc2vec_models_new/full/doc2vec_size_200_w_4_type_dm_concat_0_mean_1_trainwords_0_hs_0_neg_10_vocabsize_None/epoch_3/model.syn0.npy with mmap=None\n",
      "2017-01-17 20:50:36,222 : INFO : setting ignored attribute syn0norm to None\n",
      "2017-01-17 20:50:36,223 : INFO : setting ignored attribute cum_table to None\n",
      "2017-01-17 20:50:38,053 : INFO : Getting Validation Embeddings\n",
      "2017-01-17 20:50:38,054 : INFO : ===== Loading validation vectors\n",
      "2017-01-17 20:51:10,881 : INFO : Loading Classifier\n",
      "2017-01-17 20:51:10,888 : INFO : Evaluating on Validation Data\n"
     ]
    },
    {
     "name": "stdout",
     "output_type": "stream",
     "text": [
      "svm_iter_10_reg_0.001_classweights_balanced\n"
     ]
    },
    {
     "name": "stderr",
     "output_type": "stream",
     "text": [
      "2017-01-17 20:51:14,722 : INFO : Getting Validation Metrics\n"
     ]
    },
    {
     "name": "stdout",
     "output_type": "stream",
     "text": [
      "[[0 0 0 ..., 0 1 1]\n",
      " [1 0 0 ..., 1 1 0]\n",
      " [0 0 0 ..., 0 1 0]\n",
      " ..., \n",
      " [0 1 0 ..., 1 0 0]\n",
      " [1 0 0 ..., 0 1 0]\n",
      " [1 1 0 ..., 0 0 0]]\n"
     ]
    },
    {
     "name": "stderr",
     "output_type": "stream",
     "text": [
      "2017-01-17 20:51:26,557 : INFO : loading Doc2Vec object from /mnt/data2/shalaby/parameter_search_doc2vec_models_new/full/doc2vec_size_200_w_4_type_dm_concat_0_mean_1_trainwords_0_hs_0_neg_10_vocabsize_None/epoch_4/model\n"
     ]
    },
    {
     "name": "stdout",
     "output_type": "stream",
     "text": [
      "** Validation Metrics: Cov Err: 1.818, Avg Labels: 1.150, \n",
      "\t\t Top 1: 0.682, Top 3: 0.911, Top 5: 0.974, \n",
      "\t\t F1 Micro: 0.602, F1 Macro: 0.506, Total Pos: 688,969\n",
      "epoch_4\n"
     ]
    },
    {
     "name": "stderr",
     "output_type": "stream",
     "text": [
      "2017-01-17 20:51:32,006 : INFO : loading docvecs recursively from /mnt/data2/shalaby/parameter_search_doc2vec_models_new/full/doc2vec_size_200_w_4_type_dm_concat_0_mean_1_trainwords_0_hs_0_neg_10_vocabsize_None/epoch_4/model.docvecs.* with mmap=None\n",
      "2017-01-17 20:51:32,007 : INFO : loading doctag_syn0 from /mnt/data2/shalaby/parameter_search_doc2vec_models_new/full/doc2vec_size_200_w_4_type_dm_concat_0_mean_1_trainwords_0_hs_0_neg_10_vocabsize_None/epoch_4/model.docvecs.doctag_syn0.npy with mmap=None\n",
      "2017-01-17 20:51:35,459 : INFO : loading syn1neg from /mnt/data2/shalaby/parameter_search_doc2vec_models_new/full/doc2vec_size_200_w_4_type_dm_concat_0_mean_1_trainwords_0_hs_0_neg_10_vocabsize_None/epoch_4/model.syn1neg.npy with mmap=None\n",
      "2017-01-17 20:51:36,701 : INFO : loading syn0 from /mnt/data2/shalaby/parameter_search_doc2vec_models_new/full/doc2vec_size_200_w_4_type_dm_concat_0_mean_1_trainwords_0_hs_0_neg_10_vocabsize_None/epoch_4/model.syn0.npy with mmap=None\n",
      "2017-01-17 20:51:37,902 : INFO : setting ignored attribute syn0norm to None\n",
      "2017-01-17 20:51:37,903 : INFO : setting ignored attribute cum_table to None\n",
      "2017-01-17 20:51:39,684 : INFO : Getting Validation Embeddings\n",
      "2017-01-17 20:51:39,685 : INFO : ===== Loading validation vectors\n",
      "2017-01-17 20:52:12,474 : INFO : Loading Classifier\n",
      "2017-01-17 20:52:12,480 : INFO : Evaluating on Validation Data\n"
     ]
    },
    {
     "name": "stdout",
     "output_type": "stream",
     "text": [
      "svm_iter_10_reg_0.001_classweights_balanced\n"
     ]
    },
    {
     "name": "stderr",
     "output_type": "stream",
     "text": [
      "2017-01-17 20:52:29,149 : INFO : Getting Validation Metrics\n"
     ]
    },
    {
     "name": "stdout",
     "output_type": "stream",
     "text": [
      "[[0 0 0 ..., 0 1 1]\n",
      " [1 1 0 ..., 1 0 0]\n",
      " [0 0 0 ..., 0 1 0]\n",
      " ..., \n",
      " [0 1 0 ..., 0 0 0]\n",
      " [1 0 0 ..., 0 1 0]\n",
      " [1 1 0 ..., 0 0 0]]\n"
     ]
    },
    {
     "name": "stderr",
     "output_type": "stream",
     "text": [
      "2017-01-17 20:52:39,369 : INFO : loading Doc2Vec object from /mnt/data2/shalaby/parameter_search_doc2vec_models_new/full/doc2vec_size_200_w_4_type_dm_concat_0_mean_1_trainwords_0_hs_0_neg_10_vocabsize_None/epoch_5/model\n"
     ]
    },
    {
     "name": "stdout",
     "output_type": "stream",
     "text": [
      "** Validation Metrics: Cov Err: 1.841, Avg Labels: 1.150, \n",
      "\t\t Top 1: 0.676, Top 3: 0.906, Top 5: 0.973, \n",
      "\t\t F1 Micro: 0.592, F1 Macro: 0.501, Total Pos: 709,303\n",
      "epoch_5\n"
     ]
    },
    {
     "name": "stderr",
     "output_type": "stream",
     "text": [
      "2017-01-17 20:52:47,897 : INFO : loading docvecs recursively from /mnt/data2/shalaby/parameter_search_doc2vec_models_new/full/doc2vec_size_200_w_4_type_dm_concat_0_mean_1_trainwords_0_hs_0_neg_10_vocabsize_None/epoch_5/model.docvecs.* with mmap=None\n",
      "2017-01-17 20:52:47,898 : INFO : loading doctag_syn0 from /mnt/data2/shalaby/parameter_search_doc2vec_models_new/full/doc2vec_size_200_w_4_type_dm_concat_0_mean_1_trainwords_0_hs_0_neg_10_vocabsize_None/epoch_5/model.docvecs.doctag_syn0.npy with mmap=None\n",
      "2017-01-17 20:52:51,670 : INFO : loading syn1neg from /mnt/data2/shalaby/parameter_search_doc2vec_models_new/full/doc2vec_size_200_w_4_type_dm_concat_0_mean_1_trainwords_0_hs_0_neg_10_vocabsize_None/epoch_5/model.syn1neg.npy with mmap=None\n",
      "2017-01-17 20:52:52,879 : INFO : loading syn0 from /mnt/data2/shalaby/parameter_search_doc2vec_models_new/full/doc2vec_size_200_w_4_type_dm_concat_0_mean_1_trainwords_0_hs_0_neg_10_vocabsize_None/epoch_5/model.syn0.npy with mmap=None\n",
      "2017-01-17 20:52:54,084 : INFO : setting ignored attribute syn0norm to None\n",
      "2017-01-17 20:52:54,085 : INFO : setting ignored attribute cum_table to None\n",
      "2017-01-17 20:52:55,900 : INFO : Getting Validation Embeddings\n",
      "2017-01-17 20:52:55,901 : INFO : ===== Loading validation vectors\n",
      "2017-01-17 20:53:27,123 : INFO : Loading Classifier\n",
      "2017-01-17 20:53:27,129 : INFO : Evaluating on Validation Data\n"
     ]
    },
    {
     "name": "stdout",
     "output_type": "stream",
     "text": [
      "svm_iter_10_reg_0.001_classweights_balanced\n"
     ]
    },
    {
     "name": "stderr",
     "output_type": "stream",
     "text": [
      "2017-01-17 20:53:30,948 : INFO : Getting Validation Metrics\n"
     ]
    },
    {
     "name": "stdout",
     "output_type": "stream",
     "text": [
      "[[0 0 0 ..., 0 1 1]\n",
      " [1 0 0 ..., 1 0 0]\n",
      " [0 0 0 ..., 0 1 0]\n",
      " ..., \n",
      " [0 1 0 ..., 0 0 0]\n",
      " [1 0 0 ..., 0 1 0]\n",
      " [1 1 0 ..., 0 0 0]]\n"
     ]
    },
    {
     "name": "stderr",
     "output_type": "stream",
     "text": [
      "2017-01-17 20:53:39,921 : INFO : loading Doc2Vec object from /mnt/data2/shalaby/parameter_search_doc2vec_models_new/full/doc2vec_size_200_w_4_type_dm_concat_0_mean_1_trainwords_0_hs_0_neg_10_vocabsize_None/epoch_6/model\n"
     ]
    },
    {
     "name": "stdout",
     "output_type": "stream",
     "text": [
      "** Validation Metrics: Cov Err: 1.799, Avg Labels: 1.150, \n",
      "\t\t Top 1: 0.684, Top 3: 0.915, Top 5: 0.977, \n",
      "\t\t F1 Micro: 0.615, F1 Macro: 0.518, Total Pos: 655,222\n",
      "epoch_6\n"
     ]
    },
    {
     "name": "stderr",
     "output_type": "stream",
     "text": [
      "2017-01-17 20:53:48,251 : INFO : loading docvecs recursively from /mnt/data2/shalaby/parameter_search_doc2vec_models_new/full/doc2vec_size_200_w_4_type_dm_concat_0_mean_1_trainwords_0_hs_0_neg_10_vocabsize_None/epoch_6/model.docvecs.* with mmap=None\n",
      "2017-01-17 20:53:48,253 : INFO : loading doctag_syn0 from /mnt/data2/shalaby/parameter_search_doc2vec_models_new/full/doc2vec_size_200_w_4_type_dm_concat_0_mean_1_trainwords_0_hs_0_neg_10_vocabsize_None/epoch_6/model.docvecs.doctag_syn0.npy with mmap=None\n",
      "2017-01-17 20:53:51,913 : INFO : loading syn1neg from /mnt/data2/shalaby/parameter_search_doc2vec_models_new/full/doc2vec_size_200_w_4_type_dm_concat_0_mean_1_trainwords_0_hs_0_neg_10_vocabsize_None/epoch_6/model.syn1neg.npy with mmap=None\n",
      "2017-01-17 20:53:53,255 : INFO : loading syn0 from /mnt/data2/shalaby/parameter_search_doc2vec_models_new/full/doc2vec_size_200_w_4_type_dm_concat_0_mean_1_trainwords_0_hs_0_neg_10_vocabsize_None/epoch_6/model.syn0.npy with mmap=None\n",
      "2017-01-17 20:53:54,672 : INFO : setting ignored attribute syn0norm to None\n",
      "2017-01-17 20:53:54,674 : INFO : setting ignored attribute cum_table to None\n",
      "2017-01-17 20:53:56,609 : INFO : Getting Validation Embeddings\n",
      "2017-01-17 20:53:56,611 : INFO : ===== Loading validation vectors\n",
      "2017-01-17 20:54:29,268 : INFO : Loading Classifier\n",
      "2017-01-17 20:54:29,272 : INFO : Evaluating on Validation Data\n"
     ]
    },
    {
     "name": "stdout",
     "output_type": "stream",
     "text": [
      "svm_iter_10_reg_0.001_classweights_balanced\n"
     ]
    },
    {
     "name": "stderr",
     "output_type": "stream",
     "text": [
      "2017-01-17 20:54:45,870 : INFO : Getting Validation Metrics\n"
     ]
    },
    {
     "name": "stdout",
     "output_type": "stream",
     "text": [
      "[[0 0 0 ..., 0 1 1]\n",
      " [1 0 0 ..., 1 1 0]\n",
      " [0 0 0 ..., 0 1 0]\n",
      " ..., \n",
      " [0 1 0 ..., 0 0 0]\n",
      " [1 0 0 ..., 0 1 0]\n",
      " [1 1 0 ..., 0 0 0]]\n"
     ]
    },
    {
     "name": "stderr",
     "output_type": "stream",
     "text": [
      "2017-01-17 20:54:54,805 : INFO : loading Doc2Vec object from /mnt/data2/shalaby/parameter_search_doc2vec_models_new/full/doc2vec_size_200_w_4_type_dm_concat_0_mean_1_trainwords_0_hs_0_neg_10_vocabsize_None/epoch_7/model\n"
     ]
    },
    {
     "name": "stdout",
     "output_type": "stream",
     "text": [
      "** Validation Metrics: Cov Err: 1.798, Avg Labels: 1.150, \n",
      "\t\t Top 1: 0.684, Top 3: 0.915, Top 5: 0.977, \n",
      "\t\t F1 Micro: 0.615, F1 Macro: 0.518, Total Pos: 654,863\n",
      "epoch_7\n"
     ]
    },
    {
     "name": "stderr",
     "output_type": "stream",
     "text": [
      "2017-01-17 20:55:01,704 : INFO : loading docvecs recursively from /mnt/data2/shalaby/parameter_search_doc2vec_models_new/full/doc2vec_size_200_w_4_type_dm_concat_0_mean_1_trainwords_0_hs_0_neg_10_vocabsize_None/epoch_7/model.docvecs.* with mmap=None\n",
      "2017-01-17 20:55:01,705 : INFO : loading doctag_syn0 from /mnt/data2/shalaby/parameter_search_doc2vec_models_new/full/doc2vec_size_200_w_4_type_dm_concat_0_mean_1_trainwords_0_hs_0_neg_10_vocabsize_None/epoch_7/model.docvecs.doctag_syn0.npy with mmap=None\n",
      "2017-01-17 20:55:05,449 : INFO : loading syn1neg from /mnt/data2/shalaby/parameter_search_doc2vec_models_new/full/doc2vec_size_200_w_4_type_dm_concat_0_mean_1_trainwords_0_hs_0_neg_10_vocabsize_None/epoch_7/model.syn1neg.npy with mmap=None\n",
      "2017-01-17 20:55:06,638 : INFO : loading syn0 from /mnt/data2/shalaby/parameter_search_doc2vec_models_new/full/doc2vec_size_200_w_4_type_dm_concat_0_mean_1_trainwords_0_hs_0_neg_10_vocabsize_None/epoch_7/model.syn0.npy with mmap=None\n",
      "2017-01-17 20:55:07,853 : INFO : setting ignored attribute syn0norm to None\n",
      "2017-01-17 20:55:07,855 : INFO : setting ignored attribute cum_table to None\n",
      "2017-01-17 20:55:09,758 : INFO : Getting Validation Embeddings\n",
      "2017-01-17 20:55:09,759 : INFO : ===== Loading validation vectors\n",
      "2017-01-17 20:55:43,054 : INFO : Loading Classifier\n",
      "2017-01-17 20:55:43,058 : INFO : Evaluating on Validation Data\n"
     ]
    },
    {
     "name": "stdout",
     "output_type": "stream",
     "text": [
      "svm_iter_10_reg_0.001_classweights_balanced\n"
     ]
    },
    {
     "name": "stderr",
     "output_type": "stream",
     "text": [
      "2017-01-17 20:55:46,613 : INFO : Getting Validation Metrics\n"
     ]
    },
    {
     "name": "stdout",
     "output_type": "stream",
     "text": [
      "[[0 0 0 ..., 1 1 1]\n",
      " [0 0 0 ..., 0 0 0]\n",
      " [0 0 0 ..., 1 1 1]\n",
      " ..., \n",
      " [0 0 0 ..., 0 0 0]\n",
      " [0 0 0 ..., 0 0 0]\n",
      " [0 0 0 ..., 0 0 0]]\n"
     ]
    },
    {
     "name": "stderr",
     "output_type": "stream",
     "text": [
      "2017-01-17 20:55:56,586 : INFO : loading Doc2Vec object from /mnt/data2/shalaby/parameter_search_doc2vec_models_new/full/doc2vec_size_200_w_8_type_dm_concat_1_mean_0_trainwords_0_hs_0_neg_10_vocabsize_None/epoch_1/model\n"
     ]
    },
    {
     "name": "stdout",
     "output_type": "stream",
     "text": [
      "** Validation Metrics: Cov Err: 3.280, Avg Labels: 1.150, \n",
      "\t\t Top 1: 0.238, Top 3: 0.686, Top 5: 0.850, \n",
      "\t\t F1 Micro: 0.130, F1 Macro: 0.070, Total Pos: 177,831\n",
      "********************* doc2vec_size_200_w_8_type_dm_concat_1_mean_0_trainwords_0_hs_0_neg_10_vocabsize_None\n",
      "epoch_1\n"
     ]
    },
    {
     "name": "stderr",
     "output_type": "stream",
     "text": [
      "2017-01-17 20:56:02,734 : INFO : loading docvecs recursively from /mnt/data2/shalaby/parameter_search_doc2vec_models_new/full/doc2vec_size_200_w_8_type_dm_concat_1_mean_0_trainwords_0_hs_0_neg_10_vocabsize_None/epoch_1/model.docvecs.* with mmap=None\n",
      "2017-01-17 20:56:02,735 : INFO : loading doctag_syn0 from /mnt/data2/shalaby/parameter_search_doc2vec_models_new/full/doc2vec_size_200_w_8_type_dm_concat_1_mean_0_trainwords_0_hs_0_neg_10_vocabsize_None/epoch_1/model.docvecs.doctag_syn0.npy with mmap=None\n",
      "2017-01-17 20:56:05,818 : INFO : loading syn1neg from /mnt/data2/shalaby/parameter_search_doc2vec_models_new/full/doc2vec_size_200_w_8_type_dm_concat_1_mean_0_trainwords_0_hs_0_neg_10_vocabsize_None/epoch_1/model.syn1neg.npy with mmap=None\n",
      "2017-01-17 20:56:27,439 : INFO : loading syn0 from /mnt/data2/shalaby/parameter_search_doc2vec_models_new/full/doc2vec_size_200_w_8_type_dm_concat_1_mean_0_trainwords_0_hs_0_neg_10_vocabsize_None/epoch_1/model.syn0.npy with mmap=None\n",
      "2017-01-17 20:56:28,653 : INFO : setting ignored attribute syn0norm to None\n",
      "2017-01-17 20:56:28,654 : INFO : setting ignored attribute cum_table to None\n",
      "2017-01-17 20:56:30,542 : INFO : Getting Validation Embeddings\n",
      "2017-01-17 20:56:30,544 : INFO : ===== Loading validation vectors\n",
      "2017-01-17 20:57:04,496 : INFO : Loading Classifier\n",
      "2017-01-17 20:57:04,501 : INFO : Evaluating on Validation Data\n"
     ]
    },
    {
     "name": "stdout",
     "output_type": "stream",
     "text": [
      "svm_iter_100_reg_0.01_classweights_balanced\n"
     ]
    },
    {
     "name": "stderr",
     "output_type": "stream",
     "text": [
      "2017-01-17 20:57:21,652 : INFO : Getting Validation Metrics\n"
     ]
    },
    {
     "name": "stdout",
     "output_type": "stream",
     "text": [
      "[[0 0 0 ..., 0 0 1]\n",
      " [0 1 0 ..., 0 0 1]\n",
      " [0 1 0 ..., 0 1 0]\n",
      " ..., \n",
      " [0 0 0 ..., 0 0 0]\n",
      " [0 0 0 ..., 0 0 1]\n",
      " [0 1 0 ..., 0 0 1]]\n"
     ]
    },
    {
     "name": "stderr",
     "output_type": "stream",
     "text": [
      "2017-01-17 20:57:33,315 : INFO : loading Doc2Vec object from /mnt/data2/shalaby/parameter_search_doc2vec_models_new/full/doc2vec_size_200_w_8_type_dm_concat_1_mean_0_trainwords_0_hs_0_neg_10_vocabsize_None/epoch_2/model\n"
     ]
    },
    {
     "name": "stdout",
     "output_type": "stream",
     "text": [
      "** Validation Metrics: Cov Err: 3.659, Avg Labels: 1.150, \n",
      "\t\t Top 1: 0.296, Top 3: 0.578, Top 5: 0.778, \n",
      "\t\t F1 Micro: 0.276, F1 Macro: 0.185, Total Pos: 502,399\n",
      "epoch_2\n"
     ]
    },
    {
     "name": "stderr",
     "output_type": "stream",
     "text": [
      "2017-01-17 20:57:39,866 : INFO : loading docvecs recursively from /mnt/data2/shalaby/parameter_search_doc2vec_models_new/full/doc2vec_size_200_w_8_type_dm_concat_1_mean_0_trainwords_0_hs_0_neg_10_vocabsize_None/epoch_2/model.docvecs.* with mmap=None\n",
      "2017-01-17 20:57:39,867 : INFO : loading doctag_syn0 from /mnt/data2/shalaby/parameter_search_doc2vec_models_new/full/doc2vec_size_200_w_8_type_dm_concat_1_mean_0_trainwords_0_hs_0_neg_10_vocabsize_None/epoch_2/model.docvecs.doctag_syn0.npy with mmap=None\n",
      "2017-01-17 20:57:43,629 : INFO : loading syn1neg from /mnt/data2/shalaby/parameter_search_doc2vec_models_new/full/doc2vec_size_200_w_8_type_dm_concat_1_mean_0_trainwords_0_hs_0_neg_10_vocabsize_None/epoch_2/model.syn1neg.npy with mmap=None\n",
      "2017-01-17 20:58:04,753 : INFO : loading syn0 from /mnt/data2/shalaby/parameter_search_doc2vec_models_new/full/doc2vec_size_200_w_8_type_dm_concat_1_mean_0_trainwords_0_hs_0_neg_10_vocabsize_None/epoch_2/model.syn0.npy with mmap=None\n",
      "2017-01-17 20:58:05,935 : INFO : setting ignored attribute syn0norm to None\n",
      "2017-01-17 20:58:05,935 : INFO : setting ignored attribute cum_table to None\n",
      "2017-01-17 20:58:08,112 : INFO : Getting Validation Embeddings\n",
      "2017-01-17 20:58:08,113 : INFO : ===== Loading validation vectors\n",
      "2017-01-17 20:58:39,497 : INFO : Loading Classifier\n",
      "2017-01-17 20:58:39,502 : INFO : Evaluating on Validation Data\n"
     ]
    },
    {
     "name": "stdout",
     "output_type": "stream",
     "text": [
      "svm_iter_100_reg_0.01_classweights_balanced\n"
     ]
    },
    {
     "name": "stderr",
     "output_type": "stream",
     "text": [
      "2017-01-17 20:58:43,732 : INFO : Getting Validation Metrics\n"
     ]
    },
    {
     "name": "stdout",
     "output_type": "stream",
     "text": [
      "[[0 0 0 ..., 0 0 0]\n",
      " [0 0 0 ..., 0 0 1]\n",
      " [0 1 0 ..., 0 0 1]\n",
      " ..., \n",
      " [0 0 0 ..., 0 0 0]\n",
      " [0 0 0 ..., 0 0 1]\n",
      " [0 0 0 ..., 0 0 1]]\n",
      "** Validation Metrics: Cov Err: 3.559, Avg Labels: 1.150, \n",
      "\t\t Top 1: 0.299, Top 3: 0.611, Top 5: 0.790, \n",
      "\t\t F1 Micro: 0.272, F1 Macro: 0.161, Total Pos: 430,943\n",
      "********************* vocab_model\n"
     ]
    }
   ],
   "source": [
    "for doc2vec_method in natural_sort(get_subdirectories(ROOT_RESULTS_LOCATION)):\n",
    "    if doc2vec_method in finished_doc2vec_methods: \n",
    "        info('skipping {}'.format(doc2vec_method))\n",
    "        continue\n",
    "        \n",
    "    print '********************* {}'.format(doc2vec_method)\n",
    "    epochs_path = os.path.join(ROOT_RESULTS_LOCATION, doc2vec_method)\n",
    "    # this will have the structure dict of classifiers -> dict of metrics -> list of values throughout the epoch\n",
    "    for epoch in natural_sort(get_subdirectories(epochs_path)):\n",
    "        print epoch\n",
    "        epoch_path =  os.path.join(epochs_path, epoch)\n",
    "        \n",
    "        if os.path.exists(os.path.join(epoch_path, MODEL_PREFIX)):\n",
    "            doc2vec_model = Doc2Vec.load(os.path.join(epoch_path, MODEL_PREFIX))\n",
    "        else:\n",
    "            info('No Doc2vec model found for {}. Exiting..'.format(epoch))\n",
    "            break\n",
    "            \n",
    "        GLOBAL_VARS.MODEL_NAME = epoch_path\n",
    "\n",
    "        # Validation Metrics\n",
    "        info('Getting Validation Embeddings')\n",
    "        Xv, yv = get_validation_docs_with_inference_new(doc2vec_model, doc_classification_map, classifications, \n",
    "                                                        validation_docs_list, validation_preprocessed_files_prefix,\n",
    "                                                        validation_preprocessed_docids_files_prefix)\n",
    "\n",
    "        for classifier in get_subdirectories(epoch_path):\n",
    "            print classifier\n",
    "            \n",
    "            classifier_path = os.path.join(epoch_path, classifier)\n",
    "            if(os.path.exists(os.path.join(classifier_path, CLASSIFIER))):\n",
    "                info('Loading Classifier')\n",
    "                clf = pickle.load(open(os.path.join(classifier_path, CLASSIFIER), 'r'))\n",
    "            else:\n",
    "                \n",
    "                info('No Classifier found for {} in {}'.format(classifier, epoch))\n",
    "                info('Getting training Data')\n",
    "                X, y = get_training_data(doc2vec_model, classifications)\n",
    "                info('Training Classifier')\n",
    "                classifier_parts = classifier.split('_')\n",
    "                SVM_ITERATIONS = classifier[2]\n",
    "                SVM_REG = classifier[4]\n",
    "                SVM_CLASS_WEIGHTS = classifier[6] if classifier[6] != 'None' else None\n",
    "                clf = OneVsRestClassifier(linear_model.SGDClassifier(loss='hinge', penalty='l2', \n",
    "                                                                     #alpha is the 1/C parameter\n",
    "                                                                     alpha=SVM_REG, fit_intercept=True, n_iter=SVM_ITERATIONS,\n",
    "                                                                     #n_jobs=-1 means use all cpus\n",
    "                                                                     shuffle=True, verbose=0, n_jobs=1,\n",
    "                                                                     #eta0 is the learning rate when we use constant configuration\n",
    "                                                                     random_state=SVM_SEED, learning_rate='optimal', eta0=0.0, \n",
    "                                                                     class_weight=SVM_CLASS_WEIGHTS, warm_start=False), n_jobs=1)\n",
    "\n",
    "                # Training of a classifier\n",
    "                clf.fit(X,y)\n",
    "                pickle.dump(clf, open(os.path.join(classifier_path, CLASSIFIER), 'w'))\n",
    "\n",
    "            info('Evaluating on Validation Data')\n",
    "            yvp = clf.predict(Xv)\n",
    "            yvp_score = clf.decision_function(Xv)\n",
    "            print yvp\n",
    "            info('Getting Validation Metrics')\n",
    "            validation_metrics = get_metrics(yv, yvp_score, yvp)\n",
    "            print \"** Validation Metrics: Cov Err: {:.3f}, Avg Labels: {:.3f}, \\n\\t\\t Top 1: {:.3f}, Top 3: {:.3f}, Top 5: {:.3f}, \\n\\t\\t F1 Micro: {:.3f}, F1 Macro: {:.3f}, Total Pos: {:,d}\".format(\n",
    "                validation_metrics['coverage_error'], validation_metrics['average_num_of_labels'], \n",
    "                validation_metrics['top_1'], validation_metrics['top_3'], validation_metrics['top_5'], \n",
    "                validation_metrics['f1_micro'], validation_metrics['f1_macro'], validation_metrics['total_positive'])\n",
    "            \n",
    "            pickle.dump(validation_metrics, open(os.path.join(classifier_path, VALIDATION_METRICS_FILENAME), 'w'))\n"
   ]
  },
  {
   "cell_type": "code",
   "execution_count": null,
   "metadata": {
    "collapsed": true
   },
   "outputs": [],
   "source": []
  }
 ],
 "metadata": {
  "kernelspec": {
   "display_name": "Python 2",
   "language": "python",
   "name": "python2"
  },
  "language_info": {
   "codemirror_mode": {
    "name": "ipython",
    "version": 2
   },
   "file_extension": ".py",
   "mimetype": "text/x-python",
   "name": "python",
   "nbconvert_exporter": "python",
   "pygments_lexer": "ipython2",
   "version": "2.7.12"
  }
 },
 "nbformat": 4,
 "nbformat_minor": 0
}
