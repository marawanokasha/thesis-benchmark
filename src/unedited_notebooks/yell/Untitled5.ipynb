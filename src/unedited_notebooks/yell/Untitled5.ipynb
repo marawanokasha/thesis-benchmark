{
 "cells": [
  {
   "cell_type": "code",
   "execution_count": 14,
   "metadata": {
    "collapsed": true
   },
   "outputs": [],
   "source": [
    "import numpy as np\n",
    "\n",
    "import sklearn.metrics\n",
    "from sklearn.multiclass import OneVsRestClassifier\n",
    "from sklearn import linear_model"
   ]
  },
  {
   "cell_type": "code",
   "execution_count": 19,
   "metadata": {
    "collapsed": true
   },
   "outputs": [],
   "source": [
    "SVM_ITERATIONS = 100\n",
    "SVM_CONVERGENCE = 0.001\n",
    "SVM_REG = 0.01\n",
    "SVM_CLASS_WEIGHTS = 'balanced'\n",
    "SVM_SEED = 1234"
   ]
  },
  {
   "cell_type": "code",
   "execution_count": 32,
   "metadata": {
    "collapsed": true
   },
   "outputs": [],
   "source": [
    "N = 100000"
   ]
  },
  {
   "cell_type": "code",
   "execution_count": 33,
   "metadata": {
    "collapsed": true
   },
   "outputs": [],
   "source": [
    "X = np.random.rand(N,10)"
   ]
  },
  {
   "cell_type": "code",
   "execution_count": 34,
   "metadata": {
    "collapsed": false
   },
   "outputs": [
    {
     "data": {
      "text/plain": [
       "array([[ 0.93091777,  0.93391889,  0.28100006,  0.28945837,  0.83195679,\n",
       "         0.55597695,  0.6259305 ,  0.85178701,  0.0816611 ,  0.92396022],\n",
       "       [ 0.83889308,  0.39672807,  0.65136207,  0.38325131,  0.19232828,\n",
       "         0.29977099,  0.56174364,  0.53911138,  0.32521718,  0.30182506],\n",
       "       [ 0.62391368,  0.3657409 ,  0.53669097,  0.78308535,  0.51584114,\n",
       "         0.17492458,  0.25542778,  0.56701719,  0.27601136,  0.24170038],\n",
       "       [ 0.96757161,  0.56581296,  0.82918008,  0.90789464,  0.83753674,\n",
       "         0.16278525,  0.95595602,  0.52006615,  0.17430804,  0.10828323],\n",
       "       [ 0.48117878,  0.49053857,  0.34097862,  0.94931236,  0.91910426,\n",
       "         0.05772951,  0.2993599 ,  0.91731412,  0.0078794 ,  0.22904074],\n",
       "       [ 0.15838481,  0.27671139,  0.38587997,  0.04180447,  0.6814151 ,\n",
       "         0.71830111,  0.57885213,  0.69284476,  0.03648226,  0.62179024],\n",
       "       [ 0.52807229,  0.41241798,  0.29558628,  0.28838947,  0.88818108,\n",
       "         0.09275116,  0.57497412,  0.75111912,  0.94566523,  0.92125172],\n",
       "       [ 0.49061036,  0.67858329,  0.71625448,  0.5990348 ,  0.62669536,\n",
       "         0.76088668,  0.28111191,  0.69701498,  0.58026381,  0.01326857],\n",
       "       [ 0.89464018,  0.36036204,  0.96090601,  0.81659129,  0.94319432,\n",
       "         0.99030909,  0.1821839 ,  0.02171624,  0.09201331,  0.77386154],\n",
       "       [ 0.24038641,  0.81626732,  0.09071979,  0.31661388,  0.48238155,\n",
       "         0.66944103,  0.25055892,  0.18120572,  0.52186676,  0.93594392]])"
      ]
     },
     "execution_count": 34,
     "metadata": {},
     "output_type": "execute_result"
    }
   ],
   "source": [
    "X[:10]"
   ]
  },
  {
   "cell_type": "code",
   "execution_count": 35,
   "metadata": {
    "collapsed": true
   },
   "outputs": [],
   "source": [
    "y = np.random.randint(0,5, N)"
   ]
  },
  {
   "cell_type": "code",
   "execution_count": 36,
   "metadata": {
    "collapsed": false
   },
   "outputs": [
    {
     "data": {
      "text/plain": [
       "array([2, 0, 3, ..., 4, 3, 0])"
      ]
     },
     "execution_count": 36,
     "metadata": {},
     "output_type": "execute_result"
    }
   ],
   "source": [
    "y"
   ]
  },
  {
   "cell_type": "code",
   "execution_count": 37,
   "metadata": {
    "collapsed": false
   },
   "outputs": [],
   "source": [
    "for i in range(10):\n",
    "    clf = OneVsRestClassifier(linear_model.SGDClassifier(loss='hinge', penalty='l2', \n",
    "                                                             #alpha is the 1/C parameter\n",
    "                                                             alpha=SVM_REG, fit_intercept=True, n_iter=SVM_ITERATIONS,\n",
    "                                                             #n_jobs=-1 means use all cpus\n",
    "                                                             shuffle=True, verbose=0, n_jobs=4,\n",
    "                                                             #eta0 is the learning rate when we use constant configuration\n",
    "                                                             random_state=SVM_SEED, learning_rate='optimal', eta0=0.0, \n",
    "                                                             class_weight=SVM_CLASS_WEIGHTS, warm_start=False), n_jobs=4)\n",
    "\n",
    "    clf.fit(X, y)"
   ]
  },
  {
   "cell_type": "code",
   "execution_count": null,
   "metadata": {
    "collapsed": true
   },
   "outputs": [],
   "source": []
  }
 ],
 "metadata": {
  "kernelspec": {
   "display_name": "Python 2",
   "language": "python",
   "name": "python2"
  },
  "language_info": {
   "codemirror_mode": {
    "name": "ipython",
    "version": 2
   },
   "file_extension": ".py",
   "mimetype": "text/x-python",
   "name": "python",
   "nbconvert_exporter": "python",
   "pygments_lexer": "ipython2",
   "version": "2.7.12"
  }
 },
 "nbformat": 4,
 "nbformat_minor": 2
}
