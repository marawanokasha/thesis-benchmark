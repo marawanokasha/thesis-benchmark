{
 "cells": [
  {
   "cell_type": "code",
   "execution_count": 1,
   "metadata": {
    "collapsed": false
   },
   "outputs": [
    {
     "name": "stderr",
     "output_type": "stream",
     "text": [
      "Using gpu device 0: Tesla K40m (CNMeM is disabled, cuDNN 5105)\n",
      "/home/stud/shalaby/.virtualenv/thesis-env/local/lib/python2.7/site-packages/theano/sandbox/cuda/__init__.py:600: UserWarning: Your cuDNN version is more recent than the one Theano officially supports. If you see any problems, try updating Theano or downgrading cuDNN to version 5.\n",
      "  warnings.warn(warn)\n"
     ]
    }
   ],
   "source": [
    "import json\n",
    "import nltk\n",
    "from nltk.tokenize import RegexpTokenizer\n",
    "import string\n",
    "import math\n",
    "import os\n",
    "import time\n",
    "from collections import namedtuple\n",
    "import cPickle as pickle\n",
    "import pandas as pd\n",
    "\n",
    "%matplotlib inline\n",
    "import matplotlib.pyplot as plt\n",
    "import matplotlib as mpl\n",
    "import numpy as np\n",
    "import random\n",
    "\n",
    "from multiprocessing.dummy import Pool as ThreadPool\n",
    "import itertools\n",
    "\n",
    "from sklearn.metrics import coverage_error\n",
    "import sklearn.metrics\n",
    "from sklearn.multiclass import OneVsRestClassifier\n",
    "from sklearn import linear_model\n",
    "from sklearn.preprocessing import MultiLabelBinarizer\n",
    "\n",
    "from gensim.models.doc2vec import Doc2Vec, LabeledSentence\n",
    "\n",
    "import logging\n",
    "from logging import info\n",
    "from functools import partial\n",
    "\n",
    "from thesis.utils.metrics import *"
   ]
  },
  {
   "cell_type": "code",
   "execution_count": 2,
   "metadata": {
    "collapsed": true
   },
   "outputs": [],
   "source": [
    "root = logging.getLogger()\n",
    "for handler in root.handlers[:]:\n",
    "    root.removeHandler(handler)\n",
    "logging.basicConfig(format='%(asctime)s : %(levelname)s : %(message)s', level=logging.INFO) # adds a default StreamHanlder\n",
    "#root.addHandler(logging.StreamHandler())"
   ]
  },
  {
   "cell_type": "code",
   "execution_count": 3,
   "metadata": {
    "collapsed": true
   },
   "outputs": [],
   "source": [
    "IS_SAMPLE = False"
   ]
  },
  {
   "cell_type": "code",
   "execution_count": 4,
   "metadata": {
    "collapsed": true
   },
   "outputs": [],
   "source": [
    "SVM_SEED = 1234\n",
    "DOC2VEC_SEED = 1234\n",
    "WORD2VEC_SEED = 1234"
   ]
  },
  {
   "cell_type": "code",
   "execution_count": 5,
   "metadata": {
    "collapsed": true
   },
   "outputs": [],
   "source": [
    "NUMBER_INDICATOR = \"number_inidicator\"\n",
    "CURRENCY_INDICATOR = \"currency_inidicator\"\n",
    "CHEMICAL_INDICATOR = \"chemical_inidicator\"\n",
    "MIN_WORD_COUNT = 100\n",
    "MIN_SIZE = 0\n",
    "NUM_CORES = 22"
   ]
  },
  {
   "cell_type": "code",
   "execution_count": 6,
   "metadata": {
    "collapsed": false
   },
   "outputs": [],
   "source": [
    "GLOBAL_VARS = namedtuple('GLOBAL_VARS', ['MODEL_NAME', 'DOC2VEC_MODEL_NAME', 'DOC2VEC_MODEL', \n",
    "                                         'SVM_MODEL_NAME', 'NN_MODEL_NAME'])"
   ]
  },
  {
   "cell_type": "code",
   "execution_count": 7,
   "metadata": {
    "collapsed": true
   },
   "outputs": [],
   "source": [
    "VOCAB_MODEL = \"vocab_model\"\n",
    "MODEL_PREFIX = \"model\"\n",
    "VALIDATION_MATRIX = \"validation_matrix.pkl\"\n",
    "METRICS = \"metrics.pkl\"\n",
    "CLASSIFIER = \"classifier.pkl\""
   ]
  },
  {
   "cell_type": "code",
   "execution_count": 8,
   "metadata": {
    "collapsed": false
   },
   "outputs": [],
   "source": [
    "#training_file = \"/home/local/shalaby/docs_output_sample_100.json\"\n",
    "\n",
    "root_location = \"/mnt/data2/shalaby/\"\n",
    "exports_location = root_location + \"exported_data/\"\n",
    "\n",
    "doc2vec_model_save_location = os.path.join(root_location, \"parameter_search_doc2vec_models_new\", \"full\")\n",
    "if not os.path.exists(doc2vec_model_save_location):\n",
    "    os.makedirs(doc2vec_model_save_location)\n",
    "if not os.path.exists(os.path.join(doc2vec_model_save_location, VOCAB_MODEL)):\n",
    "    os.makedirs(os.path.join(doc2vec_model_save_location, VOCAB_MODEL))\n",
    "\n",
    "training_file = root_location + \"docs_output.json\"\n",
    "\n",
    "doc_classifications_map_file = exports_location + \"doc_classification_map.pkl\"\n",
    "sections_file = exports_location + \"sections.pkl\"\n",
    "classes_file = exports_location + \"classes.pkl\"\n",
    "subclasses_file = exports_location + \"subclasses.pkl\"\n",
    "classifications_output = exports_location + \"classifications.pkl\"\n",
    "training_docs_list_file = exports_location + \"training_docs_list.pkl\"\n",
    "validation_docs_list_file = exports_location + \"validation_docs_list.pkl\"\n",
    "test_docs_list_file = exports_location + \"test_docs_list.pkl\"\n",
    "\n",
    "preprocessed_location = root_location + \"preprocessed_data/\"\n",
    "\n",
    "training_preprocessed_files_prefix = preprocessed_location + \"training_docs_merged_data_preprocessed-\"\n",
    "training_preprocessed_docids_files_prefix = preprocessed_location + \"training_docs_merged_docids_preprocessed-\"\n",
    "validation_preprocessed_files_prefix = preprocessed_location + \"validation_docs_merged_data_preprocessed-\"\n",
    "validation_preprocessed_docids_files_prefix = preprocessed_location + \"validation_docs_merged_docids_preprocessed-\"\n",
    "\n",
    "word2vec_questions_file = result = root_location + 'tensorflow/word2vec/questions-words.txt'"
   ]
  },
  {
   "cell_type": "code",
   "execution_count": 9,
   "metadata": {
    "collapsed": false
   },
   "outputs": [
    {
     "name": "stdout",
     "output_type": "stream",
     "text": [
      "CPU times: user 20.8 s, sys: 3.01 s, total: 23.8 s\n",
      "Wall time: 23.8 s\n"
     ]
    }
   ],
   "source": [
    "%%time\n",
    "doc_classification_map = pickle.load(open(doc_classifications_map_file))\n",
    "sections = pickle.load(open(sections_file))\n",
    "classes = pickle.load(open(classes_file))\n",
    "subclasses = pickle.load(open(subclasses_file))\n",
    "training_docs_list = pickle.load(open(training_docs_list_file))\n",
    "validation_docs_list = pickle.load(open(validation_docs_list_file))\n",
    "#test_docs_list = pickle.load(open(test_docs_list_file))"
   ]
  },
  {
   "cell_type": "code",
   "execution_count": 10,
   "metadata": {
    "collapsed": false
   },
   "outputs": [
    {
     "data": {
      "text/plain": [
       "1286325"
      ]
     },
     "execution_count": 10,
     "metadata": {},
     "output_type": "execute_result"
    }
   ],
   "source": [
    "len(training_docs_list)"
   ]
  },
  {
   "cell_type": "code",
   "execution_count": 11,
   "metadata": {
    "collapsed": false
   },
   "outputs": [
    {
     "data": {
      "text/plain": [
       "321473"
      ]
     },
     "execution_count": 11,
     "metadata": {},
     "output_type": "execute_result"
    }
   ],
   "source": [
    "len(validation_docs_list)"
   ]
  },
  {
   "cell_type": "code",
   "execution_count": 12,
   "metadata": {
    "collapsed": true
   },
   "outputs": [],
   "source": [
    "def stemtokenizer(text):\n",
    "    \"\"\" MAIN FUNCTION to get clean stems out of a text. A list of clean stems are returned \"\"\"\n",
    "    tokenizer = RegexpTokenizer(r'\\s+', gaps=True)\n",
    "    tokens = tokenizer.tokenize(text)\n",
    "    stems = []  # result\n",
    "    for token in tokens:\n",
    "        stem = token.lower()\n",
    "        stem = stem.strip(string.punctuation)\n",
    "        if stem:\n",
    "            if is_number(stem):\n",
    "                stem = NUMBER_INDICATOR\n",
    "            elif is_currency(stem):\n",
    "                stem = CURRENCY_INDICATOR\n",
    "            elif is_chemical(stem):\n",
    "                stem = CHEMICAL_INDICATOR\n",
    "            else:\n",
    "                stem = stem.strip(string.punctuation)\n",
    "            if stem and len(stem) >= MIN_SIZE:\n",
    "                # extract uni-grams\n",
    "                stems.append(stem)\n",
    "    del tokens\n",
    "    return stems\n",
    "\n",
    "def is_number(str):\n",
    "    \"\"\" Returns true if given string is a number (float or int)\"\"\"\n",
    "    try:\n",
    "        float(str.replace(\",\", \"\"))\n",
    "        return True\n",
    "    except ValueError:\n",
    "        return False\n",
    "\n",
    "def is_currency(str):\n",
    "    return str[0] == \"$\"\n",
    "\n",
    "def is_chemical(str):\n",
    "    return str.count(\"-\") > 3"
   ]
  },
  {
   "cell_type": "code",
   "execution_count": 13,
   "metadata": {
    "collapsed": false
   },
   "outputs": [],
   "source": [
    "def ensure_hdfs_location_exists(location):\n",
    "    parent = os.path.dirname(location)\n",
    "    os.system(\"hdfs dfs -mkdir -p \" + location)\n",
    "\n",
    "def ensure_disk_location_exists(location):\n",
    "    if not os.path.exists(location):\n",
    "        os.makedirs(location)"
   ]
  },
  {
   "cell_type": "code",
   "execution_count": 14,
   "metadata": {
    "collapsed": false
   },
   "outputs": [],
   "source": [
    "def get_validation_docs_with_inference(doc2vec_model, doc_classification_map):\n",
    "    \"\"\"\n",
    "    Use the trained doc2vec model to get the paragraph vector representations of the validation documents\n",
    "    \"\"\"\n",
    "    if os.path.exists(os.path.join(doc2vec_model_save_location, GLOBAL_VARS.MODEL_NAME, VALIDATION_MATRIX)):\n",
    "        info(\"===== Loading validation vectors\")\n",
    "        validation_vectors_matrix = pickle.load(open(os.path.join(doc2vec_model_save_location, GLOBAL_VARS.MODEL_NAME, VALIDATION_MATRIX)))\n",
    "    else:\n",
    "        validation_documents_reps = {}\n",
    "        validation_vectors = []\n",
    "        validation_labels = []\n",
    "        info(\"===== Getting validation vectors with inference\")\n",
    "\n",
    "        # do inference and store results in dict\n",
    "        i = 0\n",
    "        for (doc_id, doc_contents_array) in ValidationDocumentGenerator(training_file, validation_docs_list):\n",
    "            i += 1\n",
    "            if i % 1000 == 0: info(\"Finished: {}\".format(str(i)))\n",
    "            validation_documents_reps[doc_id] = doc2vec_model.infer_vector(doc_contents_array)\n",
    "\n",
    "        # create matrix for the validation vectors\n",
    "        for validation_doc_id in validation_docs_list:\n",
    "            validation_vectors.append(validation_documents_reps[validation_doc_id])\n",
    "            validation_labels.append([classf for classf in doc_classification_map[validation_doc_id] if classf in sections])\n",
    "        validation_vectors_matrix = np.array(validation_vectors)\n",
    "        pickle.dump(validation_vectors_matrix, open(os.path.join(doc2vec_model_save_location, GLOBAL_VARS.MODEL_NAME, VALIDATION_MATRIX), 'w'))\n",
    "    \n",
    "    return validation_vectors_matrix"
   ]
  },
  {
   "cell_type": "code",
   "execution_count": 15,
   "metadata": {
    "collapsed": true
   },
   "outputs": [],
   "source": [
    "def get_validation_docs_with_inference_new(doc2vec_model, doc_classification_map, classifications, \n",
    "                                           val_docs_list, val_preprocessed_files_prefix, val_preprocessed_docids_files_prefix):\n",
    "    \"\"\"\n",
    "    Use the trained doc2vec model to get the paragraph vector representations of the validation documents\n",
    "    \"\"\"\n",
    "\n",
    "    def infer_one_doc(doc_tuple):\n",
    "        #doc2vec_model.random = np.random.RandomState(DOC2VEC_SEED)\n",
    "        doc_id, doc_tokens = doc_tuple\n",
    "        rep = doc2vec_model.infer_vector(doc_tokens)\n",
    "        return (doc_id, rep)\n",
    "\n",
    "    one_hot_encoder = OneHotEncoder(classifications)\n",
    "    if os.path.exists(os.path.join(doc2vec_model_save_location, GLOBAL_VARS.MODEL_NAME, VALIDATION_MATRIX)):\n",
    "        info(\"===== Loading validation vectors\")\n",
    "        validation_labels = []\n",
    "        validation_vectors_matrix = pickle.load(open(os.path.join(doc2vec_model_save_location, GLOBAL_VARS.MODEL_NAME, VALIDATION_MATRIX)))\n",
    "        for validation_doc_id in val_docs_list:\n",
    "            val_labels = [classf for classf in doc_classification_map[validation_doc_id] if classf in classifications]\n",
    "            validation_labels.append(one_hot_encoder.get_label_vector(val_labels))\n",
    "        validation_labels = np.array(validation_labels)\n",
    "    else:\n",
    "        validation_documents_reps = {}\n",
    "        validation_vectors = []\n",
    "        validation_labels = []\n",
    "        info(\"===== Getting validation vectors with inference\")\n",
    "\n",
    "        # Single-threaded inference\n",
    "        # do inference and store results in dict\n",
    "#         i = 0\n",
    "        \n",
    "#         validation_docs_iterator = DocumentBatchGenerator(val_preprocessed_files_prefix, \n",
    "#                                                         val_preprocessed_docids_files_prefix, batch_size=None)\n",
    "#         for (doc_id, doc_contents_array) in validation_docs_iterator:\n",
    "#             i += 1\n",
    "#             if i % 1000 == 0: info(\"Finished: {}\".format(str(i)))\n",
    "#             validation_documents_reps[doc_id] = doc2vec_model.infer_vector(doc_contents_array)\n",
    "        \n",
    "        # Multi-threaded inference\n",
    "        validation_docs_iterator = DocumentBatchGenerator(validation_preprocessed_files_prefix, \n",
    "                                                          validation_preprocessed_docids_files_prefix, batch_size=None)\n",
    "        generator_func = validation_docs_iterator.__iter__()\n",
    "        pool = ThreadPool(NUM_CORES)\n",
    "        # map consumes the whole iterator on the spot, so we have to use itertools.islice to fake mini-batching\n",
    "        validation_documents_reps = {}\n",
    "        mini_batch_size = 1000\n",
    "        while True:\n",
    "            threaded_reps_partial = pool.map(infer_one_doc, itertools.islice(generator_func, mini_batch_size))\n",
    "            info(\"Finished: {}\".format(str(validation_docs_iterator.curr_index)))\n",
    "            if threaded_reps_partial:\n",
    "                #threaded_reps.extend(threaded_reps_partial)\n",
    "                validation_documents_reps.update(threaded_reps_partial)\n",
    "            else:\n",
    "                break\n",
    "\n",
    "                \n",
    "        # create matrix for the validation vectors\n",
    "        for validation_doc_id in val_docs_list:\n",
    "            validation_vectors.append(validation_documents_reps[validation_doc_id])\n",
    "            val_labels = [classf for classf in doc_classification_map[validation_doc_id] if classf in classifications]\n",
    "            validation_labels.append(one_hot_encoder.get_label_vector(val_labels))\n",
    "        validation_vectors_matrix = np.array(validation_vectors)\n",
    "        validation_labels = np.array(validation_labels)\n",
    "        pickle.dump(validation_vectors_matrix, open(os.path.join(doc2vec_model_save_location, GLOBAL_VARS.MODEL_NAME, VALIDATION_MATRIX), 'w'))\n",
    "    \n",
    "    return validation_vectors_matrix, validation_labels"
   ]
  },
  {
   "cell_type": "code",
   "execution_count": 16,
   "metadata": {
    "collapsed": true
   },
   "outputs": [],
   "source": [
    "def get_validation_doc2vec_spark_vectors(validation_vectors_matrix, classification, doc_classification_map):\n",
    "    validation_vectors = []\n",
    "    for (index, doc_id) in enumerate(validation_docs_list):\n",
    "        # converting from memmap to a normal array as spark is unable to convert memmap to a spark Vector\n",
    "        validation_vector = validation_vectors_matrix[index]\n",
    "        validation_vectors.append(get_training_vector(classification, validation_vector, \n",
    "                                                    doc_classification_map[doc_id]))\n",
    "    validation_vectors = sc.parallelize(validation_vectors)\n",
    "    info(\"Finished getting validation vectors\")\n",
    "    return validation_vectors"
   ]
  },
  {
   "cell_type": "code",
   "execution_count": 17,
   "metadata": {
    "collapsed": true
   },
   "outputs": [],
   "source": [
    "class OneHotEncoder():\n",
    "    \n",
    "    def __init__(self, classifications):\n",
    "        self.classifications = classifications\n",
    "        self.one_hot_indices = {}\n",
    "\n",
    "        # convert character classifications to bit vectors\n",
    "        for i, clssf in enumerate(classifications):\n",
    "            bits = [0] * len(classifications)\n",
    "            bits[i] = 1\n",
    "            self.one_hot_indices[clssf] = i\n",
    "    \n",
    "    def get_label_vector(self, labels):\n",
    "        \"\"\"\n",
    "        classes: array of string with the classes assigned to the instance\n",
    "        \"\"\"\n",
    "        output_vector = [0] * len(self.classifications)\n",
    "        for label in labels:\n",
    "            index = self.one_hot_indices[label]\n",
    "            output_vector[index] = 1\n",
    "            \n",
    "        return output_vector\n",
    "\n",
    "def get_training_data(doc2vec_model, classifications):\n",
    "    one_hot_encoder = OneHotEncoder(classifications)\n",
    "    training_data = []\n",
    "    training_labels = []\n",
    "    for doc_id in training_docs_list:\n",
    "        # converting from memmap to a normal array\n",
    "        normal_array = []\n",
    "        normal_array[:] = doc2vec_model.docvecs[doc_id][:]\n",
    "        training_data.append(normal_array)\n",
    "        eligible_classifications = [clssf for clssf in doc_classification_map[doc_id] if clssf in classifications]\n",
    "        training_labels.append(one_hot_encoder.get_label_vector(eligible_classifications))\n",
    "    training_labels = np.array(training_labels)\n",
    "    return training_data, training_labels"
   ]
  },
  {
   "cell_type": "code",
   "execution_count": 18,
   "metadata": {
    "collapsed": false
   },
   "outputs": [],
   "source": [
    "class TrainingDocumentGenerator(object):\n",
    "    def __init__(self, filename, training_docs_list):\n",
    "        self.filename = filename\n",
    "        self.training_docs_list = training_docs_list\n",
    "    def __iter__(self):\n",
    "        with open(self.filename) as file_obj:\n",
    "            for line in file_obj:\n",
    "                if not line.strip(): continue\n",
    "                (doc_id, text) = eval(line)\n",
    "                if doc_id in self.training_docs_list:\n",
    "                    yield LabeledSentence(words=stemtokenizer(text), tags=[doc_id])\n",
    "                    \n",
    "class DocumentBatchGenerator(object):\n",
    "    def __init__(self, filename_prefix, filename_docids_prefix, batch_size=10000 ):\n",
    "        \"\"\"\n",
    "        batch_size cant be > 10,000 due to a limitation in doc2vec training, \n",
    "        None means no batching (only use for inference)\n",
    "        \"\"\"\n",
    "        assert batch_size <= 10000 or batch_size is None\n",
    "        self.filename_prefix = filename_prefix\n",
    "        self.filename_docids_prefix = filename_docids_prefix\n",
    "        self.curr_lines = []\n",
    "        self.curr_docids = []\n",
    "        self.batch_size = batch_size\n",
    "        self.curr_index = 0\n",
    "        self.batch_end = -1\n",
    "    def load_new_batch_in_memory(self):\n",
    "        del self.curr_lines, self.curr_docids\n",
    "        self.curr_lines, self.docids = [], []\n",
    "        info(\"Loading new batch for index: {}\".format(self.curr_index) )\n",
    "        try:\n",
    "            with open(self.filename_prefix + str(self.curr_index)) as preproc_file:\n",
    "                for line in preproc_file:\n",
    "                    self.curr_lines.append(line.split(\" \"))\n",
    "#                     if i % 1000 == 0:\n",
    "#                         print i\n",
    "            self.curr_docids = pickle.load(open(self.filename_docids_prefix + str(self.curr_index), \"r\"))\n",
    "            self.batch_end = self.curr_index + len(self.curr_lines) -1 \n",
    "            info(\"Finished loading new batch\")\n",
    "        except IOError:\n",
    "            info(\"No more batches to load, exiting at index: {}\".format(self.curr_index))\n",
    "            raise StopIteration()\n",
    "    def __iter__(self):\n",
    "        while True:\n",
    "            if self.curr_index > self.batch_end:\n",
    "                self.load_new_batch_in_memory()\n",
    "            for (doc_id, tokens) in zip(self.curr_docids, self.curr_lines):\n",
    "                if self.batch_size is not None:\n",
    "                    curr_batch_iter = 0\n",
    "                    # divide the document to batches according to the batch size\n",
    "                    while curr_batch_iter < len(tokens):\n",
    "                        yield LabeledSentence(words=tokens[curr_batch_iter: curr_batch_iter + self.batch_size], tags=[doc_id])\n",
    "                        curr_batch_iter += self.batch_size\n",
    "                else:\n",
    "                    yield doc_id, tokens\n",
    "                self.curr_index += 1\n",
    "\n",
    "class Word2VecTrainingDocumentGenerator(object):\n",
    "    def __init__(self, filename, training_docs_list):\n",
    "        self.filename = filename\n",
    "        self.training_docs_list = training_docs_list\n",
    "    def __iter__(self):\n",
    "        with open(self.filename) as file_obj:\n",
    "            for line in file_obj:\n",
    "                if not line.strip(): continue\n",
    "                (doc_id, text) = eval(line)\n",
    "                if doc_id in self.training_docs_list:\n",
    "                    yield stemtokenizer(text)\n",
    "                \n",
    "class ValidationDocumentGenerator(object):\n",
    "    def __init__(self, filename, validation_docs_list):\n",
    "        self.filename = filename\n",
    "        self.validation_docs_list = validation_docs_list\n",
    "    def __iter__(self):\n",
    "        with open(self.filename) as file_obj:\n",
    "            for line in file_obj:\n",
    "                if not line.strip(): continue\n",
    "                (doc_id, text) = eval(line)\n",
    "                if doc_id in self.validation_docs_list:\n",
    "                    yield doc_id, stemtokenizer(text)\n",
    "                    \n",
    "class StochasticDocumentGenerator(object):\n",
    "    \"\"\"\n",
    "    Randomly shuffle rows while reading them\n",
    "    \"\"\"\n",
    "    def __init__(self, filename, training_docs_list, line_positions):\n",
    "        self.filename = filename\n",
    "        self.training_docs_list = training_docs_list\n",
    "        self.line_positions = line_positions\n",
    "        self.lines = set(line_positions.keys())\n",
    "    def __iter__(self):\n",
    "        with open(self.filename) as file_obj:\n",
    "            while len(self.lines) > 0:\n",
    "                random_line = random.sample(self.lines,1)[0]\n",
    "                self.lines.remove(random_line)\n",
    "                file_obj.seek(self.line_positions[random_line])\n",
    "                line = file_obj.readline()\n",
    "                if not line.strip(): continue\n",
    "#                 print random_line, self.line_positions[random_line], line[:30]\n",
    "                (doc_id, text) = eval(line)\n",
    "                # print random_line , doc_id\n",
    "                if doc_id in self.training_docs_list:\n",
    "                    yield LabeledSentence(words=stemtokenizer(text), tags=[doc_id])\n",
    "#                     yield doc_id"
   ]
  },
  {
   "cell_type": "markdown",
   "metadata": {},
   "source": [
    "### Doc2vec and SVM Parameters"
   ]
  },
  {
   "cell_type": "code",
   "execution_count": 29,
   "metadata": {
    "collapsed": true
   },
   "outputs": [],
   "source": [
    "DOC2VEC_SIZE = 100\n",
    "DOC2VEC_WINDOW = 8\n",
    "DOC2VEC_MAX_VOCAB_SIZE = None\n",
    "DOC2VEC_SAMPLE = 1e-3\n",
    "DOC2VEC_TYPE = 1\n",
    "DOC2VEC_HIERARCHICAL_SAMPLE = 0\n",
    "DOC2VEC_NEGATIVE_SAMPLE_SIZE = 10\n",
    "DOC2VEC_CONCAT = 1\n",
    "DOC2VEC_MEAN = 0\n",
    "DOC2VEC_TRAIN_WORDS = 0\n",
    "DOC2VEC_EPOCHS = 1 # we do our training manually one epoch at a time\n",
    "DOC2VEC_MAX_EPOCHS = 20\n",
    "REPORT_DELAY = 20 # report the progress every x seconds\n",
    "REPORT_VOCAB_PROGRESS = 10000 # report vocab progress every x documents"
   ]
  },
  {
   "cell_type": "code",
   "execution_count": 30,
   "metadata": {
    "collapsed": false
   },
   "outputs": [],
   "source": [
    "SVM_ITERATIONS = 100\n",
    "SVM_CONVERGENCE = 0.001\n",
    "SVM_REG = 0.001\n",
    "SVM_CLASS_WEIGHTS = None\n",
    "GLOBAL_VARS.SVM_MODEL_NAME = 'svm_iter_{}_reg_{}_classweights_{}'.format(SVM_ITERATIONS, SVM_REG, str(SVM_CLASS_WEIGHTS))"
   ]
  },
  {
   "cell_type": "code",
   "execution_count": 21,
   "metadata": {
    "collapsed": true
   },
   "outputs": [],
   "source": [
    "def get_svm_model_path(method, classification, reg=SVM_REG, iterations=SVM_ITERATIONS):\n",
    "    location = os.path.join(save_parent_location, \"models\", method, \n",
    "                            \"iter_\" + str(iterations) + \"_reg_\" + str(reg),\n",
    "                            classification + \"_model.svm\")\n",
    "    ensure_hdfs_location_exists(location)\n",
    "    return location"
   ]
  },
  {
   "cell_type": "markdown",
   "metadata": {},
   "source": [
    "## Create the Doc2vec model"
   ]
  },
  {
   "cell_type": "code",
   "execution_count": 31,
   "metadata": {
    "collapsed": false
   },
   "outputs": [
    {
     "data": {
      "text/plain": [
       "'doc2vec_size_100_w_8_type_dm_concat_1_mean_0_trainwords_0_hs_0_neg_10_vocabsize_None/epoch_{}'"
      ]
     },
     "execution_count": 31,
     "metadata": {},
     "output_type": "execute_result"
    }
   ],
   "source": [
    "placeholder_model_name = 'doc2vec_size_{}_w_{}_type_{}_concat_{}_mean_{}_trainwords_{}_hs_{}_neg_{}_vocabsize_{}'.format(DOC2VEC_SIZE, \n",
    "                                                                DOC2VEC_WINDOW, \n",
    "                                                                'dm' if DOC2VEC_TYPE == 1 else 'pv-dbow',\n",
    "                                                                DOC2VEC_CONCAT, DOC2VEC_MEAN,\n",
    "                                                                DOC2VEC_TRAIN_WORDS,\n",
    "                                                                DOC2VEC_HIERARCHICAL_SAMPLE,DOC2VEC_NEGATIVE_SAMPLE_SIZE,\n",
    "                                                                str(DOC2VEC_MAX_VOCAB_SIZE))\n",
    "GLOBAL_VARS.DOC2VEC_MODEL_NAME = placeholder_model_name\n",
    "placeholder_model_name = os.path.join(placeholder_model_name, \"epoch_{}\")\n",
    "placeholder_model_name"
   ]
  },
  {
   "cell_type": "code",
   "execution_count": 32,
   "metadata": {
    "collapsed": false
   },
   "outputs": [],
   "source": [
    "doc2vec_model = Doc2Vec(size=DOC2VEC_SIZE , window=DOC2VEC_WINDOW, min_count=MIN_WORD_COUNT, \n",
    "                max_vocab_size= DOC2VEC_MAX_VOCAB_SIZE,\n",
    "                sample=DOC2VEC_SAMPLE, seed=DOC2VEC_SEED, workers=NUM_CORES,\n",
    "                # doc2vec algorithm dm=1 => PV-DM, dm=2 => PV-DBOW, PV-DM dictates CBOW for words\n",
    "                dm=DOC2VEC_TYPE,\n",
    "                # hs=0 => negative sampling, hs=1 => hierarchical softmax\n",
    "                hs=DOC2VEC_HIERARCHICAL_SAMPLE, negative=DOC2VEC_NEGATIVE_SAMPLE_SIZE,\n",
    "                dm_concat=DOC2VEC_CONCAT,\n",
    "                # would train words with skip-gram on top of cbow, we don't need that for now\n",
    "                dbow_words=DOC2VEC_TRAIN_WORDS,\n",
    "                iter=DOC2VEC_EPOCHS)\n",
    "\n",
    "GLOBAL_VARS.DOC2VEC_MODEL = doc2vec_model"
   ]
  },
  {
   "cell_type": "code",
   "execution_count": 24,
   "metadata": {
    "collapsed": false
   },
   "outputs": [
    {
     "name": "stderr",
     "output_type": "stream",
     "text": [
      "2017-01-20 15:25:55,579 : INFO : loading Doc2Vec object from /mnt/data2/shalaby/parameter_search_doc2vec_models_new/full/vocab_model/model\n",
      "2017-01-20 15:26:18,987 : INFO : loading docvecs recursively from /mnt/data2/shalaby/parameter_search_doc2vec_models_new/full/vocab_model/model.docvecs.* with mmap=None\n",
      "2017-01-20 15:26:18,994 : INFO : loading doctag_syn0 from /mnt/data2/shalaby/parameter_search_doc2vec_models_new/full/vocab_model/model.docvecs.doctag_syn0.npy with mmap=None\n",
      "2017-01-20 15:26:24,017 : INFO : loading syn1neg from /mnt/data2/shalaby/parameter_search_doc2vec_models_new/full/vocab_model/model.syn1neg.npy with mmap=None\n",
      "2017-01-20 15:26:48,060 : INFO : loading syn0 from /mnt/data2/shalaby/parameter_search_doc2vec_models_new/full/vocab_model/model.syn0.npy with mmap=None\n",
      "2017-01-20 15:26:48,842 : INFO : setting ignored attribute syn0norm to None\n",
      "2017-01-20 15:26:48,844 : INFO : setting ignored attribute cum_table to None\n",
      "2017-01-20 15:26:49,840 : INFO : using concatenative 1700-dimensional layer1\n",
      "2017-01-20 15:26:49,842 : INFO : resetting layer weights\n"
     ]
    },
    {
     "name": "stdout",
     "output_type": "stream",
     "text": [
      "CPU times: user 50.7 s, sys: 38.2 s, total: 1min 28s\n",
      "Wall time: 1min 45s\n"
     ]
    }
   ],
   "source": [
    "%%time\n",
    "training_docs_iterator = DocumentBatchGenerator(training_preprocessed_files_prefix, \n",
    "                                                        training_preprocessed_docids_files_prefix, batch_size=10000)\n",
    "if not os.path.exists(os.path.join(doc2vec_model_save_location, VOCAB_MODEL, MODEL_PREFIX)):\n",
    "    doc2vec_model.build_vocab(sentences=training_docs_iterator, progress_per=REPORT_VOCAB_PROGRESS)\n",
    "    doc2vec_model.save(os.path.join(doc2vec_model_save_location, VOCAB_MODEL, MODEL_PREFIX))\n",
    "else:\n",
    "    doc2vec_model_vocab_model = Doc2Vec.load(os.path.join(doc2vec_model_save_location, VOCAB_MODEL, MODEL_PREFIX))\n",
    "    doc2vec_model.reset_from(doc2vec_model_vocab_model)"
   ]
  },
  {
   "cell_type": "code",
   "execution_count": 25,
   "metadata": {
    "collapsed": true
   },
   "outputs": [],
   "source": [
    "# vocab_counts = {k:doc2vec_model.vocab[k].count for k in doc2vec_model.vocab.keys()}\n",
    "# dd = sorted(vocab_counts, key=vocab_counts.get)"
   ]
  },
  {
   "cell_type": "markdown",
   "metadata": {},
   "source": [
    "## Actual Training, validation and Metrics Loop"
   ]
  },
  {
   "cell_type": "code",
   "execution_count": 33,
   "metadata": {
    "collapsed": true
   },
   "outputs": [],
   "source": [
    "doc2vec_model.min_alpha = 0.025\n",
    "epoch_validation_metrics = []\n",
    "epoch_training_metrics = []\n",
    "epoch_word2vec_metrics = []\n",
    "classifications = sections\n",
    "classifications_type = 'sections'"
   ]
  },
  {
   "cell_type": "code",
   "execution_count": 34,
   "metadata": {
    "collapsed": true
   },
   "outputs": [],
   "source": [
    "VALIDATION_METRICS_FILENAME= '{}_validation_metrics.pkl'.format(classifications_type)\n",
    "TRAINING_METRICS_FILENAME = '{}_training_metrics.pkl'.format(classifications_type)\n",
    "METRICS_FIG_PNG_FILENAME = '{}_validation_metrics.png'.format(classifications_type)\n",
    "METRICS_FIG_PDF_FILENAME = '{}_validation_metrics.pdf'.format(classifications_type)\n",
    "WORD2VEC_METRICS_FILENAME = 'word2vec_metrics.pkl'\n",
    "\n",
    "# for epoch in range(DOC2VEC_MAX_EPOCHS):\n",
    "#     GLOBAL_VARS.MODEL_NAME = placeholder_model_name.format(epoch)\n",
    "#     ensure_disk_location_exists(os.path.join(doc2vec_model_save_location, GLOBAL_VARS.MODEL_NAME, \n",
    "#                                              GLOBAL_VARS.SVM_MODEL_NAME))\n",
    "#     pickle.dump(metrics, open(os.path.join(doc2vec_model_save_location, GLOBAL_VARS.MODEL_NAME, GLOBAL_VARS.SVM_MODEL_NAME, METRICS), 'w'))\n",
    "# fig_save_location = placeholder_model_name.format('run')\n",
    "# plt.savefig(os.path.join(fig_save_location))"
   ]
  },
  {
   "cell_type": "code",
   "execution_count": null,
   "metadata": {
    "collapsed": false,
    "scrolled": false
   },
   "outputs": [
    {
     "data": {
      "application/javascript": [
       "/* Put everything inside the global mpl namespace */\n",
       "window.mpl = {};\n",
       "\n",
       "mpl.get_websocket_type = function() {\n",
       "    if (typeof(WebSocket) !== 'undefined') {\n",
       "        return WebSocket;\n",
       "    } else if (typeof(MozWebSocket) !== 'undefined') {\n",
       "        return MozWebSocket;\n",
       "    } else {\n",
       "        alert('Your browser does not have WebSocket support.' +\n",
       "              'Please try Chrome, Safari or Firefox ≥ 6. ' +\n",
       "              'Firefox 4 and 5 are also supported but you ' +\n",
       "              'have to enable WebSockets in about:config.');\n",
       "    };\n",
       "}\n",
       "\n",
       "mpl.figure = function(figure_id, websocket, ondownload, parent_element) {\n",
       "    this.id = figure_id;\n",
       "\n",
       "    this.ws = websocket;\n",
       "\n",
       "    this.supports_binary = (this.ws.binaryType != undefined);\n",
       "\n",
       "    if (!this.supports_binary) {\n",
       "        var warnings = document.getElementById(\"mpl-warnings\");\n",
       "        if (warnings) {\n",
       "            warnings.style.display = 'block';\n",
       "            warnings.textContent = (\n",
       "                \"This browser does not support binary websocket messages. \" +\n",
       "                    \"Performance may be slow.\");\n",
       "        }\n",
       "    }\n",
       "\n",
       "    this.imageObj = new Image();\n",
       "\n",
       "    this.context = undefined;\n",
       "    this.message = undefined;\n",
       "    this.canvas = undefined;\n",
       "    this.rubberband_canvas = undefined;\n",
       "    this.rubberband_context = undefined;\n",
       "    this.format_dropdown = undefined;\n",
       "\n",
       "    this.image_mode = 'full';\n",
       "\n",
       "    this.root = $('<div/>');\n",
       "    this._root_extra_style(this.root)\n",
       "    this.root.attr('style', 'display: inline-block');\n",
       "\n",
       "    $(parent_element).append(this.root);\n",
       "\n",
       "    this._init_header(this);\n",
       "    this._init_canvas(this);\n",
       "    this._init_toolbar(this);\n",
       "\n",
       "    var fig = this;\n",
       "\n",
       "    this.waiting = false;\n",
       "\n",
       "    this.ws.onopen =  function () {\n",
       "            fig.send_message(\"supports_binary\", {value: fig.supports_binary});\n",
       "            fig.send_message(\"send_image_mode\", {});\n",
       "            fig.send_message(\"refresh\", {});\n",
       "        }\n",
       "\n",
       "    this.imageObj.onload = function() {\n",
       "            if (fig.image_mode == 'full') {\n",
       "                // Full images could contain transparency (where diff images\n",
       "                // almost always do), so we need to clear the canvas so that\n",
       "                // there is no ghosting.\n",
       "                fig.context.clearRect(0, 0, fig.canvas.width, fig.canvas.height);\n",
       "            }\n",
       "            fig.context.drawImage(fig.imageObj, 0, 0);\n",
       "        };\n",
       "\n",
       "    this.imageObj.onunload = function() {\n",
       "        this.ws.close();\n",
       "    }\n",
       "\n",
       "    this.ws.onmessage = this._make_on_message_function(this);\n",
       "\n",
       "    this.ondownload = ondownload;\n",
       "}\n",
       "\n",
       "mpl.figure.prototype._init_header = function() {\n",
       "    var titlebar = $(\n",
       "        '<div class=\"ui-dialog-titlebar ui-widget-header ui-corner-all ' +\n",
       "        'ui-helper-clearfix\"/>');\n",
       "    var titletext = $(\n",
       "        '<div class=\"ui-dialog-title\" style=\"width: 100%; ' +\n",
       "        'text-align: center; padding: 3px;\"/>');\n",
       "    titlebar.append(titletext)\n",
       "    this.root.append(titlebar);\n",
       "    this.header = titletext[0];\n",
       "}\n",
       "\n",
       "\n",
       "\n",
       "mpl.figure.prototype._canvas_extra_style = function(canvas_div) {\n",
       "\n",
       "}\n",
       "\n",
       "\n",
       "mpl.figure.prototype._root_extra_style = function(canvas_div) {\n",
       "\n",
       "}\n",
       "\n",
       "mpl.figure.prototype._init_canvas = function() {\n",
       "    var fig = this;\n",
       "\n",
       "    var canvas_div = $('<div/>');\n",
       "\n",
       "    canvas_div.attr('style', 'position: relative; clear: both; outline: 0');\n",
       "\n",
       "    function canvas_keyboard_event(event) {\n",
       "        return fig.key_event(event, event['data']);\n",
       "    }\n",
       "\n",
       "    canvas_div.keydown('key_press', canvas_keyboard_event);\n",
       "    canvas_div.keyup('key_release', canvas_keyboard_event);\n",
       "    this.canvas_div = canvas_div\n",
       "    this._canvas_extra_style(canvas_div)\n",
       "    this.root.append(canvas_div);\n",
       "\n",
       "    var canvas = $('<canvas/>');\n",
       "    canvas.addClass('mpl-canvas');\n",
       "    canvas.attr('style', \"left: 0; top: 0; z-index: 0; outline: 0\")\n",
       "\n",
       "    this.canvas = canvas[0];\n",
       "    this.context = canvas[0].getContext(\"2d\");\n",
       "\n",
       "    var rubberband = $('<canvas/>');\n",
       "    rubberband.attr('style', \"position: absolute; left: 0; top: 0; z-index: 1;\")\n",
       "\n",
       "    var pass_mouse_events = true;\n",
       "\n",
       "    canvas_div.resizable({\n",
       "        start: function(event, ui) {\n",
       "            pass_mouse_events = false;\n",
       "        },\n",
       "        resize: function(event, ui) {\n",
       "            fig.request_resize(ui.size.width, ui.size.height);\n",
       "        },\n",
       "        stop: function(event, ui) {\n",
       "            pass_mouse_events = true;\n",
       "            fig.request_resize(ui.size.width, ui.size.height);\n",
       "        },\n",
       "    });\n",
       "\n",
       "    function mouse_event_fn(event) {\n",
       "        if (pass_mouse_events)\n",
       "            return fig.mouse_event(event, event['data']);\n",
       "    }\n",
       "\n",
       "    rubberband.mousedown('button_press', mouse_event_fn);\n",
       "    rubberband.mouseup('button_release', mouse_event_fn);\n",
       "    // Throttle sequential mouse events to 1 every 20ms.\n",
       "    rubberband.mousemove('motion_notify', mouse_event_fn);\n",
       "\n",
       "    rubberband.mouseenter('figure_enter', mouse_event_fn);\n",
       "    rubberband.mouseleave('figure_leave', mouse_event_fn);\n",
       "\n",
       "    canvas_div.on(\"wheel\", function (event) {\n",
       "        event = event.originalEvent;\n",
       "        event['data'] = 'scroll'\n",
       "        if (event.deltaY < 0) {\n",
       "            event.step = 1;\n",
       "        } else {\n",
       "            event.step = -1;\n",
       "        }\n",
       "        mouse_event_fn(event);\n",
       "    });\n",
       "\n",
       "    canvas_div.append(canvas);\n",
       "    canvas_div.append(rubberband);\n",
       "\n",
       "    this.rubberband = rubberband;\n",
       "    this.rubberband_canvas = rubberband[0];\n",
       "    this.rubberband_context = rubberband[0].getContext(\"2d\");\n",
       "    this.rubberband_context.strokeStyle = \"#000000\";\n",
       "\n",
       "    this._resize_canvas = function(width, height) {\n",
       "        // Keep the size of the canvas, canvas container, and rubber band\n",
       "        // canvas in synch.\n",
       "        canvas_div.css('width', width)\n",
       "        canvas_div.css('height', height)\n",
       "\n",
       "        canvas.attr('width', width);\n",
       "        canvas.attr('height', height);\n",
       "\n",
       "        rubberband.attr('width', width);\n",
       "        rubberband.attr('height', height);\n",
       "    }\n",
       "\n",
       "    // Set the figure to an initial 600x600px, this will subsequently be updated\n",
       "    // upon first draw.\n",
       "    this._resize_canvas(600, 600);\n",
       "\n",
       "    // Disable right mouse context menu.\n",
       "    $(this.rubberband_canvas).bind(\"contextmenu\",function(e){\n",
       "        return false;\n",
       "    });\n",
       "\n",
       "    function set_focus () {\n",
       "        canvas.focus();\n",
       "        canvas_div.focus();\n",
       "    }\n",
       "\n",
       "    window.setTimeout(set_focus, 100);\n",
       "}\n",
       "\n",
       "mpl.figure.prototype._init_toolbar = function() {\n",
       "    var fig = this;\n",
       "\n",
       "    var nav_element = $('<div/>')\n",
       "    nav_element.attr('style', 'width: 100%');\n",
       "    this.root.append(nav_element);\n",
       "\n",
       "    // Define a callback function for later on.\n",
       "    function toolbar_event(event) {\n",
       "        return fig.toolbar_button_onclick(event['data']);\n",
       "    }\n",
       "    function toolbar_mouse_event(event) {\n",
       "        return fig.toolbar_button_onmouseover(event['data']);\n",
       "    }\n",
       "\n",
       "    for(var toolbar_ind in mpl.toolbar_items) {\n",
       "        var name = mpl.toolbar_items[toolbar_ind][0];\n",
       "        var tooltip = mpl.toolbar_items[toolbar_ind][1];\n",
       "        var image = mpl.toolbar_items[toolbar_ind][2];\n",
       "        var method_name = mpl.toolbar_items[toolbar_ind][3];\n",
       "\n",
       "        if (!name) {\n",
       "            // put a spacer in here.\n",
       "            continue;\n",
       "        }\n",
       "        var button = $('<button/>');\n",
       "        button.addClass('ui-button ui-widget ui-state-default ui-corner-all ' +\n",
       "                        'ui-button-icon-only');\n",
       "        button.attr('role', 'button');\n",
       "        button.attr('aria-disabled', 'false');\n",
       "        button.click(method_name, toolbar_event);\n",
       "        button.mouseover(tooltip, toolbar_mouse_event);\n",
       "\n",
       "        var icon_img = $('<span/>');\n",
       "        icon_img.addClass('ui-button-icon-primary ui-icon');\n",
       "        icon_img.addClass(image);\n",
       "        icon_img.addClass('ui-corner-all');\n",
       "\n",
       "        var tooltip_span = $('<span/>');\n",
       "        tooltip_span.addClass('ui-button-text');\n",
       "        tooltip_span.html(tooltip);\n",
       "\n",
       "        button.append(icon_img);\n",
       "        button.append(tooltip_span);\n",
       "\n",
       "        nav_element.append(button);\n",
       "    }\n",
       "\n",
       "    var fmt_picker_span = $('<span/>');\n",
       "\n",
       "    var fmt_picker = $('<select/>');\n",
       "    fmt_picker.addClass('mpl-toolbar-option ui-widget ui-widget-content');\n",
       "    fmt_picker_span.append(fmt_picker);\n",
       "    nav_element.append(fmt_picker_span);\n",
       "    this.format_dropdown = fmt_picker[0];\n",
       "\n",
       "    for (var ind in mpl.extensions) {\n",
       "        var fmt = mpl.extensions[ind];\n",
       "        var option = $(\n",
       "            '<option/>', {selected: fmt === mpl.default_extension}).html(fmt);\n",
       "        fmt_picker.append(option)\n",
       "    }\n",
       "\n",
       "    // Add hover states to the ui-buttons\n",
       "    $( \".ui-button\" ).hover(\n",
       "        function() { $(this).addClass(\"ui-state-hover\");},\n",
       "        function() { $(this).removeClass(\"ui-state-hover\");}\n",
       "    );\n",
       "\n",
       "    var status_bar = $('<span class=\"mpl-message\"/>');\n",
       "    nav_element.append(status_bar);\n",
       "    this.message = status_bar[0];\n",
       "}\n",
       "\n",
       "mpl.figure.prototype.request_resize = function(x_pixels, y_pixels) {\n",
       "    // Request matplotlib to resize the figure. Matplotlib will then trigger a resize in the client,\n",
       "    // which will in turn request a refresh of the image.\n",
       "    this.send_message('resize', {'width': x_pixels, 'height': y_pixels});\n",
       "}\n",
       "\n",
       "mpl.figure.prototype.send_message = function(type, properties) {\n",
       "    properties['type'] = type;\n",
       "    properties['figure_id'] = this.id;\n",
       "    this.ws.send(JSON.stringify(properties));\n",
       "}\n",
       "\n",
       "mpl.figure.prototype.send_draw_message = function() {\n",
       "    if (!this.waiting) {\n",
       "        this.waiting = true;\n",
       "        this.ws.send(JSON.stringify({type: \"draw\", figure_id: this.id}));\n",
       "    }\n",
       "}\n",
       "\n",
       "\n",
       "mpl.figure.prototype.handle_save = function(fig, msg) {\n",
       "    var format_dropdown = fig.format_dropdown;\n",
       "    var format = format_dropdown.options[format_dropdown.selectedIndex].value;\n",
       "    fig.ondownload(fig, format);\n",
       "}\n",
       "\n",
       "\n",
       "mpl.figure.prototype.handle_resize = function(fig, msg) {\n",
       "    var size = msg['size'];\n",
       "    if (size[0] != fig.canvas.width || size[1] != fig.canvas.height) {\n",
       "        fig._resize_canvas(size[0], size[1]);\n",
       "        fig.send_message(\"refresh\", {});\n",
       "    };\n",
       "}\n",
       "\n",
       "mpl.figure.prototype.handle_rubberband = function(fig, msg) {\n",
       "    var x0 = msg['x0'];\n",
       "    var y0 = fig.canvas.height - msg['y0'];\n",
       "    var x1 = msg['x1'];\n",
       "    var y1 = fig.canvas.height - msg['y1'];\n",
       "    x0 = Math.floor(x0) + 0.5;\n",
       "    y0 = Math.floor(y0) + 0.5;\n",
       "    x1 = Math.floor(x1) + 0.5;\n",
       "    y1 = Math.floor(y1) + 0.5;\n",
       "    var min_x = Math.min(x0, x1);\n",
       "    var min_y = Math.min(y0, y1);\n",
       "    var width = Math.abs(x1 - x0);\n",
       "    var height = Math.abs(y1 - y0);\n",
       "\n",
       "    fig.rubberband_context.clearRect(\n",
       "        0, 0, fig.canvas.width, fig.canvas.height);\n",
       "\n",
       "    fig.rubberband_context.strokeRect(min_x, min_y, width, height);\n",
       "}\n",
       "\n",
       "mpl.figure.prototype.handle_figure_label = function(fig, msg) {\n",
       "    // Updates the figure title.\n",
       "    fig.header.textContent = msg['label'];\n",
       "}\n",
       "\n",
       "mpl.figure.prototype.handle_cursor = function(fig, msg) {\n",
       "    var cursor = msg['cursor'];\n",
       "    switch(cursor)\n",
       "    {\n",
       "    case 0:\n",
       "        cursor = 'pointer';\n",
       "        break;\n",
       "    case 1:\n",
       "        cursor = 'default';\n",
       "        break;\n",
       "    case 2:\n",
       "        cursor = 'crosshair';\n",
       "        break;\n",
       "    case 3:\n",
       "        cursor = 'move';\n",
       "        break;\n",
       "    }\n",
       "    fig.rubberband_canvas.style.cursor = cursor;\n",
       "}\n",
       "\n",
       "mpl.figure.prototype.handle_message = function(fig, msg) {\n",
       "    fig.message.textContent = msg['message'];\n",
       "}\n",
       "\n",
       "mpl.figure.prototype.handle_draw = function(fig, msg) {\n",
       "    // Request the server to send over a new figure.\n",
       "    fig.send_draw_message();\n",
       "}\n",
       "\n",
       "mpl.figure.prototype.handle_image_mode = function(fig, msg) {\n",
       "    fig.image_mode = msg['mode'];\n",
       "}\n",
       "\n",
       "mpl.figure.prototype.updated_canvas_event = function() {\n",
       "    // Called whenever the canvas gets updated.\n",
       "    this.send_message(\"ack\", {});\n",
       "}\n",
       "\n",
       "// A function to construct a web socket function for onmessage handling.\n",
       "// Called in the figure constructor.\n",
       "mpl.figure.prototype._make_on_message_function = function(fig) {\n",
       "    return function socket_on_message(evt) {\n",
       "        if (evt.data instanceof Blob) {\n",
       "            /* FIXME: We get \"Resource interpreted as Image but\n",
       "             * transferred with MIME type text/plain:\" errors on\n",
       "             * Chrome.  But how to set the MIME type?  It doesn't seem\n",
       "             * to be part of the websocket stream */\n",
       "            evt.data.type = \"image/png\";\n",
       "\n",
       "            /* Free the memory for the previous frames */\n",
       "            if (fig.imageObj.src) {\n",
       "                (window.URL || window.webkitURL).revokeObjectURL(\n",
       "                    fig.imageObj.src);\n",
       "            }\n",
       "\n",
       "            fig.imageObj.src = (window.URL || window.webkitURL).createObjectURL(\n",
       "                evt.data);\n",
       "            fig.updated_canvas_event();\n",
       "            fig.waiting = false;\n",
       "            return;\n",
       "        }\n",
       "        else if (typeof evt.data === 'string' && evt.data.slice(0, 21) == \"data:image/png;base64\") {\n",
       "            fig.imageObj.src = evt.data;\n",
       "            fig.updated_canvas_event();\n",
       "            fig.waiting = false;\n",
       "            return;\n",
       "        }\n",
       "\n",
       "        var msg = JSON.parse(evt.data);\n",
       "        var msg_type = msg['type'];\n",
       "\n",
       "        // Call the  \"handle_{type}\" callback, which takes\n",
       "        // the figure and JSON message as its only arguments.\n",
       "        try {\n",
       "            var callback = fig[\"handle_\" + msg_type];\n",
       "        } catch (e) {\n",
       "            console.log(\"No handler for the '\" + msg_type + \"' message type: \", msg);\n",
       "            return;\n",
       "        }\n",
       "\n",
       "        if (callback) {\n",
       "            try {\n",
       "                // console.log(\"Handling '\" + msg_type + \"' message: \", msg);\n",
       "                callback(fig, msg);\n",
       "            } catch (e) {\n",
       "                console.log(\"Exception inside the 'handler_\" + msg_type + \"' callback:\", e, e.stack, msg);\n",
       "            }\n",
       "        }\n",
       "    };\n",
       "}\n",
       "\n",
       "// from http://stackoverflow.com/questions/1114465/getting-mouse-location-in-canvas\n",
       "mpl.findpos = function(e) {\n",
       "    //this section is from http://www.quirksmode.org/js/events_properties.html\n",
       "    var targ;\n",
       "    if (!e)\n",
       "        e = window.event;\n",
       "    if (e.target)\n",
       "        targ = e.target;\n",
       "    else if (e.srcElement)\n",
       "        targ = e.srcElement;\n",
       "    if (targ.nodeType == 3) // defeat Safari bug\n",
       "        targ = targ.parentNode;\n",
       "\n",
       "    // jQuery normalizes the pageX and pageY\n",
       "    // pageX,Y are the mouse positions relative to the document\n",
       "    // offset() returns the position of the element relative to the document\n",
       "    var x = e.pageX - $(targ).offset().left;\n",
       "    var y = e.pageY - $(targ).offset().top;\n",
       "\n",
       "    return {\"x\": x, \"y\": y};\n",
       "};\n",
       "\n",
       "/*\n",
       " * return a copy of an object with only non-object keys\n",
       " * we need this to avoid circular references\n",
       " * http://stackoverflow.com/a/24161582/3208463\n",
       " */\n",
       "function simpleKeys (original) {\n",
       "  return Object.keys(original).reduce(function (obj, key) {\n",
       "    if (typeof original[key] !== 'object')\n",
       "        obj[key] = original[key]\n",
       "    return obj;\n",
       "  }, {});\n",
       "}\n",
       "\n",
       "mpl.figure.prototype.mouse_event = function(event, name) {\n",
       "    var canvas_pos = mpl.findpos(event)\n",
       "\n",
       "    if (name === 'button_press')\n",
       "    {\n",
       "        this.canvas.focus();\n",
       "        this.canvas_div.focus();\n",
       "    }\n",
       "\n",
       "    var x = canvas_pos.x;\n",
       "    var y = canvas_pos.y;\n",
       "\n",
       "    this.send_message(name, {x: x, y: y, button: event.button,\n",
       "                             step: event.step,\n",
       "                             guiEvent: simpleKeys(event)});\n",
       "\n",
       "    /* This prevents the web browser from automatically changing to\n",
       "     * the text insertion cursor when the button is pressed.  We want\n",
       "     * to control all of the cursor setting manually through the\n",
       "     * 'cursor' event from matplotlib */\n",
       "    event.preventDefault();\n",
       "    return false;\n",
       "}\n",
       "\n",
       "mpl.figure.prototype._key_event_extra = function(event, name) {\n",
       "    // Handle any extra behaviour associated with a key event\n",
       "}\n",
       "\n",
       "mpl.figure.prototype.key_event = function(event, name) {\n",
       "\n",
       "    // Prevent repeat events\n",
       "    if (name == 'key_press')\n",
       "    {\n",
       "        if (event.which === this._key)\n",
       "            return;\n",
       "        else\n",
       "            this._key = event.which;\n",
       "    }\n",
       "    if (name == 'key_release')\n",
       "        this._key = null;\n",
       "\n",
       "    var value = '';\n",
       "    if (event.ctrlKey && event.which != 17)\n",
       "        value += \"ctrl+\";\n",
       "    if (event.altKey && event.which != 18)\n",
       "        value += \"alt+\";\n",
       "    if (event.shiftKey && event.which != 16)\n",
       "        value += \"shift+\";\n",
       "\n",
       "    value += 'k';\n",
       "    value += event.which.toString();\n",
       "\n",
       "    this._key_event_extra(event, name);\n",
       "\n",
       "    this.send_message(name, {key: value,\n",
       "                             guiEvent: simpleKeys(event)});\n",
       "    return false;\n",
       "}\n",
       "\n",
       "mpl.figure.prototype.toolbar_button_onclick = function(name) {\n",
       "    if (name == 'download') {\n",
       "        this.handle_save(this, null);\n",
       "    } else {\n",
       "        this.send_message(\"toolbar_button\", {name: name});\n",
       "    }\n",
       "};\n",
       "\n",
       "mpl.figure.prototype.toolbar_button_onmouseover = function(tooltip) {\n",
       "    this.message.textContent = tooltip;\n",
       "};\n",
       "mpl.toolbar_items = [[\"Home\", \"Reset original view\", \"fa fa-home icon-home\", \"home\"], [\"Back\", \"Back to  previous view\", \"fa fa-arrow-left icon-arrow-left\", \"back\"], [\"Forward\", \"Forward to next view\", \"fa fa-arrow-right icon-arrow-right\", \"forward\"], [\"\", \"\", \"\", \"\"], [\"Pan\", \"Pan axes with left mouse, zoom with right\", \"fa fa-arrows icon-move\", \"pan\"], [\"Zoom\", \"Zoom to rectangle\", \"fa fa-square-o icon-check-empty\", \"zoom\"], [\"\", \"\", \"\", \"\"], [\"Download\", \"Download plot\", \"fa fa-floppy-o icon-save\", \"download\"]];\n",
       "\n",
       "mpl.extensions = [\"eps\", \"pdf\", \"png\", \"ps\", \"raw\", \"svg\"];\n",
       "\n",
       "mpl.default_extension = \"png\";var comm_websocket_adapter = function(comm) {\n",
       "    // Create a \"websocket\"-like object which calls the given IPython comm\n",
       "    // object with the appropriate methods. Currently this is a non binary\n",
       "    // socket, so there is still some room for performance tuning.\n",
       "    var ws = {};\n",
       "\n",
       "    ws.close = function() {\n",
       "        comm.close()\n",
       "    };\n",
       "    ws.send = function(m) {\n",
       "        //console.log('sending', m);\n",
       "        comm.send(m);\n",
       "    };\n",
       "    // Register the callback with on_msg.\n",
       "    comm.on_msg(function(msg) {\n",
       "        //console.log('receiving', msg['content']['data'], msg);\n",
       "        // Pass the mpl event to the overriden (by mpl) onmessage function.\n",
       "        ws.onmessage(msg['content']['data'])\n",
       "    });\n",
       "    return ws;\n",
       "}\n",
       "\n",
       "mpl.mpl_figure_comm = function(comm, msg) {\n",
       "    // This is the function which gets called when the mpl process\n",
       "    // starts-up an IPython Comm through the \"matplotlib\" channel.\n",
       "\n",
       "    var id = msg.content.data.id;\n",
       "    // Get hold of the div created by the display call when the Comm\n",
       "    // socket was opened in Python.\n",
       "    var element = $(\"#\" + id);\n",
       "    var ws_proxy = comm_websocket_adapter(comm)\n",
       "\n",
       "    function ondownload(figure, format) {\n",
       "        window.open(figure.imageObj.src);\n",
       "    }\n",
       "\n",
       "    var fig = new mpl.figure(id, ws_proxy,\n",
       "                           ondownload,\n",
       "                           element.get(0));\n",
       "\n",
       "    // Call onopen now - mpl needs it, as it is assuming we've passed it a real\n",
       "    // web socket which is closed, not our websocket->open comm proxy.\n",
       "    ws_proxy.onopen();\n",
       "\n",
       "    fig.parent_element = element.get(0);\n",
       "    fig.cell_info = mpl.find_output_cell(\"<div id='\" + id + \"'></div>\");\n",
       "    if (!fig.cell_info) {\n",
       "        console.error(\"Failed to find cell for figure\", id, fig);\n",
       "        return;\n",
       "    }\n",
       "\n",
       "    var output_index = fig.cell_info[2]\n",
       "    var cell = fig.cell_info[0];\n",
       "\n",
       "};\n",
       "\n",
       "mpl.figure.prototype.handle_close = function(fig, msg) {\n",
       "    fig.root.unbind('remove')\n",
       "\n",
       "    // Update the output cell to use the data from the current canvas.\n",
       "    fig.push_to_output();\n",
       "    var dataURL = fig.canvas.toDataURL();\n",
       "    // Re-enable the keyboard manager in IPython - without this line, in FF,\n",
       "    // the notebook keyboard shortcuts fail.\n",
       "    IPython.keyboard_manager.enable()\n",
       "    $(fig.parent_element).html('<img src=\"' + dataURL + '\">');\n",
       "    fig.close_ws(fig, msg);\n",
       "}\n",
       "\n",
       "mpl.figure.prototype.close_ws = function(fig, msg){\n",
       "    fig.send_message('closing', msg);\n",
       "    // fig.ws.close()\n",
       "}\n",
       "\n",
       "mpl.figure.prototype.push_to_output = function(remove_interactive) {\n",
       "    // Turn the data on the canvas into data in the output cell.\n",
       "    var dataURL = this.canvas.toDataURL();\n",
       "    this.cell_info[1]['text/html'] = '<img src=\"' + dataURL + '\">';\n",
       "}\n",
       "\n",
       "mpl.figure.prototype.updated_canvas_event = function() {\n",
       "    // Tell IPython that the notebook contents must change.\n",
       "    IPython.notebook.set_dirty(true);\n",
       "    this.send_message(\"ack\", {});\n",
       "    var fig = this;\n",
       "    // Wait a second, then push the new image to the DOM so\n",
       "    // that it is saved nicely (might be nice to debounce this).\n",
       "    setTimeout(function () { fig.push_to_output() }, 1000);\n",
       "}\n",
       "\n",
       "mpl.figure.prototype._init_toolbar = function() {\n",
       "    var fig = this;\n",
       "\n",
       "    var nav_element = $('<div/>')\n",
       "    nav_element.attr('style', 'width: 100%');\n",
       "    this.root.append(nav_element);\n",
       "\n",
       "    // Define a callback function for later on.\n",
       "    function toolbar_event(event) {\n",
       "        return fig.toolbar_button_onclick(event['data']);\n",
       "    }\n",
       "    function toolbar_mouse_event(event) {\n",
       "        return fig.toolbar_button_onmouseover(event['data']);\n",
       "    }\n",
       "\n",
       "    for(var toolbar_ind in mpl.toolbar_items){\n",
       "        var name = mpl.toolbar_items[toolbar_ind][0];\n",
       "        var tooltip = mpl.toolbar_items[toolbar_ind][1];\n",
       "        var image = mpl.toolbar_items[toolbar_ind][2];\n",
       "        var method_name = mpl.toolbar_items[toolbar_ind][3];\n",
       "\n",
       "        if (!name) { continue; };\n",
       "\n",
       "        var button = $('<button class=\"btn btn-default\" href=\"#\" title=\"' + name + '\"><i class=\"fa ' + image + ' fa-lg\"></i></button>');\n",
       "        button.click(method_name, toolbar_event);\n",
       "        button.mouseover(tooltip, toolbar_mouse_event);\n",
       "        nav_element.append(button);\n",
       "    }\n",
       "\n",
       "    // Add the status bar.\n",
       "    var status_bar = $('<span class=\"mpl-message\" style=\"text-align:right; float: right;\"/>');\n",
       "    nav_element.append(status_bar);\n",
       "    this.message = status_bar[0];\n",
       "\n",
       "    // Add the close button to the window.\n",
       "    var buttongrp = $('<div class=\"btn-group inline pull-right\"></div>');\n",
       "    var button = $('<button class=\"btn btn-mini btn-primary\" href=\"#\" title=\"Stop Interaction\"><i class=\"fa fa-power-off icon-remove icon-large\"></i></button>');\n",
       "    button.click(function (evt) { fig.handle_close(fig, {}); } );\n",
       "    button.mouseover('Stop Interaction', toolbar_mouse_event);\n",
       "    buttongrp.append(button);\n",
       "    var titlebar = this.root.find($('.ui-dialog-titlebar'));\n",
       "    titlebar.prepend(buttongrp);\n",
       "}\n",
       "\n",
       "mpl.figure.prototype._root_extra_style = function(el){\n",
       "    var fig = this\n",
       "    el.on(\"remove\", function(){\n",
       "\tfig.close_ws(fig, {});\n",
       "    });\n",
       "}\n",
       "\n",
       "mpl.figure.prototype._canvas_extra_style = function(el){\n",
       "    // this is important to make the div 'focusable\n",
       "    el.attr('tabindex', 0)\n",
       "    // reach out to IPython and tell the keyboard manager to turn it's self\n",
       "    // off when our div gets focus\n",
       "\n",
       "    // location in version 3\n",
       "    if (IPython.notebook.keyboard_manager) {\n",
       "        IPython.notebook.keyboard_manager.register_events(el);\n",
       "    }\n",
       "    else {\n",
       "        // location in version 2\n",
       "        IPython.keyboard_manager.register_events(el);\n",
       "    }\n",
       "\n",
       "}\n",
       "\n",
       "mpl.figure.prototype._key_event_extra = function(event, name) {\n",
       "    var manager = IPython.notebook.keyboard_manager;\n",
       "    if (!manager)\n",
       "        manager = IPython.keyboard_manager;\n",
       "\n",
       "    // Check for shift+enter\n",
       "    if (event.shiftKey && event.which == 13) {\n",
       "        this.canvas_div.blur();\n",
       "        event.shiftKey = false;\n",
       "        // Send a \"J\" for go to next cell\n",
       "        event.which = 74;\n",
       "        event.keyCode = 74;\n",
       "        manager.command_mode();\n",
       "        manager.handle_keydown(event);\n",
       "    }\n",
       "}\n",
       "\n",
       "mpl.figure.prototype.handle_save = function(fig, msg) {\n",
       "    fig.ondownload(fig, null);\n",
       "}\n",
       "\n",
       "\n",
       "mpl.find_output_cell = function(html_output) {\n",
       "    // Return the cell and output element which can be found *uniquely* in the notebook.\n",
       "    // Note - this is a bit hacky, but it is done because the \"notebook_saving.Notebook\"\n",
       "    // IPython event is triggered only after the cells have been serialised, which for\n",
       "    // our purposes (turning an active figure into a static one), is too late.\n",
       "    var cells = IPython.notebook.get_cells();\n",
       "    var ncells = cells.length;\n",
       "    for (var i=0; i<ncells; i++) {\n",
       "        var cell = cells[i];\n",
       "        if (cell.cell_type === 'code'){\n",
       "            for (var j=0; j<cell.output_area.outputs.length; j++) {\n",
       "                var data = cell.output_area.outputs[j];\n",
       "                if (data.data) {\n",
       "                    // IPython >= 3 moved mimebundle to data attribute of output\n",
       "                    data = data.data;\n",
       "                }\n",
       "                if (data['text/html'] == html_output) {\n",
       "                    return [cell, data, j];\n",
       "                }\n",
       "            }\n",
       "        }\n",
       "    }\n",
       "}\n",
       "\n",
       "// Register the function which deals with the matplotlib target/channel.\n",
       "// The kernel may be null if the page has been refreshed.\n",
       "if (IPython.notebook.kernel != null) {\n",
       "    IPython.notebook.kernel.comm_manager.register_target('matplotlib', mpl.mpl_figure_comm);\n",
       "}\n"
      ],
      "text/plain": [
       "<IPython.core.display.Javascript object>"
      ]
     },
     "metadata": {},
     "output_type": "display_data"
    },
    {
     "data": {
      "text/html": [
       "<img src=\"data:image/png;base64,iVBORw0KGgoAAAANSUhEUgAAA8AAAAHgCAYAAABq5QSEAAAgAElEQVR4nOzdeVxU9f4/8M8MO8zAjKwqKOAWAmm4hqJoEaZlN3PhodfbaqW2iLduXpWLC+qvTPumdiu7FqRmV29qm5GKWy7hkhaomaYlLrmAoCIDzMzr98fIkWHOwDiC40yv5+PxeTyccz7nnM8gM+958TnnjBBEREREREREREREREREREREREREREREREREREREREREREREREREREREREREREREREREREREREREREREREREREREREREREREREREREREREREREREREREREREREREREREREREREREREREREREREREREREREREREREREREREREREREREREREREREREREREREREREREREREREREREREREREREREREREREREREREREREREREREREREREREREREREREREt8hbCOHPxsbGxsYm07wFERERkYvw9vDwKBZCgI2NjY2NrW67XiMYgomIiMgl+AshUFRUhLKyMjY2NjY2NqkVFRXVBGF/B9cqIiIiokbhL4RAWVkZiIiIaisrK2MAJiIiIpfCAExERLIYgImIiMjVMAATEZEsBmAiIiJyNQzANyk2NhYff/yxo4dBRHeA5ORkZGRkSI8VCgXy8vIcOKLGxQBMRERErsbpAnDfvn3h6ekJtVottb59+0rrn3nmGcTGxsLd3R2jR49ucH/Z2dlQKBRITEy0WPe3v/0NCoXC7AMuEd0Zar8XBAQEIC4uDu+///5tHcPNBmCFQgGlUokjR46YLd+8eTMUCgUiIiKabKz2YAAmIiIiV+N0AbjuB866Fi5ciPXr12PIkCE2B+CQkBCEhoaioKBAWl5SUgK1Wo277rqr0QJwVVVVo+yHiCzfC1auXAmlUolt27Y5bAy2BOC4uDhMnDjRbPnw4cMRHx/fpAG4urr6prdhACYiIiJX43IBuMYTTzxhcwAODw/Ha6+9hrFjx0rL582bh6FDh6Jfv35mx4uMjMSSJUukx4cOHcLgwYMRFhYGjUaDe++9F6dOnZLG+sILLyAtLQ1arVba/86dO5GUlAStVovo6GhMmjQJlZWVNv8MiEj+vSAoKAjz5s2THhsMBrz55puIiYlBQEAAunbtahFQv/rqK/Ts2RNarRZBQUEYNmyYtO7ZZ59FZGQkVCoVoqOjkZmZWe8YbAnACxcuRFBQkPSa/+OPP6BWqzFv3jyzALxlyxYkJiYiMDAQzZo1Q//+/XHgwAGz/e3cuRP9+/dHUFAQAgMD0b9/f+h0OgCm96rMzEwMGDAA/v7+eP3116Xn26VLFwQEBKBDhw548803rY6XAZiIiIhcDQNwdjYiIiJw/PhxaDQalJeXAwDatWuHvLw8i+PVDsDnzp1DUFAQpk6diitXrsBoNGLv3r0oLi6WxqpSqZCbmwsAqKiowMmTJ+Hn54cFCxaguroax44dQ2xsLNLT02/6Z0H0Z1b7tanX67F8+XIolUqsW7dO6pOZmYl77rkHR48eBQCsXbsWfn5+OH78OABg/fr18PHxwWeffYbq6mpUVlZi06ZN0vZLlizBhQsXAAD5+fkIDAzE4sWLZccA2BaAa95Xau4lkJWVhdGjR0vvRTV27tyJXbt2Qa/X4+rVq3juuefQunVraSa3sLAQPj4+ePfdd1FRUYHq6mps3bpVOtMkMjISzZs3R35+PgDT+8/u3bvh6emJ//3vfzAYDNi3bx9atGiBt99+W3a8DMBERETkamwKwEajEWW6skZrRqOx3uPVJzk5Gd7e3tBqtdBoNNBqtVi2bJlFv5sNwACQmpqKxYsXY8OGDejQoYN0PGsBeO7cuYiPj693rCNHjjRbNmfOHCQkJJgtW7NmDfz8/BocK9GdQKcDysrkm14vv41eb9n3+kSl3ZKTk+Hj4wOtVgt3d3d4eHhg7ty5Zn0CAgKwfv16s2UpKSmYNWsWAOChhx7Ciy++aPMxX375ZQwdOtRsDPYE4BUrViAxMREGgwGtWrXCjh07LAJwXSUlJVAoFCgsLAQAvPDCC3j44Yet9o+MjMSUKVPMlj333HMYMmSI2bK33noLMTExsvtgACYiIiJXY1MALtOVQUwTjdbKdPbPODfVDDBgCqIJCQkYMmQI5s+fL3u82gF4/PjxZh+G5cZa9wPouHHjzE6xBICCggIolUppponoTpaZCQgh365nMwuFhZZ965xNfNNqvzavXr2KMWPGICUlBQaDAYDpDA2FQoGAgABotVrpj2YqlQrjx48HYLqr+6JFi6weIysrC7GxsdL2Pj4+6NOnj+wYANsDcFVVFUJCQjBz5kzcfffdAGARgH/66Sc8/PDDaNmyJQICAqDRaKBUKqUZ6kGDBuGVV16xeqzIyEh88MEHZssGDhyIV1991WzZl19+afUPcAzARERE5Gqccga4qQKwXq9HeHg4/Pz8UFJSInu8ujPAnTp1uqmxzpkzB126dDFbxhlgciZ30gxw7ddXZWUloqOjsWDBAumxr68vvvvuO6v7GDRoEF566SXZdZ988gmCg4Oxf/9+6T3r5ZdfRlJSktUx2BqAAWDSpElwc3PDu+++C8AyAHfo0AHp6enS+/OlS5fMth8/fjwGDx5s9Vh171cAcAaYiIiIyOWuAa6qqkJFRQVGjx6NUaNGQafT1XuDqbofOg8ePIi9e/daPV7da4ADAwPxr3/9C1euXIHBYLC4BrjuWH///XeoVCosWrQIVVVVOHbsGOLj4zFhwoSb+0EQ/cnJvb6ys7MRFBSEy5cvAwDS09Nx77334vDhwwCAa9euYdu2bfjll18AmK4B9vPzw+rVq1FVVQWdTicFzPfeew8tWrRAUVERjEYjNm3ahMDAwEYLwJcuXUJeXh6uXbsmjb32e1Hz5s2RmZkJo9GI4uJiPPnkk1AqldL2NdcAv//++1avAa4bgPPz8+Hl5YXVq1fDYDDghx9+QMuWLfF///d/suNlACYiIiJX43QBuO5dmetKTk6WvmtTqVRCoVAgKirKav+Grrure7yoqCizD5UHDx7EwIEDERQUBK1Wi8TERJw+fbrese7cuRO9e/eGVqtFZGQk7wJNZAe515fBYMBdd90lXXpgNBqxYMECxMXFQaPRICwsDAMHDsShQ4ekbb744gt069YNGo0GwcHBGDFiBABAp9Nh9OjR0Gg0CAwMRFpaGiZMmGAWgOuOoXZAlVPf+rrvRd988w1iYmLg5+eHDh064H//+5/F9jt27EDfvn3RrFkzBAYG4v7775fuAl33varGl19+iYSEBAQEBKBdu3aYO3eu1bNyGICJiIjI1ThdACYiotuDAZiIiIhcDQMwERHJYgAmIiIiV8MATEREshiAiYiIyNUwABMRkSwGYCIiInI1DMBERCSLAZiIiIhcDQMwERHJYgAmIiIiV8MATEREshiAiYiIyNUwABMRkSwGYCIiInI1DMBERCSLAZiIiIhcDQMwERHJYgAmIiIiV8MAbIPZs2cjNTXVpr6xsbH4+OOPm3hEtnv++ecxZswYRw+DiJwQAzARERG5GqcLwH379oWnpyfUajUCAgIQHx+PJUuWOHpYt81vv/0GhUIBPz8/i/+3Dz/8EAqFAklJSQ4aHdHtoVKpoFaroVar4enpCTc3N6jVamn59u3bm+S4e/fuxYABAxAaGgqFQoEdO3Y0uM2iRYsQFhaG8PBw5OTkmK3LysrC888/3yRjbQwMwERERORqnC4AJycnIyMjAwBgNBqxbNkyKBQKbN26VbZ/VVXV7Rxek6sJwHFxcViwYIHZuu7duyM+Pr7RArCr/ezINU2dOhX9+vW7LccqKCjAhx9+iO+//x5KpbLBAHzq1CmEhITgzJkzOHLkCJo1aya93x44cAAxMTG4du3a7Ri6XRiAiYiIyNU4dQCuERQUhPnz50vrX3jhBaSlpUGr1WLs2LEAgMOHD+Ohhx5CaGgowsPDMW7cOJSXl0v7KCkpwdixYxEVFQW1Wo2YmBisX78eADBt2jT07t1b6rtw4UK0adMG/v7+CAsLw5NPPimti4yMNJuR3rlzJ5KSkqDVahEdHY1JkyahsrLSrP+MGTMwcOBAqNVqtG3bFmvWrLH6/GsC8MKFC9GxY0dp+b59+9CiRQtMnTrVLAA/8cQTGD169E09z4yMDLRo0QKxsbEAgNOnT2P48OEIDQ1FWFgYRowYgTNnzlgdI9HtZC0A6/V6zJo1C+3atYNGo0GPHj2wceNGaX1ubi7c3d2xdOlSREZGQqvVYvjw4SguLm7wmDqdzqYZ4G3btqF///7S486dO6OgoABVVVVISEjAd999dxPP9PZjACYiIiJXY1sANhqBsrLGa0aj3R/IagdgvV6Pjz/+GG5ubtIpj8nJyVCpVMjNzQUAVFRU4OLFiwgODsbbb7+N6upqFBcXIyUlxeza2KSkJAwaNAinTp0CAJw4cQKHDx8GYAqGNaHy6NGj8PX1xaFDhwAA5eXlZh9iawfg33//HX5+fliwYAGqq6tx7NgxxMbGIj093ax/69atceDAAQDA/Pnz4e/vjytXrsg+/99++w1KpRJHjx5FdHQ0tm3bBgB45plnkJGRYTZWwDIAN/Q8PTw8kJWVhcrKSlRUVMBgMKBz584YNWoUrly5grKyMgwfPhxdu3aF8Rb+H8l56ap1KNOVoUxXhiuV8r+n16quQVetk11Xs6219TfLWgDOyspCVFQUCgoKYDAYkJOTA09PTxw8eBCAKQArFAoMGTIEly9fRklJCVJSUvDwww83eExbA/D58+fRsmVLFBUV4dChQ2jevDnKy8sxefJkTJw40b4nfBsxABMREZGrsS0Al5UBQjReu4UZ5+TkZHh7e0Or1SI4OBhdu3bF0qVLzdaPHDnSbJv58+cjMTHRbNn27dvh5eUFo9GIPXv2wM3NzerMT+1QeeLECfj6+mLlypW4fPmyRd/aAXjOnDlISEgwW79mzRr4+fmZ9c/KypIel5eXQ6FQYPfu3bJjqQnAv/76K+bMmYORI0eirKwM/v7+KCoqqjcA2/I8w8PDzZbt2rULbm5uZr8jxcXFUCqVyM/Pl90PubbMzZkQ0wTENIGO73SU7fP0508jc3Om7Dr1bDXENGF1/c2yFoBbt26NDz74wGxZamqq9Aeo3Nxc6bVUY//+/VAqlbhw4UK9x7Q1AAPA6tWr0b17dyQmJmL9+vXIz89HfHw8dDodpk+fjr59++LRRx/FiRMnbHi2txcDMBEREbkap54BtrZ+ypQpZsvGjh0LT09PaLVaqQUEBMDX1xdnzpzBqlWrEBQUZHWfdUPlF198gQEDBkCj0aB79+5YsWKFtK52AB43bhyGDRtmtq+CggKzD9h1T5kGAIVCgby8PNmx1JwC/euvv+L8+fNQq9XIyMiQZq3qC8C2PM9evXqZLVu5ciWCg4Mt+gYGBmLVqlVW90Wuy1lmgN3d3S1eR+PHj8djjz0G4EYANhgM0vrS0lIoFArs37+/3mPeTACuu118fDz27NmDL7/8EqmpqTAajVizZg1SUlJual+3AwMwERERuRqXuAa4ofXTp0/HfffdZ3Wbm5kBrs1gMGDlypXSKcmA5Qxwly5dzLaRmwG+2QBce9YqLS0Nbm5u+Oabb2THerMzwHWf565du+Du7o7S0lJpGWeA6U5S3wzw4sWLzZYNGDDgts8A15aeno6pU6cCAGbMmIEZM2YAMAXv+v445SgMwERERORq/hQB+OTJk2jWrBn+/e9/S3dcPXnyJNauXSv1SUpKwuDBgxu8BvjIkSNYt24drl69CsD0IdrNzQ3Hjx8HYHkNsEqlwqJFi1BVVYVjx44hPj4eEyZMkI57KzPAAHDmzBls2rRJWm/LNcC2PM8aNdcA//Wvf8Xly5dRWlqKtLQ0XgNMdwxrAXjmzJmIjo5GYWEh9Ho9li5dCi8vLxQWFgK4cQ3w0KFDUVpaiuLiYqSmpjZ4DbBOp5Nmijdv3gydTmc2i2zN1q1bkZCQgOrqagDAihUr0KdPH1RUVCAnJwc9e/a049k3LQZgIiIicjVOF4D79etXbwC2tv7IkSN49NFH0bx5c2g0GsTGxppde1tSUoLnnnsOERER8Pf3R8eOHbFhwwYA5sGwoKAAvXr1gkajkb6H+JNPPpH2ExUVZXEX6N69e0Or1SIyMtLiLtB1+wOAUqm0eQa4roYCsK3Ps7ZTp05h2LBhCAkJQWhoKIYPH47Tp0/LHp/odqvvLtBZWVlo06aNdLlCze86YArAHh4eWLZsmXQX6GHDhuHixYtWj/Xzzz9DoVBAqVSatddff73eMZaXl6Njx4746aefpGUGgwFPPfUUNBoN4uPjsW/fPjuefdNiACYiIiJX43QBmIioMdQEYLKOAZiIiIhcDQMwEf0pMQA3jAGYiIiIXA0DMBH9KTEAN4wBmIiIiFwNAzAREcliACYiIiJXwwBMRESyGICJiIjI1TAAExGRLAZgIiIicjUMwEREJIsBmIiIiFwNAzAREcliACYiIiJXwwBMRESyGICJiIjI1TAAExGRLAZgIiIicjUMwHZITk5GRkaG9FihUCAvL69R9j179mykpqY2yr6IiG4FAzARERG5GqcLwH379oWnpyfUajUCAgIQFxeH999//7aO4WYDsEKhgFKpxJEjR8yWb968GQqFAhEREU02ViJXpFKpoFaroVar4enpCTc3N6jVamn59u3bm+S4q1atQnx8PLRaLbRaLbp3747PP/+83m0WLVqEsLAwhIeHIycnx2xdVlYWnn/++SYZa2NgACYiIiJX43QBuG74XLlyJZRKJbZt2+awMdgSgOPi4jBx4kSz5cOHD0d8fHyjBeCqqqpG2Q+RM5k6dSr69et3W4516tQpnD17Vnqcl5cHLy8viz9u1e4fEhKCM2fO4MiRI2jWrJn0fnvgwAHExMTg2rVrt2Xs9mAAJiIiIlfj9AEYAIKCgjBv3jzpscFgwJtvvomYmBgEBASga9euFgH1q6++Qs+ePaHVahEUFIRhw4ZJ65599llERkZCpVIhOjoamZmZ9Y7BlgC8cOFCBAUFobKyEgDwxx9/QK1WY968eWYBeNq0aejdu7f0uKKiAlOmTEH79u2hVqvRpk0bfPzxxwCA7OxshIeH45133kFkZCT8/f0BAKWlpRgzZgzCw8MRHByMgQMHWv2ATuTsrAVgvV6PWbNmoV27dtBoNOjRowc2btworc/NzYW7uzuWLl2KyMhIaLVaDB8+HMXFxTYd12g0YtOmTfD09MTXX38t22fbtm3o37+/9Lhz584oKChAVVUVEhIS8N13393ks729GICJiIjI1dgUgI1GoKys8ZrRaP8HstrhU6/XY/ny5VAqlVi3bp3UJzMzE/fccw+OHj0KAFi7di38/Pxw/PhxAMD69evh4+ODzz77DNXV1aisrMSmTZuk7ZcsWYILFy4AAPLz8xEYGIjFixfLjgGwLQDn5eUhOTlZCq9ZWVkYPXo0srOzLQJwUlKS9HjUqFHo0aOHFGDPnj2L/fv3AzAFYHd3dzz33HMoLy9HRUUFAOChhx5C//79cf78eVRUVGDChAmIiIhAeXm5zT9nIqt0uhsv5itX5Ptcu2bqJ6dmW2vrb5K1AJyVlYWoqCgUFBTAYDAgJycHnp6eOHjwIABTAFYoFBgyZAguX76MkpISpKSk4OGHH673eOfPn4dGo4GHhwcUCgXuv/9+q2dfnD9/Hi1btkRRUREOHTqE5s2bo7y8HJMnT7Y4I+ROxABMRERErsamAFxWBgjReO1WJpyTk5Ph4+MDrVYLd3d3eHh4YO7cuWZ9AgICsH79erNlKSkpmDVrFgBTQHzxxRdtPubLL7+MoUOHmo3BngC8YsUKJCYmwmAwoFWrVtixY0e9AfjChQtQKBT44YcfZPebnZ0NDw8P6GoFibNnz0KhUKCgoEBaVl1djaCgIPz3v/+1+TkTWZWZeePF3LGjfJ+nnzb1k6NWm7a1tv4mWQvArVu3xgcffGC2LDU1Fenp6QBMAVipVOLXX3+V1u/fvx9KpVL6A1h9dDodVq5ciTfffLPefqtXr0b37t2RmJiI9evXIz8/H/Hx8dDpdJg+fTr69u2LRx99FCdOnLDh2d5eDMBERETkapx6Bvjq1asYM2YMUlJSYDAYAADnzp2DQqFAQECAdKMajUYDlUqF8ePHAwBiY2OxaNEiq8fIyspCbGystL2Pjw/69OkjOwbA9gBcVVWFkJAQzJw5E3fffTcA1BuA9+zZA6VSiatXr8ruNzs7Gy1btjRbtnv3biiVSovZ3i5dulj8oYDILk4yA+zu7m7xuhw/fjwee+wxADcCcM17B2C6fEChUEhnWdiif//++M9//mNTX51Oh/j4eOzZswdffvklUlNTYTQasWbNGqSkpNh8zNuFAZiIiIhcjdNfA1xZWYno6GgsWLBAeuzr61vvtXWDBg3CSy+9JLvuk08+QXBwMPbv3w/j9aT+8ssvm52WbG8ABoBJkybBzc0N7777LoD6A/CFCxegVCrrnQGuewOts2fPQqlU4qeffpKW6fV6BAcHcwaYXFJ9M8C1L10AgAEDBjTaDHCNpKQkvPrqqzb1TU9Px9SpUwEAM2bMwIwZMwCYgndQUJDNx7xdGICJiIjI1Th9AAZMQTAoKAiXL18GYPqQee+99+Lw4cMAgGvXrmHbtm345ZdfAJiuAfbz88Pq1atRVVUFnU4nBdT33nsPLVq0QFFRkXSTm8DAwEYLwJcuXUJeXp5051dbrgG+9957za4BrgnEcgEYMJ3inZKSgnPnzuHatWuYOHEiwsPDrc4kEzkzawF45syZiI6ORmFhIfR6PZYuXQovLy8UFhYCuHEN8NChQ1FaWori4mKkpqbWew1wdnY2jh07BqPRiGvXruHtt9+Gu7u72T0ErNm6dSsSEhJQXV0NAFixYgX69OmDiooK5OTkoGfPnnb+BJoOAzARERG5GqcLwP369bMIwAaDAXfddRemTJkCwHR31gULFiAuLg4ajQZhYWEYOHAgDh06JG3zxRdfoFu3btBoNAgODsaIESMAmE5RHD16NDQaDQIDA5GWloYJEyaYhdK6Y1AqlfUG4PrWNxSAr127hkmTJiE6OhoqlQpt2rTBsmXLZLetcenSJYwZMwYtW7ZEUFAQHnzwQfz8889Wx0fkzOq7C3RWVhbatGkDjUaD7t27Y8OGDdL63NxceHh4YNmyZdJdoIcNG4aLFy9aPdY///lP6Q7xwcHBSEpKwtq1axscY3l5OTp27Gh2ZobBYMBTTz0FjUaD+Ph47Nu37yafedNjACYiIiJX43QBmIioMdQEYLKOAZiIiIhcDQMwEf0pMQA3jAGYiIiIXA0DMBH9KTEAN4wBmIiIiFwNAzAREcliACYiIiJXwwBMRESyGICJiIjI1TAAExGRLAZgIiIicjUMwEREJIsBmIiIiFwNAzAREcliACYiIiJXwwBMRESyGICJiIjI1TAAExGRLAZgIiIicjVOF4D79u0LT09PqNVqqfXt21da/8wzzyA2Nhbu7u4YPXp0g/vLzs6GQqFAYmKixbq//e1vUCgUyMjIaMynQES3SKVSSa9/T09PuLm5Qa1WS8u3b9/eJMfNzc2FQqGQjq1SqdC2bdt6t1m0aBHCwsIQHh6OnJwcs3VZWVl4/vnnm2SsjYEBmIiIiFyN0wXg5OTkegPpwoULsX79egwZMsTmABwSEoLQ0FAUFBRIy0tKSqBWq3HXXXc1WQA2GAwwGo1Nsm+iP4upU6eiX79+t+VYubm58PDwsLn/qVOnEBISgjNnzuDIkSNo1qyZ9H574MABxMTE4Nq1a0013FvGAExERESuxuUCcI0nnnjC5gAcHh6O1157DWPHjpWWz5s3D0OHDkW/fv3Mjvevf/0L7du3h1qtRqtWrfDiiy+ioqJCWq/X6zFv3jx07NgRarUaEREReOONNwAAW7ZsgUKhwKeffor27dvD29sb586dg06nwz/+8Q9ERUWhWbNm6NOnD/Lz82/mx0L0p2UtAOv1esyaNQvt2rWDRqNBjx49sHHjRml9bm4u3N3dsXTpUkRGRkKr1WL48OEoLi62eqybDcDbtm1D//79pcedO3dGQUEBqqqqkJCQgO+++87mfTkCAzARERG5Ggbg7GxERETg+PHj0Gg0KC8vBwC0a9cOeXl5FsdbtmwZTp06BQA4dOgQ2rZti8mTJ0vrp0yZgnbt2mHv3r0AgEuXLuH7778HcCMADxkyBCUlJaiqqoLBYMALL7yAu+++G8ePH0d1dTXmzZsHtVqN06dP2/6DIfqTshaAs7KyEBUVhYKCAhgMBuTk5MDT0xMHDx4EcON05iFDhuDy5csoKSlBSkoKHn74YavHys3NhVKpRKtWrRAaGorU1FTs3LnTav/z58+jZcuWKCoqwqFDh9C8eXOUl5dj8uTJmDhx4q0/+SbGAExERESuxuYArKvWoUxXJtv0Br3sNnqD3qKvrlp3Sx/IkpOT4e3tDa1WC41GA61Wi2XLlln0u9kADACpqalYvHgxNmzYgA4dOkjHqy9wv/XWW+jatav0WK1WY/Xq1bJ9t2zZAqVSiaNHj0rLjEYjfH198eWXX5r17dSpE15//fUGx090u+l0QFmZqV25It/n2jVTPzk121pbf7OsBeDWrVvjgw8+MFuWmpqK9PR0ADfC7K+//iqt379/P5RKJS5cuCB7rDNnzqCwsBAGgwFXrlzB7Nmz4evri8OHD1sd3+rVq9G9e3ckJiZi/fr1yM/PR3x8PHQ6HaZPn46+ffvi0UcfxYkTJ+x49k2LAZiIiIhcjc0BOHNzJsQ0IdsKzxXKblN4rtCib+bmzFv6QNZUM8AAsGbNGiQkJGDIkCGYP3++7PHee+89JCQkIDAwEBqNBr6+vmjVqhUA4MKFC1AoFCgslP951ATg6upqadn58+ehUCikWakajz32GMaPH9/g+Ilut8xMQD3qBfQAACAASURBVAhT69hRvs/TT5v6yVGrTdtaW3+zrAVgd3d35OXlmS0bP348HnvsMQA3ArDBYJDWl5aWQqFQYP/+/TYfv2fPnpg5c6ZNfXU6HeLj47Fnzx58+eWXSE1NhdFoxJo1a5CSkmLzMW8XBmAiIiJyNU45A9xUAViv1yM8PBx+fn4oKSmxON7OnTvh4eGBrVu3Qq83Pee33npL2h6wbQa49gduo9EIHx8ffPHFF2Z9O3fuzBlguiM50wzw4sWLzZYNGDDglmaA5SQmJmLGjBk29U1PT8fUqVMBADNmzJC2Ky0tRVBQkM3HvF0YgImIiMjVuNw1wFVVVaioqMDo0aMxatQo6HQ6VFZWWu1fOwADwMGDB6Xrd+seLzc3Fz4+PtJs7b59+9CmTRuz7SdPnowOHTpI+ygpKcGuXbsAyAdgwDQr1blzZxw/fhxVVVWYP38+1Gq1dK0xEVlnLQDPnDkT0dHRKCwshF6vx9KlS+Hl5SWdoVFzDfDQoUNRWlqK4uJipKam1nsN8DfffIPff/8dAFBeXo7XX38dvr6+ZneQt2br1q1ISEiQzgBZsWIF+vTpg4qKCuTk5KBnz572PP0mxQBMRERErsbpAnDduzLXlZycDIVCAaVSCaVSCYVCgaioKKv96wbg+o5nNBqRnp6OoKAgaDQaPPjgg5g5c6bZ9gaDAXPnzkWHDh2gUqkQERGBuXPnArAegGvuAt26dWtotVokJSXxLtBENqrvLtBZWVlo06YNNBoNunfvjg0bNkjra+7ovGzZMuku0MOGDcPFixfrPVZERAT8/PwQEhKClJQUm75zuLy8HB07dsRPP/0kLTMYDHjqqaeg0WgQHx+Pffv23eQzb3oMwERERORqnC4AExE1hpv9SqM/IwZgIiIicjUMwET0p8QA3DAGYCIiInI1DMBE9KfEANwwBmAiIiJyNQzAREQkiwH4zuAtTP8BbGxsbGxsdZu3oJvlLxiAiYhIBgOw43l7eHgUC9N/AhsbGxsbm1m7XiMYgm8OAzAREcliAHY8fyEEioqKUFZWxsbGxsbGJrWioiIWafswABMRkayyMgZgR2ORJiIiWSzSdmNtJSIiWaytjsciTUREslik7cbaSkREslhbHY9FmoiIZLFI2421lYiIZLG2Oh6LNBHRLZgwYQJCQkKgVqtRWFjY6PuPjIzEkiVL7N7+t99+g0KhwK+//nrT27JI24211QazZ89GamqqTX1jY2Px8ccfN/GIiIiaHmur4zllkf7pp5+QlpaG5s2bQ61WIyoqCiNHjsQPP/zg6KHddjUfblUqFdRqNdRqNVQqFbRaraOHRk7oww8/hEKhwD//+c/bcjyFQgF/f3/88ccfZsvDw8ORk5NzW8ZwK3bt2gUvLy+cPXvWap9p06ahd+/edh+jMQKwUqlkAL69nK629u3bF56enlCr1QgICEB8fPwt/d45m5pa6ufnZ/H/VvO+mJSU5KDREZErYW11PKcr0ps3b4aPjw/S09Px+++/AzD9In300UeYPHmyw8ZVXV3tkOPWfLg9fvy4zdtUVVXJLtfr9Td9fIPBAKPReNPb0Z2pW7duCA4ORmhoqNXfk8akUCgQEhKCxx9/3Gy5swTgpUuXIiIiot4+06ZNu6UPzgzATsnpamtycjIyMjIAAEajEcuWLYNCocDWrVtl+9+O94fbqSYAx8XFYcGCBWbrunfvjvj4+CYNwI76DEFEtx9rq+M5XZHu0KGDxYdlOR999BHi4uKkv2TX/jCdmJiIrKwss/6fffYZgoODpSL0/fffIzk5GYGBgYiMjERGRoZZQFQoFHjrrbeQmJgIlUqF//73vygsLMR9992H4OBgaDQa9OjRA5s2bTI7ztdff424uDio1Wrcd999yMzMRGRkpLTeYDDgzTffRExMDAICAtC1a1fk5eVZfZ62fLhNTk7GCy+8gLS0NGi1WowdO1Yq9kuWLEGnTp3g6+uL/Px8GAwGvPHGG2jfvj00Gg26deuGb775RtrXli1boFAo8Omnn6J9+/bw9vbGuXPnGvjfIGewe/duKJVKfPvtt/Dy8sLy5culdevXr4e/vz+uXbtmts3dd9+Nt956CwBw7tw5PPLII9BoNGjTpg2WL19e7wdowPQ6WrRoEby9vbF3715pee0ALHcKb83vocFgAHBjlvVf//oXmjdvjoCAALz22mu4dOkSRowYgYCAAERFReHzzz+/qZ/J6dOnMXz4cISGhiIsLAwjRozAmTNnAACZmZnw9vaGm5sbVCoV4uLiZPdRXwDW6XQYNmwYWrZsCbVajbvuugvvvPOOWZ/IyEhkZmaif//+UKlUiI+Px7fffmvW5+uvv0aPHj2g1WrRvn17sw/wdd8jfvzxR/Tt2xcajQZarRZdu3bFL7/8Ijs+Fmm7OV1trR2AawQFBWH+/PnS+rp1BAAOHz6Mhx56CKGhoQgPD8e4ceNQXl4u7aOkpARjx45FVFQU1Go1YmJisH79egCWZ0csXLgQbdq0gb+/P8LCwvDkk09K6+r+IWjnzp1ISkqCVqtFdHQ0Jk2ahMrKSrP+M2bMwMCBA6FWq9G2bVusWbPG6vOveZ9ZuHAhOnbsKC3ft28fWrRogalTp5q9jletWoUuXbpAq9UiODgYgwcPxokTJ8z2+dVXX6Fnz57QarUICgrCsGHDpHVynyGA+j+7EJFrYG11vIaLtNEIlJU1brNzxvDo0aNQKBTYuHFjvf3+97//wd/fH5s3b4bRaMTGjRuhUqmkD78ffvgh2rRpY7bNgw8+iFdeeQUA8PPPP0OlUmHlypUwGo04efIkOnfujNmzZ0v9FQoFYmJi8PPPPwMwfZAtLCzExo0bUVlZiaqqKkyfPh0BAQG4cOECAODYsWPw9PRETk4ODAYDvv/+e4SEhCAqKkrab2ZmJu655x4cPXoUALB27Vr4+flZneG1NQCrVCrk5uYCACoqKqRi37t3b5w+fRpGoxGVlZV48803ERERgQMHDsBgMODTTz+Fp6cn9u/fD+BG8BgyZAhKSkpQVVXFGWA7GY1GlOnKGq3d6v/DE088gYSEBABAWloaevXqZTbWqKgosw9j33//Pby9vVFSUgIA6N+/PwYPHoyysjKUlpbikUcegVKpbDAA5+XlIT09HYmJidLyugG47u/4li1boFQqzQKwp6cnFi5cCL1ej71798LDwwPdunXDjh07AADz589Hs2bNUFFRYdPPw2AwoHPnzhg1ahSuXLmCsrIyDB8+HF27dpV+1tnZ2bc0A1xRUYHs7GxcvnwZALBu3Tp4eXlJAQEwfZAPCQnBrl27YDAYsGTJEnh5eeG3334DAGzatAkajQabN28GABw8eBCtWrXCJ598Iv38av8BoVevXpg5cyaMRiMMBgN+/PFHnD9/XnZ8LNJ2sz0A63TWa6W1s3L0esu+Ol3Dx6pH7QCs1+vx8ccfw83NDdu3b5fW160jFy9eRHBwMN5++21UV1ejuLgYKSkpGDNmjLTfpKQkDBo0CKdOnQIAnDhxAocPHwZg/to4evQofH19cejQIQBAeXk5vvvuO2k/tQPw77//Dj8/PyxYsADV1dU4duwYYmNjkZ6ebta/devWOHDgAADT69/f3x9XrlyRff417zNHjx5FdHQ0tm3bBgB45plnkJGRYfE6/vbbb/HTTz8BAIqLizF48GCz97D169fDx8cHn332Gaqrq1FZWWn2B3G5zxANfXYhItfA2up4DRfpsjJAiMZtdv5VfMeOHVAqlVLBsCY1NRUTJ040W/byyy/jwQcfBGAqrAEBAdLM6smTJ+Hm5ibt96WXXsLIkSPNtl++fDnatm0rPVYoFPjggw8aHLNGo8FXX30FAMjKykKPHj3M1r/yyitmATggIMDswy8ApKSkYNasWbL7r/lwGxAQAK1WK7UHHnhA6pOcnGzxfGq227Bhg9nyDh06YOHChWbLHnnkEemv/TXBoyagk/3KdGUQ00SjtTKd/bNNly5dgq+vL95//30AplClVCqlD3gAMGPGDLPZmjFjxmDEiBEAgKKiIigUCrPXZmFhoU0zwHl5ebh06RKCg4OlWWd7AnDt1ycA3HPPPXj++eelx8XFxVAoFGbPqT67du2Cm5ub2ftjcXExlEol8vPzAdx6AJbzyCOPSH+MA0wf5F999VWzPj169JDOYhk8eLDF5R+zZs3C/fffD8AyAPfr1w9jxoyx6ZRoFmm72R6AMzOt10prN1UrLLTsm5nZ8LHqkZycDG9vb2lGs2vXrli6dKnZ+rp1ZP78+WahDwC2b98OLy8vGI1G7NmzB25ubiguLpY9Zu3XxokTJ+Dr64uVK1dKfxCqrXYAnjNnjvTHuhpr1qyBn5+fWf/aZ3qVl5dDoVBg9+7dsmOp/T4zZ84cjBw5EmVlZfD390dRUVGDr+MffvgBSqUSV69eBQA89NBDePHFF632l/sM0dBnFyJyDaytjueSM8AdO3a0OI1w4cKFiI2NlR4/++yzUjGfNm2a2WzXgw8+CB8fH7NAGRAQAH9/f6mPXHg8efIk0tLS0KpVKwQEBECj0cDNzQ0ffvghAGDs2LEYPny42TaLFi2SAvC5c+cswqxGo4FKpcK4ceNkn6st1wAnJydjypQpstvVDbK+vr74+uuvzZb9/e9/x6BBgwDcCB68XunW3UkzwPPmzYNKpZJmR4xGI9q1a2cWIE+dOgV3d3f88ssvKC8vh7+/v/RazM/Ph1KpNDtF+urVqzYHYAB49913ERERgfLycrsCcN0Pp71798b06dOlxzqdDgqFQpoRbsjKlSsRHBxssTwwMBCrVq0CcOsBuLKyEn//+9/Rvn176T3Dy8sLf/vb36Q+kZGRFu9naWlpeO655wAAMTEx8PPzM3vP8Pf3R3x8PADLn9/JkycxZswYtG7dGhEREZgwYYL0ob0uFmm7OfUMsLX1devI2LFj4enpaVErfX19cebMGaxatQpBQUFW91n3tfHFF19gwIAB0Gg06N69O1asWCGtqx2Ax40bZ3Y6MQAUFBRAqVRKZ1zJXTtf+/2mrtp/KDp//jzUajUyMjLw8MMPy451y5YtuO+++6RLLvz9/c1qcWxsLBYtWmT1uct9hrDlswsROT/WVsdzuuuUbLkG2Ja/ou7evRs+Pj64ePEiIiMjkZ2dLa178skn8fTTT9d7DLlCmpqaihEjRkgFGDDNANcU4YZmgCsrK+Hr62t22ldDbD0Fuu4HG2vbdejQweIGIH/5y18sZoBrgge5hvbt28PT0xPNmzdHWFgYwsLC4OvrC7VabXbK4KBBg/Dqq69iyZIlZmcunDp1CkqlUjq1Ebi5GWDAdMpxp06dkJGRYRaA5WZuly9f3uQBeNeuXXB3d0dpaam0rLFngGfPno277rrL7A9RjzzyCEaPHi09lpsB7tmzpzS71a9fP8ycOdPq8et7j/j1118RGxuLqVOnym7LIm03p6uttgTguuunT5+O++67z+o2NzMDXJvBYMDKlSvN/khbdwa4S5cuZtvIzQDfbACu/TpJS0uDm5ubdA+M2mOtqqqCWq3GvHnzpOud9+/fb7b9oEGD8NJLL1n92Vj7DMEZYCLXx9rqeE5XpLds2QJfX1/8/e9/l+4CffnyZXz88cfSh7hVq1ZBo9Fgy5YtMBgMyMvLg7+/P9auXWu2r7vvvhsPP/wwAgICzGau9uzZg4CAAKxatQpVVVUwGAw4duyYdO0TIF+8evbsiaeffhpVVVW4evUqXnvtNbi7u0tF+NixY/Dy8sLSpUuh1+uRn5+P0NBQsyAxceJE3HvvvVKQuHbtGrZt22b1JjW2fMentQAst93cuXPRqlUrHDhwAHq9Hv/973/h5eUlfcUUA7Dr+fbbb6Vrdc+dOye1o0ePQqVSmc1irF69GqGhoejevbtF6Orfvz/+8pe/oLS0FJcuXcKjjz5q8zXANTZt2gQfHx/4+/ubXW/cpk0bvPTSS9Dr9fj111+RkJDQ5AG45hrgv/71r7h8+TJKS0uRlpZm1zXAvXv3hk6nM2t6vR6TJk1Cp06dUFJSAr1ej5UrV8LHx8ciAIeGhuL777+HXq/HRx99BG9vb2mmae3atQgJCUFeXh70ej30ej0KCwulaxjrvtazs7Ol6zHPnTuHTp06Ydq0abJjZ5G2m9PVVnsC8MmTJ9GsWTP8+9//lmroyZMnzWptUlISBg8e3OA1wEeOHMG6deuksxFyc3Ph5uYm/Z7XvQa45r2pqqoKx44dQ3x8PCZMmCAd91ZmgAHgzJkzZtfs1h7r1atX4eHhIe3/9OnTGDRokFkAXr9+Pfz8/LB69WpUVVVBp9OZHVtuLLZ+diEi58ba6nhOV6QB06lOaWlpCA0Nlb4HeNSoUdLNLgBgyZIl6NixI/z9/REXF2c2w1tjwYIFUCqVZqd51ti9ezceeOABBAcHQ6vV4p577sHixYul9Uql0qJ47dmzB126dIGfnx8iIyOl05trF+Gvv/4aHTt2lO4CPXnyZMTExEjrjUYjFixYgLi4OGg0GoSFhWHgwIHSjUHqqvmrdd3vAVar1dJ3k/br18/mGWCDwYDXX38dbdu2le5CvW7dOmk9A7DrefTRR5Gamiq7bsKECWan31VXVyMsLAweHh44ffq0Wd8//vgDjzzyCAICAhAdHY3s7GwoFApptlSO3OtoyJAhUCqVZgF4x44diI+Ph1qtRq9evfDuu+82GICTkpIsArBSqZQC8HfffQe1Wo2ioiKr4zt16hSGDRuGkJAQhIaGYvjw4WbP29YArFQqpaZQKKBUKpGRkYHi4mIMGjQIarUaoaGhGDt2LEaOHGkWgKOioszuAh0XF2f2xzjA9EeMXr16oVmzZggMDMS9994r3fG27mv98ccfR4sWLaBSqdCiRQuMGzfO6o3BWKTt5nS1Va5O2LL+yJEjePTRR9G8eXNoNBrExsaaXXtbUlKC5557DhEREfD390fHjh2lU39rv24LCgrQq1cvaDQa6Q7INTdyA2BRS3fu3InevXtDq9UiMjLS4i7QdfsD8u83NRo6m6rue0xOTg4iIyOhVqvRuXNn5OTkWGz/xRdfoFu3btBoNAgODpbumVDfWGz57EJEzo211fGcrki7mgkTJmDAgAGOHgZRo6s5JfCPP/5w9FDITizSdmNtJSIiWaytjscifZt99dVXuHjxIgwGAzZs2AB/f38sW7bM0cMiumWFhYX44YcfYDQaUVRUhP79+0t3IibnxCJtN9ZWIiKSxdrqeCzSt9mUKVMQHBwMlUqF9u3bY/78+Y4eElGj2LFjB9q3bw+VSoWwsDCkpaVx9tfJsUjbjbWViIhksbY6Hos0ERHJYpG2G2srERHJYm11PBZpIiKSxSJtN9ZWIiKSxdrqeCzSREQki0XabqytREQki7XV8VikiYhIFou03VhbiYhIFmur4/kLIVBUVISysjI2NjY2NjapFRUVsUjbh7WVjY2NjU22sbY6nreHh0exMP0nsLGxsbGxmbXrNcJb0M1gbWVjY2Njs9r+rLX1bSHECSGEUQhxd63lbYUQO4QQR4QQ+UKImHr28bQQ4hchxFEhxPtCCDcb19XlLUx/gWBjY2NjY6vbnKlAW6utddlbP1lb2djY2NgaozlTbW00vYUQLYQQx4V5kc4TQoy+/u/HhBC7rWwfKYQ4LYQIvv74cyHE2Ov/jqpnHRERkauyVltrixT21U/WViIiokZwQtwo0sFCiFIhhLLW+rNCiGiZ7V4RQvy71uMHhRDbbFhHRETk6mrX1rrsrZ+srURERI2gdpFOEEIcrrM+XwiRLLPdAiHEa7UexwghfrNhHRERkaurLwDbWz9ZW4mIiBqBowOwQgjRUjj+PHg2NjY2tjuztRSmWuFMHB2AWVvZ2NjY2OprzlhbG42jT4FuKe6AO6GxsbGxsd3RraVwLieEY0+BZm1lY2NjY2uoOVttbTQnhHmR3iSEePz6v4cK6zfBihJCnBJChAjTXw8+F0KMs2FdXf5CONd3FY4fP97hY3DFsXK8HKuzjteZxups43Xi7yqsW1trs7d+srbeQc2ZxutMY3W28TrTWDlejrWmOXFtvWXvCSGKhBBVwjTL+8v15e2FEDuF6WuQdgshYmtt84EQ4qFaj58WQhwTpq9jWCwsv6rB2rra/IUQKCsrg7NIT0939BBs5kxjBTjepuRMYwWca7zONFbAucZbVlbmbEXaWm1trPrJ2nqHcKbxOtNYAecarzONFeB4m5IzjdUJa6vLYZFuQs40VoDjbUrONFbAucbrTGMFnGu8LNJ2Y21tYs40XmcaK+Bc43WmsQIcb1NyprGytjqe0xXp3NxcRw/BZs40VoDjbUrONFbAucbrTGMFnGu8LNJ2Y21tYs40XmcaK+Bc43WmsQIcb1NyprGytjqe0xVpIiK6PVik7cbaSkREslhbHY9FmoiIZLFI2421lYiIZLG2Oh6LNBERyWKRthtrKxERyWJtdTwWaSIiksUibTfWViIiksXa6ngs0kREJItF2m6srUREJIu11fFYpImISBaLtN1YW4mISBZrq+OxSBMRkSwWabuxthIRkSzWVsdjkSYiIlks0nZjbSUiIlmsrY7HIk1ERLJYpO3G2kpERLJYWx2PRZqIiGSxSNuNtZWIiGSxtjoeizQREclikbYbaysREclibXU8FmkiIpLFIm031lYiIpLF2up4LNJERCSLRdpurK1ERCSLtdXxWKSJiEgWi7TdWFuJiEgWa6vjsUgTEZEsFmm7sbYSEZEs1lbHY5EmIiJZLNJ2Y20lIiJZrK2OxyJNRESyWKTtxtpKRESyWFsdj0WaiIhksUjbjbWViIhksbY6Hos0ERHJYpG2G2srERHJYm11PBZpIiKSxSJtN9ZWIiICAOj1wOXLQEkJcOECUFLC2upoLNJERCSLAdhurK1ERI1s925g9WrgvfeA7dvl+2RmAhcvWi4/cAB46ing8ceBUaOAqirLPmvXAlOnyu/3iSeAu+4C2rYFMjLk+8TFAVu3Wi7fuxcQ4kb74QfWVkdjkSYiIlkMwHZjbSUiqmPnTuCVV4AnnwRGjpTvM3o0kJIiv87T0xQg3dyAYcPk+4wfD/zxh+Xyn382heOZM4HZs+UD8KFDwIYN8vv9/nvg22+BjRuBI0fk+xw7BpSXWy6vrgZKS4ErV4CKCqC0lLXV0VikiYhIFgOw3Vhbichpbd9ufYb1oYeAHj2A2Fjgrbcs1587Zwqpx45Zrps0CfDzA7RaICJCfv+rVwM5OfLrDAbbxn+nY211PBZpIiKSxSJtN9ZWIrolP/4oHyIrK4FHHgHuuw+4915g+XLLPrt2Af7+8vtNTLxxKq5CId8nOBho2VJ+XXy86VTfHj2A//zHcr3BAHz5pWmmk+SxtjoeizQREclikbYbaytRE/v0U6BNG6B9e6BdO1NgrOuNN4BOneS379YN0GhM7Z575Pu0aAG89JLl8q1bAQ+PG23OHMs+c+aY1smJizOFTyEALy/5Pt7eQEyM5XK9HlAqTacBe3gA6emWfQoKgKgoU9+6Vq4Exo41zcYuWCB/bGparK2OxyJNRESyWKTtxtpKZIOHHgIiI4FmzYDu3eX7CAE88IDl8jFjbsxiKhTAZ59Z9hk1ynTKrZzwcMDd3RQirZ2O27w58MILlst37zbNsAYEmAL0++9b9lmxwvTc5MybB4wYYXoO/+//yfe5ckU+wJLzY211PBZpIiKSxSJtN9ZWF1RWZro+UaezXDdrFtC5s+kusXKzdoDp7rOPPy6/LjMTyMoCFi+Wn8m8U23aBPTrZ3rOoaHA779b9mnTxvqptjWzoEKYQrCcESNMxyFyFaytjsciTUREslik7cba2kSmT7c+oxcWdiNMubnJ91EqrV8bWftrSjQay/X/+IdpXVGR5bqau9PWNDkeHqYZx4aO7elpub6y0rRO7utXYmLMt79yRb6PSiV/7JAQwNfXtL5XL+vjGz/ecnlKivmx162z7PPGG8DgwfL7JfozYm11PBZpIiKSxSJtN9bWeowdC7z9tuXy5cvNw1Tr1pZ97r/fesAMCGg4AIeHm24CJCcy0nQtaXw8sHCh5fqyMuCjj+RngG9VZSVw9iywZw9w9Kj8+gcekF83eTIQGGh6/tZC7t13y4d6wPRHgZqfm6+vfJ+2bU3X3BLRrWNtdTwWaSIiksUibbc/bW0NDGz4DrNCyM+EHj5s2sbT0xTmrF0bSUTkzFhbHe9PW6SJiKh+LNJ2c9ramp9vupbTx8c0Mzh2rGWf9u2tz8K6u9d/Ki/Ar0choj831lbHc9oiTURETYtF2m7+Qgi0alWG5s2BPn3kf74+PsCzz1ouf+kl81OBJ0607NOhg/UQWnvb+vrIzcK+/bb5tl27WvZZtw7o21d+v0REVD/WVsdjACYiIlks0nbzF0JAiLIGQ2irVpbLhw41D6FPPWXZp08f66cYh4aawq2np+nfcnr1kr+hEhERNS3WVsdjACYiIlks0nZjbSUiIlmsrY7HIk1ERLJYpO3G2kpERLJYWx2PRZqIiGSxSNuNtZWIiGSxtjoeizQREclikbYbaysREclibXU8FmkiIpLFIm031lYiosb29dfA++8Dr78ObNwo32f+fKCkxHL5yZPA0qXAihXAypWAXm/Z5/RpoLBQfr8nTwLHjgEnTsjvHwAqKwGDocGnwdrqeCzSREQki0XabqytRI1l927gwgXL5dOnA2o10KwZEBQE/PyzZZ833gDuu09+v2PGmNalpgKTJ8v3eeMNYN8+y+WXLgFr1wJ5ecDOncCVK7Y/H1dXUQF8+ilQXW25btky0y3su3QxNTkDBwI9esiv8/U1fUG5pycwerR8n5EjgbNnLZdv3246dq9epv1XVVn2yckBnn5afr8PPGA6rlIJjBsn3ycqCtiyxXL5/v2AVmv6PQ0LQ9lPP7G2OhiL46hX8gAAIABJREFUNBERyWIAthtr65+VTgccPCi/bs0aU2D6s7lwwRRi5YSGAh4eplAh951ggOm7wP7yF8vlzz9v2s7NzdTkguoDD5i+cFuOl9eN7xrz9bV+bLkAnZVl/l1lL79s2WfwYOvfgda8ecPHbtYMGDTIcvnZs6bn6+5uapMmWfbJzbW+3xEjgIAAQKOx/jP/y1+Axx+XX6fVmn52bm7A2LGW60+fNn1HW1GR5br/+z+gfXugc2cgOVl+/9u3A5s3y6+7UxiN8ssvXDDNAtdVXg78+KPpd3T3bpSdO8fa6mAs0kREJIsB2G6src6mrAyIjDTN0KhUwAsvWPaZNct6oHFzMw9EcoQwBTZr62qa3Jc3//67KVTIBegJE4AWLYDoaKBTJ/n9nz17a7OUu3YBpaXyx64JQwqF6YN+Xf7+1n8m3t6mn4mHh/UZwXXr5PfrSNXVplNhCwutzwD//DOwaJH89suXA//4B5CeDrz5pnyfyZNNp+rWdeUK0L8/0Lcv0Ls38Pnnln327rX+u/DCC6bgGxEBxMXJ93ngAWD4cPl1U6eaZt8XLgQKCuT7UL1YWx2PRZqIiGSxSNuNtbWpvPOOafZMTkCAbSHUzc1yeVmZ+baRkZZ9li0zhTWdznJdRgaQkgI8+SQwb578sa9ckT81EwDuuccUYMPCgOees1z/44+mgLlzp+W68PCGn7e7e/0/k5qm1VrvM3685fIRI0zjcnMzhdnff7fsU1DAoERUC2ur47FIExGRLBZpu7G21qdzZ+DFFy2Xv/OOeRhr29ayT9eu1oNcUNCNWVaVSr5Pejrwn//YP3ZnlZdnui5TTtu2puCrUplmFeV89dWdNwtL5KRYWx2PRZqIiGSxSNvNtWvrRx8B8fHy62w9FVjuusz8fFN49fIyBbK33260IRMR3SlYWx3PtYs0ERHZjUXabnd+bW3fHpg40XJ5RoZ5gE1KsuzTqpX1cNus2Y0Q27p1ow6ZiMgVsLY63p1fpImIyCFYpO12a7W1uNh0t9QRI4Bu3eTvoNutm203VLrZWdiPPjJd01kTYv/f/7PvORARkSzWVsdjACYiIlks0nYz1daar3dp1kz+B2ztOteoKPMAK/d1IZGR1sNt69am6zlDQ03fcUpERHcM1lbHYwAmIiJZLNJ2M9XWhmZhPT2BkSMtlx89arpR06lTTfsfTEREtx1rq+MxABMRkSwWabuxthIRkSzWVsdjkSYiIlks0nZjbSUiIlmsrdYNFELsE0LsF0L8JIT4m5V+DwkhDgshjggh/ieEUNm4rgaLNBERyXLSIt1WCLFDmGpfvhAiRqaPQggxTwhxUAjxoxAiTwgRXWs9aysRETUJJ62tt0WxECL2+r9bCyEqhBB+dfr4CSH+EEK0u/54oRDiDRvW1cYiTUREspy0SOcJIUZf//djQojdMn0eEULsEkIorz+eIoT49Pq/WVuJiKjJOGltvS0uCCF6X//33UKIIiGEe50+Q4UQ62o9jrner6F1tbFIExGRLCcs0sFCiFJxI9gKIcRZYT67K4QQg4UQPwjT7K1CCPG6EGLu9XWsrURE1GScsLbeNvcJUwj+TZiKeX+ZPhOFEO/WeuwjhKgWpsJf37raWKSJiEiWExbpBGE6Pbm2fCFEcp1lCiHEW0KIq0KIM0KIPUII3+vrWFuJiKjJOGFtvS3chBCbhRC9rj/uKkwFulmdfizSRETUZJywSNsagLsJIdYLIdTXH78uhFh6/d+srURE1GScsLbeFl2EED/XWbZbmGaF/z979x1eRZX/cfybShJCgCBdOlIEKbIo6M+KIggiAjYsLJZVZFFjX1fXBJBeFBCpohTFXkCNLmDBBorYV8UVERRFWWCRvvL5/XESCeTcEIYkkwvv1/Ocx3vvzNx7bpFPvnPOzOTVy8xeznP/aDP7vhDL8kozM/Xv318ZGRnKyMhQdnZ22L8LAEBIsrOz/8iD/v37R1tIF3YK9HgzuyPP/aNt72nOZCsAoMhEebaWiCpmtsnMmuTcb2hmv5rZkfusl2ruZByNcu7nPRlHQcvyYi81AMArSvdSLzKzPjm3e5n/JFgZ5kaAE3Lu3257CluyFQBQbKI0W0vEheYuf7Tc3CUaLsx5PMvM/pJnvdzLMXxtZs/Ynulc+1uWi5AGAHhFaUg3MrN3zF2maKm5UVozs6nmctHMLNHMppjZF2b2kZllm1ndPM9BtgIAikWUZushhZAGAHgR0oGRrQAAL7I1fIQ0AMCLkA6MbAUAeJGt4SOkAQBehHRgZCsAwItsDR8hDQDwIqQDI1sBAF5ka/gIaQCAFyEdGNkKAPAiW8NHSAMAvAjpwMhWAIAX2Ro+QhoA4EVIB0a2AgC8yNbwEdIAAC9COjCyFQDgRbaGj5AGAHgR0oGRrQAAL7I1fIQ0AMCLkA6MbAUAeJGt4SOkAQBehHRgZCsAwItsDR8hDQDwIqQDI1sBAF5ka/gIaQCAFyEdGNkKAPAiW8NHSAMAvAjpwMhWAIAX2Ro+QhoA4EVIB0a2AgC8yNbwEdIAAC9COjCyFQDgRbaGj5AGAHgR0oGRrQAAL7I1fIQ0AMCLkA6MbAUA7LF7t7R1q/TLL9r02Wdka8gIaQCAFwVwYGQrcLj57DNpxAipVy+pZUupWjWpbFkpLk6KiZHM9rSYGCk21i2Lj5cSE6WkJLd+WpqUni5VqSLVrCnVrSs1aiQdc4z0pz9JJ50kdewode8u9e4tXXONdPPNUlaWNHas9PDD0vPPS4sXS198If36q/S//4X96USHnTulDRukH36Qvv5aWr5ceust6ZVXpGeekWbPliZPlsaMkQYNku64QxowQLrySumii6RzzpFOP106/nipeXOpfn2palUpNdV93znf/yaXq2RriAhpAIAXBXBgZCtwqFi2TBo40BWcxxzjCtOUFH9hm7fFxkplykgVKkgNGkinnSb16SNddZV04YVSt25Shw7SiSdKxx7rCqaGDaU6daTq1aXKlaWKFV1BnJLiCuTERFcwx8W55y/o9QvTIhXiKSnudevWlZo2lZo1c/075hhX3LduLbVp4wry445zBV/79u69nHSSdMop7v126CCdcYYr2Dt1ks4+W+raVTr3XOm886QePdwOgwsvlC6+WLrkEunyy6U//1nq29d9VtdcI/XrJ/31r9L110sZGdJNN0m33uoK0DvvlO6+2+0AmDtXmj5dGjdOGjpUuusut/4110iXXupes2NH189WrdyOhZo13XeUkLD3Z1OmjNsRUauW1KSJe78nn+zeR8+erp/9+km33CLdc480fLg0YYI0Y4b0xBPSiy9Kr78uLV0qff659N130i+/SFu3atPGjWRryAhpAIAXBXBgZCtKv82bpXnzpNtvd0VJixauGDjqKKldO1es9OnjiowpU6RFi9wf8IeCXbvcCOmdd7r3efTR0hFHSMnJrhgsqGiMjXVFYnq6K6DOPNMVQS+9JG3bFvY7c3bskNaulT79VHrtNTd6OW2aNHq09I9/uKLwqqtc0dmtmytS8xbiRx3lCvE2baQTTnC/h+OOk9q2dY8de6wrIFu0cEVx8+buM2zSRGrc2G3fsKEr/OvXd4V0nTqumDzySPc7q1HDFfrVqrmdCpUru1apkvtsK1Z0hWmFClL58q4gL1fOjaaWLetaSor7znJHz9u3d+/l3HPd6PjVV0s33OC+53vvle67T5o6VXr0UTdK/s9/Su+8I338sfTNN+4z++9/i33EnGwNHyENAPAipAMjW1H8Nm92hc3NN0udO7tCpEYNVyiUKeNG9A52hDDoqGJMjCskExL2FCcVKrjpoPXquRHFE05whXffvtLf/+6K7DfflDZuDP6Z7NolvfqqdNttbqSvUSNXUCUl7TUF1dvi4tx6RxzhRj07d3aF0+uvu+cFigjZGj5CGgDgRUgHRrZi/9avd1M2r79eOussN4qWt4Dd3xTbwhaj8fHu+cqXdyNvLVpIXbq4IvGFF1whvT8//uhGgCdOdCPCffq4qaDt2rmRvzp13ChehQqu2C1TxhW/udN0i7oQz33O2NjCFbbJya5/zZu7Ec/MTDc1lcIWISBbw0dIAwC8COnAyNZDyfbt7hi+GTNc0Xj++W66aNOmbjpnpUpuWmZSkis291eQBSlgk5JccXnkke4YzG7d3Ojkyy+7/h0KVq1y04gnTHDHd/bu7UZxjzvOTa2tXdsVseXLu6mviYmuyK5a1X0mPXu64z4//jjsdwIUiGwNHyENAPAipAOLjmydOdMdaxdpdG3fUba8J8opU8aNqqWkuOPyypd3z1W1qhvFrFPHf+baHj3c6OGAAe7ENfffL82ZIy1Y4M5Yu2HDgb2HvMVpRoYrgvIWp+npxVecFrblHjNaoYI7BrJ1a3dCpbvvlhYudMdrAjhskK3hi46QBgCUOEI6sNKXrevXu5PWhFEAluaWW9gnJLiCPi3NjTLWreumCp9xhivYs7Lc8bY//xz2NwkgypGt4St9IQ0AKBUI6cDCz9brr3cFXaTCLzHRXXokDNu2ubOtLlkiPfecO/nRsGFu2uvVV7vraXbp4q6n2b69K9yPPtqdVbZ2bXfm2JYt3dl3+/Z1Z3edP19aty6c9wMAB4BsDV/4IQ0AKJUI6cBKNlsXL3ZFYUHHkTZqJK1YUTL9AQBERLaGjwIYAOBFSAdWfNm6dat06qnueNZIBW+5ctLIkUX/2gCAg0a2ho8CGADgRUgHVnTZOnKkK2gjFbvx8a4g3rr14F8LAFDsyNbwUQADALwI6cCCZeuKFW6qckHXTK1e3Z0xGQAQlcjW8FEAAwC8COnACpetvXu7k1FFKnaTk93JrAAAhwyyNXwUwAAAL0I6sPzZOneu/5q7eS/H07Kl9MMP4X3hAIBiR7aGjwIYAOBFSAfmsrWgqcwVK0ozZ4b9FQMAShjZGj4KYACAFyEdmMvWvNfc7dWLE1UBAMjWUoACGADgRUgHRrYCALzI1vAR0gAAL0I6MLIVAOBFtoaPkAYAeBHSgZGtAAAvsjV8hDQAwIuQDoxsBQB4ka3hI6QBAF6EdGBkKwCUIrt379au33dpy84t2rJzi3edL3/5Uuu3rs/3+JadW/ToJ4/q4eUPa8oHU7R289p863y34TsNemOQ93mnfzhdXeZ0UcdZHdX/xf5kaylASAMAvAjpwMhWAIelHbt2aNM2/799L379oiYunahRb4/Si1+/6F3n8mcu1/s/vJ/v8ddWvqb699dXrTG1VH1UdX3282f51sleka0ej/fwPu+FT14oyzRZpkVc5+w5Z+uZL57J9/gvW37RidNP1GkPn6aOszp6X3vlhpW6a+Fd3uddvGqxJi6dqGnLpmn+V/PJ1lKAkAYAeBHSgZGtwCFs3lfzdMPLN6j3U73V97m+3nVaTGyhrnO6epeVGVRGiQMTlTgwUdfMuybf8k9//lSJgxK9o5GXPn2pygwqozKDyih1SKr3+c+YeYbaTW3nXVZpeCUlD05W8uBk9ZjrLwRTh6Rq4bcL8z0+7r1xSh6crDKDyihhYII279icb51eT/RStVHVvM9bbVQ1xWXFKX5gvE5/+HTvOs0faK55X87L9/iyH5epwyMddPbss9Vjbg+t2rgq3zo///azlq5Z6n3eX7b8oh//+6N+3fJrxBHgkkK2ho+QBgB4EdKBka1AKXDngjv15OdP5nt8xa8rlDYkTcmDk5U4KFF3Lrgz3zp3L7xblmne560wtMIfo4kxmTHedRqPb6wzHjnDu6zd1HZqO6Wt2k5pq2nLpuVbvmbjGrWe1Fpbd+S/dviot0ep5YMt1WJiCx039Tjv82dkZ+jqF672Lms/tb2aTGiiJhOa6I4Fd3jXaTK+iZb/uDzf48t+XKbbXr1Nma9lasRbI7Rj14586/yy5RdvcYo9yNbwEdIAAC9COjCyFSXmic+e0Mi3R+rOBXdq7idzves0f6C5sr/Ozvf43Yvu3mtE7+O1H+dbp/tj3XXE8CO8z1t+aHnFZMYoJjNGlUdU9q4TlxWnXo/3yvf40DeH/lFEWqbpjn/mL8Y6zeoUsQhNGJiw3yI0LitOx0w8Jt/jKzesVMLABCUPTlbqkFSNWDwi3zqf/fyZLnvmMu/zAgeDbA0fIQ0A8CKkAyNbDzMnTD1BdcfWVfrwdF305EX5lq9Yv0KWaVr47/zTShve33CvQtAncWBixGV5t43NjI24Tu+neud7vPOszntt7yuSO87sqLQhad7nrTqy6h9TeRuNa+Rdp8aoGrpn4T35Hn/p65dUZUQVVR1ZVTVG1dD8L+fnW2f2x7MjTuW9OftmdZ3TVf3m99ODSx/0rgOURmRr+AhpAIAXIR0Y2VoKbd++XYu+XeRddvqM05UwMEGxWbGKy4rzrhObFavYrMgFZm7zFYtrN69VbGas3lj5Rr5lVz93tSoMraBKwyup2kj/sZNj3hnjnaYrSe+veV+r1q/Sjh35p6MCKH3I1vAR0gAAL0I6MLK1mPR6vJf6zeuX7/Ht27fvVYTWv69+vnVuePkGWaZp3aZ1+ZaVH1J+v6Ow3R7tpgsev+Dg3wSAwxrZGj5CGgDgRUgHRrYGUH1U9f0WoQUd72mZ9scIbrdHu+Vbvm7TOo1/d7y2b99epP0GgANBtoaPkAYAeBHSgR2W2bph2wbVGlNLZe8t64rQx/IXoV3mdIlY3Ja9t+wfxW98VnxxdxcAQkG2hu+wDGkAwP5FaUg3NLO3zewrM1tiZk0jrHeMmb1mZl+Y2edm1j3PsivN7GszW2Fmk80sLufxGDMbZWaf5mw31cziPc8d1dm6fO1yDZg/wFvASlJMZoxSBqfke3zDtg17jeDWGlPL+9wnTT9J27ZtK/J+A0A0iNJsPaREdUgDAIpPlIb0QjO7LOd2TzNb6lkn2cz+bWbtc+7HmFmlnNt1zewHM6ucc/95M+uXc/tqM1tgewriKWZ2i+f5S3W2LvhmQcSTLcVkxux3GnL68HQdPeHo4uwiAByyojRbS0SimY03twf6YzObGWG9SHup97csV6kOaQBAeKIwpCub2X9t7xHgX8ys/j7rXWlm880/AnyLmS2yPfn5kpm9mbNsvJk9lWfZK2b2kacfoWbr+q3rdd5j56nC0Ao677Hz8i2/8IkLZZmmNevX5FuW9VqW+s3rp+Vrl5dEVwHgsBOF2VpixprZ/XnuV/GsU9ci76WuV8CyvCiAAQBeURjSx5rZFtt7BPg3Mzt1n/XuN1cov2Vmy83sYXNTp83MZpjZJtuTnwvNbH3O7VvMbIe5/E0wszVmttXTj2LP1jXr12jm8pneZXlHcMsMKlNsfQAAHLgozNYSkWIufFP3s94tZjYxz/3OtmcvdUHL8qIABgB4RWFIn25mv5tZbJ7HdprZxfus909zhXG1nPtDzOyJnNuLzezdPOv+xcy259y+xdyU6g/NFc+zzWyXpx9Fkq0r1q/wjuBKKnCK8jlzztHSNUsP6rUBoDj97/f/af2W9fr2P99q+Y/L9frK1/X8l89r9iez9eDSBzXirRG6Z9E9uuWVW3Tt/Gt1+TOXq9cTvdRlThed/vDpOmHaCWozuY2aPdBMR407SkeNO0q9n+6ti5+6WBc9dZEueuoiXfjkhbrwyQt1wZMX6IInL9D5T5yvXk/0Uq8neqnn4z3V8/Ge6vF4D/V4vIfOm3ueus/tru5zu+vcx87VuY+dq26PdVO3x7rpnEfPUddHu6rro13VZU4XdZnTRWfPOVtnzzlbnWd3VqfZndRpdiedNessnTXrLHWc1VEdZ3XUmTPP1Bkzz9AZM89Qh0c6qMMjHXT6I6fr5EknR1u2lohjzGylmQ01s/fN7A1zob6vcWZ2e577Tc3su0Isy4sCGADgdQgXwK+bm8I8z9wI8LPmRnPNCi6A983Wm/IsyyvNzNS/f39lZGQoIyND2dnZhf7cyw0pt9corm+q8szlM/XJmk+K8usGQrdz5059+cuXevaLZzX6ndG68eUbdfGTF+vMmWeq7eS2ajK+iWqNqaUqI6qo/NDyKntvWVUeUbnQrcqIKt5WdURV10b6W7WR1Q6oVR9V3dvq3VdPLR9sqVaTWqn1pNY6dvKxajO5jdpOaavjph6ndlPbqf3U9jph2gk6cfqJOumhk3TyQyfrlBmn6LQZp+n0h0/XGY+coY4zO+qsWWep06xOOnv22eoyp4vOefQcnfvYuer+WHf1mNtDPR/vqfOfOF8XPnmhLn7yYvV+qrcuffpSXf7M5frzs39W32f76qrnr9LVL1yta+Zdo37z+6n/i/014KUBuuHlG5SRnaGBrw9U5muZuuWVW9Rvfj/1ebaPzn/ifHWZ00UdHumgE6efqDaT26j5A8111LijVGdsHVUfVV2VR1RWhWEVlDokVcmDk5U4KFFxWXGKzYrd6982X4vJjFFcVpwSBiYoaVCSyt5bVmlD01RpeCVVG1VNtcbUUoP7G6jphKZqNamV2k1tp1NnnKouc7po2OJhGrZ4mIa/NVwj3hqhEW+N0Mi3R2rk2yM16u1RGvX2KI1+Z7TGvDNGY94Zo7HvjtXYd8fqvnfv033v3qf737tf494bp3HvjdP4JeM1fsl4TVgyQROWTNADSx/QxKUTNXHpRD34/oN68P0HNen9SZr0/iRN/mCypnwwRVM+mKKpy6Zq6rKpmrZsmqYtm6bpH07XQx8+pJsm3KSOl3RUx0s6qsMFHaItW0tEazPbbWaX5NxvZe4Ypsr7rEcBDAAoNlFYAOdOge6Tc7+X+adATzdXGDfIub/QzH7Muf2wuVlYVcydHCvvFOgHzOyenNtHmDt++GdPP/bK1q1bt+b7bLdu3SrLNLWd0jbfssufvlzl7i2ns2aepRXrVxT79wwUxi9bftGibxdpyrIp+vvCv6vvs33VdU5XnTj9RDWf2Fz17qunaqOqqeKwikodkqqkwUlKGJiguKw4xWTG5DvBWlG03GKpqFtsVuzBt8z8LT4rXmUGlVHioETXBu5pCQMTlDAwQfED4/O1A+1j7ucdqRX2840fGF+oIvT4qcfr1BmnqtOsTjpv7nm65OlLdPULV+vGl2/UnQvv1JDFQzR+yXg9vPxhPfX5U/rnN//U0jVL9eUvX+qnzT9p267D66zwUZitJaKSuSlVMXkeW2r5R4GLbAp00L3UAIBDS3Z29h950L9//2gL6dyTYL1j7iRYS23PSbCmmlnXnPVuNpeJn5o7idUb5s6bYbbnJFjfmBslftn25Gemmf0nZ7vPzR1LHDFbra3J2rnmy9ZqI6tp7idzQ/iWsT+rN63WrI9mKSM7Q90e7aa2k9uq/n31VWVEFaUNSVPSoCTFD4wv1IjW4dpiMmMUm+WKvsSBiUoenKy0Ia6Iqjm6phre31CtH2ytU2acop5ze+raeddq8BuDNfvj2Vq6Zqm27NwS9s8AKDJRnq0lJttc0WrmTmi1zsyq77NOPXNTtnL3Uj9vZtcVYllejAADALyidC/1Itt7BNh3GaRa5grYcjn3bzU3HdqsCLPV7jBVHFpR1827Luyv8pC1btM6Pf7p47rtldvU/bHuajelnRrc3yC0QjU2K1YJAxOUPChZ5YeUV/WR1dXg/gZq/kBzNX+guZpNaKamE5qq6YSmajy+sRqNa/TH8YsN72+oBvc1UIP7Gqj+ffVVd2xd1R1bV3XG1lHtMbVVe0xt1RpTS0eOPlJHjj5SNUfXVI3RNVRjlGu502+rjnTTefNO8a08vLIqD6+sSsMr/dHSh6crfXi6Kg6rqIrDKqrC0AqqMLSCao6uqaMfOFrtprZTp1mddNnTl+m2V27ThPcm6JVvXtEPG3/Q7t27w/7qgagVpdlaIuqZC/FPzB2flHt5hrx7sM3cpRxy91JPsfyXQYq0LBcFMADAK0pDupHtPQJ8dM7j++bnJbZnBPhFM6uZZxnZWgps27ZNGdkZqjqyapEXsLmFatKgJKUNSVO1kdV01Lij1G5KO/Wc21N3vHqHHv/0ca3btC7sjwHAISZKs/WQQkgDALwI6cDI1gOwfO1ynTT9JKUMTtnv8YmxWbGqPKKy/jTpT+r+WHdlZGdo9keztXrT6rDfBgAUCtkaPkIaAOBFSAdGtnoMe2OYao+trfis+P0eO1pmUBm1mthKL339UtjdBoAiRbaGj5AGAHgR0oEdttm6csNKdZ7VWWlD0vY7mhuTGaP0Yem69OlLtWHbhrC7DgAlgmwN32Eb0gCAghHSgR3y2TrjwxlqNK6REgcm7vd428SBiWo0rpFmfDgj7G4DQOjI1vAd8iENAAiGkA7skMjWDds26NKnL1X6sPRCjeamDUlT51mdtXLDyrC7DgClFtkavkMipAEARY+QDiyqsnXuJ3PVYmILlRlUZr+FbnxWvGqPra1hbwwLu9sAEJXI1vBFVUgDAEoOIR1YqcrWBd8s0PFTj1fqvan7LXBzR3NTBqfopOknafna5WF3HwAOKWRr+EpVSAMASg9COrASzdala5bq5IdOVrkh5QpV4OY9Nrf2mNq66eWbtHXr1hLpKwAc7sjW8FEAAwC8COnAijRbV6xfoc6zOqvi0IqKzYwtdIEbnxWv6qOq6y/P/0Vbtm4pkr4AAA4O2Ro+CmAAgBchHdgBZeua9WvUa24vVRpeSXFZcYUucOOy4lR5eGVd+MSF+nXLr8X8awAAFAWyNXwUwAAAL0I6sL2ydf3W9br86ctVdWRVxWfFF7rAjc2MVfqwdJ0z5xytWL8i5F8DAKAokK3howAGAHgR0oGlmZnsjv0XuGlD03TqjFO1dM3SsL9uAEAJIFvDRwEMAPAipAP7owBOvTdV7ae114JvFoT9dQIASgGyNXwUwAAAL0I6MLIVAOBFtoaPkAYAeBHSgZGtAAAvsjV8hDQAwIuQDoxsBQB4ka3hI6QBAF6EdGBkKwDAi2wNHyENAPAipAMjWwEAXmRr+AhpAIAbtnl3AAAgAElEQVQXIR0Y2QoAJWDrVunf/5bef1/66Sfp11+lTZvc47t2Sbt3h93D/MjW8BHSAAAvQjowshU4CL/8Ij38sHTVVdJJJ0kNGkgVK0pJSVJcnBQTI5m5FhMjxca6x8uUkcqWldLTpRo1pEaNpLZtpc6dpT59pLvvlmbMkJYulbZtC/tdHp5+/11av1767DNp4UJp7lxp3DjpnnukAQOkyy6TunaVTjlFatNGatJEqlVLqlxZSkuTkpOl+Pi9fwP7a/Hxbru0NKlSJalaNfec9eq530izZlKrVu630r69dPLJUocOUqdO0jnnSOedJ11wgXTJJdKf/yxdfbV03XXS9ddLN98s3XGH+20NHCgNGSKNHCndd5/0wAPSlCnSQw9Js2a59/r009LcuWRr2AhpAIAXBXBgZCuQY+dOadEi6e9/l84+2xUbVau6QjUh4cAKmZiYPcXMEUdI9eu7AqZmTVf0pqa6IjguzhXFB/LceYvp+Hj3PKmp7nlr1pQaN5aOO869h759pcxMaeZMadmyQ7+Y3rVL+uEH915ffNHtnBg1Svrb36RrrpEuvNAViyeeKLVsKTVs6D6zSpX2/k5830dMzJ6dF6mpbpuaNaWjjnLPdeKJbgfGRRdJ114r3XmnNHq09Mgj0ksvSR9+KK1d635nO3ZIv/0mbdggrVvn+rxqlfTNN9K//iV98ol7D0uWSG+9Jb32mvTqq+49Pfec9NRT0mOPue91+nRp0iRpwgRp7FhpxAjp3nvd937XXdLtt0s33eSK9muvla680u1k6d1bOv98qXt3qUsX6ayzpNNPdzty2rVzRX2zZmRr2AhpAIAXBXBgZGsU277dFWxZWe6P7v/7P1f8VK8ulS/vRiETElyhdCDF1YEWX2XLShUqSFWqSHXquMKxXTs3OnbFFW7EaeZMN/Vzx46S+3xWrXJFwWWXuYKwdm3XzzJlDqzozH2/iYluZK5WLTcCd/HFrsD58svi6f/mzdI777gC5847pcsvd0XKn/7kiukaNVzRW7bs3oXbwRTTSUmuuKtSxX1etWq5Iq9GDfe7qlrVLatc2RWA6eluxLtCBfebS0tzLTXV9SslxbXkZPfcSUmur4mJe1pCgnvt3BYXt2fHQN6W+9587zHSbzzvjoi0tD3vq0kTV+CdeqrUrZv7jVx/vSsax493I6CLFklffOGK1N9/L57vuLQjW8NHSAMAvAjpwMjWErJunfTEE240pnt3V0DVr+/+IC9Xbs+U2aIuVn0tNtYVHcnJrmipUcMVBMceK7Vo4abxVqu2Z6Qyt5COjw82WllUxXZioutzuXJ7iq+UlAOfZhoT495PSor7/Js2lTp2lG67zY3U7dwZ9q+l6G3YIC1eLE2e7EZDL7lEOvNM9503bOiK2woVXNGamOiK1LQ09/uoUMEVuenp7nM/4gj3uVWt6rarUcMVybVqueKybl03ZbdBAzc62rix+301ayY1b+5+Y61auQK0bVu3s+SEE9wOnJNPlk47zU3r7djRjWJ37Sqde67Uo4fUq5cbxb30UjeKecUVbprvmDHSM8+4HQbffnvoj3SXFLI1fIQ0AMCLkA6MbC1CGza4kcaiKmJzjxdNTNxzvGjt2q6A6NhR6tdPmjhR+vzzsN95wdavl954w/X19tvdaFvHjq74adxYOvLIPcdNpqS491vYYjt3WmpSkivU6tZ1xVSfPu71Vq0K+90D0YtsDR8hDQDwIqQDI1sPwoIFbvQrUpFWoYIb5erWTcrIkGbPllavDrvXAFA4ZGv4CGkAgBchHRjZegCystxIbKSRyKZNpZUrw+4lABQNsjV8hDQAwIuQDoxsjWDbNjdNNz7eX/AmJLiRXY41BHCoIlvDR0gDALwI6cDI1hxffOFOBhRpOnNamrtmJgAcLsjW8BHSAAAvQjqwwzZbp0xxZ7aNNJ25dm3pvffC7iUAhIdsDd9hG9IAgIIR0oEdNtl66aXu0i6+gjcuTjrpJHcWZwCApNdf16Z77iFbQ3bYhDQA4MBQAAd2SGbr2rXuOqORLkeUkuLOygwA8JgzR0pJ0aZx48jWkB2SIQ0AOHgUwIEdEtn63HNS1ar+43djYqQqVdw6AIAC7N4tDRkilSsnZWeTraXAIRHSAICiR0gHFpXZeuutbhTXN7obGyu1bOlGgQEAhbRrl3T11e7i5suXSyJbS4OoDGkAQPEjpAMrNdm6das0c6bUubNUp46UmuqOzfUVuXlbmTLSRRdxOSIAOCg33SQdc4z0/fd/PES2hq/UhDQAoHQhpAMrtmxdsEDq3Vtq3NhdQig+PvIlhg6kpaZKDzxQ5N0FgMPb2rXSxo17PUS2ho8CGADgRUgHVqhs/eQT6brr3NTi9HQpMbFoitnYWCkpyR2/2769lJUlrV9fQj8aAECByNbwUQADALwI6cDSzEwxMZsOupiNiXGFcXq6K5QHDJBWrAj7lwEACIpsDR8FMADAi5AOLM3MZLYpXzEbH++mLjdu7KYyL1gQ9rcMACgSv/9eqNXI1vBRAAMAvAjpwMhWADhc7N4tDRokXXlloVYnW8NHSAMAvAjpwMhWADgc7NzpCt8jj3QndigEsjV8hDQAwIuQDoxsBYBD3aZNUseO7gQNa9YcwGZka9gIaQCAFyEdGNkKAIey1aulFi2ks85yhfABIFvDR0gDALwI6cDIVgA4lF1zjZv6vHPnAW9KtoaPkAYAeBHSgZGtAHAo27HDnfwqALI1fIQ0AMCLkA6MbAUAeJGt4SOkAQBehHRgZCsAwItsDR8hDQDwIqQDI1sB4FCwY4e0fn2RPiXZGj5CGgDgRUgHRrYCQLTbsEE6/XR3sqsiRLaGj5AGAHgR0oGRrQAQzb7/XmrWTDr7bGnz5iJ9arI1fIQ0AMCLkA6MbAWAaLV8uVSjhrvU0a5dRf70ZGv4CGkAgBchHRjZCgDR6OWXpXLlpGHDAl/maH/I1vAR0gAAL0I6MLIVAKLRP/4hPfposb4E2Vqwvma228y6RVje1cz+ZWZfmdlTZpZayGV5EdIAAK8oDemGZva2ufxbYmZN97P+IjP7zz6PHWy+kq0AAK8ozdYSUcdcgL9t/gK4rJn9ZGZH5dwfb2YjCrFsX4Q0AMArSkN6oZldlnO7p5ktLWDdDDObbHsXwEWRr2QrAMArSrO12MWY2T/NrLWZvWb+AriXmb2U535TM1tdiGX7IqQBAF5RGNKVzWyjmcXmeWytmdX3rNvMzF43s3q2dwFcFPlKtgIAvKIwW0vEzWb2j5zbkQrgm8zswTz3k81sl7nQL2jZvghpAIBXFIb0seamJ+e1xMxO3eexeHMzrBqZm3GVtwAuinwlWwGgNFu5Uvr881BeOgqztdg1M7N3zCwu5z4FMAAgFFEY0oUtgAeZy0ozs7pGAQwAh48PPpCqVpUyM0N5+SjM1mJ3rZn9YGbfmtlKM9tm7nija/ZZr5eZvZzn/tFm9n0hlu0rzczUv39/ZWRkKCMjQ9nZ2aH8GAAA4cvOzv4jD/r37x9tIV3YKdBvmsvYb81NYf4953YlK5p8JVsBoDSaN09KTZVGjSq2yxz5RHm2lrhII8Cp5grjRjn3856Io6Bl+2IvNQDAK0r3Ui8ysz45t3tZwSfBMnNToDfkuV8U+Uq2AkBpM3GiVLas9MQToXYjSrO1RC2yPQVwlpn9Jc+y3EsxfG1mz5hZuUIuy4uQBgB4RWlINzJ3KNFX5orfo3Men2ouG/e17zHAZgefr2QrAJQmd94pVaokvfVW2D2J1mw9pBDSAAAvQjowshUASpPHH5e++irsXkgiW0sDQhoA4EVIB0a2AgC8yNbwEdIAAC9COjCyFQDgRbaGj5AGAHgR0oGRrQAAL7I1fIQ0AMCLkA6MbAWAMDz3nPTSS2H3okBka/gIaQCAFyEdGNkKACVt/Hh3maNnnw27JwUiW8NHSAMAvAjpwMhW4HAzbpzUs6fUoYN03HFSs2ZSvXpS9erS6tX+baZNk6pV29OqVt3T7rgj8msdeaRUpUr+9qc/Rd6mUyfpiCNcq1Rp77ZqlX+bl16SWrWSjj1WatNGattWOv54qX176aGHIr/WeedJZ58tde0qnXuu1L271KNHwe9p8mTp2mul666TBgyQrr9eysiQbrlF2rzZv83XX0sjRkijR0tXX+3e27vvRn6NUoJsDR8hDQDwIqQDI1tRNDZvlt54Q5o5Uxo6VLrxRumyy1xhMW5c5O3S06XkZCkxUUpIkOLjpdhYKSkp8jbJyZKZvz31lH+boUPdayQlSSkpUmqqVL68e/2+fSO/VteurkDq1Uvq08cVO3//uzR9eqE+lkJbtky68kpXkJ12mivgjj5aqlvXFVaRxMVJMTH5P4fY2MjblC2bf/2YGLfNsmX+bSZNyl+M5rabb478WjVrSpUr72m5BXCbNpG36dJl7wI7b4tUAGdnu+c89lhXCLdoIR1zjCvux4+P/FqNG0u1a0u1arm+1qjhdgScfHLB/StfXkpLk8qVc7+lsmVdi7QDYeLEPb/vxo2lFSsiP38pQraGj5AGAHgR0oFFR7bOnSt17uyKgVq1pDp13MhVJH/7m3TKKdIZZ7jtunVzBcyll0orV/q3WblSmjFDevJJN5q0eLG0fLl7fMOGon0/27dL69a558/Odq87erR0992R/4CeP19q2lRq0MD9wV6jhisk0tPdaF4kSUmuSIqN3dPM3B/jkaSlRS4wBw/2b9OuXeRtkpMjv1akbRITI29z0kmu8KpZ030GlSpJFSq4YiTSqNptt7kiL7flfa2GDQ+8f2aRt4mPj7zNc8/5t7nkEv/6MTHu/UbSuLFrxx7rfvPdurlCfcSIyNsAhUS2hi86QhoAUOII6cBKPlvXr3eFXtu2bkQoMdGNdEUSpAApaJsePfzbNGoUeZuYmJLrX6TRyBNOKNoCs6ARwpYt3XOmprrCslIlV3DXrSu9845/m1Wr3OjvG2+42zt2RH7+Q8HOnZGXTZ/uvscLL3QjyKed5qb19u0rrV1bcn0EDhLZGj4KYACAFyEd2MFn69Kl0uWXu1GotDQ31c/n1FODFWPnnOMK5vXrg/cxr23b/I+vXStNmSLdf780bJh7zVtvdcf4zZkT+fk6d3bF6XHHuVG4li1dQX/CCZG3mTHDjVIPH+6OrXzmGfc5rl7tRocBoBQgW8NHAQwA8CKkA9s7W7dudQXZWWdJTZpE/sDj4iIXs5G2W7DATd096yw3Urh1a9H/EAAA+ezevVu7d++OuHzn/3Zqy84t+m3Hb/rv9v9q0/ZN2rhto1b9vIpsDRkFMADAiwI4MJetBzqF96yz3NTYJk2kK66QPvmk5L5sAF67du3Stl3btGHbBm3eFuFsxJLeWPmG5n01T09//rQe++Qxzfl4jmYsn6EnP38y4jZLVi/RrI9nedvGrRu926zbvC7iNst/XB7xtZ76/CnvNs//6/mI23z282d67l/Pae6nc/XIR49o6rKpGr9kvEa/M1rrt/hnj3z5y5fq82wf9X6qt85/4nx1f6y7uszpoo4zO2ryB5Mjvla7qe3UcFxD1buvnmqPra2ao2uq2qhqaj2pdcRtuj3aTYmDEpUwMEFVRlZRnbF1VHtsbdUaU0urNvpP7LV87XJVGl5J6cPTVXFYRVUYVkHlh5ZX2tA0jX13bMTXOmrcUYrLilNsVqxiMmNkmSbLNLWZHPnEY7e+eusf6+3V7jCyNWQUwAAALwrgwFy2Jia6kwm1b+/Olsvo7CFn0/ZNWrp6qWZ/NFvDFw/X/C/nR1z3lBmnqPWk1mo9qbVaPtjyj9bh4Q4Rt7lu/nVq/kBzNX+guZpNaLZXe+d7/3HD876cp6PGHfVHa3h/wz/adfOvi/haLSa2UP3766vZA83UZEITNbi/gerdV0/HTjo24jYdHumgckPKqey9ZZUyOEXJg5OVNDhJZQaV0bNf+K/FOvTNoX8UEfu2RuMaRXytvEVH3haXFRdxmyOGH+EvQDJNE5ZM8G7Tb36/iNukD0uP+FqRtrHMyDu9ao6uGXGbWR/P8m4z5M0hEbdpPL7xAfcvNivyoRInPXSSLNP++H5is2IVlxWn+IHxEX9/r37zqtKHp6vyiMqqNqqaaoyuoVpjaqnO2Dq6a+FdEV+r+2PdddrDp+nMmWeq8+zOOvexc9Xz8Z7KyM6IuM2LX7+oIW8O0ai3R+npL57Wm9+9qcWrFuutVW9p2y7/YRm/7fhNy35cpg9//FDL1y7Xxz99rE9++kSf/vyp1v22LuJrrdq4Sv/+z7+1csNKfbfhO63auErfb/xeP23+KeI2v+34Tb9u+VXrt67Xf7b+Rxu2bdDGbRu1et1qsjVkFMAAAC8K4MDI1hC0mNhCNUbX0BHDj1D5IeVV9t6yShqUpPJDykfcpuKwihELgxtevsG7zcnTTw5UTAQpkBIHJkbc5uZX/JfJ6fV4r4jbpAxOOeD+xWRGPllZjVE19iqQ8rbpy/yXNJrw3gQlDExQ4sBEJQ1OUvLgZKUMTlHZe8vq7NlnR3ytxuMbq9aYWqo7tq4a3NdAjcY1UpvJbdTr8V4Rtxn37jhd8MQF6v1Ub132zGXq+1xfXf3C1eo3v59Wb/CfGXz1htUa++5YTVgyQZPfn6wZy2dozsdz9OTnT+qznz+L+Forfl2hlRtWau3mtdqwbYO27dqmXbt2RVwfhy+yNXyENADAi5AOjGw9CCMXj4w42ldQMRakwKwxusYfhWvuyFbioEQlDUrS7I9me7dZunqpOs/qrIuevEg3vHyD7n39Xs3+aLaWrl6qTdv5zgEUjGwNHyENAPAipAMjW3MMe2OYao+trZTBKYrNit2rKD394dO92wyYP2Cvgjc2K1Zl7y2revfV090L7y7hdwCgJP3+u7Rpkzt5+xdfRD5R/e+/u5O+33ijdM017iiThx6SHn5Yev31yM///vvSCy+4S4C/9JK7ZPirr0r//KcU6XxW69e7E8p/8IH04YfSRx+5UzR89pm00X+otiTp+++lNWukH3+UfvrJXab811+lH34gW8NGSAMAvCiAAztks3X52uW64rkr1Hh8Y6UNSVN8VnyBo7JxWXERpwoXdGwfDl3ffOOKjylTpKwsqX9/6eKL3SV9t2zxb3PbbVJKipSUJCUkuBOmx8a6//buHfm1Kld2rXp1qVYtqV496aijpG7dIm8zYoR05ZXSX//qXnfgQGnsWHci99I8o/l//3PNZ+NGafly6d133SWlFy50hd/zz0vffhv5OWfPliZPlkaPlgYN2lNwjhsXeZurr5aaN3eXAK9bV6pZU6pa1V32OtLnd9ddkU+AP2BA5NdKTpbKlpXKl5datZJOP91dHvof/4i8zW23uXVbtHD9PPpod97BRo0iF8AvvODeQ+XK7n1UrOjOV5iWJj39dOTXivSeunUjW8N2yIY0AODgUAAHFlXZ+uN/ftStr9yqVhNb6aTpJ0VcL8gU42iyfbu0eLE0frz7gz+S+vX3LsLy/mG7eLF/m3btIv8xXL9+5Nfad92YGNfKli24f4mJUpkyrmBMTnbFY2qqtGKFf5uJE6U6dVxx2KyZ1KCBK1wqV5auvz7ya+X2Z99+xkU+L5V3/dz26af+bXr12vNauYVvQoL7HG7wH6otSYqP3/M95W4fE+M+i0iSkiL3b+1a/zb/93+Rt2nf/sA/i7S0yNukpUV+rUijpT16RN6mQ+RzsCk21rX4ePebyi04C3pP/fpJxx8vnXyydOaZUteu7vu77DJpxw7/NqtWSc89567q9t57bmR11Sppw4bSvdNhf3bvdiPVu3a5975tmzsX4s8/k61hi6qQBgCUHArgwEp1tm7dujVQMXvp05dqwPwBWrlhZcl1tpBuu839ge4rSuvVi7xdpKLACqjpC7pc86JF/m3GjNkzCpae7kaPypVzhVhBI5gJCXuKkNwWE+MK2khSUiL37x3/iXvVunXkbVpHvgqNypZ176FCBVcs16zpiudOnSJv8+670ptvummhO3dGXq+02bUrcjH22WfS4MFuhPSGG9wo6CWXSD17FjxCeNVVbt1+/dyI8w03SLfeKk2aFHmbF190o+czZkizZklPPCE984w0b17kEeDNm91I75o1bhruxo2uIIu0PooX2Rq+Uh3SAIDwENKBlVi2zlw+U5WHV1Z8Vny+QjY+Kz7idjGZMYrPilel4ZXU4ZEOWrwywtBlSJYskY491o1i5i3G/vY3//onnhi5gDvmmMiv06qVdMIJbkrsX//qRn8XLXLHIAJAcSBbw0cBDADwIqQDO+hsffHLF3XyQyer4rCKisuK07T3p3nXqzO2jncUNyErQec9dl7g1w+Tb1poTIw7zm/BgrB7BwAHh2wNHwUwAMCLkA4sULZGOmGUZZo6z+pcTN9yyVi8WGrZcu8R3UgyMqQ+fdzxcgBwqCFbw0cBDADwIqQDSzMzxdzhv5ZtJM0nNFfS4CTVu6+erp9/vdZvjXBGmygS6SQ/MTHuBDcAcLghW8NHAQwA8CKkA0szM9kde4remMwYJQ9O1tHjjw77ay0SCxa4Y2sTE90ZYiM58kh30qcrrmBEFwAksrU0oAAGAHgR0oEdktla0OVrAACFQ7aG75AMaQDAwSOkA4u6bH3pJalpU+noAgaoc6+hmp7uLtvCiC4AHDiyNXxRF9IAgJJBSAdWqrN169Zg178FABw8sjV8pTqkAQDhIaQDK7FsXbpUOv54KS1Niovbu5BNSoq8Xe468fHSEUdIAwYwogsAJYFsDR8FMADAi5AO7KCzdetWKStLatJESkmR5s71r1e9euSzLLdpE/jlAQDFhGwNHwUwAMCLkA4sULYmJkaelnzqqf5t1q93xTIAIDqQreGjAAYAeBHSgaWZmeLjNx3QMbZ160qxsVK5clLbttK0aSX3XQMASgbZGj4KYACAFyEdmLsOsO1dAMfHS5Urh/2tAgDCRLaGjwIYAOBFSAdGtgIAvMjW8BHSAAAvQjowshUA4EW2ho+QBgB4EdKBka0AAC+yNXyENADAi5AOjGwFAHiRreEjpAEAXoR0YGQrAMCLbA0fIQ0A8CKkAyNbAQBeZGv4CGkAgBchHRjZCgDwIlvDR0gDALwI6cDIVgCAF9kaPkIaAOBFSAdGtgIAvMjW8BHSAAAvQjowshUA4EW2ho+QBgB4EdKBka0AAC+yNXwupNu0kS68UBo6VFq6NOzfBQCgFCCkA6MABgB4ka3hcyFtJhVFi42V4uOl5GQpLU2qXl06+mipQwfpuuukmTOl9evD/t0BAAqBkA6MAhgA4EW2hm9PSK9ZI02bJv3lL9Kpp7rCtXp1V8gmJbnCNja2aArlIC0mRoqLc8V1erpUp4503HFSr17SsGHSkiVh/54B4JBCSAdGAQwA8CJbw1cyIb1tm5taPXSom2p9/PFSvXpSpUpSaqqUmOiK25iYkiumY2JcUZ+UJJUvL9WoIbVsKXXuLN16q/TSS67fAHCYIqQDowAGAHiRrX5lzOxZM/vSzJab2Stm1sCzXlkzyzazX8zsP/ssa25mb5jZF2b2iZlNy3nefUV/SG/b5orVW2+VunRxReyRR7qiNnfkOrfgLe6iOjZWKlNGKldOqlpVatRIOvFEV1RfdJHUr590993SxInS/PnS559L27eH/QkCgBchHVj0ZysAoFiQrX5lzKxTnvv9zew1z3qJZnaqmbWw/AVwQ3NFsJlZjJnNNbN/eJ6DkPZZvtxNq77oIjfNuk4dN+06JUVKSHCFbkmNVgdtsbGuxcW5Picmuh0CZcu6ae3p6VK1alLt2tJRR7kdB+3auYK9XTupbVupdWupRQupeXOpWTOpcWO3boMGUt26bttataSaNd0IetWqUpUqUuXKbnQ/PV2qWFGqUMG9ZrlyrqWmun6kpLgp7UlJrpUp41pioutzbouP39Pi4va8t9z3U768dMQRrg/16rnp+23bSqedJnXvLvXtK912mzR6tDR3rvTuu9Ivv4T9KwNKPUI6MLIVAOBFthZOGzP7toDldSx/Abyvm83sIc/jhHRJ2r5d+uYbKTvbHW+dlSX99a+u0O7cWTr5ZOnYY6UmTVyBWaOGK+zKl3dFY3KyKxATEvYuBMMutsNqJTGyv+9r5Z7oLSFh7x0KlSrtKcCbNpXatJFOOUXq1k3q00e68UZp4EDXBg92hwMMHSqNGOHaqFGujR3r2rhx0vjx0oQJ0oMPujZ5smvTprk2Y4ZrjzwizZ4tzZkjPfaYa08+6drTT7v23HPSCy9I8+a5GRMvvyy98or06qvSwoWuvfGGa4sXu51AX33lfq+rVrlzBKxd605it3GjtHWrtGOH9L//hfv/FIoVIR0Y2QoA8CJb/fadAv2DmU2PsG5XM1thZr+b2VNmlrrPsn+Z2ddm9l8zu8CzPSGNw8eWLdKnn7rp51OmSJmZUv/+bgdEp05u9LtVKzd1vXZtN6JdsaIbtU5Jyb/zoSQLcJp/h0RuS0lx31PFim6nUbVq7lCIunXdrIWmTd0shz/9STrhBDc74Kyz3A6K88+XLrtMuuoqacAAdzjF3XdLQ4ZI993ndjrMni0984zbeZW7g+Drr6Uff5Q2b5Z+/z3sX3exiNKQbmhmb5vZV2a2xMyaetY5LWfZZ2b2qZkN22d5bn5+ZZGz1bcsF9kKAPCK0mwtdnmnQN9pZv82dzzvvsqa2U9mdoq5EeDxZjZin2VNzWyeuUJ6hOc5CGkgWu3a5dq2bW5EdvNm6b//lTZskP7zHzfNe906V6StXi19/720cqX07bfSihWugPvyS+lf/3I7Bj7+WProI2nZMnf7009doffBB27a+FtvSa+95kaLX3lFevFFN6L8zDPSU0+56eVz5rgR6RkzpKlTpUmT3Cj2uHHSmDFulHvYMFdcDhrkdkL84x/S3/8u3XGHm6p+881uxPz6690Oin793NnprwLpH3oAABBASURBVLrKTWf/85+lyy+XLrlEuvhi6YIL3DbXXSddeaV7vFcvqWtXqWNHd1b79u3dqHyLFq4YbtjQHdpQs6bb0VGpkpuqn7uzIynJTcXPPfv9gezoyJ0pkHv4QZkybvZGaqqbzdGggXTGGdKZZ7r+derkZoCcfbY7j8E557jC/Nxz3RT+Hj2knj3dezr/fHciwYsucu+9d2/p0ktdAX/55W62Qd++0hVXuM/iqqvcZ3fNNdK117rPsn9/N/NkwAD3Gd94o5SRId10k/scb73VfQ+3365NN90UjSG90Mwuy7nd08yWetZpaWZ1c24nmtliM7s8535ufh6Vc9+Xrb5leZGtAAAvCuCC3WIuuE8y/xToXmb2ku2ZAt3UzFbnWfaymT1jZpP2WZZXmpmpf//+ysjIUEZGhrKzs8P+XQBA6bZ9u9vB8N13bkfBe++5HQMvvOB2BDz0kPTAA9LIke5Qh7/9zRWa114r3X67NH26m8Y+daqbjTBpkpvmPnGi22EwfrzbaXD//W5K/Jgx7hj2kSPdlPnhw/fsSLj3XjetftAg91qZmdI997hR7LvucjsX7rzT7WC4/XZX3N56qyt2b7rJFb833OCK4QEDlH3OOcpo2VIZLVqof7Nm0RbSlc1so5nF5nlsrZnV3892423PeTJyszXXvtkaaVleFMAAAC8K4MhuMrMPzKy8mc00szER1nnQ3F7sDWaWbGa7zAX/zeZGjqfmrJt3WV6ENADAKwpD+lhz05PzWmLuhJGRVDNXJLfOuZ+brbny5mdBy/IiWwEAXlGYrSWippntNnds7w9m9puZvZezLMvM/pJz+yYz+zVnnf+Z2wu921wQz8q5vTxP+90IaQBAIUVhSB9oAZxmbqbVDXkeowAGABSbKMzWEpU7BbpchOW505xzHW1m3xdiWV5MgQYA/CE7O/uPPOjfv3+0hfSBTIFONXeyrL/t8zjZCgAoUlGerSUm7xToSFLNnYyjUc79vCfjKGhZXuylBgB4Rele6kVm1ifndi/znwSrrLni9y7PMrIVAFBsojRbi13eKdAfmpu+/G7OsrxToM32vtTRM7b3aHFBy3IR0gAArygN6UZm9o65yxQtNTdKa+bOidE15/adZrbD9mTsh7b3SDDZCgAoFlGarYcUQhoA4EVIB0a2AgC8yNbwEdIAAC9COjCyFQDgRbaGj5AGAHgR0oGRrQAAL7I1fIQ0AMCLkA6MbAUAeJGt4SOkAQBehHRgZCsAwItsDR8hDQDwIqQDI1sBAF5ka/gIaQCAFyEdGNkKAPAiW8NHSAMAvAjpwMhWAIAX2Ro+QhoA4EVIB0a2AgC8yNbwEdIAAC9COjCyFQDgRbaGj5AGAHgR0oGRrQAAL7I1fIQ0AMCLkA6MbAUAeJGt4SOkAQBehHRgZCsAwItsDR8hDQDwIqQDI1sBAF5ka/gIaQCAFyEdGNkKAPAiW8NHSAMAvAjpwMhWAIAX2Ro+QhoA4EVIB0a2AgC8yNbwEdIAAC9COjCyFQDgRbb6LTezXeY+mJ4R1jnBzDbkrLN1n2XX53k8t5WL8DyENADAi5AOjGwFAHiRrX79zKy1uSI4UgFc18z+YmZ3m78A3vexSAhpAIAXIR0Y2QoA8CJbC1ZQAZzLV+xSAAMADhohHRjZCgDwIlsLdjAFsMxsi5n9ZmaPFrA9IQ0A8CKkAyNbAQBeZGvBghbAVc2ses7tNma2zcxGRdg+zcw0euFoTVwyMWraQ8se0owPZ0RFm/vJXD3+6eNR01741wua9+W8qGkL/71Qi75dFBVtyeolWrpmadS0z3/+XF+s+yIq2vcbv9fqTaujpm3ctlGbtm8q9W31utWEdDAUwAAALwrgggUtgPf1srkTa/mkmZmsqsmq5bTTTZZJo9FotMOynW578qCqEdLBUAADALwogAtWmAL4RstfAB9jZjE5t6ub2SYzmxZhe0aAGQFmBJgRYEaAGQFmBLhoUQADALwogP0+N7P/mftgfjeznTmPf2lmWTm3K+as83vOev8zs7dylj1uZtvNFcbbzWxBAa9FSAMAvAjpwMhWAIAX2Ro+QhoA4EVIB0a2AgC8yNbwEdIAAC9COjCyFQDgRbaGj5AGAHgR0oGRrQAAL7I1fIQ0AMCLkA6MbAUAeJGt4SOkAQBehHRgZCsAwItsDR8hDQDwIqQDI1sBAF5ka/gIaQCAFyEdGNkKAPAiW8NHSAMAvAjpwMhWAIAX2Ro+QhoA4EVIB0a2AgC8yNbwEdIAAC9COjCyFQDgRbaGj5AGAHgR0oGRrQAAL7I1fIQ0AMCLkA6MbAUAeJGt4SOkAQBehHRgZCsAwItsDR8hDQDwIqQDI1sBAF5ka/gIaQCAFyEdGNkKAPAiW8NHSAMAvAjpwMhWAIAX2Ro+QhoA4EVIB0a2AgC8yNbwEdIAAC9COjCyFQDgRbaGj5AGAHgR0oGRrQAAL7I1fIQ0AMCLkA6MbAUAeJGt4SOkAQBehHRgZCsAwItsDR8hDQDwIqQDI1sBAF5ka/gIaQCAFyEdGNkKAPAiW8NHSAMAvAjpwMhWAIAX2Ro+QhoA4EVIB0a2AgC8yNbwEdIAAC9COjCyFQDgRbZG1tDM3jazr8xsiZk1jbDelWb2tZmtMLPJZhZXyGW5CGkAgFeUhnRx5yfZCgAILEqztUQsNLPLcm73NLOlnnXqmtkPZlY55/7zZtYv53a9ApblFXUhnZ2dHXYXCi2a+irR3+IUTX2Voqu/0dRXKbr6G6UhXZz5SbaWEtHU32jqqxRd/Y2mvkr0tzhFU1+jNFuLXWUz22hmsXkeW2tm9fdZ7xYzm5jnfmcze7MQy/KKupDOyMgIuwuFFk19lehvcYqmvkrR1d9o6qsUXf2NwpAu7vwkW0uJaOpvNPVViq7+RlNfJfpbnKKpr1GYrSXiWDP71z6PLTGzU/d5bJyZ3Z7nflMz+64Qy/IipItRNPVVor/FKZr6KkVXf6Opr1J09TcKQ7q485NsLSWiqb/R1FcpuvobTX2V6G9xiqa+RmG2logSL4BXr16tTZs2RUXr379/6H04FPtKf+lrtPY3mvoabf1dvXp1tIV0qSqAyVb6G219jbb+RlNf6S99zW1RmK0loiSnQNc09wXQaDQajRap1bToUFqmQJOtNBqNRttfi5ZsLTGLzKxPzu1e5j+JRz0zW2NmVcwsxtzJOK4rxLK8Ysx9+Gk0Go1Go3laTXNZES2KMz/JVhqNRqMVRYu2bC0RjczsHXOXcVhqZkfnPD7VzLrmWe9KM/vG3OUYplj+SzVEWgYAwKGouPOTbAUAAAAAAAAAlF73m9lKM9ttZi1C7sv+lDGzZ83sSzNbbmavmFmDUHu0f6+Y2Ufm+vuGmbUKtzuF0tfc76Fb2B3Zj+/MnehmuZl9aGbnh9qbgiWa2Xgz+9rMPjazmeF2p0Dptucz/dDcCNpOM6sQZqf242wzW2au35+Y2eXhdqdAnczsfXP/Lrxjpe/f3UiZ0NDM3jb3e1hi7sRPiIxsLV5ka/H5zqInW82iJ1/J1uJXmvOVbC1l/s/MapjZt1a6fig+Zcz9uHP1N7PXQupLYaXlud3d3P+UpVkdc/8jvm2lP6S/NbNjwu5EIY01949friphdSSAm80d41iarTezZjm365jZNjMrG153IqpgZr+aWZOc+/9nZp+G1x2vSJmw0Mwuy7nd0/zH1GIPsrV4ka3FJ5qy1Sx685VsLVqlPV/J1lJqpZX+kN5XG3M/pGjxZ3N7/UqrGDP7p5m1NvfHT2kP6Wj5zaaY2SYzSw27IwF9YWbnhN2J/fjFXLiYud/EajOLD687EbUxN8qW1yYrnaNXef//KuxZlZFftPw7lRfZWrTI1uITzflKthataMlXsrWUiaZ/8HLNNLMxYXeiEB4xs+/NbJXt2ZNWGt1sZv/IuR0tIf2RuSlPU83siHC7E9Ex5vo61NzUnDfM7PRQe1R4J5jZj7b3P86lUQdzQf2duTAprZ9vmrl+tsu5383Mfjc3glXa5M2Ewl5XF/mRrcWHbC0e0ZKtZtGbr2Rr0YuWfCVbS5loC+k7zU0lSgq7IwfgMjN7MexORNDM3PESuWcyjYaQPjLnv3FmNsxK72fb2twxH5fk3G9l7h/pyqH1qPCmmftsS7M4c7/XE3Pu/8ncHxbpofWoYKeY2evm/lgbZ26KVteCNggJIV00yNbiR7YWrWjJVrPozVeytXhEQ76SraVMNIX0LebmyJcLuyMBbDWzimF3wuNaM/vB3LS3leaO8/jJzK4Js1MHoJq5qS6lUSUz22V7X+dtqZXuPalm7jif/5q7nExp5pv2tNTcnuvSLtHM/mOlc7oT07SKBtlaMsjW4lGas9UsOvOVbC0ZpTVfydZSJlpC+iYz+8DMyofdkUIob2bV89zvbm66VjQo7XupU2zv38BN5vb6lVbZZtY553Y9M1tne/82SqMrzezNsDtRCFXM/YGWe+KLhuZOhHFkxC3CVS3P7cFm9mRYHdmPfTNhkZn1ybndyzhRR2GRrUWPbC0+0ZatZtGXr2Rr8YmGfCVbS4lJ5g5q32lur8P/t3f3LHZUARyHf42wGokWKmI06zaion4DIZVJYWGlIWrhF5GonZ1g5SewMqViYRpBFE2yvoCuL5tejZWNkMXizLLXvFyi7npn8Xlg4Zw5586cGe7yvwznzGytdjhLHWtMdfm+8cCLi9UnKx3RcscbUxk2G+tpPuxw/BCq8Q8555DeaHwHdtcpnWtc77naaFzTLxvf27mtSbmRj5v/Kw92vdDetd2c6nP1TmPK01ZjDePR5d3/czfLhEcaUzm/awT0nNdczoFsPTiy9eActmytw5evsvXgzDlfZSsAAAAAAAAAAAAAAAAAAAAAAAAAAAAAAAAAAAAAAACswOXGS9AvNF7cfqH9f6n4evXbPu8TAObqcrIVAGZpu3rygI+xXl054GMAwFzIVgCYqe3qqRts36neaNy1/rY6s9B2svqiulSdrx5baHulcbf7UvVZdby9u9Rnq8+rrerU1H+terf6evrcB//+lABgpWQrAMzUdtdP01prhPTZqc9G9WsjcO+tfqken9rOVN9M5RPVj9V9U31t+luf9vfctP1kI/ibtr2/MJ679+OkAGCFZCsAzNTNpmntVA8u1N+rXqqerT66pu+V6oHqzfaCfdF69ftC/Wj1x1TeaKyVert6vrrz7wweAGZItgLATC2bpvXQQv1c9WIjpM9f0/dWQnpxndKR6upC/Y5pv281AvuuWx08AMyQbAWAmVoW0q9O5Yernxuhfc9U3p2mdbr6aio/Xf1Q3T/Vb29vmtbikyqPTPuvOtYI6arbGiH9xD88FwCYA9kKADP1U9evUzrRCNHX2ntQx+mFzzzTXx/U8ehC28vV5tT2aSPYl92lPjUd92Ij7F/frxMDgBWRrQBwyOw01hMBAPtDtgLATF1NSAPAfpKtAAAAAAAAAAAAAAAAAAAAAAAAAAAAAAAAAAAAAAAAAAAAAAAAAAAAAAAAAAAAAAAAAAAAAAAAAAAAAAAAAAAAAAAAAPC/9Cc74f5+wHj6DQAAAABJRU5ErkJggg==\">"
      ],
      "text/plain": [
       "<IPython.core.display.HTML object>"
      ]
     },
     "metadata": {},
     "output_type": "display_data"
    },
    {
     "name": "stderr",
     "output_type": "stream",
     "text": [
      "2017-01-22 18:33:10,451 : INFO : ****************** Epoch 1 --- Working on doc2vec_size_100_w_8_type_dm_concat_1_mean_0_trainwords_0_hs_0_neg_10_vocabsize_None/epoch_1 *******************\n",
      "2017-01-22 18:33:10,462 : INFO : loading Doc2Vec object from /mnt/data2/shalaby/parameter_search_doc2vec_models_new/full/doc2vec_size_100_w_8_type_dm_concat_1_mean_0_trainwords_0_hs_0_neg_10_vocabsize_None/epoch_1/model\n",
      "2017-01-22 18:33:29,645 : INFO : loading docvecs recursively from /mnt/data2/shalaby/parameter_search_doc2vec_models_new/full/doc2vec_size_100_w_8_type_dm_concat_1_mean_0_trainwords_0_hs_0_neg_10_vocabsize_None/epoch_1/model.docvecs.* with mmap=None\n",
      "2017-01-22 18:33:29,647 : INFO : loading doctag_syn0 from /mnt/data2/shalaby/parameter_search_doc2vec_models_new/full/doc2vec_size_100_w_8_type_dm_concat_1_mean_0_trainwords_0_hs_0_neg_10_vocabsize_None/epoch_1/model.docvecs.doctag_syn0.npy with mmap=None\n",
      "2017-01-22 18:33:31,596 : INFO : loading syn1neg from /mnt/data2/shalaby/parameter_search_doc2vec_models_new/full/doc2vec_size_100_w_8_type_dm_concat_1_mean_0_trainwords_0_hs_0_neg_10_vocabsize_None/epoch_1/model.syn1neg.npy with mmap=None\n",
      "2017-01-22 18:33:49,266 : INFO : loading syn0 from /mnt/data2/shalaby/parameter_search_doc2vec_models_new/full/doc2vec_size_100_w_8_type_dm_concat_1_mean_0_trainwords_0_hs_0_neg_10_vocabsize_None/epoch_1/model.syn0.npy with mmap=None\n",
      "2017-01-22 18:33:50,575 : INFO : setting ignored attribute syn0norm to None\n",
      "2017-01-22 18:33:50,587 : INFO : setting ignored attribute cum_table to None\n",
      "2017-01-22 18:33:52,959 : INFO : Getting training Data\n",
      "2017-01-22 18:35:18,162 : INFO : Training Classifier\n",
      "2017-01-22 19:07:10,274 : INFO : Getting Validation Embeddings\n",
      "2017-01-22 19:07:10,283 : INFO : ===== Loading validation vectors\n",
      "2017-01-22 19:07:34,027 : INFO : Evaluating on Validation Data\n"
     ]
    },
    {
     "name": "stdout",
     "output_type": "stream",
     "text": [
      "[[0 0 0 ..., 0 0 0]\n",
      " [0 0 0 ..., 0 0 0]\n",
      " [0 0 0 ..., 0 1 0]\n",
      " ..., \n",
      " [1 0 0 ..., 0 0 0]\n",
      " [0 0 0 ..., 0 0 0]\n",
      " [0 0 0 ..., 0 0 0]]\n"
     ]
    },
    {
     "name": "stderr",
     "output_type": "stream",
     "text": [
      "/home/stud/shalaby/.virtualenv/thesis-env/local/lib/python2.7/site-packages/sklearn/metrics/classification.py:1113: UndefinedMetricWarning: Precision is ill-defined and being set to 0.0 in labels with no predicted samples.\n",
      "  'precision', 'predicted', average, warn_for)\n",
      "/home/stud/shalaby/.virtualenv/thesis-env/local/lib/python2.7/site-packages/sklearn/metrics/classification.py:1113: UndefinedMetricWarning: F-score is ill-defined and being set to 0.0 in labels with no predicted samples.\n",
      "  'precision', 'predicted', average, warn_for)\n",
      "/home/stud/shalaby/.virtualenv/thesis-env/local/lib/python2.7/site-packages/sklearn/metrics/classification.py:1113: UndefinedMetricWarning: Precision is ill-defined and being set to 0.0 due to no predicted samples.\n",
      "  'precision', 'predicted', average, warn_for)\n",
      "/home/stud/shalaby/.virtualenv/thesis-env/local/lib/python2.7/site-packages/sklearn/metrics/classification.py:1113: UndefinedMetricWarning: F-score is ill-defined and being set to 0.0 due to no predicted samples.\n",
      "  'precision', 'predicted', average, warn_for)\n"
     ]
    },
    {
     "name": "stdout",
     "output_type": "stream",
     "text": [
      "** Validation Metrics: Cov Err: 2.374, Avg Labels: 1.150, \n",
      "\t\t Top 1: 0.598, Top 3: 0.826, Top 5: 0.876, \n",
      "\t\t F1 Micro: 0.551, F1 Macro: 0.308, Total Pos: 255,430\n"
     ]
    },
    {
     "name": "stderr",
     "output_type": "stream",
     "text": [
      "2017-01-22 19:08:02,389 : INFO : ****************** Epoch 2 --- Working on doc2vec_size_100_w_8_type_dm_concat_1_mean_0_trainwords_0_hs_0_neg_10_vocabsize_None/epoch_2 *******************\n",
      "2017-01-22 19:08:02,403 : INFO : loading Doc2Vec object from /mnt/data2/shalaby/parameter_search_doc2vec_models_new/full/doc2vec_size_100_w_8_type_dm_concat_1_mean_0_trainwords_0_hs_0_neg_10_vocabsize_None/epoch_2/model\n",
      "2017-01-22 19:08:24,920 : INFO : loading docvecs recursively from /mnt/data2/shalaby/parameter_search_doc2vec_models_new/full/doc2vec_size_100_w_8_type_dm_concat_1_mean_0_trainwords_0_hs_0_neg_10_vocabsize_None/epoch_2/model.docvecs.* with mmap=None\n",
      "2017-01-22 19:08:24,924 : INFO : loading doctag_syn0 from /mnt/data2/shalaby/parameter_search_doc2vec_models_new/full/doc2vec_size_100_w_8_type_dm_concat_1_mean_0_trainwords_0_hs_0_neg_10_vocabsize_None/epoch_2/model.docvecs.doctag_syn0.npy with mmap=None\n",
      "2017-01-22 19:08:26,612 : INFO : loading syn1neg from /mnt/data2/shalaby/parameter_search_doc2vec_models_new/full/doc2vec_size_100_w_8_type_dm_concat_1_mean_0_trainwords_0_hs_0_neg_10_vocabsize_None/epoch_2/model.syn1neg.npy with mmap=None\n",
      "2017-01-22 19:09:01,881 : INFO : loading syn0 from /mnt/data2/shalaby/parameter_search_doc2vec_models_new/full/doc2vec_size_100_w_8_type_dm_concat_1_mean_0_trainwords_0_hs_0_neg_10_vocabsize_None/epoch_2/model.syn0.npy with mmap=None\n",
      "2017-01-22 19:09:02,300 : INFO : setting ignored attribute syn0norm to None\n",
      "2017-01-22 19:09:02,303 : INFO : setting ignored attribute cum_table to None\n",
      "2017-01-22 19:09:09,010 : INFO : Getting training Data\n",
      "2017-01-22 19:11:03,539 : INFO : Training Classifier\n",
      "2017-01-22 19:45:05,062 : INFO : Getting Validation Embeddings\n",
      "2017-01-22 19:45:05,067 : INFO : ===== Loading validation vectors\n",
      "2017-01-22 19:45:31,295 : INFO : Evaluating on Validation Data\n"
     ]
    },
    {
     "name": "stdout",
     "output_type": "stream",
     "text": [
      "[[0 0 0 ..., 0 1 0]\n",
      " [1 0 0 ..., 0 0 0]\n",
      " [0 0 0 ..., 0 1 0]\n",
      " ..., \n",
      " [0 0 0 ..., 0 0 0]\n",
      " [1 0 0 ..., 0 0 0]\n",
      " [0 0 0 ..., 0 0 0]]\n",
      "** Validation Metrics: Cov Err: 2.312, Avg Labels: 1.150, \n",
      "\t\t Top 1: 0.619, Top 3: 0.833, Top 5: 0.878, \n",
      "\t\t F1 Micro: 0.570, F1 Macro: 0.324, Total Pos: 249,947\n"
     ]
    },
    {
     "name": "stderr",
     "output_type": "stream",
     "text": [
      "2017-01-22 19:45:56,867 : INFO : ****************** Epoch 3 --- Working on doc2vec_size_100_w_8_type_dm_concat_1_mean_0_trainwords_0_hs_0_neg_10_vocabsize_None/epoch_3 *******************\n",
      "2017-01-22 19:45:56,869 : INFO : loading Doc2Vec object from /mnt/data2/shalaby/parameter_search_doc2vec_models_new/full/doc2vec_size_100_w_8_type_dm_concat_1_mean_0_trainwords_0_hs_0_neg_10_vocabsize_None/epoch_3/model\n",
      "2017-01-22 19:46:05,375 : INFO : loading docvecs recursively from /mnt/data2/shalaby/parameter_search_doc2vec_models_new/full/doc2vec_size_100_w_8_type_dm_concat_1_mean_0_trainwords_0_hs_0_neg_10_vocabsize_None/epoch_3/model.docvecs.* with mmap=None\n",
      "2017-01-22 19:46:05,377 : INFO : loading doctag_syn0 from /mnt/data2/shalaby/parameter_search_doc2vec_models_new/full/doc2vec_size_100_w_8_type_dm_concat_1_mean_0_trainwords_0_hs_0_neg_10_vocabsize_None/epoch_3/model.docvecs.doctag_syn0.npy with mmap=None\n",
      "2017-01-22 19:46:06,573 : INFO : loading syn1neg from /mnt/data2/shalaby/parameter_search_doc2vec_models_new/full/doc2vec_size_100_w_8_type_dm_concat_1_mean_0_trainwords_0_hs_0_neg_10_vocabsize_None/epoch_3/model.syn1neg.npy with mmap=None\n",
      "2017-01-22 19:46:21,233 : INFO : loading syn0 from /mnt/data2/shalaby/parameter_search_doc2vec_models_new/full/doc2vec_size_100_w_8_type_dm_concat_1_mean_0_trainwords_0_hs_0_neg_10_vocabsize_None/epoch_3/model.syn0.npy with mmap=None\n",
      "2017-01-22 19:46:21,596 : INFO : setting ignored attribute syn0norm to None\n",
      "2017-01-22 19:46:21,599 : INFO : setting ignored attribute cum_table to None\n",
      "2017-01-22 19:46:28,495 : INFO : Getting training Data\n",
      "2017-01-22 19:47:48,036 : INFO : Training Classifier\n",
      "2017-01-22 22:09:52,732 : INFO : Getting Validation Embeddings\n",
      "2017-01-22 22:09:52,738 : INFO : ===== Loading validation vectors\n",
      "2017-01-22 22:10:25,481 : INFO : Evaluating on Validation Data\n"
     ]
    },
    {
     "name": "stdout",
     "output_type": "stream",
     "text": [
      "[[0 0 0 ..., 0 1 0]\n",
      " [1 0 0 ..., 0 0 0]\n",
      " [0 0 0 ..., 0 1 0]\n",
      " ..., \n",
      " [0 0 0 ..., 0 0 0]\n",
      " [0 0 0 ..., 0 1 0]\n",
      " [0 0 0 ..., 0 0 0]]\n",
      "** Validation Metrics: Cov Err: 2.171, Avg Labels: 1.150, \n",
      "\t\t Top 1: 0.643, Top 3: 0.853, Top 5: 0.900, \n",
      "\t\t F1 Micro: 0.605, F1 Macro: 0.344, Total Pos: 272,098\n"
     ]
    },
    {
     "name": "stderr",
     "output_type": "stream",
     "text": [
      "2017-01-22 22:10:58,404 : INFO : ****************** Epoch 7 --- Working on doc2vec_size_100_w_8_type_dm_concat_1_mean_0_trainwords_0_hs_0_neg_10_vocabsize_None/epoch_7 *******************\n",
      "2017-01-22 22:10:58,408 : INFO : loading Doc2Vec object from /mnt/data2/shalaby/parameter_search_doc2vec_models_new/full/doc2vec_size_100_w_8_type_dm_concat_1_mean_0_trainwords_0_hs_0_neg_10_vocabsize_None/epoch_7/model\n",
      "2017-01-22 22:11:26,142 : INFO : loading docvecs recursively from /mnt/data2/shalaby/parameter_search_doc2vec_models_new/full/doc2vec_size_100_w_8_type_dm_concat_1_mean_0_trainwords_0_hs_0_neg_10_vocabsize_None/epoch_7/model.docvecs.* with mmap=None\n",
      "2017-01-22 22:11:26,147 : INFO : loading doctag_syn0 from /mnt/data2/shalaby/parameter_search_doc2vec_models_new/full/doc2vec_size_100_w_8_type_dm_concat_1_mean_0_trainwords_0_hs_0_neg_10_vocabsize_None/epoch_7/model.docvecs.doctag_syn0.npy with mmap=None\n",
      "2017-01-22 22:11:28,206 : INFO : loading syn1neg from /mnt/data2/shalaby/parameter_search_doc2vec_models_new/full/doc2vec_size_100_w_8_type_dm_concat_1_mean_0_trainwords_0_hs_0_neg_10_vocabsize_None/epoch_7/model.syn1neg.npy with mmap=None\n",
      "2017-01-22 22:11:44,743 : INFO : loading syn0 from /mnt/data2/shalaby/parameter_search_doc2vec_models_new/full/doc2vec_size_100_w_8_type_dm_concat_1_mean_0_trainwords_0_hs_0_neg_10_vocabsize_None/epoch_7/model.syn0.npy with mmap=None\n",
      "2017-01-22 22:11:45,198 : INFO : setting ignored attribute syn0norm to None\n",
      "2017-01-22 22:11:45,218 : INFO : setting ignored attribute cum_table to None\n",
      "2017-01-22 22:11:52,774 : INFO : Getting training Data\n",
      "2017-01-22 22:13:02,707 : INFO : Training Classifier\n",
      "2017-01-22 22:48:07,104 : INFO : Getting Validation Embeddings\n",
      "2017-01-22 22:48:07,115 : INFO : ===== Loading validation vectors\n",
      "2017-01-22 22:48:41,773 : INFO : Evaluating on Validation Data\n"
     ]
    },
    {
     "name": "stdout",
     "output_type": "stream",
     "text": [
      "[[0 0 0 ..., 0 1 0]\n",
      " [1 0 0 ..., 0 0 0]\n",
      " [0 0 0 ..., 0 1 0]\n",
      " ..., \n",
      " [0 0 0 ..., 0 0 0]\n",
      " [0 0 0 ..., 0 1 0]\n",
      " [0 0 0 ..., 0 0 0]]\n"
     ]
    },
    {
     "name": "stderr",
     "output_type": "stream",
     "text": [
      "2017-01-22 22:49:04,252 : INFO : ****************** Epoch 8 --- Working on doc2vec_size_100_w_8_type_dm_concat_1_mean_0_trainwords_0_hs_0_neg_10_vocabsize_None/epoch_8 *******************\n",
      "2017-01-22 22:49:04,254 : INFO : loading Doc2Vec object from /mnt/data2/shalaby/parameter_search_doc2vec_models_new/full/doc2vec_size_100_w_8_type_dm_concat_1_mean_0_trainwords_0_hs_0_neg_10_vocabsize_None/epoch_8/model\n"
     ]
    },
    {
     "name": "stdout",
     "output_type": "stream",
     "text": [
      "** Validation Metrics: Cov Err: 2.167, Avg Labels: 1.150, \n",
      "\t\t Top 1: 0.649, Top 3: 0.851, Top 5: 0.901, \n",
      "\t\t F1 Micro: 0.604, F1 Macro: 0.345, Total Pos: 262,733\n"
     ]
    },
    {
     "name": "stderr",
     "output_type": "stream",
     "text": [
      "2017-01-22 22:49:11,509 : INFO : loading docvecs recursively from /mnt/data2/shalaby/parameter_search_doc2vec_models_new/full/doc2vec_size_100_w_8_type_dm_concat_1_mean_0_trainwords_0_hs_0_neg_10_vocabsize_None/epoch_8/model.docvecs.* with mmap=None\n",
      "2017-01-22 22:49:11,510 : INFO : loading doctag_syn0 from /mnt/data2/shalaby/parameter_search_doc2vec_models_new/full/doc2vec_size_100_w_8_type_dm_concat_1_mean_0_trainwords_0_hs_0_neg_10_vocabsize_None/epoch_8/model.docvecs.doctag_syn0.npy with mmap=None\n",
      "2017-01-22 22:49:13,774 : INFO : loading syn1neg from /mnt/data2/shalaby/parameter_search_doc2vec_models_new/full/doc2vec_size_100_w_8_type_dm_concat_1_mean_0_trainwords_0_hs_0_neg_10_vocabsize_None/epoch_8/model.syn1neg.npy with mmap=None\n",
      "2017-01-22 22:49:30,163 : INFO : loading syn0 from /mnt/data2/shalaby/parameter_search_doc2vec_models_new/full/doc2vec_size_100_w_8_type_dm_concat_1_mean_0_trainwords_0_hs_0_neg_10_vocabsize_None/epoch_8/model.syn0.npy with mmap=None\n",
      "2017-01-22 22:49:30,532 : INFO : setting ignored attribute syn0norm to None\n",
      "2017-01-22 22:49:30,542 : INFO : setting ignored attribute cum_table to None\n",
      "2017-01-22 22:49:37,890 : INFO : Getting training Data\n",
      "2017-01-22 22:51:14,726 : INFO : Training Classifier\n",
      "2017-01-22 23:23:32,701 : INFO : Getting Validation Embeddings\n",
      "2017-01-22 23:23:32,703 : INFO : ===== Loading validation vectors\n",
      "2017-01-22 23:23:48,832 : INFO : Evaluating on Validation Data\n"
     ]
    },
    {
     "name": "stdout",
     "output_type": "stream",
     "text": [
      "[[0 0 0 ..., 0 1 0]\n",
      " [1 0 0 ..., 0 0 0]\n",
      " [0 0 0 ..., 0 1 0]\n",
      " ..., \n",
      " [0 0 0 ..., 0 0 0]\n",
      " [0 0 0 ..., 0 1 0]\n",
      " [0 0 0 ..., 0 0 0]]\n"
     ]
    },
    {
     "name": "stderr",
     "output_type": "stream",
     "text": [
      "2017-01-22 23:23:58,540 : INFO : ****************** Epoch 9 --- Working on doc2vec_size_100_w_8_type_dm_concat_1_mean_0_trainwords_0_hs_0_neg_10_vocabsize_None/epoch_9 *******************\n",
      "2017-01-22 23:23:58,541 : INFO : loading Doc2Vec object from /mnt/data2/shalaby/parameter_search_doc2vec_models_new/full/doc2vec_size_100_w_8_type_dm_concat_1_mean_0_trainwords_0_hs_0_neg_10_vocabsize_None/epoch_9/model\n"
     ]
    },
    {
     "name": "stdout",
     "output_type": "stream",
     "text": [
      "** Validation Metrics: Cov Err: 2.159, Avg Labels: 1.150, \n",
      "\t\t Top 1: 0.649, Top 3: 0.850, Top 5: 0.906, \n",
      "\t\t F1 Micro: 0.604, F1 Macro: 0.345, Total Pos: 264,918\n"
     ]
    },
    {
     "name": "stderr",
     "output_type": "stream",
     "text": [
      "2017-01-22 23:24:04,328 : INFO : loading docvecs recursively from /mnt/data2/shalaby/parameter_search_doc2vec_models_new/full/doc2vec_size_100_w_8_type_dm_concat_1_mean_0_trainwords_0_hs_0_neg_10_vocabsize_None/epoch_9/model.docvecs.* with mmap=None\n",
      "2017-01-22 23:24:04,329 : INFO : loading doctag_syn0 from /mnt/data2/shalaby/parameter_search_doc2vec_models_new/full/doc2vec_size_100_w_8_type_dm_concat_1_mean_0_trainwords_0_hs_0_neg_10_vocabsize_None/epoch_9/model.docvecs.doctag_syn0.npy with mmap=None\n",
      "2017-01-22 23:24:05,471 : INFO : loading syn1neg from /mnt/data2/shalaby/parameter_search_doc2vec_models_new/full/doc2vec_size_100_w_8_type_dm_concat_1_mean_0_trainwords_0_hs_0_neg_10_vocabsize_None/epoch_9/model.syn1neg.npy with mmap=None\n",
      "2017-01-22 23:24:12,472 : INFO : loading syn0 from /mnt/data2/shalaby/parameter_search_doc2vec_models_new/full/doc2vec_size_100_w_8_type_dm_concat_1_mean_0_trainwords_0_hs_0_neg_10_vocabsize_None/epoch_9/model.syn0.npy with mmap=None\n",
      "2017-01-22 23:24:12,787 : INFO : setting ignored attribute syn0norm to None\n",
      "2017-01-22 23:24:12,788 : INFO : setting ignored attribute cum_table to None\n",
      "2017-01-22 23:24:14,553 : INFO : Getting training Data\n",
      "2017-01-22 23:24:48,439 : INFO : Training Classifier\n",
      "2017-01-22 23:37:01,408 : INFO : Getting Validation Embeddings\n",
      "2017-01-22 23:37:01,410 : INFO : ===== Loading validation vectors\n",
      "2017-01-22 23:37:17,507 : INFO : Evaluating on Validation Data\n"
     ]
    },
    {
     "name": "stdout",
     "output_type": "stream",
     "text": [
      "[[0 0 0 ..., 0 1 0]\n",
      " [1 0 0 ..., 0 0 0]\n",
      " [0 0 0 ..., 0 1 0]\n",
      " ..., \n",
      " [0 0 0 ..., 0 0 0]\n",
      " [1 0 0 ..., 0 1 0]\n",
      " [0 0 0 ..., 0 0 0]]\n"
     ]
    },
    {
     "name": "stderr",
     "output_type": "stream",
     "text": [
      "2017-01-22 23:37:27,621 : INFO : ****************** Epoch 10 --- Working on doc2vec_size_100_w_8_type_dm_concat_1_mean_0_trainwords_0_hs_0_neg_10_vocabsize_None/epoch_10 *******************\n",
      "2017-01-22 23:37:27,623 : INFO : loading Doc2Vec object from /mnt/data2/shalaby/parameter_search_doc2vec_models_new/full/doc2vec_size_100_w_8_type_dm_concat_1_mean_0_trainwords_0_hs_0_neg_10_vocabsize_None/epoch_10/model\n"
     ]
    },
    {
     "name": "stdout",
     "output_type": "stream",
     "text": [
      "** Validation Metrics: Cov Err: 2.123, Avg Labels: 1.150, \n",
      "\t\t Top 1: 0.653, Top 3: 0.857, Top 5: 0.914, \n",
      "\t\t F1 Micro: 0.608, F1 Macro: 0.347, Total Pos: 269,192\n"
     ]
    },
    {
     "name": "stderr",
     "output_type": "stream",
     "text": [
      "2017-01-22 23:37:33,308 : INFO : loading docvecs recursively from /mnt/data2/shalaby/parameter_search_doc2vec_models_new/full/doc2vec_size_100_w_8_type_dm_concat_1_mean_0_trainwords_0_hs_0_neg_10_vocabsize_None/epoch_10/model.docvecs.* with mmap=None\n",
      "2017-01-22 23:37:33,309 : INFO : loading doctag_syn0 from /mnt/data2/shalaby/parameter_search_doc2vec_models_new/full/doc2vec_size_100_w_8_type_dm_concat_1_mean_0_trainwords_0_hs_0_neg_10_vocabsize_None/epoch_10/model.docvecs.doctag_syn0.npy with mmap=None\n",
      "2017-01-22 23:37:34,381 : INFO : loading syn1neg from /mnt/data2/shalaby/parameter_search_doc2vec_models_new/full/doc2vec_size_100_w_8_type_dm_concat_1_mean_0_trainwords_0_hs_0_neg_10_vocabsize_None/epoch_10/model.syn1neg.npy with mmap=None\n",
      "2017-01-22 23:37:43,942 : INFO : loading syn0 from /mnt/data2/shalaby/parameter_search_doc2vec_models_new/full/doc2vec_size_100_w_8_type_dm_concat_1_mean_0_trainwords_0_hs_0_neg_10_vocabsize_None/epoch_10/model.syn0.npy with mmap=None\n",
      "2017-01-22 23:37:44,256 : INFO : setting ignored attribute syn0norm to None\n",
      "2017-01-22 23:37:44,257 : INFO : setting ignored attribute cum_table to None\n",
      "2017-01-22 23:37:45,874 : INFO : Getting training Data\n",
      "2017-01-22 23:38:07,554 : INFO : Training Classifier\n",
      "2017-01-22 23:47:07,991 : INFO : Getting Validation Embeddings\n",
      "2017-01-22 23:47:07,997 : INFO : ===== Loading validation vectors\n",
      "2017-01-22 23:47:29,407 : INFO : Evaluating on Validation Data\n"
     ]
    },
    {
     "name": "stdout",
     "output_type": "stream",
     "text": [
      "[[0 0 0 ..., 0 1 0]\n",
      " [1 0 0 ..., 0 0 0]\n",
      " [0 0 0 ..., 0 1 0]\n",
      " ..., \n",
      " [0 0 0 ..., 0 0 0]\n",
      " [1 0 0 ..., 0 1 0]\n",
      " [0 0 0 ..., 0 0 0]]\n",
      "** Validation Metrics: Cov Err: 2.116, Avg Labels: 1.150, \n",
      "\t\t Top 1: 0.656, Top 3: 0.855, Top 5: 0.916, \n",
      "\t\t F1 Micro: 0.609, F1 Macro: 0.348, Total Pos: 265,494\n"
     ]
    },
    {
     "name": "stderr",
     "output_type": "stream",
     "text": [
      "2017-01-22 23:47:49,077 : INFO : ****************** Epoch 11 --- Working on doc2vec_size_100_w_8_type_dm_concat_1_mean_0_trainwords_0_hs_0_neg_10_vocabsize_None/epoch_11 *******************\n"
     ]
    },
    {
     "name": "stdout",
     "output_type": "stream",
     "text": [
      "CPU times: user 4h 40min 22s, sys: 30min 43s, total: 5h 11min 5s\n",
      "Wall time: 5h 14min 39s\n"
     ]
    }
   ],
   "source": [
    "%%time\n",
    "%matplotlib notebook\n",
    "graph = MetricsGraph()\n",
    "graph.init_graph(len(classifications) +2)\n",
    "# when resuming, resume from an epoch with a previously created doc2vec model to get the learning rate right\n",
    "start_from = 1\n",
    "for epoch in range(start_from, DOC2VEC_MAX_EPOCHS+1):\n",
    "    GLOBAL_VARS.MODEL_NAME = placeholder_model_name.format(epoch)\n",
    "    info(\"****************** Epoch {} --- Working on {} *******************\".format(epoch, GLOBAL_VARS.MODEL_NAME))\n",
    "    \n",
    "    # if we have the model, just load it, otherwise train the previous model\n",
    "    if os.path.exists(os.path.join(doc2vec_model_save_location, GLOBAL_VARS.MODEL_NAME, MODEL_PREFIX)):\n",
    "        doc2vec_model = Doc2Vec.load(os.path.join(doc2vec_model_save_location, GLOBAL_VARS.MODEL_NAME, MODEL_PREFIX))\n",
    "        GLOBAL_VARS.DOC2VEC_MODEL = doc2vec_model\n",
    "    else:\n",
    "        break\n",
    "    \n",
    "    ensure_disk_location_exists(os.path.join(doc2vec_model_save_location, GLOBAL_VARS.MODEL_NAME, \n",
    "                                             GLOBAL_VARS.SVM_MODEL_NAME))\n",
    "    \n",
    "    if not os.path.exists(os.path.join(doc2vec_model_save_location, GLOBAL_VARS.MODEL_NAME, \n",
    "                                                          GLOBAL_VARS.SVM_MODEL_NAME, CLASSIFIER)):\n",
    "\n",
    "        info('Getting training Data')\n",
    "        X, y = get_training_data(doc2vec_model, classifications)\n",
    "        \n",
    "        info('Training Classifier')\n",
    "        clf = OneVsRestClassifier(linear_model.SGDClassifier(loss='hinge', penalty='l2', \n",
    "                                                             #alpha is the 1/C parameter\n",
    "                                                             alpha=SVM_REG, fit_intercept=True, n_iter=SVM_ITERATIONS,\n",
    "                                                             #n_jobs=-1 means use all cpus\n",
    "                                                             shuffle=True, verbose=0, n_jobs=1,\n",
    "                                                             #eta0 is the learning rate when we use constant configuration\n",
    "                                                             random_state=SVM_SEED, learning_rate='optimal', eta0=0.0, \n",
    "                                                             class_weight=SVM_CLASS_WEIGHTS, warm_start=False), n_jobs=1)\n",
    "\n",
    "\n",
    "        # Training of a classifier\n",
    "        clf.fit(X,y)\n",
    "        pickle.dump(clf, open(os.path.join(doc2vec_model_save_location, GLOBAL_VARS.MODEL_NAME, \n",
    "                                                              GLOBAL_VARS.SVM_MODEL_NAME, CLASSIFIER), 'w'))\n",
    "        \n",
    "    #     # Training Metrics\n",
    "    #     info('Evaluating on Training Data')\n",
    "    #     yp = clf.predict(X)\n",
    "    #     yp_score = clf.decision_function(X)\n",
    "    #     print yp\n",
    "    #     training_metrics = get_metrics(y, yp_score, yp)\n",
    "    #     print \"** Training Metrics: Cov Err: {:.3f}, Avg Labels: {:.3f}, \\n\\t\\t Top 1: {:.3f}, Top 3: {:.3f}, Top 5: {:.3f}, \\n\\t\\t F1 Micro: {:.3f}, F1 Macro: {:.3f}, Total Pos: {:,d}\".format(\n",
    "    #         training_metrics['coverage_error'], training_metrics['average_num_of_labels'], \n",
    "    #         training_metrics['top_1'], training_metrics['top_3'], training_metrics['top_5'], \n",
    "    #         training_metrics['f1_micro'], training_metrics['f1_macro'], training_metrics['total_positive'])\n",
    "    #\n",
    "    #     # Saving the metrics\n",
    "    #     pickle.dump(training_metrics, open(os.path.join(doc2vec_model_save_location, GLOBAL_VARS.MODEL_NAME, \n",
    "    #                                                           GLOBAL_VARS.SVM_MODEL_NAME, TRAINING_METRICS_FILENAME), 'w'))\n",
    "\n",
    "    #     epoch_training_metrics.append(training_metrics)\n",
    "\n",
    "        del X, y\n",
    "\n",
    "    else:\n",
    "        info('Loading Classifier')\n",
    "        clf = pickle.load(open(os.path.join(doc2vec_model_save_location, GLOBAL_VARS.MODEL_NAME, \n",
    "                                                          GLOBAL_VARS.SVM_MODEL_NAME, CLASSIFIER), 'r'))\n",
    "    \n",
    "    # Validation Metrics\n",
    "    info('Getting Validation Embeddings')\n",
    "    Xv, yv = get_validation_docs_with_inference_new(doc2vec_model, doc_classification_map, classifications, \n",
    "                                                    validation_docs_list, validation_preprocessed_files_prefix,\n",
    "                                                    validation_preprocessed_docids_files_prefix)\n",
    "    info('Evaluating on Validation Data')\n",
    "    yvp = clf.predict(Xv)\n",
    "    yvp_score = clf.decision_function(Xv)\n",
    "    print yvp\n",
    "    validation_metrics = get_metrics(yv, yvp_score, yvp)\n",
    "    print \"** Validation Metrics: Cov Err: {:.3f}, Avg Labels: {:.3f}, \\n\\t\\t Top 1: {:.3f}, Top 3: {:.3f}, Top 5: {:.3f}, \\n\\t\\t F1 Micro: {:.3f}, F1 Macro: {:.3f}, Total Pos: {:,d}\".format(\n",
    "        validation_metrics['coverage_error'], validation_metrics['average_num_of_labels'], \n",
    "        validation_metrics['top_1'], validation_metrics['top_3'], validation_metrics['top_5'], \n",
    "        validation_metrics['f1_micro'], validation_metrics['f1_macro'], validation_metrics['total_positive'])\n",
    "    \n",
    "    graph.add_metrics_to_graph(validation_metrics, epoch)\n",
    "    \n",
    "    epoch_validation_metrics.append(validation_metrics)\n",
    "    \n",
    "    \n",
    "    # Saving the metrics\n",
    "#     pickle.dump(training_metrics, open(os.path.join(doc2vec_model_save_location, GLOBAL_VARS.MODEL_NAME, \n",
    "#                                                           GLOBAL_VARS.SVM_MODEL_NAME, TRAINING_METRICS_FILENAME), 'w'))\n",
    "    pickle.dump(validation_metrics, open(os.path.join(doc2vec_model_save_location, GLOBAL_VARS.MODEL_NAME, \n",
    "                                                          GLOBAL_VARS.SVM_MODEL_NAME, VALIDATION_METRICS_FILENAME), 'w'))\n"
   ]
  },
  {
   "cell_type": "code",
   "execution_count": 36,
   "metadata": {
    "collapsed": false
   },
   "outputs": [
    {
     "name": "stderr",
     "output_type": "stream",
     "text": [
      "2017-01-07 08:32:48,888 : INFO : ****************** Epoch 6 --- Working on doc2vec_size_500_w_8_type_dm_concat_0_mean_1_trainwords_0_hs_0_neg_10_vocabsize_None/epoch_6 *******************\n",
      "2017-01-07 08:32:48,891 : INFO : loading Doc2Vec object from /big/s/shalaby/parameter_search_doc2vec_models_new/full/doc2vec_size_500_w_8_type_dm_concat_0_mean_1_trainwords_0_hs_0_neg_10_vocabsize_None/epoch_6/model\n",
      "2017-01-07 08:33:14,046 : INFO : loading docvecs recursively from /big/s/shalaby/parameter_search_doc2vec_models_new/full/doc2vec_size_500_w_8_type_dm_concat_0_mean_1_trainwords_0_hs_0_neg_10_vocabsize_None/epoch_6/model.docvecs.* with mmap=None\n",
      "2017-01-07 08:33:14,048 : INFO : loading doctag_syn0 from /big/s/shalaby/parameter_search_doc2vec_models_new/full/doc2vec_size_500_w_8_type_dm_concat_0_mean_1_trainwords_0_hs_0_neg_10_vocabsize_None/epoch_6/model.docvecs.doctag_syn0.npy with mmap=None\n",
      "2017-01-07 08:33:21,936 : INFO : loading syn1neg from /big/s/shalaby/parameter_search_doc2vec_models_new/full/doc2vec_size_500_w_8_type_dm_concat_0_mean_1_trainwords_0_hs_0_neg_10_vocabsize_None/epoch_6/model.syn1neg.npy with mmap=None\n",
      "2017-01-07 08:33:24,446 : INFO : loading syn0 from /big/s/shalaby/parameter_search_doc2vec_models_new/full/doc2vec_size_500_w_8_type_dm_concat_0_mean_1_trainwords_0_hs_0_neg_10_vocabsize_None/epoch_6/model.syn0.npy with mmap=None\n",
      "2017-01-07 08:33:26,751 : INFO : setting ignored attribute syn0norm to None\n",
      "2017-01-07 08:33:26,768 : INFO : setting ignored attribute cum_table to None\n"
     ]
    }
   ],
   "source": [
    "GLOBAL_VARS.MODEL_NAME = placeholder_model_name.format(6)\n",
    "info(\"****************** Epoch {} --- Working on {} *******************\".format(epoch, GLOBAL_VARS.MODEL_NAME))\n",
    "\n",
    "# if we have the model, just load it, otherwise train the previous model\n",
    "if os.path.exists(os.path.join(doc2vec_model_save_location, GLOBAL_VARS.MODEL_NAME, MODEL_PREFIX)):\n",
    "    doc2vec_model = Doc2Vec.load(os.path.join(doc2vec_model_save_location, GLOBAL_VARS.MODEL_NAME, MODEL_PREFIX))"
   ]
  },
  {
   "cell_type": "code",
   "execution_count": 35,
   "metadata": {
    "collapsed": false
   },
   "outputs": [
    {
     "name": "stderr",
     "output_type": "stream",
     "text": [
      "2017-01-07 08:05:32,383 : INFO : saving Doc2Vec object under /big/s/shalaby/parameter_search_doc2vec_models_new/full/doc2vec_size_500_w_8_type_dm_concat_0_mean_1_trainwords_0_hs_0_neg_10_vocabsize_None/epoch_6/model, separately None\n",
      "2017-01-07 08:05:32,384 : INFO : storing numpy array 'doctag_syn0' to /big/s/shalaby/parameter_search_doc2vec_models_new/full/doc2vec_size_500_w_8_type_dm_concat_0_mean_1_trainwords_0_hs_0_neg_10_vocabsize_None/epoch_6/model.docvecs.doctag_syn0.npy\n",
      "2017-01-07 08:06:07,546 : INFO : storing numpy array 'syn1neg' to /big/s/shalaby/parameter_search_doc2vec_models_new/full/doc2vec_size_500_w_8_type_dm_concat_0_mean_1_trainwords_0_hs_0_neg_10_vocabsize_None/epoch_6/model.syn1neg.npy\n",
      "2017-01-07 08:06:22,413 : INFO : not storing attribute syn0norm\n",
      "2017-01-07 08:06:22,414 : INFO : storing numpy array 'syn0' to /big/s/shalaby/parameter_search_doc2vec_models_new/full/doc2vec_size_500_w_8_type_dm_concat_0_mean_1_trainwords_0_hs_0_neg_10_vocabsize_None/epoch_6/model.syn0.npy\n",
      "2017-01-07 08:06:37,511 : INFO : not storing attribute cum_table\n",
      "2017-01-07 08:07:37,639 : INFO : precomputing L2-norms of word weight vectors\n",
      "2017-01-07 08:08:36,552 : INFO : capital-common-countries: 9.2% (28/306)\n",
      "2017-01-07 08:09:21,442 : INFO : capital-world: 6.8% (31/453)\n",
      "2017-01-07 08:09:36,517 : INFO : currency: 0.0% (0/152)\n",
      "2017-01-07 08:13:17,488 : INFO : city-in-state: 3.3% (75/2252)\n",
      "2017-01-07 08:13:44,345 : INFO : family: 14.3% (39/272)\n",
      "2017-01-07 08:15:09,837 : INFO : gram1-adjective-to-adverb: 6.8% (59/870)\n",
      "2017-01-07 08:16:14,734 : INFO : gram2-opposite: 17.5% (114/650)\n",
      "2017-01-07 08:18:26,319 : INFO : gram3-comparative: 72.7% (969/1332)\n",
      "2017-01-07 08:19:40,242 : INFO : gram4-superlative: 34.1% (258/756)\n",
      "2017-01-07 08:21:23,693 : INFO : gram5-present-participle: 23.0% (243/1056)\n",
      "2017-01-07 08:23:05,897 : INFO : gram6-nationality-adjective: 11.7% (120/1030)\n",
      "2017-01-07 08:25:25,383 : INFO : gram7-past-tense: 12.2% (172/1406)\n",
      "2017-01-07 08:27:28,904 : INFO : gram8-plural: 43.9% (553/1260)\n",
      "2017-01-07 08:28:50,549 : INFO : gram9-plural-verbs: 47.9% (389/812)\n",
      "2017-01-07 08:28:50,553 : INFO : total: 24.2% (3050/12607)\n"
     ]
    },
    {
     "name": "stdout",
     "output_type": "stream",
     "text": [
      "CPU times: user 3h 47min 44s, sys: 4h 31min 2s, total: 8h 18min 46s\n",
      "Wall time: 21min 14s\n",
      "CPU times: user 3h 48min 38s, sys: 4h 31min 12s, total: 8h 19min 51s\n",
      "Wall time: 23min 18s\n"
     ]
    }
   ],
   "source": [
    "%%time\n",
    "ensure_disk_location_exists(os.path.join(doc2vec_model_save_location, GLOBAL_VARS.MODEL_NAME))\n",
    "doc2vec_model.save(os.path.join(doc2vec_model_save_location, GLOBAL_VARS.MODEL_NAME, MODEL_PREFIX))\n",
    "GLOBAL_VARS.DOC2VEC_MODEL = doc2vec_model\n",
    "\n",
    "# get the word2vec analogy accuracy score\n",
    "%time word2vec_result = doc2vec_model.accuracy(word2vec_questions_file, restrict_vocab=None)\n",
    "epoch_word2vec_metrics.append(word2vec_result)\n",
    "pickle.dump(word2vec_result, open(os.path.join(doc2vec_model_save_location, GLOBAL_VARS.MODEL_NAME,\n",
    "                                               WORD2VEC_METRICS_FILENAME), 'w'))\n"
   ]
  },
  {
   "cell_type": "code",
   "execution_count": 75,
   "metadata": {
    "collapsed": true
   },
   "outputs": [],
   "source": [
    "from multiprocessing.dummy import Pool as ThreadPool "
   ]
  },
  {
   "cell_type": "code",
   "execution_count": 43,
   "metadata": {
    "collapsed": true
   },
   "outputs": [],
   "source": [
    "import thesis.utils.metrics"
   ]
  },
  {
   "cell_type": "code",
   "execution_count": 84,
   "metadata": {
    "collapsed": false
   },
   "outputs": [
    {
     "name": "stderr",
     "output_type": "stream",
     "text": [
      "2016-12-28 22:22:21,536 : INFO : Loading new batch\n",
      "2016-12-28 22:22:27,109 : INFO : Finished loading new batch\n"
     ]
    }
   ],
   "source": [
    "validation_docs_iterator = DocumentBatchGenerator(validation_preprocessed_files_prefix, \n",
    "                                                  validation_preprocessed_docids_files_prefix, batch_size=None)\n",
    "i=0\n",
    "doc_contents = []\n",
    "for (doc_id, doc_contents_array) in validation_docs_iterator:\n",
    "    i += 1\n",
    "    doc_contents.append((doc_id, doc_contents_array))\n",
    "    if i > 100:\n",
    "        break"
   ]
  },
  {
   "cell_type": "code",
   "execution_count": 133,
   "metadata": {
    "collapsed": false
   },
   "outputs": [],
   "source": [
    "def infer_one_doc(doc):\n",
    "    #doc2vec_model.random = np.random.RandomState(DOC2VEC_SEED)\n",
    "    rep = doc2vec_model.infer_vector(doc[1])\n",
    "    return (doc[0], rep)"
   ]
  },
  {
   "cell_type": "markdown",
   "metadata": {},
   "source": [
    "Threaded Version"
   ]
  },
  {
   "cell_type": "code",
   "execution_count": 114,
   "metadata": {
    "collapsed": false
   },
   "outputs": [
    {
     "name": "stdout",
     "output_type": "stream",
     "text": [
      "CPU times: user 1min 41s, sys: 620 ms, total: 1min 41s\n",
      "Wall time: 9.83 s\n"
     ]
    }
   ],
   "source": [
    "%%time\n",
    "pool = ThreadPool(16)\n",
    "doc2vec_model.random = np.random.RandomState(DOC2VEC_SEED)\n",
    "threaded_reps = pool.map(infer_one_doc, doc_contents)\n"
   ]
  },
  {
   "cell_type": "markdown",
   "metadata": {},
   "source": [
    "Non-Threaded Version"
   ]
  },
  {
   "cell_type": "code",
   "execution_count": 112,
   "metadata": {
    "collapsed": false
   },
   "outputs": [
    {
     "name": "stdout",
     "output_type": "stream",
     "text": [
      "CPU times: user 14 s, sys: 44 ms, total: 14.1 s\n",
      "Wall time: 13.9 s\n"
     ]
    }
   ],
   "source": [
    "%%time\n",
    "reps = []\n",
    "doc2vec_model.random = np.random.RandomState(DOC2VEC_SEED)\n",
    "for doc in doc_contents:\n",
    "    reps.append((doc[0], doc2vec_model.infer_vector(doc[1])))"
   ]
  },
  {
   "cell_type": "code",
   "execution_count": 92,
   "metadata": {
    "collapsed": false
   },
   "outputs": [
    {
     "data": {
      "text/plain": [
       "[u'08825480',\n",
       " u'08774433',\n",
       " u'08791071',\n",
       " u'08912011',\n",
       " u'08678092',\n",
       " u'08859194',\n",
       " u'08635554',\n",
       " u'08914715',\n",
       " u'08740442',\n",
       " u'08740792',\n",
       " u'08741891',\n",
       " u'08889791',\n",
       " u'08845058',\n",
       " u'08675352',\n",
       " u'08910298',\n",
       " u'08908470',\n",
       " u'07336611',\n",
       " u'07370801',\n",
       " u'08923495',\n",
       " u'08730828']"
      ]
     },
     "execution_count": 92,
     "metadata": {},
     "output_type": "execute_result"
    }
   ],
   "source": [
    "[d[0] for d in threaded_reps][:20]"
   ]
  },
  {
   "cell_type": "code",
   "execution_count": 94,
   "metadata": {
    "collapsed": false
   },
   "outputs": [
    {
     "data": {
      "text/plain": [
       "[u'08825480',\n",
       " u'08774433',\n",
       " u'08791071',\n",
       " u'08912011',\n",
       " u'08678092',\n",
       " u'08859194',\n",
       " u'08635554',\n",
       " u'08914715',\n",
       " u'08740442',\n",
       " u'08740792',\n",
       " u'08741891',\n",
       " u'08889791',\n",
       " u'08845058',\n",
       " u'08675352',\n",
       " u'08910298',\n",
       " u'08908470',\n",
       " u'07336611',\n",
       " u'07370801',\n",
       " u'08923495',\n",
       " u'08730828']"
      ]
     },
     "execution_count": 94,
     "metadata": {},
     "output_type": "execute_result"
    }
   ],
   "source": [
    "[d[0] for d in reps][:20]"
   ]
  },
  {
   "cell_type": "code",
   "execution_count": 100,
   "metadata": {
    "collapsed": false
   },
   "outputs": [
    {
     "data": {
      "text/plain": [
       "True"
      ]
     },
     "execution_count": 100,
     "metadata": {},
     "output_type": "execute_result"
    }
   ],
   "source": [
    "np.array_equal([d[0] for d in reps], [d[0] for d in threaded_reps])"
   ]
  },
  {
   "cell_type": "code",
   "execution_count": 113,
   "metadata": {
    "collapsed": false
   },
   "outputs": [
    {
     "data": {
      "text/plain": [
       "array([ 0.30695215,  0.62732637, -0.16665867,  0.21510798, -0.31053102,\n",
       "        0.24912256,  0.27854046, -0.18195362, -0.2556676 , -0.5964365 ,\n",
       "        0.21105912, -0.23973639, -0.03185667, -0.07150706,  0.34752986,\n",
       "       -0.10195051, -0.21096784, -0.16357803, -0.36328176,  0.69572109,\n",
       "        0.56532162, -0.2350243 ,  0.29052514,  0.08191228,  0.35617095,\n",
       "       -0.04608935, -0.22245102, -0.2092436 ,  0.03193387,  0.20119652,\n",
       "        0.41143674, -0.00198068,  0.2738685 ,  0.53701001, -0.1117554 ,\n",
       "       -0.03540101, -0.34937236, -0.79319656, -0.24756837,  0.25518459,\n",
       "       -0.13143119, -0.28934225,  0.40138   , -0.98963302,  0.13317154,\n",
       "       -0.78089136,  0.02822817,  0.09919885,  0.06839398,  1.14812255,\n",
       "       -0.35712692,  0.03212974,  0.31967002,  0.01885306,  0.32403627,\n",
       "        0.06881366, -0.36663699, -0.06164655, -0.50977266,  0.13202219,\n",
       "        0.34584206, -0.23481339, -0.26995379, -0.05701207,  0.09176121,\n",
       "        0.05095135, -0.33242008,  0.24291369,  0.01117826,  0.10993928,\n",
       "       -0.1800983 ,  0.49444726,  0.26564318,  0.7361095 , -0.06239768,\n",
       "       -0.21320428, -0.20742436, -0.03807143, -0.12843417, -0.48612225,\n",
       "        0.14675111,  0.1267944 , -0.44746301, -0.68673682, -0.54249072,\n",
       "       -0.07855206, -0.43142584,  0.35044146,  0.15806454, -0.81718534,\n",
       "       -0.24564786, -0.41462311,  0.05346218,  0.13060793, -0.52602261,\n",
       "       -0.68961495, -0.35983112, -0.10904109, -0.70629472, -0.74079585], dtype=float32)"
      ]
     },
     "execution_count": 113,
     "metadata": {},
     "output_type": "execute_result"
    }
   ],
   "source": [
    "reps[0][1]"
   ]
  },
  {
   "cell_type": "code",
   "execution_count": 116,
   "metadata": {
    "collapsed": false
   },
   "outputs": [
    {
     "data": {
      "text/plain": [
       "array([ 0.44398868,  0.72295773, -0.1431679 ,  0.12140259, -0.35566956,\n",
       "        0.25285348,  0.25987589, -0.25635543, -0.27375746, -0.68261814,\n",
       "        0.2418227 , -0.31993562, -0.04068605, -0.19011304,  0.25827357,\n",
       "       -0.23827454, -0.14665996, -0.24676035, -0.31205919,  0.7144047 ,\n",
       "        0.51341397, -0.27819353,  0.2297533 ,  0.21143083,  0.21526954,\n",
       "       -0.12819654, -0.23137507, -0.18031113, -0.0302615 ,  0.25606248,\n",
       "        0.46331209,  0.03231328,  0.29240945,  0.55419838, -0.08406049,\n",
       "       -0.02534914, -0.30697635, -0.89490503, -0.25361407, -0.0620365 ,\n",
       "       -0.10279118, -0.24122375,  0.2858358 , -0.89883715,  0.2349384 ,\n",
       "       -0.77614403,  0.07704009,  0.00219567,  0.05001302,  1.00935435,\n",
       "       -0.43593982,  0.03736721,  0.49705869, -0.04218138,  0.37695912,\n",
       "        0.0875724 , -0.41761422,  0.01351045, -0.63688326,  0.19897321,\n",
       "        0.29641187, -0.23571339, -0.14795278, -0.12061672,  0.1306804 ,\n",
       "        0.2521036 , -0.36068025,  0.26970887, -0.00897445,  0.17607778,\n",
       "       -0.101063  ,  0.44033691,  0.19987908,  0.65593952, -0.2147298 ,\n",
       "       -0.10094108, -0.20588517, -0.08825132, -0.08381121, -0.44989595,\n",
       "        0.17535064,  0.10233553, -0.57504725, -0.80179036, -0.56347519,\n",
       "       -0.09048223, -0.4018501 ,  0.54773515,  0.20243937, -0.86586028,\n",
       "       -0.30235139, -0.51399952,  0.10769948, -0.03541334, -0.45822388,\n",
       "       -0.72284496, -0.29005697, -0.11217777, -0.75840199, -0.75367755], dtype=float32)"
      ]
     },
     "execution_count": 116,
     "metadata": {},
     "output_type": "execute_result"
    }
   ],
   "source": [
    "threaded_reps[0][1]"
   ]
  },
  {
   "cell_type": "code",
   "execution_count": 121,
   "metadata": {
    "collapsed": true
   },
   "outputs": [],
   "source": [
    "import itertools"
   ]
  },
  {
   "cell_type": "markdown",
   "metadata": {},
   "source": [
    "Simple threading, but problem is that pool.map exhausts the whole iterable"
   ]
  },
  {
   "cell_type": "code",
   "execution_count": 120,
   "metadata": {
    "collapsed": false
   },
   "outputs": [
    {
     "name": "stderr",
     "output_type": "stream",
     "text": [
      "2016-12-28 23:52:07,981 : INFO : Loading new batch for index: 0\n"
     ]
    },
    {
     "name": "stdout",
     "output_type": "stream",
     "text": [
      "CPU times: user 24 ms, sys: 12 ms, total: 36 ms\n",
      "Wall time: 26.4 ms\n"
     ]
    },
    {
     "name": "stderr",
     "output_type": "stream",
     "text": [
      "2016-12-28 23:52:14,764 : INFO : Finished loading new batch\n",
      "2016-12-28 23:52:16,320 : INFO : Loading new batch for index: 10000\n",
      "2016-12-28 23:52:36,742 : INFO : Finished loading new batch\n",
      "2016-12-28 23:52:37,438 : INFO : Loading new batch for index: 12412\n",
      "2016-12-28 23:52:37,487 : INFO : No more batches to load, exiting at index: 12412\n"
     ]
    }
   ],
   "source": [
    "%%time\n",
    "validation_docs_iterator = DocumentBatchGenerator(validation_preprocessed_files_prefix, \n",
    "                                                  validation_preprocessed_docids_files_prefix, batch_size=None)\n",
    "pool = ThreadPool(16)\n",
    "threaded_reps = pool.map(infer_one_doc, validation_docs_iterator)"
   ]
  },
  {
   "cell_type": "markdown",
   "metadata": {},
   "source": [
    "More advanced threading"
   ]
  },
  {
   "cell_type": "code",
   "execution_count": 140,
   "metadata": {
    "collapsed": true
   },
   "outputs": [],
   "source": [
    "def nothing_func(doc):\n",
    "    1 + 1"
   ]
  },
  {
   "cell_type": "code",
   "execution_count": 158,
   "metadata": {
    "collapsed": false
   },
   "outputs": [
    {
     "name": "stderr",
     "output_type": "stream",
     "text": [
      "2016-12-29 02:08:42,347 : INFO : Loading new batch for index: 0\n",
      "2016-12-29 02:08:49,943 : INFO : Finished loading new batch\n",
      "2016-12-29 02:09:13,387 : INFO : Finished: 1000\n",
      "2016-12-29 02:09:36,895 : INFO : Finished: 2000\n"
     ]
    },
    {
     "ename": "KeyboardInterrupt",
     "evalue": "",
     "output_type": "error",
     "traceback": [
      "\u001b[1;31m---------------------------------------------------------------------------\u001b[0m",
      "\u001b[1;31mKeyboardInterrupt\u001b[0m                         Traceback (most recent call last)",
      "\u001b[1;32m<ipython-input-158-20d2bff78aed>\u001b[0m in \u001b[0;36m<module>\u001b[1;34m()\u001b[0m\n\u001b[1;32m----> 1\u001b[1;33m \u001b[0mget_ipython\u001b[0m\u001b[1;33m(\u001b[0m\u001b[1;33m)\u001b[0m\u001b[1;33m.\u001b[0m\u001b[0mrun_cell_magic\u001b[0m\u001b[1;33m(\u001b[0m\u001b[1;34mu'time'\u001b[0m\u001b[1;33m,\u001b[0m \u001b[1;34mu''\u001b[0m\u001b[1;33m,\u001b[0m \u001b[1;34mu'validation_docs_iterator = DocumentBatchGenerator2(validation_preprocessed_files_prefix, \\n                                                  validation_preprocessed_docids_files_prefix, batch_size=None)\\ngenerator_func = validation_docs_iterator.__iter__()\\npool = ThreadPool(16)\\n# map consumes the whole iterator on the spot, so we have to use itertools.islice to fake mini-batching\\nthreaded_reps = {}\\nmini_batch_size = 1000\\nwhile True:\\n    threaded_reps_partial = pool.map(infer_one_doc, itertools.islice(generator_func, mini_batch_size))\\n    info(\"Finished: {}\".format(str(validation_docs_iterator.curr_index)))\\n    if threaded_reps_partial:\\n        #threaded_reps.extend(threaded_reps_partial)\\n        threaded_reps.update(threaded_reps_partial)\\n    else:\\n        break'\u001b[0m\u001b[1;33m)\u001b[0m\u001b[1;33m\u001b[0m\u001b[0m\n\u001b[0m",
      "\u001b[1;32m/home/stud/shalaby/.virtualenv/thesis-env/local/lib/python2.7/site-packages/IPython/core/interactiveshell.pyc\u001b[0m in \u001b[0;36mrun_cell_magic\u001b[1;34m(self, magic_name, line, cell)\u001b[0m\n\u001b[0;32m   2118\u001b[0m             \u001b[0mmagic_arg_s\u001b[0m \u001b[1;33m=\u001b[0m \u001b[0mself\u001b[0m\u001b[1;33m.\u001b[0m\u001b[0mvar_expand\u001b[0m\u001b[1;33m(\u001b[0m\u001b[0mline\u001b[0m\u001b[1;33m,\u001b[0m \u001b[0mstack_depth\u001b[0m\u001b[1;33m)\u001b[0m\u001b[1;33m\u001b[0m\u001b[0m\n\u001b[0;32m   2119\u001b[0m             \u001b[1;32mwith\u001b[0m \u001b[0mself\u001b[0m\u001b[1;33m.\u001b[0m\u001b[0mbuiltin_trap\u001b[0m\u001b[1;33m:\u001b[0m\u001b[1;33m\u001b[0m\u001b[0m\n\u001b[1;32m-> 2120\u001b[1;33m                 \u001b[0mresult\u001b[0m \u001b[1;33m=\u001b[0m \u001b[0mfn\u001b[0m\u001b[1;33m(\u001b[0m\u001b[0mmagic_arg_s\u001b[0m\u001b[1;33m,\u001b[0m \u001b[0mcell\u001b[0m\u001b[1;33m)\u001b[0m\u001b[1;33m\u001b[0m\u001b[0m\n\u001b[0m\u001b[0;32m   2121\u001b[0m             \u001b[1;32mreturn\u001b[0m \u001b[0mresult\u001b[0m\u001b[1;33m\u001b[0m\u001b[0m\n\u001b[0;32m   2122\u001b[0m \u001b[1;33m\u001b[0m\u001b[0m\n",
      "\u001b[1;32m<decorator-gen-60>\u001b[0m in \u001b[0;36mtime\u001b[1;34m(self, line, cell, local_ns)\u001b[0m\n",
      "\u001b[1;32m/home/stud/shalaby/.virtualenv/thesis-env/local/lib/python2.7/site-packages/IPython/core/magic.pyc\u001b[0m in \u001b[0;36m<lambda>\u001b[1;34m(f, *a, **k)\u001b[0m\n\u001b[0;32m    191\u001b[0m     \u001b[1;31m# but it's overkill for just that one bit of state.\u001b[0m\u001b[1;33m\u001b[0m\u001b[1;33m\u001b[0m\u001b[0m\n\u001b[0;32m    192\u001b[0m     \u001b[1;32mdef\u001b[0m \u001b[0mmagic_deco\u001b[0m\u001b[1;33m(\u001b[0m\u001b[0marg\u001b[0m\u001b[1;33m)\u001b[0m\u001b[1;33m:\u001b[0m\u001b[1;33m\u001b[0m\u001b[0m\n\u001b[1;32m--> 193\u001b[1;33m         \u001b[0mcall\u001b[0m \u001b[1;33m=\u001b[0m \u001b[1;32mlambda\u001b[0m \u001b[0mf\u001b[0m\u001b[1;33m,\u001b[0m \u001b[1;33m*\u001b[0m\u001b[0ma\u001b[0m\u001b[1;33m,\u001b[0m \u001b[1;33m**\u001b[0m\u001b[0mk\u001b[0m\u001b[1;33m:\u001b[0m \u001b[0mf\u001b[0m\u001b[1;33m(\u001b[0m\u001b[1;33m*\u001b[0m\u001b[0ma\u001b[0m\u001b[1;33m,\u001b[0m \u001b[1;33m**\u001b[0m\u001b[0mk\u001b[0m\u001b[1;33m)\u001b[0m\u001b[1;33m\u001b[0m\u001b[0m\n\u001b[0m\u001b[0;32m    194\u001b[0m \u001b[1;33m\u001b[0m\u001b[0m\n\u001b[0;32m    195\u001b[0m         \u001b[1;32mif\u001b[0m \u001b[0mcallable\u001b[0m\u001b[1;33m(\u001b[0m\u001b[0marg\u001b[0m\u001b[1;33m)\u001b[0m\u001b[1;33m:\u001b[0m\u001b[1;33m\u001b[0m\u001b[0m\n",
      "\u001b[1;32m/home/stud/shalaby/.virtualenv/thesis-env/local/lib/python2.7/site-packages/IPython/core/magics/execution.pyc\u001b[0m in \u001b[0;36mtime\u001b[1;34m(self, line, cell, local_ns)\u001b[0m\n\u001b[0;32m   1175\u001b[0m         \u001b[1;32melse\u001b[0m\u001b[1;33m:\u001b[0m\u001b[1;33m\u001b[0m\u001b[0m\n\u001b[0;32m   1176\u001b[0m             \u001b[0mst\u001b[0m \u001b[1;33m=\u001b[0m \u001b[0mclock2\u001b[0m\u001b[1;33m(\u001b[0m\u001b[1;33m)\u001b[0m\u001b[1;33m\u001b[0m\u001b[0m\n\u001b[1;32m-> 1177\u001b[1;33m             \u001b[1;32mexec\u001b[0m\u001b[1;33m(\u001b[0m\u001b[0mcode\u001b[0m\u001b[1;33m,\u001b[0m \u001b[0mglob\u001b[0m\u001b[1;33m,\u001b[0m \u001b[0mlocal_ns\u001b[0m\u001b[1;33m)\u001b[0m\u001b[1;33m\u001b[0m\u001b[0m\n\u001b[0m\u001b[0;32m   1178\u001b[0m             \u001b[0mend\u001b[0m \u001b[1;33m=\u001b[0m \u001b[0mclock2\u001b[0m\u001b[1;33m(\u001b[0m\u001b[1;33m)\u001b[0m\u001b[1;33m\u001b[0m\u001b[0m\n\u001b[0;32m   1179\u001b[0m             \u001b[0mout\u001b[0m \u001b[1;33m=\u001b[0m \u001b[0mNone\u001b[0m\u001b[1;33m\u001b[0m\u001b[0m\n",
      "\u001b[1;32m<timed exec>\u001b[0m in \u001b[0;36m<module>\u001b[1;34m()\u001b[0m\n",
      "\u001b[1;32m/usr/lib/python2.7/multiprocessing/pool.pyc\u001b[0m in \u001b[0;36mmap\u001b[1;34m(self, func, iterable, chunksize)\u001b[0m\n\u001b[0;32m    249\u001b[0m         '''\n\u001b[0;32m    250\u001b[0m         \u001b[1;32massert\u001b[0m \u001b[0mself\u001b[0m\u001b[1;33m.\u001b[0m\u001b[0m_state\u001b[0m \u001b[1;33m==\u001b[0m \u001b[0mRUN\u001b[0m\u001b[1;33m\u001b[0m\u001b[0m\n\u001b[1;32m--> 251\u001b[1;33m         \u001b[1;32mreturn\u001b[0m \u001b[0mself\u001b[0m\u001b[1;33m.\u001b[0m\u001b[0mmap_async\u001b[0m\u001b[1;33m(\u001b[0m\u001b[0mfunc\u001b[0m\u001b[1;33m,\u001b[0m \u001b[0miterable\u001b[0m\u001b[1;33m,\u001b[0m \u001b[0mchunksize\u001b[0m\u001b[1;33m)\u001b[0m\u001b[1;33m.\u001b[0m\u001b[0mget\u001b[0m\u001b[1;33m(\u001b[0m\u001b[1;33m)\u001b[0m\u001b[1;33m\u001b[0m\u001b[0m\n\u001b[0m\u001b[0;32m    252\u001b[0m \u001b[1;33m\u001b[0m\u001b[0m\n\u001b[0;32m    253\u001b[0m     \u001b[1;32mdef\u001b[0m \u001b[0mimap\u001b[0m\u001b[1;33m(\u001b[0m\u001b[0mself\u001b[0m\u001b[1;33m,\u001b[0m \u001b[0mfunc\u001b[0m\u001b[1;33m,\u001b[0m \u001b[0miterable\u001b[0m\u001b[1;33m,\u001b[0m \u001b[0mchunksize\u001b[0m\u001b[1;33m=\u001b[0m\u001b[1;36m1\u001b[0m\u001b[1;33m)\u001b[0m\u001b[1;33m:\u001b[0m\u001b[1;33m\u001b[0m\u001b[0m\n",
      "\u001b[1;32m/usr/lib/python2.7/multiprocessing/pool.pyc\u001b[0m in \u001b[0;36mget\u001b[1;34m(self, timeout)\u001b[0m\n\u001b[0;32m    559\u001b[0m \u001b[1;33m\u001b[0m\u001b[0m\n\u001b[0;32m    560\u001b[0m     \u001b[1;32mdef\u001b[0m \u001b[0mget\u001b[0m\u001b[1;33m(\u001b[0m\u001b[0mself\u001b[0m\u001b[1;33m,\u001b[0m \u001b[0mtimeout\u001b[0m\u001b[1;33m=\u001b[0m\u001b[0mNone\u001b[0m\u001b[1;33m)\u001b[0m\u001b[1;33m:\u001b[0m\u001b[1;33m\u001b[0m\u001b[0m\n\u001b[1;32m--> 561\u001b[1;33m         \u001b[0mself\u001b[0m\u001b[1;33m.\u001b[0m\u001b[0mwait\u001b[0m\u001b[1;33m(\u001b[0m\u001b[0mtimeout\u001b[0m\u001b[1;33m)\u001b[0m\u001b[1;33m\u001b[0m\u001b[0m\n\u001b[0m\u001b[0;32m    562\u001b[0m         \u001b[1;32mif\u001b[0m \u001b[1;32mnot\u001b[0m \u001b[0mself\u001b[0m\u001b[1;33m.\u001b[0m\u001b[0m_ready\u001b[0m\u001b[1;33m:\u001b[0m\u001b[1;33m\u001b[0m\u001b[0m\n\u001b[0;32m    563\u001b[0m             \u001b[1;32mraise\u001b[0m \u001b[0mTimeoutError\u001b[0m\u001b[1;33m\u001b[0m\u001b[0m\n",
      "\u001b[1;32m/usr/lib/python2.7/multiprocessing/pool.pyc\u001b[0m in \u001b[0;36mwait\u001b[1;34m(self, timeout)\u001b[0m\n\u001b[0;32m    554\u001b[0m         \u001b[1;32mtry\u001b[0m\u001b[1;33m:\u001b[0m\u001b[1;33m\u001b[0m\u001b[0m\n\u001b[0;32m    555\u001b[0m             \u001b[1;32mif\u001b[0m \u001b[1;32mnot\u001b[0m \u001b[0mself\u001b[0m\u001b[1;33m.\u001b[0m\u001b[0m_ready\u001b[0m\u001b[1;33m:\u001b[0m\u001b[1;33m\u001b[0m\u001b[0m\n\u001b[1;32m--> 556\u001b[1;33m                 \u001b[0mself\u001b[0m\u001b[1;33m.\u001b[0m\u001b[0m_cond\u001b[0m\u001b[1;33m.\u001b[0m\u001b[0mwait\u001b[0m\u001b[1;33m(\u001b[0m\u001b[0mtimeout\u001b[0m\u001b[1;33m)\u001b[0m\u001b[1;33m\u001b[0m\u001b[0m\n\u001b[0m\u001b[0;32m    557\u001b[0m         \u001b[1;32mfinally\u001b[0m\u001b[1;33m:\u001b[0m\u001b[1;33m\u001b[0m\u001b[0m\n\u001b[0;32m    558\u001b[0m             \u001b[0mself\u001b[0m\u001b[1;33m.\u001b[0m\u001b[0m_cond\u001b[0m\u001b[1;33m.\u001b[0m\u001b[0mrelease\u001b[0m\u001b[1;33m(\u001b[0m\u001b[1;33m)\u001b[0m\u001b[1;33m\u001b[0m\u001b[0m\n",
      "\u001b[1;32m/usr/lib/python2.7/threading.pyc\u001b[0m in \u001b[0;36mwait\u001b[1;34m(self, timeout)\u001b[0m\n\u001b[0;32m    338\u001b[0m         \u001b[1;32mtry\u001b[0m\u001b[1;33m:\u001b[0m    \u001b[1;31m# restore state no matter what (e.g., KeyboardInterrupt)\u001b[0m\u001b[1;33m\u001b[0m\u001b[0m\n\u001b[0;32m    339\u001b[0m             \u001b[1;32mif\u001b[0m \u001b[0mtimeout\u001b[0m \u001b[1;32mis\u001b[0m \u001b[0mNone\u001b[0m\u001b[1;33m:\u001b[0m\u001b[1;33m\u001b[0m\u001b[0m\n\u001b[1;32m--> 340\u001b[1;33m                 \u001b[0mwaiter\u001b[0m\u001b[1;33m.\u001b[0m\u001b[0macquire\u001b[0m\u001b[1;33m(\u001b[0m\u001b[1;33m)\u001b[0m\u001b[1;33m\u001b[0m\u001b[0m\n\u001b[0m\u001b[0;32m    341\u001b[0m                 \u001b[1;32mif\u001b[0m \u001b[0m__debug__\u001b[0m\u001b[1;33m:\u001b[0m\u001b[1;33m\u001b[0m\u001b[0m\n\u001b[0;32m    342\u001b[0m                     \u001b[0mself\u001b[0m\u001b[1;33m.\u001b[0m\u001b[0m_note\u001b[0m\u001b[1;33m(\u001b[0m\u001b[1;34m\"%s.wait(): got it\"\u001b[0m\u001b[1;33m,\u001b[0m \u001b[0mself\u001b[0m\u001b[1;33m)\u001b[0m\u001b[1;33m\u001b[0m\u001b[0m\n",
      "\u001b[1;31mKeyboardInterrupt\u001b[0m: "
     ]
    }
   ],
   "source": [
    "%%time\n",
    "validation_docs_iterator = DocumentBatchGenerator2(validation_preprocessed_files_prefix, \n",
    "                                                  validation_preprocessed_docids_files_prefix, batch_size=None)\n",
    "generator_func = validation_docs_iterator.__iter__()\n",
    "pool = ThreadPool(16)\n",
    "# map consumes the whole iterator on the spot, so we have to use itertools.islice to fake mini-batching\n",
    "threaded_reps = {}\n",
    "mini_batch_size = 1000\n",
    "while True:\n",
    "    threaded_reps_partial = pool.map(infer_one_doc, itertools.islice(generator_func, mini_batch_size))\n",
    "    info(\"Finished: {}\".format(str(validation_docs_iterator.curr_index)))\n",
    "    if threaded_reps_partial:\n",
    "        #threaded_reps.extend(threaded_reps_partial)\n",
    "        threaded_reps.update(threaded_reps_partial)\n",
    "    else:\n",
    "        break"
   ]
  },
  {
   "cell_type": "code",
   "execution_count": 154,
   "metadata": {
    "collapsed": true
   },
   "outputs": [],
   "source": [
    "class DocumentBatchGenerator2(object):\n",
    "    def __init__(self, filename_prefix, filename_docids_prefix, batch_size=10000 ):\n",
    "        \"\"\"\n",
    "        batch_size cant be > 10,000 due to a limitation in doc2vec training, \n",
    "        None means no batching (only use for inference)\n",
    "        \"\"\"\n",
    "        assert batch_size <= 10000 or batch_size is None\n",
    "        self.filename_prefix = filename_prefix\n",
    "        self.filename_docids_prefix = filename_docids_prefix\n",
    "        self.curr_lines = []\n",
    "        self.curr_docids = []\n",
    "        self.batch_size = batch_size\n",
    "        self.curr_index = 0\n",
    "        self.batch_end = -1\n",
    "    def load_new_batch_in_memory(self):\n",
    "        self.curr_lines, self.docids = [], []\n",
    "        info(\"Loading new batch for index: {}\".format(self.curr_index) )\n",
    "        try:\n",
    "            with open(self.filename_prefix + str(self.curr_index)) as preproc_file:\n",
    "                for line in preproc_file:\n",
    "                    self.curr_lines.append(line.split(\" \"))\n",
    "#                     if i % 1000 == 0:\n",
    "#                         print i\n",
    "            self.curr_docids = pickle.load(open(self.filename_docids_prefix + str(self.curr_index), \"r\"))\n",
    "            self.batch_end = self.curr_index + len(self.curr_lines) -1 \n",
    "            info(\"Finished loading new batch\")\n",
    "        except IOError:\n",
    "            info(\"No more batches to load, exiting at index: {}\".format(self.curr_index))\n",
    "            raise StopIteration()\n",
    "    def __iter__(self):\n",
    "        while True:\n",
    "            if self.curr_index > self.batch_end:\n",
    "                self.load_new_batch_in_memory()\n",
    "            for (doc_id, tokens) in zip(self.curr_docids, self.curr_lines):\n",
    "                if self.batch_size is not None:\n",
    "                    curr_batch_iter = 0\n",
    "                    # divide the document to batches according to the batch size\n",
    "                    while curr_batch_iter < len(tokens):\n",
    "                        self.curr_index += 1\n",
    "                        yield LabeledSentence(words=tokens[curr_batch_iter: curr_batch_iter + self.batch_size], tags=[doc_id])\n",
    "                        curr_batch_iter += self.batch_size\n",
    "                else:\n",
    "                    self.curr_index += 1\n",
    "                    yield doc_id, tokens\n"
   ]
  },
  {
   "cell_type": "code",
   "execution_count": 139,
   "metadata": {
    "collapsed": false
   },
   "outputs": [
    {
     "data": {
      "text/plain": [
       "12412"
      ]
     },
     "execution_count": 139,
     "metadata": {},
     "output_type": "execute_result"
    }
   ],
   "source": [
    "len(validation_docs_list)"
   ]
  },
  {
   "cell_type": "code",
   "execution_count": 138,
   "metadata": {
    "collapsed": false
   },
   "outputs": [
    {
     "data": {
      "text/plain": [
       "13000"
      ]
     },
     "execution_count": 138,
     "metadata": {},
     "output_type": "execute_result"
    }
   ],
   "source": [
    "len(threaded_reps)"
   ]
  },
  {
   "cell_type": "code",
   "execution_count": null,
   "metadata": {
    "collapsed": true
   },
   "outputs": [],
   "source": [
    "%%time\n",
    "validation_docs_iterator = DocumentBatchGenerator(validation_preprocessed_files_prefix, \n",
    "                                                  validation_preprocessed_docids_files_prefix, batch_size=None)\n",
    "pool = ThreadPool(20)\n",
    "# map consumes the whole iterator on the spot, so we have to use itertools.islice to fake mini-batching\n",
    "threaded_reps = []\n",
    "mini_batch_size = 1000\n",
    "while True:\n",
    "    threaded_reps_partial = pool.map(infer_one_doc, itertools.islice(validation_docs_iterator, mini_batch_size))\n",
    "    info(\"Finished: {}\".format(str(validation_docs_iterator.curr_index)))\n",
    "    if threaded_reps_partial:\n",
    "        threaded_reps.extend(threaded_reps_partial)\n",
    "    else:\n",
    "        break"
   ]
  },
  {
   "cell_type": "code",
   "execution_count": 126,
   "metadata": {
    "collapsed": false
   },
   "outputs": [
    {
     "name": "stdout",
     "output_type": "stream",
     "text": [
      "0\n",
      "1\n",
      "2\n",
      "3\n",
      "4\n",
      "5\n",
      "6\n",
      "7\n",
      "8\n",
      "9\n"
     ]
    }
   ],
   "source": [
    "def g():\n",
    "    for el in xrange(50):\n",
    "        yield el\n",
    "\n",
    "go = g()\n",
    "result = []\n",
    "N = 10\n",
    "for i in itertools.islice(go, N):\n",
    "    print i"
   ]
  },
  {
   "cell_type": "code",
   "execution_count": 73,
   "metadata": {
    "collapsed": false
   },
   "outputs": [
    {
     "name": "stderr",
     "output_type": "stream",
     "text": [
      "2016-12-28 18:35:17,009 : INFO : Loading new batch\n",
      "2016-12-28 18:35:21,915 : INFO : Finished loading new batch\n"
     ]
    },
    {
     "name": "stdout",
     "output_type": "stream",
     "text": [
      "CPU times: user 848 ms, sys: 8 ms, total: 856 ms\n",
      "Wall time: 852 ms\n",
      "CPU times: user 448 ms, sys: 12 ms, total: 460 ms\n",
      "Wall time: 457 ms\n",
      "CPU times: user 248 ms, sys: 4 ms, total: 252 ms\n",
      "Wall time: 250 ms\n",
      "{u'08774433': array([-0.24957576, -0.44971526, -0.56399536,  0.26340374, -0.72280848,\n",
      "        0.07701001,  0.53518784,  0.47400331,  0.00103833, -0.21523826,\n",
      "        0.5090881 , -0.66132861, -0.54403561,  0.44076878,  0.00470332,\n",
      "       -0.60674977,  0.25171441,  0.01955804, -0.42058256,  0.12502177,\n",
      "       -0.16908602, -0.77621526,  0.66039973,  0.22638585, -0.14937432,\n",
      "        0.18073724, -0.22520301, -0.01612019, -0.94866085, -0.56705993,\n",
      "       -0.31372947, -0.61444628,  0.36096638,  0.05321291,  0.31520829,\n",
      "       -0.78794104, -0.02634728,  0.27075273, -0.69757801, -0.11887208,\n",
      "        0.24548931, -0.37358913,  0.30241317, -0.02301121, -0.16444607,\n",
      "        0.32210201, -0.49894542,  0.47786587, -0.7696104 ,  0.57316011,\n",
      "        0.75851572, -0.29875955, -0.39299953,  0.29592195,  0.01002928,\n",
      "       -0.00714504, -0.45345017, -0.45329556, -0.15423954,  0.0956117 ,\n",
      "       -0.17815629,  0.00485223, -0.47434196,  0.8352198 ,  0.29984775,\n",
      "       -0.75325739, -0.2932708 ,  0.22751437, -0.72489858, -0.23059492,\n",
      "       -0.62555069,  1.02729392, -0.00715734, -0.35845065, -0.04130894,\n",
      "       -0.63375956,  0.13670547, -0.35168752, -0.120276  ,  0.06363766,\n",
      "       -0.14529508, -0.73692763, -0.10244129,  0.24102579, -0.39304346,\n",
      "       -0.44905126, -0.02963378,  0.40327483,  0.09173202, -0.20075732,\n",
      "        0.25192481, -0.40484259,  0.03583284,  0.08575827, -0.71413624,\n",
      "       -0.12856877,  0.00697137,  0.17350946, -0.09800411, -0.2387124 ], dtype=float32), u'08825480': array([ 0.43869719,  0.69493228, -0.15423374,  0.18415831, -0.27953076,\n",
      "        0.32741979,  0.25916466, -0.2263912 , -0.30463687, -0.68594444,\n",
      "        0.23562942, -0.26695064, -0.03071095, -0.19515269,  0.16481824,\n",
      "       -0.26835197, -0.1237495 , -0.21595523, -0.31863457,  0.67200935,\n",
      "        0.54566181, -0.3022787 ,  0.21178976,  0.16891097,  0.25907236,\n",
      "       -0.13429914, -0.29047617, -0.19215892, -0.03019565,  0.23971696,\n",
      "        0.4794547 , -0.0125326 ,  0.27816984,  0.5431518 , -0.08415657,\n",
      "       -0.06213364, -0.31795123, -0.95289969, -0.25565225, -0.03096373,\n",
      "       -0.0847759 , -0.239768  ,  0.34742916, -0.92078727,  0.13093236,\n",
      "       -0.80080444,  0.06648453, -0.03016538,  0.06161455,  1.04044044,\n",
      "       -0.43327764,  0.07086919,  0.35355189,  0.01039008,  0.4170292 ,\n",
      "        0.08228578, -0.45204273, -0.00495607, -0.65024465,  0.18624543,\n",
      "        0.29581559, -0.26705703, -0.08137546, -0.06691577,  0.14972705,\n",
      "        0.151612  , -0.31241465,  0.24215488,  0.00248444,  0.1801302 ,\n",
      "       -0.09848733,  0.43015948,  0.1988074 ,  0.64442545, -0.18052702,\n",
      "       -0.18566328, -0.22178149, -0.0649749 , -0.09142254, -0.46278423,\n",
      "        0.15451705,  0.1908915 , -0.52935004, -0.82046568, -0.49538887,\n",
      "       -0.10716466, -0.36556813,  0.5163148 ,  0.19676271, -0.84946609,\n",
      "       -0.29985458, -0.52276957,  0.03275018,  0.06643863, -0.43565878,\n",
      "       -0.76278096, -0.28564611, -0.09855174, -0.72650057, -0.71671903], dtype=float32), u'08791071': array([-0.23259643,  0.41450036,  0.51434827,  0.00787312, -0.2284483 ,\n",
      "       -0.52937728, -0.19830056,  0.03082488,  1.05058038,  0.17992359,\n",
      "        0.31625026, -0.21843682, -0.37463692, -0.30913776,  0.3170667 ,\n",
      "       -0.36334237, -0.70675725,  0.52395636, -0.26112491,  1.05543351,\n",
      "       -1.10443592, -0.21194471, -0.54147512,  0.09155747, -0.32934853,\n",
      "        0.01652185,  0.04093302,  0.08362015,  0.54133213,  0.03441263,\n",
      "       -0.88398618, -0.10849927,  0.56919503, -0.60503298,  0.12571461,\n",
      "        0.18873298,  0.17914939,  0.04950287, -0.28671712, -0.10798603,\n",
      "       -0.744412  ,  0.31562504, -0.27431366,  0.28065825,  0.23825864,\n",
      "       -0.1323806 ,  0.06025767, -0.22927827, -0.44928807,  0.21095365,\n",
      "        0.57495964, -0.1029187 , -0.00365091,  0.61913794, -0.88101172,\n",
      "        0.60874623, -0.38232478,  0.47158134, -0.05255252,  0.4324486 ,\n",
      "        0.3947401 ,  1.06982732,  0.19763152, -0.52621794,  0.30451465,\n",
      "       -0.41999158, -0.23451024,  0.31681204,  0.28471184, -0.22745852,\n",
      "       -0.60245752, -0.37300718, -0.06770302,  0.0346529 ,  0.36362028,\n",
      "       -0.08779243, -0.16030943, -0.11415948, -0.3266314 ,  0.30446157,\n",
      "        0.11385298, -0.21830294,  0.14570464, -0.71273166, -0.22124635,\n",
      "        0.22901915, -0.69352126, -0.81168574,  0.120683  ,  0.68962598,\n",
      "        0.1142956 ,  0.08250535, -0.01027837,  0.10909576,  0.22610265,\n",
      "        0.06197856, -0.4596194 ,  0.27084136,  0.23881529,  0.26482731], dtype=float32)}\n"
     ]
    }
   ],
   "source": [
    "validation_docs_iterator = DocumentBatchGenerator(validation_preprocessed_files_prefix, \n",
    "                                                  validation_preprocessed_docids_files_prefix, batch_size=None)\n",
    "doc2vec_model.random = np.random.RandomState(DOC2VEC_SEED)\n",
    "i = 0\n",
    "val_docs_reps = {}\n",
    "for (doc_id, doc_contents_array) in validation_docs_iterator:\n",
    "    i += 1\n",
    "    %time val_docs_reps[doc_id] = doc2vec_model.infer_vector(doc_contents_array, steps=15)\n",
    "    if i > 2:\n",
    "        break\n",
    "    \n",
    "print val_docs_reps"
   ]
  },
  {
   "cell_type": "code",
   "execution_count": 196,
   "metadata": {
    "collapsed": true
   },
   "outputs": [],
   "source": [
    "X, y = get_training_data(doc2vec_model, classifications)"
   ]
  },
  {
   "cell_type": "code",
   "execution_count": 202,
   "metadata": {
    "collapsed": true
   },
   "outputs": [],
   "source": [
    "yc = np.array(y)"
   ]
  },
  {
   "cell_type": "code",
   "execution_count": 203,
   "metadata": {
    "collapsed": false
   },
   "outputs": [
    {
     "data": {
      "text/plain": [
       "(49789, 8)"
      ]
     },
     "execution_count": 203,
     "metadata": {},
     "output_type": "execute_result"
    }
   ],
   "source": [
    "yc.shape"
   ]
  },
  {
   "cell_type": "code",
   "execution_count": null,
   "metadata": {
    "collapsed": true
   },
   "outputs": [],
   "source": [
    "from sklearn.svm import SVC"
   ]
  },
  {
   "cell_type": "code",
   "execution_count": 219,
   "metadata": {
    "collapsed": false
   },
   "outputs": [],
   "source": [
    "clf = OneVsRestClassifier(estimator=linear_model.SGDClassifier(loss='hinge', penalty='l2', \n",
    "                                                         #alpha is the 1/C parameter\n",
    "                                                         alpha=0.001, fit_intercept=True, n_iter=10,\n",
    "                                                         #n_jobs=-1 means use all cpus\n",
    "                                                         shuffle=True, verbose=1, epsilon=0.1, n_jobs=-1,\n",
    "                                                         #eta0 is the learning rate when we use constant configuration\n",
    "                                                         random_state=SVM_SEED, learning_rate='optimal', eta0=0.0, \n",
    "                                                         class_weight=None, warm_start=False), n_jobs=1)\n",
    "\n",
    "# clf = OneVsRestClassifier(estimator=SVC(kernel='linear'), n_jobs=-1)"
   ]
  },
  {
   "cell_type": "code",
   "execution_count": 222,
   "metadata": {
    "collapsed": false
   },
   "outputs": [
    {
     "name": "stdout",
     "output_type": "stream",
     "text": [
      "[[0 0 0 ..., 0 1 0]\n",
      " [0 0 0 ..., 0 0 1]\n",
      " [0 0 0 ..., 0 0 1]\n",
      " ..., \n",
      " [0 0 0 ..., 0 0 0]\n",
      " [1 0 0 ..., 0 0 0]\n",
      " [0 0 0 ..., 0 0 1]]\n"
     ]
    },
    {
     "name": "stderr",
     "output_type": "stream",
     "text": [
      "/home/stud/shalaby/.virtualenv/thesis-env/local/lib/python2.7/site-packages/sklearn/metrics/classification.py:1113: UndefinedMetricWarning: Precision is ill-defined and being set to 0.0 in labels with no predicted samples.\n",
      "  'precision', 'predicted', average, warn_for)\n",
      "/home/stud/shalaby/.virtualenv/thesis-env/local/lib/python2.7/site-packages/sklearn/metrics/classification.py:1113: UndefinedMetricWarning: F-score is ill-defined and being set to 0.0 in labels with no predicted samples.\n",
      "  'precision', 'predicted', average, warn_for)\n",
      "/home/stud/shalaby/.virtualenv/thesis-env/local/lib/python2.7/site-packages/sklearn/metrics/classification.py:1113: UndefinedMetricWarning: Precision is ill-defined and being set to 0.0 due to no predicted samples.\n",
      "  'precision', 'predicted', average, warn_for)\n",
      "/home/stud/shalaby/.virtualenv/thesis-env/local/lib/python2.7/site-packages/sklearn/metrics/classification.py:1113: UndefinedMetricWarning: F-score is ill-defined and being set to 0.0 due to no predicted samples.\n",
      "  'precision', 'predicted', average, warn_for)\n"
     ]
    }
   ],
   "source": [
    "yp = clf.predict(X)\n",
    "\n",
    "print yp\n",
    "\n",
    "training_metrics = get_metrics(np.array(y), yp, yp)"
   ]
  },
  {
   "cell_type": "code",
   "execution_count": 173,
   "metadata": {
    "collapsed": false
   },
   "outputs": [
    {
     "data": {
      "text/plain": [
       "SGDClassifier(alpha=0.0001, average=False, class_weight=None, epsilon=0.1,\n",
       "       eta0=0.0, fit_intercept=True, l1_ratio=0.15,\n",
       "       learning_rate='optimal', loss='hinge', n_iter=5, n_jobs=1,\n",
       "       penalty='l2', power_t=0.5, random_state=None, shuffle=True,\n",
       "       verbose=0, warm_start=False)"
      ]
     },
     "execution_count": 173,
     "metadata": {},
     "output_type": "execute_result"
    }
   ],
   "source": [
    "import numpy as np\n",
    "from sklearn import linear_model\n",
    "X = np.array([[-1, -1], [-2, -1], [1, 1], [2, 1]])\n",
    "Y = np.array(['a', 'a', 'b', 'b'])\n",
    "clf = linear_model.SGDClassifier()\n",
    "clf.fit(X, Y)"
   ]
  },
  {
   "cell_type": "code",
   "execution_count": null,
   "metadata": {
    "collapsed": false
   },
   "outputs": [],
   "source": [
    "clf.predict([[-0.8, -1]])"
   ]
  },
  {
   "cell_type": "code",
   "execution_count": 26,
   "metadata": {
    "collapsed": true
   },
   "outputs": [],
   "source": [
    "best_svm_epoch = 13"
   ]
  },
  {
   "cell_type": "code",
   "execution_count": 29,
   "metadata": {
    "collapsed": false
   },
   "outputs": [
    {
     "name": "stderr",
     "output_type": "stream",
     "text": [
      "2016-11-26 18:25:14,192 : INFO : loading Doc2Vec object from /mnt/data2/shalaby/parameter_search_doc2vec_models/sample_0.0001/doc2vec_size_3000_w_8_type_dm_concat_1_mean_0_trainwords_0_hs_0_neg_10_vocabsize_None_curriter_13/model\n",
      "2016-11-26 18:25:14,584 : INFO : loading docvecs recursively from /mnt/data2/shalaby/parameter_search_doc2vec_models/sample_0.0001/doc2vec_size_3000_w_8_type_dm_concat_1_mean_0_trainwords_0_hs_0_neg_10_vocabsize_None_curriter_13/model.docvecs.* with mmap=None\n",
      "2016-11-26 18:25:14,585 : INFO : loading doctag_syn0 from /mnt/data2/shalaby/parameter_search_doc2vec_models/sample_0.0001/doc2vec_size_3000_w_8_type_dm_concat_1_mean_0_trainwords_0_hs_0_neg_10_vocabsize_None_curriter_13/model.docvecs.doctag_syn0.npy with mmap=None\n",
      "2016-11-26 18:25:14,814 : INFO : loading syn1neg from /mnt/data2/shalaby/parameter_search_doc2vec_models/sample_0.0001/doc2vec_size_3000_w_8_type_dm_concat_1_mean_0_trainwords_0_hs_0_neg_10_vocabsize_None_curriter_13/model.syn1neg.npy with mmap=None\n",
      "2016-11-26 18:26:37,586 : INFO : loading syn0 from /mnt/data2/shalaby/parameter_search_doc2vec_models/sample_0.0001/doc2vec_size_3000_w_8_type_dm_concat_1_mean_0_trainwords_0_hs_0_neg_10_vocabsize_None_curriter_13/model.syn0.npy with mmap=None\n",
      "2016-11-26 18:26:41,876 : INFO : setting ignored attribute syn0norm to None\n",
      "2016-11-26 18:26:41,877 : INFO : setting ignored attribute cum_table to None\n"
     ]
    }
   ],
   "source": [
    "GLOBAL_VARS.MODEL_NAME = placeholder_model_name.format(best_svm_epoch)\n",
    "doc2vec_model = Doc2Vec.load(os.path.join(doc2vec_model_save_location, GLOBAL_VARS.MODEL_NAME, MODEL_PREFIX))"
   ]
  },
  {
   "cell_type": "markdown",
   "metadata": {},
   "source": [
    "#### Prepare Training Data"
   ]
  },
  {
   "cell_type": "code",
   "execution_count": 31,
   "metadata": {
    "collapsed": false
   },
   "outputs": [
    {
     "name": "stdout",
     "output_type": "stream",
     "text": [
      "CPU times: user 1.61 s, sys: 520 ms, total: 2.13 s\n",
      "Wall time: 1.93 s\n"
     ]
    }
   ],
   "source": [
    "%%time\n",
    "classifications = sections\n",
    "\n",
    "NN_OUTPUT_NEURONS = len(classifications)\n",
    "one_hot_encoder = OneHotEncoder(classifications)\n",
    "training_data = []\n",
    "training_labels = []\n",
    "for doc_id in training_docs_list:\n",
    "    # converting from memmap to a normal array\n",
    "    normal_array = []\n",
    "    normal_array[:] = doc2vec_model.docvecs[doc_id][:]\n",
    "    training_data.append(normal_array)\n",
    "    eligible_classifications = [clssf for clssf in doc_classification_map[doc_id] if clssf in classifications]\n",
    "    training_labels.append(one_hot_encoder.get_label_vector(eligible_classifications))"
   ]
  },
  {
   "cell_type": "markdown",
   "metadata": {},
   "source": [
    "#### Prepare Validation Data"
   ]
  },
  {
   "cell_type": "code",
   "execution_count": 32,
   "metadata": {
    "collapsed": false
   },
   "outputs": [
    {
     "name": "stdout",
     "output_type": "stream",
     "text": [
      "(1969, 3000)\n",
      "CPU times: user 2.58 s, sys: 360 ms, total: 2.94 s\n",
      "Wall time: 2.93 s\n"
     ]
    }
   ],
   "source": [
    "%%time\n",
    "\n",
    "validation_labels = []\n",
    "validation_data = pickle.load(open(\n",
    "        os.path.join(doc2vec_model_save_location, GLOBAL_VARS.MODEL_NAME, VALIDATION_MATRIX)\n",
    "))\n",
    "print validation_data.shape\n",
    "\n",
    "for validation_doc_id in validation_docs_list:\n",
    "    eligible_classifications = [clssf for clssf in doc_classification_map[validation_doc_id] if clssf in classifications]\n",
    "    validation_labels.append(one_hot_encoder.get_label_vector(eligible_classifications))"
   ]
  },
  {
   "cell_type": "markdown",
   "metadata": {},
   "source": [
    "#### Create Keras NN"
   ]
  },
  {
   "cell_type": "code",
   "execution_count": 173,
   "metadata": {
    "collapsed": true
   },
   "outputs": [],
   "source": [
    "import itertools\n",
    "from keras.layers import Dropout"
   ]
  },
  {
   "cell_type": "code",
   "execution_count": 186,
   "metadata": {
    "collapsed": true
   },
   "outputs": [],
   "source": [
    "pickle.dump(history_list, open('/mnt/data2/shalaby/history_list_sample_0.0001.pickle','w'))"
   ]
  },
  {
   "cell_type": "code",
   "execution_count": 181,
   "metadata": {
    "collapsed": false
   },
   "outputs": [
    {
     "name": "stdout",
     "output_type": "stream",
     "text": [
      "100\n"
     ]
    }
   ],
   "source": [
    "print len(history_list)"
   ]
  },
  {
   "cell_type": "code",
   "execution_count": 147,
   "metadata": {
    "collapsed": false
   },
   "outputs": [],
   "source": [
    "doc_input = Input(shape=(DOC2VEC_SIZE,), name='doc_input')\n",
    "hidden = Dense(NN_HIDDEN_NEURONS, activation='relu', name='hidden_layer')(doc_input)\n",
    "softmax_output = Dense(NN_OUTPUT_NEURONS, activation='sigmoid', name='softmax_output')(hidden)\n",
    "model = Model(input=doc_input, output=softmax_output)\n",
    "model.compile(optimizer='rmsprop', loss='binary_crossentropy', metrics=['accuracy', 'fbeta_score', theano_coverage_error])"
   ]
  },
  {
   "cell_type": "code",
   "execution_count": 148,
   "metadata": {
    "collapsed": false
   },
   "outputs": [
    {
     "name": "stdout",
     "output_type": "stream",
     "text": [
      "____________________________________________________________________________________________________\n",
      "Layer (type)                     Output Shape          Param #     Connected to                     \n",
      "====================================================================================================\n",
      "doc_input (InputLayer)           (None, 3000)          0                                            \n",
      "____________________________________________________________________________________________________\n",
      "hidden_layer (Dense)             (None, 4500)          13504500    doc_input[0][0]                  \n",
      "____________________________________________________________________________________________________\n",
      "softmax_output (Dense)           (None, 8)             36008       hidden_layer[0][0]               \n",
      "====================================================================================================\n",
      "Total params: 13540508\n",
      "____________________________________________________________________________________________________\n"
     ]
    }
   ],
   "source": [
    "model.summary()"
   ]
  },
  {
   "cell_type": "code",
   "execution_count": 162,
   "metadata": {
    "collapsed": false
   },
   "outputs": [
    {
     "name": "stdout",
     "output_type": "stream",
     "text": [
      "Train on 8979 samples, validate on 1969 samples\n",
      "Epoch 1/1\n",
      "8979/8979 [==============================] - 4s - loss: 0.0427 - acc: 0.9835 - fbeta_score: 0.9504 - coverage error: 1.4936 - val_loss: 2.1309 - val_acc: 0.8531 - val_fbeta_score: 0.4738 - val_coverage error: 3.4474\n"
     ]
    }
   ],
   "source": [
    "model.fit(x=training_data, y=training_labels, \n",
    "          validation_data=(validation_data, validation_labels), \n",
    "          nb_epoch=1, verbose=1)"
   ]
  },
  {
   "cell_type": "code",
   "execution_count": 143,
   "metadata": {
    "collapsed": false
   },
   "outputs": [],
   "source": [
    "val_prediction = model.predict(validation_data)"
   ]
  },
  {
   "cell_type": "code",
   "execution_count": 144,
   "metadata": {
    "collapsed": false
   },
   "outputs": [
    {
     "data": {
      "text/plain": [
       "array([[  2.70263344e-01,   3.49998474e-02,   3.13610617e-05,\n",
       "          1.08150870e-03,   3.11665332e-07,   7.09001958e-01,\n",
       "          4.97711152e-02,   2.63609409e-01],\n",
       "       [  1.70166213e-02,   5.36046147e-01,   2.61311390e-04,\n",
       "          4.87348643e-06,   1.27638310e-01,   9.57404263e-03,\n",
       "          3.39831635e-02,   2.13784515e-03]], dtype=float32)"
      ]
     },
     "execution_count": 144,
     "metadata": {},
     "output_type": "execute_result"
    }
   ],
   "source": [
    "val_prediction[:2]"
   ]
  },
  {
   "cell_type": "code",
   "execution_count": 146,
   "metadata": {
    "collapsed": false
   },
   "outputs": [
    {
     "data": {
      "text/plain": [
       "[[0, 0, 0, 0, 0, 0, 1, 1], [0, 1, 0, 0, 0, 0, 0, 0]]"
      ]
     },
     "execution_count": 146,
     "metadata": {},
     "output_type": "execute_result"
    }
   ],
   "source": [
    "validation_labels[:2]"
   ]
  },
  {
   "cell_type": "code",
   "execution_count": 124,
   "metadata": {
    "collapsed": true
   },
   "outputs": [],
   "source": [
    "y_true = T.matrix('y_true')\n",
    "y_score = T.matrix('y_score')\n",
    "\n",
    "y_score_true = y_true * y_score # mark the scores of actually true labels\n",
    "zero_true_elem = T.eq(y_true, 0).nonzero()\n",
    "y_score_masked = T.set_subtensor(y_score_true[zero_true_elem], 100)\n",
    "#zero_elements = T.eq(true_scores,0)\n",
    "min_true_scores = T.min(y_score_masked, axis=1, keepdims=True) # we do keepdims in order to keep the broadcastable columns\n",
    "coverage_per_row = (y_score >= min_true_scores).sum(axis=1)\n",
    "coverage = T.mean(coverage_per_row)\n",
    "theano_coverage_err_func = function(inputs=[y_true, y_score], outputs=coverage)"
   ]
  },
  {
   "cell_type": "code",
   "execution_count": 109,
   "metadata": {
    "collapsed": true
   },
   "outputs": [],
   "source": [
    "uu = np.array([[1,0,1],[0,0,1]], dtype='float32')"
   ]
  },
  {
   "cell_type": "code",
   "execution_count": 118,
   "metadata": {
    "collapsed": false
   },
   "outputs": [],
   "source": [
    "yc = T.set_subtensor(y_true[T.eq(y_true,0).nonzero()], 100)"
   ]
  },
  {
   "cell_type": "code",
   "execution_count": 119,
   "metadata": {
    "collapsed": false
   },
   "outputs": [
    {
     "data": {
      "text/plain": [
       "array([[   1.,  100.,    1.],\n",
       "       [ 100.,  100.,    1.]], dtype=float32)"
      ]
     },
     "execution_count": 119,
     "metadata": {},
     "output_type": "execute_result"
    }
   ],
   "source": [
    "yc.eval({y_true: uu})"
   ]
  },
  {
   "cell_type": "code",
   "execution_count": null,
   "metadata": {
    "collapsed": true
   },
   "outputs": [],
   "source": [
    "T.set_subtensor(y_true[])"
   ]
  },
  {
   "cell_type": "code",
   "execution_count": 81,
   "metadata": {
    "collapsed": false
   },
   "outputs": [
    {
     "data": {
      "text/plain": [
       "[[0, 0, 0, 0, 0, 0, 1, 1]]"
      ]
     },
     "execution_count": 81,
     "metadata": {},
     "output_type": "execute_result"
    }
   ],
   "source": [
    "validation_labels[:1]"
   ]
  },
  {
   "cell_type": "code",
   "execution_count": 82,
   "metadata": {
    "collapsed": false
   },
   "outputs": [
    {
     "data": {
      "text/plain": [
       "array([[  8.08178342e-08,   1.02713175e-05,   4.41441728e-28,\n",
       "          1.19779872e-36,   0.00000000e+00,   1.00000000e+00,\n",
       "          2.75591228e-05,   2.31643662e-06]], dtype=float32)"
      ]
     },
     "execution_count": 82,
     "metadata": {},
     "output_type": "execute_result"
    }
   ],
   "source": [
    "val_prediction[:1]"
   ]
  },
  {
   "cell_type": "code",
   "execution_count": 136,
   "metadata": {
    "collapsed": false
   },
   "outputs": [
    {
     "name": "stdout",
     "output_type": "stream",
     "text": [
      "CPU times: user 8 ms, sys: 0 ns, total: 8 ms\n",
      "Wall time: 8.01 ms\n"
     ]
    },
    {
     "data": {
      "text/plain": [
       "array(2.5129507364144237)"
      ]
     },
     "execution_count": 136,
     "metadata": {},
     "output_type": "execute_result"
    }
   ],
   "source": [
    "%%time\n",
    "theano_coverage_err_func(validation_labels, val_prediction)"
   ]
  },
  {
   "cell_type": "code",
   "execution_count": 98,
   "metadata": {
    "collapsed": false
   },
   "outputs": [
    {
     "data": {
      "text/plain": [
       "array([[  8.08178342e-08,   1.02713175e-05,   4.41441728e-28,\n",
       "          1.19779872e-36,   0.00000000e+00,   1.00000000e+00,\n",
       "          1.00000028e+02,   1.00000002e+02]])"
      ]
     },
     "execution_count": 98,
     "metadata": {},
     "output_type": "execute_result"
    }
   ],
   "source": [
    "np.multiply(validation_labels[:1] , 100) + val_prediction[:1]"
   ]
  },
  {
   "cell_type": "code",
   "execution_count": 97,
   "metadata": {
    "collapsed": false
   },
   "outputs": [
    {
     "data": {
      "text/plain": [
       "100.00000231643662"
      ]
     },
     "execution_count": 97,
     "metadata": {},
     "output_type": "execute_result"
    }
   ],
   "source": [
    "val_prediction[0,7] + 100"
   ]
  },
  {
   "cell_type": "code",
   "execution_count": 101,
   "metadata": {
    "collapsed": false
   },
   "outputs": [
    {
     "data": {
      "text/plain": [
       "array([-99.99999768])"
      ]
     },
     "execution_count": 101,
     "metadata": {},
     "output_type": "execute_result"
    }
   ],
   "source": [
    "(np.multiply(validation_labels[:1] , -100) + val_prediction[:1]).min(axis=1) "
   ]
  },
  {
   "cell_type": "code",
   "execution_count": 137,
   "metadata": {
    "collapsed": false
   },
   "outputs": [
    {
     "name": "stdout",
     "output_type": "stream",
     "text": [
      "CPU times: user 4 ms, sys: 0 ns, total: 4 ms\n",
      "Wall time: 5.51 ms\n"
     ]
    },
    {
     "data": {
      "text/plain": [
       "2.5129507364144237"
      ]
     },
     "execution_count": 137,
     "metadata": {},
     "output_type": "execute_result"
    }
   ],
   "source": [
    "%%time\n",
    "coverage_error(validation_labels, val_prediction)"
   ]
  },
  {
   "cell_type": "code",
   "execution_count": 47,
   "metadata": {
    "collapsed": false
   },
   "outputs": [
    {
     "data": {
      "text/plain": [
       "array([[  1.43536258e-08,   2.79983366e-03,   1.15342544e-08,\n",
       "          7.79373941e-17,   5.66347130e-03,   9.99988794e-01,\n",
       "          6.53333089e-04,   5.85054120e-20],\n",
       "       [  2.85919495e-02,   4.81873751e-02,   1.16070651e-05,\n",
       "          2.11304723e-04,   9.95886266e-01,   7.23218254e-05,\n",
       "          2.44005350e-03,   9.50191250e-08],\n",
       "       [  1.57324195e-01,   4.55876261e-01,   1.18607618e-01,\n",
       "          1.59025192e-02,   5.29134236e-02,   3.10803294e-01,\n",
       "          7.60788023e-02,   4.09732945e-02],\n",
       "       [  8.80629957e-01,   8.06344330e-01,   8.66507888e-01,\n",
       "          8.60296586e-06,   8.48201476e-03,   3.66728357e-03,\n",
       "          4.01142472e-03,   6.63176891e-09],\n",
       "       [  3.67009136e-07,   2.43742179e-04,   4.91571154e-05,\n",
       "          3.91778943e-16,   2.10585220e-08,   9.19317733e-03,\n",
       "          2.35959844e-04,   9.99994278e-01]], dtype=float32)"
      ]
     },
     "execution_count": 47,
     "metadata": {},
     "output_type": "execute_result"
    }
   ],
   "source": [
    "model.predict(training_data[:5])"
   ]
  },
  {
   "cell_type": "code",
   "execution_count": 69,
   "metadata": {
    "collapsed": false
   },
   "outputs": [
    {
     "data": {
      "text/plain": [
       "[[0, 0, 0, 0, 0, 1, 0, 0],\n",
       " [0, 0, 0, 0, 1, 0, 0, 0],\n",
       " [0, 0, 1, 0, 0, 0, 0, 0],\n",
       " [1, 0, 1, 0, 0, 0, 0, 0],\n",
       " [0, 0, 0, 0, 0, 0, 0, 1]]"
      ]
     },
     "execution_count": 69,
     "metadata": {},
     "output_type": "execute_result"
    }
   ],
   "source": [
    "training_labels[:5]"
   ]
  },
  {
   "cell_type": "code",
   "execution_count": 60,
   "metadata": {
    "collapsed": false
   },
   "outputs": [
    {
     "data": {
      "text/plain": [
       "array([[  1.07762730e-06,   4.37068702e-05,   8.50037267e-16,\n",
       "          3.26617112e-20,   5.99386426e-25,   9.99954700e-01,\n",
       "          4.03022398e-08,   5.06598099e-07],\n",
       "       [  7.84522370e-02,   7.51568982e-03,   3.02292941e-10,\n",
       "          1.27776785e-27,   8.58146071e-01,   5.19246235e-02,\n",
       "          3.96136660e-03,   9.01197339e-09],\n",
       "       [  8.13455582e-01,   3.37661535e-04,   1.86206713e-01,\n",
       "          2.93652289e-25,   1.42611062e-11,   8.11548398e-11,\n",
       "          1.56509191e-13,   3.87454735e-10],\n",
       "       [  9.48790824e-10,   4.76847440e-02,   2.83465356e-01,\n",
       "          2.84471139e-27,   8.79647612e-15,   5.65862817e-15,\n",
       "          4.19551939e-01,   2.49298021e-01],\n",
       "       [  1.14569569e-10,   1.01953819e-12,   1.14190914e-01,\n",
       "          4.46660243e-30,   3.54068044e-18,   8.85809124e-01,\n",
       "          1.19672533e-14,   2.22166152e-09]], dtype=float32)"
      ]
     },
     "execution_count": 60,
     "metadata": {},
     "output_type": "execute_result"
    }
   ],
   "source": [
    "model.predict(validation_data[:5])"
   ]
  },
  {
   "cell_type": "code",
   "execution_count": 61,
   "metadata": {
    "collapsed": false
   },
   "outputs": [
    {
     "data": {
      "text/plain": [
       "[[0, 0, 0, 0, 0, 0, 1, 1],\n",
       " [0, 1, 0, 0, 0, 0, 0, 0],\n",
       " [1, 1, 0, 0, 0, 0, 0, 0],\n",
       " [0, 0, 1, 0, 0, 0, 0, 0],\n",
       " [0, 0, 0, 0, 0, 1, 0, 0]]"
      ]
     },
     "execution_count": 61,
     "metadata": {},
     "output_type": "execute_result"
    }
   ],
   "source": [
    "validation_labels[:5]"
   ]
  },
  {
   "cell_type": "markdown",
   "metadata": {},
   "source": [
    "## Plot loaded metrics"
   ]
  },
  {
   "cell_type": "code",
   "execution_count": 48,
   "metadata": {
    "collapsed": false
   },
   "outputs": [
    {
     "data": {
      "text/plain": [
       "'/home/local/shalaby/parameter_search_doc2vec_models/sample_0.0001'"
      ]
     },
     "execution_count": 48,
     "metadata": {},
     "output_type": "execute_result"
    }
   ],
   "source": [
    "doc2vec_model_save_location"
   ]
  },
  {
   "cell_type": "code",
   "execution_count": 32,
   "metadata": {
    "collapsed": false
   },
   "outputs": [
    {
     "data": {
      "application/javascript": [
       "/* Put everything inside the global mpl namespace */\n",
       "window.mpl = {};\n",
       "\n",
       "mpl.get_websocket_type = function() {\n",
       "    if (typeof(WebSocket) !== 'undefined') {\n",
       "        return WebSocket;\n",
       "    } else if (typeof(MozWebSocket) !== 'undefined') {\n",
       "        return MozWebSocket;\n",
       "    } else {\n",
       "        alert('Your browser does not have WebSocket support.' +\n",
       "              'Please try Chrome, Safari or Firefox ≥ 6. ' +\n",
       "              'Firefox 4 and 5 are also supported but you ' +\n",
       "              'have to enable WebSockets in about:config.');\n",
       "    };\n",
       "}\n",
       "\n",
       "mpl.figure = function(figure_id, websocket, ondownload, parent_element) {\n",
       "    this.id = figure_id;\n",
       "\n",
       "    this.ws = websocket;\n",
       "\n",
       "    this.supports_binary = (this.ws.binaryType != undefined);\n",
       "\n",
       "    if (!this.supports_binary) {\n",
       "        var warnings = document.getElementById(\"mpl-warnings\");\n",
       "        if (warnings) {\n",
       "            warnings.style.display = 'block';\n",
       "            warnings.textContent = (\n",
       "                \"This browser does not support binary websocket messages. \" +\n",
       "                    \"Performance may be slow.\");\n",
       "        }\n",
       "    }\n",
       "\n",
       "    this.imageObj = new Image();\n",
       "\n",
       "    this.context = undefined;\n",
       "    this.message = undefined;\n",
       "    this.canvas = undefined;\n",
       "    this.rubberband_canvas = undefined;\n",
       "    this.rubberband_context = undefined;\n",
       "    this.format_dropdown = undefined;\n",
       "\n",
       "    this.image_mode = 'full';\n",
       "\n",
       "    this.root = $('<div/>');\n",
       "    this._root_extra_style(this.root)\n",
       "    this.root.attr('style', 'display: inline-block');\n",
       "\n",
       "    $(parent_element).append(this.root);\n",
       "\n",
       "    this._init_header(this);\n",
       "    this._init_canvas(this);\n",
       "    this._init_toolbar(this);\n",
       "\n",
       "    var fig = this;\n",
       "\n",
       "    this.waiting = false;\n",
       "\n",
       "    this.ws.onopen =  function () {\n",
       "            fig.send_message(\"supports_binary\", {value: fig.supports_binary});\n",
       "            fig.send_message(\"send_image_mode\", {});\n",
       "            fig.send_message(\"refresh\", {});\n",
       "        }\n",
       "\n",
       "    this.imageObj.onload = function() {\n",
       "            if (fig.image_mode == 'full') {\n",
       "                // Full images could contain transparency (where diff images\n",
       "                // almost always do), so we need to clear the canvas so that\n",
       "                // there is no ghosting.\n",
       "                fig.context.clearRect(0, 0, fig.canvas.width, fig.canvas.height);\n",
       "            }\n",
       "            fig.context.drawImage(fig.imageObj, 0, 0);\n",
       "        };\n",
       "\n",
       "    this.imageObj.onunload = function() {\n",
       "        this.ws.close();\n",
       "    }\n",
       "\n",
       "    this.ws.onmessage = this._make_on_message_function(this);\n",
       "\n",
       "    this.ondownload = ondownload;\n",
       "}\n",
       "\n",
       "mpl.figure.prototype._init_header = function() {\n",
       "    var titlebar = $(\n",
       "        '<div class=\"ui-dialog-titlebar ui-widget-header ui-corner-all ' +\n",
       "        'ui-helper-clearfix\"/>');\n",
       "    var titletext = $(\n",
       "        '<div class=\"ui-dialog-title\" style=\"width: 100%; ' +\n",
       "        'text-align: center; padding: 3px;\"/>');\n",
       "    titlebar.append(titletext)\n",
       "    this.root.append(titlebar);\n",
       "    this.header = titletext[0];\n",
       "}\n",
       "\n",
       "\n",
       "\n",
       "mpl.figure.prototype._canvas_extra_style = function(canvas_div) {\n",
       "\n",
       "}\n",
       "\n",
       "\n",
       "mpl.figure.prototype._root_extra_style = function(canvas_div) {\n",
       "\n",
       "}\n",
       "\n",
       "mpl.figure.prototype._init_canvas = function() {\n",
       "    var fig = this;\n",
       "\n",
       "    var canvas_div = $('<div/>');\n",
       "\n",
       "    canvas_div.attr('style', 'position: relative; clear: both; outline: 0');\n",
       "\n",
       "    function canvas_keyboard_event(event) {\n",
       "        return fig.key_event(event, event['data']);\n",
       "    }\n",
       "\n",
       "    canvas_div.keydown('key_press', canvas_keyboard_event);\n",
       "    canvas_div.keyup('key_release', canvas_keyboard_event);\n",
       "    this.canvas_div = canvas_div\n",
       "    this._canvas_extra_style(canvas_div)\n",
       "    this.root.append(canvas_div);\n",
       "\n",
       "    var canvas = $('<canvas/>');\n",
       "    canvas.addClass('mpl-canvas');\n",
       "    canvas.attr('style', \"left: 0; top: 0; z-index: 0; outline: 0\")\n",
       "\n",
       "    this.canvas = canvas[0];\n",
       "    this.context = canvas[0].getContext(\"2d\");\n",
       "\n",
       "    var rubberband = $('<canvas/>');\n",
       "    rubberband.attr('style', \"position: absolute; left: 0; top: 0; z-index: 1;\")\n",
       "\n",
       "    var pass_mouse_events = true;\n",
       "\n",
       "    canvas_div.resizable({\n",
       "        start: function(event, ui) {\n",
       "            pass_mouse_events = false;\n",
       "        },\n",
       "        resize: function(event, ui) {\n",
       "            fig.request_resize(ui.size.width, ui.size.height);\n",
       "        },\n",
       "        stop: function(event, ui) {\n",
       "            pass_mouse_events = true;\n",
       "            fig.request_resize(ui.size.width, ui.size.height);\n",
       "        },\n",
       "    });\n",
       "\n",
       "    function mouse_event_fn(event) {\n",
       "        if (pass_mouse_events)\n",
       "            return fig.mouse_event(event, event['data']);\n",
       "    }\n",
       "\n",
       "    rubberband.mousedown('button_press', mouse_event_fn);\n",
       "    rubberband.mouseup('button_release', mouse_event_fn);\n",
       "    // Throttle sequential mouse events to 1 every 20ms.\n",
       "    rubberband.mousemove('motion_notify', mouse_event_fn);\n",
       "\n",
       "    rubberband.mouseenter('figure_enter', mouse_event_fn);\n",
       "    rubberband.mouseleave('figure_leave', mouse_event_fn);\n",
       "\n",
       "    canvas_div.on(\"wheel\", function (event) {\n",
       "        event = event.originalEvent;\n",
       "        event['data'] = 'scroll'\n",
       "        if (event.deltaY < 0) {\n",
       "            event.step = 1;\n",
       "        } else {\n",
       "            event.step = -1;\n",
       "        }\n",
       "        mouse_event_fn(event);\n",
       "    });\n",
       "\n",
       "    canvas_div.append(canvas);\n",
       "    canvas_div.append(rubberband);\n",
       "\n",
       "    this.rubberband = rubberband;\n",
       "    this.rubberband_canvas = rubberband[0];\n",
       "    this.rubberband_context = rubberband[0].getContext(\"2d\");\n",
       "    this.rubberband_context.strokeStyle = \"#000000\";\n",
       "\n",
       "    this._resize_canvas = function(width, height) {\n",
       "        // Keep the size of the canvas, canvas container, and rubber band\n",
       "        // canvas in synch.\n",
       "        canvas_div.css('width', width)\n",
       "        canvas_div.css('height', height)\n",
       "\n",
       "        canvas.attr('width', width);\n",
       "        canvas.attr('height', height);\n",
       "\n",
       "        rubberband.attr('width', width);\n",
       "        rubberband.attr('height', height);\n",
       "    }\n",
       "\n",
       "    // Set the figure to an initial 600x600px, this will subsequently be updated\n",
       "    // upon first draw.\n",
       "    this._resize_canvas(600, 600);\n",
       "\n",
       "    // Disable right mouse context menu.\n",
       "    $(this.rubberband_canvas).bind(\"contextmenu\",function(e){\n",
       "        return false;\n",
       "    });\n",
       "\n",
       "    function set_focus () {\n",
       "        canvas.focus();\n",
       "        canvas_div.focus();\n",
       "    }\n",
       "\n",
       "    window.setTimeout(set_focus, 100);\n",
       "}\n",
       "\n",
       "mpl.figure.prototype._init_toolbar = function() {\n",
       "    var fig = this;\n",
       "\n",
       "    var nav_element = $('<div/>')\n",
       "    nav_element.attr('style', 'width: 100%');\n",
       "    this.root.append(nav_element);\n",
       "\n",
       "    // Define a callback function for later on.\n",
       "    function toolbar_event(event) {\n",
       "        return fig.toolbar_button_onclick(event['data']);\n",
       "    }\n",
       "    function toolbar_mouse_event(event) {\n",
       "        return fig.toolbar_button_onmouseover(event['data']);\n",
       "    }\n",
       "\n",
       "    for(var toolbar_ind in mpl.toolbar_items) {\n",
       "        var name = mpl.toolbar_items[toolbar_ind][0];\n",
       "        var tooltip = mpl.toolbar_items[toolbar_ind][1];\n",
       "        var image = mpl.toolbar_items[toolbar_ind][2];\n",
       "        var method_name = mpl.toolbar_items[toolbar_ind][3];\n",
       "\n",
       "        if (!name) {\n",
       "            // put a spacer in here.\n",
       "            continue;\n",
       "        }\n",
       "        var button = $('<button/>');\n",
       "        button.addClass('ui-button ui-widget ui-state-default ui-corner-all ' +\n",
       "                        'ui-button-icon-only');\n",
       "        button.attr('role', 'button');\n",
       "        button.attr('aria-disabled', 'false');\n",
       "        button.click(method_name, toolbar_event);\n",
       "        button.mouseover(tooltip, toolbar_mouse_event);\n",
       "\n",
       "        var icon_img = $('<span/>');\n",
       "        icon_img.addClass('ui-button-icon-primary ui-icon');\n",
       "        icon_img.addClass(image);\n",
       "        icon_img.addClass('ui-corner-all');\n",
       "\n",
       "        var tooltip_span = $('<span/>');\n",
       "        tooltip_span.addClass('ui-button-text');\n",
       "        tooltip_span.html(tooltip);\n",
       "\n",
       "        button.append(icon_img);\n",
       "        button.append(tooltip_span);\n",
       "\n",
       "        nav_element.append(button);\n",
       "    }\n",
       "\n",
       "    var fmt_picker_span = $('<span/>');\n",
       "\n",
       "    var fmt_picker = $('<select/>');\n",
       "    fmt_picker.addClass('mpl-toolbar-option ui-widget ui-widget-content');\n",
       "    fmt_picker_span.append(fmt_picker);\n",
       "    nav_element.append(fmt_picker_span);\n",
       "    this.format_dropdown = fmt_picker[0];\n",
       "\n",
       "    for (var ind in mpl.extensions) {\n",
       "        var fmt = mpl.extensions[ind];\n",
       "        var option = $(\n",
       "            '<option/>', {selected: fmt === mpl.default_extension}).html(fmt);\n",
       "        fmt_picker.append(option)\n",
       "    }\n",
       "\n",
       "    // Add hover states to the ui-buttons\n",
       "    $( \".ui-button\" ).hover(\n",
       "        function() { $(this).addClass(\"ui-state-hover\");},\n",
       "        function() { $(this).removeClass(\"ui-state-hover\");}\n",
       "    );\n",
       "\n",
       "    var status_bar = $('<span class=\"mpl-message\"/>');\n",
       "    nav_element.append(status_bar);\n",
       "    this.message = status_bar[0];\n",
       "}\n",
       "\n",
       "mpl.figure.prototype.request_resize = function(x_pixels, y_pixels) {\n",
       "    // Request matplotlib to resize the figure. Matplotlib will then trigger a resize in the client,\n",
       "    // which will in turn request a refresh of the image.\n",
       "    this.send_message('resize', {'width': x_pixels, 'height': y_pixels});\n",
       "}\n",
       "\n",
       "mpl.figure.prototype.send_message = function(type, properties) {\n",
       "    properties['type'] = type;\n",
       "    properties['figure_id'] = this.id;\n",
       "    this.ws.send(JSON.stringify(properties));\n",
       "}\n",
       "\n",
       "mpl.figure.prototype.send_draw_message = function() {\n",
       "    if (!this.waiting) {\n",
       "        this.waiting = true;\n",
       "        this.ws.send(JSON.stringify({type: \"draw\", figure_id: this.id}));\n",
       "    }\n",
       "}\n",
       "\n",
       "\n",
       "mpl.figure.prototype.handle_save = function(fig, msg) {\n",
       "    var format_dropdown = fig.format_dropdown;\n",
       "    var format = format_dropdown.options[format_dropdown.selectedIndex].value;\n",
       "    fig.ondownload(fig, format);\n",
       "}\n",
       "\n",
       "\n",
       "mpl.figure.prototype.handle_resize = function(fig, msg) {\n",
       "    var size = msg['size'];\n",
       "    if (size[0] != fig.canvas.width || size[1] != fig.canvas.height) {\n",
       "        fig._resize_canvas(size[0], size[1]);\n",
       "        fig.send_message(\"refresh\", {});\n",
       "    };\n",
       "}\n",
       "\n",
       "mpl.figure.prototype.handle_rubberband = function(fig, msg) {\n",
       "    var x0 = msg['x0'];\n",
       "    var y0 = fig.canvas.height - msg['y0'];\n",
       "    var x1 = msg['x1'];\n",
       "    var y1 = fig.canvas.height - msg['y1'];\n",
       "    x0 = Math.floor(x0) + 0.5;\n",
       "    y0 = Math.floor(y0) + 0.5;\n",
       "    x1 = Math.floor(x1) + 0.5;\n",
       "    y1 = Math.floor(y1) + 0.5;\n",
       "    var min_x = Math.min(x0, x1);\n",
       "    var min_y = Math.min(y0, y1);\n",
       "    var width = Math.abs(x1 - x0);\n",
       "    var height = Math.abs(y1 - y0);\n",
       "\n",
       "    fig.rubberband_context.clearRect(\n",
       "        0, 0, fig.canvas.width, fig.canvas.height);\n",
       "\n",
       "    fig.rubberband_context.strokeRect(min_x, min_y, width, height);\n",
       "}\n",
       "\n",
       "mpl.figure.prototype.handle_figure_label = function(fig, msg) {\n",
       "    // Updates the figure title.\n",
       "    fig.header.textContent = msg['label'];\n",
       "}\n",
       "\n",
       "mpl.figure.prototype.handle_cursor = function(fig, msg) {\n",
       "    var cursor = msg['cursor'];\n",
       "    switch(cursor)\n",
       "    {\n",
       "    case 0:\n",
       "        cursor = 'pointer';\n",
       "        break;\n",
       "    case 1:\n",
       "        cursor = 'default';\n",
       "        break;\n",
       "    case 2:\n",
       "        cursor = 'crosshair';\n",
       "        break;\n",
       "    case 3:\n",
       "        cursor = 'move';\n",
       "        break;\n",
       "    }\n",
       "    fig.rubberband_canvas.style.cursor = cursor;\n",
       "}\n",
       "\n",
       "mpl.figure.prototype.handle_message = function(fig, msg) {\n",
       "    fig.message.textContent = msg['message'];\n",
       "}\n",
       "\n",
       "mpl.figure.prototype.handle_draw = function(fig, msg) {\n",
       "    // Request the server to send over a new figure.\n",
       "    fig.send_draw_message();\n",
       "}\n",
       "\n",
       "mpl.figure.prototype.handle_image_mode = function(fig, msg) {\n",
       "    fig.image_mode = msg['mode'];\n",
       "}\n",
       "\n",
       "mpl.figure.prototype.updated_canvas_event = function() {\n",
       "    // Called whenever the canvas gets updated.\n",
       "    this.send_message(\"ack\", {});\n",
       "}\n",
       "\n",
       "// A function to construct a web socket function for onmessage handling.\n",
       "// Called in the figure constructor.\n",
       "mpl.figure.prototype._make_on_message_function = function(fig) {\n",
       "    return function socket_on_message(evt) {\n",
       "        if (evt.data instanceof Blob) {\n",
       "            /* FIXME: We get \"Resource interpreted as Image but\n",
       "             * transferred with MIME type text/plain:\" errors on\n",
       "             * Chrome.  But how to set the MIME type?  It doesn't seem\n",
       "             * to be part of the websocket stream */\n",
       "            evt.data.type = \"image/png\";\n",
       "\n",
       "            /* Free the memory for the previous frames */\n",
       "            if (fig.imageObj.src) {\n",
       "                (window.URL || window.webkitURL).revokeObjectURL(\n",
       "                    fig.imageObj.src);\n",
       "            }\n",
       "\n",
       "            fig.imageObj.src = (window.URL || window.webkitURL).createObjectURL(\n",
       "                evt.data);\n",
       "            fig.updated_canvas_event();\n",
       "            fig.waiting = false;\n",
       "            return;\n",
       "        }\n",
       "        else if (typeof evt.data === 'string' && evt.data.slice(0, 21) == \"data:image/png;base64\") {\n",
       "            fig.imageObj.src = evt.data;\n",
       "            fig.updated_canvas_event();\n",
       "            fig.waiting = false;\n",
       "            return;\n",
       "        }\n",
       "\n",
       "        var msg = JSON.parse(evt.data);\n",
       "        var msg_type = msg['type'];\n",
       "\n",
       "        // Call the  \"handle_{type}\" callback, which takes\n",
       "        // the figure and JSON message as its only arguments.\n",
       "        try {\n",
       "            var callback = fig[\"handle_\" + msg_type];\n",
       "        } catch (e) {\n",
       "            console.log(\"No handler for the '\" + msg_type + \"' message type: \", msg);\n",
       "            return;\n",
       "        }\n",
       "\n",
       "        if (callback) {\n",
       "            try {\n",
       "                // console.log(\"Handling '\" + msg_type + \"' message: \", msg);\n",
       "                callback(fig, msg);\n",
       "            } catch (e) {\n",
       "                console.log(\"Exception inside the 'handler_\" + msg_type + \"' callback:\", e, e.stack, msg);\n",
       "            }\n",
       "        }\n",
       "    };\n",
       "}\n",
       "\n",
       "// from http://stackoverflow.com/questions/1114465/getting-mouse-location-in-canvas\n",
       "mpl.findpos = function(e) {\n",
       "    //this section is from http://www.quirksmode.org/js/events_properties.html\n",
       "    var targ;\n",
       "    if (!e)\n",
       "        e = window.event;\n",
       "    if (e.target)\n",
       "        targ = e.target;\n",
       "    else if (e.srcElement)\n",
       "        targ = e.srcElement;\n",
       "    if (targ.nodeType == 3) // defeat Safari bug\n",
       "        targ = targ.parentNode;\n",
       "\n",
       "    // jQuery normalizes the pageX and pageY\n",
       "    // pageX,Y are the mouse positions relative to the document\n",
       "    // offset() returns the position of the element relative to the document\n",
       "    var x = e.pageX - $(targ).offset().left;\n",
       "    var y = e.pageY - $(targ).offset().top;\n",
       "\n",
       "    return {\"x\": x, \"y\": y};\n",
       "};\n",
       "\n",
       "/*\n",
       " * return a copy of an object with only non-object keys\n",
       " * we need this to avoid circular references\n",
       " * http://stackoverflow.com/a/24161582/3208463\n",
       " */\n",
       "function simpleKeys (original) {\n",
       "  return Object.keys(original).reduce(function (obj, key) {\n",
       "    if (typeof original[key] !== 'object')\n",
       "        obj[key] = original[key]\n",
       "    return obj;\n",
       "  }, {});\n",
       "}\n",
       "\n",
       "mpl.figure.prototype.mouse_event = function(event, name) {\n",
       "    var canvas_pos = mpl.findpos(event)\n",
       "\n",
       "    if (name === 'button_press')\n",
       "    {\n",
       "        this.canvas.focus();\n",
       "        this.canvas_div.focus();\n",
       "    }\n",
       "\n",
       "    var x = canvas_pos.x;\n",
       "    var y = canvas_pos.y;\n",
       "\n",
       "    this.send_message(name, {x: x, y: y, button: event.button,\n",
       "                             step: event.step,\n",
       "                             guiEvent: simpleKeys(event)});\n",
       "\n",
       "    /* This prevents the web browser from automatically changing to\n",
       "     * the text insertion cursor when the button is pressed.  We want\n",
       "     * to control all of the cursor setting manually through the\n",
       "     * 'cursor' event from matplotlib */\n",
       "    event.preventDefault();\n",
       "    return false;\n",
       "}\n",
       "\n",
       "mpl.figure.prototype._key_event_extra = function(event, name) {\n",
       "    // Handle any extra behaviour associated with a key event\n",
       "}\n",
       "\n",
       "mpl.figure.prototype.key_event = function(event, name) {\n",
       "\n",
       "    // Prevent repeat events\n",
       "    if (name == 'key_press')\n",
       "    {\n",
       "        if (event.which === this._key)\n",
       "            return;\n",
       "        else\n",
       "            this._key = event.which;\n",
       "    }\n",
       "    if (name == 'key_release')\n",
       "        this._key = null;\n",
       "\n",
       "    var value = '';\n",
       "    if (event.ctrlKey && event.which != 17)\n",
       "        value += \"ctrl+\";\n",
       "    if (event.altKey && event.which != 18)\n",
       "        value += \"alt+\";\n",
       "    if (event.shiftKey && event.which != 16)\n",
       "        value += \"shift+\";\n",
       "\n",
       "    value += 'k';\n",
       "    value += event.which.toString();\n",
       "\n",
       "    this._key_event_extra(event, name);\n",
       "\n",
       "    this.send_message(name, {key: value,\n",
       "                             guiEvent: simpleKeys(event)});\n",
       "    return false;\n",
       "}\n",
       "\n",
       "mpl.figure.prototype.toolbar_button_onclick = function(name) {\n",
       "    if (name == 'download') {\n",
       "        this.handle_save(this, null);\n",
       "    } else {\n",
       "        this.send_message(\"toolbar_button\", {name: name});\n",
       "    }\n",
       "};\n",
       "\n",
       "mpl.figure.prototype.toolbar_button_onmouseover = function(tooltip) {\n",
       "    this.message.textContent = tooltip;\n",
       "};\n",
       "mpl.toolbar_items = [[\"Home\", \"Reset original view\", \"fa fa-home icon-home\", \"home\"], [\"Back\", \"Back to  previous view\", \"fa fa-arrow-left icon-arrow-left\", \"back\"], [\"Forward\", \"Forward to next view\", \"fa fa-arrow-right icon-arrow-right\", \"forward\"], [\"\", \"\", \"\", \"\"], [\"Pan\", \"Pan axes with left mouse, zoom with right\", \"fa fa-arrows icon-move\", \"pan\"], [\"Zoom\", \"Zoom to rectangle\", \"fa fa-square-o icon-check-empty\", \"zoom\"], [\"\", \"\", \"\", \"\"], [\"Download\", \"Download plot\", \"fa fa-floppy-o icon-save\", \"download\"]];\n",
       "\n",
       "mpl.extensions = [\"eps\", \"pdf\", \"png\", \"ps\", \"raw\", \"svg\"];\n",
       "\n",
       "mpl.default_extension = \"png\";var comm_websocket_adapter = function(comm) {\n",
       "    // Create a \"websocket\"-like object which calls the given IPython comm\n",
       "    // object with the appropriate methods. Currently this is a non binary\n",
       "    // socket, so there is still some room for performance tuning.\n",
       "    var ws = {};\n",
       "\n",
       "    ws.close = function() {\n",
       "        comm.close()\n",
       "    };\n",
       "    ws.send = function(m) {\n",
       "        //console.log('sending', m);\n",
       "        comm.send(m);\n",
       "    };\n",
       "    // Register the callback with on_msg.\n",
       "    comm.on_msg(function(msg) {\n",
       "        //console.log('receiving', msg['content']['data'], msg);\n",
       "        // Pass the mpl event to the overriden (by mpl) onmessage function.\n",
       "        ws.onmessage(msg['content']['data'])\n",
       "    });\n",
       "    return ws;\n",
       "}\n",
       "\n",
       "mpl.mpl_figure_comm = function(comm, msg) {\n",
       "    // This is the function which gets called when the mpl process\n",
       "    // starts-up an IPython Comm through the \"matplotlib\" channel.\n",
       "\n",
       "    var id = msg.content.data.id;\n",
       "    // Get hold of the div created by the display call when the Comm\n",
       "    // socket was opened in Python.\n",
       "    var element = $(\"#\" + id);\n",
       "    var ws_proxy = comm_websocket_adapter(comm)\n",
       "\n",
       "    function ondownload(figure, format) {\n",
       "        window.open(figure.imageObj.src);\n",
       "    }\n",
       "\n",
       "    var fig = new mpl.figure(id, ws_proxy,\n",
       "                           ondownload,\n",
       "                           element.get(0));\n",
       "\n",
       "    // Call onopen now - mpl needs it, as it is assuming we've passed it a real\n",
       "    // web socket which is closed, not our websocket->open comm proxy.\n",
       "    ws_proxy.onopen();\n",
       "\n",
       "    fig.parent_element = element.get(0);\n",
       "    fig.cell_info = mpl.find_output_cell(\"<div id='\" + id + \"'></div>\");\n",
       "    if (!fig.cell_info) {\n",
       "        console.error(\"Failed to find cell for figure\", id, fig);\n",
       "        return;\n",
       "    }\n",
       "\n",
       "    var output_index = fig.cell_info[2]\n",
       "    var cell = fig.cell_info[0];\n",
       "\n",
       "};\n",
       "\n",
       "mpl.figure.prototype.handle_close = function(fig, msg) {\n",
       "    fig.root.unbind('remove')\n",
       "\n",
       "    // Update the output cell to use the data from the current canvas.\n",
       "    fig.push_to_output();\n",
       "    var dataURL = fig.canvas.toDataURL();\n",
       "    // Re-enable the keyboard manager in IPython - without this line, in FF,\n",
       "    // the notebook keyboard shortcuts fail.\n",
       "    IPython.keyboard_manager.enable()\n",
       "    $(fig.parent_element).html('<img src=\"' + dataURL + '\">');\n",
       "    fig.close_ws(fig, msg);\n",
       "}\n",
       "\n",
       "mpl.figure.prototype.close_ws = function(fig, msg){\n",
       "    fig.send_message('closing', msg);\n",
       "    // fig.ws.close()\n",
       "}\n",
       "\n",
       "mpl.figure.prototype.push_to_output = function(remove_interactive) {\n",
       "    // Turn the data on the canvas into data in the output cell.\n",
       "    var dataURL = this.canvas.toDataURL();\n",
       "    this.cell_info[1]['text/html'] = '<img src=\"' + dataURL + '\">';\n",
       "}\n",
       "\n",
       "mpl.figure.prototype.updated_canvas_event = function() {\n",
       "    // Tell IPython that the notebook contents must change.\n",
       "    IPython.notebook.set_dirty(true);\n",
       "    this.send_message(\"ack\", {});\n",
       "    var fig = this;\n",
       "    // Wait a second, then push the new image to the DOM so\n",
       "    // that it is saved nicely (might be nice to debounce this).\n",
       "    setTimeout(function () { fig.push_to_output() }, 1000);\n",
       "}\n",
       "\n",
       "mpl.figure.prototype._init_toolbar = function() {\n",
       "    var fig = this;\n",
       "\n",
       "    var nav_element = $('<div/>')\n",
       "    nav_element.attr('style', 'width: 100%');\n",
       "    this.root.append(nav_element);\n",
       "\n",
       "    // Define a callback function for later on.\n",
       "    function toolbar_event(event) {\n",
       "        return fig.toolbar_button_onclick(event['data']);\n",
       "    }\n",
       "    function toolbar_mouse_event(event) {\n",
       "        return fig.toolbar_button_onmouseover(event['data']);\n",
       "    }\n",
       "\n",
       "    for(var toolbar_ind in mpl.toolbar_items){\n",
       "        var name = mpl.toolbar_items[toolbar_ind][0];\n",
       "        var tooltip = mpl.toolbar_items[toolbar_ind][1];\n",
       "        var image = mpl.toolbar_items[toolbar_ind][2];\n",
       "        var method_name = mpl.toolbar_items[toolbar_ind][3];\n",
       "\n",
       "        if (!name) { continue; };\n",
       "\n",
       "        var button = $('<button class=\"btn btn-default\" href=\"#\" title=\"' + name + '\"><i class=\"fa ' + image + ' fa-lg\"></i></button>');\n",
       "        button.click(method_name, toolbar_event);\n",
       "        button.mouseover(tooltip, toolbar_mouse_event);\n",
       "        nav_element.append(button);\n",
       "    }\n",
       "\n",
       "    // Add the status bar.\n",
       "    var status_bar = $('<span class=\"mpl-message\" style=\"text-align:right; float: right;\"/>');\n",
       "    nav_element.append(status_bar);\n",
       "    this.message = status_bar[0];\n",
       "\n",
       "    // Add the close button to the window.\n",
       "    var buttongrp = $('<div class=\"btn-group inline pull-right\"></div>');\n",
       "    var button = $('<button class=\"btn btn-mini btn-primary\" href=\"#\" title=\"Stop Interaction\"><i class=\"fa fa-power-off icon-remove icon-large\"></i></button>');\n",
       "    button.click(function (evt) { fig.handle_close(fig, {}); } );\n",
       "    button.mouseover('Stop Interaction', toolbar_mouse_event);\n",
       "    buttongrp.append(button);\n",
       "    var titlebar = this.root.find($('.ui-dialog-titlebar'));\n",
       "    titlebar.prepend(buttongrp);\n",
       "}\n",
       "\n",
       "mpl.figure.prototype._root_extra_style = function(el){\n",
       "    var fig = this\n",
       "    el.on(\"remove\", function(){\n",
       "\tfig.close_ws(fig, {});\n",
       "    });\n",
       "}\n",
       "\n",
       "mpl.figure.prototype._canvas_extra_style = function(el){\n",
       "    // this is important to make the div 'focusable\n",
       "    el.attr('tabindex', 0)\n",
       "    // reach out to IPython and tell the keyboard manager to turn it's self\n",
       "    // off when our div gets focus\n",
       "\n",
       "    // location in version 3\n",
       "    if (IPython.notebook.keyboard_manager) {\n",
       "        IPython.notebook.keyboard_manager.register_events(el);\n",
       "    }\n",
       "    else {\n",
       "        // location in version 2\n",
       "        IPython.keyboard_manager.register_events(el);\n",
       "    }\n",
       "\n",
       "}\n",
       "\n",
       "mpl.figure.prototype._key_event_extra = function(event, name) {\n",
       "    var manager = IPython.notebook.keyboard_manager;\n",
       "    if (!manager)\n",
       "        manager = IPython.keyboard_manager;\n",
       "\n",
       "    // Check for shift+enter\n",
       "    if (event.shiftKey && event.which == 13) {\n",
       "        this.canvas_div.blur();\n",
       "        event.shiftKey = false;\n",
       "        // Send a \"J\" for go to next cell\n",
       "        event.which = 74;\n",
       "        event.keyCode = 74;\n",
       "        manager.command_mode();\n",
       "        manager.handle_keydown(event);\n",
       "    }\n",
       "}\n",
       "\n",
       "mpl.figure.prototype.handle_save = function(fig, msg) {\n",
       "    fig.ondownload(fig, null);\n",
       "}\n",
       "\n",
       "\n",
       "mpl.find_output_cell = function(html_output) {\n",
       "    // Return the cell and output element which can be found *uniquely* in the notebook.\n",
       "    // Note - this is a bit hacky, but it is done because the \"notebook_saving.Notebook\"\n",
       "    // IPython event is triggered only after the cells have been serialised, which for\n",
       "    // our purposes (turning an active figure into a static one), is too late.\n",
       "    var cells = IPython.notebook.get_cells();\n",
       "    var ncells = cells.length;\n",
       "    for (var i=0; i<ncells; i++) {\n",
       "        var cell = cells[i];\n",
       "        if (cell.cell_type === 'code'){\n",
       "            for (var j=0; j<cell.output_area.outputs.length; j++) {\n",
       "                var data = cell.output_area.outputs[j];\n",
       "                if (data.data) {\n",
       "                    // IPython >= 3 moved mimebundle to data attribute of output\n",
       "                    data = data.data;\n",
       "                }\n",
       "                if (data['text/html'] == html_output) {\n",
       "                    return [cell, data, j];\n",
       "                }\n",
       "            }\n",
       "        }\n",
       "    }\n",
       "}\n",
       "\n",
       "// Register the function which deals with the matplotlib target/channel.\n",
       "// The kernel may be null if the page has been refreshed.\n",
       "if (IPython.notebook.kernel != null) {\n",
       "    IPython.notebook.kernel.comm_manager.register_target('matplotlib', mpl.mpl_figure_comm);\n",
       "}\n"
      ],
      "text/plain": [
       "<IPython.core.display.Javascript object>"
      ]
     },
     "metadata": {},
     "output_type": "display_data"
    },
    {
     "data": {
      "text/html": [
       "<img src=\"data:image/png;base64,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\">"
      ],
      "text/plain": [
       "<IPython.core.display.HTML object>"
      ]
     },
     "metadata": {},
     "output_type": "display_data"
    },
    {
     "name": "stdout",
     "output_type": "stream",
     "text": [
      "doc2vec_size_3000_w_8_type_dm_concat_1_mean_0_trainwords_0_hs_0_neg_10_vocabsize_None_curriter_{}_iter_1000_reg_0.001\n",
      "Epoch 01: Coverage Error -> 6.56\n",
      "Epoch 02: Coverage Error -> 6.51\n",
      "Epoch 03: Coverage Error -> 6.56\n",
      "Epoch 04: Coverage Error -> 6.45\n",
      "Epoch 05: Coverage Error -> 6.49\n",
      "Epoch 06: Coverage Error -> 6.39\n",
      "Epoch 07: Coverage Error -> 6.48\n",
      "Epoch 08: Coverage Error -> 6.55\n",
      "Epoch 09: Coverage Error -> 6.51\n",
      "Epoch 10: Coverage Error -> 6.54\n",
      "Epoch 11: Coverage Error -> 6.59\n",
      "Epoch 12: Coverage Error -> 6.50\n",
      "Epoch 13: Coverage Error -> 4.30\n",
      "Epoch 14: Coverage Error -> 4.44\n",
      "Epoch 15: Coverage Error -> 4.58\n",
      "Epoch 16: Coverage Error -> 4.75\n",
      "Epoch 17: Coverage Error -> 4.79\n",
      "Epoch 18: Coverage Error -> 4.75\n",
      "Epoch 19: Coverage Error -> 4.68\n",
      "Epoch 20: Coverage Error -> 4.69\n"
     ]
    }
   ],
   "source": [
    "%matplotlib notebook\n",
    "graph = MetricsGraph()\n",
    "graph.init_graph()\n",
    "print placeholder_model_name + \"_\" + GLOBAL_VARS.SVM_MODEL_NAME\n",
    "\n",
    "for epoch in range(1,DOC2VEC_MAX_EPOCHS+1):\n",
    "    try:\n",
    "        model_name = placeholder_model_name.format(epoch)\n",
    "        metrics = pickle.load(open(os.path.join(doc2vec_model_save_location, model_name, GLOBAL_VARS.SVM_MODEL_NAME, METRICS)))\n",
    "        print \"Epoch {:02d}: Coverage Error -> {:.2f}\".format(epoch, metrics['coverage_error'])\n",
    "        graph.add_metrics_to_graph(metrics, epoch)\n",
    "    except IOError:\n",
    "        break"
   ]
  },
  {
   "cell_type": "code",
   "execution_count": null,
   "metadata": {
    "collapsed": true
   },
   "outputs": [],
   "source": []
  },
  {
   "cell_type": "code",
   "execution_count": 119,
   "metadata": {
    "collapsed": false
   },
   "outputs": [
    {
     "data": {
      "text/plain": [
       "[6.0518029456576938,\n",
       " 4.3138649060436771,\n",
       " 3.7851701371254443,\n",
       " 1.4565769426104622,\n",
       " 1.3819197562214323]"
      ]
     },
     "execution_count": 119,
     "metadata": {},
     "output_type": "execute_result"
    }
   ],
   "source": [
    "[metric['coverage_error'] for metric in epoch_metrics]"
   ]
  }
 ],
 "metadata": {
  "kernelspec": {
   "display_name": "Python 2",
   "language": "python",
   "name": "python2"
  },
  "language_info": {
   "codemirror_mode": {
    "name": "ipython",
    "version": 2
   },
   "file_extension": ".py",
   "mimetype": "text/x-python",
   "name": "python",
   "nbconvert_exporter": "python",
   "pygments_lexer": "ipython2",
   "version": "2.7.12"
  }
 },
 "nbformat": 4,
 "nbformat_minor": 0
}
