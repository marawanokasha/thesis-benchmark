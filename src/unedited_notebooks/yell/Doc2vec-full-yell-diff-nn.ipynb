{
 "cells": [
  {
   "cell_type": "code",
   "execution_count": 1,
   "metadata": {
    "collapsed": false,
    "scrolled": true
   },
   "outputs": [
    {
     "name": "stderr",
     "output_type": "stream",
     "text": [
      "Using gpu device 0: Tesla K40m (CNMeM is disabled, cuDNN 5105)\n",
      "/home/stud/shalaby/.virtualenv/thesis-env/local/lib/python2.7/site-packages/theano/sandbox/cuda/__init__.py:600: UserWarning: Your cuDNN version is more recent than the one Theano officially supports. If you see any problems, try updating Theano or downgrading cuDNN to version 5.\n",
      "  warnings.warn(warn)\n"
     ]
    }
   ],
   "source": [
    "import json\n",
    "import nltk\n",
    "from nltk.tokenize import RegexpTokenizer\n",
    "import string\n",
    "import math\n",
    "import os\n",
    "import time\n",
    "from collections import namedtuple\n",
    "import cPickle as pickle\n",
    "import pandas as pd\n",
    "\n",
    "%matplotlib inline\n",
    "import matplotlib.pyplot as plt\n",
    "import matplotlib as mpl\n",
    "import numpy as np\n",
    "import random\n",
    "\n",
    "from multiprocessing.dummy import Pool as ThreadPool\n",
    "import itertools\n",
    "from collections import defaultdict\n",
    "\n",
    "from sklearn.metrics import coverage_error\n",
    "import sklearn.metrics\n",
    "from sklearn.multiclass import OneVsRestClassifier\n",
    "from sklearn import linear_model\n",
    "from sklearn.preprocessing import MultiLabelBinarizer\n",
    "\n",
    "from gensim.models.doc2vec import Doc2Vec, LabeledSentence\n",
    "\n",
    "import logging\n",
    "from logging import info\n",
    "from functools import partial\n",
    "\n",
    "from thesis.utils.metrics import *"
   ]
  },
  {
   "cell_type": "code",
   "execution_count": 2,
   "metadata": {
    "collapsed": true,
    "scrolled": true
   },
   "outputs": [],
   "source": [
    "root = logging.getLogger()\n",
    "for handler in root.handlers[:]:\n",
    "    root.removeHandler(handler)\n",
    "logging.basicConfig(format='%(asctime)s : %(levelname)s : %(message)s', level=logging.INFO) # adds a default StreamHanlder\n",
    "#root.addHandler(logging.StreamHandler())"
   ]
  },
  {
   "cell_type": "code",
   "execution_count": 3,
   "metadata": {
    "collapsed": true,
    "scrolled": true
   },
   "outputs": [],
   "source": [
    "IS_SAMPLE = False"
   ]
  },
  {
   "cell_type": "code",
   "execution_count": 4,
   "metadata": {
    "collapsed": true,
    "scrolled": true
   },
   "outputs": [],
   "source": [
    "SVM_SEED = 1234\n",
    "DOC2VEC_SEED = 1234\n",
    "WORD2VEC_SEED = 1234"
   ]
  },
  {
   "cell_type": "code",
   "execution_count": 5,
   "metadata": {
    "collapsed": true,
    "scrolled": true
   },
   "outputs": [],
   "source": [
    "NUMBER_INDICATOR = \"number_inidicator\"\n",
    "CURRENCY_INDICATOR = \"currency_inidicator\"\n",
    "CHEMICAL_INDICATOR = \"chemical_inidicator\"\n",
    "MIN_WORD_COUNT = 100\n",
    "MIN_SIZE = 0\n",
    "NUM_CORES = 14"
   ]
  },
  {
   "cell_type": "code",
   "execution_count": 6,
   "metadata": {
    "collapsed": false,
    "scrolled": true
   },
   "outputs": [],
   "source": [
    "GLOBAL_VARS = namedtuple('GLOBAL_VARS', ['MODEL_NAME', 'DOC2VEC_MODEL_NAME', 'DOC2VEC_MODEL', \n",
    "                                         'SVM_MODEL_NAME', 'NN_MODEL_NAME'])"
   ]
  },
  {
   "cell_type": "code",
   "execution_count": 7,
   "metadata": {
    "collapsed": true,
    "scrolled": true
   },
   "outputs": [],
   "source": [
    "VOCAB_MODEL = \"vocab_model\"\n",
    "MODEL_PREFIX = \"model\"\n",
    "VALIDATION_MATRIX = \"validation_matrix.pkl\"\n",
    "METRICS = \"metrics.pkl\"\n",
    "CLASSIFIER = \"classifier.pkl\""
   ]
  },
  {
   "cell_type": "code",
   "execution_count": 8,
   "metadata": {
    "collapsed": true
   },
   "outputs": [],
   "source": [
    "NN_PARAMETER_SEARCH_PREFIX = \"{}_batch_{}_nn_parameter_searches.pkl\""
   ]
  },
  {
   "cell_type": "code",
   "execution_count": 9,
   "metadata": {
    "collapsed": false,
    "scrolled": true
   },
   "outputs": [],
   "source": [
    "#training_file = \"/home/local/shalaby/docs_output_sample_100.json\"\n",
    "\n",
    "root_location = \"/mnt/data2/shalaby/\"\n",
    "exports_location = root_location + \"exported_data/\"\n",
    "\n",
    "doc2vec_model_save_location = os.path.join(root_location, \"parameter_search_doc2vec_models_new\", \"full\")\n",
    "nn_parameter_search_location = os.path.join(root_location, \"nn_parameter_search\")\n",
    "if not os.path.exists(doc2vec_model_save_location):\n",
    "    os.makedirs(doc2vec_model_save_location)\n",
    "if not os.path.exists(os.path.join(doc2vec_model_save_location, VOCAB_MODEL)):\n",
    "    os.makedirs(os.path.join(doc2vec_model_save_location, VOCAB_MODEL))\n",
    "\n",
    "training_file = root_location + \"docs_output.json\"\n",
    "\n",
    "doc_classifications_map_file = exports_location + \"doc_classification_map.pkl\"\n",
    "classification_index_file = exports_location + \"classification_index.pkl\"\n",
    "sections_file = exports_location + \"sections.pkl\"\n",
    "classes_file = exports_location + \"classes.pkl\"\n",
    "subclasses_file = exports_location + \"subclasses.pkl\"\n",
    "valid_classes_file = exports_location + \"valid_classes.pkl\"\n",
    "valid_subclasses_file = exports_location + \"valid_subclasses.pkl\"\n",
    "classifications_output = exports_location + \"classifications.pkl\"\n",
    "training_docs_list_file = exports_location + \"training_docs_list.pkl\"\n",
    "validation_docs_list_file = exports_location + \"validation_docs_list.pkl\"\n",
    "test_docs_list_file = exports_location + \"test_docs_list.pkl\"\n",
    "\n",
    "preprocessed_location = root_location + \"preprocessed_data/\"\n",
    "\n",
    "training_preprocessed_files_prefix = preprocessed_location + \"training_docs_merged_data_preprocessed-\"\n",
    "training_preprocessed_docids_files_prefix = preprocessed_location + \"training_docs_merged_docids_preprocessed-\"\n",
    "validation_preprocessed_files_prefix = preprocessed_location + \"validation_docs_merged_data_preprocessed-\"\n",
    "validation_preprocessed_docids_files_prefix = preprocessed_location + \"validation_docs_merged_docids_preprocessed-\"\n",
    "\n",
    "word2vec_questions_file = result = root_location + 'tensorflow/word2vec/questions-words.txt'"
   ]
  },
  {
   "cell_type": "code",
   "execution_count": 10,
   "metadata": {
    "collapsed": false,
    "scrolled": true
   },
   "outputs": [
    {
     "name": "stdout",
     "output_type": "stream",
     "text": [
      "CPU times: user 18.8 s, sys: 1.45 s, total: 20.3 s\n",
      "Wall time: 20.3 s\n"
     ]
    }
   ],
   "source": [
    "%%time\n",
    "doc_classification_map = pickle.load(open(doc_classifications_map_file))\n",
    "sections = pickle.load(open(sections_file))\n",
    "classes = pickle.load(open(classes_file))\n",
    "subclasses = pickle.load(open(subclasses_file))\n",
    "valid_classes = pickle.load(open(valid_classes_file))\n",
    "valid_subclasses = pickle.load(open(valid_subclasses_file))\n",
    "training_docs_list = pickle.load(open(training_docs_list_file))\n",
    "validation_docs_list = pickle.load(open(validation_docs_list_file))\n",
    "# classifications_index = pickle.load(open(classification_index_file))\n",
    "test_docs_list = pickle.load(open(test_docs_list_file))"
   ]
  },
  {
   "cell_type": "code",
   "execution_count": 11,
   "metadata": {
    "collapsed": false,
    "scrolled": true
   },
   "outputs": [
    {
     "data": {
      "text/plain": [
       "1286325"
      ]
     },
     "execution_count": 11,
     "metadata": {},
     "output_type": "execute_result"
    }
   ],
   "source": [
    "len(training_docs_list)"
   ]
  },
  {
   "cell_type": "code",
   "execution_count": 12,
   "metadata": {
    "collapsed": false,
    "scrolled": true
   },
   "outputs": [
    {
     "data": {
      "text/plain": [
       "321473"
      ]
     },
     "execution_count": 12,
     "metadata": {},
     "output_type": "execute_result"
    }
   ],
   "source": [
    "len(validation_docs_list)"
   ]
  },
  {
   "cell_type": "code",
   "execution_count": 13,
   "metadata": {
    "collapsed": false,
    "scrolled": true
   },
   "outputs": [],
   "source": [
    "def ensure_hdfs_location_exists(location):\n",
    "    parent = os.path.dirname(location)\n",
    "    os.system(\"hdfs dfs -mkdir -p \" + location)\n",
    "\n",
    "def ensure_disk_location_exists(location):\n",
    "    if not os.path.exists(location):\n",
    "        os.makedirs(location)"
   ]
  },
  {
   "cell_type": "code",
   "execution_count": 14,
   "metadata": {
    "collapsed": false,
    "scrolled": true
   },
   "outputs": [],
   "source": [
    "def get_validation_docs_with_inference(doc2vec_model, doc_classification_map):\n",
    "    \"\"\"\n",
    "    Use the trained doc2vec model to get the paragraph vector representations of the validation documents\n",
    "    \"\"\"\n",
    "    if os.path.exists(os.path.join(doc2vec_model_save_location, GLOBAL_VARS.MODEL_NAME, VALIDATION_MATRIX)):\n",
    "        info(\"===== Loading validation vectors\")\n",
    "        validation_vectors_matrix = pickle.load(open(os.path.join(doc2vec_model_save_location, GLOBAL_VARS.MODEL_NAME, VALIDATION_MATRIX)))\n",
    "    else:\n",
    "        validation_documents_reps = {}\n",
    "        validation_vectors = []\n",
    "        validation_labels = []\n",
    "        info(\"===== Getting validation vectors with inference\")\n",
    "\n",
    "        # do inference and store results in dict\n",
    "        i = 0\n",
    "        for (doc_id, doc_contents_array) in ValidationDocumentGenerator(training_file, validation_docs_list):\n",
    "            i += 1\n",
    "            if i % 1000 == 0: info(\"Finished: {}\".format(str(i)))\n",
    "            validation_documents_reps[doc_id] = doc2vec_model.infer_vector(doc_contents_array)\n",
    "\n",
    "        # create matrix for the validation vectors\n",
    "        for validation_doc_id in validation_docs_list:\n",
    "            validation_vectors.append(validation_documents_reps[validation_doc_id])\n",
    "            validation_labels.append([classf for classf in doc_classification_map[validation_doc_id] if classf in sections])\n",
    "        validation_vectors_matrix = np.array(validation_vectors)\n",
    "        pickle.dump(validation_vectors_matrix, open(os.path.join(doc2vec_model_save_location, GLOBAL_VARS.MODEL_NAME, VALIDATION_MATRIX), 'w'))\n",
    "    \n",
    "    return validation_vectors_matrix"
   ]
  },
  {
   "cell_type": "code",
   "execution_count": 15,
   "metadata": {
    "collapsed": true,
    "scrolled": true
   },
   "outputs": [],
   "source": [
    "def get_validation_docs_with_inference_new(doc2vec_model, doc_classification_map, classifications, \n",
    "                                           val_docs_list, val_preprocessed_files_prefix, val_preprocessed_docids_files_prefix):\n",
    "    \"\"\"\n",
    "    Use the trained doc2vec model to get the paragraph vector representations of the validation documents\n",
    "    \"\"\"\n",
    "\n",
    "    def infer_one_doc(doc_tuple):\n",
    "        #doc2vec_model.random = np.random.RandomState(DOC2VEC_SEED)\n",
    "        doc_id, doc_tokens = doc_tuple\n",
    "        rep = doc2vec_model.infer_vector(doc_tokens)\n",
    "        return (doc_id, rep)\n",
    "\n",
    "    one_hot_encoder = OneHotEncoder(classifications)\n",
    "    classifications_set = set(classifications)\n",
    "    if os.path.exists(os.path.join(doc2vec_model_save_location, GLOBAL_VARS.MODEL_NAME, VALIDATION_MATRIX)):\n",
    "        info(\"===== Loading validation vectors\")\n",
    "        validation_labels = []\n",
    "        validation_vectors_matrix = pickle.load(open(os.path.join(doc2vec_model_save_location, GLOBAL_VARS.MODEL_NAME, VALIDATION_MATRIX)))\n",
    "        info(\"Loaded validation vectors matrix\")\n",
    "        for i, validation_doc_id in enumerate(val_docs_list):\n",
    "#             val_labels = [classf for classf in doc_classification_map[validation_doc_id] if classf in classifications]\n",
    "            val_labels = set(doc_classification_map[validation_doc_id]) & classifications_set\n",
    "            validation_labels.append(one_hot_encoder.get_label_vector(val_labels))\n",
    "            if i % 100000 == 0:\n",
    "                info(\"Finished {} in validation loading\".format(i))\n",
    "        validation_labels = np.array(validation_labels, dtype=np.int8)\n",
    "    else:\n",
    "        validation_documents_reps = {}\n",
    "        validation_vectors = []\n",
    "        validation_labels = []\n",
    "        info(\"===== Getting validation vectors with inference\")\n",
    "\n",
    "        # Single-threaded inference\n",
    "        # do inference and store results in dict\n",
    "#         i = 0\n",
    "        \n",
    "#         validation_docs_iterator = DocumentBatchGenerator(val_preprocessed_files_prefix, \n",
    "#                                                         val_preprocessed_docids_files_prefix, batch_size=None)\n",
    "#         for (doc_id, doc_contents_array) in validation_docs_iterator:\n",
    "#             i += 1\n",
    "#             if i % 1000 == 0: info(\"Finished: {}\".format(str(i)))\n",
    "#             validation_documents_reps[doc_id] = doc2vec_model.infer_vector(doc_contents_array)\n",
    "        \n",
    "        # Multi-threaded inference\n",
    "        validation_docs_iterator = DocumentBatchGenerator(validation_preprocessed_files_prefix, \n",
    "                                                          validation_preprocessed_docids_files_prefix, batch_size=None)\n",
    "        generator_func = validation_docs_iterator.__iter__()\n",
    "        pool = ThreadPool(NUM_CORES)\n",
    "        # map consumes the whole iterator on the spot, so we have to use itertools.islice to fake mini-batching\n",
    "        validation_documents_reps = {}\n",
    "        mini_batch_size = 1000\n",
    "        while True:\n",
    "            threaded_reps_partial = pool.map(infer_one_doc, itertools.islice(generator_func, mini_batch_size))\n",
    "            info(\"Finished: {}\".format(str(validation_docs_iterator.curr_index)))\n",
    "            if threaded_reps_partial:\n",
    "                #threaded_reps.extend(threaded_reps_partial)\n",
    "                validation_documents_reps.update(threaded_reps_partial)\n",
    "            else:\n",
    "                break\n",
    "\n",
    "                \n",
    "        # create matrix for the validation vectors\n",
    "        for validation_doc_id in val_docs_list:\n",
    "            validation_vectors.append(validation_documents_reps[validation_doc_id])\n",
    "#             val_labels = [classf for classf in doc_classification_map[validation_doc_id] if classf in classifications]\n",
    "            val_labels = set(doc_classification_map[validation_doc_id]) & classifications_set\n",
    "            validation_labels.append(one_hot_encoder.get_label_vector(val_labels))\n",
    "        validation_vectors_matrix = np.array(validation_vectors)\n",
    "        validation_labels = np.array(validation_labels, dtype=np.int8)\n",
    "        pickle.dump(validation_vectors_matrix, open(os.path.join(doc2vec_model_save_location, GLOBAL_VARS.MODEL_NAME, VALIDATION_MATRIX), 'w'))\n",
    "    \n",
    "    return validation_vectors_matrix, validation_labels"
   ]
  },
  {
   "cell_type": "code",
   "execution_count": 16,
   "metadata": {
    "collapsed": true,
    "scrolled": true
   },
   "outputs": [],
   "source": [
    "class OneHotEncoder():\n",
    "    \n",
    "    def __init__(self, classifications):\n",
    "        self.classifications = classifications\n",
    "        self.one_hot_indices = {}\n",
    "\n",
    "        # convert character classifications to bit vectors\n",
    "        for i, clssf in enumerate(classifications):\n",
    "            bits = [0] * len(classifications)\n",
    "            bits[i] = 1\n",
    "            self.one_hot_indices[clssf] = i\n",
    "    \n",
    "    def get_label_vector(self, labels):\n",
    "        \"\"\"\n",
    "        classes: array of string with the classes assigned to the instance\n",
    "        \"\"\"\n",
    "        output_vector = [0] * len(self.classifications)\n",
    "        for label in labels:\n",
    "            index = self.one_hot_indices[label]\n",
    "            output_vector[index] = 1\n",
    "            \n",
    "        return output_vector\n",
    "\n",
    "def get_training_data(doc2vec_model, classifications):\n",
    "    one_hot_encoder = OneHotEncoder(classifications)\n",
    "    classifications_set = set(classifications)\n",
    "    training_data = []\n",
    "    training_labels_mat = np.zeros((len(training_docs_list), len(classifications)), dtype=np.int8)\n",
    "#     training_data_mat = np.zeros((len(training_docs_list), DOC2VEC_SIZE), dtype=np.float32)\n",
    "    for i,doc_id in enumerate(training_docs_list):\n",
    "        # converting from memmap to a normal array\n",
    "#         normal_array = []\n",
    "#         normal_array[:] = doc2vec_model.docvecs[doc_id][:]\n",
    "        normal_array = doc2vec_model.docvecs[doc_id]\n",
    "        training_data.append(normal_array)\n",
    "#         eligible_classifications = [clssf for clssf in doc_classification_map[doc_id] if clssf in classifications]\n",
    "        eligible_classifications = set(doc_classification_map[doc_id]) & classifications_set\n",
    "        training_labels_mat[i][:] = one_hot_encoder.get_label_vector(eligible_classifications)\n",
    "        if i % 100000 == 0:\n",
    "            info(\"Finished {} in training\".format(i))\n",
    "    info(\"doing matrix creation\")\n",
    "    training_data_mat = np.array(training_data)\n",
    "#     training_labels_mat = np.array(training_labels, dtype=np.int8)\n",
    "    del training_data\n",
    "    return training_data_mat, training_labels_mat\n",
    "\n",
    "\n",
    "def get_training_data_old(doc2vec_model, classifications):\n",
    "    one_hot_encoder = OneHotEncoder(classifications)\n",
    "    classifications_set = set(classifications)\n",
    "    training_data = []\n",
    "    training_labels = []\n",
    "#     training_data_mat = np.zeros((len(training_docs_list), DOC2VEC_SIZE), dtype=np.float32)\n",
    "    for i,doc_id in enumerate(training_docs_list):\n",
    "        # converting from memmap to a normal array\n",
    "#         normal_array = []\n",
    "#         normal_array[:] = doc2vec_model.docvecs[doc_id][:]\n",
    "        normal_array = doc2vec_model.docvecs[doc_id]\n",
    "        training_data.append(normal_array)\n",
    "#         eligible_classifications = [clssf for clssf in doc_classification_map[doc_id] if clssf in classifications]\n",
    "        eligible_classifications = set(doc_classification_map[doc_id]) & classifications_set\n",
    "        training_labels.append(one_hot_encoder.get_label_vector(eligible_classifications))\n",
    "        if i % 100000 == 0:\n",
    "            info(\"Finished {} in training\".format(i))\n",
    "    info(\"doing matrix creation\")\n",
    "    training_data_mat = np.array(training_data)\n",
    "    training_labels_mat = np.array(training_labels, dtype=np.int8)\n",
    "    del training_data, training_labels\n",
    "    return training_data_mat, training_labels_mat\n",
    "\n",
    "\n",
    "\n",
    "def get_training_data_lbl(doc2vec_model, classifications):\n",
    "    one_hot_encoder = OneHotEncoder(classifications)\n",
    "    classifications_set = set(classifications)\n",
    "    training_data = []\n",
    "    training_labels_mat = np.zeros((len(training_docs_list), len(classifications)), dtype=np.int8)\n",
    "#     training_data_mat = np.zeros((len(training_docs_list), DOC2VEC_SIZE), dtype=np.float32)\n",
    "    for i,doc_id in enumerate(training_docs_list):\n",
    "        # converting from memmap to a normal array\n",
    "#         normal_array = []\n",
    "#         normal_array[:] = doc2vec_model.docvecs[doc_id][:]\n",
    "        normal_array = doc2vec_model.docvecs[doc_id]\n",
    "        training_data.append(normal_array)\n",
    "#         eligible_classifications = [clssf for clssf in doc_classification_map[doc_id] if clssf in classifications]\n",
    "        eligible_classifications = set(doc_classification_map[doc_id]) & classifications_set\n",
    "        training_labels_mat[i][:] = one_hot_encoder.get_label_vector(eligible_classifications)\n",
    "        if i % 100000 == 0:\n",
    "            info(\"Finished {} in training\".format(i))\n",
    "    info(\"doing matrix creation\")\n",
    "    training_data_mat = np.array(training_data)\n",
    "#     training_labels_mat = np.array(training_labels, dtype=np.int8)\n",
    "    del training_data\n",
    "    return training_data_mat, training_labels_mat\n",
    "\n",
    "\n",
    "\n",
    "def get_training_data_memap(doc2vec_model, classifications):\n",
    "    one_hot_encoder = OneHotEncoder(classifications)\n",
    "    classifications_set = set(classifications)\n",
    "    training_data = []\n",
    "    training_labels_mat = np.zeros((len(training_docs_list), len(classifications)), dtype=np.int8)\n",
    "#     training_data_mat = np.zeros((len(training_docs_list), DOC2VEC_SIZE), dtype=np.float32)\n",
    "    for i,doc_id in enumerate(training_docs_list):\n",
    "        # converting from memmap to a normal array\n",
    "        normal_array = []\n",
    "        normal_array[:] = doc2vec_model.docvecs[doc_id][:]\n",
    "        normal_array = doc2vec_model.docvecs[doc_id]\n",
    "        training_data.append(normal_array)\n",
    "        eligible_classifications = set(doc_classification_map[doc_id]) & classifications_set\n",
    "        training_labels_mat[i][:] = one_hot_encoder.get_label_vector(eligible_classifications)\n",
    "        if i % 100000 == 0:\n",
    "            info(\"Finished {} in training\".format(i))\n",
    "    info(\"doing matrix creation\")\n",
    "    training_data_mat = np.array(training_data)\n",
    "#     training_labels_mat = np.array(training_labels, dtype=np.int8)\n",
    "    del training_data\n",
    "    return training_data_mat, training_labels_mat\n",
    "\n",
    "\n",
    "def get_training_data_new(doc2vec_model, classifications):\n",
    "    one_hot_encoder = OneHotEncoder(classifications)\n",
    "    classifications_set = set(classifications)\n",
    "#     training_data = []\n",
    "    training_labels = []\n",
    "    training_data_mat = np.zeros((len(training_docs_list), DOC2VEC_SIZE), dtype=np.float32)\n",
    "    for i,doc_id in enumerate(training_docs_list):\n",
    "        # converting from memmap to a normal array\n",
    "#         normal_array = []\n",
    "#         normal_array[:] = doc2vec_model.docvecs[doc_id][:]\n",
    "        normal_array = doc2vec_model.docvecs[doc_id]\n",
    "        training_data_mat[i][:] = normal_array\n",
    "#         eligible_classifications = [clssf for clssf in doc_classification_map[doc_id] if clssf in classifications]\n",
    "        eligible_classifications = set(doc_classification_map[doc_id]) & classifications_set\n",
    "        training_labels.append(one_hot_encoder.get_label_vector(eligible_classifications))\n",
    "        if i % 100000 == 0:\n",
    "            info(\"Finished {} in training\".format(i))\n",
    "    info(\"doing matrix creation\")\n",
    "    training_labels_mat = np.array(training_labels)\n",
    "    del training_labels\n",
    "    return training_data_mat, training_labels_mat\n",
    "\n",
    "\n",
    "def get_training_data_new2(doc2vec_model, classifications):\n",
    "    one_hot_encoder = OneHotEncoder(classifications)\n",
    "    classifications_set = set(classifications)\n",
    "    training_data = []\n",
    "    training_labels = []\n",
    "    training_data_mat = np.zeros((len(training_docs_list), DOC2VEC_SIZE), dtype=np.float32)\n",
    "    for i,doc_id in enumerate(training_docs_list):\n",
    "        # converting from memmap to a normal array\n",
    "#         normal_array = []\n",
    "#         normal_array[:] = doc2vec_model.docvecs[doc_id][:]\n",
    "        normal_array = doc2vec_model.docvecs[doc_id]\n",
    "#         training_data_mat[i][:] = normal_array\n",
    "        training_data.append(normal_array)\n",
    "#         eligible_classifications = [clssf for clssf in doc_classification_map[doc_id] if clssf in classifications]\n",
    "        eligible_classifications = set(doc_classification_map[doc_id]) & classifications_set\n",
    "        training_labels.append(one_hot_encoder.get_label_vector(eligible_classifications))\n",
    "        if i % 100000 == 0:\n",
    "            info(\"Finished {} in training\".format(i))\n",
    "    info(\"doing matrix creation\")\n",
    "#     training_labels_mat = np.array(training_labels)\n",
    "#     del training_labels\n",
    "    return training_data, training_labels"
   ]
  },
  {
   "cell_type": "code",
   "execution_count": 17,
   "metadata": {
    "collapsed": false,
    "scrolled": true
   },
   "outputs": [],
   "source": [
    "class TrainingDocumentGenerator(object):\n",
    "    def __init__(self, filename, training_docs_list):\n",
    "        self.filename = filename\n",
    "        self.training_docs_list = training_docs_list\n",
    "    def __iter__(self):\n",
    "        with open(self.filename) as file_obj:\n",
    "            for line in file_obj:\n",
    "                if not line.strip(): continue\n",
    "                (doc_id, text) = eval(line)\n",
    "                if doc_id in self.training_docs_list:\n",
    "                    yield LabeledSentence(words=stemtokenizer(text), tags=[doc_id])\n",
    "                    \n",
    "class DocumentBatchGenerator(object):\n",
    "    def __init__(self, filename_prefix, filename_docids_prefix, batch_size=10000 ):\n",
    "        \"\"\"\n",
    "        batch_size cant be > 10,000 due to a limitation in doc2vec training, \n",
    "        None means no batching (only use for inference)\n",
    "        \"\"\"\n",
    "        assert batch_size <= 10000 or batch_size is None\n",
    "        self.filename_prefix = filename_prefix\n",
    "        self.filename_docids_prefix = filename_docids_prefix\n",
    "        self.curr_lines = []\n",
    "        self.curr_docids = []\n",
    "        self.batch_size = batch_size\n",
    "        self.curr_index = 0\n",
    "        self.batch_end = -1\n",
    "    def load_new_batch_in_memory(self):\n",
    "        del self.curr_lines, self.curr_docids\n",
    "        self.curr_lines, self.docids = [], []\n",
    "        info(\"Loading new batch for index: {}\".format(self.curr_index) )\n",
    "        try:\n",
    "            with open(self.filename_prefix + str(self.curr_index)) as preproc_file:\n",
    "                for line in preproc_file:\n",
    "                    self.curr_lines.append(line.split(\" \"))\n",
    "#                     if i % 1000 == 0:\n",
    "#                         print i\n",
    "            self.curr_docids = pickle.load(open(self.filename_docids_prefix + str(self.curr_index), \"r\"))\n",
    "            self.batch_end = self.curr_index + len(self.curr_lines) -1 \n",
    "            info(\"Finished loading new batch\")\n",
    "        except IOError:\n",
    "            info(\"No more batches to load, exiting at index: {}\".format(self.curr_index))\n",
    "            raise StopIteration()\n",
    "    def __iter__(self):\n",
    "        while True:\n",
    "            if self.curr_index > self.batch_end:\n",
    "                self.load_new_batch_in_memory()\n",
    "            for (doc_id, tokens) in zip(self.curr_docids, self.curr_lines):\n",
    "                if self.batch_size is not None:\n",
    "                    curr_batch_iter = 0\n",
    "                    # divide the document to batches according to the batch size\n",
    "                    while curr_batch_iter < len(tokens):\n",
    "                        yield LabeledSentence(words=tokens[curr_batch_iter: curr_batch_iter + self.batch_size], tags=[doc_id])\n",
    "                        curr_batch_iter += self.batch_size\n",
    "                else:\n",
    "                    yield doc_id, tokens\n",
    "                self.curr_index += 1\n",
    "\n",
    "class Word2VecTrainingDocumentGenerator(object):\n",
    "    def __init__(self, filename, training_docs_list):\n",
    "        self.filename = filename\n",
    "        self.training_docs_list = training_docs_list\n",
    "    def __iter__(self):\n",
    "        with open(self.filename) as file_obj:\n",
    "            for line in file_obj:\n",
    "                if not line.strip(): continue\n",
    "                (doc_id, text) = eval(line)\n",
    "                if doc_id in self.training_docs_list:\n",
    "                    yield stemtokenizer(text)\n",
    "                \n",
    "class ValidationDocumentGenerator(object):\n",
    "    def __init__(self, filename, validation_docs_list):\n",
    "        self.filename = filename\n",
    "        self.validation_docs_list = validation_docs_list\n",
    "    def __iter__(self):\n",
    "        with open(self.filename) as file_obj:\n",
    "            for line in file_obj:\n",
    "                if not line.strip(): continue\n",
    "                (doc_id, text) = eval(line)\n",
    "                if doc_id in self.validation_docs_list:\n",
    "                    yield doc_id, stemtokenizer(text)\n",
    "                    \n",
    "class StochasticDocumentGenerator(object):\n",
    "    \"\"\"\n",
    "    Randomly shuffle rows while reading them\n",
    "    \"\"\"\n",
    "    def __init__(self, filename, training_docs_list, line_positions):\n",
    "        self.filename = filename\n",
    "        self.training_docs_list = training_docs_list\n",
    "        self.line_positions = line_positions\n",
    "        self.lines = set(line_positions.keys())\n",
    "    def __iter__(self):\n",
    "        with open(self.filename) as file_obj:\n",
    "            while len(self.lines) > 0:\n",
    "                random_line = random.sample(self.lines,1)[0]\n",
    "                self.lines.remove(random_line)\n",
    "                file_obj.seek(self.line_positions[random_line])\n",
    "                line = file_obj.readline()\n",
    "                if not line.strip(): continue\n",
    "#                 print random_line, self.line_positions[random_line], line[:30]\n",
    "                (doc_id, text) = eval(line)\n",
    "                # print random_line , doc_id\n",
    "                if doc_id in self.training_docs_list:\n",
    "                    yield LabeledSentence(words=stemtokenizer(text), tags=[doc_id])\n",
    "#                     yield doc_id"
   ]
  },
  {
   "cell_type": "markdown",
   "metadata": {},
   "source": [
    "## Loading Specific Doc2vec Model"
   ]
  },
  {
   "cell_type": "markdown",
   "metadata": {},
   "source": [
    "### Doc2vec and SVM Parameters"
   ]
  },
  {
   "cell_type": "code",
   "execution_count": 18,
   "metadata": {
    "collapsed": true,
    "scrolled": true
   },
   "outputs": [],
   "source": [
    "DOC2VEC_SIZE = 100\n",
    "DOC2VEC_WINDOW = 5\n",
    "DOC2VEC_MAX_VOCAB_SIZE = None\n",
    "DOC2VEC_SAMPLE = 1e-3\n",
    "DOC2VEC_TYPE = 1\n",
    "DOC2VEC_HIERARCHICAL_SAMPLE = 0\n",
    "DOC2VEC_NEGATIVE_SAMPLE_SIZE = 10\n",
    "DOC2VEC_CONCAT = 1\n",
    "DOC2VEC_MEAN = 0\n",
    "DOC2VEC_TRAIN_WORDS = 0\n",
    "DOC2VEC_EPOCHS = 1 # we do our training manually one epoch at a time\n",
    "DOC2VEC_MAX_EPOCHS = 20\n",
    "REPORT_DELAY = 20 # report the progress every x seconds\n",
    "REPORT_VOCAB_PROGRESS = 10000 # report vocab progress every x documents"
   ]
  },
  {
   "cell_type": "code",
   "execution_count": 19,
   "metadata": {
    "collapsed": false,
    "scrolled": true
   },
   "outputs": [
    {
     "data": {
      "text/plain": [
       "'doc2vec_size_100_w_5_type_dm_concat_1_mean_0_trainwords_0_hs_0_neg_10_vocabsize_None/epoch_{}'"
      ]
     },
     "execution_count": 19,
     "metadata": {},
     "output_type": "execute_result"
    }
   ],
   "source": [
    "placeholder_model_name = 'doc2vec_size_{}_w_{}_type_{}_concat_{}_mean_{}_trainwords_{}_hs_{}_neg_{}_vocabsize_{}'.format(DOC2VEC_SIZE, \n",
    "                                                                DOC2VEC_WINDOW, \n",
    "                                                                'dm' if DOC2VEC_TYPE == 1 else 'pv-dbow',\n",
    "                                                                DOC2VEC_CONCAT, DOC2VEC_MEAN,\n",
    "                                                                DOC2VEC_TRAIN_WORDS,\n",
    "                                                                DOC2VEC_HIERARCHICAL_SAMPLE,DOC2VEC_NEGATIVE_SAMPLE_SIZE,\n",
    "                                                                str(DOC2VEC_MAX_VOCAB_SIZE))\n",
    "GLOBAL_VARS.DOC2VEC_MODEL_NAME = placeholder_model_name\n",
    "placeholder_model_name = os.path.join(placeholder_model_name, \"epoch_{}\")\n",
    "placeholder_model_name"
   ]
  },
  {
   "cell_type": "code",
   "execution_count": 20,
   "metadata": {
    "collapsed": true,
    "scrolled": true
   },
   "outputs": [],
   "source": [
    "# vocab_counts = {k:doc2vec_model.vocab[k].count for k in doc2vec_model.vocab.keys()}\n",
    "# dd = sorted(vocab_counts, key=vocab_counts.get)"
   ]
  },
  {
   "cell_type": "code",
   "execution_count": 21,
   "metadata": {
    "collapsed": true
   },
   "outputs": [],
   "source": [
    "doc2vec_methods_dict = {\n",
    "#     'doc2vec_size_50_w_8_type_dm_concat_1_mean_0_trainwords_0_hs_0_neg_10_vocabsize_None' : 7,\n",
    "#     'doc2vec_size_50_w_8_type_dm_concat_0_mean_1_trainwords_0_hs_0_neg_10_vocabsize_None' : 8,\n",
    "#     'doc2vec_size_50_w_8_type_pv-dbow_concat_1_mean_0_trainwords_0_hs_0_neg_10_vocabsize_None': 8,\n",
    "#     'doc2vec_size_100_w_2_type_dm_concat_1_mean_0_trainwords_0_hs_0_neg_10_vocabsize_None': 9,\n",
    "#     'doc2vec_size_100_w_5_type_dm_concat_1_mean_0_trainwords_0_hs_0_neg_10_vocabsize_None': 18,\n",
    "#     'doc2vec_size_100_w_8_type_dm_concat_1_mean_0_trainwords_0_hs_0_neg_10_vocabsize_None': 10,\n",
    "#     'doc2vec_size_100_w_8_type_dm_concat_0_mean_1_trainwords_0_hs_0_neg_10_vocabsize_None': 4,\n",
    "#     'doc2vec_size_100_w_8_type_pv-dbow_concat_1_mean_0_trainwords_0_hs_0_neg_10_vocabsize_None': 7,\n",
    "#     'doc2vec_size_200_w_2_type_dm_concat_0_mean_1_trainwords_0_hs_0_neg_10_vocabsize_None': 8,\n",
    "#     'doc2vec_size_200_w_2_type_pv-dbow_concat_1_mean_0_trainwords_0_hs_0_neg_10_vocabsize_None': 7,\n",
    "#     'doc2vec_size_200_w_4_type_dm_concat_0_mean_1_trainwords_0_hs_0_neg_10_vocabsize_None': 6,\n",
    "#     'doc2vec_size_200_w_4_type_pv-dbow_concat_1_mean_0_trainwords_0_hs_0_neg_10_vocabsize_None': 8,\n",
    "#     'doc2vec_size_200_w_8_type_dm_concat_0_mean_1_trainwords_0_hs_0_neg_10_vocabsize_None': 14,\n",
    "#     'doc2vec_size_200_w_8_type_dm_concat_1_mean_0_trainwords_0_hs_0_neg_10_vocabsize_None': 1,\n",
    "#     'doc2vec_size_200_w_8_type_pv-dbow_concat_1_mean_0_trainwords_0_hs_0_neg_10_vocabsize_None': 8,\n",
    "#     'doc2vec_size_500_w_8_type_dm_concat_0_mean_1_trainwords_0_hs_0_neg_10_vocabsize_None': 8,\n",
    "#     'doc2vec_size_500_w_8_type_pv-dbow_concat_1_mean_0_trainwords_0_hs_0_neg_10_vocabsize_None': 8,\n",
    "#     'doc2vec_size_1000_w_8_type_pv-dbow_concat_1_mean_0_trainwords_0_hs_0_neg_10_vocabsize_None': 6,\n",
    "#     'doc2vec_size_1000_w_8_type_dm_concat_0_mean_1_trainwords_0_hs_0_neg_10_vocabsize_None': 5\n",
    "}"
   ]
  },
  {
   "cell_type": "code",
   "execution_count": 22,
   "metadata": {
    "collapsed": false,
    "scrolled": true
   },
   "outputs": [],
   "source": [
    "classifications = valid_classes\n",
    "classifications_type = 'classes'"
   ]
  },
  {
   "cell_type": "code",
   "execution_count": 23,
   "metadata": {
    "collapsed": false,
    "scrolled": true
   },
   "outputs": [
    {
     "name": "stderr",
     "output_type": "stream",
     "text": [
      "2017-02-15 02:07:53,798 : INFO : ****************** Epoch 18 --- Loading doc2vec_size_100_w_5_type_dm_concat_1_mean_0_trainwords_0_hs_0_neg_10_vocabsize_None/epoch_18 *******************\n",
      "2017-02-15 02:07:53,800 : INFO : loading Doc2Vec object from /mnt/data2/shalaby/parameter_search_doc2vec_models_new/full/doc2vec_size_100_w_5_type_dm_concat_1_mean_0_trainwords_0_hs_0_neg_10_vocabsize_None/epoch_18/model\n",
      "2017-02-15 02:07:59,877 : INFO : loading docvecs recursively from /mnt/data2/shalaby/parameter_search_doc2vec_models_new/full/doc2vec_size_100_w_5_type_dm_concat_1_mean_0_trainwords_0_hs_0_neg_10_vocabsize_None/epoch_18/model.docvecs.* with mmap=r\n",
      "2017-02-15 02:07:59,878 : INFO : loading doctag_syn0 from /mnt/data2/shalaby/parameter_search_doc2vec_models_new/full/doc2vec_size_100_w_5_type_dm_concat_1_mean_0_trainwords_0_hs_0_neg_10_vocabsize_None/epoch_18/model.docvecs.doctag_syn0.npy with mmap=r\n",
      "2017-02-15 02:07:59,879 : INFO : loading syn1neg from /mnt/data2/shalaby/parameter_search_doc2vec_models_new/full/doc2vec_size_100_w_5_type_dm_concat_1_mean_0_trainwords_0_hs_0_neg_10_vocabsize_None/epoch_18/model.syn1neg.npy with mmap=r\n",
      "2017-02-15 02:07:59,881 : INFO : loading syn0 from /mnt/data2/shalaby/parameter_search_doc2vec_models_new/full/doc2vec_size_100_w_5_type_dm_concat_1_mean_0_trainwords_0_hs_0_neg_10_vocabsize_None/epoch_18/model.syn0.npy with mmap=r\n",
      "2017-02-15 02:07:59,882 : INFO : setting ignored attribute syn0norm to None\n",
      "2017-02-15 02:07:59,883 : INFO : setting ignored attribute cum_table to None\n",
      "2017-02-15 02:08:00,588 : INFO : Getting training Data\n",
      "2017-02-15 02:08:00,590 : INFO : Finished 0 in training\n",
      "2017-02-15 02:08:04,233 : INFO : Finished 100000 in training\n",
      "2017-02-15 02:08:08,075 : INFO : Finished 200000 in training\n",
      "2017-02-15 02:08:11,655 : INFO : Finished 300000 in training\n",
      "2017-02-15 02:08:15,246 : INFO : Finished 400000 in training\n",
      "2017-02-15 02:08:18,772 : INFO : Finished 500000 in training\n",
      "2017-02-15 02:08:22,311 : INFO : Finished 600000 in training\n",
      "2017-02-15 02:08:25,879 : INFO : Finished 700000 in training\n",
      "2017-02-15 02:08:29,430 : INFO : Finished 800000 in training\n",
      "2017-02-15 02:08:34,512 : INFO : Finished 900000 in training\n",
      "2017-02-15 02:08:38,069 : INFO : Finished 1000000 in training\n",
      "2017-02-15 02:08:41,626 : INFO : Finished 1100000 in training\n",
      "2017-02-15 02:08:45,159 : INFO : Finished 1200000 in training\n",
      "2017-02-15 02:08:48,212 : INFO : doing matrix creation\n",
      "2017-02-15 02:08:49,299 : INFO : Getting Validation Embeddings\n",
      "2017-02-15 02:08:49,301 : INFO : ===== Loading validation vectors\n",
      "2017-02-15 02:09:02,454 : INFO : Loaded validation vectors matrix\n",
      "2017-02-15 02:09:02,455 : INFO : Finished 0 in validation loading\n",
      "2017-02-15 02:09:03,090 : INFO : Finished 100000 in validation loading\n",
      "2017-02-15 02:09:03,745 : INFO : Finished 200000 in validation loading\n",
      "2017-02-15 02:09:04,373 : INFO : Finished 300000 in validation loading\n"
     ]
    }
   ],
   "source": [
    "epoch = 18\n",
    "GLOBAL_VARS.MODEL_NAME = placeholder_model_name.format(epoch)\n",
    "info(\"****************** Epoch {} --- Loading {} *******************\".format(epoch, GLOBAL_VARS.MODEL_NAME))\n",
    "\n",
    "# if we have the model, just load it, otherwise train the previous model\n",
    "if os.path.exists(os.path.join(doc2vec_model_save_location, GLOBAL_VARS.MODEL_NAME, MODEL_PREFIX)):\n",
    "    doc2vec_model = Doc2Vec.load(os.path.join(doc2vec_model_save_location, GLOBAL_VARS.MODEL_NAME, MODEL_PREFIX), mmap='r')\n",
    "    GLOBAL_VARS.DOC2VEC_MODEL = doc2vec_model\n",
    "else:\n",
    "    info(\"Couldnt find the doc2vec model with epoch {}\".format(epoch))\n",
    "    raise Exception()\n",
    "        \n",
    "info('Getting training Data')\n",
    "X, y = get_training_data_memap(doc2vec_model, classifications)\n",
    "\n",
    "info('Getting Validation Embeddings')\n",
    "Xv, yv = get_validation_docs_with_inference_new(doc2vec_model, doc_classification_map, classifications, \n",
    "                                                validation_docs_list, validation_preprocessed_files_prefix,\n",
    "                                                validation_preprocessed_docids_files_prefix)"
   ]
  },
  {
   "cell_type": "code",
   "execution_count": 25,
   "metadata": {
    "collapsed": true
   },
   "outputs": [],
   "source": [
    "# create nn parameter search directory\n",
    "if not os.path.exists(os.path.join(nn_parameter_search_location, GLOBAL_VARS.MODEL_NAME)):\n",
    "    os.makedirs(os.path.join(nn_parameter_search_location, GLOBAL_VARS.MODEL_NAME))"
   ]
  },
  {
   "cell_type": "markdown",
   "metadata": {},
   "source": [
    "## NN Specific Functions"
   ]
  },
  {
   "cell_type": "code",
   "execution_count": 26,
   "metadata": {
    "collapsed": false,
    "scrolled": true
   },
   "outputs": [
    {
     "name": "stderr",
     "output_type": "stream",
     "text": [
      "Using Theano backend.\n"
     ]
    }
   ],
   "source": [
    "from keras.layers import Input, Dense, Dropout\n",
    "from keras.models import Model\n",
    "from sklearn.model_selection import ParameterSampler\n",
    "import keras"
   ]
  },
  {
   "cell_type": "code",
   "execution_count": 27,
   "metadata": {
    "collapsed": true,
    "scrolled": true
   },
   "outputs": [],
   "source": [
    "def create_keras_nn_model(input_size, output_size, \n",
    "                          first_hidden_layer_size, first_hidden_layer_activation, \n",
    "                          second_hidden_layer_size, second_hidden_layer_activation, \n",
    "                          input_dropout_do, hidden_dropout_do):\n",
    "    \n",
    "    doc_input = Input(shape=(DOC2VEC_SIZE,), name='doc_input')\n",
    "    if input_dropout_do:\n",
    "        hidden = Dropout(0.7)(doc_input)\n",
    "    hidden = Dense(first_hidden_layer_size, activation=first_hidden_layer_activation, \n",
    "                   name='hidden_layer_{}'.format(first_hidden_layer_activation))(doc_input if not input_dropout_do else hidden)\n",
    "    if hidden_dropout_do:\n",
    "        hidden = Dropout(0.5)(hidden)\n",
    "    if second_hidden_layer_size is not None:\n",
    "        hidden = Dense(second_hidden_layer_size, activation=second_hidden_layer_activation, \n",
    "                       name='hidden_layer2_{}'.format(second_hidden_layer_activation))(hidden)\n",
    "    softmax_output = Dense(output_size, activation='sigmoid', name='softmax_output')(hidden)\n",
    "\n",
    "    model = Model(input=doc_input, output=softmax_output)\n",
    "    model.compile(optimizer='rmsprop', loss='binary_crossentropy')\n",
    "    \n",
    "    return model"
   ]
  },
  {
   "cell_type": "code",
   "execution_count": 28,
   "metadata": {
    "collapsed": true,
    "scrolled": true
   },
   "outputs": [],
   "source": [
    "VALIDATION_METRICS_FILENAME= '{}_validation_metrics.pkl'.format(classifications_type)\n",
    "TRAINING_METRICS_FILENAME = '{}_training_metrics.pkl'.format(classifications_type)\n",
    "TEST_METRICS_FILENAME = '{}_test_metrics.pkl'.format(classifications_type)\n",
    "METRICS_FIG_PNG_FILENAME = '{}_validation_metrics.png'.format(classifications_type)\n",
    "METRICS_FIG_PDF_FILENAME = '{}_validation_metrics.pdf'.format(classifications_type)\n",
    "WORD2VEC_METRICS_FILENAME = 'word2vec_metrics.pkl'\n",
    "\n",
    "# for epoch in range(DOC2VEC_MAX_EPOCHS):\n",
    "#     GLOBAL_VARS.MODEL_NAME = placeholder_model_name.format(epoch)\n",
    "#     ensure_disk_location_exists(os.path.join(doc2vec_model_save_location, GLOBAL_VARS.MODEL_NAME, \n",
    "#                                              GLOBAL_VARS.SVM_MODEL_NAME))\n",
    "#     pickle.dump(metrics, open(os.path.join(doc2vec_model_save_location, GLOBAL_VARS.MODEL_NAME, GLOBAL_VARS.SVM_MODEL_NAME, METRICS), 'w'))\n",
    "# fig_save_location = placeholder_model_name.format('run')\n",
    "# plt.savefig(os.path.join(fig_save_location))"
   ]
  },
  {
   "cell_type": "code",
   "execution_count": 29,
   "metadata": {
    "collapsed": true,
    "scrolled": true
   },
   "outputs": [],
   "source": [
    "get_binary_0_5 = lambda x: 1 if x > 0.5 else 0\n",
    "get_binary_0_5 = np.vectorize(get_binary_0_5)"
   ]
  },
  {
   "cell_type": "code",
   "execution_count": 34,
   "metadata": {
    "collapsed": true,
    "scrolled": true
   },
   "outputs": [],
   "source": [
    "NN_OUTPUT_NEURONS = len(classifications)\n",
    "NN_MAX_EPOCHS = 100\n",
    "NN_RANDOM_SEARCH_BUDGET = 20\n",
    "NN_PARAM_SAMPLE_SEED = 1234\n",
    "\n",
    "NN_BATCH_SIZE = 1024\n",
    "\n",
    "first_hidden_layer_sizes = [100,200,500]\n",
    "# first_hidden_layer_sizes = [1000,2000]\n",
    "# second_hidden_layer_sizes = [1000,2000,3000,4000]\n",
    "second_hidden_layer_sizes = [None,500,1000,2000]\n",
    "first_hidden_layer_activations = ['relu','sigmoid', 'tanh']\n",
    "second_hidden_layer_activations = ['relu','sigmoid', 'tanh']\n",
    "# first_hidden_layer_activations = ['relu']\n",
    "# second_hidden_layer_activations = ['relu']\n",
    "# input_dropout_options = [False, True]\n",
    "# hidden_dropout_options = [False, True]\n",
    "input_dropout_options = [False]\n",
    "hidden_dropout_options = [True]"
   ]
  },
  {
   "cell_type": "markdown",
   "metadata": {},
   "source": [
    "## Actual Parameter searches for NN"
   ]
  },
  {
   "cell_type": "code",
   "execution_count": 45,
   "metadata": {
    "collapsed": true
   },
   "outputs": [],
   "source": [
    "early_stopper_deltas = {\n",
    "    'sections': 0.0001,\n",
    "    'classes': 0.00001,\n",
    "    'subclasses': 0.00001\n",
    "}\n",
    "early_stopper_patience = {\n",
    "    'sections': 5,\n",
    "    'classes': 10,\n",
    "    'subclasses': 10\n",
    "}\n",
    "epochs_before_validation = {\n",
    "    'sections': 10,\n",
    "    'classes': 50,\n",
    "    'subclasses': 50\n",
    "}"
   ]
  },
  {
   "cell_type": "code",
   "execution_count": 46,
   "metadata": {
    "collapsed": true
   },
   "outputs": [],
   "source": [
    "NN_OUTPUT_NEURONS = len(classifications)\n",
    "EARLY_STOPPER_MIN_DELTA = early_stopper_deltas[classifications_type]\n",
    "EARLY_STOPPER_PATIENCE = early_stopper_patience[classifications_type]"
   ]
  },
  {
   "cell_type": "code",
   "execution_count": 37,
   "metadata": {
    "collapsed": false,
    "scrolled": true
   },
   "outputs": [],
   "source": [
    "class MetricsCallback(keras.callbacks.Callback):\n",
    "    \n",
    "    EPOCHS_BEFORE_VALIDATION = epochs_before_validation[classifications_type]\n",
    "    \n",
    "    def on_train_begin(self, logs={}):\n",
    "        self.epoch_index = 0\n",
    "        self.val_loss_reductions = 0\n",
    "        self.metrics_dict = {}\n",
    "        self.best_val_loss = np.iinfo(np.int32).max\n",
    "        self.best_weights = None\n",
    "        self.best_validation_metrics = None\n",
    "    def on_epoch_end(self, epoch, logs={}):\n",
    "        self.epoch_index += 1\n",
    "        if logs['val_loss'] < self.best_val_loss:\n",
    "            self.val_loss_reductions += 1\n",
    "            self.best_val_loss = logs['val_loss']\n",
    "            self.best_weights = self.model.get_weights()\n",
    "            print '\\r    \\r' # to remove the previous line of verbose output of model fit\n",
    "            time.sleep(0.2)\n",
    "            info('Found lower val loss for epoch {} => {}'.format(self.epoch_index, round(logs['val_loss'], 5)))\n",
    "            if self.val_loss_reductions % MetricsCallback.EPOCHS_BEFORE_VALIDATION == 0:\n",
    "                \n",
    "                info('Validation Loss Reduced {} times'.format(self.val_loss_reductions))\n",
    "                info('Evaluating on Validation Data')\n",
    "                yvp = self.model.predict(Xv)\n",
    "                yvp_binary = get_binary_0_5(yvp)\n",
    "                info('Generating Validation Metrics')\n",
    "                validation_metrics = get_metrics(yv, yvp, yvp_binary)\n",
    "                print \"****** Validation Metrics: Cov Err: {:.3f} | Top 3: {:.3f} | Top 5: {:.3f} | F1 Micro: {:.3f} | F1 Macro: {:.3f}\".format(\n",
    "                    validation_metrics['coverage_error'], validation_metrics['top_3'], validation_metrics['top_5'], \n",
    "                    validation_metrics['f1_micro'], validation_metrics['f1_macro'])\n",
    "                self.metrics_dict[self.epoch_index] = validation_metrics\n",
    "#                 self.best_validation_metrics = validation_metrics\n"
   ]
  },
  {
   "cell_type": "code",
   "execution_count": 38,
   "metadata": {
    "collapsed": true,
    "scrolled": true
   },
   "outputs": [],
   "source": [
    "param_sampler = ParameterSampler({\n",
    "        'first_hidden_layer_size':first_hidden_layer_sizes,\n",
    "        'first_hidden_layer_activation':first_hidden_layer_activations,\n",
    "        'second_hidden_layer_size':second_hidden_layer_sizes,\n",
    "        'second_hidden_layer_activation':second_hidden_layer_activations,\n",
    "        'input_dropout':input_dropout_options,\n",
    "        'hidden_dropout':hidden_dropout_options\n",
    "    }, n_iter=NN_RANDOM_SEARCH_BUDGET, random_state=NN_PARAM_SAMPLE_SEED)"
   ]
  },
  {
   "cell_type": "code",
   "execution_count": 39,
   "metadata": {
    "collapsed": true
   },
   "outputs": [],
   "source": [
    "param_results_dict = {}"
   ]
  },
  {
   "cell_type": "markdown",
   "metadata": {},
   "source": [
    "Load param results if needed to continue"
   ]
  },
  {
   "cell_type": "code",
   "execution_count": 38,
   "metadata": {
    "collapsed": false
   },
   "outputs": [
    {
     "name": "stdout",
     "output_type": "stream",
     "text": [
      "CPU times: user 6.5 s, sys: 164 ms, total: 6.66 s\n",
      "Wall time: 6.65 s\n"
     ]
    }
   ],
   "source": [
    "%%time\n",
    "param_results_dict = pickle.load(open(os.path.join(os.path.join(nn_parameter_search_location, GLOBAL_VARS.MODEL_NAME, \n",
    "                                           NN_PARAMETER_SEARCH_PREFIX.format(classifications_type, NN_BATCH_SIZE)))))"
   ]
  },
  {
   "cell_type": "code",
   "execution_count": 40,
   "metadata": {
    "collapsed": true
   },
   "outputs": [],
   "source": [
    "# to_skip = []\n",
    "# to_skip = ['nn_1st-size_500_1st-act_softmax_2nd-size_None_2nd-act_softmax_in-drop_True_hid-drop_False', \n",
    "#            'nn_1st-size_200_1st-act_sigmoid_2nd-size_50_2nd-act_sigmoid_in-drop_False_hid-drop_True']\n",
    "to_skip = [\n",
    "    'nn_1st-size_200_1st-act_sigmoid_2nd-size_1000_2nd-act_softmax_in-drop_True_hid-drop_True'\n",
    "#     'nn_1st-size_500_1st-act_tanh_2nd-size_None_2nd-act_sigmoid_in-drop_False_hid-drop_True'\n",
    "]"
   ]
  },
  {
   "cell_type": "code",
   "execution_count": 41,
   "metadata": {
    "collapsed": false,
    "scrolled": false
   },
   "outputs": [
    {
     "name": "stderr",
     "output_type": "stream",
     "text": [
      "2017-02-15 02:13:18,071 : INFO : ***************************************************************************************\n",
      "2017-02-15 02:13:18,073 : INFO : nn_1st-size_500_1st-act_relu_2nd-size_500_2nd-act_tanh_in-drop_False_hid-drop_True\n"
     ]
    },
    {
     "name": "stdout",
     "output_type": "stream",
     "text": [
      "____________________________________________________________________________________________________\n",
      "Layer (type)                     Output Shape          Param #     Connected to                     \n",
      "====================================================================================================\n",
      "doc_input (InputLayer)           (None, 100)           0                                            \n",
      "____________________________________________________________________________________________________\n",
      "hidden_layer_relu (Dense)        (None, 500)           50500       doc_input[0][0]                  \n",
      "____________________________________________________________________________________________________\n",
      "dropout_1 (Dropout)              (None, 500)           0           hidden_layer_relu[0][0]          \n",
      "____________________________________________________________________________________________________\n",
      "hidden_layer2_tanh (Dense)       (None, 500)           250500      dropout_1[0][0]                  \n",
      "____________________________________________________________________________________________________\n",
      "softmax_output (Dense)           (None, 244)           122244      hidden_layer2_tanh[0][0]         \n",
      "====================================================================================================\n",
      "Total params: 423244\n",
      "____________________________________________________________________________________________________\n",
      "Train on 1286325 samples, validate on 321473 samples\n",
      "Epoch 1/100\n",
      "    \n"
     ]
    },
    {
     "name": "stderr",
     "output_type": "stream",
     "text": [
      "2017-02-15 02:13:43,649 : INFO : Found lower val loss for epoch 1 => 0.01015\n"
     ]
    },
    {
     "name": "stdout",
     "output_type": "stream",
     "text": [
      "1286325/1286325 [==============================] - 22s - loss: 0.0137 - val_loss: 0.0102\n",
      "Epoch 2/100\n",
      "    \n"
     ]
    },
    {
     "name": "stderr",
     "output_type": "stream",
     "text": [
      "2017-02-15 02:14:06,690 : INFO : Found lower val loss for epoch 2 => 0.00947\n"
     ]
    },
    {
     "name": "stdout",
     "output_type": "stream",
     "text": [
      "1286325/1286325 [==============================] - 23s - loss: 0.0101 - val_loss: 0.0095\n",
      "Epoch 3/100\n",
      "    \n"
     ]
    },
    {
     "name": "stderr",
     "output_type": "stream",
     "text": [
      "2017-02-15 02:14:29,561 : INFO : Found lower val loss for epoch 3 => 0.00932\n"
     ]
    },
    {
     "name": "stdout",
     "output_type": "stream",
     "text": [
      "1286325/1286325 [==============================] - 22s - loss: 0.0098 - val_loss: 0.0093\n",
      "Epoch 4/100\n",
      "    \n"
     ]
    },
    {
     "name": "stderr",
     "output_type": "stream",
     "text": [
      "2017-02-15 02:14:52,496 : INFO : Found lower val loss for epoch 4 => 0.00909\n"
     ]
    },
    {
     "name": "stdout",
     "output_type": "stream",
     "text": [
      "1286325/1286325 [==============================] - 22s - loss: 0.0097 - val_loss: 0.0091\n",
      "Epoch 5/100\n",
      "    \n"
     ]
    },
    {
     "name": "stderr",
     "output_type": "stream",
     "text": [
      "2017-02-15 02:15:15,497 : INFO : Found lower val loss for epoch 5 => 0.00902\n"
     ]
    },
    {
     "name": "stdout",
     "output_type": "stream",
     "text": [
      "1286325/1286325 [==============================] - 23s - loss: 0.0096 - val_loss: 0.0090\n",
      "Epoch 6/100\n",
      "1286325/1286325 [==============================] - 23s - loss: 0.0095 - val_loss: 0.0090\n",
      "Epoch 7/100\n",
      "    \n"
     ]
    },
    {
     "name": "stderr",
     "output_type": "stream",
     "text": [
      "2017-02-15 02:16:00,564 : INFO : Found lower val loss for epoch 7 => 0.00893\n"
     ]
    },
    {
     "name": "stdout",
     "output_type": "stream",
     "text": [
      "1286325/1286325 [==============================] - 21s - loss: 0.0094 - val_loss: 0.0089\n",
      "Epoch 8/100\n",
      "1286325/1286325 [==============================] - 23s - loss: 0.0094 - val_loss: 0.0090\n",
      "Epoch 9/100\n",
      "    \n"
     ]
    },
    {
     "name": "stderr",
     "output_type": "stream",
     "text": [
      "2017-02-15 02:16:44,924 : INFO : Found lower val loss for epoch 9 => 0.00884\n"
     ]
    },
    {
     "name": "stdout",
     "output_type": "stream",
     "text": [
      "1286325/1286325 [==============================] - 21s - loss: 0.0093 - val_loss: 0.0088\n",
      "Epoch 10/100\n",
      "    \n"
     ]
    },
    {
     "name": "stderr",
     "output_type": "stream",
     "text": [
      "2017-02-15 02:17:08,443 : INFO : Found lower val loss for epoch 10 => 0.00881\n"
     ]
    },
    {
     "name": "stdout",
     "output_type": "stream",
     "text": [
      "1286325/1286325 [==============================] - 23s - loss: 0.0093 - val_loss: 0.0088\n",
      "Epoch 11/100\n",
      "    \n"
     ]
    },
    {
     "name": "stderr",
     "output_type": "stream",
     "text": [
      "2017-02-15 02:17:30,596 : INFO : Found lower val loss for epoch 11 => 0.00877\n"
     ]
    },
    {
     "name": "stdout",
     "output_type": "stream",
     "text": [
      "1286325/1286325 [==============================] - 22s - loss: 0.0093 - val_loss: 0.0088\n",
      "Epoch 12/100\n",
      "    \n"
     ]
    },
    {
     "name": "stderr",
     "output_type": "stream",
     "text": [
      "2017-02-15 02:17:53,962 : INFO : Found lower val loss for epoch 12 => 0.00877\n"
     ]
    },
    {
     "name": "stdout",
     "output_type": "stream",
     "text": [
      "1286325/1286325 [==============================] - 23s - loss: 0.0092 - val_loss: 0.0088\n",
      "Epoch 13/100\n",
      "    \n"
     ]
    },
    {
     "name": "stderr",
     "output_type": "stream",
     "text": [
      "2017-02-15 02:18:16,322 : INFO : Found lower val loss for epoch 13 => 0.00871\n"
     ]
    },
    {
     "name": "stdout",
     "output_type": "stream",
     "text": [
      "1286325/1286325 [==============================] - 22s - loss: 0.0092 - val_loss: 0.0087\n",
      "Epoch 14/100\n",
      "1286325/1286325 [==============================] - 22s - loss: 0.0092 - val_loss: 0.0088\n",
      "Epoch 15/100\n",
      "1286325/1286325 [==============================] - 21s - loss: 0.0092 - val_loss: 0.0088\n",
      "Epoch 16/100\n",
      "    \n"
     ]
    },
    {
     "name": "stderr",
     "output_type": "stream",
     "text": [
      "2017-02-15 02:19:22,752 : INFO : Found lower val loss for epoch 16 => 0.00868\n"
     ]
    },
    {
     "name": "stdout",
     "output_type": "stream",
     "text": [
      "1286325/1286325 [==============================] - 21s - loss: 0.0092 - val_loss: 0.0087\n",
      "Epoch 17/100\n",
      "1286325/1286325 [==============================] - 22s - loss: 0.0091 - val_loss: 0.0087\n",
      "Epoch 18/100\n",
      "1286325/1286325 [==============================] - 22s - loss: 0.0091 - val_loss: 0.0088\n",
      "Epoch 19/100\n",
      "    \n"
     ]
    },
    {
     "name": "stderr",
     "output_type": "stream",
     "text": [
      "2017-02-15 02:20:31,164 : INFO : Found lower val loss for epoch 19 => 0.00868\n"
     ]
    },
    {
     "name": "stdout",
     "output_type": "stream",
     "text": [
      "1286325/1286325 [==============================] - 23s - loss: 0.0091 - val_loss: 0.0087\n",
      "Epoch 20/100\n",
      "1286325/1286325 [==============================] - 22s - loss: 0.0091 - val_loss: 0.0087\n",
      "Epoch 21/100\n",
      "1286325/1286325 [==============================] - 22s - loss: 0.0091 - val_loss: 0.0087\n",
      "Epoch 22/100\n",
      "1286325/1286325 [==============================] - 22s - loss: 0.0091 - val_loss: 0.0087\n",
      "Epoch 23/100\n",
      "    \n"
     ]
    },
    {
     "name": "stderr",
     "output_type": "stream",
     "text": [
      "2017-02-15 02:22:01,908 : INFO : Found lower val loss for epoch 23 => 0.00863\n"
     ]
    },
    {
     "name": "stdout",
     "output_type": "stream",
     "text": [
      "1286325/1286325 [==============================] - 22s - loss: 0.0091 - val_loss: 0.0086\n",
      "Epoch 24/100\n",
      "1286325/1286325 [==============================] - 23s - loss: 0.0091 - val_loss: 0.0086\n",
      "Epoch 25/100\n",
      "1286325/1286325 [==============================] - 23s - loss: 0.0091 - val_loss: 0.0087\n",
      "Epoch 26/100\n",
      "1286325/1286325 [==============================] - 22s - loss: 0.0091 - val_loss: 0.0086\n",
      "Epoch 27/100\n",
      "1286325/1286325 [==============================] - 22s - loss: 0.0091 - val_loss: 0.0087\n",
      "Epoch 28/100\n",
      "1286325/1286325 [==============================] - 23s - loss: 0.0091 - val_loss: 0.0087\n",
      "Epoch 29/100\n",
      "1286325/1286325 [==============================] - 22s - loss: 0.0091 - val_loss: 0.0086\n",
      "Epoch 30/100\n",
      "1286325/1286325 [==============================] - 22s - loss: 0.0091 - val_loss: 0.0087\n",
      "Epoch 31/100\n",
      "1286325/1286325 [==============================] - 21s - loss: 0.0091 - val_loss: 0.0087\n",
      "Epoch 32/100\n",
      "1286325/1286325 [==============================] - 22s - loss: 0.0090 - val_loss: 0.0086\n",
      "Epoch 33/100\n",
      "1286325/1286325 [==============================] - 21s - loss: 0.0090 - val_loss: 0.0086\n",
      "Epoch 34/100\n",
      "    \n"
     ]
    },
    {
     "name": "stderr",
     "output_type": "stream",
     "text": [
      "2017-02-15 02:26:08,634 : INFO : Found lower val loss for epoch 34 => 0.00861\n"
     ]
    },
    {
     "name": "stdout",
     "output_type": "stream",
     "text": [
      "1286325/1286325 [==============================] - 22s - loss: 0.0090 - val_loss: 0.0086\n",
      "Epoch 35/100\n",
      "1286325/1286325 [==============================] - 22s - loss: 0.0090 - val_loss: 0.0086\n",
      "Epoch 36/100\n",
      "1286325/1286325 [==============================] - 22s - loss: 0.0090 - val_loss: 0.0086\n",
      "Epoch 37/100\n",
      "    \n"
     ]
    },
    {
     "name": "stderr",
     "output_type": "stream",
     "text": [
      "2017-02-15 02:27:15,766 : INFO : Found lower val loss for epoch 37 => 0.00858\n"
     ]
    },
    {
     "name": "stdout",
     "output_type": "stream",
     "text": [
      "1286325/1286325 [==============================] - 22s - loss: 0.0090 - val_loss: 0.0086\n",
      "Epoch 38/100\n",
      "1286325/1286325 [==============================] - 23s - loss: 0.0090 - val_loss: 0.0086\n",
      "Epoch 39/100\n",
      "1286325/1286325 [==============================] - 23s - loss: 0.0090 - val_loss: 0.0087\n",
      "Epoch 40/100\n",
      "1286325/1286325 [==============================] - 23s - loss: 0.0090 - val_loss: 0.0087\n",
      "Epoch 41/100\n",
      "1286325/1286325 [==============================] - 23s - loss: 0.0090 - val_loss: 0.0088\n",
      "Epoch 42/100\n",
      "1286325/1286325 [==============================] - 21s - loss: 0.0090 - val_loss: 0.0087\n",
      "Epoch 43/100\n",
      "1286325/1286325 [==============================] - 22s - loss: 0.0090 - val_loss: 0.0086\n",
      "Epoch 44/100\n",
      "1286325/1286325 [==============================] - 21s - loss: 0.0090 - val_loss: 0.0087\n",
      "Epoch 45/100\n",
      "1286325/1286325 [==============================] - 22s - loss: 0.0090 - val_loss: 0.0086\n",
      "Epoch 46/100\n",
      "1286325/1286325 [==============================] - 20s - loss: 0.0090 - val_loss: 0.0087\n",
      "Epoch 47/100\n",
      "1286325/1286325 [==============================] - 22s - loss: 0.0090 - val_loss: 0.0086\n",
      "Epoch 48/100\n",
      "    \n"
     ]
    },
    {
     "name": "stderr",
     "output_type": "stream",
     "text": [
      "2017-02-15 02:31:23,112 : INFO : Found lower val loss for epoch 48 => 0.00856\n"
     ]
    },
    {
     "name": "stdout",
     "output_type": "stream",
     "text": [
      "1286325/1286325 [==============================] - 23s - loss: 0.0090 - val_loss: 0.0086\n",
      "Epoch 49/100\n",
      "    \n"
     ]
    },
    {
     "name": "stderr",
     "output_type": "stream",
     "text": [
      "2017-02-15 02:31:45,768 : INFO : Found lower val loss for epoch 49 => 0.00855\n"
     ]
    },
    {
     "name": "stdout",
     "output_type": "stream",
     "text": [
      "1286325/1286325 [==============================] - 22s - loss: 0.0090 - val_loss: 0.0086\n",
      "Epoch 50/100\n",
      "1286325/1286325 [==============================] - 23s - loss: 0.0090 - val_loss: 0.0086\n",
      "Epoch 51/100\n",
      "1286325/1286325 [==============================] - 23s - loss: 0.0090 - val_loss: 0.0087\n",
      "Epoch 52/100\n",
      "1286325/1286325 [==============================] - 22s - loss: 0.0090 - val_loss: 0.0086\n",
      "Epoch 53/100\n",
      "1286325/1286325 [==============================] - 22s - loss: 0.0090 - val_loss: 0.0087\n",
      "Epoch 54/100\n",
      "1286325/1286325 [==============================] - 22s - loss: 0.0090 - val_loss: 0.0086\n",
      "Epoch 55/100\n",
      "1286325/1286325 [==============================] - 21s - loss: 0.0090 - val_loss: 0.0086\n",
      "Epoch 56/100\n",
      "1286325/1286325 [==============================] - 22s - loss: 0.0090 - val_loss: 0.0087\n",
      "Epoch 57/100\n",
      "1286325/1286325 [==============================] - 22s - loss: 0.0090 - val_loss: 0.0086\n",
      "Epoch 58/100\n",
      "1286325/1286325 [==============================] - 23s - loss: 0.0090 - val_loss: 0.0086\n",
      "Epoch 59/100\n",
      "1286325/1286325 [==============================] - 22s - loss: 0.0090 - val_loss: 0.0088"
     ]
    },
    {
     "name": "stderr",
     "output_type": "stream",
     "text": [
      "2017-02-15 02:35:32,993 : INFO : Evaluating on Validation Data using saved best weights\n"
     ]
    },
    {
     "name": "stdout",
     "output_type": "stream",
     "text": [
      "\n",
      "Epoch 00058: early stopping\n",
      "CPU times: user 7min 43s, sys: 20min 4s, total: 27min 48s\n",
      "Wall time: 22min 14s\n"
     ]
    },
    {
     "name": "stderr",
     "output_type": "stream",
     "text": [
      "2017-02-15 02:35:57,739 : INFO : Generating Validation Metrics\n",
      "/home/stud/shalaby/.virtualenv/thesis-env/local/lib/python2.7/site-packages/sklearn/metrics/classification.py:1113: UndefinedMetricWarning: Precision is ill-defined and being set to 0.0 in labels with no predicted samples.\n",
      "  'precision', 'predicted', average, warn_for)\n",
      "/home/stud/shalaby/.virtualenv/thesis-env/local/lib/python2.7/site-packages/sklearn/metrics/classification.py:1115: UndefinedMetricWarning: Recall is ill-defined and being set to 0.0 in labels with no true samples.\n",
      "  'recall', 'true', average, warn_for)\n",
      "/home/stud/shalaby/.virtualenv/thesis-env/local/lib/python2.7/site-packages/sklearn/metrics/classification.py:1113: UndefinedMetricWarning: F-score is ill-defined and being set to 0.0 in labels with no predicted samples.\n",
      "  'precision', 'predicted', average, warn_for)\n",
      "/home/stud/shalaby/.virtualenv/thesis-env/local/lib/python2.7/site-packages/sklearn/metrics/classification.py:1115: UndefinedMetricWarning: F-score is ill-defined and being set to 0.0 in labels with no true samples.\n",
      "  'recall', 'true', average, warn_for)\n",
      "/home/stud/shalaby/.virtualenv/thesis-env/local/lib/python2.7/site-packages/sklearn/metrics/classification.py:1113: UndefinedMetricWarning: Precision is ill-defined and being set to 0.0 due to no predicted samples.\n",
      "  'precision', 'predicted', average, warn_for)\n",
      "/home/stud/shalaby/.virtualenv/thesis-env/local/lib/python2.7/site-packages/sklearn/metrics/classification.py:1113: UndefinedMetricWarning: F-score is ill-defined and being set to 0.0 due to no predicted samples.\n",
      "  'precision', 'predicted', average, warn_for)\n",
      "2017-02-15 02:37:23,375 : INFO : ***************************************************************************************\n",
      "2017-02-15 02:37:23,377 : INFO : nn_1st-size_200_1st-act_sigmoid_2nd-size_500_2nd-act_tanh_in-drop_False_hid-drop_True\n"
     ]
    },
    {
     "name": "stdout",
     "output_type": "stream",
     "text": [
      "****** Validation Metrics: Cov Err: 2.794 | Top 3: 0.857 | Top 5: 0.918 | F1 Micro: 0.664 | F1 Macro: 0.182\n",
      "____________________________________________________________________________________________________\n",
      "Layer (type)                     Output Shape          Param #     Connected to                     \n",
      "====================================================================================================\n",
      "doc_input (InputLayer)           (None, 100)           0                                            \n",
      "____________________________________________________________________________________________________\n",
      "hidden_layer_sigmoid (Dense)     (None, 200)           20200       doc_input[0][0]                  \n",
      "____________________________________________________________________________________________________\n",
      "dropout_2 (Dropout)              (None, 200)           0           hidden_layer_sigmoid[0][0]       \n",
      "____________________________________________________________________________________________________\n",
      "hidden_layer2_tanh (Dense)       (None, 500)           100500      dropout_2[0][0]                  \n",
      "____________________________________________________________________________________________________\n",
      "softmax_output (Dense)           (None, 244)           122244      hidden_layer2_tanh[0][0]         \n",
      "====================================================================================================\n",
      "Total params: 242944\n",
      "____________________________________________________________________________________________________\n",
      "Train on 1286325 samples, validate on 321473 samples\n",
      "Epoch 1/100\n",
      "    \n"
     ]
    },
    {
     "name": "stderr",
     "output_type": "stream",
     "text": [
      "2017-02-15 02:37:46,714 : INFO : Found lower val loss for epoch 1 => 0.01181\n"
     ]
    },
    {
     "name": "stdout",
     "output_type": "stream",
     "text": [
      "1286325/1286325 [==============================] - 21s - loss: 0.0166 - val_loss: 0.0118\n",
      "Epoch 2/100\n",
      "    \n"
     ]
    },
    {
     "name": "stderr",
     "output_type": "stream",
     "text": [
      "2017-02-15 02:38:09,859 : INFO : Found lower val loss for epoch 2 => 0.01114\n"
     ]
    },
    {
     "name": "stdout",
     "output_type": "stream",
     "text": [
      "1286325/1286325 [==============================] - 23s - loss: 0.0122 - val_loss: 0.0111\n",
      "Epoch 3/100\n",
      "    \n"
     ]
    },
    {
     "name": "stderr",
     "output_type": "stream",
     "text": [
      "2017-02-15 02:38:31,638 : INFO : Found lower val loss for epoch 3 => 0.01068\n"
     ]
    },
    {
     "name": "stdout",
     "output_type": "stream",
     "text": [
      "1286325/1286325 [==============================] - 21s - loss: 0.0116 - val_loss: 0.0107\n",
      "Epoch 4/100\n",
      "    \n"
     ]
    },
    {
     "name": "stderr",
     "output_type": "stream",
     "text": [
      "2017-02-15 02:38:53,834 : INFO : Found lower val loss for epoch 4 => 0.01044\n"
     ]
    },
    {
     "name": "stdout",
     "output_type": "stream",
     "text": [
      "1286325/1286325 [==============================] - 22s - loss: 0.0113 - val_loss: 0.0104\n",
      "Epoch 5/100\n",
      "    \n"
     ]
    },
    {
     "name": "stderr",
     "output_type": "stream",
     "text": [
      "2017-02-15 02:39:15,597 : INFO : Found lower val loss for epoch 5 => 0.01022\n"
     ]
    },
    {
     "name": "stdout",
     "output_type": "stream",
     "text": [
      "1286325/1286325 [==============================] - 21s - loss: 0.0111 - val_loss: 0.0102\n",
      "Epoch 6/100\n",
      "    \n"
     ]
    },
    {
     "name": "stderr",
     "output_type": "stream",
     "text": [
      "2017-02-15 02:39:36,850 : INFO : Found lower val loss for epoch 6 => 0.01013\n"
     ]
    },
    {
     "name": "stdout",
     "output_type": "stream",
     "text": [
      "1286325/1286325 [==============================] - 21s - loss: 0.0110 - val_loss: 0.0101\n",
      "Epoch 7/100\n",
      "    \n"
     ]
    },
    {
     "name": "stderr",
     "output_type": "stream",
     "text": [
      "2017-02-15 02:39:58,198 : INFO : Found lower val loss for epoch 7 => 0.00998\n"
     ]
    },
    {
     "name": "stdout",
     "output_type": "stream",
     "text": [
      "1286325/1286325 [==============================] - 21s - loss: 0.0109 - val_loss: 0.0100\n",
      "Epoch 8/100\n",
      "1286325/1286325 [==============================] - 21s - loss: 0.0108 - val_loss: 0.0100\n",
      "Epoch 9/100\n",
      "    \n"
     ]
    },
    {
     "name": "stderr",
     "output_type": "stream",
     "text": [
      "2017-02-15 02:40:41,531 : INFO : Found lower val loss for epoch 9 => 0.0099\n"
     ]
    },
    {
     "name": "stdout",
     "output_type": "stream",
     "text": [
      "1286325/1286325 [==============================] - 21s - loss: 0.0107 - val_loss: 0.0099\n",
      "Epoch 10/100\n",
      "    \n"
     ]
    },
    {
     "name": "stderr",
     "output_type": "stream",
     "text": [
      "2017-02-15 02:41:03,719 : INFO : Found lower val loss for epoch 10 => 0.00975\n"
     ]
    },
    {
     "name": "stdout",
     "output_type": "stream",
     "text": [
      "1286325/1286325 [==============================] - 22s - loss: 0.0106 - val_loss: 0.0098\n",
      "Epoch 11/100\n",
      "1286325/1286325 [==============================] - 22s - loss: 0.0106 - val_loss: 0.0098\n",
      "Epoch 12/100\n",
      "1286325/1286325 [==============================] - 23s - loss: 0.0106 - val_loss: 0.0098\n",
      "Epoch 13/100\n",
      "    \n"
     ]
    },
    {
     "name": "stderr",
     "output_type": "stream",
     "text": [
      "2017-02-15 02:42:12,092 : INFO : Found lower val loss for epoch 13 => 0.00971\n"
     ]
    },
    {
     "name": "stdout",
     "output_type": "stream",
     "text": [
      "1286325/1286325 [==============================] - 22s - loss: 0.0105 - val_loss: 0.0097\n",
      "Epoch 14/100\n",
      "    \n"
     ]
    },
    {
     "name": "stderr",
     "output_type": "stream",
     "text": [
      "2017-02-15 02:42:34,741 : INFO : Found lower val loss for epoch 14 => 0.0096\n"
     ]
    },
    {
     "name": "stdout",
     "output_type": "stream",
     "text": [
      "1286325/1286325 [==============================] - 22s - loss: 0.0105 - val_loss: 0.0096\n",
      "Epoch 15/100\n",
      "1286325/1286325 [==============================] - 23s - loss: 0.0104 - val_loss: 0.0097\n",
      "Epoch 16/100\n",
      "1286325/1286325 [==============================] - 22s - loss: 0.0104 - val_loss: 0.0096\n",
      "Epoch 17/100\n",
      "1286325/1286325 [==============================] - 22s - loss: 0.0104 - val_loss: 0.0096\n",
      "Epoch 18/100\n",
      "1286325/1286325 [==============================] - 21s - loss: 0.0104 - val_loss: 0.0096\n",
      "Epoch 19/100\n",
      "    \n"
     ]
    },
    {
     "name": "stderr",
     "output_type": "stream",
     "text": [
      "2017-02-15 02:44:25,145 : INFO : Found lower val loss for epoch 19 => 0.00948\n"
     ]
    },
    {
     "name": "stdout",
     "output_type": "stream",
     "text": [
      "1286325/1286325 [==============================] - 21s - loss: 0.0104 - val_loss: 0.0095\n",
      "Epoch 20/100\n",
      "1286325/1286325 [==============================] - 21s - loss: 0.0103 - val_loss: 0.0095\n",
      "Epoch 21/100\n",
      "1286325/1286325 [==============================] - 22s - loss: 0.0103 - val_loss: 0.0095\n",
      "Epoch 22/100\n",
      "1286325/1286325 [==============================] - 21s - loss: 0.0103 - val_loss: 0.0095\n",
      "Epoch 23/100\n",
      "    \n"
     ]
    },
    {
     "name": "stderr",
     "output_type": "stream",
     "text": [
      "2017-02-15 02:45:53,484 : INFO : Found lower val loss for epoch 23 => 0.00948\n"
     ]
    },
    {
     "name": "stdout",
     "output_type": "stream",
     "text": [
      "1286325/1286325 [==============================] - 22s - loss: 0.0103 - val_loss: 0.0095\n",
      "Epoch 24/100\n",
      "    \n"
     ]
    },
    {
     "name": "stderr",
     "output_type": "stream",
     "text": [
      "2017-02-15 02:46:16,126 : INFO : Found lower val loss for epoch 24 => 0.00942\n"
     ]
    },
    {
     "name": "stdout",
     "output_type": "stream",
     "text": [
      "1286325/1286325 [==============================] - 22s - loss: 0.0103 - val_loss: 0.0094\n",
      "Epoch 25/100\n",
      "1286325/1286325 [==============================] - 21s - loss: 0.0103 - val_loss: 0.0095\n",
      "Epoch 26/100\n",
      "1286325/1286325 [==============================] - 21s - loss: 0.0103 - val_loss: 0.0095\n",
      "Epoch 27/100\n",
      "1286325/1286325 [==============================] - 22s - loss: 0.0103 - val_loss: 0.0095\n",
      "Epoch 28/100\n",
      "    \n"
     ]
    },
    {
     "name": "stderr",
     "output_type": "stream",
     "text": [
      "2017-02-15 02:47:44,042 : INFO : Found lower val loss for epoch 28 => 0.00939\n"
     ]
    },
    {
     "name": "stdout",
     "output_type": "stream",
     "text": [
      "1286325/1286325 [==============================] - 22s - loss: 0.0102 - val_loss: 0.0094\n",
      "Epoch 29/100\n",
      "    \n"
     ]
    },
    {
     "name": "stderr",
     "output_type": "stream",
     "text": [
      "2017-02-15 02:48:05,149 : INFO : Found lower val loss for epoch 29 => 0.00937\n"
     ]
    },
    {
     "name": "stdout",
     "output_type": "stream",
     "text": [
      "1286325/1286325 [==============================] - 21s - loss: 0.0102 - val_loss: 0.0094\n",
      "Epoch 30/100\n",
      "1286325/1286325 [==============================] - 21s - loss: 0.0102 - val_loss: 0.0095\n",
      "Epoch 31/100\n",
      "1286325/1286325 [==============================] - 21s - loss: 0.0102 - val_loss: 0.0094\n",
      "Epoch 32/100\n",
      "1286325/1286325 [==============================] - 21s - loss: 0.0102 - val_loss: 0.0094\n",
      "Epoch 33/100\n",
      "1286325/1286325 [==============================] - 22s - loss: 0.0102 - val_loss: 0.0094\n",
      "Epoch 34/100\n",
      "1286325/1286325 [==============================] - 21s - loss: 0.0102 - val_loss: 0.0094\n",
      "Epoch 35/100\n",
      "    \n"
     ]
    },
    {
     "name": "stderr",
     "output_type": "stream",
     "text": [
      "2017-02-15 02:50:14,676 : INFO : Found lower val loss for epoch 35 => 0.00933\n"
     ]
    },
    {
     "name": "stdout",
     "output_type": "stream",
     "text": [
      "1286325/1286325 [==============================] - 20s - loss: 0.0102 - val_loss: 0.0093\n",
      "Epoch 36/100\n",
      "1286325/1286325 [==============================] - 19s - loss: 0.0102 - val_loss: 0.0095\n",
      "Epoch 37/100\n",
      "1286325/1286325 [==============================] - 21s - loss: 0.0102 - val_loss: 0.0094\n",
      "Epoch 38/100\n",
      "1286325/1286325 [==============================] - 22s - loss: 0.0102 - val_loss: 0.0094\n",
      "Epoch 39/100\n",
      "1286325/1286325 [==============================] - 22s - loss: 0.0102 - val_loss: 0.0094\n",
      "Epoch 40/100\n",
      "    \n"
     ]
    },
    {
     "name": "stderr",
     "output_type": "stream",
     "text": [
      "2017-02-15 02:52:03,853 : INFO : Found lower val loss for epoch 40 => 0.00932\n"
     ]
    },
    {
     "name": "stdout",
     "output_type": "stream",
     "text": [
      "1286325/1286325 [==============================] - 23s - loss: 0.0102 - val_loss: 0.0093\n",
      "Epoch 41/100\n",
      "1286325/1286325 [==============================] - 21s - loss: 0.0102 - val_loss: 0.0093\n",
      "Epoch 42/100\n",
      "    \n"
     ]
    },
    {
     "name": "stderr",
     "output_type": "stream",
     "text": [
      "2017-02-15 02:52:47,256 : INFO : Found lower val loss for epoch 42 => 0.00932\n"
     ]
    },
    {
     "name": "stdout",
     "output_type": "stream",
     "text": [
      "1286325/1286325 [==============================] - 21s - loss: 0.0101 - val_loss: 0.0093\n",
      "Epoch 43/100\n",
      "1286325/1286325 [==============================] - 22s - loss: 0.0101 - val_loss: 0.0094\n",
      "Epoch 44/100\n",
      "1286325/1286325 [==============================] - 21s - loss: 0.0101 - val_loss: 0.0094\n",
      "Epoch 45/100\n",
      "1286325/1286325 [==============================] - 21s - loss: 0.0101 - val_loss: 0.0094\n",
      "Epoch 46/100\n",
      "1286325/1286325 [==============================] - 22s - loss: 0.0101 - val_loss: 0.0094"
     ]
    },
    {
     "name": "stderr",
     "output_type": "stream",
     "text": [
      "2017-02-15 02:54:15,738 : INFO : Evaluating on Validation Data using saved best weights\n"
     ]
    },
    {
     "name": "stdout",
     "output_type": "stream",
     "text": [
      "\n",
      "Epoch 00045: early stopping\n",
      "CPU times: user 5min 48s, sys: 15min 19s, total: 21min 7s\n",
      "Wall time: 16min 52s\n"
     ]
    },
    {
     "name": "stderr",
     "output_type": "stream",
     "text": [
      "2017-02-15 02:54:38,491 : INFO : Generating Validation Metrics\n",
      "2017-02-15 02:56:03,731 : INFO : ***************************************************************************************\n",
      "2017-02-15 02:56:03,733 : INFO : nn_1st-size_200_1st-act_sigmoid_2nd-size_2000_2nd-act_tanh_in-drop_False_hid-drop_True\n"
     ]
    },
    {
     "name": "stdout",
     "output_type": "stream",
     "text": [
      "****** Validation Metrics: Cov Err: 3.117 | Top 3: 0.833 | Top 5: 0.900 | F1 Micro: 0.635 | F1 Macro: 0.133\n",
      "____________________________________________________________________________________________________\n",
      "Layer (type)                     Output Shape          Param #     Connected to                     \n",
      "====================================================================================================\n",
      "doc_input (InputLayer)           (None, 100)           0                                            \n",
      "____________________________________________________________________________________________________\n",
      "hidden_layer_sigmoid (Dense)     (None, 200)           20200       doc_input[0][0]                  \n",
      "____________________________________________________________________________________________________\n",
      "dropout_3 (Dropout)              (None, 200)           0           hidden_layer_sigmoid[0][0]       \n",
      "____________________________________________________________________________________________________\n",
      "hidden_layer2_tanh (Dense)       (None, 2000)          402000      dropout_3[0][0]                  \n",
      "____________________________________________________________________________________________________\n",
      "softmax_output (Dense)           (None, 244)           488244      hidden_layer2_tanh[0][0]         \n",
      "====================================================================================================\n",
      "Total params: 910444\n",
      "____________________________________________________________________________________________________\n",
      "Train on 1286325 samples, validate on 321473 samples\n",
      "Epoch 1/100\n",
      "    \n"
     ]
    },
    {
     "name": "stderr",
     "output_type": "stream",
     "text": [
      "2017-02-15 02:56:31,302 : INFO : Found lower val loss for epoch 1 => 0.01215\n"
     ]
    },
    {
     "name": "stdout",
     "output_type": "stream",
     "text": [
      "1286325/1286325 [==============================] - 26s - loss: 0.0161 - val_loss: 0.0122\n",
      "Epoch 2/100\n",
      "    \n"
     ]
    },
    {
     "name": "stderr",
     "output_type": "stream",
     "text": [
      "2017-02-15 02:56:57,467 : INFO : Found lower val loss for epoch 2 => 0.01151\n"
     ]
    },
    {
     "name": "stdout",
     "output_type": "stream",
     "text": [
      "1286325/1286325 [==============================] - 26s - loss: 0.0124 - val_loss: 0.0115\n",
      "Epoch 3/100\n",
      "    \n"
     ]
    },
    {
     "name": "stderr",
     "output_type": "stream",
     "text": [
      "2017-02-15 02:57:23,877 : INFO : Found lower val loss for epoch 3 => 0.01081\n"
     ]
    },
    {
     "name": "stdout",
     "output_type": "stream",
     "text": [
      "1286325/1286325 [==============================] - 26s - loss: 0.0118 - val_loss: 0.0108\n",
      "Epoch 4/100\n",
      "    \n"
     ]
    },
    {
     "name": "stderr",
     "output_type": "stream",
     "text": [
      "2017-02-15 02:57:50,142 : INFO : Found lower val loss for epoch 4 => 0.0106\n"
     ]
    },
    {
     "name": "stdout",
     "output_type": "stream",
     "text": [
      "1286325/1286325 [==============================] - 26s - loss: 0.0114 - val_loss: 0.0106\n",
      "Epoch 5/100\n",
      "    \n"
     ]
    },
    {
     "name": "stderr",
     "output_type": "stream",
     "text": [
      "2017-02-15 02:58:16,240 : INFO : Found lower val loss for epoch 5 => 0.01043\n"
     ]
    },
    {
     "name": "stdout",
     "output_type": "stream",
     "text": [
      "1286325/1286325 [==============================] - 26s - loss: 0.0112 - val_loss: 0.0104\n",
      "Epoch 6/100\n",
      "    \n"
     ]
    },
    {
     "name": "stderr",
     "output_type": "stream",
     "text": [
      "2017-02-15 02:58:42,494 : INFO : Found lower val loss for epoch 6 => 0.01026\n"
     ]
    },
    {
     "name": "stdout",
     "output_type": "stream",
     "text": [
      "1286325/1286325 [==============================] - 26s - loss: 0.0110 - val_loss: 0.0103\n",
      "Epoch 7/100\n",
      "1286144/1286325 [============================>.] - ETA: 0s - loss: 0.0109"
     ]
    },
    {
     "name": "stderr",
     "output_type": "stream",
     "text": [
      "2017-02-15 02:59:08,089 : INFO : Found lower val loss for epoch 7 => 0.01012\n"
     ]
    },
    {
     "name": "stdout",
     "output_type": "stream",
     "text": [
      "    \n",
      "1286325/1286325 [==============================] - 25s - loss: 0.0109 - val_loss: 0.0101\n",
      "Epoch 8/100\n",
      "    \n"
     ]
    },
    {
     "name": "stderr",
     "output_type": "stream",
     "text": [
      "2017-02-15 02:59:34,213 : INFO : Found lower val loss for epoch 8 => 0.01009\n"
     ]
    },
    {
     "name": "stdout",
     "output_type": "stream",
     "text": [
      "1286325/1286325 [==============================] - 26s - loss: 0.0108 - val_loss: 0.0101\n",
      "Epoch 9/100\n",
      "    \n"
     ]
    },
    {
     "name": "stderr",
     "output_type": "stream",
     "text": [
      "2017-02-15 03:00:00,256 : INFO : Found lower val loss for epoch 9 => 0.00998\n"
     ]
    },
    {
     "name": "stdout",
     "output_type": "stream",
     "text": [
      "1286325/1286325 [==============================] - 26s - loss: 0.0107 - val_loss: 0.0100\n",
      "Epoch 10/100\n",
      "1286325/1286325 [==============================] - 25s - loss: 0.0107 - val_loss: 0.0100\n",
      "Epoch 11/100\n",
      "    \n"
     ]
    },
    {
     "name": "stderr",
     "output_type": "stream",
     "text": [
      "2017-02-15 03:00:51,711 : INFO : Found lower val loss for epoch 11 => 0.00976\n"
     ]
    },
    {
     "name": "stdout",
     "output_type": "stream",
     "text": [
      "1286325/1286325 [==============================] - 25s - loss: 0.0106 - val_loss: 0.0098\n",
      "Epoch 12/100\n",
      "1286325/1286325 [==============================] - 25s - loss: 0.0106 - val_loss: 0.0100\n",
      "Epoch 13/100\n",
      "1286325/1286325 [==============================] - 25s - loss: 0.0105 - val_loss: 0.0098\n",
      "Epoch 14/100\n",
      "1286325/1286325 [==============================] - 25s - loss: 0.0105 - val_loss: 0.0098\n",
      "Epoch 15/100\n",
      "    \n"
     ]
    },
    {
     "name": "stderr",
     "output_type": "stream",
     "text": [
      "2017-02-15 03:02:35,669 : INFO : Found lower val loss for epoch 15 => 0.0097\n"
     ]
    },
    {
     "name": "stdout",
     "output_type": "stream",
     "text": [
      "1286325/1286325 [==============================] - 26s - loss: 0.0104 - val_loss: 0.0097\n",
      "Epoch 16/100\n",
      "    \n"
     ]
    },
    {
     "name": "stderr",
     "output_type": "stream",
     "text": [
      "2017-02-15 03:03:01,741 : INFO : Found lower val loss for epoch 16 => 0.00964\n"
     ]
    },
    {
     "name": "stdout",
     "output_type": "stream",
     "text": [
      "1286325/1286325 [==============================] - 26s - loss: 0.0104 - val_loss: 0.0096\n",
      "Epoch 17/100\n",
      "1286325/1286325 [==============================] - 25s - loss: 0.0104 - val_loss: 0.0097\n",
      "Epoch 18/100\n",
      "    \n"
     ]
    },
    {
     "name": "stderr",
     "output_type": "stream",
     "text": [
      "2017-02-15 03:03:52,482 : INFO : Found lower val loss for epoch 18 => 0.0096\n"
     ]
    },
    {
     "name": "stdout",
     "output_type": "stream",
     "text": [
      "1286325/1286325 [==============================] - 25s - loss: 0.0104 - val_loss: 0.0096\n",
      "Epoch 19/100\n",
      "    \n"
     ]
    },
    {
     "name": "stderr",
     "output_type": "stream",
     "text": [
      "2017-02-15 03:04:18,169 : INFO : Found lower val loss for epoch 19 => 0.00956\n"
     ]
    },
    {
     "name": "stdout",
     "output_type": "stream",
     "text": [
      "1286325/1286325 [==============================] - 25s - loss: 0.0104 - val_loss: 0.0096\n",
      "Epoch 20/100\n",
      "1286325/1286325 [==============================] - 26s - loss: 0.0103 - val_loss: 0.0096\n",
      "Epoch 21/100\n",
      "    \n"
     ]
    },
    {
     "name": "stderr",
     "output_type": "stream",
     "text": [
      "2017-02-15 03:05:09,782 : INFO : Found lower val loss for epoch 21 => 0.00953\n"
     ]
    },
    {
     "name": "stdout",
     "output_type": "stream",
     "text": [
      "1286325/1286325 [==============================] - 25s - loss: 0.0103 - val_loss: 0.0095\n",
      "Epoch 22/100\n",
      "    \n"
     ]
    },
    {
     "name": "stderr",
     "output_type": "stream",
     "text": [
      "2017-02-15 03:05:35,585 : INFO : Found lower val loss for epoch 22 => 0.00951\n"
     ]
    },
    {
     "name": "stdout",
     "output_type": "stream",
     "text": [
      "1286325/1286325 [==============================] - 25s - loss: 0.0103 - val_loss: 0.0095\n",
      "Epoch 23/100\n",
      "1286325/1286325 [==============================] - 25s - loss: 0.0103 - val_loss: 0.0097\n",
      "Epoch 24/100\n",
      "    \n"
     ]
    },
    {
     "name": "stderr",
     "output_type": "stream",
     "text": [
      "2017-02-15 03:06:26,398 : INFO : Found lower val loss for epoch 24 => 0.0095\n"
     ]
    },
    {
     "name": "stdout",
     "output_type": "stream",
     "text": [
      "1286325/1286325 [==============================] - 25s - loss: 0.0103 - val_loss: 0.0095\n",
      "Epoch 25/100\n",
      "1286325/1286325 [==============================] - 25s - loss: 0.0103 - val_loss: 0.0096\n",
      "Epoch 26/100\n",
      "    \n"
     ]
    },
    {
     "name": "stderr",
     "output_type": "stream",
     "text": [
      "2017-02-15 03:07:16,809 : INFO : Found lower val loss for epoch 26 => 0.00946\n"
     ]
    },
    {
     "name": "stdout",
     "output_type": "stream",
     "text": [
      "1286325/1286325 [==============================] - 25s - loss: 0.0103 - val_loss: 0.0095\n",
      "Epoch 27/100\n",
      "1286325/1286325 [==============================] - 25s - loss: 0.0102 - val_loss: 0.0096\n",
      "Epoch 28/100\n",
      "    \n"
     ]
    },
    {
     "name": "stderr",
     "output_type": "stream",
     "text": [
      "2017-02-15 03:08:07,939 : INFO : Found lower val loss for epoch 28 => 0.00941\n"
     ]
    },
    {
     "name": "stdout",
     "output_type": "stream",
     "text": [
      "1286325/1286325 [==============================] - 25s - loss: 0.0102 - val_loss: 0.0094\n",
      "Epoch 29/100\n",
      "1286325/1286325 [==============================] - 26s - loss: 0.0102 - val_loss: 0.0096\n",
      "Epoch 30/100\n",
      "1286325/1286325 [==============================] - 26s - loss: 0.0102 - val_loss: 0.0095\n",
      "Epoch 31/100\n",
      "1286325/1286325 [==============================] - 25s - loss: 0.0102 - val_loss: 0.0094\n",
      "Epoch 32/100\n",
      "1286325/1286325 [==============================] - 26s - loss: 0.0102 - val_loss: 0.0095\n",
      "Epoch 33/100\n",
      "1286325/1286325 [==============================] - 24s - loss: 0.0102 - val_loss: 0.0095\n",
      "Epoch 34/100\n",
      "    \n"
     ]
    },
    {
     "name": "stderr",
     "output_type": "stream",
     "text": [
      "2017-02-15 03:10:40,508 : INFO : Found lower val loss for epoch 34 => 0.00941\n"
     ]
    },
    {
     "name": "stdout",
     "output_type": "stream",
     "text": [
      "1286325/1286325 [==============================] - 24s - loss: 0.0102 - val_loss: 0.0094\n",
      "Epoch 35/100\n",
      "1286325/1286325 [==============================] - 25s - loss: 0.0102 - val_loss: 0.0094\n",
      "Epoch 36/100\n",
      "1286325/1286325 [==============================] - 25s - loss: 0.0102 - val_loss: 0.0094\n",
      "Epoch 37/100\n",
      "1286325/1286325 [==============================] - 25s - loss: 0.0102 - val_loss: 0.0094\n",
      "Epoch 38/100\n",
      "1286325/1286325 [==============================] - 25s - loss: 0.0102 - val_loss: 0.0095\n",
      "Epoch 39/100\n",
      "    \n"
     ]
    },
    {
     "name": "stderr",
     "output_type": "stream",
     "text": [
      "2017-02-15 03:12:47,728 : INFO : Found lower val loss for epoch 39 => 0.0094\n"
     ]
    },
    {
     "name": "stdout",
     "output_type": "stream",
     "text": [
      "1286325/1286325 [==============================] - 26s - loss: 0.0102 - val_loss: 0.0094\n",
      "Epoch 40/100\n",
      "1286325/1286325 [==============================] - 25s - loss: 0.0101 - val_loss: 0.0095\n",
      "Epoch 41/100\n",
      "1286325/1286325 [==============================] - 25s - loss: 0.0101 - val_loss: 0.0094\n",
      "Epoch 42/100\n",
      "    \n"
     ]
    },
    {
     "name": "stderr",
     "output_type": "stream",
     "text": [
      "2017-02-15 03:14:04,476 : INFO : Found lower val loss for epoch 42 => 0.00936\n"
     ]
    },
    {
     "name": "stdout",
     "output_type": "stream",
     "text": [
      "1286325/1286325 [==============================] - 25s - loss: 0.0101 - val_loss: 0.0094\n",
      "Epoch 43/100\n",
      "1286325/1286325 [==============================] - 25s - loss: 0.0101 - val_loss: 0.0094\n",
      "Epoch 44/100\n",
      "    \n"
     ]
    },
    {
     "name": "stderr",
     "output_type": "stream",
     "text": [
      "2017-02-15 03:14:55,262 : INFO : Found lower val loss for epoch 44 => 0.00935\n"
     ]
    },
    {
     "name": "stdout",
     "output_type": "stream",
     "text": [
      "1286325/1286325 [==============================] - 25s - loss: 0.0101 - val_loss: 0.0094\n",
      "Epoch 45/100\n",
      "1286325/1286325 [==============================] - 25s - loss: 0.0101 - val_loss: 0.0095\n",
      "Epoch 46/100\n",
      "1286325/1286325 [==============================] - 26s - loss: 0.0101 - val_loss: 0.0094\n",
      "Epoch 47/100\n",
      "1286325/1286325 [==============================] - 25s - loss: 0.0101 - val_loss: 0.0094\n",
      "Epoch 48/100\n",
      "1286325/1286325 [==============================] - 26s - loss: 0.0101 - val_loss: 0.0094\n",
      "Epoch 49/100\n",
      "1286325/1286325 [==============================] - 26s - loss: 0.0101 - val_loss: 0.0094\n",
      "Epoch 50/100\n",
      "1286325/1286325 [==============================] - 26s - loss: 0.0101 - val_loss: 0.0095\n",
      "Epoch 51/100\n",
      "    \n"
     ]
    },
    {
     "name": "stderr",
     "output_type": "stream",
     "text": [
      "2017-02-15 03:17:57,800 : INFO : Found lower val loss for epoch 51 => 0.00931\n"
     ]
    },
    {
     "name": "stdout",
     "output_type": "stream",
     "text": [
      "1286325/1286325 [==============================] - 25s - loss: 0.0101 - val_loss: 0.0093\n",
      "Epoch 52/100\n",
      "1286325/1286325 [==============================] - 25s - loss: 0.0101 - val_loss: 0.0094\n",
      "Epoch 53/100\n",
      "1286325/1286325 [==============================] - 25s - loss: 0.0101 - val_loss: 0.0095\n",
      "Epoch 54/100\n",
      "1286325/1286325 [==============================] - 25s - loss: 0.0101 - val_loss: 0.0094\n",
      "Epoch 55/100\n",
      "1286325/1286325 [==============================] - 26s - loss: 0.0101 - val_loss: 0.0094\n",
      "Epoch 56/100\n",
      "1286325/1286325 [==============================] - 26s - loss: 0.0101 - val_loss: 0.0095\n",
      "Epoch 57/100\n",
      "1286325/1286325 [==============================] - 25s - loss: 0.0101 - val_loss: 0.0093\n",
      "Epoch 58/100\n",
      "1286325/1286325 [==============================] - 25s - loss: 0.0101 - val_loss: 0.0094\n",
      "Epoch 59/100\n",
      "1286325/1286325 [==============================] - 25s - loss: 0.0101 - val_loss: 0.0094\n",
      "Epoch 60/100\n",
      "1286325/1286325 [==============================] - 26s - loss: 0.0101 - val_loss: 0.0095\n",
      "Epoch 61/100\n",
      "1286325/1286325 [==============================] - 24s - loss: 0.0101 - val_loss: 0.0093\n",
      "Epoch 62/100\n",
      "1286325/1286325 [==============================] - 24s - loss: 0.0101 - val_loss: 0.0094"
     ]
    },
    {
     "name": "stderr",
     "output_type": "stream",
     "text": [
      "2017-02-15 03:22:39,779 : INFO : Evaluating on Validation Data using saved best weights\n"
     ]
    },
    {
     "name": "stdout",
     "output_type": "stream",
     "text": [
      "\n",
      "Epoch 00061: early stopping\n",
      "CPU times: user 9min 27s, sys: 23min 10s, total: 32min 38s\n",
      "Wall time: 26min 35s\n"
     ]
    },
    {
     "name": "stderr",
     "output_type": "stream",
     "text": [
      "2017-02-15 03:22:57,205 : INFO : Generating Validation Metrics\n",
      "2017-02-15 03:24:22,193 : INFO : ***************************************************************************************\n",
      "2017-02-15 03:24:22,195 : INFO : nn_1st-size_500_1st-act_sigmoid_2nd-size_None_2nd-act_sigmoid_in-drop_False_hid-drop_True\n"
     ]
    },
    {
     "name": "stdout",
     "output_type": "stream",
     "text": [
      "****** Validation Metrics: Cov Err: 3.124 | Top 3: 0.832 | Top 5: 0.899 | F1 Micro: 0.629 | F1 Macro: 0.128\n",
      "____________________________________________________________________________________________________\n",
      "Layer (type)                     Output Shape          Param #     Connected to                     \n",
      "====================================================================================================\n",
      "doc_input (InputLayer)           (None, 100)           0                                            \n",
      "____________________________________________________________________________________________________\n",
      "hidden_layer_sigmoid (Dense)     (None, 500)           50500       doc_input[0][0]                  \n",
      "____________________________________________________________________________________________________\n",
      "dropout_4 (Dropout)              (None, 500)           0           hidden_layer_sigmoid[0][0]       \n",
      "____________________________________________________________________________________________________\n",
      "softmax_output (Dense)           (None, 244)           122244      dropout_4[0][0]                  \n",
      "====================================================================================================\n",
      "Total params: 172744\n",
      "____________________________________________________________________________________________________\n",
      "Train on 1286325 samples, validate on 321473 samples\n",
      "Epoch 1/100\n",
      "    \n"
     ]
    },
    {
     "name": "stderr",
     "output_type": "stream",
     "text": [
      "2017-02-15 03:24:40,978 : INFO : Found lower val loss for epoch 1 => 0.01127\n"
     ]
    },
    {
     "name": "stdout",
     "output_type": "stream",
     "text": [
      "1286325/1286325 [==============================] - 17s - loss: 0.0168 - val_loss: 0.0113\n",
      "Epoch 2/100\n",
      "    \n"
     ]
    },
    {
     "name": "stderr",
     "output_type": "stream",
     "text": [
      "2017-02-15 03:25:00,770 : INFO : Found lower val loss for epoch 2 => 0.01069\n"
     ]
    },
    {
     "name": "stdout",
     "output_type": "stream",
     "text": [
      "1286325/1286325 [==============================] - 19s - loss: 0.0116 - val_loss: 0.0107\n",
      "Epoch 3/100\n",
      "    \n"
     ]
    },
    {
     "name": "stderr",
     "output_type": "stream",
     "text": [
      "2017-02-15 03:25:19,735 : INFO : Found lower val loss for epoch 3 => 0.01046\n"
     ]
    },
    {
     "name": "stdout",
     "output_type": "stream",
     "text": [
      "1286325/1286325 [==============================] - 18s - loss: 0.0112 - val_loss: 0.0105\n",
      "Epoch 4/100\n",
      "    \n"
     ]
    },
    {
     "name": "stderr",
     "output_type": "stream",
     "text": [
      "2017-02-15 03:25:37,609 : INFO : Found lower val loss for epoch 4 => 0.01027\n"
     ]
    },
    {
     "name": "stdout",
     "output_type": "stream",
     "text": [
      "1286325/1286325 [==============================] - 17s - loss: 0.0109 - val_loss: 0.0103\n",
      "Epoch 5/100\n",
      "    \n"
     ]
    },
    {
     "name": "stderr",
     "output_type": "stream",
     "text": [
      "2017-02-15 03:25:56,544 : INFO : Found lower val loss for epoch 5 => 0.01017\n"
     ]
    },
    {
     "name": "stdout",
     "output_type": "stream",
     "text": [
      "1286325/1286325 [==============================] - 18s - loss: 0.0108 - val_loss: 0.0102\n",
      "Epoch 6/100\n",
      "    \n"
     ]
    },
    {
     "name": "stderr",
     "output_type": "stream",
     "text": [
      "2017-02-15 03:26:15,009 : INFO : Found lower val loss for epoch 6 => 0.01008\n"
     ]
    },
    {
     "name": "stdout",
     "output_type": "stream",
     "text": [
      "1286325/1286325 [==============================] - 18s - loss: 0.0106 - val_loss: 0.0101\n",
      "Epoch 7/100\n",
      "    \n"
     ]
    },
    {
     "name": "stderr",
     "output_type": "stream",
     "text": [
      "2017-02-15 03:26:33,065 : INFO : Found lower val loss for epoch 7 => 0.01\n"
     ]
    },
    {
     "name": "stdout",
     "output_type": "stream",
     "text": [
      "1286325/1286325 [==============================] - 18s - loss: 0.0106 - val_loss: 0.0100\n",
      "Epoch 8/100\n",
      "    \n"
     ]
    },
    {
     "name": "stderr",
     "output_type": "stream",
     "text": [
      "2017-02-15 03:26:51,112 : INFO : Found lower val loss for epoch 8 => 0.00995\n"
     ]
    },
    {
     "name": "stdout",
     "output_type": "stream",
     "text": [
      "1286325/1286325 [==============================] - 18s - loss: 0.0105 - val_loss: 0.0099\n",
      "Epoch 9/100\n",
      "    \n"
     ]
    },
    {
     "name": "stderr",
     "output_type": "stream",
     "text": [
      "2017-02-15 03:27:09,079 : INFO : Found lower val loss for epoch 9 => 0.00992\n"
     ]
    },
    {
     "name": "stdout",
     "output_type": "stream",
     "text": [
      "1286325/1286325 [==============================] - 17s - loss: 0.0104 - val_loss: 0.0099\n",
      "Epoch 10/100\n",
      "    \n"
     ]
    },
    {
     "name": "stderr",
     "output_type": "stream",
     "text": [
      "2017-02-15 03:27:26,322 : INFO : Found lower val loss for epoch 10 => 0.0099\n"
     ]
    },
    {
     "name": "stdout",
     "output_type": "stream",
     "text": [
      "1286325/1286325 [==============================] - 17s - loss: 0.0104 - val_loss: 0.0099\n",
      "Epoch 11/100\n",
      "    \n"
     ]
    },
    {
     "name": "stderr",
     "output_type": "stream",
     "text": [
      "2017-02-15 03:27:45,592 : INFO : Found lower val loss for epoch 11 => 0.00987\n"
     ]
    },
    {
     "name": "stdout",
     "output_type": "stream",
     "text": [
      "1286325/1286325 [==============================] - 19s - loss: 0.0103 - val_loss: 0.0099\n",
      "Epoch 12/100\n",
      "    \n"
     ]
    },
    {
     "name": "stderr",
     "output_type": "stream",
     "text": [
      "2017-02-15 03:28:04,924 : INFO : Found lower val loss for epoch 12 => 0.00987\n"
     ]
    },
    {
     "name": "stdout",
     "output_type": "stream",
     "text": [
      "1286325/1286325 [==============================] - 19s - loss: 0.0103 - val_loss: 0.0099\n",
      "Epoch 13/100\n",
      "    \n"
     ]
    },
    {
     "name": "stderr",
     "output_type": "stream",
     "text": [
      "2017-02-15 03:28:23,216 : INFO : Found lower val loss for epoch 13 => 0.00986\n"
     ]
    },
    {
     "name": "stdout",
     "output_type": "stream",
     "text": [
      "1286325/1286325 [==============================] - 18s - loss: 0.0103 - val_loss: 0.0099\n",
      "Epoch 14/100\n",
      "1286325/1286325 [==============================] - 18s - loss: 0.0103 - val_loss: 0.0099\n",
      "Epoch 15/100\n",
      "    \n"
     ]
    },
    {
     "name": "stderr",
     "output_type": "stream",
     "text": [
      "2017-02-15 03:29:00,082 : INFO : Found lower val loss for epoch 15 => 0.00983\n"
     ]
    },
    {
     "name": "stdout",
     "output_type": "stream",
     "text": [
      "1286325/1286325 [==============================] - 18s - loss: 0.0103 - val_loss: 0.0098\n",
      "Epoch 16/100\n",
      "1286325/1286325 [==============================] - 17s - loss: 0.0102 - val_loss: 0.0098\n",
      "Epoch 17/100\n",
      "1286325/1286325 [==============================] - 18s - loss: 0.0102 - val_loss: 0.0098\n",
      "Epoch 18/100\n",
      "1286325/1286325 [==============================] - 18s - loss: 0.0102 - val_loss: 0.0098\n",
      "Epoch 19/100\n",
      "1286325/1286325 [==============================] - 18s - loss: 0.0102 - val_loss: 0.0099\n",
      "Epoch 20/100\n",
      "1286325/1286325 [==============================] - 17s - loss: 0.0102 - val_loss: 0.0098\n",
      "Epoch 21/100\n",
      "1286325/1286325 [==============================] - 16s - loss: 0.0102 - val_loss: 0.0099\n",
      "Epoch 22/100\n",
      "1286325/1286325 [==============================] - 18s - loss: 0.0102 - val_loss: 0.0099\n",
      "Epoch 23/100\n",
      "1286325/1286325 [==============================] - 18s - loss: 0.0102 - val_loss: 0.0099\n",
      "Epoch 24/100\n",
      "1286325/1286325 [==============================] - 18s - loss: 0.0102 - val_loss: 0.0099\n",
      "Epoch 25/100\n",
      "1286325/1286325 [==============================] - 17s - loss: 0.0102 - val_loss: 0.0099\n",
      "Epoch 26/100\n",
      "1286325/1286325 [==============================] - 18s - loss: 0.0102 - val_loss: 0.0099"
     ]
    },
    {
     "name": "stderr",
     "output_type": "stream",
     "text": [
      "2017-02-15 03:32:18,707 : INFO : Evaluating on Validation Data using saved best weights\n"
     ]
    },
    {
     "name": "stdout",
     "output_type": "stream",
     "text": [
      "\n",
      "Epoch 00025: early stopping\n",
      "CPU times: user 2min 55s, sys: 7min 19s, total: 10min 15s\n",
      "Wall time: 7min 56s\n"
     ]
    },
    {
     "name": "stderr",
     "output_type": "stream",
     "text": [
      "2017-02-15 03:32:34,366 : INFO : Generating Validation Metrics\n",
      "2017-02-15 03:33:59,959 : INFO : ***************************************************************************************\n",
      "2017-02-15 03:33:59,960 : INFO : nn_1st-size_100_1st-act_tanh_2nd-size_1000_2nd-act_tanh_in-drop_False_hid-drop_True\n"
     ]
    },
    {
     "name": "stdout",
     "output_type": "stream",
     "text": [
      "****** Validation Metrics: Cov Err: 3.148 | Top 3: 0.833 | Top 5: 0.900 | F1 Micro: 0.590 | F1 Macro: 0.105\n",
      "____________________________________________________________________________________________________\n",
      "Layer (type)                     Output Shape          Param #     Connected to                     \n",
      "====================================================================================================\n",
      "doc_input (InputLayer)           (None, 100)           0                                            \n",
      "____________________________________________________________________________________________________\n",
      "hidden_layer_tanh (Dense)        (None, 100)           10100       doc_input[0][0]                  \n",
      "____________________________________________________________________________________________________\n",
      "dropout_5 (Dropout)              (None, 100)           0           hidden_layer_tanh[0][0]          \n",
      "____________________________________________________________________________________________________\n",
      "hidden_layer2_tanh (Dense)       (None, 1000)          101000      dropout_5[0][0]                  \n",
      "____________________________________________________________________________________________________\n",
      "softmax_output (Dense)           (None, 244)           244244      hidden_layer2_tanh[0][0]         \n",
      "====================================================================================================\n",
      "Total params: 355344\n",
      "____________________________________________________________________________________________________\n",
      "Train on 1286325 samples, validate on 321473 samples\n",
      "Epoch 1/100\n",
      "    \n"
     ]
    },
    {
     "name": "stderr",
     "output_type": "stream",
     "text": [
      "2017-02-15 03:34:24,224 : INFO : Found lower val loss for epoch 1 => 0.0109\n"
     ]
    },
    {
     "name": "stdout",
     "output_type": "stream",
     "text": [
      "1286325/1286325 [==============================] - 20s - loss: 0.0186 - val_loss: 0.0109\n",
      "Epoch 2/100\n",
      "    \n"
     ]
    },
    {
     "name": "stderr",
     "output_type": "stream",
     "text": [
      "2017-02-15 03:34:44,346 : INFO : Found lower val loss for epoch 2 => 0.01066\n"
     ]
    },
    {
     "name": "stdout",
     "output_type": "stream",
     "text": [
      "1286325/1286325 [==============================] - 20s - loss: 0.0118 - val_loss: 0.0107\n",
      "Epoch 3/100\n",
      "    \n"
     ]
    },
    {
     "name": "stderr",
     "output_type": "stream",
     "text": [
      "2017-02-15 03:35:04,673 : INFO : Found lower val loss for epoch 3 => 0.01051\n"
     ]
    },
    {
     "name": "stdout",
     "output_type": "stream",
     "text": [
      "1286325/1286325 [==============================] - 20s - loss: 0.0115 - val_loss: 0.0105\n",
      "Epoch 4/100\n",
      "    \n"
     ]
    },
    {
     "name": "stderr",
     "output_type": "stream",
     "text": [
      "2017-02-15 03:35:24,623 : INFO : Found lower val loss for epoch 4 => 0.0104\n"
     ]
    },
    {
     "name": "stdout",
     "output_type": "stream",
     "text": [
      "1286325/1286325 [==============================] - 19s - loss: 0.0114 - val_loss: 0.0104\n",
      "Epoch 5/100\n",
      "    \n"
     ]
    },
    {
     "name": "stderr",
     "output_type": "stream",
     "text": [
      "2017-02-15 03:35:44,167 : INFO : Found lower val loss for epoch 5 => 0.01013\n"
     ]
    },
    {
     "name": "stdout",
     "output_type": "stream",
     "text": [
      "1286325/1286325 [==============================] - 19s - loss: 0.0112 - val_loss: 0.0101\n",
      "Epoch 6/100\n",
      "    \n"
     ]
    },
    {
     "name": "stderr",
     "output_type": "stream",
     "text": [
      "2017-02-15 03:36:04,081 : INFO : Found lower val loss for epoch 6 => 0.01009\n"
     ]
    },
    {
     "name": "stdout",
     "output_type": "stream",
     "text": [
      "1286325/1286325 [==============================] - 19s - loss: 0.0111 - val_loss: 0.0101\n",
      "Epoch 7/100\n",
      "    \n"
     ]
    },
    {
     "name": "stderr",
     "output_type": "stream",
     "text": [
      "2017-02-15 03:36:23,908 : INFO : Found lower val loss for epoch 7 => 0.01\n"
     ]
    },
    {
     "name": "stdout",
     "output_type": "stream",
     "text": [
      "1286325/1286325 [==============================] - 19s - loss: 0.0111 - val_loss: 0.0100\n",
      "Epoch 8/100\n",
      "1286325/1286325 [==============================] - 20s - loss: 0.0110 - val_loss: 0.0100\n",
      "Epoch 9/100\n",
      "    \n"
     ]
    },
    {
     "name": "stderr",
     "output_type": "stream",
     "text": [
      "2017-02-15 03:37:05,144 : INFO : Found lower val loss for epoch 9 => 0.00998\n"
     ]
    },
    {
     "name": "stdout",
     "output_type": "stream",
     "text": [
      "1286325/1286325 [==============================] - 20s - loss: 0.0110 - val_loss: 0.0100\n",
      "Epoch 10/100\n",
      "    \n"
     ]
    },
    {
     "name": "stderr",
     "output_type": "stream",
     "text": [
      "2017-02-15 03:37:24,678 : INFO : Found lower val loss for epoch 10 => 0.00989\n"
     ]
    },
    {
     "name": "stdout",
     "output_type": "stream",
     "text": [
      "1286325/1286325 [==============================] - 19s - loss: 0.0109 - val_loss: 0.0099\n",
      "Epoch 11/100\n",
      "    \n"
     ]
    },
    {
     "name": "stderr",
     "output_type": "stream",
     "text": [
      "2017-02-15 03:37:44,533 : INFO : Found lower val loss for epoch 11 => 0.00981\n"
     ]
    },
    {
     "name": "stdout",
     "output_type": "stream",
     "text": [
      "1286325/1286325 [==============================] - 19s - loss: 0.0109 - val_loss: 0.0098\n",
      "Epoch 12/100\n",
      "    \n"
     ]
    },
    {
     "name": "stderr",
     "output_type": "stream",
     "text": [
      "2017-02-15 03:38:04,835 : INFO : Found lower val loss for epoch 12 => 0.00977\n"
     ]
    },
    {
     "name": "stdout",
     "output_type": "stream",
     "text": [
      "1286325/1286325 [==============================] - 20s - loss: 0.0108 - val_loss: 0.0098\n",
      "Epoch 13/100\n",
      "1286325/1286325 [==============================] - 19s - loss: 0.0108 - val_loss: 0.0098\n",
      "Epoch 14/100\n",
      "    \n"
     ]
    },
    {
     "name": "stderr",
     "output_type": "stream",
     "text": [
      "2017-02-15 03:38:44,509 : INFO : Found lower val loss for epoch 14 => 0.00975\n"
     ]
    },
    {
     "name": "stdout",
     "output_type": "stream",
     "text": [
      "1286325/1286325 [==============================] - 19s - loss: 0.0108 - val_loss: 0.0097\n",
      "Epoch 15/100\n",
      "    \n"
     ]
    },
    {
     "name": "stderr",
     "output_type": "stream",
     "text": [
      "2017-02-15 03:39:04,518 : INFO : Found lower val loss for epoch 15 => 0.00973\n"
     ]
    },
    {
     "name": "stdout",
     "output_type": "stream",
     "text": [
      "1286325/1286325 [==============================] - 20s - loss: 0.0108 - val_loss: 0.0097\n",
      "Epoch 16/100\n",
      "    \n"
     ]
    },
    {
     "name": "stderr",
     "output_type": "stream",
     "text": [
      "2017-02-15 03:39:24,328 : INFO : Found lower val loss for epoch 16 => 0.00968\n"
     ]
    },
    {
     "name": "stdout",
     "output_type": "stream",
     "text": [
      "1286325/1286325 [==============================] - 19s - loss: 0.0108 - val_loss: 0.0097\n",
      "Epoch 17/100\n",
      "    \n"
     ]
    },
    {
     "name": "stderr",
     "output_type": "stream",
     "text": [
      "2017-02-15 03:39:44,155 : INFO : Found lower val loss for epoch 17 => 0.00962\n"
     ]
    },
    {
     "name": "stdout",
     "output_type": "stream",
     "text": [
      "1286325/1286325 [==============================] - 19s - loss: 0.0107 - val_loss: 0.0096\n",
      "Epoch 18/100\n",
      "1286325/1286325 [==============================] - 19s - loss: 0.0107 - val_loss: 0.0097\n",
      "Epoch 19/100\n",
      "1286325/1286325 [==============================] - 19s - loss: 0.0107 - val_loss: 0.0096\n",
      "Epoch 20/100\n",
      "1286325/1286325 [==============================] - 20s - loss: 0.0107 - val_loss: 0.0097\n",
      "Epoch 21/100\n",
      "    \n"
     ]
    },
    {
     "name": "stderr",
     "output_type": "stream",
     "text": [
      "2017-02-15 03:41:03,321 : INFO : Found lower val loss for epoch 21 => 0.0096\n"
     ]
    },
    {
     "name": "stdout",
     "output_type": "stream",
     "text": [
      "1286325/1286325 [==============================] - 19s - loss: 0.0107 - val_loss: 0.0096\n",
      "Epoch 22/100\n",
      "1286325/1286325 [==============================] - 20s - loss: 0.0107 - val_loss: 0.0096\n",
      "Epoch 23/100\n",
      "1286325/1286325 [==============================] - 19s - loss: 0.0107 - val_loss: 0.0097\n",
      "Epoch 24/100\n",
      "1286325/1286325 [==============================] - 20s - loss: 0.0106 - val_loss: 0.0097\n",
      "Epoch 25/100\n",
      "1286325/1286325 [==============================] - 20s - loss: 0.0106 - val_loss: 0.0096\n",
      "Epoch 26/100\n",
      "    \n"
     ]
    },
    {
     "name": "stderr",
     "output_type": "stream",
     "text": [
      "2017-02-15 03:42:43,982 : INFO : Found lower val loss for epoch 26 => 0.00959\n"
     ]
    },
    {
     "name": "stdout",
     "output_type": "stream",
     "text": [
      "1286325/1286325 [==============================] - 20s - loss: 0.0106 - val_loss: 0.0096\n",
      "Epoch 27/100\n",
      "    \n"
     ]
    },
    {
     "name": "stderr",
     "output_type": "stream",
     "text": [
      "2017-02-15 03:43:04,066 : INFO : Found lower val loss for epoch 27 => 0.00957\n"
     ]
    },
    {
     "name": "stdout",
     "output_type": "stream",
     "text": [
      "1286325/1286325 [==============================] - 20s - loss: 0.0106 - val_loss: 0.0096\n",
      "Epoch 28/100\n",
      "1286325/1286325 [==============================] - 19s - loss: 0.0106 - val_loss: 0.0097\n",
      "Epoch 29/100\n",
      "    \n"
     ]
    },
    {
     "name": "stderr",
     "output_type": "stream",
     "text": [
      "2017-02-15 03:43:43,475 : INFO : Found lower val loss for epoch 29 => 0.00951\n"
     ]
    },
    {
     "name": "stdout",
     "output_type": "stream",
     "text": [
      "1286325/1286325 [==============================] - 20s - loss: 0.0106 - val_loss: 0.0095\n",
      "Epoch 30/100\n",
      "1286325/1286325 [==============================] - 20s - loss: 0.0106 - val_loss: 0.0096\n",
      "Epoch 31/100\n",
      "1286325/1286325 [==============================] - 19s - loss: 0.0106 - val_loss: 0.0096\n",
      "Epoch 32/100\n",
      "1286325/1286325 [==============================] - 19s - loss: 0.0106 - val_loss: 0.0095\n",
      "Epoch 33/100\n",
      "1286325/1286325 [==============================] - 19s - loss: 0.0106 - val_loss: 0.0095\n",
      "Epoch 34/100\n",
      "1286325/1286325 [==============================] - 19s - loss: 0.0106 - val_loss: 0.0095\n",
      "Epoch 35/100\n",
      "1286325/1286325 [==============================] - 19s - loss: 0.0106 - val_loss: 0.0096\n",
      "Epoch 36/100\n",
      "    \n"
     ]
    },
    {
     "name": "stderr",
     "output_type": "stream",
     "text": [
      "2017-02-15 03:46:02,743 : INFO : Found lower val loss for epoch 36 => 0.00951\n"
     ]
    },
    {
     "name": "stdout",
     "output_type": "stream",
     "text": [
      "1286325/1286325 [==============================] - 20s - loss: 0.0106 - val_loss: 0.0095\n",
      "Epoch 37/100\n",
      "    \n"
     ]
    },
    {
     "name": "stderr",
     "output_type": "stream",
     "text": [
      "2017-02-15 03:46:23,121 : INFO : Found lower val loss for epoch 37 => 0.0095\n"
     ]
    },
    {
     "name": "stdout",
     "output_type": "stream",
     "text": [
      "1286325/1286325 [==============================] - 20s - loss: 0.0106 - val_loss: 0.0095\n",
      "Epoch 38/100\n",
      "1286325/1286325 [==============================] - 20s - loss: 0.0105 - val_loss: 0.0095\n",
      "Epoch 39/100\n",
      "1286325/1286325 [==============================] - 19s - loss: 0.0105 - val_loss: 0.0095\n",
      "Epoch 40/100\n",
      "1286325/1286325 [==============================] - 19s - loss: 0.0105 - val_loss: 0.0095\n",
      "Epoch 41/100\n",
      "1286325/1286325 [==============================] - 19s - loss: 0.0105 - val_loss: 0.0095\n",
      "Epoch 42/100\n",
      "1286325/1286325 [==============================] - 20s - loss: 0.0105 - val_loss: 0.0095\n",
      "Epoch 43/100\n",
      "    \n"
     ]
    },
    {
     "name": "stderr",
     "output_type": "stream",
     "text": [
      "2017-02-15 03:48:22,530 : INFO : Found lower val loss for epoch 43 => 0.00943\n"
     ]
    },
    {
     "name": "stdout",
     "output_type": "stream",
     "text": [
      "1286325/1286325 [==============================] - 19s - loss: 0.0105 - val_loss: 0.0094\n",
      "Epoch 44/100\n",
      "1286325/1286325 [==============================] - 19s - loss: 0.0105 - val_loss: 0.0096\n",
      "Epoch 45/100\n",
      "1286325/1286325 [==============================] - 19s - loss: 0.0105 - val_loss: 0.0095\n",
      "Epoch 46/100\n",
      "1286325/1286325 [==============================] - 19s - loss: 0.0105 - val_loss: 0.0095\n",
      "Epoch 47/100\n",
      "1286325/1286325 [==============================] - 19s - loss: 0.0105 - val_loss: 0.0095\n",
      "Epoch 48/100\n",
      "1286325/1286325 [==============================] - 18s - loss: 0.0105 - val_loss: 0.0096\n",
      "Epoch 49/100\n",
      "1286325/1286325 [==============================] - 18s - loss: 0.0105 - val_loss: 0.0095\n",
      "Epoch 50/100\n",
      "1286325/1286325 [==============================] - 18s - loss: 0.0105 - val_loss: 0.0095\n",
      "Epoch 51/100\n",
      "1286325/1286325 [==============================] - 19s - loss: 0.0105 - val_loss: 0.0095\n",
      "Epoch 52/100\n",
      "1286325/1286325 [==============================] - 20s - loss: 0.0105 - val_loss: 0.0096\n",
      "Epoch 53/100\n",
      "1286325/1286325 [==============================] - 20s - loss: 0.0105 - val_loss: 0.0094\n",
      "Epoch 54/100\n",
      "1286325/1286325 [==============================] - 19s - loss: 0.0105 - val_loss: 0.0094"
     ]
    },
    {
     "name": "stderr",
     "output_type": "stream",
     "text": [
      "2017-02-15 03:51:56,529 : INFO : Evaluating on Validation Data using saved best weights\n"
     ]
    },
    {
     "name": "stdout",
     "output_type": "stream",
     "text": [
      "\n",
      "Epoch 00053: early stopping\n",
      "CPU times: user 6min 48s, sys: 16min 9s, total: 22min 58s\n",
      "Wall time: 17min 56s\n"
     ]
    },
    {
     "name": "stderr",
     "output_type": "stream",
     "text": [
      "2017-02-15 03:52:13,256 : INFO : Generating Validation Metrics\n",
      "2017-02-15 03:53:37,021 : INFO : ***************************************************************************************\n",
      "2017-02-15 03:53:37,022 : INFO : nn_1st-size_100_1st-act_tanh_2nd-size_500_2nd-act_tanh_in-drop_False_hid-drop_True\n"
     ]
    },
    {
     "name": "stdout",
     "output_type": "stream",
     "text": [
      "****** Validation Metrics: Cov Err: 3.134 | Top 3: 0.832 | Top 5: 0.900 | F1 Micro: 0.627 | F1 Macro: 0.138\n",
      "____________________________________________________________________________________________________\n",
      "Layer (type)                     Output Shape          Param #     Connected to                     \n",
      "====================================================================================================\n",
      "doc_input (InputLayer)           (None, 100)           0                                            \n",
      "____________________________________________________________________________________________________\n",
      "hidden_layer_tanh (Dense)        (None, 100)           10100       doc_input[0][0]                  \n",
      "____________________________________________________________________________________________________\n",
      "dropout_6 (Dropout)              (None, 100)           0           hidden_layer_tanh[0][0]          \n",
      "____________________________________________________________________________________________________\n",
      "hidden_layer2_tanh (Dense)       (None, 500)           50500       dropout_6[0][0]                  \n",
      "____________________________________________________________________________________________________\n",
      "softmax_output (Dense)           (None, 244)           122244      hidden_layer2_tanh[0][0]         \n",
      "====================================================================================================\n",
      "Total params: 182844\n",
      "____________________________________________________________________________________________________\n",
      "Train on 1286325 samples, validate on 321473 samples\n",
      "Epoch 1/100\n",
      "    \n"
     ]
    },
    {
     "name": "stderr",
     "output_type": "stream",
     "text": [
      "2017-02-15 03:53:57,160 : INFO : Found lower val loss for epoch 1 => 0.01082\n"
     ]
    },
    {
     "name": "stdout",
     "output_type": "stream",
     "text": [
      "1286325/1286325 [==============================] - 18s - loss: 0.0200 - val_loss: 0.0108\n",
      "Epoch 2/100\n",
      "    \n"
     ]
    },
    {
     "name": "stderr",
     "output_type": "stream",
     "text": [
      "2017-02-15 03:54:16,399 : INFO : Found lower val loss for epoch 2 => 0.01052\n"
     ]
    },
    {
     "name": "stdout",
     "output_type": "stream",
     "text": [
      "1286325/1286325 [==============================] - 19s - loss: 0.0117 - val_loss: 0.0105\n",
      "Epoch 3/100\n",
      "    \n"
     ]
    },
    {
     "name": "stderr",
     "output_type": "stream",
     "text": [
      "2017-02-15 03:54:35,201 : INFO : Found lower val loss for epoch 3 => 0.01027\n"
     ]
    },
    {
     "name": "stdout",
     "output_type": "stream",
     "text": [
      "1286325/1286325 [==============================] - 18s - loss: 0.0114 - val_loss: 0.0103\n",
      "Epoch 4/100\n",
      "    \n"
     ]
    },
    {
     "name": "stderr",
     "output_type": "stream",
     "text": [
      "2017-02-15 03:54:53,055 : INFO : Found lower val loss for epoch 4 => 0.01014\n"
     ]
    },
    {
     "name": "stdout",
     "output_type": "stream",
     "text": [
      "1286325/1286325 [==============================] - 17s - loss: 0.0112 - val_loss: 0.0101\n",
      "Epoch 5/100\n",
      "    \n"
     ]
    },
    {
     "name": "stderr",
     "output_type": "stream",
     "text": [
      "2017-02-15 03:55:12,531 : INFO : Found lower val loss for epoch 5 => 0.01004\n"
     ]
    },
    {
     "name": "stdout",
     "output_type": "stream",
     "text": [
      "1286325/1286325 [==============================] - 19s - loss: 0.0111 - val_loss: 0.0100\n",
      "Epoch 6/100\n",
      "    \n"
     ]
    },
    {
     "name": "stderr",
     "output_type": "stream",
     "text": [
      "2017-02-15 03:55:32,638 : INFO : Found lower val loss for epoch 6 => 0.01002\n"
     ]
    },
    {
     "name": "stdout",
     "output_type": "stream",
     "text": [
      "1286325/1286325 [==============================] - 20s - loss: 0.0111 - val_loss: 0.0100\n",
      "Epoch 7/100\n",
      "    \n"
     ]
    },
    {
     "name": "stderr",
     "output_type": "stream",
     "text": [
      "2017-02-15 03:55:50,535 : INFO : Found lower val loss for epoch 7 => 0.00987\n"
     ]
    },
    {
     "name": "stdout",
     "output_type": "stream",
     "text": [
      "1286325/1286325 [==============================] - 17s - loss: 0.0110 - val_loss: 0.0099\n",
      "Epoch 8/100\n",
      "1286325/1286325 [==============================] - 19s - loss: 0.0109 - val_loss: 0.0099\n",
      "Epoch 9/100\n",
      "    \n"
     ]
    },
    {
     "name": "stderr",
     "output_type": "stream",
     "text": [
      "2017-02-15 03:56:28,859 : INFO : Found lower val loss for epoch 9 => 0.00977\n"
     ]
    },
    {
     "name": "stdout",
     "output_type": "stream",
     "text": [
      "1286325/1286325 [==============================] - 19s - loss: 0.0109 - val_loss: 0.0098\n",
      "Epoch 10/100\n",
      "1286325/1286325 [==============================] - 19s - loss: 0.0109 - val_loss: 0.0098\n",
      "Epoch 11/100\n",
      "1286325/1286325 [==============================] - 18s - loss: 0.0108 - val_loss: 0.0098\n",
      "Epoch 12/100\n",
      "1286325/1286325 [==============================] - 19s - loss: 0.0108 - val_loss: 0.0098\n",
      "Epoch 13/100\n",
      "    \n"
     ]
    },
    {
     "name": "stderr",
     "output_type": "stream",
     "text": [
      "2017-02-15 03:57:43,630 : INFO : Found lower val loss for epoch 13 => 0.00966\n"
     ]
    },
    {
     "name": "stdout",
     "output_type": "stream",
     "text": [
      "1286325/1286325 [==============================] - 18s - loss: 0.0108 - val_loss: 0.0097\n",
      "Epoch 14/100\n",
      "1286325/1286325 [==============================] - 18s - loss: 0.0108 - val_loss: 0.0097\n",
      "Epoch 15/100\n",
      "    \n"
     ]
    },
    {
     "name": "stderr",
     "output_type": "stream",
     "text": [
      "2017-02-15 03:58:19,952 : INFO : Found lower val loss for epoch 15 => 0.00964\n"
     ]
    },
    {
     "name": "stdout",
     "output_type": "stream",
     "text": [
      "1286325/1286325 [==============================] - 17s - loss: 0.0107 - val_loss: 0.0096\n",
      "Epoch 16/100\n",
      "    \n"
     ]
    },
    {
     "name": "stderr",
     "output_type": "stream",
     "text": [
      "2017-02-15 03:58:38,494 : INFO : Found lower val loss for epoch 16 => 0.00963\n"
     ]
    },
    {
     "name": "stdout",
     "output_type": "stream",
     "text": [
      "1286325/1286325 [==============================] - 18s - loss: 0.0107 - val_loss: 0.0096\n",
      "Epoch 17/100\n",
      "1286325/1286325 [==============================] - 18s - loss: 0.0107 - val_loss: 0.0097\n",
      "Epoch 18/100\n",
      "1286325/1286325 [==============================] - 17s - loss: 0.0107 - val_loss: 0.0096\n",
      "Epoch 19/100\n",
      "1286325/1286325 [==============================] - 17s - loss: 0.0107 - val_loss: 0.0096\n",
      "Epoch 20/100\n",
      "    \n"
     ]
    },
    {
     "name": "stderr",
     "output_type": "stream",
     "text": [
      "2017-02-15 03:59:50,841 : INFO : Found lower val loss for epoch 20 => 0.00956\n"
     ]
    },
    {
     "name": "stdout",
     "output_type": "stream",
     "text": [
      "1286325/1286325 [==============================] - 18s - loss: 0.0107 - val_loss: 0.0096\n",
      "Epoch 21/100\n",
      "1286325/1286325 [==============================] - 19s - loss: 0.0107 - val_loss: 0.0096\n",
      "Epoch 22/100\n",
      "1286325/1286325 [==============================] - 18s - loss: 0.0107 - val_loss: 0.0096\n",
      "Epoch 23/100\n",
      "1286325/1286325 [==============================] - 18s - loss: 0.0106 - val_loss: 0.0097\n",
      "Epoch 24/100\n",
      "    \n"
     ]
    },
    {
     "name": "stderr",
     "output_type": "stream",
     "text": [
      "2017-02-15 04:01:06,581 : INFO : Found lower val loss for epoch 24 => 0.00955\n"
     ]
    },
    {
     "name": "stdout",
     "output_type": "stream",
     "text": [
      "1286325/1286325 [==============================] - 19s - loss: 0.0106 - val_loss: 0.0095\n",
      "Epoch 25/100\n",
      "1286325/1286325 [==============================] - 18s - loss: 0.0106 - val_loss: 0.0096\n",
      "Epoch 26/100\n",
      "    \n"
     ]
    },
    {
     "name": "stderr",
     "output_type": "stream",
     "text": [
      "2017-02-15 04:01:43,538 : INFO : Found lower val loss for epoch 26 => 0.00954\n"
     ]
    },
    {
     "name": "stdout",
     "output_type": "stream",
     "text": [
      "1286325/1286325 [==============================] - 18s - loss: 0.0106 - val_loss: 0.0095\n",
      "Epoch 27/100\n",
      "1286325/1286325 [==============================] - 17s - loss: 0.0106 - val_loss: 0.0096\n",
      "Epoch 28/100\n",
      "    \n"
     ]
    },
    {
     "name": "stderr",
     "output_type": "stream",
     "text": [
      "2017-02-15 04:02:19,922 : INFO : Found lower val loss for epoch 28 => 0.00953\n"
     ]
    },
    {
     "name": "stdout",
     "output_type": "stream",
     "text": [
      "1286325/1286325 [==============================] - 18s - loss: 0.0106 - val_loss: 0.0095\n",
      "Epoch 29/100\n",
      "    \n"
     ]
    },
    {
     "name": "stderr",
     "output_type": "stream",
     "text": [
      "2017-02-15 04:02:39,237 : INFO : Found lower val loss for epoch 29 => 0.00951\n"
     ]
    },
    {
     "name": "stdout",
     "output_type": "stream",
     "text": [
      "1286325/1286325 [==============================] - 19s - loss: 0.0106 - val_loss: 0.0095\n",
      "Epoch 30/100\n",
      "1286325/1286325 [==============================] - 18s - loss: 0.0106 - val_loss: 0.0095\n",
      "Epoch 31/100\n",
      "1286325/1286325 [==============================] - 18s - loss: 0.0106 - val_loss: 0.0096\n",
      "Epoch 32/100\n",
      "1286325/1286325 [==============================] - 18s - loss: 0.0106 - val_loss: 0.0096\n",
      "Epoch 33/100\n",
      "1286325/1286325 [==============================] - 19s - loss: 0.0106 - val_loss: 0.0096\n",
      "Epoch 34/100\n",
      "    \n"
     ]
    },
    {
     "name": "stderr",
     "output_type": "stream",
     "text": [
      "2017-02-15 04:04:12,988 : INFO : Found lower val loss for epoch 34 => 0.00951\n"
     ]
    },
    {
     "name": "stdout",
     "output_type": "stream",
     "text": [
      "1286325/1286325 [==============================] - 19s - loss: 0.0106 - val_loss: 0.0095\n",
      "Epoch 35/100\n",
      "    \n"
     ]
    },
    {
     "name": "stderr",
     "output_type": "stream",
     "text": [
      "2017-02-15 04:04:31,231 : INFO : Found lower val loss for epoch 35 => 0.0095\n"
     ]
    },
    {
     "name": "stdout",
     "output_type": "stream",
     "text": [
      "1286325/1286325 [==============================] - 18s - loss: 0.0106 - val_loss: 0.0095\n",
      "Epoch 36/100\n",
      "1286325/1286325 [==============================] - 19s - loss: 0.0106 - val_loss: 0.0095\n",
      "Epoch 37/100\n",
      "1286325/1286325 [==============================] - 18s - loss: 0.0106 - val_loss: 0.0095\n",
      "Epoch 38/100\n",
      "1286325/1286325 [==============================] - 18s - loss: 0.0106 - val_loss: 0.0095\n",
      "Epoch 39/100\n",
      "1286325/1286325 [==============================] - 19s - loss: 0.0105 - val_loss: 0.0095\n",
      "Epoch 40/100\n",
      "1286325/1286325 [==============================] - 18s - loss: 0.0105 - val_loss: 0.0096\n",
      "Epoch 41/100\n",
      "1286325/1286325 [==============================] - 18s - loss: 0.0105 - val_loss: 0.0095\n",
      "Epoch 42/100\n",
      "1286325/1286325 [==============================] - 17s - loss: 0.0105 - val_loss: 0.0096\n",
      "Epoch 43/100\n",
      "1286325/1286325 [==============================] - 18s - loss: 0.0105 - val_loss: 0.0095\n",
      "Epoch 44/100\n",
      "1286325/1286325 [==============================] - 18s - loss: 0.0105 - val_loss: 0.0095\n",
      "Epoch 45/100\n",
      "    \n"
     ]
    },
    {
     "name": "stderr",
     "output_type": "stream",
     "text": [
      "2017-02-15 04:07:36,824 : INFO : Found lower val loss for epoch 45 => 0.0095\n"
     ]
    },
    {
     "name": "stdout",
     "output_type": "stream",
     "text": [
      "1286325/1286325 [==============================] - 18s - loss: 0.0105 - val_loss: 0.0095\n",
      "Epoch 46/100\n",
      "    \n"
     ]
    },
    {
     "name": "stderr",
     "output_type": "stream",
     "text": [
      "2017-02-15 04:07:55,566 : INFO : Found lower val loss for epoch 46 => 0.00943\n"
     ]
    },
    {
     "name": "stdout",
     "output_type": "stream",
     "text": [
      "1286325/1286325 [==============================] - 18s - loss: 0.0105 - val_loss: 0.0094\n",
      "Epoch 47/100\n",
      "1286325/1286325 [==============================] - 17s - loss: 0.0105 - val_loss: 0.0095\n",
      "Epoch 48/100\n",
      "1286325/1286325 [==============================] - 18s - loss: 0.0105 - val_loss: 0.0095\n",
      "Epoch 49/100\n",
      "1286325/1286325 [==============================] - 18s - loss: 0.0105 - val_loss: 0.0095\n",
      "Epoch 50/100\n",
      "1286325/1286325 [==============================] - 17s - loss: 0.0105 - val_loss: 0.0095\n",
      "Epoch 51/100\n",
      "1286325/1286325 [==============================] - 18s - loss: 0.0105 - val_loss: 0.0094\n",
      "Epoch 52/100\n",
      "1286325/1286325 [==============================] - 18s - loss: 0.0105 - val_loss: 0.0095\n",
      "Epoch 53/100\n",
      "1286325/1286325 [==============================] - 17s - loss: 0.0105 - val_loss: 0.0095\n",
      "Epoch 54/100\n",
      "1286325/1286325 [==============================] - 17s - loss: 0.0105 - val_loss: 0.0095\n",
      "Epoch 55/100\n",
      "1286325/1286325 [==============================] - 17s - loss: 0.0105 - val_loss: 0.0095\n",
      "Epoch 56/100\n",
      "1286325/1286325 [==============================] - 17s - loss: 0.0105 - val_loss: 0.0095\n",
      "Epoch 57/100\n",
      "1286325/1286325 [==============================] - 19s - loss: 0.0105 - val_loss: 0.0095"
     ]
    },
    {
     "name": "stderr",
     "output_type": "stream",
     "text": [
      "2017-02-15 04:11:13,562 : INFO : Evaluating on Validation Data using saved best weights\n"
     ]
    },
    {
     "name": "stdout",
     "output_type": "stream",
     "text": [
      "\n",
      "Epoch 00056: early stopping\n",
      "CPU times: user 6min 47s, sys: 16min 2s, total: 22min 50s\n",
      "Wall time: 17min 36s\n"
     ]
    },
    {
     "name": "stderr",
     "output_type": "stream",
     "text": [
      "2017-02-15 04:11:29,207 : INFO : Generating Validation Metrics\n",
      "2017-02-15 04:12:53,255 : INFO : ***************************************************************************************\n",
      "2017-02-15 04:12:53,257 : INFO : nn_1st-size_500_1st-act_sigmoid_2nd-size_1000_2nd-act_relu_in-drop_False_hid-drop_True\n"
     ]
    },
    {
     "name": "stdout",
     "output_type": "stream",
     "text": [
      "****** Validation Metrics: Cov Err: 3.124 | Top 3: 0.831 | Top 5: 0.899 | F1 Micro: 0.627 | F1 Macro: 0.134\n",
      "____________________________________________________________________________________________________\n",
      "Layer (type)                     Output Shape          Param #     Connected to                     \n",
      "====================================================================================================\n",
      "doc_input (InputLayer)           (None, 100)           0                                            \n",
      "____________________________________________________________________________________________________\n",
      "hidden_layer_sigmoid (Dense)     (None, 500)           50500       doc_input[0][0]                  \n",
      "____________________________________________________________________________________________________\n",
      "dropout_7 (Dropout)              (None, 500)           0           hidden_layer_sigmoid[0][0]       \n",
      "____________________________________________________________________________________________________\n",
      "hidden_layer2_relu (Dense)       (None, 1000)          501000      dropout_7[0][0]                  \n",
      "____________________________________________________________________________________________________\n",
      "softmax_output (Dense)           (None, 244)           244244      hidden_layer2_relu[0][0]         \n",
      "====================================================================================================\n",
      "Total params: 795744\n",
      "____________________________________________________________________________________________________\n",
      "Train on 1286325 samples, validate on 321473 samples\n",
      "Epoch 1/100\n",
      "    \n"
     ]
    },
    {
     "name": "stderr",
     "output_type": "stream",
     "text": [
      "2017-02-15 04:13:22,020 : INFO : Found lower val loss for epoch 1 => 0.01141\n"
     ]
    },
    {
     "name": "stdout",
     "output_type": "stream",
     "text": [
      "1286325/1286325 [==============================] - 27s - loss: 0.0151 - val_loss: 0.0114\n",
      "Epoch 2/100\n",
      "    \n"
     ]
    },
    {
     "name": "stderr",
     "output_type": "stream",
     "text": [
      "2017-02-15 04:13:49,493 : INFO : Found lower val loss for epoch 2 => 0.01059\n"
     ]
    },
    {
     "name": "stdout",
     "output_type": "stream",
     "text": [
      "1286325/1286325 [==============================] - 27s - loss: 0.0112 - val_loss: 0.0106\n",
      "Epoch 3/100\n",
      "    \n"
     ]
    },
    {
     "name": "stderr",
     "output_type": "stream",
     "text": [
      "2017-02-15 04:14:16,646 : INFO : Found lower val loss for epoch 3 => 0.00983\n"
     ]
    },
    {
     "name": "stdout",
     "output_type": "stream",
     "text": [
      "1286325/1286325 [==============================] - 27s - loss: 0.0106 - val_loss: 0.0098\n",
      "Epoch 4/100\n",
      "    \n"
     ]
    },
    {
     "name": "stderr",
     "output_type": "stream",
     "text": [
      "2017-02-15 04:14:43,417 : INFO : Found lower val loss for epoch 4 => 0.00967\n"
     ]
    },
    {
     "name": "stdout",
     "output_type": "stream",
     "text": [
      "1286325/1286325 [==============================] - 26s - loss: 0.0103 - val_loss: 0.0097\n",
      "Epoch 5/100\n",
      "    \n"
     ]
    },
    {
     "name": "stderr",
     "output_type": "stream",
     "text": [
      "2017-02-15 04:15:11,066 : INFO : Found lower val loss for epoch 5 => 0.00963\n"
     ]
    },
    {
     "name": "stdout",
     "output_type": "stream",
     "text": [
      "1286325/1286325 [==============================] - 27s - loss: 0.0101 - val_loss: 0.0096\n",
      "Epoch 6/100\n",
      "    \n"
     ]
    },
    {
     "name": "stderr",
     "output_type": "stream",
     "text": [
      "2017-02-15 04:15:38,874 : INFO : Found lower val loss for epoch 6 => 0.00934\n"
     ]
    },
    {
     "name": "stdout",
     "output_type": "stream",
     "text": [
      "1286325/1286325 [==============================] - 27s - loss: 0.0100 - val_loss: 0.0093\n",
      "Epoch 7/100\n",
      "1286325/1286325 [==============================] - 27s - loss: 0.0099 - val_loss: 0.0094\n",
      "Epoch 8/100\n",
      "    \n"
     ]
    },
    {
     "name": "stderr",
     "output_type": "stream",
     "text": [
      "2017-02-15 04:16:34,318 : INFO : Found lower val loss for epoch 8 => 0.00932\n"
     ]
    },
    {
     "name": "stdout",
     "output_type": "stream",
     "text": [
      "1286325/1286325 [==============================] - 27s - loss: 0.0099 - val_loss: 0.0093\n",
      "Epoch 9/100\n",
      "    \n"
     ]
    },
    {
     "name": "stderr",
     "output_type": "stream",
     "text": [
      "2017-02-15 04:17:02,490 : INFO : Found lower val loss for epoch 9 => 0.00917\n"
     ]
    },
    {
     "name": "stdout",
     "output_type": "stream",
     "text": [
      "1286325/1286325 [==============================] - 28s - loss: 0.0098 - val_loss: 0.0092\n",
      "Epoch 10/100\n",
      "1286325/1286325 [==============================] - 27s - loss: 0.0098 - val_loss: 0.0092\n",
      "Epoch 11/100\n",
      "    \n"
     ]
    },
    {
     "name": "stderr",
     "output_type": "stream",
     "text": [
      "2017-02-15 04:17:57,589 : INFO : Found lower val loss for epoch 11 => 0.00914\n"
     ]
    },
    {
     "name": "stdout",
     "output_type": "stream",
     "text": [
      "1286325/1286325 [==============================] - 27s - loss: 0.0098 - val_loss: 0.0091\n",
      "Epoch 12/100\n",
      "1286325/1286325 [==============================] - 26s - loss: 0.0097 - val_loss: 0.0092\n",
      "Epoch 13/100\n",
      "    \n"
     ]
    },
    {
     "name": "stderr",
     "output_type": "stream",
     "text": [
      "2017-02-15 04:18:51,798 : INFO : Found lower val loss for epoch 13 => 0.00913\n"
     ]
    },
    {
     "name": "stdout",
     "output_type": "stream",
     "text": [
      "1286325/1286325 [==============================] - 27s - loss: 0.0097 - val_loss: 0.0091\n",
      "Epoch 14/100\n",
      "    \n"
     ]
    },
    {
     "name": "stderr",
     "output_type": "stream",
     "text": [
      "2017-02-15 04:19:19,121 : INFO : Found lower val loss for epoch 14 => 0.00911\n"
     ]
    },
    {
     "name": "stdout",
     "output_type": "stream",
     "text": [
      "1286325/1286325 [==============================] - 27s - loss: 0.0097 - val_loss: 0.0091\n",
      "Epoch 15/100\n",
      "    \n"
     ]
    },
    {
     "name": "stderr",
     "output_type": "stream",
     "text": [
      "2017-02-15 04:19:46,806 : INFO : Found lower val loss for epoch 15 => 0.00901\n"
     ]
    },
    {
     "name": "stdout",
     "output_type": "stream",
     "text": [
      "1286325/1286325 [==============================] - 27s - loss: 0.0097 - val_loss: 0.0090\n",
      "Epoch 16/100\n",
      "1286325/1286325 [==============================] - 26s - loss: 0.0097 - val_loss: 0.0090\n",
      "Epoch 17/100\n",
      "1286325/1286325 [==============================] - 26s - loss: 0.0097 - val_loss: 0.0091\n",
      "Epoch 18/100\n",
      "1286325/1286325 [==============================] - 27s - loss: 0.0097 - val_loss: 0.0090\n",
      "Epoch 19/100\n",
      "1286325/1286325 [==============================] - 27s - loss: 0.0097 - val_loss: 0.0090\n",
      "Epoch 20/100\n",
      "    \n"
     ]
    },
    {
     "name": "stderr",
     "output_type": "stream",
     "text": [
      "2017-02-15 04:22:02,929 : INFO : Found lower val loss for epoch 20 => 0.00899\n"
     ]
    },
    {
     "name": "stdout",
     "output_type": "stream",
     "text": [
      "1286325/1286325 [==============================] - 27s - loss: 0.0097 - val_loss: 0.0090\n",
      "Epoch 21/100\n",
      "1286325/1286325 [==============================] - 27s - loss: 0.0097 - val_loss: 0.0090\n",
      "Epoch 22/100\n",
      "1286325/1286325 [==============================] - 26s - loss: 0.0097 - val_loss: 0.0090\n",
      "Epoch 23/100\n",
      "1286325/1286325 [==============================] - 26s - loss: 0.0097 - val_loss: 0.0091\n",
      "Epoch 24/100\n",
      "    \n"
     ]
    },
    {
     "name": "stderr",
     "output_type": "stream",
     "text": [
      "2017-02-15 04:23:50,407 : INFO : Found lower val loss for epoch 24 => 0.00898\n"
     ]
    },
    {
     "name": "stdout",
     "output_type": "stream",
     "text": [
      "1286325/1286325 [==============================] - 26s - loss: 0.0097 - val_loss: 0.0090\n",
      "Epoch 25/100\n",
      "1286325/1286325 [==============================] - 26s - loss: 0.0097 - val_loss: 0.0090\n",
      "Epoch 26/100\n",
      "    \n"
     ]
    },
    {
     "name": "stderr",
     "output_type": "stream",
     "text": [
      "2017-02-15 04:24:45,071 : INFO : Found lower val loss for epoch 26 => 0.00898\n"
     ]
    },
    {
     "name": "stdout",
     "output_type": "stream",
     "text": [
      "1286325/1286325 [==============================] - 27s - loss: 0.0097 - val_loss: 0.0090\n",
      "Epoch 27/100\n",
      "    \n"
     ]
    },
    {
     "name": "stderr",
     "output_type": "stream",
     "text": [
      "2017-02-15 04:25:13,203 : INFO : Found lower val loss for epoch 27 => 0.00893\n"
     ]
    },
    {
     "name": "stdout",
     "output_type": "stream",
     "text": [
      "1286325/1286325 [==============================] - 28s - loss: 0.0097 - val_loss: 0.0089\n",
      "Epoch 28/100\n",
      "1286325/1286325 [==============================] - 27s - loss: 0.0097 - val_loss: 0.0090\n",
      "Epoch 29/100\n",
      "1286325/1286325 [==============================] - 27s - loss: 0.0097 - val_loss: 0.0089\n",
      "Epoch 30/100\n",
      "    \n"
     ]
    },
    {
     "name": "stderr",
     "output_type": "stream",
     "text": [
      "2017-02-15 04:26:34,828 : INFO : Found lower val loss for epoch 30 => 0.00892\n"
     ]
    },
    {
     "name": "stdout",
     "output_type": "stream",
     "text": [
      "1286325/1286325 [==============================] - 27s - loss: 0.0097 - val_loss: 0.0089\n",
      "Epoch 31/100\n",
      "1286325/1286325 [==============================] - 27s - loss: 0.0097 - val_loss: 0.0089\n",
      "Epoch 32/100\n",
      "1286325/1286325 [==============================] - 27s - loss: 0.0097 - val_loss: 0.0089\n",
      "Epoch 33/100\n",
      "1286325/1286325 [==============================] - 27s - loss: 0.0097 - val_loss: 0.0090\n",
      "Epoch 34/100\n",
      "    \n"
     ]
    },
    {
     "name": "stderr",
     "output_type": "stream",
     "text": [
      "2017-02-15 04:28:24,781 : INFO : Found lower val loss for epoch 34 => 0.0089\n"
     ]
    },
    {
     "name": "stdout",
     "output_type": "stream",
     "text": [
      "1286325/1286325 [==============================] - 27s - loss: 0.0097 - val_loss: 0.0089\n",
      "Epoch 35/100\n",
      "    \n"
     ]
    },
    {
     "name": "stderr",
     "output_type": "stream",
     "text": [
      "2017-02-15 04:28:53,183 : INFO : Found lower val loss for epoch 35 => 0.0089\n"
     ]
    },
    {
     "name": "stdout",
     "output_type": "stream",
     "text": [
      "1286325/1286325 [==============================] - 28s - loss: 0.0097 - val_loss: 0.0089\n",
      "Epoch 36/100\n",
      "1286325/1286325 [==============================] - 28s - loss: 0.0097 - val_loss: 0.0089\n",
      "Epoch 37/100\n",
      "1286325/1286325 [==============================] - 28s - loss: 0.0097 - val_loss: 0.0089\n",
      "Epoch 38/100\n",
      "1286325/1286325 [==============================] - 27s - loss: 0.0097 - val_loss: 0.0090\n",
      "Epoch 39/100\n",
      "1286325/1286325 [==============================] - 24s - loss: 0.0097 - val_loss: 0.0089\n",
      "Epoch 40/100\n",
      "1286325/1286325 [==============================] - 22s - loss: 0.0096 - val_loss: 0.0090\n",
      "Epoch 41/100\n",
      "1286325/1286325 [==============================] - 22s - loss: 0.0096 - val_loss: 0.0090\n",
      "Epoch 42/100\n",
      "1286325/1286325 [==============================] - 22s - loss: 0.0096 - val_loss: 0.0090\n",
      "Epoch 43/100\n",
      "1286325/1286325 [==============================] - 22s - loss: 0.0096 - val_loss: 0.0089\n",
      "Epoch 44/100\n",
      "1286325/1286325 [==============================] - 22s - loss: 0.0096 - val_loss: 0.0089\n",
      "Epoch 45/100\n",
      "1286325/1286325 [==============================] - 22s - loss: 0.0096 - val_loss: 0.0089"
     ]
    },
    {
     "name": "stderr",
     "output_type": "stream",
     "text": [
      "2017-02-15 04:32:57,509 : INFO : Evaluating on Validation Data using saved best weights\n"
     ]
    },
    {
     "name": "stdout",
     "output_type": "stream",
     "text": [
      "\n",
      "Epoch 00044: early stopping\n",
      "CPU times: user 6min 33s, sys: 17min 51s, total: 24min 24s\n",
      "Wall time: 20min 4s\n"
     ]
    },
    {
     "name": "stderr",
     "output_type": "stream",
     "text": [
      "2017-02-15 04:33:20,818 : INFO : Generating Validation Metrics\n",
      "2017-02-15 04:34:49,996 : INFO : ***************************************************************************************\n",
      "2017-02-15 04:34:49,998 : INFO : nn_1st-size_200_1st-act_sigmoid_2nd-size_None_2nd-act_sigmoid_in-drop_False_hid-drop_True\n"
     ]
    },
    {
     "name": "stdout",
     "output_type": "stream",
     "text": [
      "****** Validation Metrics: Cov Err: 2.941 | Top 3: 0.848 | Top 5: 0.910 | F1 Micro: 0.652 | F1 Macro: 0.174\n",
      "____________________________________________________________________________________________________\n",
      "Layer (type)                     Output Shape          Param #     Connected to                     \n",
      "====================================================================================================\n",
      "doc_input (InputLayer)           (None, 100)           0                                            \n",
      "____________________________________________________________________________________________________\n",
      "hidden_layer_sigmoid (Dense)     (None, 200)           20200       doc_input[0][0]                  \n",
      "____________________________________________________________________________________________________\n",
      "dropout_8 (Dropout)              (None, 200)           0           hidden_layer_sigmoid[0][0]       \n",
      "____________________________________________________________________________________________________\n",
      "softmax_output (Dense)           (None, 244)           49044       dropout_8[0][0]                  \n",
      "====================================================================================================\n",
      "Total params: 69244\n",
      "____________________________________________________________________________________________________\n",
      "Train on 1286325 samples, validate on 321473 samples\n",
      "Epoch 1/100\n",
      "    \n"
     ]
    },
    {
     "name": "stderr",
     "output_type": "stream",
     "text": [
      "2017-02-15 04:35:05,805 : INFO : Found lower val loss for epoch 1 => 0.01193\n"
     ]
    },
    {
     "name": "stdout",
     "output_type": "stream",
     "text": [
      "1286325/1286325 [==============================] - 14s - loss: 0.0220 - val_loss: 0.0119\n",
      "Epoch 2/100\n",
      "    \n"
     ]
    },
    {
     "name": "stderr",
     "output_type": "stream",
     "text": [
      "2017-02-15 04:35:19,642 : INFO : Found lower val loss for epoch 2 => 0.0112\n"
     ]
    },
    {
     "name": "stdout",
     "output_type": "stream",
     "text": [
      "1286325/1286325 [==============================] - 13s - loss: 0.0124 - val_loss: 0.0112\n",
      "Epoch 3/100\n",
      "    \n"
     ]
    },
    {
     "name": "stderr",
     "output_type": "stream",
     "text": [
      "2017-02-15 04:35:33,771 : INFO : Found lower val loss for epoch 3 => 0.01097\n"
     ]
    },
    {
     "name": "stdout",
     "output_type": "stream",
     "text": [
      "1286325/1286325 [==============================] - 14s - loss: 0.0119 - val_loss: 0.0110\n",
      "Epoch 4/100\n",
      "    \n"
     ]
    },
    {
     "name": "stderr",
     "output_type": "stream",
     "text": [
      "2017-02-15 04:35:48,027 : INFO : Found lower val loss for epoch 4 => 0.01082\n"
     ]
    },
    {
     "name": "stdout",
     "output_type": "stream",
     "text": [
      "1286325/1286325 [==============================] - 14s - loss: 0.0117 - val_loss: 0.0108\n",
      "Epoch 5/100\n",
      "    \n"
     ]
    },
    {
     "name": "stderr",
     "output_type": "stream",
     "text": [
      "2017-02-15 04:36:02,442 : INFO : Found lower val loss for epoch 5 => 0.01073\n"
     ]
    },
    {
     "name": "stdout",
     "output_type": "stream",
     "text": [
      "1286325/1286325 [==============================] - 14s - loss: 0.0116 - val_loss: 0.0107\n",
      "Epoch 6/100\n",
      "    \n"
     ]
    },
    {
     "name": "stderr",
     "output_type": "stream",
     "text": [
      "2017-02-15 04:36:16,144 : INFO : Found lower val loss for epoch 6 => 0.01066\n"
     ]
    },
    {
     "name": "stdout",
     "output_type": "stream",
     "text": [
      "1286325/1286325 [==============================] - 13s - loss: 0.0115 - val_loss: 0.0107\n",
      "Epoch 7/100\n",
      "    \n"
     ]
    },
    {
     "name": "stderr",
     "output_type": "stream",
     "text": [
      "2017-02-15 04:36:30,056 : INFO : Found lower val loss for epoch 7 => 0.01063\n"
     ]
    },
    {
     "name": "stdout",
     "output_type": "stream",
     "text": [
      "1286325/1286325 [==============================] - 13s - loss: 0.0115 - val_loss: 0.0106\n",
      "Epoch 8/100\n",
      "    \n"
     ]
    },
    {
     "name": "stderr",
     "output_type": "stream",
     "text": [
      "2017-02-15 04:36:43,900 : INFO : Found lower val loss for epoch 8 => 0.01059\n"
     ]
    },
    {
     "name": "stdout",
     "output_type": "stream",
     "text": [
      "1286325/1286325 [==============================] - 13s - loss: 0.0114 - val_loss: 0.0106\n",
      "Epoch 9/100\n",
      "    \n"
     ]
    },
    {
     "name": "stderr",
     "output_type": "stream",
     "text": [
      "2017-02-15 04:36:57,576 : INFO : Found lower val loss for epoch 9 => 0.01057\n"
     ]
    },
    {
     "name": "stdout",
     "output_type": "stream",
     "text": [
      "1286325/1286325 [==============================] - 13s - loss: 0.0114 - val_loss: 0.0106\n",
      "Epoch 10/100\n",
      "1286325/1286325 [==============================] - 13s - loss: 0.0114 - val_loss: 0.0106\n",
      "Epoch 11/100\n",
      "    \n"
     ]
    },
    {
     "name": "stderr",
     "output_type": "stream",
     "text": [
      "2017-02-15 04:37:25,065 : INFO : Found lower val loss for epoch 11 => 0.01055\n"
     ]
    },
    {
     "name": "stdout",
     "output_type": "stream",
     "text": [
      "1286325/1286325 [==============================] - 13s - loss: 0.0114 - val_loss: 0.0105\n",
      "Epoch 12/100\n",
      "    \n"
     ]
    },
    {
     "name": "stderr",
     "output_type": "stream",
     "text": [
      "2017-02-15 04:37:38,951 : INFO : Found lower val loss for epoch 12 => 0.01053\n"
     ]
    },
    {
     "name": "stdout",
     "output_type": "stream",
     "text": [
      "1286325/1286325 [==============================] - 13s - loss: 0.0113 - val_loss: 0.0105\n",
      "Epoch 13/100\n",
      "    \n"
     ]
    },
    {
     "name": "stderr",
     "output_type": "stream",
     "text": [
      "2017-02-15 04:37:52,462 : INFO : Found lower val loss for epoch 13 => 0.01051\n"
     ]
    },
    {
     "name": "stdout",
     "output_type": "stream",
     "text": [
      "1286325/1286325 [==============================] - 13s - loss: 0.0113 - val_loss: 0.0105\n",
      "Epoch 14/100\n",
      "    \n"
     ]
    },
    {
     "name": "stderr",
     "output_type": "stream",
     "text": [
      "2017-02-15 04:38:06,956 : INFO : Found lower val loss for epoch 14 => 0.0105\n"
     ]
    },
    {
     "name": "stdout",
     "output_type": "stream",
     "text": [
      "1286325/1286325 [==============================] - 14s - loss: 0.0113 - val_loss: 0.0105\n",
      "Epoch 15/100\n",
      "1286325/1286325 [==============================] - 13s - loss: 0.0113 - val_loss: 0.0105\n",
      "Epoch 16/100\n",
      "1286325/1286325 [==============================] - 13s - loss: 0.0113 - val_loss: 0.0105\n",
      "Epoch 17/100\n",
      "    \n"
     ]
    },
    {
     "name": "stderr",
     "output_type": "stream",
     "text": [
      "2017-02-15 04:38:48,284 : INFO : Found lower val loss for epoch 17 => 0.01048\n"
     ]
    },
    {
     "name": "stdout",
     "output_type": "stream",
     "text": [
      "1286325/1286325 [==============================] - 14s - loss: 0.0113 - val_loss: 0.0105\n",
      "Epoch 18/100\n",
      "1286325/1286325 [==============================] - 14s - loss: 0.0113 - val_loss: 0.0105\n",
      "Epoch 19/100\n",
      "1286325/1286325 [==============================] - 13s - loss: 0.0113 - val_loss: 0.0105\n",
      "Epoch 20/100\n",
      "    \n"
     ]
    },
    {
     "name": "stderr",
     "output_type": "stream",
     "text": [
      "2017-02-15 04:39:30,176 : INFO : Found lower val loss for epoch 20 => 0.01048\n"
     ]
    },
    {
     "name": "stdout",
     "output_type": "stream",
     "text": [
      "1286325/1286325 [==============================] - 14s - loss: 0.0113 - val_loss: 0.0105\n",
      "Epoch 21/100\n",
      "    \n"
     ]
    },
    {
     "name": "stderr",
     "output_type": "stream",
     "text": [
      "2017-02-15 04:39:44,878 : INFO : Found lower val loss for epoch 21 => 0.01048\n"
     ]
    },
    {
     "name": "stdout",
     "output_type": "stream",
     "text": [
      "1286325/1286325 [==============================] - 14s - loss: 0.0113 - val_loss: 0.0105\n",
      "Epoch 22/100\n",
      "1286325/1286325 [==============================] - 13s - loss: 0.0113 - val_loss: 0.0105\n",
      "Epoch 23/100\n",
      "    \n"
     ]
    },
    {
     "name": "stderr",
     "output_type": "stream",
     "text": [
      "2017-02-15 04:40:11,996 : INFO : Found lower val loss for epoch 23 => 0.01047\n"
     ]
    },
    {
     "name": "stdout",
     "output_type": "stream",
     "text": [
      "1286325/1286325 [==============================] - 13s - loss: 0.0113 - val_loss: 0.0105\n",
      "Epoch 24/100\n",
      "    \n"
     ]
    },
    {
     "name": "stderr",
     "output_type": "stream",
     "text": [
      "2017-02-15 04:40:25,656 : INFO : Found lower val loss for epoch 24 => 0.01047\n"
     ]
    },
    {
     "name": "stdout",
     "output_type": "stream",
     "text": [
      "1286325/1286325 [==============================] - 13s - loss: 0.0113 - val_loss: 0.0105\n",
      "Epoch 25/100\n",
      "1286325/1286325 [==============================] - 13s - loss: 0.0113 - val_loss: 0.0105\n",
      "Epoch 26/100\n",
      "1286325/1286325 [==============================] - 13s - loss: 0.0113 - val_loss: 0.0105\n",
      "Epoch 27/100\n",
      "1286325/1286325 [==============================] - 13s - loss: 0.0113 - val_loss: 0.0105\n",
      "Epoch 28/100\n",
      "1286325/1286325 [==============================] - 13s - loss: 0.0113 - val_loss: 0.0105\n",
      "Epoch 29/100\n",
      "1286325/1286325 [==============================] - 13s - loss: 0.0113 - val_loss: 0.0105\n",
      "Epoch 30/100\n",
      "1286325/1286325 [==============================] - 13s - loss: 0.0113 - val_loss: 0.0105\n",
      "Epoch 31/100\n",
      "1286325/1286325 [==============================] - 13s - loss: 0.0113 - val_loss: 0.0105\n",
      "Epoch 32/100\n",
      "1286325/1286325 [==============================] - 13s - loss: 0.0113 - val_loss: 0.0105\n",
      "Epoch 33/100\n",
      "1286325/1286325 [==============================] - 14s - loss: 0.0113 - val_loss: 0.0105\n",
      "Epoch 34/100\n",
      "1286325/1286325 [==============================] - 13s - loss: 0.0113 - val_loss: 0.0105"
     ]
    },
    {
     "name": "stderr",
     "output_type": "stream",
     "text": [
      "2017-02-15 04:42:40,484 : INFO : Evaluating on Validation Data using saved best weights\n"
     ]
    },
    {
     "name": "stdout",
     "output_type": "stream",
     "text": [
      "\n",
      "Epoch 00033: early stopping\n",
      "CPU times: user 2min 44s, sys: 7min 8s, total: 9min 53s\n",
      "Wall time: 7min 50s\n"
     ]
    },
    {
     "name": "stderr",
     "output_type": "stream",
     "text": [
      "2017-02-15 04:42:57,738 : INFO : Generating Validation Metrics\n",
      "2017-02-15 04:44:28,526 : INFO : ***************************************************************************************\n",
      "2017-02-15 04:44:28,529 : INFO : nn_1st-size_100_1st-act_sigmoid_2nd-size_None_2nd-act_sigmoid_in-drop_False_hid-drop_True\n"
     ]
    },
    {
     "name": "stdout",
     "output_type": "stream",
     "text": [
      "****** Validation Metrics: Cov Err: 3.474 | Top 3: 0.813 | Top 5: 0.885 | F1 Micro: 0.551 | F1 Macro: 0.067\n",
      "____________________________________________________________________________________________________\n",
      "Layer (type)                     Output Shape          Param #     Connected to                     \n",
      "====================================================================================================\n",
      "doc_input (InputLayer)           (None, 100)           0                                            \n",
      "____________________________________________________________________________________________________\n",
      "hidden_layer_sigmoid (Dense)     (None, 100)           10100       doc_input[0][0]                  \n",
      "____________________________________________________________________________________________________\n",
      "dropout_9 (Dropout)              (None, 100)           0           hidden_layer_sigmoid[0][0]       \n",
      "____________________________________________________________________________________________________\n",
      "softmax_output (Dense)           (None, 244)           24644       dropout_9[0][0]                  \n",
      "====================================================================================================\n",
      "Total params: 34744\n",
      "____________________________________________________________________________________________________\n",
      "Train on 1286325 samples, validate on 321473 samples\n",
      "Epoch 1/100\n",
      "    \n"
     ]
    },
    {
     "name": "stderr",
     "output_type": "stream",
     "text": [
      "2017-02-15 04:44:41,318 : INFO : Found lower val loss for epoch 1 => 0.01291\n"
     ]
    },
    {
     "name": "stdout",
     "output_type": "stream",
     "text": [
      "1286325/1286325 [==============================] - 11s - loss: 0.0282 - val_loss: 0.0129\n",
      "Epoch 2/100\n",
      "    \n"
     ]
    },
    {
     "name": "stderr",
     "output_type": "stream",
     "text": [
      "2017-02-15 04:44:52,270 : INFO : Found lower val loss for epoch 2 => 0.01197\n"
     ]
    },
    {
     "name": "stdout",
     "output_type": "stream",
     "text": [
      "1286325/1286325 [==============================] - 10s - loss: 0.0136 - val_loss: 0.0120\n",
      "Epoch 3/100\n",
      "    \n"
     ]
    },
    {
     "name": "stderr",
     "output_type": "stream",
     "text": [
      "2017-02-15 04:45:03,213 : INFO : Found lower val loss for epoch 3 => 0.01165\n"
     ]
    },
    {
     "name": "stdout",
     "output_type": "stream",
     "text": [
      "1286325/1286325 [==============================] - 10s - loss: 0.0130 - val_loss: 0.0117\n",
      "Epoch 4/100\n",
      "    \n"
     ]
    },
    {
     "name": "stderr",
     "output_type": "stream",
     "text": [
      "2017-02-15 04:45:14,326 : INFO : Found lower val loss for epoch 4 => 0.01152\n"
     ]
    },
    {
     "name": "stdout",
     "output_type": "stream",
     "text": [
      "1286325/1286325 [==============================] - 11s - loss: 0.0128 - val_loss: 0.0115\n",
      "Epoch 5/100\n",
      "    \n"
     ]
    },
    {
     "name": "stderr",
     "output_type": "stream",
     "text": [
      "2017-02-15 04:45:25,671 : INFO : Found lower val loss for epoch 5 => 0.01143\n"
     ]
    },
    {
     "name": "stdout",
     "output_type": "stream",
     "text": [
      "1286325/1286325 [==============================] - 11s - loss: 0.0127 - val_loss: 0.0114\n",
      "Epoch 6/100\n",
      "    \n"
     ]
    },
    {
     "name": "stderr",
     "output_type": "stream",
     "text": [
      "2017-02-15 04:45:36,723 : INFO : Found lower val loss for epoch 6 => 0.01137\n"
     ]
    },
    {
     "name": "stdout",
     "output_type": "stream",
     "text": [
      "1286325/1286325 [==============================] - 11s - loss: 0.0126 - val_loss: 0.0114\n",
      "Epoch 7/100\n",
      "    \n"
     ]
    },
    {
     "name": "stderr",
     "output_type": "stream",
     "text": [
      "2017-02-15 04:45:47,721 : INFO : Found lower val loss for epoch 7 => 0.01133\n"
     ]
    },
    {
     "name": "stdout",
     "output_type": "stream",
     "text": [
      "1286325/1286325 [==============================] - 10s - loss: 0.0125 - val_loss: 0.0113\n",
      "Epoch 8/100\n",
      "    \n"
     ]
    },
    {
     "name": "stderr",
     "output_type": "stream",
     "text": [
      "2017-02-15 04:45:58,636 : INFO : Found lower val loss for epoch 8 => 0.0113\n"
     ]
    },
    {
     "name": "stdout",
     "output_type": "stream",
     "text": [
      "1286325/1286325 [==============================] - 10s - loss: 0.0125 - val_loss: 0.0113\n",
      "Epoch 9/100\n",
      "    \n"
     ]
    },
    {
     "name": "stderr",
     "output_type": "stream",
     "text": [
      "2017-02-15 04:46:09,523 : INFO : Found lower val loss for epoch 9 => 0.01128\n"
     ]
    },
    {
     "name": "stdout",
     "output_type": "stream",
     "text": [
      "1286325/1286325 [==============================] - 10s - loss: 0.0125 - val_loss: 0.0113\n",
      "Epoch 10/100\n",
      "    \n"
     ]
    },
    {
     "name": "stderr",
     "output_type": "stream",
     "text": [
      "2017-02-15 04:46:20,422 : INFO : Found lower val loss for epoch 10 => 0.01125\n"
     ]
    },
    {
     "name": "stdout",
     "output_type": "stream",
     "text": [
      "1286325/1286325 [==============================] - 10s - loss: 0.0125 - val_loss: 0.0113\n",
      "Epoch 11/100\n",
      "    \n"
     ]
    },
    {
     "name": "stderr",
     "output_type": "stream",
     "text": [
      "2017-02-15 04:46:31,421 : INFO : Found lower val loss for epoch 11 => 0.01125\n"
     ]
    },
    {
     "name": "stdout",
     "output_type": "stream",
     "text": [
      "1286325/1286325 [==============================] - 10s - loss: 0.0124 - val_loss: 0.0112\n",
      "Epoch 12/100\n",
      "    \n"
     ]
    },
    {
     "name": "stderr",
     "output_type": "stream",
     "text": [
      "2017-02-15 04:46:42,811 : INFO : Found lower val loss for epoch 12 => 0.01123\n"
     ]
    },
    {
     "name": "stdout",
     "output_type": "stream",
     "text": [
      "1286325/1286325 [==============================] - 11s - loss: 0.0124 - val_loss: 0.0112\n",
      "Epoch 13/100\n",
      "    \n"
     ]
    },
    {
     "name": "stderr",
     "output_type": "stream",
     "text": [
      "2017-02-15 04:46:54,103 : INFO : Found lower val loss for epoch 13 => 0.01121\n"
     ]
    },
    {
     "name": "stdout",
     "output_type": "stream",
     "text": [
      "1286325/1286325 [==============================] - 11s - loss: 0.0124 - val_loss: 0.0112\n",
      "Epoch 14/100\n",
      "    \n"
     ]
    },
    {
     "name": "stderr",
     "output_type": "stream",
     "text": [
      "2017-02-15 04:47:05,376 : INFO : Found lower val loss for epoch 14 => 0.0112\n"
     ]
    },
    {
     "name": "stdout",
     "output_type": "stream",
     "text": [
      "1286325/1286325 [==============================] - 11s - loss: 0.0124 - val_loss: 0.0112\n",
      "Epoch 15/100\n",
      "    \n"
     ]
    },
    {
     "name": "stderr",
     "output_type": "stream",
     "text": [
      "2017-02-15 04:47:16,783 : INFO : Found lower val loss for epoch 15 => 0.0112\n"
     ]
    },
    {
     "name": "stdout",
     "output_type": "stream",
     "text": [
      "1286325/1286325 [==============================] - 11s - loss: 0.0124 - val_loss: 0.0112\n",
      "Epoch 16/100\n",
      "1286325/1286325 [==============================] - 10s - loss: 0.0124 - val_loss: 0.0112\n",
      "Epoch 17/100\n",
      "    \n"
     ]
    },
    {
     "name": "stderr",
     "output_type": "stream",
     "text": [
      "2017-02-15 04:47:38,946 : INFO : Found lower val loss for epoch 17 => 0.01118\n"
     ]
    },
    {
     "name": "stdout",
     "output_type": "stream",
     "text": [
      "1286325/1286325 [==============================] - 11s - loss: 0.0124 - val_loss: 0.0112\n",
      "Epoch 18/100\n",
      "    \n"
     ]
    },
    {
     "name": "stderr",
     "output_type": "stream",
     "text": [
      "2017-02-15 04:47:50,289 : INFO : Found lower val loss for epoch 18 => 0.01118\n"
     ]
    },
    {
     "name": "stdout",
     "output_type": "stream",
     "text": [
      "1286325/1286325 [==============================] - 11s - loss: 0.0124 - val_loss: 0.0112\n",
      "Epoch 19/100\n",
      "1286325/1286325 [==============================] - 11s - loss: 0.0124 - val_loss: 0.0112\n",
      "Epoch 20/100\n",
      "    \n"
     ]
    },
    {
     "name": "stderr",
     "output_type": "stream",
     "text": [
      "2017-02-15 04:48:12,767 : INFO : Found lower val loss for epoch 20 => 0.01116\n"
     ]
    },
    {
     "name": "stdout",
     "output_type": "stream",
     "text": [
      "1286325/1286325 [==============================] - 11s - loss: 0.0124 - val_loss: 0.0112\n",
      "Epoch 21/100\n",
      "1286325/1286325 [==============================] - 11s - loss: 0.0124 - val_loss: 0.0112\n",
      "Epoch 22/100\n",
      "    \n"
     ]
    },
    {
     "name": "stderr",
     "output_type": "stream",
     "text": [
      "2017-02-15 04:48:35,078 : INFO : Found lower val loss for epoch 22 => 0.01116\n"
     ]
    },
    {
     "name": "stdout",
     "output_type": "stream",
     "text": [
      "1286325/1286325 [==============================] - 11s - loss: 0.0124 - val_loss: 0.0112\n",
      "Epoch 23/100\n",
      "1286325/1286325 [==============================] - 10s - loss: 0.0124 - val_loss: 0.0112\n",
      "Epoch 24/100\n",
      "1286325/1286325 [==============================] - 10s - loss: 0.0124 - val_loss: 0.0112\n",
      "Epoch 25/100\n",
      "1286325/1286325 [==============================] - 10s - loss: 0.0124 - val_loss: 0.0112\n",
      "Epoch 26/100\n",
      "1286325/1286325 [==============================] - 10s - loss: 0.0124 - val_loss: 0.0112\n",
      "Epoch 27/100\n",
      "1286325/1286325 [==============================] - 10s - loss: 0.0124 - val_loss: 0.0112\n",
      "Epoch 28/100\n",
      "    \n"
     ]
    },
    {
     "name": "stderr",
     "output_type": "stream",
     "text": [
      "2017-02-15 04:49:39,601 : INFO : Found lower val loss for epoch 28 => 0.01116\n"
     ]
    },
    {
     "name": "stdout",
     "output_type": "stream",
     "text": [
      "1286325/1286325 [==============================] - 10s - loss: 0.0124 - val_loss: 0.0112\n",
      "Epoch 29/100\n",
      "1286325/1286325 [==============================] - 10s - loss: 0.0124 - val_loss: 0.0112\n",
      "Epoch 30/100\n",
      "1286325/1286325 [==============================] - 10s - loss: 0.0124 - val_loss: 0.0112\n",
      "Epoch 31/100\n",
      "1286325/1286325 [==============================] - 11s - loss: 0.0124 - val_loss: 0.0112"
     ]
    },
    {
     "name": "stderr",
     "output_type": "stream",
     "text": [
      "2017-02-15 04:50:12,492 : INFO : Evaluating on Validation Data using saved best weights\n"
     ]
    },
    {
     "name": "stdout",
     "output_type": "stream",
     "text": [
      "\n",
      "Epoch 00030: early stopping\n",
      "CPU times: user 2min 6s, sys: 4min 54s, total: 7min\n",
      "Wall time: 5min 43s\n"
     ]
    },
    {
     "name": "stderr",
     "output_type": "stream",
     "text": [
      "2017-02-15 04:50:28,629 : INFO : Generating Validation Metrics\n",
      "2017-02-15 04:52:00,400 : INFO : ***************************************************************************************\n",
      "2017-02-15 04:52:00,402 : INFO : nn_1st-size_100_1st-act_sigmoid_2nd-size_1000_2nd-act_sigmoid_in-drop_False_hid-drop_True\n"
     ]
    },
    {
     "name": "stdout",
     "output_type": "stream",
     "text": [
      "****** Validation Metrics: Cov Err: 3.922 | Top 3: 0.786 | Top 5: 0.864 | F1 Micro: 0.507 | F1 Macro: 0.044\n",
      "____________________________________________________________________________________________________\n",
      "Layer (type)                     Output Shape          Param #     Connected to                     \n",
      "====================================================================================================\n",
      "doc_input (InputLayer)           (None, 100)           0                                            \n",
      "____________________________________________________________________________________________________\n",
      "hidden_layer_sigmoid (Dense)     (None, 100)           10100       doc_input[0][0]                  \n",
      "____________________________________________________________________________________________________\n",
      "dropout_10 (Dropout)             (None, 100)           0           hidden_layer_sigmoid[0][0]       \n",
      "____________________________________________________________________________________________________\n",
      "hidden_layer2_sigmoid (Dense)    (None, 1000)          101000      dropout_10[0][0]                 \n",
      "____________________________________________________________________________________________________\n",
      "softmax_output (Dense)           (None, 244)           244244      hidden_layer2_sigmoid[0][0]      \n",
      "====================================================================================================\n",
      "Total params: 355344\n",
      "____________________________________________________________________________________________________\n",
      "Train on 1286325 samples, validate on 321473 samples\n",
      "Epoch 1/100\n",
      "    \n"
     ]
    },
    {
     "name": "stderr",
     "output_type": "stream",
     "text": [
      "2017-02-15 04:52:19,506 : INFO : Found lower val loss for epoch 1 => 0.01323\n"
     ]
    },
    {
     "name": "stdout",
     "output_type": "stream",
     "text": [
      "1286325/1286325 [==============================] - 17s - loss: 0.0174 - val_loss: 0.0132\n",
      "Epoch 2/100\n",
      "    \n"
     ]
    },
    {
     "name": "stderr",
     "output_type": "stream",
     "text": [
      "2017-02-15 04:52:36,756 : INFO : Found lower val loss for epoch 2 => 0.012\n"
     ]
    },
    {
     "name": "stdout",
     "output_type": "stream",
     "text": [
      "1286325/1286325 [==============================] - 17s - loss: 0.0133 - val_loss: 0.0120\n",
      "Epoch 3/100\n",
      "    \n"
     ]
    },
    {
     "name": "stderr",
     "output_type": "stream",
     "text": [
      "2017-02-15 04:52:53,874 : INFO : Found lower val loss for epoch 3 => 0.01151\n"
     ]
    },
    {
     "name": "stdout",
     "output_type": "stream",
     "text": [
      "1286325/1286325 [==============================] - 17s - loss: 0.0126 - val_loss: 0.0115\n",
      "Epoch 4/100\n",
      "    \n"
     ]
    },
    {
     "name": "stderr",
     "output_type": "stream",
     "text": [
      "2017-02-15 04:53:11,109 : INFO : Found lower val loss for epoch 4 => 0.0112\n"
     ]
    },
    {
     "name": "stdout",
     "output_type": "stream",
     "text": [
      "1286325/1286325 [==============================] - 17s - loss: 0.0122 - val_loss: 0.0112\n",
      "Epoch 5/100\n",
      "    \n"
     ]
    },
    {
     "name": "stderr",
     "output_type": "stream",
     "text": [
      "2017-02-15 04:53:28,344 : INFO : Found lower val loss for epoch 5 => 0.01095\n"
     ]
    },
    {
     "name": "stdout",
     "output_type": "stream",
     "text": [
      "1286325/1286325 [==============================] - 17s - loss: 0.0120 - val_loss: 0.0110\n",
      "Epoch 6/100\n",
      "    \n"
     ]
    },
    {
     "name": "stderr",
     "output_type": "stream",
     "text": [
      "2017-02-15 04:53:45,548 : INFO : Found lower val loss for epoch 6 => 0.01075\n"
     ]
    },
    {
     "name": "stdout",
     "output_type": "stream",
     "text": [
      "1286325/1286325 [==============================] - 17s - loss: 0.0118 - val_loss: 0.0108\n",
      "Epoch 7/100\n",
      "    \n"
     ]
    },
    {
     "name": "stderr",
     "output_type": "stream",
     "text": [
      "2017-02-15 04:54:02,729 : INFO : Found lower val loss for epoch 7 => 0.01068\n"
     ]
    },
    {
     "name": "stdout",
     "output_type": "stream",
     "text": [
      "1286325/1286325 [==============================] - 17s - loss: 0.0117 - val_loss: 0.0107\n",
      "Epoch 8/100\n",
      "    \n"
     ]
    },
    {
     "name": "stderr",
     "output_type": "stream",
     "text": [
      "2017-02-15 04:54:19,887 : INFO : Found lower val loss for epoch 8 => 0.01055\n"
     ]
    },
    {
     "name": "stdout",
     "output_type": "stream",
     "text": [
      "1286325/1286325 [==============================] - 17s - loss: 0.0116 - val_loss: 0.0106\n",
      "Epoch 9/100\n",
      "    \n"
     ]
    },
    {
     "name": "stderr",
     "output_type": "stream",
     "text": [
      "2017-02-15 04:54:36,824 : INFO : Found lower val loss for epoch 9 => 0.01055\n"
     ]
    },
    {
     "name": "stdout",
     "output_type": "stream",
     "text": [
      "1286325/1286325 [==============================] - 16s - loss: 0.0115 - val_loss: 0.0105\n",
      "Epoch 10/100\n",
      "    \n"
     ]
    },
    {
     "name": "stderr",
     "output_type": "stream",
     "text": [
      "2017-02-15 04:54:54,096 : INFO : Found lower val loss for epoch 10 => 0.0105\n"
     ]
    },
    {
     "name": "stdout",
     "output_type": "stream",
     "text": [
      "1286325/1286325 [==============================] - 17s - loss: 0.0115 - val_loss: 0.0105\n",
      "Epoch 11/100\n",
      "    \n"
     ]
    },
    {
     "name": "stderr",
     "output_type": "stream",
     "text": [
      "2017-02-15 04:55:11,490 : INFO : Found lower val loss for epoch 11 => 0.0104\n"
     ]
    },
    {
     "name": "stdout",
     "output_type": "stream",
     "text": [
      "1286325/1286325 [==============================] - 17s - loss: 0.0114 - val_loss: 0.0104\n",
      "Epoch 12/100\n",
      "1286325/1286325 [==============================] - 16s - loss: 0.0114 - val_loss: 0.0104\n",
      "Epoch 13/100\n",
      "1286325/1286325 [==============================] - 16s - loss: 0.0114 - val_loss: 0.0104\n",
      "Epoch 14/100\n",
      "    \n"
     ]
    },
    {
     "name": "stderr",
     "output_type": "stream",
     "text": [
      "2017-02-15 04:56:02,114 : INFO : Found lower val loss for epoch 14 => 0.01038\n"
     ]
    },
    {
     "name": "stdout",
     "output_type": "stream",
     "text": [
      "1286325/1286325 [==============================] - 16s - loss: 0.0114 - val_loss: 0.0104\n",
      "Epoch 15/100\n",
      "1286325/1286325 [==============================] - 16s - loss: 0.0113 - val_loss: 0.0105\n",
      "Epoch 16/100\n",
      "1286325/1286325 [==============================] - 16s - loss: 0.0113 - val_loss: 0.0105\n",
      "Epoch 17/100\n",
      "1286325/1286325 [==============================] - 16s - loss: 0.0113 - val_loss: 0.0105\n",
      "Epoch 18/100\n",
      "1286325/1286325 [==============================] - 17s - loss: 0.0113 - val_loss: 0.0104\n",
      "Epoch 19/100\n",
      "1286325/1286325 [==============================] - 16s - loss: 0.0113 - val_loss: 0.0105\n",
      "Epoch 20/100\n",
      "1286325/1286325 [==============================] - 16s - loss: 0.0112 - val_loss: 0.0104\n",
      "Epoch 21/100\n",
      "1286325/1286325 [==============================] - 16s - loss: 0.0112 - val_loss: 0.0105\n",
      "Epoch 22/100\n",
      "1286325/1286325 [==============================] - 16s - loss: 0.0112 - val_loss: 0.0105\n",
      "Epoch 23/100\n",
      "1286325/1286325 [==============================] - 16s - loss: 0.0112 - val_loss: 0.0105\n",
      "Epoch 24/100\n",
      "1286325/1286325 [==============================] - 16s - loss: 0.0112 - val_loss: 0.0106\n",
      "Epoch 25/100\n",
      "1286325/1286325 [==============================] - 17s - loss: 0.0112 - val_loss: 0.0106"
     ]
    },
    {
     "name": "stderr",
     "output_type": "stream",
     "text": [
      "2017-02-15 04:59:06,731 : INFO : Evaluating on Validation Data using saved best weights\n"
     ]
    },
    {
     "name": "stdout",
     "output_type": "stream",
     "text": [
      "\n",
      "Epoch 00024: early stopping\n",
      "CPU times: user 2min 39s, sys: 6min 32s, total: 9min 12s\n",
      "Wall time: 7min 6s\n"
     ]
    },
    {
     "name": "stderr",
     "output_type": "stream",
     "text": [
      "2017-02-15 04:59:24,118 : INFO : Generating Validation Metrics\n",
      "2017-02-15 05:00:54,333 : INFO : ***************************************************************************************\n",
      "2017-02-15 05:00:54,336 : INFO : nn_1st-size_500_1st-act_relu_2nd-size_500_2nd-act_sigmoid_in-drop_False_hid-drop_True\n"
     ]
    },
    {
     "name": "stdout",
     "output_type": "stream",
     "text": [
      "****** Validation Metrics: Cov Err: 3.535 | Top 3: 0.801 | Top 5: 0.877 | F1 Micro: 0.567 | F1 Macro: 0.077\n",
      "____________________________________________________________________________________________________\n",
      "Layer (type)                     Output Shape          Param #     Connected to                     \n",
      "====================================================================================================\n",
      "doc_input (InputLayer)           (None, 100)           0                                            \n",
      "____________________________________________________________________________________________________\n",
      "hidden_layer_relu (Dense)        (None, 500)           50500       doc_input[0][0]                  \n",
      "____________________________________________________________________________________________________\n",
      "dropout_11 (Dropout)             (None, 500)           0           hidden_layer_relu[0][0]          \n",
      "____________________________________________________________________________________________________\n",
      "hidden_layer2_sigmoid (Dense)    (None, 500)           250500      dropout_11[0][0]                 \n",
      "____________________________________________________________________________________________________\n",
      "softmax_output (Dense)           (None, 244)           122244      hidden_layer2_sigmoid[0][0]      \n",
      "====================================================================================================\n",
      "Total params: 423244\n",
      "____________________________________________________________________________________________________\n",
      "Train on 1286325 samples, validate on 321473 samples\n",
      "Epoch 1/100\n",
      "    \n"
     ]
    },
    {
     "name": "stderr",
     "output_type": "stream",
     "text": [
      "2017-02-15 05:01:14,516 : INFO : Found lower val loss for epoch 1 => 0.01026\n"
     ]
    },
    {
     "name": "stdout",
     "output_type": "stream",
     "text": [
      "1286325/1286325 [==============================] - 18s - loss: 0.0142 - val_loss: 0.0103\n",
      "Epoch 2/100\n",
      "    \n"
     ]
    },
    {
     "name": "stderr",
     "output_type": "stream",
     "text": [
      "2017-02-15 05:01:32,893 : INFO : Found lower val loss for epoch 2 => 0.00951\n"
     ]
    },
    {
     "name": "stdout",
     "output_type": "stream",
     "text": [
      "1286325/1286325 [==============================] - 18s - loss: 0.0103 - val_loss: 0.0095\n",
      "Epoch 3/100\n",
      "    \n"
     ]
    },
    {
     "name": "stderr",
     "output_type": "stream",
     "text": [
      "2017-02-15 05:01:51,536 : INFO : Found lower val loss for epoch 3 => 0.00935\n"
     ]
    },
    {
     "name": "stdout",
     "output_type": "stream",
     "text": [
      "1286325/1286325 [==============================] - 18s - loss: 0.0099 - val_loss: 0.0094\n",
      "Epoch 4/100\n",
      "    \n"
     ]
    },
    {
     "name": "stderr",
     "output_type": "stream",
     "text": [
      "2017-02-15 05:02:10,085 : INFO : Found lower val loss for epoch 4 => 0.00912\n"
     ]
    },
    {
     "name": "stdout",
     "output_type": "stream",
     "text": [
      "1286325/1286325 [==============================] - 18s - loss: 0.0097 - val_loss: 0.0091\n",
      "Epoch 5/100\n",
      "    \n"
     ]
    },
    {
     "name": "stderr",
     "output_type": "stream",
     "text": [
      "2017-02-15 05:02:28,339 : INFO : Found lower val loss for epoch 5 => 0.00911\n"
     ]
    },
    {
     "name": "stdout",
     "output_type": "stream",
     "text": [
      "1286325/1286325 [==============================] - 18s - loss: 0.0096 - val_loss: 0.0091\n",
      "Epoch 6/100\n",
      "    \n"
     ]
    },
    {
     "name": "stderr",
     "output_type": "stream",
     "text": [
      "2017-02-15 05:02:46,822 : INFO : Found lower val loss for epoch 6 => 0.00898\n"
     ]
    },
    {
     "name": "stdout",
     "output_type": "stream",
     "text": [
      "1286325/1286325 [==============================] - 18s - loss: 0.0095 - val_loss: 0.0090\n",
      "Epoch 7/100\n",
      "1286325/1286325 [==============================] - 18s - loss: 0.0094 - val_loss: 0.0090\n",
      "Epoch 8/100\n",
      "    \n"
     ]
    },
    {
     "name": "stderr",
     "output_type": "stream",
     "text": [
      "2017-02-15 05:03:23,500 : INFO : Found lower val loss for epoch 8 => 0.00894\n"
     ]
    },
    {
     "name": "stdout",
     "output_type": "stream",
     "text": [
      "1286325/1286325 [==============================] - 18s - loss: 0.0094 - val_loss: 0.0089\n",
      "Epoch 9/100\n",
      "1286325/1286325 [==============================] - 18s - loss: 0.0093 - val_loss: 0.0090\n",
      "Epoch 10/100\n",
      "1286325/1286325 [==============================] - 18s - loss: 0.0093 - val_loss: 0.0090\n",
      "Epoch 11/100\n",
      "1286325/1286325 [==============================] - 18s - loss: 0.0093 - val_loss: 0.0090\n",
      "Epoch 12/100\n",
      "1286325/1286325 [==============================] - 18s - loss: 0.0093 - val_loss: 0.0090\n",
      "Epoch 13/100\n",
      "1286325/1286325 [==============================] - 18s - loss: 0.0092 - val_loss: 0.0090\n",
      "Epoch 14/100\n",
      "1286325/1286325 [==============================] - 17s - loss: 0.0092 - val_loss: 0.0090\n",
      "Epoch 15/100\n",
      "1286325/1286325 [==============================] - 17s - loss: 0.0092 - val_loss: 0.0090\n",
      "Epoch 16/100\n",
      "1286325/1286325 [==============================] - 18s - loss: 0.0092 - val_loss: 0.0090\n",
      "Epoch 17/100\n",
      "    \n"
     ]
    },
    {
     "name": "stderr",
     "output_type": "stream",
     "text": [
      "2017-02-15 05:06:07,328 : INFO : Found lower val loss for epoch 17 => 0.00893\n"
     ]
    },
    {
     "name": "stdout",
     "output_type": "stream",
     "text": [
      "1286325/1286325 [==============================] - 18s - loss: 0.0092 - val_loss: 0.0089\n",
      "Epoch 18/100\n",
      "1286325/1286325 [==============================] - 18s - loss: 0.0092 - val_loss: 0.0090\n",
      "Epoch 19/100\n",
      "1286325/1286325 [==============================] - 18s - loss: 0.0092 - val_loss: 0.0091\n",
      "Epoch 20/100\n",
      "1286325/1286325 [==============================] - 18s - loss: 0.0092 - val_loss: 0.0091\n",
      "Epoch 21/100\n",
      "1286325/1286325 [==============================] - 18s - loss: 0.0092 - val_loss: 0.0090\n",
      "Epoch 22/100\n",
      "1286325/1286325 [==============================] - 17s - loss: 0.0092 - val_loss: 0.0091\n",
      "Epoch 23/100\n",
      "1286325/1286325 [==============================] - 18s - loss: 0.0092 - val_loss: 0.0091\n",
      "Epoch 24/100\n",
      "1286325/1286325 [==============================] - 18s - loss: 0.0092 - val_loss: 0.0090\n",
      "Epoch 25/100\n",
      "1286325/1286325 [==============================] - 18s - loss: 0.0092 - val_loss: 0.0090\n",
      "Epoch 26/100\n",
      "1286325/1286325 [==============================] - 17s - loss: 0.0091 - val_loss: 0.0091\n",
      "Epoch 27/100\n",
      "1286325/1286325 [==============================] - 17s - loss: 0.0091 - val_loss: 0.0090\n",
      "Epoch 28/100\n",
      "1286325/1286325 [==============================] - 17s - loss: 0.0091 - val_loss: 0.0091"
     ]
    },
    {
     "name": "stderr",
     "output_type": "stream",
     "text": [
      "2017-02-15 05:09:26,668 : INFO : Evaluating on Validation Data using saved best weights\n"
     ]
    },
    {
     "name": "stdout",
     "output_type": "stream",
     "text": [
      "\n",
      "Epoch 00027: early stopping\n",
      "CPU times: user 2min 49s, sys: 7min 52s, total: 10min 42s\n",
      "Wall time: 8min 32s\n"
     ]
    },
    {
     "name": "stderr",
     "output_type": "stream",
     "text": [
      "2017-02-15 05:09:44,011 : INFO : Generating Validation Metrics\n",
      "2017-02-15 05:11:14,491 : INFO : ***************************************************************************************\n",
      "2017-02-15 05:11:14,493 : INFO : nn_1st-size_500_1st-act_sigmoid_2nd-size_None_2nd-act_tanh_in-drop_False_hid-drop_True\n"
     ]
    },
    {
     "name": "stdout",
     "output_type": "stream",
     "text": [
      "****** Validation Metrics: Cov Err: 2.863 | Top 3: 0.852 | Top 5: 0.914 | F1 Micro: 0.657 | F1 Macro: 0.199\n",
      "____________________________________________________________________________________________________\n",
      "Layer (type)                     Output Shape          Param #     Connected to                     \n",
      "====================================================================================================\n",
      "doc_input (InputLayer)           (None, 100)           0                                            \n",
      "____________________________________________________________________________________________________\n",
      "hidden_layer_sigmoid (Dense)     (None, 500)           50500       doc_input[0][0]                  \n",
      "____________________________________________________________________________________________________\n",
      "dropout_12 (Dropout)             (None, 500)           0           hidden_layer_sigmoid[0][0]       \n",
      "____________________________________________________________________________________________________\n",
      "softmax_output (Dense)           (None, 244)           122244      dropout_12[0][0]                 \n",
      "====================================================================================================\n",
      "Total params: 172744\n",
      "____________________________________________________________________________________________________\n",
      "Train on 1286325 samples, validate on 321473 samples\n",
      "Epoch 1/100\n",
      "    \n"
     ]
    },
    {
     "name": "stderr",
     "output_type": "stream",
     "text": [
      "2017-02-15 05:11:30,870 : INFO : Found lower val loss for epoch 1 => 0.01125\n"
     ]
    },
    {
     "name": "stdout",
     "output_type": "stream",
     "text": [
      "1286325/1286325 [==============================] - 15s - loss: 0.0168 - val_loss: 0.0113\n",
      "Epoch 2/100\n",
      "    \n"
     ]
    },
    {
     "name": "stderr",
     "output_type": "stream",
     "text": [
      "2017-02-15 05:11:46,220 : INFO : Found lower val loss for epoch 2 => 0.01071\n"
     ]
    },
    {
     "name": "stdout",
     "output_type": "stream",
     "text": [
      "1286325/1286325 [==============================] - 15s - loss: 0.0116 - val_loss: 0.0107\n",
      "Epoch 3/100\n",
      "    \n"
     ]
    },
    {
     "name": "stderr",
     "output_type": "stream",
     "text": [
      "2017-02-15 05:12:01,796 : INFO : Found lower val loss for epoch 3 => 0.01044\n"
     ]
    },
    {
     "name": "stdout",
     "output_type": "stream",
     "text": [
      "1286325/1286325 [==============================] - 15s - loss: 0.0112 - val_loss: 0.0104\n",
      "Epoch 4/100\n",
      "    \n"
     ]
    },
    {
     "name": "stderr",
     "output_type": "stream",
     "text": [
      "2017-02-15 05:12:17,038 : INFO : Found lower val loss for epoch 4 => 0.01028\n"
     ]
    },
    {
     "name": "stdout",
     "output_type": "stream",
     "text": [
      "1286325/1286325 [==============================] - 15s - loss: 0.0109 - val_loss: 0.0103\n",
      "Epoch 5/100\n",
      "    \n"
     ]
    },
    {
     "name": "stderr",
     "output_type": "stream",
     "text": [
      "2017-02-15 05:12:32,239 : INFO : Found lower val loss for epoch 5 => 0.01017\n"
     ]
    },
    {
     "name": "stdout",
     "output_type": "stream",
     "text": [
      "1286325/1286325 [==============================] - 15s - loss: 0.0108 - val_loss: 0.0102\n",
      "Epoch 6/100\n",
      "    \n"
     ]
    },
    {
     "name": "stderr",
     "output_type": "stream",
     "text": [
      "2017-02-15 05:12:47,530 : INFO : Found lower val loss for epoch 6 => 0.01007\n"
     ]
    },
    {
     "name": "stdout",
     "output_type": "stream",
     "text": [
      "1286325/1286325 [==============================] - 15s - loss: 0.0106 - val_loss: 0.0101\n",
      "Epoch 7/100\n",
      "    \n"
     ]
    },
    {
     "name": "stderr",
     "output_type": "stream",
     "text": [
      "2017-02-15 05:13:02,771 : INFO : Found lower val loss for epoch 7 => 0.01002\n"
     ]
    },
    {
     "name": "stdout",
     "output_type": "stream",
     "text": [
      "1286325/1286325 [==============================] - 15s - loss: 0.0106 - val_loss: 0.0100\n",
      "Epoch 8/100\n",
      "    \n"
     ]
    },
    {
     "name": "stderr",
     "output_type": "stream",
     "text": [
      "2017-02-15 05:13:18,262 : INFO : Found lower val loss for epoch 8 => 0.00997\n"
     ]
    },
    {
     "name": "stdout",
     "output_type": "stream",
     "text": [
      "1286325/1286325 [==============================] - 15s - loss: 0.0105 - val_loss: 0.0100\n",
      "Epoch 9/100\n",
      "    \n"
     ]
    },
    {
     "name": "stderr",
     "output_type": "stream",
     "text": [
      "2017-02-15 05:13:33,953 : INFO : Found lower val loss for epoch 9 => 0.00994\n"
     ]
    },
    {
     "name": "stdout",
     "output_type": "stream",
     "text": [
      "1286325/1286325 [==============================] - 15s - loss: 0.0104 - val_loss: 0.0099\n",
      "Epoch 10/100\n",
      "    \n"
     ]
    },
    {
     "name": "stderr",
     "output_type": "stream",
     "text": [
      "2017-02-15 05:13:49,385 : INFO : Found lower val loss for epoch 10 => 0.0099\n"
     ]
    },
    {
     "name": "stdout",
     "output_type": "stream",
     "text": [
      "1286325/1286325 [==============================] - 15s - loss: 0.0104 - val_loss: 0.0099\n",
      "Epoch 11/100\n",
      "    \n"
     ]
    },
    {
     "name": "stderr",
     "output_type": "stream",
     "text": [
      "2017-02-15 05:14:04,914 : INFO : Found lower val loss for epoch 11 => 0.00988\n"
     ]
    },
    {
     "name": "stdout",
     "output_type": "stream",
     "text": [
      "1286325/1286325 [==============================] - 15s - loss: 0.0103 - val_loss: 0.0099\n",
      "Epoch 12/100\n",
      "    \n"
     ]
    },
    {
     "name": "stderr",
     "output_type": "stream",
     "text": [
      "2017-02-15 05:14:20,310 : INFO : Found lower val loss for epoch 12 => 0.00987\n"
     ]
    },
    {
     "name": "stdout",
     "output_type": "stream",
     "text": [
      "1286325/1286325 [==============================] - 15s - loss: 0.0103 - val_loss: 0.0099\n",
      "Epoch 13/100\n",
      "    \n"
     ]
    },
    {
     "name": "stderr",
     "output_type": "stream",
     "text": [
      "2017-02-15 05:14:35,617 : INFO : Found lower val loss for epoch 13 => 0.00986\n"
     ]
    },
    {
     "name": "stdout",
     "output_type": "stream",
     "text": [
      "1286325/1286325 [==============================] - 15s - loss: 0.0103 - val_loss: 0.0099\n",
      "Epoch 14/100\n",
      "1286325/1286325 [==============================] - 15s - loss: 0.0103 - val_loss: 0.0099\n",
      "Epoch 15/100\n",
      "    \n"
     ]
    },
    {
     "name": "stderr",
     "output_type": "stream",
     "text": [
      "2017-02-15 05:15:05,821 : INFO : Found lower val loss for epoch 15 => 0.00983\n"
     ]
    },
    {
     "name": "stdout",
     "output_type": "stream",
     "text": [
      "1286325/1286325 [==============================] - 15s - loss: 0.0103 - val_loss: 0.0098\n",
      "Epoch 16/100\n",
      "1286325/1286325 [==============================] - 15s - loss: 0.0103 - val_loss: 0.0099\n",
      "Epoch 17/100\n",
      "1286325/1286325 [==============================] - 15s - loss: 0.0102 - val_loss: 0.0098\n",
      "Epoch 18/100\n",
      "1286325/1286325 [==============================] - 15s - loss: 0.0102 - val_loss: 0.0098\n",
      "Epoch 19/100\n",
      "1286325/1286325 [==============================] - 14s - loss: 0.0102 - val_loss: 0.0099\n",
      "Epoch 20/100\n",
      "1286325/1286325 [==============================] - 14s - loss: 0.0102 - val_loss: 0.0099\n",
      "Epoch 21/100\n",
      "1286325/1286325 [==============================] - 14s - loss: 0.0102 - val_loss: 0.0099\n",
      "Epoch 22/100\n",
      "1286325/1286325 [==============================] - 14s - loss: 0.0102 - val_loss: 0.0099\n",
      "Epoch 23/100\n",
      "1286325/1286325 [==============================] - 15s - loss: 0.0102 - val_loss: 0.0099\n",
      "Epoch 24/100\n",
      "1286325/1286325 [==============================] - 15s - loss: 0.0102 - val_loss: 0.0099\n",
      "Epoch 25/100\n",
      "1286325/1286325 [==============================] - 15s - loss: 0.0102 - val_loss: 0.0099\n",
      "Epoch 26/100\n",
      "1286325/1286325 [==============================] - 15s - loss: 0.0102 - val_loss: 0.0099"
     ]
    },
    {
     "name": "stderr",
     "output_type": "stream",
     "text": [
      "2017-02-15 05:17:51,969 : INFO : Evaluating on Validation Data using saved best weights\n"
     ]
    },
    {
     "name": "stdout",
     "output_type": "stream",
     "text": [
      "\n",
      "Epoch 00025: early stopping\n",
      "CPU times: user 2min 20s, sys: 6min 11s, total: 8min 32s\n",
      "Wall time: 6min 37s\n"
     ]
    },
    {
     "name": "stderr",
     "output_type": "stream",
     "text": [
      "2017-02-15 05:18:08,112 : INFO : Generating Validation Metrics\n",
      "2017-02-15 05:19:38,621 : INFO : ***************************************************************************************\n",
      "2017-02-15 05:19:38,622 : INFO : nn_1st-size_500_1st-act_tanh_2nd-size_1000_2nd-act_sigmoid_in-drop_False_hid-drop_True\n"
     ]
    },
    {
     "name": "stdout",
     "output_type": "stream",
     "text": [
      "****** Validation Metrics: Cov Err: 3.151 | Top 3: 0.833 | Top 5: 0.900 | F1 Micro: 0.591 | F1 Macro: 0.105\n",
      "____________________________________________________________________________________________________\n",
      "Layer (type)                     Output Shape          Param #     Connected to                     \n",
      "====================================================================================================\n",
      "doc_input (InputLayer)           (None, 100)           0                                            \n",
      "____________________________________________________________________________________________________\n",
      "hidden_layer_tanh (Dense)        (None, 500)           50500       doc_input[0][0]                  \n",
      "____________________________________________________________________________________________________\n",
      "dropout_13 (Dropout)             (None, 500)           0           hidden_layer_tanh[0][0]          \n",
      "____________________________________________________________________________________________________\n",
      "hidden_layer2_sigmoid (Dense)    (None, 1000)          501000      dropout_13[0][0]                 \n",
      "____________________________________________________________________________________________________\n",
      "softmax_output (Dense)           (None, 244)           244244      hidden_layer2_sigmoid[0][0]      \n",
      "====================================================================================================\n",
      "Total params: 795744\n",
      "____________________________________________________________________________________________________\n",
      "Train on 1286325 samples, validate on 321473 samples\n",
      "Epoch 1/100\n",
      "    \n"
     ]
    },
    {
     "name": "stderr",
     "output_type": "stream",
     "text": [
      "2017-02-15 05:20:02,176 : INFO : Found lower val loss for epoch 1 => 0.01056\n"
     ]
    },
    {
     "name": "stdout",
     "output_type": "stream",
     "text": [
      "1286325/1286325 [==============================] - 21s - loss: 0.0130 - val_loss: 0.0106\n",
      "Epoch 2/100\n",
      "    \n"
     ]
    },
    {
     "name": "stderr",
     "output_type": "stream",
     "text": [
      "2017-02-15 05:20:23,530 : INFO : Found lower val loss for epoch 2 => 0.01005\n"
     ]
    },
    {
     "name": "stdout",
     "output_type": "stream",
     "text": [
      "1286325/1286325 [==============================] - 21s - loss: 0.0104 - val_loss: 0.0101\n",
      "Epoch 3/100\n",
      "    \n"
     ]
    },
    {
     "name": "stderr",
     "output_type": "stream",
     "text": [
      "2017-02-15 05:20:44,991 : INFO : Found lower val loss for epoch 3 => 0.0097\n"
     ]
    },
    {
     "name": "stdout",
     "output_type": "stream",
     "text": [
      "1286325/1286325 [==============================] - 21s - loss: 0.0100 - val_loss: 0.0097\n",
      "Epoch 4/100\n",
      "    \n"
     ]
    },
    {
     "name": "stderr",
     "output_type": "stream",
     "text": [
      "2017-02-15 05:21:06,847 : INFO : Found lower val loss for epoch 4 => 0.00943\n"
     ]
    },
    {
     "name": "stdout",
     "output_type": "stream",
     "text": [
      "1286325/1286325 [==============================] - 21s - loss: 0.0097 - val_loss: 0.0094\n",
      "Epoch 5/100\n",
      "    \n"
     ]
    },
    {
     "name": "stderr",
     "output_type": "stream",
     "text": [
      "2017-02-15 05:21:28,404 : INFO : Found lower val loss for epoch 5 => 0.00937\n"
     ]
    },
    {
     "name": "stdout",
     "output_type": "stream",
     "text": [
      "1286325/1286325 [==============================] - 21s - loss: 0.0096 - val_loss: 0.0094\n",
      "Epoch 6/100\n",
      "    \n"
     ]
    },
    {
     "name": "stderr",
     "output_type": "stream",
     "text": [
      "2017-02-15 05:21:49,646 : INFO : Found lower val loss for epoch 6 => 0.00921\n"
     ]
    },
    {
     "name": "stdout",
     "output_type": "stream",
     "text": [
      "1286325/1286325 [==============================] - 21s - loss: 0.0095 - val_loss: 0.0092\n",
      "Epoch 7/100\n",
      "    \n"
     ]
    },
    {
     "name": "stderr",
     "output_type": "stream",
     "text": [
      "2017-02-15 05:22:11,183 : INFO : Found lower val loss for epoch 7 => 0.00915\n"
     ]
    },
    {
     "name": "stdout",
     "output_type": "stream",
     "text": [
      "1286325/1286325 [==============================] - 21s - loss: 0.0094 - val_loss: 0.0092\n",
      "Epoch 8/100\n",
      "    \n"
     ]
    },
    {
     "name": "stderr",
     "output_type": "stream",
     "text": [
      "2017-02-15 05:22:32,806 : INFO : Found lower val loss for epoch 8 => 0.00905\n"
     ]
    },
    {
     "name": "stdout",
     "output_type": "stream",
     "text": [
      "1286325/1286325 [==============================] - 21s - loss: 0.0094 - val_loss: 0.0091\n",
      "Epoch 9/100\n",
      "    \n"
     ]
    },
    {
     "name": "stderr",
     "output_type": "stream",
     "text": [
      "2017-02-15 05:22:54,537 : INFO : Found lower val loss for epoch 9 => 0.00905\n"
     ]
    },
    {
     "name": "stdout",
     "output_type": "stream",
     "text": [
      "1286325/1286325 [==============================] - 21s - loss: 0.0094 - val_loss: 0.0090\n",
      "Epoch 10/100\n",
      "    \n"
     ]
    },
    {
     "name": "stderr",
     "output_type": "stream",
     "text": [
      "2017-02-15 05:23:16,071 : INFO : Found lower val loss for epoch 10 => 0.00895\n"
     ]
    },
    {
     "name": "stdout",
     "output_type": "stream",
     "text": [
      "1286325/1286325 [==============================] - 21s - loss: 0.0093 - val_loss: 0.0089\n",
      "Epoch 11/100\n",
      "    \n"
     ]
    },
    {
     "name": "stderr",
     "output_type": "stream",
     "text": [
      "2017-02-15 05:23:37,497 : INFO : Found lower val loss for epoch 11 => 0.00892\n"
     ]
    },
    {
     "name": "stdout",
     "output_type": "stream",
     "text": [
      "1286325/1286325 [==============================] - 21s - loss: 0.0093 - val_loss: 0.0089\n",
      "Epoch 12/100\n",
      "    \n"
     ]
    },
    {
     "name": "stderr",
     "output_type": "stream",
     "text": [
      "2017-02-15 05:23:59,571 : INFO : Found lower val loss for epoch 12 => 0.0089\n"
     ]
    },
    {
     "name": "stdout",
     "output_type": "stream",
     "text": [
      "1286325/1286325 [==============================] - 22s - loss: 0.0093 - val_loss: 0.0089\n",
      "Epoch 13/100\n",
      "    \n"
     ]
    },
    {
     "name": "stderr",
     "output_type": "stream",
     "text": [
      "2017-02-15 05:24:21,116 : INFO : Found lower val loss for epoch 13 => 0.00883\n"
     ]
    },
    {
     "name": "stdout",
     "output_type": "stream",
     "text": [
      "1286325/1286325 [==============================] - 21s - loss: 0.0093 - val_loss: 0.0088\n",
      "Epoch 14/100\n",
      "1286325/1286325 [==============================] - 21s - loss: 0.0093 - val_loss: 0.0089\n",
      "Epoch 15/100\n",
      "    \n"
     ]
    },
    {
     "name": "stderr",
     "output_type": "stream",
     "text": [
      "2017-02-15 05:25:03,726 : INFO : Found lower val loss for epoch 15 => 0.00879\n"
     ]
    },
    {
     "name": "stdout",
     "output_type": "stream",
     "text": [
      "1286325/1286325 [==============================] - 21s - loss: 0.0093 - val_loss: 0.0088\n",
      "Epoch 16/100\n",
      "1286325/1286325 [==============================] - 21s - loss: 0.0093 - val_loss: 0.0088\n",
      "Epoch 17/100\n",
      "    \n"
     ]
    },
    {
     "name": "stderr",
     "output_type": "stream",
     "text": [
      "2017-02-15 05:25:46,343 : INFO : Found lower val loss for epoch 17 => 0.00877\n"
     ]
    },
    {
     "name": "stdout",
     "output_type": "stream",
     "text": [
      "1286325/1286325 [==============================] - 21s - loss: 0.0093 - val_loss: 0.0088\n",
      "Epoch 18/100\n",
      "1286325/1286325 [==============================] - 21s - loss: 0.0092 - val_loss: 0.0088\n",
      "Epoch 19/100\n",
      "    \n"
     ]
    },
    {
     "name": "stderr",
     "output_type": "stream",
     "text": [
      "2017-02-15 05:26:29,478 : INFO : Found lower val loss for epoch 19 => 0.00872\n"
     ]
    },
    {
     "name": "stdout",
     "output_type": "stream",
     "text": [
      "1286325/1286325 [==============================] - 21s - loss: 0.0093 - val_loss: 0.0087\n",
      "Epoch 20/100\n",
      "1286325/1286325 [==============================] - 21s - loss: 0.0092 - val_loss: 0.0088\n",
      "Epoch 21/100\n",
      "1286325/1286325 [==============================] - 20s - loss: 0.0093 - val_loss: 0.0087\n",
      "Epoch 22/100\n",
      "1286325/1286325 [==============================] - 20s - loss: 0.0093 - val_loss: 0.0087\n",
      "Epoch 23/100\n",
      "    \n"
     ]
    },
    {
     "name": "stderr",
     "output_type": "stream",
     "text": [
      "2017-02-15 05:27:53,835 : INFO : Found lower val loss for epoch 23 => 0.00872\n"
     ]
    },
    {
     "name": "stdout",
     "output_type": "stream",
     "text": [
      "1286325/1286325 [==============================] - 21s - loss: 0.0093 - val_loss: 0.0087\n",
      "Epoch 24/100\n",
      "1286325/1286325 [==============================] - 21s - loss: 0.0093 - val_loss: 0.0087\n",
      "Epoch 25/100\n",
      "    \n"
     ]
    },
    {
     "name": "stderr",
     "output_type": "stream",
     "text": [
      "2017-02-15 05:28:36,382 : INFO : Found lower val loss for epoch 25 => 0.00872\n"
     ]
    },
    {
     "name": "stdout",
     "output_type": "stream",
     "text": [
      "1286325/1286325 [==============================] - 21s - loss: 0.0093 - val_loss: 0.0087\n",
      "Epoch 26/100\n",
      "1286325/1286325 [==============================] - 21s - loss: 0.0093 - val_loss: 0.0087\n",
      "Epoch 27/100\n",
      "1286325/1286325 [==============================] - 21s - loss: 0.0093 - val_loss: 0.0087\n",
      "Epoch 28/100\n",
      "    \n"
     ]
    },
    {
     "name": "stderr",
     "output_type": "stream",
     "text": [
      "2017-02-15 05:29:40,330 : INFO : Found lower val loss for epoch 28 => 0.00871\n"
     ]
    },
    {
     "name": "stdout",
     "output_type": "stream",
     "text": [
      "1286325/1286325 [==============================] - 21s - loss: 0.0093 - val_loss: 0.0087\n",
      "Epoch 29/100\n",
      "1286325/1286325 [==============================] - 21s - loss: 0.0093 - val_loss: 0.0087\n",
      "Epoch 30/100\n",
      "1286325/1286325 [==============================] - 22s - loss: 0.0093 - val_loss: 0.0087\n",
      "Epoch 31/100\n",
      "1286325/1286325 [==============================] - 22s - loss: 0.0093 - val_loss: 0.0087\n",
      "Epoch 32/100\n",
      "1286325/1286325 [==============================] - 21s - loss: 0.0093 - val_loss: 0.0087\n",
      "Epoch 33/100\n",
      "1286325/1286325 [==============================] - 20s - loss: 0.0093 - val_loss: 0.0087\n",
      "Epoch 34/100\n",
      "1286325/1286325 [==============================] - 21s - loss: 0.0093 - val_loss: 0.0087\n",
      "Epoch 35/100\n",
      "1286325/1286325 [==============================] - 21s - loss: 0.0094 - val_loss: 0.0088\n",
      "Epoch 36/100\n",
      "1286325/1286325 [==============================] - 21s - loss: 0.0094 - val_loss: 0.0087\n",
      "Epoch 37/100\n",
      "1286325/1286325 [==============================] - 20s - loss: 0.0094 - val_loss: 0.0087\n",
      "Epoch 38/100\n",
      "1286325/1286325 [==============================] - 21s - loss: 0.0094 - val_loss: 0.0088\n",
      "Epoch 39/100\n",
      "1286325/1286325 [==============================] - 21s - loss: 0.0094 - val_loss: 0.0087"
     ]
    },
    {
     "name": "stderr",
     "output_type": "stream",
     "text": [
      "2017-02-15 05:33:35,586 : INFO : Evaluating on Validation Data using saved best weights\n"
     ]
    },
    {
     "name": "stdout",
     "output_type": "stream",
     "text": [
      "\n",
      "Epoch 00038: early stopping\n",
      "CPU times: user 4min 26s, sys: 12min 43s, total: 17min 10s\n",
      "Wall time: 13min 56s\n"
     ]
    },
    {
     "name": "stderr",
     "output_type": "stream",
     "text": [
      "2017-02-15 05:33:53,590 : INFO : Generating Validation Metrics\n",
      "2017-02-15 05:35:24,560 : INFO : ***************************************************************************************\n",
      "2017-02-15 05:35:24,562 : INFO : nn_1st-size_500_1st-act_relu_2nd-size_2000_2nd-act_relu_in-drop_False_hid-drop_True\n"
     ]
    },
    {
     "name": "stdout",
     "output_type": "stream",
     "text": [
      "****** Validation Metrics: Cov Err: 2.896 | Top 3: 0.855 | Top 5: 0.914 | F1 Micro: 0.660 | F1 Macro: 0.187\n",
      "____________________________________________________________________________________________________\n",
      "Layer (type)                     Output Shape          Param #     Connected to                     \n",
      "====================================================================================================\n",
      "doc_input (InputLayer)           (None, 100)           0                                            \n",
      "____________________________________________________________________________________________________\n",
      "hidden_layer_relu (Dense)        (None, 500)           50500       doc_input[0][0]                  \n",
      "____________________________________________________________________________________________________\n",
      "dropout_14 (Dropout)             (None, 500)           0           hidden_layer_relu[0][0]          \n",
      "____________________________________________________________________________________________________\n",
      "hidden_layer2_relu (Dense)       (None, 2000)          1002000     dropout_14[0][0]                 \n",
      "____________________________________________________________________________________________________\n",
      "softmax_output (Dense)           (None, 244)           488244      hidden_layer2_relu[0][0]         \n",
      "====================================================================================================\n",
      "Total params: 1540744\n",
      "____________________________________________________________________________________________________\n",
      "Train on 1286325 samples, validate on 321473 samples\n",
      "Epoch 1/100\n",
      "    \n"
     ]
    },
    {
     "name": "stderr",
     "output_type": "stream",
     "text": [
      "2017-02-15 05:35:53,935 : INFO : Found lower val loss for epoch 1 => 0.00963\n"
     ]
    },
    {
     "name": "stdout",
     "output_type": "stream",
     "text": [
      "1286325/1286325 [==============================] - 27s - loss: 0.0123 - val_loss: 0.0096\n",
      "Epoch 2/100\n",
      "1286325/1286325 [==============================] - 27s - loss: 0.0097 - val_loss: 0.0099\n",
      "Epoch 3/100\n",
      "1286325/1286325 [==============================] - 27s - loss: 0.0095 - val_loss: 0.0101\n",
      "Epoch 4/100\n",
      "1286325/1286325 [==============================] - 27s - loss: 0.0094 - val_loss: 0.0107\n",
      "Epoch 5/100\n",
      "1286325/1286325 [==============================] - 27s - loss: 0.0094 - val_loss: 0.0105\n",
      "Epoch 6/100\n",
      "1286325/1286325 [==============================] - 27s - loss: 0.0094 - val_loss: 0.0102\n",
      "Epoch 7/100\n",
      "1286325/1286325 [==============================] - 27s - loss: 0.0094 - val_loss: 0.0104\n",
      "Epoch 8/100\n",
      "1286325/1286325 [==============================] - 27s - loss: 0.0094 - val_loss: 0.0101\n",
      "Epoch 9/100\n",
      "1286325/1286325 [==============================] - 27s - loss: 0.0094 - val_loss: 0.0098\n",
      "Epoch 10/100\n",
      "    \n"
     ]
    },
    {
     "name": "stderr",
     "output_type": "stream",
     "text": [
      "2017-02-15 05:40:01,002 : INFO : Found lower val loss for epoch 10 => 0.00962\n"
     ]
    },
    {
     "name": "stdout",
     "output_type": "stream",
     "text": [
      "1286325/1286325 [==============================] - 27s - loss: 0.0094 - val_loss: 0.0096\n",
      "Epoch 11/100\n",
      "    \n"
     ]
    },
    {
     "name": "stderr",
     "output_type": "stream",
     "text": [
      "2017-02-15 05:40:28,565 : INFO : Found lower val loss for epoch 11 => 0.00958\n"
     ]
    },
    {
     "name": "stdout",
     "output_type": "stream",
     "text": [
      "1286325/1286325 [==============================] - 27s - loss: 0.0094 - val_loss: 0.0096\n",
      "Epoch 12/100\n",
      "    \n"
     ]
    },
    {
     "name": "stderr",
     "output_type": "stream",
     "text": [
      "2017-02-15 05:40:56,433 : INFO : Found lower val loss for epoch 12 => 0.00947\n"
     ]
    },
    {
     "name": "stdout",
     "output_type": "stream",
     "text": [
      "1286325/1286325 [==============================] - 27s - loss: 0.0094 - val_loss: 0.0095\n",
      "Epoch 13/100\n",
      "    \n"
     ]
    },
    {
     "name": "stderr",
     "output_type": "stream",
     "text": [
      "2017-02-15 05:41:23,954 : INFO : Found lower val loss for epoch 13 => 0.00947\n"
     ]
    },
    {
     "name": "stdout",
     "output_type": "stream",
     "text": [
      "1286325/1286325 [==============================] - 27s - loss: 0.0094 - val_loss: 0.0095\n",
      "Epoch 14/100\n",
      "    \n"
     ]
    },
    {
     "name": "stderr",
     "output_type": "stream",
     "text": [
      "2017-02-15 05:41:51,560 : INFO : Found lower val loss for epoch 14 => 0.00931\n"
     ]
    },
    {
     "name": "stdout",
     "output_type": "stream",
     "text": [
      "1286325/1286325 [==============================] - 27s - loss: 0.0094 - val_loss: 0.0093\n",
      "Epoch 15/100\n",
      "    \n"
     ]
    },
    {
     "name": "stderr",
     "output_type": "stream",
     "text": [
      "2017-02-15 05:42:18,971 : INFO : Found lower val loss for epoch 15 => 0.0092\n"
     ]
    },
    {
     "name": "stdout",
     "output_type": "stream",
     "text": [
      "1286325/1286325 [==============================] - 27s - loss: 0.0094 - val_loss: 0.0092\n",
      "Epoch 16/100\n",
      "    \n"
     ]
    },
    {
     "name": "stderr",
     "output_type": "stream",
     "text": [
      "2017-02-15 05:42:46,525 : INFO : Found lower val loss for epoch 16 => 0.00915\n"
     ]
    },
    {
     "name": "stdout",
     "output_type": "stream",
     "text": [
      "1286325/1286325 [==============================] - 27s - loss: 0.0094 - val_loss: 0.0091\n",
      "Epoch 17/100\n",
      "1286325/1286325 [==============================] - 27s - loss: 0.0095 - val_loss: 0.0091\n",
      "Epoch 18/100\n",
      "    \n"
     ]
    },
    {
     "name": "stderr",
     "output_type": "stream",
     "text": [
      "2017-02-15 05:43:42,080 : INFO : Found lower val loss for epoch 18 => 0.00906\n"
     ]
    },
    {
     "name": "stdout",
     "output_type": "stream",
     "text": [
      "1286325/1286325 [==============================] - 27s - loss: 0.0095 - val_loss: 0.0091\n",
      "Epoch 19/100\n",
      "1286325/1286325 [==============================] - 27s - loss: 0.0095 - val_loss: 0.0092\n",
      "Epoch 20/100\n",
      "1286325/1286325 [==============================] - 27s - loss: 0.0095 - val_loss: 0.0091\n",
      "Epoch 21/100\n",
      "    \n"
     ]
    },
    {
     "name": "stderr",
     "output_type": "stream",
     "text": [
      "2017-02-15 05:45:04,238 : INFO : Found lower val loss for epoch 21 => 0.00899\n"
     ]
    },
    {
     "name": "stdout",
     "output_type": "stream",
     "text": [
      "1286325/1286325 [==============================] - 27s - loss: 0.0095 - val_loss: 0.0090\n",
      "Epoch 22/100\n",
      "1286325/1286325 [==============================] - 27s - loss: 0.0095 - val_loss: 0.0091\n",
      "Epoch 23/100\n",
      "    \n"
     ]
    },
    {
     "name": "stderr",
     "output_type": "stream",
     "text": [
      "2017-02-15 05:45:59,352 : INFO : Found lower val loss for epoch 23 => 0.00894\n"
     ]
    },
    {
     "name": "stdout",
     "output_type": "stream",
     "text": [
      "1286325/1286325 [==============================] - 27s - loss: 0.0095 - val_loss: 0.0089\n",
      "Epoch 24/100\n",
      "1286325/1286325 [==============================] - 27s - loss: 0.0095 - val_loss: 0.0090\n",
      "Epoch 25/100\n",
      "1286325/1286325 [==============================] - 27s - loss: 0.0096 - val_loss: 0.0090\n",
      "Epoch 26/100\n",
      "1286325/1286325 [==============================] - 27s - loss: 0.0096 - val_loss: 0.0090\n",
      "Epoch 27/100\n",
      "1286325/1286325 [==============================] - 27s - loss: 0.0096 - val_loss: 0.0090\n",
      "Epoch 28/100\n",
      "1286325/1286325 [==============================] - 27s - loss: 0.0096 - val_loss: 0.0090\n",
      "Epoch 29/100\n",
      "1286325/1286325 [==============================] - 27s - loss: 0.0096 - val_loss: 0.0090\n",
      "Epoch 30/100\n",
      "    \n"
     ]
    },
    {
     "name": "stderr",
     "output_type": "stream",
     "text": [
      "2017-02-15 05:49:12,168 : INFO : Found lower val loss for epoch 30 => 0.0089\n"
     ]
    },
    {
     "name": "stdout",
     "output_type": "stream",
     "text": [
      "1286325/1286325 [==============================] - 27s - loss: 0.0096 - val_loss: 0.0089\n",
      "Epoch 31/100\n",
      "1286325/1286325 [==============================] - 27s - loss: 0.0096 - val_loss: 0.0089\n",
      "Epoch 32/100\n",
      "1286325/1286325 [==============================] - 27s - loss: 0.0097 - val_loss: 0.0089\n",
      "Epoch 33/100\n",
      "1286325/1286325 [==============================] - 27s - loss: 0.0097 - val_loss: 0.0089\n",
      "Epoch 34/100\n",
      "1286325/1286325 [==============================] - 27s - loss: 0.0097 - val_loss: 0.0089\n",
      "Epoch 35/100\n",
      "1286325/1286325 [==============================] - 27s - loss: 0.0097 - val_loss: 0.0089\n",
      "Epoch 36/100\n",
      "1286325/1286325 [==============================] - 27s - loss: 0.0097 - val_loss: 0.0090\n",
      "Epoch 37/100\n",
      "    \n"
     ]
    },
    {
     "name": "stderr",
     "output_type": "stream",
     "text": [
      "2017-02-15 05:52:25,539 : INFO : Found lower val loss for epoch 37 => 0.0089\n"
     ]
    },
    {
     "name": "stdout",
     "output_type": "stream",
     "text": [
      "1286325/1286325 [==============================] - 27s - loss: 0.0097 - val_loss: 0.0089\n",
      "Epoch 38/100\n",
      "1286325/1286325 [==============================] - 27s - loss: 0.0097 - val_loss: 0.0090\n",
      "Epoch 39/100\n",
      "1286325/1286325 [==============================] - 27s - loss: 0.0097 - val_loss: 0.0090\n",
      "Epoch 40/100\n",
      "1286325/1286325 [==============================] - 27s - loss: 0.0097 - val_loss: 0.0089\n",
      "Epoch 41/100\n",
      "1286325/1286325 [==============================] - 27s - loss: 0.0097 - val_loss: 0.0089"
     ]
    },
    {
     "name": "stderr",
     "output_type": "stream",
     "text": [
      "2017-02-15 05:54:15,751 : INFO : Evaluating on Validation Data using saved best weights\n"
     ]
    },
    {
     "name": "stdout",
     "output_type": "stream",
     "text": [
      "\n",
      "Epoch 00040: early stopping\n",
      "CPU times: user 6min 5s, sys: 16min 32s, total: 22min 38s\n",
      "Wall time: 18min 50s\n"
     ]
    },
    {
     "name": "stderr",
     "output_type": "stream",
     "text": [
      "2017-02-15 05:54:34,521 : INFO : Generating Validation Metrics\n",
      "2017-02-15 05:56:06,718 : INFO : ***************************************************************************************\n",
      "2017-02-15 05:56:06,720 : INFO : nn_1st-size_200_1st-act_sigmoid_2nd-size_1000_2nd-act_sigmoid_in-drop_False_hid-drop_True\n"
     ]
    },
    {
     "name": "stdout",
     "output_type": "stream",
     "text": [
      "****** Validation Metrics: Cov Err: 2.918 | Top 3: 0.848 | Top 5: 0.911 | F1 Micro: 0.650 | F1 Macro: 0.172\n",
      "____________________________________________________________________________________________________\n",
      "Layer (type)                     Output Shape          Param #     Connected to                     \n",
      "====================================================================================================\n",
      "doc_input (InputLayer)           (None, 100)           0                                            \n",
      "____________________________________________________________________________________________________\n",
      "hidden_layer_sigmoid (Dense)     (None, 200)           20200       doc_input[0][0]                  \n",
      "____________________________________________________________________________________________________\n",
      "dropout_15 (Dropout)             (None, 200)           0           hidden_layer_sigmoid[0][0]       \n",
      "____________________________________________________________________________________________________\n",
      "hidden_layer2_sigmoid (Dense)    (None, 1000)          201000      dropout_15[0][0]                 \n",
      "____________________________________________________________________________________________________\n",
      "softmax_output (Dense)           (None, 244)           244244      hidden_layer2_sigmoid[0][0]      \n",
      "====================================================================================================\n",
      "Total params: 465444\n",
      "____________________________________________________________________________________________________\n",
      "Train on 1286325 samples, validate on 321473 samples\n",
      "Epoch 1/100\n",
      "    \n"
     ]
    },
    {
     "name": "stderr",
     "output_type": "stream",
     "text": [
      "2017-02-15 05:56:27,803 : INFO : Found lower val loss for epoch 1 => 0.0125\n"
     ]
    },
    {
     "name": "stdout",
     "output_type": "stream",
     "text": [
      "1286325/1286325 [==============================] - 19s - loss: 0.0165 - val_loss: 0.0125\n",
      "Epoch 2/100\n",
      "    \n"
     ]
    },
    {
     "name": "stderr",
     "output_type": "stream",
     "text": [
      "2017-02-15 05:56:46,934 : INFO : Found lower val loss for epoch 2 => 0.01116\n"
     ]
    },
    {
     "name": "stdout",
     "output_type": "stream",
     "text": [
      "1286325/1286325 [==============================] - 19s - loss: 0.0123 - val_loss: 0.0112\n",
      "Epoch 3/100\n",
      "    \n"
     ]
    },
    {
     "name": "stderr",
     "output_type": "stream",
     "text": [
      "2017-02-15 05:57:06,008 : INFO : Found lower val loss for epoch 3 => 0.01065\n"
     ]
    },
    {
     "name": "stdout",
     "output_type": "stream",
     "text": [
      "1286325/1286325 [==============================] - 19s - loss: 0.0116 - val_loss: 0.0107\n",
      "Epoch 4/100\n",
      "    \n"
     ]
    },
    {
     "name": "stderr",
     "output_type": "stream",
     "text": [
      "2017-02-15 05:57:25,031 : INFO : Found lower val loss for epoch 4 => 0.01031\n"
     ]
    },
    {
     "name": "stdout",
     "output_type": "stream",
     "text": [
      "1286325/1286325 [==============================] - 19s - loss: 0.0112 - val_loss: 0.0103\n",
      "Epoch 5/100\n",
      "    \n"
     ]
    },
    {
     "name": "stderr",
     "output_type": "stream",
     "text": [
      "2017-02-15 05:57:43,776 : INFO : Found lower val loss for epoch 5 => 0.01016\n"
     ]
    },
    {
     "name": "stdout",
     "output_type": "stream",
     "text": [
      "1286325/1286325 [==============================] - 18s - loss: 0.0109 - val_loss: 0.0102\n",
      "Epoch 6/100\n",
      "    \n"
     ]
    },
    {
     "name": "stderr",
     "output_type": "stream",
     "text": [
      "2017-02-15 05:58:02,510 : INFO : Found lower val loss for epoch 6 => 0.01006\n"
     ]
    },
    {
     "name": "stdout",
     "output_type": "stream",
     "text": [
      "1286325/1286325 [==============================] - 18s - loss: 0.0108 - val_loss: 0.0101\n",
      "Epoch 7/100\n",
      "    \n"
     ]
    },
    {
     "name": "stderr",
     "output_type": "stream",
     "text": [
      "2017-02-15 05:58:21,257 : INFO : Found lower val loss for epoch 7 => 0.00995\n"
     ]
    },
    {
     "name": "stdout",
     "output_type": "stream",
     "text": [
      "1286325/1286325 [==============================] - 18s - loss: 0.0107 - val_loss: 0.0099\n",
      "Epoch 8/100\n",
      "    \n"
     ]
    },
    {
     "name": "stderr",
     "output_type": "stream",
     "text": [
      "2017-02-15 05:58:40,134 : INFO : Found lower val loss for epoch 8 => 0.00979\n"
     ]
    },
    {
     "name": "stdout",
     "output_type": "stream",
     "text": [
      "1286325/1286325 [==============================] - 18s - loss: 0.0106 - val_loss: 0.0098\n",
      "Epoch 9/100\n",
      "1286325/1286325 [==============================] - 18s - loss: 0.0105 - val_loss: 0.0099\n",
      "Epoch 10/100\n",
      "    \n"
     ]
    },
    {
     "name": "stderr",
     "output_type": "stream",
     "text": [
      "2017-02-15 05:59:17,665 : INFO : Found lower val loss for epoch 10 => 0.00973\n"
     ]
    },
    {
     "name": "stdout",
     "output_type": "stream",
     "text": [
      "1286325/1286325 [==============================] - 18s - loss: 0.0104 - val_loss: 0.0097\n",
      "Epoch 11/100\n",
      "1286325/1286325 [==============================] - 18s - loss: 0.0104 - val_loss: 0.0098\n",
      "Epoch 12/100\n",
      "1286325/1286325 [==============================] - 18s - loss: 0.0103 - val_loss: 0.0097\n",
      "Epoch 13/100\n",
      "    \n"
     ]
    },
    {
     "name": "stderr",
     "output_type": "stream",
     "text": [
      "2017-02-15 06:00:14,237 : INFO : Found lower val loss for epoch 13 => 0.00973\n"
     ]
    },
    {
     "name": "stdout",
     "output_type": "stream",
     "text": [
      "1286325/1286325 [==============================] - 19s - loss: 0.0103 - val_loss: 0.0097\n",
      "Epoch 14/100\n",
      "    \n"
     ]
    },
    {
     "name": "stderr",
     "output_type": "stream",
     "text": [
      "2017-02-15 06:00:33,001 : INFO : Found lower val loss for epoch 14 => 0.00961\n"
     ]
    },
    {
     "name": "stdout",
     "output_type": "stream",
     "text": [
      "1286325/1286325 [==============================] - 18s - loss: 0.0103 - val_loss: 0.0096\n",
      "Epoch 15/100\n",
      "1286325/1286325 [==============================] - 18s - loss: 0.0103 - val_loss: 0.0098\n",
      "Epoch 16/100\n",
      "1286325/1286325 [==============================] - 18s - loss: 0.0102 - val_loss: 0.0097\n",
      "Epoch 17/100\n",
      "1286325/1286325 [==============================] - 18s - loss: 0.0102 - val_loss: 0.0097\n",
      "Epoch 18/100\n",
      "1286325/1286325 [==============================] - 18s - loss: 0.0102 - val_loss: 0.0096\n",
      "Epoch 19/100\n",
      "1286325/1286325 [==============================] - 18s - loss: 0.0102 - val_loss: 0.0097\n",
      "Epoch 20/100\n",
      "1286325/1286325 [==============================] - 18s - loss: 0.0102 - val_loss: 0.0098\n",
      "Epoch 21/100\n",
      "1286325/1286325 [==============================] - 19s - loss: 0.0102 - val_loss: 0.0098\n",
      "Epoch 22/100\n",
      "1286325/1286325 [==============================] - 19s - loss: 0.0102 - val_loss: 0.0097\n",
      "Epoch 23/100\n",
      "1286325/1286325 [==============================] - 18s - loss: 0.0101 - val_loss: 0.0098\n",
      "Epoch 24/100\n",
      "1286325/1286325 [==============================] - 18s - loss: 0.0101 - val_loss: 0.0098\n",
      "Epoch 25/100\n",
      "1286325/1286325 [==============================] - 18s - loss: 0.0101 - val_loss: 0.0097"
     ]
    },
    {
     "name": "stderr",
     "output_type": "stream",
     "text": [
      "2017-02-15 06:03:59,070 : INFO : Evaluating on Validation Data using saved best weights\n"
     ]
    },
    {
     "name": "stdout",
     "output_type": "stream",
     "text": [
      "\n",
      "Epoch 00024: early stopping\n",
      "CPU times: user 2min 37s, sys: 7min 11s, total: 9min 48s\n",
      "Wall time: 7min 52s\n"
     ]
    },
    {
     "name": "stderr",
     "output_type": "stream",
     "text": [
      "2017-02-15 06:04:16,899 : INFO : Generating Validation Metrics\n",
      "2017-02-15 06:05:49,379 : INFO : ***************************************************************************************\n",
      "2017-02-15 06:05:49,381 : INFO : nn_1st-size_500_1st-act_sigmoid_2nd-size_2000_2nd-act_relu_in-drop_False_hid-drop_True\n"
     ]
    },
    {
     "name": "stdout",
     "output_type": "stream",
     "text": [
      "****** Validation Metrics: Cov Err: 3.124 | Top 3: 0.831 | Top 5: 0.899 | F1 Micro: 0.594 | F1 Macro: 0.116\n",
      "____________________________________________________________________________________________________\n",
      "Layer (type)                     Output Shape          Param #     Connected to                     \n",
      "====================================================================================================\n",
      "doc_input (InputLayer)           (None, 100)           0                                            \n",
      "____________________________________________________________________________________________________\n",
      "hidden_layer_sigmoid (Dense)     (None, 500)           50500       doc_input[0][0]                  \n",
      "____________________________________________________________________________________________________\n",
      "dropout_16 (Dropout)             (None, 500)           0           hidden_layer_sigmoid[0][0]       \n",
      "____________________________________________________________________________________________________\n",
      "hidden_layer2_relu (Dense)       (None, 2000)          1002000     dropout_16[0][0]                 \n",
      "____________________________________________________________________________________________________\n",
      "softmax_output (Dense)           (None, 244)           488244      hidden_layer2_relu[0][0]         \n",
      "====================================================================================================\n",
      "Total params: 1540744\n",
      "____________________________________________________________________________________________________\n",
      "Train on 1286325 samples, validate on 321473 samples\n",
      "Epoch 1/100\n",
      "    \n"
     ]
    },
    {
     "name": "stderr",
     "output_type": "stream",
     "text": [
      "2017-02-15 06:06:19,536 : INFO : Found lower val loss for epoch 1 => 0.01112\n"
     ]
    },
    {
     "name": "stdout",
     "output_type": "stream",
     "text": [
      "1286325/1286325 [==============================] - 28s - loss: 0.0151 - val_loss: 0.0111\n",
      "Epoch 2/100\n",
      "    \n"
     ]
    },
    {
     "name": "stderr",
     "output_type": "stream",
     "text": [
      "2017-02-15 06:06:47,499 : INFO : Found lower val loss for epoch 2 => 0.01021\n"
     ]
    },
    {
     "name": "stdout",
     "output_type": "stream",
     "text": [
      "1286325/1286325 [==============================] - 27s - loss: 0.0112 - val_loss: 0.0102\n",
      "Epoch 3/100\n",
      "    \n"
     ]
    },
    {
     "name": "stderr",
     "output_type": "stream",
     "text": [
      "2017-02-15 06:07:16,000 : INFO : Found lower val loss for epoch 3 => 0.00995\n"
     ]
    },
    {
     "name": "stdout",
     "output_type": "stream",
     "text": [
      "1286325/1286325 [==============================] - 28s - loss: 0.0106 - val_loss: 0.0100\n",
      "Epoch 4/100\n",
      "    \n"
     ]
    },
    {
     "name": "stderr",
     "output_type": "stream",
     "text": [
      "2017-02-15 06:07:44,039 : INFO : Found lower val loss for epoch 4 => 0.0096\n"
     ]
    },
    {
     "name": "stdout",
     "output_type": "stream",
     "text": [
      "1286325/1286325 [==============================] - 28s - loss: 0.0103 - val_loss: 0.0096\n",
      "Epoch 5/100\n",
      "    \n"
     ]
    },
    {
     "name": "stderr",
     "output_type": "stream",
     "text": [
      "2017-02-15 06:08:12,177 : INFO : Found lower val loss for epoch 5 => 0.00953\n"
     ]
    },
    {
     "name": "stdout",
     "output_type": "stream",
     "text": [
      "1286325/1286325 [==============================] - 28s - loss: 0.0101 - val_loss: 0.0095\n",
      "Epoch 6/100\n",
      "    \n"
     ]
    },
    {
     "name": "stderr",
     "output_type": "stream",
     "text": [
      "2017-02-15 06:08:40,116 : INFO : Found lower val loss for epoch 6 => 0.00936\n"
     ]
    },
    {
     "name": "stdout",
     "output_type": "stream",
     "text": [
      "1286325/1286325 [==============================] - 27s - loss: 0.0100 - val_loss: 0.0094\n",
      "Epoch 7/100\n",
      "    \n"
     ]
    },
    {
     "name": "stderr",
     "output_type": "stream",
     "text": [
      "2017-02-15 06:09:08,151 : INFO : Found lower val loss for epoch 7 => 0.00929\n"
     ]
    },
    {
     "name": "stdout",
     "output_type": "stream",
     "text": [
      "1286325/1286325 [==============================] - 28s - loss: 0.0099 - val_loss: 0.0093\n",
      "Epoch 8/100\n",
      "    \n"
     ]
    },
    {
     "name": "stderr",
     "output_type": "stream",
     "text": [
      "2017-02-15 06:09:36,095 : INFO : Found lower val loss for epoch 8 => 0.00926\n"
     ]
    },
    {
     "name": "stdout",
     "output_type": "stream",
     "text": [
      "1286325/1286325 [==============================] - 27s - loss: 0.0099 - val_loss: 0.0093\n",
      "Epoch 9/100\n",
      "1286325/1286325 [==============================] - 27s - loss: 0.0098 - val_loss: 0.0093\n",
      "Epoch 10/100\n",
      "1286325/1286325 [==============================] - 28s - loss: 0.0098 - val_loss: 0.0093\n",
      "Epoch 11/100\n",
      "    \n"
     ]
    },
    {
     "name": "stderr",
     "output_type": "stream",
     "text": [
      "2017-02-15 06:11:00,387 : INFO : Found lower val loss for epoch 11 => 0.00915\n"
     ]
    },
    {
     "name": "stdout",
     "output_type": "stream",
     "text": [
      "1286325/1286325 [==============================] - 28s - loss: 0.0098 - val_loss: 0.0092\n",
      "Epoch 12/100\n",
      "    \n"
     ]
    },
    {
     "name": "stderr",
     "output_type": "stream",
     "text": [
      "2017-02-15 06:11:28,757 : INFO : Found lower val loss for epoch 12 => 0.00911\n"
     ]
    },
    {
     "name": "stdout",
     "output_type": "stream",
     "text": [
      "1286325/1286325 [==============================] - 28s - loss: 0.0098 - val_loss: 0.0091\n",
      "Epoch 13/100\n",
      "1286325/1286325 [==============================] - 28s - loss: 0.0098 - val_loss: 0.0092\n",
      "Epoch 14/100\n",
      "    \n"
     ]
    },
    {
     "name": "stderr",
     "output_type": "stream",
     "text": [
      "2017-02-15 06:12:24,937 : INFO : Found lower val loss for epoch 14 => 0.00907\n"
     ]
    },
    {
     "name": "stdout",
     "output_type": "stream",
     "text": [
      "1286325/1286325 [==============================] - 28s - loss: 0.0098 - val_loss: 0.0091\n",
      "Epoch 15/100\n",
      "1286325/1286325 [==============================] - 27s - loss: 0.0098 - val_loss: 0.0091\n",
      "Epoch 16/100\n",
      "1286325/1286325 [==============================] - 27s - loss: 0.0097 - val_loss: 0.0091\n",
      "Epoch 17/100\n",
      "1286325/1286325 [==============================] - 27s - loss: 0.0097 - val_loss: 0.0091\n",
      "Epoch 18/100\n",
      "1286325/1286325 [==============================] - 27s - loss: 0.0097 - val_loss: 0.0091\n",
      "Epoch 19/100\n",
      "    \n"
     ]
    },
    {
     "name": "stderr",
     "output_type": "stream",
     "text": [
      "2017-02-15 06:14:43,774 : INFO : Found lower val loss for epoch 19 => 0.00903\n"
     ]
    },
    {
     "name": "stdout",
     "output_type": "stream",
     "text": [
      "1286325/1286325 [==============================] - 27s - loss: 0.0097 - val_loss: 0.0090\n",
      "Epoch 20/100\n",
      "1286325/1286325 [==============================] - 27s - loss: 0.0097 - val_loss: 0.0090\n",
      "Epoch 21/100\n",
      "    \n"
     ]
    },
    {
     "name": "stderr",
     "output_type": "stream",
     "text": [
      "2017-02-15 06:15:39,466 : INFO : Found lower val loss for epoch 21 => 0.00901\n"
     ]
    },
    {
     "name": "stdout",
     "output_type": "stream",
     "text": [
      "1286325/1286325 [==============================] - 27s - loss: 0.0097 - val_loss: 0.0090\n",
      "Epoch 22/100\n",
      "    \n"
     ]
    },
    {
     "name": "stderr",
     "output_type": "stream",
     "text": [
      "2017-02-15 06:16:07,505 : INFO : Found lower val loss for epoch 22 => 0.00898\n"
     ]
    },
    {
     "name": "stdout",
     "output_type": "stream",
     "text": [
      "1286325/1286325 [==============================] - 28s - loss: 0.0097 - val_loss: 0.0090\n",
      "Epoch 23/100\n",
      "1286325/1286325 [==============================] - 27s - loss: 0.0097 - val_loss: 0.0090\n",
      "Epoch 24/100\n",
      "1286325/1286325 [==============================] - 27s - loss: 0.0097 - val_loss: 0.0090\n",
      "Epoch 25/100\n",
      "    \n"
     ]
    },
    {
     "name": "stderr",
     "output_type": "stream",
     "text": [
      "2017-02-15 06:17:31,020 : INFO : Found lower val loss for epoch 25 => 0.00897\n"
     ]
    },
    {
     "name": "stdout",
     "output_type": "stream",
     "text": [
      "1286325/1286325 [==============================] - 27s - loss: 0.0097 - val_loss: 0.0090\n",
      "Epoch 26/100\n",
      "    \n"
     ]
    },
    {
     "name": "stderr",
     "output_type": "stream",
     "text": [
      "2017-02-15 06:17:59,070 : INFO : Found lower val loss for epoch 26 => 0.00896\n"
     ]
    },
    {
     "name": "stdout",
     "output_type": "stream",
     "text": [
      "1286325/1286325 [==============================] - 28s - loss: 0.0097 - val_loss: 0.0090\n",
      "Epoch 27/100\n",
      "    \n"
     ]
    },
    {
     "name": "stderr",
     "output_type": "stream",
     "text": [
      "2017-02-15 06:18:27,011 : INFO : Found lower val loss for epoch 27 => 0.00892\n"
     ]
    },
    {
     "name": "stdout",
     "output_type": "stream",
     "text": [
      "1286325/1286325 [==============================] - 27s - loss: 0.0097 - val_loss: 0.0089\n",
      "Epoch 28/100\n",
      "    \n"
     ]
    },
    {
     "name": "stderr",
     "output_type": "stream",
     "text": [
      "2017-02-15 06:18:54,918 : INFO : Found lower val loss for epoch 28 => 0.00892\n"
     ]
    },
    {
     "name": "stdout",
     "output_type": "stream",
     "text": [
      "1286325/1286325 [==============================] - 27s - loss: 0.0097 - val_loss: 0.0089\n",
      "Epoch 29/100\n",
      "    \n"
     ]
    },
    {
     "name": "stderr",
     "output_type": "stream",
     "text": [
      "2017-02-15 06:19:23,072 : INFO : Found lower val loss for epoch 29 => 0.00892\n"
     ]
    },
    {
     "name": "stdout",
     "output_type": "stream",
     "text": [
      "1286325/1286325 [==============================] - 28s - loss: 0.0097 - val_loss: 0.0089\n",
      "Epoch 30/100\n",
      "1286325/1286325 [==============================] - 27s - loss: 0.0097 - val_loss: 0.0089\n",
      "Epoch 31/100\n",
      "1286325/1286325 [==============================] - 28s - loss: 0.0097 - val_loss: 0.0089\n",
      "Epoch 32/100\n",
      "1286325/1286325 [==============================] - 27s - loss: 0.0097 - val_loss: 0.0090\n",
      "Epoch 33/100\n",
      "    \n"
     ]
    },
    {
     "name": "stderr",
     "output_type": "stream",
     "text": [
      "2017-02-15 06:21:14,699 : INFO : Found lower val loss for epoch 33 => 0.0089\n"
     ]
    },
    {
     "name": "stdout",
     "output_type": "stream",
     "text": [
      "1286325/1286325 [==============================] - 27s - loss: 0.0097 - val_loss: 0.0089\n",
      "Epoch 34/100\n",
      "1286325/1286325 [==============================] - 27s - loss: 0.0097 - val_loss: 0.0090\n",
      "Epoch 35/100\n",
      "1286325/1286325 [==============================] - 27s - loss: 0.0097 - val_loss: 0.0090\n",
      "Epoch 36/100\n",
      "1286325/1286325 [==============================] - 27s - loss: 0.0097 - val_loss: 0.0090\n",
      "Epoch 37/100\n",
      "1286325/1286325 [==============================] - 27s - loss: 0.0097 - val_loss: 0.0090\n",
      "Epoch 38/100\n",
      "1286325/1286325 [==============================] - 27s - loss: 0.0097 - val_loss: 0.0090\n",
      "Epoch 39/100\n",
      "1286325/1286325 [==============================] - 27s - loss: 0.0097 - val_loss: 0.0090\n",
      "Epoch 40/100\n",
      "1286325/1286325 [==============================] - 27s - loss: 0.0096 - val_loss: 0.0090\n",
      "Epoch 41/100\n",
      "1286325/1286325 [==============================] - 27s - loss: 0.0096 - val_loss: 0.0090\n",
      "Epoch 42/100\n",
      "1286325/1286325 [==============================] - 27s - loss: 0.0096 - val_loss: 0.0090\n",
      "Epoch 43/100\n",
      "1286325/1286325 [==============================] - 28s - loss: 0.0096 - val_loss: 0.0091\n",
      "Epoch 44/100\n",
      "1286325/1286325 [==============================] - 27s - loss: 0.0096 - val_loss: 0.0090"
     ]
    },
    {
     "name": "stderr",
     "output_type": "stream",
     "text": [
      "2017-02-15 06:26:20,092 : INFO : Evaluating on Validation Data using saved best weights\n"
     ]
    },
    {
     "name": "stdout",
     "output_type": "stream",
     "text": [
      "\n",
      "Epoch 00043: early stopping\n",
      "CPU times: user 6min 47s, sys: 17min 48s, total: 24min 36s\n",
      "Wall time: 20min 30s\n"
     ]
    },
    {
     "name": "stderr",
     "output_type": "stream",
     "text": [
      "2017-02-15 06:26:43,875 : INFO : Generating Validation Metrics\n",
      "2017-02-15 06:28:15,468 : INFO : ***************************************************************************************\n",
      "2017-02-15 06:28:15,470 : INFO : nn_1st-size_200_1st-act_sigmoid_2nd-size_2000_2nd-act_sigmoid_in-drop_False_hid-drop_True\n"
     ]
    },
    {
     "name": "stdout",
     "output_type": "stream",
     "text": [
      "****** Validation Metrics: Cov Err: 2.919 | Top 3: 0.849 | Top 5: 0.912 | F1 Micro: 0.655 | F1 Macro: 0.174\n",
      "____________________________________________________________________________________________________\n",
      "Layer (type)                     Output Shape          Param #     Connected to                     \n",
      "====================================================================================================\n",
      "doc_input (InputLayer)           (None, 100)           0                                            \n",
      "____________________________________________________________________________________________________\n",
      "hidden_layer_sigmoid (Dense)     (None, 200)           20200       doc_input[0][0]                  \n",
      "____________________________________________________________________________________________________\n",
      "dropout_17 (Dropout)             (None, 200)           0           hidden_layer_sigmoid[0][0]       \n",
      "____________________________________________________________________________________________________\n",
      "hidden_layer2_sigmoid (Dense)    (None, 2000)          402000      dropout_17[0][0]                 \n",
      "____________________________________________________________________________________________________\n",
      "softmax_output (Dense)           (None, 244)           488244      hidden_layer2_sigmoid[0][0]      \n",
      "====================================================================================================\n",
      "Total params: 910444\n",
      "____________________________________________________________________________________________________\n",
      "Train on 1286325 samples, validate on 321473 samples\n",
      "Epoch 1/100\n",
      "    \n"
     ]
    },
    {
     "name": "stderr",
     "output_type": "stream",
     "text": [
      "2017-02-15 06:28:39,955 : INFO : Found lower val loss for epoch 1 => 0.01237\n"
     ]
    },
    {
     "name": "stdout",
     "output_type": "stream",
     "text": [
      "1286325/1286325 [==============================] - 22s - loss: 0.0164 - val_loss: 0.0124\n",
      "Epoch 2/100\n",
      "    \n"
     ]
    },
    {
     "name": "stderr",
     "output_type": "stream",
     "text": [
      "2017-02-15 06:29:02,794 : INFO : Found lower val loss for epoch 2 => 0.01115\n"
     ]
    },
    {
     "name": "stdout",
     "output_type": "stream",
     "text": [
      "1286325/1286325 [==============================] - 22s - loss: 0.0123 - val_loss: 0.0111\n",
      "Epoch 3/100\n",
      "    \n"
     ]
    },
    {
     "name": "stderr",
     "output_type": "stream",
     "text": [
      "2017-02-15 06:29:25,432 : INFO : Found lower val loss for epoch 3 => 0.01062\n"
     ]
    },
    {
     "name": "stdout",
     "output_type": "stream",
     "text": [
      "1286325/1286325 [==============================] - 22s - loss: 0.0115 - val_loss: 0.0106\n",
      "Epoch 4/100\n",
      "    \n"
     ]
    },
    {
     "name": "stderr",
     "output_type": "stream",
     "text": [
      "2017-02-15 06:29:48,433 : INFO : Found lower val loss for epoch 4 => 0.01026\n"
     ]
    },
    {
     "name": "stdout",
     "output_type": "stream",
     "text": [
      "1286325/1286325 [==============================] - 22s - loss: 0.0111 - val_loss: 0.0103\n",
      "Epoch 5/100\n",
      "    \n"
     ]
    },
    {
     "name": "stderr",
     "output_type": "stream",
     "text": [
      "2017-02-15 06:30:11,580 : INFO : Found lower val loss for epoch 5 => 0.01006\n"
     ]
    },
    {
     "name": "stdout",
     "output_type": "stream",
     "text": [
      "1286325/1286325 [==============================] - 23s - loss: 0.0109 - val_loss: 0.0101\n",
      "Epoch 6/100\n",
      "    \n"
     ]
    },
    {
     "name": "stderr",
     "output_type": "stream",
     "text": [
      "2017-02-15 06:30:35,124 : INFO : Found lower val loss for epoch 6 => 0.00995\n"
     ]
    },
    {
     "name": "stdout",
     "output_type": "stream",
     "text": [
      "1286325/1286325 [==============================] - 23s - loss: 0.0107 - val_loss: 0.0099\n",
      "Epoch 7/100\n",
      "    \n"
     ]
    },
    {
     "name": "stderr",
     "output_type": "stream",
     "text": [
      "2017-02-15 06:30:58,556 : INFO : Found lower val loss for epoch 7 => 0.00984\n"
     ]
    },
    {
     "name": "stdout",
     "output_type": "stream",
     "text": [
      "1286325/1286325 [==============================] - 23s - loss: 0.0106 - val_loss: 0.0098\n",
      "Epoch 8/100\n",
      "    \n"
     ]
    },
    {
     "name": "stderr",
     "output_type": "stream",
     "text": [
      "2017-02-15 06:31:21,369 : INFO : Found lower val loss for epoch 8 => 0.00975\n"
     ]
    },
    {
     "name": "stdout",
     "output_type": "stream",
     "text": [
      "1286325/1286325 [==============================] - 22s - loss: 0.0105 - val_loss: 0.0098\n",
      "Epoch 9/100\n",
      "    \n"
     ]
    },
    {
     "name": "stderr",
     "output_type": "stream",
     "text": [
      "2017-02-15 06:31:44,311 : INFO : Found lower val loss for epoch 9 => 0.00965\n"
     ]
    },
    {
     "name": "stdout",
     "output_type": "stream",
     "text": [
      "1286325/1286325 [==============================] - 22s - loss: 0.0104 - val_loss: 0.0096\n",
      "Epoch 10/100\n",
      "1286325/1286325 [==============================] - 22s - loss: 0.0103 - val_loss: 0.0097\n",
      "Epoch 11/100\n",
      "    \n"
     ]
    },
    {
     "name": "stderr",
     "output_type": "stream",
     "text": [
      "2017-02-15 06:32:30,082 : INFO : Found lower val loss for epoch 11 => 0.00961\n"
     ]
    },
    {
     "name": "stdout",
     "output_type": "stream",
     "text": [
      "1286325/1286325 [==============================] - 22s - loss: 0.0103 - val_loss: 0.0096\n",
      "Epoch 12/100\n",
      "1286325/1286325 [==============================] - 22s - loss: 0.0103 - val_loss: 0.0096\n",
      "Epoch 13/100\n",
      "    \n"
     ]
    },
    {
     "name": "stderr",
     "output_type": "stream",
     "text": [
      "2017-02-15 06:33:15,171 : INFO : Found lower val loss for epoch 13 => 0.00959\n"
     ]
    },
    {
     "name": "stdout",
     "output_type": "stream",
     "text": [
      "1286325/1286325 [==============================] - 22s - loss: 0.0102 - val_loss: 0.0096\n",
      "Epoch 14/100\n",
      "    \n"
     ]
    },
    {
     "name": "stderr",
     "output_type": "stream",
     "text": [
      "2017-02-15 06:33:37,878 : INFO : Found lower val loss for epoch 14 => 0.00956\n"
     ]
    },
    {
     "name": "stdout",
     "output_type": "stream",
     "text": [
      "1286325/1286325 [==============================] - 22s - loss: 0.0102 - val_loss: 0.0096\n",
      "Epoch 15/100\n",
      "1286325/1286325 [==============================] - 22s - loss: 0.0102 - val_loss: 0.0097\n",
      "Epoch 16/100\n",
      "    \n"
     ]
    },
    {
     "name": "stderr",
     "output_type": "stream",
     "text": [
      "2017-02-15 06:34:23,072 : INFO : Found lower val loss for epoch 16 => 0.00955\n"
     ]
    },
    {
     "name": "stdout",
     "output_type": "stream",
     "text": [
      "1286325/1286325 [==============================] - 22s - loss: 0.0102 - val_loss: 0.0096\n",
      "Epoch 17/100\n",
      "1286325/1286325 [==============================] - 22s - loss: 0.0101 - val_loss: 0.0096\n",
      "Epoch 18/100\n",
      "1286325/1286325 [==============================] - 22s - loss: 0.0101 - val_loss: 0.0096\n",
      "Epoch 19/100\n",
      "1286325/1286325 [==============================] - 22s - loss: 0.0101 - val_loss: 0.0096\n",
      "Epoch 20/100\n",
      "1286325/1286325 [==============================] - 23s - loss: 0.0101 - val_loss: 0.0097\n",
      "Epoch 21/100\n",
      "1286325/1286325 [==============================] - 22s - loss: 0.0101 - val_loss: 0.0096\n",
      "Epoch 22/100\n",
      "1286325/1286325 [==============================] - 22s - loss: 0.0101 - val_loss: 0.0096\n",
      "Epoch 23/100\n",
      "1286325/1286325 [==============================] - 22s - loss: 0.0101 - val_loss: 0.0097\n",
      "Epoch 24/100\n",
      "1286325/1286325 [==============================] - 22s - loss: 0.0101 - val_loss: 0.0096\n",
      "Epoch 25/100\n",
      "1286325/1286325 [==============================] - 22s - loss: 0.0101 - val_loss: 0.0097\n",
      "Epoch 26/100\n",
      "1286325/1286325 [==============================] - 23s - loss: 0.0101 - val_loss: 0.0097\n",
      "Epoch 27/100\n",
      "1286325/1286325 [==============================] - 22s - loss: 0.0101 - val_loss: 0.0097"
     ]
    },
    {
     "name": "stderr",
     "output_type": "stream",
     "text": [
      "2017-02-15 06:38:33,049 : INFO : Evaluating on Validation Data using saved best weights\n"
     ]
    },
    {
     "name": "stdout",
     "output_type": "stream",
     "text": [
      "\n",
      "Epoch 00026: early stopping\n",
      "CPU times: user 3min 23s, sys: 9min 18s, total: 12min 42s\n",
      "Wall time: 10min 17s\n"
     ]
    },
    {
     "name": "stderr",
     "output_type": "stream",
     "text": [
      "2017-02-15 06:38:56,211 : INFO : Generating Validation Metrics\n",
      "2017-02-15 06:40:27,699 : INFO : ***************************************************************************************\n",
      "2017-02-15 06:40:27,701 : INFO : nn_1st-size_200_1st-act_tanh_2nd-size_2000_2nd-act_relu_in-drop_False_hid-drop_True\n"
     ]
    },
    {
     "name": "stdout",
     "output_type": "stream",
     "text": [
      "****** Validation Metrics: Cov Err: 3.073 | Top 3: 0.835 | Top 5: 0.902 | F1 Micro: 0.598 | F1 Macro: 0.123\n",
      "____________________________________________________________________________________________________\n",
      "Layer (type)                     Output Shape          Param #     Connected to                     \n",
      "====================================================================================================\n",
      "doc_input (InputLayer)           (None, 100)           0                                            \n",
      "____________________________________________________________________________________________________\n",
      "hidden_layer_tanh (Dense)        (None, 200)           20200       doc_input[0][0]                  \n",
      "____________________________________________________________________________________________________\n",
      "dropout_18 (Dropout)             (None, 200)           0           hidden_layer_tanh[0][0]          \n",
      "____________________________________________________________________________________________________\n",
      "hidden_layer2_relu (Dense)       (None, 2000)          402000      dropout_18[0][0]                 \n",
      "____________________________________________________________________________________________________\n",
      "softmax_output (Dense)           (None, 244)           488244      hidden_layer2_relu[0][0]         \n",
      "====================================================================================================\n",
      "Total params: 910444\n",
      "____________________________________________________________________________________________________\n",
      "Train on 1286325 samples, validate on 321473 samples\n",
      "Epoch 1/100\n",
      "    \n"
     ]
    },
    {
     "name": "stderr",
     "output_type": "stream",
     "text": [
      "2017-02-15 06:40:56,317 : INFO : Found lower val loss for epoch 1 => 0.01006\n"
     ]
    },
    {
     "name": "stdout",
     "output_type": "stream",
     "text": [
      "1286325/1286325 [==============================] - 24s - loss: 0.0135 - val_loss: 0.0101\n",
      "Epoch 2/100\n",
      "    \n"
     ]
    },
    {
     "name": "stderr",
     "output_type": "stream",
     "text": [
      "2017-02-15 06:41:20,466 : INFO : Found lower val loss for epoch 2 => 0.00979\n"
     ]
    },
    {
     "name": "stdout",
     "output_type": "stream",
     "text": [
      "1286325/1286325 [==============================] - 24s - loss: 0.0104 - val_loss: 0.0098\n",
      "Epoch 3/100\n",
      "    \n"
     ]
    },
    {
     "name": "stderr",
     "output_type": "stream",
     "text": [
      "2017-02-15 06:41:44,045 : INFO : Found lower val loss for epoch 3 => 0.00951\n"
     ]
    },
    {
     "name": "stdout",
     "output_type": "stream",
     "text": [
      "1286325/1286325 [==============================] - 23s - loss: 0.0102 - val_loss: 0.0095\n",
      "Epoch 4/100\n",
      "    \n"
     ]
    },
    {
     "name": "stderr",
     "output_type": "stream",
     "text": [
      "2017-02-15 06:42:08,325 : INFO : Found lower val loss for epoch 4 => 0.00929\n"
     ]
    },
    {
     "name": "stdout",
     "output_type": "stream",
     "text": [
      "1286325/1286325 [==============================] - 24s - loss: 0.0101 - val_loss: 0.0093\n",
      "Epoch 5/100\n",
      "    \n"
     ]
    },
    {
     "name": "stderr",
     "output_type": "stream",
     "text": [
      "2017-02-15 06:42:32,507 : INFO : Found lower val loss for epoch 5 => 0.00917\n"
     ]
    },
    {
     "name": "stdout",
     "output_type": "stream",
     "text": [
      "1286325/1286325 [==============================] - 24s - loss: 0.0100 - val_loss: 0.0092\n",
      "Epoch 6/100\n",
      "    \n"
     ]
    },
    {
     "name": "stderr",
     "output_type": "stream",
     "text": [
      "2017-02-15 06:42:56,208 : INFO : Found lower val loss for epoch 6 => 0.00912\n"
     ]
    },
    {
     "name": "stdout",
     "output_type": "stream",
     "text": [
      "1286325/1286325 [==============================] - 23s - loss: 0.0100 - val_loss: 0.0091\n",
      "Epoch 7/100\n",
      "    \n"
     ]
    },
    {
     "name": "stderr",
     "output_type": "stream",
     "text": [
      "2017-02-15 06:43:20,249 : INFO : Found lower val loss for epoch 7 => 0.009\n"
     ]
    },
    {
     "name": "stdout",
     "output_type": "stream",
     "text": [
      "1286325/1286325 [==============================] - 24s - loss: 0.0100 - val_loss: 0.0090\n",
      "Epoch 8/100\n",
      "1286325/1286325 [==============================] - 23s - loss: 0.0100 - val_loss: 0.0091\n",
      "Epoch 9/100\n",
      "    \n"
     ]
    },
    {
     "name": "stderr",
     "output_type": "stream",
     "text": [
      "2017-02-15 06:44:07,618 : INFO : Found lower val loss for epoch 9 => 0.00897\n"
     ]
    },
    {
     "name": "stdout",
     "output_type": "stream",
     "text": [
      "1286325/1286325 [==============================] - 23s - loss: 0.0099 - val_loss: 0.0090\n",
      "Epoch 10/100\n",
      "    \n"
     ]
    },
    {
     "name": "stderr",
     "output_type": "stream",
     "text": [
      "2017-02-15 06:44:31,767 : INFO : Found lower val loss for epoch 10 => 0.00895\n"
     ]
    },
    {
     "name": "stdout",
     "output_type": "stream",
     "text": [
      "1286325/1286325 [==============================] - 24s - loss: 0.0099 - val_loss: 0.0090\n",
      "Epoch 11/100\n",
      "1286325/1286325 [==============================] - 24s - loss: 0.0099 - val_loss: 0.0090\n",
      "Epoch 12/100\n",
      "    \n"
     ]
    },
    {
     "name": "stderr",
     "output_type": "stream",
     "text": [
      "2017-02-15 06:45:19,797 : INFO : Found lower val loss for epoch 12 => 0.00894\n"
     ]
    },
    {
     "name": "stdout",
     "output_type": "stream",
     "text": [
      "1286325/1286325 [==============================] - 23s - loss: 0.0099 - val_loss: 0.0089\n",
      "Epoch 13/100\n",
      "1286325/1286325 [==============================] - 23s - loss: 0.0099 - val_loss: 0.0089\n",
      "Epoch 14/100\n",
      "1286325/1286325 [==============================] - 23s - loss: 0.0099 - val_loss: 0.0089\n",
      "Epoch 15/100\n",
      "1286325/1286325 [==============================] - 23s - loss: 0.0099 - val_loss: 0.0090\n",
      "Epoch 16/100\n",
      "    \n"
     ]
    },
    {
     "name": "stderr",
     "output_type": "stream",
     "text": [
      "2017-02-15 06:46:55,240 : INFO : Found lower val loss for epoch 16 => 0.00893\n"
     ]
    },
    {
     "name": "stdout",
     "output_type": "stream",
     "text": [
      "1286325/1286325 [==============================] - 23s - loss: 0.0099 - val_loss: 0.0089\n",
      "Epoch 17/100\n",
      "1286325/1286325 [==============================] - 23s - loss: 0.0099 - val_loss: 0.0089\n",
      "Epoch 18/100\n",
      "1286325/1286325 [==============================] - 23s - loss: 0.0099 - val_loss: 0.0089\n",
      "Epoch 19/100\n",
      "1286325/1286325 [==============================] - 23s - loss: 0.0099 - val_loss: 0.0090\n",
      "Epoch 20/100\n",
      "    \n"
     ]
    },
    {
     "name": "stderr",
     "output_type": "stream",
     "text": [
      "2017-02-15 06:48:30,943 : INFO : Found lower val loss for epoch 20 => 0.00893\n"
     ]
    },
    {
     "name": "stdout",
     "output_type": "stream",
     "text": [
      "1286325/1286325 [==============================] - 24s - loss: 0.0100 - val_loss: 0.0089\n",
      "Epoch 21/100\n",
      "1286325/1286325 [==============================] - 24s - loss: 0.0100 - val_loss: 0.0090\n",
      "Epoch 22/100\n",
      "1286325/1286325 [==============================] - 23s - loss: 0.0100 - val_loss: 0.0090\n",
      "Epoch 23/100\n",
      "1286325/1286325 [==============================] - 24s - loss: 0.0100 - val_loss: 0.0090"
     ]
    },
    {
     "name": "stderr",
     "output_type": "stream",
     "text": [
      "2017-02-15 06:49:42,734 : INFO : Evaluating on Validation Data using saved best weights\n"
     ]
    },
    {
     "name": "stdout",
     "output_type": "stream",
     "text": [
      "\n",
      "Epoch 00022: early stopping\n",
      "CPU times: user 3min 3s, sys: 8min 7s, total: 11min 10s\n",
      "Wall time: 9min 14s\n"
     ]
    },
    {
     "name": "stderr",
     "output_type": "stream",
     "text": [
      "2017-02-15 06:50:00,237 : INFO : Generating Validation Metrics\n",
      "2017-02-15 06:51:30,220 : INFO : ***************************************************************************************\n",
      "2017-02-15 06:51:30,221 : INFO : nn_1st-size_500_1st-act_tanh_2nd-size_None_2nd-act_tanh_in-drop_False_hid-drop_True\n"
     ]
    },
    {
     "name": "stdout",
     "output_type": "stream",
     "text": [
      "****** Validation Metrics: Cov Err: 2.956 | Top 3: 0.849 | Top 5: 0.910 | F1 Micro: 0.648 | F1 Macro: 0.166\n",
      "____________________________________________________________________________________________________\n",
      "Layer (type)                     Output Shape          Param #     Connected to                     \n",
      "====================================================================================================\n",
      "doc_input (InputLayer)           (None, 100)           0                                            \n",
      "____________________________________________________________________________________________________\n",
      "hidden_layer_tanh (Dense)        (None, 500)           50500       doc_input[0][0]                  \n",
      "____________________________________________________________________________________________________\n",
      "dropout_19 (Dropout)             (None, 500)           0           hidden_layer_tanh[0][0]          \n",
      "____________________________________________________________________________________________________\n",
      "softmax_output (Dense)           (None, 244)           122244      dropout_19[0][0]                 \n",
      "====================================================================================================\n",
      "Total params: 172744\n",
      "____________________________________________________________________________________________________\n",
      "Train on 1286325 samples, validate on 321473 samples\n",
      "Epoch 1/100\n",
      "    \n"
     ]
    },
    {
     "name": "stderr",
     "output_type": "stream",
     "text": [
      "2017-02-15 06:51:45,944 : INFO : Found lower val loss for epoch 1 => 0.01091\n"
     ]
    },
    {
     "name": "stdout",
     "output_type": "stream",
     "text": [
      "1286325/1286325 [==============================] - 14s - loss: 0.0227 - val_loss: 0.0109\n",
      "Epoch 2/100\n",
      "    \n"
     ]
    },
    {
     "name": "stderr",
     "output_type": "stream",
     "text": [
      "2017-02-15 06:52:00,391 : INFO : Found lower val loss for epoch 2 => 0.01082\n"
     ]
    },
    {
     "name": "stdout",
     "output_type": "stream",
     "text": [
      "1286325/1286325 [==============================] - 14s - loss: 0.0115 - val_loss: 0.0108\n",
      "Epoch 3/100\n",
      "    \n"
     ]
    },
    {
     "name": "stderr",
     "output_type": "stream",
     "text": [
      "2017-02-15 06:52:14,934 : INFO : Found lower val loss for epoch 3 => 0.01082\n"
     ]
    },
    {
     "name": "stdout",
     "output_type": "stream",
     "text": [
      "1286325/1286325 [==============================] - 14s - loss: 0.0115 - val_loss: 0.0108\n",
      "Epoch 4/100\n",
      "1286325/1286325 [==============================] - 14s - loss: 0.0114 - val_loss: 0.0108\n",
      "Epoch 5/100\n",
      "    \n"
     ]
    },
    {
     "name": "stderr",
     "output_type": "stream",
     "text": [
      "2017-02-15 06:52:43,525 : INFO : Found lower val loss for epoch 5 => 0.01081\n"
     ]
    },
    {
     "name": "stdout",
     "output_type": "stream",
     "text": [
      "1286325/1286325 [==============================] - 14s - loss: 0.0114 - val_loss: 0.0108\n",
      "Epoch 6/100\n",
      "    \n"
     ]
    },
    {
     "name": "stderr",
     "output_type": "stream",
     "text": [
      "2017-02-15 06:52:58,002 : INFO : Found lower val loss for epoch 6 => 0.01075\n"
     ]
    },
    {
     "name": "stdout",
     "output_type": "stream",
     "text": [
      "1286325/1286325 [==============================] - 14s - loss: 0.0114 - val_loss: 0.0108\n",
      "Epoch 7/100\n",
      "    \n"
     ]
    },
    {
     "name": "stderr",
     "output_type": "stream",
     "text": [
      "2017-02-15 06:53:12,209 : INFO : Found lower val loss for epoch 7 => 0.0107\n"
     ]
    },
    {
     "name": "stdout",
     "output_type": "stream",
     "text": [
      "1286325/1286325 [==============================] - 14s - loss: 0.0114 - val_loss: 0.0107\n",
      "Epoch 8/100\n",
      "    \n"
     ]
    },
    {
     "name": "stderr",
     "output_type": "stream",
     "text": [
      "2017-02-15 06:53:26,431 : INFO : Found lower val loss for epoch 8 => 0.01068\n"
     ]
    },
    {
     "name": "stdout",
     "output_type": "stream",
     "text": [
      "1286325/1286325 [==============================] - 14s - loss: 0.0113 - val_loss: 0.0107\n",
      "Epoch 9/100\n",
      "    \n"
     ]
    },
    {
     "name": "stderr",
     "output_type": "stream",
     "text": [
      "2017-02-15 06:53:40,632 : INFO : Found lower val loss for epoch 9 => 0.01067\n"
     ]
    },
    {
     "name": "stdout",
     "output_type": "stream",
     "text": [
      "1286325/1286325 [==============================] - 14s - loss: 0.0113 - val_loss: 0.0107\n",
      "Epoch 10/100\n",
      "    \n"
     ]
    },
    {
     "name": "stderr",
     "output_type": "stream",
     "text": [
      "2017-02-15 06:53:54,862 : INFO : Found lower val loss for epoch 10 => 0.01066\n"
     ]
    },
    {
     "name": "stdout",
     "output_type": "stream",
     "text": [
      "1286325/1286325 [==============================] - 14s - loss: 0.0113 - val_loss: 0.0107\n",
      "Epoch 11/100\n",
      "    \n"
     ]
    },
    {
     "name": "stderr",
     "output_type": "stream",
     "text": [
      "2017-02-15 06:54:09,085 : INFO : Found lower val loss for epoch 11 => 0.01064\n"
     ]
    },
    {
     "name": "stdout",
     "output_type": "stream",
     "text": [
      "1286325/1286325 [==============================] - 14s - loss: 0.0113 - val_loss: 0.0106\n",
      "Epoch 12/100\n",
      "    \n"
     ]
    },
    {
     "name": "stderr",
     "output_type": "stream",
     "text": [
      "2017-02-15 06:54:23,296 : INFO : Found lower val loss for epoch 12 => 0.01061\n"
     ]
    },
    {
     "name": "stdout",
     "output_type": "stream",
     "text": [
      "1286325/1286325 [==============================] - 14s - loss: 0.0113 - val_loss: 0.0106\n",
      "Epoch 13/100\n",
      "    \n"
     ]
    },
    {
     "name": "stderr",
     "output_type": "stream",
     "text": [
      "2017-02-15 06:54:37,710 : INFO : Found lower val loss for epoch 13 => 0.01056\n"
     ]
    },
    {
     "name": "stdout",
     "output_type": "stream",
     "text": [
      "1286325/1286325 [==============================] - 14s - loss: 0.0112 - val_loss: 0.0106\n",
      "Epoch 14/100\n",
      "1286325/1286325 [==============================] - 14s - loss: 0.0112 - val_loss: 0.0106\n",
      "Epoch 15/100\n",
      "    \n"
     ]
    },
    {
     "name": "stderr",
     "output_type": "stream",
     "text": [
      "2017-02-15 06:55:06,353 : INFO : Found lower val loss for epoch 15 => 0.01052\n"
     ]
    },
    {
     "name": "stdout",
     "output_type": "stream",
     "text": [
      "1286325/1286325 [==============================] - 14s - loss: 0.0112 - val_loss: 0.0105\n",
      "Epoch 16/100\n",
      "1286325/1286325 [==============================] - 14s - loss: 0.0112 - val_loss: 0.0105\n",
      "Epoch 17/100\n",
      "1286325/1286325 [==============================] - 14s - loss: 0.0112 - val_loss: 0.0105\n",
      "Epoch 18/100\n",
      "    \n"
     ]
    },
    {
     "name": "stderr",
     "output_type": "stream",
     "text": [
      "2017-02-15 06:55:49,140 : INFO : Found lower val loss for epoch 18 => 0.0105\n"
     ]
    },
    {
     "name": "stdout",
     "output_type": "stream",
     "text": [
      "1286325/1286325 [==============================] - 14s - loss: 0.0112 - val_loss: 0.0105\n",
      "Epoch 19/100\n",
      "    \n"
     ]
    },
    {
     "name": "stderr",
     "output_type": "stream",
     "text": [
      "2017-02-15 06:56:03,718 : INFO : Found lower val loss for epoch 19 => 0.01048\n"
     ]
    },
    {
     "name": "stdout",
     "output_type": "stream",
     "text": [
      "1286325/1286325 [==============================] - 14s - loss: 0.0112 - val_loss: 0.0105\n",
      "Epoch 20/100\n",
      "1286325/1286325 [==============================] - 14s - loss: 0.0111 - val_loss: 0.0105\n",
      "Epoch 21/100\n",
      "    \n"
     ]
    },
    {
     "name": "stderr",
     "output_type": "stream",
     "text": [
      "2017-02-15 06:56:32,449 : INFO : Found lower val loss for epoch 21 => 0.01046\n"
     ]
    },
    {
     "name": "stdout",
     "output_type": "stream",
     "text": [
      "1286325/1286325 [==============================] - 14s - loss: 0.0111 - val_loss: 0.0105\n",
      "Epoch 22/100\n",
      "    \n"
     ]
    },
    {
     "name": "stderr",
     "output_type": "stream",
     "text": [
      "2017-02-15 06:56:47,016 : INFO : Found lower val loss for epoch 22 => 0.01041\n"
     ]
    },
    {
     "name": "stdout",
     "output_type": "stream",
     "text": [
      "1286325/1286325 [==============================] - 14s - loss: 0.0111 - val_loss: 0.0104\n",
      "Epoch 23/100\n",
      "1286325/1286325 [==============================] - 14s - loss: 0.0111 - val_loss: 0.0104\n",
      "Epoch 24/100\n",
      "    \n"
     ]
    },
    {
     "name": "stderr",
     "output_type": "stream",
     "text": [
      "2017-02-15 06:57:16,310 : INFO : Found lower val loss for epoch 24 => 0.01041\n"
     ]
    },
    {
     "name": "stdout",
     "output_type": "stream",
     "text": [
      "1286325/1286325 [==============================] - 15s - loss: 0.0111 - val_loss: 0.0104\n",
      "Epoch 25/100\n",
      "1286325/1286325 [==============================] - 14s - loss: 0.0111 - val_loss: 0.0104\n",
      "Epoch 26/100\n",
      "1286325/1286325 [==============================] - 14s - loss: 0.0111 - val_loss: 0.0104\n",
      "Epoch 27/100\n",
      "    \n"
     ]
    },
    {
     "name": "stderr",
     "output_type": "stream",
     "text": [
      "2017-02-15 06:57:59,216 : INFO : Found lower val loss for epoch 27 => 0.01039\n"
     ]
    },
    {
     "name": "stdout",
     "output_type": "stream",
     "text": [
      "1286325/1286325 [==============================] - 14s - loss: 0.0111 - val_loss: 0.0104\n",
      "Epoch 28/100\n",
      "    \n"
     ]
    },
    {
     "name": "stderr",
     "output_type": "stream",
     "text": [
      "2017-02-15 06:58:13,737 : INFO : Found lower val loss for epoch 28 => 0.01035\n"
     ]
    },
    {
     "name": "stdout",
     "output_type": "stream",
     "text": [
      "1286325/1286325 [==============================] - 14s - loss: 0.0111 - val_loss: 0.0104\n",
      "Epoch 29/100\n",
      "1286325/1286325 [==============================] - 14s - loss: 0.0111 - val_loss: 0.0104\n",
      "Epoch 30/100\n",
      "1286325/1286325 [==============================] - 14s - loss: 0.0111 - val_loss: 0.0104\n",
      "Epoch 31/100\n",
      "    \n"
     ]
    },
    {
     "name": "stderr",
     "output_type": "stream",
     "text": [
      "2017-02-15 06:58:56,519 : INFO : Found lower val loss for epoch 31 => 0.01034\n"
     ]
    },
    {
     "name": "stdout",
     "output_type": "stream",
     "text": [
      "1286325/1286325 [==============================] - 14s - loss: 0.0110 - val_loss: 0.0103\n",
      "Epoch 32/100\n",
      "1286325/1286325 [==============================] - 14s - loss: 0.0110 - val_loss: 0.0103\n",
      "Epoch 33/100\n",
      "    \n"
     ]
    },
    {
     "name": "stderr",
     "output_type": "stream",
     "text": [
      "2017-02-15 06:59:25,303 : INFO : Found lower val loss for epoch 33 => 0.01032\n"
     ]
    },
    {
     "name": "stdout",
     "output_type": "stream",
     "text": [
      "1286325/1286325 [==============================] - 14s - loss: 0.0110 - val_loss: 0.0103\n",
      "Epoch 34/100\n",
      "1286325/1286325 [==============================] - 14s - loss: 0.0110 - val_loss: 0.0103\n",
      "Epoch 35/100\n",
      "    \n"
     ]
    },
    {
     "name": "stderr",
     "output_type": "stream",
     "text": [
      "2017-02-15 06:59:53,504 : INFO : Found lower val loss for epoch 35 => 0.01029\n"
     ]
    },
    {
     "name": "stdout",
     "output_type": "stream",
     "text": [
      "1286325/1286325 [==============================] - 14s - loss: 0.0110 - val_loss: 0.0103\n",
      "Epoch 36/100\n",
      "1286325/1286325 [==============================] - 14s - loss: 0.0110 - val_loss: 0.0103\n",
      "Epoch 37/100\n",
      "1286325/1286325 [==============================] - 14s - loss: 0.0110 - val_loss: 0.0104\n",
      "Epoch 38/100\n",
      "1286325/1286325 [==============================] - 14s - loss: 0.0110 - val_loss: 0.0103\n",
      "Epoch 39/100\n",
      "    \n"
     ]
    },
    {
     "name": "stderr",
     "output_type": "stream",
     "text": [
      "2017-02-15 07:00:50,235 : INFO : Found lower val loss for epoch 39 => 0.01028\n"
     ]
    },
    {
     "name": "stdout",
     "output_type": "stream",
     "text": [
      "1286325/1286325 [==============================] - 14s - loss: 0.0110 - val_loss: 0.0103\n",
      "Epoch 40/100\n",
      "1286325/1286325 [==============================] - 14s - loss: 0.0110 - val_loss: 0.0103\n",
      "Epoch 41/100\n",
      "    \n"
     ]
    },
    {
     "name": "stderr",
     "output_type": "stream",
     "text": [
      "2017-02-15 07:01:18,451 : INFO : Found lower val loss for epoch 41 => 0.01028\n"
     ]
    },
    {
     "name": "stdout",
     "output_type": "stream",
     "text": [
      "1286325/1286325 [==============================] - 14s - loss: 0.0110 - val_loss: 0.0103\n",
      "Epoch 42/100\n",
      "    \n"
     ]
    },
    {
     "name": "stderr",
     "output_type": "stream",
     "text": [
      "2017-02-15 07:01:32,672 : INFO : Found lower val loss for epoch 42 => 0.01026\n"
     ]
    },
    {
     "name": "stdout",
     "output_type": "stream",
     "text": [
      "1286325/1286325 [==============================] - 14s - loss: 0.0110 - val_loss: 0.0103\n",
      "Epoch 43/100\n",
      "    \n"
     ]
    },
    {
     "name": "stderr",
     "output_type": "stream",
     "text": [
      "2017-02-15 07:01:46,894 : INFO : Found lower val loss for epoch 43 => 0.01025\n"
     ]
    },
    {
     "name": "stdout",
     "output_type": "stream",
     "text": [
      "1286325/1286325 [==============================] - 14s - loss: 0.0110 - val_loss: 0.0103\n",
      "Epoch 44/100\n",
      "1286325/1286325 [==============================] - 14s - loss: 0.0110 - val_loss: 0.0103\n",
      "Epoch 45/100\n",
      "1286325/1286325 [==============================] - 14s - loss: 0.0110 - val_loss: 0.0103\n",
      "Epoch 46/100\n",
      "1286325/1286325 [==============================] - 14s - loss: 0.0110 - val_loss: 0.0103\n",
      "Epoch 47/100\n",
      "    \n"
     ]
    },
    {
     "name": "stderr",
     "output_type": "stream",
     "text": [
      "2017-02-15 07:02:43,944 : INFO : Found lower val loss for epoch 47 => 0.01025\n"
     ]
    },
    {
     "name": "stdout",
     "output_type": "stream",
     "text": [
      "1286325/1286325 [==============================] - 14s - loss: 0.0109 - val_loss: 0.0102\n",
      "Epoch 48/100\n",
      "    \n"
     ]
    },
    {
     "name": "stderr",
     "output_type": "stream",
     "text": [
      "2017-02-15 07:02:58,288 : INFO : Found lower val loss for epoch 48 => 0.01024\n"
     ]
    },
    {
     "name": "stdout",
     "output_type": "stream",
     "text": [
      "1286325/1286325 [==============================] - 14s - loss: 0.0109 - val_loss: 0.0102\n",
      "Epoch 49/100\n",
      "1286325/1286325 [==============================] - 14s - loss: 0.0109 - val_loss: 0.0103\n",
      "Epoch 50/100\n",
      "    \n"
     ]
    },
    {
     "name": "stderr",
     "output_type": "stream",
     "text": [
      "2017-02-15 07:03:26,755 : INFO : Found lower val loss for epoch 50 => 0.0102\n"
     ]
    },
    {
     "name": "stdout",
     "output_type": "stream",
     "text": [
      "1286325/1286325 [==============================] - 14s - loss: 0.0109 - val_loss: 0.0102\n",
      "Epoch 51/100\n",
      "1286325/1286325 [==============================] - 14s - loss: 0.0109 - val_loss: 0.0103\n",
      "Epoch 52/100\n",
      "1286325/1286325 [==============================] - 14s - loss: 0.0109 - val_loss: 0.0102\n",
      "Epoch 53/100\n",
      "1286325/1286325 [==============================] - 14s - loss: 0.0109 - val_loss: 0.0102\n",
      "Epoch 54/100\n",
      "1286325/1286325 [==============================] - 14s - loss: 0.0109 - val_loss: 0.0102\n",
      "Epoch 55/100\n",
      "    \n"
     ]
    },
    {
     "name": "stderr",
     "output_type": "stream",
     "text": [
      "2017-02-15 07:04:38,576 : INFO : Found lower val loss for epoch 55 => 0.01018\n"
     ]
    },
    {
     "name": "stdout",
     "output_type": "stream",
     "text": [
      "1286325/1286325 [==============================] - 14s - loss: 0.0109 - val_loss: 0.0102\n",
      "Epoch 56/100\n",
      "    \n"
     ]
    },
    {
     "name": "stderr",
     "output_type": "stream",
     "text": [
      "2017-02-15 07:04:52,972 : INFO : Found lower val loss for epoch 56 => 0.01017\n"
     ]
    },
    {
     "name": "stdout",
     "output_type": "stream",
     "text": [
      "1286325/1286325 [==============================] - 14s - loss: 0.0109 - val_loss: 0.0102\n",
      "Epoch 57/100\n",
      "1286325/1286325 [==============================] - 14s - loss: 0.0109 - val_loss: 0.0102\n",
      "Epoch 58/100\n",
      "    \n"
     ]
    },
    {
     "name": "stderr",
     "output_type": "stream",
     "text": [
      "2017-02-15 07:05:21,538 : INFO : Found lower val loss for epoch 58 => 0.01016\n"
     ]
    },
    {
     "name": "stdout",
     "output_type": "stream",
     "text": [
      "1286325/1286325 [==============================] - 14s - loss: 0.0109 - val_loss: 0.0102\n",
      "Epoch 59/100\n",
      "1286325/1286325 [==============================] - 14s - loss: 0.0109 - val_loss: 0.0102\n",
      "Epoch 60/100\n",
      "1286325/1286325 [==============================] - 13s - loss: 0.0109 - val_loss: 0.0102\n",
      "Epoch 61/100\n",
      "    \n"
     ]
    },
    {
     "name": "stderr",
     "output_type": "stream",
     "text": [
      "2017-02-15 07:06:03,865 : INFO : Found lower val loss for epoch 61 => 0.01016\n"
     ]
    },
    {
     "name": "stdout",
     "output_type": "stream",
     "text": [
      "1286325/1286325 [==============================] - 14s - loss: 0.0109 - val_loss: 0.0102\n",
      "Epoch 62/100\n",
      "    \n"
     ]
    },
    {
     "name": "stderr",
     "output_type": "stream",
     "text": [
      "2017-02-15 07:06:18,411 : INFO : Found lower val loss for epoch 62 => 0.01013\n"
     ]
    },
    {
     "name": "stdout",
     "output_type": "stream",
     "text": [
      "1286325/1286325 [==============================] - 14s - loss: 0.0109 - val_loss: 0.0101\n",
      "Epoch 63/100\n",
      "1286325/1286325 [==============================] - 14s - loss: 0.0109 - val_loss: 0.0102\n",
      "Epoch 64/100\n",
      "1286325/1286325 [==============================] - 14s - loss: 0.0109 - val_loss: 0.0102\n",
      "Epoch 65/100\n",
      "1286325/1286325 [==============================] - 14s - loss: 0.0109 - val_loss: 0.0102\n",
      "Epoch 66/100\n",
      "1286325/1286325 [==============================] - 14s - loss: 0.0109 - val_loss: 0.0102\n",
      "Epoch 67/100\n",
      "1286325/1286325 [==============================] - 14s - loss: 0.0109 - val_loss: 0.0101\n",
      "Epoch 68/100\n",
      "1286325/1286325 [==============================] - 14s - loss: 0.0109 - val_loss: 0.0102\n",
      "Epoch 69/100\n",
      "1286325/1286325 [==============================] - 14s - loss: 0.0109 - val_loss: 0.0102\n",
      "Epoch 70/100\n",
      "    \n"
     ]
    },
    {
     "name": "stderr",
     "output_type": "stream",
     "text": [
      "2017-02-15 07:08:11,792 : INFO : Found lower val loss for epoch 70 => 0.01012\n"
     ]
    },
    {
     "name": "stdout",
     "output_type": "stream",
     "text": [
      "1286325/1286325 [==============================] - 14s - loss: 0.0109 - val_loss: 0.0101\n",
      "Epoch 71/100\n",
      "1286325/1286325 [==============================] - 14s - loss: 0.0108 - val_loss: 0.0101\n",
      "Epoch 72/100\n",
      "    \n"
     ]
    },
    {
     "name": "stderr",
     "output_type": "stream",
     "text": [
      "2017-02-15 07:08:40,278 : INFO : Found lower val loss for epoch 72 => 0.0101\n"
     ]
    },
    {
     "name": "stdout",
     "output_type": "stream",
     "text": [
      "1286325/1286325 [==============================] - 14s - loss: 0.0108 - val_loss: 0.0101\n",
      "Epoch 73/100\n",
      "1286325/1286325 [==============================] - 14s - loss: 0.0108 - val_loss: 0.0101\n",
      "Epoch 74/100\n",
      "1286325/1286325 [==============================] - 14s - loss: 0.0108 - val_loss: 0.0101\n",
      "Epoch 75/100\n",
      "1286325/1286325 [==============================] - 14s - loss: 0.0108 - val_loss: 0.0101\n",
      "Epoch 76/100\n",
      "1286325/1286325 [==============================] - 14s - loss: 0.0108 - val_loss: 0.0102\n",
      "Epoch 77/100\n",
      "1286325/1286325 [==============================] - 13s - loss: 0.0108 - val_loss: 0.0101\n",
      "Epoch 78/100\n",
      "1286325/1286325 [==============================] - 14s - loss: 0.0108 - val_loss: 0.0101\n",
      "Epoch 79/100\n",
      "    \n"
     ]
    },
    {
     "name": "stderr",
     "output_type": "stream",
     "text": [
      "2017-02-15 07:10:20,624 : INFO : Found lower val loss for epoch 79 => 0.01009\n"
     ]
    },
    {
     "name": "stdout",
     "output_type": "stream",
     "text": [
      "1286325/1286325 [==============================] - 15s - loss: 0.0108 - val_loss: 0.0101\n",
      "Epoch 80/100\n",
      "    \n"
     ]
    },
    {
     "name": "stderr",
     "output_type": "stream",
     "text": [
      "2017-02-15 07:10:35,910 : INFO : Found lower val loss for epoch 80 => 0.01009\n"
     ]
    },
    {
     "name": "stdout",
     "output_type": "stream",
     "text": [
      "1286325/1286325 [==============================] - 15s - loss: 0.0108 - val_loss: 0.0101\n",
      "Epoch 81/100\n",
      "1286325/1286325 [==============================] - 14s - loss: 0.0108 - val_loss: 0.0102\n",
      "Epoch 82/100\n",
      "1286325/1286325 [==============================] - 14s - loss: 0.0108 - val_loss: 0.0101\n",
      "Epoch 83/100\n",
      "1286325/1286325 [==============================] - 14s - loss: 0.0108 - val_loss: 0.0101\n",
      "Epoch 84/100\n",
      "    \n"
     ]
    },
    {
     "name": "stderr",
     "output_type": "stream",
     "text": [
      "2017-02-15 07:11:33,748 : INFO : Found lower val loss for epoch 84 => 0.01005\n"
     ]
    },
    {
     "name": "stdout",
     "output_type": "stream",
     "text": [
      "1286325/1286325 [==============================] - 14s - loss: 0.0108 - val_loss: 0.0100\n",
      "Epoch 85/100\n",
      "1286325/1286325 [==============================] - 14s - loss: 0.0108 - val_loss: 0.0101\n",
      "Epoch 86/100\n",
      "1286325/1286325 [==============================] - 13s - loss: 0.0108 - val_loss: 0.0101\n",
      "Epoch 87/100\n",
      "1286325/1286325 [==============================] - 14s - loss: 0.0108 - val_loss: 0.0101\n",
      "Epoch 88/100\n",
      "1286325/1286325 [==============================] - 13s - loss: 0.0108 - val_loss: 0.0101\n",
      "Epoch 89/100\n",
      "1286325/1286325 [==============================] - 13s - loss: 0.0108 - val_loss: 0.0101\n",
      "Epoch 90/100\n",
      "1286325/1286325 [==============================] - 14s - loss: 0.0108 - val_loss: 0.0101\n",
      "Epoch 91/100\n",
      "1286325/1286325 [==============================] - 13s - loss: 0.0108 - val_loss: 0.0101\n",
      "Epoch 92/100\n",
      "1286325/1286325 [==============================] - 14s - loss: 0.0108 - val_loss: 0.0101\n",
      "Epoch 93/100\n",
      "    \n"
     ]
    },
    {
     "name": "stderr",
     "output_type": "stream",
     "text": [
      "2017-02-15 07:13:40,548 : INFO : Found lower val loss for epoch 93 => 0.01003\n"
     ]
    },
    {
     "name": "stdout",
     "output_type": "stream",
     "text": [
      "1286325/1286325 [==============================] - 14s - loss: 0.0108 - val_loss: 0.0100\n",
      "Epoch 94/100\n",
      "1286325/1286325 [==============================] - 14s - loss: 0.0108 - val_loss: 0.0100\n",
      "Epoch 95/100\n",
      "1286325/1286325 [==============================] - 14s - loss: 0.0108 - val_loss: 0.0101\n",
      "Epoch 96/100\n",
      "1286325/1286325 [==============================] - 14s - loss: 0.0108 - val_loss: 0.0100\n",
      "Epoch 97/100\n",
      "    \n"
     ]
    },
    {
     "name": "stderr",
     "output_type": "stream",
     "text": [
      "2017-02-15 07:14:38,166 : INFO : Found lower val loss for epoch 97 => 0.01002\n"
     ]
    },
    {
     "name": "stdout",
     "output_type": "stream",
     "text": [
      "1286325/1286325 [==============================] - 14s - loss: 0.0108 - val_loss: 0.0100\n",
      "Epoch 98/100\n",
      "1286325/1286325 [==============================] - 14s - loss: 0.0107 - val_loss: 0.0101\n",
      "Epoch 99/100\n",
      "1286325/1286325 [==============================] - 14s - loss: 0.0107 - val_loss: 0.0100\n",
      "Epoch 100/100\n",
      "1286325/1286325 [==============================] - 14s - loss: 0.0107 - val_loss: 0.0100"
     ]
    },
    {
     "name": "stderr",
     "output_type": "stream",
     "text": [
      "2017-02-15 07:15:20,264 : INFO : Evaluating on Validation Data using saved best weights\n"
     ]
    },
    {
     "name": "stdout",
     "output_type": "stream",
     "text": [
      "\n",
      "CPU times: user 8min 46s, sys: 22min 9s, total: 30min 56s\n",
      "Wall time: 23min 49s\n"
     ]
    },
    {
     "name": "stderr",
     "output_type": "stream",
     "text": [
      "2017-02-15 07:15:37,400 : INFO : Generating Validation Metrics\n",
      "2017-02-15 07:17:09,785 : INFO : ***************************************************************************************\n",
      "2017-02-15 07:17:09,786 : INFO : nn_1st-size_500_1st-act_tanh_2nd-size_None_2nd-act_relu_in-drop_False_hid-drop_True\n"
     ]
    },
    {
     "name": "stdout",
     "output_type": "stream",
     "text": [
      "****** Validation Metrics: Cov Err: 3.447 | Top 3: 0.820 | Top 5: 0.891 | F1 Micro: 0.587 | F1 Macro: 0.140\n",
      "____________________________________________________________________________________________________\n",
      "Layer (type)                     Output Shape          Param #     Connected to                     \n",
      "====================================================================================================\n",
      "doc_input (InputLayer)           (None, 100)           0                                            \n",
      "____________________________________________________________________________________________________\n",
      "hidden_layer_tanh (Dense)        (None, 500)           50500       doc_input[0][0]                  \n",
      "____________________________________________________________________________________________________\n",
      "dropout_20 (Dropout)             (None, 500)           0           hidden_layer_tanh[0][0]          \n",
      "____________________________________________________________________________________________________\n",
      "softmax_output (Dense)           (None, 244)           122244      dropout_20[0][0]                 \n",
      "====================================================================================================\n",
      "Total params: 172744\n",
      "____________________________________________________________________________________________________\n",
      "Train on 1286325 samples, validate on 321473 samples\n",
      "Epoch 1/100\n",
      "    \n"
     ]
    },
    {
     "name": "stderr",
     "output_type": "stream",
     "text": [
      "2017-02-15 07:17:26,478 : INFO : Found lower val loss for epoch 1 => 0.0109\n"
     ]
    },
    {
     "name": "stdout",
     "output_type": "stream",
     "text": [
      "1286325/1286325 [==============================] - 15s - loss: 0.0226 - val_loss: 0.0109\n",
      "Epoch 2/100\n",
      "    \n"
     ]
    },
    {
     "name": "stderr",
     "output_type": "stream",
     "text": [
      "2017-02-15 07:17:41,876 : INFO : Found lower val loss for epoch 2 => 0.01082\n"
     ]
    },
    {
     "name": "stdout",
     "output_type": "stream",
     "text": [
      "1286325/1286325 [==============================] - 15s - loss: 0.0115 - val_loss: 0.0108\n",
      "Epoch 3/100\n",
      "    \n"
     ]
    },
    {
     "name": "stderr",
     "output_type": "stream",
     "text": [
      "2017-02-15 07:17:57,200 : INFO : Found lower val loss for epoch 3 => 0.0108\n"
     ]
    },
    {
     "name": "stdout",
     "output_type": "stream",
     "text": [
      "1286325/1286325 [==============================] - 15s - loss: 0.0115 - val_loss: 0.0108\n",
      "Epoch 4/100\n",
      "1286325/1286325 [==============================] - 15s - loss: 0.0114 - val_loss: 0.0108\n",
      "Epoch 5/100\n",
      "1286325/1286325 [==============================] - 15s - loss: 0.0114 - val_loss: 0.0108\n",
      "Epoch 6/100\n",
      "1286325/1286325 [==============================] - 15s - loss: 0.0114 - val_loss: 0.0109\n",
      "Epoch 7/100\n",
      "    \n"
     ]
    },
    {
     "name": "stderr",
     "output_type": "stream",
     "text": [
      "2017-02-15 07:18:58,255 : INFO : Found lower val loss for epoch 7 => 0.01073\n"
     ]
    },
    {
     "name": "stdout",
     "output_type": "stream",
     "text": [
      "1286325/1286325 [==============================] - 15s - loss: 0.0114 - val_loss: 0.0107\n",
      "Epoch 8/100\n",
      "1286325/1286325 [==============================] - 15s - loss: 0.0114 - val_loss: 0.0107\n",
      "Epoch 9/100\n",
      "    \n"
     ]
    },
    {
     "name": "stderr",
     "output_type": "stream",
     "text": [
      "2017-02-15 07:19:28,750 : INFO : Found lower val loss for epoch 9 => 0.01066\n"
     ]
    },
    {
     "name": "stdout",
     "output_type": "stream",
     "text": [
      "1286325/1286325 [==============================] - 15s - loss: 0.0113 - val_loss: 0.0107\n",
      "Epoch 10/100\n",
      "1286325/1286325 [==============================] - 15s - loss: 0.0113 - val_loss: 0.0107\n",
      "Epoch 11/100\n",
      "    \n"
     ]
    },
    {
     "name": "stderr",
     "output_type": "stream",
     "text": [
      "2017-02-15 07:20:00,096 : INFO : Found lower val loss for epoch 11 => 0.01061\n"
     ]
    },
    {
     "name": "stdout",
     "output_type": "stream",
     "text": [
      "1286325/1286325 [==============================] - 15s - loss: 0.0113 - val_loss: 0.0106\n",
      "Epoch 12/100\n",
      "1286325/1286325 [==============================] - 15s - loss: 0.0113 - val_loss: 0.0106\n",
      "Epoch 13/100\n",
      "    \n"
     ]
    },
    {
     "name": "stderr",
     "output_type": "stream",
     "text": [
      "2017-02-15 07:20:31,213 : INFO : Found lower val loss for epoch 13 => 0.01057\n"
     ]
    },
    {
     "name": "stdout",
     "output_type": "stream",
     "text": [
      "1286325/1286325 [==============================] - 15s - loss: 0.0112 - val_loss: 0.0106\n",
      "Epoch 14/100\n",
      "1286325/1286325 [==============================] - 15s - loss: 0.0112 - val_loss: 0.0106\n",
      "Epoch 15/100\n",
      "    \n"
     ]
    },
    {
     "name": "stderr",
     "output_type": "stream",
     "text": [
      "2017-02-15 07:21:01,932 : INFO : Found lower val loss for epoch 15 => 0.01054\n"
     ]
    },
    {
     "name": "stdout",
     "output_type": "stream",
     "text": [
      "1286325/1286325 [==============================] - 15s - loss: 0.0112 - val_loss: 0.0105\n",
      "Epoch 16/100\n",
      "1286325/1286325 [==============================] - 15s - loss: 0.0112 - val_loss: 0.0106\n",
      "Epoch 17/100\n",
      "    \n"
     ]
    },
    {
     "name": "stderr",
     "output_type": "stream",
     "text": [
      "2017-02-15 07:21:32,645 : INFO : Found lower val loss for epoch 17 => 0.01053\n"
     ]
    },
    {
     "name": "stdout",
     "output_type": "stream",
     "text": [
      "1286325/1286325 [==============================] - 15s - loss: 0.0112 - val_loss: 0.0105\n",
      "Epoch 18/100\n",
      "    \n"
     ]
    },
    {
     "name": "stderr",
     "output_type": "stream",
     "text": [
      "2017-02-15 07:21:48,215 : INFO : Found lower val loss for epoch 18 => 0.01049\n"
     ]
    },
    {
     "name": "stdout",
     "output_type": "stream",
     "text": [
      "1286325/1286325 [==============================] - 15s - loss: 0.0112 - val_loss: 0.0105\n",
      "Epoch 19/100\n",
      "    \n"
     ]
    },
    {
     "name": "stderr",
     "output_type": "stream",
     "text": [
      "2017-02-15 07:22:03,738 : INFO : Found lower val loss for epoch 19 => 0.01048\n"
     ]
    },
    {
     "name": "stdout",
     "output_type": "stream",
     "text": [
      "1286325/1286325 [==============================] - 15s - loss: 0.0112 - val_loss: 0.0105\n",
      "Epoch 20/100\n",
      "    \n"
     ]
    },
    {
     "name": "stderr",
     "output_type": "stream",
     "text": [
      "2017-02-15 07:22:19,377 : INFO : Found lower val loss for epoch 20 => 0.01044\n"
     ]
    },
    {
     "name": "stdout",
     "output_type": "stream",
     "text": [
      "1286325/1286325 [==============================] - 15s - loss: 0.0112 - val_loss: 0.0104\n",
      "Epoch 21/100\n",
      "1286325/1286325 [==============================] - 15s - loss: 0.0111 - val_loss: 0.0105\n",
      "Epoch 22/100\n",
      "1286325/1286325 [==============================] - 15s - loss: 0.0111 - val_loss: 0.0105\n",
      "Epoch 23/100\n",
      "    \n"
     ]
    },
    {
     "name": "stderr",
     "output_type": "stream",
     "text": [
      "2017-02-15 07:23:05,771 : INFO : Found lower val loss for epoch 23 => 0.01042\n"
     ]
    },
    {
     "name": "stdout",
     "output_type": "stream",
     "text": [
      "1286325/1286325 [==============================] - 15s - loss: 0.0111 - val_loss: 0.0104\n",
      "Epoch 24/100\n",
      "1286325/1286325 [==============================] - 15s - loss: 0.0111 - val_loss: 0.0105\n",
      "Epoch 25/100\n",
      "1286325/1286325 [==============================] - 15s - loss: 0.0111 - val_loss: 0.0104\n",
      "Epoch 26/100\n",
      "    \n"
     ]
    },
    {
     "name": "stderr",
     "output_type": "stream",
     "text": [
      "2017-02-15 07:23:51,994 : INFO : Found lower val loss for epoch 26 => 0.01038\n"
     ]
    },
    {
     "name": "stdout",
     "output_type": "stream",
     "text": [
      "1286325/1286325 [==============================] - 15s - loss: 0.0111 - val_loss: 0.0104\n",
      "Epoch 27/100\n",
      "    \n"
     ]
    },
    {
     "name": "stderr",
     "output_type": "stream",
     "text": [
      "2017-02-15 07:24:08,002 : INFO : Found lower val loss for epoch 27 => 0.01037\n"
     ]
    },
    {
     "name": "stdout",
     "output_type": "stream",
     "text": [
      "1286325/1286325 [==============================] - 16s - loss: 0.0111 - val_loss: 0.0104\n",
      "Epoch 28/100\n",
      "1286325/1286325 [==============================] - 15s - loss: 0.0111 - val_loss: 0.0104\n",
      "Epoch 29/100\n",
      "1286325/1286325 [==============================] - 15s - loss: 0.0111 - val_loss: 0.0104\n",
      "Epoch 30/100\n",
      "1286325/1286325 [==============================] - 15s - loss: 0.0111 - val_loss: 0.0104\n",
      "Epoch 31/100\n",
      "    \n"
     ]
    },
    {
     "name": "stderr",
     "output_type": "stream",
     "text": [
      "2017-02-15 07:25:10,308 : INFO : Found lower val loss for epoch 31 => 0.01036\n"
     ]
    },
    {
     "name": "stdout",
     "output_type": "stream",
     "text": [
      "1286325/1286325 [==============================] - 15s - loss: 0.0110 - val_loss: 0.0104\n",
      "Epoch 32/100\n",
      "    \n"
     ]
    },
    {
     "name": "stderr",
     "output_type": "stream",
     "text": [
      "2017-02-15 07:25:25,678 : INFO : Found lower val loss for epoch 32 => 0.01031\n"
     ]
    },
    {
     "name": "stdout",
     "output_type": "stream",
     "text": [
      "1286325/1286325 [==============================] - 15s - loss: 0.0110 - val_loss: 0.0103\n",
      "Epoch 33/100\n",
      "1286325/1286325 [==============================] - 15s - loss: 0.0110 - val_loss: 0.0105\n",
      "Epoch 34/100\n",
      "    \n"
     ]
    },
    {
     "name": "stderr",
     "output_type": "stream",
     "text": [
      "2017-02-15 07:25:56,365 : INFO : Found lower val loss for epoch 34 => 0.01029\n"
     ]
    },
    {
     "name": "stdout",
     "output_type": "stream",
     "text": [
      "1286325/1286325 [==============================] - 15s - loss: 0.0110 - val_loss: 0.0103\n",
      "Epoch 35/100\n",
      "1286325/1286325 [==============================] - 15s - loss: 0.0110 - val_loss: 0.0103\n",
      "Epoch 36/100\n",
      "    \n"
     ]
    },
    {
     "name": "stderr",
     "output_type": "stream",
     "text": [
      "2017-02-15 07:26:27,538 : INFO : Found lower val loss for epoch 36 => 0.01027\n"
     ]
    },
    {
     "name": "stdout",
     "output_type": "stream",
     "text": [
      "1286325/1286325 [==============================] - 15s - loss: 0.0110 - val_loss: 0.0103\n",
      "Epoch 37/100\n",
      "1286325/1286325 [==============================] - 15s - loss: 0.0110 - val_loss: 0.0103\n",
      "Epoch 38/100\n",
      "1286325/1286325 [==============================] - 15s - loss: 0.0110 - val_loss: 0.0103\n",
      "Epoch 39/100\n",
      "1286325/1286325 [==============================] - 15s - loss: 0.0110 - val_loss: 0.0103\n",
      "Epoch 40/100\n",
      "1286325/1286325 [==============================] - 15s - loss: 0.0110 - val_loss: 0.0103\n",
      "Epoch 41/100\n",
      "1286325/1286325 [==============================] - 15s - loss: 0.0110 - val_loss: 0.0103\n",
      "Epoch 42/100\n",
      "1286325/1286325 [==============================] - 15s - loss: 0.0110 - val_loss: 0.0103\n",
      "Epoch 43/100\n",
      "    \n"
     ]
    },
    {
     "name": "stderr",
     "output_type": "stream",
     "text": [
      "2017-02-15 07:28:15,012 : INFO : Found lower val loss for epoch 43 => 0.01025\n"
     ]
    },
    {
     "name": "stdout",
     "output_type": "stream",
     "text": [
      "1286325/1286325 [==============================] - 15s - loss: 0.0110 - val_loss: 0.0102\n",
      "Epoch 44/100\n",
      "    \n"
     ]
    },
    {
     "name": "stderr",
     "output_type": "stream",
     "text": [
      "2017-02-15 07:28:30,708 : INFO : Found lower val loss for epoch 44 => 0.01025\n"
     ]
    },
    {
     "name": "stdout",
     "output_type": "stream",
     "text": [
      "1286325/1286325 [==============================] - 15s - loss: 0.0110 - val_loss: 0.0102\n",
      "Epoch 45/100\n",
      "    \n"
     ]
    },
    {
     "name": "stderr",
     "output_type": "stream",
     "text": [
      "2017-02-15 07:28:46,091 : INFO : Found lower val loss for epoch 45 => 0.01024\n"
     ]
    },
    {
     "name": "stdout",
     "output_type": "stream",
     "text": [
      "1286325/1286325 [==============================] - 15s - loss: 0.0110 - val_loss: 0.0102\n",
      "Epoch 46/100\n",
      "1286325/1286325 [==============================] - 15s - loss: 0.0110 - val_loss: 0.0103\n",
      "Epoch 47/100\n",
      "1286325/1286325 [==============================] - 15s - loss: 0.0109 - val_loss: 0.0102\n",
      "Epoch 48/100\n",
      "    \n"
     ]
    },
    {
     "name": "stderr",
     "output_type": "stream",
     "text": [
      "2017-02-15 07:29:32,275 : INFO : Found lower val loss for epoch 48 => 0.01023\n"
     ]
    },
    {
     "name": "stdout",
     "output_type": "stream",
     "text": [
      "1286325/1286325 [==============================] - 15s - loss: 0.0109 - val_loss: 0.0102\n",
      "Epoch 49/100\n",
      "    \n"
     ]
    },
    {
     "name": "stderr",
     "output_type": "stream",
     "text": [
      "2017-02-15 07:29:47,869 : INFO : Found lower val loss for epoch 49 => 0.01022\n"
     ]
    },
    {
     "name": "stdout",
     "output_type": "stream",
     "text": [
      "1286325/1286325 [==============================] - 15s - loss: 0.0109 - val_loss: 0.0102\n",
      "Epoch 50/100\n",
      "1286325/1286325 [==============================] - 15s - loss: 0.0109 - val_loss: 0.0103\n",
      "Epoch 51/100\n",
      "1286325/1286325 [==============================] - 16s - loss: 0.0109 - val_loss: 0.0102\n",
      "Epoch 52/100\n",
      "    \n"
     ]
    },
    {
     "name": "stderr",
     "output_type": "stream",
     "text": [
      "2017-02-15 07:30:35,282 : INFO : Found lower val loss for epoch 52 => 0.01021\n"
     ]
    },
    {
     "name": "stdout",
     "output_type": "stream",
     "text": [
      "1286325/1286325 [==============================] - 15s - loss: 0.0109 - val_loss: 0.0102\n",
      "Epoch 53/100\n",
      "    \n"
     ]
    },
    {
     "name": "stderr",
     "output_type": "stream",
     "text": [
      "2017-02-15 07:30:50,775 : INFO : Found lower val loss for epoch 53 => 0.01018\n"
     ]
    },
    {
     "name": "stdout",
     "output_type": "stream",
     "text": [
      "1286325/1286325 [==============================] - 15s - loss: 0.0109 - val_loss: 0.0102\n",
      "Epoch 54/100\n",
      "1286325/1286325 [==============================] - 15s - loss: 0.0109 - val_loss: 0.0102\n",
      "Epoch 55/100\n",
      "    \n"
     ]
    },
    {
     "name": "stderr",
     "output_type": "stream",
     "text": [
      "2017-02-15 07:31:21,631 : INFO : Found lower val loss for epoch 55 => 0.01018\n"
     ]
    },
    {
     "name": "stdout",
     "output_type": "stream",
     "text": [
      "1286325/1286325 [==============================] - 15s - loss: 0.0109 - val_loss: 0.0102\n",
      "Epoch 56/100\n",
      "1286325/1286325 [==============================] - 15s - loss: 0.0109 - val_loss: 0.0103\n",
      "Epoch 57/100\n",
      "    \n"
     ]
    },
    {
     "name": "stderr",
     "output_type": "stream",
     "text": [
      "2017-02-15 07:31:52,069 : INFO : Found lower val loss for epoch 57 => 0.01015\n"
     ]
    },
    {
     "name": "stdout",
     "output_type": "stream",
     "text": [
      "1286325/1286325 [==============================] - 15s - loss: 0.0109 - val_loss: 0.0101\n",
      "Epoch 58/100\n",
      "1286325/1286325 [==============================] - 15s - loss: 0.0109 - val_loss: 0.0102\n",
      "Epoch 59/100\n",
      "1286325/1286325 [==============================] - 15s - loss: 0.0109 - val_loss: 0.0102\n",
      "Epoch 60/100\n",
      "    \n"
     ]
    },
    {
     "name": "stderr",
     "output_type": "stream",
     "text": [
      "2017-02-15 07:32:38,275 : INFO : Found lower val loss for epoch 60 => 0.01014\n"
     ]
    },
    {
     "name": "stdout",
     "output_type": "stream",
     "text": [
      "1286325/1286325 [==============================] - 15s - loss: 0.0109 - val_loss: 0.0101\n",
      "Epoch 61/100\n",
      "1286325/1286325 [==============================] - 15s - loss: 0.0109 - val_loss: 0.0102\n",
      "Epoch 62/100\n",
      "1286325/1286325 [==============================] - 15s - loss: 0.0109 - val_loss: 0.0102\n",
      "Epoch 63/100\n",
      "1286325/1286325 [==============================] - 15s - loss: 0.0109 - val_loss: 0.0102\n",
      "Epoch 64/100\n",
      "1286325/1286325 [==============================] - 15s - loss: 0.0109 - val_loss: 0.0102\n",
      "Epoch 65/100\n",
      "    \n"
     ]
    },
    {
     "name": "stderr",
     "output_type": "stream",
     "text": [
      "2017-02-15 07:33:54,673 : INFO : Found lower val loss for epoch 65 => 0.01013\n"
     ]
    },
    {
     "name": "stdout",
     "output_type": "stream",
     "text": [
      "1286325/1286325 [==============================] - 15s - loss: 0.0109 - val_loss: 0.0101\n",
      "Epoch 66/100\n",
      "1286325/1286325 [==============================] - 15s - loss: 0.0109 - val_loss: 0.0101\n",
      "Epoch 67/100\n",
      "1286325/1286325 [==============================] - 15s - loss: 0.0109 - val_loss: 0.0101\n",
      "Epoch 68/100\n",
      "1286325/1286325 [==============================] - 15s - loss: 0.0109 - val_loss: 0.0102\n",
      "Epoch 69/100\n",
      "    \n"
     ]
    },
    {
     "name": "stderr",
     "output_type": "stream",
     "text": [
      "2017-02-15 07:34:55,466 : INFO : Found lower val loss for epoch 69 => 0.01013\n"
     ]
    },
    {
     "name": "stdout",
     "output_type": "stream",
     "text": [
      "1286325/1286325 [==============================] - 15s - loss: 0.0108 - val_loss: 0.0101\n",
      "Epoch 70/100\n",
      "    \n"
     ]
    },
    {
     "name": "stderr",
     "output_type": "stream",
     "text": [
      "2017-02-15 07:35:11,213 : INFO : Found lower val loss for epoch 70 => 0.01012\n"
     ]
    },
    {
     "name": "stdout",
     "output_type": "stream",
     "text": [
      "1286325/1286325 [==============================] - 15s - loss: 0.0108 - val_loss: 0.0101\n",
      "Epoch 71/100\n",
      "    \n"
     ]
    },
    {
     "name": "stderr",
     "output_type": "stream",
     "text": [
      "2017-02-15 07:35:26,583 : INFO : Found lower val loss for epoch 71 => 0.0101\n"
     ]
    },
    {
     "name": "stdout",
     "output_type": "stream",
     "text": [
      "1286325/1286325 [==============================] - 15s - loss: 0.0108 - val_loss: 0.0101\n",
      "Epoch 72/100\n",
      "1286325/1286325 [==============================] - 15s - loss: 0.0108 - val_loss: 0.0102\n",
      "Epoch 73/100\n",
      "1286325/1286325 [==============================] - 15s - loss: 0.0108 - val_loss: 0.0101\n",
      "Epoch 74/100\n",
      "1286325/1286325 [==============================] - 15s - loss: 0.0108 - val_loss: 0.0101\n",
      "Epoch 75/100\n",
      "1286325/1286325 [==============================] - 15s - loss: 0.0108 - val_loss: 0.0101\n",
      "Epoch 76/100\n",
      "    \n"
     ]
    },
    {
     "name": "stderr",
     "output_type": "stream",
     "text": [
      "2017-02-15 07:36:43,348 : INFO : Found lower val loss for epoch 76 => 0.0101\n"
     ]
    },
    {
     "name": "stdout",
     "output_type": "stream",
     "text": [
      "1286325/1286325 [==============================] - 15s - loss: 0.0108 - val_loss: 0.0101\n",
      "Epoch 77/100\n",
      "    \n"
     ]
    },
    {
     "name": "stderr",
     "output_type": "stream",
     "text": [
      "2017-02-15 07:36:59,073 : INFO : Found lower val loss for epoch 77 => 0.01009\n"
     ]
    },
    {
     "name": "stdout",
     "output_type": "stream",
     "text": [
      "1286325/1286325 [==============================] - 15s - loss: 0.0108 - val_loss: 0.0101\n",
      "Epoch 78/100\n",
      "    \n"
     ]
    },
    {
     "name": "stderr",
     "output_type": "stream",
     "text": [
      "2017-02-15 07:37:14,705 : INFO : Found lower val loss for epoch 78 => 0.01007\n"
     ]
    },
    {
     "name": "stdout",
     "output_type": "stream",
     "text": [
      "1286325/1286325 [==============================] - 15s - loss: 0.0108 - val_loss: 0.0101\n",
      "Epoch 79/100\n",
      "1286325/1286325 [==============================] - 15s - loss: 0.0108 - val_loss: 0.0101\n",
      "Epoch 80/100\n",
      "    \n"
     ]
    },
    {
     "name": "stderr",
     "output_type": "stream",
     "text": [
      "2017-02-15 07:37:46,001 : INFO : Found lower val loss for epoch 80 => 0.01007\n"
     ]
    },
    {
     "name": "stdout",
     "output_type": "stream",
     "text": [
      "1286325/1286325 [==============================] - 16s - loss: 0.0108 - val_loss: 0.0101\n",
      "Epoch 81/100\n",
      "1286325/1286325 [==============================] - 15s - loss: 0.0108 - val_loss: 0.0101\n",
      "Epoch 82/100\n",
      "    \n"
     ]
    },
    {
     "name": "stderr",
     "output_type": "stream",
     "text": [
      "2017-02-15 07:38:16,973 : INFO : Found lower val loss for epoch 82 => 0.01006\n"
     ]
    },
    {
     "name": "stdout",
     "output_type": "stream",
     "text": [
      "1286325/1286325 [==============================] - 15s - loss: 0.0108 - val_loss: 0.0101\n",
      "Epoch 83/100\n",
      "    \n"
     ]
    },
    {
     "name": "stderr",
     "output_type": "stream",
     "text": [
      "2017-02-15 07:38:32,653 : INFO : Found lower val loss for epoch 83 => 0.01005\n"
     ]
    },
    {
     "name": "stdout",
     "output_type": "stream",
     "text": [
      "1286325/1286325 [==============================] - 15s - loss: 0.0108 - val_loss: 0.0101\n",
      "Epoch 84/100\n",
      "1286325/1286325 [==============================] - 15s - loss: 0.0108 - val_loss: 0.0101\n",
      "Epoch 85/100\n",
      "1286325/1286325 [==============================] - 15s - loss: 0.0108 - val_loss: 0.0101\n",
      "Epoch 86/100\n",
      "1286325/1286325 [==============================] - 15s - loss: 0.0108 - val_loss: 0.0101\n",
      "Epoch 87/100\n",
      "1286325/1286325 [==============================] - 15s - loss: 0.0108 - val_loss: 0.0102\n",
      "Epoch 88/100\n",
      "    \n"
     ]
    },
    {
     "name": "stderr",
     "output_type": "stream",
     "text": [
      "2017-02-15 07:39:48,724 : INFO : Found lower val loss for epoch 88 => 0.01005\n"
     ]
    },
    {
     "name": "stdout",
     "output_type": "stream",
     "text": [
      "1286325/1286325 [==============================] - 15s - loss: 0.0108 - val_loss: 0.0101\n",
      "Epoch 89/100\n",
      "    \n"
     ]
    },
    {
     "name": "stderr",
     "output_type": "stream",
     "text": [
      "2017-02-15 07:40:04,042 : INFO : Found lower val loss for epoch 89 => 0.01004\n"
     ]
    },
    {
     "name": "stdout",
     "output_type": "stream",
     "text": [
      "1286325/1286325 [==============================] - 15s - loss: 0.0108 - val_loss: 0.0100\n",
      "Epoch 90/100\n",
      "1286325/1286325 [==============================] - 15s - loss: 0.0108 - val_loss: 0.0101\n",
      "Epoch 91/100\n",
      "1286325/1286325 [==============================] - 15s - loss: 0.0108 - val_loss: 0.0101\n",
      "Epoch 92/100\n",
      "1286325/1286325 [==============================] - 15s - loss: 0.0108 - val_loss: 0.0101\n",
      "Epoch 93/100\n",
      "1286325/1286325 [==============================] - 15s - loss: 0.0108 - val_loss: 0.0101\n",
      "Epoch 94/100\n",
      "1286325/1286325 [==============================] - 15s - loss: 0.0108 - val_loss: 0.0101\n",
      "Epoch 95/100\n",
      "1286325/1286325 [==============================] - 15s - loss: 0.0108 - val_loss: 0.0101\n",
      "Epoch 96/100\n",
      "1286325/1286325 [==============================] - 15s - loss: 0.0108 - val_loss: 0.0101\n",
      "Epoch 97/100\n",
      "1286325/1286325 [==============================] - 15s - loss: 0.0107 - val_loss: 0.0100\n",
      "Epoch 98/100\n",
      "1286325/1286325 [==============================] - 15s - loss: 0.0107 - val_loss: 0.0101\n",
      "Epoch 99/100\n",
      "    \n"
     ]
    },
    {
     "name": "stderr",
     "output_type": "stream",
     "text": [
      "2017-02-15 07:42:36,944 : INFO : Found lower val loss for epoch 99 => 0.01002\n"
     ]
    },
    {
     "name": "stdout",
     "output_type": "stream",
     "text": [
      "1286325/1286325 [==============================] - 15s - loss: 0.0107 - val_loss: 0.0100\n",
      "Epoch 100/100\n",
      "1286325/1286325 [==============================] - 15s - loss: 0.0107 - val_loss: 0.0100"
     ]
    },
    {
     "name": "stderr",
     "output_type": "stream",
     "text": [
      "2017-02-15 07:42:52,702 : INFO : Evaluating on Validation Data using saved best weights\n"
     ]
    },
    {
     "name": "stdout",
     "output_type": "stream",
     "text": [
      "\n",
      "CPU times: user 9min 18s, sys: 24min, total: 33min 19s\n",
      "Wall time: 25min 42s\n"
     ]
    },
    {
     "name": "stderr",
     "output_type": "stream",
     "text": [
      "2017-02-15 07:43:08,974 : INFO : Generating Validation Metrics\n"
     ]
    },
    {
     "name": "stdout",
     "output_type": "stream",
     "text": [
      "****** Validation Metrics: Cov Err: 3.455 | Top 3: 0.820 | Top 5: 0.891 | F1 Micro: 0.585 | F1 Macro: 0.137\n"
     ]
    }
   ],
   "source": [
    "for parameters in param_sampler:\n",
    "    start_time = time.time()\n",
    "    first_hidden_layer_size = parameters['first_hidden_layer_size']\n",
    "    first_hidden_layer_activation = parameters['first_hidden_layer_activation']\n",
    "    second_hidden_layer_size = parameters['second_hidden_layer_size']\n",
    "    second_hidden_layer_activation = parameters['second_hidden_layer_activation']\n",
    "    input_dropout_do = parameters['input_dropout']\n",
    "    hidden_dropout_do = parameters['hidden_dropout']\n",
    "\n",
    "#     print \"===================================================================================\\n\" + \\\n",
    "#           \"========== 1st Layer Size: {}, 1st Layer Activation: {}, \\n 2nd Layer Size: {}, 2nd Layer Activation: {}, \\n\" + \\\n",
    "#           \"Input Dropout: {}, Hidden Dropout: {} \\n\" + \\\n",
    "#           \"==========================\".format(first_hidden_layer_size, first_hidden_layer_activation, \n",
    "#                                                 second_hidden_layer_size, second_hidden_layer_activation, \n",
    "#                                                 input_dropout_do, hidden_dropout_do)\n",
    "\n",
    "    GLOBAL_VARS.NN_MODEL_NAME = 'nn_1st-size_{}_1st-act_{}_2nd-size_{}_2nd-act_{}_in-drop_{}_hid-drop_{}'.format(\n",
    "        first_hidden_layer_size, first_hidden_layer_activation, second_hidden_layer_size, \n",
    "        second_hidden_layer_activation, input_dropout_do, hidden_dropout_do\n",
    "    )\n",
    "    if GLOBAL_VARS.NN_MODEL_NAME in param_results_dict.keys() or GLOBAL_VARS.NN_MODEL_NAME in to_skip:\n",
    "        print \"skipping: {}\".format(GLOBAL_VARS.NN_MODEL_NAME)\n",
    "        continue\n",
    "#     if input_dropout_do:\n",
    "#         print \"skipping: {} due to input dropout\".format(GLOBAL_VARS.NN_MODEL_NAME)\n",
    "#         continue\n",
    "    \n",
    "    info('***************************************************************************************')\n",
    "    info(GLOBAL_VARS.NN_MODEL_NAME)\n",
    "    \n",
    "    model = create_keras_nn_model(DOC2VEC_SIZE, NN_OUTPUT_NEURONS, \n",
    "                                  first_hidden_layer_size, first_hidden_layer_activation, \n",
    "                                  second_hidden_layer_size, second_hidden_layer_activation, \n",
    "                                  input_dropout_do, hidden_dropout_do)\n",
    "    model.summary()\n",
    "    \n",
    "    early_stopper = keras.callbacks.EarlyStopping(monitor='val_loss', min_delta=EARLY_STOPPER_MIN_DELTA, \\\n",
    "                                                  patience=EARLY_STOPPER_PATIENCE, verbose=1, mode='auto')\n",
    "    metrics_callback = MetricsCallback()\n",
    "\n",
    "    # Model Fitting\n",
    "    %time history = model.fit(x=X, y=y, validation_data=(Xv,yv), batch_size=NN_BATCH_SIZE, \\\n",
    "                              nb_epoch=NN_MAX_EPOCHS, verbose=1, callbacks=[early_stopper, metrics_callback])\n",
    "    \n",
    "#     info('Evaluating on Training Data')\n",
    "#     yp = model.predict(X, batch_size=NN_BATCH_SIZE)\n",
    "#     yp_binary = get_binary_0_5(yp)\n",
    "#     #print yp\n",
    "#     info('Generating Training Metrics')\n",
    "#     training_metrics = get_metrics(y, yp, yp_binary)\n",
    "#     print \"** Training Metrics: Cov Err: {:.3f}, Avg Labels: {:.3f}, \\n\\t\\t Top 1: {:.3f}, Top 3: {:.3f}, Top 5: {:.3f}, \\n\\t\\t F1 Micro: {:.3f}, F1 Macro: {:.3f}, Total Pos: {:,d}\".format(\n",
    "#         training_metrics['coverage_error'], training_metrics['average_num_of_labels'], \n",
    "#         training_metrics['top_1'], training_metrics['top_3'], training_metrics['top_5'], \n",
    "#         training_metrics['f1_micro'],training_metrics['f1_macro'],  training_metrics['total_positive'])\n",
    "\n",
    "#     info('Evaluating on Validation Data using last weights')\n",
    "#     yvp = model.predict(Xv)\n",
    "#     yvp_binary = get_binary_0_5(yvp)\n",
    "#     #print yvp\n",
    "#     info('Generating Validation Metrics')\n",
    "#     validation_metrics = get_metrics(yv, yvp, yvp_binary)\n",
    "#     print \"****** Validation Metrics: Cov Err: {:.3f} | Top 3: {:.3f} | Top 5: {:.3f} | F1 Micro: {:.3f} | F1 Macro: {:.3f}\".format(\n",
    "#         validation_metrics['coverage_error'], validation_metrics['top_3'], validation_metrics['top_5'], \n",
    "#         validation_metrics['f1_micro'], validation_metrics['f1_macro'])\n",
    "#     last_validation_metrics = validation_metrics\n",
    "\n",
    "    # using the recorded weights of the best recorded validation loss\n",
    "    last_model_weights = model.get_weights()\n",
    "    info('Evaluating on Validation Data using saved best weights')\n",
    "    model.set_weights(metrics_callback.best_weights)\n",
    "    yvp = model.predict(Xv)\n",
    "    yvp_binary = get_binary_0_5(yvp)\n",
    "    #print yvp\n",
    "    info('Generating Validation Metrics')\n",
    "    validation_metrics = get_metrics(yv, yvp, yvp_binary)\n",
    "    print \"****** Validation Metrics: Cov Err: {:.3f} | Top 3: {:.3f} | Top 5: {:.3f} | F1 Micro: {:.3f} | F1 Macro: {:.3f}\".format(\n",
    "        validation_metrics['coverage_error'], validation_metrics['top_3'], validation_metrics['top_5'], \n",
    "        validation_metrics['f1_micro'], validation_metrics['f1_macro'])\n",
    "    best_validation_metrics = validation_metrics\n",
    "\n",
    "    param_results_dict[GLOBAL_VARS.NN_MODEL_NAME] = dict()\n",
    "#     param_results_dict[GLOBAL_VARS.NN_MODEL_NAME]['training_metrics'] = training_metrics\n",
    "#     param_results_dict[GLOBAL_VARS.NN_MODEL_NAME]['last_validation_metrics'] = last_validation_metrics\n",
    "    param_results_dict[GLOBAL_VARS.NN_MODEL_NAME]['best_validation_metrics'] = best_validation_metrics\n",
    "#     param_results_dict[GLOBAL_VARS.NN_MODEL_NAME]['history'] = history\n",
    "    param_results_dict[GLOBAL_VARS.NN_MODEL_NAME]['epochs'] = len(history.history['val_loss'])\n",
    "    param_results_dict[GLOBAL_VARS.NN_MODEL_NAME]['best_weights'] = metrics_callback.best_weights\n",
    "    param_results_dict[GLOBAL_VARS.NN_MODEL_NAME]['last_weights'] = last_model_weights\n",
    "    \n",
    "    duration = time.time() - start_time\n",
    "    param_results_dict[GLOBAL_VARS.NN_MODEL_NAME]['duration'] =  duration\n",
    "    \n",
    "    # setting the model weights to the best weights\n",
    "    model.set_weights(metrics_callback.best_weights)\n",
    "    \n",
    "#     ensure_disk_location_exists(os.path.join(doc2vec_model_save_location, GLOBAL_VARS.MODEL_NAME, \n",
    "#                                              GLOBAL_VARS.NN_MODEL_NAME))\n",
    "    \n",
    "#     pickle.dump(model, open(os.path.join(doc2vec_model_save_location, GLOBAL_VARS.MODEL_NAME, \n",
    "#                                             GLOBAL_VARS.NN_MODEL_NAME, CLASSIFIER), 'w'))\n",
    "    \n",
    "#     pickle.dump(best_validation_metrics, open(os.path.join(doc2vec_model_save_location, GLOBAL_VARS.MODEL_NAME, \n",
    "#                                                           GLOBAL_VARS.NN_MODEL_NAME, VALIDATION_METRICS_FILENAME), 'w'))\n",
    "\n",
    "    del history, last_model_weights, metrics_callback, model\n",
    "    \n",
    "pickle.dump(param_results_dict, open(os.path.join(os.path.join(nn_parameter_search_location, GLOBAL_VARS.MODEL_NAME, \n",
    "                                           NN_PARAMETER_SEARCH_PREFIX.format(classifications_type, NN_BATCH_SIZE))), 'w'))"
   ]
  },
  {
   "cell_type": "code",
   "execution_count": 44,
   "metadata": {
    "collapsed": false
   },
   "outputs": [
    {
     "name": "stdout",
     "output_type": "stream",
     "text": [
      "20\n"
     ]
    }
   ],
   "source": [
    "print len(param_results_dict)"
   ]
  },
  {
   "cell_type": "code",
   "execution_count": 103,
   "metadata": {
    "collapsed": false
   },
   "outputs": [
    {
     "name": "stdout",
     "output_type": "stream",
     "text": [
      "CPU times: user 1.34 s, sys: 44 ms, total: 1.39 s\n",
      "Wall time: 1.4 s\n"
     ]
    }
   ],
   "source": [
    "%%time\n",
    "pickle.dump(param_results_dict, open(os.path.join(os.path.join(nn_parameter_search_location, GLOBAL_VARS.MODEL_NAME, \n",
    "                                           NN_PARAMETER_SEARCH_PREFIX.format(classifications_type, NN_BATCH_SIZE))), 'w'))"
   ]
  },
  {
   "cell_type": "code",
   "execution_count": 43,
   "metadata": {
    "collapsed": false
   },
   "outputs": [
    {
     "name": "stdout",
     "output_type": "stream",
     "text": [
      "========== NN: nn_1st-size_500_1st-act_sigmoid_2nd-size_None_2nd-act_sigmoid_in-drop_False_hid-drop_True\n",
      "Epochs => 26\n",
      "Best Val: Coverage Error => 3.1476 | F1 Micro => 0.5901 | F1 Macro => 0.1052 | Top 3 => 0.8330\n",
      "========== NN: nn_1st-size_500_1st-act_sigmoid_2nd-size_2000_2nd-act_relu_in-drop_False_hid-drop_True\n",
      "Epochs => 44\n",
      "Best Val: Coverage Error => 2.9189 | F1 Micro => 0.6550 | F1 Macro => 0.1744 | Top 3 => 0.8492\n",
      "========== NN: nn_1st-size_500_1st-act_sigmoid_2nd-size_1000_2nd-act_relu_in-drop_False_hid-drop_True\n",
      "Epochs => 45\n",
      "Best Val: Coverage Error => 2.9413 | F1 Micro => 0.6516 | F1 Macro => 0.1737 | Top 3 => 0.8484\n",
      "========== NN: nn_1st-size_500_1st-act_relu_2nd-size_2000_2nd-act_relu_in-drop_False_hid-drop_True\n",
      "Epochs => 41\n",
      "Best Val: Coverage Error => 2.9182 | F1 Micro => 0.6500 | F1 Macro => 0.1717 | Top 3 => 0.8481\n",
      "========== NN: nn_1st-size_100_1st-act_sigmoid_2nd-size_1000_2nd-act_sigmoid_in-drop_False_hid-drop_True\n",
      "Epochs => 25\n",
      "Best Val: Coverage Error => 3.5353 | F1 Micro => 0.5666 | F1 Macro => 0.0768 | Top 3 => 0.8014\n",
      "========== NN: nn_1st-size_500_1st-act_tanh_2nd-size_1000_2nd-act_sigmoid_in-drop_False_hid-drop_True\n",
      "Epochs => 39\n",
      "Best Val: Coverage Error => 2.8958 | F1 Micro => 0.6604 | F1 Macro => 0.1869 | Top 3 => 0.8547\n",
      "========== NN: nn_1st-size_200_1st-act_sigmoid_2nd-size_500_2nd-act_tanh_in-drop_False_hid-drop_True\n",
      "Epochs => 46\n",
      "Best Val: Coverage Error => 3.1170 | F1 Micro => 0.6351 | F1 Macro => 0.1335 | Top 3 => 0.8329\n",
      "========== NN: nn_1st-size_500_1st-act_tanh_2nd-size_None_2nd-act_tanh_in-drop_False_hid-drop_True\n",
      "Epochs => 100\n",
      "Best Val: Coverage Error => 3.4469 | F1 Micro => 0.5866 | F1 Macro => 0.1396 | Top 3 => 0.8203\n",
      "========== NN: nn_1st-size_500_1st-act_tanh_2nd-size_None_2nd-act_relu_in-drop_False_hid-drop_True\n",
      "Epochs => 100\n",
      "Best Val: Coverage Error => 3.4553 | F1 Micro => 0.5853 | F1 Macro => 0.1370 | Top 3 => 0.8195\n",
      "========== NN: nn_1st-size_100_1st-act_tanh_2nd-size_500_2nd-act_tanh_in-drop_False_hid-drop_True\n",
      "Epochs => 57\n",
      "Best Val: Coverage Error => 3.1239 | F1 Micro => 0.6270 | F1 Macro => 0.1342 | Top 3 => 0.8312\n",
      "========== NN: nn_1st-size_200_1st-act_sigmoid_2nd-size_2000_2nd-act_tanh_in-drop_False_hid-drop_True\n",
      "Epochs => 62\n",
      "Best Val: Coverage Error => 3.1238 | F1 Micro => 0.6292 | F1 Macro => 0.1283 | Top 3 => 0.8316\n",
      "========== NN: nn_1st-size_200_1st-act_sigmoid_2nd-size_1000_2nd-act_sigmoid_in-drop_False_hid-drop_True\n",
      "Epochs => 25\n",
      "Best Val: Coverage Error => 3.1244 | F1 Micro => 0.5942 | F1 Macro => 0.1161 | Top 3 => 0.8308\n",
      "========== NN: nn_1st-size_500_1st-act_relu_2nd-size_500_2nd-act_tanh_in-drop_False_hid-drop_True\n",
      "Epochs => 59\n",
      "Best Val: Coverage Error => 2.7937 | F1 Micro => 0.6639 | F1 Macro => 0.1817 | Top 3 => 0.8574\n",
      "========== NN: nn_1st-size_500_1st-act_relu_2nd-size_500_2nd-act_sigmoid_in-drop_False_hid-drop_True\n",
      "Epochs => 28\n",
      "Best Val: Coverage Error => 2.8626 | F1 Micro => 0.6573 | F1 Macro => 0.1986 | Top 3 => 0.8520\n",
      "========== NN: nn_1st-size_200_1st-act_sigmoid_2nd-size_None_2nd-act_sigmoid_in-drop_False_hid-drop_True\n",
      "Epochs => 34\n",
      "Best Val: Coverage Error => 3.4741 | F1 Micro => 0.5511 | F1 Macro => 0.0667 | Top 3 => 0.8127\n",
      "========== NN: nn_1st-size_200_1st-act_sigmoid_2nd-size_2000_2nd-act_sigmoid_in-drop_False_hid-drop_True\n",
      "Epochs => 27\n",
      "Best Val: Coverage Error => 3.0726 | F1 Micro => 0.5982 | F1 Macro => 0.1229 | Top 3 => 0.8346\n",
      "========== NN: nn_1st-size_200_1st-act_tanh_2nd-size_2000_2nd-act_relu_in-drop_False_hid-drop_True\n",
      "Epochs => 23\n",
      "Best Val: Coverage Error => 2.9561 | F1 Micro => 0.6482 | F1 Macro => 0.1660 | Top 3 => 0.8486\n",
      "========== NN: nn_1st-size_500_1st-act_sigmoid_2nd-size_None_2nd-act_tanh_in-drop_False_hid-drop_True\n",
      "Epochs => 26\n",
      "Best Val: Coverage Error => 3.1507 | F1 Micro => 0.5906 | F1 Macro => 0.1046 | Top 3 => 0.8329\n",
      "========== NN: nn_1st-size_100_1st-act_tanh_2nd-size_1000_2nd-act_tanh_in-drop_False_hid-drop_True\n",
      "Epochs => 54\n",
      "Best Val: Coverage Error => 3.1339 | F1 Micro => 0.6268 | F1 Macro => 0.1379 | Top 3 => 0.8320\n",
      "========== NN: nn_1st-size_100_1st-act_sigmoid_2nd-size_None_2nd-act_sigmoid_in-drop_False_hid-drop_True\n",
      "Epochs => 31\n",
      "Best Val: Coverage Error => 3.9217 | F1 Micro => 0.5065 | F1 Macro => 0.0443 | Top 3 => 0.7862\n"
     ]
    }
   ],
   "source": [
    "for key in param_results_dict.keys():\n",
    "    print('========== NN: {}'.format(key))\n",
    "    val = param_results_dict[key]\n",
    "#     val_metrics = val['last_validation_metrics']\n",
    "    val_metrics2 =  val['best_validation_metrics']\n",
    "    \n",
    "    print('Epochs => {}'.format(val['epochs']))\n",
    "    print('Best Val: Coverage Error => {:.4f} | F1 Micro => {:.4f} | F1 Macro => {:.4f} | Top 3 => {:.4f}'.format(val_metrics2['coverage_error'], \n",
    "                                                                                        val_metrics2['f1_micro'], val_metrics2['f1_macro'],\n",
    "                                                                                        val_metrics2['top_3']))\n",
    "#     print('Best Val Loss => {}'.format(val[\"metrics_callback\"].best_val_loss))\n",
    "#     print('Last Val: Coverage Error => {:.4f} | F1 Micro => {:.4f} | F1 Macro => {:.4f} | Top 3 => {:.4f}'.format(val_metrics['coverage_error'], \n",
    "#                                                                                         val_metrics['f1_micro'], val_metrics['f1_macro'],\n",
    "#                                                                                         val_metrics['top_3']))\n"
   ]
  },
  {
   "cell_type": "markdown",
   "metadata": {},
   "source": [
    "## Run network for specific configuration"
   ]
  },
  {
   "cell_type": "code",
   "execution_count": 51,
   "metadata": {
    "collapsed": true
   },
   "outputs": [],
   "source": [
    "NN_BATCH_SIZE = 4096\n",
    "NN_OUTPUT_NEURONS = len(classifications)"
   ]
  },
  {
   "cell_type": "code",
   "execution_count": 52,
   "metadata": {
    "collapsed": false
   },
   "outputs": [
    {
     "name": "stderr",
     "output_type": "stream",
     "text": [
      "2017-02-15 14:08:08,581 : INFO : ***************************************************************************************\n",
      "2017-02-15 14:08:08,584 : INFO : nn_1st-size_500_1st-act_tanh_2nd-size_2000_2nd-act_sigmoid_in-drop_False_hid-drop_True\n"
     ]
    },
    {
     "name": "stdout",
     "output_type": "stream",
     "text": [
      "____________________________________________________________________________________________________\n",
      "Layer (type)                     Output Shape          Param #     Connected to                     \n",
      "====================================================================================================\n",
      "doc_input (InputLayer)           (None, 100)           0                                            \n",
      "____________________________________________________________________________________________________\n",
      "hidden_layer_tanh (Dense)        (None, 500)           50500       doc_input[0][0]                  \n",
      "____________________________________________________________________________________________________\n",
      "dropout_22 (Dropout)             (None, 500)           0           hidden_layer_tanh[0][0]          \n",
      "____________________________________________________________________________________________________\n",
      "hidden_layer2_sigmoid (Dense)    (None, 2000)          1002000     dropout_22[0][0]                 \n",
      "____________________________________________________________________________________________________\n",
      "softmax_output (Dense)           (None, 244)           488244      hidden_layer2_sigmoid[0][0]      \n",
      "====================================================================================================\n",
      "Total params: 1540744\n",
      "____________________________________________________________________________________________________\n"
     ]
    },
    {
     "ename": "KeyboardInterrupt",
     "evalue": "",
     "output_type": "error",
     "traceback": [
      "\u001b[1;31m---------------------------------------------------------------------------\u001b[0m",
      "\u001b[1;31mKeyboardInterrupt\u001b[0m                         Traceback (most recent call last)",
      "\u001b[1;32m<ipython-input-52-708538dd14bc>\u001b[0m in \u001b[0;36m<module>\u001b[1;34m()\u001b[0m\n\u001b[0;32m     34\u001b[0m \u001b[1;33m\u001b[0m\u001b[0m\n\u001b[0;32m     35\u001b[0m \u001b[1;31m# Model Fitting\u001b[0m\u001b[1;33m\u001b[0m\u001b[1;33m\u001b[0m\u001b[0m\n\u001b[1;32m---> 36\u001b[1;33m \u001b[0mget_ipython\u001b[0m\u001b[1;33m(\u001b[0m\u001b[1;33m)\u001b[0m\u001b[1;33m.\u001b[0m\u001b[0mmagic\u001b[0m\u001b[1;33m(\u001b[0m\u001b[1;34mu'time history = model.fit(x=X, y=y, validation_data=(Xv,yv), batch_size=NN_BATCH_SIZE,                           nb_epoch=NN_MAX_EPOCHS, verbose=0, callbacks=[early_stopper, metrics_callback])'\u001b[0m\u001b[1;33m)\u001b[0m\u001b[1;33m\u001b[0m\u001b[0m\n\u001b[0m\u001b[0;32m     37\u001b[0m \u001b[1;33m\u001b[0m\u001b[0m\n\u001b[0;32m     38\u001b[0m \u001b[1;31m#     info('Evaluating on Training Data')\u001b[0m\u001b[1;33m\u001b[0m\u001b[1;33m\u001b[0m\u001b[0m\n",
      "\u001b[1;32m/home/stud/shalaby/.virtualenv/thesis-env/local/lib/python2.7/site-packages/IPython/core/interactiveshell.pyc\u001b[0m in \u001b[0;36mmagic\u001b[1;34m(self, arg_s)\u001b[0m\n\u001b[0;32m   2161\u001b[0m         \u001b[0mmagic_name\u001b[0m\u001b[1;33m,\u001b[0m \u001b[0m_\u001b[0m\u001b[1;33m,\u001b[0m \u001b[0mmagic_arg_s\u001b[0m \u001b[1;33m=\u001b[0m \u001b[0marg_s\u001b[0m\u001b[1;33m.\u001b[0m\u001b[0mpartition\u001b[0m\u001b[1;33m(\u001b[0m\u001b[1;34m' '\u001b[0m\u001b[1;33m)\u001b[0m\u001b[1;33m\u001b[0m\u001b[0m\n\u001b[0;32m   2162\u001b[0m         \u001b[0mmagic_name\u001b[0m \u001b[1;33m=\u001b[0m \u001b[0mmagic_name\u001b[0m\u001b[1;33m.\u001b[0m\u001b[0mlstrip\u001b[0m\u001b[1;33m(\u001b[0m\u001b[0mprefilter\u001b[0m\u001b[1;33m.\u001b[0m\u001b[0mESC_MAGIC\u001b[0m\u001b[1;33m)\u001b[0m\u001b[1;33m\u001b[0m\u001b[0m\n\u001b[1;32m-> 2163\u001b[1;33m         \u001b[1;32mreturn\u001b[0m \u001b[0mself\u001b[0m\u001b[1;33m.\u001b[0m\u001b[0mrun_line_magic\u001b[0m\u001b[1;33m(\u001b[0m\u001b[0mmagic_name\u001b[0m\u001b[1;33m,\u001b[0m \u001b[0mmagic_arg_s\u001b[0m\u001b[1;33m)\u001b[0m\u001b[1;33m\u001b[0m\u001b[0m\n\u001b[0m\u001b[0;32m   2164\u001b[0m \u001b[1;33m\u001b[0m\u001b[0m\n\u001b[0;32m   2165\u001b[0m     \u001b[1;31m#-------------------------------------------------------------------------\u001b[0m\u001b[1;33m\u001b[0m\u001b[1;33m\u001b[0m\u001b[0m\n",
      "\u001b[1;32m/home/stud/shalaby/.virtualenv/thesis-env/local/lib/python2.7/site-packages/IPython/core/interactiveshell.pyc\u001b[0m in \u001b[0;36mrun_line_magic\u001b[1;34m(self, magic_name, line)\u001b[0m\n\u001b[0;32m   2082\u001b[0m                 \u001b[0mkwargs\u001b[0m\u001b[1;33m[\u001b[0m\u001b[1;34m'local_ns'\u001b[0m\u001b[1;33m]\u001b[0m \u001b[1;33m=\u001b[0m \u001b[0msys\u001b[0m\u001b[1;33m.\u001b[0m\u001b[0m_getframe\u001b[0m\u001b[1;33m(\u001b[0m\u001b[0mstack_depth\u001b[0m\u001b[1;33m)\u001b[0m\u001b[1;33m.\u001b[0m\u001b[0mf_locals\u001b[0m\u001b[1;33m\u001b[0m\u001b[0m\n\u001b[0;32m   2083\u001b[0m             \u001b[1;32mwith\u001b[0m \u001b[0mself\u001b[0m\u001b[1;33m.\u001b[0m\u001b[0mbuiltin_trap\u001b[0m\u001b[1;33m:\u001b[0m\u001b[1;33m\u001b[0m\u001b[0m\n\u001b[1;32m-> 2084\u001b[1;33m                 \u001b[0mresult\u001b[0m \u001b[1;33m=\u001b[0m \u001b[0mfn\u001b[0m\u001b[1;33m(\u001b[0m\u001b[1;33m*\u001b[0m\u001b[0margs\u001b[0m\u001b[1;33m,\u001b[0m\u001b[1;33m**\u001b[0m\u001b[0mkwargs\u001b[0m\u001b[1;33m)\u001b[0m\u001b[1;33m\u001b[0m\u001b[0m\n\u001b[0m\u001b[0;32m   2085\u001b[0m             \u001b[1;32mreturn\u001b[0m \u001b[0mresult\u001b[0m\u001b[1;33m\u001b[0m\u001b[0m\n\u001b[0;32m   2086\u001b[0m \u001b[1;33m\u001b[0m\u001b[0m\n",
      "\u001b[1;32m<decorator-gen-60>\u001b[0m in \u001b[0;36mtime\u001b[1;34m(self, line, cell, local_ns)\u001b[0m\n",
      "\u001b[1;32m/home/stud/shalaby/.virtualenv/thesis-env/local/lib/python2.7/site-packages/IPython/core/magic.pyc\u001b[0m in \u001b[0;36m<lambda>\u001b[1;34m(f, *a, **k)\u001b[0m\n\u001b[0;32m    191\u001b[0m     \u001b[1;31m# but it's overkill for just that one bit of state.\u001b[0m\u001b[1;33m\u001b[0m\u001b[1;33m\u001b[0m\u001b[0m\n\u001b[0;32m    192\u001b[0m     \u001b[1;32mdef\u001b[0m \u001b[0mmagic_deco\u001b[0m\u001b[1;33m(\u001b[0m\u001b[0marg\u001b[0m\u001b[1;33m)\u001b[0m\u001b[1;33m:\u001b[0m\u001b[1;33m\u001b[0m\u001b[0m\n\u001b[1;32m--> 193\u001b[1;33m         \u001b[0mcall\u001b[0m \u001b[1;33m=\u001b[0m \u001b[1;32mlambda\u001b[0m \u001b[0mf\u001b[0m\u001b[1;33m,\u001b[0m \u001b[1;33m*\u001b[0m\u001b[0ma\u001b[0m\u001b[1;33m,\u001b[0m \u001b[1;33m**\u001b[0m\u001b[0mk\u001b[0m\u001b[1;33m:\u001b[0m \u001b[0mf\u001b[0m\u001b[1;33m(\u001b[0m\u001b[1;33m*\u001b[0m\u001b[0ma\u001b[0m\u001b[1;33m,\u001b[0m \u001b[1;33m**\u001b[0m\u001b[0mk\u001b[0m\u001b[1;33m)\u001b[0m\u001b[1;33m\u001b[0m\u001b[0m\n\u001b[0m\u001b[0;32m    194\u001b[0m \u001b[1;33m\u001b[0m\u001b[0m\n\u001b[0;32m    195\u001b[0m         \u001b[1;32mif\u001b[0m \u001b[0mcallable\u001b[0m\u001b[1;33m(\u001b[0m\u001b[0marg\u001b[0m\u001b[1;33m)\u001b[0m\u001b[1;33m:\u001b[0m\u001b[1;33m\u001b[0m\u001b[0m\n",
      "\u001b[1;32m/home/stud/shalaby/.virtualenv/thesis-env/local/lib/python2.7/site-packages/IPython/core/magics/execution.pyc\u001b[0m in \u001b[0;36mtime\u001b[1;34m(self, line, cell, local_ns)\u001b[0m\n\u001b[0;32m   1175\u001b[0m         \u001b[1;32melse\u001b[0m\u001b[1;33m:\u001b[0m\u001b[1;33m\u001b[0m\u001b[0m\n\u001b[0;32m   1176\u001b[0m             \u001b[0mst\u001b[0m \u001b[1;33m=\u001b[0m \u001b[0mclock2\u001b[0m\u001b[1;33m(\u001b[0m\u001b[1;33m)\u001b[0m\u001b[1;33m\u001b[0m\u001b[0m\n\u001b[1;32m-> 1177\u001b[1;33m             \u001b[1;32mexec\u001b[0m\u001b[1;33m(\u001b[0m\u001b[0mcode\u001b[0m\u001b[1;33m,\u001b[0m \u001b[0mglob\u001b[0m\u001b[1;33m,\u001b[0m \u001b[0mlocal_ns\u001b[0m\u001b[1;33m)\u001b[0m\u001b[1;33m\u001b[0m\u001b[0m\n\u001b[0m\u001b[0;32m   1178\u001b[0m             \u001b[0mend\u001b[0m \u001b[1;33m=\u001b[0m \u001b[0mclock2\u001b[0m\u001b[1;33m(\u001b[0m\u001b[1;33m)\u001b[0m\u001b[1;33m\u001b[0m\u001b[0m\n\u001b[0;32m   1179\u001b[0m             \u001b[0mout\u001b[0m \u001b[1;33m=\u001b[0m \u001b[0mNone\u001b[0m\u001b[1;33m\u001b[0m\u001b[0m\n",
      "\u001b[1;32m<timed exec>\u001b[0m in \u001b[0;36m<module>\u001b[1;34m()\u001b[0m\n",
      "\u001b[1;32m/home/stud/shalaby/.virtualenv/thesis-env/local/lib/python2.7/site-packages/keras/engine/training.pyc\u001b[0m in \u001b[0;36mfit\u001b[1;34m(self, x, y, batch_size, nb_epoch, verbose, callbacks, validation_split, validation_data, shuffle, class_weight, sample_weight, initial_epoch)\u001b[0m\n\u001b[0;32m   1109\u001b[0m                               \u001b[0mval_f\u001b[0m\u001b[1;33m=\u001b[0m\u001b[0mval_f\u001b[0m\u001b[1;33m,\u001b[0m \u001b[0mval_ins\u001b[0m\u001b[1;33m=\u001b[0m\u001b[0mval_ins\u001b[0m\u001b[1;33m,\u001b[0m \u001b[0mshuffle\u001b[0m\u001b[1;33m=\u001b[0m\u001b[0mshuffle\u001b[0m\u001b[1;33m,\u001b[0m\u001b[1;33m\u001b[0m\u001b[0m\n\u001b[0;32m   1110\u001b[0m                               \u001b[0mcallback_metrics\u001b[0m\u001b[1;33m=\u001b[0m\u001b[0mcallback_metrics\u001b[0m\u001b[1;33m,\u001b[0m\u001b[1;33m\u001b[0m\u001b[0m\n\u001b[1;32m-> 1111\u001b[1;33m                               initial_epoch=initial_epoch)\n\u001b[0m\u001b[0;32m   1112\u001b[0m \u001b[1;33m\u001b[0m\u001b[0m\n\u001b[0;32m   1113\u001b[0m     \u001b[1;32mdef\u001b[0m \u001b[0mevaluate\u001b[0m\u001b[1;33m(\u001b[0m\u001b[0mself\u001b[0m\u001b[1;33m,\u001b[0m \u001b[0mx\u001b[0m\u001b[1;33m,\u001b[0m \u001b[0my\u001b[0m\u001b[1;33m,\u001b[0m \u001b[0mbatch_size\u001b[0m\u001b[1;33m=\u001b[0m\u001b[1;36m32\u001b[0m\u001b[1;33m,\u001b[0m \u001b[0mverbose\u001b[0m\u001b[1;33m=\u001b[0m\u001b[1;36m1\u001b[0m\u001b[1;33m,\u001b[0m \u001b[0msample_weight\u001b[0m\u001b[1;33m=\u001b[0m\u001b[0mNone\u001b[0m\u001b[1;33m)\u001b[0m\u001b[1;33m:\u001b[0m\u001b[1;33m\u001b[0m\u001b[0m\n",
      "\u001b[1;32m/home/stud/shalaby/.virtualenv/thesis-env/local/lib/python2.7/site-packages/keras/engine/training.pyc\u001b[0m in \u001b[0;36m_fit_loop\u001b[1;34m(self, f, ins, out_labels, batch_size, nb_epoch, verbose, callbacks, val_f, val_ins, shuffle, callback_metrics, initial_epoch)\u001b[0m\n\u001b[0;32m    824\u001b[0m                 \u001b[0mbatch_logs\u001b[0m\u001b[1;33m[\u001b[0m\u001b[1;34m'size'\u001b[0m\u001b[1;33m]\u001b[0m \u001b[1;33m=\u001b[0m \u001b[0mlen\u001b[0m\u001b[1;33m(\u001b[0m\u001b[0mbatch_ids\u001b[0m\u001b[1;33m)\u001b[0m\u001b[1;33m\u001b[0m\u001b[0m\n\u001b[0;32m    825\u001b[0m                 \u001b[0mcallbacks\u001b[0m\u001b[1;33m.\u001b[0m\u001b[0mon_batch_begin\u001b[0m\u001b[1;33m(\u001b[0m\u001b[0mbatch_index\u001b[0m\u001b[1;33m,\u001b[0m \u001b[0mbatch_logs\u001b[0m\u001b[1;33m)\u001b[0m\u001b[1;33m\u001b[0m\u001b[0m\n\u001b[1;32m--> 826\u001b[1;33m                 \u001b[0mouts\u001b[0m \u001b[1;33m=\u001b[0m \u001b[0mf\u001b[0m\u001b[1;33m(\u001b[0m\u001b[0mins_batch\u001b[0m\u001b[1;33m)\u001b[0m\u001b[1;33m\u001b[0m\u001b[0m\n\u001b[0m\u001b[0;32m    827\u001b[0m                 \u001b[1;32mif\u001b[0m \u001b[0mtype\u001b[0m\u001b[1;33m(\u001b[0m\u001b[0mouts\u001b[0m\u001b[1;33m)\u001b[0m \u001b[1;33m!=\u001b[0m \u001b[0mlist\u001b[0m\u001b[1;33m:\u001b[0m\u001b[1;33m\u001b[0m\u001b[0m\n\u001b[0;32m    828\u001b[0m                     \u001b[0mouts\u001b[0m \u001b[1;33m=\u001b[0m \u001b[1;33m[\u001b[0m\u001b[0mouts\u001b[0m\u001b[1;33m]\u001b[0m\u001b[1;33m\u001b[0m\u001b[0m\n",
      "\u001b[1;32m/home/stud/shalaby/.virtualenv/thesis-env/local/lib/python2.7/site-packages/keras/backend/theano_backend.pyc\u001b[0m in \u001b[0;36m__call__\u001b[1;34m(self, inputs)\u001b[0m\n\u001b[0;32m    809\u001b[0m     \u001b[1;32mdef\u001b[0m \u001b[0m__call__\u001b[0m\u001b[1;33m(\u001b[0m\u001b[0mself\u001b[0m\u001b[1;33m,\u001b[0m \u001b[0minputs\u001b[0m\u001b[1;33m)\u001b[0m\u001b[1;33m:\u001b[0m\u001b[1;33m\u001b[0m\u001b[0m\n\u001b[0;32m    810\u001b[0m         \u001b[1;32massert\u001b[0m \u001b[0mtype\u001b[0m\u001b[1;33m(\u001b[0m\u001b[0minputs\u001b[0m\u001b[1;33m)\u001b[0m \u001b[1;32min\u001b[0m \u001b[1;33m{\u001b[0m\u001b[0mlist\u001b[0m\u001b[1;33m,\u001b[0m \u001b[0mtuple\u001b[0m\u001b[1;33m}\u001b[0m\u001b[1;33m\u001b[0m\u001b[0m\n\u001b[1;32m--> 811\u001b[1;33m         \u001b[1;32mreturn\u001b[0m \u001b[0mself\u001b[0m\u001b[1;33m.\u001b[0m\u001b[0mfunction\u001b[0m\u001b[1;33m(\u001b[0m\u001b[1;33m*\u001b[0m\u001b[0minputs\u001b[0m\u001b[1;33m)\u001b[0m\u001b[1;33m\u001b[0m\u001b[0m\n\u001b[0m\u001b[0;32m    812\u001b[0m \u001b[1;33m\u001b[0m\u001b[0m\n\u001b[0;32m    813\u001b[0m \u001b[1;33m\u001b[0m\u001b[0m\n",
      "\u001b[1;32m/home/stud/shalaby/.virtualenv/thesis-env/local/lib/python2.7/site-packages/theano/compile/function_module.pyc\u001b[0m in \u001b[0;36m__call__\u001b[1;34m(self, *args, **kwargs)\u001b[0m\n\u001b[0;32m    857\u001b[0m         \u001b[0mt0_fn\u001b[0m \u001b[1;33m=\u001b[0m \u001b[0mtime\u001b[0m\u001b[1;33m.\u001b[0m\u001b[0mtime\u001b[0m\u001b[1;33m(\u001b[0m\u001b[1;33m)\u001b[0m\u001b[1;33m\u001b[0m\u001b[0m\n\u001b[0;32m    858\u001b[0m         \u001b[1;32mtry\u001b[0m\u001b[1;33m:\u001b[0m\u001b[1;33m\u001b[0m\u001b[0m\n\u001b[1;32m--> 859\u001b[1;33m             \u001b[0moutputs\u001b[0m \u001b[1;33m=\u001b[0m \u001b[0mself\u001b[0m\u001b[1;33m.\u001b[0m\u001b[0mfn\u001b[0m\u001b[1;33m(\u001b[0m\u001b[1;33m)\u001b[0m\u001b[1;33m\u001b[0m\u001b[0m\n\u001b[0m\u001b[0;32m    860\u001b[0m         \u001b[1;32mexcept\u001b[0m \u001b[0mException\u001b[0m\u001b[1;33m:\u001b[0m\u001b[1;33m\u001b[0m\u001b[0m\n\u001b[0;32m    861\u001b[0m             \u001b[1;32mif\u001b[0m \u001b[0mhasattr\u001b[0m\u001b[1;33m(\u001b[0m\u001b[0mself\u001b[0m\u001b[1;33m.\u001b[0m\u001b[0mfn\u001b[0m\u001b[1;33m,\u001b[0m \u001b[1;34m'position_of_error'\u001b[0m\u001b[1;33m)\u001b[0m\u001b[1;33m:\u001b[0m\u001b[1;33m\u001b[0m\u001b[0m\n",
      "\u001b[1;31mKeyboardInterrupt\u001b[0m: "
     ]
    }
   ],
   "source": [
    "start_time = time.time()\n",
    "first_hidden_layer_size = 500\n",
    "first_hidden_layer_activation = 'tanh'\n",
    "second_hidden_layer_size = 2000\n",
    "second_hidden_layer_activation = 'sigmoid'\n",
    "input_dropout_do = False\n",
    "hidden_dropout_do = True\n",
    "\n",
    "#     print \"===================================================================================\\n\" + \\\n",
    "#           \"========== 1st Layer Size: {}, 1st Layer Activation: {}, \\n 2nd Layer Size: {}, 2nd Layer Activation: {}, \\n\" + \\\n",
    "#           \"Input Dropout: {}, Hidden Dropout: {} \\n\" + \\\n",
    "#           \"==========================\".format(first_hidden_layer_size, first_hidden_layer_activation, \n",
    "#                                                 second_hidden_layer_size, second_hidden_layer_activation, \n",
    "#                                                 input_dropout_do, hidden_dropout_do)\n",
    "\n",
    "GLOBAL_VARS.NN_MODEL_NAME = 'nn_1st-size_{}_1st-act_{}_2nd-size_{}_2nd-act_{}_in-drop_{}_hid-drop_{}'.format(\n",
    "    first_hidden_layer_size, first_hidden_layer_activation, second_hidden_layer_size, \n",
    "    second_hidden_layer_activation, input_dropout_do, hidden_dropout_do\n",
    ")\n",
    "if GLOBAL_VARS.NN_MODEL_NAME in param_results_dict.keys():\n",
    "    print \"Should be skipping: {}\".format(GLOBAL_VARS.NN_MODEL_NAME)\n",
    "\n",
    "info('***************************************************************************************')\n",
    "info(GLOBAL_VARS.NN_MODEL_NAME)\n",
    "\n",
    "model = create_keras_nn_model(DOC2VEC_SIZE, NN_OUTPUT_NEURONS, \n",
    "                              first_hidden_layer_size, first_hidden_layer_activation, \n",
    "                              second_hidden_layer_size, second_hidden_layer_activation, \n",
    "                              input_dropout_do, hidden_dropout_do)\n",
    "model.summary()\n",
    "\n",
    "early_stopper = keras.callbacks.EarlyStopping(monitor='val_loss', min_delta=EARLY_STOPPER_MIN_DELTA, \\\n",
    "                                              patience=EARLY_STOPPER_PATIENCE, verbose=1, mode='auto')\n",
    "metrics_callback = MetricsCallback()\n",
    "\n",
    "# Model Fitting\n",
    "%time history = model.fit(x=X, y=y, validation_data=(Xv,yv), batch_size=NN_BATCH_SIZE, \\\n",
    "                          nb_epoch=NN_MAX_EPOCHS, verbose=0, callbacks=[early_stopper, metrics_callback])\n",
    "\n",
    "#     info('Evaluating on Training Data')\n",
    "#     yp = model.predict(X, batch_size=NN_BATCH_SIZE)\n",
    "#     yp_binary = get_binary_0_5(yp)\n",
    "#     #print yp\n",
    "#     info('Generating Training Metrics')\n",
    "#     training_metrics = get_metrics(y, yp, yp_binary)\n",
    "#     print \"** Training Metrics: Cov Err: {:.3f}, Avg Labels: {:.3f}, \\n\\t\\t Top 1: {:.3f}, Top 3: {:.3f}, Top 5: {:.3f}, \\n\\t\\t F1 Micro: {:.3f}, F1 Macro: {:.3f}, Total Pos: {:,d}\".format(\n",
    "#         training_metrics['coverage_error'], training_metrics['average_num_of_labels'], \n",
    "#         training_metrics['top_1'], training_metrics['top_3'], training_metrics['top_5'], \n",
    "#         training_metrics['f1_micro'],training_metrics['f1_macro'],  training_metrics['total_positive'])\n",
    "\n",
    "info('Evaluating on Validation Data using last weights')\n",
    "yvp = model.predict(Xv)\n",
    "yvp_binary = get_binary_0_5(yvp)\n",
    "#print yvp\n",
    "info('Generating Validation Metrics')\n",
    "validation_metrics = get_metrics(yv, yvp, yvp_binary)\n",
    "print \"****** Validation Metrics: Cov Err: {:.3f} | Top 3: {:.3f} | Top 5: {:.3f} | F1 Micro: {:.3f} | F1 Macro: {:.3f}\".format(\n",
    "    validation_metrics['coverage_error'], validation_metrics['top_3'], validation_metrics['top_5'], \n",
    "    validation_metrics['f1_micro'], validation_metrics['f1_macro'])\n",
    "last_validation_metrics = validation_metrics\n",
    "\n",
    "# using the recorded weights of the best recorded validation loss\n",
    "last_model_weights = model.get_weights()\n",
    "info('Evaluating on Validation Data using saved best weights')\n",
    "model.set_weights(metrics_callback.best_weights)\n",
    "yvp = model.predict(Xv)\n",
    "yvp_binary = get_binary_0_5(yvp)\n",
    "#print yvp\n",
    "info('Generating Validation Metrics')\n",
    "validation_metrics = get_metrics_detailed(yv, yvp, yvp_binary)\n",
    "print \"****** Validation Metrics: Cov Err: {:.3f} | Top 3: {:.3f} | Top 5: {:.3f} | F1 Micro: {:.3f} | F1 Macro: {:.3f}\".format(\n",
    "    validation_metrics['coverage_error'], validation_metrics['top_3'], validation_metrics['top_5'], \n",
    "    validation_metrics['f1_micro'], validation_metrics['f1_macro'])\n",
    "best_validation_metrics = validation_metrics\n",
    "\n",
    "\n",
    "param_results_dict[GLOBAL_VARS.NN_MODEL_NAME] = dict()\n",
    "#     param_results_dict[GLOBAL_VARS.NN_MODEL_NAME]['training_metrics'] = training_metrics\n",
    "param_results_dict[GLOBAL_VARS.NN_MODEL_NAME]['last_validation_metrics'] = last_validation_metrics\n",
    "param_results_dict[GLOBAL_VARS.NN_MODEL_NAME]['best_validation_metrics'] = best_validation_metrics\n",
    "param_results_dict[GLOBAL_VARS.NN_MODEL_NAME]['history'] = history\n",
    "param_results_dict[GLOBAL_VARS.NN_MODEL_NAME]['metrics_callback'] = metrics_callback\n",
    "param_results_dict[GLOBAL_VARS.NN_MODEL_NAME]['last_weights'] = last_model_weights\n",
    "\n",
    "duration = time.time() - start_time\n",
    "param_results_dict[GLOBAL_VARS.NN_MODEL_NAME]['duration'] =  duration\n",
    "\n",
    "pickle.dump(param_results_dict, open(os.path.join(os.path.join(nn_parameter_search_location, GLOBAL_VARS.MODEL_NAME, \n",
    "                                       NN_PARAMETER_SEARCH_PREFIX.format(classifications_type, NN_BATCH_SIZE))), 'w'))"
   ]
  },
  {
   "cell_type": "code",
   "execution_count": 141,
   "metadata": {
    "collapsed": false
   },
   "outputs": [
    {
     "name": "stdout",
     "output_type": "stream",
     "text": [
      "========== NN: nn_1st-size_500_1st-act_softmax_2nd-size_None_2nd-act_softmax_in-drop_True_hid-drop_False\n",
      "Epochs => 100\n",
      "Best Val Loss => 0.166829405505\n",
      "Last Val: Coverage Error => 1.4960 | F1 Micro => 0.7434 | F1 Macro => 0.6293 | Top 3 => 0.9637\n",
      "Best Val: Coverage Error => 1.4960 | F1 Micro => 0.7434 | F1 Macro => 0.6293 | Top 3 => 0.9637\n",
      "========== NN: nn_1st-size_200_1st-act_tanh_2nd-size_500_2nd-act_relu_in-drop_False_hid-drop_True\n",
      "Epochs => 47\n",
      "Best Val Loss => 0.147426413828\n",
      "Last Val: Coverage Error => 1.4576 | F1 Micro => 0.7738 | F1 Macro => 0.7021 | Top 3 => 0.9697\n",
      "Best Val: Coverage Error => 1.4576 | F1 Micro => 0.7738 | F1 Macro => 0.7021 | Top 3 => 0.9697\n",
      "========== NN: nn_1st-size_200_1st-act_tanh_2nd-size_500_2nd-act_tanh_in-drop_True_hid-drop_True\n",
      "Epochs => 28\n",
      "Best Val Loss => 0.192695072037\n",
      "Last Val: Coverage Error => 1.6299 | F1 Micro => 0.6631 | F1 Macro => 0.4731 | Top 3 => 0.9455\n",
      "Best Val: Coverage Error => 1.6299 | F1 Micro => 0.6631 | F1 Macro => 0.4731 | Top 3 => 0.9455\n"
     ]
    }
   ],
   "source": [
    "for key in param_results_dict.keys():\n",
    "    print('========== NN: {}'.format(key))\n",
    "    val = param_results_dict[key]\n",
    "    val_metrics = val['last_validation_metrics']\n",
    "    val_metrics2 =  val['best_validation_metrics']\n",
    "    \n",
    "    print('Epochs => {}'.format(len(val['history'].history['val_loss'])))\n",
    "    print('Best Val Loss => {}'.format(val[\"metrics_callback\"].best_val_loss))\n",
    "    print('Last Val: Coverage Error => {:.4f} | F1 Micro => {:.4f} | F1 Macro => {:.4f} | Top 3 => {:.4f}'.format(val_metrics['coverage_error'], \n",
    "                                                                                        val_metrics['f1_micro'], val_metrics['f1_macro'],\n",
    "                                                                                        val_metrics['top_3']))\n",
    "    print('Best Val: Coverage Error => {:.4f} | F1 Micro => {:.4f} | F1 Macro => {:.4f} | Top 3 => {:.4f}'.format(val_metrics2['coverage_error'], \n",
    "                                                                                        val_metrics2['f1_micro'], val_metrics2['f1_macro'],\n",
    "                                                                                        val_metrics2['top_3']))"
   ]
  },
  {
   "cell_type": "code",
   "execution_count": 163,
   "metadata": {
    "collapsed": true
   },
   "outputs": [],
   "source": [
    "pickle.dump(param_results_dict, open(os.path.join(os.path.join(nn_parameter_search_location, GLOBAL_VARS.MODEL_NAME, \n",
    "                                           NN_PARAMETER_SEARCH_PREFIX.format(classifications_type, NN_BATCH_SIZE))), 'w'))"
   ]
  }
 ],
 "metadata": {
  "kernelspec": {
   "display_name": "Python 2",
   "language": "python",
   "name": "python2"
  },
  "language_info": {
   "codemirror_mode": {
    "name": "ipython",
    "version": 2
   },
   "file_extension": ".py",
   "mimetype": "text/x-python",
   "name": "python",
   "nbconvert_exporter": "python",
   "pygments_lexer": "ipython2",
   "version": "2.7.12"
  }
 },
 "nbformat": 4,
 "nbformat_minor": 0
}
