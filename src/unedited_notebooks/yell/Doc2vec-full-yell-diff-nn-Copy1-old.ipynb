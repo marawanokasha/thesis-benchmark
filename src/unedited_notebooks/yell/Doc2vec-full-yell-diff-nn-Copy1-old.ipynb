{
 "cells": [
  {
   "cell_type": "code",
   "execution_count": 1,
   "metadata": {
    "collapsed": false
   },
   "outputs": [
    {
     "name": "stderr",
     "output_type": "stream",
     "text": [
      "Using gpu device 0: Tesla K40m (CNMeM is disabled, cuDNN 5105)\n",
      "/home/stud/shalaby/.virtualenv/thesis-env/local/lib/python2.7/site-packages/theano/sandbox/cuda/__init__.py:600: UserWarning: Your cuDNN version is more recent than the one Theano officially supports. If you see any problems, try updating Theano or downgrading cuDNN to version 5.\n",
      "  warnings.warn(warn)\n"
     ]
    }
   ],
   "source": [
    "import json\n",
    "import nltk\n",
    "from nltk.tokenize import RegexpTokenizer\n",
    "import string\n",
    "import math\n",
    "import os\n",
    "import time\n",
    "from collections import namedtuple\n",
    "import cPickle as pickle\n",
    "import pandas as pd\n",
    "\n",
    "%matplotlib inline\n",
    "import matplotlib.pyplot as plt\n",
    "import matplotlib as mpl\n",
    "import numpy as np\n",
    "import random\n",
    "\n",
    "from multiprocessing.dummy import Pool as ThreadPool\n",
    "import itertools\n",
    "\n",
    "from sklearn.metrics import coverage_error\n",
    "import sklearn.metrics\n",
    "from sklearn.multiclass import OneVsRestClassifier\n",
    "from sklearn import linear_model\n",
    "from sklearn.preprocessing import MultiLabelBinarizer\n",
    "\n",
    "from gensim.models.doc2vec import Doc2Vec, LabeledSentence\n",
    "\n",
    "import logging\n",
    "from logging import info\n",
    "from functools import partial\n",
    "\n",
    "from thesis.utils.metrics import *"
   ]
  },
  {
   "cell_type": "code",
   "execution_count": 2,
   "metadata": {
    "collapsed": true
   },
   "outputs": [],
   "source": [
    "root = logging.getLogger()\n",
    "for handler in root.handlers[:]:\n",
    "    root.removeHandler(handler)\n",
    "logging.basicConfig(format='%(asctime)s : %(levelname)s : %(message)s', level=logging.INFO) # adds a default StreamHanlder\n",
    "#root.addHandler(logging.StreamHandler())"
   ]
  },
  {
   "cell_type": "code",
   "execution_count": 3,
   "metadata": {
    "collapsed": true
   },
   "outputs": [],
   "source": [
    "IS_SAMPLE = False"
   ]
  },
  {
   "cell_type": "code",
   "execution_count": 4,
   "metadata": {
    "collapsed": true
   },
   "outputs": [],
   "source": [
    "SVM_SEED = 1234\n",
    "DOC2VEC_SEED = 1234\n",
    "WORD2VEC_SEED = 1234"
   ]
  },
  {
   "cell_type": "code",
   "execution_count": 5,
   "metadata": {
    "collapsed": true
   },
   "outputs": [],
   "source": [
    "NUMBER_INDICATOR = \"number_inidicator\"\n",
    "CURRENCY_INDICATOR = \"currency_inidicator\"\n",
    "CHEMICAL_INDICATOR = \"chemical_inidicator\"\n",
    "MIN_WORD_COUNT = 100\n",
    "MIN_SIZE = 0\n",
    "NUM_CORES = 14"
   ]
  },
  {
   "cell_type": "code",
   "execution_count": 6,
   "metadata": {
    "collapsed": false
   },
   "outputs": [],
   "source": [
    "GLOBAL_VARS = namedtuple('GLOBAL_VARS', ['MODEL_NAME', 'DOC2VEC_MODEL_NAME', 'DOC2VEC_MODEL', \n",
    "                                         'SVM_MODEL_NAME', 'NN_MODEL_NAME'])"
   ]
  },
  {
   "cell_type": "code",
   "execution_count": 7,
   "metadata": {
    "collapsed": true
   },
   "outputs": [],
   "source": [
    "VOCAB_MODEL = \"vocab_model\"\n",
    "MODEL_PREFIX = \"model\"\n",
    "VALIDATION_MATRIX = \"validation_matrix.pkl\"\n",
    "METRICS = \"metrics.pkl\"\n",
    "CLASSIFIER = \"classifier.pkl\""
   ]
  },
  {
   "cell_type": "code",
   "execution_count": 8,
   "metadata": {
    "collapsed": false
   },
   "outputs": [],
   "source": [
    "#training_file = \"/home/local/shalaby/docs_output_sample_100.json\"\n",
    "\n",
    "root_location = \"/mnt/data2/shalaby/\"\n",
    "exports_location = root_location + \"exported_data/\"\n",
    "\n",
    "doc2vec_model_save_location = os.path.join(root_location, \"parameter_search_doc2vec_models_new\", \"full\")\n",
    "if not os.path.exists(doc2vec_model_save_location):\n",
    "    os.makedirs(doc2vec_model_save_location)\n",
    "if not os.path.exists(os.path.join(doc2vec_model_save_location, VOCAB_MODEL)):\n",
    "    os.makedirs(os.path.join(doc2vec_model_save_location, VOCAB_MODEL))\n",
    "\n",
    "training_file = root_location + \"docs_output.json\"\n",
    "\n",
    "doc_classifications_map_file = exports_location + \"doc_classification_map.pkl\"\n",
    "sections_file = exports_location + \"sections.pkl\"\n",
    "classes_file = exports_location + \"classes.pkl\"\n",
    "subclasses_file = exports_location + \"subclasses.pkl\"\n",
    "classifications_output = exports_location + \"classifications.pkl\"\n",
    "training_docs_list_file = exports_location + \"training_docs_list.pkl\"\n",
    "validation_docs_list_file = exports_location + \"validation_docs_list.pkl\"\n",
    "test_docs_list_file = exports_location + \"test_docs_list.pkl\"\n",
    "\n",
    "preprocessed_location = root_location + \"preprocessed_data/\"\n",
    "\n",
    "training_preprocessed_files_prefix = preprocessed_location + \"training_docs_merged_data_preprocessed-\"\n",
    "training_preprocessed_docids_files_prefix = preprocessed_location + \"training_docs_merged_docids_preprocessed-\"\n",
    "validation_preprocessed_files_prefix = preprocessed_location + \"validation_docs_merged_data_preprocessed-\"\n",
    "validation_preprocessed_docids_files_prefix = preprocessed_location + \"validation_docs_merged_docids_preprocessed-\"\n",
    "\n",
    "word2vec_questions_file = result = root_location + 'tensorflow/word2vec/questions-words.txt'"
   ]
  },
  {
   "cell_type": "code",
   "execution_count": 9,
   "metadata": {
    "collapsed": false
   },
   "outputs": [
    {
     "name": "stdout",
     "output_type": "stream",
     "text": [
      "CPU times: user 20.6 s, sys: 0 ns, total: 20.6 s\n",
      "Wall time: 20.9 s\n"
     ]
    }
   ],
   "source": [
    "%%time\n",
    "doc_classification_map = pickle.load(open(doc_classifications_map_file))\n",
    "sections = pickle.load(open(sections_file))\n",
    "classes = pickle.load(open(classes_file))\n",
    "subclasses = pickle.load(open(subclasses_file))\n",
    "training_docs_list = pickle.load(open(training_docs_list_file))\n",
    "validation_docs_list = pickle.load(open(validation_docs_list_file))\n",
    "#test_docs_list = pickle.load(open(test_docs_list_file))"
   ]
  },
  {
   "cell_type": "code",
   "execution_count": 10,
   "metadata": {
    "collapsed": false
   },
   "outputs": [
    {
     "data": {
      "text/plain": [
       "1286325"
      ]
     },
     "execution_count": 10,
     "metadata": {},
     "output_type": "execute_result"
    }
   ],
   "source": [
    "len(training_docs_list)"
   ]
  },
  {
   "cell_type": "code",
   "execution_count": 11,
   "metadata": {
    "collapsed": false
   },
   "outputs": [
    {
     "data": {
      "text/plain": [
       "321473"
      ]
     },
     "execution_count": 11,
     "metadata": {},
     "output_type": "execute_result"
    }
   ],
   "source": [
    "len(validation_docs_list)"
   ]
  },
  {
   "cell_type": "code",
   "execution_count": 12,
   "metadata": {
    "collapsed": true
   },
   "outputs": [],
   "source": [
    "def stemtokenizer(text):\n",
    "    \"\"\" MAIN FUNCTION to get clean stems out of a text. A list of clean stems are returned \"\"\"\n",
    "    tokenizer = RegexpTokenizer(r'\\s+', gaps=True)\n",
    "    tokens = tokenizer.tokenize(text)\n",
    "    stems = []  # result\n",
    "    for token in tokens:\n",
    "        stem = token.lower()\n",
    "        stem = stem.strip(string.punctuation)\n",
    "        if stem:\n",
    "            if is_number(stem):\n",
    "                stem = NUMBER_INDICATOR\n",
    "            elif is_currency(stem):\n",
    "                stem = CURRENCY_INDICATOR\n",
    "            elif is_chemical(stem):\n",
    "                stem = CHEMICAL_INDICATOR\n",
    "            else:\n",
    "                stem = stem.strip(string.punctuation)\n",
    "            if stem and len(stem) >= MIN_SIZE:\n",
    "                # extract uni-grams\n",
    "                stems.append(stem)\n",
    "    del tokens\n",
    "    return stems\n",
    "\n",
    "def is_number(str):\n",
    "    \"\"\" Returns true if given string is a number (float or int)\"\"\"\n",
    "    try:\n",
    "        float(str.replace(\",\", \"\"))\n",
    "        return True\n",
    "    except ValueError:\n",
    "        return False\n",
    "\n",
    "def is_currency(str):\n",
    "    return str[0] == \"$\"\n",
    "\n",
    "def is_chemical(str):\n",
    "    return str.count(\"-\") > 3"
   ]
  },
  {
   "cell_type": "code",
   "execution_count": 13,
   "metadata": {
    "collapsed": false
   },
   "outputs": [],
   "source": [
    "def ensure_hdfs_location_exists(location):\n",
    "    parent = os.path.dirname(location)\n",
    "    os.system(\"hdfs dfs -mkdir -p \" + location)\n",
    "\n",
    "def ensure_disk_location_exists(location):\n",
    "    if not os.path.exists(location):\n",
    "        os.makedirs(location)"
   ]
  },
  {
   "cell_type": "code",
   "execution_count": 14,
   "metadata": {
    "collapsed": false
   },
   "outputs": [],
   "source": [
    "def get_validation_docs_with_inference(doc2vec_model, doc_classification_map):\n",
    "    \"\"\"\n",
    "    Use the trained doc2vec model to get the paragraph vector representations of the validation documents\n",
    "    \"\"\"\n",
    "    if os.path.exists(os.path.join(doc2vec_model_save_location, GLOBAL_VARS.MODEL_NAME, VALIDATION_MATRIX)):\n",
    "        info(\"===== Loading validation vectors\")\n",
    "        validation_vectors_matrix = pickle.load(open(os.path.join(doc2vec_model_save_location, GLOBAL_VARS.MODEL_NAME, VALIDATION_MATRIX)))\n",
    "    else:\n",
    "        validation_documents_reps = {}\n",
    "        validation_vectors = []\n",
    "        validation_labels = []\n",
    "        info(\"===== Getting validation vectors with inference\")\n",
    "\n",
    "        # do inference and store results in dict\n",
    "        i = 0\n",
    "        for (doc_id, doc_contents_array) in ValidationDocumentGenerator(training_file, validation_docs_list):\n",
    "            i += 1\n",
    "            if i % 1000 == 0: info(\"Finished: {}\".format(str(i)))\n",
    "            validation_documents_reps[doc_id] = doc2vec_model.infer_vector(doc_contents_array)\n",
    "\n",
    "        # create matrix for the validation vectors\n",
    "        for validation_doc_id in validation_docs_list:\n",
    "            validation_vectors.append(validation_documents_reps[validation_doc_id])\n",
    "            validation_labels.append([classf for classf in doc_classification_map[validation_doc_id] if classf in sections])\n",
    "        validation_vectors_matrix = np.array(validation_vectors)\n",
    "        pickle.dump(validation_vectors_matrix, open(os.path.join(doc2vec_model_save_location, GLOBAL_VARS.MODEL_NAME, VALIDATION_MATRIX), 'w'))\n",
    "    \n",
    "    return validation_vectors_matrix"
   ]
  },
  {
   "cell_type": "code",
   "execution_count": 15,
   "metadata": {
    "collapsed": true
   },
   "outputs": [],
   "source": [
    "def get_validation_docs_with_inference_new(doc2vec_model, doc_classification_map, classifications, \n",
    "                                           val_docs_list, val_preprocessed_files_prefix, val_preprocessed_docids_files_prefix):\n",
    "    \"\"\"\n",
    "    Use the trained doc2vec model to get the paragraph vector representations of the validation documents\n",
    "    \"\"\"\n",
    "\n",
    "    def infer_one_doc(doc_tuple):\n",
    "        #doc2vec_model.random = np.random.RandomState(DOC2VEC_SEED)\n",
    "        doc_id, doc_tokens = doc_tuple\n",
    "        rep = doc2vec_model.infer_vector(doc_tokens)\n",
    "        return (doc_id, rep)\n",
    "\n",
    "    one_hot_encoder = OneHotEncoder(classifications)\n",
    "    if os.path.exists(os.path.join(doc2vec_model_save_location, GLOBAL_VARS.MODEL_NAME, VALIDATION_MATRIX)):\n",
    "        info(\"===== Loading validation vectors\")\n",
    "        validation_labels = []\n",
    "        validation_vectors_matrix = pickle.load(open(os.path.join(doc2vec_model_save_location, GLOBAL_VARS.MODEL_NAME, VALIDATION_MATRIX)))\n",
    "        for validation_doc_id in val_docs_list:\n",
    "            val_labels = [classf for classf in doc_classification_map[validation_doc_id] if classf in classifications]\n",
    "            validation_labels.append(one_hot_encoder.get_label_vector(val_labels))\n",
    "        validation_labels = np.array(validation_labels)\n",
    "    else:\n",
    "        validation_documents_reps = {}\n",
    "        validation_vectors = []\n",
    "        validation_labels = []\n",
    "        info(\"===== Getting validation vectors with inference\")\n",
    "\n",
    "        # Single-threaded inference\n",
    "        # do inference and store results in dict\n",
    "#         i = 0\n",
    "        \n",
    "#         validation_docs_iterator = DocumentBatchGenerator(val_preprocessed_files_prefix, \n",
    "#                                                         val_preprocessed_docids_files_prefix, batch_size=None)\n",
    "#         for (doc_id, doc_contents_array) in validation_docs_iterator:\n",
    "#             i += 1\n",
    "#             if i % 1000 == 0: info(\"Finished: {}\".format(str(i)))\n",
    "#             validation_documents_reps[doc_id] = doc2vec_model.infer_vector(doc_contents_array)\n",
    "        \n",
    "        # Multi-threaded inference\n",
    "        validation_docs_iterator = DocumentBatchGenerator(validation_preprocessed_files_prefix, \n",
    "                                                          validation_preprocessed_docids_files_prefix, batch_size=None)\n",
    "        generator_func = validation_docs_iterator.__iter__()\n",
    "        pool = ThreadPool(NUM_CORES)\n",
    "        # map consumes the whole iterator on the spot, so we have to use itertools.islice to fake mini-batching\n",
    "        validation_documents_reps = {}\n",
    "        mini_batch_size = 1000\n",
    "        while True:\n",
    "            threaded_reps_partial = pool.map(infer_one_doc, itertools.islice(generator_func, mini_batch_size))\n",
    "            info(\"Finished: {}\".format(str(validation_docs_iterator.curr_index)))\n",
    "            if threaded_reps_partial:\n",
    "                #threaded_reps.extend(threaded_reps_partial)\n",
    "                validation_documents_reps.update(threaded_reps_partial)\n",
    "            else:\n",
    "                break\n",
    "\n",
    "                \n",
    "        # create matrix for the validation vectors\n",
    "        for validation_doc_id in val_docs_list:\n",
    "            validation_vectors.append(validation_documents_reps[validation_doc_id])\n",
    "            val_labels = [classf for classf in doc_classification_map[validation_doc_id] if classf in classifications]\n",
    "            validation_labels.append(one_hot_encoder.get_label_vector(val_labels))\n",
    "        validation_vectors_matrix = np.array(validation_vectors)\n",
    "        validation_labels = np.array(validation_labels)\n",
    "        pickle.dump(validation_vectors_matrix, open(os.path.join(doc2vec_model_save_location, GLOBAL_VARS.MODEL_NAME, VALIDATION_MATRIX), 'w'))\n",
    "    \n",
    "    return validation_vectors_matrix, validation_labels"
   ]
  },
  {
   "cell_type": "code",
   "execution_count": 16,
   "metadata": {
    "collapsed": true
   },
   "outputs": [],
   "source": [
    "def get_validation_doc2vec_spark_vectors(validation_vectors_matrix, classification, doc_classification_map):\n",
    "    validation_vectors = []\n",
    "    for (index, doc_id) in enumerate(validation_docs_list):\n",
    "        # converting from memmap to a normal array as spark is unable to convert memmap to a spark Vector\n",
    "        validation_vector = validation_vectors_matrix[index]\n",
    "        validation_vectors.append(get_training_vector(classification, validation_vector, \n",
    "                                                    doc_classification_map[doc_id]))\n",
    "    validation_vectors = sc.parallelize(validation_vectors)\n",
    "    info(\"Finished getting validation vectors\")\n",
    "    return validation_vectors"
   ]
  },
  {
   "cell_type": "code",
   "execution_count": 17,
   "metadata": {
    "collapsed": true
   },
   "outputs": [],
   "source": [
    "class OneHotEncoder():\n",
    "    \n",
    "    def __init__(self, classifications):\n",
    "        self.classifications = classifications\n",
    "        self.one_hot_indices = {}\n",
    "\n",
    "        # convert character classifications to bit vectors\n",
    "        for i, clssf in enumerate(classifications):\n",
    "            bits = [0] * len(classifications)\n",
    "            bits[i] = 1\n",
    "            self.one_hot_indices[clssf] = i\n",
    "    \n",
    "    def get_label_vector(self, labels):\n",
    "        \"\"\"\n",
    "        classes: array of string with the classes assigned to the instance\n",
    "        \"\"\"\n",
    "        output_vector = [0] * len(self.classifications)\n",
    "        for label in labels:\n",
    "            index = self.one_hot_indices[label]\n",
    "            output_vector[index] = 1\n",
    "            \n",
    "        return output_vector\n",
    "\n",
    "def get_training_data(doc2vec_model, classifications):\n",
    "    one_hot_encoder = OneHotEncoder(classifications)\n",
    "    training_data = []\n",
    "    training_labels = []\n",
    "    for doc_id in training_docs_list:\n",
    "        # converting from memmap to a normal array\n",
    "        normal_array = []\n",
    "        normal_array[:] = doc2vec_model.docvecs[doc_id][:]\n",
    "        training_data.append(normal_array)\n",
    "        eligible_classifications = [clssf for clssf in doc_classification_map[doc_id] if clssf in classifications]\n",
    "        training_labels.append(one_hot_encoder.get_label_vector(eligible_classifications))\n",
    "    training_labels = np.array(training_labels)\n",
    "    training_data = np.array(training_data)\n",
    "    return training_data, training_labels"
   ]
  },
  {
   "cell_type": "code",
   "execution_count": 18,
   "metadata": {
    "collapsed": false
   },
   "outputs": [],
   "source": [
    "class TrainingDocumentGenerator(object):\n",
    "    def __init__(self, filename, training_docs_list):\n",
    "        self.filename = filename\n",
    "        self.training_docs_list = training_docs_list\n",
    "    def __iter__(self):\n",
    "        with open(self.filename) as file_obj:\n",
    "            for line in file_obj:\n",
    "                if not line.strip(): continue\n",
    "                (doc_id, text) = eval(line)\n",
    "                if doc_id in self.training_docs_list:\n",
    "                    yield LabeledSentence(words=stemtokenizer(text), tags=[doc_id])\n",
    "                    \n",
    "class DocumentBatchGenerator(object):\n",
    "    def __init__(self, filename_prefix, filename_docids_prefix, batch_size=10000 ):\n",
    "        \"\"\"\n",
    "        batch_size cant be > 10,000 due to a limitation in doc2vec training, \n",
    "        None means no batching (only use for inference)\n",
    "        \"\"\"\n",
    "        assert batch_size <= 10000 or batch_size is None\n",
    "        self.filename_prefix = filename_prefix\n",
    "        self.filename_docids_prefix = filename_docids_prefix\n",
    "        self.curr_lines = []\n",
    "        self.curr_docids = []\n",
    "        self.batch_size = batch_size\n",
    "        self.curr_index = 0\n",
    "        self.batch_end = -1\n",
    "    def load_new_batch_in_memory(self):\n",
    "        del self.curr_lines, self.curr_docids\n",
    "        self.curr_lines, self.docids = [], []\n",
    "        info(\"Loading new batch for index: {}\".format(self.curr_index) )\n",
    "        try:\n",
    "            with open(self.filename_prefix + str(self.curr_index)) as preproc_file:\n",
    "                for line in preproc_file:\n",
    "                    self.curr_lines.append(line.split(\" \"))\n",
    "#                     if i % 1000 == 0:\n",
    "#                         print i\n",
    "            self.curr_docids = pickle.load(open(self.filename_docids_prefix + str(self.curr_index), \"r\"))\n",
    "            self.batch_end = self.curr_index + len(self.curr_lines) -1 \n",
    "            info(\"Finished loading new batch\")\n",
    "        except IOError:\n",
    "            info(\"No more batches to load, exiting at index: {}\".format(self.curr_index))\n",
    "            raise StopIteration()\n",
    "    def __iter__(self):\n",
    "        while True:\n",
    "            if self.curr_index > self.batch_end:\n",
    "                self.load_new_batch_in_memory()\n",
    "            for (doc_id, tokens) in zip(self.curr_docids, self.curr_lines):\n",
    "                if self.batch_size is not None:\n",
    "                    curr_batch_iter = 0\n",
    "                    # divide the document to batches according to the batch size\n",
    "                    while curr_batch_iter < len(tokens):\n",
    "                        yield LabeledSentence(words=tokens[curr_batch_iter: curr_batch_iter + self.batch_size], tags=[doc_id])\n",
    "                        curr_batch_iter += self.batch_size\n",
    "                else:\n",
    "                    yield doc_id, tokens\n",
    "                self.curr_index += 1\n",
    "\n",
    "class Word2VecTrainingDocumentGenerator(object):\n",
    "    def __init__(self, filename, training_docs_list):\n",
    "        self.filename = filename\n",
    "        self.training_docs_list = training_docs_list\n",
    "    def __iter__(self):\n",
    "        with open(self.filename) as file_obj:\n",
    "            for line in file_obj:\n",
    "                if not line.strip(): continue\n",
    "                (doc_id, text) = eval(line)\n",
    "                if doc_id in self.training_docs_list:\n",
    "                    yield stemtokenizer(text)\n",
    "                \n",
    "class ValidationDocumentGenerator(object):\n",
    "    def __init__(self, filename, validation_docs_list):\n",
    "        self.filename = filename\n",
    "        self.validation_docs_list = validation_docs_list\n",
    "    def __iter__(self):\n",
    "        with open(self.filename) as file_obj:\n",
    "            for line in file_obj:\n",
    "                if not line.strip(): continue\n",
    "                (doc_id, text) = eval(line)\n",
    "                if doc_id in self.validation_docs_list:\n",
    "                    yield doc_id, stemtokenizer(text)\n",
    "                    \n",
    "class StochasticDocumentGenerator(object):\n",
    "    \"\"\"\n",
    "    Randomly shuffle rows while reading them\n",
    "    \"\"\"\n",
    "    def __init__(self, filename, training_docs_list, line_positions):\n",
    "        self.filename = filename\n",
    "        self.training_docs_list = training_docs_list\n",
    "        self.line_positions = line_positions\n",
    "        self.lines = set(line_positions.keys())\n",
    "    def __iter__(self):\n",
    "        with open(self.filename) as file_obj:\n",
    "            while len(self.lines) > 0:\n",
    "                random_line = random.sample(self.lines,1)[0]\n",
    "                self.lines.remove(random_line)\n",
    "                file_obj.seek(self.line_positions[random_line])\n",
    "                line = file_obj.readline()\n",
    "                if not line.strip(): continue\n",
    "#                 print random_line, self.line_positions[random_line], line[:30]\n",
    "                (doc_id, text) = eval(line)\n",
    "                # print random_line , doc_id\n",
    "                if doc_id in self.training_docs_list:\n",
    "                    yield LabeledSentence(words=stemtokenizer(text), tags=[doc_id])\n",
    "#                     yield doc_id"
   ]
  },
  {
   "cell_type": "markdown",
   "metadata": {},
   "source": [
    "### Doc2vec and SVM Parameters"
   ]
  },
  {
   "cell_type": "code",
   "execution_count": 19,
   "metadata": {
    "collapsed": true
   },
   "outputs": [],
   "source": [
    "DOC2VEC_SIZE = 200\n",
    "DOC2VEC_WINDOW = 8\n",
    "DOC2VEC_MAX_VOCAB_SIZE = None\n",
    "DOC2VEC_SAMPLE = 1e-3\n",
    "DOC2VEC_TYPE = 1\n",
    "DOC2VEC_HIERARCHICAL_SAMPLE = 0\n",
    "DOC2VEC_NEGATIVE_SAMPLE_SIZE = 10\n",
    "DOC2VEC_CONCAT = 0\n",
    "DOC2VEC_MEAN = 1\n",
    "DOC2VEC_TRAIN_WORDS = 0\n",
    "DOC2VEC_EPOCHS = 1 # we do our training manually one epoch at a time\n",
    "DOC2VEC_MAX_EPOCHS = 20\n",
    "REPORT_DELAY = 20 # report the progress every x seconds\n",
    "REPORT_VOCAB_PROGRESS = 10000 # report vocab progress every x documents"
   ]
  },
  {
   "cell_type": "code",
   "execution_count": 20,
   "metadata": {
    "collapsed": false
   },
   "outputs": [],
   "source": [
    "SVM_ITERATIONS = 100\n",
    "SVM_CONVERGENCE = 0.001\n",
    "SVM_REG = 0.001\n",
    "SVM_CLASS_WEIGHTS = 'balanced'\n",
    "GLOBAL_VARS.SVM_MODEL_NAME = 'svm_iter_{}_reg_{}_classweights_{}'.format(SVM_ITERATIONS, SVM_REG, str(SVM_CLASS_WEIGHTS))"
   ]
  },
  {
   "cell_type": "code",
   "execution_count": 21,
   "metadata": {
    "collapsed": true
   },
   "outputs": [],
   "source": [
    "def get_svm_model_path(method, classification, reg=SVM_REG, iterations=SVM_ITERATIONS):\n",
    "    location = os.path.join(save_parent_location, \"models\", method, \n",
    "                            \"iter_\" + str(iterations) + \"_reg_\" + str(reg),\n",
    "                            classification + \"_model.svm\")\n",
    "    ensure_hdfs_location_exists(location)\n",
    "    return location"
   ]
  },
  {
   "cell_type": "markdown",
   "metadata": {},
   "source": [
    "## Create the Doc2vec model"
   ]
  },
  {
   "cell_type": "code",
   "execution_count": 22,
   "metadata": {
    "collapsed": false
   },
   "outputs": [
    {
     "data": {
      "text/plain": [
       "'doc2vec_size_200_w_8_type_dm_concat_0_mean_1_trainwords_0_hs_0_neg_10_vocabsize_None/epoch_{}'"
      ]
     },
     "execution_count": 22,
     "metadata": {},
     "output_type": "execute_result"
    }
   ],
   "source": [
    "placeholder_model_name = 'doc2vec_size_{}_w_{}_type_{}_concat_{}_mean_{}_trainwords_{}_hs_{}_neg_{}_vocabsize_{}'.format(DOC2VEC_SIZE, \n",
    "                                                                DOC2VEC_WINDOW, \n",
    "                                                                'dm' if DOC2VEC_TYPE == 1 else 'pv-dbow',\n",
    "                                                                DOC2VEC_CONCAT, DOC2VEC_MEAN,\n",
    "                                                                DOC2VEC_TRAIN_WORDS,\n",
    "                                                                DOC2VEC_HIERARCHICAL_SAMPLE,DOC2VEC_NEGATIVE_SAMPLE_SIZE,\n",
    "                                                                str(DOC2VEC_MAX_VOCAB_SIZE))\n",
    "GLOBAL_VARS.DOC2VEC_MODEL_NAME = placeholder_model_name\n",
    "placeholder_model_name = os.path.join(placeholder_model_name, \"epoch_{}\")\n",
    "placeholder_model_name"
   ]
  },
  {
   "cell_type": "code",
   "execution_count": 23,
   "metadata": {
    "collapsed": false
   },
   "outputs": [],
   "source": [
    "doc2vec_model = Doc2Vec(size=DOC2VEC_SIZE , window=DOC2VEC_WINDOW, min_count=MIN_WORD_COUNT, \n",
    "                max_vocab_size= DOC2VEC_MAX_VOCAB_SIZE,\n",
    "                sample=DOC2VEC_SAMPLE, seed=DOC2VEC_SEED, workers=NUM_CORES,\n",
    "                # doc2vec algorithm dm=1 => PV-DM, dm=2 => PV-DBOW, PV-DM dictates CBOW for words\n",
    "                dm=DOC2VEC_TYPE,\n",
    "                # hs=0 => negative sampling, hs=1 => hierarchical softmax\n",
    "                hs=DOC2VEC_HIERARCHICAL_SAMPLE, negative=DOC2VEC_NEGATIVE_SAMPLE_SIZE,\n",
    "                dm_concat=DOC2VEC_CONCAT,\n",
    "                # would train words with skip-gram on top of cbow, we don't need that for now\n",
    "                dbow_words=DOC2VEC_TRAIN_WORDS,\n",
    "                iter=DOC2VEC_EPOCHS)\n",
    "\n",
    "GLOBAL_VARS.DOC2VEC_MODEL = doc2vec_model"
   ]
  },
  {
   "cell_type": "markdown",
   "metadata": {},
   "source": [
    "## Actual Training, validation and Metrics Loop"
   ]
  },
  {
   "cell_type": "code",
   "execution_count": 24,
   "metadata": {
    "collapsed": false
   },
   "outputs": [
    {
     "name": "stderr",
     "output_type": "stream",
     "text": [
      "Using Theano backend.\n"
     ]
    }
   ],
   "source": [
    "from keras.layers import Input, Dense, Dropout\n",
    "from keras.models import Model\n",
    "from sklearn.model_selection import ParameterSampler\n",
    "import keras"
   ]
  },
  {
   "cell_type": "code",
   "execution_count": 25,
   "metadata": {
    "collapsed": true
   },
   "outputs": [],
   "source": [
    "doc2vec_model.min_alpha = 0.025\n",
    "epoch_validation_metrics = []\n",
    "epoch_training_metrics = []\n",
    "epoch_word2vec_metrics = []\n",
    "classifications = sections\n",
    "classifications_type = 'sections'"
   ]
  },
  {
   "cell_type": "code",
   "execution_count": 26,
   "metadata": {
    "collapsed": true
   },
   "outputs": [],
   "source": [
    "def create_keras_nn_model(input_size, output_size, \n",
    "                          first_hidden_layer_size, first_hidden_layer_activation, \n",
    "                          second_hidden_layer_size, second_hidden_layer_activation, \n",
    "                          input_dropout_do, hidden_dropout_do):\n",
    "    \n",
    "    doc_input = Input(shape=(DOC2VEC_SIZE,), name='doc_input')\n",
    "    if input_dropout_do:\n",
    "        hidden = Dropout(0.7)(doc_input)\n",
    "    hidden = Dense(first_hidden_layer_size, activation=first_hidden_layer_activation, \n",
    "                   name='hidden_layer_{}'.format(first_hidden_layer_activation))(doc_input if not input_dropout_do else hidden)\n",
    "    if hidden_dropout_do:\n",
    "        hidden = Dropout(0.5)(hidden)\n",
    "    if second_hidden_layer_size is not None:\n",
    "        hidden = Dense(second_hidden_layer_size, activation=second_hidden_layer_activation, \n",
    "                       name='hidden_layer2_{}'.format(second_hidden_layer_activation))(hidden)\n",
    "    softmax_output = Dense(output_size, activation='sigmoid', name='softmax_output')(hidden)\n",
    "\n",
    "    model = Model(input=doc_input, output=softmax_output)\n",
    "    model.compile(optimizer='rmsprop', loss='binary_crossentropy')\n",
    "    \n",
    "    return model"
   ]
  },
  {
   "cell_type": "code",
   "execution_count": 27,
   "metadata": {
    "collapsed": true
   },
   "outputs": [],
   "source": [
    "VALIDATION_METRICS_FILENAME= '{}_validation_metrics.pkl'.format(classifications_type)\n",
    "TRAINING_METRICS_FILENAME = '{}_training_metrics.pkl'.format(classifications_type)\n",
    "METRICS_FIG_PNG_FILENAME = '{}_validation_metrics.png'.format(classifications_type)\n",
    "METRICS_FIG_PDF_FILENAME = '{}_validation_metrics.pdf'.format(classifications_type)\n",
    "WORD2VEC_METRICS_FILENAME = 'word2vec_metrics.pkl'\n",
    "\n",
    "# for epoch in range(DOC2VEC_MAX_EPOCHS):\n",
    "#     GLOBAL_VARS.MODEL_NAME = placeholder_model_name.format(epoch)\n",
    "#     ensure_disk_location_exists(os.path.join(doc2vec_model_save_location, GLOBAL_VARS.MODEL_NAME, \n",
    "#                                              GLOBAL_VARS.SVM_MODEL_NAME))\n",
    "#     pickle.dump(metrics, open(os.path.join(doc2vec_model_save_location, GLOBAL_VARS.MODEL_NAME, GLOBAL_VARS.SVM_MODEL_NAME, METRICS), 'w'))\n",
    "# fig_save_location = placeholder_model_name.format('run')\n",
    "# plt.savefig(os.path.join(fig_save_location))"
   ]
  },
  {
   "cell_type": "code",
   "execution_count": 28,
   "metadata": {
    "collapsed": true
   },
   "outputs": [],
   "source": [
    "get_binary_0_5 = lambda x: 1 if x > 0.5 else 0\n",
    "get_binary_0_5 = np.vectorize(get_binary_0_5)"
   ]
  },
  {
   "cell_type": "code",
   "execution_count": 64,
   "metadata": {
    "collapsed": true
   },
   "outputs": [],
   "source": [
    "NN_OUTPUT_NEURONS = len(classifications)\n",
    "NN_MAX_EPOCHS = 15\n",
    "NN_BATCH_SIZE = 1024\n",
    "NN_RANDOM_SEARCH_BUDGET = 10\n",
    "NN_PARAM_SAMPLE_SEED = 1234\n",
    "first_hidden_layer_sizes = [200]\n",
    "second_hidden_layer_sizes = [200]\n",
    "first_hidden_layer_activations = ['softmax']\n",
    "second_hidden_layer_activations = ['relu']\n",
    "# first_hidden_layer_activations = ['relu']\n",
    "# second_hidden_layer_activations = ['relu']\n",
    "input_dropout_options = [False]\n",
    "hidden_dropout_options = [True]\n",
    "\n",
    "first_hidden_layer_sizes = [200,500]\n",
    "second_hidden_layer_sizes = [None,50,200,500,1000]\n",
    "first_hidden_layer_activations = ['relu','sigmoid', 'tanh', 'softmax']\n",
    "second_hidden_layer_activations = ['relu','sigmoid', 'tanh', 'softmax']\n",
    "# first_hidden_layer_activations = ['relu']\n",
    "# second_hidden_layer_activations = ['relu']\n",
    "input_dropout_options = [False, True]\n",
    "hidden_dropout_options = [False, True]"
   ]
  },
  {
   "cell_type": "code",
   "execution_count": 30,
   "metadata": {
    "collapsed": true
   },
   "outputs": [],
   "source": [
    "param_sampler = ParameterSampler({\n",
    "        'first_hidden_layer_size':first_hidden_layer_sizes,\n",
    "        'first_hidden_layer_activation':first_hidden_layer_activations,\n",
    "        'second_hidden_layer_size':second_hidden_layer_sizes,\n",
    "        'second_hidden_layer_activation':second_hidden_layer_activations,\n",
    "        'input_dropout':input_dropout_options,\n",
    "        'hidden_dropout':hidden_dropout_options\n",
    "    }, n_iter=NN_RANDOM_SEARCH_BUDGET, random_state=NN_PARAM_SAMPLE_SEED)"
   ]
  },
  {
   "cell_type": "code",
   "execution_count": 31,
   "metadata": {
    "collapsed": false
   },
   "outputs": [
    {
     "name": "stderr",
     "output_type": "stream",
     "text": [
      "2017-01-22 00:33:10,504 : INFO : ****************** Epoch 16 --- Working on doc2vec_size_100_w_5_type_dm_concat_1_mean_0_trainwords_0_hs_0_neg_10_vocabsize_None/epoch_16 *******************\n",
      "2017-01-22 00:33:10,511 : INFO : loading Doc2Vec object from /mnt/data2/shalaby/parameter_search_doc2vec_models_new/full/doc2vec_size_100_w_5_type_dm_concat_1_mean_0_trainwords_0_hs_0_neg_10_vocabsize_None/epoch_16/model\n",
      "2017-01-22 00:33:17,882 : INFO : loading docvecs recursively from /mnt/data2/shalaby/parameter_search_doc2vec_models_new/full/doc2vec_size_100_w_5_type_dm_concat_1_mean_0_trainwords_0_hs_0_neg_10_vocabsize_None/epoch_16/model.docvecs.* with mmap=None\n",
      "2017-01-22 00:33:17,884 : INFO : loading doctag_syn0 from /mnt/data2/shalaby/parameter_search_doc2vec_models_new/full/doc2vec_size_100_w_5_type_dm_concat_1_mean_0_trainwords_0_hs_0_neg_10_vocabsize_None/epoch_16/model.docvecs.doctag_syn0.npy with mmap=None\n",
      "2017-01-22 00:33:18,959 : INFO : loading syn1neg from /mnt/data2/shalaby/parameter_search_doc2vec_models_new/full/doc2vec_size_100_w_5_type_dm_concat_1_mean_0_trainwords_0_hs_0_neg_10_vocabsize_None/epoch_16/model.syn1neg.npy with mmap=None\n",
      "2017-01-22 00:33:22,464 : INFO : loading syn0 from /mnt/data2/shalaby/parameter_search_doc2vec_models_new/full/doc2vec_size_100_w_5_type_dm_concat_1_mean_0_trainwords_0_hs_0_neg_10_vocabsize_None/epoch_16/model.syn0.npy with mmap=None\n",
      "2017-01-22 00:33:22,770 : INFO : setting ignored attribute syn0norm to None\n",
      "2017-01-22 00:33:22,772 : INFO : setting ignored attribute cum_table to None\n",
      "2017-01-22 00:33:23,557 : INFO : Getting training Data\n"
     ]
    }
   ],
   "source": [
    "epoch = 16\n",
    "GLOBAL_VARS.MODEL_NAME = placeholder_model_name.format(epoch)\n",
    "info(\"****************** Epoch {} --- Working on {} *******************\".format(epoch, GLOBAL_VARS.MODEL_NAME))\n",
    "\n",
    "# if we have the model, just load it, otherwise train the previous model\n",
    "if os.path.exists(os.path.join(doc2vec_model_save_location, GLOBAL_VARS.MODEL_NAME, MODEL_PREFIX)):\n",
    "    doc2vec_model = Doc2Vec.load(os.path.join(doc2vec_model_save_location, GLOBAL_VARS.MODEL_NAME, MODEL_PREFIX))\n",
    "    GLOBAL_VARS.DOC2VEC_MODEL = doc2vec_model\n",
    "\n",
    "info('Getting training Data')\n",
    "X, y = get_training_data(doc2vec_model, classifications)\n"
   ]
  },
  {
   "cell_type": "code",
   "execution_count": 32,
   "metadata": {
    "collapsed": false
   },
   "outputs": [
    {
     "name": "stderr",
     "output_type": "stream",
     "text": [
      "2017-01-22 00:34:27,764 : INFO : Getting Validation Embeddings\n",
      "2017-01-22 00:34:27,766 : INFO : ===== Loading validation vectors\n"
     ]
    }
   ],
   "source": [
    "# Validation Metrics\n",
    "info('Getting Validation Embeddings')\n",
    "Xv, yv = get_validation_docs_with_inference_new(doc2vec_model, doc_classification_map, classifications, \n",
    "                                                validation_docs_list, validation_preprocessed_files_prefix,\n",
    "                                                validation_preprocessed_docids_files_prefix)"
   ]
  },
  {
   "cell_type": "code",
   "execution_count": 41,
   "metadata": {
    "collapsed": false
   },
   "outputs": [],
   "source": [
    "early_stopper = keras.callbacks.EarlyStopping(monitor='val_loss', min_delta=0.01, patience=3, verbose=1, mode='auto')"
   ]
  },
  {
   "cell_type": "code",
   "execution_count": 54,
   "metadata": {
    "collapsed": true
   },
   "outputs": [],
   "source": [
    "import time"
   ]
  },
  {
   "cell_type": "code",
   "execution_count": 55,
   "metadata": {
    "collapsed": true
   },
   "outputs": [],
   "source": [
    "from collections import defaultdict"
   ]
  },
  {
   "cell_type": "code",
   "execution_count": null,
   "metadata": {
    "collapsed": false
   },
   "outputs": [
    {
     "name": "stdout",
     "output_type": "stream",
     "text": [
      "===================================================================================\n",
      "========== 1st Layer Size: 200, 1st Layer Activation: tanh, \n",
      " 2nd Layer Size: 500, 2nd Layer Activation: tanh, \n",
      "Input Dropout: True, Hidden Dropout: True \n",
      "==========================\n",
      "____________________________________________________________________________________________________\n",
      "Layer (type)                     Output Shape          Param #     Connected to                     \n",
      "====================================================================================================\n",
      "doc_input (InputLayer)           (None, 100)           0                                            \n",
      "____________________________________________________________________________________________________\n",
      "dropout_29 (Dropout)             (None, 100)           0           doc_input[0][0]                  \n",
      "____________________________________________________________________________________________________\n",
      "hidden_layer_tanh (Dense)        (None, 200)           20200       dropout_29[0][0]                 \n",
      "____________________________________________________________________________________________________\n",
      "dropout_30 (Dropout)             (None, 200)           0           hidden_layer_tanh[0][0]          \n",
      "____________________________________________________________________________________________________\n",
      "hidden_layer2_tanh (Dense)       (None, 500)           100500      dropout_30[0][0]                 \n",
      "____________________________________________________________________________________________________\n",
      "softmax_output (Dense)           (None, 8)             4008        hidden_layer2_tanh[0][0]         \n",
      "====================================================================================================\n"
     ]
    },
    {
     "name": "stderr",
     "output_type": "stream",
     "text": [
      "2017-01-22 23:18:08,422 : INFO : ======= NN Epoch: 1 ==========\n"
     ]
    },
    {
     "name": "stdout",
     "output_type": "stream",
     "text": [
      "Total params: 124708\n",
      "____________________________________________________________________________________________________\n"
     ]
    }
   ],
   "source": [
    "batch_dict = {}\n",
    "for batch_sz in [64,128,256,512,1024,2048]:\n",
    "# for batch_sz in [2048]:\n",
    "    NN_BATCH_SIZE = batch_sz\n",
    "    batch_dict[batch_sz] = {}\n",
    "    start_time = time.time()\n",
    "    param_sampler = ParameterSampler({\n",
    "            'first_hidden_layer_size':first_hidden_layer_sizes,\n",
    "            'first_hidden_layer_activation':first_hidden_layer_activations,\n",
    "            'second_hidden_layer_size':second_hidden_layer_sizes,\n",
    "            'second_hidden_layer_activation':second_hidden_layer_activations,\n",
    "            'input_dropout':input_dropout_options,\n",
    "            'hidden_dropout':hidden_dropout_options\n",
    "        }, n_iter=NN_RANDOM_SEARCH_BUDGET, random_state=NN_PARAM_SAMPLE_SEED)\n",
    "    for parameters in param_sampler:\n",
    "        first_hidden_layer_size = parameters['first_hidden_layer_size']\n",
    "        first_hidden_layer_activation = parameters['first_hidden_layer_activation']\n",
    "        second_hidden_layer_size = parameters['second_hidden_layer_size']\n",
    "        second_hidden_layer_activation = parameters['second_hidden_layer_activation']\n",
    "        input_dropout_do = parameters['input_dropout']\n",
    "        hidden_dropout_do = parameters['hidden_dropout']\n",
    "\n",
    "        print (\"===================================================================================\\n\" + \\\n",
    "              \"========== 1st Layer Size: {}, 1st Layer Activation: {}, \\n 2nd Layer Size: {}, 2nd Layer Activation: {}, \\n\" + \\\n",
    "              \"Input Dropout: {}, Hidden Dropout: {} \\n\" + \\\n",
    "              \"==========================\").format(first_hidden_layer_size, first_hidden_layer_activation, \n",
    "                                                    second_hidden_layer_size, second_hidden_layer_activation, \n",
    "                                                    input_dropout_do, hidden_dropout_do)\n",
    "\n",
    "        GLOBAL_VARS.NN_MODEL_NAME = 'nn_1st-size_{}_1st-acc_{}_2nd-size_{}_2nd-acc_{}_in-drop_{}_hid-drop_{}'.format(\n",
    "            first_hidden_layer_size, first_hidden_layer_activation, second_hidden_layer_size, \n",
    "            second_hidden_layer_activation, input_dropout_do, hidden_dropout_do\n",
    "        )\n",
    "\n",
    "        model = create_keras_nn_model(DOC2VEC_SIZE, NN_OUTPUT_NEURONS, \n",
    "                                      first_hidden_layer_size, first_hidden_layer_activation, \n",
    "                                      second_hidden_layer_size, second_hidden_layer_activation, \n",
    "                                      input_dropout_do, hidden_dropout_do)\n",
    "        model.summary()\n",
    "        \n",
    "        batch_dict[batch_sz]['metrics'] = []\n",
    "        batch_dict[batch_sz]['history'] = []\n",
    "\n",
    "        for nn_epoch in range(1, NN_MAX_EPOCHS+1):\n",
    "            info('======= NN Epoch: {} =========='.format(nn_epoch)) \n",
    "            %time history = model.fit(x=X, y=y, validation_data=(Xv,yv), batch_size=NN_BATCH_SIZE, nb_epoch=1, verbose=1, callbacks=[early_stopper])\n",
    "    #         info('Evaluating on Training Data')\n",
    "    #         yp = model.predict(X, batch_size=NN_BATCH_SIZE)\n",
    "    #         yp_binary = get_binary_0_5(yp)\n",
    "    #         #print yp\n",
    "    #         info('Generating Training Metrics')\n",
    "    #         training_metrics = get_metrics(y, yp, yp_binary)\n",
    "    #         print \"** Training Metrics: Cov Err: {:.3f}, Avg Labels: {:.3f}, \\n\\t\\t Top 1: {:.3f}, Top 3: {:.3f}, Top 5: {:.3f}, \\n\\t\\t F1 Micro: {:.3f}, F1 Macro: {:.3f}, Total Pos: {:,d}\".format(\n",
    "    #             training_metrics['coverage_error'], training_metrics['average_num_of_labels'], \n",
    "    #             training_metrics['top_1'], training_metrics['top_3'], training_metrics['top_5'], \n",
    "    #             training_metrics['f1_micro'],training_metrics['f1_macro'],  training_metrics['total_positive'])\n",
    "\n",
    "            info('Evaluating on Validation Data')\n",
    "            yvp = model.predict(Xv)\n",
    "            yvp_binary = get_binary_0_5(yvp)\n",
    "            #print yvp\n",
    "            info('Generating Validation Metrics')\n",
    "            validation_metrics = get_metrics(yv, yvp, yvp_binary)\n",
    "            print \"****** Validation Metrics: Cov Err: {:.3f}, Avg Labels: {:.3f}, \\n\\t\\t Top 1: {:.3f}, Top 3: {:.3f}, Top 5: {:.3f}, \\n\\t\\t F1 Micro: {:.3f}, F1 Macro: {:.3f}, Total Pos: {:,d}\".format(\n",
    "                validation_metrics['coverage_error'], validation_metrics['average_num_of_labels'], \n",
    "                validation_metrics['top_1'], validation_metrics['top_3'], validation_metrics['top_5'], \n",
    "                validation_metrics['f1_micro'], validation_metrics['f1_macro'], validation_metrics['total_positive'])\n",
    "            \n",
    "            batch_dict[batch_sz]['metrics'].append(validation_metrics)\n",
    "            batch_dict[batch_sz]['history'].append(history)\n",
    "            \n",
    "        break\n",
    "    duration = time.time() - start_time\n",
    "    batch_dict[batch_sz]['duration'] =  duration\n"
   ]
  },
  {
   "cell_type": "code",
   "execution_count": 33,
   "metadata": {
    "collapsed": false
   },
   "outputs": [
    {
     "name": "stdout",
     "output_type": "stream",
     "text": [
      "===================================================================================\n",
      "========== 1st Layer Size: 200, 1st Layer Activation: tanh, \n",
      " 2nd Layer Size: 500, 2nd Layer Activation: tanh, \n",
      "Input Dropout: True, Hidden Dropout: True \n",
      "==========================\n",
      "____________________________________________________________________________________________________\n",
      "Layer (type)                     Output Shape          Param #     Connected to                     \n",
      "====================================================================================================\n",
      "doc_input (InputLayer)           (None, 100)           0                                            \n",
      "____________________________________________________________________________________________________\n",
      "dropout_1 (Dropout)              (None, 100)           0           doc_input[0][0]                  \n",
      "____________________________________________________________________________________________________\n",
      "hidden_layer_tanh (Dense)        (None, 200)           20200       dropout_1[0][0]                  \n",
      "____________________________________________________________________________________________________\n",
      "dropout_2 (Dropout)              (None, 200)           0           hidden_layer_tanh[0][0]          \n",
      "____________________________________________________________________________________________________\n",
      "hidden_layer2_tanh (Dense)       (None, 500)           100500      dropout_2[0][0]                  \n",
      "____________________________________________________________________________________________________\n",
      "softmax_output (Dense)           (None, 8)             4008        hidden_layer2_tanh[0][0]         \n",
      "====================================================================================================\n"
     ]
    },
    {
     "name": "stderr",
     "output_type": "stream",
     "text": [
      "2017-01-22 00:34:57,532 : INFO : ======= NN Epoch: 1 ==========\n"
     ]
    },
    {
     "name": "stdout",
     "output_type": "stream",
     "text": [
      "Total params: 124708\n",
      "____________________________________________________________________________________________________\n",
      "Train on 1286325 samples, validate on 321473 samples\n",
      "Epoch 1/1\n",
      "1286325/1286325 [==============================] - 17s - loss: 0.2860 - val_loss: 0.2146"
     ]
    },
    {
     "name": "stderr",
     "output_type": "stream",
     "text": [
      "2017-01-22 00:35:17,175 : INFO : Evaluating on Training Data\n"
     ]
    },
    {
     "name": "stdout",
     "output_type": "stream",
     "text": [
      "\n",
      "CPU times: user 9.38 s, sys: 14.2 s, total: 23.5 s\n",
      "Wall time: 19.6 s\n"
     ]
    },
    {
     "name": "stderr",
     "output_type": "stream",
     "text": [
      "2017-01-22 00:35:23,471 : INFO : Generating Training Metrics\n",
      "/home/stud/shalaby/.virtualenv/thesis-env/local/lib/python2.7/site-packages/sklearn/metrics/classification.py:1113: UndefinedMetricWarning: Precision is ill-defined and being set to 0.0 in labels with no predicted samples.\n",
      "  'precision', 'predicted', average, warn_for)\n",
      "/home/stud/shalaby/.virtualenv/thesis-env/local/lib/python2.7/site-packages/sklearn/metrics/classification.py:1113: UndefinedMetricWarning: F-score is ill-defined and being set to 0.0 in labels with no predicted samples.\n",
      "  'precision', 'predicted', average, warn_for)\n",
      "/home/stud/shalaby/.virtualenv/thesis-env/local/lib/python2.7/site-packages/sklearn/metrics/classification.py:1113: UndefinedMetricWarning: Precision is ill-defined and being set to 0.0 due to no predicted samples.\n",
      "  'precision', 'predicted', average, warn_for)\n",
      "/home/stud/shalaby/.virtualenv/thesis-env/local/lib/python2.7/site-packages/sklearn/metrics/classification.py:1113: UndefinedMetricWarning: F-score is ill-defined and being set to 0.0 due to no predicted samples.\n",
      "  'precision', 'predicted', average, warn_for)\n",
      "2017-01-22 00:35:57,556 : INFO : Evaluating on Validation Data\n"
     ]
    },
    {
     "name": "stdout",
     "output_type": "stream",
     "text": [
      "** Training Metrics: Cov Err: 1.706, Avg Labels: 1.150, \n",
      "\t\t Top 1: 0.707, Top 3: 0.935, Top 5: 0.984, \n",
      "\t\t F1 Micro: 0.600, F1 Macro: 0.386, Total Pos: 914,613\n"
     ]
    },
    {
     "name": "stderr",
     "output_type": "stream",
     "text": [
      "2017-01-22 00:36:01,866 : INFO : Generating Validation Metrics\n",
      "2017-01-22 00:36:10,031 : INFO : ======= NN Epoch: 2 ==========\n"
     ]
    },
    {
     "name": "stdout",
     "output_type": "stream",
     "text": [
      "****** Validation Metrics: Cov Err: 1.700, Avg Labels: 1.150, \n",
      "\t\t Top 1: 0.711, Top 3: 0.935, Top 5: 0.985, \n",
      "\t\t F1 Micro: 0.613, F1 Macro: 0.396, Total Pos: 236,405\n",
      "Train on 1286325 samples, validate on 321473 samples\n",
      "Epoch 1/1\n",
      "1286325/1286325 [==============================] - 18s - loss: 0.2708 - val_loss: 0.2054"
     ]
    },
    {
     "name": "stderr",
     "output_type": "stream",
     "text": [
      "2017-01-22 00:36:28,796 : INFO : Evaluating on Training Data\n"
     ]
    },
    {
     "name": "stdout",
     "output_type": "stream",
     "text": [
      "\n",
      "CPU times: user 8.3 s, sys: 14 s, total: 22.3 s\n",
      "Wall time: 18.8 s\n"
     ]
    },
    {
     "name": "stderr",
     "output_type": "stream",
     "text": [
      "2017-01-22 00:36:36,076 : INFO : Generating Training Metrics\n",
      "2017-01-22 00:37:14,305 : INFO : Evaluating on Validation Data\n"
     ]
    },
    {
     "name": "stdout",
     "output_type": "stream",
     "text": [
      "** Training Metrics: Cov Err: 1.653, Avg Labels: 1.150, \n",
      "\t\t Top 1: 0.724, Top 3: 0.944, Top 5: 0.987, \n",
      "\t\t F1 Micro: 0.598, F1 Macro: 0.403, Total Pos: 881,900\n"
     ]
    },
    {
     "name": "stderr",
     "output_type": "stream",
     "text": [
      "2017-01-22 00:37:19,389 : INFO : Generating Validation Metrics\n",
      "2017-01-22 00:37:29,588 : INFO : ======= NN Epoch: 3 ==========\n"
     ]
    },
    {
     "name": "stdout",
     "output_type": "stream",
     "text": [
      "****** Validation Metrics: Cov Err: 1.645, Avg Labels: 1.150, \n",
      "\t\t Top 1: 0.728, Top 3: 0.945, Top 5: 0.988, \n",
      "\t\t F1 Micro: 0.616, F1 Macro: 0.415, Total Pos: 230,060\n",
      "Train on 1286325 samples, validate on 321473 samples\n",
      "Epoch 1/1\n",
      "1286325/1286325 [==============================] - 25s - loss: 0.2680 - val_loss: 0.2016"
     ]
    },
    {
     "name": "stderr",
     "output_type": "stream",
     "text": [
      "2017-01-22 00:37:55,372 : INFO : Evaluating on Training Data\n"
     ]
    },
    {
     "name": "stdout",
     "output_type": "stream",
     "text": [
      "\n",
      "CPU times: user 13.3 s, sys: 18.1 s, total: 31.3 s\n",
      "Wall time: 25.3 s\n"
     ]
    },
    {
     "name": "stderr",
     "output_type": "stream",
     "text": [
      "2017-01-22 00:38:03,499 : INFO : Generating Training Metrics\n",
      "2017-01-22 00:38:47,572 : INFO : Evaluating on Validation Data\n"
     ]
    },
    {
     "name": "stdout",
     "output_type": "stream",
     "text": [
      "** Training Metrics: Cov Err: 1.653, Avg Labels: 1.150, \n",
      "\t\t Top 1: 0.726, Top 3: 0.944, Top 5: 0.987, \n",
      "\t\t F1 Micro: 0.640, F1 Macro: 0.442, Total Pos: 1,051,494\n"
     ]
    },
    {
     "name": "stderr",
     "output_type": "stream",
     "text": [
      "2017-01-22 00:38:52,884 : INFO : Generating Validation Metrics\n",
      "2017-01-22 00:39:03,518 : INFO : ======= NN Epoch: 4 ==========\n"
     ]
    },
    {
     "name": "stdout",
     "output_type": "stream",
     "text": [
      "****** Validation Metrics: Cov Err: 1.646, Avg Labels: 1.150, \n",
      "\t\t Top 1: 0.729, Top 3: 0.944, Top 5: 0.988, \n",
      "\t\t F1 Micro: 0.652, F1 Macro: 0.454, Total Pos: 268,702\n",
      "Train on 1286325 samples, validate on 321473 samples\n",
      "Epoch 1/1\n",
      "1286325/1286325 [==============================] - 25s - loss: 0.2667 - val_loss: 0.2025"
     ]
    },
    {
     "name": "stderr",
     "output_type": "stream",
     "text": [
      "2017-01-22 00:39:28,806 : INFO : Evaluating on Training Data\n"
     ]
    },
    {
     "name": "stdout",
     "output_type": "stream",
     "text": [
      "\n",
      "CPU times: user 13.2 s, sys: 18.6 s, total: 31.8 s\n",
      "Wall time: 25.3 s\n"
     ]
    },
    {
     "name": "stderr",
     "output_type": "stream",
     "text": [
      "2017-01-22 00:39:37,471 : INFO : Generating Training Metrics\n",
      "2017-01-22 00:40:22,736 : INFO : Evaluating on Validation Data\n"
     ]
    },
    {
     "name": "stdout",
     "output_type": "stream",
     "text": [
      "** Training Metrics: Cov Err: 1.663, Avg Labels: 1.150, \n",
      "\t\t Top 1: 0.715, Top 3: 0.944, Top 5: 0.989, \n",
      "\t\t F1 Micro: 0.657, F1 Macro: 0.481, Total Pos: 1,177,676\n"
     ]
    },
    {
     "name": "stderr",
     "output_type": "stream",
     "text": [
      "2017-01-22 00:40:28,288 : INFO : Generating Validation Metrics\n",
      "2017-01-22 00:40:39,891 : INFO : ======= NN Epoch: 5 ==========\n"
     ]
    },
    {
     "name": "stdout",
     "output_type": "stream",
     "text": [
      "****** Validation Metrics: Cov Err: 1.644, Avg Labels: 1.150, \n",
      "\t\t Top 1: 0.725, Top 3: 0.945, Top 5: 0.989, \n",
      "\t\t F1 Micro: 0.668, F1 Macro: 0.495, Total Pos: 296,876\n",
      "Train on 1286325 samples, validate on 321473 samples\n",
      "Epoch 1/1\n",
      "1286325/1286325 [==============================] - 52s - loss: 0.2659 - val_loss: 0.2002"
     ]
    },
    {
     "name": "stderr",
     "output_type": "stream",
     "text": [
      "2017-01-22 00:41:32,590 : INFO : Evaluating on Training Data\n"
     ]
    },
    {
     "name": "stdout",
     "output_type": "stream",
     "text": [
      "\n",
      "CPU times: user 12.2 s, sys: 18.1 s, total: 30.4 s\n",
      "Wall time: 52.7 s\n"
     ]
    },
    {
     "name": "stderr",
     "output_type": "stream",
     "text": [
      "2017-01-22 00:41:48,031 : INFO : Generating Training Metrics\n",
      "2017-01-22 00:42:36,222 : INFO : Evaluating on Validation Data\n"
     ]
    },
    {
     "name": "stdout",
     "output_type": "stream",
     "text": [
      "** Training Metrics: Cov Err: 1.658, Avg Labels: 1.150, \n",
      "\t\t Top 1: 0.728, Top 3: 0.941, Top 5: 0.986, \n",
      "\t\t F1 Micro: 0.641, F1 Macro: 0.427, Total Pos: 1,051,233\n"
     ]
    },
    {
     "name": "stderr",
     "output_type": "stream",
     "text": [
      "2017-01-22 00:42:41,915 : INFO : Generating Validation Metrics\n",
      "2017-01-22 00:42:53,699 : INFO : ======= NN Epoch: 6 ==========\n"
     ]
    },
    {
     "name": "stdout",
     "output_type": "stream",
     "text": [
      "****** Validation Metrics: Cov Err: 1.648, Avg Labels: 1.150, \n",
      "\t\t Top 1: 0.733, Top 3: 0.942, Top 5: 0.987, \n",
      "\t\t F1 Micro: 0.655, F1 Macro: 0.441, Total Pos: 269,826\n",
      "Train on 1286325 samples, validate on 321473 samples\n",
      "Epoch 1/1\n",
      "1286325/1286325 [==============================] - 56s - loss: 0.2652 - val_loss: 0.1994"
     ]
    },
    {
     "name": "stderr",
     "output_type": "stream",
     "text": [
      "2017-01-22 00:43:50,392 : INFO : Evaluating on Training Data\n"
     ]
    },
    {
     "name": "stdout",
     "output_type": "stream",
     "text": [
      "\n",
      "CPU times: user 13.7 s, sys: 19.3 s, total: 32.9 s\n",
      "Wall time: 56.7 s\n"
     ]
    },
    {
     "name": "stderr",
     "output_type": "stream",
     "text": [
      "2017-01-22 00:44:06,761 : INFO : Generating Training Metrics\n",
      "2017-01-22 00:44:54,399 : INFO : Evaluating on Validation Data\n"
     ]
    },
    {
     "name": "stdout",
     "output_type": "stream",
     "text": [
      "** Training Metrics: Cov Err: 1.643, Avg Labels: 1.150, \n",
      "\t\t Top 1: 0.733, Top 3: 0.944, Top 5: 0.988, \n",
      "\t\t F1 Micro: 0.640, F1 Macro: 0.485, Total Pos: 1,002,814\n"
     ]
    },
    {
     "name": "stderr",
     "output_type": "stream",
     "text": [
      "2017-01-22 00:44:59,829 : INFO : Generating Validation Metrics\n"
     ]
    },
    {
     "name": "stdout",
     "output_type": "stream",
     "text": [
      "****** Validation Metrics: Cov Err: 1.629, Avg Labels: 1.150, \n",
      "\t\t Top 1: 0.739, Top 3: 0.946, Top 5: 0.989, \n",
      "\t\t F1 Micro: 0.653, F1 Macro: 0.496, Total Pos: 257,936\n"
     ]
    }
   ],
   "source": [
    "for parameters in param_sampler:\n",
    "    first_hidden_layer_size = parameters['first_hidden_layer_size']\n",
    "    first_hidden_layer_activation = parameters['first_hidden_layer_activation']\n",
    "    second_hidden_layer_size = parameters['second_hidden_layer_size']\n",
    "    second_hidden_layer_activation = parameters['second_hidden_layer_activation']\n",
    "    input_dropout_do = parameters['input_dropout']\n",
    "    hidden_dropout_do = parameters['hidden_dropout']\n",
    "\n",
    "    print (\"===================================================================================\\n\" + \\\n",
    "          \"========== 1st Layer Size: {}, 1st Layer Activation: {}, \\n 2nd Layer Size: {}, 2nd Layer Activation: {}, \\n\" + \\\n",
    "          \"Input Dropout: {}, Hidden Dropout: {} \\n\" + \\\n",
    "          \"==========================\").format(first_hidden_layer_size, first_hidden_layer_activation, \n",
    "                                                second_hidden_layer_size, second_hidden_layer_activation, \n",
    "                                                input_dropout_do, hidden_dropout_do)\n",
    "\n",
    "    GLOBAL_VARS.NN_MODEL_NAME = 'nn_1st-size_{}_1st-acc_{}_2nd-size_{}_2nd-acc_{}_in-drop_{}_hid-drop_{}'.format(\n",
    "        first_hidden_layer_size, first_hidden_layer_activation, second_hidden_layer_size, \n",
    "        second_hidden_layer_activation, input_dropout_do, hidden_dropout_do\n",
    "    )\n",
    "    \n",
    "    model = create_keras_nn_model(DOC2VEC_SIZE, NN_OUTPUT_NEURONS, \n",
    "                                  first_hidden_layer_size, first_hidden_layer_activation, \n",
    "                                  second_hidden_layer_size, second_hidden_layer_activation, \n",
    "                                  input_dropout_do, hidden_dropout_do)\n",
    "    model.summary()\n",
    "    \n",
    "    for nn_epoch in range(1, NN_MAX_EPOCHS+1):\n",
    "        info('======= NN Epoch: {} =========='.format(nn_epoch)) \n",
    "        %time history = model.fit(x=X, y=y, validation_data=(Xv,yv), batch_size=NN_BATCH_SIZE, nb_epoch=1, verbose=1)\n",
    "        info('Evaluating on Training Data')\n",
    "        yp = model.predict(X, batch_size=NN_BATCH_SIZE)\n",
    "        yp_binary = get_binary_0_5(yp)\n",
    "        #print yp\n",
    "        info('Generating Training Metrics')\n",
    "        training_metrics = get_metrics(y, yp, yp_binary)\n",
    "        print \"** Training Metrics: Cov Err: {:.3f}, Avg Labels: {:.3f}, \\n\\t\\t Top 1: {:.3f}, Top 3: {:.3f}, Top 5: {:.3f}, \\n\\t\\t F1 Micro: {:.3f}, F1 Macro: {:.3f}, Total Pos: {:,d}\".format(\n",
    "            training_metrics['coverage_error'], training_metrics['average_num_of_labels'], \n",
    "            training_metrics['top_1'], training_metrics['top_3'], training_metrics['top_5'], \n",
    "            training_metrics['f1_micro'],training_metrics['f1_macro'],  training_metrics['total_positive'])\n",
    "\n",
    "        info('Evaluating on Validation Data')\n",
    "        yvp = model.predict(Xv)\n",
    "        yvp_binary = get_binary_0_5(yvp)\n",
    "        #print yvp\n",
    "        info('Generating Validation Metrics')\n",
    "        validation_metrics = get_metrics(yv, yvp, yvp_binary)\n",
    "        print \"****** Validation Metrics: Cov Err: {:.3f}, Avg Labels: {:.3f}, \\n\\t\\t Top 1: {:.3f}, Top 3: {:.3f}, Top 5: {:.3f}, \\n\\t\\t F1 Micro: {:.3f}, F1 Macro: {:.3f}, Total Pos: {:,d}\".format(\n",
    "            validation_metrics['coverage_error'], validation_metrics['average_num_of_labels'], \n",
    "            validation_metrics['top_1'], validation_metrics['top_3'], validation_metrics['top_5'], \n",
    "            validation_metrics['f1_micro'], validation_metrics['f1_macro'], validation_metrics['total_positive'])\n",
    "\n",
    "        if nn_epoch > 5:\n",
    "            break\n",
    "    break\n"
   ]
  },
  {
   "cell_type": "code",
   "execution_count": 70,
   "metadata": {
    "collapsed": false
   },
   "outputs": [
    {
     "name": "stdout",
     "output_type": "stream",
     "text": [
      "===================================================================================\n",
      "========== 1st Layer Size: 200, 1st Layer Activation: tanh, \n",
      " 2nd Layer Size: 500, 2nd Layer Activation: tanh, \n",
      "Input Dropout: True, Hidden Dropout: True==========================\n",
      "____________________________________________________________________________________________________\n",
      "Layer (type)                     Output Shape          Param #     Connected to                     \n",
      "====================================================================================================\n",
      "doc_input (InputLayer)           (None, 100)           0                                            \n",
      "____________________________________________________________________________________________________\n",
      "dropout_6 (Dropout)              (None, 100)           0           doc_input[0][0]                  \n",
      "____________________________________________________________________________________________________\n",
      "hidden_layer_tanh (Dense)        (None, 200)           20200       dropout_6[0][0]                  \n",
      "____________________________________________________________________________________________________\n",
      "dropout_7 (Dropout)              (None, 200)           0           hidden_layer_tanh[0][0]          \n",
      "____________________________________________________________________________________________________\n",
      "hidden_layer2_tanh (Dense)       (None, 500)           100500      dropout_7[0][0]                  \n",
      "____________________________________________________________________________________________________\n",
      "softmax_output (Dense)           (None, 8)             4008        hidden_layer2_tanh[0][0]         \n",
      "====================================================================================================\n"
     ]
    },
    {
     "name": "stderr",
     "output_type": "stream",
     "text": [
      "2017-01-21 14:23:32,086 : INFO : ======= NN Epoch: 1 ==========\n"
     ]
    },
    {
     "name": "stdout",
     "output_type": "stream",
     "text": [
      "Total params: 124708\n",
      "____________________________________________________________________________________________________\n",
      "Epoch 1/1\n",
      "1286325/1286325 [==============================] - 29s - loss: 0.3009    \n",
      "CPU times: user 8.56 s, sys: 8.9 s, total: 17.5 s\n",
      "Wall time: 36.2 s\n"
     ]
    },
    {
     "name": "stderr",
     "output_type": "stream",
     "text": [
      "2017-01-21 14:24:08,336 : INFO : Evaluating on Training Data\n",
      "2017-01-21 14:24:23,481 : INFO : Generating Training Metrics\n",
      "2017-01-21 14:25:50,568 : INFO : Evaluating on Validation Data\n"
     ]
    },
    {
     "name": "stdout",
     "output_type": "stream",
     "text": [
      "** Training Metrics: Cov Err: 1.793, Avg Labels: 1.150, \n",
      "\t\t Top 1: 0.675, Top 3: 0.917, Top 5: 0.980, \n",
      "\t\t F1 Micro: 0.510, F1 Macro: 0.292, Total Pos: 695,091\n"
     ]
    },
    {
     "name": "stderr",
     "output_type": "stream",
     "text": [
      "2017-01-21 14:25:59,229 : INFO : Generating Validation Metrics\n",
      "2017-01-21 14:26:22,668 : INFO : ======= NN Epoch: 2 ==========\n"
     ]
    },
    {
     "name": "stdout",
     "output_type": "stream",
     "text": [
      "****** Validation Metrics: Cov Err: 1.783, Avg Labels: 1.150, \n",
      "\t\t Top 1: 0.680, Top 3: 0.918, Top 5: 0.981, \n",
      "\t\t F1 Micro: 0.521, F1 Macro: 0.300, Total Pos: 178,007\n",
      "Epoch 1/1\n",
      "1286325/1286325 [==============================] - 35s - loss: 0.2773    "
     ]
    },
    {
     "name": "stderr",
     "output_type": "stream",
     "text": [
      "2017-01-21 14:26:58,476 : INFO : Evaluating on Training Data\n"
     ]
    },
    {
     "name": "stdout",
     "output_type": "stream",
     "text": [
      "\n",
      "CPU times: user 6.92 s, sys: 10.5 s, total: 17.4 s\n",
      "Wall time: 35.8 s\n"
     ]
    },
    {
     "name": "stderr",
     "output_type": "stream",
     "text": [
      "2017-01-21 14:27:09,063 : INFO : Generating Training Metrics\n",
      "2017-01-21 14:28:44,705 : INFO : Evaluating on Validation Data\n"
     ]
    },
    {
     "name": "stdout",
     "output_type": "stream",
     "text": [
      "** Training Metrics: Cov Err: 1.696, Avg Labels: 1.150, \n",
      "\t\t Top 1: 0.710, Top 3: 0.936, Top 5: 0.986, \n",
      "\t\t F1 Micro: 0.600, F1 Macro: 0.382, Total Pos: 918,798\n"
     ]
    },
    {
     "name": "stderr",
     "output_type": "stream",
     "text": [
      "2017-01-21 14:28:50,422 : INFO : Generating Validation Metrics\n",
      "2017-01-21 14:29:00,959 : INFO : ======= NN Epoch: 3 ==========\n"
     ]
    },
    {
     "name": "stdout",
     "output_type": "stream",
     "text": [
      "****** Validation Metrics: Cov Err: 1.684, Avg Labels: 1.150, \n",
      "\t\t Top 1: 0.716, Top 3: 0.936, Top 5: 0.987, \n",
      "\t\t F1 Micro: 0.613, F1 Macro: 0.391, Total Pos: 235,549\n",
      "Epoch 1/1\n",
      "1286325/1286325 [==============================] - 34s - loss: 0.2718    "
     ]
    },
    {
     "name": "stderr",
     "output_type": "stream",
     "text": [
      "2017-01-21 14:29:35,350 : INFO : Evaluating on Training Data\n"
     ]
    },
    {
     "name": "stdout",
     "output_type": "stream",
     "text": [
      "\n",
      "CPU times: user 7.08 s, sys: 9.28 s, total: 16.4 s\n",
      "Wall time: 34.4 s\n"
     ]
    },
    {
     "name": "stderr",
     "output_type": "stream",
     "text": [
      "2017-01-21 14:29:49,289 : INFO : Generating Training Metrics\n",
      "2017-01-21 14:31:05,419 : INFO : Evaluating on Validation Data\n"
     ]
    },
    {
     "name": "stdout",
     "output_type": "stream",
     "text": [
      "** Training Metrics: Cov Err: 1.723, Avg Labels: 1.150, \n",
      "\t\t Top 1: 0.709, Top 3: 0.929, Top 5: 0.981, \n",
      "\t\t F1 Micro: 0.573, F1 Macro: 0.353, Total Pos: 816,961\n"
     ]
    },
    {
     "name": "stderr",
     "output_type": "stream",
     "text": [
      "2017-01-21 14:31:13,973 : INFO : Generating Validation Metrics\n",
      "2017-01-21 14:31:38,274 : INFO : ======= NN Epoch: 4 ==========\n"
     ]
    },
    {
     "name": "stdout",
     "output_type": "stream",
     "text": [
      "****** Validation Metrics: Cov Err: 1.710, Avg Labels: 1.150, \n",
      "\t\t Top 1: 0.715, Top 3: 0.930, Top 5: 0.982, \n",
      "\t\t F1 Micro: 0.586, F1 Macro: 0.363, Total Pos: 209,444\n",
      "Epoch 1/1\n",
      "1286325/1286325 [==============================] - 32s - loss: 0.2690    "
     ]
    },
    {
     "name": "stderr",
     "output_type": "stream",
     "text": [
      "2017-01-21 14:32:10,860 : INFO : Evaluating on Training Data\n"
     ]
    },
    {
     "name": "stdout",
     "output_type": "stream",
     "text": [
      "\n",
      "CPU times: user 6.53 s, sys: 9.01 s, total: 15.5 s\n",
      "Wall time: 32.6 s\n"
     ]
    },
    {
     "name": "stderr",
     "output_type": "stream",
     "text": [
      "2017-01-21 14:32:19,835 : INFO : Generating Training Metrics\n",
      "2017-01-21 14:33:54,281 : INFO : Evaluating on Validation Data\n"
     ]
    },
    {
     "name": "stdout",
     "output_type": "stream",
     "text": [
      "** Training Metrics: Cov Err: 1.668, Avg Labels: 1.150, \n",
      "\t\t Top 1: 0.716, Top 3: 0.941, Top 5: 0.986, \n",
      "\t\t F1 Micro: 0.650, F1 Macro: 0.506, Total Pos: 1,133,317\n"
     ]
    },
    {
     "name": "stderr",
     "output_type": "stream",
     "text": [
      "2017-01-21 14:33:59,139 : INFO : Generating Validation Metrics\n",
      "2017-01-21 14:34:11,117 : INFO : ======= NN Epoch: 5 ==========\n"
     ]
    },
    {
     "name": "stdout",
     "output_type": "stream",
     "text": [
      "****** Validation Metrics: Cov Err: 1.656, Avg Labels: 1.150, \n",
      "\t\t Top 1: 0.721, Top 3: 0.943, Top 5: 0.987, \n",
      "\t\t F1 Micro: 0.659, F1 Macro: 0.513, Total Pos: 287,242\n",
      "Epoch 1/1\n",
      "1286325/1286325 [==============================] - 35s - loss: 0.2673    "
     ]
    },
    {
     "name": "stderr",
     "output_type": "stream",
     "text": [
      "2017-01-21 14:34:46,890 : INFO : Evaluating on Training Data\n"
     ]
    },
    {
     "name": "stdout",
     "output_type": "stream",
     "text": [
      "\n",
      "CPU times: user 6.94 s, sys: 9.78 s, total: 16.7 s\n",
      "Wall time: 35.8 s\n"
     ]
    },
    {
     "name": "stderr",
     "output_type": "stream",
     "text": [
      "2017-01-21 14:35:00,729 : INFO : Generating Training Metrics\n",
      "2017-01-21 14:36:19,071 : INFO : Evaluating on Validation Data\n"
     ]
    },
    {
     "name": "stdout",
     "output_type": "stream",
     "text": [
      "** Training Metrics: Cov Err: 1.660, Avg Labels: 1.150, \n",
      "\t\t Top 1: 0.716, Top 3: 0.943, Top 5: 0.989, \n",
      "\t\t F1 Micro: 0.641, F1 Macro: 0.448, Total Pos: 1,107,752\n"
     ]
    },
    {
     "name": "stderr",
     "output_type": "stream",
     "text": [
      "2017-01-21 14:36:27,548 : INFO : Generating Validation Metrics\n",
      "2017-01-21 14:36:50,357 : INFO : ======= NN Epoch: 6 ==========\n"
     ]
    },
    {
     "name": "stdout",
     "output_type": "stream",
     "text": [
      "****** Validation Metrics: Cov Err: 1.649, Avg Labels: 1.150, \n",
      "\t\t Top 1: 0.722, Top 3: 0.945, Top 5: 0.989, \n",
      "\t\t F1 Micro: 0.654, F1 Macro: 0.459, Total Pos: 284,743\n",
      "Epoch 1/1\n",
      "1286325/1286325 [==============================] - 31s - loss: 0.2662    "
     ]
    },
    {
     "name": "stderr",
     "output_type": "stream",
     "text": [
      "2017-01-21 14:37:21,795 : INFO : Evaluating on Training Data\n"
     ]
    },
    {
     "name": "stdout",
     "output_type": "stream",
     "text": [
      "\n",
      "CPU times: user 6.03 s, sys: 9.03 s, total: 15.1 s\n",
      "Wall time: 31.4 s\n"
     ]
    },
    {
     "name": "stderr",
     "output_type": "stream",
     "text": [
      "2017-01-21 14:37:37,422 : INFO : Generating Training Metrics\n",
      "2017-01-21 14:38:57,504 : INFO : Evaluating on Validation Data\n"
     ]
    },
    {
     "name": "stdout",
     "output_type": "stream",
     "text": [
      "** Training Metrics: Cov Err: 1.648, Avg Labels: 1.150, \n",
      "\t\t Top 1: 0.726, Top 3: 0.945, Top 5: 0.988, \n",
      "\t\t F1 Micro: 0.644, F1 Macro: 0.462, Total Pos: 1,087,092\n"
     ]
    },
    {
     "name": "stderr",
     "output_type": "stream",
     "text": [
      "2017-01-21 14:39:05,688 : INFO : Generating Validation Metrics\n",
      "2017-01-21 14:39:28,617 : INFO : ======= NN Epoch: 7 ==========\n"
     ]
    },
    {
     "name": "stdout",
     "output_type": "stream",
     "text": [
      "****** Validation Metrics: Cov Err: 1.641, Avg Labels: 1.150, \n",
      "\t\t Top 1: 0.729, Top 3: 0.946, Top 5: 0.988, \n",
      "\t\t F1 Micro: 0.655, F1 Macro: 0.472, Total Pos: 278,501\n",
      "Epoch 1/1\n",
      "1286325/1286325 [==============================] - 35s - loss: 0.2654    "
     ]
    },
    {
     "name": "stderr",
     "output_type": "stream",
     "text": [
      "2017-01-21 14:40:03,869 : INFO : Evaluating on Training Data\n"
     ]
    },
    {
     "name": "stdout",
     "output_type": "stream",
     "text": [
      "\n",
      "CPU times: user 7.03 s, sys: 9.54 s, total: 16.6 s\n",
      "Wall time: 35.2 s\n"
     ]
    },
    {
     "name": "stderr",
     "output_type": "stream",
     "text": [
      "2017-01-21 14:40:17,617 : INFO : Generating Training Metrics\n",
      "2017-01-21 14:41:38,917 : INFO : Evaluating on Validation Data\n"
     ]
    },
    {
     "name": "stdout",
     "output_type": "stream",
     "text": [
      "** Training Metrics: Cov Err: 1.639, Avg Labels: 1.150, \n",
      "\t\t Top 1: 0.730, Top 3: 0.946, Top 5: 0.988, \n",
      "\t\t F1 Micro: 0.642, F1 Macro: 0.462, Total Pos: 1,035,824\n"
     ]
    },
    {
     "name": "stderr",
     "output_type": "stream",
     "text": [
      "2017-01-21 14:41:47,658 : INFO : Generating Validation Metrics\n",
      "2017-01-21 14:42:09,068 : INFO : ======= NN Epoch: 8 ==========\n"
     ]
    },
    {
     "name": "stdout",
     "output_type": "stream",
     "text": [
      "****** Validation Metrics: Cov Err: 1.630, Avg Labels: 1.150, \n",
      "\t\t Top 1: 0.735, Top 3: 0.947, Top 5: 0.988, \n",
      "\t\t F1 Micro: 0.655, F1 Macro: 0.475, Total Pos: 264,921\n",
      "Epoch 1/1\n",
      "1286325/1286325 [==============================] - 27s - loss: 0.2648    "
     ]
    },
    {
     "name": "stderr",
     "output_type": "stream",
     "text": [
      "2017-01-21 14:42:36,426 : INFO : Evaluating on Training Data\n"
     ]
    },
    {
     "name": "stdout",
     "output_type": "stream",
     "text": [
      "\n",
      "CPU times: user 5.95 s, sys: 8.41 s, total: 14.4 s\n",
      "Wall time: 27.4 s\n"
     ]
    },
    {
     "name": "stderr",
     "output_type": "stream",
     "text": [
      "2017-01-21 14:42:52,170 : INFO : Generating Training Metrics\n",
      "2017-01-21 14:44:11,885 : INFO : Evaluating on Validation Data\n"
     ]
    },
    {
     "name": "stdout",
     "output_type": "stream",
     "text": [
      "** Training Metrics: Cov Err: 1.655, Avg Labels: 1.150, \n",
      "\t\t Top 1: 0.726, Top 3: 0.944, Top 5: 0.987, \n",
      "\t\t F1 Micro: 0.658, F1 Macro: 0.483, Total Pos: 1,114,757\n"
     ]
    },
    {
     "name": "stderr",
     "output_type": "stream",
     "text": [
      "2017-01-21 14:44:21,075 : INFO : Generating Validation Metrics\n",
      "2017-01-21 14:44:44,841 : INFO : ======= NN Epoch: 9 ==========\n"
     ]
    },
    {
     "name": "stdout",
     "output_type": "stream",
     "text": [
      "****** Validation Metrics: Cov Err: 1.639, Avg Labels: 1.150, \n",
      "\t\t Top 1: 0.735, Top 3: 0.946, Top 5: 0.987, \n",
      "\t\t F1 Micro: 0.669, F1 Macro: 0.492, Total Pos: 282,400\n",
      "Epoch 1/1\n",
      "1286325/1286325 [==============================] - 36s - loss: 0.2645    "
     ]
    },
    {
     "name": "stderr",
     "output_type": "stream",
     "text": [
      "2017-01-21 14:45:21,748 : INFO : Evaluating on Training Data\n"
     ]
    },
    {
     "name": "stdout",
     "output_type": "stream",
     "text": [
      "\n",
      "CPU times: user 7.34 s, sys: 9.62 s, total: 17 s\n",
      "Wall time: 36.9 s\n"
     ]
    },
    {
     "name": "stderr",
     "output_type": "stream",
     "text": [
      "2017-01-21 14:45:32,739 : INFO : Generating Training Metrics\n",
      "2017-01-21 14:47:02,159 : INFO : Evaluating on Validation Data\n"
     ]
    },
    {
     "name": "stdout",
     "output_type": "stream",
     "text": [
      "** Training Metrics: Cov Err: 1.642, Avg Labels: 1.150, \n",
      "\t\t Top 1: 0.721, Top 3: 0.947, Top 5: 0.990, \n",
      "\t\t F1 Micro: 0.633, F1 Macro: 0.473, Total Pos: 1,057,660\n"
     ]
    },
    {
     "name": "stderr",
     "output_type": "stream",
     "text": [
      "2017-01-21 14:47:06,817 : INFO : Generating Validation Metrics\n",
      "2017-01-21 14:47:27,715 : INFO : ======= NN Epoch: 10 ==========\n"
     ]
    },
    {
     "name": "stdout",
     "output_type": "stream",
     "text": [
      "****** Validation Metrics: Cov Err: 1.627, Avg Labels: 1.150, \n",
      "\t\t Top 1: 0.727, Top 3: 0.949, Top 5: 0.990, \n",
      "\t\t F1 Micro: 0.648, F1 Macro: 0.487, Total Pos: 272,450\n",
      "Epoch 1/1\n",
      "1286325/1286325 [==============================] - 35s - loss: 0.2640    "
     ]
    },
    {
     "name": "stderr",
     "output_type": "stream",
     "text": [
      "2017-01-21 14:48:03,550 : INFO : Evaluating on Training Data\n"
     ]
    },
    {
     "name": "stdout",
     "output_type": "stream",
     "text": [
      "\n",
      "CPU times: user 6.85 s, sys: 9.98 s, total: 16.8 s\n",
      "Wall time: 35.8 s\n"
     ]
    },
    {
     "name": "stderr",
     "output_type": "stream",
     "text": [
      "2017-01-21 14:48:18,333 : INFO : Generating Training Metrics\n",
      "2017-01-21 14:49:35,595 : INFO : Evaluating on Validation Data\n"
     ]
    },
    {
     "name": "stdout",
     "output_type": "stream",
     "text": [
      "** Training Metrics: Cov Err: 1.639, Avg Labels: 1.150, \n",
      "\t\t Top 1: 0.734, Top 3: 0.942, Top 5: 0.988, \n",
      "\t\t F1 Micro: 0.657, F1 Macro: 0.470, Total Pos: 1,104,002\n"
     ]
    },
    {
     "name": "stderr",
     "output_type": "stream",
     "text": [
      "2017-01-21 14:49:43,864 : INFO : Generating Validation Metrics\n",
      "2017-01-21 14:50:08,786 : INFO : ======= NN Epoch: 11 ==========\n"
     ]
    },
    {
     "name": "stdout",
     "output_type": "stream",
     "text": [
      "****** Validation Metrics: Cov Err: 1.628, Avg Labels: 1.150, \n",
      "\t\t Top 1: 0.739, Top 3: 0.944, Top 5: 0.988, \n",
      "\t\t F1 Micro: 0.670, F1 Macro: 0.483, Total Pos: 284,554\n",
      "Epoch 1/1\n",
      "1286325/1286325 [==============================] - 29s - loss: 0.2635    "
     ]
    },
    {
     "name": "stderr",
     "output_type": "stream",
     "text": [
      "2017-01-21 14:50:38,276 : INFO : Evaluating on Training Data\n"
     ]
    },
    {
     "name": "stdout",
     "output_type": "stream",
     "text": [
      "\n",
      "CPU times: user 5.56 s, sys: 7.75 s, total: 13.3 s\n",
      "Wall time: 29.5 s\n"
     ]
    },
    {
     "name": "stderr",
     "output_type": "stream",
     "text": [
      "2017-01-21 14:50:52,455 : INFO : Generating Training Metrics\n",
      "2017-01-21 14:52:11,802 : INFO : Evaluating on Validation Data\n"
     ]
    },
    {
     "name": "stdout",
     "output_type": "stream",
     "text": [
      "** Training Metrics: Cov Err: 1.642, Avg Labels: 1.150, \n",
      "\t\t Top 1: 0.732, Top 3: 0.945, Top 5: 0.987, \n",
      "\t\t F1 Micro: 0.672, F1 Macro: 0.483, Total Pos: 1,192,236\n"
     ]
    },
    {
     "name": "stderr",
     "output_type": "stream",
     "text": [
      "2017-01-21 14:52:20,106 : INFO : Generating Validation Metrics\n",
      "2017-01-21 14:52:42,648 : INFO : ======= NN Epoch: 12 ==========\n"
     ]
    },
    {
     "name": "stdout",
     "output_type": "stream",
     "text": [
      "****** Validation Metrics: Cov Err: 1.633, Avg Labels: 1.150, \n",
      "\t\t Top 1: 0.736, Top 3: 0.946, Top 5: 0.987, \n",
      "\t\t F1 Micro: 0.681, F1 Macro: 0.491, Total Pos: 303,245\n",
      "Epoch 1/1\n",
      "1286325/1286325 [==============================] - 37s - loss: 0.2636    "
     ]
    },
    {
     "name": "stderr",
     "output_type": "stream",
     "text": [
      "2017-01-21 14:53:19,957 : INFO : Evaluating on Training Data\n"
     ]
    },
    {
     "name": "stdout",
     "output_type": "stream",
     "text": [
      "\n",
      "CPU times: user 7.13 s, sys: 9.78 s, total: 16.9 s\n",
      "Wall time: 37.3 s\n"
     ]
    },
    {
     "name": "stderr",
     "output_type": "stream",
     "text": [
      "2017-01-21 14:53:32,201 : INFO : Generating Training Metrics\n",
      "2017-01-21 14:54:56,653 : INFO : Evaluating on Validation Data\n"
     ]
    },
    {
     "name": "stdout",
     "output_type": "stream",
     "text": [
      "** Training Metrics: Cov Err: 1.674, Avg Labels: 1.150, \n",
      "\t\t Top 1: 0.709, Top 3: 0.941, Top 5: 0.988, \n",
      "\t\t F1 Micro: 0.639, F1 Macro: 0.434, Total Pos: 1,096,673\n"
     ]
    },
    {
     "name": "stderr",
     "output_type": "stream",
     "text": [
      "2017-01-21 14:55:05,496 : INFO : Generating Validation Metrics\n",
      "2017-01-21 14:55:18,563 : INFO : ======= NN Epoch: 13 ==========\n"
     ]
    },
    {
     "name": "stdout",
     "output_type": "stream",
     "text": [
      "****** Validation Metrics: Cov Err: 1.664, Avg Labels: 1.150, \n",
      "\t\t Top 1: 0.714, Top 3: 0.942, Top 5: 0.989, \n",
      "\t\t F1 Micro: 0.651, F1 Macro: 0.448, Total Pos: 282,775\n",
      "Epoch 1/1\n",
      "1286325/1286325 [==============================] - 33s - loss: 0.2632    "
     ]
    },
    {
     "name": "stderr",
     "output_type": "stream",
     "text": [
      "2017-01-21 14:55:52,177 : INFO : Evaluating on Training Data\n"
     ]
    },
    {
     "name": "stdout",
     "output_type": "stream",
     "text": [
      "\n",
      "CPU times: user 6.62 s, sys: 9.44 s, total: 16.1 s\n",
      "Wall time: 33.6 s\n"
     ]
    },
    {
     "name": "stderr",
     "output_type": "stream",
     "text": [
      "2017-01-21 14:56:06,126 : INFO : Generating Training Metrics\n",
      "2017-01-21 14:57:25,846 : INFO : Evaluating on Validation Data\n"
     ]
    },
    {
     "name": "stdout",
     "output_type": "stream",
     "text": [
      "** Training Metrics: Cov Err: 1.639, Avg Labels: 1.150, \n",
      "\t\t Top 1: 0.730, Top 3: 0.944, Top 5: 0.988, \n",
      "\t\t F1 Micro: 0.659, F1 Macro: 0.473, Total Pos: 1,073,874\n"
     ]
    },
    {
     "name": "stderr",
     "output_type": "stream",
     "text": [
      "2017-01-21 14:57:34,249 : INFO : Generating Validation Metrics\n",
      "2017-01-21 14:57:56,732 : INFO : ======= NN Epoch: 14 ==========\n"
     ]
    },
    {
     "name": "stdout",
     "output_type": "stream",
     "text": [
      "****** Validation Metrics: Cov Err: 1.630, Avg Labels: 1.150, \n",
      "\t\t Top 1: 0.736, Top 3: 0.944, Top 5: 0.988, \n",
      "\t\t F1 Micro: 0.669, F1 Macro: 0.482, Total Pos: 274,039\n",
      "Epoch 1/1\n",
      "1286325/1286325 [==============================] - 35s - loss: 0.2632    "
     ]
    },
    {
     "name": "stderr",
     "output_type": "stream",
     "text": [
      "2017-01-21 14:58:32,587 : INFO : Evaluating on Training Data\n"
     ]
    },
    {
     "name": "stdout",
     "output_type": "stream",
     "text": [
      "\n",
      "CPU times: user 7.04 s, sys: 9.48 s, total: 16.5 s\n",
      "Wall time: 35.9 s\n"
     ]
    },
    {
     "name": "stderr",
     "output_type": "stream",
     "text": [
      "2017-01-21 14:58:41,585 : INFO : Generating Training Metrics\n",
      "2017-01-21 15:00:15,406 : INFO : Evaluating on Validation Data\n"
     ]
    },
    {
     "name": "stdout",
     "output_type": "stream",
     "text": [
      "** Training Metrics: Cov Err: 1.639, Avg Labels: 1.150, \n",
      "\t\t Top 1: 0.730, Top 3: 0.945, Top 5: 0.989, \n",
      "\t\t F1 Micro: 0.643, F1 Macro: 0.439, Total Pos: 1,065,071\n"
     ]
    },
    {
     "name": "stderr",
     "output_type": "stream",
     "text": [
      "2017-01-21 15:00:20,558 : INFO : Generating Validation Metrics\n",
      "2017-01-21 15:00:42,606 : INFO : ======= NN Epoch: 15 ==========\n"
     ]
    },
    {
     "name": "stdout",
     "output_type": "stream",
     "text": [
      "****** Validation Metrics: Cov Err: 1.631, Avg Labels: 1.150, \n",
      "\t\t Top 1: 0.735, Top 3: 0.946, Top 5: 0.989, \n",
      "\t\t F1 Micro: 0.655, F1 Macro: 0.456, Total Pos: 271,225\n",
      "Epoch 1/1\n",
      "1286325/1286325 [==============================] - 32s - loss: 0.2629    "
     ]
    },
    {
     "name": "stderr",
     "output_type": "stream",
     "text": [
      "2017-01-21 15:01:15,235 : INFO : Evaluating on Training Data\n"
     ]
    },
    {
     "name": "stdout",
     "output_type": "stream",
     "text": [
      "\n",
      "CPU times: user 6.44 s, sys: 9.68 s, total: 16.1 s\n",
      "Wall time: 32.6 s\n"
     ]
    },
    {
     "name": "stderr",
     "output_type": "stream",
     "text": [
      "2017-01-21 15:01:24,311 : INFO : Generating Training Metrics\n",
      "2017-01-21 15:02:05,851 : INFO : Evaluating on Validation Data\n"
     ]
    },
    {
     "name": "stdout",
     "output_type": "stream",
     "text": [
      "** Training Metrics: Cov Err: 1.677, Avg Labels: 1.150, \n",
      "\t\t Top 1: 0.716, Top 3: 0.938, Top 5: 0.986, \n",
      "\t\t F1 Micro: 0.637, F1 Macro: 0.416, Total Pos: 1,073,406\n"
     ]
    },
    {
     "name": "stderr",
     "output_type": "stream",
     "text": [
      "2017-01-21 15:02:10,519 : INFO : Generating Validation Metrics\n"
     ]
    },
    {
     "name": "stdout",
     "output_type": "stream",
     "text": [
      "****** Validation Metrics: Cov Err: 1.664, Avg Labels: 1.150, \n",
      "\t\t Top 1: 0.721, Top 3: 0.940, Top 5: 0.986, \n",
      "\t\t F1 Micro: 0.649, F1 Macro: 0.427, Total Pos: 275,179\n",
      "===================================================================================\n",
      "========== 1st Layer Size: 500, 1st Layer Activation: softmax, \n",
      " 2nd Layer Size: None, 2nd Layer Activation: softmax, \n",
      "Input Dropout: True, Hidden Dropout: False==========================\n",
      "____________________________________________________________________________________________________\n",
      "Layer (type)                     Output Shape          Param #     Connected to                     \n",
      "====================================================================================================\n",
      "doc_input (InputLayer)           (None, 100)           0                                            \n",
      "____________________________________________________________________________________________________\n",
      "dropout_8 (Dropout)              (None, 100)           0           doc_input[0][0]                  \n",
      "____________________________________________________________________________________________________\n",
      "hidden_layer_softmax (Dense)     (None, 500)           50500       dropout_8[0][0]                  \n",
      "____________________________________________________________________________________________________\n",
      "softmax_output (Dense)           (None, 8)             4008        hidden_layer_softmax[0][0]       \n",
      "====================================================================================================\n"
     ]
    },
    {
     "name": "stderr",
     "output_type": "stream",
     "text": [
      "2017-01-21 15:02:30,174 : INFO : ======= NN Epoch: 1 ==========\n"
     ]
    },
    {
     "name": "stdout",
     "output_type": "stream",
     "text": [
      "Total params: 54508\n",
      "____________________________________________________________________________________________________\n",
      "Epoch 1/1\n",
      "1286325/1286325 [==============================] - 41s - loss: 0.5165    "
     ]
    },
    {
     "name": "stderr",
     "output_type": "stream",
     "text": [
      "2017-01-21 15:03:16,497 : INFO : Evaluating on Training Data\n"
     ]
    },
    {
     "name": "stdout",
     "output_type": "stream",
     "text": [
      "\n",
      "CPU times: user 7.82 s, sys: 12.1 s, total: 19.9 s\n",
      "Wall time: 46.3 s\n"
     ]
    },
    {
     "name": "stderr",
     "output_type": "stream",
     "text": [
      "2017-01-21 15:03:28,224 : INFO : Generating Training Metrics\n",
      "2017-01-21 15:04:42,448 : INFO : Evaluating on Validation Data\n"
     ]
    },
    {
     "name": "stdout",
     "output_type": "stream",
     "text": [
      "** Training Metrics: Cov Err: 2.061, Avg Labels: 1.150, \n",
      "\t\t Top 1: 0.597, Top 3: 0.868, Top 5: 0.965, \n",
      "\t\t F1 Micro: 0.091, F1 Macro: 0.033, Total Pos: 76,138\n"
     ]
    },
    {
     "name": "stderr",
     "output_type": "stream",
     "text": [
      "2017-01-21 15:04:48,723 : INFO : Generating Validation Metrics\n",
      "2017-01-21 15:05:06,814 : INFO : ======= NN Epoch: 2 ==========\n"
     ]
    },
    {
     "name": "stdout",
     "output_type": "stream",
     "text": [
      "****** Validation Metrics: Cov Err: 2.062, Avg Labels: 1.150, \n",
      "\t\t Top 1: 0.598, Top 3: 0.867, Top 5: 0.964, \n",
      "\t\t F1 Micro: 0.106, F1 Macro: 0.038, Total Pos: 22,484\n",
      "Epoch 1/1\n",
      "1286325/1286325 [==============================] - 43s - loss: 0.3405    "
     ]
    },
    {
     "name": "stderr",
     "output_type": "stream",
     "text": [
      "2017-01-21 15:05:50,239 : INFO : Evaluating on Training Data\n"
     ]
    },
    {
     "name": "stdout",
     "output_type": "stream",
     "text": [
      "\n",
      "CPU times: user 6.04 s, sys: 11.4 s, total: 17.4 s\n",
      "Wall time: 43.4 s\n"
     ]
    },
    {
     "name": "stderr",
     "output_type": "stream",
     "text": [
      "2017-01-21 15:06:01,346 : INFO : Generating Training Metrics\n",
      "2017-01-21 15:07:15,450 : INFO : Evaluating on Validation Data\n"
     ]
    },
    {
     "name": "stdout",
     "output_type": "stream",
     "text": [
      "** Training Metrics: Cov Err: 1.871, Avg Labels: 1.150, \n",
      "\t\t Top 1: 0.681, Top 3: 0.898, Top 5: 0.966, \n",
      "\t\t F1 Micro: 0.456, F1 Macro: 0.162, Total Pos: 588,426\n"
     ]
    },
    {
     "name": "stderr",
     "output_type": "stream",
     "text": [
      "2017-01-21 15:07:21,615 : INFO : Generating Validation Metrics\n",
      "2017-01-21 15:07:39,287 : INFO : ======= NN Epoch: 3 ==========\n"
     ]
    },
    {
     "name": "stdout",
     "output_type": "stream",
     "text": [
      "****** Validation Metrics: Cov Err: 1.864, Avg Labels: 1.150, \n",
      "\t\t Top 1: 0.685, Top 3: 0.899, Top 5: 0.966, \n",
      "\t\t F1 Micro: 0.464, F1 Macro: 0.164, Total Pos: 149,463\n",
      "Epoch 1/1\n",
      "1286325/1286325 [==============================] - 39s - loss: 0.2883    "
     ]
    },
    {
     "name": "stderr",
     "output_type": "stream",
     "text": [
      "2017-01-21 15:08:18,399 : INFO : Evaluating on Training Data\n"
     ]
    },
    {
     "name": "stdout",
     "output_type": "stream",
     "text": [
      "\n",
      "CPU times: user 6.16 s, sys: 11.3 s, total: 17.4 s\n",
      "Wall time: 39.1 s\n"
     ]
    },
    {
     "name": "stderr",
     "output_type": "stream",
     "text": [
      "2017-01-21 15:08:29,312 : INFO : Generating Training Metrics\n",
      "2017-01-21 15:09:44,031 : INFO : Evaluating on Validation Data\n"
     ]
    },
    {
     "name": "stdout",
     "output_type": "stream",
     "text": [
      "** Training Metrics: Cov Err: 1.783, Avg Labels: 1.150, \n",
      "\t\t Top 1: 0.708, Top 3: 0.916, Top 5: 0.970, \n",
      "\t\t F1 Micro: 0.590, F1 Macro: 0.320, Total Pos: 880,854\n"
     ]
    },
    {
     "name": "stderr",
     "output_type": "stream",
     "text": [
      "2017-01-21 15:09:50,553 : INFO : Generating Validation Metrics\n",
      "2017-01-21 15:10:07,067 : INFO : ======= NN Epoch: 4 ==========\n"
     ]
    },
    {
     "name": "stdout",
     "output_type": "stream",
     "text": [
      "****** Validation Metrics: Cov Err: 1.775, Avg Labels: 1.150, \n",
      "\t\t Top 1: 0.712, Top 3: 0.917, Top 5: 0.970, \n",
      "\t\t F1 Micro: 0.599, F1 Macro: 0.324, Total Pos: 224,047\n",
      "Epoch 1/1\n",
      "1286325/1286325 [==============================] - 34s - loss: 0.2715    "
     ]
    },
    {
     "name": "stderr",
     "output_type": "stream",
     "text": [
      "2017-01-21 15:10:41,268 : INFO : Evaluating on Training Data\n"
     ]
    },
    {
     "name": "stdout",
     "output_type": "stream",
     "text": [
      "\n",
      "CPU times: user 5.47 s, sys: 9.87 s, total: 15.3 s\n",
      "Wall time: 34.2 s\n"
     ]
    },
    {
     "name": "stderr",
     "output_type": "stream",
     "text": [
      "2017-01-21 15:10:50,622 : INFO : Generating Training Metrics\n",
      "2017-01-21 15:12:04,666 : INFO : Evaluating on Validation Data\n"
     ]
    },
    {
     "name": "stdout",
     "output_type": "stream",
     "text": [
      "** Training Metrics: Cov Err: 1.722, Avg Labels: 1.150, \n",
      "\t\t Top 1: 0.724, Top 3: 0.927, Top 5: 0.976, \n",
      "\t\t F1 Micro: 0.631, F1 Macro: 0.368, Total Pos: 976,776\n"
     ]
    },
    {
     "name": "stderr",
     "output_type": "stream",
     "text": [
      "2017-01-21 15:12:11,120 : INFO : Generating Validation Metrics\n",
      "2017-01-21 15:12:29,766 : INFO : ======= NN Epoch: 5 ==========\n"
     ]
    },
    {
     "name": "stdout",
     "output_type": "stream",
     "text": [
      "****** Validation Metrics: Cov Err: 1.715, Avg Labels: 1.150, \n",
      "\t\t Top 1: 0.728, Top 3: 0.928, Top 5: 0.977, \n",
      "\t\t F1 Micro: 0.640, F1 Macro: 0.374, Total Pos: 249,284\n",
      "Epoch 1/1\n",
      "1286325/1286325 [==============================] - 41s - loss: 0.2640    "
     ]
    },
    {
     "name": "stderr",
     "output_type": "stream",
     "text": [
      "2017-01-21 15:13:11,644 : INFO : Evaluating on Training Data\n"
     ]
    },
    {
     "name": "stdout",
     "output_type": "stream",
     "text": [
      "\n",
      "CPU times: user 6.1 s, sys: 10.3 s, total: 16.4 s\n",
      "Wall time: 41.9 s\n"
     ]
    },
    {
     "name": "stderr",
     "output_type": "stream",
     "text": [
      "2017-01-21 15:13:22,866 : INFO : Generating Training Metrics\n",
      "2017-01-21 15:14:37,587 : INFO : Evaluating on Validation Data\n"
     ]
    },
    {
     "name": "stdout",
     "output_type": "stream",
     "text": [
      "** Training Metrics: Cov Err: 1.682, Avg Labels: 1.150, \n",
      "\t\t Top 1: 0.734, Top 3: 0.935, Top 5: 0.979, \n",
      "\t\t F1 Micro: 0.656, F1 Macro: 0.426, Total Pos: 1,031,090\n"
     ]
    },
    {
     "name": "stderr",
     "output_type": "stream",
     "text": [
      "2017-01-21 15:14:43,683 : INFO : Generating Validation Metrics\n",
      "2017-01-21 15:15:02,542 : INFO : ======= NN Epoch: 6 ==========\n"
     ]
    },
    {
     "name": "stdout",
     "output_type": "stream",
     "text": [
      "****** Validation Metrics: Cov Err: 1.675, Avg Labels: 1.150, \n",
      "\t\t Top 1: 0.738, Top 3: 0.936, Top 5: 0.980, \n",
      "\t\t F1 Micro: 0.665, F1 Macro: 0.435, Total Pos: 263,509\n",
      "Epoch 1/1\n",
      "1286325/1286325 [==============================] - 39s - loss: 0.2597    "
     ]
    },
    {
     "name": "stderr",
     "output_type": "stream",
     "text": [
      "2017-01-21 15:15:42,194 : INFO : Evaluating on Training Data\n"
     ]
    },
    {
     "name": "stdout",
     "output_type": "stream",
     "text": [
      "\n",
      "CPU times: user 5.95 s, sys: 10.7 s, total: 16.7 s\n",
      "Wall time: 39.6 s\n"
     ]
    },
    {
     "name": "stderr",
     "output_type": "stream",
     "text": [
      "2017-01-21 15:15:54,921 : INFO : Generating Training Metrics\n",
      "2017-01-21 15:17:09,386 : INFO : Evaluating on Validation Data\n"
     ]
    },
    {
     "name": "stdout",
     "output_type": "stream",
     "text": [
      "** Training Metrics: Cov Err: 1.657, Avg Labels: 1.150, \n",
      "\t\t Top 1: 0.742, Top 3: 0.939, Top 5: 0.981, \n",
      "\t\t F1 Micro: 0.667, F1 Macro: 0.444, Total Pos: 1,057,666\n"
     ]
    },
    {
     "name": "stderr",
     "output_type": "stream",
     "text": [
      "2017-01-21 15:17:15,914 : INFO : Generating Validation Metrics\n",
      "2017-01-21 15:17:34,257 : INFO : ======= NN Epoch: 7 ==========\n"
     ]
    },
    {
     "name": "stdout",
     "output_type": "stream",
     "text": [
      "****** Validation Metrics: Cov Err: 1.651, Avg Labels: 1.150, \n",
      "\t\t Top 1: 0.746, Top 3: 0.940, Top 5: 0.981, \n",
      "\t\t F1 Micro: 0.677, F1 Macro: 0.451, Total Pos: 270,355\n",
      "Epoch 1/1\n",
      "1286325/1286325 [==============================] - 41s - loss: 0.2573    "
     ]
    },
    {
     "name": "stderr",
     "output_type": "stream",
     "text": [
      "2017-01-21 15:18:15,448 : INFO : Evaluating on Training Data\n"
     ]
    },
    {
     "name": "stdout",
     "output_type": "stream",
     "text": [
      "\n",
      "CPU times: user 6.07 s, sys: 10.5 s, total: 16.6 s\n",
      "Wall time: 41.2 s\n"
     ]
    },
    {
     "name": "stderr",
     "output_type": "stream",
     "text": [
      "2017-01-21 15:18:26,665 : INFO : Generating Training Metrics\n",
      "2017-01-21 15:19:42,443 : INFO : Evaluating on Validation Data\n"
     ]
    },
    {
     "name": "stdout",
     "output_type": "stream",
     "text": [
      "** Training Metrics: Cov Err: 1.641, Avg Labels: 1.150, \n",
      "\t\t Top 1: 0.749, Top 3: 0.942, Top 5: 0.982, \n",
      "\t\t F1 Micro: 0.674, F1 Macro: 0.454, Total Pos: 1,069,706\n"
     ]
    },
    {
     "name": "stderr",
     "output_type": "stream",
     "text": [
      "2017-01-21 15:19:48,726 : INFO : Generating Validation Metrics\n",
      "2017-01-21 15:20:07,522 : INFO : ======= NN Epoch: 8 ==========\n"
     ]
    },
    {
     "name": "stdout",
     "output_type": "stream",
     "text": [
      "****** Validation Metrics: Cov Err: 1.634, Avg Labels: 1.150, \n",
      "\t\t Top 1: 0.752, Top 3: 0.943, Top 5: 0.982, \n",
      "\t\t F1 Micro: 0.683, F1 Macro: 0.461, Total Pos: 273,670\n",
      "Epoch 1/1\n",
      "1286325/1286325 [==============================] - 41s - loss: 0.2552    "
     ]
    },
    {
     "name": "stderr",
     "output_type": "stream",
     "text": [
      "2017-01-21 15:20:48,829 : INFO : Evaluating on Training Data\n"
     ]
    },
    {
     "name": "stdout",
     "output_type": "stream",
     "text": [
      "\n",
      "CPU times: user 6.2 s, sys: 10.3 s, total: 16.5 s\n",
      "Wall time: 41.3 s\n"
     ]
    },
    {
     "name": "stderr",
     "output_type": "stream",
     "text": [
      "2017-01-21 15:20:59,924 : INFO : Generating Training Metrics\n",
      "2017-01-21 15:22:14,942 : INFO : Evaluating on Validation Data\n"
     ]
    },
    {
     "name": "stdout",
     "output_type": "stream",
     "text": [
      "** Training Metrics: Cov Err: 1.631, Avg Labels: 1.150, \n",
      "\t\t Top 1: 0.752, Top 3: 0.943, Top 5: 0.983, \n",
      "\t\t F1 Micro: 0.678, F1 Macro: 0.473, Total Pos: 1,075,352\n"
     ]
    },
    {
     "name": "stderr",
     "output_type": "stream",
     "text": [
      "2017-01-21 15:22:21,352 : INFO : Generating Validation Metrics\n",
      "2017-01-21 15:22:40,014 : INFO : ======= NN Epoch: 9 ==========\n"
     ]
    },
    {
     "name": "stdout",
     "output_type": "stream",
     "text": [
      "****** Validation Metrics: Cov Err: 1.623, Avg Labels: 1.150, \n",
      "\t\t Top 1: 0.755, Top 3: 0.944, Top 5: 0.983, \n",
      "\t\t F1 Micro: 0.688, F1 Macro: 0.480, Total Pos: 275,301\n",
      "Epoch 1/1\n",
      "1286325/1286325 [==============================] - 32s - loss: 0.2538    "
     ]
    },
    {
     "name": "stderr",
     "output_type": "stream",
     "text": [
      "2017-01-21 15:23:12,281 : INFO : Evaluating on Training Data\n"
     ]
    },
    {
     "name": "stdout",
     "output_type": "stream",
     "text": [
      "\n",
      "CPU times: user 5.74 s, sys: 9.88 s, total: 15.6 s\n",
      "Wall time: 32.3 s\n"
     ]
    },
    {
     "name": "stderr",
     "output_type": "stream",
     "text": [
      "2017-01-21 15:23:19,241 : INFO : Generating Training Metrics\n",
      "2017-01-21 15:23:55,831 : INFO : Evaluating on Validation Data\n"
     ]
    },
    {
     "name": "stdout",
     "output_type": "stream",
     "text": [
      "** Training Metrics: Cov Err: 1.621, Avg Labels: 1.150, \n",
      "\t\t Top 1: 0.755, Top 3: 0.945, Top 5: 0.984, \n",
      "\t\t F1 Micro: 0.681, F1 Macro: 0.483, Total Pos: 1,079,282\n"
     ]
    },
    {
     "name": "stderr",
     "output_type": "stream",
     "text": [
      "2017-01-21 15:23:59,723 : INFO : Generating Validation Metrics\n",
      "2017-01-21 15:24:08,308 : INFO : ======= NN Epoch: 10 ==========\n"
     ]
    },
    {
     "name": "stdout",
     "output_type": "stream",
     "text": [
      "****** Validation Metrics: Cov Err: 1.613, Avg Labels: 1.150, \n",
      "\t\t Top 1: 0.758, Top 3: 0.946, Top 5: 0.984, \n",
      "\t\t F1 Micro: 0.691, F1 Macro: 0.489, Total Pos: 276,084\n",
      "Epoch 1/1\n",
      "1286325/1286325 [==============================] - 28s - loss: 0.2527    "
     ]
    },
    {
     "name": "stderr",
     "output_type": "stream",
     "text": [
      "2017-01-21 15:24:37,148 : INFO : Evaluating on Training Data\n"
     ]
    },
    {
     "name": "stdout",
     "output_type": "stream",
     "text": [
      "\n",
      "CPU times: user 5.83 s, sys: 9.46 s, total: 15.3 s\n",
      "Wall time: 28.8 s\n"
     ]
    },
    {
     "name": "stderr",
     "output_type": "stream",
     "text": [
      "2017-01-21 15:24:43,953 : INFO : Generating Training Metrics\n",
      "2017-01-21 15:25:19,865 : INFO : Evaluating on Validation Data\n"
     ]
    },
    {
     "name": "stdout",
     "output_type": "stream",
     "text": [
      "** Training Metrics: Cov Err: 1.614, Avg Labels: 1.150, \n",
      "\t\t Top 1: 0.757, Top 3: 0.946, Top 5: 0.984, \n",
      "\t\t F1 Micro: 0.683, F1 Macro: 0.487, Total Pos: 1,075,026\n"
     ]
    },
    {
     "name": "stderr",
     "output_type": "stream",
     "text": [
      "2017-01-21 15:25:23,827 : INFO : Generating Validation Metrics\n",
      "2017-01-21 15:25:32,589 : INFO : ======= NN Epoch: 11 ==========\n"
     ]
    },
    {
     "name": "stdout",
     "output_type": "stream",
     "text": [
      "****** Validation Metrics: Cov Err: 1.606, Avg Labels: 1.150, \n",
      "\t\t Top 1: 0.761, Top 3: 0.948, Top 5: 0.985, \n",
      "\t\t F1 Micro: 0.692, F1 Macro: 0.493, Total Pos: 274,850\n",
      "Epoch 1/1\n",
      "  18432/1286325 [..............................] - ETA: 63s - loss: 0.2523"
     ]
    },
    {
     "name": "stderr",
     "output_type": "stream",
     "text": [
      "/home/stud/shalaby/.virtualenv/thesis-env/local/lib/python2.7/site-packages/keras/callbacks.py:70: UserWarning: Method on_batch_end() is slow compared to the batch update (0.632957). Check your callbacks.\n",
      "  % delta_t_median)\n",
      "/home/stud/shalaby/.virtualenv/thesis-env/local/lib/python2.7/site-packages/keras/callbacks.py:70: UserWarning: Method on_batch_end() is slow compared to the batch update (0.317369). Check your callbacks.\n",
      "  % delta_t_median)\n"
     ]
    },
    {
     "name": "stdout",
     "output_type": "stream",
     "text": [
      "1286325/1286325 [==============================] - 29s - loss: 0.2516    "
     ]
    },
    {
     "name": "stderr",
     "output_type": "stream",
     "text": [
      "2017-01-21 15:26:03,064 : INFO : Evaluating on Training Data\n"
     ]
    },
    {
     "name": "stdout",
     "output_type": "stream",
     "text": [
      "\n",
      "CPU times: user 6.01 s, sys: 9.58 s, total: 15.6 s\n",
      "Wall time: 29.8 s\n"
     ]
    },
    {
     "name": "stderr",
     "output_type": "stream",
     "text": [
      "2017-01-21 15:26:11,208 : INFO : Generating Training Metrics\n",
      "2017-01-21 15:26:47,469 : INFO : Evaluating on Validation Data\n"
     ]
    },
    {
     "name": "stdout",
     "output_type": "stream",
     "text": [
      "** Training Metrics: Cov Err: 1.607, Avg Labels: 1.150, \n",
      "\t\t Top 1: 0.759, Top 3: 0.948, Top 5: 0.985, \n",
      "\t\t F1 Micro: 0.684, F1 Macro: 0.489, Total Pos: 1,076,689\n"
     ]
    },
    {
     "name": "stderr",
     "output_type": "stream",
     "text": [
      "2017-01-21 15:26:51,322 : INFO : Generating Validation Metrics\n",
      "2017-01-21 15:26:59,629 : INFO : ======= NN Epoch: 12 ==========\n"
     ]
    },
    {
     "name": "stdout",
     "output_type": "stream",
     "text": [
      "****** Validation Metrics: Cov Err: 1.599, Avg Labels: 1.150, \n",
      "\t\t Top 1: 0.763, Top 3: 0.949, Top 5: 0.985, \n",
      "\t\t F1 Micro: 0.693, F1 Macro: 0.496, Total Pos: 275,084\n",
      "Epoch 1/1\n",
      "1286325/1286325 [==============================] - 26s - loss: 0.2505    "
     ]
    },
    {
     "name": "stderr",
     "output_type": "stream",
     "text": [
      "2017-01-21 15:27:26,075 : INFO : Evaluating on Training Data\n"
     ]
    },
    {
     "name": "stdout",
     "output_type": "stream",
     "text": [
      "\n",
      "CPU times: user 5.32 s, sys: 9.29 s, total: 14.6 s\n",
      "Wall time: 26.4 s\n"
     ]
    },
    {
     "name": "stderr",
     "output_type": "stream",
     "text": [
      "2017-01-21 15:27:31,099 : INFO : Generating Training Metrics\n",
      "2017-01-21 15:28:06,169 : INFO : Evaluating on Validation Data\n"
     ]
    },
    {
     "name": "stdout",
     "output_type": "stream",
     "text": [
      "** Training Metrics: Cov Err: 1.599, Avg Labels: 1.150, \n",
      "\t\t Top 1: 0.762, Top 3: 0.949, Top 5: 0.986, \n",
      "\t\t F1 Micro: 0.686, F1 Macro: 0.496, Total Pos: 1,077,651\n"
     ]
    },
    {
     "name": "stderr",
     "output_type": "stream",
     "text": [
      "2017-01-21 15:28:10,003 : INFO : Generating Validation Metrics\n",
      "2017-01-21 15:28:18,428 : INFO : ======= NN Epoch: 13 ==========\n"
     ]
    },
    {
     "name": "stdout",
     "output_type": "stream",
     "text": [
      "****** Validation Metrics: Cov Err: 1.591, Avg Labels: 1.150, \n",
      "\t\t Top 1: 0.766, Top 3: 0.950, Top 5: 0.986, \n",
      "\t\t F1 Micro: 0.695, F1 Macro: 0.503, Total Pos: 275,050\n",
      "Epoch 1/1\n",
      "1286325/1286325 [==============================] - 27s - loss: 0.2497    "
     ]
    },
    {
     "name": "stderr",
     "output_type": "stream",
     "text": [
      "2017-01-21 15:28:46,286 : INFO : Evaluating on Training Data\n"
     ]
    },
    {
     "name": "stdout",
     "output_type": "stream",
     "text": [
      "\n",
      "CPU times: user 5.55 s, sys: 9.19 s, total: 14.7 s\n",
      "Wall time: 27.9 s\n"
     ]
    },
    {
     "name": "stderr",
     "output_type": "stream",
     "text": [
      "2017-01-21 15:28:55,340 : INFO : Generating Training Metrics\n",
      "2017-01-21 15:29:32,321 : INFO : Evaluating on Validation Data\n"
     ]
    },
    {
     "name": "stdout",
     "output_type": "stream",
     "text": [
      "** Training Metrics: Cov Err: 1.593, Avg Labels: 1.150, \n",
      "\t\t Top 1: 0.764, Top 3: 0.950, Top 5: 0.986, \n",
      "\t\t F1 Micro: 0.688, F1 Macro: 0.500, Total Pos: 1,080,597\n"
     ]
    },
    {
     "name": "stderr",
     "output_type": "stream",
     "text": [
      "2017-01-21 15:29:38,001 : INFO : Generating Validation Metrics\n",
      "2017-01-21 15:29:46,652 : INFO : ======= NN Epoch: 14 ==========\n"
     ]
    },
    {
     "name": "stdout",
     "output_type": "stream",
     "text": [
      "****** Validation Metrics: Cov Err: 1.585, Avg Labels: 1.150, \n",
      "\t\t Top 1: 0.768, Top 3: 0.951, Top 5: 0.986, \n",
      "\t\t F1 Micro: 0.697, F1 Macro: 0.508, Total Pos: 275,926\n",
      "Epoch 1/1\n",
      "1286325/1286325 [==============================] - 27s - loss: 0.2489    "
     ]
    },
    {
     "name": "stderr",
     "output_type": "stream",
     "text": [
      "2017-01-21 15:30:14,643 : INFO : Evaluating on Training Data\n"
     ]
    },
    {
     "name": "stdout",
     "output_type": "stream",
     "text": [
      "\n",
      "CPU times: user 5.48 s, sys: 9.3 s, total: 14.8 s\n",
      "Wall time: 28 s\n"
     ]
    },
    {
     "name": "stderr",
     "output_type": "stream",
     "text": [
      "2017-01-21 15:30:21,948 : INFO : Generating Training Metrics\n",
      "2017-01-21 15:31:00,687 : INFO : Evaluating on Validation Data\n"
     ]
    },
    {
     "name": "stdout",
     "output_type": "stream",
     "text": [
      "** Training Metrics: Cov Err: 1.587, Avg Labels: 1.150, \n",
      "\t\t Top 1: 0.766, Top 3: 0.951, Top 5: 0.986, \n",
      "\t\t F1 Micro: 0.690, F1 Macro: 0.506, Total Pos: 1,083,122\n"
     ]
    },
    {
     "name": "stderr",
     "output_type": "stream",
     "text": [
      "2017-01-21 15:31:04,471 : INFO : Generating Validation Metrics\n",
      "2017-01-21 15:31:12,849 : INFO : ======= NN Epoch: 15 ==========\n"
     ]
    },
    {
     "name": "stdout",
     "output_type": "stream",
     "text": [
      "****** Validation Metrics: Cov Err: 1.579, Avg Labels: 1.150, \n",
      "\t\t Top 1: 0.770, Top 3: 0.952, Top 5: 0.986, \n",
      "\t\t F1 Micro: 0.700, F1 Macro: 0.516, Total Pos: 276,725\n",
      "Epoch 1/1\n",
      "1286325/1286325 [==============================] - 28s - loss: 0.2482    "
     ]
    },
    {
     "name": "stderr",
     "output_type": "stream",
     "text": [
      "2017-01-21 15:31:41,230 : INFO : Evaluating on Training Data\n"
     ]
    },
    {
     "name": "stdout",
     "output_type": "stream",
     "text": [
      "\n",
      "CPU times: user 5.96 s, sys: 9.24 s, total: 15.2 s\n",
      "Wall time: 28.4 s\n"
     ]
    },
    {
     "name": "stderr",
     "output_type": "stream",
     "text": [
      "2017-01-21 15:31:50,286 : INFO : Generating Training Metrics\n",
      "2017-01-21 15:32:28,571 : INFO : Evaluating on Validation Data\n"
     ]
    },
    {
     "name": "stdout",
     "output_type": "stream",
     "text": [
      "** Training Metrics: Cov Err: 1.583, Avg Labels: 1.150, \n",
      "\t\t Top 1: 0.767, Top 3: 0.951, Top 5: 0.986, \n",
      "\t\t F1 Micro: 0.692, F1 Macro: 0.512, Total Pos: 1,086,353\n"
     ]
    },
    {
     "name": "stderr",
     "output_type": "stream",
     "text": [
      "2017-01-21 15:32:32,423 : INFO : Generating Validation Metrics\n"
     ]
    },
    {
     "name": "stdout",
     "output_type": "stream",
     "text": [
      "****** Validation Metrics: Cov Err: 1.575, Avg Labels: 1.150, \n",
      "\t\t Top 1: 0.771, Top 3: 0.952, Top 5: 0.987, \n",
      "\t\t F1 Micro: 0.702, F1 Macro: 0.522, Total Pos: 277,478\n",
      "===================================================================================\n",
      "========== 1st Layer Size: 200, 1st Layer Activation: tanh, \n",
      " 2nd Layer Size: 500, 2nd Layer Activation: relu, \n",
      "Input Dropout: False, Hidden Dropout: True==========================\n",
      "____________________________________________________________________________________________________\n",
      "Layer (type)                     Output Shape          Param #     Connected to                     \n",
      "====================================================================================================\n",
      "doc_input (InputLayer)           (None, 100)           0                                            \n",
      "____________________________________________________________________________________________________\n",
      "hidden_layer_tanh (Dense)        (None, 200)           20200       doc_input[0][0]                  \n",
      "____________________________________________________________________________________________________\n",
      "dropout_9 (Dropout)              (None, 200)           0           hidden_layer_tanh[0][0]          \n",
      "____________________________________________________________________________________________________\n",
      "hidden_layer2_relu (Dense)       (None, 500)           100500      dropout_9[0][0]                  \n",
      "____________________________________________________________________________________________________\n",
      "softmax_output (Dense)           (None, 8)             4008        hidden_layer2_relu[0][0]         \n",
      "====================================================================================================\n"
     ]
    },
    {
     "name": "stderr",
     "output_type": "stream",
     "text": [
      "2017-01-21 15:32:41,632 : INFO : ======= NN Epoch: 1 ==========\n"
     ]
    },
    {
     "name": "stdout",
     "output_type": "stream",
     "text": [
      "Total params: 124708\n",
      "____________________________________________________________________________________________________\n",
      "Epoch 1/1\n",
      "1286325/1286325 [==============================] - 19s - loss: 0.1977    "
     ]
    },
    {
     "name": "stderr",
     "output_type": "stream",
     "text": [
      "2017-01-21 15:33:05,479 : INFO : Evaluating on Training Data\n"
     ]
    },
    {
     "name": "stdout",
     "output_type": "stream",
     "text": [
      "\n",
      "CPU times: user 5.12 s, sys: 7.52 s, total: 12.6 s\n",
      "Wall time: 23.8 s\n"
     ]
    },
    {
     "name": "stderr",
     "output_type": "stream",
     "text": [
      "2017-01-21 15:33:14,287 : INFO : Generating Training Metrics\n",
      "2017-01-21 15:33:49,205 : INFO : Evaluating on Validation Data\n"
     ]
    },
    {
     "name": "stdout",
     "output_type": "stream",
     "text": [
      "** Training Metrics: Cov Err: 1.545, Avg Labels: 1.150, \n",
      "\t\t Top 1: 0.771, Top 3: 0.958, Top 5: 0.992, \n",
      "\t\t F1 Micro: 0.735, F1 Macro: 0.651, Total Pos: 1,391,019\n"
     ]
    },
    {
     "name": "stderr",
     "output_type": "stream",
     "text": [
      "2017-01-21 15:33:53,477 : INFO : Generating Validation Metrics\n",
      "2017-01-21 15:34:01,958 : INFO : ======= NN Epoch: 2 ==========\n"
     ]
    },
    {
     "name": "stdout",
     "output_type": "stream",
     "text": [
      "****** Validation Metrics: Cov Err: 1.542, Avg Labels: 1.150, \n",
      "\t\t Top 1: 0.772, Top 3: 0.959, Top 5: 0.992, \n",
      "\t\t F1 Micro: 0.735, F1 Macro: 0.643, Total Pos: 342,917\n",
      "Epoch 1/1\n",
      "1286325/1286325 [==============================] - 21s - loss: 0.1773    "
     ]
    },
    {
     "name": "stderr",
     "output_type": "stream",
     "text": [
      "2017-01-21 15:34:23,734 : INFO : Evaluating on Training Data\n"
     ]
    },
    {
     "name": "stdout",
     "output_type": "stream",
     "text": [
      "\n",
      "CPU times: user 4.07 s, sys: 7.96 s, total: 12 s\n",
      "Wall time: 21.8 s\n"
     ]
    },
    {
     "name": "stderr",
     "output_type": "stream",
     "text": [
      "2017-01-21 15:34:30,330 : INFO : Generating Training Metrics\n",
      "2017-01-21 15:35:05,171 : INFO : Evaluating on Validation Data\n"
     ]
    },
    {
     "name": "stdout",
     "output_type": "stream",
     "text": [
      "** Training Metrics: Cov Err: 1.522, Avg Labels: 1.150, \n",
      "\t\t Top 1: 0.780, Top 3: 0.961, Top 5: 0.993, \n",
      "\t\t F1 Micro: 0.742, F1 Macro: 0.657, Total Pos: 1,356,841\n"
     ]
    },
    {
     "name": "stderr",
     "output_type": "stream",
     "text": [
      "2017-01-21 15:35:09,417 : INFO : Generating Validation Metrics\n",
      "2017-01-21 15:35:18,132 : INFO : ======= NN Epoch: 3 ==========\n"
     ]
    },
    {
     "name": "stdout",
     "output_type": "stream",
     "text": [
      "****** Validation Metrics: Cov Err: 1.524, Avg Labels: 1.150, \n",
      "\t\t Top 1: 0.779, Top 3: 0.961, Top 5: 0.993, \n",
      "\t\t F1 Micro: 0.740, F1 Macro: 0.650, Total Pos: 336,654\n",
      "Epoch 1/1\n",
      "1286325/1286325 [==============================] - 20s - loss: 0.1734    "
     ]
    },
    {
     "name": "stderr",
     "output_type": "stream",
     "text": [
      "2017-01-21 15:35:38,384 : INFO : Evaluating on Training Data\n"
     ]
    },
    {
     "name": "stdout",
     "output_type": "stream",
     "text": [
      "\n",
      "CPU times: user 4.19 s, sys: 7.31 s, total: 11.5 s\n",
      "Wall time: 20.2 s\n"
     ]
    },
    {
     "name": "stderr",
     "output_type": "stream",
     "text": [
      "2017-01-21 15:35:46,477 : INFO : Generating Training Metrics\n",
      "2017-01-21 15:36:21,482 : INFO : Evaluating on Validation Data\n"
     ]
    },
    {
     "name": "stdout",
     "output_type": "stream",
     "text": [
      "** Training Metrics: Cov Err: 1.504, Avg Labels: 1.150, \n",
      "\t\t Top 1: 0.789, Top 3: 0.964, Top 5: 0.993, \n",
      "\t\t F1 Micro: 0.749, F1 Macro: 0.670, Total Pos: 1,352,348\n"
     ]
    },
    {
     "name": "stderr",
     "output_type": "stream",
     "text": [
      "2017-01-21 15:36:25,725 : INFO : Generating Validation Metrics\n",
      "2017-01-21 15:36:34,237 : INFO : ======= NN Epoch: 4 ==========\n"
     ]
    },
    {
     "name": "stdout",
     "output_type": "stream",
     "text": [
      "****** Validation Metrics: Cov Err: 1.506, Avg Labels: 1.150, \n",
      "\t\t Top 1: 0.788, Top 3: 0.963, Top 5: 0.993, \n",
      "\t\t F1 Micro: 0.747, F1 Macro: 0.663, Total Pos: 336,044\n",
      "Epoch 1/1\n",
      "1286325/1286325 [==============================] - 21s - loss: 0.1711    "
     ]
    },
    {
     "name": "stderr",
     "output_type": "stream",
     "text": [
      "2017-01-21 15:36:55,635 : INFO : Evaluating on Training Data\n"
     ]
    },
    {
     "name": "stdout",
     "output_type": "stream",
     "text": [
      "\n",
      "CPU times: user 4.1 s, sys: 7.56 s, total: 11.7 s\n",
      "Wall time: 21.4 s\n"
     ]
    },
    {
     "name": "stderr",
     "output_type": "stream",
     "text": [
      "2017-01-21 15:37:04,717 : INFO : Generating Training Metrics\n",
      "2017-01-21 15:37:39,357 : INFO : Evaluating on Validation Data\n"
     ]
    },
    {
     "name": "stdout",
     "output_type": "stream",
     "text": [
      "** Training Metrics: Cov Err: 1.499, Avg Labels: 1.150, \n",
      "\t\t Top 1: 0.791, Top 3: 0.964, Top 5: 0.994, \n",
      "\t\t F1 Micro: 0.752, F1 Macro: 0.666, Total Pos: 1,343,967\n"
     ]
    },
    {
     "name": "stderr",
     "output_type": "stream",
     "text": [
      "2017-01-21 15:37:43,615 : INFO : Generating Validation Metrics\n",
      "2017-01-21 15:37:52,022 : INFO : ======= NN Epoch: 5 ==========\n"
     ]
    },
    {
     "name": "stdout",
     "output_type": "stream",
     "text": [
      "****** Validation Metrics: Cov Err: 1.502, Avg Labels: 1.150, \n",
      "\t\t Top 1: 0.791, Top 3: 0.963, Top 5: 0.993, \n",
      "\t\t F1 Micro: 0.751, F1 Macro: 0.659, Total Pos: 335,193\n",
      "Epoch 1/1\n",
      "1286325/1286325 [==============================] - 21s - loss: 0.1693    "
     ]
    },
    {
     "name": "stderr",
     "output_type": "stream",
     "text": [
      "2017-01-21 15:38:13,731 : INFO : Evaluating on Training Data\n"
     ]
    },
    {
     "name": "stdout",
     "output_type": "stream",
     "text": [
      "\n",
      "CPU times: user 4.26 s, sys: 7.5 s, total: 11.8 s\n",
      "Wall time: 21.7 s\n"
     ]
    },
    {
     "name": "stderr",
     "output_type": "stream",
     "text": [
      "2017-01-21 15:38:18,881 : INFO : Generating Training Metrics\n",
      "2017-01-21 15:38:56,655 : INFO : Evaluating on Validation Data\n"
     ]
    },
    {
     "name": "stdout",
     "output_type": "stream",
     "text": [
      "** Training Metrics: Cov Err: 1.492, Avg Labels: 1.150, \n",
      "\t\t Top 1: 0.795, Top 3: 0.965, Top 5: 0.994, \n",
      "\t\t F1 Micro: 0.755, F1 Macro: 0.680, Total Pos: 1,351,785\n"
     ]
    },
    {
     "name": "stderr",
     "output_type": "stream",
     "text": [
      "2017-01-21 15:39:00,927 : INFO : Generating Validation Metrics\n",
      "2017-01-21 15:39:09,433 : INFO : ======= NN Epoch: 6 ==========\n"
     ]
    },
    {
     "name": "stdout",
     "output_type": "stream",
     "text": [
      "****** Validation Metrics: Cov Err: 1.495, Avg Labels: 1.150, \n",
      "\t\t Top 1: 0.793, Top 3: 0.964, Top 5: 0.994, \n",
      "\t\t F1 Micro: 0.754, F1 Macro: 0.676, Total Pos: 337,868\n",
      "Epoch 1/1\n",
      "1286325/1286325 [==============================] - 19s - loss: 0.1681    "
     ]
    },
    {
     "name": "stderr",
     "output_type": "stream",
     "text": [
      "2017-01-21 15:39:29,337 : INFO : Evaluating on Training Data\n"
     ]
    },
    {
     "name": "stdout",
     "output_type": "stream",
     "text": [
      "\n",
      "CPU times: user 4.2 s, sys: 7.28 s, total: 11.5 s\n",
      "Wall time: 19.9 s\n"
     ]
    },
    {
     "name": "stderr",
     "output_type": "stream",
     "text": [
      "2017-01-21 15:39:38,225 : INFO : Generating Training Metrics\n",
      "2017-01-21 15:40:14,922 : INFO : Evaluating on Validation Data\n"
     ]
    },
    {
     "name": "stdout",
     "output_type": "stream",
     "text": [
      "** Training Metrics: Cov Err: 1.492, Avg Labels: 1.150, \n",
      "\t\t Top 1: 0.795, Top 3: 0.965, Top 5: 0.994, \n",
      "\t\t F1 Micro: 0.757, F1 Macro: 0.679, Total Pos: 1,368,442\n"
     ]
    },
    {
     "name": "stderr",
     "output_type": "stream",
     "text": [
      "2017-01-21 15:40:19,143 : INFO : Generating Validation Metrics\n",
      "2017-01-21 15:40:27,488 : INFO : ======= NN Epoch: 7 ==========\n"
     ]
    },
    {
     "name": "stdout",
     "output_type": "stream",
     "text": [
      "****** Validation Metrics: Cov Err: 1.491, Avg Labels: 1.150, \n",
      "\t\t Top 1: 0.796, Top 3: 0.965, Top 5: 0.994, \n",
      "\t\t F1 Micro: 0.757, F1 Macro: 0.674, Total Pos: 341,345\n",
      "Epoch 1/1\n",
      "1286325/1286325 [==============================] - 21s - loss: 0.1670    "
     ]
    },
    {
     "name": "stderr",
     "output_type": "stream",
     "text": [
      "2017-01-21 15:40:49,334 : INFO : Evaluating on Training Data\n"
     ]
    },
    {
     "name": "stdout",
     "output_type": "stream",
     "text": [
      "\n",
      "CPU times: user 4.08 s, sys: 7.64 s, total: 11.7 s\n",
      "Wall time: 21.8 s\n"
     ]
    },
    {
     "name": "stderr",
     "output_type": "stream",
     "text": [
      "2017-01-21 15:40:55,949 : INFO : Generating Training Metrics\n",
      "2017-01-21 15:41:30,430 : INFO : Evaluating on Validation Data\n"
     ]
    },
    {
     "name": "stdout",
     "output_type": "stream",
     "text": [
      "** Training Metrics: Cov Err: 1.487, Avg Labels: 1.150, \n",
      "\t\t Top 1: 0.796, Top 3: 0.966, Top 5: 0.994, \n",
      "\t\t F1 Micro: 0.754, F1 Macro: 0.677, Total Pos: 1,331,898\n"
     ]
    },
    {
     "name": "stderr",
     "output_type": "stream",
     "text": [
      "2017-01-21 15:41:34,668 : INFO : Generating Validation Metrics\n",
      "2017-01-21 15:41:43,123 : INFO : ======= NN Epoch: 8 ==========\n"
     ]
    },
    {
     "name": "stdout",
     "output_type": "stream",
     "text": [
      "****** Validation Metrics: Cov Err: 1.490, Avg Labels: 1.150, \n",
      "\t\t Top 1: 0.795, Top 3: 0.966, Top 5: 0.994, \n",
      "\t\t F1 Micro: 0.753, F1 Macro: 0.672, Total Pos: 332,903\n",
      "Epoch 1/1\n",
      "1286325/1286325 [==============================] - 23s - loss: 0.1661    "
     ]
    },
    {
     "name": "stderr",
     "output_type": "stream",
     "text": [
      "2017-01-21 15:42:06,188 : INFO : Evaluating on Training Data\n"
     ]
    },
    {
     "name": "stdout",
     "output_type": "stream",
     "text": [
      "\n",
      "CPU times: user 4.2 s, sys: 7.88 s, total: 12.1 s\n",
      "Wall time: 23.1 s\n"
     ]
    },
    {
     "name": "stderr",
     "output_type": "stream",
     "text": [
      "2017-01-21 15:42:13,692 : INFO : Generating Training Metrics\n",
      "2017-01-21 15:42:48,105 : INFO : Evaluating on Validation Data\n"
     ]
    },
    {
     "name": "stdout",
     "output_type": "stream",
     "text": [
      "** Training Metrics: Cov Err: 1.484, Avg Labels: 1.150, \n",
      "\t\t Top 1: 0.798, Top 3: 0.966, Top 5: 0.994, \n",
      "\t\t F1 Micro: 0.757, F1 Macro: 0.690, Total Pos: 1,335,039\n"
     ]
    },
    {
     "name": "stderr",
     "output_type": "stream",
     "text": [
      "2017-01-21 15:42:52,323 : INFO : Generating Validation Metrics\n",
      "2017-01-21 15:43:00,709 : INFO : ======= NN Epoch: 9 ==========\n"
     ]
    },
    {
     "name": "stdout",
     "output_type": "stream",
     "text": [
      "****** Validation Metrics: Cov Err: 1.485, Avg Labels: 1.150, \n",
      "\t\t Top 1: 0.797, Top 3: 0.966, Top 5: 0.994, \n",
      "\t\t F1 Micro: 0.755, F1 Macro: 0.686, Total Pos: 333,461\n",
      "Epoch 1/1\n",
      "1286325/1286325 [==============================] - 22s - loss: 0.1653    "
     ]
    },
    {
     "name": "stderr",
     "output_type": "stream",
     "text": [
      "2017-01-21 15:43:23,103 : INFO : Evaluating on Training Data\n"
     ]
    },
    {
     "name": "stdout",
     "output_type": "stream",
     "text": [
      "\n",
      "CPU times: user 4.18 s, sys: 7.58 s, total: 11.8 s\n",
      "Wall time: 22.4 s\n"
     ]
    },
    {
     "name": "stderr",
     "output_type": "stream",
     "text": [
      "2017-01-21 15:43:29,766 : INFO : Generating Training Metrics\n",
      "2017-01-21 15:44:04,781 : INFO : Evaluating on Validation Data\n"
     ]
    },
    {
     "name": "stdout",
     "output_type": "stream",
     "text": [
      "** Training Metrics: Cov Err: 1.485, Avg Labels: 1.150, \n",
      "\t\t Top 1: 0.796, Top 3: 0.966, Top 5: 0.994, \n",
      "\t\t F1 Micro: 0.755, F1 Macro: 0.682, Total Pos: 1,330,393\n"
     ]
    },
    {
     "name": "stderr",
     "output_type": "stream",
     "text": [
      "2017-01-21 15:44:09,024 : INFO : Generating Validation Metrics\n",
      "2017-01-21 15:44:17,524 : INFO : ======= NN Epoch: 10 ==========\n"
     ]
    },
    {
     "name": "stdout",
     "output_type": "stream",
     "text": [
      "****** Validation Metrics: Cov Err: 1.488, Avg Labels: 1.150, \n",
      "\t\t Top 1: 0.796, Top 3: 0.966, Top 5: 0.994, \n",
      "\t\t F1 Micro: 0.754, F1 Macro: 0.677, Total Pos: 332,720\n",
      "Epoch 1/1\n",
      "1286325/1286325 [==============================] - 22s - loss: 0.1646    "
     ]
    },
    {
     "name": "stderr",
     "output_type": "stream",
     "text": [
      "2017-01-21 15:44:39,659 : INFO : Evaluating on Training Data\n"
     ]
    },
    {
     "name": "stdout",
     "output_type": "stream",
     "text": [
      "\n",
      "CPU times: user 4.13 s, sys: 7.9 s, total: 12 s\n",
      "Wall time: 22.1 s\n"
     ]
    },
    {
     "name": "stderr",
     "output_type": "stream",
     "text": [
      "2017-01-21 15:44:46,105 : INFO : Generating Training Metrics\n",
      "2017-01-21 15:45:20,651 : INFO : Evaluating on Validation Data\n"
     ]
    },
    {
     "name": "stdout",
     "output_type": "stream",
     "text": [
      "** Training Metrics: Cov Err: 1.473, Avg Labels: 1.150, \n",
      "\t\t Top 1: 0.803, Top 3: 0.968, Top 5: 0.995, \n",
      "\t\t F1 Micro: 0.763, F1 Macro: 0.690, Total Pos: 1,338,741\n"
     ]
    },
    {
     "name": "stderr",
     "output_type": "stream",
     "text": [
      "2017-01-21 15:45:24,877 : INFO : Generating Validation Metrics\n",
      "2017-01-21 15:45:33,249 : INFO : ======= NN Epoch: 11 ==========\n"
     ]
    },
    {
     "name": "stdout",
     "output_type": "stream",
     "text": [
      "****** Validation Metrics: Cov Err: 1.476, Avg Labels: 1.150, \n",
      "\t\t Top 1: 0.802, Top 3: 0.967, Top 5: 0.994, \n",
      "\t\t F1 Micro: 0.761, F1 Macro: 0.684, Total Pos: 334,187\n",
      "Epoch 1/1\n",
      "1286325/1286325 [==============================] - 20s - loss: 0.1640    "
     ]
    },
    {
     "name": "stderr",
     "output_type": "stream",
     "text": [
      "2017-01-21 15:45:54,181 : INFO : Evaluating on Training Data\n"
     ]
    },
    {
     "name": "stdout",
     "output_type": "stream",
     "text": [
      "\n",
      "CPU times: user 4.05 s, sys: 7.63 s, total: 11.7 s\n",
      "Wall time: 20.9 s\n"
     ]
    },
    {
     "name": "stderr",
     "output_type": "stream",
     "text": [
      "2017-01-21 15:46:02,710 : INFO : Generating Training Metrics\n",
      "2017-01-21 15:46:38,848 : INFO : Evaluating on Validation Data\n"
     ]
    },
    {
     "name": "stdout",
     "output_type": "stream",
     "text": [
      "** Training Metrics: Cov Err: 1.470, Avg Labels: 1.150, \n",
      "\t\t Top 1: 0.805, Top 3: 0.968, Top 5: 0.995, \n",
      "\t\t F1 Micro: 0.763, F1 Macro: 0.693, Total Pos: 1,335,770\n"
     ]
    },
    {
     "name": "stderr",
     "output_type": "stream",
     "text": [
      "2017-01-21 15:46:43,120 : INFO : Generating Validation Metrics\n",
      "2017-01-21 15:46:51,593 : INFO : ======= NN Epoch: 12 ==========\n"
     ]
    },
    {
     "name": "stdout",
     "output_type": "stream",
     "text": [
      "****** Validation Metrics: Cov Err: 1.474, Avg Labels: 1.150, \n",
      "\t\t Top 1: 0.803, Top 3: 0.968, Top 5: 0.994, \n",
      "\t\t F1 Micro: 0.762, F1 Macro: 0.688, Total Pos: 334,129\n",
      "Epoch 1/1\n",
      "1286325/1286325 [==============================] - 19s - loss: 0.1635    "
     ]
    },
    {
     "name": "stderr",
     "output_type": "stream",
     "text": [
      "2017-01-21 15:47:11,101 : INFO : Evaluating on Training Data\n"
     ]
    },
    {
     "name": "stdout",
     "output_type": "stream",
     "text": [
      "\n",
      "CPU times: user 4.09 s, sys: 7.12 s, total: 11.2 s\n",
      "Wall time: 19.5 s\n"
     ]
    },
    {
     "name": "stderr",
     "output_type": "stream",
     "text": [
      "2017-01-21 15:47:19,307 : INFO : Generating Training Metrics\n",
      "2017-01-21 15:47:54,631 : INFO : Evaluating on Validation Data\n"
     ]
    },
    {
     "name": "stdout",
     "output_type": "stream",
     "text": [
      "** Training Metrics: Cov Err: 1.470, Avg Labels: 1.150, \n",
      "\t\t Top 1: 0.806, Top 3: 0.968, Top 5: 0.995, \n",
      "\t\t F1 Micro: 0.768, F1 Macro: 0.695, Total Pos: 1,377,785\n"
     ]
    },
    {
     "name": "stderr",
     "output_type": "stream",
     "text": [
      "2017-01-21 15:47:58,900 : INFO : Generating Validation Metrics\n",
      "2017-01-21 15:48:07,306 : INFO : ======= NN Epoch: 13 ==========\n"
     ]
    },
    {
     "name": "stdout",
     "output_type": "stream",
     "text": [
      "****** Validation Metrics: Cov Err: 1.472, Avg Labels: 1.150, \n",
      "\t\t Top 1: 0.805, Top 3: 0.968, Top 5: 0.994, \n",
      "\t\t F1 Micro: 0.767, F1 Macro: 0.692, Total Pos: 345,246\n",
      "Epoch 1/1\n",
      "1286325/1286325 [==============================] - 21s - loss: 0.1630    "
     ]
    },
    {
     "name": "stderr",
     "output_type": "stream",
     "text": [
      "2017-01-21 15:48:29,126 : INFO : Evaluating on Training Data\n"
     ]
    },
    {
     "name": "stdout",
     "output_type": "stream",
     "text": [
      "\n",
      "CPU times: user 4.24 s, sys: 7.82 s, total: 12.1 s\n",
      "Wall time: 21.8 s\n"
     ]
    },
    {
     "name": "stderr",
     "output_type": "stream",
     "text": [
      "2017-01-21 15:48:35,856 : INFO : Generating Training Metrics\n",
      "2017-01-21 15:49:10,155 : INFO : Evaluating on Validation Data\n"
     ]
    },
    {
     "name": "stdout",
     "output_type": "stream",
     "text": [
      "** Training Metrics: Cov Err: 1.465, Avg Labels: 1.150, \n",
      "\t\t Top 1: 0.807, Top 3: 0.969, Top 5: 0.995, \n",
      "\t\t F1 Micro: 0.765, F1 Macro: 0.688, Total Pos: 1,327,000\n"
     ]
    },
    {
     "name": "stderr",
     "output_type": "stream",
     "text": [
      "2017-01-21 15:49:14,397 : INFO : Generating Validation Metrics\n",
      "2017-01-21 15:49:22,901 : INFO : ======= NN Epoch: 14 ==========\n"
     ]
    },
    {
     "name": "stdout",
     "output_type": "stream",
     "text": [
      "****** Validation Metrics: Cov Err: 1.469, Avg Labels: 1.150, \n",
      "\t\t Top 1: 0.806, Top 3: 0.968, Top 5: 0.994, \n",
      "\t\t F1 Micro: 0.764, F1 Macro: 0.684, Total Pos: 333,546\n",
      "Epoch 1/1\n",
      "1286325/1286325 [==============================] - 20s - loss: 0.1628    "
     ]
    },
    {
     "name": "stderr",
     "output_type": "stream",
     "text": [
      "2017-01-21 15:49:43,390 : INFO : Evaluating on Training Data\n"
     ]
    },
    {
     "name": "stdout",
     "output_type": "stream",
     "text": [
      "\n",
      "CPU times: user 3.82 s, sys: 7.64 s, total: 11.5 s\n",
      "Wall time: 20.5 s\n"
     ]
    },
    {
     "name": "stderr",
     "output_type": "stream",
     "text": [
      "2017-01-21 15:49:50,125 : INFO : Generating Training Metrics\n",
      "2017-01-21 15:50:26,207 : INFO : Evaluating on Validation Data\n"
     ]
    },
    {
     "name": "stdout",
     "output_type": "stream",
     "text": [
      "** Training Metrics: Cov Err: 1.463, Avg Labels: 1.150, \n",
      "\t\t Top 1: 0.808, Top 3: 0.969, Top 5: 0.995, \n",
      "\t\t F1 Micro: 0.773, F1 Macro: 0.693, Total Pos: 1,413,786\n"
     ]
    },
    {
     "name": "stderr",
     "output_type": "stream",
     "text": [
      "2017-01-21 15:50:30,459 : INFO : Generating Validation Metrics\n",
      "2017-01-21 15:50:39,060 : INFO : ======= NN Epoch: 15 ==========\n"
     ]
    },
    {
     "name": "stdout",
     "output_type": "stream",
     "text": [
      "****** Validation Metrics: Cov Err: 1.467, Avg Labels: 1.150, \n",
      "\t\t Top 1: 0.807, Top 3: 0.968, Top 5: 0.995, \n",
      "\t\t F1 Micro: 0.771, F1 Macro: 0.689, Total Pos: 354,706\n",
      "Epoch 1/1\n",
      "1286325/1286325 [==============================] - 21s - loss: 0.1622    "
     ]
    },
    {
     "name": "stderr",
     "output_type": "stream",
     "text": [
      "2017-01-21 15:51:00,924 : INFO : Evaluating on Training Data\n"
     ]
    },
    {
     "name": "stdout",
     "output_type": "stream",
     "text": [
      "\n",
      "CPU times: user 4.17 s, sys: 7.65 s, total: 11.8 s\n",
      "Wall time: 21.8 s\n"
     ]
    },
    {
     "name": "stderr",
     "output_type": "stream",
     "text": [
      "2017-01-21 15:51:07,970 : INFO : Generating Training Metrics\n",
      "2017-01-21 15:51:42,772 : INFO : Evaluating on Validation Data\n"
     ]
    },
    {
     "name": "stdout",
     "output_type": "stream",
     "text": [
      "** Training Metrics: Cov Err: 1.462, Avg Labels: 1.150, \n",
      "\t\t Top 1: 0.809, Top 3: 0.969, Top 5: 0.995, \n",
      "\t\t F1 Micro: 0.773, F1 Macro: 0.701, Total Pos: 1,420,120\n"
     ]
    },
    {
     "name": "stderr",
     "output_type": "stream",
     "text": [
      "2017-01-21 15:51:47,021 : INFO : Generating Validation Metrics\n"
     ]
    },
    {
     "name": "stdout",
     "output_type": "stream",
     "text": [
      "****** Validation Metrics: Cov Err: 1.466, Avg Labels: 1.150, \n",
      "\t\t Top 1: 0.807, Top 3: 0.968, Top 5: 0.995, \n",
      "\t\t F1 Micro: 0.772, F1 Macro: 0.696, Total Pos: 355,676\n",
      "===================================================================================\n",
      "========== 1st Layer Size: 500, 1st Layer Activation: tanh, \n",
      " 2nd Layer Size: 50, 2nd Layer Activation: sigmoid, \n",
      "Input Dropout: False, Hidden Dropout: True==========================\n",
      "____________________________________________________________________________________________________\n",
      "Layer (type)                     Output Shape          Param #     Connected to                     \n",
      "====================================================================================================\n",
      "doc_input (InputLayer)           (None, 100)           0                                            \n",
      "____________________________________________________________________________________________________\n",
      "hidden_layer_tanh (Dense)        (None, 500)           50500       doc_input[0][0]                  \n",
      "____________________________________________________________________________________________________\n",
      "dropout_10 (Dropout)             (None, 500)           0           hidden_layer_tanh[0][0]          \n",
      "____________________________________________________________________________________________________\n",
      "hidden_layer2_sigmoid (Dense)    (None, 50)            25050       dropout_10[0][0]                 \n",
      "____________________________________________________________________________________________________\n",
      "softmax_output (Dense)           (None, 8)             408         hidden_layer2_sigmoid[0][0]      \n",
      "====================================================================================================\n"
     ]
    },
    {
     "name": "stderr",
     "output_type": "stream",
     "text": [
      "2017-01-21 15:51:56,862 : INFO : ======= NN Epoch: 1 ==========\n"
     ]
    },
    {
     "name": "stdout",
     "output_type": "stream",
     "text": [
      "Total params: 75958\n",
      "____________________________________________________________________________________________________\n",
      "Epoch 1/1\n",
      "1286325/1286325 [==============================] - 18s - loss: 0.2232    "
     ]
    },
    {
     "name": "stderr",
     "output_type": "stream",
     "text": [
      "2017-01-21 15:52:29,109 : INFO : Evaluating on Training Data\n"
     ]
    },
    {
     "name": "stdout",
     "output_type": "stream",
     "text": [
      "\n",
      "CPU times: user 5.61 s, sys: 6 s, total: 11.6 s\n",
      "Wall time: 32.2 s\n"
     ]
    },
    {
     "name": "stderr",
     "output_type": "stream",
     "text": [
      "2017-01-21 15:52:38,262 : INFO : Generating Training Metrics\n",
      "2017-01-21 15:53:13,611 : INFO : Evaluating on Validation Data\n"
     ]
    },
    {
     "name": "stdout",
     "output_type": "stream",
     "text": [
      "** Training Metrics: Cov Err: 1.637, Avg Labels: 1.150, \n",
      "\t\t Top 1: 0.731, Top 3: 0.944, Top 5: 0.989, \n",
      "\t\t F1 Micro: 0.685, F1 Macro: 0.535, Total Pos: 1,238,872\n"
     ]
    },
    {
     "name": "stderr",
     "output_type": "stream",
     "text": [
      "2017-01-21 15:53:17,826 : INFO : Generating Validation Metrics\n",
      "2017-01-21 15:53:26,236 : INFO : ======= NN Epoch: 2 ==========\n"
     ]
    },
    {
     "name": "stdout",
     "output_type": "stream",
     "text": [
      "****** Validation Metrics: Cov Err: 1.637, Avg Labels: 1.150, \n",
      "\t\t Top 1: 0.732, Top 3: 0.944, Top 5: 0.989, \n",
      "\t\t F1 Micro: 0.688, F1 Macro: 0.532, Total Pos: 313,456\n",
      "Epoch 1/1\n",
      "1286325/1286325 [==============================] - 16s - loss: 0.1916    "
     ]
    },
    {
     "name": "stderr",
     "output_type": "stream",
     "text": [
      "2017-01-21 15:53:43,233 : INFO : Evaluating on Training Data\n"
     ]
    },
    {
     "name": "stdout",
     "output_type": "stream",
     "text": [
      "\n",
      "CPU times: user 4.04 s, sys: 5.88 s, total: 9.91 s\n",
      "Wall time: 17 s\n"
     ]
    },
    {
     "name": "stderr",
     "output_type": "stream",
     "text": [
      "2017-01-21 15:53:49,778 : INFO : Generating Training Metrics\n",
      "2017-01-21 15:54:24,303 : INFO : Evaluating on Validation Data\n"
     ]
    },
    {
     "name": "stdout",
     "output_type": "stream",
     "text": [
      "** Training Metrics: Cov Err: 1.605, Avg Labels: 1.150, \n",
      "\t\t Top 1: 0.746, Top 3: 0.949, Top 5: 0.990, \n",
      "\t\t F1 Micro: 0.700, F1 Macro: 0.568, Total Pos: 1,246,423\n"
     ]
    },
    {
     "name": "stderr",
     "output_type": "stream",
     "text": [
      "2017-01-21 15:54:28,519 : INFO : Generating Validation Metrics\n",
      "2017-01-21 15:54:36,761 : INFO : ======= NN Epoch: 3 ==========\n"
     ]
    },
    {
     "name": "stdout",
     "output_type": "stream",
     "text": [
      "****** Validation Metrics: Cov Err: 1.605, Avg Labels: 1.150, \n",
      "\t\t Top 1: 0.746, Top 3: 0.949, Top 5: 0.990, \n",
      "\t\t F1 Micro: 0.701, F1 Macro: 0.563, Total Pos: 314,383\n",
      "Epoch 1/1\n",
      "1286325/1286325 [==============================] - 17s - loss: 0.1860    "
     ]
    },
    {
     "name": "stderr",
     "output_type": "stream",
     "text": [
      "2017-01-21 15:54:54,740 : INFO : Evaluating on Training Data\n"
     ]
    },
    {
     "name": "stdout",
     "output_type": "stream",
     "text": [
      "\n",
      "CPU times: user 4.05 s, sys: 5.89 s, total: 9.94 s\n",
      "Wall time: 18 s\n"
     ]
    },
    {
     "name": "stderr",
     "output_type": "stream",
     "text": [
      "2017-01-21 15:55:01,389 : INFO : Generating Training Metrics\n",
      "2017-01-21 15:55:36,161 : INFO : Evaluating on Validation Data\n"
     ]
    },
    {
     "name": "stdout",
     "output_type": "stream",
     "text": [
      "** Training Metrics: Cov Err: 1.584, Avg Labels: 1.150, \n",
      "\t\t Top 1: 0.755, Top 3: 0.952, Top 5: 0.991, \n",
      "\t\t F1 Micro: 0.710, F1 Macro: 0.587, Total Pos: 1,260,062\n"
     ]
    },
    {
     "name": "stderr",
     "output_type": "stream",
     "text": [
      "2017-01-21 15:55:40,369 : INFO : Generating Validation Metrics\n",
      "2017-01-21 15:55:48,664 : INFO : ======= NN Epoch: 4 ==========\n"
     ]
    },
    {
     "name": "stdout",
     "output_type": "stream",
     "text": [
      "****** Validation Metrics: Cov Err: 1.585, Avg Labels: 1.150, \n",
      "\t\t Top 1: 0.754, Top 3: 0.952, Top 5: 0.991, \n",
      "\t\t F1 Micro: 0.710, F1 Macro: 0.584, Total Pos: 317,006\n",
      "Epoch 1/1\n",
      "1286325/1286325 [==============================] - 17s - loss: 0.1830    "
     ]
    },
    {
     "name": "stderr",
     "output_type": "stream",
     "text": [
      "2017-01-21 15:56:06,632 : INFO : Evaluating on Training Data\n"
     ]
    },
    {
     "name": "stdout",
     "output_type": "stream",
     "text": [
      "\n",
      "CPU times: user 3.91 s, sys: 5.88 s, total: 9.79 s\n",
      "Wall time: 18 s\n"
     ]
    },
    {
     "name": "stderr",
     "output_type": "stream",
     "text": [
      "2017-01-21 15:56:13,438 : INFO : Generating Training Metrics\n",
      "2017-01-21 15:56:47,474 : INFO : Evaluating on Validation Data\n"
     ]
    },
    {
     "name": "stdout",
     "output_type": "stream",
     "text": [
      "** Training Metrics: Cov Err: 1.573, Avg Labels: 1.150, \n",
      "\t\t Top 1: 0.760, Top 3: 0.953, Top 5: 0.991, \n",
      "\t\t F1 Micro: 0.716, F1 Macro: 0.593, Total Pos: 1,275,727\n"
     ]
    },
    {
     "name": "stderr",
     "output_type": "stream",
     "text": [
      "2017-01-21 15:56:51,659 : INFO : Generating Validation Metrics\n",
      "2017-01-21 15:56:59,867 : INFO : ======= NN Epoch: 5 ==========\n"
     ]
    },
    {
     "name": "stdout",
     "output_type": "stream",
     "text": [
      "****** Validation Metrics: Cov Err: 1.575, Avg Labels: 1.150, \n",
      "\t\t Top 1: 0.759, Top 3: 0.953, Top 5: 0.991, \n",
      "\t\t F1 Micro: 0.715, F1 Macro: 0.590, Total Pos: 319,961\n",
      "Epoch 1/1\n",
      "1286325/1286325 [==============================] - 17s - loss: 0.1811    "
     ]
    },
    {
     "name": "stderr",
     "output_type": "stream",
     "text": [
      "2017-01-21 15:57:17,634 : INFO : Evaluating on Training Data\n"
     ]
    },
    {
     "name": "stdout",
     "output_type": "stream",
     "text": [
      "\n",
      "CPU times: user 3.8 s, sys: 5.78 s, total: 9.58 s\n",
      "Wall time: 17.8 s\n"
     ]
    },
    {
     "name": "stderr",
     "output_type": "stream",
     "text": [
      "2017-01-21 15:57:24,397 : INFO : Generating Training Metrics\n",
      "2017-01-21 15:57:58,339 : INFO : Evaluating on Validation Data\n"
     ]
    },
    {
     "name": "stdout",
     "output_type": "stream",
     "text": [
      "** Training Metrics: Cov Err: 1.566, Avg Labels: 1.150, \n",
      "\t\t Top 1: 0.764, Top 3: 0.954, Top 5: 0.991, \n",
      "\t\t F1 Micro: 0.718, F1 Macro: 0.605, Total Pos: 1,258,944\n"
     ]
    },
    {
     "name": "stderr",
     "output_type": "stream",
     "text": [
      "2017-01-21 15:58:02,571 : INFO : Generating Validation Metrics\n",
      "2017-01-21 15:58:10,816 : INFO : ======= NN Epoch: 6 ==========\n"
     ]
    },
    {
     "name": "stdout",
     "output_type": "stream",
     "text": [
      "****** Validation Metrics: Cov Err: 1.567, Avg Labels: 1.150, \n",
      "\t\t Top 1: 0.762, Top 3: 0.954, Top 5: 0.991, \n",
      "\t\t F1 Micro: 0.717, F1 Macro: 0.600, Total Pos: 315,690\n",
      "Epoch 1/1\n",
      "1286325/1286325 [==============================] - 16s - loss: 0.1795    "
     ]
    },
    {
     "name": "stderr",
     "output_type": "stream",
     "text": [
      "2017-01-21 15:58:27,307 : INFO : Evaluating on Training Data\n"
     ]
    },
    {
     "name": "stdout",
     "output_type": "stream",
     "text": [
      "\n",
      "CPU times: user 3.92 s, sys: 5.61 s, total: 9.53 s\n",
      "Wall time: 16.5 s\n"
     ]
    },
    {
     "name": "stderr",
     "output_type": "stream",
     "text": [
      "2017-01-21 15:58:33,917 : INFO : Generating Training Metrics\n",
      "2017-01-21 15:59:08,103 : INFO : Evaluating on Validation Data\n"
     ]
    },
    {
     "name": "stdout",
     "output_type": "stream",
     "text": [
      "** Training Metrics: Cov Err: 1.558, Avg Labels: 1.150, \n",
      "\t\t Top 1: 0.766, Top 3: 0.956, Top 5: 0.991, \n",
      "\t\t F1 Micro: 0.724, F1 Macro: 0.616, Total Pos: 1,289,754\n"
     ]
    },
    {
     "name": "stderr",
     "output_type": "stream",
     "text": [
      "2017-01-21 15:59:12,316 : INFO : Generating Validation Metrics\n",
      "2017-01-21 15:59:20,555 : INFO : ======= NN Epoch: 7 ==========\n"
     ]
    },
    {
     "name": "stdout",
     "output_type": "stream",
     "text": [
      "****** Validation Metrics: Cov Err: 1.559, Avg Labels: 1.150, \n",
      "\t\t Top 1: 0.766, Top 3: 0.955, Top 5: 0.991, \n",
      "\t\t F1 Micro: 0.723, F1 Macro: 0.614, Total Pos: 323,061\n",
      "Epoch 1/1\n",
      "1286325/1286325 [==============================] - 18s - loss: 0.1783    \n",
      "CPU times: user 4.01 s, sys: 6.01 s, total: 10 s\n",
      "Wall time: 18.4 s\n"
     ]
    },
    {
     "name": "stderr",
     "output_type": "stream",
     "text": [
      "2017-01-21 15:59:38,943 : INFO : Evaluating on Training Data\n",
      "2017-01-21 15:59:45,793 : INFO : Generating Training Metrics\n",
      "2017-01-21 16:00:19,736 : INFO : Evaluating on Validation Data\n"
     ]
    },
    {
     "name": "stdout",
     "output_type": "stream",
     "text": [
      "** Training Metrics: Cov Err: 1.555, Avg Labels: 1.150, \n",
      "\t\t Top 1: 0.767, Top 3: 0.956, Top 5: 0.992, \n",
      "\t\t F1 Micro: 0.726, F1 Macro: 0.624, Total Pos: 1,299,180\n"
     ]
    },
    {
     "name": "stderr",
     "output_type": "stream",
     "text": [
      "2017-01-21 16:00:23,920 : INFO : Generating Validation Metrics\n",
      "2017-01-21 16:00:32,228 : INFO : ======= NN Epoch: 8 ==========\n"
     ]
    },
    {
     "name": "stdout",
     "output_type": "stream",
     "text": [
      "****** Validation Metrics: Cov Err: 1.553, Avg Labels: 1.150, \n",
      "\t\t Top 1: 0.768, Top 3: 0.956, Top 5: 0.992, \n",
      "\t\t F1 Micro: 0.725, F1 Macro: 0.622, Total Pos: 324,997\n",
      "Epoch 1/1\n",
      "1286325/1286325 [==============================] - 18s - loss: 0.1772    "
     ]
    },
    {
     "name": "stderr",
     "output_type": "stream",
     "text": [
      "2017-01-21 16:00:50,452 : INFO : Evaluating on Training Data\n"
     ]
    },
    {
     "name": "stdout",
     "output_type": "stream",
     "text": [
      "\n",
      "CPU times: user 3.92 s, sys: 5.94 s, total: 9.87 s\n",
      "Wall time: 18.2 s\n"
     ]
    },
    {
     "name": "stderr",
     "output_type": "stream",
     "text": [
      "2017-01-21 16:00:57,088 : INFO : Generating Training Metrics\n",
      "2017-01-21 16:01:31,144 : INFO : Evaluating on Validation Data\n"
     ]
    },
    {
     "name": "stdout",
     "output_type": "stream",
     "text": [
      "** Training Metrics: Cov Err: 1.547, Avg Labels: 1.150, \n",
      "\t\t Top 1: 0.772, Top 3: 0.957, Top 5: 0.992, \n",
      "\t\t F1 Micro: 0.729, F1 Macro: 0.631, Total Pos: 1,293,384\n"
     ]
    },
    {
     "name": "stderr",
     "output_type": "stream",
     "text": [
      "2017-01-21 16:01:35,354 : INFO : Generating Validation Metrics\n",
      "2017-01-21 16:01:43,656 : INFO : ======= NN Epoch: 9 ==========\n"
     ]
    },
    {
     "name": "stdout",
     "output_type": "stream",
     "text": [
      "****** Validation Metrics: Cov Err: 1.546, Avg Labels: 1.150, \n",
      "\t\t Top 1: 0.771, Top 3: 0.957, Top 5: 0.992, \n",
      "\t\t F1 Micro: 0.728, F1 Macro: 0.628, Total Pos: 323,120\n",
      "Epoch 1/1\n",
      "1286325/1286325 [==============================] - 16s - loss: 0.1761    "
     ]
    },
    {
     "name": "stderr",
     "output_type": "stream",
     "text": [
      "2017-01-21 16:02:00,142 : INFO : Evaluating on Training Data\n"
     ]
    },
    {
     "name": "stdout",
     "output_type": "stream",
     "text": [
      "\n",
      "CPU times: user 3.89 s, sys: 5.5 s, total: 9.39 s\n",
      "Wall time: 16.5 s\n"
     ]
    },
    {
     "name": "stderr",
     "output_type": "stream",
     "text": [
      "2017-01-21 16:02:06,937 : INFO : Generating Training Metrics\n",
      "2017-01-21 16:02:40,970 : INFO : Evaluating on Validation Data\n"
     ]
    },
    {
     "name": "stdout",
     "output_type": "stream",
     "text": [
      "** Training Metrics: Cov Err: 1.542, Avg Labels: 1.150, \n",
      "\t\t Top 1: 0.774, Top 3: 0.958, Top 5: 0.992, \n",
      "\t\t F1 Micro: 0.731, F1 Macro: 0.627, Total Pos: 1,288,224\n"
     ]
    },
    {
     "name": "stderr",
     "output_type": "stream",
     "text": [
      "2017-01-21 16:02:45,168 : INFO : Generating Validation Metrics\n",
      "2017-01-21 16:02:53,409 : INFO : ======= NN Epoch: 10 ==========\n"
     ]
    },
    {
     "name": "stdout",
     "output_type": "stream",
     "text": [
      "****** Validation Metrics: Cov Err: 1.544, Avg Labels: 1.150, \n",
      "\t\t Top 1: 0.773, Top 3: 0.958, Top 5: 0.992, \n",
      "\t\t F1 Micro: 0.730, F1 Macro: 0.623, Total Pos: 321,983\n",
      "Epoch 1/1\n",
      "1286325/1286325 [==============================] - 18s - loss: 0.1751    "
     ]
    },
    {
     "name": "stderr",
     "output_type": "stream",
     "text": [
      "2017-01-21 16:03:11,453 : INFO : Evaluating on Training Data\n"
     ]
    },
    {
     "name": "stdout",
     "output_type": "stream",
     "text": [
      "\n",
      "CPU times: user 3.83 s, sys: 6.08 s, total: 9.91 s\n",
      "Wall time: 18 s\n"
     ]
    },
    {
     "name": "stderr",
     "output_type": "stream",
     "text": [
      "2017-01-21 16:03:17,958 : INFO : Generating Training Metrics\n",
      "2017-01-21 16:03:52,391 : INFO : Evaluating on Validation Data\n"
     ]
    },
    {
     "name": "stdout",
     "output_type": "stream",
     "text": [
      "** Training Metrics: Cov Err: 1.538, Avg Labels: 1.150, \n",
      "\t\t Top 1: 0.776, Top 3: 0.958, Top 5: 0.992, \n",
      "\t\t F1 Micro: 0.733, F1 Macro: 0.635, Total Pos: 1,289,276\n"
     ]
    },
    {
     "name": "stderr",
     "output_type": "stream",
     "text": [
      "2017-01-21 16:03:56,555 : INFO : Generating Validation Metrics\n",
      "2017-01-21 16:04:04,826 : INFO : ======= NN Epoch: 11 ==========\n"
     ]
    },
    {
     "name": "stdout",
     "output_type": "stream",
     "text": [
      "****** Validation Metrics: Cov Err: 1.538, Avg Labels: 1.150, \n",
      "\t\t Top 1: 0.776, Top 3: 0.958, Top 5: 0.992, \n",
      "\t\t F1 Micro: 0.733, F1 Macro: 0.633, Total Pos: 322,768\n",
      "Epoch 1/1\n",
      "1286325/1286325 [==============================] - 17s - loss: 0.1743    "
     ]
    },
    {
     "name": "stderr",
     "output_type": "stream",
     "text": [
      "2017-01-21 16:04:22,753 : INFO : Evaluating on Training Data\n"
     ]
    },
    {
     "name": "stdout",
     "output_type": "stream",
     "text": [
      "\n",
      "CPU times: user 3.9 s, sys: 5.6 s, total: 9.49 s\n",
      "Wall time: 17.9 s\n"
     ]
    },
    {
     "name": "stderr",
     "output_type": "stream",
     "text": [
      "2017-01-21 16:04:29,905 : INFO : Generating Training Metrics\n",
      "2017-01-21 16:05:03,976 : INFO : Evaluating on Validation Data\n"
     ]
    },
    {
     "name": "stdout",
     "output_type": "stream",
     "text": [
      "** Training Metrics: Cov Err: 1.533, Avg Labels: 1.150, \n",
      "\t\t Top 1: 0.778, Top 3: 0.959, Top 5: 0.992, \n",
      "\t\t F1 Micro: 0.736, F1 Macro: 0.642, Total Pos: 1,302,090\n"
     ]
    },
    {
     "name": "stderr",
     "output_type": "stream",
     "text": [
      "2017-01-21 16:05:08,176 : INFO : Generating Validation Metrics\n",
      "2017-01-21 16:05:16,383 : INFO : ======= NN Epoch: 12 ==========\n"
     ]
    },
    {
     "name": "stdout",
     "output_type": "stream",
     "text": [
      "****** Validation Metrics: Cov Err: 1.534, Avg Labels: 1.150, \n",
      "\t\t Top 1: 0.777, Top 3: 0.959, Top 5: 0.992, \n",
      "\t\t F1 Micro: 0.735, F1 Macro: 0.637, Total Pos: 325,801\n",
      "Epoch 1/1\n",
      "1286325/1286325 [==============================] - 18s - loss: 0.1734    "
     ]
    },
    {
     "name": "stderr",
     "output_type": "stream",
     "text": [
      "2017-01-21 16:05:34,826 : INFO : Evaluating on Training Data\n"
     ]
    },
    {
     "name": "stdout",
     "output_type": "stream",
     "text": [
      "\n",
      "CPU times: user 3.88 s, sys: 6.34 s, total: 10.2 s\n",
      "Wall time: 18.4 s\n"
     ]
    },
    {
     "name": "stderr",
     "output_type": "stream",
     "text": [
      "2017-01-21 16:05:41,458 : INFO : Generating Training Metrics\n",
      "2017-01-21 16:06:15,530 : INFO : Evaluating on Validation Data\n"
     ]
    },
    {
     "name": "stdout",
     "output_type": "stream",
     "text": [
      "** Training Metrics: Cov Err: 1.530, Avg Labels: 1.150, \n",
      "\t\t Top 1: 0.779, Top 3: 0.959, Top 5: 0.992, \n",
      "\t\t F1 Micro: 0.738, F1 Macro: 0.635, Total Pos: 1,314,201\n"
     ]
    },
    {
     "name": "stderr",
     "output_type": "stream",
     "text": [
      "2017-01-21 16:06:19,701 : INFO : Generating Validation Metrics\n",
      "2017-01-21 16:06:28,052 : INFO : ======= NN Epoch: 13 ==========\n"
     ]
    },
    {
     "name": "stdout",
     "output_type": "stream",
     "text": [
      "****** Validation Metrics: Cov Err: 1.530, Avg Labels: 1.150, \n",
      "\t\t Top 1: 0.779, Top 3: 0.959, Top 5: 0.992, \n",
      "\t\t F1 Micro: 0.737, F1 Macro: 0.630, Total Pos: 328,768\n",
      "Epoch 1/1\n",
      "1286325/1286325 [==============================] - 18s - loss: 0.1727    "
     ]
    },
    {
     "name": "stderr",
     "output_type": "stream",
     "text": [
      "2017-01-21 16:06:46,347 : INFO : Evaluating on Training Data\n"
     ]
    },
    {
     "name": "stdout",
     "output_type": "stream",
     "text": [
      "\n",
      "CPU times: user 3.91 s, sys: 6.1 s, total: 10 s\n",
      "Wall time: 18.3 s\n"
     ]
    },
    {
     "name": "stderr",
     "output_type": "stream",
     "text": [
      "2017-01-21 16:06:53,650 : INFO : Generating Training Metrics\n",
      "2017-01-21 16:07:27,879 : INFO : Evaluating on Validation Data\n"
     ]
    },
    {
     "name": "stdout",
     "output_type": "stream",
     "text": [
      "** Training Metrics: Cov Err: 1.526, Avg Labels: 1.150, \n",
      "\t\t Top 1: 0.782, Top 3: 0.960, Top 5: 0.992, \n",
      "\t\t F1 Micro: 0.740, F1 Macro: 0.640, Total Pos: 1,306,339\n"
     ]
    },
    {
     "name": "stderr",
     "output_type": "stream",
     "text": [
      "2017-01-21 16:07:32,055 : INFO : Generating Validation Metrics\n",
      "2017-01-21 16:07:40,312 : INFO : ======= NN Epoch: 14 ==========\n"
     ]
    },
    {
     "name": "stdout",
     "output_type": "stream",
     "text": [
      "****** Validation Metrics: Cov Err: 1.526, Avg Labels: 1.150, \n",
      "\t\t Top 1: 0.781, Top 3: 0.960, Top 5: 0.992, \n",
      "\t\t F1 Micro: 0.739, F1 Macro: 0.636, Total Pos: 327,174\n",
      "Epoch 1/1\n",
      "1286325/1286325 [==============================] - 17s - loss: 0.1722    "
     ]
    },
    {
     "name": "stderr",
     "output_type": "stream",
     "text": [
      "2017-01-21 16:07:58,210 : INFO : Evaluating on Training Data\n"
     ]
    },
    {
     "name": "stdout",
     "output_type": "stream",
     "text": [
      "\n",
      "CPU times: user 3.89 s, sys: 5.91 s, total: 9.8 s\n",
      "Wall time: 17.9 s\n"
     ]
    },
    {
     "name": "stderr",
     "output_type": "stream",
     "text": [
      "2017-01-21 16:08:04,941 : INFO : Generating Training Metrics\n",
      "2017-01-21 16:08:39,179 : INFO : Evaluating on Validation Data\n"
     ]
    },
    {
     "name": "stdout",
     "output_type": "stream",
     "text": [
      "** Training Metrics: Cov Err: 1.522, Avg Labels: 1.150, \n",
      "\t\t Top 1: 0.783, Top 3: 0.960, Top 5: 0.993, \n",
      "\t\t F1 Micro: 0.743, F1 Macro: 0.648, Total Pos: 1,319,089\n"
     ]
    },
    {
     "name": "stderr",
     "output_type": "stream",
     "text": [
      "2017-01-21 16:08:43,378 : INFO : Generating Validation Metrics\n",
      "2017-01-21 16:08:51,622 : INFO : ======= NN Epoch: 15 ==========\n"
     ]
    },
    {
     "name": "stdout",
     "output_type": "stream",
     "text": [
      "****** Validation Metrics: Cov Err: 1.523, Avg Labels: 1.150, \n",
      "\t\t Top 1: 0.783, Top 3: 0.960, Top 5: 0.992, \n",
      "\t\t F1 Micro: 0.742, F1 Macro: 0.642, Total Pos: 330,436\n",
      "Epoch 1/1\n",
      "1286325/1286325 [==============================] - 18s - loss: 0.1716    "
     ]
    },
    {
     "name": "stderr",
     "output_type": "stream",
     "text": [
      "2017-01-21 16:09:09,772 : INFO : Evaluating on Training Data\n"
     ]
    },
    {
     "name": "stdout",
     "output_type": "stream",
     "text": [
      "\n",
      "CPU times: user 4.07 s, sys: 6.04 s, total: 10.1 s\n",
      "Wall time: 18.1 s\n"
     ]
    },
    {
     "name": "stderr",
     "output_type": "stream",
     "text": [
      "2017-01-21 16:09:16,235 : INFO : Generating Training Metrics\n",
      "2017-01-21 16:09:50,596 : INFO : Evaluating on Validation Data\n"
     ]
    },
    {
     "name": "stdout",
     "output_type": "stream",
     "text": [
      "** Training Metrics: Cov Err: 1.520, Avg Labels: 1.150, \n",
      "\t\t Top 1: 0.784, Top 3: 0.961, Top 5: 0.993, \n",
      "\t\t F1 Micro: 0.743, F1 Macro: 0.642, Total Pos: 1,318,554\n"
     ]
    },
    {
     "name": "stderr",
     "output_type": "stream",
     "text": [
      "2017-01-21 16:09:54,827 : INFO : Generating Validation Metrics\n"
     ]
    },
    {
     "name": "stdout",
     "output_type": "stream",
     "text": [
      "****** Validation Metrics: Cov Err: 1.521, Avg Labels: 1.150, \n",
      "\t\t Top 1: 0.783, Top 3: 0.961, Top 5: 0.992, \n",
      "\t\t F1 Micro: 0.743, F1 Macro: 0.638, Total Pos: 329,901\n",
      "===================================================================================\n",
      "========== 1st Layer Size: 500, 1st Layer Activation: sigmoid, \n",
      " 2nd Layer Size: None, 2nd Layer Activation: relu, \n",
      "Input Dropout: True, Hidden Dropout: True==========================\n",
      "____________________________________________________________________________________________________\n",
      "Layer (type)                     Output Shape          Param #     Connected to                     \n",
      "====================================================================================================\n",
      "doc_input (InputLayer)           (None, 100)           0                                            \n",
      "____________________________________________________________________________________________________\n",
      "dropout_11 (Dropout)             (None, 100)           0           doc_input[0][0]                  \n",
      "____________________________________________________________________________________________________\n",
      "hidden_layer_sigmoid (Dense)     (None, 500)           50500       dropout_11[0][0]                 \n",
      "____________________________________________________________________________________________________\n",
      "dropout_12 (Dropout)             (None, 500)           0           hidden_layer_sigmoid[0][0]       \n",
      "____________________________________________________________________________________________________\n",
      "softmax_output (Dense)           (None, 8)             4008        dropout_12[0][0]                 \n",
      "====================================================================================================\n"
     ]
    },
    {
     "name": "stderr",
     "output_type": "stream",
     "text": [
      "2017-01-21 16:10:09,896 : INFO : ======= NN Epoch: 1 ==========\n"
     ]
    },
    {
     "name": "stdout",
     "output_type": "stream",
     "text": [
      "Total params: 54508\n",
      "____________________________________________________________________________________________________\n",
      "Epoch 1/1\n",
      "1286325/1286325 [==============================] - 15s - loss: 0.3041    "
     ]
    },
    {
     "name": "stderr",
     "output_type": "stream",
     "text": [
      "2017-01-21 16:10:34,741 : INFO : Evaluating on Training Data\n"
     ]
    },
    {
     "name": "stdout",
     "output_type": "stream",
     "text": [
      "\n",
      "CPU times: user 4.96 s, sys: 5.58 s, total: 10.5 s\n",
      "Wall time: 24.8 s\n"
     ]
    },
    {
     "name": "stderr",
     "output_type": "stream",
     "text": [
      "2017-01-21 16:10:45,752 : INFO : Generating Training Metrics\n",
      "2017-01-21 16:11:19,447 : INFO : Evaluating on Validation Data\n"
     ]
    },
    {
     "name": "stdout",
     "output_type": "stream",
     "text": [
      "** Training Metrics: Cov Err: 1.878, Avg Labels: 1.150, \n",
      "\t\t Top 1: 0.646, Top 3: 0.901, Top 5: 0.978, \n",
      "\t\t F1 Micro: 0.421, F1 Macro: 0.213, Total Pos: 542,785\n"
     ]
    },
    {
     "name": "stderr",
     "output_type": "stream",
     "text": [
      "2017-01-21 16:11:23,784 : INFO : Generating Validation Metrics\n",
      "2017-01-21 16:11:32,407 : INFO : ======= NN Epoch: 2 ==========\n"
     ]
    },
    {
     "name": "stdout",
     "output_type": "stream",
     "text": [
      "****** Validation Metrics: Cov Err: 1.868, Avg Labels: 1.150, \n",
      "\t\t Top 1: 0.652, Top 3: 0.902, Top 5: 0.979, \n",
      "\t\t F1 Micro: 0.456, F1 Macro: 0.222, Total Pos: 156,175\n",
      "Epoch 1/1\n",
      "1286325/1286325 [==============================] - 17s - loss: 0.2881    "
     ]
    },
    {
     "name": "stderr",
     "output_type": "stream",
     "text": [
      "2017-01-21 16:11:49,606 : INFO : Evaluating on Training Data\n"
     ]
    },
    {
     "name": "stdout",
     "output_type": "stream",
     "text": [
      "\n",
      "CPU times: user 3.72 s, sys: 6.15 s, total: 9.87 s\n",
      "Wall time: 17.2 s\n"
     ]
    },
    {
     "name": "stderr",
     "output_type": "stream",
     "text": [
      "2017-01-21 16:11:57,908 : INFO : Generating Training Metrics\n",
      "2017-01-21 16:12:30,972 : INFO : Evaluating on Validation Data\n"
     ]
    },
    {
     "name": "stdout",
     "output_type": "stream",
     "text": [
      "** Training Metrics: Cov Err: 1.829, Avg Labels: 1.150, \n",
      "\t\t Top 1: 0.660, Top 3: 0.911, Top 5: 0.980, \n",
      "\t\t F1 Micro: 0.465, F1 Macro: 0.237, Total Pos: 631,187\n"
     ]
    },
    {
     "name": "stderr",
     "output_type": "stream",
     "text": [
      "2017-01-21 16:12:35,330 : INFO : Generating Validation Metrics\n",
      "2017-01-21 16:12:43,708 : INFO : ======= NN Epoch: 3 ==========\n"
     ]
    },
    {
     "name": "stdout",
     "output_type": "stream",
     "text": [
      "****** Validation Metrics: Cov Err: 1.818, Avg Labels: 1.150, \n",
      "\t\t Top 1: 0.666, Top 3: 0.912, Top 5: 0.981, \n",
      "\t\t F1 Micro: 0.493, F1 Macro: 0.247, Total Pos: 175,385\n",
      "Epoch 1/1\n",
      "1286325/1286325 [==============================] - 15s - loss: 0.2848    "
     ]
    },
    {
     "name": "stderr",
     "output_type": "stream",
     "text": [
      "2017-01-21 16:12:58,847 : INFO : Evaluating on Training Data\n"
     ]
    },
    {
     "name": "stdout",
     "output_type": "stream",
     "text": [
      "\n",
      "CPU times: user 3.36 s, sys: 5.71 s, total: 9.07 s\n",
      "Wall time: 15.1 s\n"
     ]
    },
    {
     "name": "stderr",
     "output_type": "stream",
     "text": [
      "2017-01-21 16:13:07,108 : INFO : Generating Training Metrics\n",
      "2017-01-21 16:13:41,164 : INFO : Evaluating on Validation Data\n"
     ]
    },
    {
     "name": "stdout",
     "output_type": "stream",
     "text": [
      "** Training Metrics: Cov Err: 1.774, Avg Labels: 1.150, \n",
      "\t\t Top 1: 0.681, Top 3: 0.923, Top 5: 0.980, \n",
      "\t\t F1 Micro: 0.463, F1 Macro: 0.266, Total Pos: 589,164\n"
     ]
    },
    {
     "name": "stderr",
     "output_type": "stream",
     "text": [
      "2017-01-21 16:13:45,323 : INFO : Generating Validation Metrics\n",
      "2017-01-21 16:13:53,552 : INFO : ======= NN Epoch: 4 ==========\n"
     ]
    },
    {
     "name": "stdout",
     "output_type": "stream",
     "text": [
      "****** Validation Metrics: Cov Err: 1.766, Avg Labels: 1.150, \n",
      "\t\t Top 1: 0.686, Top 3: 0.923, Top 5: 0.981, \n",
      "\t\t F1 Micro: 0.496, F1 Macro: 0.281, Total Pos: 164,940\n",
      "Epoch 1/1\n",
      "1286325/1286325 [==============================] - 16s - loss: 0.2823    "
     ]
    },
    {
     "name": "stderr",
     "output_type": "stream",
     "text": [
      "2017-01-21 16:14:10,338 : INFO : Evaluating on Training Data\n"
     ]
    },
    {
     "name": "stdout",
     "output_type": "stream",
     "text": [
      "\n",
      "CPU times: user 3.78 s, sys: 5.79 s, total: 9.56 s\n",
      "Wall time: 16.8 s\n"
     ]
    },
    {
     "name": "stderr",
     "output_type": "stream",
     "text": [
      "2017-01-21 16:14:17,233 : INFO : Generating Training Metrics\n",
      "2017-01-21 16:14:52,275 : INFO : Evaluating on Validation Data\n"
     ]
    },
    {
     "name": "stdout",
     "output_type": "stream",
     "text": [
      "** Training Metrics: Cov Err: 1.762, Avg Labels: 1.150, \n",
      "\t\t Top 1: 0.682, Top 3: 0.925, Top 5: 0.981, \n",
      "\t\t F1 Micro: 0.510, F1 Macro: 0.295, Total Pos: 722,040\n"
     ]
    },
    {
     "name": "stderr",
     "output_type": "stream",
     "text": [
      "2017-01-21 16:14:56,485 : INFO : Generating Validation Metrics\n",
      "2017-01-21 16:15:05,099 : INFO : ======= NN Epoch: 5 ==========\n"
     ]
    },
    {
     "name": "stdout",
     "output_type": "stream",
     "text": [
      "****** Validation Metrics: Cov Err: 1.753, Avg Labels: 1.150, \n",
      "\t\t Top 1: 0.686, Top 3: 0.926, Top 5: 0.982, \n",
      "\t\t F1 Micro: 0.532, F1 Macro: 0.306, Total Pos: 193,238\n",
      "Epoch 1/1\n",
      "1286325/1286325 [==============================] - 15s - loss: 0.2799    "
     ]
    },
    {
     "name": "stderr",
     "output_type": "stream",
     "text": [
      "2017-01-21 16:15:21,007 : INFO : Evaluating on Training Data\n"
     ]
    },
    {
     "name": "stdout",
     "output_type": "stream",
     "text": [
      "\n",
      "CPU times: user 3.52 s, sys: 5.65 s, total: 9.17 s\n",
      "Wall time: 15.9 s\n"
     ]
    },
    {
     "name": "stderr",
     "output_type": "stream",
     "text": [
      "2017-01-21 16:15:27,856 : INFO : Generating Training Metrics\n",
      "2017-01-21 16:16:01,827 : INFO : Evaluating on Validation Data\n"
     ]
    },
    {
     "name": "stdout",
     "output_type": "stream",
     "text": [
      "** Training Metrics: Cov Err: 1.757, Avg Labels: 1.150, \n",
      "\t\t Top 1: 0.685, Top 3: 0.924, Top 5: 0.983, \n",
      "\t\t F1 Micro: 0.566, F1 Macro: 0.323, Total Pos: 877,239\n"
     ]
    },
    {
     "name": "stderr",
     "output_type": "stream",
     "text": [
      "2017-01-21 16:16:05,965 : INFO : Generating Validation Metrics\n",
      "2017-01-21 16:16:14,210 : INFO : ======= NN Epoch: 6 ==========\n"
     ]
    },
    {
     "name": "stdout",
     "output_type": "stream",
     "text": [
      "****** Validation Metrics: Cov Err: 1.749, Avg Labels: 1.150, \n",
      "\t\t Top 1: 0.688, Top 3: 0.925, Top 5: 0.984, \n",
      "\t\t F1 Micro: 0.581, F1 Macro: 0.333, Total Pos: 230,145\n",
      "Epoch 1/1\n",
      "1286325/1286325 [==============================] - 16s - loss: 0.2776    "
     ]
    },
    {
     "name": "stderr",
     "output_type": "stream",
     "text": [
      "2017-01-21 16:16:30,603 : INFO : Evaluating on Training Data\n"
     ]
    },
    {
     "name": "stdout",
     "output_type": "stream",
     "text": [
      "\n",
      "CPU times: user 3.44 s, sys: 5.81 s, total: 9.25 s\n",
      "Wall time: 16.4 s\n"
     ]
    },
    {
     "name": "stderr",
     "output_type": "stream",
     "text": [
      "2017-01-21 16:16:37,213 : INFO : Generating Training Metrics\n",
      "2017-01-21 16:17:11,604 : INFO : Evaluating on Validation Data\n"
     ]
    },
    {
     "name": "stdout",
     "output_type": "stream",
     "text": [
      "** Training Metrics: Cov Err: 1.710, Avg Labels: 1.150, \n",
      "\t\t Top 1: 0.705, Top 3: 0.933, Top 5: 0.985, \n",
      "\t\t F1 Micro: 0.561, F1 Macro: 0.335, Total Pos: 811,489\n"
     ]
    },
    {
     "name": "stderr",
     "output_type": "stream",
     "text": [
      "2017-01-21 16:17:15,795 : INFO : Generating Validation Metrics\n",
      "2017-01-21 16:17:24,258 : INFO : ======= NN Epoch: 7 ==========\n"
     ]
    },
    {
     "name": "stdout",
     "output_type": "stream",
     "text": [
      "****** Validation Metrics: Cov Err: 1.701, Avg Labels: 1.150, \n",
      "\t\t Top 1: 0.709, Top 3: 0.933, Top 5: 0.986, \n",
      "\t\t F1 Micro: 0.581, F1 Macro: 0.352, Total Pos: 215,010\n",
      "Epoch 1/1\n",
      "1286325/1286325 [==============================] - 15s - loss: 0.2759    "
     ]
    },
    {
     "name": "stderr",
     "output_type": "stream",
     "text": [
      "2017-01-21 16:17:40,172 : INFO : Evaluating on Training Data\n"
     ]
    },
    {
     "name": "stdout",
     "output_type": "stream",
     "text": [
      "\n",
      "CPU times: user 3.56 s, sys: 5.46 s, total: 9.01 s\n",
      "Wall time: 15.9 s\n"
     ]
    },
    {
     "name": "stderr",
     "output_type": "stream",
     "text": [
      "2017-01-21 16:17:48,261 : INFO : Generating Training Metrics\n",
      "2017-01-21 16:18:22,061 : INFO : Evaluating on Validation Data\n"
     ]
    },
    {
     "name": "stdout",
     "output_type": "stream",
     "text": [
      "** Training Metrics: Cov Err: 1.712, Avg Labels: 1.150, \n",
      "\t\t Top 1: 0.696, Top 3: 0.934, Top 5: 0.986, \n",
      "\t\t F1 Micro: 0.573, F1 Macro: 0.337, Total Pos: 878,446\n"
     ]
    },
    {
     "name": "stderr",
     "output_type": "stream",
     "text": [
      "2017-01-21 16:18:26,237 : INFO : Generating Validation Metrics\n",
      "2017-01-21 16:18:34,473 : INFO : ======= NN Epoch: 8 ==========\n"
     ]
    },
    {
     "name": "stdout",
     "output_type": "stream",
     "text": [
      "****** Validation Metrics: Cov Err: 1.700, Avg Labels: 1.150, \n",
      "\t\t Top 1: 0.703, Top 3: 0.935, Top 5: 0.987, \n",
      "\t\t F1 Micro: 0.591, F1 Macro: 0.351, Total Pos: 230,886\n",
      "Epoch 1/1\n",
      "1286325/1286325 [==============================] - 16s - loss: 0.2741    "
     ]
    },
    {
     "name": "stderr",
     "output_type": "stream",
     "text": [
      "2017-01-21 16:18:51,448 : INFO : Evaluating on Training Data\n"
     ]
    },
    {
     "name": "stdout",
     "output_type": "stream",
     "text": [
      "\n",
      "CPU times: user 3.81 s, sys: 6.06 s, total: 9.86 s\n",
      "Wall time: 17 s\n"
     ]
    },
    {
     "name": "stderr",
     "output_type": "stream",
     "text": [
      "2017-01-21 16:18:58,328 : INFO : Generating Training Metrics\n",
      "2017-01-21 16:19:32,630 : INFO : Evaluating on Validation Data\n"
     ]
    },
    {
     "name": "stdout",
     "output_type": "stream",
     "text": [
      "** Training Metrics: Cov Err: 1.697, Avg Labels: 1.150, \n",
      "\t\t Top 1: 0.709, Top 3: 0.935, Top 5: 0.986, \n",
      "\t\t F1 Micro: 0.597, F1 Macro: 0.353, Total Pos: 928,600\n"
     ]
    },
    {
     "name": "stderr",
     "output_type": "stream",
     "text": [
      "2017-01-21 16:19:36,764 : INFO : Generating Validation Metrics\n",
      "2017-01-21 16:19:45,315 : INFO : ======= NN Epoch: 9 ==========\n"
     ]
    },
    {
     "name": "stdout",
     "output_type": "stream",
     "text": [
      "****** Validation Metrics: Cov Err: 1.689, Avg Labels: 1.150, \n",
      "\t\t Top 1: 0.713, Top 3: 0.935, Top 5: 0.987, \n",
      "\t\t F1 Micro: 0.614, F1 Macro: 0.367, Total Pos: 243,709\n",
      "Epoch 1/1\n",
      "1286325/1286325 [==============================] - 17s - loss: 0.2733    "
     ]
    },
    {
     "name": "stderr",
     "output_type": "stream",
     "text": [
      "2017-01-21 16:20:02,929 : INFO : Evaluating on Training Data\n"
     ]
    },
    {
     "name": "stdout",
     "output_type": "stream",
     "text": [
      "\n",
      "CPU times: user 3.81 s, sys: 5.7 s, total: 9.51 s\n",
      "Wall time: 17.6 s\n"
     ]
    },
    {
     "name": "stderr",
     "output_type": "stream",
     "text": [
      "2017-01-21 16:20:09,935 : INFO : Generating Training Metrics\n",
      "2017-01-21 16:20:44,560 : INFO : Evaluating on Validation Data\n"
     ]
    },
    {
     "name": "stdout",
     "output_type": "stream",
     "text": [
      "** Training Metrics: Cov Err: 1.690, Avg Labels: 1.150, \n",
      "\t\t Top 1: 0.713, Top 3: 0.936, Top 5: 0.985, \n",
      "\t\t F1 Micro: 0.601, F1 Macro: 0.364, Total Pos: 919,250\n"
     ]
    },
    {
     "name": "stderr",
     "output_type": "stream",
     "text": [
      "2017-01-21 16:20:48,691 : INFO : Generating Validation Metrics\n",
      "2017-01-21 16:20:57,124 : INFO : ======= NN Epoch: 10 ==========\n"
     ]
    },
    {
     "name": "stdout",
     "output_type": "stream",
     "text": [
      "****** Validation Metrics: Cov Err: 1.679, Avg Labels: 1.150, \n",
      "\t\t Top 1: 0.719, Top 3: 0.936, Top 5: 0.986, \n",
      "\t\t F1 Micro: 0.620, F1 Macro: 0.378, Total Pos: 243,600\n",
      "Epoch 1/1\n",
      "1286325/1286325 [==============================] - 17s - loss: 0.2723    "
     ]
    },
    {
     "name": "stderr",
     "output_type": "stream",
     "text": [
      "2017-01-21 16:21:14,671 : INFO : Evaluating on Training Data\n"
     ]
    },
    {
     "name": "stdout",
     "output_type": "stream",
     "text": [
      "\n",
      "CPU times: user 3.59 s, sys: 5.76 s, total: 9.35 s\n",
      "Wall time: 17.5 s\n"
     ]
    },
    {
     "name": "stderr",
     "output_type": "stream",
     "text": [
      "2017-01-21 16:21:22,528 : INFO : Generating Training Metrics\n",
      "2017-01-21 16:21:56,822 : INFO : Evaluating on Validation Data\n"
     ]
    },
    {
     "name": "stdout",
     "output_type": "stream",
     "text": [
      "** Training Metrics: Cov Err: 1.693, Avg Labels: 1.150, \n",
      "\t\t Top 1: 0.709, Top 3: 0.936, Top 5: 0.985, \n",
      "\t\t F1 Micro: 0.596, F1 Macro: 0.362, Total Pos: 927,735\n"
     ]
    },
    {
     "name": "stderr",
     "output_type": "stream",
     "text": [
      "2017-01-21 16:22:00,973 : INFO : Generating Validation Metrics\n",
      "2017-01-21 16:22:09,216 : INFO : ======= NN Epoch: 11 ==========\n"
     ]
    },
    {
     "name": "stdout",
     "output_type": "stream",
     "text": [
      "****** Validation Metrics: Cov Err: 1.683, Avg Labels: 1.150, \n",
      "\t\t Top 1: 0.713, Top 3: 0.937, Top 5: 0.986, \n",
      "\t\t F1 Micro: 0.615, F1 Macro: 0.377, Total Pos: 243,900\n",
      "Epoch 1/1\n",
      "1286325/1286325 [==============================] - 17s - loss: 0.2715    "
     ]
    },
    {
     "name": "stderr",
     "output_type": "stream",
     "text": [
      "2017-01-21 16:22:26,279 : INFO : Evaluating on Training Data\n"
     ]
    },
    {
     "name": "stdout",
     "output_type": "stream",
     "text": [
      "\n",
      "CPU times: user 3.66 s, sys: 5.77 s, total: 9.43 s\n",
      "Wall time: 17.1 s\n"
     ]
    },
    {
     "name": "stderr",
     "output_type": "stream",
     "text": [
      "2017-01-21 16:22:32,855 : INFO : Generating Training Metrics\n",
      "2017-01-21 16:23:06,447 : INFO : Evaluating on Validation Data\n"
     ]
    },
    {
     "name": "stdout",
     "output_type": "stream",
     "text": [
      "** Training Metrics: Cov Err: 1.678, Avg Labels: 1.150, \n",
      "\t\t Top 1: 0.713, Top 3: 0.939, Top 5: 0.987, \n",
      "\t\t F1 Micro: 0.598, F1 Macro: 0.374, Total Pos: 916,180\n"
     ]
    },
    {
     "name": "stderr",
     "output_type": "stream",
     "text": [
      "2017-01-21 16:23:10,597 : INFO : Generating Validation Metrics\n",
      "2017-01-21 16:23:18,846 : INFO : ======= NN Epoch: 12 ==========\n"
     ]
    },
    {
     "name": "stdout",
     "output_type": "stream",
     "text": [
      "****** Validation Metrics: Cov Err: 1.665, Avg Labels: 1.150, \n",
      "\t\t Top 1: 0.720, Top 3: 0.940, Top 5: 0.987, \n",
      "\t\t F1 Micro: 0.619, F1 Macro: 0.391, Total Pos: 242,776\n",
      "Epoch 1/1\n",
      "1286325/1286325 [==============================] - 15s - loss: 0.2706    "
     ]
    },
    {
     "name": "stderr",
     "output_type": "stream",
     "text": [
      "2017-01-21 16:23:33,859 : INFO : Evaluating on Training Data\n"
     ]
    },
    {
     "name": "stdout",
     "output_type": "stream",
     "text": [
      "\n",
      "CPU times: user 3.39 s, sys: 5.77 s, total: 9.16 s\n",
      "Wall time: 15 s\n"
     ]
    },
    {
     "name": "stderr",
     "output_type": "stream",
     "text": [
      "2017-01-21 16:23:41,786 : INFO : Generating Training Metrics\n",
      "2017-01-21 16:24:15,714 : INFO : Evaluating on Validation Data\n"
     ]
    },
    {
     "name": "stdout",
     "output_type": "stream",
     "text": [
      "** Training Metrics: Cov Err: 1.676, Avg Labels: 1.150, \n",
      "\t\t Top 1: 0.718, Top 3: 0.939, Top 5: 0.986, \n",
      "\t\t F1 Micro: 0.613, F1 Macro: 0.377, Total Pos: 955,738\n"
     ]
    },
    {
     "name": "stderr",
     "output_type": "stream",
     "text": [
      "2017-01-21 16:24:19,882 : INFO : Generating Validation Metrics\n",
      "2017-01-21 16:24:28,109 : INFO : ======= NN Epoch: 13 ==========\n"
     ]
    },
    {
     "name": "stdout",
     "output_type": "stream",
     "text": [
      "****** Validation Metrics: Cov Err: 1.665, Avg Labels: 1.150, \n",
      "\t\t Top 1: 0.723, Top 3: 0.940, Top 5: 0.987, \n",
      "\t\t F1 Micro: 0.632, F1 Macro: 0.393, Total Pos: 251,555\n",
      "Epoch 1/1\n",
      "1286325/1286325 [==============================] - 16s - loss: 0.2698    "
     ]
    },
    {
     "name": "stderr",
     "output_type": "stream",
     "text": [
      "2017-01-21 16:24:44,898 : INFO : Evaluating on Training Data\n"
     ]
    },
    {
     "name": "stdout",
     "output_type": "stream",
     "text": [
      "\n",
      "CPU times: user 3.64 s, sys: 6.03 s, total: 9.68 s\n",
      "Wall time: 16.8 s\n"
     ]
    },
    {
     "name": "stderr",
     "output_type": "stream",
     "text": [
      "2017-01-21 16:24:53,275 : INFO : Generating Training Metrics\n",
      "2017-01-21 16:25:26,965 : INFO : Evaluating on Validation Data\n"
     ]
    },
    {
     "name": "stdout",
     "output_type": "stream",
     "text": [
      "** Training Metrics: Cov Err: 1.658, Avg Labels: 1.150, \n",
      "\t\t Top 1: 0.722, Top 3: 0.943, Top 5: 0.987, \n",
      "\t\t F1 Micro: 0.594, F1 Macro: 0.381, Total Pos: 872,592\n"
     ]
    },
    {
     "name": "stderr",
     "output_type": "stream",
     "text": [
      "2017-01-21 16:25:31,112 : INFO : Generating Validation Metrics\n",
      "2017-01-21 16:25:39,307 : INFO : ======= NN Epoch: 14 ==========\n"
     ]
    },
    {
     "name": "stdout",
     "output_type": "stream",
     "text": [
      "****** Validation Metrics: Cov Err: 1.646, Avg Labels: 1.150, \n",
      "\t\t Top 1: 0.729, Top 3: 0.944, Top 5: 0.988, \n",
      "\t\t F1 Micro: 0.617, F1 Macro: 0.399, Total Pos: 232,687\n",
      "Epoch 1/1\n",
      "1286325/1286325 [==============================] - 14s - loss: 0.2694    "
     ]
    },
    {
     "name": "stderr",
     "output_type": "stream",
     "text": [
      "2017-01-21 16:25:54,171 : INFO : Evaluating on Training Data\n"
     ]
    },
    {
     "name": "stdout",
     "output_type": "stream",
     "text": [
      "\n",
      "CPU times: user 3.28 s, sys: 5.56 s, total: 8.84 s\n",
      "Wall time: 14.9 s\n"
     ]
    },
    {
     "name": "stderr",
     "output_type": "stream",
     "text": [
      "2017-01-21 16:26:02,671 : INFO : Generating Training Metrics\n",
      "2017-01-21 16:26:36,343 : INFO : Evaluating on Validation Data\n"
     ]
    },
    {
     "name": "stdout",
     "output_type": "stream",
     "text": [
      "** Training Metrics: Cov Err: 1.667, Avg Labels: 1.150, \n",
      "\t\t Top 1: 0.719, Top 3: 0.942, Top 5: 0.987, \n",
      "\t\t F1 Micro: 0.610, F1 Macro: 0.384, Total Pos: 950,584\n"
     ]
    },
    {
     "name": "stderr",
     "output_type": "stream",
     "text": [
      "2017-01-21 16:26:40,488 : INFO : Generating Validation Metrics\n",
      "2017-01-21 16:26:48,743 : INFO : ======= NN Epoch: 15 ==========\n"
     ]
    },
    {
     "name": "stdout",
     "output_type": "stream",
     "text": [
      "****** Validation Metrics: Cov Err: 1.656, Avg Labels: 1.150, \n",
      "\t\t Top 1: 0.725, Top 3: 0.943, Top 5: 0.988, \n",
      "\t\t F1 Micro: 0.630, F1 Macro: 0.402, Total Pos: 250,675\n",
      "Epoch 1/1\n",
      "1286325/1286325 [==============================] - 17s - loss: 0.2686    "
     ]
    },
    {
     "name": "stderr",
     "output_type": "stream",
     "text": [
      "2017-01-21 16:27:05,797 : INFO : Evaluating on Training Data\n"
     ]
    },
    {
     "name": "stdout",
     "output_type": "stream",
     "text": [
      "\n",
      "CPU times: user 3.84 s, sys: 6.16 s, total: 10 s\n",
      "Wall time: 17.1 s\n"
     ]
    },
    {
     "name": "stderr",
     "output_type": "stream",
     "text": [
      "2017-01-21 16:27:12,413 : INFO : Generating Training Metrics\n",
      "2017-01-21 16:27:46,350 : INFO : Evaluating on Validation Data\n"
     ]
    },
    {
     "name": "stdout",
     "output_type": "stream",
     "text": [
      "** Training Metrics: Cov Err: 1.659, Avg Labels: 1.150, \n",
      "\t\t Top 1: 0.720, Top 3: 0.943, Top 5: 0.987, \n",
      "\t\t F1 Micro: 0.597, F1 Macro: 0.377, Total Pos: 897,339\n"
     ]
    },
    {
     "name": "stderr",
     "output_type": "stream",
     "text": [
      "2017-01-21 16:27:50,468 : INFO : Generating Validation Metrics\n"
     ]
    },
    {
     "name": "stdout",
     "output_type": "stream",
     "text": [
      "****** Validation Metrics: Cov Err: 1.645, Avg Labels: 1.150, \n",
      "\t\t Top 1: 0.728, Top 3: 0.944, Top 5: 0.988, \n",
      "\t\t F1 Micro: 0.620, F1 Macro: 0.397, Total Pos: 238,367\n",
      "===================================================================================\n",
      "========== 1st Layer Size: 200, 1st Layer Activation: tanh, \n",
      " 2nd Layer Size: 1000, 2nd Layer Activation: relu, \n",
      "Input Dropout: False, Hidden Dropout: True==========================\n",
      "____________________________________________________________________________________________________\n",
      "Layer (type)                     Output Shape          Param #     Connected to                     \n",
      "====================================================================================================\n",
      "doc_input (InputLayer)           (None, 100)           0                                            \n",
      "____________________________________________________________________________________________________\n",
      "hidden_layer_tanh (Dense)        (None, 200)           20200       doc_input[0][0]                  \n",
      "____________________________________________________________________________________________________\n",
      "dropout_13 (Dropout)             (None, 200)           0           hidden_layer_tanh[0][0]          \n",
      "____________________________________________________________________________________________________\n",
      "hidden_layer2_relu (Dense)       (None, 1000)          201000      dropout_13[0][0]                 \n",
      "____________________________________________________________________________________________________\n",
      "softmax_output (Dense)           (None, 8)             8008        hidden_layer2_relu[0][0]         \n",
      "====================================================================================================\n"
     ]
    },
    {
     "name": "stderr",
     "output_type": "stream",
     "text": [
      "2017-01-21 16:28:04,885 : INFO : ======= NN Epoch: 1 ==========\n"
     ]
    },
    {
     "name": "stdout",
     "output_type": "stream",
     "text": [
      "Total params: 229208\n",
      "____________________________________________________________________________________________________\n",
      "Epoch 1/1\n",
      "1286325/1286325 [==============================] - 25s - loss: 0.1943    "
     ]
    },
    {
     "name": "stderr",
     "output_type": "stream",
     "text": [
      "2017-01-21 16:29:17,959 : INFO : Evaluating on Training Data\n"
     ]
    },
    {
     "name": "stdout",
     "output_type": "stream",
     "text": [
      "\n",
      "CPU times: user 7.19 s, sys: 8.74 s, total: 15.9 s\n",
      "Wall time: 1min 13s\n"
     ]
    },
    {
     "name": "stderr",
     "output_type": "stream",
     "text": [
      "2017-01-21 16:29:38,830 : INFO : Generating Training Metrics\n",
      "2017-01-21 16:30:13,992 : INFO : Evaluating on Validation Data\n"
     ]
    },
    {
     "name": "stdout",
     "output_type": "stream",
     "text": [
      "** Training Metrics: Cov Err: 1.536, Avg Labels: 1.150, \n",
      "\t\t Top 1: 0.775, Top 3: 0.959, Top 5: 0.992, \n",
      "\t\t F1 Micro: 0.735, F1 Macro: 0.661, Total Pos: 1,332,123\n"
     ]
    },
    {
     "name": "stderr",
     "output_type": "stream",
     "text": [
      "2017-01-21 16:30:22,554 : INFO : Generating Validation Metrics\n",
      "2017-01-21 16:30:31,306 : INFO : ======= NN Epoch: 2 ==========\n"
     ]
    },
    {
     "name": "stdout",
     "output_type": "stream",
     "text": [
      "****** Validation Metrics: Cov Err: 1.534, Avg Labels: 1.150, \n",
      "\t\t Top 1: 0.775, Top 3: 0.960, Top 5: 0.992, \n",
      "\t\t F1 Micro: 0.734, F1 Macro: 0.656, Total Pos: 329,658\n",
      "Epoch 1/1\n",
      "1286325/1286325 [==============================] - 24s - loss: 0.1760    "
     ]
    },
    {
     "name": "stderr",
     "output_type": "stream",
     "text": [
      "2017-01-21 16:30:55,965 : INFO : Evaluating on Training Data\n"
     ]
    },
    {
     "name": "stdout",
     "output_type": "stream",
     "text": [
      "\n",
      "CPU times: user 4.73 s, sys: 8.07 s, total: 12.8 s\n",
      "Wall time: 24.7 s\n"
     ]
    },
    {
     "name": "stderr",
     "output_type": "stream",
     "text": [
      "2017-01-21 16:31:04,944 : INFO : Generating Training Metrics\n",
      "2017-01-21 16:31:39,896 : INFO : Evaluating on Validation Data\n"
     ]
    },
    {
     "name": "stdout",
     "output_type": "stream",
     "text": [
      "** Training Metrics: Cov Err: 1.515, Avg Labels: 1.150, \n",
      "\t\t Top 1: 0.783, Top 3: 0.962, Top 5: 0.993, \n",
      "\t\t F1 Micro: 0.743, F1 Macro: 0.661, Total Pos: 1,333,012\n"
     ]
    },
    {
     "name": "stderr",
     "output_type": "stream",
     "text": [
      "2017-01-21 16:31:45,874 : INFO : Generating Validation Metrics\n",
      "2017-01-21 16:31:54,500 : INFO : ======= NN Epoch: 3 ==========\n"
     ]
    },
    {
     "name": "stdout",
     "output_type": "stream",
     "text": [
      "****** Validation Metrics: Cov Err: 1.520, Avg Labels: 1.150, \n",
      "\t\t Top 1: 0.781, Top 3: 0.962, Top 5: 0.993, \n",
      "\t\t F1 Micro: 0.740, F1 Macro: 0.651, Total Pos: 331,333\n",
      "Epoch 1/1\n",
      "1286325/1286325 [==============================] - 24s - loss: 0.1717    "
     ]
    },
    {
     "name": "stderr",
     "output_type": "stream",
     "text": [
      "2017-01-21 16:32:19,354 : INFO : Evaluating on Training Data\n"
     ]
    },
    {
     "name": "stdout",
     "output_type": "stream",
     "text": [
      "\n",
      "CPU times: user 4.63 s, sys: 8.64 s, total: 13.3 s\n",
      "Wall time: 24.9 s\n"
     ]
    },
    {
     "name": "stderr",
     "output_type": "stream",
     "text": [
      "2017-01-21 16:32:27,913 : INFO : Generating Training Metrics\n",
      "2017-01-21 16:33:03,200 : INFO : Evaluating on Validation Data\n"
     ]
    },
    {
     "name": "stdout",
     "output_type": "stream",
     "text": [
      "** Training Metrics: Cov Err: 1.506, Avg Labels: 1.150, \n",
      "\t\t Top 1: 0.786, Top 3: 0.964, Top 5: 0.993, \n",
      "\t\t F1 Micro: 0.744, F1 Macro: 0.660, Total Pos: 1,329,884\n"
     ]
    },
    {
     "name": "stderr",
     "output_type": "stream",
     "text": [
      "2017-01-21 16:33:08,223 : INFO : Generating Validation Metrics\n",
      "2017-01-21 16:33:16,626 : INFO : ======= NN Epoch: 4 ==========\n"
     ]
    },
    {
     "name": "stdout",
     "output_type": "stream",
     "text": [
      "****** Validation Metrics: Cov Err: 1.511, Avg Labels: 1.150, \n",
      "\t\t Top 1: 0.785, Top 3: 0.963, Top 5: 0.993, \n",
      "\t\t F1 Micro: 0.743, F1 Macro: 0.653, Total Pos: 331,483\n",
      "Epoch 1/1\n",
      "1286325/1286325 [==============================] - 23s - loss: 0.1692    "
     ]
    },
    {
     "name": "stderr",
     "output_type": "stream",
     "text": [
      "2017-01-21 16:33:40,609 : INFO : Evaluating on Training Data\n"
     ]
    },
    {
     "name": "stdout",
     "output_type": "stream",
     "text": [
      "\n",
      "CPU times: user 4.7 s, sys: 8.51 s, total: 13.2 s\n",
      "Wall time: 24 s\n"
     ]
    },
    {
     "name": "stderr",
     "output_type": "stream",
     "text": [
      "2017-01-21 16:33:49,204 : INFO : Generating Training Metrics\n",
      "2017-01-21 16:34:23,563 : INFO : Evaluating on Validation Data\n"
     ]
    },
    {
     "name": "stdout",
     "output_type": "stream",
     "text": [
      "** Training Metrics: Cov Err: 1.491, Avg Labels: 1.150, \n",
      "\t\t Top 1: 0.794, Top 3: 0.965, Top 5: 0.994, \n",
      "\t\t F1 Micro: 0.753, F1 Macro: 0.666, Total Pos: 1,331,366\n"
     ]
    },
    {
     "name": "stderr",
     "output_type": "stream",
     "text": [
      "2017-01-21 16:34:28,578 : INFO : Generating Validation Metrics\n",
      "2017-01-21 16:34:36,948 : INFO : ======= NN Epoch: 5 ==========\n"
     ]
    },
    {
     "name": "stdout",
     "output_type": "stream",
     "text": [
      "****** Validation Metrics: Cov Err: 1.494, Avg Labels: 1.150, \n",
      "\t\t Top 1: 0.793, Top 3: 0.965, Top 5: 0.994, \n",
      "\t\t F1 Micro: 0.752, F1 Macro: 0.661, Total Pos: 332,543\n",
      "Epoch 1/1\n",
      "1286325/1286325 [==============================] - 24s - loss: 0.1674    "
     ]
    },
    {
     "name": "stderr",
     "output_type": "stream",
     "text": [
      "2017-01-21 16:35:01,051 : INFO : Evaluating on Training Data\n"
     ]
    },
    {
     "name": "stdout",
     "output_type": "stream",
     "text": [
      "\n",
      "CPU times: user 4.62 s, sys: 8.43 s, total: 13.1 s\n",
      "Wall time: 24.1 s\n"
     ]
    },
    {
     "name": "stderr",
     "output_type": "stream",
     "text": [
      "2017-01-21 16:35:08,261 : INFO : Generating Training Metrics\n",
      "2017-01-21 16:35:43,160 : INFO : Evaluating on Validation Data\n"
     ]
    },
    {
     "name": "stdout",
     "output_type": "stream",
     "text": [
      "** Training Metrics: Cov Err: 1.482, Avg Labels: 1.150, \n",
      "\t\t Top 1: 0.800, Top 3: 0.966, Top 5: 0.994, \n",
      "\t\t F1 Micro: 0.762, F1 Macro: 0.680, Total Pos: 1,378,840\n"
     ]
    },
    {
     "name": "stderr",
     "output_type": "stream",
     "text": [
      "2017-01-21 16:35:48,178 : INFO : Generating Validation Metrics\n",
      "2017-01-21 16:35:56,593 : INFO : ======= NN Epoch: 6 ==========\n"
     ]
    },
    {
     "name": "stdout",
     "output_type": "stream",
     "text": [
      "****** Validation Metrics: Cov Err: 1.484, Avg Labels: 1.150, \n",
      "\t\t Top 1: 0.799, Top 3: 0.966, Top 5: 0.994, \n",
      "\t\t F1 Micro: 0.761, F1 Macro: 0.677, Total Pos: 345,560\n",
      "Epoch 1/1\n",
      "1286325/1286325 [==============================] - 25s - loss: 0.1657    "
     ]
    },
    {
     "name": "stderr",
     "output_type": "stream",
     "text": [
      "2017-01-21 16:36:22,218 : INFO : Evaluating on Training Data\n"
     ]
    },
    {
     "name": "stdout",
     "output_type": "stream",
     "text": [
      "\n",
      "CPU times: user 4.84 s, sys: 8.5 s, total: 13.3 s\n",
      "Wall time: 25.6 s\n"
     ]
    },
    {
     "name": "stderr",
     "output_type": "stream",
     "text": [
      "2017-01-21 16:36:30,624 : INFO : Generating Training Metrics\n",
      "2017-01-21 16:37:05,623 : INFO : Evaluating on Validation Data\n"
     ]
    },
    {
     "name": "stdout",
     "output_type": "stream",
     "text": [
      "** Training Metrics: Cov Err: 1.473, Avg Labels: 1.150, \n",
      "\t\t Top 1: 0.804, Top 3: 0.968, Top 5: 0.994, \n",
      "\t\t F1 Micro: 0.764, F1 Macro: 0.698, Total Pos: 1,347,212\n"
     ]
    },
    {
     "name": "stderr",
     "output_type": "stream",
     "text": [
      "2017-01-21 16:37:10,647 : INFO : Generating Validation Metrics\n",
      "2017-01-21 16:37:19,053 : INFO : ======= NN Epoch: 7 ==========\n"
     ]
    },
    {
     "name": "stdout",
     "output_type": "stream",
     "text": [
      "****** Validation Metrics: Cov Err: 1.475, Avg Labels: 1.150, \n",
      "\t\t Top 1: 0.803, Top 3: 0.968, Top 5: 0.994, \n",
      "\t\t F1 Micro: 0.763, F1 Macro: 0.695, Total Pos: 336,751\n",
      "Epoch 1/1\n",
      "1286325/1286325 [==============================] - 24s - loss: 0.1645    "
     ]
    },
    {
     "name": "stderr",
     "output_type": "stream",
     "text": [
      "2017-01-21 16:37:43,503 : INFO : Evaluating on Training Data\n"
     ]
    },
    {
     "name": "stdout",
     "output_type": "stream",
     "text": [
      "\n",
      "CPU times: user 5.06 s, sys: 8.57 s, total: 13.6 s\n",
      "Wall time: 24.4 s\n"
     ]
    },
    {
     "name": "stderr",
     "output_type": "stream",
     "text": [
      "2017-01-21 16:37:51,897 : INFO : Generating Training Metrics\n",
      "2017-01-21 16:38:27,596 : INFO : Evaluating on Validation Data\n"
     ]
    },
    {
     "name": "stdout",
     "output_type": "stream",
     "text": [
      "** Training Metrics: Cov Err: 1.472, Avg Labels: 1.150, \n",
      "\t\t Top 1: 0.804, Top 3: 0.968, Top 5: 0.995, \n",
      "\t\t F1 Micro: 0.766, F1 Macro: 0.694, Total Pos: 1,367,170\n"
     ]
    },
    {
     "name": "stderr",
     "output_type": "stream",
     "text": [
      "2017-01-21 16:38:32,622 : INFO : Generating Validation Metrics\n",
      "2017-01-21 16:38:41,015 : INFO : ======= NN Epoch: 8 ==========\n"
     ]
    },
    {
     "name": "stdout",
     "output_type": "stream",
     "text": [
      "****** Validation Metrics: Cov Err: 1.474, Avg Labels: 1.150, \n",
      "\t\t Top 1: 0.804, Top 3: 0.968, Top 5: 0.994, \n",
      "\t\t F1 Micro: 0.765, F1 Macro: 0.690, Total Pos: 341,456\n",
      "Epoch 1/1\n",
      "1286325/1286325 [==============================] - 25s - loss: 0.1635    "
     ]
    },
    {
     "name": "stderr",
     "output_type": "stream",
     "text": [
      "2017-01-21 16:39:06,938 : INFO : Evaluating on Training Data\n"
     ]
    },
    {
     "name": "stdout",
     "output_type": "stream",
     "text": [
      "\n",
      "CPU times: user 4.9 s, sys: 8.83 s, total: 13.7 s\n",
      "Wall time: 25.9 s\n"
     ]
    },
    {
     "name": "stderr",
     "output_type": "stream",
     "text": [
      "2017-01-21 16:39:15,617 : INFO : Generating Training Metrics\n",
      "2017-01-21 16:39:50,015 : INFO : Evaluating on Validation Data\n"
     ]
    },
    {
     "name": "stdout",
     "output_type": "stream",
     "text": [
      "** Training Metrics: Cov Err: 1.467, Avg Labels: 1.150, \n",
      "\t\t Top 1: 0.806, Top 3: 0.968, Top 5: 0.995, \n",
      "\t\t F1 Micro: 0.764, F1 Macro: 0.700, Total Pos: 1,332,448\n"
     ]
    },
    {
     "name": "stderr",
     "output_type": "stream",
     "text": [
      "2017-01-21 16:39:55,029 : INFO : Generating Validation Metrics\n",
      "2017-01-21 16:40:03,482 : INFO : ======= NN Epoch: 9 ==========\n"
     ]
    },
    {
     "name": "stdout",
     "output_type": "stream",
     "text": [
      "****** Validation Metrics: Cov Err: 1.469, Avg Labels: 1.150, \n",
      "\t\t Top 1: 0.805, Top 3: 0.969, Top 5: 0.995, \n",
      "\t\t F1 Micro: 0.763, F1 Macro: 0.696, Total Pos: 333,730\n",
      "Epoch 1/1\n",
      "1286325/1286325 [==============================] - 25s - loss: 0.1628    "
     ]
    },
    {
     "name": "stderr",
     "output_type": "stream",
     "text": [
      "2017-01-21 16:40:28,864 : INFO : Evaluating on Training Data\n"
     ]
    },
    {
     "name": "stdout",
     "output_type": "stream",
     "text": [
      "\n",
      "CPU times: user 4.97 s, sys: 8.7 s, total: 13.7 s\n",
      "Wall time: 25.4 s\n"
     ]
    },
    {
     "name": "stderr",
     "output_type": "stream",
     "text": [
      "2017-01-21 16:40:36,506 : INFO : Generating Training Metrics\n",
      "2017-01-21 16:41:11,584 : INFO : Evaluating on Validation Data\n"
     ]
    },
    {
     "name": "stdout",
     "output_type": "stream",
     "text": [
      "** Training Metrics: Cov Err: 1.461, Avg Labels: 1.150, \n",
      "\t\t Top 1: 0.810, Top 3: 0.969, Top 5: 0.995, \n",
      "\t\t F1 Micro: 0.772, F1 Macro: 0.710, Total Pos: 1,383,967\n"
     ]
    },
    {
     "name": "stderr",
     "output_type": "stream",
     "text": [
      "2017-01-21 16:41:16,759 : INFO : Generating Validation Metrics\n",
      "2017-01-21 16:41:25,671 : INFO : ======= NN Epoch: 10 ==========\n"
     ]
    },
    {
     "name": "stdout",
     "output_type": "stream",
     "text": [
      "****** Validation Metrics: Cov Err: 1.464, Avg Labels: 1.150, \n",
      "\t\t Top 1: 0.808, Top 3: 0.969, Top 5: 0.995, \n",
      "\t\t F1 Micro: 0.771, F1 Macro: 0.705, Total Pos: 347,254\n",
      "Epoch 1/1\n",
      "1286325/1286325 [==============================] - 24s - loss: 0.1621    "
     ]
    },
    {
     "name": "stderr",
     "output_type": "stream",
     "text": [
      "2017-01-21 16:41:50,604 : INFO : Evaluating on Training Data\n"
     ]
    },
    {
     "name": "stdout",
     "output_type": "stream",
     "text": [
      "\n",
      "CPU times: user 5.02 s, sys: 8.48 s, total: 13.5 s\n",
      "Wall time: 24.9 s\n"
     ]
    },
    {
     "name": "stderr",
     "output_type": "stream",
     "text": [
      "2017-01-21 16:41:59,363 : INFO : Generating Training Metrics\n",
      "2017-01-21 16:42:37,436 : INFO : Evaluating on Validation Data\n"
     ]
    },
    {
     "name": "stdout",
     "output_type": "stream",
     "text": [
      "** Training Metrics: Cov Err: 1.459, Avg Labels: 1.150, \n",
      "\t\t Top 1: 0.810, Top 3: 0.970, Top 5: 0.995, \n",
      "\t\t F1 Micro: 0.773, F1 Macro: 0.704, Total Pos: 1,393,452\n"
     ]
    },
    {
     "name": "stderr",
     "output_type": "stream",
     "text": [
      "2017-01-21 16:42:42,941 : INFO : Generating Validation Metrics\n",
      "2017-01-21 16:42:52,051 : INFO : ======= NN Epoch: 11 ==========\n"
     ]
    },
    {
     "name": "stdout",
     "output_type": "stream",
     "text": [
      "****** Validation Metrics: Cov Err: 1.463, Avg Labels: 1.150, \n",
      "\t\t Top 1: 0.808, Top 3: 0.969, Top 5: 0.995, \n",
      "\t\t F1 Micro: 0.771, F1 Macro: 0.699, Total Pos: 349,638\n",
      "Epoch 1/1\n",
      "1286325/1286325 [==============================] - 25s - loss: 0.1615    "
     ]
    },
    {
     "name": "stderr",
     "output_type": "stream",
     "text": [
      "2017-01-21 16:43:17,569 : INFO : Evaluating on Training Data\n"
     ]
    },
    {
     "name": "stdout",
     "output_type": "stream",
     "text": [
      "\n",
      "CPU times: user 5.48 s, sys: 8.45 s, total: 13.9 s\n",
      "Wall time: 25.5 s\n"
     ]
    },
    {
     "name": "stderr",
     "output_type": "stream",
     "text": [
      "2017-01-21 16:43:26,552 : INFO : Generating Training Metrics\n",
      "2017-01-21 16:44:05,881 : INFO : Evaluating on Validation Data\n"
     ]
    },
    {
     "name": "stdout",
     "output_type": "stream",
     "text": [
      "** Training Metrics: Cov Err: 1.454, Avg Labels: 1.150, \n",
      "\t\t Top 1: 0.812, Top 3: 0.970, Top 5: 0.995, \n",
      "\t\t F1 Micro: 0.773, F1 Macro: 0.709, Total Pos: 1,364,805\n"
     ]
    },
    {
     "name": "stderr",
     "output_type": "stream",
     "text": [
      "2017-01-21 16:44:11,226 : INFO : Generating Validation Metrics\n",
      "2017-01-21 16:44:20,648 : INFO : ======= NN Epoch: 12 ==========\n"
     ]
    },
    {
     "name": "stdout",
     "output_type": "stream",
     "text": [
      "****** Validation Metrics: Cov Err: 1.459, Avg Labels: 1.150, \n",
      "\t\t Top 1: 0.810, Top 3: 0.970, Top 5: 0.995, \n",
      "\t\t F1 Micro: 0.771, F1 Macro: 0.703, Total Pos: 342,105\n",
      "Epoch 1/1\n",
      "1286325/1286325 [==============================] - 26s - loss: 0.1610    "
     ]
    },
    {
     "name": "stderr",
     "output_type": "stream",
     "text": [
      "2017-01-21 16:44:46,954 : INFO : Evaluating on Training Data\n"
     ]
    },
    {
     "name": "stdout",
     "output_type": "stream",
     "text": [
      "\n",
      "CPU times: user 5.5 s, sys: 8.69 s, total: 14.2 s\n",
      "Wall time: 26.3 s\n"
     ]
    },
    {
     "name": "stderr",
     "output_type": "stream",
     "text": [
      "2017-01-21 16:44:54,670 : INFO : Generating Training Metrics\n",
      "2017-01-21 16:45:34,727 : INFO : Evaluating on Validation Data\n"
     ]
    },
    {
     "name": "stdout",
     "output_type": "stream",
     "text": [
      "** Training Metrics: Cov Err: 1.457, Avg Labels: 1.150, \n",
      "\t\t Top 1: 0.811, Top 3: 0.970, Top 5: 0.995, \n",
      "\t\t F1 Micro: 0.771, F1 Macro: 0.710, Total Pos: 1,361,648\n"
     ]
    },
    {
     "name": "stderr",
     "output_type": "stream",
     "text": [
      "2017-01-21 16:45:40,147 : INFO : Generating Validation Metrics\n",
      "2017-01-21 16:45:49,993 : INFO : ======= NN Epoch: 13 ==========\n"
     ]
    },
    {
     "name": "stdout",
     "output_type": "stream",
     "text": [
      "****** Validation Metrics: Cov Err: 1.462, Avg Labels: 1.150, \n",
      "\t\t Top 1: 0.809, Top 3: 0.969, Top 5: 0.995, \n",
      "\t\t F1 Micro: 0.770, F1 Macro: 0.704, Total Pos: 341,523\n",
      "Epoch 1/1\n",
      "1286325/1286325 [==============================] - 26s - loss: 0.1605    "
     ]
    },
    {
     "name": "stderr",
     "output_type": "stream",
     "text": [
      "2017-01-21 16:46:16,221 : INFO : Evaluating on Training Data\n"
     ]
    },
    {
     "name": "stdout",
     "output_type": "stream",
     "text": [
      "\n",
      "CPU times: user 5.64 s, sys: 9.02 s, total: 14.7 s\n",
      "Wall time: 26.2 s\n"
     ]
    },
    {
     "name": "stderr",
     "output_type": "stream",
     "text": [
      "2017-01-21 16:46:25,061 : INFO : Generating Training Metrics\n",
      "2017-01-21 16:47:07,193 : INFO : Evaluating on Validation Data\n"
     ]
    },
    {
     "name": "stdout",
     "output_type": "stream",
     "text": [
      "** Training Metrics: Cov Err: 1.455, Avg Labels: 1.150, \n",
      "\t\t Top 1: 0.812, Top 3: 0.970, Top 5: 0.995, \n",
      "\t\t F1 Micro: 0.773, F1 Macro: 0.705, Total Pos: 1,356,926\n"
     ]
    },
    {
     "name": "stderr",
     "output_type": "stream",
     "text": [
      "2017-01-21 16:47:13,030 : INFO : Generating Validation Metrics\n",
      "2017-01-21 16:47:23,599 : INFO : ======= NN Epoch: 14 ==========\n"
     ]
    },
    {
     "name": "stdout",
     "output_type": "stream",
     "text": [
      "****** Validation Metrics: Cov Err: 1.461, Avg Labels: 1.150, \n",
      "\t\t Top 1: 0.809, Top 3: 0.970, Top 5: 0.995, \n",
      "\t\t F1 Micro: 0.771, F1 Macro: 0.699, Total Pos: 340,497\n",
      "Epoch 1/1\n",
      "1286325/1286325 [==============================] - 25s - loss: 0.1600    "
     ]
    },
    {
     "name": "stderr",
     "output_type": "stream",
     "text": [
      "2017-01-21 16:47:49,171 : INFO : Evaluating on Training Data\n"
     ]
    },
    {
     "name": "stdout",
     "output_type": "stream",
     "text": [
      "\n",
      "CPU times: user 5.54 s, sys: 9.24 s, total: 14.8 s\n",
      "Wall time: 25.6 s\n"
     ]
    },
    {
     "name": "stderr",
     "output_type": "stream",
     "text": [
      "2017-01-21 16:47:57,641 : INFO : Generating Training Metrics\n",
      "2017-01-21 16:48:37,454 : INFO : Evaluating on Validation Data\n"
     ]
    },
    {
     "name": "stdout",
     "output_type": "stream",
     "text": [
      "** Training Metrics: Cov Err: 1.447, Avg Labels: 1.150, \n",
      "\t\t Top 1: 0.816, Top 3: 0.971, Top 5: 0.995, \n",
      "\t\t F1 Micro: 0.774, F1 Macro: 0.713, Total Pos: 1,329,880\n"
     ]
    },
    {
     "name": "stderr",
     "output_type": "stream",
     "text": [
      "2017-01-21 16:48:43,482 : INFO : Generating Validation Metrics\n",
      "2017-01-21 16:48:54,289 : INFO : ======= NN Epoch: 15 ==========\n"
     ]
    },
    {
     "name": "stdout",
     "output_type": "stream",
     "text": [
      "****** Validation Metrics: Cov Err: 1.451, Avg Labels: 1.150, \n",
      "\t\t Top 1: 0.814, Top 3: 0.971, Top 5: 0.995, \n",
      "\t\t F1 Micro: 0.772, F1 Macro: 0.708, Total Pos: 333,556\n",
      "Epoch 1/1\n",
      "1286325/1286325 [==============================] - 25s - loss: 0.1595    "
     ]
    },
    {
     "name": "stderr",
     "output_type": "stream",
     "text": [
      "2017-01-21 16:49:20,005 : INFO : Evaluating on Training Data\n"
     ]
    },
    {
     "name": "stdout",
     "output_type": "stream",
     "text": [
      "\n",
      "CPU times: user 5.68 s, sys: 9.26 s, total: 14.9 s\n",
      "Wall time: 25.7 s\n"
     ]
    },
    {
     "name": "stderr",
     "output_type": "stream",
     "text": [
      "2017-01-21 16:49:28,917 : INFO : Generating Training Metrics\n",
      "2017-01-21 16:50:11,753 : INFO : Evaluating on Validation Data\n"
     ]
    },
    {
     "name": "stdout",
     "output_type": "stream",
     "text": [
      "** Training Metrics: Cov Err: 1.454, Avg Labels: 1.150, \n",
      "\t\t Top 1: 0.813, Top 3: 0.970, Top 5: 0.995, \n",
      "\t\t F1 Micro: 0.775, F1 Macro: 0.720, Total Pos: 1,381,307\n"
     ]
    },
    {
     "name": "stderr",
     "output_type": "stream",
     "text": [
      "2017-01-21 16:50:17,299 : INFO : Generating Validation Metrics\n"
     ]
    },
    {
     "name": "stdout",
     "output_type": "stream",
     "text": [
      "****** Validation Metrics: Cov Err: 1.456, Avg Labels: 1.150, \n",
      "\t\t Top 1: 0.812, Top 3: 0.970, Top 5: 0.995, \n",
      "\t\t F1 Micro: 0.775, F1 Macro: 0.715, Total Pos: 346,417\n",
      "===================================================================================\n",
      "========== 1st Layer Size: 200, 1st Layer Activation: sigmoid, \n",
      " 2nd Layer Size: None, 2nd Layer Activation: relu, \n",
      "Input Dropout: False, Hidden Dropout: False==========================\n",
      "____________________________________________________________________________________________________\n",
      "Layer (type)                     Output Shape          Param #     Connected to                     \n",
      "====================================================================================================\n",
      "doc_input (InputLayer)           (None, 100)           0                                            \n",
      "____________________________________________________________________________________________________\n",
      "hidden_layer_sigmoid (Dense)     (None, 200)           20200       doc_input[0][0]                  \n",
      "____________________________________________________________________________________________________\n"
     ]
    },
    {
     "name": "stderr",
     "output_type": "stream",
     "text": [
      "2017-01-21 16:50:29,677 : INFO : ======= NN Epoch: 1 ==========\n"
     ]
    },
    {
     "name": "stdout",
     "output_type": "stream",
     "text": [
      "softmax_output (Dense)           (None, 8)             1608        hidden_layer_sigmoid[0][0]       \n",
      "====================================================================================================\n",
      "Total params: 21808\n",
      "____________________________________________________________________________________________________\n",
      "Epoch 1/1\n",
      "1286325/1286325 [==============================] - 11s - loss: 0.2307    "
     ]
    },
    {
     "name": "stderr",
     "output_type": "stream",
     "text": [
      "2017-01-21 16:50:45,982 : INFO : Evaluating on Training Data\n"
     ]
    },
    {
     "name": "stdout",
     "output_type": "stream",
     "text": [
      "\n",
      "CPU times: user 4.58 s, sys: 3.43 s, total: 8.02 s\n",
      "Wall time: 16.3 s\n"
     ]
    },
    {
     "name": "stderr",
     "output_type": "stream",
     "text": [
      "2017-01-21 16:50:52,057 : INFO : Generating Training Metrics\n",
      "2017-01-21 16:51:37,212 : INFO : Evaluating on Validation Data\n"
     ]
    },
    {
     "name": "stdout",
     "output_type": "stream",
     "text": [
      "** Training Metrics: Cov Err: 1.683, Avg Labels: 1.150, \n",
      "\t\t Top 1: 0.709, Top 3: 0.938, Top 5: 0.988, \n",
      "\t\t F1 Micro: 0.644, F1 Macro: 0.520, Total Pos: 1,165,811\n"
     ]
    },
    {
     "name": "stderr",
     "output_type": "stream",
     "text": [
      "2017-01-21 16:51:40,137 : INFO : Generating Validation Metrics\n",
      "2017-01-21 16:51:50,587 : INFO : ======= NN Epoch: 2 ==========\n"
     ]
    },
    {
     "name": "stdout",
     "output_type": "stream",
     "text": [
      "****** Validation Metrics: Cov Err: 1.681, Avg Labels: 1.150, \n",
      "\t\t Top 1: 0.712, Top 3: 0.938, Top 5: 0.987, \n",
      "\t\t F1 Micro: 0.662, F1 Macro: 0.535, Total Pos: 318,944\n",
      "Epoch 1/1\n",
      "1286325/1286325 [==============================] - 12s - loss: 0.2064    "
     ]
    },
    {
     "name": "stderr",
     "output_type": "stream",
     "text": [
      "2017-01-21 16:52:03,376 : INFO : Evaluating on Training Data\n"
     ]
    },
    {
     "name": "stdout",
     "output_type": "stream",
     "text": [
      "\n",
      "CPU times: user 3.8 s, sys: 3.3 s, total: 7.1 s\n",
      "Wall time: 12.8 s\n"
     ]
    },
    {
     "name": "stderr",
     "output_type": "stream",
     "text": [
      "2017-01-21 16:52:09,210 : INFO : Generating Training Metrics\n",
      "2017-01-21 16:52:49,703 : INFO : Evaluating on Validation Data\n"
     ]
    },
    {
     "name": "stdout",
     "output_type": "stream",
     "text": [
      "** Training Metrics: Cov Err: 1.673, Avg Labels: 1.150, \n",
      "\t\t Top 1: 0.713, Top 3: 0.940, Top 5: 0.988, \n",
      "\t\t F1 Micro: 0.659, F1 Macro: 0.563, Total Pos: 1,235,242\n"
     ]
    },
    {
     "name": "stderr",
     "output_type": "stream",
     "text": [
      "2017-01-21 16:52:52,445 : INFO : Generating Validation Metrics\n",
      "2017-01-21 16:53:02,652 : INFO : ======= NN Epoch: 3 ==========\n"
     ]
    },
    {
     "name": "stdout",
     "output_type": "stream",
     "text": [
      "****** Validation Metrics: Cov Err: 1.675, Avg Labels: 1.150, \n",
      "\t\t Top 1: 0.715, Top 3: 0.939, Top 5: 0.988, \n",
      "\t\t F1 Micro: 0.671, F1 Macro: 0.578, Total Pos: 332,069\n",
      "Epoch 1/1\n",
      "1286325/1286325 [==============================] - 11s - loss: 0.2017    "
     ]
    },
    {
     "name": "stderr",
     "output_type": "stream",
     "text": [
      "2017-01-21 16:53:14,102 : INFO : Evaluating on Training Data\n"
     ]
    },
    {
     "name": "stdout",
     "output_type": "stream",
     "text": [
      "\n",
      "CPU times: user 3.36 s, sys: 3.14 s, total: 6.5 s\n",
      "Wall time: 11.4 s\n"
     ]
    },
    {
     "name": "stderr",
     "output_type": "stream",
     "text": [
      "2017-01-21 16:53:20,176 : INFO : Generating Training Metrics\n",
      "2017-01-21 16:54:03,523 : INFO : Evaluating on Validation Data\n"
     ]
    },
    {
     "name": "stdout",
     "output_type": "stream",
     "text": [
      "** Training Metrics: Cov Err: 1.649, Avg Labels: 1.150, \n",
      "\t\t Top 1: 0.723, Top 3: 0.943, Top 5: 0.989, \n",
      "\t\t F1 Micro: 0.671, F1 Macro: 0.568, Total Pos: 1,215,037\n"
     ]
    },
    {
     "name": "stderr",
     "output_type": "stream",
     "text": [
      "2017-01-21 16:54:06,365 : INFO : Generating Validation Metrics\n",
      "2017-01-21 16:54:16,937 : INFO : ======= NN Epoch: 4 ==========\n"
     ]
    },
    {
     "name": "stdout",
     "output_type": "stream",
     "text": [
      "****** Validation Metrics: Cov Err: 1.650, Avg Labels: 1.150, \n",
      "\t\t Top 1: 0.724, Top 3: 0.943, Top 5: 0.989, \n",
      "\t\t F1 Micro: 0.679, F1 Macro: 0.580, Total Pos: 320,230\n",
      "Epoch 1/1\n",
      "1286325/1286325 [==============================] - 11s - loss: 0.1942    "
     ]
    },
    {
     "name": "stderr",
     "output_type": "stream",
     "text": [
      "2017-01-21 16:54:28,799 : INFO : Evaluating on Training Data\n"
     ]
    },
    {
     "name": "stdout",
     "output_type": "stream",
     "text": [
      "\n",
      "CPU times: user 3.69 s, sys: 3.31 s, total: 7 s\n",
      "Wall time: 11.9 s\n"
     ]
    },
    {
     "name": "stderr",
     "output_type": "stream",
     "text": [
      "2017-01-21 16:54:33,428 : INFO : Generating Training Metrics\n",
      "2017-01-21 16:55:16,476 : INFO : Evaluating on Validation Data\n"
     ]
    },
    {
     "name": "stdout",
     "output_type": "stream",
     "text": [
      "** Training Metrics: Cov Err: 1.619, Avg Labels: 1.150, \n",
      "\t\t Top 1: 0.738, Top 3: 0.947, Top 5: 0.990, \n",
      "\t\t F1 Micro: 0.683, F1 Macro: 0.576, Total Pos: 1,190,576\n"
     ]
    },
    {
     "name": "stderr",
     "output_type": "stream",
     "text": [
      "2017-01-21 16:55:19,457 : INFO : Generating Validation Metrics\n",
      "2017-01-21 16:55:29,825 : INFO : ======= NN Epoch: 5 ==========\n"
     ]
    },
    {
     "name": "stdout",
     "output_type": "stream",
     "text": [
      "****** Validation Metrics: Cov Err: 1.621, Avg Labels: 1.150, \n",
      "\t\t Top 1: 0.738, Top 3: 0.947, Top 5: 0.990, \n",
      "\t\t F1 Micro: 0.690, F1 Macro: 0.585, Total Pos: 309,943\n",
      "Epoch 1/1\n",
      "1286325/1286325 [==============================] - 13s - loss: 0.1868    "
     ]
    },
    {
     "name": "stderr",
     "output_type": "stream",
     "text": [
      "2017-01-21 16:55:42,924 : INFO : Evaluating on Training Data\n"
     ]
    },
    {
     "name": "stdout",
     "output_type": "stream",
     "text": [
      "\n",
      "CPU times: user 3.69 s, sys: 3.25 s, total: 6.94 s\n",
      "Wall time: 13.1 s\n"
     ]
    },
    {
     "name": "stderr",
     "output_type": "stream",
     "text": [
      "2017-01-21 16:55:47,764 : INFO : Generating Training Metrics\n",
      "2017-01-21 16:56:29,303 : INFO : Evaluating on Validation Data\n"
     ]
    },
    {
     "name": "stdout",
     "output_type": "stream",
     "text": [
      "** Training Metrics: Cov Err: 1.592, Avg Labels: 1.150, \n",
      "\t\t Top 1: 0.751, Top 3: 0.950, Top 5: 0.991, \n",
      "\t\t F1 Micro: 0.700, F1 Macro: 0.591, Total Pos: 1,217,571\n"
     ]
    },
    {
     "name": "stderr",
     "output_type": "stream",
     "text": [
      "2017-01-21 16:56:32,131 : INFO : Generating Validation Metrics\n",
      "2017-01-21 16:56:42,908 : INFO : ======= NN Epoch: 6 ==========\n"
     ]
    },
    {
     "name": "stdout",
     "output_type": "stream",
     "text": [
      "****** Validation Metrics: Cov Err: 1.592, Avg Labels: 1.150, \n",
      "\t\t Top 1: 0.752, Top 3: 0.950, Top 5: 0.990, \n",
      "\t\t F1 Micro: 0.704, F1 Macro: 0.598, Total Pos: 312,396\n",
      "Epoch 1/1\n",
      "1286325/1286325 [==============================] - 13s - loss: 0.1810    \n",
      "CPU times: user 3.77 s, sys: 3.24 s, total: 7.01 s"
     ]
    },
    {
     "name": "stderr",
     "output_type": "stream",
     "text": [
      "2017-01-21 16:56:56,000 : INFO : Evaluating on Training Data\n"
     ]
    },
    {
     "name": "stdout",
     "output_type": "stream",
     "text": [
      "\n",
      "Wall time: 13.1 s\n"
     ]
    },
    {
     "name": "stderr",
     "output_type": "stream",
     "text": [
      "2017-01-21 16:57:02,242 : INFO : Generating Training Metrics\n",
      "2017-01-21 16:57:42,070 : INFO : Evaluating on Validation Data\n"
     ]
    },
    {
     "name": "stdout",
     "output_type": "stream",
     "text": [
      "** Training Metrics: Cov Err: 1.572, Avg Labels: 1.150, \n",
      "\t\t Top 1: 0.759, Top 3: 0.954, Top 5: 0.991, \n",
      "\t\t F1 Micro: 0.712, F1 Macro: 0.608, Total Pos: 1,259,345\n"
     ]
    },
    {
     "name": "stderr",
     "output_type": "stream",
     "text": [
      "2017-01-21 16:57:44,799 : INFO : Generating Validation Metrics\n",
      "2017-01-21 16:57:54,728 : INFO : ======= NN Epoch: 7 ==========\n"
     ]
    },
    {
     "name": "stdout",
     "output_type": "stream",
     "text": [
      "****** Validation Metrics: Cov Err: 1.575, Avg Labels: 1.150, \n",
      "\t\t Top 1: 0.757, Top 3: 0.953, Top 5: 0.991, \n",
      "\t\t F1 Micro: 0.712, F1 Macro: 0.610, Total Pos: 319,444\n",
      "Epoch 1/1\n",
      "1286325/1286325 [==============================] - 12s - loss: 0.1765    "
     ]
    },
    {
     "name": "stderr",
     "output_type": "stream",
     "text": [
      "2017-01-21 16:58:06,743 : INFO : Evaluating on Training Data\n"
     ]
    },
    {
     "name": "stdout",
     "output_type": "stream",
     "text": [
      "\n",
      "CPU times: user 3.8 s, sys: 3.26 s, total: 7.06 s\n",
      "Wall time: 12 s\n"
     ]
    },
    {
     "name": "stderr",
     "output_type": "stream",
     "text": [
      "2017-01-21 16:58:12,744 : INFO : Generating Training Metrics\n",
      "2017-01-21 16:58:56,403 : INFO : Evaluating on Validation Data\n"
     ]
    },
    {
     "name": "stdout",
     "output_type": "stream",
     "text": [
      "** Training Metrics: Cov Err: 1.554, Avg Labels: 1.150, \n",
      "\t\t Top 1: 0.767, Top 3: 0.956, Top 5: 0.992, \n",
      "\t\t F1 Micro: 0.718, F1 Macro: 0.608, Total Pos: 1,245,818\n"
     ]
    },
    {
     "name": "stderr",
     "output_type": "stream",
     "text": [
      "2017-01-21 16:58:59,402 : INFO : Generating Validation Metrics\n",
      "2017-01-21 16:59:09,519 : INFO : ======= NN Epoch: 8 ==========\n"
     ]
    },
    {
     "name": "stdout",
     "output_type": "stream",
     "text": [
      "****** Validation Metrics: Cov Err: 1.553, Avg Labels: 1.150, \n",
      "\t\t Top 1: 0.768, Top 3: 0.956, Top 5: 0.992, \n",
      "\t\t F1 Micro: 0.720, F1 Macro: 0.611, Total Pos: 313,093\n",
      "Epoch 1/1\n",
      "1286325/1286325 [==============================] - 12s - loss: 0.1730    "
     ]
    },
    {
     "name": "stderr",
     "output_type": "stream",
     "text": [
      "2017-01-21 16:59:21,547 : INFO : Evaluating on Training Data\n"
     ]
    },
    {
     "name": "stdout",
     "output_type": "stream",
     "text": [
      "\n",
      "CPU times: user 3.78 s, sys: 3.21 s, total: 6.99 s\n",
      "Wall time: 12 s\n"
     ]
    },
    {
     "name": "stderr",
     "output_type": "stream",
     "text": [
      "2017-01-21 16:59:27,644 : INFO : Generating Training Metrics\n",
      "2017-01-21 17:00:09,253 : INFO : Evaluating on Validation Data\n"
     ]
    },
    {
     "name": "stdout",
     "output_type": "stream",
     "text": [
      "** Training Metrics: Cov Err: 1.541, Avg Labels: 1.150, \n",
      "\t\t Top 1: 0.774, Top 3: 0.958, Top 5: 0.992, \n",
      "\t\t F1 Micro: 0.728, F1 Macro: 0.623, Total Pos: 1,276,847\n"
     ]
    },
    {
     "name": "stderr",
     "output_type": "stream",
     "text": [
      "2017-01-21 17:00:12,151 : INFO : Generating Validation Metrics\n",
      "2017-01-21 17:00:22,251 : INFO : ======= NN Epoch: 9 ==========\n"
     ]
    },
    {
     "name": "stdout",
     "output_type": "stream",
     "text": [
      "****** Validation Metrics: Cov Err: 1.542, Avg Labels: 1.150, \n",
      "\t\t Top 1: 0.774, Top 3: 0.958, Top 5: 0.992, \n",
      "\t\t F1 Micro: 0.728, F1 Macro: 0.623, Total Pos: 318,574\n",
      "Epoch 1/1\n",
      "1286325/1286325 [==============================] - 12s - loss: 0.1702    "
     ]
    },
    {
     "name": "stderr",
     "output_type": "stream",
     "text": [
      "2017-01-21 17:00:34,271 : INFO : Evaluating on Training Data\n"
     ]
    },
    {
     "name": "stdout",
     "output_type": "stream",
     "text": [
      "\n",
      "CPU times: user 3.51 s, sys: 3.16 s, total: 6.68 s\n",
      "Wall time: 12 s\n"
     ]
    },
    {
     "name": "stderr",
     "output_type": "stream",
     "text": [
      "2017-01-21 17:00:39,205 : INFO : Generating Training Metrics\n",
      "2017-01-21 17:01:21,119 : INFO : Evaluating on Validation Data\n"
     ]
    },
    {
     "name": "stdout",
     "output_type": "stream",
     "text": [
      "** Training Metrics: Cov Err: 1.530, Avg Labels: 1.150, \n",
      "\t\t Top 1: 0.779, Top 3: 0.959, Top 5: 0.992, \n",
      "\t\t F1 Micro: 0.729, F1 Macro: 0.629, Total Pos: 1,247,081\n"
     ]
    },
    {
     "name": "stderr",
     "output_type": "stream",
     "text": [
      "2017-01-21 17:01:23,945 : INFO : Generating Validation Metrics\n",
      "2017-01-21 17:01:34,163 : INFO : ======= NN Epoch: 10 ==========\n"
     ]
    },
    {
     "name": "stdout",
     "output_type": "stream",
     "text": [
      "****** Validation Metrics: Cov Err: 1.533, Avg Labels: 1.150, \n",
      "\t\t Top 1: 0.778, Top 3: 0.959, Top 5: 0.992, \n",
      "\t\t F1 Micro: 0.728, F1 Macro: 0.627, Total Pos: 311,063\n",
      "Epoch 1/1\n",
      "1286325/1286325 [==============================] - 13s - loss: 0.1679    "
     ]
    },
    {
     "name": "stderr",
     "output_type": "stream",
     "text": [
      "2017-01-21 17:01:47,457 : INFO : Evaluating on Training Data\n"
     ]
    },
    {
     "name": "stdout",
     "output_type": "stream",
     "text": [
      "\n",
      "CPU times: user 3.97 s, sys: 3.42 s, total: 7.39 s\n",
      "Wall time: 13.3 s\n"
     ]
    },
    {
     "name": "stderr",
     "output_type": "stream",
     "text": [
      "2017-01-21 17:01:51,582 : INFO : Generating Training Metrics\n",
      "2017-01-21 17:02:32,468 : INFO : Evaluating on Validation Data\n"
     ]
    },
    {
     "name": "stdout",
     "output_type": "stream",
     "text": [
      "** Training Metrics: Cov Err: 1.523, Avg Labels: 1.150, \n",
      "\t\t Top 1: 0.782, Top 3: 0.960, Top 5: 0.993, \n",
      "\t\t F1 Micro: 0.735, F1 Macro: 0.638, Total Pos: 1,270,423\n"
     ]
    },
    {
     "name": "stderr",
     "output_type": "stream",
     "text": [
      "2017-01-21 17:02:35,298 : INFO : Generating Validation Metrics\n",
      "2017-01-21 17:02:45,809 : INFO : ======= NN Epoch: 11 ==========\n"
     ]
    },
    {
     "name": "stdout",
     "output_type": "stream",
     "text": [
      "****** Validation Metrics: Cov Err: 1.524, Avg Labels: 1.150, \n",
      "\t\t Top 1: 0.782, Top 3: 0.960, Top 5: 0.992, \n",
      "\t\t F1 Micro: 0.733, F1 Macro: 0.636, Total Pos: 314,965\n",
      "Epoch 1/1\n",
      "1286325/1286325 [==============================] - 11s - loss: 0.1661    "
     ]
    },
    {
     "name": "stderr",
     "output_type": "stream",
     "text": [
      "2017-01-21 17:02:57,670 : INFO : Evaluating on Training Data\n"
     ]
    },
    {
     "name": "stdout",
     "output_type": "stream",
     "text": [
      "\n",
      "CPU times: user 3.62 s, sys: 3.2 s, total: 6.82 s\n",
      "Wall time: 11.9 s\n"
     ]
    },
    {
     "name": "stderr",
     "output_type": "stream",
     "text": [
      "2017-01-21 17:03:02,509 : INFO : Generating Training Metrics\n",
      "2017-01-21 17:03:44,960 : INFO : Evaluating on Validation Data\n"
     ]
    },
    {
     "name": "stdout",
     "output_type": "stream",
     "text": [
      "** Training Metrics: Cov Err: 1.514, Avg Labels: 1.150, \n",
      "\t\t Top 1: 0.787, Top 3: 0.961, Top 5: 0.993, \n",
      "\t\t F1 Micro: 0.741, F1 Macro: 0.653, Total Pos: 1,294,107\n"
     ]
    },
    {
     "name": "stderr",
     "output_type": "stream",
     "text": [
      "2017-01-21 17:03:47,735 : INFO : Generating Validation Metrics\n",
      "2017-01-21 17:03:58,145 : INFO : ======= NN Epoch: 12 ==========\n"
     ]
    },
    {
     "name": "stdout",
     "output_type": "stream",
     "text": [
      "****** Validation Metrics: Cov Err: 1.517, Avg Labels: 1.150, \n",
      "\t\t Top 1: 0.785, Top 3: 0.960, Top 5: 0.992, \n",
      "\t\t F1 Micro: 0.739, F1 Macro: 0.651, Total Pos: 320,160\n",
      "Epoch 1/1\n",
      "1286325/1286325 [==============================] - 12s - loss: 0.1645    "
     ]
    },
    {
     "name": "stderr",
     "output_type": "stream",
     "text": [
      "2017-01-21 17:04:10,402 : INFO : Evaluating on Training Data\n"
     ]
    },
    {
     "name": "stdout",
     "output_type": "stream",
     "text": [
      "\n",
      "CPU times: user 3.77 s, sys: 3.34 s, total: 7.11 s\n",
      "Wall time: 12.3 s\n"
     ]
    },
    {
     "name": "stderr",
     "output_type": "stream",
     "text": [
      "2017-01-21 17:04:15,106 : INFO : Generating Training Metrics\n",
      "2017-01-21 17:04:57,129 : INFO : Evaluating on Validation Data\n"
     ]
    },
    {
     "name": "stdout",
     "output_type": "stream",
     "text": [
      "** Training Metrics: Cov Err: 1.513, Avg Labels: 1.150, \n",
      "\t\t Top 1: 0.787, Top 3: 0.961, Top 5: 0.993, \n",
      "\t\t F1 Micro: 0.741, F1 Macro: 0.638, Total Pos: 1,284,131\n"
     ]
    },
    {
     "name": "stderr",
     "output_type": "stream",
     "text": [
      "2017-01-21 17:05:00,100 : INFO : Generating Validation Metrics\n",
      "2017-01-21 17:05:10,024 : INFO : ======= NN Epoch: 13 ==========\n"
     ]
    },
    {
     "name": "stdout",
     "output_type": "stream",
     "text": [
      "****** Validation Metrics: Cov Err: 1.516, Avg Labels: 1.150, \n",
      "\t\t Top 1: 0.786, Top 3: 0.961, Top 5: 0.993, \n",
      "\t\t F1 Micro: 0.739, F1 Macro: 0.635, Total Pos: 318,666\n",
      "Epoch 1/1\n",
      "1286325/1286325 [==============================] - 12s - loss: 0.1632    "
     ]
    },
    {
     "name": "stderr",
     "output_type": "stream",
     "text": [
      "2017-01-21 17:05:22,983 : INFO : Evaluating on Training Data\n"
     ]
    },
    {
     "name": "stdout",
     "output_type": "stream",
     "text": [
      "\n",
      "CPU times: user 3.67 s, sys: 3.17 s, total: 6.84 s\n",
      "Wall time: 13 s\n"
     ]
    },
    {
     "name": "stderr",
     "output_type": "stream",
     "text": [
      "2017-01-21 17:05:28,016 : INFO : Generating Training Metrics\n",
      "2017-01-21 17:06:10,019 : INFO : Evaluating on Validation Data\n"
     ]
    },
    {
     "name": "stdout",
     "output_type": "stream",
     "text": [
      "** Training Metrics: Cov Err: 1.505, Avg Labels: 1.150, \n",
      "\t\t Top 1: 0.790, Top 3: 0.962, Top 5: 0.993, \n",
      "\t\t F1 Micro: 0.744, F1 Macro: 0.650, Total Pos: 1,288,392\n"
     ]
    },
    {
     "name": "stderr",
     "output_type": "stream",
     "text": [
      "2017-01-21 17:06:12,850 : INFO : Generating Validation Metrics\n",
      "2017-01-21 17:06:22,766 : INFO : ======= NN Epoch: 14 ==========\n"
     ]
    },
    {
     "name": "stdout",
     "output_type": "stream",
     "text": [
      "****** Validation Metrics: Cov Err: 1.511, Avg Labels: 1.150, \n",
      "\t\t Top 1: 0.789, Top 3: 0.961, Top 5: 0.993, \n",
      "\t\t F1 Micro: 0.741, F1 Macro: 0.646, Total Pos: 319,014\n",
      "Epoch 1/1\n",
      "1286325/1286325 [==============================] - 12s - loss: 0.1620    "
     ]
    },
    {
     "name": "stderr",
     "output_type": "stream",
     "text": [
      "2017-01-21 17:06:35,606 : INFO : Evaluating on Training Data\n"
     ]
    },
    {
     "name": "stdout",
     "output_type": "stream",
     "text": [
      "\n",
      "CPU times: user 3.48 s, sys: 3.26 s, total: 6.74 s\n",
      "Wall time: 12.8 s\n"
     ]
    },
    {
     "name": "stderr",
     "output_type": "stream",
     "text": [
      "2017-01-21 17:06:40,016 : INFO : Generating Training Metrics\n",
      "2017-01-21 17:07:21,997 : INFO : Evaluating on Validation Data\n"
     ]
    },
    {
     "name": "stdout",
     "output_type": "stream",
     "text": [
      "** Training Metrics: Cov Err: 1.501, Avg Labels: 1.150, \n",
      "\t\t Top 1: 0.793, Top 3: 0.963, Top 5: 0.993, \n",
      "\t\t F1 Micro: 0.747, F1 Macro: 0.655, Total Pos: 1,296,031\n"
     ]
    },
    {
     "name": "stderr",
     "output_type": "stream",
     "text": [
      "2017-01-21 17:07:24,865 : INFO : Generating Validation Metrics\n",
      "2017-01-21 17:07:35,152 : INFO : ======= NN Epoch: 15 ==========\n"
     ]
    },
    {
     "name": "stdout",
     "output_type": "stream",
     "text": [
      "****** Validation Metrics: Cov Err: 1.507, Avg Labels: 1.150, \n",
      "\t\t Top 1: 0.791, Top 3: 0.962, Top 5: 0.993, \n",
      "\t\t F1 Micro: 0.743, F1 Macro: 0.651, Total Pos: 320,564\n",
      "Epoch 1/1\n",
      "1286325/1286325 [==============================] - 13s - loss: 0.1610    "
     ]
    },
    {
     "name": "stderr",
     "output_type": "stream",
     "text": [
      "2017-01-21 17:07:48,559 : INFO : Evaluating on Training Data\n"
     ]
    },
    {
     "name": "stdout",
     "output_type": "stream",
     "text": [
      "\n",
      "CPU times: user 3.9 s, sys: 3.46 s, total: 7.36 s\n",
      "Wall time: 13.4 s\n"
     ]
    },
    {
     "name": "stderr",
     "output_type": "stream",
     "text": [
      "2017-01-21 17:07:53,504 : INFO : Generating Training Metrics\n",
      "2017-01-21 17:08:36,686 : INFO : Evaluating on Validation Data\n"
     ]
    },
    {
     "name": "stdout",
     "output_type": "stream",
     "text": [
      "** Training Metrics: Cov Err: 1.498, Avg Labels: 1.150, \n",
      "\t\t Top 1: 0.793, Top 3: 0.964, Top 5: 0.993, \n",
      "\t\t F1 Micro: 0.749, F1 Macro: 0.659, Total Pos: 1,306,712\n"
     ]
    },
    {
     "name": "stderr",
     "output_type": "stream",
     "text": [
      "2017-01-21 17:08:39,655 : INFO : Generating Validation Metrics\n"
     ]
    },
    {
     "name": "stdout",
     "output_type": "stream",
     "text": [
      "****** Validation Metrics: Cov Err: 1.502, Avg Labels: 1.150, \n",
      "\t\t Top 1: 0.792, Top 3: 0.963, Top 5: 0.993, \n",
      "\t\t F1 Micro: 0.746, F1 Macro: 0.655, Total Pos: 323,419\n",
      "===================================================================================\n",
      "========== 1st Layer Size: 500, 1st Layer Activation: sigmoid, \n",
      " 2nd Layer Size: 500, 2nd Layer Activation: sigmoid, \n",
      "Input Dropout: True, Hidden Dropout: False==========================\n",
      "____________________________________________________________________________________________________\n",
      "Layer (type)                     Output Shape          Param #     Connected to                     \n",
      "====================================================================================================\n",
      "doc_input (InputLayer)           (None, 100)           0                                            \n",
      "____________________________________________________________________________________________________\n",
      "dropout_14 (Dropout)             (None, 100)           0           doc_input[0][0]                  \n",
      "____________________________________________________________________________________________________\n",
      "hidden_layer_sigmoid (Dense)     (None, 500)           50500       dropout_14[0][0]                 \n",
      "____________________________________________________________________________________________________\n",
      "hidden_layer2_sigmoid (Dense)    (None, 500)           250500      hidden_layer_sigmoid[0][0]       \n",
      "____________________________________________________________________________________________________\n",
      "softmax_output (Dense)           (None, 8)             4008        hidden_layer2_sigmoid[0][0]      \n",
      "====================================================================================================\n"
     ]
    },
    {
     "name": "stderr",
     "output_type": "stream",
     "text": [
      "2017-01-21 17:08:52,022 : INFO : ======= NN Epoch: 1 ==========\n"
     ]
    },
    {
     "name": "stdout",
     "output_type": "stream",
     "text": [
      "Total params: 305008\n",
      "____________________________________________________________________________________________________\n",
      "Epoch 1/1\n",
      "1286325/1286325 [==============================] - 24s - loss: 0.2956    "
     ]
    },
    {
     "name": "stderr",
     "output_type": "stream",
     "text": [
      "2017-01-21 17:09:21,805 : INFO : Evaluating on Training Data\n"
     ]
    },
    {
     "name": "stdout",
     "output_type": "stream",
     "text": [
      "\n",
      "CPU times: user 6.74 s, sys: 7.77 s, total: 14.5 s\n",
      "Wall time: 29.8 s\n"
     ]
    },
    {
     "name": "stderr",
     "output_type": "stream",
     "text": [
      "2017-01-21 17:09:31,038 : INFO : Generating Training Metrics\n",
      "2017-01-21 17:10:15,945 : INFO : Evaluating on Validation Data\n"
     ]
    },
    {
     "name": "stdout",
     "output_type": "stream",
     "text": [
      "** Training Metrics: Cov Err: 1.863, Avg Labels: 1.150, \n",
      "\t\t Top 1: 0.653, Top 3: 0.904, Top 5: 0.973, \n",
      "\t\t F1 Micro: 0.486, F1 Macro: 0.252, Total Pos: 678,100\n"
     ]
    },
    {
     "name": "stderr",
     "output_type": "stream",
     "text": [
      "2017-01-21 17:10:21,028 : INFO : Generating Validation Metrics\n",
      "2017-01-21 17:10:32,450 : INFO : ======= NN Epoch: 2 ==========\n"
     ]
    },
    {
     "name": "stdout",
     "output_type": "stream",
     "text": [
      "****** Validation Metrics: Cov Err: 1.856, Avg Labels: 1.150, \n",
      "\t\t Top 1: 0.657, Top 3: 0.904, Top 5: 0.973, \n",
      "\t\t F1 Micro: 0.500, F1 Macro: 0.254, Total Pos: 177,395\n",
      "Epoch 1/1\n",
      "1286325/1286325 [==============================] - 23s - loss: 0.2764    "
     ]
    },
    {
     "name": "stderr",
     "output_type": "stream",
     "text": [
      "2017-01-21 17:10:55,716 : INFO : Evaluating on Training Data\n"
     ]
    },
    {
     "name": "stdout",
     "output_type": "stream",
     "text": [
      "\n",
      "CPU times: user 5.46 s, sys: 7.33 s, total: 12.8 s\n",
      "Wall time: 23.3 s\n"
     ]
    },
    {
     "name": "stderr",
     "output_type": "stream",
     "text": [
      "2017-01-21 17:11:04,850 : INFO : Generating Training Metrics\n",
      "2017-01-21 17:11:43,939 : INFO : Evaluating on Validation Data\n"
     ]
    },
    {
     "name": "stdout",
     "output_type": "stream",
     "text": [
      "** Training Metrics: Cov Err: 1.797, Avg Labels: 1.150, \n",
      "\t\t Top 1: 0.660, Top 3: 0.919, Top 5: 0.983, \n",
      "\t\t F1 Micro: 0.553, F1 Macro: 0.323, Total Pos: 883,768\n"
     ]
    },
    {
     "name": "stderr",
     "output_type": "stream",
     "text": [
      "2017-01-21 17:11:49,081 : INFO : Generating Validation Metrics\n",
      "2017-01-21 17:11:59,551 : INFO : ======= NN Epoch: 3 ==========\n"
     ]
    },
    {
     "name": "stdout",
     "output_type": "stream",
     "text": [
      "****** Validation Metrics: Cov Err: 1.782, Avg Labels: 1.150, \n",
      "\t\t Top 1: 0.666, Top 3: 0.922, Top 5: 0.984, \n",
      "\t\t F1 Micro: 0.565, F1 Macro: 0.334, Total Pos: 226,073\n",
      "Epoch 1/1\n",
      "1286325/1286325 [==============================] - 24s - loss: 0.2690    "
     ]
    },
    {
     "name": "stderr",
     "output_type": "stream",
     "text": [
      "2017-01-21 17:12:24,498 : INFO : Evaluating on Training Data\n"
     ]
    },
    {
     "name": "stdout",
     "output_type": "stream",
     "text": [
      "\n",
      "CPU times: user 5.55 s, sys: 7.87 s, total: 13.4 s\n",
      "Wall time: 24.9 s\n"
     ]
    },
    {
     "name": "stderr",
     "output_type": "stream",
     "text": [
      "2017-01-21 17:12:33,627 : INFO : Generating Training Metrics\n",
      "2017-01-21 17:13:15,402 : INFO : Evaluating on Validation Data\n"
     ]
    },
    {
     "name": "stdout",
     "output_type": "stream",
     "text": [
      "** Training Metrics: Cov Err: 1.728, Avg Labels: 1.150, \n",
      "\t\t Top 1: 0.703, Top 3: 0.928, Top 5: 0.983, \n",
      "\t\t F1 Micro: 0.594, F1 Macro: 0.366, Total Pos: 898,125\n"
     ]
    },
    {
     "name": "stderr",
     "output_type": "stream",
     "text": [
      "2017-01-21 17:13:20,843 : INFO : Generating Validation Metrics\n",
      "2017-01-21 17:13:31,300 : INFO : ======= NN Epoch: 4 ==========\n"
     ]
    },
    {
     "name": "stdout",
     "output_type": "stream",
     "text": [
      "****** Validation Metrics: Cov Err: 1.719, Avg Labels: 1.150, \n",
      "\t\t Top 1: 0.706, Top 3: 0.929, Top 5: 0.984, \n",
      "\t\t F1 Micro: 0.606, F1 Macro: 0.376, Total Pos: 230,181\n",
      "Epoch 1/1\n",
      "1286325/1286325 [==============================] - 24s - loss: 0.2651    "
     ]
    },
    {
     "name": "stderr",
     "output_type": "stream",
     "text": [
      "2017-01-21 17:13:56,121 : INFO : Evaluating on Training Data\n"
     ]
    },
    {
     "name": "stdout",
     "output_type": "stream",
     "text": [
      "\n",
      "CPU times: user 5.8 s, sys: 7.58 s, total: 13.4 s\n",
      "Wall time: 24.8 s\n"
     ]
    },
    {
     "name": "stderr",
     "output_type": "stream",
     "text": [
      "2017-01-21 17:14:04,978 : INFO : Generating Training Metrics\n",
      "2017-01-21 17:14:46,775 : INFO : Evaluating on Validation Data\n"
     ]
    },
    {
     "name": "stdout",
     "output_type": "stream",
     "text": [
      "** Training Metrics: Cov Err: 1.665, Avg Labels: 1.150, \n",
      "\t\t Top 1: 0.723, Top 3: 0.942, Top 5: 0.987, \n",
      "\t\t F1 Micro: 0.620, F1 Macro: 0.454, Total Pos: 962,713\n"
     ]
    },
    {
     "name": "stderr",
     "output_type": "stream",
     "text": [
      "2017-01-21 17:14:52,069 : INFO : Generating Validation Metrics\n",
      "2017-01-21 17:15:01,831 : INFO : ======= NN Epoch: 5 ==========\n"
     ]
    },
    {
     "name": "stdout",
     "output_type": "stream",
     "text": [
      "****** Validation Metrics: Cov Err: 1.656, Avg Labels: 1.150, \n",
      "\t\t Top 1: 0.728, Top 3: 0.942, Top 5: 0.987, \n",
      "\t\t F1 Micro: 0.633, F1 Macro: 0.464, Total Pos: 246,786\n",
      "Epoch 1/1\n",
      "1286325/1286325 [==============================] - 24s - loss: 0.2622    "
     ]
    },
    {
     "name": "stderr",
     "output_type": "stream",
     "text": [
      "2017-01-21 17:15:26,709 : INFO : Evaluating on Training Data\n"
     ]
    },
    {
     "name": "stdout",
     "output_type": "stream",
     "text": [
      "\n",
      "CPU times: user 5.66 s, sys: 7.63 s, total: 13.3 s\n",
      "Wall time: 24.9 s\n"
     ]
    },
    {
     "name": "stderr",
     "output_type": "stream",
     "text": [
      "2017-01-21 17:15:35,680 : INFO : Generating Training Metrics\n",
      "2017-01-21 17:16:14,999 : INFO : Evaluating on Validation Data\n"
     ]
    },
    {
     "name": "stdout",
     "output_type": "stream",
     "text": [
      "** Training Metrics: Cov Err: 1.660, Avg Labels: 1.150, \n",
      "\t\t Top 1: 0.717, Top 3: 0.943, Top 5: 0.988, \n",
      "\t\t F1 Micro: 0.637, F1 Macro: 0.479, Total Pos: 1,038,478\n"
     ]
    },
    {
     "name": "stderr",
     "output_type": "stream",
     "text": [
      "2017-01-21 17:16:20,293 : INFO : Generating Validation Metrics\n",
      "2017-01-21 17:16:30,256 : INFO : ======= NN Epoch: 6 ==========\n"
     ]
    },
    {
     "name": "stdout",
     "output_type": "stream",
     "text": [
      "****** Validation Metrics: Cov Err: 1.650, Avg Labels: 1.150, \n",
      "\t\t Top 1: 0.723, Top 3: 0.943, Top 5: 0.989, \n",
      "\t\t F1 Micro: 0.648, F1 Macro: 0.489, Total Pos: 264,639\n",
      "Epoch 1/1\n",
      "1286325/1286325 [==============================] - 24s - loss: 0.2594    "
     ]
    },
    {
     "name": "stderr",
     "output_type": "stream",
     "text": [
      "2017-01-21 17:16:55,190 : INFO : Evaluating on Training Data\n"
     ]
    },
    {
     "name": "stdout",
     "output_type": "stream",
     "text": [
      "\n",
      "CPU times: user 5.62 s, sys: 7.79 s, total: 13.4 s\n",
      "Wall time: 24.9 s\n"
     ]
    },
    {
     "name": "stderr",
     "output_type": "stream",
     "text": [
      "2017-01-21 17:17:04,301 : INFO : Generating Training Metrics\n",
      "2017-01-21 17:17:45,894 : INFO : Evaluating on Validation Data\n"
     ]
    },
    {
     "name": "stdout",
     "output_type": "stream",
     "text": [
      "** Training Metrics: Cov Err: 1.651, Avg Labels: 1.150, \n",
      "\t\t Top 1: 0.718, Top 3: 0.946, Top 5: 0.990, \n",
      "\t\t F1 Micro: 0.631, F1 Macro: 0.496, Total Pos: 1,025,857\n"
     ]
    },
    {
     "name": "stderr",
     "output_type": "stream",
     "text": [
      "2017-01-21 17:17:51,404 : INFO : Generating Validation Metrics\n",
      "2017-01-21 17:18:01,777 : INFO : ======= NN Epoch: 7 ==========\n"
     ]
    },
    {
     "name": "stdout",
     "output_type": "stream",
     "text": [
      "****** Validation Metrics: Cov Err: 1.634, Avg Labels: 1.150, \n",
      "\t\t Top 1: 0.726, Top 3: 0.948, Top 5: 0.990, \n",
      "\t\t F1 Micro: 0.644, F1 Macro: 0.508, Total Pos: 261,214\n",
      "Epoch 1/1\n",
      "1286325/1286325 [==============================] - 24s - loss: 0.2570    "
     ]
    },
    {
     "name": "stderr",
     "output_type": "stream",
     "text": [
      "2017-01-21 17:18:26,593 : INFO : Evaluating on Training Data\n"
     ]
    },
    {
     "name": "stdout",
     "output_type": "stream",
     "text": [
      "\n",
      "CPU times: user 5.54 s, sys: 7.65 s, total: 13.2 s\n",
      "Wall time: 24.8 s\n"
     ]
    },
    {
     "name": "stderr",
     "output_type": "stream",
     "text": [
      "2017-01-21 17:18:35,303 : INFO : Generating Training Metrics\n",
      "2017-01-21 17:19:18,605 : INFO : Evaluating on Validation Data\n"
     ]
    },
    {
     "name": "stdout",
     "output_type": "stream",
     "text": [
      "** Training Metrics: Cov Err: 1.633, Avg Labels: 1.150, \n",
      "\t\t Top 1: 0.735, Top 3: 0.946, Top 5: 0.987, \n",
      "\t\t F1 Micro: 0.656, F1 Macro: 0.482, Total Pos: 1,053,178\n"
     ]
    },
    {
     "name": "stderr",
     "output_type": "stream",
     "text": [
      "2017-01-21 17:19:24,078 : INFO : Generating Validation Metrics\n",
      "2017-01-21 17:19:33,873 : INFO : ======= NN Epoch: 8 ==========\n"
     ]
    },
    {
     "name": "stdout",
     "output_type": "stream",
     "text": [
      "****** Validation Metrics: Cov Err: 1.625, Avg Labels: 1.150, \n",
      "\t\t Top 1: 0.739, Top 3: 0.947, Top 5: 0.988, \n",
      "\t\t F1 Micro: 0.665, F1 Macro: 0.492, Total Pos: 267,332\n",
      "Epoch 1/1\n",
      "1286325/1286325 [==============================] - 23s - loss: 0.2551    "
     ]
    },
    {
     "name": "stderr",
     "output_type": "stream",
     "text": [
      "2017-01-21 17:19:57,395 : INFO : Evaluating on Training Data\n"
     ]
    },
    {
     "name": "stdout",
     "output_type": "stream",
     "text": [
      "\n",
      "CPU times: user 5.78 s, sys: 7.33 s, total: 13.1 s\n",
      "Wall time: 23.5 s\n"
     ]
    },
    {
     "name": "stderr",
     "output_type": "stream",
     "text": [
      "2017-01-21 17:20:06,439 : INFO : Generating Training Metrics\n",
      "2017-01-21 17:20:45,820 : INFO : Evaluating on Validation Data\n"
     ]
    },
    {
     "name": "stdout",
     "output_type": "stream",
     "text": [
      "** Training Metrics: Cov Err: 1.617, Avg Labels: 1.150, \n",
      "\t\t Top 1: 0.742, Top 3: 0.947, Top 5: 0.990, \n",
      "\t\t F1 Micro: 0.662, F1 Macro: 0.516, Total Pos: 1,022,224\n"
     ]
    },
    {
     "name": "stderr",
     "output_type": "stream",
     "text": [
      "2017-01-21 17:20:50,906 : INFO : Generating Validation Metrics\n",
      "2017-01-21 17:21:00,626 : INFO : ======= NN Epoch: 9 ==========\n"
     ]
    },
    {
     "name": "stdout",
     "output_type": "stream",
     "text": [
      "****** Validation Metrics: Cov Err: 1.608, Avg Labels: 1.150, \n",
      "\t\t Top 1: 0.747, Top 3: 0.949, Top 5: 0.990, \n",
      "\t\t F1 Micro: 0.670, F1 Macro: 0.524, Total Pos: 260,599\n",
      "Epoch 1/1\n",
      "1286325/1286325 [==============================] - 25s - loss: 0.2531    "
     ]
    },
    {
     "name": "stderr",
     "output_type": "stream",
     "text": [
      "2017-01-21 17:21:26,103 : INFO : Evaluating on Training Data\n"
     ]
    },
    {
     "name": "stdout",
     "output_type": "stream",
     "text": [
      "\n",
      "CPU times: user 6.1 s, sys: 7.84 s, total: 13.9 s\n",
      "Wall time: 25.5 s\n"
     ]
    },
    {
     "name": "stderr",
     "output_type": "stream",
     "text": [
      "2017-01-21 17:21:35,224 : INFO : Generating Training Metrics\n",
      "2017-01-21 17:22:18,368 : INFO : Evaluating on Validation Data\n"
     ]
    },
    {
     "name": "stdout",
     "output_type": "stream",
     "text": [
      "** Training Metrics: Cov Err: 1.601, Avg Labels: 1.150, \n",
      "\t\t Top 1: 0.745, Top 3: 0.951, Top 5: 0.991, \n",
      "\t\t F1 Micro: 0.682, F1 Macro: 0.573, Total Pos: 1,149,595\n"
     ]
    },
    {
     "name": "stderr",
     "output_type": "stream",
     "text": [
      "2017-01-21 17:22:23,665 : INFO : Generating Validation Metrics\n",
      "2017-01-21 17:22:34,447 : INFO : ======= NN Epoch: 10 ==========\n"
     ]
    },
    {
     "name": "stdout",
     "output_type": "stream",
     "text": [
      "****** Validation Metrics: Cov Err: 1.590, Avg Labels: 1.150, \n",
      "\t\t Top 1: 0.751, Top 3: 0.953, Top 5: 0.991, \n",
      "\t\t F1 Micro: 0.690, F1 Macro: 0.579, Total Pos: 291,106\n",
      "Epoch 1/1\n",
      "1286325/1286325 [==============================] - 24s - loss: 0.2517    "
     ]
    },
    {
     "name": "stderr",
     "output_type": "stream",
     "text": [
      "2017-01-21 17:22:59,387 : INFO : Evaluating on Training Data\n"
     ]
    },
    {
     "name": "stdout",
     "output_type": "stream",
     "text": [
      "\n",
      "CPU times: user 5.65 s, sys: 7.74 s, total: 13.4 s\n",
      "Wall time: 24.9 s\n"
     ]
    },
    {
     "name": "stderr",
     "output_type": "stream",
     "text": [
      "2017-01-21 17:23:08,232 : INFO : Generating Training Metrics\n",
      "2017-01-21 17:23:50,940 : INFO : Evaluating on Validation Data\n"
     ]
    },
    {
     "name": "stdout",
     "output_type": "stream",
     "text": [
      "** Training Metrics: Cov Err: 1.600, Avg Labels: 1.150, \n",
      "\t\t Top 1: 0.747, Top 3: 0.951, Top 5: 0.990, \n",
      "\t\t F1 Micro: 0.667, F1 Macro: 0.522, Total Pos: 1,069,220\n"
     ]
    },
    {
     "name": "stderr",
     "output_type": "stream",
     "text": [
      "2017-01-21 17:23:56,273 : INFO : Generating Validation Metrics\n",
      "2017-01-21 17:24:05,875 : INFO : ======= NN Epoch: 11 ==========\n"
     ]
    },
    {
     "name": "stdout",
     "output_type": "stream",
     "text": [
      "****** Validation Metrics: Cov Err: 1.591, Avg Labels: 1.150, \n",
      "\t\t Top 1: 0.751, Top 3: 0.952, Top 5: 0.990, \n",
      "\t\t F1 Micro: 0.676, F1 Macro: 0.530, Total Pos: 271,445\n",
      "Epoch 1/1\n",
      "1286325/1286325 [==============================] - 24s - loss: 0.2505    "
     ]
    },
    {
     "name": "stderr",
     "output_type": "stream",
     "text": [
      "2017-01-21 17:24:30,520 : INFO : Evaluating on Training Data\n"
     ]
    },
    {
     "name": "stdout",
     "output_type": "stream",
     "text": [
      "\n",
      "CPU times: user 5.71 s, sys: 7.47 s, total: 13.2 s\n",
      "Wall time: 24.6 s\n"
     ]
    },
    {
     "name": "stderr",
     "output_type": "stream",
     "text": [
      "2017-01-21 17:24:39,168 : INFO : Generating Training Metrics\n",
      "2017-01-21 17:25:18,289 : INFO : Evaluating on Validation Data\n"
     ]
    },
    {
     "name": "stdout",
     "output_type": "stream",
     "text": [
      "** Training Metrics: Cov Err: 1.597, Avg Labels: 1.150, \n",
      "\t\t Top 1: 0.751, Top 3: 0.950, Top 5: 0.989, \n",
      "\t\t F1 Micro: 0.684, F1 Macro: 0.531, Total Pos: 1,152,017\n"
     ]
    },
    {
     "name": "stderr",
     "output_type": "stream",
     "text": [
      "2017-01-21 17:25:23,561 : INFO : Generating Validation Metrics\n",
      "2017-01-21 17:25:33,615 : INFO : ======= NN Epoch: 12 ==========\n"
     ]
    },
    {
     "name": "stdout",
     "output_type": "stream",
     "text": [
      "****** Validation Metrics: Cov Err: 1.589, Avg Labels: 1.150, \n",
      "\t\t Top 1: 0.755, Top 3: 0.952, Top 5: 0.989, \n",
      "\t\t F1 Micro: 0.692, F1 Macro: 0.538, Total Pos: 292,538\n",
      "Epoch 1/1\n",
      "1286325/1286325 [==============================] - 25s - loss: 0.2492    "
     ]
    },
    {
     "name": "stderr",
     "output_type": "stream",
     "text": [
      "2017-01-21 17:25:59,013 : INFO : Evaluating on Training Data\n"
     ]
    },
    {
     "name": "stdout",
     "output_type": "stream",
     "text": [
      "\n",
      "CPU times: user 6.34 s, sys: 7.64 s, total: 14 s\n",
      "Wall time: 25.4 s\n"
     ]
    },
    {
     "name": "stderr",
     "output_type": "stream",
     "text": [
      "2017-01-21 17:26:08,447 : INFO : Generating Training Metrics\n",
      "2017-01-21 17:26:51,618 : INFO : Evaluating on Validation Data\n"
     ]
    },
    {
     "name": "stdout",
     "output_type": "stream",
     "text": [
      "** Training Metrics: Cov Err: 1.578, Avg Labels: 1.150, \n",
      "\t\t Top 1: 0.759, Top 3: 0.954, Top 5: 0.990, \n",
      "\t\t F1 Micro: 0.688, F1 Macro: 0.547, Total Pos: 1,106,160\n"
     ]
    },
    {
     "name": "stderr",
     "output_type": "stream",
     "text": [
      "2017-01-21 17:26:57,247 : INFO : Generating Validation Metrics\n",
      "2017-01-21 17:27:07,717 : INFO : ======= NN Epoch: 13 ==========\n"
     ]
    },
    {
     "name": "stdout",
     "output_type": "stream",
     "text": [
      "****** Validation Metrics: Cov Err: 1.570, Avg Labels: 1.150, \n",
      "\t\t Top 1: 0.762, Top 3: 0.955, Top 5: 0.990, \n",
      "\t\t F1 Micro: 0.695, F1 Macro: 0.555, Total Pos: 280,036\n",
      "Epoch 1/1\n",
      "1286325/1286325 [==============================] - 24s - loss: 0.2482    "
     ]
    },
    {
     "name": "stderr",
     "output_type": "stream",
     "text": [
      "2017-01-21 17:27:32,689 : INFO : Evaluating on Training Data\n"
     ]
    },
    {
     "name": "stdout",
     "output_type": "stream",
     "text": [
      "\n",
      "CPU times: user 5.69 s, sys: 7.7 s, total: 13.4 s\n",
      "Wall time: 25 s\n"
     ]
    },
    {
     "name": "stderr",
     "output_type": "stream",
     "text": [
      "2017-01-21 17:27:41,496 : INFO : Generating Training Metrics\n",
      "2017-01-21 17:28:23,654 : INFO : Evaluating on Validation Data\n"
     ]
    },
    {
     "name": "stdout",
     "output_type": "stream",
     "text": [
      "** Training Metrics: Cov Err: 1.579, Avg Labels: 1.150, \n",
      "\t\t Top 1: 0.758, Top 3: 0.953, Top 5: 0.990, \n",
      "\t\t F1 Micro: 0.697, F1 Macro: 0.554, Total Pos: 1,146,284\n"
     ]
    },
    {
     "name": "stderr",
     "output_type": "stream",
     "text": [
      "2017-01-21 17:28:28,996 : INFO : Generating Validation Metrics\n",
      "2017-01-21 17:28:39,212 : INFO : ======= NN Epoch: 14 ==========\n"
     ]
    },
    {
     "name": "stdout",
     "output_type": "stream",
     "text": [
      "****** Validation Metrics: Cov Err: 1.570, Avg Labels: 1.150, \n",
      "\t\t Top 1: 0.763, Top 3: 0.954, Top 5: 0.991, \n",
      "\t\t F1 Micro: 0.704, F1 Macro: 0.561, Total Pos: 290,860\n",
      "Epoch 1/1\n",
      "1286325/1286325 [==============================] - 24s - loss: 0.2475    "
     ]
    },
    {
     "name": "stderr",
     "output_type": "stream",
     "text": [
      "2017-01-21 17:29:04,054 : INFO : Evaluating on Training Data\n"
     ]
    },
    {
     "name": "stdout",
     "output_type": "stream",
     "text": [
      "\n",
      "CPU times: user 5.78 s, sys: 7.56 s, total: 13.3 s\n",
      "Wall time: 24.8 s\n"
     ]
    },
    {
     "name": "stderr",
     "output_type": "stream",
     "text": [
      "2017-01-21 17:29:12,664 : INFO : Generating Training Metrics\n",
      "2017-01-21 17:29:53,927 : INFO : Evaluating on Validation Data\n"
     ]
    },
    {
     "name": "stdout",
     "output_type": "stream",
     "text": [
      "** Training Metrics: Cov Err: 1.606, Avg Labels: 1.150, \n",
      "\t\t Top 1: 0.750, Top 3: 0.947, Top 5: 0.989, \n",
      "\t\t F1 Micro: 0.690, F1 Macro: 0.512, Total Pos: 1,156,939\n"
     ]
    },
    {
     "name": "stderr",
     "output_type": "stream",
     "text": [
      "2017-01-21 17:29:59,142 : INFO : Generating Validation Metrics\n",
      "2017-01-21 17:30:10,236 : INFO : ======= NN Epoch: 15 ==========\n"
     ]
    },
    {
     "name": "stdout",
     "output_type": "stream",
     "text": [
      "****** Validation Metrics: Cov Err: 1.602, Avg Labels: 1.150, \n",
      "\t\t Top 1: 0.751, Top 3: 0.948, Top 5: 0.989, \n",
      "\t\t F1 Micro: 0.696, F1 Macro: 0.517, Total Pos: 293,782\n",
      "Epoch 1/1\n",
      "1286325/1286325 [==============================] - 24s - loss: 0.2467    "
     ]
    },
    {
     "name": "stderr",
     "output_type": "stream",
     "text": [
      "2017-01-21 17:30:35,018 : INFO : Evaluating on Training Data\n"
     ]
    },
    {
     "name": "stdout",
     "output_type": "stream",
     "text": [
      "\n",
      "CPU times: user 5.65 s, sys: 7.5 s, total: 13.1 s\n",
      "Wall time: 24.8 s\n"
     ]
    },
    {
     "name": "stderr",
     "output_type": "stream",
     "text": [
      "2017-01-21 17:30:44,326 : INFO : Generating Training Metrics\n",
      "2017-01-21 17:31:29,427 : INFO : Evaluating on Validation Data\n"
     ]
    },
    {
     "name": "stdout",
     "output_type": "stream",
     "text": [
      "** Training Metrics: Cov Err: 1.577, Avg Labels: 1.150, \n",
      "\t\t Top 1: 0.757, Top 3: 0.955, Top 5: 0.991, \n",
      "\t\t F1 Micro: 0.703, F1 Macro: 0.566, Total Pos: 1,209,170\n"
     ]
    },
    {
     "name": "stderr",
     "output_type": "stream",
     "text": [
      "2017-01-21 17:31:34,903 : INFO : Generating Validation Metrics\n"
     ]
    },
    {
     "name": "stdout",
     "output_type": "stream",
     "text": [
      "****** Validation Metrics: Cov Err: 1.567, Avg Labels: 1.150, \n",
      "\t\t Top 1: 0.762, Top 3: 0.956, Top 5: 0.992, \n",
      "\t\t F1 Micro: 0.710, F1 Macro: 0.573, Total Pos: 305,860\n",
      "===================================================================================\n",
      "========== 1st Layer Size: 200, 1st Layer Activation: sigmoid, \n",
      " 2nd Layer Size: None, 2nd Layer Activation: relu, \n",
      "Input Dropout: True, Hidden Dropout: True==========================\n",
      "____________________________________________________________________________________________________\n",
      "Layer (type)                     Output Shape          Param #     Connected to                     \n",
      "====================================================================================================\n",
      "doc_input (InputLayer)           (None, 100)           0                                            \n",
      "____________________________________________________________________________________________________\n",
      "dropout_15 (Dropout)             (None, 100)           0           doc_input[0][0]                  \n",
      "____________________________________________________________________________________________________\n",
      "hidden_layer_sigmoid (Dense)     (None, 200)           20200       dropout_15[0][0]                 \n",
      "____________________________________________________________________________________________________\n",
      "dropout_16 (Dropout)             (None, 200)           0           hidden_layer_sigmoid[0][0]       \n",
      "____________________________________________________________________________________________________\n",
      "softmax_output (Dense)           (None, 8)             1608        dropout_16[0][0]                 \n",
      "====================================================================================================\n"
     ]
    },
    {
     "name": "stderr",
     "output_type": "stream",
     "text": [
      "2017-01-21 17:31:45,786 : INFO : ======= NN Epoch: 1 ==========\n"
     ]
    },
    {
     "name": "stdout",
     "output_type": "stream",
     "text": [
      "Total params: 21808\n",
      "____________________________________________________________________________________________________\n",
      "Epoch 1/1\n",
      "1286325/1286325 [==============================] - 16s - loss: 0.3129    "
     ]
    },
    {
     "name": "stderr",
     "output_type": "stream",
     "text": [
      "2017-01-21 17:32:06,603 : INFO : Evaluating on Training Data\n"
     ]
    },
    {
     "name": "stdout",
     "output_type": "stream",
     "text": [
      "\n",
      "CPU times: user 5.94 s, sys: 5.66 s, total: 11.6 s\n",
      "Wall time: 20.8 s\n"
     ]
    },
    {
     "name": "stderr",
     "output_type": "stream",
     "text": [
      "2017-01-21 17:32:15,491 : INFO : Generating Training Metrics\n",
      "2017-01-21 17:32:59,526 : INFO : Evaluating on Validation Data\n"
     ]
    },
    {
     "name": "stdout",
     "output_type": "stream",
     "text": [
      "** Training Metrics: Cov Err: 1.872, Avg Labels: 1.150, \n",
      "\t\t Top 1: 0.653, Top 3: 0.903, Top 5: 0.976, \n",
      "\t\t F1 Micro: 0.448, F1 Macro: 0.225, Total Pos: 606,208\n"
     ]
    },
    {
     "name": "stderr",
     "output_type": "stream",
     "text": [
      "2017-01-21 17:33:04,286 : INFO : Generating Validation Metrics\n",
      "2017-01-21 17:33:14,881 : INFO : ======= NN Epoch: 2 ==========\n"
     ]
    },
    {
     "name": "stdout",
     "output_type": "stream",
     "text": [
      "****** Validation Metrics: Cov Err: 1.865, Avg Labels: 1.150, \n",
      "\t\t Top 1: 0.656, Top 3: 0.904, Top 5: 0.976, \n",
      "\t\t F1 Micro: 0.472, F1 Macro: 0.232, Total Pos: 166,835\n",
      "Epoch 1/1\n",
      "1286325/1286325 [==============================] - 17s - loss: 0.2894    \n",
      "CPU times: user 4.35 s, sys: 5.48 s, total: 9.84 s\n"
     ]
    },
    {
     "name": "stderr",
     "output_type": "stream",
     "text": [
      "2017-01-21 17:33:32,409 : INFO : Evaluating on Training Data\n"
     ]
    },
    {
     "name": "stdout",
     "output_type": "stream",
     "text": [
      "Wall time: 17.5 s\n"
     ]
    },
    {
     "name": "stderr",
     "output_type": "stream",
     "text": [
      "2017-01-21 17:33:39,700 : INFO : Generating Training Metrics\n",
      "2017-01-21 17:34:21,040 : INFO : Evaluating on Validation Data\n"
     ]
    },
    {
     "name": "stdout",
     "output_type": "stream",
     "text": [
      "** Training Metrics: Cov Err: 1.800, Avg Labels: 1.150, \n",
      "\t\t Top 1: 0.675, Top 3: 0.918, Top 5: 0.978, \n",
      "\t\t F1 Micro: 0.482, F1 Macro: 0.265, Total Pos: 654,316\n"
     ]
    },
    {
     "name": "stderr",
     "output_type": "stream",
     "text": [
      "2017-01-21 17:34:25,031 : INFO : Generating Validation Metrics\n",
      "2017-01-21 17:34:33,937 : INFO : ======= NN Epoch: 3 ==========\n"
     ]
    },
    {
     "name": "stdout",
     "output_type": "stream",
     "text": [
      "****** Validation Metrics: Cov Err: 1.796, Avg Labels: 1.150, \n",
      "\t\t Top 1: 0.678, Top 3: 0.918, Top 5: 0.978, \n",
      "\t\t F1 Micro: 0.508, F1 Macro: 0.274, Total Pos: 178,920\n",
      "Epoch 1/1\n",
      "1286325/1286325 [==============================] - 16s - loss: 0.2861    "
     ]
    },
    {
     "name": "stderr",
     "output_type": "stream",
     "text": [
      "2017-01-21 17:34:50,434 : INFO : Evaluating on Training Data\n"
     ]
    },
    {
     "name": "stdout",
     "output_type": "stream",
     "text": [
      "\n",
      "CPU times: user 4.46 s, sys: 5.71 s, total: 10.2 s\n",
      "Wall time: 16.5 s\n"
     ]
    },
    {
     "name": "stderr",
     "output_type": "stream",
     "text": [
      "2017-01-21 17:34:58,785 : INFO : Generating Training Metrics\n",
      "2017-01-21 17:35:41,161 : INFO : Evaluating on Validation Data\n"
     ]
    },
    {
     "name": "stdout",
     "output_type": "stream",
     "text": [
      "** Training Metrics: Cov Err: 1.781, Avg Labels: 1.150, \n",
      "\t\t Top 1: 0.677, Top 3: 0.922, Top 5: 0.981, \n",
      "\t\t F1 Micro: 0.516, F1 Macro: 0.286, Total Pos: 744,778\n"
     ]
    },
    {
     "name": "stderr",
     "output_type": "stream",
     "text": [
      "2017-01-21 17:35:45,805 : INFO : Generating Validation Metrics\n",
      "2017-01-21 17:35:55,638 : INFO : ======= NN Epoch: 4 ==========\n"
     ]
    },
    {
     "name": "stdout",
     "output_type": "stream",
     "text": [
      "****** Validation Metrics: Cov Err: 1.776, Avg Labels: 1.150, \n",
      "\t\t Top 1: 0.681, Top 3: 0.922, Top 5: 0.981, \n",
      "\t\t F1 Micro: 0.538, F1 Macro: 0.297, Total Pos: 200,411\n",
      "Epoch 1/1\n",
      "1286325/1286325 [==============================] - 18s - loss: 0.2838    "
     ]
    },
    {
     "name": "stderr",
     "output_type": "stream",
     "text": [
      "2017-01-21 17:36:13,917 : INFO : Evaluating on Training Data\n"
     ]
    },
    {
     "name": "stdout",
     "output_type": "stream",
     "text": [
      "\n",
      "CPU times: user 5.02 s, sys: 5.46 s, total: 10.5 s\n",
      "Wall time: 18.3 s\n"
     ]
    },
    {
     "name": "stderr",
     "output_type": "stream",
     "text": [
      "2017-01-21 17:36:21,064 : INFO : Generating Training Metrics\n",
      "2017-01-21 17:37:05,356 : INFO : Evaluating on Validation Data\n"
     ]
    },
    {
     "name": "stdout",
     "output_type": "stream",
     "text": [
      "** Training Metrics: Cov Err: 1.758, Avg Labels: 1.150, \n",
      "\t\t Top 1: 0.685, Top 3: 0.925, Top 5: 0.982, \n",
      "\t\t F1 Micro: 0.523, F1 Macro: 0.291, Total Pos: 747,763\n"
     ]
    },
    {
     "name": "stderr",
     "output_type": "stream",
     "text": [
      "2017-01-21 17:37:09,865 : INFO : Generating Validation Metrics\n",
      "2017-01-21 17:37:19,999 : INFO : ======= NN Epoch: 5 ==========\n"
     ]
    },
    {
     "name": "stdout",
     "output_type": "stream",
     "text": [
      "****** Validation Metrics: Cov Err: 1.752, Avg Labels: 1.150, \n",
      "\t\t Top 1: 0.689, Top 3: 0.926, Top 5: 0.983, \n",
      "\t\t F1 Micro: 0.541, F1 Macro: 0.300, Total Pos: 198,823\n",
      "Epoch 1/1\n",
      "1286325/1286325 [==============================] - 17s - loss: 0.2820    "
     ]
    },
    {
     "name": "stderr",
     "output_type": "stream",
     "text": [
      "2017-01-21 17:37:37,026 : INFO : Evaluating on Training Data\n"
     ]
    },
    {
     "name": "stdout",
     "output_type": "stream",
     "text": [
      "\n",
      "CPU times: user 4.87 s, sys: 5.7 s, total: 10.6 s\n",
      "Wall time: 17 s\n"
     ]
    },
    {
     "name": "stderr",
     "output_type": "stream",
     "text": [
      "2017-01-21 17:37:45,213 : INFO : Generating Training Metrics\n",
      "2017-01-21 17:38:26,983 : INFO : Evaluating on Validation Data\n"
     ]
    },
    {
     "name": "stdout",
     "output_type": "stream",
     "text": [
      "** Training Metrics: Cov Err: 1.743, Avg Labels: 1.150, \n",
      "\t\t Top 1: 0.691, Top 3: 0.927, Top 5: 0.984, \n",
      "\t\t F1 Micro: 0.525, F1 Macro: 0.297, Total Pos: 739,202\n"
     ]
    },
    {
     "name": "stderr",
     "output_type": "stream",
     "text": [
      "2017-01-21 17:38:31,329 : INFO : Generating Validation Metrics\n",
      "2017-01-21 17:38:41,367 : INFO : ======= NN Epoch: 6 ==========\n"
     ]
    },
    {
     "name": "stdout",
     "output_type": "stream",
     "text": [
      "****** Validation Metrics: Cov Err: 1.736, Avg Labels: 1.150, \n",
      "\t\t Top 1: 0.695, Top 3: 0.927, Top 5: 0.984, \n",
      "\t\t F1 Micro: 0.544, F1 Macro: 0.306, Total Pos: 196,992\n",
      "Epoch 1/1\n",
      "1286325/1286325 [==============================] - 17s - loss: 0.2804    "
     ]
    },
    {
     "name": "stderr",
     "output_type": "stream",
     "text": [
      "2017-01-21 17:38:58,977 : INFO : Evaluating on Training Data\n"
     ]
    },
    {
     "name": "stdout",
     "output_type": "stream",
     "text": [
      "\n",
      "CPU times: user 4.81 s, sys: 5.85 s, total: 10.7 s\n",
      "Wall time: 17.6 s\n"
     ]
    },
    {
     "name": "stderr",
     "output_type": "stream",
     "text": [
      "2017-01-21 17:39:07,161 : INFO : Generating Training Metrics\n",
      "2017-01-21 17:39:47,632 : INFO : Evaluating on Validation Data\n"
     ]
    },
    {
     "name": "stdout",
     "output_type": "stream",
     "text": [
      "** Training Metrics: Cov Err: 1.735, Avg Labels: 1.150, \n",
      "\t\t Top 1: 0.693, Top 3: 0.929, Top 5: 0.984, \n",
      "\t\t F1 Micro: 0.546, F1 Macro: 0.308, Total Pos: 795,509\n"
     ]
    },
    {
     "name": "stderr",
     "output_type": "stream",
     "text": [
      "2017-01-21 17:39:52,169 : INFO : Generating Validation Metrics\n",
      "2017-01-21 17:40:02,812 : INFO : ======= NN Epoch: 7 ==========\n"
     ]
    },
    {
     "name": "stdout",
     "output_type": "stream",
     "text": [
      "****** Validation Metrics: Cov Err: 1.728, Avg Labels: 1.150, \n",
      "\t\t Top 1: 0.697, Top 3: 0.929, Top 5: 0.985, \n",
      "\t\t F1 Micro: 0.563, F1 Macro: 0.318, Total Pos: 210,201\n",
      "Epoch 1/1\n",
      "1286325/1286325 [==============================] - 19s - loss: 0.2791    "
     ]
    },
    {
     "name": "stderr",
     "output_type": "stream",
     "text": [
      "2017-01-21 17:40:22,442 : INFO : Evaluating on Training Data\n"
     ]
    },
    {
     "name": "stdout",
     "output_type": "stream",
     "text": [
      "\n",
      "CPU times: user 5.12 s, sys: 5.53 s, total: 10.6 s\n",
      "Wall time: 19.6 s\n"
     ]
    },
    {
     "name": "stderr",
     "output_type": "stream",
     "text": [
      "2017-01-21 17:40:29,653 : INFO : Generating Training Metrics\n",
      "2017-01-21 17:41:12,939 : INFO : Evaluating on Validation Data\n"
     ]
    },
    {
     "name": "stdout",
     "output_type": "stream",
     "text": [
      "** Training Metrics: Cov Err: 1.730, Avg Labels: 1.150, \n",
      "\t\t Top 1: 0.694, Top 3: 0.930, Top 5: 0.985, \n",
      "\t\t F1 Micro: 0.551, F1 Macro: 0.313, Total Pos: 811,845\n"
     ]
    },
    {
     "name": "stderr",
     "output_type": "stream",
     "text": [
      "2017-01-21 17:41:17,256 : INFO : Generating Validation Metrics\n",
      "2017-01-21 17:41:27,747 : INFO : ======= NN Epoch: 8 ==========\n"
     ]
    },
    {
     "name": "stdout",
     "output_type": "stream",
     "text": [
      "****** Validation Metrics: Cov Err: 1.721, Avg Labels: 1.150, \n",
      "\t\t Top 1: 0.699, Top 3: 0.930, Top 5: 0.985, \n",
      "\t\t F1 Micro: 0.569, F1 Macro: 0.325, Total Pos: 214,365\n",
      "Epoch 1/1\n",
      "1286325/1286325 [==============================] - 17s - loss: 0.2780    "
     ]
    },
    {
     "name": "stderr",
     "output_type": "stream",
     "text": [
      "2017-01-21 17:41:45,220 : INFO : Evaluating on Training Data\n"
     ]
    },
    {
     "name": "stdout",
     "output_type": "stream",
     "text": [
      "\n",
      "CPU times: user 4.58 s, sys: 5.43 s, total: 10 s\n",
      "Wall time: 17.5 s\n"
     ]
    },
    {
     "name": "stderr",
     "output_type": "stream",
     "text": [
      "2017-01-21 17:41:53,706 : INFO : Generating Training Metrics\n",
      "2017-01-21 17:42:36,187 : INFO : Evaluating on Validation Data\n"
     ]
    },
    {
     "name": "stdout",
     "output_type": "stream",
     "text": [
      "** Training Metrics: Cov Err: 1.715, Avg Labels: 1.150, \n",
      "\t\t Top 1: 0.702, Top 3: 0.932, Top 5: 0.985, \n",
      "\t\t F1 Micro: 0.562, F1 Macro: 0.324, Total Pos: 824,166\n"
     ]
    },
    {
     "name": "stderr",
     "output_type": "stream",
     "text": [
      "2017-01-21 17:42:40,680 : INFO : Generating Validation Metrics\n",
      "2017-01-21 17:42:50,954 : INFO : ======= NN Epoch: 9 ==========\n"
     ]
    },
    {
     "name": "stdout",
     "output_type": "stream",
     "text": [
      "****** Validation Metrics: Cov Err: 1.706, Avg Labels: 1.150, \n",
      "\t\t Top 1: 0.707, Top 3: 0.932, Top 5: 0.985, \n",
      "\t\t F1 Micro: 0.581, F1 Macro: 0.337, Total Pos: 218,218\n",
      "Epoch 1/1\n",
      "1286325/1286325 [==============================] - 16s - loss: 0.2771    "
     ]
    },
    {
     "name": "stderr",
     "output_type": "stream",
     "text": [
      "2017-01-21 17:43:07,314 : INFO : Evaluating on Training Data\n"
     ]
    },
    {
     "name": "stdout",
     "output_type": "stream",
     "text": [
      "\n",
      "CPU times: user 4.25 s, sys: 5.49 s, total: 9.74 s\n",
      "Wall time: 16.4 s\n"
     ]
    },
    {
     "name": "stderr",
     "output_type": "stream",
     "text": [
      "2017-01-21 17:43:15,820 : INFO : Generating Training Metrics\n",
      "2017-01-21 17:43:57,018 : INFO : Evaluating on Validation Data\n"
     ]
    },
    {
     "name": "stdout",
     "output_type": "stream",
     "text": [
      "** Training Metrics: Cov Err: 1.714, Avg Labels: 1.150, \n",
      "\t\t Top 1: 0.703, Top 3: 0.932, Top 5: 0.985, \n",
      "\t\t F1 Micro: 0.556, F1 Macro: 0.322, Total Pos: 800,449\n"
     ]
    },
    {
     "name": "stderr",
     "output_type": "stream",
     "text": [
      "2017-01-21 17:44:01,288 : INFO : Generating Validation Metrics\n",
      "2017-01-21 17:44:11,302 : INFO : ======= NN Epoch: 10 ==========\n"
     ]
    },
    {
     "name": "stdout",
     "output_type": "stream",
     "text": [
      "****** Validation Metrics: Cov Err: 1.704, Avg Labels: 1.150, \n",
      "\t\t Top 1: 0.708, Top 3: 0.932, Top 5: 0.985, \n",
      "\t\t F1 Micro: 0.577, F1 Macro: 0.335, Total Pos: 213,125\n",
      "Epoch 1/1\n",
      "1286325/1286325 [==============================] - 18s - loss: 0.2763    \n"
     ]
    },
    {
     "name": "stderr",
     "output_type": "stream",
     "text": [
      "2017-01-21 17:44:29,639 : INFO : Evaluating on Training Data\n"
     ]
    },
    {
     "name": "stdout",
     "output_type": "stream",
     "text": [
      "CPU times: user 4.88 s, sys: 5.79 s, total: 10.7 s\n",
      "Wall time: 18.3 s\n"
     ]
    },
    {
     "name": "stderr",
     "output_type": "stream",
     "text": [
      "2017-01-21 17:44:38,401 : INFO : Generating Training Metrics\n",
      "2017-01-21 17:45:23,133 : INFO : Evaluating on Validation Data\n"
     ]
    },
    {
     "name": "stdout",
     "output_type": "stream",
     "text": [
      "** Training Metrics: Cov Err: 1.710, Avg Labels: 1.150, \n",
      "\t\t Top 1: 0.705, Top 3: 0.932, Top 5: 0.985, \n",
      "\t\t F1 Micro: 0.559, F1 Macro: 0.327, Total Pos: 800,752\n"
     ]
    },
    {
     "name": "stderr",
     "output_type": "stream",
     "text": [
      "2017-01-21 17:45:28,101 : INFO : Generating Validation Metrics\n",
      "2017-01-21 17:45:39,646 : INFO : ======= NN Epoch: 11 ==========\n"
     ]
    },
    {
     "name": "stdout",
     "output_type": "stream",
     "text": [
      "****** Validation Metrics: Cov Err: 1.698, Avg Labels: 1.150, \n",
      "\t\t Top 1: 0.711, Top 3: 0.933, Top 5: 0.985, \n",
      "\t\t F1 Micro: 0.582, F1 Macro: 0.343, Total Pos: 214,314\n",
      "Epoch 1/1\n",
      "1286325/1286325 [==============================] - 16s - loss: 0.2755    "
     ]
    },
    {
     "name": "stderr",
     "output_type": "stream",
     "text": [
      "2017-01-21 17:45:56,546 : INFO : Evaluating on Training Data\n"
     ]
    },
    {
     "name": "stdout",
     "output_type": "stream",
     "text": [
      "\n",
      "CPU times: user 4.87 s, sys: 5.48 s, total: 10.3 s\n",
      "Wall time: 16.9 s\n"
     ]
    },
    {
     "name": "stderr",
     "output_type": "stream",
     "text": [
      "2017-01-21 17:46:05,343 : INFO : Generating Training Metrics\n",
      "2017-01-21 17:46:47,414 : INFO : Evaluating on Validation Data\n"
     ]
    },
    {
     "name": "stdout",
     "output_type": "stream",
     "text": [
      "** Training Metrics: Cov Err: 1.705, Avg Labels: 1.150, \n",
      "\t\t Top 1: 0.707, Top 3: 0.933, Top 5: 0.985, \n",
      "\t\t F1 Micro: 0.555, F1 Macro: 0.328, Total Pos: 788,572\n"
     ]
    },
    {
     "name": "stderr",
     "output_type": "stream",
     "text": [
      "2017-01-21 17:46:51,876 : INFO : Generating Validation Metrics\n",
      "2017-01-21 17:47:02,555 : INFO : ======= NN Epoch: 12 ==========\n"
     ]
    },
    {
     "name": "stdout",
     "output_type": "stream",
     "text": [
      "****** Validation Metrics: Cov Err: 1.693, Avg Labels: 1.150, \n",
      "\t\t Top 1: 0.713, Top 3: 0.934, Top 5: 0.986, \n",
      "\t\t F1 Micro: 0.580, F1 Macro: 0.345, Total Pos: 212,121\n",
      "Epoch 1/1\n",
      "1286325/1286325 [==============================] - 17s - loss: 0.2748    "
     ]
    },
    {
     "name": "stderr",
     "output_type": "stream",
     "text": [
      "2017-01-21 17:47:20,432 : INFO : Evaluating on Training Data\n"
     ]
    },
    {
     "name": "stdout",
     "output_type": "stream",
     "text": [
      "\n",
      "CPU times: user 4.74 s, sys: 5.58 s, total: 10.3 s\n",
      "Wall time: 17.9 s\n"
     ]
    },
    {
     "name": "stderr",
     "output_type": "stream",
     "text": [
      "2017-01-21 17:47:28,947 : INFO : Generating Training Metrics\n",
      "2017-01-21 17:48:11,808 : INFO : Evaluating on Validation Data\n"
     ]
    },
    {
     "name": "stdout",
     "output_type": "stream",
     "text": [
      "** Training Metrics: Cov Err: 1.716, Avg Labels: 1.150, \n",
      "\t\t Top 1: 0.703, Top 3: 0.931, Top 5: 0.984, \n",
      "\t\t F1 Micro: 0.567, F1 Macro: 0.333, Total Pos: 832,856\n"
     ]
    },
    {
     "name": "stderr",
     "output_type": "stream",
     "text": [
      "2017-01-21 17:48:16,460 : INFO : Generating Validation Metrics\n",
      "2017-01-21 17:48:26,215 : INFO : ======= NN Epoch: 13 ==========\n"
     ]
    },
    {
     "name": "stdout",
     "output_type": "stream",
     "text": [
      "****** Validation Metrics: Cov Err: 1.703, Avg Labels: 1.150, \n",
      "\t\t Top 1: 0.709, Top 3: 0.933, Top 5: 0.985, \n",
      "\t\t F1 Micro: 0.591, F1 Macro: 0.349, Total Pos: 222,425\n",
      "Epoch 1/1\n",
      "1286325/1286325 [==============================] - 15s - loss: 0.2742    "
     ]
    },
    {
     "name": "stderr",
     "output_type": "stream",
     "text": [
      "2017-01-21 17:48:42,203 : INFO : Evaluating on Training Data\n"
     ]
    },
    {
     "name": "stdout",
     "output_type": "stream",
     "text": [
      "\n",
      "CPU times: user 3.86 s, sys: 5.35 s, total: 9.21 s\n",
      "Wall time: 16 s\n"
     ]
    },
    {
     "name": "stderr",
     "output_type": "stream",
     "text": [
      "2017-01-21 17:48:49,241 : INFO : Generating Training Metrics\n",
      "2017-01-21 17:49:31,745 : INFO : Evaluating on Validation Data\n"
     ]
    },
    {
     "name": "stdout",
     "output_type": "stream",
     "text": [
      "** Training Metrics: Cov Err: 1.701, Avg Labels: 1.150, \n",
      "\t\t Top 1: 0.708, Top 3: 0.934, Top 5: 0.985, \n",
      "\t\t F1 Micro: 0.550, F1 Macro: 0.326, Total Pos: 766,626\n"
     ]
    },
    {
     "name": "stderr",
     "output_type": "stream",
     "text": [
      "2017-01-21 17:49:36,289 : INFO : Generating Validation Metrics\n",
      "2017-01-21 17:49:46,862 : INFO : ======= NN Epoch: 14 ==========\n"
     ]
    },
    {
     "name": "stdout",
     "output_type": "stream",
     "text": [
      "****** Validation Metrics: Cov Err: 1.686, Avg Labels: 1.150, \n",
      "\t\t Top 1: 0.716, Top 3: 0.935, Top 5: 0.986, \n",
      "\t\t F1 Micro: 0.578, F1 Macro: 0.344, Total Pos: 207,480\n",
      "Epoch 1/1\n",
      "1286325/1286325 [==============================] - 17s - loss: 0.2737    "
     ]
    },
    {
     "name": "stderr",
     "output_type": "stream",
     "text": [
      "2017-01-21 17:50:04,303 : INFO : Evaluating on Training Data\n"
     ]
    },
    {
     "name": "stdout",
     "output_type": "stream",
     "text": [
      "\n",
      "CPU times: user 4.76 s, sys: 5.14 s, total: 9.9 s\n",
      "Wall time: 17.4 s\n"
     ]
    },
    {
     "name": "stderr",
     "output_type": "stream",
     "text": [
      "2017-01-21 17:50:11,638 : INFO : Generating Training Metrics\n",
      "2017-01-21 17:50:55,153 : INFO : Evaluating on Validation Data\n"
     ]
    },
    {
     "name": "stdout",
     "output_type": "stream",
     "text": [
      "** Training Metrics: Cov Err: 1.711, Avg Labels: 1.150, \n",
      "\t\t Top 1: 0.706, Top 3: 0.933, Top 5: 0.984, \n",
      "\t\t F1 Micro: 0.569, F1 Macro: 0.334, Total Pos: 826,173\n"
     ]
    },
    {
     "name": "stderr",
     "output_type": "stream",
     "text": [
      "2017-01-21 17:50:59,698 : INFO : Generating Validation Metrics\n",
      "2017-01-21 17:51:09,774 : INFO : ======= NN Epoch: 15 ==========\n"
     ]
    },
    {
     "name": "stdout",
     "output_type": "stream",
     "text": [
      "****** Validation Metrics: Cov Err: 1.695, Avg Labels: 1.150, \n",
      "\t\t Top 1: 0.713, Top 3: 0.934, Top 5: 0.985, \n",
      "\t\t F1 Micro: 0.593, F1 Macro: 0.351, Total Pos: 221,387\n",
      "Epoch 1/1\n",
      "1286325/1286325 [==============================] - 16s - loss: 0.2733    "
     ]
    },
    {
     "name": "stderr",
     "output_type": "stream",
     "text": [
      "2017-01-21 17:51:26,335 : INFO : Evaluating on Training Data\n"
     ]
    },
    {
     "name": "stdout",
     "output_type": "stream",
     "text": [
      "\n",
      "CPU times: user 4.6 s, sys: 5.43 s, total: 10 s\n",
      "Wall time: 16.6 s\n"
     ]
    },
    {
     "name": "stderr",
     "output_type": "stream",
     "text": [
      "2017-01-21 17:51:34,815 : INFO : Generating Training Metrics\n",
      "2017-01-21 17:52:17,131 : INFO : Evaluating on Validation Data\n"
     ]
    },
    {
     "name": "stdout",
     "output_type": "stream",
     "text": [
      "** Training Metrics: Cov Err: 1.706, Avg Labels: 1.150, \n",
      "\t\t Top 1: 0.707, Top 3: 0.933, Top 5: 0.984, \n",
      "\t\t F1 Micro: 0.557, F1 Macro: 0.332, Total Pos: 790,359\n"
     ]
    },
    {
     "name": "stderr",
     "output_type": "stream",
     "text": [
      "2017-01-21 17:52:21,713 : INFO : Generating Validation Metrics\n"
     ]
    },
    {
     "name": "stdout",
     "output_type": "stream",
     "text": [
      "****** Validation Metrics: Cov Err: 1.690, Avg Labels: 1.150, \n",
      "\t\t Top 1: 0.714, Top 3: 0.935, Top 5: 0.985, \n",
      "\t\t F1 Micro: 0.584, F1 Macro: 0.349, Total Pos: 212,893\n",
      "===================================================================================\n",
      "========== 1st Layer Size: 200, 1st Layer Activation: sigmoid, \n",
      " 2nd Layer Size: 50, 2nd Layer Activation: softmax, \n",
      "Input Dropout: False, Hidden Dropout: False==========================\n",
      "____________________________________________________________________________________________________\n",
      "Layer (type)                     Output Shape          Param #     Connected to                     \n",
      "====================================================================================================\n",
      "doc_input (InputLayer)           (None, 100)           0                                            \n",
      "____________________________________________________________________________________________________\n",
      "hidden_layer_sigmoid (Dense)     (None, 200)           20200       doc_input[0][0]                  \n",
      "____________________________________________________________________________________________________\n",
      "hidden_layer2_softmax (Dense)    (None, 50)            10050       hidden_layer_sigmoid[0][0]       \n",
      "____________________________________________________________________________________________________\n",
      "softmax_output (Dense)           (None, 8)             408         hidden_layer2_softmax[0][0]      \n",
      "====================================================================================================\n"
     ]
    },
    {
     "name": "stderr",
     "output_type": "stream",
     "text": [
      "2017-01-21 17:52:32,718 : INFO : ======= NN Epoch: 1 ==========\n"
     ]
    },
    {
     "name": "stdout",
     "output_type": "stream",
     "text": [
      "Total params: 30658\n",
      "____________________________________________________________________________________________________\n",
      "Epoch 1/1\n",
      "1286325/1286325 [==============================] - 24s - loss: 0.4962    "
     ]
    },
    {
     "name": "stderr",
     "output_type": "stream",
     "text": [
      "2017-01-21 17:53:01,808 : INFO : Evaluating on Training Data\n"
     ]
    },
    {
     "name": "stdout",
     "output_type": "stream",
     "text": [
      "\n",
      "CPU times: user 7.34 s, sys: 8.28 s, total: 15.6 s\n",
      "Wall time: 29.1 s\n"
     ]
    },
    {
     "name": "stderr",
     "output_type": "stream",
     "text": [
      "2017-01-21 17:53:08,745 : INFO : Generating Training Metrics\n",
      "2017-01-21 17:53:47,731 : INFO : Evaluating on Validation Data\n"
     ]
    },
    {
     "name": "stdout",
     "output_type": "stream",
     "text": [
      "** Training Metrics: Cov Err: 2.924, Avg Labels: 1.150, \n",
      "\t\t Top 1: 0.462, Top 3: 0.682, Top 5: 0.854, \n",
      "\t\t F1 Micro: 0.257, F1 Macro: 0.075, Total Pos: 296,679\n"
     ]
    },
    {
     "name": "stderr",
     "output_type": "stream",
     "text": [
      "2017-01-21 17:53:51,814 : INFO : Generating Validation Metrics\n",
      "2017-01-21 17:54:02,478 : INFO : ======= NN Epoch: 2 ==========\n"
     ]
    },
    {
     "name": "stdout",
     "output_type": "stream",
     "text": [
      "****** Validation Metrics: Cov Err: 2.968, Avg Labels: 1.150, \n",
      "\t\t Top 1: 0.460, Top 3: 0.668, Top 5: 0.849, \n",
      "\t\t F1 Micro: 0.294, F1 Macro: 0.083, Total Pos: 89,853\n",
      "Epoch 1/1\n",
      "1286325/1286325 [==============================] - 25s - loss: 0.3543    "
     ]
    },
    {
     "name": "stderr",
     "output_type": "stream",
     "text": [
      "2017-01-21 17:54:28,243 : INFO : Evaluating on Training Data\n"
     ]
    },
    {
     "name": "stdout",
     "output_type": "stream",
     "text": [
      "\n",
      "CPU times: user 6.13 s, sys: 7.97 s, total: 14.1 s\n",
      "Wall time: 25.8 s\n"
     ]
    },
    {
     "name": "stderr",
     "output_type": "stream",
     "text": [
      "2017-01-21 17:54:34,916 : INFO : Generating Training Metrics\n",
      "2017-01-21 17:55:17,023 : INFO : Evaluating on Validation Data\n"
     ]
    },
    {
     "name": "stdout",
     "output_type": "stream",
     "text": [
      "** Training Metrics: Cov Err: 2.604, Avg Labels: 1.150, \n",
      "\t\t Top 1: 0.461, Top 3: 0.771, Top 5: 0.914, \n",
      "\t\t F1 Micro: 0.351, F1 Macro: 0.090, Total Pos: 502,666\n"
     ]
    },
    {
     "name": "stderr",
     "output_type": "stream",
     "text": [
      "2017-01-21 17:55:20,988 : INFO : Generating Validation Metrics\n",
      "2017-01-21 17:55:31,110 : INFO : ======= NN Epoch: 3 ==========\n"
     ]
    },
    {
     "name": "stdout",
     "output_type": "stream",
     "text": [
      "****** Validation Metrics: Cov Err: 2.605, Avg Labels: 1.150, \n",
      "\t\t Top 1: 0.456, Top 3: 0.774, Top 5: 0.914, \n",
      "\t\t F1 Micro: 0.366, F1 Macro: 0.091, Total Pos: 139,655\n",
      "Epoch 1/1\n",
      "1286325/1286325 [==============================] - 25s - loss: 0.3115    "
     ]
    },
    {
     "name": "stderr",
     "output_type": "stream",
     "text": [
      "2017-01-21 17:55:56,478 : INFO : Evaluating on Training Data\n"
     ]
    },
    {
     "name": "stdout",
     "output_type": "stream",
     "text": [
      "\n",
      "CPU times: user 6.08 s, sys: 7.94 s, total: 14 s\n",
      "Wall time: 25.4 s\n"
     ]
    },
    {
     "name": "stderr",
     "output_type": "stream",
     "text": [
      "2017-01-21 17:56:01,779 : INFO : Generating Training Metrics\n",
      "2017-01-21 17:56:43,691 : INFO : Evaluating on Validation Data\n"
     ]
    },
    {
     "name": "stdout",
     "output_type": "stream",
     "text": [
      "** Training Metrics: Cov Err: 2.384, Avg Labels: 1.150, \n",
      "\t\t Top 1: 0.469, Top 3: 0.825, Top 5: 0.936, \n",
      "\t\t F1 Micro: 0.359, F1 Macro: 0.085, Total Pos: 689,299\n"
     ]
    },
    {
     "name": "stderr",
     "output_type": "stream",
     "text": [
      "2017-01-21 17:56:47,718 : INFO : Generating Validation Metrics\n",
      "2017-01-21 17:56:57,644 : INFO : ======= NN Epoch: 4 ==========\n"
     ]
    },
    {
     "name": "stdout",
     "output_type": "stream",
     "text": [
      "****** Validation Metrics: Cov Err: 2.384, Avg Labels: 1.150, \n",
      "\t\t Top 1: 0.470, Top 3: 0.825, Top 5: 0.936, \n",
      "\t\t F1 Micro: 0.365, F1 Macro: 0.085, Total Pos: 180,463\n",
      "Epoch 1/1\n",
      "1286325/1286325 [==============================] - 24s - loss: 0.2945    "
     ]
    },
    {
     "name": "stderr",
     "output_type": "stream",
     "text": [
      "2017-01-21 17:57:21,758 : INFO : Evaluating on Training Data\n"
     ]
    },
    {
     "name": "stdout",
     "output_type": "stream",
     "text": [
      "\n",
      "CPU times: user 5.86 s, sys: 8.17 s, total: 14 s\n",
      "Wall time: 24.1 s\n"
     ]
    },
    {
     "name": "stderr",
     "output_type": "stream",
     "text": [
      "2017-01-21 17:57:28,522 : INFO : Generating Training Metrics\n",
      "2017-01-21 17:58:07,895 : INFO : Evaluating on Validation Data\n"
     ]
    },
    {
     "name": "stdout",
     "output_type": "stream",
     "text": [
      "** Training Metrics: Cov Err: 2.350, Avg Labels: 1.150, \n",
      "\t\t Top 1: 0.465, Top 3: 0.834, Top 5: 0.934, \n",
      "\t\t F1 Micro: 0.313, F1 Macro: 0.079, Total Pos: 535,106\n"
     ]
    },
    {
     "name": "stderr",
     "output_type": "stream",
     "text": [
      "2017-01-21 17:58:11,561 : INFO : Generating Validation Metrics\n",
      "2017-01-21 17:58:21,153 : INFO : ======= NN Epoch: 5 ==========\n"
     ]
    },
    {
     "name": "stdout",
     "output_type": "stream",
     "text": [
      "****** Validation Metrics: Cov Err: 2.331, Avg Labels: 1.150, \n",
      "\t\t Top 1: 0.469, Top 3: 0.842, Top 5: 0.935, \n",
      "\t\t F1 Micro: 0.330, F1 Macro: 0.081, Total Pos: 147,031\n",
      "Epoch 1/1\n",
      "1286325/1286325 [==============================] - 26s - loss: 0.2883    "
     ]
    },
    {
     "name": "stderr",
     "output_type": "stream",
     "text": [
      "2017-01-21 17:58:47,608 : INFO : Evaluating on Training Data\n"
     ]
    },
    {
     "name": "stdout",
     "output_type": "stream",
     "text": [
      "\n",
      "CPU times: user 6.12 s, sys: 8.2 s, total: 14.3 s\n",
      "Wall time: 26.5 s\n"
     ]
    },
    {
     "name": "stderr",
     "output_type": "stream",
     "text": [
      "2017-01-21 17:58:54,292 : INFO : Generating Training Metrics\n",
      "2017-01-21 17:59:38,474 : INFO : Evaluating on Validation Data\n"
     ]
    },
    {
     "name": "stdout",
     "output_type": "stream",
     "text": [
      "** Training Metrics: Cov Err: 2.294, Avg Labels: 1.150, \n",
      "\t\t Top 1: 0.471, Top 3: 0.845, Top 5: 0.945, \n",
      "\t\t F1 Micro: 0.376, F1 Macro: 0.126, Total Pos: 786,510\n"
     ]
    },
    {
     "name": "stderr",
     "output_type": "stream",
     "text": [
      "2017-01-21 17:59:42,459 : INFO : Generating Validation Metrics\n",
      "2017-01-21 17:59:52,959 : INFO : ======= NN Epoch: 6 ==========\n"
     ]
    },
    {
     "name": "stdout",
     "output_type": "stream",
     "text": [
      "****** Validation Metrics: Cov Err: 2.279, Avg Labels: 1.150, \n",
      "\t\t Top 1: 0.475, Top 3: 0.851, Top 5: 0.946, \n",
      "\t\t F1 Micro: 0.414, F1 Macro: 0.137, Total Pos: 232,528\n",
      "Epoch 1/1\n",
      "1286325/1286325 [==============================] - 25s - loss: 0.2845    "
     ]
    },
    {
     "name": "stderr",
     "output_type": "stream",
     "text": [
      "2017-01-21 18:00:18,812 : INFO : Evaluating on Training Data\n"
     ]
    },
    {
     "name": "stdout",
     "output_type": "stream",
     "text": [
      "\n",
      "CPU times: user 5.86 s, sys: 8.3 s, total: 14.2 s\n",
      "Wall time: 25.9 s\n"
     ]
    },
    {
     "name": "stderr",
     "output_type": "stream",
     "text": [
      "2017-01-21 18:00:25,481 : INFO : Generating Training Metrics\n",
      "2017-01-21 18:01:08,216 : INFO : Evaluating on Validation Data\n"
     ]
    },
    {
     "name": "stdout",
     "output_type": "stream",
     "text": [
      "** Training Metrics: Cov Err: 2.237, Avg Labels: 1.150, \n",
      "\t\t Top 1: 0.498, Top 3: 0.859, Top 5: 0.946, \n",
      "\t\t F1 Micro: 0.446, F1 Macro: 0.170, Total Pos: 1,031,128\n"
     ]
    },
    {
     "name": "stderr",
     "output_type": "stream",
     "text": [
      "2017-01-21 18:01:12,097 : INFO : Generating Validation Metrics\n",
      "2017-01-21 18:01:22,544 : INFO : ======= NN Epoch: 7 ==========\n"
     ]
    },
    {
     "name": "stdout",
     "output_type": "stream",
     "text": [
      "****** Validation Metrics: Cov Err: 2.240, Avg Labels: 1.150, \n",
      "\t\t Top 1: 0.497, Top 3: 0.860, Top 5: 0.946, \n",
      "\t\t F1 Micro: 0.468, F1 Macro: 0.175, Total Pos: 283,051\n",
      "Epoch 1/1\n",
      "1286325/1286325 [==============================] - 23s - loss: 0.2823    "
     ]
    },
    {
     "name": "stderr",
     "output_type": "stream",
     "text": [
      "2017-01-21 18:01:46,148 : INFO : Evaluating on Training Data\n"
     ]
    },
    {
     "name": "stdout",
     "output_type": "stream",
     "text": [
      "\n",
      "CPU times: user 5.73 s, sys: 8.03 s, total: 13.8 s\n",
      "Wall time: 23.6 s\n"
     ]
    },
    {
     "name": "stderr",
     "output_type": "stream",
     "text": [
      "2017-01-21 18:01:52,770 : INFO : Generating Training Metrics\n",
      "2017-01-21 18:02:33,090 : INFO : Evaluating on Validation Data\n"
     ]
    },
    {
     "name": "stdout",
     "output_type": "stream",
     "text": [
      "** Training Metrics: Cov Err: 2.205, Avg Labels: 1.150, \n",
      "\t\t Top 1: 0.506, Top 3: 0.860, Top 5: 0.949, \n",
      "\t\t F1 Micro: 0.456, F1 Macro: 0.201, Total Pos: 1,020,331\n"
     ]
    },
    {
     "name": "stderr",
     "output_type": "stream",
     "text": [
      "2017-01-21 18:02:36,811 : INFO : Generating Validation Metrics\n",
      "2017-01-21 18:02:47,498 : INFO : ======= NN Epoch: 8 ==========\n"
     ]
    },
    {
     "name": "stdout",
     "output_type": "stream",
     "text": [
      "****** Validation Metrics: Cov Err: 2.201, Avg Labels: 1.150, \n",
      "\t\t Top 1: 0.507, Top 3: 0.862, Top 5: 0.950, \n",
      "\t\t F1 Micro: 0.476, F1 Macro: 0.207, Total Pos: 277,101\n",
      "Epoch 1/1\n",
      "1286325/1286325 [==============================] - 25s - loss: 0.2809    "
     ]
    },
    {
     "name": "stderr",
     "output_type": "stream",
     "text": [
      "2017-01-21 18:03:12,692 : INFO : Evaluating on Training Data\n"
     ]
    },
    {
     "name": "stdout",
     "output_type": "stream",
     "text": [
      "\n",
      "CPU times: user 6.31 s, sys: 7.79 s, total: 14.1 s\n",
      "Wall time: 25.2 s\n"
     ]
    },
    {
     "name": "stderr",
     "output_type": "stream",
     "text": [
      "2017-01-21 18:03:20,648 : INFO : Generating Training Metrics\n",
      "2017-01-21 18:04:04,863 : INFO : Evaluating on Validation Data\n"
     ]
    },
    {
     "name": "stdout",
     "output_type": "stream",
     "text": [
      "** Training Metrics: Cov Err: 2.204, Avg Labels: 1.150, \n",
      "\t\t Top 1: 0.512, Top 3: 0.863, Top 5: 0.948, \n",
      "\t\t F1 Micro: 0.489, F1 Macro: 0.212, Total Pos: 1,158,276\n"
     ]
    },
    {
     "name": "stderr",
     "output_type": "stream",
     "text": [
      "2017-01-21 18:04:08,991 : INFO : Generating Validation Metrics\n",
      "2017-01-21 18:04:19,519 : INFO : ======= NN Epoch: 9 ==========\n"
     ]
    },
    {
     "name": "stdout",
     "output_type": "stream",
     "text": [
      "****** Validation Metrics: Cov Err: 2.207, Avg Labels: 1.150, \n",
      "\t\t Top 1: 0.511, Top 3: 0.863, Top 5: 0.948, \n",
      "\t\t F1 Micro: 0.502, F1 Macro: 0.216, Total Pos: 305,392\n",
      "Epoch 1/1\n",
      "1286325/1286325 [==============================] - 25s - loss: 0.2798    "
     ]
    },
    {
     "name": "stderr",
     "output_type": "stream",
     "text": [
      "2017-01-21 18:04:45,447 : INFO : Evaluating on Training Data\n"
     ]
    },
    {
     "name": "stdout",
     "output_type": "stream",
     "text": [
      "\n",
      "CPU times: user 6.1 s, sys: 8.05 s, total: 14.2 s\n",
      "Wall time: 25.9 s\n"
     ]
    },
    {
     "name": "stderr",
     "output_type": "stream",
     "text": [
      "2017-01-21 18:04:51,825 : INFO : Generating Training Metrics\n",
      "2017-01-21 18:05:34,207 : INFO : Evaluating on Validation Data\n"
     ]
    },
    {
     "name": "stdout",
     "output_type": "stream",
     "text": [
      "** Training Metrics: Cov Err: 2.190, Avg Labels: 1.150, \n",
      "\t\t Top 1: 0.512, Top 3: 0.864, Top 5: 0.950, \n",
      "\t\t F1 Micro: 0.482, F1 Macro: 0.218, Total Pos: 1,113,545\n"
     ]
    },
    {
     "name": "stderr",
     "output_type": "stream",
     "text": [
      "2017-01-21 18:05:38,223 : INFO : Generating Validation Metrics\n",
      "2017-01-21 18:05:48,217 : INFO : ======= NN Epoch: 10 ==========\n"
     ]
    },
    {
     "name": "stdout",
     "output_type": "stream",
     "text": [
      "****** Validation Metrics: Cov Err: 2.187, Avg Labels: 1.150, \n",
      "\t\t Top 1: 0.513, Top 3: 0.866, Top 5: 0.951, \n",
      "\t\t F1 Micro: 0.497, F1 Macro: 0.223, Total Pos: 295,420\n",
      "Epoch 1/1\n",
      "1286325/1286325 [==============================] - 24s - loss: 0.2790    "
     ]
    },
    {
     "name": "stderr",
     "output_type": "stream",
     "text": [
      "2017-01-21 18:06:12,571 : INFO : Evaluating on Training Data\n"
     ]
    },
    {
     "name": "stdout",
     "output_type": "stream",
     "text": [
      "\n",
      "CPU times: user 5.62 s, sys: 8.04 s, total: 13.7 s\n",
      "Wall time: 24.4 s\n"
     ]
    },
    {
     "name": "stderr",
     "output_type": "stream",
     "text": [
      "2017-01-21 18:06:19,003 : INFO : Generating Training Metrics\n",
      "2017-01-21 18:07:00,845 : INFO : Evaluating on Validation Data\n"
     ]
    },
    {
     "name": "stdout",
     "output_type": "stream",
     "text": [
      "** Training Metrics: Cov Err: 2.180, Avg Labels: 1.150, \n",
      "\t\t Top 1: 0.519, Top 3: 0.866, Top 5: 0.952, \n",
      "\t\t F1 Micro: 0.493, F1 Macro: 0.219, Total Pos: 1,166,391\n"
     ]
    },
    {
     "name": "stderr",
     "output_type": "stream",
     "text": [
      "2017-01-21 18:07:04,615 : INFO : Generating Validation Metrics\n",
      "2017-01-21 18:07:12,903 : INFO : ======= NN Epoch: 11 ==========\n"
     ]
    },
    {
     "name": "stdout",
     "output_type": "stream",
     "text": [
      "****** Validation Metrics: Cov Err: 2.181, Avg Labels: 1.150, \n",
      "\t\t Top 1: 0.519, Top 3: 0.867, Top 5: 0.952, \n",
      "\t\t F1 Micro: 0.503, F1 Macro: 0.224, Total Pos: 302,467\n",
      "Epoch 1/1\n",
      "1286325/1286325 [==============================] - 23s - loss: 0.2783    \n",
      "CPU times: user 5.84 s, sys: 7.98 s, total: 13.8 s\n"
     ]
    },
    {
     "name": "stderr",
     "output_type": "stream",
     "text": [
      "2017-01-21 18:07:36,859 : INFO : Evaluating on Training Data\n"
     ]
    },
    {
     "name": "stdout",
     "output_type": "stream",
     "text": [
      "Wall time: 24 s\n"
     ]
    },
    {
     "name": "stderr",
     "output_type": "stream",
     "text": [
      "2017-01-21 18:07:43,526 : INFO : Generating Training Metrics\n",
      "2017-01-21 18:08:25,730 : INFO : Evaluating on Validation Data\n"
     ]
    },
    {
     "name": "stdout",
     "output_type": "stream",
     "text": [
      "** Training Metrics: Cov Err: 2.174, Avg Labels: 1.150, \n",
      "\t\t Top 1: 0.520, Top 3: 0.866, Top 5: 0.952, \n",
      "\t\t F1 Micro: 0.486, F1 Macro: 0.221, Total Pos: 1,118,337\n"
     ]
    },
    {
     "name": "stderr",
     "output_type": "stream",
     "text": [
      "2017-01-21 18:08:29,633 : INFO : Generating Validation Metrics\n",
      "2017-01-21 18:08:40,082 : INFO : ======= NN Epoch: 12 ==========\n"
     ]
    },
    {
     "name": "stdout",
     "output_type": "stream",
     "text": [
      "****** Validation Metrics: Cov Err: 2.173, Avg Labels: 1.150, \n",
      "\t\t Top 1: 0.520, Top 3: 0.867, Top 5: 0.952, \n",
      "\t\t F1 Micro: 0.500, F1 Macro: 0.226, Total Pos: 294,120\n",
      "Epoch 1/1\n",
      "1286325/1286325 [==============================] - 25s - loss: 0.2775    "
     ]
    },
    {
     "name": "stderr",
     "output_type": "stream",
     "text": [
      "2017-01-21 18:09:05,386 : INFO : Evaluating on Training Data\n"
     ]
    },
    {
     "name": "stdout",
     "output_type": "stream",
     "text": [
      "\n",
      "CPU times: user 6.43 s, sys: 7.72 s, total: 14.2 s\n",
      "Wall time: 25.3 s\n"
     ]
    },
    {
     "name": "stderr",
     "output_type": "stream",
     "text": [
      "2017-01-21 18:09:12,420 : INFO : Generating Training Metrics\n",
      "2017-01-21 18:09:55,084 : INFO : Evaluating on Validation Data\n"
     ]
    },
    {
     "name": "stdout",
     "output_type": "stream",
     "text": [
      "** Training Metrics: Cov Err: 2.115, Avg Labels: 1.150, \n",
      "\t\t Top 1: 0.547, Top 3: 0.871, Top 5: 0.955, \n",
      "\t\t F1 Micro: 0.476, F1 Macro: 0.222, Total Pos: 1,041,738\n"
     ]
    },
    {
     "name": "stderr",
     "output_type": "stream",
     "text": [
      "2017-01-21 18:09:59,027 : INFO : Generating Validation Metrics\n",
      "2017-01-21 18:10:09,854 : INFO : ======= NN Epoch: 13 ==========\n"
     ]
    },
    {
     "name": "stdout",
     "output_type": "stream",
     "text": [
      "****** Validation Metrics: Cov Err: 2.111, Avg Labels: 1.150, \n",
      "\t\t Top 1: 0.549, Top 3: 0.873, Top 5: 0.954, \n",
      "\t\t F1 Micro: 0.488, F1 Macro: 0.224, Total Pos: 270,919\n",
      "Epoch 1/1\n",
      "1286325/1286325 [==============================] - 24s - loss: 0.2659    "
     ]
    },
    {
     "name": "stderr",
     "output_type": "stream",
     "text": [
      "2017-01-21 18:10:33,969 : INFO : Evaluating on Training Data\n"
     ]
    },
    {
     "name": "stdout",
     "output_type": "stream",
     "text": [
      "\n",
      "CPU times: user 5.38 s, sys: 7.33 s, total: 12.7 s\n",
      "Wall time: 24.1 s\n"
     ]
    },
    {
     "name": "stderr",
     "output_type": "stream",
     "text": [
      "2017-01-21 18:10:40,736 : INFO : Generating Training Metrics\n",
      "2017-01-21 18:11:23,004 : INFO : Evaluating on Validation Data\n"
     ]
    },
    {
     "name": "stdout",
     "output_type": "stream",
     "text": [
      "** Training Metrics: Cov Err: 1.994, Avg Labels: 1.150, \n",
      "\t\t Top 1: 0.574, Top 3: 0.899, Top 5: 0.961, \n",
      "\t\t F1 Micro: 0.507, F1 Macro: 0.282, Total Pos: 1,090,389\n"
     ]
    },
    {
     "name": "stderr",
     "output_type": "stream",
     "text": [
      "2017-01-21 18:11:26,863 : INFO : Generating Validation Metrics\n",
      "2017-01-21 18:11:37,681 : INFO : ======= NN Epoch: 14 ==========\n"
     ]
    },
    {
     "name": "stdout",
     "output_type": "stream",
     "text": [
      "****** Validation Metrics: Cov Err: 1.994, Avg Labels: 1.150, \n",
      "\t\t Top 1: 0.574, Top 3: 0.899, Top 5: 0.961, \n",
      "\t\t F1 Micro: 0.514, F1 Macro: 0.282, Total Pos: 280,406\n",
      "Epoch 1/1\n",
      "1286325/1286325 [==============================] - 23s - loss: 0.2563    "
     ]
    },
    {
     "name": "stderr",
     "output_type": "stream",
     "text": [
      "2017-01-21 18:12:00,955 : INFO : Evaluating on Training Data\n"
     ]
    },
    {
     "name": "stdout",
     "output_type": "stream",
     "text": [
      "\n",
      "CPU times: user 5.39 s, sys: 7.93 s, total: 13.3 s\n",
      "Wall time: 23.3 s\n"
     ]
    },
    {
     "name": "stderr",
     "output_type": "stream",
     "text": [
      "2017-01-21 18:12:07,674 : INFO : Generating Training Metrics\n",
      "2017-01-21 18:12:50,721 : INFO : Evaluating on Validation Data\n"
     ]
    },
    {
     "name": "stdout",
     "output_type": "stream",
     "text": [
      "** Training Metrics: Cov Err: 1.947, Avg Labels: 1.150, \n",
      "\t\t Top 1: 0.599, Top 3: 0.905, Top 5: 0.963, \n",
      "\t\t F1 Micro: 0.545, F1 Macro: 0.295, Total Pos: 1,196,706\n"
     ]
    },
    {
     "name": "stderr",
     "output_type": "stream",
     "text": [
      "2017-01-21 18:12:54,670 : INFO : Generating Validation Metrics\n",
      "2017-01-21 18:13:05,248 : INFO : ======= NN Epoch: 15 ==========\n"
     ]
    },
    {
     "name": "stdout",
     "output_type": "stream",
     "text": [
      "****** Validation Metrics: Cov Err: 1.956, Avg Labels: 1.150, \n",
      "\t\t Top 1: 0.597, Top 3: 0.903, Top 5: 0.962, \n",
      "\t\t F1 Micro: 0.550, F1 Macro: 0.294, Total Pos: 308,526\n",
      "Epoch 1/1\n",
      "1286325/1286325 [==============================] - 26s - loss: 0.2500    "
     ]
    },
    {
     "name": "stderr",
     "output_type": "stream",
     "text": [
      "2017-01-21 18:13:31,595 : INFO : Evaluating on Training Data\n"
     ]
    },
    {
     "name": "stdout",
     "output_type": "stream",
     "text": [
      "\n",
      "CPU times: user 6.1 s, sys: 8.03 s, total: 14.1 s\n",
      "Wall time: 26.3 s\n"
     ]
    },
    {
     "name": "stderr",
     "output_type": "stream",
     "text": [
      "2017-01-21 18:13:38,254 : INFO : Generating Training Metrics\n",
      "2017-01-21 18:14:22,342 : INFO : Evaluating on Validation Data\n"
     ]
    },
    {
     "name": "stdout",
     "output_type": "stream",
     "text": [
      "** Training Metrics: Cov Err: 1.896, Avg Labels: 1.150, \n",
      "\t\t Top 1: 0.638, Top 3: 0.904, Top 5: 0.962, \n",
      "\t\t F1 Micro: 0.538, F1 Macro: 0.305, Total Pos: 1,029,141\n"
     ]
    },
    {
     "name": "stderr",
     "output_type": "stream",
     "text": [
      "2017-01-21 18:14:26,249 : INFO : Generating Validation Metrics\n"
     ]
    },
    {
     "name": "stdout",
     "output_type": "stream",
     "text": [
      "****** Validation Metrics: Cov Err: 1.903, Avg Labels: 1.150, \n",
      "\t\t Top 1: 0.638, Top 3: 0.902, Top 5: 0.962, \n",
      "\t\t F1 Micro: 0.550, F1 Macro: 0.306, Total Pos: 269,690\n"
     ]
    }
   ],
   "source": [
    "for parameters in param_sampler:\n",
    "    first_hidden_layer_size = parameters['first_hidden_layer_size']\n",
    "    first_hidden_layer_activation = parameters['first_hidden_layer_activation']\n",
    "    second_hidden_layer_size = parameters['second_hidden_layer_size']\n",
    "    second_hidden_layer_activation = parameters['second_hidden_layer_activation']\n",
    "    input_dropout_do = parameters['input_dropout']\n",
    "    hidden_dropout_do = parameters['hidden_dropout']\n",
    "\n",
    "    print (\"===================================================================================\\n\" + \\\n",
    "          \"========== 1st Layer Size: {}, 1st Layer Activation: {}, \\n 2nd Layer Size: {}, 2nd Layer Activation: {}, \\n\" + \\\n",
    "          \"Input Dropout: {}, Hidden Dropout: {}\" + \\\n",
    "          \"==========================\").format(first_hidden_layer_size, first_hidden_layer_activation, \n",
    "                                                second_hidden_layer_size, second_hidden_layer_activation, \n",
    "                                                input_dropout_do, hidden_dropout_do)\n",
    "\n",
    "    doc_input = Input(shape=(DOC2VEC_SIZE,), name='doc_input')\n",
    "    if input_dropout_do:\n",
    "        hidden = Dropout(0.7)(doc_input)\n",
    "    hidden = Dense(first_hidden_layer_size, activation=first_hidden_layer_activation, \n",
    "                   name='hidden_layer_{}'.format(first_hidden_layer_activation))(doc_input if not input_dropout_do else hidden)\n",
    "    if hidden_dropout_do:\n",
    "        hidden = Dropout(0.5)(hidden)\n",
    "    if second_hidden_layer_size is not None:\n",
    "        hidden = Dense(second_hidden_layer_size, activation=second_hidden_layer_activation, \n",
    "                       name='hidden_layer2_{}'.format(second_hidden_layer_activation))(hidden)\n",
    "    softmax_output = Dense(NN_OUTPUT_NEURONS, activation='sigmoid', name='softmax_output')(hidden)\n",
    "\n",
    "    model = Model(input=doc_input, output=softmax_output)\n",
    "    model.compile(optimizer='rmsprop', loss='binary_crossentropy')\n",
    "    model.summary()\n",
    "\n",
    "    GLOBAL_VARS.NN_MODEL_NAME = 'nn_1st-size_{}_1st-acc_{}_2nd-size_{}_2nd-acc_{}_in-drop_{}_hid-drop_{}'.format(\n",
    "        first_hidden_layer_size, first_hidden_layer_activation, second_hidden_layer_size, \n",
    "        second_hidden_layer_activation, input_dropout_do, hidden_dropout_do\n",
    "    )\n",
    "    \n",
    "    for nn_epoch in range(1, NN_MAX_EPOCHS+1):\n",
    "        info('======= NN Epoch: {} =========='.format(nn_epoch)) \n",
    "        %time history = model.fit(x=X, y=y, batch_size=NN_BATCH_SIZE, nb_epoch=1, verbose=1)\n",
    "        info('Evaluating on Training Data')\n",
    "        yp = model.predict(X, batch_size=NN_BATCH_SIZE)\n",
    "        yp_binary = get_binary_0_5(yp)\n",
    "        #print yp\n",
    "        info('Generating Training Metrics')\n",
    "        training_metrics = get_metrics(y, yp, yp_binary)\n",
    "        print \"** Training Metrics: Cov Err: {:.3f}, Avg Labels: {:.3f}, \\n\\t\\t Top 1: {:.3f}, Top 3: {:.3f}, Top 5: {:.3f}, \\n\\t\\t F1 Micro: {:.3f}, F1 Macro: {:.3f}, Total Pos: {:,d}\".format(\n",
    "            training_metrics['coverage_error'], training_metrics['average_num_of_labels'], \n",
    "            training_metrics['top_1'], training_metrics['top_3'], training_metrics['top_5'], \n",
    "            training_metrics['f1_micro'],training_metrics['f1_macro'],  training_metrics['total_positive'])\n",
    "\n",
    "        info('Evaluating on Validation Data')\n",
    "        yvp = model.predict(Xv)\n",
    "        yvp_binary = get_binary_0_5(yvp)\n",
    "        #print yvp\n",
    "        info('Generating Validation Metrics')\n",
    "        validation_metrics = get_metrics(yv, yvp, yvp_binary)\n",
    "        print \"****** Validation Metrics: Cov Err: {:.3f}, Avg Labels: {:.3f}, \\n\\t\\t Top 1: {:.3f}, Top 3: {:.3f}, Top 5: {:.3f}, \\n\\t\\t F1 Micro: {:.3f}, F1 Macro: {:.3f}, Total Pos: {:,d}\".format(\n",
    "            validation_metrics['coverage_error'], validation_metrics['average_num_of_labels'], \n",
    "            validation_metrics['top_1'], validation_metrics['top_3'], validation_metrics['top_5'], \n",
    "            validation_metrics['f1_micro'], validation_metrics['f1_macro'], validation_metrics['total_positive'])\n",
    "\n"
   ]
  },
  {
   "cell_type": "code",
   "execution_count": 52,
   "metadata": {
    "collapsed": false
   },
   "outputs": [
    {
     "data": {
      "text/plain": [
       "(1286325, 100)"
      ]
     },
     "execution_count": 52,
     "metadata": {},
     "output_type": "execute_result"
    }
   ],
   "source": [
    "X.shape"
   ]
  },
  {
   "cell_type": "code",
   "execution_count": null,
   "metadata": {
    "collapsed": false
   },
   "outputs": [],
   "source": [
    "for nn_epoch in range(1, NN_MAX_EPOCHS+1):\n",
    "    %time history = model.fit(x=X, y=y, batch_size=NN_BATCH_SIZE, nb_epoch=1, verbose=0)\n",
    "    info('Evaluating on Training Data')\n",
    "    yp = model.predict(X, batch_size=NN_BATCH_SIZE)\n",
    "    yp_binary = get_binary_0_5(yp)\n",
    "    #print yp\n",
    "    info('Generating Training Metrics')\n",
    "    training_metrics = get_metrics(y, yp, yp_binary)\n",
    "    print \"** Training Metrics: Cov Err: {:.3f}, Avg Labels: {:.3f}, \\n\\t\\t Top 1: {:.3f}, Top 3: {:.3f}, Top 5: {:.3f}, \\n\\t\\t F1 Micro: {:.3f}, F1 Macro: {:.3f}, Total Pos: {:,d}\".format(\n",
    "        training_metrics['coverage_error'], training_metrics['average_num_of_labels'], \n",
    "        training_metrics['top_1'], training_metrics['top_3'], training_metrics['top_5'], \n",
    "        training_metrics['f1_micro'],training_metrics['f1_macro'],  training_metrics['total_positive'])\n",
    "\n",
    "    info('Evaluating on Validation Data')\n",
    "    yvp = model.predict(Xv)\n",
    "    yvp_binary = get_binary_0_5(yvp)\n",
    "    #print yvp\n",
    "    info('Generating Validation Metrics')\n",
    "    validation_metrics = get_metrics(yv, yvp, yvp_binary)\n",
    "    print \"****** Validation Metrics: Cov Err: {:.3f}, Avg Labels: {:.3f}, \\n\\t\\t Top 1: {:.3f}, Top 3: {:.3f}, Top 5: {:.3f}, \\n\\t\\t F1 Micro: {:.3f}, F1 Macro: {:.3f}, Total Pos: {:,d}\".format(\n",
    "        validation_metrics['coverage_error'], validation_metrics['average_num_of_labels'], \n",
    "        validation_metrics['top_1'], validation_metrics['top_3'], validation_metrics['top_5'], \n",
    "        validation_metrics['f1_micro'], validation_metrics['f1_macro'], validation_metrics['total_positive'])\n"
   ]
  },
  {
   "cell_type": "code",
   "execution_count": null,
   "metadata": {
    "collapsed": false,
    "scrolled": false
   },
   "outputs": [
    {
     "data": {
      "application/javascript": [
       "/* Put everything inside the global mpl namespace */\n",
       "window.mpl = {};\n",
       "\n",
       "mpl.get_websocket_type = function() {\n",
       "    if (typeof(WebSocket) !== 'undefined') {\n",
       "        return WebSocket;\n",
       "    } else if (typeof(MozWebSocket) !== 'undefined') {\n",
       "        return MozWebSocket;\n",
       "    } else {\n",
       "        alert('Your browser does not have WebSocket support.' +\n",
       "              'Please try Chrome, Safari or Firefox ≥ 6. ' +\n",
       "              'Firefox 4 and 5 are also supported but you ' +\n",
       "              'have to enable WebSockets in about:config.');\n",
       "    };\n",
       "}\n",
       "\n",
       "mpl.figure = function(figure_id, websocket, ondownload, parent_element) {\n",
       "    this.id = figure_id;\n",
       "\n",
       "    this.ws = websocket;\n",
       "\n",
       "    this.supports_binary = (this.ws.binaryType != undefined);\n",
       "\n",
       "    if (!this.supports_binary) {\n",
       "        var warnings = document.getElementById(\"mpl-warnings\");\n",
       "        if (warnings) {\n",
       "            warnings.style.display = 'block';\n",
       "            warnings.textContent = (\n",
       "                \"This browser does not support binary websocket messages. \" +\n",
       "                    \"Performance may be slow.\");\n",
       "        }\n",
       "    }\n",
       "\n",
       "    this.imageObj = new Image();\n",
       "\n",
       "    this.context = undefined;\n",
       "    this.message = undefined;\n",
       "    this.canvas = undefined;\n",
       "    this.rubberband_canvas = undefined;\n",
       "    this.rubberband_context = undefined;\n",
       "    this.format_dropdown = undefined;\n",
       "\n",
       "    this.image_mode = 'full';\n",
       "\n",
       "    this.root = $('<div/>');\n",
       "    this._root_extra_style(this.root)\n",
       "    this.root.attr('style', 'display: inline-block');\n",
       "\n",
       "    $(parent_element).append(this.root);\n",
       "\n",
       "    this._init_header(this);\n",
       "    this._init_canvas(this);\n",
       "    this._init_toolbar(this);\n",
       "\n",
       "    var fig = this;\n",
       "\n",
       "    this.waiting = false;\n",
       "\n",
       "    this.ws.onopen =  function () {\n",
       "            fig.send_message(\"supports_binary\", {value: fig.supports_binary});\n",
       "            fig.send_message(\"send_image_mode\", {});\n",
       "            fig.send_message(\"refresh\", {});\n",
       "        }\n",
       "\n",
       "    this.imageObj.onload = function() {\n",
       "            if (fig.image_mode == 'full') {\n",
       "                // Full images could contain transparency (where diff images\n",
       "                // almost always do), so we need to clear the canvas so that\n",
       "                // there is no ghosting.\n",
       "                fig.context.clearRect(0, 0, fig.canvas.width, fig.canvas.height);\n",
       "            }\n",
       "            fig.context.drawImage(fig.imageObj, 0, 0);\n",
       "        };\n",
       "\n",
       "    this.imageObj.onunload = function() {\n",
       "        this.ws.close();\n",
       "    }\n",
       "\n",
       "    this.ws.onmessage = this._make_on_message_function(this);\n",
       "\n",
       "    this.ondownload = ondownload;\n",
       "}\n",
       "\n",
       "mpl.figure.prototype._init_header = function() {\n",
       "    var titlebar = $(\n",
       "        '<div class=\"ui-dialog-titlebar ui-widget-header ui-corner-all ' +\n",
       "        'ui-helper-clearfix\"/>');\n",
       "    var titletext = $(\n",
       "        '<div class=\"ui-dialog-title\" style=\"width: 100%; ' +\n",
       "        'text-align: center; padding: 3px;\"/>');\n",
       "    titlebar.append(titletext)\n",
       "    this.root.append(titlebar);\n",
       "    this.header = titletext[0];\n",
       "}\n",
       "\n",
       "\n",
       "\n",
       "mpl.figure.prototype._canvas_extra_style = function(canvas_div) {\n",
       "\n",
       "}\n",
       "\n",
       "\n",
       "mpl.figure.prototype._root_extra_style = function(canvas_div) {\n",
       "\n",
       "}\n",
       "\n",
       "mpl.figure.prototype._init_canvas = function() {\n",
       "    var fig = this;\n",
       "\n",
       "    var canvas_div = $('<div/>');\n",
       "\n",
       "    canvas_div.attr('style', 'position: relative; clear: both; outline: 0');\n",
       "\n",
       "    function canvas_keyboard_event(event) {\n",
       "        return fig.key_event(event, event['data']);\n",
       "    }\n",
       "\n",
       "    canvas_div.keydown('key_press', canvas_keyboard_event);\n",
       "    canvas_div.keyup('key_release', canvas_keyboard_event);\n",
       "    this.canvas_div = canvas_div\n",
       "    this._canvas_extra_style(canvas_div)\n",
       "    this.root.append(canvas_div);\n",
       "\n",
       "    var canvas = $('<canvas/>');\n",
       "    canvas.addClass('mpl-canvas');\n",
       "    canvas.attr('style', \"left: 0; top: 0; z-index: 0; outline: 0\")\n",
       "\n",
       "    this.canvas = canvas[0];\n",
       "    this.context = canvas[0].getContext(\"2d\");\n",
       "\n",
       "    var rubberband = $('<canvas/>');\n",
       "    rubberband.attr('style', \"position: absolute; left: 0; top: 0; z-index: 1;\")\n",
       "\n",
       "    var pass_mouse_events = true;\n",
       "\n",
       "    canvas_div.resizable({\n",
       "        start: function(event, ui) {\n",
       "            pass_mouse_events = false;\n",
       "        },\n",
       "        resize: function(event, ui) {\n",
       "            fig.request_resize(ui.size.width, ui.size.height);\n",
       "        },\n",
       "        stop: function(event, ui) {\n",
       "            pass_mouse_events = true;\n",
       "            fig.request_resize(ui.size.width, ui.size.height);\n",
       "        },\n",
       "    });\n",
       "\n",
       "    function mouse_event_fn(event) {\n",
       "        if (pass_mouse_events)\n",
       "            return fig.mouse_event(event, event['data']);\n",
       "    }\n",
       "\n",
       "    rubberband.mousedown('button_press', mouse_event_fn);\n",
       "    rubberband.mouseup('button_release', mouse_event_fn);\n",
       "    // Throttle sequential mouse events to 1 every 20ms.\n",
       "    rubberband.mousemove('motion_notify', mouse_event_fn);\n",
       "\n",
       "    rubberband.mouseenter('figure_enter', mouse_event_fn);\n",
       "    rubberband.mouseleave('figure_leave', mouse_event_fn);\n",
       "\n",
       "    canvas_div.on(\"wheel\", function (event) {\n",
       "        event = event.originalEvent;\n",
       "        event['data'] = 'scroll'\n",
       "        if (event.deltaY < 0) {\n",
       "            event.step = 1;\n",
       "        } else {\n",
       "            event.step = -1;\n",
       "        }\n",
       "        mouse_event_fn(event);\n",
       "    });\n",
       "\n",
       "    canvas_div.append(canvas);\n",
       "    canvas_div.append(rubberband);\n",
       "\n",
       "    this.rubberband = rubberband;\n",
       "    this.rubberband_canvas = rubberband[0];\n",
       "    this.rubberband_context = rubberband[0].getContext(\"2d\");\n",
       "    this.rubberband_context.strokeStyle = \"#000000\";\n",
       "\n",
       "    this._resize_canvas = function(width, height) {\n",
       "        // Keep the size of the canvas, canvas container, and rubber band\n",
       "        // canvas in synch.\n",
       "        canvas_div.css('width', width)\n",
       "        canvas_div.css('height', height)\n",
       "\n",
       "        canvas.attr('width', width);\n",
       "        canvas.attr('height', height);\n",
       "\n",
       "        rubberband.attr('width', width);\n",
       "        rubberband.attr('height', height);\n",
       "    }\n",
       "\n",
       "    // Set the figure to an initial 600x600px, this will subsequently be updated\n",
       "    // upon first draw.\n",
       "    this._resize_canvas(600, 600);\n",
       "\n",
       "    // Disable right mouse context menu.\n",
       "    $(this.rubberband_canvas).bind(\"contextmenu\",function(e){\n",
       "        return false;\n",
       "    });\n",
       "\n",
       "    function set_focus () {\n",
       "        canvas.focus();\n",
       "        canvas_div.focus();\n",
       "    }\n",
       "\n",
       "    window.setTimeout(set_focus, 100);\n",
       "}\n",
       "\n",
       "mpl.figure.prototype._init_toolbar = function() {\n",
       "    var fig = this;\n",
       "\n",
       "    var nav_element = $('<div/>')\n",
       "    nav_element.attr('style', 'width: 100%');\n",
       "    this.root.append(nav_element);\n",
       "\n",
       "    // Define a callback function for later on.\n",
       "    function toolbar_event(event) {\n",
       "        return fig.toolbar_button_onclick(event['data']);\n",
       "    }\n",
       "    function toolbar_mouse_event(event) {\n",
       "        return fig.toolbar_button_onmouseover(event['data']);\n",
       "    }\n",
       "\n",
       "    for(var toolbar_ind in mpl.toolbar_items) {\n",
       "        var name = mpl.toolbar_items[toolbar_ind][0];\n",
       "        var tooltip = mpl.toolbar_items[toolbar_ind][1];\n",
       "        var image = mpl.toolbar_items[toolbar_ind][2];\n",
       "        var method_name = mpl.toolbar_items[toolbar_ind][3];\n",
       "\n",
       "        if (!name) {\n",
       "            // put a spacer in here.\n",
       "            continue;\n",
       "        }\n",
       "        var button = $('<button/>');\n",
       "        button.addClass('ui-button ui-widget ui-state-default ui-corner-all ' +\n",
       "                        'ui-button-icon-only');\n",
       "        button.attr('role', 'button');\n",
       "        button.attr('aria-disabled', 'false');\n",
       "        button.click(method_name, toolbar_event);\n",
       "        button.mouseover(tooltip, toolbar_mouse_event);\n",
       "\n",
       "        var icon_img = $('<span/>');\n",
       "        icon_img.addClass('ui-button-icon-primary ui-icon');\n",
       "        icon_img.addClass(image);\n",
       "        icon_img.addClass('ui-corner-all');\n",
       "\n",
       "        var tooltip_span = $('<span/>');\n",
       "        tooltip_span.addClass('ui-button-text');\n",
       "        tooltip_span.html(tooltip);\n",
       "\n",
       "        button.append(icon_img);\n",
       "        button.append(tooltip_span);\n",
       "\n",
       "        nav_element.append(button);\n",
       "    }\n",
       "\n",
       "    var fmt_picker_span = $('<span/>');\n",
       "\n",
       "    var fmt_picker = $('<select/>');\n",
       "    fmt_picker.addClass('mpl-toolbar-option ui-widget ui-widget-content');\n",
       "    fmt_picker_span.append(fmt_picker);\n",
       "    nav_element.append(fmt_picker_span);\n",
       "    this.format_dropdown = fmt_picker[0];\n",
       "\n",
       "    for (var ind in mpl.extensions) {\n",
       "        var fmt = mpl.extensions[ind];\n",
       "        var option = $(\n",
       "            '<option/>', {selected: fmt === mpl.default_extension}).html(fmt);\n",
       "        fmt_picker.append(option)\n",
       "    }\n",
       "\n",
       "    // Add hover states to the ui-buttons\n",
       "    $( \".ui-button\" ).hover(\n",
       "        function() { $(this).addClass(\"ui-state-hover\");},\n",
       "        function() { $(this).removeClass(\"ui-state-hover\");}\n",
       "    );\n",
       "\n",
       "    var status_bar = $('<span class=\"mpl-message\"/>');\n",
       "    nav_element.append(status_bar);\n",
       "    this.message = status_bar[0];\n",
       "}\n",
       "\n",
       "mpl.figure.prototype.request_resize = function(x_pixels, y_pixels) {\n",
       "    // Request matplotlib to resize the figure. Matplotlib will then trigger a resize in the client,\n",
       "    // which will in turn request a refresh of the image.\n",
       "    this.send_message('resize', {'width': x_pixels, 'height': y_pixels});\n",
       "}\n",
       "\n",
       "mpl.figure.prototype.send_message = function(type, properties) {\n",
       "    properties['type'] = type;\n",
       "    properties['figure_id'] = this.id;\n",
       "    this.ws.send(JSON.stringify(properties));\n",
       "}\n",
       "\n",
       "mpl.figure.prototype.send_draw_message = function() {\n",
       "    if (!this.waiting) {\n",
       "        this.waiting = true;\n",
       "        this.ws.send(JSON.stringify({type: \"draw\", figure_id: this.id}));\n",
       "    }\n",
       "}\n",
       "\n",
       "\n",
       "mpl.figure.prototype.handle_save = function(fig, msg) {\n",
       "    var format_dropdown = fig.format_dropdown;\n",
       "    var format = format_dropdown.options[format_dropdown.selectedIndex].value;\n",
       "    fig.ondownload(fig, format);\n",
       "}\n",
       "\n",
       "\n",
       "mpl.figure.prototype.handle_resize = function(fig, msg) {\n",
       "    var size = msg['size'];\n",
       "    if (size[0] != fig.canvas.width || size[1] != fig.canvas.height) {\n",
       "        fig._resize_canvas(size[0], size[1]);\n",
       "        fig.send_message(\"refresh\", {});\n",
       "    };\n",
       "}\n",
       "\n",
       "mpl.figure.prototype.handle_rubberband = function(fig, msg) {\n",
       "    var x0 = msg['x0'];\n",
       "    var y0 = fig.canvas.height - msg['y0'];\n",
       "    var x1 = msg['x1'];\n",
       "    var y1 = fig.canvas.height - msg['y1'];\n",
       "    x0 = Math.floor(x0) + 0.5;\n",
       "    y0 = Math.floor(y0) + 0.5;\n",
       "    x1 = Math.floor(x1) + 0.5;\n",
       "    y1 = Math.floor(y1) + 0.5;\n",
       "    var min_x = Math.min(x0, x1);\n",
       "    var min_y = Math.min(y0, y1);\n",
       "    var width = Math.abs(x1 - x0);\n",
       "    var height = Math.abs(y1 - y0);\n",
       "\n",
       "    fig.rubberband_context.clearRect(\n",
       "        0, 0, fig.canvas.width, fig.canvas.height);\n",
       "\n",
       "    fig.rubberband_context.strokeRect(min_x, min_y, width, height);\n",
       "}\n",
       "\n",
       "mpl.figure.prototype.handle_figure_label = function(fig, msg) {\n",
       "    // Updates the figure title.\n",
       "    fig.header.textContent = msg['label'];\n",
       "}\n",
       "\n",
       "mpl.figure.prototype.handle_cursor = function(fig, msg) {\n",
       "    var cursor = msg['cursor'];\n",
       "    switch(cursor)\n",
       "    {\n",
       "    case 0:\n",
       "        cursor = 'pointer';\n",
       "        break;\n",
       "    case 1:\n",
       "        cursor = 'default';\n",
       "        break;\n",
       "    case 2:\n",
       "        cursor = 'crosshair';\n",
       "        break;\n",
       "    case 3:\n",
       "        cursor = 'move';\n",
       "        break;\n",
       "    }\n",
       "    fig.rubberband_canvas.style.cursor = cursor;\n",
       "}\n",
       "\n",
       "mpl.figure.prototype.handle_message = function(fig, msg) {\n",
       "    fig.message.textContent = msg['message'];\n",
       "}\n",
       "\n",
       "mpl.figure.prototype.handle_draw = function(fig, msg) {\n",
       "    // Request the server to send over a new figure.\n",
       "    fig.send_draw_message();\n",
       "}\n",
       "\n",
       "mpl.figure.prototype.handle_image_mode = function(fig, msg) {\n",
       "    fig.image_mode = msg['mode'];\n",
       "}\n",
       "\n",
       "mpl.figure.prototype.updated_canvas_event = function() {\n",
       "    // Called whenever the canvas gets updated.\n",
       "    this.send_message(\"ack\", {});\n",
       "}\n",
       "\n",
       "// A function to construct a web socket function for onmessage handling.\n",
       "// Called in the figure constructor.\n",
       "mpl.figure.prototype._make_on_message_function = function(fig) {\n",
       "    return function socket_on_message(evt) {\n",
       "        if (evt.data instanceof Blob) {\n",
       "            /* FIXME: We get \"Resource interpreted as Image but\n",
       "             * transferred with MIME type text/plain:\" errors on\n",
       "             * Chrome.  But how to set the MIME type?  It doesn't seem\n",
       "             * to be part of the websocket stream */\n",
       "            evt.data.type = \"image/png\";\n",
       "\n",
       "            /* Free the memory for the previous frames */\n",
       "            if (fig.imageObj.src) {\n",
       "                (window.URL || window.webkitURL).revokeObjectURL(\n",
       "                    fig.imageObj.src);\n",
       "            }\n",
       "\n",
       "            fig.imageObj.src = (window.URL || window.webkitURL).createObjectURL(\n",
       "                evt.data);\n",
       "            fig.updated_canvas_event();\n",
       "            fig.waiting = false;\n",
       "            return;\n",
       "        }\n",
       "        else if (typeof evt.data === 'string' && evt.data.slice(0, 21) == \"data:image/png;base64\") {\n",
       "            fig.imageObj.src = evt.data;\n",
       "            fig.updated_canvas_event();\n",
       "            fig.waiting = false;\n",
       "            return;\n",
       "        }\n",
       "\n",
       "        var msg = JSON.parse(evt.data);\n",
       "        var msg_type = msg['type'];\n",
       "\n",
       "        // Call the  \"handle_{type}\" callback, which takes\n",
       "        // the figure and JSON message as its only arguments.\n",
       "        try {\n",
       "            var callback = fig[\"handle_\" + msg_type];\n",
       "        } catch (e) {\n",
       "            console.log(\"No handler for the '\" + msg_type + \"' message type: \", msg);\n",
       "            return;\n",
       "        }\n",
       "\n",
       "        if (callback) {\n",
       "            try {\n",
       "                // console.log(\"Handling '\" + msg_type + \"' message: \", msg);\n",
       "                callback(fig, msg);\n",
       "            } catch (e) {\n",
       "                console.log(\"Exception inside the 'handler_\" + msg_type + \"' callback:\", e, e.stack, msg);\n",
       "            }\n",
       "        }\n",
       "    };\n",
       "}\n",
       "\n",
       "// from http://stackoverflow.com/questions/1114465/getting-mouse-location-in-canvas\n",
       "mpl.findpos = function(e) {\n",
       "    //this section is from http://www.quirksmode.org/js/events_properties.html\n",
       "    var targ;\n",
       "    if (!e)\n",
       "        e = window.event;\n",
       "    if (e.target)\n",
       "        targ = e.target;\n",
       "    else if (e.srcElement)\n",
       "        targ = e.srcElement;\n",
       "    if (targ.nodeType == 3) // defeat Safari bug\n",
       "        targ = targ.parentNode;\n",
       "\n",
       "    // jQuery normalizes the pageX and pageY\n",
       "    // pageX,Y are the mouse positions relative to the document\n",
       "    // offset() returns the position of the element relative to the document\n",
       "    var x = e.pageX - $(targ).offset().left;\n",
       "    var y = e.pageY - $(targ).offset().top;\n",
       "\n",
       "    return {\"x\": x, \"y\": y};\n",
       "};\n",
       "\n",
       "/*\n",
       " * return a copy of an object with only non-object keys\n",
       " * we need this to avoid circular references\n",
       " * http://stackoverflow.com/a/24161582/3208463\n",
       " */\n",
       "function simpleKeys (original) {\n",
       "  return Object.keys(original).reduce(function (obj, key) {\n",
       "    if (typeof original[key] !== 'object')\n",
       "        obj[key] = original[key]\n",
       "    return obj;\n",
       "  }, {});\n",
       "}\n",
       "\n",
       "mpl.figure.prototype.mouse_event = function(event, name) {\n",
       "    var canvas_pos = mpl.findpos(event)\n",
       "\n",
       "    if (name === 'button_press')\n",
       "    {\n",
       "        this.canvas.focus();\n",
       "        this.canvas_div.focus();\n",
       "    }\n",
       "\n",
       "    var x = canvas_pos.x;\n",
       "    var y = canvas_pos.y;\n",
       "\n",
       "    this.send_message(name, {x: x, y: y, button: event.button,\n",
       "                             step: event.step,\n",
       "                             guiEvent: simpleKeys(event)});\n",
       "\n",
       "    /* This prevents the web browser from automatically changing to\n",
       "     * the text insertion cursor when the button is pressed.  We want\n",
       "     * to control all of the cursor setting manually through the\n",
       "     * 'cursor' event from matplotlib */\n",
       "    event.preventDefault();\n",
       "    return false;\n",
       "}\n",
       "\n",
       "mpl.figure.prototype._key_event_extra = function(event, name) {\n",
       "    // Handle any extra behaviour associated with a key event\n",
       "}\n",
       "\n",
       "mpl.figure.prototype.key_event = function(event, name) {\n",
       "\n",
       "    // Prevent repeat events\n",
       "    if (name == 'key_press')\n",
       "    {\n",
       "        if (event.which === this._key)\n",
       "            return;\n",
       "        else\n",
       "            this._key = event.which;\n",
       "    }\n",
       "    if (name == 'key_release')\n",
       "        this._key = null;\n",
       "\n",
       "    var value = '';\n",
       "    if (event.ctrlKey && event.which != 17)\n",
       "        value += \"ctrl+\";\n",
       "    if (event.altKey && event.which != 18)\n",
       "        value += \"alt+\";\n",
       "    if (event.shiftKey && event.which != 16)\n",
       "        value += \"shift+\";\n",
       "\n",
       "    value += 'k';\n",
       "    value += event.which.toString();\n",
       "\n",
       "    this._key_event_extra(event, name);\n",
       "\n",
       "    this.send_message(name, {key: value,\n",
       "                             guiEvent: simpleKeys(event)});\n",
       "    return false;\n",
       "}\n",
       "\n",
       "mpl.figure.prototype.toolbar_button_onclick = function(name) {\n",
       "    if (name == 'download') {\n",
       "        this.handle_save(this, null);\n",
       "    } else {\n",
       "        this.send_message(\"toolbar_button\", {name: name});\n",
       "    }\n",
       "};\n",
       "\n",
       "mpl.figure.prototype.toolbar_button_onmouseover = function(tooltip) {\n",
       "    this.message.textContent = tooltip;\n",
       "};\n",
       "mpl.toolbar_items = [[\"Home\", \"Reset original view\", \"fa fa-home icon-home\", \"home\"], [\"Back\", \"Back to  previous view\", \"fa fa-arrow-left icon-arrow-left\", \"back\"], [\"Forward\", \"Forward to next view\", \"fa fa-arrow-right icon-arrow-right\", \"forward\"], [\"\", \"\", \"\", \"\"], [\"Pan\", \"Pan axes with left mouse, zoom with right\", \"fa fa-arrows icon-move\", \"pan\"], [\"Zoom\", \"Zoom to rectangle\", \"fa fa-square-o icon-check-empty\", \"zoom\"], [\"\", \"\", \"\", \"\"], [\"Download\", \"Download plot\", \"fa fa-floppy-o icon-save\", \"download\"]];\n",
       "\n",
       "mpl.extensions = [\"eps\", \"pdf\", \"png\", \"ps\", \"raw\", \"svg\"];\n",
       "\n",
       "mpl.default_extension = \"png\";var comm_websocket_adapter = function(comm) {\n",
       "    // Create a \"websocket\"-like object which calls the given IPython comm\n",
       "    // object with the appropriate methods. Currently this is a non binary\n",
       "    // socket, so there is still some room for performance tuning.\n",
       "    var ws = {};\n",
       "\n",
       "    ws.close = function() {\n",
       "        comm.close()\n",
       "    };\n",
       "    ws.send = function(m) {\n",
       "        //console.log('sending', m);\n",
       "        comm.send(m);\n",
       "    };\n",
       "    // Register the callback with on_msg.\n",
       "    comm.on_msg(function(msg) {\n",
       "        //console.log('receiving', msg['content']['data'], msg);\n",
       "        // Pass the mpl event to the overriden (by mpl) onmessage function.\n",
       "        ws.onmessage(msg['content']['data'])\n",
       "    });\n",
       "    return ws;\n",
       "}\n",
       "\n",
       "mpl.mpl_figure_comm = function(comm, msg) {\n",
       "    // This is the function which gets called when the mpl process\n",
       "    // starts-up an IPython Comm through the \"matplotlib\" channel.\n",
       "\n",
       "    var id = msg.content.data.id;\n",
       "    // Get hold of the div created by the display call when the Comm\n",
       "    // socket was opened in Python.\n",
       "    var element = $(\"#\" + id);\n",
       "    var ws_proxy = comm_websocket_adapter(comm)\n",
       "\n",
       "    function ondownload(figure, format) {\n",
       "        window.open(figure.imageObj.src);\n",
       "    }\n",
       "\n",
       "    var fig = new mpl.figure(id, ws_proxy,\n",
       "                           ondownload,\n",
       "                           element.get(0));\n",
       "\n",
       "    // Call onopen now - mpl needs it, as it is assuming we've passed it a real\n",
       "    // web socket which is closed, not our websocket->open comm proxy.\n",
       "    ws_proxy.onopen();\n",
       "\n",
       "    fig.parent_element = element.get(0);\n",
       "    fig.cell_info = mpl.find_output_cell(\"<div id='\" + id + \"'></div>\");\n",
       "    if (!fig.cell_info) {\n",
       "        console.error(\"Failed to find cell for figure\", id, fig);\n",
       "        return;\n",
       "    }\n",
       "\n",
       "    var output_index = fig.cell_info[2]\n",
       "    var cell = fig.cell_info[0];\n",
       "\n",
       "};\n",
       "\n",
       "mpl.figure.prototype.handle_close = function(fig, msg) {\n",
       "    fig.root.unbind('remove')\n",
       "\n",
       "    // Update the output cell to use the data from the current canvas.\n",
       "    fig.push_to_output();\n",
       "    var dataURL = fig.canvas.toDataURL();\n",
       "    // Re-enable the keyboard manager in IPython - without this line, in FF,\n",
       "    // the notebook keyboard shortcuts fail.\n",
       "    IPython.keyboard_manager.enable()\n",
       "    $(fig.parent_element).html('<img src=\"' + dataURL + '\">');\n",
       "    fig.close_ws(fig, msg);\n",
       "}\n",
       "\n",
       "mpl.figure.prototype.close_ws = function(fig, msg){\n",
       "    fig.send_message('closing', msg);\n",
       "    // fig.ws.close()\n",
       "}\n",
       "\n",
       "mpl.figure.prototype.push_to_output = function(remove_interactive) {\n",
       "    // Turn the data on the canvas into data in the output cell.\n",
       "    var dataURL = this.canvas.toDataURL();\n",
       "    this.cell_info[1]['text/html'] = '<img src=\"' + dataURL + '\">';\n",
       "}\n",
       "\n",
       "mpl.figure.prototype.updated_canvas_event = function() {\n",
       "    // Tell IPython that the notebook contents must change.\n",
       "    IPython.notebook.set_dirty(true);\n",
       "    this.send_message(\"ack\", {});\n",
       "    var fig = this;\n",
       "    // Wait a second, then push the new image to the DOM so\n",
       "    // that it is saved nicely (might be nice to debounce this).\n",
       "    setTimeout(function () { fig.push_to_output() }, 1000);\n",
       "}\n",
       "\n",
       "mpl.figure.prototype._init_toolbar = function() {\n",
       "    var fig = this;\n",
       "\n",
       "    var nav_element = $('<div/>')\n",
       "    nav_element.attr('style', 'width: 100%');\n",
       "    this.root.append(nav_element);\n",
       "\n",
       "    // Define a callback function for later on.\n",
       "    function toolbar_event(event) {\n",
       "        return fig.toolbar_button_onclick(event['data']);\n",
       "    }\n",
       "    function toolbar_mouse_event(event) {\n",
       "        return fig.toolbar_button_onmouseover(event['data']);\n",
       "    }\n",
       "\n",
       "    for(var toolbar_ind in mpl.toolbar_items){\n",
       "        var name = mpl.toolbar_items[toolbar_ind][0];\n",
       "        var tooltip = mpl.toolbar_items[toolbar_ind][1];\n",
       "        var image = mpl.toolbar_items[toolbar_ind][2];\n",
       "        var method_name = mpl.toolbar_items[toolbar_ind][3];\n",
       "\n",
       "        if (!name) { continue; };\n",
       "\n",
       "        var button = $('<button class=\"btn btn-default\" href=\"#\" title=\"' + name + '\"><i class=\"fa ' + image + ' fa-lg\"></i></button>');\n",
       "        button.click(method_name, toolbar_event);\n",
       "        button.mouseover(tooltip, toolbar_mouse_event);\n",
       "        nav_element.append(button);\n",
       "    }\n",
       "\n",
       "    // Add the status bar.\n",
       "    var status_bar = $('<span class=\"mpl-message\" style=\"text-align:right; float: right;\"/>');\n",
       "    nav_element.append(status_bar);\n",
       "    this.message = status_bar[0];\n",
       "\n",
       "    // Add the close button to the window.\n",
       "    var buttongrp = $('<div class=\"btn-group inline pull-right\"></div>');\n",
       "    var button = $('<button class=\"btn btn-mini btn-primary\" href=\"#\" title=\"Stop Interaction\"><i class=\"fa fa-power-off icon-remove icon-large\"></i></button>');\n",
       "    button.click(function (evt) { fig.handle_close(fig, {}); } );\n",
       "    button.mouseover('Stop Interaction', toolbar_mouse_event);\n",
       "    buttongrp.append(button);\n",
       "    var titlebar = this.root.find($('.ui-dialog-titlebar'));\n",
       "    titlebar.prepend(buttongrp);\n",
       "}\n",
       "\n",
       "mpl.figure.prototype._root_extra_style = function(el){\n",
       "    var fig = this\n",
       "    el.on(\"remove\", function(){\n",
       "\tfig.close_ws(fig, {});\n",
       "    });\n",
       "}\n",
       "\n",
       "mpl.figure.prototype._canvas_extra_style = function(el){\n",
       "    // this is important to make the div 'focusable\n",
       "    el.attr('tabindex', 0)\n",
       "    // reach out to IPython and tell the keyboard manager to turn it's self\n",
       "    // off when our div gets focus\n",
       "\n",
       "    // location in version 3\n",
       "    if (IPython.notebook.keyboard_manager) {\n",
       "        IPython.notebook.keyboard_manager.register_events(el);\n",
       "    }\n",
       "    else {\n",
       "        // location in version 2\n",
       "        IPython.keyboard_manager.register_events(el);\n",
       "    }\n",
       "\n",
       "}\n",
       "\n",
       "mpl.figure.prototype._key_event_extra = function(event, name) {\n",
       "    var manager = IPython.notebook.keyboard_manager;\n",
       "    if (!manager)\n",
       "        manager = IPython.keyboard_manager;\n",
       "\n",
       "    // Check for shift+enter\n",
       "    if (event.shiftKey && event.which == 13) {\n",
       "        this.canvas_div.blur();\n",
       "        event.shiftKey = false;\n",
       "        // Send a \"J\" for go to next cell\n",
       "        event.which = 74;\n",
       "        event.keyCode = 74;\n",
       "        manager.command_mode();\n",
       "        manager.handle_keydown(event);\n",
       "    }\n",
       "}\n",
       "\n",
       "mpl.figure.prototype.handle_save = function(fig, msg) {\n",
       "    fig.ondownload(fig, null);\n",
       "}\n",
       "\n",
       "\n",
       "mpl.find_output_cell = function(html_output) {\n",
       "    // Return the cell and output element which can be found *uniquely* in the notebook.\n",
       "    // Note - this is a bit hacky, but it is done because the \"notebook_saving.Notebook\"\n",
       "    // IPython event is triggered only after the cells have been serialised, which for\n",
       "    // our purposes (turning an active figure into a static one), is too late.\n",
       "    var cells = IPython.notebook.get_cells();\n",
       "    var ncells = cells.length;\n",
       "    for (var i=0; i<ncells; i++) {\n",
       "        var cell = cells[i];\n",
       "        if (cell.cell_type === 'code'){\n",
       "            for (var j=0; j<cell.output_area.outputs.length; j++) {\n",
       "                var data = cell.output_area.outputs[j];\n",
       "                if (data.data) {\n",
       "                    // IPython >= 3 moved mimebundle to data attribute of output\n",
       "                    data = data.data;\n",
       "                }\n",
       "                if (data['text/html'] == html_output) {\n",
       "                    return [cell, data, j];\n",
       "                }\n",
       "            }\n",
       "        }\n",
       "    }\n",
       "}\n",
       "\n",
       "// Register the function which deals with the matplotlib target/channel.\n",
       "// The kernel may be null if the page has been refreshed.\n",
       "if (IPython.notebook.kernel != null) {\n",
       "    IPython.notebook.kernel.comm_manager.register_target('matplotlib', mpl.mpl_figure_comm);\n",
       "}\n"
      ],
      "text/plain": [
       "<IPython.core.display.Javascript object>"
      ]
     },
     "metadata": {},
     "output_type": "display_data"
    },
    {
     "data": {
      "text/html": [
       "<img src=\"data:image/png;base64,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\">"
      ],
      "text/plain": [
       "<IPython.core.display.HTML object>"
      ]
     },
     "metadata": {},
     "output_type": "display_data"
    },
    {
     "name": "stderr",
     "output_type": "stream",
     "text": [
      "2017-01-20 20:18:46,752 : INFO : ****************** Epoch 1 --- Working on doc2vec_size_100_w_5_type_dm_concat_1_mean_0_trainwords_0_hs_0_neg_10_vocabsize_None/epoch_1 *******************\n",
      "2017-01-20 20:18:46,761 : INFO : loading Doc2Vec object from /mnt/data2/shalaby/parameter_search_doc2vec_models_new/full/doc2vec_size_100_w_5_type_dm_concat_1_mean_0_trainwords_0_hs_0_neg_10_vocabsize_None/epoch_1/model\n",
      "2017-01-20 20:19:07,886 : INFO : loading docvecs recursively from /mnt/data2/shalaby/parameter_search_doc2vec_models_new/full/doc2vec_size_100_w_5_type_dm_concat_1_mean_0_trainwords_0_hs_0_neg_10_vocabsize_None/epoch_1/model.docvecs.* with mmap=None\n",
      "2017-01-20 20:19:07,897 : INFO : loading doctag_syn0 from /mnt/data2/shalaby/parameter_search_doc2vec_models_new/full/doc2vec_size_100_w_5_type_dm_concat_1_mean_0_trainwords_0_hs_0_neg_10_vocabsize_None/epoch_1/model.docvecs.doctag_syn0.npy with mmap=None\n",
      "2017-01-20 20:19:11,000 : INFO : loading syn1neg from /mnt/data2/shalaby/parameter_search_doc2vec_models_new/full/doc2vec_size_100_w_5_type_dm_concat_1_mean_0_trainwords_0_hs_0_neg_10_vocabsize_None/epoch_1/model.syn1neg.npy with mmap=None\n",
      "2017-01-20 20:19:23,502 : INFO : loading syn0 from /mnt/data2/shalaby/parameter_search_doc2vec_models_new/full/doc2vec_size_100_w_5_type_dm_concat_1_mean_0_trainwords_0_hs_0_neg_10_vocabsize_None/epoch_1/model.syn0.npy with mmap=None\n",
      "2017-01-20 20:19:24,830 : INFO : setting ignored attribute syn0norm to None\n",
      "2017-01-20 20:19:24,840 : INFO : setting ignored attribute cum_table to None\n",
      "2017-01-20 20:19:27,000 : INFO : Getting training Data\n",
      "2017-01-20 20:20:18,862 : INFO : Training Classifier\n",
      "2017-01-20 20:44:16,699 : INFO : Getting Validation Embeddings\n",
      "2017-01-20 20:44:16,712 : INFO : ===== Loading validation vectors\n",
      "2017-01-20 20:44:37,693 : INFO : Evaluating on Validation Data\n"
     ]
    },
    {
     "name": "stdout",
     "output_type": "stream",
     "text": [
      "[[0 0 0 ..., 0 1 0]\n",
      " [1 0 0 ..., 0 0 0]\n",
      " [0 0 0 ..., 0 1 0]\n",
      " ..., \n",
      " [1 1 1 ..., 0 0 0]\n",
      " [1 0 0 ..., 0 0 0]\n",
      " [0 1 1 ..., 0 0 0]]\n",
      "** Validation Metrics: Cov Err: 3.634, Avg Labels: 1.150, \n",
      "\t\t Top 1: 0.521, Top 3: 0.839, Top 5: 0.924, \n",
      "\t\t F1 Micro: 0.539, F1 Macro: 0.450, Total Pos: 689,413\n"
     ]
    },
    {
     "name": "stderr",
     "output_type": "stream",
     "text": [
      "/home/stud/shalaby/.virtualenv/thesis-env/local/lib/python2.7/site-packages/matplotlib/axes/_base.py:2787: UserWarning: Attempting to set identical left==right results\n",
      "in singular transformations; automatically expanding.\n",
      "left=1, right=1\n",
      "  'left=%s, right=%s') % (left, right))\n",
      "2017-01-20 20:44:53,611 : INFO : ****************** Epoch 2 --- Working on doc2vec_size_100_w_5_type_dm_concat_1_mean_0_trainwords_0_hs_0_neg_10_vocabsize_None/epoch_2 *******************\n",
      "2017-01-20 20:44:53,613 : INFO : loading Doc2Vec object from /mnt/data2/shalaby/parameter_search_doc2vec_models_new/full/doc2vec_size_100_w_5_type_dm_concat_1_mean_0_trainwords_0_hs_0_neg_10_vocabsize_None/epoch_2/model\n",
      "2017-01-20 20:45:18,499 : INFO : loading docvecs recursively from /mnt/data2/shalaby/parameter_search_doc2vec_models_new/full/doc2vec_size_100_w_5_type_dm_concat_1_mean_0_trainwords_0_hs_0_neg_10_vocabsize_None/epoch_2/model.docvecs.* with mmap=None\n",
      "2017-01-20 20:45:18,502 : INFO : loading doctag_syn0 from /mnt/data2/shalaby/parameter_search_doc2vec_models_new/full/doc2vec_size_100_w_5_type_dm_concat_1_mean_0_trainwords_0_hs_0_neg_10_vocabsize_None/epoch_2/model.docvecs.doctag_syn0.npy with mmap=None\n",
      "2017-01-20 20:45:19,671 : INFO : loading syn1neg from /mnt/data2/shalaby/parameter_search_doc2vec_models_new/full/doc2vec_size_100_w_5_type_dm_concat_1_mean_0_trainwords_0_hs_0_neg_10_vocabsize_None/epoch_2/model.syn1neg.npy with mmap=None\n",
      "2017-01-20 20:45:29,596 : INFO : loading syn0 from /mnt/data2/shalaby/parameter_search_doc2vec_models_new/full/doc2vec_size_100_w_5_type_dm_concat_1_mean_0_trainwords_0_hs_0_neg_10_vocabsize_None/epoch_2/model.syn0.npy with mmap=None\n",
      "2017-01-20 20:45:29,955 : INFO : setting ignored attribute syn0norm to None\n",
      "2017-01-20 20:45:29,965 : INFO : setting ignored attribute cum_table to None\n",
      "2017-01-20 20:45:34,726 : INFO : Getting training Data\n",
      "2017-01-20 20:46:19,798 : INFO : Training Classifier\n",
      "2017-01-20 21:09:56,391 : INFO : Getting Validation Embeddings\n",
      "2017-01-20 21:09:56,393 : INFO : ===== Loading validation vectors\n",
      "2017-01-20 21:10:30,233 : INFO : Evaluating on Validation Data\n"
     ]
    },
    {
     "name": "stdout",
     "output_type": "stream",
     "text": [
      "[[0 0 0 ..., 0 1 1]\n",
      " [1 0 0 ..., 0 0 0]\n",
      " [0 0 0 ..., 0 1 0]\n",
      " ..., \n",
      " [1 0 0 ..., 0 0 0]\n",
      " [1 0 0 ..., 0 0 0]\n",
      " [0 1 1 ..., 0 0 0]]\n",
      "** Validation Metrics: Cov Err: 3.437, Avg Labels: 1.150, \n",
      "\t\t Top 1: 0.545, Top 3: 0.856, Top 5: 0.944, \n",
      "\t\t F1 Micro: 0.558, F1 Macro: 0.467, Total Pos: 700,050\n"
     ]
    },
    {
     "name": "stderr",
     "output_type": "stream",
     "text": [
      "2017-01-20 21:10:57,231 : INFO : ****************** Epoch 3 --- Working on doc2vec_size_100_w_5_type_dm_concat_1_mean_0_trainwords_0_hs_0_neg_10_vocabsize_None/epoch_3 *******************\n",
      "2017-01-20 21:10:57,232 : INFO : loading Doc2Vec object from /mnt/data2/shalaby/parameter_search_doc2vec_models_new/full/doc2vec_size_100_w_5_type_dm_concat_1_mean_0_trainwords_0_hs_0_neg_10_vocabsize_None/epoch_3/model\n",
      "2017-01-20 21:11:16,975 : INFO : loading docvecs recursively from /mnt/data2/shalaby/parameter_search_doc2vec_models_new/full/doc2vec_size_100_w_5_type_dm_concat_1_mean_0_trainwords_0_hs_0_neg_10_vocabsize_None/epoch_3/model.docvecs.* with mmap=None\n",
      "2017-01-20 21:11:16,986 : INFO : loading doctag_syn0 from /mnt/data2/shalaby/parameter_search_doc2vec_models_new/full/doc2vec_size_100_w_5_type_dm_concat_1_mean_0_trainwords_0_hs_0_neg_10_vocabsize_None/epoch_3/model.docvecs.doctag_syn0.npy with mmap=None\n",
      "2017-01-20 21:11:19,050 : INFO : loading syn1neg from /mnt/data2/shalaby/parameter_search_doc2vec_models_new/full/doc2vec_size_100_w_5_type_dm_concat_1_mean_0_trainwords_0_hs_0_neg_10_vocabsize_None/epoch_3/model.syn1neg.npy with mmap=None\n",
      "2017-01-20 21:11:28,687 : INFO : loading syn0 from /mnt/data2/shalaby/parameter_search_doc2vec_models_new/full/doc2vec_size_100_w_5_type_dm_concat_1_mean_0_trainwords_0_hs_0_neg_10_vocabsize_None/epoch_3/model.syn0.npy with mmap=None\n",
      "2017-01-20 21:11:29,035 : INFO : setting ignored attribute syn0norm to None\n",
      "2017-01-20 21:11:29,036 : INFO : setting ignored attribute cum_table to None\n",
      "2017-01-20 21:11:30,795 : INFO : Getting training Data\n",
      "2017-01-20 21:12:32,852 : INFO : Training Classifier\n",
      "2017-01-20 21:34:02,114 : INFO : Getting Validation Embeddings\n",
      "2017-01-20 21:34:02,142 : INFO : ===== Loading validation vectors\n",
      "2017-01-20 21:34:26,819 : INFO : Evaluating on Validation Data\n"
     ]
    },
    {
     "name": "stdout",
     "output_type": "stream",
     "text": [
      "[[0 0 0 ..., 0 1 1]\n",
      " [1 0 0 ..., 0 0 0]\n",
      " [0 0 0 ..., 0 1 0]\n",
      " ..., \n",
      " [1 1 0 ..., 1 0 0]\n",
      " [1 0 0 ..., 0 1 0]\n",
      " [1 1 1 ..., 0 0 0]]\n"
     ]
    },
    {
     "name": "stderr",
     "output_type": "stream",
     "text": [
      "2017-01-20 21:34:40,248 : INFO : ****************** Epoch 4 --- Working on doc2vec_size_100_w_5_type_dm_concat_1_mean_0_trainwords_0_hs_0_neg_10_vocabsize_None/epoch_4 *******************\n",
      "2017-01-20 21:34:40,249 : INFO : loading Doc2Vec object from /mnt/data2/shalaby/parameter_search_doc2vec_models_new/full/doc2vec_size_100_w_5_type_dm_concat_1_mean_0_trainwords_0_hs_0_neg_10_vocabsize_None/epoch_4/model\n"
     ]
    },
    {
     "name": "stdout",
     "output_type": "stream",
     "text": [
      "** Validation Metrics: Cov Err: 3.374, Avg Labels: 1.150, \n",
      "\t\t Top 1: 0.541, Top 3: 0.861, Top 5: 0.951, \n",
      "\t\t F1 Micro: 0.562, F1 Macro: 0.473, Total Pos: 707,978\n"
     ]
    }
   ],
   "source": [
    "%%time\n",
    "%matplotlib notebook\n",
    "graph = MetricsGraph()\n",
    "graph.init_graph(len(classifications) +2)\n",
    "# when resuming, resume from an epoch with a previously created doc2vec model to get the learning rate right\n",
    "start_from = 1\n",
    "for epoch in range(start_from, DOC2VEC_MAX_EPOCHS+1):\n",
    "    GLOBAL_VARS.MODEL_NAME = placeholder_model_name.format(epoch)\n",
    "    info(\"****************** Epoch {} --- Working on {} *******************\".format(epoch, GLOBAL_VARS.MODEL_NAME))\n",
    "    \n",
    "    # if we have the model, just load it, otherwise train the previous model\n",
    "    if os.path.exists(os.path.join(doc2vec_model_save_location, GLOBAL_VARS.MODEL_NAME, MODEL_PREFIX)):\n",
    "        doc2vec_model = Doc2Vec.load(os.path.join(doc2vec_model_save_location, GLOBAL_VARS.MODEL_NAME, MODEL_PREFIX))\n",
    "        GLOBAL_VARS.DOC2VEC_MODEL = doc2vec_model\n",
    "    else:\n",
    "        break\n",
    "        \n",
    "    info('Getting training Data')\n",
    "    X, y = get_training_data(doc2vec_model, classifications)\n",
    "    \n",
    "    \n",
    "    ensure_disk_location_exists(os.path.join(doc2vec_model_save_location, GLOBAL_VARS.MODEL_NAME, \n",
    "                                             GLOBAL_VARS.SVM_MODEL_NAME))\n",
    "    \n",
    "    # try warm start and evaluate after every iter\n",
    "    \n",
    "    if not os.path.exists(os.path.join(doc2vec_model_save_location, GLOBAL_VARS.MODEL_NAME, \n",
    "                                                          GLOBAL_VARS.SVM_MODEL_NAME, CLASSIFIER)):\n",
    "        info('Training Classifier')\n",
    "        clf = OneVsRestClassifier(linear_model.SGDClassifier(loss='hinge', penalty='l2', \n",
    "                                                             #alpha is the 1/C parameter\n",
    "                                                             alpha=SVM_REG, fit_intercept=True, n_iter=SVM_ITERATIONS,\n",
    "                                                             #n_jobs=-1 means use all cpus\n",
    "                                                             shuffle=True, verbose=0, n_jobs=1,\n",
    "                                                             #eta0 is the learning rate when we use constant configuration\n",
    "                                                             random_state=SVM_SEED, learning_rate='optimal', eta0=0.0, \n",
    "                                                             class_weight=SVM_CLASS_WEIGHTS, warm_start=False), n_jobs=1)\n",
    "\n",
    "\n",
    "        # Training of a classifier\n",
    "        clf.fit(X,y)\n",
    "        pickle.dump(clf, open(os.path.join(doc2vec_model_save_location, GLOBAL_VARS.MODEL_NAME, \n",
    "                                                              GLOBAL_VARS.SVM_MODEL_NAME, CLASSIFIER), 'w'))\n",
    "    else:\n",
    "        info('Loading Classifier')\n",
    "        clf = pickle.load(open(os.path.join(doc2vec_model_save_location, GLOBAL_VARS.MODEL_NAME, \n",
    "                                                          GLOBAL_VARS.SVM_MODEL_NAME, CLASSIFIER), 'r'))\n",
    "    \n",
    "#     # Training Metrics\n",
    "#     info('Evaluating on Training Data')\n",
    "#     yp = clf.predict(X)\n",
    "#     yp_score = clf.decision_function(X)\n",
    "#     print yp\n",
    "#     training_metrics = get_metrics(y, yp, yp)\n",
    "#     print \"** Training Metrics: Cov Err: {:.3f}, Avg Labels: {:.3f}, \\n\\t\\t Top 1: {:.3f}, Top 3: {:.3f}, Top 5: {:.3f}, \\n\\t\\t F1 Micro: {:.3f}, F1 Macro: {:.3f}, Total Pos: {:,d}\".format(\n",
    "#         training_metrics['coverage_error'], training_metrics['average_num_of_labels'], \n",
    "#         training_metrics['top_1'], training_metrics['top_3'], training_metrics['top_5'], \n",
    "#         training_metrics['f1_micro'], training_metrics['f1_macro'], training_metrics['total_positive'])\n",
    "    \n",
    "#     epoch_training_metrics.append(training_metrics)\n",
    "    \n",
    "    del X,y\n",
    "    \n",
    "    # Validation Metrics\n",
    "    info('Getting Validation Embeddings')\n",
    "    Xv, yv = get_validation_docs_with_inference_new(doc2vec_model, doc_classification_map, classifications, \n",
    "                                                    validation_docs_list, validation_preprocessed_files_prefix,\n",
    "                                                    validation_preprocessed_docids_files_prefix)\n",
    "    info('Evaluating on Validation Data')\n",
    "    yvp = clf.predict(Xv)\n",
    "    yvp_score = clf.decision_function(Xv)\n",
    "    print yvp\n",
    "    validation_metrics = get_metrics(yv, yvp, yvp)\n",
    "    print \"** Validation Metrics: Cov Err: {:.3f}, Avg Labels: {:.3f}, \\n\\t\\t Top 1: {:.3f}, Top 3: {:.3f}, Top 5: {:.3f}, \\n\\t\\t F1 Micro: {:.3f}, F1 Macro: {:.3f}, Total Pos: {:,d}\".format(\n",
    "        validation_metrics['coverage_error'], validation_metrics['average_num_of_labels'], \n",
    "        validation_metrics['top_1'], validation_metrics['top_3'], validation_metrics['top_5'], \n",
    "        validation_metrics['f1_micro'], validation_metrics['f1_macro'], validation_metrics['total_positive'])\n",
    "    \n",
    "    graph.add_metrics_to_graph(validation_metrics, epoch)\n",
    "    \n",
    "    epoch_validation_metrics.append(validation_metrics)\n",
    "    \n",
    "    \n",
    "    # Saving the metrics\n",
    "#     pickle.dump(training_metrics, open(os.path.join(doc2vec_model_save_location, GLOBAL_VARS.MODEL_NAME, \n",
    "#                                                           GLOBAL_VARS.SVM_MODEL_NAME, TRAINING_METRICS_FILENAME), 'w'))\n",
    "    pickle.dump(validation_metrics, open(os.path.join(doc2vec_model_save_location, GLOBAL_VARS.MODEL_NAME, \n",
    "                                                          GLOBAL_VARS.SVM_MODEL_NAME, VALIDATION_METRICS_FILENAME), 'w'))\n"
   ]
  },
  {
   "cell_type": "code",
   "execution_count": 36,
   "metadata": {
    "collapsed": false
   },
   "outputs": [
    {
     "name": "stderr",
     "output_type": "stream",
     "text": [
      "2017-01-07 08:32:48,888 : INFO : ****************** Epoch 6 --- Working on doc2vec_size_500_w_8_type_dm_concat_0_mean_1_trainwords_0_hs_0_neg_10_vocabsize_None/epoch_6 *******************\n",
      "2017-01-07 08:32:48,891 : INFO : loading Doc2Vec object from /big/s/shalaby/parameter_search_doc2vec_models_new/full/doc2vec_size_500_w_8_type_dm_concat_0_mean_1_trainwords_0_hs_0_neg_10_vocabsize_None/epoch_6/model\n",
      "2017-01-07 08:33:14,046 : INFO : loading docvecs recursively from /big/s/shalaby/parameter_search_doc2vec_models_new/full/doc2vec_size_500_w_8_type_dm_concat_0_mean_1_trainwords_0_hs_0_neg_10_vocabsize_None/epoch_6/model.docvecs.* with mmap=None\n",
      "2017-01-07 08:33:14,048 : INFO : loading doctag_syn0 from /big/s/shalaby/parameter_search_doc2vec_models_new/full/doc2vec_size_500_w_8_type_dm_concat_0_mean_1_trainwords_0_hs_0_neg_10_vocabsize_None/epoch_6/model.docvecs.doctag_syn0.npy with mmap=None\n",
      "2017-01-07 08:33:21,936 : INFO : loading syn1neg from /big/s/shalaby/parameter_search_doc2vec_models_new/full/doc2vec_size_500_w_8_type_dm_concat_0_mean_1_trainwords_0_hs_0_neg_10_vocabsize_None/epoch_6/model.syn1neg.npy with mmap=None\n",
      "2017-01-07 08:33:24,446 : INFO : loading syn0 from /big/s/shalaby/parameter_search_doc2vec_models_new/full/doc2vec_size_500_w_8_type_dm_concat_0_mean_1_trainwords_0_hs_0_neg_10_vocabsize_None/epoch_6/model.syn0.npy with mmap=None\n",
      "2017-01-07 08:33:26,751 : INFO : setting ignored attribute syn0norm to None\n",
      "2017-01-07 08:33:26,768 : INFO : setting ignored attribute cum_table to None\n"
     ]
    }
   ],
   "source": [
    "GLOBAL_VARS.MODEL_NAME = placeholder_model_name.format(6)\n",
    "info(\"****************** Epoch {} --- Working on {} *******************\".format(epoch, GLOBAL_VARS.MODEL_NAME))\n",
    "\n",
    "# if we have the model, just load it, otherwise train the previous model\n",
    "if os.path.exists(os.path.join(doc2vec_model_save_location, GLOBAL_VARS.MODEL_NAME, MODEL_PREFIX)):\n",
    "    doc2vec_model = Doc2Vec.load(os.path.join(doc2vec_model_save_location, GLOBAL_VARS.MODEL_NAME, MODEL_PREFIX))"
   ]
  },
  {
   "cell_type": "code",
   "execution_count": 35,
   "metadata": {
    "collapsed": false
   },
   "outputs": [
    {
     "name": "stderr",
     "output_type": "stream",
     "text": [
      "2017-01-07 08:05:32,383 : INFO : saving Doc2Vec object under /big/s/shalaby/parameter_search_doc2vec_models_new/full/doc2vec_size_500_w_8_type_dm_concat_0_mean_1_trainwords_0_hs_0_neg_10_vocabsize_None/epoch_6/model, separately None\n",
      "2017-01-07 08:05:32,384 : INFO : storing numpy array 'doctag_syn0' to /big/s/shalaby/parameter_search_doc2vec_models_new/full/doc2vec_size_500_w_8_type_dm_concat_0_mean_1_trainwords_0_hs_0_neg_10_vocabsize_None/epoch_6/model.docvecs.doctag_syn0.npy\n",
      "2017-01-07 08:06:07,546 : INFO : storing numpy array 'syn1neg' to /big/s/shalaby/parameter_search_doc2vec_models_new/full/doc2vec_size_500_w_8_type_dm_concat_0_mean_1_trainwords_0_hs_0_neg_10_vocabsize_None/epoch_6/model.syn1neg.npy\n",
      "2017-01-07 08:06:22,413 : INFO : not storing attribute syn0norm\n",
      "2017-01-07 08:06:22,414 : INFO : storing numpy array 'syn0' to /big/s/shalaby/parameter_search_doc2vec_models_new/full/doc2vec_size_500_w_8_type_dm_concat_0_mean_1_trainwords_0_hs_0_neg_10_vocabsize_None/epoch_6/model.syn0.npy\n",
      "2017-01-07 08:06:37,511 : INFO : not storing attribute cum_table\n",
      "2017-01-07 08:07:37,639 : INFO : precomputing L2-norms of word weight vectors\n",
      "2017-01-07 08:08:36,552 : INFO : capital-common-countries: 9.2% (28/306)\n",
      "2017-01-07 08:09:21,442 : INFO : capital-world: 6.8% (31/453)\n",
      "2017-01-07 08:09:36,517 : INFO : currency: 0.0% (0/152)\n",
      "2017-01-07 08:13:17,488 : INFO : city-in-state: 3.3% (75/2252)\n",
      "2017-01-07 08:13:44,345 : INFO : family: 14.3% (39/272)\n",
      "2017-01-07 08:15:09,837 : INFO : gram1-adjective-to-adverb: 6.8% (59/870)\n",
      "2017-01-07 08:16:14,734 : INFO : gram2-opposite: 17.5% (114/650)\n",
      "2017-01-07 08:18:26,319 : INFO : gram3-comparative: 72.7% (969/1332)\n",
      "2017-01-07 08:19:40,242 : INFO : gram4-superlative: 34.1% (258/756)\n",
      "2017-01-07 08:21:23,693 : INFO : gram5-present-participle: 23.0% (243/1056)\n",
      "2017-01-07 08:23:05,897 : INFO : gram6-nationality-adjective: 11.7% (120/1030)\n",
      "2017-01-07 08:25:25,383 : INFO : gram7-past-tense: 12.2% (172/1406)\n",
      "2017-01-07 08:27:28,904 : INFO : gram8-plural: 43.9% (553/1260)\n",
      "2017-01-07 08:28:50,549 : INFO : gram9-plural-verbs: 47.9% (389/812)\n",
      "2017-01-07 08:28:50,553 : INFO : total: 24.2% (3050/12607)\n"
     ]
    },
    {
     "name": "stdout",
     "output_type": "stream",
     "text": [
      "CPU times: user 3h 47min 44s, sys: 4h 31min 2s, total: 8h 18min 46s\n",
      "Wall time: 21min 14s\n",
      "CPU times: user 3h 48min 38s, sys: 4h 31min 12s, total: 8h 19min 51s\n",
      "Wall time: 23min 18s\n"
     ]
    }
   ],
   "source": [
    "%%time\n",
    "ensure_disk_location_exists(os.path.join(doc2vec_model_save_location, GLOBAL_VARS.MODEL_NAME))\n",
    "doc2vec_model.save(os.path.join(doc2vec_model_save_location, GLOBAL_VARS.MODEL_NAME, MODEL_PREFIX))\n",
    "GLOBAL_VARS.DOC2VEC_MODEL = doc2vec_model\n",
    "\n",
    "# get the word2vec analogy accuracy score\n",
    "%time word2vec_result = doc2vec_model.accuracy(word2vec_questions_file, restrict_vocab=None)\n",
    "epoch_word2vec_metrics.append(word2vec_result)\n",
    "pickle.dump(word2vec_result, open(os.path.join(doc2vec_model_save_location, GLOBAL_VARS.MODEL_NAME,\n",
    "                                               WORD2VEC_METRICS_FILENAME), 'w'))\n"
   ]
  },
  {
   "cell_type": "code",
   "execution_count": 75,
   "metadata": {
    "collapsed": true
   },
   "outputs": [],
   "source": [
    "from multiprocessing.dummy import Pool as ThreadPool "
   ]
  },
  {
   "cell_type": "code",
   "execution_count": 43,
   "metadata": {
    "collapsed": true
   },
   "outputs": [],
   "source": [
    "import thesis.utils.metrics"
   ]
  },
  {
   "cell_type": "code",
   "execution_count": 84,
   "metadata": {
    "collapsed": false
   },
   "outputs": [
    {
     "name": "stderr",
     "output_type": "stream",
     "text": [
      "2016-12-28 22:22:21,536 : INFO : Loading new batch\n",
      "2016-12-28 22:22:27,109 : INFO : Finished loading new batch\n"
     ]
    }
   ],
   "source": [
    "validation_docs_iterator = DocumentBatchGenerator(validation_preprocessed_files_prefix, \n",
    "                                                  validation_preprocessed_docids_files_prefix, batch_size=None)\n",
    "i=0\n",
    "doc_contents = []\n",
    "for (doc_id, doc_contents_array) in validation_docs_iterator:\n",
    "    i += 1\n",
    "    doc_contents.append((doc_id, doc_contents_array))\n",
    "    if i > 100:\n",
    "        break"
   ]
  },
  {
   "cell_type": "code",
   "execution_count": 133,
   "metadata": {
    "collapsed": false
   },
   "outputs": [],
   "source": [
    "def infer_one_doc(doc):\n",
    "    #doc2vec_model.random = np.random.RandomState(DOC2VEC_SEED)\n",
    "    rep = doc2vec_model.infer_vector(doc[1])\n",
    "    return (doc[0], rep)"
   ]
  },
  {
   "cell_type": "markdown",
   "metadata": {},
   "source": [
    "Threaded Version"
   ]
  },
  {
   "cell_type": "code",
   "execution_count": 114,
   "metadata": {
    "collapsed": false
   },
   "outputs": [
    {
     "name": "stdout",
     "output_type": "stream",
     "text": [
      "CPU times: user 1min 41s, sys: 620 ms, total: 1min 41s\n",
      "Wall time: 9.83 s\n"
     ]
    }
   ],
   "source": [
    "%%time\n",
    "pool = ThreadPool(16)\n",
    "doc2vec_model.random = np.random.RandomState(DOC2VEC_SEED)\n",
    "threaded_reps = pool.map(infer_one_doc, doc_contents)\n"
   ]
  },
  {
   "cell_type": "markdown",
   "metadata": {},
   "source": [
    "Non-Threaded Version"
   ]
  },
  {
   "cell_type": "code",
   "execution_count": 112,
   "metadata": {
    "collapsed": false
   },
   "outputs": [
    {
     "name": "stdout",
     "output_type": "stream",
     "text": [
      "CPU times: user 14 s, sys: 44 ms, total: 14.1 s\n",
      "Wall time: 13.9 s\n"
     ]
    }
   ],
   "source": [
    "%%time\n",
    "reps = []\n",
    "doc2vec_model.random = np.random.RandomState(DOC2VEC_SEED)\n",
    "for doc in doc_contents:\n",
    "    reps.append((doc[0], doc2vec_model.infer_vector(doc[1])))"
   ]
  },
  {
   "cell_type": "code",
   "execution_count": 100,
   "metadata": {
    "collapsed": false
   },
   "outputs": [
    {
     "data": {
      "text/plain": [
       "True"
      ]
     },
     "execution_count": 100,
     "metadata": {},
     "output_type": "execute_result"
    }
   ],
   "source": [
    "np.array_equal([d[0] for d in reps], [d[0] for d in threaded_reps])"
   ]
  },
  {
   "cell_type": "markdown",
   "metadata": {},
   "source": [
    "More advanced threading"
   ]
  },
  {
   "cell_type": "code",
   "execution_count": 140,
   "metadata": {
    "collapsed": true
   },
   "outputs": [],
   "source": [
    "def nothing_func(doc):\n",
    "    1 + 1"
   ]
  },
  {
   "cell_type": "code",
   "execution_count": 139,
   "metadata": {
    "collapsed": false
   },
   "outputs": [
    {
     "data": {
      "text/plain": [
       "12412"
      ]
     },
     "execution_count": 139,
     "metadata": {},
     "output_type": "execute_result"
    }
   ],
   "source": [
    "len(validation_docs_list)"
   ]
  },
  {
   "cell_type": "code",
   "execution_count": 138,
   "metadata": {
    "collapsed": false
   },
   "outputs": [
    {
     "data": {
      "text/plain": [
       "13000"
      ]
     },
     "execution_count": 138,
     "metadata": {},
     "output_type": "execute_result"
    }
   ],
   "source": [
    "len(threaded_reps)"
   ]
  },
  {
   "cell_type": "code",
   "execution_count": null,
   "metadata": {
    "collapsed": true
   },
   "outputs": [],
   "source": [
    "%%time\n",
    "validation_docs_iterator = DocumentBatchGenerator(validation_preprocessed_files_prefix, \n",
    "                                                  validation_preprocessed_docids_files_prefix, batch_size=None)\n",
    "pool = ThreadPool(20)\n",
    "# map consumes the whole iterator on the spot, so we have to use itertools.islice to fake mini-batching\n",
    "threaded_reps = []\n",
    "mini_batch_size = 1000\n",
    "while True:\n",
    "    threaded_reps_partial = pool.map(infer_one_doc, itertools.islice(validation_docs_iterator, mini_batch_size))\n",
    "    info(\"Finished: {}\".format(str(validation_docs_iterator.curr_index)))\n",
    "    if threaded_reps_partial:\n",
    "        threaded_reps.extend(threaded_reps_partial)\n",
    "    else:\n",
    "        break"
   ]
  },
  {
   "cell_type": "code",
   "execution_count": 126,
   "metadata": {
    "collapsed": false
   },
   "outputs": [
    {
     "name": "stdout",
     "output_type": "stream",
     "text": [
      "0\n",
      "1\n",
      "2\n",
      "3\n",
      "4\n",
      "5\n",
      "6\n",
      "7\n",
      "8\n",
      "9\n"
     ]
    }
   ],
   "source": [
    "def g():\n",
    "    for el in xrange(50):\n",
    "        yield el\n",
    "\n",
    "go = g()\n",
    "result = []\n",
    "N = 10\n",
    "for i in itertools.islice(go, N):\n",
    "    print i"
   ]
  },
  {
   "cell_type": "code",
   "execution_count": 196,
   "metadata": {
    "collapsed": true
   },
   "outputs": [],
   "source": [
    "X, y = get_training_data(doc2vec_model, classifications)"
   ]
  },
  {
   "cell_type": "code",
   "execution_count": 202,
   "metadata": {
    "collapsed": true
   },
   "outputs": [],
   "source": [
    "yc = np.array(y)"
   ]
  },
  {
   "cell_type": "code",
   "execution_count": 203,
   "metadata": {
    "collapsed": false
   },
   "outputs": [
    {
     "data": {
      "text/plain": [
       "(49789, 8)"
      ]
     },
     "execution_count": 203,
     "metadata": {},
     "output_type": "execute_result"
    }
   ],
   "source": [
    "yc.shape"
   ]
  },
  {
   "cell_type": "code",
   "execution_count": null,
   "metadata": {
    "collapsed": true
   },
   "outputs": [],
   "source": [
    "from sklearn.svm import SVC"
   ]
  },
  {
   "cell_type": "code",
   "execution_count": 219,
   "metadata": {
    "collapsed": false
   },
   "outputs": [],
   "source": [
    "clf = OneVsRestClassifier(estimator=linear_model.SGDClassifier(loss='hinge', penalty='l2', \n",
    "                                                         #alpha is the 1/C parameter\n",
    "                                                         alpha=0.001, fit_intercept=True, n_iter=10,\n",
    "                                                         #n_jobs=-1 means use all cpus\n",
    "                                                         shuffle=True, verbose=1, epsilon=0.1, n_jobs=-1,\n",
    "                                                         #eta0 is the learning rate when we use constant configuration\n",
    "                                                         random_state=SVM_SEED, learning_rate='optimal', eta0=0.0, \n",
    "                                                         class_weight=None, warm_start=False), n_jobs=1)\n",
    "\n",
    "# clf = OneVsRestClassifier(estimator=SVC(kernel='linear'), n_jobs=-1)"
   ]
  },
  {
   "cell_type": "code",
   "execution_count": 222,
   "metadata": {
    "collapsed": false
   },
   "outputs": [
    {
     "name": "stdout",
     "output_type": "stream",
     "text": [
      "[[0 0 0 ..., 0 1 0]\n",
      " [0 0 0 ..., 0 0 1]\n",
      " [0 0 0 ..., 0 0 1]\n",
      " ..., \n",
      " [0 0 0 ..., 0 0 0]\n",
      " [1 0 0 ..., 0 0 0]\n",
      " [0 0 0 ..., 0 0 1]]\n"
     ]
    },
    {
     "name": "stderr",
     "output_type": "stream",
     "text": [
      "/home/stud/shalaby/.virtualenv/thesis-env/local/lib/python2.7/site-packages/sklearn/metrics/classification.py:1113: UndefinedMetricWarning: Precision is ill-defined and being set to 0.0 in labels with no predicted samples.\n",
      "  'precision', 'predicted', average, warn_for)\n",
      "/home/stud/shalaby/.virtualenv/thesis-env/local/lib/python2.7/site-packages/sklearn/metrics/classification.py:1113: UndefinedMetricWarning: F-score is ill-defined and being set to 0.0 in labels with no predicted samples.\n",
      "  'precision', 'predicted', average, warn_for)\n",
      "/home/stud/shalaby/.virtualenv/thesis-env/local/lib/python2.7/site-packages/sklearn/metrics/classification.py:1113: UndefinedMetricWarning: Precision is ill-defined and being set to 0.0 due to no predicted samples.\n",
      "  'precision', 'predicted', average, warn_for)\n",
      "/home/stud/shalaby/.virtualenv/thesis-env/local/lib/python2.7/site-packages/sklearn/metrics/classification.py:1113: UndefinedMetricWarning: F-score is ill-defined and being set to 0.0 due to no predicted samples.\n",
      "  'precision', 'predicted', average, warn_for)\n"
     ]
    }
   ],
   "source": [
    "yp = clf.predict(X)\n",
    "\n",
    "print yp\n",
    "\n",
    "training_metrics = get_metrics(np.array(y), yp, yp)"
   ]
  },
  {
   "cell_type": "code",
   "execution_count": 173,
   "metadata": {
    "collapsed": false
   },
   "outputs": [
    {
     "data": {
      "text/plain": [
       "SGDClassifier(alpha=0.0001, average=False, class_weight=None, epsilon=0.1,\n",
       "       eta0=0.0, fit_intercept=True, l1_ratio=0.15,\n",
       "       learning_rate='optimal', loss='hinge', n_iter=5, n_jobs=1,\n",
       "       penalty='l2', power_t=0.5, random_state=None, shuffle=True,\n",
       "       verbose=0, warm_start=False)"
      ]
     },
     "execution_count": 173,
     "metadata": {},
     "output_type": "execute_result"
    }
   ],
   "source": [
    "import numpy as np\n",
    "from sklearn import linear_model\n",
    "X = np.array([[-1, -1], [-2, -1], [1, 1], [2, 1]])\n",
    "Y = np.array(['a', 'a', 'b', 'b'])\n",
    "clf = linear_model.SGDClassifier()\n",
    "clf.fit(X, Y)"
   ]
  },
  {
   "cell_type": "code",
   "execution_count": null,
   "metadata": {
    "collapsed": false
   },
   "outputs": [],
   "source": [
    "clf.predict([[-0.8, -1]])"
   ]
  },
  {
   "cell_type": "code",
   "execution_count": 26,
   "metadata": {
    "collapsed": true
   },
   "outputs": [],
   "source": [
    "best_svm_epoch = 13"
   ]
  },
  {
   "cell_type": "code",
   "execution_count": 29,
   "metadata": {
    "collapsed": false
   },
   "outputs": [
    {
     "name": "stderr",
     "output_type": "stream",
     "text": [
      "2016-11-26 18:25:14,192 : INFO : loading Doc2Vec object from /mnt/data2/shalaby/parameter_search_doc2vec_models/sample_0.0001/doc2vec_size_3000_w_8_type_dm_concat_1_mean_0_trainwords_0_hs_0_neg_10_vocabsize_None_curriter_13/model\n",
      "2016-11-26 18:25:14,584 : INFO : loading docvecs recursively from /mnt/data2/shalaby/parameter_search_doc2vec_models/sample_0.0001/doc2vec_size_3000_w_8_type_dm_concat_1_mean_0_trainwords_0_hs_0_neg_10_vocabsize_None_curriter_13/model.docvecs.* with mmap=None\n",
      "2016-11-26 18:25:14,585 : INFO : loading doctag_syn0 from /mnt/data2/shalaby/parameter_search_doc2vec_models/sample_0.0001/doc2vec_size_3000_w_8_type_dm_concat_1_mean_0_trainwords_0_hs_0_neg_10_vocabsize_None_curriter_13/model.docvecs.doctag_syn0.npy with mmap=None\n",
      "2016-11-26 18:25:14,814 : INFO : loading syn1neg from /mnt/data2/shalaby/parameter_search_doc2vec_models/sample_0.0001/doc2vec_size_3000_w_8_type_dm_concat_1_mean_0_trainwords_0_hs_0_neg_10_vocabsize_None_curriter_13/model.syn1neg.npy with mmap=None\n",
      "2016-11-26 18:26:37,586 : INFO : loading syn0 from /mnt/data2/shalaby/parameter_search_doc2vec_models/sample_0.0001/doc2vec_size_3000_w_8_type_dm_concat_1_mean_0_trainwords_0_hs_0_neg_10_vocabsize_None_curriter_13/model.syn0.npy with mmap=None\n",
      "2016-11-26 18:26:41,876 : INFO : setting ignored attribute syn0norm to None\n",
      "2016-11-26 18:26:41,877 : INFO : setting ignored attribute cum_table to None\n"
     ]
    }
   ],
   "source": [
    "GLOBAL_VARS.MODEL_NAME = placeholder_model_name.format(best_svm_epoch)\n",
    "doc2vec_model = Doc2Vec.load(os.path.join(doc2vec_model_save_location, GLOBAL_VARS.MODEL_NAME, MODEL_PREFIX))"
   ]
  },
  {
   "cell_type": "markdown",
   "metadata": {},
   "source": [
    "#### Prepare Training Data"
   ]
  },
  {
   "cell_type": "code",
   "execution_count": 31,
   "metadata": {
    "collapsed": false
   },
   "outputs": [
    {
     "name": "stdout",
     "output_type": "stream",
     "text": [
      "CPU times: user 1.61 s, sys: 520 ms, total: 2.13 s\n",
      "Wall time: 1.93 s\n"
     ]
    }
   ],
   "source": [
    "%%time\n",
    "classifications = sections\n",
    "\n",
    "NN_OUTPUT_NEURONS = len(classifications)\n",
    "one_hot_encoder = OneHotEncoder(classifications)\n",
    "training_data = []\n",
    "training_labels = []\n",
    "for doc_id in training_docs_list:\n",
    "    # converting from memmap to a normal array\n",
    "    normal_array = []\n",
    "    normal_array[:] = doc2vec_model.docvecs[doc_id][:]\n",
    "    training_data.append(normal_array)\n",
    "    eligible_classifications = [clssf for clssf in doc_classification_map[doc_id] if clssf in classifications]\n",
    "    training_labels.append(one_hot_encoder.get_label_vector(eligible_classifications))"
   ]
  },
  {
   "cell_type": "markdown",
   "metadata": {},
   "source": [
    "#### Prepare Validation Data"
   ]
  },
  {
   "cell_type": "code",
   "execution_count": 32,
   "metadata": {
    "collapsed": false
   },
   "outputs": [
    {
     "name": "stdout",
     "output_type": "stream",
     "text": [
      "(1969, 3000)\n",
      "CPU times: user 2.58 s, sys: 360 ms, total: 2.94 s\n",
      "Wall time: 2.93 s\n"
     ]
    }
   ],
   "source": [
    "%%time\n",
    "\n",
    "validation_labels = []\n",
    "validation_data = pickle.load(open(\n",
    "        os.path.join(doc2vec_model_save_location, GLOBAL_VARS.MODEL_NAME, VALIDATION_MATRIX)\n",
    "))\n",
    "print validation_data.shape\n",
    "\n",
    "for validation_doc_id in validation_docs_list:\n",
    "    eligible_classifications = [clssf for clssf in doc_classification_map[validation_doc_id] if clssf in classifications]\n",
    "    validation_labels.append(one_hot_encoder.get_label_vector(eligible_classifications))"
   ]
  },
  {
   "cell_type": "markdown",
   "metadata": {},
   "source": [
    "#### Create Keras NN"
   ]
  },
  {
   "cell_type": "code",
   "execution_count": 173,
   "metadata": {
    "collapsed": true
   },
   "outputs": [],
   "source": [
    "import itertools\n",
    "from keras.layers import Dropout"
   ]
  },
  {
   "cell_type": "code",
   "execution_count": 186,
   "metadata": {
    "collapsed": true
   },
   "outputs": [],
   "source": [
    "pickle.dump(history_list, open('/mnt/data2/shalaby/history_list_sample_0.0001.pickle','w'))"
   ]
  },
  {
   "cell_type": "code",
   "execution_count": 181,
   "metadata": {
    "collapsed": false
   },
   "outputs": [
    {
     "name": "stdout",
     "output_type": "stream",
     "text": [
      "100\n"
     ]
    }
   ],
   "source": [
    "print len(history_list)"
   ]
  },
  {
   "cell_type": "code",
   "execution_count": 147,
   "metadata": {
    "collapsed": false
   },
   "outputs": [],
   "source": [
    "doc_input = Input(shape=(DOC2VEC_SIZE,), name='doc_input')\n",
    "hidden = Dense(NN_HIDDEN_NEURONS, activation='relu', name='hidden_layer')(doc_input)\n",
    "softmax_output = Dense(NN_OUTPUT_NEURONS, activation='sigmoid', name='softmax_output')(hidden)\n",
    "model = Model(input=doc_input, output=softmax_output)\n",
    "model.compile(optimizer='rmsprop', loss='binary_crossentropy', metrics=['accuracy', 'fbeta_score', theano_coverage_error])"
   ]
  },
  {
   "cell_type": "code",
   "execution_count": 148,
   "metadata": {
    "collapsed": false
   },
   "outputs": [
    {
     "name": "stdout",
     "output_type": "stream",
     "text": [
      "____________________________________________________________________________________________________\n",
      "Layer (type)                     Output Shape          Param #     Connected to                     \n",
      "====================================================================================================\n",
      "doc_input (InputLayer)           (None, 3000)          0                                            \n",
      "____________________________________________________________________________________________________\n",
      "hidden_layer (Dense)             (None, 4500)          13504500    doc_input[0][0]                  \n",
      "____________________________________________________________________________________________________\n",
      "softmax_output (Dense)           (None, 8)             36008       hidden_layer[0][0]               \n",
      "====================================================================================================\n",
      "Total params: 13540508\n",
      "____________________________________________________________________________________________________\n"
     ]
    }
   ],
   "source": [
    "model.summary()"
   ]
  },
  {
   "cell_type": "code",
   "execution_count": 162,
   "metadata": {
    "collapsed": false
   },
   "outputs": [
    {
     "name": "stdout",
     "output_type": "stream",
     "text": [
      "Train on 8979 samples, validate on 1969 samples\n",
      "Epoch 1/1\n",
      "8979/8979 [==============================] - 4s - loss: 0.0427 - acc: 0.9835 - fbeta_score: 0.9504 - coverage error: 1.4936 - val_loss: 2.1309 - val_acc: 0.8531 - val_fbeta_score: 0.4738 - val_coverage error: 3.4474\n"
     ]
    }
   ],
   "source": [
    "model.fit(x=training_data, y=training_labels, \n",
    "          validation_data=(validation_data, validation_labels), \n",
    "          nb_epoch=1, verbose=1)"
   ]
  },
  {
   "cell_type": "code",
   "execution_count": 143,
   "metadata": {
    "collapsed": false
   },
   "outputs": [],
   "source": [
    "val_prediction = model.predict(validation_data)"
   ]
  },
  {
   "cell_type": "code",
   "execution_count": 144,
   "metadata": {
    "collapsed": false
   },
   "outputs": [
    {
     "data": {
      "text/plain": [
       "array([[  2.70263344e-01,   3.49998474e-02,   3.13610617e-05,\n",
       "          1.08150870e-03,   3.11665332e-07,   7.09001958e-01,\n",
       "          4.97711152e-02,   2.63609409e-01],\n",
       "       [  1.70166213e-02,   5.36046147e-01,   2.61311390e-04,\n",
       "          4.87348643e-06,   1.27638310e-01,   9.57404263e-03,\n",
       "          3.39831635e-02,   2.13784515e-03]], dtype=float32)"
      ]
     },
     "execution_count": 144,
     "metadata": {},
     "output_type": "execute_result"
    }
   ],
   "source": [
    "val_prediction[:2]"
   ]
  }
 ],
 "metadata": {
  "kernelspec": {
   "display_name": "Python 2",
   "language": "python",
   "name": "python2"
  },
  "language_info": {
   "codemirror_mode": {
    "name": "ipython",
    "version": 2
   },
   "file_extension": ".py",
   "mimetype": "text/x-python",
   "name": "python",
   "nbconvert_exporter": "python",
   "pygments_lexer": "ipython2",
   "version": "2.7.12"
  }
 },
 "nbformat": 4,
 "nbformat_minor": 0
}
