{
 "cells": [
  {
   "cell_type": "markdown",
   "metadata": {},
   "source": [
    "# Classification of fixed size paragraph vectors using LSTM\n",
    "should be able to deal with all levels using the PARTS_LEVEL param"
   ]
  },
  {
   "cell_type": "code",
   "execution_count": 1,
   "metadata": {
    "collapsed": false
   },
   "outputs": [
    {
     "name": "stderr",
     "output_type": "stream",
     "text": [
      "Using gpu device 0: TITAN X (Pascal) (CNMeM is disabled, cuDNN 5105)\n",
      "/home/stud/shalaby/.virtualenv/thesis-env/local/lib/python2.7/site-packages/theano/sandbox/cuda/__init__.py:600: UserWarning: Your cuDNN version is more recent than the one Theano officially supports. If you see any problems, try updating Theano or downgrading cuDNN to version 5.\n",
      "  warnings.warn(warn)\n",
      "Using Theano backend.\n"
     ]
    }
   ],
   "source": [
    "import json\n",
    "import nltk\n",
    "from nltk.tokenize import RegexpTokenizer\n",
    "import string\n",
    "import math\n",
    "import os\n",
    "import time\n",
    "from collections import namedtuple, defaultdict\n",
    "import cPickle as pickle\n",
    "import pandas as pd\n",
    "\n",
    "%matplotlib inline\n",
    "import matplotlib.pyplot as plt\n",
    "import matplotlib as mpl\n",
    "import numpy as np\n",
    "import random\n",
    "\n",
    "from multiprocessing.dummy import Pool as ThreadPool\n",
    "import itertools\n",
    "\n",
    "from sklearn.metrics import coverage_error\n",
    "import sklearn.metrics\n",
    "from sklearn.multiclass import OneVsRestClassifier\n",
    "from sklearn import linear_model\n",
    "from sklearn.preprocessing import MultiLabelBinarizer\n",
    "\n",
    "from gensim.models.doc2vec import Doc2Vec, LabeledSentence\n",
    "\n",
    "import logging\n",
    "from logging import info\n",
    "from functools import partial\n",
    "\n",
    "import seaborn\n",
    "\n",
    "import keras\n",
    "from keras.layers import Input, Dense, Dropout, Masking\n",
    "from keras.models import Model, Sequential\n",
    "from keras.layers import Input, Masking\n",
    "from keras.layers.pooling import GlobalAveragePooling1D\n",
    "from keras.layers.convolutional import MaxPooling1D, Convolution1D\n",
    "from keras.layers.pooling import GlobalAveragePooling1D\n",
    "from keras.layers.recurrent import LSTM\n",
    "\n",
    "from sklearn.model_selection import ParameterSampler\n",
    "\n",
    "from thesis.utils.metrics import *"
   ]
  },
  {
   "cell_type": "markdown",
   "metadata": {},
   "source": [
    "# Global variables used throughout the script"
   ]
  },
  {
   "cell_type": "code",
   "execution_count": 2,
   "metadata": {
    "collapsed": true
   },
   "outputs": [],
   "source": [
    "root = logging.getLogger()\n",
    "for handler in root.handlers[:]:\n",
    "    root.removeHandler(handler)\n",
    "logging.basicConfig(format='%(asctime)s : %(levelname)s : %(message)s', level=logging.INFO) # adds a default StreamHanlder\n",
    "#root.addHandler(logging.StreamHandler())"
   ]
  },
  {
   "cell_type": "code",
   "execution_count": 3,
   "metadata": {
    "collapsed": true
   },
   "outputs": [],
   "source": [
    "SVM_SEED = 1234\n",
    "DOC2VEC_SEED = 1234\n",
    "WORD2VEC_SEED = 1234\n",
    "NN_SEED = 1234"
   ]
  },
  {
   "cell_type": "code",
   "execution_count": 4,
   "metadata": {
    "collapsed": true
   },
   "outputs": [],
   "source": [
    "NUM_CORES = 16"
   ]
  },
  {
   "cell_type": "code",
   "execution_count": 5,
   "metadata": {
    "collapsed": false
   },
   "outputs": [],
   "source": [
    "GLOBAL_VARS = namedtuple('GLOBAL_VARS', ['MODEL_NAME', 'DOC2VEC_MODEL_NAME', 'DOC2VEC_MODEL', \n",
    "                                         'SVM_MODEL_NAME', 'NN_MODEL_NAME'])"
   ]
  },
  {
   "cell_type": "code",
   "execution_count": 6,
   "metadata": {
    "collapsed": true
   },
   "outputs": [],
   "source": [
    "VOCAB_MODEL = \"vocab_model\"\n",
    "MODEL_PREFIX = \"model\"\n",
    "VALIDATION_MATRIX = \"validation_matrix.pkl\"\n",
    "VALIDATION_DICT = \"validation_dict.pkl\"\n",
    "TEST_MATRIX = \"test_matrix.pkl\"\n",
    "TEST_DICT = \"test_dict.pkl\"\n",
    "METRICS = \"metrics.pkl\"\n",
    "CLASSIFIER = \"classifier.pkl\"\n",
    "TYPE_CLASSIFIER= \"{}_classifier.pkl\"\n",
    "\n",
    "TRAINING_DATA_MATRIX = \"X_level_{}.npy\"\n",
    "TRAINING_LABELS_MATRIX = \"y_{}.npy\"\n",
    "VALIDATION_DATA_MATRIX = \"Xv_level_{}.npy\"\n",
    "VALIDATION_LABELS_MATRIX = \"yv_{}.npy\""
   ]
  },
  {
   "cell_type": "code",
   "execution_count": 7,
   "metadata": {
    "collapsed": true
   },
   "outputs": [],
   "source": [
    "NN_PARAMETER_SEARCH_PREFIX = \"lstm_{}_level_{}_batch_{}_nn_parameter_searches.pkl\""
   ]
  },
  {
   "cell_type": "code",
   "execution_count": 8,
   "metadata": {
    "collapsed": true
   },
   "outputs": [],
   "source": [
    "SAMPLE_RATIO = 0.15"
   ]
  },
  {
   "cell_type": "code",
   "execution_count": 9,
   "metadata": {
    "collapsed": false
   },
   "outputs": [],
   "source": [
    "root_location = \"/mnt/data2/shalaby/\"\n",
    "big_data_location = \"/mnt/data/shalaby/\"\n",
    "\n",
    "doc_vec_types = \"extended_abs_desc_claims_large_sample_chunks\"\n",
    "doc_vec_preprocessed_data_types = \"extended_pv_abs_desc_claims_large_sample_chunks\"\n",
    "\n",
    "exports_location = root_location + \"exported_data/\"\n",
    "\n",
    "doc2vec_model_save_location = os.path.join(big_data_location, \"parameter_search_doc2vec_models_\" + doc_vec_types, \"full\")\n",
    "nn_parameter_search_location = os.path.join(root_location, \"nn_parameter_search_\" + doc_vec_types)\n",
    "if not os.path.exists(doc2vec_model_save_location):\n",
    "    os.makedirs(doc2vec_model_save_location)\n",
    "if not os.path.exists(os.path.join(doc2vec_model_save_location, VOCAB_MODEL)):\n",
    "    os.makedirs(os.path.join(doc2vec_model_save_location, VOCAB_MODEL))\n",
    "\n",
    "#training_file = root_location + \"docs_output.json\"\n",
    "training_file = root_location + 'docs_output.json'\n",
    "\n",
    "doc_classifications_map_file = exports_location + \"doc_classification_map.pkl\"\n",
    "sections_file = exports_location + \"sections.pkl\"\n",
    "classes_file = exports_location + \"classes.pkl\"\n",
    "subclasses_file = exports_location + \"subclasses.pkl\"\n",
    "valid_classes_file = exports_location + \"valid_classes.pkl\"\n",
    "valid_subclasses_file = exports_location + \"valid_subclasses.pkl\"\n",
    "classifications_output = exports_location + \"classifications.pkl\"\n",
    "# training_docs_list_file = exports_location + \"extended_pv_training_docs_list.pkl\"\n",
    "# validation_docs_list_file = exports_location + \"extended_pv_validation_docs_list.pkl\"\n",
    "# test_docs_list_file = exports_location + \"extended_pv_test_docs_list.pkl\"\n",
    "training_docs_list_file = exports_location + \"extended_pv_training_docs_list_\" + str(SAMPLE_RATIO) + \".pkl\"\n",
    "validation_docs_list_file = exports_location + \"extended_pv_validation_docs_list_\" + str(SAMPLE_RATIO) + \".pkl\"\n",
    "test_docs_list_file = exports_location + \"extended_pv_test_docs_list_\" + str(SAMPLE_RATIO) + \".pkl\"\n",
    "\n",
    "preprocessed_location = os.path.join(big_data_location, \"preprocessed_data\", doc_vec_preprocessed_data_types) + \"/\"\n",
    "\n",
    "training_preprocessed_files_prefix = preprocessed_location + \"extended_pv_training_docs_data_preprocessed-\"\n",
    "validation_preprocessed_files_prefix = preprocessed_location + \"extended_pv_validation_docs_data_preprocessed-\"\n",
    "test_preprocessed_files_prefix = preprocessed_location + \"extended_pv_test_docs_data_preprocessed-\"\n",
    "\n",
    "word2vec_questions_file = result = root_location + 'tensorflow/word2vec/questions-words.txt'"
   ]
  },
  {
   "cell_type": "markdown",
   "metadata": {},
   "source": [
    "# Load general data required for classification"
   ]
  },
  {
   "cell_type": "code",
   "execution_count": 10,
   "metadata": {
    "collapsed": false
   },
   "outputs": [
    {
     "name": "stdout",
     "output_type": "stream",
     "text": [
      "CPU times: user 20.1 s, sys: 2.18 s, total: 22.2 s\n",
      "Wall time: 22.3 s\n"
     ]
    }
   ],
   "source": [
    "%%time\n",
    "doc_classification_map = pickle.load(open(doc_classifications_map_file))\n",
    "sections = pickle.load(open(sections_file))\n",
    "classes = pickle.load(open(classes_file))\n",
    "subclasses = pickle.load(open(subclasses_file))\n",
    "valid_classes = pickle.load(open(valid_classes_file))\n",
    "valid_subclasses = pickle.load(open(valid_subclasses_file))\n",
    "training_docs_list = pickle.load(open(training_docs_list_file))\n",
    "validation_docs_list = pickle.load(open(validation_docs_list_file))\n",
    "test_docs_list = pickle.load(open(test_docs_list_file))"
   ]
  },
  {
   "cell_type": "code",
   "execution_count": 11,
   "metadata": {
    "collapsed": false
   },
   "outputs": [
    {
     "data": {
      "text/plain": [
       "254767"
      ]
     },
     "execution_count": 11,
     "metadata": {},
     "output_type": "execute_result"
    }
   ],
   "source": [
    "len(training_docs_list)"
   ]
  },
  {
   "cell_type": "code",
   "execution_count": 12,
   "metadata": {
    "collapsed": false
   },
   "outputs": [
    {
     "data": {
      "text/plain": [
       "60957"
      ]
     },
     "execution_count": 12,
     "metadata": {},
     "output_type": "execute_result"
    }
   ],
   "source": [
    "len(validation_docs_list)"
   ]
  },
  {
   "cell_type": "code",
   "execution_count": 13,
   "metadata": {
    "collapsed": false
   },
   "outputs": [
    {
     "data": {
      "text/plain": [
       "79785"
      ]
     },
     "execution_count": 13,
     "metadata": {},
     "output_type": "execute_result"
    }
   ],
   "source": [
    "len(test_docs_list)"
   ]
  },
  {
   "cell_type": "markdown",
   "metadata": {},
   "source": [
    "# Utility Functions for data loading"
   ]
  },
  {
   "cell_type": "code",
   "execution_count": 14,
   "metadata": {
    "collapsed": true
   },
   "outputs": [],
   "source": [
    "class OneHotEncoder():\n",
    "    \n",
    "    def __init__(self, classifications):\n",
    "        self.classifications = classifications\n",
    "        self.one_hot_indices = {}\n",
    "\n",
    "        # convert character classifications to bit vectors\n",
    "        for i, clssf in enumerate(classifications):\n",
    "            bits = [0] * len(classifications)\n",
    "            bits[i] = 1\n",
    "            self.one_hot_indices[clssf] = i\n",
    "    \n",
    "    def get_label_vector(self, labels):\n",
    "        \"\"\"\n",
    "        classes: array of string with the classes assigned to the instance\n",
    "        \"\"\"\n",
    "        output_vector = [0] * len(self.classifications)\n",
    "        for label in labels:\n",
    "            index = self.one_hot_indices[label]\n",
    "            output_vector[index] = 1\n",
    "            \n",
    "        return output_vector\n",
    "    \n",
    "def ensure_disk_location_exists(location):\n",
    "    if not os.path.exists(location):\n",
    "        os.makedirs(location)"
   ]
  },
  {
   "cell_type": "code",
   "execution_count": 15,
   "metadata": {
    "collapsed": true
   },
   "outputs": [],
   "source": [
    "class FixedDocumentsStatsGenerator(object):\n",
    "    def __init__(self, filename_prefix):\n",
    "        self.filename_prefix = filename_prefix\n",
    "        self.docids = []\n",
    "        self.doc_parts = defaultdict(list)\n",
    "        self.doc_part_chunks = defaultdict(list)\n",
    "        self.curr_doc_index = 0\n",
    "        self.batch_end = -1\n",
    "    def load_new_batch_in_memory(self):\n",
    "        info(\"Loading new batch for index: {}\".format(self.curr_doc_index))\n",
    "        true_docs_count = 0\n",
    "        try:\n",
    "            with open(self.filename_prefix + str(self.curr_doc_index)) as preproc_file:\n",
    "                for line in preproc_file:\n",
    "                    line_array = line.split(\" \", 1)\n",
    "                    entity_id = line_array[0].strip()\n",
    "                    if self.is_doc(entity_id):\n",
    "                        self.docids.append(entity_id)\n",
    "                        true_docs_count+= 1\n",
    "                    elif self.is_doc_part(entity_id):\n",
    "                        self.doc_parts[self.get_doc_id(entity_id)].append(entity_id)\n",
    "                    elif self.is_doc_part_chunk(entity_id):\n",
    "                        self.doc_part_chunks[self.get_doc_id(entity_id)].append(entity_id)\n",
    "            self.batch_end = self.curr_doc_index + true_docs_count - 1 \n",
    "            info(\"Finished loading new batch of {} documents\".format(true_docs_count))\n",
    "        except IOError:\n",
    "            info(\"No more batches to load, exiting at index: {}\".format(self.curr_doc_index))\n",
    "            raise StopIteration()\n",
    "    def get_stats(self):\n",
    "        try:\n",
    "            while True:\n",
    "                if self.curr_doc_index > self.batch_end:\n",
    "                    self.load_new_batch_in_memory()\n",
    "                self.curr_doc_index = self.batch_end + 1\n",
    "        except StopIteration:\n",
    "            pass\n",
    "            \n",
    "    def get_doc_id(self, entity_id):\n",
    "        return entity_id.split(\"_\")[0]\n",
    "    def get_entity_parts(self, entity_id):\n",
    "        return entity_id.split(\"_\")\n",
    "    def is_doc(self, entity_id):\n",
    "        parts = self.get_entity_parts(entity_id)\n",
    "        if len(parts) == 1:\n",
    "            return True\n",
    "        return False\n",
    "    def is_doc_part(self, entity_id):\n",
    "        parts = self.get_entity_parts(entity_id)\n",
    "        if len(parts) == 2:\n",
    "            return True\n",
    "        return False\n",
    "    def is_doc_part_chunk(self, entity_id):\n",
    "        parts = self.get_entity_parts(entity_id)\n",
    "        if len(parts) == 3:\n",
    "            return True\n",
    "        return False"
   ]
  },
  {
   "cell_type": "code",
   "execution_count": 16,
   "metadata": {
    "collapsed": false
   },
   "outputs": [],
   "source": [
    "def get_doc_vector(entity_id):\n",
    "    if entity_id in doc2vec_model.docvecs:\n",
    "        if DOC2VEC_MMAP:\n",
    "            normal_array = []\n",
    "            normal_array[:] = doc2vec_model.docvecs[entity_id][:]\n",
    "            return normal_array\n",
    "        else:\n",
    "            return doc2vec_model.docvecs[entity_id]\n",
    "    else:\n",
    "        # some claims have low token count, so they cant fill out the whole 16 spots\n",
    "        return ZERO_VECTOR\n",
    "\n",
    "def data_generator(doc_stats, doc_id):\n",
    "    yield get_doc_vector(doc_id)\n",
    "    if PARTS_LEVEL >= LEVEL_DIVISIONS:\n",
    "        for part_id in doc_stats.doc_parts[doc_id]:\n",
    "            yield get_doc_vector(part_id)\n",
    "    if PARTS_LEVEL >= LEVEL_CHUNKS:\n",
    "        for part_id in doc_stats.doc_part_chunks[doc_id]:\n",
    "            yield get_doc_vector(part_id)\n",
    "    while True:\n",
    "        yield ZERO_VECTOR\n",
    "\n",
    "def validation_data_generator(doc_stats, validation_dict, doc_id):\n",
    "    yield validation_dict[doc_id]\n",
    "    if PARTS_LEVEL >= LEVEL_DIVISIONS:\n",
    "        for part_id in doc_stats.doc_parts[doc_id]:\n",
    "            yield validation_dict[part_id]\n",
    "    if PARTS_LEVEL >= LEVEL_CHUNKS:\n",
    "        for part_id in doc_stats.doc_part_chunks[doc_id]:\n",
    "            yield validation_dict[part_id]\n",
    "    while True:\n",
    "        yield ZERO_VECTOR\n",
    "        "
   ]
  },
  {
   "cell_type": "code",
   "execution_count": 17,
   "metadata": {
    "collapsed": true
   },
   "outputs": [],
   "source": [
    "def get_training_data(doc2vec_model, classifications, classifications_type, doc_stats, sequence_size, embedding_size):\n",
    "    \"\"\"\n",
    "    Creates or loads the X and y matrices used for training\n",
    "    \"\"\"\n",
    "    def get_training_y_labels():\n",
    "        \"\"\"\n",
    "        Creates or loads the y matrix used for training\n",
    "        \"\"\"\n",
    "        if not os.path.exists(os.path.join(doc2vec_model_save_location, GLOBAL_VARS.MODEL_NAME, \n",
    "                                       TRAINING_LABELS_MATRIX.format(classifications_type))):\n",
    "            info(\"Creating Training Labels\")\n",
    "            one_hot_encoder = OneHotEncoder(classifications)\n",
    "            classifications_set = set(classifications)\n",
    "            training_labels_mat = np.zeros((len(training_docs_list), len(classifications)), dtype=np.int8)\n",
    "            for i, doc_id in enumerate(training_docs_list):\n",
    "                eligible_classifications = set(doc_classification_map[doc_id]) & classifications_set\n",
    "                training_labels_mat[i][:] = one_hot_encoder.get_label_vector(eligible_classifications)\n",
    "        else:    \n",
    "            training_labels_mat = np.load(open(os.path.join(doc2vec_model_save_location, GLOBAL_VARS.MODEL_NAME, \n",
    "                                                            TRAINING_LABELS_MATRIX.format(classifications_type))))\n",
    "        return training_labels_mat\n",
    "\n",
    "    \n",
    "    \n",
    "    if not os.path.exists(os.path.join(doc2vec_model_save_location, GLOBAL_VARS.MODEL_NAME, \n",
    "                                       TRAINING_DATA_MATRIX.format(PARTS_LEVEL))):\n",
    "        info(\"Creating Training Data\")\n",
    "        one_hot_encoder = OneHotEncoder(classifications)\n",
    "        classifications_set = set(classifications)\n",
    "        # 1st level: document level\n",
    "        training_data = np.ndarray((len(training_docs_list), sequence_size, embedding_size), dtype=np.float32)\n",
    "        info(\"Training Data shape: {}\".format(training_data.shape))\n",
    "        training_labels_mat = np.zeros((len(training_docs_list), len(classifications)), dtype=np.int8)\n",
    "        for i, doc_id in enumerate(training_docs_list):\n",
    "            data_gen = data_generator(doc_stats, doc_id)\n",
    "            # 2nd level: constituents\n",
    "            for j in range(sequence_size):\n",
    "                #3rd level: feature vectors\n",
    "                training_data[i][j] = data_gen.next()\n",
    "            eligible_classifications = set(doc_classification_map[doc_id]) & classifications_set\n",
    "            training_labels_mat[i][:] = one_hot_encoder.get_label_vector(eligible_classifications)\n",
    "            if i % 10000 == 0:\n",
    "                info(\"Finished {} in training\".format(i))\n",
    "        \n",
    "        info(\"Saving Training Data to file...\")\n",
    "        np.save(open(os.path.join(doc2vec_model_save_location, GLOBAL_VARS.MODEL_NAME, \n",
    "                                  TRAINING_DATA_MATRIX.format(PARTS_LEVEL)), \"w\"), training_data)\n",
    "        np.save(open(os.path.join(doc2vec_model_save_location, GLOBAL_VARS.MODEL_NAME, \n",
    "                                  TRAINING_LABELS_MATRIX.format(classifications_type)), \"w\"), training_labels_mat)\n",
    "    else:\n",
    "        info(\"Loading Training Data from file\")\n",
    "        training_data = np.load(open(os.path.join(doc2vec_model_save_location, GLOBAL_VARS.MODEL_NAME, \n",
    "                                                  TRAINING_DATA_MATRIX.format(PARTS_LEVEL))))\n",
    "        training_labels_mat = get_training_y_labels()\n",
    "        \n",
    "    return training_data, training_labels_mat"
   ]
  },
  {
   "cell_type": "code",
   "execution_count": 18,
   "metadata": {
    "collapsed": true
   },
   "outputs": [],
   "source": [
    "def get_validation_data(validation_dict, classifications, classifications_type, doc_stats, sequence_size, embedding_size):\n",
    "    \"\"\"\n",
    "    Creates or loads the X and y matrices used for validation\n",
    "    \"\"\"\n",
    "    def get_validation_y_labels():\n",
    "        \"\"\"\n",
    "        Creates or loads the y matrix used for validation\n",
    "        \"\"\"\n",
    "        if not os.path.exists(os.path.join(doc2vec_model_save_location, GLOBAL_VARS.MODEL_NAME, \n",
    "                                       VALIDATION_LABELS_MATRIX.format(classifications_type))):\n",
    "            info(\"Creating Validation Labels\")\n",
    "            one_hot_encoder = OneHotEncoder(classifications)\n",
    "            classifications_set = set(classifications)\n",
    "            validation_labels_mat = np.zeros((len(validation_docs_list), len(classifications)), dtype=np.int8)\n",
    "            for i, doc_id in enumerate(validation_docs_list):\n",
    "                eligible_classifications = set(doc_classification_map[doc_id]) & classifications_set\n",
    "                validation_labels_mat[i][:] = one_hot_encoder.get_label_vector(eligible_classifications)\n",
    "        else:    \n",
    "            info(\"Loading Validation Labels\")\n",
    "            validation_labels_mat = np.load(open(os.path.join(doc2vec_model_save_location, GLOBAL_VARS.MODEL_NAME, \n",
    "                                                        VALIDATION_LABELS_MATRIX.format(classifications_type))))\n",
    "        return validation_labels_mat\n",
    "\n",
    "    \n",
    "    if not os.path.exists(os.path.join(doc2vec_model_save_location, GLOBAL_VARS.MODEL_NAME, \n",
    "                                       VALIDATION_DATA_MATRIX.format(PARTS_LEVEL))):\n",
    "        info(\"Creating Validation Data\")\n",
    "        one_hot_encoder = OneHotEncoder(classifications)\n",
    "        classifications_set = set(classifications)\n",
    "        # 1st level: document level\n",
    "        validation_data = np.ndarray((len(validation_docs_list), sequence_size, embedding_size), dtype=np.float32)\n",
    "        info(\"Validation Data shape: {}\".format(validation_data.shape))\n",
    "        validation_labels_mat = np.zeros((len(validation_docs_list), len(classifications)), dtype=np.int8)\n",
    "        for i, doc_id in enumerate(validation_docs_list):\n",
    "            data_gen = validation_data_generator(doc_stats, validation_dict, doc_id)\n",
    "            # 2nd level: constituents\n",
    "            for j in range(sequence_size):\n",
    "                #3d level: feature vectors\n",
    "                validation_data[i][j] = data_gen.next()\n",
    "            eligible_classifications = set(doc_classification_map[doc_id]) & classifications_set\n",
    "            validation_labels_mat[i][:] = one_hot_encoder.get_label_vector(eligible_classifications)\n",
    "            if i % 10000 == 0:\n",
    "                info(\"Finished {} in validation\".format(i))\n",
    "        \n",
    "        info(\"Saving Validation Data to file...\")\n",
    "        np.save(open(os.path.join(doc2vec_model_save_location, GLOBAL_VARS.MODEL_NAME, \n",
    "                                  VALIDATION_DATA_MATRIX.format(PARTS_LEVEL)), \"w\"), validation_data)\n",
    "        np.save(open(os.path.join(doc2vec_model_save_location, GLOBAL_VARS.MODEL_NAME, \n",
    "                                  VALIDATION_LABELS_MATRIX.format(classifications_type)), \"w\"), validation_labels_mat)\n",
    "    else:\n",
    "        info(\"Loading Validation Data from file\")\n",
    "        validation_data = np.load(open(os.path.join(doc2vec_model_save_location, GLOBAL_VARS.MODEL_NAME, \n",
    "                                                  VALIDATION_DATA_MATRIX.format(PARTS_LEVEL))))\n",
    "        validation_labels_mat = get_validation_y_labels()\n",
    "        \n",
    "    return validation_data, validation_labels_mat"
   ]
  },
  {
   "cell_type": "markdown",
   "metadata": {},
   "source": [
    "# Set what we want to train for (classification type and level)"
   ]
  },
  {
   "cell_type": "code",
   "execution_count": 19,
   "metadata": {
    "collapsed": true
   },
   "outputs": [],
   "source": [
    "classifications = sections\n",
    "classifications_type = 'sections'\n",
    "classifier_file = TYPE_CLASSIFIER.format(classifications_type)"
   ]
  },
  {
   "cell_type": "markdown",
   "metadata": {},
   "source": [
    "#### This is where we set which level we want to train for\n",
    "0 -> Use only the document vector  \n",
    "1 -> Use the document vector and the vectors for abstract, description, claims  \n",
    "2 -> Use the document vector and the vectors for abstract, description, claims plus the chunk vectors"
   ]
  },
  {
   "cell_type": "code",
   "execution_count": 20,
   "metadata": {
    "collapsed": true
   },
   "outputs": [],
   "source": [
    "LEVEL_DOC = 0\n",
    "LEVEL_DIVISIONS = 1\n",
    "LEVEL_CHUNKS = 2\n",
    "\n",
    "PARTS_LEVEL = LEVEL_CHUNKS"
   ]
  },
  {
   "cell_type": "markdown",
   "metadata": {},
   "source": [
    "# Load the Doc2vec model"
   ]
  },
  {
   "cell_type": "code",
   "execution_count": 21,
   "metadata": {
    "collapsed": true
   },
   "outputs": [],
   "source": [
    "DOC2VEC_SIZE = 200\n",
    "DOC2VEC_WINDOW = 2\n",
    "DOC2VEC_MAX_VOCAB_SIZE = None\n",
    "DOC2VEC_SAMPLE = 1e-3\n",
    "DOC2VEC_TYPE = 1\n",
    "DOC2VEC_HIERARCHICAL_SAMPLE = 0\n",
    "DOC2VEC_NEGATIVE_SAMPLE_SIZE = 10\n",
    "DOC2VEC_CONCAT = 0\n",
    "DOC2VEC_MEAN = 1\n",
    "DOC2VEC_TRAIN_WORDS = 0\n",
    "DOC2VEC_EPOCHS = 1 # we do our training manually one epoch at a time\n",
    "DOC2VEC_MAX_EPOCHS = 8\n",
    "REPORT_DELAY = 20 # report the progress every x seconds\n",
    "REPORT_VOCAB_PROGRESS = 100000 # report vocab progress every x documents\n",
    "\n",
    "DOC2VEC_MMAP = 'r'\n",
    "# DOC2VEC_MMAP = None\n",
    "\n",
    "ZERO_VECTOR = [0] * DOC2VEC_SIZE"
   ]
  },
  {
   "cell_type": "code",
   "execution_count": 22,
   "metadata": {
    "collapsed": false
   },
   "outputs": [
    {
     "name": "stdout",
     "output_type": "stream",
     "text": [
      "doc2vec_size_200_w_2_type_dm_concat_0_mean_1_trainwords_0_hs_0_neg_10_vocabsize_None/epoch_8\n"
     ]
    }
   ],
   "source": [
    "placeholder_model_name = 'doc2vec_size_{}_w_{}_type_{}_concat_{}_mean_{}_trainwords_{}_hs_{}_neg_{}_vocabsize_{}'.format(DOC2VEC_SIZE, \n",
    "                                                                DOC2VEC_WINDOW, \n",
    "                                                                'dm' if DOC2VEC_TYPE == 1 else 'pv-dbow',\n",
    "                                                                DOC2VEC_CONCAT, DOC2VEC_MEAN,\n",
    "                                                                DOC2VEC_TRAIN_WORDS,\n",
    "                                                                DOC2VEC_HIERARCHICAL_SAMPLE,DOC2VEC_NEGATIVE_SAMPLE_SIZE,\n",
    "                                                                str(DOC2VEC_MAX_VOCAB_SIZE))\n",
    "GLOBAL_VARS.DOC2VEC_MODEL_NAME = placeholder_model_name\n",
    "placeholder_model_name = os.path.join(placeholder_model_name, \"epoch_{}\")\n",
    "\n",
    "epoch = 8\n",
    "\n",
    "GLOBAL_VARS.MODEL_NAME = placeholder_model_name.format(epoch)\n",
    "doc2vec_model = None\n",
    "print GLOBAL_VARS.MODEL_NAME"
   ]
  },
  {
   "cell_type": "code",
   "execution_count": 46,
   "metadata": {
    "collapsed": false,
    "scrolled": false
   },
   "outputs": [
    {
     "name": "stderr",
     "output_type": "stream",
     "text": [
      "2017-03-27 00:34:15,442 : INFO : loading Doc2Vec object from /mnt/data/shalaby/parameter_search_doc2vec_models_extended_abs_desc_claims_large_sample_chunks/full/doc2vec_size_200_w_2_type_dm_concat_0_mean_1_trainwords_0_hs_0_neg_10_vocabsize_None/epoch_8/model\n"
     ]
    },
    {
     "name": "stdout",
     "output_type": "stream",
     "text": [
      "/mnt/data/shalaby/parameter_search_doc2vec_models_extended_abs_desc_claims_large_sample_chunks/full/doc2vec_size_200_w_2_type_dm_concat_0_mean_1_trainwords_0_hs_0_neg_10_vocabsize_None/epoch_8/model\n"
     ]
    },
    {
     "name": "stderr",
     "output_type": "stream",
     "text": [
      "2017-03-27 00:34:48,793 : INFO : loading docvecs recursively from /mnt/data/shalaby/parameter_search_doc2vec_models_extended_abs_desc_claims_large_sample_chunks/full/doc2vec_size_200_w_2_type_dm_concat_0_mean_1_trainwords_0_hs_0_neg_10_vocabsize_None/epoch_8/model.docvecs.* with mmap=r\n",
      "2017-03-27 00:34:48,794 : INFO : loading doctag_syn0 from /mnt/data/shalaby/parameter_search_doc2vec_models_extended_abs_desc_claims_large_sample_chunks/full/doc2vec_size_200_w_2_type_dm_concat_0_mean_1_trainwords_0_hs_0_neg_10_vocabsize_None/epoch_8/model.docvecs.doctag_syn0.npy with mmap=r\n",
      "2017-03-27 00:34:48,816 : INFO : loading syn1neg from /mnt/data/shalaby/parameter_search_doc2vec_models_extended_abs_desc_claims_large_sample_chunks/full/doc2vec_size_200_w_2_type_dm_concat_0_mean_1_trainwords_0_hs_0_neg_10_vocabsize_None/epoch_8/model.syn1neg.npy with mmap=r\n",
      "2017-03-27 00:34:48,836 : INFO : loading syn0 from /mnt/data/shalaby/parameter_search_doc2vec_models_extended_abs_desc_claims_large_sample_chunks/full/doc2vec_size_200_w_2_type_dm_concat_0_mean_1_trainwords_0_hs_0_neg_10_vocabsize_None/epoch_8/model.syn0.npy with mmap=r\n",
      "2017-03-27 00:34:48,848 : INFO : setting ignored attribute syn0norm to None\n",
      "2017-03-27 00:34:48,850 : INFO : setting ignored attribute cum_table to None\n"
     ]
    },
    {
     "name": "stdout",
     "output_type": "stream",
     "text": [
      "CPU times: user 25.4 s, sys: 5.77 s, total: 31.2 s\n",
      "Wall time: 34.1 s\n"
     ]
    }
   ],
   "source": [
    "%%time\n",
    "print os.path.join(doc2vec_model_save_location, GLOBAL_VARS.MODEL_NAME, MODEL_PREFIX)\n",
    "if os.path.exists(os.path.join(doc2vec_model_save_location, GLOBAL_VARS.MODEL_NAME, MODEL_PREFIX)):\n",
    "    doc2vec_model = Doc2Vec.load(os.path.join(doc2vec_model_save_location, GLOBAL_VARS.MODEL_NAME, MODEL_PREFIX), mmap=DOC2VEC_MMAP)\n",
    "    doc2vec_model.workers = NUM_CORES\n",
    "    GLOBAL_VARS.DOC2VEC_MODEL = doc2vec_model\n",
    "else:\n",
    "    info(\"Couldnt find the doc2vec model with epoch {}\".format(epoch))\n",
    "    raise Exception()"
   ]
  },
  {
   "cell_type": "code",
   "execution_count": 23,
   "metadata": {
    "collapsed": true
   },
   "outputs": [],
   "source": [
    "training_doc_stats_file = os.path.join(doc2vec_model_save_location, GLOBAL_VARS.MODEL_NAME, \"extended_pv_training_doc_stats.pkl\")\n",
    "validation_doc_stats_file = os.path.join(doc2vec_model_save_location, GLOBAL_VARS.MODEL_NAME, \"extended_pv_validation_doc_stats.pkl\")"
   ]
  },
  {
   "cell_type": "markdown",
   "metadata": {},
   "source": [
    "# Get the Data to use for Training"
   ]
  },
  {
   "cell_type": "markdown",
   "metadata": {},
   "source": [
    "#### Create/Load Training Document Stats \n",
    "these contain references to the ids of the parts of each document \n",
    "\n",
    "(ex. 059884 -> [\"059884_abstract\", \"059884_abstract\", \"059884_abstract\", \"059884_abstract_part-1\",...]) \n",
    "\n",
    "so we know what to load when constructing the training and validation matrices"
   ]
  },
  {
   "cell_type": "code",
   "execution_count": 24,
   "metadata": {
    "collapsed": false,
    "scrolled": false
   },
   "outputs": [
    {
     "name": "stderr",
     "output_type": "stream",
     "text": [
      "2017-03-27 08:04:36,036 : INFO : Loading Training Document Stats\n"
     ]
    },
    {
     "name": "stdout",
     "output_type": "stream",
     "text": [
      "CPU times: user 17.3 s, sys: 1.15 s, total: 18.5 s\n",
      "Wall time: 18.6 s\n"
     ]
    }
   ],
   "source": [
    "%%time\n",
    "if not os.path.exists(training_doc_stats_file):\n",
    "    info(\"Creating Training Document Stats\")\n",
    "    doc_stats = FixedDocumentsStatsGenerator(training_preprocessed_files_prefix)\n",
    "    doc_stats.get_stats()\n",
    "    pickle.dump(doc_stats, open(training_doc_stats_file, \"w\"))\n",
    "else:\n",
    "    info(\"Loading Training Document Stats\")\n",
    "    doc_stats = pickle.load(open(training_doc_stats_file, \"r\"))"
   ]
  },
  {
   "cell_type": "markdown",
   "metadata": {},
   "source": [
    "### For MAX_PARTS_CHUNKS, use second line if paragraphs, use first line if chunks"
   ]
  },
  {
   "cell_type": "code",
   "execution_count": 25,
   "metadata": {
    "collapsed": false
   },
   "outputs": [
    {
     "name": "stdout",
     "output_type": "stream",
     "text": [
      "Max Size: 34\n"
     ]
    }
   ],
   "source": [
    "MAX_SIZE = 1 # for document vector\n",
    "if PARTS_LEVEL >= LEVEL_DIVISIONS:\n",
    "    MAX_PARTS = int(np.max([len(doc_stats.doc_parts[d]) for d in doc_stats.docids]))\n",
    "    MAX_SIZE += MAX_PARTS\n",
    "\n",
    "if PARTS_LEVEL >= LEVEL_CHUNKS:\n",
    "    # MAX_PART_CHUNKS = int(np.max([len(doc_stats.doc_part_chunks[d]) for d in doc_stats.docids]))\n",
    "    MAX_PART_CHUNKS = int(np.percentile([len(doc_stats.doc_part_chunks[d]) for d in doc_stats.docids], 90))\n",
    "    MAX_SIZE += MAX_PART_CHUNKS\n",
    "    \n",
    "print \"Max Size: {}\".format(MAX_SIZE)"
   ]
  },
  {
   "cell_type": "markdown",
   "metadata": {},
   "source": [
    "#### Get Training Data Matrices"
   ]
  },
  {
   "cell_type": "code",
   "execution_count": 26,
   "metadata": {
    "collapsed": false
   },
   "outputs": [
    {
     "name": "stderr",
     "output_type": "stream",
     "text": [
      "2017-03-27 08:04:54,960 : INFO : Loading Training Data from file\n"
     ]
    },
    {
     "name": "stdout",
     "output_type": "stream",
     "text": [
      "CPU times: user 128 ms, sys: 9.99 s, total: 10.1 s\n",
      "Wall time: 36.2 s\n"
     ]
    }
   ],
   "source": [
    "%%time\n",
    "X, y = get_training_data(doc2vec_model, classifications, classifications_type, doc_stats, MAX_SIZE, DOC2VEC_SIZE)"
   ]
  },
  {
   "cell_type": "code",
   "execution_count": 27,
   "metadata": {
    "collapsed": false
   },
   "outputs": [
    {
     "name": "stdout",
     "output_type": "stream",
     "text": [
      "6929662528\n",
      "(254767, 34, 200)\n",
      "(254767, 8)\n"
     ]
    }
   ],
   "source": [
    "import sys\n",
    "print sys.getsizeof(X)\n",
    "print X.shape\n",
    "print y.shape"
   ]
  },
  {
   "cell_type": "markdown",
   "metadata": {},
   "source": [
    "#### Create/Load Validation Doc Stats"
   ]
  },
  {
   "cell_type": "code",
   "execution_count": 28,
   "metadata": {
    "collapsed": true
   },
   "outputs": [],
   "source": [
    "validation_dict = None"
   ]
  },
  {
   "cell_type": "markdown",
   "metadata": {},
   "source": [
    "Load Validation Dict. This is the dictionary that contains the precomputed doc2vec vectors for each document, document part and chunk"
   ]
  },
  {
   "cell_type": "code",
   "execution_count": 30,
   "metadata": {
    "collapsed": false
   },
   "outputs": [
    {
     "name": "stdout",
     "output_type": "stream",
     "text": [
      "CPU times: user 2min 57s, sys: 5.77 s, total: 3min 3s\n",
      "Wall time: 3min 5s\n"
     ]
    }
   ],
   "source": [
    "%%time\n",
    "validation_dict = pickle.load(open(os.path.join(doc2vec_model_save_location, GLOBAL_VARS.MODEL_NAME, VALIDATION_DICT)))"
   ]
  },
  {
   "cell_type": "code",
   "execution_count": null,
   "metadata": {
    "collapsed": false
   },
   "outputs": [],
   "source": [
    "len(validation_dict)"
   ]
  },
  {
   "cell_type": "code",
   "execution_count": 29,
   "metadata": {
    "collapsed": false
   },
   "outputs": [
    {
     "name": "stderr",
     "output_type": "stream",
     "text": [
      "2017-03-27 08:05:31,173 : INFO : Loading Validation Document Stats\n"
     ]
    },
    {
     "name": "stdout",
     "output_type": "stream",
     "text": [
      "CPU times: user 3.71 s, sys: 452 ms, total: 4.16 s\n",
      "Wall time: 4.15 s\n"
     ]
    }
   ],
   "source": [
    "%%time\n",
    "if not os.path.exists(validation_doc_stats_file):\n",
    "    validation_doc_stats = FixedDocumentsStatsGenerator(validation_preprocessed_files_prefix)\n",
    "    validation_doc_stats.get_stats()\n",
    "    pickle.dump(validation_doc_stats, open(validation_doc_stats_file, \"w\"))\n",
    "else:\n",
    "    info(\"Loading Validation Document Stats\")\n",
    "    validation_doc_stats = pickle.load(open(validation_doc_stats_file, \"r\"))"
   ]
  },
  {
   "cell_type": "markdown",
   "metadata": {},
   "source": [
    "#### Get Validation Data Matrices"
   ]
  },
  {
   "cell_type": "code",
   "execution_count": 30,
   "metadata": {
    "collapsed": false
   },
   "outputs": [
    {
     "name": "stderr",
     "output_type": "stream",
     "text": [
      "2017-03-27 08:05:35,331 : INFO : Loading Validation Data from file\n",
      "2017-03-27 08:05:38,483 : INFO : Loading Validation Labels\n"
     ]
    },
    {
     "name": "stdout",
     "output_type": "stream",
     "text": [
      "CPU times: user 0 ns, sys: 3.16 s, total: 3.16 s\n",
      "Wall time: 3.15 s\n"
     ]
    }
   ],
   "source": [
    "%%time\n",
    "Xv, yv = get_validation_data(validation_dict, classifications, classifications_type, validation_doc_stats, \n",
    "                             MAX_SIZE, DOC2VEC_SIZE)"
   ]
  },
  {
   "cell_type": "code",
   "execution_count": 31,
   "metadata": {
    "collapsed": true
   },
   "outputs": [],
   "source": [
    "del validation_dict"
   ]
  },
  {
   "cell_type": "code",
   "execution_count": 32,
   "metadata": {
    "collapsed": false
   },
   "outputs": [
    {
     "name": "stdout",
     "output_type": "stream",
     "text": [
      "(60957, 34, 200)\n",
      "(60957, 8)\n"
     ]
    }
   ],
   "source": [
    "print Xv.shape\n",
    "print yv.shape"
   ]
  },
  {
   "cell_type": "markdown",
   "metadata": {},
   "source": [
    "# LSTM Parameters and training functions"
   ]
  },
  {
   "cell_type": "code",
   "execution_count": 33,
   "metadata": {
    "collapsed": true
   },
   "outputs": [],
   "source": [
    "def create_keras_rnn_model(input_size, output_size, lstm_output_size, w_dropout_do, u_dropout_do, \n",
    "                           stack_layers=1, conv_size=None):\n",
    "    \n",
    "    model= Sequential()\n",
    "#     model.add(Masking(mask_value=0., input_shape=(MAX_SIZE, input_size)))\n",
    "    if conv_size:\n",
    "        model.add(Convolution1D(nb_filter=conv_size, input_shape=(MAX_SIZE, input_size), filter_length=3, \n",
    "                                border_mode='same', activation='relu'))\n",
    "        model.add(MaxPooling1D(pool_length=2))\n",
    "    for i in range(stack_layers):\n",
    "        model.add(LSTM(lstm_output_size, input_dim=input_size, dropout_W=w_dropout_do, dropout_U=u_dropout_do,\n",
    "                       return_sequences=False if i+1 == stack_layers else True,\n",
    "                  name='lstm_{}_u-drop_{}_w-drop_{}_layer_{}'.format(lstm_output_size, str(u_dropout_do), str(w_dropout_do), str(i+1))))\n",
    "    model.add(Dense(output_size, activation='sigmoid', name='sigmoid_output'))\n",
    "    model.compile(optimizer=NN_OPTIMIZER, loss='binary_crossentropy')\n",
    "    return model"
   ]
  },
  {
   "cell_type": "code",
   "execution_count": 43,
   "metadata": {
    "collapsed": true
   },
   "outputs": [],
   "source": [
    "# minimum change in val_loss from previous epoch to register as a decrease\n",
    "early_stopper_deltas = {\n",
    "    'sections': 0.00001,\n",
    "    'classes': 0.00001,\n",
    "    'subclasses': 0.00001\n",
    "}\n",
    "# how many epochs to wait when there is no decrease in val_loss before early stopping\n",
    "early_stopper_patience = {\n",
    "    'sections': 15,\n",
    "    'classes': 15,\n",
    "    'subclasses': 15\n",
    "}\n",
    "# number of epochs after which we do periodic evaluation of validation metrics\n",
    "epochs_before_validation = {\n",
    "    'sections': 10,\n",
    "    'classes': 20,\n",
    "    'subclasses': 20\n",
    "}\n",
    "# ranges for learning graph shown\n",
    "metrics_graph_ranges = {\n",
    "    'sections': {'min':0, 'max': 0.5},\n",
    "    'classes': {'min':0, 'max': 0.05},\n",
    "    'subclasses': {'min':0, 'max': 0.05}\n",
    "}"
   ]
  },
  {
   "cell_type": "code",
   "execution_count": 44,
   "metadata": {
    "collapsed": true
   },
   "outputs": [],
   "source": [
    "class MetricsCallback(keras.callbacks.Callback):\n",
    "    \"\"\"\n",
    "    Callback called by keras after each epoch. Records the best validation loss and periodically checks the \n",
    "    validation metrics\n",
    "    \"\"\"\n",
    "    EPOCHS_BEFORE_VALIDATION = epochs_before_validation[classifications_type]\n",
    "    GRAPH_MIN = metrics_graph_ranges[classifications_type]['min']\n",
    "    GRAPH_MAX = metrics_graph_ranges[classifications_type]['max']\n",
    "    \n",
    "    def on_train_begin(self, logs={}):\n",
    "        self.epoch_index = 0\n",
    "        self.val_loss_reductions = 0\n",
    "        self.metrics_dict = {}\n",
    "        self.best_val_loss = np.iinfo(np.int32).max\n",
    "        self.best_weights = None\n",
    "        self.best_validation_metrics = None\n",
    "        \n",
    "        self.losses = []\n",
    "        self.val_losses = []\n",
    "        self.fig = plt.figure(figsize=(12,6), dpi=80)\n",
    "        self.ax = plt.subplot(111)\n",
    "    def on_epoch_end(self, epoch, logs={}):\n",
    "        self.epoch_index += 1\n",
    "        self.losses.append(logs['loss'])\n",
    "        self.val_losses.append(logs['val_loss'])\n",
    "        loss_line, = self.ax.plot(range(1,self.epoch_index+1), self.losses, 'g-', label='Training Loss')\n",
    "        val_loss_line, = self.ax.plot(range(1,self.epoch_index+1), self.val_losses, 'r-', label='Validation Loss')\n",
    "        self.ax.legend(handles=[loss_line, val_loss_line])\n",
    "        self.ax.set_ylim((MetricsCallback.GRAPH_MIN, MetricsCallback.GRAPH_MAX))\n",
    "        self.fig.canvas.draw()\n",
    "        if logs['val_loss'] < self.best_val_loss:\n",
    "            self.val_loss_reductions += 1\n",
    "            self.best_val_loss = logs['val_loss']\n",
    "            self.best_weights = self.model.get_weights()\n",
    "            #print '\\r    \\r' # to remove the previous line of verbose output of model fit\n",
    "            #time.sleep(0.1)\n",
    "            info('Found lower val loss for epoch {} => {}'.format(self.epoch_index, round(logs['val_loss'], 5)))\n",
    "            if self.val_loss_reductions % MetricsCallback.EPOCHS_BEFORE_VALIDATION == 0:\n",
    "                \n",
    "                info('Validation Loss Reduced {} times'.format(self.val_loss_reductions))\n",
    "                info('Evaluating on Validation Data')\n",
    "                yvp = self.model.predict(Xv)\n",
    "                yvp_binary = get_binary_0_5(yvp)\n",
    "                info('Generating Validation Metrics')\n",
    "                validation_metrics = get_metrics(yv, yvp, yvp_binary)\n",
    "                print \"****** Validation Metrics: Cov Err: {:.3f} | Top 3: {:.3f} | Top 5: {:.3f} | F1 Micro: {:.3f} | F1 Macro: {:.3f}\".format(\n",
    "                    validation_metrics['coverage_error'], validation_metrics['top_3'], validation_metrics['top_5'], \n",
    "                    validation_metrics['f1_micro'], validation_metrics['f1_macro'])\n",
    "                self.metrics_dict[self.epoch_index] = validation_metrics\n",
    "#                 self.best_validation_metrics = validation_metrics"
   ]
  },
  {
   "cell_type": "markdown",
   "metadata": {},
   "source": [
    "#### Parameters for LSTM"
   ]
  },
  {
   "cell_type": "code",
   "execution_count": 45,
   "metadata": {
    "collapsed": false
   },
   "outputs": [],
   "source": [
    "NN_OUTPUT_NEURONS = len(classifications)\n",
    "\n",
    "EARLY_STOPPER_MIN_DELTA = early_stopper_deltas[classifications_type]\n",
    "EARLY_STOPPER_PATIENCE = early_stopper_patience[classifications_type]\n",
    "\n",
    "NN_MAX_EPOCHS = 200\n",
    "NN_RANDOM_SEARCH_BUDGET = 20\n",
    "NN_PARAM_SAMPLE_SEED = 1234\n",
    "\n",
    "NN_BATCH_SIZE = 1024\n",
    "\n",
    "MODEL_VERBOSITY = 1\n",
    "\n",
    "NN_OPTIMIZER = 'rmsprop'\n",
    "# NN_OPTIMIZER = 'adam'\n",
    "\n",
    "to_skip = []\n",
    "\n",
    "load_existing_results = True\n",
    "save_results = True\n",
    "\n",
    "# parameters to use when doing random hyperparameter search\n",
    "lstm_output_sizes = [200,500,1000]\n",
    "w_dropout_options = [None, 0.2, 0.5]\n",
    "u_dropout_options = [None, 0.2, 0.5]\n",
    "stack_layers_options = [1,2]\n",
    "conv_size_options = [None]\n",
    "\n",
    "\n",
    "# Uncomment for Specific Configuration\n",
    "NN_RANDOM_SEARCH_BUDGET = 1\n",
    "lstm_output_sizes = [1000]\n",
    "w_dropout_options = [0.5]\n",
    "u_dropout_options = [0.5]\n",
    "stack_layers_options = [1]\n",
    "conv_size_options = [None]\n",
    "\n",
    "np.random.seed(NN_SEED)"
   ]
  },
  {
   "cell_type": "markdown",
   "metadata": {},
   "source": [
    "# Actual Training"
   ]
  },
  {
   "cell_type": "code",
   "execution_count": 46,
   "metadata": {
    "collapsed": false
   },
   "outputs": [
    {
     "name": "stderr",
     "output_type": "stream",
     "text": [
      "2017-03-27 17:30:15,594 : INFO : Loading Previous results from /mnt/data2/shalaby/nn_parameter_search_extended_abs_desc_claims_large_sample_chunks/doc2vec_size_200_w_2_type_dm_concat_0_mean_1_trainwords_0_hs_0_neg_10_vocabsize_None/epoch_8/lstm_sections_level_2_batch_1024_nn_parameter_searches.pkl\n",
      "2017-03-27 17:30:16,329 : INFO : ***************************************************************************************\n",
      "2017-03-27 17:30:16,331 : INFO : lstm_optimizer_rmsprop_size_1000_w-drop_0.5_u-drop_0.5_stack_1_conv_None\n"
     ]
    },
    {
     "name": "stdout",
     "output_type": "stream",
     "text": [
      "____________________________________________________________________________________________________\n",
      "Layer (type)                     Output Shape          Param #     Connected to                     \n",
      "====================================================================================================\n",
      "lstm_1000_u-drop_0.5_w-drop_0.5_ (None, 1000)          4804000     lstm_input_4[0][0]               \n",
      "____________________________________________________________________________________________________\n",
      "sigmoid_output (Dense)           (None, 8)             8008        lstm_1000_u-drop_0.5_w-drop_0.5_l\n",
      "====================================================================================================\n",
      "Total params: 4812008\n",
      "____________________________________________________________________________________________________\n",
      "Train on 254767 samples, validate on 60957 samples\n"
     ]
    },
    {
     "data": {
      "application/javascript": [
       "/* Put everything inside the global mpl namespace */\n",
       "window.mpl = {};\n",
       "\n",
       "mpl.get_websocket_type = function() {\n",
       "    if (typeof(WebSocket) !== 'undefined') {\n",
       "        return WebSocket;\n",
       "    } else if (typeof(MozWebSocket) !== 'undefined') {\n",
       "        return MozWebSocket;\n",
       "    } else {\n",
       "        alert('Your browser does not have WebSocket support.' +\n",
       "              'Please try Chrome, Safari or Firefox ≥ 6. ' +\n",
       "              'Firefox 4 and 5 are also supported but you ' +\n",
       "              'have to enable WebSockets in about:config.');\n",
       "    };\n",
       "}\n",
       "\n",
       "mpl.figure = function(figure_id, websocket, ondownload, parent_element) {\n",
       "    this.id = figure_id;\n",
       "\n",
       "    this.ws = websocket;\n",
       "\n",
       "    this.supports_binary = (this.ws.binaryType != undefined);\n",
       "\n",
       "    if (!this.supports_binary) {\n",
       "        var warnings = document.getElementById(\"mpl-warnings\");\n",
       "        if (warnings) {\n",
       "            warnings.style.display = 'block';\n",
       "            warnings.textContent = (\n",
       "                \"This browser does not support binary websocket messages. \" +\n",
       "                    \"Performance may be slow.\");\n",
       "        }\n",
       "    }\n",
       "\n",
       "    this.imageObj = new Image();\n",
       "\n",
       "    this.context = undefined;\n",
       "    this.message = undefined;\n",
       "    this.canvas = undefined;\n",
       "    this.rubberband_canvas = undefined;\n",
       "    this.rubberband_context = undefined;\n",
       "    this.format_dropdown = undefined;\n",
       "\n",
       "    this.image_mode = 'full';\n",
       "\n",
       "    this.root = $('<div/>');\n",
       "    this._root_extra_style(this.root)\n",
       "    this.root.attr('style', 'display: inline-block');\n",
       "\n",
       "    $(parent_element).append(this.root);\n",
       "\n",
       "    this._init_header(this);\n",
       "    this._init_canvas(this);\n",
       "    this._init_toolbar(this);\n",
       "\n",
       "    var fig = this;\n",
       "\n",
       "    this.waiting = false;\n",
       "\n",
       "    this.ws.onopen =  function () {\n",
       "            fig.send_message(\"supports_binary\", {value: fig.supports_binary});\n",
       "            fig.send_message(\"send_image_mode\", {});\n",
       "            fig.send_message(\"refresh\", {});\n",
       "        }\n",
       "\n",
       "    this.imageObj.onload = function() {\n",
       "            if (fig.image_mode == 'full') {\n",
       "                // Full images could contain transparency (where diff images\n",
       "                // almost always do), so we need to clear the canvas so that\n",
       "                // there is no ghosting.\n",
       "                fig.context.clearRect(0, 0, fig.canvas.width, fig.canvas.height);\n",
       "            }\n",
       "            fig.context.drawImage(fig.imageObj, 0, 0);\n",
       "        };\n",
       "\n",
       "    this.imageObj.onunload = function() {\n",
       "        this.ws.close();\n",
       "    }\n",
       "\n",
       "    this.ws.onmessage = this._make_on_message_function(this);\n",
       "\n",
       "    this.ondownload = ondownload;\n",
       "}\n",
       "\n",
       "mpl.figure.prototype._init_header = function() {\n",
       "    var titlebar = $(\n",
       "        '<div class=\"ui-dialog-titlebar ui-widget-header ui-corner-all ' +\n",
       "        'ui-helper-clearfix\"/>');\n",
       "    var titletext = $(\n",
       "        '<div class=\"ui-dialog-title\" style=\"width: 100%; ' +\n",
       "        'text-align: center; padding: 3px;\"/>');\n",
       "    titlebar.append(titletext)\n",
       "    this.root.append(titlebar);\n",
       "    this.header = titletext[0];\n",
       "}\n",
       "\n",
       "\n",
       "\n",
       "mpl.figure.prototype._canvas_extra_style = function(canvas_div) {\n",
       "\n",
       "}\n",
       "\n",
       "\n",
       "mpl.figure.prototype._root_extra_style = function(canvas_div) {\n",
       "\n",
       "}\n",
       "\n",
       "mpl.figure.prototype._init_canvas = function() {\n",
       "    var fig = this;\n",
       "\n",
       "    var canvas_div = $('<div/>');\n",
       "\n",
       "    canvas_div.attr('style', 'position: relative; clear: both; outline: 0');\n",
       "\n",
       "    function canvas_keyboard_event(event) {\n",
       "        return fig.key_event(event, event['data']);\n",
       "    }\n",
       "\n",
       "    canvas_div.keydown('key_press', canvas_keyboard_event);\n",
       "    canvas_div.keyup('key_release', canvas_keyboard_event);\n",
       "    this.canvas_div = canvas_div\n",
       "    this._canvas_extra_style(canvas_div)\n",
       "    this.root.append(canvas_div);\n",
       "\n",
       "    var canvas = $('<canvas/>');\n",
       "    canvas.addClass('mpl-canvas');\n",
       "    canvas.attr('style', \"left: 0; top: 0; z-index: 0; outline: 0\")\n",
       "\n",
       "    this.canvas = canvas[0];\n",
       "    this.context = canvas[0].getContext(\"2d\");\n",
       "\n",
       "    var rubberband = $('<canvas/>');\n",
       "    rubberband.attr('style', \"position: absolute; left: 0; top: 0; z-index: 1;\")\n",
       "\n",
       "    var pass_mouse_events = true;\n",
       "\n",
       "    canvas_div.resizable({\n",
       "        start: function(event, ui) {\n",
       "            pass_mouse_events = false;\n",
       "        },\n",
       "        resize: function(event, ui) {\n",
       "            fig.request_resize(ui.size.width, ui.size.height);\n",
       "        },\n",
       "        stop: function(event, ui) {\n",
       "            pass_mouse_events = true;\n",
       "            fig.request_resize(ui.size.width, ui.size.height);\n",
       "        },\n",
       "    });\n",
       "\n",
       "    function mouse_event_fn(event) {\n",
       "        if (pass_mouse_events)\n",
       "            return fig.mouse_event(event, event['data']);\n",
       "    }\n",
       "\n",
       "    rubberband.mousedown('button_press', mouse_event_fn);\n",
       "    rubberband.mouseup('button_release', mouse_event_fn);\n",
       "    // Throttle sequential mouse events to 1 every 20ms.\n",
       "    rubberband.mousemove('motion_notify', mouse_event_fn);\n",
       "\n",
       "    rubberband.mouseenter('figure_enter', mouse_event_fn);\n",
       "    rubberband.mouseleave('figure_leave', mouse_event_fn);\n",
       "\n",
       "    canvas_div.on(\"wheel\", function (event) {\n",
       "        event = event.originalEvent;\n",
       "        event['data'] = 'scroll'\n",
       "        if (event.deltaY < 0) {\n",
       "            event.step = 1;\n",
       "        } else {\n",
       "            event.step = -1;\n",
       "        }\n",
       "        mouse_event_fn(event);\n",
       "    });\n",
       "\n",
       "    canvas_div.append(canvas);\n",
       "    canvas_div.append(rubberband);\n",
       "\n",
       "    this.rubberband = rubberband;\n",
       "    this.rubberband_canvas = rubberband[0];\n",
       "    this.rubberband_context = rubberband[0].getContext(\"2d\");\n",
       "    this.rubberband_context.strokeStyle = \"#000000\";\n",
       "\n",
       "    this._resize_canvas = function(width, height) {\n",
       "        // Keep the size of the canvas, canvas container, and rubber band\n",
       "        // canvas in synch.\n",
       "        canvas_div.css('width', width)\n",
       "        canvas_div.css('height', height)\n",
       "\n",
       "        canvas.attr('width', width);\n",
       "        canvas.attr('height', height);\n",
       "\n",
       "        rubberband.attr('width', width);\n",
       "        rubberband.attr('height', height);\n",
       "    }\n",
       "\n",
       "    // Set the figure to an initial 600x600px, this will subsequently be updated\n",
       "    // upon first draw.\n",
       "    this._resize_canvas(600, 600);\n",
       "\n",
       "    // Disable right mouse context menu.\n",
       "    $(this.rubberband_canvas).bind(\"contextmenu\",function(e){\n",
       "        return false;\n",
       "    });\n",
       "\n",
       "    function set_focus () {\n",
       "        canvas.focus();\n",
       "        canvas_div.focus();\n",
       "    }\n",
       "\n",
       "    window.setTimeout(set_focus, 100);\n",
       "}\n",
       "\n",
       "mpl.figure.prototype._init_toolbar = function() {\n",
       "    var fig = this;\n",
       "\n",
       "    var nav_element = $('<div/>')\n",
       "    nav_element.attr('style', 'width: 100%');\n",
       "    this.root.append(nav_element);\n",
       "\n",
       "    // Define a callback function for later on.\n",
       "    function toolbar_event(event) {\n",
       "        return fig.toolbar_button_onclick(event['data']);\n",
       "    }\n",
       "    function toolbar_mouse_event(event) {\n",
       "        return fig.toolbar_button_onmouseover(event['data']);\n",
       "    }\n",
       "\n",
       "    for(var toolbar_ind in mpl.toolbar_items) {\n",
       "        var name = mpl.toolbar_items[toolbar_ind][0];\n",
       "        var tooltip = mpl.toolbar_items[toolbar_ind][1];\n",
       "        var image = mpl.toolbar_items[toolbar_ind][2];\n",
       "        var method_name = mpl.toolbar_items[toolbar_ind][3];\n",
       "\n",
       "        if (!name) {\n",
       "            // put a spacer in here.\n",
       "            continue;\n",
       "        }\n",
       "        var button = $('<button/>');\n",
       "        button.addClass('ui-button ui-widget ui-state-default ui-corner-all ' +\n",
       "                        'ui-button-icon-only');\n",
       "        button.attr('role', 'button');\n",
       "        button.attr('aria-disabled', 'false');\n",
       "        button.click(method_name, toolbar_event);\n",
       "        button.mouseover(tooltip, toolbar_mouse_event);\n",
       "\n",
       "        var icon_img = $('<span/>');\n",
       "        icon_img.addClass('ui-button-icon-primary ui-icon');\n",
       "        icon_img.addClass(image);\n",
       "        icon_img.addClass('ui-corner-all');\n",
       "\n",
       "        var tooltip_span = $('<span/>');\n",
       "        tooltip_span.addClass('ui-button-text');\n",
       "        tooltip_span.html(tooltip);\n",
       "\n",
       "        button.append(icon_img);\n",
       "        button.append(tooltip_span);\n",
       "\n",
       "        nav_element.append(button);\n",
       "    }\n",
       "\n",
       "    var fmt_picker_span = $('<span/>');\n",
       "\n",
       "    var fmt_picker = $('<select/>');\n",
       "    fmt_picker.addClass('mpl-toolbar-option ui-widget ui-widget-content');\n",
       "    fmt_picker_span.append(fmt_picker);\n",
       "    nav_element.append(fmt_picker_span);\n",
       "    this.format_dropdown = fmt_picker[0];\n",
       "\n",
       "    for (var ind in mpl.extensions) {\n",
       "        var fmt = mpl.extensions[ind];\n",
       "        var option = $(\n",
       "            '<option/>', {selected: fmt === mpl.default_extension}).html(fmt);\n",
       "        fmt_picker.append(option)\n",
       "    }\n",
       "\n",
       "    // Add hover states to the ui-buttons\n",
       "    $( \".ui-button\" ).hover(\n",
       "        function() { $(this).addClass(\"ui-state-hover\");},\n",
       "        function() { $(this).removeClass(\"ui-state-hover\");}\n",
       "    );\n",
       "\n",
       "    var status_bar = $('<span class=\"mpl-message\"/>');\n",
       "    nav_element.append(status_bar);\n",
       "    this.message = status_bar[0];\n",
       "}\n",
       "\n",
       "mpl.figure.prototype.request_resize = function(x_pixels, y_pixels) {\n",
       "    // Request matplotlib to resize the figure. Matplotlib will then trigger a resize in the client,\n",
       "    // which will in turn request a refresh of the image.\n",
       "    this.send_message('resize', {'width': x_pixels, 'height': y_pixels});\n",
       "}\n",
       "\n",
       "mpl.figure.prototype.send_message = function(type, properties) {\n",
       "    properties['type'] = type;\n",
       "    properties['figure_id'] = this.id;\n",
       "    this.ws.send(JSON.stringify(properties));\n",
       "}\n",
       "\n",
       "mpl.figure.prototype.send_draw_message = function() {\n",
       "    if (!this.waiting) {\n",
       "        this.waiting = true;\n",
       "        this.ws.send(JSON.stringify({type: \"draw\", figure_id: this.id}));\n",
       "    }\n",
       "}\n",
       "\n",
       "\n",
       "mpl.figure.prototype.handle_save = function(fig, msg) {\n",
       "    var format_dropdown = fig.format_dropdown;\n",
       "    var format = format_dropdown.options[format_dropdown.selectedIndex].value;\n",
       "    fig.ondownload(fig, format);\n",
       "}\n",
       "\n",
       "\n",
       "mpl.figure.prototype.handle_resize = function(fig, msg) {\n",
       "    var size = msg['size'];\n",
       "    if (size[0] != fig.canvas.width || size[1] != fig.canvas.height) {\n",
       "        fig._resize_canvas(size[0], size[1]);\n",
       "        fig.send_message(\"refresh\", {});\n",
       "    };\n",
       "}\n",
       "\n",
       "mpl.figure.prototype.handle_rubberband = function(fig, msg) {\n",
       "    var x0 = msg['x0'];\n",
       "    var y0 = fig.canvas.height - msg['y0'];\n",
       "    var x1 = msg['x1'];\n",
       "    var y1 = fig.canvas.height - msg['y1'];\n",
       "    x0 = Math.floor(x0) + 0.5;\n",
       "    y0 = Math.floor(y0) + 0.5;\n",
       "    x1 = Math.floor(x1) + 0.5;\n",
       "    y1 = Math.floor(y1) + 0.5;\n",
       "    var min_x = Math.min(x0, x1);\n",
       "    var min_y = Math.min(y0, y1);\n",
       "    var width = Math.abs(x1 - x0);\n",
       "    var height = Math.abs(y1 - y0);\n",
       "\n",
       "    fig.rubberband_context.clearRect(\n",
       "        0, 0, fig.canvas.width, fig.canvas.height);\n",
       "\n",
       "    fig.rubberband_context.strokeRect(min_x, min_y, width, height);\n",
       "}\n",
       "\n",
       "mpl.figure.prototype.handle_figure_label = function(fig, msg) {\n",
       "    // Updates the figure title.\n",
       "    fig.header.textContent = msg['label'];\n",
       "}\n",
       "\n",
       "mpl.figure.prototype.handle_cursor = function(fig, msg) {\n",
       "    var cursor = msg['cursor'];\n",
       "    switch(cursor)\n",
       "    {\n",
       "    case 0:\n",
       "        cursor = 'pointer';\n",
       "        break;\n",
       "    case 1:\n",
       "        cursor = 'default';\n",
       "        break;\n",
       "    case 2:\n",
       "        cursor = 'crosshair';\n",
       "        break;\n",
       "    case 3:\n",
       "        cursor = 'move';\n",
       "        break;\n",
       "    }\n",
       "    fig.rubberband_canvas.style.cursor = cursor;\n",
       "}\n",
       "\n",
       "mpl.figure.prototype.handle_message = function(fig, msg) {\n",
       "    fig.message.textContent = msg['message'];\n",
       "}\n",
       "\n",
       "mpl.figure.prototype.handle_draw = function(fig, msg) {\n",
       "    // Request the server to send over a new figure.\n",
       "    fig.send_draw_message();\n",
       "}\n",
       "\n",
       "mpl.figure.prototype.handle_image_mode = function(fig, msg) {\n",
       "    fig.image_mode = msg['mode'];\n",
       "}\n",
       "\n",
       "mpl.figure.prototype.updated_canvas_event = function() {\n",
       "    // Called whenever the canvas gets updated.\n",
       "    this.send_message(\"ack\", {});\n",
       "}\n",
       "\n",
       "// A function to construct a web socket function for onmessage handling.\n",
       "// Called in the figure constructor.\n",
       "mpl.figure.prototype._make_on_message_function = function(fig) {\n",
       "    return function socket_on_message(evt) {\n",
       "        if (evt.data instanceof Blob) {\n",
       "            /* FIXME: We get \"Resource interpreted as Image but\n",
       "             * transferred with MIME type text/plain:\" errors on\n",
       "             * Chrome.  But how to set the MIME type?  It doesn't seem\n",
       "             * to be part of the websocket stream */\n",
       "            evt.data.type = \"image/png\";\n",
       "\n",
       "            /* Free the memory for the previous frames */\n",
       "            if (fig.imageObj.src) {\n",
       "                (window.URL || window.webkitURL).revokeObjectURL(\n",
       "                    fig.imageObj.src);\n",
       "            }\n",
       "\n",
       "            fig.imageObj.src = (window.URL || window.webkitURL).createObjectURL(\n",
       "                evt.data);\n",
       "            fig.updated_canvas_event();\n",
       "            fig.waiting = false;\n",
       "            return;\n",
       "        }\n",
       "        else if (typeof evt.data === 'string' && evt.data.slice(0, 21) == \"data:image/png;base64\") {\n",
       "            fig.imageObj.src = evt.data;\n",
       "            fig.updated_canvas_event();\n",
       "            fig.waiting = false;\n",
       "            return;\n",
       "        }\n",
       "\n",
       "        var msg = JSON.parse(evt.data);\n",
       "        var msg_type = msg['type'];\n",
       "\n",
       "        // Call the  \"handle_{type}\" callback, which takes\n",
       "        // the figure and JSON message as its only arguments.\n",
       "        try {\n",
       "            var callback = fig[\"handle_\" + msg_type];\n",
       "        } catch (e) {\n",
       "            console.log(\"No handler for the '\" + msg_type + \"' message type: \", msg);\n",
       "            return;\n",
       "        }\n",
       "\n",
       "        if (callback) {\n",
       "            try {\n",
       "                // console.log(\"Handling '\" + msg_type + \"' message: \", msg);\n",
       "                callback(fig, msg);\n",
       "            } catch (e) {\n",
       "                console.log(\"Exception inside the 'handler_\" + msg_type + \"' callback:\", e, e.stack, msg);\n",
       "            }\n",
       "        }\n",
       "    };\n",
       "}\n",
       "\n",
       "// from http://stackoverflow.com/questions/1114465/getting-mouse-location-in-canvas\n",
       "mpl.findpos = function(e) {\n",
       "    //this section is from http://www.quirksmode.org/js/events_properties.html\n",
       "    var targ;\n",
       "    if (!e)\n",
       "        e = window.event;\n",
       "    if (e.target)\n",
       "        targ = e.target;\n",
       "    else if (e.srcElement)\n",
       "        targ = e.srcElement;\n",
       "    if (targ.nodeType == 3) // defeat Safari bug\n",
       "        targ = targ.parentNode;\n",
       "\n",
       "    // jQuery normalizes the pageX and pageY\n",
       "    // pageX,Y are the mouse positions relative to the document\n",
       "    // offset() returns the position of the element relative to the document\n",
       "    var x = e.pageX - $(targ).offset().left;\n",
       "    var y = e.pageY - $(targ).offset().top;\n",
       "\n",
       "    return {\"x\": x, \"y\": y};\n",
       "};\n",
       "\n",
       "/*\n",
       " * return a copy of an object with only non-object keys\n",
       " * we need this to avoid circular references\n",
       " * http://stackoverflow.com/a/24161582/3208463\n",
       " */\n",
       "function simpleKeys (original) {\n",
       "  return Object.keys(original).reduce(function (obj, key) {\n",
       "    if (typeof original[key] !== 'object')\n",
       "        obj[key] = original[key]\n",
       "    return obj;\n",
       "  }, {});\n",
       "}\n",
       "\n",
       "mpl.figure.prototype.mouse_event = function(event, name) {\n",
       "    var canvas_pos = mpl.findpos(event)\n",
       "\n",
       "    if (name === 'button_press')\n",
       "    {\n",
       "        this.canvas.focus();\n",
       "        this.canvas_div.focus();\n",
       "    }\n",
       "\n",
       "    var x = canvas_pos.x;\n",
       "    var y = canvas_pos.y;\n",
       "\n",
       "    this.send_message(name, {x: x, y: y, button: event.button,\n",
       "                             step: event.step,\n",
       "                             guiEvent: simpleKeys(event)});\n",
       "\n",
       "    /* This prevents the web browser from automatically changing to\n",
       "     * the text insertion cursor when the button is pressed.  We want\n",
       "     * to control all of the cursor setting manually through the\n",
       "     * 'cursor' event from matplotlib */\n",
       "    event.preventDefault();\n",
       "    return false;\n",
       "}\n",
       "\n",
       "mpl.figure.prototype._key_event_extra = function(event, name) {\n",
       "    // Handle any extra behaviour associated with a key event\n",
       "}\n",
       "\n",
       "mpl.figure.prototype.key_event = function(event, name) {\n",
       "\n",
       "    // Prevent repeat events\n",
       "    if (name == 'key_press')\n",
       "    {\n",
       "        if (event.which === this._key)\n",
       "            return;\n",
       "        else\n",
       "            this._key = event.which;\n",
       "    }\n",
       "    if (name == 'key_release')\n",
       "        this._key = null;\n",
       "\n",
       "    var value = '';\n",
       "    if (event.ctrlKey && event.which != 17)\n",
       "        value += \"ctrl+\";\n",
       "    if (event.altKey && event.which != 18)\n",
       "        value += \"alt+\";\n",
       "    if (event.shiftKey && event.which != 16)\n",
       "        value += \"shift+\";\n",
       "\n",
       "    value += 'k';\n",
       "    value += event.which.toString();\n",
       "\n",
       "    this._key_event_extra(event, name);\n",
       "\n",
       "    this.send_message(name, {key: value,\n",
       "                             guiEvent: simpleKeys(event)});\n",
       "    return false;\n",
       "}\n",
       "\n",
       "mpl.figure.prototype.toolbar_button_onclick = function(name) {\n",
       "    if (name == 'download') {\n",
       "        this.handle_save(this, null);\n",
       "    } else {\n",
       "        this.send_message(\"toolbar_button\", {name: name});\n",
       "    }\n",
       "};\n",
       "\n",
       "mpl.figure.prototype.toolbar_button_onmouseover = function(tooltip) {\n",
       "    this.message.textContent = tooltip;\n",
       "};\n",
       "mpl.toolbar_items = [[\"Home\", \"Reset original view\", \"fa fa-home icon-home\", \"home\"], [\"Back\", \"Back to  previous view\", \"fa fa-arrow-left icon-arrow-left\", \"back\"], [\"Forward\", \"Forward to next view\", \"fa fa-arrow-right icon-arrow-right\", \"forward\"], [\"\", \"\", \"\", \"\"], [\"Pan\", \"Pan axes with left mouse, zoom with right\", \"fa fa-arrows icon-move\", \"pan\"], [\"Zoom\", \"Zoom to rectangle\", \"fa fa-square-o icon-check-empty\", \"zoom\"], [\"\", \"\", \"\", \"\"], [\"Download\", \"Download plot\", \"fa fa-floppy-o icon-save\", \"download\"]];\n",
       "\n",
       "mpl.extensions = [\"eps\", \"pdf\", \"png\", \"ps\", \"raw\", \"svg\"];\n",
       "\n",
       "mpl.default_extension = \"png\";var comm_websocket_adapter = function(comm) {\n",
       "    // Create a \"websocket\"-like object which calls the given IPython comm\n",
       "    // object with the appropriate methods. Currently this is a non binary\n",
       "    // socket, so there is still some room for performance tuning.\n",
       "    var ws = {};\n",
       "\n",
       "    ws.close = function() {\n",
       "        comm.close()\n",
       "    };\n",
       "    ws.send = function(m) {\n",
       "        //console.log('sending', m);\n",
       "        comm.send(m);\n",
       "    };\n",
       "    // Register the callback with on_msg.\n",
       "    comm.on_msg(function(msg) {\n",
       "        //console.log('receiving', msg['content']['data'], msg);\n",
       "        // Pass the mpl event to the overriden (by mpl) onmessage function.\n",
       "        ws.onmessage(msg['content']['data'])\n",
       "    });\n",
       "    return ws;\n",
       "}\n",
       "\n",
       "mpl.mpl_figure_comm = function(comm, msg) {\n",
       "    // This is the function which gets called when the mpl process\n",
       "    // starts-up an IPython Comm through the \"matplotlib\" channel.\n",
       "\n",
       "    var id = msg.content.data.id;\n",
       "    // Get hold of the div created by the display call when the Comm\n",
       "    // socket was opened in Python.\n",
       "    var element = $(\"#\" + id);\n",
       "    var ws_proxy = comm_websocket_adapter(comm)\n",
       "\n",
       "    function ondownload(figure, format) {\n",
       "        window.open(figure.imageObj.src);\n",
       "    }\n",
       "\n",
       "    var fig = new mpl.figure(id, ws_proxy,\n",
       "                           ondownload,\n",
       "                           element.get(0));\n",
       "\n",
       "    // Call onopen now - mpl needs it, as it is assuming we've passed it a real\n",
       "    // web socket which is closed, not our websocket->open comm proxy.\n",
       "    ws_proxy.onopen();\n",
       "\n",
       "    fig.parent_element = element.get(0);\n",
       "    fig.cell_info = mpl.find_output_cell(\"<div id='\" + id + \"'></div>\");\n",
       "    if (!fig.cell_info) {\n",
       "        console.error(\"Failed to find cell for figure\", id, fig);\n",
       "        return;\n",
       "    }\n",
       "\n",
       "    var output_index = fig.cell_info[2]\n",
       "    var cell = fig.cell_info[0];\n",
       "\n",
       "};\n",
       "\n",
       "mpl.figure.prototype.handle_close = function(fig, msg) {\n",
       "    fig.root.unbind('remove')\n",
       "\n",
       "    // Update the output cell to use the data from the current canvas.\n",
       "    fig.push_to_output();\n",
       "    var dataURL = fig.canvas.toDataURL();\n",
       "    // Re-enable the keyboard manager in IPython - without this line, in FF,\n",
       "    // the notebook keyboard shortcuts fail.\n",
       "    IPython.keyboard_manager.enable()\n",
       "    $(fig.parent_element).html('<img src=\"' + dataURL + '\">');\n",
       "    fig.close_ws(fig, msg);\n",
       "}\n",
       "\n",
       "mpl.figure.prototype.close_ws = function(fig, msg){\n",
       "    fig.send_message('closing', msg);\n",
       "    // fig.ws.close()\n",
       "}\n",
       "\n",
       "mpl.figure.prototype.push_to_output = function(remove_interactive) {\n",
       "    // Turn the data on the canvas into data in the output cell.\n",
       "    var dataURL = this.canvas.toDataURL();\n",
       "    this.cell_info[1]['text/html'] = '<img src=\"' + dataURL + '\">';\n",
       "}\n",
       "\n",
       "mpl.figure.prototype.updated_canvas_event = function() {\n",
       "    // Tell IPython that the notebook contents must change.\n",
       "    IPython.notebook.set_dirty(true);\n",
       "    this.send_message(\"ack\", {});\n",
       "    var fig = this;\n",
       "    // Wait a second, then push the new image to the DOM so\n",
       "    // that it is saved nicely (might be nice to debounce this).\n",
       "    setTimeout(function () { fig.push_to_output() }, 1000);\n",
       "}\n",
       "\n",
       "mpl.figure.prototype._init_toolbar = function() {\n",
       "    var fig = this;\n",
       "\n",
       "    var nav_element = $('<div/>')\n",
       "    nav_element.attr('style', 'width: 100%');\n",
       "    this.root.append(nav_element);\n",
       "\n",
       "    // Define a callback function for later on.\n",
       "    function toolbar_event(event) {\n",
       "        return fig.toolbar_button_onclick(event['data']);\n",
       "    }\n",
       "    function toolbar_mouse_event(event) {\n",
       "        return fig.toolbar_button_onmouseover(event['data']);\n",
       "    }\n",
       "\n",
       "    for(var toolbar_ind in mpl.toolbar_items){\n",
       "        var name = mpl.toolbar_items[toolbar_ind][0];\n",
       "        var tooltip = mpl.toolbar_items[toolbar_ind][1];\n",
       "        var image = mpl.toolbar_items[toolbar_ind][2];\n",
       "        var method_name = mpl.toolbar_items[toolbar_ind][3];\n",
       "\n",
       "        if (!name) { continue; };\n",
       "\n",
       "        var button = $('<button class=\"btn btn-default\" href=\"#\" title=\"' + name + '\"><i class=\"fa ' + image + ' fa-lg\"></i></button>');\n",
       "        button.click(method_name, toolbar_event);\n",
       "        button.mouseover(tooltip, toolbar_mouse_event);\n",
       "        nav_element.append(button);\n",
       "    }\n",
       "\n",
       "    // Add the status bar.\n",
       "    var status_bar = $('<span class=\"mpl-message\" style=\"text-align:right; float: right;\"/>');\n",
       "    nav_element.append(status_bar);\n",
       "    this.message = status_bar[0];\n",
       "\n",
       "    // Add the close button to the window.\n",
       "    var buttongrp = $('<div class=\"btn-group inline pull-right\"></div>');\n",
       "    var button = $('<button class=\"btn btn-mini btn-primary\" href=\"#\" title=\"Stop Interaction\"><i class=\"fa fa-power-off icon-remove icon-large\"></i></button>');\n",
       "    button.click(function (evt) { fig.handle_close(fig, {}); } );\n",
       "    button.mouseover('Stop Interaction', toolbar_mouse_event);\n",
       "    buttongrp.append(button);\n",
       "    var titlebar = this.root.find($('.ui-dialog-titlebar'));\n",
       "    titlebar.prepend(buttongrp);\n",
       "}\n",
       "\n",
       "mpl.figure.prototype._root_extra_style = function(el){\n",
       "    var fig = this\n",
       "    el.on(\"remove\", function(){\n",
       "\tfig.close_ws(fig, {});\n",
       "    });\n",
       "}\n",
       "\n",
       "mpl.figure.prototype._canvas_extra_style = function(el){\n",
       "    // this is important to make the div 'focusable\n",
       "    el.attr('tabindex', 0)\n",
       "    // reach out to IPython and tell the keyboard manager to turn it's self\n",
       "    // off when our div gets focus\n",
       "\n",
       "    // location in version 3\n",
       "    if (IPython.notebook.keyboard_manager) {\n",
       "        IPython.notebook.keyboard_manager.register_events(el);\n",
       "    }\n",
       "    else {\n",
       "        // location in version 2\n",
       "        IPython.keyboard_manager.register_events(el);\n",
       "    }\n",
       "\n",
       "}\n",
       "\n",
       "mpl.figure.prototype._key_event_extra = function(event, name) {\n",
       "    var manager = IPython.notebook.keyboard_manager;\n",
       "    if (!manager)\n",
       "        manager = IPython.keyboard_manager;\n",
       "\n",
       "    // Check for shift+enter\n",
       "    if (event.shiftKey && event.which == 13) {\n",
       "        this.canvas_div.blur();\n",
       "        event.shiftKey = false;\n",
       "        // Send a \"J\" for go to next cell\n",
       "        event.which = 74;\n",
       "        event.keyCode = 74;\n",
       "        manager.command_mode();\n",
       "        manager.handle_keydown(event);\n",
       "    }\n",
       "}\n",
       "\n",
       "mpl.figure.prototype.handle_save = function(fig, msg) {\n",
       "    fig.ondownload(fig, null);\n",
       "}\n",
       "\n",
       "\n",
       "mpl.find_output_cell = function(html_output) {\n",
       "    // Return the cell and output element which can be found *uniquely* in the notebook.\n",
       "    // Note - this is a bit hacky, but it is done because the \"notebook_saving.Notebook\"\n",
       "    // IPython event is triggered only after the cells have been serialised, which for\n",
       "    // our purposes (turning an active figure into a static one), is too late.\n",
       "    var cells = IPython.notebook.get_cells();\n",
       "    var ncells = cells.length;\n",
       "    for (var i=0; i<ncells; i++) {\n",
       "        var cell = cells[i];\n",
       "        if (cell.cell_type === 'code'){\n",
       "            for (var j=0; j<cell.output_area.outputs.length; j++) {\n",
       "                var data = cell.output_area.outputs[j];\n",
       "                if (data.data) {\n",
       "                    // IPython >= 3 moved mimebundle to data attribute of output\n",
       "                    data = data.data;\n",
       "                }\n",
       "                if (data['text/html'] == html_output) {\n",
       "                    return [cell, data, j];\n",
       "                }\n",
       "            }\n",
       "        }\n",
       "    }\n",
       "}\n",
       "\n",
       "// Register the function which deals with the matplotlib target/channel.\n",
       "// The kernel may be null if the page has been refreshed.\n",
       "if (IPython.notebook.kernel != null) {\n",
       "    IPython.notebook.kernel.comm_manager.register_target('matplotlib', mpl.mpl_figure_comm);\n",
       "}\n"
      ],
      "text/plain": [
       "<IPython.core.display.Javascript object>"
      ]
     },
     "metadata": {},
     "output_type": "display_data"
    },
    {
     "data": {
      "text/html": [
       "<img src=\"data:image/png;base64,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\">"
      ],
      "text/plain": [
       "<IPython.core.display.HTML object>"
      ]
     },
     "metadata": {},
     "output_type": "display_data"
    },
    {
     "name": "stdout",
     "output_type": "stream",
     "text": [
      "Epoch 1/200\n",
      "253952/254767 [============================>.] - ETA: 0s - loss: 0.3400"
     ]
    },
    {
     "name": "stderr",
     "output_type": "stream",
     "text": [
      "2017-03-27 17:32:58,939 : INFO : Found lower val loss for epoch 1 => 0.33934\n"
     ]
    },
    {
     "name": "stdout",
     "output_type": "stream",
     "text": [
      "254767/254767 [==============================] - 141s - loss: 0.3398 - val_loss: 0.3393\n",
      "Epoch 2/200\n",
      "253952/254767 [============================>.] - ETA: 0s - loss: 0.2747"
     ]
    },
    {
     "name": "stderr",
     "output_type": "stream",
     "text": [
      "2017-03-27 17:35:31,370 : INFO : Found lower val loss for epoch 2 => 0.27366\n"
     ]
    },
    {
     "name": "stdout",
     "output_type": "stream",
     "text": [
      "254767/254767 [==============================] - 152s - loss: 0.2747 - val_loss: 0.2737\n",
      "Epoch 3/200\n",
      "253952/254767 [============================>.] - ETA: 0s - loss: 0.2522"
     ]
    },
    {
     "name": "stderr",
     "output_type": "stream",
     "text": [
      "2017-03-27 17:38:05,487 : INFO : Found lower val loss for epoch 3 => 0.26662\n"
     ]
    },
    {
     "name": "stdout",
     "output_type": "stream",
     "text": [
      "254767/254767 [==============================] - 154s - loss: 0.2521 - val_loss: 0.2666\n",
      "Epoch 4/200\n",
      "253952/254767 [============================>.] - ETA: 0s - loss: 0.2379"
     ]
    },
    {
     "name": "stderr",
     "output_type": "stream",
     "text": [
      "2017-03-27 17:40:41,491 : INFO : Found lower val loss for epoch 4 => 0.24789\n"
     ]
    },
    {
     "name": "stdout",
     "output_type": "stream",
     "text": [
      "254767/254767 [==============================] - 156s - loss: 0.2378 - val_loss: 0.2479\n",
      "Epoch 5/200\n",
      "253952/254767 [============================>.] - ETA: 0s - loss: 0.2279"
     ]
    },
    {
     "name": "stderr",
     "output_type": "stream",
     "text": [
      "2017-03-27 17:43:18,012 : INFO : Found lower val loss for epoch 5 => 0.24573\n"
     ]
    },
    {
     "name": "stdout",
     "output_type": "stream",
     "text": [
      "254767/254767 [==============================] - 156s - loss: 0.2279 - val_loss: 0.2457\n",
      "Epoch 6/200\n",
      "253952/254767 [============================>.] - ETA: 0s - loss: 0.2205"
     ]
    },
    {
     "name": "stderr",
     "output_type": "stream",
     "text": [
      "2017-03-27 17:45:52,684 : INFO : Found lower val loss for epoch 6 => 0.24156\n"
     ]
    },
    {
     "name": "stdout",
     "output_type": "stream",
     "text": [
      "254767/254767 [==============================] - 154s - loss: 0.2205 - val_loss: 0.2416\n",
      "Epoch 7/200\n",
      "253952/254767 [============================>.] - ETA: 0s - loss: 0.2142"
     ]
    },
    {
     "name": "stderr",
     "output_type": "stream",
     "text": [
      "2017-03-27 17:48:27,781 : INFO : Found lower val loss for epoch 7 => 0.22862\n"
     ]
    },
    {
     "name": "stdout",
     "output_type": "stream",
     "text": [
      "254767/254767 [==============================] - 155s - loss: 0.2142 - val_loss: 0.2286\n",
      "Epoch 8/200\n",
      "253952/254767 [============================>.] - ETA: 0s - loss: 0.2087"
     ]
    },
    {
     "name": "stderr",
     "output_type": "stream",
     "text": [
      "2017-03-27 17:51:02,174 : INFO : Found lower val loss for epoch 8 => 0.22425\n"
     ]
    },
    {
     "name": "stdout",
     "output_type": "stream",
     "text": [
      "254767/254767 [==============================] - 154s - loss: 0.2087 - val_loss: 0.2243\n",
      "Epoch 9/200\n",
      "253952/254767 [============================>.] - ETA: 0s - loss: 0.2040"
     ]
    },
    {
     "name": "stderr",
     "output_type": "stream",
     "text": [
      "2017-03-27 17:53:35,980 : INFO : Found lower val loss for epoch 9 => 0.21747\n"
     ]
    },
    {
     "name": "stdout",
     "output_type": "stream",
     "text": [
      "254767/254767 [==============================] - 153s - loss: 0.2040 - val_loss: 0.2175\n",
      "Epoch 10/200\n",
      "253952/254767 [============================>.] - ETA: 0s - loss: 0.2002"
     ]
    },
    {
     "name": "stderr",
     "output_type": "stream",
     "text": [
      "2017-03-27 17:56:10,454 : INFO : Found lower val loss for epoch 10 => 0.21663\n",
      "2017-03-27 17:56:10,455 : INFO : Validation Loss Reduced 10 times\n",
      "2017-03-27 17:56:10,456 : INFO : Evaluating on Validation Data\n",
      "2017-03-27 17:57:12,141 : INFO : Generating Validation Metrics\n"
     ]
    },
    {
     "name": "stdout",
     "output_type": "stream",
     "text": [
      "****** Validation Metrics: Cov Err: 1.688 | Top 3: 0.939 | Top 5: 0.989 | F1 Micro: 0.682 | F1 Macro: 0.613\n",
      "254767/254767 [==============================] - 217s - loss: 0.2002 - val_loss: 0.2166\n",
      "Epoch 11/200\n",
      "253952/254767 [============================>.] - ETA: 0s - loss: 0.1960"
     ]
    },
    {
     "name": "stderr",
     "output_type": "stream",
     "text": [
      "2017-03-27 17:59:42,239 : INFO : Found lower val loss for epoch 11 => 0.21168\n"
     ]
    },
    {
     "name": "stdout",
     "output_type": "stream",
     "text": [
      "254767/254767 [==============================] - 148s - loss: 0.1960 - val_loss: 0.2117\n",
      "Epoch 12/200\n",
      "253952/254767 [============================>.] - ETA: 0s - loss: 0.1930"
     ]
    },
    {
     "name": "stderr",
     "output_type": "stream",
     "text": [
      "2017-03-27 18:02:11,651 : INFO : Found lower val loss for epoch 12 => 0.21163\n"
     ]
    },
    {
     "name": "stdout",
     "output_type": "stream",
     "text": [
      "254767/254767 [==============================] - 149s - loss: 0.1930 - val_loss: 0.2116\n",
      "Epoch 13/200\n",
      "254767/254767 [==============================] - 149s - loss: 0.1898 - val_loss: 0.2138\n",
      "Epoch 14/200\n",
      "253952/254767 [============================>.] - ETA: 0s - loss: 0.1874"
     ]
    },
    {
     "name": "stderr",
     "output_type": "stream",
     "text": [
      "2017-03-27 18:07:09,646 : INFO : Found lower val loss for epoch 14 => 0.20486\n"
     ]
    },
    {
     "name": "stdout",
     "output_type": "stream",
     "text": [
      "254767/254767 [==============================] - 148s - loss: 0.1874 - val_loss: 0.2049\n",
      "Epoch 15/200\n",
      "254767/254767 [==============================] - 149s - loss: 0.1854 - val_loss: 0.2053\n",
      "Epoch 16/200\n",
      "253952/254767 [============================>.] - ETA: 0s - loss: 0.1829"
     ]
    },
    {
     "name": "stderr",
     "output_type": "stream",
     "text": [
      "2017-03-27 18:12:09,010 : INFO : Found lower val loss for epoch 16 => 0.20338\n"
     ]
    },
    {
     "name": "stdout",
     "output_type": "stream",
     "text": [
      "254767/254767 [==============================] - 149s - loss: 0.1829 - val_loss: 0.2034\n",
      "Epoch 17/200\n",
      "254767/254767 [==============================] - 150s - loss: 0.1812 - val_loss: 0.2041\n",
      "Epoch 18/200\n",
      "253952/254767 [============================>.] - ETA: 0s - loss: 0.1794"
     ]
    },
    {
     "name": "stderr",
     "output_type": "stream",
     "text": [
      "2017-03-27 18:17:10,265 : INFO : Found lower val loss for epoch 18 => 0.20152\n"
     ]
    },
    {
     "name": "stdout",
     "output_type": "stream",
     "text": [
      "254767/254767 [==============================] - 151s - loss: 0.1794 - val_loss: 0.2015\n",
      "Epoch 19/200\n",
      "253952/254767 [============================>.] - ETA: 0s - loss: 0.1776"
     ]
    },
    {
     "name": "stderr",
     "output_type": "stream",
     "text": [
      "2017-03-27 18:19:39,129 : INFO : Found lower val loss for epoch 19 => 0.20045\n"
     ]
    },
    {
     "name": "stdout",
     "output_type": "stream",
     "text": [
      "254767/254767 [==============================] - 148s - loss: 0.1777 - val_loss: 0.2004\n",
      "Epoch 20/200\n",
      "254767/254767 [==============================] - 148s - loss: 0.1760 - val_loss: 0.2029\n",
      "Epoch 21/200\n",
      "253952/254767 [============================>.] - ETA: 0s - loss: 0.1747"
     ]
    },
    {
     "name": "stderr",
     "output_type": "stream",
     "text": [
      "2017-03-27 18:24:35,805 : INFO : Found lower val loss for epoch 21 => 0.20034\n"
     ]
    },
    {
     "name": "stdout",
     "output_type": "stream",
     "text": [
      "254767/254767 [==============================] - 148s - loss: 0.1747 - val_loss: 0.2003\n",
      "Epoch 22/200\n",
      "253952/254767 [============================>.] - ETA: 0s - loss: 0.1736"
     ]
    },
    {
     "name": "stderr",
     "output_type": "stream",
     "text": [
      "2017-03-27 18:27:04,408 : INFO : Found lower val loss for epoch 22 => 0.19821\n"
     ]
    },
    {
     "name": "stdout",
     "output_type": "stream",
     "text": [
      "254767/254767 [==============================] - 148s - loss: 0.1736 - val_loss: 0.1982\n",
      "Epoch 23/200\n",
      "253952/254767 [============================>.] - ETA: 0s - loss: 0.1722"
     ]
    },
    {
     "name": "stderr",
     "output_type": "stream",
     "text": [
      "2017-03-27 18:29:33,534 : INFO : Found lower val loss for epoch 23 => 0.19776\n"
     ]
    },
    {
     "name": "stdout",
     "output_type": "stream",
     "text": [
      "254767/254767 [==============================] - 149s - loss: 0.1722 - val_loss: 0.1978\n",
      "Epoch 24/200\n",
      "253952/254767 [============================>.] - ETA: 0s - loss: 0.1711"
     ]
    },
    {
     "name": "stderr",
     "output_type": "stream",
     "text": [
      "2017-03-27 18:32:01,758 : INFO : Found lower val loss for epoch 24 => 0.19142\n",
      "2017-03-27 18:32:01,759 : INFO : Validation Loss Reduced 20 times\n",
      "2017-03-27 18:32:01,760 : INFO : Evaluating on Validation Data\n",
      "2017-03-27 18:33:02,598 : INFO : Generating Validation Metrics\n"
     ]
    },
    {
     "name": "stdout",
     "output_type": "stream",
     "text": [
      "****** Validation Metrics: Cov Err: 1.570 | Top 3: 0.957 | Top 5: 0.993 | F1 Micro: 0.727 | F1 Macro: 0.660\n",
      "254767/254767 [==============================] - 210s - loss: 0.1711 - val_loss: 0.1914\n",
      "Epoch 25/200\n",
      "254767/254767 [==============================] - 150s - loss: 0.1703 - val_loss: 0.1942\n",
      "Epoch 26/200\n",
      "254767/254767 [==============================] - 149s - loss: 0.1688 - val_loss: 0.1978\n",
      "Epoch 27/200\n",
      "254767/254767 [==============================] - 148s - loss: 0.1679 - val_loss: 0.1956\n",
      "Epoch 28/200\n",
      "254767/254767 [==============================] - 150s - loss: 0.1672 - val_loss: 0.1939\n",
      "Epoch 29/200\n",
      "254767/254767 [==============================] - 150s - loss: 0.1664 - val_loss: 0.1947\n",
      "Epoch 30/200\n",
      "254767/254767 [==============================] - 149s - loss: 0.1653 - val_loss: 0.1925\n",
      "Epoch 31/200\n",
      "254767/254767 [==============================] - 147s - loss: 0.1646 - val_loss: 0.1933\n",
      "Epoch 32/200\n",
      "254767/254767 [==============================] - 148s - loss: 0.1639 - val_loss: 0.1924\n",
      "Epoch 33/200\n",
      "254767/254767 [==============================] - 149s - loss: 0.1635 - val_loss: 0.1953\n",
      "Epoch 34/200\n",
      "253952/254767 [============================>.] - ETA: 0s - loss: 0.1624"
     ]
    },
    {
     "name": "stderr",
     "output_type": "stream",
     "text": [
      "2017-03-27 18:57:57,216 : INFO : Found lower val loss for epoch 34 => 0.19081\n"
     ]
    },
    {
     "name": "stdout",
     "output_type": "stream",
     "text": [
      "254767/254767 [==============================] - 148s - loss: 0.1624 - val_loss: 0.1908\n",
      "Epoch 35/200\n",
      "253952/254767 [============================>.] - ETA: 0s - loss: 0.1619"
     ]
    },
    {
     "name": "stderr",
     "output_type": "stream",
     "text": [
      "2017-03-27 19:00:26,562 : INFO : Found lower val loss for epoch 35 => 0.19016\n"
     ]
    },
    {
     "name": "stdout",
     "output_type": "stream",
     "text": [
      "254767/254767 [==============================] - 149s - loss: 0.1619 - val_loss: 0.1902\n",
      "Epoch 36/200\n",
      "253952/254767 [============================>.] - ETA: 0s - loss: 0.1613"
     ]
    },
    {
     "name": "stderr",
     "output_type": "stream",
     "text": [
      "2017-03-27 19:02:55,894 : INFO : Found lower val loss for epoch 36 => 0.18808\n"
     ]
    },
    {
     "name": "stdout",
     "output_type": "stream",
     "text": [
      "254767/254767 [==============================] - 149s - loss: 0.1612 - val_loss: 0.1881\n",
      "Epoch 37/200\n",
      "254767/254767 [==============================] - 148s - loss: 0.1606 - val_loss: 0.1921\n",
      "Epoch 38/200\n",
      "254767/254767 [==============================] - 148s - loss: 0.1599 - val_loss: 0.1890\n",
      "Epoch 39/200\n",
      "254767/254767 [==============================] - 149s - loss: 0.1594 - val_loss: 0.1903\n",
      "Epoch 40/200\n",
      "254767/254767 [==============================] - 149s - loss: 0.1587 - val_loss: 0.1893\n",
      "Epoch 41/200\n",
      "254767/254767 [==============================] - 149s - loss: 0.1578 - val_loss: 0.1886\n",
      "Epoch 42/200\n",
      "253952/254767 [============================>.] - ETA: 0s - loss: 0.1576"
     ]
    },
    {
     "name": "stderr",
     "output_type": "stream",
     "text": [
      "2017-03-27 19:17:51,020 : INFO : Found lower val loss for epoch 42 => 0.18571\n"
     ]
    },
    {
     "name": "stdout",
     "output_type": "stream",
     "text": [
      "254767/254767 [==============================] - 149s - loss: 0.1576 - val_loss: 0.1857\n",
      "Epoch 43/200\n",
      "254767/254767 [==============================] - 151s - loss: 0.1572 - val_loss: 0.1891\n",
      "Epoch 44/200\n",
      "254767/254767 [==============================] - 149s - loss: 0.1566 - val_loss: 0.1870\n",
      "Epoch 45/200\n",
      "254767/254767 [==============================] - 150s - loss: 0.1563 - val_loss: 0.1872\n",
      "Epoch 46/200\n",
      "253952/254767 [============================>.] - ETA: 0s - loss: 0.1556"
     ]
    },
    {
     "name": "stderr",
     "output_type": "stream",
     "text": [
      "2017-03-27 19:27:53,509 : INFO : Found lower val loss for epoch 46 => 0.18527\n"
     ]
    },
    {
     "name": "stdout",
     "output_type": "stream",
     "text": [
      "254767/254767 [==============================] - 150s - loss: 0.1556 - val_loss: 0.1853\n",
      "Epoch 47/200\n",
      "254767/254767 [==============================] - 149s - loss: 0.1553 - val_loss: 0.1873\n",
      "Epoch 48/200\n",
      "254767/254767 [==============================] - 152s - loss: 0.1548 - val_loss: 0.1907\n",
      "Epoch 49/200\n",
      "254767/254767 [==============================] - 163s - loss: 0.1544 - val_loss: 0.1880\n",
      "Epoch 50/200\n",
      "254767/254767 [==============================] - 168s - loss: 0.1538 - val_loss: 0.1862\n",
      "Epoch 51/200\n",
      "254767/254767 [==============================] - 166s - loss: 0.1538 - val_loss: 0.1882\n",
      "Epoch 52/200\n",
      "254767/254767 [==============================] - 166s - loss: 0.1531 - val_loss: 0.1859\n",
      "Epoch 53/200\n",
      "254767/254767 [==============================] - 165s - loss: 0.1527 - val_loss: 0.1859\n",
      "Epoch 54/200\n",
      "254767/254767 [==============================] - 167s - loss: 0.1528 - val_loss: 0.1864\n",
      "Epoch 55/200\n",
      "254767/254767 [==============================] - 166s - loss: 0.1520 - val_loss: 0.1855\n",
      "Epoch 56/200\n",
      "253952/254767 [============================>.] - ETA: 0s - loss: 0.1517"
     ]
    },
    {
     "name": "stderr",
     "output_type": "stream",
     "text": [
      "2017-03-27 19:55:07,822 : INFO : Found lower val loss for epoch 56 => 0.18485\n"
     ]
    },
    {
     "name": "stdout",
     "output_type": "stream",
     "text": [
      "254767/254767 [==============================] - 166s - loss: 0.1518 - val_loss: 0.1849\n",
      "Epoch 57/200\n",
      "254767/254767 [==============================] - 166s - loss: 0.1517 - val_loss: 0.1854\n",
      "Epoch 58/200\n",
      "254767/254767 [==============================] - 160s - loss: 0.1507 - val_loss: 0.1862\n",
      "Epoch 59/200\n",
      "254767/254767 [==============================] - 151s - loss: 0.1510 - val_loss: 0.1876\n",
      "Epoch 60/200\n",
      "254767/254767 [==============================] - 147s - loss: 0.1503 - val_loss: 0.1855\n",
      "Epoch 61/200\n",
      "254767/254767 [==============================] - 147s - loss: 0.1496 - val_loss: 0.1856\n",
      "Epoch 62/200\n",
      "254767/254767 [==============================] - 147s - loss: 0.1495 - val_loss: 0.1874\n",
      "Epoch 63/200\n",
      "254767/254767 [==============================] - 159s - loss: 0.1492 - val_loss: 0.1867\n",
      "Epoch 64/200\n",
      "254767/254767 [==============================] - 184s - loss: 0.1489 - val_loss: 0.1856\n",
      "Epoch 65/200\n",
      "254767/254767 [==============================] - 182s - loss: 0.1486 - val_loss: 0.1849\n",
      "Epoch 66/200\n",
      "254767/254767 [==============================] - 179s - loss: 0.1486 - val_loss: 0.1866\n",
      "Epoch 67/200\n",
      "254767/254767 [==============================] - 182s - loss: 0.1481 - val_loss: 0.1857\n",
      "Epoch 68/200\n",
      "253952/254767 [============================>.] - ETA: 0s - loss: 0.1478"
     ]
    },
    {
     "name": "stderr",
     "output_type": "stream",
     "text": [
      "2017-03-27 20:28:24,468 : INFO : Found lower val loss for epoch 68 => 0.18457\n"
     ]
    },
    {
     "name": "stdout",
     "output_type": "stream",
     "text": [
      "254767/254767 [==============================] - 185s - loss: 0.1478 - val_loss: 0.1846\n",
      "Epoch 69/200\n",
      "254767/254767 [==============================] - 181s - loss: 0.1473 - val_loss: 0.1877\n",
      "Epoch 70/200\n",
      "254767/254767 [==============================] - 184s - loss: 0.1474 - val_loss: 0.1871\n",
      "Epoch 71/200\n",
      "254767/254767 [==============================] - 166s - loss: 0.1469 - val_loss: 0.1871\n",
      "Epoch 72/200\n",
      "253952/254767 [============================>.] - ETA: 0s - loss: 0.1471"
     ]
    },
    {
     "name": "stderr",
     "output_type": "stream",
     "text": [
      "2017-03-27 20:39:46,788 : INFO : Found lower val loss for epoch 72 => 0.18378\n"
     ]
    },
    {
     "name": "stdout",
     "output_type": "stream",
     "text": [
      "254767/254767 [==============================] - 149s - loss: 0.1471 - val_loss: 0.1838\n",
      "Epoch 73/200\n",
      "254767/254767 [==============================] - 164s - loss: 0.1462 - val_loss: 0.1847\n",
      "Epoch 74/200\n",
      "254767/254767 [==============================] - 182s - loss: 0.1465 - val_loss: 0.1846\n",
      "Epoch 75/200\n",
      "254767/254767 [==============================] - 180s - loss: 0.1459 - val_loss: 0.1838\n",
      "Epoch 76/200\n",
      "254767/254767 [==============================] - 180s - loss: 0.1458 - val_loss: 0.1856\n",
      "Epoch 77/200\n",
      "254767/254767 [==============================] - 174s - loss: 0.1452 - val_loss: 0.1867\n",
      "Epoch 78/200\n",
      "254767/254767 [==============================] - 180s - loss: 0.1453 - val_loss: 0.1885\n",
      "Epoch 79/200\n",
      "253952/254767 [============================>.] - ETA: 0s - loss: 0.1453"
     ]
    },
    {
     "name": "stderr",
     "output_type": "stream",
     "text": [
      "2017-03-27 21:00:34,006 : INFO : Found lower val loss for epoch 79 => 0.18283\n"
     ]
    },
    {
     "name": "stdout",
     "output_type": "stream",
     "text": [
      "254767/254767 [==============================] - 183s - loss: 0.1454 - val_loss: 0.1828\n",
      "Epoch 80/200\n",
      "254767/254767 [==============================] - 182s - loss: 0.1449 - val_loss: 0.1831\n",
      "Epoch 81/200\n",
      "254767/254767 [==============================] - 182s - loss: 0.1448 - val_loss: 0.1849\n",
      "Epoch 82/200\n",
      "254767/254767 [==============================] - 181s - loss: 0.1445 - val_loss: 0.1885\n",
      "Epoch 83/200\n",
      "254767/254767 [==============================] - 181s - loss: 0.1441 - val_loss: 0.1853\n",
      "Epoch 84/200\n",
      "254767/254767 [==============================] - 181s - loss: 0.1438 - val_loss: 0.1861\n",
      "Epoch 85/200\n",
      "254767/254767 [==============================] - 168s - loss: 0.1438 - val_loss: 0.1865\n",
      "Epoch 86/200\n",
      "254767/254767 [==============================] - 151s - loss: 0.1435 - val_loss: 0.1841\n",
      "Epoch 87/200\n",
      "254767/254767 [==============================] - 148s - loss: 0.1433 - val_loss: 0.1849\n",
      "Epoch 88/200\n",
      "254767/254767 [==============================] - 148s - loss: 0.1431 - val_loss: 0.1883\n",
      "Epoch 89/200\n",
      "254767/254767 [==============================] - 147s - loss: 0.1430 - val_loss: 0.1862\n",
      "Epoch 90/200\n",
      "254767/254767 [==============================] - 158s - loss: 0.1427 - val_loss: 0.1859\n",
      "Epoch 91/200\n",
      "254767/254767 [==============================] - 166s - loss: 0.1429 - val_loss: 0.1842\n",
      "Epoch 92/200\n",
      "254767/254767 [==============================] - 165s - loss: 0.1426 - val_loss: 0.1852\n",
      "Epoch 93/200\n",
      "254767/254767 [==============================] - 166s - loss: 0.1423 - val_loss: 0.1842\n",
      "Epoch 94/200\n",
      "254767/254767 [==============================] - 165s - loss: 0.1420 - val_loss: 0.1865\n",
      "Epoch 95/200\n",
      "254767/254767 [==============================] - 166s - loss: 0.1419 - val_loss: 0.1849\n",
      "Epoch 00094: early stopping\n",
      "CPU times: user 1h 37min 37s, sys: 2h 25min 26s, total: 4h 3min 3s\n",
      "Wall time: 4h 14min 35s\n"
     ]
    },
    {
     "name": "stderr",
     "output_type": "stream",
     "text": [
      "2017-03-27 21:44:58,453 : INFO : Evaluating on Training Data\n",
      "2017-03-27 21:51:13,194 : INFO : Generating Training Metrics\n"
     ]
    },
    {
     "name": "stdout",
     "output_type": "stream",
     "text": [
      "****** Training Metrics: Cov Err: 1.416 | Top 3: 0.982 | Top 5: 0.998 | F1 Micro: 0.861 | F1 Macro: 0.820\n"
     ]
    },
    {
     "name": "stderr",
     "output_type": "stream",
     "text": [
      "2017-03-27 21:51:19,514 : INFO : Evaluating on Validation Data using saved best weights\n",
      "2017-03-27 21:52:50,093 : INFO : Generating Validation Metrics\n"
     ]
    },
    {
     "name": "stdout",
     "output_type": "stream",
     "text": [
      "****** Validation Metrics: Cov Err: 1.525 | Top 3: 0.962 | Top 5: 0.994 | F1 Micro: 0.746 | F1 Macro: 0.690\n"
     ]
    },
    {
     "name": "stderr",
     "output_type": "stream",
     "text": [
      "2017-03-27 21:52:52,066 : INFO : Loading Previous results from /mnt/data2/shalaby/nn_parameter_search_extended_abs_desc_claims_large_sample_chunks/doc2vec_size_200_w_2_type_dm_concat_0_mean_1_trainwords_0_hs_0_neg_10_vocabsize_None/epoch_8/lstm_sections_level_2_batch_1024_nn_parameter_searches.pkl\n"
     ]
    }
   ],
   "source": [
    "%matplotlib notebook\n",
    "\n",
    "# random search for parameters\n",
    "param_sampler = ParameterSampler({\n",
    "    'lstm_output_size':lstm_output_sizes,\n",
    "    'w_dropout':w_dropout_options,\n",
    "    'u_dropout':u_dropout_options,\n",
    "    'stack_layers':stack_layers_options,\n",
    "    'conv_size':conv_size_options,\n",
    "}, n_iter=NN_RANDOM_SEARCH_BUDGET, random_state=NN_PARAM_SAMPLE_SEED)\n",
    "\n",
    "# load previous finshed results so we dont redo them\n",
    "param_results_dict = {}\n",
    "if load_existing_results:\n",
    "    param_results_path = os.path.join(os.path.join(nn_parameter_search_location, GLOBAL_VARS.MODEL_NAME, \n",
    "                                       NN_PARAMETER_SEARCH_PREFIX.format(classifications_type, PARTS_LEVEL, NN_BATCH_SIZE)))\n",
    "    if os.path.exists(param_results_path):\n",
    "        info('Loading Previous results from {}'.format(param_results_path))\n",
    "        param_results_dict = pickle.load(open(param_results_path))\n",
    "    else:\n",
    "        info('No Previous results exist in {}'.format(param_results_path))\n",
    "        \n",
    "\n",
    "# create nn parameter search directory\n",
    "if not os.path.exists(os.path.join(nn_parameter_search_location, GLOBAL_VARS.MODEL_NAME)):\n",
    "    os.makedirs(os.path.join(nn_parameter_search_location, GLOBAL_VARS.MODEL_NAME))\n",
    "\n",
    "# for every parameter set picked by random search, use it to train the model and output the metrics\n",
    "for parameters in param_sampler:\n",
    "    start_time = time.time()\n",
    "    lstm_output_size = parameters['lstm_output_size']\n",
    "    w_dropout_do = parameters['w_dropout']\n",
    "    u_dropout_do = parameters['u_dropout']\n",
    "    stack_layers = parameters['stack_layers']\n",
    "    conv_size = parameters['conv_size']\n",
    "\n",
    "    GLOBAL_VARS.NN_MODEL_NAME = 'lstm_optimizer_{}_size_{}_w-drop_{}_u-drop_{}_stack_{}_conv_{}'.format(NN_OPTIMIZER,\n",
    "        lstm_output_size,  w_dropout_do, u_dropout_do, stack_layers, str(conv_size)\n",
    "    )\n",
    "\n",
    "    if GLOBAL_VARS.NN_MODEL_NAME in param_results_dict.keys() or GLOBAL_VARS.NN_MODEL_NAME in to_skip:\n",
    "        print \"skipping: {}\".format(GLOBAL_VARS.NN_MODEL_NAME)\n",
    "        continue\n",
    "\n",
    "    info('***************************************************************************************')\n",
    "    info(GLOBAL_VARS.NN_MODEL_NAME)\n",
    "\n",
    "    # creating the actual keras model\n",
    "    model = create_keras_rnn_model(DOC2VEC_SIZE, NN_OUTPUT_NEURONS, \n",
    "                                  lstm_output_size, w_dropout_do, u_dropout_do, stack_layers, conv_size)\n",
    "    model.summary()\n",
    "\n",
    "    # callbacks for early stopping and for generating validation metrics\n",
    "    early_stopper = keras.callbacks.EarlyStopping(monitor='val_loss', min_delta=EARLY_STOPPER_MIN_DELTA, \\\n",
    "                                                  patience=EARLY_STOPPER_PATIENCE, verbose=1, mode='auto')\n",
    "    metrics_callback = MetricsCallback()\n",
    "\n",
    "\n",
    "    # Model Fitting\n",
    "    %time history = model.fit(x=X, y=y, validation_data=(Xv,yv), batch_size=NN_BATCH_SIZE, \\\n",
    "                              nb_epoch=NN_MAX_EPOCHS, verbose=MODEL_VERBOSITY, \\\n",
    "                              callbacks=[early_stopper, metrics_callback])\n",
    "    \n",
    "    time.sleep(0.2)\n",
    "    info('Evaluating on Training Data')\n",
    "    yp = model.predict(X) # get raw probability for predicted labels\n",
    "    yp_binary = get_binary_0_5(yp) # use 0.5 as threshold for setting labels to 0 or 1\n",
    "    #print yvp\n",
    "    info('Generating Training Metrics')\n",
    "    training_metrics = get_metrics(y, yp, yp_binary)\n",
    "    print \"****** Training Metrics: Cov Err: {:.3f} | Top 3: {:.3f} | Top 5: {:.3f} | F1 Micro: {:.3f} | F1 Macro: {:.3f}\".format(\n",
    "    training_metrics['coverage_error'], training_metrics['top_3'], training_metrics['top_5'], \n",
    "    training_metrics['f1_micro'], training_metrics['f1_macro'])\n",
    "    \n",
    "    \n",
    "    time.sleep(0.2)\n",
    "    info('Evaluating on Validation Data using saved best weights')\n",
    "    model.set_weights(metrics_callback.best_weights)\n",
    "    yvp = model.predict(Xv) # get raw probability for predicted labels\n",
    "    yvp_binary = get_binary_0_5(yvp) # use 0.5 as threshold for setting labels to 0 or 1\n",
    "    #print yvp\n",
    "    info('Generating Validation Metrics')\n",
    "    validation_metrics = get_metrics(yv, yvp, yvp_binary)\n",
    "    print \"****** Validation Metrics: Cov Err: {:.3f} | Top 3: {:.3f} | Top 5: {:.3f} | F1 Micro: {:.3f} | F1 Macro: {:.3f}\".format(\n",
    "        validation_metrics['coverage_error'], validation_metrics['top_3'], validation_metrics['top_5'], \n",
    "        validation_metrics['f1_micro'], validation_metrics['f1_macro'])\n",
    "    best_validation_metrics = validation_metrics\n",
    "    \n",
    "    time.sleep(0.2)\n",
    "    param_results_dict[GLOBAL_VARS.NN_MODEL_NAME] = dict()\n",
    "    param_results_dict[GLOBAL_VARS.NN_MODEL_NAME]['best_validation_metrics'] = best_validation_metrics\n",
    "    param_results_dict[GLOBAL_VARS.NN_MODEL_NAME]['epochs'] = len(history.history['val_loss'])\n",
    "    param_results_dict[GLOBAL_VARS.NN_MODEL_NAME]['best_weights'] = metrics_callback.best_weights\n",
    "    param_results_dict[GLOBAL_VARS.NN_MODEL_NAME]['best_val_loss'] = metrics_callback.best_val_loss\n",
    "    param_results_dict[GLOBAL_VARS.NN_MODEL_NAME]['training_loss'] = metrics_callback.losses\n",
    "    param_results_dict[GLOBAL_VARS.NN_MODEL_NAME]['validation_loss'] = metrics_callback.val_losses\n",
    "\n",
    "    duration = time.time() - start_time\n",
    "    param_results_dict[GLOBAL_VARS.NN_MODEL_NAME]['duration'] =  duration\n",
    "\n",
    "    del history, metrics_callback, model\n",
    "\n",
    "if save_results:\n",
    "    if load_existing_results:\n",
    "        if os.path.exists(param_results_path):\n",
    "            info('Loading Previous results from {}'.format(param_results_path))\n",
    "            loaded_param_results_dict = pickle.load(open(param_results_path))\n",
    "            param_results_dict.update(loaded_param_results_dict)\n",
    "            \n",
    "    pickle.dump(param_results_dict, open(os.path.join(os.path.join(nn_parameter_search_location, GLOBAL_VARS.MODEL_NAME, \n",
    "                                                                   NN_PARAMETER_SEARCH_PREFIX.format(classifications_type, PARTS_LEVEL, NN_BATCH_SIZE))), 'w'))"
   ]
  },
  {
   "cell_type": "code",
   "execution_count": 50,
   "metadata": {
    "collapsed": false
   },
   "outputs": [
    {
     "data": {
      "text/plain": [
       "['lstm_optimizer_rmsprop_size_200_w-drop_0.4_u-drop_0.2',\n",
       " 'lstm_optimizer_adam_size_300_w-drop_0.2_u-drop_0.3',\n",
       " 'lstm_optimizer_adam_size_200_w-drop_0.3_u-drop_0.2',\n",
       " 'lstm_optimizer_adam_size_200_w-drop_0.2_u-drop_0.3',\n",
       " 'lstm_optimizer_adam_size_200_w-drop_0.2_u-drop_0.2',\n",
       " 'lstm_optimizer_rmsprop_size_200_w-drop_0.2_u-drop_0.4']"
      ]
     },
     "execution_count": 50,
     "metadata": {},
     "output_type": "execute_result"
    }
   ],
   "source": [
    "param_results_dict.keys()"
   ]
  },
  {
   "cell_type": "code",
   "execution_count": null,
   "metadata": {
    "collapsed": false
   },
   "outputs": [],
   "source": [
    "if load_existing_results:\n",
    "    if os.path.exists(param_results_path):\n",
    "        info('Loading Previous results from {}'.format(param_results_path))\n",
    "        loaded_param_results_dict = pickle.load(open(param_results_path))\n",
    "        param_results_dict.update(loaded_param_results_dict)\n",
    "\n",
    "    pickle.dump(param_results_dict, open(os.path.join(os.path.join(nn_parameter_search_location, GLOBAL_VARS.MODEL_NAME, \n",
    "                                                                   NN_PARAMETER_SEARCH_PREFIX.format(classifications_type, PARTS_LEVEL, NN_BATCH_SIZE))), 'w'))"
   ]
  },
  {
   "cell_type": "code",
   "execution_count": 60,
   "metadata": {
    "collapsed": true
   },
   "outputs": [],
   "source": [
    "pickle.dump(param_results_dict, open(os.path.join(os.path.join(nn_parameter_search_location, GLOBAL_VARS.MODEL_NAME, \n",
    "                                                                   NN_PARAMETER_SEARCH_PREFIX.format(classifications_type, PARTS_LEVEL, NN_BATCH_SIZE))), 'w'))"
   ]
  },
  {
   "cell_type": "code",
   "execution_count": 58,
   "metadata": {
    "collapsed": false
   },
   "outputs": [],
   "source": [
    "%xdel model\n",
    "import gc\n",
    "for i in range(3): gc.collect()"
   ]
  },
  {
   "cell_type": "code",
   "execution_count": 51,
   "metadata": {
    "collapsed": false
   },
   "outputs": [],
   "source": [
    "pickle.dump(param_results_dict, open(os.path.join(os.path.join(nn_parameter_search_location, GLOBAL_VARS.MODEL_NAME, \n",
    "                                                                   NN_PARAMETER_SEARCH_PREFIX.format(classifications_type, NN_BATCH_SIZE))), 'w'))"
   ]
  },
  {
   "cell_type": "code",
   "execution_count": 52,
   "metadata": {
    "collapsed": true
   },
   "outputs": [],
   "source": [
    "    # create nn parameter search directory\n",
    "    if not os.path.exists(os.path.join(nn_parameter_search_location, GLOBAL_VARS.MODEL_NAME)):\n",
    "        os.makedirs(os.path.join(nn_parameter_search_location, GLOBAL_VARS.MODEL_NAME))\n",
    "        "
   ]
  }
 ],
 "metadata": {
  "kernelspec": {
   "display_name": "Python 2",
   "language": "python",
   "name": "python2"
  },
  "language_info": {
   "codemirror_mode": {
    "name": "ipython",
    "version": 2
   },
   "file_extension": ".py",
   "mimetype": "text/x-python",
   "name": "python",
   "nbconvert_exporter": "python",
   "pygments_lexer": "ipython2",
   "version": "2.7.12"
  }
 },
 "nbformat": 4,
 "nbformat_minor": 0
}
